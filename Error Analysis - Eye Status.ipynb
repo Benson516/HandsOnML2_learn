{
 "cells": [
  {
   "cell_type": "code",
   "execution_count": 1,
   "id": "eda56eb0",
   "metadata": {},
   "outputs": [],
   "source": [
    "import numpy as np\n",
    "import os\n",
    "import csv\n",
    "import json\n",
    "#\n",
    "import matplotlib as mpl\n",
    "import matplotlib.pyplot as plt\n",
    "#\n",
    "from sklearn.metrics import confusion_matrix\n",
    "from sklearn.metrics import precision_score, recall_score\n",
    "from sklearn.metrics import f1_score"
   ]
  },
  {
   "cell_type": "code",
   "execution_count": 2,
   "id": "ad6ffb52",
   "metadata": {},
   "outputs": [
    {
     "name": "stdout",
     "output_type": "stream",
     "text": [
      "/home/benson516/m1_result_converter/S6_result_20210913_124113_LM2_v0.02_2/converted_results/eye_status_label_tri_state_relabeled.csv\n",
      "/home/benson516/m1_result_converter/S6_result_20210913_124113_LM2_v0.02_2/converted_results/S6_GT-C0-001-L1-V1.10.csv\n"
     ]
    }
   ],
   "source": [
    "# csv_root = '/home/benson516/m1_result_converter/S6_result_20210902_093738_new_eyeOpening_all/converted_results/'\n",
    "# # csv_label_file = 'eye_status_label_tri_state.csv'\n",
    "# csv_label_file = 'eye_status_label_tri_state_relabeled.csv'\n",
    "# csv_predict_file = 'calibrated_eyeOpening_20210902.csv'\n",
    "#\n",
    "# csv_root = '/home/benson516/m1_result_converter/S6_result_20210903_184310_new_eyeOpening_inner_product_IRv0.5/converted_results/'\n",
    "# # csv_label_file = 'eye_status_label_tri_state.csv'\n",
    "# csv_label_file = 'eye_status_label_tri_state_relabeled.csv'\n",
    "# csv_predict_file = 'S6_GT-C0-001-L1-V1.10.csv'\n",
    "#\n",
    "csv_root = '/home/benson516/m1_result_converter/S6_result_20210913_124113_LM2_v0.02_2/converted_results/'\n",
    "csv_label_file = 'eye_status_label_tri_state_relabeled.csv'\n",
    "csv_predict_file = 'S6_GT-C0-001-L1-V1.10.csv'\n",
    "\n",
    "\n",
    "csv_label_path = os.path.join(csv_root, csv_label_file)\n",
    "csv_predict_path = os.path.join(csv_root, csv_predict_file)\n",
    "print(csv_label_path)\n",
    "print(csv_predict_path)"
   ]
  },
  {
   "cell_type": "code",
   "execution_count": 3,
   "id": "ecf86fb7",
   "metadata": {},
   "outputs": [
    {
     "name": "stdout",
     "output_type": "stream",
     "text": [
      "5810\n",
      "5810\n"
     ]
    }
   ],
   "source": [
    "# Label\n",
    "label_left_list = list()\n",
    "label_right_list = list()\n",
    "with open(csv_label_path) as csvfile:\n",
    "    reader = csv.DictReader(csvfile)\n",
    "    for row in reader:\n",
    "        # print(row[\"left\"])\n",
    "        label_left_list.append( int(row[\"left\"]) )\n",
    "        label_right_list.append( int(row[\"right\"]) )\n",
    "print(len(label_left_list))\n",
    "print(len(label_right_list))"
   ]
  },
  {
   "cell_type": "code",
   "execution_count": 4,
   "id": "d16d15b2",
   "metadata": {},
   "outputs": [
    {
     "name": "stdout",
     "output_type": "stream",
     "text": [
      "5810\n",
      "5810\n"
     ]
    }
   ],
   "source": [
    "# Predict: eyeOpening\n",
    "yv_left_list = list()\n",
    "yv_right_list = list()\n",
    "with open(csv_predict_path) as csvfile:\n",
    "    reader = csv.DictReader(csvfile)\n",
    "    for row in reader:\n",
    "        # print(row[\"leftEyelidOpening\"])\n",
    "        yv_left_list.append(  float(row[\"leftEyelidOpening\"]) )\n",
    "        yv_right_list.append( float(row[\"rightEyelidOpening\"]) )\n",
    "print(len(yv_left_list))\n",
    "print(len(yv_right_list))"
   ]
  },
  {
   "cell_type": "code",
   "execution_count": 5,
   "id": "b4b896a7",
   "metadata": {},
   "outputs": [],
   "source": [
    "# Filter the half-opening class\n",
    "keep_id_list_left  = [_idx for _idx in range(len(label_left_list)) if label_left_list[_idx] != 1]\n",
    "keep_id_list_right = [_idx for _idx in range(len(label_right_list)) if label_right_list[_idx] != 1]\n",
    "\n",
    "label_left_list  = [ _c for _idx, _c in enumerate(label_left_list) if _idx in keep_id_list_left]\n",
    "yv_left_list     = [ _v for _idx, _v in enumerate(yv_left_list) if _idx in keep_id_list_left]\n",
    "label_right_list = [ _c for _idx, _c in enumerate(label_right_list) if _idx in keep_id_list_right]\n",
    "yv_right_list    = [ _v for _idx, _v in enumerate(yv_right_list) if _idx in keep_id_list_right]"
   ]
  },
  {
   "cell_type": "code",
   "execution_count": 6,
   "id": "d45f1dc0",
   "metadata": {},
   "outputs": [],
   "source": [
    "label_left = np.array(label_left_list)\n",
    "label_right = np.array(label_right_list)\n",
    "yv_left = np.array(yv_left_list)\n",
    "yv_right = np.array(yv_right_list)\n",
    "#\n",
    "mono_data_size = len(yv_left_list)"
   ]
  },
  {
   "cell_type": "code",
   "execution_count": 7,
   "id": "4427daef",
   "metadata": {},
   "outputs": [],
   "source": [
    "# Combine left and right\n",
    "# label_class = np.array(label_left_list + label_right_list)\n",
    "# Open\n",
    "label_open = np.array(label_left_list + label_right_list) == 2\n",
    "yv_opening = np.array(yv_left_list + yv_right_list)\n",
    "# Close\n",
    "lebel_close = np.array(label_left_list + label_right_list) == 0\n",
    "yv_close = (-1) * np.array(yv_left_list + yv_right_list)"
   ]
  },
  {
   "cell_type": "markdown",
   "id": "a54e66e3",
   "metadata": {},
   "source": [
    "# Simple Prediction by Thresholding"
   ]
  },
  {
   "cell_type": "code",
   "execution_count": 8,
   "id": "b85893e9",
   "metadata": {},
   "outputs": [],
   "source": [
    "# The threshold\n",
    "v_threshold = 0.57 # 0.63 # 0.6 # 0.39"
   ]
  },
  {
   "cell_type": "code",
   "execution_count": 9,
   "id": "fadbcfec",
   "metadata": {},
   "outputs": [],
   "source": [
    "# Create class prediction\n",
    "yc_open = (yv_opening > v_threshold)\n",
    "yc_close = np.logical_not(yc_open)"
   ]
  },
  {
   "cell_type": "code",
   "execution_count": 10,
   "id": "96a37c70",
   "metadata": {},
   "outputs": [
    {
     "data": {
      "text/plain": [
       "array([[ 303,   42],\n",
       "       [  42, 9728]])"
      ]
     },
     "execution_count": 10,
     "metadata": {},
     "output_type": "execute_result"
    }
   ],
   "source": [
    "# Positive: Open\n",
    "confusion_matrix(label_open, yc_open)"
   ]
  },
  {
   "cell_type": "code",
   "execution_count": 11,
   "id": "13dd7a06",
   "metadata": {},
   "outputs": [
    {
     "name": "stdout",
     "output_type": "stream",
     "text": [
      "[[9728   42]\n",
      " [  42  303]]\n"
     ]
    }
   ],
   "source": [
    "# Positive: Close\n",
    "CM_close = confusion_matrix(lebel_close, yc_close)\n",
    "print(CM_close)"
   ]
  },
  {
   "cell_type": "code",
   "execution_count": 12,
   "id": "b1435f38",
   "metadata": {},
   "outputs": [],
   "source": [
    "# P: close\n",
    "TN = CM_close[0,0]\n",
    "TP = CM_close[1,1]\n",
    "FN = CM_close[1,0]\n",
    "FP = CM_close[0,1]"
   ]
  },
  {
   "cell_type": "code",
   "execution_count": 13,
   "id": "5dac2e1e",
   "metadata": {},
   "outputs": [
    {
     "data": {
      "text/plain": [
       "0.8782608695652174"
      ]
     },
     "execution_count": 13,
     "metadata": {},
     "output_type": "execute_result"
    }
   ],
   "source": [
    "precision_score(lebel_close, yc_close)"
   ]
  },
  {
   "cell_type": "code",
   "execution_count": 14,
   "id": "2aa74372",
   "metadata": {},
   "outputs": [
    {
     "data": {
      "text/plain": [
       "0.8782608695652174"
      ]
     },
     "execution_count": 14,
     "metadata": {},
     "output_type": "execute_result"
    }
   ],
   "source": [
    "recall_score(lebel_close, yc_close)"
   ]
  },
  {
   "cell_type": "code",
   "execution_count": 15,
   "id": "70dafa9f",
   "metadata": {},
   "outputs": [
    {
     "name": "stdout",
     "output_type": "stream",
     "text": [
      "0.004298874104401228\n"
     ]
    }
   ],
   "source": [
    "# False Positive Rate (FPR)\n",
    "FPR = FP / (FP + TN)\n",
    "print(FPR)"
   ]
  },
  {
   "cell_type": "code",
   "execution_count": 16,
   "id": "a93ce3f7",
   "metadata": {},
   "outputs": [
    {
     "name": "stdout",
     "output_type": "stream",
     "text": [
      "34\n",
      "[188, 372, 373, 506, 512, 513, 514, 1841, 1842, 2038, 3256, 3834, 3835, 3838, 3849, 3866, 4013, 4121, 4123, 4261, 4262, 4264, 4265, 4286, 4288, 4438, 4508, 4584, 4587, 4662, 4664, 4805, 4806, 4840]\n",
      "8\n",
      "[188, 3837, 4162, 4447, 4448, 4676, 4817, 4818]\n"
     ]
    }
   ],
   "source": [
    "# Close: Find FN elements\n",
    "FN_left_idx  = [_idx                    for _idx in range(lebel_close.shape[0]) if (lebel_close[_idx]) and (not yc_close[_idx]) and (_idx < mono_data_size)]\n",
    "FN_right_idx = [(_idx - mono_data_size) for _idx in range(lebel_close.shape[0]) if (lebel_close[_idx]) and (not yc_close[_idx]) and (_idx >= mono_data_size)]\n",
    "print(len(FN_left_idx))\n",
    "print(FN_left_idx)\n",
    "print(len(FN_right_idx))\n",
    "print(FN_right_idx)"
   ]
  },
  {
   "cell_type": "code",
   "execution_count": 17,
   "id": "fb0a497c",
   "metadata": {},
   "outputs": [
    {
     "name": "stdout",
     "output_type": "stream",
     "text": [
      "9\n",
      "[426, 529, 534, 736, 879, 1185, 3638, 3832, 3833]\n",
      "33\n",
      "[374, 389, 394, 395, 398, 399, 400, 402, 404, 405, 426, 427, 428, 429, 430, 526, 527, 528, 529, 530, 531, 532, 533, 534, 539, 542, 555, 736, 3884, 3899, 4135, 4166, 4868]\n"
     ]
    }
   ],
   "source": [
    "# Close: Find FP elements\n",
    "FP_left_idx  = [_idx                    for _idx in range(lebel_close.shape[0]) if (not lebel_close[_idx]) and (yc_close[_idx]) and (_idx < mono_data_size)]\n",
    "FP_right_idx = [(_idx - mono_data_size) for _idx in range(lebel_close.shape[0]) if (not lebel_close[_idx]) and (yc_close[_idx]) and (_idx >= mono_data_size)]\n",
    "print(len(FP_left_idx))\n",
    "print(FP_left_idx)\n",
    "print(len(FP_right_idx))\n",
    "print(FP_right_idx)"
   ]
  },
  {
   "cell_type": "code",
   "execution_count": 18,
   "id": "6df1e85d",
   "metadata": {},
   "outputs": [
    {
     "name": "stdout",
     "output_type": "stream",
     "text": [
      "9\n",
      "[426, 529, 534, 736, 879, 1185, 3638, 3832, 3833]\n",
      "33\n",
      "[374, 389, 394, 395, 398, 399, 400, 402, 404, 405, 426, 427, 428, 429, 430, 526, 527, 528, 529, 530, 531, 532, 533, 534, 539, 542, 555, 736, 3884, 3899, 4135, 4166, 4868]\n"
     ]
    }
   ],
   "source": [
    "# Close: Find FP elements except the (class == 1) ones (half-open)\n",
    "FP_clear_left_idx  = [_idx for _idx in FP_left_idx if label_left[_idx] != 1]\n",
    "FP_clear_right_idx = [_idx for _idx in FP_right_idx if label_right[_idx] != 1]\n",
    "print(len(FP_clear_left_idx))\n",
    "print(FP_clear_left_idx)\n",
    "print(len(FP_clear_right_idx))\n",
    "print(FP_clear_right_idx)"
   ]
  },
  {
   "cell_type": "markdown",
   "id": "e5fa141b",
   "metadata": {},
   "source": [
    "# Precision-recall Curve"
   ]
  },
  {
   "cell_type": "code",
   "execution_count": 19,
   "id": "2f8f5558",
   "metadata": {},
   "outputs": [],
   "source": [
    "from sklearn.metrics import precision_recall_curve\n",
    "\n",
    "precisions, recalls, thresholds = precision_recall_curve(lebel_close, yv_close)\n",
    "neg_thresholds = -1.0 * thresholds"
   ]
  },
  {
   "cell_type": "code",
   "execution_count": 20,
   "id": "82d00841",
   "metadata": {},
   "outputs": [
    {
     "name": "stdout",
     "output_type": "stream",
     "text": [
      "0.8516483516483516\n",
      "0.5987\n"
     ]
    }
   ],
   "source": [
    "target_recall = 0.9 # 0.94209 # 0.9 # 0.7\n",
    "precision_at_target = precisions[np.argmax(recalls <= target_recall)]\n",
    "threshold_at_target = thresholds[np.argmax(recalls <= target_recall)]\n",
    "neg_threshold_at_target = -1.0 * threshold_at_target\n",
    "print(precision_at_target)\n",
    "print(neg_threshold_at_target)"
   ]
  },
  {
   "cell_type": "code",
   "execution_count": 21,
   "id": "39e840d0",
   "metadata": {},
   "outputs": [],
   "source": [
    "def plot_precision_recall_vs_threshold(precisions, recalls, thresholds):\n",
    "    plt.plot(thresholds, precisions[:-1], \"b--\", label=\"Precision\", linewidth=2)\n",
    "    plt.plot(thresholds, recalls[:-1], \"g-\", label=\"Recall\", linewidth=2)\n",
    "    plt.legend(loc=\"center right\", fontsize=16) # Not shown in the book\n",
    "    plt.xlabel(\"Threshold\", fontsize=16)        # Not shown\n",
    "    plt.grid(True)                              # Not shown\n",
    "    plt.axis([min(thresholds[0], thresholds[-1]), max(thresholds[0], thresholds[-1]), 0, 1.05]) # Not shown"
   ]
  },
  {
   "cell_type": "code",
   "execution_count": 22,
   "id": "5715aea4",
   "metadata": {},
   "outputs": [
    {
     "data": {
      "image/png": "[encoded data removed]",
      "text/plain": [
       "<Figure size 432x288 with 1 Axes>"
      ]
     },
     "metadata": {
      "needs_background": "light"
     },
     "output_type": "display_data"
    }
   ],
   "source": [
    "# Threshold for reversed scale\n",
    "plot_precision_recall_vs_threshold(precisions, recalls, thresholds)\n",
    "# plt.show()"
   ]
  },
  {
   "cell_type": "code",
   "execution_count": 23,
   "id": "509eaad4",
   "metadata": {},
   "outputs": [
    {
     "data": {
      "text/plain": [
       "[<matplotlib.lines.Line2D at 0x7fda83dcce10>]"
      ]
     },
     "execution_count": 23,
     "metadata": {},
     "output_type": "execute_result"
    },
    {
     "data": {
      "image/png": "[encoded data removed]",
      "text/plain": [
       "<Figure size 432x288 with 1 Axes>"
      ]
     },
     "metadata": {
      "needs_background": "light"
     },
     "output_type": "display_data"
    }
   ],
   "source": [
    "# Threshold for original scale\n",
    "plot_precision_recall_vs_threshold(precisions, recalls, neg_thresholds)\n",
    "#\n",
    "plt.plot([neg_threshold_at_target, neg_threshold_at_target], [0., max(target_recall, precision_at_target)], \"r:\")\n",
    "plt.plot([-5, neg_threshold_at_target], [target_recall, target_recall], \"r:\")             # Not shown\n",
    "plt.plot([-5, neg_threshold_at_target], [precision_at_target, precision_at_target], \"r:\") # Not shown\n",
    "plt.plot([neg_threshold_at_target], [target_recall], \"ro\")                                # Not shown\n",
    "plt.plot([neg_threshold_at_target], [precision_at_target], \"ro\")                          # Not shown"
   ]
  },
  {
   "cell_type": "code",
   "execution_count": 24,
   "id": "8851b3bb",
   "metadata": {},
   "outputs": [
    {
     "data": {
      "image/png": "[encoded data removed]",
      "text/plain": [
       "<Figure size 432x288 with 1 Axes>"
      ]
     },
     "metadata": {
      "needs_background": "light"
     },
     "output_type": "display_data"
    }
   ],
   "source": [
    "# plt.plot(recalls, precisions)\n",
    "\n",
    "def plot_precision_vs_recall(precisions, recalls):\n",
    "    plt.plot(recalls, precisions, \"b-\", linewidth=2)\n",
    "    plt.xlabel(\"Recall\", fontsize=16)\n",
    "    plt.ylabel(\"Precision\", fontsize=16)\n",
    "    # plt.axis([0, 1, 0, 1])\n",
    "    plt.grid(True)\n",
    "    \n",
    "plot_precision_vs_recall(precisions, recalls)"
   ]
  },
  {
   "cell_type": "markdown",
   "id": "64b9fc2e",
   "metadata": {},
   "source": [
    "# The ROC Curve"
   ]
  },
  {
   "cell_type": "code",
   "execution_count": 25,
   "id": "676ee9d0",
   "metadata": {},
   "outputs": [],
   "source": [
    "from sklearn.metrics import roc_curve\n",
    "\n",
    "fpr, tpr, thresholds = roc_curve(lebel_close, yv_close)"
   ]
  },
  {
   "cell_type": "code",
   "execution_count": 26,
   "id": "9a8f9d30",
   "metadata": {},
   "outputs": [
    {
     "data": {
      "image/png": "[encoded data removed]",
      "text/plain": [
       "<Figure size 432x288 with 1 Axes>"
      ]
     },
     "metadata": {
      "needs_background": "light"
     },
     "output_type": "display_data"
    }
   ],
   "source": [
    "def plot_roc_curve(fpr, tpr, label=None):\n",
    "    plt.plot(fpr, tpr, linewidth=2, label=label)\n",
    "    plt.plot([0, 1], [0, 1], 'k--') # dashed diagonal\n",
    "    # plt.axis([0, 1, 0, 1])                                    # Not shown in the book\n",
    "    plt.xlabel('False Positive Rate (Fall-Out)', fontsize=16) # Not shown\n",
    "    plt.ylabel('True Positive Rate (Recall)', fontsize=16)    # Not shown\n",
    "    plt.grid(True)                                            # Not shown\n",
    "    \n",
    "plot_roc_curve(fpr, tpr)\n",
    "plt.show()"
   ]
  },
  {
   "cell_type": "code",
   "execution_count": null,
   "id": "aa120d91",
   "metadata": {},
   "outputs": [],
   "source": []
  },
  {
   "cell_type": "code",
   "execution_count": null,
   "id": "7babd193",
   "metadata": {},
   "outputs": [],
   "source": []
  }
 ],
 "metadata": {
  "kernelspec": {
   "display_name": "Python 3",
   "language": "python",
   "name": "python3"
  },
  "language_info": {
   "codemirror_mode": {
    "name": "ipython",
    "version": 3
   },
   "file_extension": ".py",
   "mimetype": "text/x-python",
   "name": "python",
   "nbconvert_exporter": "python",
   "pygments_lexer": "ipython3",
   "version": "3.6.9"
  }
 },
 "nbformat": 4,
 "nbformat_minor": 5
}
