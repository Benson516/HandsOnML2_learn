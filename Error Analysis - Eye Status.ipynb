{
 "cells": [
  {
   "cell_type": "code",
   "execution_count": 1,
   "id": "eda56eb0",
   "metadata": {},
   "outputs": [],
   "source": [
    "import numpy as np\n",
    "import os\n",
    "import csv\n",
    "import json\n",
    "#\n",
    "import matplotlib as mpl\n",
    "import matplotlib.pyplot as plt\n",
    "#\n",
    "from sklearn.metrics import confusion_matrix\n",
    "from sklearn.metrics import precision_score, recall_score\n",
    "from sklearn.metrics import f1_score"
   ]
  },
  {
   "cell_type": "markdown",
   "id": "6da0a8ad",
   "metadata": {},
   "source": [
    "# Data Version"
   ]
  },
  {
   "cell_type": "code",
   "execution_count": 2,
   "id": "8e937f2c",
   "metadata": {},
   "outputs": [],
   "source": [
    "# data_version = 'S1_result_20210930_092146_LM2_v0.04_refinePoly_3'\n",
    "# data_version = 'S6_result_20210929_162806_LM2_v0.04_refinePoly_3'\n",
    "# data_version = 'S36_result_20210929_144813_LM2_v0.04_refinePoly_2'\n",
    "\n",
    "\n",
    "# data_version = 'S1_result_20211007_134717_LM2_v0.04_refinePoly_FixGoldenP_FixYawB'\n",
    "# data_version = 'S6_result_20211007_130048_LM2_v0.04_refinePoly_FixGoldenP_FixYawB'\n",
    "# data_version = 'S36_result_20211007_120940_LM2_v0.04_refinePoly_FixGoldenP_FixYawB'\n",
    "\n",
    "# data_version = 'S36_result_20211012_164919_alDMS_LM2_v0.05'\n",
    "# data_version = 'S36_result_20211014_114532_alDMS_LM2_v0.05.1'\n",
    "\n",
    "\n",
    "#\n",
    "# data_version = 'S1_result_20211018_121724_FLD2_v0.05.6_256x256'\n",
    "# data_version = 'S6_result_20211018_114210_alDMS_FLD2_v0.05.6_256x256'\n",
    "# data_version = 'S36_result_20211018_111026_alDMS_FLD2_v0.05.6_256x256'\n",
    "\n",
    "data_version = 'S36_c2x_result_20211019_122743_FLD2_v0.05.6_256x256'"
   ]
  },
  {
   "cell_type": "markdown",
   "id": "14009fd3",
   "metadata": {},
   "source": [
    "Generate the path"
   ]
  },
  {
   "cell_type": "code",
   "execution_count": 3,
   "id": "bc088374",
   "metadata": {},
   "outputs": [
    {
     "name": "stdout",
     "output_type": "stream",
     "text": [
      "S36\n"
     ]
    }
   ],
   "source": [
    "path_root = '/home/benson516/m1_result_converter/'\n",
    "video_version = data_version.split('_')[0]\n",
    "print(video_version)"
   ]
  },
  {
   "cell_type": "code",
   "execution_count": 4,
   "id": "161ea5f3",
   "metadata": {},
   "outputs": [],
   "source": [
    "if video_version == 'S1':\n",
    "    csv_label_file = 'S1_eye_status_label_tri_state.csv'\n",
    "    csv_predict_file = 'S1_GT-C0-001-L1-V1.10.csv'\n",
    "elif video_version == 'S6':\n",
    "    csv_label_file = 'S6_eye_status_label_tri_state.csv'\n",
    "    csv_predict_file = 'S6_GT-C0-001-L1-V1.10.csv'\n",
    "elif video_version == 'S36':\n",
    "    csv_label_file = 'S36_eye_status_label_tri_state.csv'\n",
    "    csv_predict_file = 'S36_GT-C1-001-L2-V1.10.csv'\n",
    "else:\n",
    "    csv_label_file = ''\n",
    "    csv_predict_file = ''"
   ]
  },
  {
   "cell_type": "code",
   "execution_count": 5,
   "id": "76eda8e1",
   "metadata": {},
   "outputs": [
    {
     "name": "stdout",
     "output_type": "stream",
     "text": [
      "/home/benson516/m1_result_converter/S36_eye_status_label_tri_state.csv\n",
      "/home/benson516/m1_result_converter/S36_c2x_result_20211019_122743_FLD2_v0.05.6_256x256/converted_results/S36_GT-C1-001-L2-V1.10.csv\n"
     ]
    }
   ],
   "source": [
    "# csv_label_root = os.path.join(path_root, data_version)\n",
    "csv_label_root = path_root\n",
    "csv_predict_root = os.path.join(path_root, data_version, 'converted_results')\n",
    "#\n",
    "csv_label_path = os.path.join(csv_label_root, csv_label_file)\n",
    "csv_predict_path = os.path.join(csv_predict_root, csv_predict_file)\n",
    "print(csv_label_path)\n",
    "print(csv_predict_path)"
   ]
  },
  {
   "cell_type": "code",
   "execution_count": 6,
   "id": "ecf86fb7",
   "metadata": {},
   "outputs": [
    {
     "name": "stdout",
     "output_type": "stream",
     "text": [
      "6389\n",
      "6389\n"
     ]
    }
   ],
   "source": [
    "# Label\n",
    "label_left_list = list()\n",
    "label_right_list = list()\n",
    "with open(csv_label_path) as csvfile:\n",
    "    reader = csv.DictReader(csvfile)\n",
    "    for row in reader:\n",
    "        # print(row[\"left\"])\n",
    "        label_left_list.append( int(row[\"left\"]) )\n",
    "        label_right_list.append( int(row[\"right\"]) )\n",
    "print(len(label_left_list))\n",
    "print(len(label_right_list))"
   ]
  },
  {
   "cell_type": "code",
   "execution_count": 7,
   "id": "d16d15b2",
   "metadata": {},
   "outputs": [
    {
     "name": "stdout",
     "output_type": "stream",
     "text": [
      "6389\n",
      "6389\n"
     ]
    }
   ],
   "source": [
    "# Predict: eyeOpening\n",
    "yv_left_list = list()\n",
    "yv_right_list = list()\n",
    "with open(csv_predict_path) as csvfile:\n",
    "    reader = csv.DictReader(csvfile)\n",
    "    for row in reader:\n",
    "        # int(row[\"frameNumber\"])\n",
    "        # print(row[\"headPositionAvailable\"])\n",
    "        # print(row[\"leftEyelidOpening\"])\n",
    "        try:\n",
    "            yv_left_list.append(  float(row[\"leftEyelidOpening\"]) )\n",
    "        except:\n",
    "            yv_left_list.append( 1.0 )\n",
    "        try:\n",
    "            yv_right_list.append( float(row[\"rightEyelidOpening\"]) )\n",
    "        except:\n",
    "            yv_right_list.append( 1.0 )\n",
    "print(len(yv_left_list))\n",
    "print(len(yv_right_list))"
   ]
  },
  {
   "cell_type": "code",
   "execution_count": 8,
   "id": "b4b896a7",
   "metadata": {},
   "outputs": [
    {
     "name": "stdout",
     "output_type": "stream",
     "text": [
      "6190\n",
      "3892\n"
     ]
    }
   ],
   "source": [
    "# Filter the half-opening and Unknown class\n",
    "keep_id_list_left  = [_idx for _idx in range(len(label_left_list)) if label_left_list[_idx] in (0,2) ]\n",
    "keep_id_list_right = [_idx for _idx in range(len(label_right_list)) if label_right_list[_idx] in (0,2) ]\n",
    "print(len(keep_id_list_left))\n",
    "print(len(keep_id_list_right))\n",
    "\n",
    "label_left_list  = [ _c for _idx, _c in enumerate(label_left_list) if _idx in keep_id_list_left]\n",
    "yv_left_list     = [ _v for _idx, _v in enumerate(yv_left_list) if _idx in keep_id_list_left]\n",
    "label_right_list = [ _c for _idx, _c in enumerate(label_right_list) if _idx in keep_id_list_right]\n",
    "yv_right_list    = [ _v for _idx, _v in enumerate(yv_right_list) if _idx in keep_id_list_right]"
   ]
  },
  {
   "cell_type": "code",
   "execution_count": 9,
   "id": "d45f1dc0",
   "metadata": {},
   "outputs": [],
   "source": [
    "label_left = np.array(label_left_list)\n",
    "label_right = np.array(label_right_list)\n",
    "yv_left = np.array(yv_left_list)\n",
    "yv_right = np.array(yv_right_list)\n",
    "#\n",
    "mono_data_size = len(yv_left_list)"
   ]
  },
  {
   "cell_type": "code",
   "execution_count": 10,
   "id": "4427daef",
   "metadata": {},
   "outputs": [],
   "source": [
    "# Combine left and right\n",
    "# label_class = np.array(label_left_list + label_right_list)\n",
    "# Open\n",
    "label_open = np.array(label_left_list + label_right_list) == 2\n",
    "yv_opening = np.array(yv_left_list + yv_right_list)\n",
    "# Close\n",
    "lebel_close = np.array(label_left_list + label_right_list) == 0\n",
    "yv_close = (-1) * np.array(yv_left_list + yv_right_list)"
   ]
  },
  {
   "cell_type": "markdown",
   "id": "a54e66e3",
   "metadata": {},
   "source": [
    "# Simple Prediction by Thresholding"
   ]
  },
  {
   "cell_type": "code",
   "execution_count": 11,
   "id": "b85893e9",
   "metadata": {},
   "outputs": [],
   "source": [
    "# The threshold\n",
    "v_threshold = 0.5 # 0.1 # 0.2 # 0.0 # 0.5 # 0.57 # 0.63 # 0.6 # 0.39"
   ]
  },
  {
   "cell_type": "code",
   "execution_count": 12,
   "id": "fadbcfec",
   "metadata": {},
   "outputs": [],
   "source": [
    "# Create class prediction\n",
    "yc_open = (yv_opening > v_threshold)\n",
    "yc_close = np.logical_not(yc_open)"
   ]
  },
  {
   "cell_type": "code",
   "execution_count": 13,
   "id": "96a37c70",
   "metadata": {},
   "outputs": [
    {
     "data": {
      "text/plain": [
       "array([[ 118,   23],\n",
       "       [ 234, 9707]])"
      ]
     },
     "execution_count": 13,
     "metadata": {},
     "output_type": "execute_result"
    }
   ],
   "source": [
    "# Positive: Open\n",
    "confusion_matrix(label_open, yc_open)"
   ]
  },
  {
   "cell_type": "code",
   "execution_count": 14,
   "id": "13dd7a06",
   "metadata": {},
   "outputs": [
    {
     "name": "stdout",
     "output_type": "stream",
     "text": [
      "[[9707  234]\n",
      " [  23  118]]\n"
     ]
    }
   ],
   "source": [
    "# Positive: Close\n",
    "CM_close = confusion_matrix(lebel_close, yc_close)\n",
    "print(CM_close)"
   ]
  },
  {
   "cell_type": "code",
   "execution_count": 15,
   "id": "b1435f38",
   "metadata": {},
   "outputs": [],
   "source": [
    "# P: close\n",
    "TN = CM_close[0,0]\n",
    "TP = CM_close[1,1]\n",
    "FN = CM_close[1,0]\n",
    "FP = CM_close[0,1]"
   ]
  },
  {
   "cell_type": "code",
   "execution_count": 16,
   "id": "5dac2e1e",
   "metadata": {},
   "outputs": [
    {
     "data": {
      "text/plain": [
       "0.3352272727272727"
      ]
     },
     "execution_count": 16,
     "metadata": {},
     "output_type": "execute_result"
    }
   ],
   "source": [
    "precision_score(lebel_close, yc_close)"
   ]
  },
  {
   "cell_type": "code",
   "execution_count": 17,
   "id": "2aa74372",
   "metadata": {},
   "outputs": [
    {
     "data": {
      "text/plain": [
       "0.8368794326241135"
      ]
     },
     "execution_count": 17,
     "metadata": {},
     "output_type": "execute_result"
    }
   ],
   "source": [
    "recall_score(lebel_close, yc_close)"
   ]
  },
  {
   "cell_type": "code",
   "execution_count": 18,
   "id": "70dafa9f",
   "metadata": {},
   "outputs": [
    {
     "name": "stdout",
     "output_type": "stream",
     "text": [
      "0.02353887938839151\n"
     ]
    }
   ],
   "source": [
    "# False Positive Rate (FPR)\n",
    "FPR = FP / (FP + TN)\n",
    "print(FPR)"
   ]
  },
  {
   "cell_type": "code",
   "execution_count": 19,
   "id": "a93ce3f7",
   "metadata": {},
   "outputs": [
    {
     "name": "stdout",
     "output_type": "stream",
     "text": [
      "21\n",
      "[629, 630, 1855, 1856, 3525, 5162, 5173, 5174, 5516, 5517, 5520, 5521, 5522, 5523, 5982, 5983, 6132, 6133, 6185, 6186, 6188]\n",
      "2\n",
      "[459, 622]\n"
     ]
    }
   ],
   "source": [
    "# Close: Find FN elements\n",
    "FN_left_idx  = [_idx                    for _idx in range(lebel_close.shape[0]) if (lebel_close[_idx]) and (not yc_close[_idx]) and (_idx < mono_data_size)]\n",
    "FN_right_idx = [(_idx - mono_data_size) for _idx in range(lebel_close.shape[0]) if (lebel_close[_idx]) and (not yc_close[_idx]) and (_idx >= mono_data_size)]\n",
    "print(len(FN_left_idx))\n",
    "print(FN_left_idx)\n",
    "print(len(FN_right_idx))\n",
    "print(FN_right_idx)"
   ]
  },
  {
   "cell_type": "code",
   "execution_count": 20,
   "id": "fb0a497c",
   "metadata": {
    "scrolled": false
   },
   "outputs": [
    {
     "name": "stdout",
     "output_type": "stream",
     "text": [
      "177\n",
      "[134, 135, 136, 137, 138, 139, 140, 141, 142, 143, 144, 145, 402, 403, 404, 405, 406, 407, 408, 409, 410, 411, 412, 413, 414, 415, 416, 417, 418, 419, 420, 421, 422, 423, 427, 534, 535, 536, 537, 538, 539, 540, 541, 542, 543, 544, 545, 546, 547, 548, 549, 550, 551, 552, 553, 554, 555, 556, 557, 558, 559, 560, 561, 562, 563, 564, 565, 566, 567, 568, 569, 1951, 1952, 1955, 1957, 1958, 1961, 1963, 1964, 1965, 1966, 1967, 1968, 1969, 1970, 1971, 1972, 1973, 1974, 1975, 1976, 1977, 1978, 1979, 1980, 1981, 1982, 1986, 1987, 1988, 1989, 1990, 1991, 1992, 1993, 1994, 1995, 1996, 1997, 1998, 1999, 2000, 2001, 2002, 2003, 2004, 2005, 2006, 2007, 2008, 2009, 2012, 2364, 2365, 2366, 2367, 2368, 2369, 2370, 2371, 2372, 2547, 2658, 2662, 2663, 2674, 2678, 2944, 4064, 4066, 4067, 4068, 4071, 4072, 4073, 4074, 4077, 4078, 4080, 4081, 4082, 4084, 4085, 4086, 4087, 4088, 4089, 4090, 4091, 4092, 4093, 4094, 4095, 4096, 4097, 4098, 4099, 4109, 4114, 4115, 4116, 4118, 4125, 5579, 5580, 5581, 5994]\n",
      "57\n",
      "[77, 250, 251, 252, 253, 255, 256, 257, 258, 259, 260, 261, 262, 341, 342, 448, 449, 450, 451, 452, 453, 454, 455, 605, 606, 607, 608, 1437, 1438, 1439, 1440, 1441, 1442, 1443, 1444, 1986, 1987, 1988, 1996, 1997, 1998, 1999, 2000, 2484, 2485, 2486, 3688, 3689, 3690, 3691, 3692, 3693, 3694, 3695, 3696, 3697, 3698]\n"
     ]
    }
   ],
   "source": [
    "# Close: Find FP elements\n",
    "FP_left_idx  = [_idx                    for _idx in range(lebel_close.shape[0]) if (not lebel_close[_idx]) and (yc_close[_idx]) and (_idx < mono_data_size)]\n",
    "FP_right_idx = [(_idx - mono_data_size) for _idx in range(lebel_close.shape[0]) if (not lebel_close[_idx]) and (yc_close[_idx]) and (_idx >= mono_data_size)]\n",
    "print(len(FP_left_idx))\n",
    "print(FP_left_idx)\n",
    "print(len(FP_right_idx))\n",
    "print(FP_right_idx)"
   ]
  },
  {
   "cell_type": "code",
   "execution_count": 21,
   "id": "6df1e85d",
   "metadata": {
    "scrolled": false
   },
   "outputs": [
    {
     "name": "stdout",
     "output_type": "stream",
     "text": [
      "177\n",
      "[134, 135, 136, 137, 138, 139, 140, 141, 142, 143, 144, 145, 402, 403, 404, 405, 406, 407, 408, 409, 410, 411, 412, 413, 414, 415, 416, 417, 418, 419, 420, 421, 422, 423, 427, 534, 535, 536, 537, 538, 539, 540, 541, 542, 543, 544, 545, 546, 547, 548, 549, 550, 551, 552, 553, 554, 555, 556, 557, 558, 559, 560, 561, 562, 563, 564, 565, 566, 567, 568, 569, 1951, 1952, 1955, 1957, 1958, 1961, 1963, 1964, 1965, 1966, 1967, 1968, 1969, 1970, 1971, 1972, 1973, 1974, 1975, 1976, 1977, 1978, 1979, 1980, 1981, 1982, 1986, 1987, 1988, 1989, 1990, 1991, 1992, 1993, 1994, 1995, 1996, 1997, 1998, 1999, 2000, 2001, 2002, 2003, 2004, 2005, 2006, 2007, 2008, 2009, 2012, 2364, 2365, 2366, 2367, 2368, 2369, 2370, 2371, 2372, 2547, 2658, 2662, 2663, 2674, 2678, 2944, 4064, 4066, 4067, 4068, 4071, 4072, 4073, 4074, 4077, 4078, 4080, 4081, 4082, 4084, 4085, 4086, 4087, 4088, 4089, 4090, 4091, 4092, 4093, 4094, 4095, 4096, 4097, 4098, 4099, 4109, 4114, 4115, 4116, 4118, 4125, 5579, 5580, 5581, 5994]\n",
      "57\n",
      "[77, 250, 251, 252, 253, 255, 256, 257, 258, 259, 260, 261, 262, 341, 342, 448, 449, 450, 451, 452, 453, 454, 455, 605, 606, 607, 608, 1437, 1438, 1439, 1440, 1441, 1442, 1443, 1444, 1986, 1987, 1988, 1996, 1997, 1998, 1999, 2000, 2484, 2485, 2486, 3688, 3689, 3690, 3691, 3692, 3693, 3694, 3695, 3696, 3697, 3698]\n"
     ]
    }
   ],
   "source": [
    "# Close: Find FP elements except the (class == 1) ones (half-open) and unknown one (class == -1)\n",
    "FP_clear_left_idx  = [_idx for _idx in FP_left_idx if label_left[_idx] in (0,2) ]\n",
    "FP_clear_right_idx = [_idx for _idx in FP_right_idx if label_right[_idx] in (0,2) ]\n",
    "print(len(FP_clear_left_idx))\n",
    "print(FP_clear_left_idx)\n",
    "print(len(FP_clear_right_idx))\n",
    "print(FP_clear_right_idx)"
   ]
  },
  {
   "cell_type": "markdown",
   "id": "e5fa141b",
   "metadata": {},
   "source": [
    "# Precision-recall Curve"
   ]
  },
  {
   "cell_type": "code",
   "execution_count": 22,
   "id": "2f8f5558",
   "metadata": {},
   "outputs": [],
   "source": [
    "from sklearn.metrics import precision_recall_curve\n",
    "\n",
    "precisions, recalls, thresholds = precision_recall_curve(lebel_close, yv_close)\n",
    "neg_thresholds = -1.0 * thresholds"
   ]
  },
  {
   "cell_type": "code",
   "execution_count": 23,
   "id": "82d00841",
   "metadata": {},
   "outputs": [
    {
     "name": "stdout",
     "output_type": "stream",
     "text": [
      "2188\n"
     ]
    }
   ],
   "source": [
    "# target_recall = 0.9 # 0.94209 # 0.9 # 0.7\n",
    "# precision_at_target = precisions[np.argmax(recalls <= target_recall)]\n",
    "# threshold_at_target = thresholds[np.argmax(recalls <= target_recall)]\n",
    "#\n",
    "# target_idx = np.argmax(recalls <= precisions)\n",
    "# print(target_idx)\n",
    "# target_recall       = recalls[target_idx]\n",
    "# precision_at_target = precisions[target_idx]\n",
    "# threshold_at_target = thresholds[target_idx]\n",
    "#\n",
    "target_idx = np.argmax(neg_thresholds < 0.5)\n",
    "print(target_idx)\n",
    "target_recall       = recalls[target_idx]\n",
    "precision_at_target = precisions[target_idx]\n",
    "recall_at_target    = recalls[target_idx]\n",
    "threshold_at_target = thresholds[target_idx]"
   ]
  },
  {
   "cell_type": "code",
   "execution_count": 24,
   "id": "946e094a",
   "metadata": {},
   "outputs": [
    {
     "name": "stdout",
     "output_type": "stream",
     "text": [
      "0.3352272727272727\n",
      "0.8368794326241135\n",
      "0.4996\n"
     ]
    }
   ],
   "source": [
    "neg_threshold_at_target = -1.0 * threshold_at_target\n",
    "print(precision_at_target)\n",
    "print(recall_at_target)\n",
    "print(neg_threshold_at_target)"
   ]
  },
  {
   "cell_type": "code",
   "execution_count": 25,
   "id": "39e840d0",
   "metadata": {},
   "outputs": [],
   "source": [
    "def plot_precision_recall_vs_threshold(precisions, recalls, thresholds):\n",
    "    plt.plot(thresholds, precisions[:-1], \"b--\", label=\"Precision\", linewidth=2)\n",
    "    plt.plot(thresholds, recalls[:-1], \"g-\", label=\"Recall\", linewidth=2)\n",
    "    plt.legend(loc=\"center right\", fontsize=16) # Not shown in the book\n",
    "    plt.xlabel(\"Threshold\", fontsize=16)        # Not shown\n",
    "    plt.grid(True)                              # Not shown\n",
    "    plt.axis([min(thresholds[0], thresholds[-1]), max(thresholds[0], thresholds[-1]), 0, 1.05]) # Not shown"
   ]
  },
  {
   "cell_type": "code",
   "execution_count": 26,
   "id": "5715aea4",
   "metadata": {},
   "outputs": [
    {
     "data": {
      "image/png": "[encoded data removed]",
      "text/plain": [
       "<Figure size 432x288 with 1 Axes>"
      ]
     },
     "metadata": {
      "needs_background": "light"
     },
     "output_type": "display_data"
    }
   ],
   "source": [
    "# Threshold for reversed scale\n",
    "plot_precision_recall_vs_threshold(precisions, recalls, thresholds)\n",
    "# plt.show()"
   ]
  },
  {
   "cell_type": "code",
   "execution_count": 27,
   "id": "509eaad4",
   "metadata": {},
   "outputs": [
    {
     "data": {
      "text/plain": [
       "[<matplotlib.lines.Line2D at 0x7faa93816640>]"
      ]
     },
     "execution_count": 27,
     "metadata": {},
     "output_type": "execute_result"
    },
    {
     "data": {
      "image/png": "[encoded data removed]",
      "text/plain": [
       "<Figure size 432x288 with 1 Axes>"
      ]
     },
     "metadata": {
      "needs_background": "light"
     },
     "output_type": "display_data"
    }
   ],
   "source": [
    "# Threshold for original scale\n",
    "plot_precision_recall_vs_threshold(precisions, recalls, neg_thresholds)\n",
    "#\n",
    "plt.plot([neg_threshold_at_target, neg_threshold_at_target], [0., max(target_recall, precision_at_target)], \"r:\")\n",
    "plt.plot([-5, neg_threshold_at_target], [target_recall, target_recall], \"r:\")             # Not shown\n",
    "plt.plot([-5, neg_threshold_at_target], [precision_at_target, precision_at_target], \"r:\") # Not shown\n",
    "plt.plot([neg_threshold_at_target], [target_recall], \"ro\")                                # Not shown\n",
    "plt.plot([neg_threshold_at_target], [precision_at_target], \"ro\")                          # Not shown"
   ]
  },
  {
   "cell_type": "code",
   "execution_count": 28,
   "id": "8851b3bb",
   "metadata": {},
   "outputs": [
    {
     "data": {
      "image/png": "[encoded data removed]",
      "text/plain": [
       "<Figure size 432x288 with 1 Axes>"
      ]
     },
     "metadata": {
      "needs_background": "light"
     },
     "output_type": "display_data"
    }
   ],
   "source": [
    "# plt.plot(recalls, precisions)\n",
    "\n",
    "def plot_precision_vs_recall(precisions, recalls):\n",
    "    plt.plot(recalls, precisions, \"b-\", linewidth=2)\n",
    "    plt.xlabel(\"Recall\", fontsize=16)# Filter the half-opening and Unknown class\n",
    "# keep_id_list_left  = [_idx for _idx in range(len(label_left_list)) if label_left_list[_idx] in (0,2) ]\n",
    "# keep_id_list_right = [_idx for _idx in range(len(label_right_list)) if label_right_list[_idx] in (0,2) ]\n",
    "# print(len(keep_id_list_left))\n",
    "# print(len(keep_id_list_right))\n",
    "\n",
    "# label_left_list  = [ _c for _idx, _c in enumerate(label_left_list) if _idx in keep_id_list_left]\n",
    "# yv_left_list     = [ _v for _idx, _v in enumerate(yv_left_list) if _idx in keep_id_list_left]\n",
    "# label_right_list = [ _c for _idx, _c in enumerate(label_right_list) if _idx in keep_id_list_right]\n",
    "# yv_right_list    = [ _v for _idx, _v in enumerate(yv_right_list) if _idx in keep_id_list_right]\n",
    "    plt.ylabel(\"Precision\", fontsize=16)\n",
    "    # plt.axis([0, 1, 0, 1])\n",
    "    plt.grid(True)\n",
    "    \n",
    "plot_precision_vs_recall(precisions, recalls)"
   ]
  },
  {
   "cell_type": "markdown",
   "id": "64b9fc2e",
   "metadata": {},
   "source": [
    "# The ROC Curve"
   ]
  },
  {
   "cell_type": "code",
   "execution_count": 29,
   "id": "676ee9d0",
   "metadata": {},
   "outputs": [],
   "source": [
    "from sklearn.metrics import roc_curve\n",
    "\n",
    "fpr, tpr, thresholds = roc_curve(lebel_close, yv_close)"
   ]
  },
  {
   "cell_type": "code",
   "execution_count": 30,
   "id": "9a8f9d30",
   "metadata": {},
   "outputs": [
    {
     "data": {
      "image/png": "[encoded data removed]",
      "text/plain": [
       "<Figure size 432x288 with 1 Axes>"
      ]
     },
     "metadata": {
      "needs_background": "light"
     },
     "output_type": "display_data"
    }
   ],
   "source": [
    "def plot_roc_curve(fpr, tpr, label=None):\n",
    "    plt.plot(fpr, tpr, linewidth=2, label=label)\n",
    "    plt.plot([0, 1], [0, 1], 'k--') # dashed diagonal\n",
    "    # plt.axis([0, 1, 0, 1])                                    # Not shown in the book\n",
    "    plt.xlabel('False Positive Rate (Fall-Out)', fontsize=16) # Not shown\n",
    "    plt.ylabel('True Positive Rate (Recall)', fontsize=16)    # Not shown\n",
    "    plt.grid(True)                                            # Not shown\n",
    "    \n",
    "plot_roc_curve(fpr, tpr)\n",
    "plt.show()"
   ]
  },
  {
   "cell_type": "code",
   "execution_count": null,
   "id": "aa120d91",
   "metadata": {},
   "outputs": [],
   "source": []
  },
  {
   "cell_type": "code",
   "execution_count": null,
   "id": "7babd193",
   "metadata": {},
   "outputs": [],
   "source": []
  },
  {
   "cell_type": "code",
   "execution_count": null,
   "id": "3390d501",
   "metadata": {},
   "outputs": [],
   "source": []
  },
  {
   "cell_type": "code",
   "execution_count": null,
   "id": "2b1904e8",
   "metadata": {},
   "outputs": [],
   "source": []
  }
 ],
 "metadata": {
  "kernelspec": {
   "display_name": "Python 3 (ipykernel)",
   "language": "python",
   "name": "python3"
  },
  "language_info": {
   "codemirror_mode": {
    "name": "ipython",
    "version": 3
   },
   "file_extension": ".py",
   "mimetype": "text/x-python",
   "name": "python",
   "nbconvert_exporter": "python",
   "pygments_lexer": "ipython3",
   "version": "3.8.10"
  }
 },
 "nbformat": 4,
 "nbformat_minor": 5
}
