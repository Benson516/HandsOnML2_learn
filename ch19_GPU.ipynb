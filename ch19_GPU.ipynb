{
 "cells": [
  {
   "cell_type": "code",
   "execution_count": 1,
   "id": "0dc548c7",
   "metadata": {},
   "outputs": [
    {
     "name": "stderr",
     "output_type": "stream",
     "text": [
      "2022-04-08 11:04:17.287959: W tensorflow/stream_executor/platform/default/dso_loader.cc:64] Could not load dynamic library 'libcudart.so.11.0'; dlerror: libcudart.so.11.0: cannot open shared object file: No such file or directory; LD_LIBRARY_PATH: /home/benson516/agv_ws/devel/lib:/opt/ros/noetic/lib\n",
      "2022-04-08 11:04:17.288036: I tensorflow/stream_executor/cuda/cudart_stub.cc:29] Ignore above cudart dlerror if you do not have a GPU set up on your machine.\n"
     ]
    }
   ],
   "source": [
    "import tensorflow as tf\n",
    "from tensorflow import keras"
   ]
  },
  {
   "cell_type": "markdown",
   "id": "b68df479",
   "metadata": {},
   "source": [
    "## Managing the GPU RAM"
   ]
  },
  {
   "cell_type": "code",
   "execution_count": 2,
   "id": "2564aa4e",
   "metadata": {},
   "outputs": [
    {
     "data": {
      "text/plain": [
       "'\\n$ CUDA_DEVICE_ORDER=PCI_BUS_ID CUDA_VISIBLE_DEVICES=0,1 python3 program_1.py\\n$ CUDA_DEVICE_ORDER=PCI_BUS_ID CUDA_VISIBLE_DEVICES=3,2 python3 program_1.py\\n'"
      ]
     },
     "execution_count": 2,
     "metadata": {},
     "output_type": "execute_result"
    }
   ],
   "source": [
    "'''\n",
    "$ CUDA_DEVICE_ORDER=PCI_BUS_ID CUDA_VISIBLE_DEVICES=0,1 python3 program_1.py\n",
    "$ CUDA_DEVICE_ORDER=PCI_BUS_ID CUDA_VISIBLE_DEVICES=3,2 python3 program_1.py\n",
    "'''"
   ]
  },
  {
   "cell_type": "code",
   "execution_count": 3,
   "id": "3ee1992a",
   "metadata": {},
   "outputs": [],
   "source": [
    "# # Set memory limit to GPUs\n",
    "# for gpu in tf.config.experimental.list_physical_devices(\"GPU\"):\n",
    "#     tf.config.experimental.set_virtual_device_configuration(\n",
    "#         gpu,\n",
    "#         [tf.config.experimental.VirtualDeviceConfiguration(memory_limit=2048)])"
   ]
  },
  {
   "cell_type": "code",
   "execution_count": 4,
   "id": "9f541027",
   "metadata": {},
   "outputs": [],
   "source": [
    "# # Runtime grow memory allocation\n",
    "# for gpu in tf.config.experimental.list_physical_devices(\"GPU\"):\n",
    "#     tf.config.experimental.set_memory_growth(gpu, True)"
   ]
  },
  {
   "cell_type": "code",
   "execution_count": 5,
   "id": "c03352a1",
   "metadata": {},
   "outputs": [
    {
     "name": "stderr",
     "output_type": "stream",
     "text": [
      "2022-04-08 11:04:18.848395: I tensorflow/stream_executor/platform/default/dso_loader.cc:53] Successfully opened dynamic library libcuda.so.1\n",
      "2022-04-08 11:04:21.898797: E tensorflow/stream_executor/cuda/cuda_driver.cc:328] failed call to cuInit: CUDA_ERROR_NO_DEVICE: no CUDA-capable device is detected\n",
      "2022-04-08 11:04:21.898924: I tensorflow/stream_executor/cuda/cuda_diagnostics.cc:156] kernel driver does not appear to be running on this host (benson516-P1G2): /proc/driver/nvidia/version does not exist\n"
     ]
    },
    {
     "ename": "IndexError",
     "evalue": "list index out of range",
     "output_type": "error",
     "traceback": [
      "\u001b[0;31m---------------------------------------------------------------------------\u001b[0m",
      "\u001b[0;31mIndexError\u001b[0m                                Traceback (most recent call last)",
      "Input \u001b[0;32mIn [5]\u001b[0m, in \u001b[0;36m<module>\u001b[0;34m\u001b[0m\n\u001b[1;32m      1\u001b[0m \u001b[38;5;66;03m# Split into virtual GPUs\u001b[39;00m\n\u001b[1;32m      2\u001b[0m physical_gpus \u001b[38;5;241m=\u001b[39m tf\u001b[38;5;241m.\u001b[39mconfig\u001b[38;5;241m.\u001b[39mexperimental\u001b[38;5;241m.\u001b[39mlist_physical_devices(\u001b[38;5;124m\"\u001b[39m\u001b[38;5;124mGPU\u001b[39m\u001b[38;5;124m\"\u001b[39m)\n\u001b[1;32m      3\u001b[0m tf\u001b[38;5;241m.\u001b[39mconfig\u001b[38;5;241m.\u001b[39mexperimental\u001b[38;5;241m.\u001b[39mset_virtual_device_configuration(\n\u001b[0;32m----> 4\u001b[0m             \u001b[43mphysical_gpus\u001b[49m\u001b[43m[\u001b[49m\u001b[38;5;241;43m0\u001b[39;49m\u001b[43m]\u001b[49m,\n\u001b[1;32m      5\u001b[0m             [tf\u001b[38;5;241m.\u001b[39mconfig\u001b[38;5;241m.\u001b[39mexperimental\u001b[38;5;241m.\u001b[39mVirtualDeviceConfiguration(memory_limit\u001b[38;5;241m=\u001b[39m\u001b[38;5;241m2048\u001b[39m),\n\u001b[1;32m      6\u001b[0m              tf\u001b[38;5;241m.\u001b[39mconfig\u001b[38;5;241m.\u001b[39mexperimental\u001b[38;5;241m.\u001b[39mVirtualDeviceConfiguration(memory_limit\u001b[38;5;241m=\u001b[39m\u001b[38;5;241m2048\u001b[39m)])\n",
      "\u001b[0;31mIndexError\u001b[0m: list index out of range"
     ]
    }
   ],
   "source": [
    "# Split into virtual GPUs\n",
    "physical_gpus = tf.config.experimental.list_physical_devices(\"GPU\")\n",
    "tf.config.experimental.set_virtual_device_configuration(\n",
    "            physical_gpus[0],\n",
    "            [tf.config.experimental.VirtualDeviceConfiguration(memory_limit=2048),\n",
    "             tf.config.experimental.VirtualDeviceConfiguration(memory_limit=2048)])"
   ]
  },
  {
   "cell_type": "markdown",
   "id": "ef2d36ed",
   "metadata": {},
   "source": [
    "## Placing Operations and Variables on Devices"
   ]
  },
  {
   "cell_type": "code",
   "execution_count": 6,
   "id": "359a278c",
   "metadata": {},
   "outputs": [
    {
     "name": "stderr",
     "output_type": "stream",
     "text": [
      "2022-04-08 11:04:25.199945: I tensorflow/core/platform/cpu_feature_guard.cc:142] This TensorFlow binary is optimized with oneAPI Deep Neural Network Library (oneDNN) to use the following CPU instructions in performance-critical operations:  AVX2 FMA\n",
      "To enable them in other operations, rebuild TensorFlow with the appropriate compiler flags.\n"
     ]
    }
   ],
   "source": [
    "a = tf.Variable(42.0)"
   ]
  },
  {
   "cell_type": "code",
   "execution_count": 7,
   "id": "1ff275d8",
   "metadata": {},
   "outputs": [
    {
     "data": {
      "text/plain": [
       "'/job:localhost/replica:0/task:0/device:CPU:0'"
      ]
     },
     "execution_count": 7,
     "metadata": {},
     "output_type": "execute_result"
    }
   ],
   "source": [
    "a.device"
   ]
  },
  {
   "cell_type": "code",
   "execution_count": 8,
   "id": "3727d87a",
   "metadata": {},
   "outputs": [],
   "source": [
    "b = tf.Variable(42)"
   ]
  },
  {
   "cell_type": "code",
   "execution_count": 9,
   "id": "49f11ead",
   "metadata": {},
   "outputs": [
    {
     "data": {
      "text/plain": [
       "'/job:localhost/replica:0/task:0/device:CPU:0'"
      ]
     },
     "execution_count": 9,
     "metadata": {},
     "output_type": "execute_result"
    }
   ],
   "source": [
    "b.device"
   ]
  },
  {
   "cell_type": "code",
   "execution_count": 10,
   "id": "68bfe45e",
   "metadata": {},
   "outputs": [],
   "source": [
    "# Set the debug log to show the device placement\n",
    "tf.debugging.set_log_device_placement(True)"
   ]
  },
  {
   "cell_type": "code",
   "execution_count": 11,
   "id": "31337867",
   "metadata": {},
   "outputs": [],
   "source": [
    "c = tf.Variable(42.0)"
   ]
  },
  {
   "cell_type": "markdown",
   "id": "630c09bc",
   "metadata": {},
   "source": [
    "Place on other device"
   ]
  },
  {
   "cell_type": "code",
   "execution_count": 12,
   "id": "09c4001b",
   "metadata": {},
   "outputs": [],
   "source": [
    "with tf.device(\"/cpu:0\"):\n",
    "    c = tf.Variable(42.0)"
   ]
  },
  {
   "cell_type": "code",
   "execution_count": 13,
   "id": "3218a886",
   "metadata": {},
   "outputs": [
    {
     "data": {
      "text/plain": [
       "'/job:localhost/replica:0/task:0/device:CPU:0'"
      ]
     },
     "execution_count": 13,
     "metadata": {},
     "output_type": "execute_result"
    }
   ],
   "source": [
    "c.device"
   ]
  },
  {
   "cell_type": "markdown",
   "id": "887fe7af",
   "metadata": {},
   "source": [
    "# Training Models Across Multiple Devices\n",
    "## Training at Scale Using the Distribution Strategies API"
   ]
  },
  {
   "cell_type": "markdown",
   "id": "448940fa",
   "metadata": {},
   "source": [
    "Prepare Data"
   ]
  },
  {
   "cell_type": "code",
   "execution_count": 15,
   "id": "36fd47a6",
   "metadata": {},
   "outputs": [],
   "source": [
    "import numpy as np\n",
    "(X_train_full, y_train_full), (X_test, y_test) = keras.datasets.mnist.load_data()\n",
    "X_train_full = X_train_full[..., np.newaxis].astype(np.float32) / 255.\n",
    "X_test = X_test[..., np.newaxis].astype(np.float32) / 255.\n",
    "X_valid, X_train = X_train_full[:5000], X_train_full[5000:]\n",
    "y_valid, y_train = y_train_full[:5000], y_train_full[5000:]\n",
    "X_new = X_test[:3]"
   ]
  },
  {
   "cell_type": "markdown",
   "id": "3322b015",
   "metadata": {},
   "source": [
    "Create the model in the distribution scope"
   ]
  },
  {
   "cell_type": "code",
   "execution_count": 18,
   "id": "6f794986",
   "metadata": {
    "scrolled": true
   },
   "outputs": [
    {
     "name": "stdout",
     "output_type": "stream",
     "text": [
      "WARNING:tensorflow:There are non-GPU devices in `tf.distribute.Strategy`, not using nccl allreduce.\n",
      "WARNING:tensorflow:Collective ops is not configured at program startup. Some performance features may not be enabled.\n",
      "INFO:tensorflow:Using MirroredStrategy with devices ('/job:localhost/replica:0/task:0/device:CPU:0',)\n"
     ]
    },
    {
     "name": "stderr",
     "output_type": "stream",
     "text": [
      "2022-04-11 10:07:51.018914: W tensorflow/core/grappler/optimizers/data/auto_shard.cc:695] AUTO sharding policy will apply DATA sharding policy as it failed to apply FILE sharding policy because of the following reason: Did not find a shardable source, walked to a node which is not a dataset: name: \"FlatMapDataset/_9\"\n",
      "op: \"FlatMapDataset\"\n",
      "input: \"PrefetchDataset/_8\"\n",
      "attr {\n",
      "  key: \"Targuments\"\n",
      "  value {\n",
      "    list {\n",
      "    }\n",
      "  }\n",
      "}\n",
      "attr {\n",
      "  key: \"f\"\n",
      "  value {\n",
      "    func {\n",
      "      name: \"__inference_Dataset_flat_map_slice_batch_indices_35452\"\n",
      "    }\n",
      "  }\n",
      "}\n",
      "attr {\n",
      "  key: \"output_shapes\"\n",
      "  value {\n",
      "    list {\n",
      "      shape {\n",
      "        dim {\n",
      "          size: 100\n",
      "        }\n",
      "      }\n",
      "    }\n",
      "  }\n",
      "}\n",
      "attr {\n",
      "  key: \"output_types\"\n",
      "  value {\n",
      "    list {\n",
      "      type: DT_INT64\n",
      "    }\n",
      "  }\n",
      "}\n",
      ". Consider either turning off auto-sharding or switching the auto_shard_policy to DATA to shard this dataset. You can do this by creating a new `tf.data.Options()` object then setting `options.experimental_distribute.auto_shard_policy = AutoShardPolicy.DATA` before applying the options object to the dataset via `dataset.with_options(options)`.\n"
     ]
    },
    {
     "name": "stdout",
     "output_type": "stream",
     "text": [
      "Epoch 1/10\n",
      "550/550 [==============================] - 3s 3ms/step - loss: 1.1221 - accuracy: 0.7315\n",
      "Epoch 2/10\n",
      "550/550 [==============================] - 1s 2ms/step - loss: 0.5140 - accuracy: 0.8720\n",
      "Epoch 3/10\n",
      "550/550 [==============================] - 1s 2ms/step - loss: 0.4184 - accuracy: 0.8880\n",
      "Epoch 4/10\n",
      "550/550 [==============================] - 1s 2ms/step - loss: 0.3761 - accuracy: 0.8967\n",
      "Epoch 5/10\n",
      "550/550 [==============================] - 1s 2ms/step - loss: 0.3504 - accuracy: 0.9026\n",
      "Epoch 6/10\n",
      "550/550 [==============================] - 1s 2ms/step - loss: 0.3322 - accuracy: 0.9063\n",
      "Epoch 7/10\n",
      "550/550 [==============================] - 1s 2ms/step - loss: 0.3181 - accuracy: 0.9100\n",
      "Epoch 8/10\n",
      "550/550 [==============================] - 1s 2ms/step - loss: 0.3063 - accuracy: 0.9136\n",
      "Epoch 9/10\n",
      "550/550 [==============================] - 1s 2ms/step - loss: 0.2962 - accuracy: 0.9161\n",
      "Epoch 10/10\n",
      "550/550 [==============================] - 1s 2ms/step - loss: 0.2871 - accuracy: 0.9188\n"
     ]
    }
   ],
   "source": [
    "distribution = tf.distribute.MirroredStrategy()\n",
    "\n",
    "with distribution.scope():\n",
    "    mirrored_model = keras.models.Sequential([\n",
    "        keras.layers.Flatten(input_shape=[28, 28, 1]),\n",
    "        keras.layers.Dense(100, activation=\"relu\"),\n",
    "        keras.layers.Dense(10, activation=\"softmax\")\n",
    "    ])\n",
    "    mirrored_model.compile(loss=\"sparse_categorical_crossentropy\",\n",
    "                           optimizer=keras.optimizers.SGD(lr=1e-2),\n",
    "                           metrics=[\"accuracy\"])\n",
    "    \n",
    "batch_size = 100 # must be divisible by the number of replicas\n",
    "history = mirrored_model.fit(X_train, y_train, epochs=10, batch_size=batch_size)"
   ]
  },
  {
   "cell_type": "code",
   "execution_count": 25,
   "id": "a852baab",
   "metadata": {},
   "outputs": [],
   "source": [
    "# --- New method (can be load by keras)\n",
    "# keras.models.save_model(mirrored_model, \"my_mnist_model.h5\")\n",
    "mirrored_model.save(\"my_mnist_model.h5\")  # The model will be saved as a normal model, no distribution information is kept."
   ]
  },
  {
   "cell_type": "code",
   "execution_count": 26,
   "id": "6439176f",
   "metadata": {},
   "outputs": [],
   "source": [
    "# Load a model as a distributed model\n",
    "with distribution.scope():\n",
    "    mirrored_model = keras.models.load_model(\"my_mnist_model.h5\")"
   ]
  },
  {
   "cell_type": "code",
   "execution_count": 27,
   "id": "141968b2",
   "metadata": {},
   "outputs": [
    {
     "name": "stdout",
     "output_type": "stream",
     "text": [
      "WARNING:tensorflow:Some requested devices in `tf.distribute.Strategy` are not visible to TensorFlow: /job:localhost/replica:0/task:0/device:GPU:0,/job:localhost/replica:0/task:0/device:GPU:1\n",
      "WARNING:tensorflow:Collective ops is not configured at program startup. Some performance features may not be enabled.\n",
      "INFO:tensorflow:Using MirroredStrategy with devices ('/job:localhost/replica:0/task:0/device:GPU:0', '/job:localhost/replica:0/task:0/device:GPU:1')\n"
     ]
    }
   ],
   "source": [
    "# Use a subset of GPUs\n",
    "distribution = tf.distribute.MirroredStrategy([\"/gpu:0\", \"/gpu:1\"])"
   ]
  },
  {
   "cell_type": "code",
   "execution_count": 29,
   "id": "f0abef53",
   "metadata": {},
   "outputs": [
    {
     "name": "stdout",
     "output_type": "stream",
     "text": [
      "INFO:tensorflow:ParameterServerStrategy (CentralStorageStrategy if you are using a single machine) with compute_devices = ['/job:localhost/replica:0/task:0/device:CPU:0'], variable_device = '/job:localhost/replica:0/task:0/device:CPU:0'\n"
     ]
    }
   ],
   "source": [
    "# Use centralized parameter method instead of the mirrored strategy\n",
    "distribution = tf.distribute.experimental.CentralStorageStrategy()"
   ]
  },
  {
   "cell_type": "code",
   "execution_count": 31,
   "id": "b45b9f08",
   "metadata": {
    "scrolled": true
   },
   "outputs": [
    {
     "name": "stdout",
     "output_type": "stream",
     "text": [
      "Epoch 1/10\n",
      "\r",
      "  1/550 [..............................] - ETA: 1:13 - loss: 0.3565 - accuracy: 0.8900"
     ]
    },
    {
     "name": "stderr",
     "output_type": "stream",
     "text": [
      "2022-04-11 12:02:31.621973: W tensorflow/core/grappler/optimizers/data/auto_shard.cc:695] AUTO sharding policy will apply DATA sharding policy as it failed to apply FILE sharding policy because of the following reason: Did not find a shardable source, walked to a node which is not a dataset: name: \"FlatMapDataset/_9\"\n",
      "op: \"FlatMapDataset\"\n",
      "input: \"PrefetchDataset/_8\"\n",
      "attr {\n",
      "  key: \"Targuments\"\n",
      "  value {\n",
      "    list {\n",
      "    }\n",
      "  }\n",
      "}\n",
      "attr {\n",
      "  key: \"f\"\n",
      "  value {\n",
      "    func {\n",
      "      name: \"__inference_Dataset_flat_map_slice_batch_indices_48372\"\n",
      "    }\n",
      "  }\n",
      "}\n",
      "attr {\n",
      "  key: \"output_shapes\"\n",
      "  value {\n",
      "    list {\n",
      "      shape {\n",
      "        dim {\n",
      "          size: 100\n",
      "        }\n",
      "      }\n",
      "    }\n",
      "  }\n",
      "}\n",
      "attr {\n",
      "  key: \"output_types\"\n",
      "  value {\n",
      "    list {\n",
      "      type: DT_INT64\n",
      "    }\n",
      "  }\n",
      "}\n",
      ". Consider either turning off auto-sharding or switching the auto_shard_policy to DATA to shard this dataset. You can do this by creating a new `tf.data.Options()` object then setting `options.experimental_distribute.auto_shard_policy = AutoShardPolicy.DATA` before applying the options object to the dataset via `dataset.with_options(options)`.\n"
     ]
    },
    {
     "name": "stdout",
     "output_type": "stream",
     "text": [
      "550/550 [==============================] - 1s 2ms/step - loss: 0.2787 - accuracy: 0.9212\n",
      "Epoch 2/10\n",
      "550/550 [==============================] - 1s 2ms/step - loss: 0.2710 - accuracy: 0.9241\n",
      "Epoch 3/10\n",
      "550/550 [==============================] - 1s 2ms/step - loss: 0.2639 - accuracy: 0.9261\n",
      "Epoch 4/10\n",
      "550/550 [==============================] - 1s 2ms/step - loss: 0.2572 - accuracy: 0.9279\n",
      "Epoch 5/10\n",
      "550/550 [==============================] - 1s 2ms/step - loss: 0.2509 - accuracy: 0.9299\n",
      "Epoch 6/10\n",
      "550/550 [==============================] - 2s 3ms/step - loss: 0.2447 - accuracy: 0.9318\n",
      "Epoch 7/10\n",
      "550/550 [==============================] - 1s 2ms/step - loss: 0.2389 - accuracy: 0.9336\n",
      "Epoch 8/10\n",
      "550/550 [==============================] - 1s 2ms/step - loss: 0.2335 - accuracy: 0.9357\n",
      "Epoch 9/10\n",
      "550/550 [==============================] - 1s 2ms/step - loss: 0.2281 - accuracy: 0.9368\n",
      "Epoch 10/10\n",
      "550/550 [==============================] - 1s 2ms/step - loss: 0.2230 - accuracy: 0.9386\n"
     ]
    }
   ],
   "source": [
    "# Load a model as a distributed model\n",
    "with distribution.scope():\n",
    "    mirrored_model = keras.models.load_model(\"my_mnist_model.h5\")\n",
    "    \n",
    "batch_size = 100 # must be divisible by the number of replicas\n",
    "history = mirrored_model.fit(X_train, y_train, epochs=10, batch_size=batch_size)"
   ]
  },
  {
   "cell_type": "markdown",
   "id": "43939c4f",
   "metadata": {},
   "source": [
    "## Training a Model on a TensorFlow Cluster"
   ]
  },
  {
   "cell_type": "code",
   "execution_count": 32,
   "id": "c1e36a27",
   "metadata": {},
   "outputs": [],
   "source": [
    "# Cluster spec.\n",
    "cluster_spec = {\n",
    "    \"worker\": [\n",
    "        \"machine-a.examplecom:2222\",  # /job:worker/task:0\n",
    "        \"machine-b.example.com:2222\"  # /job:worker/task:1\n",
    "    ],\n",
    "    \"ps\": [\"machine-a.example.com:2221\"] # /job:ps/task:0\n",
    "}"
   ]
  },
  {
   "cell_type": "markdown",
   "id": "39777291",
   "metadata": {},
   "source": [
    "The following is an example of starting a task (a process) on one of the machine."
   ]
  },
  {
   "cell_type": "code",
   "execution_count": 38,
   "id": "0c43a28e",
   "metadata": {},
   "outputs": [],
   "source": [
    "import os \n",
    "import json\n",
    "\n",
    "# Before importing tensorflow, set the \"TF_CONFIG\" environment variable\n",
    "os.environ[\"TF_CONFIG\"] = json.dumps({\n",
    "    \"cluster\": cluster_spec,\n",
    "    \"task\": {\"type\": \"worker\", \"index\": 0}\n",
    "})\n",
    "\n",
    "# Then, import tensorflow \n",
    "import tensorflow as tf\n",
    "from tensorflow import keras"
   ]
  },
  {
   "cell_type": "markdown",
   "id": "aff55724",
   "metadata": {},
   "source": [
    "On each machine, run the following training code."
   ]
  },
  {
   "cell_type": "code",
   "execution_count": 39,
   "id": "114b7f10",
   "metadata": {
    "scrolled": true
   },
   "outputs": [
    {
     "ename": "RuntimeError",
     "evalue": "Collective ops must be configured at program startup",
     "output_type": "error",
     "traceback": [
      "\u001b[0;31m---------------------------------------------------------------------------\u001b[0m",
      "\u001b[0;31mRuntimeError\u001b[0m                              Traceback (most recent call last)",
      "Input \u001b[0;32mIn [39]\u001b[0m, in \u001b[0;36m<module>\u001b[0;34m\u001b[0m\n\u001b[0;32m----> 1\u001b[0m distribution \u001b[38;5;241m=\u001b[39m \u001b[43mtf\u001b[49m\u001b[38;5;241;43m.\u001b[39;49m\u001b[43mdistribute\u001b[49m\u001b[38;5;241;43m.\u001b[39;49m\u001b[43mexperimental\u001b[49m\u001b[38;5;241;43m.\u001b[39;49m\u001b[43mMultiWorkerMirroredStrategy\u001b[49m\u001b[43m(\u001b[49m\u001b[43m)\u001b[49m\n\u001b[1;32m      3\u001b[0m \u001b[38;5;28;01mwith\u001b[39;00m distribution\u001b[38;5;241m.\u001b[39mscop():\n\u001b[1;32m      4\u001b[0m     mirrored_model \u001b[38;5;241m=\u001b[39m keras\u001b[38;5;241m.\u001b[39mmodels\u001b[38;5;241m.\u001b[39mSequential([\n\u001b[1;32m      5\u001b[0m         keras\u001b[38;5;241m.\u001b[39mlayers\u001b[38;5;241m.\u001b[39mFlatten(input_shape\u001b[38;5;241m=\u001b[39m[\u001b[38;5;241m28\u001b[39m, \u001b[38;5;241m28\u001b[39m, \u001b[38;5;241m1\u001b[39m]),\n\u001b[1;32m      6\u001b[0m         keras\u001b[38;5;241m.\u001b[39mlayers\u001b[38;5;241m.\u001b[39mDense(\u001b[38;5;241m100\u001b[39m, activation\u001b[38;5;241m=\u001b[39m\u001b[38;5;124m\"\u001b[39m\u001b[38;5;124mrelu\u001b[39m\u001b[38;5;124m\"\u001b[39m),\n\u001b[1;32m      7\u001b[0m         keras\u001b[38;5;241m.\u001b[39mlayers\u001b[38;5;241m.\u001b[39mDense(\u001b[38;5;241m10\u001b[39m, activation\u001b[38;5;241m=\u001b[39m\u001b[38;5;124m\"\u001b[39m\u001b[38;5;124msoftmax\u001b[39m\u001b[38;5;124m\"\u001b[39m)\n\u001b[1;32m      8\u001b[0m     ])\n",
      "File \u001b[0;32m~/GazeDemo/gaze_env/lib/python3.8/site-packages/tensorflow/python/util/deprecation.py:337\u001b[0m, in \u001b[0;36mdeprecated.<locals>.deprecated_wrapper.<locals>.new_func\u001b[0;34m(*args, **kwargs)\u001b[0m\n\u001b[1;32m    329\u001b[0m       _PRINTED_WARNING[func] \u001b[38;5;241m=\u001b[39m \u001b[38;5;28;01mTrue\u001b[39;00m\n\u001b[1;32m    330\u001b[0m     logging\u001b[38;5;241m.\u001b[39mwarning(\n\u001b[1;32m    331\u001b[0m         \u001b[38;5;124m'\u001b[39m\u001b[38;5;124mFrom \u001b[39m\u001b[38;5;132;01m%s\u001b[39;00m\u001b[38;5;124m: \u001b[39m\u001b[38;5;132;01m%s\u001b[39;00m\u001b[38;5;124m (from \u001b[39m\u001b[38;5;132;01m%s\u001b[39;00m\u001b[38;5;124m) is deprecated and will be removed \u001b[39m\u001b[38;5;132;01m%s\u001b[39;00m\u001b[38;5;124m.\u001b[39m\u001b[38;5;130;01m\\n\u001b[39;00m\u001b[38;5;124m'\u001b[39m\n\u001b[1;32m    332\u001b[0m         \u001b[38;5;124m'\u001b[39m\u001b[38;5;124mInstructions for updating:\u001b[39m\u001b[38;5;130;01m\\n\u001b[39;00m\u001b[38;5;132;01m%s\u001b[39;00m\u001b[38;5;124m'\u001b[39m,\n\u001b[0;32m   (...)\u001b[0m\n\u001b[1;32m    335\u001b[0m         \u001b[38;5;124m'\u001b[39m\u001b[38;5;124min a future version\u001b[39m\u001b[38;5;124m'\u001b[39m \u001b[38;5;28;01mif\u001b[39;00m date \u001b[38;5;129;01mis\u001b[39;00m \u001b[38;5;28;01mNone\u001b[39;00m \u001b[38;5;28;01melse\u001b[39;00m (\u001b[38;5;124m'\u001b[39m\u001b[38;5;124mafter \u001b[39m\u001b[38;5;132;01m%s\u001b[39;00m\u001b[38;5;124m'\u001b[39m \u001b[38;5;241m%\u001b[39m date),\n\u001b[1;32m    336\u001b[0m         instructions)\n\u001b[0;32m--> 337\u001b[0m \u001b[38;5;28;01mreturn\u001b[39;00m \u001b[43mfunc\u001b[49m\u001b[43m(\u001b[49m\u001b[38;5;241;43m*\u001b[39;49m\u001b[43margs\u001b[49m\u001b[43m,\u001b[49m\u001b[43m \u001b[49m\u001b[38;5;241;43m*\u001b[39;49m\u001b[38;5;241;43m*\u001b[39;49m\u001b[43mkwargs\u001b[49m\u001b[43m)\u001b[49m\n",
      "File \u001b[0;32m~/GazeDemo/gaze_env/lib/python3.8/site-packages/tensorflow/python/distribute/collective_all_reduce_strategy.py:253\u001b[0m, in \u001b[0;36m_CollectiveAllReduceStrategyExperimental.__init__\u001b[0;34m(self, communication, cluster_resolver)\u001b[0m\n\u001b[1;32m    240\u001b[0m \u001b[38;5;124;03m\"\"\"Creates the strategy.\u001b[39;00m\n\u001b[1;32m    241\u001b[0m \n\u001b[1;32m    242\u001b[0m \u001b[38;5;124;03mArgs:\u001b[39;00m\n\u001b[0;32m   (...)\u001b[0m\n\u001b[1;32m    249\u001b[0m \u001b[38;5;124;03m    `tf.distribute.cluster_resolver.TFConfigClusterResolver` is used.\u001b[39;00m\n\u001b[1;32m    250\u001b[0m \u001b[38;5;124;03m\"\"\"\u001b[39;00m\n\u001b[1;32m    251\u001b[0m communication_options \u001b[38;5;241m=\u001b[39m collective_util\u001b[38;5;241m.\u001b[39mOptions(\n\u001b[1;32m    252\u001b[0m     implementation\u001b[38;5;241m=\u001b[39mcommunication)\n\u001b[0;32m--> 253\u001b[0m \u001b[38;5;28;43msuper\u001b[39;49m\u001b[43m(\u001b[49m\u001b[43m_CollectiveAllReduceStrategyExperimental\u001b[49m\u001b[43m,\u001b[49m\n\u001b[1;32m    254\u001b[0m \u001b[43m      \u001b[49m\u001b[38;5;28;43mself\u001b[39;49m\u001b[43m)\u001b[49m\u001b[38;5;241;43m.\u001b[39;49m\u001b[38;5;21;43m__init__\u001b[39;49m\u001b[43m(\u001b[49m\u001b[43mcluster_resolver\u001b[49m\u001b[43m,\u001b[49m\u001b[43m \u001b[49m\u001b[43mcommunication_options\u001b[49m\u001b[43m)\u001b[49m\n",
      "File \u001b[0;32m~/GazeDemo/gaze_env/lib/python3.8/site-packages/tensorflow/python/distribute/collective_all_reduce_strategy.py:186\u001b[0m, in \u001b[0;36mCollectiveAllReduceStrategy.__init__\u001b[0;34m(self, cluster_resolver, communication_options)\u001b[0m\n\u001b[1;32m    183\u001b[0m \u001b[38;5;28;01mif\u001b[39;00m communication_options \u001b[38;5;129;01mis\u001b[39;00m \u001b[38;5;28;01mNone\u001b[39;00m:\n\u001b[1;32m    184\u001b[0m   communication_options \u001b[38;5;241m=\u001b[39m collective_util\u001b[38;5;241m.\u001b[39mOptions()\n\u001b[1;32m    185\u001b[0m \u001b[38;5;28msuper\u001b[39m(CollectiveAllReduceStrategy, \u001b[38;5;28mself\u001b[39m)\u001b[38;5;241m.\u001b[39m\u001b[38;5;21m__init__\u001b[39m(\n\u001b[0;32m--> 186\u001b[0m     \u001b[43mCollectiveAllReduceExtended\u001b[49m\u001b[43m(\u001b[49m\n\u001b[1;32m    187\u001b[0m \u001b[43m        \u001b[49m\u001b[38;5;28;43mself\u001b[39;49m\u001b[43m,\u001b[49m\n\u001b[1;32m    188\u001b[0m \u001b[43m        \u001b[49m\u001b[43mcluster_resolver\u001b[49m\u001b[38;5;241;43m=\u001b[39;49m\u001b[43mcluster_resolver\u001b[49m\u001b[43m,\u001b[49m\n\u001b[1;32m    189\u001b[0m \u001b[43m        \u001b[49m\u001b[43mcommunication_options\u001b[49m\u001b[38;5;241;43m=\u001b[39;49m\u001b[43mcommunication_options\u001b[49m\u001b[43m)\u001b[49m)\n\u001b[1;32m    191\u001b[0m distribute_lib\u001b[38;5;241m.\u001b[39mdistribution_strategy_gauge\u001b[38;5;241m.\u001b[39mget_cell(\u001b[38;5;124m\"\u001b[39m\u001b[38;5;124mV2\u001b[39m\u001b[38;5;124m\"\u001b[39m)\u001b[38;5;241m.\u001b[39mset(\n\u001b[1;32m    192\u001b[0m     \u001b[38;5;124m\"\u001b[39m\u001b[38;5;124mMultiWorkerMirroredStrategy\u001b[39m\u001b[38;5;124m\"\u001b[39m)\n\u001b[1;32m    193\u001b[0m \u001b[38;5;66;03m# pylint: disable=protected-access\u001b[39;00m\n",
      "File \u001b[0;32m~/GazeDemo/gaze_env/lib/python3.8/site-packages/tensorflow/python/distribute/collective_all_reduce_strategy.py:327\u001b[0m, in \u001b[0;36mCollectiveAllReduceExtended.__init__\u001b[0;34m(self, container_strategy, cluster_resolver, communication_options)\u001b[0m\n\u001b[1;32m    325\u001b[0m \u001b[38;5;28mself\u001b[39m\u001b[38;5;241m.\u001b[39m_communication_options \u001b[38;5;241m=\u001b[39m communication_options\n\u001b[1;32m    326\u001b[0m \u001b[38;5;28mself\u001b[39m\u001b[38;5;241m.\u001b[39m_collective_key_base \u001b[38;5;241m=\u001b[39m container_strategy\u001b[38;5;241m.\u001b[39m_collective_key_base  \u001b[38;5;66;03m# pylint: disable=protected-access\u001b[39;00m\n\u001b[0;32m--> 327\u001b[0m \u001b[38;5;28;43mself\u001b[39;49m\u001b[38;5;241;43m.\u001b[39;49m\u001b[43m_initialize_strategy\u001b[49m\u001b[43m(\u001b[49m\u001b[38;5;28;43mself\u001b[39;49m\u001b[38;5;241;43m.\u001b[39;49m\u001b[43m_cluster_resolver\u001b[49m\u001b[43m)\u001b[49m\n\u001b[1;32m    328\u001b[0m \u001b[38;5;28mself\u001b[39m\u001b[38;5;241m.\u001b[39m_cfer_fn_cache \u001b[38;5;241m=\u001b[39m weakref\u001b[38;5;241m.\u001b[39mWeakKeyDictionary()\n\u001b[1;32m    329\u001b[0m \u001b[38;5;28mself\u001b[39m\u001b[38;5;241m.\u001b[39mexperimental_enable_get_next_as_optional \u001b[38;5;241m=\u001b[39m \u001b[38;5;28;01mTrue\u001b[39;00m\n",
      "File \u001b[0;32m~/GazeDemo/gaze_env/lib/python3.8/site-packages/tensorflow/python/distribute/collective_all_reduce_strategy.py:339\u001b[0m, in \u001b[0;36mCollectiveAllReduceExtended._initialize_strategy\u001b[0;34m(self, cluster_resolver)\u001b[0m\n\u001b[1;32m    337\u001b[0m \u001b[38;5;28;01mdef\u001b[39;00m \u001b[38;5;21m_initialize_strategy\u001b[39m(\u001b[38;5;28mself\u001b[39m, cluster_resolver):\n\u001b[1;32m    338\u001b[0m   \u001b[38;5;28;01mif\u001b[39;00m cluster_resolver\u001b[38;5;241m.\u001b[39mcluster_spec()\u001b[38;5;241m.\u001b[39mas_dict():\n\u001b[0;32m--> 339\u001b[0m     \u001b[38;5;28;43mself\u001b[39;49m\u001b[38;5;241;43m.\u001b[39;49m\u001b[43m_initialize_multi_worker\u001b[49m\u001b[43m(\u001b[49m\u001b[43mcluster_resolver\u001b[49m\u001b[43m)\u001b[49m\n\u001b[1;32m    340\u001b[0m   \u001b[38;5;28;01melse\u001b[39;00m:\n\u001b[1;32m    341\u001b[0m     \u001b[38;5;28mself\u001b[39m\u001b[38;5;241m.\u001b[39m_initialize_local(cluster_resolver)\n",
      "File \u001b[0;32m~/GazeDemo/gaze_env/lib/python3.8/site-packages/tensorflow/python/distribute/collective_all_reduce_strategy.py:438\u001b[0m, in \u001b[0;36mCollectiveAllReduceExtended._initialize_multi_worker\u001b[0;34m(self, cluster_resolver)\u001b[0m\n\u001b[1;32m    434\u001b[0m \u001b[38;5;28mself\u001b[39m\u001b[38;5;241m.\u001b[39m_host_input_device \u001b[38;5;241m=\u001b[39m numpy_dataset\u001b[38;5;241m.\u001b[39mSingleDevice(\u001b[38;5;28mself\u001b[39m\u001b[38;5;241m.\u001b[39m_worker_device)\n\u001b[1;32m    436\u001b[0m \u001b[38;5;28;01mif\u001b[39;00m (ops\u001b[38;5;241m.\u001b[39mexecuting_eagerly_outside_functions() \u001b[38;5;129;01mand\u001b[39;00m\n\u001b[1;32m    437\u001b[0m     \u001b[38;5;129;01mnot\u001b[39;00m \u001b[38;5;28mgetattr\u001b[39m(\u001b[38;5;28mself\u001b[39m, \u001b[38;5;124m\"\u001b[39m\u001b[38;5;124m_local_or_standalone_client_mode\u001b[39m\u001b[38;5;124m\"\u001b[39m, \u001b[38;5;28;01mFalse\u001b[39;00m)):\n\u001b[0;32m--> 438\u001b[0m   \u001b[43mcontext\u001b[49m\u001b[38;5;241;43m.\u001b[39;49m\u001b[43mcontext\u001b[49m\u001b[43m(\u001b[49m\u001b[43m)\u001b[49m\u001b[38;5;241;43m.\u001b[39;49m\u001b[43mconfigure_collective_ops\u001b[49m\u001b[43m(\u001b[49m\n\u001b[1;32m    439\u001b[0m \u001b[43m      \u001b[49m\u001b[43mcollective_leader\u001b[49m\u001b[38;5;241;43m=\u001b[39;49m\u001b[43mmulti_worker_util\u001b[49m\u001b[38;5;241;43m.\u001b[39;49m\u001b[43mcollective_leader\u001b[49m\u001b[43m(\u001b[49m\n\u001b[1;32m    440\u001b[0m \u001b[43m          \u001b[49m\u001b[43mcluster_spec\u001b[49m\u001b[43m,\u001b[49m\u001b[43m \u001b[49m\u001b[43mtask_type\u001b[49m\u001b[43m,\u001b[49m\u001b[43m \u001b[49m\u001b[43mtask_id\u001b[49m\u001b[43m)\u001b[49m\u001b[43m,\u001b[49m\n\u001b[1;32m    441\u001b[0m \u001b[43m      \u001b[49m\u001b[43mscoped_allocator_enabled_ops\u001b[49m\u001b[38;5;241;43m=\u001b[39;49m\u001b[43m(\u001b[49m\u001b[38;5;124;43m\"\u001b[39;49m\u001b[38;5;124;43mCollectiveReduce\u001b[39;49m\u001b[38;5;124;43m\"\u001b[39;49m\u001b[43m,\u001b[49m\u001b[43m)\u001b[49m\u001b[43m,\u001b[49m\n\u001b[1;32m    442\u001b[0m \u001b[43m      \u001b[49m\u001b[43mdevice_filters\u001b[49m\u001b[38;5;241;43m=\u001b[39;49m\u001b[43m(\u001b[49m\u001b[38;5;124;43m\"\u001b[39;49m\u001b[38;5;124;43m/job:\u001b[39;49m\u001b[38;5;132;43;01m%s\u001b[39;49;00m\u001b[38;5;124;43m/task:\u001b[39;49m\u001b[38;5;132;43;01m%d\u001b[39;49;00m\u001b[38;5;124;43m\"\u001b[39;49m\u001b[43m \u001b[49m\u001b[38;5;241;43m%\u001b[39;49m\u001b[43m \u001b[49m\u001b[43m(\u001b[49m\u001b[43mtask_type\u001b[49m\u001b[43m,\u001b[49m\u001b[43m \u001b[49m\u001b[43mtask_id\u001b[49m\u001b[43m)\u001b[49m\u001b[43m,\u001b[49m\u001b[43m)\u001b[49m\u001b[43m)\u001b[49m\n\u001b[1;32m    443\u001b[0m   \u001b[38;5;28mself\u001b[39m\u001b[38;5;241m.\u001b[39m_collective_ops_configured \u001b[38;5;241m=\u001b[39m \u001b[38;5;28;01mTrue\u001b[39;00m\n\u001b[1;32m    445\u001b[0m \u001b[38;5;66;03m# Starting a std server in eager mode and in independent worker mode.\u001b[39;00m\n",
      "File \u001b[0;32m~/GazeDemo/gaze_env/lib/python3.8/site-packages/tensorflow/python/eager/context.py:739\u001b[0m, in \u001b[0;36mContext.configure_collective_ops\u001b[0;34m(self, collective_leader, scoped_allocator_enabled_ops, use_nccl_communication, device_filters)\u001b[0m\n\u001b[1;32m    736\u001b[0m     \u001b[38;5;28;01mreturn\u001b[39;00m\n\u001b[1;32m    738\u001b[0m \u001b[38;5;28;01mif\u001b[39;00m \u001b[38;5;28mself\u001b[39m\u001b[38;5;241m.\u001b[39m_context_handle \u001b[38;5;129;01mis\u001b[39;00m \u001b[38;5;129;01mnot\u001b[39;00m \u001b[38;5;28;01mNone\u001b[39;00m:\n\u001b[0;32m--> 739\u001b[0m   \u001b[38;5;28;01mraise\u001b[39;00m \u001b[38;5;167;01mRuntimeError\u001b[39;00m(\u001b[38;5;124m\"\u001b[39m\u001b[38;5;124mCollective ops must be configured at program startup\u001b[39m\u001b[38;5;124m\"\u001b[39m)\n\u001b[1;32m    741\u001b[0m \u001b[38;5;28mself\u001b[39m\u001b[38;5;241m.\u001b[39m_collective_leader \u001b[38;5;241m=\u001b[39m collective_leader\n\u001b[1;32m    742\u001b[0m \u001b[38;5;28mself\u001b[39m\u001b[38;5;241m.\u001b[39m_collective_scoped_allocator_enabled_ops \u001b[38;5;241m=\u001b[39m scoped_allocator_enabled_ops\n",
      "\u001b[0;31mRuntimeError\u001b[0m: Collective ops must be configured at program startup"
     ]
    }
   ],
   "source": [
    "distribution = tf.distribute.experimental.MultiWorkerMirroredStrategy()\n",
    "\n",
    "with distribution.scop():\n",
    "    mirrored_model = keras.models.Sequential([\n",
    "        keras.layers.Flatten(input_shape=[28, 28, 1]),\n",
    "        keras.layers.Dense(100, activation=\"relu\"),\n",
    "        keras.layers.Dense(10, activation=\"softmax\")\n",
    "    ])\n",
    "    mirrored_model.compile(loss=\"sparse_categorical_crossentropy\",\n",
    "                           optimizer=keras.optimizers.SGD(lr=1e-2),\n",
    "                           metrics=[\"accuracy\"])\n",
    "    \n",
    "batch_size = 100 # must be divisible by the number of replicas\n",
    "history = mirrored_model.fit(X_train, y_train, epochs=10, batch_size=batch_size)"
   ]
  },
  {
   "cell_type": "markdown",
   "id": "b02e904f",
   "metadata": {},
   "source": [
    "Train on TPUs"
   ]
  },
  {
   "cell_type": "code",
   "execution_count": 40,
   "id": "d076dac0",
   "metadata": {
    "scrolled": true
   },
   "outputs": [
    {
     "ename": "ValueError",
     "evalue": "Please provide a TPU Name to connect to.",
     "output_type": "error",
     "traceback": [
      "\u001b[0;31m---------------------------------------------------------------------------\u001b[0m",
      "\u001b[0;31mValueError\u001b[0m                                Traceback (most recent call last)",
      "Input \u001b[0;32mIn [40]\u001b[0m, in \u001b[0;36m<module>\u001b[0;34m\u001b[0m\n\u001b[0;32m----> 1\u001b[0m resolver \u001b[38;5;241m=\u001b[39m \u001b[43mtf\u001b[49m\u001b[38;5;241;43m.\u001b[39;49m\u001b[43mdistribute\u001b[49m\u001b[38;5;241;43m.\u001b[39;49m\u001b[43mcluster_resolver\u001b[49m\u001b[38;5;241;43m.\u001b[39;49m\u001b[43mTPUClusterResolver\u001b[49m\u001b[43m(\u001b[49m\u001b[43m)\u001b[49m\n\u001b[1;32m      2\u001b[0m tf\u001b[38;5;241m.\u001b[39mtpu\u001b[38;5;241m.\u001b[39mexperimental\u001b[38;5;241m.\u001b[39minitialize_tpu_system(resolver)\n\u001b[1;32m      3\u001b[0m tpu_strategy \u001b[38;5;241m=\u001b[39m tf\u001b[38;5;241m.\u001b[39mdistribute\u001b[38;5;241m.\u001b[39mexperimental\u001b[38;5;241m.\u001b[39mTPUStrategy(resolver)\n",
      "File \u001b[0;32m~/GazeDemo/gaze_env/lib/python3.8/site-packages/tensorflow/python/distribute/cluster_resolver/tpu/tpu_cluster_resolver.py:201\u001b[0m, in \u001b[0;36mTPUClusterResolver.__init__\u001b[0;34m(self, tpu, zone, project, job_name, coordinator_name, coordinator_address, credentials, service, discovery_url)\u001b[0m\n\u001b[1;32m    158\u001b[0m \u001b[38;5;124;03m\"\"\"Creates a new TPUClusterResolver object.\u001b[39;00m\n\u001b[1;32m    159\u001b[0m \n\u001b[1;32m    160\u001b[0m \u001b[38;5;124;03mThe ClusterResolver will then use the parameters to query the Cloud TPU APIs\u001b[39;00m\n\u001b[0;32m   (...)\u001b[0m\n\u001b[1;32m    196\u001b[0m \u001b[38;5;124;03m    Google Cloud environment.\u001b[39;00m\n\u001b[1;32m    197\u001b[0m \u001b[38;5;124;03m\"\"\"\u001b[39;00m\n\u001b[1;32m    199\u001b[0m \u001b[38;5;28;01mif\u001b[39;00m tpu \u001b[38;5;241m!=\u001b[39m \u001b[38;5;124m'\u001b[39m\u001b[38;5;124mlocal\u001b[39m\u001b[38;5;124m'\u001b[39m:\n\u001b[1;32m    200\u001b[0m   \u001b[38;5;66;03m# Default Cloud environment\u001b[39;00m\n\u001b[0;32m--> 201\u001b[0m   \u001b[38;5;28mself\u001b[39m\u001b[38;5;241m.\u001b[39m_cloud_tpu_client \u001b[38;5;241m=\u001b[39m \u001b[43mclient\u001b[49m\u001b[38;5;241;43m.\u001b[39;49m\u001b[43mClient\u001b[49m\u001b[43m(\u001b[49m\n\u001b[1;32m    202\u001b[0m \u001b[43m      \u001b[49m\u001b[43mtpu\u001b[49m\u001b[38;5;241;43m=\u001b[39;49m\u001b[43mtpu\u001b[49m\u001b[43m,\u001b[49m\n\u001b[1;32m    203\u001b[0m \u001b[43m      \u001b[49m\u001b[43mzone\u001b[49m\u001b[38;5;241;43m=\u001b[39;49m\u001b[43mzone\u001b[49m\u001b[43m,\u001b[49m\n\u001b[1;32m    204\u001b[0m \u001b[43m      \u001b[49m\u001b[43mproject\u001b[49m\u001b[38;5;241;43m=\u001b[39;49m\u001b[43mproject\u001b[49m\u001b[43m,\u001b[49m\n\u001b[1;32m    205\u001b[0m \u001b[43m      \u001b[49m\u001b[43mcredentials\u001b[49m\u001b[38;5;241;43m=\u001b[39;49m\u001b[43mcredentials\u001b[49m\u001b[43m,\u001b[49m\n\u001b[1;32m    206\u001b[0m \u001b[43m      \u001b[49m\u001b[43mservice\u001b[49m\u001b[38;5;241;43m=\u001b[39;49m\u001b[43mservice\u001b[49m\u001b[43m,\u001b[49m\n\u001b[1;32m    207\u001b[0m \u001b[43m      \u001b[49m\u001b[43mdiscovery_url\u001b[49m\u001b[38;5;241;43m=\u001b[39;49m\u001b[43mdiscovery_url\u001b[49m\u001b[43m)\u001b[49m\n\u001b[1;32m    208\u001b[0m   \u001b[38;5;28mself\u001b[39m\u001b[38;5;241m.\u001b[39m_tpu \u001b[38;5;241m=\u001b[39m \u001b[38;5;28mself\u001b[39m\u001b[38;5;241m.\u001b[39m_cloud_tpu_client\u001b[38;5;241m.\u001b[39mname()\n\u001b[1;32m    209\u001b[0m \u001b[38;5;28;01melse\u001b[39;00m:\n\u001b[1;32m    210\u001b[0m   \u001b[38;5;66;03m# Directly connected TPU environment\u001b[39;00m\n",
      "File \u001b[0;32m~/GazeDemo/gaze_env/lib/python3.8/site-packages/tensorflow/python/tpu/client/client.py:146\u001b[0m, in \u001b[0;36mClient.__init__\u001b[0;34m(self, tpu, zone, project, credentials, service, discovery_url)\u001b[0m\n\u001b[1;32m    143\u001b[0m tpu \u001b[38;5;241m=\u001b[39m _get_tpu_name(tpu)\n\u001b[1;32m    145\u001b[0m \u001b[38;5;28;01mif\u001b[39;00m tpu \u001b[38;5;129;01mis\u001b[39;00m \u001b[38;5;28;01mNone\u001b[39;00m:\n\u001b[0;32m--> 146\u001b[0m   \u001b[38;5;28;01mraise\u001b[39;00m \u001b[38;5;167;01mValueError\u001b[39;00m(\u001b[38;5;124m'\u001b[39m\u001b[38;5;124mPlease provide a TPU Name to connect to.\u001b[39m\u001b[38;5;124m'\u001b[39m)\n\u001b[1;32m    148\u001b[0m \u001b[38;5;28mself\u001b[39m\u001b[38;5;241m.\u001b[39m_tpu \u001b[38;5;241m=\u001b[39m _as_text(tpu)\n\u001b[1;32m    150\u001b[0m \u001b[38;5;28mself\u001b[39m\u001b[38;5;241m.\u001b[39m_use_api \u001b[38;5;241m=\u001b[39m \u001b[38;5;129;01mnot\u001b[39;00m \u001b[38;5;28mself\u001b[39m\u001b[38;5;241m.\u001b[39m_tpu\u001b[38;5;241m.\u001b[39mstartswith(\u001b[38;5;124m'\u001b[39m\u001b[38;5;124mgrpc://\u001b[39m\u001b[38;5;124m'\u001b[39m)\n",
      "\u001b[0;31mValueError\u001b[0m: Please provide a TPU Name to connect to."
     ]
    }
   ],
   "source": [
    "resolver = tf.distribute.cluster_resolver.TPUClusterResolver()\n",
    "tf.tpu.experimental.initialize_tpu_system(resolver)\n",
    "tpu_strategy = tf.distribute.experimental.TPUStrategy(resolver)"
   ]
  },
  {
   "cell_type": "code",
   "execution_count": null,
   "id": "40beb4ae",
   "metadata": {},
   "outputs": [],
   "source": []
  },
  {
   "cell_type": "code",
   "execution_count": null,
   "id": "c0347f03",
   "metadata": {},
   "outputs": [],
   "source": []
  }
 ],
 "metadata": {
  "kernelspec": {
   "display_name": "Python 3 (ipykernel)",
   "language": "python",
   "name": "python3"
  },
  "language_info": {
   "codemirror_mode": {
    "name": "ipython",
    "version": 3
   },
   "file_extension": ".py",
   "mimetype": "text/x-python",
   "name": "python",
   "nbconvert_exporter": "python",
   "pygments_lexer": "ipython3",
   "version": "3.8.10"
  }
 },
 "nbformat": 4,
 "nbformat_minor": 5
}
