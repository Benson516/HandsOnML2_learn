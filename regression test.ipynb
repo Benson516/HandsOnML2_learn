{
 "cells": [
  {
   "cell_type": "code",
   "execution_count": 1,
   "id": "2849a16f",
   "metadata": {},
   "outputs": [],
   "source": [
    "import numpy as np\n",
    "import tensorflow as tf\n",
    "from tensorflow import keras\n",
    "\n",
    "# To plot pretty figures\n",
    "%matplotlib inline\n",
    "import matplotlib as mpl\n",
    "import matplotlib.pyplot as plt\n",
    "mpl.rc('axes', labelsize=14)\n",
    "mpl.rc('xtick', labelsize=12)\n",
    "mpl.rc('ytick', labelsize=12)"
   ]
  },
  {
   "cell_type": "code",
   "execution_count": 2,
   "id": "d88304da",
   "metadata": {},
   "outputs": [],
   "source": [
    "def draw_func(func_in, x_min=-5, x_max=5, mark='r--', linewidth=1, label='func'):\n",
    "    n_sample = 100\n",
    "    X_func = np.linspace(x_min, x_max, n_sample).reshape(n_sample, 1)\n",
    "    y_func = func_in(X_func)\n",
    "    plt.plot(X_func, y_func, mark, linewidth=linewidth, label=label)"
   ]
  },
  {
   "cell_type": "markdown",
   "id": "7b8a6434",
   "metadata": {},
   "source": [
    "Generate polynomial data"
   ]
  },
  {
   "cell_type": "code",
   "execution_count": 3,
   "id": "7c9c5be0",
   "metadata": {},
   "outputs": [],
   "source": [
    "def func_0(X): # Reference\n",
    "    return 0.5 * X**3 + 0.5 * X**2 + X + 2\n",
    "def func_1(X): # Variation 1: parellel\n",
    "    return 0.5 * X**3 + 0.5 * X**2 + X + 30\n",
    "def func_2(X): # Variation 2: cross\n",
    "    return -0.5 * X**3 + 0.5 * X**2 + X + 30\n",
    "def func_3(X): # Variation 3: slightly split\n",
    "    return 0.3 * X**3 + 1.0 * X**2 + X + 15 "
   ]
  },
  {
   "cell_type": "code",
   "execution_count": 4,
   "id": "30a8d99a",
   "metadata": {},
   "outputs": [],
   "source": [
    "func_dict = dict()\n",
    "func_dict[\"f1\"] = func_0\n",
    "# func_dict[\"f2\"] = func_1\n",
    "func_dict[\"f2\"] = func_2\n",
    "# func_dict[\"f2\"] = func_3\n",
    "\n",
    "# Average line\n",
    "func_dict[\"f_avg\"] = ( lambda X: 0.5*func_dict[\"f1\"](X) + 0.5*func_dict[\"f2\"](X) )"
   ]
  },
  {
   "cell_type": "code",
   "execution_count": 5,
   "id": "1eba7433",
   "metadata": {},
   "outputs": [],
   "source": [
    "def draw_normal_func(func_dict):\n",
    "    draw_func(func_dict[\"f1\"], mark='c:', label=\"f1\")\n",
    "    draw_func(func_dict[\"f2\"], mark='g:', label=\"f2\")\n",
    "    draw_func(func_dict[\"f_avg\"], mark='m--', label=\"f_avg\")"
   ]
  },
  {
   "cell_type": "code",
   "execution_count": 6,
   "id": "d37d5a22",
   "metadata": {},
   "outputs": [
    {
     "name": "stdout",
     "output_type": "stream",
     "text": [
      "(m, m_train) = (50, 40)\n",
      "y_data_pure.shape = (50, 1)\n",
      "y_data.shape = (50, 1)\n"
     ]
    }
   ],
   "source": [
    "np.random.seed(42)\n",
    "m = 50 # 100 # 200\n",
    "m_train = m // 5 * 4\n",
    "print(\"(m, m_train) = (%d, %d)\" % (m, m_train))\n",
    "# Input\n",
    "X_data = 10 * np.random.rand(m, 1) - 5 # Note: X is randomly sampled, so we don't need to shuffle the data again\n",
    "\n",
    "# Output\n",
    "is_multiout = True\n",
    "# is_multiout = False\n",
    "if is_multiout:\n",
    "    m_h = m // 2\n",
    "    X_data_1 = X_data[:m_h]\n",
    "    X_data_2 = X_data[m_h:]\n",
    "    y_data_pure_1 = func_dict[\"f1\"](X_data_1) \n",
    "    y_data_pure_2 = func_dict[\"f2\"](X_data_2) \n",
    "    y_data_pure = np.vstack([y_data_pure_1, y_data_pure_2])\n",
    "    print(\"y_data_pure.shape = %s\" % str(y_data_pure.shape))\n",
    "else:        \n",
    "    y_data_pure = 0.5 * X_data**3 + 0.5 * X_data**2 + X_data + 2 \n",
    "\n",
    "# Label (+noise)\n",
    "n_stddev = 2.0\n",
    "# n_stddev = 10.0\n",
    "y_data = y_data_pure + np.random.randn(m, 1) * n_stddev\n",
    "print(\"y_data.shape = %s\" % str(y_data.shape))"
   ]
  },
  {
   "cell_type": "code",
   "execution_count": 7,
   "id": "17c867f8",
   "metadata": {},
   "outputs": [],
   "source": [
    "X_train = X_data[:m_train]\n",
    "y_train = y_data[:m_train]\n",
    "X_valid = X_data[m_train:]\n",
    "y_valid = y_data[m_train:]"
   ]
  },
  {
   "cell_type": "code",
   "execution_count": 8,
   "id": "093f8e75",
   "metadata": {},
   "outputs": [
    {
     "name": "stdout",
     "output_type": "stream",
     "text": [
      "(40, 1)\n"
     ]
    }
   ],
   "source": [
    "print(X_train.shape)"
   ]
  },
  {
   "cell_type": "code",
   "execution_count": 9,
   "id": "aebff4d0",
   "metadata": {},
   "outputs": [
    {
     "data": {
      "image/png": "[encoded data removed]",
      "text/plain": [
       "<Figure size 432x288 with 1 Axes>"
      ]
     },
     "metadata": {
      "needs_background": "light"
     },
     "output_type": "display_data"
    }
   ],
   "source": [
    "plt.plot(X_train, y_train, \"b.\")\n",
    "draw_normal_func(func_dict)\n",
    "plt.xlabel(\"$x_1$\", fontsize=18)\n",
    "plt.ylabel(\"$y$\", rotation=0, fontsize=18)\n",
    "# plt.axis([-3, 3, 0, 10])\n",
    "plt.show()"
   ]
  },
  {
   "cell_type": "markdown",
   "id": "adb5c6d8",
   "metadata": {},
   "source": [
    "Build the regression model"
   ]
  },
  {
   "cell_type": "code",
   "execution_count": 10,
   "id": "80eb45bb",
   "metadata": {},
   "outputs": [
    {
     "name": "stderr",
     "output_type": "stream",
     "text": [
      "/home/benson516/ml/my_env/lib/python3.6/site-packages/tensorflow/python/keras/optimizer_v2/optimizer_v2.py:375: UserWarning: The `lr` argument is deprecated, use `learning_rate` instead.\n",
      "  \"The `lr` argument is deprecated, use `learning_rate` instead.\")\n"
     ]
    }
   ],
   "source": [
    "model = keras.models.Sequential([\n",
    "    keras.layers.Dense(30, activation=\"relu\", input_shape=X_train.shape[1:]),\n",
    "    keras.layers.Dense(30, activation=\"relu\"),\n",
    "    keras.layers.Dense(1)\n",
    "])\n",
    "\n",
    "optimizer = keras.optimizers.SGD(lr=0.001, momentum=0.9)\n",
    "model.compile(loss=\"mean_squared_error\", optimizer=optimizer)"
   ]
  },
  {
   "cell_type": "code",
   "execution_count": 11,
   "id": "2abcd4f5",
   "metadata": {
    "scrolled": true
   },
   "outputs": [
    {
     "name": "stdout",
     "output_type": "stream",
     "text": [
      "Epoch 1/100\n",
      "2/2 [==============================] - 1s 295ms/step - loss: 1111.4342 - val_loss: 1965.2002\n",
      "Epoch 2/100\n",
      "2/2 [==============================] - 0s 79ms/step - loss: 1096.2495 - val_loss: 1907.2893\n",
      "Epoch 3/100\n",
      "2/2 [==============================] - 0s 91ms/step - loss: 1058.1500 - val_loss: 1831.1383\n",
      "Epoch 4/100\n",
      "2/2 [==============================] - 0s 89ms/step - loss: 983.6553 - val_loss: 1694.8988\n",
      "Epoch 5/100\n",
      "2/2 [==============================] - 0s 91ms/step - loss: 924.2687 - val_loss: 1601.0089\n",
      "Epoch 6/100\n",
      "2/2 [==============================] - 0s 93ms/step - loss: 860.1633 - val_loss: 1490.3375\n",
      "Epoch 7/100\n",
      "2/2 [==============================] - 0s 83ms/step - loss: 833.6641 - val_loss: 1430.4641\n",
      "Epoch 8/100\n",
      "2/2 [==============================] - 0s 88ms/step - loss: 871.5742 - val_loss: 1348.4539\n",
      "Epoch 9/100\n",
      "2/2 [==============================] - 0s 89ms/step - loss: 908.6938 - val_loss: 1010.4865\n",
      "Epoch 10/100\n",
      "2/2 [==============================] - 0s 98ms/step - loss: 923.2379 - val_loss: 746.1461\n",
      "Epoch 11/100\n",
      "2/2 [==============================] - 0s 81ms/step - loss: 948.8121 - val_loss: 894.4694\n",
      "Epoch 12/100\n",
      "2/2 [==============================] - 0s 99ms/step - loss: 858.1595 - val_loss: 1297.6863\n",
      "Epoch 13/100\n",
      "2/2 [==============================] - 0s 77ms/step - loss: 832.4869 - val_loss: 1571.7750\n",
      "Epoch 14/100\n",
      "2/2 [==============================] - 0s 96ms/step - loss: 844.3081 - val_loss: 1556.9240\n",
      "Epoch 15/100\n",
      "2/2 [==============================] - 0s 83ms/step - loss: 855.5270 - val_loss: 1421.6755\n",
      "Epoch 16/100\n",
      "2/2 [==============================] - 0s 84ms/step - loss: 827.1214 - val_loss: 1326.8774\n",
      "Epoch 17/100\n",
      "2/2 [==============================] - 0s 90ms/step - loss: 850.6846 - val_loss: 1188.3658\n",
      "Epoch 18/100\n",
      "2/2 [==============================] - 0s 90ms/step - loss: 861.3799 - val_loss: 1156.0322\n",
      "Epoch 19/100\n",
      "2/2 [==============================] - 0s 87ms/step - loss: 877.1129 - val_loss: 1064.8087\n",
      "Epoch 20/100\n",
      "2/2 [==============================] - 0s 81ms/step - loss: 871.0974 - val_loss: 1116.2551\n",
      "Epoch 21/100\n",
      "2/2 [==============================] - 0s 92ms/step - loss: 882.5475 - val_loss: 1463.9443\n",
      "Epoch 22/100\n",
      "2/2 [==============================] - 0s 103ms/step - loss: 843.3521 - val_loss: 1565.3020\n",
      "Epoch 23/100\n",
      "2/2 [==============================] - 0s 91ms/step - loss: 853.0599 - val_loss: 1563.3408\n",
      "Epoch 24/100\n",
      "2/2 [==============================] - 0s 100ms/step - loss: 837.1372 - val_loss: 1537.6195\n",
      "Epoch 25/100\n",
      "2/2 [==============================] - 0s 110ms/step - loss: 907.7459 - val_loss: 1529.2393\n",
      "Epoch 26/100\n",
      "2/2 [==============================] - 0s 102ms/step - loss: 872.9623 - val_loss: 1640.0344\n",
      "Epoch 27/100\n",
      "2/2 [==============================] - 0s 107ms/step - loss: 944.0756 - val_loss: 1655.6748\n",
      "Epoch 28/100\n",
      "2/2 [==============================] - 0s 119ms/step - loss: 950.4344 - val_loss: 1576.2063\n",
      "Epoch 29/100\n",
      "2/2 [==============================] - 0s 119ms/step - loss: 886.9449 - val_loss: 1483.7585\n",
      "Epoch 30/100\n",
      "2/2 [==============================] - 0s 94ms/step - loss: 838.9662 - val_loss: 1515.5391\n",
      "Epoch 31/100\n",
      "2/2 [==============================] - 0s 113ms/step - loss: 941.3275 - val_loss: 1429.3230\n",
      "Epoch 32/100\n",
      "2/2 [==============================] - 0s 98ms/step - loss: 821.3934 - val_loss: 1454.6133\n",
      "Epoch 33/100\n",
      "2/2 [==============================] - 0s 95ms/step - loss: 873.9956 - val_loss: 1444.0006\n",
      "Epoch 34/100\n",
      "2/2 [==============================] - 0s 98ms/step - loss: 899.9650 - val_loss: 1355.3180\n",
      "Epoch 35/100\n",
      "2/2 [==============================] - 0s 106ms/step - loss: 883.5739 - val_loss: 1243.8855\n",
      "Epoch 36/100\n",
      "2/2 [==============================] - 0s 92ms/step - loss: 867.0770 - val_loss: 1141.5397\n",
      "Epoch 37/100\n",
      "2/2 [==============================] - 0s 86ms/step - loss: 840.7197 - val_loss: 1097.6361\n",
      "Epoch 38/100\n",
      "2/2 [==============================] - 0s 106ms/step - loss: 845.3434 - val_loss: 1116.8043\n",
      "Epoch 39/100\n",
      "2/2 [==============================] - 0s 110ms/step - loss: 840.0203 - val_loss: 1182.0009\n",
      "Epoch 40/100\n",
      "2/2 [==============================] - 0s 115ms/step - loss: 834.9208 - val_loss: 1236.2869\n",
      "Epoch 41/100\n",
      "2/2 [==============================] - 0s 96ms/step - loss: 828.9110 - val_loss: 1274.0154\n",
      "Epoch 42/100\n",
      "2/2 [==============================] - 0s 83ms/step - loss: 832.7625 - val_loss: 1327.4812\n",
      "Epoch 43/100\n",
      "2/2 [==============================] - 0s 105ms/step - loss: 853.8851 - val_loss: 1365.4930\n",
      "Epoch 44/100\n",
      "2/2 [==============================] - 0s 87ms/step - loss: 836.3364 - val_loss: 1359.9517\n",
      "Epoch 45/100\n",
      "2/2 [==============================] - 0s 89ms/step - loss: 829.1218 - val_loss: 1359.9733\n",
      "Epoch 46/100\n",
      "2/2 [==============================] - 0s 105ms/step - loss: 858.5750 - val_loss: 1335.4175\n",
      "Epoch 47/100\n",
      "2/2 [==============================] - 0s 120ms/step - loss: 834.8303 - val_loss: 1333.5334\n",
      "Epoch 48/100\n",
      "2/2 [==============================] - 0s 110ms/step - loss: 834.4100 - val_loss: 1343.0156\n",
      "Epoch 49/100\n",
      "2/2 [==============================] - 0s 116ms/step - loss: 838.2599 - val_loss: 1323.1589\n",
      "Epoch 50/100\n",
      "2/2 [==============================] - 0s 128ms/step - loss: 815.7265 - val_loss: 1327.4119\n",
      "Epoch 51/100\n",
      "2/2 [==============================] - 0s 133ms/step - loss: 920.7331 - val_loss: 1269.2678\n",
      "Epoch 52/100\n",
      "2/2 [==============================] - 0s 122ms/step - loss: 812.6335 - val_loss: 1317.1954\n",
      "Epoch 53/100\n",
      "2/2 [==============================] - 0s 108ms/step - loss: 879.1823 - val_loss: 1405.7253\n",
      "Epoch 54/100\n",
      "2/2 [==============================] - 0s 124ms/step - loss: 935.4332 - val_loss: 1454.5762\n",
      "Epoch 55/100\n",
      "2/2 [==============================] - 0s 109ms/step - loss: 942.4984 - val_loss: 1486.0259\n",
      "Epoch 56/100\n",
      "2/2 [==============================] - 0s 130ms/step - loss: 939.0693 - val_loss: 1472.3151\n",
      "Epoch 57/100\n",
      "2/2 [==============================] - 0s 110ms/step - loss: 918.2440 - val_loss: 1369.4629\n",
      "Epoch 58/100\n",
      "2/2 [==============================] - 0s 114ms/step - loss: 881.7676 - val_loss: 1137.3782\n",
      "Epoch 59/100\n",
      "2/2 [==============================] - 0s 113ms/step - loss: 858.7435 - val_loss: 936.5529\n",
      "Epoch 60/100\n",
      "2/2 [==============================] - 0s 108ms/step - loss: 887.5835 - val_loss: 952.6996\n",
      "Epoch 61/100\n",
      "2/2 [==============================] - 0s 122ms/step - loss: 878.8576 - val_loss: 1088.2423\n",
      "Epoch 62/100\n",
      "2/2 [==============================] - 0s 139ms/step - loss: 851.3831 - val_loss: 1231.0287\n",
      "Epoch 63/100\n",
      "2/2 [==============================] - 0s 109ms/step - loss: 852.5150 - val_loss: 1307.5715\n",
      "Epoch 64/100\n",
      "2/2 [==============================] - 0s 101ms/step - loss: 861.1771 - val_loss: 1374.0094\n",
      "Epoch 65/100\n",
      "2/2 [==============================] - 0s 125ms/step - loss: 870.8416 - val_loss: 1343.1086\n",
      "Epoch 66/100\n",
      "2/2 [==============================] - 0s 136ms/step - loss: 862.2197 - val_loss: 1248.5435\n",
      "Epoch 67/100\n",
      "2/2 [==============================] - 0s 98ms/step - loss: 833.8420 - val_loss: 1217.5555\n",
      "Epoch 68/100\n",
      "2/2 [==============================] - 0s 111ms/step - loss: 933.4709 - val_loss: 1264.1920\n",
      "Epoch 69/100\n",
      "2/2 [==============================] - 0s 115ms/step - loss: 869.5107 - val_loss: 1544.5790\n",
      "Epoch 70/100\n",
      "2/2 [==============================] - 0s 113ms/step - loss: 955.4260 - val_loss: 1587.5363\n",
      "Epoch 71/100\n",
      "2/2 [==============================] - 0s 130ms/step - loss: 959.3626 - val_loss: 1559.4911\n",
      "Epoch 72/100\n",
      "2/2 [==============================] - 0s 113ms/step - loss: 937.6562 - val_loss: 1531.2582\n",
      "Epoch 73/100\n",
      "2/2 [==============================] - 0s 105ms/step - loss: 894.0034 - val_loss: 1502.6843\n",
      "Epoch 74/100\n",
      "2/2 [==============================] - 0s 107ms/step - loss: 867.5625 - val_loss: 1499.1331\n",
      "Epoch 75/100\n",
      "2/2 [==============================] - 0s 117ms/step - loss: 831.5370 - val_loss: 1490.8473\n",
      "Epoch 76/100\n",
      "2/2 [==============================] - 0s 119ms/step - loss: 839.0740 - val_loss: 1465.9948\n",
      "Epoch 77/100\n",
      "2/2 [==============================] - 0s 118ms/step - loss: 848.1901 - val_loss: 1429.6204\n",
      "Epoch 78/100\n",
      "2/2 [==============================] - 0s 112ms/step - loss: 864.1448 - val_loss: 1350.4564\n",
      "Epoch 79/100\n"
     ]
    },
    {
     "name": "stdout",
     "output_type": "stream",
     "text": [
      "2/2 [==============================] - 0s 133ms/step - loss: 828.8015 - val_loss: 1291.3923\n",
      "Epoch 80/100\n",
      "2/2 [==============================] - 0s 130ms/step - loss: 832.2528 - val_loss: 1226.7272\n",
      "Epoch 81/100\n",
      "2/2 [==============================] - 0s 106ms/step - loss: 826.3341 - val_loss: 1200.0188\n",
      "Epoch 82/100\n",
      "2/2 [==============================] - 0s 116ms/step - loss: 846.6760 - val_loss: 1166.9875\n",
      "Epoch 83/100\n",
      "2/2 [==============================] - 0s 113ms/step - loss: 822.2802 - val_loss: 985.7250\n",
      "Epoch 84/100\n",
      "2/2 [==============================] - 0s 109ms/step - loss: 860.9482 - val_loss: 847.8514\n",
      "Epoch 85/100\n",
      "2/2 [==============================] - 0s 95ms/step - loss: 883.4346 - val_loss: 996.8815\n",
      "Epoch 86/100\n",
      "2/2 [==============================] - 0s 106ms/step - loss: 848.7552 - val_loss: 1283.8204\n",
      "Epoch 87/100\n",
      "2/2 [==============================] - 0s 96ms/step - loss: 824.1522 - val_loss: 1378.8994\n",
      "Epoch 88/100\n",
      "2/2 [==============================] - 0s 114ms/step - loss: 868.7584 - val_loss: 1386.5505\n",
      "Epoch 89/100\n",
      "2/2 [==============================] - 0s 98ms/step - loss: 874.8851 - val_loss: 1379.6543\n",
      "Epoch 90/100\n",
      "2/2 [==============================] - 0s 99ms/step - loss: 867.5898 - val_loss: 1367.1598\n",
      "Epoch 91/100\n",
      "2/2 [==============================] - 0s 132ms/step - loss: 853.1633 - val_loss: 1352.3774\n",
      "Epoch 92/100\n",
      "2/2 [==============================] - 0s 135ms/step - loss: 841.5652 - val_loss: 1371.6650\n",
      "Epoch 93/100\n",
      "2/2 [==============================] - 0s 125ms/step - loss: 854.1581 - val_loss: 1426.4519\n",
      "Epoch 94/100\n",
      "2/2 [==============================] - 0s 169ms/step - loss: 921.7407 - val_loss: 1369.1042\n",
      "Epoch 95/100\n",
      "2/2 [==============================] - 0s 115ms/step - loss: 844.4370 - val_loss: 1355.3010\n",
      "Epoch 96/100\n",
      "2/2 [==============================] - 0s 107ms/step - loss: 861.1548 - val_loss: 1367.0505\n",
      "Epoch 97/100\n",
      "2/2 [==============================] - 0s 115ms/step - loss: 875.8667 - val_loss: 1367.9266\n",
      "Epoch 98/100\n",
      "2/2 [==============================] - 0s 130ms/step - loss: 881.9684 - val_loss: 1357.3923\n",
      "Epoch 99/100\n",
      "2/2 [==============================] - 0s 133ms/step - loss: 878.7114 - val_loss: 1336.0801\n",
      "Epoch 100/100\n",
      "2/2 [==============================] - 0s 123ms/step - loss: 871.0369 - val_loss: 1315.1084\n"
     ]
    }
   ],
   "source": [
    "history = model.fit(X_train, y_train, epochs=100,\n",
    "                    validation_data=(X_valid, y_valid))"
   ]
  },
  {
   "cell_type": "markdown",
   "id": "a236e204",
   "metadata": {},
   "source": [
    "Plot the result"
   ]
  },
  {
   "cell_type": "code",
   "execution_count": 12,
   "id": "17a94525",
   "metadata": {},
   "outputs": [
    {
     "data": {
      "image/png": "[encoded data removed]",
      "text/plain": [
       "<Figure size 576x360 with 1 Axes>"
      ]
     },
     "metadata": {
      "needs_background": "light"
     },
     "output_type": "display_data"
    }
   ],
   "source": [
    "import pandas as pd\n",
    "\n",
    "pd.DataFrame(history.history).plot(figsize=(8, 5))\n",
    "plt.grid(True)\n",
    "# plt.gca().set_ylim(0, 1)\n",
    "plt.show()"
   ]
  },
  {
   "cell_type": "code",
   "execution_count": 13,
   "id": "d138cfa6",
   "metadata": {},
   "outputs": [
    {
     "data": {
      "image/png": "[encoded data removed]",
      "text/plain": [
       "<Figure size 432x288 with 1 Axes>"
      ]
     },
     "metadata": {
      "needs_background": "light"
     },
     "output_type": "display_data"
    }
   ],
   "source": [
    "X_new = np.linspace(-5, 5, 100).reshape(100, 1)\n",
    "y_new = model.predict(X_new)\n",
    "#\n",
    "plt.plot(X_train, y_train, \"b.\")\n",
    "plt.plot(X_new, y_new, \"r-\", linewidth=2, label=\"Predictions\")\n",
    "draw_normal_func(func_dict)\n",
    "plt.xlabel(\"$x_1$\", fontsize=18)\n",
    "plt.ylabel(\"$y$\", rotation=0, fontsize=18)\n",
    "plt.legend(loc=\"upper left\", fontsize=14)\n",
    "# plt.axis([-3, 3, 0, 10])\n",
    "plt.show()"
   ]
  },
  {
   "cell_type": "markdown",
   "id": "b1db8036",
   "metadata": {},
   "source": [
    "# Simulated CNN Feature Map (1-D, grids)"
   ]
  },
  {
   "cell_type": "code",
   "execution_count": 14,
   "id": "21d09639",
   "metadata": {},
   "outputs": [],
   "source": [
    "class num2grid(keras.layers.Layer):\n",
    "    def __init__(self, units, x_min=-10, x_max=10, sigma=1.0, activation=None, **kwargs):\n",
    "        super().__init__(**kwargs)\n",
    "        self.units = units\n",
    "        self.x_min = x_min\n",
    "        self.x_max = x_max\n",
    "        self.sigma = sigma\n",
    "        self.sigma2 = self.sigma**2\n",
    "        self.activation = keras.activations.get(activation)\n",
    "        \n",
    "    def build(self, batch_input_shape):\n",
    "        #\n",
    "        self.x_grid = np.linspace(self.x_min, self.x_max, self.units, endpoint=True)\n",
    "        #\n",
    "        super().build(batch_input_shape) # must be at the end\n",
    "        \n",
    "    def call(self, X):\n",
    "        gauss_grid = tf.exp( -(self.x_grid - X)**2 / (2.0*self.sigma2) )\n",
    "        return self.activation(gauss_grid)\n",
    "    \n",
    "    def compute_output_shape(self, batch_input_shape):\n",
    "        return tf.TensorShape(batch_input_shape.as_list()[:-1] + [self.units])\n",
    "    \n",
    "    def get_config(self):\n",
    "        base_config = super().get_config()\n",
    "        return {**base_config, \n",
    "                \"units\": self.units,\n",
    "                \"x_min\": self.x_min,\n",
    "                \"x_max\": self.x_max,\n",
    "                \"sigma\": self.sigma,\n",
    "                \"activation\": keras.activations.serialize(self.activation)}"
   ]
  },
  {
   "cell_type": "code",
   "execution_count": 15,
   "id": "5b72f2fe",
   "metadata": {},
   "outputs": [
    {
     "name": "stderr",
     "output_type": "stream",
     "text": [
      "/home/benson516/ml/my_env/lib/python3.6/site-packages/tensorflow/python/keras/optimizer_v2/optimizer_v2.py:375: UserWarning: The `lr` argument is deprecated, use `learning_rate` instead.\n",
      "  \"The `lr` argument is deprecated, use `learning_rate` instead.\")\n"
     ]
    }
   ],
   "source": [
    "model = keras.models.Sequential([\n",
    "    num2grid(5,x_min=-10, x_max=10, sigma=3.0, input_shape=X_train.shape[1:]),\n",
    "    keras.layers.Dense(30, activation=\"relu\"),\n",
    "#     keras.layers.Dense(30, activation=\"relu\"),\n",
    "    keras.layers.Dense(1)\n",
    "])\n",
    "\n",
    "optimizer = keras.optimizers.SGD(lr=0.001, momentum=0.9)\n",
    "model.compile(loss=\"mean_squared_error\", optimizer=optimizer)"
   ]
  },
  {
   "cell_type": "code",
   "execution_count": 16,
   "id": "03e05663",
   "metadata": {
    "scrolled": true
   },
   "outputs": [
    {
     "name": "stdout",
     "output_type": "stream",
     "text": [
      "Epoch 1/100\n",
      "2/2 [==============================] - 1s 360ms/step - loss: 1130.8679 - val_loss: 2021.3601\n",
      "Epoch 2/100\n",
      "2/2 [==============================] - 0s 117ms/step - loss: 1121.7559 - val_loss: 1981.4883\n",
      "Epoch 3/100\n",
      "2/2 [==============================] - 0s 119ms/step - loss: 1107.7083 - val_loss: 1929.6234\n",
      "Epoch 4/100\n",
      "2/2 [==============================] - 0s 108ms/step - loss: 1084.2982 - val_loss: 1866.9567\n",
      "Epoch 5/100\n",
      "2/2 [==============================] - 0s 136ms/step - loss: 1061.3164 - val_loss: 1776.4485\n",
      "Epoch 6/100\n",
      "2/2 [==============================] - 0s 145ms/step - loss: 1025.5896 - val_loss: 1647.0105\n",
      "Epoch 7/100\n",
      "2/2 [==============================] - 0s 160ms/step - loss: 979.1704 - val_loss: 1457.4927\n",
      "Epoch 8/100\n",
      "2/2 [==============================] - 0s 102ms/step - loss: 919.0311 - val_loss: 1200.8955\n",
      "Epoch 9/100\n",
      "2/2 [==============================] - 0s 113ms/step - loss: 878.7098 - val_loss: 933.2101\n",
      "Epoch 10/100\n",
      "2/2 [==============================] - 0s 103ms/step - loss: 884.9847 - val_loss: 757.2150\n",
      "Epoch 11/100\n",
      "2/2 [==============================] - 0s 112ms/step - loss: 945.3714 - val_loss: 707.5677\n",
      "Epoch 12/100\n",
      "2/2 [==============================] - 0s 106ms/step - loss: 970.1437 - val_loss: 799.0710\n",
      "Epoch 13/100\n",
      "2/2 [==============================] - 0s 114ms/step - loss: 922.1499 - val_loss: 998.9160\n",
      "Epoch 14/100\n",
      "2/2 [==============================] - 0s 116ms/step - loss: 873.4742 - val_loss: 1145.8954\n",
      "Epoch 15/100\n",
      "2/2 [==============================] - 0s 111ms/step - loss: 857.9266 - val_loss: 1208.4349\n",
      "Epoch 16/100\n",
      "2/2 [==============================] - 0s 119ms/step - loss: 857.7191 - val_loss: 1198.8461\n",
      "Epoch 17/100\n",
      "2/2 [==============================] - 0s 103ms/step - loss: 848.4510 - val_loss: 1127.9948\n",
      "Epoch 18/100\n",
      "2/2 [==============================] - 0s 102ms/step - loss: 848.9824 - val_loss: 1085.2527\n",
      "Epoch 19/100\n",
      "2/2 [==============================] - 0s 99ms/step - loss: 841.5380 - val_loss: 1094.4203\n",
      "Epoch 20/100\n",
      "2/2 [==============================] - 0s 118ms/step - loss: 837.9354 - val_loss: 1111.0164\n",
      "Epoch 21/100\n",
      "2/2 [==============================] - 0s 115ms/step - loss: 835.8187 - val_loss: 1139.8352\n",
      "Epoch 22/100\n",
      "2/2 [==============================] - 0s 99ms/step - loss: 832.3441 - val_loss: 1169.6233\n",
      "Epoch 23/100\n",
      "2/2 [==============================] - 0s 112ms/step - loss: 830.5005 - val_loss: 1239.3118\n",
      "Epoch 24/100\n",
      "2/2 [==============================] - 0s 112ms/step - loss: 829.4051 - val_loss: 1344.0330\n",
      "Epoch 25/100\n",
      "2/2 [==============================] - 0s 116ms/step - loss: 832.7679 - val_loss: 1393.6592\n",
      "Epoch 26/100\n",
      "2/2 [==============================] - 0s 118ms/step - loss: 831.9109 - val_loss: 1376.4287\n",
      "Epoch 27/100\n",
      "2/2 [==============================] - 0s 114ms/step - loss: 824.1151 - val_loss: 1300.6422\n",
      "Epoch 28/100\n",
      "2/2 [==============================] - 0s 132ms/step - loss: 815.0109 - val_loss: 1176.8770\n",
      "Epoch 29/100\n",
      "2/2 [==============================] - 0s 105ms/step - loss: 825.1946 - val_loss: 1057.7261\n",
      "Epoch 30/100\n",
      "2/2 [==============================] - 0s 115ms/step - loss: 859.6854 - val_loss: 1022.3524\n",
      "Epoch 31/100\n",
      "2/2 [==============================] - 0s 117ms/step - loss: 882.6969 - val_loss: 1080.1760\n",
      "Epoch 32/100\n",
      "2/2 [==============================] - 0s 117ms/step - loss: 860.9149 - val_loss: 1253.5504\n",
      "Epoch 33/100\n",
      "2/2 [==============================] - 0s 118ms/step - loss: 838.2541 - val_loss: 1448.6962\n",
      "Epoch 34/100\n",
      "2/2 [==============================] - 0s 123ms/step - loss: 827.5768 - val_loss: 1528.6726\n",
      "Epoch 35/100\n",
      "2/2 [==============================] - 0s 111ms/step - loss: 832.2718 - val_loss: 1514.4705\n",
      "Epoch 36/100\n",
      "2/2 [==============================] - 0s 107ms/step - loss: 833.6860 - val_loss: 1433.3625\n",
      "Epoch 37/100\n",
      "2/2 [==============================] - 0s 135ms/step - loss: 836.2073 - val_loss: 1358.9058\n",
      "Epoch 38/100\n",
      "2/2 [==============================] - 0s 115ms/step - loss: 823.8446 - val_loss: 1328.3032\n",
      "Epoch 39/100\n",
      "2/2 [==============================] - 0s 127ms/step - loss: 822.2189 - val_loss: 1237.7572\n",
      "Epoch 40/100\n",
      "2/2 [==============================] - 0s 106ms/step - loss: 817.8610 - val_loss: 1101.5115\n",
      "Epoch 41/100\n",
      "2/2 [==============================] - 0s 110ms/step - loss: 835.0641 - val_loss: 1022.3842\n",
      "Epoch 42/100\n",
      "2/2 [==============================] - 0s 120ms/step - loss: 840.2109 - val_loss: 1037.6934\n",
      "Epoch 43/100\n",
      "2/2 [==============================] - 0s 115ms/step - loss: 841.5990 - val_loss: 1054.1926\n",
      "Epoch 44/100\n",
      "2/2 [==============================] - 0s 125ms/step - loss: 835.3525 - val_loss: 1073.6115\n",
      "Epoch 45/100\n",
      "2/2 [==============================] - 0s 116ms/step - loss: 830.0438 - val_loss: 1156.1484\n",
      "Epoch 46/100\n",
      "2/2 [==============================] - 0s 103ms/step - loss: 819.4473 - val_loss: 1279.5183\n",
      "Epoch 47/100\n",
      "2/2 [==============================] - 0s 123ms/step - loss: 837.7828 - val_loss: 1394.5247\n",
      "Epoch 48/100\n",
      "2/2 [==============================] - 0s 121ms/step - loss: 830.6008 - val_loss: 1402.1793\n",
      "Epoch 49/100\n",
      "2/2 [==============================] - 0s 138ms/step - loss: 831.1932 - val_loss: 1388.6027\n",
      "Epoch 50/100\n",
      "2/2 [==============================] - 0s 145ms/step - loss: 827.9532 - val_loss: 1362.3835\n",
      "Epoch 51/100\n",
      "2/2 [==============================] - 0s 121ms/step - loss: 822.9253 - val_loss: 1308.8157\n",
      "Epoch 52/100\n",
      "2/2 [==============================] - 0s 137ms/step - loss: 818.0543 - val_loss: 1215.4009\n",
      "Epoch 53/100\n",
      "2/2 [==============================] - 0s 119ms/step - loss: 818.0107 - val_loss: 1100.2949\n",
      "Epoch 54/100\n",
      "2/2 [==============================] - 0s 108ms/step - loss: 839.8024 - val_loss: 996.3846\n",
      "Epoch 55/100\n",
      "2/2 [==============================] - 0s 109ms/step - loss: 880.8504 - val_loss: 950.9821\n",
      "Epoch 56/100\n",
      "2/2 [==============================] - 0s 139ms/step - loss: 906.2039 - val_loss: 1003.8324\n",
      "Epoch 57/100\n",
      "2/2 [==============================] - 0s 147ms/step - loss: 875.3353 - val_loss: 1160.6320\n",
      "Epoch 58/100\n",
      "2/2 [==============================] - 0s 118ms/step - loss: 828.6943 - val_loss: 1301.3584\n",
      "Epoch 59/100\n",
      "2/2 [==============================] - 0s 141ms/step - loss: 819.6247 - val_loss: 1397.1000\n",
      "Epoch 60/100\n",
      "2/2 [==============================] - 0s 121ms/step - loss: 834.3038 - val_loss: 1440.4911\n",
      "Epoch 61/100\n",
      "2/2 [==============================] - 0s 145ms/step - loss: 838.9375 - val_loss: 1449.4509\n",
      "Epoch 62/100\n",
      "2/2 [==============================] - 0s 141ms/step - loss: 841.0818 - val_loss: 1437.4299\n",
      "Epoch 63/100\n",
      "2/2 [==============================] - 0s 151ms/step - loss: 839.5682 - val_loss: 1393.0286\n",
      "Epoch 64/100\n",
      "2/2 [==============================] - 0s 139ms/step - loss: 831.1963 - val_loss: 1322.9346\n",
      "Epoch 65/100\n",
      "2/2 [==============================] - 0s 119ms/step - loss: 827.6816 - val_loss: 1225.6809\n",
      "Epoch 66/100\n",
      "2/2 [==============================] - 0s 130ms/step - loss: 820.9544 - val_loss: 1165.9407\n",
      "Epoch 67/100\n",
      "2/2 [==============================] - 0s 133ms/step - loss: 825.1559 - val_loss: 1146.0856\n",
      "Epoch 68/100\n",
      "2/2 [==============================] - 0s 115ms/step - loss: 824.2576 - val_loss: 1177.2703\n",
      "Epoch 69/100\n",
      "2/2 [==============================] - 0s 131ms/step - loss: 822.3588 - val_loss: 1220.6536\n",
      "Epoch 70/100\n",
      "2/2 [==============================] - 0s 136ms/step - loss: 821.1663 - val_loss: 1261.6414\n",
      "Epoch 71/100\n",
      "2/2 [==============================] - 0s 119ms/step - loss: 820.8483 - val_loss: 1278.3186\n",
      "Epoch 72/100\n",
      "2/2 [==============================] - 0s 117ms/step - loss: 820.2670 - val_loss: 1279.6581\n",
      "Epoch 73/100\n",
      "2/2 [==============================] - 0s 141ms/step - loss: 820.8813 - val_loss: 1268.8367\n",
      "Epoch 74/100\n",
      "2/2 [==============================] - 0s 133ms/step - loss: 824.3951 - val_loss: 1260.3036\n",
      "Epoch 75/100\n",
      "2/2 [==============================] - 0s 128ms/step - loss: 818.8229 - val_loss: 1328.1047\n",
      "Epoch 76/100\n",
      "2/2 [==============================] - 0s 115ms/step - loss: 820.7822 - val_loss: 1417.3862\n",
      "Epoch 77/100\n",
      "2/2 [==============================] - 0s 128ms/step - loss: 826.4295 - val_loss: 1473.2874\n",
      "Epoch 78/100\n",
      "2/2 [==============================] - 0s 131ms/step - loss: 831.3480 - val_loss: 1473.4487\n",
      "Epoch 79/100\n"
     ]
    },
    {
     "name": "stdout",
     "output_type": "stream",
     "text": [
      "2/2 [==============================] - 0s 109ms/step - loss: 826.3908 - val_loss: 1392.8939\n",
      "Epoch 80/100\n",
      "2/2 [==============================] - 0s 120ms/step - loss: 816.7417 - val_loss: 1245.2439\n",
      "Epoch 81/100\n",
      "2/2 [==============================] - 0s 102ms/step - loss: 829.1296 - val_loss: 1130.4933\n",
      "Epoch 82/100\n",
      "2/2 [==============================] - 0s 116ms/step - loss: 845.6343 - val_loss: 1096.3563\n",
      "Epoch 83/100\n",
      "2/2 [==============================] - 0s 101ms/step - loss: 850.7592 - val_loss: 1131.8306\n",
      "Epoch 84/100\n",
      "2/2 [==============================] - 0s 120ms/step - loss: 835.3932 - val_loss: 1211.3187\n",
      "Epoch 85/100\n",
      "2/2 [==============================] - 0s 118ms/step - loss: 817.0507 - val_loss: 1288.5781\n",
      "Epoch 86/100\n",
      "2/2 [==============================] - 0s 113ms/step - loss: 819.5565 - val_loss: 1379.2405\n",
      "Epoch 87/100\n",
      "2/2 [==============================] - 0s 124ms/step - loss: 837.8148 - val_loss: 1436.3430\n",
      "Epoch 88/100\n",
      "2/2 [==============================] - 0s 113ms/step - loss: 854.0241 - val_loss: 1473.2471\n",
      "Epoch 89/100\n",
      "2/2 [==============================] - 0s 114ms/step - loss: 866.0435 - val_loss: 1508.7661\n",
      "Epoch 90/100\n",
      "2/2 [==============================] - 0s 111ms/step - loss: 875.9911 - val_loss: 1538.0713\n",
      "Epoch 91/100\n",
      "2/2 [==============================] - 0s 131ms/step - loss: 885.8853 - val_loss: 1542.7352\n",
      "Epoch 92/100\n",
      "2/2 [==============================] - 0s 143ms/step - loss: 877.1268 - val_loss: 1488.9357\n",
      "Epoch 93/100\n",
      "2/2 [==============================] - 0s 126ms/step - loss: 855.1730 - val_loss: 1386.5638\n",
      "Epoch 94/100\n",
      "2/2 [==============================] - 0s 119ms/step - loss: 827.4254 - val_loss: 1248.3109\n",
      "Epoch 95/100\n",
      "2/2 [==============================] - 0s 117ms/step - loss: 820.8164 - val_loss: 1119.2161\n",
      "Epoch 96/100\n",
      "2/2 [==============================] - 0s 108ms/step - loss: 841.2968 - val_loss: 1069.3190\n",
      "Epoch 97/100\n",
      "2/2 [==============================] - 0s 110ms/step - loss: 852.7108 - val_loss: 1164.7236\n",
      "Epoch 98/100\n",
      "2/2 [==============================] - 0s 102ms/step - loss: 823.1244 - val_loss: 1369.4546\n",
      "Epoch 99/100\n",
      "2/2 [==============================] - 0s 115ms/step - loss: 815.1517 - val_loss: 1540.8005\n",
      "Epoch 100/100\n",
      "2/2 [==============================] - 0s 137ms/step - loss: 848.0760 - val_loss: 1616.2131\n"
     ]
    }
   ],
   "source": [
    "history = model.fit(X_train, y_train, epochs=100,\n",
    "                    validation_data=(X_valid, y_valid))"
   ]
  },
  {
   "cell_type": "code",
   "execution_count": 17,
   "id": "6234933a",
   "metadata": {},
   "outputs": [
    {
     "data": {
      "image/png": "[encoded data removed]",
      "text/plain": [
       "<Figure size 576x360 with 1 Axes>"
      ]
     },
     "metadata": {
      "needs_background": "light"
     },
     "output_type": "display_data"
    }
   ],
   "source": [
    "import pandas as pd\n",
    "\n",
    "pd.DataFrame(history.history).plot(figsize=(8, 5))\n",
    "plt.grid(True)\n",
    "# plt.gca().set_ylim(0, 1)\n",
    "plt.show()"
   ]
  },
  {
   "cell_type": "code",
   "execution_count": 18,
   "id": "2d29fa01",
   "metadata": {},
   "outputs": [
    {
     "data": {
      "image/png": "[encoded data removed]",
      "text/plain": [
       "<Figure size 432x288 with 1 Axes>"
      ]
     },
     "metadata": {
      "needs_background": "light"
     },
     "output_type": "display_data"
    }
   ],
   "source": [
    "X_new = np.linspace(-5, 5, 100).reshape(100, 1)\n",
    "y_new = model.predict(X_new)\n",
    "#\n",
    "plt.plot(X_train, y_train, \"b.\")\n",
    "plt.plot(X_new, y_new, \"r-\", linewidth=2, label=\"Predictions\")\n",
    "draw_normal_func(func_dict)\n",
    "plt.xlabel(\"$x_1$\", fontsize=18)\n",
    "plt.ylabel(\"$y$\", rotation=0, fontsize=18)\n",
    "plt.legend(loc=\"upper left\", fontsize=14)\n",
    "# plt.axis([-3, 3, 0, 10])\n",
    "plt.show()"
   ]
  },
  {
   "cell_type": "markdown",
   "id": "8c5e0531",
   "metadata": {},
   "source": [
    "# Regression by Classification"
   ]
  },
  {
   "cell_type": "code",
   "execution_count": 19,
   "id": "69a37646",
   "metadata": {},
   "outputs": [],
   "source": [
    "class num2grid_np():\n",
    "    def __init__(self, units, x_min=-10, x_max=10, sigma=1.0):\n",
    "        self.units = units\n",
    "        self.x_min = x_min\n",
    "        self.x_max = x_max\n",
    "        self.sigma = sigma\n",
    "        self.sigma2 = self.sigma**2\n",
    "        self.x_grid = np.linspace(self.x_min, self.x_max, self.units, endpoint=True)\n",
    "        print(\"self.x_grid = %s\" % str(self.x_grid))\n",
    "        \n",
    "    def convert(self, X):\n",
    "        gauss_grid = np.exp( -(self.x_grid - X)**2 / (2.0*self.sigma2) )\n",
    "        if len(gauss_grid.shape) == 1:\n",
    "            gauss_grid = gauss_grid.reshape([1,-1])\n",
    "        grid_sum = np.sum(gauss_grid, axis=1, keepdims=True)\n",
    "        gauss_grid = gauss_grid / grid_sum\n",
    "        return gauss_grid\n",
    "    \n",
    "    def inv_convert(self, grid):\n",
    "        if len(grid.shape) == 1:\n",
    "            grid = grid.reshape([1,-1])\n",
    "        grid_sum = np.sum(grid, axis=1)\n",
    "#         print(grid_sum)\n",
    "        exp_num = np.sum((self.x_grid * grid), axis=1) / grid_sum # element-wise\n",
    "        return exp_num"
   ]
  },
  {
   "cell_type": "code",
   "execution_count": 20,
   "id": "bf54bfbd",
   "metadata": {},
   "outputs": [
    {
     "name": "stdout",
     "output_type": "stream",
     "text": [
      "self.x_grid = [-100.          -95.91836735  -91.83673469  -87.75510204  -83.67346939\n",
      "  -79.59183673  -75.51020408  -71.42857143  -67.34693878  -63.26530612\n",
      "  -59.18367347  -55.10204082  -51.02040816  -46.93877551  -42.85714286\n",
      "  -38.7755102   -34.69387755  -30.6122449   -26.53061224  -22.44897959\n",
      "  -18.36734694  -14.28571429  -10.20408163   -6.12244898   -2.04081633\n",
      "    2.04081633    6.12244898   10.20408163   14.28571429   18.36734694\n",
      "   22.44897959   26.53061224   30.6122449    34.69387755   38.7755102\n",
      "   42.85714286   46.93877551   51.02040816   55.10204082   59.18367347\n",
      "   63.26530612   67.34693878   71.42857143   75.51020408   79.59183673\n",
      "   83.67346939   87.75510204   91.83673469   95.91836735  100.        ]\n"
     ]
    }
   ],
   "source": [
    "# class_num = 10 # 10\n",
    "# n2g = num2grid_np(class_num, x_min=-100.0, x_max=100.0, sigma=20.0) \n",
    "class_num = 50\n",
    "n2g = num2grid_np(class_num, x_min=-100.0, x_max=100.0, sigma=5.0) # 5.0 "
   ]
  },
  {
   "cell_type": "code",
   "execution_count": 21,
   "id": "5c904ae7",
   "metadata": {},
   "outputs": [
    {
     "name": "stdout",
     "output_type": "stream",
     "text": [
      "[[5.32087956e-86 3.86113319e-79 1.43892139e-72 2.75391345e-66\n",
      "  2.70678923e-60 1.36631087e-54 3.54189384e-49 4.71533431e-44\n",
      "  3.22389115e-39 1.13198112e-34 2.04121584e-30 1.89029511e-26\n",
      "  8.99003166e-23 2.19575442e-19 2.75421121e-16 1.77419623e-13\n",
      "  5.86944439e-11 9.97202289e-09 8.70082579e-07 3.89877895e-05\n",
      "  8.97196734e-04 1.06032179e-02 6.43544562e-02 2.00590561e-01\n",
      "  3.21094817e-01 2.63965415e-01 1.11442718e-01 2.41628020e-02\n",
      "  2.69050515e-03 1.53854886e-04 4.51834812e-06 6.81457879e-08\n",
      "  5.27824177e-10 2.09957055e-12 4.28906472e-15 4.49972175e-18\n",
      "  2.42437419e-21 6.70817796e-25 9.53235992e-29 6.95644285e-33\n",
      "  2.60714354e-37 5.01803398e-42 4.96013143e-47 2.51793030e-52\n",
      "  6.56425064e-58 8.78855631e-64 6.04283668e-70 2.13380686e-76\n",
      "  3.86954844e-83 3.60376450e-90]]\n"
     ]
    }
   ],
   "source": [
    "grid_1 = n2g.convert(-1.2)\n",
    "print(grid_1)"
   ]
  },
  {
   "cell_type": "code",
   "execution_count": 22,
   "id": "7aea8973",
   "metadata": {},
   "outputs": [
    {
     "data": {
      "text/plain": [
       "array([-1.2])"
      ]
     },
     "execution_count": 22,
     "metadata": {},
     "output_type": "execute_result"
    }
   ],
   "source": [
    "n2g.inv_convert(grid_1)"
   ]
  },
  {
   "cell_type": "markdown",
   "id": "cd4c269c",
   "metadata": {},
   "source": [
    "### Convert the labels to grid (pre-processing)"
   ]
  },
  {
   "cell_type": "code",
   "execution_count": 23,
   "id": "c2fe8a44",
   "metadata": {},
   "outputs": [],
   "source": [
    "y_train_grid = n2g.convert(y_train)\n",
    "y_valid_grid = n2g.convert(y_valid)"
   ]
  },
  {
   "cell_type": "code",
   "execution_count": 24,
   "id": "47db408c",
   "metadata": {},
   "outputs": [
    {
     "name": "stdout",
     "output_type": "stream",
     "text": [
      "(40, 50)\n",
      "(10, 50)\n"
     ]
    }
   ],
   "source": [
    "print(y_train_grid.shape)\n",
    "print(y_valid_grid.shape)"
   ]
  },
  {
   "cell_type": "code",
   "execution_count": 25,
   "id": "7c2bed89",
   "metadata": {},
   "outputs": [
    {
     "name": "stderr",
     "output_type": "stream",
     "text": [
      "/home/benson516/ml/my_env/lib/python3.6/site-packages/tensorflow/python/keras/optimizer_v2/optimizer_v2.py:375: UserWarning: The `lr` argument is deprecated, use `learning_rate` instead.\n",
      "  \"The `lr` argument is deprecated, use `learning_rate` instead.\")\n"
     ]
    }
   ],
   "source": [
    "model = keras.models.Sequential([\n",
    "#     keras.layers.Dense(30, activation=\"relu\", input_shape=X_train.shape[1:]),\n",
    "    num2grid(5,x_min=-10, x_max=10, sigma=3.0, input_shape=X_train.shape[1:]),\n",
    "    keras.layers.Dense(30, activation=\"relu\"),\n",
    "    keras.layers.Dense(class_num, activation=\"softmax\"),\n",
    "])\n",
    "\n",
    "optimizer = keras.optimizers.SGD(lr=0.1, momentum=0.9)\n",
    "model.compile(loss=\"categorical_crossentropy\", optimizer=optimizer)"
   ]
  },
  {
   "cell_type": "code",
   "execution_count": 26,
   "id": "50dad8e1",
   "metadata": {
    "scrolled": true
   },
   "outputs": [
    {
     "name": "stdout",
     "output_type": "stream",
     "text": [
      "Epoch 1/100\n",
      "2/2 [==============================] - 1s 526ms/step - loss: 3.9255 - val_loss: 3.9342\n",
      "Epoch 2/100\n",
      "2/2 [==============================] - 0s 119ms/step - loss: 3.9041 - val_loss: 3.8946\n",
      "Epoch 3/100\n",
      "2/2 [==============================] - 0s 122ms/step - loss: 3.8644 - val_loss: 3.8432\n",
      "Epoch 4/100\n",
      "2/2 [==============================] - 0s 105ms/step - loss: 3.8093 - val_loss: 3.7867\n",
      "Epoch 5/100\n",
      "2/2 [==============================] - 0s 118ms/step - loss: 3.7515 - val_loss: 3.7233\n",
      "Epoch 6/100\n",
      "2/2 [==============================] - 0s 110ms/step - loss: 3.6833 - val_loss: 3.6599\n",
      "Epoch 7/100\n",
      "2/2 [==============================] - 0s 112ms/step - loss: 3.6044 - val_loss: 3.6017\n",
      "Epoch 8/100\n",
      "2/2 [==============================] - 0s 106ms/step - loss: 3.5323 - val_loss: 3.5580\n",
      "Epoch 9/100\n",
      "2/2 [==============================] - 0s 120ms/step - loss: 3.4550 - val_loss: 3.5403\n",
      "Epoch 10/100\n",
      "2/2 [==============================] - 0s 134ms/step - loss: 3.3977 - val_loss: 3.5554\n",
      "Epoch 11/100\n",
      "2/2 [==============================] - 0s 115ms/step - loss: 3.3662 - val_loss: 3.5705\n",
      "Epoch 12/100\n",
      "2/2 [==============================] - 0s 110ms/step - loss: 3.3374 - val_loss: 3.5397\n",
      "Epoch 13/100\n",
      "2/2 [==============================] - 0s 112ms/step - loss: 3.3088 - val_loss: 3.4983\n",
      "Epoch 14/100\n",
      "2/2 [==============================] - 0s 121ms/step - loss: 3.2812 - val_loss: 3.4536\n",
      "Epoch 15/100\n",
      "2/2 [==============================] - 0s 110ms/step - loss: 3.2512 - val_loss: 3.3948\n",
      "Epoch 16/100\n",
      "2/2 [==============================] - 0s 106ms/step - loss: 3.2202 - val_loss: 3.3072\n",
      "Epoch 17/100\n",
      "2/2 [==============================] - 0s 119ms/step - loss: 3.2099 - val_loss: 3.2624\n",
      "Epoch 18/100\n",
      "2/2 [==============================] - 0s 105ms/step - loss: 3.1859 - val_loss: 3.2591\n",
      "Epoch 19/100\n",
      "2/2 [==============================] - 0s 112ms/step - loss: 3.1628 - val_loss: 3.2620\n",
      "Epoch 20/100\n",
      "2/2 [==============================] - 0s 111ms/step - loss: 3.1412 - val_loss: 3.2695\n",
      "Epoch 21/100\n",
      "2/2 [==============================] - 0s 117ms/step - loss: 3.1165 - val_loss: 3.2698\n",
      "Epoch 22/100\n",
      "2/2 [==============================] - 0s 109ms/step - loss: 3.0962 - val_loss: 3.2727\n",
      "Epoch 23/100\n",
      "2/2 [==============================] - 0s 104ms/step - loss: 3.0741 - val_loss: 3.2801\n",
      "Epoch 24/100\n",
      "2/2 [==============================] - 0s 119ms/step - loss: 3.0496 - val_loss: 3.3098\n",
      "Epoch 25/100\n",
      "2/2 [==============================] - 0s 106ms/step - loss: 3.0335 - val_loss: 3.3508\n",
      "Epoch 26/100\n",
      "2/2 [==============================] - 0s 105ms/step - loss: 3.0163 - val_loss: 3.3618\n",
      "Epoch 27/100\n",
      "2/2 [==============================] - 0s 112ms/step - loss: 2.9958 - val_loss: 3.3575\n",
      "Epoch 28/100\n",
      "2/2 [==============================] - 0s 114ms/step - loss: 2.9744 - val_loss: 3.3619\n",
      "Epoch 29/100\n",
      "2/2 [==============================] - 0s 116ms/step - loss: 2.9547 - val_loss: 3.3429\n",
      "Epoch 30/100\n",
      "2/2 [==============================] - 0s 105ms/step - loss: 2.9357 - val_loss: 3.3300\n",
      "Epoch 31/100\n",
      "2/2 [==============================] - 0s 128ms/step - loss: 2.9195 - val_loss: 3.3388\n",
      "Epoch 32/100\n",
      "2/2 [==============================] - 0s 120ms/step - loss: 2.9064 - val_loss: 3.3545\n",
      "Epoch 33/100\n",
      "2/2 [==============================] - 0s 118ms/step - loss: 2.8930 - val_loss: 3.3683\n",
      "Epoch 34/100\n",
      "2/2 [==============================] - 0s 108ms/step - loss: 2.8793 - val_loss: 3.3501\n",
      "Epoch 35/100\n",
      "2/2 [==============================] - 0s 106ms/step - loss: 2.8610 - val_loss: 3.2888\n",
      "Epoch 36/100\n",
      "2/2 [==============================] - 0s 119ms/step - loss: 2.8424 - val_loss: 3.2032\n",
      "Epoch 37/100\n",
      "2/2 [==============================] - 0s 115ms/step - loss: 2.8349 - val_loss: 3.1488\n",
      "Epoch 38/100\n",
      "2/2 [==============================] - 0s 130ms/step - loss: 2.8346 - val_loss: 3.1281\n",
      "Epoch 39/100\n",
      "2/2 [==============================] - 0s 152ms/step - loss: 2.8263 - val_loss: 3.1423\n",
      "Epoch 40/100\n",
      "2/2 [==============================] - 0s 169ms/step - loss: 2.8094 - val_loss: 3.2042\n",
      "Epoch 41/100\n",
      "2/2 [==============================] - 0s 137ms/step - loss: 2.7920 - val_loss: 3.2985\n",
      "Epoch 42/100\n",
      "2/2 [==============================] - 0s 135ms/step - loss: 2.7757 - val_loss: 3.3860\n",
      "Epoch 43/100\n",
      "2/2 [==============================] - 0s 130ms/step - loss: 2.7702 - val_loss: 3.4670\n",
      "Epoch 44/100\n",
      "2/2 [==============================] - 0s 116ms/step - loss: 2.7733 - val_loss: 3.4306\n",
      "Epoch 45/100\n",
      "2/2 [==============================] - 0s 138ms/step - loss: 2.7526 - val_loss: 3.2927\n",
      "Epoch 46/100\n",
      "2/2 [==============================] - 0s 123ms/step - loss: 2.7369 - val_loss: 3.1607\n",
      "Epoch 47/100\n",
      "2/2 [==============================] - 0s 132ms/step - loss: 2.7472 - val_loss: 3.0641\n",
      "Epoch 48/100\n",
      "2/2 [==============================] - 0s 127ms/step - loss: 2.7767 - val_loss: 3.0537\n",
      "Epoch 49/100\n",
      "2/2 [==============================] - 0s 126ms/step - loss: 2.7597 - val_loss: 3.1529\n",
      "Epoch 50/100\n",
      "2/2 [==============================] - 0s 130ms/step - loss: 2.7262 - val_loss: 3.2878\n",
      "Epoch 51/100\n",
      "2/2 [==============================] - 0s 145ms/step - loss: 2.7176 - val_loss: 3.3484\n",
      "Epoch 52/100\n",
      "2/2 [==============================] - 0s 137ms/step - loss: 2.7105 - val_loss: 3.3235\n",
      "Epoch 53/100\n",
      "2/2 [==============================] - 0s 143ms/step - loss: 2.7005 - val_loss: 3.2823\n",
      "Epoch 54/100\n",
      "2/2 [==============================] - 0s 126ms/step - loss: 2.6901 - val_loss: 3.2025\n",
      "Epoch 55/100\n",
      "2/2 [==============================] - 0s 133ms/step - loss: 2.6820 - val_loss: 3.1289\n",
      "Epoch 56/100\n",
      "2/2 [==============================] - 0s 137ms/step - loss: 2.6805 - val_loss: 3.1066\n",
      "Epoch 57/100\n",
      "2/2 [==============================] - 0s 119ms/step - loss: 2.6782 - val_loss: 3.1104\n",
      "Epoch 58/100\n",
      "2/2 [==============================] - 0s 130ms/step - loss: 2.6731 - val_loss: 3.1116\n",
      "Epoch 59/100\n",
      "2/2 [==============================] - 0s 121ms/step - loss: 2.6689 - val_loss: 3.0977\n",
      "Epoch 60/100\n",
      "2/2 [==============================] - 0s 140ms/step - loss: 2.6575 - val_loss: 3.0522\n",
      "Epoch 61/100\n",
      "2/2 [==============================] - 0s 127ms/step - loss: 2.6575 - val_loss: 3.0022\n",
      "Epoch 62/100\n",
      "2/2 [==============================] - 0s 128ms/step - loss: 2.6683 - val_loss: 2.9835\n",
      "Epoch 63/100\n",
      "2/2 [==============================] - 0s 118ms/step - loss: 2.6675 - val_loss: 3.0373\n",
      "Epoch 64/100\n",
      "2/2 [==============================] - 0s 122ms/step - loss: 2.6540 - val_loss: 3.1211\n",
      "Epoch 65/100\n",
      "2/2 [==============================] - 0s 127ms/step - loss: 2.6389 - val_loss: 3.2033\n",
      "Epoch 66/100\n",
      "2/2 [==============================] - 0s 141ms/step - loss: 2.6362 - val_loss: 3.2468\n",
      "Epoch 67/100\n",
      "2/2 [==============================] - 0s 148ms/step - loss: 2.6323 - val_loss: 3.2158\n",
      "Epoch 68/100\n",
      "2/2 [==============================] - 0s 127ms/step - loss: 2.6298 - val_loss: 3.1594\n",
      "Epoch 69/100\n",
      "2/2 [==============================] - 0s 112ms/step - loss: 2.6234 - val_loss: 3.1376\n",
      "Epoch 70/100\n",
      "2/2 [==============================] - 0s 119ms/step - loss: 2.6191 - val_loss: 3.1020\n",
      "Epoch 71/100\n",
      "2/2 [==============================] - 0s 116ms/step - loss: 2.6222 - val_loss: 3.0839\n",
      "Epoch 72/100\n",
      "2/2 [==============================] - 0s 116ms/step - loss: 2.6176 - val_loss: 3.1721\n",
      "Epoch 73/100\n",
      "2/2 [==============================] - 0s 136ms/step - loss: 2.6174 - val_loss: 3.2439\n",
      "Epoch 74/100\n",
      "2/2 [==============================] - 0s 121ms/step - loss: 2.6103 - val_loss: 3.2154\n",
      "Epoch 75/100\n",
      "2/2 [==============================] - 0s 132ms/step - loss: 2.6071 - val_loss: 3.2024\n",
      "Epoch 76/100\n",
      "2/2 [==============================] - 0s 135ms/step - loss: 2.6078 - val_loss: 3.1882\n",
      "Epoch 77/100\n",
      "2/2 [==============================] - 0s 153ms/step - loss: 2.6034 - val_loss: 3.1352\n",
      "Epoch 78/100\n",
      "2/2 [==============================] - 0s 123ms/step - loss: 2.5960 - val_loss: 3.1094\n",
      "Epoch 79/100\n",
      "2/2 [==============================] - 0s 150ms/step - loss: 2.5975 - val_loss: 3.0947\n",
      "Epoch 80/100\n",
      "2/2 [==============================] - 0s 127ms/step - loss: 2.5924 - val_loss: 3.1608\n",
      "Epoch 81/100\n",
      "2/2 [==============================] - 0s 131ms/step - loss: 2.5839 - val_loss: 3.3216\n",
      "Epoch 82/100\n",
      "2/2 [==============================] - 0s 144ms/step - loss: 2.5919 - val_loss: 3.4971\n",
      "Epoch 83/100\n"
     ]
    },
    {
     "name": "stdout",
     "output_type": "stream",
     "text": [
      "2/2 [==============================] - 0s 111ms/step - loss: 2.6155 - val_loss: 3.5303\n",
      "Epoch 84/100\n",
      "2/2 [==============================] - 0s 137ms/step - loss: 2.6078 - val_loss: 3.4352\n",
      "Epoch 85/100\n",
      "2/2 [==============================] - 0s 138ms/step - loss: 2.5905 - val_loss: 3.3021\n",
      "Epoch 86/100\n",
      "2/2 [==============================] - 0s 146ms/step - loss: 2.5790 - val_loss: 3.2497\n",
      "Epoch 87/100\n",
      "2/2 [==============================] - 0s 158ms/step - loss: 2.5824 - val_loss: 3.2690\n",
      "Epoch 88/100\n",
      "2/2 [==============================] - 0s 154ms/step - loss: 2.5775 - val_loss: 3.3149\n",
      "Epoch 89/100\n",
      "2/2 [==============================] - 0s 174ms/step - loss: 2.5746 - val_loss: 3.3519\n",
      "Epoch 90/100\n",
      "2/2 [==============================] - 0s 161ms/step - loss: 2.5758 - val_loss: 3.3289\n",
      "Epoch 91/100\n",
      "2/2 [==============================] - 0s 168ms/step - loss: 2.5661 - val_loss: 3.1817\n",
      "Epoch 92/100\n",
      "2/2 [==============================] - 0s 138ms/step - loss: 2.5668 - val_loss: 3.0420\n",
      "Epoch 93/100\n",
      "2/2 [==============================] - 0s 146ms/step - loss: 2.6039 - val_loss: 2.9966\n",
      "Epoch 94/100\n",
      "2/2 [==============================] - 0s 144ms/step - loss: 2.6115 - val_loss: 3.0748\n",
      "Epoch 95/100\n",
      "2/2 [==============================] - 0s 124ms/step - loss: 2.5705 - val_loss: 3.2897\n",
      "Epoch 96/100\n",
      "2/2 [==============================] - 0s 131ms/step - loss: 2.5649 - val_loss: 3.3949\n",
      "Epoch 97/100\n",
      "2/2 [==============================] - 0s 124ms/step - loss: 2.5648 - val_loss: 3.3109\n",
      "Epoch 98/100\n",
      "2/2 [==============================] - 0s 153ms/step - loss: 2.5522 - val_loss: 3.1979\n",
      "Epoch 99/100\n",
      "2/2 [==============================] - 0s 143ms/step - loss: 2.5567 - val_loss: 3.1488\n",
      "Epoch 100/100\n",
      "2/2 [==============================] - 0s 123ms/step - loss: 2.5578 - val_loss: 3.1447\n"
     ]
    }
   ],
   "source": [
    "history = model.fit(X_train, y_train_grid, epochs=100,\n",
    "                    validation_data=(X_valid, y_valid_grid))"
   ]
  },
  {
   "cell_type": "code",
   "execution_count": 27,
   "id": "2d5eb513",
   "metadata": {},
   "outputs": [
    {
     "data": {
      "image/png": "[encoded data removed]",
      "text/plain": [
       "<Figure size 576x360 with 1 Axes>"
      ]
     },
     "metadata": {
      "needs_background": "light"
     },
     "output_type": "display_data"
    }
   ],
   "source": [
    "import pandas as pd\n",
    "\n",
    "pd.DataFrame(history.history).plot(figsize=(8, 5))\n",
    "plt.grid(True)\n",
    "# plt.gca().set_ylim(0, 1)\n",
    "plt.show()"
   ]
  },
  {
   "cell_type": "code",
   "execution_count": 28,
   "id": "afab568c",
   "metadata": {},
   "outputs": [
    {
     "data": {
      "image/png": "[encoded data removed]",
      "text/plain": [
       "<Figure size 432x288 with 1 Axes>"
      ]
     },
     "metadata": {
      "needs_background": "light"
     },
     "output_type": "display_data"
    }
   ],
   "source": [
    "X_new = np.linspace(-5, 5, 100).reshape(100, 1)\n",
    "y_new_proba = model.predict(X_new)\n",
    "y_new = n2g.inv_convert(y_new_proba)\n",
    "#\n",
    "plt.plot(X_train, y_train, \"b.\")\n",
    "plt.plot(X_new, y_new, \"r-\", linewidth=2, label=\"Predictions\")\n",
    "draw_normal_func(func_dict)\n",
    "plt.xlabel(\"$x_1$\", fontsize=18)\n",
    "plt.ylabel(\"$y$\", rotation=0, fontsize=18)\n",
    "plt.legend(loc=\"upper left\", fontsize=14)\n",
    "# plt.axis([-3, 3, 0, 10])\n",
    "plt.show()"
   ]
  },
  {
   "cell_type": "code",
   "execution_count": 29,
   "id": "7cd0d27b",
   "metadata": {},
   "outputs": [
    {
     "data": {
      "text/plain": [
       "<matplotlib.collections.QuadMesh at 0x7fcbb46f8ba8>"
      ]
     },
     "execution_count": 29,
     "metadata": {},
     "output_type": "execute_result"
    },
    {
     "data": {
      "image/png": "[encoded data removed]",
      "text/plain": [
       "<Figure size 432x288 with 1 Axes>"
      ]
     },
     "metadata": {
      "needs_background": "light"
     },
     "output_type": "display_data"
    }
   ],
   "source": [
    "xv, yv = np.meshgrid(X_new, np.linspace(n2g.x_min, n2g.x_max, n2g.units))\n",
    "# print(xv)\n",
    "# print(yv)\n",
    "plt.pcolormesh(xv, yv, y_new_proba.T, shading=\"nearest\")"
   ]
  },
  {
   "cell_type": "code",
   "execution_count": null,
   "id": "68e88a1c",
   "metadata": {},
   "outputs": [],
   "source": []
  },
  {
   "cell_type": "code",
   "execution_count": null,
   "id": "73504a2c",
   "metadata": {},
   "outputs": [],
   "source": []
  },
  {
   "cell_type": "code",
   "execution_count": null,
   "id": "305da867",
   "metadata": {},
   "outputs": [],
   "source": []
  },
  {
   "cell_type": "code",
   "execution_count": null,
   "id": "54ed0931",
   "metadata": {},
   "outputs": [],
   "source": []
  }
 ],
 "metadata": {
  "kernelspec": {
   "display_name": "Python 3",
   "language": "python",
   "name": "python3"
  },
  "language_info": {
   "codemirror_mode": {
    "name": "ipython",
    "version": 3
   },
   "file_extension": ".py",
   "mimetype": "text/x-python",
   "name": "python",
   "nbconvert_exporter": "python",
   "pygments_lexer": "ipython3",
   "version": "3.6.9"
  }
 },
 "nbformat": 4,
 "nbformat_minor": 5
}
