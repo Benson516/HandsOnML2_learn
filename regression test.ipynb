{
 "cells": [
  {
   "cell_type": "markdown",
   "id": "899fa113",
   "metadata": {},
   "source": [
    "# Regression with Different Output Format under Various Data Conditions\n",
    "\n",
    "In this experience, we test the following output format for regression task under several different data coditions.\n",
    "- Numerical output\n",
    "- Regression as classification (grid-out)\n",
    "\n",
    "The data coditions include:\n",
    "- Sparse (few data)\n",
    "- Grouped\n",
    "  - Biased (parallel data)\n",
    "  - Completely different mode, uncorrelated data (cross)\n",
    "  - Partially diversed (split)"
   ]
  },
  {
   "cell_type": "code",
   "execution_count": 1,
   "id": "625ce7c3",
   "metadata": {},
   "outputs": [],
   "source": [
    "import numpy as np\n",
    "import tensorflow as tf\n",
    "from tensorflow import keras\n",
    "\n",
    "# To plot pretty figures\n",
    "%matplotlib inline\n",
    "import matplotlib as mpl\n",
    "import matplotlib.pyplot as plt\n",
    "mpl.rc('axes', labelsize=14)\n",
    "mpl.rc('xtick', labelsize=12)\n",
    "mpl.rc('ytick', labelsize=12)"
   ]
  },
  {
   "cell_type": "code",
   "execution_count": 2,
   "id": "94e8a077",
   "metadata": {},
   "outputs": [],
   "source": [
    "def draw_func(func_in, x_min=-5, x_max=5, mark='r--', linewidth=1, label='func'):\n",
    "    n_sample = 100\n",
    "    X_func = np.linspace(x_min, x_max, n_sample).reshape(n_sample, 1)\n",
    "    y_func = func_in(X_func)\n",
    "    plt.plot(X_func, y_func, mark, linewidth=linewidth, label=label)"
   ]
  },
  {
   "cell_type": "markdown",
   "id": "c27ffe35",
   "metadata": {},
   "source": [
    "Generate polynomial data"
   ]
  },
  {
   "cell_type": "code",
   "execution_count": 3,
   "id": "ce670ce4",
   "metadata": {},
   "outputs": [],
   "source": [
    "def func_0(X): # Reference\n",
    "    return 0.5 * X**3 + 0.5 * X**2 + X + 2\n",
    "def func_1(X): # Variation 1: parellel\n",
    "    return 0.5 * X**3 + 0.5 * X**2 + X + 30\n",
    "def func_2(X): # Variation 2: cross\n",
    "    return -0.5 * X**3 + 0.5 * X**2 + X + 30\n",
    "def func_3(X): # Variation 3: slightly split\n",
    "    return 0.3 * X**3 + 1.0 * X**2 + X + 15 "
   ]
  },
  {
   "cell_type": "code",
   "execution_count": 4,
   "id": "9463bfff",
   "metadata": {},
   "outputs": [],
   "source": [
    "func_dict = dict()\n",
    "func_dict[\"f1\"] = func_0\n",
    "# func_dict[\"f2\"] = func_1\n",
    "# func_dict[\"f2\"] = func_2\n",
    "func_dict[\"f2\"] = func_3\n",
    "\n",
    "# Average line\n",
    "func_dict[\"f_avg\"] = ( lambda X: 0.5*func_dict[\"f1\"](X) + 0.5*func_dict[\"f2\"](X) )"
   ]
  },
  {
   "cell_type": "code",
   "execution_count": 5,
   "id": "9bd2136c",
   "metadata": {},
   "outputs": [],
   "source": [
    "def draw_normal_func(func_dict):\n",
    "    draw_func(func_dict[\"f1\"], mark='c:', label=\"f1\")\n",
    "    draw_func(func_dict[\"f2\"], mark='g:', label=\"f2\")\n",
    "    draw_func(func_dict[\"f_avg\"], mark='m--', label=\"f_avg\")"
   ]
  },
  {
   "cell_type": "code",
   "execution_count": 6,
   "id": "63437d0c",
   "metadata": {},
   "outputs": [
    {
     "name": "stdout",
     "output_type": "stream",
     "text": [
      "(m, m_train) = (100, 80)\n",
      "y_data_pure.shape = (100, 1)\n",
      "y_data.shape = (100, 1)\n"
     ]
    }
   ],
   "source": [
    "np.random.seed(42)\n",
    "m = 100 # 50 # 100 # 200\n",
    "m_train = m // 5 * 4\n",
    "print(\"(m, m_train) = (%d, %d)\" % (m, m_train))\n",
    "# Input\n",
    "X_data = 10 * np.random.rand(m, 1) - 5 # Note: X is randomly sampled, so we don't need to shuffle the data again\n",
    "\n",
    "# Output\n",
    "is_multiout = True\n",
    "# is_multiout = False\n",
    "if is_multiout:\n",
    "    m_h = m // 2\n",
    "    X_data_1 = X_data[:m_h]\n",
    "    X_data_2 = X_data[m_h:]\n",
    "    y_data_pure_1 = func_dict[\"f1\"](X_data_1) \n",
    "    y_data_pure_2 = func_dict[\"f2\"](X_data_2) \n",
    "    y_data_pure = np.vstack([y_data_pure_1, y_data_pure_2])\n",
    "    print(\"y_data_pure.shape = %s\" % str(y_data_pure.shape))\n",
    "else:        \n",
    "    y_data_pure = 0.5 * X_data**3 + 0.5 * X_data**2 + X_data + 2 \n",
    "\n",
    "# Label (+noise)\n",
    "n_stddev = 2.0\n",
    "# n_stddev = 10.0\n",
    "y_data = y_data_pure + np.random.randn(m, 1) * n_stddev\n",
    "print(\"y_data.shape = %s\" % str(y_data.shape))"
   ]
  },
  {
   "cell_type": "code",
   "execution_count": 7,
   "id": "80665872",
   "metadata": {},
   "outputs": [],
   "source": [
    "X_train = X_data[:m_train]\n",
    "y_train = y_data[:m_train]\n",
    "X_valid = X_data[m_train:]\n",
    "y_valid = y_data[m_train:]"
   ]
  },
  {
   "cell_type": "code",
   "execution_count": 8,
   "id": "3b5d2cfe",
   "metadata": {},
   "outputs": [
    {
     "name": "stdout",
     "output_type": "stream",
     "text": [
      "(80, 1)\n"
     ]
    }
   ],
   "source": [
    "print(X_train.shape)"
   ]
  },
  {
   "cell_type": "code",
   "execution_count": 9,
   "id": "693af3b7",
   "metadata": {},
   "outputs": [
    {
     "data": {
      "image/png": "[encoded data removed]",
      "text/plain": [
       "<Figure size 432x288 with 1 Axes>"
      ]
     },
     "metadata": {
      "needs_background": "light"
     },
     "output_type": "display_data"
    }
   ],
   "source": [
    "plt.plot(X_train, y_train, \"b.\")\n",
    "draw_normal_func(func_dict)\n",
    "plt.xlabel(\"$x_1$\", fontsize=18)\n",
    "plt.ylabel(\"$y$\", rotation=0, fontsize=18)\n",
    "# plt.axis([-3, 3, 0, 10])\n",
    "plt.show()"
   ]
  },
  {
   "cell_type": "markdown",
   "id": "053ecc57",
   "metadata": {},
   "source": [
    "# Simple FCs (number --> number)"
   ]
  },
  {
   "cell_type": "markdown",
   "id": "c66eb67b",
   "metadata": {},
   "source": [
    "Build the regression model"
   ]
  },
  {
   "cell_type": "code",
   "execution_count": 10,
   "id": "9449fc0b",
   "metadata": {},
   "outputs": [
    {
     "name": "stderr",
     "output_type": "stream",
     "text": [
      "/home/benson516/ml/my_env/lib/python3.6/site-packages/tensorflow/python/keras/optimizer_v2/optimizer_v2.py:375: UserWarning: The `lr` argument is deprecated, use `learning_rate` instead.\n",
      "  \"The `lr` argument is deprecated, use `learning_rate` instead.\")\n"
     ]
    }
   ],
   "source": [
    "model = keras.models.Sequential([\n",
    "    keras.layers.Dense(30, activation=\"relu\", input_shape=X_train.shape[1:]),\n",
    "    keras.layers.Dense(30, activation=\"relu\"),\n",
    "    keras.layers.Dense(1)\n",
    "])\n",
    "\n",
    "optimizer = keras.optimizers.SGD(lr=0.001, momentum=0.9)\n",
    "model.compile(loss=\"mean_squared_error\", optimizer=optimizer)"
   ]
  },
  {
   "cell_type": "code",
   "execution_count": 11,
   "id": "92afd68a",
   "metadata": {
    "scrolled": true
   },
   "outputs": [
    {
     "name": "stdout",
     "output_type": "stream",
     "text": [
      "Epoch 1/100\n",
      "3/3 [==============================] - 2s 277ms/step - loss: 781.2735 - val_loss: 437.9871\n",
      "Epoch 2/100\n",
      "3/3 [==============================] - 0s 49ms/step - loss: 532.5231 - val_loss: 96.4993\n",
      "Epoch 3/100\n",
      "3/3 [==============================] - 0s 67ms/step - loss: 294.9557 - val_loss: 132.5276\n",
      "Epoch 4/100\n",
      "3/3 [==============================] - 0s 62ms/step - loss: 196.8006 - val_loss: 204.3306\n",
      "Epoch 5/100\n",
      "3/3 [==============================] - 0s 57ms/step - loss: 193.5762 - val_loss: 257.0432\n",
      "Epoch 6/100\n",
      "3/3 [==============================] - 0s 57ms/step - loss: 196.7862 - val_loss: 206.4605\n",
      "Epoch 7/100\n",
      "3/3 [==============================] - 0s 48ms/step - loss: 170.0927 - val_loss: 142.9689\n",
      "Epoch 8/100\n",
      "3/3 [==============================] - 0s 52ms/step - loss: 143.0446 - val_loss: 168.2813\n",
      "Epoch 9/100\n",
      "3/3 [==============================] - 0s 86ms/step - loss: 136.3894 - val_loss: 172.9714\n",
      "Epoch 10/100\n",
      "3/3 [==============================] - 0s 95ms/step - loss: 138.6099 - val_loss: 211.4778\n",
      "Epoch 11/100\n",
      "3/3 [==============================] - 0s 94ms/step - loss: 133.7067 - val_loss: 132.6372\n",
      "Epoch 12/100\n",
      "3/3 [==============================] - 0s 80ms/step - loss: 138.3490 - val_loss: 169.3758\n",
      "Epoch 13/100\n",
      "3/3 [==============================] - 0s 61ms/step - loss: 138.0525 - val_loss: 175.3469\n",
      "Epoch 14/100\n",
      "3/3 [==============================] - 0s 62ms/step - loss: 150.5146 - val_loss: 318.2606\n",
      "Epoch 15/100\n",
      "3/3 [==============================] - 0s 85ms/step - loss: 175.0176 - val_loss: 169.7799\n",
      "Epoch 16/100\n",
      "3/3 [==============================] - 0s 84ms/step - loss: 156.6786 - val_loss: 153.3981\n",
      "Epoch 17/100\n",
      "3/3 [==============================] - 0s 62ms/step - loss: 161.6853 - val_loss: 154.4227\n",
      "Epoch 18/100\n",
      "3/3 [==============================] - 0s 77ms/step - loss: 134.3536 - val_loss: 217.8639\n",
      "Epoch 19/100\n",
      "3/3 [==============================] - 0s 70ms/step - loss: 117.6708 - val_loss: 198.2090\n",
      "Epoch 20/100\n",
      "3/3 [==============================] - 0s 76ms/step - loss: 122.8886 - val_loss: 132.0631\n",
      "Epoch 21/100\n",
      "3/3 [==============================] - 0s 91ms/step - loss: 118.9297 - val_loss: 231.4303\n",
      "Epoch 22/100\n",
      "3/3 [==============================] - 0s 41ms/step - loss: 130.5233 - val_loss: 143.5997\n",
      "Epoch 23/100\n",
      "3/3 [==============================] - ETA: 0s - loss: 119.681 - 0s 54ms/step - loss: 153.1721 - val_loss: 131.5340\n",
      "Epoch 24/100\n",
      "3/3 [==============================] - 0s 95ms/step - loss: 139.9625 - val_loss: 171.4935\n",
      "Epoch 25/100\n",
      "3/3 [==============================] - 0s 63ms/step - loss: 112.7995 - val_loss: 212.0614\n",
      "Epoch 26/100\n",
      "3/3 [==============================] - 0s 51ms/step - loss: 112.7882 - val_loss: 175.4840\n",
      "Epoch 27/100\n",
      "3/3 [==============================] - 0s 56ms/step - loss: 110.8209 - val_loss: 132.7291\n",
      "Epoch 28/100\n",
      "3/3 [==============================] - 0s 61ms/step - loss: 119.6128 - val_loss: 176.4601\n",
      "Epoch 29/100\n",
      "3/3 [==============================] - 0s 62ms/step - loss: 112.6703 - val_loss: 182.6176\n",
      "Epoch 30/100\n",
      "3/3 [==============================] - 0s 51ms/step - loss: 108.8467 - val_loss: 153.6695\n",
      "Epoch 31/100\n",
      "3/3 [==============================] - 0s 56ms/step - loss: 115.3719 - val_loss: 143.9115\n",
      "Epoch 32/100\n",
      "3/3 [==============================] - 0s 81ms/step - loss: 111.7670 - val_loss: 207.5406\n",
      "Epoch 33/100\n",
      "3/3 [==============================] - 0s 91ms/step - loss: 107.6116 - val_loss: 154.1638\n",
      "Epoch 34/100\n",
      "3/3 [==============================] - 0s 48ms/step - loss: 105.4771 - val_loss: 169.0547\n",
      "Epoch 35/100\n",
      "3/3 [==============================] - 0s 67ms/step - loss: 107.6099 - val_loss: 184.7607\n",
      "Epoch 36/100\n",
      "3/3 [==============================] - 0s 64ms/step - loss: 115.0312 - val_loss: 182.3191\n",
      "Epoch 37/100\n",
      "3/3 [==============================] - 0s 59ms/step - loss: 120.7584 - val_loss: 202.0739\n",
      "Epoch 38/100\n",
      "3/3 [==============================] - 0s 62ms/step - loss: 107.6343 - val_loss: 105.1838\n",
      "Epoch 39/100\n",
      "3/3 [==============================] - 0s 64ms/step - loss: 120.7515 - val_loss: 134.8532\n",
      "Epoch 40/100\n",
      "3/3 [==============================] - 0s 69ms/step - loss: 109.7933 - val_loss: 221.8264\n",
      "Epoch 41/100\n",
      "3/3 [==============================] - 0s 60ms/step - loss: 109.6464 - val_loss: 159.7263\n",
      "Epoch 42/100\n",
      "3/3 [==============================] - 0s 48ms/step - loss: 103.3467 - val_loss: 137.1103\n",
      "Epoch 43/100\n",
      "3/3 [==============================] - 0s 88ms/step - loss: 130.1840 - val_loss: 124.0142\n",
      "Epoch 44/100\n",
      "3/3 [==============================] - 0s 83ms/step - loss: 113.8931 - val_loss: 275.2549\n",
      "Epoch 45/100\n",
      "3/3 [==============================] - 0s 90ms/step - loss: 125.0102 - val_loss: 169.0845\n",
      "Epoch 46/100\n",
      "3/3 [==============================] - 0s 68ms/step - loss: 103.6596 - val_loss: 155.3033\n",
      "Epoch 47/100\n",
      "3/3 [==============================] - 0s 63ms/step - loss: 107.8225 - val_loss: 150.4887\n",
      "Epoch 48/100\n",
      "3/3 [==============================] - ETA: 0s - loss: 98.09 - 0s 88ms/step - loss: 109.1496 - val_loss: 205.4429\n",
      "Epoch 49/100\n",
      "3/3 [==============================] - 0s 97ms/step - loss: 107.3296 - val_loss: 166.7503\n",
      "Epoch 50/100\n",
      "3/3 [==============================] - 0s 90ms/step - loss: 104.8272 - val_loss: 161.2463\n",
      "Epoch 51/100\n",
      "3/3 [==============================] - 0s 59ms/step - loss: 106.8684 - val_loss: 136.9768\n",
      "Epoch 52/100\n",
      "3/3 [==============================] - 0s 44ms/step - loss: 108.3006 - val_loss: 160.4041\n",
      "Epoch 53/100\n",
      "3/3 [==============================] - 0s 78ms/step - loss: 104.6397 - val_loss: 185.4420\n",
      "Epoch 54/100\n",
      "3/3 [==============================] - 0s 79ms/step - loss: 113.2012 - val_loss: 227.1184\n",
      "Epoch 55/100\n",
      "3/3 [==============================] - 0s 67ms/step - loss: 100.0367 - val_loss: 119.8885\n",
      "Epoch 56/100\n",
      "3/3 [==============================] - 0s 66ms/step - loss: 119.0000 - val_loss: 103.0428\n",
      "Epoch 57/100\n",
      "3/3 [==============================] - 0s 82ms/step - loss: 114.9168 - val_loss: 172.0841\n",
      "Epoch 58/100\n",
      "3/3 [==============================] - 0s 47ms/step - loss: 109.2267 - val_loss: 280.0530\n",
      "Epoch 59/100\n",
      "3/3 [==============================] - 0s 90ms/step - loss: 120.7922 - val_loss: 149.3809\n",
      "Epoch 60/100\n",
      "3/3 [==============================] - 0s 88ms/step - loss: 113.1609 - val_loss: 131.9228\n",
      "Epoch 61/100\n",
      "3/3 [==============================] - 0s 64ms/step - loss: 119.1486 - val_loss: 132.2278\n",
      "Epoch 62/100\n",
      "3/3 [==============================] - 0s 92ms/step - loss: 110.6737 - val_loss: 230.3460\n",
      "Epoch 63/100\n",
      "3/3 [==============================] - 0s 84ms/step - loss: 117.8307 - val_loss: 215.5647\n",
      "Epoch 64/100\n",
      "3/3 [==============================] - 0s 59ms/step - loss: 110.5662 - val_loss: 160.6236\n",
      "Epoch 65/100\n",
      "3/3 [==============================] - 0s 69ms/step - loss: 117.5100 - val_loss: 182.2672\n",
      "Epoch 66/100\n",
      "3/3 [==============================] - 0s 90ms/step - loss: 125.2475 - val_loss: 130.1491\n",
      "Epoch 67/100\n",
      "3/3 [==============================] - 0s 54ms/step - loss: 136.3466 - val_loss: 190.4330\n",
      "Epoch 68/100\n",
      "3/3 [==============================] - 0s 68ms/step - loss: 129.3793 - val_loss: 206.3525\n",
      "Epoch 69/100\n",
      "3/3 [==============================] - 0s 55ms/step - loss: 150.3613 - val_loss: 207.0210\n",
      "Epoch 70/100\n",
      "3/3 [==============================] - 0s 67ms/step - loss: 131.2007 - val_loss: 143.3404\n",
      "Epoch 71/100\n",
      "3/3 [==============================] - 0s 45ms/step - loss: 116.6391 - val_loss: 139.1004\n",
      "Epoch 72/100\n",
      "3/3 [==============================] - 0s 68ms/step - loss: 115.0208 - val_loss: 177.3632\n",
      "Epoch 73/100\n",
      "3/3 [==============================] - 0s 66ms/step - loss: 142.3449 - val_loss: 146.0816\n",
      "Epoch 74/100\n",
      "3/3 [==============================] - 0s 64ms/step - loss: 136.8659 - val_loss: 207.4664\n",
      "Epoch 75/100\n",
      "3/3 [==============================] - 0s 74ms/step - loss: 114.5218 - val_loss: 163.8726\n",
      "Epoch 76/100\n",
      "3/3 [==============================] - 0s 75ms/step - loss: 114.8239 - val_loss: 115.1739\n",
      "Epoch 77/100\n",
      "3/3 [==============================] - 0s 86ms/step - loss: 115.0296 - val_loss: 172.6779\n",
      "Epoch 78/100\n",
      "3/3 [==============================] - 0s 68ms/step - loss: 113.7913 - val_loss: 172.9324\n",
      "Epoch 79/100\n",
      "3/3 [==============================] - 0s 68ms/step - loss: 106.4542 - val_loss: 165.4347\n",
      "Epoch 80/100\n"
     ]
    },
    {
     "name": "stdout",
     "output_type": "stream",
     "text": [
      "3/3 [==============================] - 0s 96ms/step - loss: 105.3427 - val_loss: 143.3653\n",
      "Epoch 81/100\n",
      "3/3 [==============================] - 0s 88ms/step - loss: 104.5592 - val_loss: 174.5529\n",
      "Epoch 82/100\n",
      "3/3 [==============================] - 0s 82ms/step - loss: 103.9186 - val_loss: 183.5312\n",
      "Epoch 83/100\n",
      "3/3 [==============================] - 0s 72ms/step - loss: 102.2467 - val_loss: 183.7595\n",
      "Epoch 84/100\n",
      "3/3 [==============================] - 0s 68ms/step - loss: 102.7060 - val_loss: 167.0180\n",
      "Epoch 85/100\n",
      "3/3 [==============================] - 0s 78ms/step - loss: 119.0719 - val_loss: 127.9460\n",
      "Epoch 86/100\n",
      "3/3 [==============================] - 0s 83ms/step - loss: 105.9087 - val_loss: 241.4687\n",
      "Epoch 87/100\n",
      "3/3 [==============================] - 0s 78ms/step - loss: 118.4068 - val_loss: 190.1335\n",
      "Epoch 88/100\n",
      "3/3 [==============================] - 0s 74ms/step - loss: 107.8060 - val_loss: 114.2559\n",
      "Epoch 89/100\n",
      "3/3 [==============================] - 0s 50ms/step - loss: 122.6719 - val_loss: 114.0285\n",
      "Epoch 90/100\n",
      "3/3 [==============================] - 0s 82ms/step - loss: 114.2641 - val_loss: 163.8618\n",
      "Epoch 91/100\n",
      "3/3 [==============================] - 0s 57ms/step - loss: 109.9607 - val_loss: 212.8603\n",
      "Epoch 92/100\n",
      "3/3 [==============================] - 0s 72ms/step - loss: 104.6279 - val_loss: 148.7863\n",
      "Epoch 93/100\n",
      "3/3 [==============================] - 0s 87ms/step - loss: 109.3291 - val_loss: 125.0814\n",
      "Epoch 94/100\n",
      "3/3 [==============================] - 0s 64ms/step - loss: 110.9905 - val_loss: 148.3629\n",
      "Epoch 95/100\n",
      "3/3 [==============================] - 0s 66ms/step - loss: 105.2110 - val_loss: 180.5135\n",
      "Epoch 96/100\n",
      "3/3 [==============================] - 0s 78ms/step - loss: 105.0468 - val_loss: 179.3057\n",
      "Epoch 97/100\n",
      "3/3 [==============================] - 0s 69ms/step - loss: 105.7642 - val_loss: 179.0058\n",
      "Epoch 98/100\n",
      "3/3 [==============================] - 0s 51ms/step - loss: 123.3522 - val_loss: 187.6412\n",
      "Epoch 99/100\n",
      "3/3 [==============================] - 0s 45ms/step - loss: 126.0852 - val_loss: 146.7542\n",
      "Epoch 100/100\n",
      "3/3 [==============================] - 0s 49ms/step - loss: 113.9670 - val_loss: 173.2598\n"
     ]
    }
   ],
   "source": [
    "history = model.fit(X_train, y_train, epochs=100,\n",
    "                    validation_data=(X_valid, y_valid))"
   ]
  },
  {
   "cell_type": "markdown",
   "id": "17d6e37a",
   "metadata": {},
   "source": [
    "Plot the result"
   ]
  },
  {
   "cell_type": "code",
   "execution_count": 12,
   "id": "3b066f5c",
   "metadata": {},
   "outputs": [
    {
     "data": {
      "image/png": "[encoded data removed]",
      "text/plain": [
       "<Figure size 576x360 with 1 Axes>"
      ]
     },
     "metadata": {
      "needs_background": "light"
     },
     "output_type": "display_data"
    }
   ],
   "source": [
    "import pandas as pd\n",
    "\n",
    "pd.DataFrame(history.history).plot(figsize=(8, 5))\n",
    "plt.grid(True)\n",
    "# plt.gca().set_ylim(0, 1)\n",
    "plt.show()"
   ]
  },
  {
   "cell_type": "code",
   "execution_count": 13,
   "id": "03f9bb54",
   "metadata": {},
   "outputs": [
    {
     "data": {
      "image/png": "[encoded data removed]",
      "text/plain": [
       "<Figure size 432x288 with 1 Axes>"
      ]
     },
     "metadata": {
      "needs_background": "light"
     },
     "output_type": "display_data"
    }
   ],
   "source": [
    "# X_new = np.linspace(-5, 5, 100).reshape(100, 1)\n",
    "# y_new = model.predict(X_new)\n",
    "#\n",
    "plt.plot(X_train, y_train, \"b.\")\n",
    "# plt.plot(X_new, y_new, \"r-\", linewidth=2, label=\"Predictions\")\n",
    "draw_func(model.predict, mark='r-', linewidth=2, label=\"Predictions\")\n",
    "draw_normal_func(func_dict)\n",
    "plt.xlabel(\"$x_1$\", fontsize=18)\n",
    "plt.ylabel(\"$y$\", rotation=0, fontsize=18)\n",
    "plt.legend(loc=\"upper left\", fontsize=14)\n",
    "# plt.axis([-3, 3, 0, 10])\n",
    "plt.show()"
   ]
  },
  {
   "cell_type": "markdown",
   "id": "58da8768",
   "metadata": {},
   "source": [
    "# Simulated CNN Feature Map (1-D grids, grid --> number)"
   ]
  },
  {
   "cell_type": "code",
   "execution_count": 14,
   "id": "287b5e4c",
   "metadata": {},
   "outputs": [],
   "source": [
    "class num2grid(keras.layers.Layer):\n",
    "    def __init__(self, units, x_min=-10, x_max=10, sigma=1.0, activation=None, **kwargs):\n",
    "        super().__init__(**kwargs)\n",
    "        self.units = units\n",
    "        self.x_min = x_min\n",
    "        self.x_max = x_max\n",
    "        self.sigma = sigma\n",
    "        self.sigma2 = self.sigma**2\n",
    "        self.activation = keras.activations.get(activation)\n",
    "        \n",
    "    def build(self, batch_input_shape):\n",
    "        #\n",
    "        self.x_grid = np.linspace(self.x_min, self.x_max, self.units, endpoint=True)\n",
    "#         print(\"self.x_grid.shape = %s\" % str(self.x_grid.shape))\n",
    "        #\n",
    "        super().build(batch_input_shape) # must be at the end\n",
    "        \n",
    "    def call(self, X):\n",
    "        '''\n",
    "        Input shape:  (batch, X_chanel)\n",
    "        Output shape: (batch, grid_unit) \n",
    "        \n",
    "        self.x_grid shape: (grid_unit,)\n",
    "        '''\n",
    "        gauss_grid = tf.exp( -(self.x_grid - X)**2 / (2.0*self.sigma2) )\n",
    "        print(\"X.shape = %s\" % str(X.shape))\n",
    "        print(\"gauss_grid.shape = %s\" % str(gauss_grid.shape))\n",
    "        return self.activation(gauss_grid)\n",
    "    \n",
    "    def compute_output_shape(self, batch_input_shape):\n",
    "        return tf.TensorShape(batch_input_shape.as_list()[:-1] + [self.units])\n",
    "    \n",
    "    def get_config(self):\n",
    "        base_config = super().get_config()\n",
    "        return {**base_config, \n",
    "                \"units\": self.units,\n",
    "                \"x_min\": self.x_min,\n",
    "                \"x_max\": self.x_max,\n",
    "                \"sigma\": self.sigma,\n",
    "                \"activation\": keras.activations.serialize(self.activation)}"
   ]
  },
  {
   "cell_type": "code",
   "execution_count": 15,
   "id": "f463c12a",
   "metadata": {},
   "outputs": [
    {
     "name": "stdout",
     "output_type": "stream",
     "text": [
      "X.shape = (None, 1)\n",
      "gauss_grid.shape = (None, 5)\n"
     ]
    },
    {
     "name": "stderr",
     "output_type": "stream",
     "text": [
      "/home/benson516/ml/my_env/lib/python3.6/site-packages/tensorflow/python/keras/optimizer_v2/optimizer_v2.py:375: UserWarning: The `lr` argument is deprecated, use `learning_rate` instead.\n",
      "  \"The `lr` argument is deprecated, use `learning_rate` instead.\")\n"
     ]
    }
   ],
   "source": [
    "model = keras.models.Sequential([\n",
    "    num2grid(5,x_min=-10, x_max=10, sigma=3.0, input_shape=X_train.shape[1:]),\n",
    "    keras.layers.Dense(30, activation=\"relu\"),\n",
    "#     keras.layers.Dense(30, activation=\"relu\"),\n",
    "    keras.layers.Dense(1)\n",
    "])\n",
    "\n",
    "optimizer = keras.optimizers.SGD(lr=0.001, momentum=0.9)\n",
    "model.compile(loss=\"mean_squared_error\", optimizer=optimizer)"
   ]
  },
  {
   "cell_type": "code",
   "execution_count": 16,
   "id": "c966ada4",
   "metadata": {
    "scrolled": true
   },
   "outputs": [
    {
     "name": "stdout",
     "output_type": "stream",
     "text": [
      "Epoch 1/100\n",
      "X.shape = (None, 1)\n",
      "gauss_grid.shape = (None, 5)\n",
      "X.shape = (None, 1)\n",
      "gauss_grid.shape = (None, 5)\n",
      "1/3 [=========>....................] - ETA: 1s - loss: 1002.0688X.shape = (None, 1)\n",
      "gauss_grid.shape = (None, 5)\n",
      "3/3 [==============================] - 1s 181ms/step - loss: 811.0708 - val_loss: 548.1643\n",
      "Epoch 2/100\n",
      "3/3 [==============================] - 0s 52ms/step - loss: 795.1273 - val_loss: 514.1445\n",
      "Epoch 3/100\n",
      "3/3 [==============================] - 0s 75ms/step - loss: 767.6299 - val_loss: 461.1451\n",
      "Epoch 4/100\n",
      "3/3 [==============================] - 0s 91ms/step - loss: 725.1100 - val_loss: 371.2233\n",
      "Epoch 5/100\n",
      "3/3 [==============================] - 0s 59ms/step - loss: 647.3798 - val_loss: 247.8264\n",
      "Epoch 6/100\n",
      "3/3 [==============================] - 0s 76ms/step - loss: 548.3177 - val_loss: 117.2859\n",
      "Epoch 7/100\n",
      "3/3 [==============================] - 0s 88ms/step - loss: 460.5833 - val_loss: 56.0438\n",
      "Epoch 8/100\n",
      "3/3 [==============================] - 0s 59ms/step - loss: 377.3378 - val_loss: 66.1705\n",
      "Epoch 9/100\n",
      "3/3 [==============================] - 0s 80ms/step - loss: 260.0553 - val_loss: 138.0236\n",
      "Epoch 10/100\n",
      "3/3 [==============================] - 0s 90ms/step - loss: 214.8869 - val_loss: 209.6194\n",
      "Epoch 11/100\n",
      "3/3 [==============================] - 0s 87ms/step - loss: 207.1223 - val_loss: 237.4574\n",
      "Epoch 12/100\n",
      "3/3 [==============================] - 0s 58ms/step - loss: 198.8298 - val_loss: 229.4105\n",
      "Epoch 13/100\n",
      "3/3 [==============================] - 0s 51ms/step - loss: 187.7487 - val_loss: 204.2616\n",
      "Epoch 14/100\n",
      "3/3 [==============================] - 0s 52ms/step - loss: 166.3353 - val_loss: 180.9219\n",
      "Epoch 15/100\n",
      "3/3 [==============================] - 0s 67ms/step - loss: 153.0134 - val_loss: 152.8085\n",
      "Epoch 16/100\n",
      "3/3 [==============================] - 0s 57ms/step - loss: 152.1633 - val_loss: 124.3027\n",
      "Epoch 17/100\n",
      "3/3 [==============================] - 0s 65ms/step - loss: 149.0308 - val_loss: 116.0345\n",
      "Epoch 18/100\n",
      "3/3 [==============================] - 0s 53ms/step - loss: 143.8296 - val_loss: 114.9519\n",
      "Epoch 19/100\n",
      "3/3 [==============================] - 0s 46ms/step - loss: 140.7285 - val_loss: 135.1565\n",
      "Epoch 20/100\n",
      "3/3 [==============================] - 0s 50ms/step - loss: 133.8656 - val_loss: 158.9237\n",
      "Epoch 21/100\n",
      "3/3 [==============================] - 0s 70ms/step - loss: 135.1075 - val_loss: 195.1854\n",
      "Epoch 22/100\n",
      "3/3 [==============================] - 0s 64ms/step - loss: 133.4269 - val_loss: 172.0661\n",
      "Epoch 23/100\n",
      "3/3 [==============================] - 0s 84ms/step - loss: 128.4406 - val_loss: 143.8267\n",
      "Epoch 24/100\n",
      "3/3 [==============================] - 0s 78ms/step - loss: 127.7765 - val_loss: 128.4861\n",
      "Epoch 25/100\n",
      "3/3 [==============================] - 0s 60ms/step - loss: 126.3088 - val_loss: 140.9246\n",
      "Epoch 26/100\n",
      "3/3 [==============================] - 0s 70ms/step - loss: 124.4434 - val_loss: 157.1980\n",
      "Epoch 27/100\n",
      "3/3 [==============================] - 0s 90ms/step - loss: 124.4835 - val_loss: 153.3918\n",
      "Epoch 28/100\n",
      "3/3 [==============================] - 0s 86ms/step - loss: 123.6699 - val_loss: 164.4493\n",
      "Epoch 29/100\n",
      "3/3 [==============================] - 0s 84ms/step - loss: 122.4333 - val_loss: 153.3732\n",
      "Epoch 30/100\n",
      "3/3 [==============================] - 0s 85ms/step - loss: 122.1408 - val_loss: 151.5038\n",
      "Epoch 31/100\n",
      "3/3 [==============================] - 0s 66ms/step - loss: 121.5532 - val_loss: 151.4861\n",
      "Epoch 32/100\n",
      "3/3 [==============================] - 0s 49ms/step - loss: 120.9372 - val_loss: 153.7387\n",
      "Epoch 33/100\n",
      "3/3 [==============================] - 0s 74ms/step - loss: 121.6795 - val_loss: 149.8254\n",
      "Epoch 34/100\n",
      "3/3 [==============================] - 0s 58ms/step - loss: 120.3284 - val_loss: 142.7460\n",
      "Epoch 35/100\n",
      "3/3 [==============================] - 0s 59ms/step - loss: 120.2218 - val_loss: 152.6684\n",
      "Epoch 36/100\n",
      "3/3 [==============================] - 0s 45ms/step - loss: 121.5790 - val_loss: 164.2010\n",
      "Epoch 37/100\n",
      "3/3 [==============================] - 0s 61ms/step - loss: 120.2262 - val_loss: 162.3170\n",
      "Epoch 38/100\n",
      "3/3 [==============================] - 0s 78ms/step - loss: 120.4065 - val_loss: 159.5390\n",
      "Epoch 39/100\n",
      "3/3 [==============================] - 0s 56ms/step - loss: 119.3818 - val_loss: 133.4713\n",
      "Epoch 40/100\n",
      "3/3 [==============================] - 0s 85ms/step - loss: 118.6957 - val_loss: 117.1562\n",
      "Epoch 41/100\n",
      "3/3 [==============================] - 0s 82ms/step - loss: 120.8421 - val_loss: 120.1522\n",
      "Epoch 42/100\n",
      "3/3 [==============================] - 0s 93ms/step - loss: 119.7317 - val_loss: 139.7999\n",
      "Epoch 43/100\n",
      "3/3 [==============================] - 0s 84ms/step - loss: 120.4888 - val_loss: 164.4921\n",
      "Epoch 44/100\n",
      "3/3 [==============================] - 0s 81ms/step - loss: 119.9411 - val_loss: 149.1614\n",
      "Epoch 45/100\n",
      "3/3 [==============================] - 0s 89ms/step - loss: 117.8882 - val_loss: 149.3739\n",
      "Epoch 46/100\n",
      "3/3 [==============================] - 0s 69ms/step - loss: 118.3693 - val_loss: 150.9327\n",
      "Epoch 47/100\n",
      "3/3 [==============================] - 0s 81ms/step - loss: 117.0542 - val_loss: 165.8593\n",
      "Epoch 48/100\n",
      "3/3 [==============================] - 0s 72ms/step - loss: 117.4757 - val_loss: 165.3087\n",
      "Epoch 49/100\n",
      "3/3 [==============================] - 0s 60ms/step - loss: 117.7406 - val_loss: 147.8284\n",
      "Epoch 50/100\n",
      "3/3 [==============================] - 0s 54ms/step - loss: 116.6235 - val_loss: 142.6089\n",
      "Epoch 51/100\n",
      "3/3 [==============================] - 0s 40ms/step - loss: 116.4856 - val_loss: 140.4483\n",
      "Epoch 52/100\n",
      "3/3 [==============================] - 0s 68ms/step - loss: 117.3724 - val_loss: 151.7540\n",
      "Epoch 53/100\n",
      "3/3 [==============================] - 0s 68ms/step - loss: 116.7384 - val_loss: 141.3519\n",
      "Epoch 54/100\n",
      "3/3 [==============================] - 0s 87ms/step - loss: 116.2030 - val_loss: 151.8443\n",
      "Epoch 55/100\n",
      "3/3 [==============================] - 0s 89ms/step - loss: 116.0142 - val_loss: 148.3042\n",
      "Epoch 56/100\n",
      "3/3 [==============================] - 0s 80ms/step - loss: 115.5548 - val_loss: 152.6391\n",
      "Epoch 57/100\n",
      "3/3 [==============================] - 0s 89ms/step - loss: 115.8394 - val_loss: 162.1251\n",
      "Epoch 58/100\n",
      "3/3 [==============================] - 0s 45ms/step - loss: 115.7006 - val_loss: 151.4730\n",
      "Epoch 59/100\n",
      "3/3 [==============================] - 0s 68ms/step - loss: 114.5005 - val_loss: 132.9598\n",
      "Epoch 60/100\n",
      "3/3 [==============================] - 0s 83ms/step - loss: 115.5680 - val_loss: 126.5198\n",
      "Epoch 61/100\n",
      "3/3 [==============================] - 0s 120ms/step - loss: 115.9160 - val_loss: 128.3121\n",
      "Epoch 62/100\n",
      "3/3 [==============================] - 0s 74ms/step - loss: 115.3762 - val_loss: 139.8658\n",
      "Epoch 63/100\n",
      "3/3 [==============================] - 0s 48ms/step - loss: 115.4105 - val_loss: 143.2382\n",
      "Epoch 64/100\n",
      "3/3 [==============================] - 0s 51ms/step - loss: 114.7595 - val_loss: 146.1691\n",
      "Epoch 65/100\n",
      "3/3 [==============================] - 0s 52ms/step - loss: 114.8939 - val_loss: 160.3371\n",
      "Epoch 66/100\n",
      "3/3 [==============================] - 0s 78ms/step - loss: 115.0798 - val_loss: 161.4858\n",
      "Epoch 67/100\n",
      "3/3 [==============================] - 0s 78ms/step - loss: 113.9109 - val_loss: 176.6455\n",
      "Epoch 68/100\n",
      "3/3 [==============================] - 0s 74ms/step - loss: 114.7404 - val_loss: 175.2670\n",
      "Epoch 69/100\n",
      "3/3 [==============================] - 0s 82ms/step - loss: 114.6771 - val_loss: 160.2494\n",
      "Epoch 70/100\n",
      "3/3 [==============================] - 0s 79ms/step - loss: 113.5196 - val_loss: 156.1059\n",
      "Epoch 71/100\n",
      "3/3 [==============================] - 0s 73ms/step - loss: 113.9761 - val_loss: 155.6174\n",
      "Epoch 72/100\n",
      "3/3 [==============================] - 0s 85ms/step - loss: 113.8968 - val_loss: 140.2741\n",
      "Epoch 73/100\n",
      "3/3 [==============================] - 0s 88ms/step - loss: 113.1358 - val_loss: 143.4855\n",
      "Epoch 74/100\n",
      "3/3 [==============================] - 0s 76ms/step - loss: 113.2442 - val_loss: 148.7627\n",
      "Epoch 75/100\n",
      "3/3 [==============================] - 0s 55ms/step - loss: 113.1836 - val_loss: 149.7248\n",
      "Epoch 76/100\n",
      "3/3 [==============================] - 0s 65ms/step - loss: 112.6734 - val_loss: 149.0456\n",
      "Epoch 77/100\n",
      "3/3 [==============================] - 0s 71ms/step - loss: 112.4273 - val_loss: 144.2213\n",
      "Epoch 78/100\n"
     ]
    },
    {
     "name": "stdout",
     "output_type": "stream",
     "text": [
      "3/3 [==============================] - 0s 75ms/step - loss: 112.8706 - val_loss: 151.7889\n",
      "Epoch 79/100\n",
      "3/3 [==============================] - 0s 50ms/step - loss: 112.0244 - val_loss: 152.7175\n",
      "Epoch 80/100\n",
      "3/3 [==============================] - 0s 63ms/step - loss: 112.3681 - val_loss: 161.8266\n",
      "Epoch 81/100\n",
      "3/3 [==============================] - 0s 55ms/step - loss: 112.3089 - val_loss: 161.8488\n",
      "Epoch 82/100\n",
      "3/3 [==============================] - 0s 47ms/step - loss: 112.4766 - val_loss: 144.6062\n",
      "Epoch 83/100\n",
      "3/3 [==============================] - 0s 50ms/step - loss: 112.2500 - val_loss: 145.5584\n",
      "Epoch 84/100\n",
      "3/3 [==============================] - 0s 99ms/step - loss: 111.0117 - val_loss: 156.3472\n",
      "Epoch 85/100\n",
      "3/3 [==============================] - 0s 91ms/step - loss: 111.2828 - val_loss: 164.9011\n",
      "Epoch 86/100\n",
      "3/3 [==============================] - 0s 80ms/step - loss: 111.2249 - val_loss: 160.1079\n",
      "Epoch 87/100\n",
      "3/3 [==============================] - 0s 85ms/step - loss: 110.5642 - val_loss: 153.5598\n",
      "Epoch 88/100\n",
      "3/3 [==============================] - 0s 77ms/step - loss: 111.4408 - val_loss: 156.7143\n",
      "Epoch 89/100\n",
      "3/3 [==============================] - 0s 73ms/step - loss: 112.9592 - val_loss: 166.2544\n",
      "Epoch 90/100\n",
      "3/3 [==============================] - 0s 93ms/step - loss: 110.6994 - val_loss: 152.8612\n",
      "Epoch 91/100\n",
      "3/3 [==============================] - 0s 70ms/step - loss: 110.5459 - val_loss: 147.4462\n",
      "Epoch 92/100\n",
      "3/3 [==============================] - 0s 52ms/step - loss: 110.5258 - val_loss: 143.6893\n",
      "Epoch 93/100\n",
      "3/3 [==============================] - 0s 72ms/step - loss: 110.4062 - val_loss: 160.9694\n",
      "Epoch 94/100\n",
      "3/3 [==============================] - 0s 46ms/step - loss: 110.0121 - val_loss: 156.8975\n",
      "Epoch 95/100\n",
      "3/3 [==============================] - 0s 60ms/step - loss: 111.6386 - val_loss: 139.0546\n",
      "Epoch 96/100\n",
      "3/3 [==============================] - 0s 70ms/step - loss: 111.2917 - val_loss: 156.8991\n",
      "Epoch 97/100\n",
      "3/3 [==============================] - 0s 80ms/step - loss: 109.0971 - val_loss: 160.2085\n",
      "Epoch 98/100\n",
      "3/3 [==============================] - 0s 82ms/step - loss: 109.0510 - val_loss: 153.5796\n",
      "Epoch 99/100\n",
      "3/3 [==============================] - 0s 80ms/step - loss: 108.3370 - val_loss: 140.6349\n",
      "Epoch 100/100\n",
      "3/3 [==============================] - 0s 64ms/step - loss: 109.0631 - val_loss: 137.5553\n"
     ]
    }
   ],
   "source": [
    "history = model.fit(X_train, y_train, epochs=100,\n",
    "                    validation_data=(X_valid, y_valid))"
   ]
  },
  {
   "cell_type": "code",
   "execution_count": 17,
   "id": "4d550f88",
   "metadata": {},
   "outputs": [
    {
     "data": {
      "image/png": "[encoded data removed]",
      "text/plain": [
       "<Figure size 576x360 with 1 Axes>"
      ]
     },
     "metadata": {
      "needs_background": "light"
     },
     "output_type": "display_data"
    }
   ],
   "source": [
    "import pandas as pd\n",
    "\n",
    "pd.DataFrame(history.history).plot(figsize=(8, 5))\n",
    "plt.grid(True)\n",
    "# plt.gca().set_ylim(0, 1)\n",
    "plt.show()"
   ]
  },
  {
   "cell_type": "code",
   "execution_count": 18,
   "id": "37466019",
   "metadata": {},
   "outputs": [
    {
     "name": "stdout",
     "output_type": "stream",
     "text": [
      "X.shape = (None, 1)\n",
      "gauss_grid.shape = (None, 5)\n"
     ]
    },
    {
     "data": {
      "image/png": "[encoded data removed]",
      "text/plain": [
       "<Figure size 432x288 with 1 Axes>"
      ]
     },
     "metadata": {
      "needs_background": "light"
     },
     "output_type": "display_data"
    }
   ],
   "source": [
    "# X_new = np.linspace(-5, 5, 100).reshape(100, 1)\n",
    "# y_new = model.predict(X_new)\n",
    "#\n",
    "plt.plot(X_train, y_train, \"b.\")\n",
    "# plt.plot(X_new, y_new, \"r-\", linewidth=2, label=\"Predictions\")\n",
    "draw_func(model.predict, mark='r-', linewidth=2, label=\"Predictions\")\n",
    "draw_normal_func(func_dict)\n",
    "plt.xlabel(\"$x_1$\", fontsize=18)\n",
    "plt.ylabel(\"$y$\", rotation=0, fontsize=18)\n",
    "plt.legend(loc=\"upper left\", fontsize=14)\n",
    "# plt.axis([-3, 3, 0, 10])\n",
    "plt.show()"
   ]
  },
  {
   "cell_type": "markdown",
   "id": "fe65d614",
   "metadata": {},
   "source": [
    "# Grid & Regression by Classification (grid --> grid)"
   ]
  },
  {
   "cell_type": "code",
   "execution_count": 19,
   "id": "3d35615e",
   "metadata": {},
   "outputs": [],
   "source": [
    "class num2grid_np():\n",
    "    def __init__(self, units, x_min=-10, x_max=10, sigma=1.0):\n",
    "        self.units = units\n",
    "        self.x_min = x_min\n",
    "        self.x_max = x_max\n",
    "        self.sigma = sigma\n",
    "        self.sigma2 = self.sigma**2\n",
    "        self.x_grid = np.linspace(self.x_min, self.x_max, self.units, endpoint=True)\n",
    "        print(\"self.x_grid = %s\" % str(self.x_grid))\n",
    "        \n",
    "    def convert(self, X):\n",
    "        gauss_grid = np.exp( -(self.x_grid - X)**2 / (2.0*self.sigma2) )\n",
    "#         if len(gauss_grid.shape) == 1:\n",
    "#             gauss_grid = gauss_grid.reshape([1,-1])\n",
    "#         grid_sum = np.sum(gauss_grid, axis=1, keepdims=True)\n",
    "        grid_sum = np.sum(gauss_grid, axis=-1, keepdims=True)\n",
    "        gauss_grid = gauss_grid / grid_sum\n",
    "        return gauss_grid\n",
    "    \n",
    "    def inv_convert(self, grid):\n",
    "#         if len(grid.shape) == 1:\n",
    "#             grid = grid.reshape([1,-1])\n",
    "#         grid_sum = np.sum(grid, axis=1)\n",
    "        grid_sum = np.sum(grid, axis=-1)\n",
    "#         print(grid_sum)\n",
    "        exp_num = np.sum((self.x_grid * grid), axis=-1) / grid_sum # element-wise\n",
    "        return exp_num"
   ]
  },
  {
   "cell_type": "code",
   "execution_count": 20,
   "id": "4903180b",
   "metadata": {},
   "outputs": [
    {
     "name": "stdout",
     "output_type": "stream",
     "text": [
      "self.x_grid = [-100.          -95.91836735  -91.83673469  -87.75510204  -83.67346939\n",
      "  -79.59183673  -75.51020408  -71.42857143  -67.34693878  -63.26530612\n",
      "  -59.18367347  -55.10204082  -51.02040816  -46.93877551  -42.85714286\n",
      "  -38.7755102   -34.69387755  -30.6122449   -26.53061224  -22.44897959\n",
      "  -18.36734694  -14.28571429  -10.20408163   -6.12244898   -2.04081633\n",
      "    2.04081633    6.12244898   10.20408163   14.28571429   18.36734694\n",
      "   22.44897959   26.53061224   30.6122449    34.69387755   38.7755102\n",
      "   42.85714286   46.93877551   51.02040816   55.10204082   59.18367347\n",
      "   63.26530612   67.34693878   71.42857143   75.51020408   79.59183673\n",
      "   83.67346939   87.75510204   91.83673469   95.91836735  100.        ]\n"
     ]
    }
   ],
   "source": [
    "# class_num = 10 # 10\n",
    "# n2g = num2grid_np(class_num, x_min=-100.0, x_max=100.0, sigma=20.0) \n",
    "class_num = 50\n",
    "n2g = num2grid_np(class_num, x_min=-100.0, x_max=100.0, sigma=5.0) # 5.0 "
   ]
  },
  {
   "cell_type": "code",
   "execution_count": 21,
   "id": "dce05258",
   "metadata": {},
   "outputs": [
    {
     "name": "stdout",
     "output_type": "stream",
     "text": [
      "[5.32087956e-86 3.86113319e-79 1.43892139e-72 2.75391345e-66\n",
      " 2.70678923e-60 1.36631087e-54 3.54189384e-49 4.71533431e-44\n",
      " 3.22389115e-39 1.13198112e-34 2.04121584e-30 1.89029511e-26\n",
      " 8.99003166e-23 2.19575442e-19 2.75421121e-16 1.77419623e-13\n",
      " 5.86944439e-11 9.97202289e-09 8.70082579e-07 3.89877895e-05\n",
      " 8.97196734e-04 1.06032179e-02 6.43544562e-02 2.00590561e-01\n",
      " 3.21094817e-01 2.63965415e-01 1.11442718e-01 2.41628020e-02\n",
      " 2.69050515e-03 1.53854886e-04 4.51834812e-06 6.81457879e-08\n",
      " 5.27824177e-10 2.09957055e-12 4.28906472e-15 4.49972175e-18\n",
      " 2.42437419e-21 6.70817796e-25 9.53235992e-29 6.95644285e-33\n",
      " 2.60714354e-37 5.01803398e-42 4.96013143e-47 2.51793030e-52\n",
      " 6.56425064e-58 8.78855631e-64 6.04283668e-70 2.13380686e-76\n",
      " 3.86954844e-83 3.60376450e-90]\n"
     ]
    }
   ],
   "source": [
    "grid_1 = n2g.convert(-1.2)\n",
    "print(grid_1)"
   ]
  },
  {
   "cell_type": "code",
   "execution_count": 22,
   "id": "48203fe2",
   "metadata": {},
   "outputs": [
    {
     "data": {
      "text/plain": [
       "-1.2000000000101176"
      ]
     },
     "execution_count": 22,
     "metadata": {},
     "output_type": "execute_result"
    }
   ],
   "source": [
    "n2g.inv_convert(grid_1)"
   ]
  },
  {
   "cell_type": "markdown",
   "id": "bdc0b9a0",
   "metadata": {},
   "source": [
    "### Convert the labels to grid (pre-processing)"
   ]
  },
  {
   "cell_type": "code",
   "execution_count": 23,
   "id": "39c7fa96",
   "metadata": {},
   "outputs": [],
   "source": [
    "y_train_grid = n2g.convert(y_train)\n",
    "y_valid_grid = n2g.convert(y_valid)"
   ]
  },
  {
   "cell_type": "code",
   "execution_count": 24,
   "id": "f577a751",
   "metadata": {},
   "outputs": [
    {
     "name": "stdout",
     "output_type": "stream",
     "text": [
      "(80, 50)\n",
      "(20, 50)\n"
     ]
    }
   ],
   "source": [
    "print(y_train_grid.shape)\n",
    "print(y_valid_grid.shape)"
   ]
  },
  {
   "cell_type": "code",
   "execution_count": 25,
   "id": "71610af1",
   "metadata": {},
   "outputs": [
    {
     "name": "stdout",
     "output_type": "stream",
     "text": [
      "X.shape = (None, 1)\n",
      "gauss_grid.shape = (None, 5)\n"
     ]
    },
    {
     "name": "stderr",
     "output_type": "stream",
     "text": [
      "/home/benson516/ml/my_env/lib/python3.6/site-packages/tensorflow/python/keras/optimizer_v2/optimizer_v2.py:375: UserWarning: The `lr` argument is deprecated, use `learning_rate` instead.\n",
      "  \"The `lr` argument is deprecated, use `learning_rate` instead.\")\n"
     ]
    }
   ],
   "source": [
    "model = keras.models.Sequential([\n",
    "#     keras.layers.Dense(30, activation=\"relu\", input_shape=X_train.shape[1:]),\n",
    "    num2grid(5,x_min=-10, x_max=10, sigma=3.0, input_shape=X_train.shape[1:]),\n",
    "    keras.layers.Dense(30, activation=\"relu\"),\n",
    "    keras.layers.Dense(class_num, activation=\"softmax\"),\n",
    "])\n",
    "\n",
    "optimizer = keras.optimizers.SGD(lr=0.1, momentum=0.9)\n",
    "model.compile(loss=\"categorical_crossentropy\", optimizer=optimizer)"
   ]
  },
  {
   "cell_type": "code",
   "execution_count": 26,
   "id": "e2244aee",
   "metadata": {
    "scrolled": true
   },
   "outputs": [
    {
     "name": "stdout",
     "output_type": "stream",
     "text": [
      "Epoch 1/100\n",
      "X.shape = (None, 1)\n",
      "gauss_grid.shape = (None, 5)\n",
      "X.shape = (None, 1)\n",
      "gauss_grid.shape = (None, 5)\n",
      "1/3 [=========>....................] - ETA: 1s - loss: 3.9232X.shape = (None, 1)\n",
      "gauss_grid.shape = (None, 5)\n",
      "3/3 [==============================] - 1s 272ms/step - loss: 3.9116 - val_loss: 3.9076\n",
      "Epoch 2/100\n",
      "3/3 [==============================] - 0s 89ms/step - loss: 3.8364 - val_loss: 3.7990\n",
      "Epoch 3/100\n",
      "3/3 [==============================] - 0s 39ms/step - loss: 3.7052 - val_loss: 3.6642\n",
      "Epoch 4/100\n",
      "3/3 [==============================] - 0s 62ms/step - loss: 3.5468 - val_loss: 3.5143\n",
      "Epoch 5/100\n",
      "3/3 [==============================] - 0s 47ms/step - loss: 3.3878 - val_loss: 3.4013\n",
      "Epoch 6/100\n",
      "3/3 [==============================] - 0s 100ms/step - loss: 3.2648 - val_loss: 3.3148\n",
      "Epoch 7/100\n",
      "3/3 [==============================] - 0s 61ms/step - loss: 3.2121 - val_loss: 3.1892\n",
      "Epoch 8/100\n",
      "3/3 [==============================] - 0s 76ms/step - loss: 3.1691 - val_loss: 3.0687\n",
      "Epoch 9/100\n",
      "3/3 [==============================] - 0s 81ms/step - loss: 3.1327 - val_loss: 2.9487\n",
      "Epoch 10/100\n",
      "3/3 [==============================] - 0s 76ms/step - loss: 3.0760 - val_loss: 2.9095\n",
      "Epoch 11/100\n",
      "3/3 [==============================] - 0s 89ms/step - loss: 3.0349 - val_loss: 2.9143\n",
      "Epoch 12/100\n",
      "3/3 [==============================] - 0s 85ms/step - loss: 2.9966 - val_loss: 2.9491\n",
      "Epoch 13/100\n",
      "3/3 [==============================] - 0s 82ms/step - loss: 2.9629 - val_loss: 2.9890\n",
      "Epoch 14/100\n",
      "3/3 [==============================] - 0s 100ms/step - loss: 2.9282 - val_loss: 2.9691\n",
      "Epoch 15/100\n",
      "3/3 [==============================] - 0s 82ms/step - loss: 2.8886 - val_loss: 2.9195\n",
      "Epoch 16/100\n",
      "3/3 [==============================] - 0s 58ms/step - loss: 2.8586 - val_loss: 2.8444\n",
      "Epoch 17/100\n",
      "3/3 [==============================] - 0s 87ms/step - loss: 2.8192 - val_loss: 2.8463\n",
      "Epoch 18/100\n",
      "3/3 [==============================] - 0s 80ms/step - loss: 2.7868 - val_loss: 2.8437\n",
      "Epoch 19/100\n",
      "3/3 [==============================] - 0s 94ms/step - loss: 2.7567 - val_loss: 2.8513\n",
      "Epoch 20/100\n",
      "3/3 [==============================] - 0s 81ms/step - loss: 2.7249 - val_loss: 2.7823\n",
      "Epoch 21/100\n",
      "3/3 [==============================] - 0s 73ms/step - loss: 2.6997 - val_loss: 2.6929\n",
      "Epoch 22/100\n",
      "3/3 [==============================] - 0s 67ms/step - loss: 2.6779 - val_loss: 2.6565\n",
      "Epoch 23/100\n",
      "3/3 [==============================] - 0s 91ms/step - loss: 2.6604 - val_loss: 2.6762\n",
      "Epoch 24/100\n",
      "3/3 [==============================] - 0s 53ms/step - loss: 2.6318 - val_loss: 2.7124\n",
      "Epoch 25/100\n",
      "3/3 [==============================] - ETA: 0s - loss: 2.546 - 0s 44ms/step - loss: 2.6131 - val_loss: 2.7488\n",
      "Epoch 26/100\n",
      "3/3 [==============================] - 0s 60ms/step - loss: 2.5941 - val_loss: 2.7352\n",
      "Epoch 27/100\n",
      "3/3 [==============================] - 0s 56ms/step - loss: 2.5824 - val_loss: 2.7016\n",
      "Epoch 28/100\n",
      "3/3 [==============================] - 0s 88ms/step - loss: 2.5692 - val_loss: 2.6955\n",
      "Epoch 29/100\n",
      "3/3 [==============================] - 0s 103ms/step - loss: 2.5566 - val_loss: 2.6571\n",
      "Epoch 30/100\n",
      "3/3 [==============================] - ETA: 0s - loss: 2.551 - 0s 93ms/step - loss: 2.5423 - val_loss: 2.6812\n",
      "Epoch 31/100\n",
      "3/3 [==============================] - 0s 60ms/step - loss: 2.5323 - val_loss: 2.6781\n",
      "Epoch 32/100\n",
      "3/3 [==============================] - 0s 92ms/step - loss: 2.5221 - val_loss: 2.6235\n",
      "Epoch 33/100\n",
      "3/3 [==============================] - 0s 84ms/step - loss: 2.5160 - val_loss: 2.6699\n",
      "Epoch 34/100\n",
      "3/3 [==============================] - 0s 101ms/step - loss: 2.5033 - val_loss: 2.6203\n",
      "Epoch 35/100\n",
      "3/3 [==============================] - 0s 102ms/step - loss: 2.4949 - val_loss: 2.6302\n",
      "Epoch 36/100\n",
      "3/3 [==============================] - 0s 74ms/step - loss: 2.4860 - val_loss: 2.7305\n",
      "Epoch 37/100\n",
      "3/3 [==============================] - 0s 73ms/step - loss: 2.4837 - val_loss: 2.7707\n",
      "Epoch 38/100\n",
      "3/3 [==============================] - 0s 72ms/step - loss: 2.4786 - val_loss: 2.6818\n",
      "Epoch 39/100\n",
      "3/3 [==============================] - 0s 94ms/step - loss: 2.4682 - val_loss: 2.6279\n",
      "Epoch 40/100\n",
      "3/3 [==============================] - 0s 67ms/step - loss: 2.4614 - val_loss: 2.6466\n",
      "Epoch 41/100\n",
      "3/3 [==============================] - 0s 101ms/step - loss: 2.4563 - val_loss: 2.6148\n",
      "Epoch 42/100\n",
      "3/3 [==============================] - 0s 93ms/step - loss: 2.4530 - val_loss: 2.5637\n",
      "Epoch 43/100\n",
      "3/3 [==============================] - 0s 66ms/step - loss: 2.4458 - val_loss: 2.5549\n",
      "Epoch 44/100\n",
      "3/3 [==============================] - 0s 68ms/step - loss: 2.4420 - val_loss: 2.5597\n",
      "Epoch 45/100\n",
      "3/3 [==============================] - 0s 68ms/step - loss: 2.4319 - val_loss: 2.6160\n",
      "Epoch 46/100\n",
      "3/3 [==============================] - 0s 52ms/step - loss: 2.4291 - val_loss: 2.6596\n",
      "Epoch 47/100\n",
      "3/3 [==============================] - 0s 76ms/step - loss: 2.4340 - val_loss: 2.6684\n",
      "Epoch 48/100\n",
      "3/3 [==============================] - 0s 55ms/step - loss: 2.4212 - val_loss: 2.5875\n",
      "Epoch 49/100\n",
      "3/3 [==============================] - 0s 60ms/step - loss: 2.4169 - val_loss: 2.5227\n",
      "Epoch 50/100\n",
      "3/3 [==============================] - 0s 45ms/step - loss: 2.4213 - val_loss: 2.5332\n",
      "Epoch 51/100\n",
      "3/3 [==============================] - 0s 67ms/step - loss: 2.4091 - val_loss: 2.6840\n",
      "Epoch 52/100\n",
      "3/3 [==============================] - 0s 90ms/step - loss: 2.4114 - val_loss: 2.7089\n",
      "Epoch 53/100\n",
      "3/3 [==============================] - 0s 63ms/step - loss: 2.4103 - val_loss: 2.6452\n",
      "Epoch 54/100\n",
      "3/3 [==============================] - 0s 56ms/step - loss: 2.4011 - val_loss: 2.5976\n",
      "Epoch 55/100\n",
      "3/3 [==============================] - 0s 57ms/step - loss: 2.3971 - val_loss: 2.6187\n",
      "Epoch 56/100\n",
      "3/3 [==============================] - 0s 48ms/step - loss: 2.3917 - val_loss: 2.5882\n",
      "Epoch 57/100\n",
      "3/3 [==============================] - 0s 59ms/step - loss: 2.3901 - val_loss: 2.5720\n",
      "Epoch 58/100\n",
      "3/3 [==============================] - 0s 46ms/step - loss: 2.3845 - val_loss: 2.6205\n",
      "Epoch 59/100\n",
      "3/3 [==============================] - 0s 94ms/step - loss: 2.3863 - val_loss: 2.6854\n",
      "Epoch 60/100\n",
      "3/3 [==============================] - 0s 91ms/step - loss: 2.3805 - val_loss: 2.5714\n",
      "Epoch 61/100\n",
      "3/3 [==============================] - 0s 68ms/step - loss: 2.3775 - val_loss: 2.5564\n",
      "Epoch 62/100\n",
      "3/3 [==============================] - 0s 80ms/step - loss: 2.3738 - val_loss: 2.6170\n",
      "Epoch 63/100\n",
      "3/3 [==============================] - 0s 80ms/step - loss: 2.3704 - val_loss: 2.5631\n",
      "Epoch 64/100\n",
      "3/3 [==============================] - 0s 75ms/step - loss: 2.3688 - val_loss: 2.5481\n",
      "Epoch 65/100\n",
      "3/3 [==============================] - 0s 88ms/step - loss: 2.3642 - val_loss: 2.5890\n",
      "Epoch 66/100\n",
      "3/3 [==============================] - 0s 81ms/step - loss: 2.3626 - val_loss: 2.6414\n",
      "Epoch 67/100\n",
      "3/3 [==============================] - 0s 61ms/step - loss: 2.3599 - val_loss: 2.6061\n",
      "Epoch 68/100\n",
      "3/3 [==============================] - 0s 99ms/step - loss: 2.3661 - val_loss: 2.5161\n",
      "Epoch 69/100\n",
      "3/3 [==============================] - 0s 84ms/step - loss: 2.3621 - val_loss: 2.5317\n",
      "Epoch 70/100\n",
      "3/3 [==============================] - 0s 67ms/step - loss: 2.3565 - val_loss: 2.6687\n",
      "Epoch 71/100\n",
      "3/3 [==============================] - 0s 93ms/step - loss: 2.3563 - val_loss: 2.6278\n",
      "Epoch 72/100\n",
      "3/3 [==============================] - 0s 93ms/step - loss: 2.3561 - val_loss: 2.5866\n",
      "Epoch 73/100\n",
      "3/3 [==============================] - 0s 74ms/step - loss: 2.3458 - val_loss: 2.5574\n",
      "Epoch 74/100\n",
      "3/3 [==============================] - 0s 93ms/step - loss: 2.3521 - val_loss: 2.5766\n",
      "Epoch 75/100\n",
      "3/3 [==============================] - 0s 93ms/step - loss: 2.3558 - val_loss: 2.5083\n",
      "Epoch 76/100\n",
      "3/3 [==============================] - 0s 83ms/step - loss: 2.3420 - val_loss: 2.5350\n",
      "Epoch 77/100\n",
      "3/3 [==============================] - 0s 65ms/step - loss: 2.3409 - val_loss: 2.6247\n",
      "Epoch 78/100\n",
      "3/3 [==============================] - 0s 84ms/step - loss: 2.3422 - val_loss: 2.6176\n",
      "Epoch 79/100\n",
      "3/3 [==============================] - 0s 80ms/step - loss: 2.3394 - val_loss: 2.6762\n",
      "Epoch 80/100\n",
      "3/3 [==============================] - 0s 100ms/step - loss: 2.3316 - val_loss: 2.6220\n",
      "Epoch 81/100\n"
     ]
    },
    {
     "name": "stdout",
     "output_type": "stream",
     "text": [
      "3/3 [==============================] - 0s 64ms/step - loss: 2.3283 - val_loss: 2.5583\n",
      "Epoch 82/100\n",
      "3/3 [==============================] - 0s 49ms/step - loss: 2.3266 - val_loss: 2.5566\n",
      "Epoch 83/100\n",
      "3/3 [==============================] - 0s 60ms/step - loss: 2.3254 - val_loss: 2.5783\n",
      "Epoch 84/100\n",
      "3/3 [==============================] - 0s 48ms/step - loss: 2.3219 - val_loss: 2.6077\n",
      "Epoch 85/100\n",
      "3/3 [==============================] - 0s 55ms/step - loss: 2.3229 - val_loss: 2.5746\n",
      "Epoch 86/100\n",
      "3/3 [==============================] - 0s 56ms/step - loss: 2.3241 - val_loss: 2.5496\n",
      "Epoch 87/100\n",
      "3/3 [==============================] - 0s 57ms/step - loss: 2.3221 - val_loss: 2.5746\n",
      "Epoch 88/100\n",
      "3/3 [==============================] - 0s 110ms/step - loss: 2.3213 - val_loss: 2.5238\n",
      "Epoch 89/100\n",
      "3/3 [==============================] - 0s 81ms/step - loss: 2.3254 - val_loss: 2.6025\n",
      "Epoch 90/100\n",
      "3/3 [==============================] - 0s 83ms/step - loss: 2.3174 - val_loss: 2.6045\n",
      "Epoch 91/100\n",
      "3/3 [==============================] - 0s 88ms/step - loss: 2.3225 - val_loss: 2.5536\n",
      "Epoch 92/100\n",
      "3/3 [==============================] - 0s 85ms/step - loss: 2.3088 - val_loss: 2.6625\n",
      "Epoch 93/100\n",
      "3/3 [==============================] - 0s 99ms/step - loss: 2.3124 - val_loss: 2.6146\n",
      "Epoch 94/100\n",
      "3/3 [==============================] - 0s 94ms/step - loss: 2.3042 - val_loss: 2.5422\n",
      "Epoch 95/100\n",
      "3/3 [==============================] - 0s 89ms/step - loss: 2.3116 - val_loss: 2.5417\n",
      "Epoch 96/100\n",
      "3/3 [==============================] - 0s 71ms/step - loss: 2.3132 - val_loss: 2.6403\n",
      "Epoch 97/100\n",
      "3/3 [==============================] - 0s 91ms/step - loss: 2.3046 - val_loss: 2.5164\n",
      "Epoch 98/100\n",
      "3/3 [==============================] - 0s 102ms/step - loss: 2.3180 - val_loss: 2.5132\n",
      "Epoch 99/100\n",
      "3/3 [==============================] - 0s 82ms/step - loss: 2.3234 - val_loss: 2.7610\n",
      "Epoch 100/100\n",
      "3/3 [==============================] - 0s 74ms/step - loss: 2.3168 - val_loss: 2.5148\n"
     ]
    }
   ],
   "source": [
    "history = model.fit(X_train, y_train_grid, epochs=100,\n",
    "                    validation_data=(X_valid, y_valid_grid))"
   ]
  },
  {
   "cell_type": "code",
   "execution_count": 27,
   "id": "390834c9",
   "metadata": {},
   "outputs": [
    {
     "data": {
      "image/png": "[encoded data removed]",
      "text/plain": [
       "<Figure size 576x360 with 1 Axes>"
      ]
     },
     "metadata": {
      "needs_background": "light"
     },
     "output_type": "display_data"
    }
   ],
   "source": [
    "import pandas as pd\n",
    "\n",
    "pd.DataFrame(history.history).plot(figsize=(8, 5))\n",
    "plt.grid(True)\n",
    "# plt.gca().set_ylim(0, 1)\n",
    "plt.show()"
   ]
  },
  {
   "cell_type": "code",
   "execution_count": 28,
   "id": "6fba3b6a",
   "metadata": {},
   "outputs": [
    {
     "name": "stdout",
     "output_type": "stream",
     "text": [
      "X.shape = (None, 1)\n",
      "gauss_grid.shape = (None, 5)\n"
     ]
    },
    {
     "data": {
      "image/png": "[encoded data removed]",
      "text/plain": [
       "<Figure size 432x288 with 1 Axes>"
      ]
     },
     "metadata": {
      "needs_background": "light"
     },
     "output_type": "display_data"
    }
   ],
   "source": [
    "# X_new = np.linspace(-5, 5, 100).reshape(100, 1)\n",
    "# y_new_proba = model.predict(X_new)\n",
    "# y_new = n2g.inv_convert(y_new_proba)\n",
    "#\n",
    "plt.plot(X_train, y_train, \"b.\")\n",
    "# plt.plot(X_new, y_new, \"r-\", linewidth=2, label=\"Predictions\")\n",
    "draw_func((lambda X: n2g.inv_convert(model.predict(X)) ), mark='r-', linewidth=2, label=\"Predictions\")\n",
    "draw_normal_func(func_dict)\n",
    "plt.xlabel(\"$x_1$\", fontsize=18)\n",
    "plt.ylabel(\"$y$\", rotation=0, fontsize=18)\n",
    "plt.legend(loc=\"upper left\", fontsize=14)\n",
    "# plt.axis([-3, 3, 0, 10])\n",
    "plt.show()"
   ]
  },
  {
   "cell_type": "code",
   "execution_count": 29,
   "id": "edcf26db",
   "metadata": {},
   "outputs": [
    {
     "data": {
      "text/plain": [
       "<matplotlib.collections.QuadMesh at 0x7f1988dbd358>"
      ]
     },
     "execution_count": 29,
     "metadata": {},
     "output_type": "execute_result"
    },
    {
     "data": {
      "image/png": "[encoded data removed]",
      "text/plain": [
       "<Figure size 432x288 with 1 Axes>"
      ]
     },
     "metadata": {
      "needs_background": "light"
     },
     "output_type": "display_data"
    }
   ],
   "source": [
    "X_new = np.linspace(-5, 5, 100).reshape(100, 1)\n",
    "y_new_proba = model.predict(X_new)\n",
    "# y_new = n2g.inv_convert(y_new_proba)\n",
    "#\n",
    "xv, yv = np.meshgrid(X_new, np.linspace(n2g.x_min, n2g.x_max, n2g.units))\n",
    "# print(xv)\n",
    "# print(yv)\n",
    "plt.pcolormesh(xv, yv, y_new_proba.T, shading=\"nearest\")"
   ]
  },
  {
   "cell_type": "code",
   "execution_count": null,
   "id": "247e8712",
   "metadata": {},
   "outputs": [],
   "source": []
  },
  {
   "cell_type": "code",
   "execution_count": null,
   "id": "f7c3917e",
   "metadata": {},
   "outputs": [],
   "source": []
  },
  {
   "cell_type": "code",
   "execution_count": null,
   "id": "26440167",
   "metadata": {},
   "outputs": [],
   "source": []
  },
  {
   "cell_type": "code",
   "execution_count": null,
   "id": "8b15e9ff",
   "metadata": {},
   "outputs": [],
   "source": []
  }
 ],
 "metadata": {
  "kernelspec": {
   "display_name": "Python 3",
   "language": "python",
   "name": "python3"
  },
  "language_info": {
   "codemirror_mode": {
    "name": "ipython",
    "version": 3
   },
   "file_extension": ".py",
   "mimetype": "text/x-python",
   "name": "python",
   "nbconvert_exporter": "python",
   "pygments_lexer": "ipython3",
   "version": "3.6.9"
  }
 },
 "nbformat": 4,
 "nbformat_minor": 5
}
