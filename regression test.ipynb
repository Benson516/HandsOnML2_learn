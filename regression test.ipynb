{
 "cells": [
  {
   "cell_type": "code",
   "execution_count": 1,
   "id": "f23ce228",
   "metadata": {},
   "outputs": [],
   "source": [
    "import numpy as np\n",
    "import tensorflow as tf\n",
    "from tensorflow import keras\n",
    "\n",
    "# To plot pretty figures\n",
    "%matplotlib inline\n",
    "import matplotlib as mpl\n",
    "import matplotlib.pyplot as plt\n",
    "mpl.rc('axes', labelsize=14)\n",
    "mpl.rc('xtick', labelsize=12)\n",
    "mpl.rc('ytick', labelsize=12)"
   ]
  },
  {
   "cell_type": "markdown",
   "id": "9a815b55",
   "metadata": {},
   "source": [
    "Generate polynomial data"
   ]
  },
  {
   "cell_type": "code",
   "execution_count": 2,
   "id": "412d3f81",
   "metadata": {},
   "outputs": [
    {
     "name": "stdout",
     "output_type": "stream",
     "text": [
      "(m, m_train) = (200, 160)\n",
      "y_data_pure.shape = (200, 1)\n",
      "y_data.shape = (200, 1)\n"
     ]
    }
   ],
   "source": [
    "np.random.seed(42)\n",
    "m = 200\n",
    "m_train = m // 5 * 4\n",
    "print(\"(m, m_train) = (%d, %d)\" % (m, m_train))\n",
    "# Input\n",
    "X_data = 10 * np.random.rand(m, 1) - 5 # Note: X is randomly sampled, so we don't need to shuffle the data again\n",
    "\n",
    "# Output\n",
    "is_multiout = True\n",
    "# is_multiout = False\n",
    "if is_multiout:\n",
    "    m_h = m // 2\n",
    "    X_data_1 = X_data[:m_h]\n",
    "    X_data_2 = X_data[m_h:]\n",
    "    y_data_pure_1 = 0.5 * X_data_1**3 + 0.5 * X_data_1**2 + X_data_1 + 2 \n",
    "    y_data_pure_2 = 0.5 * X_data_2**3 + 0.5 * X_data_2**2 + X_data_2 + 30 \n",
    "#     y_data_pure_2 = 0.3 * X_data_2**3 + 1.0 * X_data_2**2 + X_data_2 + 15 \n",
    "    y_data_pure = np.vstack([y_data_pure_1, y_data_pure_2])\n",
    "    print(\"y_data_pure.shape = %s\" % str(y_data_pure.shape))\n",
    "else:        \n",
    "    y_data_pure = 0.5 * X_data**3 + 0.5 * X_data**2 + X_data + 2 \n",
    "\n",
    "# Label (+noise)\n",
    "n_stddev = 2.0\n",
    "# n_stddev = 10.0\n",
    "y_data = y_data_pure + np.random.randn(m, 1) * n_stddev\n",
    "print(\"y_data.shape = %s\" % str(y_data.shape))"
   ]
  },
  {
   "cell_type": "code",
   "execution_count": 3,
   "id": "8691c92f",
   "metadata": {},
   "outputs": [],
   "source": [
    "X_train = X_data[:m_train]\n",
    "y_train = y_data[:m_train]\n",
    "X_valid = X_data[m_train:]\n",
    "y_valid = y_data[m_train:]"
   ]
  },
  {
   "cell_type": "code",
   "execution_count": 4,
   "id": "b7220751",
   "metadata": {},
   "outputs": [
    {
     "name": "stdout",
     "output_type": "stream",
     "text": [
      "(160, 1)\n"
     ]
    }
   ],
   "source": [
    "print(X_train.shape)"
   ]
  },
  {
   "cell_type": "code",
   "execution_count": 5,
   "id": "288d08ee",
   "metadata": {},
   "outputs": [
    {
     "data": {
      "image/png": "[encoded data removed]",
      "text/plain": [
       "<Figure size 432x288 with 1 Axes>"
      ]
     },
     "metadata": {
      "needs_background": "light"
     },
     "output_type": "display_data"
    }
   ],
   "source": [
    "plt.plot(X_train, y_train, \"b.\")\n",
    "plt.xlabel(\"$x_1$\", fontsize=18)\n",
    "plt.ylabel(\"$y$\", rotation=0, fontsize=18)\n",
    "# plt.axis([-3, 3, 0, 10])\n",
    "plt.show()"
   ]
  },
  {
   "cell_type": "markdown",
   "id": "8bbb48ef",
   "metadata": {},
   "source": [
    "Build the regression model"
   ]
  },
  {
   "cell_type": "code",
   "execution_count": 6,
   "id": "94d0966c",
   "metadata": {},
   "outputs": [
    {
     "name": "stderr",
     "output_type": "stream",
     "text": [
      "/home/benson516/ml/my_env/lib/python3.6/site-packages/tensorflow/python/keras/optimizer_v2/optimizer_v2.py:375: UserWarning: The `lr` argument is deprecated, use `learning_rate` instead.\n",
      "  \"The `lr` argument is deprecated, use `learning_rate` instead.\")\n"
     ]
    }
   ],
   "source": [
    "model = keras.models.Sequential([\n",
    "    keras.layers.Dense(30, activation=\"relu\", input_shape=X_train.shape[1:]),\n",
    "    keras.layers.Dense(30, activation=\"relu\"),\n",
    "    keras.layers.Dense(1)\n",
    "])\n",
    "\n",
    "optimizer = keras.optimizers.SGD(lr=0.001, momentum=0.9)\n",
    "model.compile(loss=\"mean_squared_error\", optimizer=optimizer)"
   ]
  },
  {
   "cell_type": "code",
   "execution_count": 7,
   "id": "405f1e54",
   "metadata": {
    "scrolled": true
   },
   "outputs": [
    {
     "name": "stdout",
     "output_type": "stream",
     "text": [
      "Epoch 1/100\n",
      "5/5 [==============================] - 2s 154ms/step - loss: 1150.1981 - val_loss: 1519.4119\n",
      "Epoch 2/100\n",
      "5/5 [==============================] - 0s 38ms/step - loss: 775.0676 - val_loss: 555.4871\n",
      "Epoch 3/100\n",
      "5/5 [==============================] - 0s 41ms/step - loss: 743.3735 - val_loss: 1079.8303\n",
      "Epoch 4/100\n",
      "5/5 [==============================] - 0s 34ms/step - loss: 531.0511 - val_loss: 827.4048\n",
      "Epoch 5/100\n",
      "5/5 [==============================] - 0s 48ms/step - loss: 502.7017 - val_loss: 117.7328\n",
      "Epoch 6/100\n",
      "5/5 [==============================] - 0s 49ms/step - loss: 454.8417 - val_loss: 663.8578\n",
      "Epoch 7/100\n",
      "5/5 [==============================] - 0s 58ms/step - loss: 506.9738 - val_loss: 305.9917\n",
      "Epoch 8/100\n",
      "5/5 [==============================] - 0s 55ms/step - loss: 650.4979 - val_loss: 1061.0735\n",
      "Epoch 9/100\n",
      "5/5 [==============================] - 0s 64ms/step - loss: 513.2836 - val_loss: 732.4552\n",
      "Epoch 10/100\n",
      "5/5 [==============================] - 0s 59ms/step - loss: 645.5691 - val_loss: 814.6571\n",
      "Epoch 11/100\n",
      "5/5 [==============================] - ETA: 0s - loss: 437.424 - 0s 44ms/step - loss: 394.3899 - val_loss: 522.7997\n",
      "Epoch 12/100\n",
      "5/5 [==============================] - 0s 40ms/step - loss: 413.5751 - val_loss: 182.6763\n",
      "Epoch 13/100\n",
      "5/5 [==============================] - 0s 48ms/step - loss: 294.8620 - val_loss: 696.0573\n",
      "Epoch 14/100\n",
      "5/5 [==============================] - 0s 52ms/step - loss: 303.2378 - val_loss: 204.0368\n",
      "Epoch 15/100\n",
      "5/5 [==============================] - 0s 61ms/step - loss: 273.1560 - val_loss: 433.5558\n",
      "Epoch 16/100\n",
      "5/5 [==============================] - 0s 53ms/step - loss: 254.4881 - val_loss: 176.8725\n",
      "Epoch 17/100\n",
      "5/5 [==============================] - 0s 44ms/step - loss: 214.7255 - val_loss: 502.6752\n",
      "Epoch 18/100\n",
      "5/5 [==============================] - 0s 57ms/step - loss: 251.8113 - val_loss: 431.9253\n",
      "Epoch 19/100\n",
      "5/5 [==============================] - 0s 64ms/step - loss: 275.2826 - val_loss: 332.6217\n",
      "Epoch 20/100\n",
      "5/5 [==============================] - 0s 53ms/step - loss: 307.6324 - val_loss: 513.5889\n",
      "Epoch 21/100\n",
      "5/5 [==============================] - 0s 61ms/step - loss: 329.6873 - val_loss: 747.5795\n",
      "Epoch 22/100\n",
      "5/5 [==============================] - 0s 66ms/step - loss: 415.3400 - val_loss: 260.2950\n",
      "Epoch 23/100\n",
      "5/5 [==============================] - 0s 54ms/step - loss: 297.6409 - val_loss: 567.0729\n",
      "Epoch 24/100\n",
      "5/5 [==============================] - 0s 58ms/step - loss: 321.1366 - val_loss: 229.6817\n",
      "Epoch 25/100\n",
      "5/5 [==============================] - 0s 51ms/step - loss: 288.9713 - val_loss: 584.8644\n",
      "Epoch 26/100\n",
      "5/5 [==============================] - 0s 46ms/step - loss: 281.4227 - val_loss: 360.4901\n",
      "Epoch 27/100\n",
      "5/5 [==============================] - 0s 56ms/step - loss: 303.5778 - val_loss: 308.9223\n",
      "Epoch 28/100\n",
      "5/5 [==============================] - 0s 56ms/step - loss: 332.9892 - val_loss: 527.4973\n",
      "Epoch 29/100\n",
      "5/5 [==============================] - 0s 60ms/step - loss: 308.0991 - val_loss: 403.5390\n",
      "Epoch 30/100\n",
      "5/5 [==============================] - 0s 59ms/step - loss: 234.5738 - val_loss: 217.3578\n",
      "Epoch 31/100\n",
      "5/5 [==============================] - 0s 60ms/step - loss: 230.5127 - val_loss: 462.6445\n",
      "Epoch 32/100\n",
      "5/5 [==============================] - 0s 64ms/step - loss: 241.3248 - val_loss: 240.2656\n",
      "Epoch 33/100\n",
      "5/5 [==============================] - 0s 56ms/step - loss: 254.6569 - val_loss: 242.0514\n",
      "Epoch 34/100\n",
      "5/5 [==============================] - 0s 51ms/step - loss: 253.3373 - val_loss: 362.6835\n",
      "Epoch 35/100\n",
      "5/5 [==============================] - 0s 67ms/step - loss: 282.5400 - val_loss: 339.2649\n",
      "Epoch 36/100\n",
      "5/5 [==============================] - 0s 51ms/step - loss: 243.1325 - val_loss: 240.7142\n",
      "Epoch 37/100\n",
      "5/5 [==============================] - 0s 65ms/step - loss: 260.1140 - val_loss: 363.1393\n",
      "Epoch 38/100\n",
      "5/5 [==============================] - 0s 62ms/step - loss: 263.1293 - val_loss: 275.6591\n",
      "Epoch 39/100\n",
      "5/5 [==============================] - 0s 64ms/step - loss: 219.9605 - val_loss: 324.5156\n",
      "Epoch 40/100\n",
      "5/5 [==============================] - 0s 55ms/step - loss: 196.9141 - val_loss: 357.6550\n",
      "Epoch 41/100\n",
      "5/5 [==============================] - 0s 44ms/step - loss: 195.5588 - val_loss: 253.5123\n",
      "Epoch 42/100\n",
      "5/5 [==============================] - 0s 52ms/step - loss: 196.7934 - val_loss: 483.3541\n",
      "Epoch 43/100\n",
      "5/5 [==============================] - 0s 55ms/step - loss: 204.7879 - val_loss: 271.0262\n",
      "Epoch 44/100\n",
      "5/5 [==============================] - 0s 45ms/step - loss: 228.2948 - val_loss: 349.8830\n",
      "Epoch 45/100\n",
      "5/5 [==============================] - 0s 54ms/step - loss: 228.6758 - val_loss: 446.2138\n",
      "Epoch 46/100\n",
      "5/5 [==============================] - 0s 52ms/step - loss: 259.8018 - val_loss: 314.4597\n",
      "Epoch 47/100\n",
      "5/5 [==============================] - 0s 45ms/step - loss: 242.8045 - val_loss: 183.9793\n",
      "Epoch 48/100\n",
      "5/5 [==============================] - 0s 36ms/step - loss: 342.8161 - val_loss: 727.4536\n",
      "Epoch 49/100\n",
      "5/5 [==============================] - 0s 51ms/step - loss: 391.6848 - val_loss: 293.0037\n",
      "Epoch 50/100\n",
      "5/5 [==============================] - 0s 64ms/step - loss: 306.8553 - val_loss: 696.2947\n",
      "Epoch 51/100\n",
      "5/5 [==============================] - 0s 71ms/step - loss: 278.2562 - val_loss: 279.3878\n",
      "Epoch 52/100\n",
      "5/5 [==============================] - 0s 58ms/step - loss: 190.1325 - val_loss: 330.6058\n",
      "Epoch 53/100\n",
      "5/5 [==============================] - 0s 51ms/step - loss: 224.2932 - val_loss: 535.9218\n",
      "Epoch 54/100\n",
      "5/5 [==============================] - 0s 42ms/step - loss: 270.6468 - val_loss: 160.2874\n",
      "Epoch 55/100\n",
      "5/5 [==============================] - 0s 41ms/step - loss: 245.6963 - val_loss: 470.4592\n",
      "Epoch 56/100\n",
      "5/5 [==============================] - 0s 42ms/step - loss: 205.0550 - val_loss: 279.2856\n",
      "Epoch 57/100\n",
      "5/5 [==============================] - 0s 64ms/step - loss: 192.5024 - val_loss: 282.0864\n",
      "Epoch 58/100\n",
      "5/5 [==============================] - 0s 42ms/step - loss: 196.3062 - val_loss: 305.8116\n",
      "Epoch 59/100\n",
      "5/5 [==============================] - 0s 64ms/step - loss: 220.1646 - val_loss: 440.7775\n",
      "Epoch 60/100\n",
      "5/5 [==============================] - ETA: 0s - loss: 200.703 - 0s 50ms/step - loss: 275.1331 - val_loss: 348.7410\n",
      "Epoch 61/100\n",
      "5/5 [==============================] - 0s 65ms/step - loss: 229.0850 - val_loss: 246.6436\n",
      "Epoch 62/100\n",
      "5/5 [==============================] - 0s 50ms/step - loss: 199.0718 - val_loss: 383.1319\n",
      "Epoch 63/100\n",
      "5/5 [==============================] - 0s 52ms/step - loss: 192.3433 - val_loss: 310.4943\n",
      "Epoch 64/100\n",
      "5/5 [==============================] - 0s 46ms/step - loss: 195.4485 - val_loss: 281.5076\n",
      "Epoch 65/100\n",
      "5/5 [==============================] - 0s 62ms/step - loss: 186.6295 - val_loss: 302.2402\n",
      "Epoch 66/100\n",
      "5/5 [==============================] - 0s 51ms/step - loss: 181.3715 - val_loss: 350.1267\n",
      "Epoch 67/100\n",
      "5/5 [==============================] - 0s 47ms/step - loss: 186.2177 - val_loss: 277.7799\n",
      "Epoch 68/100\n",
      "5/5 [==============================] - 0s 44ms/step - loss: 194.5234 - val_loss: 387.6194\n",
      "Epoch 69/100\n",
      "5/5 [==============================] - 0s 35ms/step - loss: 184.0736 - val_loss: 330.1876\n",
      "Epoch 70/100\n",
      "5/5 [==============================] - 0s 40ms/step - loss: 191.2819 - val_loss: 378.2831\n",
      "Epoch 71/100\n",
      "5/5 [==============================] - 0s 61ms/step - loss: 197.3199 - val_loss: 268.8675\n",
      "Epoch 72/100\n",
      "5/5 [==============================] - 0s 58ms/step - loss: 184.6472 - val_loss: 371.8810\n",
      "Epoch 73/100\n",
      "5/5 [==============================] - 0s 54ms/step - loss: 189.7792 - val_loss: 312.0928\n",
      "Epoch 74/100\n",
      "5/5 [==============================] - 0s 55ms/step - loss: 215.9449 - val_loss: 288.3813\n",
      "Epoch 75/100\n",
      "5/5 [==============================] - 0s 56ms/step - loss: 214.8709 - val_loss: 420.1992\n",
      "Epoch 76/100\n",
      "5/5 [==============================] - 0s 65ms/step - loss: 217.7166 - val_loss: 350.8167\n",
      "Epoch 77/100\n",
      "5/5 [==============================] - 0s 48ms/step - loss: 266.6057 - val_loss: 204.8372\n",
      "Epoch 78/100\n",
      "5/5 [==============================] - 0s 52ms/step - loss: 245.0904 - val_loss: 393.3808\n",
      "Epoch 79/100\n",
      "5/5 [==============================] - 0s 51ms/step - loss: 198.6341 - val_loss: 308.5417\n",
      "Epoch 80/100\n"
     ]
    },
    {
     "name": "stdout",
     "output_type": "stream",
     "text": [
      "5/5 [==============================] - 0s 51ms/step - loss: 196.5634 - val_loss: 340.5498\n",
      "Epoch 81/100\n",
      "5/5 [==============================] - 0s 46ms/step - loss: 184.9113 - val_loss: 275.9986\n",
      "Epoch 82/100\n",
      "5/5 [==============================] - 0s 69ms/step - loss: 207.0200 - val_loss: 252.2906\n",
      "Epoch 83/100\n",
      "5/5 [==============================] - 0s 53ms/step - loss: 208.9666 - val_loss: 312.7246\n",
      "Epoch 84/100\n",
      "5/5 [==============================] - 0s 67ms/step - loss: 204.4477 - val_loss: 411.6788\n",
      "Epoch 85/100\n",
      "5/5 [==============================] - 0s 56ms/step - loss: 202.3067 - val_loss: 380.9145\n",
      "Epoch 86/100\n",
      "5/5 [==============================] - 0s 50ms/step - loss: 189.0857 - val_loss: 266.3231\n",
      "Epoch 87/100\n",
      "5/5 [==============================] - 0s 55ms/step - loss: 194.3931 - val_loss: 316.8395\n",
      "Epoch 88/100\n",
      "5/5 [==============================] - 0s 58ms/step - loss: 222.2655 - val_loss: 383.9752\n",
      "Epoch 89/100\n",
      "5/5 [==============================] - 0s 40ms/step - loss: 219.9595 - val_loss: 380.4454\n",
      "Epoch 90/100\n",
      "5/5 [==============================] - 0s 46ms/step - loss: 208.2494 - val_loss: 288.6235\n",
      "Epoch 91/100\n",
      "5/5 [==============================] - 0s 46ms/step - loss: 205.1825 - val_loss: 236.0759\n",
      "Epoch 92/100\n",
      "5/5 [==============================] - 0s 40ms/step - loss: 220.0236 - val_loss: 443.8093\n",
      "Epoch 93/100\n",
      "5/5 [==============================] - 0s 50ms/step - loss: 203.0191 - val_loss: 318.3275\n",
      "Epoch 94/100\n",
      "5/5 [==============================] - 0s 61ms/step - loss: 194.3444 - val_loss: 319.9807\n",
      "Epoch 95/100\n",
      "5/5 [==============================] - 0s 70ms/step - loss: 186.2377 - val_loss: 333.7335\n",
      "Epoch 96/100\n",
      "5/5 [==============================] - 0s 54ms/step - loss: 185.5558 - val_loss: 277.2189\n",
      "Epoch 97/100\n",
      "5/5 [==============================] - 0s 37ms/step - loss: 225.7447 - val_loss: 276.9832\n",
      "Epoch 98/100\n",
      "5/5 [==============================] - 0s 50ms/step - loss: 194.9246 - val_loss: 319.3444\n",
      "Epoch 99/100\n",
      "5/5 [==============================] - 0s 54ms/step - loss: 217.5930 - val_loss: 473.1340\n",
      "Epoch 100/100\n",
      "5/5 [==============================] - 0s 57ms/step - loss: 199.8512 - val_loss: 312.7337\n"
     ]
    }
   ],
   "source": [
    "history = model.fit(X_train, y_train, epochs=100,\n",
    "                    validation_data=(X_valid, y_valid))"
   ]
  },
  {
   "cell_type": "markdown",
   "id": "2dadfc6d",
   "metadata": {},
   "source": [
    "Plot the result"
   ]
  },
  {
   "cell_type": "code",
   "execution_count": 8,
   "id": "9905267f",
   "metadata": {},
   "outputs": [
    {
     "data": {
      "image/png": "[encoded data removed]",
      "text/plain": [
       "<Figure size 432x288 with 1 Axes>"
      ]
     },
     "metadata": {
      "needs_background": "light"
     },
     "output_type": "display_data"
    }
   ],
   "source": [
    "X_new = np.linspace(-5, 5, 100).reshape(100, 1)\n",
    "y_new = model.predict(X_new)\n",
    "#\n",
    "plt.plot(X_train, y_train, \"b.\")\n",
    "plt.plot(X_new, y_new, \"r-\", linewidth=2, label=\"Predictions\")\n",
    "plt.xlabel(\"$x_1$\", fontsize=18)\n",
    "plt.ylabel(\"$y$\", rotation=0, fontsize=18)\n",
    "plt.legend(loc=\"upper left\", fontsize=14)\n",
    "# plt.axis([-3, 3, 0, 10])\n",
    "plt.show()"
   ]
  },
  {
   "cell_type": "code",
   "execution_count": 9,
   "id": "1ae3ebf9",
   "metadata": {},
   "outputs": [
    {
     "data": {
      "image/png": "[encoded data removed]",
      "text/plain": [
       "<Figure size 576x360 with 1 Axes>"
      ]
     },
     "metadata": {
      "needs_background": "light"
     },
     "output_type": "display_data"
    }
   ],
   "source": [
    "import pandas as pd\n",
    "\n",
    "pd.DataFrame(history.history).plot(figsize=(8, 5))\n",
    "plt.grid(True)\n",
    "# plt.gca().set_ylim(0, 1)\n",
    "plt.show()"
   ]
  },
  {
   "cell_type": "markdown",
   "id": "3bf03e77",
   "metadata": {},
   "source": [
    "# Simulated CNN Feature Map (1-D, grids)"
   ]
  },
  {
   "cell_type": "code",
   "execution_count": 10,
   "id": "4587fbf1",
   "metadata": {},
   "outputs": [],
   "source": [
    "class num2grid(keras.layers.Layer):\n",
    "    def __init__(self, units, x_min=-10, x_max=10, sigma=1.0, activation=None, **kwargs):\n",
    "        super().__init__(**kwargs)\n",
    "        self.units = units\n",
    "        self.x_min = x_min\n",
    "        self.x_max = x_max\n",
    "        self.sigma = sigma\n",
    "        self.sigma2 = self.sigma**2\n",
    "        self.activation = keras.activations.get(activation)\n",
    "        \n",
    "    def build(self, batch_input_shape):\n",
    "        #\n",
    "        self.x_grid = np.linspace(self.x_min, self.x_max, self.units, endpoint=True)\n",
    "        #\n",
    "        super().build(batch_input_shape) # must be at the end\n",
    "        \n",
    "    def call(self, X):\n",
    "        gauss_grid = tf.exp( -(self.x_grid - X)**2 / (2.0*self.sigma2) )\n",
    "        return self.activation(gauss_grid)\n",
    "    \n",
    "    def compute_output_shape(self, batch_input_shape):\n",
    "        return tf.TensorShape(batch_input_shape.as_list()[:-1] + [self.units])\n",
    "    \n",
    "    def get_config(self):\n",
    "        base_config = super().get_config()\n",
    "        return {**base_config, \n",
    "                \"units\": self.units,\n",
    "                \"x_min\": self.x_min,\n",
    "                \"x_max\": self.x_max,\n",
    "                \"sigma\": self.sigma,\n",
    "                \"activation\": keras.activations.serialize(self.activation)}"
   ]
  },
  {
   "cell_type": "code",
   "execution_count": 11,
   "id": "e45ca25d",
   "metadata": {},
   "outputs": [
    {
     "name": "stderr",
     "output_type": "stream",
     "text": [
      "/home/benson516/ml/my_env/lib/python3.6/site-packages/tensorflow/python/keras/optimizer_v2/optimizer_v2.py:375: UserWarning: The `lr` argument is deprecated, use `learning_rate` instead.\n",
      "  \"The `lr` argument is deprecated, use `learning_rate` instead.\")\n"
     ]
    }
   ],
   "source": [
    "model = keras.models.Sequential([\n",
    "    num2grid(5,x_min=-10, x_max=10, sigma=3.0, input_shape=X_train.shape[1:]),\n",
    "    keras.layers.Dense(30, activation=\"relu\"),\n",
    "#     keras.layers.Dense(30, activation=\"relu\"),\n",
    "    keras.layers.Dense(1)\n",
    "])\n",
    "\n",
    "optimizer = keras.optimizers.SGD(lr=0.001, momentum=0.9)\n",
    "model.compile(loss=\"mean_squared_error\", optimizer=optimizer)"
   ]
  },
  {
   "cell_type": "code",
   "execution_count": 12,
   "id": "d0a447c7",
   "metadata": {
    "scrolled": true
   },
   "outputs": [
    {
     "name": "stdout",
     "output_type": "stream",
     "text": [
      "Epoch 1/100\n",
      "5/5 [==============================] - 1s 122ms/step - loss: 1176.8757 - val_loss: 1642.4459\n",
      "Epoch 2/100\n",
      "5/5 [==============================] - 0s 43ms/step - loss: 1078.4590 - val_loss: 1279.7756\n",
      "Epoch 3/100\n",
      "5/5 [==============================] - 0s 35ms/step - loss: 853.6434 - val_loss: 542.3060\n",
      "Epoch 4/100\n",
      "5/5 [==============================] - 0s 48ms/step - loss: 651.3544 - val_loss: 230.6004\n",
      "Epoch 5/100\n",
      "5/5 [==============================] - 0s 51ms/step - loss: 428.4355 - val_loss: 418.4638\n",
      "Epoch 6/100\n",
      "5/5 [==============================] - 0s 62ms/step - loss: 393.9982 - val_loss: 432.9721\n",
      "Epoch 7/100\n",
      "5/5 [==============================] - 0s 56ms/step - loss: 380.1400 - val_loss: 380.9066\n",
      "Epoch 8/100\n",
      "5/5 [==============================] - 0s 57ms/step - loss: 358.5923 - val_loss: 480.0744\n",
      "Epoch 9/100\n",
      "5/5 [==============================] - 0s 38ms/step - loss: 338.7081 - val_loss: 427.1022\n",
      "Epoch 10/100\n",
      "5/5 [==============================] - 0s 59ms/step - loss: 312.9835 - val_loss: 266.9383\n",
      "Epoch 11/100\n",
      "5/5 [==============================] - 0s 63ms/step - loss: 294.3128 - val_loss: 264.3623\n",
      "Epoch 12/100\n",
      "5/5 [==============================] - 0s 30ms/step - loss: 267.6130 - val_loss: 306.8613\n",
      "Epoch 13/100\n",
      "5/5 [==============================] - 0s 29ms/step - loss: 253.6683 - val_loss: 331.6457\n",
      "Epoch 14/100\n",
      "5/5 [==============================] - 0s 36ms/step - loss: 240.9570 - val_loss: 306.0963\n",
      "Epoch 15/100\n",
      "5/5 [==============================] - 0s 53ms/step - loss: 231.7734 - val_loss: 277.6674\n",
      "Epoch 16/100\n",
      "5/5 [==============================] - 0s 61ms/step - loss: 218.3857 - val_loss: 287.6270\n",
      "Epoch 17/100\n",
      "5/5 [==============================] - 0s 55ms/step - loss: 213.0354 - val_loss: 275.9243\n",
      "Epoch 18/100\n",
      "5/5 [==============================] - 0s 58ms/step - loss: 209.1964 - val_loss: 280.8963\n",
      "Epoch 19/100\n",
      "5/5 [==============================] - 0s 57ms/step - loss: 199.4375 - val_loss: 305.9206\n",
      "Epoch 20/100\n",
      "5/5 [==============================] - 0s 70ms/step - loss: 198.9910 - val_loss: 286.8940\n",
      "Epoch 21/100\n",
      "5/5 [==============================] - 0s 42ms/step - loss: 194.4992 - val_loss: 299.9407\n",
      "Epoch 22/100\n",
      "5/5 [==============================] - 0s 46ms/step - loss: 192.4299 - val_loss: 264.2090\n",
      "Epoch 23/100\n",
      "5/5 [==============================] - 0s 37ms/step - loss: 191.9383 - val_loss: 300.5047\n",
      "Epoch 24/100\n",
      "5/5 [==============================] - 0s 42ms/step - loss: 186.4294 - val_loss: 285.6967\n",
      "Epoch 25/100\n",
      "5/5 [==============================] - 0s 55ms/step - loss: 185.8241 - val_loss: 284.8137\n",
      "Epoch 26/100\n",
      "5/5 [==============================] - 0s 44ms/step - loss: 186.0717 - val_loss: 279.3212\n",
      "Epoch 27/100\n",
      "5/5 [==============================] - 0s 51ms/step - loss: 190.2586 - val_loss: 335.0806\n",
      "Epoch 28/100\n",
      "5/5 [==============================] - 0s 67ms/step - loss: 184.4729 - val_loss: 258.1601\n",
      "Epoch 29/100\n",
      "5/5 [==============================] - 0s 47ms/step - loss: 185.4801 - val_loss: 289.9789\n",
      "Epoch 30/100\n",
      "5/5 [==============================] - 0s 55ms/step - loss: 187.4165 - val_loss: 341.4296\n",
      "Epoch 31/100\n",
      "5/5 [==============================] - 0s 48ms/step - loss: 186.7028 - val_loss: 273.2117\n",
      "Epoch 32/100\n",
      "5/5 [==============================] - 0s 44ms/step - loss: 185.7706 - val_loss: 268.0497\n",
      "Epoch 33/100\n",
      "5/5 [==============================] - 0s 57ms/step - loss: 189.4614 - val_loss: 343.0351\n",
      "Epoch 34/100\n",
      "5/5 [==============================] - 0s 63ms/step - loss: 183.3749 - val_loss: 266.1409\n",
      "Epoch 35/100\n",
      "5/5 [==============================] - 0s 47ms/step - loss: 182.7156 - val_loss: 290.5720\n",
      "Epoch 36/100\n",
      "5/5 [==============================] - ETA: 0s - loss: 208.846 - 0s 47ms/step - loss: 185.2662 - val_loss: 291.7912\n",
      "Epoch 37/100\n",
      "5/5 [==============================] - 0s 46ms/step - loss: 182.2094 - val_loss: 322.6503\n",
      "Epoch 38/100\n",
      "5/5 [==============================] - 0s 54ms/step - loss: 185.6649 - val_loss: 275.2734\n",
      "Epoch 39/100\n",
      "5/5 [==============================] - 0s 57ms/step - loss: 181.4251 - val_loss: 285.6181\n",
      "Epoch 40/100\n",
      "5/5 [==============================] - 0s 47ms/step - loss: 189.1899 - val_loss: 339.8397\n",
      "Epoch 41/100\n",
      "5/5 [==============================] - 0s 38ms/step - loss: 179.4859 - val_loss: 263.6683\n",
      "Epoch 42/100\n",
      "5/5 [==============================] - 0s 41ms/step - loss: 191.2771 - val_loss: 272.1554\n",
      "Epoch 43/100\n",
      "5/5 [==============================] - 0s 35ms/step - loss: 184.7698 - val_loss: 353.4002\n",
      "Epoch 44/100\n",
      "5/5 [==============================] - 0s 49ms/step - loss: 183.6355 - val_loss: 296.3858\n",
      "Epoch 45/100\n",
      "5/5 [==============================] - 0s 40ms/step - loss: 183.1007 - val_loss: 254.9374\n",
      "Epoch 46/100\n",
      "5/5 [==============================] - 0s 31ms/step - loss: 181.2725 - val_loss: 322.8492\n",
      "Epoch 47/100\n",
      "5/5 [==============================] - 0s 35ms/step - loss: 187.9008 - val_loss: 322.5216\n",
      "Epoch 48/100\n",
      "5/5 [==============================] - 0s 32ms/step - loss: 185.7474 - val_loss: 250.7334\n",
      "Epoch 49/100\n",
      "5/5 [==============================] - 0s 29ms/step - loss: 184.1321 - val_loss: 334.7804\n",
      "Epoch 50/100\n",
      "5/5 [==============================] - 0s 37ms/step - loss: 184.9823 - val_loss: 291.5579\n",
      "Epoch 51/100\n",
      "5/5 [==============================] - 0s 37ms/step - loss: 179.8240 - val_loss: 300.6008\n",
      "Epoch 52/100\n",
      "5/5 [==============================] - 0s 38ms/step - loss: 185.5357 - val_loss: 262.0884\n",
      "Epoch 53/100\n",
      "5/5 [==============================] - 0s 42ms/step - loss: 183.4786 - val_loss: 340.9076\n",
      "Epoch 54/100\n",
      "5/5 [==============================] - 0s 51ms/step - loss: 184.4248 - val_loss: 287.4679\n",
      "Epoch 55/100\n",
      "5/5 [==============================] - 0s 41ms/step - loss: 180.4815 - val_loss: 313.5825\n",
      "Epoch 56/100\n",
      "5/5 [==============================] - 0s 47ms/step - loss: 183.1754 - val_loss: 288.4467\n",
      "Epoch 57/100\n",
      "5/5 [==============================] - 0s 34ms/step - loss: 179.7693 - val_loss: 300.4586\n",
      "Epoch 58/100\n",
      "5/5 [==============================] - 0s 44ms/step - loss: 184.2990 - val_loss: 316.6780\n",
      "Epoch 59/100\n",
      "5/5 [==============================] - 0s 39ms/step - loss: 181.0865 - val_loss: 279.1672\n",
      "Epoch 60/100\n",
      "5/5 [==============================] - 0s 34ms/step - loss: 186.3630 - val_loss: 305.6679\n",
      "Epoch 61/100\n",
      "5/5 [==============================] - 0s 37ms/step - loss: 180.0320 - val_loss: 287.2226\n",
      "Epoch 62/100\n",
      "5/5 [==============================] - 0s 46ms/step - loss: 182.1556 - val_loss: 299.8449\n",
      "Epoch 63/100\n",
      "5/5 [==============================] - 0s 55ms/step - loss: 181.2935 - val_loss: 310.1695\n",
      "Epoch 64/100\n",
      "5/5 [==============================] - 0s 49ms/step - loss: 180.6248 - val_loss: 275.6766\n",
      "Epoch 65/100\n",
      "5/5 [==============================] - 0s 49ms/step - loss: 181.3587 - val_loss: 294.7413\n",
      "Epoch 66/100\n",
      "5/5 [==============================] - 0s 47ms/step - loss: 182.1246 - val_loss: 314.7525\n",
      "Epoch 67/100\n",
      "5/5 [==============================] - 0s 44ms/step - loss: 182.6334 - val_loss: 299.3907\n",
      "Epoch 68/100\n",
      "5/5 [==============================] - 0s 41ms/step - loss: 182.9424 - val_loss: 281.7544\n",
      "Epoch 69/100\n",
      "5/5 [==============================] - 0s 51ms/step - loss: 180.1768 - val_loss: 339.1772\n",
      "Epoch 70/100\n",
      "5/5 [==============================] - 0s 38ms/step - loss: 181.9165 - val_loss: 297.8292\n",
      "Epoch 71/100\n",
      "5/5 [==============================] - 0s 44ms/step - loss: 182.2825 - val_loss: 267.8798\n",
      "Epoch 72/100\n",
      "5/5 [==============================] - 0s 38ms/step - loss: 178.9395 - val_loss: 323.5609\n",
      "Epoch 73/100\n",
      "5/5 [==============================] - 0s 30ms/step - loss: 181.9477 - val_loss: 304.3761\n",
      "Epoch 74/100\n",
      "5/5 [==============================] - 0s 34ms/step - loss: 179.4907 - val_loss: 316.5190\n",
      "Epoch 75/100\n",
      "5/5 [==============================] - 0s 35ms/step - loss: 181.6195 - val_loss: 285.2874\n",
      "Epoch 76/100\n",
      "5/5 [==============================] - 0s 29ms/step - loss: 180.4007 - val_loss: 288.7222\n",
      "Epoch 77/100\n",
      "5/5 [==============================] - 0s 29ms/step - loss: 181.6958 - val_loss: 313.8702\n",
      "Epoch 78/100\n",
      "5/5 [==============================] - 0s 28ms/step - loss: 181.2876 - val_loss: 294.4899\n",
      "Epoch 79/100\n",
      "5/5 [==============================] - 0s 45ms/step - loss: 181.6205 - val_loss: 304.9501\n",
      "Epoch 80/100\n"
     ]
    },
    {
     "name": "stdout",
     "output_type": "stream",
     "text": [
      "5/5 [==============================] - 0s 39ms/step - loss: 181.7064 - val_loss: 313.6311\n",
      "Epoch 81/100\n",
      "5/5 [==============================] - 0s 53ms/step - loss: 181.4322 - val_loss: 276.3868\n",
      "Epoch 82/100\n",
      "5/5 [==============================] - 0s 39ms/step - loss: 184.7879 - val_loss: 310.2456\n",
      "Epoch 83/100\n",
      "5/5 [==============================] - 0s 39ms/step - loss: 179.3032 - val_loss: 308.1998\n",
      "Epoch 84/100\n",
      "5/5 [==============================] - 0s 51ms/step - loss: 188.1300 - val_loss: 284.2628\n",
      "Epoch 85/100\n",
      "5/5 [==============================] - 0s 63ms/step - loss: 185.9594 - val_loss: 338.0696\n",
      "Epoch 86/100\n",
      "5/5 [==============================] - 0s 46ms/step - loss: 185.3436 - val_loss: 269.9923\n",
      "Epoch 87/100\n",
      "5/5 [==============================] - 0s 45ms/step - loss: 188.3352 - val_loss: 333.0992\n",
      "Epoch 88/100\n",
      "5/5 [==============================] - 0s 45ms/step - loss: 180.2603 - val_loss: 262.0948\n",
      "Epoch 89/100\n",
      "5/5 [==============================] - 0s 62ms/step - loss: 180.7613 - val_loss: 300.8847\n",
      "Epoch 90/100\n",
      "5/5 [==============================] - 0s 55ms/step - loss: 179.7299 - val_loss: 312.4938\n",
      "Epoch 91/100\n",
      "5/5 [==============================] - 0s 62ms/step - loss: 180.6354 - val_loss: 308.4838\n",
      "Epoch 92/100\n",
      "5/5 [==============================] - 0s 61ms/step - loss: 182.1099 - val_loss: 256.5372\n",
      "Epoch 93/100\n",
      "5/5 [==============================] - 0s 64ms/step - loss: 182.1113 - val_loss: 315.3484\n",
      "Epoch 94/100\n",
      "5/5 [==============================] - 0s 45ms/step - loss: 180.1083 - val_loss: 305.2507\n",
      "Epoch 95/100\n",
      "5/5 [==============================] - 0s 54ms/step - loss: 183.2374 - val_loss: 252.3199\n",
      "Epoch 96/100\n",
      "5/5 [==============================] - ETA: 0s - loss: 204.009 - 0s 48ms/step - loss: 185.0098 - val_loss: 335.6284\n",
      "Epoch 97/100\n",
      "5/5 [==============================] - 0s 63ms/step - loss: 180.8178 - val_loss: 324.2010\n",
      "Epoch 98/100\n",
      "5/5 [==============================] - 0s 38ms/step - loss: 183.5557 - val_loss: 260.1048\n",
      "Epoch 99/100\n",
      "5/5 [==============================] - 0s 48ms/step - loss: 184.1098 - val_loss: 327.9424\n",
      "Epoch 100/100\n",
      "5/5 [==============================] - 0s 59ms/step - loss: 183.0730 - val_loss: 307.7853\n"
     ]
    }
   ],
   "source": [
    "history = model.fit(X_train, y_train, epochs=100,\n",
    "                    validation_data=(X_valid, y_valid))"
   ]
  },
  {
   "cell_type": "code",
   "execution_count": 13,
   "id": "40e6011f",
   "metadata": {},
   "outputs": [
    {
     "data": {
      "image/png": "[encoded data removed]",
      "text/plain": [
       "<Figure size 432x288 with 1 Axes>"
      ]
     },
     "metadata": {
      "needs_background": "light"
     },
     "output_type": "display_data"
    }
   ],
   "source": [
    "X_new = np.linspace(-5, 5, 100).reshape(100, 1)\n",
    "y_new = model.predict(X_new)\n",
    "#\n",
    "plt.plot(X_train, y_train, \"b.\")\n",
    "plt.plot(X_new, y_new, \"r-\", linewidth=2, label=\"Predictions\")\n",
    "plt.xlabel(\"$x_1$\", fontsize=18)\n",
    "plt.ylabel(\"$y$\", rotation=0, fontsize=18)\n",
    "plt.legend(loc=\"upper left\", fontsize=14)\n",
    "# plt.axis([-3, 3, 0, 10])\n",
    "plt.show()"
   ]
  },
  {
   "cell_type": "code",
   "execution_count": 14,
   "id": "18683806",
   "metadata": {},
   "outputs": [
    {
     "data": {
      "image/png": "[encoded data removed]",
      "text/plain": [
       "<Figure size 576x360 with 1 Axes>"
      ]
     },
     "metadata": {
      "needs_background": "light"
     },
     "output_type": "display_data"
    }
   ],
   "source": [
    "import pandas as pd\n",
    "\n",
    "pd.DataFrame(history.history).plot(figsize=(8, 5))\n",
    "plt.grid(True)\n",
    "# plt.gca().set_ylim(0, 1)\n",
    "plt.show()"
   ]
  },
  {
   "cell_type": "code",
   "execution_count": null,
   "id": "a84183fb",
   "metadata": {},
   "outputs": [],
   "source": []
  },
  {
   "cell_type": "code",
   "execution_count": null,
   "id": "0529f806",
   "metadata": {},
   "outputs": [],
   "source": []
  },
  {
   "cell_type": "code",
   "execution_count": null,
   "id": "aaf65a45",
   "metadata": {},
   "outputs": [],
   "source": []
  },
  {
   "cell_type": "code",
   "execution_count": null,
   "id": "be066b6a",
   "metadata": {},
   "outputs": [],
   "source": []
  },
  {
   "cell_type": "code",
   "execution_count": null,
   "id": "8bf36eed",
   "metadata": {},
   "outputs": [],
   "source": []
  },
  {
   "cell_type": "code",
   "execution_count": null,
   "id": "140b451b",
   "metadata": {},
   "outputs": [],
   "source": []
  },
  {
   "cell_type": "code",
   "execution_count": null,
   "id": "55083146",
   "metadata": {},
   "outputs": [],
   "source": []
  }
 ],
 "metadata": {
  "kernelspec": {
   "display_name": "Python 3",
   "language": "python",
   "name": "python3"
  },
  "language_info": {
   "codemirror_mode": {
    "name": "ipython",
    "version": 3
   },
   "file_extension": ".py",
   "mimetype": "text/x-python",
   "name": "python",
   "nbconvert_exporter": "python",
   "pygments_lexer": "ipython3",
   "version": "3.6.9"
  }
 },
 "nbformat": 4,
 "nbformat_minor": 5
}
