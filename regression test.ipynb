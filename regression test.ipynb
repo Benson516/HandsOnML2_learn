{
 "cells": [
  {
   "cell_type": "code",
   "execution_count": 1,
   "id": "3e11079b",
   "metadata": {},
   "outputs": [],
   "source": [
    "import numpy as np\n",
    "import tensorflow as tf\n",
    "from tensorflow import keras\n",
    "\n",
    "# To plot pretty figures\n",
    "%matplotlib inline\n",
    "import matplotlib as mpl\n",
    "import matplotlib.pyplot as plt\n",
    "mpl.rc('axes', labelsize=14)\n",
    "mpl.rc('xtick', labelsize=12)\n",
    "mpl.rc('ytick', labelsize=12)"
   ]
  },
  {
   "cell_type": "markdown",
   "id": "02a8a837",
   "metadata": {},
   "source": [
    "Generate polynomial data"
   ]
  },
  {
   "cell_type": "code",
   "execution_count": 140,
   "id": "92a46a68",
   "metadata": {},
   "outputs": [
    {
     "name": "stdout",
     "output_type": "stream",
     "text": [
      "(m, m_train) = (200, 160)\n",
      "y_data_pure.shape = (200, 1)\n",
      "y_data.shape = (200, 1)\n"
     ]
    }
   ],
   "source": [
    "np.random.seed(42)\n",
    "m = 200\n",
    "m_train = m // 5 * 4\n",
    "print(\"(m, m_train) = (%d, %d)\" % (m, m_train))\n",
    "# Input\n",
    "X_data = 10 * np.random.rand(m, 1) - 5 # Note: X is randomly sampled, so we don't need to shuffle the data again\n",
    "\n",
    "# Output\n",
    "is_multiout = True\n",
    "# is_multiout = False\n",
    "if is_multiout:\n",
    "    m_h = m // 2\n",
    "    X_data_1 = X_data[:m_h]\n",
    "    X_data_2 = X_data[m_h:]\n",
    "    y_data_pure_1 = 0.5 * X_data_1**3 + 0.5 * X_data_1**2 + X_data_1 + 2 \n",
    "#     y_data_pure_2 = 0.5 * X_data_2**3 + 0.5 * X_data_2**2 + X_data_2 + 30 \n",
    "#     y_data_pure_2 = -0.5 * X_data_2**3 + 0.5 * X_data_2**2 + X_data_2 + 30 \n",
    "    y_data_pure_2 = 0.3 * X_data_2**3 + 1.0 * X_data_2**2 + X_data_2 + 15 \n",
    "    y_data_pure = np.vstack([y_data_pure_1, y_data_pure_2])\n",
    "    print(\"y_data_pure.shape = %s\" % str(y_data_pure.shape))\n",
    "else:        \n",
    "    y_data_pure = 0.5 * X_data**3 + 0.5 * X_data**2 + X_data + 2 \n",
    "\n",
    "# Label (+noise)\n",
    "n_stddev = 2.0\n",
    "# n_stddev = 10.0\n",
    "y_data = y_data_pure + np.random.randn(m, 1) * n_stddev\n",
    "print(\"y_data.shape = %s\" % str(y_data.shape))"
   ]
  },
  {
   "cell_type": "code",
   "execution_count": 141,
   "id": "530a53ed",
   "metadata": {},
   "outputs": [],
   "source": [
    "X_train = X_data[:m_train]\n",
    "y_train = y_data[:m_train]\n",
    "X_valid = X_data[m_train:]\n",
    "y_valid = y_data[m_train:]"
   ]
  },
  {
   "cell_type": "code",
   "execution_count": 142,
   "id": "a788a193",
   "metadata": {},
   "outputs": [
    {
     "name": "stdout",
     "output_type": "stream",
     "text": [
      "(160, 1)\n"
     ]
    }
   ],
   "source": [
    "print(X_train.shape)"
   ]
  },
  {
   "cell_type": "code",
   "execution_count": 143,
   "id": "0171b31f",
   "metadata": {},
   "outputs": [
    {
     "data": {
      "image/png": "[encoded data removed]",
      "text/plain": [
       "<Figure size 432x288 with 1 Axes>"
      ]
     },
     "metadata": {
      "needs_background": "light"
     },
     "output_type": "display_data"
    }
   ],
   "source": [
    "plt.plot(X_train, y_train, \"b.\")\n",
    "plt.xlabel(\"$x_1$\", fontsize=18)\n",
    "plt.ylabel(\"$y$\", rotation=0, fontsize=18)\n",
    "# plt.axis([-3, 3, 0, 10])\n",
    "plt.show()"
   ]
  },
  {
   "cell_type": "markdown",
   "id": "d0e9ae98",
   "metadata": {},
   "source": [
    "Build the regression model"
   ]
  },
  {
   "cell_type": "code",
   "execution_count": 144,
   "id": "4f06e84e",
   "metadata": {},
   "outputs": [
    {
     "name": "stderr",
     "output_type": "stream",
     "text": [
      "/home/benson516/ml/my_env/lib/python3.6/site-packages/tensorflow/python/keras/optimizer_v2/optimizer_v2.py:375: UserWarning: The `lr` argument is deprecated, use `learning_rate` instead.\n",
      "  \"The `lr` argument is deprecated, use `learning_rate` instead.\")\n"
     ]
    }
   ],
   "source": [
    "model = keras.models.Sequential([\n",
    "    keras.layers.Dense(30, activation=\"relu\", input_shape=X_train.shape[1:]),\n",
    "    keras.layers.Dense(30, activation=\"relu\"),\n",
    "    keras.layers.Dense(1)\n",
    "])\n",
    "\n",
    "optimizer = keras.optimizers.SGD(lr=0.001, momentum=0.9)\n",
    "model.compile(loss=\"mean_squared_error\", optimizer=optimizer)"
   ]
  },
  {
   "cell_type": "code",
   "execution_count": 7,
   "id": "ce2d9dd2",
   "metadata": {
    "scrolled": true
   },
   "outputs": [
    {
     "name": "stdout",
     "output_type": "stream",
     "text": [
      "Epoch 1/100\n",
      "5/5 [==============================] - 1s 109ms/step - loss: 1060.0938 - val_loss: 833.0353\n",
      "Epoch 2/100\n",
      "5/5 [==============================] - 0s 29ms/step - loss: 612.3378 - val_loss: 1668.2145\n",
      "Epoch 3/100\n",
      "5/5 [==============================] - 0s 34ms/step - loss: 1099.5511 - val_loss: 1800.4291\n",
      "Epoch 4/100\n",
      "5/5 [==============================] - 0s 33ms/step - loss: 1064.6842 - val_loss: 1532.9114\n",
      "Epoch 5/100\n",
      "5/5 [==============================] - 0s 32ms/step - loss: 811.0681 - val_loss: 268.2087\n",
      "Epoch 6/100\n",
      "5/5 [==============================] - 0s 45ms/step - loss: 554.3594 - val_loss: 1053.1094\n",
      "Epoch 7/100\n",
      "5/5 [==============================] - 0s 53ms/step - loss: 488.8792 - val_loss: 147.2755\n",
      "Epoch 8/100\n",
      "5/5 [==============================] - 0s 56ms/step - loss: 416.5842 - val_loss: 255.1042\n",
      "Epoch 9/100\n",
      "5/5 [==============================] - 0s 44ms/step - loss: 356.0155 - val_loss: 679.4897\n",
      "Epoch 10/100\n",
      "5/5 [==============================] - 0s 39ms/step - loss: 392.3721 - val_loss: 157.7996\n",
      "Epoch 11/100\n",
      "5/5 [==============================] - 0s 30ms/step - loss: 327.9164 - val_loss: 449.8956\n",
      "Epoch 12/100\n",
      "5/5 [==============================] - 0s 33ms/step - loss: 267.4308 - val_loss: 234.6243\n",
      "Epoch 13/100\n",
      "5/5 [==============================] - 0s 61ms/step - loss: 244.9290 - val_loss: 146.3263\n",
      "Epoch 14/100\n",
      "5/5 [==============================] - 0s 46ms/step - loss: 332.3400 - val_loss: 701.4940\n",
      "Epoch 15/100\n",
      "5/5 [==============================] - 0s 34ms/step - loss: 345.7023 - val_loss: 498.0163\n",
      "Epoch 16/100\n",
      "5/5 [==============================] - 0s 35ms/step - loss: 245.8040 - val_loss: 176.3520\n",
      "Epoch 17/100\n",
      "5/5 [==============================] - 0s 42ms/step - loss: 226.3079 - val_loss: 435.3547\n",
      "Epoch 18/100\n",
      "5/5 [==============================] - 0s 26ms/step - loss: 255.6014 - val_loss: 622.8656\n",
      "Epoch 19/100\n",
      "5/5 [==============================] - 0s 27ms/step - loss: 297.6617 - val_loss: 182.2152\n",
      "Epoch 20/100\n",
      "5/5 [==============================] - 0s 45ms/step - loss: 249.2966 - val_loss: 422.2008\n",
      "Epoch 21/100\n",
      "5/5 [==============================] - 0s 39ms/step - loss: 213.3503 - val_loss: 248.1596\n",
      "Epoch 22/100\n",
      "5/5 [==============================] - 0s 43ms/step - loss: 226.6657 - val_loss: 333.0095\n",
      "Epoch 23/100\n",
      "5/5 [==============================] - ETA: 0s - loss: 268.541 - 0s 50ms/step - loss: 260.4741 - val_loss: 745.0735\n",
      "Epoch 24/100\n",
      "5/5 [==============================] - 0s 56ms/step - loss: 290.1618 - val_loss: 421.6537\n",
      "Epoch 25/100\n",
      "5/5 [==============================] - 0s 61ms/step - loss: 275.5936 - val_loss: 308.1413\n",
      "Epoch 26/100\n",
      "5/5 [==============================] - 0s 53ms/step - loss: 231.7917 - val_loss: 207.6643\n",
      "Epoch 27/100\n",
      "5/5 [==============================] - 0s 53ms/step - loss: 250.3481 - val_loss: 785.4274\n",
      "Epoch 28/100\n",
      "5/5 [==============================] - 0s 55ms/step - loss: 308.2956 - val_loss: 268.0986\n",
      "Epoch 29/100\n",
      "5/5 [==============================] - 0s 42ms/step - loss: 297.2116 - val_loss: 333.7667\n",
      "Epoch 30/100\n",
      "5/5 [==============================] - 0s 42ms/step - loss: 270.6993 - val_loss: 602.6820\n",
      "Epoch 31/100\n",
      "5/5 [==============================] - 0s 46ms/step - loss: 341.5242 - val_loss: 310.8039\n",
      "Epoch 32/100\n",
      "5/5 [==============================] - 0s 58ms/step - loss: 276.0206 - val_loss: 484.2265\n",
      "Epoch 33/100\n",
      "5/5 [==============================] - 0s 50ms/step - loss: 254.3398 - val_loss: 368.6696\n",
      "Epoch 34/100\n",
      "5/5 [==============================] - 0s 47ms/step - loss: 235.7847 - val_loss: 217.6935\n",
      "Epoch 35/100\n",
      "5/5 [==============================] - 0s 43ms/step - loss: 208.5302 - val_loss: 421.4927\n",
      "Epoch 36/100\n",
      "5/5 [==============================] - 0s 38ms/step - loss: 224.1770 - val_loss: 236.8684\n",
      "Epoch 37/100\n",
      "5/5 [==============================] - 0s 50ms/step - loss: 238.8747 - val_loss: 303.4415\n",
      "Epoch 38/100\n",
      "5/5 [==============================] - 0s 49ms/step - loss: 260.5370 - val_loss: 294.5784\n",
      "Epoch 39/100\n",
      "5/5 [==============================] - 0s 44ms/step - loss: 237.4603 - val_loss: 452.3930\n",
      "Epoch 40/100\n",
      "5/5 [==============================] - 0s 48ms/step - loss: 205.5551 - val_loss: 287.3792\n",
      "Epoch 41/100\n",
      "5/5 [==============================] - 0s 50ms/step - loss: 189.0234 - val_loss: 383.8035\n",
      "Epoch 42/100\n",
      "5/5 [==============================] - 0s 43ms/step - loss: 303.4963 - val_loss: 838.5282\n",
      "Epoch 43/100\n",
      "5/5 [==============================] - 0s 54ms/step - loss: 386.7579 - val_loss: 201.4931\n",
      "Epoch 44/100\n",
      "5/5 [==============================] - 0s 61ms/step - loss: 275.8087 - val_loss: 449.6892\n",
      "Epoch 45/100\n",
      "5/5 [==============================] - 0s 54ms/step - loss: 241.8598 - val_loss: 259.3509\n",
      "Epoch 46/100\n",
      "5/5 [==============================] - 0s 45ms/step - loss: 233.4213 - val_loss: 332.7367\n",
      "Epoch 47/100\n",
      "5/5 [==============================] - 0s 58ms/step - loss: 231.2503 - val_loss: 256.7377\n",
      "Epoch 48/100\n",
      "5/5 [==============================] - 0s 55ms/step - loss: 224.6436 - val_loss: 418.2625\n",
      "Epoch 49/100\n",
      "5/5 [==============================] - 0s 62ms/step - loss: 227.6240 - val_loss: 259.9875\n",
      "Epoch 50/100\n",
      "5/5 [==============================] - 0s 63ms/step - loss: 228.6968 - val_loss: 548.0564\n",
      "Epoch 51/100\n",
      "5/5 [==============================] - 0s 55ms/step - loss: 222.5697 - val_loss: 204.8827\n",
      "Epoch 52/100\n",
      "5/5 [==============================] - 0s 56ms/step - loss: 274.5639 - val_loss: 583.1497\n",
      "Epoch 53/100\n",
      "5/5 [==============================] - 0s 50ms/step - loss: 214.3769 - val_loss: 353.6331\n",
      "Epoch 54/100\n",
      "5/5 [==============================] - 0s 53ms/step - loss: 258.8021 - val_loss: 170.7513\n",
      "Epoch 55/100\n",
      "5/5 [==============================] - 0s 58ms/step - loss: 258.7863 - val_loss: 512.1899\n",
      "Epoch 56/100\n",
      "5/5 [==============================] - 0s 55ms/step - loss: 240.6110 - val_loss: 297.0059\n",
      "Epoch 57/100\n",
      "5/5 [==============================] - 0s 55ms/step - loss: 251.8350 - val_loss: 247.7872\n",
      "Epoch 58/100\n",
      "5/5 [==============================] - 0s 53ms/step - loss: 214.4695 - val_loss: 433.1980\n",
      "Epoch 59/100\n",
      "5/5 [==============================] - 0s 64ms/step - loss: 194.1688 - val_loss: 227.5926\n",
      "Epoch 60/100\n",
      "5/5 [==============================] - 0s 37ms/step - loss: 213.6315 - val_loss: 367.3601\n",
      "Epoch 61/100\n",
      "5/5 [==============================] - 0s 52ms/step - loss: 199.4236 - val_loss: 359.2444\n",
      "Epoch 62/100\n",
      "5/5 [==============================] - 0s 35ms/step - loss: 205.7584 - val_loss: 315.0912\n",
      "Epoch 63/100\n",
      "5/5 [==============================] - 0s 42ms/step - loss: 213.6217 - val_loss: 277.6452\n",
      "Epoch 64/100\n",
      "5/5 [==============================] - 0s 45ms/step - loss: 208.0135 - val_loss: 258.3463\n",
      "Epoch 65/100\n",
      "5/5 [==============================] - 0s 39ms/step - loss: 215.9122 - val_loss: 396.7145\n",
      "Epoch 66/100\n",
      "5/5 [==============================] - 0s 54ms/step - loss: 269.2347 - val_loss: 192.2346\n",
      "Epoch 67/100\n",
      "5/5 [==============================] - 0s 53ms/step - loss: 283.5249 - val_loss: 491.9895\n",
      "Epoch 68/100\n",
      "5/5 [==============================] - 0s 44ms/step - loss: 232.9632 - val_loss: 382.2092\n",
      "Epoch 69/100\n",
      "5/5 [==============================] - 0s 63ms/step - loss: 210.5555 - val_loss: 273.4072\n",
      "Epoch 70/100\n",
      "5/5 [==============================] - 0s 56ms/step - loss: 234.7594 - val_loss: 258.3975\n",
      "Epoch 71/100\n",
      "5/5 [==============================] - 0s 55ms/step - loss: 200.9620 - val_loss: 379.0690\n",
      "Epoch 72/100\n",
      "5/5 [==============================] - 0s 66ms/step - loss: 208.0267 - val_loss: 235.9385\n",
      "Epoch 73/100\n",
      "5/5 [==============================] - 0s 53ms/step - loss: 242.0879 - val_loss: 245.0230\n",
      "Epoch 74/100\n",
      "5/5 [==============================] - 0s 58ms/step - loss: 195.3199 - val_loss: 470.0005\n",
      "Epoch 75/100\n",
      "5/5 [==============================] - 0s 60ms/step - loss: 210.9742 - val_loss: 240.2366\n",
      "Epoch 76/100\n",
      "5/5 [==============================] - 0s 53ms/step - loss: 201.7353 - val_loss: 307.1837\n",
      "Epoch 77/100\n",
      "5/5 [==============================] - 0s 60ms/step - loss: 199.3634 - val_loss: 387.2263\n",
      "Epoch 78/100\n",
      "5/5 [==============================] - 0s 61ms/step - loss: 190.7053 - val_loss: 286.7513\n",
      "Epoch 79/100\n",
      "5/5 [==============================] - 0s 47ms/step - loss: 213.6449 - val_loss: 278.9612\n",
      "Epoch 80/100\n"
     ]
    },
    {
     "name": "stdout",
     "output_type": "stream",
     "text": [
      "5/5 [==============================] - 0s 67ms/step - loss: 216.9287 - val_loss: 316.2497\n",
      "Epoch 81/100\n",
      "5/5 [==============================] - 0s 47ms/step - loss: 254.4029 - val_loss: 364.5399\n",
      "Epoch 82/100\n",
      "5/5 [==============================] - 0s 62ms/step - loss: 222.7265 - val_loss: 206.8245\n",
      "Epoch 83/100\n",
      "5/5 [==============================] - 0s 57ms/step - loss: 239.9630 - val_loss: 325.7091\n",
      "Epoch 84/100\n",
      "5/5 [==============================] - 0s 35ms/step - loss: 211.6805 - val_loss: 330.9869\n",
      "Epoch 85/100\n",
      "5/5 [==============================] - 0s 36ms/step - loss: 206.8154 - val_loss: 259.1413\n",
      "Epoch 86/100\n",
      "5/5 [==============================] - 0s 33ms/step - loss: 180.7766 - val_loss: 357.5779\n",
      "Epoch 87/100\n",
      "5/5 [==============================] - 0s 37ms/step - loss: 185.1300 - val_loss: 323.1285\n",
      "Epoch 88/100\n",
      "5/5 [==============================] - 0s 39ms/step - loss: 187.5810 - val_loss: 264.9623\n",
      "Epoch 89/100\n",
      "5/5 [==============================] - 0s 45ms/step - loss: 220.7172 - val_loss: 232.7542\n",
      "Epoch 90/100\n",
      "5/5 [==============================] - 0s 50ms/step - loss: 206.1913 - val_loss: 488.2009\n",
      "Epoch 91/100\n",
      "5/5 [==============================] - 0s 47ms/step - loss: 218.8059 - val_loss: 248.5274\n",
      "Epoch 92/100\n",
      "5/5 [==============================] - 0s 39ms/step - loss: 224.8031 - val_loss: 321.0928\n",
      "Epoch 93/100\n",
      "5/5 [==============================] - 0s 54ms/step - loss: 183.4063 - val_loss: 336.7921\n",
      "Epoch 94/100\n",
      "5/5 [==============================] - 0s 54ms/step - loss: 207.3174 - val_loss: 204.8241\n",
      "Epoch 95/100\n",
      "5/5 [==============================] - 0s 44ms/step - loss: 247.3294 - val_loss: 273.4521\n",
      "Epoch 96/100\n",
      "5/5 [==============================] - 0s 57ms/step - loss: 251.4168 - val_loss: 634.0157\n",
      "Epoch 97/100\n",
      "5/5 [==============================] - 0s 41ms/step - loss: 283.6273 - val_loss: 373.1021\n",
      "Epoch 98/100\n",
      "5/5 [==============================] - 0s 56ms/step - loss: 259.3033 - val_loss: 213.0878\n",
      "Epoch 99/100\n",
      "5/5 [==============================] - 0s 35ms/step - loss: 209.2985 - val_loss: 370.4443\n",
      "Epoch 100/100\n",
      "5/5 [==============================] - 0s 34ms/step - loss: 206.6856 - val_loss: 215.6153\n"
     ]
    }
   ],
   "source": [
    "history = model.fit(X_train, y_train, epochs=100,\n",
    "                    validation_data=(X_valid, y_valid))"
   ]
  },
  {
   "cell_type": "markdown",
   "id": "64717a9f",
   "metadata": {},
   "source": [
    "Plot the result"
   ]
  },
  {
   "cell_type": "code",
   "execution_count": 8,
   "id": "77dfe4a3",
   "metadata": {},
   "outputs": [
    {
     "data": {
      "image/png": "[encoded data removed]",
      "text/plain": [
       "<Figure size 576x360 with 1 Axes>"
      ]
     },
     "metadata": {
      "needs_background": "light"
     },
     "output_type": "display_data"
    }
   ],
   "source": [
    "import pandas as pd\n",
    "\n",
    "pd.DataFrame(history.history).plot(figsize=(8, 5))\n",
    "plt.grid(True)\n",
    "# plt.gca().set_ylim(0, 1)\n",
    "plt.show()"
   ]
  },
  {
   "cell_type": "code",
   "execution_count": 9,
   "id": "ebd11663",
   "metadata": {},
   "outputs": [
    {
     "data": {
      "image/png": "[encoded data removed]",
      "text/plain": [
       "<Figure size 432x288 with 1 Axes>"
      ]
     },
     "metadata": {
      "needs_background": "light"
     },
     "output_type": "display_data"
    }
   ],
   "source": [
    "X_new = np.linspace(-5, 5, 100).reshape(100, 1)\n",
    "y_new = model.predict(X_new)\n",
    "#\n",
    "plt.plot(X_train, y_train, \"b.\")\n",
    "plt.plot(X_new, y_new, \"r-\", linewidth=2, label=\"Predictions\")\n",
    "plt.xlabel(\"$x_1$\", fontsize=18)\n",
    "plt.ylabel(\"$y$\", rotation=0, fontsize=18)\n",
    "plt.legend(loc=\"upper left\", fontsize=14)\n",
    "# plt.axis([-3, 3, 0, 10])\n",
    "plt.show()"
   ]
  },
  {
   "cell_type": "markdown",
   "id": "59606d8c",
   "metadata": {},
   "source": [
    "# Simulated CNN Feature Map (1-D, grids)"
   ]
  },
  {
   "cell_type": "code",
   "execution_count": 10,
   "id": "527b70a7",
   "metadata": {},
   "outputs": [],
   "source": [
    "class num2grid(keras.layers.Layer):\n",
    "    def __init__(self, units, x_min=-10, x_max=10, sigma=1.0, activation=None, **kwargs):\n",
    "        super().__init__(**kwargs)\n",
    "        self.units = units\n",
    "        self.x_min = x_min\n",
    "        self.x_max = x_max\n",
    "        self.sigma = sigma\n",
    "        self.sigma2 = self.sigma**2\n",
    "        self.activation = keras.activations.get(activation)\n",
    "        \n",
    "    def build(self, batch_input_shape):\n",
    "        #\n",
    "        self.x_grid = np.linspace(self.x_min, self.x_max, self.units, endpoint=True)\n",
    "        #\n",
    "        super().build(batch_input_shape) # must be at the end\n",
    "        \n",
    "    def call(self, X):\n",
    "        gauss_grid = tf.exp( -(self.x_grid - X)**2 / (2.0*self.sigma2) )\n",
    "        return self.activation(gauss_grid)\n",
    "    \n",
    "    def compute_output_shape(self, batch_input_shape):\n",
    "        return tf.TensorShape(batch_input_shape.as_list()[:-1] + [self.units])\n",
    "    \n",
    "    def get_config(self):\n",
    "        base_config = super().get_config()\n",
    "        return {**base_config, \n",
    "                \"units\": self.units,\n",
    "                \"x_min\": self.x_min,\n",
    "                \"x_max\": self.x_max,\n",
    "                \"sigma\": self.sigma,\n",
    "                \"activation\": keras.activations.serialize(self.activation)}"
   ]
  },
  {
   "cell_type": "code",
   "execution_count": 11,
   "id": "de1fbba5",
   "metadata": {},
   "outputs": [
    {
     "name": "stderr",
     "output_type": "stream",
     "text": [
      "/home/benson516/ml/my_env/lib/python3.6/site-packages/tensorflow/python/keras/optimizer_v2/optimizer_v2.py:375: UserWarning: The `lr` argument is deprecated, use `learning_rate` instead.\n",
      "  \"The `lr` argument is deprecated, use `learning_rate` instead.\")\n"
     ]
    }
   ],
   "source": [
    "model = keras.models.Sequential([\n",
    "    num2grid(5,x_min=-10, x_max=10, sigma=3.0, input_shape=X_train.shape[1:]),\n",
    "    keras.layers.Dense(30, activation=\"relu\"),\n",
    "#     keras.layers.Dense(30, activation=\"relu\"),\n",
    "    keras.layers.Dense(1)\n",
    "])\n",
    "\n",
    "optimizer = keras.optimizers.SGD(lr=0.001, momentum=0.9)\n",
    "model.compile(loss=\"mean_squared_error\", optimizer=optimizer)"
   ]
  },
  {
   "cell_type": "code",
   "execution_count": 12,
   "id": "60db5112",
   "metadata": {
    "scrolled": true
   },
   "outputs": [
    {
     "name": "stdout",
     "output_type": "stream",
     "text": [
      "Epoch 1/100\n",
      "5/5 [==============================] - 2s 207ms/step - loss: 1178.2595 - val_loss: 1657.8461\n",
      "Epoch 2/100\n",
      "5/5 [==============================] - 0s 50ms/step - loss: 1093.5621 - val_loss: 1318.0886\n",
      "Epoch 3/100\n",
      "5/5 [==============================] - 0s 47ms/step - loss: 866.5936 - val_loss: 577.5809\n",
      "Epoch 4/100\n",
      "5/5 [==============================] - 0s 56ms/step - loss: 669.4662 - val_loss: 212.4181\n",
      "Epoch 5/100\n",
      "5/5 [==============================] - 0s 40ms/step - loss: 472.0339 - val_loss: 458.6400\n",
      "Epoch 6/100\n",
      "5/5 [==============================] - 0s 56ms/step - loss: 382.2962 - val_loss: 337.6870\n",
      "Epoch 7/100\n",
      "5/5 [==============================] - 0s 38ms/step - loss: 383.6345 - val_loss: 349.0635\n",
      "Epoch 8/100\n",
      "5/5 [==============================] - 0s 70ms/step - loss: 363.2987 - val_loss: 571.7318\n",
      "Epoch 9/100\n",
      "5/5 [==============================] - 0s 65ms/step - loss: 348.4828 - val_loss: 420.0390\n",
      "Epoch 10/100\n",
      "5/5 [==============================] - 0s 54ms/step - loss: 316.8996 - val_loss: 333.6018\n",
      "Epoch 11/100\n",
      "5/5 [==============================] - 0s 49ms/step - loss: 300.4123 - val_loss: 332.2807\n",
      "Epoch 12/100\n",
      "5/5 [==============================] - 0s 63ms/step - loss: 280.6913 - val_loss: 375.2358\n",
      "Epoch 13/100\n",
      "5/5 [==============================] - 0s 60ms/step - loss: 259.9693 - val_loss: 331.8878\n",
      "Epoch 14/100\n",
      "5/5 [==============================] - 0s 56ms/step - loss: 242.3751 - val_loss: 305.8453\n",
      "Epoch 15/100\n",
      "5/5 [==============================] - 0s 65ms/step - loss: 228.0022 - val_loss: 318.9661\n",
      "Epoch 16/100\n",
      "5/5 [==============================] - 0s 68ms/step - loss: 221.2191 - val_loss: 270.9713\n",
      "Epoch 17/100\n",
      "5/5 [==============================] - 0s 68ms/step - loss: 213.7497 - val_loss: 297.1794\n",
      "Epoch 18/100\n",
      "5/5 [==============================] - 0s 55ms/step - loss: 207.9207 - val_loss: 281.4936\n",
      "Epoch 19/100\n",
      "5/5 [==============================] - 0s 57ms/step - loss: 201.7700 - val_loss: 282.4500\n",
      "Epoch 20/100\n",
      "5/5 [==============================] - 0s 64ms/step - loss: 197.6363 - val_loss: 292.5771\n",
      "Epoch 21/100\n",
      "5/5 [==============================] - 0s 62ms/step - loss: 196.7997 - val_loss: 316.0295\n",
      "Epoch 22/100\n",
      "5/5 [==============================] - 0s 60ms/step - loss: 195.0723 - val_loss: 250.5702\n",
      "Epoch 23/100\n",
      "5/5 [==============================] - 0s 59ms/step - loss: 192.4549 - val_loss: 317.6423\n",
      "Epoch 24/100\n",
      "5/5 [==============================] - 0s 55ms/step - loss: 193.2494 - val_loss: 291.3105\n",
      "Epoch 25/100\n",
      "5/5 [==============================] - 0s 48ms/step - loss: 186.6055 - val_loss: 251.9173\n",
      "Epoch 26/100\n",
      "5/5 [==============================] - 0s 51ms/step - loss: 186.2537 - val_loss: 301.6755\n",
      "Epoch 27/100\n",
      "5/5 [==============================] - 0s 58ms/step - loss: 184.4756 - val_loss: 308.4385\n",
      "Epoch 28/100\n",
      "5/5 [==============================] - 0s 55ms/step - loss: 186.6877 - val_loss: 330.5490\n",
      "Epoch 29/100\n",
      "5/5 [==============================] - 0s 55ms/step - loss: 183.6943 - val_loss: 277.0517\n",
      "Epoch 30/100\n",
      "5/5 [==============================] - 0s 62ms/step - loss: 185.3011 - val_loss: 308.6915\n",
      "Epoch 31/100\n",
      "5/5 [==============================] - ETA: 0s - loss: 187.296 - 0s 48ms/step - loss: 187.2968 - val_loss: 311.4171\n",
      "Epoch 32/100\n",
      "5/5 [==============================] - 0s 53ms/step - loss: 183.3797 - val_loss: 313.7422\n",
      "Epoch 33/100\n",
      "5/5 [==============================] - 0s 59ms/step - loss: 182.5152 - val_loss: 296.0988\n",
      "Epoch 34/100\n",
      "5/5 [==============================] - 0s 59ms/step - loss: 182.7265 - val_loss: 305.3428\n",
      "Epoch 35/100\n",
      "5/5 [==============================] - 0s 53ms/step - loss: 181.9698 - val_loss: 291.7391\n",
      "Epoch 36/100\n",
      "5/5 [==============================] - 0s 46ms/step - loss: 182.0951 - val_loss: 306.8959\n",
      "Epoch 37/100\n",
      "5/5 [==============================] - 0s 69ms/step - loss: 181.8797 - val_loss: 325.8638\n",
      "Epoch 38/100\n",
      "5/5 [==============================] - 0s 56ms/step - loss: 181.3405 - val_loss: 291.7992\n",
      "Epoch 39/100\n",
      "5/5 [==============================] - 0s 63ms/step - loss: 182.7968 - val_loss: 316.1527\n",
      "Epoch 40/100\n",
      "5/5 [==============================] - 0s 83ms/step - loss: 181.7268 - val_loss: 293.1263\n",
      "Epoch 41/100\n",
      "5/5 [==============================] - 0s 69ms/step - loss: 182.2802 - val_loss: 279.0197\n",
      "Epoch 42/100\n",
      "5/5 [==============================] - 0s 72ms/step - loss: 181.2302 - val_loss: 311.7410\n",
      "Epoch 43/100\n",
      "5/5 [==============================] - 0s 71ms/step - loss: 184.0992 - val_loss: 317.4571\n",
      "Epoch 44/100\n",
      "5/5 [==============================] - 0s 65ms/step - loss: 182.0562 - val_loss: 315.6721\n",
      "Epoch 45/100\n",
      "5/5 [==============================] - 0s 68ms/step - loss: 181.3006 - val_loss: 289.4916\n",
      "Epoch 46/100\n",
      "5/5 [==============================] - 0s 54ms/step - loss: 183.4422 - val_loss: 277.1711\n",
      "Epoch 47/100\n",
      "5/5 [==============================] - 0s 52ms/step - loss: 179.4353 - val_loss: 330.0988\n",
      "Epoch 48/100\n",
      "5/5 [==============================] - 0s 46ms/step - loss: 181.9599 - val_loss: 311.4017\n",
      "Epoch 49/100\n",
      "5/5 [==============================] - 0s 51ms/step - loss: 182.2062 - val_loss: 263.3956\n",
      "Epoch 50/100\n",
      "5/5 [==============================] - 0s 55ms/step - loss: 179.5847 - val_loss: 314.9006\n",
      "Epoch 51/100\n",
      "5/5 [==============================] - 0s 53ms/step - loss: 180.8020 - val_loss: 306.0449\n",
      "Epoch 52/100\n",
      "5/5 [==============================] - 0s 60ms/step - loss: 180.1102 - val_loss: 313.2640\n",
      "Epoch 53/100\n",
      "5/5 [==============================] - 0s 58ms/step - loss: 181.9492 - val_loss: 302.4904\n",
      "Epoch 54/100\n",
      "5/5 [==============================] - 0s 60ms/step - loss: 182.1744 - val_loss: 297.6263\n",
      "Epoch 55/100\n",
      "5/5 [==============================] - 0s 55ms/step - loss: 186.0592 - val_loss: 350.5410\n",
      "Epoch 56/100\n",
      "5/5 [==============================] - 0s 62ms/step - loss: 182.3509 - val_loss: 274.6202\n",
      "Epoch 57/100\n",
      "5/5 [==============================] - 0s 51ms/step - loss: 184.1577 - val_loss: 279.6843\n",
      "Epoch 58/100\n",
      "5/5 [==============================] - 0s 61ms/step - loss: 181.2034 - val_loss: 310.3027\n",
      "Epoch 59/100\n",
      "5/5 [==============================] - 0s 60ms/step - loss: 179.0377 - val_loss: 298.2718\n",
      "Epoch 60/100\n",
      "5/5 [==============================] - 0s 84ms/step - loss: 181.0899 - val_loss: 287.4438\n",
      "Epoch 61/100\n",
      "5/5 [==============================] - 0s 72ms/step - loss: 181.3628 - val_loss: 302.5945\n",
      "Epoch 62/100\n",
      "5/5 [==============================] - 0s 52ms/step - loss: 179.9278 - val_loss: 327.2021\n",
      "Epoch 63/100\n",
      "5/5 [==============================] - 0s 61ms/step - loss: 185.4846 - val_loss: 278.2328\n",
      "Epoch 64/100\n",
      "5/5 [==============================] - 0s 62ms/step - loss: 179.0862 - val_loss: 305.2794\n",
      "Epoch 65/100\n",
      "5/5 [==============================] - 0s 66ms/step - loss: 181.7630 - val_loss: 319.1972\n",
      "Epoch 66/100\n",
      "5/5 [==============================] - 0s 61ms/step - loss: 182.1732 - val_loss: 283.0057\n",
      "Epoch 67/100\n",
      "5/5 [==============================] - 0s 52ms/step - loss: 179.9237 - val_loss: 304.8577\n",
      "Epoch 68/100\n",
      "5/5 [==============================] - 0s 54ms/step - loss: 180.0202 - val_loss: 321.8162\n",
      "Epoch 69/100\n",
      "5/5 [==============================] - 0s 48ms/step - loss: 182.7193 - val_loss: 275.8256\n",
      "Epoch 70/100\n",
      "5/5 [==============================] - 0s 61ms/step - loss: 179.6642 - val_loss: 296.6892\n",
      "Epoch 71/100\n",
      "5/5 [==============================] - 0s 56ms/step - loss: 187.9841 - val_loss: 352.3797\n",
      "Epoch 72/100\n",
      "5/5 [==============================] - 0s 57ms/step - loss: 183.6681 - val_loss: 260.5949\n",
      "Epoch 73/100\n",
      "5/5 [==============================] - 0s 60ms/step - loss: 184.4140 - val_loss: 320.2300\n",
      "Epoch 74/100\n",
      "5/5 [==============================] - 0s 62ms/step - loss: 179.2806 - val_loss: 300.7845\n",
      "Epoch 75/100\n",
      "5/5 [==============================] - 0s 54ms/step - loss: 181.9724 - val_loss: 278.4945\n",
      "Epoch 76/100\n",
      "5/5 [==============================] - 0s 64ms/step - loss: 181.5585 - val_loss: 309.3708\n",
      "Epoch 77/100\n",
      "5/5 [==============================] - 0s 40ms/step - loss: 184.8653 - val_loss: 328.9184\n",
      "Epoch 78/100\n",
      "5/5 [==============================] - 0s 40ms/step - loss: 182.1474 - val_loss: 280.2349\n",
      "Epoch 79/100\n",
      "5/5 [==============================] - 0s 48ms/step - loss: 183.3738 - val_loss: 286.2120\n",
      "Epoch 80/100\n"
     ]
    },
    {
     "name": "stdout",
     "output_type": "stream",
     "text": [
      "5/5 [==============================] - 0s 47ms/step - loss: 180.1471 - val_loss: 342.3832\n",
      "Epoch 81/100\n",
      "5/5 [==============================] - 0s 53ms/step - loss: 181.6758 - val_loss: 295.5520\n",
      "Epoch 82/100\n",
      "5/5 [==============================] - ETA: 0s - loss: 169.491 - 0s 47ms/step - loss: 181.3838 - val_loss: 313.7657\n",
      "Epoch 83/100\n",
      "5/5 [==============================] - 0s 61ms/step - loss: 180.2344 - val_loss: 277.6496\n",
      "Epoch 84/100\n",
      "5/5 [==============================] - 0s 76ms/step - loss: 181.1257 - val_loss: 299.7684\n",
      "Epoch 85/100\n",
      "5/5 [==============================] - 0s 65ms/step - loss: 179.6582 - val_loss: 303.9474\n",
      "Epoch 86/100\n",
      "5/5 [==============================] - 0s 66ms/step - loss: 180.0027 - val_loss: 293.1852\n",
      "Epoch 87/100\n",
      "5/5 [==============================] - 0s 70ms/step - loss: 184.3750 - val_loss: 317.6198\n",
      "Epoch 88/100\n",
      "5/5 [==============================] - 0s 92ms/step - loss: 182.1863 - val_loss: 253.4455\n",
      "Epoch 89/100\n",
      "5/5 [==============================] - 0s 76ms/step - loss: 182.5464 - val_loss: 322.5746\n",
      "Epoch 90/100\n",
      "5/5 [==============================] - 0s 76ms/step - loss: 184.3799 - val_loss: 341.3381\n",
      "Epoch 91/100\n",
      "5/5 [==============================] - 0s 70ms/step - loss: 180.2277 - val_loss: 263.4350\n",
      "Epoch 92/100\n",
      "5/5 [==============================] - 0s 66ms/step - loss: 180.6631 - val_loss: 303.6121\n",
      "Epoch 93/100\n",
      "5/5 [==============================] - 0s 52ms/step - loss: 180.9155 - val_loss: 298.9665\n",
      "Epoch 94/100\n",
      "5/5 [==============================] - 0s 58ms/step - loss: 179.0562 - val_loss: 318.6269\n",
      "Epoch 95/100\n",
      "5/5 [==============================] - 0s 61ms/step - loss: 181.6258 - val_loss: 298.9331\n",
      "Epoch 96/100\n",
      "5/5 [==============================] - 0s 67ms/step - loss: 184.1828 - val_loss: 276.8271\n",
      "Epoch 97/100\n",
      "5/5 [==============================] - 0s 53ms/step - loss: 179.7127 - val_loss: 322.8167\n",
      "Epoch 98/100\n",
      "5/5 [==============================] - 0s 53ms/step - loss: 180.7903 - val_loss: 297.4968\n",
      "Epoch 99/100\n",
      "5/5 [==============================] - 0s 65ms/step - loss: 180.3049 - val_loss: 319.1763\n",
      "Epoch 100/100\n",
      "5/5 [==============================] - 0s 53ms/step - loss: 182.9547 - val_loss: 291.4858\n"
     ]
    }
   ],
   "source": [
    "history = model.fit(X_train, y_train, epochs=100,\n",
    "                    validation_data=(X_valid, y_valid))"
   ]
  },
  {
   "cell_type": "code",
   "execution_count": 13,
   "id": "70dc7cdb",
   "metadata": {},
   "outputs": [
    {
     "data": {
      "image/png": "[encoded data removed]",
      "text/plain": [
       "<Figure size 576x360 with 1 Axes>"
      ]
     },
     "metadata": {
      "needs_background": "light"
     },
     "output_type": "display_data"
    }
   ],
   "source": [
    "import pandas as pd\n",
    "\n",
    "pd.DataFrame(history.history).plot(figsize=(8, 5))\n",
    "plt.grid(True)\n",
    "# plt.gca().set_ylim(0, 1)\n",
    "plt.show()"
   ]
  },
  {
   "cell_type": "code",
   "execution_count": 14,
   "id": "11c69d40",
   "metadata": {},
   "outputs": [
    {
     "data": {
      "image/png": "[encoded data removed]",
      "text/plain": [
       "<Figure size 432x288 with 1 Axes>"
      ]
     },
     "metadata": {
      "needs_background": "light"
     },
     "output_type": "display_data"
    }
   ],
   "source": [
    "X_new = np.linspace(-5, 5, 100).reshape(100, 1)\n",
    "y_new = model.predict(X_new)\n",
    "#\n",
    "plt.plot(X_train, y_train, \"b.\")\n",
    "plt.plot(X_new, y_new, \"r-\", linewidth=2, label=\"Predictions\")\n",
    "plt.xlabel(\"$x_1$\", fontsize=18)\n",
    "plt.ylabel(\"$y$\", rotation=0, fontsize=18)\n",
    "plt.legend(loc=\"upper left\", fontsize=14)\n",
    "# plt.axis([-3, 3, 0, 10])\n",
    "plt.show()"
   ]
  },
  {
   "cell_type": "markdown",
   "id": "96ac0742",
   "metadata": {},
   "source": [
    "# Regression by Classification"
   ]
  },
  {
   "cell_type": "code",
   "execution_count": 15,
   "id": "52b278ee",
   "metadata": {},
   "outputs": [],
   "source": [
    "class num2grid_np():\n",
    "    def __init__(self, units, x_min=-10, x_max=10, sigma=1.0):\n",
    "        self.units = units\n",
    "        self.x_min = x_min\n",
    "        self.x_max = x_max\n",
    "        self.sigma = sigma\n",
    "        self.sigma2 = self.sigma**2\n",
    "        self.x_grid = np.linspace(self.x_min, self.x_max, self.units, endpoint=True)\n",
    "        print(\"self.x_grid = %s\" % str(self.x_grid))\n",
    "        \n",
    "    def convert(self, X):\n",
    "        gauss_grid = np.exp( -(self.x_grid - X)**2 / (2.0*self.sigma2) )\n",
    "        if len(gauss_grid.shape) == 1:\n",
    "            gauss_grid = gauss_grid.reshape([1,-1])\n",
    "        grid_sum = np.sum(gauss_grid, axis=1, keepdims=True)\n",
    "        gauss_grid = gauss_grid / grid_sum\n",
    "        return gauss_grid\n",
    "    \n",
    "    def inv_convert(self, grid):\n",
    "        if len(grid.shape) == 1:\n",
    "            grid = grid.reshape([1,-1])\n",
    "        grid_sum = np.sum(grid, axis=1)\n",
    "#         print(grid_sum)\n",
    "        exp_num = np.sum((self.x_grid * grid), axis=1) / grid_sum # element-wise\n",
    "        return exp_num"
   ]
  },
  {
   "cell_type": "code",
   "execution_count": 155,
   "id": "317d36b0",
   "metadata": {},
   "outputs": [
    {
     "name": "stdout",
     "output_type": "stream",
     "text": [
      "self.x_grid = [-100.          -95.91836735  -91.83673469  -87.75510204  -83.67346939\n",
      "  -79.59183673  -75.51020408  -71.42857143  -67.34693878  -63.26530612\n",
      "  -59.18367347  -55.10204082  -51.02040816  -46.93877551  -42.85714286\n",
      "  -38.7755102   -34.69387755  -30.6122449   -26.53061224  -22.44897959\n",
      "  -18.36734694  -14.28571429  -10.20408163   -6.12244898   -2.04081633\n",
      "    2.04081633    6.12244898   10.20408163   14.28571429   18.36734694\n",
      "   22.44897959   26.53061224   30.6122449    34.69387755   38.7755102\n",
      "   42.85714286   46.93877551   51.02040816   55.10204082   59.18367347\n",
      "   63.26530612   67.34693878   71.42857143   75.51020408   79.59183673\n",
      "   83.67346939   87.75510204   91.83673469   95.91836735  100.        ]\n"
     ]
    }
   ],
   "source": [
    "# class_num = 50 # 10\n",
    "# n2g = num2grid_np(class_num, x_min=-100.0, x_max=100.0, sigma=20.0) \n",
    "class_num = 50\n",
    "n2g = num2grid_np(class_num, x_min=-100.0, x_max=100.0, sigma=5.0) "
   ]
  },
  {
   "cell_type": "code",
   "execution_count": 156,
   "id": "97609b7e",
   "metadata": {},
   "outputs": [
    {
     "name": "stdout",
     "output_type": "stream",
     "text": [
      "[[5.32087956e-86 3.86113319e-79 1.43892139e-72 2.75391345e-66\n",
      "  2.70678923e-60 1.36631087e-54 3.54189384e-49 4.71533431e-44\n",
      "  3.22389115e-39 1.13198112e-34 2.04121584e-30 1.89029511e-26\n",
      "  8.99003166e-23 2.19575442e-19 2.75421121e-16 1.77419623e-13\n",
      "  5.86944439e-11 9.97202289e-09 8.70082579e-07 3.89877895e-05\n",
      "  8.97196734e-04 1.06032179e-02 6.43544562e-02 2.00590561e-01\n",
      "  3.21094817e-01 2.63965415e-01 1.11442718e-01 2.41628020e-02\n",
      "  2.69050515e-03 1.53854886e-04 4.51834812e-06 6.81457879e-08\n",
      "  5.27824177e-10 2.09957055e-12 4.28906472e-15 4.49972175e-18\n",
      "  2.42437419e-21 6.70817796e-25 9.53235992e-29 6.95644285e-33\n",
      "  2.60714354e-37 5.01803398e-42 4.96013143e-47 2.51793030e-52\n",
      "  6.56425064e-58 8.78855631e-64 6.04283668e-70 2.13380686e-76\n",
      "  3.86954844e-83 3.60376450e-90]]\n"
     ]
    }
   ],
   "source": [
    "grid_1 = n2g.convert(-1.2)\n",
    "print(grid_1)"
   ]
  },
  {
   "cell_type": "code",
   "execution_count": 157,
   "id": "d05517a2",
   "metadata": {},
   "outputs": [
    {
     "data": {
      "text/plain": [
       "array([-1.2])"
      ]
     },
     "execution_count": 157,
     "metadata": {},
     "output_type": "execute_result"
    }
   ],
   "source": [
    "n2g.inv_convert(grid_1)"
   ]
  },
  {
   "cell_type": "markdown",
   "id": "042179c1",
   "metadata": {},
   "source": [
    "### Convert the labels to grid (pre-processing)"
   ]
  },
  {
   "cell_type": "code",
   "execution_count": 158,
   "id": "f31730f4",
   "metadata": {},
   "outputs": [],
   "source": [
    "y_train_grid = n2g.convert(y_train)\n",
    "y_valid_grid = n2g.convert(y_valid)"
   ]
  },
  {
   "cell_type": "code",
   "execution_count": 159,
   "id": "758c46d0",
   "metadata": {},
   "outputs": [
    {
     "name": "stdout",
     "output_type": "stream",
     "text": [
      "(160, 50)\n",
      "(40, 50)\n"
     ]
    }
   ],
   "source": [
    "print(y_train_grid.shape)\n",
    "print(y_valid_grid.shape)"
   ]
  },
  {
   "cell_type": "code",
   "execution_count": 160,
   "id": "e8524aa2",
   "metadata": {},
   "outputs": [
    {
     "name": "stderr",
     "output_type": "stream",
     "text": [
      "/home/benson516/ml/my_env/lib/python3.6/site-packages/tensorflow/python/keras/optimizer_v2/optimizer_v2.py:375: UserWarning: The `lr` argument is deprecated, use `learning_rate` instead.\n",
      "  \"The `lr` argument is deprecated, use `learning_rate` instead.\")\n"
     ]
    }
   ],
   "source": [
    "model = keras.models.Sequential([\n",
    "#     keras.layers.Dense(30, activation=\"relu\", input_shape=X_train.shape[1:]),\n",
    "    num2grid(5,x_min=-10, x_max=10, sigma=3.0, input_shape=X_train.shape[1:]),\n",
    "    keras.layers.Dense(30, activation=\"relu\"),\n",
    "    keras.layers.Dense(class_num, activation=\"softmax\"),\n",
    "])\n",
    "\n",
    "optimizer = keras.optimizers.SGD(lr=0.1, momentum=0.9)\n",
    "model.compile(loss=\"categorical_crossentropy\", optimizer=optimizer)"
   ]
  },
  {
   "cell_type": "code",
   "execution_count": 161,
   "id": "215392b0",
   "metadata": {
    "scrolled": true
   },
   "outputs": [
    {
     "name": "stdout",
     "output_type": "stream",
     "text": [
      "Epoch 1/100\n",
      "5/5 [==============================] - 1s 112ms/step - loss: 3.8790 - val_loss: 3.7619\n",
      "Epoch 2/100\n",
      "5/5 [==============================] - 0s 36ms/step - loss: 3.7083 - val_loss: 3.5023\n",
      "Epoch 3/100\n",
      "5/5 [==============================] - 0s 41ms/step - loss: 3.4584 - val_loss: 3.1805\n",
      "Epoch 4/100\n",
      "5/5 [==============================] - 0s 29ms/step - loss: 3.2550 - val_loss: 3.0352\n",
      "Epoch 5/100\n",
      "5/5 [==============================] - 0s 48ms/step - loss: 3.1847 - val_loss: 2.9422\n",
      "Epoch 6/100\n",
      "5/5 [==============================] - 0s 33ms/step - loss: 3.0806 - val_loss: 2.8732\n",
      "Epoch 7/100\n",
      "5/5 [==============================] - 0s 50ms/step - loss: 3.0036 - val_loss: 2.8269\n",
      "Epoch 8/100\n",
      "5/5 [==============================] - 0s 50ms/step - loss: 2.9330 - val_loss: 2.7520\n",
      "Epoch 9/100\n",
      "5/5 [==============================] - 0s 39ms/step - loss: 2.8568 - val_loss: 2.6896\n",
      "Epoch 10/100\n",
      "5/5 [==============================] - 0s 37ms/step - loss: 2.7925 - val_loss: 2.6369\n",
      "Epoch 11/100\n",
      "5/5 [==============================] - 0s 31ms/step - loss: 2.7305 - val_loss: 2.6184\n",
      "Epoch 12/100\n",
      "5/5 [==============================] - 0s 35ms/step - loss: 2.6863 - val_loss: 2.5477\n",
      "Epoch 13/100\n",
      "5/5 [==============================] - 0s 31ms/step - loss: 2.6393 - val_loss: 2.6005\n",
      "Epoch 14/100\n",
      "5/5 [==============================] - 0s 31ms/step - loss: 2.5975 - val_loss: 2.5650\n",
      "Epoch 15/100\n",
      "5/5 [==============================] - 0s 37ms/step - loss: 2.5694 - val_loss: 2.5612\n",
      "Epoch 16/100\n",
      "5/5 [==============================] - 0s 34ms/step - loss: 2.5507 - val_loss: 2.5906\n",
      "Epoch 17/100\n",
      "5/5 [==============================] - 0s 30ms/step - loss: 2.5258 - val_loss: 2.5140\n",
      "Epoch 18/100\n",
      "5/5 [==============================] - 0s 52ms/step - loss: 2.5103 - val_loss: 2.5433\n",
      "Epoch 19/100\n",
      "5/5 [==============================] - ETA: 0s - loss: 2.494 - 0s 46ms/step - loss: 2.4941 - val_loss: 2.5597\n",
      "Epoch 20/100\n",
      "5/5 [==============================] - 0s 50ms/step - loss: 2.4804 - val_loss: 2.5614\n",
      "Epoch 21/100\n",
      "5/5 [==============================] - 0s 45ms/step - loss: 2.4729 - val_loss: 2.5448\n",
      "Epoch 22/100\n",
      "5/5 [==============================] - 0s 34ms/step - loss: 2.4670 - val_loss: 2.5030\n",
      "Epoch 23/100\n",
      "5/5 [==============================] - 0s 26ms/step - loss: 2.4555 - val_loss: 2.5532\n",
      "Epoch 24/100\n",
      "5/5 [==============================] - 0s 34ms/step - loss: 2.4494 - val_loss: 2.4961\n",
      "Epoch 25/100\n",
      "5/5 [==============================] - 0s 33ms/step - loss: 2.4384 - val_loss: 2.5251\n",
      "Epoch 26/100\n",
      "5/5 [==============================] - 0s 39ms/step - loss: 2.4425 - val_loss: 2.5322\n",
      "Epoch 27/100\n",
      "5/5 [==============================] - 0s 44ms/step - loss: 2.4310 - val_loss: 2.5765\n",
      "Epoch 28/100\n",
      "5/5 [==============================] - 0s 36ms/step - loss: 2.4319 - val_loss: 2.4588\n",
      "Epoch 29/100\n",
      "5/5 [==============================] - 0s 44ms/step - loss: 2.4153 - val_loss: 2.4988\n",
      "Epoch 30/100\n",
      "5/5 [==============================] - 0s 39ms/step - loss: 2.4136 - val_loss: 2.5604\n",
      "Epoch 31/100\n",
      "5/5 [==============================] - 0s 33ms/step - loss: 2.4038 - val_loss: 2.4666\n",
      "Epoch 32/100\n",
      "5/5 [==============================] - 0s 38ms/step - loss: 2.4105 - val_loss: 2.4442\n",
      "Epoch 33/100\n",
      "5/5 [==============================] - 0s 42ms/step - loss: 2.4211 - val_loss: 2.6097\n",
      "Epoch 34/100\n",
      "5/5 [==============================] - 0s 30ms/step - loss: 2.4008 - val_loss: 2.4522\n",
      "Epoch 35/100\n",
      "5/5 [==============================] - 0s 32ms/step - loss: 2.4036 - val_loss: 2.4888\n",
      "Epoch 36/100\n",
      "5/5 [==============================] - 0s 41ms/step - loss: 2.3873 - val_loss: 2.4703\n",
      "Epoch 37/100\n",
      "5/5 [==============================] - 0s 58ms/step - loss: 2.3855 - val_loss: 2.5070\n",
      "Epoch 38/100\n",
      "5/5 [==============================] - 0s 43ms/step - loss: 2.3885 - val_loss: 2.4768\n",
      "Epoch 39/100\n",
      "5/5 [==============================] - 0s 35ms/step - loss: 2.3774 - val_loss: 2.4877\n",
      "Epoch 40/100\n",
      "5/5 [==============================] - 0s 41ms/step - loss: 2.3719 - val_loss: 2.5215\n",
      "Epoch 41/100\n",
      "5/5 [==============================] - 0s 29ms/step - loss: 2.3815 - val_loss: 2.4647\n",
      "Epoch 42/100\n",
      "5/5 [==============================] - 0s 30ms/step - loss: 2.3932 - val_loss: 2.4014\n",
      "Epoch 43/100\n",
      "5/5 [==============================] - 0s 28ms/step - loss: 2.3736 - val_loss: 2.5712\n",
      "Epoch 44/100\n",
      "5/5 [==============================] - 0s 28ms/step - loss: 2.3751 - val_loss: 2.4281\n",
      "Epoch 45/100\n",
      "5/5 [==============================] - 0s 37ms/step - loss: 2.3659 - val_loss: 2.5123\n",
      "Epoch 46/100\n",
      "5/5 [==============================] - 0s 37ms/step - loss: 2.3640 - val_loss: 2.4562\n",
      "Epoch 47/100\n",
      "5/5 [==============================] - 0s 49ms/step - loss: 2.3571 - val_loss: 2.4729\n",
      "Epoch 48/100\n",
      "5/5 [==============================] - 0s 41ms/step - loss: 2.3604 - val_loss: 2.5029\n",
      "Epoch 49/100\n",
      "5/5 [==============================] - 0s 58ms/step - loss: 2.3575 - val_loss: 2.4249\n",
      "Epoch 50/100\n",
      "5/5 [==============================] - 0s 40ms/step - loss: 2.3492 - val_loss: 2.4531\n",
      "Epoch 51/100\n",
      "5/5 [==============================] - 0s 39ms/step - loss: 2.3550 - val_loss: 2.4524\n",
      "Epoch 52/100\n",
      "5/5 [==============================] - 0s 33ms/step - loss: 2.3472 - val_loss: 2.4431\n",
      "Epoch 53/100\n",
      "5/5 [==============================] - 0s 46ms/step - loss: 2.3477 - val_loss: 2.5077\n",
      "Epoch 54/100\n",
      "5/5 [==============================] - ETA: 0s - loss: 2.403 - 0s 50ms/step - loss: 2.3431 - val_loss: 2.4578\n",
      "Epoch 55/100\n",
      "5/5 [==============================] - 0s 43ms/step - loss: 2.3436 - val_loss: 2.4080\n",
      "Epoch 56/100\n",
      "5/5 [==============================] - 0s 38ms/step - loss: 2.3370 - val_loss: 2.5174\n",
      "Epoch 57/100\n",
      "5/5 [==============================] - 0s 45ms/step - loss: 2.3372 - val_loss: 2.4533\n",
      "Epoch 58/100\n",
      "5/5 [==============================] - 0s 52ms/step - loss: 2.3308 - val_loss: 2.4490\n",
      "Epoch 59/100\n",
      "5/5 [==============================] - 0s 38ms/step - loss: 2.3274 - val_loss: 2.3936\n",
      "Epoch 60/100\n",
      "5/5 [==============================] - 0s 41ms/step - loss: 2.3272 - val_loss: 2.4363\n",
      "Epoch 61/100\n",
      "5/5 [==============================] - 0s 53ms/step - loss: 2.3295 - val_loss: 2.5310\n",
      "Epoch 62/100\n",
      "5/5 [==============================] - 0s 49ms/step - loss: 2.3280 - val_loss: 2.4360\n",
      "Epoch 63/100\n",
      "5/5 [==============================] - 0s 55ms/step - loss: 2.3245 - val_loss: 2.4367\n",
      "Epoch 64/100\n",
      "5/5 [==============================] - 0s 39ms/step - loss: 2.3367 - val_loss: 2.4781\n",
      "Epoch 65/100\n",
      "5/5 [==============================] - 0s 45ms/step - loss: 2.3177 - val_loss: 2.4517\n",
      "Epoch 66/100\n",
      "5/5 [==============================] - 0s 30ms/step - loss: 2.3204 - val_loss: 2.3978\n",
      "Epoch 67/100\n",
      "5/5 [==============================] - 0s 32ms/step - loss: 2.3209 - val_loss: 2.4891\n",
      "Epoch 68/100\n",
      "5/5 [==============================] - 0s 29ms/step - loss: 2.3158 - val_loss: 2.4220\n",
      "Epoch 69/100\n",
      "5/5 [==============================] - 0s 31ms/step - loss: 2.3230 - val_loss: 2.4995\n",
      "Epoch 70/100\n",
      "5/5 [==============================] - 0s 32ms/step - loss: 2.3164 - val_loss: 2.3885\n",
      "Epoch 71/100\n",
      "5/5 [==============================] - 0s 29ms/step - loss: 2.3103 - val_loss: 2.4725\n",
      "Epoch 72/100\n",
      "5/5 [==============================] - 0s 38ms/step - loss: 2.3094 - val_loss: 2.4366\n",
      "Epoch 73/100\n",
      "5/5 [==============================] - 0s 39ms/step - loss: 2.3041 - val_loss: 2.4357\n",
      "Epoch 74/100\n",
      "5/5 [==============================] - 0s 45ms/step - loss: 2.3054 - val_loss: 2.4493\n",
      "Epoch 75/100\n",
      "5/5 [==============================] - 0s 51ms/step - loss: 2.3010 - val_loss: 2.4473\n",
      "Epoch 76/100\n",
      "5/5 [==============================] - 0s 55ms/step - loss: 2.3019 - val_loss: 2.4147\n",
      "Epoch 77/100\n",
      "5/5 [==============================] - 0s 50ms/step - loss: 2.3150 - val_loss: 2.4089\n",
      "Epoch 78/100\n",
      "5/5 [==============================] - 0s 39ms/step - loss: 2.3038 - val_loss: 2.4185\n",
      "Epoch 79/100\n",
      "5/5 [==============================] - 0s 42ms/step - loss: 2.3090 - val_loss: 2.5369\n",
      "Epoch 80/100\n",
      "5/5 [==============================] - 0s 64ms/step - loss: 2.3141 - val_loss: 2.4119\n",
      "Epoch 81/100\n",
      "5/5 [==============================] - 0s 34ms/step - loss: 2.3002 - val_loss: 2.4012\n",
      "Epoch 82/100\n",
      "5/5 [==============================] - 0s 46ms/step - loss: 2.3023 - val_loss: 2.3884\n",
      "Epoch 83/100\n"
     ]
    },
    {
     "name": "stdout",
     "output_type": "stream",
     "text": [
      "5/5 [==============================] - 0s 49ms/step - loss: 2.3060 - val_loss: 2.4161\n",
      "Epoch 84/100\n",
      "5/5 [==============================] - 0s 48ms/step - loss: 2.2912 - val_loss: 2.4440\n",
      "Epoch 85/100\n",
      "5/5 [==============================] - 0s 44ms/step - loss: 2.2992 - val_loss: 2.4127\n",
      "Epoch 86/100\n",
      "5/5 [==============================] - 0s 63ms/step - loss: 2.2973 - val_loss: 2.5094\n",
      "Epoch 87/100\n",
      "5/5 [==============================] - 0s 55ms/step - loss: 2.2979 - val_loss: 2.3877\n",
      "Epoch 88/100\n",
      "5/5 [==============================] - 0s 62ms/step - loss: 2.3036 - val_loss: 2.4474\n",
      "Epoch 89/100\n",
      "5/5 [==============================] - 0s 41ms/step - loss: 2.2937 - val_loss: 2.3956\n",
      "Epoch 90/100\n",
      "5/5 [==============================] - 0s 52ms/step - loss: 2.2901 - val_loss: 2.4594\n",
      "Epoch 91/100\n",
      "5/5 [==============================] - 0s 43ms/step - loss: 2.2823 - val_loss: 2.4048\n",
      "Epoch 92/100\n",
      "5/5 [==============================] - 0s 42ms/step - loss: 2.2825 - val_loss: 2.3662\n",
      "Epoch 93/100\n",
      "5/5 [==============================] - 0s 35ms/step - loss: 2.2812 - val_loss: 2.4366\n",
      "Epoch 94/100\n",
      "5/5 [==============================] - 0s 42ms/step - loss: 2.2910 - val_loss: 2.4257\n",
      "Epoch 95/100\n",
      "5/5 [==============================] - 0s 58ms/step - loss: 2.2824 - val_loss: 2.3549\n",
      "Epoch 96/100\n",
      "5/5 [==============================] - 0s 71ms/step - loss: 2.2832 - val_loss: 2.4601\n",
      "Epoch 97/100\n",
      "5/5 [==============================] - 0s 56ms/step - loss: 2.2981 - val_loss: 2.4218\n",
      "Epoch 98/100\n",
      "5/5 [==============================] - 0s 69ms/step - loss: 2.2848 - val_loss: 2.4331\n",
      "Epoch 99/100\n",
      "5/5 [==============================] - 0s 64ms/step - loss: 2.2808 - val_loss: 2.3301\n",
      "Epoch 100/100\n",
      "5/5 [==============================] - 0s 66ms/step - loss: 2.2861 - val_loss: 2.4109\n"
     ]
    }
   ],
   "source": [
    "history = model.fit(X_train, y_train_grid, epochs=100,\n",
    "                    validation_data=(X_valid, y_valid_grid))"
   ]
  },
  {
   "cell_type": "code",
   "execution_count": 162,
   "id": "b99f74b0",
   "metadata": {},
   "outputs": [
    {
     "data": {
      "image/png": "[encoded data removed]",
      "text/plain": [
       "<Figure size 576x360 with 1 Axes>"
      ]
     },
     "metadata": {
      "needs_background": "light"
     },
     "output_type": "display_data"
    }
   ],
   "source": [
    "import pandas as pd\n",
    "\n",
    "pd.DataFrame(history.history).plot(figsize=(8, 5))\n",
    "plt.grid(True)\n",
    "# plt.gca().set_ylim(0, 1)\n",
    "plt.show()"
   ]
  },
  {
   "cell_type": "code",
   "execution_count": 163,
   "id": "231cd5bd",
   "metadata": {},
   "outputs": [
    {
     "data": {
      "image/png": "[encoded data removed]",
      "text/plain": [
       "<Figure size 432x288 with 1 Axes>"
      ]
     },
     "metadata": {
      "needs_background": "light"
     },
     "output_type": "display_data"
    }
   ],
   "source": [
    "X_new = np.linspace(-5, 5, 100).reshape(100, 1)\n",
    "y_new_proba = model.predict(X_new)\n",
    "y_new = n2g.inv_convert(y_new_proba)\n",
    "#\n",
    "plt.plot(X_train, y_train, \"b.\")\n",
    "plt.plot(X_new, y_new, \"r-\", linewidth=2, label=\"Predictions\")\n",
    "plt.xlabel(\"$x_1$\", fontsize=18)\n",
    "plt.ylabel(\"$y$\", rotation=0, fontsize=18)\n",
    "plt.legend(loc=\"upper left\", fontsize=14)\n",
    "# plt.axis([-3, 3, 0, 10])\n",
    "plt.show()"
   ]
  },
  {
   "cell_type": "code",
   "execution_count": 177,
   "id": "c4caccd4",
   "metadata": {},
   "outputs": [
    {
     "data": {
      "text/plain": [
       "<matplotlib.collections.QuadMesh at 0x7fea98ff77f0>"
      ]
     },
     "execution_count": 177,
     "metadata": {},
     "output_type": "execute_result"
    },
    {
     "data": {
      "image/png": "[encoded data removed]",
      "text/plain": [
       "<Figure size 432x288 with 1 Axes>"
      ]
     },
     "metadata": {
      "needs_background": "light"
     },
     "output_type": "display_data"
    }
   ],
   "source": [
    "xv, yv = np.meshgrid(X_new, np.linspace(n2g.x_min, n2g.x_max, n2g.units))\n",
    "# print(xv)\n",
    "# print(yv)\n",
    "plt.pcolormesh(xv, yv, y_new_proba.T, shading=\"nearest\")"
   ]
  },
  {
   "cell_type": "code",
   "execution_count": null,
   "id": "414d1411",
   "metadata": {},
   "outputs": [],
   "source": []
  },
  {
   "cell_type": "code",
   "execution_count": null,
   "id": "33a28bb7",
   "metadata": {},
   "outputs": [],
   "source": []
  },
  {
   "cell_type": "code",
   "execution_count": null,
   "id": "8c83d8bc",
   "metadata": {},
   "outputs": [],
   "source": []
  },
  {
   "cell_type": "code",
   "execution_count": null,
   "id": "983a397c",
   "metadata": {},
   "outputs": [],
   "source": []
  }
 ],
 "metadata": {
  "kernelspec": {
   "display_name": "Python 3",
   "language": "python",
   "name": "python3"
  },
  "language_info": {
   "codemirror_mode": {
    "name": "ipython",
    "version": 3
   },
   "file_extension": ".py",
   "mimetype": "text/x-python",
   "name": "python",
   "nbconvert_exporter": "python",
   "pygments_lexer": "ipython3",
   "version": "3.6.9"
  }
 },
 "nbformat": 4,
 "nbformat_minor": 5
}
