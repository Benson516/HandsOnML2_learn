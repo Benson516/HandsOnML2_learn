{
 "cells": [
  {
   "cell_type": "code",
   "execution_count": 1,
   "id": "7e7b596d",
   "metadata": {},
   "outputs": [],
   "source": [
    "import numpy as np\n",
    "import tensorflow as tf\n",
    "from tensorflow import keras\n",
    "\n",
    "# To plot pretty figures\n",
    "%matplotlib inline\n",
    "import matplotlib as mpl\n",
    "import matplotlib.pyplot as plt\n",
    "mpl.rc('axes', labelsize=14)\n",
    "mpl.rc('xtick', labelsize=12)\n",
    "mpl.rc('ytick', labelsize=12)"
   ]
  },
  {
   "cell_type": "code",
   "execution_count": 2,
   "id": "04c761a7",
   "metadata": {},
   "outputs": [],
   "source": [
    "def draw_func(func_in, x_min=-5, x_max=5, mark='r--', linewidth=1, label='func'):\n",
    "    n_sample = 100\n",
    "    X_func = np.linspace(x_min, x_max, n_sample).reshape(n_sample, 1)\n",
    "    y_func = func_in(X_func)\n",
    "    plt.plot(X_func, y_func, mark, linewidth=linewidth, label=label)"
   ]
  },
  {
   "cell_type": "markdown",
   "id": "dadd00b6",
   "metadata": {},
   "source": [
    "Generate polynomial data"
   ]
  },
  {
   "cell_type": "code",
   "execution_count": 3,
   "id": "ccc7b5e5",
   "metadata": {},
   "outputs": [],
   "source": [
    "def func_0(X): # Reference\n",
    "    return 0.5 * X**3 + 0.5 * X**2 + X + 2\n",
    "def func_1(X): # Variation 1: parellel\n",
    "    return 0.5 * X**3 + 0.5 * X**2 + X + 30\n",
    "def func_2(X): # Variation 2: cross\n",
    "    return -0.5 * X**3 + 0.5 * X**2 + X + 30\n",
    "def func_3(X): # Variation 3: slightly split\n",
    "    return 0.3 * X**3 + 1.0 * X**2 + X + 15 "
   ]
  },
  {
   "cell_type": "code",
   "execution_count": 4,
   "id": "5211911b",
   "metadata": {},
   "outputs": [],
   "source": [
    "func_dict = dict()\n",
    "func_dict[\"f1\"] = func_0\n",
    "# func_dict[\"f2\"] = func_1\n",
    "# func_dict[\"f2\"] = func_2\n",
    "func_dict[\"f2\"] = func_3\n",
    "\n",
    "# Average line\n",
    "func_dict[\"f_avg\"] = ( lambda X: 0.5*func_dict[\"f1\"](X) + 0.5*func_dict[\"f2\"](X) )"
   ]
  },
  {
   "cell_type": "code",
   "execution_count": 5,
   "id": "87079bec",
   "metadata": {},
   "outputs": [],
   "source": [
    "def draw_normal_func(func_dict):\n",
    "    draw_func(func_dict[\"f1\"], mark='c:', label=\"f1\")\n",
    "    draw_func(func_dict[\"f2\"], mark='g:', label=\"f2\")\n",
    "    draw_func(func_dict[\"f_avg\"], mark='m--', label=\"f_avg\")"
   ]
  },
  {
   "cell_type": "code",
   "execution_count": 6,
   "id": "e128f762",
   "metadata": {},
   "outputs": [
    {
     "name": "stdout",
     "output_type": "stream",
     "text": [
      "(m, m_train) = (50, 40)\n",
      "y_data_pure.shape = (50, 1)\n",
      "y_data.shape = (50, 1)\n"
     ]
    }
   ],
   "source": [
    "np.random.seed(42)\n",
    "m = 50 # 100 # 200\n",
    "m_train = m // 5 * 4\n",
    "print(\"(m, m_train) = (%d, %d)\" % (m, m_train))\n",
    "# Input\n",
    "X_data = 10 * np.random.rand(m, 1) - 5 # Note: X is randomly sampled, so we don't need to shuffle the data again\n",
    "\n",
    "# Output\n",
    "is_multiout = True\n",
    "# is_multiout = False\n",
    "if is_multiout:\n",
    "    m_h = m // 2\n",
    "    X_data_1 = X_data[:m_h]\n",
    "    X_data_2 = X_data[m_h:]\n",
    "    y_data_pure_1 = func_dict[\"f1\"](X_data_1) \n",
    "    y_data_pure_2 = func_dict[\"f2\"](X_data_2) \n",
    "    y_data_pure = np.vstack([y_data_pure_1, y_data_pure_2])\n",
    "    print(\"y_data_pure.shape = %s\" % str(y_data_pure.shape))\n",
    "else:        \n",
    "    y_data_pure = 0.5 * X_data**3 + 0.5 * X_data**2 + X_data + 2 \n",
    "\n",
    "# Label (+noise)\n",
    "n_stddev = 2.0\n",
    "# n_stddev = 10.0\n",
    "y_data = y_data_pure + np.random.randn(m, 1) * n_stddev\n",
    "print(\"y_data.shape = %s\" % str(y_data.shape))"
   ]
  },
  {
   "cell_type": "code",
   "execution_count": 7,
   "id": "769bd38d",
   "metadata": {},
   "outputs": [],
   "source": [
    "X_train = X_data[:m_train]\n",
    "y_train = y_data[:m_train]\n",
    "X_valid = X_data[m_train:]\n",
    "y_valid = y_data[m_train:]"
   ]
  },
  {
   "cell_type": "code",
   "execution_count": 8,
   "id": "a0a326f7",
   "metadata": {},
   "outputs": [
    {
     "name": "stdout",
     "output_type": "stream",
     "text": [
      "(40, 1)\n"
     ]
    }
   ],
   "source": [
    "print(X_train.shape)"
   ]
  },
  {
   "cell_type": "code",
   "execution_count": 9,
   "id": "6a500839",
   "metadata": {},
   "outputs": [
    {
     "data": {
      "image/png": "[encoded data removed]",
      "text/plain": [
       "<Figure size 432x288 with 1 Axes>"
      ]
     },
     "metadata": {
      "needs_background": "light"
     },
     "output_type": "display_data"
    }
   ],
   "source": [
    "plt.plot(X_train, y_train, \"b.\")\n",
    "draw_normal_func(func_dict)\n",
    "plt.xlabel(\"$x_1$\", fontsize=18)\n",
    "plt.ylabel(\"$y$\", rotation=0, fontsize=18)\n",
    "# plt.axis([-3, 3, 0, 10])\n",
    "plt.show()"
   ]
  },
  {
   "cell_type": "markdown",
   "id": "53a95301",
   "metadata": {},
   "source": [
    "Build the regression model"
   ]
  },
  {
   "cell_type": "code",
   "execution_count": 10,
   "id": "8a329923",
   "metadata": {},
   "outputs": [
    {
     "name": "stderr",
     "output_type": "stream",
     "text": [
      "/home/benson516/ml/my_env/lib/python3.6/site-packages/tensorflow/python/keras/optimizer_v2/optimizer_v2.py:375: UserWarning: The `lr` argument is deprecated, use `learning_rate` instead.\n",
      "  \"The `lr` argument is deprecated, use `learning_rate` instead.\")\n"
     ]
    }
   ],
   "source": [
    "model = keras.models.Sequential([\n",
    "    keras.layers.Dense(30, activation=\"relu\", input_shape=X_train.shape[1:]),\n",
    "    keras.layers.Dense(30, activation=\"relu\"),\n",
    "    keras.layers.Dense(1)\n",
    "])\n",
    "\n",
    "optimizer = keras.optimizers.SGD(lr=0.001, momentum=0.9)\n",
    "model.compile(loss=\"mean_squared_error\", optimizer=optimizer)"
   ]
  },
  {
   "cell_type": "code",
   "execution_count": 11,
   "id": "b6674d1b",
   "metadata": {
    "scrolled": true
   },
   "outputs": [
    {
     "name": "stdout",
     "output_type": "stream",
     "text": [
      "Epoch 1/100\n",
      "2/2 [==============================] - 1s 219ms/step - loss: 743.3583 - val_loss: 452.8261\n",
      "Epoch 2/100\n",
      "2/2 [==============================] - 0s 74ms/step - loss: 681.3389 - val_loss: 360.0026\n",
      "Epoch 3/100\n",
      "2/2 [==============================] - 0s 81ms/step - loss: 528.7865 - val_loss: 127.1381\n",
      "Epoch 4/100\n",
      "2/2 [==============================] - 0s 75ms/step - loss: 243.5837 - val_loss: 166.3621\n",
      "Epoch 5/100\n",
      "2/2 [==============================] - 0s 82ms/step - loss: 192.7046 - val_loss: 258.5677\n",
      "Epoch 6/100\n",
      "2/2 [==============================] - 0s 82ms/step - loss: 268.0885 - val_loss: 360.6990\n",
      "Epoch 7/100\n",
      "2/2 [==============================] - 0s 74ms/step - loss: 330.2577 - val_loss: 273.4487\n",
      "Epoch 8/100\n",
      "2/2 [==============================] - 0s 74ms/step - loss: 153.8943 - val_loss: 299.0638\n",
      "Epoch 9/100\n",
      "2/2 [==============================] - 0s 75ms/step - loss: 272.2697 - val_loss: 237.1384\n",
      "Epoch 10/100\n",
      "2/2 [==============================] - 0s 79ms/step - loss: 150.0041 - val_loss: 293.9033\n",
      "Epoch 11/100\n",
      "2/2 [==============================] - 0s 71ms/step - loss: 215.9994 - val_loss: 207.0974\n",
      "Epoch 12/100\n",
      "2/2 [==============================] - 0s 70ms/step - loss: 161.5252 - val_loss: 184.0914\n",
      "Epoch 13/100\n",
      "2/2 [==============================] - 0s 77ms/step - loss: 247.3677 - val_loss: 187.2610\n",
      "Epoch 14/100\n",
      "2/2 [==============================] - 0s 75ms/step - loss: 172.4180 - val_loss: 257.1656\n",
      "Epoch 15/100\n",
      "2/2 [==============================] - 0s 65ms/step - loss: 181.6003 - val_loss: 234.0079\n",
      "Epoch 16/100\n",
      "2/2 [==============================] - 0s 62ms/step - loss: 147.9859 - val_loss: 275.4729\n",
      "Epoch 17/100\n",
      "2/2 [==============================] - 0s 77ms/step - loss: 147.4293 - val_loss: 255.7904\n",
      "Epoch 18/100\n",
      "2/2 [==============================] - 0s 62ms/step - loss: 144.8382 - val_loss: 185.6439\n",
      "Epoch 19/100\n",
      "2/2 [==============================] - 0s 73ms/step - loss: 153.3389 - val_loss: 193.6143\n",
      "Epoch 20/100\n",
      "2/2 [==============================] - 0s 70ms/step - loss: 150.3732 - val_loss: 339.4493\n",
      "Epoch 21/100\n",
      "2/2 [==============================] - 0s 71ms/step - loss: 153.7389 - val_loss: 385.3388\n",
      "Epoch 22/100\n",
      "2/2 [==============================] - 0s 71ms/step - loss: 172.2399 - val_loss: 286.6604\n",
      "Epoch 23/100\n",
      "2/2 [==============================] - 0s 71ms/step - loss: 135.5133 - val_loss: 190.8019\n",
      "Epoch 24/100\n",
      "2/2 [==============================] - 0s 69ms/step - loss: 142.5965 - val_loss: 129.8627\n",
      "Epoch 25/100\n",
      "2/2 [==============================] - 0s 77ms/step - loss: 156.2330 - val_loss: 121.4946\n",
      "Epoch 26/100\n",
      "2/2 [==============================] - 0s 75ms/step - loss: 155.8763 - val_loss: 131.1107\n",
      "Epoch 27/100\n",
      "2/2 [==============================] - 0s 74ms/step - loss: 148.6087 - val_loss: 171.6422\n",
      "Epoch 28/100\n",
      "2/2 [==============================] - 0s 68ms/step - loss: 139.0421 - val_loss: 232.7897\n",
      "Epoch 29/100\n",
      "2/2 [==============================] - 0s 68ms/step - loss: 132.5816 - val_loss: 261.1349\n",
      "Epoch 30/100\n",
      "2/2 [==============================] - 0s 75ms/step - loss: 134.2116 - val_loss: 236.7624\n",
      "Epoch 31/100\n",
      "2/2 [==============================] - 0s 68ms/step - loss: 131.5113 - val_loss: 164.5428\n",
      "Epoch 32/100\n",
      "2/2 [==============================] - 0s 69ms/step - loss: 139.9418 - val_loss: 133.7480\n",
      "Epoch 33/100\n",
      "2/2 [==============================] - 0s 66ms/step - loss: 142.5858 - val_loss: 140.5688\n",
      "Epoch 34/100\n",
      "2/2 [==============================] - 0s 69ms/step - loss: 155.2574 - val_loss: 130.5091\n",
      "Epoch 35/100\n",
      "2/2 [==============================] - 0s 60ms/step - loss: 143.4000 - val_loss: 154.9331\n",
      "Epoch 36/100\n",
      "2/2 [==============================] - 0s 62ms/step - loss: 171.3910 - val_loss: 184.3817\n",
      "Epoch 37/100\n",
      "2/2 [==============================] - 0s 61ms/step - loss: 155.1416 - val_loss: 279.4237\n",
      "Epoch 38/100\n",
      "2/2 [==============================] - 0s 71ms/step - loss: 183.8437 - val_loss: 311.8582\n",
      "Epoch 39/100\n",
      "2/2 [==============================] - 0s 68ms/step - loss: 151.5412 - val_loss: 261.8235\n",
      "Epoch 40/100\n",
      "2/2 [==============================] - 0s 72ms/step - loss: 150.7620 - val_loss: 193.1508\n",
      "Epoch 41/100\n",
      "2/2 [==============================] - 0s 71ms/step - loss: 166.0066 - val_loss: 159.9402\n",
      "Epoch 42/100\n",
      "2/2 [==============================] - 0s 82ms/step - loss: 183.6111 - val_loss: 121.9470\n",
      "Epoch 43/100\n",
      "2/2 [==============================] - 0s 79ms/step - loss: 141.9375 - val_loss: 221.3725\n",
      "Epoch 44/100\n",
      "2/2 [==============================] - 0s 73ms/step - loss: 188.1555 - val_loss: 335.2723\n",
      "Epoch 45/100\n",
      "2/2 [==============================] - 0s 72ms/step - loss: 153.6315 - val_loss: 388.5214\n",
      "Epoch 46/100\n",
      "2/2 [==============================] - 0s 78ms/step - loss: 263.2698 - val_loss: 231.7612\n",
      "Epoch 47/100\n",
      "2/2 [==============================] - 0s 78ms/step - loss: 177.0498 - val_loss: 134.9136\n",
      "Epoch 48/100\n",
      "2/2 [==============================] - 0s 68ms/step - loss: 228.5461 - val_loss: 84.5999\n",
      "Epoch 49/100\n",
      "2/2 [==============================] - 0s 72ms/step - loss: 174.6954 - val_loss: 144.8494\n",
      "Epoch 50/100\n",
      "2/2 [==============================] - 0s 77ms/step - loss: 236.7054 - val_loss: 157.8352\n",
      "Epoch 51/100\n",
      "2/2 [==============================] - 0s 71ms/step - loss: 152.8336 - val_loss: 289.4700\n",
      "Epoch 52/100\n",
      "2/2 [==============================] - 0s 68ms/step - loss: 269.7126 - val_loss: 345.1162\n",
      "Epoch 53/100\n",
      "2/2 [==============================] - 0s 89ms/step - loss: 159.3551 - val_loss: 403.6973\n",
      "Epoch 54/100\n",
      "2/2 [==============================] - 0s 92ms/step - loss: 163.2976 - val_loss: 235.8951\n",
      "Epoch 55/100\n",
      "2/2 [==============================] - 0s 69ms/step - loss: 130.5242 - val_loss: 120.5584\n",
      "Epoch 56/100\n",
      "2/2 [==============================] - 0s 88ms/step - loss: 156.1786 - val_loss: 101.8337\n",
      "Epoch 57/100\n",
      "2/2 [==============================] - 0s 79ms/step - loss: 169.0260 - val_loss: 114.6936\n",
      "Epoch 58/100\n",
      "2/2 [==============================] - 0s 88ms/step - loss: 199.4608 - val_loss: 87.4797\n",
      "Epoch 59/100\n",
      "2/2 [==============================] - 0s 123ms/step - loss: 174.7631 - val_loss: 85.2535\n",
      "Epoch 60/100\n",
      "2/2 [==============================] - 0s 104ms/step - loss: 179.0460 - val_loss: 88.3662\n",
      "Epoch 61/100\n",
      "2/2 [==============================] - 0s 83ms/step - loss: 163.6307 - val_loss: 98.4960\n",
      "Epoch 62/100\n",
      "2/2 [==============================] - 0s 73ms/step - loss: 160.4953 - val_loss: 110.1437\n",
      "Epoch 63/100\n",
      "2/2 [==============================] - 0s 70ms/step - loss: 145.4594 - val_loss: 136.7468\n",
      "Epoch 64/100\n",
      "2/2 [==============================] - 0s 67ms/step - loss: 135.1650 - val_loss: 221.0981\n",
      "Epoch 65/100\n",
      "2/2 [==============================] - 0s 73ms/step - loss: 137.8299 - val_loss: 318.8677\n",
      "Epoch 66/100\n",
      "2/2 [==============================] - 0s 67ms/step - loss: 136.9392 - val_loss: 243.1456\n",
      "Epoch 67/100\n",
      "2/2 [==============================] - 0s 69ms/step - loss: 124.8637 - val_loss: 173.4549\n",
      "Epoch 68/100\n",
      "2/2 [==============================] - 0s 72ms/step - loss: 124.4225 - val_loss: 149.0632\n",
      "Epoch 69/100\n",
      "2/2 [==============================] - 0s 71ms/step - loss: 134.8962 - val_loss: 145.7122\n",
      "Epoch 70/100\n",
      "2/2 [==============================] - 0s 74ms/step - loss: 135.9952 - val_loss: 150.6856\n",
      "Epoch 71/100\n",
      "2/2 [==============================] - 0s 66ms/step - loss: 130.9657 - val_loss: 170.9437\n",
      "Epoch 72/100\n",
      "2/2 [==============================] - 0s 75ms/step - loss: 124.5690 - val_loss: 221.9911\n",
      "Epoch 73/100\n",
      "2/2 [==============================] - 0s 75ms/step - loss: 123.5432 - val_loss: 283.1628\n",
      "Epoch 74/100\n",
      "2/2 [==============================] - 0s 69ms/step - loss: 132.9684 - val_loss: 278.9484\n",
      "Epoch 75/100\n",
      "2/2 [==============================] - 0s 86ms/step - loss: 122.1871 - val_loss: 217.0823\n",
      "Epoch 76/100\n",
      "2/2 [==============================] - 0s 70ms/step - loss: 133.8266 - val_loss: 161.8269\n",
      "Epoch 77/100\n",
      "2/2 [==============================] - 0s 77ms/step - loss: 128.1317 - val_loss: 138.0665\n",
      "Epoch 78/100\n",
      "2/2 [==============================] - 0s 63ms/step - loss: 137.3411 - val_loss: 141.2516\n",
      "Epoch 79/100\n",
      "2/2 [==============================] - 0s 82ms/step - loss: 135.0659 - val_loss: 162.5008\n",
      "Epoch 80/100\n"
     ]
    },
    {
     "name": "stdout",
     "output_type": "stream",
     "text": [
      "2/2 [==============================] - 0s 66ms/step - loss: 123.9614 - val_loss: 212.2634\n",
      "Epoch 81/100\n",
      "2/2 [==============================] - 0s 91ms/step - loss: 119.9128 - val_loss: 301.2031\n",
      "Epoch 82/100\n",
      "2/2 [==============================] - 0s 79ms/step - loss: 132.1307 - val_loss: 391.0758\n",
      "Epoch 83/100\n",
      "2/2 [==============================] - 0s 75ms/step - loss: 153.5454 - val_loss: 263.5114\n",
      "Epoch 84/100\n",
      "2/2 [==============================] - 0s 72ms/step - loss: 123.4535 - val_loss: 153.1803\n",
      "Epoch 85/100\n",
      "2/2 [==============================] - 0s 70ms/step - loss: 137.5668 - val_loss: 119.8864\n",
      "Epoch 86/100\n",
      "2/2 [==============================] - 0s 69ms/step - loss: 131.3728 - val_loss: 131.8839\n",
      "Epoch 87/100\n",
      "2/2 [==============================] - 0s 74ms/step - loss: 135.4335 - val_loss: 148.8973\n",
      "Epoch 88/100\n",
      "2/2 [==============================] - 0s 65ms/step - loss: 122.7957 - val_loss: 235.7589\n",
      "Epoch 89/100\n",
      "2/2 [==============================] - 0s 64ms/step - loss: 125.7373 - val_loss: 353.1414\n",
      "Epoch 90/100\n",
      "2/2 [==============================] - 0s 73ms/step - loss: 148.2852 - val_loss: 261.7188\n",
      "Epoch 91/100\n",
      "2/2 [==============================] - 0s 78ms/step - loss: 120.9585 - val_loss: 177.2006\n",
      "Epoch 92/100\n",
      "2/2 [==============================] - 0s 77ms/step - loss: 134.6066 - val_loss: 142.5918\n",
      "Epoch 93/100\n",
      "2/2 [==============================] - 0s 96ms/step - loss: 126.2249 - val_loss: 153.8910\n",
      "Epoch 94/100\n",
      "2/2 [==============================] - 0s 125ms/step - loss: 129.9337 - val_loss: 175.5272\n",
      "Epoch 95/100\n",
      "2/2 [==============================] - 0s 85ms/step - loss: 124.2872 - val_loss: 211.8002\n",
      "Epoch 96/100\n",
      "2/2 [==============================] - 0s 84ms/step - loss: 119.7182 - val_loss: 186.3292\n",
      "Epoch 97/100\n",
      "2/2 [==============================] - 0s 65ms/step - loss: 127.5838 - val_loss: 138.2215\n",
      "Epoch 98/100\n",
      "2/2 [==============================] - 0s 78ms/step - loss: 123.0771 - val_loss: 116.0126\n",
      "Epoch 99/100\n",
      "2/2 [==============================] - 0s 68ms/step - loss: 131.0978 - val_loss: 112.7337\n",
      "Epoch 100/100\n",
      "2/2 [==============================] - 0s 67ms/step - loss: 129.5087 - val_loss: 136.0825\n"
     ]
    }
   ],
   "source": [
    "history = model.fit(X_train, y_train, epochs=100,\n",
    "                    validation_data=(X_valid, y_valid))"
   ]
  },
  {
   "cell_type": "markdown",
   "id": "643ae6a2",
   "metadata": {},
   "source": [
    "Plot the result"
   ]
  },
  {
   "cell_type": "code",
   "execution_count": 12,
   "id": "b6834c6d",
   "metadata": {},
   "outputs": [
    {
     "data": {
      "image/png": "[encoded data removed]",
      "text/plain": [
       "<Figure size 576x360 with 1 Axes>"
      ]
     },
     "metadata": {
      "needs_background": "light"
     },
     "output_type": "display_data"
    }
   ],
   "source": [
    "import pandas as pd\n",
    "\n",
    "pd.DataFrame(history.history).plot(figsize=(8, 5))\n",
    "plt.grid(True)\n",
    "# plt.gca().set_ylim(0, 1)\n",
    "plt.show()"
   ]
  },
  {
   "cell_type": "code",
   "execution_count": 13,
   "id": "5ed15fab",
   "metadata": {},
   "outputs": [
    {
     "data": {
      "image/png": "[encoded data removed]",
      "text/plain": [
       "<Figure size 432x288 with 1 Axes>"
      ]
     },
     "metadata": {
      "needs_background": "light"
     },
     "output_type": "display_data"
    }
   ],
   "source": [
    "# X_new = np.linspace(-5, 5, 100).reshape(100, 1)\n",
    "# y_new = model.predict(X_new)\n",
    "#\n",
    "plt.plot(X_train, y_train, \"b.\")\n",
    "# plt.plot(X_new, y_new, \"r-\", linewidth=2, label=\"Predictions\")\n",
    "draw_func(model.predict, mark='r-', linewidth=2, label=\"Predictions\")\n",
    "draw_normal_func(func_dict)\n",
    "plt.xlabel(\"$x_1$\", fontsize=18)\n",
    "plt.ylabel(\"$y$\", rotation=0, fontsize=18)\n",
    "plt.legend(loc=\"upper left\", fontsize=14)\n",
    "# plt.axis([-3, 3, 0, 10])\n",
    "plt.show()"
   ]
  },
  {
   "cell_type": "markdown",
   "id": "e2c12525",
   "metadata": {},
   "source": [
    "# Simulated CNN Feature Map (1-D, grids)"
   ]
  },
  {
   "cell_type": "code",
   "execution_count": 14,
   "id": "1174539f",
   "metadata": {},
   "outputs": [],
   "source": [
    "class num2grid(keras.layers.Layer):\n",
    "    def __init__(self, units, x_min=-10, x_max=10, sigma=1.0, activation=None, **kwargs):\n",
    "        super().__init__(**kwargs)\n",
    "        self.units = units\n",
    "        self.x_min = x_min\n",
    "        self.x_max = x_max\n",
    "        self.sigma = sigma\n",
    "        self.sigma2 = self.sigma**2\n",
    "        self.activation = keras.activations.get(activation)\n",
    "        \n",
    "    def build(self, batch_input_shape):\n",
    "        #\n",
    "        self.x_grid = np.linspace(self.x_min, self.x_max, self.units, endpoint=True)\n",
    "        #\n",
    "        super().build(batch_input_shape) # must be at the end\n",
    "        \n",
    "    def call(self, X):\n",
    "        gauss_grid = tf.exp( -(self.x_grid - X)**2 / (2.0*self.sigma2) )\n",
    "        return self.activation(gauss_grid)\n",
    "    \n",
    "    def compute_output_shape(self, batch_input_shape):\n",
    "        return tf.TensorShape(batch_input_shape.as_list()[:-1] + [self.units])\n",
    "    \n",
    "    def get_config(self):\n",
    "        base_config = super().get_config()\n",
    "        return {**base_config, \n",
    "                \"units\": self.units,\n",
    "                \"x_min\": self.x_min,\n",
    "                \"x_max\": self.x_max,\n",
    "                \"sigma\": self.sigma,\n",
    "                \"activation\": keras.activations.serialize(self.activation)}"
   ]
  },
  {
   "cell_type": "code",
   "execution_count": 15,
   "id": "d8cdd32c",
   "metadata": {},
   "outputs": [
    {
     "name": "stderr",
     "output_type": "stream",
     "text": [
      "/home/benson516/ml/my_env/lib/python3.6/site-packages/tensorflow/python/keras/optimizer_v2/optimizer_v2.py:375: UserWarning: The `lr` argument is deprecated, use `learning_rate` instead.\n",
      "  \"The `lr` argument is deprecated, use `learning_rate` instead.\")\n"
     ]
    }
   ],
   "source": [
    "model = keras.models.Sequential([\n",
    "    num2grid(5,x_min=-10, x_max=10, sigma=3.0, input_shape=X_train.shape[1:]),\n",
    "    keras.layers.Dense(30, activation=\"relu\"),\n",
    "#     keras.layers.Dense(30, activation=\"relu\"),\n",
    "    keras.layers.Dense(1)\n",
    "])\n",
    "\n",
    "optimizer = keras.optimizers.SGD(lr=0.001, momentum=0.9)\n",
    "model.compile(loss=\"mean_squared_error\", optimizer=optimizer)"
   ]
  },
  {
   "cell_type": "code",
   "execution_count": 16,
   "id": "db936824",
   "metadata": {
    "scrolled": true
   },
   "outputs": [
    {
     "name": "stdout",
     "output_type": "stream",
     "text": [
      "Epoch 1/100\n",
      "2/2 [==============================] - 1s 209ms/step - loss: 762.5320 - val_loss: 488.8299\n",
      "Epoch 2/100\n",
      "2/2 [==============================] - 0s 69ms/step - loss: 757.4811 - val_loss: 476.8984\n",
      "Epoch 3/100\n",
      "2/2 [==============================] - 0s 74ms/step - loss: 748.4581 - val_loss: 460.2912\n",
      "Epoch 4/100\n",
      "2/2 [==============================] - 0s 77ms/step - loss: 736.3380 - val_loss: 440.1820\n",
      "Epoch 5/100\n",
      "2/2 [==============================] - 0s 81ms/step - loss: 723.2560 - val_loss: 415.5625\n",
      "Epoch 6/100\n",
      "2/2 [==============================] - 0s 72ms/step - loss: 702.7635 - val_loss: 383.0278\n",
      "Epoch 7/100\n",
      "2/2 [==============================] - 0s 83ms/step - loss: 676.6924 - val_loss: 335.1838\n",
      "Epoch 8/100\n",
      "2/2 [==============================] - 0s 81ms/step - loss: 638.5863 - val_loss: 270.3992\n",
      "Epoch 9/100\n",
      "2/2 [==============================] - 0s 86ms/step - loss: 599.6158 - val_loss: 201.9471\n",
      "Epoch 10/100\n",
      "2/2 [==============================] - 0s 69ms/step - loss: 547.2313 - val_loss: 149.6279\n",
      "Epoch 11/100\n",
      "2/2 [==============================] - 0s 74ms/step - loss: 493.8233 - val_loss: 112.4925\n",
      "Epoch 12/100\n",
      "2/2 [==============================] - 0s 72ms/step - loss: 449.7857 - val_loss: 94.3306\n",
      "Epoch 13/100\n",
      "2/2 [==============================] - 0s 66ms/step - loss: 370.7086 - val_loss: 99.2307\n",
      "Epoch 14/100\n",
      "2/2 [==============================] - 0s 72ms/step - loss: 311.4138 - val_loss: 115.5304\n",
      "Epoch 15/100\n",
      "2/2 [==============================] - 0s 63ms/step - loss: 260.7750 - val_loss: 140.8739\n",
      "Epoch 16/100\n",
      "2/2 [==============================] - 0s 62ms/step - loss: 225.0242 - val_loss: 165.8761\n",
      "Epoch 17/100\n",
      "2/2 [==============================] - 0s 72ms/step - loss: 202.1775 - val_loss: 203.9377\n",
      "Epoch 18/100\n",
      "2/2 [==============================] - 0s 77ms/step - loss: 191.8762 - val_loss: 244.4993\n",
      "Epoch 19/100\n",
      "2/2 [==============================] - 0s 75ms/step - loss: 185.1337 - val_loss: 280.7616\n",
      "Epoch 20/100\n",
      "2/2 [==============================] - 0s 71ms/step - loss: 184.6301 - val_loss: 301.7838\n",
      "Epoch 21/100\n",
      "2/2 [==============================] - 0s 71ms/step - loss: 184.7100 - val_loss: 306.0171\n",
      "Epoch 22/100\n",
      "2/2 [==============================] - 0s 79ms/step - loss: 180.8164 - val_loss: 279.6284\n",
      "Epoch 23/100\n",
      "2/2 [==============================] - 0s 74ms/step - loss: 171.4742 - val_loss: 256.2358\n",
      "Epoch 24/100\n",
      "2/2 [==============================] - 0s 77ms/step - loss: 165.3009 - val_loss: 228.5996\n",
      "Epoch 25/100\n",
      "2/2 [==============================] - 0s 70ms/step - loss: 160.0647 - val_loss: 206.4353\n",
      "Epoch 26/100\n",
      "2/2 [==============================] - 0s 66ms/step - loss: 155.8396 - val_loss: 183.5547\n",
      "Epoch 27/100\n",
      "2/2 [==============================] - 0s 75ms/step - loss: 155.8056 - val_loss: 162.1774\n",
      "Epoch 28/100\n",
      "2/2 [==============================] - 0s 69ms/step - loss: 151.2779 - val_loss: 154.1227\n",
      "Epoch 29/100\n",
      "2/2 [==============================] - 0s 68ms/step - loss: 149.7095 - val_loss: 147.9062\n",
      "Epoch 30/100\n",
      "2/2 [==============================] - 0s 73ms/step - loss: 147.4659 - val_loss: 140.4794\n",
      "Epoch 31/100\n",
      "2/2 [==============================] - 0s 75ms/step - loss: 146.2431 - val_loss: 137.5225\n",
      "Epoch 32/100\n",
      "2/2 [==============================] - 0s 72ms/step - loss: 143.7286 - val_loss: 151.0207\n",
      "Epoch 33/100\n",
      "2/2 [==============================] - 0s 65ms/step - loss: 139.3499 - val_loss: 180.7387\n",
      "Epoch 34/100\n",
      "2/2 [==============================] - 0s 70ms/step - loss: 140.0958 - val_loss: 205.2312\n",
      "Epoch 35/100\n",
      "2/2 [==============================] - 0s 78ms/step - loss: 137.3972 - val_loss: 206.7461\n",
      "Epoch 36/100\n",
      "2/2 [==============================] - 0s 88ms/step - loss: 134.4411 - val_loss: 208.6493\n",
      "Epoch 37/100\n",
      "2/2 [==============================] - 0s 79ms/step - loss: 133.3128 - val_loss: 209.0935\n",
      "Epoch 38/100\n",
      "2/2 [==============================] - 0s 93ms/step - loss: 131.2216 - val_loss: 206.0643\n",
      "Epoch 39/100\n",
      "2/2 [==============================] - 0s 73ms/step - loss: 130.0944 - val_loss: 206.6056\n",
      "Epoch 40/100\n",
      "2/2 [==============================] - 0s 69ms/step - loss: 128.7818 - val_loss: 202.5415\n",
      "Epoch 41/100\n",
      "2/2 [==============================] - 0s 68ms/step - loss: 127.9214 - val_loss: 193.0076\n",
      "Epoch 42/100\n",
      "2/2 [==============================] - 0s 72ms/step - loss: 126.9102 - val_loss: 189.8483\n",
      "Epoch 43/100\n",
      "2/2 [==============================] - 0s 78ms/step - loss: 127.5468 - val_loss: 192.1631\n",
      "Epoch 44/100\n",
      "2/2 [==============================] - 0s 82ms/step - loss: 127.3529 - val_loss: 201.8080\n",
      "Epoch 45/100\n",
      "2/2 [==============================] - 0s 78ms/step - loss: 126.4486 - val_loss: 186.5542\n",
      "Epoch 46/100\n",
      "2/2 [==============================] - 0s 80ms/step - loss: 125.5914 - val_loss: 167.0265\n",
      "Epoch 47/100\n",
      "2/2 [==============================] - 0s 72ms/step - loss: 126.6653 - val_loss: 166.7280\n",
      "Epoch 48/100\n",
      "2/2 [==============================] - 0s 72ms/step - loss: 126.5846 - val_loss: 187.5420\n",
      "Epoch 49/100\n",
      "2/2 [==============================] - 0s 71ms/step - loss: 124.2717 - val_loss: 222.8898\n",
      "Epoch 50/100\n",
      "2/2 [==============================] - 0s 68ms/step - loss: 125.3849 - val_loss: 261.3221\n",
      "Epoch 51/100\n",
      "2/2 [==============================] - 0s 68ms/step - loss: 133.1974 - val_loss: 274.0848\n",
      "Epoch 52/100\n",
      "2/2 [==============================] - 0s 77ms/step - loss: 133.5880 - val_loss: 249.6709\n",
      "Epoch 53/100\n",
      "2/2 [==============================] - 0s 66ms/step - loss: 127.2629 - val_loss: 219.0617\n",
      "Epoch 54/100\n",
      "2/2 [==============================] - 0s 77ms/step - loss: 124.6310 - val_loss: 174.9095\n",
      "Epoch 55/100\n",
      "2/2 [==============================] - 0s 83ms/step - loss: 131.9209 - val_loss: 144.2122\n",
      "Epoch 56/100\n",
      "2/2 [==============================] - 0s 73ms/step - loss: 132.1055 - val_loss: 147.7923\n",
      "Epoch 57/100\n",
      "2/2 [==============================] - 0s 74ms/step - loss: 126.6295 - val_loss: 164.1586\n",
      "Epoch 58/100\n",
      "2/2 [==============================] - 0s 90ms/step - loss: 124.1845 - val_loss: 166.4044\n",
      "Epoch 59/100\n",
      "2/2 [==============================] - 0s 82ms/step - loss: 126.1172 - val_loss: 160.9528\n",
      "Epoch 60/100\n",
      "2/2 [==============================] - 0s 82ms/step - loss: 128.0991 - val_loss: 164.5293\n",
      "Epoch 61/100\n",
      "2/2 [==============================] - 0s 77ms/step - loss: 127.3528 - val_loss: 162.9467\n",
      "Epoch 62/100\n",
      "2/2 [==============================] - 0s 75ms/step - loss: 122.2594 - val_loss: 151.2342\n",
      "Epoch 63/100\n",
      "2/2 [==============================] - 0s 69ms/step - loss: 124.5303 - val_loss: 145.9718\n",
      "Epoch 64/100\n",
      "2/2 [==============================] - 0s 82ms/step - loss: 131.9444 - val_loss: 144.0199\n",
      "Epoch 65/100\n",
      "2/2 [==============================] - 0s 80ms/step - loss: 133.5415 - val_loss: 159.9107\n",
      "Epoch 66/100\n",
      "2/2 [==============================] - 0s 80ms/step - loss: 125.0259 - val_loss: 185.1126\n",
      "Epoch 67/100\n",
      "2/2 [==============================] - 0s 79ms/step - loss: 125.5031 - val_loss: 200.1849\n",
      "Epoch 68/100\n",
      "2/2 [==============================] - 0s 74ms/step - loss: 124.4990 - val_loss: 182.0861\n",
      "Epoch 69/100\n",
      "2/2 [==============================] - 0s 72ms/step - loss: 124.2120 - val_loss: 165.3715\n",
      "Epoch 70/100\n",
      "2/2 [==============================] - 0s 99ms/step - loss: 123.3077 - val_loss: 155.1268\n",
      "Epoch 71/100\n",
      "2/2 [==============================] - 0s 68ms/step - loss: 123.9238 - val_loss: 149.2186\n",
      "Epoch 72/100\n",
      "2/2 [==============================] - 0s 62ms/step - loss: 123.8086 - val_loss: 153.1410\n",
      "Epoch 73/100\n",
      "2/2 [==============================] - 0s 76ms/step - loss: 123.7451 - val_loss: 173.5100\n",
      "Epoch 74/100\n",
      "2/2 [==============================] - 0s 61ms/step - loss: 121.1403 - val_loss: 213.4154\n",
      "Epoch 75/100\n",
      "2/2 [==============================] - 0s 72ms/step - loss: 122.0036 - val_loss: 266.3350\n",
      "Epoch 76/100\n",
      "2/2 [==============================] - 0s 66ms/step - loss: 131.0257 - val_loss: 294.9328\n",
      "Epoch 77/100\n",
      "2/2 [==============================] - 0s 79ms/step - loss: 134.7049 - val_loss: 258.1385\n",
      "Epoch 78/100\n",
      "2/2 [==============================] - 0s 80ms/step - loss: 123.5726 - val_loss: 179.9320\n",
      "Epoch 79/100\n",
      "2/2 [==============================] - 0s 74ms/step - loss: 130.6418 - val_loss: 131.9099\n",
      "Epoch 80/100\n"
     ]
    },
    {
     "name": "stdout",
     "output_type": "stream",
     "text": [
      "2/2 [==============================] - 0s 70ms/step - loss: 129.2166 - val_loss: 127.4489\n",
      "Epoch 81/100\n",
      "2/2 [==============================] - 0s 73ms/step - loss: 126.2492 - val_loss: 142.6365\n",
      "Epoch 82/100\n",
      "2/2 [==============================] - 0s 59ms/step - loss: 124.2711 - val_loss: 171.6082\n",
      "Epoch 83/100\n",
      "2/2 [==============================] - 0s 71ms/step - loss: 126.6043 - val_loss: 182.0171\n",
      "Epoch 84/100\n",
      "2/2 [==============================] - 0s 95ms/step - loss: 125.8748 - val_loss: 175.6944\n",
      "Epoch 85/100\n",
      "2/2 [==============================] - 0s 66ms/step - loss: 121.9892 - val_loss: 176.3984\n",
      "Epoch 86/100\n",
      "2/2 [==============================] - 0s 61ms/step - loss: 121.1108 - val_loss: 190.2310\n",
      "Epoch 87/100\n",
      "2/2 [==============================] - 0s 67ms/step - loss: 122.5062 - val_loss: 212.7103\n",
      "Epoch 88/100\n",
      "2/2 [==============================] - 0s 66ms/step - loss: 125.0178 - val_loss: 215.8210\n",
      "Epoch 89/100\n",
      "2/2 [==============================] - 0s 65ms/step - loss: 122.1577 - val_loss: 190.4955\n",
      "Epoch 90/100\n",
      "2/2 [==============================] - 0s 71ms/step - loss: 119.9792 - val_loss: 158.4383\n",
      "Epoch 91/100\n",
      "2/2 [==============================] - 0s 86ms/step - loss: 120.6383 - val_loss: 127.4920\n",
      "Epoch 92/100\n",
      "2/2 [==============================] - 0s 87ms/step - loss: 125.0152 - val_loss: 109.7336\n",
      "Epoch 93/100\n",
      "2/2 [==============================] - 0s 86ms/step - loss: 128.8826 - val_loss: 110.2008\n",
      "Epoch 94/100\n",
      "2/2 [==============================] - 0s 69ms/step - loss: 129.6066 - val_loss: 122.6234\n",
      "Epoch 95/100\n",
      "2/2 [==============================] - 0s 76ms/step - loss: 129.0466 - val_loss: 142.5230\n",
      "Epoch 96/100\n",
      "2/2 [==============================] - 0s 71ms/step - loss: 128.8089 - val_loss: 165.5110\n",
      "Epoch 97/100\n",
      "2/2 [==============================] - 0s 71ms/step - loss: 126.2130 - val_loss: 177.4301\n",
      "Epoch 98/100\n",
      "2/2 [==============================] - 0s 74ms/step - loss: 122.8977 - val_loss: 184.1364\n",
      "Epoch 99/100\n",
      "2/2 [==============================] - 0s 65ms/step - loss: 121.5368 - val_loss: 195.3720\n",
      "Epoch 100/100\n",
      "2/2 [==============================] - 0s 78ms/step - loss: 124.0487 - val_loss: 198.8755\n"
     ]
    }
   ],
   "source": [
    "history = model.fit(X_train, y_train, epochs=100,\n",
    "                    validation_data=(X_valid, y_valid))"
   ]
  },
  {
   "cell_type": "code",
   "execution_count": 17,
   "id": "3ee35b3c",
   "metadata": {},
   "outputs": [
    {
     "data": {
      "image/png": "[encoded data removed]",
      "text/plain": [
       "<Figure size 576x360 with 1 Axes>"
      ]
     },
     "metadata": {
      "needs_background": "light"
     },
     "output_type": "display_data"
    }
   ],
   "source": [
    "import pandas as pd\n",
    "\n",
    "pd.DataFrame(history.history).plot(figsize=(8, 5))\n",
    "plt.grid(True)\n",
    "# plt.gca().set_ylim(0, 1)\n",
    "plt.show()"
   ]
  },
  {
   "cell_type": "code",
   "execution_count": 18,
   "id": "12e105f6",
   "metadata": {},
   "outputs": [
    {
     "data": {
      "image/png": "[encoded data removed]",
      "text/plain": [
       "<Figure size 432x288 with 1 Axes>"
      ]
     },
     "metadata": {
      "needs_background": "light"
     },
     "output_type": "display_data"
    }
   ],
   "source": [
    "# X_new = np.linspace(-5, 5, 100).reshape(100, 1)\n",
    "# y_new = model.predict(X_new)\n",
    "#\n",
    "plt.plot(X_train, y_train, \"b.\")\n",
    "# plt.plot(X_new, y_new, \"r-\", linewidth=2, label=\"Predictions\")\n",
    "draw_func(model.predict, mark='r-', linewidth=2, label=\"Predictions\")\n",
    "draw_normal_func(func_dict)\n",
    "plt.xlabel(\"$x_1$\", fontsize=18)\n",
    "plt.ylabel(\"$y$\", rotation=0, fontsize=18)\n",
    "plt.legend(loc=\"upper left\", fontsize=14)\n",
    "# plt.axis([-3, 3, 0, 10])\n",
    "plt.show()"
   ]
  },
  {
   "cell_type": "markdown",
   "id": "7357d8ae",
   "metadata": {},
   "source": [
    "# Regression by Classification"
   ]
  },
  {
   "cell_type": "code",
   "execution_count": 19,
   "id": "608f838e",
   "metadata": {},
   "outputs": [],
   "source": [
    "class num2grid_np():\n",
    "    def __init__(self, units, x_min=-10, x_max=10, sigma=1.0):\n",
    "        self.units = units\n",
    "        self.x_min = x_min\n",
    "        self.x_max = x_max\n",
    "        self.sigma = sigma\n",
    "        self.sigma2 = self.sigma**2\n",
    "        self.x_grid = np.linspace(self.x_min, self.x_max, self.units, endpoint=True)\n",
    "        print(\"self.x_grid = %s\" % str(self.x_grid))\n",
    "        \n",
    "    def convert(self, X):\n",
    "        gauss_grid = np.exp( -(self.x_grid - X)**2 / (2.0*self.sigma2) )\n",
    "        if len(gauss_grid.shape) == 1:\n",
    "            gauss_grid = gauss_grid.reshape([1,-1])\n",
    "        grid_sum = np.sum(gauss_grid, axis=1, keepdims=True)\n",
    "        gauss_grid = gauss_grid / grid_sum\n",
    "        return gauss_grid\n",
    "    \n",
    "    def inv_convert(self, grid):\n",
    "        if len(grid.shape) == 1:\n",
    "            grid = grid.reshape([1,-1])\n",
    "        grid_sum = np.sum(grid, axis=1)\n",
    "#         print(grid_sum)\n",
    "        exp_num = np.sum((self.x_grid * grid), axis=1) / grid_sum # element-wise\n",
    "        return exp_num"
   ]
  },
  {
   "cell_type": "code",
   "execution_count": 20,
   "id": "0b813952",
   "metadata": {},
   "outputs": [
    {
     "name": "stdout",
     "output_type": "stream",
     "text": [
      "self.x_grid = [-100.          -95.91836735  -91.83673469  -87.75510204  -83.67346939\n",
      "  -79.59183673  -75.51020408  -71.42857143  -67.34693878  -63.26530612\n",
      "  -59.18367347  -55.10204082  -51.02040816  -46.93877551  -42.85714286\n",
      "  -38.7755102   -34.69387755  -30.6122449   -26.53061224  -22.44897959\n",
      "  -18.36734694  -14.28571429  -10.20408163   -6.12244898   -2.04081633\n",
      "    2.04081633    6.12244898   10.20408163   14.28571429   18.36734694\n",
      "   22.44897959   26.53061224   30.6122449    34.69387755   38.7755102\n",
      "   42.85714286   46.93877551   51.02040816   55.10204082   59.18367347\n",
      "   63.26530612   67.34693878   71.42857143   75.51020408   79.59183673\n",
      "   83.67346939   87.75510204   91.83673469   95.91836735  100.        ]\n"
     ]
    }
   ],
   "source": [
    "# class_num = 10 # 10\n",
    "# n2g = num2grid_np(class_num, x_min=-100.0, x_max=100.0, sigma=20.0) \n",
    "class_num = 50\n",
    "n2g = num2grid_np(class_num, x_min=-100.0, x_max=100.0, sigma=5.0) # 5.0 "
   ]
  },
  {
   "cell_type": "code",
   "execution_count": 21,
   "id": "b2c89605",
   "metadata": {},
   "outputs": [
    {
     "name": "stdout",
     "output_type": "stream",
     "text": [
      "[[5.32087956e-86 3.86113319e-79 1.43892139e-72 2.75391345e-66\n",
      "  2.70678923e-60 1.36631087e-54 3.54189384e-49 4.71533431e-44\n",
      "  3.22389115e-39 1.13198112e-34 2.04121584e-30 1.89029511e-26\n",
      "  8.99003166e-23 2.19575442e-19 2.75421121e-16 1.77419623e-13\n",
      "  5.86944439e-11 9.97202289e-09 8.70082579e-07 3.89877895e-05\n",
      "  8.97196734e-04 1.06032179e-02 6.43544562e-02 2.00590561e-01\n",
      "  3.21094817e-01 2.63965415e-01 1.11442718e-01 2.41628020e-02\n",
      "  2.69050515e-03 1.53854886e-04 4.51834812e-06 6.81457879e-08\n",
      "  5.27824177e-10 2.09957055e-12 4.28906472e-15 4.49972175e-18\n",
      "  2.42437419e-21 6.70817796e-25 9.53235992e-29 6.95644285e-33\n",
      "  2.60714354e-37 5.01803398e-42 4.96013143e-47 2.51793030e-52\n",
      "  6.56425064e-58 8.78855631e-64 6.04283668e-70 2.13380686e-76\n",
      "  3.86954844e-83 3.60376450e-90]]\n"
     ]
    }
   ],
   "source": [
    "grid_1 = n2g.convert(-1.2)\n",
    "print(grid_1)"
   ]
  },
  {
   "cell_type": "code",
   "execution_count": 22,
   "id": "4218fb66",
   "metadata": {},
   "outputs": [
    {
     "data": {
      "text/plain": [
       "array([-1.2])"
      ]
     },
     "execution_count": 22,
     "metadata": {},
     "output_type": "execute_result"
    }
   ],
   "source": [
    "n2g.inv_convert(grid_1)"
   ]
  },
  {
   "cell_type": "markdown",
   "id": "b176cbb4",
   "metadata": {},
   "source": [
    "### Convert the labels to grid (pre-processing)"
   ]
  },
  {
   "cell_type": "code",
   "execution_count": 23,
   "id": "e0a534c4",
   "metadata": {},
   "outputs": [],
   "source": [
    "y_train_grid = n2g.convert(y_train)\n",
    "y_valid_grid = n2g.convert(y_valid)"
   ]
  },
  {
   "cell_type": "code",
   "execution_count": 24,
   "id": "dacee0c0",
   "metadata": {},
   "outputs": [
    {
     "name": "stdout",
     "output_type": "stream",
     "text": [
      "(40, 50)\n",
      "(10, 50)\n"
     ]
    }
   ],
   "source": [
    "print(y_train_grid.shape)\n",
    "print(y_valid_grid.shape)"
   ]
  },
  {
   "cell_type": "code",
   "execution_count": 25,
   "id": "f389eda4",
   "metadata": {},
   "outputs": [
    {
     "name": "stderr",
     "output_type": "stream",
     "text": [
      "/home/benson516/ml/my_env/lib/python3.6/site-packages/tensorflow/python/keras/optimizer_v2/optimizer_v2.py:375: UserWarning: The `lr` argument is deprecated, use `learning_rate` instead.\n",
      "  \"The `lr` argument is deprecated, use `learning_rate` instead.\")\n"
     ]
    }
   ],
   "source": [
    "model = keras.models.Sequential([\n",
    "#     keras.layers.Dense(30, activation=\"relu\", input_shape=X_train.shape[1:]),\n",
    "    num2grid(5,x_min=-10, x_max=10, sigma=3.0, input_shape=X_train.shape[1:]),\n",
    "    keras.layers.Dense(30, activation=\"relu\"),\n",
    "    keras.layers.Dense(class_num, activation=\"softmax\"),\n",
    "])\n",
    "\n",
    "optimizer = keras.optimizers.SGD(lr=0.1, momentum=0.9)\n",
    "model.compile(loss=\"categorical_crossentropy\", optimizer=optimizer)"
   ]
  },
  {
   "cell_type": "code",
   "execution_count": 26,
   "id": "296dcf4c",
   "metadata": {
    "scrolled": true
   },
   "outputs": [
    {
     "name": "stdout",
     "output_type": "stream",
     "text": [
      "Epoch 1/100\n",
      "2/2 [==============================] - 1s 279ms/step - loss: 3.9246 - val_loss: 3.9540\n",
      "Epoch 2/100\n",
      "2/2 [==============================] - 0s 70ms/step - loss: 3.8977 - val_loss: 3.9017\n",
      "Epoch 3/100\n",
      "2/2 [==============================] - 0s 75ms/step - loss: 3.8484 - val_loss: 3.8289\n",
      "Epoch 4/100\n",
      "2/2 [==============================] - 0s 73ms/step - loss: 3.7847 - val_loss: 3.7404\n",
      "Epoch 5/100\n",
      "2/2 [==============================] - 0s 68ms/step - loss: 3.7084 - val_loss: 3.6389\n",
      "Epoch 6/100\n",
      "2/2 [==============================] - 0s 78ms/step - loss: 3.6231 - val_loss: 3.5257\n",
      "Epoch 7/100\n",
      "2/2 [==============================] - 0s 81ms/step - loss: 3.5223 - val_loss: 3.3974\n",
      "Epoch 8/100\n",
      "2/2 [==============================] - 0s 73ms/step - loss: 3.4097 - val_loss: 3.2590\n",
      "Epoch 9/100\n",
      "2/2 [==============================] - 0s 78ms/step - loss: 3.3041 - val_loss: 3.1432\n",
      "Epoch 10/100\n",
      "2/2 [==============================] - 0s 67ms/step - loss: 3.2280 - val_loss: 3.0620\n",
      "Epoch 11/100\n",
      "2/2 [==============================] - 0s 68ms/step - loss: 3.1675 - val_loss: 2.9955\n",
      "Epoch 12/100\n",
      "2/2 [==============================] - 0s 74ms/step - loss: 3.1412 - val_loss: 2.9291\n",
      "Epoch 13/100\n",
      "2/2 [==============================] - 0s 74ms/step - loss: 3.1086 - val_loss: 2.8755\n",
      "Epoch 14/100\n",
      "2/2 [==============================] - 0s 67ms/step - loss: 3.0629 - val_loss: 2.8568\n",
      "Epoch 15/100\n",
      "2/2 [==============================] - 0s 67ms/step - loss: 3.0058 - val_loss: 2.8484\n",
      "Epoch 16/100\n",
      "2/2 [==============================] - 0s 86ms/step - loss: 2.9650 - val_loss: 2.8194\n",
      "Epoch 17/100\n",
      "2/2 [==============================] - 0s 83ms/step - loss: 2.9241 - val_loss: 2.7882\n",
      "Epoch 18/100\n",
      "2/2 [==============================] - 0s 79ms/step - loss: 2.8961 - val_loss: 2.7441\n",
      "Epoch 19/100\n",
      "2/2 [==============================] - 0s 71ms/step - loss: 2.8654 - val_loss: 2.6742\n",
      "Epoch 20/100\n",
      "2/2 [==============================] - 0s 64ms/step - loss: 2.8475 - val_loss: 2.6318\n",
      "Epoch 21/100\n",
      "2/2 [==============================] - 0s 72ms/step - loss: 2.8305 - val_loss: 2.6478\n",
      "Epoch 22/100\n",
      "2/2 [==============================] - 0s 61ms/step - loss: 2.8008 - val_loss: 2.7096\n",
      "Epoch 23/100\n",
      "2/2 [==============================] - 0s 76ms/step - loss: 2.7703 - val_loss: 2.7611\n",
      "Epoch 24/100\n",
      "2/2 [==============================] - 0s 80ms/step - loss: 2.7378 - val_loss: 2.7862\n",
      "Epoch 25/100\n",
      "2/2 [==============================] - 0s 64ms/step - loss: 2.7080 - val_loss: 2.7802\n",
      "Epoch 26/100\n",
      "2/2 [==============================] - 0s 62ms/step - loss: 2.6798 - val_loss: 2.7724\n",
      "Epoch 27/100\n",
      "2/2 [==============================] - 0s 63ms/step - loss: 2.6643 - val_loss: 2.8043\n",
      "Epoch 28/100\n",
      "2/2 [==============================] - 0s 73ms/step - loss: 2.6517 - val_loss: 2.8474\n",
      "Epoch 29/100\n",
      "2/2 [==============================] - 0s 81ms/step - loss: 2.6313 - val_loss: 2.8784\n",
      "Epoch 30/100\n",
      "2/2 [==============================] - 0s 71ms/step - loss: 2.6100 - val_loss: 2.9198\n",
      "Epoch 31/100\n",
      "2/2 [==============================] - 0s 68ms/step - loss: 2.5884 - val_loss: 2.9540\n",
      "Epoch 32/100\n",
      "2/2 [==============================] - 0s 78ms/step - loss: 2.5787 - val_loss: 2.9479\n",
      "Epoch 33/100\n",
      "2/2 [==============================] - 0s 77ms/step - loss: 2.5640 - val_loss: 2.9022\n",
      "Epoch 34/100\n",
      "2/2 [==============================] - 0s 76ms/step - loss: 2.5517 - val_loss: 2.8435\n",
      "Epoch 35/100\n",
      "2/2 [==============================] - 0s 87ms/step - loss: 2.5401 - val_loss: 2.8001\n",
      "Epoch 36/100\n",
      "2/2 [==============================] - 0s 81ms/step - loss: 2.5277 - val_loss: 2.8067\n",
      "Epoch 37/100\n",
      "2/2 [==============================] - 0s 78ms/step - loss: 2.5190 - val_loss: 2.8482\n",
      "Epoch 38/100\n",
      "2/2 [==============================] - 0s 84ms/step - loss: 2.5101 - val_loss: 2.8657\n",
      "Epoch 39/100\n",
      "2/2 [==============================] - 0s 83ms/step - loss: 2.5039 - val_loss: 2.8541\n",
      "Epoch 40/100\n",
      "2/2 [==============================] - 0s 86ms/step - loss: 2.4944 - val_loss: 2.8625\n",
      "Epoch 41/100\n",
      "2/2 [==============================] - 0s 87ms/step - loss: 2.4848 - val_loss: 2.8699\n",
      "Epoch 42/100\n",
      "2/2 [==============================] - 0s 75ms/step - loss: 2.4772 - val_loss: 2.8830\n",
      "Epoch 43/100\n",
      "2/2 [==============================] - 0s 94ms/step - loss: 2.4735 - val_loss: 2.8386\n",
      "Epoch 44/100\n",
      "2/2 [==============================] - 0s 91ms/step - loss: 2.4669 - val_loss: 2.7675\n",
      "Epoch 45/100\n",
      "2/2 [==============================] - 0s 79ms/step - loss: 2.4575 - val_loss: 2.7517\n",
      "Epoch 46/100\n",
      "2/2 [==============================] - 0s 87ms/step - loss: 2.4529 - val_loss: 2.7265\n",
      "Epoch 47/100\n",
      "2/2 [==============================] - 0s 83ms/step - loss: 2.4557 - val_loss: 2.6654\n",
      "Epoch 48/100\n",
      "2/2 [==============================] - 0s 78ms/step - loss: 2.4603 - val_loss: 2.6497\n",
      "Epoch 49/100\n",
      "2/2 [==============================] - 0s 83ms/step - loss: 2.4522 - val_loss: 2.7220\n",
      "Epoch 50/100\n",
      "2/2 [==============================] - 0s 72ms/step - loss: 2.4417 - val_loss: 2.8335\n",
      "Epoch 51/100\n",
      "2/2 [==============================] - 0s 74ms/step - loss: 2.4388 - val_loss: 2.9118\n",
      "Epoch 52/100\n",
      "2/2 [==============================] - 0s 70ms/step - loss: 2.4410 - val_loss: 2.9220\n",
      "Epoch 53/100\n",
      "2/2 [==============================] - 0s 88ms/step - loss: 2.4354 - val_loss: 2.8464\n",
      "Epoch 54/100\n",
      "2/2 [==============================] - 0s 82ms/step - loss: 2.4252 - val_loss: 2.7141\n",
      "Epoch 55/100\n",
      "2/2 [==============================] - 0s 96ms/step - loss: 2.4165 - val_loss: 2.6145\n",
      "Epoch 56/100\n",
      "2/2 [==============================] - 0s 83ms/step - loss: 2.4214 - val_loss: 2.5688\n",
      "Epoch 57/100\n",
      "2/2 [==============================] - 0s 80ms/step - loss: 2.4249 - val_loss: 2.5817\n",
      "Epoch 58/100\n",
      "2/2 [==============================] - 0s 79ms/step - loss: 2.4208 - val_loss: 2.6681\n",
      "Epoch 59/100\n",
      "2/2 [==============================] - 0s 77ms/step - loss: 2.4231 - val_loss: 2.7627\n",
      "Epoch 60/100\n",
      "2/2 [==============================] - 0s 76ms/step - loss: 2.4179 - val_loss: 2.7627\n",
      "Epoch 61/100\n",
      "2/2 [==============================] - 0s 83ms/step - loss: 2.4086 - val_loss: 2.7442\n",
      "Epoch 62/100\n",
      "2/2 [==============================] - 0s 76ms/step - loss: 2.4065 - val_loss: 2.6942\n",
      "Epoch 63/100\n",
      "2/2 [==============================] - 0s 74ms/step - loss: 2.4118 - val_loss: 2.6420\n",
      "Epoch 64/100\n",
      "2/2 [==============================] - 0s 71ms/step - loss: 2.4000 - val_loss: 2.7146\n",
      "Epoch 65/100\n",
      "2/2 [==============================] - 0s 70ms/step - loss: 2.3861 - val_loss: 2.8588\n",
      "Epoch 66/100\n",
      "2/2 [==============================] - 0s 73ms/step - loss: 2.3883 - val_loss: 3.0113\n",
      "Epoch 67/100\n",
      "2/2 [==============================] - 0s 68ms/step - loss: 2.4044 - val_loss: 3.0694\n",
      "Epoch 68/100\n",
      "2/2 [==============================] - 0s 71ms/step - loss: 2.4096 - val_loss: 3.0161\n",
      "Epoch 69/100\n",
      "2/2 [==============================] - 0s 71ms/step - loss: 2.4077 - val_loss: 2.9090\n",
      "Epoch 70/100\n",
      "2/2 [==============================] - 0s 66ms/step - loss: 2.4040 - val_loss: 2.8809\n",
      "Epoch 71/100\n",
      "2/2 [==============================] - 0s 78ms/step - loss: 2.3952 - val_loss: 2.8824\n",
      "Epoch 72/100\n",
      "2/2 [==============================] - 0s 72ms/step - loss: 2.3805 - val_loss: 2.8110\n",
      "Epoch 73/100\n",
      "2/2 [==============================] - 0s 67ms/step - loss: 2.3751 - val_loss: 2.7327\n",
      "Epoch 74/100\n",
      "2/2 [==============================] - 0s 69ms/step - loss: 2.3762 - val_loss: 2.6970\n",
      "Epoch 75/100\n",
      "2/2 [==============================] - 0s 75ms/step - loss: 2.3684 - val_loss: 2.7155\n",
      "Epoch 76/100\n",
      "2/2 [==============================] - 0s 72ms/step - loss: 2.3621 - val_loss: 2.7759\n",
      "Epoch 77/100\n",
      "2/2 [==============================] - 0s 86ms/step - loss: 2.3568 - val_loss: 2.8501\n",
      "Epoch 78/100\n",
      "2/2 [==============================] - 0s 77ms/step - loss: 2.3608 - val_loss: 2.8651\n",
      "Epoch 79/100\n",
      "2/2 [==============================] - 0s 74ms/step - loss: 2.3606 - val_loss: 2.7889\n",
      "Epoch 80/100\n",
      "2/2 [==============================] - 0s 88ms/step - loss: 2.3492 - val_loss: 2.6901\n",
      "Epoch 81/100\n",
      "2/2 [==============================] - 0s 79ms/step - loss: 2.3502 - val_loss: 2.6198\n",
      "Epoch 82/100\n",
      "2/2 [==============================] - 0s 75ms/step - loss: 2.3558 - val_loss: 2.6092\n",
      "Epoch 83/100\n",
      "2/2 [==============================] - 0s 79ms/step - loss: 2.3641 - val_loss: 2.6351\n"
     ]
    },
    {
     "name": "stdout",
     "output_type": "stream",
     "text": [
      "Epoch 84/100\n",
      "2/2 [==============================] - 0s 83ms/step - loss: 2.3750 - val_loss: 2.6879\n",
      "Epoch 85/100\n",
      "2/2 [==============================] - 0s 75ms/step - loss: 2.3787 - val_loss: 2.7542\n",
      "Epoch 86/100\n",
      "2/2 [==============================] - 0s 76ms/step - loss: 2.3588 - val_loss: 2.8529\n",
      "Epoch 87/100\n",
      "2/2 [==============================] - 0s 65ms/step - loss: 2.3424 - val_loss: 2.9397\n",
      "Epoch 88/100\n",
      "2/2 [==============================] - 0s 61ms/step - loss: 2.3634 - val_loss: 2.9275\n",
      "Epoch 89/100\n",
      "2/2 [==============================] - 0s 82ms/step - loss: 2.3824 - val_loss: 2.7940\n",
      "Epoch 90/100\n",
      "2/2 [==============================] - 0s 73ms/step - loss: 2.3789 - val_loss: 2.6776\n",
      "Epoch 91/100\n",
      "2/2 [==============================] - 0s 79ms/step - loss: 2.3755 - val_loss: 2.6048\n",
      "Epoch 92/100\n",
      "2/2 [==============================] - 0s 70ms/step - loss: 2.3677 - val_loss: 2.6028\n",
      "Epoch 93/100\n",
      "2/2 [==============================] - 0s 73ms/step - loss: 2.3603 - val_loss: 2.6683\n",
      "Epoch 94/100\n",
      "2/2 [==============================] - 0s 73ms/step - loss: 2.3425 - val_loss: 2.7649\n",
      "Epoch 95/100\n",
      "2/2 [==============================] - 0s 80ms/step - loss: 2.3462 - val_loss: 2.8094\n",
      "Epoch 96/100\n",
      "2/2 [==============================] - 0s 80ms/step - loss: 2.3392 - val_loss: 2.7410\n",
      "Epoch 97/100\n",
      "2/2 [==============================] - 0s 74ms/step - loss: 2.3415 - val_loss: 2.6851\n",
      "Epoch 98/100\n",
      "2/2 [==============================] - 0s 61ms/step - loss: 2.3342 - val_loss: 2.7211\n",
      "Epoch 99/100\n",
      "2/2 [==============================] - 0s 64ms/step - loss: 2.3281 - val_loss: 2.7457\n",
      "Epoch 100/100\n",
      "2/2 [==============================] - 0s 82ms/step - loss: 2.3239 - val_loss: 2.7348\n"
     ]
    }
   ],
   "source": [
    "history = model.fit(X_train, y_train_grid, epochs=100,\n",
    "                    validation_data=(X_valid, y_valid_grid))"
   ]
  },
  {
   "cell_type": "code",
   "execution_count": 27,
   "id": "fd46e5cb",
   "metadata": {},
   "outputs": [
    {
     "data": {
      "image/png": "[encoded data removed]",
      "text/plain": [
       "<Figure size 576x360 with 1 Axes>"
      ]
     },
     "metadata": {
      "needs_background": "light"
     },
     "output_type": "display_data"
    }
   ],
   "source": [
    "import pandas as pd\n",
    "\n",
    "pd.DataFrame(history.history).plot(figsize=(8, 5))\n",
    "plt.grid(True)\n",
    "# plt.gca().set_ylim(0, 1)\n",
    "plt.show()"
   ]
  },
  {
   "cell_type": "code",
   "execution_count": 28,
   "id": "c92f5ab5",
   "metadata": {},
   "outputs": [
    {
     "data": {
      "image/png": "[encoded data removed]",
      "text/plain": [
       "<Figure size 432x288 with 1 Axes>"
      ]
     },
     "metadata": {
      "needs_background": "light"
     },
     "output_type": "display_data"
    }
   ],
   "source": [
    "# X_new = np.linspace(-5, 5, 100).reshape(100, 1)\n",
    "# y_new_proba = model.predict(X_new)\n",
    "# y_new = n2g.inv_convert(y_new_proba)\n",
    "#\n",
    "plt.plot(X_train, y_train, \"b.\")\n",
    "# plt.plot(X_new, y_new, \"r-\", linewidth=2, label=\"Predictions\")\n",
    "draw_func((lambda X: n2g.inv_convert(model.predict(X)) ), mark='r-', linewidth=2, label=\"Predictions\")\n",
    "draw_normal_func(func_dict)\n",
    "plt.xlabel(\"$x_1$\", fontsize=18)\n",
    "plt.ylabel(\"$y$\", rotation=0, fontsize=18)\n",
    "plt.legend(loc=\"upper left\", fontsize=14)\n",
    "# plt.axis([-3, 3, 0, 10])\n",
    "plt.show()"
   ]
  },
  {
   "cell_type": "code",
   "execution_count": 29,
   "id": "42d0d862",
   "metadata": {},
   "outputs": [
    {
     "data": {
      "text/plain": [
       "<matplotlib.collections.QuadMesh at 0x7f91f0ad4748>"
      ]
     },
     "execution_count": 29,
     "metadata": {},
     "output_type": "execute_result"
    },
    {
     "data": {
      "image/png": "[encoded data removed]",
      "text/plain": [
       "<Figure size 432x288 with 1 Axes>"
      ]
     },
     "metadata": {
      "needs_background": "light"
     },
     "output_type": "display_data"
    }
   ],
   "source": [
    "X_new = np.linspace(-5, 5, 100).reshape(100, 1)\n",
    "y_new_proba = model.predict(X_new)\n",
    "# y_new = n2g.inv_convert(y_new_proba)\n",
    "#\n",
    "xv, yv = np.meshgrid(X_new, np.linspace(n2g.x_min, n2g.x_max, n2g.units))\n",
    "# print(xv)\n",
    "# print(yv)\n",
    "plt.pcolormesh(xv, yv, y_new_proba.T, shading=\"nearest\")"
   ]
  },
  {
   "cell_type": "code",
   "execution_count": null,
   "id": "c8adbc40",
   "metadata": {},
   "outputs": [],
   "source": []
  },
  {
   "cell_type": "code",
   "execution_count": null,
   "id": "bc0174e5",
   "metadata": {},
   "outputs": [],
   "source": []
  },
  {
   "cell_type": "code",
   "execution_count": null,
   "id": "f617c05a",
   "metadata": {},
   "outputs": [],
   "source": []
  },
  {
   "cell_type": "code",
   "execution_count": null,
   "id": "550980b7",
   "metadata": {},
   "outputs": [],
   "source": []
  }
 ],
 "metadata": {
  "kernelspec": {
   "display_name": "Python 3",
   "language": "python",
   "name": "python3"
  },
  "language_info": {
   "codemirror_mode": {
    "name": "ipython",
    "version": 3
   },
   "file_extension": ".py",
   "mimetype": "text/x-python",
   "name": "python",
   "nbconvert_exporter": "python",
   "pygments_lexer": "ipython3",
   "version": "3.6.9"
  }
 },
 "nbformat": 4,
 "nbformat_minor": 5
}
