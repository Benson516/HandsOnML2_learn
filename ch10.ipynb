{
 "cells": [
  {
   "cell_type": "code",
   "execution_count": 1,
   "id": "cdcca4f2",
   "metadata": {},
   "outputs": [],
   "source": [
    "import numpy as np\n",
    "from sklearn.datasets import load_iris\n",
    "from sklearn.linear_model import Perceptron\n",
    "\n",
    "iris = load_iris()\n",
    "X = iris.data[:, (2,3)] # petal length, petal width\n",
    "y = (iris.target == 0).astype(np.int) # Iris setosa?\n",
    "\n",
    "per_clf = Perceptron()\n",
    "per_clf.fit(X, y)\n",
    "\n",
    "y_pred = per_clf.predict([[2, 0.5]])"
   ]
  },
  {
   "cell_type": "markdown",
   "id": "27a42448",
   "metadata": {},
   "source": [
    "# Building an Image Classifier Using the Sequential API"
   ]
  },
  {
   "cell_type": "code",
   "execution_count": 2,
   "id": "93aa1e84",
   "metadata": {},
   "outputs": [],
   "source": [
    "import tensorflow as tf\n",
    "from tensorflow import keras"
   ]
  },
  {
   "cell_type": "code",
   "execution_count": 3,
   "id": "bb2be1e4",
   "metadata": {},
   "outputs": [
    {
     "data": {
      "text/plain": [
       "'2.5.0'"
      ]
     },
     "execution_count": 3,
     "metadata": {},
     "output_type": "execute_result"
    }
   ],
   "source": [
    "tf.__version__"
   ]
  },
  {
   "cell_type": "code",
   "execution_count": 4,
   "id": "e258180a",
   "metadata": {},
   "outputs": [
    {
     "data": {
      "text/plain": [
       "'2.5.0'"
      ]
     },
     "execution_count": 4,
     "metadata": {},
     "output_type": "execute_result"
    }
   ],
   "source": [
    "keras.__version__"
   ]
  },
  {
   "cell_type": "code",
   "execution_count": 5,
   "id": "68bd6c11",
   "metadata": {},
   "outputs": [],
   "source": [
    "fashion_mnist = keras.datasets.fashion_mnist\n",
    "(X_train_full, y_train_full), (X_test, y_test) = fashion_mnist.load_data()"
   ]
  },
  {
   "cell_type": "code",
   "execution_count": 6,
   "id": "72f9711f",
   "metadata": {},
   "outputs": [
    {
     "data": {
      "text/plain": [
       "(60000, 28, 28)"
      ]
     },
     "execution_count": 6,
     "metadata": {},
     "output_type": "execute_result"
    }
   ],
   "source": [
    "X_train_full.shape"
   ]
  },
  {
   "cell_type": "code",
   "execution_count": 7,
   "id": "9877b57e",
   "metadata": {},
   "outputs": [
    {
     "data": {
      "text/plain": [
       "dtype('uint8')"
      ]
     },
     "execution_count": 7,
     "metadata": {},
     "output_type": "execute_result"
    }
   ],
   "source": [
    "X_train_full.dtype"
   ]
  },
  {
   "cell_type": "code",
   "execution_count": 8,
   "id": "34be90e7",
   "metadata": {},
   "outputs": [],
   "source": [
    "X_valid, X_train = X_train_full[:5000] / 255.0, X_train_full[5000:] / 255.0\n",
    "y_valid, y_train = y_train_full[:5000], y_train_full[5000:]\n",
    "X_test = X_test / 255.0"
   ]
  },
  {
   "cell_type": "code",
   "execution_count": 9,
   "id": "bf3911dc",
   "metadata": {},
   "outputs": [],
   "source": [
    "class_names = [\"T-shirt/top\", \"Trouser\", \"Pullover\", \"Dress\", \"Coat\", \n",
    "              \"Sandal\", \"Shirt\", \"Sneaker\", \"Bag\", \"Ankle boot\"]"
   ]
  },
  {
   "cell_type": "code",
   "execution_count": 10,
   "id": "dc215f0d",
   "metadata": {},
   "outputs": [
    {
     "data": {
      "text/plain": [
       "'Coat'"
      ]
     },
     "execution_count": 10,
     "metadata": {},
     "output_type": "execute_result"
    }
   ],
   "source": [
    "class_names[y_train[0]]"
   ]
  },
  {
   "cell_type": "code",
   "execution_count": 11,
   "id": "a61c7e42",
   "metadata": {},
   "outputs": [],
   "source": [
    "# Creating the model\n",
    "model = keras.models.Sequential()\n",
    "model.add( keras.layers.Flatten(input_shape=[28, 28]) )\n",
    "model.add( keras.layers.Dense(300, activation=\"relu\") )\n",
    "model.add( keras.layers.Dense(100, activation=\"relu\") )\n",
    "model.add( keras.layers.Dense(10, activation=\"softmax\") )"
   ]
  },
  {
   "cell_type": "code",
   "execution_count": 12,
   "id": "df80899f",
   "metadata": {},
   "outputs": [],
   "source": [
    "model_2 = keras.models.Sequential([\n",
    "    keras.layers.Flatten(input_shape=[28, 28]),\n",
    "    keras.layers.Dense(300, activation=\"relu\"),\n",
    "    keras.layers.Dense(100, activation=\"relu\"),\n",
    "    keras.layers.Dense(10, activation=\"softmax\")\n",
    "])"
   ]
  },
  {
   "cell_type": "code",
   "execution_count": 13,
   "id": "795aa9d0",
   "metadata": {},
   "outputs": [
    {
     "name": "stdout",
     "output_type": "stream",
     "text": [
      "Model: \"sequential\"\n",
      "_________________________________________________________________\n",
      "Layer (type)                 Output Shape              Param #   \n",
      "=================================================================\n",
      "flatten (Flatten)            (None, 784)               0         \n",
      "_________________________________________________________________\n",
      "dense (Dense)                (None, 300)               235500    \n",
      "_________________________________________________________________\n",
      "dense_1 (Dense)              (None, 100)               30100     \n",
      "_________________________________________________________________\n",
      "dense_2 (Dense)              (None, 10)                1010      \n",
      "=================================================================\n",
      "Total params: 266,610\n",
      "Trainable params: 266,610\n",
      "Non-trainable params: 0\n",
      "_________________________________________________________________\n"
     ]
    }
   ],
   "source": [
    "model.summary()"
   ]
  },
  {
   "cell_type": "code",
   "execution_count": 14,
   "id": "0afe89a3",
   "metadata": {},
   "outputs": [
    {
     "data": {
      "image/png": "[encoded data removed]",
      "text/plain": [
       "<IPython.core.display.Image object>"
      ]
     },
     "execution_count": 14,
     "metadata": {},
     "output_type": "execute_result"
    }
   ],
   "source": [
    "keras.utils.plot_model(model)"
   ]
  },
  {
   "cell_type": "code",
   "execution_count": 15,
   "id": "f786ff32",
   "metadata": {},
   "outputs": [
    {
     "data": {
      "text/plain": [
       "[<tensorflow.python.keras.layers.core.Flatten at 0x7f43a97f54e0>,\n",
       " <tensorflow.python.keras.layers.core.Dense at 0x7f43a9809748>,\n",
       " <tensorflow.python.keras.layers.core.Dense at 0x7f43a97c6400>,\n",
       " <tensorflow.python.keras.layers.core.Dense at 0x7f43a97792e8>]"
      ]
     },
     "execution_count": 15,
     "metadata": {},
     "output_type": "execute_result"
    }
   ],
   "source": [
    "model.layers"
   ]
  },
  {
   "cell_type": "code",
   "execution_count": 16,
   "id": "4966104e",
   "metadata": {},
   "outputs": [],
   "source": [
    "hidden1 = model.layers[1]"
   ]
  },
  {
   "cell_type": "code",
   "execution_count": 17,
   "id": "98c8c401",
   "metadata": {},
   "outputs": [
    {
     "data": {
      "text/plain": [
       "'dense'"
      ]
     },
     "execution_count": 17,
     "metadata": {},
     "output_type": "execute_result"
    }
   ],
   "source": [
    "hidden1.name"
   ]
  },
  {
   "cell_type": "code",
   "execution_count": 18,
   "id": "a946abbf",
   "metadata": {},
   "outputs": [
    {
     "data": {
      "text/plain": [
       "True"
      ]
     },
     "execution_count": 18,
     "metadata": {},
     "output_type": "execute_result"
    }
   ],
   "source": [
    "model.get_layer('dense') is hidden1"
   ]
  },
  {
   "cell_type": "code",
   "execution_count": 19,
   "id": "d0f03a20",
   "metadata": {},
   "outputs": [],
   "source": [
    "weights, biases = hidden1.get_weights()"
   ]
  },
  {
   "cell_type": "code",
   "execution_count": 20,
   "id": "a9ecd446",
   "metadata": {},
   "outputs": [
    {
     "data": {
      "text/plain": [
       "array([[-0.00504383,  0.03089502,  0.03925049, ...,  0.07354715,\n",
       "        -0.06503018,  0.05785705],\n",
       "       [-0.03532572, -0.04798091, -0.0359191 , ...,  0.02360683,\n",
       "         0.04053905,  0.04662654],\n",
       "       [ 0.06098068,  0.04713886, -0.03005064, ..., -0.07223127,\n",
       "         0.04426917,  0.009569  ],\n",
       "       ...,\n",
       "       [ 0.00017989,  0.03226771, -0.00845888, ..., -0.06969996,\n",
       "        -0.0736379 , -0.0481874 ],\n",
       "       [ 0.03212049, -0.05364925,  0.04954335, ...,  0.06126158,\n",
       "        -0.07334411, -0.04166356],\n",
       "       [-0.057715  , -0.03283969,  0.04380745, ..., -0.03426767,\n",
       "        -0.01043206,  0.01762548]], dtype=float32)"
      ]
     },
     "execution_count": 20,
     "metadata": {},
     "output_type": "execute_result"
    }
   ],
   "source": [
    "weights"
   ]
  },
  {
   "cell_type": "code",
   "execution_count": 21,
   "id": "d47ef519",
   "metadata": {},
   "outputs": [
    {
     "data": {
      "text/plain": [
       "(784, 300)"
      ]
     },
     "execution_count": 21,
     "metadata": {},
     "output_type": "execute_result"
    }
   ],
   "source": [
    "weights.shape"
   ]
  },
  {
   "cell_type": "code",
   "execution_count": 22,
   "id": "03921dc1",
   "metadata": {},
   "outputs": [
    {
     "data": {
      "text/plain": [
       "array([0., 0., 0., 0., 0., 0., 0., 0., 0., 0., 0., 0., 0., 0., 0., 0., 0.,\n",
       "       0., 0., 0., 0., 0., 0., 0., 0., 0., 0., 0., 0., 0., 0., 0., 0., 0.,\n",
       "       0., 0., 0., 0., 0., 0., 0., 0., 0., 0., 0., 0., 0., 0., 0., 0., 0.,\n",
       "       0., 0., 0., 0., 0., 0., 0., 0., 0., 0., 0., 0., 0., 0., 0., 0., 0.,\n",
       "       0., 0., 0., 0., 0., 0., 0., 0., 0., 0., 0., 0., 0., 0., 0., 0., 0.,\n",
       "       0., 0., 0., 0., 0., 0., 0., 0., 0., 0., 0., 0., 0., 0., 0., 0., 0.,\n",
       "       0., 0., 0., 0., 0., 0., 0., 0., 0., 0., 0., 0., 0., 0., 0., 0., 0.,\n",
       "       0., 0., 0., 0., 0., 0., 0., 0., 0., 0., 0., 0., 0., 0., 0., 0., 0.,\n",
       "       0., 0., 0., 0., 0., 0., 0., 0., 0., 0., 0., 0., 0., 0., 0., 0., 0.,\n",
       "       0., 0., 0., 0., 0., 0., 0., 0., 0., 0., 0., 0., 0., 0., 0., 0., 0.,\n",
       "       0., 0., 0., 0., 0., 0., 0., 0., 0., 0., 0., 0., 0., 0., 0., 0., 0.,\n",
       "       0., 0., 0., 0., 0., 0., 0., 0., 0., 0., 0., 0., 0., 0., 0., 0., 0.,\n",
       "       0., 0., 0., 0., 0., 0., 0., 0., 0., 0., 0., 0., 0., 0., 0., 0., 0.,\n",
       "       0., 0., 0., 0., 0., 0., 0., 0., 0., 0., 0., 0., 0., 0., 0., 0., 0.,\n",
       "       0., 0., 0., 0., 0., 0., 0., 0., 0., 0., 0., 0., 0., 0., 0., 0., 0.,\n",
       "       0., 0., 0., 0., 0., 0., 0., 0., 0., 0., 0., 0., 0., 0., 0., 0., 0.,\n",
       "       0., 0., 0., 0., 0., 0., 0., 0., 0., 0., 0., 0., 0., 0., 0., 0., 0.,\n",
       "       0., 0., 0., 0., 0., 0., 0., 0., 0., 0., 0.], dtype=float32)"
      ]
     },
     "execution_count": 22,
     "metadata": {},
     "output_type": "execute_result"
    }
   ],
   "source": [
    "biases"
   ]
  },
  {
   "cell_type": "code",
   "execution_count": 23,
   "id": "f181d627",
   "metadata": {},
   "outputs": [
    {
     "data": {
      "text/plain": [
       "(300,)"
      ]
     },
     "execution_count": 23,
     "metadata": {},
     "output_type": "execute_result"
    }
   ],
   "source": [
    "biases.shape"
   ]
  },
  {
   "cell_type": "code",
   "execution_count": 24,
   "id": "dbfeca39",
   "metadata": {},
   "outputs": [],
   "source": [
    "model.compile(loss=\"sparse_categorical_crossentropy\",\n",
    "             optimizer=\"sgd\",\n",
    "             metrics=[\"accuracy\"])"
   ]
  },
  {
   "cell_type": "code",
   "execution_count": 25,
   "id": "f8a3558b",
   "metadata": {},
   "outputs": [
    {
     "name": "stdout",
     "output_type": "stream",
     "text": [
      "Epoch 1/30\n",
      "1719/1719 [==============================] - 25s 13ms/step - loss: 0.7197 - accuracy: 0.7642 - val_loss: 0.5343 - val_accuracy: 0.8108\n",
      "Epoch 2/30\n",
      "1719/1719 [==============================] - 23s 13ms/step - loss: 0.4878 - accuracy: 0.8302 - val_loss: 0.4371 - val_accuracy: 0.8518\n",
      "Epoch 3/30\n",
      "1719/1719 [==============================] - 23s 14ms/step - loss: 0.4426 - accuracy: 0.8444 - val_loss: 0.4164 - val_accuracy: 0.8594\n",
      "Epoch 4/30\n",
      "1719/1719 [==============================] - 22s 13ms/step - loss: 0.4160 - accuracy: 0.8536 - val_loss: 0.3937 - val_accuracy: 0.8680\n",
      "Epoch 5/30\n",
      "1719/1719 [==============================] - 24s 14ms/step - loss: 0.3956 - accuracy: 0.8618 - val_loss: 0.3979 - val_accuracy: 0.8622\n",
      "Epoch 6/30\n",
      "1719/1719 [==============================] - 29s 17ms/step - loss: 0.3797 - accuracy: 0.8653 - val_loss: 0.3734 - val_accuracy: 0.8700\n",
      "Epoch 7/30\n",
      "1719/1719 [==============================] - 29s 17ms/step - loss: 0.3654 - accuracy: 0.8717 - val_loss: 0.3830 - val_accuracy: 0.8638\n",
      "Epoch 8/30\n",
      "1719/1719 [==============================] - 38s 22ms/step - loss: 0.3529 - accuracy: 0.8757 - val_loss: 0.4143 - val_accuracy: 0.8488\n",
      "Epoch 9/30\n",
      "1719/1719 [==============================] - 33s 19ms/step - loss: 0.3434 - accuracy: 0.8778 - val_loss: 0.3682 - val_accuracy: 0.8694\n",
      "Epoch 10/30\n",
      "1719/1719 [==============================] - 35s 20ms/step - loss: 0.3326 - accuracy: 0.8820 - val_loss: 0.3498 - val_accuracy: 0.8740\n",
      "Epoch 11/30\n",
      "1719/1719 [==============================] - 40s 23ms/step - loss: 0.3238 - accuracy: 0.8839 - val_loss: 0.3332 - val_accuracy: 0.8794\n",
      "Epoch 12/30\n",
      "1719/1719 [==============================] - 47s 28ms/step - loss: 0.3166 - accuracy: 0.8870 - val_loss: 0.3343 - val_accuracy: 0.8820\n",
      "Epoch 13/30\n",
      "1719/1719 [==============================] - 48s 28ms/step - loss: 0.3086 - accuracy: 0.8893 - val_loss: 0.3259 - val_accuracy: 0.8840\n",
      "Epoch 14/30\n",
      "1719/1719 [==============================] - 39s 22ms/step - loss: 0.3013 - accuracy: 0.8901 - val_loss: 0.3232 - val_accuracy: 0.8854\n",
      "Epoch 15/30\n",
      "1719/1719 [==============================] - 37s 21ms/step - loss: 0.2950 - accuracy: 0.8938 - val_loss: 0.3163 - val_accuracy: 0.8866\n",
      "Epoch 16/30\n",
      "1719/1719 [==============================] - 40s 23ms/step - loss: 0.2877 - accuracy: 0.8960 - val_loss: 0.3144 - val_accuracy: 0.8876\n",
      "Epoch 17/30\n",
      "1719/1719 [==============================] - 48s 28ms/step - loss: 0.2820 - accuracy: 0.8988 - val_loss: 0.3103 - val_accuracy: 0.8870\n",
      "Epoch 18/30\n",
      "1719/1719 [==============================] - 42s 25ms/step - loss: 0.2768 - accuracy: 0.9004 - val_loss: 0.3122 - val_accuracy: 0.8876\n",
      "Epoch 19/30\n",
      "1719/1719 [==============================] - 41s 24ms/step - loss: 0.2719 - accuracy: 0.9022 - val_loss: 0.3056 - val_accuracy: 0.8902\n",
      "Epoch 20/30\n",
      "1719/1719 [==============================] - 43s 25ms/step - loss: 0.2661 - accuracy: 0.9041 - val_loss: 0.3148 - val_accuracy: 0.8864\n",
      "Epoch 21/30\n",
      "1719/1719 [==============================] - 41s 24ms/step - loss: 0.2606 - accuracy: 0.9063 - val_loss: 0.3150 - val_accuracy: 0.8872\n",
      "Epoch 22/30\n",
      "1719/1719 [==============================] - 41s 24ms/step - loss: 0.2560 - accuracy: 0.9075 - val_loss: 0.3339 - val_accuracy: 0.8822\n",
      "Epoch 23/30\n",
      "1719/1719 [==============================] - 41s 24ms/step - loss: 0.2528 - accuracy: 0.9101 - val_loss: 0.2974 - val_accuracy: 0.8934\n",
      "Epoch 24/30\n",
      "1719/1719 [==============================] - 41s 24ms/step - loss: 0.2466 - accuracy: 0.9106 - val_loss: 0.3243 - val_accuracy: 0.8810\n",
      "Epoch 25/30\n",
      "1719/1719 [==============================] - 39s 23ms/step - loss: 0.2430 - accuracy: 0.9127 - val_loss: 0.3044 - val_accuracy: 0.8896\n",
      "Epoch 26/30\n",
      "1719/1719 [==============================] - 37s 21ms/step - loss: 0.2385 - accuracy: 0.9139 - val_loss: 0.3040 - val_accuracy: 0.8938\n",
      "Epoch 27/30\n",
      "1719/1719 [==============================] - 38s 22ms/step - loss: 0.2354 - accuracy: 0.9153 - val_loss: 0.3100 - val_accuracy: 0.8920\n",
      "Epoch 28/30\n",
      "1719/1719 [==============================] - 43s 25ms/step - loss: 0.2318 - accuracy: 0.9171 - val_loss: 0.3089 - val_accuracy: 0.8922\n",
      "Epoch 29/30\n",
      "1719/1719 [==============================] - 40s 23ms/step - loss: 0.2260 - accuracy: 0.9188 - val_loss: 0.2936 - val_accuracy: 0.8958\n",
      "Epoch 30/30\n",
      "1719/1719 [==============================] - 36s 21ms/step - loss: 0.2234 - accuracy: 0.9199 - val_loss: 0.3071 - val_accuracy: 0.8902\n"
     ]
    }
   ],
   "source": [
    "history = model.fit(X_train, y_train, epochs=30, validation_data=(X_valid, y_valid))"
   ]
  },
  {
   "cell_type": "code",
   "execution_count": 26,
   "id": "45a9ab79",
   "metadata": {},
   "outputs": [
    {
     "data": {
      "image/png": "[encoded data removed]",
      "text/plain": [
       "<Figure size 576x360 with 1 Axes>"
      ]
     },
     "metadata": {
      "needs_background": "light"
     },
     "output_type": "display_data"
    }
   ],
   "source": [
    "import pandas as pd\n",
    "import matplotlib.pyplot as plt\n",
    "\n",
    "pd.DataFrame(history.history).plot(figsize=(8, 5))\n",
    "plt.grid(True)\n",
    "plt.gca().set_ylim(0, 1) # Set the vertical range to [0-1]\n",
    "plt.show()"
   ]
  },
  {
   "cell_type": "code",
   "execution_count": 27,
   "id": "70429f1b",
   "metadata": {},
   "outputs": [
    {
     "name": "stdout",
     "output_type": "stream",
     "text": [
      "313/313 [==============================] - 6s 20ms/step - loss: 0.3404 - accuracy: 0.8777\n"
     ]
    },
    {
     "data": {
      "text/plain": [
       "[0.3404337465763092, 0.8776999711990356]"
      ]
     },
     "execution_count": 27,
     "metadata": {},
     "output_type": "execute_result"
    }
   ],
   "source": [
    "model.evaluate(X_test, y_test)"
   ]
  },
  {
   "cell_type": "code",
   "execution_count": 28,
   "id": "a862e0f1",
   "metadata": {},
   "outputs": [
    {
     "data": {
      "text/plain": [
       "array([[0.  , 0.  , 0.  , 0.  , 0.  , 0.  , 0.  , 0.  , 0.  , 0.99],\n",
       "       [0.  , 0.  , 1.  , 0.  , 0.  , 0.  , 0.  , 0.  , 0.  , 0.  ],\n",
       "       [0.  , 1.  , 0.  , 0.  , 0.  , 0.  , 0.  , 0.  , 0.  , 0.  ]],\n",
       "      dtype=float32)"
      ]
     },
     "execution_count": 28,
     "metadata": {},
     "output_type": "execute_result"
    }
   ],
   "source": [
    "X_new = X_test[:3]\n",
    "y_proba = model.predict(X_new)\n",
    "y_proba.round(2)"
   ]
  },
  {
   "cell_type": "code",
   "execution_count": 29,
   "id": "9c3a2092",
   "metadata": {},
   "outputs": [
    {
     "name": "stderr",
     "output_type": "stream",
     "text": [
      "/home/benson516/ml/my_env/lib/python3.6/site-packages/tensorflow/python/keras/engine/sequential.py:455: UserWarning: `model.predict_classes()` is deprecated and will be removed after 2021-01-01. Please use instead:* `np.argmax(model.predict(x), axis=-1)`,   if your model does multi-class classification   (e.g. if it uses a `softmax` last-layer activation).* `(model.predict(x) > 0.5).astype(\"int32\")`,   if your model does binary classification   (e.g. if it uses a `sigmoid` last-layer activation).\n",
      "  warnings.warn('`model.predict_classes()` is deprecated and '\n"
     ]
    },
    {
     "data": {
      "text/plain": [
       "array([9, 2, 1])"
      ]
     },
     "execution_count": 29,
     "metadata": {},
     "output_type": "execute_result"
    }
   ],
   "source": [
    "y_pred = model.predict_classes(X_new)\n",
    "y_pred"
   ]
  },
  {
   "cell_type": "code",
   "execution_count": 30,
   "id": "3466c2d4",
   "metadata": {},
   "outputs": [
    {
     "data": {
      "text/plain": [
       "array(['Ankle boot', 'Pullover', 'Trouser'], dtype='<U11')"
      ]
     },
     "execution_count": 30,
     "metadata": {},
     "output_type": "execute_result"
    }
   ],
   "source": [
    "np.array(class_names)[y_pred]"
   ]
  },
  {
   "cell_type": "code",
   "execution_count": 31,
   "id": "3195bf45",
   "metadata": {},
   "outputs": [
    {
     "data": {
      "text/plain": [
       "array([9, 2, 1], dtype=uint8)"
      ]
     },
     "execution_count": 31,
     "metadata": {},
     "output_type": "execute_result"
    }
   ],
   "source": [
    "y_new = y_test[:3]\n",
    "y_new"
   ]
  },
  {
   "cell_type": "markdown",
   "id": "441dca66",
   "metadata": {},
   "source": [
    "# Building a Regression MLP Using the Sequential API"
   ]
  },
  {
   "cell_type": "code",
   "execution_count": 32,
   "id": "00d9aa96",
   "metadata": {},
   "outputs": [],
   "source": [
    "from sklearn.datasets import fetch_california_housing\n",
    "from sklearn.model_selection import train_test_split\n",
    "from sklearn.preprocessing import StandardScaler\n",
    "\n",
    "housing = fetch_california_housing()\n",
    "X_train_full, X_test, y_train_full, y_test = train_test_split(housing.data, housing.target)\n",
    "X_train, X_valid, y_train, y_valid = train_test_split(X_train_full, y_train_full)\n",
    "\n",
    "scaler = StandardScaler()\n",
    "X_train = scaler.fit_transform(X_train)\n",
    "X_valid = scaler.transform(X_valid)\n",
    "X_test = scaler.transform(X_test)"
   ]
  },
  {
   "cell_type": "code",
   "execution_count": 33,
   "id": "33ab6fd0",
   "metadata": {},
   "outputs": [
    {
     "name": "stdout",
     "output_type": "stream",
     "text": [
      "Epoch 1/20\n",
      "363/363 [==============================] - 7s 16ms/step - loss: 1.3942 - val_loss: 0.6224\n",
      "Epoch 2/20\n",
      "363/363 [==============================] - 5s 15ms/step - loss: 0.5311 - val_loss: 0.4382\n",
      "Epoch 3/20\n",
      "363/363 [==============================] - 6s 16ms/step - loss: 0.4357 - val_loss: 0.4020\n",
      "Epoch 4/20\n",
      "363/363 [==============================] - 6s 17ms/step - loss: 0.4066 - val_loss: 0.3866\n",
      "Epoch 5/20\n",
      "363/363 [==============================] - 6s 17ms/step - loss: 0.3948 - val_loss: 0.3788\n",
      "Epoch 6/20\n",
      "363/363 [==============================] - 6s 15ms/step - loss: 0.4206 - val_loss: 0.3785\n",
      "Epoch 7/20\n",
      "363/363 [==============================] - 5s 14ms/step - loss: 0.3873 - val_loss: 0.3806\n",
      "Epoch 8/20\n",
      "363/363 [==============================] - 5s 15ms/step - loss: 0.3816 - val_loss: 0.3688\n",
      "Epoch 9/20\n",
      "363/363 [==============================] - 5s 14ms/step - loss: 0.3815 - val_loss: 0.3636\n",
      "Epoch 10/20\n",
      "363/363 [==============================] - 4s 12ms/step - loss: 0.3787 - val_loss: 0.3670\n",
      "Epoch 11/20\n",
      "363/363 [==============================] - 5s 14ms/step - loss: 0.3718 - val_loss: 0.3618\n",
      "Epoch 12/20\n",
      "363/363 [==============================] - 5s 13ms/step - loss: 0.3688 - val_loss: 0.3655\n",
      "Epoch 13/20\n",
      "363/363 [==============================] - 5s 13ms/step - loss: 0.3667 - val_loss: 0.3627\n",
      "Epoch 14/20\n",
      "363/363 [==============================] - 5s 13ms/step - loss: 0.3641 - val_loss: 0.3606\n",
      "Epoch 15/20\n",
      "363/363 [==============================] - 5s 13ms/step - loss: 0.3624 - val_loss: 0.3542\n",
      "Epoch 16/20\n",
      "363/363 [==============================] - 5s 13ms/step - loss: 0.3706 - val_loss: 0.3533\n",
      "Epoch 17/20\n",
      "363/363 [==============================] - 4s 12ms/step - loss: 0.3634 - val_loss: 0.3580\n",
      "Epoch 18/20\n",
      "363/363 [==============================] - 5s 13ms/step - loss: 0.3577 - val_loss: 0.3573\n",
      "Epoch 19/20\n",
      "363/363 [==============================] - 5s 13ms/step - loss: 0.3553 - val_loss: 0.3571\n",
      "Epoch 20/20\n",
      "363/363 [==============================] - 5s 15ms/step - loss: 0.3548 - val_loss: 0.3498\n"
     ]
    }
   ],
   "source": [
    "model = keras.models.Sequential([\n",
    "    keras.layers.Dense(30, activation=\"relu\", input_shape=X_train.shape[1:]),\n",
    "    keras.layers.Dense(1)\n",
    "])\n",
    "model.compile(loss=\"mean_squared_error\", optimizer=\"sgd\")\n",
    "history = model.fit(X_train, y_train, epochs=20, validation_data=(X_valid, y_valid))"
   ]
  },
  {
   "cell_type": "code",
   "execution_count": 34,
   "id": "5be8f579",
   "metadata": {},
   "outputs": [
    {
     "name": "stdout",
     "output_type": "stream",
     "text": [
      "162/162 [==============================] - 1s 6ms/step - loss: 0.3430\n",
      "[[2.716395 ]\n",
      " [1.2120693]\n",
      " [1.97083  ]]\n"
     ]
    }
   ],
   "source": [
    "mse_test = model.evaluate(X_test, y_test)\n",
    "X_new = X_test[:3] # Pretend these are new instances\n",
    "y_pred = model.predict(X_new)\n",
    "print(y_pred)"
   ]
  },
  {
   "cell_type": "markdown",
   "id": "31af308f",
   "metadata": {},
   "source": [
    "# Building Complex Models Using the Functional API"
   ]
  },
  {
   "cell_type": "code",
   "execution_count": 35,
   "id": "9b305de5",
   "metadata": {},
   "outputs": [],
   "source": [
    "# 1 input, 1 output, wide & deep, using functional API\n",
    "input_ = keras.layers.Input(shape=X_train.shape[1:])\n",
    "hidden1 = keras.layers.Dense(30, activation=\"relu\")(input_)\n",
    "hidden2 = keras.layers.Dense(30, activation=\"relu\")(hidden1)\n",
    "concat = keras.layers.Concatenate()([input_, hidden2]) # Upper case \"C\"\n",
    "output = keras.layers.Dense(1)(concat)\n",
    "model = keras.Model(inputs=[input_], outputs=[output])"
   ]
  },
  {
   "cell_type": "code",
   "execution_count": 36,
   "id": "e301d6d2",
   "metadata": {},
   "outputs": [],
   "source": [
    "# 2 inputs, 1 output\n",
    "input_A = keras.layers.Input(shape=[5], name=\"wide_input\")\n",
    "input_B = keras.layers.Input(shape=[6], name=\"deep_input\")\n",
    "hidden1 = keras.layers.Dense(30, activation=\"relu\")(input_B)\n",
    "hidden2 = keras.layers.Dense(30, activation=\"relu\")(hidden1)\n",
    "concat = keras.layers.concatenate([input_A, hidden2]) # Lower case \"c\"\n",
    "output = keras.layers.Dense(1, name=\"output\")(concat)\n",
    "model = keras.Model(inputs=[input_A, input_B], outputs=[output])"
   ]
  },
  {
   "cell_type": "code",
   "execution_count": 37,
   "id": "1b795d93",
   "metadata": {},
   "outputs": [
    {
     "name": "stderr",
     "output_type": "stream",
     "text": [
      "/home/benson516/ml/my_env/lib/python3.6/site-packages/tensorflow/python/keras/optimizer_v2/optimizer_v2.py:375: UserWarning: The `lr` argument is deprecated, use `learning_rate` instead.\n",
      "  \"The `lr` argument is deprecated, use `learning_rate` instead.\")\n"
     ]
    },
    {
     "name": "stdout",
     "output_type": "stream",
     "text": [
      "Epoch 1/20\n",
      "363/363 [==============================] - 6s 13ms/step - loss: 2.7198 - val_loss: 1.0281\n",
      "Epoch 2/20\n",
      "363/363 [==============================] - 5s 14ms/step - loss: 0.8213 - val_loss: 0.6864\n",
      "Epoch 3/20\n",
      "363/363 [==============================] - 5s 14ms/step - loss: 0.6596 - val_loss: 0.6152\n",
      "Epoch 4/20\n",
      "363/363 [==============================] - 5s 14ms/step - loss: 0.6139 - val_loss: 0.5880\n",
      "Epoch 5/20\n",
      "363/363 [==============================] - 6s 15ms/step - loss: 0.5908 - val_loss: 0.5660\n",
      "Epoch 6/20\n",
      "363/363 [==============================] - 5s 13ms/step - loss: 0.5745 - val_loss: 0.5506\n",
      "Epoch 7/20\n",
      "363/363 [==============================] - 5s 14ms/step - loss: 0.5616 - val_loss: 0.5432\n",
      "Epoch 8/20\n",
      "363/363 [==============================] - 5s 13ms/step - loss: 0.5507 - val_loss: 0.5318\n",
      "Epoch 9/20\n",
      "363/363 [==============================] - 5s 13ms/step - loss: 0.5406 - val_loss: 0.5193\n",
      "Epoch 10/20\n",
      "363/363 [==============================] - 5s 14ms/step - loss: 0.5325 - val_loss: 0.5133\n",
      "Epoch 11/20\n",
      "363/363 [==============================] - 5s 14ms/step - loss: 0.5251 - val_loss: 0.5066\n",
      "Epoch 12/20\n",
      "363/363 [==============================] - 5s 13ms/step - loss: 0.5185 - val_loss: 0.5075\n",
      "Epoch 13/20\n",
      "363/363 [==============================] - 5s 14ms/step - loss: 0.5127 - val_loss: 0.4993\n",
      "Epoch 14/20\n",
      "363/363 [==============================] - 5s 13ms/step - loss: 0.5063 - val_loss: 0.4909\n",
      "Epoch 15/20\n",
      "363/363 [==============================] - 5s 14ms/step - loss: 0.5014 - val_loss: 0.4863\n",
      "Epoch 16/20\n",
      "363/363 [==============================] - 5s 13ms/step - loss: 0.4970 - val_loss: 0.4826\n",
      "Epoch 17/20\n",
      "363/363 [==============================] - 5s 13ms/step - loss: 0.4922 - val_loss: 0.4771\n",
      "Epoch 18/20\n",
      "363/363 [==============================] - 5s 14ms/step - loss: 0.4884 - val_loss: 0.4738\n",
      "Epoch 19/20\n",
      "363/363 [==============================] - 5s 13ms/step - loss: 0.4844 - val_loss: 0.4838\n",
      "Epoch 20/20\n",
      "363/363 [==============================] - 5s 13ms/step - loss: 0.4816 - val_loss: 0.4755\n",
      "162/162 [==============================] - 1s 7ms/step - loss: 0.4637\n"
     ]
    }
   ],
   "source": [
    "# 2 inputs, 1 output\n",
    "model.compile(loss=\"mse\", optimizer=keras.optimizers.SGD(lr=1e-3))\n",
    "\n",
    "X_train_A, X_train_B = X_train[:, :5], X_train[:, 2:]\n",
    "X_valid_A, X_valid_B = X_valid[:, :5], X_valid[:, 2:]\n",
    "X_test_A, X_test_B = X_test[:, :5], X_test[:, 2:]\n",
    "X_new_A, X_new_B = X_test_A[:3], X_test_B[:3]\n",
    "\n",
    "history = model.fit( (X_train_A, X_train_B), y_train, epochs=20,\n",
    "                   validation_data=( (X_valid_A, X_valid_B), y_valid))\n",
    "mse_test = model.evaluate( (X_test_A, X_test_B), y_test)\n",
    "y_pred = model.predict( (X_new_A, X_new_B) )"
   ]
  },
  {
   "cell_type": "code",
   "execution_count": 38,
   "id": "0c21a13d",
   "metadata": {},
   "outputs": [
    {
     "data": {
      "text/plain": [
       "array([[2.652466 ],\n",
       "       [1.5765576],\n",
       "       [2.546391 ]], dtype=float32)"
      ]
     },
     "execution_count": 38,
     "metadata": {},
     "output_type": "execute_result"
    }
   ],
   "source": [
    "y_pred"
   ]
  },
  {
   "cell_type": "code",
   "execution_count": 39,
   "id": "39a47f46",
   "metadata": {},
   "outputs": [],
   "source": [
    "# 2 inputs, 2 output\n",
    "input_A = keras.layers.Input(shape=[5], name=\"wide_input\")\n",
    "input_B = keras.layers.Input(shape=[6], name=\"deep_input\")\n",
    "hidden1 = keras.layers.Dense(30, activation=\"relu\")(input_B)\n",
    "hidden2 = keras.layers.Dense(30, activation=\"relu\")(hidden1)\n",
    "concat = keras.layers.concatenate([input_A, hidden2]) # Lower case \"c\"\n",
    "output = keras.layers.Dense(1, name=\"output\")(concat)\n",
    "aux_output = keras.layers.Dense(1, name=\"aux_output\")(hidden2)\n",
    "model = keras.Model(inputs=[input_A, input_B], outputs=[output, aux_output])"
   ]
  },
  {
   "cell_type": "code",
   "execution_count": 40,
   "id": "e935809f",
   "metadata": {},
   "outputs": [],
   "source": [
    "model.compile(loss=[\"mse\", \"mse\"], loss_weights=[0.9, 0.1], optimizer=\"sgd\")"
   ]
  },
  {
   "cell_type": "code",
   "execution_count": 41,
   "id": "54e70585",
   "metadata": {
    "scrolled": true
   },
   "outputs": [
    {
     "name": "stdout",
     "output_type": "stream",
     "text": [
      "Epoch 1/20\n",
      "363/363 [==============================] - 6s 14ms/step - loss: 1.0372 - output_loss: 0.9400 - aux_output_loss: 1.9119 - val_loss: 0.6201 - val_output_loss: 0.5443 - val_aux_output_loss: 1.3028\n",
      "Epoch 2/20\n",
      "363/363 [==============================] - 5s 14ms/step - loss: 0.6354 - output_loss: 0.5838 - aux_output_loss: 1.1003 - val_loss: 0.5292 - val_output_loss: 0.4806 - val_aux_output_loss: 0.9669\n",
      "Epoch 3/20\n",
      "363/363 [==============================] - 5s 14ms/step - loss: 0.5197 - output_loss: 0.4800 - aux_output_loss: 0.8766 - val_loss: 0.5043 - val_output_loss: 0.4689 - val_aux_output_loss: 0.8231\n",
      "Epoch 4/20\n",
      "363/363 [==============================] - 5s 13ms/step - loss: 0.4923 - output_loss: 0.4611 - aux_output_loss: 0.7729 - val_loss: 0.4668 - val_output_loss: 0.4378 - val_aux_output_loss: 0.7283\n",
      "Epoch 5/20\n",
      "363/363 [==============================] - 5s 14ms/step - loss: 0.4712 - output_loss: 0.4448 - aux_output_loss: 0.7091 - val_loss: 0.4586 - val_output_loss: 0.4335 - val_aux_output_loss: 0.6851\n",
      "Epoch 6/20\n",
      "363/363 [==============================] - 5s 14ms/step - loss: 0.4581 - output_loss: 0.4350 - aux_output_loss: 0.6663 - val_loss: 0.4383 - val_output_loss: 0.4151 - val_aux_output_loss: 0.6471\n",
      "Epoch 7/20\n",
      "363/363 [==============================] - 5s 14ms/step - loss: 0.4443 - output_loss: 0.4232 - aux_output_loss: 0.6343 - val_loss: 0.6427 - val_output_loss: 0.6448 - val_aux_output_loss: 0.6238\n",
      "Epoch 8/20\n",
      "363/363 [==============================] - 6s 16ms/step - loss: 0.4381 - output_loss: 0.4190 - aux_output_loss: 0.6104 - val_loss: 0.4175 - val_output_loss: 0.3976 - val_aux_output_loss: 0.5967\n",
      "Epoch 9/20\n",
      "363/363 [==============================] - 5s 13ms/step - loss: 0.4221 - output_loss: 0.4037 - aux_output_loss: 0.5879 - val_loss: 0.4052 - val_output_loss: 0.3858 - val_aux_output_loss: 0.5801\n",
      "Epoch 10/20\n",
      "363/363 [==============================] - 5s 15ms/step - loss: 0.4137 - output_loss: 0.3961 - aux_output_loss: 0.5716 - val_loss: 0.4070 - val_output_loss: 0.3896 - val_aux_output_loss: 0.5642\n",
      "Epoch 11/20\n",
      "363/363 [==============================] - 5s 14ms/step - loss: 0.4097 - output_loss: 0.3934 - aux_output_loss: 0.5564 - val_loss: 0.4029 - val_output_loss: 0.3852 - val_aux_output_loss: 0.5625\n",
      "Epoch 12/20\n",
      "363/363 [==============================] - 5s 14ms/step - loss: 0.4003 - output_loss: 0.3840 - aux_output_loss: 0.5469 - val_loss: 0.3810 - val_output_loss: 0.3638 - val_aux_output_loss: 0.5359\n",
      "Epoch 13/20\n",
      "363/363 [==============================] - 5s 14ms/step - loss: 0.3956 - output_loss: 0.3804 - aux_output_loss: 0.5322 - val_loss: 0.3781 - val_output_loss: 0.3620 - val_aux_output_loss: 0.5226\n",
      "Epoch 14/20\n",
      "363/363 [==============================] - 5s 14ms/step - loss: 0.3953 - output_loss: 0.3813 - aux_output_loss: 0.5218 - val_loss: 0.5524 - val_output_loss: 0.5565 - val_aux_output_loss: 0.5156\n",
      "Epoch 15/20\n",
      "363/363 [==============================] - 5s 13ms/step - loss: 0.3860 - output_loss: 0.3715 - aux_output_loss: 0.5160 - val_loss: 0.3712 - val_output_loss: 0.3563 - val_aux_output_loss: 0.5059\n",
      "Epoch 16/20\n",
      "363/363 [==============================] - 5s 14ms/step - loss: 0.3801 - output_loss: 0.3659 - aux_output_loss: 0.5076 - val_loss: 0.3983 - val_output_loss: 0.3851 - val_aux_output_loss: 0.5179\n",
      "Epoch 17/20\n",
      "363/363 [==============================] - 5s 15ms/step - loss: 0.3780 - output_loss: 0.3645 - aux_output_loss: 0.5003 - val_loss: 0.4008 - val_output_loss: 0.3886 - val_aux_output_loss: 0.5103\n",
      "Epoch 18/20\n",
      "363/363 [==============================] - 5s 13ms/step - loss: 0.3760 - output_loss: 0.3629 - aux_output_loss: 0.4935 - val_loss: 0.3766 - val_output_loss: 0.3622 - val_aux_output_loss: 0.5064\n",
      "Epoch 19/20\n",
      "363/363 [==============================] - 6s 16ms/step - loss: 0.3710 - output_loss: 0.3579 - aux_output_loss: 0.4889 - val_loss: 0.3515 - val_output_loss: 0.3371 - val_aux_output_loss: 0.4808\n",
      "Epoch 20/20\n",
      "363/363 [==============================] - 6s 16ms/step - loss: 0.3700 - output_loss: 0.3573 - aux_output_loss: 0.4837 - val_loss: 0.3568 - val_output_loss: 0.3435 - val_aux_output_loss: 0.4764\n"
     ]
    }
   ],
   "source": [
    "history = model.fit(\n",
    "    [X_train_A, X_train_B], [y_train, y_train], epochs=20,\n",
    "    validation_data=([X_valid_A, X_valid_B], [y_valid, y_valid])\n",
    ")"
   ]
  },
  {
   "cell_type": "code",
   "execution_count": 42,
   "id": "dd155daa",
   "metadata": {},
   "outputs": [
    {
     "name": "stdout",
     "output_type": "stream",
     "text": [
      "162/162 [==============================] - 2s 11ms/step - loss: 0.3686 - output_loss: 0.3563 - aux_output_loss: 0.4793\n",
      "0.3686233162879944 0.356326699256897 0.4792928099632263\n"
     ]
    }
   ],
   "source": [
    "total_loss, main_loss, aux_loss = model.evaluate(\n",
    "    [X_test_A, X_test_B], [y_test, y_test]\n",
    ")\n",
    "print(total_loss, main_loss, aux_loss)"
   ]
  },
  {
   "cell_type": "code",
   "execution_count": 43,
   "id": "e7178a0e",
   "metadata": {},
   "outputs": [
    {
     "name": "stdout",
     "output_type": "stream",
     "text": [
      "[[2.4348474]\n",
      " [1.4645929]\n",
      " [1.727926 ]]\n",
      "[[2.2469833]\n",
      " [2.091738 ]\n",
      " [1.3562803]]\n"
     ]
    }
   ],
   "source": [
    "y_pred_main, y_pred_aux = model.predict([X_new_A, X_new_B])\n",
    "print(y_pred_main)\n",
    "print(y_pred_aux)"
   ]
  },
  {
   "cell_type": "markdown",
   "id": "a8ebe766",
   "metadata": {},
   "source": [
    "## Using the Subclassing API to Build Dynamic Models"
   ]
  },
  {
   "cell_type": "code",
   "execution_count": 44,
   "id": "3e8c7a75",
   "metadata": {},
   "outputs": [],
   "source": [
    "class WideAndDeepModel(keras.Model):\n",
    "    def __init__(self, units=30, activation=\"relu\", **kwargs):\n",
    "        super().__init__(**kwargs) # handles standard args (e.g., name)\n",
    "        self.hidden1 = keras.layers.Dense(units, activation=activation)\n",
    "        self.hidden2 = keras.layers.Dense(units, activation=activation)\n",
    "        self.main_output = keras.layers.Dense(1)\n",
    "        self.aux_output = keras.layers.Dense(1)\n",
    "        \n",
    "    def call(self, inputs):\n",
    "        input_A, input_B = inputs # a tuple\n",
    "        hidden1 = self.hidden1(input_B)\n",
    "        hidden2 = self.hidden2(hidden1)\n",
    "        concat = keras.layers.concatenate([input_A, hidden2])\n",
    "        main_output = self.main_output(concat)\n",
    "        aux_output = self.aux_output(hidden2)\n",
    "        return main_output, aux_output\n",
    "    \n",
    "model_dynamic = WideAndDeepModel()"
   ]
  },
  {
   "cell_type": "markdown",
   "id": "3b56a008",
   "metadata": {},
   "source": [
    "## Saving and Restoring a Model"
   ]
  },
  {
   "cell_type": "code",
   "execution_count": 45,
   "id": "3ae3c954",
   "metadata": {},
   "outputs": [],
   "source": [
    "# model = keras.Model([...])\n",
    "# model.compile([...])\n",
    "# model.fit([...])\n",
    "model.save(\"my_keras_model_wide_deep_2in_2out.h5\")"
   ]
  },
  {
   "cell_type": "code",
   "execution_count": 46,
   "id": "25796745",
   "metadata": {},
   "outputs": [],
   "source": [
    "model = keras.models.load_model(\"my_keras_model_wide_deep_2in_2out.h5\")"
   ]
  },
  {
   "cell_type": "markdown",
   "id": "a14049f9",
   "metadata": {},
   "source": [
    "## Using Callbacks"
   ]
  },
  {
   "cell_type": "code",
   "execution_count": 47,
   "id": "17a4deb5",
   "metadata": {},
   "outputs": [
    {
     "name": "stdout",
     "output_type": "stream",
     "text": [
      "Epoch 1/10\n",
      "363/363 [==============================] - 6s 13ms/step - loss: 0.3620 - output_loss: 0.3494 - aux_output_loss: 0.4759\n",
      "Epoch 2/10\n",
      "363/363 [==============================] - 5s 15ms/step - loss: 0.3606 - output_loss: 0.3480 - aux_output_loss: 0.4741\n",
      "Epoch 3/10\n",
      "363/363 [==============================] - 5s 14ms/step - loss: 0.3611 - output_loss: 0.3494 - aux_output_loss: 0.4669\n",
      "Epoch 4/10\n",
      "363/363 [==============================] - 5s 14ms/step - loss: 0.3568 - output_loss: 0.3451 - aux_output_loss: 0.4622\n",
      "Epoch 5/10\n",
      "363/363 [==============================] - 5s 14ms/step - loss: 0.3532 - output_loss: 0.3415 - aux_output_loss: 0.4580\n",
      "Epoch 6/10\n",
      "363/363 [==============================] - 7s 18ms/step - loss: 0.3542 - output_loss: 0.3430 - aux_output_loss: 0.4546\n",
      "Epoch 7/10\n",
      "363/363 [==============================] - 5s 15ms/step - loss: 0.3524 - output_loss: 0.3413 - aux_output_loss: 0.4523\n",
      "Epoch 8/10\n",
      "363/363 [==============================] - 4s 12ms/step - loss: 0.3508 - output_loss: 0.3398 - aux_output_loss: 0.4491\n",
      "Epoch 9/10\n",
      "363/363 [==============================] - 4s 11ms/step - loss: 0.3501 - output_loss: 0.3394 - aux_output_loss: 0.4463\n",
      "Epoch 10/10\n",
      "363/363 [==============================] - 4s 11ms/step - loss: 0.3473 - output_loss: 0.3365 - aux_output_loss: 0.4441\n"
     ]
    }
   ],
   "source": [
    "checkpoint_cb = keras.callbacks.ModelCheckpoint(\"my_keras_model_wide_deep_2in_2out.h5\")\n",
    "history = model.fit( [X_train_A, X_train_B], [y_train, y_train], epochs=10, callbacks=[checkpoint_cb])"
   ]
  },
  {
   "cell_type": "code",
   "execution_count": 48,
   "id": "0fc3e7b6",
   "metadata": {},
   "outputs": [
    {
     "name": "stdout",
     "output_type": "stream",
     "text": [
      "Epoch 1/10\n",
      "363/363 [==============================] - 5s 13ms/step - loss: 0.3452 - output_loss: 0.3345 - aux_output_loss: 0.4410 - val_loss: 0.3405 - val_output_loss: 0.3299 - val_aux_output_loss: 0.4365\n",
      "Epoch 2/10\n",
      "363/363 [==============================] - 5s 13ms/step - loss: 0.3442 - output_loss: 0.3338 - aux_output_loss: 0.4377 - val_loss: 0.3472 - val_output_loss: 0.3369 - val_aux_output_loss: 0.4397\n",
      "Epoch 3/10\n",
      "363/363 [==============================] - 5s 13ms/step - loss: 0.3432 - output_loss: 0.3330 - aux_output_loss: 0.4351 - val_loss: 0.3367 - val_output_loss: 0.3262 - val_aux_output_loss: 0.4308\n",
      "Epoch 4/10\n",
      "363/363 [==============================] - 5s 12ms/step - loss: 0.3479 - output_loss: 0.3380 - aux_output_loss: 0.4366 - val_loss: 0.3400 - val_output_loss: 0.3298 - val_aux_output_loss: 0.4316\n",
      "Epoch 5/10\n",
      "363/363 [==============================] - 4s 12ms/step - loss: 0.3428 - output_loss: 0.3327 - aux_output_loss: 0.4340 - val_loss: 0.3338 - val_output_loss: 0.3236 - val_aux_output_loss: 0.4256\n",
      "Epoch 6/10\n",
      "363/363 [==============================] - 4s 12ms/step - loss: 0.3414 - output_loss: 0.3314 - aux_output_loss: 0.4323 - val_loss: 0.3297 - val_output_loss: 0.3196 - val_aux_output_loss: 0.4200\n",
      "Epoch 7/10\n",
      "363/363 [==============================] - 5s 13ms/step - loss: 0.3456 - output_loss: 0.3362 - aux_output_loss: 0.4298 - val_loss: 0.3338 - val_output_loss: 0.3241 - val_aux_output_loss: 0.4214\n",
      "Epoch 8/10\n",
      "363/363 [==============================] - 5s 12ms/step - loss: 0.3428 - output_loss: 0.3335 - aux_output_loss: 0.4261 - val_loss: 0.3295 - val_output_loss: 0.3194 - val_aux_output_loss: 0.4205\n",
      "Epoch 9/10\n",
      "363/363 [==============================] - 4s 12ms/step - loss: 0.3381 - output_loss: 0.3285 - aux_output_loss: 0.4240 - val_loss: 0.3337 - val_output_loss: 0.3242 - val_aux_output_loss: 0.4195\n",
      "Epoch 10/10\n",
      "363/363 [==============================] - 4s 12ms/step - loss: 0.3400 - output_loss: 0.3307 - aux_output_loss: 0.4238 - val_loss: 0.3300 - val_output_loss: 0.3200 - val_aux_output_loss: 0.4205\n"
     ]
    }
   ],
   "source": [
    "ckeckpoint_cb = keras.callbacks.ModelCheckpoint(\"my_keras_model_wide_deep_2in_2out.h5\", \n",
    "                                                save_best_only=True)\n",
    "history = model.fit([X_train_A, X_train_B], [y_train, y_train], epochs=10,\n",
    "                   validation_data=([X_valid_A, X_valid_B], [y_valid, y_valid]),\n",
    "                   callbacks=[checkpoint_cb])\n",
    "model = keras.models.load_model(\"my_keras_model_wide_deep_2in_2out.h5\") # roll back to best model"
   ]
  },
  {
   "cell_type": "code",
   "execution_count": 49,
   "id": "321248f2",
   "metadata": {},
   "outputs": [
    {
     "name": "stdout",
     "output_type": "stream",
     "text": [
      "Epoch 1/100\n",
      "363/363 [==============================] - 5s 13ms/step - loss: 0.3375 - output_loss: 0.3282 - aux_output_loss: 0.4214 - val_loss: 0.3360 - val_output_loss: 0.3267 - val_aux_output_loss: 0.4197\n",
      "Epoch 2/100\n",
      "363/363 [==============================] - 5s 12ms/step - loss: 0.3374 - output_loss: 0.3283 - aux_output_loss: 0.4201 - val_loss: 0.3324 - val_output_loss: 0.3234 - val_aux_output_loss: 0.4133\n",
      "Epoch 3/100\n",
      "363/363 [==============================] - 5s 13ms/step - loss: 0.3366 - output_loss: 0.3275 - aux_output_loss: 0.4182 - val_loss: 0.3248 - val_output_loss: 0.3155 - val_aux_output_loss: 0.4092\n",
      "Epoch 4/100\n",
      "363/363 [==============================] - 5s 13ms/step - loss: 0.3378 - output_loss: 0.3291 - aux_output_loss: 0.4168 - val_loss: 0.3321 - val_output_loss: 0.3221 - val_aux_output_loss: 0.4220\n",
      "Epoch 5/100\n",
      "363/363 [==============================] - 5s 13ms/step - loss: 0.3367 - output_loss: 0.3279 - aux_output_loss: 0.4158 - val_loss: 0.3312 - val_output_loss: 0.3216 - val_aux_output_loss: 0.4171\n",
      "Epoch 6/100\n",
      "363/363 [==============================] - 5s 14ms/step - loss: 0.3356 - output_loss: 0.3266 - aux_output_loss: 0.4159 - val_loss: 0.3281 - val_output_loss: 0.3195 - val_aux_output_loss: 0.4055\n",
      "Epoch 7/100\n",
      "363/363 [==============================] - 4s 12ms/step - loss: 0.3337 - output_loss: 0.3249 - aux_output_loss: 0.4125 - val_loss: 0.3267 - val_output_loss: 0.3175 - val_aux_output_loss: 0.4090\n",
      "Epoch 8/100\n",
      "363/363 [==============================] - 4s 12ms/step - loss: 0.3359 - output_loss: 0.3273 - aux_output_loss: 0.4130 - val_loss: 0.3249 - val_output_loss: 0.3163 - val_aux_output_loss: 0.4028\n",
      "Epoch 9/100\n",
      "363/363 [==============================] - 5s 13ms/step - loss: 0.3321 - output_loss: 0.3235 - aux_output_loss: 0.4097 - val_loss: 0.3292 - val_output_loss: 0.3202 - val_aux_output_loss: 0.4102\n",
      "Epoch 10/100\n",
      "363/363 [==============================] - 4s 12ms/step - loss: 0.3359 - output_loss: 0.3276 - aux_output_loss: 0.4107 - val_loss: 0.3374 - val_output_loss: 0.3296 - val_aux_output_loss: 0.4074\n",
      "Epoch 11/100\n",
      "363/363 [==============================] - 5s 14ms/step - loss: 0.3318 - output_loss: 0.3234 - aux_output_loss: 0.4073 - val_loss: 0.3309 - val_output_loss: 0.3228 - val_aux_output_loss: 0.4040\n",
      "Epoch 12/100\n",
      "363/363 [==============================] - 4s 11ms/step - loss: 0.3322 - output_loss: 0.3237 - aux_output_loss: 0.4087 - val_loss: 0.3454 - val_output_loss: 0.3377 - val_aux_output_loss: 0.4149\n",
      "Epoch 13/100\n",
      "363/363 [==============================] - 5s 14ms/step - loss: 0.3318 - output_loss: 0.3234 - aux_output_loss: 0.4071 - val_loss: 0.3218 - val_output_loss: 0.3134 - val_aux_output_loss: 0.3983\n",
      "Epoch 14/100\n",
      "363/363 [==============================] - 5s 13ms/step - loss: 0.3325 - output_loss: 0.3243 - aux_output_loss: 0.4063 - val_loss: 0.3295 - val_output_loss: 0.3214 - val_aux_output_loss: 0.4022\n",
      "Epoch 15/100\n",
      "363/363 [==============================] - 5s 13ms/step - loss: 0.3301 - output_loss: 0.3217 - aux_output_loss: 0.4055 - val_loss: 0.3242 - val_output_loss: 0.3162 - val_aux_output_loss: 0.3961\n",
      "Epoch 16/100\n",
      "363/363 [==============================] - 4s 12ms/step - loss: 0.3302 - output_loss: 0.3220 - aux_output_loss: 0.4038 - val_loss: 0.3248 - val_output_loss: 0.3170 - val_aux_output_loss: 0.3949\n",
      "Epoch 17/100\n",
      "363/363 [==============================] - 4s 12ms/step - loss: 0.3307 - output_loss: 0.3226 - aux_output_loss: 0.4034 - val_loss: 0.3242 - val_output_loss: 0.3163 - val_aux_output_loss: 0.3948\n",
      "Epoch 18/100\n",
      "363/363 [==============================] - 5s 14ms/step - loss: 0.3291 - output_loss: 0.3209 - aux_output_loss: 0.4033 - val_loss: 0.3204 - val_output_loss: 0.3122 - val_aux_output_loss: 0.3943\n",
      "Epoch 19/100\n",
      "363/363 [==============================] - 4s 12ms/step - loss: 0.3290 - output_loss: 0.3210 - aux_output_loss: 0.4012 - val_loss: 0.3215 - val_output_loss: 0.3133 - val_aux_output_loss: 0.3953\n",
      "Epoch 20/100\n",
      "363/363 [==============================] - 4s 12ms/step - loss: 0.3297 - output_loss: 0.3218 - aux_output_loss: 0.4013 - val_loss: 0.3300 - val_output_loss: 0.3223 - val_aux_output_loss: 0.3998\n",
      "Epoch 21/100\n",
      "363/363 [==============================] - 4s 12ms/step - loss: 0.3284 - output_loss: 0.3205 - aux_output_loss: 0.3999 - val_loss: 0.3247 - val_output_loss: 0.3167 - val_aux_output_loss: 0.3970\n",
      "Epoch 22/100\n",
      "363/363 [==============================] - 5s 12ms/step - loss: 0.3277 - output_loss: 0.3199 - aux_output_loss: 0.3988 - val_loss: 0.3319 - val_output_loss: 0.3246 - val_aux_output_loss: 0.3981\n",
      "Epoch 23/100\n",
      "363/363 [==============================] - 4s 12ms/step - loss: 0.3276 - output_loss: 0.3197 - aux_output_loss: 0.3983 - val_loss: 0.3191 - val_output_loss: 0.3110 - val_aux_output_loss: 0.3917\n",
      "Epoch 24/100\n",
      "363/363 [==============================] - 4s 12ms/step - loss: 0.3295 - output_loss: 0.3217 - aux_output_loss: 0.3991 - val_loss: 0.3274 - val_output_loss: 0.3196 - val_aux_output_loss: 0.3979\n",
      "Epoch 25/100\n",
      "363/363 [==============================] - 4s 12ms/step - loss: 0.3274 - output_loss: 0.3193 - aux_output_loss: 0.3996 - val_loss: 0.3234 - val_output_loss: 0.3158 - val_aux_output_loss: 0.3919\n",
      "Epoch 26/100\n",
      "363/363 [==============================] - 5s 13ms/step - loss: 0.3265 - output_loss: 0.3187 - aux_output_loss: 0.3970 - val_loss: 0.3195 - val_output_loss: 0.3114 - val_aux_output_loss: 0.3922\n",
      "Epoch 27/100\n",
      "363/363 [==============================] - 4s 11ms/step - loss: 0.3259 - output_loss: 0.3180 - aux_output_loss: 0.3967 - val_loss: 0.3191 - val_output_loss: 0.3113 - val_aux_output_loss: 0.3894\n",
      "Epoch 28/100\n",
      "363/363 [==============================] - 4s 12ms/step - loss: 0.3259 - output_loss: 0.3182 - aux_output_loss: 0.3958 - val_loss: 0.3189 - val_output_loss: 0.3113 - val_aux_output_loss: 0.3873\n",
      "Epoch 29/100\n",
      "363/363 [==============================] - 4s 12ms/step - loss: 0.3292 - output_loss: 0.3218 - aux_output_loss: 0.3965 - val_loss: 0.3217 - val_output_loss: 0.3141 - val_aux_output_loss: 0.3899\n",
      "Epoch 30/100\n",
      "363/363 [==============================] - 5s 14ms/step - loss: 0.3269 - output_loss: 0.3193 - aux_output_loss: 0.3945 - val_loss: 0.3234 - val_output_loss: 0.3152 - val_aux_output_loss: 0.3975\n",
      "Epoch 31/100\n",
      "363/363 [==============================] - 4s 12ms/step - loss: 0.3249 - output_loss: 0.3172 - aux_output_loss: 0.3942 - val_loss: 0.3351 - val_output_loss: 0.3278 - val_aux_output_loss: 0.4002\n",
      "Epoch 32/100\n",
      "363/363 [==============================] - 4s 12ms/step - loss: 0.3239 - output_loss: 0.3162 - aux_output_loss: 0.3934 - val_loss: 0.3255 - val_output_loss: 0.3184 - val_aux_output_loss: 0.3902\n",
      "Epoch 33/100\n",
      "363/363 [==============================] - 4s 12ms/step - loss: 0.3224 - output_loss: 0.3147 - aux_output_loss: 0.3920 - val_loss: 0.3168 - val_output_loss: 0.3086 - val_aux_output_loss: 0.3898\n",
      "Epoch 34/100\n",
      "363/363 [==============================] - 4s 12ms/step - loss: 0.3217 - output_loss: 0.3140 - aux_output_loss: 0.3907 - val_loss: 0.3162 - val_output_loss: 0.3090 - val_aux_output_loss: 0.3813\n",
      "Epoch 35/100\n",
      "363/363 [==============================] - 4s 12ms/step - loss: 0.3236 - output_loss: 0.3161 - aux_output_loss: 0.3911 - val_loss: 0.3271 - val_output_loss: 0.3189 - val_aux_output_loss: 0.4005\n",
      "Epoch 36/100\n",
      "363/363 [==============================] - 4s 12ms/step - loss: 0.3222 - output_loss: 0.3147 - aux_output_loss: 0.3897 - val_loss: 0.3137 - val_output_loss: 0.3062 - val_aux_output_loss: 0.3811\n",
      "Epoch 37/100\n",
      "363/363 [==============================] - 5s 13ms/step - loss: 0.3229 - output_loss: 0.3155 - aux_output_loss: 0.3893 - val_loss: 0.3130 - val_output_loss: 0.3052 - val_aux_output_loss: 0.3828\n",
      "Epoch 38/100\n",
      "363/363 [==============================] - 4s 11ms/step - loss: 0.3265 - output_loss: 0.3194 - aux_output_loss: 0.3899 - val_loss: 0.3120 - val_output_loss: 0.3044 - val_aux_output_loss: 0.3805\n",
      "Epoch 39/100\n",
      "363/363 [==============================] - 4s 12ms/step - loss: 0.3208 - output_loss: 0.3134 - aux_output_loss: 0.3880 - val_loss: 0.3143 - val_output_loss: 0.3067 - val_aux_output_loss: 0.3825\n",
      "Epoch 40/100\n",
      "363/363 [==============================] - 4s 12ms/step - loss: 0.3228 - output_loss: 0.3153 - aux_output_loss: 0.3900 - val_loss: 0.3138 - val_output_loss: 0.3065 - val_aux_output_loss: 0.3794\n"
     ]
    },
    {
     "name": "stdout",
     "output_type": "stream",
     "text": [
      "Epoch 41/100\n",
      "363/363 [==============================] - 4s 12ms/step - loss: 0.3221 - output_loss: 0.3149 - aux_output_loss: 0.3875 - val_loss: 0.3164 - val_output_loss: 0.3087 - val_aux_output_loss: 0.3855\n",
      "Epoch 42/100\n",
      "363/363 [==============================] - 4s 12ms/step - loss: 0.3212 - output_loss: 0.3138 - aux_output_loss: 0.3878 - val_loss: 0.3238 - val_output_loss: 0.3167 - val_aux_output_loss: 0.3869\n",
      "Epoch 43/100\n",
      "363/363 [==============================] - 4s 12ms/step - loss: 0.3210 - output_loss: 0.3137 - aux_output_loss: 0.3867 - val_loss: 0.3147 - val_output_loss: 0.3076 - val_aux_output_loss: 0.3789\n",
      "Epoch 44/100\n",
      "363/363 [==============================] - 4s 12ms/step - loss: 0.3207 - output_loss: 0.3134 - aux_output_loss: 0.3863 - val_loss: 0.3161 - val_output_loss: 0.3092 - val_aux_output_loss: 0.3781\n",
      "Epoch 45/100\n",
      "363/363 [==============================] - 5s 14ms/step - loss: 0.3212 - output_loss: 0.3141 - aux_output_loss: 0.3852 - val_loss: 0.3213 - val_output_loss: 0.3136 - val_aux_output_loss: 0.3907\n",
      "Epoch 46/100\n",
      "363/363 [==============================] - 5s 14ms/step - loss: 0.3190 - output_loss: 0.3117 - aux_output_loss: 0.3851 - val_loss: 0.3118 - val_output_loss: 0.3043 - val_aux_output_loss: 0.3786\n",
      "Epoch 47/100\n",
      "363/363 [==============================] - 5s 14ms/step - loss: 0.3195 - output_loss: 0.3122 - aux_output_loss: 0.3855 - val_loss: 0.3264 - val_output_loss: 0.3192 - val_aux_output_loss: 0.3918\n",
      "Epoch 48/100\n",
      "363/363 [==============================] - 5s 13ms/step - loss: 0.3183 - output_loss: 0.3110 - aux_output_loss: 0.3837 - val_loss: 0.3103 - val_output_loss: 0.3029 - val_aux_output_loss: 0.3761\n",
      "Epoch 49/100\n",
      "363/363 [==============================] - 5s 13ms/step - loss: 0.3193 - output_loss: 0.3122 - aux_output_loss: 0.3835 - val_loss: 0.3151 - val_output_loss: 0.3078 - val_aux_output_loss: 0.3810\n",
      "Epoch 50/100\n",
      "363/363 [==============================] - 5s 14ms/step - loss: 0.3191 - output_loss: 0.3120 - aux_output_loss: 0.3831 - val_loss: 0.3142 - val_output_loss: 0.3070 - val_aux_output_loss: 0.3793\n",
      "Epoch 51/100\n",
      "363/363 [==============================] - 7s 20ms/step - loss: 0.3192 - output_loss: 0.3123 - aux_output_loss: 0.3818 - val_loss: 0.3109 - val_output_loss: 0.3034 - val_aux_output_loss: 0.3782\n",
      "Epoch 52/100\n",
      "363/363 [==============================] - 4s 12ms/step - loss: 0.3186 - output_loss: 0.3114 - aux_output_loss: 0.3835 - val_loss: 0.3141 - val_output_loss: 0.3068 - val_aux_output_loss: 0.3792\n",
      "Epoch 53/100\n",
      "363/363 [==============================] - 4s 11ms/step - loss: 0.3189 - output_loss: 0.3119 - aux_output_loss: 0.3825 - val_loss: 0.3154 - val_output_loss: 0.3084 - val_aux_output_loss: 0.3779\n",
      "Epoch 54/100\n",
      "363/363 [==============================] - 4s 12ms/step - loss: 0.3169 - output_loss: 0.3098 - aux_output_loss: 0.3805 - val_loss: 0.3226 - val_output_loss: 0.3156 - val_aux_output_loss: 0.3852\n",
      "Epoch 55/100\n",
      "363/363 [==============================] - 5s 13ms/step - loss: 0.3183 - output_loss: 0.3114 - aux_output_loss: 0.3809 - val_loss: 0.3088 - val_output_loss: 0.3017 - val_aux_output_loss: 0.3720\n",
      "Epoch 56/100\n",
      "363/363 [==============================] - 4s 11ms/step - loss: 0.3169 - output_loss: 0.3098 - aux_output_loss: 0.3809 - val_loss: 0.3095 - val_output_loss: 0.3027 - val_aux_output_loss: 0.3713\n",
      "Epoch 57/100\n",
      "363/363 [==============================] - 4s 12ms/step - loss: 0.3202 - output_loss: 0.3133 - aux_output_loss: 0.3817 - val_loss: 0.3099 - val_output_loss: 0.3029 - val_aux_output_loss: 0.3730\n",
      "Epoch 58/100\n",
      "363/363 [==============================] - 4s 12ms/step - loss: 0.3177 - output_loss: 0.3105 - aux_output_loss: 0.3817 - val_loss: 0.3127 - val_output_loss: 0.3059 - val_aux_output_loss: 0.3734\n",
      "Epoch 59/100\n",
      "363/363 [==============================] - 4s 11ms/step - loss: 0.3167 - output_loss: 0.3097 - aux_output_loss: 0.3804 - val_loss: 0.3107 - val_output_loss: 0.3033 - val_aux_output_loss: 0.3773\n",
      "Epoch 60/100\n",
      "363/363 [==============================] - 5s 13ms/step - loss: 0.3153 - output_loss: 0.3082 - aux_output_loss: 0.3793 - val_loss: 0.3086 - val_output_loss: 0.3016 - val_aux_output_loss: 0.3710\n",
      "Epoch 61/100\n",
      "363/363 [==============================] - 4s 11ms/step - loss: 0.3143 - output_loss: 0.3073 - aux_output_loss: 0.3773 - val_loss: 0.3129 - val_output_loss: 0.3057 - val_aux_output_loss: 0.3776\n",
      "Epoch 62/100\n",
      "363/363 [==============================] - 5s 12ms/step - loss: 0.3160 - output_loss: 0.3089 - aux_output_loss: 0.3794 - val_loss: 0.3066 - val_output_loss: 0.2997 - val_aux_output_loss: 0.3692\n",
      "Epoch 63/100\n",
      "363/363 [==============================] - 4s 12ms/step - loss: 0.3151 - output_loss: 0.3081 - aux_output_loss: 0.3779 - val_loss: 0.3179 - val_output_loss: 0.3110 - val_aux_output_loss: 0.3801\n",
      "Epoch 64/100\n",
      "363/363 [==============================] - 4s 11ms/step - loss: 0.3161 - output_loss: 0.3091 - aux_output_loss: 0.3788 - val_loss: 0.3133 - val_output_loss: 0.3066 - val_aux_output_loss: 0.3738\n",
      "Epoch 65/100\n",
      "363/363 [==============================] - 4s 11ms/step - loss: 0.3146 - output_loss: 0.3077 - aux_output_loss: 0.3767 - val_loss: 0.3099 - val_output_loss: 0.3032 - val_aux_output_loss: 0.3706\n",
      "Epoch 66/100\n",
      "363/363 [==============================] - 4s 11ms/step - loss: 0.3139 - output_loss: 0.3070 - aux_output_loss: 0.3758 - val_loss: 0.3131 - val_output_loss: 0.3061 - val_aux_output_loss: 0.3754\n",
      "Epoch 67/100\n",
      "363/363 [==============================] - 4s 11ms/step - loss: 0.3140 - output_loss: 0.3073 - aux_output_loss: 0.3749 - val_loss: 0.3220 - val_output_loss: 0.3155 - val_aux_output_loss: 0.3801\n",
      "Epoch 68/100\n",
      "363/363 [==============================] - 5s 13ms/step - loss: 0.3170 - output_loss: 0.3104 - aux_output_loss: 0.3763 - val_loss: 0.3147 - val_output_loss: 0.3084 - val_aux_output_loss: 0.3721\n",
      "Epoch 69/100\n",
      "363/363 [==============================] - 4s 11ms/step - loss: 0.3150 - output_loss: 0.3082 - aux_output_loss: 0.3763 - val_loss: 0.3077 - val_output_loss: 0.3009 - val_aux_output_loss: 0.3693\n",
      "Epoch 70/100\n",
      "363/363 [==============================] - 4s 11ms/step - loss: 0.3151 - output_loss: 0.3083 - aux_output_loss: 0.3757 - val_loss: 0.3120 - val_output_loss: 0.3054 - val_aux_output_loss: 0.3713\n",
      "Epoch 71/100\n",
      "363/363 [==============================] - 5s 13ms/step - loss: 0.3131 - output_loss: 0.3064 - aux_output_loss: 0.3734 - val_loss: 0.3161 - val_output_loss: 0.3091 - val_aux_output_loss: 0.3795\n",
      "Epoch 72/100\n",
      "363/363 [==============================] - 4s 12ms/step - loss: 0.3130 - output_loss: 0.3062 - aux_output_loss: 0.3741 - val_loss: 0.3153 - val_output_loss: 0.3083 - val_aux_output_loss: 0.3781\n"
     ]
    }
   ],
   "source": [
    "early_stopping_cb = keras.callbacks.EarlyStopping(patience=10, restore_best_weights=True)\n",
    "history = model.fit([X_train_A, X_train_B], [y_train, y_train], epochs=100,\n",
    "                   validation_data=([X_valid_A, X_valid_B], [y_valid, y_valid]),\n",
    "                   callbacks=[checkpoint_cb, early_stopping_cb])"
   ]
  },
  {
   "cell_type": "code",
   "execution_count": 50,
   "id": "d402a4f5",
   "metadata": {},
   "outputs": [],
   "source": [
    "# Custom callback\n",
    "class PrintValTrainRatioCallback(keras.callbacks.Callback):\n",
    "    def on_epoch_end(self, epoch, logs):\n",
    "        print(\"\\nval/train: {:.2f}\".format(logs[\"val_loss\"] / logs[\"loss\"]))\n",
    "print_val_train_ratio_cb = PrintValTrainRatioCallback()"
   ]
  },
  {
   "cell_type": "code",
   "execution_count": 51,
   "id": "a254aa0c",
   "metadata": {},
   "outputs": [
    {
     "name": "stdout",
     "output_type": "stream",
     "text": [
      "Epoch 1/10\n",
      "363/363 [==============================] - 3s 9ms/step - loss: 0.3146 - output_loss: 0.3076 - aux_output_loss: 0.3775 - val_loss: 0.3089 - val_output_loss: 0.3023 - val_aux_output_loss: 0.3680\n",
      "\n",
      "val/train: 0.98\n",
      "Epoch 2/10\n",
      "363/363 [==============================] - 3s 9ms/step - loss: 0.3136 - output_loss: 0.3067 - aux_output_loss: 0.3763 - val_loss: 0.3120 - val_output_loss: 0.3052 - val_aux_output_loss: 0.3733\n",
      "\n",
      "val/train: 0.99\n",
      "Epoch 3/10\n",
      "363/363 [==============================] - 3s 9ms/step - loss: 0.3148 - output_loss: 0.3080 - aux_output_loss: 0.3760 - val_loss: 0.3122 - val_output_loss: 0.3057 - val_aux_output_loss: 0.3705\n",
      "\n",
      "val/train: 0.99\n",
      "Epoch 4/10\n",
      "363/363 [==============================] - 3s 8ms/step - loss: 0.3151 - output_loss: 0.3082 - aux_output_loss: 0.3771 - val_loss: 0.3102 - val_output_loss: 0.3032 - val_aux_output_loss: 0.3729\n",
      "\n",
      "val/train: 0.98\n",
      "Epoch 5/10\n",
      "363/363 [==============================] - 3s 9ms/step - loss: 0.3138 - output_loss: 0.3069 - aux_output_loss: 0.3756 - val_loss: 0.3116 - val_output_loss: 0.3044 - val_aux_output_loss: 0.3758\n",
      "\n",
      "val/train: 0.99\n",
      "Epoch 6/10\n",
      "363/363 [==============================] - 3s 8ms/step - loss: 0.3156 - output_loss: 0.3089 - aux_output_loss: 0.3763 - val_loss: 0.3085 - val_output_loss: 0.3013 - val_aux_output_loss: 0.3732\n",
      "\n",
      "val/train: 0.98\n",
      "Epoch 7/10\n",
      "363/363 [==============================] - 4s 10ms/step - loss: 0.3134 - output_loss: 0.3064 - aux_output_loss: 0.3764 - val_loss: 0.3142 - val_output_loss: 0.3078 - val_aux_output_loss: 0.3718\n",
      "\n",
      "val/train: 1.00\n",
      "Epoch 8/10\n",
      "363/363 [==============================] - 3s 9ms/step - loss: 0.3121 - output_loss: 0.3053 - aux_output_loss: 0.3738 - val_loss: 0.3069 - val_output_loss: 0.2998 - val_aux_output_loss: 0.3710\n",
      "\n",
      "val/train: 0.98\n",
      "Epoch 9/10\n",
      "363/363 [==============================] - 3s 8ms/step - loss: 0.3135 - output_loss: 0.3068 - aux_output_loss: 0.3741 - val_loss: 0.3190 - val_output_loss: 0.3120 - val_aux_output_loss: 0.3819\n",
      "\n",
      "val/train: 1.02\n",
      "Epoch 10/10\n",
      "363/363 [==============================] - 3s 8ms/step - loss: 0.3140 - output_loss: 0.3071 - aux_output_loss: 0.3755 - val_loss: 0.3122 - val_output_loss: 0.3056 - val_aux_output_loss: 0.3716\n",
      "\n",
      "val/train: 0.99\n"
     ]
    }
   ],
   "source": [
    "history = model.fit([X_train_A, X_train_B], [y_train, y_train], epochs=10,\n",
    "                   validation_data=([X_valid_A, X_valid_B], [y_valid, y_valid]),\n",
    "                   callbacks=[checkpoint_cb, print_val_train_ratio_cb])"
   ]
  },
  {
   "cell_type": "markdown",
   "id": "884a149a",
   "metadata": {},
   "source": [
    "## Using TensorBoard for Visualization"
   ]
  },
  {
   "cell_type": "code",
   "execution_count": 52,
   "id": "59412260",
   "metadata": {},
   "outputs": [
    {
     "name": "stdout",
     "output_type": "stream",
     "text": [
      "./my_logs/run_2021_08_13-09_56_36\n"
     ]
    }
   ],
   "source": [
    "import os\n",
    "root_logdir = os.path.join(os.curdir, \"my_logs\")\n",
    "\n",
    "def get_run_logdir():\n",
    "    import time\n",
    "    run_id = time.strftime(\"run_%Y_%m_%d-%H_%M_%S\")\n",
    "    return os.path.join(root_logdir, run_id)\n",
    "\n",
    "run_logdir = get_run_logdir() # e.g., \"./my_logs/run_2019_06_07-15_15_22\"\n",
    "print(run_logdir)"
   ]
  },
  {
   "cell_type": "code",
   "execution_count": 61,
   "id": "80375a90",
   "metadata": {},
   "outputs": [
    {
     "name": "stdout",
     "output_type": "stream",
     "text": [
      "Epoch 1/10\n",
      "363/363 [==============================] - 4s 10ms/step - loss: 0.3115 - output_loss: 0.3048 - aux_output_loss: 0.3715 - val_loss: 0.3107 - val_output_loss: 0.3041 - val_aux_output_loss: 0.3704\n",
      "Epoch 2/10\n",
      "363/363 [==============================] - 3s 9ms/step - loss: 0.3110 - output_loss: 0.3043 - aux_output_loss: 0.3706 - val_loss: 0.3227 - val_output_loss: 0.3179 - val_aux_output_loss: 0.3658\n",
      "Epoch 3/10\n",
      "363/363 [==============================] - 4s 11ms/step - loss: 0.3116 - output_loss: 0.3051 - aux_output_loss: 0.3695 - val_loss: 0.3053 - val_output_loss: 0.2984 - val_aux_output_loss: 0.3670\n",
      "Epoch 4/10\n",
      "363/363 [==============================] - 3s 9ms/step - loss: 0.3133 - output_loss: 0.3068 - aux_output_loss: 0.3715 - val_loss: 0.3470 - val_output_loss: 0.3430 - val_aux_output_loss: 0.3832\n",
      "Epoch 5/10\n",
      "363/363 [==============================] - 3s 8ms/step - loss: 0.3138 - output_loss: 0.3069 - aux_output_loss: 0.3758 - val_loss: 0.3676 - val_output_loss: 0.3662 - val_aux_output_loss: 0.3804\n",
      "Epoch 6/10\n",
      "363/363 [==============================] - 4s 11ms/step - loss: 0.3156 - output_loss: 0.3095 - aux_output_loss: 0.3710 - val_loss: 0.3168 - val_output_loss: 0.3108 - val_aux_output_loss: 0.3706\n",
      "Epoch 7/10\n",
      "363/363 [==============================] - 4s 11ms/step - loss: 0.3127 - output_loss: 0.3063 - aux_output_loss: 0.3699 - val_loss: 0.3096 - val_output_loss: 0.3035 - val_aux_output_loss: 0.3651\n",
      "Epoch 8/10\n",
      "363/363 [==============================] - 4s 10ms/step - loss: 0.3088 - output_loss: 0.3022 - aux_output_loss: 0.3685 - val_loss: 0.3134 - val_output_loss: 0.3070 - val_aux_output_loss: 0.3709\n",
      "Epoch 9/10\n",
      "363/363 [==============================] - 3s 9ms/step - loss: 0.3090 - output_loss: 0.3024 - aux_output_loss: 0.3678 - val_loss: 0.3196 - val_output_loss: 0.3145 - val_aux_output_loss: 0.3661\n",
      "Epoch 10/10\n",
      "363/363 [==============================] - 3s 9ms/step - loss: 0.3096 - output_loss: 0.3030 - aux_output_loss: 0.3687 - val_loss: 0.3106 - val_output_loss: 0.3042 - val_aux_output_loss: 0.3679\n"
     ]
    }
   ],
   "source": [
    "tensorboard_cb = keras.callbacks.TensorBoard(run_logdir)\n",
    "history = model.fit([X_train_A, X_train_B], [y_train, y_train], epochs=10,\n",
    "                   validation_data=([X_valid_A, X_valid_B], [y_valid, y_valid]),\n",
    "                   callbacks=[tensorboard_cb])"
   ]
  },
  {
   "cell_type": "code",
   "execution_count": 54,
   "id": "f16eceea",
   "metadata": {},
   "outputs": [
    {
     "data": {
      "text/plain": [
       "Reusing TensorBoard on port 6006 (pid 105037), started 2 days, 0:28:01 ago. (Use '!kill 105037' to kill it.)"
      ]
     },
     "metadata": {},
     "output_type": "display_data"
    },
    {
     "data": {
      "text/html": [
       "\n",
       "      <iframe id=\"tensorboard-frame-f62a0ad449a2a283\" width=\"100%\" height=\"800\" frameborder=\"0\">\n",
       "      </iframe>\n",
       "      <script>\n",
       "        (function() {\n",
       "          const frame = document.getElementById(\"tensorboard-frame-f62a0ad449a2a283\");\n",
       "          const url = new URL(\"/\", window.location);\n",
       "          const port = 6006;\n",
       "          if (port) {\n",
       "            url.port = port;\n",
       "          }\n",
       "          frame.src = url;\n",
       "        })();\n",
       "      </script>\n",
       "    "
      ],
      "text/plain": [
       "<IPython.core.display.HTML object>"
      ]
     },
     "metadata": {},
     "output_type": "display_data"
    }
   ],
   "source": [
    "%load_ext tensorboard\n",
    "%tensorboard --logdir=./my_logs --port=6006"
   ]
  },
  {
   "cell_type": "code",
   "execution_count": 62,
   "id": "69c17f92",
   "metadata": {},
   "outputs": [],
   "source": [
    "# Customized logs\n",
    "test_logdir = get_run_logdir()\n",
    "writer = tf.summary.create_file_writer(test_logdir)\n",
    "with writer.as_default():\n",
    "    for step in range(1, 1000 + 1):\n",
    "        tf.summary.scalar(\"my_scalar\", np.sin(step / 10), step=step)\n",
    "        data = (np.random.randn(100) + 2) * step / 100 # some random data\n",
    "        tf.summary.histogram(\"my_hist\", data, buckets=50, step=step)\n",
    "        images = np.random.rand(2, 32, 32, 3) # random 32x32 RGB images\n",
    "        tf.summary.image(\"my_images\", images * step / 1000, step=step)\n",
    "        texts = [\"The step is \" + str(step), \"Its square is \" + str(step**2)]\n",
    "        tf.summary.text(\"my_text\", texts, step=step)\n",
    "        sine_wave = tf.math.sin(tf.range(12000) / 48000 * 2 * np.pi * step)\n",
    "        audio = tf.reshape(tf.cast(sine_wave, tf.float32), [1, -1, 1])\n",
    "        tf.summary.audio(\"my_audio\", audio, sample_rate=48000, step=step)"
   ]
  },
  {
   "cell_type": "markdown",
   "id": "08ac8f8e",
   "metadata": {},
   "source": [
    "# Fine-Tuning Neural Network Hyperparameters"
   ]
  },
  {
   "cell_type": "code",
   "execution_count": 63,
   "id": "309c4e92",
   "metadata": {},
   "outputs": [],
   "source": [
    "def build_model(n_hidden=1, n_neurons=30, learning_rate=3e-3, input_shape=[8]):\n",
    "    model = keras.models.Sequential()\n",
    "    model.add(keras.layers.InputLayer(input_shape))\n",
    "    for layer in range(n_hidden):\n",
    "        model.add(keras.layers.Dense(n_neurons, activation=\"relu\"))\n",
    "    model.add(keras.layers.Dense(1))\n",
    "    optimizer = keras.optimizers.SGD(lr=learning_rate)\n",
    "    model.compile(loss=\"mse\", optimizer=optimizer)\n",
    "    return model"
   ]
  },
  {
   "cell_type": "code",
   "execution_count": 64,
   "id": "0a21f868",
   "metadata": {},
   "outputs": [],
   "source": [
    "keras_reg = keras.wrappers.scikit_learn.KerasRegressor(build_model)"
   ]
  },
  {
   "cell_type": "code",
   "execution_count": 67,
   "id": "a1281328",
   "metadata": {
    "scrolled": false
   },
   "outputs": [
    {
     "name": "stdout",
     "output_type": "stream",
     "text": [
      "Epoch 1/10\n",
      "363/363 [==============================] - 4s 8ms/step - loss: 1.5218 - val_loss: 0.6805\n",
      "Epoch 2/10\n",
      "363/363 [==============================] - 6s 16ms/step - loss: 0.7082 - val_loss: 0.6192\n",
      "Epoch 3/10\n",
      "363/363 [==============================] - 6s 17ms/step - loss: 0.6032 - val_loss: 0.5687\n",
      "Epoch 4/10\n",
      "363/363 [==============================] - 6s 16ms/step - loss: 0.5616 - val_loss: 0.5320\n",
      "Epoch 5/10\n",
      "363/363 [==============================] - 6s 18ms/step - loss: 0.5374 - val_loss: 0.5099\n",
      "Epoch 6/10\n",
      "363/363 [==============================] - 6s 18ms/step - loss: 0.5134 - val_loss: 0.4898\n",
      "Epoch 7/10\n",
      "363/363 [==============================] - 6s 16ms/step - loss: 0.4976 - val_loss: 0.4776\n",
      "Epoch 8/10\n",
      "363/363 [==============================] - 6s 18ms/step - loss: 0.4877 - val_loss: 0.4645\n",
      "Epoch 9/10\n",
      "363/363 [==============================] - 6s 16ms/step - loss: 0.4772 - val_loss: 0.4539\n",
      "Epoch 10/10\n",
      "363/363 [==============================] - 6s 16ms/step - loss: 0.4752 - val_loss: 0.4532\n",
      "162/162 [==============================] - 2s 9ms/step - loss: 0.4394\n",
      "WARNING:tensorflow:5 out of the last 6 calls to <function Model.make_predict_function.<locals>.predict_function at 0x7f43996abd90> triggered tf.function retracing. Tracing is expensive and the excessive number of tracings could be due to (1) creating @tf.function repeatedly in a loop, (2) passing tensors with different shapes, (3) passing Python objects instead of tensors. For (1), please define your @tf.function outside of the loop. For (2), @tf.function has experimental_relax_shapes=True option that relaxes argument shapes that can avoid unnecessary retracing. For (3), please refer to https://www.tensorflow.org/guide/function#controlling_retracing and https://www.tensorflow.org/api_docs/python/tf/function for  more details.\n"
     ]
    }
   ],
   "source": [
    "keras_reg.fit(X_train, y_train, epochs=10,\n",
    "             validation_data=(X_valid, y_valid),\n",
    "             callbacks=[keras.callbacks.EarlyStopping(patience=10)])\n",
    "mse_test = keras_reg.score(X_test, y_test)\n",
    "y_pred = keras_reg.predict(X_test[0:3,:])"
   ]
  },
  {
   "cell_type": "code",
   "execution_count": 70,
   "id": "ea97ecac",
   "metadata": {
    "scrolled": true
   },
   "outputs": [
    {
     "name": "stderr",
     "output_type": "stream",
     "text": [
      "/home/benson516/ml/my_env/lib/python3.6/site-packages/tensorflow/python/keras/optimizer_v2/optimizer_v2.py:375: UserWarning: The `lr` argument is deprecated, use `learning_rate` instead.\n",
      "  \"The `lr` argument is deprecated, use `learning_rate` instead.\")\n"
     ]
    },
    {
     "name": "stdout",
     "output_type": "stream",
     "text": [
      "Epoch 1/5\n",
      "242/242 [==============================] - 14s 52ms/step - loss: 2.6748 - val_loss: 1.1190\n",
      "Epoch 2/5\n",
      "242/242 [==============================] - 6s 26ms/step - loss: 0.8798 - val_loss: 0.7583\n",
      "Epoch 3/5\n",
      "242/242 [==============================] - 6s 24ms/step - loss: 0.7197 - val_loss: 0.6916\n",
      "Epoch 4/5\n",
      "242/242 [==============================] - 6s 26ms/step - loss: 0.6823 - val_loss: 0.6591\n",
      "Epoch 5/5\n",
      "242/242 [==============================] - 6s 27ms/step - loss: 0.6586 - val_loss: 0.6376\n",
      "121/121 [==============================] - 2s 14ms/step - loss: 0.6738\n"
     ]
    },
    {
     "name": "stderr",
     "output_type": "stream",
     "text": [
      "/home/benson516/ml/my_env/lib/python3.6/site-packages/tensorflow/python/keras/optimizer_v2/optimizer_v2.py:375: UserWarning: The `lr` argument is deprecated, use `learning_rate` instead.\n",
      "  \"The `lr` argument is deprecated, use `learning_rate` instead.\")\n"
     ]
    },
    {
     "name": "stdout",
     "output_type": "stream",
     "text": [
      "Epoch 1/5\n",
      "242/242 [==============================] - 8s 27ms/step - loss: 2.4990 - val_loss: 1.1089\n",
      "Epoch 2/5\n",
      "242/242 [==============================] - 6s 26ms/step - loss: 0.8687 - val_loss: 0.7583\n",
      "Epoch 3/5\n",
      "242/242 [==============================] - 8s 35ms/step - loss: 0.7348 - val_loss: 0.6874\n",
      "Epoch 4/5\n",
      "242/242 [==============================] - 8s 35ms/step - loss: 0.6952 - val_loss: 0.6565\n",
      "Epoch 5/5\n",
      "242/242 [==============================] - 7s 29ms/step - loss: 0.6725 - val_loss: 0.6333\n",
      "121/121 [==============================] - 2s 14ms/step - loss: 0.6463\n"
     ]
    },
    {
     "name": "stderr",
     "output_type": "stream",
     "text": [
      "/home/benson516/ml/my_env/lib/python3.6/site-packages/tensorflow/python/keras/optimizer_v2/optimizer_v2.py:375: UserWarning: The `lr` argument is deprecated, use `learning_rate` instead.\n",
      "  \"The `lr` argument is deprecated, use `learning_rate` instead.\")\n"
     ]
    },
    {
     "name": "stdout",
     "output_type": "stream",
     "text": [
      "Epoch 1/5\n",
      "242/242 [==============================] - 8s 28ms/step - loss: 2.8603 - val_loss: 1.3907\n",
      "Epoch 2/5\n",
      "242/242 [==============================] - 7s 31ms/step - loss: 1.0509 - val_loss: 0.8665\n",
      "Epoch 3/5\n",
      "242/242 [==============================] - 7s 29ms/step - loss: 0.8064 - val_loss: 0.7588\n",
      "Epoch 4/5\n",
      "242/242 [==============================] - 7s 28ms/step - loss: 0.7434 - val_loss: 0.7192\n",
      "Epoch 5/5\n",
      "242/242 [==============================] - 7s 28ms/step - loss: 0.7109 - val_loss: 0.6891\n",
      "121/121 [==============================] - 2s 15ms/step - loss: 0.7080\n"
     ]
    },
    {
     "name": "stderr",
     "output_type": "stream",
     "text": [
      "/home/benson516/ml/my_env/lib/python3.6/site-packages/tensorflow/python/keras/optimizer_v2/optimizer_v2.py:375: UserWarning: The `lr` argument is deprecated, use `learning_rate` instead.\n",
      "  \"The `lr` argument is deprecated, use `learning_rate` instead.\")\n"
     ]
    },
    {
     "name": "stdout",
     "output_type": "stream",
     "text": [
      "Epoch 1/5\n",
      "242/242 [==============================] - 9s 35ms/step - loss: 2.2894 - val_loss: 0.9753\n",
      "Epoch 2/5\n",
      "242/242 [==============================] - 7s 30ms/step - loss: 0.8726 - val_loss: 0.7781\n",
      "Epoch 3/5\n",
      "242/242 [==============================] - 7s 30ms/step - loss: 0.7666 - val_loss: 0.7242\n",
      "Epoch 4/5\n",
      "242/242 [==============================] - 7s 30ms/step - loss: 0.7212 - val_loss: 0.6884\n",
      "Epoch 5/5\n",
      "242/242 [==============================] - 7s 29ms/step - loss: 0.6859 - val_loss: 0.6597\n",
      "121/121 [==============================] - 1s 10ms/step - loss: 0.7086\n"
     ]
    },
    {
     "name": "stderr",
     "output_type": "stream",
     "text": [
      "/home/benson516/ml/my_env/lib/python3.6/site-packages/tensorflow/python/keras/optimizer_v2/optimizer_v2.py:375: UserWarning: The `lr` argument is deprecated, use `learning_rate` instead.\n",
      "  \"The `lr` argument is deprecated, use `learning_rate` instead.\")\n"
     ]
    },
    {
     "name": "stdout",
     "output_type": "stream",
     "text": [
      "Epoch 1/5\n",
      "242/242 [==============================] - 8s 31ms/step - loss: 2.9852 - val_loss: 1.3677\n",
      "Epoch 2/5\n",
      "242/242 [==============================] - 7s 31ms/step - loss: 1.0205 - val_loss: 0.8747\n",
      "Epoch 3/5\n",
      "242/242 [==============================] - 7s 31ms/step - loss: 0.7869 - val_loss: 0.7522\n",
      "Epoch 4/5\n",
      "242/242 [==============================] - 12s 49ms/step - loss: 0.7112 - val_loss: 0.7017\n",
      "Epoch 5/5\n",
      "242/242 [==============================] - 6s 27ms/step - loss: 0.6740 - val_loss: 0.6672\n",
      "121/121 [==============================] - 2s 15ms/step - loss: 0.6369\n"
     ]
    },
    {
     "name": "stderr",
     "output_type": "stream",
     "text": [
      "/home/benson516/ml/my_env/lib/python3.6/site-packages/tensorflow/python/keras/optimizer_v2/optimizer_v2.py:375: UserWarning: The `lr` argument is deprecated, use `learning_rate` instead.\n",
      "  \"The `lr` argument is deprecated, use `learning_rate` instead.\")\n"
     ]
    },
    {
     "name": "stdout",
     "output_type": "stream",
     "text": [
      "Epoch 1/5\n",
      "242/242 [==============================] - 8s 30ms/step - loss: 2.3801 - val_loss: 1.2529\n",
      "Epoch 2/5\n",
      "242/242 [==============================] - 7s 29ms/step - loss: 1.0347 - val_loss: 0.9304\n",
      "Epoch 3/5\n",
      "242/242 [==============================] - 7s 30ms/step - loss: 0.8449 - val_loss: 0.8057\n",
      "Epoch 4/5\n",
      "242/242 [==============================] - 7s 28ms/step - loss: 0.7752 - val_loss: 0.7528\n",
      "Epoch 5/5\n",
      "242/242 [==============================] - 7s 27ms/step - loss: 0.7346 - val_loss: 0.7150\n",
      "121/121 [==============================] - 2s 15ms/step - loss: 0.7232\n"
     ]
    },
    {
     "name": "stderr",
     "output_type": "stream",
     "text": [
      "/home/benson516/ml/my_env/lib/python3.6/site-packages/tensorflow/python/keras/optimizer_v2/optimizer_v2.py:375: UserWarning: The `lr` argument is deprecated, use `learning_rate` instead.\n",
      "  \"The `lr` argument is deprecated, use `learning_rate` instead.\")\n"
     ]
    },
    {
     "name": "stdout",
     "output_type": "stream",
     "text": [
      "Epoch 1/5\n",
      "242/242 [==============================] - 8s 28ms/step - loss: 0.9466 - val_loss: 0.4692\n",
      "Epoch 2/5\n",
      "242/242 [==============================] - 6s 26ms/step - loss: 0.4451 - val_loss: 0.4262\n",
      "Epoch 3/5\n",
      "242/242 [==============================] - 6s 25ms/step - loss: 0.4152 - val_loss: 0.3953\n",
      "Epoch 4/5\n",
      "242/242 [==============================] - 6s 25ms/step - loss: 0.3994 - val_loss: 0.4035\n",
      "Epoch 5/5\n",
      "242/242 [==============================] - 6s 24ms/step - loss: 0.3911 - val_loss: 0.4092\n",
      "121/121 [==============================] - 2s 14ms/step - loss: 0.4231\n"
     ]
    },
    {
     "name": "stderr",
     "output_type": "stream",
     "text": [
      "/home/benson516/ml/my_env/lib/python3.6/site-packages/tensorflow/python/keras/optimizer_v2/optimizer_v2.py:375: UserWarning: The `lr` argument is deprecated, use `learning_rate` instead.\n",
      "  \"The `lr` argument is deprecated, use `learning_rate` instead.\")\n"
     ]
    },
    {
     "name": "stdout",
     "output_type": "stream",
     "text": [
      "Epoch 1/5\n",
      "242/242 [==============================] - 7s 26ms/step - loss: 0.6554 - val_loss: 0.4771\n",
      "Epoch 2/5\n",
      "242/242 [==============================] - 6s 26ms/step - loss: 0.4504 - val_loss: 0.4082\n",
      "Epoch 3/5\n",
      "242/242 [==============================] - 6s 27ms/step - loss: 0.4161 - val_loss: 0.4185\n",
      "Epoch 4/5\n",
      "242/242 [==============================] - 6s 27ms/step - loss: 0.4051 - val_loss: 0.3796\n",
      "Epoch 5/5\n",
      "242/242 [==============================] - 6s 26ms/step - loss: 0.3961 - val_loss: 0.3784\n",
      "121/121 [==============================] - 2s 13ms/step - loss: 0.3853\n"
     ]
    },
    {
     "name": "stderr",
     "output_type": "stream",
     "text": [
      "/home/benson516/ml/my_env/lib/python3.6/site-packages/tensorflow/python/keras/optimizer_v2/optimizer_v2.py:375: UserWarning: The `lr` argument is deprecated, use `learning_rate` instead.\n",
      "  \"The `lr` argument is deprecated, use `learning_rate` instead.\")\n"
     ]
    },
    {
     "name": "stdout",
     "output_type": "stream",
     "text": [
      "Epoch 1/5\n",
      "242/242 [==============================] - 8s 28ms/step - loss: 0.7702 - val_loss: 0.4792\n",
      "Epoch 2/5\n",
      "242/242 [==============================] - 6s 26ms/step - loss: 1.8533 - val_loss: 1.1632\n",
      "Epoch 3/5\n",
      "242/242 [==============================] - 6s 24ms/step - loss: 0.6585 - val_loss: 0.5579\n",
      "Epoch 4/5\n",
      "242/242 [==============================] - 6s 24ms/step - loss: 0.5121 - val_loss: 0.4745\n",
      "Epoch 5/5\n",
      "242/242 [==============================] - 6s 25ms/step - loss: 0.4484 - val_loss: 0.4431\n",
      "121/121 [==============================] - 2s 13ms/step - loss: 0.4499\n"
     ]
    },
    {
     "name": "stderr",
     "output_type": "stream",
     "text": [
      "/home/benson516/ml/my_env/lib/python3.6/site-packages/tensorflow/python/keras/optimizer_v2/optimizer_v2.py:375: UserWarning: The `lr` argument is deprecated, use `learning_rate` instead.\n",
      "  \"The `lr` argument is deprecated, use `learning_rate` instead.\")\n"
     ]
    },
    {
     "name": "stdout",
     "output_type": "stream",
     "text": [
      "Epoch 1/5\n",
      "242/242 [==============================] - 7s 24ms/step - loss: 0.9744 - val_loss: 0.6284\n",
      "Epoch 2/5\n",
      "242/242 [==============================] - 6s 25ms/step - loss: 0.7677 - val_loss: 0.5942\n",
      "Epoch 3/5\n",
      "242/242 [==============================] - 6s 23ms/step - loss: 0.7328 - val_loss: 0.5041\n",
      "Epoch 4/5\n",
      "242/242 [==============================] - 6s 24ms/step - loss: 0.4936 - val_loss: 0.4665\n",
      "Epoch 5/5\n",
      "242/242 [==============================] - 6s 25ms/step - loss: 0.4661 - val_loss: 0.4343\n",
      "121/121 [==============================] - 2s 13ms/step - loss: 0.4572\n"
     ]
    },
    {
     "name": "stderr",
     "output_type": "stream",
     "text": [
      "/home/benson516/ml/my_env/lib/python3.6/site-packages/tensorflow/python/keras/optimizer_v2/optimizer_v2.py:375: UserWarning: The `lr` argument is deprecated, use `learning_rate` instead.\n",
      "  \"The `lr` argument is deprecated, use `learning_rate` instead.\")\n"
     ]
    },
    {
     "name": "stdout",
     "output_type": "stream",
     "text": [
      "Epoch 1/5\n",
      "242/242 [==============================] - 7s 24ms/step - loss: 1.2799 - val_loss: 0.5836\n",
      "Epoch 2/5\n",
      "242/242 [==============================] - 6s 24ms/step - loss: 0.5606 - val_loss: 0.4882\n",
      "Epoch 3/5\n",
      "242/242 [==============================] - 6s 26ms/step - loss: 0.4949 - val_loss: 0.4517\n",
      "Epoch 4/5\n",
      "242/242 [==============================] - 6s 26ms/step - loss: 0.4670 - val_loss: 0.4267\n",
      "Epoch 5/5\n",
      "242/242 [==============================] - 6s 25ms/step - loss: 0.4466 - val_loss: 0.4137\n",
      "121/121 [==============================] - 1s 11ms/step - loss: 0.4163\n"
     ]
    },
    {
     "name": "stderr",
     "output_type": "stream",
     "text": [
      "/home/benson516/ml/my_env/lib/python3.6/site-packages/tensorflow/python/keras/optimizer_v2/optimizer_v2.py:375: UserWarning: The `lr` argument is deprecated, use `learning_rate` instead.\n",
      "  \"The `lr` argument is deprecated, use `learning_rate` instead.\")\n"
     ]
    },
    {
     "name": "stdout",
     "output_type": "stream",
     "text": [
      "Epoch 1/5\n",
      "242/242 [==============================] - 8s 29ms/step - loss: 1.1056 - val_loss: 0.5882\n",
      "Epoch 2/5\n",
      "242/242 [==============================] - 6s 24ms/step - loss: 0.7551 - val_loss: 0.5723\n",
      "Epoch 3/5\n",
      "242/242 [==============================] - 6s 23ms/step - loss: 0.5669 - val_loss: 0.4943\n",
      "Epoch 4/5\n",
      "242/242 [==============================] - 6s 26ms/step - loss: 0.4872 - val_loss: 0.4560\n",
      "Epoch 5/5\n",
      "242/242 [==============================] - 6s 25ms/step - loss: 0.4582 - val_loss: 0.4396\n",
      "121/121 [==============================] - 2s 17ms/step - loss: 0.4661\n"
     ]
    },
    {
     "name": "stderr",
     "output_type": "stream",
     "text": [
      "/home/benson516/ml/my_env/lib/python3.6/site-packages/tensorflow/python/keras/optimizer_v2/optimizer_v2.py:375: UserWarning: The `lr` argument is deprecated, use `learning_rate` instead.\n",
      "  \"The `lr` argument is deprecated, use `learning_rate` instead.\")\n"
     ]
    },
    {
     "name": "stdout",
     "output_type": "stream",
     "text": [
      "Epoch 1/5\n",
      "242/242 [==============================] - 9s 33ms/step - loss: 3.1571 - val_loss: 2.1461TA: 1s - loss: 3.357 - E\n",
      "Epoch 2/5\n",
      "242/242 [==============================] - 8s 32ms/step - loss: 1.6306 - val_loss: 1.3089\n",
      "Epoch 3/5\n",
      "242/242 [==============================] - 7s 31ms/step - loss: 1.0990 - val_loss: 0.9846\n",
      "Epoch 4/5\n",
      "242/242 [==============================] - 7s 28ms/step - loss: 0.8862 - val_loss: 0.8300\n",
      "Epoch 5/5\n",
      "242/242 [==============================] - 8s 32ms/step - loss: 0.7725 - val_loss: 0.7409\n",
      "121/121 [==============================] - 3s 28ms/step - loss: 0.7648\n"
     ]
    },
    {
     "name": "stderr",
     "output_type": "stream",
     "text": [
      "/home/benson516/ml/my_env/lib/python3.6/site-packages/tensorflow/python/keras/optimizer_v2/optimizer_v2.py:375: UserWarning: The `lr` argument is deprecated, use `learning_rate` instead.\n",
      "  \"The `lr` argument is deprecated, use `learning_rate` instead.\")\n"
     ]
    },
    {
     "name": "stdout",
     "output_type": "stream",
     "text": [
      "Epoch 1/5\n",
      "242/242 [==============================] - 11s 38ms/step - loss: 3.4501 - val_loss: 1.7368\n",
      "Epoch 2/5\n",
      "242/242 [==============================] - 6s 26ms/step - loss: 1.4048 - val_loss: 1.0682\n",
      "Epoch 3/5\n",
      "242/242 [==============================] - 6s 26ms/step - loss: 0.9534 - val_loss: 0.8657\n",
      "Epoch 4/5\n",
      "242/242 [==============================] - 5s 22ms/step - loss: 0.8259 - val_loss: 0.7755\n",
      "Epoch 5/5\n",
      "242/242 [==============================] - 10s 40ms/step - loss: 0.7690 - val_loss: 0.7290\n",
      "121/121 [==============================] - 1s 11ms/step - loss: 0.7362\n"
     ]
    },
    {
     "name": "stderr",
     "output_type": "stream",
     "text": [
      "/home/benson516/ml/my_env/lib/python3.6/site-packages/tensorflow/python/keras/optimizer_v2/optimizer_v2.py:375: UserWarning: The `lr` argument is deprecated, use `learning_rate` instead.\n",
      "  \"The `lr` argument is deprecated, use `learning_rate` instead.\")\n"
     ]
    },
    {
     "name": "stdout",
     "output_type": "stream",
     "text": [
      "Epoch 1/5\n",
      "242/242 [==============================] - 6s 22ms/step - loss: 3.1314 - val_loss: 1.8524\n",
      "Epoch 2/5\n",
      "242/242 [==============================] - 6s 23ms/step - loss: 1.4491 - val_loss: 1.1084\n",
      "Epoch 3/5\n",
      "242/242 [==============================] - 6s 25ms/step - loss: 0.9759 - val_loss: 0.8451\n",
      "Epoch 4/5\n",
      "242/242 [==============================] - 6s 23ms/step - loss: 0.7978 - val_loss: 0.7404\n",
      "Epoch 5/5\n",
      "242/242 [==============================] - 5s 20ms/step - loss: 0.7228 - val_loss: 0.6937\n",
      "121/121 [==============================] - 1s 11ms/step - loss: 0.7148\n",
      "Epoch 1/5\n",
      "363/363 [==============================] - 9s 22ms/step - loss: 0.6500 - val_loss: 0.4977\n",
      "Epoch 2/5\n",
      "363/363 [==============================] - 9s 24ms/step - loss: 0.4651 - val_loss: 0.4060\n",
      "Epoch 3/5\n",
      "363/363 [==============================] - 9s 26ms/step - loss: 0.4110 - val_loss: 0.3725\n",
      "Epoch 4/5\n",
      "363/363 [==============================] - 11s 30ms/step - loss: 0.3845 - val_loss: 0.3646\n",
      "Epoch 5/5\n",
      "363/363 [==============================] - 9s 26ms/step - loss: 0.3697 - val_loss: 0.3546\n"
     ]
    },
    {
     "data": {
      "text/plain": [
       "RandomizedSearchCV(cv=3,\n",
       "                   estimator=<tensorflow.python.keras.wrappers.scikit_learn.KerasRegressor object at 0x7f432b24e5f8>,\n",
       "                   n_iter=5,\n",
       "                   param_distributions={'learning_rate': <scipy.stats._distn_infrastructure.rv_frozen object at 0x7f4398668eb8>,\n",
       "                                        'n_hidden': [0, 1, 2, 3],\n",
       "                                        'n_neurons': array([ 1,  2,  3,  4,  5,  6,  7,  8,  9, 10, 11, 12, 13, 14, 15, 16, 17,\n",
       "       18, 19, 20, 21, 22, 23, 24, 25, 26, 27, 28, 29, 30, 31, 32, 33, 34,\n",
       "       35, 36, 37, 38, 39, 40, 41, 42, 43, 44, 45, 46, 47, 48, 49, 50, 51,\n",
       "       52, 53, 54, 55, 56, 57, 58, 59, 60, 61, 62, 63, 64, 65, 66, 67, 68,\n",
       "       69, 70, 71, 72, 73, 74, 75, 76, 77, 78, 79, 80, 81, 82, 83, 84, 85,\n",
       "       86, 87, 88, 89, 90, 91, 92, 93, 94, 95, 96, 97, 98, 99])})"
      ]
     },
     "execution_count": 70,
     "metadata": {},
     "output_type": "execute_result"
    }
   ],
   "source": [
    "from scipy.stats import reciprocal\n",
    "from sklearn.model_selection import RandomizedSearchCV\n",
    "\n",
    "param_distribs = {\n",
    "    \"n_hidden\": [0, 1, 2, 3],\n",
    "    \"n_neurons\": np.arange(1, 100),\n",
    "    \"learning_rate\": reciprocal(3e-4, 3e-2),\n",
    "}\n",
    "\n",
    "rnd_search_cv = RandomizedSearchCV(keras_reg, param_distribs, n_iter=5, cv=3)\n",
    "rnd_search_cv.fit(X_train, y_train, epochs=5,\n",
    "                 validation_data=(X_valid, y_valid),\n",
    "                 callbacks=[keras.callbacks.EarlyStopping(patience=10)])"
   ]
  },
  {
   "cell_type": "code",
   "execution_count": 71,
   "id": "4d4e84f1",
   "metadata": {},
   "outputs": [
    {
     "data": {
      "text/plain": [
       "{'learning_rate': 0.024842719529359052, 'n_hidden': 3, 'n_neurons': 16}"
      ]
     },
     "execution_count": 71,
     "metadata": {},
     "output_type": "execute_result"
    }
   ],
   "source": [
    "rnd_search_cv.best_params_"
   ]
  },
  {
   "cell_type": "code",
   "execution_count": 72,
   "id": "cee2d0d1",
   "metadata": {},
   "outputs": [
    {
     "data": {
      "text/plain": [
       "-0.41943779587745667"
      ]
     },
     "execution_count": 72,
     "metadata": {},
     "output_type": "execute_result"
    }
   ],
   "source": [
    "rnd_search_cv.best_score_"
   ]
  },
  {
   "cell_type": "code",
   "execution_count": 73,
   "id": "81e856b1",
   "metadata": {},
   "outputs": [],
   "source": [
    "model = rnd_search_cv.best_estimator_.model"
   ]
  },
  {
   "cell_type": "code",
   "execution_count": null,
   "id": "47a64b0e",
   "metadata": {},
   "outputs": [],
   "source": []
  }
 ],
 "metadata": {
  "kernelspec": {
   "display_name": "Python 3",
   "language": "python",
   "name": "python3"
  },
  "language_info": {
   "codemirror_mode": {
    "name": "ipython",
    "version": 3
   },
   "file_extension": ".py",
   "mimetype": "text/x-python",
   "name": "python",
   "nbconvert_exporter": "python",
   "pygments_lexer": "ipython3",
   "version": "3.6.9"
  }
 },
 "nbformat": 4,
 "nbformat_minor": 5
}
