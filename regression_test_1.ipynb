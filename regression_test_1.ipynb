{
 "cells": [
  {
   "cell_type": "markdown",
   "id": "899fa113",
   "metadata": {},
   "source": [
    "# Regression with Different Output Format under Various Data Conditions\n",
    "\n",
    "In this experience, we test the following output format for regression task under several different data coditions.\n",
    "- Numerical output\n",
    "- Regression as classification (grid-out)\n",
    "\n",
    "The data coditions include:\n",
    "- Sparse (few data)\n",
    "- Grouped\n",
    "  - Biased (parallel data)\n",
    "  - Completely different mode, uncorrelated data (cross)\n",
    "  - Partially diversed (split)"
   ]
  },
  {
   "cell_type": "code",
   "execution_count": 1,
   "id": "625ce7c3",
   "metadata": {},
   "outputs": [],
   "source": [
    "import numpy as np\n",
    "import tensorflow as tf\n",
    "from tensorflow import keras\n",
    "\n",
    "# To plot pretty figures\n",
    "%matplotlib inline\n",
    "import matplotlib as mpl\n",
    "import matplotlib.pyplot as plt\n",
    "mpl.rc('axes', labelsize=14)\n",
    "mpl.rc('xtick', labelsize=12)\n",
    "mpl.rc('ytick', labelsize=12)"
   ]
  },
  {
   "cell_type": "code",
   "execution_count": 2,
   "id": "94e8a077",
   "metadata": {},
   "outputs": [],
   "source": [
    "def draw_func(func_in, x_min=-5, x_max=5, mark='r--', linewidth=1, label='func'):\n",
    "    n_sample = 100\n",
    "    X_func = np.linspace(x_min, x_max, n_sample).reshape(n_sample, 1)\n",
    "    y_func = func_in(X_func)\n",
    "    plt.plot(X_func, y_func, mark, linewidth=linewidth, label=label)"
   ]
  },
  {
   "cell_type": "markdown",
   "id": "c27ffe35",
   "metadata": {},
   "source": [
    "Generate polynomial data"
   ]
  },
  {
   "cell_type": "code",
   "execution_count": 3,
   "id": "ce670ce4",
   "metadata": {},
   "outputs": [],
   "source": [
    "def func_0(X): # Reference\n",
    "    return 0.5 * X**3 + 0.5 * X**2 + X + 2\n",
    "def func_1(X): # Variation 1: parellel\n",
    "    return 0.5 * X**3 + 0.5 * X**2 + X + 30\n",
    "def func_2(X): # Variation 2: cross\n",
    "    return -0.5 * X**3 + 0.5 * X**2 + X + 30\n",
    "def func_3(X): # Variation 3: slightly split\n",
    "    return 0.3 * X**3 + 1.0 * X**2 + X + 15 "
   ]
  },
  {
   "cell_type": "code",
   "execution_count": 4,
   "id": "9463bfff",
   "metadata": {},
   "outputs": [],
   "source": [
    "func_dict = dict()\n",
    "func_dict[\"f1\"] = func_0\n",
    "# func_dict[\"f2\"] = func_1\n",
    "# func_dict[\"f2\"] = func_2\n",
    "func_dict[\"f2\"] = func_3\n",
    "\n",
    "# Average line\n",
    "func_dict[\"f_avg\"] = ( lambda X: 0.5*func_dict[\"f1\"](X) + 0.5*func_dict[\"f2\"](X) )"
   ]
  },
  {
   "cell_type": "code",
   "execution_count": 5,
   "id": "9bd2136c",
   "metadata": {},
   "outputs": [],
   "source": [
    "def draw_normal_func(func_dict):\n",
    "    draw_func(func_dict[\"f1\"], mark='c:', label=\"f1\")\n",
    "    draw_func(func_dict[\"f2\"], mark='g:', label=\"f2\")\n",
    "    draw_func(func_dict[\"f_avg\"], mark='m--', label=\"f_avg\")"
   ]
  },
  {
   "cell_type": "code",
   "execution_count": 6,
   "id": "63437d0c",
   "metadata": {},
   "outputs": [
    {
     "name": "stdout",
     "output_type": "stream",
     "text": [
      "(m, m_train) = (100, 80)\n",
      "y_data_pure.shape = (100, 1)\n",
      "y_data.shape = (100, 1)\n"
     ]
    }
   ],
   "source": [
    "np.random.seed(42)\n",
    "m = 100 # 50 # 100 # 200\n",
    "m_train = m // 5 * 4\n",
    "print(\"(m, m_train) = (%d, %d)\" % (m, m_train))\n",
    "# Input\n",
    "X_data = 10 * np.random.rand(m, 1) - 5 # Note: X is randomly sampled, so we don't need to shuffle the data again\n",
    "\n",
    "# Output\n",
    "is_multiout = True\n",
    "# is_multiout = False\n",
    "if is_multiout:\n",
    "    m_h = m // 2\n",
    "    X_data_1 = X_data[:m_h]\n",
    "    X_data_2 = X_data[m_h:]\n",
    "    y_data_pure_1 = func_dict[\"f1\"](X_data_1) \n",
    "    y_data_pure_2 = func_dict[\"f2\"](X_data_2) \n",
    "    y_data_pure = np.vstack([y_data_pure_1, y_data_pure_2])\n",
    "    print(\"y_data_pure.shape = %s\" % str(y_data_pure.shape))\n",
    "else:        \n",
    "    y_data_pure = 0.5 * X_data**3 + 0.5 * X_data**2 + X_data + 2 \n",
    "\n",
    "# Label (+noise)\n",
    "n_stddev = 2.0\n",
    "# n_stddev = 10.0\n",
    "y_data = y_data_pure + np.random.randn(m, 1) * n_stddev\n",
    "print(\"y_data.shape = %s\" % str(y_data.shape))"
   ]
  },
  {
   "cell_type": "code",
   "execution_count": 7,
   "id": "80665872",
   "metadata": {},
   "outputs": [],
   "source": [
    "X_train = X_data[:m_train]\n",
    "y_train = y_data[:m_train]\n",
    "X_valid = X_data[m_train:]\n",
    "y_valid = y_data[m_train:]"
   ]
  },
  {
   "cell_type": "code",
   "execution_count": 8,
   "id": "3b5d2cfe",
   "metadata": {},
   "outputs": [
    {
     "name": "stdout",
     "output_type": "stream",
     "text": [
      "(80, 1)\n"
     ]
    }
   ],
   "source": [
    "print(X_train.shape)"
   ]
  },
  {
   "cell_type": "code",
   "execution_count": 9,
   "id": "693af3b7",
   "metadata": {},
   "outputs": [
    {
     "data": {
      "image/png": "[encoded data removed]",
      "text/plain": [
       "<Figure size 432x288 with 1 Axes>"
      ]
     },
     "metadata": {
      "needs_background": "light"
     },
     "output_type": "display_data"
    }
   ],
   "source": [
    "plt.plot(X_train, y_train, \"b.\")\n",
    "draw_normal_func(func_dict)\n",
    "plt.xlabel(\"$x_1$\", fontsize=18)\n",
    "plt.ylabel(\"$y$\", rotation=0, fontsize=18)\n",
    "# plt.axis([-3, 3, 0, 10])\n",
    "plt.show()"
   ]
  },
  {
   "cell_type": "markdown",
   "id": "053ecc57",
   "metadata": {},
   "source": [
    "# Simple FCs (number --> number)"
   ]
  },
  {
   "cell_type": "markdown",
   "id": "c66eb67b",
   "metadata": {},
   "source": [
    "Build the regression model"
   ]
  },
  {
   "cell_type": "code",
   "execution_count": 10,
   "id": "9449fc0b",
   "metadata": {},
   "outputs": [
    {
     "name": "stderr",
     "output_type": "stream",
     "text": [
      "/home/benson516/ml/my_env/lib/python3.6/site-packages/tensorflow/python/keras/optimizer_v2/optimizer_v2.py:375: UserWarning: The `lr` argument is deprecated, use `learning_rate` instead.\n",
      "  \"The `lr` argument is deprecated, use `learning_rate` instead.\")\n"
     ]
    }
   ],
   "source": [
    "model = keras.models.Sequential([\n",
    "    keras.layers.Dense(30, activation=\"relu\", input_shape=X_train.shape[1:]),\n",
    "    keras.layers.Dense(30, activation=\"relu\"),\n",
    "    keras.layers.Dense(1)\n",
    "])\n",
    "\n",
    "optimizer = keras.optimizers.SGD(lr=0.001, momentum=0.9)\n",
    "model.compile(loss=\"mean_squared_error\", optimizer=optimizer)"
   ]
  },
  {
   "cell_type": "code",
   "execution_count": 11,
   "id": "92afd68a",
   "metadata": {
    "scrolled": true
   },
   "outputs": [
    {
     "name": "stdout",
     "output_type": "stream",
     "text": [
      "Epoch 1/100\n",
      "3/3 [==============================] - 2s 305ms/step - loss: 759.9342 - val_loss: 379.7631\n",
      "Epoch 2/100\n",
      "3/3 [==============================] - 0s 49ms/step - loss: 415.4963 - val_loss: 216.9349\n",
      "Epoch 3/100\n",
      "3/3 [==============================] - 0s 75ms/step - loss: 518.5781 - val_loss: 456.9099\n",
      "Epoch 4/100\n",
      "3/3 [==============================] - 0s 59ms/step - loss: 743.0277 - val_loss: 592.2623\n",
      "Epoch 5/100\n",
      "3/3 [==============================] - 0s 83ms/step - loss: 769.3848 - val_loss: 607.8243\n",
      "Epoch 6/100\n",
      "3/3 [==============================] - 0s 50ms/step - loss: 738.5383 - val_loss: 562.8845\n",
      "Epoch 7/100\n",
      "3/3 [==============================] - 0s 78ms/step - loss: 631.0479 - val_loss: 303.0822\n",
      "Epoch 8/100\n",
      "3/3 [==============================] - 0s 45ms/step - loss: 291.2781 - val_loss: 335.9977\n",
      "Epoch 9/100\n",
      "3/3 [==============================] - 0s 50ms/step - loss: 316.6118 - val_loss: 368.7188\n",
      "Epoch 10/100\n",
      "3/3 [==============================] - 0s 97ms/step - loss: 473.5811 - val_loss: 263.6059\n",
      "Epoch 11/100\n",
      "3/3 [==============================] - 0s 76ms/step - loss: 264.9631 - val_loss: 347.7440\n",
      "Epoch 12/100\n",
      "3/3 [==============================] - 0s 80ms/step - loss: 266.5189 - val_loss: 251.8837\n",
      "Epoch 13/100\n",
      "3/3 [==============================] - 0s 72ms/step - loss: 340.6012 - val_loss: 114.1753\n",
      "Epoch 14/100\n",
      "3/3 [==============================] - 0s 78ms/step - loss: 201.1683 - val_loss: 140.9643\n",
      "Epoch 15/100\n",
      "3/3 [==============================] - 0s 97ms/step - loss: 159.8878 - val_loss: 264.1838\n",
      "Epoch 16/100\n",
      "3/3 [==============================] - 0s 70ms/step - loss: 229.3269 - val_loss: 66.2119\n",
      "Epoch 17/100\n",
      "3/3 [==============================] - 0s 54ms/step - loss: 205.8859 - val_loss: 330.0710\n",
      "Epoch 18/100\n",
      "3/3 [==============================] - 0s 97ms/step - loss: 262.4075 - val_loss: 165.8282\n",
      "Epoch 19/100\n",
      "3/3 [==============================] - 0s 55ms/step - loss: 179.1784 - val_loss: 243.6538\n",
      "Epoch 20/100\n",
      "3/3 [==============================] - 0s 39ms/step - loss: 191.7228 - val_loss: 202.0188\n",
      "Epoch 21/100\n",
      "3/3 [==============================] - 0s 88ms/step - loss: 183.9218 - val_loss: 111.9981\n",
      "Epoch 22/100\n",
      "3/3 [==============================] - 0s 52ms/step - loss: 142.9553 - val_loss: 181.6814\n",
      "Epoch 23/100\n",
      "3/3 [==============================] - 0s 104ms/step - loss: 138.9576 - val_loss: 176.6517\n",
      "Epoch 24/100\n",
      "3/3 [==============================] - 0s 65ms/step - loss: 118.7824 - val_loss: 146.5119\n",
      "Epoch 25/100\n",
      "3/3 [==============================] - 0s 58ms/step - loss: 129.0359 - val_loss: 224.2296\n",
      "Epoch 26/100\n",
      "3/3 [==============================] - 0s 81ms/step - loss: 119.8369 - val_loss: 142.2460\n",
      "Epoch 27/100\n",
      "3/3 [==============================] - 0s 81ms/step - loss: 126.2395 - val_loss: 232.4068\n",
      "Epoch 28/100\n",
      "3/3 [==============================] - 0s 92ms/step - loss: 117.3477 - val_loss: 123.6210\n",
      "Epoch 29/100\n",
      "3/3 [==============================] - 0s 67ms/step - loss: 124.3546 - val_loss: 128.5305\n",
      "Epoch 30/100\n",
      "3/3 [==============================] - 0s 84ms/step - loss: 147.5019 - val_loss: 197.3814\n",
      "Epoch 31/100\n",
      "3/3 [==============================] - 0s 99ms/step - loss: 107.0048 - val_loss: 165.5898\n",
      "Epoch 32/100\n",
      "3/3 [==============================] - 0s 64ms/step - loss: 109.1045 - val_loss: 193.3823\n",
      "Epoch 33/100\n",
      "3/3 [==============================] - 0s 59ms/step - loss: 109.9573 - val_loss: 166.1217\n",
      "Epoch 34/100\n",
      "3/3 [==============================] - 0s 75ms/step - loss: 114.5432 - val_loss: 147.1291\n",
      "Epoch 35/100\n",
      "3/3 [==============================] - 0s 59ms/step - loss: 124.6380 - val_loss: 108.1223\n",
      "Epoch 36/100\n",
      "3/3 [==============================] - 0s 67ms/step - loss: 114.3418 - val_loss: 221.4414\n",
      "Epoch 37/100\n",
      "3/3 [==============================] - 0s 47ms/step - loss: 106.2457 - val_loss: 213.5582\n",
      "Epoch 38/100\n",
      "3/3 [==============================] - 0s 63ms/step - loss: 113.4503 - val_loss: 182.4250\n",
      "Epoch 39/100\n",
      "3/3 [==============================] - 0s 63ms/step - loss: 106.6860 - val_loss: 141.3897\n",
      "Epoch 40/100\n",
      "3/3 [==============================] - 0s 56ms/step - loss: 107.8319 - val_loss: 141.3403\n",
      "Epoch 41/100\n",
      "3/3 [==============================] - 0s 74ms/step - loss: 113.5587 - val_loss: 175.8468\n",
      "Epoch 42/100\n",
      "3/3 [==============================] - 0s 59ms/step - loss: 150.7180 - val_loss: 174.5430\n",
      "Epoch 43/100\n",
      "3/3 [==============================] - 0s 58ms/step - loss: 111.3815 - val_loss: 168.6983\n",
      "Epoch 44/100\n",
      "3/3 [==============================] - 0s 62ms/step - loss: 109.5339 - val_loss: 197.8977\n",
      "Epoch 45/100\n",
      "3/3 [==============================] - 0s 61ms/step - loss: 108.1980 - val_loss: 169.7925\n",
      "Epoch 46/100\n",
      "3/3 [==============================] - 0s 90ms/step - loss: 109.6269 - val_loss: 209.7815\n",
      "Epoch 47/100\n",
      "3/3 [==============================] - 0s 90ms/step - loss: 113.8823 - val_loss: 128.4378\n",
      "Epoch 48/100\n",
      "3/3 [==============================] - 0s 78ms/step - loss: 111.1035 - val_loss: 166.0027\n",
      "Epoch 49/100\n",
      "3/3 [==============================] - 0s 80ms/step - loss: 101.5757 - val_loss: 193.2892\n",
      "Epoch 50/100\n",
      "3/3 [==============================] - 0s 57ms/step - loss: 104.4176 - val_loss: 183.0191\n",
      "Epoch 51/100\n",
      "3/3 [==============================] - 0s 61ms/step - loss: 102.7728 - val_loss: 154.1665\n",
      "Epoch 52/100\n",
      "3/3 [==============================] - 0s 48ms/step - loss: 103.8248 - val_loss: 161.0467\n",
      "Epoch 53/100\n",
      "3/3 [==============================] - 0s 43ms/step - loss: 103.5944 - val_loss: 185.4701\n",
      "Epoch 54/100\n",
      "3/3 [==============================] - 0s 86ms/step - loss: 103.7613 - val_loss: 187.2005\n",
      "Epoch 55/100\n",
      "3/3 [==============================] - 0s 59ms/step - loss: 104.7689 - val_loss: 172.2623\n",
      "Epoch 56/100\n",
      "3/3 [==============================] - 0s 96ms/step - loss: 105.2536 - val_loss: 137.1064\n",
      "Epoch 57/100\n",
      "3/3 [==============================] - 0s 57ms/step - loss: 119.1566 - val_loss: 175.3822\n",
      "Epoch 58/100\n",
      "3/3 [==============================] - 0s 95ms/step - loss: 104.0483 - val_loss: 142.3676\n",
      "Epoch 59/100\n",
      "3/3 [==============================] - 0s 61ms/step - loss: 107.5538 - val_loss: 156.5589\n",
      "Epoch 60/100\n",
      "3/3 [==============================] - 0s 92ms/step - loss: 106.0498 - val_loss: 186.2657\n",
      "Epoch 61/100\n",
      "3/3 [==============================] - 0s 57ms/step - loss: 108.3072 - val_loss: 160.3986\n",
      "Epoch 62/100\n",
      "3/3 [==============================] - 0s 91ms/step - loss: 105.6815 - val_loss: 205.8136\n",
      "Epoch 63/100\n",
      "3/3 [==============================] - 0s 59ms/step - loss: 108.0265 - val_loss: 213.2432\n",
      "Epoch 64/100\n",
      "3/3 [==============================] - 0s 81ms/step - loss: 110.8444 - val_loss: 144.1042\n",
      "Epoch 65/100\n",
      "3/3 [==============================] - 0s 89ms/step - loss: 104.9425 - val_loss: 150.3439\n",
      "Epoch 66/100\n",
      "3/3 [==============================] - 0s 74ms/step - loss: 104.7418 - val_loss: 258.1088\n",
      "Epoch 67/100\n",
      "3/3 [==============================] - 0s 49ms/step - loss: 126.3859 - val_loss: 168.3744\n",
      "Epoch 68/100\n",
      "3/3 [==============================] - 0s 44ms/step - loss: 114.3616 - val_loss: 148.6613\n",
      "Epoch 69/100\n",
      "3/3 [==============================] - 0s 57ms/step - loss: 113.5338 - val_loss: 161.8520\n",
      "Epoch 70/100\n",
      "3/3 [==============================] - 0s 53ms/step - loss: 103.3546 - val_loss: 160.2129\n",
      "Epoch 71/100\n",
      "3/3 [==============================] - 0s 76ms/step - loss: 103.2751 - val_loss: 165.4380\n",
      "Epoch 72/100\n",
      "3/3 [==============================] - 0s 69ms/step - loss: 110.3787 - val_loss: 156.9380\n",
      "Epoch 73/100\n",
      "3/3 [==============================] - 0s 43ms/step - loss: 103.4306 - val_loss: 117.6057\n",
      "Epoch 74/100\n",
      "3/3 [==============================] - 0s 51ms/step - loss: 116.9775 - val_loss: 122.9397\n",
      "Epoch 75/100\n",
      "3/3 [==============================] - 0s 59ms/step - loss: 108.1472 - val_loss: 212.1440\n",
      "Epoch 76/100\n",
      "3/3 [==============================] - 0s 97ms/step - loss: 108.7509 - val_loss: 234.9975\n",
      "Epoch 77/100\n",
      "3/3 [==============================] - 0s 43ms/step - loss: 112.0451 - val_loss: 161.3799\n",
      "Epoch 78/100\n",
      "3/3 [==============================] - 0s 75ms/step - loss: 116.6198 - val_loss: 133.7928\n",
      "Epoch 79/100\n",
      "3/3 [==============================] - 0s 70ms/step - loss: 115.1541 - val_loss: 228.2807\n",
      "Epoch 80/100\n"
     ]
    },
    {
     "name": "stdout",
     "output_type": "stream",
     "text": [
      "3/3 [==============================] - 0s 101ms/step - loss: 110.4554 - val_loss: 178.9028\n",
      "Epoch 81/100\n",
      "3/3 [==============================] - 0s 74ms/step - loss: 105.9848 - val_loss: 166.8691\n",
      "Epoch 82/100\n",
      "3/3 [==============================] - 0s 58ms/step - loss: 102.0802 - val_loss: 178.1682\n",
      "Epoch 83/100\n",
      "3/3 [==============================] - 0s 69ms/step - loss: 103.5603 - val_loss: 175.2199\n",
      "Epoch 84/100\n",
      "3/3 [==============================] - 0s 57ms/step - loss: 102.3210 - val_loss: 162.6452\n",
      "Epoch 85/100\n",
      "3/3 [==============================] - 0s 85ms/step - loss: 100.7425 - val_loss: 181.0675\n",
      "Epoch 86/100\n",
      "3/3 [==============================] - 0s 52ms/step - loss: 103.7121 - val_loss: 181.7385\n",
      "Epoch 87/100\n",
      "3/3 [==============================] - 0s 63ms/step - loss: 109.2200 - val_loss: 147.0350\n",
      "Epoch 88/100\n",
      "3/3 [==============================] - 0s 91ms/step - loss: 103.4440 - val_loss: 198.0678\n",
      "Epoch 89/100\n",
      "3/3 [==============================] - 0s 58ms/step - loss: 102.5593 - val_loss: 239.2372\n",
      "Epoch 90/100\n",
      "3/3 [==============================] - 0s 103ms/step - loss: 107.3325 - val_loss: 161.0259\n",
      "Epoch 91/100\n",
      "3/3 [==============================] - 0s 63ms/step - loss: 111.1296 - val_loss: 119.2541\n",
      "Epoch 92/100\n",
      "3/3 [==============================] - 0s 97ms/step - loss: 115.8459 - val_loss: 150.9218\n",
      "Epoch 93/100\n",
      "3/3 [==============================] - 0s 77ms/step - loss: 91.4732 - val_loss: 284.1194\n",
      "Epoch 94/100\n",
      "3/3 [==============================] - 0s 95ms/step - loss: 151.9176 - val_loss: 201.7975\n",
      "Epoch 95/100\n",
      "3/3 [==============================] - 0s 69ms/step - loss: 110.9732 - val_loss: 113.2428\n",
      "Epoch 96/100\n",
      "3/3 [==============================] - 0s 96ms/step - loss: 122.8006 - val_loss: 119.1926\n",
      "Epoch 97/100\n",
      "3/3 [==============================] - 0s 86ms/step - loss: 106.5607 - val_loss: 236.8607\n",
      "Epoch 98/100\n",
      "3/3 [==============================] - 0s 71ms/step - loss: 123.0775 - val_loss: 233.5751\n",
      "Epoch 99/100\n",
      "3/3 [==============================] - 0s 65ms/step - loss: 111.7362 - val_loss: 154.6048\n",
      "Epoch 100/100\n",
      "3/3 [==============================] - 0s 74ms/step - loss: 103.2688 - val_loss: 146.9715\n"
     ]
    }
   ],
   "source": [
    "history = model.fit(X_train, y_train, epochs=100,\n",
    "                    validation_data=(X_valid, y_valid))"
   ]
  },
  {
   "cell_type": "markdown",
   "id": "17d6e37a",
   "metadata": {},
   "source": [
    "Plot the result"
   ]
  },
  {
   "cell_type": "code",
   "execution_count": 12,
   "id": "3b066f5c",
   "metadata": {},
   "outputs": [
    {
     "data": {
      "image/png": "[encoded data removed]",
      "text/plain": [
       "<Figure size 576x360 with 1 Axes>"
      ]
     },
     "metadata": {
      "needs_background": "light"
     },
     "output_type": "display_data"
    }
   ],
   "source": [
    "import pandas as pd\n",
    "\n",
    "pd.DataFrame(history.history).plot(figsize=(8, 5))\n",
    "plt.grid(True)\n",
    "# plt.gca().set_ylim(0, 1)\n",
    "plt.show()"
   ]
  },
  {
   "cell_type": "code",
   "execution_count": 13,
   "id": "03f9bb54",
   "metadata": {},
   "outputs": [
    {
     "data": {
      "image/png": "[encoded data removed]",
      "text/plain": [
       "<Figure size 432x288 with 1 Axes>"
      ]
     },
     "metadata": {
      "needs_background": "light"
     },
     "output_type": "display_data"
    }
   ],
   "source": [
    "# X_new = np.linspace(-5, 5, 100).reshape(100, 1)\n",
    "# y_new = model.predict(X_new)\n",
    "#\n",
    "plt.plot(X_train, y_train, \"b.\")\n",
    "# plt.plot(X_new, y_new, \"r-\", linewidth=2, label=\"Predictions\")\n",
    "draw_func(model.predict, mark='r-', linewidth=2, label=\"Predictions\")\n",
    "draw_normal_func(func_dict)\n",
    "plt.xlabel(\"$x_1$\", fontsize=18)\n",
    "plt.ylabel(\"$y$\", rotation=0, fontsize=18)\n",
    "plt.legend(loc=\"upper left\", fontsize=14)\n",
    "# plt.axis([-3, 3, 0, 10])\n",
    "plt.show()"
   ]
  },
  {
   "cell_type": "markdown",
   "id": "58da8768",
   "metadata": {},
   "source": [
    "# Simulated CNN Feature Map (1-D grids, grid --> number)"
   ]
  },
  {
   "cell_type": "code",
   "execution_count": 14,
   "id": "287b5e4c",
   "metadata": {},
   "outputs": [],
   "source": [
    "class num2grid(keras.layers.Layer):\n",
    "    def __init__(self, units, x_min=-10, x_max=10, sigma=1.0, activation=None, **kwargs):\n",
    "        super().__init__(**kwargs)\n",
    "        self.units = units\n",
    "        self.x_min = x_min\n",
    "        self.x_max = x_max\n",
    "        self.sigma = sigma\n",
    "        self.sigma2 = self.sigma**2\n",
    "        self.activation = keras.activations.get(activation)\n",
    "        \n",
    "    def build(self, batch_input_shape):\n",
    "        #\n",
    "        self.x_grid = np.linspace(self.x_min, self.x_max, self.units, endpoint=True)\n",
    "#         print(\"self.x_grid.shape = %s\" % str(self.x_grid.shape))\n",
    "        #\n",
    "        super().build(batch_input_shape) # must be at the end\n",
    "        \n",
    "    def call(self, X):\n",
    "        '''\n",
    "        Input shape:  (batch, X_chanel)\n",
    "        Output shape: (batch, grid_unit) \n",
    "        \n",
    "        self.x_grid shape: (grid_unit,)\n",
    "        '''\n",
    "        gauss_grid = tf.exp( -(self.x_grid - X)**2 / (2.0*self.sigma2) )\n",
    "        print(\"X.shape = %s\" % str(X.shape))\n",
    "        print(\"gauss_grid.shape = %s\" % str(gauss_grid.shape))\n",
    "        return self.activation(gauss_grid)\n",
    "    \n",
    "    def compute_output_shape(self, batch_input_shape):\n",
    "        return tf.TensorShape(batch_input_shape.as_list()[:-1] + [self.units])\n",
    "    \n",
    "    def get_config(self):\n",
    "        base_config = super().get_config()\n",
    "        return {**base_config, \n",
    "                \"units\": self.units,\n",
    "                \"x_min\": self.x_min,\n",
    "                \"x_max\": self.x_max,\n",
    "                \"sigma\": self.sigma,\n",
    "                \"activation\": keras.activations.serialize(self.activation)}"
   ]
  },
  {
   "cell_type": "code",
   "execution_count": 15,
   "id": "f463c12a",
   "metadata": {},
   "outputs": [
    {
     "name": "stdout",
     "output_type": "stream",
     "text": [
      "X.shape = (None, 1)\n",
      "gauss_grid.shape = (None, 5)\n"
     ]
    },
    {
     "name": "stderr",
     "output_type": "stream",
     "text": [
      "/home/benson516/ml/my_env/lib/python3.6/site-packages/tensorflow/python/keras/optimizer_v2/optimizer_v2.py:375: UserWarning: The `lr` argument is deprecated, use `learning_rate` instead.\n",
      "  \"The `lr` argument is deprecated, use `learning_rate` instead.\")\n"
     ]
    }
   ],
   "source": [
    "model = keras.models.Sequential([\n",
    "    num2grid(5,x_min=-10, x_max=10, sigma=3.0, input_shape=X_train.shape[1:]),\n",
    "    keras.layers.Dense(30, activation=\"relu\"),\n",
    "#     keras.layers.Dense(30, activation=\"relu\"),\n",
    "    keras.layers.Dense(1)\n",
    "])\n",
    "\n",
    "optimizer = keras.optimizers.SGD(lr=0.001, momentum=0.9)\n",
    "model.compile(loss=\"mean_squared_error\", optimizer=optimizer)"
   ]
  },
  {
   "cell_type": "code",
   "execution_count": 16,
   "id": "c966ada4",
   "metadata": {
    "scrolled": true
   },
   "outputs": [
    {
     "name": "stdout",
     "output_type": "stream",
     "text": [
      "Epoch 1/100\n",
      "X.shape = (None, 1)\n",
      "gauss_grid.shape = (None, 5)\n",
      "X.shape = (None, 1)\n",
      "gauss_grid.shape = (None, 5)\n",
      "1/3 [=========>....................] - ETA: 1s - loss: 733.8754X.shape = (None, 1)\n",
      "gauss_grid.shape = (None, 5)\n",
      "3/3 [==============================] - 1s 140ms/step - loss: 810.9073 - val_loss: 545.2546\n",
      "Epoch 2/100\n",
      "3/3 [==============================] - 0s 49ms/step - loss: 791.6259 - val_loss: 502.0811\n",
      "Epoch 3/100\n",
      "3/3 [==============================] - 0s 51ms/step - loss: 753.2899 - val_loss: 431.6254\n",
      "Epoch 4/100\n",
      "3/3 [==============================] - 0s 84ms/step - loss: 689.7057 - val_loss: 311.3961\n",
      "Epoch 5/100\n",
      "3/3 [==============================] - 0s 77ms/step - loss: 605.1418 - val_loss: 153.7826\n",
      "Epoch 6/100\n",
      "3/3 [==============================] - 0s 49ms/step - loss: 522.7314 - val_loss: 64.8767\n",
      "Epoch 7/100\n",
      "3/3 [==============================] - 0s 81ms/step - loss: 436.2332 - val_loss: 45.1136\n",
      "Epoch 8/100\n",
      "3/3 [==============================] - 0s 88ms/step - loss: 317.5453 - val_loss: 75.0757\n",
      "Epoch 9/100\n",
      "3/3 [==============================] - 0s 80ms/step - loss: 243.6696 - val_loss: 130.3995\n",
      "Epoch 10/100\n",
      "3/3 [==============================] - 0s 56ms/step - loss: 202.5870 - val_loss: 180.8212\n",
      "Epoch 11/100\n",
      "3/3 [==============================] - 0s 48ms/step - loss: 179.5772 - val_loss: 210.6068\n",
      "Epoch 12/100\n",
      "3/3 [==============================] - ETA: 0s - loss: 155.775 - 0s 93ms/step - loss: 172.3952 - val_loss: 237.0167\n",
      "Epoch 13/100\n",
      "3/3 [==============================] - 0s 57ms/step - loss: 173.0282 - val_loss: 256.9300\n",
      "Epoch 14/100\n",
      "3/3 [==============================] - 0s 68ms/step - loss: 167.3359 - val_loss: 250.6647\n",
      "Epoch 15/100\n",
      "3/3 [==============================] - 0s 77ms/step - loss: 161.7105 - val_loss: 238.7419\n",
      "Epoch 16/100\n",
      "3/3 [==============================] - 0s 57ms/step - loss: 155.4262 - val_loss: 204.1608\n",
      "Epoch 17/100\n",
      "3/3 [==============================] - 0s 51ms/step - loss: 147.1047 - val_loss: 172.3514\n",
      "Epoch 18/100\n",
      "3/3 [==============================] - 0s 49ms/step - loss: 145.6917 - val_loss: 149.8524\n",
      "Epoch 19/100\n",
      "3/3 [==============================] - 0s 54ms/step - loss: 141.5509 - val_loss: 147.1020\n",
      "Epoch 20/100\n",
      "3/3 [==============================] - 0s 45ms/step - loss: 138.1587 - val_loss: 152.0754\n",
      "Epoch 21/100\n",
      "3/3 [==============================] - 0s 54ms/step - loss: 135.2479 - val_loss: 160.1527\n",
      "Epoch 22/100\n",
      "3/3 [==============================] - 0s 54ms/step - loss: 132.2801 - val_loss: 163.4945\n",
      "Epoch 23/100\n",
      "3/3 [==============================] - 0s 85ms/step - loss: 129.0182 - val_loss: 160.5930\n",
      "Epoch 24/100\n",
      "3/3 [==============================] - 0s 82ms/step - loss: 127.0735 - val_loss: 160.5826\n",
      "Epoch 25/100\n",
      "3/3 [==============================] - 0s 109ms/step - loss: 125.5367 - val_loss: 166.2434\n",
      "Epoch 26/100\n",
      "3/3 [==============================] - 0s 56ms/step - loss: 123.2768 - val_loss: 171.6505\n",
      "Epoch 27/100\n",
      "3/3 [==============================] - 0s 76ms/step - loss: 121.3375 - val_loss: 169.3952\n",
      "Epoch 28/100\n",
      "3/3 [==============================] - 0s 85ms/step - loss: 119.3110 - val_loss: 163.1113\n",
      "Epoch 29/100\n",
      "3/3 [==============================] - 0s 94ms/step - loss: 117.7086 - val_loss: 152.3544\n",
      "Epoch 30/100\n",
      "3/3 [==============================] - 0s 91ms/step - loss: 116.7064 - val_loss: 148.8690\n",
      "Epoch 31/100\n",
      "3/3 [==============================] - 0s 59ms/step - loss: 115.5410 - val_loss: 157.2826\n",
      "Epoch 32/100\n",
      "3/3 [==============================] - 0s 67ms/step - loss: 113.3068 - val_loss: 161.7915\n",
      "Epoch 33/100\n",
      "3/3 [==============================] - 0s 75ms/step - loss: 111.7365 - val_loss: 163.7818\n",
      "Epoch 34/100\n",
      "3/3 [==============================] - 0s 86ms/step - loss: 110.6681 - val_loss: 165.9242\n",
      "Epoch 35/100\n",
      "3/3 [==============================] - 0s 94ms/step - loss: 111.3897 - val_loss: 174.0488\n",
      "Epoch 36/100\n",
      "3/3 [==============================] - 0s 62ms/step - loss: 109.2101 - val_loss: 172.5504\n",
      "Epoch 37/100\n",
      "3/3 [==============================] - 0s 51ms/step - loss: 108.8283 - val_loss: 172.7376\n",
      "Epoch 38/100\n",
      "3/3 [==============================] - 0s 69ms/step - loss: 107.9310 - val_loss: 183.4368\n",
      "Epoch 39/100\n",
      "3/3 [==============================] - 0s 81ms/step - loss: 107.8341 - val_loss: 184.4305\n",
      "Epoch 40/100\n",
      "3/3 [==============================] - 0s 86ms/step - loss: 107.3559 - val_loss: 180.7399\n",
      "Epoch 41/100\n",
      "3/3 [==============================] - 0s 83ms/step - loss: 106.9157 - val_loss: 171.9555\n",
      "Epoch 42/100\n",
      "3/3 [==============================] - 0s 74ms/step - loss: 106.0123 - val_loss: 168.1747\n",
      "Epoch 43/100\n",
      "3/3 [==============================] - 0s 70ms/step - loss: 105.8513 - val_loss: 166.6795\n",
      "Epoch 44/100\n",
      "3/3 [==============================] - 0s 55ms/step - loss: 106.5367 - val_loss: 169.8509\n",
      "Epoch 45/100\n",
      "3/3 [==============================] - 0s 63ms/step - loss: 104.7035 - val_loss: 170.5836\n",
      "Epoch 46/100\n",
      "3/3 [==============================] - 0s 42ms/step - loss: 105.3901 - val_loss: 168.6013\n",
      "Epoch 47/100\n",
      "3/3 [==============================] - 0s 72ms/step - loss: 105.7079 - val_loss: 165.6296\n",
      "Epoch 48/100\n",
      "3/3 [==============================] - 0s 50ms/step - loss: 104.8921 - val_loss: 165.4497\n",
      "Epoch 49/100\n",
      "3/3 [==============================] - 0s 49ms/step - loss: 105.4504 - val_loss: 174.1978\n",
      "Epoch 50/100\n",
      "3/3 [==============================] - 0s 67ms/step - loss: 103.8506 - val_loss: 175.9944\n",
      "Epoch 51/100\n",
      "3/3 [==============================] - 0s 62ms/step - loss: 103.5781 - val_loss: 180.7907\n",
      "Epoch 52/100\n",
      "3/3 [==============================] - 0s 44ms/step - loss: 103.9184 - val_loss: 181.3182\n",
      "Epoch 53/100\n",
      "3/3 [==============================] - 0s 39ms/step - loss: 103.9096 - val_loss: 177.7357\n",
      "Epoch 54/100\n",
      "3/3 [==============================] - 0s 52ms/step - loss: 103.7091 - val_loss: 176.5988\n",
      "Epoch 55/100\n",
      "3/3 [==============================] - 0s 92ms/step - loss: 103.7377 - val_loss: 179.6907\n",
      "Epoch 56/100\n",
      "3/3 [==============================] - 0s 78ms/step - loss: 103.2691 - val_loss: 179.0242\n",
      "Epoch 57/100\n",
      "3/3 [==============================] - 0s 44ms/step - loss: 102.7475 - val_loss: 175.3857\n",
      "Epoch 58/100\n",
      "3/3 [==============================] - 0s 86ms/step - loss: 102.8799 - val_loss: 171.8957\n",
      "Epoch 59/100\n",
      "3/3 [==============================] - 0s 82ms/step - loss: 103.2739 - val_loss: 172.0397\n",
      "Epoch 60/100\n",
      "3/3 [==============================] - 0s 100ms/step - loss: 103.3306 - val_loss: 179.6923\n",
      "Epoch 61/100\n",
      "3/3 [==============================] - 0s 60ms/step - loss: 103.0175 - val_loss: 184.6885\n",
      "Epoch 62/100\n",
      "3/3 [==============================] - 0s 73ms/step - loss: 102.3553 - val_loss: 191.9360\n",
      "Epoch 63/100\n",
      "3/3 [==============================] - 0s 111ms/step - loss: 102.4667 - val_loss: 199.4412\n",
      "Epoch 64/100\n",
      "3/3 [==============================] - 0s 79ms/step - loss: 104.2989 - val_loss: 202.6089\n",
      "Epoch 65/100\n",
      "3/3 [==============================] - 0s 81ms/step - loss: 105.9523 - val_loss: 194.6712\n",
      "Epoch 66/100\n",
      "3/3 [==============================] - 0s 93ms/step - loss: 102.6997 - val_loss: 183.1075\n",
      "Epoch 67/100\n",
      "3/3 [==============================] - 0s 81ms/step - loss: 101.4271 - val_loss: 173.6851\n",
      "Epoch 68/100\n",
      "3/3 [==============================] - 0s 104ms/step - loss: 103.9483 - val_loss: 164.5513\n",
      "Epoch 69/100\n",
      "3/3 [==============================] - 0s 64ms/step - loss: 104.8924 - val_loss: 163.8109\n",
      "Epoch 70/100\n",
      "3/3 [==============================] - 0s 73ms/step - loss: 103.8587 - val_loss: 170.3941\n",
      "Epoch 71/100\n",
      "3/3 [==============================] - 0s 48ms/step - loss: 104.9114 - val_loss: 181.6948\n",
      "Epoch 72/100\n",
      "3/3 [==============================] - 0s 75ms/step - loss: 102.3113 - val_loss: 181.0192\n",
      "Epoch 73/100\n",
      "3/3 [==============================] - 0s 86ms/step - loss: 102.5559 - val_loss: 184.4043\n",
      "Epoch 74/100\n",
      "3/3 [==============================] - 0s 67ms/step - loss: 102.6006 - val_loss: 184.0626\n",
      "Epoch 75/100\n",
      "3/3 [==============================] - 0s 53ms/step - loss: 102.6048 - val_loss: 177.4837\n",
      "Epoch 76/100\n",
      "3/3 [==============================] - 0s 48ms/step - loss: 102.0528 - val_loss: 179.4646\n",
      "Epoch 77/100\n",
      "3/3 [==============================] - 0s 56ms/step - loss: 102.3037 - val_loss: 185.8583\n",
      "Epoch 78/100\n"
     ]
    },
    {
     "name": "stdout",
     "output_type": "stream",
     "text": [
      "3/3 [==============================] - 0s 44ms/step - loss: 103.4165 - val_loss: 194.6131\n",
      "Epoch 79/100\n",
      "3/3 [==============================] - 0s 46ms/step - loss: 102.7498 - val_loss: 193.8988\n",
      "Epoch 80/100\n",
      "3/3 [==============================] - 0s 60ms/step - loss: 101.9726 - val_loss: 193.7993\n",
      "Epoch 81/100\n",
      "3/3 [==============================] - 0s 51ms/step - loss: 102.0262 - val_loss: 191.3059\n",
      "Epoch 82/100\n",
      "3/3 [==============================] - 0s 46ms/step - loss: 102.7648 - val_loss: 185.0421\n",
      "Epoch 83/100\n",
      "3/3 [==============================] - 0s 59ms/step - loss: 102.4381 - val_loss: 181.7990\n",
      "Epoch 84/100\n",
      "3/3 [==============================] - 0s 76ms/step - loss: 102.9103 - val_loss: 180.9976\n",
      "Epoch 85/100\n",
      "3/3 [==============================] - 0s 61ms/step - loss: 101.8811 - val_loss: 174.1638\n",
      "Epoch 86/100\n",
      "3/3 [==============================] - 0s 94ms/step - loss: 102.1085 - val_loss: 174.8595\n",
      "Epoch 87/100\n",
      "3/3 [==============================] - 0s 85ms/step - loss: 102.1173 - val_loss: 175.2401\n",
      "Epoch 88/100\n",
      "3/3 [==============================] - ETA: 0s - loss: 107.255 - 0s 103ms/step - loss: 102.0823 - val_loss: 178.3676\n",
      "Epoch 89/100\n",
      "3/3 [==============================] - 0s 75ms/step - loss: 103.5148 - val_loss: 177.8536\n",
      "Epoch 90/100\n",
      "3/3 [==============================] - 0s 47ms/step - loss: 104.0617 - val_loss: 161.0892\n",
      "Epoch 91/100\n",
      "3/3 [==============================] - 0s 78ms/step - loss: 104.7616 - val_loss: 159.6541\n",
      "Epoch 92/100\n",
      "3/3 [==============================] - 0s 69ms/step - loss: 102.9706 - val_loss: 182.2578\n",
      "Epoch 93/100\n",
      "3/3 [==============================] - 0s 59ms/step - loss: 103.3620 - val_loss: 204.7459\n",
      "Epoch 94/100\n",
      "3/3 [==============================] - 0s 44ms/step - loss: 102.8286 - val_loss: 204.8409\n",
      "Epoch 95/100\n",
      "3/3 [==============================] - 0s 46ms/step - loss: 102.7943 - val_loss: 199.1917\n",
      "Epoch 96/100\n",
      "3/3 [==============================] - 0s 47ms/step - loss: 102.0592 - val_loss: 186.2312\n",
      "Epoch 97/100\n",
      "3/3 [==============================] - 0s 75ms/step - loss: 102.0869 - val_loss: 175.7589\n",
      "Epoch 98/100\n",
      "3/3 [==============================] - 0s 75ms/step - loss: 101.8550 - val_loss: 171.2931\n",
      "Epoch 99/100\n",
      "3/3 [==============================] - 0s 97ms/step - loss: 101.9081 - val_loss: 167.4293\n",
      "Epoch 100/100\n",
      "3/3 [==============================] - 0s 77ms/step - loss: 103.7857 - val_loss: 169.1700\n"
     ]
    }
   ],
   "source": [
    "history = model.fit(X_train, y_train, epochs=100,\n",
    "                    validation_data=(X_valid, y_valid))"
   ]
  },
  {
   "cell_type": "code",
   "execution_count": 17,
   "id": "4d550f88",
   "metadata": {},
   "outputs": [
    {
     "data": {
      "image/png": "[encoded data removed]",
      "text/plain": [
       "<Figure size 576x360 with 1 Axes>"
      ]
     },
     "metadata": {
      "needs_background": "light"
     },
     "output_type": "display_data"
    }
   ],
   "source": [
    "import pandas as pd\n",
    "\n",
    "pd.DataFrame(history.history).plot(figsize=(8, 5))\n",
    "plt.grid(True)\n",
    "# plt.gca().set_ylim(0, 1)\n",
    "plt.show()"
   ]
  },
  {
   "cell_type": "code",
   "execution_count": 18,
   "id": "37466019",
   "metadata": {},
   "outputs": [
    {
     "name": "stdout",
     "output_type": "stream",
     "text": [
      "X.shape = (None, 1)\n",
      "gauss_grid.shape = (None, 5)\n"
     ]
    },
    {
     "data": {
      "image/png": "[encoded data removed]",
      "text/plain": [
       "<Figure size 432x288 with 1 Axes>"
      ]
     },
     "metadata": {
      "needs_background": "light"
     },
     "output_type": "display_data"
    }
   ],
   "source": [
    "# X_new = np.linspace(-5, 5, 100).reshape(100, 1)\n",
    "# y_new = model.predict(X_new)\n",
    "#\n",
    "plt.plot(X_train, y_train, \"b.\")\n",
    "# plt.plot(X_new, y_new, \"r-\", linewidth=2, label=\"Predictions\")\n",
    "draw_func(model.predict, mark='r-', linewidth=2, label=\"Predictions\")\n",
    "draw_normal_func(func_dict)\n",
    "plt.xlabel(\"$x_1$\", fontsize=18)\n",
    "plt.ylabel(\"$y$\", rotation=0, fontsize=18)\n",
    "plt.legend(loc=\"upper left\", fontsize=14)\n",
    "# plt.axis([-3, 3, 0, 10])\n",
    "plt.show()"
   ]
  },
  {
   "cell_type": "markdown",
   "id": "fe65d614",
   "metadata": {},
   "source": [
    "# Grid & Regression by Classification (grid --> grid)"
   ]
  },
  {
   "cell_type": "code",
   "execution_count": 19,
   "id": "3d35615e",
   "metadata": {},
   "outputs": [],
   "source": [
    "class num2grid_np():\n",
    "    def __init__(self, units, x_min=-10, x_max=10, sigma=1.0):\n",
    "        self.units = units\n",
    "        self.x_min = x_min\n",
    "        self.x_max = x_max\n",
    "        self.sigma = sigma\n",
    "        self.sigma2 = self.sigma**2\n",
    "        self.x_grid = np.linspace(self.x_min, self.x_max, self.units, endpoint=True)\n",
    "        print(\"self.x_grid = %s\" % str(self.x_grid))\n",
    "        \n",
    "    def convert(self, X):\n",
    "        gauss_grid = np.exp( -(self.x_grid - X)**2 / (2.0*self.sigma2) )\n",
    "#         if len(gauss_grid.shape) == 1:\n",
    "#             gauss_grid = gauss_grid.reshape([1,-1])\n",
    "#         grid_sum = np.sum(gauss_grid, axis=1, keepdims=True)\n",
    "        grid_sum = np.sum(gauss_grid, axis=-1, keepdims=True)\n",
    "        gauss_grid = gauss_grid / grid_sum\n",
    "        return gauss_grid\n",
    "    \n",
    "    def inv_convert(self, grid):\n",
    "#         if len(grid.shape) == 1:\n",
    "#             grid = grid.reshape([1,-1])\n",
    "#         grid_sum = np.sum(grid, axis=1)\n",
    "        grid_sum = np.sum(grid, axis=-1)\n",
    "#         print(grid_sum)\n",
    "        exp_num = np.sum((self.x_grid * grid), axis=-1) / grid_sum # element-wise\n",
    "        return exp_num"
   ]
  },
  {
   "cell_type": "code",
   "execution_count": 20,
   "id": "4903180b",
   "metadata": {},
   "outputs": [
    {
     "name": "stdout",
     "output_type": "stream",
     "text": [
      "self.x_grid = [-100.          -95.91836735  -91.83673469  -87.75510204  -83.67346939\n",
      "  -79.59183673  -75.51020408  -71.42857143  -67.34693878  -63.26530612\n",
      "  -59.18367347  -55.10204082  -51.02040816  -46.93877551  -42.85714286\n",
      "  -38.7755102   -34.69387755  -30.6122449   -26.53061224  -22.44897959\n",
      "  -18.36734694  -14.28571429  -10.20408163   -6.12244898   -2.04081633\n",
      "    2.04081633    6.12244898   10.20408163   14.28571429   18.36734694\n",
      "   22.44897959   26.53061224   30.6122449    34.69387755   38.7755102\n",
      "   42.85714286   46.93877551   51.02040816   55.10204082   59.18367347\n",
      "   63.26530612   67.34693878   71.42857143   75.51020408   79.59183673\n",
      "   83.67346939   87.75510204   91.83673469   95.91836735  100.        ]\n"
     ]
    }
   ],
   "source": [
    "# class_num = 10 # 10\n",
    "# n2g = num2grid_np(class_num, x_min=-100.0, x_max=100.0, sigma=20.0) \n",
    "class_num = 50\n",
    "n2g = num2grid_np(class_num, x_min=-100.0, x_max=100.0, sigma=5.0) # 5.0 "
   ]
  },
  {
   "cell_type": "code",
   "execution_count": 21,
   "id": "dce05258",
   "metadata": {},
   "outputs": [
    {
     "name": "stdout",
     "output_type": "stream",
     "text": [
      "[5.32087956e-86 3.86113319e-79 1.43892139e-72 2.75391345e-66\n",
      " 2.70678923e-60 1.36631087e-54 3.54189384e-49 4.71533431e-44\n",
      " 3.22389115e-39 1.13198112e-34 2.04121584e-30 1.89029511e-26\n",
      " 8.99003166e-23 2.19575442e-19 2.75421121e-16 1.77419623e-13\n",
      " 5.86944439e-11 9.97202289e-09 8.70082579e-07 3.89877895e-05\n",
      " 8.97196734e-04 1.06032179e-02 6.43544562e-02 2.00590561e-01\n",
      " 3.21094817e-01 2.63965415e-01 1.11442718e-01 2.41628020e-02\n",
      " 2.69050515e-03 1.53854886e-04 4.51834812e-06 6.81457879e-08\n",
      " 5.27824177e-10 2.09957055e-12 4.28906472e-15 4.49972175e-18\n",
      " 2.42437419e-21 6.70817796e-25 9.53235992e-29 6.95644285e-33\n",
      " 2.60714354e-37 5.01803398e-42 4.96013143e-47 2.51793030e-52\n",
      " 6.56425064e-58 8.78855631e-64 6.04283668e-70 2.13380686e-76\n",
      " 3.86954844e-83 3.60376450e-90]\n"
     ]
    }
   ],
   "source": [
    "grid_1 = n2g.convert(-1.2)\n",
    "print(grid_1)"
   ]
  },
  {
   "cell_type": "code",
   "execution_count": 22,
   "id": "48203fe2",
   "metadata": {},
   "outputs": [
    {
     "data": {
      "text/plain": [
       "-1.2000000000101176"
      ]
     },
     "execution_count": 22,
     "metadata": {},
     "output_type": "execute_result"
    }
   ],
   "source": [
    "n2g.inv_convert(grid_1)"
   ]
  },
  {
   "cell_type": "markdown",
   "id": "bdc0b9a0",
   "metadata": {},
   "source": [
    "### Convert the labels to grid (pre-processing)"
   ]
  },
  {
   "cell_type": "code",
   "execution_count": 23,
   "id": "39c7fa96",
   "metadata": {},
   "outputs": [],
   "source": [
    "y_train_grid = n2g.convert(y_train)\n",
    "y_valid_grid = n2g.convert(y_valid)"
   ]
  },
  {
   "cell_type": "code",
   "execution_count": 24,
   "id": "f577a751",
   "metadata": {},
   "outputs": [
    {
     "name": "stdout",
     "output_type": "stream",
     "text": [
      "(80, 50)\n",
      "(20, 50)\n"
     ]
    }
   ],
   "source": [
    "print(y_train_grid.shape)\n",
    "print(y_valid_grid.shape)"
   ]
  },
  {
   "cell_type": "code",
   "execution_count": 25,
   "id": "71610af1",
   "metadata": {},
   "outputs": [
    {
     "name": "stdout",
     "output_type": "stream",
     "text": [
      "X.shape = (None, 1)\n",
      "gauss_grid.shape = (None, 5)\n"
     ]
    },
    {
     "name": "stderr",
     "output_type": "stream",
     "text": [
      "/home/benson516/ml/my_env/lib/python3.6/site-packages/tensorflow/python/keras/optimizer_v2/optimizer_v2.py:375: UserWarning: The `lr` argument is deprecated, use `learning_rate` instead.\n",
      "  \"The `lr` argument is deprecated, use `learning_rate` instead.\")\n"
     ]
    }
   ],
   "source": [
    "model = keras.models.Sequential([\n",
    "#     keras.layers.Dense(30, activation=\"relu\", input_shape=X_train.shape[1:]),\n",
    "    num2grid(5,x_min=-10, x_max=10, sigma=3.0, input_shape=X_train.shape[1:]),\n",
    "    keras.layers.Dense(30, activation=\"relu\"),\n",
    "    keras.layers.Dense(class_num, activation=\"softmax\"),\n",
    "])\n",
    "\n",
    "optimizer = keras.optimizers.SGD(lr=0.1, momentum=0.9)\n",
    "model.compile(loss=\"categorical_crossentropy\", optimizer=optimizer)"
   ]
  },
  {
   "cell_type": "code",
   "execution_count": 26,
   "id": "e2244aee",
   "metadata": {
    "scrolled": true
   },
   "outputs": [
    {
     "name": "stdout",
     "output_type": "stream",
     "text": [
      "Epoch 1/100\n",
      "X.shape = (None, 1)\n",
      "gauss_grid.shape = (None, 5)\n",
      "X.shape = (None, 1)\n",
      "gauss_grid.shape = (None, 5)\n",
      "1/3 [=========>....................] - ETA: 1s - loss: 3.9046X.shape = (None, 1)\n",
      "gauss_grid.shape = (None, 5)\n",
      "3/3 [==============================] - 1s 249ms/step - loss: 3.9111 - val_loss: 3.8516\n",
      "Epoch 2/100\n",
      "3/3 [==============================] - 0s 63ms/step - loss: 3.8467 - val_loss: 3.7595\n",
      "Epoch 3/100\n",
      "3/3 [==============================] - 0s 113ms/step - loss: 3.7427 - val_loss: 3.6412\n",
      "Epoch 4/100\n",
      "3/3 [==============================] - 0s 106ms/step - loss: 3.6023 - val_loss: 3.5000\n",
      "Epoch 5/100\n",
      "3/3 [==============================] - 0s 96ms/step - loss: 3.4537 - val_loss: 3.3573\n",
      "Epoch 6/100\n",
      "3/3 [==============================] - 0s 97ms/step - loss: 3.3088 - val_loss: 3.2565\n",
      "Epoch 7/100\n",
      "3/3 [==============================] - 0s 84ms/step - loss: 3.2162 - val_loss: 3.1646\n",
      "Epoch 8/100\n",
      "3/3 [==============================] - 0s 89ms/step - loss: 3.1703 - val_loss: 3.0377\n",
      "Epoch 9/100\n",
      "3/3 [==============================] - 0s 90ms/step - loss: 3.1192 - val_loss: 2.9124\n",
      "Epoch 10/100\n",
      "3/3 [==============================] - 0s 85ms/step - loss: 3.0484 - val_loss: 2.8587\n",
      "Epoch 11/100\n",
      "3/3 [==============================] - 0s 94ms/step - loss: 2.9941 - val_loss: 2.8396\n",
      "Epoch 12/100\n",
      "3/3 [==============================] - 0s 45ms/step - loss: 2.9570 - val_loss: 2.8224\n",
      "Epoch 13/100\n",
      "3/3 [==============================] - 0s 84ms/step - loss: 2.9114 - val_loss: 2.8258\n",
      "Epoch 14/100\n",
      "3/3 [==============================] - 0s 53ms/step - loss: 2.8635 - val_loss: 2.8234\n",
      "Epoch 15/100\n",
      "3/3 [==============================] - 0s 61ms/step - loss: 2.8211 - val_loss: 2.8087\n",
      "Epoch 16/100\n",
      "3/3 [==============================] - 0s 104ms/step - loss: 2.7834 - val_loss: 2.7764\n",
      "Epoch 17/100\n",
      "3/3 [==============================] - 0s 57ms/step - loss: 2.7501 - val_loss: 2.7795\n",
      "Epoch 18/100\n",
      "3/3 [==============================] - 0s 70ms/step - loss: 2.7172 - val_loss: 2.7891\n",
      "Epoch 19/100\n",
      "3/3 [==============================] - 0s 67ms/step - loss: 2.6897 - val_loss: 2.7673\n",
      "Epoch 20/100\n",
      "3/3 [==============================] - 0s 52ms/step - loss: 2.6609 - val_loss: 2.7078\n",
      "Epoch 21/100\n",
      "3/3 [==============================] - 0s 55ms/step - loss: 2.6416 - val_loss: 2.6404\n",
      "Epoch 22/100\n",
      "3/3 [==============================] - 0s 89ms/step - loss: 2.6199 - val_loss: 2.6520\n",
      "Epoch 23/100\n",
      "3/3 [==============================] - 0s 96ms/step - loss: 2.6057 - val_loss: 2.7012\n",
      "Epoch 24/100\n",
      "3/3 [==============================] - 0s 62ms/step - loss: 2.5891 - val_loss: 2.6633\n",
      "Epoch 25/100\n",
      "3/3 [==============================] - 0s 54ms/step - loss: 2.5694 - val_loss: 2.6942\n",
      "Epoch 26/100\n",
      "3/3 [==============================] - 0s 48ms/step - loss: 2.5625 - val_loss: 2.6928\n",
      "Epoch 27/100\n",
      "3/3 [==============================] - 0s 78ms/step - loss: 2.5474 - val_loss: 2.6923\n",
      "Epoch 28/100\n",
      "3/3 [==============================] - 0s 59ms/step - loss: 2.5342 - val_loss: 2.6358\n",
      "Epoch 29/100\n",
      "3/3 [==============================] - 0s 46ms/step - loss: 2.5236 - val_loss: 2.6421\n",
      "Epoch 30/100\n",
      "3/3 [==============================] - 0s 47ms/step - loss: 2.5113 - val_loss: 2.6351\n",
      "Epoch 31/100\n",
      "3/3 [==============================] - 0s 44ms/step - loss: 2.5019 - val_loss: 2.6505\n",
      "Epoch 32/100\n",
      "3/3 [==============================] - 0s 62ms/step - loss: 2.4948 - val_loss: 2.6740\n",
      "Epoch 33/100\n",
      "3/3 [==============================] - 0s 51ms/step - loss: 2.4903 - val_loss: 2.7516\n",
      "Epoch 34/100\n",
      "3/3 [==============================] - 0s 41ms/step - loss: 2.4888 - val_loss: 2.6960\n",
      "Epoch 35/100\n",
      "3/3 [==============================] - 0s 36ms/step - loss: 2.4771 - val_loss: 2.6695\n",
      "Epoch 36/100\n",
      "3/3 [==============================] - 0s 53ms/step - loss: 2.4683 - val_loss: 2.6466\n",
      "Epoch 37/100\n",
      "3/3 [==============================] - 0s 42ms/step - loss: 2.4604 - val_loss: 2.6629\n",
      "Epoch 38/100\n",
      "3/3 [==============================] - 0s 47ms/step - loss: 2.4530 - val_loss: 2.6333\n",
      "Epoch 39/100\n",
      "3/3 [==============================] - 0s 52ms/step - loss: 2.4471 - val_loss: 2.5674\n",
      "Epoch 40/100\n",
      "3/3 [==============================] - 0s 42ms/step - loss: 2.4418 - val_loss: 2.5566\n",
      "Epoch 41/100\n",
      "3/3 [==============================] - 0s 45ms/step - loss: 2.4384 - val_loss: 2.5627\n",
      "Epoch 42/100\n",
      "3/3 [==============================] - 0s 44ms/step - loss: 2.4322 - val_loss: 2.6125\n",
      "Epoch 43/100\n",
      "3/3 [==============================] - 0s 46ms/step - loss: 2.4287 - val_loss: 2.6044\n",
      "Epoch 44/100\n",
      "3/3 [==============================] - ETA: 0s - loss: 2.376 - 0s 41ms/step - loss: 2.4251 - val_loss: 2.5817\n",
      "Epoch 45/100\n",
      "3/3 [==============================] - 0s 60ms/step - loss: 2.4173 - val_loss: 2.5673\n",
      "Epoch 46/100\n",
      "3/3 [==============================] - 0s 57ms/step - loss: 2.4183 - val_loss: 2.5717\n",
      "Epoch 47/100\n",
      "3/3 [==============================] - 0s 44ms/step - loss: 2.4115 - val_loss: 2.5431\n",
      "Epoch 48/100\n",
      "3/3 [==============================] - 0s 38ms/step - loss: 2.4039 - val_loss: 2.5820\n",
      "Epoch 49/100\n",
      "3/3 [==============================] - 0s 42ms/step - loss: 2.4015 - val_loss: 2.6572\n",
      "Epoch 50/100\n",
      "3/3 [==============================] - 0s 38ms/step - loss: 2.3972 - val_loss: 2.6686\n",
      "Epoch 51/100\n",
      "3/3 [==============================] - 0s 73ms/step - loss: 2.3921 - val_loss: 2.6049\n",
      "Epoch 52/100\n",
      "3/3 [==============================] - 0s 64ms/step - loss: 2.3875 - val_loss: 2.5492\n",
      "Epoch 53/100\n",
      "3/3 [==============================] - 0s 38ms/step - loss: 2.3851 - val_loss: 2.5556\n",
      "Epoch 54/100\n",
      "3/3 [==============================] - 0s 42ms/step - loss: 2.3809 - val_loss: 2.5842\n",
      "Epoch 55/100\n",
      "3/3 [==============================] - 0s 74ms/step - loss: 2.3791 - val_loss: 2.6106\n",
      "Epoch 56/100\n",
      "3/3 [==============================] - 0s 55ms/step - loss: 2.3751 - val_loss: 2.6453\n",
      "Epoch 57/100\n",
      "3/3 [==============================] - 0s 49ms/step - loss: 2.3746 - val_loss: 2.6287\n",
      "Epoch 58/100\n",
      "3/3 [==============================] - 0s 48ms/step - loss: 2.3689 - val_loss: 2.5763\n",
      "Epoch 59/100\n",
      "3/3 [==============================] - 0s 74ms/step - loss: 2.3771 - val_loss: 2.4978\n",
      "Epoch 60/100\n",
      "3/3 [==============================] - 0s 46ms/step - loss: 2.3667 - val_loss: 2.6054\n",
      "Epoch 61/100\n",
      "3/3 [==============================] - 0s 50ms/step - loss: 2.3599 - val_loss: 2.6738\n",
      "Epoch 62/100\n",
      "3/3 [==============================] - 0s 40ms/step - loss: 2.3619 - val_loss: 2.6746\n",
      "Epoch 63/100\n",
      "3/3 [==============================] - 0s 63ms/step - loss: 2.3593 - val_loss: 2.6427\n",
      "Epoch 64/100\n",
      "3/3 [==============================] - 0s 52ms/step - loss: 2.3525 - val_loss: 2.6207\n",
      "Epoch 65/100\n",
      "3/3 [==============================] - 0s 55ms/step - loss: 2.3551 - val_loss: 2.5722\n",
      "Epoch 66/100\n",
      "3/3 [==============================] - 0s 57ms/step - loss: 2.3474 - val_loss: 2.5343\n",
      "Epoch 67/100\n",
      "3/3 [==============================] - 0s 43ms/step - loss: 2.3476 - val_loss: 2.6079\n",
      "Epoch 68/100\n",
      "3/3 [==============================] - 0s 46ms/step - loss: 2.3470 - val_loss: 2.6385\n",
      "Epoch 69/100\n",
      "3/3 [==============================] - 0s 54ms/step - loss: 2.3477 - val_loss: 2.6229\n",
      "Epoch 70/100\n",
      "3/3 [==============================] - 0s 41ms/step - loss: 2.3385 - val_loss: 2.6418\n",
      "Epoch 71/100\n",
      "3/3 [==============================] - 0s 47ms/step - loss: 2.3410 - val_loss: 2.6127\n",
      "Epoch 72/100\n",
      "3/3 [==============================] - 0s 41ms/step - loss: 2.3424 - val_loss: 2.5641\n",
      "Epoch 73/100\n",
      "3/3 [==============================] - 0s 51ms/step - loss: 2.3378 - val_loss: 2.6039\n",
      "Epoch 74/100\n",
      "3/3 [==============================] - 0s 43ms/step - loss: 2.3306 - val_loss: 2.6286\n",
      "Epoch 75/100\n",
      "3/3 [==============================] - 0s 42ms/step - loss: 2.3304 - val_loss: 2.6212\n",
      "Epoch 76/100\n",
      "3/3 [==============================] - 0s 53ms/step - loss: 2.3307 - val_loss: 2.5837\n",
      "Epoch 77/100\n",
      "3/3 [==============================] - 0s 49ms/step - loss: 2.3239 - val_loss: 2.4731\n",
      "Epoch 78/100\n",
      "3/3 [==============================] - 0s 45ms/step - loss: 2.3294 - val_loss: 2.5100\n",
      "Epoch 79/100\n",
      "3/3 [==============================] - 0s 52ms/step - loss: 2.3218 - val_loss: 2.6129\n",
      "Epoch 80/100\n",
      "3/3 [==============================] - 0s 51ms/step - loss: 2.3253 - val_loss: 2.6412\n",
      "Epoch 81/100\n"
     ]
    },
    {
     "name": "stdout",
     "output_type": "stream",
     "text": [
      "3/3 [==============================] - 0s 36ms/step - loss: 2.3251 - val_loss: 2.5768\n",
      "Epoch 82/100\n",
      "3/3 [==============================] - 0s 48ms/step - loss: 2.3207 - val_loss: 2.5851\n",
      "Epoch 83/100\n",
      "3/3 [==============================] - 0s 46ms/step - loss: 2.3195 - val_loss: 2.6047\n",
      "Epoch 84/100\n",
      "3/3 [==============================] - 0s 43ms/step - loss: 2.3239 - val_loss: 2.5261\n",
      "Epoch 85/100\n",
      "3/3 [==============================] - 0s 46ms/step - loss: 2.3209 - val_loss: 2.6040\n",
      "Epoch 86/100\n",
      "3/3 [==============================] - 0s 46ms/step - loss: 2.3097 - val_loss: 2.5467\n",
      "Epoch 87/100\n",
      "3/3 [==============================] - 0s 44ms/step - loss: 2.3066 - val_loss: 2.5591\n",
      "Epoch 88/100\n",
      "3/3 [==============================] - 0s 46ms/step - loss: 2.3119 - val_loss: 2.6076\n",
      "Epoch 89/100\n",
      "3/3 [==============================] - 0s 43ms/step - loss: 2.3050 - val_loss: 2.4890\n",
      "Epoch 90/100\n",
      "3/3 [==============================] - 0s 39ms/step - loss: 2.3046 - val_loss: 2.4920\n",
      "Epoch 91/100\n",
      "3/3 [==============================] - 0s 40ms/step - loss: 2.3053 - val_loss: 2.5757\n",
      "Epoch 92/100\n",
      "3/3 [==============================] - 0s 41ms/step - loss: 2.3049 - val_loss: 2.5220\n",
      "Epoch 93/100\n",
      "3/3 [==============================] - 0s 40ms/step - loss: 2.3019 - val_loss: 2.4990\n",
      "Epoch 94/100\n",
      "3/3 [==============================] - 0s 56ms/step - loss: 2.2978 - val_loss: 2.6446\n",
      "Epoch 95/100\n",
      "3/3 [==============================] - 0s 47ms/step - loss: 2.3032 - val_loss: 2.7599\n",
      "Epoch 96/100\n",
      "3/3 [==============================] - 0s 35ms/step - loss: 2.3030 - val_loss: 2.5790\n",
      "Epoch 97/100\n",
      "3/3 [==============================] - 0s 53ms/step - loss: 2.2974 - val_loss: 2.5004\n",
      "Epoch 98/100\n",
      "3/3 [==============================] - 0s 52ms/step - loss: 2.2964 - val_loss: 2.6038\n",
      "Epoch 99/100\n",
      "3/3 [==============================] - 0s 40ms/step - loss: 2.2982 - val_loss: 2.6494\n",
      "Epoch 100/100\n",
      "3/3 [==============================] - 0s 52ms/step - loss: 2.2998 - val_loss: 2.5608\n"
     ]
    }
   ],
   "source": [
    "history = model.fit(X_train, y_train_grid, epochs=100,\n",
    "                    validation_data=(X_valid, y_valid_grid))"
   ]
  },
  {
   "cell_type": "code",
   "execution_count": 27,
   "id": "390834c9",
   "metadata": {},
   "outputs": [
    {
     "data": {
      "image/png": "[encoded data removed]",
      "text/plain": [
       "<Figure size 576x360 with 1 Axes>"
      ]
     },
     "metadata": {
      "needs_background": "light"
     },
     "output_type": "display_data"
    }
   ],
   "source": [
    "import pandas as pd\n",
    "\n",
    "pd.DataFrame(history.history).plot(figsize=(8, 5))\n",
    "plt.grid(True)\n",
    "# plt.gca().set_ylim(0, 1)\n",
    "plt.show()"
   ]
  },
  {
   "cell_type": "code",
   "execution_count": 28,
   "id": "6fba3b6a",
   "metadata": {},
   "outputs": [
    {
     "name": "stdout",
     "output_type": "stream",
     "text": [
      "X.shape = (None, 1)\n",
      "gauss_grid.shape = (None, 5)\n"
     ]
    },
    {
     "data": {
      "image/png": "[encoded data removed]",
      "text/plain": [
       "<Figure size 432x288 with 1 Axes>"
      ]
     },
     "metadata": {
      "needs_background": "light"
     },
     "output_type": "display_data"
    }
   ],
   "source": [
    "# X_new = np.linspace(-5, 5, 100).reshape(100, 1)\n",
    "# y_new_proba = model.predict(X_new)\n",
    "# y_new = n2g.inv_convert(y_new_proba)\n",
    "#\n",
    "plt.plot(X_train, y_train, \"b.\")\n",
    "# plt.plot(X_new, y_new, \"r-\", linewidth=2, label=\"Predictions\")\n",
    "draw_func((lambda X: n2g.inv_convert(model.predict(X)) ), mark='r-', linewidth=2, label=\"Predictions\")\n",
    "draw_normal_func(func_dict)\n",
    "plt.xlabel(\"$x_1$\", fontsize=18)\n",
    "plt.ylabel(\"$y$\", rotation=0, fontsize=18)\n",
    "plt.legend(loc=\"upper left\", fontsize=14)\n",
    "# plt.axis([-3, 3, 0, 10])\n",
    "plt.show()"
   ]
  },
  {
   "cell_type": "code",
   "execution_count": 29,
   "id": "edcf26db",
   "metadata": {},
   "outputs": [
    {
     "data": {
      "text/plain": [
       "<matplotlib.collections.QuadMesh at 0x7ff020583160>"
      ]
     },
     "execution_count": 29,
     "metadata": {},
     "output_type": "execute_result"
    },
    {
     "data": {
      "image/png": "[encoded data removed]",
      "text/plain": [
       "<Figure size 432x288 with 1 Axes>"
      ]
     },
     "metadata": {
      "needs_background": "light"
     },
     "output_type": "display_data"
    }
   ],
   "source": [
    "X_new = np.linspace(-5, 5, 100).reshape(100, 1)\n",
    "y_new_proba = model.predict(X_new)\n",
    "# y_new = n2g.inv_convert(y_new_proba)\n",
    "#\n",
    "xv, yv = np.meshgrid(X_new, np.linspace(n2g.x_min, n2g.x_max, n2g.units))\n",
    "# print(xv)\n",
    "# print(yv)\n",
    "plt.pcolormesh(xv, yv, y_new_proba.T, shading=\"nearest\")"
   ]
  },
  {
   "cell_type": "code",
   "execution_count": null,
   "id": "247e8712",
   "metadata": {},
   "outputs": [],
   "source": []
  },
  {
   "cell_type": "code",
   "execution_count": null,
   "id": "f7c3917e",
   "metadata": {},
   "outputs": [],
   "source": []
  },
  {
   "cell_type": "code",
   "execution_count": null,
   "id": "26440167",
   "metadata": {},
   "outputs": [],
   "source": []
  },
  {
   "cell_type": "code",
   "execution_count": null,
   "id": "8b15e9ff",
   "metadata": {},
   "outputs": [],
   "source": []
  }
 ],
 "metadata": {
  "kernelspec": {
   "display_name": "Python 3",
   "language": "python",
   "name": "python3"
  },
  "language_info": {
   "codemirror_mode": {
    "name": "ipython",
    "version": 3
   },
   "file_extension": ".py",
   "mimetype": "text/x-python",
   "name": "python",
   "nbconvert_exporter": "python",
   "pygments_lexer": "ipython3",
   "version": "3.6.9"
  }
 },
 "nbformat": 4,
 "nbformat_minor": 5
}
