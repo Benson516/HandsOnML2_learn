{
 "cells": [
  {
   "cell_type": "markdown",
   "id": "899fa113",
   "metadata": {},
   "source": [
    "# Regression with Different Output Format under Various Data Conditions\n",
    "\n",
    "In this experience, we test the following output format for regression task under several different data coditions.\n",
    "- Numerical output\n",
    "- Regression as classification (grid-out)\n",
    "\n",
    "The data coditions include:\n",
    "- Sparse (few data)\n",
    "- Grouped\n",
    "  - Biased (parallel data)\n",
    "  - Completely different mode, uncorrelated data (cross)\n",
    "  - Partially diversed (split)"
   ]
  },
  {
   "cell_type": "code",
   "execution_count": 1,
   "id": "625ce7c3",
   "metadata": {},
   "outputs": [],
   "source": [
    "import numpy as np\n",
    "import tensorflow as tf\n",
    "from tensorflow import keras\n",
    "\n",
    "# To plot pretty figures\n",
    "%matplotlib inline\n",
    "import matplotlib as mpl\n",
    "import matplotlib.pyplot as plt\n",
    "mpl.rc('axes', labelsize=14)\n",
    "mpl.rc('xtick', labelsize=12)\n",
    "mpl.rc('ytick', labelsize=12)"
   ]
  },
  {
   "cell_type": "code",
   "execution_count": 2,
   "id": "94e8a077",
   "metadata": {},
   "outputs": [],
   "source": [
    "def draw_func(func_in, x_min=-5, x_max=5, mark='r--', linewidth=1, label='func'):\n",
    "    n_sample = 100\n",
    "    X_func = np.linspace(x_min, x_max, n_sample).reshape(n_sample, 1)\n",
    "    y_func = func_in(X_func)\n",
    "    plt.plot(X_func, y_func, mark, linewidth=linewidth, label=label)"
   ]
  },
  {
   "cell_type": "markdown",
   "id": "c27ffe35",
   "metadata": {},
   "source": [
    "Generate polynomial data"
   ]
  },
  {
   "cell_type": "code",
   "execution_count": 3,
   "id": "ce670ce4",
   "metadata": {},
   "outputs": [],
   "source": [
    "poly_a1 = 5.0\n",
    "# poly_a1 = -10.0 # 5.0\n",
    "def func_0(X): # Reference\n",
    "    return 0.5 * X**3 + 0.5 * X**2 + (poly_a1)*X + 2\n",
    "def func_1(X): # Variation 1: parellel\n",
    "    return 0.5 * X**3 + 0.5 * X**2 + (poly_a1)*X + 30\n",
    "def func_2(X): # Variation 2: cross\n",
    "    return -0.5 * X**3 + 0.5 * X**2 + (poly_a1)*X + 30\n",
    "def func_3(X): # Variation 3: slightly split\n",
    "    return 0.3 * X**3 + 1.0 * X**2 + (poly_a1)*X + 15 "
   ]
  },
  {
   "cell_type": "code",
   "execution_count": 4,
   "id": "9463bfff",
   "metadata": {},
   "outputs": [],
   "source": [
    "func_dict = dict()\n",
    "func_dict[\"f1\"] = func_0\n",
    "# func_dict[\"f2\"] = func_1\n",
    "# func_dict[\"f2\"] = func_2\n",
    "func_dict[\"f2\"] = func_3\n",
    "\n",
    "# Average line\n",
    "func_dict[\"f_avg\"] = ( lambda X: 0.5*func_dict[\"f1\"](X) + 0.5*func_dict[\"f2\"](X) )"
   ]
  },
  {
   "cell_type": "code",
   "execution_count": 5,
   "id": "9bd2136c",
   "metadata": {},
   "outputs": [],
   "source": [
    "def draw_normal_func(func_dict):\n",
    "    draw_func(func_dict[\"f1\"], mark='c:', label=\"f1\")\n",
    "    draw_func(func_dict[\"f2\"], mark='g:', label=\"f2\")\n",
    "    draw_func(func_dict[\"f_avg\"], mark='m--', label=\"f_avg\")"
   ]
  },
  {
   "cell_type": "code",
   "execution_count": 6,
   "id": "63437d0c",
   "metadata": {},
   "outputs": [
    {
     "name": "stdout",
     "output_type": "stream",
     "text": [
      "(m, m_train) = (100, 80)\n",
      "y_data_pure.shape = (100, 1)\n",
      "y_data.shape = (100, 1)\n"
     ]
    }
   ],
   "source": [
    "np.random.seed(42)\n",
    "m = 100 # 50 # 100 # 200\n",
    "m_train = m // 5 * 4\n",
    "print(\"(m, m_train) = (%d, %d)\" % (m, m_train))\n",
    "\n",
    "# Input\n",
    "is_gapped = True\n",
    "# is_gapped = False\n",
    "#\n",
    "if not is_gapped:\n",
    "    X_data = 10 * np.random.rand(m, 1) - 5 # Note: X is randomly sampled, so we don't need to shuffle the data again\n",
    "else:\n",
    "    X_data = np.concatenate( (np.linspace(-5.0, -2.0, m//2), np.linspace(2.0, 5.0, m-m//2)) )\n",
    "    X_data = X_data.reshape((m,1))\n",
    "    np.random.shuffle(X_data)\n",
    "\n",
    "# Output\n",
    "is_multiout = True\n",
    "# is_multiout = False\n",
    "if is_multiout:\n",
    "    m_h = m // 2\n",
    "    X_data_1 = X_data[:m_h]\n",
    "    X_data_2 = X_data[m_h:]\n",
    "    y_data_pure_1 = func_dict[\"f1\"](X_data_1) \n",
    "    y_data_pure_2 = func_dict[\"f2\"](X_data_2) \n",
    "    y_data_pure = np.vstack([y_data_pure_1, y_data_pure_2])\n",
    "    print(\"y_data_pure.shape = %s\" % str(y_data_pure.shape))\n",
    "else:        \n",
    "    y_data_pure = 0.5 * X_data**3 + 0.5 * X_data**2 + X_data + 2 \n",
    "\n",
    "# Label (+noise)\n",
    "n_stddev = 2.0\n",
    "# n_stddev = 10.0\n",
    "y_data = y_data_pure + np.random.randn(m, 1) * n_stddev\n",
    "print(\"y_data.shape = %s\" % str(y_data.shape))"
   ]
  },
  {
   "cell_type": "code",
   "execution_count": 7,
   "id": "ef588fae",
   "metadata": {},
   "outputs": [],
   "source": [
    "# Method 1: simply slice\n",
    "# X_train = X_data[:m_train]\n",
    "# y_train = y_data[:m_train]\n",
    "# X_valid = X_data[m_train:]\n",
    "# y_valid = y_data[m_train:]\n",
    "\n",
    "# Method 2: shuffle\n",
    "from sklearn.model_selection import train_test_split\n",
    "X_train, X_valid, y_train, y_valid = train_test_split(X_data, y_data, test_size=0.2, random_state=42)"
   ]
  },
  {
   "cell_type": "code",
   "execution_count": 8,
   "id": "3b5d2cfe",
   "metadata": {},
   "outputs": [
    {
     "name": "stdout",
     "output_type": "stream",
     "text": [
      "(80, 1)\n"
     ]
    }
   ],
   "source": [
    "print(X_train.shape)"
   ]
  },
  {
   "cell_type": "code",
   "execution_count": 9,
   "id": "693af3b7",
   "metadata": {},
   "outputs": [
    {
     "data": {
      "image/png": "[encoded data removed]",
      "text/plain": [
       "<Figure size 432x288 with 1 Axes>"
      ]
     },
     "metadata": {
      "needs_background": "light"
     },
     "output_type": "display_data"
    }
   ],
   "source": [
    "plt.plot(X_train, y_train, \"b.\")\n",
    "draw_normal_func(func_dict)\n",
    "plt.xlabel(\"$x_1$\", fontsize=18)\n",
    "plt.ylabel(\"$y$\", rotation=0, fontsize=18)\n",
    "# plt.axis([-3, 3, 0, 10])\n",
    "plt.show()"
   ]
  },
  {
   "cell_type": "markdown",
   "id": "053ecc57",
   "metadata": {},
   "source": [
    "# Simple FCs (number --> number)"
   ]
  },
  {
   "cell_type": "markdown",
   "id": "c66eb67b",
   "metadata": {},
   "source": [
    "Build the regression model"
   ]
  },
  {
   "cell_type": "code",
   "execution_count": 10,
   "id": "9449fc0b",
   "metadata": {},
   "outputs": [
    {
     "name": "stderr",
     "output_type": "stream",
     "text": [
      "/home/benson516/ml/my_env/lib/python3.6/site-packages/tensorflow/python/keras/optimizer_v2/optimizer_v2.py:375: UserWarning: The `lr` argument is deprecated, use `learning_rate` instead.\n",
      "  \"The `lr` argument is deprecated, use `learning_rate` instead.\")\n"
     ]
    }
   ],
   "source": [
    "model = keras.models.Sequential([\n",
    "    keras.layers.Dense(30, activation=\"relu\", input_shape=X_train.shape[1:]),\n",
    "    keras.layers.Dense(30, activation=\"relu\"),\n",
    "    keras.layers.Dense(1)\n",
    "])\n",
    "\n",
    "optimizer = keras.optimizers.SGD(lr=0.0001, momentum=0.9)\n",
    "model.compile(loss=\"mean_squared_error\", optimizer=optimizer)"
   ]
  },
  {
   "cell_type": "code",
   "execution_count": 11,
   "id": "92afd68a",
   "metadata": {
    "scrolled": true
   },
   "outputs": [
    {
     "name": "stdout",
     "output_type": "stream",
     "text": [
      "Epoch 1/100\n",
      "3/3 [==============================] - 1s 250ms/step - loss: 2510.0334 - val_loss: 1745.5973\n",
      "Epoch 2/100\n",
      "3/3 [==============================] - 0s 70ms/step - loss: 2453.5027 - val_loss: 1666.5105\n",
      "Epoch 3/100\n",
      "3/3 [==============================] - 0s 84ms/step - loss: 2335.2798 - val_loss: 1544.0131\n",
      "Epoch 4/100\n",
      "3/3 [==============================] - 0s 94ms/step - loss: 2118.7954 - val_loss: 1294.0999\n",
      "Epoch 5/100\n",
      "3/3 [==============================] - 0s 98ms/step - loss: 1575.4216 - val_loss: 753.6942\n",
      "Epoch 6/100\n",
      "3/3 [==============================] - 0s 60ms/step - loss: 643.3249 - val_loss: 588.7986\n",
      "Epoch 7/100\n",
      "3/3 [==============================] - 0s 70ms/step - loss: 792.6619 - val_loss: 570.9431\n",
      "Epoch 8/100\n",
      "3/3 [==============================] - ETA: 0s - loss: 641.710 - 0s 92ms/step - loss: 417.4645 - val_loss: 276.7938\n",
      "Epoch 9/100\n",
      "3/3 [==============================] - 0s 77ms/step - loss: 387.3762 - val_loss: 331.7624\n",
      "Epoch 10/100\n",
      "3/3 [==============================] - 0s 60ms/step - loss: 480.6772 - val_loss: 211.4618\n",
      "Epoch 11/100\n",
      "3/3 [==============================] - 0s 124ms/step - loss: 279.7868 - val_loss: 215.8324\n",
      "Epoch 12/100\n",
      "3/3 [==============================] - 0s 103ms/step - loss: 285.9114 - val_loss: 212.7630\n",
      "Epoch 13/100\n",
      "3/3 [==============================] - 0s 107ms/step - loss: 224.6072 - val_loss: 181.0912\n",
      "Epoch 14/100\n",
      "3/3 [==============================] - 0s 103ms/step - loss: 227.4113 - val_loss: 220.8685\n",
      "Epoch 15/100\n",
      "3/3 [==============================] - 0s 91ms/step - loss: 249.6172 - val_loss: 206.0068\n",
      "Epoch 16/100\n",
      "3/3 [==============================] - 0s 84ms/step - loss: 209.5255 - val_loss: 204.9678\n",
      "Epoch 17/100\n",
      "3/3 [==============================] - 0s 89ms/step - loss: 218.4997 - val_loss: 184.9505\n",
      "Epoch 18/100\n",
      "3/3 [==============================] - 0s 89ms/step - loss: 209.8882 - val_loss: 169.1779\n",
      "Epoch 19/100\n",
      "3/3 [==============================] - 0s 92ms/step - loss: 207.7265 - val_loss: 167.7514\n",
      "Epoch 20/100\n",
      "3/3 [==============================] - 0s 113ms/step - loss: 198.0120 - val_loss: 175.9856\n",
      "Epoch 21/100\n",
      "3/3 [==============================] - 0s 108ms/step - loss: 206.2071 - val_loss: 177.0561\n",
      "Epoch 22/100\n",
      "3/3 [==============================] - 0s 84ms/step - loss: 198.8163 - val_loss: 173.4252\n",
      "Epoch 23/100\n",
      "3/3 [==============================] - 0s 102ms/step - loss: 198.3010 - val_loss: 177.3194\n",
      "Epoch 24/100\n",
      "3/3 [==============================] - 0s 103ms/step - loss: 196.3090 - val_loss: 180.4149\n",
      "Epoch 25/100\n",
      "3/3 [==============================] - 0s 111ms/step - loss: 192.6931 - val_loss: 181.3351\n",
      "Epoch 26/100\n",
      "3/3 [==============================] - 0s 99ms/step - loss: 196.5104 - val_loss: 171.3365\n",
      "Epoch 27/100\n",
      "3/3 [==============================] - 0s 73ms/step - loss: 197.2988 - val_loss: 164.9475\n",
      "Epoch 28/100\n",
      "3/3 [==============================] - 0s 69ms/step - loss: 197.2205 - val_loss: 165.2360\n",
      "Epoch 29/100\n",
      "3/3 [==============================] - 0s 104ms/step - loss: 191.4460 - val_loss: 173.9782\n",
      "Epoch 30/100\n",
      "3/3 [==============================] - 0s 72ms/step - loss: 195.6358 - val_loss: 177.9455\n",
      "Epoch 31/100\n",
      "3/3 [==============================] - 0s 74ms/step - loss: 190.2757 - val_loss: 179.4063\n",
      "Epoch 32/100\n",
      "3/3 [==============================] - 0s 124ms/step - loss: 194.8326 - val_loss: 180.1835\n",
      "Epoch 33/100\n",
      "3/3 [==============================] - 0s 67ms/step - loss: 190.3758 - val_loss: 179.6049\n",
      "Epoch 34/100\n",
      "3/3 [==============================] - 0s 107ms/step - loss: 191.0445 - val_loss: 183.4554\n",
      "Epoch 35/100\n",
      "3/3 [==============================] - 0s 68ms/step - loss: 193.7234 - val_loss: 169.6544\n",
      "Epoch 36/100\n",
      "3/3 [==============================] - 0s 120ms/step - loss: 188.1993 - val_loss: 162.6441\n",
      "Epoch 37/100\n",
      "3/3 [==============================] - 0s 84ms/step - loss: 187.0832 - val_loss: 165.2268\n",
      "Epoch 38/100\n",
      "3/3 [==============================] - 0s 120ms/step - loss: 186.8750 - val_loss: 169.0431\n",
      "Epoch 39/100\n",
      "3/3 [==============================] - 0s 75ms/step - loss: 184.4351 - val_loss: 175.5780\n",
      "Epoch 40/100\n",
      "3/3 [==============================] - 0s 101ms/step - loss: 186.8878 - val_loss: 170.3620\n",
      "Epoch 41/100\n",
      "3/3 [==============================] - 0s 90ms/step - loss: 183.0591 - val_loss: 170.7249\n",
      "Epoch 42/100\n",
      "3/3 [==============================] - 0s 96ms/step - loss: 181.9949 - val_loss: 172.1717\n",
      "Epoch 43/100\n",
      "3/3 [==============================] - 0s 89ms/step - loss: 181.8304 - val_loss: 167.6454\n",
      "Epoch 44/100\n",
      "3/3 [==============================] - 0s 111ms/step - loss: 182.7530 - val_loss: 163.1967\n",
      "Epoch 45/100\n",
      "3/3 [==============================] - 0s 80ms/step - loss: 181.9526 - val_loss: 165.0117\n",
      "Epoch 46/100\n",
      "3/3 [==============================] - 0s 80ms/step - loss: 182.8572 - val_loss: 166.4460\n",
      "Epoch 47/100\n",
      "3/3 [==============================] - 0s 132ms/step - loss: 182.0131 - val_loss: 161.1059\n",
      "Epoch 48/100\n",
      "3/3 [==============================] - 0s 65ms/step - loss: 180.5900 - val_loss: 162.0588\n",
      "Epoch 49/100\n",
      "3/3 [==============================] - 0s 77ms/step - loss: 178.4110 - val_loss: 166.4790\n",
      "Epoch 50/100\n",
      "3/3 [==============================] - 0s 91ms/step - loss: 180.8777 - val_loss: 165.4128\n",
      "Epoch 51/100\n",
      "3/3 [==============================] - 0s 65ms/step - loss: 178.2363 - val_loss: 165.0691\n",
      "Epoch 52/100\n",
      "3/3 [==============================] - 0s 56ms/step - loss: 177.3601 - val_loss: 166.9482\n",
      "Epoch 53/100\n",
      "3/3 [==============================] - 0s 75ms/step - loss: 176.1274 - val_loss: 172.4628\n",
      "Epoch 54/100\n",
      "3/3 [==============================] - 0s 77ms/step - loss: 178.2555 - val_loss: 168.9255\n",
      "Epoch 55/100\n",
      "3/3 [==============================] - 0s 86ms/step - loss: 175.6054 - val_loss: 166.0760\n",
      "Epoch 56/100\n",
      "3/3 [==============================] - 0s 85ms/step - loss: 175.0719 - val_loss: 164.7474\n",
      "Epoch 57/100\n",
      "3/3 [==============================] - 0s 75ms/step - loss: 175.9886 - val_loss: 160.4998\n",
      "Epoch 58/100\n",
      "3/3 [==============================] - 0s 96ms/step - loss: 174.7186 - val_loss: 160.5045\n",
      "Epoch 59/100\n",
      "3/3 [==============================] - 0s 78ms/step - loss: 172.8063 - val_loss: 155.8883\n",
      "Epoch 60/100\n",
      "3/3 [==============================] - 0s 98ms/step - loss: 173.6295 - val_loss: 155.5704\n",
      "Epoch 61/100\n",
      "3/3 [==============================] - 0s 63ms/step - loss: 175.5008 - val_loss: 155.8883\n",
      "Epoch 62/100\n",
      "3/3 [==============================] - 0s 66ms/step - loss: 171.3777 - val_loss: 159.7617\n",
      "Epoch 63/100\n",
      "3/3 [==============================] - 0s 64ms/step - loss: 171.8824 - val_loss: 163.8188\n",
      "Epoch 64/100\n",
      "3/3 [==============================] - 0s 92ms/step - loss: 172.5984 - val_loss: 159.8670\n",
      "Epoch 65/100\n",
      "3/3 [==============================] - 0s 63ms/step - loss: 170.2551 - val_loss: 159.5600\n",
      "Epoch 66/100\n",
      "3/3 [==============================] - 0s 99ms/step - loss: 170.5125 - val_loss: 157.8766\n",
      "Epoch 67/100\n",
      "3/3 [==============================] - 0s 67ms/step - loss: 170.6602 - val_loss: 154.3580\n",
      "Epoch 68/100\n",
      "3/3 [==============================] - 0s 84ms/step - loss: 169.3411 - val_loss: 153.4157\n",
      "Epoch 69/100\n",
      "3/3 [==============================] - 0s 98ms/step - loss: 168.3199 - val_loss: 155.9626\n",
      "Epoch 70/100\n",
      "3/3 [==============================] - 0s 75ms/step - loss: 168.2920 - val_loss: 161.3890\n",
      "Epoch 71/100\n",
      "3/3 [==============================] - 0s 109ms/step - loss: 168.9232 - val_loss: 160.5695\n",
      "Epoch 72/100\n",
      "3/3 [==============================] - 0s 93ms/step - loss: 170.2225 - val_loss: 159.5279\n",
      "Epoch 73/100\n",
      "3/3 [==============================] - 0s 120ms/step - loss: 166.1589 - val_loss: 151.5229\n",
      "Epoch 74/100\n",
      "3/3 [==============================] - 0s 91ms/step - loss: 167.1989 - val_loss: 147.2362\n",
      "Epoch 75/100\n",
      "3/3 [==============================] - 0s 105ms/step - loss: 170.7953 - val_loss: 146.9840\n",
      "Epoch 76/100\n",
      "3/3 [==============================] - 0s 65ms/step - loss: 168.0333 - val_loss: 149.1455\n",
      "Epoch 77/100\n",
      "3/3 [==============================] - 0s 114ms/step - loss: 164.7537 - val_loss: 154.3239\n",
      "Epoch 78/100\n",
      "3/3 [==============================] - 0s 68ms/step - loss: 163.6751 - val_loss: 160.3750\n",
      "Epoch 79/100\n",
      "3/3 [==============================] - 0s 72ms/step - loss: 169.1044 - val_loss: 167.0611\n",
      "Epoch 80/100\n"
     ]
    },
    {
     "name": "stdout",
     "output_type": "stream",
     "text": [
      "3/3 [==============================] - 0s 76ms/step - loss: 166.0405 - val_loss: 159.7155\n",
      "Epoch 81/100\n",
      "3/3 [==============================] - 0s 65ms/step - loss: 164.9945 - val_loss: 149.0699\n",
      "Epoch 82/100\n",
      "3/3 [==============================] - 0s 77ms/step - loss: 166.1543 - val_loss: 146.0289\n",
      "Epoch 83/100\n",
      "3/3 [==============================] - 0s 64ms/step - loss: 168.2230 - val_loss: 145.0566\n",
      "Epoch 84/100\n",
      "3/3 [==============================] - 0s 72ms/step - loss: 168.8499 - val_loss: 145.4419\n",
      "Epoch 85/100\n",
      "3/3 [==============================] - 0s 67ms/step - loss: 164.5459 - val_loss: 145.3765\n",
      "Epoch 86/100\n",
      "3/3 [==============================] - 0s 66ms/step - loss: 164.2039 - val_loss: 147.5397\n",
      "Epoch 87/100\n",
      "3/3 [==============================] - 0s 69ms/step - loss: 163.9315 - val_loss: 146.4627\n",
      "Epoch 88/100\n",
      "3/3 [==============================] - 0s 99ms/step - loss: 161.6822 - val_loss: 150.8295\n",
      "Epoch 89/100\n",
      "3/3 [==============================] - 0s 123ms/step - loss: 161.3057 - val_loss: 152.5110\n",
      "Epoch 90/100\n",
      "3/3 [==============================] - 0s 71ms/step - loss: 161.6760 - val_loss: 157.7422\n",
      "Epoch 91/100\n",
      "3/3 [==============================] - 0s 68ms/step - loss: 162.7348 - val_loss: 155.2888\n",
      "Epoch 92/100\n",
      "3/3 [==============================] - 0s 96ms/step - loss: 165.6308 - val_loss: 147.7989\n",
      "Epoch 93/100\n",
      "3/3 [==============================] - 0s 76ms/step - loss: 160.4659 - val_loss: 148.8103\n",
      "Epoch 94/100\n",
      "3/3 [==============================] - 0s 67ms/step - loss: 161.6880 - val_loss: 148.1498\n",
      "Epoch 95/100\n",
      "3/3 [==============================] - 0s 96ms/step - loss: 160.6239 - val_loss: 147.5634\n",
      "Epoch 96/100\n",
      "3/3 [==============================] - 0s 60ms/step - loss: 163.3708 - val_loss: 152.2919\n",
      "Epoch 97/100\n",
      "3/3 [==============================] - 0s 73ms/step - loss: 160.7207 - val_loss: 148.4748\n",
      "Epoch 98/100\n",
      "3/3 [==============================] - 0s 91ms/step - loss: 160.7043 - val_loss: 140.8697\n",
      "Epoch 99/100\n",
      "3/3 [==============================] - 0s 71ms/step - loss: 160.7358 - val_loss: 139.2259\n",
      "Epoch 100/100\n",
      "3/3 [==============================] - 0s 87ms/step - loss: 160.3022 - val_loss: 145.6568\n"
     ]
    }
   ],
   "source": [
    "history = model.fit(X_train, y_train, epochs=100,\n",
    "                    validation_data=(X_valid, y_valid))"
   ]
  },
  {
   "cell_type": "markdown",
   "id": "17d6e37a",
   "metadata": {},
   "source": [
    "Plot the result"
   ]
  },
  {
   "cell_type": "code",
   "execution_count": 12,
   "id": "3b066f5c",
   "metadata": {},
   "outputs": [
    {
     "data": {
      "image/png": "[encoded data removed]",
      "text/plain": [
       "<Figure size 576x360 with 1 Axes>"
      ]
     },
     "metadata": {
      "needs_background": "light"
     },
     "output_type": "display_data"
    }
   ],
   "source": [
    "import pandas as pd\n",
    "\n",
    "pd.DataFrame(history.history).plot(figsize=(8, 5))\n",
    "plt.grid(True)\n",
    "# plt.gca().set_ylim(0, 1)\n",
    "plt.show()"
   ]
  },
  {
   "cell_type": "code",
   "execution_count": 13,
   "id": "03f9bb54",
   "metadata": {},
   "outputs": [
    {
     "data": {
      "image/png": "[encoded data removed]",
      "text/plain": [
       "<Figure size 432x288 with 1 Axes>"
      ]
     },
     "metadata": {
      "needs_background": "light"
     },
     "output_type": "display_data"
    }
   ],
   "source": [
    "# X_new = np.linspace(-5, 5, 100).reshape(100, 1)\n",
    "# y_new = model.predict(X_new)\n",
    "#\n",
    "plt.plot(X_train, y_train, \"b.\")\n",
    "# plt.plot(X_new, y_new, \"r-\", linewidth=2, label=\"Predictions\")\n",
    "draw_func(model.predict, mark='r-', linewidth=2, label=\"Predictions\")\n",
    "draw_normal_func(func_dict)\n",
    "plt.xlabel(\"$x_1$\", fontsize=18)\n",
    "plt.ylabel(\"$y$\", rotation=0, fontsize=18)\n",
    "plt.legend(loc=\"upper left\", fontsize=14)\n",
    "# plt.axis([-3, 3, 0, 10])\n",
    "plt.show()"
   ]
  },
  {
   "cell_type": "markdown",
   "id": "58da8768",
   "metadata": {},
   "source": [
    "# Simulated CNN Feature Map (1-D grids, grid --> number)"
   ]
  },
  {
   "cell_type": "code",
   "execution_count": 14,
   "id": "287b5e4c",
   "metadata": {},
   "outputs": [],
   "source": [
    "class num2grid(keras.layers.Layer):\n",
    "    def __init__(self, units, x_min=-10, x_max=10, sigma=1.0, activation=None, **kwargs):\n",
    "        super().__init__(**kwargs)\n",
    "        self.units = units\n",
    "        self.x_min = x_min\n",
    "        self.x_max = x_max\n",
    "        self.sigma = sigma\n",
    "        self.sigma2 = self.sigma**2\n",
    "        self.activation = keras.activations.get(activation)\n",
    "        \n",
    "    def build(self, batch_input_shape):\n",
    "        #\n",
    "        self.x_grid = np.linspace(self.x_min, self.x_max, self.units, endpoint=True)\n",
    "#         print(\"self.x_grid.shape = %s\" % str(self.x_grid.shape))\n",
    "        #\n",
    "        super().build(batch_input_shape) # must be at the end\n",
    "        \n",
    "    def call(self, X):\n",
    "        '''\n",
    "        Input shape:  (batch, X_chanel)\n",
    "        Output shape: (batch, grid_unit) \n",
    "        \n",
    "        self.x_grid shape: (grid_unit,)\n",
    "        '''\n",
    "        gauss_grid = tf.exp( -(self.x_grid - X)**2 / (2.0*self.sigma2) )\n",
    "        print(\"X.shape = %s\" % str(X.shape))\n",
    "        print(\"gauss_grid.shape = %s\" % str(gauss_grid.shape))\n",
    "        return self.activation(gauss_grid)\n",
    "    \n",
    "    def compute_output_shape(self, batch_input_shape):\n",
    "        return tf.TensorShape(batch_input_shape.as_list()[:-1] + [self.units])\n",
    "    \n",
    "    def get_config(self):\n",
    "        base_config = super().get_config()\n",
    "        return {**base_config, \n",
    "                \"units\": self.units,\n",
    "                \"x_min\": self.x_min,\n",
    "                \"x_max\": self.x_max,\n",
    "                \"sigma\": self.sigma,\n",
    "                \"activation\": keras.activations.serialize(self.activation)}"
   ]
  },
  {
   "cell_type": "code",
   "execution_count": 15,
   "id": "f463c12a",
   "metadata": {},
   "outputs": [
    {
     "name": "stdout",
     "output_type": "stream",
     "text": [
      "X.shape = (None, 1)\n",
      "gauss_grid.shape = (None, 5)\n"
     ]
    },
    {
     "name": "stderr",
     "output_type": "stream",
     "text": [
      "/home/benson516/ml/my_env/lib/python3.6/site-packages/tensorflow/python/keras/optimizer_v2/optimizer_v2.py:375: UserWarning: The `lr` argument is deprecated, use `learning_rate` instead.\n",
      "  \"The `lr` argument is deprecated, use `learning_rate` instead.\")\n"
     ]
    }
   ],
   "source": [
    "model = keras.models.Sequential([\n",
    "    num2grid(5,x_min=-10, x_max=10, sigma=3.0, input_shape=X_train.shape[1:]),\n",
    "    keras.layers.Dense(30, activation=\"relu\"),\n",
    "#     keras.layers.Dense(30, activation=\"relu\"),\n",
    "    keras.layers.Dense(1)\n",
    "])\n",
    "\n",
    "optimizer = keras.optimizers.SGD(lr=0.001, momentum=0.9)\n",
    "model.compile(loss=\"mean_squared_error\", optimizer=optimizer)"
   ]
  },
  {
   "cell_type": "code",
   "execution_count": 16,
   "id": "c966ada4",
   "metadata": {
    "scrolled": true
   },
   "outputs": [
    {
     "name": "stdout",
     "output_type": "stream",
     "text": [
      "Epoch 1/100\n",
      "X.shape = (None, 1)\n",
      "gauss_grid.shape = (None, 5)\n",
      "X.shape = (None, 1)\n",
      "gauss_grid.shape = (None, 5)\n",
      "1/3 [=========>....................] - ETA: 2s - loss: 2250.3713X.shape = (None, 1)\n",
      "gauss_grid.shape = (None, 5)\n",
      "3/3 [==============================] - 2s 267ms/step - loss: 2497.3645 - val_loss: 1728.4834\n",
      "Epoch 2/100\n",
      "3/3 [==============================] - 0s 62ms/step - loss: 2424.1863 - val_loss: 1671.6213\n",
      "Epoch 3/100\n",
      "3/3 [==============================] - 0s 72ms/step - loss: 2228.8687 - val_loss: 1519.5679\n",
      "Epoch 4/100\n",
      "3/3 [==============================] - ETA: 0s - loss: 1709.38 - 0s 95ms/step - loss: 1755.7565 - val_loss: 1320.7677\n",
      "Epoch 5/100\n",
      "3/3 [==============================] - 0s 104ms/step - loss: 1115.2220 - val_loss: 937.1193\n",
      "Epoch 6/100\n",
      "3/3 [==============================] - 0s 57ms/step - loss: 704.6941 - val_loss: 588.8807\n",
      "Epoch 7/100\n",
      "3/3 [==============================] - 0s 74ms/step - loss: 489.2846 - val_loss: 381.3567\n",
      "Epoch 8/100\n",
      "3/3 [==============================] - 0s 76ms/step - loss: 372.1212 - val_loss: 286.1982\n",
      "Epoch 9/100\n",
      "3/3 [==============================] - 0s 89ms/step - loss: 287.0080 - val_loss: 265.7234\n",
      "Epoch 10/100\n",
      "3/3 [==============================] - 0s 89ms/step - loss: 270.5320 - val_loss: 339.3033\n",
      "Epoch 11/100\n",
      "3/3 [==============================] - 0s 106ms/step - loss: 289.0541 - val_loss: 279.3093\n",
      "Epoch 12/100\n",
      "3/3 [==============================] - 0s 107ms/step - loss: 278.0889 - val_loss: 249.3318\n",
      "Epoch 13/100\n",
      "3/3 [==============================] - 0s 73ms/step - loss: 255.9386 - val_loss: 261.2527\n",
      "Epoch 14/100\n",
      "3/3 [==============================] - 0s 84ms/step - loss: 255.7642 - val_loss: 271.6836\n",
      "Epoch 15/100\n",
      "3/3 [==============================] - 0s 77ms/step - loss: 241.9346 - val_loss: 241.8510\n",
      "Epoch 16/100\n",
      "3/3 [==============================] - 0s 112ms/step - loss: 244.1077 - val_loss: 224.2160\n",
      "Epoch 17/100\n",
      "3/3 [==============================] - 0s 126ms/step - loss: 228.8379 - val_loss: 236.5525\n",
      "Epoch 18/100\n",
      "3/3 [==============================] - 0s 78ms/step - loss: 228.0407 - val_loss: 215.8484\n",
      "Epoch 19/100\n",
      "3/3 [==============================] - 0s 88ms/step - loss: 225.6143 - val_loss: 204.2948\n",
      "Epoch 20/100\n",
      "3/3 [==============================] - 0s 73ms/step - loss: 220.2034 - val_loss: 207.7487\n",
      "Epoch 21/100\n",
      "3/3 [==============================] - 0s 74ms/step - loss: 212.8636 - val_loss: 201.3179\n",
      "Epoch 22/100\n",
      "3/3 [==============================] - 0s 58ms/step - loss: 211.5170 - val_loss: 192.5115\n",
      "Epoch 23/100\n",
      "3/3 [==============================] - 0s 62ms/step - loss: 207.2719 - val_loss: 198.6550\n",
      "Epoch 24/100\n",
      "3/3 [==============================] - 0s 66ms/step - loss: 199.4890 - val_loss: 186.5579\n",
      "Epoch 25/100\n",
      "3/3 [==============================] - 0s 65ms/step - loss: 197.0035 - val_loss: 171.4365\n",
      "Epoch 26/100\n",
      "3/3 [==============================] - 0s 54ms/step - loss: 192.3241 - val_loss: 161.6784\n",
      "Epoch 27/100\n",
      "3/3 [==============================] - 0s 58ms/step - loss: 189.7793 - val_loss: 157.1936\n",
      "Epoch 28/100\n",
      "3/3 [==============================] - 0s 58ms/step - loss: 186.3216 - val_loss: 160.1080\n",
      "Epoch 29/100\n",
      "3/3 [==============================] - 0s 99ms/step - loss: 184.9821 - val_loss: 157.7417\n",
      "Epoch 30/100\n",
      "3/3 [==============================] - 0s 86ms/step - loss: 178.7676 - val_loss: 149.2118\n",
      "Epoch 31/100\n",
      "3/3 [==============================] - 0s 107ms/step - loss: 179.1051 - val_loss: 145.6429\n",
      "Epoch 32/100\n",
      "3/3 [==============================] - 0s 97ms/step - loss: 175.5333 - val_loss: 138.4930\n",
      "Epoch 33/100\n",
      "3/3 [==============================] - 0s 71ms/step - loss: 174.8960 - val_loss: 130.5459\n",
      "Epoch 34/100\n",
      "3/3 [==============================] - 0s 105ms/step - loss: 173.5379 - val_loss: 126.8157\n",
      "Epoch 35/100\n",
      "3/3 [==============================] - 0s 88ms/step - loss: 170.6668 - val_loss: 127.4756\n",
      "Epoch 36/100\n",
      "3/3 [==============================] - 0s 102ms/step - loss: 171.7296 - val_loss: 132.9477\n",
      "Epoch 37/100\n",
      "3/3 [==============================] - 0s 101ms/step - loss: 169.9896 - val_loss: 127.6876\n",
      "Epoch 38/100\n",
      "3/3 [==============================] - 0s 59ms/step - loss: 168.4557 - val_loss: 117.7137\n",
      "Epoch 39/100\n",
      "3/3 [==============================] - 0s 84ms/step - loss: 166.3177 - val_loss: 113.0677\n",
      "Epoch 40/100\n",
      "3/3 [==============================] - 0s 88ms/step - loss: 170.3691 - val_loss: 113.3588\n",
      "Epoch 41/100\n",
      "3/3 [==============================] - 0s 83ms/step - loss: 168.2298 - val_loss: 115.6936\n",
      "Epoch 42/100\n",
      "3/3 [==============================] - 0s 70ms/step - loss: 164.7754 - val_loss: 125.2611\n",
      "Epoch 43/100\n",
      "3/3 [==============================] - 0s 69ms/step - loss: 167.4744 - val_loss: 133.9654\n",
      "Epoch 44/100\n",
      "3/3 [==============================] - 0s 67ms/step - loss: 173.7318 - val_loss: 139.4404\n",
      "Epoch 45/100\n",
      "3/3 [==============================] - 0s 102ms/step - loss: 171.5965 - val_loss: 106.8433\n",
      "Epoch 46/100\n",
      "3/3 [==============================] - 0s 106ms/step - loss: 167.2576 - val_loss: 104.5379\n",
      "Epoch 47/100\n",
      "3/3 [==============================] - 0s 124ms/step - loss: 165.9699 - val_loss: 112.7243\n",
      "Epoch 48/100\n",
      "3/3 [==============================] - 0s 131ms/step - loss: 167.3978 - val_loss: 114.6866\n",
      "Epoch 49/100\n",
      "3/3 [==============================] - 0s 70ms/step - loss: 164.6199 - val_loss: 110.0454\n",
      "Epoch 50/100\n",
      "3/3 [==============================] - 0s 78ms/step - loss: 167.2543 - val_loss: 115.3879\n",
      "Epoch 51/100\n",
      "3/3 [==============================] - 0s 66ms/step - loss: 167.5106 - val_loss: 121.8011\n",
      "Epoch 52/100\n",
      "3/3 [==============================] - 0s 82ms/step - loss: 166.8845 - val_loss: 114.8712\n",
      "Epoch 53/100\n",
      "3/3 [==============================] - 0s 75ms/step - loss: 164.3746 - val_loss: 104.5848\n",
      "Epoch 54/100\n",
      "3/3 [==============================] - 0s 81ms/step - loss: 166.4828 - val_loss: 101.7951\n",
      "Epoch 55/100\n",
      "3/3 [==============================] - 0s 67ms/step - loss: 166.6788 - val_loss: 109.6570\n",
      "Epoch 56/100\n",
      "3/3 [==============================] - 0s 79ms/step - loss: 165.4967 - val_loss: 114.7584\n",
      "Epoch 57/100\n",
      "3/3 [==============================] - 0s 78ms/step - loss: 163.5164 - val_loss: 128.4155\n",
      "Epoch 58/100\n",
      "3/3 [==============================] - ETA: 0s - loss: 166.366 - 0s 98ms/step - loss: 166.3669 - val_loss: 128.2529\n",
      "Epoch 59/100\n",
      "3/3 [==============================] - 0s 75ms/step - loss: 169.3426 - val_loss: 124.0893\n",
      "Epoch 60/100\n",
      "3/3 [==============================] - 0s 71ms/step - loss: 163.5207 - val_loss: 116.3945\n",
      "Epoch 61/100\n",
      "3/3 [==============================] - 0s 92ms/step - loss: 167.1209 - val_loss: 103.7167\n",
      "Epoch 62/100\n",
      "3/3 [==============================] - 0s 79ms/step - loss: 170.1402 - val_loss: 96.3476\n",
      "Epoch 63/100\n",
      "3/3 [==============================] - 0s 91ms/step - loss: 171.0946 - val_loss: 115.5632\n",
      "Epoch 64/100\n",
      "3/3 [==============================] - 0s 91ms/step - loss: 167.2637 - val_loss: 134.6292\n",
      "Epoch 65/100\n",
      "3/3 [==============================] - 0s 112ms/step - loss: 168.4515 - val_loss: 119.5379\n",
      "Epoch 66/100\n",
      "3/3 [==============================] - 0s 86ms/step - loss: 159.9646 - val_loss: 96.4471\n",
      "Epoch 67/100\n",
      "3/3 [==============================] - 0s 108ms/step - loss: 168.0685 - val_loss: 93.4423\n",
      "Epoch 68/100\n",
      "3/3 [==============================] - 0s 80ms/step - loss: 170.8255 - val_loss: 100.2700\n",
      "Epoch 69/100\n",
      "3/3 [==============================] - 0s 94ms/step - loss: 166.6246 - val_loss: 132.2255\n",
      "Epoch 70/100\n",
      "3/3 [==============================] - 0s 80ms/step - loss: 178.1295 - val_loss: 154.6601\n",
      "Epoch 71/100\n",
      "3/3 [==============================] - 0s 76ms/step - loss: 165.9139 - val_loss: 117.8860\n",
      "Epoch 72/100\n",
      "3/3 [==============================] - 0s 77ms/step - loss: 160.2428 - val_loss: 98.8500\n",
      "Epoch 73/100\n",
      "3/3 [==============================] - 0s 108ms/step - loss: 171.0734 - val_loss: 97.6704\n",
      "Epoch 74/100\n",
      "3/3 [==============================] - 0s 108ms/step - loss: 170.0892 - val_loss: 102.2587\n",
      "Epoch 75/100\n",
      "3/3 [==============================] - 0s 77ms/step - loss: 164.2117 - val_loss: 129.1910\n",
      "Epoch 76/100\n",
      "3/3 [==============================] - 0s 98ms/step - loss: 163.9481 - val_loss: 138.4439\n",
      "Epoch 77/100\n",
      "3/3 [==============================] - 0s 104ms/step - loss: 163.7161 - val_loss: 128.5718\n"
     ]
    },
    {
     "name": "stdout",
     "output_type": "stream",
     "text": [
      "Epoch 78/100\n",
      "3/3 [==============================] - 0s 68ms/step - loss: 162.7330 - val_loss: 117.8062\n",
      "Epoch 79/100\n",
      "3/3 [==============================] - 0s 111ms/step - loss: 160.4156 - val_loss: 113.0655\n",
      "Epoch 80/100\n",
      "3/3 [==============================] - 0s 102ms/step - loss: 160.1894 - val_loss: 110.4764\n",
      "Epoch 81/100\n",
      "3/3 [==============================] - 0s 100ms/step - loss: 161.7316 - val_loss: 116.6751\n",
      "Epoch 82/100\n",
      "3/3 [==============================] - 0s 66ms/step - loss: 160.0897 - val_loss: 121.7720\n",
      "Epoch 83/100\n",
      "3/3 [==============================] - 0s 71ms/step - loss: 160.8222 - val_loss: 120.6087\n",
      "Epoch 84/100\n",
      "3/3 [==============================] - 0s 76ms/step - loss: 163.1281 - val_loss: 128.3906\n",
      "Epoch 85/100\n",
      "3/3 [==============================] - 0s 106ms/step - loss: 160.1960 - val_loss: 113.2570\n",
      "Epoch 86/100\n",
      "3/3 [==============================] - 0s 117ms/step - loss: 162.1689 - val_loss: 108.3830\n",
      "Epoch 87/100\n",
      "3/3 [==============================] - 0s 68ms/step - loss: 159.8900 - val_loss: 114.2037\n",
      "Epoch 88/100\n",
      "3/3 [==============================] - 0s 119ms/step - loss: 159.0627 - val_loss: 117.7307\n",
      "Epoch 89/100\n",
      "3/3 [==============================] - 0s 66ms/step - loss: 160.3047 - val_loss: 125.4266\n",
      "Epoch 90/100\n",
      "3/3 [==============================] - 0s 97ms/step - loss: 161.5056 - val_loss: 140.4932\n",
      "Epoch 91/100\n",
      "3/3 [==============================] - 0s 77ms/step - loss: 161.6497 - val_loss: 128.8554\n",
      "Epoch 92/100\n",
      "3/3 [==============================] - 0s 83ms/step - loss: 159.7165 - val_loss: 114.2607\n",
      "Epoch 93/100\n",
      "3/3 [==============================] - 0s 80ms/step - loss: 159.0785 - val_loss: 114.2423\n",
      "Epoch 94/100\n",
      "3/3 [==============================] - 0s 64ms/step - loss: 158.7745 - val_loss: 116.6840\n",
      "Epoch 95/100\n",
      "3/3 [==============================] - 0s 73ms/step - loss: 160.7592 - val_loss: 113.2519\n",
      "Epoch 96/100\n",
      "3/3 [==============================] - 0s 63ms/step - loss: 159.9716 - val_loss: 98.9805\n",
      "Epoch 97/100\n",
      "3/3 [==============================] - 0s 59ms/step - loss: 163.4101 - val_loss: 101.2174\n",
      "Epoch 98/100\n",
      "3/3 [==============================] - 0s 77ms/step - loss: 157.8157 - val_loss: 121.7870\n",
      "Epoch 99/100\n",
      "3/3 [==============================] - 0s 71ms/step - loss: 161.9635 - val_loss: 135.4337\n",
      "Epoch 100/100\n",
      "3/3 [==============================] - 0s 83ms/step - loss: 159.4593 - val_loss: 118.7803\n"
     ]
    }
   ],
   "source": [
    "history = model.fit(X_train, y_train, epochs=100,\n",
    "                    validation_data=(X_valid, y_valid))"
   ]
  },
  {
   "cell_type": "code",
   "execution_count": 17,
   "id": "4d550f88",
   "metadata": {},
   "outputs": [
    {
     "data": {
      "image/png": "[encoded data removed]",
      "text/plain": [
       "<Figure size 576x360 with 1 Axes>"
      ]
     },
     "metadata": {
      "needs_background": "light"
     },
     "output_type": "display_data"
    }
   ],
   "source": [
    "import pandas as pd\n",
    "\n",
    "pd.DataFrame(history.history).plot(figsize=(8, 5))\n",
    "plt.grid(True)\n",
    "# plt.gca().set_ylim(0, 1)\n",
    "plt.show()"
   ]
  },
  {
   "cell_type": "code",
   "execution_count": 18,
   "id": "37466019",
   "metadata": {},
   "outputs": [
    {
     "name": "stdout",
     "output_type": "stream",
     "text": [
      "X.shape = (None, 1)\n",
      "gauss_grid.shape = (None, 5)\n"
     ]
    },
    {
     "data": {
      "image/png": "[encoded data removed]",
      "text/plain": [
       "<Figure size 432x288 with 1 Axes>"
      ]
     },
     "metadata": {
      "needs_background": "light"
     },
     "output_type": "display_data"
    }
   ],
   "source": [
    "# X_new = np.linspace(-5, 5, 100).reshape(100, 1)\n",
    "# y_new = model.predict(X_new)\n",
    "#\n",
    "plt.plot(X_train, y_train, \"b.\")\n",
    "# plt.plot(X_new, y_new, \"r-\", linewidth=2, label=\"Predictions\")\n",
    "draw_func(model.predict, mark='r-', linewidth=2, label=\"Predictions\")\n",
    "draw_normal_func(func_dict)\n",
    "plt.xlabel(\"$x_1$\", fontsize=18)\n",
    "plt.ylabel(\"$y$\", rotation=0, fontsize=18)\n",
    "plt.legend(loc=\"upper left\", fontsize=14)\n",
    "# plt.axis([-3, 3, 0, 10])\n",
    "plt.show()"
   ]
  },
  {
   "cell_type": "markdown",
   "id": "fe65d614",
   "metadata": {},
   "source": [
    "# Grid & Regression by Classification (grid --> grid)"
   ]
  },
  {
   "cell_type": "code",
   "execution_count": 19,
   "id": "3d35615e",
   "metadata": {},
   "outputs": [],
   "source": [
    "class num2grid_np():\n",
    "    def __init__(self, units, x_min=-10, x_max=10, sigma=1.0):\n",
    "        self.units = units\n",
    "        self.x_min = x_min\n",
    "        self.x_max = x_max\n",
    "        self.sigma = sigma\n",
    "        self.sigma2 = self.sigma**2\n",
    "        self.x_grid = np.linspace(self.x_min, self.x_max, self.units, endpoint=True)\n",
    "        print(\"self.x_grid = %s\" % str(self.x_grid))\n",
    "        \n",
    "    def convert(self, X):\n",
    "        gauss_grid = np.exp( -(self.x_grid - X)**2 / (2.0*self.sigma2) )\n",
    "#         if len(gauss_grid.shape) == 1:\n",
    "#             gauss_grid = gauss_grid.reshape([1,-1])\n",
    "#         grid_sum = np.sum(gauss_grid, axis=1, keepdims=True)\n",
    "        grid_sum = np.sum(gauss_grid, axis=-1, keepdims=True)\n",
    "        gauss_grid = gauss_grid / grid_sum\n",
    "        return gauss_grid\n",
    "    \n",
    "    def inv_convert(self, grid):\n",
    "#         if len(grid.shape) == 1:\n",
    "#             grid = grid.reshape([1,-1])\n",
    "#         grid_sum = np.sum(grid, axis=1)\n",
    "        grid_sum = np.sum(grid, axis=-1)\n",
    "#         print(grid_sum)\n",
    "        exp_num = np.sum((self.x_grid * grid), axis=-1) / grid_sum # element-wise\n",
    "        return exp_num\n",
    "    \n",
    "    def get_statistic(self, grid):\n",
    "        grid_sum = np.sum(grid, axis=-1)\n",
    "        _mean = np.sum((self.x_grid * grid), axis=-1) / grid_sum # element-wise\n",
    "        _var  = np.sum( ((self.x_grid.reshape((1,-1)) - _mean.reshape((-1,1)))**2 * grid), axis=-1) / grid_sum # element-wise\n",
    "        # print(\"(_mean, _var) = (%f, %f)\" % (_mean, _var))\n",
    "        _stddev = np.sqrt(_var)\n",
    "        return _mean, _stddev"
   ]
  },
  {
   "cell_type": "code",
   "execution_count": 20,
   "id": "4903180b",
   "metadata": {},
   "outputs": [
    {
     "name": "stdout",
     "output_type": "stream",
     "text": [
      "self.x_grid = [-100.          -95.91836735  -91.83673469  -87.75510204  -83.67346939\n",
      "  -79.59183673  -75.51020408  -71.42857143  -67.34693878  -63.26530612\n",
      "  -59.18367347  -55.10204082  -51.02040816  -46.93877551  -42.85714286\n",
      "  -38.7755102   -34.69387755  -30.6122449   -26.53061224  -22.44897959\n",
      "  -18.36734694  -14.28571429  -10.20408163   -6.12244898   -2.04081633\n",
      "    2.04081633    6.12244898   10.20408163   14.28571429   18.36734694\n",
      "   22.44897959   26.53061224   30.6122449    34.69387755   38.7755102\n",
      "   42.85714286   46.93877551   51.02040816   55.10204082   59.18367347\n",
      "   63.26530612   67.34693878   71.42857143   75.51020408   79.59183673\n",
      "   83.67346939   87.75510204   91.83673469   95.91836735  100.        ]\n"
     ]
    }
   ],
   "source": [
    "# class_num = 10 # 10\n",
    "# n2g = num2grid_np(class_num, x_min=-100.0, x_max=100.0, sigma=20.0) # 20.0\n",
    "# class_num = 20\n",
    "# n2g = num2grid_np(class_num, x_min=-100.0, x_max=100.0, sigma=10.0) # 20.0\n",
    "class_num = 50\n",
    "n2g = num2grid_np(class_num, x_min=-100.0, x_max=100.0, sigma=5.0) # 5.0 "
   ]
  },
  {
   "cell_type": "code",
   "execution_count": 21,
   "id": "dce05258",
   "metadata": {},
   "outputs": [
    {
     "name": "stdout",
     "output_type": "stream",
     "text": [
      "[[5.32087956e-86 3.86113319e-79 1.43892139e-72 2.75391345e-66\n",
      "  2.70678923e-60 1.36631087e-54 3.54189384e-49 4.71533431e-44\n",
      "  3.22389115e-39 1.13198112e-34 2.04121584e-30 1.89029511e-26\n",
      "  8.99003166e-23 2.19575442e-19 2.75421121e-16 1.77419623e-13\n",
      "  5.86944439e-11 9.97202289e-09 8.70082579e-07 3.89877895e-05\n",
      "  8.97196734e-04 1.06032179e-02 6.43544562e-02 2.00590561e-01\n",
      "  3.21094817e-01 2.63965415e-01 1.11442718e-01 2.41628020e-02\n",
      "  2.69050515e-03 1.53854886e-04 4.51834812e-06 6.81457879e-08\n",
      "  5.27824177e-10 2.09957055e-12 4.28906472e-15 4.49972175e-18\n",
      "  2.42437419e-21 6.70817796e-25 9.53235992e-29 6.95644285e-33\n",
      "  2.60714354e-37 5.01803398e-42 4.96013143e-47 2.51793030e-52\n",
      "  6.56425064e-58 8.78855631e-64 6.04283668e-70 2.13380686e-76\n",
      "  3.86954844e-83 3.60376450e-90]]\n"
     ]
    }
   ],
   "source": [
    "# grid_1 = n2g.convert(-1.2)\n",
    "grid_1 = n2g.convert([[-1.2]])\n",
    "print(grid_1)"
   ]
  },
  {
   "cell_type": "code",
   "execution_count": 22,
   "id": "48203fe2",
   "metadata": {},
   "outputs": [
    {
     "data": {
      "text/plain": [
       "array([-1.2])"
      ]
     },
     "execution_count": 22,
     "metadata": {},
     "output_type": "execute_result"
    }
   ],
   "source": [
    "n2g.inv_convert(grid_1)"
   ]
  },
  {
   "cell_type": "code",
   "execution_count": 23,
   "id": "a741b6d1",
   "metadata": {},
   "outputs": [
    {
     "data": {
      "text/plain": [
       "(array([-1.2]), array([5.]))"
      ]
     },
     "execution_count": 23,
     "metadata": {},
     "output_type": "execute_result"
    }
   ],
   "source": [
    "n2g.get_statistic(grid_1)"
   ]
  },
  {
   "cell_type": "markdown",
   "id": "bdc0b9a0",
   "metadata": {},
   "source": [
    "### Convert the labels to grid (pre-processing)"
   ]
  },
  {
   "cell_type": "code",
   "execution_count": 24,
   "id": "39c7fa96",
   "metadata": {},
   "outputs": [],
   "source": [
    "y_train_grid = n2g.convert(y_train)\n",
    "y_valid_grid = n2g.convert(y_valid)"
   ]
  },
  {
   "cell_type": "code",
   "execution_count": 25,
   "id": "f577a751",
   "metadata": {},
   "outputs": [
    {
     "name": "stdout",
     "output_type": "stream",
     "text": [
      "(80, 50)\n",
      "(20, 50)\n"
     ]
    }
   ],
   "source": [
    "print(y_train_grid.shape)\n",
    "print(y_valid_grid.shape)"
   ]
  },
  {
   "cell_type": "code",
   "execution_count": 26,
   "id": "71610af1",
   "metadata": {},
   "outputs": [
    {
     "name": "stdout",
     "output_type": "stream",
     "text": [
      "X.shape = (None, 1)\n",
      "gauss_grid.shape = (None, 5)\n"
     ]
    },
    {
     "name": "stderr",
     "output_type": "stream",
     "text": [
      "/home/benson516/ml/my_env/lib/python3.6/site-packages/tensorflow/python/keras/optimizer_v2/optimizer_v2.py:375: UserWarning: The `lr` argument is deprecated, use `learning_rate` instead.\n",
      "  \"The `lr` argument is deprecated, use `learning_rate` instead.\")\n"
     ]
    }
   ],
   "source": [
    "model = keras.models.Sequential([\n",
    "#     keras.layers.Dense(30, activation=\"relu\", input_shape=X_train.shape[1:]),\n",
    "    num2grid(5,x_min=-10, x_max=10, sigma=3.0, input_shape=X_train.shape[1:]),\n",
    "    keras.layers.Dense(30, activation=\"relu\"),\n",
    "    keras.layers.Dense(class_num, activation=\"softmax\"),\n",
    "])\n",
    "\n",
    "optimizer = keras.optimizers.SGD(lr=0.2, momentum=0.9)\n",
    "model.compile(loss=\"categorical_crossentropy\", optimizer=optimizer)"
   ]
  },
  {
   "cell_type": "code",
   "execution_count": 27,
   "id": "e2244aee",
   "metadata": {
    "scrolled": true
   },
   "outputs": [
    {
     "name": "stdout",
     "output_type": "stream",
     "text": [
      "Epoch 1/100\n",
      "X.shape = (None, 1)\n",
      "gauss_grid.shape = (None, 5)\n",
      "X.shape = (None, 1)\n",
      "gauss_grid.shape = (None, 5)\n",
      "1/3 [=========>....................] - ETA: 1s - loss: 3.9493X.shape = (None, 1)\n",
      "gauss_grid.shape = (None, 5)\n",
      "3/3 [==============================] - 2s 388ms/step - loss: 3.9359 - val_loss: 3.9218\n",
      "Epoch 2/100\n",
      "3/3 [==============================] - 0s 78ms/step - loss: 3.8862 - val_loss: 3.8806\n",
      "Epoch 3/100\n",
      "3/3 [==============================] - 0s 83ms/step - loss: 3.8135 - val_loss: 3.8370\n",
      "Epoch 4/100\n",
      "3/3 [==============================] - 0s 71ms/step - loss: 3.7291 - val_loss: 3.7964\n",
      "Epoch 5/100\n",
      "3/3 [==============================] - 0s 92ms/step - loss: 3.6363 - val_loss: 3.7519\n",
      "Epoch 6/100\n",
      "3/3 [==============================] - 0s 88ms/step - loss: 3.5287 - val_loss: 3.6981\n",
      "Epoch 7/100\n",
      "3/3 [==============================] - 0s 85ms/step - loss: 3.4251 - val_loss: 3.6316\n",
      "Epoch 8/100\n",
      "3/3 [==============================] - 0s 60ms/step - loss: 3.3236 - val_loss: 3.5415\n",
      "Epoch 9/100\n",
      "3/3 [==============================] - 0s 58ms/step - loss: 3.2201 - val_loss: 3.4144\n",
      "Epoch 10/100\n",
      "3/3 [==============================] - 0s 99ms/step - loss: 3.1416 - val_loss: 3.2981\n",
      "Epoch 11/100\n",
      "3/3 [==============================] - 0s 58ms/step - loss: 3.0824 - val_loss: 3.2068\n",
      "Epoch 12/100\n",
      "3/3 [==============================] - 0s 88ms/step - loss: 3.0273 - val_loss: 3.1233\n",
      "Epoch 13/100\n",
      "3/3 [==============================] - ETA: 0s - loss: 3.050 - 0s 94ms/step - loss: 2.9937 - val_loss: 3.0648\n",
      "Epoch 14/100\n",
      "3/3 [==============================] - 0s 76ms/step - loss: 2.9661 - val_loss: 3.0301\n",
      "Epoch 15/100\n",
      "3/3 [==============================] - 0s 112ms/step - loss: 2.9272 - val_loss: 3.0313\n",
      "Epoch 16/100\n",
      "3/3 [==============================] - 0s 64ms/step - loss: 2.9185 - val_loss: 3.0506\n",
      "Epoch 17/100\n",
      "3/3 [==============================] - 0s 59ms/step - loss: 2.8868 - val_loss: 3.0879\n",
      "Epoch 18/100\n",
      "3/3 [==============================] - 0s 55ms/step - loss: 2.8540 - val_loss: 3.0535\n",
      "Epoch 19/100\n",
      "3/3 [==============================] - 0s 57ms/step - loss: 2.8287 - val_loss: 3.0054\n",
      "Epoch 20/100\n",
      "3/3 [==============================] - 0s 62ms/step - loss: 2.8051 - val_loss: 2.9692\n",
      "Epoch 21/100\n",
      "3/3 [==============================] - 0s 76ms/step - loss: 2.7780 - val_loss: 2.9896\n",
      "Epoch 22/100\n",
      "3/3 [==============================] - 0s 64ms/step - loss: 2.7559 - val_loss: 3.0032\n",
      "Epoch 23/100\n",
      "3/3 [==============================] - 0s 73ms/step - loss: 2.7304 - val_loss: 2.9756\n",
      "Epoch 24/100\n",
      "3/3 [==============================] - 0s 57ms/step - loss: 2.7106 - val_loss: 2.9144\n",
      "Epoch 25/100\n",
      "3/3 [==============================] - 0s 63ms/step - loss: 2.6996 - val_loss: 2.8635\n",
      "Epoch 26/100\n",
      "3/3 [==============================] - 0s 72ms/step - loss: 2.6798 - val_loss: 2.8616\n",
      "Epoch 27/100\n",
      "3/3 [==============================] - 0s 114ms/step - loss: 2.6555 - val_loss: 2.9176\n",
      "Epoch 28/100\n",
      "3/3 [==============================] - 0s 85ms/step - loss: 2.6482 - val_loss: 2.8983\n",
      "Epoch 29/100\n",
      "3/3 [==============================] - 0s 114ms/step - loss: 2.6271 - val_loss: 2.8574\n",
      "Epoch 30/100\n",
      "3/3 [==============================] - 0s 102ms/step - loss: 2.6247 - val_loss: 2.8153\n",
      "Epoch 31/100\n",
      "3/3 [==============================] - 0s 120ms/step - loss: 2.6103 - val_loss: 2.7610\n",
      "Epoch 32/100\n",
      "3/3 [==============================] - 0s 116ms/step - loss: 2.5942 - val_loss: 2.7988\n",
      "Epoch 33/100\n",
      "3/3 [==============================] - 0s 75ms/step - loss: 2.5969 - val_loss: 2.8782\n",
      "Epoch 34/100\n",
      "3/3 [==============================] - 0s 72ms/step - loss: 2.5862 - val_loss: 2.8323\n",
      "Epoch 35/100\n",
      "3/3 [==============================] - 0s 67ms/step - loss: 2.5576 - val_loss: 2.8187\n",
      "Epoch 36/100\n",
      "3/3 [==============================] - 0s 87ms/step - loss: 2.5476 - val_loss: 2.7677\n",
      "Epoch 37/100\n",
      "3/3 [==============================] - 0s 98ms/step - loss: 2.5443 - val_loss: 2.7599\n",
      "Epoch 38/100\n",
      "3/3 [==============================] - 0s 58ms/step - loss: 2.5348 - val_loss: 2.7925\n",
      "Epoch 39/100\n",
      "3/3 [==============================] - 0s 68ms/step - loss: 2.5260 - val_loss: 2.7369\n",
      "Epoch 40/100\n",
      "3/3 [==============================] - 0s 74ms/step - loss: 2.5254 - val_loss: 2.6964\n",
      "Epoch 41/100\n",
      "3/3 [==============================] - 0s 89ms/step - loss: 2.4995 - val_loss: 2.7343\n",
      "Epoch 42/100\n",
      "3/3 [==============================] - 0s 109ms/step - loss: 2.5085 - val_loss: 2.6889\n",
      "Epoch 43/100\n",
      "3/3 [==============================] - 0s 110ms/step - loss: 2.4892 - val_loss: 2.6527\n",
      "Epoch 44/100\n",
      "3/3 [==============================] - 0s 83ms/step - loss: 2.5009 - val_loss: 2.6532\n",
      "Epoch 45/100\n",
      "3/3 [==============================] - 0s 72ms/step - loss: 2.4832 - val_loss: 2.6578\n",
      "Epoch 46/100\n",
      "3/3 [==============================] - 0s 104ms/step - loss: 2.4828 - val_loss: 2.6422\n",
      "Epoch 47/100\n",
      "3/3 [==============================] - 0s 108ms/step - loss: 2.4654 - val_loss: 2.7087\n",
      "Epoch 48/100\n",
      "3/3 [==============================] - 0s 70ms/step - loss: 2.4687 - val_loss: 2.7352\n",
      "Epoch 49/100\n",
      "3/3 [==============================] - 0s 66ms/step - loss: 2.4625 - val_loss: 2.6605\n",
      "Epoch 50/100\n",
      "3/3 [==============================] - 0s 66ms/step - loss: 2.4426 - val_loss: 2.6894\n",
      "Epoch 51/100\n",
      "3/3 [==============================] - 0s 53ms/step - loss: 2.4567 - val_loss: 2.6789\n",
      "Epoch 52/100\n",
      "3/3 [==============================] - 0s 54ms/step - loss: 2.4528 - val_loss: 2.7274\n",
      "Epoch 53/100\n",
      "3/3 [==============================] - 0s 60ms/step - loss: 2.4506 - val_loss: 2.6654\n",
      "Epoch 54/100\n",
      "3/3 [==============================] - 0s 59ms/step - loss: 2.4469 - val_loss: 2.6174\n",
      "Epoch 55/100\n",
      "3/3 [==============================] - 0s 60ms/step - loss: 2.4248 - val_loss: 2.6808\n",
      "Epoch 56/100\n",
      "3/3 [==============================] - 0s 67ms/step - loss: 2.4334 - val_loss: 2.6445\n",
      "Epoch 57/100\n",
      "3/3 [==============================] - 0s 75ms/step - loss: 2.4123 - val_loss: 2.6242\n",
      "Epoch 58/100\n",
      "3/3 [==============================] - 0s 80ms/step - loss: 2.4157 - val_loss: 2.6320\n",
      "Epoch 59/100\n",
      "3/3 [==============================] - 0s 90ms/step - loss: 2.4154 - val_loss: 2.6944\n",
      "Epoch 60/100\n",
      "3/3 [==============================] - 0s 76ms/step - loss: 2.4065 - val_loss: 2.7281\n",
      "Epoch 61/100\n",
      "3/3 [==============================] - 0s 105ms/step - loss: 2.4076 - val_loss: 2.6467\n",
      "Epoch 62/100\n",
      "3/3 [==============================] - 0s 97ms/step - loss: 2.4049 - val_loss: 2.6678\n",
      "Epoch 63/100\n",
      "3/3 [==============================] - 0s 89ms/step - loss: 2.3958 - val_loss: 2.6056\n",
      "Epoch 64/100\n",
      "3/3 [==============================] - 0s 57ms/step - loss: 2.3972 - val_loss: 2.5842\n",
      "Epoch 65/100\n",
      "3/3 [==============================] - 0s 82ms/step - loss: 2.4116 - val_loss: 2.6783\n",
      "Epoch 66/100\n",
      "3/3 [==============================] - 0s 112ms/step - loss: 2.4219 - val_loss: 2.6158\n",
      "Epoch 67/100\n",
      "3/3 [==============================] - 0s 63ms/step - loss: 2.4068 - val_loss: 2.5807\n",
      "Epoch 68/100\n",
      "3/3 [==============================] - 0s 72ms/step - loss: 2.3989 - val_loss: 2.5736\n",
      "Epoch 69/100\n",
      "3/3 [==============================] - 0s 85ms/step - loss: 2.4144 - val_loss: 2.6612\n",
      "Epoch 70/100\n",
      "3/3 [==============================] - 0s 74ms/step - loss: 2.4021 - val_loss: 2.5465\n",
      "Epoch 71/100\n",
      "3/3 [==============================] - 0s 91ms/step - loss: 2.3822 - val_loss: 2.5346\n",
      "Epoch 72/100\n",
      "3/3 [==============================] - 0s 98ms/step - loss: 2.3785 - val_loss: 2.6333\n",
      "Epoch 73/100\n",
      "3/3 [==============================] - 0s 67ms/step - loss: 2.3800 - val_loss: 2.6644\n",
      "Epoch 74/100\n",
      "3/3 [==============================] - 0s 89ms/step - loss: 2.3995 - val_loss: 2.5672\n",
      "Epoch 75/100\n",
      "3/3 [==============================] - 0s 76ms/step - loss: 2.3791 - val_loss: 2.5900\n",
      "Epoch 76/100\n",
      "3/3 [==============================] - 0s 85ms/step - loss: 2.3806 - val_loss: 2.6919\n",
      "Epoch 77/100\n",
      "3/3 [==============================] - 0s 80ms/step - loss: 2.3849 - val_loss: 2.5742\n",
      "Epoch 78/100\n",
      "3/3 [==============================] - 0s 71ms/step - loss: 2.3765 - val_loss: 2.5224\n",
      "Epoch 79/100\n",
      "3/3 [==============================] - 0s 70ms/step - loss: 2.3677 - val_loss: 2.5675\n",
      "Epoch 80/100\n",
      "3/3 [==============================] - 0s 64ms/step - loss: 2.3502 - val_loss: 2.6102\n",
      "Epoch 81/100\n"
     ]
    },
    {
     "name": "stdout",
     "output_type": "stream",
     "text": [
      "3/3 [==============================] - 0s 87ms/step - loss: 2.3490 - val_loss: 2.5642\n",
      "Epoch 82/100\n",
      "3/3 [==============================] - 0s 77ms/step - loss: 2.3652 - val_loss: 2.5712\n",
      "Epoch 83/100\n",
      "3/3 [==============================] - 0s 69ms/step - loss: 2.3540 - val_loss: 2.5810\n",
      "Epoch 84/100\n",
      "3/3 [==============================] - 0s 78ms/step - loss: 2.3491 - val_loss: 2.5242\n",
      "Epoch 85/100\n",
      "3/3 [==============================] - 0s 72ms/step - loss: 2.3541 - val_loss: 2.4453\n",
      "Epoch 86/100\n",
      "3/3 [==============================] - 0s 75ms/step - loss: 2.3552 - val_loss: 2.5234\n",
      "Epoch 87/100\n",
      "3/3 [==============================] - 0s 106ms/step - loss: 2.3420 - val_loss: 2.5705\n",
      "Epoch 88/100\n",
      "3/3 [==============================] - 0s 95ms/step - loss: 2.3465 - val_loss: 2.5501\n",
      "Epoch 89/100\n",
      "3/3 [==============================] - 0s 110ms/step - loss: 2.3318 - val_loss: 2.6270\n",
      "Epoch 90/100\n",
      "3/3 [==============================] - 0s 93ms/step - loss: 2.3446 - val_loss: 2.6340\n",
      "Epoch 91/100\n",
      "3/3 [==============================] - 0s 98ms/step - loss: 2.3423 - val_loss: 2.5262\n",
      "Epoch 92/100\n",
      "3/3 [==============================] - 0s 107ms/step - loss: 2.3381 - val_loss: 2.4977\n",
      "Epoch 93/100\n",
      "3/3 [==============================] - 0s 99ms/step - loss: 2.3385 - val_loss: 2.5054\n",
      "Epoch 94/100\n",
      "3/3 [==============================] - 0s 84ms/step - loss: 2.3308 - val_loss: 2.5084\n",
      "Epoch 95/100\n",
      "3/3 [==============================] - 0s 121ms/step - loss: 2.3278 - val_loss: 2.5090\n",
      "Epoch 96/100\n",
      "3/3 [==============================] - 0s 74ms/step - loss: 2.3267 - val_loss: 2.5770\n",
      "Epoch 97/100\n",
      "3/3 [==============================] - 0s 91ms/step - loss: 2.3255 - val_loss: 2.5799\n",
      "Epoch 98/100\n",
      "3/3 [==============================] - 0s 108ms/step - loss: 2.3250 - val_loss: 2.5476\n",
      "Epoch 99/100\n",
      "3/3 [==============================] - 0s 68ms/step - loss: 2.3173 - val_loss: 2.5543\n",
      "Epoch 100/100\n",
      "3/3 [==============================] - 0s 101ms/step - loss: 2.3301 - val_loss: 2.5551\n"
     ]
    }
   ],
   "source": [
    "history = model.fit(X_train, y_train_grid, epochs=100,\n",
    "                    validation_data=(X_valid, y_valid_grid))"
   ]
  },
  {
   "cell_type": "code",
   "execution_count": 28,
   "id": "390834c9",
   "metadata": {},
   "outputs": [
    {
     "data": {
      "image/png": "[encoded data removed]",
      "text/plain": [
       "<Figure size 576x360 with 1 Axes>"
      ]
     },
     "metadata": {
      "needs_background": "light"
     },
     "output_type": "display_data"
    }
   ],
   "source": [
    "import pandas as pd\n",
    "\n",
    "pd.DataFrame(history.history).plot(figsize=(8, 5))\n",
    "plt.grid(True)\n",
    "# plt.gca().set_ylim(0, 1)\n",
    "plt.show()"
   ]
  },
  {
   "cell_type": "code",
   "execution_count": 29,
   "id": "6fba3b6a",
   "metadata": {},
   "outputs": [
    {
     "name": "stdout",
     "output_type": "stream",
     "text": [
      "X.shape = (None, 1)\n",
      "gauss_grid.shape = (None, 5)\n"
     ]
    },
    {
     "data": {
      "image/png": "[encoded data removed]",
      "text/plain": [
       "<Figure size 432x288 with 1 Axes>"
      ]
     },
     "metadata": {
      "needs_background": "light"
     },
     "output_type": "display_data"
    }
   ],
   "source": [
    "# X_new = np.linspace(-5, 5, 100).reshape(100, 1)\n",
    "# y_new_proba = model.predict(X_new)\n",
    "# y_new = n2g.inv_convert(y_new_proba)\n",
    "#\n",
    "plt.plot(X_train, y_train, \"b.\")\n",
    "# plt.plot(X_new, y_new, \"r-\", linewidth=2, label=\"Predictions\")\n",
    "draw_func((lambda X: n2g.inv_convert(model.predict(X)) ), mark='r-', linewidth=2, label=\"Predictions\")\n",
    "draw_normal_func(func_dict)\n",
    "plt.xlabel(\"$x_1$\", fontsize=18)\n",
    "plt.ylabel(\"$y$\", rotation=0, fontsize=18)\n",
    "plt.legend(loc=\"upper left\", fontsize=14)\n",
    "# plt.axis([-3, 3, 0, 10])\n",
    "plt.show()"
   ]
  },
  {
   "cell_type": "code",
   "execution_count": 30,
   "id": "edcf26db",
   "metadata": {},
   "outputs": [
    {
     "data": {
      "text/plain": [
       "<matplotlib.collections.QuadMesh at 0x7f7bd4d6a2e8>"
      ]
     },
     "execution_count": 30,
     "metadata": {},
     "output_type": "execute_result"
    },
    {
     "data": {
      "image/png": "[encoded data removed]",
      "text/plain": [
       "<Figure size 432x288 with 1 Axes>"
      ]
     },
     "metadata": {
      "needs_background": "light"
     },
     "output_type": "display_data"
    }
   ],
   "source": [
    "X_new = np.linspace(-5, 5, 100).reshape(100, 1)\n",
    "y_new_proba = model.predict(X_new)\n",
    "# y_new = n2g.inv_convert(y_new_proba)\n",
    "#\n",
    "xv, yv = np.meshgrid(X_new, np.linspace(n2g.x_min, n2g.x_max, n2g.units))\n",
    "# print(xv)\n",
    "# print(yv)\n",
    "plt.pcolormesh(xv, yv, y_new_proba.T, shading=\"nearest\")"
   ]
  },
  {
   "cell_type": "markdown",
   "id": "4064d3b5",
   "metadata": {},
   "source": [
    "### Draw the 1-sigma boundary line"
   ]
  },
  {
   "cell_type": "code",
   "execution_count": 31,
   "id": "247e8712",
   "metadata": {},
   "outputs": [
    {
     "data": {
      "image/png": "[encoded data removed]",
      "text/plain": [
       "<Figure size 432x288 with 1 Axes>"
      ]
     },
     "metadata": {
      "needs_background": "light"
     },
     "output_type": "display_data"
    }
   ],
   "source": [
    "def n_sigma_boundary_line(X, n):\n",
    "    _mean, _sigma = n2g.get_statistic(model.predict(X))\n",
    "    return( _mean + n*_sigma)\n",
    "\n",
    "plt.plot(X_train, y_train, \"b.\")\n",
    "#\n",
    "draw_func((lambda X: n2g.inv_convert(model.predict(X)) ), mark='r-', linewidth=2, label=\"Predictions\")\n",
    "draw_func((lambda X: n_sigma_boundary_line(X, +1.0) ), mark='k--', linewidth=1, label=\"$\\mu+\\sigma$\")\n",
    "draw_func((lambda X: n_sigma_boundary_line(X, -1.0) ), mark='k--', linewidth=1, label=\"$\\mu-\\sigma$\")\n",
    "#\n",
    "draw_normal_func(func_dict)\n",
    "plt.xlabel(\"$x_1$\", fontsize=18)\n",
    "plt.ylabel(\"$y$\", rotation=0, fontsize=18)\n",
    "plt.legend(loc=\"upper left\", fontsize=14)\n",
    "# plt.axis([-3, 3, 0, 10])\n",
    "plt.show()"
   ]
  },
  {
   "cell_type": "code",
   "execution_count": null,
   "id": "e6266336",
   "metadata": {},
   "outputs": [],
   "source": []
  },
  {
   "cell_type": "markdown",
   "id": "99a85ab5",
   "metadata": {},
   "source": [
    "# Grid & Regression by Classification + Offset Estimation (grid --> grid,num)"
   ]
  },
  {
   "cell_type": "code",
   "execution_count": 32,
   "id": "26440167",
   "metadata": {},
   "outputs": [],
   "source": [
    "class num2gridOffset_np():\n",
    "    def __init__(self, units, x_min=-10, x_max=10):\n",
    "        self.units = units\n",
    "        self.x_min = x_min\n",
    "        self.x_max = x_max\n",
    "        self.x_grid = np.linspace(self.x_min, self.x_max, self.units, endpoint=True)\n",
    "        # bins\n",
    "        x_space = np.average(self.x_grid[1:] - self.x_grid[:-1])\n",
    "        print(\"x_space = %f\" % x_space)\n",
    "        x_0 = self.x_grid[0] - 0.5 * x_space\n",
    "        self.x_bins = [x_0 + _i*x_space for _i in range(len(self.x_grid)+1)]\n",
    "        print(\"self.x_grid = %s\" % str(self.x_grid))\n",
    "#         print(\"self.x_bins = %s\" % str(self.x_bins))\n",
    "        \n",
    "    def convert(self, X):\n",
    "        '''\n",
    "        Convert a batch of number to one-hot class and numerical offset to each grid's center\n",
    "        (m, 1) --> (m, n_units, 2)\n",
    "        '''\n",
    "        X = np.array(X)\n",
    "        if len(X.shape) <= 1:\n",
    "            X = X.reshape((-1,1))\n",
    "        idxs_bin = np.digitize(X, self.x_bins, right=False) \n",
    "        idxs_grid = (idxs_bin - 1) + 1*(idxs_bin<= 0)\n",
    "        print(idxs_grid.shape)\n",
    "        #\n",
    "        batch_size = X.shape[0]\n",
    "        grid = np.zeros((batch_size, self.units, 2))\n",
    "        # Fill in the values\n",
    "        grid[np.arange(batch_size), idxs_grid.reshape((-1,)), 0] = 1.0\n",
    "        grid[np.arange(batch_size), :, 1] = X - self.x_grid.reshape((1,-1)) # Offset\n",
    "        return grid\n",
    "    \n",
    "    def inv_convert(self, grid):\n",
    "        idxs_grid = np.argmax(grid[...,0], axis=1)\n",
    "        print(idxs_grid.shape)\n",
    "        #\n",
    "        batch_size = grid.shape[0]\n",
    "        offset_est = grid[np.arange(batch_size),idxs_grid,1]\n",
    "        print(offset_est.shape)\n",
    "        num_est = self.x_grid[idxs_grid].reshape((1,-1)) + offset_est\n",
    "        return num_est.reshape((-1,))"
   ]
  },
  {
   "cell_type": "code",
   "execution_count": 33,
   "id": "8b15e9ff",
   "metadata": {},
   "outputs": [
    {
     "name": "stdout",
     "output_type": "stream",
     "text": [
      "x_space = 22.222222\n",
      "self.x_grid = [-100.          -77.77777778  -55.55555556  -33.33333333  -11.11111111\n",
      "   11.11111111   33.33333333   55.55555556   77.77777778  100.        ]\n"
     ]
    }
   ],
   "source": [
    "class_num = 10 # 10\n",
    "n2go = num2gridOffset_np(class_num, x_min=-100.0, x_max=100.0) "
   ]
  },
  {
   "cell_type": "code",
   "execution_count": 34,
   "id": "8f6e7955",
   "metadata": {},
   "outputs": [
    {
     "name": "stdout",
     "output_type": "stream",
     "text": [
      "(2, 1)\n",
      "[[[   0.           98.8       ]\n",
      "  [   0.           76.57777778]\n",
      "  [   0.           54.35555556]\n",
      "  [   0.           32.13333333]\n",
      "  [   1.            9.91111111]\n",
      "  [   0.          -12.31111111]\n",
      "  [   0.          -34.53333333]\n",
      "  [   0.          -56.75555556]\n",
      "  [   0.          -78.97777778]\n",
      "  [   0.         -101.2       ]]\n",
      "\n",
      " [[   0.          150.5       ]\n",
      "  [   0.          128.27777778]\n",
      "  [   0.          106.05555556]\n",
      "  [   0.           83.83333333]\n",
      "  [   0.           61.61111111]\n",
      "  [   0.           39.38888889]\n",
      "  [   0.           17.16666667]\n",
      "  [   1.           -5.05555556]\n",
      "  [   0.          -27.27777778]\n",
      "  [   0.          -49.5       ]]]\n"
     ]
    }
   ],
   "source": [
    "# grid_1 = n2g.convert(-1.2)\n",
    "grid_1 = n2go.convert([[-1.2], [50.5]])\n",
    "print(grid_1)"
   ]
  },
  {
   "cell_type": "code",
   "execution_count": 35,
   "id": "48840dc5",
   "metadata": {},
   "outputs": [
    {
     "name": "stdout",
     "output_type": "stream",
     "text": [
      "(2,)\n",
      "(2,)\n"
     ]
    },
    {
     "data": {
      "text/plain": [
       "array([-1.2, 50.5])"
      ]
     },
     "execution_count": 35,
     "metadata": {},
     "output_type": "execute_result"
    }
   ],
   "source": [
    "n2go.inv_convert(grid_1)"
   ]
  },
  {
   "cell_type": "markdown",
   "id": "11683cea",
   "metadata": {},
   "source": [
    "### Convert the labels to grid (pre-processing)"
   ]
  },
  {
   "cell_type": "code",
   "execution_count": 36,
   "id": "472997cf",
   "metadata": {},
   "outputs": [
    {
     "name": "stdout",
     "output_type": "stream",
     "text": [
      "(80, 1)\n",
      "(20, 1)\n"
     ]
    }
   ],
   "source": [
    "y_train_grid_offset = n2go.convert(y_train)\n",
    "y_valid_grid_offset = n2go.convert(y_valid)"
   ]
  },
  {
   "cell_type": "code",
   "execution_count": 37,
   "id": "71f08d76",
   "metadata": {},
   "outputs": [
    {
     "name": "stdout",
     "output_type": "stream",
     "text": [
      "(80, 10, 2)\n",
      "(20, 10, 2)\n"
     ]
    }
   ],
   "source": [
    "print(y_train_grid_offset.shape)\n",
    "print(y_valid_grid_offset.shape)"
   ]
  },
  {
   "cell_type": "code",
   "execution_count": 38,
   "id": "84b5b833",
   "metadata": {},
   "outputs": [
    {
     "name": "stdout",
     "output_type": "stream",
     "text": [
      "X.shape = (None, 1)\n",
      "gauss_grid.shape = (None, 5)\n"
     ]
    }
   ],
   "source": [
    "inputs = keras.layers.Input(shape=X_train.shape[1:])\n",
    "#\n",
    "z = num2grid(5,x_min=-10, x_max=10, sigma=3.0)(inputs)\n",
    "z = keras.layers.Dense(30, activation=\"selu\")(z)\n",
    "# Outputs\n",
    "z_proba = keras.layers.Dense(30, activation=\"relu\")(z)\n",
    "z_proba  = keras.layers.Dense(class_num, activation=\"softmax\")(z_proba)\n",
    "z_offset = keras.layers.Dense(class_num, activation=\"relu\")(z)\n",
    "z_offset = keras.layers.Dense(class_num)(z_offset)\n",
    "# Concatenate\n",
    "z_proba  = keras.layers.Reshape([class_num,1])(z_proba)\n",
    "z_offset = keras.layers.Reshape([class_num,1])(z_offset)\n",
    "out_cat = keras.layers.Concatenate(axis=-1)([z_proba, z_offset])\n",
    "#\n",
    "# Models for trainig and real usage\n",
    "model = keras.Model(inputs=[inputs], outputs=[out_cat])"
   ]
  },
  {
   "cell_type": "code",
   "execution_count": 39,
   "id": "e6482574",
   "metadata": {},
   "outputs": [],
   "source": [
    "# Customized loss function\n",
    "\n",
    "cce = keras.losses.CategoricalCrossentropy(reduction=keras.losses.Reduction.NONE)\n",
    "# cce(y_true, y_pred).numpy()\n",
    "\n",
    "def centerLoss_fn(y_true, y_pred):\n",
    "    #\n",
    "    y_true_proba = y_true[...,0]\n",
    "    y_true_value = y_true[...,1]\n",
    "    #\n",
    "    y_pred_proba = y_pred[...,0]\n",
    "    y_pred_value = y_pred[...,1]\n",
    "    \n",
    "    #\n",
    "    cce_loss = cce(y_true_proba, y_pred_proba) / class_num\n",
    "    #\n",
    "    y_true_value_est = tf.reduce_sum((y_true_proba * y_true_value), axis=-1)\n",
    "    y_pred_value_est = tf.reduce_sum((y_true_proba * y_pred_value), axis=-1)\n",
    "#     y_pred_value_est = tf.reduce_sum((y_pred_proba * y_pred_value), axis=-1)\n",
    "    value_loss = tf.abs(y_pred_value_est - y_true_value_est)\n",
    "    \n",
    "    # Total loss\n",
    "#     return (0.5*cce_loss + 0.5*value_loss )\n",
    "    return (0.2*cce_loss + 0.8*value_loss )\n",
    "#     return (cce_loss)\n",
    "#     return (value_loss )"
   ]
  },
  {
   "cell_type": "code",
   "execution_count": 40,
   "id": "60575755",
   "metadata": {},
   "outputs": [
    {
     "name": "stderr",
     "output_type": "stream",
     "text": [
      "/home/benson516/ml/my_env/lib/python3.6/site-packages/tensorflow/python/keras/optimizer_v2/optimizer_v2.py:375: UserWarning: The `lr` argument is deprecated, use `learning_rate` instead.\n",
      "  \"The `lr` argument is deprecated, use `learning_rate` instead.\")\n"
     ]
    }
   ],
   "source": [
    "optimizer = keras.optimizers.SGD(lr=0.1, momentum=0.9)\n",
    "model.compile(loss=centerLoss_fn, optimizer=optimizer)"
   ]
  },
  {
   "cell_type": "code",
   "execution_count": 41,
   "id": "09bc47a5",
   "metadata": {
    "scrolled": true
   },
   "outputs": [
    {
     "name": "stdout",
     "output_type": "stream",
     "text": [
      "Epoch 1/100\n",
      "X.shape = (None, 1)\n",
      "gauss_grid.shape = (None, 5)\n",
      "X.shape = (None, 1)\n",
      "gauss_grid.shape = (None, 5)\n",
      "1/3 [=========>....................] - ETA: 5s - loss: 4.3763X.shape = (None, 1)\n",
      "gauss_grid.shape = (None, 5)\n",
      "3/3 [==============================] - 3s 291ms/step - loss: 4.3189 - val_loss: 5.6214\n",
      "Epoch 2/100\n",
      "3/3 [==============================] - 0s 99ms/step - loss: 4.2699 - val_loss: 5.6454\n",
      "Epoch 3/100\n",
      "3/3 [==============================] - 0s 89ms/step - loss: 4.2197 - val_loss: 5.7265\n",
      "Epoch 4/100\n",
      "3/3 [==============================] - 0s 100ms/step - loss: 4.1387 - val_loss: 5.7578\n",
      "Epoch 5/100\n",
      "3/3 [==============================] - 0s 61ms/step - loss: 4.0731 - val_loss: 5.6587\n",
      "Epoch 6/100\n",
      "3/3 [==============================] - 0s 56ms/step - loss: 4.0083 - val_loss: 5.3952\n",
      "Epoch 7/100\n",
      "3/3 [==============================] - 0s 73ms/step - loss: 3.9598 - val_loss: 4.9404\n",
      "Epoch 8/100\n",
      "3/3 [==============================] - 0s 120ms/step - loss: 3.8951 - val_loss: 4.6675\n",
      "Epoch 9/100\n",
      "3/3 [==============================] - 0s 80ms/step - loss: 3.9207 - val_loss: 4.6670\n",
      "Epoch 10/100\n",
      "3/3 [==============================] - 0s 107ms/step - loss: 3.8662 - val_loss: 4.8602\n",
      "Epoch 11/100\n",
      "3/3 [==============================] - 0s 78ms/step - loss: 3.7859 - val_loss: 5.0037\n",
      "Epoch 12/100\n",
      "3/3 [==============================] - 0s 120ms/step - loss: 3.8012 - val_loss: 5.0325\n",
      "Epoch 13/100\n",
      "3/3 [==============================] - 0s 121ms/step - loss: 3.7896 - val_loss: 4.8454\n",
      "Epoch 14/100\n",
      "3/3 [==============================] - 0s 98ms/step - loss: 3.7158 - val_loss: 4.9336\n",
      "Epoch 15/100\n",
      "3/3 [==============================] - 0s 55ms/step - loss: 3.7558 - val_loss: 4.8666\n",
      "Epoch 16/100\n",
      "3/3 [==============================] - 0s 136ms/step - loss: 3.7736 - val_loss: 4.9720\n",
      "Epoch 17/100\n",
      "3/3 [==============================] - 0s 113ms/step - loss: 3.8177 - val_loss: 4.6332\n",
      "Epoch 18/100\n",
      "3/3 [==============================] - 0s 121ms/step - loss: 3.7370 - val_loss: 4.6189\n",
      "Epoch 19/100\n",
      "3/3 [==============================] - 0s 112ms/step - loss: 3.7279 - val_loss: 5.0312\n",
      "Epoch 20/100\n",
      "3/3 [==============================] - 0s 92ms/step - loss: 3.7313 - val_loss: 4.7162\n",
      "Epoch 21/100\n",
      "3/3 [==============================] - 0s 102ms/step - loss: 3.6925 - val_loss: 4.6623\n",
      "Epoch 22/100\n",
      "3/3 [==============================] - 0s 108ms/step - loss: 3.6007 - val_loss: 4.9930\n",
      "Epoch 23/100\n",
      "3/3 [==============================] - 0s 127ms/step - loss: 3.6540 - val_loss: 4.8972\n",
      "Epoch 24/100\n",
      "3/3 [==============================] - 0s 90ms/step - loss: 3.6141 - val_loss: 4.9174\n",
      "Epoch 25/100\n",
      "3/3 [==============================] - 0s 91ms/step - loss: 3.7565 - val_loss: 4.6391\n",
      "Epoch 26/100\n",
      "3/3 [==============================] - 0s 108ms/step - loss: 3.5888 - val_loss: 4.8179\n",
      "Epoch 27/100\n",
      "3/3 [==============================] - 0s 111ms/step - loss: 3.5854 - val_loss: 4.7911\n",
      "Epoch 28/100\n",
      "3/3 [==============================] - 0s 119ms/step - loss: 3.5758 - val_loss: 4.5478\n",
      "Epoch 29/100\n",
      "3/3 [==============================] - 0s 81ms/step - loss: 3.5480 - val_loss: 4.3963\n",
      "Epoch 30/100\n",
      "3/3 [==============================] - 0s 98ms/step - loss: 3.6396 - val_loss: 4.5497\n",
      "Epoch 31/100\n",
      "3/3 [==============================] - 0s 128ms/step - loss: 3.5762 - val_loss: 4.7732\n",
      "Epoch 32/100\n",
      "3/3 [==============================] - 0s 125ms/step - loss: 3.5313 - val_loss: 4.8531\n",
      "Epoch 33/100\n",
      "3/3 [==============================] - 0s 103ms/step - loss: 3.5583 - val_loss: 4.7641\n",
      "Epoch 34/100\n",
      "3/3 [==============================] - 0s 104ms/step - loss: 3.5178 - val_loss: 4.6745\n",
      "Epoch 35/100\n",
      "3/3 [==============================] - 0s 92ms/step - loss: 3.5450 - val_loss: 4.6990\n",
      "Epoch 36/100\n",
      "3/3 [==============================] - 0s 111ms/step - loss: 3.5669 - val_loss: 4.5377\n",
      "Epoch 37/100\n",
      "3/3 [==============================] - 0s 119ms/step - loss: 3.5768 - val_loss: 4.5855\n",
      "Epoch 38/100\n",
      "3/3 [==============================] - 0s 75ms/step - loss: 3.5435 - val_loss: 4.7701\n",
      "Epoch 39/100\n",
      "3/3 [==============================] - 0s 85ms/step - loss: 3.5424 - val_loss: 4.6521\n",
      "Epoch 40/100\n",
      "3/3 [==============================] - 0s 80ms/step - loss: 3.5451 - val_loss: 4.5608\n",
      "Epoch 41/100\n",
      "3/3 [==============================] - 0s 69ms/step - loss: 3.5275 - val_loss: 4.7830\n",
      "Epoch 42/100\n",
      "3/3 [==============================] - 0s 111ms/step - loss: 3.4995 - val_loss: 4.6898\n",
      "Epoch 43/100\n",
      "3/3 [==============================] - 0s 100ms/step - loss: 3.5245 - val_loss: 4.4941\n",
      "Epoch 44/100\n",
      "3/3 [==============================] - 0s 68ms/step - loss: 3.5497 - val_loss: 4.5010\n",
      "Epoch 45/100\n",
      "3/3 [==============================] - 0s 106ms/step - loss: 3.5161 - val_loss: 4.4322\n",
      "Epoch 46/100\n",
      "3/3 [==============================] - 0s 57ms/step - loss: 3.5350 - val_loss: 4.5148\n",
      "Epoch 47/100\n",
      "3/3 [==============================] - 0s 83ms/step - loss: 3.4298 - val_loss: 4.7431\n",
      "Epoch 48/100\n",
      "3/3 [==============================] - 0s 89ms/step - loss: 3.5415 - val_loss: 4.7800\n",
      "Epoch 49/100\n",
      "3/3 [==============================] - 0s 72ms/step - loss: 3.5089 - val_loss: 4.4256\n",
      "Epoch 50/100\n",
      "3/3 [==============================] - 0s 55ms/step - loss: 3.4223 - val_loss: 4.0336\n",
      "Epoch 51/100\n",
      "3/3 [==============================] - 0s 72ms/step - loss: 3.6301 - val_loss: 4.0293\n",
      "Epoch 52/100\n",
      "3/3 [==============================] - 0s 81ms/step - loss: 3.5565 - val_loss: 4.8101\n",
      "Epoch 53/100\n",
      "3/3 [==============================] - 0s 107ms/step - loss: 3.6479 - val_loss: 4.4749\n",
      "Epoch 54/100\n",
      "3/3 [==============================] - 0s 120ms/step - loss: 3.5200 - val_loss: 4.2133\n",
      "Epoch 55/100\n",
      "3/3 [==============================] - 0s 97ms/step - loss: 3.4570 - val_loss: 4.3859\n",
      "Epoch 56/100\n",
      "3/3 [==============================] - 0s 80ms/step - loss: 3.5023 - val_loss: 4.3686\n",
      "Epoch 57/100\n",
      "3/3 [==============================] - 0s 110ms/step - loss: 3.4644 - val_loss: 4.6447\n",
      "Epoch 58/100\n",
      "3/3 [==============================] - 0s 78ms/step - loss: 3.4116 - val_loss: 4.5501\n",
      "Epoch 59/100\n",
      "3/3 [==============================] - 0s 85ms/step - loss: 3.4011 - val_loss: 4.4463\n",
      "Epoch 60/100\n",
      "3/3 [==============================] - 0s 85ms/step - loss: 3.5511 - val_loss: 4.5932\n",
      "Epoch 61/100\n",
      "3/3 [==============================] - 0s 103ms/step - loss: 3.3613 - val_loss: 4.2052\n",
      "Epoch 62/100\n",
      "3/3 [==============================] - 0s 72ms/step - loss: 3.5799 - val_loss: 3.8935\n",
      "Epoch 63/100\n",
      "3/3 [==============================] - 0s 91ms/step - loss: 3.5534 - val_loss: 4.9239\n",
      "Epoch 64/100\n",
      "3/3 [==============================] - 0s 127ms/step - loss: 3.6570 - val_loss: 4.7886\n",
      "Epoch 65/100\n",
      "3/3 [==============================] - 0s 96ms/step - loss: 3.4372 - val_loss: 3.8832\n",
      "Epoch 66/100\n",
      "3/3 [==============================] - 0s 78ms/step - loss: 3.5874 - val_loss: 4.3034\n",
      "Epoch 67/100\n",
      "3/3 [==============================] - 0s 91ms/step - loss: 3.5114 - val_loss: 4.8897\n",
      "Epoch 68/100\n",
      "3/3 [==============================] - 0s 70ms/step - loss: 3.5078 - val_loss: 4.3147\n",
      "Epoch 69/100\n",
      "3/3 [==============================] - 0s 68ms/step - loss: 3.3636 - val_loss: 3.6828\n",
      "Epoch 70/100\n",
      "3/3 [==============================] - 0s 82ms/step - loss: 3.6016 - val_loss: 4.1702\n",
      "Epoch 71/100\n",
      "3/3 [==============================] - 0s 112ms/step - loss: 3.5522 - val_loss: 4.5422\n",
      "Epoch 72/100\n",
      "3/3 [==============================] - 0s 77ms/step - loss: 3.4685 - val_loss: 3.8920\n",
      "Epoch 73/100\n",
      "3/3 [==============================] - 0s 74ms/step - loss: 3.4345 - val_loss: 4.1734\n",
      "Epoch 74/100\n",
      "3/3 [==============================] - 0s 80ms/step - loss: 3.3607 - val_loss: 4.4701\n",
      "Epoch 75/100\n",
      "3/3 [==============================] - 0s 87ms/step - loss: 3.3877 - val_loss: 4.0650\n",
      "Epoch 76/100\n",
      "3/3 [==============================] - 0s 71ms/step - loss: 3.4385 - val_loss: 3.9418\n",
      "Epoch 77/100\n",
      "3/3 [==============================] - 0s 56ms/step - loss: 3.3558 - val_loss: 4.2621\n",
      "Epoch 78/100\n",
      "3/3 [==============================] - 0s 90ms/step - loss: 3.4327 - val_loss: 4.1373\n",
      "Epoch 79/100\n",
      "3/3 [==============================] - 0s 74ms/step - loss: 3.3761 - val_loss: 4.3195\n",
      "Epoch 80/100\n",
      "3/3 [==============================] - 0s 70ms/step - loss: 3.5560 - val_loss: 4.2400\n",
      "Epoch 81/100\n"
     ]
    },
    {
     "name": "stdout",
     "output_type": "stream",
     "text": [
      "3/3 [==============================] - 0s 114ms/step - loss: 3.4056 - val_loss: 4.2483\n",
      "Epoch 82/100\n",
      "3/3 [==============================] - 0s 114ms/step - loss: 3.5113 - val_loss: 4.8827\n",
      "Epoch 83/100\n",
      "3/3 [==============================] - 0s 129ms/step - loss: 3.6976 - val_loss: 3.6710\n",
      "Epoch 84/100\n",
      "3/3 [==============================] - 0s 91ms/step - loss: 4.1680 - val_loss: 3.8752\n",
      "Epoch 85/100\n",
      "3/3 [==============================] - 0s 103ms/step - loss: 3.9847 - val_loss: 4.6414\n",
      "Epoch 86/100\n",
      "3/3 [==============================] - 0s 121ms/step - loss: 3.8184 - val_loss: 4.8902\n",
      "Epoch 87/100\n",
      "3/3 [==============================] - 0s 98ms/step - loss: 3.8400 - val_loss: 4.7464\n",
      "Epoch 88/100\n",
      "3/3 [==============================] - 0s 81ms/step - loss: 3.8015 - val_loss: 4.5736\n",
      "Epoch 89/100\n",
      "3/3 [==============================] - 0s 92ms/step - loss: 3.7617 - val_loss: 4.7680\n",
      "Epoch 90/100\n",
      "3/3 [==============================] - 0s 134ms/step - loss: 3.8141 - val_loss: 4.9156\n",
      "Epoch 91/100\n",
      "3/3 [==============================] - 0s 122ms/step - loss: 3.6617 - val_loss: 4.6410\n",
      "Epoch 92/100\n",
      "3/3 [==============================] - 0s 117ms/step - loss: 3.6126 - val_loss: 5.0050\n",
      "Epoch 93/100\n",
      "3/3 [==============================] - 0s 114ms/step - loss: 3.7006 - val_loss: 4.8288\n",
      "Epoch 94/100\n",
      "3/3 [==============================] - 0s 107ms/step - loss: 3.6106 - val_loss: 4.3173\n",
      "Epoch 95/100\n",
      "3/3 [==============================] - 0s 127ms/step - loss: 3.6924 - val_loss: 5.0151\n",
      "Epoch 96/100\n",
      "3/3 [==============================] - 0s 116ms/step - loss: 3.6183 - val_loss: 4.6482\n",
      "Epoch 97/100\n",
      "3/3 [==============================] - 0s 105ms/step - loss: 3.5053 - val_loss: 4.6158\n",
      "Epoch 98/100\n",
      "3/3 [==============================] - 0s 88ms/step - loss: 3.4485 - val_loss: 4.7976\n",
      "Epoch 99/100\n",
      "3/3 [==============================] - 0s 103ms/step - loss: 3.4930 - val_loss: 4.3826\n",
      "Epoch 100/100\n",
      "3/3 [==============================] - 0s 99ms/step - loss: 3.5011 - val_loss: 4.2596\n"
     ]
    }
   ],
   "source": [
    "history = model.fit(X_train, y_train_grid_offset, epochs=100,\n",
    "                    validation_data=(X_valid, y_valid_grid_offset))"
   ]
  },
  {
   "cell_type": "code",
   "execution_count": 42,
   "id": "7ba1fe76",
   "metadata": {},
   "outputs": [
    {
     "data": {
      "image/png": "[encoded data removed]",
      "text/plain": [
       "<Figure size 576x360 with 1 Axes>"
      ]
     },
     "metadata": {
      "needs_background": "light"
     },
     "output_type": "display_data"
    }
   ],
   "source": [
    "import pandas as pd\n",
    "\n",
    "pd.DataFrame(history.history).plot(figsize=(8, 5))\n",
    "plt.grid(True)\n",
    "# plt.gca().set_ylim(0, 1)\n",
    "plt.show()"
   ]
  },
  {
   "cell_type": "code",
   "execution_count": 43,
   "id": "47db8336",
   "metadata": {},
   "outputs": [
    {
     "name": "stdout",
     "output_type": "stream",
     "text": [
      "X.shape = (None, 1)\n",
      "gauss_grid.shape = (None, 5)\n",
      "(100,)\n",
      "(100,)\n"
     ]
    },
    {
     "data": {
      "image/png": "[encoded data removed]",
      "text/plain": [
       "<Figure size 432x288 with 1 Axes>"
      ]
     },
     "metadata": {
      "needs_background": "light"
     },
     "output_type": "display_data"
    }
   ],
   "source": [
    "plt.plot(X_train, y_train, \"b.\")\n",
    "draw_func((lambda X: n2go.inv_convert(model.predict(X)) ), mark='r-', linewidth=2, label=\"Predictions\")\n",
    "draw_normal_func(func_dict)\n",
    "plt.xlabel(\"$x_1$\", fontsize=18)\n",
    "plt.ylabel(\"$y$\", rotation=0, fontsize=18)\n",
    "plt.legend(loc=\"upper left\", fontsize=14)\n",
    "# plt.axis([-3, 3, 0, 10])\n",
    "plt.show()"
   ]
  },
  {
   "cell_type": "code",
   "execution_count": null,
   "id": "a10deb12",
   "metadata": {},
   "outputs": [],
   "source": []
  },
  {
   "cell_type": "code",
   "execution_count": null,
   "id": "f8cf4e32",
   "metadata": {},
   "outputs": [],
   "source": []
  },
  {
   "cell_type": "code",
   "execution_count": null,
   "id": "8e3fe57b",
   "metadata": {},
   "outputs": [],
   "source": []
  },
  {
   "cell_type": "code",
   "execution_count": null,
   "id": "a71305d5",
   "metadata": {},
   "outputs": [],
   "source": []
  },
  {
   "cell_type": "code",
   "execution_count": null,
   "id": "d935c409",
   "metadata": {},
   "outputs": [],
   "source": []
  },
  {
   "cell_type": "code",
   "execution_count": null,
   "id": "e7fa5656",
   "metadata": {},
   "outputs": [],
   "source": []
  },
  {
   "cell_type": "code",
   "execution_count": null,
   "id": "42eeb254",
   "metadata": {},
   "outputs": [],
   "source": []
  }
 ],
 "metadata": {
  "kernelspec": {
   "display_name": "Python 3",
   "language": "python",
   "name": "python3"
  },
  "language_info": {
   "codemirror_mode": {
    "name": "ipython",
    "version": 3
   },
   "file_extension": ".py",
   "mimetype": "text/x-python",
   "name": "python",
   "nbconvert_exporter": "python",
   "pygments_lexer": "ipython3",
   "version": "3.6.9"
  }
 },
 "nbformat": 4,
 "nbformat_minor": 5
}
