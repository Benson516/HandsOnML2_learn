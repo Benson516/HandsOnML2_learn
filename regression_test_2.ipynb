{
 "cells": [
  {
   "cell_type": "markdown",
   "id": "899fa113",
   "metadata": {},
   "source": [
    "# Regression with Different Output Format under Various Data Conditions\n",
    "\n",
    "In this experience, we test the following output format for regression task under several different data coditions.\n",
    "- Numerical output\n",
    "- Regression as classification (grid-out)\n",
    "\n",
    "The data coditions include:\n",
    "- Sparse (few data)\n",
    "- Grouped\n",
    "  - Biased (parallel data)\n",
    "  - Completely different mode, uncorrelated data (cross)\n",
    "  - Partially diversed (split)"
   ]
  },
  {
   "cell_type": "code",
   "execution_count": 1,
   "id": "625ce7c3",
   "metadata": {},
   "outputs": [],
   "source": [
    "import numpy as np\n",
    "import tensorflow as tf\n",
    "from tensorflow import keras\n",
    "import os\n",
    "\n",
    "# To plot pretty figures\n",
    "%matplotlib inline\n",
    "import matplotlib as mpl\n",
    "import matplotlib.pyplot as plt\n",
    "mpl.rc('axes', labelsize=14)\n",
    "mpl.rc('xtick', labelsize=12)\n",
    "mpl.rc('ytick', labelsize=12)"
   ]
  },
  {
   "cell_type": "code",
   "execution_count": 2,
   "id": "7ad564ad",
   "metadata": {},
   "outputs": [],
   "source": [
    "# Where to save the figures\n",
    "PROJECT_ROOT_DIR = \".\"\n",
    "CHAPTER_ID = \"regression_test_2\"\n",
    "IMAGES_PATH = os.path.join(PROJECT_ROOT_DIR, \"images\", CHAPTER_ID)\n",
    "os.makedirs(IMAGES_PATH, exist_ok=True)\n",
    "\n",
    "def save_fig(fig_id, tight_layout=True, fig_extension=\"png\", resolution=300):\n",
    "    path = os.path.join(IMAGES_PATH, fig_id + \".\" + fig_extension)\n",
    "    print(\"Saving figure\", fig_id)\n",
    "    if tight_layout:\n",
    "        plt.tight_layout()\n",
    "    plt.savefig(path, format=fig_extension, dpi=resolution)"
   ]
  },
  {
   "cell_type": "code",
   "execution_count": 3,
   "id": "94e8a077",
   "metadata": {},
   "outputs": [],
   "source": [
    "def draw_func(func_in, x_min=-5, x_max=5, mark='r--', linewidth=1, label='func'):\n",
    "    n_sample = 100\n",
    "    X_func = np.linspace(x_min, x_max, n_sample).reshape(n_sample, 1)\n",
    "    y_func = func_in(X_func)\n",
    "    plt.plot(X_func, y_func, mark, linewidth=linewidth, label=label)"
   ]
  },
  {
   "cell_type": "markdown",
   "id": "c27ffe35",
   "metadata": {},
   "source": [
    "Generate polynomial data"
   ]
  },
  {
   "cell_type": "code",
   "execution_count": 4,
   "id": "ce670ce4",
   "metadata": {},
   "outputs": [],
   "source": [
    "poly_a1 = 5.0\n",
    "# poly_a1 = -10.0 # 5.0\n",
    "#\n",
    "sin_a = 0.0\n",
    "# sin_a = 10.0\n",
    "sin_f = 0.1 # 0.2\n",
    "#\n",
    "def func_0(X): # Reference\n",
    "    return 0.5 * X**3 + 0.5 * X**2 + (poly_a1)*X + 2 + sin_a*np.sin(2.0*np.pi*sin_f*X)\n",
    "def func_1(X): # Variation 1: parellel\n",
    "    return 0.5 * X**3 + 0.5 * X**2 + (poly_a1)*X + 30 + sin_a*np.sin(2.0*np.pi*sin_f*X)\n",
    "def func_2(X): # Variation 2: cross\n",
    "    return -0.5 * X**3 + 0.5 * X**2 + (poly_a1)*X + 30 + sin_a*np.sin(2.0*np.pi*sin_f*X)\n",
    "def func_3(X): # Variation 3: slightly split\n",
    "    return 0.3 * X**3 + 1.0 * X**2 + (poly_a1)*X + 15 + sin_a*np.sin(2.0*np.pi*sin_f*X)\n",
    "def func_4(X): # Sine wave~\n",
    "    return 0.5 * X**3 + 0.5 * X**2 + (poly_a1)*X + 2 + 20.0*np.sin(2.0*np.pi*sin_f*X) # 50.0"
   ]
  },
  {
   "cell_type": "code",
   "execution_count": 5,
   "id": "9463bfff",
   "metadata": {},
   "outputs": [],
   "source": [
    "func_dict = dict()\n",
    "#-----------------#\n",
    "func_dict[\"f1\"] = func_0\n",
    "#-----------------#\n",
    "# func_dict[\"f2\"] = func_1\n",
    "# func_dict[\"f2\"] = func_2\n",
    "func_dict[\"f2\"] = func_3\n",
    "# func_dict[\"f2\"] = func_4\n",
    "#-----------------#\n",
    "func_dict[\"f3\"] = func_4\n",
    "#-----------------#\n",
    "\n",
    "# Note: func_dict[\"f_avg\"] depends on multiout_type and is calculated in each section of multiout_type"
   ]
  },
  {
   "cell_type": "code",
   "execution_count": 6,
   "id": "63437d0c",
   "metadata": {},
   "outputs": [
    {
     "name": "stdout",
     "output_type": "stream",
     "text": [
      "(m, m_train) = (100, 80)\n",
      "y_data_pure.shape = (100, 1)\n",
      "y_data.shape = (100, 1)\n"
     ]
    }
   ],
   "source": [
    "np.random.seed(42)\n",
    "m = 100 # 50 # 100 # 200\n",
    "m_train = m // 5 * 4\n",
    "print(\"(m, m_train) = (%d, %d)\" % (m, m_train))\n",
    "\n",
    "# Input\n",
    "is_gapped = True\n",
    "# is_gapped = False\n",
    "#\n",
    "if not is_gapped:\n",
    "    X_data = 10 * np.random.rand(m, 1) - 5 # Note: X is randomly sampled, so we don't need to shuffle the data again\n",
    "else:\n",
    "    X_data = np.concatenate( (np.linspace(-5.0, -2.0, m//2), np.linspace(2.0, 5.0, m-m//2)) )\n",
    "    X_data = X_data.reshape((m,1))\n",
    "    np.random.shuffle(X_data)\n",
    "\n",
    "# Output, multiout_type in {1, 2, 3}\n",
    "# multiout_type = 1      \n",
    "multiout_type = 2 \n",
    "# multiout_type = 3 \n",
    "#\n",
    "sid_data = np.ones((m,1), dtype=int) # subject id, default: 1\n",
    "if multiout_type == 2:\n",
    "    m_h = m // 2\n",
    "    X_data_1 = X_data[:m_h]\n",
    "    X_data_2 = X_data[m_h:]\n",
    "    sid_data[:m_h] = 1 # id:1\n",
    "    sid_data[m_h:] = 2 # id:2\n",
    "    y_data_pure_1 = func_dict[\"f1\"](X_data_1) \n",
    "    y_data_pure_2 = func_dict[\"f2\"](X_data_2) \n",
    "    y_data_pure = np.vstack([y_data_pure_1, y_data_pure_2])\n",
    "    print(\"y_data_pure.shape = %s\" % str(y_data_pure.shape))\n",
    "    # Average line\n",
    "    func_dict[\"f_avg\"] = ( lambda X: 0.5*func_dict[\"f1\"](X) + 0.5*func_dict[\"f2\"](X) )\n",
    "    #\n",
    "elif multiout_type == 3: # with \"avg\" line\n",
    "    m_t = m // 3\n",
    "    X_data_1 = X_data[:m_t]\n",
    "    X_data_2 = X_data[m_t:(2*m_t)]\n",
    "    X_data_3 = X_data[(2*m_t):]\n",
    "    sid_data[:m_t]        = 1 # id:1\n",
    "    sid_data[m_t:(2*m_t)] = 2 # id:2\n",
    "    sid_data[(2*m_t):]    = 3 # id:3\n",
    "    y_data_pure_1 = func_dict[\"f1\"](X_data_1) \n",
    "    y_data_pure_2 = func_dict[\"f2\"](X_data_2) \n",
    "    y_data_pure_3 = func_dict[\"f3\"](X_data_3) \n",
    "    y_data_pure = np.vstack([y_data_pure_1, y_data_pure_2, y_data_pure_3])\n",
    "    print(\"y_data_pure.shape = %s\" % str(y_data_pure.shape))\n",
    "    # Average line\n",
    "    func_dict[\"f_avg\"] = ( lambda X: (func_dict[\"f1\"](X) + func_dict[\"f2\"](X) + func_dict[\"f3\"](X))/3.0 )\n",
    "    #\n",
    "else: # multiout_type == 1\n",
    "    # Average line\n",
    "    func_dict[\"f_avg\"] = ( lambda X: 0.5*func_dict[\"f1\"](X) + 0.5*func_dict[\"f2\"](X) )\n",
    "    y_data_pure = func_dict[\"f_avg\"](X_data)\n",
    "\n",
    "    \n",
    "# Label (+noise)\n",
    "n_stddev = 2.0\n",
    "# n_stddev = 10.0\n",
    "y_data = y_data_pure + np.random.randn(m, 1) * n_stddev\n",
    "print(\"y_data.shape = %s\" % str(y_data.shape))\n",
    "# print(\"sid_data = %s\" % str(sid_data))"
   ]
  },
  {
   "cell_type": "code",
   "execution_count": 7,
   "id": "ef588fae",
   "metadata": {},
   "outputs": [],
   "source": [
    "# Method 1: simply slice\n",
    "# X_train = X_data[:m_train]\n",
    "# y_train = y_data[:m_train]\n",
    "# X_valid = X_data[m_train:]\n",
    "# y_valid = y_data[m_train:]\n",
    "\n",
    "# Method 2: shuffle\n",
    "from sklearn.model_selection import train_test_split\n",
    "# X_train, X_valid, y_train, y_valid = train_test_split(X_data, y_data, test_size=0.2, random_state=42)\n",
    "X_train, X_valid, y_train, y_valid, sid_train, sid_valid = train_test_split(X_data, y_data, sid_data, test_size=0.2, random_state=42)"
   ]
  },
  {
   "cell_type": "code",
   "execution_count": 8,
   "id": "3b5d2cfe",
   "metadata": {},
   "outputs": [
    {
     "name": "stdout",
     "output_type": "stream",
     "text": [
      "(80, 1)\n"
     ]
    }
   ],
   "source": [
    "print(X_train.shape)\n",
    "# print(\"sid_train = %s\" % str(sid_train))"
   ]
  },
  {
   "cell_type": "code",
   "execution_count": 9,
   "id": "9bd2136c",
   "metadata": {},
   "outputs": [],
   "source": [
    "def draw_normal_func(func_dict):\n",
    "    if multiout_type != 1:\n",
    "        draw_func(func_dict[\"f1\"], mark='c:', label=\"f1\")\n",
    "        draw_func(func_dict[\"f2\"], mark='r:', label=\"f2\")\n",
    "    if multiout_type == 3:\n",
    "        draw_func(func_dict[\"f3\"], mark='y:', label=\"f3\")\n",
    "    draw_func(func_dict[\"f_avg\"], mark='m--', label=\"f_avg\")"
   ]
  },
  {
   "cell_type": "code",
   "execution_count": 10,
   "id": "3e4283c1",
   "metadata": {},
   "outputs": [],
   "source": [
    "def draw_points(X, y, sid=None):\n",
    "    if sid is None:\n",
    "        plt.plot(X, y, \"b.\")\n",
    "    else:\n",
    "        plt.plot(X[sid==1], y[sid==1], \"b.\")\n",
    "        plt.plot(X[sid==2], y[sid==2], \"r.\")\n",
    "        plt.plot(X[sid==3], y[sid==3], \"y.\")"
   ]
  },
  {
   "cell_type": "code",
   "execution_count": 11,
   "id": "693af3b7",
   "metadata": {},
   "outputs": [
    {
     "name": "stdout",
     "output_type": "stream",
     "text": [
      "Saving figure training_data\n"
     ]
    },
    {
     "data": {
      "image/png": "[encoded data removed]",
      "text/plain": [
       "<Figure size 432x288 with 1 Axes>"
      ]
     },
     "metadata": {
      "needs_background": "light"
     },
     "output_type": "display_data"
    }
   ],
   "source": [
    "# plt.plot(X_train, y_train, \"b.\")\n",
    "# plt.plot(X_train[sid_train==1], y_train[sid_train==1], \"b.\")\n",
    "# plt.plot(X_train[sid_train==2], y_train[sid_train==2], \"r.\")\n",
    "draw_points(X_train, y_train, sid_train)\n",
    "\n",
    "draw_normal_func(func_dict)\n",
    "plt.xlabel(\"$x_1$\", fontsize=18)\n",
    "plt.ylabel(\"$y$\", rotation=0, fontsize=18)\n",
    "plt.legend(loc=\"upper left\", fontsize=14)\n",
    "# plt.axis([-3, 3, 0, 10])\n",
    "save_fig(\"training_data\")\n",
    "plt.show()"
   ]
  },
  {
   "cell_type": "code",
   "execution_count": 12,
   "id": "a6853ff1",
   "metadata": {},
   "outputs": [],
   "source": [
    "prediction_error_dict = dict()\n",
    "\n",
    "def get_prediction_error(func_in, func_dict, name=\"\", x_min=-5, x_max=5, prediction_error_dict=prediction_error_dict):\n",
    "    n_sample = 100\n",
    "    X_func = np.linspace(x_min, x_max, n_sample).reshape(n_sample, 1)\n",
    "    y_func = func_in(X_func).reshape((n_sample,1))\n",
    "    y_gt = func_dict[\"f_avg\"](X_func).reshape((n_sample,1))\n",
    "    print(\"y_func.shape = %s\" % str(y_func.shape))\n",
    "    print(\"y_gt.shape = %s\" % str(y_gt.shape))\n",
    "#     total_error = np.sqrt(np.square(y_func - y_gt).mean())\n",
    "    total_error = np.abs(y_func - y_gt).mean()\n",
    "    prediction_error_dict[name] = total_error\n",
    "    return total_error\n",
    "\n",
    "def print_all_prediction_error(is_logging_to_screen=True, prediction_error_dict=prediction_error_dict):\n",
    "    _s = \"\"\n",
    "    for _n in prediction_error_dict:\n",
    "        _s += (\"%s: %f\" % (_n, prediction_error_dict[_n])) + \"\\n\"\n",
    "    if is_logging_to_screen:\n",
    "        print(_s)\n",
    "    return _s\n",
    "        \n",
    "def save_prediction_errors(is_logging_to_screen=False, prediction_error_dict=prediction_error_dict):\n",
    "    path = os.path.join(IMAGES_PATH, \"prediction_errors.txt\")\n",
    "    print(\"Saving all prediction errors to [%s].\" % path)\n",
    "    _s = print_all_prediction_error(is_logging_to_screen=is_logging_to_screen, prediction_error_dict=prediction_error_dict)\n",
    "    with open(path, \"w\") as _f:\n",
    "        _f.write(_s)\n",
    "    return True"
   ]
  },
  {
   "cell_type": "markdown",
   "id": "053ecc57",
   "metadata": {},
   "source": [
    "# Simple FCs (number --> number)"
   ]
  },
  {
   "cell_type": "markdown",
   "id": "c66eb67b",
   "metadata": {},
   "source": [
    "Build the regression model"
   ]
  },
  {
   "cell_type": "code",
   "execution_count": 13,
   "id": "9449fc0b",
   "metadata": {},
   "outputs": [
    {
     "name": "stderr",
     "output_type": "stream",
     "text": [
      "C:\\Users\\benso\\anaconda3\\envs\\ml\\lib\\site-packages\\keras\\optimizer_v2\\gradient_descent.py:102: UserWarning: The `lr` argument is deprecated, use `learning_rate` instead.\n",
      "  super(SGD, self).__init__(name, **kwargs)\n"
     ]
    }
   ],
   "source": [
    "model = keras.models.Sequential([\n",
    "    keras.layers.Dense(30, activation=\"relu\", input_shape=X_train.shape[1:]),\n",
    "    keras.layers.Dense(30, activation=\"relu\"),\n",
    "    keras.layers.Dense(1)\n",
    "])\n",
    "\n",
    "optimizer = keras.optimizers.SGD(lr=0.0001, momentum=0.9)\n",
    "model.compile(loss=\"mean_squared_error\", optimizer=optimizer)\n",
    "# optimizer = keras.optimizers.Adam(lr=0.01)\n",
    "# model.compile(loss=\"mean_absolute_error\", optimizer=optimizer)"
   ]
  },
  {
   "cell_type": "code",
   "execution_count": 14,
   "id": "92afd68a",
   "metadata": {
    "scrolled": true
   },
   "outputs": [
    {
     "name": "stdout",
     "output_type": "stream",
     "text": [
      "Epoch 1/100\n",
      "3/3 [==============================] - 1s 83ms/step - loss: 2464.8374 - val_loss: 1684.2125\n",
      "Epoch 2/100\n",
      "3/3 [==============================] - 0s 16ms/step - loss: 2343.8948 - val_loss: 1566.7271\n",
      "Epoch 3/100\n",
      "3/3 [==============================] - 0s 16ms/step - loss: 2089.2832 - val_loss: 1315.6321\n",
      "Epoch 4/100\n",
      "3/3 [==============================] - 0s 30ms/step - loss: 1529.0269 - val_loss: 781.8961\n",
      "Epoch 5/100\n",
      "3/3 [==============================] - 0s 36ms/step - loss: 630.7283 - val_loss: 814.6621\n",
      "Epoch 6/100\n",
      "3/3 [==============================] - 0s 23ms/step - loss: 927.8387 - val_loss: 710.8994\n",
      "Epoch 7/100\n",
      "3/3 [==============================] - 0s 21ms/step - loss: 552.7870 - val_loss: 616.9066\n",
      "Epoch 8/100\n",
      "3/3 [==============================] - 0s 26ms/step - loss: 570.2667 - val_loss: 617.1904\n",
      "Epoch 9/100\n",
      "3/3 [==============================] - 0s 25ms/step - loss: 527.9327 - val_loss: 498.2090\n",
      "Epoch 10/100\n",
      "3/3 [==============================] - 0s 30ms/step - loss: 407.8570 - val_loss: 486.0695\n",
      "Epoch 11/100\n",
      "3/3 [==============================] - 0s 16ms/step - loss: 399.8860 - val_loss: 344.8595\n",
      "Epoch 12/100\n",
      "3/3 [==============================] - 0s 20ms/step - loss: 277.2774 - val_loss: 249.6244\n",
      "Epoch 13/100\n",
      "3/3 [==============================] - 0s 38ms/step - loss: 255.8889 - val_loss: 182.8583\n",
      "Epoch 14/100\n",
      "3/3 [==============================] - 0s 22ms/step - loss: 207.8923 - val_loss: 184.8948\n",
      "Epoch 15/100\n",
      "3/3 [==============================] - 0s 17ms/step - loss: 223.6475 - val_loss: 201.7340\n",
      "Epoch 16/100\n",
      "3/3 [==============================] - 0s 16ms/step - loss: 235.5687 - val_loss: 177.7259\n",
      "Epoch 17/100\n",
      "3/3 [==============================] - 0s 17ms/step - loss: 225.5538 - val_loss: 174.2151\n",
      "Epoch 18/100\n",
      "3/3 [==============================] - 0s 20ms/step - loss: 202.9122 - val_loss: 184.3119\n",
      "Epoch 19/100\n",
      "3/3 [==============================] - 0s 19ms/step - loss: 200.1595 - val_loss: 208.2207\n",
      "Epoch 20/100\n",
      "3/3 [==============================] - 0s 17ms/step - loss: 208.1466 - val_loss: 201.4575\n",
      "Epoch 21/100\n",
      "3/3 [==============================] - 0s 21ms/step - loss: 201.7963 - val_loss: 199.3060\n",
      "Epoch 22/100\n",
      "3/3 [==============================] - 0s 17ms/step - loss: 211.5819 - val_loss: 184.7861\n",
      "Epoch 23/100\n",
      "3/3 [==============================] - 0s 16ms/step - loss: 192.4288 - val_loss: 182.5825\n",
      "Epoch 24/100\n",
      "3/3 [==============================] - 0s 19ms/step - loss: 204.0075 - val_loss: 176.6552\n",
      "Epoch 25/100\n",
      "3/3 [==============================] - 0s 17ms/step - loss: 199.4012 - val_loss: 167.6618\n",
      "Epoch 26/100\n",
      "3/3 [==============================] - 0s 20ms/step - loss: 197.7085 - val_loss: 167.9194\n",
      "Epoch 27/100\n",
      "3/3 [==============================] - 0s 16ms/step - loss: 194.2153 - val_loss: 169.4628\n",
      "Epoch 28/100\n",
      "3/3 [==============================] - 0s 21ms/step - loss: 192.9563 - val_loss: 180.3480\n",
      "Epoch 29/100\n",
      "3/3 [==============================] - 0s 17ms/step - loss: 192.2555 - val_loss: 177.8540\n",
      "Epoch 30/100\n",
      "3/3 [==============================] - 0s 16ms/step - loss: 194.4316 - val_loss: 184.3630\n",
      "Epoch 31/100\n",
      "3/3 [==============================] - 0s 21ms/step - loss: 191.3507 - val_loss: 182.9167\n",
      "Epoch 32/100\n",
      "3/3 [==============================] - 0s 20ms/step - loss: 188.6517 - val_loss: 174.9298\n",
      "Epoch 33/100\n",
      "3/3 [==============================] - 0s 16ms/step - loss: 187.2741 - val_loss: 169.2906\n",
      "Epoch 34/100\n",
      "3/3 [==============================] - 0s 20ms/step - loss: 187.1370 - val_loss: 167.1586\n",
      "Epoch 35/100\n",
      "3/3 [==============================] - 0s 19ms/step - loss: 187.1340 - val_loss: 167.8657\n",
      "Epoch 36/100\n",
      "3/3 [==============================] - 0s 20ms/step - loss: 186.1187 - val_loss: 165.8928\n",
      "Epoch 37/100\n",
      "3/3 [==============================] - 0s 20ms/step - loss: 185.0982 - val_loss: 167.4482\n",
      "Epoch 38/100\n",
      "3/3 [==============================] - 0s 16ms/step - loss: 184.0331 - val_loss: 169.7367\n",
      "Epoch 39/100\n",
      "3/3 [==============================] - 0s 20ms/step - loss: 183.3746 - val_loss: 174.8146\n",
      "Epoch 40/100\n",
      "3/3 [==============================] - 0s 17ms/step - loss: 185.9763 - val_loss: 178.4888\n",
      "Epoch 41/100\n",
      "3/3 [==============================] - 0s 17ms/step - loss: 183.1140 - val_loss: 171.5740\n",
      "Epoch 42/100\n",
      "3/3 [==============================] - 0s 17ms/step - loss: 182.2034 - val_loss: 166.5741\n",
      "Epoch 43/100\n",
      "3/3 [==============================] - 0s 16ms/step - loss: 182.2766 - val_loss: 164.0360\n",
      "Epoch 44/100\n",
      "3/3 [==============================] - 0s 17ms/step - loss: 182.4637 - val_loss: 164.0424\n",
      "Epoch 45/100\n",
      "3/3 [==============================] - 0s 20ms/step - loss: 180.2663 - val_loss: 167.4162\n",
      "Epoch 46/100\n",
      "3/3 [==============================] - 0s 20ms/step - loss: 183.8158 - val_loss: 172.8982\n",
      "Epoch 47/100\n",
      "3/3 [==============================] - 0s 17ms/step - loss: 179.9812 - val_loss: 166.1925\n",
      "Epoch 48/100\n",
      "3/3 [==============================] - 0s 22ms/step - loss: 180.8543 - val_loss: 161.3196\n",
      "Epoch 49/100\n",
      "3/3 [==============================] - 0s 19ms/step - loss: 181.3602 - val_loss: 161.8754\n",
      "Epoch 50/100\n",
      "3/3 [==============================] - 0s 18ms/step - loss: 178.9699 - val_loss: 159.9918\n",
      "Epoch 51/100\n",
      "3/3 [==============================] - 0s 20ms/step - loss: 177.7245 - val_loss: 161.3762\n",
      "Epoch 52/100\n",
      "3/3 [==============================] - 0s 17ms/step - loss: 175.6942 - val_loss: 165.0148\n",
      "Epoch 53/100\n",
      "3/3 [==============================] - 0s 18ms/step - loss: 180.1571 - val_loss: 174.0081\n",
      "Epoch 54/100\n",
      "3/3 [==============================] - 0s 19ms/step - loss: 176.8187 - val_loss: 169.3094\n",
      "Epoch 55/100\n",
      "3/3 [==============================] - 0s 21ms/step - loss: 177.9664 - val_loss: 163.0778\n",
      "Epoch 56/100\n",
      "3/3 [==============================] - 0s 16ms/step - loss: 177.0487 - val_loss: 161.7514\n",
      "Epoch 57/100\n",
      "3/3 [==============================] - 0s 17ms/step - loss: 174.4027 - val_loss: 163.2687\n",
      "Epoch 58/100\n",
      "3/3 [==============================] - 0s 21ms/step - loss: 172.7726 - val_loss: 165.8146\n",
      "Epoch 59/100\n",
      "3/3 [==============================] - 0s 24ms/step - loss: 174.6104 - val_loss: 169.4934\n",
      "Epoch 60/100\n",
      "3/3 [==============================] - 0s 17ms/step - loss: 176.8855 - val_loss: 170.5482\n",
      "Epoch 61/100\n",
      "3/3 [==============================] - 0s 16ms/step - loss: 173.0960 - val_loss: 163.5842\n",
      "Epoch 62/100\n",
      "3/3 [==============================] - 0s 19ms/step - loss: 172.1566 - val_loss: 156.7526\n",
      "Epoch 63/100\n",
      "3/3 [==============================] - 0s 19ms/step - loss: 172.6548 - val_loss: 155.2851\n",
      "Epoch 64/100\n",
      "3/3 [==============================] - 0s 16ms/step - loss: 171.0001 - val_loss: 157.7560\n",
      "Epoch 65/100\n",
      "3/3 [==============================] - 0s 22ms/step - loss: 171.7534 - val_loss: 162.4425\n",
      "Epoch 66/100\n",
      "3/3 [==============================] - 0s 18ms/step - loss: 170.6305 - val_loss: 161.8182\n",
      "Epoch 67/100\n",
      "3/3 [==============================] - 0s 21ms/step - loss: 171.0412 - val_loss: 155.7824\n",
      "Epoch 68/100\n",
      "3/3 [==============================] - 0s 16ms/step - loss: 169.8493 - val_loss: 155.2369\n",
      "Epoch 69/100\n",
      "3/3 [==============================] - 0s 20ms/step - loss: 170.3998 - val_loss: 157.8732\n",
      "Epoch 70/100\n",
      "3/3 [==============================] - 0s 20ms/step - loss: 168.2998 - val_loss: 157.3867\n",
      "Epoch 71/100\n",
      "3/3 [==============================] - 0s 19ms/step - loss: 167.8742 - val_loss: 157.3853\n",
      "Epoch 72/100\n",
      "3/3 [==============================] - 0s 18ms/step - loss: 168.1673 - val_loss: 156.3235\n",
      "Epoch 73/100\n",
      "3/3 [==============================] - 0s 24ms/step - loss: 167.8414 - val_loss: 152.7277\n",
      "Epoch 74/100\n",
      "3/3 [==============================] - 0s 17ms/step - loss: 167.0143 - val_loss: 152.0346\n",
      "Epoch 75/100\n",
      "3/3 [==============================] - 0s 16ms/step - loss: 167.8037 - val_loss: 150.6106\n",
      "Epoch 76/100\n",
      "3/3 [==============================] - 0s 18ms/step - loss: 166.1246 - val_loss: 154.5351\n",
      "Epoch 77/100\n",
      "3/3 [==============================] - 0s 22ms/step - loss: 166.7307 - val_loss: 167.0815\n",
      "Epoch 78/100\n",
      "3/3 [==============================] - 0s 17ms/step - loss: 169.4861 - val_loss: 169.2899\n",
      "Epoch 79/100\n",
      "3/3 [==============================] - 0s 16ms/step - loss: 168.1240 - val_loss: 164.1427\n",
      "Epoch 80/100\n"
     ]
    },
    {
     "name": "stdout",
     "output_type": "stream",
     "text": [
      "3/3 [==============================] - 0s 22ms/step - loss: 167.3287 - val_loss: 160.9456\n",
      "Epoch 81/100\n",
      "3/3 [==============================] - 0s 18ms/step - loss: 164.0527 - val_loss: 152.6608\n",
      "Epoch 82/100\n",
      "3/3 [==============================] - 0s 25ms/step - loss: 166.7702 - val_loss: 145.8611\n",
      "Epoch 83/100\n",
      "3/3 [==============================] - 0s 15ms/step - loss: 165.9272 - val_loss: 146.3565\n",
      "Epoch 84/100\n",
      "3/3 [==============================] - 0s 20ms/step - loss: 165.3663 - val_loss: 146.2144\n",
      "Epoch 85/100\n",
      "3/3 [==============================] - 0s 16ms/step - loss: 162.6659 - val_loss: 151.7695\n",
      "Epoch 86/100\n",
      "3/3 [==============================] - 0s 19ms/step - loss: 164.2702 - val_loss: 158.2353\n",
      "Epoch 87/100\n",
      "3/3 [==============================] - 0s 21ms/step - loss: 163.5874 - val_loss: 157.1686\n",
      "Epoch 88/100\n",
      "3/3 [==============================] - 0s 22ms/step - loss: 163.2455 - val_loss: 156.4860\n",
      "Epoch 89/100\n",
      "3/3 [==============================] - 0s 21ms/step - loss: 162.3053 - val_loss: 154.4570\n",
      "Epoch 90/100\n",
      "3/3 [==============================] - 0s 23ms/step - loss: 164.3858 - val_loss: 152.0675\n",
      "Epoch 91/100\n",
      "3/3 [==============================] - 0s 15ms/step - loss: 161.0215 - val_loss: 156.9852\n",
      "Epoch 92/100\n",
      "3/3 [==============================] - 0s 18ms/step - loss: 162.2847 - val_loss: 156.9392\n",
      "Epoch 93/100\n",
      "3/3 [==============================] - 0s 19ms/step - loss: 162.0771 - val_loss: 148.6078\n",
      "Epoch 94/100\n",
      "3/3 [==============================] - 0s 20ms/step - loss: 160.0212 - val_loss: 145.7883\n",
      "Epoch 95/100\n",
      "3/3 [==============================] - 0s 23ms/step - loss: 160.5678 - val_loss: 142.3635\n",
      "Epoch 96/100\n",
      "3/3 [==============================] - 0s 19ms/step - loss: 160.3811 - val_loss: 139.1737\n",
      "Epoch 97/100\n",
      "3/3 [==============================] - 0s 18ms/step - loss: 160.5007 - val_loss: 139.9107\n",
      "Epoch 98/100\n",
      "3/3 [==============================] - 0s 19ms/step - loss: 161.8946 - val_loss: 142.1431\n",
      "Epoch 99/100\n",
      "3/3 [==============================] - 0s 23ms/step - loss: 160.0534 - val_loss: 139.3218\n",
      "Epoch 100/100\n",
      "3/3 [==============================] - 0s 18ms/step - loss: 159.0596 - val_loss: 141.1063\n"
     ]
    }
   ],
   "source": [
    "history = model.fit(X_train, y_train, epochs=100,\n",
    "                    validation_data=(X_valid, y_valid))"
   ]
  },
  {
   "cell_type": "markdown",
   "id": "17d6e37a",
   "metadata": {},
   "source": [
    "Plot the result"
   ]
  },
  {
   "cell_type": "code",
   "execution_count": 15,
   "id": "3b066f5c",
   "metadata": {},
   "outputs": [
    {
     "name": "stdout",
     "output_type": "stream",
     "text": [
      "Saving figure num_num_training_curve\n"
     ]
    },
    {
     "data": {
      "image/png": "[encoded data removed]",
      "text/plain": [
       "<Figure size 576x360 with 1 Axes>"
      ]
     },
     "metadata": {
      "needs_background": "light"
     },
     "output_type": "display_data"
    }
   ],
   "source": [
    "import pandas as pd\n",
    "\n",
    "pd.DataFrame(history.history).plot(figsize=(8, 5))\n",
    "plt.grid(True)\n",
    "# plt.gca().set_ylim(0, 1)\n",
    "save_fig(\"num_num_training_curve\")\n",
    "plt.show()"
   ]
  },
  {
   "cell_type": "code",
   "execution_count": 16,
   "id": "03f9bb54",
   "metadata": {},
   "outputs": [
    {
     "name": "stdout",
     "output_type": "stream",
     "text": [
      "Saving figure num_num_prediction\n"
     ]
    },
    {
     "data": {
      "image/png": "[encoded data removed]",
      "text/plain": [
       "<Figure size 432x288 with 1 Axes>"
      ]
     },
     "metadata": {
      "needs_background": "light"
     },
     "output_type": "display_data"
    }
   ],
   "source": [
    "# X_new = np.linspace(-5, 5, 100).reshape(100, 1)\n",
    "# y_new = model.predict(X_new)\n",
    "#\n",
    "# plt.plot(X_train, y_train, \"b.\")\n",
    "draw_points(X_train, y_train, sid_train)\n",
    "# plt.plot(X_new, y_new, \"r-\", linewidth=2, label=\"Predictions\")\n",
    "draw_func(model.predict, mark='r-', linewidth=2, label=\"Predictions\")\n",
    "draw_normal_func(func_dict)\n",
    "plt.xlabel(\"$x_1$\", fontsize=18)\n",
    "plt.ylabel(\"$y$\", rotation=0, fontsize=18)\n",
    "plt.legend(loc=\"upper left\", fontsize=14)\n",
    "# plt.axis([-3, 3, 0, 10])\n",
    "save_fig(\"num_num_prediction\")\n",
    "plt.show()"
   ]
  },
  {
   "cell_type": "code",
   "execution_count": 17,
   "id": "bc06d931",
   "metadata": {},
   "outputs": [
    {
     "name": "stdout",
     "output_type": "stream",
     "text": [
      "y_func.shape = (100, 1)\n",
      "y_gt.shape = (100, 1)\n"
     ]
    },
    {
     "data": {
      "text/plain": [
       "6.003284614183147"
      ]
     },
     "execution_count": 17,
     "metadata": {},
     "output_type": "execute_result"
    }
   ],
   "source": [
    "get_prediction_error(model.predict, func_dict, name=\"num-num\")"
   ]
  },
  {
   "cell_type": "markdown",
   "id": "58da8768",
   "metadata": {},
   "source": [
    "# Simulated CNN Feature Map (1-D grids, grid --> number)"
   ]
  },
  {
   "cell_type": "code",
   "execution_count": 18,
   "id": "287b5e4c",
   "metadata": {},
   "outputs": [],
   "source": [
    "class num2grid(keras.layers.Layer):\n",
    "    def __init__(self, units, x_min=-10, x_max=10, sigma=1.0, activation=None, **kwargs):\n",
    "        super().__init__(**kwargs)\n",
    "        self.units = units\n",
    "        self.x_min = x_min\n",
    "        self.x_max = x_max\n",
    "        self.sigma = sigma\n",
    "        self.sigma2 = self.sigma**2\n",
    "        self.activation = keras.activations.get(activation)\n",
    "        \n",
    "    def build(self, batch_input_shape):\n",
    "        #\n",
    "        self.x_grid = np.linspace(self.x_min, self.x_max, self.units, endpoint=True)\n",
    "#         print(\"self.x_grid.shape = %s\" % str(self.x_grid.shape))\n",
    "        #\n",
    "        super().build(batch_input_shape) # must be at the end\n",
    "        \n",
    "    def call(self, X):\n",
    "        '''\n",
    "        Input shape:  (batch, X_chanel)\n",
    "        Output shape: (batch, grid_unit) \n",
    "        \n",
    "        self.x_grid shape: (grid_unit,)\n",
    "        '''\n",
    "        gauss_grid = tf.exp( -(self.x_grid - X)**2 / (2.0*self.sigma2) )\n",
    "        print(\"X.shape = %s\" % str(X.shape))\n",
    "        print(\"gauss_grid.shape = %s\" % str(gauss_grid.shape))\n",
    "        return self.activation(gauss_grid)\n",
    "    \n",
    "    def compute_output_shape(self, batch_input_shape):\n",
    "        return tf.TensorShape(batch_input_shape.as_list()[:-1] + [self.units])\n",
    "    \n",
    "    def get_config(self):\n",
    "        base_config = super().get_config()\n",
    "        return {**base_config, \n",
    "                \"units\": self.units,\n",
    "                \"x_min\": self.x_min,\n",
    "                \"x_max\": self.x_max,\n",
    "                \"sigma\": self.sigma,\n",
    "                \"activation\": keras.activations.serialize(self.activation)}"
   ]
  },
  {
   "cell_type": "code",
   "execution_count": 19,
   "id": "f463c12a",
   "metadata": {},
   "outputs": [
    {
     "name": "stdout",
     "output_type": "stream",
     "text": [
      "X.shape = (None, 1)\n",
      "gauss_grid.shape = (None, 5)\n"
     ]
    },
    {
     "name": "stderr",
     "output_type": "stream",
     "text": [
      "C:\\Users\\benso\\anaconda3\\envs\\ml\\lib\\site-packages\\keras\\optimizer_v2\\adam.py:105: UserWarning: The `lr` argument is deprecated, use `learning_rate` instead.\n",
      "  super(Adam, self).__init__(name, **kwargs)\n"
     ]
    }
   ],
   "source": [
    "model = keras.models.Sequential([\n",
    "    num2grid(5,x_min=-10, x_max=10, sigma=3.0, input_shape=X_train.shape[1:]),\n",
    "    keras.layers.Dense(30, activation=\"relu\"),\n",
    "#     keras.layers.Dense(100, activation=\"relu\", kernel_regularizer=tf.keras.regularizers.l1(0.01)),\n",
    "#     keras.layers.Dense(30, activation=keras.layers.LeakyReLU(alpha=0.2) ),\n",
    "#     keras.layers.Dense(30, activation=\"selu\"),\n",
    "#     keras.layers.Dense(30, activation=\"relu\"),\n",
    "    keras.layers.Dense(1)\n",
    "])\n",
    "\n",
    "# optimizer = keras.optimizers.SGD(lr=0.001, momentum=0.9)\n",
    "# model.compile(loss=\"mean_squared_error\", optimizer=optimizer)\n",
    "optimizer = keras.optimizers.Adam(lr=0.1)\n",
    "model.compile(loss=\"mean_absolute_error\", optimizer=optimizer)"
   ]
  },
  {
   "cell_type": "code",
   "execution_count": 20,
   "id": "c966ada4",
   "metadata": {
    "scrolled": true
   },
   "outputs": [
    {
     "name": "stdout",
     "output_type": "stream",
     "text": [
      "Epoch 1/100\n",
      "X.shape = (None, 1)\n",
      "gauss_grid.shape = (None, 5)\n",
      "X.shape = (None, 1)\n",
      "gauss_grid.shape = (None, 5)\n",
      "1/3 [=========>....................] - ETA: 0s - loss: 45.7887X.shape = (None, 1)\n",
      "gauss_grid.shape = (None, 5)\n",
      "3/3 [==============================] - 1s 73ms/step - loss: 41.6162 - val_loss: 33.4859\n",
      "Epoch 2/100\n",
      "3/3 [==============================] - 0s 13ms/step - loss: 39.4912 - val_loss: 31.3307\n",
      "Epoch 3/100\n",
      "3/3 [==============================] - 0s 23ms/step - loss: 35.5373 - val_loss: 27.6896\n",
      "Epoch 4/100\n",
      "3/3 [==============================] - 0s 32ms/step - loss: 29.4772 - val_loss: 22.5415\n",
      "Epoch 5/100\n",
      "3/3 [==============================] - 0s 27ms/step - loss: 21.9111 - val_loss: 16.0195\n",
      "Epoch 6/100\n",
      "3/3 [==============================] - 0s 18ms/step - loss: 16.9008 - val_loss: 11.6628\n",
      "Epoch 7/100\n",
      "3/3 [==============================] - 0s 29ms/step - loss: 16.6880 - val_loss: 9.3084\n",
      "Epoch 8/100\n",
      "3/3 [==============================] - 0s 30ms/step - loss: 16.0680 - val_loss: 14.1602\n",
      "Epoch 9/100\n",
      "3/3 [==============================] - 0s 27ms/step - loss: 16.9309 - val_loss: 11.8788\n",
      "Epoch 10/100\n",
      "3/3 [==============================] - 0s 23ms/step - loss: 15.0692 - val_loss: 9.1425\n",
      "Epoch 11/100\n",
      "3/3 [==============================] - 0s 31ms/step - loss: 13.8492 - val_loss: 10.8072\n",
      "Epoch 12/100\n",
      "3/3 [==============================] - 0s 24ms/step - loss: 13.2950 - val_loss: 11.0593\n",
      "Epoch 13/100\n",
      "3/3 [==============================] - 0s 16ms/step - loss: 12.9346 - val_loss: 11.1426\n",
      "Epoch 14/100\n",
      "3/3 [==============================] - 0s 16ms/step - loss: 12.6710 - val_loss: 11.1693\n",
      "Epoch 15/100\n",
      "3/3 [==============================] - 0s 19ms/step - loss: 11.8324 - val_loss: 10.4488\n",
      "Epoch 16/100\n",
      "3/3 [==============================] - 0s 16ms/step - loss: 11.5867 - val_loss: 10.4001\n",
      "Epoch 17/100\n",
      "3/3 [==============================] - 0s 16ms/step - loss: 11.3262 - val_loss: 11.7388\n",
      "Epoch 18/100\n",
      "3/3 [==============================] - 0s 22ms/step - loss: 10.9308 - val_loss: 11.2440\n",
      "Epoch 19/100\n",
      "3/3 [==============================] - 0s 16ms/step - loss: 10.6263 - val_loss: 12.2502\n",
      "Epoch 20/100\n",
      "3/3 [==============================] - 0s 16ms/step - loss: 10.7381 - val_loss: 13.6044\n",
      "Epoch 21/100\n",
      "3/3 [==============================] - 0s 20ms/step - loss: 10.6299 - val_loss: 12.6759\n",
      "Epoch 22/100\n",
      "3/3 [==============================] - 0s 14ms/step - loss: 10.6655 - val_loss: 12.6992\n",
      "Epoch 23/100\n",
      "3/3 [==============================] - 0s 20ms/step - loss: 9.8956 - val_loss: 13.4321\n",
      "Epoch 24/100\n",
      "3/3 [==============================] - 0s 15ms/step - loss: 10.4002 - val_loss: 12.5911\n",
      "Epoch 25/100\n",
      "3/3 [==============================] - 0s 21ms/step - loss: 9.8275 - val_loss: 13.1695\n",
      "Epoch 26/100\n",
      "3/3 [==============================] - 0s 16ms/step - loss: 9.9042 - val_loss: 13.0205\n",
      "Epoch 27/100\n",
      "3/3 [==============================] - 0s 17ms/step - loss: 9.7022 - val_loss: 12.5957\n",
      "Epoch 28/100\n",
      "3/3 [==============================] - 0s 20ms/step - loss: 10.3191 - val_loss: 12.3917\n",
      "Epoch 29/100\n",
      "3/3 [==============================] - 0s 16ms/step - loss: 9.8422 - val_loss: 12.8443\n",
      "Epoch 30/100\n",
      "3/3 [==============================] - 0s 21ms/step - loss: 9.6230 - val_loss: 12.2083\n",
      "Epoch 31/100\n",
      "3/3 [==============================] - 0s 21ms/step - loss: 9.9446 - val_loss: 12.0340\n",
      "Epoch 32/100\n",
      "3/3 [==============================] - 0s 20ms/step - loss: 9.7442 - val_loss: 12.8887\n",
      "Epoch 33/100\n",
      "3/3 [==============================] - 0s 16ms/step - loss: 9.9336 - val_loss: 12.0760\n",
      "Epoch 34/100\n",
      "3/3 [==============================] - 0s 17ms/step - loss: 9.7593 - val_loss: 12.1797\n",
      "Epoch 35/100\n",
      "3/3 [==============================] - 0s 19ms/step - loss: 9.5930 - val_loss: 12.2120\n",
      "Epoch 36/100\n",
      "3/3 [==============================] - 0s 17ms/step - loss: 9.8180 - val_loss: 12.0186\n",
      "Epoch 37/100\n",
      "3/3 [==============================] - 0s 19ms/step - loss: 10.2342 - val_loss: 12.7395\n",
      "Epoch 38/100\n",
      "3/3 [==============================] - 0s 16ms/step - loss: 10.2405 - val_loss: 11.9265\n",
      "Epoch 39/100\n",
      "3/3 [==============================] - 0s 20ms/step - loss: 9.8470 - val_loss: 11.9470\n",
      "Epoch 40/100\n",
      "3/3 [==============================] - 0s 16ms/step - loss: 9.6631 - val_loss: 11.9863\n",
      "Epoch 41/100\n",
      "3/3 [==============================] - 0s 22ms/step - loss: 9.6061 - val_loss: 11.6379\n",
      "Epoch 42/100\n",
      "3/3 [==============================] - 0s 17ms/step - loss: 9.5198 - val_loss: 11.8170\n",
      "Epoch 43/100\n",
      "3/3 [==============================] - 0s 15ms/step - loss: 9.5767 - val_loss: 11.6609\n",
      "Epoch 44/100\n",
      "3/3 [==============================] - 0s 17ms/step - loss: 9.6389 - val_loss: 11.6320\n",
      "Epoch 45/100\n",
      "3/3 [==============================] - 0s 23ms/step - loss: 9.6635 - val_loss: 11.6430\n",
      "Epoch 46/100\n",
      "3/3 [==============================] - 0s 18ms/step - loss: 9.5942 - val_loss: 11.2812\n",
      "Epoch 47/100\n",
      "3/3 [==============================] - 0s 16ms/step - loss: 9.5663 - val_loss: 10.8924\n",
      "Epoch 48/100\n",
      "3/3 [==============================] - 0s 17ms/step - loss: 9.5172 - val_loss: 10.9740\n",
      "Epoch 49/100\n",
      "3/3 [==============================] - 0s 20ms/step - loss: 9.3233 - val_loss: 10.6995\n",
      "Epoch 50/100\n",
      "3/3 [==============================] - 0s 15ms/step - loss: 9.3573 - val_loss: 10.7126\n",
      "Epoch 51/100\n",
      "3/3 [==============================] - 0s 21ms/step - loss: 9.3450 - val_loss: 11.0731\n",
      "Epoch 52/100\n",
      "3/3 [==============================] - 0s 20ms/step - loss: 9.3879 - val_loss: 10.6894\n",
      "Epoch 53/100\n",
      "3/3 [==============================] - 0s 22ms/step - loss: 9.4636 - val_loss: 10.5225\n",
      "Epoch 54/100\n",
      "3/3 [==============================] - 0s 22ms/step - loss: 9.2388 - val_loss: 10.3815\n",
      "Epoch 55/100\n",
      "3/3 [==============================] - 0s 17ms/step - loss: 9.7224 - val_loss: 10.1740\n",
      "Epoch 56/100\n",
      "3/3 [==============================] - 0s 19ms/step - loss: 9.7244 - val_loss: 10.2072\n",
      "Epoch 57/100\n",
      "3/3 [==============================] - 0s 20ms/step - loss: 9.2383 - val_loss: 10.4145\n",
      "Epoch 58/100\n",
      "3/3 [==============================] - 0s 15ms/step - loss: 9.2940 - val_loss: 11.3568\n",
      "Epoch 59/100\n",
      "3/3 [==============================] - 0s 17ms/step - loss: 9.3875 - val_loss: 10.9562\n",
      "Epoch 60/100\n",
      "3/3 [==============================] - 0s 19ms/step - loss: 9.2885 - val_loss: 10.8051\n",
      "Epoch 61/100\n",
      "3/3 [==============================] - 0s 18ms/step - loss: 9.7477 - val_loss: 10.5049\n",
      "Epoch 62/100\n",
      "3/3 [==============================] - 0s 19ms/step - loss: 9.3718 - val_loss: 10.5978\n",
      "Epoch 63/100\n",
      "3/3 [==============================] - 0s 17ms/step - loss: 9.4417 - val_loss: 10.5918\n",
      "Epoch 64/100\n",
      "3/3 [==============================] - 0s 18ms/step - loss: 9.0872 - val_loss: 11.7401\n",
      "Epoch 65/100\n",
      "3/3 [==============================] - 0s 19ms/step - loss: 10.2525 - val_loss: 10.5388\n",
      "Epoch 66/100\n",
      "3/3 [==============================] - 0s 16ms/step - loss: 9.9507 - val_loss: 10.8429\n",
      "Epoch 67/100\n",
      "3/3 [==============================] - 0s 21ms/step - loss: 10.1117 - val_loss: 11.5107\n",
      "Epoch 68/100\n",
      "3/3 [==============================] - 0s 17ms/step - loss: 9.6173 - val_loss: 10.5386\n",
      "Epoch 69/100\n",
      "3/3 [==============================] - 0s 16ms/step - loss: 9.8670 - val_loss: 10.5706\n",
      "Epoch 70/100\n",
      "3/3 [==============================] - 0s 20ms/step - loss: 9.8459 - val_loss: 11.4543\n",
      "Epoch 71/100\n",
      "3/3 [==============================] - 0s 16ms/step - loss: 9.7951 - val_loss: 11.2187\n",
      "Epoch 72/100\n",
      "3/3 [==============================] - 0s 21ms/step - loss: 9.6351 - val_loss: 11.1763\n",
      "Epoch 73/100\n",
      "3/3 [==============================] - 0s 16ms/step - loss: 9.9379 - val_loss: 10.5373\n",
      "Epoch 74/100\n",
      "3/3 [==============================] - 0s 21ms/step - loss: 10.1360 - val_loss: 12.3214\n",
      "Epoch 75/100\n",
      "3/3 [==============================] - 0s 15ms/step - loss: 9.9993 - val_loss: 9.6667\n",
      "Epoch 76/100\n",
      "3/3 [==============================] - 0s 23ms/step - loss: 10.2903 - val_loss: 9.6064\n",
      "Epoch 77/100\n",
      "3/3 [==============================] - 0s 17ms/step - loss: 9.9856 - val_loss: 10.8696\n",
      "Epoch 78/100\n",
      "3/3 [==============================] - 0s 15ms/step - loss: 9.7835 - val_loss: 9.9528\n",
      "Epoch 79/100\n",
      "3/3 [==============================] - 0s 17ms/step - loss: 9.2206 - val_loss: 10.2379\n",
      "Epoch 80/100\n"
     ]
    },
    {
     "name": "stdout",
     "output_type": "stream",
     "text": [
      "3/3 [==============================] - 0s 20ms/step - loss: 9.1640 - val_loss: 10.6103\n",
      "Epoch 81/100\n",
      "3/3 [==============================] - 0s 16ms/step - loss: 9.2578 - val_loss: 9.7309\n",
      "Epoch 82/100\n",
      "3/3 [==============================] - 0s 18ms/step - loss: 9.0943 - val_loss: 9.5314\n",
      "Epoch 83/100\n",
      "3/3 [==============================] - 0s 19ms/step - loss: 9.2255 - val_loss: 9.3195\n",
      "Epoch 84/100\n",
      "3/3 [==============================] - 0s 16ms/step - loss: 9.3741 - val_loss: 9.1937\n",
      "Epoch 85/100\n",
      "3/3 [==============================] - 0s 17ms/step - loss: 9.1307 - val_loss: 9.3889\n",
      "Epoch 86/100\n",
      "3/3 [==============================] - 0s 20ms/step - loss: 9.1797 - val_loss: 9.4093\n",
      "Epoch 87/100\n",
      "3/3 [==============================] - 0s 16ms/step - loss: 9.1403 - val_loss: 10.2029\n",
      "Epoch 88/100\n",
      "3/3 [==============================] - ETA: 0s - loss: 9.552 - 0s 21ms/step - loss: 9.2690 - val_loss: 11.0161\n",
      "Epoch 89/100\n",
      "3/3 [==============================] - 0s 16ms/step - loss: 9.3511 - val_loss: 10.6698\n",
      "Epoch 90/100\n",
      "3/3 [==============================] - 0s 16ms/step - loss: 9.2508 - val_loss: 10.1620\n",
      "Epoch 91/100\n",
      "3/3 [==============================] - 0s 20ms/step - loss: 9.1504 - val_loss: 9.4884\n",
      "Epoch 92/100\n",
      "3/3 [==============================] - 0s 16ms/step - loss: 9.3491 - val_loss: 9.1331\n",
      "Epoch 93/100\n",
      "3/3 [==============================] - 0s 20ms/step - loss: 9.2713 - val_loss: 9.0531\n",
      "Epoch 94/100\n",
      "3/3 [==============================] - 0s 16ms/step - loss: 9.5351 - val_loss: 9.0435\n",
      "Epoch 95/100\n",
      "3/3 [==============================] - 0s 21ms/step - loss: 9.0602 - val_loss: 9.2875\n",
      "Epoch 96/100\n",
      "3/3 [==============================] - 0s 17ms/step - loss: 9.0204 - val_loss: 9.4438\n",
      "Epoch 97/100\n",
      "3/3 [==============================] - 0s 15ms/step - loss: 9.4856 - val_loss: 9.4667\n",
      "Epoch 98/100\n",
      "3/3 [==============================] - 0s 21ms/step - loss: 9.2377 - val_loss: 9.9754\n",
      "Epoch 99/100\n",
      "3/3 [==============================] - 0s 20ms/step - loss: 9.1778 - val_loss: 9.2571\n",
      "Epoch 100/100\n",
      "3/3 [==============================] - 0s 18ms/step - loss: 9.8688 - val_loss: 9.1467\n"
     ]
    }
   ],
   "source": [
    "history = model.fit(X_train, y_train, epochs=100,\n",
    "                    validation_data=(X_valid, y_valid))"
   ]
  },
  {
   "cell_type": "code",
   "execution_count": 21,
   "id": "4d550f88",
   "metadata": {},
   "outputs": [
    {
     "name": "stdout",
     "output_type": "stream",
     "text": [
      "Saving figure grid_num_training_curve\n"
     ]
    },
    {
     "data": {
      "image/png": "[encoded data removed]",
      "text/plain": [
       "<Figure size 576x360 with 1 Axes>"
      ]
     },
     "metadata": {
      "needs_background": "light"
     },
     "output_type": "display_data"
    }
   ],
   "source": [
    "import pandas as pd\n",
    "\n",
    "pd.DataFrame(history.history).plot(figsize=(8, 5))\n",
    "plt.grid(True)\n",
    "# plt.gca().set_ylim(0, 1)\n",
    "save_fig(\"grid_num_training_curve\")\n",
    "plt.show()"
   ]
  },
  {
   "cell_type": "code",
   "execution_count": 22,
   "id": "5487653c",
   "metadata": {},
   "outputs": [
    {
     "name": "stdout",
     "output_type": "stream",
     "text": [
      "X.shape = (None, 1)\n",
      "gauss_grid.shape = (None, 5)\n",
      "Saving figure grid_num_prediction\n"
     ]
    },
    {
     "data": {
      "image/png": "[encoded data removed]",
      "text/plain": [
       "<Figure size 432x288 with 1 Axes>"
      ]
     },
     "metadata": {
      "needs_background": "light"
     },
     "output_type": "display_data"
    }
   ],
   "source": [
    "# X_new = np.linspace(-5, 5, 100).reshape(100, 1)\n",
    "# y_new = model.predict(X_new)\n",
    "#\n",
    "# plt.plot(X_train, y_train, \"b.\")\n",
    "draw_points(X_train, y_train, sid_train)\n",
    "# plt.plot(X_new, y_new, \"r-\", linewidth=2, label=\"Predictions\")\n",
    "draw_func(model.predict, mark='r-', linewidth=2, label=\"Predictions\")\n",
    "draw_normal_func(func_dict)\n",
    "plt.xlabel(\"$x_1$\", fontsize=18)\n",
    "plt.ylabel(\"$y$\", rotation=0, fontsize=18)\n",
    "plt.legend(loc=\"upper left\", fontsize=14)\n",
    "# plt.axis([-3, 3, 0, 10])\n",
    "save_fig(\"grid_num_prediction\")\n",
    "plt.show()"
   ]
  },
  {
   "cell_type": "code",
   "execution_count": 23,
   "id": "f9c053a4",
   "metadata": {},
   "outputs": [
    {
     "name": "stdout",
     "output_type": "stream",
     "text": [
      "y_func.shape = (100, 1)\n",
      "y_gt.shape = (100, 1)\n"
     ]
    },
    {
     "data": {
      "text/plain": [
       "4.51637312191551"
      ]
     },
     "execution_count": 23,
     "metadata": {},
     "output_type": "execute_result"
    }
   ],
   "source": [
    "get_prediction_error(model.predict, func_dict, name=\"grid-num\")"
   ]
  },
  {
   "cell_type": "markdown",
   "id": "fe65d614",
   "metadata": {},
   "source": [
    "# Grid & Regression by Classification (grid --> grid)"
   ]
  },
  {
   "cell_type": "code",
   "execution_count": 24,
   "id": "3d35615e",
   "metadata": {},
   "outputs": [],
   "source": [
    "class num2grid_np():\n",
    "    def __init__(self, units, x_min=-10, x_max=10, sigma=1.0):\n",
    "        self.units = units\n",
    "        self.x_min = x_min\n",
    "        self.x_max = x_max\n",
    "        self.sigma = sigma\n",
    "        self.sigma2 = self.sigma**2\n",
    "        self.x_grid = np.linspace(self.x_min, self.x_max, self.units, endpoint=True)\n",
    "        print(\"self.x_grid = %s\" % str(self.x_grid))\n",
    "        \n",
    "    def convert(self, X):\n",
    "        gauss_grid = np.exp( -(self.x_grid - X)**2 / (2.0*self.sigma2) )\n",
    "#         if len(gauss_grid.shape) == 1:\n",
    "#             gauss_grid = gauss_grid.reshape([1,-1])\n",
    "#         grid_sum = np.sum(gauss_grid, axis=1, keepdims=True)\n",
    "        grid_sum = np.sum(gauss_grid, axis=-1, keepdims=True)\n",
    "        gauss_grid = gauss_grid / grid_sum\n",
    "        return gauss_grid\n",
    "    \n",
    "    def inv_convert(self, grid):\n",
    "#         if len(grid.shape) == 1:\n",
    "#             grid = grid.reshape([1,-1])\n",
    "#         grid_sum = np.sum(grid, axis=1)\n",
    "        grid_sum = np.sum(grid, axis=-1)\n",
    "#         print(grid_sum)\n",
    "        exp_num = np.sum((self.x_grid * grid), axis=-1) / grid_sum # element-wise\n",
    "        return exp_num\n",
    "    \n",
    "    def get_statistic(self, grid):\n",
    "        grid_sum = np.sum(grid, axis=-1)\n",
    "        _mean = np.sum((self.x_grid * grid), axis=-1) / grid_sum # element-wise\n",
    "        _var  = np.sum( ((self.x_grid.reshape((1,-1)) - _mean.reshape((-1,1)))**2 * grid), axis=-1) / grid_sum # element-wise\n",
    "        # print(\"(_mean, _var) = (%f, %f)\" % (_mean, _var))\n",
    "        _stddev = np.sqrt(_var)\n",
    "        return _mean, _stddev"
   ]
  },
  {
   "cell_type": "code",
   "execution_count": 25,
   "id": "4903180b",
   "metadata": {},
   "outputs": [
    {
     "name": "stdout",
     "output_type": "stream",
     "text": [
      "self.x_grid = [-100.          -95.91836735  -91.83673469  -87.75510204  -83.67346939\n",
      "  -79.59183673  -75.51020408  -71.42857143  -67.34693878  -63.26530612\n",
      "  -59.18367347  -55.10204082  -51.02040816  -46.93877551  -42.85714286\n",
      "  -38.7755102   -34.69387755  -30.6122449   -26.53061224  -22.44897959\n",
      "  -18.36734694  -14.28571429  -10.20408163   -6.12244898   -2.04081633\n",
      "    2.04081633    6.12244898   10.20408163   14.28571429   18.36734694\n",
      "   22.44897959   26.53061224   30.6122449    34.69387755   38.7755102\n",
      "   42.85714286   46.93877551   51.02040816   55.10204082   59.18367347\n",
      "   63.26530612   67.34693878   71.42857143   75.51020408   79.59183673\n",
      "   83.67346939   87.75510204   91.83673469   95.91836735  100.        ]\n"
     ]
    }
   ],
   "source": [
    "# class_num = 10 # 10\n",
    "# n2g = num2grid_np(class_num, x_min=-100.0, x_max=100.0, sigma=20.0) # 20.0\n",
    "# class_num = 20\n",
    "# n2g = num2grid_np(class_num, x_min=-100.0, x_max=100.0, sigma=15.0) # 20.0\n",
    "class_num = 50\n",
    "n2g = num2grid_np(class_num, x_min=-100.0, x_max=100.0, sigma=6.0) # 5.0 "
   ]
  },
  {
   "cell_type": "code",
   "execution_count": 26,
   "id": "dce05258",
   "metadata": {},
   "outputs": [
    {
     "name": "stdout",
     "output_type": "stream",
     "text": [
      "[[3.57995092e-60 2.08100846e-55 7.61538914e-51 1.75441300e-46\n",
      "  2.54444491e-42 2.32314196e-38 1.33530332e-34 4.83176258e-31\n",
      "  1.10065884e-27 1.57841554e-24 1.42498879e-21 8.09884396e-19\n",
      "  2.89771784e-16 6.52695532e-14 9.25521826e-12 8.26198061e-10\n",
      "  4.64304784e-08 1.64264466e-06 3.65852120e-05 5.12966502e-04\n",
      "  4.52786966e-03 2.51605603e-02 8.80173281e-02 1.93837381e-01\n",
      "  2.68737559e-01 2.34552834e-01 1.28876722e-01 4.45789421e-02\n",
      "  9.70748025e-03 1.33077537e-03 1.14848275e-04 6.23972825e-06\n",
      "  2.13416679e-07 4.59528573e-09 6.22899760e-11 5.31551427e-13\n",
      "  2.85557712e-15 9.65748361e-18 2.05615356e-20 2.75593262e-23\n",
      "  2.32542921e-26 1.23526215e-29 4.13082337e-33 8.69632169e-37\n",
      "  1.15254011e-40 9.61607812e-45 5.05081425e-49 1.67011468e-53\n",
      "  3.47658354e-58 4.55596654e-63]]\n"
     ]
    }
   ],
   "source": [
    "# grid_1 = n2g.convert(-1.2)\n",
    "grid_1 = n2g.convert([[-1.2]])\n",
    "print(grid_1)"
   ]
  },
  {
   "cell_type": "code",
   "execution_count": 27,
   "id": "48203fe2",
   "metadata": {},
   "outputs": [
    {
     "data": {
      "text/plain": [
       "array([-1.2])"
      ]
     },
     "execution_count": 27,
     "metadata": {},
     "output_type": "execute_result"
    }
   ],
   "source": [
    "n2g.inv_convert(grid_1)"
   ]
  },
  {
   "cell_type": "code",
   "execution_count": 28,
   "id": "a741b6d1",
   "metadata": {},
   "outputs": [
    {
     "data": {
      "text/plain": [
       "(array([-1.2]), array([6.]))"
      ]
     },
     "execution_count": 28,
     "metadata": {},
     "output_type": "execute_result"
    }
   ],
   "source": [
    "n2g.get_statistic(grid_1)"
   ]
  },
  {
   "cell_type": "markdown",
   "id": "bdc0b9a0",
   "metadata": {},
   "source": [
    "### Convert the labels to grid (pre-processing)"
   ]
  },
  {
   "cell_type": "code",
   "execution_count": 29,
   "id": "39c7fa96",
   "metadata": {},
   "outputs": [],
   "source": [
    "y_train_grid = n2g.convert(y_train)\n",
    "y_valid_grid = n2g.convert(y_valid)"
   ]
  },
  {
   "cell_type": "code",
   "execution_count": 30,
   "id": "f577a751",
   "metadata": {},
   "outputs": [
    {
     "name": "stdout",
     "output_type": "stream",
     "text": [
      "(80, 50)\n",
      "(20, 50)\n"
     ]
    }
   ],
   "source": [
    "print(y_train_grid.shape)\n",
    "print(y_valid_grid.shape)"
   ]
  },
  {
   "cell_type": "code",
   "execution_count": 31,
   "id": "71610af1",
   "metadata": {},
   "outputs": [
    {
     "name": "stdout",
     "output_type": "stream",
     "text": [
      "X.shape = (None, 1)\n",
      "gauss_grid.shape = (None, 5)\n"
     ]
    },
    {
     "name": "stderr",
     "output_type": "stream",
     "text": [
      "C:\\Users\\benso\\anaconda3\\envs\\ml\\lib\\site-packages\\keras\\optimizer_v2\\gradient_descent.py:102: UserWarning: The `lr` argument is deprecated, use `learning_rate` instead.\n",
      "  super(SGD, self).__init__(name, **kwargs)\n"
     ]
    }
   ],
   "source": [
    "model = keras.models.Sequential([\n",
    "#     keras.layers.Dense(30, activation=\"relu\", input_shape=X_train.shape[1:]),\n",
    "    num2grid(5,x_min=-10, x_max=10, sigma=3.0, input_shape=X_train.shape[1:]),\n",
    "    keras.layers.Dense(30, activation=\"relu\"),\n",
    "#     keras.layers.Dense(100, activation=\"relu\", kernel_regularizer=tf.keras.regularizers.l1(0.01)),\n",
    "    keras.layers.Dense(class_num, activation=\"softmax\"),\n",
    "])\n",
    "\n",
    "optimizer = keras.optimizers.SGD(lr=0.2, momentum=0.9)\n",
    "model.compile(loss=\"categorical_crossentropy\", optimizer=optimizer)"
   ]
  },
  {
   "cell_type": "code",
   "execution_count": 32,
   "id": "e2244aee",
   "metadata": {
    "scrolled": true
   },
   "outputs": [
    {
     "name": "stdout",
     "output_type": "stream",
     "text": [
      "Epoch 1/100\n",
      "X.shape = (None, 1)\n",
      "gauss_grid.shape = (None, 5)\n",
      "X.shape = (None, 1)\n",
      "gauss_grid.shape = (None, 5)\n",
      "1/3 [=========>....................] - ETA: 0s - loss: 3.9430X.shape = (None, 1)\n",
      "gauss_grid.shape = (None, 5)\n",
      "3/3 [==============================] - 1s 88ms/step - loss: 3.9496 - val_loss: 3.9080\n",
      "Epoch 2/100\n",
      "3/3 [==============================] - 0s 15ms/step - loss: 3.9095 - val_loss: 3.8703\n",
      "Epoch 3/100\n",
      "3/3 [==============================] - 0s 28ms/step - loss: 3.8548 - val_loss: 3.8328\n",
      "Epoch 4/100\n",
      "3/3 [==============================] - 0s 29ms/step - loss: 3.7997 - val_loss: 3.7956\n",
      "Epoch 5/100\n",
      "3/3 [==============================] - 0s 19ms/step - loss: 3.7378 - val_loss: 3.7525\n",
      "Epoch 6/100\n",
      "3/3 [==============================] - 0s 26ms/step - loss: 3.6624 - val_loss: 3.6953\n",
      "Epoch 7/100\n",
      "3/3 [==============================] - 0s 37ms/step - loss: 3.5734 - val_loss: 3.6337\n",
      "Epoch 8/100\n",
      "3/3 [==============================] - 0s 31ms/step - loss: 3.4745 - val_loss: 3.5650\n",
      "Epoch 9/100\n",
      "3/3 [==============================] - 0s 18ms/step - loss: 3.3705 - val_loss: 3.5006\n",
      "Epoch 10/100\n",
      "3/3 [==============================] - 0s 30ms/step - loss: 3.2718 - val_loss: 3.4162\n",
      "Epoch 11/100\n",
      "3/3 [==============================] - 0s 19ms/step - loss: 3.1870 - val_loss: 3.3355\n",
      "Epoch 12/100\n",
      "3/3 [==============================] - 0s 20ms/step - loss: 3.1191 - val_loss: 3.2342\n",
      "Epoch 13/100\n",
      "3/3 [==============================] - 0s 18ms/step - loss: 3.0716 - val_loss: 3.1291\n",
      "Epoch 14/100\n",
      "3/3 [==============================] - 0s 19ms/step - loss: 3.0276 - val_loss: 3.0447\n",
      "Epoch 15/100\n",
      "3/3 [==============================] - 0s 18ms/step - loss: 3.0025 - val_loss: 2.9967\n",
      "Epoch 16/100\n",
      "3/3 [==============================] - 0s 15ms/step - loss: 2.9748 - val_loss: 2.9984\n",
      "Epoch 17/100\n",
      "3/3 [==============================] - 0s 20ms/step - loss: 2.9544 - val_loss: 3.0092\n",
      "Epoch 18/100\n",
      "3/3 [==============================] - 0s 15ms/step - loss: 2.9264 - val_loss: 3.0123\n",
      "Epoch 19/100\n",
      "3/3 [==============================] - 0s 25ms/step - loss: 2.8961 - val_loss: 3.0383\n",
      "Epoch 20/100\n",
      "3/3 [==============================] - 0s 13ms/step - loss: 2.8845 - val_loss: 3.0617\n",
      "Epoch 21/100\n",
      "3/3 [==============================] - 0s 27ms/step - loss: 2.8508 - val_loss: 3.0368\n",
      "Epoch 22/100\n",
      "3/3 [==============================] - 0s 21ms/step - loss: 2.8305 - val_loss: 2.9941\n",
      "Epoch 23/100\n",
      "3/3 [==============================] - 0s 14ms/step - loss: 2.8170 - val_loss: 3.0045\n",
      "Epoch 24/100\n",
      "3/3 [==============================] - 0s 15ms/step - loss: 2.7831 - val_loss: 2.9562\n",
      "Epoch 25/100\n",
      "3/3 [==============================] - 0s 19ms/step - loss: 2.7759 - val_loss: 2.9579\n",
      "Epoch 26/100\n",
      "3/3 [==============================] - 0s 15ms/step - loss: 2.7480 - val_loss: 2.9075\n",
      "Epoch 27/100\n",
      "3/3 [==============================] - 0s 17ms/step - loss: 2.7377 - val_loss: 2.9246\n",
      "Epoch 28/100\n",
      "3/3 [==============================] - 0s 18ms/step - loss: 2.7139 - val_loss: 2.9486\n",
      "Epoch 29/100\n",
      "3/3 [==============================] - 0s 14ms/step - loss: 2.7035 - val_loss: 2.9332\n",
      "Epoch 30/100\n",
      "3/3 [==============================] - 0s 19ms/step - loss: 2.6754 - val_loss: 2.8292\n",
      "Epoch 31/100\n",
      "3/3 [==============================] - 0s 18ms/step - loss: 2.6766 - val_loss: 2.8049\n",
      "Epoch 32/100\n",
      "3/3 [==============================] - 0s 16ms/step - loss: 2.6476 - val_loss: 2.8322\n",
      "Epoch 33/100\n",
      "3/3 [==============================] - 0s 18ms/step - loss: 2.6394 - val_loss: 2.8918\n",
      "Epoch 34/100\n",
      "3/3 [==============================] - 0s 20ms/step - loss: 2.6291 - val_loss: 2.8219\n",
      "Epoch 35/100\n",
      "3/3 [==============================] - 0s 16ms/step - loss: 2.6126 - val_loss: 2.8096\n",
      "Epoch 36/100\n",
      "3/3 [==============================] - 0s 19ms/step - loss: 2.6082 - val_loss: 2.8571\n",
      "Epoch 37/100\n",
      "3/3 [==============================] - 0s 16ms/step - loss: 2.5966 - val_loss: 2.8443\n",
      "Epoch 38/100\n",
      "3/3 [==============================] - 0s 20ms/step - loss: 2.5936 - val_loss: 2.7377\n",
      "Epoch 39/100\n",
      "3/3 [==============================] - 0s 16ms/step - loss: 2.5767 - val_loss: 2.7611\n",
      "Epoch 40/100\n",
      "3/3 [==============================] - 0s 20ms/step - loss: 2.5656 - val_loss: 2.7962\n",
      "Epoch 41/100\n",
      "3/3 [==============================] - 0s 20ms/step - loss: 2.5635 - val_loss: 2.7272\n",
      "Epoch 42/100\n",
      "3/3 [==============================] - 0s 16ms/step - loss: 2.5499 - val_loss: 2.7761\n",
      "Epoch 43/100\n",
      "3/3 [==============================] - 0s 17ms/step - loss: 2.5451 - val_loss: 2.7927\n",
      "Epoch 44/100\n",
      "3/3 [==============================] - 0s 19ms/step - loss: 2.5363 - val_loss: 2.7469\n",
      "Epoch 45/100\n",
      "3/3 [==============================] - 0s 23ms/step - loss: 2.5214 - val_loss: 2.7035\n",
      "Epoch 46/100\n",
      "3/3 [==============================] - 0s 21ms/step - loss: 2.5173 - val_loss: 2.6884\n",
      "Epoch 47/100\n",
      "3/3 [==============================] - 0s 19ms/step - loss: 2.5109 - val_loss: 2.7042\n",
      "Epoch 48/100\n",
      "3/3 [==============================] - 0s 16ms/step - loss: 2.5164 - val_loss: 2.7520\n",
      "Epoch 49/100\n",
      "3/3 [==============================] - ETA: 0s - loss: 2.708 - 0s 20ms/step - loss: 2.5173 - val_loss: 2.7239\n",
      "Epoch 50/100\n",
      "3/3 [==============================] - 0s 14ms/step - loss: 2.5055 - val_loss: 2.6854\n",
      "Epoch 51/100\n",
      "3/3 [==============================] - 0s 20ms/step - loss: 2.5054 - val_loss: 2.7160\n",
      "Epoch 52/100\n",
      "3/3 [==============================] - 0s 16ms/step - loss: 2.4786 - val_loss: 2.7889\n",
      "Epoch 53/100\n",
      "3/3 [==============================] - 0s 18ms/step - loss: 2.5124 - val_loss: 2.7426\n",
      "Epoch 54/100\n",
      "3/3 [==============================] - 0s 19ms/step - loss: 2.4911 - val_loss: 2.6306\n",
      "Epoch 55/100\n",
      "3/3 [==============================] - 0s 17ms/step - loss: 2.4900 - val_loss: 2.6307\n",
      "Epoch 56/100\n",
      "3/3 [==============================] - 0s 17ms/step - loss: 2.4859 - val_loss: 2.6765\n",
      "Epoch 57/100\n",
      "3/3 [==============================] - 0s 21ms/step - loss: 2.4738 - val_loss: 2.7230\n",
      "Epoch 58/100\n",
      "3/3 [==============================] - 0s 20ms/step - loss: 2.4743 - val_loss: 2.6996\n",
      "Epoch 59/100\n",
      "3/3 [==============================] - 0s 16ms/step - loss: 2.4684 - val_loss: 2.6631\n",
      "Epoch 60/100\n",
      "3/3 [==============================] - 0s 17ms/step - loss: 2.4648 - val_loss: 2.6505\n",
      "Epoch 61/100\n",
      "3/3 [==============================] - 0s 20ms/step - loss: 2.4608 - val_loss: 2.6384\n",
      "Epoch 62/100\n",
      "3/3 [==============================] - 0s 15ms/step - loss: 2.4597 - val_loss: 2.6438\n",
      "Epoch 63/100\n",
      "3/3 [==============================] - 0s 20ms/step - loss: 2.4549 - val_loss: 2.6646\n",
      "Epoch 64/100\n",
      "3/3 [==============================] - 0s 16ms/step - loss: 2.4591 - val_loss: 2.6407\n",
      "Epoch 65/100\n",
      "3/3 [==============================] - 0s 17ms/step - loss: 2.4626 - val_loss: 2.6286\n",
      "Epoch 66/100\n",
      "3/3 [==============================] - 0s 19ms/step - loss: 2.4629 - val_loss: 2.6623\n",
      "Epoch 67/100\n",
      "3/3 [==============================] - 0s 17ms/step - loss: 2.4611 - val_loss: 2.6663\n",
      "Epoch 68/100\n",
      "3/3 [==============================] - 0s 23ms/step - loss: 2.4553 - val_loss: 2.6010\n",
      "Epoch 69/100\n",
      "3/3 [==============================] - 0s 17ms/step - loss: 2.4493 - val_loss: 2.6426\n",
      "Epoch 70/100\n",
      "3/3 [==============================] - 0s 21ms/step - loss: 2.4551 - val_loss: 2.6353\n",
      "Epoch 71/100\n",
      "3/3 [==============================] - 0s 17ms/step - loss: 2.4317 - val_loss: 2.6214\n",
      "Epoch 72/100\n",
      "3/3 [==============================] - 0s 19ms/step - loss: 2.4302 - val_loss: 2.6202\n",
      "Epoch 73/100\n",
      "3/3 [==============================] - 0s 16ms/step - loss: 2.4294 - val_loss: 2.6287\n",
      "Epoch 74/100\n",
      "3/3 [==============================] - 0s 17ms/step - loss: 2.4359 - val_loss: 2.6096\n",
      "Epoch 75/100\n",
      "3/3 [==============================] - 0s 20ms/step - loss: 2.4300 - val_loss: 2.5761\n",
      "Epoch 76/100\n",
      "3/3 [==============================] - 0s 16ms/step - loss: 2.4212 - val_loss: 2.5913\n",
      "Epoch 77/100\n",
      "3/3 [==============================] - 0s 19ms/step - loss: 2.4287 - val_loss: 2.6124\n",
      "Epoch 78/100\n",
      "3/3 [==============================] - 0s 16ms/step - loss: 2.4216 - val_loss: 2.6477\n",
      "Epoch 79/100\n",
      "3/3 [==============================] - 0s 19ms/step - loss: 2.4306 - val_loss: 2.6560\n",
      "Epoch 80/100\n",
      "3/3 [==============================] - 0s 18ms/step - loss: 2.4242 - val_loss: 2.5621\n",
      "Epoch 81/100\n"
     ]
    },
    {
     "name": "stdout",
     "output_type": "stream",
     "text": [
      "3/3 [==============================] - 0s 18ms/step - loss: 2.4335 - val_loss: 2.6292\n",
      "Epoch 82/100\n",
      "3/3 [==============================] - 0s 19ms/step - loss: 2.4172 - val_loss: 2.5509\n",
      "Epoch 83/100\n",
      "3/3 [==============================] - 0s 21ms/step - loss: 2.4286 - val_loss: 2.5321\n",
      "Epoch 84/100\n",
      "3/3 [==============================] - 0s 13ms/step - loss: 2.4111 - val_loss: 2.6715\n",
      "Epoch 85/100\n",
      "3/3 [==============================] - 0s 18ms/step - loss: 2.4151 - val_loss: 2.6831\n",
      "Epoch 86/100\n",
      "3/3 [==============================] - 0s 17ms/step - loss: 2.4066 - val_loss: 2.6310\n",
      "Epoch 87/100\n",
      "3/3 [==============================] - 0s 20ms/step - loss: 2.4204 - val_loss: 2.6018\n",
      "Epoch 88/100\n",
      "3/3 [==============================] - 0s 16ms/step - loss: 2.4130 - val_loss: 2.5604\n",
      "Epoch 89/100\n",
      "3/3 [==============================] - 0s 17ms/step - loss: 2.4289 - val_loss: 2.6138\n",
      "Epoch 90/100\n",
      "3/3 [==============================] - 0s 20ms/step - loss: 2.3975 - val_loss: 2.6480\n",
      "Epoch 91/100\n",
      "3/3 [==============================] - 0s 25ms/step - loss: 2.4188 - val_loss: 2.6691\n",
      "Epoch 92/100\n",
      "3/3 [==============================] - 0s 17ms/step - loss: 2.4185 - val_loss: 2.6142\n",
      "Epoch 93/100\n",
      "3/3 [==============================] - 0s 15ms/step - loss: 2.4247 - val_loss: 2.5102\n",
      "Epoch 94/100\n",
      "3/3 [==============================] - 0s 18ms/step - loss: 2.4102 - val_loss: 2.5878\n",
      "Epoch 95/100\n",
      "3/3 [==============================] - 0s 14ms/step - loss: 2.4071 - val_loss: 2.5901\n",
      "Epoch 96/100\n",
      "3/3 [==============================] - 0s 19ms/step - loss: 2.3967 - val_loss: 2.5514\n",
      "Epoch 97/100\n",
      "3/3 [==============================] - 0s 20ms/step - loss: 2.3983 - val_loss: 2.6020\n",
      "Epoch 98/100\n",
      "3/3 [==============================] - 0s 16ms/step - loss: 2.3978 - val_loss: 2.6844\n",
      "Epoch 99/100\n",
      "3/3 [==============================] - 0s 21ms/step - loss: 2.4115 - val_loss: 2.5765\n",
      "Epoch 100/100\n",
      "3/3 [==============================] - 0s 16ms/step - loss: 2.3975 - val_loss: 2.4937\n"
     ]
    }
   ],
   "source": [
    "history = model.fit(X_train, y_train_grid, epochs=100,\n",
    "                    validation_data=(X_valid, y_valid_grid))"
   ]
  },
  {
   "cell_type": "code",
   "execution_count": 33,
   "id": "390834c9",
   "metadata": {},
   "outputs": [
    {
     "name": "stdout",
     "output_type": "stream",
     "text": [
      "Saving figure grid_rbc_training_curve\n"
     ]
    },
    {
     "data": {
      "image/png": "[encoded data removed]",
      "text/plain": [
       "<Figure size 576x360 with 1 Axes>"
      ]
     },
     "metadata": {
      "needs_background": "light"
     },
     "output_type": "display_data"
    }
   ],
   "source": [
    "import pandas as pd\n",
    "\n",
    "pd.DataFrame(history.history).plot(figsize=(8, 5))\n",
    "plt.grid(True)\n",
    "# plt.gca().set_ylim(0, 1)\n",
    "save_fig(\"grid_rbc_training_curve\")\n",
    "plt.show()"
   ]
  },
  {
   "cell_type": "code",
   "execution_count": 34,
   "id": "6fba3b6a",
   "metadata": {},
   "outputs": [
    {
     "name": "stdout",
     "output_type": "stream",
     "text": [
      "X.shape = (None, 1)\n",
      "gauss_grid.shape = (None, 5)\n",
      "Saving figure grid_rbc_prediction\n"
     ]
    },
    {
     "data": {
      "image/png": "[encoded data removed]",
      "text/plain": [
       "<Figure size 432x288 with 1 Axes>"
      ]
     },
     "metadata": {
      "needs_background": "light"
     },
     "output_type": "display_data"
    }
   ],
   "source": [
    "# X_new = np.linspace(-5, 5, 100).reshape(100, 1)\n",
    "# y_new_proba = model.predict(X_new)\n",
    "# y_new = n2g.inv_convert(y_new_proba)\n",
    "#\n",
    "# plt.plot(X_train, y_train, \"b.\")\n",
    "draw_points(X_train, y_train, sid_train)\n",
    "# plt.plot(X_new, y_new, \"r-\", linewidth=2, label=\"Predictions\")\n",
    "draw_func((lambda X: n2g.inv_convert(model.predict(X)) ), mark='r-', linewidth=2, label=\"Predictions\")\n",
    "draw_normal_func(func_dict)\n",
    "plt.xlabel(\"$x_1$\", fontsize=18)\n",
    "plt.ylabel(\"$y$\", rotation=0, fontsize=18)\n",
    "plt.legend(loc=\"upper left\", fontsize=14)\n",
    "# plt.axis([-3, 3, 0, 10])\n",
    "save_fig(\"grid_rbc_prediction\")\n",
    "plt.show()"
   ]
  },
  {
   "cell_type": "code",
   "execution_count": 35,
   "id": "fc059ba5",
   "metadata": {},
   "outputs": [
    {
     "name": "stdout",
     "output_type": "stream",
     "text": [
      "y_func.shape = (100, 1)\n",
      "y_gt.shape = (100, 1)\n"
     ]
    },
    {
     "data": {
      "text/plain": [
       "3.981074341519405"
      ]
     },
     "execution_count": 35,
     "metadata": {},
     "output_type": "execute_result"
    }
   ],
   "source": [
    "get_prediction_error((lambda X: n2g.inv_convert(model.predict(X)) ), func_dict, name=\"grid-rbc\")"
   ]
  },
  {
   "cell_type": "code",
   "execution_count": 36,
   "id": "edcf26db",
   "metadata": {},
   "outputs": [
    {
     "name": "stdout",
     "output_type": "stream",
     "text": [
      "Saving figure grid_rbc_proba\n"
     ]
    },
    {
     "data": {
      "image/png": "[encoded data removed]",
      "text/plain": [
       "<Figure size 432x288 with 1 Axes>"
      ]
     },
     "metadata": {
      "needs_background": "light"
     },
     "output_type": "display_data"
    }
   ],
   "source": [
    "X_new = np.linspace(-5, 5, 100).reshape(100, 1)\n",
    "y_new_proba = model.predict(X_new)\n",
    "# y_new = n2g.inv_convert(y_new_proba)\n",
    "#\n",
    "xv, yv = np.meshgrid(X_new, np.linspace(n2g.x_min, n2g.x_max, n2g.units))\n",
    "# print(xv)\n",
    "# print(yv)\n",
    "plt.pcolormesh(xv, yv, y_new_proba.T, shading=\"nearest\")\n",
    "save_fig(\"grid_rbc_proba\")"
   ]
  },
  {
   "cell_type": "markdown",
   "id": "4064d3b5",
   "metadata": {},
   "source": [
    "### Draw the 1-sigma boundary line"
   ]
  },
  {
   "cell_type": "code",
   "execution_count": 37,
   "id": "247e8712",
   "metadata": {},
   "outputs": [
    {
     "name": "stdout",
     "output_type": "stream",
     "text": [
      "Saving figure grid_rbc_prediction_1sigma\n"
     ]
    },
    {
     "data": {
      "image/png": "[encoded data removed]",
      "text/plain": [
       "<Figure size 432x288 with 1 Axes>"
      ]
     },
     "metadata": {
      "needs_background": "light"
     },
     "output_type": "display_data"
    }
   ],
   "source": [
    "def n_sigma_boundary_line(X, n):\n",
    "    _mean, _sigma = n2g.get_statistic(model.predict(X))\n",
    "    return( _mean + n*_sigma)\n",
    "\n",
    "# plt.plot(X_train, y_train, \"b.\")\n",
    "draw_points(X_train, y_train, sid_train)\n",
    "#\n",
    "draw_func((lambda X: n2g.inv_convert(model.predict(X)) ), mark='r-', linewidth=2, label=\"Predictions\")\n",
    "draw_func((lambda X: n_sigma_boundary_line(X, +1.0) ), mark='k--', linewidth=1, label=\"$\\mu+\\sigma$\")\n",
    "draw_func((lambda X: n_sigma_boundary_line(X, -1.0) ), mark='k--', linewidth=1, label=\"$\\mu-\\sigma$\")\n",
    "#\n",
    "draw_normal_func(func_dict)\n",
    "plt.xlabel(\"$x_1$\", fontsize=18)\n",
    "plt.ylabel(\"$y$\", rotation=0, fontsize=18)\n",
    "plt.legend(loc=\"upper left\", fontsize=14)\n",
    "# plt.axis([-3, 3, 0, 10])\n",
    "save_fig(\"grid_rbc_prediction_1sigma\")\n",
    "plt.show()"
   ]
  },
  {
   "cell_type": "code",
   "execution_count": null,
   "id": "e6266336",
   "metadata": {},
   "outputs": [],
   "source": []
  },
  {
   "cell_type": "markdown",
   "id": "99a85ab5",
   "metadata": {},
   "source": [
    "# Grid & Regression by Classification + Offset Estimation (grid --> grid,num)"
   ]
  },
  {
   "cell_type": "code",
   "execution_count": 38,
   "id": "26440167",
   "metadata": {},
   "outputs": [],
   "source": [
    "class num2gridOffset_np():\n",
    "    def __init__(self, units, x_min=-10, x_max=10):\n",
    "        self.units = units\n",
    "        self.x_min = x_min\n",
    "        self.x_max = x_max\n",
    "        self.x_grid = np.linspace(self.x_min, self.x_max, self.units, endpoint=True)\n",
    "        # bins\n",
    "        x_space = np.average(self.x_grid[1:] - self.x_grid[:-1])\n",
    "        print(\"x_space = %f\" % x_space)\n",
    "        x_0 = self.x_grid[0] - 0.5 * x_space\n",
    "        self.x_bins = [x_0 + _i*x_space for _i in range(len(self.x_grid)+1)]\n",
    "        print(\"self.x_grid = %s\" % str(self.x_grid))\n",
    "#         print(\"self.x_bins = %s\" % str(self.x_bins))\n",
    "        \n",
    "    def convert(self, X):\n",
    "        '''\n",
    "        Convert a batch of number to one-hot class and numerical offset to each grid's center\n",
    "        (m, 1) --> (m, n_units, 2)\n",
    "        '''\n",
    "        X = np.array(X)\n",
    "        if len(X.shape) <= 1:\n",
    "            X = X.reshape((-1,1))\n",
    "        idxs_bin = np.digitize(X, self.x_bins, right=False) \n",
    "        idxs_grid = (idxs_bin - 1) + 1*(idxs_bin<= 0) - 1*(idxs_bin>=self.units)\n",
    "        print(idxs_grid.shape)\n",
    "        #\n",
    "        batch_size = X.shape[0]\n",
    "        grid = np.zeros((batch_size, self.units, 2))\n",
    "        # Fill in the values\n",
    "        grid[np.arange(batch_size), idxs_grid.reshape((-1,)), 0] = 1.0\n",
    "        grid[np.arange(batch_size), :, 1] = X - self.x_grid.reshape((1,-1)) # Offset\n",
    "        return grid\n",
    "    \n",
    "    def inv_convert(self, grid):\n",
    "        idxs_grid = np.argmax(grid[...,0], axis=1)\n",
    "        print(idxs_grid.shape)\n",
    "        #\n",
    "        batch_size = grid.shape[0]\n",
    "        offset_est = grid[np.arange(batch_size),idxs_grid,1]\n",
    "        print(offset_est.shape)\n",
    "        num_est = self.x_grid[idxs_grid].reshape((1,-1)) + offset_est\n",
    "        return num_est.reshape((-1,))"
   ]
  },
  {
   "cell_type": "code",
   "execution_count": 39,
   "id": "8b15e9ff",
   "metadata": {},
   "outputs": [
    {
     "name": "stdout",
     "output_type": "stream",
     "text": [
      "x_space = 22.222222\n",
      "self.x_grid = [-100.          -77.77777778  -55.55555556  -33.33333333  -11.11111111\n",
      "   11.11111111   33.33333333   55.55555556   77.77777778  100.        ]\n"
     ]
    }
   ],
   "source": [
    "class_num = 10 # 10\n",
    "n2go = num2gridOffset_np(class_num, x_min=-100.0, x_max=100.0) "
   ]
  },
  {
   "cell_type": "code",
   "execution_count": 40,
   "id": "8f6e7955",
   "metadata": {},
   "outputs": [
    {
     "name": "stdout",
     "output_type": "stream",
     "text": [
      "(2, 1)\n",
      "[[[   0.           98.8       ]\n",
      "  [   0.           76.57777778]\n",
      "  [   0.           54.35555556]\n",
      "  [   0.           32.13333333]\n",
      "  [   1.            9.91111111]\n",
      "  [   0.          -12.31111111]\n",
      "  [   0.          -34.53333333]\n",
      "  [   0.          -56.75555556]\n",
      "  [   0.          -78.97777778]\n",
      "  [   0.         -101.2       ]]\n",
      "\n",
      " [[   0.          150.5       ]\n",
      "  [   0.          128.27777778]\n",
      "  [   0.          106.05555556]\n",
      "  [   0.           83.83333333]\n",
      "  [   0.           61.61111111]\n",
      "  [   0.           39.38888889]\n",
      "  [   0.           17.16666667]\n",
      "  [   1.           -5.05555556]\n",
      "  [   0.          -27.27777778]\n",
      "  [   0.          -49.5       ]]]\n"
     ]
    }
   ],
   "source": [
    "# grid_1 = n2g.convert(-1.2)\n",
    "grid_1 = n2go.convert([[-1.2], [50.5]])\n",
    "print(grid_1)"
   ]
  },
  {
   "cell_type": "code",
   "execution_count": 41,
   "id": "48840dc5",
   "metadata": {},
   "outputs": [
    {
     "name": "stdout",
     "output_type": "stream",
     "text": [
      "(2,)\n",
      "(2,)\n"
     ]
    },
    {
     "data": {
      "text/plain": [
       "array([-1.2, 50.5])"
      ]
     },
     "execution_count": 41,
     "metadata": {},
     "output_type": "execute_result"
    }
   ],
   "source": [
    "n2go.inv_convert(grid_1)"
   ]
  },
  {
   "cell_type": "markdown",
   "id": "11683cea",
   "metadata": {},
   "source": [
    "### Convert the labels to grid (pre-processing)"
   ]
  },
  {
   "cell_type": "code",
   "execution_count": 42,
   "id": "472997cf",
   "metadata": {},
   "outputs": [
    {
     "name": "stdout",
     "output_type": "stream",
     "text": [
      "(80, 1)\n",
      "(20, 1)\n"
     ]
    }
   ],
   "source": [
    "y_train_grid_offset = n2go.convert(y_train)\n",
    "y_valid_grid_offset = n2go.convert(y_valid)"
   ]
  },
  {
   "cell_type": "code",
   "execution_count": 43,
   "id": "71f08d76",
   "metadata": {},
   "outputs": [
    {
     "name": "stdout",
     "output_type": "stream",
     "text": [
      "(80, 10, 2)\n",
      "(20, 10, 2)\n"
     ]
    }
   ],
   "source": [
    "print(y_train_grid_offset.shape)\n",
    "print(y_valid_grid_offset.shape)"
   ]
  },
  {
   "cell_type": "code",
   "execution_count": 44,
   "id": "84b5b833",
   "metadata": {},
   "outputs": [
    {
     "name": "stdout",
     "output_type": "stream",
     "text": [
      "X.shape = (None, 1)\n",
      "gauss_grid.shape = (None, 5)\n"
     ]
    }
   ],
   "source": [
    "inputs = keras.layers.Input(shape=X_train.shape[1:])\n",
    "#\n",
    "z = num2grid(5,x_min=-10, x_max=10, sigma=3.0)(inputs)\n",
    "z = keras.layers.Dense(30, activation=\"selu\")(z)\n",
    "# Outputs\n",
    "z_proba = keras.layers.Dense(30, activation=\"relu\")(z)\n",
    "z_proba  = keras.layers.Dense(class_num, activation=\"softmax\")(z_proba)\n",
    "z_offset = keras.layers.Dense(class_num, activation=\"relu\")(z)\n",
    "z_offset = keras.layers.Dense(class_num)(z_offset)\n",
    "# Concatenate\n",
    "z_proba  = keras.layers.Reshape([class_num,1])(z_proba)\n",
    "z_offset = keras.layers.Reshape([class_num,1])(z_offset)\n",
    "out_cat = keras.layers.Concatenate(axis=-1)([z_proba, z_offset])\n",
    "#\n",
    "# Models for trainig and real usage\n",
    "model = keras.Model(inputs=[inputs], outputs=[out_cat])"
   ]
  },
  {
   "cell_type": "code",
   "execution_count": 45,
   "id": "e6482574",
   "metadata": {},
   "outputs": [],
   "source": [
    "# Customized loss function\n",
    "\n",
    "cce = keras.losses.CategoricalCrossentropy(reduction=keras.losses.Reduction.NONE)\n",
    "# cce(y_true, y_pred).numpy()\n",
    "\n",
    "def centerLoss_fn(y_true, y_pred):\n",
    "    #\n",
    "    y_true_proba = y_true[...,0]\n",
    "    y_true_value = y_true[...,1]\n",
    "    #\n",
    "    y_pred_proba = y_pred[...,0]\n",
    "    y_pred_value = y_pred[...,1]\n",
    "    \n",
    "    #\n",
    "    cce_loss = cce(y_true_proba, y_pred_proba) / class_num\n",
    "    #\n",
    "    y_true_value_est = tf.reduce_sum((y_true_proba * y_true_value), axis=-1)\n",
    "    y_pred_value_est = tf.reduce_sum((y_true_proba * y_pred_value), axis=-1)\n",
    "#     y_pred_value_est = tf.reduce_sum((y_pred_proba * y_pred_value), axis=-1)\n",
    "    value_loss = tf.abs(y_pred_value_est - y_true_value_est)\n",
    "    \n",
    "    # Total loss\n",
    "#     return (0.5*cce_loss + 0.5*value_loss )\n",
    "    return (0.2*cce_loss + 0.8*value_loss )\n",
    "#     return (cce_loss)\n",
    "#     return (value_loss )"
   ]
  },
  {
   "cell_type": "code",
   "execution_count": 46,
   "id": "60575755",
   "metadata": {},
   "outputs": [
    {
     "name": "stderr",
     "output_type": "stream",
     "text": [
      "C:\\Users\\benso\\anaconda3\\envs\\ml\\lib\\site-packages\\keras\\optimizer_v2\\adam.py:105: UserWarning: The `lr` argument is deprecated, use `learning_rate` instead.\n",
      "  super(Adam, self).__init__(name, **kwargs)\n"
     ]
    }
   ],
   "source": [
    "# optimizer = keras.optimizers.SGD(lr=0.1, momentum=0.9)\n",
    "optimizer = keras.optimizers.Adam(lr=0.05)\n",
    "model.compile(loss=centerLoss_fn, optimizer=optimizer)"
   ]
  },
  {
   "cell_type": "code",
   "execution_count": 47,
   "id": "09bc47a5",
   "metadata": {
    "scrolled": true
   },
   "outputs": [],
   "source": [
    "# history = model.fit(X_train, y_train_grid_offset, epochs=100,\n",
    "#                     validation_data=(X_valid, y_valid_grid_offset))"
   ]
  },
  {
   "cell_type": "code",
   "execution_count": 48,
   "id": "7ba1fe76",
   "metadata": {},
   "outputs": [],
   "source": [
    "# import pandas as pd\n",
    "\n",
    "# pd.DataFrame(history.history).plot(figsize=(8, 5))\n",
    "# plt.grid(True)\n",
    "# # plt.gca().set_ylim(0, 1)\n",
    "# save_fig(\"grid_rbcOffset_training_curve\")\n",
    "# plt.show()"
   ]
  },
  {
   "cell_type": "code",
   "execution_count": 49,
   "id": "47db8336",
   "metadata": {
    "scrolled": false
   },
   "outputs": [],
   "source": [
    "# # plt.plot(X_train, y_train, \"b.\")\n",
    "# draw_points(X_train, y_train, sid_train)\n",
    "# draw_func((lambda X: n2go.inv_convert(model.predict(X)) ), mark='r-', linewidth=2, label=\"Predictions\")\n",
    "# draw_normal_func(func_dict)\n",
    "# plt.xlabel(\"$x_1$\", fontsize=18)\n",
    "# plt.ylabel(\"$y$\", rotation=0, fontsize=18)\n",
    "# plt.legend(loc=\"upper left\", fontsize=14)\n",
    "# # plt.axis([-3, 3, 0, 10])\n",
    "# save_fig(\"grid_rbcOffset_prediction\")\n",
    "# plt.show()"
   ]
  },
  {
   "cell_type": "code",
   "execution_count": 50,
   "id": "46a1a384",
   "metadata": {},
   "outputs": [],
   "source": [
    "# get_prediction_error((lambda X: n2go.inv_convert(model.predict(X)) ), func_dict, name=\"grid-classOffset\")"
   ]
  },
  {
   "cell_type": "code",
   "execution_count": null,
   "id": "fff995a6",
   "metadata": {},
   "outputs": [],
   "source": []
  },
  {
   "cell_type": "markdown",
   "id": "a811f344",
   "metadata": {},
   "source": [
    "# Parametric Uncertainty/Distribution Estimation\n",
    "\n",
    "In this section, we try to estimate uncertainty (actually, fit the dataset distribution) with parametric reprecentation of a distribution instead of a discretized non-parametric representation.\n",
    "\n",
    "Possible solution includes\n",
    "- Quantile estimation with pinball loss (statistic)\n",
    "- Guassian distribution (fit a prabability distribution)"
   ]
  },
  {
   "cell_type": "markdown",
   "id": "175eb32d",
   "metadata": {},
   "source": [
    "## Quantile Estimation with Pinball Loss (grid --> parameters)\n",
    "\n",
    "Quantile estimation and pinball loss is based on the concept of statistic, which predict the value based on the rank of samples in the dataset.\n",
    "\n",
    "The outputs of the model are $(y_{10}, y_{90})$, 10% quantile prediction and 90% quantile prediction, respectively."
   ]
  },
  {
   "cell_type": "code",
   "execution_count": 51,
   "id": "1d1ef92d",
   "metadata": {},
   "outputs": [],
   "source": [
    "# quantile_list = [0.5]\n",
    "# quantile_list = [0.9]\n",
    "quantile_list = [0.1, 0.9] # Use hidden layer with 30 neurons\n",
    "# quantile_list = [0.05, 0.95]\n",
    "# quantile_list = [0.25, 0.75]\n",
    "# quantile_list = [0.1, 0.5, 0.9]\n",
    "# quantile_list = [0.1, 0.3, 0.7, 0.9]\n",
    "# quantile_list = [0.1, 0.2, 0.3, 0.4, 0.6, 0.7, 0.8, 0.9] # remove 0.5\n",
    "# quantile_list = [0.1, 0.2, 0.3, 0.4, 0.5, 0.6, 0.7, 0.8, 0.9] # Should use wider hidden layer (with many neurons) + L1 regularization\n",
    "num_quantile = len(quantile_list)"
   ]
  },
  {
   "cell_type": "code",
   "execution_count": 52,
   "id": "8e3fe57b",
   "metadata": {},
   "outputs": [
    {
     "name": "stdout",
     "output_type": "stream",
     "text": [
      "X.shape = (None, 1)\n",
      "gauss_grid.shape = (None, 5)\n"
     ]
    }
   ],
   "source": [
    "model = keras.models.Sequential([\n",
    "    num2grid(5,x_min=-10, x_max=10, sigma=3.0, input_shape=X_train.shape[1:]),\n",
    "#     num2grid(50,x_min=-10, x_max=10, sigma=0.5, input_shape=X_train.shape[1:]),\n",
    "    keras.layers.Dense(30, activation=\"relu\"),\n",
    "#     keras.layers.Dense(60, activation=\"relu\"),\n",
    "#     keras.layers.Dense(100, activation=\"relu\", kernel_regularizer=tf.keras.regularizers.l1(0.01)),\n",
    "#     keras.layers.Dense(30, activation=keras.layers.LeakyReLU(alpha=0.2) ),\n",
    "#     keras.layers.Dense(30, activation=\"selu\"),\n",
    "    keras.layers.Dense(num_quantile) # (y10, y90)\n",
    "])"
   ]
  },
  {
   "cell_type": "code",
   "execution_count": 53,
   "id": "bf131dc7",
   "metadata": {},
   "outputs": [],
   "source": [
    "# Customized loss function\n",
    "def pinballLoss_fn(y_true, y_pred, tau):\n",
    "    # tau: quantile, tau in [0.0, 1.0]\n",
    "    # y_true: label mean\n",
    "    # y_pred: predicted tau quantile\n",
    "    _q = y_true - y_pred\n",
    "    return tf.math.maximum( (tau*_q), ((tau-1.0)*_q))\n",
    "    \n",
    "def pinballLoss_10_90_fn(y_true, y_pred):\n",
    "    #\n",
    "    return pinballLoss_fn(y_true, y_pred[:,0:1], 0.1) + pinballLoss_fn(y_true, y_pred[:,1:2], 0.9)\n",
    "\n",
    "def pinballLoss_full_fn(y_true, y_pred):\n",
    "    #\n",
    "    pinball_losses = tf.stack( [pinballLoss_fn(y_true, y_pred[:, _i:(_i+1)], _tau) for _i, _tau in enumerate(quantile_list)], axis=1)\n",
    "    return tf.reduce_sum(pinball_losses, axis=1)"
   ]
  },
  {
   "cell_type": "code",
   "execution_count": 54,
   "id": "a71305d5",
   "metadata": {},
   "outputs": [],
   "source": [
    "# optimizer = keras.optimizers.SGD(lr=0.1, momentum=0.9)\n",
    "optimizer = keras.optimizers.Adam(lr=0.1)\n",
    "# model.compile(loss=pinballLoss_10_90_fn, optimizer=optimizer)\n",
    "model.compile(loss=pinballLoss_full_fn, optimizer=optimizer)"
   ]
  },
  {
   "cell_type": "code",
   "execution_count": 55,
   "id": "d935c409",
   "metadata": {
    "scrolled": true
   },
   "outputs": [
    {
     "name": "stdout",
     "output_type": "stream",
     "text": [
      "Epoch 1/100\n",
      "X.shape = (None, 1)\n",
      "gauss_grid.shape = (None, 5)\n",
      "X.shape = (None, 1)\n",
      "gauss_grid.shape = (None, 5)\n",
      "1/3 [=========>....................] - ETA: 0s - loss: 39.4415X.shape = (None, 1)\n",
      "gauss_grid.shape = (None, 5)\n",
      "3/3 [==============================] - 1s 100ms/step - loss: 41.0019 - val_loss: 31.0356\n",
      "Epoch 2/100\n",
      "3/3 [==============================] - 0s 17ms/step - loss: 36.1498 - val_loss: 25.1155\n",
      "Epoch 3/100\n",
      "3/3 [==============================] - 0s 34ms/step - loss: 28.0641 - val_loss: 17.0445\n",
      "Epoch 4/100\n",
      "3/3 [==============================] - 0s 23ms/step - loss: 19.9484 - val_loss: 11.4422\n",
      "Epoch 5/100\n",
      "3/3 [==============================] - 0s 27ms/step - loss: 14.6156 - val_loss: 12.5001\n",
      "Epoch 6/100\n",
      "3/3 [==============================] - 0s 31ms/step - loss: 13.6592 - val_loss: 13.8328\n",
      "Epoch 7/100\n",
      "3/3 [==============================] - 0s 35ms/step - loss: 14.0180 - val_loss: 12.8954\n",
      "Epoch 8/100\n",
      "3/3 [==============================] - 0s 24ms/step - loss: 13.0535 - val_loss: 10.8810\n",
      "Epoch 9/100\n",
      "3/3 [==============================] - 0s 36ms/step - loss: 11.2026 - val_loss: 9.4354\n",
      "Epoch 10/100\n",
      "3/3 [==============================] - 0s 28ms/step - loss: 9.2637 - val_loss: 7.7911\n",
      "Epoch 11/100\n",
      "3/3 [==============================] - 0s 21ms/step - loss: 8.0598 - val_loss: 5.6464\n",
      "Epoch 12/100\n",
      "3/3 [==============================] - 0s 25ms/step - loss: 7.4184 - val_loss: 4.6355\n",
      "Epoch 13/100\n",
      "3/3 [==============================] - 0s 21ms/step - loss: 6.4531 - val_loss: 5.5109\n",
      "Epoch 14/100\n",
      "3/3 [==============================] - 0s 24ms/step - loss: 6.4039 - val_loss: 5.5335\n",
      "Epoch 15/100\n",
      "3/3 [==============================] - 0s 24ms/step - loss: 5.6461 - val_loss: 5.4063\n",
      "Epoch 16/100\n",
      "3/3 [==============================] - 0s 19ms/step - loss: 5.7015 - val_loss: 5.5265\n",
      "Epoch 17/100\n",
      "3/3 [==============================] - 0s 14ms/step - loss: 5.8009 - val_loss: 5.0136\n",
      "Epoch 18/100\n",
      "3/3 [==============================] - 0s 21ms/step - loss: 5.4218 - val_loss: 4.8206\n",
      "Epoch 19/100\n",
      "3/3 [==============================] - 0s 14ms/step - loss: 5.0937 - val_loss: 4.1643\n",
      "Epoch 20/100\n",
      "3/3 [==============================] - 0s 20ms/step - loss: 4.9228 - val_loss: 3.8386\n",
      "Epoch 21/100\n",
      "3/3 [==============================] - 0s 21ms/step - loss: 4.8653 - val_loss: 4.0230\n",
      "Epoch 22/100\n",
      "3/3 [==============================] - 0s 20ms/step - loss: 4.7928 - val_loss: 4.4633\n",
      "Epoch 23/100\n",
      "3/3 [==============================] - 0s 17ms/step - loss: 4.6308 - val_loss: 4.5140\n",
      "Epoch 24/100\n",
      "3/3 [==============================] - 0s 16ms/step - loss: 4.6282 - val_loss: 4.3099\n",
      "Epoch 25/100\n",
      "3/3 [==============================] - 0s 20ms/step - loss: 4.5473 - val_loss: 4.1316\n",
      "Epoch 26/100\n",
      "3/3 [==============================] - 0s 19ms/step - loss: 4.3802 - val_loss: 4.0500\n",
      "Epoch 27/100\n",
      "3/3 [==============================] - 0s 19ms/step - loss: 4.3231 - val_loss: 4.1702\n",
      "Epoch 28/100\n",
      "3/3 [==============================] - 0s 19ms/step - loss: 4.2416 - val_loss: 4.2176\n",
      "Epoch 29/100\n",
      "3/3 [==============================] - 0s 21ms/step - loss: 4.1531 - val_loss: 4.0196\n",
      "Epoch 30/100\n",
      "3/3 [==============================] - 0s 21ms/step - loss: 4.0729 - val_loss: 3.9460\n",
      "Epoch 31/100\n",
      "3/3 [==============================] - 0s 16ms/step - loss: 3.9771 - val_loss: 3.9484\n",
      "Epoch 32/100\n",
      "3/3 [==============================] - 0s 17ms/step - loss: 3.9201 - val_loss: 3.7684\n",
      "Epoch 33/100\n",
      "3/3 [==============================] - 0s 17ms/step - loss: 3.9316 - val_loss: 3.6123\n",
      "Epoch 34/100\n",
      "3/3 [==============================] - 0s 18ms/step - loss: 3.7901 - val_loss: 3.7631\n",
      "Epoch 35/100\n",
      "3/3 [==============================] - 0s 16ms/step - loss: 3.7771 - val_loss: 3.5993\n",
      "Epoch 36/100\n",
      "3/3 [==============================] - 0s 16ms/step - loss: 3.5921 - val_loss: 3.5002\n",
      "Epoch 37/100\n",
      "3/3 [==============================] - 0s 17ms/step - loss: 3.5413 - val_loss: 3.4101\n",
      "Epoch 38/100\n",
      "3/3 [==============================] - 0s 21ms/step - loss: 3.4728 - val_loss: 3.2285\n",
      "Epoch 39/100\n",
      "3/3 [==============================] - 0s 14ms/step - loss: 3.3996 - val_loss: 3.3938\n",
      "Epoch 40/100\n",
      "3/3 [==============================] - 0s 18ms/step - loss: 3.3733 - val_loss: 3.4722\n",
      "Epoch 41/100\n",
      "3/3 [==============================] - 0s 21ms/step - loss: 3.2557 - val_loss: 3.4349\n",
      "Epoch 42/100\n",
      "3/3 [==============================] - 0s 17ms/step - loss: 3.1793 - val_loss: 3.4031\n",
      "Epoch 43/100\n",
      "3/3 [==============================] - 0s 16ms/step - loss: 3.1669 - val_loss: 3.5117\n",
      "Epoch 44/100\n",
      "3/3 [==============================] - ETA: 0s - loss: 2.897 - 0s 21ms/step - loss: 3.0795 - val_loss: 3.2971\n",
      "Epoch 45/100\n",
      "3/3 [==============================] - 0s 17ms/step - loss: 3.0757 - val_loss: 3.6796\n",
      "Epoch 46/100\n",
      "3/3 [==============================] - 0s 17ms/step - loss: 3.1314 - val_loss: 3.1257\n",
      "Epoch 47/100\n",
      "3/3 [==============================] - 0s 22ms/step - loss: 3.1723 - val_loss: 3.2894\n",
      "Epoch 48/100\n",
      "3/3 [==============================] - 0s 17ms/step - loss: 3.1982 - val_loss: 3.3084\n",
      "Epoch 49/100\n",
      "3/3 [==============================] - 0s 21ms/step - loss: 3.2168 - val_loss: 3.2000\n",
      "Epoch 50/100\n",
      "3/3 [==============================] - 0s 17ms/step - loss: 3.1076 - val_loss: 2.7850\n",
      "Epoch 51/100\n",
      "3/3 [==============================] - 0s 23ms/step - loss: 2.9348 - val_loss: 3.2858\n",
      "Epoch 52/100\n",
      "3/3 [==============================] - 0s 17ms/step - loss: 2.9236 - val_loss: 3.2184\n",
      "Epoch 53/100\n",
      "3/3 [==============================] - 0s 20ms/step - loss: 2.9359 - val_loss: 3.1035\n",
      "Epoch 54/100\n",
      "3/3 [==============================] - 0s 17ms/step - loss: 2.8588 - val_loss: 2.6791\n",
      "Epoch 55/100\n",
      "3/3 [==============================] - 0s 18ms/step - loss: 2.7559 - val_loss: 2.6484\n",
      "Epoch 56/100\n",
      "3/3 [==============================] - 0s 22ms/step - loss: 2.6768 - val_loss: 2.8346\n",
      "Epoch 57/100\n",
      "3/3 [==============================] - 0s 18ms/step - loss: 2.6916 - val_loss: 2.7850\n",
      "Epoch 58/100\n",
      "3/3 [==============================] - 0s 16ms/step - loss: 2.6894 - val_loss: 2.7293\n",
      "Epoch 59/100\n",
      "3/3 [==============================] - 0s 19ms/step - loss: 2.6325 - val_loss: 2.7205\n",
      "Epoch 60/100\n",
      "3/3 [==============================] - 0s 22ms/step - loss: 2.6293 - val_loss: 2.6801\n",
      "Epoch 61/100\n",
      "3/3 [==============================] - 0s 17ms/step - loss: 2.6122 - val_loss: 2.6261\n",
      "Epoch 62/100\n",
      "3/3 [==============================] - 0s 21ms/step - loss: 2.7144 - val_loss: 2.7857\n",
      "Epoch 63/100\n",
      "3/3 [==============================] - 0s 17ms/step - loss: 2.7592 - val_loss: 2.6682\n",
      "Epoch 64/100\n",
      "3/3 [==============================] - 0s 17ms/step - loss: 2.5203 - val_loss: 2.8357\n",
      "Epoch 65/100\n",
      "3/3 [==============================] - 0s 18ms/step - loss: 2.6127 - val_loss: 2.6128\n",
      "Epoch 66/100\n",
      "3/3 [==============================] - 0s 22ms/step - loss: 2.6158 - val_loss: 2.6417\n",
      "Epoch 67/100\n",
      "3/3 [==============================] - 0s 21ms/step - loss: 2.6075 - val_loss: 2.6399\n",
      "Epoch 68/100\n",
      "3/3 [==============================] - 0s 16ms/step - loss: 2.6650 - val_loss: 2.7275\n",
      "Epoch 69/100\n",
      "3/3 [==============================] - 0s 22ms/step - loss: 2.7843 - val_loss: 2.7433\n",
      "Epoch 70/100\n",
      "3/3 [==============================] - 0s 20ms/step - loss: 2.8218 - val_loss: 2.8428\n",
      "Epoch 71/100\n",
      "3/3 [==============================] - 0s 25ms/step - loss: 2.6250 - val_loss: 2.6487\n",
      "Epoch 72/100\n",
      "3/3 [==============================] - 0s 30ms/step - loss: 2.7971 - val_loss: 2.7612\n",
      "Epoch 73/100\n",
      "3/3 [==============================] - 0s 15ms/step - loss: 2.7480 - val_loss: 2.9387\n",
      "Epoch 74/100\n",
      "3/3 [==============================] - 0s 17ms/step - loss: 2.7728 - val_loss: 3.5500\n",
      "Epoch 75/100\n",
      "3/3 [==============================] - 0s 17ms/step - loss: 2.8849 - val_loss: 3.0608\n",
      "Epoch 76/100\n",
      "3/3 [==============================] - 0s 17ms/step - loss: 3.1967 - val_loss: 3.0511\n",
      "Epoch 77/100\n",
      "3/3 [==============================] - 0s 20ms/step - loss: 3.2564 - val_loss: 3.4685\n",
      "Epoch 78/100\n",
      "3/3 [==============================] - 0s 16ms/step - loss: 3.2159 - val_loss: 3.0913\n",
      "Epoch 79/100\n",
      "3/3 [==============================] - 0s 18ms/step - loss: 2.7201 - val_loss: 2.9732\n",
      "Epoch 80/100\n",
      "3/3 [==============================] - 0s 20ms/step - loss: 3.0416 - val_loss: 2.6450\n",
      "Epoch 81/100\n"
     ]
    },
    {
     "name": "stdout",
     "output_type": "stream",
     "text": [
      "3/3 [==============================] - 0s 20ms/step - loss: 2.8415 - val_loss: 3.2071\n",
      "Epoch 82/100\n",
      "3/3 [==============================] - 0s 16ms/step - loss: 2.9939 - val_loss: 3.0157\n",
      "Epoch 83/100\n",
      "3/3 [==============================] - 0s 20ms/step - loss: 2.8839 - val_loss: 2.6939\n",
      "Epoch 84/100\n",
      "3/3 [==============================] - 0s 17ms/step - loss: 2.7038 - val_loss: 3.0167\n",
      "Epoch 85/100\n",
      "3/3 [==============================] - 0s 19ms/step - loss: 2.9627 - val_loss: 3.0622\n",
      "Epoch 86/100\n",
      "3/3 [==============================] - 0s 21ms/step - loss: 2.8825 - val_loss: 2.8756\n",
      "Epoch 87/100\n",
      "3/3 [==============================] - 0s 17ms/step - loss: 2.6476 - val_loss: 2.5802\n",
      "Epoch 88/100\n",
      "3/3 [==============================] - 0s 16ms/step - loss: 2.8423 - val_loss: 2.5806\n",
      "Epoch 89/100\n",
      "3/3 [==============================] - 0s 21ms/step - loss: 2.7418 - val_loss: 3.0807\n",
      "Epoch 90/100\n",
      "3/3 [==============================] - 0s 16ms/step - loss: 3.0542 - val_loss: 3.0647\n",
      "Epoch 91/100\n",
      "3/3 [==============================] - 0s 16ms/step - loss: 2.9314 - val_loss: 2.6531\n",
      "Epoch 92/100\n",
      "3/3 [==============================] - 0s 20ms/step - loss: 2.6689 - val_loss: 2.6009\n",
      "Epoch 93/100\n",
      "3/3 [==============================] - 0s 17ms/step - loss: 2.5930 - val_loss: 2.6255\n",
      "Epoch 94/100\n",
      "3/3 [==============================] - 0s 17ms/step - loss: 2.6647 - val_loss: 2.8331\n",
      "Epoch 95/100\n",
      "3/3 [==============================] - 0s 24ms/step - loss: 2.7059 - val_loss: 2.8763\n",
      "Epoch 96/100\n",
      "3/3 [==============================] - 0s 18ms/step - loss: 2.8079 - val_loss: 2.7293\n",
      "Epoch 97/100\n",
      "3/3 [==============================] - 0s 16ms/step - loss: 2.5560 - val_loss: 2.8162\n",
      "Epoch 98/100\n",
      "3/3 [==============================] - 0s 21ms/step - loss: 2.6165 - val_loss: 2.5264\n",
      "Epoch 99/100\n",
      "3/3 [==============================] - 0s 17ms/step - loss: 2.5849 - val_loss: 2.7577\n",
      "Epoch 100/100\n",
      "3/3 [==============================] - 0s 16ms/step - loss: 2.6080 - val_loss: 2.6062\n"
     ]
    }
   ],
   "source": [
    "history = model.fit(X_train, y_train, epochs=100,\n",
    "                    validation_data=(X_valid, y_valid))"
   ]
  },
  {
   "cell_type": "code",
   "execution_count": 56,
   "id": "e7fa5656",
   "metadata": {
    "scrolled": false
   },
   "outputs": [
    {
     "name": "stdout",
     "output_type": "stream",
     "text": [
      "Saving figure grid_quantile_training_curve\n"
     ]
    },
    {
     "data": {
      "image/png": "[encoded data removed]",
      "text/plain": [
       "<Figure size 576x360 with 1 Axes>"
      ]
     },
     "metadata": {
      "needs_background": "light"
     },
     "output_type": "display_data"
    }
   ],
   "source": [
    "import pandas as pd\n",
    "\n",
    "pd.DataFrame(history.history).plot(figsize=(8, 5))\n",
    "plt.grid(True)\n",
    "# plt.gca().set_ylim(0, 1)\n",
    "save_fig(\"grid_quantile_training_curve\")\n",
    "plt.show()"
   ]
  },
  {
   "cell_type": "markdown",
   "id": "a4a59dd6",
   "metadata": {},
   "source": [
    "### Draw the mean prediction curve averaged from all quantile predictions."
   ]
  },
  {
   "cell_type": "code",
   "execution_count": 57,
   "id": "0e5d0058",
   "metadata": {},
   "outputs": [
    {
     "name": "stdout",
     "output_type": "stream",
     "text": [
      "X.shape = (None, 1)\n",
      "gauss_grid.shape = (None, 5)\n",
      "Saving figure grid_quantile_prediction\n"
     ]
    },
    {
     "data": {
      "image/png": "[encoded data removed]",
      "text/plain": [
       "<Figure size 432x288 with 1 Axes>"
      ]
     },
     "metadata": {
      "needs_background": "light"
     },
     "output_type": "display_data"
    }
   ],
   "source": [
    "# plt.plot(X_train, y_train, \"b.\")\n",
    "draw_points(X_train, y_train, sid_train)\n",
    "draw_func((lambda X: np.average(model.predict(X), axis=-1) ), mark='r-', linewidth=2, label=\"Predictions\")\n",
    "# draw_func((lambda X: model.predict(X)[:,0] ), mark='k--', linewidth=1, label=\"$y_{%d}$\" % (quantile_list[0]*100))\n",
    "# draw_func((lambda X: model.predict(X)[:,-1] ), mark='k--', linewidth=1, label=\"$y_{%d}$\" % (quantile_list[-1]*100))\n",
    "draw_normal_func(func_dict)\n",
    "plt.xlabel(\"$x_1$\", fontsize=18)\n",
    "plt.ylabel(\"$y$\", rotation=0, fontsize=18)\n",
    "plt.legend(loc=\"upper left\", fontsize=14)\n",
    "# plt.axis([-3, 3, 0, 10])\n",
    "save_fig(\"grid_quantile_prediction\")\n",
    "plt.show()"
   ]
  },
  {
   "cell_type": "code",
   "execution_count": 58,
   "id": "f98d3ae8",
   "metadata": {},
   "outputs": [
    {
     "name": "stdout",
     "output_type": "stream",
     "text": [
      "y_func.shape = (100, 1)\n",
      "y_gt.shape = (100, 1)\n"
     ]
    },
    {
     "data": {
      "text/plain": [
       "1.4991892342836577"
      ]
     },
     "execution_count": 58,
     "metadata": {},
     "output_type": "execute_result"
    }
   ],
   "source": [
    "get_prediction_error((lambda X: np.average(model.predict(X), axis=-1) ), func_dict, name=\"grid-quantileR\")"
   ]
  },
  {
   "cell_type": "markdown",
   "id": "f79ac920",
   "metadata": {},
   "source": [
    "### Draw first and last quantile curve."
   ]
  },
  {
   "cell_type": "code",
   "execution_count": 59,
   "id": "42eeb254",
   "metadata": {},
   "outputs": [
    {
     "name": "stdout",
     "output_type": "stream",
     "text": [
      "Saving figure grid_quantile_boundary_quantiles\n"
     ]
    },
    {
     "data": {
      "image/png": "[encoded data removed]",
      "text/plain": [
       "<Figure size 432x288 with 1 Axes>"
      ]
     },
     "metadata": {
      "needs_background": "light"
     },
     "output_type": "display_data"
    }
   ],
   "source": [
    "# plt.plot(X_train, y_train, \"b.\")\n",
    "draw_points(X_train, y_train, sid_train)\n",
    "draw_func((lambda X: np.average(model.predict(X), axis=-1) ), mark='r-', linewidth=2, label=\"Predictions\")\n",
    "draw_func((lambda X: model.predict(X)[:,0] ), mark='k--', linewidth=1, label=\"$y_{%d}$\" % (quantile_list[0]*100))\n",
    "draw_func((lambda X: model.predict(X)[:,-1] ), mark='k--', linewidth=1, label=\"$y_{%d}$\" % (quantile_list[-1]*100))\n",
    "draw_normal_func(func_dict)\n",
    "plt.xlabel(\"$x_1$\", fontsize=18)\n",
    "plt.ylabel(\"$y$\", rotation=0, fontsize=18)\n",
    "plt.legend(loc=\"upper left\", fontsize=14)\n",
    "# plt.axis([-3, 3, 0, 10])\n",
    "save_fig(\"grid_quantile_boundary_quantiles\")\n",
    "plt.show()"
   ]
  },
  {
   "cell_type": "markdown",
   "id": "2a1b1b44",
   "metadata": {},
   "source": [
    "### Draw all quantile predictions"
   ]
  },
  {
   "cell_type": "code",
   "execution_count": 60,
   "id": "5e875238",
   "metadata": {},
   "outputs": [
    {
     "name": "stdout",
     "output_type": "stream",
     "text": [
      "Saving figure grid_quantile_all_quantiles\n"
     ]
    },
    {
     "data": {
      "image/png": "[encoded data removed]",
      "text/plain": [
       "<Figure size 432x288 with 1 Axes>"
      ]
     },
     "metadata": {
      "needs_background": "light"
     },
     "output_type": "display_data"
    }
   ],
   "source": [
    "# plt.plot(X_train, y_train, \"b.\")\n",
    "draw_points(X_train, y_train, sid_train)\n",
    "draw_func((lambda X: np.average(model.predict(X), axis=-1) ), mark='r-', linewidth=2, label=\"Predictions\")\n",
    "for _idx, _tau in enumerate(quantile_list):\n",
    "    draw_func((lambda X: model.predict(X)[:,_idx] ), mark='k--', linewidth=1, label=\"$y_{%d}$\" % (_tau*100))\n",
    "draw_normal_func(func_dict)\n",
    "plt.xlabel(\"$x_1$\", fontsize=18)\n",
    "plt.ylabel(\"$y$\", rotation=0, fontsize=18)\n",
    "plt.legend(loc=\"upper left\", fontsize=14)\n",
    "# plt.axis([-3, 3, 0, 10])\n",
    "save_fig(\"grid_quantile_all_quantiles\")\n",
    "plt.show()"
   ]
  },
  {
   "cell_type": "markdown",
   "id": "0693a8eb",
   "metadata": {},
   "source": [
    "### Multi-Quantiles as a Gaussian Distribution "
   ]
  },
  {
   "cell_type": "code",
   "execution_count": 61,
   "id": "11262fbe",
   "metadata": {},
   "outputs": [],
   "source": [
    "# def n_sigma_boundary_line(X, n):\n",
    "#     _y = model.predict(X)\n",
    "#     _mean = np.mean(_y, axis=-1)\n",
    "#     _sigma = np.std(_y, axis=-1)\n",
    "#     return( _mean + n*_sigma)\n",
    "\n",
    "# # plt.plot(X_train, y_train, \"b.\")\n",
    "# draw_points(X_train, y_train, sid_train)\n",
    "# #\n",
    "# draw_func((lambda X: np.average(model.predict(X), axis=-1) ), mark='r-', linewidth=2, label=\"Predictions\")\n",
    "# draw_func((lambda X: n_sigma_boundary_line(X, +1.0) ), mark='k--', linewidth=1, label=\"$\\mu+\\sigma$\")\n",
    "# draw_func((lambda X: n_sigma_boundary_line(X, -1.0) ), mark='k--', linewidth=1, label=\"$\\mu-\\sigma$\")\n",
    "# #\n",
    "# draw_normal_func(func_dict)\n",
    "# plt.xlabel(\"$x_1$\", fontsize=18)\n",
    "# plt.ylabel(\"$y$\", rotation=0, fontsize=18)\n",
    "# plt.legend(loc=\"upper left\", fontsize=14)\n",
    "# # plt.axis([-3, 3, 0, 10])\n",
    "# save_fig(\"grid_quantile_1sigma\")\n",
    "# plt.show()"
   ]
  },
  {
   "cell_type": "markdown",
   "id": "9a01aa69",
   "metadata": {},
   "source": [
    "## Gaussian Estimation with Gaussian Loss (grid-->parameters)\n",
    "\n",
    "Gaussain estimation requires the model to predict the mean and variance of a Gaussian distribution of the random variable regarded. The training purpose is to fit a Gaussian distribution to the data distribution (which is not necessay distributed as Gaussian).\n",
    "\n",
    "One possible solution, derived by BensonHuang, is that the model estimates $(\\mu, z)$, where $z=\\alpha ^{-1}log(\\sigma)$.\n",
    "The associated loss function can be $L_G(y, (\\mu,z)) = 0.5e^{-2\\alpha z}(y-\\mu)^2 + \\alpha z$."
   ]
  },
  {
   "cell_type": "code",
   "execution_count": 62,
   "id": "1a20d5dd",
   "metadata": {},
   "outputs": [],
   "source": [
    "alpha = 1.0\n",
    "# alpha = 0.01\n",
    "# alpha = 0.001"
   ]
  },
  {
   "cell_type": "code",
   "execution_count": 63,
   "id": "cb202ed2",
   "metadata": {},
   "outputs": [
    {
     "name": "stdout",
     "output_type": "stream",
     "text": [
      "X.shape = (None, 1)\n",
      "gauss_grid.shape = (None, 5)\n"
     ]
    }
   ],
   "source": [
    "model = keras.models.Sequential([\n",
    "    num2grid(5,x_min=-10, x_max=10, sigma=3.0, input_shape=X_train.shape[1:]),\n",
    "#     keras.layers.Dense(30, activation=\"relu\"),\n",
    "    keras.layers.Dense(60, activation=\"relu\"),\n",
    "#     keras.layers.Dense(30, activation=keras.layers.LeakyReLU(alpha=0.2) ),\n",
    "#     keras.layers.Dense(30, activation=\"selu\"),\n",
    "    keras.layers.Dense(2) # (mu, z)\n",
    "])"
   ]
  },
  {
   "cell_type": "code",
   "execution_count": 64,
   "id": "925f0a22",
   "metadata": {},
   "outputs": [
    {
     "name": "stdout",
     "output_type": "stream",
     "text": [
      "alpha = 1.000000\n"
     ]
    }
   ],
   "source": [
    "# Customized loss function\n",
    "print(\"alpha = %f\" % alpha)\n",
    "\n",
    "def GaussianLoss_fn(y_true, y_pred):\n",
    "    # y_true: label \n",
    "    # y_pred: (mu, z), z=log(sigma)\n",
    "    mu = y_pred[:, 0:1]\n",
    "    z  = y_pred[:, 1:2]\n",
    "    #\n",
    "    en2z = tf.math.exp((-2.0*alpha)*z)\n",
    "    ymu2 = (y_true - mu)**2\n",
    "    return (0.5*en2z*ymu2 + alpha*z)"
   ]
  },
  {
   "cell_type": "code",
   "execution_count": 65,
   "id": "1b388b4b",
   "metadata": {},
   "outputs": [],
   "source": [
    "# Learning rate scheduler\n",
    "learning_rate_switch_epoch_list = [30, 45]\n",
    "learning_rate_list = [0.001, 0.01, 0.1]\n",
    "# learning_rate_switch_epoch_list = [30, 80]\n",
    "# learning_rate_list = [0.01, 0.1, 0.01]\n",
    "#\n",
    "def piecewise_constant_fn(epoch):\n",
    "    for _i, epoch_s in enumerate(learning_rate_switch_epoch_list):\n",
    "        if epoch < epoch_s:\n",
    "            return learning_rate_list[_i]\n",
    "    return learning_rate_list[-1]\n",
    "\n",
    "lr_scheduler = keras.callbacks.LearningRateScheduler(piecewise_constant_fn)"
   ]
  },
  {
   "cell_type": "markdown",
   "id": "6ec2e05e",
   "metadata": {},
   "source": [
    "Third training with even greater speed"
   ]
  },
  {
   "cell_type": "code",
   "execution_count": 66,
   "id": "7a7e245b",
   "metadata": {},
   "outputs": [
    {
     "name": "stderr",
     "output_type": "stream",
     "text": [
      "C:\\Users\\benso\\anaconda3\\envs\\ml\\lib\\site-packages\\keras\\optimizer_v2\\adam.py:105: UserWarning: The `lr` argument is deprecated, use `learning_rate` instead.\n",
      "  super(Adam, self).__init__(name, **kwargs)\n"
     ]
    }
   ],
   "source": [
    "# optimizer = keras.optimizers.SGD(lr=0.1, momentum=0.9)\n",
    "optimizer = keras.optimizers.Adam(lr=0.1) # 0.1\n",
    "model.compile(loss=GaussianLoss_fn, optimizer=optimizer)"
   ]
  },
  {
   "cell_type": "code",
   "execution_count": 67,
   "id": "6d7b74a9",
   "metadata": {
    "scrolled": true
   },
   "outputs": [
    {
     "name": "stdout",
     "output_type": "stream",
     "text": [
      "Epoch 1/200\n",
      "X.shape = (None, 1)\n",
      "gauss_grid.shape = (None, 5)\n",
      "X.shape = (None, 1)\n",
      "gauss_grid.shape = (None, 5)\n",
      "1/3 [=========>....................] - ETA: 0s - loss: 1238.5996X.shape = (None, 1)\n",
      "gauss_grid.shape = (None, 5)\n",
      "3/3 [==============================] - 1s 80ms/step - loss: 503.3202 - val_loss: 6.4320\n",
      "Epoch 2/200\n",
      "3/3 [==============================] - 0s 18ms/step - loss: 8.2129 - val_loss: 12.3453\n",
      "Epoch 3/200\n",
      "3/3 [==============================] - 0s 31ms/step - loss: 13.7289 - val_loss: 16.6935\n",
      "Epoch 4/200\n",
      "3/3 [==============================] - 0s 48ms/step - loss: 17.6893 - val_loss: 19.5950\n",
      "Epoch 5/200\n",
      "3/3 [==============================] - 0s 21ms/step - loss: 20.2685 - val_loss: 21.2752\n",
      "Epoch 6/200\n",
      "3/3 [==============================] - 0s 25ms/step - loss: 21.6850 - val_loss: 21.9453\n",
      "Epoch 7/200\n",
      "3/3 [==============================] - 0s 30ms/step - loss: 22.1495 - val_loss: 21.7703\n",
      "Epoch 8/200\n",
      "3/3 [==============================] - 0s 28ms/step - loss: 21.8065 - val_loss: 20.8126\n",
      "Epoch 9/200\n",
      "3/3 [==============================] - 0s 30ms/step - loss: 20.6768 - val_loss: 18.9957\n",
      "Epoch 10/200\n",
      "3/3 [==============================] - 0s 34ms/step - loss: 18.7308 - val_loss: 16.2630\n",
      "Epoch 11/200\n",
      "3/3 [==============================] - 0s 19ms/step - loss: 15.8514 - val_loss: 12.5655\n",
      "Epoch 12/200\n",
      "3/3 [==============================] - 0s 21ms/step - loss: 12.0466 - val_loss: 7.8198\n",
      "Epoch 13/200\n",
      "3/3 [==============================] - 0s 24ms/step - loss: 7.8112 - val_loss: 7.3972\n",
      "Epoch 14/200\n",
      "3/3 [==============================] - 0s 24ms/step - loss: 6.8754 - val_loss: 5.7514\n",
      "Epoch 15/200\n",
      "3/3 [==============================] - 0s 16ms/step - loss: 6.0250 - val_loss: 6.1081\n",
      "Epoch 16/200\n",
      "3/3 [==============================] - 0s 22ms/step - loss: 5.7736 - val_loss: 5.8991\n",
      "Epoch 17/200\n",
      "3/3 [==============================] - 0s 16ms/step - loss: 5.9484 - val_loss: 5.8870\n",
      "Epoch 18/200\n",
      "3/3 [==============================] - 0s 21ms/step - loss: 5.6195 - val_loss: 6.1737\n",
      "Epoch 19/200\n",
      "3/3 [==============================] - 0s 16ms/step - loss: 5.7644 - val_loss: 5.6365\n",
      "Epoch 20/200\n",
      "3/3 [==============================] - 0s 16ms/step - loss: 5.1883 - val_loss: 4.4662\n",
      "Epoch 21/200\n",
      "3/3 [==============================] - 0s 23ms/step - loss: 4.4688 - val_loss: 3.9479\n",
      "Epoch 22/200\n",
      "3/3 [==============================] - 0s 14ms/step - loss: 4.2621 - val_loss: 3.7567\n",
      "Epoch 23/200\n",
      "3/3 [==============================] - 0s 16ms/step - loss: 4.0587 - val_loss: 4.0008\n",
      "Epoch 24/200\n",
      "3/3 [==============================] - 0s 21ms/step - loss: 4.2745 - val_loss: 4.1011\n",
      "Epoch 25/200\n",
      "3/3 [==============================] - 0s 17ms/step - loss: 4.3163 - val_loss: 3.9649\n",
      "Epoch 26/200\n",
      "3/3 [==============================] - 0s 17ms/step - loss: 4.1641 - val_loss: 3.8497\n",
      "Epoch 27/200\n",
      "3/3 [==============================] - 0s 20ms/step - loss: 3.9680 - val_loss: 3.6994\n",
      "Epoch 28/200\n",
      "3/3 [==============================] - 0s 16ms/step - loss: 3.9224 - val_loss: 3.6998\n",
      "Epoch 29/200\n",
      "3/3 [==============================] - 0s 18ms/step - loss: 3.9616 - val_loss: 3.7429\n",
      "Epoch 30/200\n",
      "3/3 [==============================] - 0s 20ms/step - loss: 3.9625 - val_loss: 3.6809\n",
      "Epoch 31/200\n",
      "3/3 [==============================] - 0s 17ms/step - loss: 3.8872 - val_loss: 3.6743\n",
      "Epoch 32/200\n",
      "3/3 [==============================] - 0s 21ms/step - loss: 3.8539 - val_loss: 3.7286\n",
      "Epoch 33/200\n",
      "3/3 [==============================] - 0s 22ms/step - loss: 3.8405 - val_loss: 3.7144\n",
      "Epoch 34/200\n",
      "3/3 [==============================] - 0s 14ms/step - loss: 3.8563 - val_loss: 3.7045\n",
      "Epoch 35/200\n",
      "3/3 [==============================] - 0s 21ms/step - loss: 3.8127 - val_loss: 3.6658\n",
      "Epoch 36/200\n",
      "3/3 [==============================] - 0s 24ms/step - loss: 3.7907 - val_loss: 3.6496\n",
      "Epoch 37/200\n",
      "3/3 [==============================] - 0s 18ms/step - loss: 3.7788 - val_loss: 3.6232\n",
      "Epoch 38/200\n",
      "3/3 [==============================] - 0s 21ms/step - loss: 3.7676 - val_loss: 3.6242\n",
      "Epoch 39/200\n",
      "3/3 [==============================] - 0s 18ms/step - loss: 3.7409 - val_loss: 3.6843\n",
      "Epoch 40/200\n",
      "3/3 [==============================] - 0s 18ms/step - loss: 3.7342 - val_loss: 3.6312\n",
      "Epoch 41/200\n",
      "3/3 [==============================] - 0s 21ms/step - loss: 3.7023 - val_loss: 3.5900\n",
      "Epoch 42/200\n",
      "3/3 [==============================] - 0s 17ms/step - loss: 3.6912 - val_loss: 3.5793\n",
      "Epoch 43/200\n",
      "3/3 [==============================] - 0s 16ms/step - loss: 3.6669 - val_loss: 3.5671\n",
      "Epoch 44/200\n",
      "3/3 [==============================] - 0s 19ms/step - loss: 3.6402 - val_loss: 3.5532\n",
      "Epoch 45/200\n",
      "3/3 [==============================] - 0s 20ms/step - loss: 3.6155 - val_loss: 3.5766\n",
      "Epoch 46/200\n",
      "3/3 [==============================] - 0s 16ms/step - loss: 3.5899 - val_loss: 3.5695\n",
      "Epoch 47/200\n",
      "3/3 [==============================] - 0s 19ms/step - loss: 3.5602 - val_loss: 3.4999\n",
      "Epoch 48/200\n",
      "3/3 [==============================] - 0s 16ms/step - loss: 3.5375 - val_loss: 3.4764\n",
      "Epoch 49/200\n",
      "3/3 [==============================] - 0s 17ms/step - loss: 3.5087 - val_loss: 3.4923\n",
      "Epoch 50/200\n",
      "3/3 [==============================] - 0s 16ms/step - loss: 3.4713 - val_loss: 3.4526\n",
      "Epoch 51/200\n",
      "3/3 [==============================] - 0s 19ms/step - loss: 3.4472 - val_loss: 3.4388\n",
      "Epoch 52/200\n",
      "3/3 [==============================] - 0s 16ms/step - loss: 3.4280 - val_loss: 3.4145\n",
      "Epoch 53/200\n",
      "3/3 [==============================] - 0s 18ms/step - loss: 3.3989 - val_loss: 3.3763\n",
      "Epoch 54/200\n",
      "3/3 [==============================] - 0s 24ms/step - loss: 3.3784 - val_loss: 3.3726\n",
      "Epoch 55/200\n",
      "3/3 [==============================] - 0s 14ms/step - loss: 3.3714 - val_loss: 3.3224\n",
      "Epoch 56/200\n",
      "3/3 [==============================] - 0s 16ms/step - loss: 3.3393 - val_loss: 3.3029\n",
      "Epoch 57/200\n",
      "3/3 [==============================] - 0s 20ms/step - loss: 3.3194 - val_loss: 3.3183\n",
      "Epoch 58/200\n",
      "3/3 [==============================] - 0s 16ms/step - loss: 3.3266 - val_loss: 3.2774\n",
      "Epoch 59/200\n",
      "3/3 [==============================] - 0s 22ms/step - loss: 3.3215 - val_loss: 3.2805\n",
      "Epoch 60/200\n",
      "3/3 [==============================] - 0s 19ms/step - loss: 3.3158 - val_loss: 3.3148\n",
      "Epoch 61/200\n",
      "3/3 [==============================] - 0s 17ms/step - loss: 3.2974 - val_loss: 3.2376\n",
      "Epoch 62/200\n",
      "3/3 [==============================] - 0s 20ms/step - loss: 3.2718 - val_loss: 3.2209\n",
      "Epoch 63/200\n",
      "3/3 [==============================] - 0s 18ms/step - loss: 3.2697 - val_loss: 3.2098\n",
      "Epoch 64/200\n",
      "3/3 [==============================] - 0s 21ms/step - loss: 3.2620 - val_loss: 3.2105\n",
      "Epoch 65/200\n",
      "3/3 [==============================] - 0s 19ms/step - loss: 3.2554 - val_loss: 3.2046\n",
      "Epoch 66/200\n",
      "3/3 [==============================] - 0s 16ms/step - loss: 3.2473 - val_loss: 3.2152\n",
      "Epoch 67/200\n",
      "3/3 [==============================] - 0s 17ms/step - loss: 3.2384 - val_loss: 3.2268\n",
      "Epoch 68/200\n",
      "3/3 [==============================] - 0s 17ms/step - loss: 3.2409 - val_loss: 3.2005\n",
      "Epoch 69/200\n",
      "3/3 [==============================] - 0s 19ms/step - loss: 3.2317 - val_loss: 3.1851\n",
      "Epoch 70/200\n",
      "3/3 [==============================] - 0s 16ms/step - loss: 3.2399 - val_loss: 3.1672\n",
      "Epoch 71/200\n",
      "3/3 [==============================] - 0s 18ms/step - loss: 3.2234 - val_loss: 3.1630\n",
      "Epoch 72/200\n",
      "3/3 [==============================] - 0s 20ms/step - loss: 3.2209 - val_loss: 3.1721\n",
      "Epoch 73/200\n",
      "3/3 [==============================] - 0s 17ms/step - loss: 3.2353 - val_loss: 3.1772\n",
      "Epoch 74/200\n",
      "3/3 [==============================] - 0s 19ms/step - loss: 3.2192 - val_loss: 3.1661\n",
      "Epoch 75/200\n",
      "3/3 [==============================] - 0s 18ms/step - loss: 3.2138 - val_loss: 3.1747\n",
      "Epoch 76/200\n",
      "3/3 [==============================] - 0s 17ms/step - loss: 3.2113 - val_loss: 3.1717\n",
      "Epoch 77/200\n",
      "3/3 [==============================] - 0s 21ms/step - loss: 3.2252 - val_loss: 3.1659\n",
      "Epoch 78/200\n",
      "3/3 [==============================] - 0s 17ms/step - loss: 3.2118 - val_loss: 3.1756\n",
      "Epoch 79/200\n",
      "3/3 [==============================] - 0s 18ms/step - loss: 3.2290 - val_loss: 3.1591\n",
      "Epoch 80/200\n",
      "3/3 [==============================] - 0s 17ms/step - loss: 3.2230 - val_loss: 3.1527\n",
      "Epoch 81/200\n"
     ]
    },
    {
     "name": "stdout",
     "output_type": "stream",
     "text": [
      "3/3 [==============================] - 0s 19ms/step - loss: 3.2074 - val_loss: 3.1535\n",
      "Epoch 82/200\n",
      "3/3 [==============================] - 0s 20ms/step - loss: 3.2081 - val_loss: 3.1339\n",
      "Epoch 83/200\n",
      "3/3 [==============================] - 0s 18ms/step - loss: 3.2359 - val_loss: 3.1336\n",
      "Epoch 84/200\n",
      "3/3 [==============================] - 0s 13ms/step - loss: 3.2034 - val_loss: 3.1482\n",
      "Epoch 85/200\n",
      "3/3 [==============================] - 0s 19ms/step - loss: 3.2030 - val_loss: 3.1624\n",
      "Epoch 86/200\n",
      "3/3 [==============================] - 0s 17ms/step - loss: 3.2258 - val_loss: 3.1731\n",
      "Epoch 87/200\n",
      "3/3 [==============================] - 0s 20ms/step - loss: 3.1951 - val_loss: 3.1966\n",
      "Epoch 88/200\n",
      "3/3 [==============================] - 0s 16ms/step - loss: 3.2938 - val_loss: 3.1628\n",
      "Epoch 89/200\n",
      "3/3 [==============================] - 0s 15ms/step - loss: 3.2741 - val_loss: 3.1806\n",
      "Epoch 90/200\n",
      "3/3 [==============================] - 0s 20ms/step - loss: 3.2120 - val_loss: 3.2820\n",
      "Epoch 91/200\n",
      "3/3 [==============================] - 0s 18ms/step - loss: 3.2150 - val_loss: 3.1954\n",
      "Epoch 92/200\n",
      "3/3 [==============================] - 0s 16ms/step - loss: 3.2664 - val_loss: 3.1507\n",
      "Epoch 93/200\n",
      "3/3 [==============================] - 0s 19ms/step - loss: 3.1824 - val_loss: 3.2754\n",
      "Epoch 94/200\n",
      "3/3 [==============================] - 0s 16ms/step - loss: 3.2068 - val_loss: 3.1915\n",
      "Epoch 95/200\n",
      "3/3 [==============================] - 0s 21ms/step - loss: 3.2748 - val_loss: 3.1495\n",
      "Epoch 96/200\n",
      "3/3 [==============================] - 0s 16ms/step - loss: 3.2434 - val_loss: 3.0984\n",
      "Epoch 97/200\n",
      "3/3 [==============================] - 0s 17ms/step - loss: 3.1897 - val_loss: 3.2364\n",
      "Epoch 98/200\n",
      "3/3 [==============================] - 0s 20ms/step - loss: 3.2574 - val_loss: 3.0646\n",
      "Epoch 99/200\n",
      "3/3 [==============================] - 0s 16ms/step - loss: 3.2466 - val_loss: 3.1170\n",
      "Epoch 100/200\n",
      "3/3 [==============================] - 0s 17ms/step - loss: 3.1703 - val_loss: 3.1815\n",
      "Epoch 101/200\n",
      "3/3 [==============================] - 0s 22ms/step - loss: 3.1940 - val_loss: 3.1793\n",
      "Epoch 102/200\n",
      "3/3 [==============================] - 0s 19ms/step - loss: 3.1802 - val_loss: 3.1004\n",
      "Epoch 103/200\n",
      "3/3 [==============================] - 0s 19ms/step - loss: 3.1752 - val_loss: 3.0815\n",
      "Epoch 104/200\n",
      "3/3 [==============================] - 0s 21ms/step - loss: 3.2189 - val_loss: 3.1240\n",
      "Epoch 105/200\n",
      "3/3 [==============================] - 0s 21ms/step - loss: 3.1591 - val_loss: 3.1988\n",
      "Epoch 106/200\n",
      "3/3 [==============================] - 0s 20ms/step - loss: 3.2022 - val_loss: 3.1194\n",
      "Epoch 107/200\n",
      "3/3 [==============================] - 0s 21ms/step - loss: 3.1541 - val_loss: 3.1298\n",
      "Epoch 108/200\n",
      "3/3 [==============================] - 0s 20ms/step - loss: 3.1923 - val_loss: 3.0873\n",
      "Epoch 109/200\n",
      "3/3 [==============================] - 0s 21ms/step - loss: 3.1464 - val_loss: 3.0978\n",
      "Epoch 110/200\n",
      "3/3 [==============================] - 0s 18ms/step - loss: 3.1404 - val_loss: 3.1194\n",
      "Epoch 111/200\n",
      "3/3 [==============================] - 0s 16ms/step - loss: 3.1565 - val_loss: 3.0952\n",
      "Epoch 112/200\n",
      "3/3 [==============================] - 0s 16ms/step - loss: 3.1539 - val_loss: 3.0892\n",
      "Epoch 113/200\n",
      "3/3 [==============================] - 0s 20ms/step - loss: 3.1443 - val_loss: 3.0961\n",
      "Epoch 114/200\n",
      "3/3 [==============================] - 0s 17ms/step - loss: 3.1239 - val_loss: 3.1173\n",
      "Epoch 115/200\n",
      "3/3 [==============================] - 0s 20ms/step - loss: 3.1517 - val_loss: 3.0801\n",
      "Epoch 116/200\n",
      "3/3 [==============================] - 0s 17ms/step - loss: 3.1166 - val_loss: 3.0968\n",
      "Epoch 117/200\n",
      "3/3 [==============================] - 0s 20ms/step - loss: 3.1224 - val_loss: 3.0690\n",
      "Epoch 118/200\n",
      "3/3 [==============================] - 0s 19ms/step - loss: 3.1200 - val_loss: 3.0502\n",
      "Epoch 119/200\n",
      "3/3 [==============================] - 0s 17ms/step - loss: 3.1186 - val_loss: 3.0657\n",
      "Epoch 120/200\n",
      "3/3 [==============================] - 0s 17ms/step - loss: 3.1136 - val_loss: 3.0784\n",
      "Epoch 121/200\n",
      "3/3 [==============================] - 0s 22ms/step - loss: 3.1250 - val_loss: 3.1022\n",
      "Epoch 122/200\n",
      "3/3 [==============================] - 0s 16ms/step - loss: 3.1438 - val_loss: 3.0963\n",
      "Epoch 123/200\n",
      "3/3 [==============================] - 0s 18ms/step - loss: 3.1483 - val_loss: 3.0751\n",
      "Epoch 124/200\n",
      "3/3 [==============================] - 0s 22ms/step - loss: 3.1022 - val_loss: 3.0747\n",
      "Epoch 125/200\n",
      "3/3 [==============================] - 0s 17ms/step - loss: 3.1071 - val_loss: 3.0997\n",
      "Epoch 126/200\n",
      "3/3 [==============================] - 0s 17ms/step - loss: 3.1276 - val_loss: 3.0687\n",
      "Epoch 127/200\n",
      "3/3 [==============================] - 0s 21ms/step - loss: 3.1204 - val_loss: 3.0704\n",
      "Epoch 128/200\n",
      "3/3 [==============================] - 0s 18ms/step - loss: 3.1168 - val_loss: 3.0891\n",
      "Epoch 129/200\n",
      "3/3 [==============================] - 0s 13ms/step - loss: 3.0974 - val_loss: 3.1022\n",
      "Epoch 130/200\n",
      "3/3 [==============================] - 0s 18ms/step - loss: 3.1130 - val_loss: 3.0896\n",
      "Epoch 131/200\n",
      "3/3 [==============================] - 0s 19ms/step - loss: 3.1096 - val_loss: 3.0387\n",
      "Epoch 132/200\n",
      "3/3 [==============================] - 0s 19ms/step - loss: 3.1065 - val_loss: 3.0707\n",
      "Epoch 133/200\n",
      "3/3 [==============================] - 0s 19ms/step - loss: 3.1793 - val_loss: 3.1251\n",
      "Epoch 134/200\n",
      "3/3 [==============================] - 0s 17ms/step - loss: 3.1406 - val_loss: 3.1232\n",
      "Epoch 135/200\n",
      "3/3 [==============================] - 0s 16ms/step - loss: 3.1158 - val_loss: 3.0985\n",
      "Epoch 136/200\n",
      "3/3 [==============================] - 0s 19ms/step - loss: 3.0895 - val_loss: 3.0330\n",
      "Epoch 137/200\n",
      "3/3 [==============================] - 0s 15ms/step - loss: 3.1357 - val_loss: 3.0317\n",
      "Epoch 138/200\n",
      "3/3 [==============================] - 0s 23ms/step - loss: 3.0740 - val_loss: 3.0517\n",
      "Epoch 139/200\n",
      "3/3 [==============================] - 0s 18ms/step - loss: 3.0681 - val_loss: 3.0811\n",
      "Epoch 140/200\n",
      "3/3 [==============================] - 0s 20ms/step - loss: 3.0760 - val_loss: 3.0691\n",
      "Epoch 141/200\n",
      "3/3 [==============================] - 0s 16ms/step - loss: 3.0385 - val_loss: 2.9975\n",
      "Epoch 142/200\n",
      "3/3 [==============================] - 0s 21ms/step - loss: 3.0718 - val_loss: 3.0366\n",
      "Epoch 143/200\n",
      "3/3 [==============================] - 0s 16ms/step - loss: 3.0802 - val_loss: 3.0783\n",
      "Epoch 144/200\n",
      "3/3 [==============================] - 0s 16ms/step - loss: 3.0709 - val_loss: 3.1715\n",
      "Epoch 145/200\n",
      "3/3 [==============================] - 0s 17ms/step - loss: 3.0438 - val_loss: 3.0339\n",
      "Epoch 146/200\n",
      "3/3 [==============================] - 0s 20ms/step - loss: 3.0401 - val_loss: 2.9476\n",
      "Epoch 147/200\n",
      "3/3 [==============================] - 0s 20ms/step - loss: 3.0340 - val_loss: 2.9828\n",
      "Epoch 148/200\n",
      "3/3 [==============================] - 0s 20ms/step - loss: 2.9965 - val_loss: 3.0230\n",
      "Epoch 149/200\n",
      "3/3 [==============================] - 0s 16ms/step - loss: 3.0032 - val_loss: 2.9930\n",
      "Epoch 150/200\n",
      "3/3 [==============================] - 0s 22ms/step - loss: 3.0153 - val_loss: 2.9510\n",
      "Epoch 151/200\n",
      "3/3 [==============================] - 0s 19ms/step - loss: 3.3134 - val_loss: 3.6505\n",
      "Epoch 152/200\n",
      "3/3 [==============================] - 0s 16ms/step - loss: 4.5011 - val_loss: 5.5075\n",
      "Epoch 153/200\n",
      "3/3 [==============================] - 0s 16ms/step - loss: 5.8216 - val_loss: 4.4496\n",
      "Epoch 154/200\n",
      "3/3 [==============================] - 0s 17ms/step - loss: 4.9425 - val_loss: 5.6004\n",
      "Epoch 155/200\n",
      "3/3 [==============================] - 0s 20ms/step - loss: 5.5371 - val_loss: 6.2224\n",
      "Epoch 156/200\n",
      "3/3 [==============================] - 0s 19ms/step - loss: 6.2806 - val_loss: 6.3065\n",
      "Epoch 157/200\n",
      "3/3 [==============================] - 0s 17ms/step - loss: 5.4664 - val_loss: 7.4741\n",
      "Epoch 158/200\n",
      "3/3 [==============================] - 0s 16ms/step - loss: 6.7463 - val_loss: 7.2133\n",
      "Epoch 159/200\n",
      "3/3 [==============================] - 0s 20ms/step - loss: 7.1969 - val_loss: 7.2312\n",
      "Epoch 160/200\n",
      "3/3 [==============================] - 0s 16ms/step - loss: 7.0827 - val_loss: 5.4013\n",
      "Epoch 161/200\n",
      "3/3 [==============================] - 0s 17ms/step - loss: 5.3650 - val_loss: 10.6497\n",
      "Epoch 162/200\n",
      "3/3 [==============================] - 0s 20ms/step - loss: 5.4879 - val_loss: 4.8267\n",
      "Epoch 163/200\n"
     ]
    },
    {
     "name": "stdout",
     "output_type": "stream",
     "text": [
      "3/3 [==============================] - 0s 18ms/step - loss: 5.3106 - val_loss: 5.3983\n",
      "Epoch 164/200\n",
      "3/3 [==============================] - 0s 17ms/step - loss: 5.0527 - val_loss: 4.1665\n",
      "Epoch 165/200\n",
      "3/3 [==============================] - 0s 21ms/step - loss: 4.4743 - val_loss: 3.7876\n",
      "Epoch 166/200\n",
      "3/3 [==============================] - 0s 20ms/step - loss: 3.9759 - val_loss: 4.5183\n",
      "Epoch 167/200\n",
      "3/3 [==============================] - 0s 16ms/step - loss: 4.5191 - val_loss: 3.8149\n",
      "Epoch 168/200\n",
      "3/3 [==============================] - 0s 18ms/step - loss: 4.4370 - val_loss: 3.7884\n",
      "Epoch 169/200\n",
      "3/3 [==============================] - 0s 20ms/step - loss: 4.1273 - val_loss: 4.1078\n",
      "Epoch 170/200\n",
      "3/3 [==============================] - 0s 16ms/step - loss: 4.0507 - val_loss: 3.7470\n",
      "Epoch 171/200\n",
      "3/3 [==============================] - 0s 20ms/step - loss: 3.9259 - val_loss: 3.5209\n",
      "Epoch 172/200\n",
      "3/3 [==============================] - 0s 18ms/step - loss: 3.6183 - val_loss: 3.4432\n",
      "Epoch 173/200\n",
      "3/3 [==============================] - 0s 22ms/step - loss: 3.4473 - val_loss: 3.6083\n",
      "Epoch 174/200\n",
      "3/3 [==============================] - 0s 20ms/step - loss: 3.5328 - val_loss: 3.1974\n",
      "Epoch 175/200\n",
      "3/3 [==============================] - 0s 17ms/step - loss: 3.1929 - val_loss: 3.2090\n",
      "Epoch 176/200\n",
      "3/3 [==============================] - 0s 20ms/step - loss: 3.2368 - val_loss: 3.0622\n",
      "Epoch 177/200\n",
      "3/3 [==============================] - 0s 20ms/step - loss: 3.2356 - val_loss: 3.0648\n",
      "Epoch 178/200\n",
      "3/3 [==============================] - 0s 25ms/step - loss: 3.0589 - val_loss: 3.1980\n",
      "Epoch 179/200\n",
      "3/3 [==============================] - 0s 19ms/step - loss: 3.1554 - val_loss: 3.2545\n",
      "Epoch 180/200\n",
      "3/3 [==============================] - 0s 22ms/step - loss: 3.1443 - val_loss: 3.1277\n",
      "Epoch 181/200\n",
      "3/3 [==============================] - 0s 19ms/step - loss: 3.0485 - val_loss: 3.0214\n",
      "Epoch 182/200\n",
      "3/3 [==============================] - 0s 18ms/step - loss: 3.0635 - val_loss: 2.9510\n",
      "Epoch 183/200\n",
      "3/3 [==============================] - 0s 17ms/step - loss: 3.0366 - val_loss: 3.0096\n",
      "Epoch 184/200\n",
      "3/3 [==============================] - 0s 17ms/step - loss: 2.9867 - val_loss: 3.0470\n",
      "Epoch 185/200\n",
      "3/3 [==============================] - 0s 17ms/step - loss: 2.9894 - val_loss: 3.0285\n",
      "Epoch 186/200\n",
      "3/3 [==============================] - 0s 22ms/step - loss: 2.9596 - val_loss: 2.9958\n",
      "Epoch 187/200\n",
      "3/3 [==============================] - 0s 18ms/step - loss: 2.9406 - val_loss: 2.9524\n",
      "Epoch 188/200\n",
      "3/3 [==============================] - 0s 18ms/step - loss: 2.9503 - val_loss: 2.9319\n",
      "Epoch 189/200\n",
      "3/3 [==============================] - 0s 17ms/step - loss: 2.9500 - val_loss: 2.9487\n",
      "Epoch 190/200\n",
      "3/3 [==============================] - 0s 17ms/step - loss: 2.9178 - val_loss: 3.0076\n",
      "Epoch 191/200\n",
      "3/3 [==============================] - 0s 18ms/step - loss: 2.9349 - val_loss: 2.9963\n",
      "Epoch 192/200\n",
      "3/3 [==============================] - 0s 18ms/step - loss: 2.9048 - val_loss: 2.9382\n",
      "Epoch 193/200\n",
      "3/3 [==============================] - 0s 21ms/step - loss: 2.8929 - val_loss: 2.8986\n",
      "Epoch 194/200\n",
      "3/3 [==============================] - 0s 26ms/step - loss: 2.9265 - val_loss: 2.9362\n",
      "Epoch 195/200\n",
      "3/3 [==============================] - 0s 22ms/step - loss: 2.8980 - val_loss: 2.9397\n",
      "Epoch 196/200\n",
      "3/3 [==============================] - 0s 19ms/step - loss: 2.8667 - val_loss: 2.9604\n",
      "Epoch 197/200\n",
      "3/3 [==============================] - 0s 17ms/step - loss: 2.9216 - val_loss: 2.9542\n",
      "Epoch 198/200\n",
      "3/3 [==============================] - 0s 15ms/step - loss: 2.8812 - val_loss: 2.9653\n",
      "Epoch 199/200\n",
      "3/3 [==============================] - 0s 16ms/step - loss: 2.8945 - val_loss: 2.9539\n",
      "Epoch 200/200\n",
      "3/3 [==============================] - 0s 23ms/step - loss: 2.8877 - val_loss: 2.8979\n"
     ]
    }
   ],
   "source": [
    "history = model.fit(X_train, y_train, epochs=200,\n",
    "                    validation_data=(X_valid, y_valid))"
   ]
  },
  {
   "cell_type": "code",
   "execution_count": 68,
   "id": "0b29d35c",
   "metadata": {
    "scrolled": true
   },
   "outputs": [],
   "source": [
    "# history = model.fit(X_train, y_train, epochs=145,\n",
    "#                     validation_data=(X_valid, y_valid), callbacks=[lr_scheduler])"
   ]
  },
  {
   "cell_type": "code",
   "execution_count": 69,
   "id": "28215732",
   "metadata": {},
   "outputs": [
    {
     "name": "stdout",
     "output_type": "stream",
     "text": [
      "Saving figure grid_Gaussian_training_curve\n"
     ]
    },
    {
     "data": {
      "image/png": "[encoded data removed]",
      "text/plain": [
       "<Figure size 576x360 with 1 Axes>"
      ]
     },
     "metadata": {
      "needs_background": "light"
     },
     "output_type": "display_data"
    }
   ],
   "source": [
    "import pandas as pd\n",
    "\n",
    "# print(history.history)\n",
    "try:\n",
    "    lr_list = history.history[\"lr\"]\n",
    "    del(history.history[\"lr\"])\n",
    "except:\n",
    "    pass\n",
    "\n",
    "pd.DataFrame(history.history)[50:].plot(figsize=(8, 5))\n",
    "plt.grid(True)\n",
    "# plt.gca().set_ylim(0, 1)\n",
    "save_fig(\"grid_Gaussian_training_curve\")\n",
    "plt.show()"
   ]
  },
  {
   "cell_type": "code",
   "execution_count": 70,
   "id": "47d362c9",
   "metadata": {
    "scrolled": true
   },
   "outputs": [
    {
     "name": "stdout",
     "output_type": "stream",
     "text": [
      "X.shape = (None, 1)\n",
      "gauss_grid.shape = (None, 5)\n",
      "Saving figure grid_Gaussian_prediction\n"
     ]
    },
    {
     "data": {
      "image/png": "[encoded data removed]",
      "text/plain": [
       "<Figure size 432x288 with 1 Axes>"
      ]
     },
     "metadata": {
      "needs_background": "light"
     },
     "output_type": "display_data"
    }
   ],
   "source": [
    "# plt.plot(X_train, y_train, \"b.\")\n",
    "draw_points(X_train, y_train, sid_train)\n",
    "draw_func((lambda X: model.predict(X)[:,0] ), mark='r-', linewidth=2, label=\"Predictions\")\n",
    "draw_normal_func(func_dict)\n",
    "plt.xlabel(\"$x_1$\", fontsize=18)\n",
    "plt.ylabel(\"$y$\", rotation=0, fontsize=18)\n",
    "plt.legend(loc=\"upper left\", fontsize=14)\n",
    "# plt.axis([-3, 3, 0, 10])\n",
    "save_fig(\"grid_Gaussian_prediction\")\n",
    "plt.show()"
   ]
  },
  {
   "cell_type": "code",
   "execution_count": 71,
   "id": "a85a5159",
   "metadata": {},
   "outputs": [
    {
     "name": "stdout",
     "output_type": "stream",
     "text": [
      "y_func.shape = (100, 1)\n",
      "y_gt.shape = (100, 1)\n"
     ]
    },
    {
     "data": {
      "text/plain": [
       "5.597624859074613"
      ]
     },
     "execution_count": 71,
     "metadata": {},
     "output_type": "execute_result"
    }
   ],
   "source": [
    "get_prediction_error((lambda X: model.predict(X)[:,0] ), func_dict, name=\"grid-oneGaussian\")"
   ]
  },
  {
   "cell_type": "markdown",
   "id": "9ca1e36d",
   "metadata": {},
   "source": [
    "### Draw the 1-sigma boundary line"
   ]
  },
  {
   "cell_type": "code",
   "execution_count": 72,
   "id": "a04a47fa",
   "metadata": {},
   "outputs": [
    {
     "name": "stdout",
     "output_type": "stream",
     "text": [
      "Saving figure grid_Gaussian_1sigma\n"
     ]
    },
    {
     "data": {
      "image/png": "[encoded data removed]",
      "text/plain": [
       "<Figure size 432x288 with 1 Axes>"
      ]
     },
     "metadata": {
      "needs_background": "light"
     },
     "output_type": "display_data"
    }
   ],
   "source": [
    "def n_sigma_boundary_line(X, n):\n",
    "    _y = model.predict(X)\n",
    "    _mean, _z = _y[:,0:1], _y[:,1:2]\n",
    "    _sigma = np.exp(alpha*_z)\n",
    "    return( _mean + n*_sigma)\n",
    "\n",
    "# plt.plot(X_train, y_train, \"b.\")\n",
    "draw_points(X_train, y_train, sid_train)\n",
    "#\n",
    "draw_func((lambda X: model.predict(X)[:,0] ), mark='r-', linewidth=2, label=\"Predictions\")\n",
    "draw_func((lambda X: n_sigma_boundary_line(X, +1.0) ), mark='k--', linewidth=1, label=\"$\\mu+\\sigma$\")\n",
    "draw_func((lambda X: n_sigma_boundary_line(X, -1.0) ), mark='k--', linewidth=1, label=\"$\\mu-\\sigma$\")\n",
    "#\n",
    "draw_normal_func(func_dict)\n",
    "plt.xlabel(\"$x_1$\", fontsize=18)\n",
    "plt.ylabel(\"$y$\", rotation=0, fontsize=18)\n",
    "plt.legend(loc=\"upper left\", fontsize=14)\n",
    "# plt.axis([-3, 3, 0, 10])\n",
    "save_fig(\"grid_Gaussian_1sigma\")\n",
    "plt.show()"
   ]
  },
  {
   "cell_type": "markdown",
   "id": "1cdb8a83",
   "metadata": {},
   "source": [
    "# Per-subject Bias/Property Learning"
   ]
  },
  {
   "cell_type": "code",
   "execution_count": 73,
   "id": "0a429b42",
   "metadata": {},
   "outputs": [],
   "source": [
    "# Create a custom layer for estimating bais for each subject\n",
    "class SubjectBias(keras.layers.Layer):\n",
    "    def __init__(self, num_subject, bias_scale=1.0, mean_reg_rate=1.0, activation=None, **kwargs):\n",
    "        super().__init__(**kwargs)\n",
    "        self.num_subject = num_subject\n",
    "        self.bias_scale = bias_scale\n",
    "        self.mean_reg_rate = mean_reg_rate if mean_reg_rate >= 0.0 else 0.0\n",
    "        #\n",
    "        self.X_shape = None\n",
    "        self.activation = keras.activations.get(activation)\n",
    "        \n",
    "    def build(self, batch_input_shape):\n",
    "        self.X_shape = batch_input_shape[0]\n",
    "        # Initiate a trainable vector as the bias for X\n",
    "        \"\"\"\n",
    "        bias: (num_subject, X_shape[1], X_shape[2], ...)\n",
    "        \"\"\"\n",
    "        self.bias = self.add_weight(name=\"bias\", \n",
    "                                    shape=([self.num_subject] + self.X_shape[1:]), \n",
    "                                    initializer=\"zeros\")\n",
    "        super().build(batch_input_shape) # must be at the end\n",
    "        \n",
    "    def get_bias(self, sid):\n",
    "        '''\n",
    "        A helper function for retriving the bias according to the given sid.\n",
    "        Note: sid starts from 1.\n",
    "        Note2: this is the bias added to X, which are scaled by self.bias_scale\n",
    "        '''\n",
    "        if sid > self.num_subject or sid <= 0: # Out of bound, index not in range\n",
    "            return tf.zeros(self.X_shape[1:])\n",
    "        else:\n",
    "            return self.bias_scale * self.bias[tf.cast(sid-1, tf.int32),:]\n",
    "        \n",
    "    def get_scaled_biases_np(self):\n",
    "        return self.bias_scale * self.bias.numpy()\n",
    "        \n",
    "    def call(self, X_sid, training=None):\n",
    "        '''\n",
    "        X_sid = [X, sid]\n",
    "        Input shape:  X: (batch, ...), sid: (batch, 1)\n",
    "        Output shape: (batch, ...)\n",
    "        '''\n",
    "        X, SID = X_sid\n",
    "        X_shape = X.shape\n",
    "        print(\"X.shape = %s\" % X.shape)\n",
    "        print(\"SID.shape = %s\" % SID.shape)\n",
    "        \n",
    "        # Add bias\n",
    "        y = X + self.bias_scale * tf.gather(self.bias, SID[:,0]-1, axis=0)\n",
    "        \n",
    "        # Add a loss on the means in order to force them to become zeros\n",
    "        if self.mean_reg_rate > 0.0:\n",
    "            # Calculate the mean of all biases (on each dimension)\n",
    "            bias_means = tf.reduce_mean(self.bias, axis=0)\n",
    "            # MAE of means on all dimensions\n",
    "            self.add_loss( self.mean_reg_rate * tf.reduce_sum(tf.abs(bias_means)) )\n",
    "        \n",
    "        return self.activation(y)\n",
    "        \n",
    "#         if training:    \n",
    "#             # Add biases according to the sid of each instance\n",
    "#             # Note: a corner case is not handeled that if there exist out-of-range sid.\n",
    "#             # y = X + self.bias[tf.cast(SID[:,0]-1, tf.int32),:]\n",
    "#             # y = X + self.bias[ SID[:,0]-1,:]\n",
    "#             y = X + tf.gather(self.bias, SID[:,0]-1, axis=0)\n",
    "#             return self.activation(y)\n",
    "#         else: # If it's not trainig, just output the original X without adding bias\n",
    "#             return self.activation(X_sid[0])\n",
    "    \n",
    "    def compute_output_shape(self, batch_input_shape):\n",
    "        # Note: the same shape as the first input\n",
    "        return batch_input_shape[0]\n",
    "    \n",
    "    def get_config(self):\n",
    "        base_config = super().get_config()\n",
    "        return {**base_config, \n",
    "                \"num_subject\": self.num_subject,\n",
    "                \"bias_scale\": self.bias_scale,\n",
    "                \"mean_reg_rate\": self.mean_reg_rate,\n",
    "                \"activation\": keras.activations.serialize(self.activation)}"
   ]
  },
  {
   "cell_type": "code",
   "execution_count": 74,
   "id": "8d90e89f",
   "metadata": {},
   "outputs": [],
   "source": [
    "# Create a custom layer for estimating linear transform for each subject\n",
    "# We only assume 1D lear transform on each input dimension separately. (assume value on each dimension are independent to others.)\n",
    "# 1D linear transform: yi = wi * xi + bi\n",
    "class SubjectLinearTransform1D(keras.layers.Layer):\n",
    "    def __init__(self, num_subject, bias_scale=1.0, weight_mean_reg_rate=1.0, bias_mean_reg_rate=1.0, activation=None, **kwargs):\n",
    "        super().__init__(**kwargs)\n",
    "        self.num_subject = num_subject\n",
    "        self.bias_scale = bias_scale\n",
    "        self.weight_mean_reg_rate = weight_mean_reg_rate if weight_mean_reg_rate >= 0.0 else 0.0\n",
    "        self.bias_mean_reg_rate = bias_mean_reg_rate if bias_mean_reg_rate >= 0.0 else 0.0\n",
    "        #\n",
    "        self.X_shape = None\n",
    "        self.activation = keras.activations.get(activation)\n",
    "        \n",
    "    def build(self, batch_input_shape):\n",
    "        self.X_shape = batch_input_shape[0]\n",
    "        # Initiate a trainable vector as the bias for X\n",
    "        \"\"\"\n",
    "        bias: (num_subject, X_shape[1], X_shape[2], ...)\n",
    "        \"\"\"\n",
    "        self.weight = self.add_weight(name=\"weight\", \n",
    "                                    shape=([self.num_subject] + self.X_shape[1:]), \n",
    "                                    initializer=\"ones\")\n",
    "        self.bias = self.add_weight(name=\"bias\", \n",
    "                                    shape=([self.num_subject] + self.X_shape[1:]), \n",
    "                                    initializer=\"zeros\")\n",
    "        super().build(batch_input_shape) # must be at the end\n",
    "        \n",
    "    def get_bias(self, sid):\n",
    "        '''\n",
    "        A helper function for retriving the bias according to the given sid.\n",
    "        Note: sid starts from 1.\n",
    "        Note2: this is the bias added to X, which are scaled by self.bias_scale\n",
    "        '''\n",
    "        if sid > self.num_subject or sid <= 0: # Out of bound, index not in range\n",
    "            return tf.zeros(self.X_shape[1:])\n",
    "        else:\n",
    "            return self.bias_scale * self.bias[tf.cast(sid-1, tf.int32),:]\n",
    "        \n",
    "    def get_scaled_biases_np(self):\n",
    "        return self.bias_scale * self.bias.numpy()\n",
    "    \n",
    "    def get_weights_np(self):\n",
    "        return self.weight.numpy()\n",
    "        \n",
    "    def call(self, X_sid, training=None):\n",
    "        '''\n",
    "        X_sid = [X, sid]\n",
    "        Input shape:  X: (batch, ...), sid: (batch, 1)\n",
    "        Output shape: (batch, ...)\n",
    "        '''\n",
    "        X, SID = X_sid\n",
    "        X_shape = X.shape\n",
    "        print(\"X.shape = %s\" % X.shape)\n",
    "        print(\"SID.shape = %s\" % SID.shape)\n",
    "        \n",
    "        # Element-wise multiplication of weights and addition of biases\n",
    "        y = tf.gather(self.weight, SID[:,0]-1, axis=0) * X + self.bias_scale * tf.gather(self.bias, SID[:,0]-1, axis=0)\n",
    "        \n",
    "        # Add a loss on the means in order to force them to become zeros\n",
    "        if self.weight_mean_reg_rate > 0.0 or self.bias_mean_reg_rate > 0.0:\n",
    "            # Calculate the mean of all weights and biases (on each dimension separately)\n",
    "            weight_means = tf.reduce_mean(self.weight, axis=0)\n",
    "            bias_means = tf.reduce_mean(self.bias, axis=0)\n",
    "            # MAE of means on all dimensions\n",
    "            self.add_loss( self.weight_mean_reg_rate * tf.reduce_sum(tf.abs(weight_means - 1.0)) ) # Should close to 1.0\n",
    "            self.add_loss( self.bias_mean_reg_rate * tf.reduce_sum(tf.abs(bias_means)) )\n",
    "        \n",
    "        return self.activation(y)\n",
    "    \n",
    "    def compute_output_shape(self, batch_input_shape):\n",
    "        # Note: the same shape as the first input\n",
    "        return batch_input_shape[0]\n",
    "    \n",
    "    def get_config(self):\n",
    "        base_config = super().get_config()\n",
    "        return {**base_config, \n",
    "                \"num_subject\": self.num_subject,\n",
    "                \"bias_scale\": self.bias_scale,\n",
    "                \"weight_mean_reg_rate\": self.weight_mean_reg_rate,\n",
    "                \"bias_mean_reg_rate\": self.bias_mean_reg_rate,\n",
    "                \"activation\": keras.activations.serialize(self.activation)}"
   ]
  },
  {
   "cell_type": "markdown",
   "id": "00220bd0",
   "metadata": {},
   "source": [
    "Number of subjects"
   ]
  },
  {
   "cell_type": "code",
   "execution_count": 75,
   "id": "fa925d83",
   "metadata": {},
   "outputs": [],
   "source": [
    "# Number of subjects\n",
    "num_subject = multiout_type"
   ]
  },
  {
   "cell_type": "markdown",
   "id": "37e02154",
   "metadata": {},
   "source": [
    "Build two models"
   ]
  },
  {
   "cell_type": "code",
   "execution_count": 76,
   "id": "05766d44",
   "metadata": {},
   "outputs": [
    {
     "name": "stdout",
     "output_type": "stream",
     "text": [
      "X.shape = (None, 1)\n",
      "gauss_grid.shape = (None, 5)\n",
      "X.shape = (None, 1)\n",
      "SID.shape = (None, 1)\n"
     ]
    }
   ],
   "source": [
    "inputs = keras.layers.Input(shape=X_train.shape[1:])\n",
    "inputs_sid = keras.layers.Input(shape=(1,), dtype=tf.int32)\n",
    "#\n",
    "z = num2grid(5,x_min=-10, x_max=10, sigma=3.0)(inputs)\n",
    "z = keras.layers.Dense(30, activation=\"relu\")(z)\n",
    "output = keras.layers.Dense(1)(z)\n",
    "# output_biased = SubjectBias(num_subject, bias_scale=10.0, mean_reg_rate=1.0, name=\"bias_est\")([output, inputs_sid])\n",
    "output_biased = SubjectLinearTransform1D(num_subject, bias_scale=10.0, weight_mean_reg_rate=5.0, bias_mean_reg_rate=1.0, name=\"bias_est\")([output, inputs_sid])\n",
    "# Setup models\n",
    "model = keras.Model(inputs=[inputs], outputs=[output]) # pure\n",
    "model_biased = keras.Model(inputs=[inputs, inputs_sid], outputs=[output_biased]) # biased, for training"
   ]
  },
  {
   "cell_type": "code",
   "execution_count": 77,
   "id": "6da7e9b1",
   "metadata": {},
   "outputs": [
    {
     "name": "stderr",
     "output_type": "stream",
     "text": [
      "C:\\Users\\benso\\anaconda3\\envs\\ml\\lib\\site-packages\\keras\\optimizer_v2\\adam.py:105: UserWarning: The `lr` argument is deprecated, use `learning_rate` instead.\n",
      "  super(Adam, self).__init__(name, **kwargs)\n"
     ]
    }
   ],
   "source": [
    "# optimizer = keras.optimizers.SGD(lr=0.001, momentum=0.9)\n",
    "# model.compile(loss=\"mean_squared_error\", optimizer=optimizer)\n",
    "optimizer = keras.optimizers.Adam(lr=0.1)\n",
    "model_biased.compile(loss=\"mean_absolute_error\", optimizer=optimizer)\n",
    "#\n",
    "# model.compile(loss=\"mean_absolute_error\", optimizer=optimizer) # No need to compile this if it's not going to be trained."
   ]
  },
  {
   "cell_type": "code",
   "execution_count": 78,
   "id": "700a6e39",
   "metadata": {
    "scrolled": true
   },
   "outputs": [
    {
     "name": "stdout",
     "output_type": "stream",
     "text": [
      "Epoch 1/100\n",
      "X.shape = (None, 1)\n",
      "gauss_grid.shape = (None, 5)\n",
      "X.shape = (None, 1)\n",
      "SID.shape = (None, 1)\n",
      "X.shape = (None, 1)\n",
      "gauss_grid.shape = (None, 5)\n",
      "X.shape = (None, 1)\n",
      "SID.shape = (None, 1)\n",
      "1/3 [=========>....................] - ETA: 1s - loss: 45.9432X.shape = (None, 1)\n",
      "gauss_grid.shape = (None, 5)\n",
      "X.shape = (None, 1)\n",
      "SID.shape = (None, 1)\n",
      "3/3 [==============================] - 1s 93ms/step - loss: 41.4290 - val_loss: 32.2860\n",
      "Epoch 2/100\n",
      "3/3 [==============================] - 0s 17ms/step - loss: 39.3120 - val_loss: 29.3532\n",
      "Epoch 3/100\n",
      "3/3 [==============================] - 0s 27ms/step - loss: 35.3836 - val_loss: 25.3620\n",
      "Epoch 4/100\n",
      "3/3 [==============================] - 0s 34ms/step - loss: 29.0451 - val_loss: 18.3783\n",
      "Epoch 5/100\n",
      "3/3 [==============================] - 0s 24ms/step - loss: 19.9410 - val_loss: 11.5337\n",
      "Epoch 6/100\n",
      "3/3 [==============================] - 0s 38ms/step - loss: 16.4716 - val_loss: 10.9283\n",
      "Epoch 7/100\n",
      "3/3 [==============================] - 0s 18ms/step - loss: 16.4365 - val_loss: 11.4764\n",
      "Epoch 8/100\n",
      "3/3 [==============================] - 0s 17ms/step - loss: 13.3130 - val_loss: 6.6428\n",
      "Epoch 9/100\n",
      "3/3 [==============================] - 0s 20ms/step - loss: 11.6818 - val_loss: 7.9332\n",
      "Epoch 10/100\n",
      "3/3 [==============================] - 0s 17ms/step - loss: 12.3949 - val_loss: 7.5669\n",
      "Epoch 11/100\n",
      "3/3 [==============================] - 0s 17ms/step - loss: 11.2733 - val_loss: 6.3866\n",
      "Epoch 12/100\n",
      "3/3 [==============================] - 0s 17ms/step - loss: 9.9939 - val_loss: 7.7419\n",
      "Epoch 13/100\n",
      "3/3 [==============================] - 0s 23ms/step - loss: 9.9043 - val_loss: 6.7392\n",
      "Epoch 14/100\n",
      "3/3 [==============================] - 0s 18ms/step - loss: 9.4148 - val_loss: 5.5454\n",
      "Epoch 15/100\n",
      "3/3 [==============================] - 0s 17ms/step - loss: 8.9643 - val_loss: 5.3350\n",
      "Epoch 16/100\n",
      "3/3 [==============================] - 0s 17ms/step - loss: 9.0032 - val_loss: 5.4879\n",
      "Epoch 17/100\n",
      "3/3 [==============================] - 0s 21ms/step - loss: 8.2287 - val_loss: 6.1278\n",
      "Epoch 18/100\n",
      "3/3 [==============================] - 0s 24ms/step - loss: 8.1840 - val_loss: 5.7097\n",
      "Epoch 19/100\n",
      "3/3 [==============================] - ETA: 0s - loss: 7.391 - 0s 17ms/step - loss: 7.7454 - val_loss: 5.0739\n",
      "Epoch 20/100\n",
      "3/3 [==============================] - 0s 18ms/step - loss: 7.8834 - val_loss: 5.0529\n",
      "Epoch 21/100\n",
      "3/3 [==============================] - 0s 17ms/step - loss: 7.5307 - val_loss: 5.7849\n",
      "Epoch 22/100\n",
      "3/3 [==============================] - 0s 17ms/step - loss: 7.0023 - val_loss: 5.7007\n",
      "Epoch 23/100\n",
      "3/3 [==============================] - 0s 18ms/step - loss: 6.8614 - val_loss: 5.3893\n",
      "Epoch 24/100\n",
      "3/3 [==============================] - 0s 22ms/step - loss: 6.5174 - val_loss: 5.1366\n",
      "Epoch 25/100\n",
      "3/3 [==============================] - 0s 20ms/step - loss: 6.1418 - val_loss: 5.0029\n",
      "Epoch 26/100\n",
      "3/3 [==============================] - 0s 24ms/step - loss: 6.0092 - val_loss: 4.8698\n",
      "Epoch 27/100\n",
      "3/3 [==============================] - 0s 19ms/step - loss: 5.6272 - val_loss: 5.4254\n",
      "Epoch 28/100\n",
      "3/3 [==============================] - 0s 17ms/step - loss: 5.2841 - val_loss: 5.5980\n",
      "Epoch 29/100\n",
      "3/3 [==============================] - 0s 18ms/step - loss: 5.2716 - val_loss: 4.8603\n",
      "Epoch 30/100\n",
      "3/3 [==============================] - 0s 17ms/step - loss: 5.6977 - val_loss: 5.0212\n",
      "Epoch 31/100\n",
      "3/3 [==============================] - 0s 18ms/step - loss: 5.9379 - val_loss: 4.6771\n",
      "Epoch 32/100\n",
      "3/3 [==============================] - 0s 20ms/step - loss: 4.7783 - val_loss: 4.6628\n",
      "Epoch 33/100\n",
      "3/3 [==============================] - 0s 18ms/step - loss: 4.3944 - val_loss: 4.4303\n",
      "Epoch 34/100\n",
      "3/3 [==============================] - 0s 19ms/step - loss: 4.2386 - val_loss: 4.0500\n",
      "Epoch 35/100\n",
      "3/3 [==============================] - 0s 21ms/step - loss: 3.9439 - val_loss: 3.6223\n",
      "Epoch 36/100\n",
      "3/3 [==============================] - 0s 17ms/step - loss: 3.5540 - val_loss: 3.2335\n",
      "Epoch 37/100\n",
      "3/3 [==============================] - 0s 17ms/step - loss: 3.2329 - val_loss: 3.5192\n",
      "Epoch 38/100\n",
      "3/3 [==============================] - 0s 20ms/step - loss: 3.5557 - val_loss: 3.5123\n",
      "Epoch 39/100\n",
      "3/3 [==============================] - 0s 21ms/step - loss: 3.8927 - val_loss: 4.8860\n",
      "Epoch 40/100\n",
      "3/3 [==============================] - 0s 26ms/step - loss: 4.2587 - val_loss: 3.4278\n",
      "Epoch 41/100\n",
      "3/3 [==============================] - 0s 18ms/step - loss: 3.8328 - val_loss: 2.8734\n",
      "Epoch 42/100\n",
      "3/3 [==============================] - 0s 19ms/step - loss: 3.3238 - val_loss: 2.5101\n",
      "Epoch 43/100\n",
      "3/3 [==============================] - 0s 19ms/step - loss: 2.9300 - val_loss: 2.6858\n",
      "Epoch 44/100\n",
      "3/3 [==============================] - 0s 21ms/step - loss: 2.8180 - val_loss: 2.4988\n",
      "Epoch 45/100\n",
      "3/3 [==============================] - 0s 21ms/step - loss: 2.7394 - val_loss: 2.9813\n",
      "Epoch 46/100\n",
      "3/3 [==============================] - 0s 17ms/step - loss: 3.0039 - val_loss: 3.2996\n",
      "Epoch 47/100\n",
      "3/3 [==============================] - 0s 18ms/step - loss: 3.4228 - val_loss: 3.2353\n",
      "Epoch 48/100\n",
      "3/3 [==============================] - 0s 20ms/step - loss: 3.4406 - val_loss: 2.6563\n",
      "Epoch 49/100\n",
      "3/3 [==============================] - 0s 19ms/step - loss: 3.1041 - val_loss: 2.2664\n",
      "Epoch 50/100\n",
      "3/3 [==============================] - 0s 17ms/step - loss: 2.6843 - val_loss: 2.6002\n",
      "Epoch 51/100\n",
      "3/3 [==============================] - 0s 18ms/step - loss: 2.8895 - val_loss: 3.0392\n",
      "Epoch 52/100\n",
      "3/3 [==============================] - 0s 22ms/step - loss: 3.0600 - val_loss: 3.4367\n",
      "Epoch 53/100\n",
      "3/3 [==============================] - 0s 18ms/step - loss: 3.3306 - val_loss: 2.9958\n",
      "Epoch 54/100\n",
      "3/3 [==============================] - 0s 18ms/step - loss: 2.9616 - val_loss: 3.0018\n",
      "Epoch 55/100\n",
      "3/3 [==============================] - 0s 17ms/step - loss: 3.5772 - val_loss: 2.6707\n",
      "Epoch 56/100\n",
      "3/3 [==============================] - 0s 19ms/step - loss: 3.5308 - val_loss: 2.4800\n",
      "Epoch 57/100\n",
      "3/3 [==============================] - 0s 22ms/step - loss: 3.1006 - val_loss: 2.5564\n",
      "Epoch 58/100\n",
      "3/3 [==============================] - 0s 17ms/step - loss: 2.8443 - val_loss: 2.4099\n",
      "Epoch 59/100\n",
      "3/3 [==============================] - 0s 17ms/step - loss: 2.9460 - val_loss: 2.5187\n",
      "Epoch 60/100\n",
      "3/3 [==============================] - 0s 18ms/step - loss: 3.0631 - val_loss: 2.8550\n",
      "Epoch 61/100\n",
      "3/3 [==============================] - 0s 29ms/step - loss: 3.6106 - val_loss: 2.6666\n",
      "Epoch 62/100\n",
      "3/3 [==============================] - 0s 18ms/step - loss: 3.2371 - val_loss: 2.6628\n",
      "Epoch 63/100\n",
      "3/3 [==============================] - 0s 17ms/step - loss: 3.0549 - val_loss: 2.2255\n",
      "Epoch 64/100\n",
      "3/3 [==============================] - 0s 19ms/step - loss: 2.6340 - val_loss: 2.2918\n",
      "Epoch 65/100\n",
      "3/3 [==============================] - 0s 17ms/step - loss: 2.6758 - val_loss: 2.0834\n",
      "Epoch 66/100\n",
      "3/3 [==============================] - 0s 17ms/step - loss: 2.5512 - val_loss: 2.1572\n",
      "Epoch 67/100\n",
      "3/3 [==============================] - 0s 18ms/step - loss: 2.6582 - val_loss: 2.2802\n",
      "Epoch 68/100\n",
      "3/3 [==============================] - 0s 18ms/step - loss: 2.8442 - val_loss: 2.5809\n",
      "Epoch 69/100\n",
      "3/3 [==============================] - 0s 19ms/step - loss: 2.7084 - val_loss: 2.3432\n",
      "Epoch 70/100\n",
      "3/3 [==============================] - 0s 16ms/step - loss: 2.8742 - val_loss: 2.5264\n",
      "Epoch 71/100\n",
      "3/3 [==============================] - 0s 17ms/step - loss: 2.6286 - val_loss: 2.8812\n",
      "Epoch 72/100\n",
      "3/3 [==============================] - 0s 18ms/step - loss: 2.7954 - val_loss: 2.5582\n",
      "Epoch 73/100\n",
      "3/3 [==============================] - 0s 19ms/step - loss: 2.8983 - val_loss: 2.3346\n",
      "Epoch 74/100\n",
      "3/3 [==============================] - 0s 20ms/step - loss: 2.7917 - val_loss: 3.5361\n",
      "Epoch 75/100\n",
      "3/3 [==============================] - 0s 20ms/step - loss: 2.9878 - val_loss: 2.2543\n",
      "Epoch 76/100\n",
      "3/3 [==============================] - 0s 17ms/step - loss: 2.5721 - val_loss: 2.5482\n",
      "Epoch 77/100\n",
      "3/3 [==============================] - 0s 17ms/step - loss: 2.7831 - val_loss: 2.3909\n",
      "Epoch 78/100\n",
      "3/3 [==============================] - 0s 17ms/step - loss: 2.7934 - val_loss: 2.5293\n",
      "Epoch 79/100\n",
      "3/3 [==============================] - 0s 17ms/step - loss: 2.7485 - val_loss: 2.3717\n",
      "Epoch 80/100\n"
     ]
    },
    {
     "name": "stdout",
     "output_type": "stream",
     "text": [
      "3/3 [==============================] - 0s 21ms/step - loss: 2.9340 - val_loss: 2.7075\n",
      "Epoch 81/100\n",
      "3/3 [==============================] - 0s 23ms/step - loss: 2.9974 - val_loss: 2.7458\n",
      "Epoch 82/100\n",
      "3/3 [==============================] - 0s 17ms/step - loss: 2.8216 - val_loss: 2.6195\n",
      "Epoch 83/100\n",
      "3/3 [==============================] - 0s 21ms/step - loss: 2.8201 - val_loss: 2.6077\n",
      "Epoch 84/100\n",
      "3/3 [==============================] - 0s 19ms/step - loss: 2.7845 - val_loss: 2.9810\n",
      "Epoch 85/100\n",
      "3/3 [==============================] - 0s 21ms/step - loss: 2.8431 - val_loss: 2.4258\n",
      "Epoch 86/100\n",
      "3/3 [==============================] - 0s 18ms/step - loss: 2.6187 - val_loss: 2.4792\n",
      "Epoch 87/100\n",
      "3/3 [==============================] - 0s 19ms/step - loss: 2.7048 - val_loss: 2.6500\n",
      "Epoch 88/100\n",
      "3/3 [==============================] - 0s 17ms/step - loss: 2.8182 - val_loss: 2.4050\n",
      "Epoch 89/100\n",
      "3/3 [==============================] - 0s 23ms/step - loss: 3.1293 - val_loss: 2.4526\n",
      "Epoch 90/100\n",
      "3/3 [==============================] - 0s 14ms/step - loss: 3.0001 - val_loss: 3.7834\n",
      "Epoch 91/100\n",
      "3/3 [==============================] - 0s 20ms/step - loss: 3.3386 - val_loss: 2.8508\n",
      "Epoch 92/100\n",
      "3/3 [==============================] - 0s 20ms/step - loss: 3.5133 - val_loss: 2.2869\n",
      "Epoch 93/100\n",
      "3/3 [==============================] - 0s 18ms/step - loss: 3.2809 - val_loss: 3.3461\n",
      "Epoch 94/100\n",
      "3/3 [==============================] - 0s 16ms/step - loss: 3.3787 - val_loss: 2.4107\n",
      "Epoch 95/100\n",
      "3/3 [==============================] - 0s 20ms/step - loss: 2.9567 - val_loss: 3.0130\n",
      "Epoch 96/100\n",
      "3/3 [==============================] - 0s 21ms/step - loss: 3.4134 - val_loss: 2.4537\n",
      "Epoch 97/100\n",
      "3/3 [==============================] - 0s 21ms/step - loss: 2.9956 - val_loss: 2.8299\n",
      "Epoch 98/100\n",
      "3/3 [==============================] - 0s 18ms/step - loss: 3.0243 - val_loss: 2.4009\n",
      "Epoch 99/100\n",
      "3/3 [==============================] - 0s 17ms/step - loss: 2.8636 - val_loss: 2.2811\n",
      "Epoch 100/100\n",
      "3/3 [==============================] - 0s 22ms/step - loss: 2.7786 - val_loss: 2.2646\n"
     ]
    }
   ],
   "source": [
    "history = model_biased.fit([X_train, sid_train], y_train, epochs=100,\n",
    "                    validation_data=([X_valid, sid_valid], y_valid))"
   ]
  },
  {
   "cell_type": "code",
   "execution_count": 79,
   "id": "ca149f05",
   "metadata": {},
   "outputs": [
    {
     "name": "stdout",
     "output_type": "stream",
     "text": [
      "Saving figure grid_noBiaseNum_training_curve\n"
     ]
    },
    {
     "data": {
      "image/png": "[encoded data removed]",
      "text/plain": [
       "<Figure size 576x360 with 1 Axes>"
      ]
     },
     "metadata": {
      "needs_background": "light"
     },
     "output_type": "display_data"
    }
   ],
   "source": [
    "import pandas as pd\n",
    "\n",
    "pd.DataFrame(history.history).plot(figsize=(8, 5))\n",
    "plt.grid(True)\n",
    "# plt.gca().set_ylim(0, 1)\n",
    "save_fig(\"grid_noBiaseNum_training_curve\")\n",
    "plt.show()"
   ]
  },
  {
   "cell_type": "markdown",
   "id": "2433c7a5",
   "metadata": {},
   "source": [
    "The pure prediction"
   ]
  },
  {
   "cell_type": "code",
   "execution_count": 80,
   "id": "556ee2c4",
   "metadata": {},
   "outputs": [
    {
     "name": "stdout",
     "output_type": "stream",
     "text": [
      "X.shape = (None, 1)\n",
      "gauss_grid.shape = (None, 5)\n",
      "Saving figure grid_noBaisNum_prediction\n"
     ]
    },
    {
     "data": {
      "image/png": "[encoded data removed]",
      "text/plain": [
       "<Figure size 432x288 with 1 Axes>"
      ]
     },
     "metadata": {
      "needs_background": "light"
     },
     "output_type": "display_data"
    }
   ],
   "source": [
    "draw_points(X_train, y_train, sid_train)\n",
    "draw_func(model.predict, mark='r-', linewidth=2, label=\"Predictions\")\n",
    "draw_normal_func(func_dict)\n",
    "plt.xlabel(\"$x_1$\", fontsize=18)\n",
    "plt.ylabel(\"$y$\", rotation=0, fontsize=18)\n",
    "plt.legend(loc=\"upper left\", fontsize=14)\n",
    "# plt.axis([-3, 3, 0, 10])\n",
    "save_fig(\"grid_noBaisNum_prediction\")\n",
    "plt.show()"
   ]
  },
  {
   "cell_type": "code",
   "execution_count": 81,
   "id": "4d3d77cd",
   "metadata": {},
   "outputs": [
    {
     "name": "stdout",
     "output_type": "stream",
     "text": [
      "y_func.shape = (100, 1)\n",
      "y_gt.shape = (100, 1)\n"
     ]
    },
    {
     "data": {
      "text/plain": [
       "0.8704049016256612"
      ]
     },
     "execution_count": 81,
     "metadata": {},
     "output_type": "execute_result"
    }
   ],
   "source": [
    "get_prediction_error(model.predict, func_dict, name=\"grid-noBiasNum\")"
   ]
  },
  {
   "cell_type": "markdown",
   "id": "b89b2413",
   "metadata": {},
   "source": [
    "### Biased Prediction (according to SID)"
   ]
  },
  {
   "cell_type": "code",
   "execution_count": 82,
   "id": "0893f75e",
   "metadata": {},
   "outputs": [
    {
     "name": "stdout",
     "output_type": "stream",
     "text": [
      "scaled_bias = \n",
      "[[-11.675553]\n",
      " [ 11.826621]]\n",
      "\n",
      "mean_scaled_bias = \n",
      "[0.15106773]\n"
     ]
    }
   ],
   "source": [
    "scaled_bias = model_biased.get_layer(\"bias_est\").get_scaled_biases_np()\n",
    "mean_scaled_bias = np.sum(scaled_bias, axis=0)\n",
    "#\n",
    "print(\"scaled_bias = \\n%s\" % str(scaled_bias))\n",
    "print(\"\\nmean_scaled_bias = \\n%s\" % str(mean_scaled_bias))"
   ]
  },
  {
   "cell_type": "code",
   "execution_count": 83,
   "id": "01a675f7",
   "metadata": {},
   "outputs": [
    {
     "name": "stdout",
     "output_type": "stream",
     "text": [
      "output_scales = \n",
      "[[1.1650091]\n",
      " [0.8610178]]\n",
      "\n",
      "mean_scales = \n",
      "[1.0130135]\n"
     ]
    }
   ],
   "source": [
    "try:\n",
    "    output_scales = model_biased.get_layer(\"bias_est\").get_weights_np()\n",
    "    mean_scales = np.mean(output_scales, axis=0)\n",
    "    #\n",
    "    print(\"output_scales = \\n%s\" % str(output_scales))\n",
    "    print(\"\\nmean_scales = \\n%s\" % str(mean_scales))\n",
    "except:\n",
    "    pass"
   ]
  },
  {
   "cell_type": "code",
   "execution_count": 84,
   "id": "16460e63",
   "metadata": {},
   "outputs": [
    {
     "name": "stdout",
     "output_type": "stream",
     "text": [
      "X.shape = (None, 1)\n",
      "gauss_grid.shape = (None, 5)\n",
      "X.shape = (None, 1)\n",
      "SID.shape = (None, 1)\n",
      "Saving figure grid_noBaisNum_perSubjectCurve\n"
     ]
    },
    {
     "data": {
      "image/png": "[encoded data removed]",
      "text/plain": [
       "<Figure size 432x288 with 1 Axes>"
      ]
     },
     "metadata": {
      "needs_background": "light"
     },
     "output_type": "display_data"
    }
   ],
   "source": [
    "def predict_with_biase_sid(X, sid=1):\n",
    "    return model_biased.predict([X, tf.fill( (X.shape[0],1), sid)])\n",
    "\n",
    "draw_points(X_train, y_train, sid_train)\n",
    "#\n",
    "draw_func(model.predict, mark='r-', linewidth=2, label=\"Predictions\")\n",
    "for _idx in range(num_subject):\n",
    "    _sid = _idx + 1\n",
    "    draw_func(lambda X: predict_with_biase_sid(X, _sid), mark='k--', linewidth=1, label=(\"sid=%d\" % _sid))\n",
    "#\n",
    "draw_normal_func(func_dict)\n",
    "plt.xlabel(\"$x_1$\", fontsize=18)\n",
    "plt.ylabel(\"$y$\", rotation=0, fontsize=18)\n",
    "plt.legend(loc=\"upper left\", fontsize=14)\n",
    "# plt.axis([-3, 3, 0, 10])\n",
    "save_fig(\"grid_noBaisNum_perSubjectCurve\")\n",
    "plt.show()"
   ]
  },
  {
   "cell_type": "code",
   "execution_count": null,
   "id": "88fbe2df",
   "metadata": {},
   "outputs": [],
   "source": []
  },
  {
   "cell_type": "markdown",
   "id": "40092303",
   "metadata": {},
   "source": [
    "# Combine Multi-Quantile Redgression with Per-Subject Transform Estimation (grid --> multi-quantile)"
   ]
  },
  {
   "cell_type": "code",
   "execution_count": 85,
   "id": "ba230fb2",
   "metadata": {},
   "outputs": [],
   "source": [
    "# quantile_list = [0.5]\n",
    "# quantile_list = [0.9]\n",
    "# quantile_list = [0.1, 0.9] # Use hidden layer with 30 neurons\n",
    "# quantile_list = [0.05, 0.95]\n",
    "# quantile_list = [0.25, 0.75]\n",
    "# quantile_list = [0.1, 0.5, 0.9]\n",
    "# quantile_list = [0.1, 0.3, 0.7, 0.9]\n",
    "# quantile_list = [0.1, 0.2, 0.3, 0.4, 0.6, 0.7, 0.8, 0.9] # remove 0.5\n",
    "quantile_list = [0.1, 0.2, 0.3, 0.4, 0.5, 0.6, 0.7, 0.8, 0.9] # Should use wider hidden layer (with many neurons) + L1 regularization\n",
    "num_quantile = len(quantile_list)"
   ]
  },
  {
   "cell_type": "code",
   "execution_count": 86,
   "id": "26d0136c",
   "metadata": {},
   "outputs": [],
   "source": [
    "# Number of subjects\n",
    "num_subject = multiout_type"
   ]
  },
  {
   "cell_type": "code",
   "execution_count": 87,
   "id": "7d1cdc96",
   "metadata": {},
   "outputs": [
    {
     "name": "stdout",
     "output_type": "stream",
     "text": [
      "X.shape = (None, 1)\n",
      "gauss_grid.shape = (None, 5)\n",
      "X.shape = (None, 9)\n",
      "SID.shape = (None, 1)\n"
     ]
    }
   ],
   "source": [
    "inputs = keras.layers.Input(shape=X_train.shape[1:])\n",
    "inputs_sid = keras.layers.Input(shape=(1,), dtype=tf.int32)\n",
    "#\n",
    "z = num2grid(5,x_min=-10, x_max=10, sigma=3.0)(inputs)\n",
    "z = keras.layers.Dense(30, activation=\"relu\")(z)\n",
    "output = keras.layers.Dense(num_quantile)(z)\n",
    "# output_biased = SubjectBias(num_subject, bias_scale=10.0, mean_reg_rate=1.0, name=\"bias_est\")([output, inputs_sid])\n",
    "output_biased = SubjectLinearTransform1D(num_subject, bias_scale=10.0, weight_mean_reg_rate=5.0, bias_mean_reg_rate=1.0, name=\"bias_est\")([output, inputs_sid])\n",
    "# Setup models\n",
    "model = keras.Model(inputs=[inputs], outputs=[output]) # pure\n",
    "model_biased = keras.Model(inputs=[inputs, inputs_sid], outputs=[output_biased]) # biased, for training"
   ]
  },
  {
   "cell_type": "code",
   "execution_count": 88,
   "id": "0769d3b2",
   "metadata": {},
   "outputs": [
    {
     "name": "stderr",
     "output_type": "stream",
     "text": [
      "C:\\Users\\benso\\anaconda3\\envs\\ml\\lib\\site-packages\\keras\\optimizer_v2\\adam.py:105: UserWarning: The `lr` argument is deprecated, use `learning_rate` instead.\n",
      "  super(Adam, self).__init__(name, **kwargs)\n"
     ]
    }
   ],
   "source": [
    "# optimizer = keras.optimizers.SGD(lr=0.1, momentum=0.9)\n",
    "optimizer = keras.optimizers.Adam(lr=0.1)\n",
    "model_biased.compile(loss=pinballLoss_full_fn, optimizer=optimizer)\n",
    "# model.compile(loss=pinballLoss_full_fn, optimizer=optimizer) # No need to compile this if it's not going to be trained."
   ]
  },
  {
   "cell_type": "code",
   "execution_count": 89,
   "id": "9a37c998",
   "metadata": {
    "scrolled": true
   },
   "outputs": [
    {
     "name": "stdout",
     "output_type": "stream",
     "text": [
      "Epoch 1/100\n",
      "X.shape = (None, 1)\n",
      "gauss_grid.shape = (None, 5)\n",
      "X.shape = (None, 9)\n",
      "SID.shape = (None, 1)\n",
      "X.shape = (None, 1)\n",
      "gauss_grid.shape = (None, 5)\n",
      "X.shape = (None, 9)\n",
      "SID.shape = (None, 1)\n",
      "1/3 [=========>....................] - ETA: 2s - loss: 170.5191X.shape = (None, 1)\n",
      "gauss_grid.shape = (None, 5)\n",
      "X.shape = (None, 9)\n",
      "SID.shape = (None, 1)\n",
      "3/3 [==============================] - 2s 141ms/step - loss: 188.6084 - val_loss: 150.1254\n",
      "Epoch 2/100\n",
      "3/3 [==============================] - 0s 31ms/step - loss: 177.7605 - val_loss: 136.8065\n",
      "Epoch 3/100\n",
      "3/3 [==============================] - 0s 35ms/step - loss: 152.9031 - val_loss: 118.1618\n",
      "Epoch 4/100\n",
      "3/3 [==============================] - 0s 34ms/step - loss: 122.8794 - val_loss: 93.3317\n",
      "Epoch 5/100\n",
      "3/3 [==============================] - 0s 34ms/step - loss: 96.7259 - val_loss: 74.8594\n",
      "Epoch 6/100\n",
      "3/3 [==============================] - 0s 31ms/step - loss: 75.2630 - val_loss: 53.9725\n",
      "Epoch 7/100\n",
      "3/3 [==============================] - 0s 25ms/step - loss: 62.5958 - val_loss: 48.3697\n",
      "Epoch 8/100\n",
      "3/3 [==============================] - 0s 24ms/step - loss: 55.3684 - val_loss: 45.5318\n",
      "Epoch 9/100\n",
      "3/3 [==============================] - 0s 23ms/step - loss: 50.9404 - val_loss: 41.4149\n",
      "Epoch 10/100\n",
      "3/3 [==============================] - 0s 24ms/step - loss: 49.1986 - val_loss: 36.4157\n",
      "Epoch 11/100\n",
      "3/3 [==============================] - 0s 23ms/step - loss: 45.5861 - val_loss: 30.9656\n",
      "Epoch 12/100\n",
      "3/3 [==============================] - 0s 24ms/step - loss: 41.9127 - val_loss: 29.2418\n",
      "Epoch 13/100\n",
      "3/3 [==============================] - 0s 25ms/step - loss: 38.0355 - val_loss: 28.3392\n",
      "Epoch 14/100\n",
      "3/3 [==============================] - 0s 25ms/step - loss: 35.1527 - val_loss: 27.4931\n",
      "Epoch 15/100\n",
      "3/3 [==============================] - 0s 22ms/step - loss: 33.9286 - val_loss: 25.1794\n",
      "Epoch 16/100\n",
      "3/3 [==============================] - 0s 25ms/step - loss: 32.6530 - val_loss: 22.7397\n",
      "Epoch 17/100\n",
      "3/3 [==============================] - 0s 21ms/step - loss: 31.2273 - val_loss: 21.3855\n",
      "Epoch 18/100\n",
      "3/3 [==============================] - 0s 20ms/step - loss: 28.6018 - val_loss: 25.5828\n",
      "Epoch 19/100\n",
      "3/3 [==============================] - 0s 21ms/step - loss: 28.4255 - val_loss: 22.2550\n",
      "Epoch 20/100\n",
      "3/3 [==============================] - 0s 21ms/step - loss: 27.1721 - val_loss: 21.7759\n",
      "Epoch 21/100\n",
      "3/3 [==============================] - 0s 21ms/step - loss: 26.3619 - val_loss: 24.8714\n",
      "Epoch 22/100\n",
      "3/3 [==============================] - 0s 24ms/step - loss: 27.4074 - val_loss: 23.4016\n",
      "Epoch 23/100\n",
      "3/3 [==============================] - 0s 23ms/step - loss: 23.8206 - val_loss: 19.9690\n",
      "Epoch 24/100\n",
      "3/3 [==============================] - 0s 23ms/step - loss: 23.6720 - val_loss: 21.2772\n",
      "Epoch 25/100\n",
      "3/3 [==============================] - 0s 24ms/step - loss: 22.8239 - val_loss: 20.0492\n",
      "Epoch 26/100\n",
      "3/3 [==============================] - 0s 21ms/step - loss: 21.4111 - val_loss: 18.8416\n",
      "Epoch 27/100\n",
      "3/3 [==============================] - 0s 21ms/step - loss: 20.1597 - val_loss: 18.5429\n",
      "Epoch 28/100\n",
      "3/3 [==============================] - 0s 25ms/step - loss: 19.4347 - val_loss: 18.4311\n",
      "Epoch 29/100\n",
      "3/3 [==============================] - 0s 21ms/step - loss: 18.3346 - val_loss: 18.6563\n",
      "Epoch 30/100\n",
      "3/3 [==============================] - 0s 20ms/step - loss: 19.4912 - val_loss: 16.7072\n",
      "Epoch 31/100\n",
      "3/3 [==============================] - 0s 21ms/step - loss: 17.6396 - val_loss: 15.3654\n",
      "Epoch 32/100\n",
      "3/3 [==============================] - 0s 21ms/step - loss: 15.6881 - val_loss: 15.6875\n",
      "Epoch 33/100\n",
      "3/3 [==============================] - 0s 24ms/step - loss: 14.5498 - val_loss: 12.9116\n",
      "Epoch 34/100\n",
      "3/3 [==============================] - 0s 24ms/step - loss: 13.7647 - val_loss: 13.1759\n",
      "Epoch 35/100\n",
      "3/3 [==============================] - 0s 27ms/step - loss: 12.9095 - val_loss: 12.1987\n",
      "Epoch 36/100\n",
      "3/3 [==============================] - 0s 22ms/step - loss: 12.2612 - val_loss: 12.1090\n",
      "Epoch 37/100\n",
      "3/3 [==============================] - 0s 23ms/step - loss: 11.7499 - val_loss: 11.8628\n",
      "Epoch 38/100\n",
      "3/3 [==============================] - 0s 20ms/step - loss: 10.7918 - val_loss: 10.8722\n",
      "Epoch 39/100\n",
      "3/3 [==============================] - 0s 23ms/step - loss: 12.3557 - val_loss: 11.8903\n",
      "Epoch 40/100\n",
      "3/3 [==============================] - 0s 21ms/step - loss: 12.4647 - val_loss: 12.2579\n",
      "Epoch 41/100\n",
      "3/3 [==============================] - 0s 22ms/step - loss: 11.6002 - val_loss: 12.9295\n",
      "Epoch 42/100\n",
      "3/3 [==============================] - 0s 23ms/step - loss: 12.7595 - val_loss: 14.0793\n",
      "Epoch 43/100\n",
      "3/3 [==============================] - 0s 22ms/step - loss: 12.5398 - val_loss: 12.8753\n",
      "Epoch 44/100\n",
      "3/3 [==============================] - 0s 22ms/step - loss: 13.8318 - val_loss: 11.4437\n",
      "Epoch 45/100\n",
      "3/3 [==============================] - 0s 25ms/step - loss: 11.0595 - val_loss: 10.2032\n",
      "Epoch 46/100\n",
      "3/3 [==============================] - 0s 25ms/step - loss: 10.9857 - val_loss: 10.0277\n",
      "Epoch 47/100\n",
      "3/3 [==============================] - 0s 23ms/step - loss: 11.5256 - val_loss: 9.5549\n",
      "Epoch 48/100\n",
      "3/3 [==============================] - 0s 20ms/step - loss: 12.2382 - val_loss: 10.5464\n",
      "Epoch 49/100\n",
      "3/3 [==============================] - 0s 21ms/step - loss: 11.2039 - val_loss: 10.3220\n",
      "Epoch 50/100\n",
      "3/3 [==============================] - 0s 22ms/step - loss: 11.0734 - val_loss: 10.6820\n",
      "Epoch 51/100\n",
      "3/3 [==============================] - 0s 30ms/step - loss: 11.7668 - val_loss: 13.0019\n",
      "Epoch 52/100\n",
      "3/3 [==============================] - 0s 28ms/step - loss: 11.8655 - val_loss: 10.4588\n",
      "Epoch 53/100\n",
      "3/3 [==============================] - 0s 25ms/step - loss: 11.8907 - val_loss: 12.9366\n",
      "Epoch 54/100\n",
      "3/3 [==============================] - 0s 26ms/step - loss: 12.9726 - val_loss: 12.3977\n",
      "Epoch 55/100\n",
      "3/3 [==============================] - 0s 25ms/step - loss: 13.6948 - val_loss: 14.8746\n",
      "Epoch 56/100\n",
      "3/3 [==============================] - 0s 31ms/step - loss: 14.0608 - val_loss: 10.9883\n",
      "Epoch 57/100\n",
      "3/3 [==============================] - 0s 24ms/step - loss: 13.1839 - val_loss: 11.1106\n",
      "Epoch 58/100\n",
      "3/3 [==============================] - 0s 29ms/step - loss: 11.9514 - val_loss: 11.1434\n",
      "Epoch 59/100\n",
      "3/3 [==============================] - 0s 31ms/step - loss: 12.8573 - val_loss: 11.1246\n",
      "Epoch 60/100\n",
      "3/3 [==============================] - 0s 22ms/step - loss: 11.4134 - val_loss: 10.2059\n",
      "Epoch 61/100\n",
      "3/3 [==============================] - 0s 25ms/step - loss: 11.1008 - val_loss: 9.8037\n",
      "Epoch 62/100\n",
      "3/3 [==============================] - 0s 22ms/step - loss: 10.3752 - val_loss: 9.8076\n",
      "Epoch 63/100\n",
      "3/3 [==============================] - 0s 24ms/step - loss: 10.2672 - val_loss: 10.6642\n",
      "Epoch 64/100\n",
      "3/3 [==============================] - 0s 22ms/step - loss: 10.9713 - val_loss: 10.3062\n",
      "Epoch 65/100\n",
      "3/3 [==============================] - 0s 23ms/step - loss: 10.5245 - val_loss: 9.7176\n",
      "Epoch 66/100\n",
      "3/3 [==============================] - 0s 27ms/step - loss: 9.7067 - val_loss: 11.9450\n",
      "Epoch 67/100\n",
      "3/3 [==============================] - 0s 26ms/step - loss: 11.3292 - val_loss: 11.2015\n",
      "Epoch 68/100\n",
      "3/3 [==============================] - 0s 28ms/step - loss: 11.3762 - val_loss: 11.4847\n",
      "Epoch 69/100\n",
      "3/3 [==============================] - 0s 33ms/step - loss: 11.2525 - val_loss: 10.4657\n",
      "Epoch 70/100\n",
      "3/3 [==============================] - 0s 29ms/step - loss: 11.0907 - val_loss: 10.6567\n",
      "Epoch 71/100\n",
      "3/3 [==============================] - 0s 31ms/step - loss: 10.4054 - val_loss: 9.7854\n",
      "Epoch 72/100\n",
      "3/3 [==============================] - 0s 23ms/step - loss: 11.0046 - val_loss: 9.5157\n",
      "Epoch 73/100\n",
      "3/3 [==============================] - 0s 25ms/step - loss: 11.5509 - val_loss: 9.3980\n",
      "Epoch 74/100\n",
      "3/3 [==============================] - 0s 29ms/step - loss: 11.1214 - val_loss: 10.3048\n",
      "Epoch 75/100\n",
      "3/3 [==============================] - 0s 25ms/step - loss: 11.9026 - val_loss: 9.8534\n",
      "Epoch 76/100\n",
      "3/3 [==============================] - 0s 31ms/step - loss: 11.5075 - val_loss: 10.8239\n",
      "Epoch 77/100\n",
      "3/3 [==============================] - 0s 27ms/step - loss: 11.4150 - val_loss: 9.2240\n",
      "Epoch 78/100\n",
      "3/3 [==============================] - 0s 25ms/step - loss: 10.6694 - val_loss: 9.5707\n"
     ]
    },
    {
     "name": "stdout",
     "output_type": "stream",
     "text": [
      "Epoch 79/100\n",
      "3/3 [==============================] - 0s 30ms/step - loss: 10.7318 - val_loss: 9.6888\n",
      "Epoch 80/100\n",
      "3/3 [==============================] - 0s 25ms/step - loss: 11.8174 - val_loss: 12.2916\n",
      "Epoch 81/100\n",
      "3/3 [==============================] - 0s 29ms/step - loss: 13.6305 - val_loss: 11.3573\n",
      "Epoch 82/100\n",
      "3/3 [==============================] - 0s 25ms/step - loss: 13.4756 - val_loss: 9.8115\n",
      "Epoch 83/100\n",
      "3/3 [==============================] - 0s 21ms/step - loss: 11.2904 - val_loss: 9.8273\n",
      "Epoch 84/100\n",
      "3/3 [==============================] - 0s 21ms/step - loss: 11.2799 - val_loss: 10.8731\n",
      "Epoch 85/100\n",
      "3/3 [==============================] - 0s 21ms/step - loss: 11.7474 - val_loss: 10.7091\n",
      "Epoch 86/100\n",
      "3/3 [==============================] - 0s 20ms/step - loss: 11.1035 - val_loss: 9.7818\n",
      "Epoch 87/100\n",
      "3/3 [==============================] - 0s 25ms/step - loss: 10.4782 - val_loss: 9.7705\n",
      "Epoch 88/100\n",
      "3/3 [==============================] - 0s 21ms/step - loss: 9.9104 - val_loss: 9.4023\n",
      "Epoch 89/100\n",
      "3/3 [==============================] - 0s 21ms/step - loss: 9.8819 - val_loss: 9.4489\n",
      "Epoch 90/100\n",
      "3/3 [==============================] - 0s 25ms/step - loss: 9.8847 - val_loss: 9.8661\n",
      "Epoch 91/100\n",
      "3/3 [==============================] - 0s 22ms/step - loss: 9.6973 - val_loss: 9.4029\n",
      "Epoch 92/100\n",
      "3/3 [==============================] - 0s 21ms/step - loss: 10.1048 - val_loss: 9.1688\n",
      "Epoch 93/100\n",
      "3/3 [==============================] - 0s 25ms/step - loss: 9.5654 - val_loss: 8.8747\n",
      "Epoch 94/100\n",
      "3/3 [==============================] - 0s 21ms/step - loss: 9.1780 - val_loss: 8.7980\n",
      "Epoch 95/100\n",
      "3/3 [==============================] - 0s 23ms/step - loss: 9.5893 - val_loss: 8.5017\n",
      "Epoch 96/100\n",
      "3/3 [==============================] - 0s 23ms/step - loss: 9.4011 - val_loss: 8.8769\n",
      "Epoch 97/100\n",
      "3/3 [==============================] - 0s 28ms/step - loss: 9.6460 - val_loss: 9.3513\n",
      "Epoch 98/100\n",
      "3/3 [==============================] - 0s 25ms/step - loss: 10.2786 - val_loss: 9.5449\n",
      "Epoch 99/100\n",
      "3/3 [==============================] - 0s 27ms/step - loss: 10.1352 - val_loss: 9.1919\n",
      "Epoch 100/100\n",
      "3/3 [==============================] - 0s 23ms/step - loss: 9.3781 - val_loss: 9.6678\n"
     ]
    }
   ],
   "source": [
    "history = model_biased.fit([X_train, sid_train], y_train, epochs=100,\n",
    "                    validation_data=([X_valid, sid_valid], y_valid))"
   ]
  },
  {
   "cell_type": "code",
   "execution_count": 90,
   "id": "66d04b69",
   "metadata": {},
   "outputs": [
    {
     "name": "stdout",
     "output_type": "stream",
     "text": [
      "Saving figure grid_NoBiasQuantile_training_curve\n"
     ]
    },
    {
     "data": {
      "image/png": "[encoded data removed]",
      "text/plain": [
       "<Figure size 576x360 with 1 Axes>"
      ]
     },
     "metadata": {
      "needs_background": "light"
     },
     "output_type": "display_data"
    }
   ],
   "source": [
    "import pandas as pd\n",
    "\n",
    "pd.DataFrame(history.history).plot(figsize=(8, 5))\n",
    "plt.grid(True)\n",
    "# plt.gca().set_ylim(0, 1)\n",
    "save_fig(\"grid_NoBiasQuantile_training_curve\")\n",
    "plt.show()"
   ]
  },
  {
   "cell_type": "markdown",
   "id": "9e1f1c9b",
   "metadata": {},
   "source": [
    "### Draw the \"pure\" mean prediction curve averaged from all quantile predictions."
   ]
  },
  {
   "cell_type": "code",
   "execution_count": 91,
   "id": "2f62afb2",
   "metadata": {},
   "outputs": [
    {
     "name": "stdout",
     "output_type": "stream",
     "text": [
      "X.shape = (None, 1)\n",
      "gauss_grid.shape = (None, 5)\n",
      "Saving figure grid_noBiaseQuantile_prediction\n"
     ]
    },
    {
     "data": {
      "image/png": "[encoded data removed]",
      "text/plain": [
       "<Figure size 432x288 with 1 Axes>"
      ]
     },
     "metadata": {
      "needs_background": "light"
     },
     "output_type": "display_data"
    }
   ],
   "source": [
    "# plt.plot(X_train, y_train, \"b.\")\n",
    "draw_points(X_train, y_train, sid_train)\n",
    "draw_func((lambda X: np.average(model.predict(X), axis=-1) ), mark='r-', linewidth=2, label=\"Predictions\")\n",
    "draw_normal_func(func_dict)\n",
    "plt.xlabel(\"$x_1$\", fontsize=18)\n",
    "plt.ylabel(\"$y$\", rotation=0, fontsize=18)\n",
    "plt.legend(loc=\"upper left\", fontsize=14)\n",
    "# plt.axis([-3, 3, 0, 10])\n",
    "save_fig(\"grid_noBiaseQuantile_prediction\")\n",
    "plt.show()"
   ]
  },
  {
   "cell_type": "code",
   "execution_count": 92,
   "id": "4ffc0f23",
   "metadata": {},
   "outputs": [
    {
     "name": "stdout",
     "output_type": "stream",
     "text": [
      "y_func.shape = (100, 1)\n",
      "y_gt.shape = (100, 1)\n"
     ]
    },
    {
     "data": {
      "text/plain": [
       "0.9307531466047014"
      ]
     },
     "execution_count": 92,
     "metadata": {},
     "output_type": "execute_result"
    }
   ],
   "source": [
    "get_prediction_error((lambda X: np.average(model.predict(X), axis=-1) ), func_dict, name=\"grid-noBiaseQuantileR\")"
   ]
  },
  {
   "cell_type": "markdown",
   "id": "a213fbdb",
   "metadata": {},
   "source": [
    "### Draw all \"pure\" quantile prediction"
   ]
  },
  {
   "cell_type": "code",
   "execution_count": 93,
   "id": "ff824ca7",
   "metadata": {},
   "outputs": [
    {
     "name": "stdout",
     "output_type": "stream",
     "text": [
      "Saving figure grid_quantile_all_quantiles\n"
     ]
    },
    {
     "data": {
      "image/png": "[encoded data removed]",
      "text/plain": [
       "<Figure size 432x288 with 1 Axes>"
      ]
     },
     "metadata": {
      "needs_background": "light"
     },
     "output_type": "display_data"
    }
   ],
   "source": [
    "# plt.plot(X_train, y_train, \"b.\")\n",
    "draw_points(X_train, y_train, sid_train)\n",
    "draw_func((lambda X: np.average(model.predict(X), axis=-1) ), mark='r-', linewidth=2, label=\"Predictions\")\n",
    "for _idx, _tau in enumerate(quantile_list):\n",
    "    draw_func((lambda X: model.predict(X)[:,_idx] ), mark='k--', linewidth=1, label=\"$y_{%d}$\" % (_tau*100))\n",
    "draw_normal_func(func_dict)\n",
    "plt.xlabel(\"$x_1$\", fontsize=18)\n",
    "plt.ylabel(\"$y$\", rotation=0, fontsize=18)\n",
    "plt.legend(loc=\"upper left\", fontsize=14)\n",
    "# plt.axis([-3, 3, 0, 10])\n",
    "save_fig(\"grid_quantile_all_quantiles\")\n",
    "plt.show()"
   ]
  },
  {
   "cell_type": "markdown",
   "id": "11c7ec73",
   "metadata": {},
   "source": [
    "### Estimated Biases and Scales (according to SID)"
   ]
  },
  {
   "cell_type": "code",
   "execution_count": 94,
   "id": "9a79c04b",
   "metadata": {},
   "outputs": [
    {
     "name": "stdout",
     "output_type": "stream",
     "text": [
      "scaled_bias = \n",
      "[[-11.521945  -11.837083  -12.065443  -12.267654  -12.342204  -13.051209\n",
      "  -13.33634   -13.236295  -14.342135 ]\n",
      " [ 11.399994   12.158916   12.1422205  12.305112   12.6192465  12.87484\n",
      "   12.775516   12.922412   13.940474 ]]\n",
      "\n",
      "mean_scaled_bias = \n",
      "[-0.1219511   0.3218336   0.07677746  0.03745747  0.2770424  -0.17636967\n",
      " -0.5608244  -0.31388283 -0.40166187]\n"
     ]
    }
   ],
   "source": [
    "scaled_bias = model_biased.get_layer(\"bias_est\").get_scaled_biases_np()\n",
    "mean_scaled_bias = np.sum(scaled_bias, axis=0)\n",
    "#\n",
    "print(\"scaled_bias = \\n%s\" % str(scaled_bias))\n",
    "print(\"\\nmean_scaled_bias = \\n%s\" % str(mean_scaled_bias))"
   ]
  },
  {
   "cell_type": "code",
   "execution_count": 95,
   "id": "ef5bb592",
   "metadata": {},
   "outputs": [
    {
     "name": "stdout",
     "output_type": "stream",
     "text": [
      "output_scales = \n",
      "[[1.0984608  1.1121975  1.1557485  1.1348495  1.111499   1.1596328\n",
      "  1.123409   1.1415944  1.1410028 ]\n",
      " [0.8736232  0.839479   0.8770059  0.85422087 0.83798844 0.8543848\n",
      "  0.8560362  0.86236584 0.86884934]]\n",
      "\n",
      "mean_scales = \n",
      "[0.986042  0.9758383 1.0163772 0.9945352 0.9747437 1.0070088 0.9897226\n",
      " 1.0019801 1.0049261]\n"
     ]
    }
   ],
   "source": [
    "try:\n",
    "    output_scales = model_biased.get_layer(\"bias_est\").get_weights_np()\n",
    "    mean_scales = np.mean(output_scales, axis=0)\n",
    "    #\n",
    "    print(\"output_scales = \\n%s\" % str(output_scales))\n",
    "    print(\"\\nmean_scales = \\n%s\" % str(mean_scales))\n",
    "except:\n",
    "    pass"
   ]
  },
  {
   "cell_type": "markdown",
   "id": "c493d1c8",
   "metadata": {},
   "source": [
    "### Plotting of mean quantiles for each subject"
   ]
  },
  {
   "cell_type": "code",
   "execution_count": 96,
   "id": "3c2bd240",
   "metadata": {},
   "outputs": [
    {
     "name": "stdout",
     "output_type": "stream",
     "text": [
      "X.shape = (None, 1)\n",
      "gauss_grid.shape = (None, 5)\n",
      "X.shape = (None, 9)\n",
      "SID.shape = (None, 1)\n",
      "Saving figure grid_noBaisNum_perSubjectCurve\n"
     ]
    },
    {
     "data": {
      "image/png": "[encoded data removed]",
      "text/plain": [
       "<Figure size 432x288 with 1 Axes>"
      ]
     },
     "metadata": {
      "needs_background": "light"
     },
     "output_type": "display_data"
    }
   ],
   "source": [
    "def predict_with_biase_sid(X, sid=1):\n",
    "    return np.average( model_biased.predict([X, tf.fill( (X.shape[0],1), sid)]), axis=1)\n",
    "\n",
    "draw_points(X_train, y_train, sid_train)\n",
    "#\n",
    "draw_func((lambda X: np.average(model.predict(X), axis=-1) ), mark='r-', linewidth=2, label=\"Predictions\")\n",
    "for _idx in range(num_subject):\n",
    "    _sid = _idx + 1\n",
    "    draw_func(lambda X: predict_with_biase_sid(X, _sid), mark='k--', linewidth=1, label=(\"sid=%d\" % _sid))\n",
    "#\n",
    "draw_normal_func(func_dict)\n",
    "plt.xlabel(\"$x_1$\", fontsize=18)\n",
    "plt.ylabel(\"$y$\", rotation=0, fontsize=18)\n",
    "plt.legend(loc=\"upper left\", fontsize=14)\n",
    "# plt.axis([-3, 3, 0, 10])\n",
    "save_fig(\"grid_noBaisNum_perSubjectCurve\")\n",
    "plt.show()"
   ]
  },
  {
   "cell_type": "code",
   "execution_count": null,
   "id": "00b87d5e",
   "metadata": {},
   "outputs": [],
   "source": []
  },
  {
   "cell_type": "code",
   "execution_count": null,
   "id": "79ac8ef1",
   "metadata": {},
   "outputs": [],
   "source": []
  },
  {
   "cell_type": "markdown",
   "id": "82ec4fc4",
   "metadata": {},
   "source": [
    "# Summary"
   ]
  },
  {
   "cell_type": "code",
   "execution_count": 97,
   "id": "2d764d70",
   "metadata": {},
   "outputs": [
    {
     "name": "stdout",
     "output_type": "stream",
     "text": [
      "num-num: 6.003285\n",
      "grid-num: 4.516373\n",
      "grid-rbc: 3.981074\n",
      "grid-quantileR: 1.499189\n",
      "grid-oneGaussian: 5.597625\n",
      "grid-noBiasNum: 0.870405\n",
      "grid-noBiaseQuantileR: 0.930753\n",
      "\n"
     ]
    }
   ],
   "source": [
    "results = print_all_prediction_error()"
   ]
  },
  {
   "cell_type": "code",
   "execution_count": 98,
   "id": "9f01e530",
   "metadata": {},
   "outputs": [
    {
     "name": "stdout",
     "output_type": "stream",
     "text": [
      "Saving all prediction errors to [.\\images\\regression_test_2\\prediction_errors.txt].\n"
     ]
    },
    {
     "data": {
      "text/plain": [
       "True"
      ]
     },
     "execution_count": 98,
     "metadata": {},
     "output_type": "execute_result"
    }
   ],
   "source": [
    "save_prediction_errors()"
   ]
  },
  {
   "cell_type": "code",
   "execution_count": null,
   "id": "0c3bdf42",
   "metadata": {},
   "outputs": [],
   "source": []
  },
  {
   "cell_type": "code",
   "execution_count": null,
   "id": "a5e6a55a",
   "metadata": {},
   "outputs": [],
   "source": []
  },
  {
   "cell_type": "code",
   "execution_count": null,
   "id": "1838a588",
   "metadata": {},
   "outputs": [],
   "source": []
  },
  {
   "cell_type": "code",
   "execution_count": null,
   "id": "2f94dffa",
   "metadata": {},
   "outputs": [],
   "source": []
  }
 ],
 "metadata": {
  "kernelspec": {
   "display_name": "Python 3 (ipykernel)",
   "language": "python",
   "name": "python3"
  },
  "language_info": {
   "codemirror_mode": {
    "name": "ipython",
    "version": 3
   },
   "file_extension": ".py",
   "mimetype": "text/x-python",
   "name": "python",
   "nbconvert_exporter": "python",
   "pygments_lexer": "ipython3",
   "version": "3.9.7"
  }
 },
 "nbformat": 4,
 "nbformat_minor": 5
}
