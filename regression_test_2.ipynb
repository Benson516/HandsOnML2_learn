{
 "cells": [
  {
   "cell_type": "markdown",
   "id": "899fa113",
   "metadata": {},
   "source": [
    "# Regression with Different Output Format under Various Data Conditions\n",
    "\n",
    "In this experience, we test the following output format for regression task under several different data coditions.\n",
    "- Numerical output\n",
    "- Regression as classification (grid-out)\n",
    "\n",
    "The data coditions include:\n",
    "- Sparse (few data)\n",
    "- Grouped\n",
    "  - Biased (parallel data)\n",
    "  - Completely different mode, uncorrelated data (cross)\n",
    "  - Partially diversed (split)"
   ]
  },
  {
   "cell_type": "code",
   "execution_count": 1,
   "id": "625ce7c3",
   "metadata": {},
   "outputs": [],
   "source": [
    "import numpy as np\n",
    "import tensorflow as tf\n",
    "from tensorflow import keras\n",
    "\n",
    "# To plot pretty figures\n",
    "%matplotlib inline\n",
    "import matplotlib as mpl\n",
    "import matplotlib.pyplot as plt\n",
    "mpl.rc('axes', labelsize=14)\n",
    "mpl.rc('xtick', labelsize=12)\n",
    "mpl.rc('ytick', labelsize=12)"
   ]
  },
  {
   "cell_type": "code",
   "execution_count": 2,
   "id": "94e8a077",
   "metadata": {},
   "outputs": [],
   "source": [
    "def draw_func(func_in, x_min=-5, x_max=5, mark='r--', linewidth=1, label='func'):\n",
    "    n_sample = 100\n",
    "    X_func = np.linspace(x_min, x_max, n_sample).reshape(n_sample, 1)\n",
    "    y_func = func_in(X_func)\n",
    "    plt.plot(X_func, y_func, mark, linewidth=linewidth, label=label)"
   ]
  },
  {
   "cell_type": "markdown",
   "id": "c27ffe35",
   "metadata": {},
   "source": [
    "Generate polynomial data"
   ]
  },
  {
   "cell_type": "code",
   "execution_count": 3,
   "id": "ce670ce4",
   "metadata": {},
   "outputs": [],
   "source": [
    "poly_a1 = 5.0\n",
    "# poly_a1 = -10.0 # 5.0\n",
    "#\n",
    "sin_a = 0.0\n",
    "# sin_a = 10.0\n",
    "sin_f = 0.1 # 0.2\n",
    "#\n",
    "def func_0(X): # Reference\n",
    "    return 0.5 * X**3 + 0.5 * X**2 + (poly_a1)*X + 2 + sin_a*np.sin(2.0*np.pi*sin_f*X)\n",
    "def func_1(X): # Variation 1: parellel\n",
    "    return 0.5 * X**3 + 0.5 * X**2 + (poly_a1)*X + 30 + sin_a*np.sin(2.0*np.pi*sin_f*X)\n",
    "def func_2(X): # Variation 2: cross\n",
    "    return -0.5 * X**3 + 0.5 * X**2 + (poly_a1)*X + 30 + sin_a*np.sin(2.0*np.pi*sin_f*X)\n",
    "def func_3(X): # Variation 3: slightly split\n",
    "    return 0.3 * X**3 + 1.0 * X**2 + (poly_a1)*X + 15 + sin_a*np.sin(2.0*np.pi*sin_f*X)\n",
    "def func_4(X): # Sine wave~\n",
    "    return 0.5 * X**3 + 0.5 * X**2 + (poly_a1)*X + 2 + 50.0*np.sin(2.0*np.pi*sin_f*X)"
   ]
  },
  {
   "cell_type": "code",
   "execution_count": 4,
   "id": "9463bfff",
   "metadata": {},
   "outputs": [],
   "source": [
    "func_dict = dict()\n",
    "func_dict[\"f1\"] = func_0\n",
    "# func_dict[\"f2\"] = func_1\n",
    "# func_dict[\"f2\"] = func_2\n",
    "func_dict[\"f2\"] = func_3\n",
    "# func_dict[\"f2\"] = func_4\n",
    "\n",
    "# Average line\n",
    "func_dict[\"f_avg\"] = ( lambda X: 0.5*func_dict[\"f1\"](X) + 0.5*func_dict[\"f2\"](X) )"
   ]
  },
  {
   "cell_type": "code",
   "execution_count": 5,
   "id": "9bd2136c",
   "metadata": {},
   "outputs": [],
   "source": [
    "def draw_normal_func(func_dict):\n",
    "    draw_func(func_dict[\"f1\"], mark='c:', label=\"f1\")\n",
    "    draw_func(func_dict[\"f2\"], mark='g:', label=\"f2\")\n",
    "    draw_func(func_dict[\"f_avg\"], mark='m--', label=\"f_avg\")"
   ]
  },
  {
   "cell_type": "code",
   "execution_count": 6,
   "id": "63437d0c",
   "metadata": {},
   "outputs": [
    {
     "name": "stdout",
     "output_type": "stream",
     "text": [
      "(m, m_train) = (100, 80)\n",
      "y_data_pure.shape = (100, 1)\n",
      "y_data.shape = (100, 1)\n"
     ]
    }
   ],
   "source": [
    "np.random.seed(42)\n",
    "m = 100 # 50 # 100 # 200\n",
    "m_train = m // 5 * 4\n",
    "print(\"(m, m_train) = (%d, %d)\" % (m, m_train))\n",
    "\n",
    "# Input\n",
    "is_gapped = True\n",
    "# is_gapped = False\n",
    "#\n",
    "if not is_gapped:\n",
    "    X_data = 10 * np.random.rand(m, 1) - 5 # Note: X is randomly sampled, so we don't need to shuffle the data again\n",
    "else:\n",
    "    X_data = np.concatenate( (np.linspace(-5.0, -2.0, m//2), np.linspace(2.0, 5.0, m-m//2)) )\n",
    "    X_data = X_data.reshape((m,1))\n",
    "    np.random.shuffle(X_data)\n",
    "\n",
    "# Output\n",
    "is_multiout = True\n",
    "# is_multiout = False\n",
    "if is_multiout:\n",
    "    m_h = m // 2\n",
    "    X_data_1 = X_data[:m_h]\n",
    "    X_data_2 = X_data[m_h:]\n",
    "    y_data_pure_1 = func_dict[\"f1\"](X_data_1) \n",
    "    y_data_pure_2 = func_dict[\"f2\"](X_data_2) \n",
    "    y_data_pure = np.vstack([y_data_pure_1, y_data_pure_2])\n",
    "    print(\"y_data_pure.shape = %s\" % str(y_data_pure.shape))\n",
    "else:        \n",
    "    y_data_pure = func_dict[\"f_avg\"](X_data)\n",
    "\n",
    "# Label (+noise)\n",
    "n_stddev = 2.0\n",
    "# n_stddev = 10.0\n",
    "y_data = y_data_pure + np.random.randn(m, 1) * n_stddev\n",
    "print(\"y_data.shape = %s\" % str(y_data.shape))"
   ]
  },
  {
   "cell_type": "code",
   "execution_count": 7,
   "id": "ef588fae",
   "metadata": {},
   "outputs": [],
   "source": [
    "# Method 1: simply slice\n",
    "# X_train = X_data[:m_train]\n",
    "# y_train = y_data[:m_train]\n",
    "# X_valid = X_data[m_train:]\n",
    "# y_valid = y_data[m_train:]\n",
    "\n",
    "# Method 2: shuffle\n",
    "from sklearn.model_selection import train_test_split\n",
    "X_train, X_valid, y_train, y_valid = train_test_split(X_data, y_data, test_size=0.2, random_state=42)"
   ]
  },
  {
   "cell_type": "code",
   "execution_count": 8,
   "id": "3b5d2cfe",
   "metadata": {},
   "outputs": [
    {
     "name": "stdout",
     "output_type": "stream",
     "text": [
      "(80, 1)\n"
     ]
    }
   ],
   "source": [
    "print(X_train.shape)"
   ]
  },
  {
   "cell_type": "code",
   "execution_count": 9,
   "id": "693af3b7",
   "metadata": {},
   "outputs": [
    {
     "data": {
      "image/png": "[encoded data removed]",
      "text/plain": [
       "<Figure size 432x288 with 1 Axes>"
      ]
     },
     "metadata": {
      "needs_background": "light"
     },
     "output_type": "display_data"
    }
   ],
   "source": [
    "plt.plot(X_train, y_train, \"b.\")\n",
    "draw_normal_func(func_dict)\n",
    "plt.xlabel(\"$x_1$\", fontsize=18)\n",
    "plt.ylabel(\"$y$\", rotation=0, fontsize=18)\n",
    "# plt.axis([-3, 3, 0, 10])\n",
    "plt.show()"
   ]
  },
  {
   "cell_type": "code",
   "execution_count": 10,
   "id": "a6853ff1",
   "metadata": {},
   "outputs": [],
   "source": [
    "prediction_error_dict = dict()\n",
    "\n",
    "def get_prediction_error(func_in, func_dict, name=\"\", x_min=-5, x_max=5, prediction_error_dict=prediction_error_dict):\n",
    "    n_sample = 100\n",
    "    X_func = np.linspace(x_min, x_max, n_sample).reshape(n_sample, 1)\n",
    "    y_func = func_in(X_func).reshape((n_sample,1))\n",
    "    y_gt = func_dict[\"f_avg\"](X_func).reshape((n_sample,1))\n",
    "    print(\"y_func.shape = %s\" % str(y_func.shape))\n",
    "    print(\"y_gt.shape = %s\" % str(y_gt.shape))\n",
    "#     total_error = np.sqrt(np.square(y_func - y_gt).mean())\n",
    "    total_error = np.abs(y_func - y_gt).mean()\n",
    "    prediction_error_dict[name] = total_error\n",
    "    return total_error\n",
    "\n",
    "def print_all_prediction_error(prediction_error_dict=prediction_error_dict):\n",
    "    for _n in prediction_error_dict:\n",
    "        print(\"%s: %f\" % (_n, prediction_error_dict[_n]))"
   ]
  },
  {
   "cell_type": "markdown",
   "id": "053ecc57",
   "metadata": {},
   "source": [
    "# Simple FCs (number --> number)"
   ]
  },
  {
   "cell_type": "markdown",
   "id": "c66eb67b",
   "metadata": {},
   "source": [
    "Build the regression model"
   ]
  },
  {
   "cell_type": "code",
   "execution_count": 11,
   "id": "9449fc0b",
   "metadata": {},
   "outputs": [
    {
     "name": "stderr",
     "output_type": "stream",
     "text": [
      "C:\\Users\\benso\\anaconda3\\envs\\ml\\lib\\site-packages\\keras\\optimizer_v2\\gradient_descent.py:102: UserWarning: The `lr` argument is deprecated, use `learning_rate` instead.\n",
      "  super(SGD, self).__init__(name, **kwargs)\n"
     ]
    }
   ],
   "source": [
    "model = keras.models.Sequential([\n",
    "    keras.layers.Dense(30, activation=\"relu\", input_shape=X_train.shape[1:]),\n",
    "    keras.layers.Dense(30, activation=\"relu\"),\n",
    "    keras.layers.Dense(1)\n",
    "])\n",
    "\n",
    "optimizer = keras.optimizers.SGD(lr=0.0001, momentum=0.9)\n",
    "model.compile(loss=\"mean_squared_error\", optimizer=optimizer)\n",
    "# optimizer = keras.optimizers.Adam(lr=0.01)\n",
    "# model.compile(loss=\"mean_absolute_error\", optimizer=optimizer)"
   ]
  },
  {
   "cell_type": "code",
   "execution_count": 12,
   "id": "92afd68a",
   "metadata": {
    "scrolled": true
   },
   "outputs": [
    {
     "name": "stdout",
     "output_type": "stream",
     "text": [
      "Epoch 1/100\n",
      "3/3 [==============================] - 1s 83ms/step - loss: 2513.3196 - val_loss: 1713.5133\n",
      "Epoch 2/100\n",
      "3/3 [==============================] - 0s 19ms/step - loss: 2432.6443 - val_loss: 1624.2258\n",
      "Epoch 3/100\n",
      "3/3 [==============================] - 0s 16ms/step - loss: 2277.2610 - val_loss: 1471.4469\n",
      "Epoch 4/100\n",
      "3/3 [==============================] - 0s 26ms/step - loss: 1990.8176 - val_loss: 1141.0322\n",
      "Epoch 5/100\n",
      "3/3 [==============================] - 0s 30ms/step - loss: 1353.3342 - val_loss: 537.2869\n",
      "Epoch 6/100\n",
      "3/3 [==============================] - 0s 23ms/step - loss: 410.1280 - val_loss: 681.7394\n",
      "Epoch 7/100\n",
      "3/3 [==============================] - 0s 28ms/step - loss: 814.7443 - val_loss: 333.2197\n",
      "Epoch 8/100\n",
      "3/3 [==============================] - 0s 25ms/step - loss: 288.9037 - val_loss: 250.8941\n",
      "Epoch 9/100\n",
      "3/3 [==============================] - 0s 54ms/step - loss: 406.9278 - val_loss: 278.2169\n",
      "Epoch 10/100\n",
      "3/3 [==============================] - 0s 16ms/step - loss: 373.9836 - val_loss: 188.0911\n",
      "Epoch 11/100\n",
      "3/3 [==============================] - 0s 35ms/step - loss: 251.5533 - val_loss: 245.9954\n",
      "Epoch 12/100\n",
      "3/3 [==============================] - 0s 36ms/step - loss: 299.4549 - val_loss: 185.0029\n",
      "Epoch 13/100\n",
      "3/3 [==============================] - 0s 20ms/step - loss: 210.5365 - val_loss: 207.3133\n",
      "Epoch 14/100\n",
      "3/3 [==============================] - 0s 17ms/step - loss: 250.0216 - val_loss: 206.0053\n",
      "Epoch 15/100\n",
      "3/3 [==============================] - 0s 13ms/step - loss: 218.0744 - val_loss: 185.9631\n",
      "Epoch 16/100\n",
      "3/3 [==============================] - 0s 22ms/step - loss: 212.5865 - val_loss: 200.7260\n",
      "Epoch 17/100\n",
      "3/3 [==============================] - 0s 17ms/step - loss: 220.2607 - val_loss: 170.8661\n",
      "Epoch 18/100\n",
      "3/3 [==============================] - 0s 17ms/step - loss: 207.3553 - val_loss: 169.7222\n",
      "Epoch 19/100\n",
      "3/3 [==============================] - 0s 22ms/step - loss: 207.6230 - val_loss: 167.3494\n",
      "Epoch 20/100\n",
      "3/3 [==============================] - 0s 17ms/step - loss: 197.5417 - val_loss: 175.2500\n",
      "Epoch 21/100\n",
      "3/3 [==============================] - 0s 19ms/step - loss: 203.8811 - val_loss: 179.1455\n",
      "Epoch 22/100\n",
      "3/3 [==============================] - 0s 23ms/step - loss: 195.7840 - val_loss: 180.5713\n",
      "Epoch 23/100\n",
      "3/3 [==============================] - 0s 26ms/step - loss: 202.9353 - val_loss: 177.1280\n",
      "Epoch 24/100\n",
      "3/3 [==============================] - 0s 17ms/step - loss: 200.0571 - val_loss: 171.0362\n",
      "Epoch 25/100\n",
      "3/3 [==============================] - 0s 17ms/step - loss: 194.4283 - val_loss: 173.7208\n",
      "Epoch 26/100\n",
      "3/3 [==============================] - 0s 21ms/step - loss: 195.3768 - val_loss: 169.3474\n",
      "Epoch 27/100\n",
      "3/3 [==============================] - 0s 18ms/step - loss: 196.5227 - val_loss: 165.9104\n",
      "Epoch 28/100\n",
      "3/3 [==============================] - 0s 18ms/step - loss: 191.9543 - val_loss: 168.3664\n",
      "Epoch 29/100\n",
      "3/3 [==============================] - 0s 17ms/step - loss: 195.5997 - val_loss: 172.1663\n",
      "Epoch 30/100\n",
      "3/3 [==============================] - 0s 20ms/step - loss: 192.1436 - val_loss: 167.2072\n",
      "Epoch 31/100\n",
      "3/3 [==============================] - 0s 18ms/step - loss: 195.6326 - val_loss: 169.7414\n",
      "Epoch 32/100\n",
      "3/3 [==============================] - 0s 20ms/step - loss: 191.7696 - val_loss: 167.1849\n",
      "Epoch 33/100\n",
      "3/3 [==============================] - 0s 13ms/step - loss: 192.7470 - val_loss: 170.3416\n",
      "Epoch 34/100\n",
      "3/3 [==============================] - 0s 15ms/step - loss: 195.5917 - val_loss: 164.3187\n",
      "Epoch 35/100\n",
      "3/3 [==============================] - 0s 18ms/step - loss: 187.2304 - val_loss: 166.1405\n",
      "Epoch 36/100\n",
      "3/3 [==============================] - 0s 20ms/step - loss: 188.8637 - val_loss: 172.4193\n",
      "Epoch 37/100\n",
      "3/3 [==============================] - 0s 17ms/step - loss: 187.3905 - val_loss: 174.0363\n",
      "Epoch 38/100\n",
      "3/3 [==============================] - 0s 22ms/step - loss: 186.1075 - val_loss: 168.3623\n",
      "Epoch 39/100\n",
      "3/3 [==============================] - 0s 17ms/step - loss: 186.4807 - val_loss: 165.7032\n",
      "Epoch 40/100\n",
      "3/3 [==============================] - 0s 16ms/step - loss: 186.0012 - val_loss: 162.3940\n",
      "Epoch 41/100\n",
      "3/3 [==============================] - 0s 22ms/step - loss: 184.5272 - val_loss: 164.6674\n",
      "Epoch 42/100\n",
      "3/3 [==============================] - 0s 16ms/step - loss: 183.9142 - val_loss: 163.6978\n",
      "Epoch 43/100\n",
      "3/3 [==============================] - 0s 18ms/step - loss: 183.1129 - val_loss: 162.7888\n",
      "Epoch 44/100\n",
      "3/3 [==============================] - 0s 17ms/step - loss: 182.5761 - val_loss: 160.8971\n",
      "Epoch 45/100\n",
      "3/3 [==============================] - 0s 17ms/step - loss: 182.0848 - val_loss: 162.9748\n",
      "Epoch 46/100\n",
      "3/3 [==============================] - 0s 21ms/step - loss: 180.6543 - val_loss: 163.1962\n",
      "Epoch 47/100\n",
      "3/3 [==============================] - 0s 17ms/step - loss: 180.8653 - val_loss: 164.3504\n",
      "Epoch 48/100\n",
      "3/3 [==============================] - 0s 18ms/step - loss: 182.0669 - val_loss: 160.5843\n",
      "Epoch 49/100\n",
      "3/3 [==============================] - 0s 18ms/step - loss: 180.8581 - val_loss: 160.9461\n",
      "Epoch 50/100\n",
      "3/3 [==============================] - 0s 22ms/step - loss: 182.9185 - val_loss: 159.9983\n",
      "Epoch 51/100\n",
      "3/3 [==============================] - 0s 13ms/step - loss: 178.2860 - val_loss: 157.5641\n",
      "Epoch 52/100\n",
      "3/3 [==============================] - 0s 20ms/step - loss: 183.9804 - val_loss: 158.4948\n",
      "Epoch 53/100\n",
      "3/3 [==============================] - 0s 20ms/step - loss: 178.8858 - val_loss: 160.5193\n",
      "Epoch 54/100\n",
      "3/3 [==============================] - 0s 16ms/step - loss: 176.7860 - val_loss: 165.3981\n",
      "Epoch 55/100\n",
      "3/3 [==============================] - 0s 19ms/step - loss: 181.1032 - val_loss: 168.7376\n",
      "Epoch 56/100\n",
      "3/3 [==============================] - 0s 22ms/step - loss: 176.8577 - val_loss: 167.0346\n",
      "Epoch 57/100\n",
      "3/3 [==============================] - 0s 16ms/step - loss: 178.4166 - val_loss: 160.9287\n",
      "Epoch 58/100\n",
      "3/3 [==============================] - 0s 18ms/step - loss: 176.6114 - val_loss: 161.6245\n",
      "Epoch 59/100\n",
      "3/3 [==============================] - 0s 20ms/step - loss: 173.8810 - val_loss: 156.9586\n",
      "Epoch 60/100\n",
      "3/3 [==============================] - 0s 17ms/step - loss: 174.5690 - val_loss: 156.2496\n",
      "Epoch 61/100\n",
      "3/3 [==============================] - 0s 18ms/step - loss: 174.4267 - val_loss: 156.6679\n",
      "Epoch 62/100\n",
      "3/3 [==============================] - 0s 21ms/step - loss: 171.8014 - val_loss: 160.2876\n",
      "Epoch 63/100\n",
      "3/3 [==============================] - 0s 17ms/step - loss: 172.7246 - val_loss: 162.1249\n",
      "Epoch 64/100\n",
      "3/3 [==============================] - 0s 17ms/step - loss: 172.2754 - val_loss: 169.8585\n",
      "Epoch 65/100\n",
      "3/3 [==============================] - ETA: 0s - loss: 144.373 - 0s 23ms/step - loss: 174.9579 - val_loss: 176.0679\n",
      "Epoch 66/100\n",
      "3/3 [==============================] - 0s 17ms/step - loss: 176.6577 - val_loss: 178.1039\n",
      "Epoch 67/100\n",
      "3/3 [==============================] - 0s 16ms/step - loss: 177.6084 - val_loss: 171.6460\n",
      "Epoch 68/100\n",
      "3/3 [==============================] - 0s 23ms/step - loss: 170.8437 - val_loss: 155.1467\n",
      "Epoch 69/100\n",
      "3/3 [==============================] - 0s 19ms/step - loss: 168.8791 - val_loss: 148.5421\n",
      "Epoch 70/100\n",
      "3/3 [==============================] - 0s 20ms/step - loss: 172.6798 - val_loss: 148.7527\n",
      "Epoch 71/100\n",
      "3/3 [==============================] - 0s 18ms/step - loss: 173.5543 - val_loss: 148.3887\n",
      "Epoch 72/100\n",
      "3/3 [==============================] - 0s 19ms/step - loss: 170.7757 - val_loss: 151.8473\n",
      "Epoch 73/100\n",
      "3/3 [==============================] - 0s 22ms/step - loss: 168.8380 - val_loss: 154.4667\n",
      "Epoch 74/100\n",
      "3/3 [==============================] - 0s 23ms/step - loss: 167.0420 - val_loss: 156.6848\n",
      "Epoch 75/100\n",
      "3/3 [==============================] - 0s 18ms/step - loss: 167.4679 - val_loss: 158.0678\n",
      "Epoch 76/100\n",
      "3/3 [==============================] - 0s 15ms/step - loss: 167.7274 - val_loss: 155.6805\n",
      "Epoch 77/100\n",
      "3/3 [==============================] - 0s 18ms/step - loss: 168.2834 - val_loss: 157.2867\n",
      "Epoch 78/100\n",
      "3/3 [==============================] - 0s 18ms/step - loss: 167.3701 - val_loss: 150.6771\n",
      "Epoch 79/100\n",
      "3/3 [==============================] - 0s 23ms/step - loss: 164.8019 - val_loss: 151.5646\n",
      "Epoch 80/100\n"
     ]
    },
    {
     "name": "stdout",
     "output_type": "stream",
     "text": [
      "3/3 [==============================] - 0s 21ms/step - loss: 165.9698 - val_loss: 155.2637\n",
      "Epoch 81/100\n",
      "3/3 [==============================] - 0s 23ms/step - loss: 165.9246 - val_loss: 153.9041\n",
      "Epoch 82/100\n",
      "3/3 [==============================] - 0s 15ms/step - loss: 164.6028 - val_loss: 153.1142\n",
      "Epoch 83/100\n",
      "3/3 [==============================] - 0s 17ms/step - loss: 163.4034 - val_loss: 153.9279\n",
      "Epoch 84/100\n",
      "3/3 [==============================] - 0s 24ms/step - loss: 164.5736 - val_loss: 154.9342\n",
      "Epoch 85/100\n",
      "3/3 [==============================] - 0s 15ms/step - loss: 163.4947 - val_loss: 151.4300\n",
      "Epoch 86/100\n",
      "3/3 [==============================] - 0s 18ms/step - loss: 164.0409 - val_loss: 150.6865\n",
      "Epoch 87/100\n",
      "3/3 [==============================] - 0s 18ms/step - loss: 162.9648 - val_loss: 153.9727\n",
      "Epoch 88/100\n",
      "3/3 [==============================] - 0s 24ms/step - loss: 162.8808 - val_loss: 153.7979\n",
      "Epoch 89/100\n",
      "3/3 [==============================] - 0s 14ms/step - loss: 163.4234 - val_loss: 148.5293\n",
      "Epoch 90/100\n",
      "3/3 [==============================] - 0s 25ms/step - loss: 162.2277 - val_loss: 150.1583\n",
      "Epoch 91/100\n",
      "3/3 [==============================] - 0s 20ms/step - loss: 161.2043 - val_loss: 150.3091\n",
      "Epoch 92/100\n",
      "3/3 [==============================] - 0s 16ms/step - loss: 161.9532 - val_loss: 146.6747\n",
      "Epoch 93/100\n",
      "3/3 [==============================] - 0s 20ms/step - loss: 160.4461 - val_loss: 145.3611\n",
      "Epoch 94/100\n",
      "3/3 [==============================] - 0s 18ms/step - loss: 160.5037 - val_loss: 144.6227\n",
      "Epoch 95/100\n",
      "3/3 [==============================] - 0s 14ms/step - loss: 160.1843 - val_loss: 145.4316\n",
      "Epoch 96/100\n",
      "3/3 [==============================] - 0s 19ms/step - loss: 160.1906 - val_loss: 146.9715\n",
      "Epoch 97/100\n",
      "3/3 [==============================] - 0s 18ms/step - loss: 159.8183 - val_loss: 142.6926\n",
      "Epoch 98/100\n",
      "3/3 [==============================] - 0s 17ms/step - loss: 158.6081 - val_loss: 139.1609\n",
      "Epoch 99/100\n",
      "3/3 [==============================] - 0s 21ms/step - loss: 162.7089 - val_loss: 140.7051\n",
      "Epoch 100/100\n",
      "3/3 [==============================] - 0s 14ms/step - loss: 159.2790 - val_loss: 140.3061\n"
     ]
    }
   ],
   "source": [
    "history = model.fit(X_train, y_train, epochs=100,\n",
    "                    validation_data=(X_valid, y_valid))"
   ]
  },
  {
   "cell_type": "markdown",
   "id": "17d6e37a",
   "metadata": {},
   "source": [
    "Plot the result"
   ]
  },
  {
   "cell_type": "code",
   "execution_count": 13,
   "id": "3b066f5c",
   "metadata": {},
   "outputs": [
    {
     "data": {
      "image/png": "[encoded data removed]",
      "text/plain": [
       "<Figure size 576x360 with 1 Axes>"
      ]
     },
     "metadata": {
      "needs_background": "light"
     },
     "output_type": "display_data"
    }
   ],
   "source": [
    "import pandas as pd\n",
    "\n",
    "pd.DataFrame(history.history).plot(figsize=(8, 5))\n",
    "plt.grid(True)\n",
    "# plt.gca().set_ylim(0, 1)\n",
    "plt.show()"
   ]
  },
  {
   "cell_type": "code",
   "execution_count": 14,
   "id": "03f9bb54",
   "metadata": {},
   "outputs": [
    {
     "data": {
      "image/png": "[encoded data removed]",
      "text/plain": [
       "<Figure size 432x288 with 1 Axes>"
      ]
     },
     "metadata": {
      "needs_background": "light"
     },
     "output_type": "display_data"
    }
   ],
   "source": [
    "# X_new = np.linspace(-5, 5, 100).reshape(100, 1)\n",
    "# y_new = model.predict(X_new)\n",
    "#\n",
    "plt.plot(X_train, y_train, \"b.\")\n",
    "# plt.plot(X_new, y_new, \"r-\", linewidth=2, label=\"Predictions\")\n",
    "draw_func(model.predict, mark='r-', linewidth=2, label=\"Predictions\")\n",
    "draw_normal_func(func_dict)\n",
    "plt.xlabel(\"$x_1$\", fontsize=18)\n",
    "plt.ylabel(\"$y$\", rotation=0, fontsize=18)\n",
    "plt.legend(loc=\"upper left\", fontsize=14)\n",
    "# plt.axis([-3, 3, 0, 10])\n",
    "plt.show()"
   ]
  },
  {
   "cell_type": "code",
   "execution_count": 15,
   "id": "bc06d931",
   "metadata": {},
   "outputs": [
    {
     "name": "stdout",
     "output_type": "stream",
     "text": [
      "y_func.shape = (100, 1)\n",
      "y_gt.shape = (100, 1)\n"
     ]
    },
    {
     "data": {
      "text/plain": [
       "6.181107913821904"
      ]
     },
     "execution_count": 15,
     "metadata": {},
     "output_type": "execute_result"
    }
   ],
   "source": [
    "get_prediction_error(model.predict, func_dict, name=\"num-num\")"
   ]
  },
  {
   "cell_type": "markdown",
   "id": "58da8768",
   "metadata": {},
   "source": [
    "# Simulated CNN Feature Map (1-D grids, grid --> number)"
   ]
  },
  {
   "cell_type": "code",
   "execution_count": 16,
   "id": "287b5e4c",
   "metadata": {},
   "outputs": [],
   "source": [
    "class num2grid(keras.layers.Layer):\n",
    "    def __init__(self, units, x_min=-10, x_max=10, sigma=1.0, activation=None, **kwargs):\n",
    "        super().__init__(**kwargs)\n",
    "        self.units = units\n",
    "        self.x_min = x_min\n",
    "        self.x_max = x_max\n",
    "        self.sigma = sigma\n",
    "        self.sigma2 = self.sigma**2\n",
    "        self.activation = keras.activations.get(activation)\n",
    "        \n",
    "    def build(self, batch_input_shape):\n",
    "        #\n",
    "        self.x_grid = np.linspace(self.x_min, self.x_max, self.units, endpoint=True)\n",
    "#         print(\"self.x_grid.shape = %s\" % str(self.x_grid.shape))\n",
    "        #\n",
    "        super().build(batch_input_shape) # must be at the end\n",
    "        \n",
    "    def call(self, X):\n",
    "        '''\n",
    "        Input shape:  (batch, X_chanel)\n",
    "        Output shape: (batch, grid_unit) \n",
    "        \n",
    "        self.x_grid shape: (grid_unit,)\n",
    "        '''\n",
    "        gauss_grid = tf.exp( -(self.x_grid - X)**2 / (2.0*self.sigma2) )\n",
    "        print(\"X.shape = %s\" % str(X.shape))\n",
    "        print(\"gauss_grid.shape = %s\" % str(gauss_grid.shape))\n",
    "        return self.activation(gauss_grid)\n",
    "    \n",
    "    def compute_output_shape(self, batch_input_shape):\n",
    "        return tf.TensorShape(batch_input_shape.as_list()[:-1] + [self.units])\n",
    "    \n",
    "    def get_config(self):\n",
    "        base_config = super().get_config()\n",
    "        return {**base_config, \n",
    "                \"units\": self.units,\n",
    "                \"x_min\": self.x_min,\n",
    "                \"x_max\": self.x_max,\n",
    "                \"sigma\": self.sigma,\n",
    "                \"activation\": keras.activations.serialize(self.activation)}"
   ]
  },
  {
   "cell_type": "code",
   "execution_count": 17,
   "id": "f463c12a",
   "metadata": {},
   "outputs": [
    {
     "name": "stdout",
     "output_type": "stream",
     "text": [
      "X.shape = (None, 1)\n",
      "gauss_grid.shape = (None, 5)\n"
     ]
    },
    {
     "name": "stderr",
     "output_type": "stream",
     "text": [
      "C:\\Users\\benso\\anaconda3\\envs\\ml\\lib\\site-packages\\keras\\optimizer_v2\\adam.py:105: UserWarning: The `lr` argument is deprecated, use `learning_rate` instead.\n",
      "  super(Adam, self).__init__(name, **kwargs)\n"
     ]
    }
   ],
   "source": [
    "model = keras.models.Sequential([\n",
    "    num2grid(5,x_min=-10, x_max=10, sigma=3.0, input_shape=X_train.shape[1:]),\n",
    "    keras.layers.Dense(30, activation=\"relu\"),\n",
    "#     keras.layers.Dense(100, activation=\"relu\", kernel_regularizer=tf.keras.regularizers.l1(0.01)),\n",
    "#     keras.layers.Dense(30, activation=keras.layers.LeakyReLU(alpha=0.2) ),\n",
    "#     keras.layers.Dense(30, activation=\"selu\"),\n",
    "#     keras.layers.Dense(30, activation=\"relu\"),\n",
    "    keras.layers.Dense(1)\n",
    "])\n",
    "\n",
    "# optimizer = keras.optimizers.SGD(lr=0.001, momentum=0.9)\n",
    "# model.compile(loss=\"mean_squared_error\", optimizer=optimizer)\n",
    "optimizer = keras.optimizers.Adam(lr=0.1)\n",
    "model.compile(loss=\"mean_absolute_error\", optimizer=optimizer)"
   ]
  },
  {
   "cell_type": "code",
   "execution_count": 18,
   "id": "c966ada4",
   "metadata": {
    "scrolled": true
   },
   "outputs": [
    {
     "name": "stdout",
     "output_type": "stream",
     "text": [
      "Epoch 1/100\n",
      "X.shape = (None, 1)\n",
      "gauss_grid.shape = (None, 5)\n",
      "X.shape = (None, 1)\n",
      "gauss_grid.shape = (None, 5)\n",
      "1/3 [=========>....................] - ETA: 0s - loss: 39.5192X.shape = (None, 1)\n",
      "gauss_grid.shape = (None, 5)\n",
      "3/3 [==============================] - 1s 74ms/step - loss: 41.4232 - val_loss: 33.2073\n",
      "Epoch 2/100\n",
      "3/3 [==============================] - 0s 16ms/step - loss: 38.8670 - val_loss: 30.5553\n",
      "Epoch 3/100\n",
      "3/3 [==============================] - 0s 28ms/step - loss: 33.3601 - val_loss: 26.1243\n",
      "Epoch 4/100\n",
      "3/3 [==============================] - 0s 37ms/step - loss: 26.0465 - val_loss: 20.0791\n",
      "Epoch 5/100\n",
      "3/3 [==============================] - 0s 28ms/step - loss: 17.9538 - val_loss: 13.8801\n",
      "Epoch 6/100\n",
      "3/3 [==============================] - 0s 31ms/step - loss: 16.6502 - val_loss: 9.3716\n",
      "Epoch 7/100\n",
      "3/3 [==============================] - 0s 34ms/step - loss: 15.5894 - val_loss: 12.4484\n",
      "Epoch 8/100\n",
      "3/3 [==============================] - 0s 27ms/step - loss: 16.3780 - val_loss: 12.5918\n",
      "Epoch 9/100\n",
      "3/3 [==============================] - 0s 38ms/step - loss: 15.4431 - val_loss: 9.6958\n",
      "Epoch 10/100\n",
      "3/3 [==============================] - 0s 30ms/step - loss: 13.8044 - val_loss: 9.9293\n",
      "Epoch 11/100\n",
      "3/3 [==============================] - 0s 21ms/step - loss: 13.1483 - val_loss: 11.0575\n",
      "Epoch 12/100\n",
      "3/3 [==============================] - 0s 13ms/step - loss: 12.9749 - val_loss: 11.7402\n",
      "Epoch 13/100\n",
      "3/3 [==============================] - 0s 23ms/step - loss: 12.1083 - val_loss: 11.9832\n",
      "Epoch 14/100\n",
      "3/3 [==============================] - 0s 16ms/step - loss: 12.6138 - val_loss: 11.8359\n",
      "Epoch 15/100\n",
      "3/3 [==============================] - 0s 16ms/step - loss: 11.3607 - val_loss: 10.9329\n",
      "Epoch 16/100\n",
      "3/3 [==============================] - 0s 21ms/step - loss: 11.5552 - val_loss: 10.7001\n",
      "Epoch 17/100\n",
      "3/3 [==============================] - 0s 14ms/step - loss: 10.9504 - val_loss: 11.9265\n",
      "Epoch 18/100\n",
      "3/3 [==============================] - 0s 23ms/step - loss: 10.3418 - val_loss: 11.7440\n",
      "Epoch 19/100\n",
      "3/3 [==============================] - 0s 17ms/step - loss: 10.2588 - val_loss: 12.5820\n",
      "Epoch 20/100\n",
      "3/3 [==============================] - 0s 21ms/step - loss: 9.9521 - val_loss: 12.8567\n",
      "Epoch 21/100\n",
      "3/3 [==============================] - 0s 14ms/step - loss: 9.8072 - val_loss: 12.5722\n",
      "Epoch 22/100\n",
      "3/3 [==============================] - 0s 22ms/step - loss: 10.2466 - val_loss: 12.3932\n",
      "Epoch 23/100\n",
      "3/3 [==============================] - 0s 17ms/step - loss: 9.8398 - val_loss: 13.4036\n",
      "Epoch 24/100\n",
      "3/3 [==============================] - 0s 18ms/step - loss: 10.4247 - val_loss: 12.2811\n",
      "Epoch 25/100\n",
      "3/3 [==============================] - 0s 17ms/step - loss: 9.7065 - val_loss: 12.5127\n",
      "Epoch 26/100\n",
      "3/3 [==============================] - 0s 26ms/step - loss: 9.6499 - val_loss: 13.3421\n",
      "Epoch 27/100\n",
      "3/3 [==============================] - 0s 17ms/step - loss: 9.9081 - val_loss: 12.4571\n",
      "Epoch 28/100\n",
      "3/3 [==============================] - 0s 13ms/step - loss: 9.8208 - val_loss: 12.2315\n",
      "Epoch 29/100\n",
      "3/3 [==============================] - 0s 22ms/step - loss: 9.7105 - val_loss: 12.1985\n",
      "Epoch 30/100\n",
      "3/3 [==============================] - 0s 14ms/step - loss: 9.6396 - val_loss: 11.6127\n",
      "Epoch 31/100\n",
      "3/3 [==============================] - 0s 22ms/step - loss: 9.7107 - val_loss: 11.3720\n",
      "Epoch 32/100\n",
      "3/3 [==============================] - 0s 18ms/step - loss: 9.6073 - val_loss: 11.6253\n",
      "Epoch 33/100\n",
      "3/3 [==============================] - 0s 17ms/step - loss: 9.5498 - val_loss: 11.7266\n",
      "Epoch 34/100\n",
      "3/3 [==============================] - 0s 28ms/step - loss: 9.4711 - val_loss: 11.6220\n",
      "Epoch 35/100\n",
      "3/3 [==============================] - 0s 17ms/step - loss: 9.4232 - val_loss: 11.3273\n",
      "Epoch 36/100\n",
      "3/3 [==============================] - 0s 20ms/step - loss: 9.4633 - val_loss: 11.2569\n",
      "Epoch 37/100\n",
      "3/3 [==============================] - 0s 16ms/step - loss: 9.5992 - val_loss: 11.0295\n",
      "Epoch 38/100\n",
      "3/3 [==============================] - 0s 22ms/step - loss: 10.1592 - val_loss: 10.9846\n",
      "Epoch 39/100\n",
      "3/3 [==============================] - 0s 17ms/step - loss: 9.4850 - val_loss: 11.9172\n",
      "Epoch 40/100\n",
      "3/3 [==============================] - 0s 17ms/step - loss: 9.5438 - val_loss: 11.3729\n",
      "Epoch 41/100\n",
      "3/3 [==============================] - 0s 23ms/step - loss: 9.7388 - val_loss: 11.3283\n",
      "Epoch 42/100\n",
      "3/3 [==============================] - 0s 14ms/step - loss: 10.0025 - val_loss: 11.1639\n",
      "Epoch 43/100\n",
      "3/3 [==============================] - 0s 20ms/step - loss: 9.5704 - val_loss: 12.4450\n",
      "Epoch 44/100\n",
      "3/3 [==============================] - 0s 14ms/step - loss: 9.6189 - val_loss: 11.1164\n",
      "Epoch 45/100\n",
      "3/3 [==============================] - 0s 20ms/step - loss: 10.2012 - val_loss: 11.1028\n",
      "Epoch 46/100\n",
      "3/3 [==============================] - 0s 14ms/step - loss: 9.4194 - val_loss: 12.7975\n",
      "Epoch 47/100\n",
      "3/3 [==============================] - 0s 20ms/step - loss: 10.4558 - val_loss: 11.1202\n",
      "Epoch 48/100\n",
      "3/3 [==============================] - 0s 13ms/step - loss: 9.4158 - val_loss: 11.1913\n",
      "Epoch 49/100\n",
      "3/3 [==============================] - 0s 21ms/step - loss: 9.9532 - val_loss: 10.8033\n",
      "Epoch 50/100\n",
      "3/3 [==============================] - 0s 17ms/step - loss: 9.3357 - val_loss: 10.9551\n",
      "Epoch 51/100\n",
      "3/3 [==============================] - 0s 17ms/step - loss: 9.3333 - val_loss: 10.2326\n",
      "Epoch 52/100\n",
      "3/3 [==============================] - 0s 16ms/step - loss: 9.7379 - val_loss: 10.2269\n",
      "Epoch 53/100\n",
      "3/3 [==============================] - 0s 23ms/step - loss: 9.8756 - val_loss: 11.6113\n",
      "Epoch 54/100\n",
      "3/3 [==============================] - 0s 20ms/step - loss: 9.4961 - val_loss: 10.7255\n",
      "Epoch 55/100\n",
      "3/3 [==============================] - 0s 18ms/step - loss: 10.1410 - val_loss: 10.7709\n",
      "Epoch 56/100\n",
      "3/3 [==============================] - 0s 17ms/step - loss: 10.0411 - val_loss: 11.7487\n",
      "Epoch 57/100\n",
      "3/3 [==============================] - 0s 17ms/step - loss: 9.7726 - val_loss: 10.4938\n",
      "Epoch 58/100\n",
      "3/3 [==============================] - 0s 17ms/step - loss: 9.3594 - val_loss: 10.2915\n",
      "Epoch 59/100\n",
      "3/3 [==============================] - 0s 22ms/step - loss: 9.3334 - val_loss: 10.0354\n",
      "Epoch 60/100\n",
      "3/3 [==============================] - 0s 13ms/step - loss: 9.8851 - val_loss: 9.7536\n",
      "Epoch 61/100\n",
      "3/3 [==============================] - 0s 22ms/step - loss: 9.4312 - val_loss: 9.5632\n",
      "Epoch 62/100\n",
      "3/3 [==============================] - 0s 16ms/step - loss: 9.2003 - val_loss: 10.2425\n",
      "Epoch 63/100\n",
      "3/3 [==============================] - 0s 18ms/step - loss: 9.3214 - val_loss: 11.1273\n",
      "Epoch 64/100\n",
      "3/3 [==============================] - 0s 23ms/step - loss: 9.4871 - val_loss: 11.0504\n",
      "Epoch 65/100\n",
      "3/3 [==============================] - 0s 17ms/step - loss: 9.5703 - val_loss: 11.0136\n",
      "Epoch 66/100\n",
      "3/3 [==============================] - 0s 17ms/step - loss: 9.4320 - val_loss: 9.7148\n",
      "Epoch 67/100\n",
      "3/3 [==============================] - 0s 22ms/step - loss: 9.0942 - val_loss: 9.4294\n",
      "Epoch 68/100\n",
      "3/3 [==============================] - 0s 14ms/step - loss: 9.2712 - val_loss: 9.2612\n",
      "Epoch 69/100\n",
      "3/3 [==============================] - 0s 20ms/step - loss: 9.0813 - val_loss: 9.4095\n",
      "Epoch 70/100\n",
      "3/3 [==============================] - 0s 20ms/step - loss: 9.0308 - val_loss: 9.7470\n",
      "Epoch 71/100\n",
      "3/3 [==============================] - 0s 22ms/step - loss: 9.1670 - val_loss: 9.6423\n",
      "Epoch 72/100\n",
      "3/3 [==============================] - 0s 17ms/step - loss: 9.5017 - val_loss: 9.3759\n",
      "Epoch 73/100\n",
      "3/3 [==============================] - 0s 20ms/step - loss: 9.1580 - val_loss: 10.0217\n",
      "Epoch 74/100\n",
      "3/3 [==============================] - 0s 16ms/step - loss: 9.3003 - val_loss: 9.1689\n",
      "Epoch 75/100\n",
      "3/3 [==============================] - 0s 17ms/step - loss: 10.2999 - val_loss: 9.1116\n",
      "Epoch 76/100\n",
      "3/3 [==============================] - 0s 17ms/step - loss: 9.4275 - val_loss: 9.4127\n",
      "Epoch 77/100\n",
      "3/3 [==============================] - 0s 23ms/step - loss: 9.0434 - val_loss: 9.3825\n",
      "Epoch 78/100\n",
      "3/3 [==============================] - 0s 17ms/step - loss: 9.3071 - val_loss: 9.2491\n",
      "Epoch 79/100\n",
      "3/3 [==============================] - 0s 17ms/step - loss: 9.0855 - val_loss: 9.7485\n",
      "Epoch 80/100\n",
      "3/3 [==============================] - 0s 17ms/step - loss: 9.2315 - val_loss: 8.8835\n"
     ]
    },
    {
     "name": "stdout",
     "output_type": "stream",
     "text": [
      "Epoch 81/100\n",
      "3/3 [==============================] - 0s 22ms/step - loss: 9.3224 - val_loss: 8.5779\n",
      "Epoch 82/100\n",
      "3/3 [==============================] - 0s 22ms/step - loss: 9.0560 - val_loss: 8.8699\n",
      "Epoch 83/100\n",
      "3/3 [==============================] - 0s 17ms/step - loss: 9.1861 - val_loss: 8.3532\n",
      "Epoch 84/100\n",
      "3/3 [==============================] - 0s 20ms/step - loss: 9.0822 - val_loss: 8.2309\n",
      "Epoch 85/100\n",
      "3/3 [==============================] - 0s 13ms/step - loss: 8.8897 - val_loss: 8.6955\n",
      "Epoch 86/100\n",
      "3/3 [==============================] - 0s 22ms/step - loss: 8.9881 - val_loss: 8.6258\n",
      "Epoch 87/100\n",
      "3/3 [==============================] - 0s 16ms/step - loss: 8.9803 - val_loss: 8.3638\n",
      "Epoch 88/100\n",
      "3/3 [==============================] - 0s 17ms/step - loss: 8.8967 - val_loss: 8.1099\n",
      "Epoch 89/100\n",
      "3/3 [==============================] - 0s 21ms/step - loss: 8.9614 - val_loss: 8.2004\n",
      "Epoch 90/100\n",
      "3/3 [==============================] - 0s 17ms/step - loss: 8.8575 - val_loss: 8.4809\n",
      "Epoch 91/100\n",
      "3/3 [==============================] - 0s 16ms/step - loss: 9.0647 - val_loss: 8.2061\n",
      "Epoch 92/100\n",
      "3/3 [==============================] - 0s 17ms/step - loss: 8.8913 - val_loss: 8.5208\n",
      "Epoch 93/100\n",
      "3/3 [==============================] - 0s 21ms/step - loss: 8.9383 - val_loss: 8.4420\n",
      "Epoch 94/100\n",
      "3/3 [==============================] - 0s 17ms/step - loss: 8.9324 - val_loss: 8.0452\n",
      "Epoch 95/100\n",
      "3/3 [==============================] - 0s 16ms/step - loss: 9.1558 - val_loss: 8.1670\n",
      "Epoch 96/100\n",
      "3/3 [==============================] - 0s 23ms/step - loss: 9.4299 - val_loss: 8.3362\n",
      "Epoch 97/100\n",
      "3/3 [==============================] - 0s 17ms/step - loss: 9.0763 - val_loss: 8.8233\n",
      "Epoch 98/100\n",
      "3/3 [==============================] - 0s 16ms/step - loss: 9.1732 - val_loss: 8.9009\n",
      "Epoch 99/100\n",
      "3/3 [==============================] - 0s 22ms/step - loss: 9.3419 - val_loss: 9.3125\n",
      "Epoch 100/100\n",
      "3/3 [==============================] - 0s 18ms/step - loss: 9.2467 - val_loss: 9.2495\n"
     ]
    }
   ],
   "source": [
    "history = model.fit(X_train, y_train, epochs=100,\n",
    "                    validation_data=(X_valid, y_valid))"
   ]
  },
  {
   "cell_type": "code",
   "execution_count": 19,
   "id": "4d550f88",
   "metadata": {},
   "outputs": [
    {
     "data": {
      "image/png": "[encoded data removed]",
      "text/plain": [
       "<Figure size 576x360 with 1 Axes>"
      ]
     },
     "metadata": {
      "needs_background": "light"
     },
     "output_type": "display_data"
    }
   ],
   "source": [
    "import pandas as pd\n",
    "\n",
    "pd.DataFrame(history.history).plot(figsize=(8, 5))\n",
    "plt.grid(True)\n",
    "# plt.gca().set_ylim(0, 1)\n",
    "plt.show()"
   ]
  },
  {
   "cell_type": "code",
   "execution_count": 20,
   "id": "5487653c",
   "metadata": {},
   "outputs": [
    {
     "name": "stdout",
     "output_type": "stream",
     "text": [
      "X.shape = (None, 1)\n",
      "gauss_grid.shape = (None, 5)\n"
     ]
    },
    {
     "data": {
      "image/png": "[encoded data removed]",
      "text/plain": [
       "<Figure size 432x288 with 1 Axes>"
      ]
     },
     "metadata": {
      "needs_background": "light"
     },
     "output_type": "display_data"
    }
   ],
   "source": [
    "# X_new = np.linspace(-5, 5, 100).reshape(100, 1)\n",
    "# y_new = model.predict(X_new)\n",
    "#\n",
    "plt.plot(X_train, y_train, \"b.\")\n",
    "# plt.plot(X_new, y_new, \"r-\", linewidth=2, label=\"Predictions\")\n",
    "draw_func(model.predict, mark='r-', linewidth=2, label=\"Predictions\")\n",
    "draw_normal_func(func_dict)\n",
    "plt.xlabel(\"$x_1$\", fontsize=18)\n",
    "plt.ylabel(\"$y$\", rotation=0, fontsize=18)\n",
    "plt.legend(loc=\"upper left\", fontsize=14)\n",
    "# plt.axis([-3, 3, 0, 10])\n",
    "plt.show()"
   ]
  },
  {
   "cell_type": "code",
   "execution_count": 21,
   "id": "f9c053a4",
   "metadata": {},
   "outputs": [
    {
     "name": "stdout",
     "output_type": "stream",
     "text": [
      "y_func.shape = (100, 1)\n",
      "y_gt.shape = (100, 1)\n"
     ]
    },
    {
     "data": {
      "text/plain": [
       "4.25005785293066"
      ]
     },
     "execution_count": 21,
     "metadata": {},
     "output_type": "execute_result"
    }
   ],
   "source": [
    "get_prediction_error(model.predict, func_dict, name=\"grid-num\")"
   ]
  },
  {
   "cell_type": "markdown",
   "id": "fe65d614",
   "metadata": {},
   "source": [
    "# Grid & Regression by Classification (grid --> grid)"
   ]
  },
  {
   "cell_type": "code",
   "execution_count": 22,
   "id": "3d35615e",
   "metadata": {},
   "outputs": [],
   "source": [
    "class num2grid_np():\n",
    "    def __init__(self, units, x_min=-10, x_max=10, sigma=1.0):\n",
    "        self.units = units\n",
    "        self.x_min = x_min\n",
    "        self.x_max = x_max\n",
    "        self.sigma = sigma\n",
    "        self.sigma2 = self.sigma**2\n",
    "        self.x_grid = np.linspace(self.x_min, self.x_max, self.units, endpoint=True)\n",
    "        print(\"self.x_grid = %s\" % str(self.x_grid))\n",
    "        \n",
    "    def convert(self, X):\n",
    "        gauss_grid = np.exp( -(self.x_grid - X)**2 / (2.0*self.sigma2) )\n",
    "#         if len(gauss_grid.shape) == 1:\n",
    "#             gauss_grid = gauss_grid.reshape([1,-1])\n",
    "#         grid_sum = np.sum(gauss_grid, axis=1, keepdims=True)\n",
    "        grid_sum = np.sum(gauss_grid, axis=-1, keepdims=True)\n",
    "        gauss_grid = gauss_grid / grid_sum\n",
    "        return gauss_grid\n",
    "    \n",
    "    def inv_convert(self, grid):\n",
    "#         if len(grid.shape) == 1:\n",
    "#             grid = grid.reshape([1,-1])\n",
    "#         grid_sum = np.sum(grid, axis=1)\n",
    "        grid_sum = np.sum(grid, axis=-1)\n",
    "#         print(grid_sum)\n",
    "        exp_num = np.sum((self.x_grid * grid), axis=-1) / grid_sum # element-wise\n",
    "        return exp_num\n",
    "    \n",
    "    def get_statistic(self, grid):\n",
    "        grid_sum = np.sum(grid, axis=-1)\n",
    "        _mean = np.sum((self.x_grid * grid), axis=-1) / grid_sum # element-wise\n",
    "        _var  = np.sum( ((self.x_grid.reshape((1,-1)) - _mean.reshape((-1,1)))**2 * grid), axis=-1) / grid_sum # element-wise\n",
    "        # print(\"(_mean, _var) = (%f, %f)\" % (_mean, _var))\n",
    "        _stddev = np.sqrt(_var)\n",
    "        return _mean, _stddev"
   ]
  },
  {
   "cell_type": "code",
   "execution_count": 23,
   "id": "4903180b",
   "metadata": {},
   "outputs": [
    {
     "name": "stdout",
     "output_type": "stream",
     "text": [
      "self.x_grid = [-100.          -95.91836735  -91.83673469  -87.75510204  -83.67346939\n",
      "  -79.59183673  -75.51020408  -71.42857143  -67.34693878  -63.26530612\n",
      "  -59.18367347  -55.10204082  -51.02040816  -46.93877551  -42.85714286\n",
      "  -38.7755102   -34.69387755  -30.6122449   -26.53061224  -22.44897959\n",
      "  -18.36734694  -14.28571429  -10.20408163   -6.12244898   -2.04081633\n",
      "    2.04081633    6.12244898   10.20408163   14.28571429   18.36734694\n",
      "   22.44897959   26.53061224   30.6122449    34.69387755   38.7755102\n",
      "   42.85714286   46.93877551   51.02040816   55.10204082   59.18367347\n",
      "   63.26530612   67.34693878   71.42857143   75.51020408   79.59183673\n",
      "   83.67346939   87.75510204   91.83673469   95.91836735  100.        ]\n"
     ]
    }
   ],
   "source": [
    "# class_num = 10 # 10\n",
    "# n2g = num2grid_np(class_num, x_min=-100.0, x_max=100.0, sigma=20.0) # 20.0\n",
    "# class_num = 20\n",
    "# n2g = num2grid_np(class_num, x_min=-100.0, x_max=100.0, sigma=15.0) # 20.0\n",
    "class_num = 50\n",
    "n2g = num2grid_np(class_num, x_min=-100.0, x_max=100.0, sigma=6.0) # 5.0 "
   ]
  },
  {
   "cell_type": "code",
   "execution_count": 24,
   "id": "dce05258",
   "metadata": {},
   "outputs": [
    {
     "name": "stdout",
     "output_type": "stream",
     "text": [
      "[[3.57995092e-60 2.08100846e-55 7.61538914e-51 1.75441300e-46\n",
      "  2.54444491e-42 2.32314196e-38 1.33530332e-34 4.83176258e-31\n",
      "  1.10065884e-27 1.57841554e-24 1.42498879e-21 8.09884396e-19\n",
      "  2.89771784e-16 6.52695532e-14 9.25521826e-12 8.26198061e-10\n",
      "  4.64304784e-08 1.64264466e-06 3.65852120e-05 5.12966502e-04\n",
      "  4.52786966e-03 2.51605603e-02 8.80173281e-02 1.93837381e-01\n",
      "  2.68737559e-01 2.34552834e-01 1.28876722e-01 4.45789421e-02\n",
      "  9.70748025e-03 1.33077537e-03 1.14848275e-04 6.23972825e-06\n",
      "  2.13416679e-07 4.59528573e-09 6.22899760e-11 5.31551427e-13\n",
      "  2.85557712e-15 9.65748361e-18 2.05615356e-20 2.75593262e-23\n",
      "  2.32542921e-26 1.23526215e-29 4.13082337e-33 8.69632169e-37\n",
      "  1.15254011e-40 9.61607812e-45 5.05081425e-49 1.67011468e-53\n",
      "  3.47658354e-58 4.55596654e-63]]\n"
     ]
    }
   ],
   "source": [
    "# grid_1 = n2g.convert(-1.2)\n",
    "grid_1 = n2g.convert([[-1.2]])\n",
    "print(grid_1)"
   ]
  },
  {
   "cell_type": "code",
   "execution_count": 25,
   "id": "48203fe2",
   "metadata": {},
   "outputs": [
    {
     "data": {
      "text/plain": [
       "array([-1.2])"
      ]
     },
     "execution_count": 25,
     "metadata": {},
     "output_type": "execute_result"
    }
   ],
   "source": [
    "n2g.inv_convert(grid_1)"
   ]
  },
  {
   "cell_type": "code",
   "execution_count": 26,
   "id": "a741b6d1",
   "metadata": {},
   "outputs": [
    {
     "data": {
      "text/plain": [
       "(array([-1.2]), array([6.]))"
      ]
     },
     "execution_count": 26,
     "metadata": {},
     "output_type": "execute_result"
    }
   ],
   "source": [
    "n2g.get_statistic(grid_1)"
   ]
  },
  {
   "cell_type": "markdown",
   "id": "bdc0b9a0",
   "metadata": {},
   "source": [
    "### Convert the labels to grid (pre-processing)"
   ]
  },
  {
   "cell_type": "code",
   "execution_count": 27,
   "id": "39c7fa96",
   "metadata": {},
   "outputs": [],
   "source": [
    "y_train_grid = n2g.convert(y_train)\n",
    "y_valid_grid = n2g.convert(y_valid)"
   ]
  },
  {
   "cell_type": "code",
   "execution_count": 28,
   "id": "f577a751",
   "metadata": {},
   "outputs": [
    {
     "name": "stdout",
     "output_type": "stream",
     "text": [
      "(80, 50)\n",
      "(20, 50)\n"
     ]
    }
   ],
   "source": [
    "print(y_train_grid.shape)\n",
    "print(y_valid_grid.shape)"
   ]
  },
  {
   "cell_type": "code",
   "execution_count": 29,
   "id": "71610af1",
   "metadata": {},
   "outputs": [
    {
     "name": "stdout",
     "output_type": "stream",
     "text": [
      "X.shape = (None, 1)\n",
      "gauss_grid.shape = (None, 5)\n"
     ]
    },
    {
     "name": "stderr",
     "output_type": "stream",
     "text": [
      "C:\\Users\\benso\\anaconda3\\envs\\ml\\lib\\site-packages\\keras\\optimizer_v2\\gradient_descent.py:102: UserWarning: The `lr` argument is deprecated, use `learning_rate` instead.\n",
      "  super(SGD, self).__init__(name, **kwargs)\n"
     ]
    }
   ],
   "source": [
    "model = keras.models.Sequential([\n",
    "#     keras.layers.Dense(30, activation=\"relu\", input_shape=X_train.shape[1:]),\n",
    "    num2grid(5,x_min=-10, x_max=10, sigma=3.0, input_shape=X_train.shape[1:]),\n",
    "    keras.layers.Dense(30, activation=\"relu\"),\n",
    "#     keras.layers.Dense(100, activation=\"relu\", kernel_regularizer=tf.keras.regularizers.l1(0.01)),\n",
    "    keras.layers.Dense(class_num, activation=\"softmax\"),\n",
    "])\n",
    "\n",
    "optimizer = keras.optimizers.SGD(lr=0.2, momentum=0.9)\n",
    "model.compile(loss=\"categorical_crossentropy\", optimizer=optimizer)"
   ]
  },
  {
   "cell_type": "code",
   "execution_count": 30,
   "id": "e2244aee",
   "metadata": {
    "scrolled": true
   },
   "outputs": [
    {
     "name": "stdout",
     "output_type": "stream",
     "text": [
      "Epoch 1/100\n",
      "X.shape = (None, 1)\n",
      "gauss_grid.shape = (None, 5)\n",
      "X.shape = (None, 1)\n",
      "gauss_grid.shape = (None, 5)\n",
      "1/3 [=========>....................] - ETA: 1s - loss: 3.9322X.shape = (None, 1)\n",
      "gauss_grid.shape = (None, 5)\n",
      "3/3 [==============================] - 1s 87ms/step - loss: 3.9186 - val_loss: 3.8909\n",
      "Epoch 2/100\n",
      "3/3 [==============================] - 0s 18ms/step - loss: 3.8740 - val_loss: 3.8538\n",
      "Epoch 3/100\n",
      "3/3 [==============================] - 0s 41ms/step - loss: 3.8060 - val_loss: 3.8130\n",
      "Epoch 4/100\n",
      "3/3 [==============================] - 0s 38ms/step - loss: 3.7259 - val_loss: 3.7564\n",
      "Epoch 5/100\n",
      "3/3 [==============================] - 0s 31ms/step - loss: 3.6298 - val_loss: 3.6890\n",
      "Epoch 6/100\n",
      "3/3 [==============================] - 0s 28ms/step - loss: 3.5277 - val_loss: 3.6254\n",
      "Epoch 7/100\n",
      "3/3 [==============================] - 0s 31ms/step - loss: 3.4243 - val_loss: 3.5572\n",
      "Epoch 8/100\n",
      "3/3 [==============================] - 0s 37ms/step - loss: 3.3283 - val_loss: 3.4617\n",
      "Epoch 9/100\n",
      "3/3 [==============================] - 0s 31ms/step - loss: 3.2438 - val_loss: 3.3756\n",
      "Epoch 10/100\n",
      "3/3 [==============================] - 0s 18ms/step - loss: 3.1769 - val_loss: 3.2585\n",
      "Epoch 11/100\n",
      "3/3 [==============================] - 0s 21ms/step - loss: 3.1093 - val_loss: 3.1851\n",
      "Epoch 12/100\n",
      "3/3 [==============================] - 0s 17ms/step - loss: 3.0620 - val_loss: 3.1304\n",
      "Epoch 13/100\n",
      "3/3 [==============================] - 0s 21ms/step - loss: 3.0213 - val_loss: 3.0788\n",
      "Epoch 14/100\n",
      "3/3 [==============================] - 0s 14ms/step - loss: 2.9833 - val_loss: 3.0774\n",
      "Epoch 15/100\n",
      "3/3 [==============================] - 0s 16ms/step - loss: 2.9663 - val_loss: 3.0953\n",
      "Epoch 16/100\n",
      "3/3 [==============================] - 0s 22ms/step - loss: 2.9502 - val_loss: 3.0724\n",
      "Epoch 17/100\n",
      "3/3 [==============================] - 0s 18ms/step - loss: 2.9203 - val_loss: 3.0590\n",
      "Epoch 18/100\n",
      "3/3 [==============================] - 0s 16ms/step - loss: 2.8940 - val_loss: 3.0504\n",
      "Epoch 19/100\n",
      "3/3 [==============================] - 0s 22ms/step - loss: 2.8746 - val_loss: 3.0046\n",
      "Epoch 20/100\n",
      "3/3 [==============================] - 0s 13ms/step - loss: 2.8507 - val_loss: 3.0254\n",
      "Epoch 21/100\n",
      "3/3 [==============================] - 0s 22ms/step - loss: 2.8254 - val_loss: 2.9818\n",
      "Epoch 22/100\n",
      "3/3 [==============================] - 0s 17ms/step - loss: 2.8003 - val_loss: 2.9617\n",
      "Epoch 23/100\n",
      "3/3 [==============================] - 0s 17ms/step - loss: 2.7797 - val_loss: 2.9506\n",
      "Epoch 24/100\n",
      "3/3 [==============================] - 0s 22ms/step - loss: 2.7784 - val_loss: 2.9663\n",
      "Epoch 25/100\n",
      "3/3 [==============================] - 0s 17ms/step - loss: 2.7517 - val_loss: 2.9708\n",
      "Epoch 26/100\n",
      "3/3 [==============================] - 0s 21ms/step - loss: 2.7369 - val_loss: 2.9189\n",
      "Epoch 27/100\n",
      "3/3 [==============================] - 0s 17ms/step - loss: 2.7120 - val_loss: 2.8370\n",
      "Epoch 28/100\n",
      "3/3 [==============================] - 0s 14ms/step - loss: 2.7010 - val_loss: 2.8329\n",
      "Epoch 29/100\n",
      "3/3 [==============================] - 0s 23ms/step - loss: 2.6811 - val_loss: 2.8732\n",
      "Epoch 30/100\n",
      "3/3 [==============================] - 0s 15ms/step - loss: 2.6682 - val_loss: 2.9389\n",
      "Epoch 31/100\n",
      "3/3 [==============================] - 0s 20ms/step - loss: 2.6618 - val_loss: 2.8802\n",
      "Epoch 32/100\n",
      "3/3 [==============================] - 0s 14ms/step - loss: 2.6433 - val_loss: 2.8367\n",
      "Epoch 33/100\n",
      "3/3 [==============================] - 0s 20ms/step - loss: 2.6255 - val_loss: 2.8000\n",
      "Epoch 34/100\n",
      "3/3 [==============================] - 0s 15ms/step - loss: 2.6183 - val_loss: 2.7904\n",
      "Epoch 35/100\n",
      "3/3 [==============================] - 0s 17ms/step - loss: 2.5994 - val_loss: 2.8395\n",
      "Epoch 36/100\n",
      "3/3 [==============================] - 0s 22ms/step - loss: 2.5944 - val_loss: 2.8271\n",
      "Epoch 37/100\n",
      "3/3 [==============================] - 0s 18ms/step - loss: 2.5914 - val_loss: 2.7361\n",
      "Epoch 38/100\n",
      "3/3 [==============================] - 0s 17ms/step - loss: 2.5831 - val_loss: 2.7273\n",
      "Epoch 39/100\n",
      "3/3 [==============================] - 0s 20ms/step - loss: 2.5992 - val_loss: 2.7539\n",
      "Epoch 40/100\n",
      "3/3 [==============================] - 0s 13ms/step - loss: 2.5686 - val_loss: 2.8976\n",
      "Epoch 41/100\n",
      "3/3 [==============================] - 0s 22ms/step - loss: 2.5856 - val_loss: 2.7945\n",
      "Epoch 42/100\n",
      "3/3 [==============================] - 0s 13ms/step - loss: 2.5544 - val_loss: 2.6810\n",
      "Epoch 43/100\n",
      "3/3 [==============================] - 0s 22ms/step - loss: 2.5649 - val_loss: 2.6784\n",
      "Epoch 44/100\n",
      "3/3 [==============================] - 0s 17ms/step - loss: 2.5604 - val_loss: 2.7683\n",
      "Epoch 45/100\n",
      "3/3 [==============================] - 0s 16ms/step - loss: 2.5425 - val_loss: 2.7139\n",
      "Epoch 46/100\n",
      "3/3 [==============================] - 0s 21ms/step - loss: 2.5526 - val_loss: 2.6869\n",
      "Epoch 47/100\n",
      "3/3 [==============================] - 0s 16ms/step - loss: 2.5401 - val_loss: 2.6987\n",
      "Epoch 48/100\n",
      "3/3 [==============================] - 0s 16ms/step - loss: 2.5718 - val_loss: 2.8406\n",
      "Epoch 49/100\n",
      "3/3 [==============================] - 0s 21ms/step - loss: 2.5472 - val_loss: 2.6600\n",
      "Epoch 50/100\n",
      "3/3 [==============================] - 0s 17ms/step - loss: 2.5203 - val_loss: 2.6634\n",
      "Epoch 51/100\n",
      "3/3 [==============================] - 0s 17ms/step - loss: 2.5111 - val_loss: 2.6962\n",
      "Epoch 52/100\n",
      "3/3 [==============================] - 0s 22ms/step - loss: 2.5085 - val_loss: 2.7485\n",
      "Epoch 53/100\n",
      "3/3 [==============================] - 0s 20ms/step - loss: 2.5237 - val_loss: 2.6449\n",
      "Epoch 54/100\n",
      "3/3 [==============================] - 0s 21ms/step - loss: 2.5028 - val_loss: 2.6863\n",
      "Epoch 55/100\n",
      "3/3 [==============================] - 0s 22ms/step - loss: 2.4967 - val_loss: 2.6740\n",
      "Epoch 56/100\n",
      "3/3 [==============================] - 0s 17ms/step - loss: 2.4940 - val_loss: 2.6902\n",
      "Epoch 57/100\n",
      "3/3 [==============================] - 0s 17ms/step - loss: 2.4867 - val_loss: 2.6465\n",
      "Epoch 58/100\n",
      "3/3 [==============================] - 0s 22ms/step - loss: 2.4845 - val_loss: 2.6677\n",
      "Epoch 59/100\n",
      "3/3 [==============================] - 0s 17ms/step - loss: 2.4785 - val_loss: 2.6360\n",
      "Epoch 60/100\n",
      "3/3 [==============================] - 0s 17ms/step - loss: 2.4740 - val_loss: 2.6400\n",
      "Epoch 61/100\n",
      "3/3 [==============================] - 0s 22ms/step - loss: 2.4777 - val_loss: 2.5933\n",
      "Epoch 62/100\n",
      "3/3 [==============================] - 0s 17ms/step - loss: 2.4612 - val_loss: 2.6633\n",
      "Epoch 63/100\n",
      "3/3 [==============================] - 0s 17ms/step - loss: 2.4745 - val_loss: 2.6827\n",
      "Epoch 64/100\n",
      "3/3 [==============================] - 0s 22ms/step - loss: 2.4703 - val_loss: 2.5552\n",
      "Epoch 65/100\n",
      "3/3 [==============================] - 0s 17ms/step - loss: 2.4686 - val_loss: 2.6310\n",
      "Epoch 66/100\n",
      "3/3 [==============================] - 0s 18ms/step - loss: 2.4550 - val_loss: 2.7694\n",
      "Epoch 67/100\n",
      "3/3 [==============================] - 0s 18ms/step - loss: 2.4722 - val_loss: 2.6762\n",
      "Epoch 68/100\n",
      "3/3 [==============================] - 0s 17ms/step - loss: 2.4461 - val_loss: 2.6131\n",
      "Epoch 69/100\n",
      "3/3 [==============================] - 0s 21ms/step - loss: 2.4526 - val_loss: 2.6044\n",
      "Epoch 70/100\n",
      "3/3 [==============================] - 0s 13ms/step - loss: 2.4493 - val_loss: 2.6341\n",
      "Epoch 71/100\n",
      "3/3 [==============================] - 0s 17ms/step - loss: 2.4452 - val_loss: 2.6891\n",
      "Epoch 72/100\n",
      "3/3 [==============================] - 0s 21ms/step - loss: 2.4355 - val_loss: 2.6427\n",
      "Epoch 73/100\n",
      "3/3 [==============================] - 0s 20ms/step - loss: 2.4921 - val_loss: 2.6115\n",
      "Epoch 74/100\n",
      "3/3 [==============================] - 0s 17ms/step - loss: 2.4282 - val_loss: 2.7516\n",
      "Epoch 75/100\n",
      "3/3 [==============================] - 0s 21ms/step - loss: 2.4891 - val_loss: 2.6164\n",
      "Epoch 76/100\n",
      "3/3 [==============================] - 0s 17ms/step - loss: 2.4463 - val_loss: 2.6468\n",
      "Epoch 77/100\n",
      "3/3 [==============================] - 0s 17ms/step - loss: 2.4942 - val_loss: 2.6391\n",
      "Epoch 78/100\n",
      "3/3 [==============================] - 0s 17ms/step - loss: 2.4364 - val_loss: 2.7369\n",
      "Epoch 79/100\n",
      "3/3 [==============================] - 0s 23ms/step - loss: 2.4430 - val_loss: 2.6619\n",
      "Epoch 80/100\n",
      "3/3 [==============================] - 0s 17ms/step - loss: 2.4287 - val_loss: 2.5835\n",
      "Epoch 81/100\n"
     ]
    },
    {
     "name": "stdout",
     "output_type": "stream",
     "text": [
      "3/3 [==============================] - 0s 16ms/step - loss: 2.4388 - val_loss: 2.5654\n",
      "Epoch 82/100\n",
      "3/3 [==============================] - 0s 18ms/step - loss: 2.4223 - val_loss: 2.6557\n",
      "Epoch 83/100\n",
      "3/3 [==============================] - 0s 21ms/step - loss: 2.4263 - val_loss: 2.6099\n",
      "Epoch 84/100\n",
      "3/3 [==============================] - 0s 17ms/step - loss: 2.4259 - val_loss: 2.5765\n",
      "Epoch 85/100\n",
      "3/3 [==============================] - 0s 22ms/step - loss: 2.4266 - val_loss: 2.6150\n",
      "Epoch 86/100\n",
      "3/3 [==============================] - 0s 17ms/step - loss: 2.4100 - val_loss: 2.6616\n",
      "Epoch 87/100\n",
      "3/3 [==============================] - 0s 16ms/step - loss: 2.4130 - val_loss: 2.6071\n",
      "Epoch 88/100\n",
      "3/3 [==============================] - 0s 21ms/step - loss: 2.4150 - val_loss: 2.5518\n",
      "Epoch 89/100\n",
      "3/3 [==============================] - 0s 14ms/step - loss: 2.4144 - val_loss: 2.5395\n",
      "Epoch 90/100\n",
      "3/3 [==============================] - 0s 21ms/step - loss: 2.4318 - val_loss: 2.6036\n",
      "Epoch 91/100\n",
      "3/3 [==============================] - 0s 17ms/step - loss: 2.4317 - val_loss: 2.5953\n",
      "Epoch 92/100\n",
      "3/3 [==============================] - 0s 16ms/step - loss: 2.4310 - val_loss: 2.6382\n",
      "Epoch 93/100\n",
      "3/3 [==============================] - 0s 21ms/step - loss: 2.4338 - val_loss: 2.6006\n",
      "Epoch 94/100\n",
      "3/3 [==============================] - 0s 14ms/step - loss: 2.4224 - val_loss: 2.5429\n",
      "Epoch 95/100\n",
      "3/3 [==============================] - 0s 20ms/step - loss: 2.4298 - val_loss: 2.5445\n",
      "Epoch 96/100\n",
      "3/3 [==============================] - 0s 22ms/step - loss: 2.3985 - val_loss: 2.6275\n",
      "Epoch 97/100\n",
      "3/3 [==============================] - 0s 17ms/step - loss: 2.3993 - val_loss: 2.5798\n",
      "Epoch 98/100\n",
      "3/3 [==============================] - 0s 18ms/step - loss: 2.4006 - val_loss: 2.5922\n",
      "Epoch 99/100\n",
      "3/3 [==============================] - 0s 20ms/step - loss: 2.3924 - val_loss: 2.6026\n",
      "Epoch 100/100\n",
      "3/3 [==============================] - 0s 22ms/step - loss: 2.3903 - val_loss: 2.6073\n"
     ]
    }
   ],
   "source": [
    "history = model.fit(X_train, y_train_grid, epochs=100,\n",
    "                    validation_data=(X_valid, y_valid_grid))"
   ]
  },
  {
   "cell_type": "code",
   "execution_count": 31,
   "id": "390834c9",
   "metadata": {},
   "outputs": [
    {
     "data": {
      "image/png": "[encoded data removed]",
      "text/plain": [
       "<Figure size 576x360 with 1 Axes>"
      ]
     },
     "metadata": {
      "needs_background": "light"
     },
     "output_type": "display_data"
    }
   ],
   "source": [
    "import pandas as pd\n",
    "\n",
    "pd.DataFrame(history.history).plot(figsize=(8, 5))\n",
    "plt.grid(True)\n",
    "# plt.gca().set_ylim(0, 1)\n",
    "plt.show()"
   ]
  },
  {
   "cell_type": "code",
   "execution_count": 32,
   "id": "6fba3b6a",
   "metadata": {},
   "outputs": [
    {
     "name": "stdout",
     "output_type": "stream",
     "text": [
      "X.shape = (None, 1)\n",
      "gauss_grid.shape = (None, 5)\n"
     ]
    },
    {
     "data": {
      "image/png": "[encoded data removed]",
      "text/plain": [
       "<Figure size 432x288 with 1 Axes>"
      ]
     },
     "metadata": {
      "needs_background": "light"
     },
     "output_type": "display_data"
    }
   ],
   "source": [
    "# X_new = np.linspace(-5, 5, 100).reshape(100, 1)\n",
    "# y_new_proba = model.predict(X_new)\n",
    "# y_new = n2g.inv_convert(y_new_proba)\n",
    "#\n",
    "plt.plot(X_train, y_train, \"b.\")\n",
    "# plt.plot(X_new, y_new, \"r-\", linewidth=2, label=\"Predictions\")\n",
    "draw_func((lambda X: n2g.inv_convert(model.predict(X)) ), mark='r-', linewidth=2, label=\"Predictions\")\n",
    "draw_normal_func(func_dict)\n",
    "plt.xlabel(\"$x_1$\", fontsize=18)\n",
    "plt.ylabel(\"$y$\", rotation=0, fontsize=18)\n",
    "plt.legend(loc=\"upper left\", fontsize=14)\n",
    "# plt.axis([-3, 3, 0, 10])\n",
    "plt.show()"
   ]
  },
  {
   "cell_type": "code",
   "execution_count": 33,
   "id": "fc059ba5",
   "metadata": {},
   "outputs": [
    {
     "name": "stdout",
     "output_type": "stream",
     "text": [
      "y_func.shape = (100, 1)\n",
      "y_gt.shape = (100, 1)\n"
     ]
    },
    {
     "data": {
      "text/plain": [
       "4.808519973065762"
      ]
     },
     "execution_count": 33,
     "metadata": {},
     "output_type": "execute_result"
    }
   ],
   "source": [
    "get_prediction_error((lambda X: n2g.inv_convert(model.predict(X)) ), func_dict, name=\"grid-rbc\")"
   ]
  },
  {
   "cell_type": "code",
   "execution_count": 34,
   "id": "edcf26db",
   "metadata": {},
   "outputs": [
    {
     "data": {
      "text/plain": [
       "<matplotlib.collections.QuadMesh at 0x16cd8295d30>"
      ]
     },
     "execution_count": 34,
     "metadata": {},
     "output_type": "execute_result"
    },
    {
     "data": {
      "image/png": "[encoded data removed]",
      "text/plain": [
       "<Figure size 432x288 with 1 Axes>"
      ]
     },
     "metadata": {
      "needs_background": "light"
     },
     "output_type": "display_data"
    }
   ],
   "source": [
    "X_new = np.linspace(-5, 5, 100).reshape(100, 1)\n",
    "y_new_proba = model.predict(X_new)\n",
    "# y_new = n2g.inv_convert(y_new_proba)\n",
    "#\n",
    "xv, yv = np.meshgrid(X_new, np.linspace(n2g.x_min, n2g.x_max, n2g.units))\n",
    "# print(xv)\n",
    "# print(yv)\n",
    "plt.pcolormesh(xv, yv, y_new_proba.T, shading=\"nearest\")"
   ]
  },
  {
   "cell_type": "markdown",
   "id": "4064d3b5",
   "metadata": {},
   "source": [
    "### Draw the 1-sigma boundary line"
   ]
  },
  {
   "cell_type": "code",
   "execution_count": 35,
   "id": "247e8712",
   "metadata": {},
   "outputs": [
    {
     "data": {
      "image/png": "[encoded data removed]",
      "text/plain": [
       "<Figure size 432x288 with 1 Axes>"
      ]
     },
     "metadata": {
      "needs_background": "light"
     },
     "output_type": "display_data"
    }
   ],
   "source": [
    "def n_sigma_boundary_line(X, n):\n",
    "    _mean, _sigma = n2g.get_statistic(model.predict(X))\n",
    "    return( _mean + n*_sigma)\n",
    "\n",
    "plt.plot(X_train, y_train, \"b.\")\n",
    "#\n",
    "draw_func((lambda X: n2g.inv_convert(model.predict(X)) ), mark='r-', linewidth=2, label=\"Predictions\")\n",
    "draw_func((lambda X: n_sigma_boundary_line(X, +1.0) ), mark='k--', linewidth=1, label=\"$\\mu+\\sigma$\")\n",
    "draw_func((lambda X: n_sigma_boundary_line(X, -1.0) ), mark='k--', linewidth=1, label=\"$\\mu-\\sigma$\")\n",
    "#\n",
    "draw_normal_func(func_dict)\n",
    "plt.xlabel(\"$x_1$\", fontsize=18)\n",
    "plt.ylabel(\"$y$\", rotation=0, fontsize=18)\n",
    "plt.legend(loc=\"upper left\", fontsize=14)\n",
    "# plt.axis([-3, 3, 0, 10])\n",
    "plt.show()"
   ]
  },
  {
   "cell_type": "code",
   "execution_count": null,
   "id": "e6266336",
   "metadata": {},
   "outputs": [],
   "source": []
  },
  {
   "cell_type": "markdown",
   "id": "99a85ab5",
   "metadata": {},
   "source": [
    "# Grid & Regression by Classification + Offset Estimation (grid --> grid,num)"
   ]
  },
  {
   "cell_type": "code",
   "execution_count": 36,
   "id": "26440167",
   "metadata": {},
   "outputs": [],
   "source": [
    "class num2gridOffset_np():\n",
    "    def __init__(self, units, x_min=-10, x_max=10):\n",
    "        self.units = units\n",
    "        self.x_min = x_min\n",
    "        self.x_max = x_max\n",
    "        self.x_grid = np.linspace(self.x_min, self.x_max, self.units, endpoint=True)\n",
    "        # bins\n",
    "        x_space = np.average(self.x_grid[1:] - self.x_grid[:-1])\n",
    "        print(\"x_space = %f\" % x_space)\n",
    "        x_0 = self.x_grid[0] - 0.5 * x_space\n",
    "        self.x_bins = [x_0 + _i*x_space for _i in range(len(self.x_grid)+1)]\n",
    "        print(\"self.x_grid = %s\" % str(self.x_grid))\n",
    "#         print(\"self.x_bins = %s\" % str(self.x_bins))\n",
    "        \n",
    "    def convert(self, X):\n",
    "        '''\n",
    "        Convert a batch of number to one-hot class and numerical offset to each grid's center\n",
    "        (m, 1) --> (m, n_units, 2)\n",
    "        '''\n",
    "        X = np.array(X)\n",
    "        if len(X.shape) <= 1:\n",
    "            X = X.reshape((-1,1))\n",
    "        idxs_bin = np.digitize(X, self.x_bins, right=False) \n",
    "        idxs_grid = (idxs_bin - 1) + 1*(idxs_bin<= 0) - 1*(idxs_bin>=self.units)\n",
    "        print(idxs_grid.shape)\n",
    "        #\n",
    "        batch_size = X.shape[0]\n",
    "        grid = np.zeros((batch_size, self.units, 2))\n",
    "        # Fill in the values\n",
    "        grid[np.arange(batch_size), idxs_grid.reshape((-1,)), 0] = 1.0\n",
    "        grid[np.arange(batch_size), :, 1] = X - self.x_grid.reshape((1,-1)) # Offset\n",
    "        return grid\n",
    "    \n",
    "    def inv_convert(self, grid):\n",
    "        idxs_grid = np.argmax(grid[...,0], axis=1)\n",
    "        print(idxs_grid.shape)\n",
    "        #\n",
    "        batch_size = grid.shape[0]\n",
    "        offset_est = grid[np.arange(batch_size),idxs_grid,1]\n",
    "        print(offset_est.shape)\n",
    "        num_est = self.x_grid[idxs_grid].reshape((1,-1)) + offset_est\n",
    "        return num_est.reshape((-1,))"
   ]
  },
  {
   "cell_type": "code",
   "execution_count": 37,
   "id": "8b15e9ff",
   "metadata": {},
   "outputs": [
    {
     "name": "stdout",
     "output_type": "stream",
     "text": [
      "x_space = 22.222222\n",
      "self.x_grid = [-100.          -77.77777778  -55.55555556  -33.33333333  -11.11111111\n",
      "   11.11111111   33.33333333   55.55555556   77.77777778  100.        ]\n"
     ]
    }
   ],
   "source": [
    "class_num = 10 # 10\n",
    "n2go = num2gridOffset_np(class_num, x_min=-100.0, x_max=100.0) "
   ]
  },
  {
   "cell_type": "code",
   "execution_count": 38,
   "id": "8f6e7955",
   "metadata": {},
   "outputs": [
    {
     "name": "stdout",
     "output_type": "stream",
     "text": [
      "(2, 1)\n",
      "[[[   0.           98.8       ]\n",
      "  [   0.           76.57777778]\n",
      "  [   0.           54.35555556]\n",
      "  [   0.           32.13333333]\n",
      "  [   1.            9.91111111]\n",
      "  [   0.          -12.31111111]\n",
      "  [   0.          -34.53333333]\n",
      "  [   0.          -56.75555556]\n",
      "  [   0.          -78.97777778]\n",
      "  [   0.         -101.2       ]]\n",
      "\n",
      " [[   0.          150.5       ]\n",
      "  [   0.          128.27777778]\n",
      "  [   0.          106.05555556]\n",
      "  [   0.           83.83333333]\n",
      "  [   0.           61.61111111]\n",
      "  [   0.           39.38888889]\n",
      "  [   0.           17.16666667]\n",
      "  [   1.           -5.05555556]\n",
      "  [   0.          -27.27777778]\n",
      "  [   0.          -49.5       ]]]\n"
     ]
    }
   ],
   "source": [
    "# grid_1 = n2g.convert(-1.2)\n",
    "grid_1 = n2go.convert([[-1.2], [50.5]])\n",
    "print(grid_1)"
   ]
  },
  {
   "cell_type": "code",
   "execution_count": 39,
   "id": "48840dc5",
   "metadata": {},
   "outputs": [
    {
     "name": "stdout",
     "output_type": "stream",
     "text": [
      "(2,)\n",
      "(2,)\n"
     ]
    },
    {
     "data": {
      "text/plain": [
       "array([-1.2, 50.5])"
      ]
     },
     "execution_count": 39,
     "metadata": {},
     "output_type": "execute_result"
    }
   ],
   "source": [
    "n2go.inv_convert(grid_1)"
   ]
  },
  {
   "cell_type": "markdown",
   "id": "11683cea",
   "metadata": {},
   "source": [
    "### Convert the labels to grid (pre-processing)"
   ]
  },
  {
   "cell_type": "code",
   "execution_count": 40,
   "id": "472997cf",
   "metadata": {},
   "outputs": [
    {
     "name": "stdout",
     "output_type": "stream",
     "text": [
      "(80, 1)\n",
      "(20, 1)\n"
     ]
    }
   ],
   "source": [
    "y_train_grid_offset = n2go.convert(y_train)\n",
    "y_valid_grid_offset = n2go.convert(y_valid)"
   ]
  },
  {
   "cell_type": "code",
   "execution_count": 41,
   "id": "71f08d76",
   "metadata": {},
   "outputs": [
    {
     "name": "stdout",
     "output_type": "stream",
     "text": [
      "(80, 10, 2)\n",
      "(20, 10, 2)\n"
     ]
    }
   ],
   "source": [
    "print(y_train_grid_offset.shape)\n",
    "print(y_valid_grid_offset.shape)"
   ]
  },
  {
   "cell_type": "code",
   "execution_count": 42,
   "id": "84b5b833",
   "metadata": {},
   "outputs": [
    {
     "name": "stdout",
     "output_type": "stream",
     "text": [
      "X.shape = (None, 1)\n",
      "gauss_grid.shape = (None, 5)\n"
     ]
    }
   ],
   "source": [
    "inputs = keras.layers.Input(shape=X_train.shape[1:])\n",
    "#\n",
    "z = num2grid(5,x_min=-10, x_max=10, sigma=3.0)(inputs)\n",
    "z = keras.layers.Dense(30, activation=\"selu\")(z)\n",
    "# Outputs\n",
    "z_proba = keras.layers.Dense(30, activation=\"relu\")(z)\n",
    "z_proba  = keras.layers.Dense(class_num, activation=\"softmax\")(z_proba)\n",
    "z_offset = keras.layers.Dense(class_num, activation=\"relu\")(z)\n",
    "z_offset = keras.layers.Dense(class_num)(z_offset)\n",
    "# Concatenate\n",
    "z_proba  = keras.layers.Reshape([class_num,1])(z_proba)\n",
    "z_offset = keras.layers.Reshape([class_num,1])(z_offset)\n",
    "out_cat = keras.layers.Concatenate(axis=-1)([z_proba, z_offset])\n",
    "#\n",
    "# Models for trainig and real usage\n",
    "model = keras.Model(inputs=[inputs], outputs=[out_cat])"
   ]
  },
  {
   "cell_type": "code",
   "execution_count": 43,
   "id": "e6482574",
   "metadata": {},
   "outputs": [],
   "source": [
    "# Customized loss function\n",
    "\n",
    "cce = keras.losses.CategoricalCrossentropy(reduction=keras.losses.Reduction.NONE)\n",
    "# cce(y_true, y_pred).numpy()\n",
    "\n",
    "def centerLoss_fn(y_true, y_pred):\n",
    "    #\n",
    "    y_true_proba = y_true[...,0]\n",
    "    y_true_value = y_true[...,1]\n",
    "    #\n",
    "    y_pred_proba = y_pred[...,0]\n",
    "    y_pred_value = y_pred[...,1]\n",
    "    \n",
    "    #\n",
    "    cce_loss = cce(y_true_proba, y_pred_proba) / class_num\n",
    "    #\n",
    "    y_true_value_est = tf.reduce_sum((y_true_proba * y_true_value), axis=-1)\n",
    "    y_pred_value_est = tf.reduce_sum((y_true_proba * y_pred_value), axis=-1)\n",
    "#     y_pred_value_est = tf.reduce_sum((y_pred_proba * y_pred_value), axis=-1)\n",
    "    value_loss = tf.abs(y_pred_value_est - y_true_value_est)\n",
    "    \n",
    "    # Total loss\n",
    "#     return (0.5*cce_loss + 0.5*value_loss )\n",
    "    return (0.2*cce_loss + 0.8*value_loss )\n",
    "#     return (cce_loss)\n",
    "#     return (value_loss )"
   ]
  },
  {
   "cell_type": "code",
   "execution_count": 44,
   "id": "60575755",
   "metadata": {},
   "outputs": [
    {
     "name": "stderr",
     "output_type": "stream",
     "text": [
      "C:\\Users\\benso\\anaconda3\\envs\\ml\\lib\\site-packages\\keras\\optimizer_v2\\adam.py:105: UserWarning: The `lr` argument is deprecated, use `learning_rate` instead.\n",
      "  super(Adam, self).__init__(name, **kwargs)\n"
     ]
    }
   ],
   "source": [
    "# optimizer = keras.optimizers.SGD(lr=0.1, momentum=0.9)\n",
    "optimizer = keras.optimizers.Adam(lr=0.05)\n",
    "model.compile(loss=centerLoss_fn, optimizer=optimizer)"
   ]
  },
  {
   "cell_type": "code",
   "execution_count": 45,
   "id": "09bc47a5",
   "metadata": {
    "scrolled": true
   },
   "outputs": [],
   "source": [
    "# history = model.fit(X_train, y_train_grid_offset, epochs=100,\n",
    "#                     validation_data=(X_valid, y_valid_grid_offset))"
   ]
  },
  {
   "cell_type": "code",
   "execution_count": 46,
   "id": "7ba1fe76",
   "metadata": {},
   "outputs": [],
   "source": [
    "# import pandas as pd\n",
    "\n",
    "# pd.DataFrame(history.history).plot(figsize=(8, 5))\n",
    "# plt.grid(True)\n",
    "# # plt.gca().set_ylim(0, 1)\n",
    "# plt.show()"
   ]
  },
  {
   "cell_type": "code",
   "execution_count": 47,
   "id": "47db8336",
   "metadata": {
    "scrolled": false
   },
   "outputs": [],
   "source": [
    "# plt.plot(X_train, y_train, \"b.\")\n",
    "# draw_func((lambda X: n2go.inv_convert(model.predict(X)) ), mark='r-', linewidth=2, label=\"Predictions\")\n",
    "# draw_normal_func(func_dict)\n",
    "# plt.xlabel(\"$x_1$\", fontsize=18)\n",
    "# plt.ylabel(\"$y$\", rotation=0, fontsize=18)\n",
    "# plt.legend(loc=\"upper left\", fontsize=14)\n",
    "# # plt.axis([-3, 3, 0, 10])\n",
    "# plt.show()"
   ]
  },
  {
   "cell_type": "code",
   "execution_count": 48,
   "id": "46a1a384",
   "metadata": {},
   "outputs": [],
   "source": [
    "# get_prediction_error((lambda X: n2go.inv_convert(model.predict(X)) ), func_dict, name=\"grid-classOffset\")"
   ]
  },
  {
   "cell_type": "code",
   "execution_count": null,
   "id": "fff995a6",
   "metadata": {},
   "outputs": [],
   "source": []
  },
  {
   "cell_type": "markdown",
   "id": "a811f344",
   "metadata": {},
   "source": [
    "# Parametric Uncertainty/Distribution Estimation\n",
    "\n",
    "In this section, we try to estimate uncertainty (actually, fit the dataset distribution) with parametric reprecentation of a distribution instead of a discretized non-parametric representation.\n",
    "\n",
    "Possible solution includes\n",
    "- Quantile estimation with pinball loss (statistic)\n",
    "- Guassian distribution (fit a prabability distribution)"
   ]
  },
  {
   "cell_type": "markdown",
   "id": "175eb32d",
   "metadata": {},
   "source": [
    "## Quantile Estimation with Pinball Loss (grid --> parameters)\n",
    "\n",
    "Quantile estimation and pinball loss is based on the concept of statistic, which predict the value based on the rank of samples in the dataset.\n",
    "\n",
    "The outputs of the model are $(y_{10}, y_{90})$, 10% quantile prediction and 90% quantile prediction, respectively."
   ]
  },
  {
   "cell_type": "code",
   "execution_count": 49,
   "id": "1d1ef92d",
   "metadata": {},
   "outputs": [],
   "source": [
    "# quantile_list = [0.5]\n",
    "# quantile_list = [0.9]\n",
    "quantile_list = [0.1, 0.9] # Use hidden layer with 30 neurons\n",
    "# quantile_list = [0.05, 0.95]\n",
    "# quantile_list = [0.25, 0.75]\n",
    "# quantile_list = [0.1, 0.5, 0.9]\n",
    "# quantile_list = [0.1, 0.3, 0.7, 0.9]\n",
    "# quantile_list = [0.1, 0.2, 0.3, 0.4, 0.6, 0.7, 0.8, 0.9] # remove 0.5\n",
    "# quantile_list = [0.1, 0.2, 0.3, 0.4, 0.5, 0.6, 0.7, 0.8, 0.9] # Should use wider hidden layer (with many neurons) + L1 regularization\n",
    "num_quantile = len(quantile_list)"
   ]
  },
  {
   "cell_type": "code",
   "execution_count": 50,
   "id": "8e3fe57b",
   "metadata": {},
   "outputs": [
    {
     "name": "stdout",
     "output_type": "stream",
     "text": [
      "X.shape = (None, 1)\n",
      "gauss_grid.shape = (None, 5)\n"
     ]
    }
   ],
   "source": [
    "model = keras.models.Sequential([\n",
    "    num2grid(5,x_min=-10, x_max=10, sigma=3.0, input_shape=X_train.shape[1:]),\n",
    "    keras.layers.Dense(30, activation=\"relu\"),\n",
    "#     keras.layers.Dense(60, activation=\"relu\"),\n",
    "#     keras.layers.Dense(100, activation=\"relu\", kernel_regularizer=tf.keras.regularizers.l1(0.01)),\n",
    "#     keras.layers.Dense(30, activation=keras.layers.LeakyReLU(alpha=0.2) ),\n",
    "#     keras.layers.Dense(30, activation=\"selu\"),\n",
    "    keras.layers.Dense(num_quantile) # (y10, y90)\n",
    "])"
   ]
  },
  {
   "cell_type": "code",
   "execution_count": 51,
   "id": "bf131dc7",
   "metadata": {},
   "outputs": [],
   "source": [
    "# Customized loss function\n",
    "def pinballLoss_fn(y_true, y_pred, tau):\n",
    "    # tau: quantile, tau in [0.0, 1.0]\n",
    "    # y_true: label mean\n",
    "    # y_pred: predicted tau quantile\n",
    "    _q = y_true - y_pred\n",
    "    return tf.math.maximum( (tau*_q), ((tau-1.0)*_q))\n",
    "    \n",
    "def pinballLoss_10_90_fn(y_true, y_pred):\n",
    "    #\n",
    "    return pinballLoss_fn(y_true, y_pred[:,0:1], 0.1) + pinballLoss_fn(y_true, y_pred[:,1:2], 0.9)\n",
    "\n",
    "def pinballLoss_full_fn(y_true, y_pred):\n",
    "    #\n",
    "    pinball_losses = tf.stack( [pinballLoss_fn(y_true, y_pred[:, _i:(_i+1)], _tau) for _i, _tau in enumerate(quantile_list)], axis=1)\n",
    "    return tf.reduce_sum(pinball_losses, axis=1)"
   ]
  },
  {
   "cell_type": "code",
   "execution_count": 52,
   "id": "a71305d5",
   "metadata": {},
   "outputs": [],
   "source": [
    "# optimizer = keras.optimizers.SGD(lr=0.1, momentum=0.9)\n",
    "optimizer = keras.optimizers.Adam(lr=0.1)\n",
    "# model.compile(loss=pinballLoss_10_90_fn, optimizer=optimizer)\n",
    "model.compile(loss=pinballLoss_full_fn, optimizer=optimizer)"
   ]
  },
  {
   "cell_type": "code",
   "execution_count": 53,
   "id": "d935c409",
   "metadata": {
    "scrolled": true
   },
   "outputs": [
    {
     "name": "stdout",
     "output_type": "stream",
     "text": [
      "Epoch 1/100\n",
      "X.shape = (None, 1)\n",
      "gauss_grid.shape = (None, 5)\n",
      "X.shape = (None, 1)\n",
      "gauss_grid.shape = (None, 5)\n",
      "1/3 [=========>....................] - ETA: 0s - loss: 50.4136X.shape = (None, 1)\n",
      "gauss_grid.shape = (None, 5)\n",
      "3/3 [==============================] - 1s 82ms/step - loss: 40.9316 - val_loss: 31.0832\n",
      "Epoch 2/100\n",
      "3/3 [==============================] - 0s 20ms/step - loss: 35.9610 - val_loss: 25.7713\n",
      "Epoch 3/100\n",
      "3/3 [==============================] - 0s 39ms/step - loss: 27.9703 - val_loss: 18.2532\n",
      "Epoch 4/100\n",
      "3/3 [==============================] - 0s 38ms/step - loss: 19.1660 - val_loss: 11.7687\n",
      "Epoch 5/100\n",
      "3/3 [==============================] - 0s 40ms/step - loss: 14.4236 - val_loss: 11.4867\n",
      "Epoch 6/100\n",
      "3/3 [==============================] - 0s 32ms/step - loss: 13.0992 - val_loss: 13.1650\n",
      "Epoch 7/100\n",
      "3/3 [==============================] - 0s 48ms/step - loss: 13.8927 - val_loss: 13.0310\n",
      "Epoch 8/100\n",
      "3/3 [==============================] - 0s 37ms/step - loss: 13.2571 - val_loss: 11.4389\n",
      "Epoch 9/100\n",
      "3/3 [==============================] - 0s 40ms/step - loss: 11.5443 - val_loss: 9.2887\n",
      "Epoch 10/100\n",
      "3/3 [==============================] - 0s 24ms/step - loss: 9.4462 - val_loss: 7.3659\n",
      "Epoch 11/100\n",
      "3/3 [==============================] - 0s 24ms/step - loss: 7.8149 - val_loss: 5.7289\n",
      "Epoch 12/100\n",
      "3/3 [==============================] - 0s 21ms/step - loss: 7.5947 - val_loss: 5.1443\n",
      "Epoch 13/100\n",
      "3/3 [==============================] - 0s 20ms/step - loss: 6.6544 - val_loss: 5.7870\n",
      "Epoch 14/100\n",
      "3/3 [==============================] - 0s 21ms/step - loss: 6.7350 - val_loss: 6.1934\n",
      "Epoch 15/100\n",
      "3/3 [==============================] - 0s 21ms/step - loss: 6.5625 - val_loss: 6.1949\n",
      "Epoch 16/100\n",
      "3/3 [==============================] - 0s 18ms/step - loss: 5.9430 - val_loss: 5.6474\n",
      "Epoch 17/100\n",
      "3/3 [==============================] - 0s 20ms/step - loss: 5.6293 - val_loss: 4.9574\n",
      "Epoch 18/100\n",
      "3/3 [==============================] - 0s 20ms/step - loss: 6.1687 - val_loss: 4.7108\n",
      "Epoch 19/100\n",
      "3/3 [==============================] - 0s 20ms/step - loss: 5.4534 - val_loss: 4.9640\n",
      "Epoch 20/100\n",
      "3/3 [==============================] - 0s 20ms/step - loss: 5.2737 - val_loss: 5.1799\n",
      "Epoch 21/100\n",
      "3/3 [==============================] - 0s 20ms/step - loss: 5.3676 - val_loss: 4.6616\n",
      "Epoch 22/100\n",
      "3/3 [==============================] - 0s 21ms/step - loss: 4.9850 - val_loss: 4.2108\n",
      "Epoch 23/100\n",
      "3/3 [==============================] - 0s 25ms/step - loss: 5.0723 - val_loss: 3.8500\n",
      "Epoch 24/100\n",
      "3/3 [==============================] - 0s 23ms/step - loss: 4.8898 - val_loss: 3.8115\n",
      "Epoch 25/100\n",
      "3/3 [==============================] - 0s 16ms/step - loss: 4.7737 - val_loss: 4.0427\n",
      "Epoch 26/100\n",
      "3/3 [==============================] - 0s 19ms/step - loss: 4.6552 - val_loss: 4.3977\n",
      "Epoch 27/100\n",
      "3/3 [==============================] - 0s 18ms/step - loss: 4.5932 - val_loss: 4.4220\n",
      "Epoch 28/100\n",
      "3/3 [==============================] - 0s 14ms/step - loss: 4.4513 - val_loss: 4.1975\n",
      "Epoch 29/100\n",
      "3/3 [==============================] - 0s 18ms/step - loss: 4.4000 - val_loss: 3.9296\n",
      "Epoch 30/100\n",
      "3/3 [==============================] - 0s 19ms/step - loss: 4.3520 - val_loss: 3.7549\n",
      "Epoch 31/100\n",
      "3/3 [==============================] - 0s 18ms/step - loss: 4.2222 - val_loss: 3.8663\n",
      "Epoch 32/100\n",
      "3/3 [==============================] - 0s 24ms/step - loss: 4.2369 - val_loss: 3.6282\n",
      "Epoch 33/100\n",
      "3/3 [==============================] - 0s 18ms/step - loss: 4.1065 - val_loss: 3.7650\n",
      "Epoch 34/100\n",
      "3/3 [==============================] - 0s 18ms/step - loss: 3.9683 - val_loss: 3.9051\n",
      "Epoch 35/100\n",
      "3/3 [==============================] - 0s 18ms/step - loss: 3.8834 - val_loss: 3.7294\n",
      "Epoch 36/100\n",
      "3/3 [==============================] - 0s 22ms/step - loss: 3.7798 - val_loss: 3.6559\n",
      "Epoch 37/100\n",
      "3/3 [==============================] - 0s 16ms/step - loss: 3.7179 - val_loss: 3.7552\n",
      "Epoch 38/100\n",
      "3/3 [==============================] - 0s 20ms/step - loss: 3.6234 - val_loss: 3.5801\n",
      "Epoch 39/100\n",
      "3/3 [==============================] - 0s 19ms/step - loss: 3.4912 - val_loss: 3.7756\n",
      "Epoch 40/100\n",
      "3/3 [==============================] - 0s 19ms/step - loss: 3.5174 - val_loss: 3.6300\n",
      "Epoch 41/100\n",
      "3/3 [==============================] - 0s 19ms/step - loss: 3.3848 - val_loss: 3.4534\n",
      "Epoch 42/100\n",
      "3/3 [==============================] - 0s 19ms/step - loss: 3.2484 - val_loss: 3.5422\n",
      "Epoch 43/100\n",
      "3/3 [==============================] - 0s 18ms/step - loss: 3.2691 - val_loss: 3.4783\n",
      "Epoch 44/100\n",
      "3/3 [==============================] - 0s 21ms/step - loss: 3.1367 - val_loss: 3.2480\n",
      "Epoch 45/100\n",
      "3/3 [==============================] - 0s 23ms/step - loss: 3.2027 - val_loss: 3.1608\n",
      "Epoch 46/100\n",
      "3/3 [==============================] - 0s 24ms/step - loss: 3.0772 - val_loss: 3.0111\n",
      "Epoch 47/100\n",
      "3/3 [==============================] - 0s 16ms/step - loss: 3.0858 - val_loss: 2.9328\n",
      "Epoch 48/100\n",
      "3/3 [==============================] - 0s 19ms/step - loss: 3.1014 - val_loss: 3.2862\n",
      "Epoch 49/100\n",
      "3/3 [==============================] - 0s 18ms/step - loss: 3.0407 - val_loss: 3.2813\n",
      "Epoch 50/100\n",
      "3/3 [==============================] - 0s 19ms/step - loss: 2.9594 - val_loss: 3.2221\n",
      "Epoch 51/100\n",
      "3/3 [==============================] - 0s 18ms/step - loss: 2.9970 - val_loss: 3.0313\n",
      "Epoch 52/100\n",
      "3/3 [==============================] - 0s 15ms/step - loss: 2.9591 - val_loss: 3.0919\n",
      "Epoch 53/100\n",
      "3/3 [==============================] - 0s 26ms/step - loss: 3.0403 - val_loss: 3.0340\n",
      "Epoch 54/100\n",
      "3/3 [==============================] - 0s 18ms/step - loss: 2.9402 - val_loss: 2.7266\n",
      "Epoch 55/100\n",
      "3/3 [==============================] - 0s 15ms/step - loss: 2.8260 - val_loss: 2.8495\n",
      "Epoch 56/100\n",
      "3/3 [==============================] - 0s 23ms/step - loss: 2.8568 - val_loss: 2.9609\n",
      "Epoch 57/100\n",
      "3/3 [==============================] - 0s 23ms/step - loss: 2.8145 - val_loss: 3.0302\n",
      "Epoch 58/100\n",
      "3/3 [==============================] - 0s 23ms/step - loss: 2.8219 - val_loss: 2.7168\n",
      "Epoch 59/100\n",
      "3/3 [==============================] - 0s 19ms/step - loss: 2.8911 - val_loss: 2.6635\n",
      "Epoch 60/100\n",
      "3/3 [==============================] - 0s 20ms/step - loss: 3.0255 - val_loss: 3.0366\n",
      "Epoch 61/100\n",
      "3/3 [==============================] - 0s 19ms/step - loss: 2.9493 - val_loss: 3.1086\n",
      "Epoch 62/100\n",
      "3/3 [==============================] - 0s 23ms/step - loss: 3.0018 - val_loss: 3.0177\n",
      "Epoch 63/100\n",
      "3/3 [==============================] - 0s 19ms/step - loss: 2.8958 - val_loss: 2.9260\n",
      "Epoch 64/100\n",
      "3/3 [==============================] - 0s 20ms/step - loss: 2.7649 - val_loss: 2.7071\n",
      "Epoch 65/100\n",
      "3/3 [==============================] - 0s 19ms/step - loss: 2.8229 - val_loss: 2.7406\n",
      "Epoch 66/100\n",
      "3/3 [==============================] - 0s 24ms/step - loss: 2.7278 - val_loss: 3.0342\n",
      "Epoch 67/100\n",
      "3/3 [==============================] - 0s 20ms/step - loss: 2.8935 - val_loss: 2.9785\n",
      "Epoch 68/100\n",
      "3/3 [==============================] - 0s 19ms/step - loss: 2.8197 - val_loss: 2.7079\n",
      "Epoch 69/100\n",
      "3/3 [==============================] - 0s 17ms/step - loss: 2.6283 - val_loss: 2.8326\n",
      "Epoch 70/100\n",
      "3/3 [==============================] - 0s 23ms/step - loss: 2.7015 - val_loss: 2.6925\n",
      "Epoch 71/100\n",
      "3/3 [==============================] - 0s 15ms/step - loss: 2.6468 - val_loss: 2.6159\n",
      "Epoch 72/100\n",
      "3/3 [==============================] - 0s 18ms/step - loss: 2.8146 - val_loss: 2.6564\n",
      "Epoch 73/100\n",
      "3/3 [==============================] - 0s 19ms/step - loss: 2.6641 - val_loss: 2.6899\n",
      "Epoch 74/100\n",
      "3/3 [==============================] - 0s 19ms/step - loss: 2.8345 - val_loss: 2.8553\n",
      "Epoch 75/100\n",
      "3/3 [==============================] - 0s 23ms/step - loss: 2.7099 - val_loss: 2.8129\n",
      "Epoch 76/100\n",
      "3/3 [==============================] - 0s 18ms/step - loss: 2.6314 - val_loss: 2.6119\n",
      "Epoch 77/100\n",
      "3/3 [==============================] - 0s 17ms/step - loss: 2.6321 - val_loss: 2.5627\n",
      "Epoch 78/100\n",
      "3/3 [==============================] - 0s 19ms/step - loss: 2.6093 - val_loss: 2.5327\n",
      "Epoch 79/100\n",
      "3/3 [==============================] - 0s 25ms/step - loss: 2.6191 - val_loss: 2.6604\n",
      "Epoch 80/100\n",
      "3/3 [==============================] - 0s 15ms/step - loss: 2.6242 - val_loss: 2.6230\n",
      "Epoch 81/100\n"
     ]
    },
    {
     "name": "stdout",
     "output_type": "stream",
     "text": [
      "3/3 [==============================] - 0s 17ms/step - loss: 2.5530 - val_loss: 2.5286\n",
      "Epoch 82/100\n",
      "3/3 [==============================] - 0s 23ms/step - loss: 2.5480 - val_loss: 2.5001\n",
      "Epoch 83/100\n",
      "3/3 [==============================] - 0s 15ms/step - loss: 2.5947 - val_loss: 2.9390\n",
      "Epoch 84/100\n",
      "3/3 [==============================] - 0s 21ms/step - loss: 2.9079 - val_loss: 3.0147\n",
      "Epoch 85/100\n",
      "3/3 [==============================] - 0s 16ms/step - loss: 2.7428 - val_loss: 2.6129\n",
      "Epoch 86/100\n",
      "3/3 [==============================] - 0s 19ms/step - loss: 2.7683 - val_loss: 2.7856\n",
      "Epoch 87/100\n",
      "3/3 [==============================] - 0s 17ms/step - loss: 2.8942 - val_loss: 2.8302\n",
      "Epoch 88/100\n",
      "3/3 [==============================] - 0s 22ms/step - loss: 2.8194 - val_loss: 3.0351\n",
      "Epoch 89/100\n",
      "3/3 [==============================] - 0s 16ms/step - loss: 2.9748 - val_loss: 2.9626\n",
      "Epoch 90/100\n",
      "3/3 [==============================] - 0s 19ms/step - loss: 2.6359 - val_loss: 2.5437\n",
      "Epoch 91/100\n",
      "3/3 [==============================] - 0s 18ms/step - loss: 2.9114 - val_loss: 2.7769\n",
      "Epoch 92/100\n",
      "3/3 [==============================] - 0s 18ms/step - loss: 3.0000 - val_loss: 3.0349\n",
      "Epoch 93/100\n",
      "3/3 [==============================] - 0s 22ms/step - loss: 3.0673 - val_loss: 3.1086\n",
      "Epoch 94/100\n",
      "3/3 [==============================] - 0s 18ms/step - loss: 3.0681 - val_loss: 2.7371\n",
      "Epoch 95/100\n",
      "3/3 [==============================] - 0s 19ms/step - loss: 2.7945 - val_loss: 2.5590\n",
      "Epoch 96/100\n",
      "3/3 [==============================] - 0s 17ms/step - loss: 2.6878 - val_loss: 2.6524\n",
      "Epoch 97/100\n",
      "3/3 [==============================] - 0s 23ms/step - loss: 2.6845 - val_loss: 2.8455\n",
      "Epoch 98/100\n",
      "3/3 [==============================] - 0s 14ms/step - loss: 2.6644 - val_loss: 2.6141\n",
      "Epoch 99/100\n",
      "3/3 [==============================] - 0s 23ms/step - loss: 2.7281 - val_loss: 2.7515\n",
      "Epoch 100/100\n",
      "3/3 [==============================] - 0s 14ms/step - loss: 2.7808 - val_loss: 2.8029\n"
     ]
    }
   ],
   "source": [
    "history = model.fit(X_train, y_train, epochs=100,\n",
    "                    validation_data=(X_valid, y_valid))"
   ]
  },
  {
   "cell_type": "code",
   "execution_count": 54,
   "id": "e7fa5656",
   "metadata": {
    "scrolled": false
   },
   "outputs": [
    {
     "data": {
      "image/png": "[encoded data removed]",
      "text/plain": [
       "<Figure size 576x360 with 1 Axes>"
      ]
     },
     "metadata": {
      "needs_background": "light"
     },
     "output_type": "display_data"
    }
   ],
   "source": [
    "import pandas as pd\n",
    "\n",
    "pd.DataFrame(history.history).plot(figsize=(8, 5))\n",
    "plt.grid(True)\n",
    "# plt.gca().set_ylim(0, 1)\n",
    "plt.show()"
   ]
  },
  {
   "cell_type": "markdown",
   "id": "a4a59dd6",
   "metadata": {},
   "source": [
    "### Draw the mean prediction curve averaged from all quantile predictions."
   ]
  },
  {
   "cell_type": "code",
   "execution_count": 55,
   "id": "0e5d0058",
   "metadata": {},
   "outputs": [
    {
     "name": "stdout",
     "output_type": "stream",
     "text": [
      "X.shape = (None, 1)\n",
      "gauss_grid.shape = (None, 5)\n"
     ]
    },
    {
     "data": {
      "image/png": "[encoded data removed]",
      "text/plain": [
       "<Figure size 432x288 with 1 Axes>"
      ]
     },
     "metadata": {
      "needs_background": "light"
     },
     "output_type": "display_data"
    }
   ],
   "source": [
    "plt.plot(X_train, y_train, \"b.\")\n",
    "draw_func((lambda X: np.average(model.predict(X), axis=-1) ), mark='r-', linewidth=2, label=\"Predictions\")\n",
    "# draw_func((lambda X: model.predict(X)[:,0] ), mark='k--', linewidth=1, label=\"$y_{%d}$\" % (quantile_list[0]*100))\n",
    "# draw_func((lambda X: model.predict(X)[:,-1] ), mark='k--', linewidth=1, label=\"$y_{%d}$\" % (quantile_list[-1]*100))\n",
    "draw_normal_func(func_dict)\n",
    "plt.xlabel(\"$x_1$\", fontsize=18)\n",
    "plt.ylabel(\"$y$\", rotation=0, fontsize=18)\n",
    "plt.legend(loc=\"upper left\", fontsize=14)\n",
    "# plt.axis([-3, 3, 0, 10])\n",
    "plt.show()"
   ]
  },
  {
   "cell_type": "code",
   "execution_count": 56,
   "id": "f98d3ae8",
   "metadata": {},
   "outputs": [
    {
     "name": "stdout",
     "output_type": "stream",
     "text": [
      "y_func.shape = (100, 1)\n",
      "y_gt.shape = (100, 1)\n"
     ]
    },
    {
     "data": {
      "text/plain": [
       "1.6655323701149605"
      ]
     },
     "execution_count": 56,
     "metadata": {},
     "output_type": "execute_result"
    }
   ],
   "source": [
    "get_prediction_error((lambda X: np.average(model.predict(X), axis=-1) ), func_dict, name=\"grid-quantileR\")"
   ]
  },
  {
   "cell_type": "markdown",
   "id": "f79ac920",
   "metadata": {},
   "source": [
    "### Draw first and last quantile curve."
   ]
  },
  {
   "cell_type": "code",
   "execution_count": 57,
   "id": "42eeb254",
   "metadata": {},
   "outputs": [
    {
     "data": {
      "image/png": "[encoded data removed]",
      "text/plain": [
       "<Figure size 432x288 with 1 Axes>"
      ]
     },
     "metadata": {
      "needs_background": "light"
     },
     "output_type": "display_data"
    }
   ],
   "source": [
    "plt.plot(X_train, y_train, \"b.\")\n",
    "draw_func((lambda X: np.average(model.predict(X), axis=-1) ), mark='r-', linewidth=2, label=\"Predictions\")\n",
    "draw_func((lambda X: model.predict(X)[:,0] ), mark='k--', linewidth=1, label=\"$y_{%d}$\" % (quantile_list[0]*100))\n",
    "draw_func((lambda X: model.predict(X)[:,-1] ), mark='k--', linewidth=1, label=\"$y_{%d}$\" % (quantile_list[-1]*100))\n",
    "draw_normal_func(func_dict)\n",
    "plt.xlabel(\"$x_1$\", fontsize=18)\n",
    "plt.ylabel(\"$y$\", rotation=0, fontsize=18)\n",
    "plt.legend(loc=\"upper left\", fontsize=14)\n",
    "# plt.axis([-3, 3, 0, 10])\n",
    "plt.show()"
   ]
  },
  {
   "cell_type": "markdown",
   "id": "2a1b1b44",
   "metadata": {},
   "source": [
    "### Draw all quantile predictions"
   ]
  },
  {
   "cell_type": "code",
   "execution_count": 58,
   "id": "5e875238",
   "metadata": {},
   "outputs": [
    {
     "data": {
      "image/png": "[encoded data removed]",
      "text/plain": [
       "<Figure size 432x288 with 1 Axes>"
      ]
     },
     "metadata": {
      "needs_background": "light"
     },
     "output_type": "display_data"
    }
   ],
   "source": [
    "plt.plot(X_train, y_train, \"b.\")\n",
    "draw_func((lambda X: np.average(model.predict(X), axis=-1) ), mark='r-', linewidth=2, label=\"Predictions\")\n",
    "for _idx, _tau in enumerate(quantile_list):\n",
    "    draw_func((lambda X: model.predict(X)[:,_idx] ), mark='k--', linewidth=1, label=\"$y_{%d}$\" % (_tau*100))\n",
    "draw_normal_func(func_dict)\n",
    "plt.xlabel(\"$x_1$\", fontsize=18)\n",
    "plt.ylabel(\"$y$\", rotation=0, fontsize=18)\n",
    "plt.legend(loc=\"upper left\", fontsize=14)\n",
    "# plt.axis([-3, 3, 0, 10])\n",
    "plt.show()"
   ]
  },
  {
   "cell_type": "markdown",
   "id": "9a01aa69",
   "metadata": {},
   "source": [
    "## Gaussian Estimation with Gaussian Loss (grid-->parameters)\n",
    "\n",
    "Gaussain estimation requires the model to predict the mean and variance of a Gaussian distribution of the random variable regarded. The training purpose is to fit a Gaussian distribution to the data distribution (which is not necessay distributed as Gaussian).\n",
    "\n",
    "One possible solution, derived by BensonHuang, is that the model estimates $(\\mu, z)$, where $z=\\alpha ^{-1}log(\\sigma)$.\n",
    "The associated loss function can be $L_G(y, (\\mu,z)) = 0.5e^{-2\\alpha z}(y-\\mu)^2 + \\alpha z$."
   ]
  },
  {
   "cell_type": "code",
   "execution_count": 59,
   "id": "1a20d5dd",
   "metadata": {},
   "outputs": [],
   "source": [
    "alpha = 1.0\n",
    "# alpha = 0.01\n",
    "# alpha = 0.001"
   ]
  },
  {
   "cell_type": "code",
   "execution_count": 60,
   "id": "cb202ed2",
   "metadata": {},
   "outputs": [
    {
     "name": "stdout",
     "output_type": "stream",
     "text": [
      "X.shape = (None, 1)\n",
      "gauss_grid.shape = (None, 5)\n"
     ]
    }
   ],
   "source": [
    "model = keras.models.Sequential([\n",
    "    num2grid(5,x_min=-10, x_max=10, sigma=3.0, input_shape=X_train.shape[1:]),\n",
    "#     keras.layers.Dense(30, activation=\"relu\"),\n",
    "    keras.layers.Dense(60, activation=\"relu\"),\n",
    "#     keras.layers.Dense(30, activation=keras.layers.LeakyReLU(alpha=0.2) ),\n",
    "#     keras.layers.Dense(30, activation=\"selu\"),\n",
    "    keras.layers.Dense(2) # (mu, z)\n",
    "])"
   ]
  },
  {
   "cell_type": "code",
   "execution_count": 61,
   "id": "925f0a22",
   "metadata": {},
   "outputs": [
    {
     "name": "stdout",
     "output_type": "stream",
     "text": [
      "alpha = 1.000000\n"
     ]
    }
   ],
   "source": [
    "# Customized loss function\n",
    "print(\"alpha = %f\" % alpha)\n",
    "\n",
    "def GaussianLoss_fn(y_true, y_pred):\n",
    "    # y_true: label \n",
    "    # y_pred: (mu, z), z=log(sigma)\n",
    "    mu = y_pred[:, 0:1]\n",
    "    z  = y_pred[:, 1:2]\n",
    "    #\n",
    "    en2z = tf.math.exp((-2.0*alpha)*z)\n",
    "    ymu2 = (y_true - mu)**2\n",
    "    return (0.5*en2z*ymu2 + alpha*z)"
   ]
  },
  {
   "cell_type": "code",
   "execution_count": 62,
   "id": "1b388b4b",
   "metadata": {},
   "outputs": [],
   "source": [
    "# Learning rate scheduler\n",
    "learning_rate_switch_epoch_list = [30, 45]\n",
    "learning_rate_list = [0.001, 0.01, 0.1]\n",
    "# learning_rate_switch_epoch_list = [30, 80]\n",
    "# learning_rate_list = [0.01, 0.1, 0.01]\n",
    "#\n",
    "def piecewise_constant_fn(epoch):\n",
    "    for _i, epoch_s in enumerate(learning_rate_switch_epoch_list):\n",
    "        if epoch < epoch_s:\n",
    "            return learning_rate_list[_i]\n",
    "    return learning_rate_list[-1]\n",
    "\n",
    "lr_scheduler = keras.callbacks.LearningRateScheduler(piecewise_constant_fn)"
   ]
  },
  {
   "cell_type": "markdown",
   "id": "6ec2e05e",
   "metadata": {},
   "source": [
    "Third training with even greater speed"
   ]
  },
  {
   "cell_type": "code",
   "execution_count": 63,
   "id": "7a7e245b",
   "metadata": {},
   "outputs": [
    {
     "name": "stderr",
     "output_type": "stream",
     "text": [
      "C:\\Users\\benso\\anaconda3\\envs\\ml\\lib\\site-packages\\keras\\optimizer_v2\\adam.py:105: UserWarning: The `lr` argument is deprecated, use `learning_rate` instead.\n",
      "  super(Adam, self).__init__(name, **kwargs)\n"
     ]
    }
   ],
   "source": [
    "# optimizer = keras.optimizers.SGD(lr=0.1, momentum=0.9)\n",
    "optimizer = keras.optimizers.Adam(lr=0.1)\n",
    "model.compile(loss=GaussianLoss_fn, optimizer=optimizer)"
   ]
  },
  {
   "cell_type": "code",
   "execution_count": 64,
   "id": "6d7b74a9",
   "metadata": {
    "scrolled": true
   },
   "outputs": [
    {
     "name": "stdout",
     "output_type": "stream",
     "text": [
      "Epoch 1/200\n",
      "X.shape = (None, 1)\n",
      "gauss_grid.shape = (None, 5)\n",
      "X.shape = (None, 1)\n",
      "gauss_grid.shape = (None, 5)\n",
      "1/3 [=========>....................] - ETA: 0s - loss: 612.4542X.shape = (None, 1)\n",
      "gauss_grid.shape = (None, 5)\n",
      "3/3 [==============================] - 1s 82ms/step - loss: 249.2188 - val_loss: 7.4093\n",
      "Epoch 2/200\n",
      "3/3 [==============================] - 0s 21ms/step - loss: 9.2155 - val_loss: 13.5002\n",
      "Epoch 3/200\n",
      "3/3 [==============================] - 0s 37ms/step - loss: 14.8855 - val_loss: 17.9408\n",
      "Epoch 4/200\n",
      "3/3 [==============================] - 0s 36ms/step - loss: 18.9314 - val_loss: 20.9105\n",
      "Epoch 5/200\n",
      "3/3 [==============================] - 0s 31ms/step - loss: 21.5665 - val_loss: 22.6614\n",
      "Epoch 6/200\n",
      "3/3 [==============================] - 0s 29ms/step - loss: 23.0477 - val_loss: 23.4325\n",
      "Epoch 7/200\n",
      "3/3 [==============================] - 0s 31ms/step - loss: 23.6482 - val_loss: 23.5399\n",
      "Epoch 8/200\n",
      "3/3 [==============================] - 0s 36ms/step - loss: 23.6359 - val_loss: 23.1790\n",
      "Epoch 9/200\n",
      "3/3 [==============================] - 0s 34ms/step - loss: 23.2380 - val_loss: 22.5231\n",
      "Epoch 10/200\n",
      "3/3 [==============================] - 0s 21ms/step - loss: 22.6151 - val_loss: 21.7032\n",
      "Epoch 11/200\n",
      "3/3 [==============================] - 0s 14ms/step - loss: 21.8716 - val_loss: 20.7800\n",
      "Epoch 12/200\n",
      "3/3 [==============================] - 0s 21ms/step - loss: 21.0212 - val_loss: 19.7669\n",
      "Epoch 13/200\n",
      "3/3 [==============================] - 0s 13ms/step - loss: 20.1017 - val_loss: 18.6979\n",
      "Epoch 14/200\n",
      "3/3 [==============================] - 0s 23ms/step - loss: 19.1278 - val_loss: 17.5979\n",
      "Epoch 15/200\n",
      "3/3 [==============================] - 0s 18ms/step - loss: 18.0890 - val_loss: 16.4414\n",
      "Epoch 16/200\n",
      "3/3 [==============================] - 0s 17ms/step - loss: 16.9917 - val_loss: 15.2090\n",
      "Epoch 17/200\n",
      "3/3 [==============================] - 0s 22ms/step - loss: 15.8294 - val_loss: 13.8898\n",
      "Epoch 18/200\n",
      "3/3 [==============================] - 0s 14ms/step - loss: 14.5784 - val_loss: 12.4553\n",
      "Epoch 19/200\n",
      "3/3 [==============================] - 0s 21ms/step - loss: 13.2010 - val_loss: 10.8748\n",
      "Epoch 20/200\n",
      "3/3 [==============================] - 0s 15ms/step - loss: 11.7066 - val_loss: 9.0967\n",
      "Epoch 21/200\n",
      "3/3 [==============================] - 0s 17ms/step - loss: 10.0336 - val_loss: 7.0989\n",
      "Epoch 22/200\n",
      "3/3 [==============================] - 0s 17ms/step - loss: 8.1690 - val_loss: 8.5601\n",
      "Epoch 23/200\n",
      "3/3 [==============================] - 0s 25ms/step - loss: 8.8928 - val_loss: 5.7549\n",
      "Epoch 24/200\n",
      "3/3 [==============================] - 0s 13ms/step - loss: 7.1703 - val_loss: 5.8703\n",
      "Epoch 25/200\n",
      "3/3 [==============================] - 0s 21ms/step - loss: 7.0408 - val_loss: 5.6639\n",
      "Epoch 26/200\n",
      "3/3 [==============================] - 0s 24ms/step - loss: 6.5606 - val_loss: 5.0807\n",
      "Epoch 27/200\n",
      "3/3 [==============================] - 0s 15ms/step - loss: 5.7764 - val_loss: 4.4111\n",
      "Epoch 28/200\n",
      "3/3 [==============================] - 0s 19ms/step - loss: 4.9894 - val_loss: 4.6635\n",
      "Epoch 29/200\n",
      "3/3 [==============================] - 0s 21ms/step - loss: 4.6916 - val_loss: 4.1312\n",
      "Epoch 30/200\n",
      "3/3 [==============================] - 0s 17ms/step - loss: 4.0689 - val_loss: 3.7073\n",
      "Epoch 31/200\n",
      "3/3 [==============================] - 0s 21ms/step - loss: 4.0563 - val_loss: 3.9129\n",
      "Epoch 32/200\n",
      "3/3 [==============================] - 0s 24ms/step - loss: 4.3025 - val_loss: 4.0534\n",
      "Epoch 33/200\n",
      "3/3 [==============================] - 0s 24ms/step - loss: 4.3142 - val_loss: 4.0929\n",
      "Epoch 34/200\n",
      "3/3 [==============================] - 0s 22ms/step - loss: 4.2701 - val_loss: 3.9295\n",
      "Epoch 35/200\n",
      "3/3 [==============================] - 0s 26ms/step - loss: 4.1254 - val_loss: 3.6995\n",
      "Epoch 36/200\n",
      "3/3 [==============================] - 0s 17ms/step - loss: 3.9743 - val_loss: 3.7359\n",
      "Epoch 37/200\n",
      "3/3 [==============================] - 0s 18ms/step - loss: 3.9590 - val_loss: 3.8209\n",
      "Epoch 38/200\n",
      "3/3 [==============================] - 0s 22ms/step - loss: 3.9673 - val_loss: 3.7310\n",
      "Epoch 39/200\n",
      "3/3 [==============================] - 0s 17ms/step - loss: 3.9620 - val_loss: 3.7021\n",
      "Epoch 40/200\n",
      "3/3 [==============================] - 0s 25ms/step - loss: 3.9430 - val_loss: 3.6844\n",
      "Epoch 41/200\n",
      "3/3 [==============================] - 0s 19ms/step - loss: 3.8992 - val_loss: 3.6946\n",
      "Epoch 42/200\n",
      "3/3 [==============================] - 0s 22ms/step - loss: 3.9054 - val_loss: 3.6762\n",
      "Epoch 43/200\n",
      "3/3 [==============================] - 0s 17ms/step - loss: 3.8851 - val_loss: 3.6496\n",
      "Epoch 44/200\n",
      "3/3 [==============================] - 0s 26ms/step - loss: 3.8790 - val_loss: 3.6512\n",
      "Epoch 45/200\n",
      "3/3 [==============================] - 0s 19ms/step - loss: 3.8647 - val_loss: 3.6403\n",
      "Epoch 46/200\n",
      "3/3 [==============================] - 0s 19ms/step - loss: 3.8427 - val_loss: 3.6669\n",
      "Epoch 47/200\n",
      "3/3 [==============================] - 0s 26ms/step - loss: 3.8352 - val_loss: 3.6458\n",
      "Epoch 48/200\n",
      "3/3 [==============================] - 0s 21ms/step - loss: 3.8156 - val_loss: 3.6258\n",
      "Epoch 49/200\n",
      "3/3 [==============================] - 0s 25ms/step - loss: 3.8022 - val_loss: 3.6139\n",
      "Epoch 50/200\n",
      "3/3 [==============================] - 0s 24ms/step - loss: 3.7843 - val_loss: 3.6008\n",
      "Epoch 51/200\n",
      "3/3 [==============================] - 0s 28ms/step - loss: 3.7691 - val_loss: 3.5983\n",
      "Epoch 52/200\n",
      "3/3 [==============================] - 0s 26ms/step - loss: 3.7469 - val_loss: 3.5769\n",
      "Epoch 53/200\n",
      "3/3 [==============================] - 0s 20ms/step - loss: 3.7300 - val_loss: 3.5648\n",
      "Epoch 54/200\n",
      "3/3 [==============================] - 0s 14ms/step - loss: 3.7057 - val_loss: 3.5651\n",
      "Epoch 55/200\n",
      "3/3 [==============================] - 0s 26ms/step - loss: 3.6789 - val_loss: 3.5571\n",
      "Epoch 56/200\n",
      "3/3 [==============================] - 0s 24ms/step - loss: 3.6553 - val_loss: 3.5386\n",
      "Epoch 57/200\n",
      "3/3 [==============================] - 0s 30ms/step - loss: 3.6222 - val_loss: 3.5191\n",
      "Epoch 58/200\n",
      "3/3 [==============================] - 0s 28ms/step - loss: 3.5945 - val_loss: 3.4979\n",
      "Epoch 59/200\n",
      "3/3 [==============================] - 0s 23ms/step - loss: 3.5596 - val_loss: 3.4803\n",
      "Epoch 60/200\n",
      "3/3 [==============================] - 0s 23ms/step - loss: 3.5294 - val_loss: 3.4629\n",
      "Epoch 61/200\n",
      "3/3 [==============================] - 0s 22ms/step - loss: 3.4919 - val_loss: 3.4295\n",
      "Epoch 62/200\n",
      "3/3 [==============================] - 0s 19ms/step - loss: 3.4589 - val_loss: 3.3998\n",
      "Epoch 63/200\n",
      "3/3 [==============================] - 0s 14ms/step - loss: 3.4304 - val_loss: 3.3732\n",
      "Epoch 64/200\n",
      "3/3 [==============================] - 0s 23ms/step - loss: 3.4024 - val_loss: 3.3568\n",
      "Epoch 65/200\n",
      "3/3 [==============================] - 0s 28ms/step - loss: 3.3959 - val_loss: 3.3365\n",
      "Epoch 66/200\n",
      "3/3 [==============================] - 0s 22ms/step - loss: 3.3695 - val_loss: 3.3247\n",
      "Epoch 67/200\n",
      "3/3 [==============================] - 0s 22ms/step - loss: 3.3727 - val_loss: 3.3212\n",
      "Epoch 68/200\n",
      "3/3 [==============================] - 0s 25ms/step - loss: 3.3536 - val_loss: 3.3437\n",
      "Epoch 69/200\n",
      "3/3 [==============================] - 0s 19ms/step - loss: 3.3692 - val_loss: 3.3483\n",
      "Epoch 70/200\n",
      "3/3 [==============================] - 0s 14ms/step - loss: 3.3406 - val_loss: 3.3227\n",
      "Epoch 71/200\n",
      "3/3 [==============================] - 0s 25ms/step - loss: 3.3507 - val_loss: 3.3187\n",
      "Epoch 72/200\n",
      "3/3 [==============================] - 0s 29ms/step - loss: 3.3312 - val_loss: 3.3236\n",
      "Epoch 73/200\n",
      "3/3 [==============================] - 0s 19ms/step - loss: 3.3360 - val_loss: 3.3300\n",
      "Epoch 74/200\n",
      "3/3 [==============================] - 0s 18ms/step - loss: 3.3279 - val_loss: 3.3081\n",
      "Epoch 75/200\n",
      "3/3 [==============================] - 0s 27ms/step - loss: 3.3481 - val_loss: 3.3385\n",
      "Epoch 76/200\n",
      "3/3 [==============================] - 0s 18ms/step - loss: 3.3535 - val_loss: 3.3158\n",
      "Epoch 77/200\n",
      "3/3 [==============================] - 0s 18ms/step - loss: 3.3148 - val_loss: 3.3452\n",
      "Epoch 78/200\n",
      "3/3 [==============================] - 0s 27ms/step - loss: 3.3185 - val_loss: 3.3050\n",
      "Epoch 79/200\n",
      "3/3 [==============================] - 0s 26ms/step - loss: 3.3069 - val_loss: 3.2969\n",
      "Epoch 80/200\n",
      "3/3 [==============================] - 0s 31ms/step - loss: 3.3079 - val_loss: 3.2854\n",
      "Epoch 81/200\n"
     ]
    },
    {
     "name": "stdout",
     "output_type": "stream",
     "text": [
      "3/3 [==============================] - 0s 20ms/step - loss: 3.3019 - val_loss: 3.2975\n",
      "Epoch 82/200\n",
      "3/3 [==============================] - 0s 19ms/step - loss: 3.3233 - val_loss: 3.2905\n",
      "Epoch 83/200\n",
      "3/3 [==============================] - 0s 23ms/step - loss: 3.2995 - val_loss: 3.3004\n",
      "Epoch 84/200\n",
      "3/3 [==============================] - 0s 14ms/step - loss: 3.3095 - val_loss: 3.2995\n",
      "Epoch 85/200\n",
      "3/3 [==============================] - 0s 20ms/step - loss: 3.2880 - val_loss: 3.3202\n",
      "Epoch 86/200\n",
      "3/3 [==============================] - 0s 14ms/step - loss: 3.3182 - val_loss: 3.2898\n",
      "Epoch 87/200\n",
      "3/3 [==============================] - 0s 16ms/step - loss: 3.2995 - val_loss: 3.2663\n",
      "Epoch 88/200\n",
      "3/3 [==============================] - 0s 17ms/step - loss: 3.3080 - val_loss: 3.2564\n",
      "Epoch 89/200\n",
      "3/3 [==============================] - 0s 17ms/step - loss: 3.2838 - val_loss: 3.2826\n",
      "Epoch 90/200\n",
      "3/3 [==============================] - 0s 22ms/step - loss: 3.3064 - val_loss: 3.3068\n",
      "Epoch 91/200\n",
      "3/3 [==============================] - 0s 14ms/step - loss: 3.2931 - val_loss: 3.3714\n",
      "Epoch 92/200\n",
      "3/3 [==============================] - 0s 20ms/step - loss: 3.3247 - val_loss: 3.2863\n",
      "Epoch 93/200\n",
      "3/3 [==============================] - 0s 13ms/step - loss: 3.2759 - val_loss: 3.2660\n",
      "Epoch 94/200\n",
      "3/3 [==============================] - 0s 20ms/step - loss: 3.2835 - val_loss: 3.2565\n",
      "Epoch 95/200\n",
      "3/3 [==============================] - 0s 14ms/step - loss: 3.2974 - val_loss: 3.2737\n",
      "Epoch 96/200\n",
      "3/3 [==============================] - 0s 20ms/step - loss: 3.3034 - val_loss: 3.2864\n",
      "Epoch 97/200\n",
      "3/3 [==============================] - 0s 14ms/step - loss: 3.2822 - val_loss: 3.2888\n",
      "Epoch 98/200\n",
      "3/3 [==============================] - 0s 17ms/step - loss: 3.2662 - val_loss: 3.2930\n",
      "Epoch 99/200\n",
      "3/3 [==============================] - 0s 22ms/step - loss: 3.2786 - val_loss: 3.2548\n",
      "Epoch 100/200\n",
      "3/3 [==============================] - 0s 17ms/step - loss: 3.2622 - val_loss: 3.2467\n",
      "Epoch 101/200\n",
      "3/3 [==============================] - 0s 17ms/step - loss: 3.2590 - val_loss: 3.2437\n",
      "Epoch 102/200\n",
      "3/3 [==============================] - 0s 17ms/step - loss: 3.2507 - val_loss: 3.2639\n",
      "Epoch 103/200\n",
      "3/3 [==============================] - 0s 19ms/step - loss: 3.2536 - val_loss: 3.2663\n",
      "Epoch 104/200\n",
      "3/3 [==============================] - 0s 17ms/step - loss: 3.2499 - val_loss: 3.2451\n",
      "Epoch 105/200\n",
      "3/3 [==============================] - 0s 14ms/step - loss: 3.2436 - val_loss: 3.2313\n",
      "Epoch 106/200\n",
      "3/3 [==============================] - 0s 23ms/step - loss: 3.2374 - val_loss: 3.2199\n",
      "Epoch 107/200\n",
      "3/3 [==============================] - 0s 15ms/step - loss: 3.2361 - val_loss: 3.2175\n",
      "Epoch 108/200\n",
      "3/3 [==============================] - 0s 18ms/step - loss: 3.2357 - val_loss: 3.2260\n",
      "Epoch 109/200\n",
      "3/3 [==============================] - 0s 17ms/step - loss: 3.2391 - val_loss: 3.2280\n",
      "Epoch 110/200\n",
      "3/3 [==============================] - 0s 22ms/step - loss: 3.2462 - val_loss: 3.2567\n",
      "Epoch 111/200\n",
      "3/3 [==============================] - 0s 20ms/step - loss: 3.2463 - val_loss: 3.2231\n",
      "Epoch 112/200\n",
      "3/3 [==============================] - 0s 21ms/step - loss: 3.2259 - val_loss: 3.2235\n",
      "Epoch 113/200\n",
      "3/3 [==============================] - 0s 18ms/step - loss: 3.2371 - val_loss: 3.2118\n",
      "Epoch 114/200\n",
      "3/3 [==============================] - 0s 17ms/step - loss: 3.2114 - val_loss: 3.2118\n",
      "Epoch 115/200\n",
      "3/3 [==============================] - 0s 22ms/step - loss: 3.2030 - val_loss: 3.2227\n",
      "Epoch 116/200\n",
      "3/3 [==============================] - 0s 20ms/step - loss: 3.2112 - val_loss: 3.1975\n",
      "Epoch 117/200\n",
      "3/3 [==============================] - 0s 25ms/step - loss: 3.1938 - val_loss: 3.2104\n",
      "Epoch 118/200\n",
      "3/3 [==============================] - 0s 13ms/step - loss: 3.2106 - val_loss: 3.2161\n",
      "Epoch 119/200\n",
      "3/3 [==============================] - 0s 20ms/step - loss: 3.1991 - val_loss: 3.2168\n",
      "Epoch 120/200\n",
      "3/3 [==============================] - 0s 17ms/step - loss: 3.1887 - val_loss: 3.2061\n",
      "Epoch 121/200\n",
      "3/3 [==============================] - 0s 18ms/step - loss: 3.1924 - val_loss: 3.2128\n",
      "Epoch 122/200\n",
      "3/3 [==============================] - 0s 18ms/step - loss: 3.1915 - val_loss: 3.2063\n",
      "Epoch 123/200\n",
      "3/3 [==============================] - 0s 22ms/step - loss: 3.2061 - val_loss: 3.1966\n",
      "Epoch 124/200\n",
      "3/3 [==============================] - 0s 13ms/step - loss: 3.1803 - val_loss: 3.2078\n",
      "Epoch 125/200\n",
      "3/3 [==============================] - 0s 22ms/step - loss: 3.1860 - val_loss: 3.1778\n",
      "Epoch 126/200\n",
      "3/3 [==============================] - 0s 18ms/step - loss: 3.1638 - val_loss: 3.1535\n",
      "Epoch 127/200\n",
      "3/3 [==============================] - 0s 18ms/step - loss: 3.1704 - val_loss: 3.1565\n",
      "Epoch 128/200\n",
      "3/3 [==============================] - 0s 17ms/step - loss: 3.1536 - val_loss: 3.1638\n",
      "Epoch 129/200\n",
      "3/3 [==============================] - 0s 23ms/step - loss: 3.1477 - val_loss: 3.1767\n",
      "Epoch 130/200\n",
      "3/3 [==============================] - 0s 16ms/step - loss: 3.1391 - val_loss: 3.1565\n",
      "Epoch 131/200\n",
      "3/3 [==============================] - 0s 17ms/step - loss: 3.1230 - val_loss: 3.1057\n",
      "Epoch 132/200\n",
      "3/3 [==============================] - 0s 22ms/step - loss: 3.1243 - val_loss: 3.0871\n",
      "Epoch 133/200\n",
      "3/3 [==============================] - 0s 13ms/step - loss: 3.1276 - val_loss: 3.1046\n",
      "Epoch 134/200\n",
      "3/3 [==============================] - 0s 21ms/step - loss: 3.1229 - val_loss: 3.1478\n",
      "Epoch 135/200\n",
      "3/3 [==============================] - 0s 17ms/step - loss: 3.1059 - val_loss: 3.1795\n",
      "Epoch 136/200\n",
      "3/3 [==============================] - 0s 17ms/step - loss: 3.1279 - val_loss: 3.1176\n",
      "Epoch 137/200\n",
      "3/3 [==============================] - 0s 19ms/step - loss: 3.0894 - val_loss: 3.0884\n",
      "Epoch 138/200\n",
      "3/3 [==============================] - 0s 21ms/step - loss: 3.0915 - val_loss: 3.0533\n",
      "Epoch 139/200\n",
      "3/3 [==============================] - 0s 18ms/step - loss: 3.0788 - val_loss: 3.0841\n",
      "Epoch 140/200\n",
      "3/3 [==============================] - 0s 20ms/step - loss: 3.0589 - val_loss: 3.1054\n",
      "Epoch 141/200\n",
      "3/3 [==============================] - 0s 16ms/step - loss: 3.0566 - val_loss: 3.0877\n",
      "Epoch 142/200\n",
      "3/3 [==============================] - 0s 22ms/step - loss: 3.0473 - val_loss: 3.0507\n",
      "Epoch 143/200\n",
      "3/3 [==============================] - 0s 14ms/step - loss: 3.0309 - val_loss: 3.0360\n",
      "Epoch 144/200\n",
      "3/3 [==============================] - 0s 21ms/step - loss: 3.0442 - val_loss: 3.0355\n",
      "Epoch 145/200\n",
      "3/3 [==============================] - 0s 14ms/step - loss: 3.0131 - val_loss: 3.0455\n",
      "Epoch 146/200\n",
      "3/3 [==============================] - 0s 22ms/step - loss: 3.0061 - val_loss: 3.0564\n",
      "Epoch 147/200\n",
      "3/3 [==============================] - 0s 18ms/step - loss: 2.9939 - val_loss: 3.0382\n",
      "Epoch 148/200\n",
      "3/3 [==============================] - 0s 17ms/step - loss: 2.9786 - val_loss: 3.0011\n",
      "Epoch 149/200\n",
      "3/3 [==============================] - 0s 22ms/step - loss: 2.9840 - val_loss: 2.9767\n",
      "Epoch 150/200\n",
      "3/3 [==============================] - 0s 14ms/step - loss: 2.9630 - val_loss: 3.0176\n",
      "Epoch 151/200\n",
      "3/3 [==============================] - 0s 17ms/step - loss: 2.9631 - val_loss: 3.0095\n",
      "Epoch 152/200\n",
      "3/3 [==============================] - 0s 22ms/step - loss: 2.9543 - val_loss: 3.0171\n",
      "Epoch 153/200\n",
      "3/3 [==============================] - 0s 16ms/step - loss: 2.9229 - val_loss: 2.9868\n",
      "Epoch 154/200\n",
      "3/3 [==============================] - 0s 22ms/step - loss: 2.9142 - val_loss: 2.9611\n",
      "Epoch 155/200\n",
      "3/3 [==============================] - 0s 19ms/step - loss: 2.9233 - val_loss: 2.9530\n",
      "Epoch 156/200\n",
      "3/3 [==============================] - 0s 16ms/step - loss: 2.9030 - val_loss: 2.9975\n",
      "Epoch 157/200\n",
      "3/3 [==============================] - 0s 17ms/step - loss: 2.8887 - val_loss: 2.9760\n",
      "Epoch 158/200\n",
      "3/3 [==============================] - 0s 18ms/step - loss: 2.8751 - val_loss: 2.9319\n",
      "Epoch 159/200\n",
      "3/3 [==============================] - 0s 22ms/step - loss: 2.8356 - val_loss: 2.9341\n",
      "Epoch 160/200\n",
      "3/3 [==============================] - 0s 19ms/step - loss: 2.8563 - val_loss: 2.9375\n",
      "Epoch 161/200\n",
      "3/3 [==============================] - 0s 18ms/step - loss: 2.8327 - val_loss: 2.9431\n",
      "Epoch 162/200\n",
      "3/3 [==============================] - 0s 17ms/step - loss: 2.8128 - val_loss: 2.9133\n",
      "Epoch 163/200\n"
     ]
    },
    {
     "name": "stdout",
     "output_type": "stream",
     "text": [
      "3/3 [==============================] - 0s 23ms/step - loss: 2.8077 - val_loss: 2.8953\n",
      "Epoch 164/200\n",
      "3/3 [==============================] - 0s 14ms/step - loss: 2.8991 - val_loss: 2.9464\n",
      "Epoch 165/200\n",
      "3/3 [==============================] - 0s 22ms/step - loss: 2.9440 - val_loss: 3.1267\n",
      "Epoch 166/200\n",
      "3/3 [==============================] - 0s 14ms/step - loss: 3.0993 - val_loss: 3.2185\n",
      "Epoch 167/200\n",
      "3/3 [==============================] - 0s 21ms/step - loss: 3.0052 - val_loss: 2.9451\n",
      "Epoch 168/200\n",
      "3/3 [==============================] - 0s 16ms/step - loss: 2.7909 - val_loss: 3.1140\n",
      "Epoch 169/200\n",
      "3/3 [==============================] - 0s 18ms/step - loss: 2.9524 - val_loss: 2.9771\n",
      "Epoch 170/200\n",
      "3/3 [==============================] - 0s 17ms/step - loss: 2.9450 - val_loss: 2.9429\n",
      "Epoch 171/200\n",
      "3/3 [==============================] - 0s 22ms/step - loss: 2.8353 - val_loss: 3.0110\n",
      "Epoch 172/200\n",
      "3/3 [==============================] - 0s 16ms/step - loss: 2.8324 - val_loss: 2.9444\n",
      "Epoch 173/200\n",
      "3/3 [==============================] - 0s 18ms/step - loss: 2.7520 - val_loss: 2.8828\n",
      "Epoch 174/200\n",
      "3/3 [==============================] - 0s 29ms/step - loss: 2.7982 - val_loss: 2.8455\n",
      "Epoch 175/200\n",
      "3/3 [==============================] - 0s 23ms/step - loss: 2.7305 - val_loss: 2.9158\n",
      "Epoch 176/200\n",
      "3/3 [==============================] - 0s 18ms/step - loss: 2.7908 - val_loss: 2.8694\n",
      "Epoch 177/200\n",
      "3/3 [==============================] - 0s 18ms/step - loss: 2.7569 - val_loss: 2.9017\n",
      "Epoch 178/200\n",
      "3/3 [==============================] - 0s 17ms/step - loss: 2.7243 - val_loss: 2.8911\n",
      "Epoch 179/200\n",
      "3/3 [==============================] - 0s 23ms/step - loss: 2.7542 - val_loss: 2.8337\n",
      "Epoch 180/200\n",
      "3/3 [==============================] - 0s 14ms/step - loss: 2.7031 - val_loss: 2.8229\n",
      "Epoch 181/200\n",
      "3/3 [==============================] - 0s 22ms/step - loss: 2.7203 - val_loss: 2.8318\n",
      "Epoch 182/200\n",
      "3/3 [==============================] - 0s 13ms/step - loss: 2.7094 - val_loss: 2.8221\n",
      "Epoch 183/200\n",
      "3/3 [==============================] - 0s 21ms/step - loss: 2.7062 - val_loss: 2.8109\n",
      "Epoch 184/200\n",
      "3/3 [==============================] - 0s 14ms/step - loss: 2.7115 - val_loss: 2.8274\n",
      "Epoch 185/200\n",
      "3/3 [==============================] - 0s 21ms/step - loss: 2.6949 - val_loss: 2.8199\n",
      "Epoch 186/200\n",
      "3/3 [==============================] - 0s 19ms/step - loss: 2.6959 - val_loss: 2.8127\n",
      "Epoch 187/200\n",
      "3/3 [==============================] - 0s 18ms/step - loss: 2.6875 - val_loss: 2.8007\n",
      "Epoch 188/200\n",
      "3/3 [==============================] - 0s 18ms/step - loss: 2.7164 - val_loss: 2.8247\n",
      "Epoch 189/200\n",
      "3/3 [==============================] - 0s 18ms/step - loss: 2.6848 - val_loss: 2.8246\n",
      "Epoch 190/200\n",
      "3/3 [==============================] - 0s 14ms/step - loss: 2.7228 - val_loss: 2.8431\n",
      "Epoch 191/200\n",
      "3/3 [==============================] - 0s 20ms/step - loss: 2.8442 - val_loss: 2.9671\n",
      "Epoch 192/200\n",
      "3/3 [==============================] - 0s 21ms/step - loss: 2.8745 - val_loss: 2.8404\n",
      "Epoch 193/200\n",
      "3/3 [==============================] - 0s 22ms/step - loss: 2.8292 - val_loss: 2.8185\n",
      "Epoch 194/200\n",
      "3/3 [==============================] - 0s 23ms/step - loss: 2.7561 - val_loss: 3.0150\n",
      "Epoch 195/200\n",
      "3/3 [==============================] - 0s 14ms/step - loss: 2.9710 - val_loss: 2.9149\n",
      "Epoch 196/200\n",
      "3/3 [==============================] - 0s 19ms/step - loss: 2.7775 - val_loss: 2.8680\n",
      "Epoch 197/200\n",
      "3/3 [==============================] - 0s 20ms/step - loss: 2.7801 - val_loss: 2.8291\n",
      "Epoch 198/200\n",
      "3/3 [==============================] - 0s 23ms/step - loss: 2.7089 - val_loss: 2.7748\n",
      "Epoch 199/200\n",
      "3/3 [==============================] - 0s 18ms/step - loss: 2.6859 - val_loss: 2.7617\n",
      "Epoch 200/200\n",
      "3/3 [==============================] - 0s 19ms/step - loss: 2.7081 - val_loss: 2.8028\n"
     ]
    }
   ],
   "source": [
    "history = model.fit(X_train, y_train, epochs=200,\n",
    "                    validation_data=(X_valid, y_valid))"
   ]
  },
  {
   "cell_type": "code",
   "execution_count": 65,
   "id": "0b29d35c",
   "metadata": {
    "scrolled": true
   },
   "outputs": [],
   "source": [
    "# history = model.fit(X_train, y_train, epochs=145,\n",
    "#                     validation_data=(X_valid, y_valid), callbacks=[lr_scheduler])"
   ]
  },
  {
   "cell_type": "code",
   "execution_count": 66,
   "id": "28215732",
   "metadata": {},
   "outputs": [
    {
     "data": {
      "image/png": "[encoded data removed]",
      "text/plain": [
       "<Figure size 576x360 with 1 Axes>"
      ]
     },
     "metadata": {
      "needs_background": "light"
     },
     "output_type": "display_data"
    }
   ],
   "source": [
    "import pandas as pd\n",
    "\n",
    "# print(history.history)\n",
    "try:\n",
    "    lr_list = history.history[\"lr\"]\n",
    "    del(history.history[\"lr\"])\n",
    "except:\n",
    "    pass\n",
    "\n",
    "pd.DataFrame(history.history)[50:].plot(figsize=(8, 5))\n",
    "plt.grid(True)\n",
    "# plt.gca().set_ylim(0, 1)\n",
    "plt.show()"
   ]
  },
  {
   "cell_type": "code",
   "execution_count": 67,
   "id": "47d362c9",
   "metadata": {
    "scrolled": true
   },
   "outputs": [
    {
     "name": "stdout",
     "output_type": "stream",
     "text": [
      "X.shape = (None, 1)\n",
      "gauss_grid.shape = (None, 5)\n"
     ]
    },
    {
     "data": {
      "image/png": "[encoded data removed]",
      "text/plain": [
       "<Figure size 432x288 with 1 Axes>"
      ]
     },
     "metadata": {
      "needs_background": "light"
     },
     "output_type": "display_data"
    }
   ],
   "source": [
    "plt.plot(X_train, y_train, \"b.\")\n",
    "draw_func((lambda X: model.predict(X)[:,0] ), mark='r-', linewidth=2, label=\"Predictions\")\n",
    "draw_normal_func(func_dict)\n",
    "plt.xlabel(\"$x_1$\", fontsize=18)\n",
    "plt.ylabel(\"$y$\", rotation=0, fontsize=18)\n",
    "plt.legend(loc=\"upper left\", fontsize=14)\n",
    "# plt.axis([-3, 3, 0, 10])\n",
    "plt.show()"
   ]
  },
  {
   "cell_type": "code",
   "execution_count": 68,
   "id": "a85a5159",
   "metadata": {},
   "outputs": [
    {
     "name": "stdout",
     "output_type": "stream",
     "text": [
      "y_func.shape = (100, 1)\n",
      "y_gt.shape = (100, 1)\n"
     ]
    },
    {
     "data": {
      "text/plain": [
       "3.419654689547912"
      ]
     },
     "execution_count": 68,
     "metadata": {},
     "output_type": "execute_result"
    }
   ],
   "source": [
    "get_prediction_error((lambda X: model.predict(X)[:,0] ), func_dict, name=\"grid-oneGaussian\")"
   ]
  },
  {
   "cell_type": "markdown",
   "id": "9ca1e36d",
   "metadata": {},
   "source": [
    "### Draw the 1-sigma boundary line"
   ]
  },
  {
   "cell_type": "code",
   "execution_count": 69,
   "id": "a04a47fa",
   "metadata": {},
   "outputs": [
    {
     "data": {
      "image/png": "[encoded data removed]",
      "text/plain": [
       "<Figure size 432x288 with 1 Axes>"
      ]
     },
     "metadata": {
      "needs_background": "light"
     },
     "output_type": "display_data"
    }
   ],
   "source": [
    "def n_sigma_boundary_line(X, n):\n",
    "    _y = model.predict(X)\n",
    "    _mean, _z = _y[:,0:1], _y[:,1:2]\n",
    "    _sigma = np.exp(alpha*_z)\n",
    "    return( _mean + n*_sigma)\n",
    "\n",
    "plt.plot(X_train, y_train, \"b.\")\n",
    "#\n",
    "draw_func((lambda X: model.predict(X)[:,0] ), mark='r-', linewidth=2, label=\"Predictions\")\n",
    "draw_func((lambda X: n_sigma_boundary_line(X, +1.0) ), mark='k--', linewidth=1, label=\"$\\mu+\\sigma$\")\n",
    "draw_func((lambda X: n_sigma_boundary_line(X, -1.0) ), mark='k--', linewidth=1, label=\"$\\mu-\\sigma$\")\n",
    "#\n",
    "draw_normal_func(func_dict)\n",
    "plt.xlabel(\"$x_1$\", fontsize=18)\n",
    "plt.ylabel(\"$y$\", rotation=0, fontsize=18)\n",
    "plt.legend(loc=\"upper left\", fontsize=14)\n",
    "# plt.axis([-3, 3, 0, 10])\n",
    "plt.show()"
   ]
  },
  {
   "cell_type": "code",
   "execution_count": null,
   "id": "a820404f",
   "metadata": {},
   "outputs": [],
   "source": []
  },
  {
   "cell_type": "markdown",
   "id": "82ec4fc4",
   "metadata": {},
   "source": [
    "# Summary"
   ]
  },
  {
   "cell_type": "code",
   "execution_count": 70,
   "id": "2d764d70",
   "metadata": {},
   "outputs": [
    {
     "name": "stdout",
     "output_type": "stream",
     "text": [
      "num-num: 6.181108\n",
      "grid-num: 4.250058\n",
      "grid-rbc: 4.808520\n",
      "grid-quantileR: 1.665532\n",
      "grid-oneGaussian: 3.419655\n"
     ]
    }
   ],
   "source": [
    "print_all_prediction_error()"
   ]
  },
  {
   "cell_type": "code",
   "execution_count": null,
   "id": "9f01e530",
   "metadata": {},
   "outputs": [],
   "source": []
  },
  {
   "cell_type": "code",
   "execution_count": null,
   "id": "0c3bdf42",
   "metadata": {},
   "outputs": [],
   "source": []
  }
 ],
 "metadata": {
  "kernelspec": {
   "display_name": "Python 3 (ipykernel)",
   "language": "python",
   "name": "python3"
  },
  "language_info": {
   "codemirror_mode": {
    "name": "ipython",
    "version": 3
   },
   "file_extension": ".py",
   "mimetype": "text/x-python",
   "name": "python",
   "nbconvert_exporter": "python",
   "pygments_lexer": "ipython3",
   "version": "3.9.7"
  }
 },
 "nbformat": 4,
 "nbformat_minor": 5
}
