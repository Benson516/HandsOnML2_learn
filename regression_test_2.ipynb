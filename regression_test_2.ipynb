{
 "cells": [
  {
   "cell_type": "markdown",
   "id": "899fa113",
   "metadata": {},
   "source": [
    "# Regression with Different Output Format under Various Data Conditions\n",
    "\n",
    "In this experience, we test the following output format for regression task under several different data coditions.\n",
    "- Numerical output\n",
    "- Regression as classification (grid-out)\n",
    "\n",
    "The data coditions include:\n",
    "- Sparse (few data)\n",
    "- Grouped\n",
    "  - Biased (parallel data)\n",
    "  - Completely different mode, uncorrelated data (cross)\n",
    "  - Partially diversed (split)"
   ]
  },
  {
   "cell_type": "code",
   "execution_count": 1,
   "id": "625ce7c3",
   "metadata": {},
   "outputs": [],
   "source": [
    "import numpy as np\n",
    "import tensorflow as tf\n",
    "from tensorflow import keras\n",
    "import os\n",
    "\n",
    "# To plot pretty figures\n",
    "%matplotlib inline\n",
    "import matplotlib as mpl\n",
    "import matplotlib.pyplot as plt\n",
    "mpl.rc('axes', labelsize=14)\n",
    "mpl.rc('xtick', labelsize=12)\n",
    "mpl.rc('ytick', labelsize=12)"
   ]
  },
  {
   "cell_type": "code",
   "execution_count": 2,
   "id": "7ad564ad",
   "metadata": {},
   "outputs": [],
   "source": [
    "# Where to save the figures\n",
    "PROJECT_ROOT_DIR = \".\"\n",
    "CHAPTER_ID = \"regression_test_2\"\n",
    "IMAGES_PATH = os.path.join(PROJECT_ROOT_DIR, \"images\", CHAPTER_ID)\n",
    "os.makedirs(IMAGES_PATH, exist_ok=True)\n",
    "\n",
    "def save_fig(fig_id, tight_layout=True, fig_extension=\"png\", resolution=300):\n",
    "    path = os.path.join(IMAGES_PATH, fig_id + \".\" + fig_extension)\n",
    "    print(\"Saving figure\", fig_id)\n",
    "    if tight_layout:\n",
    "        plt.tight_layout()\n",
    "    plt.savefig(path, format=fig_extension, dpi=resolution)"
   ]
  },
  {
   "cell_type": "code",
   "execution_count": 3,
   "id": "94e8a077",
   "metadata": {},
   "outputs": [],
   "source": [
    "def draw_func(func_in, x_min=-5, x_max=5, mark='r--', linewidth=1, label='func'):\n",
    "    n_sample = 100\n",
    "    X_func = np.linspace(x_min, x_max, n_sample).reshape(n_sample, 1)\n",
    "    y_func = func_in(X_func)\n",
    "    plt.plot(X_func, y_func, mark, linewidth=linewidth, label=label)"
   ]
  },
  {
   "cell_type": "markdown",
   "id": "c27ffe35",
   "metadata": {},
   "source": [
    "Generate polynomial data"
   ]
  },
  {
   "cell_type": "code",
   "execution_count": 4,
   "id": "ce670ce4",
   "metadata": {},
   "outputs": [],
   "source": [
    "poly_a1 = 5.0\n",
    "# poly_a1 = -10.0 # 5.0\n",
    "#\n",
    "sin_a = 0.0\n",
    "# sin_a = 10.0\n",
    "sin_f = 0.1 # 0.2\n",
    "#\n",
    "def func_0(X): # Reference\n",
    "    return 0.5 * X**3 + 0.5 * X**2 + (poly_a1)*X + 2 + sin_a*np.sin(2.0*np.pi*sin_f*X)\n",
    "def func_1(X): # Variation 1: parellel\n",
    "    return 0.5 * X**3 + 0.5 * X**2 + (poly_a1)*X + 30 + sin_a*np.sin(2.0*np.pi*sin_f*X)\n",
    "def func_2(X): # Variation 2: cross\n",
    "    return -0.5 * X**3 + 0.5 * X**2 + (poly_a1)*X + 30 + sin_a*np.sin(2.0*np.pi*sin_f*X)\n",
    "def func_3(X): # Variation 3: slightly split\n",
    "    return 0.3 * X**3 + 1.0 * X**2 + (poly_a1)*X + 15 + sin_a*np.sin(2.0*np.pi*sin_f*X)\n",
    "def func_4(X): # Sine wave~\n",
    "    return 0.5 * X**3 + 0.5 * X**2 + (poly_a1)*X + 2 + 20.0*np.sin(2.0*np.pi*sin_f*X) # 50.0"
   ]
  },
  {
   "cell_type": "code",
   "execution_count": 5,
   "id": "9463bfff",
   "metadata": {},
   "outputs": [],
   "source": [
    "func_dict = dict()\n",
    "#-----------------#\n",
    "func_dict[\"f1\"] = func_0\n",
    "#-----------------#\n",
    "# func_dict[\"f2\"] = func_1\n",
    "# func_dict[\"f2\"] = func_2\n",
    "func_dict[\"f2\"] = func_3\n",
    "# func_dict[\"f2\"] = func_4\n",
    "#-----------------#\n",
    "func_dict[\"f3\"] = func_4\n",
    "#-----------------#\n",
    "\n",
    "# Note: func_dict[\"f_avg\"] depends on multiout_type and is calculated in each section of multiout_type"
   ]
  },
  {
   "cell_type": "code",
   "execution_count": 6,
   "id": "63437d0c",
   "metadata": {},
   "outputs": [
    {
     "name": "stdout",
     "output_type": "stream",
     "text": [
      "(m, m_train) = (100, 80)\n",
      "y_data_pure.shape = (100, 1)\n",
      "y_data.shape = (100, 1)\n"
     ]
    }
   ],
   "source": [
    "np.random.seed(42)\n",
    "m = 100 # 50 # 100 # 200\n",
    "m_train = m // 5 * 4\n",
    "print(\"(m, m_train) = (%d, %d)\" % (m, m_train))\n",
    "\n",
    "# Input\n",
    "is_gapped = True\n",
    "# is_gapped = False\n",
    "#\n",
    "if not is_gapped:\n",
    "    X_data = 10 * np.random.rand(m, 1) - 5 # Note: X is randomly sampled, so we don't need to shuffle the data again\n",
    "else:\n",
    "    X_data = np.concatenate( (np.linspace(-5.0, -2.0, m//2), np.linspace(2.0, 5.0, m-m//2)) )\n",
    "    X_data = X_data.reshape((m,1))\n",
    "    np.random.shuffle(X_data)\n",
    "\n",
    "# Output, multiout_type in {1, 2, 3}\n",
    "# multiout_type = 1      \n",
    "multiout_type = 2 \n",
    "# multiout_type = 3 \n",
    "#\n",
    "sid_data = np.ones((m,1), dtype=int) # subject id, default: 1\n",
    "if multiout_type == 2:\n",
    "    m_h = m // 2\n",
    "    X_data_1 = X_data[:m_h]\n",
    "    X_data_2 = X_data[m_h:]\n",
    "    sid_data[:m_h] = 1 # id:1\n",
    "    sid_data[m_h:] = 2 # id:2\n",
    "    y_data_pure_1 = func_dict[\"f1\"](X_data_1) \n",
    "    y_data_pure_2 = func_dict[\"f2\"](X_data_2) \n",
    "    y_data_pure = np.vstack([y_data_pure_1, y_data_pure_2])\n",
    "    print(\"y_data_pure.shape = %s\" % str(y_data_pure.shape))\n",
    "    # Average line\n",
    "    func_dict[\"f_avg\"] = ( lambda X: 0.5*func_dict[\"f1\"](X) + 0.5*func_dict[\"f2\"](X) )\n",
    "    #\n",
    "elif multiout_type == 3: # with \"avg\" line\n",
    "    m_t = m // 3\n",
    "    X_data_1 = X_data[:m_t]\n",
    "    X_data_2 = X_data[m_t:(2*m_t)]\n",
    "    X_data_3 = X_data[(2*m_t):]\n",
    "    sid_data[:m_t]        = 1 # id:1\n",
    "    sid_data[m_t:(2*m_t)] = 2 # id:2\n",
    "    sid_data[(2*m_t):]    = 3 # id:3\n",
    "    y_data_pure_1 = func_dict[\"f1\"](X_data_1) \n",
    "    y_data_pure_2 = func_dict[\"f2\"](X_data_2) \n",
    "    y_data_pure_3 = func_dict[\"f3\"](X_data_3) \n",
    "    y_data_pure = np.vstack([y_data_pure_1, y_data_pure_2, y_data_pure_3])\n",
    "    print(\"y_data_pure.shape = %s\" % str(y_data_pure.shape))\n",
    "    # Average line\n",
    "    func_dict[\"f_avg\"] = ( lambda X: (func_dict[\"f1\"](X) + func_dict[\"f2\"](X) + func_dict[\"f3\"](X))/3.0 )\n",
    "    #\n",
    "else: # multiout_type == 1\n",
    "    # Average line\n",
    "    func_dict[\"f_avg\"] = ( lambda X: 0.5*func_dict[\"f1\"](X) + 0.5*func_dict[\"f2\"](X) )\n",
    "    y_data_pure = func_dict[\"f_avg\"](X_data)\n",
    "\n",
    "    \n",
    "# Label (+noise)\n",
    "n_stddev = 2.0\n",
    "# n_stddev = 10.0\n",
    "y_data = y_data_pure + np.random.randn(m, 1) * n_stddev\n",
    "print(\"y_data.shape = %s\" % str(y_data.shape))\n",
    "# print(\"sid_data = %s\" % str(sid_data))"
   ]
  },
  {
   "cell_type": "code",
   "execution_count": 7,
   "id": "ef588fae",
   "metadata": {},
   "outputs": [],
   "source": [
    "# Method 1: simply slice\n",
    "# X_train = X_data[:m_train]\n",
    "# y_train = y_data[:m_train]\n",
    "# X_valid = X_data[m_train:]\n",
    "# y_valid = y_data[m_train:]\n",
    "\n",
    "# Method 2: shuffle\n",
    "from sklearn.model_selection import train_test_split\n",
    "# X_train, X_valid, y_train, y_valid = train_test_split(X_data, y_data, test_size=0.2, random_state=42)\n",
    "X_train, X_valid, y_train, y_valid, sid_train, sid_valid = train_test_split(X_data, y_data, sid_data, test_size=0.2, random_state=42)"
   ]
  },
  {
   "cell_type": "code",
   "execution_count": 8,
   "id": "3b5d2cfe",
   "metadata": {},
   "outputs": [
    {
     "name": "stdout",
     "output_type": "stream",
     "text": [
      "(80, 1)\n"
     ]
    }
   ],
   "source": [
    "print(X_train.shape)\n",
    "# print(\"sid_train = %s\" % str(sid_train))"
   ]
  },
  {
   "cell_type": "code",
   "execution_count": 9,
   "id": "9bd2136c",
   "metadata": {},
   "outputs": [],
   "source": [
    "def draw_normal_func(func_dict):\n",
    "    if multiout_type != 1:\n",
    "        draw_func(func_dict[\"f1\"], mark='c:', label=\"f1\")\n",
    "        draw_func(func_dict[\"f2\"], mark='r:', label=\"f2\")\n",
    "    if multiout_type == 3:\n",
    "        draw_func(func_dict[\"f3\"], mark='y:', label=\"f3\")\n",
    "    draw_func(func_dict[\"f_avg\"], mark='m--', label=\"f_avg\")"
   ]
  },
  {
   "cell_type": "code",
   "execution_count": 10,
   "id": "3e4283c1",
   "metadata": {},
   "outputs": [],
   "source": [
    "def draw_points(X, y, sid=None):\n",
    "    if sid is None:\n",
    "        plt.plot(X, y, \"b.\")\n",
    "    else:\n",
    "        plt.plot(X[sid==1], y[sid==1], \"b.\")\n",
    "        plt.plot(X[sid==2], y[sid==2], \"r.\")\n",
    "        plt.plot(X[sid==3], y[sid==3], \"y.\")"
   ]
  },
  {
   "cell_type": "code",
   "execution_count": 11,
   "id": "693af3b7",
   "metadata": {},
   "outputs": [
    {
     "name": "stdout",
     "output_type": "stream",
     "text": [
      "Saving figure training_data\n"
     ]
    },
    {
     "data": {
      "image/png": "[encoded data removed]",
      "text/plain": [
       "<Figure size 432x288 with 1 Axes>"
      ]
     },
     "metadata": {
      "needs_background": "light"
     },
     "output_type": "display_data"
    }
   ],
   "source": [
    "# plt.plot(X_train, y_train, \"b.\")\n",
    "# plt.plot(X_train[sid_train==1], y_train[sid_train==1], \"b.\")\n",
    "# plt.plot(X_train[sid_train==2], y_train[sid_train==2], \"r.\")\n",
    "draw_points(X_train, y_train, sid_train)\n",
    "\n",
    "draw_normal_func(func_dict)\n",
    "plt.xlabel(\"$x_1$\", fontsize=18)\n",
    "plt.ylabel(\"$y$\", rotation=0, fontsize=18)\n",
    "plt.legend(loc=\"upper left\", fontsize=14)\n",
    "# plt.axis([-3, 3, 0, 10])\n",
    "save_fig(\"training_data\")\n",
    "plt.show()"
   ]
  },
  {
   "cell_type": "code",
   "execution_count": 12,
   "id": "a6853ff1",
   "metadata": {},
   "outputs": [],
   "source": [
    "prediction_error_dict = dict()\n",
    "\n",
    "def get_prediction_error(func_in, func_dict, name=\"\", x_min=-5, x_max=5, prediction_error_dict=prediction_error_dict):\n",
    "    n_sample = 100\n",
    "    X_func = np.linspace(x_min, x_max, n_sample).reshape(n_sample, 1)\n",
    "    y_func = func_in(X_func).reshape((n_sample,1))\n",
    "    y_gt = func_dict[\"f_avg\"](X_func).reshape((n_sample,1))\n",
    "    print(\"y_func.shape = %s\" % str(y_func.shape))\n",
    "    print(\"y_gt.shape = %s\" % str(y_gt.shape))\n",
    "#     total_error = np.sqrt(np.square(y_func - y_gt).mean())\n",
    "    total_error = np.abs(y_func - y_gt).mean()\n",
    "    prediction_error_dict[name] = total_error\n",
    "    return total_error\n",
    "\n",
    "def print_all_prediction_error(is_logging_to_screen=True, prediction_error_dict=prediction_error_dict):\n",
    "    _s = \"\"\n",
    "    for _n in prediction_error_dict:\n",
    "        _s += (\"%s: %f\" % (_n, prediction_error_dict[_n])) + \"\\n\"\n",
    "    if is_logging_to_screen:\n",
    "        print(_s)\n",
    "    return _s\n",
    "        \n",
    "def save_prediction_errors(is_logging_to_screen=False, prediction_error_dict=prediction_error_dict):\n",
    "    path = os.path.join(IMAGES_PATH, \"prediction_errors.txt\")\n",
    "    print(\"Saving all prediction errors to [%s].\" % path)\n",
    "    _s = print_all_prediction_error(is_logging_to_screen=is_logging_to_screen, prediction_error_dict=prediction_error_dict)\n",
    "    with open(path, \"w\") as _f:\n",
    "        _f.write(_s)\n",
    "    return True"
   ]
  },
  {
   "cell_type": "markdown",
   "id": "053ecc57",
   "metadata": {},
   "source": [
    "# Simple FCs (number --> number)"
   ]
  },
  {
   "cell_type": "markdown",
   "id": "c66eb67b",
   "metadata": {},
   "source": [
    "Build the regression model"
   ]
  },
  {
   "cell_type": "code",
   "execution_count": 13,
   "id": "9449fc0b",
   "metadata": {},
   "outputs": [],
   "source": [
    "model = keras.models.Sequential([\n",
    "    keras.layers.Dense(30, activation=\"relu\", input_shape=X_train.shape[1:]),\n",
    "    keras.layers.Dense(30, activation=\"relu\"),\n",
    "    keras.layers.Dense(1)\n",
    "])"
   ]
  },
  {
   "cell_type": "code",
   "execution_count": 14,
   "id": "8ad59bf4",
   "metadata": {},
   "outputs": [],
   "source": [
    "# # Customized loss function\n",
    "# def asymptoticLoss_fn(y_true, y_pred, alpha=0.01):\n",
    "#     # tau: quantile, tau in [0.0, 1.0]\n",
    "#     # y_true: label mean\n",
    "#     # y_pred: predicted tau quantile\n",
    "#     y_target = alpha * y_true + (1.0 - alpha) * y_pred\n",
    "#     # return tf.abs(y_pred - y_target)\n",
    "#     return (y_pred - y_target)**2"
   ]
  },
  {
   "cell_type": "code",
   "execution_count": 15,
   "id": "4de396a0",
   "metadata": {},
   "outputs": [
    {
     "name": "stderr",
     "output_type": "stream",
     "text": [
      "C:\\Users\\benso\\anaconda3\\envs\\ml\\lib\\site-packages\\keras\\optimizer_v2\\gradient_descent.py:102: UserWarning: The `lr` argument is deprecated, use `learning_rate` instead.\n",
      "  super(SGD, self).__init__(name, **kwargs)\n"
     ]
    }
   ],
   "source": [
    "optimizer = keras.optimizers.SGD(lr=0.0001, momentum=0.9)\n",
    "model.compile(loss=\"mean_squared_error\", optimizer=optimizer)\n",
    "# optimizer = keras.optimizers.Adam(lr=0.01)\n",
    "# # model.compile(loss=\"mean_absolute_error\", optimizer=optimizer)\n",
    "# model.compile(loss=asymptoticLoss_fn, optimizer=optimizer)"
   ]
  },
  {
   "cell_type": "code",
   "execution_count": 16,
   "id": "92afd68a",
   "metadata": {
    "scrolled": true
   },
   "outputs": [
    {
     "name": "stdout",
     "output_type": "stream",
     "text": [
      "Epoch 1/100\n",
      "3/3 [==============================] - 1s 88ms/step - loss: 2482.7036 - val_loss: 1687.5508\n",
      "Epoch 2/100\n",
      "3/3 [==============================] - 0s 20ms/step - loss: 2397.8794 - val_loss: 1602.8322\n",
      "Epoch 3/100\n",
      "3/3 [==============================] - 0s 16ms/step - loss: 2235.3794 - val_loss: 1435.3951\n",
      "Epoch 4/100\n",
      "3/3 [==============================] - 0s 27ms/step - loss: 1874.0433 - val_loss: 1046.3013\n",
      "Epoch 5/100\n",
      "3/3 [==============================] - 0s 34ms/step - loss: 999.3638 - val_loss: 511.6038\n",
      "Epoch 6/100\n",
      "3/3 [==============================] - 0s 23ms/step - loss: 626.2381 - val_loss: 1008.5215\n",
      "Epoch 7/100\n",
      "3/3 [==============================] - 0s 33ms/step - loss: 919.8281 - val_loss: 378.8942\n",
      "Epoch 8/100\n",
      "3/3 [==============================] - 0s 41ms/step - loss: 377.3785 - val_loss: 507.8655\n",
      "Epoch 9/100\n",
      "3/3 [==============================] - 0s 36ms/step - loss: 746.8472 - val_loss: 401.3120\n",
      "Epoch 10/100\n",
      "3/3 [==============================] - 0s 21ms/step - loss: 471.5699 - val_loss: 171.6577\n",
      "Epoch 11/100\n",
      "3/3 [==============================] - 0s 21ms/step - loss: 253.4529 - val_loss: 368.7628\n",
      "Epoch 12/100\n",
      "3/3 [==============================] - 0s 31ms/step - loss: 452.7078 - val_loss: 182.4047\n",
      "Epoch 13/100\n",
      "3/3 [==============================] - 0s 37ms/step - loss: 269.0383 - val_loss: 217.0364\n",
      "Epoch 14/100\n",
      "3/3 [==============================] - 0s 21ms/step - loss: 289.8980 - val_loss: 197.8270\n",
      "Epoch 15/100\n",
      "3/3 [==============================] - 0s 22ms/step - loss: 216.4272 - val_loss: 210.1378\n",
      "Epoch 16/100\n",
      "3/3 [==============================] - 0s 24ms/step - loss: 237.3228 - val_loss: 220.8410\n",
      "Epoch 17/100\n",
      "3/3 [==============================] - 0s 20ms/step - loss: 222.4846 - val_loss: 185.3737\n",
      "Epoch 18/100\n",
      "3/3 [==============================] - 0s 24ms/step - loss: 203.1293 - val_loss: 182.6527\n",
      "Epoch 19/100\n",
      "3/3 [==============================] - 0s 19ms/step - loss: 215.3995 - val_loss: 172.3740\n",
      "Epoch 20/100\n",
      "3/3 [==============================] - 0s 19ms/step - loss: 201.2121 - val_loss: 174.6239\n",
      "Epoch 21/100\n",
      "3/3 [==============================] - 0s 22ms/step - loss: 202.7721 - val_loss: 174.3378\n",
      "Epoch 22/100\n",
      "3/3 [==============================] - 0s 16ms/step - loss: 201.6553 - val_loss: 171.0564\n",
      "Epoch 23/100\n",
      "3/3 [==============================] - 0s 21ms/step - loss: 198.1998 - val_loss: 176.1044\n",
      "Epoch 24/100\n",
      "3/3 [==============================] - 0s 22ms/step - loss: 201.1637 - val_loss: 185.5870\n",
      "Epoch 25/100\n",
      "3/3 [==============================] - 0s 23ms/step - loss: 196.4934 - val_loss: 185.8341\n",
      "Epoch 26/100\n",
      "3/3 [==============================] - 0s 26ms/step - loss: 196.5439 - val_loss: 180.6968\n",
      "Epoch 27/100\n",
      "3/3 [==============================] - 0s 18ms/step - loss: 195.2314 - val_loss: 174.1455\n",
      "Epoch 28/100\n",
      "3/3 [==============================] - 0s 24ms/step - loss: 191.6704 - val_loss: 171.5133\n",
      "Epoch 29/100\n",
      "3/3 [==============================] - 0s 20ms/step - loss: 191.9554 - val_loss: 169.8391\n",
      "Epoch 30/100\n",
      "3/3 [==============================] - 0s 21ms/step - loss: 191.6653 - val_loss: 167.6271\n",
      "Epoch 31/100\n",
      "3/3 [==============================] - 0s 19ms/step - loss: 192.1855 - val_loss: 168.4670\n",
      "Epoch 32/100\n",
      "3/3 [==============================] - 0s 20ms/step - loss: 189.5112 - val_loss: 166.8493\n",
      "Epoch 33/100\n",
      "3/3 [==============================] - 0s 22ms/step - loss: 189.6178 - val_loss: 166.7837\n",
      "Epoch 34/100\n",
      "3/3 [==============================] - 0s 19ms/step - loss: 188.8284 - val_loss: 168.1707\n",
      "Epoch 35/100\n",
      "3/3 [==============================] - 0s 21ms/step - loss: 188.4311 - val_loss: 168.4503\n",
      "Epoch 36/100\n",
      "3/3 [==============================] - 0s 21ms/step - loss: 187.9485 - val_loss: 167.7908\n",
      "Epoch 37/100\n",
      "3/3 [==============================] - 0s 19ms/step - loss: 188.0346 - val_loss: 170.5434\n",
      "Epoch 38/100\n",
      "3/3 [==============================] - 0s 22ms/step - loss: 186.2430 - val_loss: 171.9736\n",
      "Epoch 39/100\n",
      "3/3 [==============================] - 0s 23ms/step - loss: 186.2748 - val_loss: 173.2025\n",
      "Epoch 40/100\n",
      "3/3 [==============================] - 0s 22ms/step - loss: 188.5739 - val_loss: 172.0308\n",
      "Epoch 41/100\n",
      "3/3 [==============================] - 0s 24ms/step - loss: 185.0457 - val_loss: 167.1906\n",
      "Epoch 42/100\n",
      "3/3 [==============================] - 0s 19ms/step - loss: 185.9814 - val_loss: 164.5621\n",
      "Epoch 43/100\n",
      "3/3 [==============================] - 0s 28ms/step - loss: 185.6371 - val_loss: 161.8201\n",
      "Epoch 44/100\n",
      "3/3 [==============================] - 0s 23ms/step - loss: 183.3795 - val_loss: 163.4839\n",
      "Epoch 45/100\n",
      "3/3 [==============================] - 0s 23ms/step - loss: 183.2449 - val_loss: 167.8580\n",
      "Epoch 46/100\n",
      "3/3 [==============================] - 0s 24ms/step - loss: 182.1930 - val_loss: 168.0625\n",
      "Epoch 47/100\n",
      "3/3 [==============================] - 0s 22ms/step - loss: 182.0727 - val_loss: 164.6106\n",
      "Epoch 48/100\n",
      "3/3 [==============================] - 0s 24ms/step - loss: 181.2102 - val_loss: 162.8971\n",
      "Epoch 49/100\n",
      "3/3 [==============================] - 0s 18ms/step - loss: 181.1946 - val_loss: 163.2679\n",
      "Epoch 50/100\n",
      "3/3 [==============================] - 0s 21ms/step - loss: 179.4284 - val_loss: 169.8251\n",
      "Epoch 51/100\n",
      "3/3 [==============================] - 0s 21ms/step - loss: 181.7545 - val_loss: 172.1881\n",
      "Epoch 52/100\n",
      "3/3 [==============================] - 0s 18ms/step - loss: 179.2229 - val_loss: 169.4094\n",
      "Epoch 53/100\n",
      "3/3 [==============================] - 0s 23ms/step - loss: 180.9034 - val_loss: 166.0722\n",
      "Epoch 54/100\n",
      "3/3 [==============================] - 0s 19ms/step - loss: 179.8265 - val_loss: 163.1953\n",
      "Epoch 55/100\n",
      "3/3 [==============================] - 0s 18ms/step - loss: 177.1573 - val_loss: 163.0690\n",
      "Epoch 56/100\n",
      "3/3 [==============================] - 0s 26ms/step - loss: 176.3679 - val_loss: 162.5305\n",
      "Epoch 57/100\n",
      "3/3 [==============================] - 0s 21ms/step - loss: 175.4173 - val_loss: 160.8184\n",
      "Epoch 58/100\n",
      "3/3 [==============================] - 0s 18ms/step - loss: 179.3832 - val_loss: 158.2482\n",
      "Epoch 59/100\n",
      "3/3 [==============================] - 0s 25ms/step - loss: 176.7953 - val_loss: 161.2379\n",
      "Epoch 60/100\n",
      "3/3 [==============================] - 0s 20ms/step - loss: 174.0838 - val_loss: 163.3469\n",
      "Epoch 61/100\n",
      "3/3 [==============================] - 0s 18ms/step - loss: 174.1824 - val_loss: 164.7334\n",
      "Epoch 62/100\n",
      "3/3 [==============================] - 0s 21ms/step - loss: 173.7886 - val_loss: 163.4711\n",
      "Epoch 63/100\n",
      "3/3 [==============================] - 0s 25ms/step - loss: 174.1061 - val_loss: 163.4748\n",
      "Epoch 64/100\n",
      "3/3 [==============================] - 0s 24ms/step - loss: 173.9236 - val_loss: 159.2255\n",
      "Epoch 65/100\n",
      "3/3 [==============================] - 0s 22ms/step - loss: 171.8869 - val_loss: 160.8210\n",
      "Epoch 66/100\n",
      "3/3 [==============================] - 0s 25ms/step - loss: 172.2947 - val_loss: 162.3256\n",
      "Epoch 67/100\n",
      "3/3 [==============================] - 0s 16ms/step - loss: 172.4664 - val_loss: 165.3780\n",
      "Epoch 68/100\n",
      "3/3 [==============================] - 0s 15ms/step - loss: 171.7117 - val_loss: 165.8951\n",
      "Epoch 69/100\n",
      "3/3 [==============================] - 0s 26ms/step - loss: 171.3690 - val_loss: 159.7125\n",
      "Epoch 70/100\n",
      "3/3 [==============================] - 0s 26ms/step - loss: 172.5658 - val_loss: 152.7859\n",
      "Epoch 71/100\n",
      "3/3 [==============================] - 0s 26ms/step - loss: 171.0353 - val_loss: 151.4182\n",
      "Epoch 72/100\n",
      "3/3 [==============================] - 0s 24ms/step - loss: 170.0345 - val_loss: 153.1721\n",
      "Epoch 73/100\n",
      "3/3 [==============================] - 0s 19ms/step - loss: 168.5971 - val_loss: 155.0754\n",
      "Epoch 74/100\n",
      "3/3 [==============================] - 0s 20ms/step - loss: 172.2186 - val_loss: 160.0759\n",
      "Epoch 75/100\n",
      "3/3 [==============================] - 0s 21ms/step - loss: 167.3549 - val_loss: 158.4630\n",
      "Epoch 76/100\n",
      "3/3 [==============================] - 0s 20ms/step - loss: 166.9662 - val_loss: 155.1094\n",
      "Epoch 77/100\n",
      "3/3 [==============================] - ETA: 0s - loss: 208.360 - 0s 22ms/step - loss: 167.6927 - val_loss: 151.7184\n",
      "Epoch 78/100\n",
      "3/3 [==============================] - 0s 18ms/step - loss: 167.3821 - val_loss: 152.4865\n",
      "Epoch 79/100\n",
      "3/3 [==============================] - 0s 19ms/step - loss: 167.8528 - val_loss: 155.0394\n",
      "Epoch 80/100\n"
     ]
    },
    {
     "name": "stdout",
     "output_type": "stream",
     "text": [
      "3/3 [==============================] - 0s 19ms/step - loss: 165.5834 - val_loss: 153.2934\n",
      "Epoch 81/100\n",
      "3/3 [==============================] - 0s 20ms/step - loss: 165.5694 - val_loss: 152.8078\n",
      "Epoch 82/100\n",
      "3/3 [==============================] - 0s 17ms/step - loss: 166.1084 - val_loss: 150.2542\n",
      "Epoch 83/100\n",
      "3/3 [==============================] - 0s 24ms/step - loss: 164.9075 - val_loss: 148.3569\n",
      "Epoch 84/100\n",
      "3/3 [==============================] - 0s 24ms/step - loss: 167.8122 - val_loss: 150.8313\n",
      "Epoch 85/100\n",
      "3/3 [==============================] - 0s 25ms/step - loss: 165.7780 - val_loss: 146.8138\n",
      "Epoch 86/100\n",
      "3/3 [==============================] - 0s 19ms/step - loss: 167.4789 - val_loss: 148.6643\n",
      "Epoch 87/100\n",
      "3/3 [==============================] - 0s 18ms/step - loss: 164.7666 - val_loss: 153.1010\n",
      "Epoch 88/100\n",
      "3/3 [==============================] - 0s 17ms/step - loss: 162.9299 - val_loss: 156.1145\n",
      "Epoch 89/100\n",
      "3/3 [==============================] - 0s 23ms/step - loss: 162.9217 - val_loss: 154.8070\n",
      "Epoch 90/100\n",
      "3/3 [==============================] - 0s 20ms/step - loss: 162.8510 - val_loss: 155.7072\n",
      "Epoch 91/100\n",
      "3/3 [==============================] - 0s 22ms/step - loss: 163.7812 - val_loss: 153.0509\n",
      "Epoch 92/100\n",
      "3/3 [==============================] - 0s 23ms/step - loss: 161.3813 - val_loss: 154.9008\n",
      "Epoch 93/100\n",
      "3/3 [==============================] - 0s 21ms/step - loss: 162.9011 - val_loss: 155.2581\n",
      "Epoch 94/100\n",
      "3/3 [==============================] - 0s 13ms/step - loss: 161.9711 - val_loss: 149.7530\n",
      "Epoch 95/100\n",
      "3/3 [==============================] - 0s 17ms/step - loss: 161.1444 - val_loss: 144.9618\n",
      "Epoch 96/100\n",
      "3/3 [==============================] - 0s 18ms/step - loss: 160.5584 - val_loss: 143.8787\n",
      "Epoch 97/100\n",
      "3/3 [==============================] - 0s 24ms/step - loss: 161.5905 - val_loss: 144.8873\n",
      "Epoch 98/100\n",
      "3/3 [==============================] - 0s 21ms/step - loss: 159.9080 - val_loss: 146.6790\n",
      "Epoch 99/100\n",
      "3/3 [==============================] - 0s 21ms/step - loss: 160.6750 - val_loss: 150.9240\n",
      "Epoch 100/100\n",
      "3/3 [==============================] - 0s 25ms/step - loss: 162.3332 - val_loss: 157.2720\n"
     ]
    }
   ],
   "source": [
    "history = model.fit(X_train, y_train, epochs=100,\n",
    "                    validation_data=(X_valid, y_valid))"
   ]
  },
  {
   "cell_type": "markdown",
   "id": "17d6e37a",
   "metadata": {},
   "source": [
    "Plot the result"
   ]
  },
  {
   "cell_type": "code",
   "execution_count": 17,
   "id": "3b066f5c",
   "metadata": {},
   "outputs": [
    {
     "name": "stdout",
     "output_type": "stream",
     "text": [
      "Saving figure num_num_training_curve\n"
     ]
    },
    {
     "data": {
      "image/png": "[encoded data removed]",
      "text/plain": [
       "<Figure size 576x360 with 1 Axes>"
      ]
     },
     "metadata": {
      "needs_background": "light"
     },
     "output_type": "display_data"
    }
   ],
   "source": [
    "import pandas as pd\n",
    "\n",
    "pd.DataFrame(history.history).plot(figsize=(8, 5))\n",
    "plt.grid(True)\n",
    "# plt.gca().set_ylim(0, 1)\n",
    "save_fig(\"num_num_training_curve\")\n",
    "plt.show()"
   ]
  },
  {
   "cell_type": "code",
   "execution_count": 18,
   "id": "03f9bb54",
   "metadata": {},
   "outputs": [
    {
     "name": "stdout",
     "output_type": "stream",
     "text": [
      "Saving figure num_num_prediction\n"
     ]
    },
    {
     "data": {
      "image/png": "[encoded data removed]",
      "text/plain": [
       "<Figure size 432x288 with 1 Axes>"
      ]
     },
     "metadata": {
      "needs_background": "light"
     },
     "output_type": "display_data"
    }
   ],
   "source": [
    "# X_new = np.linspace(-5, 5, 100).reshape(100, 1)\n",
    "# y_new = model.predict(X_new)\n",
    "#\n",
    "# plt.plot(X_train, y_train, \"b.\")\n",
    "draw_points(X_train, y_train, sid_train)\n",
    "# plt.plot(X_new, y_new, \"r-\", linewidth=2, label=\"Predictions\")\n",
    "draw_func(model.predict, mark='r-', linewidth=2, label=\"Predictions\")\n",
    "draw_normal_func(func_dict)\n",
    "plt.xlabel(\"$x_1$\", fontsize=18)\n",
    "plt.ylabel(\"$y$\", rotation=0, fontsize=18)\n",
    "plt.legend(loc=\"upper left\", fontsize=14)\n",
    "# plt.axis([-3, 3, 0, 10])\n",
    "save_fig(\"num_num_prediction\")\n",
    "plt.show()"
   ]
  },
  {
   "cell_type": "code",
   "execution_count": 19,
   "id": "bc06d931",
   "metadata": {},
   "outputs": [
    {
     "name": "stdout",
     "output_type": "stream",
     "text": [
      "y_func.shape = (100, 1)\n",
      "y_gt.shape = (100, 1)\n"
     ]
    },
    {
     "data": {
      "text/plain": [
       "6.0750502056228814"
      ]
     },
     "execution_count": 19,
     "metadata": {},
     "output_type": "execute_result"
    }
   ],
   "source": [
    "get_prediction_error(model.predict, func_dict, name=\"num-num\")"
   ]
  },
  {
   "cell_type": "markdown",
   "id": "58da8768",
   "metadata": {},
   "source": [
    "# Simulated CNN Feature Map (1-D grids, grid --> number)"
   ]
  },
  {
   "cell_type": "code",
   "execution_count": 20,
   "id": "287b5e4c",
   "metadata": {},
   "outputs": [],
   "source": [
    "class num2grid(keras.layers.Layer):\n",
    "    def __init__(self, units, x_min=-10, x_max=10, sigma=1.0, activation=None, **kwargs):\n",
    "        super().__init__(**kwargs)\n",
    "        self.units = units\n",
    "        self.x_min = x_min\n",
    "        self.x_max = x_max\n",
    "        self.sigma = sigma\n",
    "        self.sigma2 = self.sigma**2\n",
    "        self.activation = keras.activations.get(activation)\n",
    "        \n",
    "    def build(self, batch_input_shape):\n",
    "        #\n",
    "        self.x_grid = np.linspace(self.x_min, self.x_max, self.units, endpoint=True)\n",
    "#         print(\"self.x_grid.shape = %s\" % str(self.x_grid.shape))\n",
    "        #\n",
    "        super().build(batch_input_shape) # must be at the end\n",
    "        \n",
    "    def call(self, X):\n",
    "        '''\n",
    "        Input shape:  (batch, X_chanel)\n",
    "        Output shape: (batch, grid_unit) \n",
    "        \n",
    "        self.x_grid shape: (grid_unit,)\n",
    "        '''\n",
    "        gauss_grid = tf.exp( -(self.x_grid - X)**2 / (2.0*self.sigma2) )\n",
    "        print(\"X.shape = %s\" % str(X.shape))\n",
    "        print(\"gauss_grid.shape = %s\" % str(gauss_grid.shape))\n",
    "        return self.activation(gauss_grid)\n",
    "    \n",
    "    def compute_output_shape(self, batch_input_shape):\n",
    "        return tf.TensorShape(batch_input_shape.as_list()[:-1] + [self.units])\n",
    "    \n",
    "    def get_config(self):\n",
    "        base_config = super().get_config()\n",
    "        return {**base_config, \n",
    "                \"units\": self.units,\n",
    "                \"x_min\": self.x_min,\n",
    "                \"x_max\": self.x_max,\n",
    "                \"sigma\": self.sigma,\n",
    "                \"activation\": keras.activations.serialize(self.activation)}"
   ]
  },
  {
   "cell_type": "code",
   "execution_count": 21,
   "id": "f463c12a",
   "metadata": {},
   "outputs": [
    {
     "name": "stdout",
     "output_type": "stream",
     "text": [
      "X.shape = (None, 1)\n",
      "gauss_grid.shape = (None, 5)\n"
     ]
    }
   ],
   "source": [
    "model = keras.models.Sequential([\n",
    "    num2grid(5,x_min=-10, x_max=10, sigma=3.0, input_shape=X_train.shape[1:]),\n",
    "    keras.layers.Dense(30, activation=\"relu\"),\n",
    "#     keras.layers.Dense(100, activation=\"relu\", kernel_regularizer=tf.keras.regularizers.l1(0.01)),\n",
    "#     keras.layers.Dense(30, activation=keras.layers.LeakyReLU(alpha=0.2) ),\n",
    "#     keras.layers.Dense(30, activation=\"selu\"),\n",
    "#     keras.layers.Dense(30, activation=\"relu\"),\n",
    "    keras.layers.Dense(1)\n",
    "])"
   ]
  },
  {
   "cell_type": "code",
   "execution_count": 22,
   "id": "73fbb610",
   "metadata": {},
   "outputs": [],
   "source": [
    "# # Customized loss function\n",
    "# def asymptoticLoss_fn(y_true, y_pred, alpha=0.01):\n",
    "#     # tau: quantile, tau in [0.0, 1.0]\n",
    "#     # y_true: label mean\n",
    "#     # y_pred: predicted tau quantile\n",
    "#     y_target = alpha * y_true + (1.0 - alpha) * y_pred\n",
    "#     # return tf.abs(y_pred - y_target)\n",
    "#     return (y_pred - y_target)**2"
   ]
  },
  {
   "cell_type": "code",
   "execution_count": 23,
   "id": "062ec84e",
   "metadata": {},
   "outputs": [
    {
     "name": "stderr",
     "output_type": "stream",
     "text": [
      "C:\\Users\\benso\\anaconda3\\envs\\ml\\lib\\site-packages\\keras\\optimizer_v2\\gradient_descent.py:102: UserWarning: The `lr` argument is deprecated, use `learning_rate` instead.\n",
      "  super(SGD, self).__init__(name, **kwargs)\n"
     ]
    }
   ],
   "source": [
    "optimizer = keras.optimizers.SGD(lr=0.001, momentum=0.9)\n",
    "model.compile(loss=\"mean_squared_error\", optimizer=optimizer)\n",
    "# optimizer = keras.optimizers.Adam(lr=0.1)\n",
    "# # model.compile(loss=\"mean_absolute_error\", optimizer=optimizer)\n",
    "# model.compile(loss=asymptoticLoss_fn, optimizer=optimizer)"
   ]
  },
  {
   "cell_type": "code",
   "execution_count": 24,
   "id": "c966ada4",
   "metadata": {
    "scrolled": true
   },
   "outputs": [
    {
     "name": "stdout",
     "output_type": "stream",
     "text": [
      "Epoch 1/100\n",
      "X.shape = (None, 1)\n",
      "gauss_grid.shape = (None, 5)\n",
      "X.shape = (None, 1)\n",
      "gauss_grid.shape = (None, 5)\n",
      "1/3 [=========>....................] - ETA: 0s - loss: 2150.1301X.shape = (None, 1)\n",
      "gauss_grid.shape = (None, 5)\n",
      "3/3 [==============================] - 0s 85ms/step - loss: 2467.9453 - val_loss: 1681.0574\n",
      "Epoch 2/100\n",
      "3/3 [==============================] - 0s 13ms/step - loss: 2321.2227 - val_loss: 1556.5188\n",
      "Epoch 3/100\n",
      "3/3 [==============================] - 0s 25ms/step - loss: 1952.8450 - val_loss: 1304.1344\n",
      "Epoch 4/100\n",
      "3/3 [==============================] - 0s 20ms/step - loss: 1303.5549 - val_loss: 1094.9978\n",
      "Epoch 5/100\n",
      "3/3 [==============================] - 0s 25ms/step - loss: 767.2487 - val_loss: 542.4618\n",
      "Epoch 6/100\n",
      "3/3 [==============================] - 0s 33ms/step - loss: 489.2598 - val_loss: 329.6086\n",
      "Epoch 7/100\n",
      "3/3 [==============================] - 0s 37ms/step - loss: 346.6108 - val_loss: 279.4994\n",
      "Epoch 8/100\n",
      "3/3 [==============================] - 0s 41ms/step - loss: 287.8585 - val_loss: 296.4814\n",
      "Epoch 9/100\n",
      "3/3 [==============================] - 0s 26ms/step - loss: 290.8900 - val_loss: 340.8305\n",
      "Epoch 10/100\n",
      "3/3 [==============================] - 0s 18ms/step - loss: 304.7834 - val_loss: 280.0679\n",
      "Epoch 11/100\n",
      "3/3 [==============================] - 0s 39ms/step - loss: 266.1983 - val_loss: 236.8193\n",
      "Epoch 12/100\n",
      "3/3 [==============================] - 0s 29ms/step - loss: 235.4158 - val_loss: 267.2733\n",
      "Epoch 13/100\n",
      "3/3 [==============================] - 0s 14ms/step - loss: 248.8106 - val_loss: 269.6491\n",
      "Epoch 14/100\n",
      "3/3 [==============================] - 0s 18ms/step - loss: 244.9261 - val_loss: 246.6997\n",
      "Epoch 15/100\n",
      "3/3 [==============================] - 0s 20ms/step - loss: 237.9013 - val_loss: 231.3188\n",
      "Epoch 16/100\n",
      "3/3 [==============================] - 0s 19ms/step - loss: 223.6490 - val_loss: 223.8600\n",
      "Epoch 17/100\n",
      "3/3 [==============================] - 0s 19ms/step - loss: 221.0611 - val_loss: 213.2614\n",
      "Epoch 18/100\n",
      "3/3 [==============================] - 0s 18ms/step - loss: 217.2700 - val_loss: 204.0617\n",
      "Epoch 19/100\n",
      "3/3 [==============================] - 0s 21ms/step - loss: 210.6712 - val_loss: 201.5261\n",
      "Epoch 20/100\n",
      "3/3 [==============================] - 0s 20ms/step - loss: 204.8948 - val_loss: 205.1962\n",
      "Epoch 21/100\n",
      "3/3 [==============================] - 0s 21ms/step - loss: 205.2301 - val_loss: 198.4561\n",
      "Epoch 22/100\n",
      "3/3 [==============================] - 0s 21ms/step - loss: 202.7791 - val_loss: 187.8762\n",
      "Epoch 23/100\n",
      "3/3 [==============================] - 0s 21ms/step - loss: 205.1122 - val_loss: 176.3459\n",
      "Epoch 24/100\n",
      "3/3 [==============================] - 0s 20ms/step - loss: 197.3335 - val_loss: 182.8800\n",
      "Epoch 25/100\n",
      "3/3 [==============================] - 0s 20ms/step - loss: 195.8056 - val_loss: 167.5802\n",
      "Epoch 26/100\n",
      "3/3 [==============================] - 0s 20ms/step - loss: 187.2718 - val_loss: 157.6723\n",
      "Epoch 27/100\n",
      "3/3 [==============================] - 0s 27ms/step - loss: 187.1449 - val_loss: 158.5410\n",
      "Epoch 28/100\n",
      "3/3 [==============================] - 0s 20ms/step - loss: 183.6700 - val_loss: 162.5865\n",
      "Epoch 29/100\n",
      "3/3 [==============================] - 0s 19ms/step - loss: 179.7180 - val_loss: 149.5681\n",
      "Epoch 30/100\n",
      "3/3 [==============================] - 0s 19ms/step - loss: 177.5202 - val_loss: 138.7365\n",
      "Epoch 31/100\n",
      "3/3 [==============================] - 0s 21ms/step - loss: 175.7998 - val_loss: 136.9326\n",
      "Epoch 32/100\n",
      "3/3 [==============================] - 0s 23ms/step - loss: 173.1197 - val_loss: 136.0442\n",
      "Epoch 33/100\n",
      "3/3 [==============================] - 0s 23ms/step - loss: 171.7302 - val_loss: 129.0310\n",
      "Epoch 34/100\n",
      "3/3 [==============================] - 0s 17ms/step - loss: 170.0688 - val_loss: 132.3902\n",
      "Epoch 35/100\n",
      "3/3 [==============================] - 0s 17ms/step - loss: 172.0942 - val_loss: 128.0467\n",
      "Epoch 36/100\n",
      "3/3 [==============================] - 0s 21ms/step - loss: 167.1615 - val_loss: 127.3029\n",
      "Epoch 37/100\n",
      "3/3 [==============================] - 0s 22ms/step - loss: 169.5743 - val_loss: 132.0618\n",
      "Epoch 38/100\n",
      "3/3 [==============================] - 0s 16ms/step - loss: 168.0906 - val_loss: 125.6795\n",
      "Epoch 39/100\n",
      "3/3 [==============================] - 0s 19ms/step - loss: 166.1680 - val_loss: 117.9334\n",
      "Epoch 40/100\n",
      "3/3 [==============================] - 0s 25ms/step - loss: 169.0480 - val_loss: 107.4082\n",
      "Epoch 41/100\n",
      "3/3 [==============================] - 0s 21ms/step - loss: 169.8012 - val_loss: 110.7528\n",
      "Epoch 42/100\n",
      "3/3 [==============================] - 0s 18ms/step - loss: 166.2040 - val_loss: 125.0140\n",
      "Epoch 43/100\n",
      "3/3 [==============================] - 0s 24ms/step - loss: 166.4773 - val_loss: 133.3306\n",
      "Epoch 44/100\n",
      "3/3 [==============================] - 0s 18ms/step - loss: 168.0622 - val_loss: 114.6984\n",
      "Epoch 45/100\n",
      "3/3 [==============================] - 0s 13ms/step - loss: 164.9686 - val_loss: 106.8009\n",
      "Epoch 46/100\n",
      "3/3 [==============================] - 0s 19ms/step - loss: 166.4349 - val_loss: 107.9802\n",
      "Epoch 47/100\n",
      "3/3 [==============================] - 0s 22ms/step - loss: 163.6099 - val_loss: 117.9588\n",
      "Epoch 48/100\n",
      "3/3 [==============================] - 0s 22ms/step - loss: 163.5223 - val_loss: 120.2349\n",
      "Epoch 49/100\n",
      "3/3 [==============================] - 0s 23ms/step - loss: 164.2253 - val_loss: 116.4048\n",
      "Epoch 50/100\n",
      "3/3 [==============================] - 0s 24ms/step - loss: 163.2975 - val_loss: 106.8847\n",
      "Epoch 51/100\n",
      "3/3 [==============================] - 0s 22ms/step - loss: 165.0160 - val_loss: 101.6625\n",
      "Epoch 52/100\n",
      "3/3 [==============================] - 0s 26ms/step - loss: 165.3335 - val_loss: 108.6745\n",
      "Epoch 53/100\n",
      "3/3 [==============================] - 0s 17ms/step - loss: 165.3477 - val_loss: 113.3317\n",
      "Epoch 54/100\n",
      "3/3 [==============================] - 0s 19ms/step - loss: 163.0146 - val_loss: 115.4140\n",
      "Epoch 55/100\n",
      "3/3 [==============================] - 0s 27ms/step - loss: 162.4973 - val_loss: 113.8769\n",
      "Epoch 56/100\n",
      "3/3 [==============================] - 0s 24ms/step - loss: 163.8837 - val_loss: 113.7449\n",
      "Epoch 57/100\n",
      "3/3 [==============================] - 0s 19ms/step - loss: 162.8099 - val_loss: 122.6779\n",
      "Epoch 58/100\n",
      "3/3 [==============================] - 0s 22ms/step - loss: 168.9068 - val_loss: 129.1052\n",
      "Epoch 59/100\n",
      "3/3 [==============================] - 0s 19ms/step - loss: 165.5704 - val_loss: 114.9919\n",
      "Epoch 60/100\n",
      "3/3 [==============================] - 0s 21ms/step - loss: 165.6987 - val_loss: 111.0499\n",
      "Epoch 61/100\n",
      "3/3 [==============================] - 0s 21ms/step - loss: 161.3574 - val_loss: 119.5403\n",
      "Epoch 62/100\n",
      "3/3 [==============================] - 0s 23ms/step - loss: 167.9521 - val_loss: 125.8315\n",
      "Epoch 63/100\n",
      "3/3 [==============================] - 0s 18ms/step - loss: 165.0298 - val_loss: 107.3472\n",
      "Epoch 64/100\n",
      "3/3 [==============================] - 0s 16ms/step - loss: 162.8004 - val_loss: 105.1050\n",
      "Epoch 65/100\n",
      "3/3 [==============================] - 0s 20ms/step - loss: 165.9375 - val_loss: 105.6476\n",
      "Epoch 66/100\n",
      "3/3 [==============================] - 0s 19ms/step - loss: 161.4602 - val_loss: 122.2204\n",
      "Epoch 67/100\n",
      "3/3 [==============================] - 0s 26ms/step - loss: 161.0848 - val_loss: 129.4540\n",
      "Epoch 68/100\n",
      "3/3 [==============================] - 0s 23ms/step - loss: 162.3962 - val_loss: 130.1626\n",
      "Epoch 69/100\n",
      "3/3 [==============================] - 0s 18ms/step - loss: 161.3272 - val_loss: 122.0635\n",
      "Epoch 70/100\n",
      "3/3 [==============================] - 0s 20ms/step - loss: 161.0281 - val_loss: 109.6283\n",
      "Epoch 71/100\n",
      "3/3 [==============================] - 0s 22ms/step - loss: 161.0793 - val_loss: 108.0938\n",
      "Epoch 72/100\n",
      "3/3 [==============================] - 0s 22ms/step - loss: 169.9426 - val_loss: 109.4185\n",
      "Epoch 73/100\n",
      "3/3 [==============================] - 0s 19ms/step - loss: 160.7599 - val_loss: 127.4384\n",
      "Epoch 74/100\n",
      "3/3 [==============================] - 0s 21ms/step - loss: 161.4692 - val_loss: 134.7210\n",
      "Epoch 75/100\n",
      "3/3 [==============================] - 0s 19ms/step - loss: 161.6944 - val_loss: 127.7268\n",
      "Epoch 76/100\n",
      "3/3 [==============================] - 0s 18ms/step - loss: 160.3851 - val_loss: 114.0239\n",
      "Epoch 77/100\n",
      "3/3 [==============================] - 0s 17ms/step - loss: 157.9630 - val_loss: 106.3025\n",
      "Epoch 78/100\n"
     ]
    },
    {
     "name": "stdout",
     "output_type": "stream",
     "text": [
      "3/3 [==============================] - 0s 21ms/step - loss: 164.4066 - val_loss: 103.2507\n",
      "Epoch 79/100\n",
      "3/3 [==============================] - 0s 22ms/step - loss: 158.4134 - val_loss: 122.1868\n",
      "Epoch 80/100\n",
      "3/3 [==============================] - 0s 20ms/step - loss: 167.8121 - val_loss: 152.7249\n",
      "Epoch 81/100\n",
      "3/3 [==============================] - 0s 21ms/step - loss: 164.5958 - val_loss: 126.1457\n",
      "Epoch 82/100\n",
      "3/3 [==============================] - 0s 19ms/step - loss: 157.3090 - val_loss: 105.9210\n",
      "Epoch 83/100\n",
      "3/3 [==============================] - 0s 23ms/step - loss: 170.5236 - val_loss: 101.4137\n",
      "Epoch 84/100\n",
      "3/3 [==============================] - 0s 22ms/step - loss: 160.1342 - val_loss: 120.6786\n",
      "Epoch 85/100\n",
      "3/3 [==============================] - 0s 20ms/step - loss: 159.7647 - val_loss: 127.9970\n",
      "Epoch 86/100\n",
      "3/3 [==============================] - 0s 20ms/step - loss: 156.9070 - val_loss: 128.2178\n",
      "Epoch 87/100\n",
      "3/3 [==============================] - 0s 26ms/step - loss: 166.8302 - val_loss: 127.6981\n",
      "Epoch 88/100\n",
      "3/3 [==============================] - 0s 24ms/step - loss: 161.5771 - val_loss: 120.8654\n",
      "Epoch 89/100\n",
      "3/3 [==============================] - 0s 21ms/step - loss: 156.5282 - val_loss: 110.5767\n",
      "Epoch 90/100\n",
      "3/3 [==============================] - 0s 25ms/step - loss: 163.5278 - val_loss: 96.7115\n",
      "Epoch 91/100\n",
      "3/3 [==============================] - 0s 19ms/step - loss: 164.2659 - val_loss: 103.6889\n",
      "Epoch 92/100\n",
      "3/3 [==============================] - 0s 22ms/step - loss: 162.8168 - val_loss: 107.0203\n",
      "Epoch 93/100\n",
      "3/3 [==============================] - 0s 21ms/step - loss: 155.7782 - val_loss: 110.6223\n",
      "Epoch 94/100\n",
      "3/3 [==============================] - 0s 24ms/step - loss: 156.1614 - val_loss: 113.6274\n",
      "Epoch 95/100\n",
      "3/3 [==============================] - 0s 22ms/step - loss: 157.7571 - val_loss: 116.5893\n",
      "Epoch 96/100\n",
      "3/3 [==============================] - 0s 21ms/step - loss: 158.0969 - val_loss: 111.7527\n",
      "Epoch 97/100\n",
      "3/3 [==============================] - 0s 21ms/step - loss: 155.0517 - val_loss: 125.1211\n",
      "Epoch 98/100\n",
      "3/3 [==============================] - 0s 19ms/step - loss: 155.1992 - val_loss: 126.5585\n",
      "Epoch 99/100\n",
      "3/3 [==============================] - 0s 19ms/step - loss: 157.4964 - val_loss: 121.5469\n",
      "Epoch 100/100\n",
      "3/3 [==============================] - 0s 17ms/step - loss: 152.3456 - val_loss: 107.7374\n"
     ]
    }
   ],
   "source": [
    "history = model.fit(X_train, y_train, epochs=100,\n",
    "                    validation_data=(X_valid, y_valid))"
   ]
  },
  {
   "cell_type": "code",
   "execution_count": 25,
   "id": "4d550f88",
   "metadata": {},
   "outputs": [
    {
     "name": "stdout",
     "output_type": "stream",
     "text": [
      "Saving figure grid_num_training_curve\n"
     ]
    },
    {
     "data": {
      "image/png": "[encoded data removed]",
      "text/plain": [
       "<Figure size 576x360 with 1 Axes>"
      ]
     },
     "metadata": {
      "needs_background": "light"
     },
     "output_type": "display_data"
    }
   ],
   "source": [
    "import pandas as pd\n",
    "\n",
    "pd.DataFrame(history.history).plot(figsize=(8, 5))\n",
    "plt.grid(True)\n",
    "# plt.gca().set_ylim(0, 1)\n",
    "save_fig(\"grid_num_training_curve\")\n",
    "plt.show()"
   ]
  },
  {
   "cell_type": "code",
   "execution_count": 26,
   "id": "5487653c",
   "metadata": {},
   "outputs": [
    {
     "name": "stdout",
     "output_type": "stream",
     "text": [
      "X.shape = (None, 1)\n",
      "gauss_grid.shape = (None, 5)\n",
      "Saving figure grid_num_prediction\n"
     ]
    },
    {
     "data": {
      "image/png": "[encoded data removed]",
      "text/plain": [
       "<Figure size 432x288 with 1 Axes>"
      ]
     },
     "metadata": {
      "needs_background": "light"
     },
     "output_type": "display_data"
    }
   ],
   "source": [
    "# X_new = np.linspace(-5, 5, 100).reshape(100, 1)\n",
    "# y_new = model.predict(X_new)\n",
    "#\n",
    "# plt.plot(X_train, y_train, \"b.\")\n",
    "draw_points(X_train, y_train, sid_train)\n",
    "# plt.plot(X_new, y_new, \"r-\", linewidth=2, label=\"Predictions\")\n",
    "draw_func(model.predict, mark='r-', linewidth=2, label=\"Predictions\")\n",
    "draw_normal_func(func_dict)\n",
    "plt.xlabel(\"$x_1$\", fontsize=18)\n",
    "plt.ylabel(\"$y$\", rotation=0, fontsize=18)\n",
    "plt.legend(loc=\"upper left\", fontsize=14)\n",
    "# plt.axis([-3, 3, 0, 10])\n",
    "save_fig(\"grid_num_prediction\")\n",
    "plt.show()"
   ]
  },
  {
   "cell_type": "code",
   "execution_count": 27,
   "id": "f9c053a4",
   "metadata": {},
   "outputs": [
    {
     "name": "stdout",
     "output_type": "stream",
     "text": [
      "y_func.shape = (100, 1)\n",
      "y_gt.shape = (100, 1)\n"
     ]
    },
    {
     "data": {
      "text/plain": [
       "4.36596015476068"
      ]
     },
     "execution_count": 27,
     "metadata": {},
     "output_type": "execute_result"
    }
   ],
   "source": [
    "get_prediction_error(model.predict, func_dict, name=\"grid-num\")"
   ]
  },
  {
   "cell_type": "markdown",
   "id": "fe65d614",
   "metadata": {},
   "source": [
    "# Grid & Regression by Classification (grid --> grid)"
   ]
  },
  {
   "cell_type": "code",
   "execution_count": 28,
   "id": "3d35615e",
   "metadata": {},
   "outputs": [],
   "source": [
    "class num2grid_np():\n",
    "    def __init__(self, units, x_min=-10, x_max=10, sigma=1.0):\n",
    "        self.units = units\n",
    "        self.x_min = x_min\n",
    "        self.x_max = x_max\n",
    "        self.sigma = sigma\n",
    "        self.sigma2 = self.sigma**2\n",
    "        self.x_grid = np.linspace(self.x_min, self.x_max, self.units, endpoint=True)\n",
    "        print(\"self.x_grid = %s\" % str(self.x_grid))\n",
    "        \n",
    "    def convert(self, X):\n",
    "        gauss_grid = np.exp( -(self.x_grid - X)**2 / (2.0*self.sigma2) )\n",
    "#         if len(gauss_grid.shape) == 1:\n",
    "#             gauss_grid = gauss_grid.reshape([1,-1])\n",
    "#         grid_sum = np.sum(gauss_grid, axis=1, keepdims=True)\n",
    "        grid_sum = np.sum(gauss_grid, axis=-1, keepdims=True)\n",
    "        gauss_grid = gauss_grid / grid_sum\n",
    "        return gauss_grid\n",
    "    \n",
    "    def inv_convert(self, grid):\n",
    "#         if len(grid.shape) == 1:\n",
    "#             grid = grid.reshape([1,-1])\n",
    "#         grid_sum = np.sum(grid, axis=1)\n",
    "        grid_sum = np.sum(grid, axis=-1)\n",
    "#         print(grid_sum)\n",
    "        exp_num = np.sum((self.x_grid * grid), axis=-1) / grid_sum # element-wise\n",
    "        return exp_num\n",
    "    \n",
    "    def get_statistic(self, grid):\n",
    "        grid_sum = np.sum(grid, axis=-1)\n",
    "        _mean = np.sum((self.x_grid * grid), axis=-1) / grid_sum # element-wise\n",
    "        _var  = np.sum( ((self.x_grid.reshape((1,-1)) - _mean.reshape((-1,1)))**2 * grid), axis=-1) / grid_sum # element-wise\n",
    "        # print(\"(_mean, _var) = (%f, %f)\" % (_mean, _var))\n",
    "        _stddev = np.sqrt(_var)\n",
    "        return _mean, _stddev"
   ]
  },
  {
   "cell_type": "code",
   "execution_count": 29,
   "id": "4903180b",
   "metadata": {},
   "outputs": [
    {
     "name": "stdout",
     "output_type": "stream",
     "text": [
      "self.x_grid = [-100.          -95.91836735  -91.83673469  -87.75510204  -83.67346939\n",
      "  -79.59183673  -75.51020408  -71.42857143  -67.34693878  -63.26530612\n",
      "  -59.18367347  -55.10204082  -51.02040816  -46.93877551  -42.85714286\n",
      "  -38.7755102   -34.69387755  -30.6122449   -26.53061224  -22.44897959\n",
      "  -18.36734694  -14.28571429  -10.20408163   -6.12244898   -2.04081633\n",
      "    2.04081633    6.12244898   10.20408163   14.28571429   18.36734694\n",
      "   22.44897959   26.53061224   30.6122449    34.69387755   38.7755102\n",
      "   42.85714286   46.93877551   51.02040816   55.10204082   59.18367347\n",
      "   63.26530612   67.34693878   71.42857143   75.51020408   79.59183673\n",
      "   83.67346939   87.75510204   91.83673469   95.91836735  100.        ]\n"
     ]
    }
   ],
   "source": [
    "# class_num = 10 # 10\n",
    "# n2g = num2grid_np(class_num, x_min=-100.0, x_max=100.0, sigma=20.0) # 20.0\n",
    "# class_num = 20\n",
    "# n2g = num2grid_np(class_num, x_min=-100.0, x_max=100.0, sigma=15.0) # 20.0\n",
    "class_num = 50\n",
    "n2g = num2grid_np(class_num, x_min=-100.0, x_max=100.0, sigma=6.0) # 5.0 "
   ]
  },
  {
   "cell_type": "code",
   "execution_count": 30,
   "id": "dce05258",
   "metadata": {},
   "outputs": [
    {
     "name": "stdout",
     "output_type": "stream",
     "text": [
      "[[3.57995092e-60 2.08100846e-55 7.61538914e-51 1.75441300e-46\n",
      "  2.54444491e-42 2.32314196e-38 1.33530332e-34 4.83176258e-31\n",
      "  1.10065884e-27 1.57841554e-24 1.42498879e-21 8.09884396e-19\n",
      "  2.89771784e-16 6.52695532e-14 9.25521826e-12 8.26198061e-10\n",
      "  4.64304784e-08 1.64264466e-06 3.65852120e-05 5.12966502e-04\n",
      "  4.52786966e-03 2.51605603e-02 8.80173281e-02 1.93837381e-01\n",
      "  2.68737559e-01 2.34552834e-01 1.28876722e-01 4.45789421e-02\n",
      "  9.70748025e-03 1.33077537e-03 1.14848275e-04 6.23972825e-06\n",
      "  2.13416679e-07 4.59528573e-09 6.22899760e-11 5.31551427e-13\n",
      "  2.85557712e-15 9.65748361e-18 2.05615356e-20 2.75593262e-23\n",
      "  2.32542921e-26 1.23526215e-29 4.13082337e-33 8.69632169e-37\n",
      "  1.15254011e-40 9.61607812e-45 5.05081425e-49 1.67011468e-53\n",
      "  3.47658354e-58 4.55596654e-63]]\n"
     ]
    }
   ],
   "source": [
    "# grid_1 = n2g.convert(-1.2)\n",
    "grid_1 = n2g.convert([[-1.2]])\n",
    "print(grid_1)"
   ]
  },
  {
   "cell_type": "code",
   "execution_count": 31,
   "id": "48203fe2",
   "metadata": {},
   "outputs": [
    {
     "data": {
      "text/plain": [
       "array([-1.2])"
      ]
     },
     "execution_count": 31,
     "metadata": {},
     "output_type": "execute_result"
    }
   ],
   "source": [
    "n2g.inv_convert(grid_1)"
   ]
  },
  {
   "cell_type": "code",
   "execution_count": 32,
   "id": "a741b6d1",
   "metadata": {},
   "outputs": [
    {
     "data": {
      "text/plain": [
       "(array([-1.2]), array([6.]))"
      ]
     },
     "execution_count": 32,
     "metadata": {},
     "output_type": "execute_result"
    }
   ],
   "source": [
    "n2g.get_statistic(grid_1)"
   ]
  },
  {
   "cell_type": "markdown",
   "id": "bdc0b9a0",
   "metadata": {},
   "source": [
    "### Convert the labels to grid (pre-processing)"
   ]
  },
  {
   "cell_type": "code",
   "execution_count": 33,
   "id": "39c7fa96",
   "metadata": {},
   "outputs": [],
   "source": [
    "y_train_grid = n2g.convert(y_train)\n",
    "y_valid_grid = n2g.convert(y_valid)"
   ]
  },
  {
   "cell_type": "code",
   "execution_count": 34,
   "id": "f577a751",
   "metadata": {},
   "outputs": [
    {
     "name": "stdout",
     "output_type": "stream",
     "text": [
      "(80, 50)\n",
      "(20, 50)\n"
     ]
    }
   ],
   "source": [
    "print(y_train_grid.shape)\n",
    "print(y_valid_grid.shape)"
   ]
  },
  {
   "cell_type": "code",
   "execution_count": 35,
   "id": "71610af1",
   "metadata": {},
   "outputs": [
    {
     "name": "stdout",
     "output_type": "stream",
     "text": [
      "X.shape = (None, 1)\n",
      "gauss_grid.shape = (None, 5)\n"
     ]
    },
    {
     "name": "stderr",
     "output_type": "stream",
     "text": [
      "C:\\Users\\benso\\anaconda3\\envs\\ml\\lib\\site-packages\\keras\\optimizer_v2\\gradient_descent.py:102: UserWarning: The `lr` argument is deprecated, use `learning_rate` instead.\n",
      "  super(SGD, self).__init__(name, **kwargs)\n"
     ]
    }
   ],
   "source": [
    "model = keras.models.Sequential([\n",
    "#     keras.layers.Dense(30, activation=\"relu\", input_shape=X_train.shape[1:]),\n",
    "    num2grid(5,x_min=-10, x_max=10, sigma=3.0, input_shape=X_train.shape[1:]),\n",
    "    keras.layers.Dense(30, activation=\"relu\"),\n",
    "#     keras.layers.Dense(100, activation=\"relu\", kernel_regularizer=tf.keras.regularizers.l1(0.01)),\n",
    "    keras.layers.Dense(class_num, activation=\"softmax\"),\n",
    "])\n",
    "\n",
    "optimizer = keras.optimizers.SGD(lr=0.2, momentum=0.9)\n",
    "model.compile(loss=\"categorical_crossentropy\", optimizer=optimizer)"
   ]
  },
  {
   "cell_type": "code",
   "execution_count": 36,
   "id": "e2244aee",
   "metadata": {
    "scrolled": true
   },
   "outputs": [
    {
     "name": "stdout",
     "output_type": "stream",
     "text": [
      "Epoch 1/100\n",
      "X.shape = (None, 1)\n",
      "gauss_grid.shape = (None, 5)\n",
      "X.shape = (None, 1)\n",
      "gauss_grid.shape = (None, 5)\n",
      "1/3 [=========>....................] - ETA: 1s - loss: 3.9124X.shape = (None, 1)\n",
      "gauss_grid.shape = (None, 5)\n",
      "3/3 [==============================] - 1s 84ms/step - loss: 3.9150 - val_loss: 3.8433\n",
      "Epoch 2/100\n",
      "3/3 [==============================] - 0s 16ms/step - loss: 3.8734 - val_loss: 3.8032\n",
      "Epoch 3/100\n",
      "3/3 [==============================] - 0s 29ms/step - loss: 3.8107 - val_loss: 3.7544\n",
      "Epoch 4/100\n",
      "3/3 [==============================] - 0s 41ms/step - loss: 3.7349 - val_loss: 3.6986\n",
      "Epoch 5/100\n",
      "3/3 [==============================] - 0s 31ms/step - loss: 3.6495 - val_loss: 3.6393\n",
      "Epoch 6/100\n",
      "3/3 [==============================] - 0s 33ms/step - loss: 3.5586 - val_loss: 3.5934\n",
      "Epoch 7/100\n",
      "3/3 [==============================] - 0s 36ms/step - loss: 3.4506 - val_loss: 3.5322\n",
      "Epoch 8/100\n",
      "3/3 [==============================] - 0s 52ms/step - loss: 3.3470 - val_loss: 3.4380\n",
      "Epoch 9/100\n",
      "3/3 [==============================] - 0s 16ms/step - loss: 3.2524 - val_loss: 3.3286\n",
      "Epoch 10/100\n",
      "3/3 [==============================] - 0s 26ms/step - loss: 3.1849 - val_loss: 3.2400\n",
      "Epoch 11/100\n",
      "3/3 [==============================] - 0s 40ms/step - loss: 3.1263 - val_loss: 3.1717\n",
      "Epoch 12/100\n",
      "3/3 [==============================] - 0s 20ms/step - loss: 3.0689 - val_loss: 3.1353\n",
      "Epoch 13/100\n",
      "3/3 [==============================] - 0s 18ms/step - loss: 3.0323 - val_loss: 3.1020\n",
      "Epoch 14/100\n",
      "3/3 [==============================] - 0s 19ms/step - loss: 3.0074 - val_loss: 3.0255\n",
      "Epoch 15/100\n",
      "3/3 [==============================] - 0s 23ms/step - loss: 2.9775 - val_loss: 3.0079\n",
      "Epoch 16/100\n",
      "3/3 [==============================] - 0s 28ms/step - loss: 2.9511 - val_loss: 3.0197\n",
      "Epoch 17/100\n",
      "3/3 [==============================] - 0s 21ms/step - loss: 2.9286 - val_loss: 3.0517\n",
      "Epoch 18/100\n",
      "3/3 [==============================] - 0s 24ms/step - loss: 2.8923 - val_loss: 3.0482\n",
      "Epoch 19/100\n",
      "3/3 [==============================] - 0s 25ms/step - loss: 2.8738 - val_loss: 3.0415\n",
      "Epoch 20/100\n",
      "3/3 [==============================] - 0s 13ms/step - loss: 2.8407 - val_loss: 3.0213\n",
      "Epoch 21/100\n",
      "3/3 [==============================] - 0s 19ms/step - loss: 2.8164 - val_loss: 2.9759\n",
      "Epoch 22/100\n",
      "3/3 [==============================] - 0s 21ms/step - loss: 2.7880 - val_loss: 2.9413\n",
      "Epoch 23/100\n",
      "3/3 [==============================] - 0s 24ms/step - loss: 2.7641 - val_loss: 2.9194\n",
      "Epoch 24/100\n",
      "3/3 [==============================] - 0s 18ms/step - loss: 2.7538 - val_loss: 2.8993\n",
      "Epoch 25/100\n",
      "3/3 [==============================] - 0s 31ms/step - loss: 2.7301 - val_loss: 2.9206\n",
      "Epoch 26/100\n",
      "3/3 [==============================] - ETA: 0s - loss: 2.659 - 0s 21ms/step - loss: 2.7222 - val_loss: 2.9268\n",
      "Epoch 27/100\n",
      "3/3 [==============================] - 0s 18ms/step - loss: 2.6958 - val_loss: 2.8966\n",
      "Epoch 28/100\n",
      "3/3 [==============================] - 0s 20ms/step - loss: 2.6820 - val_loss: 2.9053\n",
      "Epoch 29/100\n",
      "3/3 [==============================] - 0s 25ms/step - loss: 2.6610 - val_loss: 2.8492\n",
      "Epoch 30/100\n",
      "3/3 [==============================] - 0s 25ms/step - loss: 2.6434 - val_loss: 2.8100\n",
      "Epoch 31/100\n",
      "3/3 [==============================] - 0s 22ms/step - loss: 2.6359 - val_loss: 2.8152\n",
      "Epoch 32/100\n",
      "3/3 [==============================] - 0s 19ms/step - loss: 2.6256 - val_loss: 2.8344\n",
      "Epoch 33/100\n",
      "3/3 [==============================] - 0s 24ms/step - loss: 2.6196 - val_loss: 2.8716\n",
      "Epoch 34/100\n",
      "3/3 [==============================] - 0s 22ms/step - loss: 2.6181 - val_loss: 2.8494\n",
      "Epoch 35/100\n",
      "3/3 [==============================] - 0s 20ms/step - loss: 2.5939 - val_loss: 2.7574\n",
      "Epoch 36/100\n",
      "3/3 [==============================] - 0s 19ms/step - loss: 2.5982 - val_loss: 2.7453\n",
      "Epoch 37/100\n",
      "3/3 [==============================] - 0s 16ms/step - loss: 2.5749 - val_loss: 2.8283\n",
      "Epoch 38/100\n",
      "3/3 [==============================] - 0s 20ms/step - loss: 2.5733 - val_loss: 2.8198\n",
      "Epoch 39/100\n",
      "3/3 [==============================] - 0s 19ms/step - loss: 2.5645 - val_loss: 2.7288\n",
      "Epoch 40/100\n",
      "3/3 [==============================] - 0s 16ms/step - loss: 2.5499 - val_loss: 2.6705\n",
      "Epoch 41/100\n",
      "3/3 [==============================] - 0s 21ms/step - loss: 2.5412 - val_loss: 2.6646\n",
      "Epoch 42/100\n",
      "3/3 [==============================] - 0s 22ms/step - loss: 2.5461 - val_loss: 2.7010\n",
      "Epoch 43/100\n",
      "3/3 [==============================] - 0s 24ms/step - loss: 2.5363 - val_loss: 2.6763\n",
      "Epoch 44/100\n",
      "3/3 [==============================] - 0s 21ms/step - loss: 2.5348 - val_loss: 2.7187\n",
      "Epoch 45/100\n",
      "3/3 [==============================] - 0s 25ms/step - loss: 2.5222 - val_loss: 2.7405\n",
      "Epoch 46/100\n",
      "3/3 [==============================] - 0s 20ms/step - loss: 2.5099 - val_loss: 2.7348\n",
      "Epoch 47/100\n",
      "3/3 [==============================] - 0s 18ms/step - loss: 2.5185 - val_loss: 2.6819\n",
      "Epoch 48/100\n",
      "3/3 [==============================] - 0s 16ms/step - loss: 2.5126 - val_loss: 2.7074\n",
      "Epoch 49/100\n",
      "3/3 [==============================] - 0s 19ms/step - loss: 2.5043 - val_loss: 2.6983\n",
      "Epoch 50/100\n",
      "3/3 [==============================] - 0s 18ms/step - loss: 2.4899 - val_loss: 2.6314\n",
      "Epoch 51/100\n",
      "3/3 [==============================] - 0s 18ms/step - loss: 2.4879 - val_loss: 2.6446\n",
      "Epoch 52/100\n",
      "3/3 [==============================] - 0s 19ms/step - loss: 2.4833 - val_loss: 2.6590\n",
      "Epoch 53/100\n",
      "3/3 [==============================] - 0s 21ms/step - loss: 2.4830 - val_loss: 2.6724\n",
      "Epoch 54/100\n",
      "3/3 [==============================] - 0s 18ms/step - loss: 2.4661 - val_loss: 2.6648\n",
      "Epoch 55/100\n",
      "3/3 [==============================] - 0s 20ms/step - loss: 2.4710 - val_loss: 2.6627\n",
      "Epoch 56/100\n",
      "3/3 [==============================] - 0s 22ms/step - loss: 2.4687 - val_loss: 2.6178\n",
      "Epoch 57/100\n",
      "3/3 [==============================] - 0s 22ms/step - loss: 2.4777 - val_loss: 2.6174\n",
      "Epoch 58/100\n",
      "3/3 [==============================] - 0s 22ms/step - loss: 2.4645 - val_loss: 2.6804\n",
      "Epoch 59/100\n",
      "3/3 [==============================] - 0s 26ms/step - loss: 2.4563 - val_loss: 2.6901\n",
      "Epoch 60/100\n",
      "3/3 [==============================] - 0s 21ms/step - loss: 2.4593 - val_loss: 2.6629\n",
      "Epoch 61/100\n",
      "3/3 [==============================] - 0s 20ms/step - loss: 2.4519 - val_loss: 2.6058\n",
      "Epoch 62/100\n",
      "3/3 [==============================] - 0s 21ms/step - loss: 2.4487 - val_loss: 2.5747\n",
      "Epoch 63/100\n",
      "3/3 [==============================] - 0s 28ms/step - loss: 2.4578 - val_loss: 2.6214\n",
      "Epoch 64/100\n",
      "3/3 [==============================] - 0s 30ms/step - loss: 2.4463 - val_loss: 2.6679\n",
      "Epoch 65/100\n",
      "3/3 [==============================] - 0s 23ms/step - loss: 2.4469 - val_loss: 2.7091\n",
      "Epoch 66/100\n",
      "3/3 [==============================] - 0s 22ms/step - loss: 2.4473 - val_loss: 2.6028\n",
      "Epoch 67/100\n",
      "3/3 [==============================] - 0s 19ms/step - loss: 2.4338 - val_loss: 2.5700\n",
      "Epoch 68/100\n",
      "3/3 [==============================] - 0s 17ms/step - loss: 2.4495 - val_loss: 2.6280\n",
      "Epoch 69/100\n",
      "3/3 [==============================] - 0s 20ms/step - loss: 2.4402 - val_loss: 2.5889\n",
      "Epoch 70/100\n",
      "3/3 [==============================] - 0s 18ms/step - loss: 2.4260 - val_loss: 2.6125\n",
      "Epoch 71/100\n",
      "3/3 [==============================] - 0s 19ms/step - loss: 2.4252 - val_loss: 2.6560\n",
      "Epoch 72/100\n",
      "3/3 [==============================] - 0s 18ms/step - loss: 2.4342 - val_loss: 2.6399\n",
      "Epoch 73/100\n",
      "3/3 [==============================] - 0s 19ms/step - loss: 2.4270 - val_loss: 2.6235\n",
      "Epoch 74/100\n",
      "3/3 [==============================] - 0s 19ms/step - loss: 2.4226 - val_loss: 2.5887\n",
      "Epoch 75/100\n",
      "3/3 [==============================] - 0s 19ms/step - loss: 2.4356 - val_loss: 2.5247\n",
      "Epoch 76/100\n",
      "3/3 [==============================] - 0s 22ms/step - loss: 2.4363 - val_loss: 2.5333\n",
      "Epoch 77/100\n",
      "3/3 [==============================] - 0s 18ms/step - loss: 2.4133 - val_loss: 2.6331\n",
      "Epoch 78/100\n",
      "3/3 [==============================] - 0s 18ms/step - loss: 2.4215 - val_loss: 2.6195\n",
      "Epoch 79/100\n",
      "3/3 [==============================] - 0s 22ms/step - loss: 2.4074 - val_loss: 2.5799\n",
      "Epoch 80/100\n",
      "3/3 [==============================] - 0s 23ms/step - loss: 2.4169 - val_loss: 2.5817\n",
      "Epoch 81/100\n"
     ]
    },
    {
     "name": "stdout",
     "output_type": "stream",
     "text": [
      "3/3 [==============================] - 0s 24ms/step - loss: 2.4042 - val_loss: 2.6788\n",
      "Epoch 82/100\n",
      "3/3 [==============================] - 0s 18ms/step - loss: 2.4142 - val_loss: 2.6798\n",
      "Epoch 83/100\n",
      "3/3 [==============================] - 0s 22ms/step - loss: 2.4094 - val_loss: 2.5661\n",
      "Epoch 84/100\n",
      "3/3 [==============================] - 0s 33ms/step - loss: 2.4111 - val_loss: 2.4888\n",
      "Epoch 85/100\n",
      "3/3 [==============================] - 0s 25ms/step - loss: 2.4165 - val_loss: 2.5217\n",
      "Epoch 86/100\n",
      "3/3 [==============================] - 0s 27ms/step - loss: 2.4152 - val_loss: 2.5972\n",
      "Epoch 87/100\n",
      "3/3 [==============================] - 0s 23ms/step - loss: 2.3952 - val_loss: 2.6915\n",
      "Epoch 88/100\n",
      "3/3 [==============================] - 0s 24ms/step - loss: 2.4137 - val_loss: 2.6885\n",
      "Epoch 89/100\n",
      "3/3 [==============================] - 0s 22ms/step - loss: 2.3984 - val_loss: 2.5871\n",
      "Epoch 90/100\n",
      "3/3 [==============================] - 0s 15ms/step - loss: 2.3981 - val_loss: 2.5192\n",
      "Epoch 91/100\n",
      "3/3 [==============================] - 0s 17ms/step - loss: 2.4069 - val_loss: 2.5800\n",
      "Epoch 92/100\n",
      "3/3 [==============================] - 0s 20ms/step - loss: 2.4003 - val_loss: 2.5663\n",
      "Epoch 93/100\n",
      "3/3 [==============================] - 0s 22ms/step - loss: 2.3905 - val_loss: 2.5308\n",
      "Epoch 94/100\n",
      "3/3 [==============================] - 0s 20ms/step - loss: 2.3951 - val_loss: 2.5652\n",
      "Epoch 95/100\n",
      "3/3 [==============================] - 0s 22ms/step - loss: 2.3915 - val_loss: 2.5887\n",
      "Epoch 96/100\n",
      "3/3 [==============================] - 0s 21ms/step - loss: 2.3912 - val_loss: 2.5791\n",
      "Epoch 97/100\n",
      "3/3 [==============================] - 0s 22ms/step - loss: 2.4047 - val_loss: 2.5302\n",
      "Epoch 98/100\n",
      "3/3 [==============================] - 0s 20ms/step - loss: 2.3832 - val_loss: 2.5041\n",
      "Epoch 99/100\n",
      "3/3 [==============================] - 0s 14ms/step - loss: 2.4004 - val_loss: 2.5225\n",
      "Epoch 100/100\n",
      "3/3 [==============================] - 0s 16ms/step - loss: 2.3920 - val_loss: 2.4781\n"
     ]
    }
   ],
   "source": [
    "history = model.fit(X_train, y_train_grid, epochs=100,\n",
    "                    validation_data=(X_valid, y_valid_grid))"
   ]
  },
  {
   "cell_type": "code",
   "execution_count": 37,
   "id": "390834c9",
   "metadata": {},
   "outputs": [
    {
     "name": "stdout",
     "output_type": "stream",
     "text": [
      "Saving figure grid_rbc_training_curve\n"
     ]
    },
    {
     "data": {
      "image/png": "[encoded data removed]",
      "text/plain": [
       "<Figure size 576x360 with 1 Axes>"
      ]
     },
     "metadata": {
      "needs_background": "light"
     },
     "output_type": "display_data"
    }
   ],
   "source": [
    "import pandas as pd\n",
    "\n",
    "pd.DataFrame(history.history).plot(figsize=(8, 5))\n",
    "plt.grid(True)\n",
    "# plt.gca().set_ylim(0, 1)\n",
    "save_fig(\"grid_rbc_training_curve\")\n",
    "plt.show()"
   ]
  },
  {
   "cell_type": "code",
   "execution_count": 38,
   "id": "6fba3b6a",
   "metadata": {},
   "outputs": [
    {
     "name": "stdout",
     "output_type": "stream",
     "text": [
      "X.shape = (None, 1)\n",
      "gauss_grid.shape = (None, 5)\n",
      "Saving figure grid_rbc_prediction\n"
     ]
    },
    {
     "data": {
      "image/png": "[encoded data removed]",
      "text/plain": [
       "<Figure size 432x288 with 1 Axes>"
      ]
     },
     "metadata": {
      "needs_background": "light"
     },
     "output_type": "display_data"
    }
   ],
   "source": [
    "# X_new = np.linspace(-5, 5, 100).reshape(100, 1)\n",
    "# y_new_proba = model.predict(X_new)\n",
    "# y_new = n2g.inv_convert(y_new_proba)\n",
    "#\n",
    "# plt.plot(X_train, y_train, \"b.\")\n",
    "draw_points(X_train, y_train, sid_train)\n",
    "# plt.plot(X_new, y_new, \"r-\", linewidth=2, label=\"Predictions\")\n",
    "draw_func((lambda X: n2g.inv_convert(model.predict(X)) ), mark='r-', linewidth=2, label=\"Predictions\")\n",
    "draw_normal_func(func_dict)\n",
    "plt.xlabel(\"$x_1$\", fontsize=18)\n",
    "plt.ylabel(\"$y$\", rotation=0, fontsize=18)\n",
    "plt.legend(loc=\"upper left\", fontsize=14)\n",
    "# plt.axis([-3, 3, 0, 10])\n",
    "save_fig(\"grid_rbc_prediction\")\n",
    "plt.show()"
   ]
  },
  {
   "cell_type": "code",
   "execution_count": 39,
   "id": "fc059ba5",
   "metadata": {},
   "outputs": [
    {
     "name": "stdout",
     "output_type": "stream",
     "text": [
      "y_func.shape = (100, 1)\n",
      "y_gt.shape = (100, 1)\n"
     ]
    },
    {
     "data": {
      "text/plain": [
       "5.455561639111974"
      ]
     },
     "execution_count": 39,
     "metadata": {},
     "output_type": "execute_result"
    }
   ],
   "source": [
    "get_prediction_error((lambda X: n2g.inv_convert(model.predict(X)) ), func_dict, name=\"grid-rbc\")"
   ]
  },
  {
   "cell_type": "code",
   "execution_count": 40,
   "id": "edcf26db",
   "metadata": {},
   "outputs": [
    {
     "name": "stdout",
     "output_type": "stream",
     "text": [
      "Saving figure grid_rbc_proba\n"
     ]
    },
    {
     "data": {
      "image/png": "[encoded data removed]",
      "text/plain": [
       "<Figure size 432x288 with 1 Axes>"
      ]
     },
     "metadata": {
      "needs_background": "light"
     },
     "output_type": "display_data"
    }
   ],
   "source": [
    "X_new = np.linspace(-5, 5, 100).reshape(100, 1)\n",
    "y_new_proba = model.predict(X_new)\n",
    "# y_new = n2g.inv_convert(y_new_proba)\n",
    "#\n",
    "xv, yv = np.meshgrid(X_new, np.linspace(n2g.x_min, n2g.x_max, n2g.units))\n",
    "# print(xv)\n",
    "# print(yv)\n",
    "plt.pcolormesh(xv, yv, y_new_proba.T, shading=\"nearest\")\n",
    "save_fig(\"grid_rbc_proba\")"
   ]
  },
  {
   "cell_type": "markdown",
   "id": "4064d3b5",
   "metadata": {},
   "source": [
    "### Draw the 1-sigma boundary line"
   ]
  },
  {
   "cell_type": "code",
   "execution_count": 41,
   "id": "247e8712",
   "metadata": {},
   "outputs": [
    {
     "name": "stdout",
     "output_type": "stream",
     "text": [
      "Saving figure grid_rbc_prediction_1sigma\n"
     ]
    },
    {
     "data": {
      "image/png": "[encoded data removed]",
      "text/plain": [
       "<Figure size 432x288 with 1 Axes>"
      ]
     },
     "metadata": {
      "needs_background": "light"
     },
     "output_type": "display_data"
    }
   ],
   "source": [
    "def n_sigma_boundary_line(X, n):\n",
    "    _mean, _sigma = n2g.get_statistic(model.predict(X))\n",
    "    return( _mean + n*_sigma)\n",
    "\n",
    "# plt.plot(X_train, y_train, \"b.\")\n",
    "draw_points(X_train, y_train, sid_train)\n",
    "#\n",
    "draw_func((lambda X: n2g.inv_convert(model.predict(X)) ), mark='r-', linewidth=2, label=\"Predictions\")\n",
    "draw_func((lambda X: n_sigma_boundary_line(X, +1.0) ), mark='k--', linewidth=1, label=\"$\\mu+\\sigma$\")\n",
    "draw_func((lambda X: n_sigma_boundary_line(X, -1.0) ), mark='k--', linewidth=1, label=\"$\\mu-\\sigma$\")\n",
    "#\n",
    "draw_normal_func(func_dict)\n",
    "plt.xlabel(\"$x_1$\", fontsize=18)\n",
    "plt.ylabel(\"$y$\", rotation=0, fontsize=18)\n",
    "plt.legend(loc=\"upper left\", fontsize=14)\n",
    "# plt.axis([-3, 3, 0, 10])\n",
    "save_fig(\"grid_rbc_prediction_1sigma\")\n",
    "plt.show()"
   ]
  },
  {
   "cell_type": "code",
   "execution_count": null,
   "id": "e6266336",
   "metadata": {},
   "outputs": [],
   "source": []
  },
  {
   "cell_type": "markdown",
   "id": "99a85ab5",
   "metadata": {},
   "source": [
    "# Grid & Regression by Classification + Offset Estimation (grid --> grid,num)"
   ]
  },
  {
   "cell_type": "code",
   "execution_count": 42,
   "id": "26440167",
   "metadata": {},
   "outputs": [],
   "source": [
    "class num2gridOffset_np():\n",
    "    def __init__(self, units, x_min=-10, x_max=10):\n",
    "        self.units = units\n",
    "        self.x_min = x_min\n",
    "        self.x_max = x_max\n",
    "        self.x_grid = np.linspace(self.x_min, self.x_max, self.units, endpoint=True)\n",
    "        # bins\n",
    "        x_space = np.average(self.x_grid[1:] - self.x_grid[:-1])\n",
    "        print(\"x_space = %f\" % x_space)\n",
    "        x_0 = self.x_grid[0] - 0.5 * x_space\n",
    "        self.x_bins = [x_0 + _i*x_space for _i in range(len(self.x_grid)+1)]\n",
    "        print(\"self.x_grid = %s\" % str(self.x_grid))\n",
    "#         print(\"self.x_bins = %s\" % str(self.x_bins))\n",
    "        \n",
    "    def convert(self, X):\n",
    "        '''\n",
    "        Convert a batch of number to one-hot class and numerical offset to each grid's center\n",
    "        (m, 1) --> (m, n_units, 2)\n",
    "        '''\n",
    "        X = np.array(X)\n",
    "        if len(X.shape) <= 1:\n",
    "            X = X.reshape((-1,1))\n",
    "        idxs_bin = np.digitize(X, self.x_bins, right=False) \n",
    "        idxs_grid = (idxs_bin - 1) + 1*(idxs_bin<= 0) - 1*(idxs_bin>=self.units)\n",
    "        print(idxs_grid.shape)\n",
    "        #\n",
    "        batch_size = X.shape[0]\n",
    "        grid = np.zeros((batch_size, self.units, 2))\n",
    "        # Fill in the values\n",
    "        grid[np.arange(batch_size), idxs_grid.reshape((-1,)), 0] = 1.0\n",
    "        grid[np.arange(batch_size), :, 1] = X - self.x_grid.reshape((1,-1)) # Offset\n",
    "        return grid\n",
    "    \n",
    "    def inv_convert(self, grid):\n",
    "        idxs_grid = np.argmax(grid[...,0], axis=1)\n",
    "        print(idxs_grid.shape)\n",
    "        #\n",
    "        batch_size = grid.shape[0]\n",
    "        offset_est = grid[np.arange(batch_size),idxs_grid,1]\n",
    "        print(offset_est.shape)\n",
    "        num_est = self.x_grid[idxs_grid].reshape((1,-1)) + offset_est\n",
    "        return num_est.reshape((-1,))"
   ]
  },
  {
   "cell_type": "code",
   "execution_count": 43,
   "id": "8b15e9ff",
   "metadata": {},
   "outputs": [
    {
     "name": "stdout",
     "output_type": "stream",
     "text": [
      "x_space = 22.222222\n",
      "self.x_grid = [-100.          -77.77777778  -55.55555556  -33.33333333  -11.11111111\n",
      "   11.11111111   33.33333333   55.55555556   77.77777778  100.        ]\n"
     ]
    }
   ],
   "source": [
    "class_num = 10 # 10\n",
    "n2go = num2gridOffset_np(class_num, x_min=-100.0, x_max=100.0) "
   ]
  },
  {
   "cell_type": "code",
   "execution_count": 44,
   "id": "8f6e7955",
   "metadata": {},
   "outputs": [
    {
     "name": "stdout",
     "output_type": "stream",
     "text": [
      "(2, 1)\n",
      "[[[   0.           98.8       ]\n",
      "  [   0.           76.57777778]\n",
      "  [   0.           54.35555556]\n",
      "  [   0.           32.13333333]\n",
      "  [   1.            9.91111111]\n",
      "  [   0.          -12.31111111]\n",
      "  [   0.          -34.53333333]\n",
      "  [   0.          -56.75555556]\n",
      "  [   0.          -78.97777778]\n",
      "  [   0.         -101.2       ]]\n",
      "\n",
      " [[   0.          150.5       ]\n",
      "  [   0.          128.27777778]\n",
      "  [   0.          106.05555556]\n",
      "  [   0.           83.83333333]\n",
      "  [   0.           61.61111111]\n",
      "  [   0.           39.38888889]\n",
      "  [   0.           17.16666667]\n",
      "  [   1.           -5.05555556]\n",
      "  [   0.          -27.27777778]\n",
      "  [   0.          -49.5       ]]]\n"
     ]
    }
   ],
   "source": [
    "# grid_1 = n2g.convert(-1.2)\n",
    "grid_1 = n2go.convert([[-1.2], [50.5]])\n",
    "print(grid_1)"
   ]
  },
  {
   "cell_type": "code",
   "execution_count": 45,
   "id": "48840dc5",
   "metadata": {},
   "outputs": [
    {
     "name": "stdout",
     "output_type": "stream",
     "text": [
      "(2,)\n",
      "(2,)\n"
     ]
    },
    {
     "data": {
      "text/plain": [
       "array([-1.2, 50.5])"
      ]
     },
     "execution_count": 45,
     "metadata": {},
     "output_type": "execute_result"
    }
   ],
   "source": [
    "n2go.inv_convert(grid_1)"
   ]
  },
  {
   "cell_type": "markdown",
   "id": "11683cea",
   "metadata": {},
   "source": [
    "### Convert the labels to grid (pre-processing)"
   ]
  },
  {
   "cell_type": "code",
   "execution_count": 46,
   "id": "472997cf",
   "metadata": {},
   "outputs": [
    {
     "name": "stdout",
     "output_type": "stream",
     "text": [
      "(80, 1)\n",
      "(20, 1)\n"
     ]
    }
   ],
   "source": [
    "y_train_grid_offset = n2go.convert(y_train)\n",
    "y_valid_grid_offset = n2go.convert(y_valid)"
   ]
  },
  {
   "cell_type": "code",
   "execution_count": 47,
   "id": "71f08d76",
   "metadata": {},
   "outputs": [
    {
     "name": "stdout",
     "output_type": "stream",
     "text": [
      "(80, 10, 2)\n",
      "(20, 10, 2)\n"
     ]
    }
   ],
   "source": [
    "print(y_train_grid_offset.shape)\n",
    "print(y_valid_grid_offset.shape)"
   ]
  },
  {
   "cell_type": "code",
   "execution_count": 48,
   "id": "84b5b833",
   "metadata": {},
   "outputs": [
    {
     "name": "stdout",
     "output_type": "stream",
     "text": [
      "X.shape = (None, 1)\n",
      "gauss_grid.shape = (None, 5)\n"
     ]
    }
   ],
   "source": [
    "inputs = keras.layers.Input(shape=X_train.shape[1:])\n",
    "#\n",
    "z = num2grid(5,x_min=-10, x_max=10, sigma=3.0)(inputs)\n",
    "z = keras.layers.Dense(30, activation=\"selu\")(z)\n",
    "# Outputs\n",
    "z_proba = keras.layers.Dense(30, activation=\"relu\")(z)\n",
    "z_proba  = keras.layers.Dense(class_num, activation=\"softmax\")(z_proba)\n",
    "z_offset = keras.layers.Dense(class_num, activation=\"relu\")(z)\n",
    "z_offset = keras.layers.Dense(class_num)(z_offset)\n",
    "# Concatenate\n",
    "z_proba  = keras.layers.Reshape([class_num,1])(z_proba)\n",
    "z_offset = keras.layers.Reshape([class_num,1])(z_offset)\n",
    "out_cat = keras.layers.Concatenate(axis=-1)([z_proba, z_offset])\n",
    "#\n",
    "# Models for trainig and real usage\n",
    "model = keras.Model(inputs=[inputs], outputs=[out_cat])"
   ]
  },
  {
   "cell_type": "code",
   "execution_count": 49,
   "id": "e6482574",
   "metadata": {},
   "outputs": [],
   "source": [
    "# Customized loss function\n",
    "\n",
    "cce = keras.losses.CategoricalCrossentropy(reduction=keras.losses.Reduction.NONE)\n",
    "# cce(y_true, y_pred).numpy()\n",
    "\n",
    "def centerLoss_fn(y_true, y_pred):\n",
    "    #\n",
    "    y_true_proba = y_true[...,0]\n",
    "    y_true_value = y_true[...,1]\n",
    "    #\n",
    "    y_pred_proba = y_pred[...,0]\n",
    "    y_pred_value = y_pred[...,1]\n",
    "    \n",
    "    #\n",
    "    cce_loss = cce(y_true_proba, y_pred_proba) / class_num\n",
    "    #\n",
    "    y_true_value_est = tf.reduce_sum((y_true_proba * y_true_value), axis=-1)\n",
    "    y_pred_value_est = tf.reduce_sum((y_true_proba * y_pred_value), axis=-1)\n",
    "#     y_pred_value_est = tf.reduce_sum((y_pred_proba * y_pred_value), axis=-1)\n",
    "    value_loss = tf.abs(y_pred_value_est - y_true_value_est)\n",
    "    \n",
    "    # Total loss\n",
    "#     return (0.5*cce_loss + 0.5*value_loss )\n",
    "    return (0.2*cce_loss + 0.8*value_loss )\n",
    "#     return (cce_loss)\n",
    "#     return (value_loss )"
   ]
  },
  {
   "cell_type": "code",
   "execution_count": 50,
   "id": "60575755",
   "metadata": {},
   "outputs": [
    {
     "name": "stderr",
     "output_type": "stream",
     "text": [
      "C:\\Users\\benso\\anaconda3\\envs\\ml\\lib\\site-packages\\keras\\optimizer_v2\\adam.py:105: UserWarning: The `lr` argument is deprecated, use `learning_rate` instead.\n",
      "  super(Adam, self).__init__(name, **kwargs)\n"
     ]
    }
   ],
   "source": [
    "# optimizer = keras.optimizers.SGD(lr=0.1, momentum=0.9)\n",
    "optimizer = keras.optimizers.Adam(lr=0.05)\n",
    "model.compile(loss=centerLoss_fn, optimizer=optimizer)"
   ]
  },
  {
   "cell_type": "code",
   "execution_count": 51,
   "id": "09bc47a5",
   "metadata": {
    "scrolled": true
   },
   "outputs": [],
   "source": [
    "# history = model.fit(X_train, y_train_grid_offset, epochs=100,\n",
    "#                     validation_data=(X_valid, y_valid_grid_offset))"
   ]
  },
  {
   "cell_type": "code",
   "execution_count": 52,
   "id": "7ba1fe76",
   "metadata": {},
   "outputs": [],
   "source": [
    "# import pandas as pd\n",
    "\n",
    "# pd.DataFrame(history.history).plot(figsize=(8, 5))\n",
    "# plt.grid(True)\n",
    "# # plt.gca().set_ylim(0, 1)\n",
    "# save_fig(\"grid_rbcOffset_training_curve\")\n",
    "# plt.show()"
   ]
  },
  {
   "cell_type": "code",
   "execution_count": 53,
   "id": "47db8336",
   "metadata": {
    "scrolled": false
   },
   "outputs": [],
   "source": [
    "# # plt.plot(X_train, y_train, \"b.\")\n",
    "# draw_points(X_train, y_train, sid_train)\n",
    "# draw_func((lambda X: n2go.inv_convert(model.predict(X)) ), mark='r-', linewidth=2, label=\"Predictions\")\n",
    "# draw_normal_func(func_dict)\n",
    "# plt.xlabel(\"$x_1$\", fontsize=18)\n",
    "# plt.ylabel(\"$y$\", rotation=0, fontsize=18)\n",
    "# plt.legend(loc=\"upper left\", fontsize=14)\n",
    "# # plt.axis([-3, 3, 0, 10])\n",
    "# save_fig(\"grid_rbcOffset_prediction\")\n",
    "# plt.show()"
   ]
  },
  {
   "cell_type": "code",
   "execution_count": 54,
   "id": "46a1a384",
   "metadata": {},
   "outputs": [],
   "source": [
    "# get_prediction_error((lambda X: n2go.inv_convert(model.predict(X)) ), func_dict, name=\"grid-classOffset\")"
   ]
  },
  {
   "cell_type": "code",
   "execution_count": null,
   "id": "fff995a6",
   "metadata": {},
   "outputs": [],
   "source": []
  },
  {
   "cell_type": "markdown",
   "id": "a811f344",
   "metadata": {},
   "source": [
    "# Parametric Uncertainty/Distribution Estimation\n",
    "\n",
    "In this section, we try to estimate uncertainty (actually, fit the dataset distribution) with parametric reprecentation of a distribution instead of a discretized non-parametric representation.\n",
    "\n",
    "Possible solution includes\n",
    "- Quantile estimation with pinball loss (statistic)\n",
    "- Guassian distribution (fit a prabability distribution)"
   ]
  },
  {
   "cell_type": "markdown",
   "id": "175eb32d",
   "metadata": {},
   "source": [
    "## Quantile Estimation with Pinball Loss (grid --> parameters)\n",
    "\n",
    "Quantile estimation and pinball loss is based on the concept of statistic, which predict the value based on the rank of samples in the dataset.\n",
    "\n",
    "The outputs of the model are $(y_{10}, y_{90})$, 10% quantile prediction and 90% quantile prediction, respectively."
   ]
  },
  {
   "cell_type": "code",
   "execution_count": 55,
   "id": "1d1ef92d",
   "metadata": {},
   "outputs": [],
   "source": [
    "# quantile_list = [0.5]\n",
    "# quantile_list = [0.9]\n",
    "quantile_list = [0.1, 0.9] # Use hidden layer with 30 neurons\n",
    "# quantile_list = [0.05, 0.95]\n",
    "# quantile_list = [0.25, 0.75]\n",
    "# quantile_list = [0.1, 0.5, 0.9]\n",
    "# quantile_list = [0.1, 0.3, 0.7, 0.9]\n",
    "# quantile_list = [0.1, 0.2, 0.3, 0.4, 0.6, 0.7, 0.8, 0.9] # remove 0.5\n",
    "# quantile_list = [0.1, 0.2, 0.3, 0.4, 0.5, 0.6, 0.7, 0.8, 0.9] # Should use wider hidden layer (with many neurons) + L1 regularization\n",
    "num_quantile = len(quantile_list)"
   ]
  },
  {
   "cell_type": "code",
   "execution_count": 56,
   "id": "8e3fe57b",
   "metadata": {},
   "outputs": [
    {
     "name": "stdout",
     "output_type": "stream",
     "text": [
      "X.shape = (None, 1)\n",
      "gauss_grid.shape = (None, 5)\n"
     ]
    }
   ],
   "source": [
    "model = keras.models.Sequential([\n",
    "    num2grid(5,x_min=-10, x_max=10, sigma=3.0, input_shape=X_train.shape[1:]), # Convert to grids\n",
    "#     num2grid(50,x_min=-10, x_max=10, sigma=0.5, input_shape=X_train.shape[1:]),\n",
    "    keras.layers.Dense(30, activation=\"relu\"),\n",
    "#     keras.layers.Dense(60, activation=\"relu\"),\n",
    "#     keras.layers.Dense(100, activation=\"selu\", kernel_regularizer=tf.keras.regularizers.l1(0.01)),\n",
    "#     keras.layers.Dense(100, activation=keras.layers.LeakyReLU(alpha=0.2), kernel_regularizer=tf.keras.regularizers.l1(0.01)),\n",
    "#     keras.layers.Dense(30, activation=keras.layers.LeakyReLU(alpha=0.2) ),\n",
    "#     keras.layers.Dense(30, activation=\"selu\"),\n",
    "    keras.layers.Dense(num_quantile) # (y10, y90)\n",
    "])"
   ]
  },
  {
   "cell_type": "code",
   "execution_count": 57,
   "id": "bf131dc7",
   "metadata": {},
   "outputs": [],
   "source": [
    "# Customized loss function\n",
    "def pinballLoss_fn(y_true, y_pred, tau):\n",
    "    # tau: quantile, tau in [0.0, 1.0]\n",
    "    # y_true: label mean\n",
    "    # y_pred: predicted tau quantile\n",
    "    _q = y_true - y_pred\n",
    "    return tf.math.maximum( (tau*_q), ((tau-1.0)*_q))\n",
    "    \n",
    "def pinballLoss_10_90_fn(y_true, y_pred):\n",
    "    #\n",
    "    return pinballLoss_fn(y_true, y_pred[:,0:1], 0.1) + pinballLoss_fn(y_true, y_pred[:,1:2], 0.9)\n",
    "\n",
    "def pinballLoss_full_fn(y_true, y_pred):\n",
    "    #\n",
    "    pinball_losses = tf.stack( [pinballLoss_fn(y_true, y_pred[:, _i:(_i+1)], _tau) for _i, _tau in enumerate(quantile_list)], axis=1)\n",
    "    return tf.reduce_sum(pinball_losses, axis=1)"
   ]
  },
  {
   "cell_type": "code",
   "execution_count": 58,
   "id": "a71305d5",
   "metadata": {},
   "outputs": [],
   "source": [
    "# optimizer = keras.optimizers.SGD(lr=0.1, momentum=0.9)\n",
    "optimizer = keras.optimizers.Adam(lr=0.1)\n",
    "# model.compile(loss=pinballLoss_10_90_fn, optimizer=optimizer)\n",
    "model.compile(loss=pinballLoss_full_fn, optimizer=optimizer)"
   ]
  },
  {
   "cell_type": "code",
   "execution_count": 59,
   "id": "d935c409",
   "metadata": {
    "scrolled": true
   },
   "outputs": [
    {
     "name": "stdout",
     "output_type": "stream",
     "text": [
      "Epoch 1/100\n",
      "X.shape = (None, 1)\n",
      "gauss_grid.shape = (None, 5)\n",
      "X.shape = (None, 1)\n",
      "gauss_grid.shape = (None, 5)\n",
      "1/3 [=========>....................] - ETA: 1s - loss: 40.2138X.shape = (None, 1)\n",
      "gauss_grid.shape = (None, 5)\n",
      "3/3 [==============================] - 1s 100ms/step - loss: 41.3561 - val_loss: 32.1415\n",
      "Epoch 2/100\n",
      "3/3 [==============================] - 0s 17ms/step - loss: 38.0289 - val_loss: 27.8148\n",
      "Epoch 3/100\n",
      "3/3 [==============================] - 0s 26ms/step - loss: 32.2692 - val_loss: 21.6258\n",
      "Epoch 4/100\n",
      "3/3 [==============================] - 0s 29ms/step - loss: 23.7122 - val_loss: 14.3711\n",
      "Epoch 5/100\n",
      "3/3 [==============================] - 0s 36ms/step - loss: 17.3674 - val_loss: 11.3769\n",
      "Epoch 6/100\n",
      "3/3 [==============================] - 0s 52ms/step - loss: 13.7258 - val_loss: 13.1282\n",
      "Epoch 7/100\n",
      "3/3 [==============================] - 0s 28ms/step - loss: 14.1281 - val_loss: 14.0907\n",
      "Epoch 8/100\n",
      "3/3 [==============================] - 0s 27ms/step - loss: 14.5287 - val_loss: 13.3876\n",
      "Epoch 9/100\n",
      "3/3 [==============================] - 0s 38ms/step - loss: 13.6986 - val_loss: 11.9458\n",
      "Epoch 10/100\n",
      "3/3 [==============================] - 0s 27ms/step - loss: 12.3409 - val_loss: 11.0707\n",
      "Epoch 11/100\n",
      "3/3 [==============================] - 0s 15ms/step - loss: 10.8713 - val_loss: 10.2218\n",
      "Epoch 12/100\n",
      "3/3 [==============================] - 0s 31ms/step - loss: 9.6126 - val_loss: 8.6668\n",
      "Epoch 13/100\n",
      "3/3 [==============================] - 0s 27ms/step - loss: 9.0922 - val_loss: 7.4098\n",
      "Epoch 14/100\n",
      "3/3 [==============================] - 0s 33ms/step - loss: 8.6587 - val_loss: 6.6503\n",
      "Epoch 15/100\n",
      "3/3 [==============================] - 0s 21ms/step - loss: 7.8945 - val_loss: 6.7327\n",
      "Epoch 16/100\n",
      "3/3 [==============================] - 0s 19ms/step - loss: 7.2929 - val_loss: 7.1500\n",
      "Epoch 17/100\n",
      "3/3 [==============================] - 0s 18ms/step - loss: 7.1866 - val_loss: 7.4339\n",
      "Epoch 18/100\n",
      "3/3 [==============================] - 0s 24ms/step - loss: 7.0717 - val_loss: 6.9175\n",
      "Epoch 19/100\n",
      "3/3 [==============================] - 0s 21ms/step - loss: 6.6546 - val_loss: 6.0843\n",
      "Epoch 20/100\n",
      "3/3 [==============================] - 0s 19ms/step - loss: 6.1273 - val_loss: 5.2256\n",
      "Epoch 21/100\n",
      "3/3 [==============================] - 0s 25ms/step - loss: 5.8489 - val_loss: 4.5635\n",
      "Epoch 22/100\n",
      "3/3 [==============================] - 0s 18ms/step - loss: 5.6212 - val_loss: 4.5873\n",
      "Epoch 23/100\n",
      "3/3 [==============================] - 0s 20ms/step - loss: 5.5202 - val_loss: 4.8907\n",
      "Epoch 24/100\n",
      "3/3 [==============================] - 0s 22ms/step - loss: 5.3927 - val_loss: 5.1115\n",
      "Epoch 25/100\n",
      "3/3 [==============================] - 0s 23ms/step - loss: 5.3051 - val_loss: 5.2745\n",
      "Epoch 26/100\n",
      "3/3 [==============================] - 0s 18ms/step - loss: 5.2029 - val_loss: 5.2830\n",
      "Epoch 27/100\n",
      "3/3 [==============================] - 0s 20ms/step - loss: 5.0186 - val_loss: 4.8225\n",
      "Epoch 28/100\n",
      "3/3 [==============================] - 0s 23ms/step - loss: 4.7934 - val_loss: 4.1995\n",
      "Epoch 29/100\n",
      "3/3 [==============================] - 0s 18ms/step - loss: 4.6270 - val_loss: 3.8994\n",
      "Epoch 30/100\n",
      "3/3 [==============================] - 0s 22ms/step - loss: 4.5231 - val_loss: 3.9495\n",
      "Epoch 31/100\n",
      "3/3 [==============================] - 0s 28ms/step - loss: 4.4424 - val_loss: 4.1154\n",
      "Epoch 32/100\n",
      "3/3 [==============================] - 0s 25ms/step - loss: 4.3116 - val_loss: 4.1498\n",
      "Epoch 33/100\n",
      "3/3 [==============================] - 0s 26ms/step - loss: 4.2303 - val_loss: 4.0995\n",
      "Epoch 34/100\n",
      "3/3 [==============================] - 0s 18ms/step - loss: 4.0791 - val_loss: 3.9392\n",
      "Epoch 35/100\n",
      "3/3 [==============================] - 0s 26ms/step - loss: 3.9096 - val_loss: 3.8237\n",
      "Epoch 36/100\n",
      "3/3 [==============================] - 0s 23ms/step - loss: 3.8185 - val_loss: 3.4873\n",
      "Epoch 37/100\n",
      "3/3 [==============================] - 0s 17ms/step - loss: 3.7625 - val_loss: 3.5842\n",
      "Epoch 38/100\n",
      "3/3 [==============================] - 0s 20ms/step - loss: 3.5980 - val_loss: 3.7715\n",
      "Epoch 39/100\n",
      "3/3 [==============================] - 0s 25ms/step - loss: 3.6067 - val_loss: 3.6099\n",
      "Epoch 40/100\n",
      "3/3 [==============================] - 0s 22ms/step - loss: 3.5622 - val_loss: 3.4302\n",
      "Epoch 41/100\n",
      "3/3 [==============================] - 0s 18ms/step - loss: 3.3228 - val_loss: 3.2600\n",
      "Epoch 42/100\n",
      "3/3 [==============================] - 0s 18ms/step - loss: 3.2367 - val_loss: 3.3351\n",
      "Epoch 43/100\n",
      "3/3 [==============================] - 0s 21ms/step - loss: 3.1485 - val_loss: 3.3808\n",
      "Epoch 44/100\n",
      "3/3 [==============================] - 0s 18ms/step - loss: 3.1753 - val_loss: 3.2715\n",
      "Epoch 45/100\n",
      "3/3 [==============================] - 0s 22ms/step - loss: 3.1496 - val_loss: 3.0010\n",
      "Epoch 46/100\n",
      "3/3 [==============================] - 0s 23ms/step - loss: 3.0318 - val_loss: 3.0393\n",
      "Epoch 47/100\n",
      "3/3 [==============================] - 0s 20ms/step - loss: 3.0253 - val_loss: 3.1094\n",
      "Epoch 48/100\n",
      "3/3 [==============================] - 0s 18ms/step - loss: 3.1340 - val_loss: 2.8504\n",
      "Epoch 49/100\n",
      "3/3 [==============================] - 0s 21ms/step - loss: 2.9686 - val_loss: 2.9111\n",
      "Epoch 50/100\n",
      "3/3 [==============================] - 0s 29ms/step - loss: 2.8497 - val_loss: 2.8280\n",
      "Epoch 51/100\n",
      "3/3 [==============================] - 0s 19ms/step - loss: 3.0143 - val_loss: 2.9676\n",
      "Epoch 52/100\n",
      "3/3 [==============================] - 0s 18ms/step - loss: 2.8044 - val_loss: 2.9797\n",
      "Epoch 53/100\n",
      "3/3 [==============================] - 0s 19ms/step - loss: 2.8651 - val_loss: 2.8855\n",
      "Epoch 54/100\n",
      "3/3 [==============================] - 0s 20ms/step - loss: 2.8179 - val_loss: 2.5889\n",
      "Epoch 55/100\n",
      "3/3 [==============================] - 0s 22ms/step - loss: 2.6806 - val_loss: 2.8168\n",
      "Epoch 56/100\n",
      "3/3 [==============================] - 0s 21ms/step - loss: 2.7223 - val_loss: 2.6748\n",
      "Epoch 57/100\n",
      "3/3 [==============================] - 0s 24ms/step - loss: 2.8011 - val_loss: 2.9724\n",
      "Epoch 58/100\n",
      "3/3 [==============================] - 0s 21ms/step - loss: 2.8869 - val_loss: 2.9483\n",
      "Epoch 59/100\n",
      "3/3 [==============================] - 0s 22ms/step - loss: 2.8460 - val_loss: 2.5229\n",
      "Epoch 60/100\n",
      "3/3 [==============================] - 0s 22ms/step - loss: 2.6622 - val_loss: 2.6202\n",
      "Epoch 61/100\n",
      "3/3 [==============================] - 0s 22ms/step - loss: 2.6902 - val_loss: 2.7353\n",
      "Epoch 62/100\n",
      "3/3 [==============================] - 0s 22ms/step - loss: 2.6273 - val_loss: 2.7056\n",
      "Epoch 63/100\n",
      "3/3 [==============================] - 0s 21ms/step - loss: 2.6918 - val_loss: 2.6730\n",
      "Epoch 64/100\n",
      "3/3 [==============================] - 0s 21ms/step - loss: 2.6013 - val_loss: 2.8028\n",
      "Epoch 65/100\n",
      "3/3 [==============================] - 0s 20ms/step - loss: 2.7735 - val_loss: 2.5689\n",
      "Epoch 66/100\n",
      "3/3 [==============================] - 0s 31ms/step - loss: 2.5930 - val_loss: 2.6328\n",
      "Epoch 67/100\n",
      "3/3 [==============================] - 0s 21ms/step - loss: 2.6375 - val_loss: 2.6038\n",
      "Epoch 68/100\n",
      "3/3 [==============================] - 0s 21ms/step - loss: 2.6756 - val_loss: 2.7199\n",
      "Epoch 69/100\n",
      "3/3 [==============================] - 0s 27ms/step - loss: 2.6713 - val_loss: 2.8136\n",
      "Epoch 70/100\n",
      "3/3 [==============================] - 0s 23ms/step - loss: 2.5525 - val_loss: 2.7546\n",
      "Epoch 71/100\n",
      "3/3 [==============================] - 0s 26ms/step - loss: 2.8828 - val_loss: 2.8818\n",
      "Epoch 72/100\n",
      "3/3 [==============================] - 0s 16ms/step - loss: 2.8900 - val_loss: 2.7438\n",
      "Epoch 73/100\n",
      "3/3 [==============================] - 0s 20ms/step - loss: 2.6566 - val_loss: 2.7994\n",
      "Epoch 74/100\n",
      "3/3 [==============================] - 0s 21ms/step - loss: 2.7486 - val_loss: 2.7431\n",
      "Epoch 75/100\n",
      "3/3 [==============================] - 0s 20ms/step - loss: 2.7178 - val_loss: 2.6510\n",
      "Epoch 76/100\n",
      "3/3 [==============================] - 0s 22ms/step - loss: 2.5418 - val_loss: 2.6870\n",
      "Epoch 77/100\n",
      "3/3 [==============================] - 0s 24ms/step - loss: 2.6141 - val_loss: 2.5937\n",
      "Epoch 78/100\n",
      "3/3 [==============================] - 0s 23ms/step - loss: 2.5643 - val_loss: 2.7572\n",
      "Epoch 79/100\n",
      "3/3 [==============================] - 0s 20ms/step - loss: 2.5896 - val_loss: 2.7942\n",
      "Epoch 80/100\n",
      "3/3 [==============================] - 0s 22ms/step - loss: 2.6174 - val_loss: 2.5666\n",
      "Epoch 81/100\n"
     ]
    },
    {
     "name": "stdout",
     "output_type": "stream",
     "text": [
      "3/3 [==============================] - 0s 21ms/step - loss: 2.5582 - val_loss: 2.5860\n",
      "Epoch 82/100\n",
      "3/3 [==============================] - 0s 20ms/step - loss: 2.6384 - val_loss: 2.5267\n",
      "Epoch 83/100\n",
      "3/3 [==============================] - 0s 20ms/step - loss: 2.6286 - val_loss: 2.7117\n",
      "Epoch 84/100\n",
      "3/3 [==============================] - 0s 18ms/step - loss: 2.6216 - val_loss: 2.8963\n",
      "Epoch 85/100\n",
      "3/3 [==============================] - 0s 19ms/step - loss: 2.7226 - val_loss: 2.7078\n",
      "Epoch 86/100\n",
      "3/3 [==============================] - 0s 22ms/step - loss: 2.8770 - val_loss: 2.9408\n",
      "Epoch 87/100\n",
      "3/3 [==============================] - 0s 22ms/step - loss: 2.8958 - val_loss: 2.8531\n",
      "Epoch 88/100\n",
      "3/3 [==============================] - 0s 23ms/step - loss: 2.7159 - val_loss: 2.5562\n",
      "Epoch 89/100\n",
      "3/3 [==============================] - 0s 27ms/step - loss: 2.6627 - val_loss: 2.9119\n",
      "Epoch 90/100\n",
      "3/3 [==============================] - 0s 27ms/step - loss: 2.8054 - val_loss: 2.6067\n",
      "Epoch 91/100\n",
      "3/3 [==============================] - 0s 23ms/step - loss: 2.5584 - val_loss: 2.6626\n",
      "Epoch 92/100\n",
      "3/3 [==============================] - 0s 25ms/step - loss: 2.5154 - val_loss: 2.6554\n",
      "Epoch 93/100\n",
      "3/3 [==============================] - 0s 22ms/step - loss: 2.5941 - val_loss: 2.5276\n",
      "Epoch 94/100\n",
      "3/3 [==============================] - 0s 20ms/step - loss: 2.5905 - val_loss: 2.7623\n",
      "Epoch 95/100\n",
      "3/3 [==============================] - 0s 20ms/step - loss: 2.6047 - val_loss: 2.5352\n",
      "Epoch 96/100\n",
      "3/3 [==============================] - 0s 19ms/step - loss: 2.5681 - val_loss: 2.5800\n",
      "Epoch 97/100\n",
      "3/3 [==============================] - 0s 21ms/step - loss: 2.4989 - val_loss: 2.7268\n",
      "Epoch 98/100\n",
      "3/3 [==============================] - 0s 15ms/step - loss: 2.5708 - val_loss: 2.5737\n",
      "Epoch 99/100\n",
      "3/3 [==============================] - 0s 19ms/step - loss: 2.5742 - val_loss: 2.5464\n",
      "Epoch 100/100\n",
      "3/3 [==============================] - 0s 21ms/step - loss: 2.6690 - val_loss: 2.7638\n"
     ]
    }
   ],
   "source": [
    "history = model.fit(X_train, y_train, epochs=100,\n",
    "                    validation_data=(X_valid, y_valid))"
   ]
  },
  {
   "cell_type": "code",
   "execution_count": 60,
   "id": "e7fa5656",
   "metadata": {
    "scrolled": false
   },
   "outputs": [
    {
     "name": "stdout",
     "output_type": "stream",
     "text": [
      "Saving figure grid_quantile_training_curve\n"
     ]
    },
    {
     "data": {
      "image/png": "[encoded data removed]",
      "text/plain": [
       "<Figure size 576x360 with 1 Axes>"
      ]
     },
     "metadata": {
      "needs_background": "light"
     },
     "output_type": "display_data"
    }
   ],
   "source": [
    "import pandas as pd\n",
    "\n",
    "pd.DataFrame(history.history).plot(figsize=(8, 5))\n",
    "plt.grid(True)\n",
    "# plt.gca().set_ylim(0, 1)\n",
    "save_fig(\"grid_quantile_training_curve\")\n",
    "plt.show()"
   ]
  },
  {
   "cell_type": "markdown",
   "id": "a4a59dd6",
   "metadata": {},
   "source": [
    "### Draw the mean prediction curve averaged from all quantile predictions."
   ]
  },
  {
   "cell_type": "code",
   "execution_count": 61,
   "id": "0e5d0058",
   "metadata": {},
   "outputs": [
    {
     "name": "stdout",
     "output_type": "stream",
     "text": [
      "X.shape = (None, 1)\n",
      "gauss_grid.shape = (None, 5)\n",
      "Saving figure grid_quantile_prediction\n"
     ]
    },
    {
     "data": {
      "image/png": "[encoded data removed]",
      "text/plain": [
       "<Figure size 432x288 with 1 Axes>"
      ]
     },
     "metadata": {
      "needs_background": "light"
     },
     "output_type": "display_data"
    }
   ],
   "source": [
    "# plt.plot(X_train, y_train, \"b.\")\n",
    "draw_points(X_train, y_train, sid_train)\n",
    "draw_func((lambda X: np.average(model.predict(X), axis=-1) ), mark='r-', linewidth=2, label=\"Predictions\")\n",
    "# draw_func((lambda X: model.predict(X)[:,0] ), mark='k--', linewidth=1, label=\"$y_{%d}$\" % (quantile_list[0]*100))\n",
    "# draw_func((lambda X: model.predict(X)[:,-1] ), mark='k--', linewidth=1, label=\"$y_{%d}$\" % (quantile_list[-1]*100))\n",
    "draw_normal_func(func_dict)\n",
    "plt.xlabel(\"$x_1$\", fontsize=18)\n",
    "plt.ylabel(\"$y$\", rotation=0, fontsize=18)\n",
    "plt.legend(loc=\"upper left\", fontsize=14)\n",
    "# plt.axis([-3, 3, 0, 10])\n",
    "save_fig(\"grid_quantile_prediction\")\n",
    "plt.show()"
   ]
  },
  {
   "cell_type": "code",
   "execution_count": 62,
   "id": "f98d3ae8",
   "metadata": {},
   "outputs": [
    {
     "name": "stdout",
     "output_type": "stream",
     "text": [
      "y_func.shape = (100, 1)\n",
      "y_gt.shape = (100, 1)\n"
     ]
    },
    {
     "data": {
      "text/plain": [
       "1.6411296770499701"
      ]
     },
     "execution_count": 62,
     "metadata": {},
     "output_type": "execute_result"
    }
   ],
   "source": [
    "get_prediction_error((lambda X: np.average(model.predict(X), axis=-1) ), func_dict, name=\"grid-quantileR\")"
   ]
  },
  {
   "cell_type": "markdown",
   "id": "f79ac920",
   "metadata": {},
   "source": [
    "### Draw first and last quantile curve."
   ]
  },
  {
   "cell_type": "code",
   "execution_count": 63,
   "id": "42eeb254",
   "metadata": {},
   "outputs": [
    {
     "name": "stdout",
     "output_type": "stream",
     "text": [
      "Saving figure grid_quantile_boundary_quantiles\n"
     ]
    },
    {
     "data": {
      "image/png": "[encoded data removed]",
      "text/plain": [
       "<Figure size 432x288 with 1 Axes>"
      ]
     },
     "metadata": {
      "needs_background": "light"
     },
     "output_type": "display_data"
    }
   ],
   "source": [
    "# plt.plot(X_train, y_train, \"b.\")\n",
    "draw_points(X_train, y_train, sid_train)\n",
    "draw_func((lambda X: np.average(model.predict(X), axis=-1) ), mark='r-', linewidth=2, label=\"Predictions\")\n",
    "draw_func((lambda X: model.predict(X)[:,0] ), mark='k--', linewidth=1, label=\"$y_{%d}$\" % (quantile_list[0]*100))\n",
    "draw_func((lambda X: model.predict(X)[:,-1] ), mark='k--', linewidth=1, label=\"$y_{%d}$\" % (quantile_list[-1]*100))\n",
    "draw_normal_func(func_dict)\n",
    "plt.xlabel(\"$x_1$\", fontsize=18)\n",
    "plt.ylabel(\"$y$\", rotation=0, fontsize=18)\n",
    "plt.legend(loc=\"upper left\", fontsize=14)\n",
    "# plt.axis([-3, 3, 0, 10])\n",
    "save_fig(\"grid_quantile_boundary_quantiles\")\n",
    "plt.show()"
   ]
  },
  {
   "cell_type": "markdown",
   "id": "2a1b1b44",
   "metadata": {},
   "source": [
    "### Draw all quantile predictions"
   ]
  },
  {
   "cell_type": "code",
   "execution_count": 64,
   "id": "5e875238",
   "metadata": {},
   "outputs": [
    {
     "name": "stdout",
     "output_type": "stream",
     "text": [
      "Saving figure grid_quantile_all_quantiles\n"
     ]
    },
    {
     "data": {
      "image/png": "[encoded data removed]",
      "text/plain": [
       "<Figure size 432x288 with 1 Axes>"
      ]
     },
     "metadata": {
      "needs_background": "light"
     },
     "output_type": "display_data"
    }
   ],
   "source": [
    "# plt.plot(X_train, y_train, \"b.\")\n",
    "draw_points(X_train, y_train, sid_train)\n",
    "draw_func((lambda X: np.average(model.predict(X), axis=-1) ), mark='r-', linewidth=2, label=\"Predictions\")\n",
    "for _idx, _tau in enumerate(quantile_list):\n",
    "    draw_func((lambda X: model.predict(X)[:,_idx] ), mark='k--', linewidth=1, label=\"$y_{%d}$\" % (_tau*100))\n",
    "draw_normal_func(func_dict)\n",
    "plt.xlabel(\"$x_1$\", fontsize=18)\n",
    "plt.ylabel(\"$y$\", rotation=0, fontsize=18)\n",
    "plt.legend(loc=\"upper left\", fontsize=14)\n",
    "# plt.axis([-3, 3, 0, 10])\n",
    "save_fig(\"grid_quantile_all_quantiles\")\n",
    "plt.show()"
   ]
  },
  {
   "cell_type": "markdown",
   "id": "0693a8eb",
   "metadata": {},
   "source": [
    "### Multi-Quantiles as a Gaussian Distribution "
   ]
  },
  {
   "cell_type": "code",
   "execution_count": 65,
   "id": "11262fbe",
   "metadata": {},
   "outputs": [],
   "source": [
    "# def n_sigma_boundary_line(X, n):\n",
    "#     _y = model.predict(X)\n",
    "#     _mean = np.mean(_y, axis=-1)\n",
    "#     _sigma = np.std(_y, axis=-1)\n",
    "#     return( _mean + n*_sigma)\n",
    "\n",
    "# # plt.plot(X_train, y_train, \"b.\")\n",
    "# draw_points(X_train, y_train, sid_train)\n",
    "# #\n",
    "# draw_func((lambda X: np.average(model.predict(X), axis=-1) ), mark='r-', linewidth=2, label=\"Predictions\")\n",
    "# draw_func((lambda X: n_sigma_boundary_line(X, +1.0) ), mark='k--', linewidth=1, label=\"$\\mu+\\sigma$\")\n",
    "# draw_func((lambda X: n_sigma_boundary_line(X, -1.0) ), mark='k--', linewidth=1, label=\"$\\mu-\\sigma$\")\n",
    "# #\n",
    "# draw_normal_func(func_dict)\n",
    "# plt.xlabel(\"$x_1$\", fontsize=18)\n",
    "# plt.ylabel(\"$y$\", rotation=0, fontsize=18)\n",
    "# plt.legend(loc=\"upper left\", fontsize=14)\n",
    "# # plt.axis([-3, 3, 0, 10])\n",
    "# save_fig(\"grid_quantile_1sigma\")\n",
    "# plt.show()"
   ]
  },
  {
   "cell_type": "markdown",
   "id": "9a01aa69",
   "metadata": {},
   "source": [
    "## Gaussian Estimation with Gaussian Loss (grid-->parameters)\n",
    "\n",
    "Gaussain estimation requires the model to predict the mean and variance of a Gaussian distribution of the random variable regarded. The training purpose is to fit a Gaussian distribution to the data distribution (which is not necessay distributed as Gaussian).\n",
    "\n",
    "One possible solution, derived by BensonHuang, is that the model estimates $(\\mu, z)$, where $z=\\alpha ^{-1}log(\\sigma)$.\n",
    "The associated loss function can be $L_G(y, (\\mu,z)) = 0.5e^{-2\\alpha z}(y-\\mu)^2 + \\alpha z$."
   ]
  },
  {
   "cell_type": "code",
   "execution_count": 66,
   "id": "1a20d5dd",
   "metadata": {},
   "outputs": [],
   "source": [
    "alpha = 1.0\n",
    "# alpha = 0.01\n",
    "# alpha = 0.001"
   ]
  },
  {
   "cell_type": "code",
   "execution_count": 67,
   "id": "cb202ed2",
   "metadata": {},
   "outputs": [
    {
     "name": "stdout",
     "output_type": "stream",
     "text": [
      "X.shape = (None, 1)\n",
      "gauss_grid.shape = (None, 5)\n"
     ]
    }
   ],
   "source": [
    "model = keras.models.Sequential([\n",
    "    num2grid(5,x_min=-10, x_max=10, sigma=3.0, input_shape=X_train.shape[1:]),\n",
    "#     keras.layers.Dense(30, activation=\"relu\"),\n",
    "    keras.layers.Dense(60, activation=\"relu\"),\n",
    "#     keras.layers.Dense(30, activation=keras.layers.LeakyReLU(alpha=0.2) ),\n",
    "#     keras.layers.Dense(30, activation=\"selu\"),\n",
    "    keras.layers.Dense(2) # (mu, z)\n",
    "])"
   ]
  },
  {
   "cell_type": "code",
   "execution_count": 68,
   "id": "925f0a22",
   "metadata": {},
   "outputs": [
    {
     "name": "stdout",
     "output_type": "stream",
     "text": [
      "alpha = 1.000000\n"
     ]
    }
   ],
   "source": [
    "# Customized loss function\n",
    "print(\"alpha = %f\" % alpha)\n",
    "\n",
    "def GaussianLoss_fn(y_true, y_pred):\n",
    "    # y_true: label \n",
    "    # y_pred: (mu, z), z=log(sigma)\n",
    "    mu = y_pred[:, 0:1]\n",
    "    z  = y_pred[:, 1:2]\n",
    "    #\n",
    "    en2z = tf.math.exp((-2.0*alpha)*z)\n",
    "    ymu2 = (y_true - mu)**2\n",
    "    return (0.5*en2z*ymu2 + alpha*z)"
   ]
  },
  {
   "cell_type": "code",
   "execution_count": 69,
   "id": "1b388b4b",
   "metadata": {},
   "outputs": [],
   "source": [
    "# Learning rate scheduler\n",
    "learning_rate_switch_epoch_list = [30, 45]\n",
    "learning_rate_list = [0.001, 0.01, 0.1]\n",
    "# learning_rate_switch_epoch_list = [30, 80]\n",
    "# learning_rate_list = [0.01, 0.1, 0.01]\n",
    "#\n",
    "def piecewise_constant_fn(epoch):\n",
    "    for _i, epoch_s in enumerate(learning_rate_switch_epoch_list):\n",
    "        if epoch < epoch_s:\n",
    "            return learning_rate_list[_i]\n",
    "    return learning_rate_list[-1]\n",
    "\n",
    "lr_scheduler = keras.callbacks.LearningRateScheduler(piecewise_constant_fn)"
   ]
  },
  {
   "cell_type": "markdown",
   "id": "6ec2e05e",
   "metadata": {},
   "source": [
    "Third training with even greater speed"
   ]
  },
  {
   "cell_type": "code",
   "execution_count": 70,
   "id": "7a7e245b",
   "metadata": {},
   "outputs": [
    {
     "name": "stderr",
     "output_type": "stream",
     "text": [
      "C:\\Users\\benso\\anaconda3\\envs\\ml\\lib\\site-packages\\keras\\optimizer_v2\\adam.py:105: UserWarning: The `lr` argument is deprecated, use `learning_rate` instead.\n",
      "  super(Adam, self).__init__(name, **kwargs)\n"
     ]
    }
   ],
   "source": [
    "# optimizer = keras.optimizers.SGD(lr=0.1, momentum=0.9)\n",
    "optimizer = keras.optimizers.Adam(lr=0.1) # 0.1\n",
    "model.compile(loss=GaussianLoss_fn, optimizer=optimizer)"
   ]
  },
  {
   "cell_type": "code",
   "execution_count": 71,
   "id": "6d7b74a9",
   "metadata": {
    "scrolled": true
   },
   "outputs": [
    {
     "name": "stdout",
     "output_type": "stream",
     "text": [
      "Epoch 1/200\n",
      "X.shape = (None, 1)\n",
      "gauss_grid.shape = (None, 5)\n",
      "X.shape = (None, 1)\n",
      "gauss_grid.shape = (None, 5)\n",
      "1/3 [=========>....................] - ETA: 0s - loss: 756.5922X.shape = (None, 1)\n",
      "gauss_grid.shape = (None, 5)\n",
      "3/3 [==============================] - 1s 167ms/step - loss: 309.0553 - val_loss: 7.2433\n",
      "Epoch 2/200\n",
      "3/3 [==============================] - 0s 22ms/step - loss: 9.0683 - val_loss: 13.5468\n",
      "Epoch 3/200\n",
      "3/3 [==============================] - 0s 46ms/step - loss: 14.9698 - val_loss: 18.2015\n",
      "Epoch 4/200\n",
      "3/3 [==============================] - 0s 32ms/step - loss: 19.2632 - val_loss: 21.3752\n",
      "Epoch 5/200\n",
      "3/3 [==============================] - 0s 44ms/step - loss: 22.1832 - val_loss: 23.3662\n",
      "Epoch 6/200\n",
      "3/3 [==============================] - 0s 46ms/step - loss: 23.9944 - val_loss: 24.4757\n",
      "Epoch 7/200\n",
      "3/3 [==============================] - 0s 26ms/step - loss: 24.9427 - val_loss: 24.9116\n",
      "Epoch 8/200\n",
      "3/3 [==============================] - 0s 32ms/step - loss: 25.2537 - val_loss: 24.8618\n",
      "Epoch 9/200\n",
      "3/3 [==============================] - 0s 36ms/step - loss: 25.0712 - val_loss: 24.4504\n",
      "Epoch 10/200\n",
      "3/3 [==============================] - 0s 19ms/step - loss: 24.5322 - val_loss: 23.7690\n",
      "Epoch 11/200\n",
      "3/3 [==============================] - 0s 25ms/step - loss: 23.7154 - val_loss: 22.8760\n",
      "Epoch 12/200\n",
      "3/3 [==============================] - 0s 20ms/step - loss: 22.6873 - val_loss: 21.8150\n",
      "Epoch 13/200\n",
      "3/3 [==============================] - 0s 19ms/step - loss: 21.4945 - val_loss: 20.6201\n",
      "Epoch 14/200\n",
      "3/3 [==============================] - 0s 20ms/step - loss: 20.1929 - val_loss: 19.2996\n",
      "Epoch 15/200\n",
      "3/3 [==============================] - 0s 18ms/step - loss: 18.7766 - val_loss: 17.7821\n",
      "Epoch 16/200\n",
      "3/3 [==============================] - 0s 27ms/step - loss: 17.1788 - val_loss: 16.0019\n",
      "Epoch 17/200\n",
      "3/3 [==============================] - 0s 21ms/step - loss: 15.3347 - val_loss: 13.9046\n",
      "Epoch 18/200\n",
      "3/3 [==============================] - 0s 26ms/step - loss: 13.2118 - val_loss: 11.3967\n",
      "Epoch 19/200\n",
      "3/3 [==============================] - 0s 24ms/step - loss: 10.7084 - val_loss: 8.3773\n",
      "Epoch 20/200\n",
      "3/3 [==============================] - 0s 21ms/step - loss: 7.7041 - val_loss: 4.8468\n",
      "Epoch 21/200\n",
      "3/3 [==============================] - 0s 13ms/step - loss: 5.4547 - val_loss: 5.8514\n",
      "Epoch 22/200\n",
      "3/3 [==============================] - 0s 17ms/step - loss: 4.5488 - val_loss: 4.2405\n",
      "Epoch 23/200\n",
      "3/3 [==============================] - 0s 19ms/step - loss: 4.4527 - val_loss: 4.6196\n",
      "Epoch 24/200\n",
      "3/3 [==============================] - 0s 26ms/step - loss: 4.7374 - val_loss: 4.8143\n",
      "Epoch 25/200\n",
      "3/3 [==============================] - 0s 19ms/step - loss: 4.8486 - val_loss: 4.9053\n",
      "Epoch 26/200\n",
      "3/3 [==============================] - 0s 13ms/step - loss: 4.7835 - val_loss: 4.7123\n",
      "Epoch 27/200\n",
      "3/3 [==============================] - 0s 18ms/step - loss: 4.6041 - val_loss: 4.2247\n",
      "Epoch 28/200\n",
      "3/3 [==============================] - 0s 22ms/step - loss: 4.3070 - val_loss: 3.8375\n",
      "Epoch 29/200\n",
      "3/3 [==============================] - 0s 24ms/step - loss: 4.0640 - val_loss: 3.7791\n",
      "Epoch 30/200\n",
      "3/3 [==============================] - 0s 22ms/step - loss: 4.0108 - val_loss: 3.9435\n",
      "Epoch 31/200\n",
      "3/3 [==============================] - 0s 22ms/step - loss: 4.0932 - val_loss: 3.9155\n",
      "Epoch 32/200\n",
      "3/3 [==============================] - 0s 18ms/step - loss: 4.0975 - val_loss: 3.8533\n",
      "Epoch 33/200\n",
      "3/3 [==============================] - 0s 19ms/step - loss: 4.0084 - val_loss: 3.7508\n",
      "Epoch 34/200\n",
      "3/3 [==============================] - 0s 25ms/step - loss: 3.9410 - val_loss: 3.6966\n",
      "Epoch 35/200\n",
      "3/3 [==============================] - 0s 17ms/step - loss: 3.9511 - val_loss: 3.6931\n",
      "Epoch 36/200\n",
      "3/3 [==============================] - 0s 26ms/step - loss: 3.9583 - val_loss: 3.7174\n",
      "Epoch 37/200\n",
      "3/3 [==============================] - 0s 18ms/step - loss: 3.9487 - val_loss: 3.6787\n",
      "Epoch 38/200\n",
      "3/3 [==============================] - 0s 24ms/step - loss: 3.9059 - val_loss: 3.7153\n",
      "Epoch 39/200\n",
      "3/3 [==============================] - 0s 25ms/step - loss: 3.8897 - val_loss: 3.7245\n",
      "Epoch 40/200\n",
      "3/3 [==============================] - 0s 23ms/step - loss: 3.8850 - val_loss: 3.7320\n",
      "Epoch 41/200\n",
      "3/3 [==============================] - 0s 18ms/step - loss: 3.8748 - val_loss: 3.7151\n",
      "Epoch 42/200\n",
      "3/3 [==============================] - 0s 25ms/step - loss: 3.8500 - val_loss: 3.6787\n",
      "Epoch 43/200\n",
      "3/3 [==============================] - 0s 23ms/step - loss: 3.8379 - val_loss: 3.6525\n",
      "Epoch 44/200\n",
      "3/3 [==============================] - 0s 19ms/step - loss: 3.8274 - val_loss: 3.6465\n",
      "Epoch 45/200\n",
      "3/3 [==============================] - 0s 19ms/step - loss: 3.8123 - val_loss: 3.6396\n",
      "Epoch 46/200\n",
      "3/3 [==============================] - 0s 23ms/step - loss: 3.7933 - val_loss: 3.6562\n",
      "Epoch 47/200\n",
      "3/3 [==============================] - 0s 17ms/step - loss: 3.7854 - val_loss: 3.6510\n",
      "Epoch 48/200\n",
      "3/3 [==============================] - 0s 19ms/step - loss: 3.7714 - val_loss: 3.6175\n",
      "Epoch 49/200\n",
      "3/3 [==============================] - 0s 20ms/step - loss: 3.7451 - val_loss: 3.6213\n",
      "Epoch 50/200\n",
      "3/3 [==============================] - 0s 22ms/step - loss: 3.7296 - val_loss: 3.6048\n",
      "Epoch 51/200\n",
      "3/3 [==============================] - 0s 20ms/step - loss: 3.7068 - val_loss: 3.5778\n",
      "Epoch 52/200\n",
      "3/3 [==============================] - 0s 18ms/step - loss: 3.6935 - val_loss: 3.5633\n",
      "Epoch 53/200\n",
      "3/3 [==============================] - 0s 17ms/step - loss: 3.6611 - val_loss: 3.5907\n",
      "Epoch 54/200\n",
      "3/3 [==============================] - 0s 24ms/step - loss: 3.6565 - val_loss: 3.5519\n",
      "Epoch 55/200\n",
      "3/3 [==============================] - 0s 20ms/step - loss: 3.6181 - val_loss: 3.5228\n",
      "Epoch 56/200\n",
      "3/3 [==============================] - 0s 22ms/step - loss: 3.5931 - val_loss: 3.5140\n",
      "Epoch 57/200\n",
      "3/3 [==============================] - 0s 20ms/step - loss: 3.5646 - val_loss: 3.4794\n",
      "Epoch 58/200\n",
      "3/3 [==============================] - 0s 29ms/step - loss: 3.5524 - val_loss: 3.4561\n",
      "Epoch 59/200\n",
      "3/3 [==============================] - 0s 23ms/step - loss: 3.5098 - val_loss: 3.4626\n",
      "Epoch 60/200\n",
      "3/3 [==============================] - 0s 26ms/step - loss: 3.4895 - val_loss: 3.4224\n",
      "Epoch 61/200\n",
      "3/3 [==============================] - 0s 23ms/step - loss: 3.4612 - val_loss: 3.3943\n",
      "Epoch 62/200\n",
      "3/3 [==============================] - 0s 30ms/step - loss: 3.4412 - val_loss: 3.3833\n",
      "Epoch 63/200\n",
      "3/3 [==============================] - 0s 19ms/step - loss: 3.4056 - val_loss: 3.3506\n",
      "Epoch 64/200\n",
      "3/3 [==============================] - 0s 21ms/step - loss: 3.3866 - val_loss: 3.3289\n",
      "Epoch 65/200\n",
      "3/3 [==============================] - 0s 19ms/step - loss: 3.3656 - val_loss: 3.3069\n",
      "Epoch 66/200\n",
      "3/3 [==============================] - 0s 19ms/step - loss: 3.3554 - val_loss: 3.2927\n",
      "Epoch 67/200\n",
      "3/3 [==============================] - 0s 20ms/step - loss: 3.3446 - val_loss: 3.2837\n",
      "Epoch 68/200\n",
      "3/3 [==============================] - 0s 23ms/step - loss: 3.3392 - val_loss: 3.2833\n",
      "Epoch 69/200\n",
      "3/3 [==============================] - 0s 21ms/step - loss: 3.3344 - val_loss: 3.2867\n",
      "Epoch 70/200\n",
      "3/3 [==============================] - 0s 19ms/step - loss: 3.3274 - val_loss: 3.2858\n",
      "Epoch 71/200\n",
      "3/3 [==============================] - 0s 22ms/step - loss: 3.3173 - val_loss: 3.2883\n",
      "Epoch 72/200\n",
      "3/3 [==============================] - 0s 21ms/step - loss: 3.3452 - val_loss: 3.2580\n",
      "Epoch 73/200\n",
      "3/3 [==============================] - 0s 22ms/step - loss: 3.3378 - val_loss: 3.3050\n",
      "Epoch 74/200\n",
      "3/3 [==============================] - 0s 22ms/step - loss: 3.3092 - val_loss: 3.4393\n",
      "Epoch 75/200\n",
      "3/3 [==============================] - 0s 21ms/step - loss: 3.4041 - val_loss: 3.2743\n",
      "Epoch 76/200\n",
      "3/3 [==============================] - 0s 26ms/step - loss: 3.2989 - val_loss: 3.2495\n",
      "Epoch 77/200\n",
      "3/3 [==============================] - 0s 22ms/step - loss: 3.2929 - val_loss: 3.2338\n",
      "Epoch 78/200\n",
      "3/3 [==============================] - 0s 25ms/step - loss: 3.2989 - val_loss: 3.2288\n",
      "Epoch 79/200\n",
      "3/3 [==============================] - 0s 23ms/step - loss: 3.2918 - val_loss: 3.2294\n",
      "Epoch 80/200\n",
      "3/3 [==============================] - 0s 23ms/step - loss: 3.2849 - val_loss: 3.2399\n",
      "Epoch 81/200\n"
     ]
    },
    {
     "name": "stdout",
     "output_type": "stream",
     "text": [
      "3/3 [==============================] - 0s 22ms/step - loss: 3.2894 - val_loss: 3.2419\n",
      "Epoch 82/200\n",
      "3/3 [==============================] - 0s 21ms/step - loss: 3.2672 - val_loss: 3.3062\n",
      "Epoch 83/200\n",
      "3/3 [==============================] - 0s 21ms/step - loss: 3.3036 - val_loss: 3.2396\n",
      "Epoch 84/200\n",
      "3/3 [==============================] - 0s 20ms/step - loss: 3.3590 - val_loss: 3.3082\n",
      "Epoch 85/200\n",
      "3/3 [==============================] - 0s 20ms/step - loss: 3.3032 - val_loss: 3.3307\n",
      "Epoch 86/200\n",
      "3/3 [==============================] - 0s 18ms/step - loss: 3.3735 - val_loss: 3.2505\n",
      "Epoch 87/200\n",
      "3/3 [==============================] - 0s 20ms/step - loss: 3.3415 - val_loss: 3.3109\n",
      "Epoch 88/200\n",
      "3/3 [==============================] - 0s 20ms/step - loss: 3.3131 - val_loss: 3.3173\n",
      "Epoch 89/200\n",
      "3/3 [==============================] - 0s 14ms/step - loss: 3.3483 - val_loss: 3.2398\n",
      "Epoch 90/200\n",
      "3/3 [==============================] - 0s 17ms/step - loss: 3.2905 - val_loss: 3.2391\n",
      "Epoch 91/200\n",
      "3/3 [==============================] - 0s 18ms/step - loss: 3.2623 - val_loss: 3.2749\n",
      "Epoch 92/200\n",
      "3/3 [==============================] - 0s 22ms/step - loss: 3.3107 - val_loss: 3.2215\n",
      "Epoch 93/200\n",
      "3/3 [==============================] - 0s 25ms/step - loss: 3.2766 - val_loss: 3.2268\n",
      "Epoch 94/200\n",
      "3/3 [==============================] - 0s 26ms/step - loss: 3.2981 - val_loss: 3.2003\n",
      "Epoch 95/200\n",
      "3/3 [==============================] - 0s 24ms/step - loss: 3.2696 - val_loss: 3.2289\n",
      "Epoch 96/200\n",
      "3/3 [==============================] - 0s 24ms/step - loss: 3.2825 - val_loss: 3.2021\n",
      "Epoch 97/200\n",
      "3/3 [==============================] - 0s 23ms/step - loss: 3.2368 - val_loss: 3.2058\n",
      "Epoch 98/200\n",
      "3/3 [==============================] - 0s 26ms/step - loss: 3.2521 - val_loss: 3.1878\n",
      "Epoch 99/200\n",
      "3/3 [==============================] - 0s 22ms/step - loss: 3.2298 - val_loss: 3.2233\n",
      "Epoch 100/200\n",
      "3/3 [==============================] - 0s 25ms/step - loss: 3.2627 - val_loss: 3.2019\n",
      "Epoch 101/200\n",
      "3/3 [==============================] - 0s 22ms/step - loss: 3.2671 - val_loss: 3.1927\n",
      "Epoch 102/200\n",
      "3/3 [==============================] - 0s 19ms/step - loss: 3.2605 - val_loss: 3.1872\n",
      "Epoch 103/200\n",
      "3/3 [==============================] - 0s 23ms/step - loss: 3.2519 - val_loss: 3.2236\n",
      "Epoch 104/200\n",
      "3/3 [==============================] - 0s 19ms/step - loss: 3.2614 - val_loss: 3.2054\n",
      "Epoch 105/200\n",
      "3/3 [==============================] - 0s 14ms/step - loss: 3.2279 - val_loss: 3.1710\n",
      "Epoch 106/200\n",
      "3/3 [==============================] - 0s 18ms/step - loss: 3.2250 - val_loss: 3.1451\n",
      "Epoch 107/200\n",
      "3/3 [==============================] - 0s 19ms/step - loss: 3.2217 - val_loss: 3.1391\n",
      "Epoch 108/200\n",
      "3/3 [==============================] - 0s 24ms/step - loss: 3.2202 - val_loss: 3.1454\n",
      "Epoch 109/200\n",
      "3/3 [==============================] - 0s 18ms/step - loss: 3.2196 - val_loss: 3.1564\n",
      "Epoch 110/200\n",
      "3/3 [==============================] - 0s 18ms/step - loss: 3.2127 - val_loss: 3.1745\n",
      "Epoch 111/200\n",
      "3/3 [==============================] - 0s 24ms/step - loss: 3.2152 - val_loss: 3.1995\n",
      "Epoch 112/200\n",
      "3/3 [==============================] - 0s 19ms/step - loss: 3.2283 - val_loss: 3.1670\n",
      "Epoch 113/200\n",
      "3/3 [==============================] - 0s 25ms/step - loss: 3.2080 - val_loss: 3.1303\n",
      "Epoch 114/200\n",
      "3/3 [==============================] - 0s 23ms/step - loss: 3.2172 - val_loss: 3.1207\n",
      "Epoch 115/200\n",
      "3/3 [==============================] - 0s 25ms/step - loss: 3.2373 - val_loss: 3.1172\n",
      "Epoch 116/200\n",
      "3/3 [==============================] - 0s 29ms/step - loss: 3.1969 - val_loss: 3.1441\n",
      "Epoch 117/200\n",
      "3/3 [==============================] - 0s 18ms/step - loss: 3.1986 - val_loss: 3.1597\n",
      "Epoch 118/200\n",
      "3/3 [==============================] - 0s 19ms/step - loss: 3.1962 - val_loss: 3.1500\n",
      "Epoch 119/200\n",
      "3/3 [==============================] - 0s 21ms/step - loss: 3.1987 - val_loss: 3.1299\n",
      "Epoch 120/200\n",
      "3/3 [==============================] - 0s 19ms/step - loss: 3.2049 - val_loss: 3.1275\n",
      "Epoch 121/200\n",
      "3/3 [==============================] - 0s 19ms/step - loss: 3.1927 - val_loss: 3.1162\n",
      "Epoch 122/200\n",
      "3/3 [==============================] - 0s 17ms/step - loss: 3.1828 - val_loss: 3.1176\n",
      "Epoch 123/200\n",
      "3/3 [==============================] - 0s 24ms/step - loss: 3.1769 - val_loss: 3.1130\n",
      "Epoch 124/200\n",
      "3/3 [==============================] - ETA: 0s - loss: 3.290 - 0s 22ms/step - loss: 3.1803 - val_loss: 3.1038\n",
      "Epoch 125/200\n",
      "3/3 [==============================] - 0s 20ms/step - loss: 3.1934 - val_loss: 3.1043\n",
      "Epoch 126/200\n",
      "3/3 [==============================] - 0s 19ms/step - loss: 3.1895 - val_loss: 3.1550\n",
      "Epoch 127/200\n",
      "3/3 [==============================] - 0s 18ms/step - loss: 3.2032 - val_loss: 3.1678\n",
      "Epoch 128/200\n",
      "3/3 [==============================] - 0s 20ms/step - loss: 3.1714 - val_loss: 3.1189\n",
      "Epoch 129/200\n",
      "3/3 [==============================] - 0s 27ms/step - loss: 3.1618 - val_loss: 3.0756\n",
      "Epoch 130/200\n",
      "3/3 [==============================] - 0s 24ms/step - loss: 3.1797 - val_loss: 3.0773\n",
      "Epoch 131/200\n",
      "3/3 [==============================] - 0s 22ms/step - loss: 3.1832 - val_loss: 3.1297\n",
      "Epoch 132/200\n",
      "3/3 [==============================] - 0s 21ms/step - loss: 3.1500 - val_loss: 3.2399\n",
      "Epoch 133/200\n",
      "3/3 [==============================] - 0s 20ms/step - loss: 3.2083 - val_loss: 3.1132\n",
      "Epoch 134/200\n",
      "3/3 [==============================] - 0s 21ms/step - loss: 3.1801 - val_loss: 3.0912\n",
      "Epoch 135/200\n",
      "3/3 [==============================] - 0s 28ms/step - loss: 3.1779 - val_loss: 3.0709\n",
      "Epoch 136/200\n",
      "3/3 [==============================] - 0s 25ms/step - loss: 3.1450 - val_loss: 3.1150\n",
      "Epoch 137/200\n",
      "3/3 [==============================] - 0s 20ms/step - loss: 3.1457 - val_loss: 3.1064\n",
      "Epoch 138/200\n",
      "3/3 [==============================] - 0s 23ms/step - loss: 3.1509 - val_loss: 3.0713\n",
      "Epoch 139/200\n",
      "3/3 [==============================] - 0s 23ms/step - loss: 3.1290 - val_loss: 3.0765\n",
      "Epoch 140/200\n",
      "3/3 [==============================] - 0s 22ms/step - loss: 3.1376 - val_loss: 3.0478\n",
      "Epoch 141/200\n",
      "3/3 [==============================] - 0s 22ms/step - loss: 3.1160 - val_loss: 3.0643\n",
      "Epoch 142/200\n",
      "3/3 [==============================] - 0s 21ms/step - loss: 3.1480 - val_loss: 3.0742\n",
      "Epoch 143/200\n",
      "3/3 [==============================] - 0s 19ms/step - loss: 3.1121 - val_loss: 3.0611\n",
      "Epoch 144/200\n",
      "3/3 [==============================] - 0s 19ms/step - loss: 3.1373 - val_loss: 3.0742\n",
      "Epoch 145/200\n",
      "3/3 [==============================] - 0s 19ms/step - loss: 3.1295 - val_loss: 3.1044\n",
      "Epoch 146/200\n",
      "3/3 [==============================] - 0s 20ms/step - loss: 3.1048 - val_loss: 3.1415\n",
      "Epoch 147/200\n",
      "3/3 [==============================] - 0s 21ms/step - loss: 3.2001 - val_loss: 3.1465\n",
      "Epoch 148/200\n",
      "3/3 [==============================] - 0s 23ms/step - loss: 3.2076 - val_loss: 3.0528\n",
      "Epoch 149/200\n",
      "3/3 [==============================] - 0s 20ms/step - loss: 3.1028 - val_loss: 3.0662\n",
      "Epoch 150/200\n",
      "3/3 [==============================] - 0s 20ms/step - loss: 3.1187 - val_loss: 3.1449\n",
      "Epoch 151/200\n",
      "3/3 [==============================] - 0s 23ms/step - loss: 3.1442 - val_loss: 3.0072\n",
      "Epoch 152/200\n",
      "3/3 [==============================] - 0s 26ms/step - loss: 3.0694 - val_loss: 3.0262\n",
      "Epoch 153/200\n",
      "3/3 [==============================] - 0s 23ms/step - loss: 3.0579 - val_loss: 3.0479\n",
      "Epoch 154/200\n",
      "3/3 [==============================] - 0s 25ms/step - loss: 3.1156 - val_loss: 3.0039\n",
      "Epoch 155/200\n",
      "3/3 [==============================] - 0s 23ms/step - loss: 3.0921 - val_loss: 2.9951\n",
      "Epoch 156/200\n",
      "3/3 [==============================] - 0s 21ms/step - loss: 3.0939 - val_loss: 3.1208\n",
      "Epoch 157/200\n",
      "3/3 [==============================] - 0s 17ms/step - loss: 3.0751 - val_loss: 3.0722\n",
      "Epoch 158/200\n",
      "3/3 [==============================] - 0s 18ms/step - loss: 3.1254 - val_loss: 3.1924\n",
      "Epoch 159/200\n",
      "3/3 [==============================] - 0s 24ms/step - loss: 3.4278 - val_loss: 3.4747\n",
      "Epoch 160/200\n",
      "3/3 [==============================] - 0s 22ms/step - loss: 3.3029 - val_loss: 3.4261\n",
      "Epoch 161/200\n",
      "3/3 [==============================] - 0s 25ms/step - loss: 3.3086 - val_loss: 3.1526\n",
      "Epoch 162/200\n",
      "3/3 [==============================] - 0s 23ms/step - loss: 3.0963 - val_loss: 2.9415\n",
      "Epoch 163/200\n"
     ]
    },
    {
     "name": "stdout",
     "output_type": "stream",
     "text": [
      "3/3 [==============================] - 0s 28ms/step - loss: 3.1417 - val_loss: 3.0134\n",
      "Epoch 164/200\n",
      "3/3 [==============================] - 0s 16ms/step - loss: 3.0940 - val_loss: 3.1030\n",
      "Epoch 165/200\n",
      "3/3 [==============================] - 0s 24ms/step - loss: 3.0616 - val_loss: 3.3175\n",
      "Epoch 166/200\n",
      "3/3 [==============================] - 0s 17ms/step - loss: 3.0942 - val_loss: 3.0793\n",
      "Epoch 167/200\n",
      "3/3 [==============================] - 0s 21ms/step - loss: 3.1215 - val_loss: 3.0235\n",
      "Epoch 168/200\n",
      "3/3 [==============================] - 0s 16ms/step - loss: 2.9985 - val_loss: 2.9328\n",
      "Epoch 169/200\n",
      "3/3 [==============================] - 0s 17ms/step - loss: 3.0870 - val_loss: 3.1579\n",
      "Epoch 170/200\n",
      "3/3 [==============================] - 0s 18ms/step - loss: 3.1727 - val_loss: 3.0241\n",
      "Epoch 171/200\n",
      "3/3 [==============================] - 0s 21ms/step - loss: 3.1643 - val_loss: 3.0028\n",
      "Epoch 172/200\n",
      "3/3 [==============================] - 0s 17ms/step - loss: 3.1548 - val_loss: 3.3864\n",
      "Epoch 173/200\n",
      "3/3 [==============================] - 0s 18ms/step - loss: 3.1811 - val_loss: 2.8582\n",
      "Epoch 174/200\n",
      "3/3 [==============================] - 0s 23ms/step - loss: 3.1512 - val_loss: 3.0891\n",
      "Epoch 175/200\n",
      "3/3 [==============================] - 0s 16ms/step - loss: 3.1086 - val_loss: 3.0489\n",
      "Epoch 176/200\n",
      "3/3 [==============================] - 0s 16ms/step - loss: 3.0729 - val_loss: 3.1004\n",
      "Epoch 177/200\n",
      "3/3 [==============================] - 0s 21ms/step - loss: 2.9511 - val_loss: 2.9648\n",
      "Epoch 178/200\n",
      "3/3 [==============================] - 0s 20ms/step - loss: 2.9826 - val_loss: 2.9267\n",
      "Epoch 179/200\n",
      "3/3 [==============================] - 0s 26ms/step - loss: 2.9329 - val_loss: 2.9187\n",
      "Epoch 180/200\n",
      "3/3 [==============================] - 0s 31ms/step - loss: 2.9477 - val_loss: 2.8949\n",
      "Epoch 181/200\n",
      "3/3 [==============================] - 0s 35ms/step - loss: 2.9030 - val_loss: 2.9606\n",
      "Epoch 182/200\n",
      "3/3 [==============================] - 0s 32ms/step - loss: 2.9427 - val_loss: 2.9266\n",
      "Epoch 183/200\n",
      "3/3 [==============================] - 0s 48ms/step - loss: 2.9052 - val_loss: 2.8971\n",
      "Epoch 184/200\n",
      "3/3 [==============================] - 0s 46ms/step - loss: 2.8922 - val_loss: 2.8745\n",
      "Epoch 185/200\n",
      "3/3 [==============================] - 0s 48ms/step - loss: 2.9010 - val_loss: 2.8955\n",
      "Epoch 186/200\n",
      "3/3 [==============================] - 0s 76ms/step - loss: 2.8622 - val_loss: 2.8612\n",
      "Epoch 187/200\n",
      "3/3 [==============================] - 0s 48ms/step - loss: 2.8674 - val_loss: 2.9022\n",
      "Epoch 188/200\n",
      "3/3 [==============================] - 0s 35ms/step - loss: 2.8282 - val_loss: 2.8775\n",
      "Epoch 189/200\n",
      "3/3 [==============================] - 0s 49ms/step - loss: 2.8526 - val_loss: 2.8952\n",
      "Epoch 190/200\n",
      "3/3 [==============================] - 0s 39ms/step - loss: 2.8322 - val_loss: 2.8923\n",
      "Epoch 191/200\n",
      "3/3 [==============================] - 0s 33ms/step - loss: 2.8239 - val_loss: 2.8470\n",
      "Epoch 192/200\n",
      "3/3 [==============================] - 0s 39ms/step - loss: 2.7870 - val_loss: 2.8670\n",
      "Epoch 193/200\n",
      "3/3 [==============================] - 0s 46ms/step - loss: 2.8032 - val_loss: 2.8680\n",
      "Epoch 194/200\n",
      "3/3 [==============================] - 0s 45ms/step - loss: 2.7832 - val_loss: 2.8285\n",
      "Epoch 195/200\n",
      "3/3 [==============================] - 0s 45ms/step - loss: 2.7825 - val_loss: 2.8256\n",
      "Epoch 196/200\n",
      "3/3 [==============================] - 0s 50ms/step - loss: 2.7787 - val_loss: 2.8579\n",
      "Epoch 197/200\n",
      "3/3 [==============================] - 0s 44ms/step - loss: 2.7644 - val_loss: 2.8218\n",
      "Epoch 198/200\n",
      "3/3 [==============================] - 0s 36ms/step - loss: 2.7506 - val_loss: 2.8198\n",
      "Epoch 199/200\n",
      "3/3 [==============================] - 0s 44ms/step - loss: 2.7444 - val_loss: 2.8613\n",
      "Epoch 200/200\n",
      "3/3 [==============================] - 0s 48ms/step - loss: 2.7449 - val_loss: 2.8063\n"
     ]
    }
   ],
   "source": [
    "history = model.fit(X_train, y_train, epochs=200,\n",
    "                    validation_data=(X_valid, y_valid))"
   ]
  },
  {
   "cell_type": "code",
   "execution_count": 72,
   "id": "0b29d35c",
   "metadata": {
    "scrolled": true
   },
   "outputs": [],
   "source": [
    "# history = model.fit(X_train, y_train, epochs=145,\n",
    "#                     validation_data=(X_valid, y_valid), callbacks=[lr_scheduler])"
   ]
  },
  {
   "cell_type": "code",
   "execution_count": 73,
   "id": "28215732",
   "metadata": {},
   "outputs": [
    {
     "name": "stdout",
     "output_type": "stream",
     "text": [
      "Saving figure grid_Gaussian_training_curve\n"
     ]
    },
    {
     "data": {
      "image/png": "[encoded data removed]",
      "text/plain": [
       "<Figure size 576x360 with 1 Axes>"
      ]
     },
     "metadata": {
      "needs_background": "light"
     },
     "output_type": "display_data"
    }
   ],
   "source": [
    "import pandas as pd\n",
    "\n",
    "# print(history.history)\n",
    "try:\n",
    "    lr_list = history.history[\"lr\"]\n",
    "    del(history.history[\"lr\"])\n",
    "except:\n",
    "    pass\n",
    "\n",
    "pd.DataFrame(history.history)[50:].plot(figsize=(8, 5))\n",
    "plt.grid(True)\n",
    "# plt.gca().set_ylim(0, 1)\n",
    "save_fig(\"grid_Gaussian_training_curve\")\n",
    "plt.show()"
   ]
  },
  {
   "cell_type": "code",
   "execution_count": 74,
   "id": "47d362c9",
   "metadata": {
    "scrolled": true
   },
   "outputs": [
    {
     "name": "stdout",
     "output_type": "stream",
     "text": [
      "X.shape = (None, 1)\n",
      "gauss_grid.shape = (None, 5)\n",
      "Saving figure grid_Gaussian_prediction\n"
     ]
    },
    {
     "data": {
      "image/png": "[encoded data removed]",
      "text/plain": [
       "<Figure size 432x288 with 1 Axes>"
      ]
     },
     "metadata": {
      "needs_background": "light"
     },
     "output_type": "display_data"
    }
   ],
   "source": [
    "# plt.plot(X_train, y_train, \"b.\")\n",
    "draw_points(X_train, y_train, sid_train)\n",
    "draw_func((lambda X: model.predict(X)[:,0] ), mark='r-', linewidth=2, label=\"Predictions\")\n",
    "draw_normal_func(func_dict)\n",
    "plt.xlabel(\"$x_1$\", fontsize=18)\n",
    "plt.ylabel(\"$y$\", rotation=0, fontsize=18)\n",
    "plt.legend(loc=\"upper left\", fontsize=14)\n",
    "# plt.axis([-3, 3, 0, 10])\n",
    "save_fig(\"grid_Gaussian_prediction\")\n",
    "plt.show()"
   ]
  },
  {
   "cell_type": "code",
   "execution_count": 75,
   "id": "a85a5159",
   "metadata": {},
   "outputs": [
    {
     "name": "stdout",
     "output_type": "stream",
     "text": [
      "y_func.shape = (100, 1)\n",
      "y_gt.shape = (100, 1)\n"
     ]
    },
    {
     "data": {
      "text/plain": [
       "3.6010904187709234"
      ]
     },
     "execution_count": 75,
     "metadata": {},
     "output_type": "execute_result"
    }
   ],
   "source": [
    "get_prediction_error((lambda X: model.predict(X)[:,0] ), func_dict, name=\"grid-oneGaussian\")"
   ]
  },
  {
   "cell_type": "markdown",
   "id": "9ca1e36d",
   "metadata": {},
   "source": [
    "### Draw the 1-sigma boundary line"
   ]
  },
  {
   "cell_type": "code",
   "execution_count": 76,
   "id": "a04a47fa",
   "metadata": {},
   "outputs": [
    {
     "name": "stdout",
     "output_type": "stream",
     "text": [
      "Saving figure grid_Gaussian_1sigma\n"
     ]
    },
    {
     "data": {
      "image/png": "[encoded data removed]",
      "text/plain": [
       "<Figure size 432x288 with 1 Axes>"
      ]
     },
     "metadata": {
      "needs_background": "light"
     },
     "output_type": "display_data"
    }
   ],
   "source": [
    "def n_sigma_boundary_line(X, n):\n",
    "    _y = model.predict(X)\n",
    "    _mean, _z = _y[:,0:1], _y[:,1:2]\n",
    "    _sigma = np.exp(alpha*_z)\n",
    "    return( _mean + n*_sigma)\n",
    "\n",
    "# plt.plot(X_train, y_train, \"b.\")\n",
    "draw_points(X_train, y_train, sid_train)\n",
    "#\n",
    "draw_func((lambda X: model.predict(X)[:,0] ), mark='r-', linewidth=2, label=\"Predictions\")\n",
    "draw_func((lambda X: n_sigma_boundary_line(X, +1.0) ), mark='k--', linewidth=1, label=\"$\\mu+\\sigma$\")\n",
    "draw_func((lambda X: n_sigma_boundary_line(X, -1.0) ), mark='k--', linewidth=1, label=\"$\\mu-\\sigma$\")\n",
    "#\n",
    "draw_normal_func(func_dict)\n",
    "plt.xlabel(\"$x_1$\", fontsize=18)\n",
    "plt.ylabel(\"$y$\", rotation=0, fontsize=18)\n",
    "plt.legend(loc=\"upper left\", fontsize=14)\n",
    "# plt.axis([-3, 3, 0, 10])\n",
    "save_fig(\"grid_Gaussian_1sigma\")\n",
    "plt.show()"
   ]
  },
  {
   "cell_type": "markdown",
   "id": "1cdb8a83",
   "metadata": {},
   "source": [
    "# Per-subject Bias/Property Learning"
   ]
  },
  {
   "cell_type": "code",
   "execution_count": 77,
   "id": "0a429b42",
   "metadata": {},
   "outputs": [],
   "source": [
    "# Create a custom layer for estimating bais for each subject\n",
    "class SubjectBias(keras.layers.Layer):\n",
    "    def __init__(self, num_subject, bias_scale=1.0, mean_reg_rate=1.0, activation=None, **kwargs):\n",
    "        super().__init__(**kwargs)\n",
    "        self.num_subject = num_subject\n",
    "        self.bias_scale = bias_scale\n",
    "        self.mean_reg_rate = mean_reg_rate if mean_reg_rate >= 0.0 else 0.0\n",
    "        #\n",
    "        self.X_shape = None\n",
    "        self.activation = keras.activations.get(activation)\n",
    "        \n",
    "    def build(self, batch_input_shape):\n",
    "        self.X_shape = batch_input_shape[0]\n",
    "        # Initiate a trainable vector as the bias for X\n",
    "        \"\"\"\n",
    "        bias: (num_subject, X_shape[1], X_shape[2], ...)\n",
    "        \"\"\"\n",
    "        self.bias = self.add_weight(name=\"bias\", \n",
    "                                    shape=([self.num_subject] + self.X_shape[1:]), \n",
    "                                    initializer=\"zeros\")\n",
    "        super().build(batch_input_shape) # must be at the end\n",
    "        \n",
    "    def get_bias(self, sid):\n",
    "        '''\n",
    "        A helper function for retriving the bias according to the given sid.\n",
    "        Note: sid starts from 1.\n",
    "        Note2: this is the bias added to X, which are scaled by self.bias_scale\n",
    "        '''\n",
    "        if sid > self.num_subject or sid <= 0: # Out of bound, index not in range\n",
    "            return tf.zeros(self.X_shape[1:])\n",
    "        else:\n",
    "            return self.bias_scale * self.bias[tf.cast(sid-1, tf.int32),:]\n",
    "        \n",
    "    def get_scaled_biases_np(self):\n",
    "        return self.bias_scale * self.bias.numpy()\n",
    "        \n",
    "    def call(self, X_sid, training=None):\n",
    "        '''\n",
    "        X_sid = [X, sid]\n",
    "        Input shape:  X: (batch, ...), sid: (batch, 1)\n",
    "        Output shape: (batch, ...)\n",
    "        '''\n",
    "        X, SID = X_sid\n",
    "        X_shape = X.shape\n",
    "        print(\"X.shape = %s\" % X.shape)\n",
    "        print(\"SID.shape = %s\" % SID.shape)\n",
    "        \n",
    "        # Add bias\n",
    "        y = X + self.bias_scale * tf.gather(self.bias, SID[:,0]-1, axis=0)\n",
    "        \n",
    "        # Add a loss on the means in order to force them to become zeros\n",
    "        if self.mean_reg_rate > 0.0:\n",
    "            # Calculate the mean of all biases (on each dimension)\n",
    "            bias_means = tf.reduce_mean(self.bias, axis=0)\n",
    "            # MAE of means on all dimensions\n",
    "            self.add_loss( self.mean_reg_rate * tf.reduce_sum(tf.abs(bias_means)) )\n",
    "        \n",
    "        return self.activation(y)\n",
    "        \n",
    "#         if training:    \n",
    "#             # Add biases according to the sid of each instance\n",
    "#             # Note: a corner case is not handeled that if there exist out-of-range sid.\n",
    "#             # y = X + self.bias[tf.cast(SID[:,0]-1, tf.int32),:]\n",
    "#             # y = X + self.bias[ SID[:,0]-1,:]\n",
    "#             y = X + tf.gather(self.bias, SID[:,0]-1, axis=0)\n",
    "#             return self.activation(y)\n",
    "#         else: # If it's not trainig, just output the original X without adding bias\n",
    "#             return self.activation(X_sid[0])\n",
    "    \n",
    "    def compute_output_shape(self, batch_input_shape):\n",
    "        # Note: the same shape as the first input\n",
    "        return batch_input_shape[0]\n",
    "    \n",
    "    def get_config(self):\n",
    "        base_config = super().get_config()\n",
    "        return {**base_config, \n",
    "                \"num_subject\": self.num_subject,\n",
    "                \"bias_scale\": self.bias_scale,\n",
    "                \"mean_reg_rate\": self.mean_reg_rate,\n",
    "                \"activation\": keras.activations.serialize(self.activation)}"
   ]
  },
  {
   "cell_type": "code",
   "execution_count": 78,
   "id": "8d90e89f",
   "metadata": {},
   "outputs": [],
   "source": [
    "# Create a custom layer for estimating linear transform for each subject\n",
    "# We only assume 1D lear transform on each input dimension separately. (assume value on each dimension are independent to others.)\n",
    "# 1D linear transform: yi = wi * xi + bi\n",
    "class SubjectLinearTransform1D(keras.layers.Layer):\n",
    "    def __init__(self, num_subject, bias_scale=1.0, weight_mean_reg_rate=1.0, bias_mean_reg_rate=1.0, activation=None, **kwargs):\n",
    "        super().__init__(**kwargs)\n",
    "        self.num_subject = num_subject\n",
    "        self.bias_scale = bias_scale\n",
    "        self.weight_mean_reg_rate = weight_mean_reg_rate if weight_mean_reg_rate >= 0.0 else 0.0\n",
    "        self.bias_mean_reg_rate = bias_mean_reg_rate if bias_mean_reg_rate >= 0.0 else 0.0\n",
    "        #\n",
    "        self.X_shape = None\n",
    "        self.activation = keras.activations.get(activation)\n",
    "        \n",
    "    def build(self, batch_input_shape):\n",
    "        self.X_shape = batch_input_shape[0]\n",
    "        # Initiate a trainable vector as the bias for X\n",
    "        \"\"\"\n",
    "        bias: (num_subject, X_shape[1], X_shape[2], ...)\n",
    "        \"\"\"\n",
    "        self.weight = self.add_weight(name=\"weight\", \n",
    "                                    shape=([self.num_subject] + self.X_shape[1:]), \n",
    "                                    initializer=\"ones\")\n",
    "        self.bias = self.add_weight(name=\"bias\", \n",
    "                                    shape=([self.num_subject] + self.X_shape[1:]), \n",
    "                                    initializer=\"zeros\")\n",
    "        super().build(batch_input_shape) # must be at the end\n",
    "        \n",
    "    def get_bias(self, sid):\n",
    "        '''\n",
    "        A helper function for retriving the bias according to the given sid.\n",
    "        Note: sid starts from 1.\n",
    "        Note2: this is the bias added to X, which are scaled by self.bias_scale\n",
    "        '''\n",
    "        if sid > self.num_subject or sid <= 0: # Out of bound, index not in range\n",
    "            return tf.zeros(self.X_shape[1:])\n",
    "        else:\n",
    "            return self.bias_scale * self.bias[tf.cast(sid-1, tf.int32),:]\n",
    "        \n",
    "    def get_scaled_biases_np(self):\n",
    "        return self.bias_scale * self.bias.numpy()\n",
    "    \n",
    "    def get_weights_np(self):\n",
    "        return self.weight.numpy()\n",
    "        \n",
    "    def call(self, X_sid, training=None):\n",
    "        '''\n",
    "        X_sid = [X, sid]\n",
    "        Input shape:  X: (batch, ...), sid: (batch, 1)\n",
    "        Output shape: (batch, ...)\n",
    "        '''\n",
    "        X, SID = X_sid\n",
    "        X_shape = X.shape\n",
    "        print(\"X.shape = %s\" % X.shape)\n",
    "        print(\"SID.shape = %s\" % SID.shape)\n",
    "        \n",
    "        # Element-wise multiplication of weights and addition of biases\n",
    "        y = tf.gather(self.weight, SID[:,0]-1, axis=0) * X + self.bias_scale * tf.gather(self.bias, SID[:,0]-1, axis=0)\n",
    "        \n",
    "        # Add a loss on the means in order to force them to become zeros\n",
    "        if self.weight_mean_reg_rate > 0.0 or self.bias_mean_reg_rate > 0.0:\n",
    "            # Calculate the mean of all weights and biases (on each dimension separately)\n",
    "            weight_means = tf.reduce_mean(self.weight, axis=0)\n",
    "            bias_means = tf.reduce_mean(self.bias, axis=0)\n",
    "            # MAE of means on all dimensions\n",
    "            self.add_loss( self.weight_mean_reg_rate * tf.reduce_sum(tf.abs(weight_means - 1.0)) ) # Should close to 1.0\n",
    "            self.add_loss( self.bias_mean_reg_rate * tf.reduce_sum(tf.abs(bias_means)) )\n",
    "        \n",
    "        return self.activation(y)\n",
    "    \n",
    "    def compute_output_shape(self, batch_input_shape):\n",
    "        # Note: the same shape as the first input\n",
    "        return batch_input_shape[0]\n",
    "    \n",
    "    def get_config(self):\n",
    "        base_config = super().get_config()\n",
    "        return {**base_config, \n",
    "                \"num_subject\": self.num_subject,\n",
    "                \"bias_scale\": self.bias_scale,\n",
    "                \"weight_mean_reg_rate\": self.weight_mean_reg_rate,\n",
    "                \"bias_mean_reg_rate\": self.bias_mean_reg_rate,\n",
    "                \"activation\": keras.activations.serialize(self.activation)}"
   ]
  },
  {
   "cell_type": "markdown",
   "id": "00220bd0",
   "metadata": {},
   "source": [
    "Number of subjects"
   ]
  },
  {
   "cell_type": "code",
   "execution_count": 79,
   "id": "fa925d83",
   "metadata": {},
   "outputs": [],
   "source": [
    "# Number of subjects\n",
    "num_subject = multiout_type"
   ]
  },
  {
   "cell_type": "markdown",
   "id": "37e02154",
   "metadata": {},
   "source": [
    "Build two models"
   ]
  },
  {
   "cell_type": "code",
   "execution_count": 80,
   "id": "05766d44",
   "metadata": {},
   "outputs": [
    {
     "name": "stdout",
     "output_type": "stream",
     "text": [
      "X.shape = (None, 1)\n",
      "gauss_grid.shape = (None, 5)\n",
      "X.shape = (None, 1)\n",
      "SID.shape = (None, 1)\n"
     ]
    }
   ],
   "source": [
    "inputs = keras.layers.Input(shape=X_train.shape[1:])\n",
    "inputs_sid = keras.layers.Input(shape=(1,), dtype=tf.int32)\n",
    "#\n",
    "z = num2grid(5,x_min=-10, x_max=10, sigma=3.0)(inputs)\n",
    "z = keras.layers.Dense(30, activation=\"relu\")(z)\n",
    "output = keras.layers.Dense(1)(z)\n",
    "# output_biased = SubjectBias(num_subject, bias_scale=10.0, mean_reg_rate=1.0, name=\"bias_est\")([output, inputs_sid])\n",
    "output_biased = SubjectLinearTransform1D(num_subject, bias_scale=10.0, weight_mean_reg_rate=5.0, bias_mean_reg_rate=1.0, name=\"bias_est\")([output, inputs_sid])\n",
    "# Setup models\n",
    "model = keras.Model(inputs=[inputs], outputs=[output]) # pure\n",
    "model_biased = keras.Model(inputs=[inputs, inputs_sid], outputs=[output_biased]) # biased, for training"
   ]
  },
  {
   "cell_type": "code",
   "execution_count": 81,
   "id": "6da7e9b1",
   "metadata": {},
   "outputs": [
    {
     "name": "stderr",
     "output_type": "stream",
     "text": [
      "C:\\Users\\benso\\anaconda3\\envs\\ml\\lib\\site-packages\\keras\\optimizer_v2\\adam.py:105: UserWarning: The `lr` argument is deprecated, use `learning_rate` instead.\n",
      "  super(Adam, self).__init__(name, **kwargs)\n"
     ]
    }
   ],
   "source": [
    "# optimizer = keras.optimizers.SGD(lr=0.001, momentum=0.9)\n",
    "# model.compile(loss=\"mean_squared_error\", optimizer=optimizer)\n",
    "optimizer = keras.optimizers.Adam(lr=0.1)\n",
    "model_biased.compile(loss=\"mean_absolute_error\", optimizer=optimizer)\n",
    "#\n",
    "# model.compile(loss=\"mean_absolute_error\", optimizer=optimizer) # No need to compile this if it's not going to be trained."
   ]
  },
  {
   "cell_type": "code",
   "execution_count": 82,
   "id": "700a6e39",
   "metadata": {
    "scrolled": true
   },
   "outputs": [
    {
     "name": "stdout",
     "output_type": "stream",
     "text": [
      "Epoch 1/100\n",
      "X.shape = (None, 1)\n",
      "gauss_grid.shape = (None, 5)\n",
      "X.shape = (None, 1)\n",
      "SID.shape = (None, 1)\n",
      "X.shape = (None, 1)\n",
      "gauss_grid.shape = (None, 5)\n",
      "X.shape = (None, 1)\n",
      "SID.shape = (None, 1)\n",
      "1/3 [=========>....................] - ETA: 3s - loss: 38.6343X.shape = (None, 1)\n",
      "gauss_grid.shape = (None, 5)\n",
      "X.shape = (None, 1)\n",
      "SID.shape = (None, 1)\n",
      "3/3 [==============================] - 2s 254ms/step - loss: 41.7362 - val_loss: 33.3078\n",
      "Epoch 2/100\n",
      "3/3 [==============================] - 0s 56ms/step - loss: 39.4362 - val_loss: 29.5569\n",
      "Epoch 3/100\n",
      "3/3 [==============================] - 0s 58ms/step - loss: 34.7361 - val_loss: 24.1117\n",
      "Epoch 4/100\n",
      "3/3 [==============================] - 0s 67ms/step - loss: 27.5669 - val_loss: 16.4257\n",
      "Epoch 5/100\n",
      "3/3 [==============================] - 0s 59ms/step - loss: 17.2974 - val_loss: 9.7912\n",
      "Epoch 6/100\n",
      "3/3 [==============================] - 0s 50ms/step - loss: 16.2967 - val_loss: 10.3932\n",
      "Epoch 7/100\n",
      "3/3 [==============================] - 0s 40ms/step - loss: 17.2519 - val_loss: 8.4637\n",
      "Epoch 8/100\n",
      "3/3 [==============================] - 0s 54ms/step - loss: 13.8609 - val_loss: 9.4593\n",
      "Epoch 9/100\n",
      "3/3 [==============================] - 0s 69ms/step - loss: 12.2971 - val_loss: 8.0029\n",
      "Epoch 10/100\n",
      "3/3 [==============================] - 0s 40ms/step - loss: 12.4716 - val_loss: 6.8237\n",
      "Epoch 11/100\n",
      "3/3 [==============================] - 0s 39ms/step - loss: 11.0393 - val_loss: 6.9399\n",
      "Epoch 12/100\n",
      "3/3 [==============================] - 0s 51ms/step - loss: 10.2861 - val_loss: 7.1129\n",
      "Epoch 13/100\n",
      "3/3 [==============================] - 0s 48ms/step - loss: 9.8599 - val_loss: 5.2915\n",
      "Epoch 14/100\n",
      "3/3 [==============================] - 0s 45ms/step - loss: 9.8993 - val_loss: 6.2224\n",
      "Epoch 15/100\n",
      "3/3 [==============================] - 0s 45ms/step - loss: 9.5702 - val_loss: 5.4564\n",
      "Epoch 16/100\n",
      "3/3 [==============================] - 0s 47ms/step - loss: 9.1642 - val_loss: 6.1174\n",
      "Epoch 17/100\n",
      "3/3 [==============================] - 0s 48ms/step - loss: 9.0289 - val_loss: 5.2397\n",
      "Epoch 18/100\n",
      "3/3 [==============================] - 0s 43ms/step - loss: 8.6460 - val_loss: 4.7941\n",
      "Epoch 19/100\n",
      "3/3 [==============================] - 0s 38ms/step - loss: 8.0742 - val_loss: 4.7730\n",
      "Epoch 20/100\n",
      "3/3 [==============================] - 0s 39ms/step - loss: 7.5514 - val_loss: 4.6092\n",
      "Epoch 21/100\n",
      "3/3 [==============================] - 0s 41ms/step - loss: 7.2959 - val_loss: 4.5326\n",
      "Epoch 22/100\n",
      "3/3 [==============================] - 0s 40ms/step - loss: 7.1134 - val_loss: 4.3468\n",
      "Epoch 23/100\n",
      "3/3 [==============================] - 0s 43ms/step - loss: 6.7595 - val_loss: 4.2011\n",
      "Epoch 24/100\n",
      "3/3 [==============================] - 0s 48ms/step - loss: 6.3589 - val_loss: 4.3232\n",
      "Epoch 25/100\n",
      "3/3 [==============================] - 0s 51ms/step - loss: 6.4115 - val_loss: 4.0863\n",
      "Epoch 26/100\n",
      "3/3 [==============================] - 0s 54ms/step - loss: 6.2187 - val_loss: 3.8930\n",
      "Epoch 27/100\n",
      "3/3 [==============================] - 0s 59ms/step - loss: 5.6763 - val_loss: 5.1132\n",
      "Epoch 28/100\n",
      "3/3 [==============================] - 0s 39ms/step - loss: 5.8793 - val_loss: 4.0243\n",
      "Epoch 29/100\n",
      "3/3 [==============================] - 0s 49ms/step - loss: 5.1280 - val_loss: 4.0565\n",
      "Epoch 30/100\n",
      "3/3 [==============================] - 0s 49ms/step - loss: 4.8369 - val_loss: 4.0990\n",
      "Epoch 31/100\n",
      "3/3 [==============================] - 0s 49ms/step - loss: 4.4296 - val_loss: 4.5225\n",
      "Epoch 32/100\n",
      "3/3 [==============================] - 0s 38ms/step - loss: 4.2798 - val_loss: 3.6274\n",
      "Epoch 33/100\n",
      "3/3 [==============================] - 0s 39ms/step - loss: 4.1865 - val_loss: 3.9381\n",
      "Epoch 34/100\n",
      "3/3 [==============================] - 0s 23ms/step - loss: 3.6053 - val_loss: 3.6127\n",
      "Epoch 35/100\n",
      "3/3 [==============================] - 0s 31ms/step - loss: 3.7291 - val_loss: 3.2265\n",
      "Epoch 36/100\n",
      "3/3 [==============================] - 0s 33ms/step - loss: 3.3685 - val_loss: 3.1613\n",
      "Epoch 37/100\n",
      "3/3 [==============================] - 0s 46ms/step - loss: 3.2090 - val_loss: 2.8150\n",
      "Epoch 38/100\n",
      "3/3 [==============================] - 0s 37ms/step - loss: 2.8554 - val_loss: 2.3183\n",
      "Epoch 39/100\n",
      "3/3 [==============================] - 0s 39ms/step - loss: 2.7110 - val_loss: 3.1144\n",
      "Epoch 40/100\n",
      "3/3 [==============================] - 0s 40ms/step - loss: 3.0838 - val_loss: 3.6833\n",
      "Epoch 41/100\n",
      "3/3 [==============================] - 0s 50ms/step - loss: 3.3662 - val_loss: 4.5932\n",
      "Epoch 42/100\n",
      "3/3 [==============================] - 0s 35ms/step - loss: 4.1078 - val_loss: 4.4374\n",
      "Epoch 43/100\n",
      "3/3 [==============================] - 0s 47ms/step - loss: 5.4421 - val_loss: 4.1535\n",
      "Epoch 44/100\n",
      "3/3 [==============================] - 0s 52ms/step - loss: 4.1490 - val_loss: 2.9523\n",
      "Epoch 45/100\n",
      "3/3 [==============================] - 0s 44ms/step - loss: 3.5825 - val_loss: 2.9246\n",
      "Epoch 46/100\n",
      "3/3 [==============================] - 0s 42ms/step - loss: 3.5548 - val_loss: 3.0362\n",
      "Epoch 47/100\n",
      "3/3 [==============================] - 0s 64ms/step - loss: 3.3400 - val_loss: 2.7146\n",
      "Epoch 48/100\n",
      "3/3 [==============================] - 0s 54ms/step - loss: 2.9892 - val_loss: 2.7982\n",
      "Epoch 49/100\n",
      "3/3 [==============================] - 0s 55ms/step - loss: 3.3619 - val_loss: 2.8280\n",
      "Epoch 50/100\n",
      "3/3 [==============================] - 0s 54ms/step - loss: 3.1689 - val_loss: 2.8032\n",
      "Epoch 51/100\n",
      "3/3 [==============================] - 0s 50ms/step - loss: 2.9233 - val_loss: 2.5802\n",
      "Epoch 52/100\n",
      "3/3 [==============================] - 0s 44ms/step - loss: 2.7680 - val_loss: 2.4603\n",
      "Epoch 53/100\n",
      "3/3 [==============================] - 0s 43ms/step - loss: 2.4525 - val_loss: 3.4125\n",
      "Epoch 54/100\n",
      "3/3 [==============================] - 0s 59ms/step - loss: 3.1037 - val_loss: 2.8605\n",
      "Epoch 55/100\n",
      "3/3 [==============================] - 0s 49ms/step - loss: 3.1628 - val_loss: 3.1053\n",
      "Epoch 56/100\n",
      "3/3 [==============================] - 0s 50ms/step - loss: 3.6628 - val_loss: 4.0059\n",
      "Epoch 57/100\n",
      "3/3 [==============================] - 0s 47ms/step - loss: 3.6971 - val_loss: 2.7486\n",
      "Epoch 58/100\n",
      "3/3 [==============================] - 0s 45ms/step - loss: 2.8272 - val_loss: 3.6735\n",
      "Epoch 59/100\n",
      "3/3 [==============================] - 0s 46ms/step - loss: 3.0915 - val_loss: 4.0708\n",
      "Epoch 60/100\n",
      "3/3 [==============================] - 0s 50ms/step - loss: 4.4610 - val_loss: 3.2543\n",
      "Epoch 61/100\n",
      "3/3 [==============================] - 0s 52ms/step - loss: 5.0847 - val_loss: 4.3062\n",
      "Epoch 62/100\n",
      "3/3 [==============================] - 0s 43ms/step - loss: 4.4543 - val_loss: 3.1970\n",
      "Epoch 63/100\n",
      "3/3 [==============================] - 0s 40ms/step - loss: 3.6087 - val_loss: 3.8043\n",
      "Epoch 64/100\n",
      "3/3 [==============================] - 0s 44ms/step - loss: 3.5652 - val_loss: 4.1396\n",
      "Epoch 65/100\n",
      "3/3 [==============================] - 0s 48ms/step - loss: 3.7595 - val_loss: 3.0898\n",
      "Epoch 66/100\n",
      "3/3 [==============================] - 0s 47ms/step - loss: 3.6779 - val_loss: 3.0671\n",
      "Epoch 67/100\n",
      "3/3 [==============================] - 0s 48ms/step - loss: 2.8433 - val_loss: 3.3985\n",
      "Epoch 68/100\n",
      "3/3 [==============================] - 0s 48ms/step - loss: 4.3391 - val_loss: 2.8884\n",
      "Epoch 69/100\n",
      "3/3 [==============================] - 0s 53ms/step - loss: 3.4984 - val_loss: 2.5454\n",
      "Epoch 70/100\n",
      "3/3 [==============================] - 0s 51ms/step - loss: 3.2285 - val_loss: 2.7092\n",
      "Epoch 71/100\n",
      "3/3 [==============================] - 0s 54ms/step - loss: 3.3763 - val_loss: 2.6995\n",
      "Epoch 72/100\n",
      "3/3 [==============================] - 0s 60ms/step - loss: 2.8543 - val_loss: 2.8099\n",
      "Epoch 73/100\n",
      "3/3 [==============================] - 0s 46ms/step - loss: 3.0416 - val_loss: 2.7844\n",
      "Epoch 74/100\n",
      "3/3 [==============================] - 0s 17ms/step - loss: 2.9550 - val_loss: 2.8382\n",
      "Epoch 75/100\n",
      "3/3 [==============================] - 0s 20ms/step - loss: 3.0964 - val_loss: 2.8223\n",
      "Epoch 76/100\n",
      "3/3 [==============================] - 0s 40ms/step - loss: 2.8515 - val_loss: 3.1016\n",
      "Epoch 77/100\n",
      "3/3 [==============================] - 0s 48ms/step - loss: 3.1507 - val_loss: 3.2002\n",
      "Epoch 78/100\n",
      "3/3 [==============================] - 0s 38ms/step - loss: 3.3931 - val_loss: 2.6751\n",
      "Epoch 79/100\n",
      "3/3 [==============================] - 0s 52ms/step - loss: 3.4349 - val_loss: 2.5588\n",
      "Epoch 80/100\n"
     ]
    },
    {
     "name": "stdout",
     "output_type": "stream",
     "text": [
      "3/3 [==============================] - 0s 49ms/step - loss: 2.6951 - val_loss: 2.9744\n",
      "Epoch 81/100\n",
      "3/3 [==============================] - 0s 49ms/step - loss: 4.2343 - val_loss: 4.9778\n",
      "Epoch 82/100\n",
      "3/3 [==============================] - 0s 61ms/step - loss: 3.7686 - val_loss: 2.4333\n",
      "Epoch 83/100\n",
      "3/3 [==============================] - 0s 32ms/step - loss: 2.8315 - val_loss: 2.8293\n",
      "Epoch 84/100\n",
      "3/3 [==============================] - 0s 31ms/step - loss: 3.0778 - val_loss: 2.3804\n",
      "Epoch 85/100\n",
      "3/3 [==============================] - 0s 56ms/step - loss: 2.5398 - val_loss: 2.4611\n",
      "Epoch 86/100\n",
      "3/3 [==============================] - 0s 41ms/step - loss: 2.4974 - val_loss: 2.3155\n",
      "Epoch 87/100\n",
      "3/3 [==============================] - 0s 40ms/step - loss: 2.4648 - val_loss: 2.4497\n",
      "Epoch 88/100\n",
      "3/3 [==============================] - 0s 63ms/step - loss: 2.5142 - val_loss: 2.5594\n",
      "Epoch 89/100\n",
      "3/3 [==============================] - 0s 35ms/step - loss: 2.6979 - val_loss: 2.3737\n",
      "Epoch 90/100\n",
      "3/3 [==============================] - 0s 25ms/step - loss: 2.7693 - val_loss: 2.6541\n",
      "Epoch 91/100\n",
      "3/3 [==============================] - 0s 29ms/step - loss: 2.7409 - val_loss: 2.5985\n",
      "Epoch 92/100\n",
      "3/3 [==============================] - 0s 22ms/step - loss: 2.7563 - val_loss: 2.1565\n",
      "Epoch 93/100\n",
      "3/3 [==============================] - 0s 29ms/step - loss: 2.5483 - val_loss: 2.2155\n",
      "Epoch 94/100\n",
      "3/3 [==============================] - 0s 19ms/step - loss: 2.3780 - val_loss: 2.4619\n",
      "Epoch 95/100\n",
      "3/3 [==============================] - 0s 20ms/step - loss: 2.6098 - val_loss: 2.2445\n",
      "Epoch 96/100\n",
      "3/3 [==============================] - 0s 25ms/step - loss: 2.6357 - val_loss: 2.3486\n",
      "Epoch 97/100\n",
      "3/3 [==============================] - 0s 23ms/step - loss: 2.7312 - val_loss: 2.4453\n",
      "Epoch 98/100\n",
      "3/3 [==============================] - 0s 21ms/step - loss: 3.0182 - val_loss: 2.4738\n",
      "Epoch 99/100\n",
      "3/3 [==============================] - 0s 20ms/step - loss: 2.5933 - val_loss: 3.0083\n",
      "Epoch 100/100\n",
      "3/3 [==============================] - 0s 25ms/step - loss: 2.9443 - val_loss: 3.0439\n"
     ]
    }
   ],
   "source": [
    "history = model_biased.fit([X_train, sid_train], y_train, epochs=100,\n",
    "                    validation_data=([X_valid, sid_valid], y_valid))"
   ]
  },
  {
   "cell_type": "code",
   "execution_count": 83,
   "id": "ca149f05",
   "metadata": {},
   "outputs": [
    {
     "name": "stdout",
     "output_type": "stream",
     "text": [
      "Saving figure grid_noBiaseNum_training_curve\n"
     ]
    },
    {
     "data": {
      "image/png": "[encoded data removed]",
      "text/plain": [
       "<Figure size 576x360 with 1 Axes>"
      ]
     },
     "metadata": {
      "needs_background": "light"
     },
     "output_type": "display_data"
    }
   ],
   "source": [
    "import pandas as pd\n",
    "\n",
    "pd.DataFrame(history.history).plot(figsize=(8, 5))\n",
    "plt.grid(True)\n",
    "# plt.gca().set_ylim(0, 1)\n",
    "save_fig(\"grid_noBiaseNum_training_curve\")\n",
    "plt.show()"
   ]
  },
  {
   "cell_type": "markdown",
   "id": "2433c7a5",
   "metadata": {},
   "source": [
    "The pure prediction"
   ]
  },
  {
   "cell_type": "code",
   "execution_count": 84,
   "id": "556ee2c4",
   "metadata": {},
   "outputs": [
    {
     "name": "stdout",
     "output_type": "stream",
     "text": [
      "X.shape = (None, 1)\n",
      "gauss_grid.shape = (None, 5)\n",
      "Saving figure grid_noBaisNum_prediction\n"
     ]
    },
    {
     "data": {
      "image/png": "[encoded data removed]",
      "text/plain": [
       "<Figure size 432x288 with 1 Axes>"
      ]
     },
     "metadata": {
      "needs_background": "light"
     },
     "output_type": "display_data"
    }
   ],
   "source": [
    "draw_points(X_train, y_train, sid_train)\n",
    "draw_func(model.predict, mark='r-', linewidth=2, label=\"Predictions\")\n",
    "draw_normal_func(func_dict)\n",
    "plt.xlabel(\"$x_1$\", fontsize=18)\n",
    "plt.ylabel(\"$y$\", rotation=0, fontsize=18)\n",
    "plt.legend(loc=\"upper left\", fontsize=14)\n",
    "# plt.axis([-3, 3, 0, 10])\n",
    "save_fig(\"grid_noBaisNum_prediction\")\n",
    "plt.show()"
   ]
  },
  {
   "cell_type": "code",
   "execution_count": 85,
   "id": "4d3d77cd",
   "metadata": {},
   "outputs": [
    {
     "name": "stdout",
     "output_type": "stream",
     "text": [
      "y_func.shape = (100, 1)\n",
      "y_gt.shape = (100, 1)\n"
     ]
    },
    {
     "data": {
      "text/plain": [
       "1.7349026673378904"
      ]
     },
     "execution_count": 85,
     "metadata": {},
     "output_type": "execute_result"
    }
   ],
   "source": [
    "get_prediction_error(model.predict, func_dict, name=\"grid-noBiasNum\")"
   ]
  },
  {
   "cell_type": "markdown",
   "id": "b89b2413",
   "metadata": {},
   "source": [
    "### Biased Prediction (according to SID)"
   ]
  },
  {
   "cell_type": "code",
   "execution_count": 86,
   "id": "0893f75e",
   "metadata": {},
   "outputs": [
    {
     "name": "stdout",
     "output_type": "stream",
     "text": [
      "scaled_bias = \n",
      "[[-12.342283 ]\n",
      " [ 12.9157505]]\n",
      "\n",
      "mean_scaled_bias = \n",
      "[0.57346725]\n"
     ]
    }
   ],
   "source": [
    "scaled_bias = model_biased.get_layer(\"bias_est\").get_scaled_biases_np()\n",
    "mean_scaled_bias = np.sum(scaled_bias, axis=0)\n",
    "#\n",
    "print(\"scaled_bias = \\n%s\" % str(scaled_bias))\n",
    "print(\"\\nmean_scaled_bias = \\n%s\" % str(mean_scaled_bias))"
   ]
  },
  {
   "cell_type": "code",
   "execution_count": 87,
   "id": "01a675f7",
   "metadata": {},
   "outputs": [
    {
     "name": "stdout",
     "output_type": "stream",
     "text": [
      "output_scales = \n",
      "[[1.1501833]\n",
      " [0.8576956]]\n",
      "\n",
      "mean_scales = \n",
      "[1.0039394]\n"
     ]
    }
   ],
   "source": [
    "try:\n",
    "    output_scales = model_biased.get_layer(\"bias_est\").get_weights_np()\n",
    "    mean_scales = np.mean(output_scales, axis=0)\n",
    "    #\n",
    "    print(\"output_scales = \\n%s\" % str(output_scales))\n",
    "    print(\"\\nmean_scales = \\n%s\" % str(mean_scales))\n",
    "except:\n",
    "    pass"
   ]
  },
  {
   "cell_type": "code",
   "execution_count": 88,
   "id": "16460e63",
   "metadata": {},
   "outputs": [
    {
     "name": "stdout",
     "output_type": "stream",
     "text": [
      "X.shape = (None, 1)\n",
      "gauss_grid.shape = (None, 5)\n",
      "X.shape = (None, 1)\n",
      "SID.shape = (None, 1)\n",
      "Saving figure grid_noBaisNum_perSubjectCurve\n"
     ]
    },
    {
     "data": {
      "image/png": "[encoded data removed]",
      "text/plain": [
       "<Figure size 432x288 with 1 Axes>"
      ]
     },
     "metadata": {
      "needs_background": "light"
     },
     "output_type": "display_data"
    }
   ],
   "source": [
    "def predict_with_biase_sid(X, sid=1):\n",
    "    return model_biased.predict([X, tf.fill( (X.shape[0],1), sid)])\n",
    "\n",
    "draw_points(X_train, y_train, sid_train)\n",
    "#\n",
    "draw_func(model.predict, mark='r-', linewidth=2, label=\"Predictions\")\n",
    "for _idx in range(num_subject):\n",
    "    _sid = _idx + 1\n",
    "    draw_func(lambda X: predict_with_biase_sid(X, _sid), mark='k--', linewidth=1, label=(\"sid=%d\" % _sid))\n",
    "#\n",
    "draw_normal_func(func_dict)\n",
    "plt.xlabel(\"$x_1$\", fontsize=18)\n",
    "plt.ylabel(\"$y$\", rotation=0, fontsize=18)\n",
    "plt.legend(loc=\"upper left\", fontsize=14)\n",
    "# plt.axis([-3, 3, 0, 10])\n",
    "save_fig(\"grid_noBaisNum_perSubjectCurve\")\n",
    "plt.show()"
   ]
  },
  {
   "cell_type": "code",
   "execution_count": null,
   "id": "88fbe2df",
   "metadata": {},
   "outputs": [],
   "source": []
  },
  {
   "cell_type": "markdown",
   "id": "40092303",
   "metadata": {},
   "source": [
    "# Combine Multi-Quantile Redgression with Per-Subject Transform Estimation (grid --> multi-quantile)"
   ]
  },
  {
   "cell_type": "code",
   "execution_count": 89,
   "id": "ba230fb2",
   "metadata": {},
   "outputs": [],
   "source": [
    "# quantile_list = [0.5]\n",
    "# quantile_list = [0.9]\n",
    "# quantile_list = [0.1, 0.9] # Use hidden layer with 30 neurons\n",
    "# quantile_list = [0.05, 0.95]\n",
    "# quantile_list = [0.25, 0.75]\n",
    "# quantile_list = [0.1, 0.5, 0.9]\n",
    "# quantile_list = [0.1, 0.3, 0.7, 0.9]\n",
    "# quantile_list = [0.1, 0.2, 0.3, 0.4, 0.6, 0.7, 0.8, 0.9] # remove 0.5\n",
    "quantile_list = [0.1, 0.2, 0.3, 0.4, 0.5, 0.6, 0.7, 0.8, 0.9] # Should use wider hidden layer (with many neurons) + L1 regularization\n",
    "num_quantile = len(quantile_list)"
   ]
  },
  {
   "cell_type": "code",
   "execution_count": 90,
   "id": "26d0136c",
   "metadata": {},
   "outputs": [],
   "source": [
    "# Number of subjects\n",
    "num_subject = multiout_type"
   ]
  },
  {
   "cell_type": "code",
   "execution_count": 91,
   "id": "7d1cdc96",
   "metadata": {},
   "outputs": [
    {
     "name": "stdout",
     "output_type": "stream",
     "text": [
      "X.shape = (None, 1)\n",
      "gauss_grid.shape = (None, 5)\n",
      "X.shape = (None, 9)\n",
      "SID.shape = (None, 1)\n"
     ]
    }
   ],
   "source": [
    "inputs = keras.layers.Input(shape=X_train.shape[1:])\n",
    "inputs_sid = keras.layers.Input(shape=(1,), dtype=tf.int32)\n",
    "#\n",
    "# z = inputs\n",
    "z = num2grid(5,x_min=-10, x_max=10, sigma=3.0)(inputs) # Convert to grid\n",
    "z = keras.layers.Dense(30, activation=\"relu\")(z)\n",
    "output = keras.layers.Dense(num_quantile)(z)\n",
    "# output_biased = SubjectBias(num_subject, bias_scale=10.0, mean_reg_rate=1.0, name=\"bias_est\")([output, inputs_sid])\n",
    "output_biased = SubjectLinearTransform1D(num_subject, bias_scale=10.0, weight_mean_reg_rate=5.0, bias_mean_reg_rate=1.0, name=\"bias_est\")([output, inputs_sid])\n",
    "# Setup models\n",
    "model = keras.Model(inputs=[inputs], outputs=[output]) # pure\n",
    "model_biased = keras.Model(inputs=[inputs, inputs_sid], outputs=[output_biased]) # biased, for training"
   ]
  },
  {
   "cell_type": "code",
   "execution_count": 92,
   "id": "0769d3b2",
   "metadata": {},
   "outputs": [
    {
     "name": "stderr",
     "output_type": "stream",
     "text": [
      "C:\\Users\\benso\\anaconda3\\envs\\ml\\lib\\site-packages\\keras\\optimizer_v2\\adam.py:105: UserWarning: The `lr` argument is deprecated, use `learning_rate` instead.\n",
      "  super(Adam, self).__init__(name, **kwargs)\n"
     ]
    }
   ],
   "source": [
    "# optimizer = keras.optimizers.SGD(lr=0.1, momentum=0.9)\n",
    "optimizer = keras.optimizers.Adam(lr=0.1)\n",
    "model_biased.compile(loss=pinballLoss_full_fn, optimizer=optimizer)\n",
    "# model.compile(loss=pinballLoss_full_fn, optimizer=optimizer) # No need to compile this if it's not going to be trained."
   ]
  },
  {
   "cell_type": "code",
   "execution_count": 93,
   "id": "9a37c998",
   "metadata": {
    "scrolled": true
   },
   "outputs": [
    {
     "name": "stdout",
     "output_type": "stream",
     "text": [
      "Epoch 1/100\n",
      "X.shape = (None, 1)\n",
      "gauss_grid.shape = (None, 5)\n",
      "X.shape = (None, 9)\n",
      "SID.shape = (None, 1)\n",
      "X.shape = (None, 1)\n",
      "gauss_grid.shape = (None, 5)\n",
      "X.shape = (None, 9)\n",
      "SID.shape = (None, 1)\n",
      "1/3 [=========>....................] - ETA: 5s - loss: 164.5201X.shape = (None, 1)\n",
      "gauss_grid.shape = (None, 5)\n",
      "X.shape = (None, 9)\n",
      "SID.shape = (None, 1)\n",
      "3/3 [==============================] - 4s 490ms/step - loss: 187.8927 - val_loss: 147.8100\n",
      "Epoch 2/100\n",
      "3/3 [==============================] - 0s 43ms/step - loss: 175.6404 - val_loss: 133.6507\n",
      "Epoch 3/100\n",
      "3/3 [==============================] - 0s 28ms/step - loss: 151.5611 - val_loss: 112.7923\n",
      "Epoch 4/100\n",
      "3/3 [==============================] - 0s 46ms/step - loss: 121.1481 - val_loss: 86.9701\n",
      "Epoch 5/100\n",
      "3/3 [==============================] - 0s 28ms/step - loss: 92.1775 - val_loss: 69.9956\n",
      "Epoch 6/100\n",
      "3/3 [==============================] - 0s 37ms/step - loss: 74.9694 - val_loss: 56.2728\n",
      "Epoch 7/100\n",
      "3/3 [==============================] - 0s 29ms/step - loss: 62.7790 - val_loss: 49.8327\n",
      "Epoch 8/100\n",
      "3/3 [==============================] - 0s 26ms/step - loss: 53.9914 - val_loss: 39.8957\n",
      "Epoch 9/100\n",
      "3/3 [==============================] - 0s 74ms/step - loss: 47.0596 - val_loss: 34.7593\n",
      "Epoch 10/100\n",
      "3/3 [==============================] - 0s 92ms/step - loss: 46.2500 - val_loss: 31.3591\n",
      "Epoch 11/100\n",
      "3/3 [==============================] - 0s 111ms/step - loss: 43.5448 - val_loss: 29.8440\n",
      "Epoch 12/100\n",
      "3/3 [==============================] - 0s 99ms/step - loss: 39.6793 - val_loss: 28.7675\n",
      "Epoch 13/100\n",
      "3/3 [==============================] - 0s 109ms/step - loss: 36.6647 - val_loss: 27.4570\n",
      "Epoch 14/100\n",
      "3/3 [==============================] - 0s 94ms/step - loss: 35.3138 - val_loss: 23.5738\n",
      "Epoch 15/100\n",
      "3/3 [==============================] - 0s 68ms/step - loss: 32.6427 - val_loss: 25.5921\n",
      "Epoch 16/100\n",
      "3/3 [==============================] - 0s 74ms/step - loss: 31.0005 - val_loss: 21.2445\n",
      "Epoch 17/100\n",
      "3/3 [==============================] - 0s 35ms/step - loss: 31.9483 - val_loss: 21.6467\n",
      "Epoch 18/100\n",
      "3/3 [==============================] - 0s 29ms/step - loss: 29.1516 - val_loss: 26.8014\n",
      "Epoch 19/100\n",
      "3/3 [==============================] - 0s 36ms/step - loss: 30.8443 - val_loss: 21.8279\n",
      "Epoch 20/100\n",
      "3/3 [==============================] - 0s 36ms/step - loss: 27.1605 - val_loss: 21.1212\n",
      "Epoch 21/100\n",
      "3/3 [==============================] - 0s 33ms/step - loss: 26.8827 - val_loss: 23.3464\n",
      "Epoch 22/100\n",
      "3/3 [==============================] - 0s 64ms/step - loss: 25.6885 - val_loss: 19.3518\n",
      "Epoch 23/100\n",
      "3/3 [==============================] - 0s 110ms/step - loss: 23.0640 - val_loss: 19.4339\n",
      "Epoch 24/100\n",
      "3/3 [==============================] - 0s 156ms/step - loss: 22.9218 - val_loss: 18.1574\n",
      "Epoch 25/100\n",
      "3/3 [==============================] - 0s 82ms/step - loss: 20.8787 - val_loss: 19.2752\n",
      "Epoch 26/100\n",
      "3/3 [==============================] - 0s 38ms/step - loss: 20.3175 - val_loss: 18.4440\n",
      "Epoch 27/100\n",
      "3/3 [==============================] - 0s 40ms/step - loss: 19.1437 - val_loss: 16.8982\n",
      "Epoch 28/100\n",
      "3/3 [==============================] - 0s 36ms/step - loss: 18.5772 - val_loss: 17.3240\n",
      "Epoch 29/100\n",
      "3/3 [==============================] - 0s 29ms/step - loss: 17.3605 - val_loss: 15.9367\n",
      "Epoch 30/100\n",
      "3/3 [==============================] - 0s 48ms/step - loss: 16.1342 - val_loss: 15.5911\n",
      "Epoch 31/100\n",
      "3/3 [==============================] - 0s 121ms/step - loss: 14.8681 - val_loss: 14.8676\n",
      "Epoch 32/100\n",
      "3/3 [==============================] - 0s 123ms/step - loss: 15.5135 - val_loss: 14.1413\n",
      "Epoch 33/100\n",
      "3/3 [==============================] - 0s 76ms/step - loss: 14.6347 - val_loss: 14.2211\n",
      "Epoch 34/100\n",
      "3/3 [==============================] - 0s 41ms/step - loss: 13.4118 - val_loss: 13.3734\n",
      "Epoch 35/100\n",
      "3/3 [==============================] - 0s 51ms/step - loss: 14.2274 - val_loss: 12.7335\n",
      "Epoch 36/100\n",
      "3/3 [==============================] - 0s 29ms/step - loss: 12.3351 - val_loss: 12.6907\n",
      "Epoch 37/100\n",
      "3/3 [==============================] - 0s 35ms/step - loss: 12.1014 - val_loss: 12.7418\n",
      "Epoch 38/100\n",
      "3/3 [==============================] - 0s 33ms/step - loss: 13.3114 - val_loss: 11.4898\n",
      "Epoch 39/100\n",
      "3/3 [==============================] - 0s 37ms/step - loss: 11.6929 - val_loss: 10.6299\n",
      "Epoch 40/100\n",
      "3/3 [==============================] - 0s 42ms/step - loss: 11.3832 - val_loss: 9.9896\n",
      "Epoch 41/100\n",
      "3/3 [==============================] - 0s 37ms/step - loss: 11.0756 - val_loss: 10.7335\n",
      "Epoch 42/100\n",
      "3/3 [==============================] - 0s 39ms/step - loss: 10.7996 - val_loss: 10.4954\n",
      "Epoch 43/100\n",
      "3/3 [==============================] - 0s 34ms/step - loss: 10.7764 - val_loss: 11.1734\n",
      "Epoch 44/100\n",
      "3/3 [==============================] - 0s 46ms/step - loss: 11.6337 - val_loss: 9.9003\n",
      "Epoch 45/100\n",
      "3/3 [==============================] - 0s 38ms/step - loss: 10.8459 - val_loss: 9.9747\n",
      "Epoch 46/100\n",
      "3/3 [==============================] - 0s 34ms/step - loss: 11.3596 - val_loss: 9.7480\n",
      "Epoch 47/100\n",
      "3/3 [==============================] - 0s 36ms/step - loss: 11.0692 - val_loss: 10.1100\n",
      "Epoch 48/100\n",
      "3/3 [==============================] - 0s 34ms/step - loss: 10.2832 - val_loss: 9.9017\n",
      "Epoch 49/100\n",
      "3/3 [==============================] - 0s 37ms/step - loss: 10.3847 - val_loss: 9.9217\n",
      "Epoch 50/100\n",
      "3/3 [==============================] - 0s 38ms/step - loss: 10.7747 - val_loss: 9.3530\n",
      "Epoch 51/100\n",
      "3/3 [==============================] - 0s 43ms/step - loss: 9.6018 - val_loss: 9.6709\n",
      "Epoch 52/100\n",
      "3/3 [==============================] - 0s 42ms/step - loss: 10.6293 - val_loss: 9.1900\n",
      "Epoch 53/100\n",
      "3/3 [==============================] - 0s 34ms/step - loss: 10.0445 - val_loss: 9.9680\n",
      "Epoch 54/100\n",
      "3/3 [==============================] - 0s 35ms/step - loss: 11.0545 - val_loss: 9.2700\n",
      "Epoch 55/100\n",
      "3/3 [==============================] - 0s 39ms/step - loss: 10.1282 - val_loss: 9.6643\n",
      "Epoch 56/100\n",
      "3/3 [==============================] - 0s 27ms/step - loss: 10.1615 - val_loss: 9.6237\n",
      "Epoch 57/100\n",
      "3/3 [==============================] - 0s 27ms/step - loss: 10.5946 - val_loss: 9.5634\n",
      "Epoch 58/100\n",
      "3/3 [==============================] - 0s 31ms/step - loss: 10.4357 - val_loss: 9.4922\n",
      "Epoch 59/100\n",
      "3/3 [==============================] - 0s 33ms/step - loss: 10.5174 - val_loss: 10.2951\n",
      "Epoch 60/100\n",
      "3/3 [==============================] - 0s 31ms/step - loss: 11.5360 - val_loss: 10.3654\n",
      "Epoch 61/100\n",
      "3/3 [==============================] - 0s 33ms/step - loss: 10.6334 - val_loss: 9.9294\n",
      "Epoch 62/100\n",
      "3/3 [==============================] - 0s 38ms/step - loss: 10.5970 - val_loss: 9.6321\n",
      "Epoch 63/100\n",
      "3/3 [==============================] - 0s 34ms/step - loss: 10.0246 - val_loss: 10.4676\n",
      "Epoch 64/100\n",
      "3/3 [==============================] - 0s 34ms/step - loss: 10.7318 - val_loss: 9.6380\n",
      "Epoch 65/100\n",
      "3/3 [==============================] - 0s 32ms/step - loss: 10.4067 - val_loss: 9.6087\n",
      "Epoch 66/100\n",
      "3/3 [==============================] - 0s 44ms/step - loss: 11.3871 - val_loss: 10.5893\n",
      "Epoch 67/100\n",
      "3/3 [==============================] - 0s 26ms/step - loss: 10.3450 - val_loss: 9.8195\n",
      "Epoch 68/100\n",
      "3/3 [==============================] - 0s 27ms/step - loss: 11.9323 - val_loss: 10.8315\n",
      "Epoch 69/100\n",
      "3/3 [==============================] - 0s 20ms/step - loss: 12.7658 - val_loss: 10.9850\n",
      "Epoch 70/100\n",
      "3/3 [==============================] - 0s 31ms/step - loss: 11.9245 - val_loss: 9.9762\n",
      "Epoch 71/100\n",
      "3/3 [==============================] - 0s 39ms/step - loss: 11.5087 - val_loss: 10.3871\n",
      "Epoch 72/100\n",
      "3/3 [==============================] - 0s 20ms/step - loss: 11.4196 - val_loss: 10.6438\n",
      "Epoch 73/100\n",
      "3/3 [==============================] - 0s 32ms/step - loss: 11.1811 - val_loss: 11.7115\n",
      "Epoch 74/100\n",
      "3/3 [==============================] - 0s 33ms/step - loss: 11.0753 - val_loss: 10.4258\n",
      "Epoch 75/100\n",
      "3/3 [==============================] - 0s 33ms/step - loss: 11.0851 - val_loss: 10.6868\n",
      "Epoch 76/100\n",
      "3/3 [==============================] - 0s 33ms/step - loss: 9.7070 - val_loss: 10.4153\n",
      "Epoch 77/100\n",
      "3/3 [==============================] - 0s 34ms/step - loss: 10.9748 - val_loss: 9.4980\n",
      "Epoch 78/100\n",
      "3/3 [==============================] - 0s 36ms/step - loss: 10.1878 - val_loss: 9.6489\n"
     ]
    },
    {
     "name": "stdout",
     "output_type": "stream",
     "text": [
      "Epoch 79/100\n",
      "3/3 [==============================] - 0s 42ms/step - loss: 10.2800 - val_loss: 9.0019\n",
      "Epoch 80/100\n",
      "3/3 [==============================] - 0s 29ms/step - loss: 10.4876 - val_loss: 8.9163\n",
      "Epoch 81/100\n",
      "3/3 [==============================] - 0s 28ms/step - loss: 10.5888 - val_loss: 9.2874\n",
      "Epoch 82/100\n",
      "3/3 [==============================] - 0s 33ms/step - loss: 10.1451 - val_loss: 8.8360\n",
      "Epoch 83/100\n",
      "3/3 [==============================] - 0s 25ms/step - loss: 9.6956 - val_loss: 9.7701\n",
      "Epoch 84/100\n",
      "3/3 [==============================] - 0s 31ms/step - loss: 10.0692 - val_loss: 8.4773\n",
      "Epoch 85/100\n",
      "3/3 [==============================] - 0s 26ms/step - loss: 9.2963 - val_loss: 9.0278\n",
      "Epoch 86/100\n",
      "3/3 [==============================] - 0s 28ms/step - loss: 10.5764 - val_loss: 9.4028\n",
      "Epoch 87/100\n",
      "3/3 [==============================] - 0s 31ms/step - loss: 10.0393 - val_loss: 9.1493\n",
      "Epoch 88/100\n",
      "3/3 [==============================] - 0s 25ms/step - loss: 9.6436 - val_loss: 9.6906\n",
      "Epoch 89/100\n",
      "3/3 [==============================] - 0s 24ms/step - loss: 9.8748 - val_loss: 9.4621\n",
      "Epoch 90/100\n",
      "3/3 [==============================] - 0s 30ms/step - loss: 9.7084 - val_loss: 8.8280\n",
      "Epoch 91/100\n",
      "3/3 [==============================] - 0s 24ms/step - loss: 10.0860 - val_loss: 10.4870\n",
      "Epoch 92/100\n",
      "3/3 [==============================] - 0s 35ms/step - loss: 11.4228 - val_loss: 11.1501\n",
      "Epoch 93/100\n",
      "3/3 [==============================] - 0s 28ms/step - loss: 12.5087 - val_loss: 10.4224\n",
      "Epoch 94/100\n",
      "3/3 [==============================] - 0s 20ms/step - loss: 12.2541 - val_loss: 10.9418\n",
      "Epoch 95/100\n",
      "3/3 [==============================] - 0s 26ms/step - loss: 10.9932 - val_loss: 12.2613\n",
      "Epoch 96/100\n",
      "3/3 [==============================] - 0s 31ms/step - loss: 11.2053 - val_loss: 10.3697\n",
      "Epoch 97/100\n",
      "3/3 [==============================] - 0s 24ms/step - loss: 10.6195 - val_loss: 9.5260\n",
      "Epoch 98/100\n",
      "3/3 [==============================] - 0s 25ms/step - loss: 10.8777 - val_loss: 9.8893\n",
      "Epoch 99/100\n",
      "3/3 [==============================] - 0s 31ms/step - loss: 10.3467 - val_loss: 9.8693\n",
      "Epoch 100/100\n",
      "3/3 [==============================] - 0s 27ms/step - loss: 10.0743 - val_loss: 9.9505\n"
     ]
    }
   ],
   "source": [
    "history = model_biased.fit([X_train, sid_train], y_train, epochs=100,\n",
    "                    validation_data=([X_valid, sid_valid], y_valid))"
   ]
  },
  {
   "cell_type": "code",
   "execution_count": 94,
   "id": "66d04b69",
   "metadata": {},
   "outputs": [
    {
     "name": "stdout",
     "output_type": "stream",
     "text": [
      "Saving figure grid_NoBiasQuantile_training_curve\n"
     ]
    },
    {
     "data": {
      "image/png": "[encoded data removed]",
      "text/plain": [
       "<Figure size 576x360 with 1 Axes>"
      ]
     },
     "metadata": {
      "needs_background": "light"
     },
     "output_type": "display_data"
    }
   ],
   "source": [
    "import pandas as pd\n",
    "\n",
    "pd.DataFrame(history.history).plot(figsize=(8, 5))\n",
    "plt.grid(True)\n",
    "# plt.gca().set_ylim(0, 1)\n",
    "save_fig(\"grid_NoBiasQuantile_training_curve\")\n",
    "plt.show()"
   ]
  },
  {
   "cell_type": "markdown",
   "id": "9e1f1c9b",
   "metadata": {},
   "source": [
    "### Draw the \"pure\" mean prediction curve averaged from all quantile predictions."
   ]
  },
  {
   "cell_type": "code",
   "execution_count": 95,
   "id": "2f62afb2",
   "metadata": {},
   "outputs": [
    {
     "name": "stdout",
     "output_type": "stream",
     "text": [
      "X.shape = (None, 1)\n",
      "gauss_grid.shape = (None, 5)\n",
      "Saving figure grid_noBiaseQuantile_prediction\n"
     ]
    },
    {
     "data": {
      "image/png": "[encoded data removed]",
      "text/plain": [
       "<Figure size 432x288 with 1 Axes>"
      ]
     },
     "metadata": {
      "needs_background": "light"
     },
     "output_type": "display_data"
    }
   ],
   "source": [
    "# plt.plot(X_train, y_train, \"b.\")\n",
    "draw_points(X_train, y_train, sid_train)\n",
    "draw_func((lambda X: np.average(model.predict(X), axis=-1) ), mark='r-', linewidth=2, label=\"Predictions\")\n",
    "draw_normal_func(func_dict)\n",
    "plt.xlabel(\"$x_1$\", fontsize=18)\n",
    "plt.ylabel(\"$y$\", rotation=0, fontsize=18)\n",
    "plt.legend(loc=\"upper left\", fontsize=14)\n",
    "# plt.axis([-3, 3, 0, 10])\n",
    "save_fig(\"grid_noBiaseQuantile_prediction\")\n",
    "plt.show()"
   ]
  },
  {
   "cell_type": "code",
   "execution_count": 96,
   "id": "4ffc0f23",
   "metadata": {},
   "outputs": [
    {
     "name": "stdout",
     "output_type": "stream",
     "text": [
      "y_func.shape = (100, 1)\n",
      "y_gt.shape = (100, 1)\n"
     ]
    },
    {
     "data": {
      "text/plain": [
       "0.6988456184164525"
      ]
     },
     "execution_count": 96,
     "metadata": {},
     "output_type": "execute_result"
    }
   ],
   "source": [
    "get_prediction_error((lambda X: np.average(model.predict(X), axis=-1) ), func_dict, name=\"grid-noBiaseQuantileR\")"
   ]
  },
  {
   "cell_type": "markdown",
   "id": "a213fbdb",
   "metadata": {},
   "source": [
    "### Draw all \"pure\" quantile prediction"
   ]
  },
  {
   "cell_type": "code",
   "execution_count": 97,
   "id": "ff824ca7",
   "metadata": {},
   "outputs": [
    {
     "name": "stdout",
     "output_type": "stream",
     "text": [
      "Saving figure grid_quantile_all_quantiles\n"
     ]
    },
    {
     "data": {
      "image/png": "[encoded data removed]",
      "text/plain": [
       "<Figure size 432x288 with 1 Axes>"
      ]
     },
     "metadata": {
      "needs_background": "light"
     },
     "output_type": "display_data"
    }
   ],
   "source": [
    "# plt.plot(X_train, y_train, \"b.\")\n",
    "draw_points(X_train, y_train, sid_train)\n",
    "draw_func((lambda X: np.average(model.predict(X), axis=-1) ), mark='r-', linewidth=2, label=\"Predictions\")\n",
    "for _idx, _tau in enumerate(quantile_list):\n",
    "    draw_func((lambda X: model.predict(X)[:,_idx] ), mark='k--', linewidth=1, label=\"$y_{%d}$\" % (_tau*100))\n",
    "draw_normal_func(func_dict)\n",
    "plt.xlabel(\"$x_1$\", fontsize=18)\n",
    "plt.ylabel(\"$y$\", rotation=0, fontsize=18)\n",
    "plt.legend(loc=\"upper left\", fontsize=14)\n",
    "# plt.axis([-3, 3, 0, 10])\n",
    "save_fig(\"grid_quantile_all_quantiles\")\n",
    "plt.show()"
   ]
  },
  {
   "cell_type": "markdown",
   "id": "11c7ec73",
   "metadata": {},
   "source": [
    "### Estimated Biases and Scales (according to SID)"
   ]
  },
  {
   "cell_type": "code",
   "execution_count": 98,
   "id": "9a79c04b",
   "metadata": {},
   "outputs": [
    {
     "name": "stdout",
     "output_type": "stream",
     "text": [
      "scaled_bias = \n",
      "[[-11.549226  -11.743617  -12.012042  -12.032279  -12.613931  -12.817642\n",
      "  -12.718854  -13.168461  -12.944475 ]\n",
      " [ 11.190645   11.9060335  11.664902   12.959672   13.189629   13.457948\n",
      "   13.277008   12.948519   13.250372 ]]\n",
      "\n",
      "mean_scaled_bias = \n",
      "[-0.3585806   0.16241646 -0.3471403   0.92739296  0.5756979   0.6403055\n",
      "  0.5581541  -0.2199421   0.30589676]\n"
     ]
    }
   ],
   "source": [
    "scaled_bias = model_biased.get_layer(\"bias_est\").get_scaled_biases_np()\n",
    "mean_scaled_bias = np.sum(scaled_bias, axis=0)\n",
    "#\n",
    "print(\"scaled_bias = \\n%s\" % str(scaled_bias))\n",
    "print(\"\\nmean_scaled_bias = \\n%s\" % str(mean_scaled_bias))"
   ]
  },
  {
   "cell_type": "code",
   "execution_count": 99,
   "id": "ef5bb592",
   "metadata": {},
   "outputs": [
    {
     "name": "stdout",
     "output_type": "stream",
     "text": [
      "output_scales = \n",
      "[[1.1618309  1.1532066  1.1278975  1.1147358  1.099595   1.159334\n",
      "  1.1461401  1.1648453  1.1268992 ]\n",
      " [0.87789667 0.8460494  0.839936   0.87833524 0.89580154 0.8600629\n",
      "  0.87190205 0.8450787  0.85678756]]\n",
      "\n",
      "mean_scales = \n",
      "[1.0198638  0.999628   0.98391676 0.99653554 0.99769825 1.0096984\n",
      " 1.009021   1.004962   0.9918434 ]\n"
     ]
    }
   ],
   "source": [
    "try:\n",
    "    output_scales = model_biased.get_layer(\"bias_est\").get_weights_np()\n",
    "    mean_scales = np.mean(output_scales, axis=0)\n",
    "    #\n",
    "    print(\"output_scales = \\n%s\" % str(output_scales))\n",
    "    print(\"\\nmean_scales = \\n%s\" % str(mean_scales))\n",
    "except:\n",
    "    pass"
   ]
  },
  {
   "cell_type": "markdown",
   "id": "c493d1c8",
   "metadata": {},
   "source": [
    "### Plotting of mean quantiles for each subject"
   ]
  },
  {
   "cell_type": "code",
   "execution_count": 100,
   "id": "3c2bd240",
   "metadata": {},
   "outputs": [
    {
     "name": "stdout",
     "output_type": "stream",
     "text": [
      "X.shape = (None, 1)\n",
      "gauss_grid.shape = (None, 5)\n",
      "X.shape = (None, 9)\n",
      "SID.shape = (None, 1)\n",
      "Saving figure grid_noBaisNum_perSubjectCurve\n"
     ]
    },
    {
     "data": {
      "image/png": "[encoded data removed]",
      "text/plain": [
       "<Figure size 432x288 with 1 Axes>"
      ]
     },
     "metadata": {
      "needs_background": "light"
     },
     "output_type": "display_data"
    }
   ],
   "source": [
    "def predict_with_biase_sid(X, sid=1):\n",
    "    return np.average( model_biased.predict([X, tf.fill( (X.shape[0],1), sid)]), axis=1)\n",
    "\n",
    "draw_points(X_train, y_train, sid_train)\n",
    "#\n",
    "draw_func((lambda X: np.average(model.predict(X), axis=-1) ), mark='r-', linewidth=2, label=\"Predictions\")\n",
    "for _idx in range(num_subject):\n",
    "    _sid = _idx + 1\n",
    "    draw_func(lambda X: predict_with_biase_sid(X, _sid), mark='k--', linewidth=1, label=(\"sid=%d\" % _sid))\n",
    "#\n",
    "draw_normal_func(func_dict)\n",
    "plt.xlabel(\"$x_1$\", fontsize=18)\n",
    "plt.ylabel(\"$y$\", rotation=0, fontsize=18)\n",
    "plt.legend(loc=\"upper left\", fontsize=14)\n",
    "# plt.axis([-3, 3, 0, 10])\n",
    "save_fig(\"grid_noBaisNum_perSubjectCurve\")\n",
    "plt.show()"
   ]
  },
  {
   "cell_type": "code",
   "execution_count": null,
   "id": "00b87d5e",
   "metadata": {},
   "outputs": [],
   "source": []
  },
  {
   "cell_type": "code",
   "execution_count": null,
   "id": "79ac8ef1",
   "metadata": {},
   "outputs": [],
   "source": []
  },
  {
   "cell_type": "markdown",
   "id": "82ec4fc4",
   "metadata": {},
   "source": [
    "# Summary"
   ]
  },
  {
   "cell_type": "code",
   "execution_count": 101,
   "id": "2d764d70",
   "metadata": {},
   "outputs": [
    {
     "name": "stdout",
     "output_type": "stream",
     "text": [
      "num-num: 6.075050\n",
      "grid-num: 4.365960\n",
      "grid-rbc: 5.455562\n",
      "grid-quantileR: 1.641130\n",
      "grid-oneGaussian: 3.601090\n",
      "grid-noBiasNum: 1.734903\n",
      "grid-noBiaseQuantileR: 0.698846\n",
      "\n"
     ]
    }
   ],
   "source": [
    "results = print_all_prediction_error()"
   ]
  },
  {
   "cell_type": "code",
   "execution_count": 102,
   "id": "9f01e530",
   "metadata": {},
   "outputs": [
    {
     "name": "stdout",
     "output_type": "stream",
     "text": [
      "Saving all prediction errors to [.\\images\\regression_test_2\\prediction_errors.txt].\n"
     ]
    },
    {
     "data": {
      "text/plain": [
       "True"
      ]
     },
     "execution_count": 102,
     "metadata": {},
     "output_type": "execute_result"
    }
   ],
   "source": [
    "save_prediction_errors()"
   ]
  },
  {
   "cell_type": "code",
   "execution_count": null,
   "id": "0c3bdf42",
   "metadata": {},
   "outputs": [],
   "source": []
  },
  {
   "cell_type": "code",
   "execution_count": null,
   "id": "a5e6a55a",
   "metadata": {},
   "outputs": [],
   "source": []
  },
  {
   "cell_type": "code",
   "execution_count": null,
   "id": "1838a588",
   "metadata": {},
   "outputs": [],
   "source": []
  },
  {
   "cell_type": "code",
   "execution_count": null,
   "id": "2f94dffa",
   "metadata": {},
   "outputs": [],
   "source": []
  }
 ],
 "metadata": {
  "kernelspec": {
   "display_name": "Python 3 (ipykernel)",
   "language": "python",
   "name": "python3"
  },
  "language_info": {
   "codemirror_mode": {
    "name": "ipython",
    "version": 3
   },
   "file_extension": ".py",
   "mimetype": "text/x-python",
   "name": "python",
   "nbconvert_exporter": "python",
   "pygments_lexer": "ipython3",
   "version": "3.9.7"
  }
 },
 "nbformat": 4,
 "nbformat_minor": 5
}
