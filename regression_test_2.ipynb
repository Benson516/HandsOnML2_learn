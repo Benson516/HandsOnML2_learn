{
 "cells": [
  {
   "cell_type": "markdown",
   "id": "899fa113",
   "metadata": {},
   "source": [
    "# Regression with Different Output Format under Various Data Conditions\n",
    "\n",
    "In this experience, we test the following output format for regression task under several different data coditions.\n",
    "- Numerical output\n",
    "- Regression as classification (grid-out)\n",
    "\n",
    "The data coditions include:\n",
    "- Sparse (few data)\n",
    "- Grouped\n",
    "  - Biased (parallel data)\n",
    "  - Completely different mode, uncorrelated data (cross)\n",
    "  - Partially diversed (split)"
   ]
  },
  {
   "cell_type": "code",
   "execution_count": 1,
   "id": "625ce7c3",
   "metadata": {},
   "outputs": [],
   "source": [
    "import numpy as np\n",
    "import tensorflow as tf\n",
    "from tensorflow import keras\n",
    "\n",
    "# To plot pretty figures\n",
    "%matplotlib inline\n",
    "import matplotlib as mpl\n",
    "import matplotlib.pyplot as plt\n",
    "mpl.rc('axes', labelsize=14)\n",
    "mpl.rc('xtick', labelsize=12)\n",
    "mpl.rc('ytick', labelsize=12)"
   ]
  },
  {
   "cell_type": "code",
   "execution_count": 2,
   "id": "94e8a077",
   "metadata": {},
   "outputs": [],
   "source": [
    "def draw_func(func_in, x_min=-5, x_max=5, mark='r--', linewidth=1, label='func'):\n",
    "    n_sample = 100\n",
    "    X_func = np.linspace(x_min, x_max, n_sample).reshape(n_sample, 1)\n",
    "    y_func = func_in(X_func)\n",
    "    plt.plot(X_func, y_func, mark, linewidth=linewidth, label=label)"
   ]
  },
  {
   "cell_type": "markdown",
   "id": "c27ffe35",
   "metadata": {},
   "source": [
    "Generate polynomial data"
   ]
  },
  {
   "cell_type": "code",
   "execution_count": 3,
   "id": "ce670ce4",
   "metadata": {},
   "outputs": [],
   "source": [
    "poly_a1 = 5.0\n",
    "# poly_a1 = -10.0 # 5.0\n",
    "def func_0(X): # Reference\n",
    "    return 0.5 * X**3 + 0.5 * X**2 + (poly_a1)*X + 2\n",
    "def func_1(X): # Variation 1: parellel\n",
    "    return 0.5 * X**3 + 0.5 * X**2 + (poly_a1)*X + 30\n",
    "def func_2(X): # Variation 2: cross\n",
    "    return -0.5 * X**3 + 0.5 * X**2 + (poly_a1)*X + 30\n",
    "def func_3(X): # Variation 3: slightly split\n",
    "    return 0.3 * X**3 + 1.0 * X**2 + (poly_a1)*X + 15 \n",
    "def func_4(X): # Sine wave~\n",
    "    return 0.5 * X**3 + 0.5 * X**2 + (poly_a1)*X + 2 + 50.0*np.sin(X)"
   ]
  },
  {
   "cell_type": "code",
   "execution_count": 4,
   "id": "9463bfff",
   "metadata": {},
   "outputs": [],
   "source": [
    "func_dict = dict()\n",
    "func_dict[\"f1\"] = func_0\n",
    "# func_dict[\"f2\"] = func_1\n",
    "# func_dict[\"f2\"] = func_2\n",
    "func_dict[\"f2\"] = func_3\n",
    "# func_dict[\"f2\"] = func_4\n",
    "\n",
    "# Average line\n",
    "func_dict[\"f_avg\"] = ( lambda X: 0.5*func_dict[\"f1\"](X) + 0.5*func_dict[\"f2\"](X) )"
   ]
  },
  {
   "cell_type": "code",
   "execution_count": 5,
   "id": "9bd2136c",
   "metadata": {},
   "outputs": [],
   "source": [
    "def draw_normal_func(func_dict):\n",
    "    draw_func(func_dict[\"f1\"], mark='c:', label=\"f1\")\n",
    "    draw_func(func_dict[\"f2\"], mark='g:', label=\"f2\")\n",
    "    draw_func(func_dict[\"f_avg\"], mark='m--', label=\"f_avg\")"
   ]
  },
  {
   "cell_type": "code",
   "execution_count": 6,
   "id": "63437d0c",
   "metadata": {},
   "outputs": [
    {
     "name": "stdout",
     "output_type": "stream",
     "text": [
      "(m, m_train) = (100, 80)\n",
      "y_data_pure.shape = (100, 1)\n",
      "y_data.shape = (100, 1)\n"
     ]
    }
   ],
   "source": [
    "np.random.seed(42)\n",
    "m = 100 # 50 # 100 # 200\n",
    "m_train = m // 5 * 4\n",
    "print(\"(m, m_train) = (%d, %d)\" % (m, m_train))\n",
    "\n",
    "# Input\n",
    "is_gapped = True\n",
    "# is_gapped = False\n",
    "#\n",
    "if not is_gapped:\n",
    "    X_data = 10 * np.random.rand(m, 1) - 5 # Note: X is randomly sampled, so we don't need to shuffle the data again\n",
    "else:\n",
    "    X_data = np.concatenate( (np.linspace(-5.0, -2.0, m//2), np.linspace(2.0, 5.0, m-m//2)) )\n",
    "    X_data = X_data.reshape((m,1))\n",
    "    np.random.shuffle(X_data)\n",
    "\n",
    "# Output\n",
    "is_multiout = True\n",
    "# is_multiout = False\n",
    "if is_multiout:\n",
    "    m_h = m // 2\n",
    "    X_data_1 = X_data[:m_h]\n",
    "    X_data_2 = X_data[m_h:]\n",
    "    y_data_pure_1 = func_dict[\"f1\"](X_data_1) \n",
    "    y_data_pure_2 = func_dict[\"f2\"](X_data_2) \n",
    "    y_data_pure = np.vstack([y_data_pure_1, y_data_pure_2])\n",
    "    print(\"y_data_pure.shape = %s\" % str(y_data_pure.shape))\n",
    "else:        \n",
    "    y_data_pure = func_dict[\"f_avg\"](X_data)\n",
    "\n",
    "# Label (+noise)\n",
    "n_stddev = 2.0\n",
    "# n_stddev = 10.0\n",
    "y_data = y_data_pure + np.random.randn(m, 1) * n_stddev\n",
    "print(\"y_data.shape = %s\" % str(y_data.shape))"
   ]
  },
  {
   "cell_type": "code",
   "execution_count": 7,
   "id": "ef588fae",
   "metadata": {},
   "outputs": [],
   "source": [
    "# Method 1: simply slice\n",
    "# X_train = X_data[:m_train]\n",
    "# y_train = y_data[:m_train]\n",
    "# X_valid = X_data[m_train:]\n",
    "# y_valid = y_data[m_train:]\n",
    "\n",
    "# Method 2: shuffle\n",
    "from sklearn.model_selection import train_test_split\n",
    "X_train, X_valid, y_train, y_valid = train_test_split(X_data, y_data, test_size=0.2, random_state=42)"
   ]
  },
  {
   "cell_type": "code",
   "execution_count": 8,
   "id": "3b5d2cfe",
   "metadata": {},
   "outputs": [
    {
     "name": "stdout",
     "output_type": "stream",
     "text": [
      "(80, 1)\n"
     ]
    }
   ],
   "source": [
    "print(X_train.shape)"
   ]
  },
  {
   "cell_type": "code",
   "execution_count": 9,
   "id": "693af3b7",
   "metadata": {},
   "outputs": [
    {
     "data": {
      "image/png": "[encoded data removed]",
      "text/plain": [
       "<Figure size 432x288 with 1 Axes>"
      ]
     },
     "metadata": {
      "needs_background": "light"
     },
     "output_type": "display_data"
    }
   ],
   "source": [
    "plt.plot(X_train, y_train, \"b.\")\n",
    "draw_normal_func(func_dict)\n",
    "plt.xlabel(\"$x_1$\", fontsize=18)\n",
    "plt.ylabel(\"$y$\", rotation=0, fontsize=18)\n",
    "# plt.axis([-3, 3, 0, 10])\n",
    "plt.show()"
   ]
  },
  {
   "cell_type": "code",
   "execution_count": 10,
   "id": "a6853ff1",
   "metadata": {},
   "outputs": [],
   "source": [
    "def get_prediction_error(func_in, func_dict, x_min=-5, x_max=5):\n",
    "    n_sample = 100\n",
    "    X_func = np.linspace(x_min, x_max, n_sample).reshape(n_sample, 1)\n",
    "    y_func = func_in(X_func).reshape((n_sample,1))\n",
    "    y_gt = func_dict[\"f_avg\"](X_func).reshape((n_sample,1))\n",
    "    print(\"y_func.shape = %s\" % str(y_func.shape))\n",
    "    print(\"y_gt.shape = %s\" % str(y_gt.shape))\n",
    "#     return np.sqrt(np.square(y_func - y_gt).mean())\n",
    "    return np.abs(y_func - y_gt).mean()"
   ]
  },
  {
   "cell_type": "markdown",
   "id": "053ecc57",
   "metadata": {},
   "source": [
    "# Simple FCs (number --> number)"
   ]
  },
  {
   "cell_type": "markdown",
   "id": "c66eb67b",
   "metadata": {},
   "source": [
    "Build the regression model"
   ]
  },
  {
   "cell_type": "code",
   "execution_count": 11,
   "id": "9449fc0b",
   "metadata": {},
   "outputs": [
    {
     "name": "stderr",
     "output_type": "stream",
     "text": [
      "/home/benson516/ml/my_env/lib/python3.6/site-packages/keras/optimizer_v2/optimizer_v2.py:356: UserWarning: The `lr` argument is deprecated, use `learning_rate` instead.\n",
      "  \"The `lr` argument is deprecated, use `learning_rate` instead.\")\n"
     ]
    }
   ],
   "source": [
    "model = keras.models.Sequential([\n",
    "    keras.layers.Dense(30, activation=\"relu\", input_shape=X_train.shape[1:]),\n",
    "    keras.layers.Dense(30, activation=\"relu\"),\n",
    "    keras.layers.Dense(1)\n",
    "])\n",
    "\n",
    "optimizer = keras.optimizers.SGD(lr=0.0001, momentum=0.9)\n",
    "model.compile(loss=\"mean_squared_error\", optimizer=optimizer)\n",
    "# optimizer = keras.optimizers.Adam(lr=0.01)\n",
    "# model.compile(loss=\"mean_absolute_error\", optimizer=optimizer)"
   ]
  },
  {
   "cell_type": "code",
   "execution_count": 12,
   "id": "92afd68a",
   "metadata": {
    "scrolled": true
   },
   "outputs": [
    {
     "name": "stdout",
     "output_type": "stream",
     "text": [
      "Epoch 1/100\n",
      "3/3 [==============================] - 1s 202ms/step - loss: 2459.7839 - val_loss: 1694.3718\n",
      "Epoch 2/100\n",
      "3/3 [==============================] - 0s 58ms/step - loss: 2369.0696 - val_loss: 1597.5925\n",
      "Epoch 3/100\n",
      "3/3 [==============================] - 0s 65ms/step - loss: 2166.6934 - val_loss: 1372.4519\n",
      "Epoch 4/100\n",
      "3/3 [==============================] - 0s 54ms/step - loss: 1672.8051 - val_loss: 876.9572\n",
      "Epoch 5/100\n",
      "3/3 [==============================] - 0s 89ms/step - loss: 770.4313 - val_loss: 720.1731\n",
      "Epoch 6/100\n",
      "3/3 [==============================] - 0s 75ms/step - loss: 944.4235 - val_loss: 795.4529\n",
      "Epoch 7/100\n",
      "3/3 [==============================] - 0s 61ms/step - loss: 592.3120 - val_loss: 643.9565\n",
      "Epoch 8/100\n",
      "3/3 [==============================] - 0s 79ms/step - loss: 718.1808 - val_loss: 744.9943\n",
      "Epoch 9/100\n",
      "3/3 [==============================] - 0s 69ms/step - loss: 772.2334 - val_loss: 518.0682\n",
      "Epoch 10/100\n",
      "3/3 [==============================] - 0s 97ms/step - loss: 460.7671 - val_loss: 489.4691\n",
      "Epoch 11/100\n",
      "3/3 [==============================] - 0s 67ms/step - loss: 474.4860 - val_loss: 351.8381\n",
      "Epoch 12/100\n",
      "3/3 [==============================] - 0s 69ms/step - loss: 275.1496 - val_loss: 219.0212\n",
      "Epoch 13/100\n",
      "3/3 [==============================] - 0s 83ms/step - loss: 259.5425 - val_loss: 208.4194\n",
      "Epoch 14/100\n",
      "3/3 [==============================] - 0s 81ms/step - loss: 258.3148 - val_loss: 196.6460\n",
      "Epoch 15/100\n",
      "3/3 [==============================] - 0s 75ms/step - loss: 257.0254 - val_loss: 240.1854\n",
      "Epoch 16/100\n",
      "3/3 [==============================] - 0s 83ms/step - loss: 284.4238 - val_loss: 180.8598\n",
      "Epoch 17/100\n",
      "3/3 [==============================] - 0s 102ms/step - loss: 205.1986 - val_loss: 196.6971\n",
      "Epoch 18/100\n",
      "3/3 [==============================] - 0s 103ms/step - loss: 237.3183 - val_loss: 211.7671\n",
      "Epoch 19/100\n",
      "3/3 [==============================] - 0s 96ms/step - loss: 215.5692 - val_loss: 212.8144\n",
      "Epoch 20/100\n",
      "3/3 [==============================] - 0s 98ms/step - loss: 224.2166 - val_loss: 213.5795\n",
      "Epoch 21/100\n",
      "3/3 [==============================] - 0s 107ms/step - loss: 210.0147 - val_loss: 185.0171\n",
      "Epoch 22/100\n",
      "3/3 [==============================] - 0s 107ms/step - loss: 198.7625 - val_loss: 172.5671\n",
      "Epoch 23/100\n",
      "3/3 [==============================] - 0s 87ms/step - loss: 201.5854 - val_loss: 171.1125\n",
      "Epoch 24/100\n",
      "3/3 [==============================] - 0s 112ms/step - loss: 198.9216 - val_loss: 171.3305\n",
      "Epoch 25/100\n",
      "3/3 [==============================] - 0s 99ms/step - loss: 200.5894 - val_loss: 168.6114\n",
      "Epoch 26/100\n",
      "3/3 [==============================] - 0s 72ms/step - loss: 195.0693 - val_loss: 170.5250\n",
      "Epoch 27/100\n",
      "3/3 [==============================] - 0s 70ms/step - loss: 192.1067 - val_loss: 178.7988\n",
      "Epoch 28/100\n",
      "3/3 [==============================] - 0s 76ms/step - loss: 191.9709 - val_loss: 182.9552\n",
      "Epoch 29/100\n",
      "3/3 [==============================] - 0s 60ms/step - loss: 190.8383 - val_loss: 179.4742\n",
      "Epoch 30/100\n",
      "3/3 [==============================] - 0s 50ms/step - loss: 188.6210 - val_loss: 171.5849\n",
      "Epoch 31/100\n",
      "3/3 [==============================] - 0s 56ms/step - loss: 187.3921 - val_loss: 166.9382\n",
      "Epoch 32/100\n",
      "3/3 [==============================] - 0s 80ms/step - loss: 189.2493 - val_loss: 166.0973\n",
      "Epoch 33/100\n",
      "3/3 [==============================] - 0s 112ms/step - loss: 188.8391 - val_loss: 166.8282\n",
      "Epoch 34/100\n",
      "3/3 [==============================] - 0s 110ms/step - loss: 186.2744 - val_loss: 171.6725\n",
      "Epoch 35/100\n",
      "3/3 [==============================] - 0s 116ms/step - loss: 187.9897 - val_loss: 176.2551\n",
      "Epoch 36/100\n",
      "3/3 [==============================] - 0s 84ms/step - loss: 187.0149 - val_loss: 176.3304\n",
      "Epoch 37/100\n",
      "3/3 [==============================] - 0s 102ms/step - loss: 184.7368 - val_loss: 173.1693\n",
      "Epoch 38/100\n",
      "3/3 [==============================] - 0s 108ms/step - loss: 185.6454 - val_loss: 169.0586\n",
      "Epoch 39/100\n",
      "3/3 [==============================] - 0s 100ms/step - loss: 184.5525 - val_loss: 168.2280\n",
      "Epoch 40/100\n",
      "3/3 [==============================] - 0s 96ms/step - loss: 184.5866 - val_loss: 168.7894\n",
      "Epoch 41/100\n",
      "3/3 [==============================] - 0s 98ms/step - loss: 183.8130 - val_loss: 164.1453\n",
      "Epoch 42/100\n",
      "3/3 [==============================] - 0s 99ms/step - loss: 182.7094 - val_loss: 164.9079\n",
      "Epoch 43/100\n",
      "3/3 [==============================] - 0s 99ms/step - loss: 182.0240 - val_loss: 168.8937\n",
      "Epoch 44/100\n",
      "3/3 [==============================] - 0s 99ms/step - loss: 185.8928 - val_loss: 180.9542\n",
      "Epoch 45/100\n",
      "3/3 [==============================] - 0s 100ms/step - loss: 183.7189 - val_loss: 176.6960\n",
      "Epoch 46/100\n",
      "3/3 [==============================] - 0s 92ms/step - loss: 181.8581 - val_loss: 168.2341\n",
      "Epoch 47/100\n",
      "3/3 [==============================] - 0s 125ms/step - loss: 179.1056 - val_loss: 164.1285\n",
      "Epoch 48/100\n",
      "3/3 [==============================] - 0s 104ms/step - loss: 183.0349 - val_loss: 160.7092\n",
      "Epoch 49/100\n",
      "3/3 [==============================] - 0s 75ms/step - loss: 180.4495 - val_loss: 161.7537\n",
      "Epoch 50/100\n",
      "3/3 [==============================] - 0s 80ms/step - loss: 178.0923 - val_loss: 161.4469\n",
      "Epoch 51/100\n",
      "3/3 [==============================] - 0s 84ms/step - loss: 179.1293 - val_loss: 165.3262\n",
      "Epoch 52/100\n",
      "3/3 [==============================] - 0s 82ms/step - loss: 177.1822 - val_loss: 166.7111\n",
      "Epoch 53/100\n",
      "3/3 [==============================] - 0s 76ms/step - loss: 175.5376 - val_loss: 164.9662\n",
      "Epoch 54/100\n",
      "3/3 [==============================] - 0s 64ms/step - loss: 175.2543 - val_loss: 162.4183\n",
      "Epoch 55/100\n",
      "3/3 [==============================] - 0s 66ms/step - loss: 174.9781 - val_loss: 161.3459\n",
      "Epoch 56/100\n",
      "3/3 [==============================] - 0s 63ms/step - loss: 177.8459 - val_loss: 162.3537\n",
      "Epoch 57/100\n",
      "3/3 [==============================] - 0s 88ms/step - loss: 177.2084 - val_loss: 158.8438\n",
      "Epoch 58/100\n",
      "3/3 [==============================] - 0s 103ms/step - loss: 175.3963 - val_loss: 159.3970\n",
      "Epoch 59/100\n",
      "3/3 [==============================] - 0s 106ms/step - loss: 175.9733 - val_loss: 159.4637\n",
      "Epoch 60/100\n",
      "3/3 [==============================] - 0s 121ms/step - loss: 172.9867 - val_loss: 158.2861\n",
      "Epoch 61/100\n",
      "3/3 [==============================] - 0s 84ms/step - loss: 173.9786 - val_loss: 162.7045\n",
      "Epoch 62/100\n",
      "3/3 [==============================] - 0s 106ms/step - loss: 173.5700 - val_loss: 165.5137\n",
      "Epoch 63/100\n",
      "3/3 [==============================] - 0s 102ms/step - loss: 173.8951 - val_loss: 167.1552\n",
      "Epoch 64/100\n",
      "3/3 [==============================] - 0s 98ms/step - loss: 171.3742 - val_loss: 161.8088\n",
      "Epoch 65/100\n",
      "3/3 [==============================] - 0s 93ms/step - loss: 174.5543 - val_loss: 156.1679\n",
      "Epoch 66/100\n",
      "3/3 [==============================] - 0s 78ms/step - loss: 170.1464 - val_loss: 157.0987\n",
      "Epoch 67/100\n",
      "3/3 [==============================] - 0s 59ms/step - loss: 170.4129 - val_loss: 159.1954\n",
      "Epoch 68/100\n",
      "3/3 [==============================] - 0s 65ms/step - loss: 171.4177 - val_loss: 159.4639\n",
      "Epoch 69/100\n",
      "3/3 [==============================] - 0s 95ms/step - loss: 169.3865 - val_loss: 155.3471\n",
      "Epoch 70/100\n",
      "3/3 [==============================] - 0s 68ms/step - loss: 170.2509 - val_loss: 153.6159\n",
      "Epoch 71/100\n",
      "3/3 [==============================] - 0s 76ms/step - loss: 168.4622 - val_loss: 154.9449\n",
      "Epoch 72/100\n",
      "3/3 [==============================] - 0s 69ms/step - loss: 169.2169 - val_loss: 158.2661\n",
      "Epoch 73/100\n",
      "3/3 [==============================] - 0s 86ms/step - loss: 169.8628 - val_loss: 159.8459\n",
      "Epoch 74/100\n",
      "3/3 [==============================] - 0s 86ms/step - loss: 168.4562 - val_loss: 154.4825\n",
      "Epoch 75/100\n",
      "3/3 [==============================] - 0s 92ms/step - loss: 166.7336 - val_loss: 155.6953\n",
      "Epoch 76/100\n",
      "3/3 [==============================] - 0s 87ms/step - loss: 166.6763 - val_loss: 158.1970\n",
      "Epoch 77/100\n",
      "3/3 [==============================] - 0s 93ms/step - loss: 166.3195 - val_loss: 158.9329\n",
      "Epoch 78/100\n",
      "3/3 [==============================] - 0s 98ms/step - loss: 165.5584 - val_loss: 155.0173\n",
      "Epoch 79/100\n",
      "3/3 [==============================] - 0s 88ms/step - loss: 167.0746 - val_loss: 155.0691\n",
      "Epoch 80/100\n"
     ]
    },
    {
     "name": "stdout",
     "output_type": "stream",
     "text": [
      "3/3 [==============================] - 0s 72ms/step - loss: 165.2914 - val_loss: 153.4974\n",
      "Epoch 81/100\n",
      "3/3 [==============================] - 0s 72ms/step - loss: 166.1600 - val_loss: 152.3614\n",
      "Epoch 82/100\n",
      "3/3 [==============================] - 0s 50ms/step - loss: 164.2915 - val_loss: 158.1063\n",
      "Epoch 83/100\n",
      "3/3 [==============================] - 0s 51ms/step - loss: 165.1706 - val_loss: 162.5227\n",
      "Epoch 84/100\n",
      "3/3 [==============================] - 0s 52ms/step - loss: 166.0672 - val_loss: 161.7738\n",
      "Epoch 85/100\n",
      "3/3 [==============================] - 0s 67ms/step - loss: 164.9784 - val_loss: 153.7905\n",
      "Epoch 86/100\n",
      "3/3 [==============================] - 0s 104ms/step - loss: 166.9997 - val_loss: 148.1442\n",
      "Epoch 87/100\n",
      "3/3 [==============================] - ETA: 0s - loss: 192.179 - 0s 89ms/step - loss: 164.2126 - val_loss: 148.9378\n",
      "Epoch 88/100\n",
      "3/3 [==============================] - 0s 102ms/step - loss: 162.1231 - val_loss: 157.1029\n",
      "Epoch 89/100\n",
      "3/3 [==============================] - 0s 105ms/step - loss: 165.5788 - val_loss: 167.9662\n",
      "Epoch 90/100\n",
      "3/3 [==============================] - 0s 101ms/step - loss: 165.5121 - val_loss: 165.8331\n",
      "Epoch 91/100\n",
      "3/3 [==============================] - 0s 99ms/step - loss: 164.7050 - val_loss: 158.8864\n",
      "Epoch 92/100\n",
      "3/3 [==============================] - 0s 103ms/step - loss: 168.2211 - val_loss: 146.9843\n",
      "Epoch 93/100\n",
      "3/3 [==============================] - 0s 85ms/step - loss: 161.3805 - val_loss: 148.4510\n",
      "Epoch 94/100\n",
      "3/3 [==============================] - 0s 96ms/step - loss: 163.2262 - val_loss: 148.6075\n",
      "Epoch 95/100\n",
      "3/3 [==============================] - 0s 90ms/step - loss: 162.1974 - val_loss: 151.9991\n",
      "Epoch 96/100\n",
      "3/3 [==============================] - 0s 92ms/step - loss: 161.4133 - val_loss: 154.6690\n",
      "Epoch 97/100\n",
      "3/3 [==============================] - 0s 88ms/step - loss: 161.6598 - val_loss: 153.3314\n",
      "Epoch 98/100\n",
      "3/3 [==============================] - 0s 104ms/step - loss: 160.9922 - val_loss: 152.8489\n",
      "Epoch 99/100\n",
      "3/3 [==============================] - 0s 63ms/step - loss: 161.7216 - val_loss: 150.1978\n",
      "Epoch 100/100\n",
      "3/3 [==============================] - 0s 82ms/step - loss: 161.7813 - val_loss: 146.0448\n"
     ]
    }
   ],
   "source": [
    "history = model.fit(X_train, y_train, epochs=100,\n",
    "                    validation_data=(X_valid, y_valid))"
   ]
  },
  {
   "cell_type": "markdown",
   "id": "17d6e37a",
   "metadata": {},
   "source": [
    "Plot the result"
   ]
  },
  {
   "cell_type": "code",
   "execution_count": 13,
   "id": "3b066f5c",
   "metadata": {},
   "outputs": [
    {
     "data": {
      "image/png": "[encoded data removed]",
      "text/plain": [
       "<Figure size 576x360 with 1 Axes>"
      ]
     },
     "metadata": {
      "needs_background": "light"
     },
     "output_type": "display_data"
    }
   ],
   "source": [
    "import pandas as pd\n",
    "\n",
    "pd.DataFrame(history.history).plot(figsize=(8, 5))\n",
    "plt.grid(True)\n",
    "# plt.gca().set_ylim(0, 1)\n",
    "plt.show()"
   ]
  },
  {
   "cell_type": "code",
   "execution_count": 14,
   "id": "03f9bb54",
   "metadata": {},
   "outputs": [
    {
     "data": {
      "image/png": "[encoded data removed]",
      "text/plain": [
       "<Figure size 432x288 with 1 Axes>"
      ]
     },
     "metadata": {
      "needs_background": "light"
     },
     "output_type": "display_data"
    }
   ],
   "source": [
    "# X_new = np.linspace(-5, 5, 100).reshape(100, 1)\n",
    "# y_new = model.predict(X_new)\n",
    "#\n",
    "plt.plot(X_train, y_train, \"b.\")\n",
    "# plt.plot(X_new, y_new, \"r-\", linewidth=2, label=\"Predictions\")\n",
    "draw_func(model.predict, mark='r-', linewidth=2, label=\"Predictions\")\n",
    "draw_normal_func(func_dict)\n",
    "plt.xlabel(\"$x_1$\", fontsize=18)\n",
    "plt.ylabel(\"$y$\", rotation=0, fontsize=18)\n",
    "plt.legend(loc=\"upper left\", fontsize=14)\n",
    "# plt.axis([-3, 3, 0, 10])\n",
    "plt.show()"
   ]
  },
  {
   "cell_type": "code",
   "execution_count": 15,
   "id": "bc06d931",
   "metadata": {},
   "outputs": [
    {
     "name": "stdout",
     "output_type": "stream",
     "text": [
      "y_func.shape = (100, 1)\n",
      "y_gt.shape = (100, 1)\n"
     ]
    },
    {
     "data": {
      "text/plain": [
       "6.187213181611462"
      ]
     },
     "execution_count": 15,
     "metadata": {},
     "output_type": "execute_result"
    }
   ],
   "source": [
    "get_prediction_error(model.predict, func_dict)"
   ]
  },
  {
   "cell_type": "markdown",
   "id": "58da8768",
   "metadata": {},
   "source": [
    "# Simulated CNN Feature Map (1-D grids, grid --> number)"
   ]
  },
  {
   "cell_type": "code",
   "execution_count": 16,
   "id": "287b5e4c",
   "metadata": {},
   "outputs": [],
   "source": [
    "class num2grid(keras.layers.Layer):\n",
    "    def __init__(self, units, x_min=-10, x_max=10, sigma=1.0, activation=None, **kwargs):\n",
    "        super().__init__(**kwargs)\n",
    "        self.units = units\n",
    "        self.x_min = x_min\n",
    "        self.x_max = x_max\n",
    "        self.sigma = sigma\n",
    "        self.sigma2 = self.sigma**2\n",
    "        self.activation = keras.activations.get(activation)\n",
    "        \n",
    "    def build(self, batch_input_shape):\n",
    "        #\n",
    "        self.x_grid = np.linspace(self.x_min, self.x_max, self.units, endpoint=True)\n",
    "#         print(\"self.x_grid.shape = %s\" % str(self.x_grid.shape))\n",
    "        #\n",
    "        super().build(batch_input_shape) # must be at the end\n",
    "        \n",
    "    def call(self, X):\n",
    "        '''\n",
    "        Input shape:  (batch, X_chanel)\n",
    "        Output shape: (batch, grid_unit) \n",
    "        \n",
    "        self.x_grid shape: (grid_unit,)\n",
    "        '''\n",
    "        gauss_grid = tf.exp( -(self.x_grid - X)**2 / (2.0*self.sigma2) )\n",
    "        print(\"X.shape = %s\" % str(X.shape))\n",
    "        print(\"gauss_grid.shape = %s\" % str(gauss_grid.shape))\n",
    "        return self.activation(gauss_grid)\n",
    "    \n",
    "    def compute_output_shape(self, batch_input_shape):\n",
    "        return tf.TensorShape(batch_input_shape.as_list()[:-1] + [self.units])\n",
    "    \n",
    "    def get_config(self):\n",
    "        base_config = super().get_config()\n",
    "        return {**base_config, \n",
    "                \"units\": self.units,\n",
    "                \"x_min\": self.x_min,\n",
    "                \"x_max\": self.x_max,\n",
    "                \"sigma\": self.sigma,\n",
    "                \"activation\": keras.activations.serialize(self.activation)}"
   ]
  },
  {
   "cell_type": "code",
   "execution_count": 17,
   "id": "f463c12a",
   "metadata": {},
   "outputs": [
    {
     "name": "stdout",
     "output_type": "stream",
     "text": [
      "X.shape = (None, 1)\n",
      "gauss_grid.shape = (None, 5)\n"
     ]
    },
    {
     "name": "stderr",
     "output_type": "stream",
     "text": [
      "/home/benson516/ml/my_env/lib/python3.6/site-packages/keras/optimizer_v2/optimizer_v2.py:356: UserWarning: The `lr` argument is deprecated, use `learning_rate` instead.\n",
      "  \"The `lr` argument is deprecated, use `learning_rate` instead.\")\n"
     ]
    }
   ],
   "source": [
    "model = keras.models.Sequential([\n",
    "    num2grid(5,x_min=-10, x_max=10, sigma=3.0, input_shape=X_train.shape[1:]),\n",
    "    keras.layers.Dense(30, activation=\"relu\"),\n",
    "#     keras.layers.Dense(100, activation=\"relu\", kernel_regularizer=tf.keras.regularizers.l1(0.01)),\n",
    "#     keras.layers.Dense(30, activation=keras.layers.LeakyReLU(alpha=0.2) ),\n",
    "#     keras.layers.Dense(30, activation=\"selu\"),\n",
    "#     keras.layers.Dense(30, activation=\"relu\"),\n",
    "    keras.layers.Dense(1)\n",
    "])\n",
    "\n",
    "optimizer = keras.optimizers.SGD(lr=0.001, momentum=0.9)\n",
    "model.compile(loss=\"mean_squared_error\", optimizer=optimizer)\n",
    "# optimizer = keras.optimizers.Adam(lr=0.01)\n",
    "# model.compile(loss=\"mean_absolute_error\", optimizer=optimizer)"
   ]
  },
  {
   "cell_type": "code",
   "execution_count": 18,
   "id": "c966ada4",
   "metadata": {
    "scrolled": true
   },
   "outputs": [
    {
     "name": "stdout",
     "output_type": "stream",
     "text": [
      "Epoch 1/100\n",
      "X.shape = (None, 1)\n",
      "gauss_grid.shape = (None, 5)\n",
      "X.shape = (None, 1)\n",
      "gauss_grid.shape = (None, 5)\n",
      "1/3 [=========>....................] - ETA: 1s - loss: 2864.9346X.shape = (None, 1)\n",
      "gauss_grid.shape = (None, 5)\n",
      "3/3 [==============================] - 1s 252ms/step - loss: 2474.7883 - val_loss: 1708.1865\n",
      "Epoch 2/100\n",
      "3/3 [==============================] - 0s 97ms/step - loss: 2387.6248 - val_loss: 1629.9126\n",
      "Epoch 3/100\n",
      "3/3 [==============================] - 0s 84ms/step - loss: 2138.4507 - val_loss: 1436.2468\n",
      "Epoch 4/100\n",
      "3/3 [==============================] - 0s 80ms/step - loss: 1551.1512 - val_loss: 1221.4329\n",
      "Epoch 5/100\n",
      "3/3 [==============================] - 0s 103ms/step - loss: 970.3712 - val_loss: 703.1981\n",
      "Epoch 6/100\n",
      "3/3 [==============================] - 0s 70ms/step - loss: 630.1010 - val_loss: 503.8423\n",
      "Epoch 7/100\n",
      "3/3 [==============================] - 0s 94ms/step - loss: 440.9993 - val_loss: 348.6776\n",
      "Epoch 8/100\n",
      "3/3 [==============================] - 0s 55ms/step - loss: 355.2890 - val_loss: 256.2805\n",
      "Epoch 9/100\n",
      "3/3 [==============================] - 0s 92ms/step - loss: 249.2334 - val_loss: 305.3383\n",
      "Epoch 10/100\n",
      "3/3 [==============================] - 0s 88ms/step - loss: 282.7042 - val_loss: 315.1385\n",
      "Epoch 11/100\n",
      "3/3 [==============================] - 0s 107ms/step - loss: 307.9326 - val_loss: 278.9429\n",
      "Epoch 12/100\n",
      "3/3 [==============================] - 0s 117ms/step - loss: 250.7728 - val_loss: 280.9469\n",
      "Epoch 13/100\n",
      "3/3 [==============================] - 0s 94ms/step - loss: 258.8978 - val_loss: 274.0367\n",
      "Epoch 14/100\n",
      "3/3 [==============================] - 0s 90ms/step - loss: 247.4831 - val_loss: 274.7787\n",
      "Epoch 15/100\n",
      "3/3 [==============================] - 0s 86ms/step - loss: 266.7130 - val_loss: 268.7232\n",
      "Epoch 16/100\n",
      "3/3 [==============================] - 0s 79ms/step - loss: 247.1552 - val_loss: 250.4220\n",
      "Epoch 17/100\n",
      "3/3 [==============================] - 0s 70ms/step - loss: 233.2269 - val_loss: 220.8833\n",
      "Epoch 18/100\n",
      "3/3 [==============================] - 0s 51ms/step - loss: 220.1479 - val_loss: 210.3961\n",
      "Epoch 19/100\n",
      "3/3 [==============================] - 0s 49ms/step - loss: 218.5444 - val_loss: 204.9307\n",
      "Epoch 20/100\n",
      "3/3 [==============================] - 0s 51ms/step - loss: 209.9535 - val_loss: 208.1034\n",
      "Epoch 21/100\n",
      "3/3 [==============================] - 0s 54ms/step - loss: 209.9539 - val_loss: 204.6133\n",
      "Epoch 22/100\n",
      "3/3 [==============================] - 0s 99ms/step - loss: 206.7158 - val_loss: 197.3894\n",
      "Epoch 23/100\n",
      "3/3 [==============================] - 0s 98ms/step - loss: 206.1970 - val_loss: 204.4593\n",
      "Epoch 24/100\n",
      "3/3 [==============================] - 0s 102ms/step - loss: 206.6649 - val_loss: 203.5230\n",
      "Epoch 25/100\n",
      "3/3 [==============================] - 0s 87ms/step - loss: 199.1758 - val_loss: 182.7097\n",
      "Epoch 26/100\n",
      "3/3 [==============================] - 0s 100ms/step - loss: 197.3289 - val_loss: 167.3761\n",
      "Epoch 27/100\n",
      "3/3 [==============================] - 0s 65ms/step - loss: 191.8926 - val_loss: 164.2527\n",
      "Epoch 28/100\n",
      "3/3 [==============================] - ETA: 0s - loss: 200.763 - 0s 92ms/step - loss: 189.2713 - val_loss: 166.2995\n",
      "Epoch 29/100\n",
      "3/3 [==============================] - 0s 109ms/step - loss: 193.0703 - val_loss: 160.2482\n",
      "Epoch 30/100\n",
      "3/3 [==============================] - 0s 127ms/step - loss: 183.7440 - val_loss: 152.9467\n",
      "Epoch 31/100\n",
      "3/3 [==============================] - 0s 117ms/step - loss: 187.1380 - val_loss: 162.2464\n",
      "Epoch 32/100\n",
      "3/3 [==============================] - 0s 91ms/step - loss: 188.8633 - val_loss: 160.9434\n",
      "Epoch 33/100\n",
      "3/3 [==============================] - ETA: 0s - loss: 172.849 - 0s 92ms/step - loss: 177.7645 - val_loss: 136.3189\n",
      "Epoch 34/100\n",
      "3/3 [==============================] - 0s 90ms/step - loss: 177.4878 - val_loss: 129.6968\n",
      "Epoch 35/100\n",
      "3/3 [==============================] - 0s 107ms/step - loss: 175.2360 - val_loss: 136.3248\n",
      "Epoch 36/100\n",
      "3/3 [==============================] - 0s 119ms/step - loss: 173.3105 - val_loss: 132.9655\n",
      "Epoch 37/100\n",
      "3/3 [==============================] - 0s 106ms/step - loss: 174.1290 - val_loss: 135.0285\n",
      "Epoch 38/100\n",
      "3/3 [==============================] - 0s 108ms/step - loss: 170.1441 - val_loss: 146.6517\n",
      "Epoch 39/100\n",
      "3/3 [==============================] - 0s 116ms/step - loss: 177.7937 - val_loss: 137.7935\n",
      "Epoch 40/100\n",
      "3/3 [==============================] - 0s 83ms/step - loss: 168.0391 - val_loss: 119.7852\n",
      "Epoch 41/100\n",
      "3/3 [==============================] - 0s 72ms/step - loss: 176.8852 - val_loss: 120.2680\n",
      "Epoch 42/100\n",
      "3/3 [==============================] - 0s 66ms/step - loss: 173.9573 - val_loss: 135.9404\n",
      "Epoch 43/100\n",
      "3/3 [==============================] - 0s 85ms/step - loss: 174.9939 - val_loss: 143.6975\n",
      "Epoch 44/100\n",
      "3/3 [==============================] - 0s 80ms/step - loss: 172.4418 - val_loss: 131.1722\n",
      "Epoch 45/100\n",
      "3/3 [==============================] - 0s 50ms/step - loss: 174.2494 - val_loss: 110.9915\n",
      "Epoch 46/100\n",
      "3/3 [==============================] - 0s 49ms/step - loss: 168.9690 - val_loss: 119.1250\n",
      "Epoch 47/100\n",
      "3/3 [==============================] - 0s 94ms/step - loss: 170.5600 - val_loss: 121.7351\n",
      "Epoch 48/100\n",
      "3/3 [==============================] - 0s 87ms/step - loss: 166.8408 - val_loss: 135.3792\n",
      "Epoch 49/100\n",
      "3/3 [==============================] - 0s 100ms/step - loss: 169.0492 - val_loss: 126.6680\n",
      "Epoch 50/100\n",
      "3/3 [==============================] - 0s 100ms/step - loss: 168.6937 - val_loss: 114.4537\n",
      "Epoch 51/100\n",
      "3/3 [==============================] - 0s 60ms/step - loss: 166.4792 - val_loss: 109.5739\n",
      "Epoch 52/100\n",
      "3/3 [==============================] - 0s 89ms/step - loss: 166.5997 - val_loss: 111.2842\n",
      "Epoch 53/100\n",
      "3/3 [==============================] - 0s 96ms/step - loss: 169.2360 - val_loss: 125.3871\n",
      "Epoch 54/100\n",
      "3/3 [==============================] - 0s 86ms/step - loss: 165.8621 - val_loss: 113.6753\n",
      "Epoch 55/100\n",
      "3/3 [==============================] - 0s 91ms/step - loss: 166.8087 - val_loss: 111.5126\n",
      "Epoch 56/100\n",
      "3/3 [==============================] - 0s 86ms/step - loss: 170.5744 - val_loss: 99.9097\n",
      "Epoch 57/100\n",
      "3/3 [==============================] - 0s 83ms/step - loss: 165.6965 - val_loss: 113.8849\n",
      "Epoch 58/100\n",
      "3/3 [==============================] - 0s 103ms/step - loss: 162.9737 - val_loss: 122.2393\n",
      "Epoch 59/100\n",
      "3/3 [==============================] - 0s 106ms/step - loss: 165.4767 - val_loss: 131.7758\n",
      "Epoch 60/100\n",
      "3/3 [==============================] - 0s 95ms/step - loss: 166.7372 - val_loss: 121.4772\n",
      "Epoch 61/100\n",
      "3/3 [==============================] - 0s 80ms/step - loss: 163.2315 - val_loss: 106.4103\n",
      "Epoch 62/100\n",
      "3/3 [==============================] - ETA: 0s - loss: 154.416 - 0s 96ms/step - loss: 168.0527 - val_loss: 105.3715\n",
      "Epoch 63/100\n",
      "3/3 [==============================] - 0s 95ms/step - loss: 166.9993 - val_loss: 113.1109\n",
      "Epoch 64/100\n",
      "3/3 [==============================] - 0s 88ms/step - loss: 167.7285 - val_loss: 138.5806\n",
      "Epoch 65/100\n",
      "3/3 [==============================] - 0s 75ms/step - loss: 174.6575 - val_loss: 133.4948\n",
      "Epoch 66/100\n",
      "3/3 [==============================] - 0s 81ms/step - loss: 162.4985 - val_loss: 107.2320\n",
      "Epoch 67/100\n",
      "3/3 [==============================] - 0s 96ms/step - loss: 167.4409 - val_loss: 103.9365\n",
      "Epoch 68/100\n",
      "3/3 [==============================] - 0s 65ms/step - loss: 182.8384 - val_loss: 94.3466\n",
      "Epoch 69/100\n",
      "3/3 [==============================] - 0s 88ms/step - loss: 172.8576 - val_loss: 113.8175\n",
      "Epoch 70/100\n",
      "3/3 [==============================] - 0s 95ms/step - loss: 167.4075 - val_loss: 147.4922\n",
      "Epoch 71/100\n",
      "3/3 [==============================] - 0s 59ms/step - loss: 167.7077 - val_loss: 140.0449\n",
      "Epoch 72/100\n",
      "3/3 [==============================] - 0s 51ms/step - loss: 164.2439 - val_loss: 113.1326\n",
      "Epoch 73/100\n",
      "3/3 [==============================] - 0s 47ms/step - loss: 164.7035 - val_loss: 101.0001\n",
      "Epoch 74/100\n",
      "3/3 [==============================] - 0s 74ms/step - loss: 165.0822 - val_loss: 107.4733\n",
      "Epoch 75/100\n",
      "3/3 [==============================] - 0s 103ms/step - loss: 163.4351 - val_loss: 128.4467\n",
      "Epoch 76/100\n",
      "3/3 [==============================] - 0s 100ms/step - loss: 162.7836 - val_loss: 138.0290\n",
      "Epoch 77/100\n"
     ]
    },
    {
     "name": "stdout",
     "output_type": "stream",
     "text": [
      "3/3 [==============================] - 0s 107ms/step - loss: 162.4826 - val_loss: 122.5212\n",
      "Epoch 78/100\n",
      "3/3 [==============================] - 0s 113ms/step - loss: 160.3172 - val_loss: 116.2467\n",
      "Epoch 79/100\n",
      "3/3 [==============================] - 0s 108ms/step - loss: 160.9408 - val_loss: 118.4796\n",
      "Epoch 80/100\n",
      "3/3 [==============================] - 0s 101ms/step - loss: 160.5819 - val_loss: 122.4259\n",
      "Epoch 81/100\n",
      "3/3 [==============================] - 0s 92ms/step - loss: 159.9433 - val_loss: 120.2512\n",
      "Epoch 82/100\n",
      "3/3 [==============================] - 0s 98ms/step - loss: 161.1742 - val_loss: 110.5328\n",
      "Epoch 83/100\n",
      "3/3 [==============================] - 0s 82ms/step - loss: 161.7423 - val_loss: 111.7476\n",
      "Epoch 84/100\n",
      "3/3 [==============================] - 0s 85ms/step - loss: 161.2154 - val_loss: 116.8461\n",
      "Epoch 85/100\n",
      "3/3 [==============================] - 0s 100ms/step - loss: 159.2530 - val_loss: 130.4202\n",
      "Epoch 86/100\n",
      "3/3 [==============================] - 0s 111ms/step - loss: 160.9027 - val_loss: 136.0608\n",
      "Epoch 87/100\n",
      "3/3 [==============================] - 0s 117ms/step - loss: 161.9850 - val_loss: 134.0294\n",
      "Epoch 88/100\n",
      "3/3 [==============================] - 0s 104ms/step - loss: 161.2192 - val_loss: 113.9581\n",
      "Epoch 89/100\n",
      "3/3 [==============================] - 0s 105ms/step - loss: 158.6250 - val_loss: 112.8757\n",
      "Epoch 90/100\n",
      "3/3 [==============================] - 0s 100ms/step - loss: 161.4143 - val_loss: 113.1285\n",
      "Epoch 91/100\n",
      "3/3 [==============================] - 0s 82ms/step - loss: 161.1445 - val_loss: 125.3509\n",
      "Epoch 92/100\n",
      "3/3 [==============================] - 0s 91ms/step - loss: 161.1605 - val_loss: 122.7250\n",
      "Epoch 93/100\n",
      "3/3 [==============================] - 0s 86ms/step - loss: 160.7448 - val_loss: 112.3964\n",
      "Epoch 94/100\n",
      "3/3 [==============================] - 0s 72ms/step - loss: 160.3208 - val_loss: 118.2009\n",
      "Epoch 95/100\n",
      "3/3 [==============================] - 0s 62ms/step - loss: 159.4985 - val_loss: 117.5310\n",
      "Epoch 96/100\n",
      "3/3 [==============================] - 0s 49ms/step - loss: 157.1906 - val_loss: 115.5470\n",
      "Epoch 97/100\n",
      "3/3 [==============================] - 0s 51ms/step - loss: 158.9552 - val_loss: 117.5497\n",
      "Epoch 98/100\n",
      "3/3 [==============================] - 0s 58ms/step - loss: 159.1802 - val_loss: 128.4769\n",
      "Epoch 99/100\n",
      "3/3 [==============================] - 0s 69ms/step - loss: 159.4924 - val_loss: 141.1216\n",
      "Epoch 100/100\n",
      "3/3 [==============================] - 0s 72ms/step - loss: 162.7651 - val_loss: 124.2544\n"
     ]
    }
   ],
   "source": [
    "history = model.fit(X_train, y_train, epochs=100,\n",
    "                    validation_data=(X_valid, y_valid))"
   ]
  },
  {
   "cell_type": "code",
   "execution_count": 19,
   "id": "4d550f88",
   "metadata": {},
   "outputs": [
    {
     "data": {
      "image/png": "[encoded data removed]",
      "text/plain": [
       "<Figure size 576x360 with 1 Axes>"
      ]
     },
     "metadata": {
      "needs_background": "light"
     },
     "output_type": "display_data"
    }
   ],
   "source": [
    "import pandas as pd\n",
    "\n",
    "pd.DataFrame(history.history).plot(figsize=(8, 5))\n",
    "plt.grid(True)\n",
    "# plt.gca().set_ylim(0, 1)\n",
    "plt.show()"
   ]
  },
  {
   "cell_type": "code",
   "execution_count": 20,
   "id": "5487653c",
   "metadata": {},
   "outputs": [
    {
     "name": "stdout",
     "output_type": "stream",
     "text": [
      "X.shape = (None, 1)\n",
      "gauss_grid.shape = (None, 5)\n"
     ]
    },
    {
     "data": {
      "image/png": "[encoded data removed]",
      "text/plain": [
       "<Figure size 432x288 with 1 Axes>"
      ]
     },
     "metadata": {
      "needs_background": "light"
     },
     "output_type": "display_data"
    }
   ],
   "source": [
    "# X_new = np.linspace(-5, 5, 100).reshape(100, 1)\n",
    "# y_new = model.predict(X_new)\n",
    "#\n",
    "plt.plot(X_train, y_train, \"b.\")\n",
    "# plt.plot(X_new, y_new, \"r-\", linewidth=2, label=\"Predictions\")\n",
    "draw_func(model.predict, mark='r-', linewidth=2, label=\"Predictions\")\n",
    "draw_normal_func(func_dict)\n",
    "plt.xlabel(\"$x_1$\", fontsize=18)\n",
    "plt.ylabel(\"$y$\", rotation=0, fontsize=18)\n",
    "plt.legend(loc=\"upper left\", fontsize=14)\n",
    "# plt.axis([-3, 3, 0, 10])\n",
    "plt.show()"
   ]
  },
  {
   "cell_type": "code",
   "execution_count": 21,
   "id": "f9c053a4",
   "metadata": {},
   "outputs": [
    {
     "name": "stdout",
     "output_type": "stream",
     "text": [
      "y_func.shape = (100, 1)\n",
      "y_gt.shape = (100, 1)\n"
     ]
    },
    {
     "data": {
      "text/plain": [
       "4.802823584398439"
      ]
     },
     "execution_count": 21,
     "metadata": {},
     "output_type": "execute_result"
    }
   ],
   "source": [
    "get_prediction_error(model.predict, func_dict)"
   ]
  },
  {
   "cell_type": "markdown",
   "id": "fe65d614",
   "metadata": {},
   "source": [
    "# Grid & Regression by Classification (grid --> grid)"
   ]
  },
  {
   "cell_type": "code",
   "execution_count": 22,
   "id": "3d35615e",
   "metadata": {},
   "outputs": [],
   "source": [
    "class num2grid_np():\n",
    "    def __init__(self, units, x_min=-10, x_max=10, sigma=1.0):\n",
    "        self.units = units\n",
    "        self.x_min = x_min\n",
    "        self.x_max = x_max\n",
    "        self.sigma = sigma\n",
    "        self.sigma2 = self.sigma**2\n",
    "        self.x_grid = np.linspace(self.x_min, self.x_max, self.units, endpoint=True)\n",
    "        print(\"self.x_grid = %s\" % str(self.x_grid))\n",
    "        \n",
    "    def convert(self, X):\n",
    "        gauss_grid = np.exp( -(self.x_grid - X)**2 / (2.0*self.sigma2) )\n",
    "#         if len(gauss_grid.shape) == 1:\n",
    "#             gauss_grid = gauss_grid.reshape([1,-1])\n",
    "#         grid_sum = np.sum(gauss_grid, axis=1, keepdims=True)\n",
    "        grid_sum = np.sum(gauss_grid, axis=-1, keepdims=True)\n",
    "        gauss_grid = gauss_grid / grid_sum\n",
    "        return gauss_grid\n",
    "    \n",
    "    def inv_convert(self, grid):\n",
    "#         if len(grid.shape) == 1:\n",
    "#             grid = grid.reshape([1,-1])\n",
    "#         grid_sum = np.sum(grid, axis=1)\n",
    "        grid_sum = np.sum(grid, axis=-1)\n",
    "#         print(grid_sum)\n",
    "        exp_num = np.sum((self.x_grid * grid), axis=-1) / grid_sum # element-wise\n",
    "        return exp_num\n",
    "    \n",
    "    def get_statistic(self, grid):\n",
    "        grid_sum = np.sum(grid, axis=-1)\n",
    "        _mean = np.sum((self.x_grid * grid), axis=-1) / grid_sum # element-wise\n",
    "        _var  = np.sum( ((self.x_grid.reshape((1,-1)) - _mean.reshape((-1,1)))**2 * grid), axis=-1) / grid_sum # element-wise\n",
    "        # print(\"(_mean, _var) = (%f, %f)\" % (_mean, _var))\n",
    "        _stddev = np.sqrt(_var)\n",
    "        return _mean, _stddev"
   ]
  },
  {
   "cell_type": "code",
   "execution_count": 23,
   "id": "4903180b",
   "metadata": {},
   "outputs": [
    {
     "name": "stdout",
     "output_type": "stream",
     "text": [
      "self.x_grid = [-100.          -95.91836735  -91.83673469  -87.75510204  -83.67346939\n",
      "  -79.59183673  -75.51020408  -71.42857143  -67.34693878  -63.26530612\n",
      "  -59.18367347  -55.10204082  -51.02040816  -46.93877551  -42.85714286\n",
      "  -38.7755102   -34.69387755  -30.6122449   -26.53061224  -22.44897959\n",
      "  -18.36734694  -14.28571429  -10.20408163   -6.12244898   -2.04081633\n",
      "    2.04081633    6.12244898   10.20408163   14.28571429   18.36734694\n",
      "   22.44897959   26.53061224   30.6122449    34.69387755   38.7755102\n",
      "   42.85714286   46.93877551   51.02040816   55.10204082   59.18367347\n",
      "   63.26530612   67.34693878   71.42857143   75.51020408   79.59183673\n",
      "   83.67346939   87.75510204   91.83673469   95.91836735  100.        ]\n"
     ]
    }
   ],
   "source": [
    "# class_num = 10 # 10\n",
    "# n2g = num2grid_np(class_num, x_min=-100.0, x_max=100.0, sigma=20.0) # 20.0\n",
    "# class_num = 20\n",
    "# n2g = num2grid_np(class_num, x_min=-100.0, x_max=100.0, sigma=15.0) # 20.0\n",
    "class_num = 50\n",
    "n2g = num2grid_np(class_num, x_min=-100.0, x_max=100.0, sigma=6.0) # 5.0 "
   ]
  },
  {
   "cell_type": "code",
   "execution_count": 24,
   "id": "dce05258",
   "metadata": {},
   "outputs": [
    {
     "name": "stdout",
     "output_type": "stream",
     "text": [
      "[[3.57995092e-60 2.08100846e-55 7.61538914e-51 1.75441300e-46\n",
      "  2.54444491e-42 2.32314196e-38 1.33530332e-34 4.83176258e-31\n",
      "  1.10065884e-27 1.57841554e-24 1.42498879e-21 8.09884396e-19\n",
      "  2.89771784e-16 6.52695532e-14 9.25521826e-12 8.26198061e-10\n",
      "  4.64304784e-08 1.64264466e-06 3.65852120e-05 5.12966502e-04\n",
      "  4.52786966e-03 2.51605603e-02 8.80173281e-02 1.93837381e-01\n",
      "  2.68737559e-01 2.34552834e-01 1.28876722e-01 4.45789421e-02\n",
      "  9.70748025e-03 1.33077537e-03 1.14848275e-04 6.23972825e-06\n",
      "  2.13416679e-07 4.59528573e-09 6.22899760e-11 5.31551427e-13\n",
      "  2.85557712e-15 9.65748361e-18 2.05615356e-20 2.75593262e-23\n",
      "  2.32542921e-26 1.23526215e-29 4.13082337e-33 8.69632169e-37\n",
      "  1.15254011e-40 9.61607812e-45 5.05081425e-49 1.67011468e-53\n",
      "  3.47658354e-58 4.55596654e-63]]\n"
     ]
    }
   ],
   "source": [
    "# grid_1 = n2g.convert(-1.2)\n",
    "grid_1 = n2g.convert([[-1.2]])\n",
    "print(grid_1)"
   ]
  },
  {
   "cell_type": "code",
   "execution_count": 25,
   "id": "48203fe2",
   "metadata": {},
   "outputs": [
    {
     "data": {
      "text/plain": [
       "array([-1.2])"
      ]
     },
     "execution_count": 25,
     "metadata": {},
     "output_type": "execute_result"
    }
   ],
   "source": [
    "n2g.inv_convert(grid_1)"
   ]
  },
  {
   "cell_type": "code",
   "execution_count": 26,
   "id": "a741b6d1",
   "metadata": {},
   "outputs": [
    {
     "data": {
      "text/plain": [
       "(array([-1.2]), array([6.]))"
      ]
     },
     "execution_count": 26,
     "metadata": {},
     "output_type": "execute_result"
    }
   ],
   "source": [
    "n2g.get_statistic(grid_1)"
   ]
  },
  {
   "cell_type": "markdown",
   "id": "bdc0b9a0",
   "metadata": {},
   "source": [
    "### Convert the labels to grid (pre-processing)"
   ]
  },
  {
   "cell_type": "code",
   "execution_count": 27,
   "id": "39c7fa96",
   "metadata": {},
   "outputs": [],
   "source": [
    "y_train_grid = n2g.convert(y_train)\n",
    "y_valid_grid = n2g.convert(y_valid)"
   ]
  },
  {
   "cell_type": "code",
   "execution_count": 28,
   "id": "f577a751",
   "metadata": {},
   "outputs": [
    {
     "name": "stdout",
     "output_type": "stream",
     "text": [
      "(80, 50)\n",
      "(20, 50)\n"
     ]
    }
   ],
   "source": [
    "print(y_train_grid.shape)\n",
    "print(y_valid_grid.shape)"
   ]
  },
  {
   "cell_type": "code",
   "execution_count": 29,
   "id": "71610af1",
   "metadata": {},
   "outputs": [
    {
     "name": "stdout",
     "output_type": "stream",
     "text": [
      "X.shape = (None, 1)\n",
      "gauss_grid.shape = (None, 5)\n"
     ]
    },
    {
     "name": "stderr",
     "output_type": "stream",
     "text": [
      "/home/benson516/ml/my_env/lib/python3.6/site-packages/keras/optimizer_v2/optimizer_v2.py:356: UserWarning: The `lr` argument is deprecated, use `learning_rate` instead.\n",
      "  \"The `lr` argument is deprecated, use `learning_rate` instead.\")\n"
     ]
    }
   ],
   "source": [
    "model = keras.models.Sequential([\n",
    "#     keras.layers.Dense(30, activation=\"relu\", input_shape=X_train.shape[1:]),\n",
    "    num2grid(5,x_min=-10, x_max=10, sigma=3.0, input_shape=X_train.shape[1:]),\n",
    "    keras.layers.Dense(30, activation=\"relu\"),\n",
    "#     keras.layers.Dense(100, activation=\"relu\", kernel_regularizer=tf.keras.regularizers.l1(0.01)),\n",
    "    keras.layers.Dense(class_num, activation=\"softmax\"),\n",
    "])\n",
    "\n",
    "optimizer = keras.optimizers.SGD(lr=0.2, momentum=0.9)\n",
    "model.compile(loss=\"categorical_crossentropy\", optimizer=optimizer)"
   ]
  },
  {
   "cell_type": "code",
   "execution_count": 30,
   "id": "e2244aee",
   "metadata": {
    "scrolled": true
   },
   "outputs": [
    {
     "name": "stdout",
     "output_type": "stream",
     "text": [
      "Epoch 1/100\n",
      "X.shape = (None, 1)\n",
      "gauss_grid.shape = (None, 5)\n",
      "X.shape = (None, 1)\n",
      "gauss_grid.shape = (None, 5)\n",
      "1/3 [=========>....................] - ETA: 1s - loss: 3.9325X.shape = (None, 1)\n",
      "gauss_grid.shape = (None, 5)\n",
      "3/3 [==============================] - 1s 236ms/step - loss: 3.9218 - val_loss: 3.8925\n",
      "Epoch 2/100\n",
      "3/3 [==============================] - 0s 64ms/step - loss: 3.8716 - val_loss: 3.8497\n",
      "Epoch 3/100\n",
      "3/3 [==============================] - 0s 114ms/step - loss: 3.8009 - val_loss: 3.8062\n",
      "Epoch 4/100\n",
      "3/3 [==============================] - 0s 68ms/step - loss: 3.7200 - val_loss: 3.7588\n",
      "Epoch 5/100\n",
      "3/3 [==============================] - 0s 93ms/step - loss: 3.6235 - val_loss: 3.6982\n",
      "Epoch 6/100\n",
      "3/3 [==============================] - 0s 79ms/step - loss: 3.5124 - val_loss: 3.6238\n",
      "Epoch 7/100\n",
      "3/3 [==============================] - 0s 46ms/step - loss: 3.3846 - val_loss: 3.5473\n",
      "Epoch 8/100\n",
      "3/3 [==============================] - 0s 65ms/step - loss: 3.2766 - val_loss: 3.4769\n",
      "Epoch 9/100\n",
      "3/3 [==============================] - 0s 51ms/step - loss: 3.1952 - val_loss: 3.4030\n",
      "Epoch 10/100\n",
      "3/3 [==============================] - 0s 48ms/step - loss: 3.1330 - val_loss: 3.3175\n",
      "Epoch 11/100\n",
      "3/3 [==============================] - 0s 58ms/step - loss: 3.0843 - val_loss: 3.2397\n",
      "Epoch 12/100\n",
      "3/3 [==============================] - 0s 56ms/step - loss: 3.0405 - val_loss: 3.1396\n",
      "Epoch 13/100\n",
      "3/3 [==============================] - 0s 92ms/step - loss: 3.0005 - val_loss: 3.0775\n",
      "Epoch 14/100\n",
      "3/3 [==============================] - 0s 80ms/step - loss: 2.9665 - val_loss: 3.0576\n",
      "Epoch 15/100\n",
      "3/3 [==============================] - 0s 99ms/step - loss: 2.9385 - val_loss: 3.0398\n",
      "Epoch 16/100\n",
      "3/3 [==============================] - 0s 85ms/step - loss: 2.9163 - val_loss: 3.0263\n",
      "Epoch 17/100\n",
      "3/3 [==============================] - 0s 102ms/step - loss: 2.8963 - val_loss: 3.0445\n",
      "Epoch 18/100\n",
      "3/3 [==============================] - 0s 94ms/step - loss: 2.8690 - val_loss: 3.0436\n",
      "Epoch 19/100\n",
      "3/3 [==============================] - 0s 99ms/step - loss: 2.8333 - val_loss: 3.0522\n",
      "Epoch 20/100\n",
      "3/3 [==============================] - 0s 83ms/step - loss: 2.8146 - val_loss: 3.0270\n",
      "Epoch 21/100\n",
      "3/3 [==============================] - 0s 103ms/step - loss: 2.7912 - val_loss: 2.9898\n",
      "Epoch 22/100\n",
      "3/3 [==============================] - 0s 76ms/step - loss: 2.7690 - val_loss: 2.9678\n",
      "Epoch 23/100\n",
      "3/3 [==============================] - 0s 96ms/step - loss: 2.7543 - val_loss: 2.9576\n",
      "Epoch 24/100\n",
      "3/3 [==============================] - 0s 73ms/step - loss: 2.7283 - val_loss: 2.9434\n",
      "Epoch 25/100\n",
      "3/3 [==============================] - 0s 81ms/step - loss: 2.7118 - val_loss: 2.9134\n",
      "Epoch 26/100\n",
      "3/3 [==============================] - 0s 89ms/step - loss: 2.7070 - val_loss: 2.8716\n",
      "Epoch 27/100\n",
      "3/3 [==============================] - 0s 108ms/step - loss: 2.6853 - val_loss: 2.8860\n",
      "Epoch 28/100\n",
      "3/3 [==============================] - 0s 74ms/step - loss: 2.6738 - val_loss: 2.8560\n",
      "Epoch 29/100\n",
      "3/3 [==============================] - 0s 61ms/step - loss: 2.6478 - val_loss: 2.8131\n",
      "Epoch 30/100\n",
      "3/3 [==============================] - 0s 108ms/step - loss: 2.6376 - val_loss: 2.8131\n",
      "Epoch 31/100\n",
      "3/3 [==============================] - 0s 101ms/step - loss: 2.6436 - val_loss: 2.8374\n",
      "Epoch 32/100\n",
      "3/3 [==============================] - 0s 102ms/step - loss: 2.6282 - val_loss: 2.8066\n",
      "Epoch 33/100\n",
      "3/3 [==============================] - 0s 94ms/step - loss: 2.6127 - val_loss: 2.7547\n",
      "Epoch 34/100\n",
      "3/3 [==============================] - 0s 63ms/step - loss: 2.5993 - val_loss: 2.7876\n",
      "Epoch 35/100\n",
      "3/3 [==============================] - 0s 64ms/step - loss: 2.5900 - val_loss: 2.7824\n",
      "Epoch 36/100\n",
      "3/3 [==============================] - 0s 69ms/step - loss: 2.5914 - val_loss: 2.7523\n",
      "Epoch 37/100\n",
      "3/3 [==============================] - 0s 57ms/step - loss: 2.5701 - val_loss: 2.7665\n",
      "Epoch 38/100\n",
      "3/3 [==============================] - 0s 49ms/step - loss: 2.5638 - val_loss: 2.7663\n",
      "Epoch 39/100\n",
      "3/3 [==============================] - 0s 55ms/step - loss: 2.5649 - val_loss: 2.7628\n",
      "Epoch 40/100\n",
      "3/3 [==============================] - ETA: 0s - loss: 2.425 - 0s 96ms/step - loss: 2.5465 - val_loss: 2.7080\n",
      "Epoch 41/100\n",
      "3/3 [==============================] - 0s 92ms/step - loss: 2.5451 - val_loss: 2.7154\n",
      "Epoch 42/100\n",
      "3/3 [==============================] - 0s 98ms/step - loss: 2.5517 - val_loss: 2.6671\n",
      "Epoch 43/100\n",
      "3/3 [==============================] - 0s 84ms/step - loss: 2.5398 - val_loss: 2.7286\n",
      "Epoch 44/100\n",
      "3/3 [==============================] - 0s 88ms/step - loss: 2.5206 - val_loss: 2.7550\n",
      "Epoch 45/100\n",
      "3/3 [==============================] - 0s 104ms/step - loss: 2.5249 - val_loss: 2.6926\n",
      "Epoch 46/100\n",
      "3/3 [==============================] - 0s 114ms/step - loss: 2.5098 - val_loss: 2.6387\n",
      "Epoch 47/100\n",
      "3/3 [==============================] - 0s 119ms/step - loss: 2.5036 - val_loss: 2.6314\n",
      "Epoch 48/100\n",
      "3/3 [==============================] - 0s 99ms/step - loss: 2.4968 - val_loss: 2.7054\n",
      "Epoch 49/100\n",
      "3/3 [==============================] - 0s 88ms/step - loss: 2.4912 - val_loss: 2.7547\n",
      "Epoch 50/100\n",
      "3/3 [==============================] - 0s 79ms/step - loss: 2.4962 - val_loss: 2.7534\n",
      "Epoch 51/100\n",
      "3/3 [==============================] - 0s 94ms/step - loss: 2.4874 - val_loss: 2.6691\n",
      "Epoch 52/100\n",
      "3/3 [==============================] - 0s 85ms/step - loss: 2.4815 - val_loss: 2.6102\n",
      "Epoch 53/100\n",
      "3/3 [==============================] - 0s 85ms/step - loss: 2.5050 - val_loss: 2.6507\n",
      "Epoch 54/100\n",
      "3/3 [==============================] - 0s 93ms/step - loss: 2.4930 - val_loss: 2.7078\n",
      "Epoch 55/100\n",
      "3/3 [==============================] - 0s 107ms/step - loss: 2.4779 - val_loss: 2.6958\n",
      "Epoch 56/100\n",
      "3/3 [==============================] - 0s 115ms/step - loss: 2.4750 - val_loss: 2.6678\n",
      "Epoch 57/100\n",
      "3/3 [==============================] - 0s 86ms/step - loss: 2.4836 - val_loss: 2.5982\n",
      "Epoch 58/100\n",
      "3/3 [==============================] - 0s 90ms/step - loss: 2.4945 - val_loss: 2.6345\n",
      "Epoch 59/100\n",
      "3/3 [==============================] - 0s 92ms/step - loss: 2.4711 - val_loss: 2.7992\n",
      "Epoch 60/100\n",
      "3/3 [==============================] - 0s 85ms/step - loss: 2.4853 - val_loss: 2.6662\n",
      "Epoch 61/100\n",
      "3/3 [==============================] - ETA: 0s - loss: 2.457 - 0s 93ms/step - loss: 2.4804 - val_loss: 2.5889\n",
      "Epoch 62/100\n",
      "3/3 [==============================] - 0s 64ms/step - loss: 2.4556 - val_loss: 2.6502\n",
      "Epoch 63/100\n",
      "3/3 [==============================] - 0s 52ms/step - loss: 2.4565 - val_loss: 2.6558\n",
      "Epoch 64/100\n",
      "3/3 [==============================] - 0s 53ms/step - loss: 2.4500 - val_loss: 2.6155\n",
      "Epoch 65/100\n",
      "3/3 [==============================] - 0s 66ms/step - loss: 2.4564 - val_loss: 2.6235\n",
      "Epoch 66/100\n",
      "3/3 [==============================] - 0s 85ms/step - loss: 2.4416 - val_loss: 2.6397\n",
      "Epoch 67/100\n",
      "3/3 [==============================] - 0s 83ms/step - loss: 2.4477 - val_loss: 2.6116\n",
      "Epoch 68/100\n",
      "3/3 [==============================] - 0s 89ms/step - loss: 2.4364 - val_loss: 2.6536\n",
      "Epoch 69/100\n",
      "3/3 [==============================] - 0s 93ms/step - loss: 2.4340 - val_loss: 2.6627\n",
      "Epoch 70/100\n",
      "3/3 [==============================] - 0s 101ms/step - loss: 2.4328 - val_loss: 2.6276\n",
      "Epoch 71/100\n",
      "3/3 [==============================] - 0s 88ms/step - loss: 2.4282 - val_loss: 2.6325\n",
      "Epoch 72/100\n",
      "3/3 [==============================] - 0s 107ms/step - loss: 2.4298 - val_loss: 2.6389\n",
      "Epoch 73/100\n",
      "3/3 [==============================] - 0s 111ms/step - loss: 2.4257 - val_loss: 2.5946\n",
      "Epoch 74/100\n",
      "3/3 [==============================] - 0s 106ms/step - loss: 2.4396 - val_loss: 2.5946\n",
      "Epoch 75/100\n",
      "3/3 [==============================] - 0s 117ms/step - loss: 2.4198 - val_loss: 2.6874\n",
      "Epoch 76/100\n",
      "3/3 [==============================] - 0s 113ms/step - loss: 2.4369 - val_loss: 2.6796\n",
      "Epoch 77/100\n",
      "3/3 [==============================] - 0s 127ms/step - loss: 2.4304 - val_loss: 2.6033\n",
      "Epoch 78/100\n",
      "3/3 [==============================] - 0s 104ms/step - loss: 2.4275 - val_loss: 2.5408\n",
      "Epoch 79/100\n",
      "3/3 [==============================] - 0s 99ms/step - loss: 2.4160 - val_loss: 2.6036\n",
      "Epoch 80/100\n",
      "3/3 [==============================] - 0s 70ms/step - loss: 2.4592 - val_loss: 2.7088\n",
      "Epoch 81/100\n"
     ]
    },
    {
     "name": "stdout",
     "output_type": "stream",
     "text": [
      "3/3 [==============================] - 0s 112ms/step - loss: 2.4325 - val_loss: 2.5991\n",
      "Epoch 82/100\n",
      "3/3 [==============================] - 0s 101ms/step - loss: 2.4476 - val_loss: 2.6273\n",
      "Epoch 83/100\n",
      "3/3 [==============================] - 0s 98ms/step - loss: 2.4275 - val_loss: 2.6854\n",
      "Epoch 84/100\n",
      "3/3 [==============================] - ETA: 0s - loss: 2.445 - 0s 89ms/step - loss: 2.4228 - val_loss: 2.6087\n",
      "Epoch 85/100\n",
      "3/3 [==============================] - 0s 77ms/step - loss: 2.4070 - val_loss: 2.5740\n",
      "Epoch 86/100\n",
      "3/3 [==============================] - 0s 95ms/step - loss: 2.4088 - val_loss: 2.6110\n",
      "Epoch 87/100\n",
      "3/3 [==============================] - 0s 60ms/step - loss: 2.4124 - val_loss: 2.6438\n",
      "Epoch 88/100\n",
      "3/3 [==============================] - 0s 56ms/step - loss: 2.4108 - val_loss: 2.6087\n",
      "Epoch 89/100\n",
      "3/3 [==============================] - 0s 48ms/step - loss: 2.4106 - val_loss: 2.6561\n",
      "Epoch 90/100\n",
      "3/3 [==============================] - 0s 46ms/step - loss: 2.4052 - val_loss: 2.6818\n",
      "Epoch 91/100\n",
      "3/3 [==============================] - 0s 63ms/step - loss: 2.4079 - val_loss: 2.6310\n",
      "Epoch 92/100\n",
      "3/3 [==============================] - 0s 105ms/step - loss: 2.3939 - val_loss: 2.5852\n",
      "Epoch 93/100\n",
      "3/3 [==============================] - 0s 86ms/step - loss: 2.4010 - val_loss: 2.5345\n",
      "Epoch 94/100\n",
      "3/3 [==============================] - 0s 81ms/step - loss: 2.3920 - val_loss: 2.5745\n",
      "Epoch 95/100\n",
      "3/3 [==============================] - ETA: 0s - loss: 2.438 - 0s 88ms/step - loss: 2.3899 - val_loss: 2.5608\n",
      "Epoch 96/100\n",
      "3/3 [==============================] - 0s 109ms/step - loss: 2.3837 - val_loss: 2.5620\n",
      "Epoch 97/100\n",
      "3/3 [==============================] - 0s 88ms/step - loss: 2.3835 - val_loss: 2.5918\n",
      "Epoch 98/100\n",
      "3/3 [==============================] - 0s 104ms/step - loss: 2.3888 - val_loss: 2.5898\n",
      "Epoch 99/100\n",
      "3/3 [==============================] - 0s 92ms/step - loss: 2.3838 - val_loss: 2.6091\n",
      "Epoch 100/100\n",
      "3/3 [==============================] - 0s 89ms/step - loss: 2.3919 - val_loss: 2.5456\n"
     ]
    }
   ],
   "source": [
    "history = model.fit(X_train, y_train_grid, epochs=100,\n",
    "                    validation_data=(X_valid, y_valid_grid))"
   ]
  },
  {
   "cell_type": "code",
   "execution_count": 31,
   "id": "390834c9",
   "metadata": {},
   "outputs": [
    {
     "data": {
      "image/png": "[encoded data removed]",
      "text/plain": [
       "<Figure size 576x360 with 1 Axes>"
      ]
     },
     "metadata": {
      "needs_background": "light"
     },
     "output_type": "display_data"
    }
   ],
   "source": [
    "import pandas as pd\n",
    "\n",
    "pd.DataFrame(history.history).plot(figsize=(8, 5))\n",
    "plt.grid(True)\n",
    "# plt.gca().set_ylim(0, 1)\n",
    "plt.show()"
   ]
  },
  {
   "cell_type": "code",
   "execution_count": 32,
   "id": "6fba3b6a",
   "metadata": {},
   "outputs": [
    {
     "name": "stdout",
     "output_type": "stream",
     "text": [
      "X.shape = (None, 1)\n",
      "gauss_grid.shape = (None, 5)\n"
     ]
    },
    {
     "data": {
      "image/png": "[encoded data removed]",
      "text/plain": [
       "<Figure size 432x288 with 1 Axes>"
      ]
     },
     "metadata": {
      "needs_background": "light"
     },
     "output_type": "display_data"
    }
   ],
   "source": [
    "# X_new = np.linspace(-5, 5, 100).reshape(100, 1)\n",
    "# y_new_proba = model.predict(X_new)\n",
    "# y_new = n2g.inv_convert(y_new_proba)\n",
    "#\n",
    "plt.plot(X_train, y_train, \"b.\")\n",
    "# plt.plot(X_new, y_new, \"r-\", linewidth=2, label=\"Predictions\")\n",
    "draw_func((lambda X: n2g.inv_convert(model.predict(X)) ), mark='r-', linewidth=2, label=\"Predictions\")\n",
    "draw_normal_func(func_dict)\n",
    "plt.xlabel(\"$x_1$\", fontsize=18)\n",
    "plt.ylabel(\"$y$\", rotation=0, fontsize=18)\n",
    "plt.legend(loc=\"upper left\", fontsize=14)\n",
    "# plt.axis([-3, 3, 0, 10])\n",
    "plt.show()"
   ]
  },
  {
   "cell_type": "code",
   "execution_count": 33,
   "id": "fc059ba5",
   "metadata": {},
   "outputs": [
    {
     "name": "stdout",
     "output_type": "stream",
     "text": [
      "y_func.shape = (100, 1)\n",
      "y_gt.shape = (100, 1)\n"
     ]
    },
    {
     "data": {
      "text/plain": [
       "4.553549342770463"
      ]
     },
     "execution_count": 33,
     "metadata": {},
     "output_type": "execute_result"
    }
   ],
   "source": [
    "get_prediction_error((lambda X: n2g.inv_convert(model.predict(X)) ), func_dict)"
   ]
  },
  {
   "cell_type": "code",
   "execution_count": 34,
   "id": "edcf26db",
   "metadata": {},
   "outputs": [
    {
     "data": {
      "text/plain": [
       "<matplotlib.collections.QuadMesh at 0x7ff29bab76a0>"
      ]
     },
     "execution_count": 34,
     "metadata": {},
     "output_type": "execute_result"
    },
    {
     "data": {
      "image/png": "[encoded data removed]",
      "text/plain": [
       "<Figure size 432x288 with 1 Axes>"
      ]
     },
     "metadata": {
      "needs_background": "light"
     },
     "output_type": "display_data"
    }
   ],
   "source": [
    "X_new = np.linspace(-5, 5, 100).reshape(100, 1)\n",
    "y_new_proba = model.predict(X_new)\n",
    "# y_new = n2g.inv_convert(y_new_proba)\n",
    "#\n",
    "xv, yv = np.meshgrid(X_new, np.linspace(n2g.x_min, n2g.x_max, n2g.units))\n",
    "# print(xv)\n",
    "# print(yv)\n",
    "plt.pcolormesh(xv, yv, y_new_proba.T, shading=\"nearest\")"
   ]
  },
  {
   "cell_type": "markdown",
   "id": "4064d3b5",
   "metadata": {},
   "source": [
    "### Draw the 1-sigma boundary line"
   ]
  },
  {
   "cell_type": "code",
   "execution_count": 35,
   "id": "247e8712",
   "metadata": {},
   "outputs": [
    {
     "data": {
      "image/png": "[encoded data removed]",
      "text/plain": [
       "<Figure size 432x288 with 1 Axes>"
      ]
     },
     "metadata": {
      "needs_background": "light"
     },
     "output_type": "display_data"
    }
   ],
   "source": [
    "def n_sigma_boundary_line(X, n):\n",
    "    _mean, _sigma = n2g.get_statistic(model.predict(X))\n",
    "    return( _mean + n*_sigma)\n",
    "\n",
    "plt.plot(X_train, y_train, \"b.\")\n",
    "#\n",
    "draw_func((lambda X: n2g.inv_convert(model.predict(X)) ), mark='r-', linewidth=2, label=\"Predictions\")\n",
    "draw_func((lambda X: n_sigma_boundary_line(X, +1.0) ), mark='k--', linewidth=1, label=\"$\\mu+\\sigma$\")\n",
    "draw_func((lambda X: n_sigma_boundary_line(X, -1.0) ), mark='k--', linewidth=1, label=\"$\\mu-\\sigma$\")\n",
    "#\n",
    "draw_normal_func(func_dict)\n",
    "plt.xlabel(\"$x_1$\", fontsize=18)\n",
    "plt.ylabel(\"$y$\", rotation=0, fontsize=18)\n",
    "plt.legend(loc=\"upper left\", fontsize=14)\n",
    "# plt.axis([-3, 3, 0, 10])\n",
    "plt.show()"
   ]
  },
  {
   "cell_type": "code",
   "execution_count": null,
   "id": "e6266336",
   "metadata": {},
   "outputs": [],
   "source": []
  },
  {
   "cell_type": "markdown",
   "id": "99a85ab5",
   "metadata": {},
   "source": [
    "# Grid & Regression by Classification + Offset Estimation (grid --> grid,num)"
   ]
  },
  {
   "cell_type": "code",
   "execution_count": 36,
   "id": "26440167",
   "metadata": {},
   "outputs": [],
   "source": [
    "class num2gridOffset_np():\n",
    "    def __init__(self, units, x_min=-10, x_max=10):\n",
    "        self.units = units\n",
    "        self.x_min = x_min\n",
    "        self.x_max = x_max\n",
    "        self.x_grid = np.linspace(self.x_min, self.x_max, self.units, endpoint=True)\n",
    "        # bins\n",
    "        x_space = np.average(self.x_grid[1:] - self.x_grid[:-1])\n",
    "        print(\"x_space = %f\" % x_space)\n",
    "        x_0 = self.x_grid[0] - 0.5 * x_space\n",
    "        self.x_bins = [x_0 + _i*x_space for _i in range(len(self.x_grid)+1)]\n",
    "        print(\"self.x_grid = %s\" % str(self.x_grid))\n",
    "#         print(\"self.x_bins = %s\" % str(self.x_bins))\n",
    "        \n",
    "    def convert(self, X):\n",
    "        '''\n",
    "        Convert a batch of number to one-hot class and numerical offset to each grid's center\n",
    "        (m, 1) --> (m, n_units, 2)\n",
    "        '''\n",
    "        X = np.array(X)\n",
    "        if len(X.shape) <= 1:\n",
    "            X = X.reshape((-1,1))\n",
    "        idxs_bin = np.digitize(X, self.x_bins, right=False) \n",
    "        idxs_grid = (idxs_bin - 1) + 1*(idxs_bin<= 0) - 1*(idxs_bin>=self.units)\n",
    "        print(idxs_grid.shape)\n",
    "        #\n",
    "        batch_size = X.shape[0]\n",
    "        grid = np.zeros((batch_size, self.units, 2))\n",
    "        # Fill in the values\n",
    "        grid[np.arange(batch_size), idxs_grid.reshape((-1,)), 0] = 1.0\n",
    "        grid[np.arange(batch_size), :, 1] = X - self.x_grid.reshape((1,-1)) # Offset\n",
    "        return grid\n",
    "    \n",
    "    def inv_convert(self, grid):\n",
    "        idxs_grid = np.argmax(grid[...,0], axis=1)\n",
    "        print(idxs_grid.shape)\n",
    "        #\n",
    "        batch_size = grid.shape[0]\n",
    "        offset_est = grid[np.arange(batch_size),idxs_grid,1]\n",
    "        print(offset_est.shape)\n",
    "        num_est = self.x_grid[idxs_grid].reshape((1,-1)) + offset_est\n",
    "        return num_est.reshape((-1,))"
   ]
  },
  {
   "cell_type": "code",
   "execution_count": 37,
   "id": "8b15e9ff",
   "metadata": {},
   "outputs": [
    {
     "name": "stdout",
     "output_type": "stream",
     "text": [
      "x_space = 22.222222\n",
      "self.x_grid = [-100.          -77.77777778  -55.55555556  -33.33333333  -11.11111111\n",
      "   11.11111111   33.33333333   55.55555556   77.77777778  100.        ]\n"
     ]
    }
   ],
   "source": [
    "class_num = 10 # 10\n",
    "n2go = num2gridOffset_np(class_num, x_min=-100.0, x_max=100.0) "
   ]
  },
  {
   "cell_type": "code",
   "execution_count": 38,
   "id": "8f6e7955",
   "metadata": {},
   "outputs": [
    {
     "name": "stdout",
     "output_type": "stream",
     "text": [
      "(2, 1)\n",
      "[[[   0.           98.8       ]\n",
      "  [   0.           76.57777778]\n",
      "  [   0.           54.35555556]\n",
      "  [   0.           32.13333333]\n",
      "  [   1.            9.91111111]\n",
      "  [   0.          -12.31111111]\n",
      "  [   0.          -34.53333333]\n",
      "  [   0.          -56.75555556]\n",
      "  [   0.          -78.97777778]\n",
      "  [   0.         -101.2       ]]\n",
      "\n",
      " [[   0.          150.5       ]\n",
      "  [   0.          128.27777778]\n",
      "  [   0.          106.05555556]\n",
      "  [   0.           83.83333333]\n",
      "  [   0.           61.61111111]\n",
      "  [   0.           39.38888889]\n",
      "  [   0.           17.16666667]\n",
      "  [   1.           -5.05555556]\n",
      "  [   0.          -27.27777778]\n",
      "  [   0.          -49.5       ]]]\n"
     ]
    }
   ],
   "source": [
    "# grid_1 = n2g.convert(-1.2)\n",
    "grid_1 = n2go.convert([[-1.2], [50.5]])\n",
    "print(grid_1)"
   ]
  },
  {
   "cell_type": "code",
   "execution_count": 39,
   "id": "48840dc5",
   "metadata": {},
   "outputs": [
    {
     "name": "stdout",
     "output_type": "stream",
     "text": [
      "(2,)\n",
      "(2,)\n"
     ]
    },
    {
     "data": {
      "text/plain": [
       "array([-1.2, 50.5])"
      ]
     },
     "execution_count": 39,
     "metadata": {},
     "output_type": "execute_result"
    }
   ],
   "source": [
    "n2go.inv_convert(grid_1)"
   ]
  },
  {
   "cell_type": "markdown",
   "id": "11683cea",
   "metadata": {},
   "source": [
    "### Convert the labels to grid (pre-processing)"
   ]
  },
  {
   "cell_type": "code",
   "execution_count": 40,
   "id": "472997cf",
   "metadata": {},
   "outputs": [
    {
     "name": "stdout",
     "output_type": "stream",
     "text": [
      "(80, 1)\n",
      "(20, 1)\n"
     ]
    }
   ],
   "source": [
    "y_train_grid_offset = n2go.convert(y_train)\n",
    "y_valid_grid_offset = n2go.convert(y_valid)"
   ]
  },
  {
   "cell_type": "code",
   "execution_count": 41,
   "id": "71f08d76",
   "metadata": {},
   "outputs": [
    {
     "name": "stdout",
     "output_type": "stream",
     "text": [
      "(80, 10, 2)\n",
      "(20, 10, 2)\n"
     ]
    }
   ],
   "source": [
    "print(y_train_grid_offset.shape)\n",
    "print(y_valid_grid_offset.shape)"
   ]
  },
  {
   "cell_type": "code",
   "execution_count": 42,
   "id": "84b5b833",
   "metadata": {},
   "outputs": [
    {
     "name": "stdout",
     "output_type": "stream",
     "text": [
      "X.shape = (None, 1)\n",
      "gauss_grid.shape = (None, 5)\n"
     ]
    }
   ],
   "source": [
    "inputs = keras.layers.Input(shape=X_train.shape[1:])\n",
    "#\n",
    "z = num2grid(5,x_min=-10, x_max=10, sigma=3.0)(inputs)\n",
    "z = keras.layers.Dense(30, activation=\"selu\")(z)\n",
    "# Outputs\n",
    "z_proba = keras.layers.Dense(30, activation=\"relu\")(z)\n",
    "z_proba  = keras.layers.Dense(class_num, activation=\"softmax\")(z_proba)\n",
    "z_offset = keras.layers.Dense(class_num, activation=\"relu\")(z)\n",
    "z_offset = keras.layers.Dense(class_num)(z_offset)\n",
    "# Concatenate\n",
    "z_proba  = keras.layers.Reshape([class_num,1])(z_proba)\n",
    "z_offset = keras.layers.Reshape([class_num,1])(z_offset)\n",
    "out_cat = keras.layers.Concatenate(axis=-1)([z_proba, z_offset])\n",
    "#\n",
    "# Models for trainig and real usage\n",
    "model = keras.Model(inputs=[inputs], outputs=[out_cat])"
   ]
  },
  {
   "cell_type": "code",
   "execution_count": 43,
   "id": "e6482574",
   "metadata": {},
   "outputs": [],
   "source": [
    "# Customized loss function\n",
    "\n",
    "cce = keras.losses.CategoricalCrossentropy(reduction=keras.losses.Reduction.NONE)\n",
    "# cce(y_true, y_pred).numpy()\n",
    "\n",
    "def centerLoss_fn(y_true, y_pred):\n",
    "    #\n",
    "    y_true_proba = y_true[...,0]\n",
    "    y_true_value = y_true[...,1]\n",
    "    #\n",
    "    y_pred_proba = y_pred[...,0]\n",
    "    y_pred_value = y_pred[...,1]\n",
    "    \n",
    "    #\n",
    "    cce_loss = cce(y_true_proba, y_pred_proba) / class_num\n",
    "    #\n",
    "    y_true_value_est = tf.reduce_sum((y_true_proba * y_true_value), axis=-1)\n",
    "    y_pred_value_est = tf.reduce_sum((y_true_proba * y_pred_value), axis=-1)\n",
    "#     y_pred_value_est = tf.reduce_sum((y_pred_proba * y_pred_value), axis=-1)\n",
    "    value_loss = tf.abs(y_pred_value_est - y_true_value_est)\n",
    "    \n",
    "    # Total loss\n",
    "#     return (0.5*cce_loss + 0.5*value_loss )\n",
    "    return (0.2*cce_loss + 0.8*value_loss )\n",
    "#     return (cce_loss)\n",
    "#     return (value_loss )"
   ]
  },
  {
   "cell_type": "code",
   "execution_count": 44,
   "id": "60575755",
   "metadata": {},
   "outputs": [
    {
     "name": "stderr",
     "output_type": "stream",
     "text": [
      "/home/benson516/ml/my_env/lib/python3.6/site-packages/keras/optimizer_v2/optimizer_v2.py:356: UserWarning: The `lr` argument is deprecated, use `learning_rate` instead.\n",
      "  \"The `lr` argument is deprecated, use `learning_rate` instead.\")\n"
     ]
    }
   ],
   "source": [
    "# optimizer = keras.optimizers.SGD(lr=0.1, momentum=0.9)\n",
    "optimizer = keras.optimizers.Adam(lr=0.05)\n",
    "model.compile(loss=centerLoss_fn, optimizer=optimizer)"
   ]
  },
  {
   "cell_type": "code",
   "execution_count": 45,
   "id": "09bc47a5",
   "metadata": {
    "scrolled": true
   },
   "outputs": [],
   "source": [
    "# history = model.fit(X_train, y_train_grid_offset, epochs=100,\n",
    "#                     validation_data=(X_valid, y_valid_grid_offset))"
   ]
  },
  {
   "cell_type": "code",
   "execution_count": 46,
   "id": "7ba1fe76",
   "metadata": {},
   "outputs": [],
   "source": [
    "# import pandas as pd\n",
    "\n",
    "# pd.DataFrame(history.history).plot(figsize=(8, 5))\n",
    "# plt.grid(True)\n",
    "# # plt.gca().set_ylim(0, 1)\n",
    "# plt.show()"
   ]
  },
  {
   "cell_type": "code",
   "execution_count": 47,
   "id": "47db8336",
   "metadata": {
    "scrolled": false
   },
   "outputs": [],
   "source": [
    "# plt.plot(X_train, y_train, \"b.\")\n",
    "# draw_func((lambda X: n2go.inv_convert(model.predict(X)) ), mark='r-', linewidth=2, label=\"Predictions\")\n",
    "# draw_normal_func(func_dict)\n",
    "# plt.xlabel(\"$x_1$\", fontsize=18)\n",
    "# plt.ylabel(\"$y$\", rotation=0, fontsize=18)\n",
    "# plt.legend(loc=\"upper left\", fontsize=14)\n",
    "# # plt.axis([-3, 3, 0, 10])\n",
    "# plt.show()"
   ]
  },
  {
   "cell_type": "code",
   "execution_count": 48,
   "id": "46a1a384",
   "metadata": {},
   "outputs": [],
   "source": [
    "# get_prediction_error((lambda X: n2go.inv_convert(model.predict(X)) ), func_dict)"
   ]
  },
  {
   "cell_type": "code",
   "execution_count": null,
   "id": "fff995a6",
   "metadata": {},
   "outputs": [],
   "source": []
  },
  {
   "cell_type": "markdown",
   "id": "a811f344",
   "metadata": {},
   "source": [
    "# Parametric Uncertainty/Distribution Estimation\n",
    "\n",
    "In this section, we try to estimate uncertainty (actually, fit the dataset distribution) with parametric reprecentation of a distribution instead of a discretized non-parametric representation.\n",
    "\n",
    "Possible solution includes\n",
    "- Quantile estimation with pinball loss (statistic)\n",
    "- Guassian distribution (fit a prabability distribution)"
   ]
  },
  {
   "cell_type": "markdown",
   "id": "175eb32d",
   "metadata": {},
   "source": [
    "## Quantile Estimation with Pinball Loss (grid --> parameters)\n",
    "\n",
    "Quantile estimation and pinball loss is based on the concept of statistic, which predict the value based on the rank of samples in the dataset.\n",
    "\n",
    "The outputs of the model are $(y_{10}, y_{90})$, 10% quantile prediction and 90% quantile prediction, respectively."
   ]
  },
  {
   "cell_type": "code",
   "execution_count": 49,
   "id": "1d1ef92d",
   "metadata": {},
   "outputs": [],
   "source": [
    "# quantile_list = [0.5]\n",
    "# quantile_list = [0.9]\n",
    "quantile_list = [0.1, 0.9]\n",
    "# quantile_list = [0.05, 0.95]\n",
    "# quantile_list = [0.25, 0.75]\n",
    "# quantile_list = [0.1, 0.5, 0.9]\n",
    "# quantile_list = [0.1, 0.3, 0.7, 0.9]\n",
    "# quantile_list = [0.1, 0.2, 0.3, 0.4, 0.6, 0.7, 0.8, 0.9] # remove 0.5\n",
    "# quantile_list = [0.1, 0.2, 0.3, 0.4, 0.5, 0.6, 0.7, 0.8, 0.9]\n",
    "num_quantile = len(quantile_list)"
   ]
  },
  {
   "cell_type": "code",
   "execution_count": 50,
   "id": "8e3fe57b",
   "metadata": {},
   "outputs": [
    {
     "name": "stdout",
     "output_type": "stream",
     "text": [
      "X.shape = (None, 1)\n",
      "gauss_grid.shape = (None, 5)\n"
     ]
    }
   ],
   "source": [
    "model = keras.models.Sequential([\n",
    "    num2grid(5,x_min=-10, x_max=10, sigma=3.0, input_shape=X_train.shape[1:]),\n",
    "    keras.layers.Dense(30, activation=\"relu\"),\n",
    "#     keras.layers.Dense(60, activation=\"relu\"),\n",
    "#     keras.layers.Dense(100, activation=\"relu\", kernel_regularizer=tf.keras.regularizers.l1(0.01)),\n",
    "#     keras.layers.Dense(30, activation=keras.layers.LeakyReLU(alpha=0.2) ),\n",
    "#     keras.layers.Dense(30, activation=\"selu\"),\n",
    "    keras.layers.Dense(num_quantile) # (y10, y90)\n",
    "])"
   ]
  },
  {
   "cell_type": "code",
   "execution_count": 51,
   "id": "bf131dc7",
   "metadata": {},
   "outputs": [],
   "source": [
    "# Customized loss function\n",
    "def pinballLoss_fn(y_true, y_pred, tau):\n",
    "    # tau: quantile, tau in [0.0, 1.0]\n",
    "    # y_true: label mean\n",
    "    # y_pred: predicted tau quantile\n",
    "    _q = y_true - y_pred\n",
    "    return tf.math.maximum( (tau*_q), ((tau-1.0)*_q))\n",
    "    \n",
    "def pinballLoss_10_90_fn(y_true, y_pred):\n",
    "    #\n",
    "    return pinballLoss_fn(y_true, y_pred[:,0:1], 0.1) + pinballLoss_fn(y_true, y_pred[:,1:2], 0.9)\n",
    "\n",
    "def pinballLoss_full_fn(y_true, y_pred):\n",
    "    #\n",
    "    pinball_losses = tf.stack( [pinballLoss_fn(y_true, y_pred[:, _i:(_i+1)], _tau) for _i, _tau in enumerate(quantile_list)], axis=1)\n",
    "    return tf.reduce_sum(pinball_losses, axis=1)"
   ]
  },
  {
   "cell_type": "code",
   "execution_count": 52,
   "id": "a71305d5",
   "metadata": {},
   "outputs": [],
   "source": [
    "# optimizer = keras.optimizers.SGD(lr=0.1, momentum=0.9)\n",
    "optimizer = keras.optimizers.Adam(lr=0.1)\n",
    "# model.compile(loss=pinballLoss_10_90_fn, optimizer=optimizer)\n",
    "model.compile(loss=pinballLoss_full_fn, optimizer=optimizer)"
   ]
  },
  {
   "cell_type": "code",
   "execution_count": 53,
   "id": "d935c409",
   "metadata": {
    "scrolled": true
   },
   "outputs": [
    {
     "name": "stdout",
     "output_type": "stream",
     "text": [
      "Epoch 1/100\n",
      "X.shape = (None, 1)\n",
      "gauss_grid.shape = (None, 5)\n",
      "X.shape = (None, 1)\n",
      "gauss_grid.shape = (None, 5)\n",
      "1/3 [=========>....................] - ETA: 2s - loss: 39.9991X.shape = (None, 1)\n",
      "gauss_grid.shape = (None, 5)\n",
      "3/3 [==============================] - 2s 258ms/step - loss: 41.4571 - val_loss: 32.4986\n",
      "Epoch 2/100\n",
      "3/3 [==============================] - 0s 63ms/step - loss: 38.4898 - val_loss: 28.9730\n",
      "Epoch 3/100\n",
      "3/3 [==============================] - 0s 97ms/step - loss: 33.1385 - val_loss: 23.4522\n",
      "Epoch 4/100\n",
      "3/3 [==============================] - 0s 98ms/step - loss: 25.2310 - val_loss: 16.3167\n",
      "Epoch 5/100\n",
      "3/3 [==============================] - 0s 118ms/step - loss: 17.6450 - val_loss: 11.4550\n",
      "Epoch 6/100\n",
      "3/3 [==============================] - 0s 92ms/step - loss: 13.0634 - val_loss: 10.9647\n",
      "Epoch 7/100\n",
      "3/3 [==============================] - 0s 84ms/step - loss: 12.4034 - val_loss: 11.7228\n",
      "Epoch 8/100\n",
      "3/3 [==============================] - 0s 85ms/step - loss: 12.9074 - val_loss: 11.6510\n",
      "Epoch 9/100\n",
      "3/3 [==============================] - 0s 67ms/step - loss: 12.4081 - val_loss: 10.5574\n",
      "Epoch 10/100\n",
      "3/3 [==============================] - 0s 60ms/step - loss: 11.0581 - val_loss: 8.8010\n",
      "Epoch 11/100\n",
      "3/3 [==============================] - 0s 65ms/step - loss: 9.1517 - val_loss: 6.9547\n",
      "Epoch 12/100\n",
      "3/3 [==============================] - 0s 54ms/step - loss: 7.3131 - val_loss: 5.1993\n",
      "Epoch 13/100\n",
      "3/3 [==============================] - 0s 59ms/step - loss: 7.0974 - val_loss: 4.2506\n",
      "Epoch 14/100\n",
      "3/3 [==============================] - 0s 52ms/step - loss: 6.6202 - val_loss: 5.1755\n",
      "Epoch 15/100\n",
      "3/3 [==============================] - 0s 89ms/step - loss: 6.3430 - val_loss: 5.1165\n",
      "Epoch 16/100\n",
      "3/3 [==============================] - 0s 98ms/step - loss: 5.5044 - val_loss: 5.1502\n",
      "Epoch 17/100\n",
      "3/3 [==============================] - 0s 102ms/step - loss: 5.6151 - val_loss: 5.2725\n",
      "Epoch 18/100\n",
      "3/3 [==============================] - 0s 104ms/step - loss: 5.7330 - val_loss: 5.0921\n",
      "Epoch 19/100\n",
      "3/3 [==============================] - 0s 118ms/step - loss: 5.5076 - val_loss: 5.1136\n",
      "Epoch 20/100\n",
      "3/3 [==============================] - 0s 108ms/step - loss: 5.3092 - val_loss: 4.6909\n",
      "Epoch 21/100\n",
      "3/3 [==============================] - 0s 90ms/step - loss: 5.0617 - val_loss: 4.1244\n",
      "Epoch 22/100\n",
      "3/3 [==============================] - 0s 92ms/step - loss: 4.8872 - val_loss: 4.0867\n",
      "Epoch 23/100\n",
      "3/3 [==============================] - 0s 122ms/step - loss: 4.8888 - val_loss: 4.0934\n",
      "Epoch 24/100\n",
      "3/3 [==============================] - 0s 100ms/step - loss: 4.9239 - val_loss: 4.1911\n",
      "Epoch 25/100\n",
      "3/3 [==============================] - 0s 82ms/step - loss: 4.6701 - val_loss: 4.0413\n",
      "Epoch 26/100\n",
      "3/3 [==============================] - 0s 116ms/step - loss: 4.7148 - val_loss: 3.9446\n",
      "Epoch 27/100\n",
      "3/3 [==============================] - 0s 111ms/step - loss: 4.6555 - val_loss: 4.1273\n",
      "Epoch 28/100\n",
      "3/3 [==============================] - 0s 127ms/step - loss: 4.5160 - val_loss: 4.2749\n",
      "Epoch 29/100\n",
      "3/3 [==============================] - 0s 112ms/step - loss: 4.4360 - val_loss: 4.3516\n",
      "Epoch 30/100\n",
      "3/3 [==============================] - 0s 120ms/step - loss: 4.4581 - val_loss: 4.4485\n",
      "Epoch 31/100\n",
      "3/3 [==============================] - 0s 114ms/step - loss: 4.4524 - val_loss: 4.2027\n",
      "Epoch 32/100\n",
      "3/3 [==============================] - ETA: 0s - loss: 4.350 - 0s 85ms/step - loss: 4.3501 - val_loss: 3.6781\n",
      "Epoch 33/100\n",
      "3/3 [==============================] - 0s 65ms/step - loss: 4.2140 - val_loss: 3.8184\n",
      "Epoch 34/100\n",
      "3/3 [==============================] - 0s 58ms/step - loss: 4.2292 - val_loss: 4.0308\n",
      "Epoch 35/100\n",
      "3/3 [==============================] - 0s 65ms/step - loss: 4.0686 - val_loss: 3.8050\n",
      "Epoch 36/100\n",
      "3/3 [==============================] - 0s 54ms/step - loss: 4.0182 - val_loss: 3.8934\n",
      "Epoch 37/100\n",
      "3/3 [==============================] - 0s 56ms/step - loss: 4.0252 - val_loss: 3.6838\n",
      "Epoch 38/100\n",
      "3/3 [==============================] - 0s 62ms/step - loss: 3.8573 - val_loss: 3.7391\n",
      "Epoch 39/100\n",
      "3/3 [==============================] - ETA: 0s - loss: 3.808 - 0s 95ms/step - loss: 3.8229 - val_loss: 3.6492\n",
      "Epoch 40/100\n",
      "3/3 [==============================] - 0s 114ms/step - loss: 3.7314 - val_loss: 3.6684\n",
      "Epoch 41/100\n",
      "3/3 [==============================] - 0s 109ms/step - loss: 3.6491 - val_loss: 3.6586\n",
      "Epoch 42/100\n",
      "3/3 [==============================] - 0s 102ms/step - loss: 3.5582 - val_loss: 3.5669\n",
      "Epoch 43/100\n",
      "3/3 [==============================] - 0s 122ms/step - loss: 3.4997 - val_loss: 3.3961\n",
      "Epoch 44/100\n",
      "3/3 [==============================] - 0s 114ms/step - loss: 3.4501 - val_loss: 3.2281\n",
      "Epoch 45/100\n",
      "3/3 [==============================] - 0s 108ms/step - loss: 3.4787 - val_loss: 3.3665\n",
      "Epoch 46/100\n",
      "3/3 [==============================] - 0s 103ms/step - loss: 3.3892 - val_loss: 3.4469\n",
      "Epoch 47/100\n",
      "3/3 [==============================] - 0s 99ms/step - loss: 3.3694 - val_loss: 3.3450\n",
      "Epoch 48/100\n",
      "3/3 [==============================] - 0s 121ms/step - loss: 3.3292 - val_loss: 3.8577\n",
      "Epoch 49/100\n",
      "3/3 [==============================] - 0s 87ms/step - loss: 3.2177 - val_loss: 3.2299\n",
      "Epoch 50/100\n",
      "3/3 [==============================] - 0s 103ms/step - loss: 3.1262 - val_loss: 3.0205\n",
      "Epoch 51/100\n",
      "3/3 [==============================] - 0s 71ms/step - loss: 3.0435 - val_loss: 3.1271\n",
      "Epoch 52/100\n",
      "3/3 [==============================] - 0s 111ms/step - loss: 3.0386 - val_loss: 3.0780\n",
      "Epoch 53/100\n",
      "3/3 [==============================] - ETA: 0s - loss: 2.559 - 0s 87ms/step - loss: 3.0301 - val_loss: 2.9607\n",
      "Epoch 54/100\n",
      "3/3 [==============================] - 0s 91ms/step - loss: 2.8794 - val_loss: 3.2381\n",
      "Epoch 55/100\n",
      "3/3 [==============================] - ETA: 0s - loss: 2.838 - 0s 88ms/step - loss: 2.9654 - val_loss: 3.0887\n",
      "Epoch 56/100\n",
      "3/3 [==============================] - 0s 113ms/step - loss: 3.0097 - val_loss: 3.3179\n",
      "Epoch 57/100\n",
      "3/3 [==============================] - 0s 92ms/step - loss: 2.9680 - val_loss: 3.0182\n",
      "Epoch 58/100\n",
      "3/3 [==============================] - 0s 95ms/step - loss: 2.7982 - val_loss: 2.6577\n",
      "Epoch 59/100\n",
      "3/3 [==============================] - 0s 61ms/step - loss: 2.7305 - val_loss: 2.7686\n",
      "Epoch 60/100\n",
      "3/3 [==============================] - 0s 55ms/step - loss: 2.7691 - val_loss: 2.9520\n",
      "Epoch 61/100\n",
      "3/3 [==============================] - 0s 55ms/step - loss: 2.7812 - val_loss: 2.8318\n",
      "Epoch 62/100\n",
      "3/3 [==============================] - 0s 65ms/step - loss: 2.7172 - val_loss: 2.8139\n",
      "Epoch 63/100\n",
      "3/3 [==============================] - 0s 102ms/step - loss: 2.7378 - val_loss: 2.6648\n",
      "Epoch 64/100\n",
      "3/3 [==============================] - 0s 82ms/step - loss: 2.7381 - val_loss: 2.7474\n",
      "Epoch 65/100\n",
      "3/3 [==============================] - 0s 112ms/step - loss: 2.7207 - val_loss: 3.0820\n",
      "Epoch 66/100\n",
      "3/3 [==============================] - 0s 94ms/step - loss: 2.7580 - val_loss: 2.8068\n",
      "Epoch 67/100\n",
      "3/3 [==============================] - 0s 97ms/step - loss: 2.7344 - val_loss: 2.6241\n",
      "Epoch 68/100\n",
      "3/3 [==============================] - 0s 96ms/step - loss: 2.7952 - val_loss: 3.0799\n",
      "Epoch 69/100\n",
      "3/3 [==============================] - 0s 80ms/step - loss: 2.9058 - val_loss: 3.1575\n",
      "Epoch 70/100\n",
      "3/3 [==============================] - 0s 79ms/step - loss: 2.8436 - val_loss: 2.7856\n",
      "Epoch 71/100\n",
      "3/3 [==============================] - 0s 88ms/step - loss: 2.7970 - val_loss: 2.6850\n",
      "Epoch 72/100\n",
      "3/3 [==============================] - 0s 94ms/step - loss: 2.8268 - val_loss: 2.8046\n",
      "Epoch 73/100\n",
      "3/3 [==============================] - 0s 91ms/step - loss: 2.8142 - val_loss: 3.0780\n",
      "Epoch 74/100\n",
      "3/3 [==============================] - 0s 96ms/step - loss: 2.8523 - val_loss: 2.7349\n",
      "Epoch 75/100\n",
      "3/3 [==============================] - 0s 78ms/step - loss: 2.6066 - val_loss: 2.7676\n",
      "Epoch 76/100\n",
      "3/3 [==============================] - 0s 106ms/step - loss: 2.7921 - val_loss: 2.6900\n",
      "Epoch 77/100\n",
      "3/3 [==============================] - 0s 83ms/step - loss: 2.7869 - val_loss: 2.9415\n",
      "Epoch 78/100\n",
      "3/3 [==============================] - 0s 112ms/step - loss: 2.7752 - val_loss: 2.8600\n",
      "Epoch 79/100\n",
      "3/3 [==============================] - 0s 121ms/step - loss: 3.1681 - val_loss: 2.6703\n",
      "Epoch 80/100\n"
     ]
    },
    {
     "name": "stdout",
     "output_type": "stream",
     "text": [
      "3/3 [==============================] - 0s 114ms/step - loss: 2.6499 - val_loss: 2.9355\n",
      "Epoch 81/100\n",
      "3/3 [==============================] - 0s 93ms/step - loss: 2.9859 - val_loss: 3.0084\n",
      "Epoch 82/100\n",
      "3/3 [==============================] - 0s 78ms/step - loss: 2.8767 - val_loss: 2.8732\n",
      "Epoch 83/100\n",
      "3/3 [==============================] - 0s 89ms/step - loss: 2.6606 - val_loss: 2.9316\n",
      "Epoch 84/100\n",
      "3/3 [==============================] - 0s 84ms/step - loss: 2.8903 - val_loss: 2.9108\n",
      "Epoch 85/100\n",
      "3/3 [==============================] - 0s 58ms/step - loss: 2.9195 - val_loss: 2.9982\n",
      "Epoch 86/100\n",
      "3/3 [==============================] - 0s 49ms/step - loss: 2.7060 - val_loss: 2.7528\n",
      "Epoch 87/100\n",
      "3/3 [==============================] - 0s 73ms/step - loss: 2.7990 - val_loss: 2.6382\n",
      "Epoch 88/100\n",
      "3/3 [==============================] - 0s 86ms/step - loss: 2.8705 - val_loss: 2.9568\n",
      "Epoch 89/100\n",
      "3/3 [==============================] - 0s 117ms/step - loss: 2.9797 - val_loss: 3.1015\n",
      "Epoch 90/100\n",
      "3/3 [==============================] - 0s 99ms/step - loss: 2.9255 - val_loss: 2.7707\n",
      "Epoch 91/100\n",
      "3/3 [==============================] - 0s 88ms/step - loss: 2.7308 - val_loss: 2.4580\n",
      "Epoch 92/100\n",
      "3/3 [==============================] - 0s 106ms/step - loss: 2.7523 - val_loss: 2.5345\n",
      "Epoch 93/100\n",
      "3/3 [==============================] - 0s 98ms/step - loss: 2.6027 - val_loss: 2.9483\n",
      "Epoch 94/100\n",
      "3/3 [==============================] - 0s 97ms/step - loss: 2.8425 - val_loss: 2.9521\n",
      "Epoch 95/100\n",
      "3/3 [==============================] - 0s 82ms/step - loss: 2.7454 - val_loss: 2.6272\n",
      "Epoch 96/100\n",
      "3/3 [==============================] - 0s 96ms/step - loss: 2.7167 - val_loss: 2.7127\n",
      "Epoch 97/100\n",
      "3/3 [==============================] - 0s 90ms/step - loss: 2.8284 - val_loss: 2.8806\n",
      "Epoch 98/100\n",
      "3/3 [==============================] - 0s 95ms/step - loss: 2.6882 - val_loss: 2.7768\n",
      "Epoch 99/100\n",
      "3/3 [==============================] - 0s 119ms/step - loss: 2.6528 - val_loss: 2.6459\n",
      "Epoch 100/100\n",
      "3/3 [==============================] - 0s 111ms/step - loss: 2.6262 - val_loss: 2.5955\n"
     ]
    }
   ],
   "source": [
    "history = model.fit(X_train, y_train, epochs=100,\n",
    "                    validation_data=(X_valid, y_valid))"
   ]
  },
  {
   "cell_type": "code",
   "execution_count": 54,
   "id": "e7fa5656",
   "metadata": {
    "scrolled": false
   },
   "outputs": [
    {
     "data": {
      "image/png": "[encoded data removed]",
      "text/plain": [
       "<Figure size 576x360 with 1 Axes>"
      ]
     },
     "metadata": {
      "needs_background": "light"
     },
     "output_type": "display_data"
    }
   ],
   "source": [
    "import pandas as pd\n",
    "\n",
    "pd.DataFrame(history.history).plot(figsize=(8, 5))\n",
    "plt.grid(True)\n",
    "# plt.gca().set_ylim(0, 1)\n",
    "plt.show()"
   ]
  },
  {
   "cell_type": "markdown",
   "id": "a4a59dd6",
   "metadata": {},
   "source": [
    "### Draw the mean prediction curve averaged from all quantile predictions."
   ]
  },
  {
   "cell_type": "code",
   "execution_count": 55,
   "id": "0e5d0058",
   "metadata": {},
   "outputs": [
    {
     "name": "stdout",
     "output_type": "stream",
     "text": [
      "X.shape = (None, 1)\n",
      "gauss_grid.shape = (None, 5)\n"
     ]
    },
    {
     "data": {
      "image/png": "[encoded data removed]",
      "text/plain": [
       "<Figure size 432x288 with 1 Axes>"
      ]
     },
     "metadata": {
      "needs_background": "light"
     },
     "output_type": "display_data"
    }
   ],
   "source": [
    "plt.plot(X_train, y_train, \"b.\")\n",
    "draw_func((lambda X: np.average(model.predict(X), axis=-1) ), mark='r-', linewidth=2, label=\"Predictions\")\n",
    "# draw_func((lambda X: model.predict(X)[:,0] ), mark='k--', linewidth=1, label=\"$y_{%d}$\" % (quantile_list[0]*100))\n",
    "# draw_func((lambda X: model.predict(X)[:,-1] ), mark='k--', linewidth=1, label=\"$y_{%d}$\" % (quantile_list[-1]*100))\n",
    "draw_normal_func(func_dict)\n",
    "plt.xlabel(\"$x_1$\", fontsize=18)\n",
    "plt.ylabel(\"$y$\", rotation=0, fontsize=18)\n",
    "plt.legend(loc=\"upper left\", fontsize=14)\n",
    "# plt.axis([-3, 3, 0, 10])\n",
    "plt.show()"
   ]
  },
  {
   "cell_type": "code",
   "execution_count": 56,
   "id": "f98d3ae8",
   "metadata": {},
   "outputs": [
    {
     "name": "stdout",
     "output_type": "stream",
     "text": [
      "y_func.shape = (100, 1)\n",
      "y_gt.shape = (100, 1)\n"
     ]
    },
    {
     "data": {
      "text/plain": [
       "1.0166645245107124"
      ]
     },
     "execution_count": 56,
     "metadata": {},
     "output_type": "execute_result"
    }
   ],
   "source": [
    "get_prediction_error((lambda X: np.average(model.predict(X), axis=-1) ), func_dict)"
   ]
  },
  {
   "cell_type": "markdown",
   "id": "f79ac920",
   "metadata": {},
   "source": [
    "### Draw first and last quantile curve."
   ]
  },
  {
   "cell_type": "code",
   "execution_count": 57,
   "id": "42eeb254",
   "metadata": {},
   "outputs": [
    {
     "data": {
      "image/png": "[encoded data removed]",
      "text/plain": [
       "<Figure size 432x288 with 1 Axes>"
      ]
     },
     "metadata": {
      "needs_background": "light"
     },
     "output_type": "display_data"
    }
   ],
   "source": [
    "plt.plot(X_train, y_train, \"b.\")\n",
    "draw_func((lambda X: np.average(model.predict(X), axis=-1) ), mark='r-', linewidth=2, label=\"Predictions\")\n",
    "draw_func((lambda X: model.predict(X)[:,0] ), mark='k--', linewidth=1, label=\"$y_{%d}$\" % (quantile_list[0]*100))\n",
    "draw_func((lambda X: model.predict(X)[:,-1] ), mark='k--', linewidth=1, label=\"$y_{%d}$\" % (quantile_list[-1]*100))\n",
    "draw_normal_func(func_dict)\n",
    "plt.xlabel(\"$x_1$\", fontsize=18)\n",
    "plt.ylabel(\"$y$\", rotation=0, fontsize=18)\n",
    "plt.legend(loc=\"upper left\", fontsize=14)\n",
    "# plt.axis([-3, 3, 0, 10])\n",
    "plt.show()"
   ]
  },
  {
   "cell_type": "markdown",
   "id": "2a1b1b44",
   "metadata": {},
   "source": [
    "### Draw all quantile predictions"
   ]
  },
  {
   "cell_type": "code",
   "execution_count": 58,
   "id": "5e875238",
   "metadata": {},
   "outputs": [
    {
     "data": {
      "image/png": "[encoded data removed]",
      "text/plain": [
       "<Figure size 432x288 with 1 Axes>"
      ]
     },
     "metadata": {
      "needs_background": "light"
     },
     "output_type": "display_data"
    }
   ],
   "source": [
    "plt.plot(X_train, y_train, \"b.\")\n",
    "draw_func((lambda X: np.average(model.predict(X), axis=-1) ), mark='r-', linewidth=2, label=\"Predictions\")\n",
    "for _idx, _tau in enumerate(quantile_list):\n",
    "    draw_func((lambda X: model.predict(X)[:,_idx] ), mark='k--', linewidth=1, label=\"$y_{%d}$\" % (_tau*100))\n",
    "draw_normal_func(func_dict)\n",
    "plt.xlabel(\"$x_1$\", fontsize=18)\n",
    "plt.ylabel(\"$y$\", rotation=0, fontsize=18)\n",
    "plt.legend(loc=\"upper left\", fontsize=14)\n",
    "# plt.axis([-3, 3, 0, 10])\n",
    "plt.show()"
   ]
  },
  {
   "cell_type": "markdown",
   "id": "9a01aa69",
   "metadata": {},
   "source": [
    "## Gaussian Estimation with Gaussian Loss (grid-->parameters)\n",
    "\n",
    "Gaussain estimation requires the model to predict the mean and variance of a Gaussian distribution of the random variable regarded. The training purpose is to fit a Gaussian distribution to the data distribution (which is not necessay distributed as Gaussian).\n",
    "\n",
    "One possible solution, derived by BensonHuang, is that the model estimates $(\\mu, z)$, where $z=\\alpha ^{-1}log(\\sigma)$.\n",
    "The associated loss function can be $L_G(y, (\\mu,z)) = 0.5e^{-2\\alpha z}(y-\\mu)^2 + \\alpha z$."
   ]
  },
  {
   "cell_type": "code",
   "execution_count": 59,
   "id": "1a20d5dd",
   "metadata": {},
   "outputs": [],
   "source": [
    "alpha = 1.0\n",
    "# alpha = 0.01\n",
    "# alpha = 0.001"
   ]
  },
  {
   "cell_type": "code",
   "execution_count": 60,
   "id": "cb202ed2",
   "metadata": {},
   "outputs": [
    {
     "name": "stdout",
     "output_type": "stream",
     "text": [
      "X.shape = (None, 1)\n",
      "gauss_grid.shape = (None, 5)\n"
     ]
    }
   ],
   "source": [
    "model = keras.models.Sequential([\n",
    "    num2grid(5,x_min=-10, x_max=10, sigma=3.0, input_shape=X_train.shape[1:]),\n",
    "#     keras.layers.Dense(30, activation=\"relu\"),\n",
    "    keras.layers.Dense(60, activation=\"relu\"),\n",
    "#     keras.layers.Dense(30, activation=keras.layers.LeakyReLU(alpha=0.2) ),\n",
    "#     keras.layers.Dense(30, activation=\"selu\"),\n",
    "    keras.layers.Dense(2) # (mu, z)\n",
    "])"
   ]
  },
  {
   "cell_type": "code",
   "execution_count": 61,
   "id": "925f0a22",
   "metadata": {},
   "outputs": [
    {
     "name": "stdout",
     "output_type": "stream",
     "text": [
      "alpha = 1.000000\n"
     ]
    }
   ],
   "source": [
    "# Customized loss function\n",
    "print(\"alpha = %f\" % alpha)\n",
    "\n",
    "def GaussianLoss_fn(y_true, y_pred):\n",
    "    # y_true: label \n",
    "    # y_pred: (mu, z), z=log(sigma)\n",
    "    mu = y_pred[:, 0:1]\n",
    "    z  = y_pred[:, 1:2]\n",
    "    #\n",
    "    en2z = tf.math.exp((-2.0*alpha)*z)\n",
    "    ymu2 = (y_true - mu)**2\n",
    "    return (0.5*en2z*ymu2 + alpha*z)"
   ]
  },
  {
   "cell_type": "code",
   "execution_count": 62,
   "id": "1b388b4b",
   "metadata": {},
   "outputs": [],
   "source": [
    "# Learning rate scheduler\n",
    "learning_rate_switch_epoch_list = [30, 45]\n",
    "learning_rate_list = [0.001, 0.01, 0.1]\n",
    "# learning_rate_switch_epoch_list = [30, 80]\n",
    "# learning_rate_list = [0.01, 0.1, 0.01]\n",
    "#\n",
    "def piecewise_constant_fn(epoch):\n",
    "    for _i, epoch_s in enumerate(learning_rate_switch_epoch_list):\n",
    "        if epoch < epoch_s:\n",
    "            return learning_rate_list[_i]\n",
    "    return learning_rate_list[-1]\n",
    "\n",
    "lr_scheduler = keras.callbacks.LearningRateScheduler(piecewise_constant_fn)"
   ]
  },
  {
   "cell_type": "markdown",
   "id": "6ec2e05e",
   "metadata": {},
   "source": [
    "Third training with even greater speed"
   ]
  },
  {
   "cell_type": "code",
   "execution_count": 63,
   "id": "7a7e245b",
   "metadata": {},
   "outputs": [
    {
     "name": "stderr",
     "output_type": "stream",
     "text": [
      "/home/benson516/ml/my_env/lib/python3.6/site-packages/keras/optimizer_v2/optimizer_v2.py:356: UserWarning: The `lr` argument is deprecated, use `learning_rate` instead.\n",
      "  \"The `lr` argument is deprecated, use `learning_rate` instead.\")\n"
     ]
    }
   ],
   "source": [
    "# optimizer = keras.optimizers.SGD(lr=0.1, momentum=0.9)\n",
    "optimizer = keras.optimizers.Adam(lr=0.1)\n",
    "model.compile(loss=GaussianLoss_fn, optimizer=optimizer)"
   ]
  },
  {
   "cell_type": "code",
   "execution_count": 64,
   "id": "6d7b74a9",
   "metadata": {
    "scrolled": true
   },
   "outputs": [
    {
     "name": "stdout",
     "output_type": "stream",
     "text": [
      "Epoch 1/200\n",
      "X.shape = (None, 1)\n",
      "gauss_grid.shape = (None, 5)\n",
      "X.shape = (None, 1)\n",
      "gauss_grid.shape = (None, 5)\n",
      "1/3 [=========>....................] - ETA: 2s - loss: 1201.1503X.shape = (None, 1)\n",
      "gauss_grid.shape = (None, 5)\n",
      "3/3 [==============================] - 1s 237ms/step - loss: 493.2945 - val_loss: 6.4245\n",
      "Epoch 2/200\n",
      "3/3 [==============================] - 0s 58ms/step - loss: 8.0780 - val_loss: 12.4468\n",
      "Epoch 3/200\n",
      "3/3 [==============================] - 0s 50ms/step - loss: 13.6926 - val_loss: 16.9213\n",
      "Epoch 4/200\n",
      "3/3 [==============================] - 0s 57ms/step - loss: 17.7715 - val_loss: 19.9258\n",
      "Epoch 5/200\n",
      "3/3 [==============================] - 0s 105ms/step - loss: 20.4250 - val_loss: 21.6673\n",
      "Epoch 6/200\n",
      "3/3 [==============================] - 0s 81ms/step - loss: 21.9010 - val_loss: 22.3829\n",
      "Epoch 7/200\n",
      "3/3 [==============================] - 0s 92ms/step - loss: 22.4386 - val_loss: 22.2631\n",
      "Epoch 8/200\n",
      "3/3 [==============================] - 0s 95ms/step - loss: 22.2322 - val_loss: 21.5063\n",
      "Epoch 9/200\n",
      "3/3 [==============================] - 0s 94ms/step - loss: 21.4480 - val_loss: 20.2709\n",
      "Epoch 10/200\n",
      "3/3 [==============================] - 0s 90ms/step - loss: 20.2685 - val_loss: 18.7149\n",
      "Epoch 11/200\n",
      "3/3 [==============================] - 0s 87ms/step - loss: 18.8058 - val_loss: 16.9354\n",
      "Epoch 12/200\n",
      "3/3 [==============================] - 0s 108ms/step - loss: 17.0991 - val_loss: 15.0191\n",
      "Epoch 13/200\n",
      "3/3 [==============================] - 0s 114ms/step - loss: 15.2686 - val_loss: 12.9237\n",
      "Epoch 14/200\n",
      "3/3 [==============================] - 0s 92ms/step - loss: 13.2073 - val_loss: 10.5972\n",
      "Epoch 15/200\n",
      "3/3 [==============================] - 0s 99ms/step - loss: 10.8995 - val_loss: 7.9710\n",
      "Epoch 16/200\n",
      "3/3 [==============================] - 0s 94ms/step - loss: 8.2663 - val_loss: 5.7541\n",
      "Epoch 17/200\n",
      "3/3 [==============================] - 0s 97ms/step - loss: 8.7141 - val_loss: 5.3316\n",
      "Epoch 18/200\n",
      "3/3 [==============================] - 0s 89ms/step - loss: 6.1694 - val_loss: 6.0906\n",
      "Epoch 19/200\n",
      "3/3 [==============================] - 0s 76ms/step - loss: 6.4267 - val_loss: 6.0839\n",
      "Epoch 20/200\n",
      "3/3 [==============================] - 0s 88ms/step - loss: 5.9498 - val_loss: 5.4357\n",
      "Epoch 21/200\n",
      "3/3 [==============================] - 0s 109ms/step - loss: 5.1178 - val_loss: 5.1456\n",
      "Epoch 22/200\n",
      "3/3 [==============================] - 0s 94ms/step - loss: 5.4577 - val_loss: 4.7681\n",
      "Epoch 23/200\n",
      "3/3 [==============================] - 0s 82ms/step - loss: 4.7522 - val_loss: 4.7582\n",
      "Epoch 24/200\n",
      "3/3 [==============================] - 0s 82ms/step - loss: 4.7104 - val_loss: 4.3527\n",
      "Epoch 25/200\n",
      "3/3 [==============================] - 0s 76ms/step - loss: 4.3257 - val_loss: 3.8215\n",
      "Epoch 26/200\n",
      "3/3 [==============================] - 0s 58ms/step - loss: 4.0804 - val_loss: 4.2439\n",
      "Epoch 27/200\n",
      "3/3 [==============================] - 0s 53ms/step - loss: 4.2372 - val_loss: 3.9003\n",
      "Epoch 28/200\n",
      "3/3 [==============================] - 0s 56ms/step - loss: 4.1332 - val_loss: 3.9717\n",
      "Epoch 29/200\n",
      "3/3 [==============================] - 0s 59ms/step - loss: 4.2336 - val_loss: 3.8824\n",
      "Epoch 30/200\n",
      "3/3 [==============================] - 0s 104ms/step - loss: 4.0702 - val_loss: 3.8744\n",
      "Epoch 31/200\n",
      "3/3 [==============================] - 0s 92ms/step - loss: 4.0507 - val_loss: 3.8531\n",
      "Epoch 32/200\n",
      "3/3 [==============================] - 0s 87ms/step - loss: 4.0200 - val_loss: 3.7687\n",
      "Epoch 33/200\n",
      "3/3 [==============================] - 0s 92ms/step - loss: 4.0056 - val_loss: 3.7971\n",
      "Epoch 34/200\n",
      "3/3 [==============================] - 0s 101ms/step - loss: 4.0080 - val_loss: 3.7496\n",
      "Epoch 35/200\n",
      "3/3 [==============================] - 0s 85ms/step - loss: 3.9814 - val_loss: 3.7590\n",
      "Epoch 36/200\n",
      "3/3 [==============================] - 0s 61ms/step - loss: 3.9658 - val_loss: 3.7516\n",
      "Epoch 37/200\n",
      "3/3 [==============================] - 0s 60ms/step - loss: 3.9533 - val_loss: 3.7543\n",
      "Epoch 38/200\n",
      "3/3 [==============================] - 0s 78ms/step - loss: 3.9498 - val_loss: 3.7594\n",
      "Epoch 39/200\n",
      "3/3 [==============================] - 0s 73ms/step - loss: 3.9385 - val_loss: 3.7712\n",
      "Epoch 40/200\n",
      "3/3 [==============================] - 0s 106ms/step - loss: 3.9340 - val_loss: 3.7250\n",
      "Epoch 41/200\n",
      "3/3 [==============================] - 0s 99ms/step - loss: 3.9194 - val_loss: 3.7108\n",
      "Epoch 42/200\n",
      "3/3 [==============================] - 0s 109ms/step - loss: 3.9171 - val_loss: 3.7021\n",
      "Epoch 43/200\n",
      "3/3 [==============================] - 0s 96ms/step - loss: 3.9063 - val_loss: 3.7078\n",
      "Epoch 44/200\n",
      "3/3 [==============================] - 0s 63ms/step - loss: 3.8999 - val_loss: 3.7005\n",
      "Epoch 45/200\n",
      "3/3 [==============================] - 0s 80ms/step - loss: 3.8877 - val_loss: 3.6917\n",
      "Epoch 46/200\n",
      "3/3 [==============================] - 0s 75ms/step - loss: 3.8836 - val_loss: 3.6810\n",
      "Epoch 47/200\n",
      "3/3 [==============================] - 0s 83ms/step - loss: 3.8711 - val_loss: 3.6781\n",
      "Epoch 48/200\n",
      "3/3 [==============================] - 0s 68ms/step - loss: 3.8638 - val_loss: 3.6752\n",
      "Epoch 49/200\n",
      "3/3 [==============================] - 0s 90ms/step - loss: 3.8573 - val_loss: 3.6613\n",
      "Epoch 50/200\n",
      "3/3 [==============================] - 0s 97ms/step - loss: 3.8433 - val_loss: 3.6577\n",
      "Epoch 51/200\n",
      "3/3 [==============================] - 0s 57ms/step - loss: 3.8338 - val_loss: 3.6572\n",
      "Epoch 52/200\n",
      "3/3 [==============================] - 0s 69ms/step - loss: 3.8302 - val_loss: 3.6506\n",
      "Epoch 53/200\n",
      "3/3 [==============================] - 0s 60ms/step - loss: 3.8167 - val_loss: 3.6257\n",
      "Epoch 54/200\n",
      "3/3 [==============================] - 0s 63ms/step - loss: 3.8050 - val_loss: 3.6202\n",
      "Epoch 55/200\n",
      "3/3 [==============================] - 0s 49ms/step - loss: 3.7927 - val_loss: 3.6159\n",
      "Epoch 56/200\n",
      "3/3 [==============================] - 0s 54ms/step - loss: 3.7820 - val_loss: 3.6017\n",
      "Epoch 57/200\n",
      "3/3 [==============================] - 0s 58ms/step - loss: 3.7655 - val_loss: 3.6090\n",
      "Epoch 58/200\n",
      "3/3 [==============================] - 0s 61ms/step - loss: 3.7494 - val_loss: 3.6054\n",
      "Epoch 59/200\n",
      "3/3 [==============================] - 0s 69ms/step - loss: 3.7373 - val_loss: 3.5937\n",
      "Epoch 60/200\n",
      "3/3 [==============================] - 0s 101ms/step - loss: 3.7181 - val_loss: 3.5735\n",
      "Epoch 61/200\n",
      "3/3 [==============================] - 0s 98ms/step - loss: 3.7060 - val_loss: 3.5623\n",
      "Epoch 62/200\n",
      "3/3 [==============================] - 0s 101ms/step - loss: 3.6837 - val_loss: 3.5607\n",
      "Epoch 63/200\n",
      "3/3 [==============================] - 0s 89ms/step - loss: 3.6644 - val_loss: 3.5376\n",
      "Epoch 64/200\n",
      "3/3 [==============================] - 0s 111ms/step - loss: 3.6446 - val_loss: 3.5292\n",
      "Epoch 65/200\n",
      "3/3 [==============================] - 0s 117ms/step - loss: 3.6235 - val_loss: 3.5380\n",
      "Epoch 66/200\n",
      "3/3 [==============================] - 0s 124ms/step - loss: 3.5999 - val_loss: 3.4976\n",
      "Epoch 67/200\n",
      "3/3 [==============================] - 0s 57ms/step - loss: 3.5734 - val_loss: 3.4805\n",
      "Epoch 68/200\n",
      "3/3 [==============================] - 0s 84ms/step - loss: 3.5469 - val_loss: 3.4715\n",
      "Epoch 69/200\n",
      "3/3 [==============================] - 0s 85ms/step - loss: 3.5190 - val_loss: 3.4437\n",
      "Epoch 70/200\n",
      "3/3 [==============================] - 0s 66ms/step - loss: 3.4909 - val_loss: 3.4224\n",
      "Epoch 71/200\n",
      "3/3 [==============================] - 0s 95ms/step - loss: 3.4667 - val_loss: 3.4040\n",
      "Epoch 72/200\n",
      "3/3 [==============================] - 0s 68ms/step - loss: 3.4344 - val_loss: 3.4166\n",
      "Epoch 73/200\n",
      "3/3 [==============================] - 0s 77ms/step - loss: 3.4133 - val_loss: 3.3616\n",
      "Epoch 74/200\n",
      "3/3 [==============================] - ETA: 0s - loss: 3.389 - 0s 82ms/step - loss: 3.3893 - val_loss: 3.3343\n",
      "Epoch 75/200\n",
      "3/3 [==============================] - 0s 76ms/step - loss: 3.3650 - val_loss: 3.3099\n",
      "Epoch 76/200\n",
      "3/3 [==============================] - 0s 83ms/step - loss: 3.3517 - val_loss: 3.2896\n",
      "Epoch 77/200\n",
      "3/3 [==============================] - 0s 126ms/step - loss: 3.3321 - val_loss: 3.2771\n",
      "Epoch 78/200\n",
      "3/3 [==============================] - 0s 59ms/step - loss: 3.3169 - val_loss: 3.2834\n",
      "Epoch 79/200\n",
      "3/3 [==============================] - 0s 58ms/step - loss: 3.3042 - val_loss: 3.2898\n",
      "Epoch 80/200\n",
      "3/3 [==============================] - 0s 55ms/step - loss: 3.2936 - val_loss: 3.2531\n",
      "Epoch 81/200\n"
     ]
    },
    {
     "name": "stdout",
     "output_type": "stream",
     "text": [
      "3/3 [==============================] - 0s 60ms/step - loss: 3.2766 - val_loss: 3.2329\n",
      "Epoch 82/200\n",
      "3/3 [==============================] - 0s 51ms/step - loss: 3.2760 - val_loss: 3.2105\n",
      "Epoch 83/200\n",
      "3/3 [==============================] - 0s 51ms/step - loss: 3.2554 - val_loss: 3.2196\n",
      "Epoch 84/200\n",
      "3/3 [==============================] - 0s 64ms/step - loss: 3.2755 - val_loss: 3.1987\n",
      "Epoch 85/200\n",
      "3/3 [==============================] - 0s 117ms/step - loss: 3.2430 - val_loss: 3.2298\n",
      "Epoch 86/200\n",
      "3/3 [==============================] - 0s 105ms/step - loss: 3.2634 - val_loss: 3.2080\n",
      "Epoch 87/200\n",
      "3/3 [==============================] - 0s 101ms/step - loss: 3.2614 - val_loss: 3.2436\n",
      "Epoch 88/200\n",
      "3/3 [==============================] - 0s 103ms/step - loss: 3.2608 - val_loss: 3.2119\n",
      "Epoch 89/200\n",
      "3/3 [==============================] - 0s 99ms/step - loss: 3.2940 - val_loss: 3.1819\n",
      "Epoch 90/200\n",
      "3/3 [==============================] - 0s 113ms/step - loss: 3.2354 - val_loss: 3.2762\n",
      "Epoch 91/200\n",
      "3/3 [==============================] - 0s 86ms/step - loss: 3.2965 - val_loss: 3.1701\n",
      "Epoch 92/200\n",
      "3/3 [==============================] - 0s 115ms/step - loss: 3.2438 - val_loss: 3.2041\n",
      "Epoch 93/200\n",
      "3/3 [==============================] - 0s 122ms/step - loss: 3.2387 - val_loss: 3.1764\n",
      "Epoch 94/200\n",
      "3/3 [==============================] - 0s 87ms/step - loss: 3.2462 - val_loss: 3.1632\n",
      "Epoch 95/200\n",
      "3/3 [==============================] - 0s 124ms/step - loss: 3.2174 - val_loss: 3.1484\n",
      "Epoch 96/200\n",
      "3/3 [==============================] - 0s 109ms/step - loss: 3.2415 - val_loss: 3.1554\n",
      "Epoch 97/200\n",
      "3/3 [==============================] - 0s 122ms/step - loss: 3.2067 - val_loss: 3.1572\n",
      "Epoch 98/200\n",
      "3/3 [==============================] - 0s 117ms/step - loss: 3.2010 - val_loss: 3.1463\n",
      "Epoch 99/200\n",
      "3/3 [==============================] - 0s 96ms/step - loss: 3.1947 - val_loss: 3.1268\n",
      "Epoch 100/200\n",
      "3/3 [==============================] - 0s 83ms/step - loss: 3.1919 - val_loss: 3.1211\n",
      "Epoch 101/200\n",
      "3/3 [==============================] - 0s 72ms/step - loss: 3.1936 - val_loss: 3.1237\n",
      "Epoch 102/200\n",
      "3/3 [==============================] - 0s 72ms/step - loss: 3.1914 - val_loss: 3.1183\n",
      "Epoch 103/200\n",
      "3/3 [==============================] - 0s 80ms/step - loss: 3.1998 - val_loss: 3.1424\n",
      "Epoch 104/200\n",
      "3/3 [==============================] - 0s 71ms/step - loss: 3.1782 - val_loss: 3.1389\n",
      "Epoch 105/200\n",
      "3/3 [==============================] - 0s 68ms/step - loss: 3.1894 - val_loss: 3.1135\n",
      "Epoch 106/200\n",
      "3/3 [==============================] - 0s 59ms/step - loss: 3.1778 - val_loss: 3.1219\n",
      "Epoch 107/200\n",
      "3/3 [==============================] - 0s 53ms/step - loss: 3.1757 - val_loss: 3.1212\n",
      "Epoch 108/200\n",
      "3/3 [==============================] - 0s 48ms/step - loss: 3.1705 - val_loss: 3.1074\n",
      "Epoch 109/200\n",
      "3/3 [==============================] - 0s 74ms/step - loss: 3.1670 - val_loss: 3.0897\n",
      "Epoch 110/200\n",
      "3/3 [==============================] - 0s 103ms/step - loss: 3.1590 - val_loss: 3.0824\n",
      "Epoch 111/200\n",
      "3/3 [==============================] - 0s 102ms/step - loss: 3.1547 - val_loss: 3.0777\n",
      "Epoch 112/200\n",
      "3/3 [==============================] - 0s 111ms/step - loss: 3.1595 - val_loss: 3.0704\n",
      "Epoch 113/200\n",
      "3/3 [==============================] - 0s 119ms/step - loss: 3.1751 - val_loss: 3.0896\n",
      "Epoch 114/200\n",
      "3/3 [==============================] - 0s 113ms/step - loss: 3.1459 - val_loss: 3.1109\n",
      "Epoch 115/200\n",
      "3/3 [==============================] - 0s 103ms/step - loss: 3.1495 - val_loss: 3.1159\n",
      "Epoch 116/200\n",
      "3/3 [==============================] - 0s 114ms/step - loss: 3.1604 - val_loss: 3.1119\n",
      "Epoch 117/200\n",
      "3/3 [==============================] - 0s 94ms/step - loss: 3.1393 - val_loss: 3.0834\n",
      "Epoch 118/200\n",
      "3/3 [==============================] - 0s 97ms/step - loss: 3.1605 - val_loss: 3.0743\n",
      "Epoch 119/200\n",
      "3/3 [==============================] - 0s 83ms/step - loss: 3.1747 - val_loss: 3.0920\n",
      "Epoch 120/200\n",
      "3/3 [==============================] - 0s 105ms/step - loss: 3.2098 - val_loss: 3.0793\n",
      "Epoch 121/200\n",
      "3/3 [==============================] - 0s 107ms/step - loss: 3.1639 - val_loss: 3.1917\n",
      "Epoch 122/200\n",
      "3/3 [==============================] - 0s 107ms/step - loss: 3.1878 - val_loss: 3.2085\n",
      "Epoch 123/200\n",
      "3/3 [==============================] - 0s 104ms/step - loss: 3.1717 - val_loss: 3.0804\n",
      "Epoch 124/200\n",
      "3/3 [==============================] - 0s 104ms/step - loss: 3.1191 - val_loss: 3.1085\n",
      "Epoch 125/200\n",
      "3/3 [==============================] - 0s 111ms/step - loss: 3.1567 - val_loss: 3.0327\n",
      "Epoch 126/200\n",
      "3/3 [==============================] - 0s 96ms/step - loss: 3.1404 - val_loss: 3.0556\n",
      "Epoch 127/200\n",
      "3/3 [==============================] - 0s 101ms/step - loss: 3.1022 - val_loss: 3.0994\n",
      "Epoch 128/200\n",
      "3/3 [==============================] - 0s 76ms/step - loss: 3.1306 - val_loss: 3.1407\n",
      "Epoch 129/200\n",
      "3/3 [==============================] - 0s 75ms/step - loss: 3.1255 - val_loss: 3.0976\n",
      "Epoch 130/200\n",
      "3/3 [==============================] - 0s 60ms/step - loss: 3.0965 - val_loss: 3.0301\n",
      "Epoch 131/200\n",
      "3/3 [==============================] - 0s 54ms/step - loss: 3.1854 - val_loss: 3.1326\n",
      "Epoch 132/200\n",
      "3/3 [==============================] - 0s 61ms/step - loss: 3.3274 - val_loss: 3.4243\n",
      "Epoch 133/200\n",
      "3/3 [==============================] - 0s 70ms/step - loss: 3.3416 - val_loss: 3.3099\n",
      "Epoch 134/200\n",
      "3/3 [==============================] - 0s 105ms/step - loss: 3.2296 - val_loss: 3.1052\n",
      "Epoch 135/200\n",
      "3/3 [==============================] - 0s 89ms/step - loss: 3.1597 - val_loss: 3.1604\n",
      "Epoch 136/200\n",
      "3/3 [==============================] - 0s 98ms/step - loss: 3.1107 - val_loss: 3.0019\n",
      "Epoch 137/200\n",
      "3/3 [==============================] - 0s 96ms/step - loss: 3.3287 - val_loss: 3.1646\n",
      "Epoch 138/200\n",
      "3/3 [==============================] - 0s 111ms/step - loss: 3.1644 - val_loss: 3.1415\n",
      "Epoch 139/200\n",
      "3/3 [==============================] - 0s 111ms/step - loss: 3.1519 - val_loss: 3.0843\n",
      "Epoch 140/200\n",
      "3/3 [==============================] - 0s 98ms/step - loss: 3.0800 - val_loss: 3.0446\n",
      "Epoch 141/200\n",
      "3/3 [==============================] - 0s 108ms/step - loss: 3.0628 - val_loss: 3.0193\n",
      "Epoch 142/200\n",
      "3/3 [==============================] - 0s 119ms/step - loss: 3.0655 - val_loss: 3.0143\n",
      "Epoch 143/200\n",
      "3/3 [==============================] - 0s 116ms/step - loss: 3.0512 - val_loss: 3.0150\n",
      "Epoch 144/200\n",
      "3/3 [==============================] - 0s 96ms/step - loss: 3.0466 - val_loss: 3.0458\n",
      "Epoch 145/200\n",
      "3/3 [==============================] - 0s 106ms/step - loss: 3.0464 - val_loss: 3.0190\n",
      "Epoch 146/200\n",
      "3/3 [==============================] - 0s 95ms/step - loss: 3.0265 - val_loss: 2.9876\n",
      "Epoch 147/200\n",
      "3/3 [==============================] - 0s 105ms/step - loss: 3.0833 - val_loss: 3.0128\n",
      "Epoch 148/200\n",
      "3/3 [==============================] - 0s 119ms/step - loss: 3.0364 - val_loss: 3.0245\n",
      "Epoch 149/200\n",
      "3/3 [==============================] - 0s 92ms/step - loss: 3.0242 - val_loss: 3.0386\n",
      "Epoch 150/200\n",
      "3/3 [==============================] - 0s 119ms/step - loss: 3.0189 - val_loss: 2.9984\n",
      "Epoch 151/200\n",
      "3/3 [==============================] - ETA: 0s - loss: 3.048 - 0s 90ms/step - loss: 3.0007 - val_loss: 2.9743\n",
      "Epoch 152/200\n",
      "3/3 [==============================] - 0s 104ms/step - loss: 2.9983 - val_loss: 2.9904\n",
      "Epoch 153/200\n",
      "3/3 [==============================] - 0s 70ms/step - loss: 3.0242 - val_loss: 3.0266\n",
      "Epoch 154/200\n",
      "3/3 [==============================] - 0s 79ms/step - loss: 3.0297 - val_loss: 3.0617\n",
      "Epoch 155/200\n",
      "3/3 [==============================] - 0s 54ms/step - loss: 3.0261 - val_loss: 3.0004\n",
      "Epoch 156/200\n",
      "3/3 [==============================] - 0s 59ms/step - loss: 3.0050 - val_loss: 3.0080\n",
      "Epoch 157/200\n",
      "3/3 [==============================] - ETA: 0s - loss: 2.999 - 0s 96ms/step - loss: 2.9993 - val_loss: 2.9702\n",
      "Epoch 158/200\n",
      "3/3 [==============================] - 0s 113ms/step - loss: 2.9730 - val_loss: 2.9960\n",
      "Epoch 159/200\n",
      "3/3 [==============================] - 0s 129ms/step - loss: 2.9677 - val_loss: 2.9926\n",
      "Epoch 160/200\n",
      "3/3 [==============================] - 0s 101ms/step - loss: 2.9591 - val_loss: 2.9901\n",
      "Epoch 161/200\n",
      "3/3 [==============================] - 0s 100ms/step - loss: 2.9748 - val_loss: 2.9513\n",
      "Epoch 162/200\n"
     ]
    },
    {
     "name": "stdout",
     "output_type": "stream",
     "text": [
      "3/3 [==============================] - 0s 100ms/step - loss: 2.9434 - val_loss: 2.9568\n",
      "Epoch 163/200\n",
      "3/3 [==============================] - 0s 79ms/step - loss: 2.9360 - val_loss: 2.9472\n",
      "Epoch 164/200\n",
      "3/3 [==============================] - 0s 87ms/step - loss: 2.9647 - val_loss: 2.9756\n",
      "Epoch 165/200\n",
      "3/3 [==============================] - 0s 106ms/step - loss: 2.9478 - val_loss: 3.0081\n",
      "Epoch 166/200\n",
      "3/3 [==============================] - 0s 81ms/step - loss: 2.9304 - val_loss: 2.9978\n",
      "Epoch 167/200\n",
      "3/3 [==============================] - 0s 125ms/step - loss: 2.9258 - val_loss: 3.0036\n",
      "Epoch 168/200\n",
      "3/3 [==============================] - 0s 86ms/step - loss: 2.9514 - val_loss: 2.9774\n",
      "Epoch 169/200\n",
      "3/3 [==============================] - 0s 97ms/step - loss: 2.9176 - val_loss: 2.9242\n",
      "Epoch 170/200\n",
      "3/3 [==============================] - 0s 93ms/step - loss: 2.9343 - val_loss: 2.9725\n",
      "Epoch 171/200\n",
      "3/3 [==============================] - ETA: 0s - loss: 2.898 - 0s 91ms/step - loss: 2.9044 - val_loss: 2.9747\n",
      "Epoch 172/200\n",
      "3/3 [==============================] - 0s 88ms/step - loss: 2.8806 - val_loss: 2.9384\n",
      "Epoch 173/200\n",
      "3/3 [==============================] - 0s 109ms/step - loss: 2.8636 - val_loss: 2.9128\n",
      "Epoch 174/200\n",
      "3/3 [==============================] - 0s 109ms/step - loss: 2.8411 - val_loss: 2.9041\n",
      "Epoch 175/200\n",
      "3/3 [==============================] - 0s 86ms/step - loss: 2.9453 - val_loss: 2.9718\n",
      "Epoch 176/200\n",
      "3/3 [==============================] - 0s 72ms/step - loss: 2.8713 - val_loss: 2.9602\n",
      "Epoch 177/200\n",
      "3/3 [==============================] - 0s 95ms/step - loss: 2.8460 - val_loss: 2.9041\n",
      "Epoch 178/200\n",
      "3/3 [==============================] - 0s 66ms/step - loss: 2.8098 - val_loss: 2.9266\n",
      "Epoch 179/200\n",
      "3/3 [==============================] - 0s 54ms/step - loss: 2.8545 - val_loss: 2.8796\n",
      "Epoch 180/200\n",
      "3/3 [==============================] - 0s 54ms/step - loss: 2.8057 - val_loss: 2.9008\n",
      "Epoch 181/200\n",
      "3/3 [==============================] - 0s 68ms/step - loss: 2.7728 - val_loss: 2.9270\n",
      "Epoch 182/200\n",
      "3/3 [==============================] - 0s 102ms/step - loss: 2.7934 - val_loss: 2.9072\n",
      "Epoch 183/200\n",
      "3/3 [==============================] - 0s 111ms/step - loss: 2.7683 - val_loss: 2.8898\n",
      "Epoch 184/200\n",
      "3/3 [==============================] - 0s 117ms/step - loss: 2.7668 - val_loss: 2.8723\n",
      "Epoch 185/200\n",
      "3/3 [==============================] - 0s 107ms/step - loss: 2.7619 - val_loss: 2.8791\n",
      "Epoch 186/200\n",
      "3/3 [==============================] - 0s 84ms/step - loss: 2.7385 - val_loss: 2.8896\n",
      "Epoch 187/200\n",
      "3/3 [==============================] - 0s 103ms/step - loss: 2.7330 - val_loss: 2.8709\n",
      "Epoch 188/200\n",
      "3/3 [==============================] - 0s 98ms/step - loss: 2.7157 - val_loss: 2.8695\n",
      "Epoch 189/200\n",
      "3/3 [==============================] - 0s 102ms/step - loss: 2.6933 - val_loss: 2.8781\n",
      "Epoch 190/200\n",
      "3/3 [==============================] - 0s 90ms/step - loss: 2.7030 - val_loss: 2.8694\n",
      "Epoch 191/200\n",
      "3/3 [==============================] - 0s 103ms/step - loss: 2.6932 - val_loss: 2.8711\n",
      "Epoch 192/200\n",
      "3/3 [==============================] - 0s 97ms/step - loss: 2.7325 - val_loss: 2.8691\n",
      "Epoch 193/200\n",
      "3/3 [==============================] - 0s 114ms/step - loss: 2.6815 - val_loss: 2.8625\n",
      "Epoch 194/200\n",
      "3/3 [==============================] - 0s 93ms/step - loss: 2.6959 - val_loss: 2.8534\n",
      "Epoch 195/200\n",
      "3/3 [==============================] - 0s 105ms/step - loss: 2.6678 - val_loss: 2.8646\n",
      "Epoch 196/200\n",
      "3/3 [==============================] - 0s 100ms/step - loss: 2.6985 - val_loss: 2.9084\n",
      "Epoch 197/200\n",
      "3/3 [==============================] - 0s 113ms/step - loss: 2.6568 - val_loss: 2.9090\n",
      "Epoch 198/200\n",
      "3/3 [==============================] - 0s 119ms/step - loss: 2.8430 - val_loss: 3.1090\n",
      "Epoch 199/200\n",
      "3/3 [==============================] - 0s 91ms/step - loss: 2.9480 - val_loss: 3.0414\n",
      "Epoch 200/200\n",
      "3/3 [==============================] - 0s 89ms/step - loss: 2.8637 - val_loss: 2.9501\n"
     ]
    }
   ],
   "source": [
    "history = model.fit(X_train, y_train, epochs=200,\n",
    "                    validation_data=(X_valid, y_valid))"
   ]
  },
  {
   "cell_type": "code",
   "execution_count": 65,
   "id": "0b29d35c",
   "metadata": {
    "scrolled": true
   },
   "outputs": [],
   "source": [
    "# history = model.fit(X_train, y_train, epochs=145,\n",
    "#                     validation_data=(X_valid, y_valid), callbacks=[lr_scheduler])"
   ]
  },
  {
   "cell_type": "code",
   "execution_count": 66,
   "id": "28215732",
   "metadata": {},
   "outputs": [
    {
     "data": {
      "image/png": "[encoded data removed]",
      "text/plain": [
       "<Figure size 576x360 with 1 Axes>"
      ]
     },
     "metadata": {
      "needs_background": "light"
     },
     "output_type": "display_data"
    }
   ],
   "source": [
    "import pandas as pd\n",
    "\n",
    "# print(history.history)\n",
    "try:\n",
    "    lr_list = history.history[\"lr\"]\n",
    "    del(history.history[\"lr\"])\n",
    "except:\n",
    "    pass\n",
    "\n",
    "pd.DataFrame(history.history)[50:].plot(figsize=(8, 5))\n",
    "plt.grid(True)\n",
    "# plt.gca().set_ylim(0, 1)\n",
    "plt.show()"
   ]
  },
  {
   "cell_type": "code",
   "execution_count": 67,
   "id": "47d362c9",
   "metadata": {
    "scrolled": true
   },
   "outputs": [
    {
     "name": "stdout",
     "output_type": "stream",
     "text": [
      "X.shape = (None, 1)\n",
      "gauss_grid.shape = (None, 5)\n"
     ]
    },
    {
     "data": {
      "image/png": "[encoded data removed]",
      "text/plain": [
       "<Figure size 432x288 with 1 Axes>"
      ]
     },
     "metadata": {
      "needs_background": "light"
     },
     "output_type": "display_data"
    }
   ],
   "source": [
    "plt.plot(X_train, y_train, \"b.\")\n",
    "draw_func((lambda X: model.predict(X)[:,0] ), mark='r-', linewidth=2, label=\"Predictions\")\n",
    "draw_normal_func(func_dict)\n",
    "plt.xlabel(\"$x_1$\", fontsize=18)\n",
    "plt.ylabel(\"$y$\", rotation=0, fontsize=18)\n",
    "plt.legend(loc=\"upper left\", fontsize=14)\n",
    "# plt.axis([-3, 3, 0, 10])\n",
    "plt.show()"
   ]
  },
  {
   "cell_type": "code",
   "execution_count": 68,
   "id": "a85a5159",
   "metadata": {},
   "outputs": [
    {
     "name": "stdout",
     "output_type": "stream",
     "text": [
      "y_func.shape = (100, 1)\n",
      "y_gt.shape = (100, 1)\n"
     ]
    },
    {
     "data": {
      "text/plain": [
       "4.311079317843598"
      ]
     },
     "execution_count": 68,
     "metadata": {},
     "output_type": "execute_result"
    }
   ],
   "source": [
    "get_prediction_error((lambda X: model.predict(X)[:,0] ), func_dict)"
   ]
  },
  {
   "cell_type": "markdown",
   "id": "9ca1e36d",
   "metadata": {},
   "source": [
    "### Draw the 1-sigma boundary line"
   ]
  },
  {
   "cell_type": "code",
   "execution_count": 69,
   "id": "a04a47fa",
   "metadata": {},
   "outputs": [
    {
     "data": {
      "image/png": "[encoded data removed]",
      "text/plain": [
       "<Figure size 432x288 with 1 Axes>"
      ]
     },
     "metadata": {
      "needs_background": "light"
     },
     "output_type": "display_data"
    }
   ],
   "source": [
    "def n_sigma_boundary_line(X, n):\n",
    "    _y = model.predict(X)\n",
    "    _mean, _z = _y[:,0:1], _y[:,1:2]\n",
    "    _sigma = np.exp(alpha*_z)\n",
    "    return( _mean + n*_sigma)\n",
    "\n",
    "plt.plot(X_train, y_train, \"b.\")\n",
    "#\n",
    "draw_func((lambda X: model.predict(X)[:,0] ), mark='r-', linewidth=2, label=\"Predictions\")\n",
    "draw_func((lambda X: n_sigma_boundary_line(X, +1.0) ), mark='k--', linewidth=1, label=\"$\\mu+\\sigma$\")\n",
    "draw_func((lambda X: n_sigma_boundary_line(X, -1.0) ), mark='k--', linewidth=1, label=\"$\\mu-\\sigma$\")\n",
    "#\n",
    "draw_normal_func(func_dict)\n",
    "plt.xlabel(\"$x_1$\", fontsize=18)\n",
    "plt.ylabel(\"$y$\", rotation=0, fontsize=18)\n",
    "plt.legend(loc=\"upper left\", fontsize=14)\n",
    "# plt.axis([-3, 3, 0, 10])\n",
    "plt.show()"
   ]
  },
  {
   "cell_type": "code",
   "execution_count": null,
   "id": "a820404f",
   "metadata": {},
   "outputs": [],
   "source": []
  },
  {
   "cell_type": "code",
   "execution_count": null,
   "id": "a0839933",
   "metadata": {},
   "outputs": [],
   "source": []
  },
  {
   "cell_type": "code",
   "execution_count": null,
   "id": "2d764d70",
   "metadata": {},
   "outputs": [],
   "source": []
  },
  {
   "cell_type": "code",
   "execution_count": null,
   "id": "9f01e530",
   "metadata": {},
   "outputs": [],
   "source": []
  },
  {
   "cell_type": "code",
   "execution_count": null,
   "id": "0c3bdf42",
   "metadata": {},
   "outputs": [],
   "source": []
  }
 ],
 "metadata": {
  "kernelspec": {
   "display_name": "Python 3",
   "language": "python",
   "name": "python3"
  },
  "language_info": {
   "codemirror_mode": {
    "name": "ipython",
    "version": 3
   },
   "file_extension": ".py",
   "mimetype": "text/x-python",
   "name": "python",
   "nbconvert_exporter": "python",
   "pygments_lexer": "ipython3",
   "version": "3.6.9"
  }
 },
 "nbformat": 4,
 "nbformat_minor": 5
}
