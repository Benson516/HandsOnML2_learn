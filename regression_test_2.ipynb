{
 "cells": [
  {
   "cell_type": "markdown",
   "id": "899fa113",
   "metadata": {},
   "source": [
    "# Regression with Different Output Format under Various Data Conditions\n",
    "\n",
    "In this experience, we test the following output format for regression task under several different data coditions.\n",
    "- Numerical output\n",
    "- Regression as classification (grid-out)\n",
    "\n",
    "The data coditions include:\n",
    "- Sparse (few data)\n",
    "- Grouped\n",
    "  - Biased (parallel data)\n",
    "  - Completely different mode, uncorrelated data (cross)\n",
    "  - Partially diversed (split)"
   ]
  },
  {
   "cell_type": "code",
   "execution_count": 1,
   "id": "625ce7c3",
   "metadata": {},
   "outputs": [],
   "source": [
    "import numpy as np\n",
    "import tensorflow as tf\n",
    "from tensorflow import keras\n",
    "\n",
    "# To plot pretty figures\n",
    "%matplotlib inline\n",
    "import matplotlib as mpl\n",
    "import matplotlib.pyplot as plt\n",
    "mpl.rc('axes', labelsize=14)\n",
    "mpl.rc('xtick', labelsize=12)\n",
    "mpl.rc('ytick', labelsize=12)"
   ]
  },
  {
   "cell_type": "code",
   "execution_count": 2,
   "id": "94e8a077",
   "metadata": {},
   "outputs": [],
   "source": [
    "def draw_func(func_in, x_min=-5, x_max=5, mark='r--', linewidth=1, label='func'):\n",
    "    n_sample = 100\n",
    "    X_func = np.linspace(x_min, x_max, n_sample).reshape(n_sample, 1)\n",
    "    y_func = func_in(X_func)\n",
    "    plt.plot(X_func, y_func, mark, linewidth=linewidth, label=label)"
   ]
  },
  {
   "cell_type": "markdown",
   "id": "c27ffe35",
   "metadata": {},
   "source": [
    "Generate polynomial data"
   ]
  },
  {
   "cell_type": "code",
   "execution_count": 3,
   "id": "ce670ce4",
   "metadata": {},
   "outputs": [],
   "source": [
    "poly_a1 = 5.0\n",
    "# poly_a1 = -10.0 # 5.0\n",
    "def func_0(X): # Reference\n",
    "    return 0.5 * X**3 + 0.5 * X**2 + (poly_a1)*X + 2\n",
    "def func_1(X): # Variation 1: parellel\n",
    "    return 0.5 * X**3 + 0.5 * X**2 + (poly_a1)*X + 30\n",
    "def func_2(X): # Variation 2: cross\n",
    "    return -0.5 * X**3 + 0.5 * X**2 + (poly_a1)*X + 30\n",
    "def func_3(X): # Variation 3: slightly split\n",
    "    return 0.3 * X**3 + 1.0 * X**2 + (poly_a1)*X + 15 "
   ]
  },
  {
   "cell_type": "code",
   "execution_count": 4,
   "id": "9463bfff",
   "metadata": {},
   "outputs": [],
   "source": [
    "func_dict = dict()\n",
    "func_dict[\"f1\"] = func_0\n",
    "# func_dict[\"f2\"] = func_1\n",
    "# func_dict[\"f2\"] = func_2\n",
    "func_dict[\"f2\"] = func_3\n",
    "\n",
    "# Average line\n",
    "func_dict[\"f_avg\"] = ( lambda X: 0.5*func_dict[\"f1\"](X) + 0.5*func_dict[\"f2\"](X) )"
   ]
  },
  {
   "cell_type": "code",
   "execution_count": 5,
   "id": "9bd2136c",
   "metadata": {},
   "outputs": [],
   "source": [
    "def draw_normal_func(func_dict):\n",
    "    draw_func(func_dict[\"f1\"], mark='c:', label=\"f1\")\n",
    "    draw_func(func_dict[\"f2\"], mark='g:', label=\"f2\")\n",
    "    draw_func(func_dict[\"f_avg\"], mark='m--', label=\"f_avg\")"
   ]
  },
  {
   "cell_type": "code",
   "execution_count": 6,
   "id": "63437d0c",
   "metadata": {},
   "outputs": [
    {
     "name": "stdout",
     "output_type": "stream",
     "text": [
      "(m, m_train) = (100, 80)\n",
      "y_data_pure.shape = (100, 1)\n",
      "y_data.shape = (100, 1)\n"
     ]
    }
   ],
   "source": [
    "np.random.seed(42)\n",
    "m = 100 # 50 # 100 # 200\n",
    "m_train = m // 5 * 4\n",
    "print(\"(m, m_train) = (%d, %d)\" % (m, m_train))\n",
    "\n",
    "# Input\n",
    "is_gapped = True\n",
    "# is_gapped = False\n",
    "#\n",
    "if not is_gapped:\n",
    "    X_data = 10 * np.random.rand(m, 1) - 5 # Note: X is randomly sampled, so we don't need to shuffle the data again\n",
    "else:\n",
    "    X_data = np.concatenate( (np.linspace(-5.0, -2.0, m//2), np.linspace(2.0, 5.0, m-m//2)) )\n",
    "    X_data = X_data.reshape((m,1))\n",
    "    np.random.shuffle(X_data)\n",
    "\n",
    "# Output\n",
    "is_multiout = True\n",
    "# is_multiout = False\n",
    "if is_multiout:\n",
    "    m_h = m // 2\n",
    "    X_data_1 = X_data[:m_h]\n",
    "    X_data_2 = X_data[m_h:]\n",
    "    y_data_pure_1 = func_dict[\"f1\"](X_data_1) \n",
    "    y_data_pure_2 = func_dict[\"f2\"](X_data_2) \n",
    "    y_data_pure = np.vstack([y_data_pure_1, y_data_pure_2])\n",
    "    print(\"y_data_pure.shape = %s\" % str(y_data_pure.shape))\n",
    "else:        \n",
    "    y_data_pure = func_dict[\"f_avg\"](X_data)\n",
    "\n",
    "# Label (+noise)\n",
    "n_stddev = 2.0\n",
    "# n_stddev = 10.0\n",
    "y_data = y_data_pure + np.random.randn(m, 1) * n_stddev\n",
    "print(\"y_data.shape = %s\" % str(y_data.shape))"
   ]
  },
  {
   "cell_type": "code",
   "execution_count": 7,
   "id": "ef588fae",
   "metadata": {},
   "outputs": [],
   "source": [
    "# Method 1: simply slice\n",
    "# X_train = X_data[:m_train]\n",
    "# y_train = y_data[:m_train]\n",
    "# X_valid = X_data[m_train:]\n",
    "# y_valid = y_data[m_train:]\n",
    "\n",
    "# Method 2: shuffle\n",
    "from sklearn.model_selection import train_test_split\n",
    "X_train, X_valid, y_train, y_valid = train_test_split(X_data, y_data, test_size=0.2, random_state=42)"
   ]
  },
  {
   "cell_type": "code",
   "execution_count": 8,
   "id": "3b5d2cfe",
   "metadata": {},
   "outputs": [
    {
     "name": "stdout",
     "output_type": "stream",
     "text": [
      "(80, 1)\n"
     ]
    }
   ],
   "source": [
    "print(X_train.shape)"
   ]
  },
  {
   "cell_type": "code",
   "execution_count": 9,
   "id": "693af3b7",
   "metadata": {},
   "outputs": [
    {
     "data": {
      "image/png": "[encoded data removed]",
      "text/plain": [
       "<Figure size 432x288 with 1 Axes>"
      ]
     },
     "metadata": {
      "needs_background": "light"
     },
     "output_type": "display_data"
    }
   ],
   "source": [
    "plt.plot(X_train, y_train, \"b.\")\n",
    "draw_normal_func(func_dict)\n",
    "plt.xlabel(\"$x_1$\", fontsize=18)\n",
    "plt.ylabel(\"$y$\", rotation=0, fontsize=18)\n",
    "# plt.axis([-3, 3, 0, 10])\n",
    "plt.show()"
   ]
  },
  {
   "cell_type": "markdown",
   "id": "053ecc57",
   "metadata": {},
   "source": [
    "# Simple FCs (number --> number)"
   ]
  },
  {
   "cell_type": "markdown",
   "id": "c66eb67b",
   "metadata": {},
   "source": [
    "Build the regression model"
   ]
  },
  {
   "cell_type": "code",
   "execution_count": 10,
   "id": "9449fc0b",
   "metadata": {},
   "outputs": [
    {
     "name": "stderr",
     "output_type": "stream",
     "text": [
      "/home/benson516/ml/my_env/lib/python3.6/site-packages/keras/optimizer_v2/optimizer_v2.py:356: UserWarning: The `lr` argument is deprecated, use `learning_rate` instead.\n",
      "  \"The `lr` argument is deprecated, use `learning_rate` instead.\")\n"
     ]
    }
   ],
   "source": [
    "model = keras.models.Sequential([\n",
    "    keras.layers.Dense(30, activation=\"relu\", input_shape=X_train.shape[1:]),\n",
    "    keras.layers.Dense(30, activation=\"relu\"),\n",
    "    keras.layers.Dense(1)\n",
    "])\n",
    "\n",
    "optimizer = keras.optimizers.SGD(lr=0.0001, momentum=0.9)\n",
    "model.compile(loss=\"mean_squared_error\", optimizer=optimizer)\n",
    "# optimizer = keras.optimizers.Adam(lr=0.01)\n",
    "# model.compile(loss=\"mean_absolute_error\", optimizer=optimizer)"
   ]
  },
  {
   "cell_type": "code",
   "execution_count": 11,
   "id": "92afd68a",
   "metadata": {
    "scrolled": true
   },
   "outputs": [
    {
     "name": "stdout",
     "output_type": "stream",
     "text": [
      "Epoch 1/100\n",
      "3/3 [==============================] - 1s 196ms/step - loss: 2476.4287 - val_loss: 1688.5684\n",
      "Epoch 2/100\n",
      "3/3 [==============================] - 0s 66ms/step - loss: 2425.6367 - val_loss: 1623.8064\n",
      "Epoch 3/100\n",
      "3/3 [==============================] - 0s 80ms/step - loss: 2324.0654 - val_loss: 1509.4767\n",
      "Epoch 4/100\n",
      "3/3 [==============================] - 0s 59ms/step - loss: 2139.8281 - val_loss: 1274.6306\n",
      "Epoch 5/100\n",
      "3/3 [==============================] - ETA: 0s - loss: 1689.17 - 0s 97ms/step - loss: 1689.1754 - val_loss: 782.7762\n",
      "Epoch 6/100\n",
      "3/3 [==============================] - 0s 64ms/step - loss: 767.0822 - val_loss: 287.0742\n",
      "Epoch 7/100\n",
      "3/3 [==============================] - 0s 91ms/step - loss: 483.8648 - val_loss: 637.1031\n",
      "Epoch 8/100\n",
      "3/3 [==============================] - 0s 65ms/step - loss: 633.8593 - val_loss: 182.3901\n",
      "Epoch 9/100\n",
      "3/3 [==============================] - 0s 63ms/step - loss: 317.9988 - val_loss: 380.0277\n",
      "Epoch 10/100\n",
      "3/3 [==============================] - 0s 60ms/step - loss: 590.3195 - val_loss: 294.1246\n",
      "Epoch 11/100\n",
      "3/3 [==============================] - 0s 86ms/step - loss: 374.2128 - val_loss: 178.1673\n",
      "Epoch 12/100\n",
      "3/3 [==============================] - ETA: 0s - loss: 224.000 - 0s 100ms/step - loss: 255.7876 - val_loss: 301.3532\n",
      "Epoch 13/100\n",
      "3/3 [==============================] - 0s 89ms/step - loss: 321.5613 - val_loss: 200.4900\n",
      "Epoch 14/100\n",
      "3/3 [==============================] - 0s 88ms/step - loss: 222.9592 - val_loss: 230.2110\n",
      "Epoch 15/100\n",
      "3/3 [==============================] - 0s 119ms/step - loss: 280.9166 - val_loss: 198.0732\n",
      "Epoch 16/100\n",
      "3/3 [==============================] - 0s 101ms/step - loss: 214.3223 - val_loss: 181.9165\n",
      "Epoch 17/100\n",
      "3/3 [==============================] - 0s 100ms/step - loss: 224.5567 - val_loss: 199.5241\n",
      "Epoch 18/100\n",
      "3/3 [==============================] - 0s 90ms/step - loss: 220.8254 - val_loss: 168.5416\n",
      "Epoch 19/100\n",
      "3/3 [==============================] - 0s 92ms/step - loss: 204.9386 - val_loss: 176.6090\n",
      "Epoch 20/100\n",
      "3/3 [==============================] - ETA: 0s - loss: 216.242 - 0s 130ms/step - loss: 216.2423 - val_loss: 169.0396\n",
      "Epoch 21/100\n",
      "3/3 [==============================] - 0s 90ms/step - loss: 201.8299 - val_loss: 184.8499\n",
      "Epoch 22/100\n",
      "3/3 [==============================] - 0s 92ms/step - loss: 208.6922 - val_loss: 181.2919\n",
      "Epoch 23/100\n",
      "3/3 [==============================] - 0s 102ms/step - loss: 195.6403 - val_loss: 176.2825\n",
      "Epoch 24/100\n",
      "3/3 [==============================] - ETA: 0s - loss: 279.934 - 0s 97ms/step - loss: 201.2113 - val_loss: 178.6824\n",
      "Epoch 25/100\n",
      "3/3 [==============================] - 0s 106ms/step - loss: 198.9127 - val_loss: 179.2993\n",
      "Epoch 26/100\n",
      "3/3 [==============================] - 0s 100ms/step - loss: 197.5916 - val_loss: 179.5589\n",
      "Epoch 27/100\n",
      "3/3 [==============================] - 0s 107ms/step - loss: 197.5712 - val_loss: 169.7365\n",
      "Epoch 28/100\n",
      "3/3 [==============================] - 0s 102ms/step - loss: 191.8758 - val_loss: 166.8524\n",
      "Epoch 29/100\n",
      "3/3 [==============================] - 0s 124ms/step - loss: 194.3296 - val_loss: 168.1474\n",
      "Epoch 30/100\n",
      "3/3 [==============================] - 0s 91ms/step - loss: 188.5955 - val_loss: 173.0522\n",
      "Epoch 31/100\n",
      "3/3 [==============================] - 0s 89ms/step - loss: 194.6200 - val_loss: 176.2579\n",
      "Epoch 32/100\n",
      "3/3 [==============================] - 0s 86ms/step - loss: 191.7249 - val_loss: 170.6919\n",
      "Epoch 33/100\n",
      "3/3 [==============================] - 0s 109ms/step - loss: 188.5622 - val_loss: 167.7468\n",
      "Epoch 34/100\n",
      "3/3 [==============================] - 0s 110ms/step - loss: 191.0038 - val_loss: 166.3716\n",
      "Epoch 35/100\n",
      "3/3 [==============================] - 0s 110ms/step - loss: 188.6187 - val_loss: 165.8733\n",
      "Epoch 36/100\n",
      "3/3 [==============================] - 0s 99ms/step - loss: 187.2209 - val_loss: 162.5427\n",
      "Epoch 37/100\n",
      "3/3 [==============================] - 0s 97ms/step - loss: 187.7132 - val_loss: 162.6412\n",
      "Epoch 38/100\n",
      "3/3 [==============================] - 0s 94ms/step - loss: 186.6062 - val_loss: 164.5072\n",
      "Epoch 39/100\n",
      "3/3 [==============================] - 0s 103ms/step - loss: 189.0920 - val_loss: 166.5033\n",
      "Epoch 40/100\n",
      "3/3 [==============================] - 0s 105ms/step - loss: 186.7501 - val_loss: 162.4209\n",
      "Epoch 41/100\n",
      "3/3 [==============================] - 0s 87ms/step - loss: 186.7621 - val_loss: 167.0942\n",
      "Epoch 42/100\n",
      "3/3 [==============================] - 0s 103ms/step - loss: 183.7613 - val_loss: 170.4419\n",
      "Epoch 43/100\n",
      "3/3 [==============================] - 0s 97ms/step - loss: 182.6097 - val_loss: 175.4139\n",
      "Epoch 44/100\n",
      "3/3 [==============================] - 0s 106ms/step - loss: 184.0279 - val_loss: 175.6169\n",
      "Epoch 45/100\n",
      "3/3 [==============================] - 0s 100ms/step - loss: 184.8295 - val_loss: 171.1952\n",
      "Epoch 46/100\n",
      "3/3 [==============================] - 0s 101ms/step - loss: 180.7471 - val_loss: 169.3336\n",
      "Epoch 47/100\n",
      "3/3 [==============================] - 0s 93ms/step - loss: 183.6473 - val_loss: 165.6056\n",
      "Epoch 48/100\n",
      "3/3 [==============================] - 0s 110ms/step - loss: 179.4709 - val_loss: 167.2289\n",
      "Epoch 49/100\n",
      "3/3 [==============================] - 0s 104ms/step - loss: 180.2264 - val_loss: 164.7786\n",
      "Epoch 50/100\n",
      "3/3 [==============================] - 0s 104ms/step - loss: 180.4705 - val_loss: 160.7531\n",
      "Epoch 51/100\n",
      "3/3 [==============================] - 0s 90ms/step - loss: 179.3558 - val_loss: 159.7712\n",
      "Epoch 52/100\n",
      "3/3 [==============================] - 0s 80ms/step - loss: 180.3320 - val_loss: 166.6891\n",
      "Epoch 53/100\n",
      "3/3 [==============================] - 0s 99ms/step - loss: 178.2352 - val_loss: 167.1280\n",
      "Epoch 54/100\n",
      "3/3 [==============================] - 0s 101ms/step - loss: 177.4272 - val_loss: 161.4342\n",
      "Epoch 55/100\n",
      "3/3 [==============================] - 0s 95ms/step - loss: 175.4229 - val_loss: 160.3555\n",
      "Epoch 56/100\n",
      "3/3 [==============================] - 0s 93ms/step - loss: 175.1165 - val_loss: 159.1572\n",
      "Epoch 57/100\n",
      "3/3 [==============================] - 0s 79ms/step - loss: 174.7222 - val_loss: 159.9936\n",
      "Epoch 58/100\n",
      "3/3 [==============================] - ETA: 0s - loss: 162.581 - 0s 95ms/step - loss: 173.5756 - val_loss: 162.5500\n",
      "Epoch 59/100\n",
      "3/3 [==============================] - 0s 76ms/step - loss: 174.2422 - val_loss: 161.9843\n",
      "Epoch 60/100\n",
      "3/3 [==============================] - 0s 88ms/step - loss: 174.0832 - val_loss: 161.4003\n",
      "Epoch 61/100\n",
      "3/3 [==============================] - 0s 93ms/step - loss: 176.0337 - val_loss: 156.9072\n",
      "Epoch 62/100\n",
      "3/3 [==============================] - 0s 96ms/step - loss: 170.9533 - val_loss: 160.6738\n",
      "Epoch 63/100\n",
      "3/3 [==============================] - 0s 87ms/step - loss: 174.4892 - val_loss: 162.8875\n",
      "Epoch 64/100\n",
      "3/3 [==============================] - 0s 86ms/step - loss: 171.3739 - val_loss: 158.2154\n",
      "Epoch 65/100\n",
      "3/3 [==============================] - 0s 94ms/step - loss: 171.8701 - val_loss: 157.1790\n",
      "Epoch 66/100\n",
      "3/3 [==============================] - ETA: 0s - loss: 213.915 - 0s 94ms/step - loss: 171.2822 - val_loss: 157.2339\n",
      "Epoch 67/100\n",
      "3/3 [==============================] - 0s 105ms/step - loss: 173.4875 - val_loss: 164.4310\n",
      "Epoch 68/100\n",
      "3/3 [==============================] - 0s 102ms/step - loss: 173.2090 - val_loss: 157.4165\n",
      "Epoch 69/100\n",
      "3/3 [==============================] - 0s 110ms/step - loss: 172.6979 - val_loss: 159.5056\n",
      "Epoch 70/100\n",
      "3/3 [==============================] - 0s 87ms/step - loss: 173.0668 - val_loss: 157.1430\n",
      "Epoch 71/100\n",
      "3/3 [==============================] - 0s 94ms/step - loss: 167.0704 - val_loss: 162.9769\n",
      "Epoch 72/100\n",
      "3/3 [==============================] - ETA: 0s - loss: 176.612 - 0s 100ms/step - loss: 173.9189 - val_loss: 157.0757\n",
      "Epoch 73/100\n",
      "3/3 [==============================] - 0s 99ms/step - loss: 168.6422 - val_loss: 153.0868\n",
      "Epoch 74/100\n",
      "3/3 [==============================] - 0s 78ms/step - loss: 167.9504 - val_loss: 154.3923\n",
      "Epoch 75/100\n",
      "3/3 [==============================] - 0s 93ms/step - loss: 167.3876 - val_loss: 158.2838\n",
      "Epoch 76/100\n",
      "3/3 [==============================] - 0s 109ms/step - loss: 165.7976 - val_loss: 161.1164\n",
      "Epoch 77/100\n",
      "3/3 [==============================] - 0s 99ms/step - loss: 166.8651 - val_loss: 160.7699\n",
      "Epoch 78/100\n"
     ]
    },
    {
     "name": "stdout",
     "output_type": "stream",
     "text": [
      "3/3 [==============================] - 0s 90ms/step - loss: 165.8229 - val_loss: 155.0290\n",
      "Epoch 79/100\n",
      "3/3 [==============================] - 0s 106ms/step - loss: 165.6213 - val_loss: 149.2655\n",
      "Epoch 80/100\n",
      "3/3 [==============================] - ETA: 0s - loss: 230.137 - 0s 93ms/step - loss: 164.6862 - val_loss: 147.6510\n",
      "Epoch 81/100\n",
      "3/3 [==============================] - 0s 95ms/step - loss: 165.1405 - val_loss: 148.8251\n",
      "Epoch 82/100\n",
      "3/3 [==============================] - 0s 66ms/step - loss: 164.7066 - val_loss: 148.9024\n",
      "Epoch 83/100\n",
      "3/3 [==============================] - 0s 78ms/step - loss: 164.2004 - val_loss: 145.9845\n",
      "Epoch 84/100\n",
      "3/3 [==============================] - 0s 101ms/step - loss: 163.9532 - val_loss: 147.4969\n",
      "Epoch 85/100\n",
      "3/3 [==============================] - 0s 114ms/step - loss: 162.7691 - val_loss: 152.0681\n",
      "Epoch 86/100\n",
      "3/3 [==============================] - 0s 84ms/step - loss: 162.4401 - val_loss: 153.7601\n",
      "Epoch 87/100\n",
      "3/3 [==============================] - 0s 97ms/step - loss: 162.9627 - val_loss: 158.6669\n",
      "Epoch 88/100\n",
      "3/3 [==============================] - 0s 104ms/step - loss: 163.2080 - val_loss: 160.4856\n",
      "Epoch 89/100\n",
      "3/3 [==============================] - 0s 109ms/step - loss: 163.9816 - val_loss: 157.1091\n",
      "Epoch 90/100\n",
      "3/3 [==============================] - 0s 83ms/step - loss: 162.0443 - val_loss: 148.1972\n",
      "Epoch 91/100\n",
      "3/3 [==============================] - 0s 74ms/step - loss: 161.3335 - val_loss: 144.7410\n",
      "Epoch 92/100\n",
      "3/3 [==============================] - 0s 74ms/step - loss: 163.1188 - val_loss: 144.5813\n",
      "Epoch 93/100\n",
      "3/3 [==============================] - 0s 93ms/step - loss: 160.5597 - val_loss: 148.1602\n",
      "Epoch 94/100\n",
      "3/3 [==============================] - 0s 86ms/step - loss: 161.0787 - val_loss: 154.0694\n",
      "Epoch 95/100\n",
      "3/3 [==============================] - 0s 84ms/step - loss: 160.7412 - val_loss: 152.3675\n",
      "Epoch 96/100\n",
      "3/3 [==============================] - 0s 92ms/step - loss: 160.6418 - val_loss: 148.8505\n",
      "Epoch 97/100\n",
      "3/3 [==============================] - 0s 106ms/step - loss: 160.9408 - val_loss: 146.2247\n",
      "Epoch 98/100\n",
      "3/3 [==============================] - 0s 81ms/step - loss: 160.9320 - val_loss: 140.2672\n",
      "Epoch 99/100\n",
      "3/3 [==============================] - 0s 95ms/step - loss: 159.2027 - val_loss: 138.9635\n",
      "Epoch 100/100\n",
      "3/3 [==============================] - 0s 74ms/step - loss: 161.4940 - val_loss: 136.8223\n"
     ]
    }
   ],
   "source": [
    "history = model.fit(X_train, y_train, epochs=100,\n",
    "                    validation_data=(X_valid, y_valid))"
   ]
  },
  {
   "cell_type": "markdown",
   "id": "17d6e37a",
   "metadata": {},
   "source": [
    "Plot the result"
   ]
  },
  {
   "cell_type": "code",
   "execution_count": 12,
   "id": "3b066f5c",
   "metadata": {},
   "outputs": [
    {
     "data": {
      "image/png": "[encoded data removed]",
      "text/plain": [
       "<Figure size 576x360 with 1 Axes>"
      ]
     },
     "metadata": {
      "needs_background": "light"
     },
     "output_type": "display_data"
    }
   ],
   "source": [
    "import pandas as pd\n",
    "\n",
    "pd.DataFrame(history.history).plot(figsize=(8, 5))\n",
    "plt.grid(True)\n",
    "# plt.gca().set_ylim(0, 1)\n",
    "plt.show()"
   ]
  },
  {
   "cell_type": "code",
   "execution_count": 13,
   "id": "03f9bb54",
   "metadata": {},
   "outputs": [
    {
     "data": {
      "image/png": "[encoded data removed]",
      "text/plain": [
       "<Figure size 432x288 with 1 Axes>"
      ]
     },
     "metadata": {
      "needs_background": "light"
     },
     "output_type": "display_data"
    }
   ],
   "source": [
    "# X_new = np.linspace(-5, 5, 100).reshape(100, 1)\n",
    "# y_new = model.predict(X_new)\n",
    "#\n",
    "plt.plot(X_train, y_train, \"b.\")\n",
    "# plt.plot(X_new, y_new, \"r-\", linewidth=2, label=\"Predictions\")\n",
    "draw_func(model.predict, mark='r-', linewidth=2, label=\"Predictions\")\n",
    "draw_normal_func(func_dict)\n",
    "plt.xlabel(\"$x_1$\", fontsize=18)\n",
    "plt.ylabel(\"$y$\", rotation=0, fontsize=18)\n",
    "plt.legend(loc=\"upper left\", fontsize=14)\n",
    "# plt.axis([-3, 3, 0, 10])\n",
    "plt.show()"
   ]
  },
  {
   "cell_type": "markdown",
   "id": "58da8768",
   "metadata": {},
   "source": [
    "# Simulated CNN Feature Map (1-D grids, grid --> number)"
   ]
  },
  {
   "cell_type": "code",
   "execution_count": 14,
   "id": "287b5e4c",
   "metadata": {},
   "outputs": [],
   "source": [
    "class num2grid(keras.layers.Layer):\n",
    "    def __init__(self, units, x_min=-10, x_max=10, sigma=1.0, activation=None, **kwargs):\n",
    "        super().__init__(**kwargs)\n",
    "        self.units = units\n",
    "        self.x_min = x_min\n",
    "        self.x_max = x_max\n",
    "        self.sigma = sigma\n",
    "        self.sigma2 = self.sigma**2\n",
    "        self.activation = keras.activations.get(activation)\n",
    "        \n",
    "    def build(self, batch_input_shape):\n",
    "        #\n",
    "        self.x_grid = np.linspace(self.x_min, self.x_max, self.units, endpoint=True)\n",
    "#         print(\"self.x_grid.shape = %s\" % str(self.x_grid.shape))\n",
    "        #\n",
    "        super().build(batch_input_shape) # must be at the end\n",
    "        \n",
    "    def call(self, X):\n",
    "        '''\n",
    "        Input shape:  (batch, X_chanel)\n",
    "        Output shape: (batch, grid_unit) \n",
    "        \n",
    "        self.x_grid shape: (grid_unit,)\n",
    "        '''\n",
    "        gauss_grid = tf.exp( -(self.x_grid - X)**2 / (2.0*self.sigma2) )\n",
    "        print(\"X.shape = %s\" % str(X.shape))\n",
    "        print(\"gauss_grid.shape = %s\" % str(gauss_grid.shape))\n",
    "        return self.activation(gauss_grid)\n",
    "    \n",
    "    def compute_output_shape(self, batch_input_shape):\n",
    "        return tf.TensorShape(batch_input_shape.as_list()[:-1] + [self.units])\n",
    "    \n",
    "    def get_config(self):\n",
    "        base_config = super().get_config()\n",
    "        return {**base_config, \n",
    "                \"units\": self.units,\n",
    "                \"x_min\": self.x_min,\n",
    "                \"x_max\": self.x_max,\n",
    "                \"sigma\": self.sigma,\n",
    "                \"activation\": keras.activations.serialize(self.activation)}"
   ]
  },
  {
   "cell_type": "code",
   "execution_count": 15,
   "id": "f463c12a",
   "metadata": {},
   "outputs": [
    {
     "name": "stdout",
     "output_type": "stream",
     "text": [
      "X.shape = (None, 1)\n",
      "gauss_grid.shape = (None, 5)\n"
     ]
    },
    {
     "name": "stderr",
     "output_type": "stream",
     "text": [
      "/home/benson516/ml/my_env/lib/python3.6/site-packages/keras/optimizer_v2/optimizer_v2.py:356: UserWarning: The `lr` argument is deprecated, use `learning_rate` instead.\n",
      "  \"The `lr` argument is deprecated, use `learning_rate` instead.\")\n"
     ]
    }
   ],
   "source": [
    "model = keras.models.Sequential([\n",
    "    num2grid(5,x_min=-10, x_max=10, sigma=3.0, input_shape=X_train.shape[1:]),\n",
    "    keras.layers.Dense(30, activation=\"relu\"),\n",
    "#     keras.layers.Dense(30, activation=keras.layers.LeakyReLU(alpha=0.2) ),\n",
    "#     keras.layers.Dense(30, activation=\"selu\"),\n",
    "#     keras.layers.Dense(30, activation=\"relu\"),\n",
    "    keras.layers.Dense(1)\n",
    "])\n",
    "\n",
    "optimizer = keras.optimizers.SGD(lr=0.001, momentum=0.9)\n",
    "model.compile(loss=\"mean_squared_error\", optimizer=optimizer)\n",
    "# optimizer = keras.optimizers.Adam(lr=0.01)\n",
    "# model.compile(loss=\"mean_absolute_error\", optimizer=optimizer)"
   ]
  },
  {
   "cell_type": "code",
   "execution_count": 16,
   "id": "c966ada4",
   "metadata": {
    "scrolled": true
   },
   "outputs": [
    {
     "name": "stdout",
     "output_type": "stream",
     "text": [
      "Epoch 1/100\n",
      "X.shape = (None, 1)\n",
      "gauss_grid.shape = (None, 5)\n",
      "X.shape = (None, 1)\n",
      "gauss_grid.shape = (None, 5)\n",
      "1/3 [=========>....................] - ETA: 1s - loss: 2265.8582X.shape = (None, 1)\n",
      "gauss_grid.shape = (None, 5)\n",
      "3/3 [==============================] - 1s 274ms/step - loss: 2483.8301 - val_loss: 1707.3610\n",
      "Epoch 2/100\n",
      "3/3 [==============================] - 0s 83ms/step - loss: 2394.6174 - val_loss: 1633.1882\n",
      "Epoch 3/100\n",
      "3/3 [==============================] - 0s 69ms/step - loss: 2181.1812 - val_loss: 1441.7583\n",
      "Epoch 4/100\n",
      "3/3 [==============================] - 0s 62ms/step - loss: 1593.1750 - val_loss: 1123.5048\n",
      "Epoch 5/100\n",
      "3/3 [==============================] - 0s 54ms/step - loss: 927.7184 - val_loss: 597.5143\n",
      "Epoch 6/100\n",
      "3/3 [==============================] - 0s 80ms/step - loss: 571.3521 - val_loss: 354.9579\n",
      "Epoch 7/100\n",
      "3/3 [==============================] - 0s 82ms/step - loss: 334.6880 - val_loss: 300.4417\n",
      "Epoch 8/100\n",
      "3/3 [==============================] - 0s 91ms/step - loss: 379.1023 - val_loss: 323.9171\n",
      "Epoch 9/100\n",
      "3/3 [==============================] - 0s 84ms/step - loss: 298.3864 - val_loss: 346.4398\n",
      "Epoch 10/100\n",
      "3/3 [==============================] - 0s 115ms/step - loss: 331.8755 - val_loss: 242.0927\n",
      "Epoch 11/100\n",
      "3/3 [==============================] - 0s 104ms/step - loss: 237.5445 - val_loss: 248.0950\n",
      "Epoch 12/100\n",
      "3/3 [==============================] - 0s 118ms/step - loss: 281.8427 - val_loss: 256.7372\n",
      "Epoch 13/100\n",
      "3/3 [==============================] - 0s 89ms/step - loss: 253.0764 - val_loss: 267.3593\n",
      "Epoch 14/100\n",
      "3/3 [==============================] - 0s 93ms/step - loss: 238.0799 - val_loss: 216.3979\n",
      "Epoch 15/100\n",
      "3/3 [==============================] - 0s 88ms/step - loss: 229.5434 - val_loss: 211.7906\n",
      "Epoch 16/100\n",
      "3/3 [==============================] - 0s 104ms/step - loss: 220.5657 - val_loss: 228.1234\n",
      "Epoch 17/100\n",
      "3/3 [==============================] - 0s 104ms/step - loss: 225.6350 - val_loss: 206.2083\n",
      "Epoch 18/100\n",
      "3/3 [==============================] - 0s 109ms/step - loss: 209.7811 - val_loss: 190.9916\n",
      "Epoch 19/100\n",
      "3/3 [==============================] - 0s 110ms/step - loss: 205.5773 - val_loss: 191.9516\n",
      "Epoch 20/100\n",
      "3/3 [==============================] - 0s 107ms/step - loss: 202.9091 - val_loss: 199.4121\n",
      "Epoch 21/100\n",
      "3/3 [==============================] - 0s 110ms/step - loss: 201.0617 - val_loss: 187.3677\n",
      "Epoch 22/100\n",
      "3/3 [==============================] - 0s 64ms/step - loss: 196.5227 - val_loss: 178.3064\n",
      "Epoch 23/100\n",
      "3/3 [==============================] - 0s 114ms/step - loss: 187.6740 - val_loss: 164.5482\n",
      "Epoch 24/100\n",
      "3/3 [==============================] - 0s 107ms/step - loss: 197.9663 - val_loss: 158.1621\n",
      "Epoch 25/100\n",
      "3/3 [==============================] - 0s 98ms/step - loss: 196.6198 - val_loss: 147.2943\n",
      "Epoch 26/100\n",
      "3/3 [==============================] - 0s 91ms/step - loss: 188.7991 - val_loss: 150.1729\n",
      "Epoch 27/100\n",
      "3/3 [==============================] - 0s 90ms/step - loss: 176.8846 - val_loss: 174.9501\n",
      "Epoch 28/100\n",
      "3/3 [==============================] - 0s 92ms/step - loss: 186.8399 - val_loss: 174.6975\n",
      "Epoch 29/100\n",
      "3/3 [==============================] - 0s 89ms/step - loss: 182.4561 - val_loss: 152.9901\n",
      "Epoch 30/100\n",
      "3/3 [==============================] - 0s 77ms/step - loss: 178.2329 - val_loss: 132.7274\n",
      "Epoch 31/100\n",
      "3/3 [==============================] - 0s 73ms/step - loss: 170.6648 - val_loss: 131.2136\n",
      "Epoch 32/100\n",
      "3/3 [==============================] - 0s 76ms/step - loss: 181.4040 - val_loss: 129.8076\n",
      "Epoch 33/100\n",
      "3/3 [==============================] - 0s 94ms/step - loss: 173.5611 - val_loss: 125.9258\n",
      "Epoch 34/100\n",
      "3/3 [==============================] - 0s 95ms/step - loss: 173.3137 - val_loss: 138.0341\n",
      "Epoch 35/100\n",
      "3/3 [==============================] - 0s 118ms/step - loss: 171.7798 - val_loss: 139.3604\n",
      "Epoch 36/100\n",
      "3/3 [==============================] - 0s 106ms/step - loss: 171.8182 - val_loss: 126.8642\n",
      "Epoch 37/100\n",
      "3/3 [==============================] - 0s 87ms/step - loss: 167.6280 - val_loss: 117.4040\n",
      "Epoch 38/100\n",
      "3/3 [==============================] - 0s 116ms/step - loss: 167.2470 - val_loss: 111.9075\n",
      "Epoch 39/100\n",
      "3/3 [==============================] - 0s 101ms/step - loss: 167.6604 - val_loss: 112.7767\n",
      "Epoch 40/100\n",
      "3/3 [==============================] - 0s 102ms/step - loss: 166.9376 - val_loss: 119.3602\n",
      "Epoch 41/100\n",
      "3/3 [==============================] - 0s 107ms/step - loss: 166.3789 - val_loss: 119.8785\n",
      "Epoch 42/100\n",
      "3/3 [==============================] - 0s 95ms/step - loss: 165.9933 - val_loss: 116.5784\n",
      "Epoch 43/100\n",
      "3/3 [==============================] - 0s 86ms/step - loss: 165.4953 - val_loss: 114.7968\n",
      "Epoch 44/100\n",
      "3/3 [==============================] - 0s 116ms/step - loss: 165.9187 - val_loss: 115.4865\n",
      "Epoch 45/100\n",
      "3/3 [==============================] - 0s 65ms/step - loss: 167.4325 - val_loss: 104.8459\n",
      "Epoch 46/100\n",
      "3/3 [==============================] - 0s 106ms/step - loss: 165.5355 - val_loss: 106.2380\n",
      "Epoch 47/100\n",
      "3/3 [==============================] - 0s 91ms/step - loss: 164.9365 - val_loss: 112.1325\n",
      "Epoch 48/100\n",
      "3/3 [==============================] - 0s 98ms/step - loss: 164.3023 - val_loss: 113.1229\n",
      "Epoch 49/100\n",
      "3/3 [==============================] - 0s 103ms/step - loss: 165.1821 - val_loss: 111.7912\n",
      "Epoch 50/100\n",
      "3/3 [==============================] - ETA: 0s - loss: 149.666 - 0s 93ms/step - loss: 166.1567 - val_loss: 113.9032\n",
      "Epoch 51/100\n",
      "3/3 [==============================] - 0s 111ms/step - loss: 162.7262 - val_loss: 107.6808\n",
      "Epoch 52/100\n",
      "3/3 [==============================] - 0s 102ms/step - loss: 163.5440 - val_loss: 105.8575\n",
      "Epoch 53/100\n",
      "3/3 [==============================] - 0s 107ms/step - loss: 163.9698 - val_loss: 105.1774\n",
      "Epoch 54/100\n",
      "3/3 [==============================] - 0s 87ms/step - loss: 164.9333 - val_loss: 112.1915\n",
      "Epoch 55/100\n",
      "3/3 [==============================] - 0s 108ms/step - loss: 166.2180 - val_loss: 113.3094\n",
      "Epoch 56/100\n",
      "3/3 [==============================] - 0s 74ms/step - loss: 165.8969 - val_loss: 104.9619\n",
      "Epoch 57/100\n",
      "3/3 [==============================] - 0s 113ms/step - loss: 162.7400 - val_loss: 112.0652\n",
      "Epoch 58/100\n",
      "3/3 [==============================] - 0s 92ms/step - loss: 163.2672 - val_loss: 112.3323\n",
      "Epoch 59/100\n",
      "3/3 [==============================] - 0s 81ms/step - loss: 162.7938 - val_loss: 115.5508\n",
      "Epoch 60/100\n",
      "3/3 [==============================] - 0s 87ms/step - loss: 164.9946 - val_loss: 125.0571\n",
      "Epoch 61/100\n",
      "3/3 [==============================] - 0s 91ms/step - loss: 164.4251 - val_loss: 116.8392\n",
      "Epoch 62/100\n",
      "3/3 [==============================] - 0s 91ms/step - loss: 164.8748 - val_loss: 103.5222\n",
      "Epoch 63/100\n",
      "3/3 [==============================] - 0s 109ms/step - loss: 163.3208 - val_loss: 101.8007\n",
      "Epoch 64/100\n",
      "3/3 [==============================] - 0s 108ms/step - loss: 164.6066 - val_loss: 106.1702\n",
      "Epoch 65/100\n",
      "3/3 [==============================] - 0s 97ms/step - loss: 159.4360 - val_loss: 118.1150\n",
      "Epoch 66/100\n",
      "3/3 [==============================] - 0s 87ms/step - loss: 165.4026 - val_loss: 139.4454\n",
      "Epoch 67/100\n",
      "3/3 [==============================] - 0s 111ms/step - loss: 168.8023 - val_loss: 145.6096\n",
      "Epoch 68/100\n",
      "3/3 [==============================] - 0s 89ms/step - loss: 169.0917 - val_loss: 124.6953\n",
      "Epoch 69/100\n",
      "3/3 [==============================] - 0s 111ms/step - loss: 160.7085 - val_loss: 95.6769\n",
      "Epoch 70/100\n",
      "3/3 [==============================] - 0s 93ms/step - loss: 168.6373 - val_loss: 92.9129\n",
      "Epoch 71/100\n",
      "3/3 [==============================] - 0s 79ms/step - loss: 173.2883 - val_loss: 96.9256\n",
      "Epoch 72/100\n",
      "3/3 [==============================] - 0s 100ms/step - loss: 165.0358 - val_loss: 121.7826\n",
      "Epoch 73/100\n",
      "3/3 [==============================] - 0s 81ms/step - loss: 165.5034 - val_loss: 137.2035\n",
      "Epoch 74/100\n",
      "3/3 [==============================] - ETA: 0s - loss: 158.526 - 0s 102ms/step - loss: 165.0236 - val_loss: 132.8665\n",
      "Epoch 75/100\n",
      "3/3 [==============================] - 0s 100ms/step - loss: 165.8773 - val_loss: 114.8415\n",
      "Epoch 76/100\n",
      "3/3 [==============================] - 0s 90ms/step - loss: 164.6372 - val_loss: 108.6900\n",
      "Epoch 77/100\n"
     ]
    },
    {
     "name": "stdout",
     "output_type": "stream",
     "text": [
      "3/3 [==============================] - 0s 92ms/step - loss: 163.8037 - val_loss: 103.7723\n",
      "Epoch 78/100\n",
      "3/3 [==============================] - 0s 101ms/step - loss: 161.3919 - val_loss: 106.8044\n",
      "Epoch 79/100\n",
      "3/3 [==============================] - 0s 118ms/step - loss: 160.8492 - val_loss: 122.5711\n",
      "Epoch 80/100\n",
      "3/3 [==============================] - 0s 85ms/step - loss: 163.5078 - val_loss: 131.1806\n",
      "Epoch 81/100\n",
      "3/3 [==============================] - 0s 104ms/step - loss: 161.9193 - val_loss: 115.6319\n",
      "Epoch 82/100\n",
      "3/3 [==============================] - 0s 68ms/step - loss: 159.6745 - val_loss: 104.3445\n",
      "Epoch 83/100\n",
      "3/3 [==============================] - 0s 91ms/step - loss: 160.2429 - val_loss: 101.3537\n",
      "Epoch 84/100\n",
      "3/3 [==============================] - 0s 104ms/step - loss: 160.9782 - val_loss: 106.5788\n",
      "Epoch 85/100\n",
      "3/3 [==============================] - 0s 95ms/step - loss: 164.1592 - val_loss: 123.5578\n",
      "Epoch 86/100\n",
      "3/3 [==============================] - 0s 55ms/step - loss: 159.9436 - val_loss: 121.2410\n",
      "Epoch 87/100\n",
      "3/3 [==============================] - 0s 68ms/step - loss: 159.6806 - val_loss: 112.8632\n",
      "Epoch 88/100\n",
      "3/3 [==============================] - 0s 77ms/step - loss: 159.6776 - val_loss: 112.7803\n",
      "Epoch 89/100\n",
      "3/3 [==============================] - 0s 88ms/step - loss: 160.9920 - val_loss: 113.5913\n",
      "Epoch 90/100\n",
      "3/3 [==============================] - ETA: 0s - loss: 170.739 - 0s 101ms/step - loss: 159.3288 - val_loss: 112.7116\n",
      "Epoch 91/100\n",
      "3/3 [==============================] - 0s 88ms/step - loss: 159.2233 - val_loss: 123.6182\n",
      "Epoch 92/100\n",
      "3/3 [==============================] - 0s 120ms/step - loss: 157.3259 - val_loss: 126.4259\n",
      "Epoch 93/100\n",
      "3/3 [==============================] - 0s 110ms/step - loss: 159.4107 - val_loss: 131.8472\n",
      "Epoch 94/100\n",
      "3/3 [==============================] - 0s 87ms/step - loss: 159.8900 - val_loss: 134.3209\n",
      "Epoch 95/100\n",
      "3/3 [==============================] - 0s 95ms/step - loss: 156.6545 - val_loss: 132.2297\n",
      "Epoch 96/100\n",
      "3/3 [==============================] - 0s 101ms/step - loss: 157.3739 - val_loss: 120.0840\n",
      "Epoch 97/100\n",
      "3/3 [==============================] - 0s 90ms/step - loss: 163.0347 - val_loss: 108.4159\n",
      "Epoch 98/100\n",
      "3/3 [==============================] - 0s 86ms/step - loss: 159.2890 - val_loss: 123.6145\n",
      "Epoch 99/100\n",
      "3/3 [==============================] - 0s 98ms/step - loss: 160.1181 - val_loss: 138.4406\n",
      "Epoch 100/100\n",
      "3/3 [==============================] - 0s 97ms/step - loss: 155.6821 - val_loss: 122.8594\n"
     ]
    }
   ],
   "source": [
    "history = model.fit(X_train, y_train, epochs=100,\n",
    "                    validation_data=(X_valid, y_valid))"
   ]
  },
  {
   "cell_type": "code",
   "execution_count": 17,
   "id": "4d550f88",
   "metadata": {},
   "outputs": [
    {
     "data": {
      "image/png": "[encoded data removed]",
      "text/plain": [
       "<Figure size 576x360 with 1 Axes>"
      ]
     },
     "metadata": {
      "needs_background": "light"
     },
     "output_type": "display_data"
    }
   ],
   "source": [
    "import pandas as pd\n",
    "\n",
    "pd.DataFrame(history.history).plot(figsize=(8, 5))\n",
    "plt.grid(True)\n",
    "# plt.gca().set_ylim(0, 1)\n",
    "plt.show()"
   ]
  },
  {
   "cell_type": "code",
   "execution_count": 18,
   "id": "37466019",
   "metadata": {},
   "outputs": [
    {
     "name": "stdout",
     "output_type": "stream",
     "text": [
      "X.shape = (None, 1)\n",
      "gauss_grid.shape = (None, 5)\n"
     ]
    },
    {
     "data": {
      "image/png": "[encoded data removed]",
      "text/plain": [
       "<Figure size 432x288 with 1 Axes>"
      ]
     },
     "metadata": {
      "needs_background": "light"
     },
     "output_type": "display_data"
    }
   ],
   "source": [
    "# X_new = np.linspace(-5, 5, 100).reshape(100, 1)\n",
    "# y_new = model.predict(X_new)\n",
    "#\n",
    "plt.plot(X_train, y_train, \"b.\")\n",
    "# plt.plot(X_new, y_new, \"r-\", linewidth=2, label=\"Predictions\")\n",
    "draw_func(model.predict, mark='r-', linewidth=2, label=\"Predictions\")\n",
    "draw_normal_func(func_dict)\n",
    "plt.xlabel(\"$x_1$\", fontsize=18)\n",
    "plt.ylabel(\"$y$\", rotation=0, fontsize=18)\n",
    "plt.legend(loc=\"upper left\", fontsize=14)\n",
    "# plt.axis([-3, 3, 0, 10])\n",
    "plt.show()"
   ]
  },
  {
   "cell_type": "markdown",
   "id": "fe65d614",
   "metadata": {},
   "source": [
    "# Grid & Regression by Classification (grid --> grid)"
   ]
  },
  {
   "cell_type": "code",
   "execution_count": 19,
   "id": "3d35615e",
   "metadata": {},
   "outputs": [],
   "source": [
    "class num2grid_np():\n",
    "    def __init__(self, units, x_min=-10, x_max=10, sigma=1.0):\n",
    "        self.units = units\n",
    "        self.x_min = x_min\n",
    "        self.x_max = x_max\n",
    "        self.sigma = sigma\n",
    "        self.sigma2 = self.sigma**2\n",
    "        self.x_grid = np.linspace(self.x_min, self.x_max, self.units, endpoint=True)\n",
    "        print(\"self.x_grid = %s\" % str(self.x_grid))\n",
    "        \n",
    "    def convert(self, X):\n",
    "        gauss_grid = np.exp( -(self.x_grid - X)**2 / (2.0*self.sigma2) )\n",
    "#         if len(gauss_grid.shape) == 1:\n",
    "#             gauss_grid = gauss_grid.reshape([1,-1])\n",
    "#         grid_sum = np.sum(gauss_grid, axis=1, keepdims=True)\n",
    "        grid_sum = np.sum(gauss_grid, axis=-1, keepdims=True)\n",
    "        gauss_grid = gauss_grid / grid_sum\n",
    "        return gauss_grid\n",
    "    \n",
    "    def inv_convert(self, grid):\n",
    "#         if len(grid.shape) == 1:\n",
    "#             grid = grid.reshape([1,-1])\n",
    "#         grid_sum = np.sum(grid, axis=1)\n",
    "        grid_sum = np.sum(grid, axis=-1)\n",
    "#         print(grid_sum)\n",
    "        exp_num = np.sum((self.x_grid * grid), axis=-1) / grid_sum # element-wise\n",
    "        return exp_num\n",
    "    \n",
    "    def get_statistic(self, grid):\n",
    "        grid_sum = np.sum(grid, axis=-1)\n",
    "        _mean = np.sum((self.x_grid * grid), axis=-1) / grid_sum # element-wise\n",
    "        _var  = np.sum( ((self.x_grid.reshape((1,-1)) - _mean.reshape((-1,1)))**2 * grid), axis=-1) / grid_sum # element-wise\n",
    "        # print(\"(_mean, _var) = (%f, %f)\" % (_mean, _var))\n",
    "        _stddev = np.sqrt(_var)\n",
    "        return _mean, _stddev"
   ]
  },
  {
   "cell_type": "code",
   "execution_count": 20,
   "id": "4903180b",
   "metadata": {},
   "outputs": [
    {
     "name": "stdout",
     "output_type": "stream",
     "text": [
      "self.x_grid = [-100.          -95.91836735  -91.83673469  -87.75510204  -83.67346939\n",
      "  -79.59183673  -75.51020408  -71.42857143  -67.34693878  -63.26530612\n",
      "  -59.18367347  -55.10204082  -51.02040816  -46.93877551  -42.85714286\n",
      "  -38.7755102   -34.69387755  -30.6122449   -26.53061224  -22.44897959\n",
      "  -18.36734694  -14.28571429  -10.20408163   -6.12244898   -2.04081633\n",
      "    2.04081633    6.12244898   10.20408163   14.28571429   18.36734694\n",
      "   22.44897959   26.53061224   30.6122449    34.69387755   38.7755102\n",
      "   42.85714286   46.93877551   51.02040816   55.10204082   59.18367347\n",
      "   63.26530612   67.34693878   71.42857143   75.51020408   79.59183673\n",
      "   83.67346939   87.75510204   91.83673469   95.91836735  100.        ]\n"
     ]
    }
   ],
   "source": [
    "# class_num = 10 # 10\n",
    "# n2g = num2grid_np(class_num, x_min=-100.0, x_max=100.0, sigma=20.0) # 20.0\n",
    "# class_num = 20\n",
    "# n2g = num2grid_np(class_num, x_min=-100.0, x_max=100.0, sigma=15.0) # 20.0\n",
    "class_num = 50\n",
    "n2g = num2grid_np(class_num, x_min=-100.0, x_max=100.0, sigma=6.0) # 5.0 "
   ]
  },
  {
   "cell_type": "code",
   "execution_count": 21,
   "id": "dce05258",
   "metadata": {},
   "outputs": [
    {
     "name": "stdout",
     "output_type": "stream",
     "text": [
      "[[3.57995092e-60 2.08100846e-55 7.61538914e-51 1.75441300e-46\n",
      "  2.54444491e-42 2.32314196e-38 1.33530332e-34 4.83176258e-31\n",
      "  1.10065884e-27 1.57841554e-24 1.42498879e-21 8.09884396e-19\n",
      "  2.89771784e-16 6.52695532e-14 9.25521826e-12 8.26198061e-10\n",
      "  4.64304784e-08 1.64264466e-06 3.65852120e-05 5.12966502e-04\n",
      "  4.52786966e-03 2.51605603e-02 8.80173281e-02 1.93837381e-01\n",
      "  2.68737559e-01 2.34552834e-01 1.28876722e-01 4.45789421e-02\n",
      "  9.70748025e-03 1.33077537e-03 1.14848275e-04 6.23972825e-06\n",
      "  2.13416679e-07 4.59528573e-09 6.22899760e-11 5.31551427e-13\n",
      "  2.85557712e-15 9.65748361e-18 2.05615356e-20 2.75593262e-23\n",
      "  2.32542921e-26 1.23526215e-29 4.13082337e-33 8.69632169e-37\n",
      "  1.15254011e-40 9.61607812e-45 5.05081425e-49 1.67011468e-53\n",
      "  3.47658354e-58 4.55596654e-63]]\n"
     ]
    }
   ],
   "source": [
    "# grid_1 = n2g.convert(-1.2)\n",
    "grid_1 = n2g.convert([[-1.2]])\n",
    "print(grid_1)"
   ]
  },
  {
   "cell_type": "code",
   "execution_count": 22,
   "id": "48203fe2",
   "metadata": {},
   "outputs": [
    {
     "data": {
      "text/plain": [
       "array([-1.2])"
      ]
     },
     "execution_count": 22,
     "metadata": {},
     "output_type": "execute_result"
    }
   ],
   "source": [
    "n2g.inv_convert(grid_1)"
   ]
  },
  {
   "cell_type": "code",
   "execution_count": 23,
   "id": "a741b6d1",
   "metadata": {},
   "outputs": [
    {
     "data": {
      "text/plain": [
       "(array([-1.2]), array([6.]))"
      ]
     },
     "execution_count": 23,
     "metadata": {},
     "output_type": "execute_result"
    }
   ],
   "source": [
    "n2g.get_statistic(grid_1)"
   ]
  },
  {
   "cell_type": "markdown",
   "id": "bdc0b9a0",
   "metadata": {},
   "source": [
    "### Convert the labels to grid (pre-processing)"
   ]
  },
  {
   "cell_type": "code",
   "execution_count": 24,
   "id": "39c7fa96",
   "metadata": {},
   "outputs": [],
   "source": [
    "y_train_grid = n2g.convert(y_train)\n",
    "y_valid_grid = n2g.convert(y_valid)"
   ]
  },
  {
   "cell_type": "code",
   "execution_count": 25,
   "id": "f577a751",
   "metadata": {},
   "outputs": [
    {
     "name": "stdout",
     "output_type": "stream",
     "text": [
      "(80, 50)\n",
      "(20, 50)\n"
     ]
    }
   ],
   "source": [
    "print(y_train_grid.shape)\n",
    "print(y_valid_grid.shape)"
   ]
  },
  {
   "cell_type": "code",
   "execution_count": 26,
   "id": "71610af1",
   "metadata": {},
   "outputs": [
    {
     "name": "stdout",
     "output_type": "stream",
     "text": [
      "X.shape = (None, 1)\n",
      "gauss_grid.shape = (None, 5)\n"
     ]
    },
    {
     "name": "stderr",
     "output_type": "stream",
     "text": [
      "/home/benson516/ml/my_env/lib/python3.6/site-packages/keras/optimizer_v2/optimizer_v2.py:356: UserWarning: The `lr` argument is deprecated, use `learning_rate` instead.\n",
      "  \"The `lr` argument is deprecated, use `learning_rate` instead.\")\n"
     ]
    }
   ],
   "source": [
    "model = keras.models.Sequential([\n",
    "#     keras.layers.Dense(30, activation=\"relu\", input_shape=X_train.shape[1:]),\n",
    "    num2grid(5,x_min=-10, x_max=10, sigma=3.0, input_shape=X_train.shape[1:]),\n",
    "    keras.layers.Dense(30, activation=\"relu\"),\n",
    "    keras.layers.Dense(class_num, activation=\"softmax\"),\n",
    "])\n",
    "\n",
    "optimizer = keras.optimizers.SGD(lr=0.2, momentum=0.9)\n",
    "model.compile(loss=\"categorical_crossentropy\", optimizer=optimizer)"
   ]
  },
  {
   "cell_type": "code",
   "execution_count": 27,
   "id": "e2244aee",
   "metadata": {
    "scrolled": true
   },
   "outputs": [
    {
     "name": "stdout",
     "output_type": "stream",
     "text": [
      "Epoch 1/100\n",
      "X.shape = (None, 1)\n",
      "gauss_grid.shape = (None, 5)\n",
      "X.shape = (None, 1)\n",
      "gauss_grid.shape = (None, 5)\n",
      "1/3 [=========>....................] - ETA: 2s - loss: 3.9300X.shape = (None, 1)\n",
      "gauss_grid.shape = (None, 5)\n",
      "3/3 [==============================] - 2s 308ms/step - loss: 3.9349 - val_loss: 3.9136\n",
      "Epoch 2/100\n",
      "3/3 [==============================] - 0s 88ms/step - loss: 3.8917 - val_loss: 3.8677\n",
      "Epoch 3/100\n",
      "3/3 [==============================] - 0s 67ms/step - loss: 3.8244 - val_loss: 3.8178\n",
      "Epoch 4/100\n",
      "3/3 [==============================] - 0s 81ms/step - loss: 3.7537 - val_loss: 3.7617\n",
      "Epoch 5/100\n",
      "3/3 [==============================] - 0s 110ms/step - loss: 3.6730 - val_loss: 3.7076\n",
      "Epoch 6/100\n",
      "3/3 [==============================] - 0s 100ms/step - loss: 3.5884 - val_loss: 3.6576\n",
      "Epoch 7/100\n",
      "3/3 [==============================] - 0s 96ms/step - loss: 3.5072 - val_loss: 3.5992\n",
      "Epoch 8/100\n",
      "3/3 [==============================] - 0s 103ms/step - loss: 3.4023 - val_loss: 3.4945\n",
      "Epoch 9/100\n",
      "3/3 [==============================] - 0s 100ms/step - loss: 3.3004 - val_loss: 3.3525\n",
      "Epoch 10/100\n",
      "3/3 [==============================] - 0s 110ms/step - loss: 3.2174 - val_loss: 3.2342\n",
      "Epoch 11/100\n",
      "3/3 [==============================] - ETA: 0s - loss: 3.233 - 0s 94ms/step - loss: 3.1491 - val_loss: 3.1443\n",
      "Epoch 12/100\n",
      "3/3 [==============================] - ETA: 0s - loss: 3.162 - 0s 86ms/step - loss: 3.0862 - val_loss: 3.0967\n",
      "Epoch 13/100\n",
      "3/3 [==============================] - 0s 95ms/step - loss: 3.0429 - val_loss: 3.0704\n",
      "Epoch 14/100\n",
      "3/3 [==============================] - 0s 87ms/step - loss: 3.0097 - val_loss: 3.0867\n",
      "Epoch 15/100\n",
      "3/3 [==============================] - 0s 103ms/step - loss: 2.9870 - val_loss: 3.0916\n",
      "Epoch 16/100\n",
      "3/3 [==============================] - 0s 93ms/step - loss: 2.9625 - val_loss: 3.0310\n",
      "Epoch 17/100\n",
      "3/3 [==============================] - 0s 94ms/step - loss: 2.9258 - val_loss: 3.0084\n",
      "Epoch 18/100\n",
      "3/3 [==============================] - 0s 109ms/step - loss: 2.9179 - val_loss: 3.0184\n",
      "Epoch 19/100\n",
      "3/3 [==============================] - 0s 75ms/step - loss: 2.8885 - val_loss: 3.0512\n",
      "Epoch 20/100\n",
      "3/3 [==============================] - 0s 88ms/step - loss: 2.8622 - val_loss: 3.0125\n",
      "Epoch 21/100\n",
      "3/3 [==============================] - 0s 77ms/step - loss: 2.8384 - val_loss: 2.9600\n",
      "Epoch 22/100\n",
      "3/3 [==============================] - 0s 85ms/step - loss: 2.7996 - val_loss: 2.9775\n",
      "Epoch 23/100\n",
      "3/3 [==============================] - 0s 112ms/step - loss: 2.7855 - val_loss: 2.9875\n",
      "Epoch 24/100\n",
      "3/3 [==============================] - 0s 74ms/step - loss: 2.7657 - val_loss: 2.9191\n",
      "Epoch 25/100\n",
      "3/3 [==============================] - 0s 101ms/step - loss: 2.7376 - val_loss: 2.8571\n",
      "Epoch 26/100\n",
      "3/3 [==============================] - 0s 96ms/step - loss: 2.7189 - val_loss: 2.8358\n",
      "Epoch 27/100\n",
      "3/3 [==============================] - 0s 95ms/step - loss: 2.7012 - val_loss: 2.8423\n",
      "Epoch 28/100\n",
      "3/3 [==============================] - 0s 97ms/step - loss: 2.6938 - val_loss: 2.8800\n",
      "Epoch 29/100\n",
      "3/3 [==============================] - 0s 96ms/step - loss: 2.6673 - val_loss: 2.8475\n",
      "Epoch 30/100\n",
      "3/3 [==============================] - 0s 91ms/step - loss: 2.6519 - val_loss: 2.8114\n",
      "Epoch 31/100\n",
      "3/3 [==============================] - 0s 99ms/step - loss: 2.6384 - val_loss: 2.7945\n",
      "Epoch 32/100\n",
      "3/3 [==============================] - 0s 63ms/step - loss: 2.6288 - val_loss: 2.8421\n",
      "Epoch 33/100\n",
      "3/3 [==============================] - 0s 97ms/step - loss: 2.6220 - val_loss: 2.8271\n",
      "Epoch 34/100\n",
      "3/3 [==============================] - 0s 93ms/step - loss: 2.6096 - val_loss: 2.7657\n",
      "Epoch 35/100\n",
      "3/3 [==============================] - 0s 89ms/step - loss: 2.5839 - val_loss: 2.7589\n",
      "Epoch 36/100\n",
      "3/3 [==============================] - 0s 97ms/step - loss: 2.5823 - val_loss: 2.7974\n",
      "Epoch 37/100\n",
      "3/3 [==============================] - 0s 103ms/step - loss: 2.5775 - val_loss: 2.7413\n",
      "Epoch 38/100\n",
      "3/3 [==============================] - 0s 99ms/step - loss: 2.5628 - val_loss: 2.7261\n",
      "Epoch 39/100\n",
      "3/3 [==============================] - 0s 74ms/step - loss: 2.5556 - val_loss: 2.7452\n",
      "Epoch 40/100\n",
      "3/3 [==============================] - 0s 93ms/step - loss: 2.5515 - val_loss: 2.7522\n",
      "Epoch 41/100\n",
      "3/3 [==============================] - 0s 115ms/step - loss: 2.5375 - val_loss: 2.7132\n",
      "Epoch 42/100\n",
      "3/3 [==============================] - 0s 77ms/step - loss: 2.5528 - val_loss: 2.7161\n",
      "Epoch 43/100\n",
      "3/3 [==============================] - 0s 85ms/step - loss: 2.5303 - val_loss: 2.7570\n",
      "Epoch 44/100\n",
      "3/3 [==============================] - 0s 88ms/step - loss: 2.5270 - val_loss: 2.8277\n",
      "Epoch 45/100\n",
      "3/3 [==============================] - 0s 94ms/step - loss: 2.5296 - val_loss: 2.7371\n",
      "Epoch 46/100\n",
      "3/3 [==============================] - 0s 102ms/step - loss: 2.5236 - val_loss: 2.6050\n",
      "Epoch 47/100\n",
      "3/3 [==============================] - 0s 102ms/step - loss: 2.5094 - val_loss: 2.5990\n",
      "Epoch 48/100\n",
      "3/3 [==============================] - 0s 89ms/step - loss: 2.5235 - val_loss: 2.6772\n",
      "Epoch 49/100\n",
      "3/3 [==============================] - 0s 71ms/step - loss: 2.5033 - val_loss: 2.6980\n",
      "Epoch 50/100\n",
      "3/3 [==============================] - 0s 91ms/step - loss: 2.4906 - val_loss: 2.7479\n",
      "Epoch 51/100\n",
      "3/3 [==============================] - 0s 110ms/step - loss: 2.4908 - val_loss: 2.7468\n",
      "Epoch 52/100\n",
      "3/3 [==============================] - 0s 66ms/step - loss: 2.4994 - val_loss: 2.7007\n",
      "Epoch 53/100\n",
      "3/3 [==============================] - 0s 74ms/step - loss: 2.4835 - val_loss: 2.6063\n",
      "Epoch 54/100\n",
      "3/3 [==============================] - 0s 73ms/step - loss: 2.4804 - val_loss: 2.6121\n",
      "Epoch 55/100\n",
      "3/3 [==============================] - 0s 98ms/step - loss: 2.4728 - val_loss: 2.6502\n",
      "Epoch 56/100\n",
      "3/3 [==============================] - 0s 78ms/step - loss: 2.4873 - val_loss: 2.6424\n",
      "Epoch 57/100\n",
      "3/3 [==============================] - 0s 108ms/step - loss: 2.4713 - val_loss: 2.6649\n",
      "Epoch 58/100\n",
      "3/3 [==============================] - 0s 103ms/step - loss: 2.4698 - val_loss: 2.7467\n",
      "Epoch 59/100\n",
      "3/3 [==============================] - 0s 116ms/step - loss: 2.4781 - val_loss: 2.7246\n",
      "Epoch 60/100\n",
      "3/3 [==============================] - 0s 85ms/step - loss: 2.4570 - val_loss: 2.6860\n",
      "Epoch 61/100\n",
      "3/3 [==============================] - 0s 75ms/step - loss: 2.4673 - val_loss: 2.6457\n",
      "Epoch 62/100\n",
      "3/3 [==============================] - 0s 113ms/step - loss: 2.4737 - val_loss: 2.6429\n",
      "Epoch 63/100\n",
      "3/3 [==============================] - 0s 85ms/step - loss: 2.4550 - val_loss: 2.6447\n",
      "Epoch 64/100\n",
      "3/3 [==============================] - 0s 90ms/step - loss: 2.4576 - val_loss: 2.5949\n",
      "Epoch 65/100\n",
      "3/3 [==============================] - 0s 100ms/step - loss: 2.4456 - val_loss: 2.6083\n",
      "Epoch 66/100\n",
      "3/3 [==============================] - 0s 89ms/step - loss: 2.4622 - val_loss: 2.6763\n",
      "Epoch 67/100\n",
      "3/3 [==============================] - 0s 89ms/step - loss: 2.4495 - val_loss: 2.6462\n",
      "Epoch 68/100\n",
      "3/3 [==============================] - 0s 66ms/step - loss: 2.4505 - val_loss: 2.6601\n",
      "Epoch 69/100\n",
      "3/3 [==============================] - 0s 78ms/step - loss: 2.4486 - val_loss: 2.7045\n",
      "Epoch 70/100\n",
      "3/3 [==============================] - 0s 99ms/step - loss: 2.4418 - val_loss: 2.6676\n",
      "Epoch 71/100\n",
      "3/3 [==============================] - 0s 116ms/step - loss: 2.4365 - val_loss: 2.6269\n",
      "Epoch 72/100\n",
      "3/3 [==============================] - 0s 79ms/step - loss: 2.4349 - val_loss: 2.6099\n",
      "Epoch 73/100\n",
      "3/3 [==============================] - 0s 67ms/step - loss: 2.4270 - val_loss: 2.6491\n",
      "Epoch 74/100\n",
      "3/3 [==============================] - 0s 103ms/step - loss: 2.4303 - val_loss: 2.6165\n",
      "Epoch 75/100\n",
      "3/3 [==============================] - 0s 98ms/step - loss: 2.4240 - val_loss: 2.5972\n",
      "Epoch 76/100\n",
      "3/3 [==============================] - 0s 101ms/step - loss: 2.4208 - val_loss: 2.6349\n",
      "Epoch 77/100\n",
      "3/3 [==============================] - ETA: 0s - loss: 2.417 - 0s 93ms/step - loss: 2.4302 - val_loss: 2.7004\n",
      "Epoch 78/100\n",
      "3/3 [==============================] - 0s 63ms/step - loss: 2.4282 - val_loss: 2.6309\n",
      "Epoch 79/100\n",
      "3/3 [==============================] - 0s 98ms/step - loss: 2.4266 - val_loss: 2.5340\n",
      "Epoch 80/100\n",
      "3/3 [==============================] - 0s 100ms/step - loss: 2.4222 - val_loss: 2.5636\n"
     ]
    },
    {
     "name": "stdout",
     "output_type": "stream",
     "text": [
      "Epoch 81/100\n",
      "3/3 [==============================] - 0s 107ms/step - loss: 2.4151 - val_loss: 2.6253\n",
      "Epoch 82/100\n",
      "3/3 [==============================] - 0s 98ms/step - loss: 2.4164 - val_loss: 2.7160\n",
      "Epoch 83/100\n",
      "3/3 [==============================] - 0s 71ms/step - loss: 2.4146 - val_loss: 2.6593\n",
      "Epoch 84/100\n",
      "3/3 [==============================] - 0s 98ms/step - loss: 2.4205 - val_loss: 2.5810\n",
      "Epoch 85/100\n",
      "3/3 [==============================] - 0s 100ms/step - loss: 2.4166 - val_loss: 2.5977\n",
      "Epoch 86/100\n",
      "3/3 [==============================] - 0s 92ms/step - loss: 2.4147 - val_loss: 2.6732\n",
      "Epoch 87/100\n",
      "3/3 [==============================] - 0s 99ms/step - loss: 2.4136 - val_loss: 2.6944\n",
      "Epoch 88/100\n",
      "3/3 [==============================] - 0s 102ms/step - loss: 2.4300 - val_loss: 2.5771\n",
      "Epoch 89/100\n",
      "3/3 [==============================] - ETA: 0s - loss: 2.372 - 0s 95ms/step - loss: 2.4053 - val_loss: 2.6421\n",
      "Epoch 90/100\n",
      "3/3 [==============================] - 0s 109ms/step - loss: 2.4202 - val_loss: 2.6593\n",
      "Epoch 91/100\n",
      "3/3 [==============================] - 0s 103ms/step - loss: 2.4082 - val_loss: 2.6298\n",
      "Epoch 92/100\n",
      "3/3 [==============================] - 0s 110ms/step - loss: 2.4042 - val_loss: 2.5942\n",
      "Epoch 93/100\n",
      "3/3 [==============================] - 0s 122ms/step - loss: 2.4072 - val_loss: 2.5876\n",
      "Epoch 94/100\n",
      "3/3 [==============================] - 0s 111ms/step - loss: 2.4020 - val_loss: 2.6115\n",
      "Epoch 95/100\n",
      "3/3 [==============================] - 0s 89ms/step - loss: 2.4031 - val_loss: 2.5753\n",
      "Epoch 96/100\n",
      "3/3 [==============================] - 0s 97ms/step - loss: 2.4195 - val_loss: 2.5541\n",
      "Epoch 97/100\n",
      "3/3 [==============================] - 0s 89ms/step - loss: 2.4001 - val_loss: 2.6732\n",
      "Epoch 98/100\n",
      "3/3 [==============================] - 0s 95ms/step - loss: 2.3990 - val_loss: 2.6506\n",
      "Epoch 99/100\n",
      "3/3 [==============================] - 0s 101ms/step - loss: 2.3971 - val_loss: 2.6087\n",
      "Epoch 100/100\n",
      "3/3 [==============================] - 0s 77ms/step - loss: 2.4040 - val_loss: 2.6627\n"
     ]
    }
   ],
   "source": [
    "history = model.fit(X_train, y_train_grid, epochs=100,\n",
    "                    validation_data=(X_valid, y_valid_grid))"
   ]
  },
  {
   "cell_type": "code",
   "execution_count": 28,
   "id": "390834c9",
   "metadata": {},
   "outputs": [
    {
     "data": {
      "image/png": "[encoded data removed]",
      "text/plain": [
       "<Figure size 576x360 with 1 Axes>"
      ]
     },
     "metadata": {
      "needs_background": "light"
     },
     "output_type": "display_data"
    }
   ],
   "source": [
    "import pandas as pd\n",
    "\n",
    "pd.DataFrame(history.history).plot(figsize=(8, 5))\n",
    "plt.grid(True)\n",
    "# plt.gca().set_ylim(0, 1)\n",
    "plt.show()"
   ]
  },
  {
   "cell_type": "code",
   "execution_count": 29,
   "id": "6fba3b6a",
   "metadata": {},
   "outputs": [
    {
     "name": "stdout",
     "output_type": "stream",
     "text": [
      "X.shape = (None, 1)\n",
      "gauss_grid.shape = (None, 5)\n"
     ]
    },
    {
     "data": {
      "image/png": "[encoded data removed]",
      "text/plain": [
       "<Figure size 432x288 with 1 Axes>"
      ]
     },
     "metadata": {
      "needs_background": "light"
     },
     "output_type": "display_data"
    }
   ],
   "source": [
    "# X_new = np.linspace(-5, 5, 100).reshape(100, 1)\n",
    "# y_new_proba = model.predict(X_new)\n",
    "# y_new = n2g.inv_convert(y_new_proba)\n",
    "#\n",
    "plt.plot(X_train, y_train, \"b.\")\n",
    "# plt.plot(X_new, y_new, \"r-\", linewidth=2, label=\"Predictions\")\n",
    "draw_func((lambda X: n2g.inv_convert(model.predict(X)) ), mark='r-', linewidth=2, label=\"Predictions\")\n",
    "draw_normal_func(func_dict)\n",
    "plt.xlabel(\"$x_1$\", fontsize=18)\n",
    "plt.ylabel(\"$y$\", rotation=0, fontsize=18)\n",
    "plt.legend(loc=\"upper left\", fontsize=14)\n",
    "# plt.axis([-3, 3, 0, 10])\n",
    "plt.show()"
   ]
  },
  {
   "cell_type": "code",
   "execution_count": 30,
   "id": "edcf26db",
   "metadata": {},
   "outputs": [
    {
     "data": {
      "text/plain": [
       "<matplotlib.collections.QuadMesh at 0x7f395bf37d68>"
      ]
     },
     "execution_count": 30,
     "metadata": {},
     "output_type": "execute_result"
    },
    {
     "data": {
      "image/png": "[encoded data removed]",
      "text/plain": [
       "<Figure size 432x288 with 1 Axes>"
      ]
     },
     "metadata": {
      "needs_background": "light"
     },
     "output_type": "display_data"
    }
   ],
   "source": [
    "X_new = np.linspace(-5, 5, 100).reshape(100, 1)\n",
    "y_new_proba = model.predict(X_new)\n",
    "# y_new = n2g.inv_convert(y_new_proba)\n",
    "#\n",
    "xv, yv = np.meshgrid(X_new, np.linspace(n2g.x_min, n2g.x_max, n2g.units))\n",
    "# print(xv)\n",
    "# print(yv)\n",
    "plt.pcolormesh(xv, yv, y_new_proba.T, shading=\"nearest\")"
   ]
  },
  {
   "cell_type": "markdown",
   "id": "4064d3b5",
   "metadata": {},
   "source": [
    "### Draw the 1-sigma boundary line"
   ]
  },
  {
   "cell_type": "code",
   "execution_count": 31,
   "id": "247e8712",
   "metadata": {},
   "outputs": [
    {
     "data": {
      "image/png": "[encoded data removed]",
      "text/plain": [
       "<Figure size 432x288 with 1 Axes>"
      ]
     },
     "metadata": {
      "needs_background": "light"
     },
     "output_type": "display_data"
    }
   ],
   "source": [
    "def n_sigma_boundary_line(X, n):\n",
    "    _mean, _sigma = n2g.get_statistic(model.predict(X))\n",
    "    return( _mean + n*_sigma)\n",
    "\n",
    "plt.plot(X_train, y_train, \"b.\")\n",
    "#\n",
    "draw_func((lambda X: n2g.inv_convert(model.predict(X)) ), mark='r-', linewidth=2, label=\"Predictions\")\n",
    "draw_func((lambda X: n_sigma_boundary_line(X, +1.0) ), mark='k--', linewidth=1, label=\"$\\mu+\\sigma$\")\n",
    "draw_func((lambda X: n_sigma_boundary_line(X, -1.0) ), mark='k--', linewidth=1, label=\"$\\mu-\\sigma$\")\n",
    "#\n",
    "draw_normal_func(func_dict)\n",
    "plt.xlabel(\"$x_1$\", fontsize=18)\n",
    "plt.ylabel(\"$y$\", rotation=0, fontsize=18)\n",
    "plt.legend(loc=\"upper left\", fontsize=14)\n",
    "# plt.axis([-3, 3, 0, 10])\n",
    "plt.show()"
   ]
  },
  {
   "cell_type": "code",
   "execution_count": null,
   "id": "e6266336",
   "metadata": {},
   "outputs": [],
   "source": []
  },
  {
   "cell_type": "markdown",
   "id": "99a85ab5",
   "metadata": {},
   "source": [
    "# Grid & Regression by Classification + Offset Estimation (grid --> grid,num)"
   ]
  },
  {
   "cell_type": "code",
   "execution_count": 32,
   "id": "26440167",
   "metadata": {},
   "outputs": [],
   "source": [
    "class num2gridOffset_np():\n",
    "    def __init__(self, units, x_min=-10, x_max=10):\n",
    "        self.units = units\n",
    "        self.x_min = x_min\n",
    "        self.x_max = x_max\n",
    "        self.x_grid = np.linspace(self.x_min, self.x_max, self.units, endpoint=True)\n",
    "        # bins\n",
    "        x_space = np.average(self.x_grid[1:] - self.x_grid[:-1])\n",
    "        print(\"x_space = %f\" % x_space)\n",
    "        x_0 = self.x_grid[0] - 0.5 * x_space\n",
    "        self.x_bins = [x_0 + _i*x_space for _i in range(len(self.x_grid)+1)]\n",
    "        print(\"self.x_grid = %s\" % str(self.x_grid))\n",
    "#         print(\"self.x_bins = %s\" % str(self.x_bins))\n",
    "        \n",
    "    def convert(self, X):\n",
    "        '''\n",
    "        Convert a batch of number to one-hot class and numerical offset to each grid's center\n",
    "        (m, 1) --> (m, n_units, 2)\n",
    "        '''\n",
    "        X = np.array(X)\n",
    "        if len(X.shape) <= 1:\n",
    "            X = X.reshape((-1,1))\n",
    "        idxs_bin = np.digitize(X, self.x_bins, right=False) \n",
    "        idxs_grid = (idxs_bin - 1) + 1*(idxs_bin<= 0)\n",
    "        print(idxs_grid.shape)\n",
    "        #\n",
    "        batch_size = X.shape[0]\n",
    "        grid = np.zeros((batch_size, self.units, 2))\n",
    "        # Fill in the values\n",
    "        grid[np.arange(batch_size), idxs_grid.reshape((-1,)), 0] = 1.0\n",
    "        grid[np.arange(batch_size), :, 1] = X - self.x_grid.reshape((1,-1)) # Offset\n",
    "        return grid\n",
    "    \n",
    "    def inv_convert(self, grid):\n",
    "        idxs_grid = np.argmax(grid[...,0], axis=1)\n",
    "        print(idxs_grid.shape)\n",
    "        #\n",
    "        batch_size = grid.shape[0]\n",
    "        offset_est = grid[np.arange(batch_size),idxs_grid,1]\n",
    "        print(offset_est.shape)\n",
    "        num_est = self.x_grid[idxs_grid].reshape((1,-1)) + offset_est\n",
    "        return num_est.reshape((-1,))"
   ]
  },
  {
   "cell_type": "code",
   "execution_count": 33,
   "id": "8b15e9ff",
   "metadata": {},
   "outputs": [
    {
     "name": "stdout",
     "output_type": "stream",
     "text": [
      "x_space = 22.222222\n",
      "self.x_grid = [-100.          -77.77777778  -55.55555556  -33.33333333  -11.11111111\n",
      "   11.11111111   33.33333333   55.55555556   77.77777778  100.        ]\n"
     ]
    }
   ],
   "source": [
    "class_num = 10 # 10\n",
    "n2go = num2gridOffset_np(class_num, x_min=-100.0, x_max=100.0) "
   ]
  },
  {
   "cell_type": "code",
   "execution_count": 34,
   "id": "8f6e7955",
   "metadata": {},
   "outputs": [
    {
     "name": "stdout",
     "output_type": "stream",
     "text": [
      "(2, 1)\n",
      "[[[   0.           98.8       ]\n",
      "  [   0.           76.57777778]\n",
      "  [   0.           54.35555556]\n",
      "  [   0.           32.13333333]\n",
      "  [   1.            9.91111111]\n",
      "  [   0.          -12.31111111]\n",
      "  [   0.          -34.53333333]\n",
      "  [   0.          -56.75555556]\n",
      "  [   0.          -78.97777778]\n",
      "  [   0.         -101.2       ]]\n",
      "\n",
      " [[   0.          150.5       ]\n",
      "  [   0.          128.27777778]\n",
      "  [   0.          106.05555556]\n",
      "  [   0.           83.83333333]\n",
      "  [   0.           61.61111111]\n",
      "  [   0.           39.38888889]\n",
      "  [   0.           17.16666667]\n",
      "  [   1.           -5.05555556]\n",
      "  [   0.          -27.27777778]\n",
      "  [   0.          -49.5       ]]]\n"
     ]
    }
   ],
   "source": [
    "# grid_1 = n2g.convert(-1.2)\n",
    "grid_1 = n2go.convert([[-1.2], [50.5]])\n",
    "print(grid_1)"
   ]
  },
  {
   "cell_type": "code",
   "execution_count": 35,
   "id": "48840dc5",
   "metadata": {},
   "outputs": [
    {
     "name": "stdout",
     "output_type": "stream",
     "text": [
      "(2,)\n",
      "(2,)\n"
     ]
    },
    {
     "data": {
      "text/plain": [
       "array([-1.2, 50.5])"
      ]
     },
     "execution_count": 35,
     "metadata": {},
     "output_type": "execute_result"
    }
   ],
   "source": [
    "n2go.inv_convert(grid_1)"
   ]
  },
  {
   "cell_type": "markdown",
   "id": "11683cea",
   "metadata": {},
   "source": [
    "### Convert the labels to grid (pre-processing)"
   ]
  },
  {
   "cell_type": "code",
   "execution_count": 36,
   "id": "472997cf",
   "metadata": {},
   "outputs": [
    {
     "name": "stdout",
     "output_type": "stream",
     "text": [
      "(80, 1)\n",
      "(20, 1)\n"
     ]
    }
   ],
   "source": [
    "y_train_grid_offset = n2go.convert(y_train)\n",
    "y_valid_grid_offset = n2go.convert(y_valid)"
   ]
  },
  {
   "cell_type": "code",
   "execution_count": 37,
   "id": "71f08d76",
   "metadata": {},
   "outputs": [
    {
     "name": "stdout",
     "output_type": "stream",
     "text": [
      "(80, 10, 2)\n",
      "(20, 10, 2)\n"
     ]
    }
   ],
   "source": [
    "print(y_train_grid_offset.shape)\n",
    "print(y_valid_grid_offset.shape)"
   ]
  },
  {
   "cell_type": "code",
   "execution_count": 38,
   "id": "84b5b833",
   "metadata": {},
   "outputs": [
    {
     "name": "stdout",
     "output_type": "stream",
     "text": [
      "X.shape = (None, 1)\n",
      "gauss_grid.shape = (None, 5)\n"
     ]
    }
   ],
   "source": [
    "inputs = keras.layers.Input(shape=X_train.shape[1:])\n",
    "#\n",
    "z = num2grid(5,x_min=-10, x_max=10, sigma=3.0)(inputs)\n",
    "z = keras.layers.Dense(30, activation=\"selu\")(z)\n",
    "# Outputs\n",
    "z_proba = keras.layers.Dense(30, activation=\"relu\")(z)\n",
    "z_proba  = keras.layers.Dense(class_num, activation=\"softmax\")(z_proba)\n",
    "z_offset = keras.layers.Dense(class_num, activation=\"relu\")(z)\n",
    "z_offset = keras.layers.Dense(class_num)(z_offset)\n",
    "# Concatenate\n",
    "z_proba  = keras.layers.Reshape([class_num,1])(z_proba)\n",
    "z_offset = keras.layers.Reshape([class_num,1])(z_offset)\n",
    "out_cat = keras.layers.Concatenate(axis=-1)([z_proba, z_offset])\n",
    "#\n",
    "# Models for trainig and real usage\n",
    "model = keras.Model(inputs=[inputs], outputs=[out_cat])"
   ]
  },
  {
   "cell_type": "code",
   "execution_count": 39,
   "id": "e6482574",
   "metadata": {},
   "outputs": [],
   "source": [
    "# Customized loss function\n",
    "\n",
    "cce = keras.losses.CategoricalCrossentropy(reduction=keras.losses.Reduction.NONE)\n",
    "# cce(y_true, y_pred).numpy()\n",
    "\n",
    "def centerLoss_fn(y_true, y_pred):\n",
    "    #\n",
    "    y_true_proba = y_true[...,0]\n",
    "    y_true_value = y_true[...,1]\n",
    "    #\n",
    "    y_pred_proba = y_pred[...,0]\n",
    "    y_pred_value = y_pred[...,1]\n",
    "    \n",
    "    #\n",
    "    cce_loss = cce(y_true_proba, y_pred_proba) / class_num\n",
    "    #\n",
    "    y_true_value_est = tf.reduce_sum((y_true_proba * y_true_value), axis=-1)\n",
    "    y_pred_value_est = tf.reduce_sum((y_true_proba * y_pred_value), axis=-1)\n",
    "#     y_pred_value_est = tf.reduce_sum((y_pred_proba * y_pred_value), axis=-1)\n",
    "    value_loss = tf.abs(y_pred_value_est - y_true_value_est)\n",
    "    \n",
    "    # Total loss\n",
    "#     return (0.5*cce_loss + 0.5*value_loss )\n",
    "    return (0.2*cce_loss + 0.8*value_loss )\n",
    "#     return (cce_loss)\n",
    "#     return (value_loss )"
   ]
  },
  {
   "cell_type": "code",
   "execution_count": 40,
   "id": "60575755",
   "metadata": {},
   "outputs": [
    {
     "name": "stderr",
     "output_type": "stream",
     "text": [
      "/home/benson516/ml/my_env/lib/python3.6/site-packages/keras/optimizer_v2/optimizer_v2.py:356: UserWarning: The `lr` argument is deprecated, use `learning_rate` instead.\n",
      "  \"The `lr` argument is deprecated, use `learning_rate` instead.\")\n"
     ]
    }
   ],
   "source": [
    "optimizer = keras.optimizers.SGD(lr=0.1, momentum=0.9)\n",
    "model.compile(loss=centerLoss_fn, optimizer=optimizer)"
   ]
  },
  {
   "cell_type": "code",
   "execution_count": 41,
   "id": "09bc47a5",
   "metadata": {
    "scrolled": true
   },
   "outputs": [],
   "source": [
    "# history = model.fit(X_train, y_train_grid_offset, epochs=100,\n",
    "#                     validation_data=(X_valid, y_valid_grid_offset))"
   ]
  },
  {
   "cell_type": "code",
   "execution_count": 42,
   "id": "7ba1fe76",
   "metadata": {},
   "outputs": [],
   "source": [
    "# import pandas as pd\n",
    "\n",
    "# pd.DataFrame(history.history).plot(figsize=(8, 5))\n",
    "# plt.grid(True)\n",
    "# # plt.gca().set_ylim(0, 1)\n",
    "# plt.show()"
   ]
  },
  {
   "cell_type": "code",
   "execution_count": 43,
   "id": "47db8336",
   "metadata": {
    "scrolled": true
   },
   "outputs": [],
   "source": [
    "# plt.plot(X_train, y_train, \"b.\")\n",
    "# draw_func((lambda X: n2go.inv_convert(model.predict(X)) ), mark='r-', linewidth=2, label=\"Predictions\")\n",
    "# draw_normal_func(func_dict)\n",
    "# plt.xlabel(\"$x_1$\", fontsize=18)\n",
    "# plt.ylabel(\"$y$\", rotation=0, fontsize=18)\n",
    "# plt.legend(loc=\"upper left\", fontsize=14)\n",
    "# # plt.axis([-3, 3, 0, 10])\n",
    "# plt.show()"
   ]
  },
  {
   "cell_type": "code",
   "execution_count": null,
   "id": "cfb4d66d",
   "metadata": {},
   "outputs": [],
   "source": []
  },
  {
   "cell_type": "markdown",
   "id": "335adcaf",
   "metadata": {},
   "source": [
    "# Parametric Uncertainty/Distribution Estimation\n",
    "\n",
    "In this section, we try to estimate uncertainty (actually, fit the dataset distribution) with parametric reprecentation of a distribution instead of a discretized non-parametric representation.\n",
    "\n",
    "Possible solution includes\n",
    "- Quantile estimation with pinball loss (statistic)\n",
    "- Guassian distribution (fit a prabability distribution)"
   ]
  },
  {
   "cell_type": "markdown",
   "id": "91247356",
   "metadata": {},
   "source": [
    "## Quantile Estimation with Pinball Loss (grid --> parameters)\n",
    "\n",
    "Quantile estimation and pinball loss is based on the concept of statistic, which predict the value based on the rank of samples in the dataset.\n",
    "\n",
    "The outputs of the model are $(y_{10}, y_{90})$, 10% quantile prediction and 90% quantile prediction, respectively."
   ]
  },
  {
   "cell_type": "code",
   "execution_count": 44,
   "id": "075921bb",
   "metadata": {},
   "outputs": [],
   "source": [
    "# quantile_list = [0.5]\n",
    "quantile_list = [0.1, 0.9]\n",
    "# quantile_list = [0.25, 0.75]\n",
    "# quantile_list = [0.1, 0.5, 0.9]\n",
    "# quantile_list = [0.1, 0.3, 0.7, 0.9]\n",
    "# quantile_list = [0.1, 0.2, 0.3, 0.4, 0.6, 0.7, 0.8, 0.9] # remove 0.5\n",
    "# quantile_list = [0.1, 0.2, 0.3, 0.4, 0.5, 0.6, 0.7, 0.8, 0.9]\n",
    "num_quantile = len(quantile_list)"
   ]
  },
  {
   "cell_type": "code",
   "execution_count": 45,
   "id": "8e3fe57b",
   "metadata": {},
   "outputs": [
    {
     "name": "stdout",
     "output_type": "stream",
     "text": [
      "X.shape = (None, 1)\n",
      "gauss_grid.shape = (None, 5)\n"
     ]
    }
   ],
   "source": [
    "model = keras.models.Sequential([\n",
    "    num2grid(5,x_min=-10, x_max=10, sigma=3.0, input_shape=X_train.shape[1:]),\n",
    "    keras.layers.Dense(30, activation=\"relu\"),\n",
    "#     keras.layers.Dense(60, activation=\"relu\"),\n",
    "#     keras.layers.Dense(30, activation=keras.layers.LeakyReLU(alpha=0.2) ),\n",
    "#     keras.layers.Dense(30, activation=\"selu\"),\n",
    "    keras.layers.Dense(num_quantile) # (y10, y90)\n",
    "])"
   ]
  },
  {
   "cell_type": "code",
   "execution_count": 46,
   "id": "f7da6d41",
   "metadata": {},
   "outputs": [],
   "source": [
    "# Customized loss function\n",
    "def pinballLoss_fn(y_true, y_pred, tau):\n",
    "    # tau: quantile, tau in [0.0, 1.0]\n",
    "    # y_true: label mean\n",
    "    # y_pred: predicted tau quantile\n",
    "    _q = y_true - y_pred\n",
    "    return tf.math.maximum( (tau*_q), ((tau-1.0)*_q))\n",
    "    \n",
    "def pinballLoss_10_90_fn(y_true, y_pred):\n",
    "    #\n",
    "    return pinballLoss_fn(y_true, y_pred[:,0:1], 0.1) + pinballLoss_fn(y_true, y_pred[:,1:2], 0.9)\n",
    "\n",
    "def pinballLoss_full_fn(y_true, y_pred):\n",
    "    #\n",
    "    pinball_losses = tf.stack( [pinballLoss_fn(y_true, y_pred[:, _i:(_i+1)], _tau) for _i, _tau in enumerate(quantile_list)], axis=1)\n",
    "    return tf.reduce_sum(pinball_losses, axis=1)"
   ]
  },
  {
   "cell_type": "code",
   "execution_count": 47,
   "id": "a71305d5",
   "metadata": {},
   "outputs": [],
   "source": [
    "optimizer = keras.optimizers.SGD(lr=0.1, momentum=0.9)\n",
    "# model.compile(loss=pinballLoss_10_90_fn, optimizer=optimizer)\n",
    "model.compile(loss=pinballLoss_full_fn, optimizer=optimizer)"
   ]
  },
  {
   "cell_type": "code",
   "execution_count": 48,
   "id": "d935c409",
   "metadata": {
    "scrolled": true
   },
   "outputs": [
    {
     "name": "stdout",
     "output_type": "stream",
     "text": [
      "Epoch 1/100\n",
      "X.shape = (None, 1)\n",
      "gauss_grid.shape = (None, 5)\n",
      "X.shape = (None, 1)\n",
      "gauss_grid.shape = (None, 5)\n",
      "1/3 [=========>....................] - ETA: 2s - loss: 40.2469X.shape = (None, 1)\n",
      "gauss_grid.shape = (None, 5)\n",
      "3/3 [==============================] - 2s 230ms/step - loss: 41.9406 - val_loss: 33.9732\n",
      "Epoch 2/100\n",
      "3/3 [==============================] - 0s 100ms/step - loss: 41.2072 - val_loss: 32.8154\n",
      "Epoch 3/100\n",
      "3/3 [==============================] - 0s 119ms/step - loss: 39.5069 - val_loss: 30.1027\n",
      "Epoch 4/100\n",
      "3/3 [==============================] - 0s 68ms/step - loss: 35.0968 - val_loss: 23.2422\n",
      "Epoch 5/100\n",
      "3/3 [==============================] - 0s 94ms/step - loss: 24.0311 - val_loss: 11.7026\n",
      "Epoch 6/100\n",
      "3/3 [==============================] - 0s 75ms/step - loss: 13.7562 - val_loss: 15.6376\n",
      "Epoch 7/100\n",
      "3/3 [==============================] - 0s 60ms/step - loss: 17.3653 - val_loss: 17.3301\n",
      "Epoch 8/100\n",
      "3/3 [==============================] - 0s 73ms/step - loss: 17.4979 - val_loss: 14.1798\n",
      "Epoch 9/100\n",
      "3/3 [==============================] - 0s 70ms/step - loss: 14.0624 - val_loss: 9.8592\n",
      "Epoch 10/100\n",
      "3/3 [==============================] - 0s 67ms/step - loss: 9.8428 - val_loss: 6.7925\n",
      "Epoch 11/100\n",
      "3/3 [==============================] - 0s 100ms/step - loss: 8.3791 - val_loss: 4.9970\n",
      "Epoch 12/100\n",
      "3/3 [==============================] - 0s 104ms/step - loss: 7.4184 - val_loss: 5.5450\n",
      "Epoch 13/100\n",
      "3/3 [==============================] - 0s 118ms/step - loss: 7.0548 - val_loss: 6.8029\n",
      "Epoch 14/100\n",
      "3/3 [==============================] - 0s 113ms/step - loss: 6.3051 - val_loss: 6.8300\n",
      "Epoch 15/100\n",
      "3/3 [==============================] - 0s 124ms/step - loss: 6.3239 - val_loss: 5.9825\n",
      "Epoch 16/100\n",
      "3/3 [==============================] - 0s 101ms/step - loss: 5.9470 - val_loss: 5.0425\n",
      "Epoch 17/100\n",
      "3/3 [==============================] - 0s 114ms/step - loss: 5.3927 - val_loss: 4.3401\n",
      "Epoch 18/100\n",
      "3/3 [==============================] - 0s 118ms/step - loss: 5.5043 - val_loss: 4.0959\n",
      "Epoch 19/100\n",
      "3/3 [==============================] - 0s 93ms/step - loss: 5.3040 - val_loss: 4.3838\n",
      "Epoch 20/100\n",
      "3/3 [==============================] - 0s 100ms/step - loss: 5.2214 - val_loss: 5.0176\n",
      "Epoch 21/100\n",
      "3/3 [==============================] - 0s 72ms/step - loss: 4.8955 - val_loss: 5.7547\n",
      "Epoch 22/100\n",
      "3/3 [==============================] - 0s 68ms/step - loss: 5.6210 - val_loss: 5.4805\n",
      "Epoch 23/100\n",
      "3/3 [==============================] - 0s 106ms/step - loss: 4.8030 - val_loss: 4.6748\n",
      "Epoch 24/100\n",
      "3/3 [==============================] - 0s 100ms/step - loss: 4.5196 - val_loss: 4.3093\n",
      "Epoch 25/100\n",
      "3/3 [==============================] - 0s 116ms/step - loss: 4.4993 - val_loss: 4.0971\n",
      "Epoch 26/100\n",
      "3/3 [==============================] - 0s 108ms/step - loss: 4.2735 - val_loss: 4.0025\n",
      "Epoch 27/100\n",
      "3/3 [==============================] - 0s 90ms/step - loss: 4.2820 - val_loss: 3.7592\n",
      "Epoch 28/100\n",
      "3/3 [==============================] - 0s 91ms/step - loss: 4.2205 - val_loss: 4.1574\n",
      "Epoch 29/100\n",
      "3/3 [==============================] - 0s 114ms/step - loss: 3.9822 - val_loss: 4.0887\n",
      "Epoch 30/100\n",
      "3/3 [==============================] - 0s 106ms/step - loss: 3.9686 - val_loss: 4.2007\n",
      "Epoch 31/100\n",
      "3/3 [==============================] - 0s 127ms/step - loss: 3.9462 - val_loss: 4.1261\n",
      "Epoch 32/100\n",
      "3/3 [==============================] - 0s 109ms/step - loss: 3.9509 - val_loss: 3.6752\n",
      "Epoch 33/100\n",
      "3/3 [==============================] - 0s 98ms/step - loss: 3.7713 - val_loss: 3.3668\n",
      "Epoch 34/100\n",
      "3/3 [==============================] - 0s 109ms/step - loss: 3.6600 - val_loss: 3.2766\n",
      "Epoch 35/100\n",
      "3/3 [==============================] - ETA: 0s - loss: 3.555 - 0s 85ms/step - loss: 3.5236 - val_loss: 3.2959\n",
      "Epoch 36/100\n",
      "3/3 [==============================] - 0s 82ms/step - loss: 3.5458 - val_loss: 3.4661\n",
      "Epoch 37/100\n",
      "3/3 [==============================] - 0s 113ms/step - loss: 3.4147 - val_loss: 3.3968\n",
      "Epoch 38/100\n",
      "3/3 [==============================] - 0s 103ms/step - loss: 3.4348 - val_loss: 3.2418\n",
      "Epoch 39/100\n",
      "3/3 [==============================] - 0s 85ms/step - loss: 3.4062 - val_loss: 3.1598\n",
      "Epoch 40/100\n",
      "3/3 [==============================] - 0s 93ms/step - loss: 3.3422 - val_loss: 3.3726\n",
      "Epoch 41/100\n",
      "3/3 [==============================] - 0s 127ms/step - loss: 3.3500 - val_loss: 3.3639\n",
      "Epoch 42/100\n",
      "3/3 [==============================] - 0s 122ms/step - loss: 3.2891 - val_loss: 2.9928\n",
      "Epoch 43/100\n",
      "3/3 [==============================] - 0s 94ms/step - loss: 3.3508 - val_loss: 3.0316\n",
      "Epoch 44/100\n",
      "3/3 [==============================] - 0s 108ms/step - loss: 3.1970 - val_loss: 3.0584\n",
      "Epoch 45/100\n",
      "3/3 [==============================] - 0s 89ms/step - loss: 3.1627 - val_loss: 3.0278\n",
      "Epoch 46/100\n",
      "3/3 [==============================] - 0s 110ms/step - loss: 3.0860 - val_loss: 2.7842\n",
      "Epoch 47/100\n",
      "3/3 [==============================] - 0s 108ms/step - loss: 3.1474 - val_loss: 3.0104\n",
      "Epoch 48/100\n",
      "3/3 [==============================] - 0s 98ms/step - loss: 3.5233 - val_loss: 3.0686\n",
      "Epoch 49/100\n",
      "3/3 [==============================] - 0s 100ms/step - loss: 3.5189 - val_loss: 3.4664\n",
      "Epoch 50/100\n",
      "3/3 [==============================] - 0s 98ms/step - loss: 3.5600 - val_loss: 3.3915\n",
      "Epoch 51/100\n",
      "3/3 [==============================] - ETA: 0s - loss: 3.449 - 0s 90ms/step - loss: 3.3535 - val_loss: 3.0317\n",
      "Epoch 52/100\n",
      "3/3 [==============================] - 0s 84ms/step - loss: 3.1582 - val_loss: 2.8966\n",
      "Epoch 53/100\n",
      "3/3 [==============================] - 0s 115ms/step - loss: 3.0728 - val_loss: 2.6962\n",
      "Epoch 54/100\n",
      "3/3 [==============================] - 0s 101ms/step - loss: 3.0843 - val_loss: 2.8603\n",
      "Epoch 55/100\n",
      "3/3 [==============================] - 0s 95ms/step - loss: 3.2887 - val_loss: 3.0727\n",
      "Epoch 56/100\n",
      "3/3 [==============================] - 0s 115ms/step - loss: 2.9235 - val_loss: 3.0030\n",
      "Epoch 57/100\n",
      "3/3 [==============================] - 0s 112ms/step - loss: 2.8956 - val_loss: 2.7531\n",
      "Epoch 58/100\n",
      "3/3 [==============================] - 0s 107ms/step - loss: 2.8360 - val_loss: 2.5468\n",
      "Epoch 59/100\n",
      "3/3 [==============================] - 0s 110ms/step - loss: 2.9826 - val_loss: 2.7885\n",
      "Epoch 60/100\n",
      "3/3 [==============================] - 0s 100ms/step - loss: 2.8630 - val_loss: 2.8227\n",
      "Epoch 61/100\n",
      "3/3 [==============================] - 0s 104ms/step - loss: 2.8150 - val_loss: 2.7645\n",
      "Epoch 62/100\n",
      "3/3 [==============================] - 0s 95ms/step - loss: 2.7862 - val_loss: 2.6820\n",
      "Epoch 63/100\n",
      "3/3 [==============================] - 0s 85ms/step - loss: 2.7406 - val_loss: 2.5485\n",
      "Epoch 64/100\n",
      "3/3 [==============================] - 0s 92ms/step - loss: 2.9185 - val_loss: 2.9828\n",
      "Epoch 65/100\n",
      "3/3 [==============================] - 0s 123ms/step - loss: 3.4257 - val_loss: 2.7383\n",
      "Epoch 66/100\n",
      "3/3 [==============================] - 0s 102ms/step - loss: 2.9800 - val_loss: 3.0008\n",
      "Epoch 67/100\n",
      "3/3 [==============================] - 0s 109ms/step - loss: 3.0854 - val_loss: 2.8843\n",
      "Epoch 68/100\n",
      "3/3 [==============================] - 0s 108ms/step - loss: 2.9678 - val_loss: 2.7936\n",
      "Epoch 69/100\n",
      "3/3 [==============================] - 0s 98ms/step - loss: 2.8094 - val_loss: 2.5850\n",
      "Epoch 70/100\n",
      "3/3 [==============================] - 0s 102ms/step - loss: 2.8171 - val_loss: 2.4757\n",
      "Epoch 71/100\n",
      "3/3 [==============================] - 0s 108ms/step - loss: 2.9985 - val_loss: 2.6452\n",
      "Epoch 72/100\n",
      "3/3 [==============================] - 0s 83ms/step - loss: 2.7824 - val_loss: 2.9532\n",
      "Epoch 73/100\n",
      "3/3 [==============================] - 0s 90ms/step - loss: 2.7846 - val_loss: 2.8821\n",
      "Epoch 74/100\n",
      "3/3 [==============================] - 0s 83ms/step - loss: 2.8123 - val_loss: 2.6708\n",
      "Epoch 75/100\n",
      "3/3 [==============================] - 0s 95ms/step - loss: 2.8990 - val_loss: 2.6437\n",
      "Epoch 76/100\n",
      "3/3 [==============================] - 0s 73ms/step - loss: 2.9700 - val_loss: 2.6991\n",
      "Epoch 77/100\n",
      "3/3 [==============================] - 0s 121ms/step - loss: 2.7918 - val_loss: 2.6743\n",
      "Epoch 78/100\n",
      "3/3 [==============================] - 0s 97ms/step - loss: 2.8374 - val_loss: 2.7653\n",
      "Epoch 79/100\n",
      "3/3 [==============================] - 0s 102ms/step - loss: 2.9089 - val_loss: 2.6036\n",
      "Epoch 80/100\n"
     ]
    },
    {
     "name": "stdout",
     "output_type": "stream",
     "text": [
      "3/3 [==============================] - 0s 104ms/step - loss: 2.7220 - val_loss: 2.5127\n",
      "Epoch 81/100\n",
      "3/3 [==============================] - 0s 105ms/step - loss: 2.8243 - val_loss: 2.8737\n",
      "Epoch 82/100\n",
      "3/3 [==============================] - 0s 116ms/step - loss: 2.8800 - val_loss: 3.1140\n",
      "Epoch 83/100\n",
      "3/3 [==============================] - 0s 84ms/step - loss: 3.0240 - val_loss: 2.8312\n",
      "Epoch 84/100\n",
      "3/3 [==============================] - 0s 80ms/step - loss: 3.1726 - val_loss: 2.7787\n",
      "Epoch 85/100\n",
      "3/3 [==============================] - 0s 83ms/step - loss: 2.6926 - val_loss: 2.9781\n",
      "Epoch 86/100\n",
      "3/3 [==============================] - 0s 75ms/step - loss: 2.8932 - val_loss: 2.7385\n",
      "Epoch 87/100\n",
      "3/3 [==============================] - 0s 95ms/step - loss: 2.6279 - val_loss: 2.6251\n",
      "Epoch 88/100\n",
      "3/3 [==============================] - 0s 76ms/step - loss: 3.1574 - val_loss: 2.6886\n",
      "Epoch 89/100\n",
      "3/3 [==============================] - 0s 54ms/step - loss: 2.9891 - val_loss: 2.9653\n",
      "Epoch 90/100\n",
      "3/3 [==============================] - 0s 50ms/step - loss: 2.9848 - val_loss: 3.0206\n",
      "Epoch 91/100\n",
      "3/3 [==============================] - 0s 59ms/step - loss: 2.8900 - val_loss: 2.7165\n",
      "Epoch 92/100\n",
      "3/3 [==============================] - 0s 81ms/step - loss: 2.9027 - val_loss: 2.6898\n",
      "Epoch 93/100\n",
      "3/3 [==============================] - 0s 111ms/step - loss: 2.7601 - val_loss: 2.9397\n",
      "Epoch 94/100\n",
      "3/3 [==============================] - 0s 88ms/step - loss: 2.9157 - val_loss: 2.8478\n",
      "Epoch 95/100\n",
      "3/3 [==============================] - 0s 98ms/step - loss: 2.7489 - val_loss: 2.7111\n",
      "Epoch 96/100\n",
      "3/3 [==============================] - 0s 98ms/step - loss: 2.7850 - val_loss: 2.6909\n",
      "Epoch 97/100\n",
      "3/3 [==============================] - 0s 108ms/step - loss: 2.7146 - val_loss: 2.6257\n",
      "Epoch 98/100\n",
      "3/3 [==============================] - 0s 67ms/step - loss: 2.5887 - val_loss: 2.4890\n",
      "Epoch 99/100\n",
      "3/3 [==============================] - 0s 97ms/step - loss: 2.6230 - val_loss: 2.7361\n",
      "Epoch 100/100\n",
      "3/3 [==============================] - 0s 123ms/step - loss: 2.6687 - val_loss: 2.7601\n"
     ]
    }
   ],
   "source": [
    "history = model.fit(X_train, y_train, epochs=100,\n",
    "                    validation_data=(X_valid, y_valid))"
   ]
  },
  {
   "cell_type": "code",
   "execution_count": 49,
   "id": "e7fa5656",
   "metadata": {
    "scrolled": true
   },
   "outputs": [
    {
     "data": {
      "image/png": "[encoded data removed]",
      "text/plain": [
       "<Figure size 576x360 with 1 Axes>"
      ]
     },
     "metadata": {
      "needs_background": "light"
     },
     "output_type": "display_data"
    }
   ],
   "source": [
    "import pandas as pd\n",
    "\n",
    "pd.DataFrame(history.history).plot(figsize=(8, 5))\n",
    "plt.grid(True)\n",
    "# plt.gca().set_ylim(0, 1)\n",
    "plt.show()"
   ]
  },
  {
   "cell_type": "code",
   "execution_count": 50,
   "id": "42eeb254",
   "metadata": {},
   "outputs": [
    {
     "name": "stdout",
     "output_type": "stream",
     "text": [
      "X.shape = (None, 1)\n",
      "gauss_grid.shape = (None, 5)\n"
     ]
    },
    {
     "data": {
      "image/png": "[encoded data removed]",
      "text/plain": [
       "<Figure size 432x288 with 1 Axes>"
      ]
     },
     "metadata": {
      "needs_background": "light"
     },
     "output_type": "display_data"
    }
   ],
   "source": [
    "plt.plot(X_train, y_train, \"b.\")\n",
    "draw_func((lambda X: np.average(model.predict(X), axis=-1) ), mark='r-', linewidth=2, label=\"Predictions\")\n",
    "draw_func((lambda X: model.predict(X)[:,0] ), mark='k--', linewidth=1, label=\"$y_{%d}$\" % (quantile_list[0]*100))\n",
    "draw_func((lambda X: model.predict(X)[:,-1] ), mark='k--', linewidth=1, label=\"$y_{%d}$\" % (quantile_list[-1]*100))\n",
    "draw_normal_func(func_dict)\n",
    "plt.xlabel(\"$x_1$\", fontsize=18)\n",
    "plt.ylabel(\"$y$\", rotation=0, fontsize=18)\n",
    "plt.legend(loc=\"upper left\", fontsize=14)\n",
    "# plt.axis([-3, 3, 0, 10])\n",
    "plt.show()"
   ]
  },
  {
   "cell_type": "markdown",
   "id": "5bf179d1",
   "metadata": {},
   "source": [
    "## Gaussian Estimation with Gaussian Loss (grid-->parameters)\n",
    "\n",
    "Gaussain estimation requires the model to predict the mean and variance of a Gaussian distribution of the random variable regarded. The training purpose is to fit a Gaussian distribution to the data distribution (which is not necessay distributed as Gaussian).\n",
    "\n",
    "One possible solution, derived by BensonHuang, is that the model estimates $(\\mu, z)$, where $z=\\alpha ^{-1}log(\\sigma)$.\n",
    "The associated loss function can be $L_G(y, (\\mu,z)) = 0.5e^{-2\\alpha z}(y-\\mu)^2 + \\alpha z$."
   ]
  },
  {
   "cell_type": "code",
   "execution_count": 51,
   "id": "984bb2f8",
   "metadata": {},
   "outputs": [],
   "source": [
    "alpha = 1.0\n",
    "# alpha = 0.01\n",
    "# alpha = 0.001"
   ]
  },
  {
   "cell_type": "code",
   "execution_count": 52,
   "id": "f4f6c3f5",
   "metadata": {},
   "outputs": [
    {
     "name": "stdout",
     "output_type": "stream",
     "text": [
      "X.shape = (None, 1)\n",
      "gauss_grid.shape = (None, 5)\n"
     ]
    }
   ],
   "source": [
    "model = keras.models.Sequential([\n",
    "    num2grid(5,x_min=-10, x_max=10, sigma=3.0, input_shape=X_train.shape[1:]),\n",
    "#     keras.layers.Dense(30, activation=\"relu\"),\n",
    "    keras.layers.Dense(60, activation=\"relu\"),\n",
    "#     keras.layers.Dense(30, activation=keras.layers.LeakyReLU(alpha=0.2) ),\n",
    "#     keras.layers.Dense(30, activation=\"selu\"),\n",
    "    keras.layers.Dense(2) # (mu, z)\n",
    "])"
   ]
  },
  {
   "cell_type": "code",
   "execution_count": 53,
   "id": "c6048c0a",
   "metadata": {},
   "outputs": [
    {
     "name": "stdout",
     "output_type": "stream",
     "text": [
      "alpha = 1.000000\n"
     ]
    }
   ],
   "source": [
    "# Customized loss function\n",
    "print(\"alpha = %f\" % alpha)\n",
    "\n",
    "def GaussianLoss_fn(y_true, y_pred):\n",
    "    # y_true: label \n",
    "    # y_pred: (mu, z), z=log(sigma)\n",
    "    mu = y_pred[:, 0:1]\n",
    "    z  = y_pred[:, 1:2]\n",
    "    #\n",
    "    en2z = tf.math.exp((-2.0*alpha)*z)\n",
    "    ymu2 = (y_true - mu)**2\n",
    "    return (0.5*en2z*ymu2 + alpha*z)"
   ]
  },
  {
   "cell_type": "code",
   "execution_count": 54,
   "id": "38cdfe2e",
   "metadata": {},
   "outputs": [],
   "source": [
    "# Learning rate scheduler\n",
    "learning_rate_switch_epoch_list = [30, 45]\n",
    "learning_rate_list = [0.001, 0.01, 0.1]\n",
    "# learning_rate_switch_epoch_list = [30, 80]\n",
    "# learning_rate_list = [0.01, 0.1, 0.01]\n",
    "#\n",
    "def piecewise_constant_fn(epoch):\n",
    "    for _i, epoch_s in enumerate(learning_rate_switch_epoch_list):\n",
    "        if epoch < epoch_s:\n",
    "            return learning_rate_list[_i]\n",
    "    return learning_rate_list[-1]\n",
    "\n",
    "lr_scheduler = keras.callbacks.LearningRateScheduler(piecewise_constant_fn)"
   ]
  },
  {
   "cell_type": "markdown",
   "id": "01733147",
   "metadata": {},
   "source": [
    "Third training with even greater speed"
   ]
  },
  {
   "cell_type": "code",
   "execution_count": 55,
   "id": "d9aa6df6",
   "metadata": {},
   "outputs": [
    {
     "name": "stderr",
     "output_type": "stream",
     "text": [
      "/home/benson516/ml/my_env/lib/python3.6/site-packages/keras/optimizer_v2/optimizer_v2.py:356: UserWarning: The `lr` argument is deprecated, use `learning_rate` instead.\n",
      "  \"The `lr` argument is deprecated, use `learning_rate` instead.\")\n"
     ]
    }
   ],
   "source": [
    "# optimizer = keras.optimizers.SGD(lr=0.1, momentum=0.9)\n",
    "optimizer = keras.optimizers.Adam(lr=0.1)\n",
    "model.compile(loss=GaussianLoss_fn, optimizer=optimizer)"
   ]
  },
  {
   "cell_type": "code",
   "execution_count": null,
   "id": "95201afc",
   "metadata": {
    "scrolled": true
   },
   "outputs": [
    {
     "name": "stdout",
     "output_type": "stream",
     "text": [
      "Epoch 1/200\n",
      "X.shape = (None, 1)\n",
      "gauss_grid.shape = (None, 5)\n",
      "X.shape = (None, 1)\n",
      "gauss_grid.shape = (None, 5)\n",
      "1/3 [=========>....................] - ETA: 3s - loss: 1283.2878X.shape = (None, 1)\n",
      "gauss_grid.shape = (None, 5)\n",
      "3/3 [==============================] - 2s 278ms/step - loss: 520.1695 - val_loss: 6.6682\n",
      "Epoch 2/200\n",
      "3/3 [==============================] - 0s 110ms/step - loss: 8.2657 - val_loss: 12.2321\n",
      "Epoch 3/200\n",
      "3/3 [==============================] - 0s 95ms/step - loss: 13.4443 - val_loss: 16.3032\n",
      "Epoch 4/200\n",
      "3/3 [==============================] - 0s 113ms/step - loss: 17.1652 - val_loss: 19.0510\n",
      "Epoch 5/200\n",
      "3/3 [==============================] - 0s 85ms/step - loss: 19.6211 - val_loss: 20.7208\n",
      "Epoch 6/200\n",
      "3/3 [==============================] - 0s 58ms/step - loss: 21.0567 - val_loss: 21.5410\n",
      "Epoch 7/200\n",
      "3/3 [==============================] - 0s 66ms/step - loss: 21.6796 - val_loss: 21.6926\n",
      "Epoch 8/200\n",
      "3/3 [==============================] - 0s 76ms/step - loss: 21.6781 - val_loss: 21.3000\n",
      "Epoch 9/200\n",
      "3/3 [==============================] - 0s 105ms/step - loss: 21.1447 - val_loss: 20.4085\n",
      "Epoch 10/200\n",
      "3/3 [==============================] - 0s 85ms/step - loss: 20.0993 - val_loss: 18.9764\n",
      "Epoch 11/200\n",
      "3/3 [==============================] - 0s 77ms/step - loss: 18.5134 - val_loss: 16.9162\n",
      "Epoch 12/200\n",
      "3/3 [==============================] - 0s 104ms/step - loss: 16.3060 - val_loss: 14.1084\n",
      "Epoch 13/200\n",
      "3/3 [==============================] - 0s 84ms/step - loss: 13.3385 - val_loss: 10.4079\n",
      "Epoch 14/200\n",
      "3/3 [==============================] - 0s 101ms/step - loss: 9.4697 - val_loss: 5.6686\n",
      "Epoch 15/200\n",
      "3/3 [==============================] - 0s 94ms/step - loss: 5.6939 - val_loss: 6.0301\n",
      "Epoch 16/200\n",
      "3/3 [==============================] - 0s 98ms/step - loss: 4.6408 - val_loss: 4.6710\n",
      "Epoch 17/200\n",
      "3/3 [==============================] - 0s 102ms/step - loss: 4.7989 - val_loss: 5.3938\n",
      "Epoch 18/200\n",
      "3/3 [==============================] - 0s 87ms/step - loss: 5.1366 - val_loss: 5.4762\n",
      "Epoch 19/200\n",
      "3/3 [==============================] - 0s 91ms/step - loss: 5.2220 - val_loss: 5.3291\n",
      "Epoch 20/200\n",
      "3/3 [==============================] - 0s 65ms/step - loss: 5.0124 - val_loss: 4.9628\n",
      "Epoch 21/200\n",
      "3/3 [==============================] - 0s 59ms/step - loss: 4.7042 - val_loss: 4.3489\n",
      "Epoch 22/200\n",
      "3/3 [==============================] - 0s 65ms/step - loss: 4.3019 - val_loss: 3.7798\n",
      "Epoch 23/200\n",
      "3/3 [==============================] - 0s 69ms/step - loss: 4.0822 - val_loss: 3.8838\n",
      "Epoch 24/200\n",
      "3/3 [==============================] - 0s 69ms/step - loss: 4.0916 - val_loss: 3.9762\n",
      "Epoch 25/200\n",
      "3/3 [==============================] - 0s 99ms/step - loss: 4.2189 - val_loss: 3.9144\n",
      "Epoch 26/200\n",
      "3/3 [==============================] - 0s 75ms/step - loss: 4.1093 - val_loss: 3.8534\n",
      "Epoch 27/200\n",
      "3/3 [==============================] - 0s 94ms/step - loss: 4.0211 - val_loss: 3.6909\n",
      "Epoch 28/200\n",
      "3/3 [==============================] - 0s 115ms/step - loss: 3.9462 - val_loss: 3.7913\n",
      "Epoch 29/200\n",
      "3/3 [==============================] - 0s 114ms/step - loss: 3.9804 - val_loss: 3.7189\n",
      "Epoch 30/200\n",
      "3/3 [==============================] - 0s 87ms/step - loss: 3.9313 - val_loss: 3.6989\n",
      "Epoch 31/200\n",
      "3/3 [==============================] - 0s 112ms/step - loss: 3.8733 - val_loss: 3.7085\n",
      "Epoch 32/200\n",
      "3/3 [==============================] - 0s 103ms/step - loss: 3.8538 - val_loss: 3.7852\n",
      "Epoch 33/200\n",
      "3/3 [==============================] - 0s 94ms/step - loss: 3.8722 - val_loss: 3.7590\n",
      "Epoch 34/200\n",
      "3/3 [==============================] - 0s 91ms/step - loss: 3.8244 - val_loss: 3.6861\n",
      "Epoch 35/200\n",
      "3/3 [==============================] - 0s 92ms/step - loss: 3.7998 - val_loss: 3.6765\n",
      "Epoch 36/200\n",
      "3/3 [==============================] - 0s 105ms/step - loss: 3.7903 - val_loss: 3.6639\n",
      "Epoch 37/200\n",
      "3/3 [==============================] - 0s 79ms/step - loss: 3.7560 - val_loss: 3.6606\n",
      "Epoch 38/200\n",
      "3/3 [==============================] - 0s 119ms/step - loss: 3.7350 - val_loss: 3.6785\n",
      "Epoch 39/200\n",
      "3/3 [==============================] - 0s 82ms/step - loss: 3.7155 - val_loss: 3.6670\n",
      "Epoch 40/200\n",
      "3/3 [==============================] - 0s 77ms/step - loss: 3.6911 - val_loss: 3.6221\n",
      "Epoch 41/200\n",
      "3/3 [==============================] - 0s 109ms/step - loss: 3.6592 - val_loss: 3.6102\n",
      "Epoch 42/200\n",
      "3/3 [==============================] - 0s 110ms/step - loss: 3.6336 - val_loss: 3.5871\n",
      "Epoch 43/200\n",
      "3/3 [==============================] - 0s 108ms/step - loss: 3.5988 - val_loss: 3.5936\n",
      "Epoch 44/200\n",
      "3/3 [==============================] - 0s 54ms/step - loss: 3.5687 - val_loss: 3.5907\n",
      "Epoch 45/200\n",
      "3/3 [==============================] - 0s 59ms/step - loss: 3.5466 - val_loss: 3.5515\n",
      "Epoch 46/200\n",
      "3/3 [==============================] - 0s 52ms/step - loss: 3.5094 - val_loss: 3.5118\n",
      "Epoch 47/200\n",
      "3/3 [==============================] - 0s 61ms/step - loss: 3.4868 - val_loss: 3.4888\n",
      "Epoch 48/200\n",
      "3/3 [==============================] - 0s 65ms/step - loss: 3.4624 - val_loss: 3.4728\n",
      "Epoch 49/200\n",
      "3/3 [==============================] - 0s 60ms/step - loss: 3.4389 - val_loss: 3.4469\n",
      "Epoch 50/200\n",
      "3/3 [==============================] - 0s 58ms/step - loss: 3.4191 - val_loss: 3.4191\n",
      "Epoch 51/200\n",
      "3/3 [==============================] - 0s 58ms/step - loss: 3.4076 - val_loss: 3.3879\n",
      "Epoch 52/200\n",
      "3/3 [==============================] - 0s 83ms/step - loss: 3.4038 - val_loss: 3.3578\n",
      "Epoch 53/200\n",
      "3/3 [==============================] - 0s 98ms/step - loss: 3.3668 - val_loss: 3.3352\n",
      "Epoch 54/200\n",
      "3/3 [==============================] - 0s 88ms/step - loss: 3.3380 - val_loss: 3.3894\n",
      "Epoch 55/200\n",
      "3/3 [==============================] - 0s 90ms/step - loss: 3.3492 - val_loss: 3.3161\n",
      "Epoch 56/200\n",
      "3/3 [==============================] - 0s 84ms/step - loss: 3.3572 - val_loss: 3.3217\n",
      "Epoch 57/200\n",
      "3/3 [==============================] - 0s 88ms/step - loss: 3.3548 - val_loss: 3.3436\n",
      "Epoch 58/200\n",
      "3/3 [==============================] - 0s 108ms/step - loss: 3.3295 - val_loss: 3.2912\n",
      "Epoch 59/200\n",
      "3/3 [==============================] - 0s 86ms/step - loss: 3.3126 - val_loss: 3.2875\n",
      "Epoch 60/200\n",
      "3/3 [==============================] - 0s 76ms/step - loss: 3.2977 - val_loss: 3.2760\n",
      "Epoch 61/200\n",
      "3/3 [==============================] - 0s 86ms/step - loss: 3.2882 - val_loss: 3.2666\n",
      "Epoch 62/200\n",
      "3/3 [==============================] - 0s 88ms/step - loss: 3.2800 - val_loss: 3.2404\n",
      "Epoch 63/200\n",
      "3/3 [==============================] - 0s 113ms/step - loss: 3.2902 - val_loss: 3.2280\n",
      "Epoch 64/200\n",
      "3/3 [==============================] - 0s 94ms/step - loss: 3.2902 - val_loss: 3.2301\n",
      "Epoch 65/200\n",
      "3/3 [==============================] - 0s 110ms/step - loss: 3.3268 - val_loss: 3.2500\n",
      "Epoch 66/200\n",
      "3/3 [==============================] - 0s 62ms/step - loss: 3.3708 - val_loss: 3.3232\n",
      "Epoch 67/200\n",
      "3/3 [==============================] - 0s 64ms/step - loss: 3.3483 - val_loss: 3.3801\n",
      "Epoch 68/200\n",
      "3/3 [==============================] - 0s 70ms/step - loss: 3.3214 - val_loss: 3.2664\n",
      "Epoch 69/200\n",
      "3/3 [==============================] - 0s 114ms/step - loss: 3.3029 - val_loss: 3.2349\n",
      "Epoch 70/200\n",
      "3/3 [==============================] - 0s 83ms/step - loss: 3.2750 - val_loss: 3.2531\n",
      "Epoch 71/200\n",
      "3/3 [==============================] - 0s 60ms/step - loss: 3.2862 - val_loss: 3.2373\n",
      "Epoch 72/200\n",
      "3/3 [==============================] - 0s 55ms/step - loss: 3.2794 - val_loss: 3.2540\n",
      "Epoch 73/200\n",
      "3/3 [==============================] - 0s 68ms/step - loss: 3.2759 - val_loss: 3.2147\n",
      "Epoch 74/200\n",
      "3/3 [==============================] - 0s 58ms/step - loss: 3.2747 - val_loss: 3.2179\n",
      "Epoch 75/200\n",
      "3/3 [==============================] - 0s 65ms/step - loss: 3.2855 - val_loss: 3.2077\n",
      "Epoch 76/200\n",
      "3/3 [==============================] - 0s 59ms/step - loss: 3.2858 - val_loss: 3.2337\n",
      "Epoch 77/200\n",
      "3/3 [==============================] - 0s 52ms/step - loss: 3.2884 - val_loss: 3.2463\n",
      "Epoch 78/200\n",
      "3/3 [==============================] - 0s 54ms/step - loss: 3.2608 - val_loss: 3.2674\n",
      "Epoch 79/200\n",
      "3/3 [==============================] - 0s 59ms/step - loss: 3.3009 - val_loss: 3.2804\n",
      "Epoch 80/200\n",
      "3/3 [==============================] - 0s 75ms/step - loss: 3.4989 - val_loss: 3.4328\n",
      "Epoch 81/200\n"
     ]
    },
    {
     "name": "stdout",
     "output_type": "stream",
     "text": [
      "3/3 [==============================] - 0s 122ms/step - loss: 3.3732 - val_loss: 3.5297\n",
      "Epoch 82/200\n",
      "3/3 [==============================] - 0s 83ms/step - loss: 3.4379 - val_loss: 3.3537\n",
      "Epoch 83/200\n",
      "3/3 [==============================] - 0s 119ms/step - loss: 3.5527 - val_loss: 3.4354\n",
      "Epoch 84/200\n",
      "3/3 [==============================] - 0s 108ms/step - loss: 3.3833 - val_loss: 3.7492\n",
      "Epoch 85/200\n",
      "3/3 [==============================] - 0s 118ms/step - loss: 3.4574 - val_loss: 3.3635\n",
      "Epoch 86/200\n",
      "3/3 [==============================] - 0s 115ms/step - loss: 3.5595 - val_loss: 3.5185\n",
      "Epoch 87/200\n",
      "3/3 [==============================] - 0s 106ms/step - loss: 3.3909 - val_loss: 3.4505\n",
      "Epoch 88/200\n",
      "3/3 [==============================] - 0s 129ms/step - loss: 3.5202 - val_loss: 3.4145\n",
      "Epoch 89/200\n",
      "3/3 [==============================] - 0s 117ms/step - loss: 3.6598 - val_loss: 3.5387\n",
      "Epoch 90/200\n",
      "3/3 [==============================] - 0s 122ms/step - loss: 3.5703 - val_loss: 3.7252\n",
      "Epoch 91/200\n",
      "3/3 [==============================] - 0s 113ms/step - loss: 3.4673 - val_loss: 3.2878\n",
      "Epoch 92/200\n",
      "3/3 [==============================] - 0s 130ms/step - loss: 3.4152 - val_loss: 3.4591\n",
      "Epoch 93/200\n",
      "3/3 [==============================] - 0s 104ms/step - loss: 3.4135 - val_loss: 3.2979\n",
      "Epoch 94/200\n",
      "3/3 [==============================] - 0s 102ms/step - loss: 3.3614 - val_loss: 3.2019\n",
      "Epoch 95/200\n",
      "3/3 [==============================] - 0s 95ms/step - loss: 3.2785 - val_loss: 3.3551\n",
      "Epoch 96/200\n",
      "3/3 [==============================] - 0s 98ms/step - loss: 3.3189 - val_loss: 3.2435\n",
      "Epoch 97/200\n",
      "3/3 [==============================] - 0s 109ms/step - loss: 3.2587 - val_loss: 3.1447\n",
      "Epoch 98/200\n",
      "3/3 [==============================] - 0s 88ms/step - loss: 3.2301 - val_loss: 3.1758\n",
      "Epoch 99/200\n",
      "3/3 [==============================] - 0s 90ms/step - loss: 3.2408 - val_loss: 3.1739\n",
      "Epoch 100/200\n",
      "3/3 [==============================] - 0s 74ms/step - loss: 3.2347 - val_loss: 3.1863\n",
      "Epoch 101/200\n",
      "3/3 [==============================] - 0s 87ms/step - loss: 3.2345 - val_loss: 3.1723\n",
      "Epoch 102/200\n",
      "3/3 [==============================] - 0s 93ms/step - loss: 3.2275 - val_loss: 3.1746\n",
      "Epoch 103/200\n",
      "3/3 [==============================] - 0s 67ms/step - loss: 3.2338 - val_loss: 3.1577\n",
      "Epoch 104/200\n",
      "3/3 [==============================] - 0s 108ms/step - loss: 3.2180 - val_loss: 3.1516\n",
      "Epoch 105/200\n",
      "3/3 [==============================] - 0s 69ms/step - loss: 3.2390 - val_loss: 3.1638\n",
      "Epoch 106/200\n",
      "3/3 [==============================] - 0s 94ms/step - loss: 3.2214 - val_loss: 3.1898\n",
      "Epoch 107/200\n",
      "3/3 [==============================] - 0s 113ms/step - loss: 3.2245 - val_loss: 3.1483\n",
      "Epoch 108/200\n",
      "3/3 [==============================] - 0s 93ms/step - loss: 3.2173 - val_loss: 3.1397\n",
      "Epoch 109/200\n",
      "3/3 [==============================] - 0s 102ms/step - loss: 3.2018 - val_loss: 3.1360\n",
      "Epoch 110/200\n",
      "3/3 [==============================] - 0s 110ms/step - loss: 3.2005 - val_loss: 3.1256\n",
      "Epoch 111/200\n",
      "3/3 [==============================] - 0s 90ms/step - loss: 3.1904 - val_loss: 3.1356\n",
      "Epoch 112/200\n",
      "3/3 [==============================] - 0s 108ms/step - loss: 3.2517 - val_loss: 3.1202\n",
      "Epoch 113/200\n",
      "3/3 [==============================] - 0s 106ms/step - loss: 3.1876 - val_loss: 3.1199\n",
      "Epoch 114/200\n",
      "3/3 [==============================] - 0s 113ms/step - loss: 3.1908 - val_loss: 3.1208\n",
      "Epoch 115/200\n",
      "3/3 [==============================] - 0s 117ms/step - loss: 3.2060 - val_loss: 3.1536\n",
      "Epoch 116/200\n",
      "3/3 [==============================] - 0s 96ms/step - loss: 3.1990 - val_loss: 3.1758\n",
      "Epoch 117/200\n",
      "3/3 [==============================] - 0s 76ms/step - loss: 3.1764 - val_loss: 3.1254\n",
      "Epoch 118/200\n",
      "3/3 [==============================] - 0s 95ms/step - loss: 3.1942 - val_loss: 3.0856\n",
      "Epoch 119/200\n",
      "3/3 [==============================] - ETA: 0s - loss: 3.1884"
     ]
    }
   ],
   "source": [
    "history = model.fit(X_train, y_train, epochs=200,\n",
    "                    validation_data=(X_valid, y_valid))"
   ]
  },
  {
   "cell_type": "code",
   "execution_count": null,
   "id": "a0e6c1bf",
   "metadata": {
    "scrolled": true
   },
   "outputs": [],
   "source": [
    "# history = model.fit(X_train, y_train, epochs=145,\n",
    "#                     validation_data=(X_valid, y_valid), callbacks=[lr_scheduler])"
   ]
  },
  {
   "cell_type": "code",
   "execution_count": null,
   "id": "4bdf191a",
   "metadata": {},
   "outputs": [],
   "source": [
    "import pandas as pd\n",
    "\n",
    "# print(history.history)\n",
    "try:\n",
    "    lr_list = history.history[\"lr\"]\n",
    "    del(history.history[\"lr\"])\n",
    "except:\n",
    "    pass\n",
    "\n",
    "pd.DataFrame(history.history)[50:].plot(figsize=(8, 5))\n",
    "plt.grid(True)\n",
    "# plt.gca().set_ylim(0, 1)\n",
    "plt.show()"
   ]
  },
  {
   "cell_type": "code",
   "execution_count": null,
   "id": "63cb6790",
   "metadata": {},
   "outputs": [],
   "source": [
    "plt.plot(X_train, y_train, \"b.\")\n",
    "draw_func((lambda X: model.predict(X)[:,0] ), mark='r-', linewidth=2, label=\"Predictions\")\n",
    "draw_normal_func(func_dict)\n",
    "plt.xlabel(\"$x_1$\", fontsize=18)\n",
    "plt.ylabel(\"$y$\", rotation=0, fontsize=18)\n",
    "plt.legend(loc=\"upper left\", fontsize=14)\n",
    "# plt.axis([-3, 3, 0, 10])\n",
    "plt.show()"
   ]
  },
  {
   "cell_type": "markdown",
   "id": "53ff90c2",
   "metadata": {},
   "source": [
    "### Draw the 1-sigma boundary line"
   ]
  },
  {
   "cell_type": "code",
   "execution_count": null,
   "id": "ec96dacb",
   "metadata": {},
   "outputs": [],
   "source": [
    "def n_sigma_boundary_line(X, n):\n",
    "    _y = model.predict(X)\n",
    "    _mean, _z = _y[:,0:1], _y[:,1:2]\n",
    "    _sigma = np.exp(alpha*_z)\n",
    "    return( _mean + n*_sigma)\n",
    "\n",
    "plt.plot(X_train, y_train, \"b.\")\n",
    "#\n",
    "draw_func((lambda X: model.predict(X)[:,0] ), mark='r-', linewidth=2, label=\"Predictions\")\n",
    "draw_func((lambda X: n_sigma_boundary_line(X, +1.0) ), mark='k--', linewidth=1, label=\"$\\mu+\\sigma$\")\n",
    "draw_func((lambda X: n_sigma_boundary_line(X, -1.0) ), mark='k--', linewidth=1, label=\"$\\mu-\\sigma$\")\n",
    "#\n",
    "draw_normal_func(func_dict)\n",
    "plt.xlabel(\"$x_1$\", fontsize=18)\n",
    "plt.ylabel(\"$y$\", rotation=0, fontsize=18)\n",
    "plt.legend(loc=\"upper left\", fontsize=14)\n",
    "# plt.axis([-3, 3, 0, 10])\n",
    "plt.show()"
   ]
  },
  {
   "cell_type": "code",
   "execution_count": null,
   "id": "f12e6df9",
   "metadata": {},
   "outputs": [],
   "source": []
  },
  {
   "cell_type": "code",
   "execution_count": null,
   "id": "6e27f37f",
   "metadata": {},
   "outputs": [],
   "source": []
  },
  {
   "cell_type": "code",
   "execution_count": null,
   "id": "ec143d8c",
   "metadata": {},
   "outputs": [],
   "source": []
  },
  {
   "cell_type": "code",
   "execution_count": null,
   "id": "68deb382",
   "metadata": {},
   "outputs": [],
   "source": []
  },
  {
   "cell_type": "code",
   "execution_count": null,
   "id": "4e81e2db",
   "metadata": {},
   "outputs": [],
   "source": []
  }
 ],
 "metadata": {
  "kernelspec": {
   "display_name": "Python 3",
   "language": "python",
   "name": "python3"
  },
  "language_info": {
   "codemirror_mode": {
    "name": "ipython",
    "version": 3
   },
   "file_extension": ".py",
   "mimetype": "text/x-python",
   "name": "python",
   "nbconvert_exporter": "python",
   "pygments_lexer": "ipython3",
   "version": "3.6.9"
  }
 },
 "nbformat": 4,
 "nbformat_minor": 5
}
