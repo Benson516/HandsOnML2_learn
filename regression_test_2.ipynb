{
 "cells": [
  {
   "cell_type": "markdown",
   "id": "899fa113",
   "metadata": {},
   "source": [
    "# Regression with Different Output Format under Various Data Conditions\n",
    "\n",
    "In this experience, we test the following output format for regression task under several different data coditions.\n",
    "- Numerical output\n",
    "- Regression as classification (grid-out)\n",
    "\n",
    "The data coditions include:\n",
    "- Sparse (few data)\n",
    "- Grouped\n",
    "  - Biased (parallel data)\n",
    "  - Completely different mode, uncorrelated data (cross)\n",
    "  - Partially diversed (split)"
   ]
  },
  {
   "cell_type": "code",
   "execution_count": 1,
   "id": "625ce7c3",
   "metadata": {},
   "outputs": [],
   "source": [
    "import numpy as np\n",
    "import tensorflow as tf\n",
    "from tensorflow import keras\n",
    "import os\n",
    "\n",
    "# To plot pretty figures\n",
    "%matplotlib inline\n",
    "import matplotlib as mpl\n",
    "import matplotlib.pyplot as plt\n",
    "mpl.rc('axes', labelsize=14)\n",
    "mpl.rc('xtick', labelsize=12)\n",
    "mpl.rc('ytick', labelsize=12)"
   ]
  },
  {
   "cell_type": "code",
   "execution_count": 2,
   "id": "7ad564ad",
   "metadata": {},
   "outputs": [],
   "source": [
    "# Where to save the figures\n",
    "PROJECT_ROOT_DIR = \".\"\n",
    "CHAPTER_ID = \"regression_test_2\"\n",
    "IMAGES_PATH = os.path.join(PROJECT_ROOT_DIR, \"images\", CHAPTER_ID)\n",
    "os.makedirs(IMAGES_PATH, exist_ok=True)\n",
    "\n",
    "def save_fig(fig_id, tight_layout=True, fig_extension=\"png\", resolution=300):\n",
    "    path = os.path.join(IMAGES_PATH, fig_id + \".\" + fig_extension)\n",
    "    print(\"Saving figure\", fig_id)\n",
    "    if tight_layout:\n",
    "        plt.tight_layout()\n",
    "    plt.savefig(path, format=fig_extension, dpi=resolution)"
   ]
  },
  {
   "cell_type": "code",
   "execution_count": 3,
   "id": "94e8a077",
   "metadata": {},
   "outputs": [],
   "source": [
    "def draw_func(func_in, x_min=-5, x_max=5, mark='r--', linewidth=1, label='func'):\n",
    "    n_sample = 100\n",
    "    X_func = np.linspace(x_min, x_max, n_sample).reshape(n_sample, 1)\n",
    "    y_func = func_in(X_func)\n",
    "    plt.plot(X_func, y_func, mark, linewidth=linewidth, label=label)"
   ]
  },
  {
   "cell_type": "markdown",
   "id": "c27ffe35",
   "metadata": {},
   "source": [
    "Generate polynomial data"
   ]
  },
  {
   "cell_type": "code",
   "execution_count": 4,
   "id": "ce670ce4",
   "metadata": {},
   "outputs": [],
   "source": [
    "poly_a1 = 5.0\n",
    "# poly_a1 = -10.0 # 5.0\n",
    "#\n",
    "sin_a = 0.0\n",
    "# sin_a = 10.0\n",
    "sin_f = 0.1 # 0.2\n",
    "#\n",
    "def func_0(X): # Reference\n",
    "    return 0.5 * X**3 + 0.5 * X**2 + (poly_a1)*X + 2 + sin_a*np.sin(2.0*np.pi*sin_f*X)\n",
    "def func_1(X): # Variation 1: parellel\n",
    "    return 0.5 * X**3 + 0.5 * X**2 + (poly_a1)*X + 30 + sin_a*np.sin(2.0*np.pi*sin_f*X)\n",
    "def func_2(X): # Variation 2: cross\n",
    "    return -0.5 * X**3 + 0.5 * X**2 + (poly_a1)*X + 30 + sin_a*np.sin(2.0*np.pi*sin_f*X)\n",
    "def func_3(X): # Variation 3: slightly split\n",
    "    return 0.3 * X**3 + 1.0 * X**2 + (poly_a1)*X + 15 + sin_a*np.sin(2.0*np.pi*sin_f*X)\n",
    "def func_4(X): # Sine wave~\n",
    "    return 0.5 * X**3 + 0.5 * X**2 + (poly_a1)*X + 2 + 20.0*np.sin(2.0*np.pi*sin_f*X) # 50.0"
   ]
  },
  {
   "cell_type": "code",
   "execution_count": 5,
   "id": "9463bfff",
   "metadata": {},
   "outputs": [],
   "source": [
    "func_dict = dict()\n",
    "#-----------------#\n",
    "func_dict[\"f1\"] = func_0\n",
    "#-----------------#\n",
    "# func_dict[\"f2\"] = func_1\n",
    "# func_dict[\"f2\"] = func_2\n",
    "func_dict[\"f2\"] = func_3\n",
    "# func_dict[\"f2\"] = func_4\n",
    "#-----------------#\n",
    "func_dict[\"f3\"] = func_4\n",
    "#-----------------#\n",
    "\n",
    "# Note: func_dict[\"f_avg\"] depends on multiout_type and is calculated in each section of multiout_type"
   ]
  },
  {
   "cell_type": "code",
   "execution_count": 6,
   "id": "63437d0c",
   "metadata": {},
   "outputs": [
    {
     "name": "stdout",
     "output_type": "stream",
     "text": [
      "(m, m_train) = (100, 80)\n",
      "y_data_pure.shape = (100, 1)\n",
      "y_data.shape = (100, 1)\n"
     ]
    }
   ],
   "source": [
    "np.random.seed(42)\n",
    "m = 100 # 50 # 100 # 200\n",
    "m_train = m // 5 * 4\n",
    "print(\"(m, m_train) = (%d, %d)\" % (m, m_train))\n",
    "\n",
    "# Input\n",
    "is_gapped = True\n",
    "# is_gapped = False\n",
    "#\n",
    "if not is_gapped:\n",
    "    X_data = 10 * np.random.rand(m, 1) - 5 # Note: X is randomly sampled, so we don't need to shuffle the data again\n",
    "else:\n",
    "    X_data = np.concatenate( (np.linspace(-5.0, -2.0, m//2), np.linspace(2.0, 5.0, m-m//2)) )\n",
    "    X_data = X_data.reshape((m,1))\n",
    "    np.random.shuffle(X_data)\n",
    "\n",
    "# Output, multiout_type in {1, 2, 3}\n",
    "# multiout_type = 1      \n",
    "multiout_type = 2 \n",
    "# multiout_type = 3 \n",
    "#\n",
    "sid_data = np.ones((m,1), dtype=int) # subject id, default: 1\n",
    "if multiout_type == 2:\n",
    "    m_h = m // 2\n",
    "    X_data_1 = X_data[:m_h]\n",
    "    X_data_2 = X_data[m_h:]\n",
    "    sid_data[:m_h] = 1 # id:1\n",
    "    sid_data[m_h:] = 2 # id:2\n",
    "    y_data_pure_1 = func_dict[\"f1\"](X_data_1) \n",
    "    y_data_pure_2 = func_dict[\"f2\"](X_data_2) \n",
    "    y_data_pure = np.vstack([y_data_pure_1, y_data_pure_2])\n",
    "    print(\"y_data_pure.shape = %s\" % str(y_data_pure.shape))\n",
    "    # Average line\n",
    "    func_dict[\"f_avg\"] = ( lambda X: 0.5*func_dict[\"f1\"](X) + 0.5*func_dict[\"f2\"](X) )\n",
    "    #\n",
    "elif multiout_type == 3: # with \"avg\" line\n",
    "    m_t = m // 3\n",
    "    X_data_1 = X_data[:m_t]\n",
    "    X_data_2 = X_data[m_t:(2*m_t)]\n",
    "    X_data_3 = X_data[(2*m_t):]\n",
    "    sid_data[:m_t]        = 1 # id:1\n",
    "    sid_data[m_t:(2*m_t)] = 2 # id:2\n",
    "    sid_data[(2*m_t):]    = 3 # id:3\n",
    "    y_data_pure_1 = func_dict[\"f1\"](X_data_1) \n",
    "    y_data_pure_2 = func_dict[\"f2\"](X_data_2) \n",
    "    y_data_pure_3 = func_dict[\"f3\"](X_data_3) \n",
    "    y_data_pure = np.vstack([y_data_pure_1, y_data_pure_2, y_data_pure_3])\n",
    "    print(\"y_data_pure.shape = %s\" % str(y_data_pure.shape))\n",
    "    # Average line\n",
    "    func_dict[\"f_avg\"] = ( lambda X: (func_dict[\"f1\"](X) + func_dict[\"f2\"](X) + func_dict[\"f3\"](X))/3.0 )\n",
    "    #\n",
    "else: # multiout_type == 1\n",
    "    # Average line\n",
    "    func_dict[\"f_avg\"] = ( lambda X: 0.5*func_dict[\"f1\"](X) + 0.5*func_dict[\"f2\"](X) )\n",
    "    y_data_pure = func_dict[\"f_avg\"](X_data)\n",
    "\n",
    "    \n",
    "# Label (+noise)\n",
    "n_stddev = 2.0\n",
    "# n_stddev = 10.0\n",
    "y_data = y_data_pure + np.random.randn(m, 1) * n_stddev\n",
    "print(\"y_data.shape = %s\" % str(y_data.shape))\n",
    "# print(\"sid_data = %s\" % str(sid_data))"
   ]
  },
  {
   "cell_type": "code",
   "execution_count": 7,
   "id": "ef588fae",
   "metadata": {},
   "outputs": [],
   "source": [
    "# Method 1: simply slice\n",
    "# X_train = X_data[:m_train]\n",
    "# y_train = y_data[:m_train]\n",
    "# X_valid = X_data[m_train:]\n",
    "# y_valid = y_data[m_train:]\n",
    "\n",
    "# Method 2: shuffle\n",
    "from sklearn.model_selection import train_test_split\n",
    "# X_train, X_valid, y_train, y_valid = train_test_split(X_data, y_data, test_size=0.2, random_state=42)\n",
    "X_train, X_valid, y_train, y_valid, sid_train, sid_valid = train_test_split(X_data, y_data, sid_data, test_size=0.2, random_state=42)"
   ]
  },
  {
   "cell_type": "code",
   "execution_count": 8,
   "id": "3b5d2cfe",
   "metadata": {},
   "outputs": [
    {
     "name": "stdout",
     "output_type": "stream",
     "text": [
      "(80, 1)\n"
     ]
    }
   ],
   "source": [
    "print(X_train.shape)\n",
    "# print(\"sid_train = %s\" % str(sid_train))"
   ]
  },
  {
   "cell_type": "code",
   "execution_count": 9,
   "id": "9bd2136c",
   "metadata": {},
   "outputs": [],
   "source": [
    "def draw_normal_func(func_dict):\n",
    "    if multiout_type != 1:\n",
    "        draw_func(func_dict[\"f1\"], mark='c:', label=\"f1\")\n",
    "        draw_func(func_dict[\"f2\"], mark='r:', label=\"f2\")\n",
    "    if multiout_type == 3:\n",
    "        draw_func(func_dict[\"f3\"], mark='y:', label=\"f3\")\n",
    "    draw_func(func_dict[\"f_avg\"], mark='m--', label=\"f_avg\")"
   ]
  },
  {
   "cell_type": "code",
   "execution_count": 10,
   "id": "bedf8cfe",
   "metadata": {},
   "outputs": [],
   "source": [
    "def draw_points(X, y, sid=None):\n",
    "    if sid is None:\n",
    "        plt.plot(X, y, \"b.\")\n",
    "    else:\n",
    "        plt.plot(X[sid==1], y[sid==1], \"b.\")\n",
    "        plt.plot(X[sid==2], y[sid==2], \"r.\")\n",
    "        plt.plot(X[sid==3], y[sid==3], \"y.\")"
   ]
  },
  {
   "cell_type": "code",
   "execution_count": 11,
   "id": "693af3b7",
   "metadata": {},
   "outputs": [
    {
     "name": "stdout",
     "output_type": "stream",
     "text": [
      "Saving figure training_data\n"
     ]
    },
    {
     "data": {
      "image/png": "[encoded data removed]",
      "text/plain": [
       "<Figure size 432x288 with 1 Axes>"
      ]
     },
     "metadata": {
      "needs_background": "light"
     },
     "output_type": "display_data"
    }
   ],
   "source": [
    "# plt.plot(X_train, y_train, \"b.\")\n",
    "# plt.plot(X_train[sid_train==1], y_train[sid_train==1], \"b.\")\n",
    "# plt.plot(X_train[sid_train==2], y_train[sid_train==2], \"r.\")\n",
    "draw_points(X_train, y_train, sid_train)\n",
    "\n",
    "draw_normal_func(func_dict)\n",
    "plt.xlabel(\"$x_1$\", fontsize=18)\n",
    "plt.ylabel(\"$y$\", rotation=0, fontsize=18)\n",
    "plt.legend(loc=\"upper left\", fontsize=14)\n",
    "# plt.axis([-3, 3, 0, 10])\n",
    "save_fig(\"training_data\")\n",
    "plt.show()"
   ]
  },
  {
   "cell_type": "code",
   "execution_count": 12,
   "id": "a6853ff1",
   "metadata": {},
   "outputs": [],
   "source": [
    "prediction_error_dict = dict()\n",
    "\n",
    "def get_prediction_error(func_in, func_dict, name=\"\", x_min=-5, x_max=5, prediction_error_dict=prediction_error_dict):\n",
    "    n_sample = 100\n",
    "    X_func = np.linspace(x_min, x_max, n_sample).reshape(n_sample, 1)\n",
    "    y_func = func_in(X_func).reshape((n_sample,1))\n",
    "    y_gt = func_dict[\"f_avg\"](X_func).reshape((n_sample,1))\n",
    "    print(\"y_func.shape = %s\" % str(y_func.shape))\n",
    "    print(\"y_gt.shape = %s\" % str(y_gt.shape))\n",
    "#     total_error = np.sqrt(np.square(y_func - y_gt).mean())\n",
    "    total_error = np.abs(y_func - y_gt).mean()\n",
    "    prediction_error_dict[name] = total_error\n",
    "    return total_error\n",
    "\n",
    "def print_all_prediction_error(is_logging_to_screen=True, prediction_error_dict=prediction_error_dict):\n",
    "    _s = \"\"\n",
    "    for _n in prediction_error_dict:\n",
    "        _s += (\"%s: %f\" % (_n, prediction_error_dict[_n])) + \"\\n\"\n",
    "    if is_logging_to_screen:\n",
    "        print(_s)\n",
    "    return _s\n",
    "        \n",
    "def save_prediction_errors(is_logging_to_screen=False, prediction_error_dict=prediction_error_dict):\n",
    "    path = os.path.join(IMAGES_PATH, \"prediction_errors.txt\")\n",
    "    print(\"Saving all prediction errors to [%s].\" % path)\n",
    "    _s = print_all_prediction_error(is_logging_to_screen=is_logging_to_screen, prediction_error_dict=prediction_error_dict)\n",
    "    with open(path, \"w\") as _f:\n",
    "        _f.write(_s)\n",
    "    return True"
   ]
  },
  {
   "cell_type": "markdown",
   "id": "053ecc57",
   "metadata": {},
   "source": [
    "# Simple FCs (number --> number)"
   ]
  },
  {
   "cell_type": "markdown",
   "id": "c66eb67b",
   "metadata": {},
   "source": [
    "Build the regression model"
   ]
  },
  {
   "cell_type": "code",
   "execution_count": 13,
   "id": "9449fc0b",
   "metadata": {},
   "outputs": [
    {
     "name": "stderr",
     "output_type": "stream",
     "text": [
      "C:\\Users\\benso\\anaconda3\\envs\\ml\\lib\\site-packages\\keras\\optimizer_v2\\gradient_descent.py:102: UserWarning: The `lr` argument is deprecated, use `learning_rate` instead.\n",
      "  super(SGD, self).__init__(name, **kwargs)\n"
     ]
    }
   ],
   "source": [
    "model = keras.models.Sequential([\n",
    "    keras.layers.Dense(30, activation=\"relu\", input_shape=X_train.shape[1:]),\n",
    "    keras.layers.Dense(30, activation=\"relu\"),\n",
    "    keras.layers.Dense(1)\n",
    "])\n",
    "\n",
    "optimizer = keras.optimizers.SGD(lr=0.0001, momentum=0.9)\n",
    "model.compile(loss=\"mean_squared_error\", optimizer=optimizer)\n",
    "# optimizer = keras.optimizers.Adam(lr=0.01)\n",
    "# model.compile(loss=\"mean_absolute_error\", optimizer=optimizer)"
   ]
  },
  {
   "cell_type": "code",
   "execution_count": 14,
   "id": "92afd68a",
   "metadata": {
    "scrolled": true
   },
   "outputs": [
    {
     "name": "stdout",
     "output_type": "stream",
     "text": [
      "Epoch 1/100\n",
      "3/3 [==============================] - 2s 91ms/step - loss: 2495.8430 - val_loss: 1708.4060\n",
      "Epoch 2/100\n",
      "3/3 [==============================] - 0s 14ms/step - loss: 2428.0896 - val_loss: 1639.6016\n",
      "Epoch 3/100\n",
      "3/3 [==============================] - 0s 22ms/step - loss: 2309.4204 - val_loss: 1531.5977\n",
      "Epoch 4/100\n",
      "3/3 [==============================] - 0s 47ms/step - loss: 2087.2046 - val_loss: 1267.7101\n",
      "Epoch 5/100\n",
      "3/3 [==============================] - 0s 85ms/step - loss: 1515.2485 - val_loss: 702.6754\n",
      "Epoch 6/100\n",
      "3/3 [==============================] - 0s 57ms/step - loss: 623.5162 - val_loss: 680.7859\n",
      "Epoch 7/100\n",
      "3/3 [==============================] - 0s 65ms/step - loss: 941.2301 - val_loss: 490.5872\n",
      "Epoch 8/100\n",
      "3/3 [==============================] - 0s 31ms/step - loss: 381.8309 - val_loss: 357.9106\n",
      "Epoch 9/100\n",
      "3/3 [==============================] - 0s 15ms/step - loss: 477.6082 - val_loss: 326.0757\n",
      "Epoch 10/100\n",
      "3/3 [==============================] - 0s 44ms/step - loss: 408.5709 - val_loss: 174.2110\n",
      "Epoch 11/100\n",
      "3/3 [==============================] - 0s 29ms/step - loss: 238.1752 - val_loss: 267.3333\n",
      "Epoch 12/100\n",
      "3/3 [==============================] - 0s 28ms/step - loss: 337.6094 - val_loss: 191.3230\n",
      "Epoch 13/100\n",
      "3/3 [==============================] - 0s 22ms/step - loss: 204.8755 - val_loss: 185.7653\n",
      "Epoch 14/100\n",
      "3/3 [==============================] - 0s 34ms/step - loss: 257.6367 - val_loss: 214.7841\n",
      "Epoch 15/100\n",
      "3/3 [==============================] - 0s 22ms/step - loss: 241.3939 - val_loss: 198.8294\n",
      "Epoch 16/100\n",
      "3/3 [==============================] - 0s 24ms/step - loss: 209.7650 - val_loss: 233.1037\n",
      "Epoch 17/100\n",
      "3/3 [==============================] - 0s 18ms/step - loss: 248.6348 - val_loss: 193.5696\n",
      "Epoch 18/100\n",
      "3/3 [==============================] - 0s 20ms/step - loss: 202.5262 - val_loss: 187.7033\n",
      "Epoch 19/100\n",
      "3/3 [==============================] - 0s 70ms/step - loss: 226.5371 - val_loss: 179.2598\n",
      "Epoch 20/100\n",
      "3/3 [==============================] - 0s 75ms/step - loss: 210.0287 - val_loss: 174.4172\n",
      "Epoch 21/100\n",
      "3/3 [==============================] - 0s 78ms/step - loss: 209.3173 - val_loss: 181.2279\n",
      "Epoch 22/100\n",
      "3/3 [==============================] - 0s 71ms/step - loss: 208.7229 - val_loss: 165.8297\n",
      "Epoch 23/100\n",
      "3/3 [==============================] - 0s 50ms/step - loss: 201.3942 - val_loss: 167.7086\n",
      "Epoch 24/100\n",
      "3/3 [==============================] - 0s 19ms/step - loss: 204.4879 - val_loss: 167.9438\n",
      "Epoch 25/100\n",
      "3/3 [==============================] - 0s 26ms/step - loss: 195.8073 - val_loss: 175.2281\n",
      "Epoch 26/100\n",
      "3/3 [==============================] - 0s 22ms/step - loss: 195.1250 - val_loss: 173.8656\n",
      "Epoch 27/100\n",
      "3/3 [==============================] - 0s 22ms/step - loss: 193.2699 - val_loss: 174.0629\n",
      "Epoch 28/100\n",
      "3/3 [==============================] - 0s 23ms/step - loss: 192.7177 - val_loss: 172.0835\n",
      "Epoch 29/100\n",
      "3/3 [==============================] - 0s 23ms/step - loss: 193.5509 - val_loss: 171.6927\n",
      "Epoch 30/100\n",
      "3/3 [==============================] - 0s 21ms/step - loss: 190.7118 - val_loss: 169.3044\n",
      "Epoch 31/100\n",
      "3/3 [==============================] - 0s 21ms/step - loss: 190.8077 - val_loss: 168.0913\n",
      "Epoch 32/100\n",
      "3/3 [==============================] - 0s 14ms/step - loss: 191.0083 - val_loss: 167.1655\n",
      "Epoch 33/100\n",
      "3/3 [==============================] - 0s 17ms/step - loss: 187.8208 - val_loss: 166.9972\n",
      "Epoch 34/100\n",
      "3/3 [==============================] - 0s 21ms/step - loss: 189.6010 - val_loss: 167.4627\n",
      "Epoch 35/100\n",
      "3/3 [==============================] - 0s 22ms/step - loss: 187.3037 - val_loss: 165.2183\n",
      "Epoch 36/100\n",
      "3/3 [==============================] - 0s 20ms/step - loss: 190.7614 - val_loss: 165.8471\n",
      "Epoch 37/100\n",
      "3/3 [==============================] - 0s 24ms/step - loss: 190.1005 - val_loss: 164.4328\n",
      "Epoch 38/100\n",
      "3/3 [==============================] - 0s 21ms/step - loss: 188.3632 - val_loss: 172.2116\n",
      "Epoch 39/100\n",
      "3/3 [==============================] - 0s 21ms/step - loss: 192.9853 - val_loss: 170.3111\n",
      "Epoch 40/100\n",
      "3/3 [==============================] - 0s 21ms/step - loss: 188.4520 - val_loss: 168.8054\n",
      "Epoch 41/100\n",
      "3/3 [==============================] - 0s 21ms/step - loss: 184.9743 - val_loss: 167.7348\n",
      "Epoch 42/100\n",
      "3/3 [==============================] - 0s 21ms/step - loss: 182.8947 - val_loss: 165.7569\n",
      "Epoch 43/100\n",
      "3/3 [==============================] - 0s 17ms/step - loss: 182.2173 - val_loss: 162.2884\n",
      "Epoch 44/100\n",
      "3/3 [==============================] - 0s 18ms/step - loss: 182.0316 - val_loss: 160.1182\n",
      "Epoch 45/100\n",
      "3/3 [==============================] - 0s 25ms/step - loss: 182.8020 - val_loss: 160.4534\n",
      "Epoch 46/100\n",
      "3/3 [==============================] - 0s 21ms/step - loss: 183.0098 - val_loss: 164.0558\n",
      "Epoch 47/100\n",
      "3/3 [==============================] - 0s 22ms/step - loss: 180.9773 - val_loss: 162.3767\n",
      "Epoch 48/100\n",
      "3/3 [==============================] - 0s 18ms/step - loss: 181.1310 - val_loss: 160.4053\n",
      "Epoch 49/100\n",
      "3/3 [==============================] - 0s 18ms/step - loss: 179.0208 - val_loss: 158.2166\n",
      "Epoch 50/100\n",
      "3/3 [==============================] - 0s 23ms/step - loss: 181.1210 - val_loss: 158.6014\n",
      "Epoch 51/100\n",
      "3/3 [==============================] - 0s 22ms/step - loss: 179.3590 - val_loss: 162.2047\n",
      "Epoch 52/100\n",
      "3/3 [==============================] - 0s 22ms/step - loss: 178.7702 - val_loss: 162.4069\n",
      "Epoch 53/100\n",
      "3/3 [==============================] - 0s 22ms/step - loss: 179.8663 - val_loss: 163.6367\n",
      "Epoch 54/100\n",
      "3/3 [==============================] - 0s 21ms/step - loss: 178.8194 - val_loss: 159.1497\n",
      "Epoch 55/100\n",
      "3/3 [==============================] - 0s 19ms/step - loss: 176.7443 - val_loss: 158.9424\n",
      "Epoch 56/100\n",
      "3/3 [==============================] - 0s 19ms/step - loss: 174.9314 - val_loss: 164.1869\n",
      "Epoch 57/100\n",
      "3/3 [==============================] - 0s 19ms/step - loss: 179.4788 - val_loss: 171.0938\n",
      "Epoch 58/100\n",
      "3/3 [==============================] - 0s 20ms/step - loss: 177.2290 - val_loss: 167.5292\n",
      "Epoch 59/100\n",
      "3/3 [==============================] - 0s 23ms/step - loss: 175.6900 - val_loss: 164.6824\n",
      "Epoch 60/100\n",
      "3/3 [==============================] - 0s 22ms/step - loss: 173.0893 - val_loss: 157.4909\n",
      "Epoch 61/100\n",
      "3/3 [==============================] - 0s 15ms/step - loss: 175.1518 - val_loss: 154.1299\n",
      "Epoch 62/100\n",
      "3/3 [==============================] - 0s 25ms/step - loss: 173.6442 - val_loss: 154.9004\n",
      "Epoch 63/100\n",
      "3/3 [==============================] - 0s 14ms/step - loss: 174.4819 - val_loss: 161.9203\n",
      "Epoch 64/100\n",
      "3/3 [==============================] - 0s 18ms/step - loss: 174.3176 - val_loss: 159.4760\n",
      "Epoch 65/100\n",
      "3/3 [==============================] - 0s 24ms/step - loss: 170.2105 - val_loss: 164.0518\n",
      "Epoch 66/100\n",
      "3/3 [==============================] - 0s 19ms/step - loss: 176.1784 - val_loss: 170.2007\n",
      "Epoch 67/100\n",
      "3/3 [==============================] - 0s 19ms/step - loss: 172.9414 - val_loss: 172.1715\n",
      "Epoch 68/100\n",
      "3/3 [==============================] - 0s 20ms/step - loss: 175.1658 - val_loss: 164.7823\n",
      "Epoch 69/100\n",
      "3/3 [==============================] - 0s 22ms/step - loss: 171.4351 - val_loss: 155.7248\n",
      "Epoch 70/100\n",
      "3/3 [==============================] - 0s 19ms/step - loss: 169.0741 - val_loss: 151.8217\n",
      "Epoch 71/100\n",
      "3/3 [==============================] - 0s 20ms/step - loss: 168.7860 - val_loss: 150.3809\n",
      "Epoch 72/100\n",
      "3/3 [==============================] - 0s 22ms/step - loss: 168.3283 - val_loss: 150.7128\n",
      "Epoch 73/100\n",
      "3/3 [==============================] - 0s 17ms/step - loss: 170.2536 - val_loss: 152.1971\n",
      "Epoch 74/100\n",
      "3/3 [==============================] - 0s 29ms/step - loss: 168.1591 - val_loss: 149.4350\n",
      "Epoch 75/100\n",
      "3/3 [==============================] - 0s 22ms/step - loss: 167.7606 - val_loss: 151.5415\n",
      "Epoch 76/100\n",
      "3/3 [==============================] - 0s 23ms/step - loss: 167.2680 - val_loss: 155.5139\n",
      "Epoch 77/100\n",
      "3/3 [==============================] - 0s 25ms/step - loss: 166.8070 - val_loss: 162.3075\n",
      "Epoch 78/100\n",
      "3/3 [==============================] - 0s 24ms/step - loss: 168.1683 - val_loss: 155.9697\n",
      "Epoch 79/100\n",
      "3/3 [==============================] - 0s 24ms/step - loss: 165.9099 - val_loss: 146.6570\n",
      "Epoch 80/100\n"
     ]
    },
    {
     "name": "stdout",
     "output_type": "stream",
     "text": [
      "3/3 [==============================] - 0s 17ms/step - loss: 165.9937 - val_loss: 145.1599\n",
      "Epoch 81/100\n",
      "3/3 [==============================] - 0s 19ms/step - loss: 168.2171 - val_loss: 145.5992\n",
      "Epoch 82/100\n",
      "3/3 [==============================] - 0s 22ms/step - loss: 164.4697 - val_loss: 149.4472\n",
      "Epoch 83/100\n",
      "3/3 [==============================] - 0s 18ms/step - loss: 164.6026 - val_loss: 153.1333\n",
      "Epoch 84/100\n",
      "3/3 [==============================] - 0s 23ms/step - loss: 167.9548 - val_loss: 162.4744\n",
      "Epoch 85/100\n",
      "3/3 [==============================] - 0s 23ms/step - loss: 165.7702 - val_loss: 165.3913\n",
      "Epoch 86/100\n",
      "3/3 [==============================] - 0s 19ms/step - loss: 166.6480 - val_loss: 156.7233\n",
      "Epoch 87/100\n",
      "3/3 [==============================] - 0s 18ms/step - loss: 163.7929 - val_loss: 153.0665\n",
      "Epoch 88/100\n",
      "3/3 [==============================] - 0s 21ms/step - loss: 163.5155 - val_loss: 150.3073\n",
      "Epoch 89/100\n",
      "3/3 [==============================] - 0s 21ms/step - loss: 160.9640 - val_loss: 146.9512\n",
      "Epoch 90/100\n",
      "3/3 [==============================] - 0s 22ms/step - loss: 161.3725 - val_loss: 144.0463\n",
      "Epoch 91/100\n",
      "3/3 [==============================] - 0s 23ms/step - loss: 163.2669 - val_loss: 141.6875\n",
      "Epoch 92/100\n",
      "3/3 [==============================] - 0s 14ms/step - loss: 161.8972 - val_loss: 145.2605\n",
      "Epoch 93/100\n",
      "3/3 [==============================] - 0s 19ms/step - loss: 160.1554 - val_loss: 148.7616\n",
      "Epoch 94/100\n",
      "3/3 [==============================] - 0s 19ms/step - loss: 160.9845 - val_loss: 150.1628\n",
      "Epoch 95/100\n",
      "3/3 [==============================] - 0s 15ms/step - loss: 159.7591 - val_loss: 145.6367\n",
      "Epoch 96/100\n",
      "3/3 [==============================] - 0s 23ms/step - loss: 159.4342 - val_loss: 143.8198\n",
      "Epoch 97/100\n",
      "3/3 [==============================] - 0s 41ms/step - loss: 161.4135 - val_loss: 141.6134\n",
      "Epoch 98/100\n",
      "3/3 [==============================] - 0s 51ms/step - loss: 159.1430 - val_loss: 147.5744\n",
      "Epoch 99/100\n",
      "3/3 [==============================] - 0s 84ms/step - loss: 159.0233 - val_loss: 147.5718\n",
      "Epoch 100/100\n",
      "3/3 [==============================] - 0s 56ms/step - loss: 159.3831 - val_loss: 145.7779\n"
     ]
    }
   ],
   "source": [
    "history = model.fit(X_train, y_train, epochs=100,\n",
    "                    validation_data=(X_valid, y_valid))"
   ]
  },
  {
   "cell_type": "markdown",
   "id": "17d6e37a",
   "metadata": {},
   "source": [
    "Plot the result"
   ]
  },
  {
   "cell_type": "code",
   "execution_count": 15,
   "id": "3b066f5c",
   "metadata": {},
   "outputs": [
    {
     "name": "stdout",
     "output_type": "stream",
     "text": [
      "Saving figure num_num_training_curve\n"
     ]
    },
    {
     "data": {
      "image/png": "[encoded data removed]",
      "text/plain": [
       "<Figure size 576x360 with 1 Axes>"
      ]
     },
     "metadata": {
      "needs_background": "light"
     },
     "output_type": "display_data"
    }
   ],
   "source": [
    "import pandas as pd\n",
    "\n",
    "pd.DataFrame(history.history).plot(figsize=(8, 5))\n",
    "plt.grid(True)\n",
    "# plt.gca().set_ylim(0, 1)\n",
    "save_fig(\"num_num_training_curve\")\n",
    "plt.show()"
   ]
  },
  {
   "cell_type": "code",
   "execution_count": 16,
   "id": "03f9bb54",
   "metadata": {},
   "outputs": [
    {
     "name": "stdout",
     "output_type": "stream",
     "text": [
      "Saving figure num_num_prediction\n"
     ]
    },
    {
     "data": {
      "image/png": "[encoded data removed]",
      "text/plain": [
       "<Figure size 432x288 with 1 Axes>"
      ]
     },
     "metadata": {
      "needs_background": "light"
     },
     "output_type": "display_data"
    }
   ],
   "source": [
    "# X_new = np.linspace(-5, 5, 100).reshape(100, 1)\n",
    "# y_new = model.predict(X_new)\n",
    "#\n",
    "# plt.plot(X_train, y_train, \"b.\")\n",
    "draw_points(X_train, y_train, sid_train)\n",
    "# plt.plot(X_new, y_new, \"r-\", linewidth=2, label=\"Predictions\")\n",
    "draw_func(model.predict, mark='r-', linewidth=2, label=\"Predictions\")\n",
    "draw_normal_func(func_dict)\n",
    "plt.xlabel(\"$x_1$\", fontsize=18)\n",
    "plt.ylabel(\"$y$\", rotation=0, fontsize=18)\n",
    "plt.legend(loc=\"upper left\", fontsize=14)\n",
    "# plt.axis([-3, 3, 0, 10])\n",
    "save_fig(\"num_num_prediction\")\n",
    "plt.show()"
   ]
  },
  {
   "cell_type": "code",
   "execution_count": 17,
   "id": "bc06d931",
   "metadata": {},
   "outputs": [
    {
     "name": "stdout",
     "output_type": "stream",
     "text": [
      "y_func.shape = (100, 1)\n",
      "y_gt.shape = (100, 1)\n"
     ]
    },
    {
     "data": {
      "text/plain": [
       "5.809542849731312"
      ]
     },
     "execution_count": 17,
     "metadata": {},
     "output_type": "execute_result"
    }
   ],
   "source": [
    "get_prediction_error(model.predict, func_dict, name=\"num-num\")"
   ]
  },
  {
   "cell_type": "markdown",
   "id": "58da8768",
   "metadata": {},
   "source": [
    "# Simulated CNN Feature Map (1-D grids, grid --> number)"
   ]
  },
  {
   "cell_type": "code",
   "execution_count": 18,
   "id": "287b5e4c",
   "metadata": {},
   "outputs": [],
   "source": [
    "class num2grid(keras.layers.Layer):\n",
    "    def __init__(self, units, x_min=-10, x_max=10, sigma=1.0, activation=None, **kwargs):\n",
    "        super().__init__(**kwargs)\n",
    "        self.units = units\n",
    "        self.x_min = x_min\n",
    "        self.x_max = x_max\n",
    "        self.sigma = sigma\n",
    "        self.sigma2 = self.sigma**2\n",
    "        self.activation = keras.activations.get(activation)\n",
    "        \n",
    "    def build(self, batch_input_shape):\n",
    "        #\n",
    "        self.x_grid = np.linspace(self.x_min, self.x_max, self.units, endpoint=True)\n",
    "#         print(\"self.x_grid.shape = %s\" % str(self.x_grid.shape))\n",
    "        #\n",
    "        super().build(batch_input_shape) # must be at the end\n",
    "        \n",
    "    def call(self, X):\n",
    "        '''\n",
    "        Input shape:  (batch, X_chanel)\n",
    "        Output shape: (batch, grid_unit) \n",
    "        \n",
    "        self.x_grid shape: (grid_unit,)\n",
    "        '''\n",
    "        gauss_grid = tf.exp( -(self.x_grid - X)**2 / (2.0*self.sigma2) )\n",
    "        print(\"X.shape = %s\" % str(X.shape))\n",
    "        print(\"gauss_grid.shape = %s\" % str(gauss_grid.shape))\n",
    "        return self.activation(gauss_grid)\n",
    "    \n",
    "    def compute_output_shape(self, batch_input_shape):\n",
    "        return tf.TensorShape(batch_input_shape.as_list()[:-1] + [self.units])\n",
    "    \n",
    "    def get_config(self):\n",
    "        base_config = super().get_config()\n",
    "        return {**base_config, \n",
    "                \"units\": self.units,\n",
    "                \"x_min\": self.x_min,\n",
    "                \"x_max\": self.x_max,\n",
    "                \"sigma\": self.sigma,\n",
    "                \"activation\": keras.activations.serialize(self.activation)}"
   ]
  },
  {
   "cell_type": "code",
   "execution_count": 19,
   "id": "f463c12a",
   "metadata": {},
   "outputs": [
    {
     "name": "stdout",
     "output_type": "stream",
     "text": [
      "X.shape = (None, 1)\n",
      "gauss_grid.shape = (None, 5)\n"
     ]
    },
    {
     "name": "stderr",
     "output_type": "stream",
     "text": [
      "C:\\Users\\benso\\anaconda3\\envs\\ml\\lib\\site-packages\\keras\\optimizer_v2\\adam.py:105: UserWarning: The `lr` argument is deprecated, use `learning_rate` instead.\n",
      "  super(Adam, self).__init__(name, **kwargs)\n"
     ]
    }
   ],
   "source": [
    "model = keras.models.Sequential([\n",
    "    num2grid(5,x_min=-10, x_max=10, sigma=3.0, input_shape=X_train.shape[1:]),\n",
    "    keras.layers.Dense(30, activation=\"relu\"),\n",
    "#     keras.layers.Dense(100, activation=\"relu\", kernel_regularizer=tf.keras.regularizers.l1(0.01)),\n",
    "#     keras.layers.Dense(30, activation=keras.layers.LeakyReLU(alpha=0.2) ),\n",
    "#     keras.layers.Dense(30, activation=\"selu\"),\n",
    "#     keras.layers.Dense(30, activation=\"relu\"),\n",
    "    keras.layers.Dense(1)\n",
    "])\n",
    "\n",
    "# optimizer = keras.optimizers.SGD(lr=0.001, momentum=0.9)\n",
    "# model.compile(loss=\"mean_squared_error\", optimizer=optimizer)\n",
    "optimizer = keras.optimizers.Adam(lr=0.1)\n",
    "model.compile(loss=\"mean_absolute_error\", optimizer=optimizer)"
   ]
  },
  {
   "cell_type": "code",
   "execution_count": 20,
   "id": "c966ada4",
   "metadata": {
    "scrolled": true
   },
   "outputs": [
    {
     "name": "stdout",
     "output_type": "stream",
     "text": [
      "Epoch 1/100\n",
      "X.shape = (None, 1)\n",
      "gauss_grid.shape = (None, 5)\n",
      "X.shape = (None, 1)\n",
      "gauss_grid.shape = (None, 5)\n",
      "1/3 [=========>....................] - ETA: 1s - loss: 42.3872X.shape = (None, 1)\n",
      "gauss_grid.shape = (None, 5)\n",
      "3/3 [==============================] - 1s 80ms/step - loss: 41.4170 - val_loss: 33.0448\n",
      "Epoch 2/100\n",
      "3/3 [==============================] - 0s 15ms/step - loss: 38.4880 - val_loss: 30.3003\n",
      "Epoch 3/100\n",
      "3/3 [==============================] - 0s 21ms/step - loss: 33.2940 - val_loss: 25.9702\n",
      "Epoch 4/100\n",
      "3/3 [==============================] - 0s 69ms/step - loss: 26.0099 - val_loss: 20.6129\n",
      "Epoch 5/100\n",
      "3/3 [==============================] - 0s 48ms/step - loss: 18.7722 - val_loss: 15.3110\n",
      "Epoch 6/100\n",
      "3/3 [==============================] - 0s 53ms/step - loss: 17.0276 - val_loss: 10.8646\n",
      "Epoch 7/100\n",
      "3/3 [==============================] - 0s 55ms/step - loss: 15.3307 - val_loss: 9.5334\n",
      "Epoch 8/100\n",
      "3/3 [==============================] - 0s 37ms/step - loss: 15.5701 - val_loss: 11.9157\n",
      "Epoch 9/100\n",
      "3/3 [==============================] - 0s 27ms/step - loss: 14.9037 - val_loss: 8.5080\n",
      "Epoch 10/100\n",
      "3/3 [==============================] - 0s 57ms/step - loss: 13.9428 - val_loss: 10.7115\n",
      "Epoch 11/100\n",
      "3/3 [==============================] - 0s 42ms/step - loss: 13.8849 - val_loss: 11.2124\n",
      "Epoch 12/100\n",
      "3/3 [==============================] - 0s 42ms/step - loss: 13.5250 - val_loss: 11.1062\n",
      "Epoch 13/100\n",
      "3/3 [==============================] - 0s 79ms/step - loss: 12.7476 - val_loss: 10.3895\n",
      "Epoch 14/100\n",
      "3/3 [==============================] - 0s 47ms/step - loss: 12.1292 - val_loss: 10.2288\n",
      "Epoch 15/100\n",
      "3/3 [==============================] - 0s 29ms/step - loss: 11.7138 - val_loss: 9.9209\n",
      "Epoch 16/100\n",
      "3/3 [==============================] - 0s 21ms/step - loss: 11.2836 - val_loss: 10.1677\n",
      "Epoch 17/100\n",
      "3/3 [==============================] - 0s 20ms/step - loss: 10.9350 - val_loss: 10.7613\n",
      "Epoch 18/100\n",
      "3/3 [==============================] - 0s 17ms/step - loss: 10.4375 - val_loss: 11.7553\n",
      "Epoch 19/100\n",
      "3/3 [==============================] - 0s 18ms/step - loss: 10.5198 - val_loss: 11.9918\n",
      "Epoch 20/100\n",
      "3/3 [==============================] - 0s 33ms/step - loss: 10.2868 - val_loss: 12.4043\n",
      "Epoch 21/100\n",
      "3/3 [==============================] - 0s 42ms/step - loss: 10.3761 - val_loss: 12.3520\n",
      "Epoch 22/100\n",
      "3/3 [==============================] - 0s 38ms/step - loss: 9.9856 - val_loss: 13.0697\n",
      "Epoch 23/100\n",
      "3/3 [==============================] - 0s 22ms/step - loss: 9.9968 - val_loss: 12.4147\n",
      "Epoch 24/100\n",
      "3/3 [==============================] - 0s 22ms/step - loss: 10.1337 - val_loss: 12.3332\n",
      "Epoch 25/100\n",
      "3/3 [==============================] - 0s 20ms/step - loss: 9.8790 - val_loss: 14.0051\n",
      "Epoch 26/100\n",
      "3/3 [==============================] - 0s 18ms/step - loss: 10.3458 - val_loss: 12.4937\n",
      "Epoch 27/100\n",
      "3/3 [==============================] - 0s 18ms/step - loss: 9.6184 - val_loss: 12.1051\n",
      "Epoch 28/100\n",
      "3/3 [==============================] - 0s 22ms/step - loss: 9.6362 - val_loss: 12.7106\n",
      "Epoch 29/100\n",
      "3/3 [==============================] - 0s 13ms/step - loss: 10.2417 - val_loss: 12.1561\n",
      "Epoch 30/100\n",
      "3/3 [==============================] - 0s 18ms/step - loss: 9.5965 - val_loss: 11.9832\n",
      "Epoch 31/100\n",
      "3/3 [==============================] - 0s 21ms/step - loss: 10.2235 - val_loss: 11.6812\n",
      "Epoch 32/100\n",
      "3/3 [==============================] - 0s 19ms/step - loss: 9.5446 - val_loss: 12.2794\n",
      "Epoch 33/100\n",
      "3/3 [==============================] - 0s 18ms/step - loss: 9.5674 - val_loss: 11.7784\n",
      "Epoch 34/100\n",
      "3/3 [==============================] - 0s 17ms/step - loss: 9.5107 - val_loss: 11.6914\n",
      "Epoch 35/100\n",
      "3/3 [==============================] - 0s 18ms/step - loss: 9.6554 - val_loss: 11.2827\n",
      "Epoch 36/100\n",
      "3/3 [==============================] - 0s 18ms/step - loss: 9.8722 - val_loss: 11.2830\n",
      "Epoch 37/100\n",
      "3/3 [==============================] - 0s 24ms/step - loss: 9.7653 - val_loss: 12.0796\n",
      "Epoch 38/100\n",
      "3/3 [==============================] - 0s 95ms/step - loss: 9.7151 - val_loss: 11.3679\n",
      "Epoch 39/100\n",
      "3/3 [==============================] - 0s 125ms/step - loss: 9.6901 - val_loss: 11.4377\n",
      "Epoch 40/100\n",
      "3/3 [==============================] - 0s 120ms/step - loss: 9.6287 - val_loss: 12.0953\n",
      "Epoch 41/100\n",
      "3/3 [==============================] - 0s 42ms/step - loss: 9.7182 - val_loss: 11.5195\n",
      "Epoch 42/100\n",
      "3/3 [==============================] - 0s 17ms/step - loss: 9.4281 - val_loss: 11.2250\n",
      "Epoch 43/100\n",
      "3/3 [==============================] - 0s 19ms/step - loss: 9.3774 - val_loss: 11.2149\n",
      "Epoch 44/100\n",
      "3/3 [==============================] - 0s 18ms/step - loss: 9.4467 - val_loss: 11.1683\n",
      "Epoch 45/100\n",
      "3/3 [==============================] - 0s 22ms/step - loss: 9.5136 - val_loss: 11.0944\n",
      "Epoch 46/100\n",
      "3/3 [==============================] - 0s 19ms/step - loss: 9.7808 - val_loss: 10.9815\n",
      "Epoch 47/100\n",
      "3/3 [==============================] - 0s 19ms/step - loss: 9.6799 - val_loss: 12.1564\n",
      "Epoch 48/100\n",
      "3/3 [==============================] - 0s 28ms/step - loss: 9.6251 - val_loss: 11.1578\n",
      "Epoch 49/100\n",
      "3/3 [==============================] - 0s 18ms/step - loss: 9.7084 - val_loss: 10.9296\n",
      "Epoch 50/100\n",
      "3/3 [==============================] - 0s 19ms/step - loss: 9.3284 - val_loss: 11.0568\n",
      "Epoch 51/100\n",
      "3/3 [==============================] - 0s 64ms/step - loss: 9.3107 - val_loss: 11.1175\n",
      "Epoch 52/100\n",
      "3/3 [==============================] - 0s 100ms/step - loss: 9.4499 - val_loss: 10.9236\n",
      "Epoch 53/100\n",
      "3/3 [==============================] - 0s 94ms/step - loss: 9.2668 - val_loss: 10.7576\n",
      "Epoch 54/100\n",
      "3/3 [==============================] - 0s 24ms/step - loss: 9.6658 - val_loss: 10.1779\n",
      "Epoch 55/100\n",
      "3/3 [==============================] - 0s 26ms/step - loss: 9.3751 - val_loss: 10.2261\n",
      "Epoch 56/100\n",
      "3/3 [==============================] - 0s 22ms/step - loss: 9.7250 - val_loss: 10.3910\n",
      "Epoch 57/100\n",
      "3/3 [==============================] - 0s 17ms/step - loss: 9.4388 - val_loss: 10.8610\n",
      "Epoch 58/100\n",
      "3/3 [==============================] - 0s 24ms/step - loss: 9.1679 - val_loss: 10.6991\n",
      "Epoch 59/100\n",
      "3/3 [==============================] - 0s 20ms/step - loss: 9.8143 - val_loss: 10.4271\n",
      "Epoch 60/100\n",
      "3/3 [==============================] - 0s 18ms/step - loss: 9.4242 - val_loss: 11.2038\n",
      "Epoch 61/100\n",
      "3/3 [==============================] - 0s 19ms/step - loss: 9.3131 - val_loss: 10.4650\n",
      "Epoch 62/100\n",
      "3/3 [==============================] - 0s 23ms/step - loss: 9.8573 - val_loss: 10.4955\n",
      "Epoch 63/100\n",
      "3/3 [==============================] - 0s 19ms/step - loss: 9.4821 - val_loss: 11.6922\n",
      "Epoch 64/100\n",
      "3/3 [==============================] - 0s 19ms/step - loss: 9.7772 - val_loss: 10.4660\n",
      "Epoch 65/100\n",
      "3/3 [==============================] - 0s 17ms/step - loss: 9.6775 - val_loss: 10.5055\n",
      "Epoch 66/100\n",
      "3/3 [==============================] - 0s 20ms/step - loss: 9.7627 - val_loss: 10.4182\n",
      "Epoch 67/100\n",
      "3/3 [==============================] - 0s 26ms/step - loss: 9.5208 - val_loss: 10.5386\n",
      "Epoch 68/100\n",
      "3/3 [==============================] - 0s 18ms/step - loss: 9.4793 - val_loss: 9.8018\n",
      "Epoch 69/100\n",
      "3/3 [==============================] - ETA: 0s - loss: 7.860 - 0s 20ms/step - loss: 9.2339 - val_loss: 9.8458\n",
      "Epoch 70/100\n",
      "3/3 [==============================] - 0s 21ms/step - loss: 9.0971 - val_loss: 9.7036\n",
      "Epoch 71/100\n",
      "3/3 [==============================] - 0s 20ms/step - loss: 9.4894 - val_loss: 9.3088\n",
      "Epoch 72/100\n",
      "3/3 [==============================] - 0s 20ms/step - loss: 9.4153 - val_loss: 9.5582\n",
      "Epoch 73/100\n",
      "3/3 [==============================] - 0s 18ms/step - loss: 9.0832 - val_loss: 9.5445\n",
      "Epoch 74/100\n",
      "3/3 [==============================] - 0s 17ms/step - loss: 9.4384 - val_loss: 9.8439\n",
      "Epoch 75/100\n",
      "3/3 [==============================] - 0s 21ms/step - loss: 9.2273 - val_loss: 10.1821\n",
      "Epoch 76/100\n",
      "3/3 [==============================] - 0s 18ms/step - loss: 9.2297 - val_loss: 9.6254\n",
      "Epoch 77/100\n",
      "3/3 [==============================] - 0s 21ms/step - loss: 9.3415 - val_loss: 10.0444\n",
      "Epoch 78/100\n",
      "3/3 [==============================] - 0s 16ms/step - loss: 9.3639 - val_loss: 9.1411\n",
      "Epoch 79/100\n",
      "3/3 [==============================] - 0s 21ms/step - loss: 9.2498 - val_loss: 9.2627\n",
      "Epoch 80/100\n"
     ]
    },
    {
     "name": "stdout",
     "output_type": "stream",
     "text": [
      "3/3 [==============================] - 0s 21ms/step - loss: 9.0374 - val_loss: 10.1685\n",
      "Epoch 81/100\n",
      "3/3 [==============================] - 0s 19ms/step - loss: 9.2248 - val_loss: 9.6664\n",
      "Epoch 82/100\n",
      "3/3 [==============================] - 0s 19ms/step - loss: 9.1205 - val_loss: 9.3282\n",
      "Epoch 83/100\n",
      "3/3 [==============================] - 0s 21ms/step - loss: 9.1133 - val_loss: 9.0618\n",
      "Epoch 84/100\n",
      "3/3 [==============================] - 0s 19ms/step - loss: 9.0938 - val_loss: 8.9452\n",
      "Epoch 85/100\n",
      "3/3 [==============================] - 0s 16ms/step - loss: 9.1712 - val_loss: 9.2273\n",
      "Epoch 86/100\n",
      "3/3 [==============================] - 0s 26ms/step - loss: 9.1265 - val_loss: 9.8957\n",
      "Epoch 87/100\n",
      "3/3 [==============================] - 0s 16ms/step - loss: 9.3278 - val_loss: 10.0414\n",
      "Epoch 88/100\n",
      "3/3 [==============================] - 0s 18ms/step - loss: 9.1126 - val_loss: 9.0870\n",
      "Epoch 89/100\n",
      "3/3 [==============================] - 0s 22ms/step - loss: 8.9114 - val_loss: 8.3953\n",
      "Epoch 90/100\n",
      "3/3 [==============================] - 0s 18ms/step - loss: 9.1043 - val_loss: 8.2591\n",
      "Epoch 91/100\n",
      "3/3 [==============================] - 0s 14ms/step - loss: 9.3314 - val_loss: 8.5839\n",
      "Epoch 92/100\n",
      "3/3 [==============================] - 0s 21ms/step - loss: 8.9125 - val_loss: 9.0141\n",
      "Epoch 93/100\n",
      "3/3 [==============================] - 0s 22ms/step - loss: 9.0403 - val_loss: 8.6886\n",
      "Epoch 94/100\n",
      "3/3 [==============================] - 0s 25ms/step - loss: 9.0076 - val_loss: 8.6042\n",
      "Epoch 95/100\n",
      "3/3 [==============================] - 0s 18ms/step - loss: 9.0540 - val_loss: 8.3247\n",
      "Epoch 96/100\n",
      "3/3 [==============================] - 0s 18ms/step - loss: 9.2312 - val_loss: 8.2533\n",
      "Epoch 97/100\n",
      "3/3 [==============================] - 0s 20ms/step - loss: 9.3286 - val_loss: 8.4042\n",
      "Epoch 98/100\n",
      "3/3 [==============================] - 0s 18ms/step - loss: 9.0322 - val_loss: 8.9823\n",
      "Epoch 99/100\n",
      "3/3 [==============================] - 0s 21ms/step - loss: 9.0770 - val_loss: 8.7021\n",
      "Epoch 100/100\n",
      "3/3 [==============================] - 0s 21ms/step - loss: 8.9525 - val_loss: 8.5852\n"
     ]
    }
   ],
   "source": [
    "history = model.fit(X_train, y_train, epochs=100,\n",
    "                    validation_data=(X_valid, y_valid))"
   ]
  },
  {
   "cell_type": "code",
   "execution_count": 21,
   "id": "4d550f88",
   "metadata": {},
   "outputs": [
    {
     "name": "stdout",
     "output_type": "stream",
     "text": [
      "Saving figure grid_num_training_curve\n"
     ]
    },
    {
     "data": {
      "image/png": "[encoded data removed]",
      "text/plain": [
       "<Figure size 576x360 with 1 Axes>"
      ]
     },
     "metadata": {
      "needs_background": "light"
     },
     "output_type": "display_data"
    }
   ],
   "source": [
    "import pandas as pd\n",
    "\n",
    "pd.DataFrame(history.history).plot(figsize=(8, 5))\n",
    "plt.grid(True)\n",
    "# plt.gca().set_ylim(0, 1)\n",
    "save_fig(\"grid_num_training_curve\")\n",
    "plt.show()"
   ]
  },
  {
   "cell_type": "code",
   "execution_count": 22,
   "id": "5487653c",
   "metadata": {},
   "outputs": [
    {
     "name": "stdout",
     "output_type": "stream",
     "text": [
      "X.shape = (None, 1)\n",
      "gauss_grid.shape = (None, 5)\n",
      "Saving figure grid_num_prediction\n"
     ]
    },
    {
     "data": {
      "image/png": "[encoded data removed]",
      "text/plain": [
       "<Figure size 432x288 with 1 Axes>"
      ]
     },
     "metadata": {
      "needs_background": "light"
     },
     "output_type": "display_data"
    }
   ],
   "source": [
    "# X_new = np.linspace(-5, 5, 100).reshape(100, 1)\n",
    "# y_new = model.predict(X_new)\n",
    "#\n",
    "# plt.plot(X_train, y_train, \"b.\")\n",
    "draw_points(X_train, y_train, sid_train)\n",
    "# plt.plot(X_new, y_new, \"r-\", linewidth=2, label=\"Predictions\")\n",
    "draw_func(model.predict, mark='r-', linewidth=2, label=\"Predictions\")\n",
    "draw_normal_func(func_dict)\n",
    "plt.xlabel(\"$x_1$\", fontsize=18)\n",
    "plt.ylabel(\"$y$\", rotation=0, fontsize=18)\n",
    "plt.legend(loc=\"upper left\", fontsize=14)\n",
    "# plt.axis([-3, 3, 0, 10])\n",
    "save_fig(\"grid_num_prediction\")\n",
    "plt.show()"
   ]
  },
  {
   "cell_type": "code",
   "execution_count": 23,
   "id": "f9c053a4",
   "metadata": {},
   "outputs": [
    {
     "name": "stdout",
     "output_type": "stream",
     "text": [
      "y_func.shape = (100, 1)\n",
      "y_gt.shape = (100, 1)\n"
     ]
    },
    {
     "data": {
      "text/plain": [
       "3.805653321265449"
      ]
     },
     "execution_count": 23,
     "metadata": {},
     "output_type": "execute_result"
    }
   ],
   "source": [
    "get_prediction_error(model.predict, func_dict, name=\"grid-num\")"
   ]
  },
  {
   "cell_type": "markdown",
   "id": "fe65d614",
   "metadata": {},
   "source": [
    "# Grid & Regression by Classification (grid --> grid)"
   ]
  },
  {
   "cell_type": "code",
   "execution_count": 24,
   "id": "3d35615e",
   "metadata": {},
   "outputs": [],
   "source": [
    "class num2grid_np():\n",
    "    def __init__(self, units, x_min=-10, x_max=10, sigma=1.0):\n",
    "        self.units = units\n",
    "        self.x_min = x_min\n",
    "        self.x_max = x_max\n",
    "        self.sigma = sigma\n",
    "        self.sigma2 = self.sigma**2\n",
    "        self.x_grid = np.linspace(self.x_min, self.x_max, self.units, endpoint=True)\n",
    "        print(\"self.x_grid = %s\" % str(self.x_grid))\n",
    "        \n",
    "    def convert(self, X):\n",
    "        gauss_grid = np.exp( -(self.x_grid - X)**2 / (2.0*self.sigma2) )\n",
    "#         if len(gauss_grid.shape) == 1:\n",
    "#             gauss_grid = gauss_grid.reshape([1,-1])\n",
    "#         grid_sum = np.sum(gauss_grid, axis=1, keepdims=True)\n",
    "        grid_sum = np.sum(gauss_grid, axis=-1, keepdims=True)\n",
    "        gauss_grid = gauss_grid / grid_sum\n",
    "        return gauss_grid\n",
    "    \n",
    "    def inv_convert(self, grid):\n",
    "#         if len(grid.shape) == 1:\n",
    "#             grid = grid.reshape([1,-1])\n",
    "#         grid_sum = np.sum(grid, axis=1)\n",
    "        grid_sum = np.sum(grid, axis=-1)\n",
    "#         print(grid_sum)\n",
    "        exp_num = np.sum((self.x_grid * grid), axis=-1) / grid_sum # element-wise\n",
    "        return exp_num\n",
    "    \n",
    "    def get_statistic(self, grid):\n",
    "        grid_sum = np.sum(grid, axis=-1)\n",
    "        _mean = np.sum((self.x_grid * grid), axis=-1) / grid_sum # element-wise\n",
    "        _var  = np.sum( ((self.x_grid.reshape((1,-1)) - _mean.reshape((-1,1)))**2 * grid), axis=-1) / grid_sum # element-wise\n",
    "        # print(\"(_mean, _var) = (%f, %f)\" % (_mean, _var))\n",
    "        _stddev = np.sqrt(_var)\n",
    "        return _mean, _stddev"
   ]
  },
  {
   "cell_type": "code",
   "execution_count": 25,
   "id": "4903180b",
   "metadata": {},
   "outputs": [
    {
     "name": "stdout",
     "output_type": "stream",
     "text": [
      "self.x_grid = [-100.          -95.91836735  -91.83673469  -87.75510204  -83.67346939\n",
      "  -79.59183673  -75.51020408  -71.42857143  -67.34693878  -63.26530612\n",
      "  -59.18367347  -55.10204082  -51.02040816  -46.93877551  -42.85714286\n",
      "  -38.7755102   -34.69387755  -30.6122449   -26.53061224  -22.44897959\n",
      "  -18.36734694  -14.28571429  -10.20408163   -6.12244898   -2.04081633\n",
      "    2.04081633    6.12244898   10.20408163   14.28571429   18.36734694\n",
      "   22.44897959   26.53061224   30.6122449    34.69387755   38.7755102\n",
      "   42.85714286   46.93877551   51.02040816   55.10204082   59.18367347\n",
      "   63.26530612   67.34693878   71.42857143   75.51020408   79.59183673\n",
      "   83.67346939   87.75510204   91.83673469   95.91836735  100.        ]\n"
     ]
    }
   ],
   "source": [
    "# class_num = 10 # 10\n",
    "# n2g = num2grid_np(class_num, x_min=-100.0, x_max=100.0, sigma=20.0) # 20.0\n",
    "# class_num = 20\n",
    "# n2g = num2grid_np(class_num, x_min=-100.0, x_max=100.0, sigma=15.0) # 20.0\n",
    "class_num = 50\n",
    "n2g = num2grid_np(class_num, x_min=-100.0, x_max=100.0, sigma=6.0) # 5.0 "
   ]
  },
  {
   "cell_type": "code",
   "execution_count": 26,
   "id": "dce05258",
   "metadata": {},
   "outputs": [
    {
     "name": "stdout",
     "output_type": "stream",
     "text": [
      "[[3.57995092e-60 2.08100846e-55 7.61538914e-51 1.75441300e-46\n",
      "  2.54444491e-42 2.32314196e-38 1.33530332e-34 4.83176258e-31\n",
      "  1.10065884e-27 1.57841554e-24 1.42498879e-21 8.09884396e-19\n",
      "  2.89771784e-16 6.52695532e-14 9.25521826e-12 8.26198061e-10\n",
      "  4.64304784e-08 1.64264466e-06 3.65852120e-05 5.12966502e-04\n",
      "  4.52786966e-03 2.51605603e-02 8.80173281e-02 1.93837381e-01\n",
      "  2.68737559e-01 2.34552834e-01 1.28876722e-01 4.45789421e-02\n",
      "  9.70748025e-03 1.33077537e-03 1.14848275e-04 6.23972825e-06\n",
      "  2.13416679e-07 4.59528573e-09 6.22899760e-11 5.31551427e-13\n",
      "  2.85557712e-15 9.65748361e-18 2.05615356e-20 2.75593262e-23\n",
      "  2.32542921e-26 1.23526215e-29 4.13082337e-33 8.69632169e-37\n",
      "  1.15254011e-40 9.61607812e-45 5.05081425e-49 1.67011468e-53\n",
      "  3.47658354e-58 4.55596654e-63]]\n"
     ]
    }
   ],
   "source": [
    "# grid_1 = n2g.convert(-1.2)\n",
    "grid_1 = n2g.convert([[-1.2]])\n",
    "print(grid_1)"
   ]
  },
  {
   "cell_type": "code",
   "execution_count": 27,
   "id": "48203fe2",
   "metadata": {},
   "outputs": [
    {
     "data": {
      "text/plain": [
       "array([-1.2])"
      ]
     },
     "execution_count": 27,
     "metadata": {},
     "output_type": "execute_result"
    }
   ],
   "source": [
    "n2g.inv_convert(grid_1)"
   ]
  },
  {
   "cell_type": "code",
   "execution_count": 28,
   "id": "a741b6d1",
   "metadata": {},
   "outputs": [
    {
     "data": {
      "text/plain": [
       "(array([-1.2]), array([6.]))"
      ]
     },
     "execution_count": 28,
     "metadata": {},
     "output_type": "execute_result"
    }
   ],
   "source": [
    "n2g.get_statistic(grid_1)"
   ]
  },
  {
   "cell_type": "markdown",
   "id": "bdc0b9a0",
   "metadata": {},
   "source": [
    "### Convert the labels to grid (pre-processing)"
   ]
  },
  {
   "cell_type": "code",
   "execution_count": 29,
   "id": "39c7fa96",
   "metadata": {},
   "outputs": [],
   "source": [
    "y_train_grid = n2g.convert(y_train)\n",
    "y_valid_grid = n2g.convert(y_valid)"
   ]
  },
  {
   "cell_type": "code",
   "execution_count": 30,
   "id": "f577a751",
   "metadata": {},
   "outputs": [
    {
     "name": "stdout",
     "output_type": "stream",
     "text": [
      "(80, 50)\n",
      "(20, 50)\n"
     ]
    }
   ],
   "source": [
    "print(y_train_grid.shape)\n",
    "print(y_valid_grid.shape)"
   ]
  },
  {
   "cell_type": "code",
   "execution_count": 31,
   "id": "71610af1",
   "metadata": {},
   "outputs": [
    {
     "name": "stdout",
     "output_type": "stream",
     "text": [
      "X.shape = (None, 1)\n",
      "gauss_grid.shape = (None, 5)\n"
     ]
    },
    {
     "name": "stderr",
     "output_type": "stream",
     "text": [
      "C:\\Users\\benso\\anaconda3\\envs\\ml\\lib\\site-packages\\keras\\optimizer_v2\\gradient_descent.py:102: UserWarning: The `lr` argument is deprecated, use `learning_rate` instead.\n",
      "  super(SGD, self).__init__(name, **kwargs)\n"
     ]
    }
   ],
   "source": [
    "model = keras.models.Sequential([\n",
    "#     keras.layers.Dense(30, activation=\"relu\", input_shape=X_train.shape[1:]),\n",
    "    num2grid(5,x_min=-10, x_max=10, sigma=3.0, input_shape=X_train.shape[1:]),\n",
    "    keras.layers.Dense(30, activation=\"relu\"),\n",
    "#     keras.layers.Dense(100, activation=\"relu\", kernel_regularizer=tf.keras.regularizers.l1(0.01)),\n",
    "    keras.layers.Dense(class_num, activation=\"softmax\"),\n",
    "])\n",
    "\n",
    "optimizer = keras.optimizers.SGD(lr=0.2, momentum=0.9)\n",
    "model.compile(loss=\"categorical_crossentropy\", optimizer=optimizer)"
   ]
  },
  {
   "cell_type": "code",
   "execution_count": 32,
   "id": "e2244aee",
   "metadata": {
    "scrolled": true
   },
   "outputs": [
    {
     "name": "stdout",
     "output_type": "stream",
     "text": [
      "Epoch 1/100\n",
      "X.shape = (None, 1)\n",
      "gauss_grid.shape = (None, 5)\n",
      "X.shape = (None, 1)\n",
      "gauss_grid.shape = (None, 5)\n",
      "1/3 [=========>....................] - ETA: 0s - loss: 3.9193X.shape = (None, 1)\n",
      "gauss_grid.shape = (None, 5)\n",
      "3/3 [==============================] - 1s 88ms/step - loss: 3.9109 - val_loss: 3.8916\n",
      "Epoch 2/100\n",
      "3/3 [==============================] - 0s 17ms/step - loss: 3.8665 - val_loss: 3.8487\n",
      "Epoch 3/100\n",
      "3/3 [==============================] - 0s 31ms/step - loss: 3.8014 - val_loss: 3.8003\n",
      "Epoch 4/100\n",
      "3/3 [==============================] - 0s 28ms/step - loss: 3.7130 - val_loss: 3.7577\n",
      "Epoch 5/100\n",
      "3/3 [==============================] - 0s 31ms/step - loss: 3.6228 - val_loss: 3.7192\n",
      "Epoch 6/100\n",
      "3/3 [==============================] - 0s 33ms/step - loss: 3.5154 - val_loss: 3.6763\n",
      "Epoch 7/100\n",
      "3/3 [==============================] - 0s 20ms/step - loss: 3.4077 - val_loss: 3.6244\n",
      "Epoch 8/100\n",
      "3/3 [==============================] - 0s 18ms/step - loss: 3.3157 - val_loss: 3.5501\n",
      "Epoch 9/100\n",
      "3/3 [==============================] - 0s 37ms/step - loss: 3.2242 - val_loss: 3.4326\n",
      "Epoch 10/100\n",
      "3/3 [==============================] - 0s 37ms/step - loss: 3.1432 - val_loss: 3.2993\n",
      "Epoch 11/100\n",
      "3/3 [==============================] - 0s 21ms/step - loss: 3.0734 - val_loss: 3.1935\n",
      "Epoch 12/100\n",
      "3/3 [==============================] - 0s 18ms/step - loss: 3.0336 - val_loss: 3.1186\n",
      "Epoch 13/100\n",
      "3/3 [==============================] - 0s 18ms/step - loss: 2.9922 - val_loss: 3.0455\n",
      "Epoch 14/100\n",
      "3/3 [==============================] - 0s 19ms/step - loss: 2.9585 - val_loss: 3.0358\n",
      "Epoch 15/100\n",
      "3/3 [==============================] - 0s 21ms/step - loss: 2.9373 - val_loss: 3.0173\n",
      "Epoch 16/100\n",
      "3/3 [==============================] - 0s 19ms/step - loss: 2.9091 - val_loss: 2.9990\n",
      "Epoch 17/100\n",
      "3/3 [==============================] - 0s 16ms/step - loss: 2.8727 - val_loss: 3.0267\n",
      "Epoch 18/100\n",
      "3/3 [==============================] - 0s 17ms/step - loss: 2.8557 - val_loss: 3.0323\n",
      "Epoch 19/100\n",
      "3/3 [==============================] - 0s 20ms/step - loss: 2.8292 - val_loss: 3.0183\n",
      "Epoch 20/100\n",
      "3/3 [==============================] - 0s 17ms/step - loss: 2.8107 - val_loss: 2.9721\n",
      "Epoch 21/100\n",
      "3/3 [==============================] - 0s 19ms/step - loss: 2.7774 - val_loss: 2.9222\n",
      "Epoch 22/100\n",
      "3/3 [==============================] - 0s 19ms/step - loss: 2.7554 - val_loss: 2.8916\n",
      "Epoch 23/100\n",
      "3/3 [==============================] - 0s 17ms/step - loss: 2.7356 - val_loss: 2.8953\n",
      "Epoch 24/100\n",
      "3/3 [==============================] - 0s 21ms/step - loss: 2.7199 - val_loss: 2.9264\n",
      "Epoch 25/100\n",
      "3/3 [==============================] - 0s 20ms/step - loss: 2.7021 - val_loss: 2.9322\n",
      "Epoch 26/100\n",
      "3/3 [==============================] - 0s 17ms/step - loss: 2.6731 - val_loss: 2.9081\n",
      "Epoch 27/100\n",
      "3/3 [==============================] - 0s 16ms/step - loss: 2.6706 - val_loss: 2.8677\n",
      "Epoch 28/100\n",
      "3/3 [==============================] - 0s 16ms/step - loss: 2.6628 - val_loss: 2.8263\n",
      "Epoch 29/100\n",
      "3/3 [==============================] - 0s 17ms/step - loss: 2.6480 - val_loss: 2.7985\n",
      "Epoch 30/100\n",
      "3/3 [==============================] - 0s 21ms/step - loss: 2.6345 - val_loss: 2.8079\n",
      "Epoch 31/100\n",
      "3/3 [==============================] - 0s 19ms/step - loss: 2.6223 - val_loss: 2.8527\n",
      "Epoch 32/100\n",
      "3/3 [==============================] - 0s 19ms/step - loss: 2.6049 - val_loss: 2.8453\n",
      "Epoch 33/100\n",
      "3/3 [==============================] - 0s 22ms/step - loss: 2.6002 - val_loss: 2.7806\n",
      "Epoch 34/100\n",
      "3/3 [==============================] - 0s 20ms/step - loss: 2.5944 - val_loss: 2.6957\n",
      "Epoch 35/100\n",
      "3/3 [==============================] - 0s 19ms/step - loss: 2.5788 - val_loss: 2.6924\n",
      "Epoch 36/100\n",
      "3/3 [==============================] - 0s 17ms/step - loss: 2.5682 - val_loss: 2.7325\n",
      "Epoch 37/100\n",
      "3/3 [==============================] - 0s 18ms/step - loss: 2.5604 - val_loss: 2.7592\n",
      "Epoch 38/100\n",
      "3/3 [==============================] - 0s 19ms/step - loss: 2.5541 - val_loss: 2.7733\n",
      "Epoch 39/100\n",
      "3/3 [==============================] - 0s 17ms/step - loss: 2.5453 - val_loss: 2.7541\n",
      "Epoch 40/100\n",
      "3/3 [==============================] - 0s 22ms/step - loss: 2.5646 - val_loss: 2.6819\n",
      "Epoch 41/100\n",
      "3/3 [==============================] - 0s 17ms/step - loss: 2.5489 - val_loss: 2.7379\n",
      "Epoch 42/100\n",
      "3/3 [==============================] - 0s 16ms/step - loss: 2.5328 - val_loss: 2.6823\n",
      "Epoch 43/100\n",
      "3/3 [==============================] - 0s 16ms/step - loss: 2.5169 - val_loss: 2.6687\n",
      "Epoch 44/100\n",
      "3/3 [==============================] - 0s 20ms/step - loss: 2.5061 - val_loss: 2.7299\n",
      "Epoch 45/100\n",
      "3/3 [==============================] - 0s 20ms/step - loss: 2.5177 - val_loss: 2.7224\n",
      "Epoch 46/100\n",
      "3/3 [==============================] - 0s 19ms/step - loss: 2.5115 - val_loss: 2.6957\n",
      "Epoch 47/100\n",
      "3/3 [==============================] - 0s 21ms/step - loss: 2.5061 - val_loss: 2.6930\n",
      "Epoch 48/100\n",
      "3/3 [==============================] - 0s 16ms/step - loss: 2.4909 - val_loss: 2.6648\n",
      "Epoch 49/100\n",
      "3/3 [==============================] - 0s 20ms/step - loss: 2.4888 - val_loss: 2.6679\n",
      "Epoch 50/100\n",
      "3/3 [==============================] - 0s 17ms/step - loss: 2.4849 - val_loss: 2.7354\n",
      "Epoch 51/100\n",
      "3/3 [==============================] - 0s 18ms/step - loss: 2.4815 - val_loss: 2.6667\n",
      "Epoch 52/100\n",
      "3/3 [==============================] - 0s 21ms/step - loss: 2.4738 - val_loss: 2.6647\n",
      "Epoch 53/100\n",
      "3/3 [==============================] - 0s 18ms/step - loss: 2.4593 - val_loss: 2.7158\n",
      "Epoch 54/100\n",
      "3/3 [==============================] - 0s 17ms/step - loss: 2.4788 - val_loss: 2.6701\n",
      "Epoch 55/100\n",
      "3/3 [==============================] - 0s 16ms/step - loss: 2.4816 - val_loss: 2.6275\n",
      "Epoch 56/100\n",
      "3/3 [==============================] - 0s 18ms/step - loss: 2.4608 - val_loss: 2.7011\n",
      "Epoch 57/100\n",
      "3/3 [==============================] - 0s 21ms/step - loss: 2.4756 - val_loss: 2.6973\n",
      "Epoch 58/100\n",
      "3/3 [==============================] - 0s 16ms/step - loss: 2.4684 - val_loss: 2.6168\n",
      "Epoch 59/100\n",
      "3/3 [==============================] - 0s 20ms/step - loss: 2.4700 - val_loss: 2.5713\n",
      "Epoch 60/100\n",
      "3/3 [==============================] - 0s 17ms/step - loss: 2.4616 - val_loss: 2.6574\n",
      "Epoch 61/100\n",
      "3/3 [==============================] - 0s 21ms/step - loss: 2.4590 - val_loss: 2.7230\n",
      "Epoch 62/100\n",
      "3/3 [==============================] - 0s 17ms/step - loss: 2.4559 - val_loss: 2.6508\n",
      "Epoch 63/100\n",
      "3/3 [==============================] - 0s 18ms/step - loss: 2.4464 - val_loss: 2.6361\n",
      "Epoch 64/100\n",
      "3/3 [==============================] - 0s 18ms/step - loss: 2.4434 - val_loss: 2.5844\n",
      "Epoch 65/100\n",
      "3/3 [==============================] - 0s 15ms/step - loss: 2.4339 - val_loss: 2.5634\n",
      "Epoch 66/100\n",
      "3/3 [==============================] - 0s 20ms/step - loss: 2.4431 - val_loss: 2.6309\n",
      "Epoch 67/100\n",
      "3/3 [==============================] - 0s 17ms/step - loss: 2.4431 - val_loss: 2.6968\n",
      "Epoch 68/100\n",
      "3/3 [==============================] - 0s 17ms/step - loss: 2.4291 - val_loss: 2.6642\n",
      "Epoch 69/100\n",
      "3/3 [==============================] - 0s 17ms/step - loss: 2.4448 - val_loss: 2.6542\n",
      "Epoch 70/100\n",
      "3/3 [==============================] - 0s 21ms/step - loss: 2.4422 - val_loss: 2.6542\n",
      "Epoch 71/100\n",
      "3/3 [==============================] - 0s 16ms/step - loss: 2.4401 - val_loss: 2.6254\n",
      "Epoch 72/100\n",
      "3/3 [==============================] - 0s 17ms/step - loss: 2.4388 - val_loss: 2.6007\n",
      "Epoch 73/100\n",
      "3/3 [==============================] - 0s 19ms/step - loss: 2.4671 - val_loss: 2.5570\n",
      "Epoch 74/100\n",
      "3/3 [==============================] - 0s 16ms/step - loss: 2.4489 - val_loss: 2.6749\n",
      "Epoch 75/100\n",
      "3/3 [==============================] - 0s 18ms/step - loss: 2.4369 - val_loss: 2.7105\n",
      "Epoch 76/100\n",
      "3/3 [==============================] - 0s 17ms/step - loss: 2.4299 - val_loss: 2.5727\n",
      "Epoch 77/100\n",
      "3/3 [==============================] - 0s 16ms/step - loss: 2.4237 - val_loss: 2.5668\n",
      "Epoch 78/100\n",
      "3/3 [==============================] - 0s 17ms/step - loss: 2.4172 - val_loss: 2.6763\n",
      "Epoch 79/100\n",
      "3/3 [==============================] - 0s 16ms/step - loss: 2.4214 - val_loss: 2.6260\n",
      "Epoch 80/100\n",
      "3/3 [==============================] - 0s 17ms/step - loss: 2.4227 - val_loss: 2.6657\n",
      "Epoch 81/100\n"
     ]
    },
    {
     "name": "stdout",
     "output_type": "stream",
     "text": [
      "3/3 [==============================] - 0s 18ms/step - loss: 2.4044 - val_loss: 2.6245\n",
      "Epoch 82/100\n",
      "3/3 [==============================] - 0s 16ms/step - loss: 2.4150 - val_loss: 2.5959\n",
      "Epoch 83/100\n",
      "3/3 [==============================] - 0s 16ms/step - loss: 2.4000 - val_loss: 2.5934\n",
      "Epoch 84/100\n",
      "3/3 [==============================] - 0s 17ms/step - loss: 2.4046 - val_loss: 2.5799\n",
      "Epoch 85/100\n",
      "3/3 [==============================] - 0s 20ms/step - loss: 2.4024 - val_loss: 2.5776\n",
      "Epoch 86/100\n",
      "3/3 [==============================] - 0s 21ms/step - loss: 2.3979 - val_loss: 2.5681\n",
      "Epoch 87/100\n",
      "3/3 [==============================] - 0s 17ms/step - loss: 2.3999 - val_loss: 2.5642\n",
      "Epoch 88/100\n",
      "3/3 [==============================] - 0s 20ms/step - loss: 2.3988 - val_loss: 2.5553\n",
      "Epoch 89/100\n",
      "3/3 [==============================] - 0s 19ms/step - loss: 2.4193 - val_loss: 2.5195\n",
      "Epoch 90/100\n",
      "3/3 [==============================] - 0s 21ms/step - loss: 2.4125 - val_loss: 2.5361\n",
      "Epoch 91/100\n",
      "3/3 [==============================] - 0s 18ms/step - loss: 2.3961 - val_loss: 2.5904\n",
      "Epoch 92/100\n",
      "3/3 [==============================] - 0s 19ms/step - loss: 2.4257 - val_loss: 2.6505\n",
      "Epoch 93/100\n",
      "3/3 [==============================] - 0s 20ms/step - loss: 2.3999 - val_loss: 2.5510\n",
      "Epoch 94/100\n",
      "3/3 [==============================] - 0s 16ms/step - loss: 2.3943 - val_loss: 2.5433\n",
      "Epoch 95/100\n",
      "3/3 [==============================] - 0s 17ms/step - loss: 2.3849 - val_loss: 2.6128\n",
      "Epoch 96/100\n",
      "3/3 [==============================] - 0s 21ms/step - loss: 2.4104 - val_loss: 2.5656\n",
      "Epoch 97/100\n",
      "3/3 [==============================] - 0s 20ms/step - loss: 2.3833 - val_loss: 2.5192\n",
      "Epoch 98/100\n",
      "3/3 [==============================] - 0s 19ms/step - loss: 2.4046 - val_loss: 2.5842\n",
      "Epoch 99/100\n",
      "3/3 [==============================] - 0s 19ms/step - loss: 2.3930 - val_loss: 2.5081\n",
      "Epoch 100/100\n",
      "3/3 [==============================] - 0s 19ms/step - loss: 2.3710 - val_loss: 2.4832\n"
     ]
    }
   ],
   "source": [
    "history = model.fit(X_train, y_train_grid, epochs=100,\n",
    "                    validation_data=(X_valid, y_valid_grid))"
   ]
  },
  {
   "cell_type": "code",
   "execution_count": 33,
   "id": "390834c9",
   "metadata": {},
   "outputs": [
    {
     "name": "stdout",
     "output_type": "stream",
     "text": [
      "Saving figure grid_rbc_training_curve\n"
     ]
    },
    {
     "data": {
      "image/png": "[encoded data removed]",
      "text/plain": [
       "<Figure size 576x360 with 1 Axes>"
      ]
     },
     "metadata": {
      "needs_background": "light"
     },
     "output_type": "display_data"
    }
   ],
   "source": [
    "import pandas as pd\n",
    "\n",
    "pd.DataFrame(history.history).plot(figsize=(8, 5))\n",
    "plt.grid(True)\n",
    "# plt.gca().set_ylim(0, 1)\n",
    "save_fig(\"grid_rbc_training_curve\")\n",
    "plt.show()"
   ]
  },
  {
   "cell_type": "code",
   "execution_count": 34,
   "id": "6fba3b6a",
   "metadata": {},
   "outputs": [
    {
     "name": "stdout",
     "output_type": "stream",
     "text": [
      "X.shape = (None, 1)\n",
      "gauss_grid.shape = (None, 5)\n",
      "Saving figure grid_rbc_prediction\n"
     ]
    },
    {
     "data": {
      "image/png": "[encoded data removed]",
      "text/plain": [
       "<Figure size 432x288 with 1 Axes>"
      ]
     },
     "metadata": {
      "needs_background": "light"
     },
     "output_type": "display_data"
    }
   ],
   "source": [
    "# X_new = np.linspace(-5, 5, 100).reshape(100, 1)\n",
    "# y_new_proba = model.predict(X_new)\n",
    "# y_new = n2g.inv_convert(y_new_proba)\n",
    "#\n",
    "# plt.plot(X_train, y_train, \"b.\")\n",
    "draw_points(X_train, y_train, sid_train)\n",
    "# plt.plot(X_new, y_new, \"r-\", linewidth=2, label=\"Predictions\")\n",
    "draw_func((lambda X: n2g.inv_convert(model.predict(X)) ), mark='r-', linewidth=2, label=\"Predictions\")\n",
    "draw_normal_func(func_dict)\n",
    "plt.xlabel(\"$x_1$\", fontsize=18)\n",
    "plt.ylabel(\"$y$\", rotation=0, fontsize=18)\n",
    "plt.legend(loc=\"upper left\", fontsize=14)\n",
    "# plt.axis([-3, 3, 0, 10])\n",
    "save_fig(\"grid_rbc_prediction\")\n",
    "plt.show()"
   ]
  },
  {
   "cell_type": "code",
   "execution_count": 35,
   "id": "fc059ba5",
   "metadata": {},
   "outputs": [
    {
     "name": "stdout",
     "output_type": "stream",
     "text": [
      "y_func.shape = (100, 1)\n",
      "y_gt.shape = (100, 1)\n"
     ]
    },
    {
     "data": {
      "text/plain": [
       "3.5371568825500024"
      ]
     },
     "execution_count": 35,
     "metadata": {},
     "output_type": "execute_result"
    }
   ],
   "source": [
    "get_prediction_error((lambda X: n2g.inv_convert(model.predict(X)) ), func_dict, name=\"grid-rbc\")"
   ]
  },
  {
   "cell_type": "code",
   "execution_count": 36,
   "id": "edcf26db",
   "metadata": {},
   "outputs": [
    {
     "name": "stdout",
     "output_type": "stream",
     "text": [
      "Saving figure grid_rbc_proba\n"
     ]
    },
    {
     "data": {
      "image/png": "[encoded data removed]",
      "text/plain": [
       "<Figure size 432x288 with 1 Axes>"
      ]
     },
     "metadata": {
      "needs_background": "light"
     },
     "output_type": "display_data"
    }
   ],
   "source": [
    "X_new = np.linspace(-5, 5, 100).reshape(100, 1)\n",
    "y_new_proba = model.predict(X_new)\n",
    "# y_new = n2g.inv_convert(y_new_proba)\n",
    "#\n",
    "xv, yv = np.meshgrid(X_new, np.linspace(n2g.x_min, n2g.x_max, n2g.units))\n",
    "# print(xv)\n",
    "# print(yv)\n",
    "plt.pcolormesh(xv, yv, y_new_proba.T, shading=\"nearest\")\n",
    "save_fig(\"grid_rbc_proba\")"
   ]
  },
  {
   "cell_type": "markdown",
   "id": "4064d3b5",
   "metadata": {},
   "source": [
    "### Draw the 1-sigma boundary line"
   ]
  },
  {
   "cell_type": "code",
   "execution_count": 37,
   "id": "247e8712",
   "metadata": {},
   "outputs": [
    {
     "name": "stdout",
     "output_type": "stream",
     "text": [
      "Saving figure grid_rbc_prediction_1sigma\n"
     ]
    },
    {
     "data": {
      "image/png": "[encoded data removed]",
      "text/plain": [
       "<Figure size 432x288 with 1 Axes>"
      ]
     },
     "metadata": {
      "needs_background": "light"
     },
     "output_type": "display_data"
    }
   ],
   "source": [
    "def n_sigma_boundary_line(X, n):\n",
    "    _mean, _sigma = n2g.get_statistic(model.predict(X))\n",
    "    return( _mean + n*_sigma)\n",
    "\n",
    "# plt.plot(X_train, y_train, \"b.\")\n",
    "draw_points(X_train, y_train, sid_train)\n",
    "#\n",
    "draw_func((lambda X: n2g.inv_convert(model.predict(X)) ), mark='r-', linewidth=2, label=\"Predictions\")\n",
    "draw_func((lambda X: n_sigma_boundary_line(X, +1.0) ), mark='k--', linewidth=1, label=\"$\\mu+\\sigma$\")\n",
    "draw_func((lambda X: n_sigma_boundary_line(X, -1.0) ), mark='k--', linewidth=1, label=\"$\\mu-\\sigma$\")\n",
    "#\n",
    "draw_normal_func(func_dict)\n",
    "plt.xlabel(\"$x_1$\", fontsize=18)\n",
    "plt.ylabel(\"$y$\", rotation=0, fontsize=18)\n",
    "plt.legend(loc=\"upper left\", fontsize=14)\n",
    "# plt.axis([-3, 3, 0, 10])\n",
    "save_fig(\"grid_rbc_prediction_1sigma\")\n",
    "plt.show()"
   ]
  },
  {
   "cell_type": "code",
   "execution_count": null,
   "id": "e6266336",
   "metadata": {},
   "outputs": [],
   "source": []
  },
  {
   "cell_type": "markdown",
   "id": "99a85ab5",
   "metadata": {},
   "source": [
    "# Grid & Regression by Classification + Offset Estimation (grid --> grid,num)"
   ]
  },
  {
   "cell_type": "code",
   "execution_count": 38,
   "id": "26440167",
   "metadata": {},
   "outputs": [],
   "source": [
    "class num2gridOffset_np():\n",
    "    def __init__(self, units, x_min=-10, x_max=10):\n",
    "        self.units = units\n",
    "        self.x_min = x_min\n",
    "        self.x_max = x_max\n",
    "        self.x_grid = np.linspace(self.x_min, self.x_max, self.units, endpoint=True)\n",
    "        # bins\n",
    "        x_space = np.average(self.x_grid[1:] - self.x_grid[:-1])\n",
    "        print(\"x_space = %f\" % x_space)\n",
    "        x_0 = self.x_grid[0] - 0.5 * x_space\n",
    "        self.x_bins = [x_0 + _i*x_space for _i in range(len(self.x_grid)+1)]\n",
    "        print(\"self.x_grid = %s\" % str(self.x_grid))\n",
    "#         print(\"self.x_bins = %s\" % str(self.x_bins))\n",
    "        \n",
    "    def convert(self, X):\n",
    "        '''\n",
    "        Convert a batch of number to one-hot class and numerical offset to each grid's center\n",
    "        (m, 1) --> (m, n_units, 2)\n",
    "        '''\n",
    "        X = np.array(X)\n",
    "        if len(X.shape) <= 1:\n",
    "            X = X.reshape((-1,1))\n",
    "        idxs_bin = np.digitize(X, self.x_bins, right=False) \n",
    "        idxs_grid = (idxs_bin - 1) + 1*(idxs_bin<= 0) - 1*(idxs_bin>=self.units)\n",
    "        print(idxs_grid.shape)\n",
    "        #\n",
    "        batch_size = X.shape[0]\n",
    "        grid = np.zeros((batch_size, self.units, 2))\n",
    "        # Fill in the values\n",
    "        grid[np.arange(batch_size), idxs_grid.reshape((-1,)), 0] = 1.0\n",
    "        grid[np.arange(batch_size), :, 1] = X - self.x_grid.reshape((1,-1)) # Offset\n",
    "        return grid\n",
    "    \n",
    "    def inv_convert(self, grid):\n",
    "        idxs_grid = np.argmax(grid[...,0], axis=1)\n",
    "        print(idxs_grid.shape)\n",
    "        #\n",
    "        batch_size = grid.shape[0]\n",
    "        offset_est = grid[np.arange(batch_size),idxs_grid,1]\n",
    "        print(offset_est.shape)\n",
    "        num_est = self.x_grid[idxs_grid].reshape((1,-1)) + offset_est\n",
    "        return num_est.reshape((-1,))"
   ]
  },
  {
   "cell_type": "code",
   "execution_count": 39,
   "id": "8b15e9ff",
   "metadata": {},
   "outputs": [
    {
     "name": "stdout",
     "output_type": "stream",
     "text": [
      "x_space = 22.222222\n",
      "self.x_grid = [-100.          -77.77777778  -55.55555556  -33.33333333  -11.11111111\n",
      "   11.11111111   33.33333333   55.55555556   77.77777778  100.        ]\n"
     ]
    }
   ],
   "source": [
    "class_num = 10 # 10\n",
    "n2go = num2gridOffset_np(class_num, x_min=-100.0, x_max=100.0) "
   ]
  },
  {
   "cell_type": "code",
   "execution_count": 40,
   "id": "8f6e7955",
   "metadata": {},
   "outputs": [
    {
     "name": "stdout",
     "output_type": "stream",
     "text": [
      "(2, 1)\n",
      "[[[   0.           98.8       ]\n",
      "  [   0.           76.57777778]\n",
      "  [   0.           54.35555556]\n",
      "  [   0.           32.13333333]\n",
      "  [   1.            9.91111111]\n",
      "  [   0.          -12.31111111]\n",
      "  [   0.          -34.53333333]\n",
      "  [   0.          -56.75555556]\n",
      "  [   0.          -78.97777778]\n",
      "  [   0.         -101.2       ]]\n",
      "\n",
      " [[   0.          150.5       ]\n",
      "  [   0.          128.27777778]\n",
      "  [   0.          106.05555556]\n",
      "  [   0.           83.83333333]\n",
      "  [   0.           61.61111111]\n",
      "  [   0.           39.38888889]\n",
      "  [   0.           17.16666667]\n",
      "  [   1.           -5.05555556]\n",
      "  [   0.          -27.27777778]\n",
      "  [   0.          -49.5       ]]]\n"
     ]
    }
   ],
   "source": [
    "# grid_1 = n2g.convert(-1.2)\n",
    "grid_1 = n2go.convert([[-1.2], [50.5]])\n",
    "print(grid_1)"
   ]
  },
  {
   "cell_type": "code",
   "execution_count": 41,
   "id": "48840dc5",
   "metadata": {},
   "outputs": [
    {
     "name": "stdout",
     "output_type": "stream",
     "text": [
      "(2,)\n",
      "(2,)\n"
     ]
    },
    {
     "data": {
      "text/plain": [
       "array([-1.2, 50.5])"
      ]
     },
     "execution_count": 41,
     "metadata": {},
     "output_type": "execute_result"
    }
   ],
   "source": [
    "n2go.inv_convert(grid_1)"
   ]
  },
  {
   "cell_type": "markdown",
   "id": "11683cea",
   "metadata": {},
   "source": [
    "### Convert the labels to grid (pre-processing)"
   ]
  },
  {
   "cell_type": "code",
   "execution_count": 42,
   "id": "472997cf",
   "metadata": {},
   "outputs": [
    {
     "name": "stdout",
     "output_type": "stream",
     "text": [
      "(80, 1)\n",
      "(20, 1)\n"
     ]
    }
   ],
   "source": [
    "y_train_grid_offset = n2go.convert(y_train)\n",
    "y_valid_grid_offset = n2go.convert(y_valid)"
   ]
  },
  {
   "cell_type": "code",
   "execution_count": 43,
   "id": "71f08d76",
   "metadata": {},
   "outputs": [
    {
     "name": "stdout",
     "output_type": "stream",
     "text": [
      "(80, 10, 2)\n",
      "(20, 10, 2)\n"
     ]
    }
   ],
   "source": [
    "print(y_train_grid_offset.shape)\n",
    "print(y_valid_grid_offset.shape)"
   ]
  },
  {
   "cell_type": "code",
   "execution_count": 44,
   "id": "84b5b833",
   "metadata": {},
   "outputs": [
    {
     "name": "stdout",
     "output_type": "stream",
     "text": [
      "X.shape = (None, 1)\n",
      "gauss_grid.shape = (None, 5)\n"
     ]
    }
   ],
   "source": [
    "inputs = keras.layers.Input(shape=X_train.shape[1:])\n",
    "#\n",
    "z = num2grid(5,x_min=-10, x_max=10, sigma=3.0)(inputs)\n",
    "z = keras.layers.Dense(30, activation=\"selu\")(z)\n",
    "# Outputs\n",
    "z_proba = keras.layers.Dense(30, activation=\"relu\")(z)\n",
    "z_proba  = keras.layers.Dense(class_num, activation=\"softmax\")(z_proba)\n",
    "z_offset = keras.layers.Dense(class_num, activation=\"relu\")(z)\n",
    "z_offset = keras.layers.Dense(class_num)(z_offset)\n",
    "# Concatenate\n",
    "z_proba  = keras.layers.Reshape([class_num,1])(z_proba)\n",
    "z_offset = keras.layers.Reshape([class_num,1])(z_offset)\n",
    "out_cat = keras.layers.Concatenate(axis=-1)([z_proba, z_offset])\n",
    "#\n",
    "# Models for trainig and real usage\n",
    "model = keras.Model(inputs=[inputs], outputs=[out_cat])"
   ]
  },
  {
   "cell_type": "code",
   "execution_count": 45,
   "id": "e6482574",
   "metadata": {},
   "outputs": [],
   "source": [
    "# Customized loss function\n",
    "\n",
    "cce = keras.losses.CategoricalCrossentropy(reduction=keras.losses.Reduction.NONE)\n",
    "# cce(y_true, y_pred).numpy()\n",
    "\n",
    "def centerLoss_fn(y_true, y_pred):\n",
    "    #\n",
    "    y_true_proba = y_true[...,0]\n",
    "    y_true_value = y_true[...,1]\n",
    "    #\n",
    "    y_pred_proba = y_pred[...,0]\n",
    "    y_pred_value = y_pred[...,1]\n",
    "    \n",
    "    #\n",
    "    cce_loss = cce(y_true_proba, y_pred_proba) / class_num\n",
    "    #\n",
    "    y_true_value_est = tf.reduce_sum((y_true_proba * y_true_value), axis=-1)\n",
    "    y_pred_value_est = tf.reduce_sum((y_true_proba * y_pred_value), axis=-1)\n",
    "#     y_pred_value_est = tf.reduce_sum((y_pred_proba * y_pred_value), axis=-1)\n",
    "    value_loss = tf.abs(y_pred_value_est - y_true_value_est)\n",
    "    \n",
    "    # Total loss\n",
    "#     return (0.5*cce_loss + 0.5*value_loss )\n",
    "    return (0.2*cce_loss + 0.8*value_loss )\n",
    "#     return (cce_loss)\n",
    "#     return (value_loss )"
   ]
  },
  {
   "cell_type": "code",
   "execution_count": 46,
   "id": "60575755",
   "metadata": {},
   "outputs": [
    {
     "name": "stderr",
     "output_type": "stream",
     "text": [
      "C:\\Users\\benso\\anaconda3\\envs\\ml\\lib\\site-packages\\keras\\optimizer_v2\\adam.py:105: UserWarning: The `lr` argument is deprecated, use `learning_rate` instead.\n",
      "  super(Adam, self).__init__(name, **kwargs)\n"
     ]
    }
   ],
   "source": [
    "# optimizer = keras.optimizers.SGD(lr=0.1, momentum=0.9)\n",
    "optimizer = keras.optimizers.Adam(lr=0.05)\n",
    "model.compile(loss=centerLoss_fn, optimizer=optimizer)"
   ]
  },
  {
   "cell_type": "code",
   "execution_count": 47,
   "id": "09bc47a5",
   "metadata": {
    "scrolled": true
   },
   "outputs": [],
   "source": [
    "# history = model.fit(X_train, y_train_grid_offset, epochs=100,\n",
    "#                     validation_data=(X_valid, y_valid_grid_offset))"
   ]
  },
  {
   "cell_type": "code",
   "execution_count": 48,
   "id": "7ba1fe76",
   "metadata": {},
   "outputs": [],
   "source": [
    "# import pandas as pd\n",
    "\n",
    "# pd.DataFrame(history.history).plot(figsize=(8, 5))\n",
    "# plt.grid(True)\n",
    "# # plt.gca().set_ylim(0, 1)\n",
    "# save_fig(\"grid_rbcOffset_training_curve\")\n",
    "# plt.show()"
   ]
  },
  {
   "cell_type": "code",
   "execution_count": 49,
   "id": "47db8336",
   "metadata": {
    "scrolled": false
   },
   "outputs": [],
   "source": [
    "# # plt.plot(X_train, y_train, \"b.\")\n",
    "# draw_points(X_train, y_train, sid_train)\n",
    "# draw_func((lambda X: n2go.inv_convert(model.predict(X)) ), mark='r-', linewidth=2, label=\"Predictions\")\n",
    "# draw_normal_func(func_dict)\n",
    "# plt.xlabel(\"$x_1$\", fontsize=18)\n",
    "# plt.ylabel(\"$y$\", rotation=0, fontsize=18)\n",
    "# plt.legend(loc=\"upper left\", fontsize=14)\n",
    "# # plt.axis([-3, 3, 0, 10])\n",
    "# save_fig(\"grid_rbcOffset_prediction\")\n",
    "# plt.show()"
   ]
  },
  {
   "cell_type": "code",
   "execution_count": 50,
   "id": "46a1a384",
   "metadata": {},
   "outputs": [],
   "source": [
    "# get_prediction_error((lambda X: n2go.inv_convert(model.predict(X)) ), func_dict, name=\"grid-classOffset\")"
   ]
  },
  {
   "cell_type": "code",
   "execution_count": null,
   "id": "fff995a6",
   "metadata": {},
   "outputs": [],
   "source": []
  },
  {
   "cell_type": "markdown",
   "id": "a811f344",
   "metadata": {},
   "source": [
    "# Parametric Uncertainty/Distribution Estimation\n",
    "\n",
    "In this section, we try to estimate uncertainty (actually, fit the dataset distribution) with parametric reprecentation of a distribution instead of a discretized non-parametric representation.\n",
    "\n",
    "Possible solution includes\n",
    "- Quantile estimation with pinball loss (statistic)\n",
    "- Guassian distribution (fit a prabability distribution)"
   ]
  },
  {
   "cell_type": "markdown",
   "id": "175eb32d",
   "metadata": {},
   "source": [
    "## Quantile Estimation with Pinball Loss (grid --> parameters)\n",
    "\n",
    "Quantile estimation and pinball loss is based on the concept of statistic, which predict the value based on the rank of samples in the dataset.\n",
    "\n",
    "The outputs of the model are $(y_{10}, y_{90})$, 10% quantile prediction and 90% quantile prediction, respectively."
   ]
  },
  {
   "cell_type": "code",
   "execution_count": 51,
   "id": "1d1ef92d",
   "metadata": {},
   "outputs": [],
   "source": [
    "# quantile_list = [0.5]\n",
    "# quantile_list = [0.9]\n",
    "quantile_list = [0.1, 0.9] # Use hidden layer with 30 neurons\n",
    "# quantile_list = [0.05, 0.95]\n",
    "# quantile_list = [0.25, 0.75]\n",
    "# quantile_list = [0.1, 0.5, 0.9]\n",
    "# quantile_list = [0.1, 0.3, 0.7, 0.9]\n",
    "# quantile_list = [0.1, 0.2, 0.3, 0.4, 0.6, 0.7, 0.8, 0.9] # remove 0.5\n",
    "# quantile_list = [0.1, 0.2, 0.3, 0.4, 0.5, 0.6, 0.7, 0.8, 0.9] # Should use wider hidden layer (with many neurons) + L1 regularization\n",
    "num_quantile = len(quantile_list)"
   ]
  },
  {
   "cell_type": "code",
   "execution_count": 52,
   "id": "8e3fe57b",
   "metadata": {},
   "outputs": [
    {
     "name": "stdout",
     "output_type": "stream",
     "text": [
      "X.shape = (None, 1)\n",
      "gauss_grid.shape = (None, 5)\n"
     ]
    }
   ],
   "source": [
    "model = keras.models.Sequential([\n",
    "    num2grid(5,x_min=-10, x_max=10, sigma=3.0, input_shape=X_train.shape[1:]),\n",
    "#     num2grid(50,x_min=-10, x_max=10, sigma=0.5, input_shape=X_train.shape[1:]),\n",
    "    keras.layers.Dense(30, activation=\"relu\"),\n",
    "#     keras.layers.Dense(60, activation=\"relu\"),\n",
    "#     keras.layers.Dense(100, activation=\"relu\", kernel_regularizer=tf.keras.regularizers.l1(0.01)),\n",
    "#     keras.layers.Dense(30, activation=keras.layers.LeakyReLU(alpha=0.2) ),\n",
    "#     keras.layers.Dense(30, activation=\"selu\"),\n",
    "    keras.layers.Dense(num_quantile) # (y10, y90)\n",
    "])"
   ]
  },
  {
   "cell_type": "code",
   "execution_count": 53,
   "id": "bf131dc7",
   "metadata": {},
   "outputs": [],
   "source": [
    "# Customized loss function\n",
    "def pinballLoss_fn(y_true, y_pred, tau):\n",
    "    # tau: quantile, tau in [0.0, 1.0]\n",
    "    # y_true: label mean\n",
    "    # y_pred: predicted tau quantile\n",
    "    _q = y_true - y_pred\n",
    "    return tf.math.maximum( (tau*_q), ((tau-1.0)*_q))\n",
    "    \n",
    "def pinballLoss_10_90_fn(y_true, y_pred):\n",
    "    #\n",
    "    return pinballLoss_fn(y_true, y_pred[:,0:1], 0.1) + pinballLoss_fn(y_true, y_pred[:,1:2], 0.9)\n",
    "\n",
    "def pinballLoss_full_fn(y_true, y_pred):\n",
    "    #\n",
    "    pinball_losses = tf.stack( [pinballLoss_fn(y_true, y_pred[:, _i:(_i+1)], _tau) for _i, _tau in enumerate(quantile_list)], axis=1)\n",
    "    return tf.reduce_sum(pinball_losses, axis=1)"
   ]
  },
  {
   "cell_type": "code",
   "execution_count": 54,
   "id": "a71305d5",
   "metadata": {},
   "outputs": [],
   "source": [
    "# optimizer = keras.optimizers.SGD(lr=0.1, momentum=0.9)\n",
    "optimizer = keras.optimizers.Adam(lr=0.1)\n",
    "# model.compile(loss=pinballLoss_10_90_fn, optimizer=optimizer)\n",
    "model.compile(loss=pinballLoss_full_fn, optimizer=optimizer)"
   ]
  },
  {
   "cell_type": "code",
   "execution_count": 55,
   "id": "d935c409",
   "metadata": {
    "scrolled": true
   },
   "outputs": [
    {
     "name": "stdout",
     "output_type": "stream",
     "text": [
      "Epoch 1/100\n",
      "X.shape = (None, 1)\n",
      "gauss_grid.shape = (None, 5)\n",
      "X.shape = (None, 1)\n",
      "gauss_grid.shape = (None, 5)\n",
      "1/3 [=========>....................] - ETA: 0s - loss: 42.6323X.shape = (None, 1)\n",
      "gauss_grid.shape = (None, 5)\n",
      "3/3 [==============================] - 1s 81ms/step - loss: 41.2181 - val_loss: 31.6783\n",
      "Epoch 2/100\n",
      "3/3 [==============================] - 0s 21ms/step - loss: 37.1796 - val_loss: 26.7941\n",
      "Epoch 3/100\n",
      "3/3 [==============================] - 0s 34ms/step - loss: 30.6662 - val_loss: 19.7490\n",
      "Epoch 4/100\n",
      "3/3 [==============================] - 0s 34ms/step - loss: 21.8337 - val_loss: 12.5747\n",
      "Epoch 5/100\n",
      "3/3 [==============================] - 0s 46ms/step - loss: 15.7274 - val_loss: 11.1792\n",
      "Epoch 6/100\n",
      "3/3 [==============================] - 0s 71ms/step - loss: 12.9517 - val_loss: 12.9146\n",
      "Epoch 7/100\n",
      "3/3 [==============================] - 0s 79ms/step - loss: 13.5162 - val_loss: 13.1894\n",
      "Epoch 8/100\n",
      "3/3 [==============================] - 0s 72ms/step - loss: 13.3817 - val_loss: 11.9807\n",
      "Epoch 9/100\n",
      "3/3 [==============================] - 0s 129ms/step - loss: 11.9925 - val_loss: 9.8855\n",
      "Epoch 10/100\n",
      "3/3 [==============================] - 0s 43ms/step - loss: 10.0868 - val_loss: 7.9222\n",
      "Epoch 11/100\n",
      "3/3 [==============================] - 0s 25ms/step - loss: 8.4186 - val_loss: 6.0235\n",
      "Epoch 12/100\n",
      "3/3 [==============================] - 0s 24ms/step - loss: 7.2679 - val_loss: 4.7607\n",
      "Epoch 13/100\n",
      "3/3 [==============================] - 0s 28ms/step - loss: 6.4257 - val_loss: 5.2444\n",
      "Epoch 14/100\n",
      "3/3 [==============================] - 0s 18ms/step - loss: 6.5670 - val_loss: 5.4973\n",
      "Epoch 15/100\n",
      "3/3 [==============================] - 0s 21ms/step - loss: 5.9492 - val_loss: 4.8600\n",
      "Epoch 16/100\n",
      "3/3 [==============================] - 0s 22ms/step - loss: 5.5657 - val_loss: 5.2474\n",
      "Epoch 17/100\n",
      "3/3 [==============================] - 0s 22ms/step - loss: 5.8802 - val_loss: 5.1480\n",
      "Epoch 18/100\n",
      "3/3 [==============================] - 0s 17ms/step - loss: 5.6286 - val_loss: 4.6937\n",
      "Epoch 19/100\n",
      "3/3 [==============================] - 0s 25ms/step - loss: 5.2054 - val_loss: 4.7776\n",
      "Epoch 20/100\n",
      "3/3 [==============================] - 0s 22ms/step - loss: 5.2106 - val_loss: 4.0828\n",
      "Epoch 21/100\n",
      "3/3 [==============================] - 0s 26ms/step - loss: 5.0253 - val_loss: 3.9347\n",
      "Epoch 22/100\n",
      "3/3 [==============================] - 0s 17ms/step - loss: 4.9099 - val_loss: 3.9499\n",
      "Epoch 23/100\n",
      "3/3 [==============================] - 0s 21ms/step - loss: 4.6793 - val_loss: 4.4414\n",
      "Epoch 24/100\n",
      "3/3 [==============================] - 0s 21ms/step - loss: 4.6483 - val_loss: 4.6158\n",
      "Epoch 25/100\n",
      "3/3 [==============================] - 0s 27ms/step - loss: 4.7061 - val_loss: 4.4230\n",
      "Epoch 26/100\n",
      "3/3 [==============================] - 0s 19ms/step - loss: 4.6169 - val_loss: 4.1963\n",
      "Epoch 27/100\n",
      "3/3 [==============================] - 0s 22ms/step - loss: 4.3718 - val_loss: 4.2703\n",
      "Epoch 28/100\n",
      "3/3 [==============================] - 0s 14ms/step - loss: 4.3756 - val_loss: 4.1532\n",
      "Epoch 29/100\n",
      "3/3 [==============================] - 0s 18ms/step - loss: 4.2968 - val_loss: 3.7501\n",
      "Epoch 30/100\n",
      "3/3 [==============================] - 0s 18ms/step - loss: 4.1471 - val_loss: 3.9893\n",
      "Epoch 31/100\n",
      "3/3 [==============================] - 0s 22ms/step - loss: 4.1813 - val_loss: 4.1123\n",
      "Epoch 32/100\n",
      "3/3 [==============================] - 0s 17ms/step - loss: 4.0013 - val_loss: 3.7671\n",
      "Epoch 33/100\n",
      "3/3 [==============================] - 0s 21ms/step - loss: 3.8352 - val_loss: 3.5613\n",
      "Epoch 34/100\n",
      "3/3 [==============================] - 0s 21ms/step - loss: 3.8166 - val_loss: 3.5287\n",
      "Epoch 35/100\n",
      "3/3 [==============================] - 0s 18ms/step - loss: 3.6877 - val_loss: 3.6050\n",
      "Epoch 36/100\n",
      "3/3 [==============================] - 0s 18ms/step - loss: 3.6367 - val_loss: 3.6366\n",
      "Epoch 37/100\n",
      "3/3 [==============================] - 0s 18ms/step - loss: 3.5451 - val_loss: 3.6467\n",
      "Epoch 38/100\n",
      "3/3 [==============================] - 0s 18ms/step - loss: 3.4540 - val_loss: 3.8755\n",
      "Epoch 39/100\n",
      "3/3 [==============================] - 0s 18ms/step - loss: 3.4083 - val_loss: 3.5993\n",
      "Epoch 40/100\n",
      "3/3 [==============================] - 0s 17ms/step - loss: 3.3380 - val_loss: 3.3523\n",
      "Epoch 41/100\n",
      "3/3 [==============================] - 0s 22ms/step - loss: 3.2150 - val_loss: 3.3795\n",
      "Epoch 42/100\n",
      "3/3 [==============================] - 0s 27ms/step - loss: 3.3121 - val_loss: 3.2980\n",
      "Epoch 43/100\n",
      "3/3 [==============================] - 0s 19ms/step - loss: 3.2403 - val_loss: 3.0771\n",
      "Epoch 44/100\n",
      "3/3 [==============================] - 0s 21ms/step - loss: 3.0784 - val_loss: 3.1531\n",
      "Epoch 45/100\n",
      "3/3 [==============================] - 0s 18ms/step - loss: 2.9848 - val_loss: 3.3972\n",
      "Epoch 46/100\n",
      "3/3 [==============================] - 0s 23ms/step - loss: 3.0382 - val_loss: 3.2166\n",
      "Epoch 47/100\n",
      "3/3 [==============================] - 0s 27ms/step - loss: 3.0508 - val_loss: 2.9511\n",
      "Epoch 48/100\n",
      "3/3 [==============================] - 0s 23ms/step - loss: 2.9489 - val_loss: 3.0390\n",
      "Epoch 49/100\n",
      "3/3 [==============================] - 0s 23ms/step - loss: 2.9550 - val_loss: 2.8797\n",
      "Epoch 50/100\n",
      "3/3 [==============================] - 0s 22ms/step - loss: 2.8081 - val_loss: 2.8300\n",
      "Epoch 51/100\n",
      "3/3 [==============================] - 0s 19ms/step - loss: 2.9331 - val_loss: 2.9726\n",
      "Epoch 52/100\n",
      "3/3 [==============================] - 0s 22ms/step - loss: 2.8743 - val_loss: 3.2191\n",
      "Epoch 53/100\n",
      "3/3 [==============================] - 0s 23ms/step - loss: 2.9407 - val_loss: 3.0524\n",
      "Epoch 54/100\n",
      "3/3 [==============================] - 0s 19ms/step - loss: 2.9525 - val_loss: 2.7375\n",
      "Epoch 55/100\n",
      "3/3 [==============================] - 0s 22ms/step - loss: 2.8341 - val_loss: 2.9014\n",
      "Epoch 56/100\n",
      "3/3 [==============================] - 0s 24ms/step - loss: 2.8193 - val_loss: 2.8831\n",
      "Epoch 57/100\n",
      "3/3 [==============================] - 0s 20ms/step - loss: 2.7217 - val_loss: 2.5764\n",
      "Epoch 58/100\n",
      "3/3 [==============================] - 0s 17ms/step - loss: 2.7475 - val_loss: 2.7797\n",
      "Epoch 59/100\n",
      "3/3 [==============================] - 0s 23ms/step - loss: 2.7935 - val_loss: 3.1400\n",
      "Epoch 60/100\n",
      "3/3 [==============================] - 0s 19ms/step - loss: 2.9996 - val_loss: 3.1775\n",
      "Epoch 61/100\n",
      "3/3 [==============================] - 0s 26ms/step - loss: 3.1931 - val_loss: 3.2643\n",
      "Epoch 62/100\n",
      "3/3 [==============================] - 0s 20ms/step - loss: 2.9980 - val_loss: 3.1176\n",
      "Epoch 63/100\n",
      "3/3 [==============================] - 0s 27ms/step - loss: 2.9476 - val_loss: 3.1944\n",
      "Epoch 64/100\n",
      "3/3 [==============================] - 0s 19ms/step - loss: 2.9227 - val_loss: 2.7340\n",
      "Epoch 65/100\n",
      "3/3 [==============================] - 0s 18ms/step - loss: 2.9669 - val_loss: 2.9651\n",
      "Epoch 66/100\n",
      "3/3 [==============================] - 0s 28ms/step - loss: 3.1289 - val_loss: 3.5254\n",
      "Epoch 67/100\n",
      "3/3 [==============================] - 0s 19ms/step - loss: 3.2631 - val_loss: 3.2822\n",
      "Epoch 68/100\n",
      "3/3 [==============================] - 0s 24ms/step - loss: 3.0902 - val_loss: 2.7228\n",
      "Epoch 69/100\n",
      "3/3 [==============================] - 0s 21ms/step - loss: 2.6983 - val_loss: 2.6249\n",
      "Epoch 70/100\n",
      "3/3 [==============================] - 0s 20ms/step - loss: 2.7667 - val_loss: 2.8292\n",
      "Epoch 71/100\n",
      "3/3 [==============================] - 0s 18ms/step - loss: 2.7280 - val_loss: 2.8901\n",
      "Epoch 72/100\n",
      "3/3 [==============================] - 0s 22ms/step - loss: 2.7703 - val_loss: 2.5614\n",
      "Epoch 73/100\n",
      "3/3 [==============================] - 0s 22ms/step - loss: 2.5856 - val_loss: 2.6217\n",
      "Epoch 74/100\n",
      "3/3 [==============================] - 0s 24ms/step - loss: 2.5346 - val_loss: 2.6659\n",
      "Epoch 75/100\n",
      "3/3 [==============================] - 0s 17ms/step - loss: 2.6801 - val_loss: 2.5790\n",
      "Epoch 76/100\n",
      "3/3 [==============================] - 0s 20ms/step - loss: 2.5727 - val_loss: 2.5695\n",
      "Epoch 77/100\n",
      "3/3 [==============================] - 0s 18ms/step - loss: 2.5771 - val_loss: 2.6612\n",
      "Epoch 78/100\n",
      "3/3 [==============================] - 0s 22ms/step - loss: 2.5756 - val_loss: 2.6835\n",
      "Epoch 79/100\n",
      "3/3 [==============================] - 0s 16ms/step - loss: 2.7110 - val_loss: 2.7056\n",
      "Epoch 80/100\n",
      "3/3 [==============================] - 0s 23ms/step - loss: 2.8371 - val_loss: 2.5813\n",
      "Epoch 81/100\n"
     ]
    },
    {
     "name": "stdout",
     "output_type": "stream",
     "text": [
      "3/3 [==============================] - 0s 17ms/step - loss: 2.5795 - val_loss: 2.5765\n",
      "Epoch 82/100\n",
      "3/3 [==============================] - 0s 18ms/step - loss: 2.5793 - val_loss: 2.7425\n",
      "Epoch 83/100\n",
      "3/3 [==============================] - 0s 20ms/step - loss: 2.6108 - val_loss: 2.6761\n",
      "Epoch 84/100\n",
      "3/3 [==============================] - 0s 18ms/step - loss: 2.7402 - val_loss: 2.5531\n",
      "Epoch 85/100\n",
      "3/3 [==============================] - 0s 19ms/step - loss: 2.6646 - val_loss: 2.6509\n",
      "Epoch 86/100\n",
      "3/3 [==============================] - 0s 27ms/step - loss: 2.6133 - val_loss: 2.5991\n",
      "Epoch 87/100\n",
      "3/3 [==============================] - 0s 23ms/step - loss: 2.5445 - val_loss: 2.4993\n",
      "Epoch 88/100\n",
      "3/3 [==============================] - 0s 19ms/step - loss: 2.5573 - val_loss: 2.6032\n",
      "Epoch 89/100\n",
      "3/3 [==============================] - 0s 17ms/step - loss: 2.5245 - val_loss: 2.6395\n",
      "Epoch 90/100\n",
      "3/3 [==============================] - 0s 18ms/step - loss: 2.4975 - val_loss: 2.4422\n",
      "Epoch 91/100\n",
      "3/3 [==============================] - 0s 23ms/step - loss: 2.6042 - val_loss: 2.6584\n",
      "Epoch 92/100\n",
      "3/3 [==============================] - 0s 17ms/step - loss: 2.6153 - val_loss: 2.7073\n",
      "Epoch 93/100\n",
      "3/3 [==============================] - 0s 19ms/step - loss: 2.6241 - val_loss: 2.5677\n",
      "Epoch 94/100\n",
      "3/3 [==============================] - 0s 25ms/step - loss: 2.5135 - val_loss: 2.4779\n",
      "Epoch 95/100\n",
      "3/3 [==============================] - 0s 24ms/step - loss: 2.6144 - val_loss: 2.6079\n",
      "Epoch 96/100\n",
      "3/3 [==============================] - 0s 16ms/step - loss: 2.5174 - val_loss: 2.5173\n",
      "Epoch 97/100\n",
      "3/3 [==============================] - 0s 18ms/step - loss: 2.5616 - val_loss: 2.6511\n",
      "Epoch 98/100\n",
      "3/3 [==============================] - 0s 17ms/step - loss: 2.6823 - val_loss: 2.7735\n",
      "Epoch 99/100\n",
      "3/3 [==============================] - 0s 17ms/step - loss: 2.6504 - val_loss: 2.5239\n",
      "Epoch 100/100\n",
      "3/3 [==============================] - 0s 18ms/step - loss: 2.6384 - val_loss: 2.6854\n"
     ]
    }
   ],
   "source": [
    "history = model.fit(X_train, y_train, epochs=100,\n",
    "                    validation_data=(X_valid, y_valid))"
   ]
  },
  {
   "cell_type": "code",
   "execution_count": 56,
   "id": "e7fa5656",
   "metadata": {
    "scrolled": false
   },
   "outputs": [
    {
     "name": "stdout",
     "output_type": "stream",
     "text": [
      "Saving figure grid_quantile_training_curve\n"
     ]
    },
    {
     "data": {
      "image/png": "[encoded data removed]",
      "text/plain": [
       "<Figure size 576x360 with 1 Axes>"
      ]
     },
     "metadata": {
      "needs_background": "light"
     },
     "output_type": "display_data"
    }
   ],
   "source": [
    "import pandas as pd\n",
    "\n",
    "pd.DataFrame(history.history).plot(figsize=(8, 5))\n",
    "plt.grid(True)\n",
    "# plt.gca().set_ylim(0, 1)\n",
    "save_fig(\"grid_quantile_training_curve\")\n",
    "plt.show()"
   ]
  },
  {
   "cell_type": "markdown",
   "id": "a4a59dd6",
   "metadata": {},
   "source": [
    "### Draw the mean prediction curve averaged from all quantile predictions."
   ]
  },
  {
   "cell_type": "code",
   "execution_count": 57,
   "id": "0e5d0058",
   "metadata": {},
   "outputs": [
    {
     "name": "stdout",
     "output_type": "stream",
     "text": [
      "X.shape = (None, 1)\n",
      "gauss_grid.shape = (None, 5)\n",
      "Saving figure grid_quantile_prediction\n"
     ]
    },
    {
     "data": {
      "image/png": "[encoded data removed]",
      "text/plain": [
       "<Figure size 432x288 with 1 Axes>"
      ]
     },
     "metadata": {
      "needs_background": "light"
     },
     "output_type": "display_data"
    }
   ],
   "source": [
    "# plt.plot(X_train, y_train, \"b.\")\n",
    "draw_points(X_train, y_train, sid_train)\n",
    "draw_func((lambda X: np.average(model.predict(X), axis=-1) ), mark='r-', linewidth=2, label=\"Predictions\")\n",
    "# draw_func((lambda X: model.predict(X)[:,0] ), mark='k--', linewidth=1, label=\"$y_{%d}$\" % (quantile_list[0]*100))\n",
    "# draw_func((lambda X: model.predict(X)[:,-1] ), mark='k--', linewidth=1, label=\"$y_{%d}$\" % (quantile_list[-1]*100))\n",
    "draw_normal_func(func_dict)\n",
    "plt.xlabel(\"$x_1$\", fontsize=18)\n",
    "plt.ylabel(\"$y$\", rotation=0, fontsize=18)\n",
    "plt.legend(loc=\"upper left\", fontsize=14)\n",
    "# plt.axis([-3, 3, 0, 10])\n",
    "save_fig(\"grid_quantile_prediction\")\n",
    "plt.show()"
   ]
  },
  {
   "cell_type": "code",
   "execution_count": 58,
   "id": "f98d3ae8",
   "metadata": {},
   "outputs": [
    {
     "name": "stdout",
     "output_type": "stream",
     "text": [
      "y_func.shape = (100, 1)\n",
      "y_gt.shape = (100, 1)\n"
     ]
    },
    {
     "data": {
      "text/plain": [
       "1.8795775108787132"
      ]
     },
     "execution_count": 58,
     "metadata": {},
     "output_type": "execute_result"
    }
   ],
   "source": [
    "get_prediction_error((lambda X: np.average(model.predict(X), axis=-1) ), func_dict, name=\"grid-quantileR\")"
   ]
  },
  {
   "cell_type": "markdown",
   "id": "f79ac920",
   "metadata": {},
   "source": [
    "### Draw first and last quantile curve."
   ]
  },
  {
   "cell_type": "code",
   "execution_count": 59,
   "id": "42eeb254",
   "metadata": {},
   "outputs": [
    {
     "name": "stdout",
     "output_type": "stream",
     "text": [
      "Saving figure grid_quantile_boundary_quantiles\n"
     ]
    },
    {
     "data": {
      "image/png": "[encoded data removed]",
      "text/plain": [
       "<Figure size 432x288 with 1 Axes>"
      ]
     },
     "metadata": {
      "needs_background": "light"
     },
     "output_type": "display_data"
    }
   ],
   "source": [
    "# plt.plot(X_train, y_train, \"b.\")\n",
    "draw_points(X_train, y_train, sid_train)\n",
    "draw_func((lambda X: np.average(model.predict(X), axis=-1) ), mark='r-', linewidth=2, label=\"Predictions\")\n",
    "draw_func((lambda X: model.predict(X)[:,0] ), mark='k--', linewidth=1, label=\"$y_{%d}$\" % (quantile_list[0]*100))\n",
    "draw_func((lambda X: model.predict(X)[:,-1] ), mark='k--', linewidth=1, label=\"$y_{%d}$\" % (quantile_list[-1]*100))\n",
    "draw_normal_func(func_dict)\n",
    "plt.xlabel(\"$x_1$\", fontsize=18)\n",
    "plt.ylabel(\"$y$\", rotation=0, fontsize=18)\n",
    "plt.legend(loc=\"upper left\", fontsize=14)\n",
    "# plt.axis([-3, 3, 0, 10])\n",
    "save_fig(\"grid_quantile_boundary_quantiles\")\n",
    "plt.show()"
   ]
  },
  {
   "cell_type": "markdown",
   "id": "2a1b1b44",
   "metadata": {},
   "source": [
    "### Draw all quantile predictions"
   ]
  },
  {
   "cell_type": "code",
   "execution_count": 60,
   "id": "5e875238",
   "metadata": {},
   "outputs": [
    {
     "name": "stdout",
     "output_type": "stream",
     "text": [
      "Saving figure grid_quantile_all_quantiles\n"
     ]
    },
    {
     "data": {
      "image/png": "[encoded data removed]",
      "text/plain": [
       "<Figure size 432x288 with 1 Axes>"
      ]
     },
     "metadata": {
      "needs_background": "light"
     },
     "output_type": "display_data"
    }
   ],
   "source": [
    "# plt.plot(X_train, y_train, \"b.\")\n",
    "draw_points(X_train, y_train, sid_train)\n",
    "draw_func((lambda X: np.average(model.predict(X), axis=-1) ), mark='r-', linewidth=2, label=\"Predictions\")\n",
    "for _idx, _tau in enumerate(quantile_list):\n",
    "    draw_func((lambda X: model.predict(X)[:,_idx] ), mark='k--', linewidth=1, label=\"$y_{%d}$\" % (_tau*100))\n",
    "draw_normal_func(func_dict)\n",
    "plt.xlabel(\"$x_1$\", fontsize=18)\n",
    "plt.ylabel(\"$y$\", rotation=0, fontsize=18)\n",
    "plt.legend(loc=\"upper left\", fontsize=14)\n",
    "# plt.axis([-3, 3, 0, 10])\n",
    "save_fig(\"grid_quantile_all_quantiles\")\n",
    "plt.show()"
   ]
  },
  {
   "cell_type": "markdown",
   "id": "0693a8eb",
   "metadata": {},
   "source": [
    "### Multi-Quantiles as a Gaussian Distribution "
   ]
  },
  {
   "cell_type": "code",
   "execution_count": 61,
   "id": "11262fbe",
   "metadata": {},
   "outputs": [],
   "source": [
    "# def n_sigma_boundary_line(X, n):\n",
    "#     _y = model.predict(X)\n",
    "#     _mean = np.mean(_y, axis=-1)\n",
    "#     _sigma = np.std(_y, axis=-1)\n",
    "#     return( _mean + n*_sigma)\n",
    "\n",
    "# # plt.plot(X_train, y_train, \"b.\")\n",
    "# draw_points(X_train, y_train, sid_train)\n",
    "# #\n",
    "# draw_func((lambda X: np.average(model.predict(X), axis=-1) ), mark='r-', linewidth=2, label=\"Predictions\")\n",
    "# draw_func((lambda X: n_sigma_boundary_line(X, +1.0) ), mark='k--', linewidth=1, label=\"$\\mu+\\sigma$\")\n",
    "# draw_func((lambda X: n_sigma_boundary_line(X, -1.0) ), mark='k--', linewidth=1, label=\"$\\mu-\\sigma$\")\n",
    "# #\n",
    "# draw_normal_func(func_dict)\n",
    "# plt.xlabel(\"$x_1$\", fontsize=18)\n",
    "# plt.ylabel(\"$y$\", rotation=0, fontsize=18)\n",
    "# plt.legend(loc=\"upper left\", fontsize=14)\n",
    "# # plt.axis([-3, 3, 0, 10])\n",
    "# save_fig(\"grid_quantile_1sigma\")\n",
    "# plt.show()"
   ]
  },
  {
   "cell_type": "markdown",
   "id": "9a01aa69",
   "metadata": {},
   "source": [
    "## Gaussian Estimation with Gaussian Loss (grid-->parameters)\n",
    "\n",
    "Gaussain estimation requires the model to predict the mean and variance of a Gaussian distribution of the random variable regarded. The training purpose is to fit a Gaussian distribution to the data distribution (which is not necessay distributed as Gaussian).\n",
    "\n",
    "One possible solution, derived by BensonHuang, is that the model estimates $(\\mu, z)$, where $z=\\alpha ^{-1}log(\\sigma)$.\n",
    "The associated loss function can be $L_G(y, (\\mu,z)) = 0.5e^{-2\\alpha z}(y-\\mu)^2 + \\alpha z$."
   ]
  },
  {
   "cell_type": "code",
   "execution_count": 62,
   "id": "1a20d5dd",
   "metadata": {},
   "outputs": [],
   "source": [
    "alpha = 1.0\n",
    "# alpha = 0.01\n",
    "# alpha = 0.001"
   ]
  },
  {
   "cell_type": "code",
   "execution_count": 63,
   "id": "cb202ed2",
   "metadata": {},
   "outputs": [
    {
     "name": "stdout",
     "output_type": "stream",
     "text": [
      "X.shape = (None, 1)\n",
      "gauss_grid.shape = (None, 5)\n"
     ]
    }
   ],
   "source": [
    "model = keras.models.Sequential([\n",
    "    num2grid(5,x_min=-10, x_max=10, sigma=3.0, input_shape=X_train.shape[1:]),\n",
    "#     keras.layers.Dense(30, activation=\"relu\"),\n",
    "    keras.layers.Dense(60, activation=\"relu\"),\n",
    "#     keras.layers.Dense(30, activation=keras.layers.LeakyReLU(alpha=0.2) ),\n",
    "#     keras.layers.Dense(30, activation=\"selu\"),\n",
    "    keras.layers.Dense(2) # (mu, z)\n",
    "])"
   ]
  },
  {
   "cell_type": "code",
   "execution_count": 64,
   "id": "925f0a22",
   "metadata": {},
   "outputs": [
    {
     "name": "stdout",
     "output_type": "stream",
     "text": [
      "alpha = 1.000000\n"
     ]
    }
   ],
   "source": [
    "# Customized loss function\n",
    "print(\"alpha = %f\" % alpha)\n",
    "\n",
    "def GaussianLoss_fn(y_true, y_pred):\n",
    "    # y_true: label \n",
    "    # y_pred: (mu, z), z=log(sigma)\n",
    "    mu = y_pred[:, 0:1]\n",
    "    z  = y_pred[:, 1:2]\n",
    "    #\n",
    "    en2z = tf.math.exp((-2.0*alpha)*z)\n",
    "    ymu2 = (y_true - mu)**2\n",
    "    return (0.5*en2z*ymu2 + alpha*z)"
   ]
  },
  {
   "cell_type": "code",
   "execution_count": 65,
   "id": "1b388b4b",
   "metadata": {},
   "outputs": [],
   "source": [
    "# Learning rate scheduler\n",
    "learning_rate_switch_epoch_list = [30, 45]\n",
    "learning_rate_list = [0.001, 0.01, 0.1]\n",
    "# learning_rate_switch_epoch_list = [30, 80]\n",
    "# learning_rate_list = [0.01, 0.1, 0.01]\n",
    "#\n",
    "def piecewise_constant_fn(epoch):\n",
    "    for _i, epoch_s in enumerate(learning_rate_switch_epoch_list):\n",
    "        if epoch < epoch_s:\n",
    "            return learning_rate_list[_i]\n",
    "    return learning_rate_list[-1]\n",
    "\n",
    "lr_scheduler = keras.callbacks.LearningRateScheduler(piecewise_constant_fn)"
   ]
  },
  {
   "cell_type": "markdown",
   "id": "6ec2e05e",
   "metadata": {},
   "source": [
    "Third training with even greater speed"
   ]
  },
  {
   "cell_type": "code",
   "execution_count": 66,
   "id": "7a7e245b",
   "metadata": {},
   "outputs": [
    {
     "name": "stderr",
     "output_type": "stream",
     "text": [
      "C:\\Users\\benso\\anaconda3\\envs\\ml\\lib\\site-packages\\keras\\optimizer_v2\\adam.py:105: UserWarning: The `lr` argument is deprecated, use `learning_rate` instead.\n",
      "  super(Adam, self).__init__(name, **kwargs)\n"
     ]
    }
   ],
   "source": [
    "# optimizer = keras.optimizers.SGD(lr=0.1, momentum=0.9)\n",
    "optimizer = keras.optimizers.Adam(lr=0.1) # 0.1\n",
    "model.compile(loss=GaussianLoss_fn, optimizer=optimizer)"
   ]
  },
  {
   "cell_type": "code",
   "execution_count": 67,
   "id": "6d7b74a9",
   "metadata": {
    "scrolled": true
   },
   "outputs": [
    {
     "name": "stdout",
     "output_type": "stream",
     "text": [
      "Epoch 1/200\n",
      "X.shape = (None, 1)\n",
      "gauss_grid.shape = (None, 5)\n",
      "X.shape = (None, 1)\n",
      "gauss_grid.shape = (None, 5)\n",
      "1/3 [=========>....................] - ETA: 0s - loss: 1277.3395X.shape = (None, 1)\n",
      "gauss_grid.shape = (None, 5)\n",
      "3/3 [==============================] - 1s 78ms/step - loss: 519.8458 - val_loss: 7.7415\n",
      "Epoch 2/200\n",
      "3/3 [==============================] - 0s 19ms/step - loss: 9.4013 - val_loss: 14.4518\n",
      "Epoch 3/200\n",
      "3/3 [==============================] - 0s 33ms/step - loss: 15.3151 - val_loss: 18.6395\n",
      "Epoch 4/200\n",
      "3/3 [==============================] - 0s 29ms/step - loss: 18.8112 - val_loss: 20.5719\n",
      "Epoch 5/200\n",
      "3/3 [==============================] - 0s 35ms/step - loss: 20.2962 - val_loss: 20.7620\n",
      "Epoch 6/200\n",
      "3/3 [==============================] - 0s 38ms/step - loss: 20.2880 - val_loss: 19.8017\n",
      "Epoch 7/200\n",
      "3/3 [==============================] - 0s 35ms/step - loss: 19.2730 - val_loss: 18.1654\n",
      "Epoch 8/200\n",
      "3/3 [==============================] - 0s 33ms/step - loss: 17.7013 - val_loss: 16.0993\n",
      "Epoch 9/200\n",
      "3/3 [==============================] - 0s 37ms/step - loss: 15.7556 - val_loss: 13.7405\n",
      "Epoch 10/200\n",
      "3/3 [==============================] - 0s 20ms/step - loss: 13.5207 - val_loss: 11.2128\n",
      "Epoch 11/200\n",
      "3/3 [==============================] - 0s 21ms/step - loss: 11.0305 - val_loss: 8.2594\n",
      "Epoch 12/200\n",
      "3/3 [==============================] - 0s 17ms/step - loss: 8.0312 - val_loss: 5.3484\n",
      "Epoch 13/200\n",
      "3/3 [==============================] - 0s 17ms/step - loss: 6.2322 - val_loss: 4.5189\n",
      "Epoch 14/200\n",
      "3/3 [==============================] - 0s 24ms/step - loss: 4.6307 - val_loss: 4.3239\n",
      "Epoch 15/200\n",
      "3/3 [==============================] - 0s 17ms/step - loss: 4.7879 - val_loss: 4.8282\n",
      "Epoch 16/200\n",
      "3/3 [==============================] - 0s 18ms/step - loss: 4.8429 - val_loss: 5.2362\n",
      "Epoch 17/200\n",
      "3/3 [==============================] - 0s 16ms/step - loss: 4.9556 - val_loss: 4.4878\n",
      "Epoch 18/200\n",
      "3/3 [==============================] - 0s 21ms/step - loss: 4.3858 - val_loss: 3.9948\n",
      "Epoch 19/200\n",
      "3/3 [==============================] - 0s 22ms/step - loss: 4.0664 - val_loss: 4.0564\n",
      "Epoch 20/200\n",
      "3/3 [==============================] - 0s 17ms/step - loss: 4.1885 - val_loss: 4.1652\n",
      "Epoch 21/200\n",
      "3/3 [==============================] - 0s 21ms/step - loss: 4.2471 - val_loss: 4.0102\n",
      "Epoch 22/200\n",
      "3/3 [==============================] - 0s 21ms/step - loss: 4.0581 - val_loss: 3.8499\n",
      "Epoch 23/200\n",
      "3/3 [==============================] - 0s 19ms/step - loss: 4.0335 - val_loss: 3.8585\n",
      "Epoch 24/200\n",
      "3/3 [==============================] - 0s 14ms/step - loss: 4.0171 - val_loss: 3.8932\n",
      "Epoch 25/200\n",
      "3/3 [==============================] - 0s 17ms/step - loss: 3.9669 - val_loss: 3.8631\n",
      "Epoch 26/200\n",
      "3/3 [==============================] - 0s 21ms/step - loss: 3.9625 - val_loss: 3.8471\n",
      "Epoch 27/200\n",
      "3/3 [==============================] - 0s 22ms/step - loss: 3.9310 - val_loss: 3.8727\n",
      "Epoch 28/200\n",
      "3/3 [==============================] - 0s 16ms/step - loss: 3.8740 - val_loss: 3.9154\n",
      "Epoch 29/200\n",
      "3/3 [==============================] - 0s 17ms/step - loss: 3.8594 - val_loss: 3.7970\n",
      "Epoch 30/200\n",
      "3/3 [==============================] - 0s 21ms/step - loss: 3.8156 - val_loss: 3.7968\n",
      "Epoch 31/200\n",
      "3/3 [==============================] - 0s 21ms/step - loss: 3.7346 - val_loss: 3.9686\n",
      "Epoch 32/200\n",
      "3/3 [==============================] - 0s 17ms/step - loss: 3.7756 - val_loss: 3.7373\n",
      "Epoch 33/200\n",
      "3/3 [==============================] - 0s 17ms/step - loss: 3.6739 - val_loss: 3.7085\n",
      "Epoch 34/200\n",
      "3/3 [==============================] - 0s 22ms/step - loss: 3.6587 - val_loss: 3.6700\n",
      "Epoch 35/200\n",
      "3/3 [==============================] - 0s 17ms/step - loss: 3.6029 - val_loss: 3.6412\n",
      "Epoch 36/200\n",
      "3/3 [==============================] - 0s 17ms/step - loss: 3.5700 - val_loss: 3.5993\n",
      "Epoch 37/200\n",
      "3/3 [==============================] - 0s 22ms/step - loss: 3.5394 - val_loss: 3.5196\n",
      "Epoch 38/200\n",
      "3/3 [==============================] - 0s 17ms/step - loss: 3.4740 - val_loss: 3.4900\n",
      "Epoch 39/200\n",
      "3/3 [==============================] - 0s 18ms/step - loss: 3.4802 - val_loss: 3.4664\n",
      "Epoch 40/200\n",
      "3/3 [==============================] - 0s 20ms/step - loss: 3.5569 - val_loss: 3.5074\n",
      "Epoch 41/200\n",
      "3/3 [==============================] - 0s 22ms/step - loss: 3.4327 - val_loss: 3.8238\n",
      "Epoch 42/200\n",
      "3/3 [==============================] - 0s 18ms/step - loss: 3.5462 - val_loss: 3.4605\n",
      "Epoch 43/200\n",
      "3/3 [==============================] - 0s 22ms/step - loss: 3.5617 - val_loss: 3.3207\n",
      "Epoch 44/200\n",
      "3/3 [==============================] - 0s 19ms/step - loss: 3.4285 - val_loss: 3.2758\n",
      "Epoch 45/200\n",
      "3/3 [==============================] - 0s 22ms/step - loss: 3.3659 - val_loss: 3.3832\n",
      "Epoch 46/200\n",
      "3/3 [==============================] - 0s 18ms/step - loss: 3.4025 - val_loss: 3.2932\n",
      "Epoch 47/200\n",
      "3/3 [==============================] - 0s 17ms/step - loss: 3.3731 - val_loss: 3.3129\n",
      "Epoch 48/200\n",
      "3/3 [==============================] - 0s 17ms/step - loss: 3.3579 - val_loss: 3.2490\n",
      "Epoch 49/200\n",
      "3/3 [==============================] - 0s 20ms/step - loss: 3.3319 - val_loss: 3.2400\n",
      "Epoch 50/200\n",
      "3/3 [==============================] - 0s 21ms/step - loss: 3.3413 - val_loss: 3.3066\n",
      "Epoch 51/200\n",
      "3/3 [==============================] - 0s 17ms/step - loss: 3.3747 - val_loss: 3.2336\n",
      "Epoch 52/200\n",
      "3/3 [==============================] - 0s 21ms/step - loss: 3.3187 - val_loss: 3.3146\n",
      "Epoch 53/200\n",
      "3/3 [==============================] - 0s 20ms/step - loss: 3.3592 - val_loss: 3.3163\n",
      "Epoch 54/200\n",
      "3/3 [==============================] - 0s 18ms/step - loss: 3.3155 - val_loss: 3.3142\n",
      "Epoch 55/200\n",
      "3/3 [==============================] - 0s 17ms/step - loss: 3.3639 - val_loss: 3.2663\n",
      "Epoch 56/200\n",
      "3/3 [==============================] - 0s 17ms/step - loss: 3.2894 - val_loss: 3.2801\n",
      "Epoch 57/200\n",
      "3/3 [==============================] - 0s 17ms/step - loss: 3.3258 - val_loss: 3.2425\n",
      "Epoch 58/200\n",
      "3/3 [==============================] - 0s 20ms/step - loss: 3.3365 - val_loss: 3.1930\n",
      "Epoch 59/200\n",
      "3/3 [==============================] - 0s 16ms/step - loss: 3.3336 - val_loss: 3.1958\n",
      "Epoch 60/200\n",
      "3/3 [==============================] - 0s 21ms/step - loss: 3.2848 - val_loss: 3.2123\n",
      "Epoch 61/200\n",
      "3/3 [==============================] - 0s 22ms/step - loss: 3.2859 - val_loss: 3.2239\n",
      "Epoch 62/200\n",
      "3/3 [==============================] - 0s 17ms/step - loss: 3.2466 - val_loss: 3.2521\n",
      "Epoch 63/200\n",
      "3/3 [==============================] - 0s 16ms/step - loss: 3.2982 - val_loss: 3.2166\n",
      "Epoch 64/200\n",
      "3/3 [==============================] - 0s 21ms/step - loss: 3.2503 - val_loss: 3.1867\n",
      "Epoch 65/200\n",
      "3/3 [==============================] - 0s 24ms/step - loss: 3.2590 - val_loss: 3.1805\n",
      "Epoch 66/200\n",
      "3/3 [==============================] - 0s 23ms/step - loss: 3.2501 - val_loss: 3.1718\n",
      "Epoch 67/200\n",
      "3/3 [==============================] - 0s 23ms/step - loss: 3.2339 - val_loss: 3.1793\n",
      "Epoch 68/200\n",
      "3/3 [==============================] - 0s 19ms/step - loss: 3.2409 - val_loss: 3.1923\n",
      "Epoch 69/200\n",
      "3/3 [==============================] - 0s 19ms/step - loss: 3.3709 - val_loss: 3.4680\n",
      "Epoch 70/200\n",
      "3/3 [==============================] - 0s 13ms/step - loss: 3.9201 - val_loss: 4.2640\n",
      "Epoch 71/200\n",
      "3/3 [==============================] - 0s 17ms/step - loss: 4.0806 - val_loss: 3.3110\n",
      "Epoch 72/200\n",
      "3/3 [==============================] - 0s 17ms/step - loss: 3.7093 - val_loss: 3.4805\n",
      "Epoch 73/200\n",
      "3/3 [==============================] - 0s 20ms/step - loss: 3.5459 - val_loss: 3.8359\n",
      "Epoch 74/200\n",
      "3/3 [==============================] - 0s 19ms/step - loss: 3.7029 - val_loss: 3.5510\n",
      "Epoch 75/200\n",
      "3/3 [==============================] - 0s 17ms/step - loss: 3.3859 - val_loss: 3.1442\n",
      "Epoch 76/200\n",
      "3/3 [==============================] - 0s 21ms/step - loss: 3.3762 - val_loss: 3.1988\n",
      "Epoch 77/200\n",
      "3/3 [==============================] - 0s 18ms/step - loss: 3.3968 - val_loss: 3.3774\n",
      "Epoch 78/200\n",
      "3/3 [==============================] - 0s 17ms/step - loss: 3.3255 - val_loss: 3.2472\n",
      "Epoch 79/200\n",
      "3/3 [==============================] - 0s 17ms/step - loss: 3.2680 - val_loss: 3.2473\n",
      "Epoch 80/200\n",
      "3/3 [==============================] - 0s 21ms/step - loss: 3.3491 - val_loss: 3.2208\n",
      "Epoch 81/200\n"
     ]
    },
    {
     "name": "stdout",
     "output_type": "stream",
     "text": [
      "3/3 [==============================] - 0s 19ms/step - loss: 3.2557 - val_loss: 3.0681\n",
      "Epoch 82/200\n",
      "3/3 [==============================] - 0s 19ms/step - loss: 3.1874 - val_loss: 3.2141\n",
      "Epoch 83/200\n",
      "3/3 [==============================] - 0s 23ms/step - loss: 3.2911 - val_loss: 3.1717\n",
      "Epoch 84/200\n",
      "3/3 [==============================] - 0s 13ms/step - loss: 3.2004 - val_loss: 3.1470\n",
      "Epoch 85/200\n",
      "3/3 [==============================] - 0s 21ms/step - loss: 3.2194 - val_loss: 3.1624\n",
      "Epoch 86/200\n",
      "3/3 [==============================] - 0s 15ms/step - loss: 3.1421 - val_loss: 3.0720\n",
      "Epoch 87/200\n",
      "3/3 [==============================] - 0s 17ms/step - loss: 3.1519 - val_loss: 3.0703\n",
      "Epoch 88/200\n",
      "3/3 [==============================] - 0s 16ms/step - loss: 3.1428 - val_loss: 3.0484\n",
      "Epoch 89/200\n",
      "3/3 [==============================] - 0s 20ms/step - loss: 3.0958 - val_loss: 3.0960\n",
      "Epoch 90/200\n",
      "3/3 [==============================] - 0s 18ms/step - loss: 3.1294 - val_loss: 3.0715\n",
      "Epoch 91/200\n",
      "3/3 [==============================] - 0s 17ms/step - loss: 3.1065 - val_loss: 2.9548\n",
      "Epoch 92/200\n",
      "3/3 [==============================] - 0s 22ms/step - loss: 3.0696 - val_loss: 2.9835\n",
      "Epoch 93/200\n",
      "3/3 [==============================] - 0s 17ms/step - loss: 3.0891 - val_loss: 3.0410\n",
      "Epoch 94/200\n",
      "3/3 [==============================] - 0s 18ms/step - loss: 3.0677 - val_loss: 2.9877\n",
      "Epoch 95/200\n",
      "3/3 [==============================] - 0s 17ms/step - loss: 3.0191 - val_loss: 2.9948\n",
      "Epoch 96/200\n",
      "3/3 [==============================] - 0s 21ms/step - loss: 3.0576 - val_loss: 2.9217\n",
      "Epoch 97/200\n",
      "3/3 [==============================] - 0s 13ms/step - loss: 3.0434 - val_loss: 2.9288\n",
      "Epoch 98/200\n",
      "3/3 [==============================] - 0s 21ms/step - loss: 2.9820 - val_loss: 2.9589\n",
      "Epoch 99/200\n",
      "3/3 [==============================] - 0s 14ms/step - loss: 2.9779 - val_loss: 2.9064\n",
      "Epoch 100/200\n",
      "3/3 [==============================] - 0s 21ms/step - loss: 3.0482 - val_loss: 3.0542\n",
      "Epoch 101/200\n",
      "3/3 [==============================] - 0s 18ms/step - loss: 3.1637 - val_loss: 3.0438\n",
      "Epoch 102/200\n",
      "3/3 [==============================] - 0s 17ms/step - loss: 3.1193 - val_loss: 2.9169\n",
      "Epoch 103/200\n",
      "3/3 [==============================] - 0s 16ms/step - loss: 3.0108 - val_loss: 3.0795\n",
      "Epoch 104/200\n",
      "3/3 [==============================] - 0s 17ms/step - loss: 3.0384 - val_loss: 2.8523\n",
      "Epoch 105/200\n",
      "3/3 [==============================] - 0s 22ms/step - loss: 2.9790 - val_loss: 2.9519\n",
      "Epoch 106/200\n",
      "3/3 [==============================] - 0s 17ms/step - loss: 3.0121 - val_loss: 3.0428\n",
      "Epoch 107/200\n",
      "3/3 [==============================] - 0s 19ms/step - loss: 3.0166 - val_loss: 2.8732\n",
      "Epoch 108/200\n",
      "3/3 [==============================] - 0s 20ms/step - loss: 2.9169 - val_loss: 2.9092\n",
      "Epoch 109/200\n",
      "3/3 [==============================] - 0s 17ms/step - loss: 3.0471 - val_loss: 3.2612\n",
      "Epoch 110/200\n",
      "3/3 [==============================] - 0s 17ms/step - loss: 3.4531 - val_loss: 3.4580\n",
      "Epoch 111/200\n",
      "3/3 [==============================] - 0s 24ms/step - loss: 3.5630 - val_loss: 3.2970\n",
      "Epoch 112/200\n",
      "3/3 [==============================] - 0s 19ms/step - loss: 3.1873 - val_loss: 3.0710\n",
      "Epoch 113/200\n",
      "3/3 [==============================] - 0s 22ms/step - loss: 3.0682 - val_loss: 2.9817\n",
      "Epoch 114/200\n",
      "3/3 [==============================] - 0s 20ms/step - loss: 3.0279 - val_loss: 3.1168\n",
      "Epoch 115/200\n",
      "3/3 [==============================] - 0s 17ms/step - loss: 3.0240 - val_loss: 3.2169\n",
      "Epoch 116/200\n",
      "3/3 [==============================] - 0s 16ms/step - loss: 3.0360 - val_loss: 2.9729\n",
      "Epoch 117/200\n",
      "3/3 [==============================] - 0s 17ms/step - loss: 2.8510 - val_loss: 2.8461\n",
      "Epoch 118/200\n",
      "3/3 [==============================] - 0s 18ms/step - loss: 2.8556 - val_loss: 2.9783\n",
      "Epoch 119/200\n",
      "3/3 [==============================] - 0s 22ms/step - loss: 2.8223 - val_loss: 2.7892\n",
      "Epoch 120/200\n",
      "3/3 [==============================] - 0s 18ms/step - loss: 2.8636 - val_loss: 2.9214\n",
      "Epoch 121/200\n",
      "3/3 [==============================] - 0s 17ms/step - loss: 2.9098 - val_loss: 2.8644\n",
      "Epoch 122/200\n",
      "3/3 [==============================] - 0s 17ms/step - loss: 2.8390 - val_loss: 2.7394\n",
      "Epoch 123/200\n",
      "3/3 [==============================] - 0s 22ms/step - loss: 2.7105 - val_loss: 2.8743\n",
      "Epoch 124/200\n",
      "3/3 [==============================] - 0s 22ms/step - loss: 2.7606 - val_loss: 2.7023\n",
      "Epoch 125/200\n",
      "3/3 [==============================] - 0s 15ms/step - loss: 2.6822 - val_loss: 2.7672\n",
      "Epoch 126/200\n",
      "3/3 [==============================] - 0s 17ms/step - loss: 2.6879 - val_loss: 2.7397\n",
      "Epoch 127/200\n",
      "3/3 [==============================] - 0s 20ms/step - loss: 2.6755 - val_loss: 2.7417\n",
      "Epoch 128/200\n",
      "3/3 [==============================] - 0s 20ms/step - loss: 2.6849 - val_loss: 2.7657\n",
      "Epoch 129/200\n",
      "3/3 [==============================] - 0s 17ms/step - loss: 2.7043 - val_loss: 2.8007\n",
      "Epoch 130/200\n",
      "3/3 [==============================] - 0s 25ms/step - loss: 2.7032 - val_loss: 2.7412\n",
      "Epoch 131/200\n",
      "3/3 [==============================] - 0s 18ms/step - loss: 2.6755 - val_loss: 2.7410\n",
      "Epoch 132/200\n",
      "3/3 [==============================] - 0s 22ms/step - loss: 2.6553 - val_loss: 2.6950\n",
      "Epoch 133/200\n",
      "3/3 [==============================] - 0s 21ms/step - loss: 2.6473 - val_loss: 2.7000\n",
      "Epoch 134/200\n",
      "3/3 [==============================] - 0s 16ms/step - loss: 2.6290 - val_loss: 2.6964\n",
      "Epoch 135/200\n",
      "3/3 [==============================] - 0s 17ms/step - loss: 2.6320 - val_loss: 2.7422\n",
      "Epoch 136/200\n",
      "3/3 [==============================] - 0s 19ms/step - loss: 2.6901 - val_loss: 2.7188\n",
      "Epoch 137/200\n",
      "3/3 [==============================] - 0s 21ms/step - loss: 2.6706 - val_loss: 2.7151\n",
      "Epoch 138/200\n",
      "3/3 [==============================] - 0s 17ms/step - loss: 2.6581 - val_loss: 2.7415\n",
      "Epoch 139/200\n",
      "3/3 [==============================] - 0s 17ms/step - loss: 2.6401 - val_loss: 2.6819\n",
      "Epoch 140/200\n",
      "3/3 [==============================] - 0s 18ms/step - loss: 2.6079 - val_loss: 2.7501\n",
      "Epoch 141/200\n",
      "3/3 [==============================] - 0s 17ms/step - loss: 2.6403 - val_loss: 2.6928\n",
      "Epoch 142/200\n",
      "3/3 [==============================] - 0s 17ms/step - loss: 2.6415 - val_loss: 2.7634\n",
      "Epoch 143/200\n",
      "3/3 [==============================] - 0s 17ms/step - loss: 2.6439 - val_loss: 2.7619\n",
      "Epoch 144/200\n",
      "3/3 [==============================] - 0s 17ms/step - loss: 2.6492 - val_loss: 2.6928\n",
      "Epoch 145/200\n",
      "3/3 [==============================] - 0s 18ms/step - loss: 2.6297 - val_loss: 2.7110\n",
      "Epoch 146/200\n",
      "3/3 [==============================] - 0s 21ms/step - loss: 2.6462 - val_loss: 2.7961\n",
      "Epoch 147/200\n",
      "3/3 [==============================] - 0s 19ms/step - loss: 2.6741 - val_loss: 2.7550\n",
      "Epoch 148/200\n",
      "3/3 [==============================] - 0s 19ms/step - loss: 2.6678 - val_loss: 2.7944\n",
      "Epoch 149/200\n",
      "3/3 [==============================] - 0s 18ms/step - loss: 2.8057 - val_loss: 2.9713\n",
      "Epoch 150/200\n",
      "3/3 [==============================] - 0s 22ms/step - loss: 2.9786 - val_loss: 2.9258\n",
      "Epoch 151/200\n",
      "3/3 [==============================] - 0s 21ms/step - loss: 2.8192 - val_loss: 2.7596\n",
      "Epoch 152/200\n",
      "3/3 [==============================] - 0s 20ms/step - loss: 2.7942 - val_loss: 2.9016\n",
      "Epoch 153/200\n",
      "3/3 [==============================] - 0s 19ms/step - loss: 2.8132 - val_loss: 2.8034\n",
      "Epoch 154/200\n",
      "3/3 [==============================] - 0s 30ms/step - loss: 2.7165 - val_loss: 2.7167\n",
      "Epoch 155/200\n",
      "3/3 [==============================] - 0s 15ms/step - loss: 2.6918 - val_loss: 2.7942\n",
      "Epoch 156/200\n",
      "3/3 [==============================] - 0s 16ms/step - loss: 2.6661 - val_loss: 2.8096\n",
      "Epoch 157/200\n",
      "3/3 [==============================] - 0s 17ms/step - loss: 2.6464 - val_loss: 2.7767\n",
      "Epoch 158/200\n",
      "3/3 [==============================] - 0s 21ms/step - loss: 2.6709 - val_loss: 2.7195\n",
      "Epoch 159/200\n",
      "3/3 [==============================] - 0s 21ms/step - loss: 2.6495 - val_loss: 2.7214\n",
      "Epoch 160/200\n",
      "3/3 [==============================] - 0s 20ms/step - loss: 2.6848 - val_loss: 2.7994\n",
      "Epoch 161/200\n",
      "3/3 [==============================] - 0s 17ms/step - loss: 2.7585 - val_loss: 2.7394\n",
      "Epoch 162/200\n",
      "3/3 [==============================] - 0s 21ms/step - loss: 2.6547 - val_loss: 2.8319\n",
      "Epoch 163/200\n"
     ]
    },
    {
     "name": "stdout",
     "output_type": "stream",
     "text": [
      "3/3 [==============================] - 0s 19ms/step - loss: 2.6929 - val_loss: 2.7059\n",
      "Epoch 164/200\n",
      "3/3 [==============================] - 0s 18ms/step - loss: 2.6618 - val_loss: 2.7472\n",
      "Epoch 165/200\n",
      "3/3 [==============================] - 0s 23ms/step - loss: 2.6480 - val_loss: 2.8375\n",
      "Epoch 166/200\n",
      "3/3 [==============================] - 0s 14ms/step - loss: 2.7015 - val_loss: 2.7127\n",
      "Epoch 167/200\n",
      "3/3 [==============================] - 0s 21ms/step - loss: 2.6024 - val_loss: 2.6841\n",
      "Epoch 168/200\n",
      "3/3 [==============================] - 0s 17ms/step - loss: 2.6369 - val_loss: 2.8543\n",
      "Epoch 169/200\n",
      "3/3 [==============================] - 0s 17ms/step - loss: 2.7473 - val_loss: 2.7491\n",
      "Epoch 170/200\n",
      "3/3 [==============================] - 0s 22ms/step - loss: 2.7367 - val_loss: 2.7744\n",
      "Epoch 171/200\n",
      "3/3 [==============================] - 0s 14ms/step - loss: 2.7121 - val_loss: 2.9086\n",
      "Epoch 172/200\n",
      "3/3 [==============================] - 0s 21ms/step - loss: 2.8048 - val_loss: 2.9879\n",
      "Epoch 173/200\n",
      "3/3 [==============================] - 0s 13ms/step - loss: 3.3102 - val_loss: 3.5713\n",
      "Epoch 174/200\n",
      "3/3 [==============================] - 0s 23ms/step - loss: 3.5068 - val_loss: 4.4141\n",
      "Epoch 175/200\n",
      "3/3 [==============================] - 0s 13ms/step - loss: 3.7113 - val_loss: 3.7150\n",
      "Epoch 176/200\n",
      "3/3 [==============================] - 0s 22ms/step - loss: 3.6289 - val_loss: 3.1581\n",
      "Epoch 177/200\n",
      "3/3 [==============================] - 0s 20ms/step - loss: 2.9622 - val_loss: 3.4707\n",
      "Epoch 178/200\n",
      "3/3 [==============================] - 0s 21ms/step - loss: 3.0729 - val_loss: 3.2382\n",
      "Epoch 179/200\n",
      "3/3 [==============================] - 0s 16ms/step - loss: 3.1842 - val_loss: 2.8934\n",
      "Epoch 180/200\n",
      "3/3 [==============================] - 0s 17ms/step - loss: 2.9921 - val_loss: 2.8997\n",
      "Epoch 181/200\n",
      "3/3 [==============================] - 0s 22ms/step - loss: 3.0711 - val_loss: 3.1844\n",
      "Epoch 182/200\n",
      "3/3 [==============================] - 0s 13ms/step - loss: 2.9022 - val_loss: 2.9317\n",
      "Epoch 183/200\n",
      "3/3 [==============================] - 0s 20ms/step - loss: 2.9758 - val_loss: 3.4907\n",
      "Epoch 184/200\n",
      "3/3 [==============================] - 0s 17ms/step - loss: 3.3749 - val_loss: 3.5185\n",
      "Epoch 185/200\n",
      "3/3 [==============================] - 0s 17ms/step - loss: 3.1489 - val_loss: 2.9789\n",
      "Epoch 186/200\n",
      "3/3 [==============================] - 0s 22ms/step - loss: 2.8246 - val_loss: 2.9253\n",
      "Epoch 187/200\n",
      "3/3 [==============================] - 0s 18ms/step - loss: 3.1385 - val_loss: 3.1629\n",
      "Epoch 188/200\n",
      "3/3 [==============================] - 0s 17ms/step - loss: 3.2103 - val_loss: 3.0105\n",
      "Epoch 189/200\n",
      "3/3 [==============================] - 0s 22ms/step - loss: 2.9987 - val_loss: 2.7897\n",
      "Epoch 190/200\n",
      "3/3 [==============================] - 0s 14ms/step - loss: 2.7598 - val_loss: 2.9327\n",
      "Epoch 191/200\n",
      "3/3 [==============================] - 0s 21ms/step - loss: 2.8236 - val_loss: 2.9159\n",
      "Epoch 192/200\n",
      "3/3 [==============================] - 0s 17ms/step - loss: 2.7307 - val_loss: 2.6976\n",
      "Epoch 193/200\n",
      "3/3 [==============================] - 0s 19ms/step - loss: 2.7553 - val_loss: 2.7831\n",
      "Epoch 194/200\n",
      "3/3 [==============================] - 0s 17ms/step - loss: 2.6997 - val_loss: 2.7492\n",
      "Epoch 195/200\n",
      "3/3 [==============================] - 0s 16ms/step - loss: 2.6915 - val_loss: 2.7574\n",
      "Epoch 196/200\n",
      "3/3 [==============================] - 0s 19ms/step - loss: 2.7206 - val_loss: 2.8244\n",
      "Epoch 197/200\n",
      "3/3 [==============================] - 0s 21ms/step - loss: 2.6681 - val_loss: 2.8582\n",
      "Epoch 198/200\n",
      "3/3 [==============================] - 0s 17ms/step - loss: 2.6886 - val_loss: 2.7880\n",
      "Epoch 199/200\n",
      "3/3 [==============================] - 0s 18ms/step - loss: 2.6522 - val_loss: 2.6876\n",
      "Epoch 200/200\n",
      "3/3 [==============================] - 0s 19ms/step - loss: 2.6980 - val_loss: 2.7974\n"
     ]
    }
   ],
   "source": [
    "history = model.fit(X_train, y_train, epochs=200,\n",
    "                    validation_data=(X_valid, y_valid))"
   ]
  },
  {
   "cell_type": "code",
   "execution_count": 68,
   "id": "0b29d35c",
   "metadata": {
    "scrolled": true
   },
   "outputs": [],
   "source": [
    "# history = model.fit(X_train, y_train, epochs=145,\n",
    "#                     validation_data=(X_valid, y_valid), callbacks=[lr_scheduler])"
   ]
  },
  {
   "cell_type": "code",
   "execution_count": 69,
   "id": "28215732",
   "metadata": {},
   "outputs": [
    {
     "name": "stdout",
     "output_type": "stream",
     "text": [
      "Saving figure grid_Gaussian_training_curve\n"
     ]
    },
    {
     "data": {
      "image/png": "[encoded data removed]",
      "text/plain": [
       "<Figure size 576x360 with 1 Axes>"
      ]
     },
     "metadata": {
      "needs_background": "light"
     },
     "output_type": "display_data"
    }
   ],
   "source": [
    "import pandas as pd\n",
    "\n",
    "# print(history.history)\n",
    "try:\n",
    "    lr_list = history.history[\"lr\"]\n",
    "    del(history.history[\"lr\"])\n",
    "except:\n",
    "    pass\n",
    "\n",
    "pd.DataFrame(history.history)[50:].plot(figsize=(8, 5))\n",
    "plt.grid(True)\n",
    "# plt.gca().set_ylim(0, 1)\n",
    "save_fig(\"grid_Gaussian_training_curve\")\n",
    "plt.show()"
   ]
  },
  {
   "cell_type": "code",
   "execution_count": 70,
   "id": "47d362c9",
   "metadata": {
    "scrolled": true
   },
   "outputs": [
    {
     "name": "stdout",
     "output_type": "stream",
     "text": [
      "X.shape = (None, 1)\n",
      "gauss_grid.shape = (None, 5)\n",
      "Saving figure grid_Gaussian_prediction\n"
     ]
    },
    {
     "data": {
      "image/png": "[encoded data removed]",
      "text/plain": [
       "<Figure size 432x288 with 1 Axes>"
      ]
     },
     "metadata": {
      "needs_background": "light"
     },
     "output_type": "display_data"
    }
   ],
   "source": [
    "# plt.plot(X_train, y_train, \"b.\")\n",
    "draw_points(X_train, y_train, sid_train)\n",
    "draw_func((lambda X: model.predict(X)[:,0] ), mark='r-', linewidth=2, label=\"Predictions\")\n",
    "draw_normal_func(func_dict)\n",
    "plt.xlabel(\"$x_1$\", fontsize=18)\n",
    "plt.ylabel(\"$y$\", rotation=0, fontsize=18)\n",
    "plt.legend(loc=\"upper left\", fontsize=14)\n",
    "# plt.axis([-3, 3, 0, 10])\n",
    "save_fig(\"grid_Gaussian_prediction\")\n",
    "plt.show()"
   ]
  },
  {
   "cell_type": "code",
   "execution_count": 71,
   "id": "a85a5159",
   "metadata": {},
   "outputs": [
    {
     "name": "stdout",
     "output_type": "stream",
     "text": [
      "y_func.shape = (100, 1)\n",
      "y_gt.shape = (100, 1)\n"
     ]
    },
    {
     "data": {
      "text/plain": [
       "2.702518559451252"
      ]
     },
     "execution_count": 71,
     "metadata": {},
     "output_type": "execute_result"
    }
   ],
   "source": [
    "get_prediction_error((lambda X: model.predict(X)[:,0] ), func_dict, name=\"grid-oneGaussian\")"
   ]
  },
  {
   "cell_type": "markdown",
   "id": "9ca1e36d",
   "metadata": {},
   "source": [
    "### Draw the 1-sigma boundary line"
   ]
  },
  {
   "cell_type": "code",
   "execution_count": 72,
   "id": "a04a47fa",
   "metadata": {},
   "outputs": [
    {
     "name": "stdout",
     "output_type": "stream",
     "text": [
      "Saving figure grid_Gaussian_1sigma\n"
     ]
    },
    {
     "data": {
      "image/png": "[encoded data removed]",
      "text/plain": [
       "<Figure size 432x288 with 1 Axes>"
      ]
     },
     "metadata": {
      "needs_background": "light"
     },
     "output_type": "display_data"
    }
   ],
   "source": [
    "def n_sigma_boundary_line(X, n):\n",
    "    _y = model.predict(X)\n",
    "    _mean, _z = _y[:,0:1], _y[:,1:2]\n",
    "    _sigma = np.exp(alpha*_z)\n",
    "    return( _mean + n*_sigma)\n",
    "\n",
    "# plt.plot(X_train, y_train, \"b.\")\n",
    "draw_points(X_train, y_train, sid_train)\n",
    "#\n",
    "draw_func((lambda X: model.predict(X)[:,0] ), mark='r-', linewidth=2, label=\"Predictions\")\n",
    "draw_func((lambda X: n_sigma_boundary_line(X, +1.0) ), mark='k--', linewidth=1, label=\"$\\mu+\\sigma$\")\n",
    "draw_func((lambda X: n_sigma_boundary_line(X, -1.0) ), mark='k--', linewidth=1, label=\"$\\mu-\\sigma$\")\n",
    "#\n",
    "draw_normal_func(func_dict)\n",
    "plt.xlabel(\"$x_1$\", fontsize=18)\n",
    "plt.ylabel(\"$y$\", rotation=0, fontsize=18)\n",
    "plt.legend(loc=\"upper left\", fontsize=14)\n",
    "# plt.axis([-3, 3, 0, 10])\n",
    "save_fig(\"grid_Gaussian_1sigma\")\n",
    "plt.show()"
   ]
  },
  {
   "cell_type": "markdown",
   "id": "cfe9d761",
   "metadata": {},
   "source": [
    "# Per-subject Bias/Property Learning"
   ]
  },
  {
   "cell_type": "code",
   "execution_count": 121,
   "id": "724afbeb",
   "metadata": {},
   "outputs": [],
   "source": [
    "# Create a custom layer for estimating bais for each subject\n",
    "class SubjectBias(keras.layers.Layer):\n",
    "    def __init__(self, num_subject, bias_scale=1.0, mean_reg_rate=1.0, activation=None, **kwargs):\n",
    "        super().__init__(**kwargs)\n",
    "        self.num_subject = num_subject\n",
    "        self.bias_scale = bias_scale\n",
    "        self.mean_reg_rate = mean_reg_rate if mean_reg_rate >= 0.0 else 0.0\n",
    "        #\n",
    "        self.X_shape = None\n",
    "        self.activation = keras.activations.get(activation)\n",
    "        \n",
    "    def build(self, batch_input_shape):\n",
    "        self.X_shape = batch_input_shape[0]\n",
    "        # Initiate a trainable vector as the bias for X\n",
    "        \"\"\"\n",
    "        bias: (num_subject, X_shape[1], X_shape[2], ...)\n",
    "        \"\"\"\n",
    "        self.bias = self.add_weight(name=\"bias\", \n",
    "                                    shape=([self.num_subject] + self.X_shape[1:]), \n",
    "                                    initializer=\"zeros\")\n",
    "        super().build(batch_input_shape) # must be at the end\n",
    "        \n",
    "    def get_bias(self, sid):\n",
    "        '''\n",
    "        A helper function for retriving the bias according to the given sid.\n",
    "        Note: sid starts from 1.\n",
    "        Note2: this is the bias added to X, which are scaled by self.bias_scale\n",
    "        '''\n",
    "        if sid > self.num_subject or sid <= 0: # Out of bound, index not in range\n",
    "            return tf.zeros(self.X_shape[1:])\n",
    "        else:\n",
    "            return self.bias_scale * self.bias[tf.cast(sid-1, tf.int32),:]\n",
    "        \n",
    "    def get_scaled_biases_np(self):\n",
    "        return self.bias_scale * self.bias.numpy()\n",
    "        \n",
    "    def call(self, X_sid, training=None):\n",
    "        '''\n",
    "        X_sid = [X, sid]\n",
    "        Input shape:  X: (batch, ...), sid: (batch, 1)\n",
    "        Output shape: (batch, ...)\n",
    "        '''\n",
    "        X, SID = X_sid\n",
    "        X_shape = X.shape\n",
    "        print(\"X.shape = %s\" % X.shape)\n",
    "        print(\"SID.shape = %s\" % SID.shape)\n",
    "        \n",
    "        # Add bias\n",
    "        y = X + self.bias_scale * tf.gather(self.bias, SID[:,0]-1, axis=0)\n",
    "        \n",
    "        # Add a loss on the means in order to force them to become zeros\n",
    "        if self.mean_reg_rate > 0.0:\n",
    "            # Calculate the mean of all biases (on each dimension)\n",
    "            bias_means = tf.reduce_sum(self.bias, axis=0)\n",
    "            # MAE of means on all dimensions\n",
    "            self.add_loss( self.mean_reg_rate * tf.reduce_sum(tf.abs(bias_means)) )\n",
    "        \n",
    "        return self.activation(y)\n",
    "        \n",
    "#         if training:    \n",
    "#             # Add biases according to the sid of each instance\n",
    "#             # Note: a corner case is not handeled that if there exist out-of-range sid.\n",
    "#             # y = X + self.bias[tf.cast(SID[:,0]-1, tf.int32),:]\n",
    "#             # y = X + self.bias[ SID[:,0]-1,:]\n",
    "#             y = X + tf.gather(self.bias, SID[:,0]-1, axis=0)\n",
    "#             return self.activation(y)\n",
    "#         else: # If it's not trainig, just output the original X without adding bias\n",
    "#             return self.activation(X_sid[0])\n",
    "    \n",
    "    def compute_output_shape(self, batch_input_shape):\n",
    "        # Note: the same shape as the first input\n",
    "        return batch_input_shape[0]\n",
    "    \n",
    "    def get_config(self):\n",
    "        base_config = super().get_config()\n",
    "        return {**base_config, \n",
    "                \"num_subject\": self.num_subject,\n",
    "                \"bias_scale\": self.bias_scale,\n",
    "                \"mean_reg_rate\": self.mean_reg_rate,\n",
    "                \"activation\": keras.activations.serialize(self.activation)}"
   ]
  },
  {
   "cell_type": "markdown",
   "id": "aa56de7b",
   "metadata": {},
   "source": [
    "Number of subjects"
   ]
  },
  {
   "cell_type": "code",
   "execution_count": 122,
   "id": "e27e0069",
   "metadata": {},
   "outputs": [],
   "source": [
    "# Number of subjects\n",
    "num_subject = multiout_type"
   ]
  },
  {
   "cell_type": "markdown",
   "id": "c8b1471d",
   "metadata": {},
   "source": [
    "Build two models"
   ]
  },
  {
   "cell_type": "code",
   "execution_count": 123,
   "id": "08fd6f2f",
   "metadata": {},
   "outputs": [
    {
     "name": "stdout",
     "output_type": "stream",
     "text": [
      "X.shape = (None, 1)\n",
      "gauss_grid.shape = (None, 5)\n",
      "X.shape = (None, 1)\n",
      "SID.shape = (None, 1)\n"
     ]
    }
   ],
   "source": [
    "inputs = keras.layers.Input(shape=X_train.shape[1:])\n",
    "inputs_sid = keras.layers.Input(shape=(1,), dtype=tf.int32)\n",
    "#\n",
    "z = num2grid(5,x_min=-10, x_max=10, sigma=3.0)(inputs)\n",
    "z = keras.layers.Dense(30, activation=\"relu\")(z)\n",
    "output = keras.layers.Dense(1)(z)\n",
    "output_biased = SubjectBias(num_subject, bias_scale=100.0, mean_reg_rate=0.1, name=\"bias_est\")([output, inputs_sid])\n",
    "# Setup models\n",
    "model = keras.Model(inputs=[inputs], outputs=[output]) # pure\n",
    "model_biased = keras.Model(inputs=[inputs, inputs_sid], outputs=[output_biased]) # biased, for training"
   ]
  },
  {
   "cell_type": "code",
   "execution_count": 124,
   "id": "a7ba11e6",
   "metadata": {},
   "outputs": [
    {
     "name": "stderr",
     "output_type": "stream",
     "text": [
      "C:\\Users\\benso\\anaconda3\\envs\\ml\\lib\\site-packages\\keras\\optimizer_v2\\adam.py:105: UserWarning: The `lr` argument is deprecated, use `learning_rate` instead.\n",
      "  super(Adam, self).__init__(name, **kwargs)\n"
     ]
    }
   ],
   "source": [
    "# optimizer = keras.optimizers.SGD(lr=0.001, momentum=0.9)\n",
    "# model.compile(loss=\"mean_squared_error\", optimizer=optimizer)\n",
    "optimizer = keras.optimizers.Adam(lr=0.1)\n",
    "model_biased.compile(loss=\"mean_absolute_error\", optimizer=optimizer)\n",
    "#\n",
    "# model.compile(loss=\"mean_absolute_error\", optimizer=optimizer) # No need to compile this if it's not going to be trained."
   ]
  },
  {
   "cell_type": "code",
   "execution_count": 125,
   "id": "04657881",
   "metadata": {
    "scrolled": true
   },
   "outputs": [
    {
     "name": "stdout",
     "output_type": "stream",
     "text": [
      "Epoch 1/100\n",
      "X.shape = (None, 1)\n",
      "gauss_grid.shape = (None, 5)\n",
      "X.shape = (None, 1)\n",
      "SID.shape = (None, 1)\n",
      "X.shape = (None, 1)\n",
      "gauss_grid.shape = (None, 5)\n",
      "X.shape = (None, 1)\n",
      "SID.shape = (None, 1)\n",
      "1/3 [=========>....................] - ETA: 1s - loss: 39.8500X.shape = (None, 1)\n",
      "gauss_grid.shape = (None, 5)\n",
      "X.shape = (None, 1)\n",
      "SID.shape = (None, 1)\n",
      "3/3 [==============================] - 1s 131ms/step - loss: 40.6520 - val_loss: 34.8200\n",
      "Epoch 2/100\n",
      "3/3 [==============================] - 0s 31ms/step - loss: 35.5446 - val_loss: 27.9203\n",
      "Epoch 3/100\n",
      "3/3 [==============================] - 0s 35ms/step - loss: 31.0306 - val_loss: 20.5658\n",
      "Epoch 4/100\n",
      "3/3 [==============================] - 0s 37ms/step - loss: 24.8683 - val_loss: 13.9136\n",
      "Epoch 5/100\n",
      "3/3 [==============================] - 0s 28ms/step - loss: 16.0358 - val_loss: 9.0487\n",
      "Epoch 6/100\n",
      "3/3 [==============================] - 0s 28ms/step - loss: 11.5677 - val_loss: 9.0150\n",
      "Epoch 7/100\n",
      "3/3 [==============================] - 0s 43ms/step - loss: 13.3312 - val_loss: 9.5565\n",
      "Epoch 8/100\n",
      "3/3 [==============================] - 0s 17ms/step - loss: 12.7246 - val_loss: 9.4637\n",
      "Epoch 9/100\n",
      "3/3 [==============================] - 0s 30ms/step - loss: 11.9021 - val_loss: 8.3539\n",
      "Epoch 10/100\n",
      "3/3 [==============================] - 0s 22ms/step - loss: 10.2410 - val_loss: 10.1573\n",
      "Epoch 11/100\n",
      "3/3 [==============================] - 0s 20ms/step - loss: 10.6185 - val_loss: 9.4087\n",
      "Epoch 12/100\n",
      "3/3 [==============================] - 0s 18ms/step - loss: 10.5010 - val_loss: 8.1782\n",
      "Epoch 13/100\n",
      "3/3 [==============================] - 0s 28ms/step - loss: 10.0155 - val_loss: 8.5987\n",
      "Epoch 14/100\n",
      "3/3 [==============================] - 0s 20ms/step - loss: 9.4430 - val_loss: 9.4043\n",
      "Epoch 15/100\n",
      "3/3 [==============================] - 0s 19ms/step - loss: 11.1355 - val_loss: 9.3463\n",
      "Epoch 16/100\n",
      "3/3 [==============================] - 0s 21ms/step - loss: 9.7619 - val_loss: 9.4892\n",
      "Epoch 17/100\n",
      "3/3 [==============================] - 0s 21ms/step - loss: 10.0607 - val_loss: 8.5519\n",
      "Epoch 18/100\n",
      "3/3 [==============================] - 0s 18ms/step - loss: 9.5229 - val_loss: 8.4509\n",
      "Epoch 19/100\n",
      "3/3 [==============================] - 0s 20ms/step - loss: 8.0439 - val_loss: 9.8003\n",
      "Epoch 20/100\n",
      "3/3 [==============================] - 0s 23ms/step - loss: 9.0860 - val_loss: 9.8631\n",
      "Epoch 21/100\n",
      "3/3 [==============================] - 0s 18ms/step - loss: 7.9287 - val_loss: 7.7460\n",
      "Epoch 22/100\n",
      "3/3 [==============================] - 0s 22ms/step - loss: 8.4707 - val_loss: 7.6564\n",
      "Epoch 23/100\n",
      "3/3 [==============================] - 0s 18ms/step - loss: 7.8523 - val_loss: 8.0784\n",
      "Epoch 24/100\n",
      "3/3 [==============================] - 0s 15ms/step - loss: 7.8565 - val_loss: 9.2694\n",
      "Epoch 25/100\n",
      "3/3 [==============================] - 0s 20ms/step - loss: 7.6927 - val_loss: 7.5066\n",
      "Epoch 26/100\n",
      "3/3 [==============================] - 0s 25ms/step - loss: 7.0601 - val_loss: 7.7660\n",
      "Epoch 27/100\n",
      "3/3 [==============================] - 0s 24ms/step - loss: 7.4457 - val_loss: 8.0864\n",
      "Epoch 28/100\n",
      "3/3 [==============================] - 0s 24ms/step - loss: 6.3877 - val_loss: 8.6901\n",
      "Epoch 29/100\n",
      "3/3 [==============================] - 0s 21ms/step - loss: 7.3471 - val_loss: 8.1103\n",
      "Epoch 30/100\n",
      "3/3 [==============================] - 0s 26ms/step - loss: 6.3785 - val_loss: 7.0751\n",
      "Epoch 31/100\n",
      "3/3 [==============================] - 0s 22ms/step - loss: 6.4319 - val_loss: 7.7928\n",
      "Epoch 32/100\n",
      "3/3 [==============================] - 0s 20ms/step - loss: 6.3562 - val_loss: 7.7091\n",
      "Epoch 33/100\n",
      "3/3 [==============================] - 0s 25ms/step - loss: 5.7586 - val_loss: 8.2296\n",
      "Epoch 34/100\n",
      "3/3 [==============================] - 0s 30ms/step - loss: 6.3376 - val_loss: 7.5452\n",
      "Epoch 35/100\n",
      "3/3 [==============================] - 0s 23ms/step - loss: 6.3622 - val_loss: 8.1593\n",
      "Epoch 36/100\n",
      "3/3 [==============================] - 0s 29ms/step - loss: 6.8309 - val_loss: 6.9124\n",
      "Epoch 37/100\n",
      "3/3 [==============================] - 0s 19ms/step - loss: 6.2196 - val_loss: 7.4028\n",
      "Epoch 38/100\n",
      "3/3 [==============================] - 0s 25ms/step - loss: 5.6959 - val_loss: 8.0101\n",
      "Epoch 39/100\n",
      "3/3 [==============================] - 0s 18ms/step - loss: 6.2418 - val_loss: 7.1908\n",
      "Epoch 40/100\n",
      "3/3 [==============================] - 0s 18ms/step - loss: 5.7573 - val_loss: 6.6219\n",
      "Epoch 41/100\n",
      "3/3 [==============================] - 0s 25ms/step - loss: 5.9287 - val_loss: 7.3276\n",
      "Epoch 42/100\n",
      "3/3 [==============================] - 0s 18ms/step - loss: 5.7221 - val_loss: 7.7303\n",
      "Epoch 43/100\n",
      "3/3 [==============================] - 0s 19ms/step - loss: 5.9142 - val_loss: 6.0335\n",
      "Epoch 44/100\n",
      "3/3 [==============================] - 0s 45ms/step - loss: 5.7350 - val_loss: 6.9540\n",
      "Epoch 45/100\n",
      "3/3 [==============================] - 0s 20ms/step - loss: 5.5001 - val_loss: 6.9097\n",
      "Epoch 46/100\n",
      "3/3 [==============================] - 0s 26ms/step - loss: 5.6375 - val_loss: 6.0779\n",
      "Epoch 47/100\n",
      "3/3 [==============================] - 0s 27ms/step - loss: 5.6022 - val_loss: 7.2373\n",
      "Epoch 48/100\n",
      "3/3 [==============================] - 0s 22ms/step - loss: 5.6338 - val_loss: 7.2110\n",
      "Epoch 49/100\n",
      "3/3 [==============================] - 0s 30ms/step - loss: 6.5130 - val_loss: 6.9501\n",
      "Epoch 50/100\n",
      "3/3 [==============================] - 0s 18ms/step - loss: 6.2980 - val_loss: 5.6058\n",
      "Epoch 51/100\n",
      "3/3 [==============================] - 0s 26ms/step - loss: 5.9315 - val_loss: 6.3811\n",
      "Epoch 52/100\n",
      "3/3 [==============================] - 0s 20ms/step - loss: 5.7641 - val_loss: 10.3752\n",
      "Epoch 53/100\n",
      "3/3 [==============================] - 0s 15ms/step - loss: 6.5708 - val_loss: 5.8012\n",
      "Epoch 54/100\n",
      "3/3 [==============================] - 0s 27ms/step - loss: 5.8086 - val_loss: 5.8165\n",
      "Epoch 55/100\n",
      "3/3 [==============================] - 0s 17ms/step - loss: 5.4936 - val_loss: 7.0764\n",
      "Epoch 56/100\n",
      "3/3 [==============================] - 0s 26ms/step - loss: 6.3104 - val_loss: 7.3213\n",
      "Epoch 57/100\n",
      "3/3 [==============================] - 0s 20ms/step - loss: 5.7349 - val_loss: 5.2856\n",
      "Epoch 58/100\n",
      "3/3 [==============================] - 0s 15ms/step - loss: 6.1792 - val_loss: 6.7849\n",
      "Epoch 59/100\n",
      "3/3 [==============================] - 0s 26ms/step - loss: 6.0751 - val_loss: 7.3158\n",
      "Epoch 60/100\n",
      "3/3 [==============================] - 0s 19ms/step - loss: 5.7620 - val_loss: 6.7194\n",
      "Epoch 61/100\n",
      "3/3 [==============================] - 0s 17ms/step - loss: 5.4186 - val_loss: 5.3141\n",
      "Epoch 62/100\n",
      "3/3 [==============================] - 0s 20ms/step - loss: 5.8381 - val_loss: 7.1152\n",
      "Epoch 63/100\n",
      "3/3 [==============================] - 0s 28ms/step - loss: 7.5499 - val_loss: 5.4080\n",
      "Epoch 64/100\n",
      "3/3 [==============================] - 0s 29ms/step - loss: 7.4194 - val_loss: 5.4801\n",
      "Epoch 65/100\n",
      "3/3 [==============================] - 0s 30ms/step - loss: 6.8601 - val_loss: 7.9730\n",
      "Epoch 66/100\n",
      "3/3 [==============================] - 0s 19ms/step - loss: 6.6750 - val_loss: 5.6812\n",
      "Epoch 67/100\n",
      "3/3 [==============================] - 0s 15ms/step - loss: 6.9861 - val_loss: 6.9196\n",
      "Epoch 68/100\n",
      "3/3 [==============================] - 0s 27ms/step - loss: 6.0945 - val_loss: 5.1471\n",
      "Epoch 69/100\n",
      "3/3 [==============================] - 0s 18ms/step - loss: 6.2779 - val_loss: 7.0280\n",
      "Epoch 70/100\n",
      "3/3 [==============================] - 0s 28ms/step - loss: 6.4934 - val_loss: 5.1458\n",
      "Epoch 71/100\n",
      "3/3 [==============================] - 0s 31ms/step - loss: 5.9506 - val_loss: 4.8541\n",
      "Epoch 72/100\n",
      "3/3 [==============================] - 0s 19ms/step - loss: 6.2683 - val_loss: 5.0820\n",
      "Epoch 73/100\n",
      "3/3 [==============================] - 0s 28ms/step - loss: 6.4865 - val_loss: 4.8466\n",
      "Epoch 74/100\n",
      "3/3 [==============================] - 0s 33ms/step - loss: 6.0964 - val_loss: 7.0414\n",
      "Epoch 75/100\n",
      "3/3 [==============================] - 0s 21ms/step - loss: 6.3055 - val_loss: 5.3618\n",
      "Epoch 76/100\n",
      "3/3 [==============================] - 0s 26ms/step - loss: 6.0059 - val_loss: 5.1248\n",
      "Epoch 77/100\n",
      "3/3 [==============================] - 0s 22ms/step - loss: 5.7568 - val_loss: 5.1235\n",
      "Epoch 78/100\n",
      "3/3 [==============================] - 0s 26ms/step - loss: 5.8995 - val_loss: 6.5158\n",
      "Epoch 79/100\n",
      "3/3 [==============================] - 0s 41ms/step - loss: 5.6752 - val_loss: 5.5386\n",
      "Epoch 80/100\n"
     ]
    },
    {
     "name": "stdout",
     "output_type": "stream",
     "text": [
      "3/3 [==============================] - 0s 31ms/step - loss: 5.7411 - val_loss: 4.6349\n",
      "Epoch 81/100\n",
      "3/3 [==============================] - 0s 24ms/step - loss: 5.7216 - val_loss: 6.9382\n",
      "Epoch 82/100\n",
      "3/3 [==============================] - 0s 20ms/step - loss: 5.8923 - val_loss: 5.6713\n",
      "Epoch 83/100\n",
      "3/3 [==============================] - 0s 20ms/step - loss: 5.6355 - val_loss: 5.0067\n",
      "Epoch 84/100\n",
      "3/3 [==============================] - 0s 21ms/step - loss: 5.6175 - val_loss: 5.0986\n",
      "Epoch 85/100\n",
      "3/3 [==============================] - 0s 21ms/step - loss: 5.7204 - val_loss: 4.8261\n",
      "Epoch 86/100\n",
      "3/3 [==============================] - 0s 20ms/step - loss: 6.1192 - val_loss: 5.4025\n",
      "Epoch 87/100\n",
      "3/3 [==============================] - 0s 24ms/step - loss: 5.6486 - val_loss: 5.4708\n",
      "Epoch 88/100\n",
      "3/3 [==============================] - 0s 20ms/step - loss: 5.9969 - val_loss: 5.3494\n",
      "Epoch 89/100\n",
      "3/3 [==============================] - 0s 22ms/step - loss: 5.4464 - val_loss: 4.9223\n",
      "Epoch 90/100\n",
      "3/3 [==============================] - 0s 19ms/step - loss: 5.5402 - val_loss: 4.7496\n",
      "Epoch 91/100\n",
      "3/3 [==============================] - 0s 20ms/step - loss: 5.8021 - val_loss: 5.7885\n",
      "Epoch 92/100\n",
      "3/3 [==============================] - 0s 21ms/step - loss: 5.4509 - val_loss: 4.8402\n",
      "Epoch 93/100\n",
      "3/3 [==============================] - 0s 19ms/step - loss: 5.2324 - val_loss: 6.7286\n",
      "Epoch 94/100\n",
      "3/3 [==============================] - 0s 15ms/step - loss: 5.8788 - val_loss: 4.7753\n",
      "Epoch 95/100\n",
      "3/3 [==============================] - 0s 21ms/step - loss: 6.3113 - val_loss: 6.0887\n",
      "Epoch 96/100\n",
      "3/3 [==============================] - 0s 23ms/step - loss: 6.4036 - val_loss: 4.4008\n",
      "Epoch 97/100\n",
      "3/3 [==============================] - 0s 23ms/step - loss: 6.2732 - val_loss: 4.2681\n",
      "Epoch 98/100\n",
      "3/3 [==============================] - 0s 19ms/step - loss: 5.6628 - val_loss: 5.0077\n",
      "Epoch 99/100\n",
      "3/3 [==============================] - 0s 22ms/step - loss: 5.4399 - val_loss: 4.8460\n",
      "Epoch 100/100\n",
      "3/3 [==============================] - 0s 14ms/step - loss: 5.6605 - val_loss: 4.5197\n"
     ]
    }
   ],
   "source": [
    "history = model_biased.fit([X_train, sid_train], y_train, epochs=100,\n",
    "                    validation_data=([X_valid, sid_valid], y_valid))"
   ]
  },
  {
   "cell_type": "code",
   "execution_count": 126,
   "id": "62214dc8",
   "metadata": {},
   "outputs": [
    {
     "name": "stdout",
     "output_type": "stream",
     "text": [
      "Saving figure grid_noBiaseNum_training_curve\n"
     ]
    },
    {
     "data": {
      "image/png": "[encoded data removed]",
      "text/plain": [
       "<Figure size 576x360 with 1 Axes>"
      ]
     },
     "metadata": {
      "needs_background": "light"
     },
     "output_type": "display_data"
    }
   ],
   "source": [
    "import pandas as pd\n",
    "\n",
    "pd.DataFrame(history.history).plot(figsize=(8, 5))\n",
    "plt.grid(True)\n",
    "# plt.gca().set_ylim(0, 1)\n",
    "save_fig(\"grid_noBiaseNum_training_curve\")\n",
    "plt.show()"
   ]
  },
  {
   "cell_type": "markdown",
   "id": "3c028fdb",
   "metadata": {},
   "source": [
    "The pure prediction"
   ]
  },
  {
   "cell_type": "code",
   "execution_count": 127,
   "id": "72e7dfd9",
   "metadata": {},
   "outputs": [
    {
     "name": "stdout",
     "output_type": "stream",
     "text": [
      "X.shape = (None, 1)\n",
      "gauss_grid.shape = (None, 5)\n",
      "Saving figure grid_noBaisedNum_prediction\n"
     ]
    },
    {
     "data": {
      "image/png": "[encoded data removed]",
      "text/plain": [
       "<Figure size 432x288 with 1 Axes>"
      ]
     },
     "metadata": {
      "needs_background": "light"
     },
     "output_type": "display_data"
    }
   ],
   "source": [
    "draw_points(X_train, y_train, sid_train)\n",
    "draw_func(model.predict, mark='r-', linewidth=2, label=\"Predictions\")\n",
    "draw_normal_func(func_dict)\n",
    "plt.xlabel(\"$x_1$\", fontsize=18)\n",
    "plt.ylabel(\"$y$\", rotation=0, fontsize=18)\n",
    "plt.legend(loc=\"upper left\", fontsize=14)\n",
    "# plt.axis([-3, 3, 0, 10])\n",
    "save_fig(\"grid_noBaisedNum_prediction\")\n",
    "plt.show()"
   ]
  },
  {
   "cell_type": "code",
   "execution_count": 128,
   "id": "e0cf5a12",
   "metadata": {},
   "outputs": [
    {
     "name": "stdout",
     "output_type": "stream",
     "text": [
      "y_func.shape = (100, 1)\n",
      "y_gt.shape = (100, 1)\n"
     ]
    },
    {
     "data": {
      "text/plain": [
       "1.3621873208497954"
      ]
     },
     "execution_count": 128,
     "metadata": {},
     "output_type": "execute_result"
    }
   ],
   "source": [
    "get_prediction_error(model.predict, func_dict, name=\"grid-noBiaseNum\")"
   ]
  },
  {
   "cell_type": "markdown",
   "id": "1ed73220",
   "metadata": {},
   "source": [
    "### Biased Prediction (according to SID)"
   ]
  },
  {
   "cell_type": "code",
   "execution_count": 129,
   "id": "ad8a8713",
   "metadata": {},
   "outputs": [
    {
     "name": "stdout",
     "output_type": "stream",
     "text": [
      "scaled_bias = \n",
      "[[-9.998404]\n",
      " [ 9.100327]]\n"
     ]
    }
   ],
   "source": [
    "scaled_bias = model_biased.get_layer(\"bias_est\").get_scaled_biases_np()\n",
    "print(\"scaled_bias = \\n%s\" % str(scaled_bias))"
   ]
  },
  {
   "cell_type": "code",
   "execution_count": 130,
   "id": "dfc83ea3",
   "metadata": {},
   "outputs": [
    {
     "name": "stdout",
     "output_type": "stream",
     "text": [
      "X.shape = (None, 1)\n",
      "gauss_grid.shape = (None, 5)\n",
      "X.shape = (None, 1)\n",
      "SID.shape = (None, 1)\n",
      "Saving figure grid_noBaisedNum_prediction\n"
     ]
    },
    {
     "data": {
      "image/png": "[encoded data removed]",
      "text/plain": [
       "<Figure size 432x288 with 1 Axes>"
      ]
     },
     "metadata": {
      "needs_background": "light"
     },
     "output_type": "display_data"
    }
   ],
   "source": [
    "def predict_with_biase_sid(X, sid=1):\n",
    "    return model_biased.predict([X, tf.fill( (X.shape[0],1), sid)])\n",
    "\n",
    "draw_points(X_train, y_train, sid_train)\n",
    "#\n",
    "draw_func(model.predict, mark='r-', linewidth=2, label=\"Predictions\")\n",
    "for _idx in range(num_subject):\n",
    "    _sid = _idx + 1\n",
    "    draw_func(lambda X: predict_with_biase_sid(X, _sid), mark='k--', linewidth=1, label=(\"sid=%d\" % _sid))\n",
    "#\n",
    "draw_normal_func(func_dict)\n",
    "plt.xlabel(\"$x_1$\", fontsize=18)\n",
    "plt.ylabel(\"$y$\", rotation=0, fontsize=18)\n",
    "plt.legend(loc=\"upper left\", fontsize=14)\n",
    "# plt.axis([-3, 3, 0, 10])\n",
    "save_fig(\"grid_noBaisedNum_prediction\")\n",
    "plt.show()"
   ]
  },
  {
   "cell_type": "markdown",
   "id": "82ec4fc4",
   "metadata": {},
   "source": [
    "# Summary"
   ]
  },
  {
   "cell_type": "code",
   "execution_count": 131,
   "id": "2d764d70",
   "metadata": {},
   "outputs": [
    {
     "name": "stdout",
     "output_type": "stream",
     "text": [
      "num-num: 5.809543\n",
      "grid-num: 3.805653\n",
      "grid-rbc: 3.537157\n",
      "grid-quantileR: 1.879578\n",
      "grid-oneGaussian: 2.702519\n",
      "grid-noBiaseNum: 1.362187\n",
      "\n"
     ]
    }
   ],
   "source": [
    "results = print_all_prediction_error()"
   ]
  },
  {
   "cell_type": "code",
   "execution_count": 132,
   "id": "9f01e530",
   "metadata": {},
   "outputs": [
    {
     "name": "stdout",
     "output_type": "stream",
     "text": [
      "Saving all prediction errors to [.\\images\\regression_test_2\\prediction_errors.txt].\n"
     ]
    },
    {
     "data": {
      "text/plain": [
       "True"
      ]
     },
     "execution_count": 132,
     "metadata": {},
     "output_type": "execute_result"
    }
   ],
   "source": [
    "save_prediction_errors()"
   ]
  },
  {
   "cell_type": "code",
   "execution_count": null,
   "id": "0c3bdf42",
   "metadata": {},
   "outputs": [],
   "source": []
  },
  {
   "cell_type": "code",
   "execution_count": null,
   "id": "a5e6a55a",
   "metadata": {},
   "outputs": [],
   "source": []
  },
  {
   "cell_type": "code",
   "execution_count": null,
   "id": "7cc84278",
   "metadata": {},
   "outputs": [],
   "source": []
  }
 ],
 "metadata": {
  "kernelspec": {
   "display_name": "Python 3 (ipykernel)",
   "language": "python",
   "name": "python3"
  },
  "language_info": {
   "codemirror_mode": {
    "name": "ipython",
    "version": 3
   },
   "file_extension": ".py",
   "mimetype": "text/x-python",
   "name": "python",
   "nbconvert_exporter": "python",
   "pygments_lexer": "ipython3",
   "version": "3.9.7"
  }
 },
 "nbformat": 4,
 "nbformat_minor": 5
}
