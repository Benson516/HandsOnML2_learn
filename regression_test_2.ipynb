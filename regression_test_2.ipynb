{
 "cells": [
  {
   "cell_type": "markdown",
   "id": "899fa113",
   "metadata": {},
   "source": [
    "# Regression with Different Output Format under Various Data Conditions\n",
    "\n",
    "In this experience, we test the following output format for regression task under several different data coditions.\n",
    "- Numerical output\n",
    "- Regression as classification (grid-out)\n",
    "\n",
    "The data coditions include:\n",
    "- Sparse (few data)\n",
    "- Grouped\n",
    "  - Biased (parallel data)\n",
    "  - Completely different mode, uncorrelated data (cross)\n",
    "  - Partially diversed (split)"
   ]
  },
  {
   "cell_type": "code",
   "execution_count": 1,
   "id": "625ce7c3",
   "metadata": {},
   "outputs": [
    {
     "name": "stderr",
     "output_type": "stream",
     "text": [
      "2022-04-01 18:20:41.876593: W tensorflow/stream_executor/platform/default/dso_loader.cc:64] Could not load dynamic library 'libcudart.so.11.0'; dlerror: libcudart.so.11.0: cannot open shared object file: No such file or directory; LD_LIBRARY_PATH: /home/benson516/agv_ws/devel/lib:/opt/ros/noetic/lib\n",
      "2022-04-01 18:20:41.876615: I tensorflow/stream_executor/cuda/cudart_stub.cc:29] Ignore above cudart dlerror if you do not have a GPU set up on your machine.\n"
     ]
    }
   ],
   "source": [
    "import numpy as np\n",
    "import tensorflow as tf\n",
    "from tensorflow import keras\n",
    "import os\n",
    "# from tqdm import tqdm\n",
    "\n",
    "# To plot pretty figures\n",
    "%matplotlib inline\n",
    "import matplotlib as mpl\n",
    "import matplotlib.pyplot as plt\n",
    "mpl.rc('axes', labelsize=14)\n",
    "mpl.rc('xtick', labelsize=12)\n",
    "mpl.rc('ytick', labelsize=12)"
   ]
  },
  {
   "cell_type": "code",
   "execution_count": 2,
   "id": "7ad564ad",
   "metadata": {},
   "outputs": [],
   "source": [
    "# Where to save the figures\n",
    "PROJECT_ROOT_DIR = \".\"\n",
    "CHAPTER_ID = \"regression_test_2\"\n",
    "IMAGES_PATH = os.path.join(PROJECT_ROOT_DIR, \"images\", CHAPTER_ID)\n",
    "os.makedirs(IMAGES_PATH, exist_ok=True)\n",
    "\n",
    "def save_fig(fig_id, tight_layout=True, fig_extension=\"png\", resolution=300):\n",
    "    path = os.path.join(IMAGES_PATH, fig_id + \".\" + fig_extension)\n",
    "    print(\"Saving figure\", fig_id)\n",
    "    if tight_layout:\n",
    "        plt.tight_layout()\n",
    "    plt.savefig(path, format=fig_extension, dpi=resolution)"
   ]
  },
  {
   "cell_type": "code",
   "execution_count": 3,
   "id": "94e8a077",
   "metadata": {},
   "outputs": [],
   "source": [
    "def draw_func(func_in, x_min=-5, x_max=5, mark='r--', linewidth=1, label='func'):\n",
    "    n_sample = 100\n",
    "    X_func = np.linspace(x_min, x_max, n_sample).reshape(n_sample, 1)\n",
    "    y_func = func_in(X_func)\n",
    "    plt.plot(X_func, y_func, mark, linewidth=linewidth, label=label)"
   ]
  },
  {
   "cell_type": "markdown",
   "id": "c27ffe35",
   "metadata": {},
   "source": [
    "Generate polynomial data"
   ]
  },
  {
   "cell_type": "code",
   "execution_count": 4,
   "id": "ce670ce4",
   "metadata": {},
   "outputs": [],
   "source": [
    "poly_a1 = 5.0\n",
    "# poly_a1 = -10.0 # 5.0\n",
    "#\n",
    "sin_a = 0.0\n",
    "# sin_a = 10.0\n",
    "sin_f = 0.1 # 0.2\n",
    "#\n",
    "def func_0(X): # Reference\n",
    "    return 0.5 * X**3 + 0.5 * X**2 + (poly_a1)*X + 2 + sin_a*np.sin(2.0*np.pi*sin_f*X)\n",
    "def func_1(X): # Variation 1: parellel\n",
    "    return 0.5 * X**3 + 0.5 * X**2 + (poly_a1)*X + 30 + sin_a*np.sin(2.0*np.pi*sin_f*X)\n",
    "def func_2(X): # Variation 2: cross\n",
    "    return -0.5 * X**3 + 0.5 * X**2 + (poly_a1)*X + 30 + sin_a*np.sin(2.0*np.pi*sin_f*X)\n",
    "def func_3(X): # Variation 3: slightly split\n",
    "    return 0.3 * X**3 + 1.0 * X**2 + (poly_a1)*X + 15 + sin_a*np.sin(2.0*np.pi*sin_f*X)\n",
    "def func_4(X): # Sine wave~\n",
    "    return 0.5 * X**3 + 0.5 * X**2 + (poly_a1)*X + 2 + 20.0*np.sin(2.0*np.pi*sin_f*X) # 50.0"
   ]
  },
  {
   "cell_type": "code",
   "execution_count": 5,
   "id": "9463bfff",
   "metadata": {},
   "outputs": [],
   "source": [
    "func_dict = dict()\n",
    "#-----------------#\n",
    "func_dict[\"f1\"] = func_0\n",
    "#-----------------#\n",
    "# func_dict[\"f2\"] = func_1\n",
    "# func_dict[\"f2\"] = func_2\n",
    "func_dict[\"f2\"] = func_3\n",
    "# func_dict[\"f2\"] = func_4\n",
    "#-----------------#\n",
    "func_dict[\"f3\"] = func_4\n",
    "#-----------------#\n",
    "\n",
    "# Note: func_dict[\"f_avg\"] depends on multiout_type and is calculated in each section of multiout_type"
   ]
  },
  {
   "cell_type": "code",
   "execution_count": 6,
   "id": "63437d0c",
   "metadata": {},
   "outputs": [
    {
     "name": "stdout",
     "output_type": "stream",
     "text": [
      "(m, m_train) = (100, 80)\n",
      "y_data_pure.shape = (100, 1)\n",
      "y_data.shape = (100, 1)\n"
     ]
    }
   ],
   "source": [
    "np.random.seed(42)\n",
    "m = 100 # 50 # 100 # 200\n",
    "m_train = m // 5 * 4\n",
    "print(\"(m, m_train) = (%d, %d)\" % (m, m_train))\n",
    "\n",
    "# Input\n",
    "is_gapped = True\n",
    "# is_gapped = False\n",
    "#\n",
    "if not is_gapped:\n",
    "    X_data = 10 * np.random.rand(m, 1) - 5 # Note: X is randomly sampled, so we don't need to shuffle the data again\n",
    "else:\n",
    "    X_data = np.concatenate( (np.linspace(-5.0, -2.0, m//2), np.linspace(2.0, 5.0, m-m//2)) )\n",
    "    X_data = X_data.reshape((m,1))\n",
    "    np.random.shuffle(X_data)\n",
    "\n",
    "# Output, multiout_type in {1, 2, 3}\n",
    "# multiout_type = 1      \n",
    "multiout_type = 2 \n",
    "# multiout_type = 3 \n",
    "#\n",
    "sid_data = np.ones((m,1), dtype=int) # subject id, default: 1\n",
    "if multiout_type == 2:\n",
    "    m_h = m // 2\n",
    "    X_data_1 = X_data[:m_h]\n",
    "    X_data_2 = X_data[m_h:]\n",
    "    sid_data[:m_h] = 1 # id:1\n",
    "    sid_data[m_h:] = 2 # id:2\n",
    "    y_data_pure_1 = func_dict[\"f1\"](X_data_1) \n",
    "    y_data_pure_2 = func_dict[\"f2\"](X_data_2) \n",
    "    y_data_pure = np.vstack([y_data_pure_1, y_data_pure_2])\n",
    "    print(\"y_data_pure.shape = %s\" % str(y_data_pure.shape))\n",
    "    # Average line\n",
    "    func_dict[\"f_avg\"] = ( lambda X: 0.5*func_dict[\"f1\"](X) + 0.5*func_dict[\"f2\"](X) )\n",
    "    #\n",
    "elif multiout_type == 3: # with \"avg\" line\n",
    "    m_t = m // 3\n",
    "    X_data_1 = X_data[:m_t]\n",
    "    X_data_2 = X_data[m_t:(2*m_t)]\n",
    "    X_data_3 = X_data[(2*m_t):]\n",
    "    sid_data[:m_t]        = 1 # id:1\n",
    "    sid_data[m_t:(2*m_t)] = 2 # id:2\n",
    "    sid_data[(2*m_t):]    = 3 # id:3\n",
    "    y_data_pure_1 = func_dict[\"f1\"](X_data_1) \n",
    "    y_data_pure_2 = func_dict[\"f2\"](X_data_2) \n",
    "    y_data_pure_3 = func_dict[\"f3\"](X_data_3) \n",
    "    y_data_pure = np.vstack([y_data_pure_1, y_data_pure_2, y_data_pure_3])\n",
    "    print(\"y_data_pure.shape = %s\" % str(y_data_pure.shape))\n",
    "    # Average line\n",
    "    func_dict[\"f_avg\"] = ( lambda X: (func_dict[\"f1\"](X) + func_dict[\"f2\"](X) + func_dict[\"f3\"](X))/3.0 )\n",
    "    #\n",
    "else: # multiout_type == 1\n",
    "    # Average line\n",
    "    func_dict[\"f_avg\"] = ( lambda X: 0.5*func_dict[\"f1\"](X) + 0.5*func_dict[\"f2\"](X) )\n",
    "    y_data_pure = func_dict[\"f_avg\"](X_data)\n",
    "\n",
    "    \n",
    "# Label (+noise)\n",
    "n_stddev = 2.0\n",
    "# n_stddev = 10.0\n",
    "y_data = y_data_pure + np.random.randn(m, 1) * n_stddev\n",
    "print(\"y_data.shape = %s\" % str(y_data.shape))\n",
    "# print(\"sid_data = %s\" % str(sid_data))"
   ]
  },
  {
   "cell_type": "code",
   "execution_count": 7,
   "id": "ef588fae",
   "metadata": {},
   "outputs": [],
   "source": [
    "# Method 1: simply slice\n",
    "# X_train = X_data[:m_train]\n",
    "# y_train = y_data[:m_train]\n",
    "# X_valid = X_data[m_train:]\n",
    "# y_valid = y_data[m_train:]\n",
    "\n",
    "# Method 2: shuffle\n",
    "from sklearn.model_selection import train_test_split\n",
    "# X_train, X_valid, y_train, y_valid = train_test_split(X_data, y_data, test_size=0.2, random_state=42)\n",
    "X_train, X_valid, y_train, y_valid, sid_train, sid_valid = train_test_split(X_data, y_data, sid_data, test_size=0.2, random_state=42)"
   ]
  },
  {
   "cell_type": "code",
   "execution_count": 8,
   "id": "3b5d2cfe",
   "metadata": {},
   "outputs": [
    {
     "name": "stdout",
     "output_type": "stream",
     "text": [
      "(80, 1)\n"
     ]
    }
   ],
   "source": [
    "print(X_train.shape)\n",
    "# print(\"sid_train = %s\" % str(sid_train))"
   ]
  },
  {
   "cell_type": "code",
   "execution_count": 9,
   "id": "9bd2136c",
   "metadata": {},
   "outputs": [],
   "source": [
    "def draw_normal_func(func_dict):\n",
    "    if multiout_type != 1:\n",
    "        draw_func(func_dict[\"f1\"], mark='c:', label=\"f1\")\n",
    "        draw_func(func_dict[\"f2\"], mark='r:', label=\"f2\")\n",
    "    if multiout_type == 3:\n",
    "        draw_func(func_dict[\"f3\"], mark='y:', label=\"f3\")\n",
    "    draw_func(func_dict[\"f_avg\"], mark='m--', label=\"f_avg\")"
   ]
  },
  {
   "cell_type": "code",
   "execution_count": 10,
   "id": "3e4283c1",
   "metadata": {},
   "outputs": [],
   "source": [
    "def draw_points(X, y, sid=None):\n",
    "    if sid is None:\n",
    "        plt.plot(X, y, \"b.\")\n",
    "    else:\n",
    "        plt.plot(X[sid==1], y[sid==1], \"b.\")\n",
    "        plt.plot(X[sid==2], y[sid==2], \"r.\")\n",
    "        plt.plot(X[sid==3], y[sid==3], \"y.\")"
   ]
  },
  {
   "cell_type": "code",
   "execution_count": 11,
   "id": "693af3b7",
   "metadata": {},
   "outputs": [
    {
     "name": "stdout",
     "output_type": "stream",
     "text": [
      "Saving figure training_data\n"
     ]
    },
    {
     "data": {
      "image/png": "[encoded data removed]",
      "text/plain": [
       "<Figure size 432x288 with 1 Axes>"
      ]
     },
     "metadata": {
      "needs_background": "light"
     },
     "output_type": "display_data"
    }
   ],
   "source": [
    "# plt.plot(X_train, y_train, \"b.\")\n",
    "# plt.plot(X_train[sid_train==1], y_train[sid_train==1], \"b.\")\n",
    "# plt.plot(X_train[sid_train==2], y_train[sid_train==2], \"r.\")\n",
    "draw_points(X_train, y_train, sid_train)\n",
    "\n",
    "draw_normal_func(func_dict)\n",
    "plt.xlabel(\"$x_1$\", fontsize=18)\n",
    "plt.ylabel(\"$y$\", rotation=0, fontsize=18)\n",
    "plt.legend(loc=\"upper left\", fontsize=14)\n",
    "# plt.axis([-3, 3, 0, 10])\n",
    "save_fig(\"training_data\")\n",
    "plt.show()"
   ]
  },
  {
   "cell_type": "code",
   "execution_count": 12,
   "id": "a6853ff1",
   "metadata": {},
   "outputs": [],
   "source": [
    "prediction_error_dict = dict()\n",
    "\n",
    "def get_prediction_error(func_in, func_dict, name=\"\", x_min=-5, x_max=5, prediction_error_dict=prediction_error_dict):\n",
    "    n_sample = 100\n",
    "    X_func = np.linspace(x_min, x_max, n_sample).reshape(n_sample, 1)\n",
    "    y_func = func_in(X_func).reshape((n_sample,1))\n",
    "    y_gt = func_dict[\"f_avg\"](X_func).reshape((n_sample,1))\n",
    "    print(\"y_func.shape = %s\" % str(y_func.shape))\n",
    "    print(\"y_gt.shape = %s\" % str(y_gt.shape))\n",
    "#     total_error = np.sqrt(np.square(y_func - y_gt).mean())\n",
    "    total_error = np.abs(y_func - y_gt).mean()\n",
    "    prediction_error_dict[name] = total_error\n",
    "    return total_error\n",
    "\n",
    "def print_all_prediction_error(is_logging_to_screen=True, prediction_error_dict=prediction_error_dict):\n",
    "    _s = \"\"\n",
    "    for _n in prediction_error_dict:\n",
    "        _s += (\"%s: %f\" % (_n, prediction_error_dict[_n])) + \"\\n\"\n",
    "    if is_logging_to_screen:\n",
    "        print(_s)\n",
    "    return _s\n",
    "        \n",
    "def save_prediction_errors(is_logging_to_screen=False, prediction_error_dict=prediction_error_dict):\n",
    "    path = os.path.join(IMAGES_PATH, \"prediction_errors.txt\")\n",
    "    print(\"Saving all prediction errors to [%s].\" % path)\n",
    "    _s = print_all_prediction_error(is_logging_to_screen=is_logging_to_screen, prediction_error_dict=prediction_error_dict)\n",
    "    with open(path, \"w\") as _f:\n",
    "        _f.write(_s)\n",
    "    return True"
   ]
  },
  {
   "cell_type": "markdown",
   "id": "053ecc57",
   "metadata": {},
   "source": [
    "# Simple FCs (number --> number)"
   ]
  },
  {
   "cell_type": "markdown",
   "id": "c66eb67b",
   "metadata": {},
   "source": [
    "Build the regression model"
   ]
  },
  {
   "cell_type": "code",
   "execution_count": 13,
   "id": "9449fc0b",
   "metadata": {},
   "outputs": [
    {
     "name": "stderr",
     "output_type": "stream",
     "text": [
      "2022-04-01 18:20:44.026416: I tensorflow/stream_executor/platform/default/dso_loader.cc:53] Successfully opened dynamic library libcuda.so.1\n",
      "2022-04-01 18:20:47.540399: E tensorflow/stream_executor/cuda/cuda_driver.cc:328] failed call to cuInit: CUDA_ERROR_NO_DEVICE: no CUDA-capable device is detected\n",
      "2022-04-01 18:20:47.540418: I tensorflow/stream_executor/cuda/cuda_diagnostics.cc:156] kernel driver does not appear to be running on this host (benson516-P1G2): /proc/driver/nvidia/version does not exist\n",
      "2022-04-01 18:20:47.540691: I tensorflow/core/platform/cpu_feature_guard.cc:142] This TensorFlow binary is optimized with oneAPI Deep Neural Network Library (oneDNN) to use the following CPU instructions in performance-critical operations:  AVX2 FMA\n",
      "To enable them in other operations, rebuild TensorFlow with the appropriate compiler flags.\n"
     ]
    }
   ],
   "source": [
    "model = keras.models.Sequential([\n",
    "    keras.layers.Dense(30, activation=\"relu\", input_shape=X_train.shape[1:]),\n",
    "    keras.layers.Dense(30, activation=\"relu\"),\n",
    "    keras.layers.Dense(1)\n",
    "])"
   ]
  },
  {
   "cell_type": "code",
   "execution_count": 14,
   "id": "8ad59bf4",
   "metadata": {},
   "outputs": [],
   "source": [
    "# # Customized loss function\n",
    "# def asymptoticLoss_fn(y_true, y_pred, alpha=0.01):\n",
    "#     # tau: quantile, tau in [0.0, 1.0]\n",
    "#     # y_true: label mean\n",
    "#     # y_pred: predicted tau quantile\n",
    "#     y_target = alpha * y_true + (1.0 - alpha) * y_pred\n",
    "#     # return tf.abs(y_pred - y_target)\n",
    "#     return (y_pred - y_target)**2"
   ]
  },
  {
   "cell_type": "code",
   "execution_count": 15,
   "id": "4de396a0",
   "metadata": {},
   "outputs": [
    {
     "name": "stderr",
     "output_type": "stream",
     "text": [
      "/home/benson516/GazeDemo/gaze_env/lib/python3.8/site-packages/tensorflow/python/keras/optimizer_v2/optimizer_v2.py:374: UserWarning: The `lr` argument is deprecated, use `learning_rate` instead.\n",
      "  warnings.warn(\n"
     ]
    }
   ],
   "source": [
    "optimizer = keras.optimizers.SGD(lr=0.0001, momentum=0.9)\n",
    "model.compile(loss=\"mean_squared_error\", optimizer=optimizer)\n",
    "# optimizer = keras.optimizers.Adam(lr=0.01)\n",
    "# # model.compile(loss=\"mean_absolute_error\", optimizer=optimizer)\n",
    "# model.compile(loss=asymptoticLoss_fn, optimizer=optimizer)"
   ]
  },
  {
   "cell_type": "code",
   "execution_count": 16,
   "id": "92afd68a",
   "metadata": {
    "scrolled": true
   },
   "outputs": [
    {
     "name": "stderr",
     "output_type": "stream",
     "text": [
      "2022-04-01 18:20:47.880226: I tensorflow/compiler/mlir/mlir_graph_optimization_pass.cc:176] None of the MLIR Optimization Passes are enabled (registered 2)\n",
      "2022-04-01 18:20:47.899700: I tensorflow/core/platform/profile_utils/cpu_utils.cc:114] CPU Frequency: 2599990000 Hz\n"
     ]
    },
    {
     "name": "stdout",
     "output_type": "stream",
     "text": [
      "Epoch 1/100\n",
      "3/3 [==============================] - 0s 56ms/step - loss: 2537.9009 - val_loss: 1752.6699\n",
      "Epoch 2/100\n",
      "3/3 [==============================] - 0s 8ms/step - loss: 2465.1921 - val_loss: 1677.9008\n",
      "Epoch 3/100\n",
      "3/3 [==============================] - 0s 9ms/step - loss: 2348.7585 - val_loss: 1559.0765\n",
      "Epoch 4/100\n",
      "3/3 [==============================] - 0s 13ms/step - loss: 2113.7708 - val_loss: 1306.6460\n",
      "Epoch 5/100\n",
      "3/3 [==============================] - 0s 14ms/step - loss: 1568.0498 - val_loss: 766.5381\n",
      "Epoch 6/100\n",
      "3/3 [==============================] - 0s 10ms/step - loss: 625.4645 - val_loss: 726.7550\n",
      "Epoch 7/100\n",
      "3/3 [==============================] - 0s 14ms/step - loss: 961.9410 - val_loss: 608.8522\n",
      "Epoch 8/100\n",
      "3/3 [==============================] - 0s 12ms/step - loss: 474.6744 - val_loss: 498.0957\n",
      "Epoch 9/100\n",
      "3/3 [==============================] - 0s 10ms/step - loss: 528.6173 - val_loss: 458.0910\n",
      "Epoch 10/100\n",
      "3/3 [==============================] - 0s 14ms/step - loss: 459.0918 - val_loss: 243.4300\n",
      "Epoch 11/100\n",
      "3/3 [==============================] - 0s 9ms/step - loss: 254.9697 - val_loss: 265.4333\n",
      "Epoch 12/100\n",
      "3/3 [==============================] - 0s 15ms/step - loss: 320.1466 - val_loss: 192.0660\n",
      "Epoch 13/100\n",
      "3/3 [==============================] - 0s 12ms/step - loss: 221.2429 - val_loss: 208.8344\n",
      "Epoch 14/100\n",
      "3/3 [==============================] - 0s 16ms/step - loss: 290.3663 - val_loss: 203.5678\n",
      "Epoch 15/100\n",
      "3/3 [==============================] - 0s 9ms/step - loss: 254.5267 - val_loss: 170.6776\n",
      "Epoch 16/100\n",
      "3/3 [==============================] - 0s 16ms/step - loss: 216.0403 - val_loss: 209.2282\n",
      "Epoch 17/100\n",
      "3/3 [==============================] - 0s 14ms/step - loss: 226.2542 - val_loss: 196.6822\n",
      "Epoch 18/100\n",
      "3/3 [==============================] - 0s 22ms/step - loss: 204.6252 - val_loss: 201.7789\n",
      "Epoch 19/100\n",
      "3/3 [==============================] - 0s 10ms/step - loss: 214.7562 - val_loss: 190.1886\n",
      "Epoch 20/100\n",
      "3/3 [==============================] - 0s 14ms/step - loss: 202.5125 - val_loss: 180.1422\n",
      "Epoch 21/100\n",
      "3/3 [==============================] - 0s 12ms/step - loss: 197.3761 - val_loss: 175.7952\n",
      "Epoch 22/100\n",
      "3/3 [==============================] - 0s 11ms/step - loss: 197.0415 - val_loss: 168.3244\n",
      "Epoch 23/100\n",
      "3/3 [==============================] - 0s 17ms/step - loss: 195.9192 - val_loss: 167.4871\n",
      "Epoch 24/100\n",
      "3/3 [==============================] - 0s 17ms/step - loss: 197.2754 - val_loss: 167.5309\n",
      "Epoch 25/100\n",
      "3/3 [==============================] - 0s 17ms/step - loss: 199.2943 - val_loss: 169.0696\n",
      "Epoch 26/100\n",
      "3/3 [==============================] - 0s 17ms/step - loss: 193.8322 - val_loss: 171.3342\n",
      "Epoch 27/100\n",
      "3/3 [==============================] - 0s 12ms/step - loss: 191.3262 - val_loss: 175.1176\n",
      "Epoch 28/100\n",
      "3/3 [==============================] - 0s 15ms/step - loss: 193.3576 - val_loss: 179.9527\n",
      "Epoch 29/100\n",
      "3/3 [==============================] - 0s 16ms/step - loss: 191.9324 - val_loss: 178.7285\n",
      "Epoch 30/100\n",
      "3/3 [==============================] - 0s 13ms/step - loss: 190.8530 - val_loss: 174.7804\n",
      "Epoch 31/100\n",
      "3/3 [==============================] - 0s 13ms/step - loss: 190.7796 - val_loss: 170.0685\n",
      "Epoch 32/100\n",
      "3/3 [==============================] - 0s 12ms/step - loss: 192.6334 - val_loss: 165.4387\n",
      "Epoch 33/100\n",
      "3/3 [==============================] - 0s 13ms/step - loss: 189.4672 - val_loss: 166.9254\n",
      "Epoch 34/100\n",
      "3/3 [==============================] - 0s 12ms/step - loss: 188.4579 - val_loss: 172.2423\n",
      "Epoch 35/100\n",
      "3/3 [==============================] - 0s 14ms/step - loss: 190.0065 - val_loss: 171.3885\n",
      "Epoch 36/100\n",
      "3/3 [==============================] - 0s 15ms/step - loss: 187.6418 - val_loss: 169.8806\n",
      "Epoch 37/100\n",
      "3/3 [==============================] - 0s 12ms/step - loss: 186.9731 - val_loss: 167.1833\n",
      "Epoch 38/100\n",
      "3/3 [==============================] - 0s 17ms/step - loss: 187.5345 - val_loss: 170.3841\n",
      "Epoch 39/100\n",
      "3/3 [==============================] - 0s 14ms/step - loss: 186.1444 - val_loss: 173.5534\n",
      "Epoch 40/100\n",
      "3/3 [==============================] - 0s 9ms/step - loss: 187.8344 - val_loss: 176.6402\n",
      "Epoch 41/100\n",
      "3/3 [==============================] - 0s 10ms/step - loss: 185.8436 - val_loss: 171.2316\n",
      "Epoch 42/100\n",
      "3/3 [==============================] - 0s 11ms/step - loss: 182.7954 - val_loss: 163.6502\n",
      "Epoch 43/100\n",
      "3/3 [==============================] - 0s 12ms/step - loss: 185.7843 - val_loss: 160.3790\n",
      "Epoch 44/100\n",
      "3/3 [==============================] - 0s 12ms/step - loss: 187.7768 - val_loss: 160.3854\n",
      "Epoch 45/100\n",
      "3/3 [==============================] - 0s 15ms/step - loss: 182.8559 - val_loss: 169.9524\n",
      "Epoch 46/100\n",
      "3/3 [==============================] - 0s 11ms/step - loss: 183.4301 - val_loss: 171.8056\n",
      "Epoch 47/100\n",
      "3/3 [==============================] - 0s 12ms/step - loss: 180.6646 - val_loss: 174.3375\n",
      "Epoch 48/100\n",
      "3/3 [==============================] - 0s 11ms/step - loss: 183.2811 - val_loss: 177.6301\n",
      "Epoch 49/100\n",
      "3/3 [==============================] - 0s 14ms/step - loss: 183.5119 - val_loss: 172.6156\n",
      "Epoch 50/100\n",
      "3/3 [==============================] - 0s 14ms/step - loss: 179.1984 - val_loss: 166.1211\n",
      "Epoch 51/100\n",
      "3/3 [==============================] - 0s 14ms/step - loss: 178.5423 - val_loss: 162.0649\n",
      "Epoch 52/100\n",
      "3/3 [==============================] - 0s 14ms/step - loss: 179.7938 - val_loss: 159.3263\n",
      "Epoch 53/100\n",
      "3/3 [==============================] - 0s 12ms/step - loss: 177.0365 - val_loss: 160.3571\n",
      "Epoch 54/100\n",
      "3/3 [==============================] - 0s 13ms/step - loss: 175.8946 - val_loss: 162.8200\n",
      "Epoch 55/100\n",
      "3/3 [==============================] - 0s 10ms/step - loss: 176.0016 - val_loss: 167.7334\n",
      "Epoch 56/100\n",
      "3/3 [==============================] - 0s 13ms/step - loss: 175.7079 - val_loss: 170.0760\n",
      "Epoch 57/100\n",
      "3/3 [==============================] - 0s 9ms/step - loss: 176.4323 - val_loss: 167.9874\n",
      "Epoch 58/100\n",
      "3/3 [==============================] - 0s 16ms/step - loss: 174.6853 - val_loss: 165.2005\n",
      "Epoch 59/100\n",
      "3/3 [==============================] - 0s 13ms/step - loss: 174.2188 - val_loss: 161.4043\n",
      "Epoch 60/100\n",
      "3/3 [==============================] - 0s 11ms/step - loss: 173.4410 - val_loss: 160.5453\n",
      "Epoch 61/100\n",
      "3/3 [==============================] - 0s 14ms/step - loss: 173.8061 - val_loss: 159.2063\n",
      "Epoch 62/100\n",
      "3/3 [==============================] - 0s 12ms/step - loss: 174.1578 - val_loss: 160.3888\n",
      "Epoch 63/100\n",
      "3/3 [==============================] - 0s 14ms/step - loss: 173.2533 - val_loss: 158.9507\n",
      "Epoch 64/100\n",
      "3/3 [==============================] - 0s 10ms/step - loss: 177.9316 - val_loss: 154.0000\n",
      "Epoch 65/100\n",
      "3/3 [==============================] - 0s 16ms/step - loss: 172.2629 - val_loss: 159.2208\n",
      "Epoch 66/100\n",
      "3/3 [==============================] - 0s 15ms/step - loss: 173.4530 - val_loss: 158.4804\n",
      "Epoch 67/100\n",
      "3/3 [==============================] - 0s 9ms/step - loss: 172.0365 - val_loss: 157.0970\n",
      "Epoch 68/100\n",
      "3/3 [==============================] - 0s 13ms/step - loss: 169.1359 - val_loss: 159.6148\n",
      "Epoch 69/100\n",
      "3/3 [==============================] - 0s 10ms/step - loss: 173.4491 - val_loss: 162.4289\n",
      "Epoch 70/100\n",
      "3/3 [==============================] - 0s 15ms/step - loss: 168.8828 - val_loss: 158.5921\n",
      "Epoch 71/100\n",
      "3/3 [==============================] - 0s 16ms/step - loss: 167.0726 - val_loss: 153.7346\n",
      "Epoch 72/100\n",
      "3/3 [==============================] - 0s 10ms/step - loss: 169.9269 - val_loss: 149.7872\n",
      "Epoch 73/100\n",
      "3/3 [==============================] - 0s 15ms/step - loss: 171.4702 - val_loss: 147.6017\n",
      "Epoch 74/100\n",
      "3/3 [==============================] - 0s 13ms/step - loss: 171.1018 - val_loss: 148.7275\n",
      "Epoch 75/100\n",
      "3/3 [==============================] - 0s 13ms/step - loss: 168.6877 - val_loss: 153.4988\n",
      "Epoch 76/100\n",
      "3/3 [==============================] - 0s 17ms/step - loss: 168.0036 - val_loss: 157.8994\n",
      "Epoch 77/100\n",
      "3/3 [==============================] - 0s 12ms/step - loss: 166.3955 - val_loss: 160.6260\n",
      "Epoch 78/100\n",
      "3/3 [==============================] - 0s 16ms/step - loss: 167.2163 - val_loss: 157.2741\n",
      "Epoch 79/100\n",
      "3/3 [==============================] - 0s 9ms/step - loss: 166.5720 - val_loss: 154.3821\n",
      "Epoch 80/100\n"
     ]
    },
    {
     "name": "stdout",
     "output_type": "stream",
     "text": [
      "3/3 [==============================] - 0s 10ms/step - loss: 164.9813 - val_loss: 158.6539\n",
      "Epoch 81/100\n",
      "3/3 [==============================] - 0s 11ms/step - loss: 165.9815 - val_loss: 161.9469\n",
      "Epoch 82/100\n",
      "3/3 [==============================] - 0s 15ms/step - loss: 166.7418 - val_loss: 163.4735\n",
      "Epoch 83/100\n",
      "3/3 [==============================] - 0s 13ms/step - loss: 166.1977 - val_loss: 160.3828\n",
      "Epoch 84/100\n",
      "3/3 [==============================] - 0s 12ms/step - loss: 164.6583 - val_loss: 155.4547\n",
      "Epoch 85/100\n",
      "3/3 [==============================] - 0s 16ms/step - loss: 163.1772 - val_loss: 152.5079\n",
      "Epoch 86/100\n",
      "3/3 [==============================] - 0s 15ms/step - loss: 162.6133 - val_loss: 149.3026\n",
      "Epoch 87/100\n",
      "3/3 [==============================] - 0s 16ms/step - loss: 162.9409 - val_loss: 147.3731\n",
      "Epoch 88/100\n",
      "3/3 [==============================] - 0s 16ms/step - loss: 162.3901 - val_loss: 148.2989\n",
      "Epoch 89/100\n",
      "3/3 [==============================] - 0s 12ms/step - loss: 162.0150 - val_loss: 153.6817\n",
      "Epoch 90/100\n",
      "3/3 [==============================] - 0s 14ms/step - loss: 162.4576 - val_loss: 153.2901\n",
      "Epoch 91/100\n",
      "3/3 [==============================] - 0s 15ms/step - loss: 163.5702 - val_loss: 148.7909\n",
      "Epoch 92/100\n",
      "3/3 [==============================] - 0s 12ms/step - loss: 160.4406 - val_loss: 147.0425\n",
      "Epoch 93/100\n",
      "3/3 [==============================] - 0s 14ms/step - loss: 161.5055 - val_loss: 146.1150\n",
      "Epoch 94/100\n",
      "3/3 [==============================] - 0s 13ms/step - loss: 162.6856 - val_loss: 147.7841\n",
      "Epoch 95/100\n",
      "3/3 [==============================] - 0s 15ms/step - loss: 160.5077 - val_loss: 147.0056\n",
      "Epoch 96/100\n",
      "3/3 [==============================] - 0s 14ms/step - loss: 160.9012 - val_loss: 142.6755\n",
      "Epoch 97/100\n",
      "3/3 [==============================] - 0s 14ms/step - loss: 160.1391 - val_loss: 143.4400\n",
      "Epoch 98/100\n",
      "3/3 [==============================] - 0s 14ms/step - loss: 161.3598 - val_loss: 143.2122\n",
      "Epoch 99/100\n",
      "3/3 [==============================] - 0s 14ms/step - loss: 158.7738 - val_loss: 140.7034\n",
      "Epoch 100/100\n",
      "3/3 [==============================] - 0s 14ms/step - loss: 160.4119 - val_loss: 140.2959\n"
     ]
    }
   ],
   "source": [
    "history = model.fit(X_train, y_train, epochs=100,\n",
    "                    validation_data=(X_valid, y_valid))"
   ]
  },
  {
   "cell_type": "markdown",
   "id": "17d6e37a",
   "metadata": {},
   "source": [
    "Plot the result"
   ]
  },
  {
   "cell_type": "code",
   "execution_count": 17,
   "id": "3b066f5c",
   "metadata": {},
   "outputs": [
    {
     "name": "stdout",
     "output_type": "stream",
     "text": [
      "Saving figure num_num_training_curve\n"
     ]
    },
    {
     "data": {
      "image/png": "[encoded data removed]",
      "text/plain": [
       "<Figure size 576x360 with 1 Axes>"
      ]
     },
     "metadata": {
      "needs_background": "light"
     },
     "output_type": "display_data"
    }
   ],
   "source": [
    "import pandas as pd\n",
    "\n",
    "pd.DataFrame(history.history).plot(figsize=(8, 5))\n",
    "plt.grid(True)\n",
    "# plt.gca().set_ylim(0, 1)\n",
    "save_fig(\"num_num_training_curve\")\n",
    "plt.show()"
   ]
  },
  {
   "cell_type": "code",
   "execution_count": 18,
   "id": "03f9bb54",
   "metadata": {},
   "outputs": [
    {
     "name": "stdout",
     "output_type": "stream",
     "text": [
      "Saving figure num_num_prediction\n"
     ]
    },
    {
     "data": {
      "image/png": "[encoded data removed]",
      "text/plain": [
       "<Figure size 432x288 with 1 Axes>"
      ]
     },
     "metadata": {
      "needs_background": "light"
     },
     "output_type": "display_data"
    }
   ],
   "source": [
    "# X_new = np.linspace(-5, 5, 100).reshape(100, 1)\n",
    "# y_new = model.predict(X_new)\n",
    "#\n",
    "# plt.plot(X_train, y_train, \"b.\")\n",
    "draw_points(X_train, y_train, sid_train)\n",
    "# plt.plot(X_new, y_new, \"r-\", linewidth=2, label=\"Predictions\")\n",
    "draw_func(model.predict, mark='r-', linewidth=2, label=\"Predictions\")\n",
    "draw_normal_func(func_dict)\n",
    "plt.xlabel(\"$x_1$\", fontsize=18)\n",
    "plt.ylabel(\"$y$\", rotation=0, fontsize=18)\n",
    "plt.legend(loc=\"upper left\", fontsize=14)\n",
    "# plt.axis([-3, 3, 0, 10])\n",
    "save_fig(\"num_num_prediction\")\n",
    "plt.show()"
   ]
  },
  {
   "cell_type": "code",
   "execution_count": 19,
   "id": "bc06d931",
   "metadata": {},
   "outputs": [
    {
     "name": "stdout",
     "output_type": "stream",
     "text": [
      "y_func.shape = (100, 1)\n",
      "y_gt.shape = (100, 1)\n"
     ]
    },
    {
     "data": {
      "text/plain": [
       "6.21141311880943"
      ]
     },
     "execution_count": 19,
     "metadata": {},
     "output_type": "execute_result"
    }
   ],
   "source": [
    "get_prediction_error(model.predict, func_dict, name=\"num-num\")"
   ]
  },
  {
   "cell_type": "markdown",
   "id": "58da8768",
   "metadata": {},
   "source": [
    "# Simulated CNN Feature Map (1-D grids, grid --> number)"
   ]
  },
  {
   "cell_type": "code",
   "execution_count": 20,
   "id": "287b5e4c",
   "metadata": {},
   "outputs": [],
   "source": [
    "class num2grid(keras.layers.Layer):\n",
    "    def __init__(self, units, x_min=-10, x_max=10, sigma=1.0, activation=None, **kwargs):\n",
    "        super().__init__(**kwargs)\n",
    "        self.units = units\n",
    "        self.x_min = x_min\n",
    "        self.x_max = x_max\n",
    "        self.sigma = sigma\n",
    "        self.sigma2 = self.sigma**2\n",
    "        self.activation = keras.activations.get(activation)\n",
    "        \n",
    "    def build(self, batch_input_shape):\n",
    "        #\n",
    "        self.x_grid = np.linspace(self.x_min, self.x_max, self.units, endpoint=True)\n",
    "#         print(\"self.x_grid.shape = %s\" % str(self.x_grid.shape))\n",
    "        #\n",
    "        super().build(batch_input_shape) # must be at the end\n",
    "        \n",
    "    def call(self, X):\n",
    "        '''\n",
    "        Input shape:  (batch, X_chanel)\n",
    "        Output shape: (batch, grid_unit) \n",
    "        \n",
    "        self.x_grid shape: (grid_unit,)\n",
    "        '''\n",
    "        gauss_grid = tf.exp( -(self.x_grid - X)**2 / (2.0*self.sigma2) )\n",
    "        print(\"X.shape = %s\" % str(X.shape))\n",
    "        print(\"gauss_grid.shape = %s\" % str(gauss_grid.shape))\n",
    "        return self.activation(gauss_grid)\n",
    "    \n",
    "    def compute_output_shape(self, batch_input_shape):\n",
    "        return tf.TensorShape(batch_input_shape.as_list()[:-1] + [self.units])\n",
    "    \n",
    "    def get_config(self):\n",
    "        base_config = super().get_config()\n",
    "        return {**base_config, \n",
    "                \"units\": self.units,\n",
    "                \"x_min\": self.x_min,\n",
    "                \"x_max\": self.x_max,\n",
    "                \"sigma\": self.sigma,\n",
    "                \"activation\": keras.activations.serialize(self.activation)}"
   ]
  },
  {
   "cell_type": "code",
   "execution_count": 21,
   "id": "f463c12a",
   "metadata": {},
   "outputs": [
    {
     "name": "stdout",
     "output_type": "stream",
     "text": [
      "X.shape = (None, 1)\n",
      "gauss_grid.shape = (None, 5)\n"
     ]
    }
   ],
   "source": [
    "model = keras.models.Sequential([\n",
    "    num2grid(5,x_min=-10, x_max=10, sigma=3.0, input_shape=X_train.shape[1:]),\n",
    "    keras.layers.Dense(30, activation=\"relu\"),\n",
    "#     keras.layers.Dense(100, activation=\"relu\", kernel_regularizer=tf.keras.regularizers.l1(0.01)),\n",
    "#     keras.layers.Dense(30, activation=keras.layers.LeakyReLU(alpha=0.2) ),\n",
    "#     keras.layers.Dense(30, activation=\"selu\"),\n",
    "#     keras.layers.Dense(30, activation=\"relu\"),\n",
    "    keras.layers.Dense(1)\n",
    "])"
   ]
  },
  {
   "cell_type": "code",
   "execution_count": 22,
   "id": "73fbb610",
   "metadata": {},
   "outputs": [],
   "source": [
    "# # Customized loss function\n",
    "# def asymptoticLoss_fn(y_true, y_pred, alpha=0.01):\n",
    "#     # tau: quantile, tau in [0.0, 1.0]\n",
    "#     # y_true: label mean\n",
    "#     # y_pred: predicted tau quantile\n",
    "#     y_target = alpha * y_true + (1.0 - alpha) * y_pred\n",
    "#     # return tf.abs(y_pred - y_target)\n",
    "#     return (y_pred - y_target)**2"
   ]
  },
  {
   "cell_type": "code",
   "execution_count": 23,
   "id": "062ec84e",
   "metadata": {},
   "outputs": [
    {
     "name": "stderr",
     "output_type": "stream",
     "text": [
      "/home/benson516/GazeDemo/gaze_env/lib/python3.8/site-packages/tensorflow/python/keras/optimizer_v2/optimizer_v2.py:374: UserWarning: The `lr` argument is deprecated, use `learning_rate` instead.\n",
      "  warnings.warn(\n"
     ]
    }
   ],
   "source": [
    "optimizer = keras.optimizers.SGD(lr=0.001, momentum=0.9)\n",
    "model.compile(loss=\"mean_squared_error\", optimizer=optimizer)\n",
    "# optimizer = keras.optimizers.Adam(lr=0.1)\n",
    "# # model.compile(loss=\"mean_absolute_error\", optimizer=optimizer)\n",
    "# model.compile(loss=asymptoticLoss_fn, optimizer=optimizer)"
   ]
  },
  {
   "cell_type": "code",
   "execution_count": 24,
   "id": "c966ada4",
   "metadata": {
    "scrolled": true
   },
   "outputs": [
    {
     "name": "stdout",
     "output_type": "stream",
     "text": [
      "Epoch 1/100\n",
      "X.shape = (None, 1)\n",
      "gauss_grid.shape = (None, 5)\n",
      "X.shape = (None, 1)\n",
      "gauss_grid.shape = (None, 5)\n",
      "1/3 [=========>....................] - ETA: 0s - loss: 2473.7158X.shape = (None, 1)\n",
      "gauss_grid.shape = (None, 5)\n",
      "3/3 [==============================] - 0s 39ms/step - loss: 2465.6060 - val_loss: 1693.5725\n",
      "Epoch 2/100\n",
      "3/3 [==============================] - 0s 6ms/step - loss: 2385.6011 - val_loss: 1608.4158\n",
      "Epoch 3/100\n",
      "3/3 [==============================] - 0s 10ms/step - loss: 2117.2654 - val_loss: 1404.9675\n",
      "Epoch 4/100\n",
      "3/3 [==============================] - 0s 8ms/step - loss: 1525.7601 - val_loss: 1215.5100\n",
      "Epoch 5/100\n",
      "3/3 [==============================] - 0s 12ms/step - loss: 968.5394 - val_loss: 660.6373\n",
      "Epoch 6/100\n",
      "3/3 [==============================] - 0s 13ms/step - loss: 589.6882 - val_loss: 331.2052\n",
      "Epoch 7/100\n",
      "3/3 [==============================] - 0s 12ms/step - loss: 335.2762 - val_loss: 306.3565\n",
      "Epoch 8/100\n",
      "3/3 [==============================] - 0s 11ms/step - loss: 364.7870 - val_loss: 303.0742\n",
      "Epoch 9/100\n",
      "3/3 [==============================] - 0s 14ms/step - loss: 321.7929 - val_loss: 364.4237\n",
      "Epoch 10/100\n",
      "3/3 [==============================] - 0s 9ms/step - loss: 309.1245 - val_loss: 242.0757\n",
      "Epoch 11/100\n",
      "3/3 [==============================] - 0s 10ms/step - loss: 258.7950 - val_loss: 237.6239\n",
      "Epoch 12/100\n",
      "3/3 [==============================] - 0s 16ms/step - loss: 240.9321 - val_loss: 284.2528\n",
      "Epoch 13/100\n",
      "3/3 [==============================] - 0s 8ms/step - loss: 265.6655 - val_loss: 274.9115\n",
      "Epoch 14/100\n",
      "3/3 [==============================] - 0s 15ms/step - loss: 238.0656 - val_loss: 226.9155\n",
      "Epoch 15/100\n",
      "3/3 [==============================] - 0s 12ms/step - loss: 248.2337 - val_loss: 213.7572\n",
      "Epoch 16/100\n",
      "3/3 [==============================] - 0s 14ms/step - loss: 222.9839 - val_loss: 251.8885\n",
      "Epoch 17/100\n",
      "3/3 [==============================] - 0s 13ms/step - loss: 241.8979 - val_loss: 210.1623\n",
      "Epoch 18/100\n",
      "3/3 [==============================] - 0s 19ms/step - loss: 215.4338 - val_loss: 200.5216\n",
      "Epoch 19/100\n",
      "3/3 [==============================] - 0s 10ms/step - loss: 217.8810 - val_loss: 195.8092\n",
      "Epoch 20/100\n",
      "3/3 [==============================] - 0s 14ms/step - loss: 211.5363 - val_loss: 208.1682\n",
      "Epoch 21/100\n",
      "3/3 [==============================] - 0s 13ms/step - loss: 203.1221 - val_loss: 190.9594\n",
      "Epoch 22/100\n",
      "3/3 [==============================] - 0s 11ms/step - loss: 206.7134 - val_loss: 188.3685\n",
      "Epoch 23/100\n",
      "3/3 [==============================] - 0s 12ms/step - loss: 209.2226 - val_loss: 184.2778\n",
      "Epoch 24/100\n",
      "3/3 [==============================] - 0s 11ms/step - loss: 193.8419 - val_loss: 173.9012\n",
      "Epoch 25/100\n",
      "3/3 [==============================] - 0s 14ms/step - loss: 187.3178 - val_loss: 159.2018\n",
      "Epoch 26/100\n",
      "3/3 [==============================] - 0s 12ms/step - loss: 187.4335 - val_loss: 152.8587\n",
      "Epoch 27/100\n",
      "3/3 [==============================] - 0s 14ms/step - loss: 184.5894 - val_loss: 152.1554\n",
      "Epoch 28/100\n",
      "3/3 [==============================] - 0s 11ms/step - loss: 180.2721 - val_loss: 149.6944\n",
      "Epoch 29/100\n",
      "3/3 [==============================] - 0s 15ms/step - loss: 178.8979 - val_loss: 142.1183\n",
      "Epoch 30/100\n",
      "3/3 [==============================] - 0s 11ms/step - loss: 175.0740 - val_loss: 135.4837\n",
      "Epoch 31/100\n",
      "3/3 [==============================] - 0s 16ms/step - loss: 176.2784 - val_loss: 137.5251\n",
      "Epoch 32/100\n",
      "3/3 [==============================] - 0s 11ms/step - loss: 175.1664 - val_loss: 138.9994\n",
      "Epoch 33/100\n",
      "3/3 [==============================] - 0s 15ms/step - loss: 173.1292 - val_loss: 136.3900\n",
      "Epoch 34/100\n",
      "3/3 [==============================] - 0s 15ms/step - loss: 169.9256 - val_loss: 133.7917\n",
      "Epoch 35/100\n",
      "3/3 [==============================] - 0s 15ms/step - loss: 170.7171 - val_loss: 126.3800\n",
      "Epoch 36/100\n",
      "3/3 [==============================] - 0s 16ms/step - loss: 167.9005 - val_loss: 126.1556\n",
      "Epoch 37/100\n",
      "3/3 [==============================] - 0s 18ms/step - loss: 176.9465 - val_loss: 125.7007\n",
      "Epoch 38/100\n",
      "3/3 [==============================] - 0s 11ms/step - loss: 167.2463 - val_loss: 119.1704\n",
      "Epoch 39/100\n",
      "3/3 [==============================] - 0s 15ms/step - loss: 175.2489 - val_loss: 121.6544\n",
      "Epoch 40/100\n",
      "3/3 [==============================] - 0s 13ms/step - loss: 171.6336 - val_loss: 126.5177\n",
      "Epoch 41/100\n",
      "3/3 [==============================] - 0s 12ms/step - loss: 166.7897 - val_loss: 124.8640\n",
      "Epoch 42/100\n",
      "3/3 [==============================] - 0s 13ms/step - loss: 168.2054 - val_loss: 116.5248\n",
      "Epoch 43/100\n",
      "3/3 [==============================] - 0s 14ms/step - loss: 165.7793 - val_loss: 119.5711\n",
      "Epoch 44/100\n",
      "3/3 [==============================] - 0s 13ms/step - loss: 171.3454 - val_loss: 123.6742\n",
      "Epoch 45/100\n",
      "3/3 [==============================] - 0s 9ms/step - loss: 162.8860 - val_loss: 113.7252\n",
      "Epoch 46/100\n",
      "3/3 [==============================] - 0s 13ms/step - loss: 168.9597 - val_loss: 106.6969\n",
      "Epoch 47/100\n",
      "3/3 [==============================] - 0s 14ms/step - loss: 170.1951 - val_loss: 98.6058\n",
      "Epoch 48/100\n",
      "3/3 [==============================] - 0s 10ms/step - loss: 169.6003 - val_loss: 109.7458\n",
      "Epoch 49/100\n",
      "3/3 [==============================] - 0s 15ms/step - loss: 165.8053 - val_loss: 135.8191\n",
      "Epoch 50/100\n",
      "3/3 [==============================] - 0s 13ms/step - loss: 169.2257 - val_loss: 136.5658\n",
      "Epoch 51/100\n",
      "3/3 [==============================] - 0s 15ms/step - loss: 171.6991 - val_loss: 109.3467\n",
      "Epoch 52/100\n",
      "3/3 [==============================] - 0s 14ms/step - loss: 164.2597 - val_loss: 110.2934\n",
      "Epoch 53/100\n",
      "3/3 [==============================] - 0s 14ms/step - loss: 164.4253 - val_loss: 107.5601\n",
      "Epoch 54/100\n",
      "3/3 [==============================] - 0s 13ms/step - loss: 165.1745 - val_loss: 121.1134\n",
      "Epoch 55/100\n",
      "3/3 [==============================] - 0s 12ms/step - loss: 165.2728 - val_loss: 123.2995\n",
      "Epoch 56/100\n",
      "3/3 [==============================] - 0s 16ms/step - loss: 166.2117 - val_loss: 104.8386\n",
      "Epoch 57/100\n",
      "3/3 [==============================] - 0s 10ms/step - loss: 163.7917 - val_loss: 101.7225\n",
      "Epoch 58/100\n",
      "3/3 [==============================] - 0s 13ms/step - loss: 165.8925 - val_loss: 109.7898\n",
      "Epoch 59/100\n",
      "3/3 [==============================] - 0s 11ms/step - loss: 162.1444 - val_loss: 115.0163\n",
      "Epoch 60/100\n",
      "3/3 [==============================] - 0s 15ms/step - loss: 166.5437 - val_loss: 117.7062\n",
      "Epoch 61/100\n",
      "3/3 [==============================] - 0s 14ms/step - loss: 162.0117 - val_loss: 100.2872\n",
      "Epoch 62/100\n",
      "3/3 [==============================] - 0s 15ms/step - loss: 164.5359 - val_loss: 98.4100\n",
      "Epoch 63/100\n",
      "3/3 [==============================] - 0s 10ms/step - loss: 164.2830 - val_loss: 105.5907\n",
      "Epoch 64/100\n",
      "3/3 [==============================] - 0s 13ms/step - loss: 163.4826 - val_loss: 117.2105\n",
      "Epoch 65/100\n",
      "3/3 [==============================] - 0s 14ms/step - loss: 162.1111 - val_loss: 112.7091\n",
      "Epoch 66/100\n",
      "3/3 [==============================] - 0s 10ms/step - loss: 161.4373 - val_loss: 110.7263\n",
      "Epoch 67/100\n",
      "3/3 [==============================] - 0s 13ms/step - loss: 163.4838 - val_loss: 107.3797\n",
      "Epoch 68/100\n",
      "3/3 [==============================] - 0s 11ms/step - loss: 161.8970 - val_loss: 106.7113\n",
      "Epoch 69/100\n",
      "3/3 [==============================] - 0s 19ms/step - loss: 163.1502 - val_loss: 115.3486\n",
      "Epoch 70/100\n",
      "3/3 [==============================] - 0s 13ms/step - loss: 161.2600 - val_loss: 117.3165\n",
      "Epoch 71/100\n",
      "3/3 [==============================] - 0s 15ms/step - loss: 162.6980 - val_loss: 110.4651\n",
      "Epoch 72/100\n",
      "3/3 [==============================] - 0s 14ms/step - loss: 164.7379 - val_loss: 99.8542\n",
      "Epoch 73/100\n",
      "3/3 [==============================] - 0s 13ms/step - loss: 161.4271 - val_loss: 104.5314\n",
      "Epoch 74/100\n",
      "3/3 [==============================] - 0s 13ms/step - loss: 160.6927 - val_loss: 117.6661\n",
      "Epoch 75/100\n",
      "3/3 [==============================] - 0s 16ms/step - loss: 163.2112 - val_loss: 132.7108\n",
      "Epoch 76/100\n",
      "3/3 [==============================] - 0s 15ms/step - loss: 167.3860 - val_loss: 131.4052\n",
      "Epoch 77/100\n",
      "3/3 [==============================] - 0s 12ms/step - loss: 163.7437 - val_loss: 114.0714\n",
      "Epoch 78/100\n"
     ]
    },
    {
     "name": "stdout",
     "output_type": "stream",
     "text": [
      "3/3 [==============================] - 0s 14ms/step - loss: 158.8912 - val_loss: 105.3949\n",
      "Epoch 79/100\n",
      "3/3 [==============================] - 0s 16ms/step - loss: 164.0707 - val_loss: 99.8719\n",
      "Epoch 80/100\n",
      "3/3 [==============================] - 0s 15ms/step - loss: 162.1939 - val_loss: 104.8632\n",
      "Epoch 81/100\n",
      "3/3 [==============================] - 0s 14ms/step - loss: 159.8347 - val_loss: 123.1369\n",
      "Epoch 82/100\n",
      "3/3 [==============================] - 0s 12ms/step - loss: 167.2838 - val_loss: 144.1121\n",
      "Epoch 83/100\n",
      "3/3 [==============================] - 0s 18ms/step - loss: 167.2719 - val_loss: 130.7196\n",
      "Epoch 84/100\n",
      "3/3 [==============================] - 0s 18ms/step - loss: 159.0265 - val_loss: 109.0708\n",
      "Epoch 85/100\n",
      "3/3 [==============================] - 0s 17ms/step - loss: 161.9762 - val_loss: 98.9945\n",
      "Epoch 86/100\n",
      "3/3 [==============================] - 0s 13ms/step - loss: 163.8726 - val_loss: 100.5644\n",
      "Epoch 87/100\n",
      "3/3 [==============================] - 0s 12ms/step - loss: 164.3187 - val_loss: 118.3221\n",
      "Epoch 88/100\n",
      "3/3 [==============================] - 0s 14ms/step - loss: 164.9014 - val_loss: 122.1793\n",
      "Epoch 89/100\n",
      "3/3 [==============================] - 0s 15ms/step - loss: 157.8064 - val_loss: 121.9597\n",
      "Epoch 90/100\n",
      "3/3 [==============================] - 0s 11ms/step - loss: 163.6825 - val_loss: 120.7694\n",
      "Epoch 91/100\n",
      "3/3 [==============================] - 0s 10ms/step - loss: 163.5609 - val_loss: 114.7387\n",
      "Epoch 92/100\n",
      "3/3 [==============================] - 0s 15ms/step - loss: 158.4307 - val_loss: 101.7974\n",
      "Epoch 93/100\n",
      "3/3 [==============================] - 0s 11ms/step - loss: 161.0854 - val_loss: 97.7602\n",
      "Epoch 94/100\n",
      "3/3 [==============================] - 0s 13ms/step - loss: 161.8152 - val_loss: 104.2694\n",
      "Epoch 95/100\n",
      "3/3 [==============================] - 0s 11ms/step - loss: 158.3484 - val_loss: 110.2408\n",
      "Epoch 96/100\n",
      "3/3 [==============================] - 0s 14ms/step - loss: 156.9838 - val_loss: 118.9330\n",
      "Epoch 97/100\n",
      "3/3 [==============================] - 0s 11ms/step - loss: 160.7638 - val_loss: 125.6739\n",
      "Epoch 98/100\n",
      "3/3 [==============================] - 0s 15ms/step - loss: 159.7726 - val_loss: 112.4133\n",
      "Epoch 99/100\n",
      "3/3 [==============================] - 0s 12ms/step - loss: 169.2870 - val_loss: 100.0063\n",
      "Epoch 100/100\n",
      "3/3 [==============================] - 0s 16ms/step - loss: 166.9880 - val_loss: 126.9577\n"
     ]
    }
   ],
   "source": [
    "history = model.fit(X_train, y_train, epochs=100,\n",
    "                    validation_data=(X_valid, y_valid))"
   ]
  },
  {
   "cell_type": "code",
   "execution_count": 25,
   "id": "4d550f88",
   "metadata": {},
   "outputs": [
    {
     "name": "stdout",
     "output_type": "stream",
     "text": [
      "Saving figure grid_num_training_curve\n"
     ]
    },
    {
     "data": {
      "image/png": "[encoded data removed]",
      "text/plain": [
       "<Figure size 576x360 with 1 Axes>"
      ]
     },
     "metadata": {
      "needs_background": "light"
     },
     "output_type": "display_data"
    }
   ],
   "source": [
    "import pandas as pd\n",
    "\n",
    "pd.DataFrame(history.history).plot(figsize=(8, 5))\n",
    "plt.grid(True)\n",
    "# plt.gca().set_ylim(0, 1)\n",
    "save_fig(\"grid_num_training_curve\")\n",
    "plt.show()"
   ]
  },
  {
   "cell_type": "code",
   "execution_count": 26,
   "id": "5487653c",
   "metadata": {},
   "outputs": [
    {
     "name": "stdout",
     "output_type": "stream",
     "text": [
      "X.shape = (None, 1)\n",
      "gauss_grid.shape = (None, 5)\n",
      "Saving figure grid_num_prediction\n"
     ]
    },
    {
     "data": {
      "image/png": "[encoded data removed]",
      "text/plain": [
       "<Figure size 432x288 with 1 Axes>"
      ]
     },
     "metadata": {
      "needs_background": "light"
     },
     "output_type": "display_data"
    }
   ],
   "source": [
    "# X_new = np.linspace(-5, 5, 100).reshape(100, 1)\n",
    "# y_new = model.predict(X_new)\n",
    "#\n",
    "# plt.plot(X_train, y_train, \"b.\")\n",
    "draw_points(X_train, y_train, sid_train)\n",
    "# plt.plot(X_new, y_new, \"r-\", linewidth=2, label=\"Predictions\")\n",
    "draw_func(model.predict, mark='r-', linewidth=2, label=\"Predictions\")\n",
    "draw_normal_func(func_dict)\n",
    "plt.xlabel(\"$x_1$\", fontsize=18)\n",
    "plt.ylabel(\"$y$\", rotation=0, fontsize=18)\n",
    "plt.legend(loc=\"upper left\", fontsize=14)\n",
    "# plt.axis([-3, 3, 0, 10])\n",
    "save_fig(\"grid_num_prediction\")\n",
    "plt.show()"
   ]
  },
  {
   "cell_type": "code",
   "execution_count": 27,
   "id": "f9c053a4",
   "metadata": {},
   "outputs": [
    {
     "name": "stdout",
     "output_type": "stream",
     "text": [
      "y_func.shape = (100, 1)\n",
      "y_gt.shape = (100, 1)\n"
     ]
    },
    {
     "data": {
      "text/plain": [
       "4.553104645285342"
      ]
     },
     "execution_count": 27,
     "metadata": {},
     "output_type": "execute_result"
    }
   ],
   "source": [
    "get_prediction_error(model.predict, func_dict, name=\"grid-num\")"
   ]
  },
  {
   "cell_type": "markdown",
   "id": "fe65d614",
   "metadata": {},
   "source": [
    "# Grid & Regression by Classification (grid --> grid)"
   ]
  },
  {
   "cell_type": "code",
   "execution_count": 28,
   "id": "3d35615e",
   "metadata": {},
   "outputs": [],
   "source": [
    "class num2grid_np():\n",
    "    def __init__(self, units, x_min=-10, x_max=10, sigma=1.0):\n",
    "        self.units = units\n",
    "        self.x_min = x_min\n",
    "        self.x_max = x_max\n",
    "        self.sigma = sigma\n",
    "        self.sigma2 = self.sigma**2\n",
    "        self.x_grid = np.linspace(self.x_min, self.x_max, self.units, endpoint=True)\n",
    "        print(\"self.x_grid = %s\" % str(self.x_grid))\n",
    "        \n",
    "    def convert(self, X):\n",
    "        gauss_grid = np.exp( -(self.x_grid - X)**2 / (2.0*self.sigma2) )\n",
    "#         if len(gauss_grid.shape) == 1:\n",
    "#             gauss_grid = gauss_grid.reshape([1,-1])\n",
    "#         grid_sum = np.sum(gauss_grid, axis=1, keepdims=True)\n",
    "        grid_sum = np.sum(gauss_grid, axis=-1, keepdims=True)\n",
    "        gauss_grid = gauss_grid / grid_sum\n",
    "        return gauss_grid\n",
    "    \n",
    "    def inv_convert(self, grid):\n",
    "#         if len(grid.shape) == 1:\n",
    "#             grid = grid.reshape([1,-1])\n",
    "#         grid_sum = np.sum(grid, axis=1)\n",
    "        grid_sum = np.sum(grid, axis=-1)\n",
    "#         print(grid_sum)\n",
    "        exp_num = np.sum((self.x_grid * grid), axis=-1) / grid_sum # element-wise\n",
    "        return exp_num\n",
    "    \n",
    "    def get_statistic(self, grid):\n",
    "        grid_sum = np.sum(grid, axis=-1)\n",
    "        _mean = np.sum((self.x_grid * grid), axis=-1) / grid_sum # element-wise\n",
    "        _var  = np.sum( ((self.x_grid.reshape((1,-1)) - _mean.reshape((-1,1)))**2 * grid), axis=-1) / grid_sum # element-wise\n",
    "        # print(\"(_mean, _var) = (%f, %f)\" % (_mean, _var))\n",
    "        _stddev = np.sqrt(_var)\n",
    "        return _mean, _stddev"
   ]
  },
  {
   "cell_type": "code",
   "execution_count": 29,
   "id": "4903180b",
   "metadata": {},
   "outputs": [
    {
     "name": "stdout",
     "output_type": "stream",
     "text": [
      "self.x_grid = [-100.          -95.91836735  -91.83673469  -87.75510204  -83.67346939\n",
      "  -79.59183673  -75.51020408  -71.42857143  -67.34693878  -63.26530612\n",
      "  -59.18367347  -55.10204082  -51.02040816  -46.93877551  -42.85714286\n",
      "  -38.7755102   -34.69387755  -30.6122449   -26.53061224  -22.44897959\n",
      "  -18.36734694  -14.28571429  -10.20408163   -6.12244898   -2.04081633\n",
      "    2.04081633    6.12244898   10.20408163   14.28571429   18.36734694\n",
      "   22.44897959   26.53061224   30.6122449    34.69387755   38.7755102\n",
      "   42.85714286   46.93877551   51.02040816   55.10204082   59.18367347\n",
      "   63.26530612   67.34693878   71.42857143   75.51020408   79.59183673\n",
      "   83.67346939   87.75510204   91.83673469   95.91836735  100.        ]\n"
     ]
    }
   ],
   "source": [
    "# class_num = 10 # 10\n",
    "# n2g = num2grid_np(class_num, x_min=-100.0, x_max=100.0, sigma=20.0) # 20.0\n",
    "# class_num = 20\n",
    "# n2g = num2grid_np(class_num, x_min=-100.0, x_max=100.0, sigma=15.0) # 20.0\n",
    "class_num = 50\n",
    "n2g = num2grid_np(class_num, x_min=-100.0, x_max=100.0, sigma=6.0) # 5.0 "
   ]
  },
  {
   "cell_type": "code",
   "execution_count": 30,
   "id": "dce05258",
   "metadata": {},
   "outputs": [
    {
     "name": "stdout",
     "output_type": "stream",
     "text": [
      "[[3.57995092e-60 2.08100846e-55 7.61538914e-51 1.75441300e-46\n",
      "  2.54444491e-42 2.32314196e-38 1.33530332e-34 4.83176258e-31\n",
      "  1.10065884e-27 1.57841554e-24 1.42498879e-21 8.09884396e-19\n",
      "  2.89771784e-16 6.52695532e-14 9.25521826e-12 8.26198061e-10\n",
      "  4.64304784e-08 1.64264466e-06 3.65852120e-05 5.12966502e-04\n",
      "  4.52786966e-03 2.51605603e-02 8.80173281e-02 1.93837381e-01\n",
      "  2.68737559e-01 2.34552834e-01 1.28876722e-01 4.45789421e-02\n",
      "  9.70748025e-03 1.33077537e-03 1.14848275e-04 6.23972825e-06\n",
      "  2.13416679e-07 4.59528573e-09 6.22899760e-11 5.31551427e-13\n",
      "  2.85557712e-15 9.65748361e-18 2.05615356e-20 2.75593262e-23\n",
      "  2.32542921e-26 1.23526215e-29 4.13082337e-33 8.69632169e-37\n",
      "  1.15254011e-40 9.61607812e-45 5.05081425e-49 1.67011468e-53\n",
      "  3.47658354e-58 4.55596654e-63]]\n"
     ]
    }
   ],
   "source": [
    "# grid_1 = n2g.convert(-1.2)\n",
    "grid_1 = n2g.convert([[-1.2]])\n",
    "print(grid_1)"
   ]
  },
  {
   "cell_type": "code",
   "execution_count": 31,
   "id": "48203fe2",
   "metadata": {},
   "outputs": [
    {
     "data": {
      "text/plain": [
       "array([-1.2])"
      ]
     },
     "execution_count": 31,
     "metadata": {},
     "output_type": "execute_result"
    }
   ],
   "source": [
    "n2g.inv_convert(grid_1)"
   ]
  },
  {
   "cell_type": "code",
   "execution_count": 32,
   "id": "a741b6d1",
   "metadata": {},
   "outputs": [
    {
     "data": {
      "text/plain": [
       "(array([-1.2]), array([6.]))"
      ]
     },
     "execution_count": 32,
     "metadata": {},
     "output_type": "execute_result"
    }
   ],
   "source": [
    "n2g.get_statistic(grid_1)"
   ]
  },
  {
   "cell_type": "markdown",
   "id": "bdc0b9a0",
   "metadata": {},
   "source": [
    "### Convert the labels to grid (pre-processing)"
   ]
  },
  {
   "cell_type": "code",
   "execution_count": 33,
   "id": "39c7fa96",
   "metadata": {},
   "outputs": [],
   "source": [
    "y_train_grid = n2g.convert(y_train)\n",
    "y_valid_grid = n2g.convert(y_valid)"
   ]
  },
  {
   "cell_type": "code",
   "execution_count": 34,
   "id": "f577a751",
   "metadata": {},
   "outputs": [
    {
     "name": "stdout",
     "output_type": "stream",
     "text": [
      "(80, 50)\n",
      "(20, 50)\n"
     ]
    }
   ],
   "source": [
    "print(y_train_grid.shape)\n",
    "print(y_valid_grid.shape)"
   ]
  },
  {
   "cell_type": "code",
   "execution_count": 35,
   "id": "71610af1",
   "metadata": {},
   "outputs": [
    {
     "name": "stdout",
     "output_type": "stream",
     "text": [
      "X.shape = (None, 1)\n",
      "gauss_grid.shape = (None, 5)\n"
     ]
    },
    {
     "name": "stderr",
     "output_type": "stream",
     "text": [
      "/home/benson516/GazeDemo/gaze_env/lib/python3.8/site-packages/tensorflow/python/keras/optimizer_v2/optimizer_v2.py:374: UserWarning: The `lr` argument is deprecated, use `learning_rate` instead.\n",
      "  warnings.warn(\n"
     ]
    }
   ],
   "source": [
    "model = keras.models.Sequential([\n",
    "#     keras.layers.Dense(30, activation=\"relu\", input_shape=X_train.shape[1:]),\n",
    "    num2grid(5,x_min=-10, x_max=10, sigma=3.0, input_shape=X_train.shape[1:]),\n",
    "    keras.layers.Dense(30, activation=\"relu\"),\n",
    "#     keras.layers.Dense(100, activation=\"relu\", kernel_regularizer=tf.keras.regularizers.l1(0.01)),\n",
    "    keras.layers.Dense(class_num, activation=\"softmax\"),\n",
    "])\n",
    "\n",
    "optimizer = keras.optimizers.SGD(lr=0.2, momentum=0.9)\n",
    "model.compile(loss=\"categorical_crossentropy\", optimizer=optimizer)"
   ]
  },
  {
   "cell_type": "code",
   "execution_count": 36,
   "id": "e2244aee",
   "metadata": {
    "scrolled": true
   },
   "outputs": [
    {
     "name": "stdout",
     "output_type": "stream",
     "text": [
      "Epoch 1/100\n",
      "X.shape = (None, 1)\n",
      "gauss_grid.shape = (None, 5)\n",
      "X.shape = (None, 1)\n",
      "gauss_grid.shape = (None, 5)\n",
      "1/3 [=========>....................] - ETA: 0s - loss: 3.9281X.shape = (None, 1)\n",
      "gauss_grid.shape = (None, 5)\n",
      "3/3 [==============================] - 0s 52ms/step - loss: 3.9214 - val_loss: 3.8807\n",
      "Epoch 2/100\n",
      "3/3 [==============================] - 0s 6ms/step - loss: 3.8772 - val_loss: 3.8364\n",
      "Epoch 3/100\n",
      "3/3 [==============================] - 0s 8ms/step - loss: 3.8110 - val_loss: 3.7906\n",
      "Epoch 4/100\n",
      "3/3 [==============================] - 0s 8ms/step - loss: 3.7376 - val_loss: 3.7385\n",
      "Epoch 5/100\n",
      "3/3 [==============================] - 0s 7ms/step - loss: 3.6485 - val_loss: 3.6818\n",
      "Epoch 6/100\n",
      "3/3 [==============================] - 0s 13ms/step - loss: 3.5449 - val_loss: 3.6160\n",
      "Epoch 7/100\n",
      "3/3 [==============================] - 0s 11ms/step - loss: 3.4369 - val_loss: 3.5368\n",
      "Epoch 8/100\n",
      "3/3 [==============================] - 0s 11ms/step - loss: 3.3224 - val_loss: 3.4559\n",
      "Epoch 9/100\n",
      "3/3 [==============================] - 0s 15ms/step - loss: 3.2218 - val_loss: 3.3845\n",
      "Epoch 10/100\n",
      "3/3 [==============================] - 0s 10ms/step - loss: 3.1489 - val_loss: 3.3113\n",
      "Epoch 11/100\n",
      "3/3 [==============================] - 0s 12ms/step - loss: 3.1083 - val_loss: 3.2233\n",
      "Epoch 12/100\n",
      "3/3 [==============================] - 0s 11ms/step - loss: 3.0531 - val_loss: 3.1432\n",
      "Epoch 13/100\n",
      "3/3 [==============================] - 0s 18ms/step - loss: 3.0270 - val_loss: 3.0587\n",
      "Epoch 14/100\n",
      "3/3 [==============================] - 0s 10ms/step - loss: 2.9766 - val_loss: 3.0425\n",
      "Epoch 15/100\n",
      "3/3 [==============================] - 0s 13ms/step - loss: 2.9400 - val_loss: 3.0440\n",
      "Epoch 16/100\n",
      "3/3 [==============================] - 0s 11ms/step - loss: 2.9215 - val_loss: 3.0496\n",
      "Epoch 17/100\n",
      "3/3 [==============================] - 0s 15ms/step - loss: 2.8919 - val_loss: 3.0631\n",
      "Epoch 18/100\n",
      "3/3 [==============================] - 0s 14ms/step - loss: 2.8630 - val_loss: 3.0574\n",
      "Epoch 19/100\n",
      "3/3 [==============================] - 0s 14ms/step - loss: 2.8382 - val_loss: 3.0278\n",
      "Epoch 20/100\n",
      "3/3 [==============================] - 0s 16ms/step - loss: 2.8056 - val_loss: 2.9812\n",
      "Epoch 21/100\n",
      "3/3 [==============================] - 0s 15ms/step - loss: 2.7792 - val_loss: 2.9410\n",
      "Epoch 22/100\n",
      "3/3 [==============================] - 0s 13ms/step - loss: 2.7590 - val_loss: 2.9258\n",
      "Epoch 23/100\n",
      "3/3 [==============================] - 0s 13ms/step - loss: 2.7360 - val_loss: 2.9126\n",
      "Epoch 24/100\n",
      "3/3 [==============================] - 0s 17ms/step - loss: 2.7159 - val_loss: 2.9133\n",
      "Epoch 25/100\n",
      "3/3 [==============================] - 0s 13ms/step - loss: 2.7039 - val_loss: 2.9281\n",
      "Epoch 26/100\n",
      "3/3 [==============================] - 0s 13ms/step - loss: 2.6986 - val_loss: 2.9008\n",
      "Epoch 27/100\n",
      "3/3 [==============================] - 0s 13ms/step - loss: 2.6642 - val_loss: 2.8665\n",
      "Epoch 28/100\n",
      "3/3 [==============================] - 0s 15ms/step - loss: 2.6555 - val_loss: 2.8703\n",
      "Epoch 29/100\n",
      "3/3 [==============================] - 0s 12ms/step - loss: 2.6499 - val_loss: 2.8314\n",
      "Epoch 30/100\n",
      "3/3 [==============================] - 0s 10ms/step - loss: 2.6298 - val_loss: 2.8121\n",
      "Epoch 31/100\n",
      "3/3 [==============================] - 0s 16ms/step - loss: 2.6268 - val_loss: 2.7932\n",
      "Epoch 32/100\n",
      "3/3 [==============================] - 0s 13ms/step - loss: 2.5987 - val_loss: 2.7593\n",
      "Epoch 33/100\n",
      "3/3 [==============================] - 0s 15ms/step - loss: 2.6083 - val_loss: 2.7396\n",
      "Epoch 34/100\n",
      "3/3 [==============================] - 0s 16ms/step - loss: 2.5912 - val_loss: 2.7373\n",
      "Epoch 35/100\n",
      "3/3 [==============================] - 0s 13ms/step - loss: 2.5765 - val_loss: 2.7645\n",
      "Epoch 36/100\n",
      "3/3 [==============================] - 0s 14ms/step - loss: 2.5661 - val_loss: 2.7906\n",
      "Epoch 37/100\n",
      "3/3 [==============================] - 0s 13ms/step - loss: 2.5564 - val_loss: 2.7700\n",
      "Epoch 38/100\n",
      "3/3 [==============================] - 0s 14ms/step - loss: 2.5561 - val_loss: 2.7002\n",
      "Epoch 39/100\n",
      "3/3 [==============================] - 0s 12ms/step - loss: 2.5508 - val_loss: 2.7070\n",
      "Epoch 40/100\n",
      "3/3 [==============================] - 0s 15ms/step - loss: 2.5365 - val_loss: 2.7522\n",
      "Epoch 41/100\n",
      "3/3 [==============================] - 0s 10ms/step - loss: 2.5314 - val_loss: 2.7483\n",
      "Epoch 42/100\n",
      "3/3 [==============================] - 0s 11ms/step - loss: 2.5169 - val_loss: 2.6873\n",
      "Epoch 43/100\n",
      "3/3 [==============================] - 0s 13ms/step - loss: 2.5205 - val_loss: 2.6527\n",
      "Epoch 44/100\n",
      "3/3 [==============================] - 0s 14ms/step - loss: 2.5154 - val_loss: 2.6785\n",
      "Epoch 45/100\n",
      "3/3 [==============================] - 0s 14ms/step - loss: 2.5174 - val_loss: 2.6638\n",
      "Epoch 46/100\n",
      "3/3 [==============================] - 0s 14ms/step - loss: 2.4965 - val_loss: 2.7227\n",
      "Epoch 47/100\n",
      "3/3 [==============================] - 0s 16ms/step - loss: 2.4969 - val_loss: 2.7317\n",
      "Epoch 48/100\n",
      "3/3 [==============================] - 0s 14ms/step - loss: 2.4907 - val_loss: 2.7045\n",
      "Epoch 49/100\n",
      "3/3 [==============================] - 0s 12ms/step - loss: 2.4806 - val_loss: 2.6445\n",
      "Epoch 50/100\n",
      "3/3 [==============================] - 0s 14ms/step - loss: 2.4864 - val_loss: 2.6446\n",
      "Epoch 51/100\n",
      "3/3 [==============================] - 0s 17ms/step - loss: 2.4743 - val_loss: 2.6562\n",
      "Epoch 52/100\n",
      "3/3 [==============================] - 0s 10ms/step - loss: 2.4753 - val_loss: 2.6835\n",
      "Epoch 53/100\n",
      "3/3 [==============================] - 0s 11ms/step - loss: 2.4735 - val_loss: 2.6912\n",
      "Epoch 54/100\n",
      "3/3 [==============================] - 0s 16ms/step - loss: 2.4697 - val_loss: 2.6402\n",
      "Epoch 55/100\n",
      "3/3 [==============================] - 0s 11ms/step - loss: 2.4658 - val_loss: 2.6428\n",
      "Epoch 56/100\n",
      "3/3 [==============================] - 0s 12ms/step - loss: 2.4859 - val_loss: 2.6639\n",
      "Epoch 57/100\n",
      "3/3 [==============================] - 0s 9ms/step - loss: 2.4670 - val_loss: 2.5717\n",
      "Epoch 58/100\n",
      "3/3 [==============================] - 0s 14ms/step - loss: 2.4654 - val_loss: 2.6370\n",
      "Epoch 59/100\n",
      "3/3 [==============================] - 0s 15ms/step - loss: 2.4603 - val_loss: 2.6302\n",
      "Epoch 60/100\n",
      "3/3 [==============================] - 0s 10ms/step - loss: 2.4530 - val_loss: 2.6968\n",
      "Epoch 61/100\n",
      "3/3 [==============================] - 0s 14ms/step - loss: 2.4501 - val_loss: 2.6653\n",
      "Epoch 62/100\n",
      "3/3 [==============================] - 0s 12ms/step - loss: 2.4619 - val_loss: 2.6313\n",
      "Epoch 63/100\n",
      "3/3 [==============================] - 0s 13ms/step - loss: 2.4588 - val_loss: 2.6693\n",
      "Epoch 64/100\n",
      "3/3 [==============================] - 0s 11ms/step - loss: 2.4518 - val_loss: 2.6963\n",
      "Epoch 65/100\n",
      "3/3 [==============================] - 0s 16ms/step - loss: 2.4568 - val_loss: 2.6338\n",
      "Epoch 66/100\n",
      "3/3 [==============================] - 0s 12ms/step - loss: 2.4448 - val_loss: 2.5933\n",
      "Epoch 67/100\n",
      "3/3 [==============================] - 0s 13ms/step - loss: 2.4381 - val_loss: 2.5866\n",
      "Epoch 68/100\n",
      "3/3 [==============================] - 0s 15ms/step - loss: 2.4378 - val_loss: 2.5866\n",
      "Epoch 69/100\n",
      "3/3 [==============================] - 0s 13ms/step - loss: 2.4333 - val_loss: 2.6292\n",
      "Epoch 70/100\n",
      "3/3 [==============================] - 0s 11ms/step - loss: 2.4339 - val_loss: 2.6538\n",
      "Epoch 71/100\n",
      "3/3 [==============================] - 0s 14ms/step - loss: 2.4296 - val_loss: 2.6516\n",
      "Epoch 72/100\n",
      "3/3 [==============================] - 0s 10ms/step - loss: 2.4358 - val_loss: 2.6712\n",
      "Epoch 73/100\n",
      "3/3 [==============================] - 0s 16ms/step - loss: 2.4285 - val_loss: 2.6397\n",
      "Epoch 74/100\n",
      "3/3 [==============================] - 0s 13ms/step - loss: 2.4309 - val_loss: 2.5869\n",
      "Epoch 75/100\n",
      "3/3 [==============================] - 0s 13ms/step - loss: 2.4211 - val_loss: 2.5415\n",
      "Epoch 76/100\n",
      "3/3 [==============================] - 0s 10ms/step - loss: 2.4346 - val_loss: 2.5607\n",
      "Epoch 77/100\n",
      "3/3 [==============================] - 0s 12ms/step - loss: 2.4392 - val_loss: 2.6243\n",
      "Epoch 78/100\n",
      "3/3 [==============================] - 0s 13ms/step - loss: 2.4271 - val_loss: 2.5729\n",
      "Epoch 79/100\n",
      "3/3 [==============================] - 0s 16ms/step - loss: 2.4175 - val_loss: 2.6126\n",
      "Epoch 80/100\n",
      "3/3 [==============================] - 0s 11ms/step - loss: 2.4138 - val_loss: 2.6467\n",
      "Epoch 81/100\n",
      "3/3 [==============================] - 0s 13ms/step - loss: 2.4178 - val_loss: 2.5760\n"
     ]
    },
    {
     "name": "stdout",
     "output_type": "stream",
     "text": [
      "Epoch 82/100\n",
      "3/3 [==============================] - 0s 14ms/step - loss: 2.4169 - val_loss: 2.4958\n",
      "Epoch 83/100\n",
      "3/3 [==============================] - 0s 11ms/step - loss: 2.4070 - val_loss: 2.5605\n",
      "Epoch 84/100\n",
      "3/3 [==============================] - 0s 12ms/step - loss: 2.4124 - val_loss: 2.6122\n",
      "Epoch 85/100\n",
      "3/3 [==============================] - 0s 11ms/step - loss: 2.3993 - val_loss: 2.6199\n",
      "Epoch 86/100\n",
      "3/3 [==============================] - 0s 16ms/step - loss: 2.4020 - val_loss: 2.6040\n",
      "Epoch 87/100\n",
      "3/3 [==============================] - 0s 13ms/step - loss: 2.3959 - val_loss: 2.5814\n",
      "Epoch 88/100\n",
      "3/3 [==============================] - 0s 23ms/step - loss: 2.3981 - val_loss: 2.5960\n",
      "Epoch 89/100\n",
      "3/3 [==============================] - 0s 12ms/step - loss: 2.3939 - val_loss: 2.5887\n",
      "Epoch 90/100\n",
      "3/3 [==============================] - 0s 14ms/step - loss: 2.3997 - val_loss: 2.5757\n",
      "Epoch 91/100\n",
      "3/3 [==============================] - 0s 15ms/step - loss: 2.4026 - val_loss: 2.5962\n",
      "Epoch 92/100\n",
      "3/3 [==============================] - 0s 13ms/step - loss: 2.4088 - val_loss: 2.5736\n",
      "Epoch 93/100\n",
      "3/3 [==============================] - 0s 11ms/step - loss: 2.4027 - val_loss: 2.6038\n",
      "Epoch 94/100\n",
      "3/3 [==============================] - 0s 17ms/step - loss: 2.4039 - val_loss: 2.6044\n",
      "Epoch 95/100\n",
      "3/3 [==============================] - 0s 14ms/step - loss: 2.3942 - val_loss: 2.6019\n",
      "Epoch 96/100\n",
      "3/3 [==============================] - 0s 13ms/step - loss: 2.4005 - val_loss: 2.5934\n",
      "Epoch 97/100\n",
      "3/3 [==============================] - 0s 17ms/step - loss: 2.3934 - val_loss: 2.6244\n",
      "Epoch 98/100\n",
      "3/3 [==============================] - 0s 20ms/step - loss: 2.3956 - val_loss: 2.6245\n",
      "Epoch 99/100\n",
      "3/3 [==============================] - 0s 18ms/step - loss: 2.3934 - val_loss: 2.5850\n",
      "Epoch 100/100\n",
      "3/3 [==============================] - 0s 14ms/step - loss: 2.3930 - val_loss: 2.5719\n"
     ]
    }
   ],
   "source": [
    "history = model.fit(X_train, y_train_grid, epochs=100,\n",
    "                    validation_data=(X_valid, y_valid_grid))"
   ]
  },
  {
   "cell_type": "code",
   "execution_count": 37,
   "id": "390834c9",
   "metadata": {},
   "outputs": [
    {
     "name": "stdout",
     "output_type": "stream",
     "text": [
      "Saving figure grid_rbc_training_curve\n"
     ]
    },
    {
     "data": {
      "image/png": "[encoded data removed]",
      "text/plain": [
       "<Figure size 576x360 with 1 Axes>"
      ]
     },
     "metadata": {
      "needs_background": "light"
     },
     "output_type": "display_data"
    }
   ],
   "source": [
    "import pandas as pd\n",
    "\n",
    "pd.DataFrame(history.history).plot(figsize=(8, 5))\n",
    "plt.grid(True)\n",
    "# plt.gca().set_ylim(0, 1)\n",
    "save_fig(\"grid_rbc_training_curve\")\n",
    "plt.show()"
   ]
  },
  {
   "cell_type": "code",
   "execution_count": 38,
   "id": "6fba3b6a",
   "metadata": {},
   "outputs": [
    {
     "name": "stdout",
     "output_type": "stream",
     "text": [
      "X.shape = (None, 1)\n",
      "gauss_grid.shape = (None, 5)\n",
      "Saving figure grid_rbc_prediction\n"
     ]
    },
    {
     "data": {
      "image/png": "[encoded data removed]",
      "text/plain": [
       "<Figure size 432x288 with 1 Axes>"
      ]
     },
     "metadata": {
      "needs_background": "light"
     },
     "output_type": "display_data"
    }
   ],
   "source": [
    "# X_new = np.linspace(-5, 5, 100).reshape(100, 1)\n",
    "# y_new_proba = model.predict(X_new)\n",
    "# y_new = n2g.inv_convert(y_new_proba)\n",
    "#\n",
    "# plt.plot(X_train, y_train, \"b.\")\n",
    "draw_points(X_train, y_train, sid_train)\n",
    "# plt.plot(X_new, y_new, \"r-\", linewidth=2, label=\"Predictions\")\n",
    "draw_func((lambda X: n2g.inv_convert(model.predict(X)) ), mark='r-', linewidth=2, label=\"Predictions\")\n",
    "draw_normal_func(func_dict)\n",
    "plt.xlabel(\"$x_1$\", fontsize=18)\n",
    "plt.ylabel(\"$y$\", rotation=0, fontsize=18)\n",
    "plt.legend(loc=\"upper left\", fontsize=14)\n",
    "# plt.axis([-3, 3, 0, 10])\n",
    "save_fig(\"grid_rbc_prediction\")\n",
    "plt.show()"
   ]
  },
  {
   "cell_type": "code",
   "execution_count": 39,
   "id": "fc059ba5",
   "metadata": {},
   "outputs": [
    {
     "name": "stdout",
     "output_type": "stream",
     "text": [
      "y_func.shape = (100, 1)\n",
      "y_gt.shape = (100, 1)\n"
     ]
    },
    {
     "data": {
      "text/plain": [
       "4.412925490137184"
      ]
     },
     "execution_count": 39,
     "metadata": {},
     "output_type": "execute_result"
    }
   ],
   "source": [
    "get_prediction_error((lambda X: n2g.inv_convert(model.predict(X)) ), func_dict, name=\"grid-rbc\")"
   ]
  },
  {
   "cell_type": "code",
   "execution_count": 40,
   "id": "edcf26db",
   "metadata": {},
   "outputs": [
    {
     "name": "stdout",
     "output_type": "stream",
     "text": [
      "Saving figure grid_rbc_proba\n"
     ]
    },
    {
     "data": {
      "image/png": "[encoded data removed]",
      "text/plain": [
       "<Figure size 432x288 with 1 Axes>"
      ]
     },
     "metadata": {
      "needs_background": "light"
     },
     "output_type": "display_data"
    }
   ],
   "source": [
    "X_new = np.linspace(-5, 5, 100).reshape(100, 1)\n",
    "y_new_proba = model.predict(X_new)\n",
    "# y_new = n2g.inv_convert(y_new_proba)\n",
    "#\n",
    "xv, yv = np.meshgrid(X_new, np.linspace(n2g.x_min, n2g.x_max, n2g.units))\n",
    "# print(xv)\n",
    "# print(yv)\n",
    "plt.pcolormesh(xv, yv, y_new_proba.T, shading=\"nearest\")\n",
    "save_fig(\"grid_rbc_proba\")"
   ]
  },
  {
   "cell_type": "markdown",
   "id": "4064d3b5",
   "metadata": {},
   "source": [
    "### Draw the 1-sigma boundary line"
   ]
  },
  {
   "cell_type": "code",
   "execution_count": 41,
   "id": "247e8712",
   "metadata": {},
   "outputs": [
    {
     "name": "stdout",
     "output_type": "stream",
     "text": [
      "Saving figure grid_rbc_prediction_1sigma\n"
     ]
    },
    {
     "data": {
      "image/png": "[encoded data removed]",
      "text/plain": [
       "<Figure size 432x288 with 1 Axes>"
      ]
     },
     "metadata": {
      "needs_background": "light"
     },
     "output_type": "display_data"
    }
   ],
   "source": [
    "def n_sigma_boundary_line(X, n):\n",
    "    _mean, _sigma = n2g.get_statistic(model.predict(X))\n",
    "    return( _mean + n*_sigma)\n",
    "\n",
    "# plt.plot(X_train, y_train, \"b.\")\n",
    "draw_points(X_train, y_train, sid_train)\n",
    "#\n",
    "draw_func((lambda X: n2g.inv_convert(model.predict(X)) ), mark='r-', linewidth=2, label=\"Predictions\")\n",
    "draw_func((lambda X: n_sigma_boundary_line(X, +1.0) ), mark='k--', linewidth=1, label=\"$\\mu+\\sigma$\")\n",
    "draw_func((lambda X: n_sigma_boundary_line(X, -1.0) ), mark='k--', linewidth=1, label=\"$\\mu-\\sigma$\")\n",
    "#\n",
    "draw_normal_func(func_dict)\n",
    "plt.xlabel(\"$x_1$\", fontsize=18)\n",
    "plt.ylabel(\"$y$\", rotation=0, fontsize=18)\n",
    "plt.legend(loc=\"upper left\", fontsize=14)\n",
    "# plt.axis([-3, 3, 0, 10])\n",
    "save_fig(\"grid_rbc_prediction_1sigma\")\n",
    "plt.show()"
   ]
  },
  {
   "cell_type": "code",
   "execution_count": null,
   "id": "e6266336",
   "metadata": {},
   "outputs": [],
   "source": []
  },
  {
   "cell_type": "markdown",
   "id": "99a85ab5",
   "metadata": {},
   "source": [
    "# Grid & Regression by Classification + Offset Estimation (grid --> grid,num)"
   ]
  },
  {
   "cell_type": "code",
   "execution_count": 42,
   "id": "26440167",
   "metadata": {},
   "outputs": [],
   "source": [
    "class num2gridOffset_np():\n",
    "    def __init__(self, units, x_min=-10, x_max=10):\n",
    "        self.units = units\n",
    "        self.x_min = x_min\n",
    "        self.x_max = x_max\n",
    "        self.x_grid = np.linspace(self.x_min, self.x_max, self.units, endpoint=True)\n",
    "        # bins\n",
    "        x_space = np.average(self.x_grid[1:] - self.x_grid[:-1])\n",
    "        print(\"x_space = %f\" % x_space)\n",
    "        x_0 = self.x_grid[0] - 0.5 * x_space\n",
    "        self.x_bins = [x_0 + _i*x_space for _i in range(len(self.x_grid)+1)]\n",
    "        print(\"self.x_grid = %s\" % str(self.x_grid))\n",
    "#         print(\"self.x_bins = %s\" % str(self.x_bins))\n",
    "        \n",
    "    def convert(self, X):\n",
    "        '''\n",
    "        Convert a batch of number to one-hot class and numerical offset to each grid's center\n",
    "        (m, 1) --> (m, n_units, 2)\n",
    "        '''\n",
    "        X = np.array(X)\n",
    "        if len(X.shape) <= 1:\n",
    "            X = X.reshape((-1,1))\n",
    "        idxs_bin = np.digitize(X, self.x_bins, right=False) \n",
    "        idxs_grid = (idxs_bin - 1) + 1*(idxs_bin<= 0) - 1*(idxs_bin>=self.units)\n",
    "        print(idxs_grid.shape)\n",
    "        #\n",
    "        batch_size = X.shape[0]\n",
    "        grid = np.zeros((batch_size, self.units, 2))\n",
    "        # Fill in the values\n",
    "        grid[np.arange(batch_size), idxs_grid.reshape((-1,)), 0] = 1.0\n",
    "        grid[np.arange(batch_size), :, 1] = X - self.x_grid.reshape((1,-1)) # Offset\n",
    "        return grid\n",
    "    \n",
    "    def inv_convert(self, grid):\n",
    "        idxs_grid = np.argmax(grid[...,0], axis=1)\n",
    "        print(idxs_grid.shape)\n",
    "        #\n",
    "        batch_size = grid.shape[0]\n",
    "        offset_est = grid[np.arange(batch_size),idxs_grid,1]\n",
    "        print(offset_est.shape)\n",
    "        num_est = self.x_grid[idxs_grid].reshape((1,-1)) + offset_est\n",
    "        return num_est.reshape((-1,))"
   ]
  },
  {
   "cell_type": "code",
   "execution_count": 43,
   "id": "8b15e9ff",
   "metadata": {},
   "outputs": [
    {
     "name": "stdout",
     "output_type": "stream",
     "text": [
      "x_space = 22.222222\n",
      "self.x_grid = [-100.          -77.77777778  -55.55555556  -33.33333333  -11.11111111\n",
      "   11.11111111   33.33333333   55.55555556   77.77777778  100.        ]\n"
     ]
    }
   ],
   "source": [
    "class_num = 10 # 10\n",
    "n2go = num2gridOffset_np(class_num, x_min=-100.0, x_max=100.0) "
   ]
  },
  {
   "cell_type": "code",
   "execution_count": 44,
   "id": "8f6e7955",
   "metadata": {},
   "outputs": [
    {
     "name": "stdout",
     "output_type": "stream",
     "text": [
      "(2, 1)\n",
      "[[[   0.           98.8       ]\n",
      "  [   0.           76.57777778]\n",
      "  [   0.           54.35555556]\n",
      "  [   0.           32.13333333]\n",
      "  [   1.            9.91111111]\n",
      "  [   0.          -12.31111111]\n",
      "  [   0.          -34.53333333]\n",
      "  [   0.          -56.75555556]\n",
      "  [   0.          -78.97777778]\n",
      "  [   0.         -101.2       ]]\n",
      "\n",
      " [[   0.          150.5       ]\n",
      "  [   0.          128.27777778]\n",
      "  [   0.          106.05555556]\n",
      "  [   0.           83.83333333]\n",
      "  [   0.           61.61111111]\n",
      "  [   0.           39.38888889]\n",
      "  [   0.           17.16666667]\n",
      "  [   1.           -5.05555556]\n",
      "  [   0.          -27.27777778]\n",
      "  [   0.          -49.5       ]]]\n"
     ]
    }
   ],
   "source": [
    "# grid_1 = n2g.convert(-1.2)\n",
    "grid_1 = n2go.convert([[-1.2], [50.5]])\n",
    "print(grid_1)"
   ]
  },
  {
   "cell_type": "code",
   "execution_count": 45,
   "id": "48840dc5",
   "metadata": {},
   "outputs": [
    {
     "name": "stdout",
     "output_type": "stream",
     "text": [
      "(2,)\n",
      "(2,)\n"
     ]
    },
    {
     "data": {
      "text/plain": [
       "array([-1.2, 50.5])"
      ]
     },
     "execution_count": 45,
     "metadata": {},
     "output_type": "execute_result"
    }
   ],
   "source": [
    "n2go.inv_convert(grid_1)"
   ]
  },
  {
   "cell_type": "markdown",
   "id": "11683cea",
   "metadata": {},
   "source": [
    "### Convert the labels to grid (pre-processing)"
   ]
  },
  {
   "cell_type": "code",
   "execution_count": 46,
   "id": "472997cf",
   "metadata": {},
   "outputs": [
    {
     "name": "stdout",
     "output_type": "stream",
     "text": [
      "(80, 1)\n",
      "(20, 1)\n"
     ]
    }
   ],
   "source": [
    "y_train_grid_offset = n2go.convert(y_train)\n",
    "y_valid_grid_offset = n2go.convert(y_valid)"
   ]
  },
  {
   "cell_type": "code",
   "execution_count": 47,
   "id": "71f08d76",
   "metadata": {},
   "outputs": [
    {
     "name": "stdout",
     "output_type": "stream",
     "text": [
      "(80, 10, 2)\n",
      "(20, 10, 2)\n"
     ]
    }
   ],
   "source": [
    "print(y_train_grid_offset.shape)\n",
    "print(y_valid_grid_offset.shape)"
   ]
  },
  {
   "cell_type": "code",
   "execution_count": 48,
   "id": "84b5b833",
   "metadata": {},
   "outputs": [
    {
     "name": "stdout",
     "output_type": "stream",
     "text": [
      "X.shape = (None, 1)\n",
      "gauss_grid.shape = (None, 5)\n"
     ]
    }
   ],
   "source": [
    "inputs = keras.layers.Input(shape=X_train.shape[1:])\n",
    "#\n",
    "z = num2grid(5,x_min=-10, x_max=10, sigma=3.0)(inputs)\n",
    "z = keras.layers.Dense(30, activation=\"selu\")(z)\n",
    "# Outputs\n",
    "z_proba = keras.layers.Dense(30, activation=\"relu\")(z)\n",
    "z_proba  = keras.layers.Dense(class_num, activation=\"softmax\")(z_proba)\n",
    "z_offset = keras.layers.Dense(class_num, activation=\"relu\")(z)\n",
    "z_offset = keras.layers.Dense(class_num)(z_offset)\n",
    "# Concatenate\n",
    "z_proba  = keras.layers.Reshape([class_num,1])(z_proba)\n",
    "z_offset = keras.layers.Reshape([class_num,1])(z_offset)\n",
    "out_cat = keras.layers.Concatenate(axis=-1)([z_proba, z_offset])\n",
    "#\n",
    "# Models for trainig and real usage\n",
    "model = keras.Model(inputs=[inputs], outputs=[out_cat])"
   ]
  },
  {
   "cell_type": "code",
   "execution_count": 49,
   "id": "e6482574",
   "metadata": {},
   "outputs": [],
   "source": [
    "# Customized loss function\n",
    "\n",
    "cce = keras.losses.CategoricalCrossentropy(reduction=keras.losses.Reduction.NONE)\n",
    "# cce(y_true, y_pred).numpy()\n",
    "\n",
    "def centerLoss_fn(y_true, y_pred):\n",
    "    #\n",
    "    y_true_proba = y_true[...,0]\n",
    "    y_true_value = y_true[...,1]\n",
    "    #\n",
    "    y_pred_proba = y_pred[...,0]\n",
    "    y_pred_value = y_pred[...,1]\n",
    "    \n",
    "    #\n",
    "    cce_loss = cce(y_true_proba, y_pred_proba) / class_num\n",
    "    #\n",
    "    y_true_value_est = tf.reduce_sum((y_true_proba * y_true_value), axis=-1)\n",
    "    y_pred_value_est = tf.reduce_sum((y_true_proba * y_pred_value), axis=-1)\n",
    "#     y_pred_value_est = tf.reduce_sum((y_pred_proba * y_pred_value), axis=-1)\n",
    "    value_loss = tf.abs(y_pred_value_est - y_true_value_est)\n",
    "    \n",
    "    # Total loss\n",
    "#     return (0.5*cce_loss + 0.5*value_loss )\n",
    "    return (0.2*cce_loss + 0.8*value_loss )\n",
    "#     return (cce_loss)\n",
    "#     return (value_loss )"
   ]
  },
  {
   "cell_type": "code",
   "execution_count": 50,
   "id": "60575755",
   "metadata": {},
   "outputs": [
    {
     "name": "stderr",
     "output_type": "stream",
     "text": [
      "/home/benson516/GazeDemo/gaze_env/lib/python3.8/site-packages/tensorflow/python/keras/optimizer_v2/optimizer_v2.py:374: UserWarning: The `lr` argument is deprecated, use `learning_rate` instead.\n",
      "  warnings.warn(\n"
     ]
    }
   ],
   "source": [
    "# optimizer = keras.optimizers.SGD(lr=0.1, momentum=0.9)\n",
    "optimizer = keras.optimizers.Adam(lr=0.05)\n",
    "model.compile(loss=centerLoss_fn, optimizer=optimizer)"
   ]
  },
  {
   "cell_type": "code",
   "execution_count": 51,
   "id": "09bc47a5",
   "metadata": {
    "scrolled": true
   },
   "outputs": [],
   "source": [
    "# history = model.fit(X_train, y_train_grid_offset, epochs=100,\n",
    "#                     validation_data=(X_valid, y_valid_grid_offset))"
   ]
  },
  {
   "cell_type": "code",
   "execution_count": 52,
   "id": "7ba1fe76",
   "metadata": {},
   "outputs": [],
   "source": [
    "# import pandas as pd\n",
    "\n",
    "# pd.DataFrame(history.history).plot(figsize=(8, 5))\n",
    "# plt.grid(True)\n",
    "# # plt.gca().set_ylim(0, 1)\n",
    "# save_fig(\"grid_rbcOffset_training_curve\")\n",
    "# plt.show()"
   ]
  },
  {
   "cell_type": "code",
   "execution_count": 53,
   "id": "47db8336",
   "metadata": {
    "scrolled": false
   },
   "outputs": [],
   "source": [
    "# # plt.plot(X_train, y_train, \"b.\")\n",
    "# draw_points(X_train, y_train, sid_train)\n",
    "# draw_func((lambda X: n2go.inv_convert(model.predict(X)) ), mark='r-', linewidth=2, label=\"Predictions\")\n",
    "# draw_normal_func(func_dict)\n",
    "# plt.xlabel(\"$x_1$\", fontsize=18)\n",
    "# plt.ylabel(\"$y$\", rotation=0, fontsize=18)\n",
    "# plt.legend(loc=\"upper left\", fontsize=14)\n",
    "# # plt.axis([-3, 3, 0, 10])\n",
    "# save_fig(\"grid_rbcOffset_prediction\")\n",
    "# plt.show()"
   ]
  },
  {
   "cell_type": "code",
   "execution_count": 54,
   "id": "46a1a384",
   "metadata": {},
   "outputs": [],
   "source": [
    "# get_prediction_error((lambda X: n2go.inv_convert(model.predict(X)) ), func_dict, name=\"grid-classOffset\")"
   ]
  },
  {
   "cell_type": "code",
   "execution_count": null,
   "id": "fff995a6",
   "metadata": {},
   "outputs": [],
   "source": []
  },
  {
   "cell_type": "markdown",
   "id": "a811f344",
   "metadata": {},
   "source": [
    "# Parametric Uncertainty/Distribution Estimation\n",
    "\n",
    "In this section, we try to estimate uncertainty (actually, fit the dataset distribution) with parametric reprecentation of a distribution instead of a discretized non-parametric representation.\n",
    "\n",
    "Possible solution includes\n",
    "- Quantile estimation with pinball loss (statistic)\n",
    "- Guassian distribution (fit a prabability distribution)"
   ]
  },
  {
   "cell_type": "markdown",
   "id": "175eb32d",
   "metadata": {},
   "source": [
    "## Quantile Estimation with Pinball Loss (grid --> parameters)\n",
    "\n",
    "Quantile estimation and pinball loss is based on the concept of statistic, which predict the value based on the rank of samples in the dataset.\n",
    "\n",
    "The outputs of the model are $(y_{10}, y_{90})$, 10% quantile prediction and 90% quantile prediction, respectively."
   ]
  },
  {
   "cell_type": "code",
   "execution_count": 55,
   "id": "1d1ef92d",
   "metadata": {},
   "outputs": [],
   "source": [
    "# quantile_list = [0.5]\n",
    "# quantile_list = [0.9]\n",
    "# quantile_list = [0.1, 0.9] # Use hidden layer with 30 neurons\n",
    "# quantile_list = [0.05, 0.95]\n",
    "# quantile_list = [0.25, 0.75]\n",
    "# quantile_list = [0.1, 0.5, 0.9]\n",
    "# quantile_list = [0.1, 0.3, 0.7, 0.9]\n",
    "# quantile_list = [0.1, 0.2, 0.3, 0.4, 0.6, 0.7, 0.8, 0.9] # remove 0.5\n",
    "quantile_list = [0.1, 0.2, 0.3, 0.4, 0.5, 0.6, 0.7, 0.8, 0.9] # Should use wider hidden layer (with many neurons) + L1 regularization\n",
    "num_quantile = len(quantile_list)"
   ]
  },
  {
   "cell_type": "code",
   "execution_count": 56,
   "id": "8e3fe57b",
   "metadata": {},
   "outputs": [
    {
     "name": "stdout",
     "output_type": "stream",
     "text": [
      "X.shape = (None, 1)\n",
      "gauss_grid.shape = (None, 5)\n"
     ]
    }
   ],
   "source": [
    "model = keras.models.Sequential([\n",
    "    num2grid(5,x_min=-10, x_max=10, sigma=3.0, input_shape=X_train.shape[1:]), # Convert to grids\n",
    "#     num2grid(50,x_min=-10, x_max=10, sigma=0.5, input_shape=X_train.shape[1:]),\n",
    "#     keras.layers.Dense(30, activation=\"relu\"),\n",
    "#     keras.layers.Dense(60, activation=\"relu\"),\n",
    "    keras.layers.Dense(100, activation=\"relu\"),\n",
    "    keras.layers.Dropout(0.5),\n",
    "#     keras.layers.Dense(100, activation=\"relu\", kernel_regularizer=tf.keras.regularizers.l1(0.01)),\n",
    "#     keras.layers.Dense(100, activation=keras.layers.LeakyReLU(alpha=0.2), kernel_regularizer=tf.keras.regularizers.l1(0.01)),\n",
    "#     keras.layers.Dense(30, activation=keras.layers.LeakyReLU(alpha=0.2) ),\n",
    "#     keras.layers.Dense(30, activation=\"selu\"),\n",
    "    keras.layers.Dense(num_quantile) # (y10, y90)\n",
    "])"
   ]
  },
  {
   "cell_type": "code",
   "execution_count": 57,
   "id": "bf131dc7",
   "metadata": {},
   "outputs": [],
   "source": [
    "# Customized loss function\n",
    "def pinballLoss_fn(y_true, y_pred, tau):\n",
    "    # tau: quantile, tau in [0.0, 1.0]\n",
    "    # y_true: label mean\n",
    "    # y_pred: predicted tau quantile\n",
    "    _q = y_true - y_pred\n",
    "    return tf.math.maximum( (tau*_q), ((tau-1.0)*_q))\n",
    "    \n",
    "def pinballLoss_10_90_fn(y_true, y_pred):\n",
    "    #\n",
    "    return pinballLoss_fn(y_true, y_pred[:,0:1], 0.1) + pinballLoss_fn(y_true, y_pred[:,1:2], 0.9)\n",
    "\n",
    "def pinballLoss_full_fn(y_true, y_pred):\n",
    "    #\n",
    "    pinball_losses = tf.stack( [pinballLoss_fn(y_true, y_pred[:, _i:(_i+1)], _tau) for _i, _tau in enumerate(quantile_list)], axis=1)\n",
    "    return tf.reduce_sum(pinball_losses, axis=1)"
   ]
  },
  {
   "cell_type": "code",
   "execution_count": 58,
   "id": "a71305d5",
   "metadata": {},
   "outputs": [],
   "source": [
    "# optimizer = keras.optimizers.SGD(lr=0.1, momentum=0.9)\n",
    "optimizer = keras.optimizers.Adam(lr=0.1)\n",
    "# model.compile(loss=pinballLoss_10_90_fn, optimizer=optimizer)\n",
    "model.compile(loss=pinballLoss_full_fn, optimizer=optimizer)"
   ]
  },
  {
   "cell_type": "code",
   "execution_count": 59,
   "id": "d935c409",
   "metadata": {
    "scrolled": true
   },
   "outputs": [
    {
     "name": "stdout",
     "output_type": "stream",
     "text": [
      "Epoch 1/100\n",
      "X.shape = (None, 1)\n",
      "gauss_grid.shape = (None, 5)\n",
      "X.shape = (None, 1)\n",
      "gauss_grid.shape = (None, 5)\n",
      "1/3 [=========>....................] - ETA: 1s - loss: 178.9123X.shape = (None, 1)\n",
      "gauss_grid.shape = (None, 5)\n",
      "3/3 [==============================] - 1s 59ms/step - loss: 185.5175 - val_loss: 141.9645\n",
      "Epoch 2/100\n",
      "3/3 [==============================] - 0s 6ms/step - loss: 160.8951 - val_loss: 114.4456\n",
      "Epoch 3/100\n",
      "3/3 [==============================] - 0s 11ms/step - loss: 118.9547 - val_loss: 79.2806\n",
      "Epoch 4/100\n",
      "3/3 [==============================] - 0s 13ms/step - loss: 87.0282 - val_loss: 60.8224\n",
      "Epoch 5/100\n",
      "3/3 [==============================] - 0s 16ms/step - loss: 69.9748 - val_loss: 49.0925\n",
      "Epoch 6/100\n",
      "3/3 [==============================] - 0s 15ms/step - loss: 70.8859 - val_loss: 45.1044\n",
      "Epoch 7/100\n",
      "3/3 [==============================] - 0s 13ms/step - loss: 55.7125 - val_loss: 38.1563\n",
      "Epoch 8/100\n",
      "3/3 [==============================] - 0s 17ms/step - loss: 64.2617 - val_loss: 39.2436\n",
      "Epoch 9/100\n",
      "3/3 [==============================] - 0s 12ms/step - loss: 66.3777 - val_loss: 45.4726\n",
      "Epoch 10/100\n",
      "3/3 [==============================] - 0s 11ms/step - loss: 53.5261 - val_loss: 47.9742\n",
      "Epoch 11/100\n",
      "3/3 [==============================] - 0s 17ms/step - loss: 61.7183 - val_loss: 46.7297\n",
      "Epoch 12/100\n",
      "3/3 [==============================] - 0s 21ms/step - loss: 52.9910 - val_loss: 44.3677\n",
      "Epoch 13/100\n",
      "3/3 [==============================] - 0s 13ms/step - loss: 51.2427 - val_loss: 42.5086\n",
      "Epoch 14/100\n",
      "3/3 [==============================] - 0s 17ms/step - loss: 55.0485 - val_loss: 40.2352\n",
      "Epoch 15/100\n",
      "3/3 [==============================] - 0s 14ms/step - loss: 51.4943 - val_loss: 41.1252\n",
      "Epoch 16/100\n",
      "3/3 [==============================] - 0s 20ms/step - loss: 54.8151 - val_loss: 41.8930\n",
      "Epoch 17/100\n",
      "3/3 [==============================] - 0s 12ms/step - loss: 50.1139 - val_loss: 42.3328\n",
      "Epoch 18/100\n",
      "3/3 [==============================] - 0s 17ms/step - loss: 53.2359 - val_loss: 42.6727\n",
      "Epoch 19/100\n",
      "3/3 [==============================] - 0s 18ms/step - loss: 45.8265 - val_loss: 41.4496\n",
      "Epoch 20/100\n",
      "3/3 [==============================] - 0s 15ms/step - loss: 51.2007 - val_loss: 40.5821\n",
      "Epoch 21/100\n",
      "3/3 [==============================] - 0s 13ms/step - loss: 47.9161 - val_loss: 40.3343\n",
      "Epoch 22/100\n",
      "3/3 [==============================] - 0s 15ms/step - loss: 43.0846 - val_loss: 40.2761\n",
      "Epoch 23/100\n",
      "3/3 [==============================] - 0s 15ms/step - loss: 49.0637 - val_loss: 39.2505\n",
      "Epoch 24/100\n",
      "3/3 [==============================] - 0s 15ms/step - loss: 47.2425 - val_loss: 39.3940\n",
      "Epoch 25/100\n",
      "3/3 [==============================] - 0s 18ms/step - loss: 45.1307 - val_loss: 39.2293\n",
      "Epoch 26/100\n",
      "3/3 [==============================] - 0s 17ms/step - loss: 48.5305 - val_loss: 39.1282\n",
      "Epoch 27/100\n",
      "3/3 [==============================] - 0s 16ms/step - loss: 44.0816 - val_loss: 38.5243\n",
      "Epoch 28/100\n",
      "3/3 [==============================] - 0s 16ms/step - loss: 44.9529 - val_loss: 36.3708\n",
      "Epoch 29/100\n",
      "3/3 [==============================] - 0s 13ms/step - loss: 43.3570 - val_loss: 34.9069\n",
      "Epoch 30/100\n",
      "3/3 [==============================] - 0s 17ms/step - loss: 43.6356 - val_loss: 33.5699\n",
      "Epoch 31/100\n",
      "3/3 [==============================] - 0s 15ms/step - loss: 48.9420 - val_loss: 34.4861\n",
      "Epoch 32/100\n",
      "3/3 [==============================] - 0s 13ms/step - loss: 45.4321 - val_loss: 33.3942\n",
      "Epoch 33/100\n",
      "3/3 [==============================] - 0s 17ms/step - loss: 43.6307 - val_loss: 34.7567\n",
      "Epoch 34/100\n",
      "3/3 [==============================] - 0s 14ms/step - loss: 44.7702 - val_loss: 35.2002\n",
      "Epoch 35/100\n",
      "3/3 [==============================] - 0s 15ms/step - loss: 40.1411 - val_loss: 35.6103\n",
      "Epoch 36/100\n",
      "3/3 [==============================] - 0s 16ms/step - loss: 44.9081 - val_loss: 33.2511\n",
      "Epoch 37/100\n",
      "3/3 [==============================] - 0s 15ms/step - loss: 45.6483 - val_loss: 33.0727\n",
      "Epoch 38/100\n",
      "3/3 [==============================] - 0s 16ms/step - loss: 45.1864 - val_loss: 32.8638\n",
      "Epoch 39/100\n",
      "3/3 [==============================] - 0s 12ms/step - loss: 40.8969 - val_loss: 32.6818\n",
      "Epoch 40/100\n",
      "3/3 [==============================] - 0s 13ms/step - loss: 42.9063 - val_loss: 34.2870\n",
      "Epoch 41/100\n",
      "3/3 [==============================] - 0s 14ms/step - loss: 40.7707 - val_loss: 34.5759\n",
      "Epoch 42/100\n",
      "3/3 [==============================] - 0s 14ms/step - loss: 44.8914 - val_loss: 33.0219\n",
      "Epoch 43/100\n",
      "3/3 [==============================] - 0s 12ms/step - loss: 48.1502 - val_loss: 33.5899\n",
      "Epoch 44/100\n",
      "3/3 [==============================] - 0s 14ms/step - loss: 50.5199 - val_loss: 32.2962\n",
      "Epoch 45/100\n",
      "3/3 [==============================] - 0s 17ms/step - loss: 43.0539 - val_loss: 37.1549\n",
      "Epoch 46/100\n",
      "3/3 [==============================] - 0s 12ms/step - loss: 45.6748 - val_loss: 35.3109\n",
      "Epoch 47/100\n",
      "3/3 [==============================] - 0s 14ms/step - loss: 46.7855 - val_loss: 33.9252\n",
      "Epoch 48/100\n",
      "3/3 [==============================] - 0s 16ms/step - loss: 41.6570 - val_loss: 33.4848\n",
      "Epoch 49/100\n",
      "3/3 [==============================] - 0s 18ms/step - loss: 42.6136 - val_loss: 32.6438\n",
      "Epoch 50/100\n",
      "3/3 [==============================] - 0s 14ms/step - loss: 44.3597 - val_loss: 34.5862\n",
      "Epoch 51/100\n",
      "3/3 [==============================] - 0s 12ms/step - loss: 43.5438 - val_loss: 32.5267\n",
      "Epoch 52/100\n",
      "3/3 [==============================] - 0s 15ms/step - loss: 41.9956 - val_loss: 30.8456\n",
      "Epoch 53/100\n",
      "3/3 [==============================] - 0s 17ms/step - loss: 41.6963 - val_loss: 32.0875\n",
      "Epoch 54/100\n",
      "3/3 [==============================] - 0s 16ms/step - loss: 40.6012 - val_loss: 32.2179\n",
      "Epoch 55/100\n",
      "3/3 [==============================] - 0s 14ms/step - loss: 42.7625 - val_loss: 30.7106\n",
      "Epoch 56/100\n",
      "3/3 [==============================] - 0s 16ms/step - loss: 41.8042 - val_loss: 33.6452\n",
      "Epoch 57/100\n",
      "3/3 [==============================] - 0s 12ms/step - loss: 45.4465 - val_loss: 33.2158\n",
      "Epoch 58/100\n",
      "3/3 [==============================] - 0s 21ms/step - loss: 43.2252 - val_loss: 31.3988\n",
      "Epoch 59/100\n",
      "3/3 [==============================] - 0s 11ms/step - loss: 45.9448 - val_loss: 30.9321\n",
      "Epoch 60/100\n",
      "3/3 [==============================] - 0s 14ms/step - loss: 45.2211 - val_loss: 30.6620\n",
      "Epoch 61/100\n",
      "3/3 [==============================] - 0s 16ms/step - loss: 41.7267 - val_loss: 30.7990\n",
      "Epoch 62/100\n",
      "3/3 [==============================] - 0s 12ms/step - loss: 43.6060 - val_loss: 33.0608\n",
      "Epoch 63/100\n",
      "3/3 [==============================] - 0s 14ms/step - loss: 45.6180 - val_loss: 36.6998\n",
      "Epoch 64/100\n",
      "3/3 [==============================] - 0s 14ms/step - loss: 45.5559 - val_loss: 35.0331\n",
      "Epoch 65/100\n",
      "3/3 [==============================] - 0s 15ms/step - loss: 44.2499 - val_loss: 32.6779\n",
      "Epoch 66/100\n",
      "3/3 [==============================] - 0s 16ms/step - loss: 41.0075 - val_loss: 32.2303\n",
      "Epoch 67/100\n",
      "3/3 [==============================] - 0s 13ms/step - loss: 48.6478 - val_loss: 33.8157\n",
      "Epoch 68/100\n",
      "3/3 [==============================] - 0s 13ms/step - loss: 39.2190 - val_loss: 33.2925\n",
      "Epoch 69/100\n",
      "3/3 [==============================] - 0s 16ms/step - loss: 37.7613 - val_loss: 32.1891\n",
      "Epoch 70/100\n",
      "3/3 [==============================] - 0s 11ms/step - loss: 45.2744 - val_loss: 31.2558\n",
      "Epoch 71/100\n",
      "3/3 [==============================] - 0s 13ms/step - loss: 38.0756 - val_loss: 31.7612\n",
      "Epoch 72/100\n",
      "3/3 [==============================] - 0s 12ms/step - loss: 42.8460 - val_loss: 32.0574\n",
      "Epoch 73/100\n",
      "3/3 [==============================] - 0s 14ms/step - loss: 44.1707 - val_loss: 32.8162\n",
      "Epoch 74/100\n",
      "3/3 [==============================] - 0s 12ms/step - loss: 37.8713 - val_loss: 32.1721\n",
      "Epoch 75/100\n",
      "3/3 [==============================] - 0s 18ms/step - loss: 39.8269 - val_loss: 31.7570\n",
      "Epoch 76/100\n",
      "3/3 [==============================] - 0s 14ms/step - loss: 43.2271 - val_loss: 32.5725\n",
      "Epoch 77/100\n",
      "3/3 [==============================] - 0s 13ms/step - loss: 42.5165 - val_loss: 33.6348\n",
      "Epoch 78/100\n",
      "3/3 [==============================] - 0s 15ms/step - loss: 43.8981 - val_loss: 33.2023\n",
      "Epoch 79/100\n",
      "3/3 [==============================] - 0s 13ms/step - loss: 41.2631 - val_loss: 34.0457\n",
      "Epoch 80/100\n"
     ]
    },
    {
     "name": "stdout",
     "output_type": "stream",
     "text": [
      "3/3 [==============================] - 0s 19ms/step - loss: 44.5913 - val_loss: 31.0198\n",
      "Epoch 81/100\n",
      "3/3 [==============================] - 0s 20ms/step - loss: 44.4055 - val_loss: 30.6421\n",
      "Epoch 82/100\n",
      "3/3 [==============================] - 0s 17ms/step - loss: 44.9243 - val_loss: 31.7742\n",
      "Epoch 83/100\n",
      "3/3 [==============================] - 0s 20ms/step - loss: 45.2270 - val_loss: 30.8460\n",
      "Epoch 84/100\n",
      "3/3 [==============================] - 0s 15ms/step - loss: 43.1196 - val_loss: 32.8641\n",
      "Epoch 85/100\n",
      "3/3 [==============================] - 0s 18ms/step - loss: 41.5200 - val_loss: 34.3953\n",
      "Epoch 86/100\n",
      "3/3 [==============================] - 0s 18ms/step - loss: 42.1687 - val_loss: 34.0564\n",
      "Epoch 87/100\n",
      "3/3 [==============================] - 0s 15ms/step - loss: 43.4701 - val_loss: 32.7726\n",
      "Epoch 88/100\n",
      "3/3 [==============================] - 0s 14ms/step - loss: 38.8825 - val_loss: 30.2009\n",
      "Epoch 89/100\n",
      "3/3 [==============================] - 0s 16ms/step - loss: 46.2058 - val_loss: 29.9291\n",
      "Epoch 90/100\n",
      "3/3 [==============================] - 0s 14ms/step - loss: 42.0012 - val_loss: 29.3610\n",
      "Epoch 91/100\n",
      "3/3 [==============================] - 0s 18ms/step - loss: 36.8893 - val_loss: 28.3587\n",
      "Epoch 92/100\n",
      "3/3 [==============================] - 0s 13ms/step - loss: 41.8933 - val_loss: 29.1405\n",
      "Epoch 93/100\n",
      "3/3 [==============================] - 0s 17ms/step - loss: 48.1610 - val_loss: 31.2825\n",
      "Epoch 94/100\n",
      "3/3 [==============================] - 0s 13ms/step - loss: 41.4610 - val_loss: 33.1363\n",
      "Epoch 95/100\n",
      "3/3 [==============================] - 0s 15ms/step - loss: 43.9054 - val_loss: 33.8630\n",
      "Epoch 96/100\n",
      "3/3 [==============================] - 0s 13ms/step - loss: 40.1430 - val_loss: 32.5897\n",
      "Epoch 97/100\n",
      "3/3 [==============================] - 0s 12ms/step - loss: 45.9856 - val_loss: 33.8275\n",
      "Epoch 98/100\n",
      "3/3 [==============================] - 0s 16ms/step - loss: 42.0995 - val_loss: 31.5464\n",
      "Epoch 99/100\n",
      "3/3 [==============================] - 0s 17ms/step - loss: 47.0649 - val_loss: 32.2419\n",
      "Epoch 100/100\n",
      "3/3 [==============================] - 0s 12ms/step - loss: 45.6408 - val_loss: 30.9069\n"
     ]
    }
   ],
   "source": [
    "history = model.fit(X_train, y_train, epochs=100,\n",
    "                    validation_data=(X_valid, y_valid))"
   ]
  },
  {
   "cell_type": "code",
   "execution_count": 60,
   "id": "e7fa5656",
   "metadata": {
    "scrolled": false
   },
   "outputs": [
    {
     "name": "stdout",
     "output_type": "stream",
     "text": [
      "Saving figure grid_quantile_training_curve\n"
     ]
    },
    {
     "data": {
      "image/png": "[encoded data removed]",
      "text/plain": [
       "<Figure size 576x360 with 1 Axes>"
      ]
     },
     "metadata": {
      "needs_background": "light"
     },
     "output_type": "display_data"
    }
   ],
   "source": [
    "import pandas as pd\n",
    "\n",
    "pd.DataFrame(history.history).plot(figsize=(8, 5))\n",
    "plt.grid(True)\n",
    "# plt.gca().set_ylim(0, 1)\n",
    "save_fig(\"grid_quantile_training_curve\")\n",
    "plt.show()"
   ]
  },
  {
   "cell_type": "markdown",
   "id": "a4a59dd6",
   "metadata": {},
   "source": [
    "### Draw the mean prediction curve averaged from all quantile predictions."
   ]
  },
  {
   "cell_type": "code",
   "execution_count": 61,
   "id": "0e5d0058",
   "metadata": {},
   "outputs": [
    {
     "name": "stdout",
     "output_type": "stream",
     "text": [
      "X.shape = (None, 1)\n",
      "gauss_grid.shape = (None, 5)\n",
      "Saving figure grid_quantile_prediction\n"
     ]
    },
    {
     "data": {
      "image/png": "[encoded data removed]",
      "text/plain": [
       "<Figure size 432x288 with 1 Axes>"
      ]
     },
     "metadata": {
      "needs_background": "light"
     },
     "output_type": "display_data"
    }
   ],
   "source": [
    "# plt.plot(X_train, y_train, \"b.\")\n",
    "draw_points(X_train, y_train, sid_train)\n",
    "draw_func((lambda X: np.average(model.predict(X), axis=-1) ), mark='r-', linewidth=2, label=\"Predictions\")\n",
    "# draw_func((lambda X: model.predict(X)[:,0] ), mark='k--', linewidth=1, label=\"$y_{%d}$\" % (quantile_list[0]*100))\n",
    "# draw_func((lambda X: model.predict(X)[:,-1] ), mark='k--', linewidth=1, label=\"$y_{%d}$\" % (quantile_list[-1]*100))\n",
    "draw_normal_func(func_dict)\n",
    "plt.xlabel(\"$x_1$\", fontsize=18)\n",
    "plt.ylabel(\"$y$\", rotation=0, fontsize=18)\n",
    "plt.legend(loc=\"upper left\", fontsize=14)\n",
    "# plt.axis([-3, 3, 0, 10])\n",
    "save_fig(\"grid_quantile_prediction\")\n",
    "plt.show()"
   ]
  },
  {
   "cell_type": "code",
   "execution_count": 62,
   "id": "f98d3ae8",
   "metadata": {},
   "outputs": [
    {
     "name": "stdout",
     "output_type": "stream",
     "text": [
      "y_func.shape = (100, 1)\n",
      "y_gt.shape = (100, 1)\n"
     ]
    },
    {
     "data": {
      "text/plain": [
       "2.801516549757234"
      ]
     },
     "execution_count": 62,
     "metadata": {},
     "output_type": "execute_result"
    }
   ],
   "source": [
    "get_prediction_error((lambda X: np.average(model.predict(X), axis=-1) ), func_dict, name=\"grid-quantileR\")"
   ]
  },
  {
   "cell_type": "markdown",
   "id": "f79ac920",
   "metadata": {},
   "source": [
    "### Draw first and last quantile curve."
   ]
  },
  {
   "cell_type": "code",
   "execution_count": 63,
   "id": "42eeb254",
   "metadata": {},
   "outputs": [
    {
     "name": "stdout",
     "output_type": "stream",
     "text": [
      "Saving figure grid_quantile_boundary_quantiles\n"
     ]
    },
    {
     "data": {
      "image/png": "[encoded data removed]",
      "text/plain": [
       "<Figure size 432x288 with 1 Axes>"
      ]
     },
     "metadata": {
      "needs_background": "light"
     },
     "output_type": "display_data"
    }
   ],
   "source": [
    "# plt.plot(X_train, y_train, \"b.\")\n",
    "draw_points(X_train, y_train, sid_train)\n",
    "draw_func((lambda X: np.average(model.predict(X), axis=-1) ), mark='r-', linewidth=2, label=\"Predictions\")\n",
    "draw_func((lambda X: model.predict(X)[:,0] ), mark='k--', linewidth=1, label=\"$y_{%d}$\" % (quantile_list[0]*100))\n",
    "draw_func((lambda X: model.predict(X)[:,-1] ), mark='k--', linewidth=1, label=\"$y_{%d}$\" % (quantile_list[-1]*100))\n",
    "draw_normal_func(func_dict)\n",
    "plt.xlabel(\"$x_1$\", fontsize=18)\n",
    "plt.ylabel(\"$y$\", rotation=0, fontsize=18)\n",
    "plt.legend(loc=\"upper left\", fontsize=14)\n",
    "# plt.axis([-3, 3, 0, 10])\n",
    "save_fig(\"grid_quantile_boundary_quantiles\")\n",
    "plt.show()"
   ]
  },
  {
   "cell_type": "markdown",
   "id": "2a1b1b44",
   "metadata": {},
   "source": [
    "### Draw all quantile predictions"
   ]
  },
  {
   "cell_type": "code",
   "execution_count": 64,
   "id": "5e875238",
   "metadata": {},
   "outputs": [
    {
     "name": "stdout",
     "output_type": "stream",
     "text": [
      "Saving figure grid_quantile_all_quantiles\n"
     ]
    },
    {
     "data": {
      "image/png": "[encoded data removed]",
      "text/plain": [
       "<Figure size 432x288 with 1 Axes>"
      ]
     },
     "metadata": {
      "needs_background": "light"
     },
     "output_type": "display_data"
    }
   ],
   "source": [
    "# plt.plot(X_train, y_train, \"b.\")\n",
    "draw_points(X_train, y_train, sid_train)\n",
    "draw_func((lambda X: np.average(model.predict(X), axis=-1) ), mark='r-', linewidth=2, label=\"Predictions\")\n",
    "for _idx, _tau in enumerate(quantile_list):\n",
    "    draw_func((lambda X: model.predict(X)[:,_idx] ), mark='k--', linewidth=1, label=\"$y_{%d}$\" % (_tau*100))\n",
    "draw_normal_func(func_dict)\n",
    "plt.xlabel(\"$x_1$\", fontsize=18)\n",
    "plt.ylabel(\"$y$\", rotation=0, fontsize=18)\n",
    "plt.legend(loc=\"upper left\", fontsize=14)\n",
    "# plt.axis([-3, 3, 0, 10])\n",
    "save_fig(\"grid_quantile_all_quantiles\")\n",
    "plt.show()"
   ]
  },
  {
   "cell_type": "markdown",
   "id": "0693a8eb",
   "metadata": {},
   "source": [
    "### Multi-Quantiles as a Gaussian Distribution "
   ]
  },
  {
   "cell_type": "code",
   "execution_count": 65,
   "id": "11262fbe",
   "metadata": {},
   "outputs": [],
   "source": [
    "# def n_sigma_boundary_line(X, n):\n",
    "#     _y = model.predict(X)\n",
    "#     _mean = np.mean(_y, axis=-1)\n",
    "#     _sigma = np.std(_y, axis=-1)\n",
    "#     return( _mean + n*_sigma)\n",
    "\n",
    "# # plt.plot(X_train, y_train, \"b.\")\n",
    "# draw_points(X_train, y_train, sid_train)\n",
    "# #\n",
    "# draw_func((lambda X: np.average(model.predict(X), axis=-1) ), mark='r-', linewidth=2, label=\"Predictions\")\n",
    "# draw_func((lambda X: n_sigma_boundary_line(X, +1.0) ), mark='k--', linewidth=1, label=\"$\\mu+\\sigma$\")\n",
    "# draw_func((lambda X: n_sigma_boundary_line(X, -1.0) ), mark='k--', linewidth=1, label=\"$\\mu-\\sigma$\")\n",
    "# #\n",
    "# draw_normal_func(func_dict)\n",
    "# plt.xlabel(\"$x_1$\", fontsize=18)\n",
    "# plt.ylabel(\"$y$\", rotation=0, fontsize=18)\n",
    "# plt.legend(loc=\"upper left\", fontsize=14)\n",
    "# # plt.axis([-3, 3, 0, 10])\n",
    "# save_fig(\"grid_quantile_1sigma\")\n",
    "# plt.show()"
   ]
  },
  {
   "cell_type": "markdown",
   "id": "9a01aa69",
   "metadata": {},
   "source": [
    "## Gaussian Estimation with Gaussian Loss (grid-->parameters)\n",
    "\n",
    "Gaussain estimation requires the model to predict the mean and variance of a Gaussian distribution of the random variable regarded. The training purpose is to fit a Gaussian distribution to the data distribution (which is not necessay distributed as Gaussian).\n",
    "\n",
    "One possible solution, derived by BensonHuang, is that the model estimates $(\\mu, z)$, where $z=\\alpha ^{-1}log(\\sigma)$.\n",
    "The associated loss function can be $L_G(y, (\\mu,z)) = 0.5e^{-2\\alpha z}(y-\\mu)^2 + \\alpha z$."
   ]
  },
  {
   "cell_type": "code",
   "execution_count": 66,
   "id": "1a20d5dd",
   "metadata": {},
   "outputs": [],
   "source": [
    "alpha = 1.0\n",
    "# alpha = 0.01\n",
    "# alpha = 0.001"
   ]
  },
  {
   "cell_type": "code",
   "execution_count": 67,
   "id": "cb202ed2",
   "metadata": {},
   "outputs": [
    {
     "name": "stdout",
     "output_type": "stream",
     "text": [
      "X.shape = (None, 1)\n",
      "gauss_grid.shape = (None, 5)\n"
     ]
    }
   ],
   "source": [
    "model = keras.models.Sequential([\n",
    "    num2grid(5,x_min=-10, x_max=10, sigma=3.0, input_shape=X_train.shape[1:]),\n",
    "#     keras.layers.Dense(30, activation=\"relu\"),\n",
    "    keras.layers.Dense(60, activation=\"relu\"),\n",
    "#     keras.layers.Dense(30, activation=keras.layers.LeakyReLU(alpha=0.2) ),\n",
    "#     keras.layers.Dense(30, activation=\"selu\"),\n",
    "    keras.layers.Dense(2) # (mu, z)\n",
    "])"
   ]
  },
  {
   "cell_type": "code",
   "execution_count": 68,
   "id": "925f0a22",
   "metadata": {},
   "outputs": [
    {
     "name": "stdout",
     "output_type": "stream",
     "text": [
      "alpha = 1.000000\n"
     ]
    }
   ],
   "source": [
    "# Customized loss function\n",
    "print(\"alpha = %f\" % alpha)\n",
    "\n",
    "def GaussianLoss_fn(y_true, y_pred):\n",
    "    # y_true: label \n",
    "    # y_pred: (mu, z), z=log(sigma)\n",
    "    mu = y_pred[:, 0:1]\n",
    "    z  = y_pred[:, 1:2]\n",
    "    #\n",
    "    en2z = tf.math.exp((-2.0*alpha)*z)\n",
    "    ymu2 = (y_true - mu)**2\n",
    "    return (0.5*en2z*ymu2 + alpha*z)"
   ]
  },
  {
   "cell_type": "code",
   "execution_count": 69,
   "id": "1b388b4b",
   "metadata": {},
   "outputs": [],
   "source": [
    "# Learning rate scheduler\n",
    "learning_rate_switch_epoch_list = [30, 45]\n",
    "learning_rate_list = [0.001, 0.01, 0.1]\n",
    "# learning_rate_switch_epoch_list = [30, 80]\n",
    "# learning_rate_list = [0.01, 0.1, 0.01]\n",
    "#\n",
    "def piecewise_constant_fn(epoch):\n",
    "    for _i, epoch_s in enumerate(learning_rate_switch_epoch_list):\n",
    "        if epoch < epoch_s:\n",
    "            return learning_rate_list[_i]\n",
    "    return learning_rate_list[-1]\n",
    "\n",
    "lr_scheduler = keras.callbacks.LearningRateScheduler(piecewise_constant_fn)"
   ]
  },
  {
   "cell_type": "markdown",
   "id": "6ec2e05e",
   "metadata": {},
   "source": [
    "Third training with even greater speed"
   ]
  },
  {
   "cell_type": "code",
   "execution_count": 70,
   "id": "7a7e245b",
   "metadata": {},
   "outputs": [
    {
     "name": "stderr",
     "output_type": "stream",
     "text": [
      "/home/benson516/GazeDemo/gaze_env/lib/python3.8/site-packages/tensorflow/python/keras/optimizer_v2/optimizer_v2.py:374: UserWarning: The `lr` argument is deprecated, use `learning_rate` instead.\n",
      "  warnings.warn(\n"
     ]
    }
   ],
   "source": [
    "# optimizer = keras.optimizers.SGD(lr=0.1, momentum=0.9)\n",
    "optimizer = keras.optimizers.Adam(lr=0.1) # 0.1\n",
    "model.compile(loss=GaussianLoss_fn, optimizer=optimizer)"
   ]
  },
  {
   "cell_type": "code",
   "execution_count": 71,
   "id": "6d7b74a9",
   "metadata": {
    "scrolled": true
   },
   "outputs": [
    {
     "name": "stdout",
     "output_type": "stream",
     "text": [
      "Epoch 1/200\n",
      "X.shape = (None, 1)\n",
      "gauss_grid.shape = (None, 5)\n",
      "X.shape = (None, 1)\n",
      "gauss_grid.shape = (None, 5)\n",
      "1/3 [=========>....................] - ETA: 0s - loss: 1039.1732X.shape = (None, 1)\n",
      "gauss_grid.shape = (None, 5)\n",
      "3/3 [==============================] - 0s 43ms/step - loss: 425.2065 - val_loss: 6.2487\n",
      "Epoch 2/200\n",
      "3/3 [==============================] - 0s 8ms/step - loss: 7.7649 - val_loss: 11.6604\n",
      "Epoch 3/200\n",
      "3/3 [==============================] - 0s 15ms/step - loss: 12.8288 - val_loss: 15.7624\n",
      "Epoch 4/200\n",
      "3/3 [==============================] - 0s 18ms/step - loss: 16.5917 - val_loss: 18.6356\n",
      "Epoch 5/200\n",
      "3/3 [==============================] - 0s 14ms/step - loss: 19.1739 - val_loss: 20.4714\n",
      "Epoch 6/200\n",
      "3/3 [==============================] - 0s 17ms/step - loss: 20.7871 - val_loss: 21.4959\n",
      "Epoch 7/200\n",
      "3/3 [==============================] - 0s 14ms/step - loss: 21.6445 - val_loss: 21.8755\n",
      "Epoch 8/200\n",
      "3/3 [==============================] - 0s 18ms/step - loss: 21.8968 - val_loss: 21.7574\n",
      "Epoch 9/200\n",
      "3/3 [==============================] - 0s 12ms/step - loss: 21.7015 - val_loss: 21.2516\n",
      "Epoch 10/200\n",
      "3/3 [==============================] - 0s 12ms/step - loss: 21.1411 - val_loss: 20.4460\n",
      "Epoch 11/200\n",
      "3/3 [==============================] - 0s 13ms/step - loss: 20.3147 - val_loss: 19.3889\n",
      "Epoch 12/200\n",
      "3/3 [==============================] - 0s 11ms/step - loss: 19.2624 - val_loss: 18.1258\n",
      "Epoch 13/200\n",
      "3/3 [==============================] - 0s 16ms/step - loss: 18.0131 - val_loss: 16.6614\n",
      "Epoch 14/200\n",
      "3/3 [==============================] - 0s 14ms/step - loss: 16.5512 - val_loss: 14.9374\n",
      "Epoch 15/200\n",
      "3/3 [==============================] - 0s 17ms/step - loss: 14.8198 - val_loss: 12.8944\n",
      "Epoch 16/200\n",
      "3/3 [==============================] - 0s 14ms/step - loss: 12.7766 - val_loss: 10.4577\n",
      "Epoch 17/200\n",
      "3/3 [==============================] - 0s 15ms/step - loss: 10.3163 - val_loss: 7.5028\n",
      "Epoch 18/200\n",
      "3/3 [==============================] - 0s 11ms/step - loss: 7.3564 - val_loss: 6.6669\n",
      "Epoch 19/200\n",
      "3/3 [==============================] - 0s 12ms/step - loss: 6.5156 - val_loss: 4.6392\n",
      "Epoch 20/200\n",
      "3/3 [==============================] - 0s 12ms/step - loss: 4.8513 - val_loss: 4.2250\n",
      "Epoch 21/200\n",
      "3/3 [==============================] - 0s 17ms/step - loss: 4.3980 - val_loss: 4.2660\n",
      "Epoch 22/200\n",
      "3/3 [==============================] - 0s 10ms/step - loss: 5.1322 - val_loss: 4.4404\n",
      "Epoch 23/200\n",
      "3/3 [==============================] - 0s 16ms/step - loss: 4.8206 - val_loss: 4.9259\n",
      "Epoch 24/200\n",
      "3/3 [==============================] - 0s 14ms/step - loss: 5.1533 - val_loss: 4.5312\n",
      "Epoch 25/200\n",
      "3/3 [==============================] - 0s 12ms/step - loss: 4.6465 - val_loss: 3.7607\n",
      "Epoch 26/200\n",
      "3/3 [==============================] - 0s 17ms/step - loss: 4.0810 - val_loss: 4.9509\n",
      "Epoch 27/200\n",
      "3/3 [==============================] - 0s 16ms/step - loss: 4.4055 - val_loss: 3.7738\n",
      "Epoch 28/200\n",
      "3/3 [==============================] - 0s 16ms/step - loss: 4.1929 - val_loss: 3.9807\n",
      "Epoch 29/200\n",
      "3/3 [==============================] - 0s 19ms/step - loss: 4.3467 - val_loss: 3.7816\n",
      "Epoch 30/200\n",
      "3/3 [==============================] - 0s 13ms/step - loss: 4.0650 - val_loss: 3.9495\n",
      "Epoch 31/200\n",
      "3/3 [==============================] - 0s 17ms/step - loss: 4.1216 - val_loss: 3.7469\n",
      "Epoch 32/200\n",
      "3/3 [==============================] - 0s 15ms/step - loss: 4.0028 - val_loss: 3.7881\n",
      "Epoch 33/200\n",
      "3/3 [==============================] - 0s 16ms/step - loss: 4.1116 - val_loss: 3.7286\n",
      "Epoch 34/200\n",
      "3/3 [==============================] - 0s 14ms/step - loss: 3.9980 - val_loss: 3.7495\n",
      "Epoch 35/200\n",
      "3/3 [==============================] - 0s 15ms/step - loss: 4.0161 - val_loss: 3.7242\n",
      "Epoch 36/200\n",
      "3/3 [==============================] - 0s 15ms/step - loss: 3.9534 - val_loss: 3.7084\n",
      "Epoch 37/200\n",
      "3/3 [==============================] - 0s 11ms/step - loss: 3.9774 - val_loss: 3.7195\n",
      "Epoch 38/200\n",
      "3/3 [==============================] - 0s 13ms/step - loss: 3.9418 - val_loss: 3.7892\n",
      "Epoch 39/200\n",
      "3/3 [==============================] - 0s 13ms/step - loss: 3.9485 - val_loss: 3.7312\n",
      "Epoch 40/200\n",
      "3/3 [==============================] - 0s 13ms/step - loss: 3.9250 - val_loss: 3.6836\n",
      "Epoch 41/200\n",
      "3/3 [==============================] - 0s 11ms/step - loss: 3.9226 - val_loss: 3.6817\n",
      "Epoch 42/200\n",
      "3/3 [==============================] - 0s 16ms/step - loss: 3.9146 - val_loss: 3.7057\n",
      "Epoch 43/200\n",
      "3/3 [==============================] - 0s 11ms/step - loss: 3.9114 - val_loss: 3.6928\n",
      "Epoch 44/200\n",
      "3/3 [==============================] - 0s 11ms/step - loss: 3.8993 - val_loss: 3.6881\n",
      "Epoch 45/200\n",
      "3/3 [==============================] - 0s 9ms/step - loss: 3.8927 - val_loss: 3.7004\n",
      "Epoch 46/200\n",
      "3/3 [==============================] - 0s 19ms/step - loss: 3.8860 - val_loss: 3.6937\n",
      "Epoch 47/200\n",
      "3/3 [==============================] - 0s 11ms/step - loss: 3.8782 - val_loss: 3.6946\n",
      "Epoch 48/200\n",
      "3/3 [==============================] - 0s 14ms/step - loss: 3.8716 - val_loss: 3.6770\n",
      "Epoch 49/200\n",
      "3/3 [==============================] - 0s 15ms/step - loss: 3.8616 - val_loss: 3.6817\n",
      "Epoch 50/200\n",
      "3/3 [==============================] - ETA: 0s - loss: 3.840 - 0s 16ms/step - loss: 3.8556 - val_loss: 3.6787\n",
      "Epoch 51/200\n",
      "3/3 [==============================] - 0s 14ms/step - loss: 3.8467 - val_loss: 3.6623\n",
      "Epoch 52/200\n",
      "3/3 [==============================] - 0s 13ms/step - loss: 3.8377 - val_loss: 3.6644\n",
      "Epoch 53/200\n",
      "3/3 [==============================] - 0s 15ms/step - loss: 3.8271 - val_loss: 3.6477\n",
      "Epoch 54/200\n",
      "3/3 [==============================] - 0s 11ms/step - loss: 3.8189 - val_loss: 3.6412\n",
      "Epoch 55/200\n",
      "3/3 [==============================] - 0s 18ms/step - loss: 3.8107 - val_loss: 3.6416\n",
      "Epoch 56/200\n",
      "3/3 [==============================] - 0s 15ms/step - loss: 3.7980 - val_loss: 3.6231\n",
      "Epoch 57/200\n",
      "3/3 [==============================] - 0s 17ms/step - loss: 3.7863 - val_loss: 3.6293\n",
      "Epoch 58/200\n",
      "3/3 [==============================] - 0s 16ms/step - loss: 3.7732 - val_loss: 3.6375\n",
      "Epoch 59/200\n",
      "3/3 [==============================] - 0s 14ms/step - loss: 3.7651 - val_loss: 3.6234\n",
      "Epoch 60/200\n",
      "3/3 [==============================] - 0s 13ms/step - loss: 3.7474 - val_loss: 3.6283\n",
      "Epoch 61/200\n",
      "3/3 [==============================] - 0s 16ms/step - loss: 3.7369 - val_loss: 3.6180\n",
      "Epoch 62/200\n",
      "3/3 [==============================] - 0s 16ms/step - loss: 3.7210 - val_loss: 3.5874\n",
      "Epoch 63/200\n",
      "3/3 [==============================] - 0s 14ms/step - loss: 3.7046 - val_loss: 3.5882\n",
      "Epoch 64/200\n",
      "3/3 [==============================] - 0s 11ms/step - loss: 3.6840 - val_loss: 3.6042\n",
      "Epoch 65/200\n",
      "3/3 [==============================] - 0s 17ms/step - loss: 3.6725 - val_loss: 3.5673\n",
      "Epoch 66/200\n",
      "3/3 [==============================] - 0s 16ms/step - loss: 3.6562 - val_loss: 3.5502\n",
      "Epoch 67/200\n",
      "3/3 [==============================] - 0s 14ms/step - loss: 3.6301 - val_loss: 3.5835\n",
      "Epoch 68/200\n",
      "3/3 [==============================] - 0s 17ms/step - loss: 3.6115 - val_loss: 3.5340\n",
      "Epoch 69/200\n",
      "3/3 [==============================] - 0s 14ms/step - loss: 3.5853 - val_loss: 3.5124\n",
      "Epoch 70/200\n",
      "3/3 [==============================] - 0s 12ms/step - loss: 3.5653 - val_loss: 3.5181\n",
      "Epoch 71/200\n",
      "3/3 [==============================] - 0s 16ms/step - loss: 3.5408 - val_loss: 3.4866\n",
      "Epoch 72/200\n",
      "3/3 [==============================] - 0s 16ms/step - loss: 3.5138 - val_loss: 3.4665\n",
      "Epoch 73/200\n",
      "3/3 [==============================] - 0s 13ms/step - loss: 3.4972 - val_loss: 3.4601\n",
      "Epoch 74/200\n",
      "3/3 [==============================] - 0s 16ms/step - loss: 3.4803 - val_loss: 3.4471\n",
      "Epoch 75/200\n",
      "3/3 [==============================] - 0s 14ms/step - loss: 3.4508 - val_loss: 3.4051\n",
      "Epoch 76/200\n",
      "3/3 [==============================] - 0s 12ms/step - loss: 3.4348 - val_loss: 3.3944\n",
      "Epoch 77/200\n",
      "3/3 [==============================] - 0s 15ms/step - loss: 3.4129 - val_loss: 3.3789\n",
      "Epoch 78/200\n",
      "3/3 [==============================] - 0s 17ms/step - loss: 3.3888 - val_loss: 3.3607\n",
      "Epoch 79/200\n",
      "3/3 [==============================] - 0s 12ms/step - loss: 3.3779 - val_loss: 3.3477\n",
      "Epoch 80/200\n",
      "3/3 [==============================] - 0s 13ms/step - loss: 3.3688 - val_loss: 3.3167\n",
      "Epoch 81/200\n"
     ]
    },
    {
     "name": "stdout",
     "output_type": "stream",
     "text": [
      "3/3 [==============================] - 0s 13ms/step - loss: 3.3408 - val_loss: 3.3359\n",
      "Epoch 82/200\n",
      "3/3 [==============================] - 0s 10ms/step - loss: 3.3391 - val_loss: 3.2835\n",
      "Epoch 83/200\n",
      "3/3 [==============================] - 0s 14ms/step - loss: 3.3291 - val_loss: 3.2769\n",
      "Epoch 84/200\n",
      "3/3 [==============================] - 0s 14ms/step - loss: 3.3172 - val_loss: 3.3163\n",
      "Epoch 85/200\n",
      "3/3 [==============================] - 0s 19ms/step - loss: 3.3115 - val_loss: 3.2613\n",
      "Epoch 86/200\n",
      "3/3 [==============================] - 0s 15ms/step - loss: 3.2940 - val_loss: 3.2442\n",
      "Epoch 87/200\n",
      "3/3 [==============================] - 0s 15ms/step - loss: 3.2818 - val_loss: 3.2560\n",
      "Epoch 88/200\n",
      "3/3 [==============================] - 0s 17ms/step - loss: 3.3018 - val_loss: 3.2312\n",
      "Epoch 89/200\n",
      "3/3 [==============================] - 0s 13ms/step - loss: 3.2926 - val_loss: 3.2435\n",
      "Epoch 90/200\n",
      "3/3 [==============================] - 0s 16ms/step - loss: 3.2803 - val_loss: 3.3170\n",
      "Epoch 91/200\n",
      "3/3 [==============================] - 0s 15ms/step - loss: 3.2993 - val_loss: 3.2190\n",
      "Epoch 92/200\n",
      "3/3 [==============================] - 0s 16ms/step - loss: 3.2745 - val_loss: 3.2106\n",
      "Epoch 93/200\n",
      "3/3 [==============================] - 0s 17ms/step - loss: 3.2476 - val_loss: 3.2497\n",
      "Epoch 94/200\n",
      "3/3 [==============================] - 0s 15ms/step - loss: 3.2821 - val_loss: 3.1915\n",
      "Epoch 95/200\n",
      "3/3 [==============================] - 0s 10ms/step - loss: 3.2559 - val_loss: 3.1947\n",
      "Epoch 96/200\n",
      "3/3 [==============================] - 0s 17ms/step - loss: 3.2427 - val_loss: 3.2242\n",
      "Epoch 97/200\n",
      "3/3 [==============================] - 0s 13ms/step - loss: 3.2528 - val_loss: 3.1933\n",
      "Epoch 98/200\n",
      "3/3 [==============================] - 0s 12ms/step - loss: 3.2526 - val_loss: 3.2071\n",
      "Epoch 99/200\n",
      "3/3 [==============================] - 0s 15ms/step - loss: 3.2457 - val_loss: 3.2196\n",
      "Epoch 100/200\n",
      "3/3 [==============================] - 0s 16ms/step - loss: 3.2578 - val_loss: 3.1747\n",
      "Epoch 101/200\n",
      "3/3 [==============================] - 0s 16ms/step - loss: 3.2410 - val_loss: 3.1901\n",
      "Epoch 102/200\n",
      "3/3 [==============================] - 0s 11ms/step - loss: 3.2261 - val_loss: 3.2432\n",
      "Epoch 103/200\n",
      "3/3 [==============================] - 0s 12ms/step - loss: 3.2440 - val_loss: 3.1802\n",
      "Epoch 104/200\n",
      "3/3 [==============================] - 0s 17ms/step - loss: 3.2212 - val_loss: 3.1638\n",
      "Epoch 105/200\n",
      "3/3 [==============================] - 0s 12ms/step - loss: 3.2176 - val_loss: 3.1610\n",
      "Epoch 106/200\n",
      "3/3 [==============================] - 0s 12ms/step - loss: 3.2236 - val_loss: 3.1545\n",
      "Epoch 107/200\n",
      "3/3 [==============================] - 0s 13ms/step - loss: 3.2211 - val_loss: 3.1622\n",
      "Epoch 108/200\n",
      "3/3 [==============================] - 0s 13ms/step - loss: 3.2223 - val_loss: 3.1818\n",
      "Epoch 109/200\n",
      "3/3 [==============================] - 0s 20ms/step - loss: 3.2101 - val_loss: 3.1649\n",
      "Epoch 110/200\n",
      "3/3 [==============================] - 0s 10ms/step - loss: 3.2067 - val_loss: 3.1536\n",
      "Epoch 111/200\n",
      "3/3 [==============================] - 0s 16ms/step - loss: 3.2066 - val_loss: 3.1405\n",
      "Epoch 112/200\n",
      "3/3 [==============================] - 0s 15ms/step - loss: 3.2180 - val_loss: 3.1513\n",
      "Epoch 113/200\n",
      "3/3 [==============================] - 0s 16ms/step - loss: 3.2508 - val_loss: 3.1902\n",
      "Epoch 114/200\n",
      "3/3 [==============================] - 0s 15ms/step - loss: 3.2281 - val_loss: 3.2528\n",
      "Epoch 115/200\n",
      "3/3 [==============================] - 0s 18ms/step - loss: 3.2407 - val_loss: 3.1458\n",
      "Epoch 116/200\n",
      "3/3 [==============================] - 0s 20ms/step - loss: 3.2296 - val_loss: 3.1373\n",
      "Epoch 117/200\n",
      "3/3 [==============================] - 0s 12ms/step - loss: 3.2123 - val_loss: 3.1312\n",
      "Epoch 118/200\n",
      "3/3 [==============================] - 0s 15ms/step - loss: 3.2035 - val_loss: 3.1470\n",
      "Epoch 119/200\n",
      "3/3 [==============================] - 0s 10ms/step - loss: 3.2321 - val_loss: 3.1591\n",
      "Epoch 120/200\n",
      "3/3 [==============================] - 0s 13ms/step - loss: 3.2375 - val_loss: 3.1560\n",
      "Epoch 121/200\n",
      "3/3 [==============================] - 0s 17ms/step - loss: 3.2177 - val_loss: 3.1642\n",
      "Epoch 122/200\n",
      "3/3 [==============================] - 0s 14ms/step - loss: 3.2222 - val_loss: 3.1027\n",
      "Epoch 123/200\n",
      "3/3 [==============================] - 0s 20ms/step - loss: 3.2212 - val_loss: 3.1451\n",
      "Epoch 124/200\n",
      "3/3 [==============================] - 0s 16ms/step - loss: 3.2811 - val_loss: 3.1695\n",
      "Epoch 125/200\n",
      "3/3 [==============================] - 0s 14ms/step - loss: 3.1993 - val_loss: 3.3144\n",
      "Epoch 126/200\n",
      "3/3 [==============================] - 0s 13ms/step - loss: 3.2244 - val_loss: 3.1815\n",
      "Epoch 127/200\n",
      "3/3 [==============================] - 0s 14ms/step - loss: 3.2735 - val_loss: 3.1380\n",
      "Epoch 128/200\n",
      "3/3 [==============================] - 0s 11ms/step - loss: 3.1865 - val_loss: 3.1990\n",
      "Epoch 129/200\n",
      "3/3 [==============================] - 0s 12ms/step - loss: 3.2230 - val_loss: 3.1828\n",
      "Epoch 130/200\n",
      "3/3 [==============================] - 0s 16ms/step - loss: 3.2106 - val_loss: 3.1233\n",
      "Epoch 131/200\n",
      "3/3 [==============================] - 0s 11ms/step - loss: 3.2898 - val_loss: 3.1290\n",
      "Epoch 132/200\n",
      "3/3 [==============================] - 0s 15ms/step - loss: 3.2001 - val_loss: 3.0951\n",
      "Epoch 133/200\n",
      "3/3 [==============================] - 0s 13ms/step - loss: 3.1874 - val_loss: 3.1099\n",
      "Epoch 134/200\n",
      "3/3 [==============================] - 0s 14ms/step - loss: 3.1768 - val_loss: 3.1692\n",
      "Epoch 135/200\n",
      "3/3 [==============================] - 0s 12ms/step - loss: 3.1937 - val_loss: 3.2767\n",
      "Epoch 136/200\n",
      "3/3 [==============================] - 0s 14ms/step - loss: 3.1854 - val_loss: 3.1163\n",
      "Epoch 137/200\n",
      "3/3 [==============================] - 0s 11ms/step - loss: 3.1885 - val_loss: 3.1045\n",
      "Epoch 138/200\n",
      "3/3 [==============================] - 0s 13ms/step - loss: 3.2558 - val_loss: 3.1092\n",
      "Epoch 139/200\n",
      "3/3 [==============================] - 0s 10ms/step - loss: 3.2816 - val_loss: 3.2775\n",
      "Epoch 140/200\n",
      "3/3 [==============================] - 0s 13ms/step - loss: 3.2224 - val_loss: 3.7656\n",
      "Epoch 141/200\n",
      "3/3 [==============================] - 0s 12ms/step - loss: 3.3895 - val_loss: 3.2409\n",
      "Epoch 142/200\n",
      "3/3 [==============================] - 0s 12ms/step - loss: 3.3975 - val_loss: 3.3056\n",
      "Epoch 143/200\n",
      "3/3 [==============================] - 0s 15ms/step - loss: 3.2189 - val_loss: 3.2235\n",
      "Epoch 144/200\n",
      "3/3 [==============================] - 0s 18ms/step - loss: 3.3320 - val_loss: 3.2651\n",
      "Epoch 145/200\n",
      "3/3 [==============================] - 0s 13ms/step - loss: 3.3479 - val_loss: 3.1555\n",
      "Epoch 146/200\n",
      "3/3 [==============================] - 0s 12ms/step - loss: 3.2183 - val_loss: 3.3589\n",
      "Epoch 147/200\n",
      "3/3 [==============================] - 0s 13ms/step - loss: 3.2110 - val_loss: 3.1868\n",
      "Epoch 148/200\n",
      "3/3 [==============================] - 0s 14ms/step - loss: 3.2388 - val_loss: 3.0966\n",
      "Epoch 149/200\n",
      "3/3 [==============================] - 0s 13ms/step - loss: 3.1717 - val_loss: 3.0745\n",
      "Epoch 150/200\n",
      "3/3 [==============================] - 0s 13ms/step - loss: 3.1420 - val_loss: 3.0911\n",
      "Epoch 151/200\n",
      "3/3 [==============================] - 0s 16ms/step - loss: 3.1286 - val_loss: 3.1628\n",
      "Epoch 152/200\n",
      "3/3 [==============================] - 0s 8ms/step - loss: 3.1418 - val_loss: 3.0766\n",
      "Epoch 153/200\n",
      "3/3 [==============================] - 0s 17ms/step - loss: 3.1144 - val_loss: 3.0761\n",
      "Epoch 154/200\n",
      "3/3 [==============================] - 0s 14ms/step - loss: 3.1210 - val_loss: 3.0572\n",
      "Epoch 155/200\n",
      "3/3 [==============================] - 0s 12ms/step - loss: 3.1265 - val_loss: 3.0645\n",
      "Epoch 156/200\n",
      "3/3 [==============================] - 0s 15ms/step - loss: 3.1317 - val_loss: 3.0692\n",
      "Epoch 157/200\n",
      "3/3 [==============================] - 0s 16ms/step - loss: 3.1106 - val_loss: 3.0763\n",
      "Epoch 158/200\n",
      "3/3 [==============================] - 0s 12ms/step - loss: 3.0967 - val_loss: 3.0777\n",
      "Epoch 159/200\n",
      "3/3 [==============================] - 0s 16ms/step - loss: 3.1151 - val_loss: 3.0411\n",
      "Epoch 160/200\n",
      "3/3 [==============================] - 0s 13ms/step - loss: 3.0949 - val_loss: 3.0372\n",
      "Epoch 161/200\n",
      "3/3 [==============================] - 0s 13ms/step - loss: 3.0981 - val_loss: 3.0633\n",
      "Epoch 162/200\n",
      "3/3 [==============================] - ETA: 0s - loss: 2.917 - 0s 15ms/step - loss: 3.1029 - val_loss: 3.0652\n",
      "Epoch 163/200\n"
     ]
    },
    {
     "name": "stdout",
     "output_type": "stream",
     "text": [
      "3/3 [==============================] - 0s 12ms/step - loss: 3.0903 - val_loss: 3.1196\n",
      "Epoch 164/200\n",
      "3/3 [==============================] - 0s 12ms/step - loss: 3.0970 - val_loss: 3.0636\n",
      "Epoch 165/200\n",
      "3/3 [==============================] - 0s 9ms/step - loss: 3.0832 - val_loss: 3.0510\n",
      "Epoch 166/200\n",
      "3/3 [==============================] - 0s 13ms/step - loss: 3.0799 - val_loss: 3.0304\n",
      "Epoch 167/200\n",
      "3/3 [==============================] - 0s 13ms/step - loss: 3.0806 - val_loss: 3.0133\n",
      "Epoch 168/200\n",
      "3/3 [==============================] - 0s 12ms/step - loss: 3.0837 - val_loss: 3.0330\n",
      "Epoch 169/200\n",
      "3/3 [==============================] - 0s 13ms/step - loss: 3.0681 - val_loss: 3.0395\n",
      "Epoch 170/200\n",
      "3/3 [==============================] - 0s 13ms/step - loss: 3.0632 - val_loss: 3.0616\n",
      "Epoch 171/200\n",
      "3/3 [==============================] - 0s 15ms/step - loss: 3.0660 - val_loss: 3.0564\n",
      "Epoch 172/200\n",
      "3/3 [==============================] - 0s 11ms/step - loss: 3.0539 - val_loss: 3.0324\n",
      "Epoch 173/200\n",
      "3/3 [==============================] - 0s 11ms/step - loss: 3.0444 - val_loss: 3.0046\n",
      "Epoch 174/200\n",
      "3/3 [==============================] - 0s 15ms/step - loss: 3.0560 - val_loss: 3.0021\n",
      "Epoch 175/200\n",
      "3/3 [==============================] - 0s 13ms/step - loss: 3.0524 - val_loss: 3.0197\n",
      "Epoch 176/200\n",
      "3/3 [==============================] - 0s 11ms/step - loss: 3.0475 - val_loss: 3.0335\n",
      "Epoch 177/200\n",
      "3/3 [==============================] - 0s 12ms/step - loss: 3.0708 - val_loss: 3.0628\n",
      "Epoch 178/200\n",
      "3/3 [==============================] - 0s 17ms/step - loss: 3.0509 - val_loss: 3.0770\n",
      "Epoch 179/200\n",
      "3/3 [==============================] - 0s 13ms/step - loss: 3.0294 - val_loss: 3.0453\n",
      "Epoch 180/200\n",
      "3/3 [==============================] - 0s 14ms/step - loss: 3.0859 - val_loss: 3.0175\n",
      "Epoch 181/200\n",
      "3/3 [==============================] - 0s 18ms/step - loss: 3.0402 - val_loss: 3.0297\n",
      "Epoch 182/200\n",
      "3/3 [==============================] - 0s 10ms/step - loss: 3.0767 - val_loss: 3.0522\n",
      "Epoch 183/200\n",
      "3/3 [==============================] - 0s 17ms/step - loss: 3.1228 - val_loss: 3.0680\n",
      "Epoch 184/200\n",
      "3/3 [==============================] - 0s 13ms/step - loss: 3.2311 - val_loss: 3.1717\n",
      "Epoch 185/200\n",
      "3/3 [==============================] - 0s 13ms/step - loss: 3.4511 - val_loss: 3.7134\n",
      "Epoch 186/200\n",
      "3/3 [==============================] - 0s 15ms/step - loss: 3.5905 - val_loss: 3.8557\n",
      "Epoch 187/200\n",
      "3/3 [==============================] - 0s 12ms/step - loss: 3.5313 - val_loss: 3.2541\n",
      "Epoch 188/200\n",
      "3/3 [==============================] - 0s 14ms/step - loss: 3.2061 - val_loss: 3.0291\n",
      "Epoch 189/200\n",
      "3/3 [==============================] - 0s 19ms/step - loss: 3.2533 - val_loss: 3.1535\n",
      "Epoch 190/200\n",
      "3/3 [==============================] - 0s 14ms/step - loss: 3.1477 - val_loss: 3.0461\n",
      "Epoch 191/200\n",
      "3/3 [==============================] - 0s 13ms/step - loss: 3.0710 - val_loss: 3.0385\n",
      "Epoch 192/200\n",
      "3/3 [==============================] - 0s 14ms/step - loss: 3.0209 - val_loss: 3.0295\n",
      "Epoch 193/200\n",
      "3/3 [==============================] - 0s 10ms/step - loss: 3.0164 - val_loss: 3.0180\n",
      "Epoch 194/200\n",
      "3/3 [==============================] - 0s 13ms/step - loss: 2.9940 - val_loss: 2.9661\n",
      "Epoch 195/200\n",
      "3/3 [==============================] - 0s 14ms/step - loss: 2.9881 - val_loss: 2.9996\n",
      "Epoch 196/200\n",
      "3/3 [==============================] - 0s 11ms/step - loss: 3.0181 - val_loss: 2.9702\n",
      "Epoch 197/200\n",
      "3/3 [==============================] - 0s 14ms/step - loss: 3.0001 - val_loss: 2.9835\n",
      "Epoch 198/200\n",
      "3/3 [==============================] - 0s 14ms/step - loss: 2.9863 - val_loss: 2.9947\n",
      "Epoch 199/200\n",
      "3/3 [==============================] - 0s 13ms/step - loss: 2.9671 - val_loss: 2.9656\n",
      "Epoch 200/200\n",
      "3/3 [==============================] - 0s 14ms/step - loss: 2.9717 - val_loss: 2.9846\n"
     ]
    }
   ],
   "source": [
    "history = model.fit(X_train, y_train, epochs=200,\n",
    "                    validation_data=(X_valid, y_valid))"
   ]
  },
  {
   "cell_type": "code",
   "execution_count": 72,
   "id": "0b29d35c",
   "metadata": {
    "scrolled": true
   },
   "outputs": [],
   "source": [
    "# history = model.fit(X_train, y_train, epochs=145,\n",
    "#                     validation_data=(X_valid, y_valid), callbacks=[lr_scheduler])"
   ]
  },
  {
   "cell_type": "code",
   "execution_count": 73,
   "id": "28215732",
   "metadata": {},
   "outputs": [
    {
     "name": "stdout",
     "output_type": "stream",
     "text": [
      "Saving figure grid_Gaussian_training_curve\n"
     ]
    },
    {
     "data": {
      "image/png": "[encoded data removed]",
      "text/plain": [
       "<Figure size 576x360 with 1 Axes>"
      ]
     },
     "metadata": {
      "needs_background": "light"
     },
     "output_type": "display_data"
    }
   ],
   "source": [
    "import pandas as pd\n",
    "\n",
    "# print(history.history)\n",
    "try:\n",
    "    lr_list = history.history[\"lr\"]\n",
    "    del(history.history[\"lr\"])\n",
    "except:\n",
    "    pass\n",
    "\n",
    "pd.DataFrame(history.history)[50:].plot(figsize=(8, 5))\n",
    "plt.grid(True)\n",
    "# plt.gca().set_ylim(0, 1)\n",
    "save_fig(\"grid_Gaussian_training_curve\")\n",
    "plt.show()"
   ]
  },
  {
   "cell_type": "code",
   "execution_count": 74,
   "id": "47d362c9",
   "metadata": {
    "scrolled": true
   },
   "outputs": [
    {
     "name": "stdout",
     "output_type": "stream",
     "text": [
      "X.shape = (None, 1)\n",
      "gauss_grid.shape = (None, 5)\n",
      "Saving figure grid_Gaussian_prediction\n"
     ]
    },
    {
     "data": {
      "image/png": "[encoded data removed]",
      "text/plain": [
       "<Figure size 432x288 with 1 Axes>"
      ]
     },
     "metadata": {
      "needs_background": "light"
     },
     "output_type": "display_data"
    }
   ],
   "source": [
    "# plt.plot(X_train, y_train, \"b.\")\n",
    "draw_points(X_train, y_train, sid_train)\n",
    "draw_func((lambda X: model.predict(X)[:,0] ), mark='r-', linewidth=2, label=\"Predictions\")\n",
    "draw_normal_func(func_dict)\n",
    "plt.xlabel(\"$x_1$\", fontsize=18)\n",
    "plt.ylabel(\"$y$\", rotation=0, fontsize=18)\n",
    "plt.legend(loc=\"upper left\", fontsize=14)\n",
    "# plt.axis([-3, 3, 0, 10])\n",
    "save_fig(\"grid_Gaussian_prediction\")\n",
    "plt.show()"
   ]
  },
  {
   "cell_type": "code",
   "execution_count": 75,
   "id": "a85a5159",
   "metadata": {},
   "outputs": [
    {
     "name": "stdout",
     "output_type": "stream",
     "text": [
      "y_func.shape = (100, 1)\n",
      "y_gt.shape = (100, 1)\n"
     ]
    },
    {
     "data": {
      "text/plain": [
       "5.997738175353584"
      ]
     },
     "execution_count": 75,
     "metadata": {},
     "output_type": "execute_result"
    }
   ],
   "source": [
    "get_prediction_error((lambda X: model.predict(X)[:,0] ), func_dict, name=\"grid-oneGaussian\")"
   ]
  },
  {
   "cell_type": "markdown",
   "id": "9ca1e36d",
   "metadata": {},
   "source": [
    "### Draw the 1-sigma boundary line"
   ]
  },
  {
   "cell_type": "code",
   "execution_count": 76,
   "id": "a04a47fa",
   "metadata": {},
   "outputs": [
    {
     "name": "stdout",
     "output_type": "stream",
     "text": [
      "Saving figure grid_Gaussian_1sigma\n"
     ]
    },
    {
     "data": {
      "image/png": "[encoded data removed]",
      "text/plain": [
       "<Figure size 432x288 with 1 Axes>"
      ]
     },
     "metadata": {
      "needs_background": "light"
     },
     "output_type": "display_data"
    }
   ],
   "source": [
    "def n_sigma_boundary_line(X, n):\n",
    "    _y = model.predict(X)\n",
    "    _mean, _z = _y[:,0:1], _y[:,1:2]\n",
    "    _sigma = np.exp(alpha*_z)\n",
    "    return( _mean + n*_sigma)\n",
    "\n",
    "# plt.plot(X_train, y_train, \"b.\")\n",
    "draw_points(X_train, y_train, sid_train)\n",
    "#\n",
    "draw_func((lambda X: model.predict(X)[:,0] ), mark='r-', linewidth=2, label=\"Predictions\")\n",
    "draw_func((lambda X: n_sigma_boundary_line(X, +1.0) ), mark='k--', linewidth=1, label=\"$\\mu+\\sigma$\")\n",
    "draw_func((lambda X: n_sigma_boundary_line(X, -1.0) ), mark='k--', linewidth=1, label=\"$\\mu-\\sigma$\")\n",
    "#\n",
    "draw_normal_func(func_dict)\n",
    "plt.xlabel(\"$x_1$\", fontsize=18)\n",
    "plt.ylabel(\"$y$\", rotation=0, fontsize=18)\n",
    "plt.legend(loc=\"upper left\", fontsize=14)\n",
    "# plt.axis([-3, 3, 0, 10])\n",
    "save_fig(\"grid_Gaussian_1sigma\")\n",
    "plt.show()"
   ]
  },
  {
   "cell_type": "markdown",
   "id": "1cdb8a83",
   "metadata": {},
   "source": [
    "# Per-subject Bias/Property Learning"
   ]
  },
  {
   "cell_type": "code",
   "execution_count": 77,
   "id": "0a429b42",
   "metadata": {},
   "outputs": [],
   "source": [
    "# Create a custom layer for estimating bais for each subject\n",
    "class SubjectBias(keras.layers.Layer):\n",
    "    def __init__(self, num_subject, bias_scale=1.0, mean_reg_rate=1.0, activation=None, **kwargs):\n",
    "        super().__init__(**kwargs)\n",
    "        self.num_subject = num_subject\n",
    "        self.bias_scale = bias_scale\n",
    "        self.mean_reg_rate = mean_reg_rate if mean_reg_rate >= 0.0 else 0.0\n",
    "        #\n",
    "        self.X_shape = None\n",
    "        self.activation = keras.activations.get(activation)\n",
    "        \n",
    "    def build(self, batch_input_shape):\n",
    "        self.X_shape = batch_input_shape[0]\n",
    "        # Initiate a trainable vector as the bias for X\n",
    "        \"\"\"\n",
    "        bias: (num_subject, X_shape[1], X_shape[2], ...)\n",
    "        \"\"\"\n",
    "        self.bias = self.add_weight(name=\"bias\", \n",
    "                                    shape=([self.num_subject] + self.X_shape[1:]), \n",
    "                                    initializer=\"zeros\")\n",
    "        super().build(batch_input_shape) # must be at the end\n",
    "        \n",
    "    def get_bias(self, sid):\n",
    "        '''\n",
    "        A helper function for retriving the bias according to the given sid.\n",
    "        Note: sid starts from 1.\n",
    "        Note2: this is the bias added to X, which are scaled by self.bias_scale\n",
    "        '''\n",
    "        if sid > self.num_subject or sid <= 0: # Out of bound, index not in range\n",
    "            return tf.zeros(self.X_shape[1:])\n",
    "        else:\n",
    "            return self.bias_scale * self.bias[tf.cast(sid-1, tf.int32),:]\n",
    "        \n",
    "    def get_scaled_biases_np(self):\n",
    "        return self.bias_scale * self.bias.numpy()\n",
    "        \n",
    "    def call(self, X_sid, training=None):\n",
    "        '''\n",
    "        X_sid = [X, sid]\n",
    "        Input shape:  X: (batch, ...), sid: (batch, 1)\n",
    "        Output shape: (batch, ...)\n",
    "        '''\n",
    "        X, SID = X_sid\n",
    "        X_shape = X.shape\n",
    "        print(\"X.shape = %s\" % X.shape)\n",
    "        print(\"SID.shape = %s\" % SID.shape)\n",
    "        \n",
    "        # Add bias\n",
    "        y = X + self.bias_scale * tf.gather(self.bias, SID[:,0]-1, axis=0)\n",
    "        \n",
    "        # Add a loss on the means in order to force them to become zeros\n",
    "        if self.mean_reg_rate > 0.0:\n",
    "            # Calculate the mean of all biases (on each dimension)\n",
    "            bias_means = tf.reduce_mean(self.bias, axis=0)\n",
    "            # MAE of means on all dimensions\n",
    "            self.add_loss( self.mean_reg_rate * tf.reduce_sum(tf.abs(bias_means)) )\n",
    "        \n",
    "        return self.activation(y)\n",
    "        \n",
    "#         if training:    \n",
    "#             # Add biases according to the sid of each instance\n",
    "#             # Note: a corner case is not handeled that if there exist out-of-range sid.\n",
    "#             # y = X + self.bias[tf.cast(SID[:,0]-1, tf.int32),:]\n",
    "#             # y = X + self.bias[ SID[:,0]-1,:]\n",
    "#             y = X + tf.gather(self.bias, SID[:,0]-1, axis=0)\n",
    "#             return self.activation(y)\n",
    "#         else: # If it's not trainig, just output the original X without adding bias\n",
    "#             return self.activation(X_sid[0])\n",
    "    \n",
    "    def compute_output_shape(self, batch_input_shape):\n",
    "        # Note: the same shape as the first input\n",
    "        return batch_input_shape[0]\n",
    "    \n",
    "    def get_config(self):\n",
    "        base_config = super().get_config()\n",
    "        return {**base_config, \n",
    "                \"num_subject\": self.num_subject,\n",
    "                \"bias_scale\": self.bias_scale,\n",
    "                \"mean_reg_rate\": self.mean_reg_rate,\n",
    "                \"activation\": keras.activations.serialize(self.activation)}"
   ]
  },
  {
   "cell_type": "code",
   "execution_count": 78,
   "id": "8d90e89f",
   "metadata": {},
   "outputs": [],
   "source": [
    "# Create a custom layer for estimating linear transform for each subject\n",
    "# We only assume 1D lear transform on each input dimension separately. (assume value on each dimension are independent to others.)\n",
    "# 1D linear transform: yi = wi * xi + bi\n",
    "class SubjectLinearTransform1D(keras.layers.Layer):\n",
    "    def __init__(self, num_subject, bias_scale=1.0, weight_mean_reg_rate=1.0, bias_mean_reg_rate=1.0, activation=None, **kwargs):\n",
    "        super().__init__(**kwargs)\n",
    "        self.num_subject = num_subject\n",
    "        self.bias_scale = bias_scale\n",
    "        self.weight_mean_reg_rate = weight_mean_reg_rate if weight_mean_reg_rate >= 0.0 else 0.0\n",
    "        self.bias_mean_reg_rate = bias_mean_reg_rate if bias_mean_reg_rate >= 0.0 else 0.0\n",
    "        #\n",
    "        self.X_shape = None\n",
    "        self.activation = keras.activations.get(activation)\n",
    "        \n",
    "    def build(self, batch_input_shape):\n",
    "        self.X_shape = batch_input_shape[0]\n",
    "        # Initiate a trainable vector as the bias for X\n",
    "        \"\"\"\n",
    "        bias: (num_subject, X_shape[1], X_shape[2], ...)\n",
    "        \"\"\"\n",
    "        self.weight = self.add_weight(name=\"weight\", \n",
    "                                    shape=([self.num_subject] + self.X_shape[1:]), \n",
    "                                    initializer=\"ones\")\n",
    "        self.bias = self.add_weight(name=\"bias\", \n",
    "                                    shape=([self.num_subject] + self.X_shape[1:]), \n",
    "                                    initializer=\"zeros\")\n",
    "        super().build(batch_input_shape) # must be at the end\n",
    "        \n",
    "    def get_bias(self, sid):\n",
    "        '''\n",
    "        A helper function for retriving the bias according to the given sid.\n",
    "        Note: sid starts from 1.\n",
    "        Note2: this is the bias added to X, which are scaled by self.bias_scale\n",
    "        '''\n",
    "        if sid > self.num_subject or sid <= 0: # Out of bound, index not in range\n",
    "            return tf.zeros(self.X_shape[1:])\n",
    "        else:\n",
    "            return self.bias_scale * self.bias[tf.cast(sid-1, tf.int32),:]\n",
    "        \n",
    "    def get_scaled_biases_np(self):\n",
    "        return self.bias_scale * self.bias.numpy()\n",
    "    \n",
    "    def get_weights_np(self):\n",
    "        return self.weight.numpy()\n",
    "        \n",
    "    def call(self, X_sid, training=None):\n",
    "        '''\n",
    "        X_sid = [X, sid]\n",
    "        Input shape:  X: (batch, ...), sid: (batch, 1)\n",
    "        Output shape: (batch, ...)\n",
    "        '''\n",
    "        X, SID = X_sid\n",
    "        X_shape = X.shape\n",
    "        print(\"X.shape = %s\" % X.shape)\n",
    "        print(\"SID.shape = %s\" % SID.shape)\n",
    "        \n",
    "        # Element-wise multiplication of weights and addition of biases\n",
    "        y = tf.gather(self.weight, SID[:,0]-1, axis=0) * X + self.bias_scale * tf.gather(self.bias, SID[:,0]-1, axis=0)\n",
    "        \n",
    "        # Add a loss on the means in order to force them to become zeros\n",
    "        if self.weight_mean_reg_rate > 0.0 or self.bias_mean_reg_rate > 0.0:\n",
    "            # Calculate the mean of all weights and biases (on each dimension separately)\n",
    "            weight_means = tf.reduce_mean(self.weight, axis=0)\n",
    "            bias_means = tf.reduce_mean(self.bias, axis=0)\n",
    "            # MAE of means on all dimensions\n",
    "            self.add_loss( self.weight_mean_reg_rate * tf.reduce_sum(tf.abs(weight_means - 1.0)) ) # Should close to 1.0\n",
    "            self.add_loss( self.bias_mean_reg_rate * tf.reduce_sum(tf.abs(bias_means)) )\n",
    "        \n",
    "        return self.activation(y)\n",
    "    \n",
    "    def compute_output_shape(self, batch_input_shape):\n",
    "        # Note: the same shape as the first input\n",
    "        return batch_input_shape[0]\n",
    "    \n",
    "    def get_config(self):\n",
    "        base_config = super().get_config()\n",
    "        return {**base_config, \n",
    "                \"num_subject\": self.num_subject,\n",
    "                \"bias_scale\": self.bias_scale,\n",
    "                \"weight_mean_reg_rate\": self.weight_mean_reg_rate,\n",
    "                \"bias_mean_reg_rate\": self.bias_mean_reg_rate,\n",
    "                \"activation\": keras.activations.serialize(self.activation)}"
   ]
  },
  {
   "cell_type": "markdown",
   "id": "00220bd0",
   "metadata": {},
   "source": [
    "Number of subjects"
   ]
  },
  {
   "cell_type": "code",
   "execution_count": 79,
   "id": "fa925d83",
   "metadata": {},
   "outputs": [],
   "source": [
    "# Number of subjects\n",
    "num_subject = multiout_type"
   ]
  },
  {
   "cell_type": "markdown",
   "id": "37e02154",
   "metadata": {},
   "source": [
    "Build two models"
   ]
  },
  {
   "cell_type": "code",
   "execution_count": 80,
   "id": "05766d44",
   "metadata": {},
   "outputs": [
    {
     "name": "stdout",
     "output_type": "stream",
     "text": [
      "X.shape = (None, 1)\n",
      "gauss_grid.shape = (None, 5)\n",
      "X.shape = (None, 1)\n",
      "SID.shape = (None, 1)\n",
      "WARNING:tensorflow:From /home/benson516/GazeDemo/gaze_env/lib/python3.8/site-packages/tensorflow/python/ops/array_ops.py:5043: calling gather (from tensorflow.python.ops.array_ops) with validate_indices is deprecated and will be removed in a future version.\n",
      "Instructions for updating:\n",
      "The `validate_indices` argument has no effect. Indices are always validated on CPU and never validated on GPU.\n"
     ]
    }
   ],
   "source": [
    "inputs = keras.layers.Input(shape=X_train.shape[1:])\n",
    "inputs_sid = keras.layers.Input(shape=(1,), dtype=tf.int32)\n",
    "#\n",
    "z = num2grid(5,x_min=-10, x_max=10, sigma=3.0)(inputs)\n",
    "z = keras.layers.Dense(30, activation=\"relu\")(z)\n",
    "output = keras.layers.Dense(1)(z)\n",
    "# output_biased = SubjectBias(num_subject, bias_scale=10.0, mean_reg_rate=1.0, name=\"bias_est\")([output, inputs_sid])\n",
    "output_biased = SubjectLinearTransform1D(num_subject, bias_scale=10.0, weight_mean_reg_rate=5.0, bias_mean_reg_rate=1.0, name=\"bias_est\")([output, inputs_sid])\n",
    "# Setup models\n",
    "model = keras.Model(inputs=[inputs], outputs=[output]) # pure\n",
    "model_biased = keras.Model(inputs=[inputs, inputs_sid], outputs=[output_biased]) # biased, for training"
   ]
  },
  {
   "cell_type": "code",
   "execution_count": 81,
   "id": "6da7e9b1",
   "metadata": {},
   "outputs": [
    {
     "name": "stderr",
     "output_type": "stream",
     "text": [
      "/home/benson516/GazeDemo/gaze_env/lib/python3.8/site-packages/tensorflow/python/keras/optimizer_v2/optimizer_v2.py:374: UserWarning: The `lr` argument is deprecated, use `learning_rate` instead.\n",
      "  warnings.warn(\n"
     ]
    }
   ],
   "source": [
    "# optimizer = keras.optimizers.SGD(lr=0.001, momentum=0.9)\n",
    "# model.compile(loss=\"mean_squared_error\", optimizer=optimizer)\n",
    "optimizer = keras.optimizers.Adam(lr=0.1)\n",
    "model_biased.compile(loss=\"mean_absolute_error\", optimizer=optimizer)\n",
    "#\n",
    "# model.compile(loss=\"mean_absolute_error\", optimizer=optimizer) # No need to compile this if it's not going to be trained."
   ]
  },
  {
   "cell_type": "code",
   "execution_count": 82,
   "id": "700a6e39",
   "metadata": {
    "scrolled": true
   },
   "outputs": [
    {
     "name": "stdout",
     "output_type": "stream",
     "text": [
      "Epoch 1/100\n",
      "X.shape = (None, 1)\n",
      "gauss_grid.shape = (None, 5)\n",
      "X.shape = (None, 1)\n",
      "SID.shape = (None, 1)\n",
      "X.shape = (None, 1)\n",
      "gauss_grid.shape = (None, 5)\n",
      "X.shape = (None, 1)\n",
      "SID.shape = (None, 1)\n",
      "1/3 [=========>....................] - ETA: 0s - loss: 41.5835X.shape = (None, 1)\n",
      "gauss_grid.shape = (None, 5)\n",
      "X.shape = (None, 1)\n",
      "SID.shape = (None, 1)\n",
      "3/3 [==============================] - 0s 49ms/step - loss: 41.1475 - val_loss: 32.5031\n",
      "Epoch 2/100\n",
      "3/3 [==============================] - 0s 7ms/step - loss: 37.3687 - val_loss: 29.0080\n",
      "Epoch 3/100\n",
      "3/3 [==============================] - 0s 14ms/step - loss: 31.0911 - val_loss: 23.1948\n",
      "Epoch 4/100\n",
      "3/3 [==============================] - 0s 19ms/step - loss: 22.7497 - val_loss: 13.7989\n",
      "Epoch 5/100\n",
      "3/3 [==============================] - 0s 10ms/step - loss: 16.2085 - val_loss: 11.4427\n",
      "Epoch 6/100\n",
      "3/3 [==============================] - 0s 20ms/step - loss: 14.6333 - val_loss: 10.9565\n",
      "Epoch 7/100\n",
      "3/3 [==============================] - 0s 10ms/step - loss: 13.8274 - val_loss: 10.1666\n",
      "Epoch 8/100\n",
      "3/3 [==============================] - 0s 22ms/step - loss: 12.8256 - val_loss: 9.3664\n",
      "Epoch 9/100\n",
      "3/3 [==============================] - 0s 11ms/step - loss: 12.1021 - val_loss: 7.6954\n",
      "Epoch 10/100\n",
      "3/3 [==============================] - 0s 16ms/step - loss: 10.5604 - val_loss: 7.8088\n",
      "Epoch 11/100\n",
      "3/3 [==============================] - 0s 13ms/step - loss: 9.8969 - val_loss: 7.6545\n",
      "Epoch 12/100\n",
      "3/3 [==============================] - 0s 14ms/step - loss: 9.2385 - val_loss: 7.4605\n",
      "Epoch 13/100\n",
      "3/3 [==============================] - 0s 13ms/step - loss: 8.1377 - val_loss: 6.5735\n",
      "Epoch 14/100\n",
      "3/3 [==============================] - 0s 15ms/step - loss: 7.5764 - val_loss: 5.1233\n",
      "Epoch 15/100\n",
      "3/3 [==============================] - 0s 16ms/step - loss: 6.8129 - val_loss: 4.8423\n",
      "Epoch 16/100\n",
      "3/3 [==============================] - 0s 14ms/step - loss: 6.0806 - val_loss: 5.4254\n",
      "Epoch 17/100\n",
      "3/3 [==============================] - 0s 15ms/step - loss: 5.4240 - val_loss: 5.3019\n",
      "Epoch 18/100\n",
      "3/3 [==============================] - 0s 13ms/step - loss: 4.8113 - val_loss: 3.9554\n",
      "Epoch 19/100\n",
      "3/3 [==============================] - 0s 14ms/step - loss: 4.5923 - val_loss: 3.8828\n",
      "Epoch 20/100\n",
      "3/3 [==============================] - 0s 14ms/step - loss: 4.3006 - val_loss: 4.0010\n",
      "Epoch 21/100\n",
      "3/3 [==============================] - 0s 14ms/step - loss: 4.1997 - val_loss: 3.8503\n",
      "Epoch 22/100\n",
      "3/3 [==============================] - 0s 13ms/step - loss: 4.1103 - val_loss: 3.4832\n",
      "Epoch 23/100\n",
      "3/3 [==============================] - 0s 12ms/step - loss: 3.7967 - val_loss: 3.4364\n",
      "Epoch 24/100\n",
      "3/3 [==============================] - 0s 15ms/step - loss: 3.7268 - val_loss: 3.5190\n",
      "Epoch 25/100\n",
      "3/3 [==============================] - 0s 13ms/step - loss: 3.7274 - val_loss: 3.2229\n",
      "Epoch 26/100\n",
      "3/3 [==============================] - 0s 13ms/step - loss: 3.5811 - val_loss: 2.6150\n",
      "Epoch 27/100\n",
      "3/3 [==============================] - 0s 15ms/step - loss: 3.1750 - val_loss: 3.5024\n",
      "Epoch 28/100\n",
      "3/3 [==============================] - 0s 14ms/step - loss: 3.3341 - val_loss: 3.1672\n",
      "Epoch 29/100\n",
      "3/3 [==============================] - 0s 15ms/step - loss: 3.3866 - val_loss: 2.6295\n",
      "Epoch 30/100\n",
      "3/3 [==============================] - 0s 12ms/step - loss: 2.9081 - val_loss: 3.3764\n",
      "Epoch 31/100\n",
      "3/3 [==============================] - 0s 12ms/step - loss: 3.6488 - val_loss: 2.7855\n",
      "Epoch 32/100\n",
      "3/3 [==============================] - 0s 15ms/step - loss: 3.2401 - val_loss: 4.2001\n",
      "Epoch 33/100\n",
      "3/3 [==============================] - 0s 17ms/step - loss: 3.7990 - val_loss: 2.7178\n",
      "Epoch 34/100\n",
      "3/3 [==============================] - 0s 15ms/step - loss: 3.2309 - val_loss: 4.2307\n",
      "Epoch 35/100\n",
      "3/3 [==============================] - 0s 14ms/step - loss: 3.5664 - val_loss: 2.2767\n",
      "Epoch 36/100\n",
      "3/3 [==============================] - 0s 13ms/step - loss: 3.1391 - val_loss: 2.4816\n",
      "Epoch 37/100\n",
      "3/3 [==============================] - 0s 16ms/step - loss: 2.9653 - val_loss: 3.1774\n",
      "Epoch 38/100\n",
      "3/3 [==============================] - 0s 13ms/step - loss: 3.3793 - val_loss: 2.5449\n",
      "Epoch 39/100\n",
      "3/3 [==============================] - 0s 15ms/step - loss: 2.6644 - val_loss: 2.8581\n",
      "Epoch 40/100\n",
      "3/3 [==============================] - 0s 15ms/step - loss: 3.0613 - val_loss: 2.6820\n",
      "Epoch 41/100\n",
      "3/3 [==============================] - 0s 13ms/step - loss: 2.6244 - val_loss: 2.9670\n",
      "Epoch 42/100\n",
      "3/3 [==============================] - 0s 12ms/step - loss: 2.8236 - val_loss: 2.9831\n",
      "Epoch 43/100\n",
      "3/3 [==============================] - 0s 14ms/step - loss: 3.1986 - val_loss: 3.2196\n",
      "Epoch 44/100\n",
      "3/3 [==============================] - 0s 16ms/step - loss: 3.1137 - val_loss: 2.7191\n",
      "Epoch 45/100\n",
      "3/3 [==============================] - 0s 19ms/step - loss: 2.9266 - val_loss: 3.3778\n",
      "Epoch 46/100\n",
      "3/3 [==============================] - 0s 14ms/step - loss: 3.4778 - val_loss: 3.6068\n",
      "Epoch 47/100\n",
      "3/3 [==============================] - 0s 11ms/step - loss: 3.4071 - val_loss: 3.8027\n",
      "Epoch 48/100\n",
      "3/3 [==============================] - 0s 14ms/step - loss: 5.4240 - val_loss: 2.3607\n",
      "Epoch 49/100\n",
      "3/3 [==============================] - 0s 15ms/step - loss: 4.0695 - val_loss: 4.4301\n",
      "Epoch 50/100\n",
      "3/3 [==============================] - 0s 14ms/step - loss: 3.8195 - val_loss: 4.9220\n",
      "Epoch 51/100\n",
      "3/3 [==============================] - 0s 14ms/step - loss: 5.4814 - val_loss: 2.6952\n",
      "Epoch 52/100\n",
      "3/3 [==============================] - 0s 15ms/step - loss: 3.9877 - val_loss: 2.8475\n",
      "Epoch 53/100\n",
      "3/3 [==============================] - 0s 14ms/step - loss: 3.5945 - val_loss: 3.7920\n",
      "Epoch 54/100\n",
      "3/3 [==============================] - 0s 15ms/step - loss: 3.9968 - val_loss: 3.6715\n",
      "Epoch 55/100\n",
      "3/3 [==============================] - 0s 15ms/step - loss: 3.9808 - val_loss: 3.2645\n",
      "Epoch 56/100\n",
      "3/3 [==============================] - 0s 14ms/step - loss: 4.3232 - val_loss: 2.6717\n",
      "Epoch 57/100\n",
      "3/3 [==============================] - 0s 10ms/step - loss: 3.3735 - val_loss: 4.4463\n",
      "Epoch 58/100\n",
      "3/3 [==============================] - 0s 19ms/step - loss: 3.7852 - val_loss: 3.4413\n",
      "Epoch 59/100\n",
      "3/3 [==============================] - 0s 14ms/step - loss: 4.4101 - val_loss: 4.6303\n",
      "Epoch 60/100\n",
      "3/3 [==============================] - 0s 16ms/step - loss: 4.7858 - val_loss: 2.4524\n",
      "Epoch 61/100\n",
      "3/3 [==============================] - 0s 16ms/step - loss: 3.5790 - val_loss: 4.3610\n",
      "Epoch 62/100\n",
      "3/3 [==============================] - 0s 18ms/step - loss: 4.0858 - val_loss: 4.0457\n",
      "Epoch 63/100\n",
      "3/3 [==============================] - 0s 17ms/step - loss: 4.1268 - val_loss: 3.1806\n",
      "Epoch 64/100\n",
      "3/3 [==============================] - 0s 13ms/step - loss: 3.6879 - val_loss: 2.4294\n",
      "Epoch 65/100\n",
      "3/3 [==============================] - 0s 16ms/step - loss: 3.2356 - val_loss: 2.8800\n",
      "Epoch 66/100\n",
      "3/3 [==============================] - 0s 12ms/step - loss: 2.9081 - val_loss: 2.2530\n",
      "Epoch 67/100\n",
      "3/3 [==============================] - 0s 11ms/step - loss: 2.7849 - val_loss: 2.7728\n",
      "Epoch 68/100\n",
      "3/3 [==============================] - 0s 15ms/step - loss: 3.0820 - val_loss: 2.7068\n",
      "Epoch 69/100\n",
      "3/3 [==============================] - 0s 14ms/step - loss: 3.2150 - val_loss: 3.1262\n",
      "Epoch 70/100\n",
      "3/3 [==============================] - 0s 14ms/step - loss: 3.3715 - val_loss: 2.3614\n",
      "Epoch 71/100\n",
      "3/3 [==============================] - 0s 16ms/step - loss: 3.0087 - val_loss: 2.6452\n",
      "Epoch 72/100\n",
      "3/3 [==============================] - 0s 13ms/step - loss: 2.9625 - val_loss: 2.6489\n",
      "Epoch 73/100\n",
      "3/3 [==============================] - 0s 12ms/step - loss: 3.0405 - val_loss: 2.6238\n",
      "Epoch 74/100\n",
      "3/3 [==============================] - 0s 14ms/step - loss: 2.7644 - val_loss: 2.8744\n",
      "Epoch 75/100\n",
      "3/3 [==============================] - 0s 15ms/step - loss: 3.2081 - val_loss: 2.4919\n",
      "Epoch 76/100\n",
      "3/3 [==============================] - 0s 13ms/step - loss: 3.1614 - val_loss: 2.6889\n",
      "Epoch 77/100\n",
      "3/3 [==============================] - 0s 17ms/step - loss: 3.0626 - val_loss: 3.1575\n",
      "Epoch 78/100\n",
      "3/3 [==============================] - 0s 17ms/step - loss: 3.1334 - val_loss: 3.1348\n",
      "Epoch 79/100\n",
      "3/3 [==============================] - 0s 15ms/step - loss: 3.1747 - val_loss: 2.4870\n",
      "Epoch 80/100\n"
     ]
    },
    {
     "name": "stdout",
     "output_type": "stream",
     "text": [
      "3/3 [==============================] - 0s 13ms/step - loss: 2.5868 - val_loss: 2.6235\n",
      "Epoch 81/100\n",
      "3/3 [==============================] - 0s 19ms/step - loss: 2.5938 - val_loss: 2.4393\n",
      "Epoch 82/100\n",
      "3/3 [==============================] - 0s 17ms/step - loss: 2.6184 - val_loss: 2.4283\n",
      "Epoch 83/100\n",
      "3/3 [==============================] - 0s 13ms/step - loss: 2.9186 - val_loss: 2.1702\n",
      "Epoch 84/100\n",
      "3/3 [==============================] - 0s 17ms/step - loss: 2.5574 - val_loss: 2.4010\n",
      "Epoch 85/100\n",
      "3/3 [==============================] - 0s 13ms/step - loss: 2.4988 - val_loss: 2.1990\n",
      "Epoch 86/100\n",
      "3/3 [==============================] - 0s 15ms/step - loss: 2.5896 - val_loss: 2.3919\n",
      "Epoch 87/100\n",
      "3/3 [==============================] - 0s 17ms/step - loss: 2.5387 - val_loss: 2.3833\n",
      "Epoch 88/100\n",
      "3/3 [==============================] - 0s 12ms/step - loss: 2.5350 - val_loss: 2.3002\n",
      "Epoch 89/100\n",
      "3/3 [==============================] - 0s 13ms/step - loss: 2.4479 - val_loss: 2.5764\n",
      "Epoch 90/100\n",
      "3/3 [==============================] - 0s 15ms/step - loss: 2.7693 - val_loss: 2.4540\n",
      "Epoch 91/100\n",
      "3/3 [==============================] - 0s 12ms/step - loss: 2.8487 - val_loss: 2.6128\n",
      "Epoch 92/100\n",
      "3/3 [==============================] - 0s 15ms/step - loss: 2.8285 - val_loss: 2.1699\n",
      "Epoch 93/100\n",
      "3/3 [==============================] - 0s 16ms/step - loss: 2.5917 - val_loss: 2.2163\n",
      "Epoch 94/100\n",
      "3/3 [==============================] - 0s 12ms/step - loss: 2.7376 - val_loss: 2.3976\n",
      "Epoch 95/100\n",
      "3/3 [==============================] - 0s 13ms/step - loss: 2.7923 - val_loss: 2.4165\n",
      "Epoch 96/100\n",
      "3/3 [==============================] - 0s 14ms/step - loss: 2.6849 - val_loss: 2.4603\n",
      "Epoch 97/100\n",
      "3/3 [==============================] - 0s 13ms/step - loss: 2.6683 - val_loss: 2.9829\n",
      "Epoch 98/100\n",
      "3/3 [==============================] - 0s 16ms/step - loss: 2.9566 - val_loss: 2.5193\n",
      "Epoch 99/100\n",
      "3/3 [==============================] - 0s 15ms/step - loss: 2.6202 - val_loss: 3.1214\n",
      "Epoch 100/100\n",
      "3/3 [==============================] - 0s 13ms/step - loss: 2.8567 - val_loss: 2.8743\n"
     ]
    }
   ],
   "source": [
    "history = model_biased.fit([X_train, sid_train], y_train, epochs=100,\n",
    "                    validation_data=([X_valid, sid_valid], y_valid))"
   ]
  },
  {
   "cell_type": "code",
   "execution_count": 83,
   "id": "ca149f05",
   "metadata": {
    "scrolled": false
   },
   "outputs": [
    {
     "name": "stdout",
     "output_type": "stream",
     "text": [
      "Saving figure grid_noBiaseNum_training_curve\n"
     ]
    },
    {
     "data": {
      "image/png": "[encoded data removed]",
      "text/plain": [
       "<Figure size 576x360 with 1 Axes>"
      ]
     },
     "metadata": {
      "needs_background": "light"
     },
     "output_type": "display_data"
    }
   ],
   "source": [
    "import pandas as pd\n",
    "\n",
    "pd.DataFrame(history.history).plot(figsize=(8, 5))\n",
    "plt.grid(True)\n",
    "# plt.gca().set_ylim(0, 1)\n",
    "save_fig(\"grid_noBiaseNum_training_curve\")\n",
    "plt.show()"
   ]
  },
  {
   "cell_type": "markdown",
   "id": "2433c7a5",
   "metadata": {},
   "source": [
    "The pure prediction"
   ]
  },
  {
   "cell_type": "code",
   "execution_count": 84,
   "id": "556ee2c4",
   "metadata": {},
   "outputs": [
    {
     "name": "stdout",
     "output_type": "stream",
     "text": [
      "X.shape = (None, 1)\n",
      "gauss_grid.shape = (None, 5)\n",
      "Saving figure grid_noBaisNum_prediction\n"
     ]
    },
    {
     "data": {
      "image/png": "[encoded data removed]",
      "text/plain": [
       "<Figure size 432x288 with 1 Axes>"
      ]
     },
     "metadata": {
      "needs_background": "light"
     },
     "output_type": "display_data"
    }
   ],
   "source": [
    "draw_points(X_train, y_train, sid_train)\n",
    "draw_func(model.predict, mark='r-', linewidth=2, label=\"Predictions\")\n",
    "draw_normal_func(func_dict)\n",
    "plt.xlabel(\"$x_1$\", fontsize=18)\n",
    "plt.ylabel(\"$y$\", rotation=0, fontsize=18)\n",
    "plt.legend(loc=\"upper left\", fontsize=14)\n",
    "# plt.axis([-3, 3, 0, 10])\n",
    "save_fig(\"grid_noBaisNum_prediction\")\n",
    "plt.show()"
   ]
  },
  {
   "cell_type": "code",
   "execution_count": 85,
   "id": "4d3d77cd",
   "metadata": {},
   "outputs": [
    {
     "name": "stdout",
     "output_type": "stream",
     "text": [
      "y_func.shape = (100, 1)\n",
      "y_gt.shape = (100, 1)\n"
     ]
    },
    {
     "data": {
      "text/plain": [
       "2.1457974979286916"
      ]
     },
     "execution_count": 85,
     "metadata": {},
     "output_type": "execute_result"
    }
   ],
   "source": [
    "get_prediction_error(model.predict, func_dict, name=\"grid-noBiasNum\")"
   ]
  },
  {
   "cell_type": "markdown",
   "id": "b89b2413",
   "metadata": {},
   "source": [
    "### Biased Prediction (according to SID)"
   ]
  },
  {
   "cell_type": "code",
   "execution_count": 86,
   "id": "0893f75e",
   "metadata": {},
   "outputs": [
    {
     "name": "stdout",
     "output_type": "stream",
     "text": [
      "scaled_bias = \n",
      "[[-12.466507]\n",
      " [ 12.120141]]\n",
      "\n",
      "mean_scaled_bias = \n",
      "[-0.34636593]\n"
     ]
    }
   ],
   "source": [
    "scaled_bias = model_biased.get_layer(\"bias_est\").get_scaled_biases_np()\n",
    "mean_scaled_bias = np.sum(scaled_bias, axis=0)\n",
    "#\n",
    "print(\"scaled_bias = \\n%s\" % str(scaled_bias))\n",
    "print(\"\\nmean_scaled_bias = \\n%s\" % str(mean_scaled_bias))"
   ]
  },
  {
   "cell_type": "code",
   "execution_count": 87,
   "id": "01a675f7",
   "metadata": {},
   "outputs": [
    {
     "name": "stdout",
     "output_type": "stream",
     "text": [
      "output_scales = \n",
      "[[1.1524261]\n",
      " [0.8456942]]\n",
      "\n",
      "mean_scales = \n",
      "[0.99906015]\n"
     ]
    }
   ],
   "source": [
    "try:\n",
    "    output_scales = model_biased.get_layer(\"bias_est\").get_weights_np()\n",
    "    mean_scales = np.mean(output_scales, axis=0)\n",
    "    #\n",
    "    print(\"output_scales = \\n%s\" % str(output_scales))\n",
    "    print(\"\\nmean_scales = \\n%s\" % str(mean_scales))\n",
    "except:\n",
    "    pass"
   ]
  },
  {
   "cell_type": "code",
   "execution_count": 88,
   "id": "16460e63",
   "metadata": {},
   "outputs": [
    {
     "name": "stdout",
     "output_type": "stream",
     "text": [
      "X.shape = (None, 1)\n",
      "gauss_grid.shape = (None, 5)\n",
      "X.shape = (None, 1)\n",
      "SID.shape = (None, 1)\n",
      "Saving figure grid_noBaisNum_perSubjectCurve\n"
     ]
    },
    {
     "data": {
      "image/png": "[encoded data removed]",
      "text/plain": [
       "<Figure size 432x288 with 1 Axes>"
      ]
     },
     "metadata": {
      "needs_background": "light"
     },
     "output_type": "display_data"
    }
   ],
   "source": [
    "def predict_with_biase_sid(X, sid=1):\n",
    "    return model_biased.predict([X, tf.fill( (X.shape[0],1), sid)])\n",
    "\n",
    "draw_points(X_train, y_train, sid_train)\n",
    "#\n",
    "draw_func(model.predict, mark='r-', linewidth=2, label=\"Predictions\")\n",
    "for _idx in range(num_subject):\n",
    "    _sid = _idx + 1\n",
    "    draw_func(lambda X: predict_with_biase_sid(X, _sid), mark='k--', linewidth=1, label=(\"sid=%d\" % _sid))\n",
    "#\n",
    "draw_normal_func(func_dict)\n",
    "plt.xlabel(\"$x_1$\", fontsize=18)\n",
    "plt.ylabel(\"$y$\", rotation=0, fontsize=18)\n",
    "plt.legend(loc=\"upper left\", fontsize=14)\n",
    "# plt.axis([-3, 3, 0, 10])\n",
    "save_fig(\"grid_noBaisNum_perSubjectCurve\")\n",
    "plt.show()"
   ]
  },
  {
   "cell_type": "code",
   "execution_count": null,
   "id": "88fbe2df",
   "metadata": {},
   "outputs": [],
   "source": []
  },
  {
   "cell_type": "markdown",
   "id": "40092303",
   "metadata": {},
   "source": [
    "# Combine Multi-Quantile Redgression with Per-Subject Transform Estimation (grid --> multi-quantile)"
   ]
  },
  {
   "cell_type": "code",
   "execution_count": 89,
   "id": "ba230fb2",
   "metadata": {},
   "outputs": [],
   "source": [
    "# quantile_list = [0.5]\n",
    "# quantile_list = [0.9]\n",
    "# quantile_list = [0.1, 0.9] # Use hidden layer with 30 neurons\n",
    "# quantile_list = [0.05, 0.95]\n",
    "# quantile_list = [0.25, 0.75]\n",
    "# quantile_list = [0.1, 0.5, 0.9]\n",
    "# quantile_list = [0.1, 0.3, 0.7, 0.9]\n",
    "# quantile_list = [0.1, 0.2, 0.3, 0.4, 0.6, 0.7, 0.8, 0.9] # remove 0.5\n",
    "quantile_list = [0.1, 0.2, 0.3, 0.4, 0.5, 0.6, 0.7, 0.8, 0.9] # Should use wider hidden layer (with many neurons) + L1 regularization\n",
    "num_quantile = len(quantile_list)"
   ]
  },
  {
   "cell_type": "code",
   "execution_count": 90,
   "id": "26d0136c",
   "metadata": {},
   "outputs": [],
   "source": [
    "# Number of subjects\n",
    "num_subject = multiout_type"
   ]
  },
  {
   "cell_type": "code",
   "execution_count": 91,
   "id": "7d1cdc96",
   "metadata": {},
   "outputs": [
    {
     "name": "stdout",
     "output_type": "stream",
     "text": [
      "X.shape = (None, 1)\n",
      "gauss_grid.shape = (None, 5)\n",
      "X.shape = (None, 9)\n",
      "SID.shape = (None, 1)\n"
     ]
    }
   ],
   "source": [
    "inputs = keras.layers.Input(shape=X_train.shape[1:])\n",
    "inputs_sid = keras.layers.Input(shape=(1,), dtype=tf.int32)\n",
    "#\n",
    "# z = inputs\n",
    "z = num2grid(5,x_min=-10, x_max=10, sigma=3.0)(inputs) # Convert to grid\n",
    "z = keras.layers.Dense(30, activation=\"relu\")(z)\n",
    "# z = keras.layers.Dense(30, activation=\"relu\")(z)\n",
    "# z = keras.layers.Dense(100, activation=\"relu\", kernel_regularizer=tf.keras.regularizers.l1(0.01))(z)\n",
    "# z = keras.layers.Dense(100, activation=\"relu\", kernel_regularizer=tf.keras.regularizers.l1(1.0))(z)\n",
    "output = keras.layers.Dense(num_quantile)(z)\n",
    "# output_biased = SubjectBias(num_subject, bias_scale=10.0, mean_reg_rate=1.0, name=\"bias_est\")([output, inputs_sid])\n",
    "output_biased = SubjectLinearTransform1D(num_subject, bias_scale=10.0, weight_mean_reg_rate=5.0, bias_mean_reg_rate=1.0, name=\"bias_est\")([output, inputs_sid])\n",
    "# Setup models\n",
    "model = keras.Model(inputs=[inputs], outputs=[output]) # pure\n",
    "model_biased = keras.Model(inputs=[inputs, inputs_sid], outputs=[output_biased]) # biased, for training"
   ]
  },
  {
   "cell_type": "code",
   "execution_count": 92,
   "id": "0769d3b2",
   "metadata": {},
   "outputs": [
    {
     "name": "stderr",
     "output_type": "stream",
     "text": [
      "/home/benson516/GazeDemo/gaze_env/lib/python3.8/site-packages/tensorflow/python/keras/optimizer_v2/optimizer_v2.py:374: UserWarning: The `lr` argument is deprecated, use `learning_rate` instead.\n",
      "  warnings.warn(\n"
     ]
    }
   ],
   "source": [
    "# optimizer = keras.optimizers.SGD(lr=0.1, momentum=0.9)\n",
    "optimizer = keras.optimizers.Adam(lr=0.1)\n",
    "model_biased.compile(loss=pinballLoss_full_fn, optimizer=optimizer)\n",
    "# model.compile(loss=pinballLoss_full_fn, optimizer=optimizer) # No need to compile this if it's not going to be trained."
   ]
  },
  {
   "cell_type": "code",
   "execution_count": 93,
   "id": "9a37c998",
   "metadata": {
    "scrolled": true
   },
   "outputs": [
    {
     "name": "stdout",
     "output_type": "stream",
     "text": [
      "Epoch 1/100\n",
      "X.shape = (None, 1)\n",
      "gauss_grid.shape = (None, 5)\n",
      "X.shape = (None, 9)\n",
      "SID.shape = (None, 1)\n",
      "X.shape = (None, 1)\n",
      "gauss_grid.shape = (None, 5)\n",
      "X.shape = (None, 9)\n",
      "SID.shape = (None, 1)\n",
      "1/3 [=========>....................] - ETA: 1s - loss: 187.8972X.shape = (None, 1)\n",
      "gauss_grid.shape = (None, 5)\n",
      "X.shape = (None, 9)\n",
      "SID.shape = (None, 1)\n",
      "3/3 [==============================] - 1s 69ms/step - loss: 188.0757 - val_loss: 147.6826\n",
      "Epoch 2/100\n",
      "3/3 [==============================] - 0s 7ms/step - loss: 177.1046 - val_loss: 133.2820\n",
      "Epoch 3/100\n",
      "3/3 [==============================] - 0s 15ms/step - loss: 155.2983 - val_loss: 111.8758\n",
      "Epoch 4/100\n",
      "3/3 [==============================] - 0s 21ms/step - loss: 124.4590 - val_loss: 84.0085\n",
      "Epoch 5/100\n",
      "3/3 [==============================] - 0s 12ms/step - loss: 91.6456 - val_loss: 62.4706\n",
      "Epoch 6/100\n",
      "3/3 [==============================] - 0s 17ms/step - loss: 70.7771 - val_loss: 53.4426\n",
      "Epoch 7/100\n",
      "3/3 [==============================] - 0s 13ms/step - loss: 62.6004 - val_loss: 48.1657\n",
      "Epoch 8/100\n",
      "3/3 [==============================] - 0s 11ms/step - loss: 54.5688 - val_loss: 38.9001\n",
      "Epoch 9/100\n",
      "3/3 [==============================] - 0s 17ms/step - loss: 48.5028 - val_loss: 36.4610\n",
      "Epoch 10/100\n",
      "3/3 [==============================] - 0s 14ms/step - loss: 45.7654 - val_loss: 34.4988\n",
      "Epoch 11/100\n",
      "3/3 [==============================] - 0s 19ms/step - loss: 42.3467 - val_loss: 30.4943\n",
      "Epoch 12/100\n",
      "3/3 [==============================] - 0s 13ms/step - loss: 41.1061 - val_loss: 27.6520\n",
      "Epoch 13/100\n",
      "3/3 [==============================] - 0s 17ms/step - loss: 36.8795 - val_loss: 27.6344\n",
      "Epoch 14/100\n",
      "3/3 [==============================] - 0s 11ms/step - loss: 35.8182 - val_loss: 24.8539\n",
      "Epoch 15/100\n",
      "3/3 [==============================] - 0s 16ms/step - loss: 35.9468 - val_loss: 23.5640\n",
      "Epoch 16/100\n",
      "3/3 [==============================] - 0s 18ms/step - loss: 32.6814 - val_loss: 28.1395\n",
      "Epoch 17/100\n",
      "3/3 [==============================] - 0s 20ms/step - loss: 31.9012 - val_loss: 23.1883\n",
      "Epoch 18/100\n",
      "3/3 [==============================] - 0s 12ms/step - loss: 28.5607 - val_loss: 21.8029\n",
      "Epoch 19/100\n",
      "3/3 [==============================] - 0s 16ms/step - loss: 27.7322 - val_loss: 21.8848\n",
      "Epoch 20/100\n",
      "3/3 [==============================] - 0s 15ms/step - loss: 26.4666 - val_loss: 22.7264\n",
      "Epoch 21/100\n",
      "3/3 [==============================] - 0s 14ms/step - loss: 25.0362 - val_loss: 20.5775\n",
      "Epoch 22/100\n",
      "3/3 [==============================] - 0s 18ms/step - loss: 24.7613 - val_loss: 20.9400\n",
      "Epoch 23/100\n",
      "3/3 [==============================] - 0s 17ms/step - loss: 22.9287 - val_loss: 18.9131\n",
      "Epoch 24/100\n",
      "3/3 [==============================] - 0s 14ms/step - loss: 21.8736 - val_loss: 19.1086\n",
      "Epoch 25/100\n",
      "3/3 [==============================] - 0s 13ms/step - loss: 21.7827 - val_loss: 18.9077\n",
      "Epoch 26/100\n",
      "3/3 [==============================] - 0s 17ms/step - loss: 20.6311 - val_loss: 18.4160\n",
      "Epoch 27/100\n",
      "3/3 [==============================] - 0s 13ms/step - loss: 20.5070 - val_loss: 21.5329\n",
      "Epoch 28/100\n",
      "3/3 [==============================] - 0s 17ms/step - loss: 17.9279 - val_loss: 18.4430\n",
      "Epoch 29/100\n",
      "3/3 [==============================] - 0s 14ms/step - loss: 20.2762 - val_loss: 18.6767\n",
      "Epoch 30/100\n",
      "3/3 [==============================] - 0s 16ms/step - loss: 18.2351 - val_loss: 16.0419\n",
      "Epoch 31/100\n",
      "3/3 [==============================] - 0s 15ms/step - loss: 16.8946 - val_loss: 15.5940\n",
      "Epoch 32/100\n",
      "3/3 [==============================] - 0s 13ms/step - loss: 15.5846 - val_loss: 15.5376\n",
      "Epoch 33/100\n",
      "3/3 [==============================] - 0s 17ms/step - loss: 15.0583 - val_loss: 15.1175\n",
      "Epoch 34/100\n",
      "3/3 [==============================] - 0s 15ms/step - loss: 14.0399 - val_loss: 17.0407\n",
      "Epoch 35/100\n",
      "3/3 [==============================] - 0s 12ms/step - loss: 15.8295 - val_loss: 15.3356\n",
      "Epoch 36/100\n",
      "3/3 [==============================] - 0s 16ms/step - loss: 15.5389 - val_loss: 13.3110\n",
      "Epoch 37/100\n",
      "3/3 [==============================] - 0s 16ms/step - loss: 13.3898 - val_loss: 14.6413\n",
      "Epoch 38/100\n",
      "3/3 [==============================] - 0s 14ms/step - loss: 13.8616 - val_loss: 14.2796\n",
      "Epoch 39/100\n",
      "3/3 [==============================] - 0s 18ms/step - loss: 14.6217 - val_loss: 15.3836\n",
      "Epoch 40/100\n",
      "3/3 [==============================] - 0s 15ms/step - loss: 15.2577 - val_loss: 12.6179\n",
      "Epoch 41/100\n",
      "3/3 [==============================] - 0s 18ms/step - loss: 11.7772 - val_loss: 11.5136\n",
      "Epoch 42/100\n",
      "3/3 [==============================] - 0s 15ms/step - loss: 12.1192 - val_loss: 11.4581\n",
      "Epoch 43/100\n",
      "3/3 [==============================] - 0s 18ms/step - loss: 11.9803 - val_loss: 11.3247\n",
      "Epoch 44/100\n",
      "3/3 [==============================] - 0s 16ms/step - loss: 11.2297 - val_loss: 10.9793\n",
      "Epoch 45/100\n",
      "3/3 [==============================] - 0s 16ms/step - loss: 10.7978 - val_loss: 10.8650\n",
      "Epoch 46/100\n",
      "3/3 [==============================] - 0s 14ms/step - loss: 11.2347 - val_loss: 10.4916\n",
      "Epoch 47/100\n",
      "3/3 [==============================] - 0s 13ms/step - loss: 11.2130 - val_loss: 11.3827\n",
      "Epoch 48/100\n",
      "3/3 [==============================] - 0s 17ms/step - loss: 11.9643 - val_loss: 10.4087\n",
      "Epoch 49/100\n",
      "3/3 [==============================] - 0s 12ms/step - loss: 10.7560 - val_loss: 11.8445\n",
      "Epoch 50/100\n",
      "3/3 [==============================] - 0s 17ms/step - loss: 11.1848 - val_loss: 12.1157\n",
      "Epoch 51/100\n",
      "3/3 [==============================] - 0s 14ms/step - loss: 12.2239 - val_loss: 11.8668\n",
      "Epoch 52/100\n",
      "3/3 [==============================] - 0s 13ms/step - loss: 11.7551 - val_loss: 11.9138\n",
      "Epoch 53/100\n",
      "3/3 [==============================] - 0s 16ms/step - loss: 13.5675 - val_loss: 10.4224\n",
      "Epoch 54/100\n",
      "3/3 [==============================] - 0s 16ms/step - loss: 11.1746 - val_loss: 10.8219\n",
      "Epoch 55/100\n",
      "3/3 [==============================] - 0s 13ms/step - loss: 11.2355 - val_loss: 10.7278\n",
      "Epoch 56/100\n",
      "3/3 [==============================] - 0s 16ms/step - loss: 11.3096 - val_loss: 11.2109\n",
      "Epoch 57/100\n",
      "3/3 [==============================] - 0s 14ms/step - loss: 11.9317 - val_loss: 10.5669\n",
      "Epoch 58/100\n",
      "3/3 [==============================] - 0s 12ms/step - loss: 11.5362 - val_loss: 9.8736\n",
      "Epoch 59/100\n",
      "3/3 [==============================] - 0s 14ms/step - loss: 10.5043 - val_loss: 12.7528\n",
      "Epoch 60/100\n",
      "3/3 [==============================] - 0s 17ms/step - loss: 12.1351 - val_loss: 10.1594\n",
      "Epoch 61/100\n",
      "3/3 [==============================] - 0s 13ms/step - loss: 12.7782 - val_loss: 9.8644\n",
      "Epoch 62/100\n",
      "3/3 [==============================] - 0s 14ms/step - loss: 12.1579 - val_loss: 11.0610\n",
      "Epoch 63/100\n",
      "3/3 [==============================] - 0s 16ms/step - loss: 12.1999 - val_loss: 10.0278\n",
      "Epoch 64/100\n",
      "3/3 [==============================] - 0s 13ms/step - loss: 10.6311 - val_loss: 9.9887\n",
      "Epoch 65/100\n",
      "3/3 [==============================] - 0s 18ms/step - loss: 10.6948 - val_loss: 10.9303\n",
      "Epoch 66/100\n",
      "3/3 [==============================] - 0s 13ms/step - loss: 12.0426 - val_loss: 9.6788\n",
      "Epoch 67/100\n",
      "3/3 [==============================] - 0s 14ms/step - loss: 10.2151 - val_loss: 9.8657\n",
      "Epoch 68/100\n",
      "3/3 [==============================] - 0s 19ms/step - loss: 9.9185 - val_loss: 9.2496\n",
      "Epoch 69/100\n",
      "3/3 [==============================] - 0s 15ms/step - loss: 10.0637 - val_loss: 9.0305\n",
      "Epoch 70/100\n",
      "3/3 [==============================] - 0s 17ms/step - loss: 10.0059 - val_loss: 10.0569\n",
      "Epoch 71/100\n",
      "3/3 [==============================] - 0s 18ms/step - loss: 10.9680 - val_loss: 14.3290\n",
      "Epoch 72/100\n",
      "3/3 [==============================] - 0s 23ms/step - loss: 12.3156 - val_loss: 13.2569\n",
      "Epoch 73/100\n",
      "3/3 [==============================] - 0s 18ms/step - loss: 14.6811 - val_loss: 10.4977\n",
      "Epoch 74/100\n",
      "3/3 [==============================] - 0s 19ms/step - loss: 11.6011 - val_loss: 10.2079\n",
      "Epoch 75/100\n",
      "3/3 [==============================] - 0s 10ms/step - loss: 12.7296 - val_loss: 10.1260\n",
      "Epoch 76/100\n",
      "3/3 [==============================] - 0s 13ms/step - loss: 11.3724 - val_loss: 9.9596\n",
      "Epoch 77/100\n",
      "3/3 [==============================] - 0s 14ms/step - loss: 10.5969 - val_loss: 9.3771\n",
      "Epoch 78/100\n",
      "3/3 [==============================] - 0s 14ms/step - loss: 10.5840 - val_loss: 9.2476\n"
     ]
    },
    {
     "name": "stdout",
     "output_type": "stream",
     "text": [
      "Epoch 79/100\n",
      "3/3 [==============================] - 0s 13ms/step - loss: 9.6431 - val_loss: 9.5888\n",
      "Epoch 80/100\n",
      "3/3 [==============================] - 0s 13ms/step - loss: 10.1684 - val_loss: 9.8817\n",
      "Epoch 81/100\n",
      "3/3 [==============================] - 0s 16ms/step - loss: 10.6121 - val_loss: 9.6336\n",
      "Epoch 82/100\n",
      "3/3 [==============================] - 0s 13ms/step - loss: 9.9925 - val_loss: 9.3111\n",
      "Epoch 83/100\n",
      "3/3 [==============================] - 0s 18ms/step - loss: 10.1639 - val_loss: 8.8735\n",
      "Epoch 84/100\n",
      "3/3 [==============================] - 0s 15ms/step - loss: 9.7657 - val_loss: 8.5718\n",
      "Epoch 85/100\n",
      "3/3 [==============================] - 0s 15ms/step - loss: 9.4310 - val_loss: 9.0111\n",
      "Epoch 86/100\n",
      "3/3 [==============================] - 0s 15ms/step - loss: 10.3914 - val_loss: 9.6755\n",
      "Epoch 87/100\n",
      "3/3 [==============================] - 0s 17ms/step - loss: 10.2716 - val_loss: 9.3044\n",
      "Epoch 88/100\n",
      "3/3 [==============================] - 0s 16ms/step - loss: 11.1812 - val_loss: 9.0676\n",
      "Epoch 89/100\n",
      "3/3 [==============================] - 0s 13ms/step - loss: 10.0048 - val_loss: 10.2238\n",
      "Epoch 90/100\n",
      "3/3 [==============================] - 0s 16ms/step - loss: 9.9917 - val_loss: 8.7703\n",
      "Epoch 91/100\n",
      "3/3 [==============================] - 0s 12ms/step - loss: 9.4725 - val_loss: 9.2574\n",
      "Epoch 92/100\n",
      "3/3 [==============================] - 0s 14ms/step - loss: 9.6535 - val_loss: 9.1992\n",
      "Epoch 93/100\n",
      "3/3 [==============================] - 0s 14ms/step - loss: 9.5558 - val_loss: 10.4840\n",
      "Epoch 94/100\n",
      "3/3 [==============================] - 0s 14ms/step - loss: 10.5903 - val_loss: 9.7016\n",
      "Epoch 95/100\n",
      "3/3 [==============================] - 0s 17ms/step - loss: 10.5281 - val_loss: 8.8861\n",
      "Epoch 96/100\n",
      "3/3 [==============================] - 0s 14ms/step - loss: 10.1105 - val_loss: 8.5933\n",
      "Epoch 97/100\n",
      "3/3 [==============================] - 0s 12ms/step - loss: 9.8679 - val_loss: 8.9478\n",
      "Epoch 98/100\n",
      "3/3 [==============================] - 0s 19ms/step - loss: 9.8276 - val_loss: 8.8003\n",
      "Epoch 99/100\n",
      "3/3 [==============================] - 0s 14ms/step - loss: 9.7476 - val_loss: 9.6367\n",
      "Epoch 100/100\n",
      "3/3 [==============================] - 0s 14ms/step - loss: 10.6594 - val_loss: 9.4431\n"
     ]
    }
   ],
   "source": [
    "history = model_biased.fit([X_train, sid_train], y_train, epochs=100,\n",
    "                    validation_data=([X_valid, sid_valid], y_valid))"
   ]
  },
  {
   "cell_type": "code",
   "execution_count": 94,
   "id": "66d04b69",
   "metadata": {},
   "outputs": [
    {
     "name": "stdout",
     "output_type": "stream",
     "text": [
      "Saving figure grid_NoBiasQuantile_training_curve\n"
     ]
    },
    {
     "data": {
      "image/png": "[encoded data removed]",
      "text/plain": [
       "<Figure size 576x360 with 1 Axes>"
      ]
     },
     "metadata": {
      "needs_background": "light"
     },
     "output_type": "display_data"
    }
   ],
   "source": [
    "import pandas as pd\n",
    "\n",
    "pd.DataFrame(history.history).plot(figsize=(8, 5))\n",
    "plt.grid(True)\n",
    "# plt.gca().set_ylim(0, 1)\n",
    "save_fig(\"grid_NoBiasQuantile_training_curve\")\n",
    "plt.show()"
   ]
  },
  {
   "cell_type": "markdown",
   "id": "9e1f1c9b",
   "metadata": {},
   "source": [
    "### Draw the \"pure\" mean prediction curve averaged from all quantile predictions."
   ]
  },
  {
   "cell_type": "code",
   "execution_count": 95,
   "id": "2f62afb2",
   "metadata": {},
   "outputs": [
    {
     "name": "stdout",
     "output_type": "stream",
     "text": [
      "X.shape = (None, 1)\n",
      "gauss_grid.shape = (None, 5)\n",
      "Saving figure grid_noBiaseQuantile_prediction\n"
     ]
    },
    {
     "data": {
      "image/png": "[encoded data removed]",
      "text/plain": [
       "<Figure size 432x288 with 1 Axes>"
      ]
     },
     "metadata": {
      "needs_background": "light"
     },
     "output_type": "display_data"
    }
   ],
   "source": [
    "# plt.plot(X_train, y_train, \"b.\")\n",
    "draw_points(X_train, y_train, sid_train)\n",
    "draw_func((lambda X: np.average(model.predict(X), axis=-1) ), mark='r-', linewidth=2, label=\"Predictions\")\n",
    "draw_normal_func(func_dict)\n",
    "plt.xlabel(\"$x_1$\", fontsize=18)\n",
    "plt.ylabel(\"$y$\", rotation=0, fontsize=18)\n",
    "plt.legend(loc=\"upper left\", fontsize=14)\n",
    "# plt.axis([-3, 3, 0, 10])\n",
    "save_fig(\"grid_noBiaseQuantile_prediction\")\n",
    "plt.show()"
   ]
  },
  {
   "cell_type": "code",
   "execution_count": 96,
   "id": "4ffc0f23",
   "metadata": {},
   "outputs": [
    {
     "name": "stdout",
     "output_type": "stream",
     "text": [
      "y_func.shape = (100, 1)\n",
      "y_gt.shape = (100, 1)\n"
     ]
    },
    {
     "data": {
      "text/plain": [
       "0.6860749569748392"
      ]
     },
     "execution_count": 96,
     "metadata": {},
     "output_type": "execute_result"
    }
   ],
   "source": [
    "get_prediction_error((lambda X: np.average(model.predict(X), axis=-1) ), func_dict, name=\"grid-noBiaseQuantileR\")"
   ]
  },
  {
   "cell_type": "markdown",
   "id": "a213fbdb",
   "metadata": {},
   "source": [
    "### Draw all \"pure\" quantile prediction"
   ]
  },
  {
   "cell_type": "code",
   "execution_count": 97,
   "id": "ff824ca7",
   "metadata": {},
   "outputs": [
    {
     "name": "stdout",
     "output_type": "stream",
     "text": [
      "Saving figure grid_quantile_all_quantiles\n"
     ]
    },
    {
     "data": {
      "image/png": "[encoded data removed]",
      "text/plain": [
       "<Figure size 432x288 with 1 Axes>"
      ]
     },
     "metadata": {
      "needs_background": "light"
     },
     "output_type": "display_data"
    }
   ],
   "source": [
    "# plt.plot(X_train, y_train, \"b.\")\n",
    "draw_points(X_train, y_train, sid_train)\n",
    "draw_func((lambda X: np.average(model.predict(X), axis=-1) ), mark='r-', linewidth=2, label=\"Predictions\")\n",
    "for _idx, _tau in enumerate(quantile_list):\n",
    "    draw_func((lambda X: model.predict(X)[:,_idx] ), mark='k--', linewidth=1, label=\"$y_{%d}$\" % (_tau*100))\n",
    "draw_normal_func(func_dict)\n",
    "plt.xlabel(\"$x_1$\", fontsize=18)\n",
    "plt.ylabel(\"$y$\", rotation=0, fontsize=18)\n",
    "plt.legend(loc=\"upper left\", fontsize=14)\n",
    "# plt.axis([-3, 3, 0, 10])\n",
    "save_fig(\"grid_quantile_all_quantiles\")\n",
    "plt.show()"
   ]
  },
  {
   "cell_type": "markdown",
   "id": "11c7ec73",
   "metadata": {},
   "source": [
    "### Estimated Biases and Scales (according to SID)"
   ]
  },
  {
   "cell_type": "code",
   "execution_count": 98,
   "id": "9a79c04b",
   "metadata": {},
   "outputs": [
    {
     "name": "stdout",
     "output_type": "stream",
     "text": [
      "scaled_bias = \n",
      "[[-11.23323   -11.172621  -12.005865  -11.963187  -12.02552   -12.536381\n",
      "  -12.411075  -13.170652  -14.138156 ]\n",
      " [ 11.179422   11.308025   11.720649   11.792551   11.904154   12.6086445\n",
      "   12.5857115  13.705544   13.98539  ]]\n",
      "\n",
      "mean_scaled_bias = \n",
      "[-0.05380726  0.13540459 -0.28521633 -0.17063618 -0.1213665   0.07226372\n",
      "  0.17463684  0.5348921  -0.15276623]\n"
     ]
    }
   ],
   "source": [
    "scaled_bias = model_biased.get_layer(\"bias_est\").get_scaled_biases_np()\n",
    "mean_scaled_bias = np.sum(scaled_bias, axis=0)\n",
    "#\n",
    "print(\"scaled_bias = \\n%s\" % str(scaled_bias))\n",
    "print(\"\\nmean_scaled_bias = \\n%s\" % str(mean_scaled_bias))"
   ]
  },
  {
   "cell_type": "code",
   "execution_count": 99,
   "id": "ef5bb592",
   "metadata": {},
   "outputs": [
    {
     "name": "stdout",
     "output_type": "stream",
     "text": [
      "output_scales = \n",
      "[[1.1258785  1.1133821  1.1262001  1.1270953  1.1457853  1.1979971\n",
      "  1.1467294  1.1497396  1.1289303 ]\n",
      " [0.849448   0.876295   0.8558876  0.8949221  0.85310173 0.87943095\n",
      "  0.8848664  0.89109683 0.840185  ]]\n",
      "\n",
      "mean_scales = \n",
      "[0.98766327 0.99483854 0.9910438  1.0110087  0.99944353 1.038714\n",
      " 1.0157979  1.0204182  0.9845576 ]\n"
     ]
    }
   ],
   "source": [
    "try:\n",
    "    output_scales = model_biased.get_layer(\"bias_est\").get_weights_np()\n",
    "    mean_scales = np.mean(output_scales, axis=0)\n",
    "    #\n",
    "    print(\"output_scales = \\n%s\" % str(output_scales))\n",
    "    print(\"\\nmean_scales = \\n%s\" % str(mean_scales))\n",
    "except:\n",
    "    pass"
   ]
  },
  {
   "cell_type": "markdown",
   "id": "c493d1c8",
   "metadata": {},
   "source": [
    "### Plotting of mean quantiles for each subject"
   ]
  },
  {
   "cell_type": "code",
   "execution_count": 100,
   "id": "3c2bd240",
   "metadata": {},
   "outputs": [
    {
     "name": "stdout",
     "output_type": "stream",
     "text": [
      "X.shape = (None, 1)\n",
      "gauss_grid.shape = (None, 5)\n",
      "X.shape = (None, 9)\n",
      "SID.shape = (None, 1)\n",
      "Saving figure grid_noBaisNum_perSubjectCurve\n"
     ]
    },
    {
     "data": {
      "image/png": "[encoded data removed]",
      "text/plain": [
       "<Figure size 432x288 with 1 Axes>"
      ]
     },
     "metadata": {
      "needs_background": "light"
     },
     "output_type": "display_data"
    }
   ],
   "source": [
    "def predict_with_biase_sid(X, sid=1):\n",
    "    return np.average( model_biased.predict([X, tf.fill( (X.shape[0],1), sid)]), axis=1)\n",
    "\n",
    "draw_points(X_train, y_train, sid_train)\n",
    "#\n",
    "draw_func((lambda X: np.average(model.predict(X), axis=-1) ), mark='r-', linewidth=2, label=\"Predictions\")\n",
    "for _idx in range(num_subject):\n",
    "    _sid = _idx + 1\n",
    "    draw_func(lambda X: predict_with_biase_sid(X, _sid), mark='k--', linewidth=1, label=(\"sid=%d\" % _sid))\n",
    "#\n",
    "draw_normal_func(func_dict)\n",
    "plt.xlabel(\"$x_1$\", fontsize=18)\n",
    "plt.ylabel(\"$y$\", rotation=0, fontsize=18)\n",
    "plt.legend(loc=\"upper left\", fontsize=14)\n",
    "# plt.axis([-3, 3, 0, 10])\n",
    "save_fig(\"grid_noBaisNum_perSubjectCurve\")\n",
    "plt.show()"
   ]
  },
  {
   "cell_type": "markdown",
   "id": "6f1b070e",
   "metadata": {},
   "source": [
    "# Train with GAN"
   ]
  },
  {
   "cell_type": "code",
   "execution_count": 101,
   "id": "00b87d5e",
   "metadata": {},
   "outputs": [],
   "source": [
    "# model = keras.models.Sequential([\n",
    "#     num2grid(5,x_min=-10, x_max=10, sigma=3.0, input_shape=X_train.shape[1:]),\n",
    "#     keras.layers.Dense(30, activation=\"relu\"),\n",
    "# #     keras.layers.Dense(100, activation=\"relu\", kernel_regularizer=tf.keras.regularizers.l1(0.01)),\n",
    "# #     keras.layers.Dense(30, activation=keras.layers.LeakyReLU(alpha=0.2) ),\n",
    "# #     keras.layers.Dense(30, activation=\"selu\"),\n",
    "# #     keras.layers.Dense(30, activation=\"relu\"),\n",
    "#     keras.layers.Dense(1)\n",
    "# ])"
   ]
  },
  {
   "cell_type": "code",
   "execution_count": 102,
   "id": "198862ab",
   "metadata": {},
   "outputs": [],
   "source": [
    "# '''\n",
    "#   x   ----generator----> (x,y) \n",
    "# (x,y) --discriminator--> Real/Fake\n",
    "# '''\n",
    "# x_size = 1\n",
    "# y_size = 1\n",
    "\n",
    "# # x --> (x,y)\n",
    "# inputs = keras.layers.Input(shape=(x_size,))\n",
    "# output = model(inputs)\n",
    "# output_cat = tf.concat([inputs, output], 1)\n",
    "# generator = keras.Model(inputs=[inputs], outputs=[output_cat])\n",
    "# # (x,y) --> Real/Fake\n",
    "# discriminator = keras.models.Sequential([\n",
    "#     keras.layers.Dense(30, activation=\"selu\", input_shape=((x_size+y_size),)),\n",
    "#     keras.layers.Dense(30, activation=\"selu\"),\n",
    "#     keras.layers.Dense(1, activation=\"sigmoid\")\n",
    "# ])\n",
    "# gan = keras.models.Sequential([generator, discriminator])"
   ]
  },
  {
   "cell_type": "code",
   "execution_count": 103,
   "id": "f9f64c02",
   "metadata": {},
   "outputs": [],
   "source": [
    "# # Compile the models\n",
    "# #---------------------------------#\n",
    "# optimizer = keras.optimizers.Adam(lr=0.1)\n",
    "# # Discriminator\n",
    "# # discriminator.compile(loss=\"binary_crossentropy\", optimizer=\"rmsprop\")\n",
    "# discriminator.compile(loss=\"binary_crossentropy\", optimizer=optimizer)\n",
    "# # GAN model\n",
    "# discriminator.trainable = False\n",
    "# # gan.compile(loss=\"binary_crossentropy\", optimizer=\"rmsprop\")\n",
    "# gan.compile(loss=\"binary_crossentropy\", optimizer=optimizer)"
   ]
  },
  {
   "cell_type": "code",
   "execution_count": 104,
   "id": "9bf9b4a2",
   "metadata": {},
   "outputs": [],
   "source": [
    "# # dataset\n",
    "# batch_size = 32\n",
    "# dataset = tf.data.Dataset.from_tensor_slices( tf.cast(tf.concat([X_train, y_train], axis=1), tf.float32) ).shuffle(1000)\n",
    "# dataset = dataset.batch(batch_size, drop_remainder=True).prefetch(1)"
   ]
  },
  {
   "cell_type": "code",
   "execution_count": 105,
   "id": "7b061d90",
   "metadata": {},
   "outputs": [],
   "source": [
    "# # Custom training loop\n",
    "# def train_gan(gan, dataset, batch_size, x_size, n_epochs=100):\n",
    "#     generator, discriminator = gan.layers\n",
    "#     for epoch in range(n_epochs):\n",
    "#         print(\"--- epoch #%d\" % epoch)\n",
    "#         for XY_batch in dataset:\n",
    "#             # phase 1 - training the discriminator\n",
    "#             noise = tf.random.normal(shape=[batch_size, x_size])\n",
    "#             generated_XY = generator(noise)\n",
    "#             X_fake_and_real = tf.concat([generated_XY, XY_batch], axis=0)\n",
    "#             y1 = tf.constant([[0.]] * batch_size + [[1.]] * batch_size)\n",
    "#             discriminator.trainable = True\n",
    "#             discriminator.train_on_batch(X_fake_and_real, y1)\n",
    "#             # phase 2 - training the generator\n",
    "#             noise = tf.random.normal(shape=[batch_size, x_size])\n",
    "#             y2 = tf.constant([[1.]] * batch_size)\n",
    "#             discriminator.trainable = False\n",
    "#             gan.train_on_batch(noise, y2)"
   ]
  },
  {
   "cell_type": "code",
   "execution_count": 106,
   "id": "79ac8ef1",
   "metadata": {},
   "outputs": [],
   "source": [
    "# train_gan(gan, dataset, batch_size, x_size, n_epochs=100)"
   ]
  },
  {
   "cell_type": "code",
   "execution_count": 107,
   "id": "7a4ef5e9",
   "metadata": {},
   "outputs": [],
   "source": [
    "# # plt.plot(X_train, y_train, \"b.\")\n",
    "# draw_points(X_train, y_train, sid_train)\n",
    "# draw_func((lambda X: np.average(model.predict(X), axis=-1) ), mark='r-', linewidth=2, label=\"Predictions\")\n",
    "# draw_normal_func(func_dict)\n",
    "# plt.xlabel(\"$x_1$\", fontsize=18)\n",
    "# plt.ylabel(\"$y$\", rotation=0, fontsize=18)\n",
    "# plt.legend(loc=\"upper left\", fontsize=14)\n",
    "# # plt.axis([-3, 3, 0, 10])\n",
    "# save_fig(\"GAN\")\n",
    "# plt.show()"
   ]
  },
  {
   "cell_type": "markdown",
   "id": "82ec4fc4",
   "metadata": {},
   "source": [
    "# Summary"
   ]
  },
  {
   "cell_type": "code",
   "execution_count": 108,
   "id": "2d764d70",
   "metadata": {},
   "outputs": [
    {
     "name": "stdout",
     "output_type": "stream",
     "text": [
      "num-num: 6.211413\n",
      "grid-num: 4.553105\n",
      "grid-rbc: 4.412925\n",
      "grid-quantileR: 2.801517\n",
      "grid-oneGaussian: 5.997738\n",
      "grid-noBiasNum: 2.145797\n",
      "grid-noBiaseQuantileR: 0.686075\n",
      "\n"
     ]
    }
   ],
   "source": [
    "results = print_all_prediction_error()"
   ]
  },
  {
   "cell_type": "code",
   "execution_count": 109,
   "id": "9f01e530",
   "metadata": {},
   "outputs": [
    {
     "name": "stdout",
     "output_type": "stream",
     "text": [
      "Saving all prediction errors to [./images/regression_test_2/prediction_errors.txt].\n"
     ]
    },
    {
     "data": {
      "text/plain": [
       "True"
      ]
     },
     "execution_count": 109,
     "metadata": {},
     "output_type": "execute_result"
    }
   ],
   "source": [
    "save_prediction_errors()"
   ]
  },
  {
   "cell_type": "code",
   "execution_count": null,
   "id": "0c3bdf42",
   "metadata": {},
   "outputs": [],
   "source": []
  },
  {
   "cell_type": "code",
   "execution_count": null,
   "id": "a5e6a55a",
   "metadata": {},
   "outputs": [],
   "source": []
  },
  {
   "cell_type": "code",
   "execution_count": null,
   "id": "1838a588",
   "metadata": {},
   "outputs": [],
   "source": []
  },
  {
   "cell_type": "code",
   "execution_count": null,
   "id": "2f94dffa",
   "metadata": {},
   "outputs": [],
   "source": []
  }
 ],
 "metadata": {
  "kernelspec": {
   "display_name": "Python 3 (ipykernel)",
   "language": "python",
   "name": "python3"
  },
  "language_info": {
   "codemirror_mode": {
    "name": "ipython",
    "version": 3
   },
   "file_extension": ".py",
   "mimetype": "text/x-python",
   "name": "python",
   "nbconvert_exporter": "python",
   "pygments_lexer": "ipython3",
   "version": "3.8.10"
  }
 },
 "nbformat": 4,
 "nbformat_minor": 5
}
