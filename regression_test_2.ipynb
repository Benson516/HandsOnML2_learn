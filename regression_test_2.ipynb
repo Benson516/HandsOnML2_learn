{
 "cells": [
  {
   "cell_type": "markdown",
   "id": "899fa113",
   "metadata": {},
   "source": [
    "# Regression with Different Output Format under Various Data Conditions\n",
    "\n",
    "In this experience, we test the following output format for regression task under several different data coditions.\n",
    "- Numerical output\n",
    "- Regression as classification (grid-out)\n",
    "\n",
    "The data coditions include:\n",
    "- Sparse (few data)\n",
    "- Grouped\n",
    "  - Biased (parallel data)\n",
    "  - Completely different mode, uncorrelated data (cross)\n",
    "  - Partially diversed (split)"
   ]
  },
  {
   "cell_type": "code",
   "execution_count": 1,
   "id": "625ce7c3",
   "metadata": {},
   "outputs": [],
   "source": [
    "import numpy as np\n",
    "import tensorflow as tf\n",
    "from tensorflow import keras\n",
    "import os\n",
    "\n",
    "# To plot pretty figures\n",
    "%matplotlib inline\n",
    "import matplotlib as mpl\n",
    "import matplotlib.pyplot as plt\n",
    "mpl.rc('axes', labelsize=14)\n",
    "mpl.rc('xtick', labelsize=12)\n",
    "mpl.rc('ytick', labelsize=12)"
   ]
  },
  {
   "cell_type": "code",
   "execution_count": 2,
   "id": "7ad564ad",
   "metadata": {},
   "outputs": [],
   "source": [
    "# Where to save the figures\n",
    "PROJECT_ROOT_DIR = \".\"\n",
    "CHAPTER_ID = \"regression_test_2\"\n",
    "IMAGES_PATH = os.path.join(PROJECT_ROOT_DIR, \"images\", CHAPTER_ID)\n",
    "os.makedirs(IMAGES_PATH, exist_ok=True)\n",
    "\n",
    "def save_fig(fig_id, tight_layout=True, fig_extension=\"png\", resolution=300):\n",
    "    path = os.path.join(IMAGES_PATH, fig_id + \".\" + fig_extension)\n",
    "    print(\"Saving figure\", fig_id)\n",
    "    if tight_layout:\n",
    "        plt.tight_layout()\n",
    "    plt.savefig(path, format=fig_extension, dpi=resolution)"
   ]
  },
  {
   "cell_type": "code",
   "execution_count": 3,
   "id": "94e8a077",
   "metadata": {},
   "outputs": [],
   "source": [
    "def draw_func(func_in, x_min=-5, x_max=5, mark='r--', linewidth=1, label='func'):\n",
    "    n_sample = 100\n",
    "    X_func = np.linspace(x_min, x_max, n_sample).reshape(n_sample, 1)\n",
    "    y_func = func_in(X_func)\n",
    "    plt.plot(X_func, y_func, mark, linewidth=linewidth, label=label)"
   ]
  },
  {
   "cell_type": "markdown",
   "id": "c27ffe35",
   "metadata": {},
   "source": [
    "Generate polynomial data"
   ]
  },
  {
   "cell_type": "code",
   "execution_count": 4,
   "id": "ce670ce4",
   "metadata": {},
   "outputs": [],
   "source": [
    "poly_a1 = 5.0\n",
    "# poly_a1 = -10.0 # 5.0\n",
    "#\n",
    "sin_a = 0.0\n",
    "# sin_a = 10.0\n",
    "sin_f = 0.1 # 0.2\n",
    "#\n",
    "def func_0(X): # Reference\n",
    "    return 0.5 * X**3 + 0.5 * X**2 + (poly_a1)*X + 2 + sin_a*np.sin(2.0*np.pi*sin_f*X)\n",
    "def func_1(X): # Variation 1: parellel\n",
    "    return 0.5 * X**3 + 0.5 * X**2 + (poly_a1)*X + 30 + sin_a*np.sin(2.0*np.pi*sin_f*X)\n",
    "def func_2(X): # Variation 2: cross\n",
    "    return -0.5 * X**3 + 0.5 * X**2 + (poly_a1)*X + 30 + sin_a*np.sin(2.0*np.pi*sin_f*X)\n",
    "def func_3(X): # Variation 3: slightly split\n",
    "    return 0.3 * X**3 + 1.0 * X**2 + (poly_a1)*X + 15 + sin_a*np.sin(2.0*np.pi*sin_f*X)\n",
    "def func_4(X): # Sine wave~\n",
    "    return 0.5 * X**3 + 0.5 * X**2 + (poly_a1)*X + 2 + 20.0*np.sin(2.0*np.pi*sin_f*X) # 50.0"
   ]
  },
  {
   "cell_type": "code",
   "execution_count": 5,
   "id": "9463bfff",
   "metadata": {},
   "outputs": [],
   "source": [
    "func_dict = dict()\n",
    "#-----------------#\n",
    "func_dict[\"f1\"] = func_0\n",
    "#-----------------#\n",
    "# func_dict[\"f2\"] = func_1\n",
    "# func_dict[\"f2\"] = func_2\n",
    "func_dict[\"f2\"] = func_3\n",
    "# func_dict[\"f2\"] = func_4\n",
    "#-----------------#\n",
    "func_dict[\"f3\"] = func_4\n",
    "#-----------------#\n",
    "\n",
    "# Note: func_dict[\"f_avg\"] depends on multiout_type and is calculated in each section of multiout_type"
   ]
  },
  {
   "cell_type": "code",
   "execution_count": 6,
   "id": "63437d0c",
   "metadata": {},
   "outputs": [
    {
     "name": "stdout",
     "output_type": "stream",
     "text": [
      "(m, m_train) = (100, 80)\n",
      "y_data_pure.shape = (100, 1)\n",
      "y_data.shape = (100, 1)\n"
     ]
    }
   ],
   "source": [
    "np.random.seed(42)\n",
    "m = 100 # 50 # 100 # 200\n",
    "m_train = m // 5 * 4\n",
    "print(\"(m, m_train) = (%d, %d)\" % (m, m_train))\n",
    "\n",
    "# Input\n",
    "is_gapped = True\n",
    "# is_gapped = False\n",
    "#\n",
    "if not is_gapped:\n",
    "    X_data = 10 * np.random.rand(m, 1) - 5 # Note: X is randomly sampled, so we don't need to shuffle the data again\n",
    "else:\n",
    "    X_data = np.concatenate( (np.linspace(-5.0, -2.0, m//2), np.linspace(2.0, 5.0, m-m//2)) )\n",
    "    X_data = X_data.reshape((m,1))\n",
    "    np.random.shuffle(X_data)\n",
    "\n",
    "# Output, multiout_type in {1, 2, 3}\n",
    "# multiout_type = 1      \n",
    "multiout_type = 2 \n",
    "# multiout_type = 3 \n",
    "if multiout_type == 2:\n",
    "    m_h = m // 2\n",
    "    X_data_1 = X_data[:m_h]\n",
    "    X_data_2 = X_data[m_h:]\n",
    "    y_data_pure_1 = func_dict[\"f1\"](X_data_1) \n",
    "    y_data_pure_2 = func_dict[\"f2\"](X_data_2) \n",
    "    y_data_pure = np.vstack([y_data_pure_1, y_data_pure_2])\n",
    "    print(\"y_data_pure.shape = %s\" % str(y_data_pure.shape))\n",
    "    # Average line\n",
    "    func_dict[\"f_avg\"] = ( lambda X: 0.5*func_dict[\"f1\"](X) + 0.5*func_dict[\"f2\"](X) )\n",
    "    #\n",
    "elif multiout_type == 3: # with \"avg\" line\n",
    "    m_t = m // 3\n",
    "    X_data_1 = X_data[:m_t]\n",
    "    X_data_2 = X_data[m_t:(2*m_t)]\n",
    "    X_data_3 = X_data[(2*m_t):]\n",
    "    y_data_pure_1 = func_dict[\"f1\"](X_data_1) \n",
    "    y_data_pure_2 = func_dict[\"f2\"](X_data_2) \n",
    "    y_data_pure_3 = func_dict[\"f3\"](X_data_3) \n",
    "    y_data_pure = np.vstack([y_data_pure_1, y_data_pure_2, y_data_pure_3])\n",
    "    print(\"y_data_pure.shape = %s\" % str(y_data_pure.shape))\n",
    "    # Average line\n",
    "    func_dict[\"f_avg\"] = ( lambda X: (func_dict[\"f1\"](X) + func_dict[\"f2\"](X) + func_dict[\"f3\"](X))/3.0 )\n",
    "    #\n",
    "else: # multiout_type == 1\n",
    "    # Average line\n",
    "    func_dict[\"f_avg\"] = ( lambda X: 0.5*func_dict[\"f1\"](X) + 0.5*func_dict[\"f2\"](X) )\n",
    "    y_data_pure = func_dict[\"f_avg\"](X_data)\n",
    "\n",
    "    \n",
    "# Label (+noise)\n",
    "n_stddev = 2.0\n",
    "# n_stddev = 10.0\n",
    "y_data = y_data_pure + np.random.randn(m, 1) * n_stddev\n",
    "print(\"y_data.shape = %s\" % str(y_data.shape))"
   ]
  },
  {
   "cell_type": "code",
   "execution_count": 7,
   "id": "ef588fae",
   "metadata": {},
   "outputs": [],
   "source": [
    "# Method 1: simply slice\n",
    "# X_train = X_data[:m_train]\n",
    "# y_train = y_data[:m_train]\n",
    "# X_valid = X_data[m_train:]\n",
    "# y_valid = y_data[m_train:]\n",
    "\n",
    "# Method 2: shuffle\n",
    "from sklearn.model_selection import train_test_split\n",
    "X_train, X_valid, y_train, y_valid = train_test_split(X_data, y_data, test_size=0.2, random_state=42)"
   ]
  },
  {
   "cell_type": "code",
   "execution_count": 8,
   "id": "3b5d2cfe",
   "metadata": {},
   "outputs": [
    {
     "name": "stdout",
     "output_type": "stream",
     "text": [
      "(80, 1)\n"
     ]
    }
   ],
   "source": [
    "print(X_train.shape)"
   ]
  },
  {
   "cell_type": "code",
   "execution_count": 9,
   "id": "9bd2136c",
   "metadata": {},
   "outputs": [],
   "source": [
    "def draw_normal_func(func_dict):\n",
    "    if multiout_type != 1:\n",
    "        draw_func(func_dict[\"f1\"], mark='c:', label=\"f1\")\n",
    "        draw_func(func_dict[\"f2\"], mark='g:', label=\"f2\")\n",
    "    if multiout_type == 3:\n",
    "        draw_func(func_dict[\"f3\"], mark='y:', label=\"f3\")\n",
    "    draw_func(func_dict[\"f_avg\"], mark='m--', label=\"f_avg\")"
   ]
  },
  {
   "cell_type": "code",
   "execution_count": 10,
   "id": "693af3b7",
   "metadata": {},
   "outputs": [
    {
     "name": "stdout",
     "output_type": "stream",
     "text": [
      "Saving figure training_data\n"
     ]
    },
    {
     "data": {
      "image/png": "[encoded data removed]",
      "text/plain": [
       "<Figure size 432x288 with 1 Axes>"
      ]
     },
     "metadata": {
      "needs_background": "light"
     },
     "output_type": "display_data"
    }
   ],
   "source": [
    "plt.plot(X_train, y_train, \"b.\")\n",
    "draw_normal_func(func_dict)\n",
    "plt.xlabel(\"$x_1$\", fontsize=18)\n",
    "plt.ylabel(\"$y$\", rotation=0, fontsize=18)\n",
    "plt.legend(loc=\"upper left\", fontsize=14)\n",
    "# plt.axis([-3, 3, 0, 10])\n",
    "save_fig(\"training_data\")\n",
    "plt.show()"
   ]
  },
  {
   "cell_type": "code",
   "execution_count": 11,
   "id": "a6853ff1",
   "metadata": {},
   "outputs": [],
   "source": [
    "prediction_error_dict = dict()\n",
    "\n",
    "def get_prediction_error(func_in, func_dict, name=\"\", x_min=-5, x_max=5, prediction_error_dict=prediction_error_dict):\n",
    "    n_sample = 100\n",
    "    X_func = np.linspace(x_min, x_max, n_sample).reshape(n_sample, 1)\n",
    "    y_func = func_in(X_func).reshape((n_sample,1))\n",
    "    y_gt = func_dict[\"f_avg\"](X_func).reshape((n_sample,1))\n",
    "    print(\"y_func.shape = %s\" % str(y_func.shape))\n",
    "    print(\"y_gt.shape = %s\" % str(y_gt.shape))\n",
    "#     total_error = np.sqrt(np.square(y_func - y_gt).mean())\n",
    "    total_error = np.abs(y_func - y_gt).mean()\n",
    "    prediction_error_dict[name] = total_error\n",
    "    return total_error\n",
    "\n",
    "def print_all_prediction_error(is_logging_to_screen=True, prediction_error_dict=prediction_error_dict):\n",
    "    _s = \"\"\n",
    "    for _n in prediction_error_dict:\n",
    "        _s += (\"%s: %f\" % (_n, prediction_error_dict[_n])) + \"\\n\"\n",
    "    if is_logging_to_screen:\n",
    "        print(_s)\n",
    "    return _s\n",
    "        \n",
    "def save_prediction_errors(is_logging_to_screen=False, prediction_error_dict=prediction_error_dict):\n",
    "    path = os.path.join(IMAGES_PATH, \"prediction_errors.txt\")\n",
    "    print(\"Saving all prediction errors to [%s].\" % path)\n",
    "    _s = print_all_prediction_error(is_logging_to_screen=is_logging_to_screen, prediction_error_dict=prediction_error_dict)\n",
    "    with open(path, \"w\") as _f:\n",
    "        _f.write(_s)\n",
    "    return True"
   ]
  },
  {
   "cell_type": "markdown",
   "id": "053ecc57",
   "metadata": {},
   "source": [
    "# Simple FCs (number --> number)"
   ]
  },
  {
   "cell_type": "markdown",
   "id": "c66eb67b",
   "metadata": {},
   "source": [
    "Build the regression model"
   ]
  },
  {
   "cell_type": "code",
   "execution_count": 12,
   "id": "9449fc0b",
   "metadata": {},
   "outputs": [
    {
     "name": "stderr",
     "output_type": "stream",
     "text": [
      "C:\\Users\\benso\\anaconda3\\envs\\ml\\lib\\site-packages\\keras\\optimizer_v2\\gradient_descent.py:102: UserWarning: The `lr` argument is deprecated, use `learning_rate` instead.\n",
      "  super(SGD, self).__init__(name, **kwargs)\n"
     ]
    }
   ],
   "source": [
    "model = keras.models.Sequential([\n",
    "    keras.layers.Dense(30, activation=\"relu\", input_shape=X_train.shape[1:]),\n",
    "    keras.layers.Dense(30, activation=\"relu\"),\n",
    "    keras.layers.Dense(1)\n",
    "])\n",
    "\n",
    "optimizer = keras.optimizers.SGD(lr=0.0001, momentum=0.9)\n",
    "model.compile(loss=\"mean_squared_error\", optimizer=optimizer)\n",
    "# optimizer = keras.optimizers.Adam(lr=0.01)\n",
    "# model.compile(loss=\"mean_absolute_error\", optimizer=optimizer)"
   ]
  },
  {
   "cell_type": "code",
   "execution_count": 13,
   "id": "92afd68a",
   "metadata": {
    "scrolled": true
   },
   "outputs": [
    {
     "name": "stdout",
     "output_type": "stream",
     "text": [
      "Epoch 1/100\n",
      "3/3 [==============================] - 1s 99ms/step - loss: 2507.3081 - val_loss: 1708.8529\n",
      "Epoch 2/100\n",
      "3/3 [==============================] - 0s 19ms/step - loss: 2449.6917 - val_loss: 1647.8398\n",
      "Epoch 3/100\n",
      "3/3 [==============================] - 0s 26ms/step - loss: 2352.0815 - val_loss: 1551.1898\n",
      "Epoch 4/100\n",
      "3/3 [==============================] - 0s 34ms/step - loss: 2178.7847 - val_loss: 1354.1702\n",
      "Epoch 5/100\n",
      "3/3 [==============================] - 0s 36ms/step - loss: 1787.4446 - val_loss: 901.3063\n",
      "Epoch 6/100\n",
      "3/3 [==============================] - 0s 28ms/step - loss: 906.0529 - val_loss: 363.5572\n",
      "Epoch 7/100\n",
      "3/3 [==============================] - 0s 34ms/step - loss: 490.0430 - val_loss: 659.8012\n",
      "Epoch 8/100\n",
      "3/3 [==============================] - 0s 29ms/step - loss: 613.5101 - val_loss: 181.8701\n",
      "Epoch 9/100\n",
      "3/3 [==============================] - 0s 24ms/step - loss: 342.3111 - val_loss: 330.8617\n",
      "Epoch 10/100\n",
      "3/3 [==============================] - 0s 26ms/step - loss: 539.5006 - val_loss: 270.3133\n",
      "Epoch 11/100\n",
      "3/3 [==============================] - 0s 32ms/step - loss: 293.6240 - val_loss: 180.3013\n",
      "Epoch 12/100\n",
      "3/3 [==============================] - 0s 38ms/step - loss: 291.0848 - val_loss: 335.5385\n",
      "Epoch 13/100\n",
      "3/3 [==============================] - 0s 36ms/step - loss: 343.8484 - val_loss: 208.8590\n",
      "Epoch 14/100\n",
      "3/3 [==============================] - 0s 18ms/step - loss: 231.8118 - val_loss: 246.0085\n",
      "Epoch 15/100\n",
      "3/3 [==============================] - 0s 23ms/step - loss: 317.4417 - val_loss: 197.0336\n",
      "Epoch 16/100\n",
      "3/3 [==============================] - 0s 18ms/step - loss: 235.2870 - val_loss: 183.8242\n",
      "Epoch 17/100\n",
      "3/3 [==============================] - 0s 16ms/step - loss: 247.5131 - val_loss: 199.3668\n",
      "Epoch 18/100\n",
      "3/3 [==============================] - 0s 22ms/step - loss: 223.0113 - val_loss: 173.2999\n",
      "Epoch 19/100\n",
      "3/3 [==============================] - 0s 14ms/step - loss: 209.2466 - val_loss: 198.0688\n",
      "Epoch 20/100\n",
      "3/3 [==============================] - 0s 22ms/step - loss: 222.4906 - val_loss: 193.9912\n",
      "Epoch 21/100\n",
      "3/3 [==============================] - 0s 13ms/step - loss: 206.4881 - val_loss: 197.9090\n",
      "Epoch 22/100\n",
      "3/3 [==============================] - 0s 23ms/step - loss: 210.6226 - val_loss: 175.8596\n",
      "Epoch 23/100\n",
      "3/3 [==============================] - 0s 17ms/step - loss: 191.7629 - val_loss: 162.3260\n",
      "Epoch 24/100\n",
      "3/3 [==============================] - 0s 17ms/step - loss: 202.2641 - val_loss: 164.4085\n",
      "Epoch 25/100\n",
      "3/3 [==============================] - 0s 17ms/step - loss: 205.3824 - val_loss: 161.3274\n",
      "Epoch 26/100\n",
      "3/3 [==============================] - 0s 23ms/step - loss: 199.3753 - val_loss: 175.2237\n",
      "Epoch 27/100\n",
      "3/3 [==============================] - 0s 18ms/step - loss: 195.5835 - val_loss: 177.0770\n",
      "Epoch 28/100\n",
      "3/3 [==============================] - 0s 16ms/step - loss: 194.6851 - val_loss: 174.5691\n",
      "Epoch 29/100\n",
      "3/3 [==============================] - 0s 21ms/step - loss: 190.7292 - val_loss: 173.1500\n",
      "Epoch 30/100\n",
      "3/3 [==============================] - 0s 13ms/step - loss: 188.4212 - val_loss: 167.1190\n",
      "Epoch 31/100\n",
      "3/3 [==============================] - 0s 22ms/step - loss: 188.4403 - val_loss: 163.6933\n",
      "Epoch 32/100\n",
      "3/3 [==============================] - 0s 23ms/step - loss: 187.8699 - val_loss: 162.2142\n",
      "Epoch 33/100\n",
      "3/3 [==============================] - 0s 14ms/step - loss: 187.1595 - val_loss: 164.6459\n",
      "Epoch 34/100\n",
      "3/3 [==============================] - 0s 18ms/step - loss: 187.1784 - val_loss: 166.8985\n",
      "Epoch 35/100\n",
      "3/3 [==============================] - 0s 21ms/step - loss: 187.6436 - val_loss: 170.3460\n",
      "Epoch 36/100\n",
      "3/3 [==============================] - 0s 17ms/step - loss: 190.0038 - val_loss: 163.2068\n",
      "Epoch 37/100\n",
      "3/3 [==============================] - 0s 18ms/step - loss: 192.9759 - val_loss: 161.1479\n",
      "Epoch 38/100\n",
      "3/3 [==============================] - 0s 22ms/step - loss: 189.5651 - val_loss: 161.3051\n",
      "Epoch 39/100\n",
      "3/3 [==============================] - 0s 18ms/step - loss: 186.1975 - val_loss: 166.3216\n",
      "Epoch 40/100\n",
      "3/3 [==============================] - 0s 17ms/step - loss: 181.7740 - val_loss: 168.5101\n",
      "Epoch 41/100\n",
      "3/3 [==============================] - 0s 22ms/step - loss: 185.8169 - val_loss: 167.9152\n",
      "Epoch 42/100\n",
      "3/3 [==============================] - 0s 13ms/step - loss: 180.1252 - val_loss: 161.2152\n",
      "Epoch 43/100\n",
      "3/3 [==============================] - 0s 21ms/step - loss: 180.1944 - val_loss: 160.2899\n",
      "Epoch 44/100\n",
      "3/3 [==============================] - 0s 16ms/step - loss: 188.6512 - val_loss: 156.5226\n",
      "Epoch 45/100\n",
      "3/3 [==============================] - 0s 17ms/step - loss: 186.7428 - val_loss: 152.8383\n",
      "Epoch 46/100\n",
      "3/3 [==============================] - 0s 23ms/step - loss: 185.7896 - val_loss: 153.8374\n",
      "Epoch 47/100\n",
      "3/3 [==============================] - 0s 16ms/step - loss: 180.8966 - val_loss: 160.0777\n",
      "Epoch 48/100\n",
      "3/3 [==============================] - 0s 17ms/step - loss: 176.9981 - val_loss: 162.6663\n",
      "Epoch 49/100\n",
      "3/3 [==============================] - 0s 21ms/step - loss: 176.4742 - val_loss: 165.9342\n",
      "Epoch 50/100\n",
      "3/3 [==============================] - 0s 17ms/step - loss: 179.0643 - val_loss: 161.7768\n",
      "Epoch 51/100\n",
      "3/3 [==============================] - 0s 17ms/step - loss: 174.2206 - val_loss: 152.2337\n",
      "Epoch 52/100\n",
      "3/3 [==============================] - 0s 18ms/step - loss: 179.6809 - val_loss: 150.3934\n",
      "Epoch 53/100\n",
      "3/3 [==============================] - 0s 20ms/step - loss: 179.6196 - val_loss: 156.1455\n",
      "Epoch 54/100\n",
      "3/3 [==============================] - 0s 17ms/step - loss: 175.5507 - val_loss: 160.6515\n",
      "Epoch 55/100\n",
      "3/3 [==============================] - 0s 22ms/step - loss: 176.4403 - val_loss: 163.7839\n",
      "Epoch 56/100\n",
      "3/3 [==============================] - 0s 18ms/step - loss: 174.1202 - val_loss: 160.5919\n",
      "Epoch 57/100\n",
      "3/3 [==============================] - 0s 13ms/step - loss: 173.4602 - val_loss: 159.4183\n",
      "Epoch 58/100\n",
      "3/3 [==============================] - 0s 23ms/step - loss: 171.9504 - val_loss: 157.3145\n",
      "Epoch 59/100\n",
      "3/3 [==============================] - 0s 14ms/step - loss: 170.9030 - val_loss: 149.2822\n",
      "Epoch 60/100\n",
      "3/3 [==============================] - 0s 17ms/step - loss: 181.0791 - val_loss: 145.5118\n",
      "Epoch 61/100\n",
      "3/3 [==============================] - 0s 22ms/step - loss: 177.6755 - val_loss: 155.9699\n",
      "Epoch 62/100\n",
      "3/3 [==============================] - 0s 19ms/step - loss: 170.0899 - val_loss: 166.3260\n",
      "Epoch 63/100\n",
      "3/3 [==============================] - 0s 18ms/step - loss: 171.7744 - val_loss: 162.4027\n",
      "Epoch 64/100\n",
      "3/3 [==============================] - 0s 21ms/step - loss: 171.4311 - val_loss: 156.0772\n",
      "Epoch 65/100\n",
      "3/3 [==============================] - 0s 20ms/step - loss: 169.9658 - val_loss: 156.8583\n",
      "Epoch 66/100\n",
      "3/3 [==============================] - 0s 20ms/step - loss: 168.4606 - val_loss: 152.3000\n",
      "Epoch 67/100\n",
      "3/3 [==============================] - 0s 23ms/step - loss: 167.1052 - val_loss: 150.7660\n",
      "Epoch 68/100\n",
      "3/3 [==============================] - 0s 17ms/step - loss: 167.0853 - val_loss: 150.8953\n",
      "Epoch 69/100\n",
      "3/3 [==============================] - 0s 17ms/step - loss: 168.2950 - val_loss: 152.4556\n",
      "Epoch 70/100\n",
      "3/3 [==============================] - 0s 18ms/step - loss: 165.1922 - val_loss: 149.6593\n",
      "Epoch 71/100\n",
      "3/3 [==============================] - 0s 20ms/step - loss: 167.9567 - val_loss: 147.3726\n",
      "Epoch 72/100\n",
      "3/3 [==============================] - 0s 21ms/step - loss: 165.2841 - val_loss: 146.9705\n",
      "Epoch 73/100\n",
      "3/3 [==============================] - 0s 23ms/step - loss: 170.5904 - val_loss: 141.7832\n",
      "Epoch 74/100\n",
      "3/3 [==============================] - 0s 17ms/step - loss: 167.6834 - val_loss: 140.5733\n",
      "Epoch 75/100\n",
      "3/3 [==============================] - 0s 18ms/step - loss: 164.0557 - val_loss: 147.1424\n",
      "Epoch 76/100\n",
      "3/3 [==============================] - 0s 18ms/step - loss: 162.7604 - val_loss: 161.9278\n",
      "Epoch 77/100\n",
      "3/3 [==============================] - 0s 20ms/step - loss: 166.0793 - val_loss: 165.8554\n",
      "Epoch 78/100\n",
      "3/3 [==============================] - 0s 17ms/step - loss: 167.2142 - val_loss: 164.8524\n",
      "Epoch 79/100\n",
      "3/3 [==============================] - 0s 17ms/step - loss: 164.0338 - val_loss: 146.1158\n",
      "Epoch 80/100\n"
     ]
    },
    {
     "name": "stdout",
     "output_type": "stream",
     "text": [
      "3/3 [==============================] - 0s 16ms/step - loss: 159.0457 - val_loss: 137.9922\n",
      "Epoch 81/100\n",
      "3/3 [==============================] - 0s 17ms/step - loss: 163.1567 - val_loss: 136.7507\n",
      "Epoch 82/100\n",
      "3/3 [==============================] - 0s 20ms/step - loss: 166.7840 - val_loss: 137.2765\n",
      "Epoch 83/100\n",
      "3/3 [==============================] - 0s 17ms/step - loss: 164.1604 - val_loss: 143.4881\n",
      "Epoch 84/100\n",
      "3/3 [==============================] - 0s 20ms/step - loss: 159.7080 - val_loss: 146.3888\n",
      "Epoch 85/100\n",
      "3/3 [==============================] - 0s 21ms/step - loss: 159.3070 - val_loss: 152.4737\n",
      "Epoch 86/100\n",
      "3/3 [==============================] - 0s 16ms/step - loss: 160.3112 - val_loss: 152.2865\n",
      "Epoch 87/100\n",
      "3/3 [==============================] - 0s 21ms/step - loss: 158.3098 - val_loss: 141.3040\n",
      "Epoch 88/100\n",
      "3/3 [==============================] - 0s 14ms/step - loss: 159.0811 - val_loss: 132.4577\n",
      "Epoch 89/100\n",
      "3/3 [==============================] - 0s 20ms/step - loss: 159.8349 - val_loss: 133.8330\n",
      "Epoch 90/100\n",
      "3/3 [==============================] - 0s 22ms/step - loss: 160.8598 - val_loss: 137.6012\n",
      "Epoch 91/100\n",
      "3/3 [==============================] - 0s 18ms/step - loss: 159.3305 - val_loss: 142.7964\n",
      "Epoch 92/100\n",
      "3/3 [==============================] - 0s 16ms/step - loss: 157.3836 - val_loss: 144.8918\n",
      "Epoch 93/100\n",
      "3/3 [==============================] - 0s 21ms/step - loss: 157.5814 - val_loss: 148.2157\n",
      "Epoch 94/100\n",
      "3/3 [==============================] - 0s 17ms/step - loss: 157.7284 - val_loss: 141.9166\n",
      "Epoch 95/100\n",
      "3/3 [==============================] - 0s 16ms/step - loss: 155.9650 - val_loss: 130.1321\n",
      "Epoch 96/100\n",
      "3/3 [==============================] - 0s 22ms/step - loss: 162.3427 - val_loss: 127.4046\n",
      "Epoch 97/100\n",
      "3/3 [==============================] - 0s 18ms/step - loss: 158.5282 - val_loss: 135.7208\n",
      "Epoch 98/100\n",
      "3/3 [==============================] - 0s 17ms/step - loss: 156.5619 - val_loss: 145.4345\n",
      "Epoch 99/100\n",
      "3/3 [==============================] - 0s 23ms/step - loss: 156.1862 - val_loss: 144.3642\n",
      "Epoch 100/100\n",
      "3/3 [==============================] - 0s 19ms/step - loss: 156.3508 - val_loss: 139.0210\n"
     ]
    }
   ],
   "source": [
    "history = model.fit(X_train, y_train, epochs=100,\n",
    "                    validation_data=(X_valid, y_valid))"
   ]
  },
  {
   "cell_type": "markdown",
   "id": "17d6e37a",
   "metadata": {},
   "source": [
    "Plot the result"
   ]
  },
  {
   "cell_type": "code",
   "execution_count": 14,
   "id": "3b066f5c",
   "metadata": {},
   "outputs": [
    {
     "name": "stdout",
     "output_type": "stream",
     "text": [
      "Saving figure num_num_training_curve\n"
     ]
    },
    {
     "data": {
      "image/png": "[encoded data removed]",
      "text/plain": [
       "<Figure size 576x360 with 1 Axes>"
      ]
     },
     "metadata": {
      "needs_background": "light"
     },
     "output_type": "display_data"
    }
   ],
   "source": [
    "import pandas as pd\n",
    "\n",
    "pd.DataFrame(history.history).plot(figsize=(8, 5))\n",
    "plt.grid(True)\n",
    "# plt.gca().set_ylim(0, 1)\n",
    "save_fig(\"num_num_training_curve\")\n",
    "plt.show()"
   ]
  },
  {
   "cell_type": "code",
   "execution_count": 15,
   "id": "03f9bb54",
   "metadata": {},
   "outputs": [
    {
     "name": "stdout",
     "output_type": "stream",
     "text": [
      "Saving figure num_num_prediction\n"
     ]
    },
    {
     "data": {
      "image/png": "[encoded data removed]",
      "text/plain": [
       "<Figure size 432x288 with 1 Axes>"
      ]
     },
     "metadata": {
      "needs_background": "light"
     },
     "output_type": "display_data"
    }
   ],
   "source": [
    "# X_new = np.linspace(-5, 5, 100).reshape(100, 1)\n",
    "# y_new = model.predict(X_new)\n",
    "#\n",
    "plt.plot(X_train, y_train, \"b.\")\n",
    "# plt.plot(X_new, y_new, \"r-\", linewidth=2, label=\"Predictions\")\n",
    "draw_func(model.predict, mark='r-', linewidth=2, label=\"Predictions\")\n",
    "draw_normal_func(func_dict)\n",
    "plt.xlabel(\"$x_1$\", fontsize=18)\n",
    "plt.ylabel(\"$y$\", rotation=0, fontsize=18)\n",
    "plt.legend(loc=\"upper left\", fontsize=14)\n",
    "# plt.axis([-3, 3, 0, 10])\n",
    "save_fig(\"num_num_prediction\")\n",
    "plt.show()"
   ]
  },
  {
   "cell_type": "code",
   "execution_count": 16,
   "id": "bc06d931",
   "metadata": {},
   "outputs": [
    {
     "name": "stdout",
     "output_type": "stream",
     "text": [
      "y_func.shape = (100, 1)\n",
      "y_gt.shape = (100, 1)\n"
     ]
    },
    {
     "data": {
      "text/plain": [
       "5.393838472294629"
      ]
     },
     "execution_count": 16,
     "metadata": {},
     "output_type": "execute_result"
    }
   ],
   "source": [
    "get_prediction_error(model.predict, func_dict, name=\"num-num\")"
   ]
  },
  {
   "cell_type": "markdown",
   "id": "58da8768",
   "metadata": {},
   "source": [
    "# Simulated CNN Feature Map (1-D grids, grid --> number)"
   ]
  },
  {
   "cell_type": "code",
   "execution_count": 17,
   "id": "287b5e4c",
   "metadata": {},
   "outputs": [],
   "source": [
    "class num2grid(keras.layers.Layer):\n",
    "    def __init__(self, units, x_min=-10, x_max=10, sigma=1.0, activation=None, **kwargs):\n",
    "        super().__init__(**kwargs)\n",
    "        self.units = units\n",
    "        self.x_min = x_min\n",
    "        self.x_max = x_max\n",
    "        self.sigma = sigma\n",
    "        self.sigma2 = self.sigma**2\n",
    "        self.activation = keras.activations.get(activation)\n",
    "        \n",
    "    def build(self, batch_input_shape):\n",
    "        #\n",
    "        self.x_grid = np.linspace(self.x_min, self.x_max, self.units, endpoint=True)\n",
    "#         print(\"self.x_grid.shape = %s\" % str(self.x_grid.shape))\n",
    "        #\n",
    "        super().build(batch_input_shape) # must be at the end\n",
    "        \n",
    "    def call(self, X):\n",
    "        '''\n",
    "        Input shape:  (batch, X_chanel)\n",
    "        Output shape: (batch, grid_unit) \n",
    "        \n",
    "        self.x_grid shape: (grid_unit,)\n",
    "        '''\n",
    "        gauss_grid = tf.exp( -(self.x_grid - X)**2 / (2.0*self.sigma2) )\n",
    "        print(\"X.shape = %s\" % str(X.shape))\n",
    "        print(\"gauss_grid.shape = %s\" % str(gauss_grid.shape))\n",
    "        return self.activation(gauss_grid)\n",
    "    \n",
    "    def compute_output_shape(self, batch_input_shape):\n",
    "        return tf.TensorShape(batch_input_shape.as_list()[:-1] + [self.units])\n",
    "    \n",
    "    def get_config(self):\n",
    "        base_config = super().get_config()\n",
    "        return {**base_config, \n",
    "                \"units\": self.units,\n",
    "                \"x_min\": self.x_min,\n",
    "                \"x_max\": self.x_max,\n",
    "                \"sigma\": self.sigma,\n",
    "                \"activation\": keras.activations.serialize(self.activation)}"
   ]
  },
  {
   "cell_type": "code",
   "execution_count": 18,
   "id": "f463c12a",
   "metadata": {},
   "outputs": [
    {
     "name": "stdout",
     "output_type": "stream",
     "text": [
      "X.shape = (None, 1)\n",
      "gauss_grid.shape = (None, 5)\n"
     ]
    },
    {
     "name": "stderr",
     "output_type": "stream",
     "text": [
      "C:\\Users\\benso\\anaconda3\\envs\\ml\\lib\\site-packages\\keras\\optimizer_v2\\adam.py:105: UserWarning: The `lr` argument is deprecated, use `learning_rate` instead.\n",
      "  super(Adam, self).__init__(name, **kwargs)\n"
     ]
    }
   ],
   "source": [
    "model = keras.models.Sequential([\n",
    "    num2grid(5,x_min=-10, x_max=10, sigma=3.0, input_shape=X_train.shape[1:]),\n",
    "    keras.layers.Dense(30, activation=\"relu\"),\n",
    "#     keras.layers.Dense(100, activation=\"relu\", kernel_regularizer=tf.keras.regularizers.l1(0.01)),\n",
    "#     keras.layers.Dense(30, activation=keras.layers.LeakyReLU(alpha=0.2) ),\n",
    "#     keras.layers.Dense(30, activation=\"selu\"),\n",
    "#     keras.layers.Dense(30, activation=\"relu\"),\n",
    "    keras.layers.Dense(1)\n",
    "])\n",
    "\n",
    "# optimizer = keras.optimizers.SGD(lr=0.001, momentum=0.9)\n",
    "# model.compile(loss=\"mean_squared_error\", optimizer=optimizer)\n",
    "optimizer = keras.optimizers.Adam(lr=0.1)\n",
    "model.compile(loss=\"mean_absolute_error\", optimizer=optimizer)"
   ]
  },
  {
   "cell_type": "code",
   "execution_count": 19,
   "id": "c966ada4",
   "metadata": {
    "scrolled": true
   },
   "outputs": [
    {
     "name": "stdout",
     "output_type": "stream",
     "text": [
      "Epoch 1/100\n",
      "X.shape = (None, 1)\n",
      "gauss_grid.shape = (None, 5)\n",
      "X.shape = (None, 1)\n",
      "gauss_grid.shape = (None, 5)\n",
      "1/3 [=========>....................] - ETA: 0s - loss: 40.9966X.shape = (None, 1)\n",
      "gauss_grid.shape = (None, 5)\n",
      "3/3 [==============================] - 1s 79ms/step - loss: 41.4462 - val_loss: 32.9112\n",
      "Epoch 2/100\n",
      "3/3 [==============================] - 0s 18ms/step - loss: 38.8744 - val_loss: 30.3133\n",
      "Epoch 3/100\n",
      "3/3 [==============================] - 0s 33ms/step - loss: 34.2480 - val_loss: 26.0946\n",
      "Epoch 4/100\n",
      "3/3 [==============================] - 0s 39ms/step - loss: 27.7423 - val_loss: 20.5894\n",
      "Epoch 5/100\n",
      "3/3 [==============================] - 0s 20ms/step - loss: 20.6281 - val_loss: 15.0811\n",
      "Epoch 6/100\n",
      "3/3 [==============================] - 0s 47ms/step - loss: 17.1209 - val_loss: 12.8631\n",
      "Epoch 7/100\n",
      "3/3 [==============================] - 0s 32ms/step - loss: 17.9648 - val_loss: 10.7247\n",
      "Epoch 8/100\n",
      "3/3 [==============================] - 0s 21ms/step - loss: 17.4070 - val_loss: 11.7292\n",
      "Epoch 9/100\n",
      "3/3 [==============================] - 0s 29ms/step - loss: 16.6814 - val_loss: 8.7701\n",
      "Epoch 10/100\n",
      "3/3 [==============================] - 0s 38ms/step - loss: 14.5955 - val_loss: 9.5614\n",
      "Epoch 11/100\n",
      "3/3 [==============================] - 0s 20ms/step - loss: 14.1540 - val_loss: 11.5741\n",
      "Epoch 12/100\n",
      "3/3 [==============================] - 0s 22ms/step - loss: 14.0691 - val_loss: 12.0162\n",
      "Epoch 13/100\n",
      "3/3 [==============================] - 0s 16ms/step - loss: 13.7914 - val_loss: 11.1838\n",
      "Epoch 14/100\n",
      "3/3 [==============================] - 0s 21ms/step - loss: 12.8826 - val_loss: 10.1697\n",
      "Epoch 15/100\n",
      "3/3 [==============================] - ETA: 0s - loss: 13.32 - 0s 15ms/step - loss: 12.0712 - val_loss: 9.8186\n",
      "Epoch 16/100\n",
      "3/3 [==============================] - 0s 21ms/step - loss: 11.6305 - val_loss: 10.1867\n",
      "Epoch 17/100\n",
      "3/3 [==============================] - 0s 18ms/step - loss: 11.5042 - val_loss: 11.3956\n",
      "Epoch 18/100\n",
      "3/3 [==============================] - 0s 18ms/step - loss: 11.0287 - val_loss: 10.9367\n",
      "Epoch 19/100\n",
      "3/3 [==============================] - 0s 25ms/step - loss: 10.6794 - val_loss: 11.6944\n",
      "Epoch 20/100\n",
      "3/3 [==============================] - 0s 21ms/step - loss: 10.5393 - val_loss: 12.2418\n",
      "Epoch 21/100\n",
      "3/3 [==============================] - 0s 18ms/step - loss: 10.2882 - val_loss: 11.6609\n",
      "Epoch 22/100\n",
      "3/3 [==============================] - 0s 17ms/step - loss: 10.4683 - val_loss: 12.9188\n",
      "Epoch 23/100\n",
      "3/3 [==============================] - 0s 23ms/step - loss: 10.1345 - val_loss: 12.1532\n",
      "Epoch 24/100\n",
      "3/3 [==============================] - 0s 14ms/step - loss: 10.0698 - val_loss: 12.7295\n",
      "Epoch 25/100\n",
      "3/3 [==============================] - 0s 22ms/step - loss: 9.9161 - val_loss: 13.4394\n",
      "Epoch 26/100\n",
      "3/3 [==============================] - 0s 15ms/step - loss: 10.0404 - val_loss: 12.4162\n",
      "Epoch 27/100\n",
      "3/3 [==============================] - 0s 17ms/step - loss: 9.7194 - val_loss: 12.3882\n",
      "Epoch 28/100\n",
      "3/3 [==============================] - 0s 18ms/step - loss: 10.1628 - val_loss: 12.0918\n",
      "Epoch 29/100\n",
      "3/3 [==============================] - 0s 22ms/step - loss: 10.0142 - val_loss: 11.8387\n",
      "Epoch 30/100\n",
      "3/3 [==============================] - 0s 17ms/step - loss: 9.8141 - val_loss: 12.8032\n",
      "Epoch 31/100\n",
      "3/3 [==============================] - 0s 27ms/step - loss: 9.7283 - val_loss: 12.3060\n",
      "Epoch 32/100\n",
      "3/3 [==============================] - 0s 20ms/step - loss: 9.6289 - val_loss: 11.8144\n",
      "Epoch 33/100\n",
      "3/3 [==============================] - 0s 16ms/step - loss: 9.6095 - val_loss: 11.8956\n",
      "Epoch 34/100\n",
      "3/3 [==============================] - 0s 17ms/step - loss: 9.8045 - val_loss: 11.5878\n",
      "Epoch 35/100\n",
      "3/3 [==============================] - 0s 22ms/step - loss: 9.4927 - val_loss: 11.3231\n",
      "Epoch 36/100\n",
      "3/3 [==============================] - 0s 18ms/step - loss: 9.7020 - val_loss: 12.3035\n",
      "Epoch 37/100\n",
      "3/3 [==============================] - 0s 16ms/step - loss: 9.6746 - val_loss: 11.0865\n",
      "Epoch 38/100\n",
      "3/3 [==============================] - 0s 22ms/step - loss: 9.5482 - val_loss: 10.7481\n",
      "Epoch 39/100\n",
      "3/3 [==============================] - 0s 17ms/step - loss: 9.3864 - val_loss: 10.7913\n",
      "Epoch 40/100\n",
      "3/3 [==============================] - 0s 17ms/step - loss: 9.4165 - val_loss: 10.5011\n",
      "Epoch 41/100\n",
      "3/3 [==============================] - 0s 21ms/step - loss: 9.4216 - val_loss: 10.7220\n",
      "Epoch 42/100\n",
      "3/3 [==============================] - 0s 17ms/step - loss: 9.4388 - val_loss: 10.9786\n",
      "Epoch 43/100\n",
      "3/3 [==============================] - 0s 20ms/step - loss: 9.4425 - val_loss: 10.7768\n",
      "Epoch 44/100\n",
      "3/3 [==============================] - 0s 15ms/step - loss: 9.5018 - val_loss: 10.4997\n",
      "Epoch 45/100\n",
      "3/3 [==============================] - 0s 17ms/step - loss: 9.4182 - val_loss: 10.5052\n",
      "Epoch 46/100\n",
      "3/3 [==============================] - 0s 23ms/step - loss: 9.6344 - val_loss: 10.1886\n",
      "Epoch 47/100\n",
      "3/3 [==============================] - ETA: 0s - loss: 10.77 - 0s 21ms/step - loss: 9.9592 - val_loss: 10.3471\n",
      "Epoch 48/100\n",
      "3/3 [==============================] - 0s 17ms/step - loss: 9.2563 - val_loss: 11.9355\n",
      "Epoch 49/100\n",
      "3/3 [==============================] - 0s 22ms/step - loss: 9.8724 - val_loss: 11.2488\n",
      "Epoch 50/100\n",
      "3/3 [==============================] - 0s 16ms/step - loss: 9.6002 - val_loss: 11.0009\n",
      "Epoch 51/100\n",
      "3/3 [==============================] - 0s 16ms/step - loss: 9.7369 - val_loss: 10.3414\n",
      "Epoch 52/100\n",
      "3/3 [==============================] - 0s 20ms/step - loss: 9.4125 - val_loss: 10.3744\n",
      "Epoch 53/100\n",
      "3/3 [==============================] - 0s 17ms/step - loss: 9.5355 - val_loss: 9.9743\n",
      "Epoch 54/100\n",
      "3/3 [==============================] - 0s 16ms/step - loss: 9.3083 - val_loss: 9.8341\n",
      "Epoch 55/100\n",
      "3/3 [==============================] - 0s 17ms/step - loss: 9.2814 - val_loss: 9.7706\n",
      "Epoch 56/100\n",
      "3/3 [==============================] - 0s 19ms/step - loss: 9.1942 - val_loss: 9.7855\n",
      "Epoch 57/100\n",
      "3/3 [==============================] - 0s 17ms/step - loss: 9.4371 - val_loss: 9.7880\n",
      "Epoch 58/100\n",
      "3/3 [==============================] - 0s 16ms/step - loss: 9.6614 - val_loss: 9.5156\n",
      "Epoch 59/100\n",
      "3/3 [==============================] - 0s 17ms/step - loss: 9.4664 - val_loss: 9.1267\n",
      "Epoch 60/100\n",
      "3/3 [==============================] - 0s 29ms/step - loss: 9.2396 - val_loss: 10.7012\n",
      "Epoch 61/100\n",
      "3/3 [==============================] - 0s 16ms/step - loss: 10.1182 - val_loss: 9.8679\n",
      "Epoch 62/100\n",
      "3/3 [==============================] - 0s 16ms/step - loss: 10.2300 - val_loss: 9.9715\n",
      "Epoch 63/100\n",
      "3/3 [==============================] - 0s 20ms/step - loss: 10.1987 - val_loss: 10.9445\n",
      "Epoch 64/100\n",
      "3/3 [==============================] - 0s 19ms/step - loss: 9.8584 - val_loss: 10.2238\n",
      "Epoch 65/100\n",
      "3/3 [==============================] - 0s 19ms/step - loss: 9.5385 - val_loss: 9.5412\n",
      "Epoch 66/100\n",
      "3/3 [==============================] - 0s 21ms/step - loss: 9.4203 - val_loss: 9.5236\n",
      "Epoch 67/100\n",
      "3/3 [==============================] - 0s 17ms/step - loss: 9.2125 - val_loss: 8.8690\n",
      "Epoch 68/100\n",
      "3/3 [==============================] - 0s 20ms/step - loss: 9.2600 - val_loss: 8.3382\n",
      "Epoch 69/100\n",
      "3/3 [==============================] - 0s 17ms/step - loss: 9.3668 - val_loss: 8.5974\n",
      "Epoch 70/100\n",
      "3/3 [==============================] - 0s 17ms/step - loss: 9.1594 - val_loss: 8.2223\n",
      "Epoch 71/100\n",
      "3/3 [==============================] - 0s 16ms/step - loss: 9.2024 - val_loss: 7.9319\n",
      "Epoch 72/100\n",
      "3/3 [==============================] - 0s 17ms/step - loss: 9.1399 - val_loss: 8.0007\n",
      "Epoch 73/100\n",
      "3/3 [==============================] - 0s 18ms/step - loss: 9.2430 - val_loss: 8.6751\n",
      "Epoch 74/100\n",
      "3/3 [==============================] - 0s 21ms/step - loss: 9.1395 - val_loss: 8.2737\n",
      "Epoch 75/100\n",
      "3/3 [==============================] - 0s 17ms/step - loss: 9.3249 - val_loss: 7.6465\n",
      "Epoch 76/100\n",
      "3/3 [==============================] - 0s 16ms/step - loss: 9.1175 - val_loss: 8.1571\n",
      "Epoch 77/100\n",
      "3/3 [==============================] - 0s 17ms/step - loss: 9.0359 - val_loss: 8.0444\n",
      "Epoch 78/100\n",
      "3/3 [==============================] - 0s 19ms/step - loss: 9.6884 - val_loss: 8.5716\n",
      "Epoch 79/100\n",
      "3/3 [==============================] - 0s 18ms/step - loss: 9.5543 - val_loss: 9.4150\n",
      "Epoch 80/100\n"
     ]
    },
    {
     "name": "stdout",
     "output_type": "stream",
     "text": [
      "3/3 [==============================] - 0s 19ms/step - loss: 9.3774 - val_loss: 8.9209\n",
      "Epoch 81/100\n",
      "3/3 [==============================] - 0s 20ms/step - loss: 9.3029 - val_loss: 8.0875\n",
      "Epoch 82/100\n",
      "3/3 [==============================] - 0s 19ms/step - loss: 9.2261 - val_loss: 7.9646\n",
      "Epoch 83/100\n",
      "3/3 [==============================] - 0s 22ms/step - loss: 9.2590 - val_loss: 7.6003\n",
      "Epoch 84/100\n",
      "3/3 [==============================] - 0s 13ms/step - loss: 9.1314 - val_loss: 8.2385\n",
      "Epoch 85/100\n",
      "3/3 [==============================] - 0s 20ms/step - loss: 9.0829 - val_loss: 8.3698\n",
      "Epoch 86/100\n",
      "3/3 [==============================] - 0s 16ms/step - loss: 9.1856 - val_loss: 7.9967\n",
      "Epoch 87/100\n",
      "3/3 [==============================] - 0s 21ms/step - loss: 9.3719 - val_loss: 7.7712\n",
      "Epoch 88/100\n",
      "3/3 [==============================] - 0s 20ms/step - loss: 8.9991 - val_loss: 9.0236\n",
      "Epoch 89/100\n",
      "3/3 [==============================] - 0s 16ms/step - loss: 9.5167 - val_loss: 7.8501\n",
      "Epoch 90/100\n",
      "3/3 [==============================] - 0s 17ms/step - loss: 9.3737 - val_loss: 7.7540\n",
      "Epoch 91/100\n",
      "3/3 [==============================] - 0s 22ms/step - loss: 9.3608 - val_loss: 8.3012\n",
      "Epoch 92/100\n",
      "3/3 [==============================] - 0s 19ms/step - loss: 9.6881 - val_loss: 8.0809\n",
      "Epoch 93/100\n",
      "3/3 [==============================] - 0s 16ms/step - loss: 9.3667 - val_loss: 8.2431\n",
      "Epoch 94/100\n",
      "3/3 [==============================] - 0s 21ms/step - loss: 9.6536 - val_loss: 8.8585\n",
      "Epoch 95/100\n",
      "3/3 [==============================] - ETA: 0s - loss: 8.155 - 0s 18ms/step - loss: 9.7773 - val_loss: 8.8385\n",
      "Epoch 96/100\n",
      "3/3 [==============================] - 0s 16ms/step - loss: 8.9870 - val_loss: 7.6466\n",
      "Epoch 97/100\n",
      "3/3 [==============================] - 0s 22ms/step - loss: 9.4344 - val_loss: 7.8867\n",
      "Epoch 98/100\n",
      "3/3 [==============================] - 0s 13ms/step - loss: 9.4040 - val_loss: 8.9553\n",
      "Epoch 99/100\n",
      "3/3 [==============================] - 0s 21ms/step - loss: 9.4394 - val_loss: 7.4869\n",
      "Epoch 100/100\n",
      "3/3 [==============================] - 0s 16ms/step - loss: 9.6825 - val_loss: 7.0163\n"
     ]
    }
   ],
   "source": [
    "history = model.fit(X_train, y_train, epochs=100,\n",
    "                    validation_data=(X_valid, y_valid))"
   ]
  },
  {
   "cell_type": "code",
   "execution_count": 20,
   "id": "4d550f88",
   "metadata": {},
   "outputs": [
    {
     "name": "stdout",
     "output_type": "stream",
     "text": [
      "Saving figure grid_num_training_curve\n"
     ]
    },
    {
     "data": {
      "image/png": "[encoded data removed]",
      "text/plain": [
       "<Figure size 576x360 with 1 Axes>"
      ]
     },
     "metadata": {
      "needs_background": "light"
     },
     "output_type": "display_data"
    }
   ],
   "source": [
    "import pandas as pd\n",
    "\n",
    "pd.DataFrame(history.history).plot(figsize=(8, 5))\n",
    "plt.grid(True)\n",
    "# plt.gca().set_ylim(0, 1)\n",
    "save_fig(\"grid_num_training_curve\")\n",
    "plt.show()"
   ]
  },
  {
   "cell_type": "code",
   "execution_count": 21,
   "id": "5487653c",
   "metadata": {},
   "outputs": [
    {
     "name": "stdout",
     "output_type": "stream",
     "text": [
      "X.shape = (None, 1)\n",
      "gauss_grid.shape = (None, 5)\n",
      "Saving figure grid_num_prediction\n"
     ]
    },
    {
     "data": {
      "image/png": "[encoded data removed]",
      "text/plain": [
       "<Figure size 432x288 with 1 Axes>"
      ]
     },
     "metadata": {
      "needs_background": "light"
     },
     "output_type": "display_data"
    }
   ],
   "source": [
    "# X_new = np.linspace(-5, 5, 100).reshape(100, 1)\n",
    "# y_new = model.predict(X_new)\n",
    "#\n",
    "plt.plot(X_train, y_train, \"b.\")\n",
    "# plt.plot(X_new, y_new, \"r-\", linewidth=2, label=\"Predictions\")\n",
    "draw_func(model.predict, mark='r-', linewidth=2, label=\"Predictions\")\n",
    "draw_normal_func(func_dict)\n",
    "plt.xlabel(\"$x_1$\", fontsize=18)\n",
    "plt.ylabel(\"$y$\", rotation=0, fontsize=18)\n",
    "plt.legend(loc=\"upper left\", fontsize=14)\n",
    "# plt.axis([-3, 3, 0, 10])\n",
    "save_fig(\"grid_num_prediction\")\n",
    "plt.show()"
   ]
  },
  {
   "cell_type": "code",
   "execution_count": 22,
   "id": "f9c053a4",
   "metadata": {},
   "outputs": [
    {
     "name": "stdout",
     "output_type": "stream",
     "text": [
      "y_func.shape = (100, 1)\n",
      "y_gt.shape = (100, 1)\n"
     ]
    },
    {
     "data": {
      "text/plain": [
       "4.957840240394256"
      ]
     },
     "execution_count": 22,
     "metadata": {},
     "output_type": "execute_result"
    }
   ],
   "source": [
    "get_prediction_error(model.predict, func_dict, name=\"grid-num\")"
   ]
  },
  {
   "cell_type": "markdown",
   "id": "fe65d614",
   "metadata": {},
   "source": [
    "# Grid & Regression by Classification (grid --> grid)"
   ]
  },
  {
   "cell_type": "code",
   "execution_count": 23,
   "id": "3d35615e",
   "metadata": {},
   "outputs": [],
   "source": [
    "class num2grid_np():\n",
    "    def __init__(self, units, x_min=-10, x_max=10, sigma=1.0):\n",
    "        self.units = units\n",
    "        self.x_min = x_min\n",
    "        self.x_max = x_max\n",
    "        self.sigma = sigma\n",
    "        self.sigma2 = self.sigma**2\n",
    "        self.x_grid = np.linspace(self.x_min, self.x_max, self.units, endpoint=True)\n",
    "        print(\"self.x_grid = %s\" % str(self.x_grid))\n",
    "        \n",
    "    def convert(self, X):\n",
    "        gauss_grid = np.exp( -(self.x_grid - X)**2 / (2.0*self.sigma2) )\n",
    "#         if len(gauss_grid.shape) == 1:\n",
    "#             gauss_grid = gauss_grid.reshape([1,-1])\n",
    "#         grid_sum = np.sum(gauss_grid, axis=1, keepdims=True)\n",
    "        grid_sum = np.sum(gauss_grid, axis=-1, keepdims=True)\n",
    "        gauss_grid = gauss_grid / grid_sum\n",
    "        return gauss_grid\n",
    "    \n",
    "    def inv_convert(self, grid):\n",
    "#         if len(grid.shape) == 1:\n",
    "#             grid = grid.reshape([1,-1])\n",
    "#         grid_sum = np.sum(grid, axis=1)\n",
    "        grid_sum = np.sum(grid, axis=-1)\n",
    "#         print(grid_sum)\n",
    "        exp_num = np.sum((self.x_grid * grid), axis=-1) / grid_sum # element-wise\n",
    "        return exp_num\n",
    "    \n",
    "    def get_statistic(self, grid):\n",
    "        grid_sum = np.sum(grid, axis=-1)\n",
    "        _mean = np.sum((self.x_grid * grid), axis=-1) / grid_sum # element-wise\n",
    "        _var  = np.sum( ((self.x_grid.reshape((1,-1)) - _mean.reshape((-1,1)))**2 * grid), axis=-1) / grid_sum # element-wise\n",
    "        # print(\"(_mean, _var) = (%f, %f)\" % (_mean, _var))\n",
    "        _stddev = np.sqrt(_var)\n",
    "        return _mean, _stddev"
   ]
  },
  {
   "cell_type": "code",
   "execution_count": 24,
   "id": "4903180b",
   "metadata": {},
   "outputs": [
    {
     "name": "stdout",
     "output_type": "stream",
     "text": [
      "self.x_grid = [-100.          -95.91836735  -91.83673469  -87.75510204  -83.67346939\n",
      "  -79.59183673  -75.51020408  -71.42857143  -67.34693878  -63.26530612\n",
      "  -59.18367347  -55.10204082  -51.02040816  -46.93877551  -42.85714286\n",
      "  -38.7755102   -34.69387755  -30.6122449   -26.53061224  -22.44897959\n",
      "  -18.36734694  -14.28571429  -10.20408163   -6.12244898   -2.04081633\n",
      "    2.04081633    6.12244898   10.20408163   14.28571429   18.36734694\n",
      "   22.44897959   26.53061224   30.6122449    34.69387755   38.7755102\n",
      "   42.85714286   46.93877551   51.02040816   55.10204082   59.18367347\n",
      "   63.26530612   67.34693878   71.42857143   75.51020408   79.59183673\n",
      "   83.67346939   87.75510204   91.83673469   95.91836735  100.        ]\n"
     ]
    }
   ],
   "source": [
    "# class_num = 10 # 10\n",
    "# n2g = num2grid_np(class_num, x_min=-100.0, x_max=100.0, sigma=20.0) # 20.0\n",
    "# class_num = 20\n",
    "# n2g = num2grid_np(class_num, x_min=-100.0, x_max=100.0, sigma=15.0) # 20.0\n",
    "class_num = 50\n",
    "n2g = num2grid_np(class_num, x_min=-100.0, x_max=100.0, sigma=6.0) # 5.0 "
   ]
  },
  {
   "cell_type": "code",
   "execution_count": 25,
   "id": "dce05258",
   "metadata": {},
   "outputs": [
    {
     "name": "stdout",
     "output_type": "stream",
     "text": [
      "[[3.57995092e-60 2.08100846e-55 7.61538914e-51 1.75441300e-46\n",
      "  2.54444491e-42 2.32314196e-38 1.33530332e-34 4.83176258e-31\n",
      "  1.10065884e-27 1.57841554e-24 1.42498879e-21 8.09884396e-19\n",
      "  2.89771784e-16 6.52695532e-14 9.25521826e-12 8.26198061e-10\n",
      "  4.64304784e-08 1.64264466e-06 3.65852120e-05 5.12966502e-04\n",
      "  4.52786966e-03 2.51605603e-02 8.80173281e-02 1.93837381e-01\n",
      "  2.68737559e-01 2.34552834e-01 1.28876722e-01 4.45789421e-02\n",
      "  9.70748025e-03 1.33077537e-03 1.14848275e-04 6.23972825e-06\n",
      "  2.13416679e-07 4.59528573e-09 6.22899760e-11 5.31551427e-13\n",
      "  2.85557712e-15 9.65748361e-18 2.05615356e-20 2.75593262e-23\n",
      "  2.32542921e-26 1.23526215e-29 4.13082337e-33 8.69632169e-37\n",
      "  1.15254011e-40 9.61607812e-45 5.05081425e-49 1.67011468e-53\n",
      "  3.47658354e-58 4.55596654e-63]]\n"
     ]
    }
   ],
   "source": [
    "# grid_1 = n2g.convert(-1.2)\n",
    "grid_1 = n2g.convert([[-1.2]])\n",
    "print(grid_1)"
   ]
  },
  {
   "cell_type": "code",
   "execution_count": 26,
   "id": "48203fe2",
   "metadata": {},
   "outputs": [
    {
     "data": {
      "text/plain": [
       "array([-1.2])"
      ]
     },
     "execution_count": 26,
     "metadata": {},
     "output_type": "execute_result"
    }
   ],
   "source": [
    "n2g.inv_convert(grid_1)"
   ]
  },
  {
   "cell_type": "code",
   "execution_count": 27,
   "id": "a741b6d1",
   "metadata": {},
   "outputs": [
    {
     "data": {
      "text/plain": [
       "(array([-1.2]), array([6.]))"
      ]
     },
     "execution_count": 27,
     "metadata": {},
     "output_type": "execute_result"
    }
   ],
   "source": [
    "n2g.get_statistic(grid_1)"
   ]
  },
  {
   "cell_type": "markdown",
   "id": "bdc0b9a0",
   "metadata": {},
   "source": [
    "### Convert the labels to grid (pre-processing)"
   ]
  },
  {
   "cell_type": "code",
   "execution_count": 28,
   "id": "39c7fa96",
   "metadata": {},
   "outputs": [],
   "source": [
    "y_train_grid = n2g.convert(y_train)\n",
    "y_valid_grid = n2g.convert(y_valid)"
   ]
  },
  {
   "cell_type": "code",
   "execution_count": 29,
   "id": "f577a751",
   "metadata": {},
   "outputs": [
    {
     "name": "stdout",
     "output_type": "stream",
     "text": [
      "(80, 50)\n",
      "(20, 50)\n"
     ]
    }
   ],
   "source": [
    "print(y_train_grid.shape)\n",
    "print(y_valid_grid.shape)"
   ]
  },
  {
   "cell_type": "code",
   "execution_count": 30,
   "id": "71610af1",
   "metadata": {},
   "outputs": [
    {
     "name": "stdout",
     "output_type": "stream",
     "text": [
      "X.shape = (None, 1)\n",
      "gauss_grid.shape = (None, 5)\n"
     ]
    },
    {
     "name": "stderr",
     "output_type": "stream",
     "text": [
      "C:\\Users\\benso\\anaconda3\\envs\\ml\\lib\\site-packages\\keras\\optimizer_v2\\gradient_descent.py:102: UserWarning: The `lr` argument is deprecated, use `learning_rate` instead.\n",
      "  super(SGD, self).__init__(name, **kwargs)\n"
     ]
    }
   ],
   "source": [
    "model = keras.models.Sequential([\n",
    "#     keras.layers.Dense(30, activation=\"relu\", input_shape=X_train.shape[1:]),\n",
    "    num2grid(5,x_min=-10, x_max=10, sigma=3.0, input_shape=X_train.shape[1:]),\n",
    "    keras.layers.Dense(30, activation=\"relu\"),\n",
    "#     keras.layers.Dense(100, activation=\"relu\", kernel_regularizer=tf.keras.regularizers.l1(0.01)),\n",
    "    keras.layers.Dense(class_num, activation=\"softmax\"),\n",
    "])\n",
    "\n",
    "optimizer = keras.optimizers.SGD(lr=0.2, momentum=0.9)\n",
    "model.compile(loss=\"categorical_crossentropy\", optimizer=optimizer)"
   ]
  },
  {
   "cell_type": "code",
   "execution_count": 31,
   "id": "e2244aee",
   "metadata": {
    "scrolled": true
   },
   "outputs": [
    {
     "name": "stdout",
     "output_type": "stream",
     "text": [
      "Epoch 1/100\n",
      "X.shape = (None, 1)\n",
      "gauss_grid.shape = (None, 5)\n",
      "X.shape = (None, 1)\n",
      "gauss_grid.shape = (None, 5)\n",
      "1/3 [=========>....................] - ETA: 0s - loss: 3.9280X.shape = (None, 1)\n",
      "gauss_grid.shape = (None, 5)\n",
      "3/3 [==============================] - 1s 78ms/step - loss: 3.9215 - val_loss: 3.9173\n",
      "Epoch 2/100\n",
      "3/3 [==============================] - 0s 19ms/step - loss: 3.8859 - val_loss: 3.8825\n",
      "Epoch 3/100\n",
      "3/3 [==============================] - 0s 29ms/step - loss: 3.8293 - val_loss: 3.8490\n",
      "Epoch 4/100\n",
      "3/3 [==============================] - 0s 31ms/step - loss: 3.7646 - val_loss: 3.8029\n",
      "Epoch 5/100\n",
      "3/3 [==============================] - 0s 49ms/step - loss: 3.6912 - val_loss: 3.7463\n",
      "Epoch 6/100\n",
      "3/3 [==============================] - 0s 33ms/step - loss: 3.5907 - val_loss: 3.6789\n",
      "Epoch 7/100\n",
      "3/3 [==============================] - 0s 27ms/step - loss: 3.4747 - val_loss: 3.5994\n",
      "Epoch 8/100\n",
      "3/3 [==============================] - 0s 37ms/step - loss: 3.3620 - val_loss: 3.5201\n",
      "Epoch 9/100\n",
      "3/3 [==============================] - 0s 41ms/step - loss: 3.2533 - val_loss: 3.4369\n",
      "Epoch 10/100\n",
      "3/3 [==============================] - 0s 24ms/step - loss: 3.1806 - val_loss: 3.3571\n",
      "Epoch 11/100\n",
      "3/3 [==============================] - 0s 25ms/step - loss: 3.1172 - val_loss: 3.2765\n",
      "Epoch 12/100\n",
      "3/3 [==============================] - 0s 17ms/step - loss: 3.0694 - val_loss: 3.1856\n",
      "Epoch 13/100\n",
      "3/3 [==============================] - 0s 24ms/step - loss: 3.0298 - val_loss: 3.1251\n",
      "Epoch 14/100\n",
      "3/3 [==============================] - 0s 18ms/step - loss: 3.0045 - val_loss: 3.0793\n",
      "Epoch 15/100\n",
      "3/3 [==============================] - 0s 19ms/step - loss: 2.9770 - val_loss: 3.0634\n",
      "Epoch 16/100\n",
      "3/3 [==============================] - 0s 22ms/step - loss: 2.9489 - val_loss: 3.0556\n",
      "Epoch 17/100\n",
      "3/3 [==============================] - 0s 23ms/step - loss: 2.9217 - val_loss: 3.0528\n",
      "Epoch 18/100\n",
      "3/3 [==============================] - 0s 23ms/step - loss: 2.9031 - val_loss: 3.0313\n",
      "Epoch 19/100\n",
      "3/3 [==============================] - 0s 19ms/step - loss: 2.8722 - val_loss: 3.0253\n",
      "Epoch 20/100\n",
      "3/3 [==============================] - 0s 23ms/step - loss: 2.8417 - val_loss: 3.0170\n",
      "Epoch 21/100\n",
      "3/3 [==============================] - 0s 20ms/step - loss: 2.8248 - val_loss: 2.9972\n",
      "Epoch 22/100\n",
      "3/3 [==============================] - 0s 20ms/step - loss: 2.8012 - val_loss: 2.9512\n",
      "Epoch 23/100\n",
      "3/3 [==============================] - 0s 18ms/step - loss: 2.7877 - val_loss: 2.9373\n",
      "Epoch 24/100\n",
      "3/3 [==============================] - 0s 19ms/step - loss: 2.7597 - val_loss: 2.9745\n",
      "Epoch 25/100\n",
      "3/3 [==============================] - 0s 19ms/step - loss: 2.7371 - val_loss: 2.9790\n",
      "Epoch 26/100\n",
      "3/3 [==============================] - 0s 19ms/step - loss: 2.7226 - val_loss: 2.9313\n",
      "Epoch 27/100\n",
      "3/3 [==============================] - 0s 20ms/step - loss: 2.6980 - val_loss: 2.8831\n",
      "Epoch 28/100\n",
      "3/3 [==============================] - 0s 22ms/step - loss: 2.6843 - val_loss: 2.8440\n",
      "Epoch 29/100\n",
      "3/3 [==============================] - 0s 20ms/step - loss: 2.6632 - val_loss: 2.8052\n",
      "Epoch 30/100\n",
      "3/3 [==============================] - 0s 22ms/step - loss: 2.6552 - val_loss: 2.8073\n",
      "Epoch 31/100\n",
      "3/3 [==============================] - 0s 19ms/step - loss: 2.6433 - val_loss: 2.8558\n",
      "Epoch 32/100\n",
      "3/3 [==============================] - 0s 19ms/step - loss: 2.6267 - val_loss: 2.8816\n",
      "Epoch 33/100\n",
      "3/3 [==============================] - 0s 19ms/step - loss: 2.6234 - val_loss: 2.8290\n",
      "Epoch 34/100\n",
      "3/3 [==============================] - 0s 21ms/step - loss: 2.6246 - val_loss: 2.7708\n",
      "Epoch 35/100\n",
      "3/3 [==============================] - 0s 13ms/step - loss: 2.6102 - val_loss: 2.8266\n",
      "Epoch 36/100\n",
      "3/3 [==============================] - 0s 17ms/step - loss: 2.5816 - val_loss: 2.7758\n",
      "Epoch 37/100\n",
      "3/3 [==============================] - 0s 21ms/step - loss: 2.5735 - val_loss: 2.7442\n",
      "Epoch 38/100\n",
      "3/3 [==============================] - 0s 16ms/step - loss: 2.5757 - val_loss: 2.7569\n",
      "Epoch 39/100\n",
      "3/3 [==============================] - 0s 22ms/step - loss: 2.5613 - val_loss: 2.7166\n",
      "Epoch 40/100\n",
      "3/3 [==============================] - 0s 18ms/step - loss: 2.5626 - val_loss: 2.6895\n",
      "Epoch 41/100\n",
      "3/3 [==============================] - 0s 17ms/step - loss: 2.5637 - val_loss: 2.7244\n",
      "Epoch 42/100\n",
      "3/3 [==============================] - 0s 25ms/step - loss: 2.5590 - val_loss: 2.8011\n",
      "Epoch 43/100\n",
      "3/3 [==============================] - 0s 18ms/step - loss: 2.5433 - val_loss: 2.7616\n",
      "Epoch 44/100\n",
      "3/3 [==============================] - 0s 18ms/step - loss: 2.5277 - val_loss: 2.7040\n",
      "Epoch 45/100\n",
      "3/3 [==============================] - 0s 16ms/step - loss: 2.5491 - val_loss: 2.6188\n",
      "Epoch 46/100\n",
      "3/3 [==============================] - 0s 18ms/step - loss: 2.5285 - val_loss: 2.6652\n",
      "Epoch 47/100\n",
      "3/3 [==============================] - 0s 22ms/step - loss: 2.5165 - val_loss: 2.8047\n",
      "Epoch 48/100\n",
      "3/3 [==============================] - 0s 21ms/step - loss: 2.5338 - val_loss: 2.7467\n",
      "Epoch 49/100\n",
      "3/3 [==============================] - 0s 18ms/step - loss: 2.5202 - val_loss: 2.6799\n",
      "Epoch 50/100\n",
      "3/3 [==============================] - 0s 13ms/step - loss: 2.5181 - val_loss: 2.6847\n",
      "Epoch 51/100\n",
      "3/3 [==============================] - 0s 21ms/step - loss: 2.5065 - val_loss: 2.6525\n",
      "Epoch 52/100\n",
      "3/3 [==============================] - 0s 24ms/step - loss: 2.4944 - val_loss: 2.6627\n",
      "Epoch 53/100\n",
      "3/3 [==============================] - 0s 17ms/step - loss: 2.4906 - val_loss: 2.6628\n",
      "Epoch 54/100\n",
      "3/3 [==============================] - 0s 16ms/step - loss: 2.4906 - val_loss: 2.7008\n",
      "Epoch 55/100\n",
      "3/3 [==============================] - 0s 22ms/step - loss: 2.4783 - val_loss: 2.6391\n",
      "Epoch 56/100\n",
      "3/3 [==============================] - 0s 17ms/step - loss: 2.4969 - val_loss: 2.6482\n",
      "Epoch 57/100\n",
      "3/3 [==============================] - 0s 17ms/step - loss: 2.4772 - val_loss: 2.6553\n",
      "Epoch 58/100\n",
      "3/3 [==============================] - 0s 18ms/step - loss: 2.4845 - val_loss: 2.7015\n",
      "Epoch 59/100\n",
      "3/3 [==============================] - 0s 18ms/step - loss: 2.4780 - val_loss: 2.6888\n",
      "Epoch 60/100\n",
      "3/3 [==============================] - 0s 22ms/step - loss: 2.4868 - val_loss: 2.6545\n",
      "Epoch 61/100\n",
      "3/3 [==============================] - 0s 17ms/step - loss: 2.4590 - val_loss: 2.6678\n",
      "Epoch 62/100\n",
      "3/3 [==============================] - 0s 18ms/step - loss: 2.4791 - val_loss: 2.6651\n",
      "Epoch 63/100\n",
      "3/3 [==============================] - 0s 17ms/step - loss: 2.4499 - val_loss: 2.6471\n",
      "Epoch 64/100\n",
      "3/3 [==============================] - 0s 22ms/step - loss: 2.4556 - val_loss: 2.6836\n",
      "Epoch 65/100\n",
      "3/3 [==============================] - 0s 18ms/step - loss: 2.4568 - val_loss: 2.7146\n",
      "Epoch 66/100\n",
      "3/3 [==============================] - 0s 21ms/step - loss: 2.4452 - val_loss: 2.6404\n",
      "Epoch 67/100\n",
      "3/3 [==============================] - 0s 17ms/step - loss: 2.4422 - val_loss: 2.5359\n",
      "Epoch 68/100\n",
      "3/3 [==============================] - 0s 17ms/step - loss: 2.4513 - val_loss: 2.5395\n",
      "Epoch 69/100\n",
      "3/3 [==============================] - 0s 21ms/step - loss: 2.4558 - val_loss: 2.6495\n",
      "Epoch 70/100\n",
      "3/3 [==============================] - 0s 19ms/step - loss: 2.4349 - val_loss: 2.7367\n",
      "Epoch 71/100\n",
      "3/3 [==============================] - 0s 19ms/step - loss: 2.4639 - val_loss: 2.6405\n",
      "Epoch 72/100\n",
      "3/3 [==============================] - 0s 18ms/step - loss: 2.4404 - val_loss: 2.5702\n",
      "Epoch 73/100\n",
      "3/3 [==============================] - 0s 18ms/step - loss: 2.4456 - val_loss: 2.5624\n",
      "Epoch 74/100\n",
      "3/3 [==============================] - 0s 17ms/step - loss: 2.4448 - val_loss: 2.5945\n",
      "Epoch 75/100\n",
      "3/3 [==============================] - 0s 24ms/step - loss: 2.4344 - val_loss: 2.6116\n",
      "Epoch 76/100\n",
      "3/3 [==============================] - 0s 17ms/step - loss: 2.4198 - val_loss: 2.6563\n",
      "Epoch 77/100\n",
      "3/3 [==============================] - 0s 19ms/step - loss: 2.4293 - val_loss: 2.6371\n",
      "Epoch 78/100\n",
      "3/3 [==============================] - 0s 22ms/step - loss: 2.4168 - val_loss: 2.6014\n",
      "Epoch 79/100\n",
      "3/3 [==============================] - 0s 17ms/step - loss: 2.4317 - val_loss: 2.5844\n",
      "Epoch 80/100\n",
      "3/3 [==============================] - 0s 17ms/step - loss: 2.4135 - val_loss: 2.7192\n",
      "Epoch 81/100\n"
     ]
    },
    {
     "name": "stdout",
     "output_type": "stream",
     "text": [
      "3/3 [==============================] - 0s 18ms/step - loss: 2.4646 - val_loss: 2.6848\n",
      "Epoch 82/100\n",
      "3/3 [==============================] - 0s 22ms/step - loss: 2.4221 - val_loss: 2.5186\n",
      "Epoch 83/100\n",
      "3/3 [==============================] - 0s 17ms/step - loss: 2.4446 - val_loss: 2.5300\n",
      "Epoch 84/100\n",
      "3/3 [==============================] - 0s 22ms/step - loss: 2.4354 - val_loss: 2.6378\n",
      "Epoch 85/100\n",
      "3/3 [==============================] - 0s 14ms/step - loss: 2.4324 - val_loss: 2.6159\n",
      "Epoch 86/100\n",
      "3/3 [==============================] - 0s 22ms/step - loss: 2.4190 - val_loss: 2.5729\n",
      "Epoch 87/100\n",
      "3/3 [==============================] - 0s 13ms/step - loss: 2.4174 - val_loss: 2.5973\n",
      "Epoch 88/100\n",
      "3/3 [==============================] - 0s 20ms/step - loss: 2.4235 - val_loss: 2.6963\n",
      "Epoch 89/100\n",
      "3/3 [==============================] - 0s 17ms/step - loss: 2.4143 - val_loss: 2.6112\n",
      "Epoch 90/100\n",
      "3/3 [==============================] - 0s 21ms/step - loss: 2.4344 - val_loss: 2.6584\n",
      "Epoch 91/100\n",
      "3/3 [==============================] - 0s 14ms/step - loss: 2.4092 - val_loss: 2.6932\n",
      "Epoch 92/100\n",
      "3/3 [==============================] - 0s 16ms/step - loss: 2.4117 - val_loss: 2.6388\n",
      "Epoch 93/100\n",
      "3/3 [==============================] - 0s 22ms/step - loss: 2.4081 - val_loss: 2.5702\n",
      "Epoch 94/100\n",
      "3/3 [==============================] - 0s 16ms/step - loss: 2.4071 - val_loss: 2.5774\n",
      "Epoch 95/100\n",
      "3/3 [==============================] - 0s 17ms/step - loss: 2.4138 - val_loss: 2.5686\n",
      "Epoch 96/100\n",
      "3/3 [==============================] - 0s 21ms/step - loss: 2.3999 - val_loss: 2.5643\n",
      "Epoch 97/100\n",
      "3/3 [==============================] - 0s 17ms/step - loss: 2.3932 - val_loss: 2.5852\n",
      "Epoch 98/100\n",
      "3/3 [==============================] - 0s 21ms/step - loss: 2.3942 - val_loss: 2.6038\n",
      "Epoch 99/100\n",
      "3/3 [==============================] - 0s 17ms/step - loss: 2.3881 - val_loss: 2.5680\n",
      "Epoch 100/100\n",
      "3/3 [==============================] - 0s 17ms/step - loss: 2.3899 - val_loss: 2.5717\n"
     ]
    }
   ],
   "source": [
    "history = model.fit(X_train, y_train_grid, epochs=100,\n",
    "                    validation_data=(X_valid, y_valid_grid))"
   ]
  },
  {
   "cell_type": "code",
   "execution_count": 32,
   "id": "390834c9",
   "metadata": {},
   "outputs": [
    {
     "name": "stdout",
     "output_type": "stream",
     "text": [
      "Saving figure grid_rbc_training_curve\n"
     ]
    },
    {
     "data": {
      "image/png": "[encoded data removed]",
      "text/plain": [
       "<Figure size 576x360 with 1 Axes>"
      ]
     },
     "metadata": {
      "needs_background": "light"
     },
     "output_type": "display_data"
    }
   ],
   "source": [
    "import pandas as pd\n",
    "\n",
    "pd.DataFrame(history.history).plot(figsize=(8, 5))\n",
    "plt.grid(True)\n",
    "# plt.gca().set_ylim(0, 1)\n",
    "save_fig(\"grid_rbc_training_curve\")\n",
    "plt.show()"
   ]
  },
  {
   "cell_type": "code",
   "execution_count": 33,
   "id": "6fba3b6a",
   "metadata": {},
   "outputs": [
    {
     "name": "stdout",
     "output_type": "stream",
     "text": [
      "X.shape = (None, 1)\n",
      "gauss_grid.shape = (None, 5)\n",
      "Saving figure grid_rbc_prediction\n"
     ]
    },
    {
     "data": {
      "image/png": "[encoded data removed]",
      "text/plain": [
       "<Figure size 432x288 with 1 Axes>"
      ]
     },
     "metadata": {
      "needs_background": "light"
     },
     "output_type": "display_data"
    }
   ],
   "source": [
    "# X_new = np.linspace(-5, 5, 100).reshape(100, 1)\n",
    "# y_new_proba = model.predict(X_new)\n",
    "# y_new = n2g.inv_convert(y_new_proba)\n",
    "#\n",
    "plt.plot(X_train, y_train, \"b.\")\n",
    "# plt.plot(X_new, y_new, \"r-\", linewidth=2, label=\"Predictions\")\n",
    "draw_func((lambda X: n2g.inv_convert(model.predict(X)) ), mark='r-', linewidth=2, label=\"Predictions\")\n",
    "draw_normal_func(func_dict)\n",
    "plt.xlabel(\"$x_1$\", fontsize=18)\n",
    "plt.ylabel(\"$y$\", rotation=0, fontsize=18)\n",
    "plt.legend(loc=\"upper left\", fontsize=14)\n",
    "# plt.axis([-3, 3, 0, 10])\n",
    "save_fig(\"grid_rbc_prediction\")\n",
    "plt.show()"
   ]
  },
  {
   "cell_type": "code",
   "execution_count": 34,
   "id": "fc059ba5",
   "metadata": {},
   "outputs": [
    {
     "name": "stdout",
     "output_type": "stream",
     "text": [
      "y_func.shape = (100, 1)\n",
      "y_gt.shape = (100, 1)\n"
     ]
    },
    {
     "data": {
      "text/plain": [
       "3.624877370909611"
      ]
     },
     "execution_count": 34,
     "metadata": {},
     "output_type": "execute_result"
    }
   ],
   "source": [
    "get_prediction_error((lambda X: n2g.inv_convert(model.predict(X)) ), func_dict, name=\"grid-rbc\")"
   ]
  },
  {
   "cell_type": "code",
   "execution_count": 35,
   "id": "edcf26db",
   "metadata": {},
   "outputs": [
    {
     "name": "stdout",
     "output_type": "stream",
     "text": [
      "Saving figure grid_rbc_proba\n"
     ]
    },
    {
     "data": {
      "image/png": "[encoded data removed]",
      "text/plain": [
       "<Figure size 432x288 with 1 Axes>"
      ]
     },
     "metadata": {
      "needs_background": "light"
     },
     "output_type": "display_data"
    }
   ],
   "source": [
    "X_new = np.linspace(-5, 5, 100).reshape(100, 1)\n",
    "y_new_proba = model.predict(X_new)\n",
    "# y_new = n2g.inv_convert(y_new_proba)\n",
    "#\n",
    "xv, yv = np.meshgrid(X_new, np.linspace(n2g.x_min, n2g.x_max, n2g.units))\n",
    "# print(xv)\n",
    "# print(yv)\n",
    "plt.pcolormesh(xv, yv, y_new_proba.T, shading=\"nearest\")\n",
    "save_fig(\"grid_rbc_proba\")"
   ]
  },
  {
   "cell_type": "markdown",
   "id": "4064d3b5",
   "metadata": {},
   "source": [
    "### Draw the 1-sigma boundary line"
   ]
  },
  {
   "cell_type": "code",
   "execution_count": 36,
   "id": "247e8712",
   "metadata": {},
   "outputs": [
    {
     "name": "stdout",
     "output_type": "stream",
     "text": [
      "Saving figure grid_rbc_prediction_1sigma\n"
     ]
    },
    {
     "data": {
      "image/png": "[encoded data removed]",
      "text/plain": [
       "<Figure size 432x288 with 1 Axes>"
      ]
     },
     "metadata": {
      "needs_background": "light"
     },
     "output_type": "display_data"
    }
   ],
   "source": [
    "def n_sigma_boundary_line(X, n):\n",
    "    _mean, _sigma = n2g.get_statistic(model.predict(X))\n",
    "    return( _mean + n*_sigma)\n",
    "\n",
    "plt.plot(X_train, y_train, \"b.\")\n",
    "#\n",
    "draw_func((lambda X: n2g.inv_convert(model.predict(X)) ), mark='r-', linewidth=2, label=\"Predictions\")\n",
    "draw_func((lambda X: n_sigma_boundary_line(X, +1.0) ), mark='k--', linewidth=1, label=\"$\\mu+\\sigma$\")\n",
    "draw_func((lambda X: n_sigma_boundary_line(X, -1.0) ), mark='k--', linewidth=1, label=\"$\\mu-\\sigma$\")\n",
    "#\n",
    "draw_normal_func(func_dict)\n",
    "plt.xlabel(\"$x_1$\", fontsize=18)\n",
    "plt.ylabel(\"$y$\", rotation=0, fontsize=18)\n",
    "plt.legend(loc=\"upper left\", fontsize=14)\n",
    "# plt.axis([-3, 3, 0, 10])\n",
    "save_fig(\"grid_rbc_prediction_1sigma\")\n",
    "plt.show()"
   ]
  },
  {
   "cell_type": "code",
   "execution_count": null,
   "id": "e6266336",
   "metadata": {},
   "outputs": [],
   "source": []
  },
  {
   "cell_type": "markdown",
   "id": "99a85ab5",
   "metadata": {},
   "source": [
    "# Grid & Regression by Classification + Offset Estimation (grid --> grid,num)"
   ]
  },
  {
   "cell_type": "code",
   "execution_count": 37,
   "id": "26440167",
   "metadata": {},
   "outputs": [],
   "source": [
    "class num2gridOffset_np():\n",
    "    def __init__(self, units, x_min=-10, x_max=10):\n",
    "        self.units = units\n",
    "        self.x_min = x_min\n",
    "        self.x_max = x_max\n",
    "        self.x_grid = np.linspace(self.x_min, self.x_max, self.units, endpoint=True)\n",
    "        # bins\n",
    "        x_space = np.average(self.x_grid[1:] - self.x_grid[:-1])\n",
    "        print(\"x_space = %f\" % x_space)\n",
    "        x_0 = self.x_grid[0] - 0.5 * x_space\n",
    "        self.x_bins = [x_0 + _i*x_space for _i in range(len(self.x_grid)+1)]\n",
    "        print(\"self.x_grid = %s\" % str(self.x_grid))\n",
    "#         print(\"self.x_bins = %s\" % str(self.x_bins))\n",
    "        \n",
    "    def convert(self, X):\n",
    "        '''\n",
    "        Convert a batch of number to one-hot class and numerical offset to each grid's center\n",
    "        (m, 1) --> (m, n_units, 2)\n",
    "        '''\n",
    "        X = np.array(X)\n",
    "        if len(X.shape) <= 1:\n",
    "            X = X.reshape((-1,1))\n",
    "        idxs_bin = np.digitize(X, self.x_bins, right=False) \n",
    "        idxs_grid = (idxs_bin - 1) + 1*(idxs_bin<= 0) - 1*(idxs_bin>=self.units)\n",
    "        print(idxs_grid.shape)\n",
    "        #\n",
    "        batch_size = X.shape[0]\n",
    "        grid = np.zeros((batch_size, self.units, 2))\n",
    "        # Fill in the values\n",
    "        grid[np.arange(batch_size), idxs_grid.reshape((-1,)), 0] = 1.0\n",
    "        grid[np.arange(batch_size), :, 1] = X - self.x_grid.reshape((1,-1)) # Offset\n",
    "        return grid\n",
    "    \n",
    "    def inv_convert(self, grid):\n",
    "        idxs_grid = np.argmax(grid[...,0], axis=1)\n",
    "        print(idxs_grid.shape)\n",
    "        #\n",
    "        batch_size = grid.shape[0]\n",
    "        offset_est = grid[np.arange(batch_size),idxs_grid,1]\n",
    "        print(offset_est.shape)\n",
    "        num_est = self.x_grid[idxs_grid].reshape((1,-1)) + offset_est\n",
    "        return num_est.reshape((-1,))"
   ]
  },
  {
   "cell_type": "code",
   "execution_count": 38,
   "id": "8b15e9ff",
   "metadata": {},
   "outputs": [
    {
     "name": "stdout",
     "output_type": "stream",
     "text": [
      "x_space = 22.222222\n",
      "self.x_grid = [-100.          -77.77777778  -55.55555556  -33.33333333  -11.11111111\n",
      "   11.11111111   33.33333333   55.55555556   77.77777778  100.        ]\n"
     ]
    }
   ],
   "source": [
    "class_num = 10 # 10\n",
    "n2go = num2gridOffset_np(class_num, x_min=-100.0, x_max=100.0) "
   ]
  },
  {
   "cell_type": "code",
   "execution_count": 39,
   "id": "8f6e7955",
   "metadata": {},
   "outputs": [
    {
     "name": "stdout",
     "output_type": "stream",
     "text": [
      "(2, 1)\n",
      "[[[   0.           98.8       ]\n",
      "  [   0.           76.57777778]\n",
      "  [   0.           54.35555556]\n",
      "  [   0.           32.13333333]\n",
      "  [   1.            9.91111111]\n",
      "  [   0.          -12.31111111]\n",
      "  [   0.          -34.53333333]\n",
      "  [   0.          -56.75555556]\n",
      "  [   0.          -78.97777778]\n",
      "  [   0.         -101.2       ]]\n",
      "\n",
      " [[   0.          150.5       ]\n",
      "  [   0.          128.27777778]\n",
      "  [   0.          106.05555556]\n",
      "  [   0.           83.83333333]\n",
      "  [   0.           61.61111111]\n",
      "  [   0.           39.38888889]\n",
      "  [   0.           17.16666667]\n",
      "  [   1.           -5.05555556]\n",
      "  [   0.          -27.27777778]\n",
      "  [   0.          -49.5       ]]]\n"
     ]
    }
   ],
   "source": [
    "# grid_1 = n2g.convert(-1.2)\n",
    "grid_1 = n2go.convert([[-1.2], [50.5]])\n",
    "print(grid_1)"
   ]
  },
  {
   "cell_type": "code",
   "execution_count": 40,
   "id": "48840dc5",
   "metadata": {},
   "outputs": [
    {
     "name": "stdout",
     "output_type": "stream",
     "text": [
      "(2,)\n",
      "(2,)\n"
     ]
    },
    {
     "data": {
      "text/plain": [
       "array([-1.2, 50.5])"
      ]
     },
     "execution_count": 40,
     "metadata": {},
     "output_type": "execute_result"
    }
   ],
   "source": [
    "n2go.inv_convert(grid_1)"
   ]
  },
  {
   "cell_type": "markdown",
   "id": "11683cea",
   "metadata": {},
   "source": [
    "### Convert the labels to grid (pre-processing)"
   ]
  },
  {
   "cell_type": "code",
   "execution_count": 41,
   "id": "472997cf",
   "metadata": {},
   "outputs": [
    {
     "name": "stdout",
     "output_type": "stream",
     "text": [
      "(80, 1)\n",
      "(20, 1)\n"
     ]
    }
   ],
   "source": [
    "y_train_grid_offset = n2go.convert(y_train)\n",
    "y_valid_grid_offset = n2go.convert(y_valid)"
   ]
  },
  {
   "cell_type": "code",
   "execution_count": 42,
   "id": "71f08d76",
   "metadata": {},
   "outputs": [
    {
     "name": "stdout",
     "output_type": "stream",
     "text": [
      "(80, 10, 2)\n",
      "(20, 10, 2)\n"
     ]
    }
   ],
   "source": [
    "print(y_train_grid_offset.shape)\n",
    "print(y_valid_grid_offset.shape)"
   ]
  },
  {
   "cell_type": "code",
   "execution_count": 43,
   "id": "84b5b833",
   "metadata": {},
   "outputs": [
    {
     "name": "stdout",
     "output_type": "stream",
     "text": [
      "X.shape = (None, 1)\n",
      "gauss_grid.shape = (None, 5)\n"
     ]
    }
   ],
   "source": [
    "inputs = keras.layers.Input(shape=X_train.shape[1:])\n",
    "#\n",
    "z = num2grid(5,x_min=-10, x_max=10, sigma=3.0)(inputs)\n",
    "z = keras.layers.Dense(30, activation=\"selu\")(z)\n",
    "# Outputs\n",
    "z_proba = keras.layers.Dense(30, activation=\"relu\")(z)\n",
    "z_proba  = keras.layers.Dense(class_num, activation=\"softmax\")(z_proba)\n",
    "z_offset = keras.layers.Dense(class_num, activation=\"relu\")(z)\n",
    "z_offset = keras.layers.Dense(class_num)(z_offset)\n",
    "# Concatenate\n",
    "z_proba  = keras.layers.Reshape([class_num,1])(z_proba)\n",
    "z_offset = keras.layers.Reshape([class_num,1])(z_offset)\n",
    "out_cat = keras.layers.Concatenate(axis=-1)([z_proba, z_offset])\n",
    "#\n",
    "# Models for trainig and real usage\n",
    "model = keras.Model(inputs=[inputs], outputs=[out_cat])"
   ]
  },
  {
   "cell_type": "code",
   "execution_count": 44,
   "id": "e6482574",
   "metadata": {},
   "outputs": [],
   "source": [
    "# Customized loss function\n",
    "\n",
    "cce = keras.losses.CategoricalCrossentropy(reduction=keras.losses.Reduction.NONE)\n",
    "# cce(y_true, y_pred).numpy()\n",
    "\n",
    "def centerLoss_fn(y_true, y_pred):\n",
    "    #\n",
    "    y_true_proba = y_true[...,0]\n",
    "    y_true_value = y_true[...,1]\n",
    "    #\n",
    "    y_pred_proba = y_pred[...,0]\n",
    "    y_pred_value = y_pred[...,1]\n",
    "    \n",
    "    #\n",
    "    cce_loss = cce(y_true_proba, y_pred_proba) / class_num\n",
    "    #\n",
    "    y_true_value_est = tf.reduce_sum((y_true_proba * y_true_value), axis=-1)\n",
    "    y_pred_value_est = tf.reduce_sum((y_true_proba * y_pred_value), axis=-1)\n",
    "#     y_pred_value_est = tf.reduce_sum((y_pred_proba * y_pred_value), axis=-1)\n",
    "    value_loss = tf.abs(y_pred_value_est - y_true_value_est)\n",
    "    \n",
    "    # Total loss\n",
    "#     return (0.5*cce_loss + 0.5*value_loss )\n",
    "    return (0.2*cce_loss + 0.8*value_loss )\n",
    "#     return (cce_loss)\n",
    "#     return (value_loss )"
   ]
  },
  {
   "cell_type": "code",
   "execution_count": 45,
   "id": "60575755",
   "metadata": {},
   "outputs": [
    {
     "name": "stderr",
     "output_type": "stream",
     "text": [
      "C:\\Users\\benso\\anaconda3\\envs\\ml\\lib\\site-packages\\keras\\optimizer_v2\\adam.py:105: UserWarning: The `lr` argument is deprecated, use `learning_rate` instead.\n",
      "  super(Adam, self).__init__(name, **kwargs)\n"
     ]
    }
   ],
   "source": [
    "# optimizer = keras.optimizers.SGD(lr=0.1, momentum=0.9)\n",
    "optimizer = keras.optimizers.Adam(lr=0.05)\n",
    "model.compile(loss=centerLoss_fn, optimizer=optimizer)"
   ]
  },
  {
   "cell_type": "code",
   "execution_count": 46,
   "id": "09bc47a5",
   "metadata": {
    "scrolled": true
   },
   "outputs": [],
   "source": [
    "# history = model.fit(X_train, y_train_grid_offset, epochs=100,\n",
    "#                     validation_data=(X_valid, y_valid_grid_offset))"
   ]
  },
  {
   "cell_type": "code",
   "execution_count": 47,
   "id": "7ba1fe76",
   "metadata": {},
   "outputs": [],
   "source": [
    "# import pandas as pd\n",
    "\n",
    "# pd.DataFrame(history.history).plot(figsize=(8, 5))\n",
    "# plt.grid(True)\n",
    "# # plt.gca().set_ylim(0, 1)\n",
    "# save_fig(\"grid_rbcOffset_training_curve\")\n",
    "# plt.show()"
   ]
  },
  {
   "cell_type": "code",
   "execution_count": 48,
   "id": "47db8336",
   "metadata": {
    "scrolled": false
   },
   "outputs": [],
   "source": [
    "# plt.plot(X_train, y_train, \"b.\")\n",
    "# draw_func((lambda X: n2go.inv_convert(model.predict(X)) ), mark='r-', linewidth=2, label=\"Predictions\")\n",
    "# draw_normal_func(func_dict)\n",
    "# plt.xlabel(\"$x_1$\", fontsize=18)\n",
    "# plt.ylabel(\"$y$\", rotation=0, fontsize=18)\n",
    "# plt.legend(loc=\"upper left\", fontsize=14)\n",
    "# # plt.axis([-3, 3, 0, 10])\n",
    "# save_fig(\"grid_rbcOffset_prediction\")\n",
    "# plt.show()"
   ]
  },
  {
   "cell_type": "code",
   "execution_count": 49,
   "id": "46a1a384",
   "metadata": {},
   "outputs": [],
   "source": [
    "# get_prediction_error((lambda X: n2go.inv_convert(model.predict(X)) ), func_dict, name=\"grid-classOffset\")"
   ]
  },
  {
   "cell_type": "code",
   "execution_count": null,
   "id": "fff995a6",
   "metadata": {},
   "outputs": [],
   "source": []
  },
  {
   "cell_type": "markdown",
   "id": "a811f344",
   "metadata": {},
   "source": [
    "# Parametric Uncertainty/Distribution Estimation\n",
    "\n",
    "In this section, we try to estimate uncertainty (actually, fit the dataset distribution) with parametric reprecentation of a distribution instead of a discretized non-parametric representation.\n",
    "\n",
    "Possible solution includes\n",
    "- Quantile estimation with pinball loss (statistic)\n",
    "- Guassian distribution (fit a prabability distribution)"
   ]
  },
  {
   "cell_type": "markdown",
   "id": "175eb32d",
   "metadata": {},
   "source": [
    "## Quantile Estimation with Pinball Loss (grid --> parameters)\n",
    "\n",
    "Quantile estimation and pinball loss is based on the concept of statistic, which predict the value based on the rank of samples in the dataset.\n",
    "\n",
    "The outputs of the model are $(y_{10}, y_{90})$, 10% quantile prediction and 90% quantile prediction, respectively."
   ]
  },
  {
   "cell_type": "code",
   "execution_count": 50,
   "id": "1d1ef92d",
   "metadata": {},
   "outputs": [],
   "source": [
    "# quantile_list = [0.5]\n",
    "# quantile_list = [0.9]\n",
    "quantile_list = [0.1, 0.9] # Use hidden layer with 30 neurons\n",
    "# quantile_list = [0.05, 0.95]\n",
    "# quantile_list = [0.25, 0.75]\n",
    "# quantile_list = [0.1, 0.5, 0.9]\n",
    "# quantile_list = [0.1, 0.3, 0.7, 0.9]\n",
    "# quantile_list = [0.1, 0.2, 0.3, 0.4, 0.6, 0.7, 0.8, 0.9] # remove 0.5\n",
    "# quantile_list = [0.1, 0.2, 0.3, 0.4, 0.5, 0.6, 0.7, 0.8, 0.9] # Should use wider hidden layer (with many neurons) + L1 regularization\n",
    "num_quantile = len(quantile_list)"
   ]
  },
  {
   "cell_type": "code",
   "execution_count": 51,
   "id": "8e3fe57b",
   "metadata": {},
   "outputs": [
    {
     "name": "stdout",
     "output_type": "stream",
     "text": [
      "X.shape = (None, 1)\n",
      "gauss_grid.shape = (None, 5)\n"
     ]
    }
   ],
   "source": [
    "model = keras.models.Sequential([\n",
    "    num2grid(5,x_min=-10, x_max=10, sigma=3.0, input_shape=X_train.shape[1:]),\n",
    "#     num2grid(50,x_min=-10, x_max=10, sigma=0.5, input_shape=X_train.shape[1:]),\n",
    "    keras.layers.Dense(30, activation=\"relu\"),\n",
    "#     keras.layers.Dense(60, activation=\"relu\"),\n",
    "#     keras.layers.Dense(100, activation=\"relu\", kernel_regularizer=tf.keras.regularizers.l1(0.01)),\n",
    "#     keras.layers.Dense(30, activation=keras.layers.LeakyReLU(alpha=0.2) ),\n",
    "#     keras.layers.Dense(30, activation=\"selu\"),\n",
    "    keras.layers.Dense(num_quantile) # (y10, y90)\n",
    "])"
   ]
  },
  {
   "cell_type": "code",
   "execution_count": 52,
   "id": "bf131dc7",
   "metadata": {},
   "outputs": [],
   "source": [
    "# Customized loss function\n",
    "def pinballLoss_fn(y_true, y_pred, tau):\n",
    "    # tau: quantile, tau in [0.0, 1.0]\n",
    "    # y_true: label mean\n",
    "    # y_pred: predicted tau quantile\n",
    "    _q = y_true - y_pred\n",
    "    return tf.math.maximum( (tau*_q), ((tau-1.0)*_q))\n",
    "    \n",
    "def pinballLoss_10_90_fn(y_true, y_pred):\n",
    "    #\n",
    "    return pinballLoss_fn(y_true, y_pred[:,0:1], 0.1) + pinballLoss_fn(y_true, y_pred[:,1:2], 0.9)\n",
    "\n",
    "def pinballLoss_full_fn(y_true, y_pred):\n",
    "    #\n",
    "    pinball_losses = tf.stack( [pinballLoss_fn(y_true, y_pred[:, _i:(_i+1)], _tau) for _i, _tau in enumerate(quantile_list)], axis=1)\n",
    "    return tf.reduce_sum(pinball_losses, axis=1)"
   ]
  },
  {
   "cell_type": "code",
   "execution_count": 53,
   "id": "a71305d5",
   "metadata": {},
   "outputs": [],
   "source": [
    "# optimizer = keras.optimizers.SGD(lr=0.1, momentum=0.9)\n",
    "optimizer = keras.optimizers.Adam(lr=0.1)\n",
    "# model.compile(loss=pinballLoss_10_90_fn, optimizer=optimizer)\n",
    "model.compile(loss=pinballLoss_full_fn, optimizer=optimizer)"
   ]
  },
  {
   "cell_type": "code",
   "execution_count": 54,
   "id": "d935c409",
   "metadata": {
    "scrolled": true
   },
   "outputs": [
    {
     "name": "stdout",
     "output_type": "stream",
     "text": [
      "Epoch 1/100\n",
      "X.shape = (None, 1)\n",
      "gauss_grid.shape = (None, 5)\n",
      "X.shape = (None, 1)\n",
      "gauss_grid.shape = (None, 5)\n",
      "1/3 [=========>....................] - ETA: 0s - loss: 42.3910X.shape = (None, 1)\n",
      "gauss_grid.shape = (None, 5)\n",
      "3/3 [==============================] - 1s 95ms/step - loss: 41.0556 - val_loss: 31.2403\n",
      "Epoch 2/100\n",
      "3/3 [==============================] - 0s 17ms/step - loss: 36.7093 - val_loss: 25.7834\n",
      "Epoch 3/100\n",
      "3/3 [==============================] - 0s 36ms/step - loss: 29.6143 - val_loss: 18.5435\n",
      "Epoch 4/100\n",
      "3/3 [==============================] - 0s 27ms/step - loss: 22.1241 - val_loss: 12.6381\n",
      "Epoch 5/100\n",
      "3/3 [==============================] - 0s 33ms/step - loss: 16.5137 - val_loss: 12.3717\n",
      "Epoch 6/100\n",
      "3/3 [==============================] - 0s 34ms/step - loss: 13.7279 - val_loss: 13.7016\n",
      "Epoch 7/100\n",
      "3/3 [==============================] - 0s 20ms/step - loss: 14.2204 - val_loss: 13.9120\n",
      "Epoch 8/100\n",
      "3/3 [==============================] - 0s 36ms/step - loss: 14.2038 - val_loss: 12.5014\n",
      "Epoch 9/100\n",
      "3/3 [==============================] - 0s 49ms/step - loss: 13.0198 - val_loss: 10.5648\n",
      "Epoch 10/100\n",
      "3/3 [==============================] - 0s 28ms/step - loss: 11.2344 - val_loss: 8.6344\n",
      "Epoch 11/100\n",
      "3/3 [==============================] - 0s 20ms/step - loss: 9.0643 - val_loss: 6.3023\n",
      "Epoch 12/100\n",
      "3/3 [==============================] - 0s 22ms/step - loss: 7.1138 - val_loss: 4.5464\n",
      "Epoch 13/100\n",
      "3/3 [==============================] - 0s 18ms/step - loss: 7.0987 - val_loss: 4.5290\n",
      "Epoch 14/100\n",
      "3/3 [==============================] - 0s 20ms/step - loss: 6.3368 - val_loss: 3.8175\n",
      "Epoch 15/100\n",
      "3/3 [==============================] - 0s 18ms/step - loss: 6.2951 - val_loss: 4.5864\n",
      "Epoch 16/100\n",
      "3/3 [==============================] - 0s 23ms/step - loss: 5.5514 - val_loss: 5.5453\n",
      "Epoch 17/100\n",
      "3/3 [==============================] - 0s 20ms/step - loss: 5.7816 - val_loss: 5.5705\n",
      "Epoch 18/100\n",
      "3/3 [==============================] - 0s 18ms/step - loss: 5.8030 - val_loss: 5.0757\n",
      "Epoch 19/100\n",
      "3/3 [==============================] - 0s 21ms/step - loss: 5.1639 - val_loss: 4.3058\n",
      "Epoch 20/100\n",
      "3/3 [==============================] - 0s 19ms/step - loss: 4.9271 - val_loss: 3.7765\n",
      "Epoch 21/100\n",
      "3/3 [==============================] - 0s 13ms/step - loss: 5.1572 - val_loss: 4.0166\n",
      "Epoch 22/100\n",
      "3/3 [==============================] - 0s 20ms/step - loss: 5.0143 - val_loss: 4.4571\n",
      "Epoch 23/100\n",
      "3/3 [==============================] - 0s 16ms/step - loss: 4.7117 - val_loss: 4.5571\n",
      "Epoch 24/100\n",
      "3/3 [==============================] - 0s 18ms/step - loss: 4.8110 - val_loss: 4.4245\n",
      "Epoch 25/100\n",
      "3/3 [==============================] - 0s 18ms/step - loss: 4.7262 - val_loss: 4.0741\n",
      "Epoch 26/100\n",
      "3/3 [==============================] - 0s 17ms/step - loss: 4.6027 - val_loss: 3.9194\n",
      "Epoch 27/100\n",
      "3/3 [==============================] - 0s 19ms/step - loss: 4.4486 - val_loss: 3.8779\n",
      "Epoch 28/100\n",
      "3/3 [==============================] - 0s 18ms/step - loss: 4.4612 - val_loss: 3.8732\n",
      "Epoch 29/100\n",
      "3/3 [==============================] - 0s 18ms/step - loss: 4.3782 - val_loss: 4.0673\n",
      "Epoch 30/100\n",
      "3/3 [==============================] - 0s 22ms/step - loss: 4.3910 - val_loss: 4.2693\n",
      "Epoch 31/100\n",
      "3/3 [==============================] - 0s 15ms/step - loss: 4.3845 - val_loss: 3.8061\n",
      "Epoch 32/100\n",
      "3/3 [==============================] - 0s 18ms/step - loss: 4.2824 - val_loss: 3.7620\n",
      "Epoch 33/100\n",
      "3/3 [==============================] - 0s 18ms/step - loss: 4.1132 - val_loss: 3.7786\n",
      "Epoch 34/100\n",
      "3/3 [==============================] - 0s 22ms/step - loss: 4.0535 - val_loss: 3.9856\n",
      "Epoch 35/100\n",
      "3/3 [==============================] - 0s 17ms/step - loss: 4.0634 - val_loss: 3.8658\n",
      "Epoch 36/100\n",
      "3/3 [==============================] - 0s 18ms/step - loss: 3.9948 - val_loss: 3.6959\n",
      "Epoch 37/100\n",
      "3/3 [==============================] - 0s 17ms/step - loss: 4.0633 - val_loss: 3.6448\n",
      "Epoch 38/100\n",
      "3/3 [==============================] - 0s 23ms/step - loss: 3.9034 - val_loss: 4.1703\n",
      "Epoch 39/100\n",
      "3/3 [==============================] - 0s 17ms/step - loss: 3.8481 - val_loss: 4.0557\n",
      "Epoch 40/100\n",
      "3/3 [==============================] - 0s 17ms/step - loss: 3.7589 - val_loss: 3.4869\n",
      "Epoch 41/100\n",
      "3/3 [==============================] - 0s 18ms/step - loss: 3.8550 - val_loss: 3.4481\n",
      "Epoch 42/100\n",
      "3/3 [==============================] - 0s 23ms/step - loss: 3.8878 - val_loss: 3.2832\n",
      "Epoch 43/100\n",
      "3/3 [==============================] - 0s 17ms/step - loss: 3.5434 - val_loss: 3.3627\n",
      "Epoch 44/100\n",
      "3/3 [==============================] - 0s 17ms/step - loss: 3.5109 - val_loss: 3.4574\n",
      "Epoch 45/100\n",
      "3/3 [==============================] - 0s 18ms/step - loss: 3.3994 - val_loss: 3.9333\n",
      "Epoch 46/100\n",
      "3/3 [==============================] - 0s 17ms/step - loss: 3.4643 - val_loss: 3.4631\n",
      "Epoch 47/100\n",
      "3/3 [==============================] - 0s 22ms/step - loss: 3.4352 - val_loss: 3.3203\n",
      "Epoch 48/100\n",
      "3/3 [==============================] - ETA: 0s - loss: 3.443 - 0s 18ms/step - loss: 3.2798 - val_loss: 3.2574\n",
      "Epoch 49/100\n",
      "3/3 [==============================] - 0s 18ms/step - loss: 3.2815 - val_loss: 3.1557\n",
      "Epoch 50/100\n",
      "3/3 [==============================] - 0s 18ms/step - loss: 3.2449 - val_loss: 3.1685\n",
      "Epoch 51/100\n",
      "3/3 [==============================] - 0s 18ms/step - loss: 3.1252 - val_loss: 3.4018\n",
      "Epoch 52/100\n",
      "3/3 [==============================] - 0s 23ms/step - loss: 3.1479 - val_loss: 3.1577\n",
      "Epoch 53/100\n",
      "3/3 [==============================] - 0s 15ms/step - loss: 3.2019 - val_loss: 2.8601\n",
      "Epoch 54/100\n",
      "3/3 [==============================] - 0s 20ms/step - loss: 3.0126 - val_loss: 2.9371\n",
      "Epoch 55/100\n",
      "3/3 [==============================] - 0s 18ms/step - loss: 3.0967 - val_loss: 2.9724\n",
      "Epoch 56/100\n",
      "3/3 [==============================] - 0s 21ms/step - loss: 3.0463 - val_loss: 3.2292\n",
      "Epoch 57/100\n",
      "3/3 [==============================] - 0s 18ms/step - loss: 2.9794 - val_loss: 3.0989\n",
      "Epoch 58/100\n",
      "3/3 [==============================] - 0s 18ms/step - loss: 2.9029 - val_loss: 2.7695\n",
      "Epoch 59/100\n",
      "3/3 [==============================] - 0s 19ms/step - loss: 3.0683 - val_loss: 2.9006\n",
      "Epoch 60/100\n",
      "3/3 [==============================] - 0s 23ms/step - loss: 2.9062 - val_loss: 2.9679\n",
      "Epoch 61/100\n",
      "3/3 [==============================] - 0s 15ms/step - loss: 2.7963 - val_loss: 2.8428\n",
      "Epoch 62/100\n",
      "3/3 [==============================] - 0s 18ms/step - loss: 2.8232 - val_loss: 2.7452\n",
      "Epoch 63/100\n",
      "3/3 [==============================] - 0s 19ms/step - loss: 2.7352 - val_loss: 2.8876\n",
      "Epoch 64/100\n",
      "3/3 [==============================] - 0s 21ms/step - loss: 2.7708 - val_loss: 2.9516\n",
      "Epoch 65/100\n",
      "3/3 [==============================] - 0s 23ms/step - loss: 2.7469 - val_loss: 2.8097\n",
      "Epoch 66/100\n",
      "3/3 [==============================] - 0s 18ms/step - loss: 2.7235 - val_loss: 2.6480\n",
      "Epoch 67/100\n",
      "3/3 [==============================] - 0s 18ms/step - loss: 2.6793 - val_loss: 3.0667\n",
      "Epoch 68/100\n",
      "3/3 [==============================] - 0s 17ms/step - loss: 3.0037 - val_loss: 3.2833\n",
      "Epoch 69/100\n",
      "3/3 [==============================] - 0s 21ms/step - loss: 3.0183 - val_loss: 3.0650\n",
      "Epoch 70/100\n",
      "3/3 [==============================] - 0s 22ms/step - loss: 2.9406 - val_loss: 2.8863\n",
      "Epoch 71/100\n",
      "3/3 [==============================] - 0s 19ms/step - loss: 2.6869 - val_loss: 3.3508\n",
      "Epoch 72/100\n",
      "3/3 [==============================] - 0s 19ms/step - loss: 3.4516 - val_loss: 3.1236\n",
      "Epoch 73/100\n",
      "3/3 [==============================] - 0s 18ms/step - loss: 2.9383 - val_loss: 3.0796\n",
      "Epoch 74/100\n",
      "3/3 [==============================] - 0s 19ms/step - loss: 2.7453 - val_loss: 2.7150\n",
      "Epoch 75/100\n",
      "3/3 [==============================] - 0s 20ms/step - loss: 2.7900 - val_loss: 2.8122\n",
      "Epoch 76/100\n",
      "3/3 [==============================] - 0s 17ms/step - loss: 2.7826 - val_loss: 2.8709\n",
      "Epoch 77/100\n",
      "3/3 [==============================] - 0s 21ms/step - loss: 2.7396 - val_loss: 2.9833\n",
      "Epoch 78/100\n",
      "3/3 [==============================] - 0s 21ms/step - loss: 2.7572 - val_loss: 2.7059\n",
      "Epoch 79/100\n",
      "3/3 [==============================] - 0s 21ms/step - loss: 2.7702 - val_loss: 2.8454\n",
      "Epoch 80/100\n",
      "3/3 [==============================] - 0s 18ms/step - loss: 2.7088 - val_loss: 2.7260\n",
      "Epoch 81/100\n"
     ]
    },
    {
     "name": "stdout",
     "output_type": "stream",
     "text": [
      "3/3 [==============================] - 0s 18ms/step - loss: 2.8710 - val_loss: 2.7323\n",
      "Epoch 82/100\n",
      "3/3 [==============================] - 0s 22ms/step - loss: 2.6022 - val_loss: 2.6291\n",
      "Epoch 83/100\n",
      "3/3 [==============================] - 0s 19ms/step - loss: 2.5935 - val_loss: 2.6852\n",
      "Epoch 84/100\n",
      "3/3 [==============================] - 0s 22ms/step - loss: 2.6017 - val_loss: 2.8583\n",
      "Epoch 85/100\n",
      "3/3 [==============================] - 0s 14ms/step - loss: 2.6583 - val_loss: 2.6792\n",
      "Epoch 86/100\n",
      "3/3 [==============================] - 0s 22ms/step - loss: 2.5874 - val_loss: 2.7323\n",
      "Epoch 87/100\n",
      "3/3 [==============================] - 0s 17ms/step - loss: 2.9805 - val_loss: 3.1729\n",
      "Epoch 88/100\n",
      "3/3 [==============================] - 0s 18ms/step - loss: 3.2016 - val_loss: 3.5308\n",
      "Epoch 89/100\n",
      "3/3 [==============================] - 0s 19ms/step - loss: 3.3555 - val_loss: 3.5808\n",
      "Epoch 90/100\n",
      "3/3 [==============================] - 0s 14ms/step - loss: 3.2116 - val_loss: 2.9380\n",
      "Epoch 91/100\n",
      "3/3 [==============================] - 0s 18ms/step - loss: 2.7803 - val_loss: 2.8023\n",
      "Epoch 92/100\n",
      "3/3 [==============================] - 0s 20ms/step - loss: 2.7068 - val_loss: 2.5522\n",
      "Epoch 93/100\n",
      "3/3 [==============================] - 0s 17ms/step - loss: 2.5954 - val_loss: 2.7810\n",
      "Epoch 94/100\n",
      "3/3 [==============================] - 0s 14ms/step - loss: 2.6143 - val_loss: 2.6397\n",
      "Epoch 95/100\n",
      "3/3 [==============================] - 0s 22ms/step - loss: 2.6834 - val_loss: 2.7307\n",
      "Epoch 96/100\n",
      "3/3 [==============================] - 0s 18ms/step - loss: 2.9782 - val_loss: 2.7112\n",
      "Epoch 97/100\n",
      "3/3 [==============================] - 0s 14ms/step - loss: 2.6167 - val_loss: 2.8629\n",
      "Epoch 98/100\n",
      "3/3 [==============================] - 0s 20ms/step - loss: 2.5915 - val_loss: 2.5325\n",
      "Epoch 99/100\n",
      "3/3 [==============================] - 0s 22ms/step - loss: 2.5092 - val_loss: 2.4429\n",
      "Epoch 100/100\n",
      "3/3 [==============================] - 0s 18ms/step - loss: 2.5234 - val_loss: 2.7576\n"
     ]
    }
   ],
   "source": [
    "history = model.fit(X_train, y_train, epochs=100,\n",
    "                    validation_data=(X_valid, y_valid))"
   ]
  },
  {
   "cell_type": "code",
   "execution_count": 55,
   "id": "e7fa5656",
   "metadata": {
    "scrolled": false
   },
   "outputs": [
    {
     "name": "stdout",
     "output_type": "stream",
     "text": [
      "Saving figure grid_quantile_training_curve\n"
     ]
    },
    {
     "data": {
      "image/png": "[encoded data removed]",
      "text/plain": [
       "<Figure size 576x360 with 1 Axes>"
      ]
     },
     "metadata": {
      "needs_background": "light"
     },
     "output_type": "display_data"
    }
   ],
   "source": [
    "import pandas as pd\n",
    "\n",
    "pd.DataFrame(history.history).plot(figsize=(8, 5))\n",
    "plt.grid(True)\n",
    "# plt.gca().set_ylim(0, 1)\n",
    "save_fig(\"grid_quantile_training_curve\")\n",
    "plt.show()"
   ]
  },
  {
   "cell_type": "markdown",
   "id": "a4a59dd6",
   "metadata": {},
   "source": [
    "### Draw the mean prediction curve averaged from all quantile predictions."
   ]
  },
  {
   "cell_type": "code",
   "execution_count": 56,
   "id": "0e5d0058",
   "metadata": {},
   "outputs": [
    {
     "name": "stdout",
     "output_type": "stream",
     "text": [
      "X.shape = (None, 1)\n",
      "gauss_grid.shape = (None, 5)\n",
      "Saving figure grid_quantile_prediction\n"
     ]
    },
    {
     "data": {
      "image/png": "[encoded data removed]",
      "text/plain": [
       "<Figure size 432x288 with 1 Axes>"
      ]
     },
     "metadata": {
      "needs_background": "light"
     },
     "output_type": "display_data"
    }
   ],
   "source": [
    "plt.plot(X_train, y_train, \"b.\")\n",
    "draw_func((lambda X: np.average(model.predict(X), axis=-1) ), mark='r-', linewidth=2, label=\"Predictions\")\n",
    "# draw_func((lambda X: model.predict(X)[:,0] ), mark='k--', linewidth=1, label=\"$y_{%d}$\" % (quantile_list[0]*100))\n",
    "# draw_func((lambda X: model.predict(X)[:,-1] ), mark='k--', linewidth=1, label=\"$y_{%d}$\" % (quantile_list[-1]*100))\n",
    "draw_normal_func(func_dict)\n",
    "plt.xlabel(\"$x_1$\", fontsize=18)\n",
    "plt.ylabel(\"$y$\", rotation=0, fontsize=18)\n",
    "plt.legend(loc=\"upper left\", fontsize=14)\n",
    "# plt.axis([-3, 3, 0, 10])\n",
    "save_fig(\"grid_quantile_prediction\")\n",
    "plt.show()"
   ]
  },
  {
   "cell_type": "code",
   "execution_count": 57,
   "id": "f98d3ae8",
   "metadata": {},
   "outputs": [
    {
     "name": "stdout",
     "output_type": "stream",
     "text": [
      "y_func.shape = (100, 1)\n",
      "y_gt.shape = (100, 1)\n"
     ]
    },
    {
     "data": {
      "text/plain": [
       "1.662495768911993"
      ]
     },
     "execution_count": 57,
     "metadata": {},
     "output_type": "execute_result"
    }
   ],
   "source": [
    "get_prediction_error((lambda X: np.average(model.predict(X), axis=-1) ), func_dict, name=\"grid-quantileR\")"
   ]
  },
  {
   "cell_type": "markdown",
   "id": "f79ac920",
   "metadata": {},
   "source": [
    "### Draw first and last quantile curve."
   ]
  },
  {
   "cell_type": "code",
   "execution_count": 58,
   "id": "42eeb254",
   "metadata": {},
   "outputs": [
    {
     "name": "stdout",
     "output_type": "stream",
     "text": [
      "Saving figure grid_quantile_boundary_quantiles\n"
     ]
    },
    {
     "data": {
      "image/png": "[encoded data removed]",
      "text/plain": [
       "<Figure size 432x288 with 1 Axes>"
      ]
     },
     "metadata": {
      "needs_background": "light"
     },
     "output_type": "display_data"
    }
   ],
   "source": [
    "plt.plot(X_train, y_train, \"b.\")\n",
    "draw_func((lambda X: np.average(model.predict(X), axis=-1) ), mark='r-', linewidth=2, label=\"Predictions\")\n",
    "draw_func((lambda X: model.predict(X)[:,0] ), mark='k--', linewidth=1, label=\"$y_{%d}$\" % (quantile_list[0]*100))\n",
    "draw_func((lambda X: model.predict(X)[:,-1] ), mark='k--', linewidth=1, label=\"$y_{%d}$\" % (quantile_list[-1]*100))\n",
    "draw_normal_func(func_dict)\n",
    "plt.xlabel(\"$x_1$\", fontsize=18)\n",
    "plt.ylabel(\"$y$\", rotation=0, fontsize=18)\n",
    "plt.legend(loc=\"upper left\", fontsize=14)\n",
    "# plt.axis([-3, 3, 0, 10])\n",
    "save_fig(\"grid_quantile_boundary_quantiles\")\n",
    "plt.show()"
   ]
  },
  {
   "cell_type": "markdown",
   "id": "2a1b1b44",
   "metadata": {},
   "source": [
    "### Draw all quantile predictions"
   ]
  },
  {
   "cell_type": "code",
   "execution_count": 59,
   "id": "5e875238",
   "metadata": {},
   "outputs": [
    {
     "name": "stdout",
     "output_type": "stream",
     "text": [
      "Saving figure grid_quantile_all_quantiles\n"
     ]
    },
    {
     "data": {
      "image/png": "[encoded data removed]",
      "text/plain": [
       "<Figure size 432x288 with 1 Axes>"
      ]
     },
     "metadata": {
      "needs_background": "light"
     },
     "output_type": "display_data"
    }
   ],
   "source": [
    "plt.plot(X_train, y_train, \"b.\")\n",
    "draw_func((lambda X: np.average(model.predict(X), axis=-1) ), mark='r-', linewidth=2, label=\"Predictions\")\n",
    "for _idx, _tau in enumerate(quantile_list):\n",
    "    draw_func((lambda X: model.predict(X)[:,_idx] ), mark='k--', linewidth=1, label=\"$y_{%d}$\" % (_tau*100))\n",
    "draw_normal_func(func_dict)\n",
    "plt.xlabel(\"$x_1$\", fontsize=18)\n",
    "plt.ylabel(\"$y$\", rotation=0, fontsize=18)\n",
    "plt.legend(loc=\"upper left\", fontsize=14)\n",
    "# plt.axis([-3, 3, 0, 10])\n",
    "save_fig(\"grid_quantile_all_quantiles\")\n",
    "plt.show()"
   ]
  },
  {
   "cell_type": "markdown",
   "id": "0693a8eb",
   "metadata": {},
   "source": [
    "### Multi-Quantiles as a Gaussian Distribution "
   ]
  },
  {
   "cell_type": "code",
   "execution_count": 60,
   "id": "11262fbe",
   "metadata": {},
   "outputs": [],
   "source": [
    "# def n_sigma_boundary_line(X, n):\n",
    "#     _y = model.predict(X)\n",
    "#     _mean = np.mean(_y, axis=-1)\n",
    "#     _sigma = np.std(_y, axis=-1)\n",
    "#     return( _mean + n*_sigma)\n",
    "\n",
    "# plt.plot(X_train, y_train, \"b.\")\n",
    "# #\n",
    "# draw_func((lambda X: np.average(model.predict(X), axis=-1) ), mark='r-', linewidth=2, label=\"Predictions\")\n",
    "# draw_func((lambda X: n_sigma_boundary_line(X, +1.0) ), mark='k--', linewidth=1, label=\"$\\mu+\\sigma$\")\n",
    "# draw_func((lambda X: n_sigma_boundary_line(X, -1.0) ), mark='k--', linewidth=1, label=\"$\\mu-\\sigma$\")\n",
    "# #\n",
    "# draw_normal_func(func_dict)\n",
    "# plt.xlabel(\"$x_1$\", fontsize=18)\n",
    "# plt.ylabel(\"$y$\", rotation=0, fontsize=18)\n",
    "# plt.legend(loc=\"upper left\", fontsize=14)\n",
    "# # plt.axis([-3, 3, 0, 10])\n",
    "# save_fig(\"grid_quantile_1sigma\")\n",
    "# plt.show()"
   ]
  },
  {
   "cell_type": "markdown",
   "id": "9a01aa69",
   "metadata": {},
   "source": [
    "## Gaussian Estimation with Gaussian Loss (grid-->parameters)\n",
    "\n",
    "Gaussain estimation requires the model to predict the mean and variance of a Gaussian distribution of the random variable regarded. The training purpose is to fit a Gaussian distribution to the data distribution (which is not necessay distributed as Gaussian).\n",
    "\n",
    "One possible solution, derived by BensonHuang, is that the model estimates $(\\mu, z)$, where $z=\\alpha ^{-1}log(\\sigma)$.\n",
    "The associated loss function can be $L_G(y, (\\mu,z)) = 0.5e^{-2\\alpha z}(y-\\mu)^2 + \\alpha z$."
   ]
  },
  {
   "cell_type": "code",
   "execution_count": 61,
   "id": "1a20d5dd",
   "metadata": {},
   "outputs": [],
   "source": [
    "alpha = 1.0\n",
    "# alpha = 0.01\n",
    "# alpha = 0.001"
   ]
  },
  {
   "cell_type": "code",
   "execution_count": 62,
   "id": "cb202ed2",
   "metadata": {},
   "outputs": [
    {
     "name": "stdout",
     "output_type": "stream",
     "text": [
      "X.shape = (None, 1)\n",
      "gauss_grid.shape = (None, 5)\n"
     ]
    }
   ],
   "source": [
    "model = keras.models.Sequential([\n",
    "    num2grid(5,x_min=-10, x_max=10, sigma=3.0, input_shape=X_train.shape[1:]),\n",
    "#     keras.layers.Dense(30, activation=\"relu\"),\n",
    "    keras.layers.Dense(60, activation=\"relu\"),\n",
    "#     keras.layers.Dense(30, activation=keras.layers.LeakyReLU(alpha=0.2) ),\n",
    "#     keras.layers.Dense(30, activation=\"selu\"),\n",
    "    keras.layers.Dense(2) # (mu, z)\n",
    "])"
   ]
  },
  {
   "cell_type": "code",
   "execution_count": 63,
   "id": "925f0a22",
   "metadata": {},
   "outputs": [
    {
     "name": "stdout",
     "output_type": "stream",
     "text": [
      "alpha = 1.000000\n"
     ]
    }
   ],
   "source": [
    "# Customized loss function\n",
    "print(\"alpha = %f\" % alpha)\n",
    "\n",
    "def GaussianLoss_fn(y_true, y_pred):\n",
    "    # y_true: label \n",
    "    # y_pred: (mu, z), z=log(sigma)\n",
    "    mu = y_pred[:, 0:1]\n",
    "    z  = y_pred[:, 1:2]\n",
    "    #\n",
    "    en2z = tf.math.exp((-2.0*alpha)*z)\n",
    "    ymu2 = (y_true - mu)**2\n",
    "    return (0.5*en2z*ymu2 + alpha*z)"
   ]
  },
  {
   "cell_type": "code",
   "execution_count": 64,
   "id": "1b388b4b",
   "metadata": {},
   "outputs": [],
   "source": [
    "# Learning rate scheduler\n",
    "learning_rate_switch_epoch_list = [30, 45]\n",
    "learning_rate_list = [0.001, 0.01, 0.1]\n",
    "# learning_rate_switch_epoch_list = [30, 80]\n",
    "# learning_rate_list = [0.01, 0.1, 0.01]\n",
    "#\n",
    "def piecewise_constant_fn(epoch):\n",
    "    for _i, epoch_s in enumerate(learning_rate_switch_epoch_list):\n",
    "        if epoch < epoch_s:\n",
    "            return learning_rate_list[_i]\n",
    "    return learning_rate_list[-1]\n",
    "\n",
    "lr_scheduler = keras.callbacks.LearningRateScheduler(piecewise_constant_fn)"
   ]
  },
  {
   "cell_type": "markdown",
   "id": "6ec2e05e",
   "metadata": {},
   "source": [
    "Third training with even greater speed"
   ]
  },
  {
   "cell_type": "code",
   "execution_count": 65,
   "id": "7a7e245b",
   "metadata": {},
   "outputs": [
    {
     "name": "stderr",
     "output_type": "stream",
     "text": [
      "C:\\Users\\benso\\anaconda3\\envs\\ml\\lib\\site-packages\\keras\\optimizer_v2\\adam.py:105: UserWarning: The `lr` argument is deprecated, use `learning_rate` instead.\n",
      "  super(Adam, self).__init__(name, **kwargs)\n"
     ]
    }
   ],
   "source": [
    "# optimizer = keras.optimizers.SGD(lr=0.1, momentum=0.9)\n",
    "optimizer = keras.optimizers.Adam(lr=0.1)\n",
    "model.compile(loss=GaussianLoss_fn, optimizer=optimizer)"
   ]
  },
  {
   "cell_type": "code",
   "execution_count": 66,
   "id": "6d7b74a9",
   "metadata": {
    "scrolled": true
   },
   "outputs": [
    {
     "name": "stdout",
     "output_type": "stream",
     "text": [
      "Epoch 1/200\n",
      "X.shape = (None, 1)\n",
      "gauss_grid.shape = (None, 5)\n",
      "X.shape = (None, 1)\n",
      "gauss_grid.shape = (None, 5)\n",
      "1/3 [=========>....................] - ETA: 0s - loss: 1303.0731X.shape = (None, 1)\n",
      "gauss_grid.shape = (None, 5)\n",
      "3/3 [==============================] - 1s 84ms/step - loss: 532.2187 - val_loss: 6.2785\n",
      "Epoch 2/200\n",
      "3/3 [==============================] - 0s 15ms/step - loss: 7.8004 - val_loss: 11.7693\n",
      "Epoch 3/200\n",
      "3/3 [==============================] - 0s 32ms/step - loss: 12.9885 - val_loss: 15.9217\n",
      "Epoch 4/200\n",
      "3/3 [==============================] - 0s 42ms/step - loss: 16.8454 - val_loss: 18.7982\n",
      "Epoch 5/200\n",
      "3/3 [==============================] - 0s 41ms/step - loss: 19.4986 - val_loss: 20.5803\n",
      "Epoch 6/200\n",
      "3/3 [==============================] - 0s 23ms/step - loss: 21.1227 - val_loss: 21.4838\n",
      "Epoch 7/200\n",
      "3/3 [==============================] - 0s 27ms/step - loss: 21.9352 - val_loss: 21.7525\n",
      "Epoch 8/200\n",
      "3/3 [==============================] - 0s 36ms/step - loss: 22.1535 - val_loss: 21.5940\n",
      "Epoch 9/200\n",
      "3/3 [==============================] - 0s 37ms/step - loss: 21.9431 - val_loss: 21.1132\n",
      "Epoch 10/200\n",
      "3/3 [==============================] - 0s 21ms/step - loss: 21.3848 - val_loss: 20.3668\n",
      "Epoch 11/200\n",
      "3/3 [==============================] - 0s 21ms/step - loss: 20.5648 - val_loss: 19.4066\n",
      "Epoch 12/200\n",
      "3/3 [==============================] - 0s 17ms/step - loss: 19.5379 - val_loss: 18.2837\n",
      "Epoch 13/200\n",
      "3/3 [==============================] - 0s 18ms/step - loss: 18.3577 - val_loss: 17.0607\n",
      "Epoch 14/200\n",
      "3/3 [==============================] - 0s 20ms/step - loss: 17.0900 - val_loss: 15.7917\n",
      "Epoch 15/200\n",
      "3/3 [==============================] - 0s 18ms/step - loss: 15.7368 - val_loss: 14.4322\n",
      "Epoch 16/200\n",
      "3/3 [==============================] - 0s 21ms/step - loss: 14.2683 - val_loss: 12.9809\n",
      "Epoch 17/200\n",
      "3/3 [==============================] - 0s 23ms/step - loss: 12.7188 - val_loss: 11.4308\n",
      "Epoch 18/200\n",
      "3/3 [==============================] - 0s 20ms/step - loss: 11.0664 - val_loss: 9.7464\n",
      "Epoch 19/200\n",
      "3/3 [==============================] - 0s 20ms/step - loss: 9.2219 - val_loss: 7.9026\n",
      "Epoch 20/200\n",
      "3/3 [==============================] - 0s 22ms/step - loss: 7.2218 - val_loss: 5.8877\n",
      "Epoch 21/200\n",
      "3/3 [==============================] - 0s 20ms/step - loss: 5.3513 - val_loss: 5.3058\n",
      "Epoch 22/200\n",
      "3/3 [==============================] - 0s 23ms/step - loss: 5.4029 - val_loss: 4.3783\n",
      "Epoch 23/200\n",
      "3/3 [==============================] - 0s 25ms/step - loss: 4.4137 - val_loss: 4.3561\n",
      "Epoch 24/200\n",
      "3/3 [==============================] - 0s 19ms/step - loss: 4.4705 - val_loss: 4.1583\n",
      "Epoch 25/200\n",
      "3/3 [==============================] - 0s 19ms/step - loss: 4.2833 - val_loss: 4.6809\n",
      "Epoch 26/200\n",
      "3/3 [==============================] - 0s 27ms/step - loss: 4.4408 - val_loss: 4.5737\n",
      "Epoch 27/200\n",
      "3/3 [==============================] - 0s 20ms/step - loss: 4.2417 - val_loss: 4.0490\n",
      "Epoch 28/200\n",
      "3/3 [==============================] - 0s 16ms/step - loss: 4.1047 - val_loss: 3.9855\n",
      "Epoch 29/200\n",
      "3/3 [==============================] - 0s 23ms/step - loss: 4.0779 - val_loss: 3.9621\n",
      "Epoch 30/200\n",
      "3/3 [==============================] - 0s 15ms/step - loss: 4.0924 - val_loss: 3.9939\n",
      "Epoch 31/200\n",
      "3/3 [==============================] - 0s 20ms/step - loss: 4.1088 - val_loss: 3.9699\n",
      "Epoch 32/200\n",
      "3/3 [==============================] - 0s 23ms/step - loss: 4.0709 - val_loss: 3.9682\n",
      "Epoch 33/200\n",
      "3/3 [==============================] - 0s 21ms/step - loss: 4.0496 - val_loss: 3.9310\n",
      "Epoch 34/200\n",
      "3/3 [==============================] - 0s 28ms/step - loss: 4.0094 - val_loss: 3.9796\n",
      "Epoch 35/200\n",
      "3/3 [==============================] - 0s 27ms/step - loss: 4.0099 - val_loss: 3.9840\n",
      "Epoch 36/200\n",
      "3/3 [==============================] - 0s 23ms/step - loss: 4.0025 - val_loss: 3.9590\n",
      "Epoch 37/200\n",
      "3/3 [==============================] - 0s 20ms/step - loss: 3.9942 - val_loss: 3.9419\n",
      "Epoch 38/200\n",
      "3/3 [==============================] - 0s 22ms/step - loss: 3.9830 - val_loss: 3.9310\n",
      "Epoch 39/200\n",
      "3/3 [==============================] - 0s 20ms/step - loss: 3.9678 - val_loss: 3.9286\n",
      "Epoch 40/200\n",
      "3/3 [==============================] - 0s 21ms/step - loss: 3.9595 - val_loss: 3.9163\n",
      "Epoch 41/200\n",
      "3/3 [==============================] - 0s 23ms/step - loss: 3.9490 - val_loss: 3.9081\n",
      "Epoch 42/200\n",
      "3/3 [==============================] - 0s 22ms/step - loss: 3.9408 - val_loss: 3.9044\n",
      "Epoch 43/200\n",
      "3/3 [==============================] - 0s 19ms/step - loss: 3.9265 - val_loss: 3.9138\n",
      "Epoch 44/200\n",
      "3/3 [==============================] - 0s 15ms/step - loss: 3.9142 - val_loss: 3.9313\n",
      "Epoch 45/200\n",
      "3/3 [==============================] - 0s 22ms/step - loss: 3.9014 - val_loss: 3.9147\n",
      "Epoch 46/200\n",
      "3/3 [==============================] - 0s 18ms/step - loss: 3.8858 - val_loss: 3.9027\n",
      "Epoch 47/200\n",
      "3/3 [==============================] - 0s 20ms/step - loss: 3.8686 - val_loss: 3.9094\n",
      "Epoch 48/200\n",
      "3/3 [==============================] - 0s 22ms/step - loss: 3.8486 - val_loss: 3.9068\n",
      "Epoch 49/200\n",
      "3/3 [==============================] - 0s 29ms/step - loss: 3.8285 - val_loss: 3.8854\n",
      "Epoch 50/200\n",
      "3/3 [==============================] - 0s 28ms/step - loss: 3.8057 - val_loss: 3.8830\n",
      "Epoch 51/200\n",
      "3/3 [==============================] - 0s 24ms/step - loss: 3.7787 - val_loss: 3.8866\n",
      "Epoch 52/200\n",
      "3/3 [==============================] - 0s 22ms/step - loss: 3.7574 - val_loss: 3.8846\n",
      "Epoch 53/200\n",
      "3/3 [==============================] - 0s 30ms/step - loss: 3.7339 - val_loss: 3.8426\n",
      "Epoch 54/200\n",
      "3/3 [==============================] - 0s 21ms/step - loss: 3.7027 - val_loss: 3.8275\n",
      "Epoch 55/200\n",
      "3/3 [==============================] - 0s 17ms/step - loss: 3.6785 - val_loss: 3.8044\n",
      "Epoch 56/200\n",
      "3/3 [==============================] - 0s 32ms/step - loss: 3.6589 - val_loss: 3.7843\n",
      "Epoch 57/200\n",
      "3/3 [==============================] - 0s 20ms/step - loss: 3.6404 - val_loss: 3.7645\n",
      "Epoch 58/200\n",
      "3/3 [==============================] - 0s 17ms/step - loss: 3.6246 - val_loss: 3.7416\n",
      "Epoch 59/200\n",
      "3/3 [==============================] - 0s 15ms/step - loss: 3.6119 - val_loss: 3.7130\n",
      "Epoch 60/200\n",
      "3/3 [==============================] - 0s 26ms/step - loss: 3.5905 - val_loss: 3.6862\n",
      "Epoch 61/200\n",
      "3/3 [==============================] - 0s 34ms/step - loss: 3.5741 - val_loss: 3.6603\n",
      "Epoch 62/200\n",
      "3/3 [==============================] - 0s 31ms/step - loss: 3.5524 - val_loss: 3.6397\n",
      "Epoch 63/200\n",
      "3/3 [==============================] - 0s 28ms/step - loss: 3.5387 - val_loss: 3.6106\n",
      "Epoch 64/200\n",
      "3/3 [==============================] - 0s 20ms/step - loss: 3.5154 - val_loss: 3.5823\n",
      "Epoch 65/200\n",
      "3/3 [==============================] - 0s 13ms/step - loss: 3.4965 - val_loss: 3.5553\n",
      "Epoch 66/200\n",
      "3/3 [==============================] - 0s 26ms/step - loss: 3.4725 - val_loss: 3.5282\n",
      "Epoch 67/200\n",
      "3/3 [==============================] - 0s 19ms/step - loss: 3.4532 - val_loss: 3.5050\n",
      "Epoch 68/200\n",
      "3/3 [==============================] - 0s 20ms/step - loss: 3.4381 - val_loss: 3.4847\n",
      "Epoch 69/200\n",
      "3/3 [==============================] - 0s 28ms/step - loss: 3.4187 - val_loss: 3.4386\n",
      "Epoch 70/200\n",
      "3/3 [==============================] - 0s 30ms/step - loss: 3.3980 - val_loss: 3.4073\n",
      "Epoch 71/200\n",
      "3/3 [==============================] - 0s 27ms/step - loss: 3.3901 - val_loss: 3.3828\n",
      "Epoch 72/200\n",
      "3/3 [==============================] - 0s 24ms/step - loss: 3.3803 - val_loss: 3.3798\n",
      "Epoch 73/200\n",
      "3/3 [==============================] - 0s 23ms/step - loss: 3.3500 - val_loss: 3.3686\n",
      "Epoch 74/200\n",
      "3/3 [==============================] - 0s 17ms/step - loss: 3.3493 - val_loss: 3.3563\n",
      "Epoch 75/200\n",
      "3/3 [==============================] - 0s 28ms/step - loss: 3.3231 - val_loss: 3.3361\n",
      "Epoch 76/200\n",
      "3/3 [==============================] - 0s 20ms/step - loss: 3.3155 - val_loss: 3.3184\n",
      "Epoch 77/200\n",
      "3/3 [==============================] - 0s 31ms/step - loss: 3.3304 - val_loss: 3.3076\n",
      "Epoch 78/200\n",
      "3/3 [==============================] - 0s 17ms/step - loss: 3.3338 - val_loss: 3.3721\n",
      "Epoch 79/200\n",
      "3/3 [==============================] - 0s 19ms/step - loss: 3.3519 - val_loss: 3.3545\n",
      "Epoch 80/200\n",
      "3/3 [==============================] - 0s 23ms/step - loss: 3.3545 - val_loss: 3.3546\n",
      "Epoch 81/200\n"
     ]
    },
    {
     "name": "stdout",
     "output_type": "stream",
     "text": [
      "3/3 [==============================] - 0s 19ms/step - loss: 3.3171 - val_loss: 3.3775\n",
      "Epoch 82/200\n",
      "3/3 [==============================] - 0s 21ms/step - loss: 3.3640 - val_loss: 3.3299\n",
      "Epoch 83/200\n",
      "3/3 [==============================] - 0s 21ms/step - loss: 3.2953 - val_loss: 3.3354\n",
      "Epoch 84/200\n",
      "3/3 [==============================] - 0s 21ms/step - loss: 3.2790 - val_loss: 3.2822\n",
      "Epoch 85/200\n",
      "3/3 [==============================] - 0s 21ms/step - loss: 3.2736 - val_loss: 3.2527\n",
      "Epoch 86/200\n",
      "3/3 [==============================] - 0s 18ms/step - loss: 3.2579 - val_loss: 3.2599\n",
      "Epoch 87/200\n",
      "3/3 [==============================] - 0s 17ms/step - loss: 3.2814 - val_loss: 3.2667\n",
      "Epoch 88/200\n",
      "3/3 [==============================] - 0s 22ms/step - loss: 3.2561 - val_loss: 3.2825\n",
      "Epoch 89/200\n",
      "3/3 [==============================] - 0s 14ms/step - loss: 3.2458 - val_loss: 3.3002\n",
      "Epoch 90/200\n",
      "3/3 [==============================] - 0s 21ms/step - loss: 3.2417 - val_loss: 3.2757\n",
      "Epoch 91/200\n",
      "3/3 [==============================] - 0s 14ms/step - loss: 3.2207 - val_loss: 3.2607\n",
      "Epoch 92/200\n",
      "3/3 [==============================] - 0s 17ms/step - loss: 3.2319 - val_loss: 3.2346\n",
      "Epoch 93/200\n",
      "3/3 [==============================] - 0s 19ms/step - loss: 3.2324 - val_loss: 3.2300\n",
      "Epoch 94/200\n",
      "3/3 [==============================] - 0s 23ms/step - loss: 3.2130 - val_loss: 3.2533\n",
      "Epoch 95/200\n",
      "3/3 [==============================] - 0s 19ms/step - loss: 3.2052 - val_loss: 3.2523\n",
      "Epoch 96/200\n",
      "3/3 [==============================] - 0s 18ms/step - loss: 3.2053 - val_loss: 3.2425\n",
      "Epoch 97/200\n",
      "3/3 [==============================] - 0s 21ms/step - loss: 3.2106 - val_loss: 3.2579\n",
      "Epoch 98/200\n",
      "3/3 [==============================] - 0s 18ms/step - loss: 3.2013 - val_loss: 3.2536\n",
      "Epoch 99/200\n",
      "3/3 [==============================] - 0s 17ms/step - loss: 3.1753 - val_loss: 3.2243\n",
      "Epoch 100/200\n",
      "3/3 [==============================] - 0s 21ms/step - loss: 3.1551 - val_loss: 3.1863\n",
      "Epoch 101/200\n",
      "3/3 [==============================] - 0s 21ms/step - loss: 3.1520 - val_loss: 3.1596\n",
      "Epoch 102/200\n",
      "3/3 [==============================] - 0s 17ms/step - loss: 3.1537 - val_loss: 3.1526\n",
      "Epoch 103/200\n",
      "3/3 [==============================] - 0s 17ms/step - loss: 3.1451 - val_loss: 3.1860\n",
      "Epoch 104/200\n",
      "3/3 [==============================] - 0s 22ms/step - loss: 3.1272 - val_loss: 3.1975\n",
      "Epoch 105/200\n",
      "3/3 [==============================] - 0s 14ms/step - loss: 3.1256 - val_loss: 3.1760\n",
      "Epoch 106/200\n",
      "3/3 [==============================] - 0s 21ms/step - loss: 3.1192 - val_loss: 3.1485\n",
      "Epoch 107/200\n",
      "3/3 [==============================] - 0s 14ms/step - loss: 3.0990 - val_loss: 3.1329\n",
      "Epoch 108/200\n",
      "3/3 [==============================] - 0s 17ms/step - loss: 3.0895 - val_loss: 3.1473\n",
      "Epoch 109/200\n",
      "3/3 [==============================] - 0s 21ms/step - loss: 3.0817 - val_loss: 3.1375\n",
      "Epoch 110/200\n",
      "3/3 [==============================] - 0s 17ms/step - loss: 3.0718 - val_loss: 3.0998\n",
      "Epoch 111/200\n",
      "3/3 [==============================] - 0s 16ms/step - loss: 3.0720 - val_loss: 3.1118\n",
      "Epoch 112/200\n",
      "3/3 [==============================] - 0s 20ms/step - loss: 3.0885 - val_loss: 3.1489\n",
      "Epoch 113/200\n",
      "3/3 [==============================] - 0s 21ms/step - loss: 3.0672 - val_loss: 3.1470\n",
      "Epoch 114/200\n",
      "3/3 [==============================] - 0s 20ms/step - loss: 3.0479 - val_loss: 3.1059\n",
      "Epoch 115/200\n",
      "3/3 [==============================] - 0s 21ms/step - loss: 3.0160 - val_loss: 3.0665\n",
      "Epoch 116/200\n",
      "3/3 [==============================] - 0s 17ms/step - loss: 3.0020 - val_loss: 3.0370\n",
      "Epoch 117/200\n",
      "3/3 [==============================] - 0s 19ms/step - loss: 3.0061 - val_loss: 3.0530\n",
      "Epoch 118/200\n",
      "3/3 [==============================] - 0s 18ms/step - loss: 2.9815 - val_loss: 3.0878\n",
      "Epoch 119/200\n",
      "3/3 [==============================] - 0s 22ms/step - loss: 2.9845 - val_loss: 3.0718\n",
      "Epoch 120/200\n",
      "3/3 [==============================] - 0s 17ms/step - loss: 2.9644 - val_loss: 3.0487\n",
      "Epoch 121/200\n",
      "3/3 [==============================] - 0s 18ms/step - loss: 2.9600 - val_loss: 3.0547\n",
      "Epoch 122/200\n",
      "3/3 [==============================] - 0s 20ms/step - loss: 2.9593 - val_loss: 3.0306\n",
      "Epoch 123/200\n",
      "3/3 [==============================] - 0s 22ms/step - loss: 2.9216 - val_loss: 3.0049\n",
      "Epoch 124/200\n",
      "3/3 [==============================] - 0s 14ms/step - loss: 2.9444 - val_loss: 3.0206\n",
      "Epoch 125/200\n",
      "3/3 [==============================] - 0s 17ms/step - loss: 2.9435 - val_loss: 3.0659\n",
      "Epoch 126/200\n",
      "3/3 [==============================] - 0s 18ms/step - loss: 2.9330 - val_loss: 3.0225\n",
      "Epoch 127/200\n",
      "3/3 [==============================] - 0s 25ms/step - loss: 2.9360 - val_loss: 3.0050\n",
      "Epoch 128/200\n",
      "3/3 [==============================] - 0s 18ms/step - loss: 2.9027 - val_loss: 3.0084\n",
      "Epoch 129/200\n",
      "3/3 [==============================] - 0s 16ms/step - loss: 2.8865 - val_loss: 3.0006\n",
      "Epoch 130/200\n",
      "3/3 [==============================] - 0s 20ms/step - loss: 2.8793 - val_loss: 2.9891\n",
      "Epoch 131/200\n",
      "3/3 [==============================] - 0s 17ms/step - loss: 2.8849 - val_loss: 2.9894\n",
      "Epoch 132/200\n",
      "3/3 [==============================] - 0s 22ms/step - loss: 2.8836 - val_loss: 3.0178\n",
      "Epoch 133/200\n",
      "3/3 [==============================] - 0s 22ms/step - loss: 2.8845 - val_loss: 2.9756\n",
      "Epoch 134/200\n",
      "3/3 [==============================] - 0s 17ms/step - loss: 2.9006 - val_loss: 2.9891\n",
      "Epoch 135/200\n",
      "3/3 [==============================] - 0s 18ms/step - loss: 2.8851 - val_loss: 3.0825\n",
      "Epoch 136/200\n",
      "3/3 [==============================] - 0s 16ms/step - loss: 2.9471 - val_loss: 3.0390\n",
      "Epoch 137/200\n",
      "3/3 [==============================] - 0s 18ms/step - loss: 2.8650 - val_loss: 2.9799\n",
      "Epoch 138/200\n",
      "3/3 [==============================] - 0s 22ms/step - loss: 2.8958 - val_loss: 2.9668\n",
      "Epoch 139/200\n",
      "3/3 [==============================] - 0s 19ms/step - loss: 2.8625 - val_loss: 2.9603\n",
      "Epoch 140/200\n",
      "3/3 [==============================] - 0s 16ms/step - loss: 2.8550 - val_loss: 2.9437\n",
      "Epoch 141/200\n",
      "3/3 [==============================] - 0s 23ms/step - loss: 2.8390 - val_loss: 2.9466\n",
      "Epoch 142/200\n",
      "3/3 [==============================] - 0s 19ms/step - loss: 2.8300 - val_loss: 2.9403\n",
      "Epoch 143/200\n",
      "3/3 [==============================] - 0s 20ms/step - loss: 2.8312 - val_loss: 2.9384\n",
      "Epoch 144/200\n",
      "3/3 [==============================] - 0s 21ms/step - loss: 2.8206 - val_loss: 2.9304\n",
      "Epoch 145/200\n",
      "3/3 [==============================] - 0s 18ms/step - loss: 2.8139 - val_loss: 2.9244\n",
      "Epoch 146/200\n",
      "3/3 [==============================] - 0s 18ms/step - loss: 2.8312 - val_loss: 2.9339\n",
      "Epoch 147/200\n",
      "3/3 [==============================] - 0s 21ms/step - loss: 2.8088 - val_loss: 2.9402\n",
      "Epoch 148/200\n",
      "3/3 [==============================] - 0s 18ms/step - loss: 2.8407 - val_loss: 2.9360\n",
      "Epoch 149/200\n",
      "3/3 [==============================] - 0s 17ms/step - loss: 2.8209 - val_loss: 2.9292\n",
      "Epoch 150/200\n",
      "3/3 [==============================] - 0s 18ms/step - loss: 2.8082 - val_loss: 2.9652\n",
      "Epoch 151/200\n",
      "3/3 [==============================] - 0s 22ms/step - loss: 2.8240 - val_loss: 2.9436\n",
      "Epoch 152/200\n",
      "3/3 [==============================] - 0s 17ms/step - loss: 2.8286 - val_loss: 2.9379\n",
      "Epoch 153/200\n",
      "3/3 [==============================] - 0s 17ms/step - loss: 2.7914 - val_loss: 2.9778\n",
      "Epoch 154/200\n",
      "3/3 [==============================] - 0s 21ms/step - loss: 2.8078 - val_loss: 2.9256\n",
      "Epoch 155/200\n",
      "3/3 [==============================] - 0s 17ms/step - loss: 2.8271 - val_loss: 2.9212\n",
      "Epoch 156/200\n",
      "3/3 [==============================] - 0s 18ms/step - loss: 2.8411 - val_loss: 2.9150\n",
      "Epoch 157/200\n",
      "3/3 [==============================] - 0s 20ms/step - loss: 2.8925 - val_loss: 3.0497\n",
      "Epoch 158/200\n",
      "3/3 [==============================] - 0s 17ms/step - loss: 2.9903 - val_loss: 3.0307\n",
      "Epoch 159/200\n",
      "3/3 [==============================] - 0s 18ms/step - loss: 2.8422 - val_loss: 3.1038\n",
      "Epoch 160/200\n",
      "3/3 [==============================] - 0s 17ms/step - loss: 2.9234 - val_loss: 3.1172\n",
      "Epoch 161/200\n",
      "3/3 [==============================] - 0s 19ms/step - loss: 3.2462 - val_loss: 3.4683\n",
      "Epoch 162/200\n",
      "3/3 [==============================] - 0s 21ms/step - loss: 3.4467 - val_loss: 3.3703\n",
      "Epoch 163/200\n"
     ]
    },
    {
     "name": "stdout",
     "output_type": "stream",
     "text": [
      "3/3 [==============================] - 0s 22ms/step - loss: 3.4768 - val_loss: 3.2977\n",
      "Epoch 164/200\n",
      "3/3 [==============================] - 0s 21ms/step - loss: 3.3159 - val_loss: 3.3105\n",
      "Epoch 165/200\n",
      "3/3 [==============================] - 0s 23ms/step - loss: 3.2506 - val_loss: 3.2006\n",
      "Epoch 166/200\n",
      "3/3 [==============================] - 0s 17ms/step - loss: 2.9164 - val_loss: 3.1750\n",
      "Epoch 167/200\n",
      "3/3 [==============================] - 0s 17ms/step - loss: 2.9624 - val_loss: 3.0419\n",
      "Epoch 168/200\n",
      "3/3 [==============================] - 0s 18ms/step - loss: 2.9989 - val_loss: 3.0560\n",
      "Epoch 169/200\n",
      "3/3 [==============================] - 0s 22ms/step - loss: 2.9367 - val_loss: 2.8643\n",
      "Epoch 170/200\n",
      "3/3 [==============================] - 0s 22ms/step - loss: 2.8063 - val_loss: 2.9368\n",
      "Epoch 171/200\n",
      "3/3 [==============================] - 0s 18ms/step - loss: 2.8009 - val_loss: 2.9723\n",
      "Epoch 172/200\n",
      "3/3 [==============================] - 0s 17ms/step - loss: 2.8129 - val_loss: 2.9174\n",
      "Epoch 173/200\n",
      "3/3 [==============================] - 0s 18ms/step - loss: 2.8005 - val_loss: 2.8812\n",
      "Epoch 174/200\n",
      "3/3 [==============================] - 0s 23ms/step - loss: 2.7808 - val_loss: 2.8783\n",
      "Epoch 175/200\n",
      "3/3 [==============================] - 0s 14ms/step - loss: 2.7677 - val_loss: 2.8922\n",
      "Epoch 176/200\n",
      "3/3 [==============================] - 0s 26ms/step - loss: 2.7840 - val_loss: 2.9020\n",
      "Epoch 177/200\n",
      "3/3 [==============================] - 0s 18ms/step - loss: 2.7858 - val_loss: 2.9382\n",
      "Epoch 178/200\n",
      "3/3 [==============================] - 0s 18ms/step - loss: 2.7627 - val_loss: 2.9016\n",
      "Epoch 179/200\n",
      "3/3 [==============================] - 0s 17ms/step - loss: 2.7846 - val_loss: 2.8717\n",
      "Epoch 180/200\n",
      "3/3 [==============================] - 0s 21ms/step - loss: 2.7617 - val_loss: 2.8707\n",
      "Epoch 181/200\n",
      "3/3 [==============================] - 0s 14ms/step - loss: 2.7757 - val_loss: 2.8749\n",
      "Epoch 182/200\n",
      "3/3 [==============================] - 0s 17ms/step - loss: 2.7453 - val_loss: 2.8905\n",
      "Epoch 183/200\n",
      "3/3 [==============================] - 0s 21ms/step - loss: 2.7501 - val_loss: 2.8843\n",
      "Epoch 184/200\n",
      "3/3 [==============================] - 0s 14ms/step - loss: 2.7447 - val_loss: 2.8794\n",
      "Epoch 185/200\n",
      "3/3 [==============================] - 0s 17ms/step - loss: 2.7578 - val_loss: 2.8851\n",
      "Epoch 186/200\n",
      "3/3 [==============================] - 0s 18ms/step - loss: 2.8032 - val_loss: 2.8747\n",
      "Epoch 187/200\n",
      "3/3 [==============================] - 0s 23ms/step - loss: 2.7418 - val_loss: 2.9705\n",
      "Epoch 188/200\n",
      "3/3 [==============================] - 0s 18ms/step - loss: 2.8028 - val_loss: 2.9058\n",
      "Epoch 189/200\n",
      "3/3 [==============================] - 0s 17ms/step - loss: 2.7920 - val_loss: 2.8807\n",
      "Epoch 190/200\n",
      "3/3 [==============================] - 0s 17ms/step - loss: 2.7427 - val_loss: 2.8766\n",
      "Epoch 191/200\n",
      "3/3 [==============================] - 0s 23ms/step - loss: 2.7479 - val_loss: 2.8593\n",
      "Epoch 192/200\n",
      "3/3 [==============================] - 0s 19ms/step - loss: 2.7343 - val_loss: 2.8531\n",
      "Epoch 193/200\n",
      "3/3 [==============================] - 0s 19ms/step - loss: 2.7337 - val_loss: 2.8390\n",
      "Epoch 194/200\n",
      "3/3 [==============================] - 0s 18ms/step - loss: 2.7510 - val_loss: 2.8555\n",
      "Epoch 195/200\n",
      "3/3 [==============================] - 0s 17ms/step - loss: 2.7276 - val_loss: 2.8500\n",
      "Epoch 196/200\n",
      "3/3 [==============================] - 0s 23ms/step - loss: 2.7033 - val_loss: 2.8523\n",
      "Epoch 197/200\n",
      "3/3 [==============================] - 0s 13ms/step - loss: 2.7217 - val_loss: 2.8332\n",
      "Epoch 198/200\n",
      "3/3 [==============================] - 0s 18ms/step - loss: 2.7100 - val_loss: 2.8277\n",
      "Epoch 199/200\n",
      "3/3 [==============================] - 0s 23ms/step - loss: 2.7087 - val_loss: 2.8444\n",
      "Epoch 200/200\n",
      "3/3 [==============================] - 0s 19ms/step - loss: 2.7232 - val_loss: 2.8662\n"
     ]
    }
   ],
   "source": [
    "history = model.fit(X_train, y_train, epochs=200,\n",
    "                    validation_data=(X_valid, y_valid))"
   ]
  },
  {
   "cell_type": "code",
   "execution_count": 67,
   "id": "0b29d35c",
   "metadata": {
    "scrolled": true
   },
   "outputs": [],
   "source": [
    "# history = model.fit(X_train, y_train, epochs=145,\n",
    "#                     validation_data=(X_valid, y_valid), callbacks=[lr_scheduler])"
   ]
  },
  {
   "cell_type": "code",
   "execution_count": 68,
   "id": "28215732",
   "metadata": {},
   "outputs": [
    {
     "name": "stdout",
     "output_type": "stream",
     "text": [
      "Saving figure grid_Gaussian_training_curve\n"
     ]
    },
    {
     "data": {
      "image/png": "[encoded data removed]",
      "text/plain": [
       "<Figure size 576x360 with 1 Axes>"
      ]
     },
     "metadata": {
      "needs_background": "light"
     },
     "output_type": "display_data"
    }
   ],
   "source": [
    "import pandas as pd\n",
    "\n",
    "# print(history.history)\n",
    "try:\n",
    "    lr_list = history.history[\"lr\"]\n",
    "    del(history.history[\"lr\"])\n",
    "except:\n",
    "    pass\n",
    "\n",
    "pd.DataFrame(history.history)[50:].plot(figsize=(8, 5))\n",
    "plt.grid(True)\n",
    "# plt.gca().set_ylim(0, 1)\n",
    "save_fig(\"grid_Gaussian_training_curve\")\n",
    "plt.show()"
   ]
  },
  {
   "cell_type": "code",
   "execution_count": 69,
   "id": "47d362c9",
   "metadata": {
    "scrolled": true
   },
   "outputs": [
    {
     "name": "stdout",
     "output_type": "stream",
     "text": [
      "X.shape = (None, 1)\n",
      "gauss_grid.shape = (None, 5)\n",
      "Saving figure grid_Gaussian_prediction\n"
     ]
    },
    {
     "data": {
      "image/png": "[encoded data removed]",
      "text/plain": [
       "<Figure size 432x288 with 1 Axes>"
      ]
     },
     "metadata": {
      "needs_background": "light"
     },
     "output_type": "display_data"
    }
   ],
   "source": [
    "plt.plot(X_train, y_train, \"b.\")\n",
    "draw_func((lambda X: model.predict(X)[:,0] ), mark='r-', linewidth=2, label=\"Predictions\")\n",
    "draw_normal_func(func_dict)\n",
    "plt.xlabel(\"$x_1$\", fontsize=18)\n",
    "plt.ylabel(\"$y$\", rotation=0, fontsize=18)\n",
    "plt.legend(loc=\"upper left\", fontsize=14)\n",
    "# plt.axis([-3, 3, 0, 10])\n",
    "save_fig(\"grid_Gaussian_prediction\")\n",
    "plt.show()"
   ]
  },
  {
   "cell_type": "code",
   "execution_count": 70,
   "id": "a85a5159",
   "metadata": {},
   "outputs": [
    {
     "name": "stdout",
     "output_type": "stream",
     "text": [
      "y_func.shape = (100, 1)\n",
      "y_gt.shape = (100, 1)\n"
     ]
    },
    {
     "data": {
      "text/plain": [
       "4.2881265131305195"
      ]
     },
     "execution_count": 70,
     "metadata": {},
     "output_type": "execute_result"
    }
   ],
   "source": [
    "get_prediction_error((lambda X: model.predict(X)[:,0] ), func_dict, name=\"grid-oneGaussian\")"
   ]
  },
  {
   "cell_type": "markdown",
   "id": "9ca1e36d",
   "metadata": {},
   "source": [
    "### Draw the 1-sigma boundary line"
   ]
  },
  {
   "cell_type": "code",
   "execution_count": 71,
   "id": "a04a47fa",
   "metadata": {},
   "outputs": [
    {
     "name": "stdout",
     "output_type": "stream",
     "text": [
      "Saving figure grid_Gaussian_1sigma\n"
     ]
    },
    {
     "data": {
      "image/png": "[encoded data removed]",
      "text/plain": [
       "<Figure size 432x288 with 1 Axes>"
      ]
     },
     "metadata": {
      "needs_background": "light"
     },
     "output_type": "display_data"
    }
   ],
   "source": [
    "def n_sigma_boundary_line(X, n):\n",
    "    _y = model.predict(X)\n",
    "    _mean, _z = _y[:,0:1], _y[:,1:2]\n",
    "    _sigma = np.exp(alpha*_z)\n",
    "    return( _mean + n*_sigma)\n",
    "\n",
    "plt.plot(X_train, y_train, \"b.\")\n",
    "#\n",
    "draw_func((lambda X: model.predict(X)[:,0] ), mark='r-', linewidth=2, label=\"Predictions\")\n",
    "draw_func((lambda X: n_sigma_boundary_line(X, +1.0) ), mark='k--', linewidth=1, label=\"$\\mu+\\sigma$\")\n",
    "draw_func((lambda X: n_sigma_boundary_line(X, -1.0) ), mark='k--', linewidth=1, label=\"$\\mu-\\sigma$\")\n",
    "#\n",
    "draw_normal_func(func_dict)\n",
    "plt.xlabel(\"$x_1$\", fontsize=18)\n",
    "plt.ylabel(\"$y$\", rotation=0, fontsize=18)\n",
    "plt.legend(loc=\"upper left\", fontsize=14)\n",
    "# plt.axis([-3, 3, 0, 10])\n",
    "save_fig(\"grid_Gaussian_1sigma\")\n",
    "plt.show()"
   ]
  },
  {
   "cell_type": "code",
   "execution_count": null,
   "id": "a820404f",
   "metadata": {},
   "outputs": [],
   "source": []
  },
  {
   "cell_type": "markdown",
   "id": "82ec4fc4",
   "metadata": {},
   "source": [
    "# Summary"
   ]
  },
  {
   "cell_type": "code",
   "execution_count": 72,
   "id": "2d764d70",
   "metadata": {},
   "outputs": [
    {
     "name": "stdout",
     "output_type": "stream",
     "text": [
      "num-num: 5.393838\n",
      "grid-num: 4.957840\n",
      "grid-rbc: 3.624877\n",
      "grid-quantileR: 1.662496\n",
      "grid-oneGaussian: 4.288127\n",
      "\n"
     ]
    }
   ],
   "source": [
    "results = print_all_prediction_error()"
   ]
  },
  {
   "cell_type": "code",
   "execution_count": 73,
   "id": "9f01e530",
   "metadata": {},
   "outputs": [
    {
     "name": "stdout",
     "output_type": "stream",
     "text": [
      "Saving all prediction errors to [.\\images\\regression_test_2\\prediction_errors.txt].\n"
     ]
    },
    {
     "data": {
      "text/plain": [
       "True"
      ]
     },
     "execution_count": 73,
     "metadata": {},
     "output_type": "execute_result"
    }
   ],
   "source": [
    "save_prediction_errors()"
   ]
  },
  {
   "cell_type": "code",
   "execution_count": null,
   "id": "0c3bdf42",
   "metadata": {},
   "outputs": [],
   "source": []
  },
  {
   "cell_type": "code",
   "execution_count": null,
   "id": "a5e6a55a",
   "metadata": {},
   "outputs": [],
   "source": []
  }
 ],
 "metadata": {
  "kernelspec": {
   "display_name": "Python 3 (ipykernel)",
   "language": "python",
   "name": "python3"
  },
  "language_info": {
   "codemirror_mode": {
    "name": "ipython",
    "version": 3
   },
   "file_extension": ".py",
   "mimetype": "text/x-python",
   "name": "python",
   "nbconvert_exporter": "python",
   "pygments_lexer": "ipython3",
   "version": "3.9.7"
  }
 },
 "nbformat": 4,
 "nbformat_minor": 5
}
