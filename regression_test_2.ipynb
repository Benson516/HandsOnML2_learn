{
 "cells": [
  {
   "cell_type": "markdown",
   "id": "899fa113",
   "metadata": {},
   "source": [
    "# Regression with Different Output Format under Various Data Conditions\n",
    "\n",
    "In this experience, we test the following output format for regression task under several different data coditions.\n",
    "- Numerical output\n",
    "- Regression as classification (grid-out)\n",
    "\n",
    "The data coditions include:\n",
    "- Sparse (few data)\n",
    "- Grouped\n",
    "  - Biased (parallel data)\n",
    "  - Completely different mode, uncorrelated data (cross)\n",
    "  - Partially diversed (split)"
   ]
  },
  {
   "cell_type": "code",
   "execution_count": 1,
   "id": "625ce7c3",
   "metadata": {},
   "outputs": [],
   "source": [
    "import numpy as np\n",
    "import tensorflow as tf\n",
    "from tensorflow import keras\n",
    "import os\n",
    "\n",
    "# To plot pretty figures\n",
    "%matplotlib inline\n",
    "import matplotlib as mpl\n",
    "import matplotlib.pyplot as plt\n",
    "mpl.rc('axes', labelsize=14)\n",
    "mpl.rc('xtick', labelsize=12)\n",
    "mpl.rc('ytick', labelsize=12)"
   ]
  },
  {
   "cell_type": "code",
   "execution_count": 2,
   "id": "7ad564ad",
   "metadata": {},
   "outputs": [],
   "source": [
    "# Where to save the figures\n",
    "PROJECT_ROOT_DIR = \".\"\n",
    "CHAPTER_ID = \"regression_test_2\"\n",
    "IMAGES_PATH = os.path.join(PROJECT_ROOT_DIR, \"images\", CHAPTER_ID)\n",
    "os.makedirs(IMAGES_PATH, exist_ok=True)\n",
    "\n",
    "def save_fig(fig_id, tight_layout=True, fig_extension=\"png\", resolution=300):\n",
    "    path = os.path.join(IMAGES_PATH, fig_id + \".\" + fig_extension)\n",
    "    print(\"Saving figure\", fig_id)\n",
    "    if tight_layout:\n",
    "        plt.tight_layout()\n",
    "    plt.savefig(path, format=fig_extension, dpi=resolution)"
   ]
  },
  {
   "cell_type": "code",
   "execution_count": 3,
   "id": "94e8a077",
   "metadata": {},
   "outputs": [],
   "source": [
    "def draw_func(func_in, x_min=-5, x_max=5, mark='r--', linewidth=1, label='func'):\n",
    "    n_sample = 100\n",
    "    X_func = np.linspace(x_min, x_max, n_sample).reshape(n_sample, 1)\n",
    "    y_func = func_in(X_func)\n",
    "    plt.plot(X_func, y_func, mark, linewidth=linewidth, label=label)"
   ]
  },
  {
   "cell_type": "markdown",
   "id": "c27ffe35",
   "metadata": {},
   "source": [
    "Generate polynomial data"
   ]
  },
  {
   "cell_type": "code",
   "execution_count": 4,
   "id": "ce670ce4",
   "metadata": {},
   "outputs": [],
   "source": [
    "poly_a1 = 5.0\n",
    "# poly_a1 = -10.0 # 5.0\n",
    "#\n",
    "sin_a = 0.0\n",
    "# sin_a = 10.0\n",
    "sin_f = 0.1 # 0.2\n",
    "#\n",
    "def func_0(X): # Reference\n",
    "    return 0.5 * X**3 + 0.5 * X**2 + (poly_a1)*X + 2 + sin_a*np.sin(2.0*np.pi*sin_f*X)\n",
    "def func_1(X): # Variation 1: parellel\n",
    "    return 0.5 * X**3 + 0.5 * X**2 + (poly_a1)*X + 30 + sin_a*np.sin(2.0*np.pi*sin_f*X)\n",
    "def func_2(X): # Variation 2: cross\n",
    "    return -0.5 * X**3 + 0.5 * X**2 + (poly_a1)*X + 30 + sin_a*np.sin(2.0*np.pi*sin_f*X)\n",
    "def func_3(X): # Variation 3: slightly split\n",
    "    return 0.3 * X**3 + 1.0 * X**2 + (poly_a1)*X + 15 + sin_a*np.sin(2.0*np.pi*sin_f*X)\n",
    "def func_4(X): # Sine wave~\n",
    "    return 0.5 * X**3 + 0.5 * X**2 + (poly_a1)*X + 2 + 20.0*np.sin(2.0*np.pi*sin_f*X) # 50.0"
   ]
  },
  {
   "cell_type": "code",
   "execution_count": 5,
   "id": "9463bfff",
   "metadata": {},
   "outputs": [],
   "source": [
    "func_dict = dict()\n",
    "#-----------------#\n",
    "func_dict[\"f1\"] = func_0\n",
    "#-----------------#\n",
    "# func_dict[\"f2\"] = func_1\n",
    "# func_dict[\"f2\"] = func_2\n",
    "func_dict[\"f2\"] = func_3\n",
    "# func_dict[\"f2\"] = func_4\n",
    "#-----------------#\n",
    "func_dict[\"f3\"] = func_4\n",
    "#-----------------#\n",
    "\n",
    "# Note: func_dict[\"f_avg\"] depends on multiout_type and is calculated in each section of multiout_type"
   ]
  },
  {
   "cell_type": "code",
   "execution_count": 6,
   "id": "63437d0c",
   "metadata": {},
   "outputs": [
    {
     "name": "stdout",
     "output_type": "stream",
     "text": [
      "(m, m_train) = (100, 80)\n",
      "y_data_pure.shape = (100, 1)\n",
      "y_data.shape = (100, 1)\n"
     ]
    }
   ],
   "source": [
    "np.random.seed(42)\n",
    "m = 100 # 50 # 100 # 200\n",
    "m_train = m // 5 * 4\n",
    "print(\"(m, m_train) = (%d, %d)\" % (m, m_train))\n",
    "\n",
    "# Input\n",
    "is_gapped = True\n",
    "# is_gapped = False\n",
    "#\n",
    "if not is_gapped:\n",
    "    X_data = 10 * np.random.rand(m, 1) - 5 # Note: X is randomly sampled, so we don't need to shuffle the data again\n",
    "else:\n",
    "    X_data = np.concatenate( (np.linspace(-5.0, -2.0, m//2), np.linspace(2.0, 5.0, m-m//2)) )\n",
    "    X_data = X_data.reshape((m,1))\n",
    "    np.random.shuffle(X_data)\n",
    "\n",
    "# Output, multiout_type in {1, 2, 3}\n",
    "# multiout_type = 1      \n",
    "multiout_type = 2 \n",
    "# multiout_type = 3 \n",
    "#\n",
    "sid_data = np.ones((m,1), dtype=int) # subject id, default: 1\n",
    "if multiout_type == 2:\n",
    "    m_h = m // 2\n",
    "    X_data_1 = X_data[:m_h]\n",
    "    X_data_2 = X_data[m_h:]\n",
    "    sid_data[:m_h] = 1 # id:1\n",
    "    sid_data[m_h:] = 2 # id:2\n",
    "    y_data_pure_1 = func_dict[\"f1\"](X_data_1) \n",
    "    y_data_pure_2 = func_dict[\"f2\"](X_data_2) \n",
    "    y_data_pure = np.vstack([y_data_pure_1, y_data_pure_2])\n",
    "    print(\"y_data_pure.shape = %s\" % str(y_data_pure.shape))\n",
    "    # Average line\n",
    "    func_dict[\"f_avg\"] = ( lambda X: 0.5*func_dict[\"f1\"](X) + 0.5*func_dict[\"f2\"](X) )\n",
    "    #\n",
    "elif multiout_type == 3: # with \"avg\" line\n",
    "    m_t = m // 3\n",
    "    X_data_1 = X_data[:m_t]\n",
    "    X_data_2 = X_data[m_t:(2*m_t)]\n",
    "    X_data_3 = X_data[(2*m_t):]\n",
    "    sid_data[:m_t]        = 1 # id:1\n",
    "    sid_data[m_t:(2*m_t)] = 2 # id:2\n",
    "    sid_data[(2*m_t):]    = 3 # id:3\n",
    "    y_data_pure_1 = func_dict[\"f1\"](X_data_1) \n",
    "    y_data_pure_2 = func_dict[\"f2\"](X_data_2) \n",
    "    y_data_pure_3 = func_dict[\"f3\"](X_data_3) \n",
    "    y_data_pure = np.vstack([y_data_pure_1, y_data_pure_2, y_data_pure_3])\n",
    "    print(\"y_data_pure.shape = %s\" % str(y_data_pure.shape))\n",
    "    # Average line\n",
    "    func_dict[\"f_avg\"] = ( lambda X: (func_dict[\"f1\"](X) + func_dict[\"f2\"](X) + func_dict[\"f3\"](X))/3.0 )\n",
    "    #\n",
    "else: # multiout_type == 1\n",
    "    # Average line\n",
    "    func_dict[\"f_avg\"] = ( lambda X: 0.5*func_dict[\"f1\"](X) + 0.5*func_dict[\"f2\"](X) )\n",
    "    y_data_pure = func_dict[\"f_avg\"](X_data)\n",
    "\n",
    "    \n",
    "# Label (+noise)\n",
    "n_stddev = 2.0\n",
    "# n_stddev = 10.0\n",
    "y_data = y_data_pure + np.random.randn(m, 1) * n_stddev\n",
    "print(\"y_data.shape = %s\" % str(y_data.shape))\n",
    "# print(\"sid_data = %s\" % str(sid_data))"
   ]
  },
  {
   "cell_type": "code",
   "execution_count": 7,
   "id": "ef588fae",
   "metadata": {},
   "outputs": [],
   "source": [
    "# Method 1: simply slice\n",
    "# X_train = X_data[:m_train]\n",
    "# y_train = y_data[:m_train]\n",
    "# X_valid = X_data[m_train:]\n",
    "# y_valid = y_data[m_train:]\n",
    "\n",
    "# Method 2: shuffle\n",
    "from sklearn.model_selection import train_test_split\n",
    "# X_train, X_valid, y_train, y_valid = train_test_split(X_data, y_data, test_size=0.2, random_state=42)\n",
    "X_train, X_valid, y_train, y_valid, sid_train, sid_valid = train_test_split(X_data, y_data, sid_data, test_size=0.2, random_state=42)"
   ]
  },
  {
   "cell_type": "code",
   "execution_count": 8,
   "id": "3b5d2cfe",
   "metadata": {},
   "outputs": [
    {
     "name": "stdout",
     "output_type": "stream",
     "text": [
      "(80, 1)\n"
     ]
    }
   ],
   "source": [
    "print(X_train.shape)\n",
    "# print(\"sid_train = %s\" % str(sid_train))"
   ]
  },
  {
   "cell_type": "code",
   "execution_count": 9,
   "id": "9bd2136c",
   "metadata": {},
   "outputs": [],
   "source": [
    "def draw_normal_func(func_dict):\n",
    "    if multiout_type != 1:\n",
    "        draw_func(func_dict[\"f1\"], mark='c:', label=\"f1\")\n",
    "        draw_func(func_dict[\"f2\"], mark='r:', label=\"f2\")\n",
    "    if multiout_type == 3:\n",
    "        draw_func(func_dict[\"f3\"], mark='y:', label=\"f3\")\n",
    "    draw_func(func_dict[\"f_avg\"], mark='m--', label=\"f_avg\")"
   ]
  },
  {
   "cell_type": "code",
   "execution_count": 10,
   "id": "3e4283c1",
   "metadata": {},
   "outputs": [],
   "source": [
    "def draw_points(X, y, sid=None):\n",
    "    if sid is None:\n",
    "        plt.plot(X, y, \"b.\")\n",
    "    else:\n",
    "        plt.plot(X[sid==1], y[sid==1], \"b.\")\n",
    "        plt.plot(X[sid==2], y[sid==2], \"r.\")\n",
    "        plt.plot(X[sid==3], y[sid==3], \"y.\")"
   ]
  },
  {
   "cell_type": "code",
   "execution_count": 11,
   "id": "693af3b7",
   "metadata": {},
   "outputs": [
    {
     "name": "stdout",
     "output_type": "stream",
     "text": [
      "Saving figure training_data\n"
     ]
    },
    {
     "data": {
      "image/png": "[encoded data removed]",
      "text/plain": [
       "<Figure size 432x288 with 1 Axes>"
      ]
     },
     "metadata": {
      "needs_background": "light"
     },
     "output_type": "display_data"
    }
   ],
   "source": [
    "# plt.plot(X_train, y_train, \"b.\")\n",
    "# plt.plot(X_train[sid_train==1], y_train[sid_train==1], \"b.\")\n",
    "# plt.plot(X_train[sid_train==2], y_train[sid_train==2], \"r.\")\n",
    "draw_points(X_train, y_train, sid_train)\n",
    "\n",
    "draw_normal_func(func_dict)\n",
    "plt.xlabel(\"$x_1$\", fontsize=18)\n",
    "plt.ylabel(\"$y$\", rotation=0, fontsize=18)\n",
    "plt.legend(loc=\"upper left\", fontsize=14)\n",
    "# plt.axis([-3, 3, 0, 10])\n",
    "save_fig(\"training_data\")\n",
    "plt.show()"
   ]
  },
  {
   "cell_type": "code",
   "execution_count": 12,
   "id": "a6853ff1",
   "metadata": {},
   "outputs": [],
   "source": [
    "prediction_error_dict = dict()\n",
    "\n",
    "def get_prediction_error(func_in, func_dict, name=\"\", x_min=-5, x_max=5, prediction_error_dict=prediction_error_dict):\n",
    "    n_sample = 100\n",
    "    X_func = np.linspace(x_min, x_max, n_sample).reshape(n_sample, 1)\n",
    "    y_func = func_in(X_func).reshape((n_sample,1))\n",
    "    y_gt = func_dict[\"f_avg\"](X_func).reshape((n_sample,1))\n",
    "    print(\"y_func.shape = %s\" % str(y_func.shape))\n",
    "    print(\"y_gt.shape = %s\" % str(y_gt.shape))\n",
    "#     total_error = np.sqrt(np.square(y_func - y_gt).mean())\n",
    "    total_error = np.abs(y_func - y_gt).mean()\n",
    "    prediction_error_dict[name] = total_error\n",
    "    return total_error\n",
    "\n",
    "def print_all_prediction_error(is_logging_to_screen=True, prediction_error_dict=prediction_error_dict):\n",
    "    _s = \"\"\n",
    "    for _n in prediction_error_dict:\n",
    "        _s += (\"%s: %f\" % (_n, prediction_error_dict[_n])) + \"\\n\"\n",
    "    if is_logging_to_screen:\n",
    "        print(_s)\n",
    "    return _s\n",
    "        \n",
    "def save_prediction_errors(is_logging_to_screen=False, prediction_error_dict=prediction_error_dict):\n",
    "    path = os.path.join(IMAGES_PATH, \"prediction_errors.txt\")\n",
    "    print(\"Saving all prediction errors to [%s].\" % path)\n",
    "    _s = print_all_prediction_error(is_logging_to_screen=is_logging_to_screen, prediction_error_dict=prediction_error_dict)\n",
    "    with open(path, \"w\") as _f:\n",
    "        _f.write(_s)\n",
    "    return True"
   ]
  },
  {
   "cell_type": "markdown",
   "id": "053ecc57",
   "metadata": {},
   "source": [
    "# Simple FCs (number --> number)"
   ]
  },
  {
   "cell_type": "markdown",
   "id": "c66eb67b",
   "metadata": {},
   "source": [
    "Build the regression model"
   ]
  },
  {
   "cell_type": "code",
   "execution_count": 13,
   "id": "9449fc0b",
   "metadata": {},
   "outputs": [
    {
     "name": "stderr",
     "output_type": "stream",
     "text": [
      "C:\\Users\\benso\\anaconda3\\envs\\ml\\lib\\site-packages\\keras\\optimizer_v2\\gradient_descent.py:102: UserWarning: The `lr` argument is deprecated, use `learning_rate` instead.\n",
      "  super(SGD, self).__init__(name, **kwargs)\n"
     ]
    }
   ],
   "source": [
    "model = keras.models.Sequential([\n",
    "    keras.layers.Dense(30, activation=\"relu\", input_shape=X_train.shape[1:]),\n",
    "    keras.layers.Dense(30, activation=\"relu\"),\n",
    "    keras.layers.Dense(1)\n",
    "])\n",
    "\n",
    "optimizer = keras.optimizers.SGD(lr=0.0001, momentum=0.9)\n",
    "model.compile(loss=\"mean_squared_error\", optimizer=optimizer)\n",
    "# optimizer = keras.optimizers.Adam(lr=0.01)\n",
    "# model.compile(loss=\"mean_absolute_error\", optimizer=optimizer)"
   ]
  },
  {
   "cell_type": "code",
   "execution_count": 14,
   "id": "92afd68a",
   "metadata": {
    "scrolled": true
   },
   "outputs": [
    {
     "name": "stdout",
     "output_type": "stream",
     "text": [
      "Epoch 1/100\n",
      "3/3 [==============================] - 1s 88ms/step - loss: 2458.0288 - val_loss: 1687.1731\n",
      "Epoch 2/100\n",
      "3/3 [==============================] - 0s 14ms/step - loss: 2367.8972 - val_loss: 1589.6864\n",
      "Epoch 3/100\n",
      "3/3 [==============================] - 0s 15ms/step - loss: 2168.0576 - val_loss: 1381.2006\n",
      "Epoch 4/100\n",
      "3/3 [==============================] - 0s 28ms/step - loss: 1699.6654 - val_loss: 881.6595\n",
      "Epoch 5/100\n",
      "3/3 [==============================] - 0s 27ms/step - loss: 748.9504 - val_loss: 633.4127\n",
      "Epoch 6/100\n",
      "3/3 [==============================] - 0s 24ms/step - loss: 797.0992 - val_loss: 789.8454\n",
      "Epoch 7/100\n",
      "3/3 [==============================] - 0s 18ms/step - loss: 623.9110 - val_loss: 456.9141\n",
      "Epoch 8/100\n",
      "3/3 [==============================] - 0s 18ms/step - loss: 523.5994 - val_loss: 521.4357\n",
      "Epoch 9/100\n",
      "3/3 [==============================] - 0s 24ms/step - loss: 601.5267 - val_loss: 291.4749\n",
      "Epoch 10/100\n",
      "3/3 [==============================] - 0s 32ms/step - loss: 274.4711 - val_loss: 223.8320\n",
      "Epoch 11/100\n",
      "3/3 [==============================] - 0s 20ms/step - loss: 333.5483 - val_loss: 276.7881\n",
      "Epoch 12/100\n",
      "3/3 [==============================] - 0s 23ms/step - loss: 316.5838 - val_loss: 214.7610\n",
      "Epoch 13/100\n",
      "3/3 [==============================] - 0s 26ms/step - loss: 305.5397 - val_loss: 210.5874\n",
      "Epoch 14/100\n",
      "3/3 [==============================] - 0s 27ms/step - loss: 269.0221 - val_loss: 180.4103\n",
      "Epoch 15/100\n",
      "3/3 [==============================] - 0s 25ms/step - loss: 214.8021 - val_loss: 239.1116\n",
      "Epoch 16/100\n",
      "3/3 [==============================] - 0s 20ms/step - loss: 252.2119 - val_loss: 224.4774\n",
      "Epoch 17/100\n",
      "3/3 [==============================] - 0s 19ms/step - loss: 211.5407 - val_loss: 208.8823\n",
      "Epoch 18/100\n",
      "3/3 [==============================] - 0s 15ms/step - loss: 233.1029 - val_loss: 187.3846\n",
      "Epoch 19/100\n",
      "3/3 [==============================] - 0s 22ms/step - loss: 215.0085 - val_loss: 171.0490\n",
      "Epoch 20/100\n",
      "3/3 [==============================] - 0s 22ms/step - loss: 203.4667 - val_loss: 180.9177\n",
      "Epoch 21/100\n",
      "3/3 [==============================] - 0s 17ms/step - loss: 212.3282 - val_loss: 168.7229\n",
      "Epoch 22/100\n",
      "3/3 [==============================] - 0s 22ms/step - loss: 206.4926 - val_loss: 167.9405\n",
      "Epoch 23/100\n",
      "3/3 [==============================] - 0s 17ms/step - loss: 202.3018 - val_loss: 172.9214\n",
      "Epoch 24/100\n",
      "3/3 [==============================] - 0s 21ms/step - loss: 194.6022 - val_loss: 178.7856\n",
      "Epoch 25/100\n",
      "3/3 [==============================] - 0s 16ms/step - loss: 196.5125 - val_loss: 177.6806\n",
      "Epoch 26/100\n",
      "3/3 [==============================] - 0s 17ms/step - loss: 193.1811 - val_loss: 176.1284\n",
      "Epoch 27/100\n",
      "3/3 [==============================] - 0s 21ms/step - loss: 194.5382 - val_loss: 177.1645\n",
      "Epoch 28/100\n",
      "3/3 [==============================] - 0s 16ms/step - loss: 194.1338 - val_loss: 174.2649\n",
      "Epoch 29/100\n",
      "3/3 [==============================] - 0s 21ms/step - loss: 191.6550 - val_loss: 170.4804\n",
      "Epoch 30/100\n",
      "3/3 [==============================] - 0s 14ms/step - loss: 192.0642 - val_loss: 169.8127\n",
      "Epoch 31/100\n",
      "3/3 [==============================] - 0s 21ms/step - loss: 190.7523 - val_loss: 169.8650\n",
      "Epoch 32/100\n",
      "3/3 [==============================] - 0s 16ms/step - loss: 190.1249 - val_loss: 167.7590\n",
      "Epoch 33/100\n",
      "3/3 [==============================] - 0s 18ms/step - loss: 189.3267 - val_loss: 168.5869\n",
      "Epoch 34/100\n",
      "3/3 [==============================] - 0s 21ms/step - loss: 188.1323 - val_loss: 167.0560\n",
      "Epoch 35/100\n",
      "3/3 [==============================] - 0s 16ms/step - loss: 188.7914 - val_loss: 168.6092\n",
      "Epoch 36/100\n",
      "3/3 [==============================] - 0s 16ms/step - loss: 187.3297 - val_loss: 167.0390\n",
      "Epoch 37/100\n",
      "3/3 [==============================] - 0s 20ms/step - loss: 187.2981 - val_loss: 169.5224\n",
      "Epoch 38/100\n",
      "3/3 [==============================] - 0s 19ms/step - loss: 186.6347 - val_loss: 167.5435\n",
      "Epoch 39/100\n",
      "3/3 [==============================] - 0s 15ms/step - loss: 184.5904 - val_loss: 169.2536\n",
      "Epoch 40/100\n",
      "3/3 [==============================] - 0s 19ms/step - loss: 184.2527 - val_loss: 168.9464\n",
      "Epoch 41/100\n",
      "3/3 [==============================] - 0s 15ms/step - loss: 182.8667 - val_loss: 165.6635\n",
      "Epoch 42/100\n",
      "3/3 [==============================] - 0s 22ms/step - loss: 184.4541 - val_loss: 161.7987\n",
      "Epoch 43/100\n",
      "3/3 [==============================] - 0s 22ms/step - loss: 183.5828 - val_loss: 163.1638\n",
      "Epoch 44/100\n",
      "3/3 [==============================] - 0s 17ms/step - loss: 182.1019 - val_loss: 164.1480\n",
      "Epoch 45/100\n",
      "3/3 [==============================] - 0s 19ms/step - loss: 182.2465 - val_loss: 166.7010\n",
      "Epoch 46/100\n",
      "3/3 [==============================] - 0s 13ms/step - loss: 185.7119 - val_loss: 166.4198\n",
      "Epoch 47/100\n",
      "3/3 [==============================] - 0s 16ms/step - loss: 180.3951 - val_loss: 164.6352\n",
      "Epoch 48/100\n",
      "3/3 [==============================] - 0s 18ms/step - loss: 183.3074 - val_loss: 162.9821\n",
      "Epoch 49/100\n",
      "3/3 [==============================] - 0s 21ms/step - loss: 180.0518 - val_loss: 159.4198\n",
      "Epoch 50/100\n",
      "3/3 [==============================] - 0s 16ms/step - loss: 181.2310 - val_loss: 161.9617\n",
      "Epoch 51/100\n",
      "3/3 [==============================] - 0s 16ms/step - loss: 178.5589 - val_loss: 163.8650\n",
      "Epoch 52/100\n",
      "3/3 [==============================] - 0s 17ms/step - loss: 179.8701 - val_loss: 166.9299\n",
      "Epoch 53/100\n",
      "3/3 [==============================] - 0s 21ms/step - loss: 180.5974 - val_loss: 159.1966\n",
      "Epoch 54/100\n",
      "3/3 [==============================] - 0s 16ms/step - loss: 177.9822 - val_loss: 159.3138\n",
      "Epoch 55/100\n",
      "3/3 [==============================] - 0s 18ms/step - loss: 177.3384 - val_loss: 162.1032\n",
      "Epoch 56/100\n",
      "3/3 [==============================] - 0s 20ms/step - loss: 176.1238 - val_loss: 170.3258\n",
      "Epoch 57/100\n",
      "3/3 [==============================] - 0s 18ms/step - loss: 177.9275 - val_loss: 167.2914\n",
      "Epoch 58/100\n",
      "3/3 [==============================] - 0s 19ms/step - loss: 174.5139 - val_loss: 162.8298\n",
      "Epoch 59/100\n",
      "3/3 [==============================] - 0s 17ms/step - loss: 176.7536 - val_loss: 157.9936\n",
      "Epoch 60/100\n",
      "3/3 [==============================] - 0s 19ms/step - loss: 174.1460 - val_loss: 158.7279\n",
      "Epoch 61/100\n",
      "3/3 [==============================] - 0s 15ms/step - loss: 173.8258 - val_loss: 157.3874\n",
      "Epoch 62/100\n",
      "3/3 [==============================] - 0s 20ms/step - loss: 175.9626 - val_loss: 155.6930\n",
      "Epoch 63/100\n",
      "3/3 [==============================] - 0s 15ms/step - loss: 173.4981 - val_loss: 155.7339\n",
      "Epoch 64/100\n",
      "3/3 [==============================] - 0s 19ms/step - loss: 176.6997 - val_loss: 165.7892\n",
      "Epoch 65/100\n",
      "3/3 [==============================] - 0s 19ms/step - loss: 172.9932 - val_loss: 167.6959\n",
      "Epoch 66/100\n",
      "3/3 [==============================] - 0s 18ms/step - loss: 172.2979 - val_loss: 161.9798\n",
      "Epoch 67/100\n",
      "3/3 [==============================] - 0s 20ms/step - loss: 170.5134 - val_loss: 158.0670\n",
      "Epoch 68/100\n",
      "3/3 [==============================] - 0s 16ms/step - loss: 171.3734 - val_loss: 153.6703\n",
      "Epoch 69/100\n",
      "3/3 [==============================] - 0s 19ms/step - loss: 170.1605 - val_loss: 154.6223\n",
      "Epoch 70/100\n",
      "3/3 [==============================] - 0s 17ms/step - loss: 170.8671 - val_loss: 153.7949\n",
      "Epoch 71/100\n",
      "3/3 [==============================] - 0s 20ms/step - loss: 168.4796 - val_loss: 157.6053\n",
      "Epoch 72/100\n",
      "3/3 [==============================] - 0s 18ms/step - loss: 168.0259 - val_loss: 167.0805\n",
      "Epoch 73/100\n",
      "3/3 [==============================] - 0s 19ms/step - loss: 171.7236 - val_loss: 172.2815\n",
      "Epoch 74/100\n",
      "3/3 [==============================] - 0s 15ms/step - loss: 171.0195 - val_loss: 167.7117\n",
      "Epoch 75/100\n",
      "3/3 [==============================] - 0s 21ms/step - loss: 167.3540 - val_loss: 155.4298\n",
      "Epoch 76/100\n",
      "3/3 [==============================] - 0s 20ms/step - loss: 167.9601 - val_loss: 148.0784\n",
      "Epoch 77/100\n",
      "3/3 [==============================] - 0s 16ms/step - loss: 174.2978 - val_loss: 146.3280\n",
      "Epoch 78/100\n",
      "3/3 [==============================] - 0s 18ms/step - loss: 170.3062 - val_loss: 150.2157\n",
      "Epoch 79/100\n",
      "3/3 [==============================] - 0s 18ms/step - loss: 170.5317 - val_loss: 165.8233\n",
      "Epoch 80/100\n"
     ]
    },
    {
     "name": "stdout",
     "output_type": "stream",
     "text": [
      "3/3 [==============================] - 0s 21ms/step - loss: 167.8025 - val_loss: 173.1293\n",
      "Epoch 81/100\n",
      "3/3 [==============================] - 0s 17ms/step - loss: 170.5110 - val_loss: 176.1405\n",
      "Epoch 82/100\n",
      "3/3 [==============================] - 0s 19ms/step - loss: 171.0652 - val_loss: 168.1522\n",
      "Epoch 83/100\n",
      "3/3 [==============================] - 0s 15ms/step - loss: 165.6808 - val_loss: 157.4664\n",
      "Epoch 84/100\n",
      "3/3 [==============================] - 0s 15ms/step - loss: 164.7832 - val_loss: 146.9599\n",
      "Epoch 85/100\n",
      "3/3 [==============================] - 0s 20ms/step - loss: 167.5352 - val_loss: 144.9334\n",
      "Epoch 86/100\n",
      "3/3 [==============================] - 0s 15ms/step - loss: 166.1777 - val_loss: 148.3348\n",
      "Epoch 87/100\n",
      "3/3 [==============================] - 0s 20ms/step - loss: 163.9022 - val_loss: 148.8582\n",
      "Epoch 88/100\n",
      "3/3 [==============================] - 0s 17ms/step - loss: 163.0025 - val_loss: 157.0448\n",
      "Epoch 89/100\n",
      "3/3 [==============================] - 0s 22ms/step - loss: 165.3253 - val_loss: 159.6424\n",
      "Epoch 90/100\n",
      "3/3 [==============================] - 0s 17ms/step - loss: 164.4231 - val_loss: 156.0494\n",
      "Epoch 91/100\n",
      "3/3 [==============================] - 0s 19ms/step - loss: 163.1669 - val_loss: 153.6497\n",
      "Epoch 92/100\n",
      "3/3 [==============================] - 0s 16ms/step - loss: 161.5136 - val_loss: 147.4877\n",
      "Epoch 93/100\n",
      "3/3 [==============================] - 0s 20ms/step - loss: 162.3442 - val_loss: 144.7149\n",
      "Epoch 94/100\n",
      "3/3 [==============================] - 0s 17ms/step - loss: 162.0478 - val_loss: 144.5132\n",
      "Epoch 95/100\n",
      "3/3 [==============================] - 0s 19ms/step - loss: 161.4698 - val_loss: 144.4212\n",
      "Epoch 96/100\n",
      "3/3 [==============================] - 0s 20ms/step - loss: 160.5189 - val_loss: 148.5303\n",
      "Epoch 97/100\n",
      "3/3 [==============================] - 0s 17ms/step - loss: 160.9471 - val_loss: 151.9545\n",
      "Epoch 98/100\n",
      "3/3 [==============================] - 0s 21ms/step - loss: 163.5981 - val_loss: 153.8565\n",
      "Epoch 99/100\n",
      "3/3 [==============================] - 0s 21ms/step - loss: 161.6187 - val_loss: 155.5193\n",
      "Epoch 100/100\n",
      "3/3 [==============================] - 0s 16ms/step - loss: 160.6737 - val_loss: 148.2332\n"
     ]
    }
   ],
   "source": [
    "history = model.fit(X_train, y_train, epochs=100,\n",
    "                    validation_data=(X_valid, y_valid))"
   ]
  },
  {
   "cell_type": "markdown",
   "id": "17d6e37a",
   "metadata": {},
   "source": [
    "Plot the result"
   ]
  },
  {
   "cell_type": "code",
   "execution_count": 15,
   "id": "3b066f5c",
   "metadata": {},
   "outputs": [
    {
     "name": "stdout",
     "output_type": "stream",
     "text": [
      "Saving figure num_num_training_curve\n"
     ]
    },
    {
     "data": {
      "image/png": "[encoded data removed]",
      "text/plain": [
       "<Figure size 576x360 with 1 Axes>"
      ]
     },
     "metadata": {
      "needs_background": "light"
     },
     "output_type": "display_data"
    }
   ],
   "source": [
    "import pandas as pd\n",
    "\n",
    "pd.DataFrame(history.history).plot(figsize=(8, 5))\n",
    "plt.grid(True)\n",
    "# plt.gca().set_ylim(0, 1)\n",
    "save_fig(\"num_num_training_curve\")\n",
    "plt.show()"
   ]
  },
  {
   "cell_type": "code",
   "execution_count": 16,
   "id": "03f9bb54",
   "metadata": {},
   "outputs": [
    {
     "name": "stdout",
     "output_type": "stream",
     "text": [
      "Saving figure num_num_prediction\n"
     ]
    },
    {
     "data": {
      "image/png": "[encoded data removed]",
      "text/plain": [
       "<Figure size 432x288 with 1 Axes>"
      ]
     },
     "metadata": {
      "needs_background": "light"
     },
     "output_type": "display_data"
    }
   ],
   "source": [
    "# X_new = np.linspace(-5, 5, 100).reshape(100, 1)\n",
    "# y_new = model.predict(X_new)\n",
    "#\n",
    "# plt.plot(X_train, y_train, \"b.\")\n",
    "draw_points(X_train, y_train, sid_train)\n",
    "# plt.plot(X_new, y_new, \"r-\", linewidth=2, label=\"Predictions\")\n",
    "draw_func(model.predict, mark='r-', linewidth=2, label=\"Predictions\")\n",
    "draw_normal_func(func_dict)\n",
    "plt.xlabel(\"$x_1$\", fontsize=18)\n",
    "plt.ylabel(\"$y$\", rotation=0, fontsize=18)\n",
    "plt.legend(loc=\"upper left\", fontsize=14)\n",
    "# plt.axis([-3, 3, 0, 10])\n",
    "save_fig(\"num_num_prediction\")\n",
    "plt.show()"
   ]
  },
  {
   "cell_type": "code",
   "execution_count": 17,
   "id": "bc06d931",
   "metadata": {},
   "outputs": [
    {
     "name": "stdout",
     "output_type": "stream",
     "text": [
      "y_func.shape = (100, 1)\n",
      "y_gt.shape = (100, 1)\n"
     ]
    },
    {
     "data": {
      "text/plain": [
       "5.978600950908528"
      ]
     },
     "execution_count": 17,
     "metadata": {},
     "output_type": "execute_result"
    }
   ],
   "source": [
    "get_prediction_error(model.predict, func_dict, name=\"num-num\")"
   ]
  },
  {
   "cell_type": "markdown",
   "id": "58da8768",
   "metadata": {},
   "source": [
    "# Simulated CNN Feature Map (1-D grids, grid --> number)"
   ]
  },
  {
   "cell_type": "code",
   "execution_count": 18,
   "id": "287b5e4c",
   "metadata": {},
   "outputs": [],
   "source": [
    "class num2grid(keras.layers.Layer):\n",
    "    def __init__(self, units, x_min=-10, x_max=10, sigma=1.0, activation=None, **kwargs):\n",
    "        super().__init__(**kwargs)\n",
    "        self.units = units\n",
    "        self.x_min = x_min\n",
    "        self.x_max = x_max\n",
    "        self.sigma = sigma\n",
    "        self.sigma2 = self.sigma**2\n",
    "        self.activation = keras.activations.get(activation)\n",
    "        \n",
    "    def build(self, batch_input_shape):\n",
    "        #\n",
    "        self.x_grid = np.linspace(self.x_min, self.x_max, self.units, endpoint=True)\n",
    "#         print(\"self.x_grid.shape = %s\" % str(self.x_grid.shape))\n",
    "        #\n",
    "        super().build(batch_input_shape) # must be at the end\n",
    "        \n",
    "    def call(self, X):\n",
    "        '''\n",
    "        Input shape:  (batch, X_chanel)\n",
    "        Output shape: (batch, grid_unit) \n",
    "        \n",
    "        self.x_grid shape: (grid_unit,)\n",
    "        '''\n",
    "        gauss_grid = tf.exp( -(self.x_grid - X)**2 / (2.0*self.sigma2) )\n",
    "        print(\"X.shape = %s\" % str(X.shape))\n",
    "        print(\"gauss_grid.shape = %s\" % str(gauss_grid.shape))\n",
    "        return self.activation(gauss_grid)\n",
    "    \n",
    "    def compute_output_shape(self, batch_input_shape):\n",
    "        return tf.TensorShape(batch_input_shape.as_list()[:-1] + [self.units])\n",
    "    \n",
    "    def get_config(self):\n",
    "        base_config = super().get_config()\n",
    "        return {**base_config, \n",
    "                \"units\": self.units,\n",
    "                \"x_min\": self.x_min,\n",
    "                \"x_max\": self.x_max,\n",
    "                \"sigma\": self.sigma,\n",
    "                \"activation\": keras.activations.serialize(self.activation)}"
   ]
  },
  {
   "cell_type": "code",
   "execution_count": 19,
   "id": "f463c12a",
   "metadata": {},
   "outputs": [
    {
     "name": "stdout",
     "output_type": "stream",
     "text": [
      "X.shape = (None, 1)\n",
      "gauss_grid.shape = (None, 5)\n"
     ]
    },
    {
     "name": "stderr",
     "output_type": "stream",
     "text": [
      "C:\\Users\\benso\\anaconda3\\envs\\ml\\lib\\site-packages\\keras\\optimizer_v2\\adam.py:105: UserWarning: The `lr` argument is deprecated, use `learning_rate` instead.\n",
      "  super(Adam, self).__init__(name, **kwargs)\n"
     ]
    }
   ],
   "source": [
    "model = keras.models.Sequential([\n",
    "    num2grid(5,x_min=-10, x_max=10, sigma=3.0, input_shape=X_train.shape[1:]),\n",
    "    keras.layers.Dense(30, activation=\"relu\"),\n",
    "#     keras.layers.Dense(100, activation=\"relu\", kernel_regularizer=tf.keras.regularizers.l1(0.01)),\n",
    "#     keras.layers.Dense(30, activation=keras.layers.LeakyReLU(alpha=0.2) ),\n",
    "#     keras.layers.Dense(30, activation=\"selu\"),\n",
    "#     keras.layers.Dense(30, activation=\"relu\"),\n",
    "    keras.layers.Dense(1)\n",
    "])\n",
    "\n",
    "# optimizer = keras.optimizers.SGD(lr=0.001, momentum=0.9)\n",
    "# model.compile(loss=\"mean_squared_error\", optimizer=optimizer)\n",
    "optimizer = keras.optimizers.Adam(lr=0.1)\n",
    "model.compile(loss=\"mean_absolute_error\", optimizer=optimizer)"
   ]
  },
  {
   "cell_type": "code",
   "execution_count": 20,
   "id": "c966ada4",
   "metadata": {
    "scrolled": true
   },
   "outputs": [
    {
     "name": "stdout",
     "output_type": "stream",
     "text": [
      "Epoch 1/100\n",
      "X.shape = (None, 1)\n",
      "gauss_grid.shape = (None, 5)\n",
      "X.shape = (None, 1)\n",
      "gauss_grid.shape = (None, 5)\n",
      "1/3 [=========>....................] - ETA: 0s - loss: 44.7962X.shape = (None, 1)\n",
      "gauss_grid.shape = (None, 5)\n",
      "3/3 [==============================] - 1s 82ms/step - loss: 41.4560 - val_loss: 32.9037\n",
      "Epoch 2/100\n",
      "3/3 [==============================] - 0s 18ms/step - loss: 38.8018 - val_loss: 30.1188\n",
      "Epoch 3/100\n",
      "3/3 [==============================] - 0s 23ms/step - loss: 34.2752 - val_loss: 25.6119\n",
      "Epoch 4/100\n",
      "3/3 [==============================] - 0s 15ms/step - loss: 27.7503 - val_loss: 20.3168\n",
      "Epoch 5/100\n",
      "3/3 [==============================] - 0s 36ms/step - loss: 21.4226 - val_loss: 13.8487\n",
      "Epoch 6/100\n",
      "3/3 [==============================] - 0s 44ms/step - loss: 17.0393 - val_loss: 11.2272\n",
      "Epoch 7/100\n",
      "3/3 [==============================] - 0s 17ms/step - loss: 16.4216 - val_loss: 9.2418\n",
      "Epoch 8/100\n",
      "3/3 [==============================] - 0s 15ms/step - loss: 16.3973 - val_loss: 11.6362\n",
      "Epoch 9/100\n",
      "3/3 [==============================] - 0s 40ms/step - loss: 16.1757 - val_loss: 9.1394\n",
      "Epoch 10/100\n",
      "3/3 [==============================] - 0s 46ms/step - loss: 14.3848 - val_loss: 9.6836\n",
      "Epoch 11/100\n",
      "3/3 [==============================] - 0s 23ms/step - loss: 13.8997 - val_loss: 10.8658\n",
      "Epoch 12/100\n",
      "3/3 [==============================] - 0s 13ms/step - loss: 13.3826 - val_loss: 11.1800\n",
      "Epoch 13/100\n",
      "3/3 [==============================] - 0s 22ms/step - loss: 12.9858 - val_loss: 10.3990\n",
      "Epoch 14/100\n",
      "3/3 [==============================] - 0s 26ms/step - loss: 11.9423 - val_loss: 10.4541\n",
      "Epoch 15/100\n",
      "3/3 [==============================] - 0s 19ms/step - loss: 12.1275 - val_loss: 10.0558\n",
      "Epoch 16/100\n",
      "3/3 [==============================] - 0s 16ms/step - loss: 11.3712 - val_loss: 11.5921\n",
      "Epoch 17/100\n",
      "3/3 [==============================] - 0s 19ms/step - loss: 11.3841 - val_loss: 10.7107\n",
      "Epoch 18/100\n",
      "3/3 [==============================] - 0s 16ms/step - loss: 10.7649 - val_loss: 11.2768\n",
      "Epoch 19/100\n",
      "3/3 [==============================] - 0s 21ms/step - loss: 10.8126 - val_loss: 12.5229\n",
      "Epoch 20/100\n",
      "3/3 [==============================] - 0s 19ms/step - loss: 10.2967 - val_loss: 12.4836\n",
      "Epoch 21/100\n",
      "3/3 [==============================] - 0s 15ms/step - loss: 10.0385 - val_loss: 12.9937\n",
      "Epoch 22/100\n",
      "3/3 [==============================] - 0s 20ms/step - loss: 10.0999 - val_loss: 12.3927\n",
      "Epoch 23/100\n",
      "3/3 [==============================] - 0s 16ms/step - loss: 9.9735 - val_loss: 12.9401\n",
      "Epoch 24/100\n",
      "3/3 [==============================] - 0s 22ms/step - loss: 9.9889 - val_loss: 12.8683\n",
      "Epoch 25/100\n",
      "3/3 [==============================] - 0s 16ms/step - loss: 9.7588 - val_loss: 12.3413\n",
      "Epoch 26/100\n",
      "3/3 [==============================] - 0s 16ms/step - loss: 9.8079 - val_loss: 12.9394\n",
      "Epoch 27/100\n",
      "3/3 [==============================] - 0s 20ms/step - loss: 10.0585 - val_loss: 12.4364\n",
      "Epoch 28/100\n",
      "3/3 [==============================] - 0s 16ms/step - loss: 9.9206 - val_loss: 12.3819\n",
      "Epoch 29/100\n",
      "3/3 [==============================] - 0s 21ms/step - loss: 10.1338 - val_loss: 12.8497\n",
      "Epoch 30/100\n",
      "3/3 [==============================] - 0s 18ms/step - loss: 9.9126 - val_loss: 12.6990\n",
      "Epoch 31/100\n",
      "3/3 [==============================] - 0s 16ms/step - loss: 9.6526 - val_loss: 11.8597\n",
      "Epoch 32/100\n",
      "3/3 [==============================] - 0s 16ms/step - loss: 9.8778 - val_loss: 12.0313\n",
      "Epoch 33/100\n",
      "3/3 [==============================] - 0s 17ms/step - loss: 9.4459 - val_loss: 11.3487\n",
      "Epoch 34/100\n",
      "3/3 [==============================] - 0s 22ms/step - loss: 10.1125 - val_loss: 11.3848\n",
      "Epoch 35/100\n",
      "3/3 [==============================] - 0s 18ms/step - loss: 10.0798 - val_loss: 11.9724\n",
      "Epoch 36/100\n",
      "3/3 [==============================] - 0s 21ms/step - loss: 9.6753 - val_loss: 11.2737\n",
      "Epoch 37/100\n",
      "3/3 [==============================] - 0s 20ms/step - loss: 9.7924 - val_loss: 12.1977\n",
      "Epoch 38/100\n",
      "3/3 [==============================] - 0s 19ms/step - loss: 10.2544 - val_loss: 11.1098\n",
      "Epoch 39/100\n",
      "3/3 [==============================] - 0s 15ms/step - loss: 9.8364 - val_loss: 10.9670\n",
      "Epoch 40/100\n",
      "3/3 [==============================] - 0s 20ms/step - loss: 9.3918 - val_loss: 11.9078\n",
      "Epoch 41/100\n",
      "3/3 [==============================] - 0s 20ms/step - loss: 9.8748 - val_loss: 11.0438\n",
      "Epoch 42/100\n",
      "3/3 [==============================] - 0s 18ms/step - loss: 9.3558 - val_loss: 10.9142\n",
      "Epoch 43/100\n",
      "3/3 [==============================] - 0s 20ms/step - loss: 9.5103 - val_loss: 11.0165\n",
      "Epoch 44/100\n",
      "3/3 [==============================] - 0s 16ms/step - loss: 9.4093 - val_loss: 10.6437\n",
      "Epoch 45/100\n",
      "3/3 [==============================] - 0s 17ms/step - loss: 9.3311 - val_loss: 10.5758\n",
      "Epoch 46/100\n",
      "3/3 [==============================] - 0s 20ms/step - loss: 9.4513 - val_loss: 10.4962\n",
      "Epoch 47/100\n",
      "3/3 [==============================] - 0s 17ms/step - loss: 9.6333 - val_loss: 10.1052\n",
      "Epoch 48/100\n",
      "3/3 [==============================] - 0s 17ms/step - loss: 9.3631 - val_loss: 10.8938\n",
      "Epoch 49/100\n",
      "3/3 [==============================] - 0s 21ms/step - loss: 9.4025 - val_loss: 10.3536\n",
      "Epoch 50/100\n",
      "3/3 [==============================] - 0s 16ms/step - loss: 9.3420 - val_loss: 10.4141\n",
      "Epoch 51/100\n",
      "3/3 [==============================] - 0s 18ms/step - loss: 9.2719 - val_loss: 9.9432\n",
      "Epoch 52/100\n",
      "3/3 [==============================] - 0s 16ms/step - loss: 9.6150 - val_loss: 9.8611\n",
      "Epoch 53/100\n",
      "3/3 [==============================] - 0s 16ms/step - loss: 9.0901 - val_loss: 10.8192\n",
      "Epoch 54/100\n",
      "3/3 [==============================] - 0s 16ms/step - loss: 9.4465 - val_loss: 9.8783\n",
      "Epoch 55/100\n",
      "3/3 [==============================] - 0s 20ms/step - loss: 9.6565 - val_loss: 9.6146\n",
      "Epoch 56/100\n",
      "3/3 [==============================] - 0s 16ms/step - loss: 9.1764 - val_loss: 10.8817\n",
      "Epoch 57/100\n",
      "3/3 [==============================] - 0s 20ms/step - loss: 10.1087 - val_loss: 9.4406\n",
      "Epoch 58/100\n",
      "3/3 [==============================] - 0s 19ms/step - loss: 9.6916 - val_loss: 9.4030\n",
      "Epoch 59/100\n",
      "3/3 [==============================] - 0s 20ms/step - loss: 9.9767 - val_loss: 9.7293\n",
      "Epoch 60/100\n",
      "3/3 [==============================] - 0s 16ms/step - loss: 9.7406 - val_loss: 9.0265\n",
      "Epoch 61/100\n",
      "3/3 [==============================] - 0s 16ms/step - loss: 9.1148 - val_loss: 8.9220\n",
      "Epoch 62/100\n",
      "3/3 [==============================] - 0s 19ms/step - loss: 9.3983 - val_loss: 9.3492\n",
      "Epoch 63/100\n",
      "3/3 [==============================] - 0s 16ms/step - loss: 9.3899 - val_loss: 8.7909\n",
      "Epoch 64/100\n",
      "3/3 [==============================] - 0s 20ms/step - loss: 9.2063 - val_loss: 8.5334\n",
      "Epoch 65/100\n",
      "3/3 [==============================] - 0s 17ms/step - loss: 9.0197 - val_loss: 9.8798\n",
      "Epoch 66/100\n",
      "3/3 [==============================] - 0s 20ms/step - loss: 9.8408 - val_loss: 9.9225\n",
      "Epoch 67/100\n",
      "3/3 [==============================] - 0s 16ms/step - loss: 9.3276 - val_loss: 9.6307\n",
      "Epoch 68/100\n",
      "3/3 [==============================] - 0s 21ms/step - loss: 9.3272 - val_loss: 9.7530\n",
      "Epoch 69/100\n",
      "3/3 [==============================] - 0s 16ms/step - loss: 9.1752 - val_loss: 9.5419\n",
      "Epoch 70/100\n",
      "3/3 [==============================] - 0s 16ms/step - loss: 9.5761 - val_loss: 9.3780\n",
      "Epoch 71/100\n",
      "3/3 [==============================] - 0s 20ms/step - loss: 9.3934 - val_loss: 9.7376\n",
      "Epoch 72/100\n",
      "3/3 [==============================] - 0s 16ms/step - loss: 9.2579 - val_loss: 9.1813\n",
      "Epoch 73/100\n",
      "3/3 [==============================] - 0s 21ms/step - loss: 9.6732 - val_loss: 9.1371\n",
      "Epoch 74/100\n",
      "3/3 [==============================] - 0s 17ms/step - loss: 9.4428 - val_loss: 9.9399\n",
      "Epoch 75/100\n",
      "3/3 [==============================] - 0s 17ms/step - loss: 9.3609 - val_loss: 8.6628\n",
      "Epoch 76/100\n",
      "3/3 [==============================] - 0s 16ms/step - loss: 9.5251 - val_loss: 8.7976\n",
      "Epoch 77/100\n",
      "3/3 [==============================] - 0s 16ms/step - loss: 9.2199 - val_loss: 10.0225\n",
      "Epoch 78/100\n",
      "3/3 [==============================] - 0s 17ms/step - loss: 9.8178 - val_loss: 8.2807\n",
      "Epoch 79/100\n",
      "3/3 [==============================] - 0s 15ms/step - loss: 9.1978 - val_loss: 8.7182\n",
      "Epoch 80/100\n",
      "3/3 [==============================] - 0s 16ms/step - loss: 9.0262 - val_loss: 8.4663\n"
     ]
    },
    {
     "name": "stdout",
     "output_type": "stream",
     "text": [
      "Epoch 81/100\n",
      "3/3 [==============================] - 0s 20ms/step - loss: 9.2396 - val_loss: 8.2837\n",
      "Epoch 82/100\n",
      "3/3 [==============================] - 0s 23ms/step - loss: 9.2532 - val_loss: 8.5209\n",
      "Epoch 83/100\n",
      "3/3 [==============================] - 0s 18ms/step - loss: 9.1849 - val_loss: 7.9737\n",
      "Epoch 84/100\n",
      "3/3 [==============================] - 0s 14ms/step - loss: 9.2058 - val_loss: 7.6888\n",
      "Epoch 85/100\n",
      "3/3 [==============================] - 0s 19ms/step - loss: 9.0688 - val_loss: 7.8239\n",
      "Epoch 86/100\n",
      "3/3 [==============================] - 0s 15ms/step - loss: 9.0663 - val_loss: 7.7561\n",
      "Epoch 87/100\n",
      "3/3 [==============================] - 0s 20ms/step - loss: 9.6381 - val_loss: 7.9432\n",
      "Epoch 88/100\n",
      "3/3 [==============================] - 0s 16ms/step - loss: 9.1408 - val_loss: 7.5855\n",
      "Epoch 89/100\n",
      "3/3 [==============================] - 0s 19ms/step - loss: 9.2745 - val_loss: 7.4021\n",
      "Epoch 90/100\n",
      "3/3 [==============================] - 0s 16ms/step - loss: 9.1634 - val_loss: 7.5219\n",
      "Epoch 91/100\n",
      "3/3 [==============================] - 0s 20ms/step - loss: 8.9824 - val_loss: 7.9706\n",
      "Epoch 92/100\n",
      "3/3 [==============================] - 0s 16ms/step - loss: 9.0025 - val_loss: 7.8352\n",
      "Epoch 93/100\n",
      "3/3 [==============================] - 0s 16ms/step - loss: 9.1699 - val_loss: 7.6508\n",
      "Epoch 94/100\n",
      "3/3 [==============================] - 0s 19ms/step - loss: 8.9934 - val_loss: 7.4383\n",
      "Epoch 95/100\n",
      "3/3 [==============================] - 0s 19ms/step - loss: 9.6171 - val_loss: 7.2367\n",
      "Epoch 96/100\n",
      "3/3 [==============================] - 0s 19ms/step - loss: 9.2108 - val_loss: 8.2684\n",
      "Epoch 97/100\n",
      "3/3 [==============================] - 0s 15ms/step - loss: 9.3563 - val_loss: 7.6059\n",
      "Epoch 98/100\n",
      "3/3 [==============================] - 0s 15ms/step - loss: 9.6770 - val_loss: 7.5835\n",
      "Epoch 99/100\n",
      "3/3 [==============================] - 0s 18ms/step - loss: 8.9347 - val_loss: 9.1459\n",
      "Epoch 100/100\n",
      "3/3 [==============================] - 0s 16ms/step - loss: 9.7495 - val_loss: 8.6988\n"
     ]
    }
   ],
   "source": [
    "history = model.fit(X_train, y_train, epochs=100,\n",
    "                    validation_data=(X_valid, y_valid))"
   ]
  },
  {
   "cell_type": "code",
   "execution_count": 21,
   "id": "4d550f88",
   "metadata": {},
   "outputs": [
    {
     "name": "stdout",
     "output_type": "stream",
     "text": [
      "Saving figure grid_num_training_curve\n"
     ]
    },
    {
     "data": {
      "image/png": "[encoded data removed]",
      "text/plain": [
       "<Figure size 576x360 with 1 Axes>"
      ]
     },
     "metadata": {
      "needs_background": "light"
     },
     "output_type": "display_data"
    }
   ],
   "source": [
    "import pandas as pd\n",
    "\n",
    "pd.DataFrame(history.history).plot(figsize=(8, 5))\n",
    "plt.grid(True)\n",
    "# plt.gca().set_ylim(0, 1)\n",
    "save_fig(\"grid_num_training_curve\")\n",
    "plt.show()"
   ]
  },
  {
   "cell_type": "code",
   "execution_count": 22,
   "id": "5487653c",
   "metadata": {},
   "outputs": [
    {
     "name": "stdout",
     "output_type": "stream",
     "text": [
      "X.shape = (None, 1)\n",
      "gauss_grid.shape = (None, 5)\n",
      "Saving figure grid_num_prediction\n"
     ]
    },
    {
     "data": {
      "image/png": "[encoded data removed]",
      "text/plain": [
       "<Figure size 432x288 with 1 Axes>"
      ]
     },
     "metadata": {
      "needs_background": "light"
     },
     "output_type": "display_data"
    }
   ],
   "source": [
    "# X_new = np.linspace(-5, 5, 100).reshape(100, 1)\n",
    "# y_new = model.predict(X_new)\n",
    "#\n",
    "# plt.plot(X_train, y_train, \"b.\")\n",
    "draw_points(X_train, y_train, sid_train)\n",
    "# plt.plot(X_new, y_new, \"r-\", linewidth=2, label=\"Predictions\")\n",
    "draw_func(model.predict, mark='r-', linewidth=2, label=\"Predictions\")\n",
    "draw_normal_func(func_dict)\n",
    "plt.xlabel(\"$x_1$\", fontsize=18)\n",
    "plt.ylabel(\"$y$\", rotation=0, fontsize=18)\n",
    "plt.legend(loc=\"upper left\", fontsize=14)\n",
    "# plt.axis([-3, 3, 0, 10])\n",
    "save_fig(\"grid_num_prediction\")\n",
    "plt.show()"
   ]
  },
  {
   "cell_type": "code",
   "execution_count": 23,
   "id": "f9c053a4",
   "metadata": {},
   "outputs": [
    {
     "name": "stdout",
     "output_type": "stream",
     "text": [
      "y_func.shape = (100, 1)\n",
      "y_gt.shape = (100, 1)\n"
     ]
    },
    {
     "data": {
      "text/plain": [
       "3.110647555354079"
      ]
     },
     "execution_count": 23,
     "metadata": {},
     "output_type": "execute_result"
    }
   ],
   "source": [
    "get_prediction_error(model.predict, func_dict, name=\"grid-num\")"
   ]
  },
  {
   "cell_type": "markdown",
   "id": "fe65d614",
   "metadata": {},
   "source": [
    "# Grid & Regression by Classification (grid --> grid)"
   ]
  },
  {
   "cell_type": "code",
   "execution_count": 24,
   "id": "3d35615e",
   "metadata": {},
   "outputs": [],
   "source": [
    "class num2grid_np():\n",
    "    def __init__(self, units, x_min=-10, x_max=10, sigma=1.0):\n",
    "        self.units = units\n",
    "        self.x_min = x_min\n",
    "        self.x_max = x_max\n",
    "        self.sigma = sigma\n",
    "        self.sigma2 = self.sigma**2\n",
    "        self.x_grid = np.linspace(self.x_min, self.x_max, self.units, endpoint=True)\n",
    "        print(\"self.x_grid = %s\" % str(self.x_grid))\n",
    "        \n",
    "    def convert(self, X):\n",
    "        gauss_grid = np.exp( -(self.x_grid - X)**2 / (2.0*self.sigma2) )\n",
    "#         if len(gauss_grid.shape) == 1:\n",
    "#             gauss_grid = gauss_grid.reshape([1,-1])\n",
    "#         grid_sum = np.sum(gauss_grid, axis=1, keepdims=True)\n",
    "        grid_sum = np.sum(gauss_grid, axis=-1, keepdims=True)\n",
    "        gauss_grid = gauss_grid / grid_sum\n",
    "        return gauss_grid\n",
    "    \n",
    "    def inv_convert(self, grid):\n",
    "#         if len(grid.shape) == 1:\n",
    "#             grid = grid.reshape([1,-1])\n",
    "#         grid_sum = np.sum(grid, axis=1)\n",
    "        grid_sum = np.sum(grid, axis=-1)\n",
    "#         print(grid_sum)\n",
    "        exp_num = np.sum((self.x_grid * grid), axis=-1) / grid_sum # element-wise\n",
    "        return exp_num\n",
    "    \n",
    "    def get_statistic(self, grid):\n",
    "        grid_sum = np.sum(grid, axis=-1)\n",
    "        _mean = np.sum((self.x_grid * grid), axis=-1) / grid_sum # element-wise\n",
    "        _var  = np.sum( ((self.x_grid.reshape((1,-1)) - _mean.reshape((-1,1)))**2 * grid), axis=-1) / grid_sum # element-wise\n",
    "        # print(\"(_mean, _var) = (%f, %f)\" % (_mean, _var))\n",
    "        _stddev = np.sqrt(_var)\n",
    "        return _mean, _stddev"
   ]
  },
  {
   "cell_type": "code",
   "execution_count": 25,
   "id": "4903180b",
   "metadata": {},
   "outputs": [
    {
     "name": "stdout",
     "output_type": "stream",
     "text": [
      "self.x_grid = [-100.          -95.91836735  -91.83673469  -87.75510204  -83.67346939\n",
      "  -79.59183673  -75.51020408  -71.42857143  -67.34693878  -63.26530612\n",
      "  -59.18367347  -55.10204082  -51.02040816  -46.93877551  -42.85714286\n",
      "  -38.7755102   -34.69387755  -30.6122449   -26.53061224  -22.44897959\n",
      "  -18.36734694  -14.28571429  -10.20408163   -6.12244898   -2.04081633\n",
      "    2.04081633    6.12244898   10.20408163   14.28571429   18.36734694\n",
      "   22.44897959   26.53061224   30.6122449    34.69387755   38.7755102\n",
      "   42.85714286   46.93877551   51.02040816   55.10204082   59.18367347\n",
      "   63.26530612   67.34693878   71.42857143   75.51020408   79.59183673\n",
      "   83.67346939   87.75510204   91.83673469   95.91836735  100.        ]\n"
     ]
    }
   ],
   "source": [
    "# class_num = 10 # 10\n",
    "# n2g = num2grid_np(class_num, x_min=-100.0, x_max=100.0, sigma=20.0) # 20.0\n",
    "# class_num = 20\n",
    "# n2g = num2grid_np(class_num, x_min=-100.0, x_max=100.0, sigma=15.0) # 20.0\n",
    "class_num = 50\n",
    "n2g = num2grid_np(class_num, x_min=-100.0, x_max=100.0, sigma=6.0) # 5.0 "
   ]
  },
  {
   "cell_type": "code",
   "execution_count": 26,
   "id": "dce05258",
   "metadata": {},
   "outputs": [
    {
     "name": "stdout",
     "output_type": "stream",
     "text": [
      "[[3.57995092e-60 2.08100846e-55 7.61538914e-51 1.75441300e-46\n",
      "  2.54444491e-42 2.32314196e-38 1.33530332e-34 4.83176258e-31\n",
      "  1.10065884e-27 1.57841554e-24 1.42498879e-21 8.09884396e-19\n",
      "  2.89771784e-16 6.52695532e-14 9.25521826e-12 8.26198061e-10\n",
      "  4.64304784e-08 1.64264466e-06 3.65852120e-05 5.12966502e-04\n",
      "  4.52786966e-03 2.51605603e-02 8.80173281e-02 1.93837381e-01\n",
      "  2.68737559e-01 2.34552834e-01 1.28876722e-01 4.45789421e-02\n",
      "  9.70748025e-03 1.33077537e-03 1.14848275e-04 6.23972825e-06\n",
      "  2.13416679e-07 4.59528573e-09 6.22899760e-11 5.31551427e-13\n",
      "  2.85557712e-15 9.65748361e-18 2.05615356e-20 2.75593262e-23\n",
      "  2.32542921e-26 1.23526215e-29 4.13082337e-33 8.69632169e-37\n",
      "  1.15254011e-40 9.61607812e-45 5.05081425e-49 1.67011468e-53\n",
      "  3.47658354e-58 4.55596654e-63]]\n"
     ]
    }
   ],
   "source": [
    "# grid_1 = n2g.convert(-1.2)\n",
    "grid_1 = n2g.convert([[-1.2]])\n",
    "print(grid_1)"
   ]
  },
  {
   "cell_type": "code",
   "execution_count": 27,
   "id": "48203fe2",
   "metadata": {},
   "outputs": [
    {
     "data": {
      "text/plain": [
       "array([-1.2])"
      ]
     },
     "execution_count": 27,
     "metadata": {},
     "output_type": "execute_result"
    }
   ],
   "source": [
    "n2g.inv_convert(grid_1)"
   ]
  },
  {
   "cell_type": "code",
   "execution_count": 28,
   "id": "a741b6d1",
   "metadata": {},
   "outputs": [
    {
     "data": {
      "text/plain": [
       "(array([-1.2]), array([6.]))"
      ]
     },
     "execution_count": 28,
     "metadata": {},
     "output_type": "execute_result"
    }
   ],
   "source": [
    "n2g.get_statistic(grid_1)"
   ]
  },
  {
   "cell_type": "markdown",
   "id": "bdc0b9a0",
   "metadata": {},
   "source": [
    "### Convert the labels to grid (pre-processing)"
   ]
  },
  {
   "cell_type": "code",
   "execution_count": 29,
   "id": "39c7fa96",
   "metadata": {},
   "outputs": [],
   "source": [
    "y_train_grid = n2g.convert(y_train)\n",
    "y_valid_grid = n2g.convert(y_valid)"
   ]
  },
  {
   "cell_type": "code",
   "execution_count": 30,
   "id": "f577a751",
   "metadata": {},
   "outputs": [
    {
     "name": "stdout",
     "output_type": "stream",
     "text": [
      "(80, 50)\n",
      "(20, 50)\n"
     ]
    }
   ],
   "source": [
    "print(y_train_grid.shape)\n",
    "print(y_valid_grid.shape)"
   ]
  },
  {
   "cell_type": "code",
   "execution_count": 31,
   "id": "71610af1",
   "metadata": {},
   "outputs": [
    {
     "name": "stdout",
     "output_type": "stream",
     "text": [
      "X.shape = (None, 1)\n",
      "gauss_grid.shape = (None, 5)\n"
     ]
    },
    {
     "name": "stderr",
     "output_type": "stream",
     "text": [
      "C:\\Users\\benso\\anaconda3\\envs\\ml\\lib\\site-packages\\keras\\optimizer_v2\\gradient_descent.py:102: UserWarning: The `lr` argument is deprecated, use `learning_rate` instead.\n",
      "  super(SGD, self).__init__(name, **kwargs)\n"
     ]
    }
   ],
   "source": [
    "model = keras.models.Sequential([\n",
    "#     keras.layers.Dense(30, activation=\"relu\", input_shape=X_train.shape[1:]),\n",
    "    num2grid(5,x_min=-10, x_max=10, sigma=3.0, input_shape=X_train.shape[1:]),\n",
    "    keras.layers.Dense(30, activation=\"relu\"),\n",
    "#     keras.layers.Dense(100, activation=\"relu\", kernel_regularizer=tf.keras.regularizers.l1(0.01)),\n",
    "    keras.layers.Dense(class_num, activation=\"softmax\"),\n",
    "])\n",
    "\n",
    "optimizer = keras.optimizers.SGD(lr=0.2, momentum=0.9)\n",
    "model.compile(loss=\"categorical_crossentropy\", optimizer=optimizer)"
   ]
  },
  {
   "cell_type": "code",
   "execution_count": 32,
   "id": "e2244aee",
   "metadata": {
    "scrolled": true
   },
   "outputs": [
    {
     "name": "stdout",
     "output_type": "stream",
     "text": [
      "Epoch 1/100\n",
      "X.shape = (None, 1)\n",
      "gauss_grid.shape = (None, 5)\n",
      "X.shape = (None, 1)\n",
      "gauss_grid.shape = (None, 5)\n",
      "1/3 [=========>....................] - ETA: 1s - loss: 3.9093X.shape = (None, 1)\n",
      "gauss_grid.shape = (None, 5)\n",
      "3/3 [==============================] - 1s 105ms/step - loss: 3.8975 - val_loss: 3.8838\n",
      "Epoch 2/100\n",
      "3/3 [==============================] - 0s 15ms/step - loss: 3.8456 - val_loss: 3.8315\n",
      "Epoch 3/100\n",
      "3/3 [==============================] - 0s 30ms/step - loss: 3.7671 - val_loss: 3.7695\n",
      "Epoch 4/100\n",
      "3/3 [==============================] - 0s 42ms/step - loss: 3.6664 - val_loss: 3.7099\n",
      "Epoch 5/100\n",
      "3/3 [==============================] - 0s 16ms/step - loss: 3.5581 - val_loss: 3.6490\n",
      "Epoch 6/100\n",
      "3/3 [==============================] - 0s 18ms/step - loss: 3.4481 - val_loss: 3.5812\n",
      "Epoch 7/100\n",
      "3/3 [==============================] - 0s 33ms/step - loss: 3.3394 - val_loss: 3.5187\n",
      "Epoch 8/100\n",
      "3/3 [==============================] - 0s 40ms/step - loss: 3.2510 - val_loss: 3.4654\n",
      "Epoch 9/100\n",
      "3/3 [==============================] - 0s 27ms/step - loss: 3.1876 - val_loss: 3.3753\n",
      "Epoch 10/100\n",
      "3/3 [==============================] - 0s 19ms/step - loss: 3.1270 - val_loss: 3.2522\n",
      "Epoch 11/100\n",
      "3/3 [==============================] - 0s 26ms/step - loss: 3.0725 - val_loss: 3.1777\n",
      "Epoch 12/100\n",
      "3/3 [==============================] - 0s 19ms/step - loss: 3.0451 - val_loss: 3.1238\n",
      "Epoch 13/100\n",
      "3/3 [==============================] - ETA: 0s - loss: 3.011 - 0s 17ms/step - loss: 3.0058 - val_loss: 3.0958\n",
      "Epoch 14/100\n",
      "3/3 [==============================] - 0s 21ms/step - loss: 2.9839 - val_loss: 3.0997\n",
      "Epoch 15/100\n",
      "3/3 [==============================] - 0s 16ms/step - loss: 2.9591 - val_loss: 3.0804\n",
      "Epoch 16/100\n",
      "3/3 [==============================] - 0s 18ms/step - loss: 2.9382 - val_loss: 3.0551\n",
      "Epoch 17/100\n",
      "3/3 [==============================] - 0s 17ms/step - loss: 2.9077 - val_loss: 3.0291\n",
      "Epoch 18/100\n",
      "3/3 [==============================] - 0s 16ms/step - loss: 2.8881 - val_loss: 3.0327\n",
      "Epoch 19/100\n",
      "3/3 [==============================] - 0s 20ms/step - loss: 2.8625 - val_loss: 3.0429\n",
      "Epoch 20/100\n",
      "3/3 [==============================] - 0s 19ms/step - loss: 2.8398 - val_loss: 3.0437\n",
      "Epoch 21/100\n",
      "3/3 [==============================] - 0s 16ms/step - loss: 2.8264 - val_loss: 2.9979\n",
      "Epoch 22/100\n",
      "3/3 [==============================] - 0s 21ms/step - loss: 2.8039 - val_loss: 2.9734\n",
      "Epoch 23/100\n",
      "3/3 [==============================] - 0s 20ms/step - loss: 2.7798 - val_loss: 2.9334\n",
      "Epoch 24/100\n",
      "3/3 [==============================] - 0s 16ms/step - loss: 2.7530 - val_loss: 2.9230\n",
      "Epoch 25/100\n",
      "3/3 [==============================] - 0s 20ms/step - loss: 2.7418 - val_loss: 2.9284\n",
      "Epoch 26/100\n",
      "3/3 [==============================] - 0s 17ms/step - loss: 2.7273 - val_loss: 2.9796\n",
      "Epoch 27/100\n",
      "3/3 [==============================] - 0s 18ms/step - loss: 2.7092 - val_loss: 2.8952\n",
      "Epoch 28/100\n",
      "3/3 [==============================] - 0s 17ms/step - loss: 2.7101 - val_loss: 2.8082\n",
      "Epoch 29/100\n",
      "3/3 [==============================] - 0s 20ms/step - loss: 2.6813 - val_loss: 2.8387\n",
      "Epoch 30/100\n",
      "3/3 [==============================] - 0s 16ms/step - loss: 2.6809 - val_loss: 2.9220\n",
      "Epoch 31/100\n",
      "3/3 [==============================] - 0s 21ms/step - loss: 2.6651 - val_loss: 2.8993\n",
      "Epoch 32/100\n",
      "3/3 [==============================] - 0s 19ms/step - loss: 2.6488 - val_loss: 2.9012\n",
      "Epoch 33/100\n",
      "3/3 [==============================] - 0s 16ms/step - loss: 2.6333 - val_loss: 2.8603\n",
      "Epoch 34/100\n",
      "3/3 [==============================] - 0s 22ms/step - loss: 2.6162 - val_loss: 2.8306\n",
      "Epoch 35/100\n",
      "3/3 [==============================] - 0s 16ms/step - loss: 2.6083 - val_loss: 2.8158\n",
      "Epoch 36/100\n",
      "3/3 [==============================] - 0s 17ms/step - loss: 2.6049 - val_loss: 2.8042\n",
      "Epoch 37/100\n",
      "3/3 [==============================] - 0s 21ms/step - loss: 2.5899 - val_loss: 2.8360\n",
      "Epoch 38/100\n",
      "3/3 [==============================] - 0s 18ms/step - loss: 2.5887 - val_loss: 2.7864\n",
      "Epoch 39/100\n",
      "3/3 [==============================] - 0s 16ms/step - loss: 2.5755 - val_loss: 2.7248\n",
      "Epoch 40/100\n",
      "3/3 [==============================] - 0s 17ms/step - loss: 2.5656 - val_loss: 2.7250\n",
      "Epoch 41/100\n",
      "3/3 [==============================] - 0s 20ms/step - loss: 2.5597 - val_loss: 2.7410\n",
      "Epoch 42/100\n",
      "3/3 [==============================] - 0s 13ms/step - loss: 2.5498 - val_loss: 2.7591\n",
      "Epoch 43/100\n",
      "3/3 [==============================] - 0s 19ms/step - loss: 2.5409 - val_loss: 2.7552\n",
      "Epoch 44/100\n",
      "3/3 [==============================] - 0s 17ms/step - loss: 2.5293 - val_loss: 2.7088\n",
      "Epoch 45/100\n",
      "3/3 [==============================] - 0s 18ms/step - loss: 2.5354 - val_loss: 2.6707\n",
      "Epoch 46/100\n",
      "3/3 [==============================] - 0s 19ms/step - loss: 2.5368 - val_loss: 2.6657\n",
      "Epoch 47/100\n",
      "3/3 [==============================] - 0s 16ms/step - loss: 2.5266 - val_loss: 2.7878\n",
      "Epoch 48/100\n",
      "3/3 [==============================] - 0s 20ms/step - loss: 2.5302 - val_loss: 2.7274\n",
      "Epoch 49/100\n",
      "3/3 [==============================] - 0s 15ms/step - loss: 2.5223 - val_loss: 2.6257\n",
      "Epoch 50/100\n",
      "3/3 [==============================] - 0s 22ms/step - loss: 2.4988 - val_loss: 2.6480\n",
      "Epoch 51/100\n",
      "3/3 [==============================] - 0s 18ms/step - loss: 2.4982 - val_loss: 2.7754\n",
      "Epoch 52/100\n",
      "3/3 [==============================] - 0s 20ms/step - loss: 2.5098 - val_loss: 2.7580\n",
      "Epoch 53/100\n",
      "3/3 [==============================] - 0s 16ms/step - loss: 2.5006 - val_loss: 2.6725\n",
      "Epoch 54/100\n",
      "3/3 [==============================] - 0s 21ms/step - loss: 2.4873 - val_loss: 2.6368\n",
      "Epoch 55/100\n",
      "3/3 [==============================] - 0s 18ms/step - loss: 2.4826 - val_loss: 2.7047\n",
      "Epoch 56/100\n",
      "3/3 [==============================] - 0s 22ms/step - loss: 2.4897 - val_loss: 2.7043\n",
      "Epoch 57/100\n",
      "3/3 [==============================] - 0s 18ms/step - loss: 2.4967 - val_loss: 2.6266\n",
      "Epoch 58/100\n",
      "3/3 [==============================] - 0s 17ms/step - loss: 2.4819 - val_loss: 2.6193\n",
      "Epoch 59/100\n",
      "3/3 [==============================] - 0s 17ms/step - loss: 2.4820 - val_loss: 2.6536\n",
      "Epoch 60/100\n",
      "3/3 [==============================] - 0s 19ms/step - loss: 2.4777 - val_loss: 2.6472\n",
      "Epoch 61/100\n",
      "3/3 [==============================] - 0s 18ms/step - loss: 2.4627 - val_loss: 2.6279\n",
      "Epoch 62/100\n",
      "3/3 [==============================] - 0s 22ms/step - loss: 2.4710 - val_loss: 2.6559\n",
      "Epoch 63/100\n",
      "3/3 [==============================] - 0s 14ms/step - loss: 2.4513 - val_loss: 2.5921\n",
      "Epoch 64/100\n",
      "3/3 [==============================] - 0s 16ms/step - loss: 2.4522 - val_loss: 2.6043\n",
      "Epoch 65/100\n",
      "3/3 [==============================] - 0s 22ms/step - loss: 2.4558 - val_loss: 2.6201\n",
      "Epoch 66/100\n",
      "3/3 [==============================] - 0s 18ms/step - loss: 2.4430 - val_loss: 2.6257\n",
      "Epoch 67/100\n",
      "3/3 [==============================] - 0s 20ms/step - loss: 2.4497 - val_loss: 2.6631\n",
      "Epoch 68/100\n",
      "3/3 [==============================] - 0s 17ms/step - loss: 2.4428 - val_loss: 2.7196\n",
      "Epoch 69/100\n",
      "3/3 [==============================] - 0s 17ms/step - loss: 2.4432 - val_loss: 2.6324\n",
      "Epoch 70/100\n",
      "3/3 [==============================] - 0s 18ms/step - loss: 2.4439 - val_loss: 2.5367\n",
      "Epoch 71/100\n",
      "3/3 [==============================] - 0s 18ms/step - loss: 2.4510 - val_loss: 2.5780\n",
      "Epoch 72/100\n",
      "3/3 [==============================] - 0s 25ms/step - loss: 2.4394 - val_loss: 2.7647\n",
      "Epoch 73/100\n",
      "3/3 [==============================] - 0s 21ms/step - loss: 2.4569 - val_loss: 2.7286\n",
      "Epoch 74/100\n",
      "3/3 [==============================] - 0s 18ms/step - loss: 2.4530 - val_loss: 2.5773\n",
      "Epoch 75/100\n",
      "3/3 [==============================] - 0s 21ms/step - loss: 2.4271 - val_loss: 2.5471\n",
      "Epoch 76/100\n",
      "3/3 [==============================] - 0s 17ms/step - loss: 2.4519 - val_loss: 2.5922\n",
      "Epoch 77/100\n",
      "3/3 [==============================] - 0s 18ms/step - loss: 2.4229 - val_loss: 2.6113\n",
      "Epoch 78/100\n",
      "3/3 [==============================] - 0s 16ms/step - loss: 2.4341 - val_loss: 2.6111\n",
      "Epoch 79/100\n",
      "3/3 [==============================] - 0s 20ms/step - loss: 2.4139 - val_loss: 2.5861\n",
      "Epoch 80/100\n",
      "3/3 [==============================] - 0s 16ms/step - loss: 2.4327 - val_loss: 2.5936\n",
      "Epoch 81/100\n"
     ]
    },
    {
     "name": "stdout",
     "output_type": "stream",
     "text": [
      "3/3 [==============================] - 0s 16ms/step - loss: 2.4227 - val_loss: 2.6201\n",
      "Epoch 82/100\n",
      "3/3 [==============================] - 0s 16ms/step - loss: 2.4242 - val_loss: 2.6411\n",
      "Epoch 83/100\n",
      "3/3 [==============================] - 0s 19ms/step - loss: 2.4148 - val_loss: 2.5756\n",
      "Epoch 84/100\n",
      "3/3 [==============================] - 0s 14ms/step - loss: 2.4206 - val_loss: 2.5636\n",
      "Epoch 85/100\n",
      "3/3 [==============================] - 0s 19ms/step - loss: 2.4183 - val_loss: 2.6164\n",
      "Epoch 86/100\n",
      "3/3 [==============================] - 0s 20ms/step - loss: 2.4056 - val_loss: 2.5681\n",
      "Epoch 87/100\n",
      "3/3 [==============================] - 0s 17ms/step - loss: 2.4289 - val_loss: 2.5374\n",
      "Epoch 88/100\n",
      "3/3 [==============================] - 0s 17ms/step - loss: 2.4029 - val_loss: 2.5616\n",
      "Epoch 89/100\n",
      "3/3 [==============================] - 0s 19ms/step - loss: 2.4074 - val_loss: 2.6056\n",
      "Epoch 90/100\n",
      "3/3 [==============================] - 0s 15ms/step - loss: 2.4193 - val_loss: 2.5628\n",
      "Epoch 91/100\n",
      "3/3 [==============================] - 0s 20ms/step - loss: 2.3880 - val_loss: 2.6211\n",
      "Epoch 92/100\n",
      "3/3 [==============================] - 0s 16ms/step - loss: 2.3957 - val_loss: 2.6394\n",
      "Epoch 93/100\n",
      "3/3 [==============================] - 0s 21ms/step - loss: 2.3939 - val_loss: 2.5884\n",
      "Epoch 94/100\n",
      "3/3 [==============================] - 0s 16ms/step - loss: 2.3965 - val_loss: 2.5513\n",
      "Epoch 95/100\n",
      "3/3 [==============================] - 0s 20ms/step - loss: 2.3926 - val_loss: 2.5650\n",
      "Epoch 96/100\n",
      "3/3 [==============================] - 0s 22ms/step - loss: 2.3963 - val_loss: 2.5091\n",
      "Epoch 97/100\n",
      "3/3 [==============================] - 0s 17ms/step - loss: 2.3894 - val_loss: 2.5269\n",
      "Epoch 98/100\n",
      "3/3 [==============================] - 0s 16ms/step - loss: 2.3847 - val_loss: 2.5642\n",
      "Epoch 99/100\n",
      "3/3 [==============================] - 0s 21ms/step - loss: 2.3780 - val_loss: 2.6054\n",
      "Epoch 100/100\n",
      "3/3 [==============================] - 0s 16ms/step - loss: 2.3785 - val_loss: 2.5976\n"
     ]
    }
   ],
   "source": [
    "history = model.fit(X_train, y_train_grid, epochs=100,\n",
    "                    validation_data=(X_valid, y_valid_grid))"
   ]
  },
  {
   "cell_type": "code",
   "execution_count": 33,
   "id": "390834c9",
   "metadata": {},
   "outputs": [
    {
     "name": "stdout",
     "output_type": "stream",
     "text": [
      "Saving figure grid_rbc_training_curve\n"
     ]
    },
    {
     "data": {
      "image/png": "[encoded data removed]",
      "text/plain": [
       "<Figure size 576x360 with 1 Axes>"
      ]
     },
     "metadata": {
      "needs_background": "light"
     },
     "output_type": "display_data"
    }
   ],
   "source": [
    "import pandas as pd\n",
    "\n",
    "pd.DataFrame(history.history).plot(figsize=(8, 5))\n",
    "plt.grid(True)\n",
    "# plt.gca().set_ylim(0, 1)\n",
    "save_fig(\"grid_rbc_training_curve\")\n",
    "plt.show()"
   ]
  },
  {
   "cell_type": "code",
   "execution_count": 34,
   "id": "6fba3b6a",
   "metadata": {},
   "outputs": [
    {
     "name": "stdout",
     "output_type": "stream",
     "text": [
      "X.shape = (None, 1)\n",
      "gauss_grid.shape = (None, 5)\n",
      "Saving figure grid_rbc_prediction\n"
     ]
    },
    {
     "data": {
      "image/png": "[encoded data removed]",
      "text/plain": [
       "<Figure size 432x288 with 1 Axes>"
      ]
     },
     "metadata": {
      "needs_background": "light"
     },
     "output_type": "display_data"
    }
   ],
   "source": [
    "# X_new = np.linspace(-5, 5, 100).reshape(100, 1)\n",
    "# y_new_proba = model.predict(X_new)\n",
    "# y_new = n2g.inv_convert(y_new_proba)\n",
    "#\n",
    "# plt.plot(X_train, y_train, \"b.\")\n",
    "draw_points(X_train, y_train, sid_train)\n",
    "# plt.plot(X_new, y_new, \"r-\", linewidth=2, label=\"Predictions\")\n",
    "draw_func((lambda X: n2g.inv_convert(model.predict(X)) ), mark='r-', linewidth=2, label=\"Predictions\")\n",
    "draw_normal_func(func_dict)\n",
    "plt.xlabel(\"$x_1$\", fontsize=18)\n",
    "plt.ylabel(\"$y$\", rotation=0, fontsize=18)\n",
    "plt.legend(loc=\"upper left\", fontsize=14)\n",
    "# plt.axis([-3, 3, 0, 10])\n",
    "save_fig(\"grid_rbc_prediction\")\n",
    "plt.show()"
   ]
  },
  {
   "cell_type": "code",
   "execution_count": 35,
   "id": "fc059ba5",
   "metadata": {},
   "outputs": [
    {
     "name": "stdout",
     "output_type": "stream",
     "text": [
      "y_func.shape = (100, 1)\n",
      "y_gt.shape = (100, 1)\n"
     ]
    },
    {
     "data": {
      "text/plain": [
       "4.257821813137588"
      ]
     },
     "execution_count": 35,
     "metadata": {},
     "output_type": "execute_result"
    }
   ],
   "source": [
    "get_prediction_error((lambda X: n2g.inv_convert(model.predict(X)) ), func_dict, name=\"grid-rbc\")"
   ]
  },
  {
   "cell_type": "code",
   "execution_count": 36,
   "id": "edcf26db",
   "metadata": {},
   "outputs": [
    {
     "name": "stdout",
     "output_type": "stream",
     "text": [
      "Saving figure grid_rbc_proba\n"
     ]
    },
    {
     "data": {
      "image/png": "[encoded data removed]",
      "text/plain": [
       "<Figure size 432x288 with 1 Axes>"
      ]
     },
     "metadata": {
      "needs_background": "light"
     },
     "output_type": "display_data"
    }
   ],
   "source": [
    "X_new = np.linspace(-5, 5, 100).reshape(100, 1)\n",
    "y_new_proba = model.predict(X_new)\n",
    "# y_new = n2g.inv_convert(y_new_proba)\n",
    "#\n",
    "xv, yv = np.meshgrid(X_new, np.linspace(n2g.x_min, n2g.x_max, n2g.units))\n",
    "# print(xv)\n",
    "# print(yv)\n",
    "plt.pcolormesh(xv, yv, y_new_proba.T, shading=\"nearest\")\n",
    "save_fig(\"grid_rbc_proba\")"
   ]
  },
  {
   "cell_type": "markdown",
   "id": "4064d3b5",
   "metadata": {},
   "source": [
    "### Draw the 1-sigma boundary line"
   ]
  },
  {
   "cell_type": "code",
   "execution_count": 37,
   "id": "247e8712",
   "metadata": {},
   "outputs": [
    {
     "name": "stdout",
     "output_type": "stream",
     "text": [
      "Saving figure grid_rbc_prediction_1sigma\n"
     ]
    },
    {
     "data": {
      "image/png": "[encoded data removed]",
      "text/plain": [
       "<Figure size 432x288 with 1 Axes>"
      ]
     },
     "metadata": {
      "needs_background": "light"
     },
     "output_type": "display_data"
    }
   ],
   "source": [
    "def n_sigma_boundary_line(X, n):\n",
    "    _mean, _sigma = n2g.get_statistic(model.predict(X))\n",
    "    return( _mean + n*_sigma)\n",
    "\n",
    "# plt.plot(X_train, y_train, \"b.\")\n",
    "draw_points(X_train, y_train, sid_train)\n",
    "#\n",
    "draw_func((lambda X: n2g.inv_convert(model.predict(X)) ), mark='r-', linewidth=2, label=\"Predictions\")\n",
    "draw_func((lambda X: n_sigma_boundary_line(X, +1.0) ), mark='k--', linewidth=1, label=\"$\\mu+\\sigma$\")\n",
    "draw_func((lambda X: n_sigma_boundary_line(X, -1.0) ), mark='k--', linewidth=1, label=\"$\\mu-\\sigma$\")\n",
    "#\n",
    "draw_normal_func(func_dict)\n",
    "plt.xlabel(\"$x_1$\", fontsize=18)\n",
    "plt.ylabel(\"$y$\", rotation=0, fontsize=18)\n",
    "plt.legend(loc=\"upper left\", fontsize=14)\n",
    "# plt.axis([-3, 3, 0, 10])\n",
    "save_fig(\"grid_rbc_prediction_1sigma\")\n",
    "plt.show()"
   ]
  },
  {
   "cell_type": "code",
   "execution_count": null,
   "id": "e6266336",
   "metadata": {},
   "outputs": [],
   "source": []
  },
  {
   "cell_type": "markdown",
   "id": "99a85ab5",
   "metadata": {},
   "source": [
    "# Grid & Regression by Classification + Offset Estimation (grid --> grid,num)"
   ]
  },
  {
   "cell_type": "code",
   "execution_count": 38,
   "id": "26440167",
   "metadata": {},
   "outputs": [],
   "source": [
    "class num2gridOffset_np():\n",
    "    def __init__(self, units, x_min=-10, x_max=10):\n",
    "        self.units = units\n",
    "        self.x_min = x_min\n",
    "        self.x_max = x_max\n",
    "        self.x_grid = np.linspace(self.x_min, self.x_max, self.units, endpoint=True)\n",
    "        # bins\n",
    "        x_space = np.average(self.x_grid[1:] - self.x_grid[:-1])\n",
    "        print(\"x_space = %f\" % x_space)\n",
    "        x_0 = self.x_grid[0] - 0.5 * x_space\n",
    "        self.x_bins = [x_0 + _i*x_space for _i in range(len(self.x_grid)+1)]\n",
    "        print(\"self.x_grid = %s\" % str(self.x_grid))\n",
    "#         print(\"self.x_bins = %s\" % str(self.x_bins))\n",
    "        \n",
    "    def convert(self, X):\n",
    "        '''\n",
    "        Convert a batch of number to one-hot class and numerical offset to each grid's center\n",
    "        (m, 1) --> (m, n_units, 2)\n",
    "        '''\n",
    "        X = np.array(X)\n",
    "        if len(X.shape) <= 1:\n",
    "            X = X.reshape((-1,1))\n",
    "        idxs_bin = np.digitize(X, self.x_bins, right=False) \n",
    "        idxs_grid = (idxs_bin - 1) + 1*(idxs_bin<= 0) - 1*(idxs_bin>=self.units)\n",
    "        print(idxs_grid.shape)\n",
    "        #\n",
    "        batch_size = X.shape[0]\n",
    "        grid = np.zeros((batch_size, self.units, 2))\n",
    "        # Fill in the values\n",
    "        grid[np.arange(batch_size), idxs_grid.reshape((-1,)), 0] = 1.0\n",
    "        grid[np.arange(batch_size), :, 1] = X - self.x_grid.reshape((1,-1)) # Offset\n",
    "        return grid\n",
    "    \n",
    "    def inv_convert(self, grid):\n",
    "        idxs_grid = np.argmax(grid[...,0], axis=1)\n",
    "        print(idxs_grid.shape)\n",
    "        #\n",
    "        batch_size = grid.shape[0]\n",
    "        offset_est = grid[np.arange(batch_size),idxs_grid,1]\n",
    "        print(offset_est.shape)\n",
    "        num_est = self.x_grid[idxs_grid].reshape((1,-1)) + offset_est\n",
    "        return num_est.reshape((-1,))"
   ]
  },
  {
   "cell_type": "code",
   "execution_count": 39,
   "id": "8b15e9ff",
   "metadata": {},
   "outputs": [
    {
     "name": "stdout",
     "output_type": "stream",
     "text": [
      "x_space = 22.222222\n",
      "self.x_grid = [-100.          -77.77777778  -55.55555556  -33.33333333  -11.11111111\n",
      "   11.11111111   33.33333333   55.55555556   77.77777778  100.        ]\n"
     ]
    }
   ],
   "source": [
    "class_num = 10 # 10\n",
    "n2go = num2gridOffset_np(class_num, x_min=-100.0, x_max=100.0) "
   ]
  },
  {
   "cell_type": "code",
   "execution_count": 40,
   "id": "8f6e7955",
   "metadata": {},
   "outputs": [
    {
     "name": "stdout",
     "output_type": "stream",
     "text": [
      "(2, 1)\n",
      "[[[   0.           98.8       ]\n",
      "  [   0.           76.57777778]\n",
      "  [   0.           54.35555556]\n",
      "  [   0.           32.13333333]\n",
      "  [   1.            9.91111111]\n",
      "  [   0.          -12.31111111]\n",
      "  [   0.          -34.53333333]\n",
      "  [   0.          -56.75555556]\n",
      "  [   0.          -78.97777778]\n",
      "  [   0.         -101.2       ]]\n",
      "\n",
      " [[   0.          150.5       ]\n",
      "  [   0.          128.27777778]\n",
      "  [   0.          106.05555556]\n",
      "  [   0.           83.83333333]\n",
      "  [   0.           61.61111111]\n",
      "  [   0.           39.38888889]\n",
      "  [   0.           17.16666667]\n",
      "  [   1.           -5.05555556]\n",
      "  [   0.          -27.27777778]\n",
      "  [   0.          -49.5       ]]]\n"
     ]
    }
   ],
   "source": [
    "# grid_1 = n2g.convert(-1.2)\n",
    "grid_1 = n2go.convert([[-1.2], [50.5]])\n",
    "print(grid_1)"
   ]
  },
  {
   "cell_type": "code",
   "execution_count": 41,
   "id": "48840dc5",
   "metadata": {},
   "outputs": [
    {
     "name": "stdout",
     "output_type": "stream",
     "text": [
      "(2,)\n",
      "(2,)\n"
     ]
    },
    {
     "data": {
      "text/plain": [
       "array([-1.2, 50.5])"
      ]
     },
     "execution_count": 41,
     "metadata": {},
     "output_type": "execute_result"
    }
   ],
   "source": [
    "n2go.inv_convert(grid_1)"
   ]
  },
  {
   "cell_type": "markdown",
   "id": "11683cea",
   "metadata": {},
   "source": [
    "### Convert the labels to grid (pre-processing)"
   ]
  },
  {
   "cell_type": "code",
   "execution_count": 42,
   "id": "472997cf",
   "metadata": {},
   "outputs": [
    {
     "name": "stdout",
     "output_type": "stream",
     "text": [
      "(80, 1)\n",
      "(20, 1)\n"
     ]
    }
   ],
   "source": [
    "y_train_grid_offset = n2go.convert(y_train)\n",
    "y_valid_grid_offset = n2go.convert(y_valid)"
   ]
  },
  {
   "cell_type": "code",
   "execution_count": 43,
   "id": "71f08d76",
   "metadata": {},
   "outputs": [
    {
     "name": "stdout",
     "output_type": "stream",
     "text": [
      "(80, 10, 2)\n",
      "(20, 10, 2)\n"
     ]
    }
   ],
   "source": [
    "print(y_train_grid_offset.shape)\n",
    "print(y_valid_grid_offset.shape)"
   ]
  },
  {
   "cell_type": "code",
   "execution_count": 44,
   "id": "84b5b833",
   "metadata": {},
   "outputs": [
    {
     "name": "stdout",
     "output_type": "stream",
     "text": [
      "X.shape = (None, 1)\n",
      "gauss_grid.shape = (None, 5)\n"
     ]
    }
   ],
   "source": [
    "inputs = keras.layers.Input(shape=X_train.shape[1:])\n",
    "#\n",
    "z = num2grid(5,x_min=-10, x_max=10, sigma=3.0)(inputs)\n",
    "z = keras.layers.Dense(30, activation=\"selu\")(z)\n",
    "# Outputs\n",
    "z_proba = keras.layers.Dense(30, activation=\"relu\")(z)\n",
    "z_proba  = keras.layers.Dense(class_num, activation=\"softmax\")(z_proba)\n",
    "z_offset = keras.layers.Dense(class_num, activation=\"relu\")(z)\n",
    "z_offset = keras.layers.Dense(class_num)(z_offset)\n",
    "# Concatenate\n",
    "z_proba  = keras.layers.Reshape([class_num,1])(z_proba)\n",
    "z_offset = keras.layers.Reshape([class_num,1])(z_offset)\n",
    "out_cat = keras.layers.Concatenate(axis=-1)([z_proba, z_offset])\n",
    "#\n",
    "# Models for trainig and real usage\n",
    "model = keras.Model(inputs=[inputs], outputs=[out_cat])"
   ]
  },
  {
   "cell_type": "code",
   "execution_count": 45,
   "id": "e6482574",
   "metadata": {},
   "outputs": [],
   "source": [
    "# Customized loss function\n",
    "\n",
    "cce = keras.losses.CategoricalCrossentropy(reduction=keras.losses.Reduction.NONE)\n",
    "# cce(y_true, y_pred).numpy()\n",
    "\n",
    "def centerLoss_fn(y_true, y_pred):\n",
    "    #\n",
    "    y_true_proba = y_true[...,0]\n",
    "    y_true_value = y_true[...,1]\n",
    "    #\n",
    "    y_pred_proba = y_pred[...,0]\n",
    "    y_pred_value = y_pred[...,1]\n",
    "    \n",
    "    #\n",
    "    cce_loss = cce(y_true_proba, y_pred_proba) / class_num\n",
    "    #\n",
    "    y_true_value_est = tf.reduce_sum((y_true_proba * y_true_value), axis=-1)\n",
    "    y_pred_value_est = tf.reduce_sum((y_true_proba * y_pred_value), axis=-1)\n",
    "#     y_pred_value_est = tf.reduce_sum((y_pred_proba * y_pred_value), axis=-1)\n",
    "    value_loss = tf.abs(y_pred_value_est - y_true_value_est)\n",
    "    \n",
    "    # Total loss\n",
    "#     return (0.5*cce_loss + 0.5*value_loss )\n",
    "    return (0.2*cce_loss + 0.8*value_loss )\n",
    "#     return (cce_loss)\n",
    "#     return (value_loss )"
   ]
  },
  {
   "cell_type": "code",
   "execution_count": 46,
   "id": "60575755",
   "metadata": {},
   "outputs": [
    {
     "name": "stderr",
     "output_type": "stream",
     "text": [
      "C:\\Users\\benso\\anaconda3\\envs\\ml\\lib\\site-packages\\keras\\optimizer_v2\\adam.py:105: UserWarning: The `lr` argument is deprecated, use `learning_rate` instead.\n",
      "  super(Adam, self).__init__(name, **kwargs)\n"
     ]
    }
   ],
   "source": [
    "# optimizer = keras.optimizers.SGD(lr=0.1, momentum=0.9)\n",
    "optimizer = keras.optimizers.Adam(lr=0.05)\n",
    "model.compile(loss=centerLoss_fn, optimizer=optimizer)"
   ]
  },
  {
   "cell_type": "code",
   "execution_count": 47,
   "id": "09bc47a5",
   "metadata": {
    "scrolled": true
   },
   "outputs": [],
   "source": [
    "# history = model.fit(X_train, y_train_grid_offset, epochs=100,\n",
    "#                     validation_data=(X_valid, y_valid_grid_offset))"
   ]
  },
  {
   "cell_type": "code",
   "execution_count": 48,
   "id": "7ba1fe76",
   "metadata": {},
   "outputs": [],
   "source": [
    "# import pandas as pd\n",
    "\n",
    "# pd.DataFrame(history.history).plot(figsize=(8, 5))\n",
    "# plt.grid(True)\n",
    "# # plt.gca().set_ylim(0, 1)\n",
    "# save_fig(\"grid_rbcOffset_training_curve\")\n",
    "# plt.show()"
   ]
  },
  {
   "cell_type": "code",
   "execution_count": 49,
   "id": "47db8336",
   "metadata": {
    "scrolled": false
   },
   "outputs": [],
   "source": [
    "# # plt.plot(X_train, y_train, \"b.\")\n",
    "# draw_points(X_train, y_train, sid_train)\n",
    "# draw_func((lambda X: n2go.inv_convert(model.predict(X)) ), mark='r-', linewidth=2, label=\"Predictions\")\n",
    "# draw_normal_func(func_dict)\n",
    "# plt.xlabel(\"$x_1$\", fontsize=18)\n",
    "# plt.ylabel(\"$y$\", rotation=0, fontsize=18)\n",
    "# plt.legend(loc=\"upper left\", fontsize=14)\n",
    "# # plt.axis([-3, 3, 0, 10])\n",
    "# save_fig(\"grid_rbcOffset_prediction\")\n",
    "# plt.show()"
   ]
  },
  {
   "cell_type": "code",
   "execution_count": 50,
   "id": "46a1a384",
   "metadata": {},
   "outputs": [],
   "source": [
    "# get_prediction_error((lambda X: n2go.inv_convert(model.predict(X)) ), func_dict, name=\"grid-classOffset\")"
   ]
  },
  {
   "cell_type": "code",
   "execution_count": null,
   "id": "fff995a6",
   "metadata": {},
   "outputs": [],
   "source": []
  },
  {
   "cell_type": "markdown",
   "id": "a811f344",
   "metadata": {},
   "source": [
    "# Parametric Uncertainty/Distribution Estimation\n",
    "\n",
    "In this section, we try to estimate uncertainty (actually, fit the dataset distribution) with parametric reprecentation of a distribution instead of a discretized non-parametric representation.\n",
    "\n",
    "Possible solution includes\n",
    "- Quantile estimation with pinball loss (statistic)\n",
    "- Guassian distribution (fit a prabability distribution)"
   ]
  },
  {
   "cell_type": "markdown",
   "id": "175eb32d",
   "metadata": {},
   "source": [
    "## Quantile Estimation with Pinball Loss (grid --> parameters)\n",
    "\n",
    "Quantile estimation and pinball loss is based on the concept of statistic, which predict the value based on the rank of samples in the dataset.\n",
    "\n",
    "The outputs of the model are $(y_{10}, y_{90})$, 10% quantile prediction and 90% quantile prediction, respectively."
   ]
  },
  {
   "cell_type": "code",
   "execution_count": 51,
   "id": "1d1ef92d",
   "metadata": {},
   "outputs": [],
   "source": [
    "# quantile_list = [0.5]\n",
    "# quantile_list = [0.9]\n",
    "quantile_list = [0.1, 0.9] # Use hidden layer with 30 neurons\n",
    "# quantile_list = [0.05, 0.95]\n",
    "# quantile_list = [0.25, 0.75]\n",
    "# quantile_list = [0.1, 0.5, 0.9]\n",
    "# quantile_list = [0.1, 0.3, 0.7, 0.9]\n",
    "# quantile_list = [0.1, 0.2, 0.3, 0.4, 0.6, 0.7, 0.8, 0.9] # remove 0.5\n",
    "# quantile_list = [0.1, 0.2, 0.3, 0.4, 0.5, 0.6, 0.7, 0.8, 0.9] # Should use wider hidden layer (with many neurons) + L1 regularization\n",
    "num_quantile = len(quantile_list)"
   ]
  },
  {
   "cell_type": "code",
   "execution_count": 52,
   "id": "8e3fe57b",
   "metadata": {},
   "outputs": [
    {
     "name": "stdout",
     "output_type": "stream",
     "text": [
      "X.shape = (None, 1)\n",
      "gauss_grid.shape = (None, 5)\n"
     ]
    }
   ],
   "source": [
    "model = keras.models.Sequential([\n",
    "    num2grid(5,x_min=-10, x_max=10, sigma=3.0, input_shape=X_train.shape[1:]),\n",
    "#     num2grid(50,x_min=-10, x_max=10, sigma=0.5, input_shape=X_train.shape[1:]),\n",
    "    keras.layers.Dense(30, activation=\"relu\"),\n",
    "#     keras.layers.Dense(60, activation=\"relu\"),\n",
    "#     keras.layers.Dense(100, activation=\"relu\", kernel_regularizer=tf.keras.regularizers.l1(0.01)),\n",
    "#     keras.layers.Dense(30, activation=keras.layers.LeakyReLU(alpha=0.2) ),\n",
    "#     keras.layers.Dense(30, activation=\"selu\"),\n",
    "    keras.layers.Dense(num_quantile) # (y10, y90)\n",
    "])"
   ]
  },
  {
   "cell_type": "code",
   "execution_count": 53,
   "id": "bf131dc7",
   "metadata": {},
   "outputs": [],
   "source": [
    "# Customized loss function\n",
    "def pinballLoss_fn(y_true, y_pred, tau):\n",
    "    # tau: quantile, tau in [0.0, 1.0]\n",
    "    # y_true: label mean\n",
    "    # y_pred: predicted tau quantile\n",
    "    _q = y_true - y_pred\n",
    "    return tf.math.maximum( (tau*_q), ((tau-1.0)*_q))\n",
    "    \n",
    "def pinballLoss_10_90_fn(y_true, y_pred):\n",
    "    #\n",
    "    return pinballLoss_fn(y_true, y_pred[:,0:1], 0.1) + pinballLoss_fn(y_true, y_pred[:,1:2], 0.9)\n",
    "\n",
    "def pinballLoss_full_fn(y_true, y_pred):\n",
    "    #\n",
    "    pinball_losses = tf.stack( [pinballLoss_fn(y_true, y_pred[:, _i:(_i+1)], _tau) for _i, _tau in enumerate(quantile_list)], axis=1)\n",
    "    return tf.reduce_sum(pinball_losses, axis=1)"
   ]
  },
  {
   "cell_type": "code",
   "execution_count": 54,
   "id": "a71305d5",
   "metadata": {},
   "outputs": [],
   "source": [
    "# optimizer = keras.optimizers.SGD(lr=0.1, momentum=0.9)\n",
    "optimizer = keras.optimizers.Adam(lr=0.1)\n",
    "# model.compile(loss=pinballLoss_10_90_fn, optimizer=optimizer)\n",
    "model.compile(loss=pinballLoss_full_fn, optimizer=optimizer)"
   ]
  },
  {
   "cell_type": "code",
   "execution_count": 55,
   "id": "d935c409",
   "metadata": {
    "scrolled": true
   },
   "outputs": [
    {
     "name": "stdout",
     "output_type": "stream",
     "text": [
      "Epoch 1/100\n",
      "X.shape = (None, 1)\n",
      "gauss_grid.shape = (None, 5)\n",
      "X.shape = (None, 1)\n",
      "gauss_grid.shape = (None, 5)\n",
      "1/3 [=========>....................] - ETA: 0s - loss: 37.3615X.shape = (None, 1)\n",
      "gauss_grid.shape = (None, 5)\n",
      "3/3 [==============================] - 1s 93ms/step - loss: 41.4532 - val_loss: 32.1851\n",
      "Epoch 2/100\n",
      "3/3 [==============================] - 0s 19ms/step - loss: 38.0724 - val_loss: 27.4048\n",
      "Epoch 3/100\n",
      "3/3 [==============================] - 0s 31ms/step - loss: 31.8371 - val_loss: 20.3933\n",
      "Epoch 4/100\n",
      "3/3 [==============================] - 0s 25ms/step - loss: 22.8107 - val_loss: 12.8292\n",
      "Epoch 5/100\n",
      "3/3 [==============================] - 0s 36ms/step - loss: 15.5985 - val_loss: 11.0251\n",
      "Epoch 6/100\n",
      "3/3 [==============================] - 0s 21ms/step - loss: 13.2015 - val_loss: 12.8758\n",
      "Epoch 7/100\n",
      "3/3 [==============================] - 0s 30ms/step - loss: 13.3135 - val_loss: 12.9630\n",
      "Epoch 8/100\n",
      "3/3 [==============================] - 0s 35ms/step - loss: 13.0644 - val_loss: 11.5116\n",
      "Epoch 9/100\n",
      "3/3 [==============================] - 0s 42ms/step - loss: 11.5425 - val_loss: 9.2426\n",
      "Epoch 10/100\n",
      "3/3 [==============================] - 0s 22ms/step - loss: 9.4807 - val_loss: 7.0087\n",
      "Epoch 11/100\n",
      "3/3 [==============================] - 0s 17ms/step - loss: 7.7248 - val_loss: 5.1502\n",
      "Epoch 12/100\n",
      "3/3 [==============================] - 0s 20ms/step - loss: 6.2244 - val_loss: 4.8053\n",
      "Epoch 13/100\n",
      "3/3 [==============================] - 0s 15ms/step - loss: 6.1464 - val_loss: 6.4322\n",
      "Epoch 14/100\n",
      "3/3 [==============================] - 0s 16ms/step - loss: 7.2667 - val_loss: 5.8474\n",
      "Epoch 15/100\n",
      "3/3 [==============================] - 0s 21ms/step - loss: 5.7210 - val_loss: 4.6741\n",
      "Epoch 16/100\n",
      "3/3 [==============================] - 0s 14ms/step - loss: 5.5682 - val_loss: 5.2293\n",
      "Epoch 17/100\n",
      "3/3 [==============================] - 0s 21ms/step - loss: 6.0500 - val_loss: 5.4111\n",
      "Epoch 18/100\n",
      "3/3 [==============================] - 0s 14ms/step - loss: 5.7756 - val_loss: 5.1554\n",
      "Epoch 19/100\n",
      "3/3 [==============================] - 0s 19ms/step - loss: 5.1501 - val_loss: 4.7109\n",
      "Epoch 20/100\n",
      "3/3 [==============================] - 0s 17ms/step - loss: 5.1271 - val_loss: 4.5231\n",
      "Epoch 21/100\n",
      "3/3 [==============================] - 0s 17ms/step - loss: 4.9665 - val_loss: 3.9517\n",
      "Epoch 22/100\n",
      "3/3 [==============================] - 0s 16ms/step - loss: 4.7193 - val_loss: 4.1444\n",
      "Epoch 23/100\n",
      "3/3 [==============================] - 0s 22ms/step - loss: 4.8047 - val_loss: 4.2332\n",
      "Epoch 24/100\n",
      "3/3 [==============================] - 0s 17ms/step - loss: 4.5979 - val_loss: 4.5763\n",
      "Epoch 25/100\n",
      "3/3 [==============================] - 0s 17ms/step - loss: 4.5124 - val_loss: 4.4772\n",
      "Epoch 26/100\n",
      "3/3 [==============================] - 0s 17ms/step - loss: 4.3004 - val_loss: 3.8873\n",
      "Epoch 27/100\n",
      "3/3 [==============================] - 0s 22ms/step - loss: 4.2254 - val_loss: 3.7484\n",
      "Epoch 28/100\n",
      "3/3 [==============================] - 0s 22ms/step - loss: 4.2917 - val_loss: 3.5812\n",
      "Epoch 29/100\n",
      "3/3 [==============================] - 0s 17ms/step - loss: 4.0435 - val_loss: 4.2714\n",
      "Epoch 30/100\n",
      "3/3 [==============================] - 0s 19ms/step - loss: 4.0351 - val_loss: 4.0771\n",
      "Epoch 31/100\n",
      "3/3 [==============================] - 0s 18ms/step - loss: 3.9008 - val_loss: 4.0164\n",
      "Epoch 32/100\n",
      "3/3 [==============================] - 0s 17ms/step - loss: 3.7903 - val_loss: 3.7867\n",
      "Epoch 33/100\n",
      "3/3 [==============================] - 0s 22ms/step - loss: 3.6469 - val_loss: 3.6025\n",
      "Epoch 34/100\n",
      "3/3 [==============================] - 0s 14ms/step - loss: 3.6421 - val_loss: 3.4903\n",
      "Epoch 35/100\n",
      "3/3 [==============================] - 0s 21ms/step - loss: 3.5154 - val_loss: 3.3109\n",
      "Epoch 36/100\n",
      "3/3 [==============================] - 0s 14ms/step - loss: 3.5600 - val_loss: 3.3818\n",
      "Epoch 37/100\n",
      "3/3 [==============================] - 0s 23ms/step - loss: 3.4429 - val_loss: 3.7755\n",
      "Epoch 38/100\n",
      "3/3 [==============================] - 0s 17ms/step - loss: 3.5387 - val_loss: 3.7992\n",
      "Epoch 39/100\n",
      "3/3 [==============================] - 0s 21ms/step - loss: 3.7990 - val_loss: 3.6824\n",
      "Epoch 40/100\n",
      "3/3 [==============================] - 0s 18ms/step - loss: 3.4126 - val_loss: 4.0536\n",
      "Epoch 41/100\n",
      "3/3 [==============================] - 0s 17ms/step - loss: 3.3037 - val_loss: 3.0203\n",
      "Epoch 42/100\n",
      "3/3 [==============================] - 0s 20ms/step - loss: 3.3610 - val_loss: 2.8648\n",
      "Epoch 43/100\n",
      "3/3 [==============================] - 0s 22ms/step - loss: 3.1796 - val_loss: 3.2937\n",
      "Epoch 44/100\n",
      "3/3 [==============================] - 0s 19ms/step - loss: 3.0496 - val_loss: 3.4016\n",
      "Epoch 45/100\n",
      "3/3 [==============================] - 0s 17ms/step - loss: 3.1314 - val_loss: 3.6114\n",
      "Epoch 46/100\n",
      "3/3 [==============================] - 0s 17ms/step - loss: 3.1120 - val_loss: 3.2533\n",
      "Epoch 47/100\n",
      "3/3 [==============================] - 0s 18ms/step - loss: 2.9419 - val_loss: 2.9293\n",
      "Epoch 48/100\n",
      "3/3 [==============================] - 0s 21ms/step - loss: 2.9647 - val_loss: 2.7112\n",
      "Epoch 49/100\n",
      "3/3 [==============================] - 0s 17ms/step - loss: 2.9517 - val_loss: 2.7592\n",
      "Epoch 50/100\n",
      "3/3 [==============================] - 0s 17ms/step - loss: 2.9311 - val_loss: 3.2506\n",
      "Epoch 51/100\n",
      "3/3 [==============================] - 0s 22ms/step - loss: 2.9618 - val_loss: 3.1208\n",
      "Epoch 52/100\n",
      "3/3 [==============================] - 0s 23ms/step - loss: 2.8652 - val_loss: 2.6853\n",
      "Epoch 53/100\n",
      "3/3 [==============================] - 0s 20ms/step - loss: 3.0624 - val_loss: 2.8456\n",
      "Epoch 54/100\n",
      "3/3 [==============================] - 0s 24ms/step - loss: 2.8903 - val_loss: 3.1040\n",
      "Epoch 55/100\n",
      "3/3 [==============================] - 0s 17ms/step - loss: 2.9271 - val_loss: 2.8884\n",
      "Epoch 56/100\n",
      "3/3 [==============================] - 0s 19ms/step - loss: 2.7941 - val_loss: 2.7308\n",
      "Epoch 57/100\n",
      "3/3 [==============================] - 0s 20ms/step - loss: 2.7185 - val_loss: 2.7651\n",
      "Epoch 58/100\n",
      "3/3 [==============================] - 0s 19ms/step - loss: 2.7881 - val_loss: 2.7913\n",
      "Epoch 59/100\n",
      "3/3 [==============================] - 0s 21ms/step - loss: 2.7205 - val_loss: 2.7334\n",
      "Epoch 60/100\n",
      "3/3 [==============================] - 0s 17ms/step - loss: 2.7321 - val_loss: 2.8313\n",
      "Epoch 61/100\n",
      "3/3 [==============================] - 0s 17ms/step - loss: 2.7478 - val_loss: 2.5776\n",
      "Epoch 62/100\n",
      "3/3 [==============================] - 0s 17ms/step - loss: 2.7067 - val_loss: 2.7455\n",
      "Epoch 63/100\n",
      "3/3 [==============================] - 0s 21ms/step - loss: 2.6856 - val_loss: 2.7195\n",
      "Epoch 64/100\n",
      "3/3 [==============================] - 0s 19ms/step - loss: 2.6424 - val_loss: 2.8377\n",
      "Epoch 65/100\n",
      "3/3 [==============================] - 0s 13ms/step - loss: 2.6453 - val_loss: 2.8850\n",
      "Epoch 66/100\n",
      "3/3 [==============================] - 0s 16ms/step - loss: 2.8238 - val_loss: 2.8363\n",
      "Epoch 67/100\n",
      "3/3 [==============================] - 0s 20ms/step - loss: 2.9583 - val_loss: 2.9726\n",
      "Epoch 68/100\n",
      "3/3 [==============================] - 0s 18ms/step - loss: 2.8740 - val_loss: 2.7664\n",
      "Epoch 69/100\n",
      "3/3 [==============================] - 0s 17ms/step - loss: 2.8143 - val_loss: 2.6270\n",
      "Epoch 70/100\n",
      "3/3 [==============================] - 0s 21ms/step - loss: 2.7170 - val_loss: 2.8898\n",
      "Epoch 71/100\n",
      "3/3 [==============================] - 0s 17ms/step - loss: 3.0258 - val_loss: 3.1437\n",
      "Epoch 72/100\n",
      "3/3 [==============================] - 0s 18ms/step - loss: 2.8795 - val_loss: 3.0088\n",
      "Epoch 73/100\n",
      "3/3 [==============================] - 0s 24ms/step - loss: 3.0824 - val_loss: 2.9788\n",
      "Epoch 74/100\n",
      "3/3 [==============================] - 0s 24ms/step - loss: 2.8943 - val_loss: 2.8499\n",
      "Epoch 75/100\n",
      "3/3 [==============================] - 0s 23ms/step - loss: 2.5984 - val_loss: 2.5351\n",
      "Epoch 76/100\n",
      "3/3 [==============================] - 0s 19ms/step - loss: 2.6731 - val_loss: 2.7855\n",
      "Epoch 77/100\n",
      "3/3 [==============================] - 0s 20ms/step - loss: 2.6867 - val_loss: 2.8305\n",
      "Epoch 78/100\n",
      "3/3 [==============================] - 0s 21ms/step - loss: 2.9243 - val_loss: 2.7954\n",
      "Epoch 79/100\n",
      "3/3 [==============================] - 0s 17ms/step - loss: 2.7148 - val_loss: 2.7861\n",
      "Epoch 80/100\n",
      "3/3 [==============================] - 0s 16ms/step - loss: 2.7275 - val_loss: 2.5758\n",
      "Epoch 81/100\n"
     ]
    },
    {
     "name": "stdout",
     "output_type": "stream",
     "text": [
      "3/3 [==============================] - 0s 22ms/step - loss: 2.5807 - val_loss: 2.7040\n",
      "Epoch 82/100\n",
      "3/3 [==============================] - 0s 21ms/step - loss: 2.7202 - val_loss: 2.7305\n",
      "Epoch 83/100\n",
      "3/3 [==============================] - 0s 16ms/step - loss: 2.6805 - val_loss: 2.6631\n",
      "Epoch 84/100\n",
      "3/3 [==============================] - 0s 16ms/step - loss: 2.5634 - val_loss: 2.6606\n",
      "Epoch 85/100\n",
      "3/3 [==============================] - 0s 20ms/step - loss: 2.6845 - val_loss: 2.7197\n",
      "Epoch 86/100\n",
      "3/3 [==============================] - 0s 18ms/step - loss: 2.6279 - val_loss: 2.5669\n",
      "Epoch 87/100\n",
      "3/3 [==============================] - 0s 16ms/step - loss: 2.6170 - val_loss: 2.6759\n",
      "Epoch 88/100\n",
      "3/3 [==============================] - 0s 21ms/step - loss: 2.6337 - val_loss: 2.6072\n",
      "Epoch 89/100\n",
      "3/3 [==============================] - 0s 17ms/step - loss: 2.5634 - val_loss: 2.5892\n",
      "Epoch 90/100\n",
      "3/3 [==============================] - 0s 16ms/step - loss: 2.6603 - val_loss: 2.6654\n",
      "Epoch 91/100\n",
      "3/3 [==============================] - 0s 21ms/step - loss: 2.5731 - val_loss: 2.6732\n",
      "Epoch 92/100\n",
      "3/3 [==============================] - 0s 17ms/step - loss: 2.6032 - val_loss: 2.5738\n",
      "Epoch 93/100\n",
      "3/3 [==============================] - 0s 17ms/step - loss: 2.5437 - val_loss: 2.6376\n",
      "Epoch 94/100\n",
      "3/3 [==============================] - 0s 18ms/step - loss: 2.5986 - val_loss: 2.8543\n",
      "Epoch 95/100\n",
      "3/3 [==============================] - 0s 22ms/step - loss: 2.8470 - val_loss: 2.8376\n",
      "Epoch 96/100\n",
      "3/3 [==============================] - 0s 23ms/step - loss: 2.6973 - val_loss: 2.6679\n",
      "Epoch 97/100\n",
      "3/3 [==============================] - 0s 17ms/step - loss: 2.7463 - val_loss: 3.2504\n",
      "Epoch 98/100\n",
      "3/3 [==============================] - 0s 21ms/step - loss: 3.1544 - val_loss: 3.1404\n",
      "Epoch 99/100\n",
      "3/3 [==============================] - 0s 18ms/step - loss: 3.0071 - val_loss: 3.0247\n",
      "Epoch 100/100\n",
      "3/3 [==============================] - 0s 16ms/step - loss: 2.7647 - val_loss: 2.7654\n"
     ]
    }
   ],
   "source": [
    "history = model.fit(X_train, y_train, epochs=100,\n",
    "                    validation_data=(X_valid, y_valid))"
   ]
  },
  {
   "cell_type": "code",
   "execution_count": 56,
   "id": "e7fa5656",
   "metadata": {
    "scrolled": false
   },
   "outputs": [
    {
     "name": "stdout",
     "output_type": "stream",
     "text": [
      "Saving figure grid_quantile_training_curve\n"
     ]
    },
    {
     "data": {
      "image/png": "[encoded data removed]",
      "text/plain": [
       "<Figure size 576x360 with 1 Axes>"
      ]
     },
     "metadata": {
      "needs_background": "light"
     },
     "output_type": "display_data"
    }
   ],
   "source": [
    "import pandas as pd\n",
    "\n",
    "pd.DataFrame(history.history).plot(figsize=(8, 5))\n",
    "plt.grid(True)\n",
    "# plt.gca().set_ylim(0, 1)\n",
    "save_fig(\"grid_quantile_training_curve\")\n",
    "plt.show()"
   ]
  },
  {
   "cell_type": "markdown",
   "id": "a4a59dd6",
   "metadata": {},
   "source": [
    "### Draw the mean prediction curve averaged from all quantile predictions."
   ]
  },
  {
   "cell_type": "code",
   "execution_count": 57,
   "id": "0e5d0058",
   "metadata": {},
   "outputs": [
    {
     "name": "stdout",
     "output_type": "stream",
     "text": [
      "X.shape = (None, 1)\n",
      "gauss_grid.shape = (None, 5)\n",
      "Saving figure grid_quantile_prediction\n"
     ]
    },
    {
     "data": {
      "image/png": "[encoded data removed]",
      "text/plain": [
       "<Figure size 432x288 with 1 Axes>"
      ]
     },
     "metadata": {
      "needs_background": "light"
     },
     "output_type": "display_data"
    }
   ],
   "source": [
    "# plt.plot(X_train, y_train, \"b.\")\n",
    "draw_points(X_train, y_train, sid_train)\n",
    "draw_func((lambda X: np.average(model.predict(X), axis=-1) ), mark='r-', linewidth=2, label=\"Predictions\")\n",
    "# draw_func((lambda X: model.predict(X)[:,0] ), mark='k--', linewidth=1, label=\"$y_{%d}$\" % (quantile_list[0]*100))\n",
    "# draw_func((lambda X: model.predict(X)[:,-1] ), mark='k--', linewidth=1, label=\"$y_{%d}$\" % (quantile_list[-1]*100))\n",
    "draw_normal_func(func_dict)\n",
    "plt.xlabel(\"$x_1$\", fontsize=18)\n",
    "plt.ylabel(\"$y$\", rotation=0, fontsize=18)\n",
    "plt.legend(loc=\"upper left\", fontsize=14)\n",
    "# plt.axis([-3, 3, 0, 10])\n",
    "save_fig(\"grid_quantile_prediction\")\n",
    "plt.show()"
   ]
  },
  {
   "cell_type": "code",
   "execution_count": 58,
   "id": "f98d3ae8",
   "metadata": {},
   "outputs": [
    {
     "name": "stdout",
     "output_type": "stream",
     "text": [
      "y_func.shape = (100, 1)\n",
      "y_gt.shape = (100, 1)\n"
     ]
    },
    {
     "data": {
      "text/plain": [
       "2.2291253776962496"
      ]
     },
     "execution_count": 58,
     "metadata": {},
     "output_type": "execute_result"
    }
   ],
   "source": [
    "get_prediction_error((lambda X: np.average(model.predict(X), axis=-1) ), func_dict, name=\"grid-quantileR\")"
   ]
  },
  {
   "cell_type": "markdown",
   "id": "f79ac920",
   "metadata": {},
   "source": [
    "### Draw first and last quantile curve."
   ]
  },
  {
   "cell_type": "code",
   "execution_count": 59,
   "id": "42eeb254",
   "metadata": {},
   "outputs": [
    {
     "name": "stdout",
     "output_type": "stream",
     "text": [
      "Saving figure grid_quantile_boundary_quantiles\n"
     ]
    },
    {
     "data": {
      "image/png": "[encoded data removed]",
      "text/plain": [
       "<Figure size 432x288 with 1 Axes>"
      ]
     },
     "metadata": {
      "needs_background": "light"
     },
     "output_type": "display_data"
    }
   ],
   "source": [
    "# plt.plot(X_train, y_train, \"b.\")\n",
    "draw_points(X_train, y_train, sid_train)\n",
    "draw_func((lambda X: np.average(model.predict(X), axis=-1) ), mark='r-', linewidth=2, label=\"Predictions\")\n",
    "draw_func((lambda X: model.predict(X)[:,0] ), mark='k--', linewidth=1, label=\"$y_{%d}$\" % (quantile_list[0]*100))\n",
    "draw_func((lambda X: model.predict(X)[:,-1] ), mark='k--', linewidth=1, label=\"$y_{%d}$\" % (quantile_list[-1]*100))\n",
    "draw_normal_func(func_dict)\n",
    "plt.xlabel(\"$x_1$\", fontsize=18)\n",
    "plt.ylabel(\"$y$\", rotation=0, fontsize=18)\n",
    "plt.legend(loc=\"upper left\", fontsize=14)\n",
    "# plt.axis([-3, 3, 0, 10])\n",
    "save_fig(\"grid_quantile_boundary_quantiles\")\n",
    "plt.show()"
   ]
  },
  {
   "cell_type": "markdown",
   "id": "2a1b1b44",
   "metadata": {},
   "source": [
    "### Draw all quantile predictions"
   ]
  },
  {
   "cell_type": "code",
   "execution_count": 60,
   "id": "5e875238",
   "metadata": {},
   "outputs": [
    {
     "name": "stdout",
     "output_type": "stream",
     "text": [
      "Saving figure grid_quantile_all_quantiles\n"
     ]
    },
    {
     "data": {
      "image/png": "[encoded data removed]",
      "text/plain": [
       "<Figure size 432x288 with 1 Axes>"
      ]
     },
     "metadata": {
      "needs_background": "light"
     },
     "output_type": "display_data"
    }
   ],
   "source": [
    "# plt.plot(X_train, y_train, \"b.\")\n",
    "draw_points(X_train, y_train, sid_train)\n",
    "draw_func((lambda X: np.average(model.predict(X), axis=-1) ), mark='r-', linewidth=2, label=\"Predictions\")\n",
    "for _idx, _tau in enumerate(quantile_list):\n",
    "    draw_func((lambda X: model.predict(X)[:,_idx] ), mark='k--', linewidth=1, label=\"$y_{%d}$\" % (_tau*100))\n",
    "draw_normal_func(func_dict)\n",
    "plt.xlabel(\"$x_1$\", fontsize=18)\n",
    "plt.ylabel(\"$y$\", rotation=0, fontsize=18)\n",
    "plt.legend(loc=\"upper left\", fontsize=14)\n",
    "# plt.axis([-3, 3, 0, 10])\n",
    "save_fig(\"grid_quantile_all_quantiles\")\n",
    "plt.show()"
   ]
  },
  {
   "cell_type": "markdown",
   "id": "0693a8eb",
   "metadata": {},
   "source": [
    "### Multi-Quantiles as a Gaussian Distribution "
   ]
  },
  {
   "cell_type": "code",
   "execution_count": 61,
   "id": "11262fbe",
   "metadata": {},
   "outputs": [],
   "source": [
    "# def n_sigma_boundary_line(X, n):\n",
    "#     _y = model.predict(X)\n",
    "#     _mean = np.mean(_y, axis=-1)\n",
    "#     _sigma = np.std(_y, axis=-1)\n",
    "#     return( _mean + n*_sigma)\n",
    "\n",
    "# # plt.plot(X_train, y_train, \"b.\")\n",
    "# draw_points(X_train, y_train, sid_train)\n",
    "# #\n",
    "# draw_func((lambda X: np.average(model.predict(X), axis=-1) ), mark='r-', linewidth=2, label=\"Predictions\")\n",
    "# draw_func((lambda X: n_sigma_boundary_line(X, +1.0) ), mark='k--', linewidth=1, label=\"$\\mu+\\sigma$\")\n",
    "# draw_func((lambda X: n_sigma_boundary_line(X, -1.0) ), mark='k--', linewidth=1, label=\"$\\mu-\\sigma$\")\n",
    "# #\n",
    "# draw_normal_func(func_dict)\n",
    "# plt.xlabel(\"$x_1$\", fontsize=18)\n",
    "# plt.ylabel(\"$y$\", rotation=0, fontsize=18)\n",
    "# plt.legend(loc=\"upper left\", fontsize=14)\n",
    "# # plt.axis([-3, 3, 0, 10])\n",
    "# save_fig(\"grid_quantile_1sigma\")\n",
    "# plt.show()"
   ]
  },
  {
   "cell_type": "markdown",
   "id": "9a01aa69",
   "metadata": {},
   "source": [
    "## Gaussian Estimation with Gaussian Loss (grid-->parameters)\n",
    "\n",
    "Gaussain estimation requires the model to predict the mean and variance of a Gaussian distribution of the random variable regarded. The training purpose is to fit a Gaussian distribution to the data distribution (which is not necessay distributed as Gaussian).\n",
    "\n",
    "One possible solution, derived by BensonHuang, is that the model estimates $(\\mu, z)$, where $z=\\alpha ^{-1}log(\\sigma)$.\n",
    "The associated loss function can be $L_G(y, (\\mu,z)) = 0.5e^{-2\\alpha z}(y-\\mu)^2 + \\alpha z$."
   ]
  },
  {
   "cell_type": "code",
   "execution_count": 62,
   "id": "1a20d5dd",
   "metadata": {},
   "outputs": [],
   "source": [
    "alpha = 1.0\n",
    "# alpha = 0.01\n",
    "# alpha = 0.001"
   ]
  },
  {
   "cell_type": "code",
   "execution_count": 63,
   "id": "cb202ed2",
   "metadata": {},
   "outputs": [
    {
     "name": "stdout",
     "output_type": "stream",
     "text": [
      "X.shape = (None, 1)\n",
      "gauss_grid.shape = (None, 5)\n"
     ]
    }
   ],
   "source": [
    "model = keras.models.Sequential([\n",
    "    num2grid(5,x_min=-10, x_max=10, sigma=3.0, input_shape=X_train.shape[1:]),\n",
    "#     keras.layers.Dense(30, activation=\"relu\"),\n",
    "    keras.layers.Dense(60, activation=\"relu\"),\n",
    "#     keras.layers.Dense(30, activation=keras.layers.LeakyReLU(alpha=0.2) ),\n",
    "#     keras.layers.Dense(30, activation=\"selu\"),\n",
    "    keras.layers.Dense(2) # (mu, z)\n",
    "])"
   ]
  },
  {
   "cell_type": "code",
   "execution_count": 64,
   "id": "925f0a22",
   "metadata": {},
   "outputs": [
    {
     "name": "stdout",
     "output_type": "stream",
     "text": [
      "alpha = 1.000000\n"
     ]
    }
   ],
   "source": [
    "# Customized loss function\n",
    "print(\"alpha = %f\" % alpha)\n",
    "\n",
    "def GaussianLoss_fn(y_true, y_pred):\n",
    "    # y_true: label \n",
    "    # y_pred: (mu, z), z=log(sigma)\n",
    "    mu = y_pred[:, 0:1]\n",
    "    z  = y_pred[:, 1:2]\n",
    "    #\n",
    "    en2z = tf.math.exp((-2.0*alpha)*z)\n",
    "    ymu2 = (y_true - mu)**2\n",
    "    return (0.5*en2z*ymu2 + alpha*z)"
   ]
  },
  {
   "cell_type": "code",
   "execution_count": 65,
   "id": "1b388b4b",
   "metadata": {},
   "outputs": [],
   "source": [
    "# Learning rate scheduler\n",
    "learning_rate_switch_epoch_list = [30, 45]\n",
    "learning_rate_list = [0.001, 0.01, 0.1]\n",
    "# learning_rate_switch_epoch_list = [30, 80]\n",
    "# learning_rate_list = [0.01, 0.1, 0.01]\n",
    "#\n",
    "def piecewise_constant_fn(epoch):\n",
    "    for _i, epoch_s in enumerate(learning_rate_switch_epoch_list):\n",
    "        if epoch < epoch_s:\n",
    "            return learning_rate_list[_i]\n",
    "    return learning_rate_list[-1]\n",
    "\n",
    "lr_scheduler = keras.callbacks.LearningRateScheduler(piecewise_constant_fn)"
   ]
  },
  {
   "cell_type": "markdown",
   "id": "6ec2e05e",
   "metadata": {},
   "source": [
    "Third training with even greater speed"
   ]
  },
  {
   "cell_type": "code",
   "execution_count": 66,
   "id": "7a7e245b",
   "metadata": {},
   "outputs": [
    {
     "name": "stderr",
     "output_type": "stream",
     "text": [
      "C:\\Users\\benso\\anaconda3\\envs\\ml\\lib\\site-packages\\keras\\optimizer_v2\\adam.py:105: UserWarning: The `lr` argument is deprecated, use `learning_rate` instead.\n",
      "  super(Adam, self).__init__(name, **kwargs)\n"
     ]
    }
   ],
   "source": [
    "# optimizer = keras.optimizers.SGD(lr=0.1, momentum=0.9)\n",
    "optimizer = keras.optimizers.Adam(lr=0.1) # 0.1\n",
    "model.compile(loss=GaussianLoss_fn, optimizer=optimizer)"
   ]
  },
  {
   "cell_type": "code",
   "execution_count": 67,
   "id": "6d7b74a9",
   "metadata": {
    "scrolled": true
   },
   "outputs": [
    {
     "name": "stdout",
     "output_type": "stream",
     "text": [
      "Epoch 1/200\n",
      "X.shape = (None, 1)\n",
      "gauss_grid.shape = (None, 5)\n",
      "X.shape = (None, 1)\n",
      "gauss_grid.shape = (None, 5)\n",
      "1/3 [=========>....................] - ETA: 0s - loss: 1173.5586X.shape = (None, 1)\n",
      "gauss_grid.shape = (None, 5)\n",
      "3/3 [==============================] - 1s 96ms/step - loss: 480.5181 - val_loss: 5.9087\n",
      "Epoch 2/200\n",
      "3/3 [==============================] - 0s 15ms/step - loss: 7.4755 - val_loss: 11.0629\n",
      "Epoch 3/200\n",
      "3/3 [==============================] - 0s 33ms/step - loss: 12.3443 - val_loss: 14.9745\n",
      "Epoch 4/200\n",
      "3/3 [==============================] - 0s 41ms/step - loss: 15.9707 - val_loss: 17.7257\n",
      "Epoch 5/200\n",
      "3/3 [==============================] - 0s 35ms/step - loss: 18.5201 - val_loss: 19.4880\n",
      "Epoch 6/200\n",
      "3/3 [==============================] - 0s 34ms/step - loss: 20.1514 - val_loss: 20.4335\n",
      "Epoch 7/200\n",
      "3/3 [==============================] - 0s 33ms/step - loss: 21.0513 - val_loss: 20.7196\n",
      "Epoch 8/200\n",
      "3/3 [==============================] - 0s 43ms/step - loss: 21.3522 - val_loss: 20.5155\n",
      "Epoch 9/200\n",
      "3/3 [==============================] - 0s 27ms/step - loss: 21.2216 - val_loss: 20.0044\n",
      "Epoch 10/200\n",
      "3/3 [==============================] - 0s 26ms/step - loss: 20.7888 - val_loss: 19.2864\n",
      "Epoch 11/200\n",
      "3/3 [==============================] - 0s 20ms/step - loss: 20.1499 - val_loss: 18.4042\n",
      "Epoch 12/200\n",
      "3/3 [==============================] - 0s 13ms/step - loss: 19.3412 - val_loss: 17.4434\n",
      "Epoch 13/200\n",
      "3/3 [==============================] - 0s 20ms/step - loss: 18.4336 - val_loss: 16.4018\n",
      "Epoch 14/200\n",
      "3/3 [==============================] - 0s 14ms/step - loss: 17.4072 - val_loss: 15.2641\n",
      "Epoch 15/200\n",
      "3/3 [==============================] - 0s 21ms/step - loss: 16.2955 - val_loss: 14.0098\n",
      "Epoch 16/200\n",
      "3/3 [==============================] - 0s 16ms/step - loss: 15.0565 - val_loss: 12.6337\n",
      "Epoch 17/200\n",
      "3/3 [==============================] - 0s 16ms/step - loss: 13.6995 - val_loss: 11.0902\n",
      "Epoch 18/200\n",
      "3/3 [==============================] - 0s 22ms/step - loss: 12.1927 - val_loss: 9.3934\n",
      "Epoch 19/200\n",
      "3/3 [==============================] - 0s 13ms/step - loss: 10.5334 - val_loss: 7.5204\n",
      "Epoch 20/200\n",
      "3/3 [==============================] - 0s 23ms/step - loss: 8.8365 - val_loss: 7.5504\n",
      "Epoch 21/200\n",
      "3/3 [==============================] - 0s 14ms/step - loss: 9.1464 - val_loss: 6.2226\n",
      "Epoch 22/200\n",
      "3/3 [==============================] - 0s 21ms/step - loss: 7.6052 - val_loss: 6.1985\n",
      "Epoch 23/200\n",
      "3/3 [==============================] - 0s 14ms/step - loss: 7.4610 - val_loss: 6.0026\n",
      "Epoch 24/200\n",
      "3/3 [==============================] - 0s 18ms/step - loss: 6.9770 - val_loss: 5.3961\n",
      "Epoch 25/200\n",
      "3/3 [==============================] - 0s 20ms/step - loss: 6.1047 - val_loss: 4.7046\n",
      "Epoch 26/200\n",
      "3/3 [==============================] - 0s 17ms/step - loss: 5.2410 - val_loss: 4.8396\n",
      "Epoch 27/200\n",
      "3/3 [==============================] - 0s 20ms/step - loss: 4.7223 - val_loss: 4.0924\n",
      "Epoch 28/200\n",
      "3/3 [==============================] - 0s 13ms/step - loss: 4.1670 - val_loss: 3.8313\n",
      "Epoch 29/200\n",
      "3/3 [==============================] - 0s 21ms/step - loss: 4.2064 - val_loss: 3.9312\n",
      "Epoch 30/200\n",
      "3/3 [==============================] - 0s 17ms/step - loss: 4.2604 - val_loss: 4.1015\n",
      "Epoch 31/200\n",
      "3/3 [==============================] - 0s 17ms/step - loss: 4.3412 - val_loss: 4.0566\n",
      "Epoch 32/200\n",
      "3/3 [==============================] - 0s 20ms/step - loss: 4.2532 - val_loss: 3.8306\n",
      "Epoch 33/200\n",
      "3/3 [==============================] - 0s 15ms/step - loss: 4.1148 - val_loss: 3.7619\n",
      "Epoch 34/200\n",
      "3/3 [==============================] - 0s 17ms/step - loss: 4.0713 - val_loss: 3.7676\n",
      "Epoch 35/200\n",
      "3/3 [==============================] - 0s 22ms/step - loss: 4.0173 - val_loss: 3.7948\n",
      "Epoch 36/200\n",
      "3/3 [==============================] - 0s 13ms/step - loss: 4.0523 - val_loss: 3.8285\n",
      "Epoch 37/200\n",
      "3/3 [==============================] - 0s 19ms/step - loss: 4.0509 - val_loss: 3.8061\n",
      "Epoch 38/200\n",
      "3/3 [==============================] - 0s 22ms/step - loss: 4.0183 - val_loss: 3.7501\n",
      "Epoch 39/200\n",
      "3/3 [==============================] - 0s 16ms/step - loss: 3.9872 - val_loss: 3.7177\n",
      "Epoch 40/200\n",
      "3/3 [==============================] - 0s 20ms/step - loss: 3.9813 - val_loss: 3.7030\n",
      "Epoch 41/200\n",
      "3/3 [==============================] - 0s 20ms/step - loss: 3.9859 - val_loss: 3.7022\n",
      "Epoch 42/200\n",
      "3/3 [==============================] - 0s 16ms/step - loss: 3.9814 - val_loss: 3.6949\n",
      "Epoch 43/200\n",
      "3/3 [==============================] - 0s 19ms/step - loss: 3.9655 - val_loss: 3.6956\n",
      "Epoch 44/200\n",
      "3/3 [==============================] - 0s 20ms/step - loss: 3.9572 - val_loss: 3.7103\n",
      "Epoch 45/200\n",
      "3/3 [==============================] - 0s 17ms/step - loss: 3.9477 - val_loss: 3.7046\n",
      "Epoch 46/200\n",
      "3/3 [==============================] - 0s 18ms/step - loss: 3.9449 - val_loss: 3.7036\n",
      "Epoch 47/200\n",
      "3/3 [==============================] - 0s 21ms/step - loss: 3.9370 - val_loss: 3.6985\n",
      "Epoch 48/200\n",
      "3/3 [==============================] - 0s 17ms/step - loss: 3.9258 - val_loss: 3.6971\n",
      "Epoch 49/200\n",
      "3/3 [==============================] - 0s 18ms/step - loss: 3.9205 - val_loss: 3.6753\n",
      "Epoch 50/200\n",
      "3/3 [==============================] - 0s 19ms/step - loss: 3.9090 - val_loss: 3.6695\n",
      "Epoch 51/200\n",
      "3/3 [==============================] - 0s 15ms/step - loss: 3.9005 - val_loss: 3.6698\n",
      "Epoch 52/200\n",
      "3/3 [==============================] - 0s 22ms/step - loss: 3.8935 - val_loss: 3.6812\n",
      "Epoch 53/200\n",
      "3/3 [==============================] - 0s 16ms/step - loss: 3.8829 - val_loss: 3.6708\n",
      "Epoch 54/200\n",
      "3/3 [==============================] - 0s 16ms/step - loss: 3.8731 - val_loss: 3.6582\n",
      "Epoch 55/200\n",
      "3/3 [==============================] - 0s 21ms/step - loss: 3.8646 - val_loss: 3.6570\n",
      "Epoch 56/200\n",
      "3/3 [==============================] - 0s 20ms/step - loss: 3.8501 - val_loss: 3.6569\n",
      "Epoch 57/200\n",
      "3/3 [==============================] - 0s 20ms/step - loss: 3.8410 - val_loss: 3.6405\n",
      "Epoch 58/200\n",
      "3/3 [==============================] - 0s 19ms/step - loss: 3.8262 - val_loss: 3.6360\n",
      "Epoch 59/200\n",
      "3/3 [==============================] - 0s 19ms/step - loss: 3.8130 - val_loss: 3.6408\n",
      "Epoch 60/200\n",
      "3/3 [==============================] - 0s 20ms/step - loss: 3.8021 - val_loss: 3.6388\n",
      "Epoch 61/200\n",
      "3/3 [==============================] - 0s 19ms/step - loss: 3.7857 - val_loss: 3.6146\n",
      "Epoch 62/200\n",
      "3/3 [==============================] - 0s 17ms/step - loss: 3.7728 - val_loss: 3.6050\n",
      "Epoch 63/200\n",
      "3/3 [==============================] - 0s 21ms/step - loss: 3.7546 - val_loss: 3.6040\n",
      "Epoch 64/200\n",
      "3/3 [==============================] - 0s 21ms/step - loss: 3.7449 - val_loss: 3.6054\n",
      "Epoch 65/200\n",
      "3/3 [==============================] - 0s 19ms/step - loss: 3.7216 - val_loss: 3.5741\n",
      "Epoch 66/200\n",
      "3/3 [==============================] - 0s 20ms/step - loss: 3.7022 - val_loss: 3.5670\n",
      "Epoch 67/200\n",
      "3/3 [==============================] - 0s 20ms/step - loss: 3.6754 - val_loss: 3.5749\n",
      "Epoch 68/200\n",
      "3/3 [==============================] - 0s 21ms/step - loss: 3.6597 - val_loss: 3.5552\n",
      "Epoch 69/200\n",
      "3/3 [==============================] - 0s 19ms/step - loss: 3.6317 - val_loss: 3.5347\n",
      "Epoch 70/200\n",
      "3/3 [==============================] - 0s 18ms/step - loss: 3.6061 - val_loss: 3.5155\n",
      "Epoch 71/200\n",
      "3/3 [==============================] - 0s 19ms/step - loss: 3.5756 - val_loss: 3.4951\n",
      "Epoch 72/200\n",
      "3/3 [==============================] - 0s 19ms/step - loss: 3.5516 - val_loss: 3.4761\n",
      "Epoch 73/200\n",
      "3/3 [==============================] - 0s 21ms/step - loss: 3.5221 - val_loss: 3.4514\n",
      "Epoch 74/200\n",
      "3/3 [==============================] - 0s 21ms/step - loss: 3.4984 - val_loss: 3.4309\n",
      "Epoch 75/200\n",
      "3/3 [==============================] - 0s 20ms/step - loss: 3.4655 - val_loss: 3.4334\n",
      "Epoch 76/200\n",
      "3/3 [==============================] - 0s 18ms/step - loss: 3.4577 - val_loss: 3.3919\n",
      "Epoch 77/200\n",
      "3/3 [==============================] - 0s 26ms/step - loss: 3.4235 - val_loss: 3.3733\n",
      "Epoch 78/200\n",
      "3/3 [==============================] - 0s 20ms/step - loss: 3.4134 - val_loss: 3.3405\n",
      "Epoch 79/200\n",
      "3/3 [==============================] - 0s 17ms/step - loss: 3.3791 - val_loss: 3.3282\n",
      "Epoch 80/200\n",
      "3/3 [==============================] - 0s 20ms/step - loss: 3.3731 - val_loss: 3.3013\n",
      "Epoch 81/200\n"
     ]
    },
    {
     "name": "stdout",
     "output_type": "stream",
     "text": [
      "3/3 [==============================] - 0s 20ms/step - loss: 3.3478 - val_loss: 3.2901\n",
      "Epoch 82/200\n",
      "3/3 [==============================] - 0s 17ms/step - loss: 3.3339 - val_loss: 3.2813\n",
      "Epoch 83/200\n",
      "3/3 [==============================] - 0s 21ms/step - loss: 3.3117 - val_loss: 3.2686\n",
      "Epoch 84/200\n",
      "3/3 [==============================] - 0s 17ms/step - loss: 3.3121 - val_loss: 3.2668\n",
      "Epoch 85/200\n",
      "3/3 [==============================] - 0s 16ms/step - loss: 3.2910 - val_loss: 3.3117\n",
      "Epoch 86/200\n",
      "3/3 [==============================] - 0s 21ms/step - loss: 3.2931 - val_loss: 3.2545\n",
      "Epoch 87/200\n",
      "3/3 [==============================] - 0s 20ms/step - loss: 3.2615 - val_loss: 3.2324\n",
      "Epoch 88/200\n",
      "3/3 [==============================] - 0s 22ms/step - loss: 3.2513 - val_loss: 3.2170\n",
      "Epoch 89/200\n",
      "3/3 [==============================] - 0s 22ms/step - loss: 3.2492 - val_loss: 3.1922\n",
      "Epoch 90/200\n",
      "3/3 [==============================] - 0s 22ms/step - loss: 3.2409 - val_loss: 3.1781\n",
      "Epoch 91/200\n",
      "3/3 [==============================] - 0s 21ms/step - loss: 3.2345 - val_loss: 3.1988\n",
      "Epoch 92/200\n",
      "3/3 [==============================] - 0s 22ms/step - loss: 3.2280 - val_loss: 3.2255\n",
      "Epoch 93/200\n",
      "3/3 [==============================] - 0s 16ms/step - loss: 3.2250 - val_loss: 3.2227\n",
      "Epoch 94/200\n",
      "3/3 [==============================] - 0s 18ms/step - loss: 3.2330 - val_loss: 3.1946\n",
      "Epoch 95/200\n",
      "3/3 [==============================] - 0s 23ms/step - loss: 3.2280 - val_loss: 3.1973\n",
      "Epoch 96/200\n",
      "3/3 [==============================] - 0s 20ms/step - loss: 3.2140 - val_loss: 3.1521\n",
      "Epoch 97/200\n",
      "3/3 [==============================] - 0s 21ms/step - loss: 3.2270 - val_loss: 3.1652\n",
      "Epoch 98/200\n",
      "3/3 [==============================] - 0s 22ms/step - loss: 3.1990 - val_loss: 3.1866\n",
      "Epoch 99/200\n",
      "3/3 [==============================] - 0s 18ms/step - loss: 3.2086 - val_loss: 3.1968\n",
      "Epoch 100/200\n",
      "3/3 [==============================] - 0s 23ms/step - loss: 3.1973 - val_loss: 3.2119\n",
      "Epoch 101/200\n",
      "3/3 [==============================] - 0s 17ms/step - loss: 3.2059 - val_loss: 3.1740\n",
      "Epoch 102/200\n",
      "3/3 [==============================] - 0s 18ms/step - loss: 3.1831 - val_loss: 3.1859\n",
      "Epoch 103/200\n",
      "3/3 [==============================] - 0s 22ms/step - loss: 3.2162 - val_loss: 3.1434\n",
      "Epoch 104/200\n",
      "3/3 [==============================] - 0s 18ms/step - loss: 3.2287 - val_loss: 3.1528\n",
      "Epoch 105/200\n",
      "3/3 [==============================] - 0s 17ms/step - loss: 3.2534 - val_loss: 3.2705\n",
      "Epoch 106/200\n",
      "3/3 [==============================] - 0s 16ms/step - loss: 3.2494 - val_loss: 3.2901\n",
      "Epoch 107/200\n",
      "3/3 [==============================] - 0s 19ms/step - loss: 3.2481 - val_loss: 3.2103\n",
      "Epoch 108/200\n",
      "3/3 [==============================] - 0s 18ms/step - loss: 3.2053 - val_loss: 3.2085\n",
      "Epoch 109/200\n",
      "3/3 [==============================] - 0s 19ms/step - loss: 3.2209 - val_loss: 3.0919\n",
      "Epoch 110/200\n",
      "3/3 [==============================] - 0s 16ms/step - loss: 3.2098 - val_loss: 3.1055\n",
      "Epoch 111/200\n",
      "3/3 [==============================] - 0s 24ms/step - loss: 3.1830 - val_loss: 3.1628\n",
      "Epoch 112/200\n",
      "3/3 [==============================] - 0s 17ms/step - loss: 3.1999 - val_loss: 3.1907\n",
      "Epoch 113/200\n",
      "3/3 [==============================] - 0s 15ms/step - loss: 3.1807 - val_loss: 3.1693\n",
      "Epoch 114/200\n",
      "3/3 [==============================] - 0s 20ms/step - loss: 3.1763 - val_loss: 3.1262\n",
      "Epoch 115/200\n",
      "3/3 [==============================] - 0s 17ms/step - loss: 3.1776 - val_loss: 3.1520\n",
      "Epoch 116/200\n",
      "3/3 [==============================] - 0s 16ms/step - loss: 3.1569 - val_loss: 3.1159\n",
      "Epoch 117/200\n",
      "3/3 [==============================] - 0s 19ms/step - loss: 3.2153 - val_loss: 3.1230\n",
      "Epoch 118/200\n",
      "3/3 [==============================] - 0s 18ms/step - loss: 3.2191 - val_loss: 3.2346\n",
      "Epoch 119/200\n",
      "3/3 [==============================] - 0s 20ms/step - loss: 3.2165 - val_loss: 3.1790\n",
      "Epoch 120/200\n",
      "3/3 [==============================] - 0s 21ms/step - loss: 3.1693 - val_loss: 3.1382\n",
      "Epoch 121/200\n",
      "3/3 [==============================] - 0s 18ms/step - loss: 3.1532 - val_loss: 3.1751\n",
      "Epoch 122/200\n",
      "3/3 [==============================] - 0s 13ms/step - loss: 3.1571 - val_loss: 3.0783\n",
      "Epoch 123/200\n",
      "3/3 [==============================] - 0s 19ms/step - loss: 3.1715 - val_loss: 3.0964\n",
      "Epoch 124/200\n",
      "3/3 [==============================] - 0s 22ms/step - loss: 3.1255 - val_loss: 3.1177\n",
      "Epoch 125/200\n",
      "3/3 [==============================] - 0s 17ms/step - loss: 3.1201 - val_loss: 3.1376\n",
      "Epoch 126/200\n",
      "3/3 [==============================] - 0s 17ms/step - loss: 3.1157 - val_loss: 3.1767\n",
      "Epoch 127/200\n",
      "3/3 [==============================] - 0s 19ms/step - loss: 3.1430 - val_loss: 3.1364\n",
      "Epoch 128/200\n",
      "3/3 [==============================] - 0s 21ms/step - loss: 3.1549 - val_loss: 3.1719\n",
      "Epoch 129/200\n",
      "3/3 [==============================] - 0s 17ms/step - loss: 3.1627 - val_loss: 3.0720\n",
      "Epoch 130/200\n",
      "3/3 [==============================] - 0s 17ms/step - loss: 3.1171 - val_loss: 3.1148\n",
      "Epoch 131/200\n",
      "3/3 [==============================] - 0s 21ms/step - loss: 3.1188 - val_loss: 3.1364\n",
      "Epoch 132/200\n",
      "3/3 [==============================] - 0s 16ms/step - loss: 3.1104 - val_loss: 3.1629\n",
      "Epoch 133/200\n",
      "3/3 [==============================] - 0s 17ms/step - loss: 3.1294 - val_loss: 3.0902\n",
      "Epoch 134/200\n",
      "3/3 [==============================] - 0s 21ms/step - loss: 3.1045 - val_loss: 3.0863\n",
      "Epoch 135/200\n",
      "3/3 [==============================] - 0s 15ms/step - loss: 3.0967 - val_loss: 3.1215\n",
      "Epoch 136/200\n",
      "3/3 [==============================] - 0s 20ms/step - loss: 3.0865 - val_loss: 3.1359\n",
      "Epoch 137/200\n",
      "3/3 [==============================] - 0s 16ms/step - loss: 3.0922 - val_loss: 3.0916\n",
      "Epoch 138/200\n",
      "3/3 [==============================] - 0s 17ms/step - loss: 3.0740 - val_loss: 3.0748\n",
      "Epoch 139/200\n",
      "3/3 [==============================] - 0s 20ms/step - loss: 3.0937 - val_loss: 3.0657\n",
      "Epoch 140/200\n",
      "3/3 [==============================] - 0s 17ms/step - loss: 3.0720 - val_loss: 3.1031\n",
      "Epoch 141/200\n",
      "3/3 [==============================] - 0s 20ms/step - loss: 3.0704 - val_loss: 3.1326\n",
      "Epoch 142/200\n",
      "3/3 [==============================] - 0s 17ms/step - loss: 3.0685 - val_loss: 3.1072\n",
      "Epoch 143/200\n",
      "3/3 [==============================] - 0s 23ms/step - loss: 3.0721 - val_loss: 3.0556\n",
      "Epoch 144/200\n",
      "3/3 [==============================] - 0s 18ms/step - loss: 3.0419 - val_loss: 3.0489\n",
      "Epoch 145/200\n",
      "3/3 [==============================] - 0s 20ms/step - loss: 3.0390 - val_loss: 3.0696\n",
      "Epoch 146/200\n",
      "3/3 [==============================] - 0s 20ms/step - loss: 3.0390 - val_loss: 3.0762\n",
      "Epoch 147/200\n",
      "3/3 [==============================] - 0s 18ms/step - loss: 3.0355 - val_loss: 3.0730\n",
      "Epoch 148/200\n",
      "3/3 [==============================] - 0s 18ms/step - loss: 3.0435 - val_loss: 3.0482\n",
      "Epoch 149/200\n",
      "3/3 [==============================] - 0s 21ms/step - loss: 3.0172 - val_loss: 3.0731\n",
      "Epoch 150/200\n",
      "3/3 [==============================] - 0s 16ms/step - loss: 3.0260 - val_loss: 3.0736\n",
      "Epoch 151/200\n",
      "3/3 [==============================] - 0s 18ms/step - loss: 3.0443 - val_loss: 3.0631\n",
      "Epoch 152/200\n",
      "3/3 [==============================] - 0s 21ms/step - loss: 3.0007 - val_loss: 3.0271\n",
      "Epoch 153/200\n",
      "3/3 [==============================] - 0s 16ms/step - loss: 3.0087 - val_loss: 3.0424\n",
      "Epoch 154/200\n",
      "3/3 [==============================] - 0s 17ms/step - loss: 3.0032 - val_loss: 3.0424\n",
      "Epoch 155/200\n",
      "3/3 [==============================] - 0s 20ms/step - loss: 2.9815 - val_loss: 3.0089\n",
      "Epoch 156/200\n",
      "3/3 [==============================] - 0s 17ms/step - loss: 2.9835 - val_loss: 3.0138\n",
      "Epoch 157/200\n",
      "3/3 [==============================] - 0s 21ms/step - loss: 2.9741 - val_loss: 3.0430\n",
      "Epoch 158/200\n",
      "3/3 [==============================] - 0s 18ms/step - loss: 2.9878 - val_loss: 3.0150\n",
      "Epoch 159/200\n",
      "3/3 [==============================] - 0s 18ms/step - loss: 2.9526 - val_loss: 3.0530\n",
      "Epoch 160/200\n",
      "3/3 [==============================] - 0s 21ms/step - loss: 3.0143 - val_loss: 3.1019\n",
      "Epoch 161/200\n",
      "3/3 [==============================] - 0s 17ms/step - loss: 3.2234 - val_loss: 3.3841\n",
      "Epoch 162/200\n",
      "3/3 [==============================] - 0s 16ms/step - loss: 3.1998 - val_loss: 3.1477\n",
      "Epoch 163/200\n"
     ]
    },
    {
     "name": "stdout",
     "output_type": "stream",
     "text": [
      "3/3 [==============================] - 0s 17ms/step - loss: 3.0477 - val_loss: 2.9931\n",
      "Epoch 164/200\n",
      "3/3 [==============================] - 0s 20ms/step - loss: 2.9378 - val_loss: 3.0005\n",
      "Epoch 165/200\n",
      "3/3 [==============================] - 0s 20ms/step - loss: 3.0250 - val_loss: 3.0065\n",
      "Epoch 166/200\n",
      "3/3 [==============================] - 0s 17ms/step - loss: 2.9695 - val_loss: 3.0453\n",
      "Epoch 167/200\n",
      "3/3 [==============================] - 0s 19ms/step - loss: 2.9603 - val_loss: 3.0467\n",
      "Epoch 168/200\n",
      "3/3 [==============================] - 0s 14ms/step - loss: 2.9013 - val_loss: 3.0003\n",
      "Epoch 169/200\n",
      "3/3 [==============================] - 0s 20ms/step - loss: 2.9031 - val_loss: 2.9436\n",
      "Epoch 170/200\n",
      "3/3 [==============================] - 0s 14ms/step - loss: 2.9195 - val_loss: 2.9796\n",
      "Epoch 171/200\n",
      "3/3 [==============================] - 0s 27ms/step - loss: 2.8734 - val_loss: 3.0057\n",
      "Epoch 172/200\n",
      "3/3 [==============================] - 0s 17ms/step - loss: 2.8900 - val_loss: 2.9932\n",
      "Epoch 173/200\n",
      "3/3 [==============================] - 0s 17ms/step - loss: 2.8595 - val_loss: 2.9403\n",
      "Epoch 174/200\n",
      "3/3 [==============================] - 0s 20ms/step - loss: 2.8566 - val_loss: 2.9253\n",
      "Epoch 175/200\n",
      "3/3 [==============================] - 0s 16ms/step - loss: 2.8254 - val_loss: 2.9311\n",
      "Epoch 176/200\n",
      "3/3 [==============================] - 0s 17ms/step - loss: 2.8333 - val_loss: 2.9473\n",
      "Epoch 177/200\n",
      "3/3 [==============================] - 0s 20ms/step - loss: 2.8366 - val_loss: 2.9751\n",
      "Epoch 178/200\n",
      "3/3 [==============================] - 0s 16ms/step - loss: 2.8295 - val_loss: 2.9459\n",
      "Epoch 179/200\n",
      "3/3 [==============================] - 0s 20ms/step - loss: 2.8387 - val_loss: 3.0106\n",
      "Epoch 180/200\n",
      "3/3 [==============================] - 0s 19ms/step - loss: 2.8459 - val_loss: 2.9421\n",
      "Epoch 181/200\n",
      "3/3 [==============================] - 0s 16ms/step - loss: 2.7609 - val_loss: 2.9527\n",
      "Epoch 182/200\n",
      "3/3 [==============================] - 0s 21ms/step - loss: 2.8560 - val_loss: 2.9365\n",
      "Epoch 183/200\n",
      "3/3 [==============================] - 0s 20ms/step - loss: 2.7441 - val_loss: 2.9628\n",
      "Epoch 184/200\n",
      "3/3 [==============================] - 0s 17ms/step - loss: 2.7473 - val_loss: 2.9259\n",
      "Epoch 185/200\n",
      "3/3 [==============================] - 0s 17ms/step - loss: 2.7252 - val_loss: 2.9117\n",
      "Epoch 186/200\n",
      "3/3 [==============================] - 0s 18ms/step - loss: 2.7218 - val_loss: 2.8829\n",
      "Epoch 187/200\n",
      "3/3 [==============================] - 0s 22ms/step - loss: 2.6996 - val_loss: 2.8989\n",
      "Epoch 188/200\n",
      "3/3 [==============================] - 0s 19ms/step - loss: 2.7039 - val_loss: 2.8887\n",
      "Epoch 189/200\n",
      "3/3 [==============================] - 0s 17ms/step - loss: 2.6938 - val_loss: 2.8943\n",
      "Epoch 190/200\n",
      "3/3 [==============================] - 0s 19ms/step - loss: 2.6811 - val_loss: 2.9027\n",
      "Epoch 191/200\n",
      "3/3 [==============================] - 0s 16ms/step - loss: 2.6917 - val_loss: 2.8879\n",
      "Epoch 192/200\n",
      "3/3 [==============================] - 0s 21ms/step - loss: 2.6941 - val_loss: 2.8811\n",
      "Epoch 193/200\n",
      "3/3 [==============================] - 0s 17ms/step - loss: 2.6744 - val_loss: 2.8914\n",
      "Epoch 194/200\n",
      "3/3 [==============================] - 0s 16ms/step - loss: 2.7145 - val_loss: 2.9207\n",
      "Epoch 195/200\n",
      "3/3 [==============================] - 0s 16ms/step - loss: 2.7154 - val_loss: 2.9582\n",
      "Epoch 196/200\n",
      "3/3 [==============================] - 0s 17ms/step - loss: 2.7156 - val_loss: 2.8635\n",
      "Epoch 197/200\n",
      "3/3 [==============================] - 0s 18ms/step - loss: 2.6517 - val_loss: 2.8511\n",
      "Epoch 198/200\n",
      "3/3 [==============================] - 0s 20ms/step - loss: 2.6272 - val_loss: 2.8565\n",
      "Epoch 199/200\n",
      "3/3 [==============================] - 0s 16ms/step - loss: 2.6555 - val_loss: 2.8563\n",
      "Epoch 200/200\n",
      "3/3 [==============================] - 0s 17ms/step - loss: 2.6431 - val_loss: 2.8483\n"
     ]
    }
   ],
   "source": [
    "history = model.fit(X_train, y_train, epochs=200,\n",
    "                    validation_data=(X_valid, y_valid))"
   ]
  },
  {
   "cell_type": "code",
   "execution_count": 68,
   "id": "0b29d35c",
   "metadata": {
    "scrolled": true
   },
   "outputs": [],
   "source": [
    "# history = model.fit(X_train, y_train, epochs=145,\n",
    "#                     validation_data=(X_valid, y_valid), callbacks=[lr_scheduler])"
   ]
  },
  {
   "cell_type": "code",
   "execution_count": 69,
   "id": "28215732",
   "metadata": {},
   "outputs": [
    {
     "name": "stdout",
     "output_type": "stream",
     "text": [
      "Saving figure grid_Gaussian_training_curve\n"
     ]
    },
    {
     "data": {
      "image/png": "[encoded data removed]",
      "text/plain": [
       "<Figure size 576x360 with 1 Axes>"
      ]
     },
     "metadata": {
      "needs_background": "light"
     },
     "output_type": "display_data"
    }
   ],
   "source": [
    "import pandas as pd\n",
    "\n",
    "# print(history.history)\n",
    "try:\n",
    "    lr_list = history.history[\"lr\"]\n",
    "    del(history.history[\"lr\"])\n",
    "except:\n",
    "    pass\n",
    "\n",
    "pd.DataFrame(history.history)[50:].plot(figsize=(8, 5))\n",
    "plt.grid(True)\n",
    "# plt.gca().set_ylim(0, 1)\n",
    "save_fig(\"grid_Gaussian_training_curve\")\n",
    "plt.show()"
   ]
  },
  {
   "cell_type": "code",
   "execution_count": 70,
   "id": "47d362c9",
   "metadata": {
    "scrolled": true
   },
   "outputs": [
    {
     "name": "stdout",
     "output_type": "stream",
     "text": [
      "X.shape = (None, 1)\n",
      "gauss_grid.shape = (None, 5)\n",
      "Saving figure grid_Gaussian_prediction\n"
     ]
    },
    {
     "data": {
      "image/png": "[encoded data removed]",
      "text/plain": [
       "<Figure size 432x288 with 1 Axes>"
      ]
     },
     "metadata": {
      "needs_background": "light"
     },
     "output_type": "display_data"
    }
   ],
   "source": [
    "# plt.plot(X_train, y_train, \"b.\")\n",
    "draw_points(X_train, y_train, sid_train)\n",
    "draw_func((lambda X: model.predict(X)[:,0] ), mark='r-', linewidth=2, label=\"Predictions\")\n",
    "draw_normal_func(func_dict)\n",
    "plt.xlabel(\"$x_1$\", fontsize=18)\n",
    "plt.ylabel(\"$y$\", rotation=0, fontsize=18)\n",
    "plt.legend(loc=\"upper left\", fontsize=14)\n",
    "# plt.axis([-3, 3, 0, 10])\n",
    "save_fig(\"grid_Gaussian_prediction\")\n",
    "plt.show()"
   ]
  },
  {
   "cell_type": "code",
   "execution_count": 71,
   "id": "a85a5159",
   "metadata": {},
   "outputs": [
    {
     "name": "stdout",
     "output_type": "stream",
     "text": [
      "y_func.shape = (100, 1)\n",
      "y_gt.shape = (100, 1)\n"
     ]
    },
    {
     "data": {
      "text/plain": [
       "5.355597091642035"
      ]
     },
     "execution_count": 71,
     "metadata": {},
     "output_type": "execute_result"
    }
   ],
   "source": [
    "get_prediction_error((lambda X: model.predict(X)[:,0] ), func_dict, name=\"grid-oneGaussian\")"
   ]
  },
  {
   "cell_type": "markdown",
   "id": "9ca1e36d",
   "metadata": {},
   "source": [
    "### Draw the 1-sigma boundary line"
   ]
  },
  {
   "cell_type": "code",
   "execution_count": 72,
   "id": "a04a47fa",
   "metadata": {},
   "outputs": [
    {
     "name": "stdout",
     "output_type": "stream",
     "text": [
      "Saving figure grid_Gaussian_1sigma\n"
     ]
    },
    {
     "data": {
      "image/png": "[encoded data removed]",
      "text/plain": [
       "<Figure size 432x288 with 1 Axes>"
      ]
     },
     "metadata": {
      "needs_background": "light"
     },
     "output_type": "display_data"
    }
   ],
   "source": [
    "def n_sigma_boundary_line(X, n):\n",
    "    _y = model.predict(X)\n",
    "    _mean, _z = _y[:,0:1], _y[:,1:2]\n",
    "    _sigma = np.exp(alpha*_z)\n",
    "    return( _mean + n*_sigma)\n",
    "\n",
    "# plt.plot(X_train, y_train, \"b.\")\n",
    "draw_points(X_train, y_train, sid_train)\n",
    "#\n",
    "draw_func((lambda X: model.predict(X)[:,0] ), mark='r-', linewidth=2, label=\"Predictions\")\n",
    "draw_func((lambda X: n_sigma_boundary_line(X, +1.0) ), mark='k--', linewidth=1, label=\"$\\mu+\\sigma$\")\n",
    "draw_func((lambda X: n_sigma_boundary_line(X, -1.0) ), mark='k--', linewidth=1, label=\"$\\mu-\\sigma$\")\n",
    "#\n",
    "draw_normal_func(func_dict)\n",
    "plt.xlabel(\"$x_1$\", fontsize=18)\n",
    "plt.ylabel(\"$y$\", rotation=0, fontsize=18)\n",
    "plt.legend(loc=\"upper left\", fontsize=14)\n",
    "# plt.axis([-3, 3, 0, 10])\n",
    "save_fig(\"grid_Gaussian_1sigma\")\n",
    "plt.show()"
   ]
  },
  {
   "cell_type": "markdown",
   "id": "1cdb8a83",
   "metadata": {},
   "source": [
    "# Per-subject Bias/Property Learning"
   ]
  },
  {
   "cell_type": "code",
   "execution_count": 73,
   "id": "0a429b42",
   "metadata": {},
   "outputs": [],
   "source": [
    "# Create a custom layer for estimating bais for each subject\n",
    "class SubjectBias(keras.layers.Layer):\n",
    "    def __init__(self, num_subject, bias_scale=1.0, mean_reg_rate=1.0, activation=None, **kwargs):\n",
    "        super().__init__(**kwargs)\n",
    "        self.num_subject = num_subject\n",
    "        self.bias_scale = bias_scale\n",
    "        self.mean_reg_rate = mean_reg_rate if mean_reg_rate >= 0.0 else 0.0\n",
    "        #\n",
    "        self.X_shape = None\n",
    "        self.activation = keras.activations.get(activation)\n",
    "        \n",
    "    def build(self, batch_input_shape):\n",
    "        self.X_shape = batch_input_shape[0]\n",
    "        # Initiate a trainable vector as the bias for X\n",
    "        \"\"\"\n",
    "        bias: (num_subject, X_shape[1], X_shape[2], ...)\n",
    "        \"\"\"\n",
    "        self.bias = self.add_weight(name=\"bias\", \n",
    "                                    shape=([self.num_subject] + self.X_shape[1:]), \n",
    "                                    initializer=\"zeros\")\n",
    "        super().build(batch_input_shape) # must be at the end\n",
    "        \n",
    "    def get_bias(self, sid):\n",
    "        '''\n",
    "        A helper function for retriving the bias according to the given sid.\n",
    "        Note: sid starts from 1.\n",
    "        Note2: this is the bias added to X, which are scaled by self.bias_scale\n",
    "        '''\n",
    "        if sid > self.num_subject or sid <= 0: # Out of bound, index not in range\n",
    "            return tf.zeros(self.X_shape[1:])\n",
    "        else:\n",
    "            return self.bias_scale * self.bias[tf.cast(sid-1, tf.int32),:]\n",
    "        \n",
    "    def get_scaled_biases_np(self):\n",
    "        return self.bias_scale * self.bias.numpy()\n",
    "        \n",
    "    def call(self, X_sid, training=None):\n",
    "        '''\n",
    "        X_sid = [X, sid]\n",
    "        Input shape:  X: (batch, ...), sid: (batch, 1)\n",
    "        Output shape: (batch, ...)\n",
    "        '''\n",
    "        X, SID = X_sid\n",
    "        X_shape = X.shape\n",
    "        print(\"X.shape = %s\" % X.shape)\n",
    "        print(\"SID.shape = %s\" % SID.shape)\n",
    "        \n",
    "        # Add bias\n",
    "        y = X + self.bias_scale * tf.gather(self.bias, SID[:,0]-1, axis=0)\n",
    "        \n",
    "        # Add a loss on the means in order to force them to become zeros\n",
    "        if self.mean_reg_rate > 0.0:\n",
    "            # Calculate the mean of all biases (on each dimension)\n",
    "            bias_means = tf.reduce_mean(self.bias, axis=0)\n",
    "            # MAE of means on all dimensions\n",
    "            self.add_loss( self.mean_reg_rate * tf.reduce_sum(tf.abs(bias_means)) )\n",
    "        \n",
    "        return self.activation(y)\n",
    "        \n",
    "#         if training:    \n",
    "#             # Add biases according to the sid of each instance\n",
    "#             # Note: a corner case is not handeled that if there exist out-of-range sid.\n",
    "#             # y = X + self.bias[tf.cast(SID[:,0]-1, tf.int32),:]\n",
    "#             # y = X + self.bias[ SID[:,0]-1,:]\n",
    "#             y = X + tf.gather(self.bias, SID[:,0]-1, axis=0)\n",
    "#             return self.activation(y)\n",
    "#         else: # If it's not trainig, just output the original X without adding bias\n",
    "#             return self.activation(X_sid[0])\n",
    "    \n",
    "    def compute_output_shape(self, batch_input_shape):\n",
    "        # Note: the same shape as the first input\n",
    "        return batch_input_shape[0]\n",
    "    \n",
    "    def get_config(self):\n",
    "        base_config = super().get_config()\n",
    "        return {**base_config, \n",
    "                \"num_subject\": self.num_subject,\n",
    "                \"bias_scale\": self.bias_scale,\n",
    "                \"mean_reg_rate\": self.mean_reg_rate,\n",
    "                \"activation\": keras.activations.serialize(self.activation)}"
   ]
  },
  {
   "cell_type": "code",
   "execution_count": 74,
   "id": "bbacc928",
   "metadata": {},
   "outputs": [],
   "source": [
    "# Create a custom layer for estimating linear transform for each subject\n",
    "# We only assume 1D lear transform on each input dimension separately. (assume value on each dimension are independent to others.)\n",
    "# 1D linear transform: yi = wi * xi + bi\n",
    "class SubjectLinearTransform1D(keras.layers.Layer):\n",
    "    def __init__(self, num_subject, bias_scale=1.0, weight_mean_reg_rate=1.0, bias_mean_reg_rate=1.0, activation=None, **kwargs):\n",
    "        super().__init__(**kwargs)\n",
    "        self.num_subject = num_subject\n",
    "        self.bias_scale = bias_scale\n",
    "        self.weight_mean_reg_rate = weight_mean_reg_rate if weight_mean_reg_rate >= 0.0 else 0.0\n",
    "        self.bias_mean_reg_rate = bias_mean_reg_rate if bias_mean_reg_rate >= 0.0 else 0.0\n",
    "        #\n",
    "        self.X_shape = None\n",
    "        self.activation = keras.activations.get(activation)\n",
    "        \n",
    "    def build(self, batch_input_shape):\n",
    "        self.X_shape = batch_input_shape[0]\n",
    "        # Initiate a trainable vector as the bias for X\n",
    "        \"\"\"\n",
    "        bias: (num_subject, X_shape[1], X_shape[2], ...)\n",
    "        \"\"\"\n",
    "        self.weight = self.add_weight(name=\"weight\", \n",
    "                                    shape=([self.num_subject] + self.X_shape[1:]), \n",
    "                                    initializer=\"ones\")\n",
    "        self.bias = self.add_weight(name=\"bias\", \n",
    "                                    shape=([self.num_subject] + self.X_shape[1:]), \n",
    "                                    initializer=\"zeros\")\n",
    "        super().build(batch_input_shape) # must be at the end\n",
    "        \n",
    "    def get_bias(self, sid):\n",
    "        '''\n",
    "        A helper function for retriving the bias according to the given sid.\n",
    "        Note: sid starts from 1.\n",
    "        Note2: this is the bias added to X, which are scaled by self.bias_scale\n",
    "        '''\n",
    "        if sid > self.num_subject or sid <= 0: # Out of bound, index not in range\n",
    "            return tf.zeros(self.X_shape[1:])\n",
    "        else:\n",
    "            return self.bias_scale * self.bias[tf.cast(sid-1, tf.int32),:]\n",
    "        \n",
    "    def get_scaled_biases_np(self):\n",
    "        return self.bias_scale * self.bias.numpy()\n",
    "    \n",
    "    def get_weights_np(self):\n",
    "        return self.weight.numpy()\n",
    "        \n",
    "    def call(self, X_sid, training=None):\n",
    "        '''\n",
    "        X_sid = [X, sid]\n",
    "        Input shape:  X: (batch, ...), sid: (batch, 1)\n",
    "        Output shape: (batch, ...)\n",
    "        '''\n",
    "        X, SID = X_sid\n",
    "        X_shape = X.shape\n",
    "        print(\"X.shape = %s\" % X.shape)\n",
    "        print(\"SID.shape = %s\" % SID.shape)\n",
    "        \n",
    "        # Element-wise multiplication of weights and addition of biases\n",
    "        y = tf.gather(self.weight, SID[:,0]-1, axis=0) * X + self.bias_scale * tf.gather(self.bias, SID[:,0]-1, axis=0)\n",
    "        \n",
    "        # Add a loss on the means in order to force them to become zeros\n",
    "        if self.weight_mean_reg_rate > 0.0 or self.bias_mean_reg_rate > 0.0:\n",
    "            # Calculate the mean of all weights and biases (on each dimension separately)\n",
    "            weight_means = tf.reduce_mean(self.weight, axis=0)\n",
    "            bias_means = tf.reduce_mean(self.bias, axis=0)\n",
    "            # MAE of means on all dimensions\n",
    "            self.add_loss( self.weight_mean_reg_rate * tf.reduce_sum(tf.abs(weight_means - 1.0)) ) # Should close to 1.0\n",
    "            self.add_loss( self.bias_mean_reg_rate * tf.reduce_sum(tf.abs(bias_means)) )\n",
    "        \n",
    "        return self.activation(y)\n",
    "    \n",
    "    def compute_output_shape(self, batch_input_shape):\n",
    "        # Note: the same shape as the first input\n",
    "        return batch_input_shape[0]\n",
    "    \n",
    "    def get_config(self):\n",
    "        base_config = super().get_config()\n",
    "        return {**base_config, \n",
    "                \"num_subject\": self.num_subject,\n",
    "                \"bias_scale\": self.bias_scale,\n",
    "                \"weight_mean_reg_rate\": self.weight_mean_reg_rate,\n",
    "                \"bias_mean_reg_rate\": self.bias_mean_reg_rate,\n",
    "                \"activation\": keras.activations.serialize(self.activation)}"
   ]
  },
  {
   "cell_type": "markdown",
   "id": "00220bd0",
   "metadata": {},
   "source": [
    "Number of subjects"
   ]
  },
  {
   "cell_type": "code",
   "execution_count": 75,
   "id": "fa925d83",
   "metadata": {},
   "outputs": [],
   "source": [
    "# Number of subjects\n",
    "num_subject = multiout_type"
   ]
  },
  {
   "cell_type": "markdown",
   "id": "37e02154",
   "metadata": {},
   "source": [
    "Build two models"
   ]
  },
  {
   "cell_type": "code",
   "execution_count": 76,
   "id": "05766d44",
   "metadata": {},
   "outputs": [
    {
     "name": "stdout",
     "output_type": "stream",
     "text": [
      "X.shape = (None, 1)\n",
      "gauss_grid.shape = (None, 5)\n",
      "X.shape = (None, 1)\n",
      "SID.shape = (None, 1)\n"
     ]
    }
   ],
   "source": [
    "inputs = keras.layers.Input(shape=X_train.shape[1:])\n",
    "inputs_sid = keras.layers.Input(shape=(1,), dtype=tf.int32)\n",
    "#\n",
    "z = num2grid(5,x_min=-10, x_max=10, sigma=3.0)(inputs)\n",
    "z = keras.layers.Dense(30, activation=\"relu\")(z)\n",
    "output = keras.layers.Dense(1)(z)\n",
    "# output_biased = SubjectBias(num_subject, bias_scale=10.0, mean_reg_rate=1.0, name=\"bias_est\")([output, inputs_sid])\n",
    "output_biased = SubjectLinearTransform1D(num_subject, bias_scale=10.0, weight_mean_reg_rate=5.0, bias_mean_reg_rate=1.0, name=\"bias_est\")([output, inputs_sid])\n",
    "# Setup models\n",
    "model = keras.Model(inputs=[inputs], outputs=[output]) # pure\n",
    "model_biased = keras.Model(inputs=[inputs, inputs_sid], outputs=[output_biased]) # biased, for training"
   ]
  },
  {
   "cell_type": "code",
   "execution_count": 77,
   "id": "6da7e9b1",
   "metadata": {},
   "outputs": [
    {
     "name": "stderr",
     "output_type": "stream",
     "text": [
      "C:\\Users\\benso\\anaconda3\\envs\\ml\\lib\\site-packages\\keras\\optimizer_v2\\adam.py:105: UserWarning: The `lr` argument is deprecated, use `learning_rate` instead.\n",
      "  super(Adam, self).__init__(name, **kwargs)\n"
     ]
    }
   ],
   "source": [
    "# optimizer = keras.optimizers.SGD(lr=0.001, momentum=0.9)\n",
    "# model.compile(loss=\"mean_squared_error\", optimizer=optimizer)\n",
    "optimizer = keras.optimizers.Adam(lr=0.1)\n",
    "model_biased.compile(loss=\"mean_absolute_error\", optimizer=optimizer)\n",
    "#\n",
    "# model.compile(loss=\"mean_absolute_error\", optimizer=optimizer) # No need to compile this if it's not going to be trained."
   ]
  },
  {
   "cell_type": "code",
   "execution_count": 78,
   "id": "700a6e39",
   "metadata": {
    "scrolled": true
   },
   "outputs": [
    {
     "name": "stdout",
     "output_type": "stream",
     "text": [
      "Epoch 1/100\n",
      "X.shape = (None, 1)\n",
      "gauss_grid.shape = (None, 5)\n",
      "X.shape = (None, 1)\n",
      "SID.shape = (None, 1)\n",
      "X.shape = (None, 1)\n",
      "gauss_grid.shape = (None, 5)\n",
      "X.shape = (None, 1)\n",
      "SID.shape = (None, 1)\n",
      "1/3 [=========>....................] - ETA: 1s - loss: 41.5731X.shape = (None, 1)\n",
      "gauss_grid.shape = (None, 5)\n",
      "X.shape = (None, 1)\n",
      "SID.shape = (None, 1)\n",
      "3/3 [==============================] - 1s 89ms/step - loss: 41.2169 - val_loss: 31.9228\n",
      "Epoch 2/100\n",
      "3/3 [==============================] - 0s 19ms/step - loss: 37.4942 - val_loss: 27.9012\n",
      "Epoch 3/100\n",
      "3/3 [==============================] - 0s 29ms/step - loss: 30.4866 - val_loss: 20.4357\n",
      "Epoch 4/100\n",
      "3/3 [==============================] - 0s 31ms/step - loss: 20.1304 - val_loss: 9.5604\n",
      "Epoch 5/100\n",
      "3/3 [==============================] - 0s 34ms/step - loss: 15.6809 - val_loss: 11.9214\n",
      "Epoch 6/100\n",
      "3/3 [==============================] - 0s 26ms/step - loss: 15.8324 - val_loss: 7.9145\n",
      "Epoch 7/100\n",
      "3/3 [==============================] - 0s 22ms/step - loss: 12.2100 - val_loss: 7.4357\n",
      "Epoch 8/100\n",
      "3/3 [==============================] - 0s 21ms/step - loss: 12.7220 - val_loss: 8.5653\n",
      "Epoch 9/100\n",
      "3/3 [==============================] - 0s 17ms/step - loss: 12.5402 - val_loss: 7.2591\n",
      "Epoch 10/100\n",
      "3/3 [==============================] - 0s 20ms/step - loss: 10.9775 - val_loss: 6.2584\n",
      "Epoch 11/100\n",
      "3/3 [==============================] - 0s 19ms/step - loss: 10.1540 - val_loss: 6.3817\n",
      "Epoch 12/100\n",
      "3/3 [==============================] - 0s 15ms/step - loss: 10.2727 - val_loss: 6.1952\n",
      "Epoch 13/100\n",
      "3/3 [==============================] - 0s 17ms/step - loss: 9.2584 - val_loss: 6.1749\n",
      "Epoch 14/100\n",
      "3/3 [==============================] - 0s 18ms/step - loss: 9.9506 - val_loss: 6.5822\n",
      "Epoch 15/100\n",
      "3/3 [==============================] - 0s 21ms/step - loss: 9.4853 - val_loss: 5.5523\n",
      "Epoch 16/100\n",
      "3/3 [==============================] - 0s 22ms/step - loss: 8.5878 - val_loss: 5.9845\n",
      "Epoch 17/100\n",
      "3/3 [==============================] - 0s 18ms/step - loss: 8.4912 - val_loss: 5.5919\n",
      "Epoch 18/100\n",
      "3/3 [==============================] - 0s 18ms/step - loss: 7.6730 - val_loss: 6.0976\n",
      "Epoch 19/100\n",
      "3/3 [==============================] - 0s 20ms/step - loss: 8.1821 - val_loss: 5.4269\n",
      "Epoch 20/100\n",
      "3/3 [==============================] - 0s 22ms/step - loss: 7.2877 - val_loss: 5.7250\n",
      "Epoch 21/100\n",
      "3/3 [==============================] - 0s 14ms/step - loss: 7.6934 - val_loss: 5.6357\n",
      "Epoch 22/100\n",
      "3/3 [==============================] - 0s 17ms/step - loss: 6.5768 - val_loss: 5.1588\n",
      "Epoch 23/100\n",
      "3/3 [==============================] - 0s 22ms/step - loss: 6.1212 - val_loss: 4.7843\n",
      "Epoch 24/100\n",
      "3/3 [==============================] - 0s 17ms/step - loss: 5.8527 - val_loss: 4.9185\n",
      "Epoch 25/100\n",
      "3/3 [==============================] - 0s 21ms/step - loss: 5.8013 - val_loss: 4.5366\n",
      "Epoch 26/100\n",
      "3/3 [==============================] - 0s 18ms/step - loss: 5.1779 - val_loss: 4.3978\n",
      "Epoch 27/100\n",
      "3/3 [==============================] - 0s 17ms/step - loss: 5.2081 - val_loss: 4.7310\n",
      "Epoch 28/100\n",
      "3/3 [==============================] - 0s 22ms/step - loss: 4.6458 - val_loss: 4.9961\n",
      "Epoch 29/100\n",
      "3/3 [==============================] - 0s 18ms/step - loss: 4.8358 - val_loss: 6.0319\n",
      "Epoch 30/100\n",
      "3/3 [==============================] - 0s 17ms/step - loss: 7.0335 - val_loss: 4.5497\n",
      "Epoch 31/100\n",
      "3/3 [==============================] - 0s 17ms/step - loss: 5.4840 - val_loss: 4.6585\n",
      "Epoch 32/100\n",
      "3/3 [==============================] - 0s 22ms/step - loss: 5.5212 - val_loss: 4.5588\n",
      "Epoch 33/100\n",
      "3/3 [==============================] - 0s 18ms/step - loss: 4.4591 - val_loss: 5.1550\n",
      "Epoch 34/100\n",
      "3/3 [==============================] - 0s 17ms/step - loss: 4.2526 - val_loss: 3.8112\n",
      "Epoch 35/100\n",
      "3/3 [==============================] - 0s 18ms/step - loss: 3.9338 - val_loss: 3.7180\n",
      "Epoch 36/100\n",
      "3/3 [==============================] - 0s 19ms/step - loss: 4.1323 - val_loss: 4.0526\n",
      "Epoch 37/100\n",
      "3/3 [==============================] - 0s 21ms/step - loss: 4.1474 - val_loss: 4.7201\n",
      "Epoch 38/100\n",
      "3/3 [==============================] - 0s 21ms/step - loss: 4.3182 - val_loss: 4.1003\n",
      "Epoch 39/100\n",
      "3/3 [==============================] - 0s 17ms/step - loss: 5.8957 - val_loss: 3.1912\n",
      "Epoch 40/100\n",
      "3/3 [==============================] - 0s 17ms/step - loss: 4.8570 - val_loss: 4.3062\n",
      "Epoch 41/100\n",
      "3/3 [==============================] - 0s 19ms/step - loss: 4.4558 - val_loss: 4.0431\n",
      "Epoch 42/100\n",
      "3/3 [==============================] - 0s 22ms/step - loss: 4.1440 - val_loss: 4.0365\n",
      "Epoch 43/100\n",
      "3/3 [==============================] - 0s 18ms/step - loss: 4.4514 - val_loss: 3.5076\n",
      "Epoch 44/100\n",
      "3/3 [==============================] - 0s 18ms/step - loss: 3.4756 - val_loss: 4.4698\n",
      "Epoch 45/100\n",
      "3/3 [==============================] - 0s 24ms/step - loss: 4.6666 - val_loss: 2.9277\n",
      "Epoch 46/100\n",
      "3/3 [==============================] - 0s 15ms/step - loss: 4.7790 - val_loss: 2.8478\n",
      "Epoch 47/100\n",
      "3/3 [==============================] - 0s 19ms/step - loss: 4.0713 - val_loss: 4.0396\n",
      "Epoch 48/100\n",
      "3/3 [==============================] - 0s 18ms/step - loss: 4.2716 - val_loss: 3.9434\n",
      "Epoch 49/100\n",
      "3/3 [==============================] - 0s 18ms/step - loss: 4.0061 - val_loss: 4.0696\n",
      "Epoch 50/100\n",
      "3/3 [==============================] - 0s 18ms/step - loss: 3.8411 - val_loss: 2.8323\n",
      "Epoch 51/100\n",
      "3/3 [==============================] - 0s 22ms/step - loss: 3.7135 - val_loss: 2.2739\n",
      "Epoch 52/100\n",
      "3/3 [==============================] - 0s 21ms/step - loss: 2.6394 - val_loss: 2.3797\n",
      "Epoch 53/100\n",
      "3/3 [==============================] - 0s 20ms/step - loss: 3.2280 - val_loss: 2.8114\n",
      "Epoch 54/100\n",
      "3/3 [==============================] - 0s 17ms/step - loss: 3.4089 - val_loss: 2.4497\n",
      "Epoch 55/100\n",
      "3/3 [==============================] - 0s 19ms/step - loss: 3.0754 - val_loss: 2.3959\n",
      "Epoch 56/100\n",
      "3/3 [==============================] - 0s 22ms/step - loss: 3.0017 - val_loss: 2.2956\n",
      "Epoch 57/100\n",
      "3/3 [==============================] - 0s 18ms/step - loss: 3.1775 - val_loss: 2.4312\n",
      "Epoch 58/100\n",
      "3/3 [==============================] - 0s 18ms/step - loss: 3.0739 - val_loss: 3.0212\n",
      "Epoch 59/100\n",
      "3/3 [==============================] - 0s 19ms/step - loss: 3.0316 - val_loss: 3.1543\n",
      "Epoch 60/100\n",
      "3/3 [==============================] - 0s 19ms/step - loss: 2.8957 - val_loss: 2.8440\n",
      "Epoch 61/100\n",
      "3/3 [==============================] - 0s 23ms/step - loss: 3.0412 - val_loss: 3.0198\n",
      "Epoch 62/100\n",
      "3/3 [==============================] - 0s 19ms/step - loss: 3.1572 - val_loss: 3.1283\n",
      "Epoch 63/100\n",
      "3/3 [==============================] - 0s 18ms/step - loss: 3.1291 - val_loss: 3.8543\n",
      "Epoch 64/100\n",
      "3/3 [==============================] - 0s 17ms/step - loss: 3.4513 - val_loss: 3.1799\n",
      "Epoch 65/100\n",
      "3/3 [==============================] - 0s 19ms/step - loss: 3.2364 - val_loss: 2.7530\n",
      "Epoch 66/100\n",
      "3/3 [==============================] - 0s 21ms/step - loss: 2.9165 - val_loss: 2.4897\n",
      "Epoch 67/100\n",
      "3/3 [==============================] - 0s 17ms/step - loss: 3.0161 - val_loss: 2.2707\n",
      "Epoch 68/100\n",
      "3/3 [==============================] - 0s 17ms/step - loss: 2.6127 - val_loss: 2.2869\n",
      "Epoch 69/100\n",
      "3/3 [==============================] - 0s 22ms/step - loss: 2.9957 - val_loss: 2.2417\n",
      "Epoch 70/100\n",
      "3/3 [==============================] - 0s 20ms/step - loss: 2.7093 - val_loss: 2.6403\n",
      "Epoch 71/100\n",
      "3/3 [==============================] - 0s 18ms/step - loss: 2.6767 - val_loss: 2.4520\n",
      "Epoch 72/100\n",
      "3/3 [==============================] - 0s 18ms/step - loss: 2.9623 - val_loss: 2.3457\n",
      "Epoch 73/100\n",
      "3/3 [==============================] - 0s 17ms/step - loss: 2.7084 - val_loss: 2.7308\n",
      "Epoch 74/100\n",
      "3/3 [==============================] - 0s 18ms/step - loss: 3.1574 - val_loss: 2.6864\n",
      "Epoch 75/100\n",
      "3/3 [==============================] - 0s 23ms/step - loss: 2.7413 - val_loss: 2.6195\n",
      "Epoch 76/100\n",
      "3/3 [==============================] - 0s 19ms/step - loss: 2.9603 - val_loss: 2.3381\n",
      "Epoch 77/100\n",
      "3/3 [==============================] - 0s 18ms/step - loss: 3.0943 - val_loss: 3.1597\n",
      "Epoch 78/100\n",
      "3/3 [==============================] - 0s 20ms/step - loss: 3.0065 - val_loss: 2.7105\n",
      "Epoch 79/100\n",
      "3/3 [==============================] - 0s 19ms/step - loss: 3.0358 - val_loss: 2.5959\n",
      "Epoch 80/100\n"
     ]
    },
    {
     "name": "stdout",
     "output_type": "stream",
     "text": [
      "3/3 [==============================] - 0s 17ms/step - loss: 3.1182 - val_loss: 2.7767\n",
      "Epoch 81/100\n",
      "3/3 [==============================] - 0s 17ms/step - loss: 2.7759 - val_loss: 2.3311\n",
      "Epoch 82/100\n",
      "3/3 [==============================] - 0s 20ms/step - loss: 2.6704 - val_loss: 2.5717\n",
      "Epoch 83/100\n",
      "3/3 [==============================] - 0s 18ms/step - loss: 2.7326 - val_loss: 2.4215\n",
      "Epoch 84/100\n",
      "3/3 [==============================] - 0s 19ms/step - loss: 2.6380 - val_loss: 2.1838\n",
      "Epoch 85/100\n",
      "3/3 [==============================] - 0s 17ms/step - loss: 2.5705 - val_loss: 2.2255\n",
      "Epoch 86/100\n",
      "3/3 [==============================] - 0s 17ms/step - loss: 2.5864 - val_loss: 2.2834\n",
      "Epoch 87/100\n",
      "3/3 [==============================] - 0s 19ms/step - loss: 2.9818 - val_loss: 2.2441\n",
      "Epoch 88/100\n",
      "3/3 [==============================] - 0s 17ms/step - loss: 2.7125 - val_loss: 2.5317\n",
      "Epoch 89/100\n",
      "3/3 [==============================] - 0s 17ms/step - loss: 2.6372 - val_loss: 2.3975\n",
      "Epoch 90/100\n",
      "3/3 [==============================] - 0s 19ms/step - loss: 2.7779 - val_loss: 2.3834\n",
      "Epoch 91/100\n",
      "3/3 [==============================] - 0s 21ms/step - loss: 2.8380 - val_loss: 2.4626\n",
      "Epoch 92/100\n",
      "3/3 [==============================] - 0s 20ms/step - loss: 2.6577 - val_loss: 2.6288\n",
      "Epoch 93/100\n",
      "3/3 [==============================] - 0s 20ms/step - loss: 2.5768 - val_loss: 2.6267\n",
      "Epoch 94/100\n",
      "3/3 [==============================] - 0s 17ms/step - loss: 2.6969 - val_loss: 2.5272\n",
      "Epoch 95/100\n",
      "3/3 [==============================] - 0s 19ms/step - loss: 2.7467 - val_loss: 2.5243\n",
      "Epoch 96/100\n",
      "3/3 [==============================] - 0s 23ms/step - loss: 3.0843 - val_loss: 2.3100\n",
      "Epoch 97/100\n",
      "3/3 [==============================] - 0s 15ms/step - loss: 2.8877 - val_loss: 3.4012\n",
      "Epoch 98/100\n",
      "3/3 [==============================] - 0s 22ms/step - loss: 2.7345 - val_loss: 2.3136\n",
      "Epoch 99/100\n",
      "3/3 [==============================] - 0s 18ms/step - loss: 2.7985 - val_loss: 2.5688\n",
      "Epoch 100/100\n",
      "3/3 [==============================] - 0s 18ms/step - loss: 2.7386 - val_loss: 2.7661\n"
     ]
    }
   ],
   "source": [
    "history = model_biased.fit([X_train, sid_train], y_train, epochs=100,\n",
    "                    validation_data=([X_valid, sid_valid], y_valid))"
   ]
  },
  {
   "cell_type": "code",
   "execution_count": 79,
   "id": "ca149f05",
   "metadata": {},
   "outputs": [
    {
     "name": "stdout",
     "output_type": "stream",
     "text": [
      "Saving figure grid_noBiaseNum_training_curve\n"
     ]
    },
    {
     "data": {
      "image/png": "[encoded data removed]",
      "text/plain": [
       "<Figure size 576x360 with 1 Axes>"
      ]
     },
     "metadata": {
      "needs_background": "light"
     },
     "output_type": "display_data"
    }
   ],
   "source": [
    "import pandas as pd\n",
    "\n",
    "pd.DataFrame(history.history).plot(figsize=(8, 5))\n",
    "plt.grid(True)\n",
    "# plt.gca().set_ylim(0, 1)\n",
    "save_fig(\"grid_noBiaseNum_training_curve\")\n",
    "plt.show()"
   ]
  },
  {
   "cell_type": "markdown",
   "id": "2433c7a5",
   "metadata": {},
   "source": [
    "The pure prediction"
   ]
  },
  {
   "cell_type": "code",
   "execution_count": 80,
   "id": "556ee2c4",
   "metadata": {},
   "outputs": [
    {
     "name": "stdout",
     "output_type": "stream",
     "text": [
      "X.shape = (None, 1)\n",
      "gauss_grid.shape = (None, 5)\n",
      "Saving figure grid_noBaisNum_prediction\n"
     ]
    },
    {
     "data": {
      "image/png": "[encoded data removed]",
      "text/plain": [
       "<Figure size 432x288 with 1 Axes>"
      ]
     },
     "metadata": {
      "needs_background": "light"
     },
     "output_type": "display_data"
    }
   ],
   "source": [
    "draw_points(X_train, y_train, sid_train)\n",
    "draw_func(model.predict, mark='r-', linewidth=2, label=\"Predictions\")\n",
    "draw_normal_func(func_dict)\n",
    "plt.xlabel(\"$x_1$\", fontsize=18)\n",
    "plt.ylabel(\"$y$\", rotation=0, fontsize=18)\n",
    "plt.legend(loc=\"upper left\", fontsize=14)\n",
    "# plt.axis([-3, 3, 0, 10])\n",
    "save_fig(\"grid_noBaisNum_prediction\")\n",
    "plt.show()"
   ]
  },
  {
   "cell_type": "code",
   "execution_count": 81,
   "id": "4d3d77cd",
   "metadata": {},
   "outputs": [
    {
     "name": "stdout",
     "output_type": "stream",
     "text": [
      "y_func.shape = (100, 1)\n",
      "y_gt.shape = (100, 1)\n"
     ]
    },
    {
     "data": {
      "text/plain": [
       "1.5177093421280847"
      ]
     },
     "execution_count": 81,
     "metadata": {},
     "output_type": "execute_result"
    }
   ],
   "source": [
    "get_prediction_error(model.predict, func_dict, name=\"grid-noBiasNum\")"
   ]
  },
  {
   "cell_type": "markdown",
   "id": "b89b2413",
   "metadata": {},
   "source": [
    "### Biased Prediction (according to SID)"
   ]
  },
  {
   "cell_type": "code",
   "execution_count": 82,
   "id": "0893f75e",
   "metadata": {},
   "outputs": [
    {
     "name": "stdout",
     "output_type": "stream",
     "text": [
      "scaled_bias = \n",
      "[[-12.011319]\n",
      " [ 12.071553]]\n",
      "\n",
      "mean_scaled_bias = \n",
      "[0.06023407]\n"
     ]
    }
   ],
   "source": [
    "scaled_bias = model_biased.get_layer(\"bias_est\").get_scaled_biases_np()\n",
    "mean_scaled_bias = np.sum(scaled_bias, axis=0)\n",
    "#\n",
    "print(\"scaled_bias = \\n%s\" % str(scaled_bias))\n",
    "print(\"\\nmean_scaled_bias = \\n%s\" % str(mean_scaled_bias))"
   ]
  },
  {
   "cell_type": "code",
   "execution_count": 83,
   "id": "c37898f3",
   "metadata": {},
   "outputs": [
    {
     "name": "stdout",
     "output_type": "stream",
     "text": [
      "output_scales = \n",
      "[[1.1142297]\n",
      " [0.845649 ]]\n",
      "\n",
      "mean_scales = \n",
      "[0.97993934]\n"
     ]
    }
   ],
   "source": [
    "try:\n",
    "    output_scales = model_biased.get_layer(\"bias_est\").get_weights_np()\n",
    "    mean_scales = np.mean(output_scales, axis=0)\n",
    "    #\n",
    "    print(\"output_scales = \\n%s\" % str(output_scales))\n",
    "    print(\"\\nmean_scales = \\n%s\" % str(mean_scales))\n",
    "except:\n",
    "    pass"
   ]
  },
  {
   "cell_type": "code",
   "execution_count": 84,
   "id": "16460e63",
   "metadata": {},
   "outputs": [
    {
     "name": "stdout",
     "output_type": "stream",
     "text": [
      "X.shape = (None, 1)\n",
      "gauss_grid.shape = (None, 5)\n",
      "X.shape = (None, 1)\n",
      "SID.shape = (None, 1)\n",
      "Saving figure grid_noBaisNum_perSubjectCurve\n"
     ]
    },
    {
     "data": {
      "image/png": "[encoded data removed]",
      "text/plain": [
       "<Figure size 432x288 with 1 Axes>"
      ]
     },
     "metadata": {
      "needs_background": "light"
     },
     "output_type": "display_data"
    }
   ],
   "source": [
    "def predict_with_biase_sid(X, sid=1):\n",
    "    return model_biased.predict([X, tf.fill( (X.shape[0],1), sid)])\n",
    "\n",
    "draw_points(X_train, y_train, sid_train)\n",
    "#\n",
    "draw_func(model.predict, mark='r-', linewidth=2, label=\"Predictions\")\n",
    "for _idx in range(num_subject):\n",
    "    _sid = _idx + 1\n",
    "    draw_func(lambda X: predict_with_biase_sid(X, _sid), mark='k--', linewidth=1, label=(\"sid=%d\" % _sid))\n",
    "#\n",
    "draw_normal_func(func_dict)\n",
    "plt.xlabel(\"$x_1$\", fontsize=18)\n",
    "plt.ylabel(\"$y$\", rotation=0, fontsize=18)\n",
    "plt.legend(loc=\"upper left\", fontsize=14)\n",
    "# plt.axis([-3, 3, 0, 10])\n",
    "save_fig(\"grid_noBaisNum_perSubjectCurve\")\n",
    "plt.show()"
   ]
  },
  {
   "cell_type": "code",
   "execution_count": null,
   "id": "470bc958",
   "metadata": {},
   "outputs": [],
   "source": []
  },
  {
   "cell_type": "markdown",
   "id": "210c9ea1",
   "metadata": {},
   "source": [
    "# Combine Multi-Quantile Redgression with Per-Subject Transform Estimation (grid --> multi-quantile)"
   ]
  },
  {
   "cell_type": "code",
   "execution_count": 85,
   "id": "76f78f75",
   "metadata": {},
   "outputs": [],
   "source": [
    "# quantile_list = [0.5]\n",
    "# quantile_list = [0.9]\n",
    "# quantile_list = [0.1, 0.9] # Use hidden layer with 30 neurons\n",
    "# quantile_list = [0.05, 0.95]\n",
    "# quantile_list = [0.25, 0.75]\n",
    "# quantile_list = [0.1, 0.5, 0.9]\n",
    "# quantile_list = [0.1, 0.3, 0.7, 0.9]\n",
    "# quantile_list = [0.1, 0.2, 0.3, 0.4, 0.6, 0.7, 0.8, 0.9] # remove 0.5\n",
    "quantile_list = [0.1, 0.2, 0.3, 0.4, 0.5, 0.6, 0.7, 0.8, 0.9] # Should use wider hidden layer (with many neurons) + L1 regularization\n",
    "num_quantile = len(quantile_list)"
   ]
  },
  {
   "cell_type": "code",
   "execution_count": 86,
   "id": "e8440941",
   "metadata": {},
   "outputs": [],
   "source": [
    "# Number of subjects\n",
    "num_subject = multiout_type"
   ]
  },
  {
   "cell_type": "code",
   "execution_count": 87,
   "id": "145617d1",
   "metadata": {},
   "outputs": [
    {
     "name": "stdout",
     "output_type": "stream",
     "text": [
      "X.shape = (None, 1)\n",
      "gauss_grid.shape = (None, 5)\n",
      "X.shape = (None, 9)\n",
      "SID.shape = (None, 1)\n"
     ]
    }
   ],
   "source": [
    "inputs = keras.layers.Input(shape=X_train.shape[1:])\n",
    "inputs_sid = keras.layers.Input(shape=(1,), dtype=tf.int32)\n",
    "#\n",
    "z = num2grid(5,x_min=-10, x_max=10, sigma=3.0)(inputs)\n",
    "z = keras.layers.Dense(30, activation=\"relu\")(z)\n",
    "output = keras.layers.Dense(num_quantile)(z)\n",
    "# output_biased = SubjectBias(num_subject, bias_scale=10.0, mean_reg_rate=1.0, name=\"bias_est\")([output, inputs_sid])\n",
    "output_biased = SubjectLinearTransform1D(num_subject, bias_scale=10.0, weight_mean_reg_rate=5.0, bias_mean_reg_rate=1.0, name=\"bias_est\")([output, inputs_sid])\n",
    "# Setup models\n",
    "model = keras.Model(inputs=[inputs], outputs=[output]) # pure\n",
    "model_biased = keras.Model(inputs=[inputs, inputs_sid], outputs=[output_biased]) # biased, for training"
   ]
  },
  {
   "cell_type": "code",
   "execution_count": 88,
   "id": "cb6b015e",
   "metadata": {},
   "outputs": [
    {
     "name": "stderr",
     "output_type": "stream",
     "text": [
      "C:\\Users\\benso\\anaconda3\\envs\\ml\\lib\\site-packages\\keras\\optimizer_v2\\adam.py:105: UserWarning: The `lr` argument is deprecated, use `learning_rate` instead.\n",
      "  super(Adam, self).__init__(name, **kwargs)\n"
     ]
    }
   ],
   "source": [
    "# optimizer = keras.optimizers.SGD(lr=0.1, momentum=0.9)\n",
    "optimizer = keras.optimizers.Adam(lr=0.1)\n",
    "model_biased.compile(loss=pinballLoss_full_fn, optimizer=optimizer)\n",
    "# model.compile(loss=pinballLoss_full_fn, optimizer=optimizer) # No need to compile this if it's not going to be trained."
   ]
  },
  {
   "cell_type": "code",
   "execution_count": 89,
   "id": "66f35721",
   "metadata": {
    "scrolled": true
   },
   "outputs": [
    {
     "name": "stdout",
     "output_type": "stream",
     "text": [
      "Epoch 1/100\n",
      "X.shape = (None, 1)\n",
      "gauss_grid.shape = (None, 5)\n",
      "X.shape = (None, 9)\n",
      "SID.shape = (None, 1)\n",
      "X.shape = (None, 1)\n",
      "gauss_grid.shape = (None, 5)\n",
      "X.shape = (None, 9)\n",
      "SID.shape = (None, 1)\n",
      "1/3 [=========>....................] - ETA: 2s - loss: 212.1534X.shape = (None, 1)\n",
      "gauss_grid.shape = (None, 5)\n",
      "X.shape = (None, 9)\n",
      "SID.shape = (None, 1)\n",
      "3/3 [==============================] - 2s 145ms/step - loss: 188.2194 - val_loss: 146.7813\n",
      "Epoch 2/100\n",
      "3/3 [==============================] - 0s 27ms/step - loss: 175.1056 - val_loss: 128.8722\n",
      "Epoch 3/100\n",
      "3/3 [==============================] - 0s 28ms/step - loss: 150.7102 - val_loss: 106.3400\n",
      "Epoch 4/100\n",
      "3/3 [==============================] - 0s 34ms/step - loss: 119.0087 - val_loss: 78.9170\n",
      "Epoch 5/100\n",
      "3/3 [==============================] - ETA: 0s - loss: 117.953 - 0s 35ms/step - loss: 91.0661 - val_loss: 59.8714\n",
      "Epoch 6/100\n",
      "3/3 [==============================] - 0s 38ms/step - loss: 70.8333 - val_loss: 53.3275\n",
      "Epoch 7/100\n",
      "3/3 [==============================] - 0s 25ms/step - loss: 61.4566 - val_loss: 43.1184\n",
      "Epoch 8/100\n",
      "3/3 [==============================] - 0s 24ms/step - loss: 53.5196 - val_loss: 36.7651\n",
      "Epoch 9/100\n",
      "3/3 [==============================] - 0s 20ms/step - loss: 50.2056 - val_loss: 37.2364\n",
      "Epoch 10/100\n",
      "3/3 [==============================] - 0s 20ms/step - loss: 47.4020 - val_loss: 32.2825\n",
      "Epoch 11/100\n",
      "3/3 [==============================] - 0s 20ms/step - loss: 43.5658 - val_loss: 31.1817\n",
      "Epoch 12/100\n",
      "3/3 [==============================] - 0s 21ms/step - loss: 40.2908 - val_loss: 29.3802\n",
      "Epoch 13/100\n",
      "3/3 [==============================] - 0s 21ms/step - loss: 36.8507 - val_loss: 24.2983\n",
      "Epoch 14/100\n",
      "3/3 [==============================] - 0s 23ms/step - loss: 36.3004 - val_loss: 26.1894\n",
      "Epoch 15/100\n",
      "3/3 [==============================] - 0s 24ms/step - loss: 35.0057 - val_loss: 24.8604\n",
      "Epoch 16/100\n",
      "3/3 [==============================] - 0s 21ms/step - loss: 33.2376 - val_loss: 24.2029\n",
      "Epoch 17/100\n",
      "3/3 [==============================] - 0s 26ms/step - loss: 30.1255 - val_loss: 27.0753\n",
      "Epoch 18/100\n",
      "3/3 [==============================] - 0s 21ms/step - loss: 29.5751 - val_loss: 21.8159\n",
      "Epoch 19/100\n",
      "3/3 [==============================] - 0s 22ms/step - loss: 28.9538 - val_loss: 20.7823\n",
      "Epoch 20/100\n",
      "3/3 [==============================] - 0s 24ms/step - loss: 27.0383 - val_loss: 23.6490\n",
      "Epoch 21/100\n",
      "3/3 [==============================] - 0s 21ms/step - loss: 25.5776 - val_loss: 21.5593\n",
      "Epoch 22/100\n",
      "3/3 [==============================] - 0s 26ms/step - loss: 24.5985 - val_loss: 19.5629\n",
      "Epoch 23/100\n",
      "3/3 [==============================] - 0s 23ms/step - loss: 22.7213 - val_loss: 18.9429\n",
      "Epoch 24/100\n",
      "3/3 [==============================] - 0s 23ms/step - loss: 21.2432 - val_loss: 19.4941\n",
      "Epoch 25/100\n",
      "3/3 [==============================] - 0s 24ms/step - loss: 20.1839 - val_loss: 17.0320\n",
      "Epoch 26/100\n",
      "3/3 [==============================] - 0s 21ms/step - loss: 19.7153 - val_loss: 16.2785\n",
      "Epoch 27/100\n",
      "3/3 [==============================] - 0s 26ms/step - loss: 18.4655 - val_loss: 18.9975\n",
      "Epoch 28/100\n",
      "3/3 [==============================] - 0s 24ms/step - loss: 17.6634 - val_loss: 16.9409\n",
      "Epoch 29/100\n",
      "3/3 [==============================] - 0s 21ms/step - loss: 16.3954 - val_loss: 15.1794\n",
      "Epoch 30/100\n",
      "3/3 [==============================] - 0s 23ms/step - loss: 16.0316 - val_loss: 18.6062\n",
      "Epoch 31/100\n",
      "3/3 [==============================] - 0s 24ms/step - loss: 16.4002 - val_loss: 15.1371\n",
      "Epoch 32/100\n",
      "3/3 [==============================] - 0s 20ms/step - loss: 14.5295 - val_loss: 13.5571\n",
      "Epoch 33/100\n",
      "3/3 [==============================] - 0s 22ms/step - loss: 13.3247 - val_loss: 13.8837\n",
      "Epoch 34/100\n",
      "3/3 [==============================] - 0s 23ms/step - loss: 14.3111 - val_loss: 13.0009\n",
      "Epoch 35/100\n",
      "3/3 [==============================] - 0s 24ms/step - loss: 12.8086 - val_loss: 13.6027\n",
      "Epoch 36/100\n",
      "3/3 [==============================] - 0s 23ms/step - loss: 12.1788 - val_loss: 11.9523\n",
      "Epoch 37/100\n",
      "3/3 [==============================] - 0s 23ms/step - loss: 11.8413 - val_loss: 11.2735\n",
      "Epoch 38/100\n",
      "3/3 [==============================] - 0s 23ms/step - loss: 11.4484 - val_loss: 11.6851\n",
      "Epoch 39/100\n",
      "3/3 [==============================] - 0s 20ms/step - loss: 11.1613 - val_loss: 10.0198\n",
      "Epoch 40/100\n",
      "3/3 [==============================] - 0s 26ms/step - loss: 10.7865 - val_loss: 10.2626\n",
      "Epoch 41/100\n",
      "3/3 [==============================] - 0s 22ms/step - loss: 10.6863 - val_loss: 10.0631\n",
      "Epoch 42/100\n",
      "3/3 [==============================] - 0s 21ms/step - loss: 10.6684 - val_loss: 10.2446\n",
      "Epoch 43/100\n",
      "3/3 [==============================] - 0s 21ms/step - loss: 11.4084 - val_loss: 9.5792\n",
      "Epoch 44/100\n",
      "3/3 [==============================] - 0s 23ms/step - loss: 10.9123 - val_loss: 10.7188\n",
      "Epoch 45/100\n",
      "3/3 [==============================] - 0s 23ms/step - loss: 11.5038 - val_loss: 11.2857\n",
      "Epoch 46/100\n",
      "3/3 [==============================] - 0s 25ms/step - loss: 11.2880 - val_loss: 10.5355\n",
      "Epoch 47/100\n",
      "3/3 [==============================] - 0s 24ms/step - loss: 11.2707 - val_loss: 9.7427\n",
      "Epoch 48/100\n",
      "3/3 [==============================] - 0s 24ms/step - loss: 11.6097 - val_loss: 14.6161\n",
      "Epoch 49/100\n",
      "3/3 [==============================] - 0s 26ms/step - loss: 13.3730 - val_loss: 10.2185\n",
      "Epoch 50/100\n",
      "3/3 [==============================] - 0s 22ms/step - loss: 12.0520 - val_loss: 9.6621\n",
      "Epoch 51/100\n",
      "3/3 [==============================] - 0s 25ms/step - loss: 11.1731 - val_loss: 11.4314\n",
      "Epoch 52/100\n",
      "3/3 [==============================] - 0s 26ms/step - loss: 11.8384 - val_loss: 9.6575\n",
      "Epoch 53/100\n",
      "3/3 [==============================] - 0s 26ms/step - loss: 11.4186 - val_loss: 8.6632\n",
      "Epoch 54/100\n",
      "3/3 [==============================] - 0s 27ms/step - loss: 11.6227 - val_loss: 11.0181\n",
      "Epoch 55/100\n",
      "3/3 [==============================] - 0s 25ms/step - loss: 11.8150 - val_loss: 10.4994\n",
      "Epoch 56/100\n",
      "3/3 [==============================] - 0s 28ms/step - loss: 11.3676 - val_loss: 11.7320\n",
      "Epoch 57/100\n",
      "3/3 [==============================] - 0s 33ms/step - loss: 11.5970 - val_loss: 10.3859\n",
      "Epoch 58/100\n",
      "3/3 [==============================] - 0s 23ms/step - loss: 10.7703 - val_loss: 11.9026\n",
      "Epoch 59/100\n",
      "3/3 [==============================] - 0s 24ms/step - loss: 10.6471 - val_loss: 13.4639\n",
      "Epoch 60/100\n",
      "3/3 [==============================] - 0s 22ms/step - loss: 12.4396 - val_loss: 10.0641\n",
      "Epoch 61/100\n",
      "3/3 [==============================] - 0s 24ms/step - loss: 10.6059 - val_loss: 9.2489\n",
      "Epoch 62/100\n",
      "3/3 [==============================] - 0s 24ms/step - loss: 9.8785 - val_loss: 9.0798\n",
      "Epoch 63/100\n",
      "3/3 [==============================] - 0s 25ms/step - loss: 9.7008 - val_loss: 9.6973\n",
      "Epoch 64/100\n",
      "3/3 [==============================] - 0s 28ms/step - loss: 10.7325 - val_loss: 9.9611\n",
      "Epoch 65/100\n",
      "3/3 [==============================] - 0s 24ms/step - loss: 10.6921 - val_loss: 12.6988\n",
      "Epoch 66/100\n",
      "3/3 [==============================] - 0s 28ms/step - loss: 12.1781 - val_loss: 10.1896\n",
      "Epoch 67/100\n",
      "3/3 [==============================] - 0s 29ms/step - loss: 11.0874 - val_loss: 8.7988\n",
      "Epoch 68/100\n",
      "3/3 [==============================] - 0s 28ms/step - loss: 9.6402 - val_loss: 9.6191\n",
      "Epoch 69/100\n",
      "3/3 [==============================] - 0s 26ms/step - loss: 10.5404 - val_loss: 9.4948\n",
      "Epoch 70/100\n",
      "3/3 [==============================] - 0s 29ms/step - loss: 10.3444 - val_loss: 9.6819\n",
      "Epoch 71/100\n",
      "3/3 [==============================] - 0s 21ms/step - loss: 10.0969 - val_loss: 10.5589\n",
      "Epoch 72/100\n",
      "3/3 [==============================] - 0s 21ms/step - loss: 10.9938 - val_loss: 10.0836\n",
      "Epoch 73/100\n",
      "3/3 [==============================] - 0s 26ms/step - loss: 10.6240 - val_loss: 9.5734\n",
      "Epoch 74/100\n",
      "3/3 [==============================] - 0s 28ms/step - loss: 10.1833 - val_loss: 9.7761\n",
      "Epoch 75/100\n",
      "3/3 [==============================] - 0s 29ms/step - loss: 10.9614 - val_loss: 9.1678\n",
      "Epoch 76/100\n",
      "3/3 [==============================] - 0s 22ms/step - loss: 10.5088 - val_loss: 9.5096\n",
      "Epoch 77/100\n",
      "3/3 [==============================] - 0s 21ms/step - loss: 10.7638 - val_loss: 9.4663\n",
      "Epoch 78/100\n",
      "3/3 [==============================] - 0s 20ms/step - loss: 10.2689 - val_loss: 9.5906\n"
     ]
    },
    {
     "name": "stdout",
     "output_type": "stream",
     "text": [
      "Epoch 79/100\n",
      "3/3 [==============================] - 0s 24ms/step - loss: 10.2400 - val_loss: 10.1560\n",
      "Epoch 80/100\n",
      "3/3 [==============================] - 0s 23ms/step - loss: 10.2054 - val_loss: 9.8979\n",
      "Epoch 81/100\n",
      "3/3 [==============================] - 0s 22ms/step - loss: 10.6620 - val_loss: 8.7012\n",
      "Epoch 82/100\n",
      "3/3 [==============================] - 0s 23ms/step - loss: 10.1387 - val_loss: 9.5707\n",
      "Epoch 83/100\n",
      "3/3 [==============================] - 0s 21ms/step - loss: 10.8190 - val_loss: 9.4981\n",
      "Epoch 84/100\n",
      "3/3 [==============================] - 0s 21ms/step - loss: 9.9136 - val_loss: 8.9563\n",
      "Epoch 85/100\n",
      "3/3 [==============================] - 0s 21ms/step - loss: 10.0062 - val_loss: 9.3596\n",
      "Epoch 86/100\n",
      "3/3 [==============================] - 0s 20ms/step - loss: 10.3384 - val_loss: 9.5042\n",
      "Epoch 87/100\n",
      "3/3 [==============================] - 0s 22ms/step - loss: 10.3463 - val_loss: 10.1238\n",
      "Epoch 88/100\n",
      "3/3 [==============================] - 0s 24ms/step - loss: 10.0117 - val_loss: 9.5864\n",
      "Epoch 89/100\n",
      "3/3 [==============================] - 0s 21ms/step - loss: 9.7713 - val_loss: 9.4027\n",
      "Epoch 90/100\n",
      "3/3 [==============================] - 0s 21ms/step - loss: 9.8309 - val_loss: 10.9775\n",
      "Epoch 91/100\n",
      "3/3 [==============================] - 0s 29ms/step - loss: 11.3761 - val_loss: 10.9882\n",
      "Epoch 92/100\n",
      "3/3 [==============================] - 0s 25ms/step - loss: 11.1046 - val_loss: 10.3530\n",
      "Epoch 93/100\n",
      "3/3 [==============================] - 0s 24ms/step - loss: 10.4602 - val_loss: 10.1522\n",
      "Epoch 94/100\n",
      "3/3 [==============================] - 0s 21ms/step - loss: 11.2136 - val_loss: 9.4764\n",
      "Epoch 95/100\n",
      "3/3 [==============================] - 0s 23ms/step - loss: 10.3247 - val_loss: 8.6339\n",
      "Epoch 96/100\n",
      "3/3 [==============================] - 0s 25ms/step - loss: 9.7686 - val_loss: 10.0262\n",
      "Epoch 97/100\n",
      "3/3 [==============================] - 0s 23ms/step - loss: 10.0505 - val_loss: 9.2724\n",
      "Epoch 98/100\n",
      "3/3 [==============================] - 0s 23ms/step - loss: 9.9971 - val_loss: 8.9908\n",
      "Epoch 99/100\n",
      "3/3 [==============================] - 0s 23ms/step - loss: 9.5852 - val_loss: 8.3581\n",
      "Epoch 100/100\n",
      "3/3 [==============================] - 0s 23ms/step - loss: 9.3298 - val_loss: 9.0253\n"
     ]
    }
   ],
   "source": [
    "history = model_biased.fit([X_train, sid_train], y_train, epochs=100,\n",
    "                    validation_data=([X_valid, sid_valid], y_valid))"
   ]
  },
  {
   "cell_type": "code",
   "execution_count": 90,
   "id": "75563f4f",
   "metadata": {},
   "outputs": [
    {
     "name": "stdout",
     "output_type": "stream",
     "text": [
      "Saving figure grid_NoBiasQuantile_training_curve\n"
     ]
    },
    {
     "data": {
      "image/png": "[encoded data removed]",
      "text/plain": [
       "<Figure size 576x360 with 1 Axes>"
      ]
     },
     "metadata": {
      "needs_background": "light"
     },
     "output_type": "display_data"
    }
   ],
   "source": [
    "import pandas as pd\n",
    "\n",
    "pd.DataFrame(history.history).plot(figsize=(8, 5))\n",
    "plt.grid(True)\n",
    "# plt.gca().set_ylim(0, 1)\n",
    "save_fig(\"grid_NoBiasQuantile_training_curve\")\n",
    "plt.show()"
   ]
  },
  {
   "cell_type": "markdown",
   "id": "ac9f7924",
   "metadata": {},
   "source": [
    "### Draw the \"pure\" mean prediction curve averaged from all quantile predictions."
   ]
  },
  {
   "cell_type": "code",
   "execution_count": 91,
   "id": "6ba7f86f",
   "metadata": {},
   "outputs": [
    {
     "name": "stdout",
     "output_type": "stream",
     "text": [
      "X.shape = (None, 1)\n",
      "gauss_grid.shape = (None, 5)\n",
      "Saving figure grid_noBiaseQuantile_prediction\n"
     ]
    },
    {
     "data": {
      "image/png": "[encoded data removed]",
      "text/plain": [
       "<Figure size 432x288 with 1 Axes>"
      ]
     },
     "metadata": {
      "needs_background": "light"
     },
     "output_type": "display_data"
    }
   ],
   "source": [
    "# plt.plot(X_train, y_train, \"b.\")\n",
    "draw_points(X_train, y_train, sid_train)\n",
    "draw_func((lambda X: np.average(model.predict(X), axis=-1) ), mark='r-', linewidth=2, label=\"Predictions\")\n",
    "draw_normal_func(func_dict)\n",
    "plt.xlabel(\"$x_1$\", fontsize=18)\n",
    "plt.ylabel(\"$y$\", rotation=0, fontsize=18)\n",
    "plt.legend(loc=\"upper left\", fontsize=14)\n",
    "# plt.axis([-3, 3, 0, 10])\n",
    "save_fig(\"grid_noBiaseQuantile_prediction\")\n",
    "plt.show()"
   ]
  },
  {
   "cell_type": "code",
   "execution_count": 92,
   "id": "e44af618",
   "metadata": {},
   "outputs": [
    {
     "name": "stdout",
     "output_type": "stream",
     "text": [
      "y_func.shape = (100, 1)\n",
      "y_gt.shape = (100, 1)\n"
     ]
    },
    {
     "data": {
      "text/plain": [
       "0.9345912059409617"
      ]
     },
     "execution_count": 92,
     "metadata": {},
     "output_type": "execute_result"
    }
   ],
   "source": [
    "get_prediction_error((lambda X: np.average(model.predict(X), axis=-1) ), func_dict, name=\"grid-noBiaseQuantileR\")"
   ]
  },
  {
   "cell_type": "markdown",
   "id": "5553af7f",
   "metadata": {},
   "source": [
    "### Draw all \"pure\" quantile prediction"
   ]
  },
  {
   "cell_type": "code",
   "execution_count": 93,
   "id": "48c35672",
   "metadata": {},
   "outputs": [
    {
     "name": "stdout",
     "output_type": "stream",
     "text": [
      "Saving figure grid_quantile_all_quantiles\n"
     ]
    },
    {
     "data": {
      "image/png": "[encoded data removed]",
      "text/plain": [
       "<Figure size 432x288 with 1 Axes>"
      ]
     },
     "metadata": {
      "needs_background": "light"
     },
     "output_type": "display_data"
    }
   ],
   "source": [
    "# plt.plot(X_train, y_train, \"b.\")\n",
    "draw_points(X_train, y_train, sid_train)\n",
    "draw_func((lambda X: np.average(model.predict(X), axis=-1) ), mark='r-', linewidth=2, label=\"Predictions\")\n",
    "for _idx, _tau in enumerate(quantile_list):\n",
    "    draw_func((lambda X: model.predict(X)[:,_idx] ), mark='k--', linewidth=1, label=\"$y_{%d}$\" % (_tau*100))\n",
    "draw_normal_func(func_dict)\n",
    "plt.xlabel(\"$x_1$\", fontsize=18)\n",
    "plt.ylabel(\"$y$\", rotation=0, fontsize=18)\n",
    "plt.legend(loc=\"upper left\", fontsize=14)\n",
    "# plt.axis([-3, 3, 0, 10])\n",
    "save_fig(\"grid_quantile_all_quantiles\")\n",
    "plt.show()"
   ]
  },
  {
   "cell_type": "markdown",
   "id": "65622904",
   "metadata": {},
   "source": [
    "### Estimated Biases and Scales (according to SID)"
   ]
  },
  {
   "cell_type": "code",
   "execution_count": 94,
   "id": "e377b07f",
   "metadata": {},
   "outputs": [
    {
     "name": "stdout",
     "output_type": "stream",
     "text": [
      "scaled_bias = \n",
      "[[-11.447749  -11.918722  -11.731137  -12.037772  -12.338137  -12.1462145\n",
      "  -12.706154  -12.0730915 -12.33118  ]\n",
      " [ 11.338477   11.26519    11.353646   12.186471   12.473074   12.399824\n",
      "   11.988746   12.476036   13.055023 ]]\n",
      "\n",
      "mean_scaled_bias = \n",
      "[-0.109272   -0.653532   -0.377491    0.1486988   0.13493729  0.25360966\n",
      " -0.7174082   0.40294456  0.7238436 ]\n"
     ]
    }
   ],
   "source": [
    "scaled_bias = model_biased.get_layer(\"bias_est\").get_scaled_biases_np()\n",
    "mean_scaled_bias = np.sum(scaled_bias, axis=0)\n",
    "#\n",
    "print(\"scaled_bias = \\n%s\" % str(scaled_bias))\n",
    "print(\"\\nmean_scaled_bias = \\n%s\" % str(mean_scaled_bias))"
   ]
  },
  {
   "cell_type": "code",
   "execution_count": 95,
   "id": "1187ea6d",
   "metadata": {},
   "outputs": [
    {
     "name": "stdout",
     "output_type": "stream",
     "text": [
      "output_scales = \n",
      "[[1.1063344  1.1182983  1.1279267  1.1399359  1.1208696  1.1318392\n",
      "  1.1401393  1.138537   1.1547042 ]\n",
      " [0.8502425  0.86529905 0.8675106  0.86502886 0.85415465 0.8756424\n",
      "  0.8674028  0.8620049  0.8470802 ]]\n",
      "\n",
      "mean_scales = \n",
      "[0.9782885  0.99179864 0.9977187  1.0024824  0.9875121  1.0037408\n",
      " 1.0037711  1.000271   1.0008922 ]\n"
     ]
    }
   ],
   "source": [
    "try:\n",
    "    output_scales = model_biased.get_layer(\"bias_est\").get_weights_np()\n",
    "    mean_scales = np.mean(output_scales, axis=0)\n",
    "    #\n",
    "    print(\"output_scales = \\n%s\" % str(output_scales))\n",
    "    print(\"\\nmean_scales = \\n%s\" % str(mean_scales))\n",
    "except:\n",
    "    pass"
   ]
  },
  {
   "cell_type": "markdown",
   "id": "c91a0259",
   "metadata": {},
   "source": [
    "### Plotting of mean quantiles for each subject"
   ]
  },
  {
   "cell_type": "code",
   "execution_count": 96,
   "id": "975e6a2f",
   "metadata": {},
   "outputs": [
    {
     "name": "stdout",
     "output_type": "stream",
     "text": [
      "X.shape = (None, 1)\n",
      "gauss_grid.shape = (None, 5)\n",
      "X.shape = (None, 9)\n",
      "SID.shape = (None, 1)\n",
      "Saving figure grid_noBaisNum_perSubjectCurve\n"
     ]
    },
    {
     "data": {
      "image/png": "[encoded data removed]",
      "text/plain": [
       "<Figure size 432x288 with 1 Axes>"
      ]
     },
     "metadata": {
      "needs_background": "light"
     },
     "output_type": "display_data"
    }
   ],
   "source": [
    "def predict_with_biase_sid(X, sid=1):\n",
    "    return np.average( model_biased.predict([X, tf.fill( (X.shape[0],1), sid)]), axis=1)\n",
    "\n",
    "draw_points(X_train, y_train, sid_train)\n",
    "#\n",
    "draw_func((lambda X: np.average(model.predict(X), axis=-1) ), mark='r-', linewidth=2, label=\"Predictions\")\n",
    "for _idx in range(num_subject):\n",
    "    _sid = _idx + 1\n",
    "    draw_func(lambda X: predict_with_biase_sid(X, _sid), mark='k--', linewidth=1, label=(\"sid=%d\" % _sid))\n",
    "#\n",
    "draw_normal_func(func_dict)\n",
    "plt.xlabel(\"$x_1$\", fontsize=18)\n",
    "plt.ylabel(\"$y$\", rotation=0, fontsize=18)\n",
    "plt.legend(loc=\"upper left\", fontsize=14)\n",
    "# plt.axis([-3, 3, 0, 10])\n",
    "save_fig(\"grid_noBaisNum_perSubjectCurve\")\n",
    "plt.show()"
   ]
  },
  {
   "cell_type": "code",
   "execution_count": null,
   "id": "cd4c6a4c",
   "metadata": {},
   "outputs": [],
   "source": []
  },
  {
   "cell_type": "code",
   "execution_count": null,
   "id": "9d2eac2e",
   "metadata": {},
   "outputs": [],
   "source": []
  },
  {
   "cell_type": "markdown",
   "id": "82ec4fc4",
   "metadata": {},
   "source": [
    "# Summary"
   ]
  },
  {
   "cell_type": "code",
   "execution_count": 97,
   "id": "2d764d70",
   "metadata": {},
   "outputs": [
    {
     "name": "stdout",
     "output_type": "stream",
     "text": [
      "num-num: 5.978601\n",
      "grid-num: 3.110648\n",
      "grid-rbc: 4.257822\n",
      "grid-quantileR: 2.229125\n",
      "grid-oneGaussian: 5.355597\n",
      "grid-noBiasNum: 1.517709\n",
      "grid-noBiaseQuantileR: 0.934591\n",
      "\n"
     ]
    }
   ],
   "source": [
    "results = print_all_prediction_error()"
   ]
  },
  {
   "cell_type": "code",
   "execution_count": 98,
   "id": "9f01e530",
   "metadata": {},
   "outputs": [
    {
     "name": "stdout",
     "output_type": "stream",
     "text": [
      "Saving all prediction errors to [.\\images\\regression_test_2\\prediction_errors.txt].\n"
     ]
    },
    {
     "data": {
      "text/plain": [
       "True"
      ]
     },
     "execution_count": 98,
     "metadata": {},
     "output_type": "execute_result"
    }
   ],
   "source": [
    "save_prediction_errors()"
   ]
  },
  {
   "cell_type": "code",
   "execution_count": null,
   "id": "0c3bdf42",
   "metadata": {},
   "outputs": [],
   "source": []
  },
  {
   "cell_type": "code",
   "execution_count": null,
   "id": "a5e6a55a",
   "metadata": {},
   "outputs": [],
   "source": []
  },
  {
   "cell_type": "code",
   "execution_count": null,
   "id": "1838a588",
   "metadata": {},
   "outputs": [],
   "source": []
  }
 ],
 "metadata": {
  "kernelspec": {
   "display_name": "Python 3 (ipykernel)",
   "language": "python",
   "name": "python3"
  },
  "language_info": {
   "codemirror_mode": {
    "name": "ipython",
    "version": 3
   },
   "file_extension": ".py",
   "mimetype": "text/x-python",
   "name": "python",
   "nbconvert_exporter": "python",
   "pygments_lexer": "ipython3",
   "version": "3.9.7"
  }
 },
 "nbformat": 4,
 "nbformat_minor": 5
}
