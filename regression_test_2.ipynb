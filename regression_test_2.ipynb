{
 "cells": [
  {
   "cell_type": "markdown",
   "id": "899fa113",
   "metadata": {},
   "source": [
    "# Regression with Different Output Format under Various Data Conditions\n",
    "\n",
    "In this experience, we test the following output format for regression task under several different data coditions.\n",
    "- Numerical output\n",
    "- Regression as classification (grid-out)\n",
    "\n",
    "The data coditions include:\n",
    "- Sparse (few data)\n",
    "- Grouped\n",
    "  - Biased (parallel data)\n",
    "  - Completely different mode, uncorrelated data (cross)\n",
    "  - Partially diversed (split)"
   ]
  },
  {
   "cell_type": "code",
   "execution_count": 1,
   "id": "625ce7c3",
   "metadata": {},
   "outputs": [],
   "source": [
    "import numpy as np\n",
    "import tensorflow as tf\n",
    "from tensorflow import keras\n",
    "import os\n",
    "\n",
    "# To plot pretty figures\n",
    "%matplotlib inline\n",
    "import matplotlib as mpl\n",
    "import matplotlib.pyplot as plt\n",
    "mpl.rc('axes', labelsize=14)\n",
    "mpl.rc('xtick', labelsize=12)\n",
    "mpl.rc('ytick', labelsize=12)"
   ]
  },
  {
   "cell_type": "code",
   "execution_count": 2,
   "id": "7ad564ad",
   "metadata": {},
   "outputs": [],
   "source": [
    "# Where to save the figures\n",
    "PROJECT_ROOT_DIR = \".\"\n",
    "CHAPTER_ID = \"regression_test_2\"\n",
    "IMAGES_PATH = os.path.join(PROJECT_ROOT_DIR, \"images\", CHAPTER_ID)\n",
    "os.makedirs(IMAGES_PATH, exist_ok=True)\n",
    "\n",
    "def save_fig(fig_id, tight_layout=True, fig_extension=\"png\", resolution=300):\n",
    "    path = os.path.join(IMAGES_PATH, fig_id + \".\" + fig_extension)\n",
    "    print(\"Saving figure\", fig_id)\n",
    "    if tight_layout:\n",
    "        plt.tight_layout()\n",
    "    plt.savefig(path, format=fig_extension, dpi=resolution)"
   ]
  },
  {
   "cell_type": "code",
   "execution_count": 3,
   "id": "94e8a077",
   "metadata": {},
   "outputs": [],
   "source": [
    "def draw_func(func_in, x_min=-5, x_max=5, mark='r--', linewidth=1, label='func'):\n",
    "    n_sample = 100\n",
    "    X_func = np.linspace(x_min, x_max, n_sample).reshape(n_sample, 1)\n",
    "    y_func = func_in(X_func)\n",
    "    plt.plot(X_func, y_func, mark, linewidth=linewidth, label=label)"
   ]
  },
  {
   "cell_type": "markdown",
   "id": "c27ffe35",
   "metadata": {},
   "source": [
    "Generate polynomial data"
   ]
  },
  {
   "cell_type": "code",
   "execution_count": 4,
   "id": "ce670ce4",
   "metadata": {},
   "outputs": [],
   "source": [
    "poly_a1 = 5.0\n",
    "# poly_a1 = -10.0 # 5.0\n",
    "#\n",
    "sin_a = 0.0\n",
    "# sin_a = 10.0\n",
    "sin_f = 0.1 # 0.2\n",
    "#\n",
    "def func_0(X): # Reference\n",
    "    return 0.5 * X**3 + 0.5 * X**2 + (poly_a1)*X + 2 + sin_a*np.sin(2.0*np.pi*sin_f*X)\n",
    "def func_1(X): # Variation 1: parellel\n",
    "    return 0.5 * X**3 + 0.5 * X**2 + (poly_a1)*X + 30 + sin_a*np.sin(2.0*np.pi*sin_f*X)\n",
    "def func_2(X): # Variation 2: cross\n",
    "    return -0.5 * X**3 + 0.5 * X**2 + (poly_a1)*X + 30 + sin_a*np.sin(2.0*np.pi*sin_f*X)\n",
    "def func_3(X): # Variation 3: slightly split\n",
    "    return 0.3 * X**3 + 1.0 * X**2 + (poly_a1)*X + 15 + sin_a*np.sin(2.0*np.pi*sin_f*X)\n",
    "def func_4(X): # Sine wave~\n",
    "    return 0.5 * X**3 + 0.5 * X**2 + (poly_a1)*X + 2 + 20.0*np.sin(2.0*np.pi*sin_f*X) # 50.0"
   ]
  },
  {
   "cell_type": "code",
   "execution_count": 5,
   "id": "9463bfff",
   "metadata": {},
   "outputs": [],
   "source": [
    "func_dict = dict()\n",
    "#-----------------#\n",
    "func_dict[\"f1\"] = func_0\n",
    "#-----------------#\n",
    "# func_dict[\"f2\"] = func_1\n",
    "# func_dict[\"f2\"] = func_2\n",
    "func_dict[\"f2\"] = func_3\n",
    "# func_dict[\"f2\"] = func_4\n",
    "#-----------------#\n",
    "func_dict[\"f3\"] = func_4\n",
    "#-----------------#\n",
    "\n",
    "# Note: func_dict[\"f_avg\"] depends on multiout_type and is calculated in each section of multiout_type"
   ]
  },
  {
   "cell_type": "code",
   "execution_count": 6,
   "id": "63437d0c",
   "metadata": {},
   "outputs": [
    {
     "name": "stdout",
     "output_type": "stream",
     "text": [
      "(m, m_train) = (100, 80)\n",
      "y_data_pure.shape = (100, 1)\n",
      "y_data.shape = (100, 1)\n"
     ]
    }
   ],
   "source": [
    "np.random.seed(42)\n",
    "m = 100 # 50 # 100 # 200\n",
    "m_train = m // 5 * 4\n",
    "print(\"(m, m_train) = (%d, %d)\" % (m, m_train))\n",
    "\n",
    "# Input\n",
    "is_gapped = True\n",
    "# is_gapped = False\n",
    "#\n",
    "if not is_gapped:\n",
    "    X_data = 10 * np.random.rand(m, 1) - 5 # Note: X is randomly sampled, so we don't need to shuffle the data again\n",
    "else:\n",
    "    X_data = np.concatenate( (np.linspace(-5.0, -2.0, m//2), np.linspace(2.0, 5.0, m-m//2)) )\n",
    "    X_data = X_data.reshape((m,1))\n",
    "    np.random.shuffle(X_data)\n",
    "\n",
    "# Output, multiout_type in {1, 2, 3}\n",
    "# multiout_type = 1      \n",
    "multiout_type = 2 \n",
    "# multiout_type = 3 \n",
    "#\n",
    "sid_data = np.ones((m,1), dtype=int) # subject id, default: 1\n",
    "if multiout_type == 2:\n",
    "    m_h = m // 2\n",
    "    X_data_1 = X_data[:m_h]\n",
    "    X_data_2 = X_data[m_h:]\n",
    "    sid_data[:m_h] = 1 # id:1\n",
    "    sid_data[m_h:] = 2 # id:2\n",
    "    y_data_pure_1 = func_dict[\"f1\"](X_data_1) \n",
    "    y_data_pure_2 = func_dict[\"f2\"](X_data_2) \n",
    "    y_data_pure = np.vstack([y_data_pure_1, y_data_pure_2])\n",
    "    print(\"y_data_pure.shape = %s\" % str(y_data_pure.shape))\n",
    "    # Average line\n",
    "    func_dict[\"f_avg\"] = ( lambda X: 0.5*func_dict[\"f1\"](X) + 0.5*func_dict[\"f2\"](X) )\n",
    "    #\n",
    "elif multiout_type == 3: # with \"avg\" line\n",
    "    m_t = m // 3\n",
    "    X_data_1 = X_data[:m_t]\n",
    "    X_data_2 = X_data[m_t:(2*m_t)]\n",
    "    X_data_3 = X_data[(2*m_t):]\n",
    "    sid_data[:m_t]        = 1 # id:1\n",
    "    sid_data[m_t:(2*m_t)] = 2 # id:2\n",
    "    sid_data[(2*m_t):]    = 3 # id:3\n",
    "    y_data_pure_1 = func_dict[\"f1\"](X_data_1) \n",
    "    y_data_pure_2 = func_dict[\"f2\"](X_data_2) \n",
    "    y_data_pure_3 = func_dict[\"f3\"](X_data_3) \n",
    "    y_data_pure = np.vstack([y_data_pure_1, y_data_pure_2, y_data_pure_3])\n",
    "    print(\"y_data_pure.shape = %s\" % str(y_data_pure.shape))\n",
    "    # Average line\n",
    "    func_dict[\"f_avg\"] = ( lambda X: (func_dict[\"f1\"](X) + func_dict[\"f2\"](X) + func_dict[\"f3\"](X))/3.0 )\n",
    "    #\n",
    "else: # multiout_type == 1\n",
    "    # Average line\n",
    "    func_dict[\"f_avg\"] = ( lambda X: 0.5*func_dict[\"f1\"](X) + 0.5*func_dict[\"f2\"](X) )\n",
    "    y_data_pure = func_dict[\"f_avg\"](X_data)\n",
    "\n",
    "    \n",
    "# Label (+noise)\n",
    "n_stddev = 2.0\n",
    "# n_stddev = 10.0\n",
    "y_data = y_data_pure + np.random.randn(m, 1) * n_stddev\n",
    "print(\"y_data.shape = %s\" % str(y_data.shape))\n",
    "# print(\"sid_data = %s\" % str(sid_data))"
   ]
  },
  {
   "cell_type": "code",
   "execution_count": 7,
   "id": "ef588fae",
   "metadata": {},
   "outputs": [],
   "source": [
    "# Method 1: simply slice\n",
    "# X_train = X_data[:m_train]\n",
    "# y_train = y_data[:m_train]\n",
    "# X_valid = X_data[m_train:]\n",
    "# y_valid = y_data[m_train:]\n",
    "\n",
    "# Method 2: shuffle\n",
    "from sklearn.model_selection import train_test_split\n",
    "# X_train, X_valid, y_train, y_valid = train_test_split(X_data, y_data, test_size=0.2, random_state=42)\n",
    "X_train, X_valid, y_train, y_valid, sid_train, sid_valid = train_test_split(X_data, y_data, sid_data, test_size=0.2, random_state=42)"
   ]
  },
  {
   "cell_type": "code",
   "execution_count": 8,
   "id": "3b5d2cfe",
   "metadata": {},
   "outputs": [
    {
     "name": "stdout",
     "output_type": "stream",
     "text": [
      "(80, 1)\n"
     ]
    }
   ],
   "source": [
    "print(X_train.shape)\n",
    "# print(\"sid_train = %s\" % str(sid_train))"
   ]
  },
  {
   "cell_type": "code",
   "execution_count": 9,
   "id": "9bd2136c",
   "metadata": {},
   "outputs": [],
   "source": [
    "def draw_normal_func(func_dict):\n",
    "    if multiout_type != 1:\n",
    "        draw_func(func_dict[\"f1\"], mark='c:', label=\"f1\")\n",
    "        draw_func(func_dict[\"f2\"], mark='r:', label=\"f2\")\n",
    "    if multiout_type == 3:\n",
    "        draw_func(func_dict[\"f3\"], mark='y:', label=\"f3\")\n",
    "    draw_func(func_dict[\"f_avg\"], mark='m--', label=\"f_avg\")"
   ]
  },
  {
   "cell_type": "code",
   "execution_count": 10,
   "id": "3e4283c1",
   "metadata": {},
   "outputs": [],
   "source": [
    "def draw_points(X, y, sid=None):\n",
    "    if sid is None:\n",
    "        plt.plot(X, y, \"b.\")\n",
    "    else:\n",
    "        plt.plot(X[sid==1], y[sid==1], \"b.\")\n",
    "        plt.plot(X[sid==2], y[sid==2], \"r.\")\n",
    "        plt.plot(X[sid==3], y[sid==3], \"y.\")"
   ]
  },
  {
   "cell_type": "code",
   "execution_count": 11,
   "id": "693af3b7",
   "metadata": {},
   "outputs": [
    {
     "name": "stdout",
     "output_type": "stream",
     "text": [
      "Saving figure training_data\n"
     ]
    },
    {
     "data": {
      "image/png": "[encoded data removed]",
      "text/plain": [
       "<Figure size 432x288 with 1 Axes>"
      ]
     },
     "metadata": {
      "needs_background": "light"
     },
     "output_type": "display_data"
    }
   ],
   "source": [
    "# plt.plot(X_train, y_train, \"b.\")\n",
    "# plt.plot(X_train[sid_train==1], y_train[sid_train==1], \"b.\")\n",
    "# plt.plot(X_train[sid_train==2], y_train[sid_train==2], \"r.\")\n",
    "draw_points(X_train, y_train, sid_train)\n",
    "\n",
    "draw_normal_func(func_dict)\n",
    "plt.xlabel(\"$x_1$\", fontsize=18)\n",
    "plt.ylabel(\"$y$\", rotation=0, fontsize=18)\n",
    "plt.legend(loc=\"upper left\", fontsize=14)\n",
    "# plt.axis([-3, 3, 0, 10])\n",
    "save_fig(\"training_data\")\n",
    "plt.show()"
   ]
  },
  {
   "cell_type": "code",
   "execution_count": 12,
   "id": "a6853ff1",
   "metadata": {},
   "outputs": [],
   "source": [
    "prediction_error_dict = dict()\n",
    "\n",
    "def get_prediction_error(func_in, func_dict, name=\"\", x_min=-5, x_max=5, prediction_error_dict=prediction_error_dict):\n",
    "    n_sample = 100\n",
    "    X_func = np.linspace(x_min, x_max, n_sample).reshape(n_sample, 1)\n",
    "    y_func = func_in(X_func).reshape((n_sample,1))\n",
    "    y_gt = func_dict[\"f_avg\"](X_func).reshape((n_sample,1))\n",
    "    print(\"y_func.shape = %s\" % str(y_func.shape))\n",
    "    print(\"y_gt.shape = %s\" % str(y_gt.shape))\n",
    "#     total_error = np.sqrt(np.square(y_func - y_gt).mean())\n",
    "    total_error = np.abs(y_func - y_gt).mean()\n",
    "    prediction_error_dict[name] = total_error\n",
    "    return total_error\n",
    "\n",
    "def print_all_prediction_error(is_logging_to_screen=True, prediction_error_dict=prediction_error_dict):\n",
    "    _s = \"\"\n",
    "    for _n in prediction_error_dict:\n",
    "        _s += (\"%s: %f\" % (_n, prediction_error_dict[_n])) + \"\\n\"\n",
    "    if is_logging_to_screen:\n",
    "        print(_s)\n",
    "    return _s\n",
    "        \n",
    "def save_prediction_errors(is_logging_to_screen=False, prediction_error_dict=prediction_error_dict):\n",
    "    path = os.path.join(IMAGES_PATH, \"prediction_errors.txt\")\n",
    "    print(\"Saving all prediction errors to [%s].\" % path)\n",
    "    _s = print_all_prediction_error(is_logging_to_screen=is_logging_to_screen, prediction_error_dict=prediction_error_dict)\n",
    "    with open(path, \"w\") as _f:\n",
    "        _f.write(_s)\n",
    "    return True"
   ]
  },
  {
   "cell_type": "markdown",
   "id": "053ecc57",
   "metadata": {},
   "source": [
    "# Simple FCs (number --> number)"
   ]
  },
  {
   "cell_type": "markdown",
   "id": "c66eb67b",
   "metadata": {},
   "source": [
    "Build the regression model"
   ]
  },
  {
   "cell_type": "code",
   "execution_count": 13,
   "id": "9449fc0b",
   "metadata": {},
   "outputs": [
    {
     "name": "stderr",
     "output_type": "stream",
     "text": [
      "C:\\Users\\benso\\anaconda3\\envs\\ml\\lib\\site-packages\\keras\\optimizer_v2\\gradient_descent.py:102: UserWarning: The `lr` argument is deprecated, use `learning_rate` instead.\n",
      "  super(SGD, self).__init__(name, **kwargs)\n"
     ]
    }
   ],
   "source": [
    "model = keras.models.Sequential([\n",
    "    keras.layers.Dense(30, activation=\"relu\", input_shape=X_train.shape[1:]),\n",
    "    keras.layers.Dense(30, activation=\"relu\"),\n",
    "    keras.layers.Dense(1)\n",
    "])\n",
    "\n",
    "optimizer = keras.optimizers.SGD(lr=0.0001, momentum=0.9)\n",
    "model.compile(loss=\"mean_squared_error\", optimizer=optimizer)\n",
    "# optimizer = keras.optimizers.Adam(lr=0.01)\n",
    "# model.compile(loss=\"mean_absolute_error\", optimizer=optimizer)"
   ]
  },
  {
   "cell_type": "code",
   "execution_count": 14,
   "id": "92afd68a",
   "metadata": {
    "scrolled": true
   },
   "outputs": [
    {
     "name": "stdout",
     "output_type": "stream",
     "text": [
      "Epoch 1/100\n",
      "3/3 [==============================] - 1s 80ms/step - loss: 2502.3352 - val_loss: 1727.3777\n",
      "Epoch 2/100\n",
      "3/3 [==============================] - 0s 15ms/step - loss: 2432.0105 - val_loss: 1651.4968\n",
      "Epoch 3/100\n",
      "3/3 [==============================] - 0s 13ms/step - loss: 2287.5085 - val_loss: 1500.2667\n",
      "Epoch 4/100\n",
      "3/3 [==============================] - 0s 26ms/step - loss: 1959.8666 - val_loss: 1157.8898\n",
      "Epoch 5/100\n",
      "3/3 [==============================] - 0s 32ms/step - loss: 1256.3148 - val_loss: 580.1777\n",
      "Epoch 6/100\n",
      "3/3 [==============================] - 0s 32ms/step - loss: 567.0963 - val_loss: 928.6224\n",
      "Epoch 7/100\n",
      "3/3 [==============================] - 0s 18ms/step - loss: 895.9147 - val_loss: 450.4289\n",
      "Epoch 8/100\n",
      "3/3 [==============================] - 0s 36ms/step - loss: 383.3348 - val_loss: 458.2572\n",
      "Epoch 9/100\n",
      "3/3 [==============================] - 0s 31ms/step - loss: 501.0548 - val_loss: 328.4162\n",
      "Epoch 10/100\n",
      "3/3 [==============================] - 0s 35ms/step - loss: 313.5773 - val_loss: 198.0414\n",
      "Epoch 11/100\n",
      "3/3 [==============================] - 0s 25ms/step - loss: 273.5223 - val_loss: 248.5356\n",
      "Epoch 12/100\n",
      "3/3 [==============================] - 0s 29ms/step - loss: 285.6160 - val_loss: 182.1201\n",
      "Epoch 13/100\n",
      "3/3 [==============================] - 0s 21ms/step - loss: 239.9623 - val_loss: 197.9301\n",
      "Epoch 14/100\n",
      "3/3 [==============================] - 0s 18ms/step - loss: 253.0900 - val_loss: 173.1137\n",
      "Epoch 15/100\n",
      "3/3 [==============================] - 0s 16ms/step - loss: 217.8131 - val_loss: 202.9781\n",
      "Epoch 16/100\n",
      "3/3 [==============================] - 0s 20ms/step - loss: 221.1194 - val_loss: 199.9827\n",
      "Epoch 17/100\n",
      "3/3 [==============================] - 0s 17ms/step - loss: 201.4707 - val_loss: 190.9427\n",
      "Epoch 18/100\n",
      "3/3 [==============================] - 0s 19ms/step - loss: 215.1207 - val_loss: 190.1846\n",
      "Epoch 19/100\n",
      "3/3 [==============================] - 0s 19ms/step - loss: 208.2627 - val_loss: 178.2923\n",
      "Epoch 20/100\n",
      "3/3 [==============================] - 0s 17ms/step - loss: 194.9349 - val_loss: 185.5891\n",
      "Epoch 21/100\n",
      "3/3 [==============================] - 0s 21ms/step - loss: 203.0831 - val_loss: 173.7195\n",
      "Epoch 22/100\n",
      "3/3 [==============================] - 0s 16ms/step - loss: 197.7184 - val_loss: 168.5888\n",
      "Epoch 23/100\n",
      "3/3 [==============================] - 0s 15ms/step - loss: 199.3083 - val_loss: 168.8092\n",
      "Epoch 24/100\n",
      "3/3 [==============================] - 0s 20ms/step - loss: 194.3311 - val_loss: 170.8925\n",
      "Epoch 25/100\n",
      "3/3 [==============================] - 0s 26ms/step - loss: 195.9626 - val_loss: 174.1221\n",
      "Epoch 26/100\n",
      "3/3 [==============================] - 0s 17ms/step - loss: 193.1414 - val_loss: 171.6245\n",
      "Epoch 27/100\n",
      "3/3 [==============================] - 0s 17ms/step - loss: 190.2366 - val_loss: 173.0719\n",
      "Epoch 28/100\n",
      "3/3 [==============================] - 0s 19ms/step - loss: 189.9069 - val_loss: 174.1116\n",
      "Epoch 29/100\n",
      "3/3 [==============================] - 0s 18ms/step - loss: 188.7149 - val_loss: 173.2508\n",
      "Epoch 30/100\n",
      "3/3 [==============================] - 0s 20ms/step - loss: 189.8985 - val_loss: 172.4005\n",
      "Epoch 31/100\n",
      "3/3 [==============================] - 0s 21ms/step - loss: 188.6595 - val_loss: 169.6719\n",
      "Epoch 32/100\n",
      "3/3 [==============================] - 0s 18ms/step - loss: 188.1655 - val_loss: 170.2812\n",
      "Epoch 33/100\n",
      "3/3 [==============================] - 0s 17ms/step - loss: 187.9893 - val_loss: 174.3784\n",
      "Epoch 34/100\n",
      "3/3 [==============================] - 0s 21ms/step - loss: 185.0502 - val_loss: 176.6443\n",
      "Epoch 35/100\n",
      "3/3 [==============================] - 0s 16ms/step - loss: 186.7520 - val_loss: 177.7016\n",
      "Epoch 36/100\n",
      "3/3 [==============================] - 0s 16ms/step - loss: 187.3514 - val_loss: 173.8302\n",
      "Epoch 37/100\n",
      "3/3 [==============================] - 0s 19ms/step - loss: 184.5106 - val_loss: 173.9288\n",
      "Epoch 38/100\n",
      "3/3 [==============================] - 0s 16ms/step - loss: 183.6711 - val_loss: 170.9975\n",
      "Epoch 39/100\n",
      "3/3 [==============================] - 0s 20ms/step - loss: 182.3045 - val_loss: 167.8621\n",
      "Epoch 40/100\n",
      "3/3 [==============================] - 0s 16ms/step - loss: 185.8133 - val_loss: 163.2117\n",
      "Epoch 41/100\n",
      "3/3 [==============================] - 0s 16ms/step - loss: 182.9402 - val_loss: 166.7494\n",
      "Epoch 42/100\n",
      "3/3 [==============================] - 0s 20ms/step - loss: 182.2843 - val_loss: 167.4312\n",
      "Epoch 43/100\n",
      "3/3 [==============================] - 0s 16ms/step - loss: 181.5463 - val_loss: 168.9484\n",
      "Epoch 44/100\n",
      "3/3 [==============================] - 0s 19ms/step - loss: 180.2074 - val_loss: 166.9647\n",
      "Epoch 45/100\n",
      "3/3 [==============================] - 0s 18ms/step - loss: 181.6264 - val_loss: 163.5621\n",
      "Epoch 46/100\n",
      "3/3 [==============================] - 0s 21ms/step - loss: 179.2070 - val_loss: 164.0081\n",
      "Epoch 47/100\n",
      "3/3 [==============================] - 0s 16ms/step - loss: 180.4658 - val_loss: 168.2929\n",
      "Epoch 48/100\n",
      "3/3 [==============================] - 0s 16ms/step - loss: 179.5026 - val_loss: 164.3958\n",
      "Epoch 49/100\n",
      "3/3 [==============================] - 0s 19ms/step - loss: 177.7802 - val_loss: 165.5897\n",
      "Epoch 50/100\n",
      "3/3 [==============================] - 0s 22ms/step - loss: 175.8444 - val_loss: 167.2332\n",
      "Epoch 51/100\n",
      "3/3 [==============================] - 0s 18ms/step - loss: 175.6948 - val_loss: 167.4857\n",
      "Epoch 52/100\n",
      "3/3 [==============================] - 0s 16ms/step - loss: 177.1851 - val_loss: 165.7327\n",
      "Epoch 53/100\n",
      "3/3 [==============================] - 0s 16ms/step - loss: 178.4301 - val_loss: 166.8154\n",
      "Epoch 54/100\n",
      "3/3 [==============================] - 0s 22ms/step - loss: 176.9732 - val_loss: 167.9942\n",
      "Epoch 55/100\n",
      "3/3 [==============================] - 0s 23ms/step - loss: 172.7136 - val_loss: 163.6949\n",
      "Epoch 56/100\n",
      "3/3 [==============================] - 0s 16ms/step - loss: 175.3875 - val_loss: 157.7463\n",
      "Epoch 57/100\n",
      "3/3 [==============================] - 0s 17ms/step - loss: 174.9389 - val_loss: 155.6517\n",
      "Epoch 58/100\n",
      "3/3 [==============================] - 0s 16ms/step - loss: 174.4612 - val_loss: 157.5249\n",
      "Epoch 59/100\n",
      "3/3 [==============================] - 0s 16ms/step - loss: 173.0607 - val_loss: 162.9604\n",
      "Epoch 60/100\n",
      "3/3 [==============================] - 0s 20ms/step - loss: 174.8869 - val_loss: 172.7858\n",
      "Epoch 61/100\n",
      "3/3 [==============================] - 0s 17ms/step - loss: 174.8777 - val_loss: 173.2941\n",
      "Epoch 62/100\n",
      "3/3 [==============================] - 0s 15ms/step - loss: 172.8240 - val_loss: 165.1055\n",
      "Epoch 63/100\n",
      "3/3 [==============================] - 0s 16ms/step - loss: 168.9058 - val_loss: 156.9950\n",
      "Epoch 64/100\n",
      "3/3 [==============================] - 0s 17ms/step - loss: 170.9208 - val_loss: 152.1509\n",
      "Epoch 65/100\n",
      "3/3 [==============================] - 0s 15ms/step - loss: 175.0264 - val_loss: 150.3405\n",
      "Epoch 66/100\n",
      "3/3 [==============================] - 0s 15ms/step - loss: 177.0860 - val_loss: 151.2471\n",
      "Epoch 67/100\n",
      "3/3 [==============================] - 0s 17ms/step - loss: 173.4408 - val_loss: 156.5642\n",
      "Epoch 68/100\n",
      "3/3 [==============================] - 0s 16ms/step - loss: 169.2798 - val_loss: 155.2152\n",
      "Epoch 69/100\n",
      "3/3 [==============================] - 0s 15ms/step - loss: 166.3486 - val_loss: 156.8897\n",
      "Epoch 70/100\n",
      "3/3 [==============================] - 0s 20ms/step - loss: 168.8092 - val_loss: 159.1941\n",
      "Epoch 71/100\n",
      "3/3 [==============================] - 0s 16ms/step - loss: 169.5043 - val_loss: 162.2464\n",
      "Epoch 72/100\n",
      "3/3 [==============================] - 0s 17ms/step - loss: 166.9237 - val_loss: 161.9651\n",
      "Epoch 73/100\n",
      "3/3 [==============================] - 0s 19ms/step - loss: 167.3199 - val_loss: 162.7405\n",
      "Epoch 74/100\n",
      "3/3 [==============================] - 0s 16ms/step - loss: 168.6967 - val_loss: 164.5000\n",
      "Epoch 75/100\n",
      "3/3 [==============================] - 0s 20ms/step - loss: 168.2780 - val_loss: 161.0749\n",
      "Epoch 76/100\n",
      "3/3 [==============================] - 0s 16ms/step - loss: 169.7170 - val_loss: 159.3488\n",
      "Epoch 77/100\n",
      "3/3 [==============================] - 0s 17ms/step - loss: 164.6816 - val_loss: 157.4290\n",
      "Epoch 78/100\n",
      "3/3 [==============================] - 0s 19ms/step - loss: 164.5200 - val_loss: 156.1584\n",
      "Epoch 79/100\n",
      "3/3 [==============================] - 0s 18ms/step - loss: 163.3964 - val_loss: 152.2999\n",
      "Epoch 80/100\n"
     ]
    },
    {
     "name": "stdout",
     "output_type": "stream",
     "text": [
      "3/3 [==============================] - 0s 20ms/step - loss: 163.6101 - val_loss: 146.9221\n",
      "Epoch 81/100\n",
      "3/3 [==============================] - 0s 16ms/step - loss: 164.4980 - val_loss: 146.4112\n",
      "Epoch 82/100\n",
      "3/3 [==============================] - 0s 20ms/step - loss: 164.9514 - val_loss: 147.3853\n",
      "Epoch 83/100\n",
      "3/3 [==============================] - 0s 16ms/step - loss: 164.4203 - val_loss: 148.1600\n",
      "Epoch 84/100\n",
      "3/3 [==============================] - 0s 17ms/step - loss: 162.2454 - val_loss: 149.7117\n",
      "Epoch 85/100\n",
      "3/3 [==============================] - 0s 19ms/step - loss: 162.2936 - val_loss: 151.1440\n",
      "Epoch 86/100\n",
      "3/3 [==============================] - 0s 16ms/step - loss: 161.6357 - val_loss: 155.6757\n",
      "Epoch 87/100\n",
      "3/3 [==============================] - 0s 19ms/step - loss: 163.7174 - val_loss: 158.6338\n",
      "Epoch 88/100\n",
      "3/3 [==============================] - 0s 18ms/step - loss: 162.6658 - val_loss: 152.0762\n",
      "Epoch 89/100\n",
      "3/3 [==============================] - 0s 16ms/step - loss: 161.5698 - val_loss: 147.8345\n",
      "Epoch 90/100\n",
      "3/3 [==============================] - 0s 19ms/step - loss: 161.1878 - val_loss: 148.3845\n",
      "Epoch 91/100\n",
      "3/3 [==============================] - 0s 16ms/step - loss: 162.7238 - val_loss: 145.6275\n",
      "Epoch 92/100\n",
      "3/3 [==============================] - 0s 21ms/step - loss: 160.7793 - val_loss: 147.1931\n",
      "Epoch 93/100\n",
      "3/3 [==============================] - 0s 19ms/step - loss: 161.2566 - val_loss: 148.7504\n",
      "Epoch 94/100\n",
      "3/3 [==============================] - 0s 22ms/step - loss: 160.2403 - val_loss: 153.7095\n",
      "Epoch 95/100\n",
      "3/3 [==============================] - 0s 19ms/step - loss: 161.1146 - val_loss: 155.6165\n",
      "Epoch 96/100\n",
      "3/3 [==============================] - 0s 19ms/step - loss: 160.2827 - val_loss: 147.9612\n",
      "Epoch 97/100\n",
      "3/3 [==============================] - 0s 20ms/step - loss: 159.1053 - val_loss: 144.6961\n",
      "Epoch 98/100\n",
      "3/3 [==============================] - 0s 21ms/step - loss: 160.6781 - val_loss: 142.6375\n",
      "Epoch 99/100\n",
      "3/3 [==============================] - 0s 17ms/step - loss: 159.7921 - val_loss: 141.5300\n",
      "Epoch 100/100\n",
      "3/3 [==============================] - 0s 19ms/step - loss: 159.5134 - val_loss: 143.7960\n"
     ]
    }
   ],
   "source": [
    "history = model.fit(X_train, y_train, epochs=100,\n",
    "                    validation_data=(X_valid, y_valid))"
   ]
  },
  {
   "cell_type": "markdown",
   "id": "17d6e37a",
   "metadata": {},
   "source": [
    "Plot the result"
   ]
  },
  {
   "cell_type": "code",
   "execution_count": 15,
   "id": "3b066f5c",
   "metadata": {},
   "outputs": [
    {
     "name": "stdout",
     "output_type": "stream",
     "text": [
      "Saving figure num_num_training_curve\n"
     ]
    },
    {
     "data": {
      "image/png": "[encoded data removed]",
      "text/plain": [
       "<Figure size 576x360 with 1 Axes>"
      ]
     },
     "metadata": {
      "needs_background": "light"
     },
     "output_type": "display_data"
    }
   ],
   "source": [
    "import pandas as pd\n",
    "\n",
    "pd.DataFrame(history.history).plot(figsize=(8, 5))\n",
    "plt.grid(True)\n",
    "# plt.gca().set_ylim(0, 1)\n",
    "save_fig(\"num_num_training_curve\")\n",
    "plt.show()"
   ]
  },
  {
   "cell_type": "code",
   "execution_count": 16,
   "id": "03f9bb54",
   "metadata": {},
   "outputs": [
    {
     "name": "stdout",
     "output_type": "stream",
     "text": [
      "Saving figure num_num_prediction\n"
     ]
    },
    {
     "data": {
      "image/png": "[encoded data removed]",
      "text/plain": [
       "<Figure size 432x288 with 1 Axes>"
      ]
     },
     "metadata": {
      "needs_background": "light"
     },
     "output_type": "display_data"
    }
   ],
   "source": [
    "# X_new = np.linspace(-5, 5, 100).reshape(100, 1)\n",
    "# y_new = model.predict(X_new)\n",
    "#\n",
    "# plt.plot(X_train, y_train, \"b.\")\n",
    "draw_points(X_train, y_train, sid_train)\n",
    "# plt.plot(X_new, y_new, \"r-\", linewidth=2, label=\"Predictions\")\n",
    "draw_func(model.predict, mark='r-', linewidth=2, label=\"Predictions\")\n",
    "draw_normal_func(func_dict)\n",
    "plt.xlabel(\"$x_1$\", fontsize=18)\n",
    "plt.ylabel(\"$y$\", rotation=0, fontsize=18)\n",
    "plt.legend(loc=\"upper left\", fontsize=14)\n",
    "# plt.axis([-3, 3, 0, 10])\n",
    "save_fig(\"num_num_prediction\")\n",
    "plt.show()"
   ]
  },
  {
   "cell_type": "code",
   "execution_count": 17,
   "id": "bc06d931",
   "metadata": {},
   "outputs": [
    {
     "name": "stdout",
     "output_type": "stream",
     "text": [
      "y_func.shape = (100, 1)\n",
      "y_gt.shape = (100, 1)\n"
     ]
    },
    {
     "data": {
      "text/plain": [
       "6.01874331381628"
      ]
     },
     "execution_count": 17,
     "metadata": {},
     "output_type": "execute_result"
    }
   ],
   "source": [
    "get_prediction_error(model.predict, func_dict, name=\"num-num\")"
   ]
  },
  {
   "cell_type": "markdown",
   "id": "58da8768",
   "metadata": {},
   "source": [
    "# Simulated CNN Feature Map (1-D grids, grid --> number)"
   ]
  },
  {
   "cell_type": "code",
   "execution_count": 18,
   "id": "287b5e4c",
   "metadata": {},
   "outputs": [],
   "source": [
    "class num2grid(keras.layers.Layer):\n",
    "    def __init__(self, units, x_min=-10, x_max=10, sigma=1.0, activation=None, **kwargs):\n",
    "        super().__init__(**kwargs)\n",
    "        self.units = units\n",
    "        self.x_min = x_min\n",
    "        self.x_max = x_max\n",
    "        self.sigma = sigma\n",
    "        self.sigma2 = self.sigma**2\n",
    "        self.activation = keras.activations.get(activation)\n",
    "        \n",
    "    def build(self, batch_input_shape):\n",
    "        #\n",
    "        self.x_grid = np.linspace(self.x_min, self.x_max, self.units, endpoint=True)\n",
    "#         print(\"self.x_grid.shape = %s\" % str(self.x_grid.shape))\n",
    "        #\n",
    "        super().build(batch_input_shape) # must be at the end\n",
    "        \n",
    "    def call(self, X):\n",
    "        '''\n",
    "        Input shape:  (batch, X_chanel)\n",
    "        Output shape: (batch, grid_unit) \n",
    "        \n",
    "        self.x_grid shape: (grid_unit,)\n",
    "        '''\n",
    "        gauss_grid = tf.exp( -(self.x_grid - X)**2 / (2.0*self.sigma2) )\n",
    "        print(\"X.shape = %s\" % str(X.shape))\n",
    "        print(\"gauss_grid.shape = %s\" % str(gauss_grid.shape))\n",
    "        return self.activation(gauss_grid)\n",
    "    \n",
    "    def compute_output_shape(self, batch_input_shape):\n",
    "        return tf.TensorShape(batch_input_shape.as_list()[:-1] + [self.units])\n",
    "    \n",
    "    def get_config(self):\n",
    "        base_config = super().get_config()\n",
    "        return {**base_config, \n",
    "                \"units\": self.units,\n",
    "                \"x_min\": self.x_min,\n",
    "                \"x_max\": self.x_max,\n",
    "                \"sigma\": self.sigma,\n",
    "                \"activation\": keras.activations.serialize(self.activation)}"
   ]
  },
  {
   "cell_type": "code",
   "execution_count": 19,
   "id": "f463c12a",
   "metadata": {},
   "outputs": [
    {
     "name": "stdout",
     "output_type": "stream",
     "text": [
      "X.shape = (None, 1)\n",
      "gauss_grid.shape = (None, 5)\n"
     ]
    },
    {
     "name": "stderr",
     "output_type": "stream",
     "text": [
      "C:\\Users\\benso\\anaconda3\\envs\\ml\\lib\\site-packages\\keras\\optimizer_v2\\adam.py:105: UserWarning: The `lr` argument is deprecated, use `learning_rate` instead.\n",
      "  super(Adam, self).__init__(name, **kwargs)\n"
     ]
    }
   ],
   "source": [
    "model = keras.models.Sequential([\n",
    "    num2grid(5,x_min=-10, x_max=10, sigma=3.0, input_shape=X_train.shape[1:]),\n",
    "    keras.layers.Dense(30, activation=\"relu\"),\n",
    "#     keras.layers.Dense(100, activation=\"relu\", kernel_regularizer=tf.keras.regularizers.l1(0.01)),\n",
    "#     keras.layers.Dense(30, activation=keras.layers.LeakyReLU(alpha=0.2) ),\n",
    "#     keras.layers.Dense(30, activation=\"selu\"),\n",
    "#     keras.layers.Dense(30, activation=\"relu\"),\n",
    "    keras.layers.Dense(1)\n",
    "])\n",
    "\n",
    "# optimizer = keras.optimizers.SGD(lr=0.001, momentum=0.9)\n",
    "# model.compile(loss=\"mean_squared_error\", optimizer=optimizer)\n",
    "optimizer = keras.optimizers.Adam(lr=0.1)\n",
    "model.compile(loss=\"mean_absolute_error\", optimizer=optimizer)"
   ]
  },
  {
   "cell_type": "code",
   "execution_count": 20,
   "id": "c966ada4",
   "metadata": {
    "scrolled": true
   },
   "outputs": [
    {
     "name": "stdout",
     "output_type": "stream",
     "text": [
      "Epoch 1/100\n",
      "X.shape = (None, 1)\n",
      "gauss_grid.shape = (None, 5)\n",
      "X.shape = (None, 1)\n",
      "gauss_grid.shape = (None, 5)\n",
      "1/3 [=========>....................] - ETA: 0s - loss: 40.3829X.shape = (None, 1)\n",
      "gauss_grid.shape = (None, 5)\n",
      "3/3 [==============================] - 1s 68ms/step - loss: 41.6133 - val_loss: 33.3990\n",
      "Epoch 2/100\n",
      "3/3 [==============================] - 0s 18ms/step - loss: 39.6734 - val_loss: 31.4534\n",
      "Epoch 3/100\n",
      "3/3 [==============================] - 0s 22ms/step - loss: 36.1213 - val_loss: 28.1094\n",
      "Epoch 4/100\n",
      "3/3 [==============================] - 0s 17ms/step - loss: 30.3880 - val_loss: 23.3794\n",
      "Epoch 5/100\n",
      "3/3 [==============================] - 0s 39ms/step - loss: 22.5197 - val_loss: 17.1906\n",
      "Epoch 6/100\n",
      "3/3 [==============================] - 0s 21ms/step - loss: 17.2978 - val_loss: 12.7805\n",
      "Epoch 7/100\n",
      "3/3 [==============================] - 0s 26ms/step - loss: 16.4369 - val_loss: 8.9694\n",
      "Epoch 8/100\n",
      "3/3 [==============================] - 0s 32ms/step - loss: 15.6105 - val_loss: 12.1423\n",
      "Epoch 9/100\n",
      "3/3 [==============================] - 0s 24ms/step - loss: 16.4089 - val_loss: 9.1363\n",
      "Epoch 10/100\n",
      "3/3 [==============================] - 0s 40ms/step - loss: 14.6561 - val_loss: 8.9792\n",
      "Epoch 11/100\n",
      "3/3 [==============================] - 0s 22ms/step - loss: 13.9120 - val_loss: 9.8777\n",
      "Epoch 12/100\n",
      "3/3 [==============================] - 0s 17ms/step - loss: 12.8752 - val_loss: 10.5515\n",
      "Epoch 13/100\n",
      "3/3 [==============================] - 0s 18ms/step - loss: 12.5402 - val_loss: 10.7436\n",
      "Epoch 14/100\n",
      "3/3 [==============================] - 0s 18ms/step - loss: 11.9851 - val_loss: 10.6745\n",
      "Epoch 15/100\n",
      "3/3 [==============================] - 0s 19ms/step - loss: 11.2422 - val_loss: 11.0872\n",
      "Epoch 16/100\n",
      "3/3 [==============================] - 0s 15ms/step - loss: 11.0827 - val_loss: 10.7575\n",
      "Epoch 17/100\n",
      "3/3 [==============================] - 0s 16ms/step - loss: 10.7153 - val_loss: 11.5746\n",
      "Epoch 18/100\n",
      "3/3 [==============================] - 0s 18ms/step - loss: 10.6223 - val_loss: 12.2401\n",
      "Epoch 19/100\n",
      "3/3 [==============================] - 0s 19ms/step - loss: 10.1628 - val_loss: 12.4581\n",
      "Epoch 20/100\n",
      "3/3 [==============================] - 0s 21ms/step - loss: 10.2121 - val_loss: 12.7893\n",
      "Epoch 21/100\n",
      "3/3 [==============================] - 0s 15ms/step - loss: 9.9878 - val_loss: 13.4523\n",
      "Epoch 22/100\n",
      "3/3 [==============================] - 0s 16ms/step - loss: 10.2012 - val_loss: 12.6106\n",
      "Epoch 23/100\n",
      "3/3 [==============================] - 0s 21ms/step - loss: 10.3258 - val_loss: 13.1077\n",
      "Epoch 24/100\n",
      "3/3 [==============================] - 0s 16ms/step - loss: 9.8178 - val_loss: 12.6345\n",
      "Epoch 25/100\n",
      "3/3 [==============================] - 0s 21ms/step - loss: 9.9621 - val_loss: 12.7691\n",
      "Epoch 26/100\n",
      "3/3 [==============================] - 0s 16ms/step - loss: 9.7367 - val_loss: 12.7413\n",
      "Epoch 27/100\n",
      "3/3 [==============================] - 0s 19ms/step - loss: 9.6513 - val_loss: 12.2179\n",
      "Epoch 28/100\n",
      "3/3 [==============================] - 0s 17ms/step - loss: 9.5652 - val_loss: 12.4485\n",
      "Epoch 29/100\n",
      "3/3 [==============================] - 0s 19ms/step - loss: 9.6754 - val_loss: 11.9423\n",
      "Epoch 30/100\n",
      "3/3 [==============================] - 0s 15ms/step - loss: 9.5797 - val_loss: 12.1189\n",
      "Epoch 31/100\n",
      "3/3 [==============================] - 0s 19ms/step - loss: 9.5861 - val_loss: 12.1172\n",
      "Epoch 32/100\n",
      "3/3 [==============================] - 0s 16ms/step - loss: 9.5677 - val_loss: 11.7542\n",
      "Epoch 33/100\n",
      "3/3 [==============================] - 0s 19ms/step - loss: 9.9424 - val_loss: 12.1903\n",
      "Epoch 34/100\n",
      "3/3 [==============================] - 0s 15ms/step - loss: 9.8141 - val_loss: 11.1320\n",
      "Epoch 35/100\n",
      "3/3 [==============================] - 0s 20ms/step - loss: 9.7837 - val_loss: 11.4863\n",
      "Epoch 36/100\n",
      "3/3 [==============================] - 0s 16ms/step - loss: 9.5081 - val_loss: 11.8085\n",
      "Epoch 37/100\n",
      "3/3 [==============================] - 0s 21ms/step - loss: 9.5233 - val_loss: 12.5787\n",
      "Epoch 38/100\n",
      "3/3 [==============================] - 0s 16ms/step - loss: 9.5551 - val_loss: 11.9234\n",
      "Epoch 39/100\n",
      "3/3 [==============================] - 0s 18ms/step - loss: 9.9195 - val_loss: 11.4161\n",
      "Epoch 40/100\n",
      "3/3 [==============================] - 0s 15ms/step - loss: 9.7345 - val_loss: 11.8244\n",
      "Epoch 41/100\n",
      "3/3 [==============================] - 0s 17ms/step - loss: 9.3882 - val_loss: 11.1502\n",
      "Epoch 42/100\n",
      "3/3 [==============================] - 0s 20ms/step - loss: 9.9534 - val_loss: 11.5512\n",
      "Epoch 43/100\n",
      "3/3 [==============================] - 0s 16ms/step - loss: 9.7764 - val_loss: 11.8197\n",
      "Epoch 44/100\n",
      "3/3 [==============================] - 0s 16ms/step - loss: 9.4448 - val_loss: 12.2007\n",
      "Epoch 45/100\n",
      "3/3 [==============================] - 0s 19ms/step - loss: 10.1286 - val_loss: 12.7409\n",
      "Epoch 46/100\n",
      "3/3 [==============================] - 0s 17ms/step - loss: 9.5744 - val_loss: 14.1905\n",
      "Epoch 47/100\n",
      "3/3 [==============================] - 0s 16ms/step - loss: 10.1172 - val_loss: 12.0091\n",
      "Epoch 48/100\n",
      "3/3 [==============================] - 0s 16ms/step - loss: 9.3890 - val_loss: 11.4657\n",
      "Epoch 49/100\n",
      "3/3 [==============================] - 0s 20ms/step - loss: 9.5651 - val_loss: 11.3332\n",
      "Epoch 50/100\n",
      "3/3 [==============================] - 0s 17ms/step - loss: 9.4775 - val_loss: 11.0146\n",
      "Epoch 51/100\n",
      "3/3 [==============================] - 0s 23ms/step - loss: 9.4960 - val_loss: 11.1820\n",
      "Epoch 52/100\n",
      "3/3 [==============================] - 0s 17ms/step - loss: 9.3144 - val_loss: 11.9688\n",
      "Epoch 53/100\n",
      "3/3 [==============================] - 0s 16ms/step - loss: 9.5602 - val_loss: 11.7794\n",
      "Epoch 54/100\n",
      "3/3 [==============================] - 0s 20ms/step - loss: 9.4206 - val_loss: 11.4820\n",
      "Epoch 55/100\n",
      "3/3 [==============================] - 0s 16ms/step - loss: 9.3269 - val_loss: 11.4523\n",
      "Epoch 56/100\n",
      "3/3 [==============================] - 0s 15ms/step - loss: 9.3223 - val_loss: 10.7153\n",
      "Epoch 57/100\n",
      "3/3 [==============================] - 0s 17ms/step - loss: 9.2359 - val_loss: 10.3427\n",
      "Epoch 58/100\n",
      "3/3 [==============================] - 0s 20ms/step - loss: 9.2564 - val_loss: 10.2999\n",
      "Epoch 59/100\n",
      "3/3 [==============================] - 0s 19ms/step - loss: 9.2130 - val_loss: 10.3225\n",
      "Epoch 60/100\n",
      "3/3 [==============================] - 0s 15ms/step - loss: 9.3234 - val_loss: 10.4108\n",
      "Epoch 61/100\n",
      "3/3 [==============================] - 0s 17ms/step - loss: 9.3168 - val_loss: 10.1313\n",
      "Epoch 62/100\n",
      "3/3 [==============================] - 0s 19ms/step - loss: 9.2902 - val_loss: 10.0929\n",
      "Epoch 63/100\n",
      "3/3 [==============================] - 0s 19ms/step - loss: 9.2386 - val_loss: 9.9117\n",
      "Epoch 64/100\n",
      "3/3 [==============================] - 0s 16ms/step - loss: 9.4035 - val_loss: 10.4866\n",
      "Epoch 65/100\n",
      "3/3 [==============================] - 0s 20ms/step - loss: 9.2036 - val_loss: 10.1866\n",
      "Epoch 66/100\n",
      "3/3 [==============================] - 0s 20ms/step - loss: 9.6809 - val_loss: 10.0539\n",
      "Epoch 67/100\n",
      "3/3 [==============================] - 0s 17ms/step - loss: 9.2408 - val_loss: 11.0692\n",
      "Epoch 68/100\n",
      "3/3 [==============================] - 0s 17ms/step - loss: 9.5976 - val_loss: 9.7219\n",
      "Epoch 69/100\n",
      "3/3 [==============================] - 0s 25ms/step - loss: 9.2528 - val_loss: 10.2158\n",
      "Epoch 70/100\n",
      "3/3 [==============================] - 0s 17ms/step - loss: 9.6200 - val_loss: 9.6744\n",
      "Epoch 71/100\n",
      "3/3 [==============================] - 0s 16ms/step - loss: 9.3710 - val_loss: 9.9344\n",
      "Epoch 72/100\n",
      "3/3 [==============================] - 0s 20ms/step - loss: 9.4638 - val_loss: 10.3348\n",
      "Epoch 73/100\n",
      "3/3 [==============================] - 0s 17ms/step - loss: 9.3367 - val_loss: 9.9418\n",
      "Epoch 74/100\n",
      "3/3 [==============================] - 0s 26ms/step - loss: 9.1801 - val_loss: 10.3453\n",
      "Epoch 75/100\n",
      "3/3 [==============================] - 0s 17ms/step - loss: 9.1867 - val_loss: 10.6011\n",
      "Epoch 76/100\n",
      "3/3 [==============================] - 0s 16ms/step - loss: 9.5924 - val_loss: 9.7828\n",
      "Epoch 77/100\n",
      "3/3 [==============================] - 0s 20ms/step - loss: 9.1030 - val_loss: 9.7619\n",
      "Epoch 78/100\n",
      "3/3 [==============================] - 0s 19ms/step - loss: 9.0151 - val_loss: 9.4815\n",
      "Epoch 79/100\n",
      "3/3 [==============================] - 0s 15ms/step - loss: 9.4638 - val_loss: 9.1741\n",
      "Epoch 80/100\n",
      "3/3 [==============================] - 0s 18ms/step - loss: 9.2558 - val_loss: 9.2885\n"
     ]
    },
    {
     "name": "stdout",
     "output_type": "stream",
     "text": [
      "Epoch 81/100\n",
      "3/3 [==============================] - 0s 19ms/step - loss: 9.0321 - val_loss: 9.5011\n",
      "Epoch 82/100\n",
      "3/3 [==============================] - 0s 16ms/step - loss: 9.3965 - val_loss: 10.0225\n",
      "Epoch 83/100\n",
      "3/3 [==============================] - 0s 19ms/step - loss: 9.1178 - val_loss: 11.4634\n",
      "Epoch 84/100\n",
      "3/3 [==============================] - 0s 19ms/step - loss: 9.4396 - val_loss: 11.0187\n",
      "Epoch 85/100\n",
      "3/3 [==============================] - 0s 22ms/step - loss: 9.3548 - val_loss: 10.1798\n",
      "Epoch 86/100\n",
      "3/3 [==============================] - 0s 23ms/step - loss: 9.0333 - val_loss: 9.2994\n",
      "Epoch 87/100\n",
      "3/3 [==============================] - 0s 19ms/step - loss: 9.1672 - val_loss: 8.8718\n",
      "Epoch 88/100\n",
      "3/3 [==============================] - 0s 16ms/step - loss: 9.3905 - val_loss: 9.2413\n",
      "Epoch 89/100\n",
      "3/3 [==============================] - 0s 19ms/step - loss: 8.9362 - val_loss: 9.6589\n",
      "Epoch 90/100\n",
      "3/3 [==============================] - 0s 17ms/step - loss: 9.5326 - val_loss: 9.6583\n",
      "Epoch 91/100\n",
      "3/3 [==============================] - 0s 20ms/step - loss: 9.1799 - val_loss: 10.2476\n",
      "Epoch 92/100\n",
      "3/3 [==============================] - 0s 16ms/step - loss: 9.1444 - val_loss: 9.9678\n",
      "Epoch 93/100\n",
      "3/3 [==============================] - 0s 20ms/step - loss: 9.5052 - val_loss: 10.5791\n",
      "Epoch 94/100\n",
      "3/3 [==============================] - 0s 16ms/step - loss: 9.1505 - val_loss: 10.5614\n",
      "Epoch 95/100\n",
      "3/3 [==============================] - 0s 21ms/step - loss: 9.1413 - val_loss: 10.3593\n",
      "Epoch 96/100\n",
      "3/3 [==============================] - 0s 16ms/step - loss: 9.4935 - val_loss: 9.7820\n",
      "Epoch 97/100\n",
      "3/3 [==============================] - 0s 19ms/step - loss: 9.4335 - val_loss: 9.6532\n",
      "Epoch 98/100\n",
      "3/3 [==============================] - 0s 20ms/step - loss: 9.3473 - val_loss: 9.1505\n",
      "Epoch 99/100\n",
      "3/3 [==============================] - 0s 19ms/step - loss: 9.0868 - val_loss: 8.8833\n",
      "Epoch 100/100\n",
      "3/3 [==============================] - 0s 19ms/step - loss: 9.0331 - val_loss: 9.0017\n"
     ]
    }
   ],
   "source": [
    "history = model.fit(X_train, y_train, epochs=100,\n",
    "                    validation_data=(X_valid, y_valid))"
   ]
  },
  {
   "cell_type": "code",
   "execution_count": 21,
   "id": "4d550f88",
   "metadata": {},
   "outputs": [
    {
     "name": "stdout",
     "output_type": "stream",
     "text": [
      "Saving figure grid_num_training_curve\n"
     ]
    },
    {
     "data": {
      "image/png": "[encoded data removed]",
      "text/plain": [
       "<Figure size 576x360 with 1 Axes>"
      ]
     },
     "metadata": {
      "needs_background": "light"
     },
     "output_type": "display_data"
    }
   ],
   "source": [
    "import pandas as pd\n",
    "\n",
    "pd.DataFrame(history.history).plot(figsize=(8, 5))\n",
    "plt.grid(True)\n",
    "# plt.gca().set_ylim(0, 1)\n",
    "save_fig(\"grid_num_training_curve\")\n",
    "plt.show()"
   ]
  },
  {
   "cell_type": "code",
   "execution_count": 22,
   "id": "5487653c",
   "metadata": {},
   "outputs": [
    {
     "name": "stdout",
     "output_type": "stream",
     "text": [
      "X.shape = (None, 1)\n",
      "gauss_grid.shape = (None, 5)\n",
      "Saving figure grid_num_prediction\n"
     ]
    },
    {
     "data": {
      "image/png": "[encoded data removed]",
      "text/plain": [
       "<Figure size 432x288 with 1 Axes>"
      ]
     },
     "metadata": {
      "needs_background": "light"
     },
     "output_type": "display_data"
    }
   ],
   "source": [
    "# X_new = np.linspace(-5, 5, 100).reshape(100, 1)\n",
    "# y_new = model.predict(X_new)\n",
    "#\n",
    "# plt.plot(X_train, y_train, \"b.\")\n",
    "draw_points(X_train, y_train, sid_train)\n",
    "# plt.plot(X_new, y_new, \"r-\", linewidth=2, label=\"Predictions\")\n",
    "draw_func(model.predict, mark='r-', linewidth=2, label=\"Predictions\")\n",
    "draw_normal_func(func_dict)\n",
    "plt.xlabel(\"$x_1$\", fontsize=18)\n",
    "plt.ylabel(\"$y$\", rotation=0, fontsize=18)\n",
    "plt.legend(loc=\"upper left\", fontsize=14)\n",
    "# plt.axis([-3, 3, 0, 10])\n",
    "save_fig(\"grid_num_prediction\")\n",
    "plt.show()"
   ]
  },
  {
   "cell_type": "code",
   "execution_count": 23,
   "id": "f9c053a4",
   "metadata": {},
   "outputs": [
    {
     "name": "stdout",
     "output_type": "stream",
     "text": [
      "y_func.shape = (100, 1)\n",
      "y_gt.shape = (100, 1)\n"
     ]
    },
    {
     "data": {
      "text/plain": [
       "4.175491161303976"
      ]
     },
     "execution_count": 23,
     "metadata": {},
     "output_type": "execute_result"
    }
   ],
   "source": [
    "get_prediction_error(model.predict, func_dict, name=\"grid-num\")"
   ]
  },
  {
   "cell_type": "markdown",
   "id": "fe65d614",
   "metadata": {},
   "source": [
    "# Grid & Regression by Classification (grid --> grid)"
   ]
  },
  {
   "cell_type": "code",
   "execution_count": 24,
   "id": "3d35615e",
   "metadata": {},
   "outputs": [],
   "source": [
    "class num2grid_np():\n",
    "    def __init__(self, units, x_min=-10, x_max=10, sigma=1.0):\n",
    "        self.units = units\n",
    "        self.x_min = x_min\n",
    "        self.x_max = x_max\n",
    "        self.sigma = sigma\n",
    "        self.sigma2 = self.sigma**2\n",
    "        self.x_grid = np.linspace(self.x_min, self.x_max, self.units, endpoint=True)\n",
    "        print(\"self.x_grid = %s\" % str(self.x_grid))\n",
    "        \n",
    "    def convert(self, X):\n",
    "        gauss_grid = np.exp( -(self.x_grid - X)**2 / (2.0*self.sigma2) )\n",
    "#         if len(gauss_grid.shape) == 1:\n",
    "#             gauss_grid = gauss_grid.reshape([1,-1])\n",
    "#         grid_sum = np.sum(gauss_grid, axis=1, keepdims=True)\n",
    "        grid_sum = np.sum(gauss_grid, axis=-1, keepdims=True)\n",
    "        gauss_grid = gauss_grid / grid_sum\n",
    "        return gauss_grid\n",
    "    \n",
    "    def inv_convert(self, grid):\n",
    "#         if len(grid.shape) == 1:\n",
    "#             grid = grid.reshape([1,-1])\n",
    "#         grid_sum = np.sum(grid, axis=1)\n",
    "        grid_sum = np.sum(grid, axis=-1)\n",
    "#         print(grid_sum)\n",
    "        exp_num = np.sum((self.x_grid * grid), axis=-1) / grid_sum # element-wise\n",
    "        return exp_num\n",
    "    \n",
    "    def get_statistic(self, grid):\n",
    "        grid_sum = np.sum(grid, axis=-1)\n",
    "        _mean = np.sum((self.x_grid * grid), axis=-1) / grid_sum # element-wise\n",
    "        _var  = np.sum( ((self.x_grid.reshape((1,-1)) - _mean.reshape((-1,1)))**2 * grid), axis=-1) / grid_sum # element-wise\n",
    "        # print(\"(_mean, _var) = (%f, %f)\" % (_mean, _var))\n",
    "        _stddev = np.sqrt(_var)\n",
    "        return _mean, _stddev"
   ]
  },
  {
   "cell_type": "code",
   "execution_count": 25,
   "id": "4903180b",
   "metadata": {},
   "outputs": [
    {
     "name": "stdout",
     "output_type": "stream",
     "text": [
      "self.x_grid = [-100.          -95.91836735  -91.83673469  -87.75510204  -83.67346939\n",
      "  -79.59183673  -75.51020408  -71.42857143  -67.34693878  -63.26530612\n",
      "  -59.18367347  -55.10204082  -51.02040816  -46.93877551  -42.85714286\n",
      "  -38.7755102   -34.69387755  -30.6122449   -26.53061224  -22.44897959\n",
      "  -18.36734694  -14.28571429  -10.20408163   -6.12244898   -2.04081633\n",
      "    2.04081633    6.12244898   10.20408163   14.28571429   18.36734694\n",
      "   22.44897959   26.53061224   30.6122449    34.69387755   38.7755102\n",
      "   42.85714286   46.93877551   51.02040816   55.10204082   59.18367347\n",
      "   63.26530612   67.34693878   71.42857143   75.51020408   79.59183673\n",
      "   83.67346939   87.75510204   91.83673469   95.91836735  100.        ]\n"
     ]
    }
   ],
   "source": [
    "# class_num = 10 # 10\n",
    "# n2g = num2grid_np(class_num, x_min=-100.0, x_max=100.0, sigma=20.0) # 20.0\n",
    "# class_num = 20\n",
    "# n2g = num2grid_np(class_num, x_min=-100.0, x_max=100.0, sigma=15.0) # 20.0\n",
    "class_num = 50\n",
    "n2g = num2grid_np(class_num, x_min=-100.0, x_max=100.0, sigma=6.0) # 5.0 "
   ]
  },
  {
   "cell_type": "code",
   "execution_count": 26,
   "id": "dce05258",
   "metadata": {},
   "outputs": [
    {
     "name": "stdout",
     "output_type": "stream",
     "text": [
      "[[3.57995092e-60 2.08100846e-55 7.61538914e-51 1.75441300e-46\n",
      "  2.54444491e-42 2.32314196e-38 1.33530332e-34 4.83176258e-31\n",
      "  1.10065884e-27 1.57841554e-24 1.42498879e-21 8.09884396e-19\n",
      "  2.89771784e-16 6.52695532e-14 9.25521826e-12 8.26198061e-10\n",
      "  4.64304784e-08 1.64264466e-06 3.65852120e-05 5.12966502e-04\n",
      "  4.52786966e-03 2.51605603e-02 8.80173281e-02 1.93837381e-01\n",
      "  2.68737559e-01 2.34552834e-01 1.28876722e-01 4.45789421e-02\n",
      "  9.70748025e-03 1.33077537e-03 1.14848275e-04 6.23972825e-06\n",
      "  2.13416679e-07 4.59528573e-09 6.22899760e-11 5.31551427e-13\n",
      "  2.85557712e-15 9.65748361e-18 2.05615356e-20 2.75593262e-23\n",
      "  2.32542921e-26 1.23526215e-29 4.13082337e-33 8.69632169e-37\n",
      "  1.15254011e-40 9.61607812e-45 5.05081425e-49 1.67011468e-53\n",
      "  3.47658354e-58 4.55596654e-63]]\n"
     ]
    }
   ],
   "source": [
    "# grid_1 = n2g.convert(-1.2)\n",
    "grid_1 = n2g.convert([[-1.2]])\n",
    "print(grid_1)"
   ]
  },
  {
   "cell_type": "code",
   "execution_count": 27,
   "id": "48203fe2",
   "metadata": {},
   "outputs": [
    {
     "data": {
      "text/plain": [
       "array([-1.2])"
      ]
     },
     "execution_count": 27,
     "metadata": {},
     "output_type": "execute_result"
    }
   ],
   "source": [
    "n2g.inv_convert(grid_1)"
   ]
  },
  {
   "cell_type": "code",
   "execution_count": 28,
   "id": "a741b6d1",
   "metadata": {},
   "outputs": [
    {
     "data": {
      "text/plain": [
       "(array([-1.2]), array([6.]))"
      ]
     },
     "execution_count": 28,
     "metadata": {},
     "output_type": "execute_result"
    }
   ],
   "source": [
    "n2g.get_statistic(grid_1)"
   ]
  },
  {
   "cell_type": "markdown",
   "id": "bdc0b9a0",
   "metadata": {},
   "source": [
    "### Convert the labels to grid (pre-processing)"
   ]
  },
  {
   "cell_type": "code",
   "execution_count": 29,
   "id": "39c7fa96",
   "metadata": {},
   "outputs": [],
   "source": [
    "y_train_grid = n2g.convert(y_train)\n",
    "y_valid_grid = n2g.convert(y_valid)"
   ]
  },
  {
   "cell_type": "code",
   "execution_count": 30,
   "id": "f577a751",
   "metadata": {},
   "outputs": [
    {
     "name": "stdout",
     "output_type": "stream",
     "text": [
      "(80, 50)\n",
      "(20, 50)\n"
     ]
    }
   ],
   "source": [
    "print(y_train_grid.shape)\n",
    "print(y_valid_grid.shape)"
   ]
  },
  {
   "cell_type": "code",
   "execution_count": 31,
   "id": "71610af1",
   "metadata": {},
   "outputs": [
    {
     "name": "stdout",
     "output_type": "stream",
     "text": [
      "X.shape = (None, 1)\n",
      "gauss_grid.shape = (None, 5)\n"
     ]
    },
    {
     "name": "stderr",
     "output_type": "stream",
     "text": [
      "C:\\Users\\benso\\anaconda3\\envs\\ml\\lib\\site-packages\\keras\\optimizer_v2\\gradient_descent.py:102: UserWarning: The `lr` argument is deprecated, use `learning_rate` instead.\n",
      "  super(SGD, self).__init__(name, **kwargs)\n"
     ]
    }
   ],
   "source": [
    "model = keras.models.Sequential([\n",
    "#     keras.layers.Dense(30, activation=\"relu\", input_shape=X_train.shape[1:]),\n",
    "    num2grid(5,x_min=-10, x_max=10, sigma=3.0, input_shape=X_train.shape[1:]),\n",
    "    keras.layers.Dense(30, activation=\"relu\"),\n",
    "#     keras.layers.Dense(100, activation=\"relu\", kernel_regularizer=tf.keras.regularizers.l1(0.01)),\n",
    "    keras.layers.Dense(class_num, activation=\"softmax\"),\n",
    "])\n",
    "\n",
    "optimizer = keras.optimizers.SGD(lr=0.2, momentum=0.9)\n",
    "model.compile(loss=\"categorical_crossentropy\", optimizer=optimizer)"
   ]
  },
  {
   "cell_type": "code",
   "execution_count": 32,
   "id": "e2244aee",
   "metadata": {
    "scrolled": true
   },
   "outputs": [
    {
     "name": "stdout",
     "output_type": "stream",
     "text": [
      "Epoch 1/100\n",
      "X.shape = (None, 1)\n",
      "gauss_grid.shape = (None, 5)\n",
      "X.shape = (None, 1)\n",
      "gauss_grid.shape = (None, 5)\n",
      "1/3 [=========>....................] - ETA: 1s - loss: 3.9096X.shape = (None, 1)\n",
      "gauss_grid.shape = (None, 5)\n",
      "3/3 [==============================] - 1s 91ms/step - loss: 3.9031 - val_loss: 3.8937\n",
      "Epoch 2/100\n",
      "3/3 [==============================] - 0s 14ms/step - loss: 3.8637 - val_loss: 3.8578\n",
      "Epoch 3/100\n",
      "3/3 [==============================] - 0s 30ms/step - loss: 3.7965 - val_loss: 3.8135\n",
      "Epoch 4/100\n",
      "3/3 [==============================] - 0s 39ms/step - loss: 3.7136 - val_loss: 3.7624\n",
      "Epoch 5/100\n",
      "3/3 [==============================] - 0s 28ms/step - loss: 3.6208 - val_loss: 3.7059\n",
      "Epoch 6/100\n",
      "3/3 [==============================] - 0s 36ms/step - loss: 3.5113 - val_loss: 3.6380\n",
      "Epoch 7/100\n",
      "3/3 [==============================] - 0s 37ms/step - loss: 3.3995 - val_loss: 3.5425\n",
      "Epoch 8/100\n",
      "3/3 [==============================] - 0s 26ms/step - loss: 3.2883 - val_loss: 3.4569\n",
      "Epoch 9/100\n",
      "3/3 [==============================] - 0s 26ms/step - loss: 3.1964 - val_loss: 3.3825\n",
      "Epoch 10/100\n",
      "3/3 [==============================] - 0s 26ms/step - loss: 3.1272 - val_loss: 3.3207\n",
      "Epoch 11/100\n",
      "3/3 [==============================] - 0s 20ms/step - loss: 3.0794 - val_loss: 3.2681\n",
      "Epoch 12/100\n",
      "3/3 [==============================] - 0s 22ms/step - loss: 3.0252 - val_loss: 3.1953\n",
      "Epoch 13/100\n",
      "3/3 [==============================] - 0s 21ms/step - loss: 2.9880 - val_loss: 3.1175\n",
      "Epoch 14/100\n",
      "3/3 [==============================] - 0s 17ms/step - loss: 2.9614 - val_loss: 3.0528\n",
      "Epoch 15/100\n",
      "3/3 [==============================] - 0s 20ms/step - loss: 2.9269 - val_loss: 3.0101\n",
      "Epoch 16/100\n",
      "3/3 [==============================] - 0s 22ms/step - loss: 2.9132 - val_loss: 2.9911\n",
      "Epoch 17/100\n",
      "3/3 [==============================] - 0s 21ms/step - loss: 2.8938 - val_loss: 3.0026\n",
      "Epoch 18/100\n",
      "3/3 [==============================] - 0s 16ms/step - loss: 2.8516 - val_loss: 3.0330\n",
      "Epoch 19/100\n",
      "3/3 [==============================] - 0s 21ms/step - loss: 2.8262 - val_loss: 3.0779\n",
      "Epoch 20/100\n",
      "3/3 [==============================] - 0s 17ms/step - loss: 2.8097 - val_loss: 3.0489\n",
      "Epoch 21/100\n",
      "3/3 [==============================] - 0s 20ms/step - loss: 2.7896 - val_loss: 2.9709\n",
      "Epoch 22/100\n",
      "3/3 [==============================] - 0s 13ms/step - loss: 2.7547 - val_loss: 2.9305\n",
      "Epoch 23/100\n",
      "3/3 [==============================] - 0s 21ms/step - loss: 2.7352 - val_loss: 2.9189\n",
      "Epoch 24/100\n",
      "3/3 [==============================] - 0s 16ms/step - loss: 2.7218 - val_loss: 2.9339\n",
      "Epoch 25/100\n",
      "3/3 [==============================] - 0s 15ms/step - loss: 2.6977 - val_loss: 2.9323\n",
      "Epoch 26/100\n",
      "3/3 [==============================] - 0s 20ms/step - loss: 2.6768 - val_loss: 2.8961\n",
      "Epoch 27/100\n",
      "3/3 [==============================] - 0s 15ms/step - loss: 2.6794 - val_loss: 2.8648\n",
      "Epoch 28/100\n",
      "3/3 [==============================] - 0s 20ms/step - loss: 2.6557 - val_loss: 2.8816\n",
      "Epoch 29/100\n",
      "3/3 [==============================] - 0s 17ms/step - loss: 2.6443 - val_loss: 2.8673\n",
      "Epoch 30/100\n",
      "3/3 [==============================] - 0s 21ms/step - loss: 2.6367 - val_loss: 2.8290\n",
      "Epoch 31/100\n",
      "3/3 [==============================] - 0s 16ms/step - loss: 2.6269 - val_loss: 2.7945\n",
      "Epoch 32/100\n",
      "3/3 [==============================] - 0s 19ms/step - loss: 2.6051 - val_loss: 2.7867\n",
      "Epoch 33/100\n",
      "3/3 [==============================] - 0s 13ms/step - loss: 2.6061 - val_loss: 2.8190\n",
      "Epoch 34/100\n",
      "3/3 [==============================] - 0s 21ms/step - loss: 2.5954 - val_loss: 2.8283\n",
      "Epoch 35/100\n",
      "3/3 [==============================] - 0s 17ms/step - loss: 2.5745 - val_loss: 2.7999\n",
      "Epoch 36/100\n",
      "3/3 [==============================] - 0s 17ms/step - loss: 2.5706 - val_loss: 2.7521\n",
      "Epoch 37/100\n",
      "3/3 [==============================] - 0s 17ms/step - loss: 2.5667 - val_loss: 2.7128\n",
      "Epoch 38/100\n",
      "3/3 [==============================] - 0s 15ms/step - loss: 2.5573 - val_loss: 2.7104\n",
      "Epoch 39/100\n",
      "3/3 [==============================] - 0s 22ms/step - loss: 2.5408 - val_loss: 2.7246\n",
      "Epoch 40/100\n",
      "3/3 [==============================] - 0s 20ms/step - loss: 2.5418 - val_loss: 2.7477\n",
      "Epoch 41/100\n",
      "3/3 [==============================] - 0s 18ms/step - loss: 2.5384 - val_loss: 2.7593\n",
      "Epoch 42/100\n",
      "3/3 [==============================] - 0s 15ms/step - loss: 2.5271 - val_loss: 2.7263\n",
      "Epoch 43/100\n",
      "3/3 [==============================] - 0s 20ms/step - loss: 2.5233 - val_loss: 2.6643\n",
      "Epoch 44/100\n",
      "3/3 [==============================] - 0s 16ms/step - loss: 2.5243 - val_loss: 2.6914\n",
      "Epoch 45/100\n",
      "3/3 [==============================] - 0s 21ms/step - loss: 2.5104 - val_loss: 2.6683\n",
      "Epoch 46/100\n",
      "3/3 [==============================] - 0s 17ms/step - loss: 2.5072 - val_loss: 2.6829\n",
      "Epoch 47/100\n",
      "3/3 [==============================] - 0s 16ms/step - loss: 2.4994 - val_loss: 2.7526\n",
      "Epoch 48/100\n",
      "3/3 [==============================] - 0s 20ms/step - loss: 2.5088 - val_loss: 2.7572\n",
      "Epoch 49/100\n",
      "3/3 [==============================] - 0s 16ms/step - loss: 2.4940 - val_loss: 2.7214\n",
      "Epoch 50/100\n",
      "3/3 [==============================] - 0s 21ms/step - loss: 2.4908 - val_loss: 2.6553\n",
      "Epoch 51/100\n",
      "3/3 [==============================] - 0s 13ms/step - loss: 2.4878 - val_loss: 2.6341\n",
      "Epoch 52/100\n",
      "3/3 [==============================] - 0s 19ms/step - loss: 2.4880 - val_loss: 2.6537\n",
      "Epoch 53/100\n",
      "3/3 [==============================] - 0s 16ms/step - loss: 2.4900 - val_loss: 2.7158\n",
      "Epoch 54/100\n",
      "3/3 [==============================] - 0s 21ms/step - loss: 2.4895 - val_loss: 2.6438\n",
      "Epoch 55/100\n",
      "3/3 [==============================] - 0s 16ms/step - loss: 2.4733 - val_loss: 2.6205\n",
      "Epoch 56/100\n",
      "3/3 [==============================] - 0s 18ms/step - loss: 2.4682 - val_loss: 2.6281\n",
      "Epoch 57/100\n",
      "3/3 [==============================] - 0s 21ms/step - loss: 2.4617 - val_loss: 2.6641\n",
      "Epoch 58/100\n",
      "3/3 [==============================] - 0s 18ms/step - loss: 2.4591 - val_loss: 2.6358\n",
      "Epoch 59/100\n",
      "3/3 [==============================] - 0s 16ms/step - loss: 2.4572 - val_loss: 2.6651\n",
      "Epoch 60/100\n",
      "3/3 [==============================] - 0s 16ms/step - loss: 2.4554 - val_loss: 2.6706\n",
      "Epoch 61/100\n",
      "3/3 [==============================] - 0s 16ms/step - loss: 2.4446 - val_loss: 2.6325\n",
      "Epoch 62/100\n",
      "3/3 [==============================] - 0s 19ms/step - loss: 2.4488 - val_loss: 2.5856\n",
      "Epoch 63/100\n",
      "3/3 [==============================] - 0s 24ms/step - loss: 2.4448 - val_loss: 2.5770\n",
      "Epoch 64/100\n",
      "3/3 [==============================] - 0s 17ms/step - loss: 2.4489 - val_loss: 2.6083\n",
      "Epoch 65/100\n",
      "3/3 [==============================] - 0s 20ms/step - loss: 2.4449 - val_loss: 2.6578\n",
      "Epoch 66/100\n",
      "3/3 [==============================] - 0s 19ms/step - loss: 2.4387 - val_loss: 2.6116\n",
      "Epoch 67/100\n",
      "3/3 [==============================] - 0s 21ms/step - loss: 2.4347 - val_loss: 2.5887\n",
      "Epoch 68/100\n",
      "3/3 [==============================] - 0s 16ms/step - loss: 2.4467 - val_loss: 2.5942\n",
      "Epoch 69/100\n",
      "3/3 [==============================] - 0s 18ms/step - loss: 2.4216 - val_loss: 2.6638\n",
      "Epoch 70/100\n",
      "3/3 [==============================] - 0s 20ms/step - loss: 2.4397 - val_loss: 2.6461\n",
      "Epoch 71/100\n",
      "3/3 [==============================] - 0s 21ms/step - loss: 2.4226 - val_loss: 2.5635\n",
      "Epoch 72/100\n",
      "3/3 [==============================] - 0s 20ms/step - loss: 2.4629 - val_loss: 2.5489\n",
      "Epoch 73/100\n",
      "3/3 [==============================] - 0s 18ms/step - loss: 2.4454 - val_loss: 2.6262\n",
      "Epoch 74/100\n",
      "3/3 [==============================] - 0s 16ms/step - loss: 2.4202 - val_loss: 2.6047\n",
      "Epoch 75/100\n",
      "3/3 [==============================] - 0s 19ms/step - loss: 2.4219 - val_loss: 2.5909\n",
      "Epoch 76/100\n",
      "3/3 [==============================] - 0s 17ms/step - loss: 2.4176 - val_loss: 2.6309\n",
      "Epoch 77/100\n",
      "3/3 [==============================] - 0s 20ms/step - loss: 2.4175 - val_loss: 2.6508\n",
      "Epoch 78/100\n",
      "3/3 [==============================] - 0s 15ms/step - loss: 2.4118 - val_loss: 2.5655\n",
      "Epoch 79/100\n",
      "3/3 [==============================] - 0s 17ms/step - loss: 2.4204 - val_loss: 2.5454\n",
      "Epoch 80/100\n",
      "3/3 [==============================] - 0s 17ms/step - loss: 2.4104 - val_loss: 2.6076\n",
      "Epoch 81/100\n"
     ]
    },
    {
     "name": "stdout",
     "output_type": "stream",
     "text": [
      "3/3 [==============================] - 0s 19ms/step - loss: 2.4061 - val_loss: 2.5652\n",
      "Epoch 82/100\n",
      "3/3 [==============================] - 0s 20ms/step - loss: 2.4026 - val_loss: 2.5772\n",
      "Epoch 83/100\n",
      "3/3 [==============================] - 0s 15ms/step - loss: 2.3990 - val_loss: 2.5399\n",
      "Epoch 84/100\n",
      "3/3 [==============================] - 0s 16ms/step - loss: 2.4050 - val_loss: 2.5619\n",
      "Epoch 85/100\n",
      "3/3 [==============================] - 0s 20ms/step - loss: 2.4033 - val_loss: 2.5518\n",
      "Epoch 86/100\n",
      "3/3 [==============================] - 0s 24ms/step - loss: 2.3950 - val_loss: 2.5400\n",
      "Epoch 87/100\n",
      "3/3 [==============================] - 0s 16ms/step - loss: 2.3883 - val_loss: 2.5950\n",
      "Epoch 88/100\n",
      "3/3 [==============================] - 0s 20ms/step - loss: 2.3923 - val_loss: 2.6078\n",
      "Epoch 89/100\n",
      "3/3 [==============================] - 0s 16ms/step - loss: 2.3902 - val_loss: 2.5674\n",
      "Epoch 90/100\n",
      "3/3 [==============================] - 0s 21ms/step - loss: 2.3893 - val_loss: 2.5663\n",
      "Epoch 91/100\n",
      "3/3 [==============================] - 0s 21ms/step - loss: 2.3834 - val_loss: 2.6124\n",
      "Epoch 92/100\n",
      "3/3 [==============================] - 0s 17ms/step - loss: 2.3979 - val_loss: 2.6204\n",
      "Epoch 93/100\n",
      "3/3 [==============================] - 0s 16ms/step - loss: 2.3819 - val_loss: 2.5849\n",
      "Epoch 94/100\n",
      "3/3 [==============================] - 0s 21ms/step - loss: 2.3854 - val_loss: 2.5815\n",
      "Epoch 95/100\n",
      "3/3 [==============================] - 0s 16ms/step - loss: 2.3831 - val_loss: 2.5577\n",
      "Epoch 96/100\n",
      "3/3 [==============================] - 0s 20ms/step - loss: 2.3795 - val_loss: 2.5548\n",
      "Epoch 97/100\n",
      "3/3 [==============================] - 0s 16ms/step - loss: 2.3729 - val_loss: 2.5468\n",
      "Epoch 98/100\n",
      "3/3 [==============================] - 0s 16ms/step - loss: 2.3865 - val_loss: 2.5540\n",
      "Epoch 99/100\n",
      "3/3 [==============================] - 0s 20ms/step - loss: 2.3911 - val_loss: 2.5766\n",
      "Epoch 100/100\n",
      "3/3 [==============================] - 0s 17ms/step - loss: 2.3741 - val_loss: 2.5848\n"
     ]
    }
   ],
   "source": [
    "history = model.fit(X_train, y_train_grid, epochs=100,\n",
    "                    validation_data=(X_valid, y_valid_grid))"
   ]
  },
  {
   "cell_type": "code",
   "execution_count": 33,
   "id": "390834c9",
   "metadata": {},
   "outputs": [
    {
     "name": "stdout",
     "output_type": "stream",
     "text": [
      "Saving figure grid_rbc_training_curve\n"
     ]
    },
    {
     "data": {
      "image/png": "[encoded data removed]",
      "text/plain": [
       "<Figure size 576x360 with 1 Axes>"
      ]
     },
     "metadata": {
      "needs_background": "light"
     },
     "output_type": "display_data"
    }
   ],
   "source": [
    "import pandas as pd\n",
    "\n",
    "pd.DataFrame(history.history).plot(figsize=(8, 5))\n",
    "plt.grid(True)\n",
    "# plt.gca().set_ylim(0, 1)\n",
    "save_fig(\"grid_rbc_training_curve\")\n",
    "plt.show()"
   ]
  },
  {
   "cell_type": "code",
   "execution_count": 34,
   "id": "6fba3b6a",
   "metadata": {},
   "outputs": [
    {
     "name": "stdout",
     "output_type": "stream",
     "text": [
      "X.shape = (None, 1)\n",
      "gauss_grid.shape = (None, 5)\n",
      "Saving figure grid_rbc_prediction\n"
     ]
    },
    {
     "data": {
      "image/png": "[encoded data removed]",
      "text/plain": [
       "<Figure size 432x288 with 1 Axes>"
      ]
     },
     "metadata": {
      "needs_background": "light"
     },
     "output_type": "display_data"
    }
   ],
   "source": [
    "# X_new = np.linspace(-5, 5, 100).reshape(100, 1)\n",
    "# y_new_proba = model.predict(X_new)\n",
    "# y_new = n2g.inv_convert(y_new_proba)\n",
    "#\n",
    "# plt.plot(X_train, y_train, \"b.\")\n",
    "draw_points(X_train, y_train, sid_train)\n",
    "# plt.plot(X_new, y_new, \"r-\", linewidth=2, label=\"Predictions\")\n",
    "draw_func((lambda X: n2g.inv_convert(model.predict(X)) ), mark='r-', linewidth=2, label=\"Predictions\")\n",
    "draw_normal_func(func_dict)\n",
    "plt.xlabel(\"$x_1$\", fontsize=18)\n",
    "plt.ylabel(\"$y$\", rotation=0, fontsize=18)\n",
    "plt.legend(loc=\"upper left\", fontsize=14)\n",
    "# plt.axis([-3, 3, 0, 10])\n",
    "save_fig(\"grid_rbc_prediction\")\n",
    "plt.show()"
   ]
  },
  {
   "cell_type": "code",
   "execution_count": 35,
   "id": "fc059ba5",
   "metadata": {},
   "outputs": [
    {
     "name": "stdout",
     "output_type": "stream",
     "text": [
      "y_func.shape = (100, 1)\n",
      "y_gt.shape = (100, 1)\n"
     ]
    },
    {
     "data": {
      "text/plain": [
       "3.578241950652532"
      ]
     },
     "execution_count": 35,
     "metadata": {},
     "output_type": "execute_result"
    }
   ],
   "source": [
    "get_prediction_error((lambda X: n2g.inv_convert(model.predict(X)) ), func_dict, name=\"grid-rbc\")"
   ]
  },
  {
   "cell_type": "code",
   "execution_count": 36,
   "id": "edcf26db",
   "metadata": {},
   "outputs": [
    {
     "name": "stdout",
     "output_type": "stream",
     "text": [
      "Saving figure grid_rbc_proba\n"
     ]
    },
    {
     "data": {
      "image/png": "[encoded data removed]",
      "text/plain": [
       "<Figure size 432x288 with 1 Axes>"
      ]
     },
     "metadata": {
      "needs_background": "light"
     },
     "output_type": "display_data"
    }
   ],
   "source": [
    "X_new = np.linspace(-5, 5, 100).reshape(100, 1)\n",
    "y_new_proba = model.predict(X_new)\n",
    "# y_new = n2g.inv_convert(y_new_proba)\n",
    "#\n",
    "xv, yv = np.meshgrid(X_new, np.linspace(n2g.x_min, n2g.x_max, n2g.units))\n",
    "# print(xv)\n",
    "# print(yv)\n",
    "plt.pcolormesh(xv, yv, y_new_proba.T, shading=\"nearest\")\n",
    "save_fig(\"grid_rbc_proba\")"
   ]
  },
  {
   "cell_type": "markdown",
   "id": "4064d3b5",
   "metadata": {},
   "source": [
    "### Draw the 1-sigma boundary line"
   ]
  },
  {
   "cell_type": "code",
   "execution_count": 37,
   "id": "247e8712",
   "metadata": {},
   "outputs": [
    {
     "name": "stdout",
     "output_type": "stream",
     "text": [
      "Saving figure grid_rbc_prediction_1sigma\n"
     ]
    },
    {
     "data": {
      "image/png": "[encoded data removed]",
      "text/plain": [
       "<Figure size 432x288 with 1 Axes>"
      ]
     },
     "metadata": {
      "needs_background": "light"
     },
     "output_type": "display_data"
    }
   ],
   "source": [
    "def n_sigma_boundary_line(X, n):\n",
    "    _mean, _sigma = n2g.get_statistic(model.predict(X))\n",
    "    return( _mean + n*_sigma)\n",
    "\n",
    "# plt.plot(X_train, y_train, \"b.\")\n",
    "draw_points(X_train, y_train, sid_train)\n",
    "#\n",
    "draw_func((lambda X: n2g.inv_convert(model.predict(X)) ), mark='r-', linewidth=2, label=\"Predictions\")\n",
    "draw_func((lambda X: n_sigma_boundary_line(X, +1.0) ), mark='k--', linewidth=1, label=\"$\\mu+\\sigma$\")\n",
    "draw_func((lambda X: n_sigma_boundary_line(X, -1.0) ), mark='k--', linewidth=1, label=\"$\\mu-\\sigma$\")\n",
    "#\n",
    "draw_normal_func(func_dict)\n",
    "plt.xlabel(\"$x_1$\", fontsize=18)\n",
    "plt.ylabel(\"$y$\", rotation=0, fontsize=18)\n",
    "plt.legend(loc=\"upper left\", fontsize=14)\n",
    "# plt.axis([-3, 3, 0, 10])\n",
    "save_fig(\"grid_rbc_prediction_1sigma\")\n",
    "plt.show()"
   ]
  },
  {
   "cell_type": "code",
   "execution_count": null,
   "id": "e6266336",
   "metadata": {},
   "outputs": [],
   "source": []
  },
  {
   "cell_type": "markdown",
   "id": "99a85ab5",
   "metadata": {},
   "source": [
    "# Grid & Regression by Classification + Offset Estimation (grid --> grid,num)"
   ]
  },
  {
   "cell_type": "code",
   "execution_count": 38,
   "id": "26440167",
   "metadata": {},
   "outputs": [],
   "source": [
    "class num2gridOffset_np():\n",
    "    def __init__(self, units, x_min=-10, x_max=10):\n",
    "        self.units = units\n",
    "        self.x_min = x_min\n",
    "        self.x_max = x_max\n",
    "        self.x_grid = np.linspace(self.x_min, self.x_max, self.units, endpoint=True)\n",
    "        # bins\n",
    "        x_space = np.average(self.x_grid[1:] - self.x_grid[:-1])\n",
    "        print(\"x_space = %f\" % x_space)\n",
    "        x_0 = self.x_grid[0] - 0.5 * x_space\n",
    "        self.x_bins = [x_0 + _i*x_space for _i in range(len(self.x_grid)+1)]\n",
    "        print(\"self.x_grid = %s\" % str(self.x_grid))\n",
    "#         print(\"self.x_bins = %s\" % str(self.x_bins))\n",
    "        \n",
    "    def convert(self, X):\n",
    "        '''\n",
    "        Convert a batch of number to one-hot class and numerical offset to each grid's center\n",
    "        (m, 1) --> (m, n_units, 2)\n",
    "        '''\n",
    "        X = np.array(X)\n",
    "        if len(X.shape) <= 1:\n",
    "            X = X.reshape((-1,1))\n",
    "        idxs_bin = np.digitize(X, self.x_bins, right=False) \n",
    "        idxs_grid = (idxs_bin - 1) + 1*(idxs_bin<= 0) - 1*(idxs_bin>=self.units)\n",
    "        print(idxs_grid.shape)\n",
    "        #\n",
    "        batch_size = X.shape[0]\n",
    "        grid = np.zeros((batch_size, self.units, 2))\n",
    "        # Fill in the values\n",
    "        grid[np.arange(batch_size), idxs_grid.reshape((-1,)), 0] = 1.0\n",
    "        grid[np.arange(batch_size), :, 1] = X - self.x_grid.reshape((1,-1)) # Offset\n",
    "        return grid\n",
    "    \n",
    "    def inv_convert(self, grid):\n",
    "        idxs_grid = np.argmax(grid[...,0], axis=1)\n",
    "        print(idxs_grid.shape)\n",
    "        #\n",
    "        batch_size = grid.shape[0]\n",
    "        offset_est = grid[np.arange(batch_size),idxs_grid,1]\n",
    "        print(offset_est.shape)\n",
    "        num_est = self.x_grid[idxs_grid].reshape((1,-1)) + offset_est\n",
    "        return num_est.reshape((-1,))"
   ]
  },
  {
   "cell_type": "code",
   "execution_count": 39,
   "id": "8b15e9ff",
   "metadata": {},
   "outputs": [
    {
     "name": "stdout",
     "output_type": "stream",
     "text": [
      "x_space = 22.222222\n",
      "self.x_grid = [-100.          -77.77777778  -55.55555556  -33.33333333  -11.11111111\n",
      "   11.11111111   33.33333333   55.55555556   77.77777778  100.        ]\n"
     ]
    }
   ],
   "source": [
    "class_num = 10 # 10\n",
    "n2go = num2gridOffset_np(class_num, x_min=-100.0, x_max=100.0) "
   ]
  },
  {
   "cell_type": "code",
   "execution_count": 40,
   "id": "8f6e7955",
   "metadata": {},
   "outputs": [
    {
     "name": "stdout",
     "output_type": "stream",
     "text": [
      "(2, 1)\n",
      "[[[   0.           98.8       ]\n",
      "  [   0.           76.57777778]\n",
      "  [   0.           54.35555556]\n",
      "  [   0.           32.13333333]\n",
      "  [   1.            9.91111111]\n",
      "  [   0.          -12.31111111]\n",
      "  [   0.          -34.53333333]\n",
      "  [   0.          -56.75555556]\n",
      "  [   0.          -78.97777778]\n",
      "  [   0.         -101.2       ]]\n",
      "\n",
      " [[   0.          150.5       ]\n",
      "  [   0.          128.27777778]\n",
      "  [   0.          106.05555556]\n",
      "  [   0.           83.83333333]\n",
      "  [   0.           61.61111111]\n",
      "  [   0.           39.38888889]\n",
      "  [   0.           17.16666667]\n",
      "  [   1.           -5.05555556]\n",
      "  [   0.          -27.27777778]\n",
      "  [   0.          -49.5       ]]]\n"
     ]
    }
   ],
   "source": [
    "# grid_1 = n2g.convert(-1.2)\n",
    "grid_1 = n2go.convert([[-1.2], [50.5]])\n",
    "print(grid_1)"
   ]
  },
  {
   "cell_type": "code",
   "execution_count": 41,
   "id": "48840dc5",
   "metadata": {},
   "outputs": [
    {
     "name": "stdout",
     "output_type": "stream",
     "text": [
      "(2,)\n",
      "(2,)\n"
     ]
    },
    {
     "data": {
      "text/plain": [
       "array([-1.2, 50.5])"
      ]
     },
     "execution_count": 41,
     "metadata": {},
     "output_type": "execute_result"
    }
   ],
   "source": [
    "n2go.inv_convert(grid_1)"
   ]
  },
  {
   "cell_type": "markdown",
   "id": "11683cea",
   "metadata": {},
   "source": [
    "### Convert the labels to grid (pre-processing)"
   ]
  },
  {
   "cell_type": "code",
   "execution_count": 42,
   "id": "472997cf",
   "metadata": {},
   "outputs": [
    {
     "name": "stdout",
     "output_type": "stream",
     "text": [
      "(80, 1)\n",
      "(20, 1)\n"
     ]
    }
   ],
   "source": [
    "y_train_grid_offset = n2go.convert(y_train)\n",
    "y_valid_grid_offset = n2go.convert(y_valid)"
   ]
  },
  {
   "cell_type": "code",
   "execution_count": 43,
   "id": "71f08d76",
   "metadata": {},
   "outputs": [
    {
     "name": "stdout",
     "output_type": "stream",
     "text": [
      "(80, 10, 2)\n",
      "(20, 10, 2)\n"
     ]
    }
   ],
   "source": [
    "print(y_train_grid_offset.shape)\n",
    "print(y_valid_grid_offset.shape)"
   ]
  },
  {
   "cell_type": "code",
   "execution_count": 44,
   "id": "84b5b833",
   "metadata": {},
   "outputs": [
    {
     "name": "stdout",
     "output_type": "stream",
     "text": [
      "X.shape = (None, 1)\n",
      "gauss_grid.shape = (None, 5)\n"
     ]
    }
   ],
   "source": [
    "inputs = keras.layers.Input(shape=X_train.shape[1:])\n",
    "#\n",
    "z = num2grid(5,x_min=-10, x_max=10, sigma=3.0)(inputs)\n",
    "z = keras.layers.Dense(30, activation=\"selu\")(z)\n",
    "# Outputs\n",
    "z_proba = keras.layers.Dense(30, activation=\"relu\")(z)\n",
    "z_proba  = keras.layers.Dense(class_num, activation=\"softmax\")(z_proba)\n",
    "z_offset = keras.layers.Dense(class_num, activation=\"relu\")(z)\n",
    "z_offset = keras.layers.Dense(class_num)(z_offset)\n",
    "# Concatenate\n",
    "z_proba  = keras.layers.Reshape([class_num,1])(z_proba)\n",
    "z_offset = keras.layers.Reshape([class_num,1])(z_offset)\n",
    "out_cat = keras.layers.Concatenate(axis=-1)([z_proba, z_offset])\n",
    "#\n",
    "# Models for trainig and real usage\n",
    "model = keras.Model(inputs=[inputs], outputs=[out_cat])"
   ]
  },
  {
   "cell_type": "code",
   "execution_count": 45,
   "id": "e6482574",
   "metadata": {},
   "outputs": [],
   "source": [
    "# Customized loss function\n",
    "\n",
    "cce = keras.losses.CategoricalCrossentropy(reduction=keras.losses.Reduction.NONE)\n",
    "# cce(y_true, y_pred).numpy()\n",
    "\n",
    "def centerLoss_fn(y_true, y_pred):\n",
    "    #\n",
    "    y_true_proba = y_true[...,0]\n",
    "    y_true_value = y_true[...,1]\n",
    "    #\n",
    "    y_pred_proba = y_pred[...,0]\n",
    "    y_pred_value = y_pred[...,1]\n",
    "    \n",
    "    #\n",
    "    cce_loss = cce(y_true_proba, y_pred_proba) / class_num\n",
    "    #\n",
    "    y_true_value_est = tf.reduce_sum((y_true_proba * y_true_value), axis=-1)\n",
    "    y_pred_value_est = tf.reduce_sum((y_true_proba * y_pred_value), axis=-1)\n",
    "#     y_pred_value_est = tf.reduce_sum((y_pred_proba * y_pred_value), axis=-1)\n",
    "    value_loss = tf.abs(y_pred_value_est - y_true_value_est)\n",
    "    \n",
    "    # Total loss\n",
    "#     return (0.5*cce_loss + 0.5*value_loss )\n",
    "    return (0.2*cce_loss + 0.8*value_loss )\n",
    "#     return (cce_loss)\n",
    "#     return (value_loss )"
   ]
  },
  {
   "cell_type": "code",
   "execution_count": 46,
   "id": "60575755",
   "metadata": {},
   "outputs": [
    {
     "name": "stderr",
     "output_type": "stream",
     "text": [
      "C:\\Users\\benso\\anaconda3\\envs\\ml\\lib\\site-packages\\keras\\optimizer_v2\\adam.py:105: UserWarning: The `lr` argument is deprecated, use `learning_rate` instead.\n",
      "  super(Adam, self).__init__(name, **kwargs)\n"
     ]
    }
   ],
   "source": [
    "# optimizer = keras.optimizers.SGD(lr=0.1, momentum=0.9)\n",
    "optimizer = keras.optimizers.Adam(lr=0.05)\n",
    "model.compile(loss=centerLoss_fn, optimizer=optimizer)"
   ]
  },
  {
   "cell_type": "code",
   "execution_count": 47,
   "id": "09bc47a5",
   "metadata": {
    "scrolled": true
   },
   "outputs": [],
   "source": [
    "# history = model.fit(X_train, y_train_grid_offset, epochs=100,\n",
    "#                     validation_data=(X_valid, y_valid_grid_offset))"
   ]
  },
  {
   "cell_type": "code",
   "execution_count": 48,
   "id": "7ba1fe76",
   "metadata": {},
   "outputs": [],
   "source": [
    "# import pandas as pd\n",
    "\n",
    "# pd.DataFrame(history.history).plot(figsize=(8, 5))\n",
    "# plt.grid(True)\n",
    "# # plt.gca().set_ylim(0, 1)\n",
    "# save_fig(\"grid_rbcOffset_training_curve\")\n",
    "# plt.show()"
   ]
  },
  {
   "cell_type": "code",
   "execution_count": 49,
   "id": "47db8336",
   "metadata": {
    "scrolled": false
   },
   "outputs": [],
   "source": [
    "# # plt.plot(X_train, y_train, \"b.\")\n",
    "# draw_points(X_train, y_train, sid_train)\n",
    "# draw_func((lambda X: n2go.inv_convert(model.predict(X)) ), mark='r-', linewidth=2, label=\"Predictions\")\n",
    "# draw_normal_func(func_dict)\n",
    "# plt.xlabel(\"$x_1$\", fontsize=18)\n",
    "# plt.ylabel(\"$y$\", rotation=0, fontsize=18)\n",
    "# plt.legend(loc=\"upper left\", fontsize=14)\n",
    "# # plt.axis([-3, 3, 0, 10])\n",
    "# save_fig(\"grid_rbcOffset_prediction\")\n",
    "# plt.show()"
   ]
  },
  {
   "cell_type": "code",
   "execution_count": 50,
   "id": "46a1a384",
   "metadata": {},
   "outputs": [],
   "source": [
    "# get_prediction_error((lambda X: n2go.inv_convert(model.predict(X)) ), func_dict, name=\"grid-classOffset\")"
   ]
  },
  {
   "cell_type": "code",
   "execution_count": null,
   "id": "fff995a6",
   "metadata": {},
   "outputs": [],
   "source": []
  },
  {
   "cell_type": "markdown",
   "id": "a811f344",
   "metadata": {},
   "source": [
    "# Parametric Uncertainty/Distribution Estimation\n",
    "\n",
    "In this section, we try to estimate uncertainty (actually, fit the dataset distribution) with parametric reprecentation of a distribution instead of a discretized non-parametric representation.\n",
    "\n",
    "Possible solution includes\n",
    "- Quantile estimation with pinball loss (statistic)\n",
    "- Guassian distribution (fit a prabability distribution)"
   ]
  },
  {
   "cell_type": "markdown",
   "id": "175eb32d",
   "metadata": {},
   "source": [
    "## Quantile Estimation with Pinball Loss (grid --> parameters)\n",
    "\n",
    "Quantile estimation and pinball loss is based on the concept of statistic, which predict the value based on the rank of samples in the dataset.\n",
    "\n",
    "The outputs of the model are $(y_{10}, y_{90})$, 10% quantile prediction and 90% quantile prediction, respectively."
   ]
  },
  {
   "cell_type": "code",
   "execution_count": 51,
   "id": "1d1ef92d",
   "metadata": {},
   "outputs": [],
   "source": [
    "# quantile_list = [0.5]\n",
    "# quantile_list = [0.9]\n",
    "quantile_list = [0.1, 0.9] # Use hidden layer with 30 neurons\n",
    "# quantile_list = [0.05, 0.95]\n",
    "# quantile_list = [0.25, 0.75]\n",
    "# quantile_list = [0.1, 0.5, 0.9]\n",
    "# quantile_list = [0.1, 0.3, 0.7, 0.9]\n",
    "# quantile_list = [0.1, 0.2, 0.3, 0.4, 0.6, 0.7, 0.8, 0.9] # remove 0.5\n",
    "# quantile_list = [0.1, 0.2, 0.3, 0.4, 0.5, 0.6, 0.7, 0.8, 0.9] # Should use wider hidden layer (with many neurons) + L1 regularization\n",
    "num_quantile = len(quantile_list)"
   ]
  },
  {
   "cell_type": "code",
   "execution_count": 52,
   "id": "8e3fe57b",
   "metadata": {},
   "outputs": [
    {
     "name": "stdout",
     "output_type": "stream",
     "text": [
      "X.shape = (None, 1)\n",
      "gauss_grid.shape = (None, 5)\n"
     ]
    }
   ],
   "source": [
    "model = keras.models.Sequential([\n",
    "    num2grid(5,x_min=-10, x_max=10, sigma=3.0, input_shape=X_train.shape[1:]),\n",
    "#     num2grid(50,x_min=-10, x_max=10, sigma=0.5, input_shape=X_train.shape[1:]),\n",
    "    keras.layers.Dense(30, activation=\"relu\"),\n",
    "#     keras.layers.Dense(60, activation=\"relu\"),\n",
    "#     keras.layers.Dense(100, activation=\"relu\", kernel_regularizer=tf.keras.regularizers.l1(0.01)),\n",
    "#     keras.layers.Dense(30, activation=keras.layers.LeakyReLU(alpha=0.2) ),\n",
    "#     keras.layers.Dense(30, activation=\"selu\"),\n",
    "    keras.layers.Dense(num_quantile) # (y10, y90)\n",
    "])"
   ]
  },
  {
   "cell_type": "code",
   "execution_count": 53,
   "id": "bf131dc7",
   "metadata": {},
   "outputs": [],
   "source": [
    "# Customized loss function\n",
    "def pinballLoss_fn(y_true, y_pred, tau):\n",
    "    # tau: quantile, tau in [0.0, 1.0]\n",
    "    # y_true: label mean\n",
    "    # y_pred: predicted tau quantile\n",
    "    _q = y_true - y_pred\n",
    "    return tf.math.maximum( (tau*_q), ((tau-1.0)*_q))\n",
    "    \n",
    "def pinballLoss_10_90_fn(y_true, y_pred):\n",
    "    #\n",
    "    return pinballLoss_fn(y_true, y_pred[:,0:1], 0.1) + pinballLoss_fn(y_true, y_pred[:,1:2], 0.9)\n",
    "\n",
    "def pinballLoss_full_fn(y_true, y_pred):\n",
    "    #\n",
    "    pinball_losses = tf.stack( [pinballLoss_fn(y_true, y_pred[:, _i:(_i+1)], _tau) for _i, _tau in enumerate(quantile_list)], axis=1)\n",
    "    return tf.reduce_sum(pinball_losses, axis=1)"
   ]
  },
  {
   "cell_type": "code",
   "execution_count": 54,
   "id": "a71305d5",
   "metadata": {},
   "outputs": [],
   "source": [
    "# optimizer = keras.optimizers.SGD(lr=0.1, momentum=0.9)\n",
    "optimizer = keras.optimizers.Adam(lr=0.1)\n",
    "# model.compile(loss=pinballLoss_10_90_fn, optimizer=optimizer)\n",
    "model.compile(loss=pinballLoss_full_fn, optimizer=optimizer)"
   ]
  },
  {
   "cell_type": "code",
   "execution_count": 55,
   "id": "d935c409",
   "metadata": {
    "scrolled": true
   },
   "outputs": [
    {
     "name": "stdout",
     "output_type": "stream",
     "text": [
      "Epoch 1/100\n",
      "X.shape = (None, 1)\n",
      "gauss_grid.shape = (None, 5)\n",
      "X.shape = (None, 1)\n",
      "gauss_grid.shape = (None, 5)\n",
      "1/3 [=========>....................] - ETA: 0s - loss: 39.0457X.shape = (None, 1)\n",
      "gauss_grid.shape = (None, 5)\n",
      "3/3 [==============================] - 1s 107ms/step - loss: 41.2952 - val_loss: 31.9764\n",
      "Epoch 2/100\n",
      "3/3 [==============================] - 0s 27ms/step - loss: 37.7115 - val_loss: 27.3212\n",
      "Epoch 3/100\n",
      "3/3 [==============================] - 0s 36ms/step - loss: 31.6263 - val_loss: 20.6927\n",
      "Epoch 4/100\n",
      "3/3 [==============================] - 0s 43ms/step - loss: 23.9378 - val_loss: 13.7082\n",
      "Epoch 5/100\n",
      "3/3 [==============================] - 0s 32ms/step - loss: 17.4503 - val_loss: 11.8508\n",
      "Epoch 6/100\n",
      "3/3 [==============================] - 0s 36ms/step - loss: 14.8380 - val_loss: 13.6598\n",
      "Epoch 7/100\n",
      "3/3 [==============================] - 0s 40ms/step - loss: 14.4990 - val_loss: 14.3712\n",
      "Epoch 8/100\n",
      "3/3 [==============================] - 0s 40ms/step - loss: 14.7100 - val_loss: 13.1600\n",
      "Epoch 9/100\n",
      "3/3 [==============================] - 0s 24ms/step - loss: 13.6148 - val_loss: 11.3919\n",
      "Epoch 10/100\n",
      "3/3 [==============================] - 0s 31ms/step - loss: 12.2202 - val_loss: 9.9810\n",
      "Epoch 11/100\n",
      "3/3 [==============================] - 0s 22ms/step - loss: 10.2263 - val_loss: 8.1890\n",
      "Epoch 12/100\n",
      "3/3 [==============================] - 0s 23ms/step - loss: 8.5027 - val_loss: 6.2474\n",
      "Epoch 13/100\n",
      "3/3 [==============================] - 0s 19ms/step - loss: 7.1783 - val_loss: 4.7195\n",
      "Epoch 14/100\n",
      "3/3 [==============================] - 0s 23ms/step - loss: 6.1871 - val_loss: 4.6537\n",
      "Epoch 15/100\n",
      "3/3 [==============================] - 0s 25ms/step - loss: 6.4808 - val_loss: 4.9307\n",
      "Epoch 16/100\n",
      "3/3 [==============================] - 0s 24ms/step - loss: 6.3837 - val_loss: 4.8164\n",
      "Epoch 17/100\n",
      "3/3 [==============================] - 0s 15ms/step - loss: 5.7187 - val_loss: 5.5204\n",
      "Epoch 18/100\n",
      "3/3 [==============================] - 0s 20ms/step - loss: 5.7825 - val_loss: 5.7147\n",
      "Epoch 19/100\n",
      "3/3 [==============================] - 0s 21ms/step - loss: 5.6770 - val_loss: 5.5464\n",
      "Epoch 20/100\n",
      "3/3 [==============================] - 0s 19ms/step - loss: 5.4821 - val_loss: 5.1991\n",
      "Epoch 21/100\n",
      "3/3 [==============================] - 0s 16ms/step - loss: 5.1168 - val_loss: 4.3493\n",
      "Epoch 22/100\n",
      "3/3 [==============================] - 0s 17ms/step - loss: 4.9325 - val_loss: 3.8582\n",
      "Epoch 23/100\n",
      "3/3 [==============================] - 0s 17ms/step - loss: 5.0420 - val_loss: 3.6404\n",
      "Epoch 24/100\n",
      "3/3 [==============================] - 0s 22ms/step - loss: 4.8397 - val_loss: 3.8887\n",
      "Epoch 25/100\n",
      "3/3 [==============================] - 0s 16ms/step - loss: 4.7477 - val_loss: 3.9603\n",
      "Epoch 26/100\n",
      "3/3 [==============================] - 0s 16ms/step - loss: 4.6007 - val_loss: 4.0806\n",
      "Epoch 27/100\n",
      "3/3 [==============================] - 0s 22ms/step - loss: 4.5062 - val_loss: 3.9402\n",
      "Epoch 28/100\n",
      "3/3 [==============================] - 0s 14ms/step - loss: 4.3530 - val_loss: 3.8591\n",
      "Epoch 29/100\n",
      "3/3 [==============================] - 0s 22ms/step - loss: 4.2398 - val_loss: 3.4654\n",
      "Epoch 30/100\n",
      "3/3 [==============================] - 0s 17ms/step - loss: 4.2760 - val_loss: 3.2849\n",
      "Epoch 31/100\n",
      "3/3 [==============================] - 0s 16ms/step - loss: 4.1348 - val_loss: 3.4682\n",
      "Epoch 32/100\n",
      "3/3 [==============================] - 0s 22ms/step - loss: 4.0043 - val_loss: 3.4241\n",
      "Epoch 33/100\n",
      "3/3 [==============================] - 0s 14ms/step - loss: 3.8473 - val_loss: 3.4940\n",
      "Epoch 34/100\n",
      "3/3 [==============================] - 0s 19ms/step - loss: 3.8204 - val_loss: 3.4584\n",
      "Epoch 35/100\n",
      "3/3 [==============================] - 0s 23ms/step - loss: 3.7094 - val_loss: 3.5645\n",
      "Epoch 36/100\n",
      "3/3 [==============================] - 0s 13ms/step - loss: 3.5809 - val_loss: 3.2676\n",
      "Epoch 37/100\n",
      "3/3 [==============================] - 0s 17ms/step - loss: 3.4949 - val_loss: 3.1799\n",
      "Epoch 38/100\n",
      "3/3 [==============================] - 0s 20ms/step - loss: 3.3403 - val_loss: 3.1325\n",
      "Epoch 39/100\n",
      "3/3 [==============================] - 0s 19ms/step - loss: 3.3156 - val_loss: 3.0966\n",
      "Epoch 40/100\n",
      "3/3 [==============================] - 0s 16ms/step - loss: 3.1833 - val_loss: 2.8869\n",
      "Epoch 41/100\n",
      "3/3 [==============================] - 0s 17ms/step - loss: 3.1311 - val_loss: 2.9820\n",
      "Epoch 42/100\n",
      "3/3 [==============================] - 0s 23ms/step - loss: 3.0300 - val_loss: 2.9932\n",
      "Epoch 43/100\n",
      "3/3 [==============================] - 0s 18ms/step - loss: 3.0710 - val_loss: 2.9568\n",
      "Epoch 44/100\n",
      "3/3 [==============================] - 0s 16ms/step - loss: 3.0112 - val_loss: 2.7473\n",
      "Epoch 45/100\n",
      "3/3 [==============================] - 0s 20ms/step - loss: 2.9403 - val_loss: 2.6874\n",
      "Epoch 46/100\n",
      "3/3 [==============================] - 0s 17ms/step - loss: 3.0728 - val_loss: 2.7724\n",
      "Epoch 47/100\n",
      "3/3 [==============================] - 0s 18ms/step - loss: 2.8749 - val_loss: 3.0635\n",
      "Epoch 48/100\n",
      "3/3 [==============================] - 0s 20ms/step - loss: 3.0334 - val_loss: 3.0249\n",
      "Epoch 49/100\n",
      "3/3 [==============================] - 0s 20ms/step - loss: 2.8203 - val_loss: 2.6390\n",
      "Epoch 50/100\n",
      "3/3 [==============================] - 0s 17ms/step - loss: 2.8024 - val_loss: 2.5335\n",
      "Epoch 51/100\n",
      "3/3 [==============================] - 0s 16ms/step - loss: 2.8151 - val_loss: 2.8398\n",
      "Epoch 52/100\n",
      "3/3 [==============================] - 0s 21ms/step - loss: 2.8540 - val_loss: 3.0823\n",
      "Epoch 53/100\n",
      "3/3 [==============================] - 0s 21ms/step - loss: 3.0170 - val_loss: 2.9509\n",
      "Epoch 54/100\n",
      "3/3 [==============================] - 0s 17ms/step - loss: 2.8136 - val_loss: 2.4268\n",
      "Epoch 55/100\n",
      "3/3 [==============================] - 0s 17ms/step - loss: 2.8134 - val_loss: 2.4934\n",
      "Epoch 56/100\n",
      "3/3 [==============================] - 0s 19ms/step - loss: 2.8456 - val_loss: 2.7435\n",
      "Epoch 57/100\n",
      "3/3 [==============================] - 0s 20ms/step - loss: 2.7300 - val_loss: 3.1402\n",
      "Epoch 58/100\n",
      "3/3 [==============================] - 0s 17ms/step - loss: 2.9148 - val_loss: 3.0497\n",
      "Epoch 59/100\n",
      "3/3 [==============================] - 0s 18ms/step - loss: 2.8142 - val_loss: 2.7728\n",
      "Epoch 60/100\n",
      "3/3 [==============================] - 0s 20ms/step - loss: 2.6970 - val_loss: 2.7201\n",
      "Epoch 61/100\n",
      "3/3 [==============================] - 0s 22ms/step - loss: 2.7071 - val_loss: 2.5341\n",
      "Epoch 62/100\n",
      "3/3 [==============================] - 0s 17ms/step - loss: 2.6175 - val_loss: 2.7848\n",
      "Epoch 63/100\n",
      "3/3 [==============================] - 0s 19ms/step - loss: 2.7395 - val_loss: 2.8459\n",
      "Epoch 64/100\n",
      "3/3 [==============================] - 0s 21ms/step - loss: 2.6840 - val_loss: 2.6945\n",
      "Epoch 65/100\n",
      "3/3 [==============================] - 0s 18ms/step - loss: 2.5960 - val_loss: 2.4655\n",
      "Epoch 66/100\n",
      "3/3 [==============================] - 0s 21ms/step - loss: 2.7575 - val_loss: 2.7141\n",
      "Epoch 67/100\n",
      "3/3 [==============================] - 0s 20ms/step - loss: 2.6882 - val_loss: 3.0608\n",
      "Epoch 68/100\n",
      "3/3 [==============================] - 0s 17ms/step - loss: 2.8352 - val_loss: 2.8179\n",
      "Epoch 69/100\n",
      "3/3 [==============================] - 0s 17ms/step - loss: 2.7141 - val_loss: 2.5424\n",
      "Epoch 70/100\n",
      "3/3 [==============================] - 0s 21ms/step - loss: 2.6272 - val_loss: 2.5723\n",
      "Epoch 71/100\n",
      "3/3 [==============================] - 0s 21ms/step - loss: 2.8340 - val_loss: 2.8328\n",
      "Epoch 72/100\n",
      "3/3 [==============================] - 0s 23ms/step - loss: 2.6733 - val_loss: 2.8604\n",
      "Epoch 73/100\n",
      "3/3 [==============================] - 0s 15ms/step - loss: 2.6788 - val_loss: 2.7397\n",
      "Epoch 74/100\n",
      "3/3 [==============================] - 0s 17ms/step - loss: 2.5992 - val_loss: 2.7083\n",
      "Epoch 75/100\n",
      "3/3 [==============================] - 0s 17ms/step - loss: 2.6406 - val_loss: 2.6654\n",
      "Epoch 76/100\n",
      "3/3 [==============================] - 0s 20ms/step - loss: 2.6906 - val_loss: 2.6675\n",
      "Epoch 77/100\n",
      "3/3 [==============================] - 0s 17ms/step - loss: 2.5733 - val_loss: 2.7783\n",
      "Epoch 78/100\n",
      "3/3 [==============================] - 0s 18ms/step - loss: 2.7780 - val_loss: 2.8662\n",
      "Epoch 79/100\n",
      "3/3 [==============================] - 0s 22ms/step - loss: 2.6500 - val_loss: 2.6196\n",
      "Epoch 80/100\n",
      "3/3 [==============================] - 0s 17ms/step - loss: 2.5283 - val_loss: 2.6626\n",
      "Epoch 81/100\n"
     ]
    },
    {
     "name": "stdout",
     "output_type": "stream",
     "text": [
      "3/3 [==============================] - 0s 16ms/step - loss: 2.7632 - val_loss: 2.7820\n",
      "Epoch 82/100\n",
      "3/3 [==============================] - 0s 17ms/step - loss: 3.0384 - val_loss: 3.2146\n",
      "Epoch 83/100\n",
      "3/3 [==============================] - 0s 21ms/step - loss: 3.0201 - val_loss: 3.1346\n",
      "Epoch 84/100\n",
      "3/3 [==============================] - 0s 17ms/step - loss: 2.8486 - val_loss: 2.6023\n",
      "Epoch 85/100\n",
      "3/3 [==============================] - 0s 22ms/step - loss: 2.8646 - val_loss: 2.6277\n",
      "Epoch 86/100\n",
      "3/3 [==============================] - 0s 17ms/step - loss: 2.7353 - val_loss: 2.8624\n",
      "Epoch 87/100\n",
      "3/3 [==============================] - 0s 17ms/step - loss: 2.7069 - val_loss: 2.9289\n",
      "Epoch 88/100\n",
      "3/3 [==============================] - 0s 21ms/step - loss: 2.6920 - val_loss: 2.7467\n",
      "Epoch 89/100\n",
      "3/3 [==============================] - 0s 13ms/step - loss: 2.6531 - val_loss: 2.6694\n",
      "Epoch 90/100\n",
      "3/3 [==============================] - 0s 20ms/step - loss: 2.7352 - val_loss: 2.9072\n",
      "Epoch 91/100\n",
      "3/3 [==============================] - 0s 17ms/step - loss: 2.7338 - val_loss: 2.8041\n",
      "Epoch 92/100\n",
      "3/3 [==============================] - 0s 17ms/step - loss: 2.6192 - val_loss: 2.5187\n",
      "Epoch 93/100\n",
      "3/3 [==============================] - 0s 19ms/step - loss: 2.9174 - val_loss: 2.5418\n",
      "Epoch 94/100\n",
      "3/3 [==============================] - 0s 17ms/step - loss: 2.5716 - val_loss: 2.7796\n",
      "Epoch 95/100\n",
      "3/3 [==============================] - 0s 21ms/step - loss: 2.7958 - val_loss: 2.8467\n",
      "Epoch 96/100\n",
      "3/3 [==============================] - 0s 14ms/step - loss: 2.7836 - val_loss: 2.8558\n",
      "Epoch 97/100\n",
      "3/3 [==============================] - 0s 21ms/step - loss: 2.7676 - val_loss: 2.8063\n",
      "Epoch 98/100\n",
      "3/3 [==============================] - 0s 14ms/step - loss: 2.6571 - val_loss: 2.4798\n",
      "Epoch 99/100\n",
      "3/3 [==============================] - 0s 20ms/step - loss: 2.6708 - val_loss: 2.5952\n",
      "Epoch 100/100\n",
      "3/3 [==============================] - 0s 17ms/step - loss: 2.6344 - val_loss: 2.7621\n"
     ]
    }
   ],
   "source": [
    "history = model.fit(X_train, y_train, epochs=100,\n",
    "                    validation_data=(X_valid, y_valid))"
   ]
  },
  {
   "cell_type": "code",
   "execution_count": 56,
   "id": "e7fa5656",
   "metadata": {
    "scrolled": false
   },
   "outputs": [
    {
     "name": "stdout",
     "output_type": "stream",
     "text": [
      "Saving figure grid_quantile_training_curve\n"
     ]
    },
    {
     "data": {
      "image/png": "[encoded data removed]",
      "text/plain": [
       "<Figure size 576x360 with 1 Axes>"
      ]
     },
     "metadata": {
      "needs_background": "light"
     },
     "output_type": "display_data"
    }
   ],
   "source": [
    "import pandas as pd\n",
    "\n",
    "pd.DataFrame(history.history).plot(figsize=(8, 5))\n",
    "plt.grid(True)\n",
    "# plt.gca().set_ylim(0, 1)\n",
    "save_fig(\"grid_quantile_training_curve\")\n",
    "plt.show()"
   ]
  },
  {
   "cell_type": "markdown",
   "id": "a4a59dd6",
   "metadata": {},
   "source": [
    "### Draw the mean prediction curve averaged from all quantile predictions."
   ]
  },
  {
   "cell_type": "code",
   "execution_count": 57,
   "id": "0e5d0058",
   "metadata": {},
   "outputs": [
    {
     "name": "stdout",
     "output_type": "stream",
     "text": [
      "X.shape = (None, 1)\n",
      "gauss_grid.shape = (None, 5)\n",
      "Saving figure grid_quantile_prediction\n"
     ]
    },
    {
     "data": {
      "image/png": "[encoded data removed]",
      "text/plain": [
       "<Figure size 432x288 with 1 Axes>"
      ]
     },
     "metadata": {
      "needs_background": "light"
     },
     "output_type": "display_data"
    }
   ],
   "source": [
    "# plt.plot(X_train, y_train, \"b.\")\n",
    "draw_points(X_train, y_train, sid_train)\n",
    "draw_func((lambda X: np.average(model.predict(X), axis=-1) ), mark='r-', linewidth=2, label=\"Predictions\")\n",
    "# draw_func((lambda X: model.predict(X)[:,0] ), mark='k--', linewidth=1, label=\"$y_{%d}$\" % (quantile_list[0]*100))\n",
    "# draw_func((lambda X: model.predict(X)[:,-1] ), mark='k--', linewidth=1, label=\"$y_{%d}$\" % (quantile_list[-1]*100))\n",
    "draw_normal_func(func_dict)\n",
    "plt.xlabel(\"$x_1$\", fontsize=18)\n",
    "plt.ylabel(\"$y$\", rotation=0, fontsize=18)\n",
    "plt.legend(loc=\"upper left\", fontsize=14)\n",
    "# plt.axis([-3, 3, 0, 10])\n",
    "save_fig(\"grid_quantile_prediction\")\n",
    "plt.show()"
   ]
  },
  {
   "cell_type": "code",
   "execution_count": 58,
   "id": "f98d3ae8",
   "metadata": {},
   "outputs": [
    {
     "name": "stdout",
     "output_type": "stream",
     "text": [
      "y_func.shape = (100, 1)\n",
      "y_gt.shape = (100, 1)\n"
     ]
    },
    {
     "data": {
      "text/plain": [
       "1.4310839669315498"
      ]
     },
     "execution_count": 58,
     "metadata": {},
     "output_type": "execute_result"
    }
   ],
   "source": [
    "get_prediction_error((lambda X: np.average(model.predict(X), axis=-1) ), func_dict, name=\"grid-quantileR\")"
   ]
  },
  {
   "cell_type": "markdown",
   "id": "f79ac920",
   "metadata": {},
   "source": [
    "### Draw first and last quantile curve."
   ]
  },
  {
   "cell_type": "code",
   "execution_count": 59,
   "id": "42eeb254",
   "metadata": {},
   "outputs": [
    {
     "name": "stdout",
     "output_type": "stream",
     "text": [
      "Saving figure grid_quantile_boundary_quantiles\n"
     ]
    },
    {
     "data": {
      "image/png": "[encoded data removed]",
      "text/plain": [
       "<Figure size 432x288 with 1 Axes>"
      ]
     },
     "metadata": {
      "needs_background": "light"
     },
     "output_type": "display_data"
    }
   ],
   "source": [
    "# plt.plot(X_train, y_train, \"b.\")\n",
    "draw_points(X_train, y_train, sid_train)\n",
    "draw_func((lambda X: np.average(model.predict(X), axis=-1) ), mark='r-', linewidth=2, label=\"Predictions\")\n",
    "draw_func((lambda X: model.predict(X)[:,0] ), mark='k--', linewidth=1, label=\"$y_{%d}$\" % (quantile_list[0]*100))\n",
    "draw_func((lambda X: model.predict(X)[:,-1] ), mark='k--', linewidth=1, label=\"$y_{%d}$\" % (quantile_list[-1]*100))\n",
    "draw_normal_func(func_dict)\n",
    "plt.xlabel(\"$x_1$\", fontsize=18)\n",
    "plt.ylabel(\"$y$\", rotation=0, fontsize=18)\n",
    "plt.legend(loc=\"upper left\", fontsize=14)\n",
    "# plt.axis([-3, 3, 0, 10])\n",
    "save_fig(\"grid_quantile_boundary_quantiles\")\n",
    "plt.show()"
   ]
  },
  {
   "cell_type": "markdown",
   "id": "2a1b1b44",
   "metadata": {},
   "source": [
    "### Draw all quantile predictions"
   ]
  },
  {
   "cell_type": "code",
   "execution_count": 60,
   "id": "5e875238",
   "metadata": {},
   "outputs": [
    {
     "name": "stdout",
     "output_type": "stream",
     "text": [
      "Saving figure grid_quantile_all_quantiles\n"
     ]
    },
    {
     "data": {
      "image/png": "[encoded data removed]",
      "text/plain": [
       "<Figure size 432x288 with 1 Axes>"
      ]
     },
     "metadata": {
      "needs_background": "light"
     },
     "output_type": "display_data"
    }
   ],
   "source": [
    "# plt.plot(X_train, y_train, \"b.\")\n",
    "draw_points(X_train, y_train, sid_train)\n",
    "draw_func((lambda X: np.average(model.predict(X), axis=-1) ), mark='r-', linewidth=2, label=\"Predictions\")\n",
    "for _idx, _tau in enumerate(quantile_list):\n",
    "    draw_func((lambda X: model.predict(X)[:,_idx] ), mark='k--', linewidth=1, label=\"$y_{%d}$\" % (_tau*100))\n",
    "draw_normal_func(func_dict)\n",
    "plt.xlabel(\"$x_1$\", fontsize=18)\n",
    "plt.ylabel(\"$y$\", rotation=0, fontsize=18)\n",
    "plt.legend(loc=\"upper left\", fontsize=14)\n",
    "# plt.axis([-3, 3, 0, 10])\n",
    "save_fig(\"grid_quantile_all_quantiles\")\n",
    "plt.show()"
   ]
  },
  {
   "cell_type": "markdown",
   "id": "0693a8eb",
   "metadata": {},
   "source": [
    "### Multi-Quantiles as a Gaussian Distribution "
   ]
  },
  {
   "cell_type": "code",
   "execution_count": 61,
   "id": "11262fbe",
   "metadata": {},
   "outputs": [],
   "source": [
    "# def n_sigma_boundary_line(X, n):\n",
    "#     _y = model.predict(X)\n",
    "#     _mean = np.mean(_y, axis=-1)\n",
    "#     _sigma = np.std(_y, axis=-1)\n",
    "#     return( _mean + n*_sigma)\n",
    "\n",
    "# # plt.plot(X_train, y_train, \"b.\")\n",
    "# draw_points(X_train, y_train, sid_train)\n",
    "# #\n",
    "# draw_func((lambda X: np.average(model.predict(X), axis=-1) ), mark='r-', linewidth=2, label=\"Predictions\")\n",
    "# draw_func((lambda X: n_sigma_boundary_line(X, +1.0) ), mark='k--', linewidth=1, label=\"$\\mu+\\sigma$\")\n",
    "# draw_func((lambda X: n_sigma_boundary_line(X, -1.0) ), mark='k--', linewidth=1, label=\"$\\mu-\\sigma$\")\n",
    "# #\n",
    "# draw_normal_func(func_dict)\n",
    "# plt.xlabel(\"$x_1$\", fontsize=18)\n",
    "# plt.ylabel(\"$y$\", rotation=0, fontsize=18)\n",
    "# plt.legend(loc=\"upper left\", fontsize=14)\n",
    "# # plt.axis([-3, 3, 0, 10])\n",
    "# save_fig(\"grid_quantile_1sigma\")\n",
    "# plt.show()"
   ]
  },
  {
   "cell_type": "markdown",
   "id": "9a01aa69",
   "metadata": {},
   "source": [
    "## Gaussian Estimation with Gaussian Loss (grid-->parameters)\n",
    "\n",
    "Gaussain estimation requires the model to predict the mean and variance of a Gaussian distribution of the random variable regarded. The training purpose is to fit a Gaussian distribution to the data distribution (which is not necessay distributed as Gaussian).\n",
    "\n",
    "One possible solution, derived by BensonHuang, is that the model estimates $(\\mu, z)$, where $z=\\alpha ^{-1}log(\\sigma)$.\n",
    "The associated loss function can be $L_G(y, (\\mu,z)) = 0.5e^{-2\\alpha z}(y-\\mu)^2 + \\alpha z$."
   ]
  },
  {
   "cell_type": "code",
   "execution_count": 62,
   "id": "1a20d5dd",
   "metadata": {},
   "outputs": [],
   "source": [
    "alpha = 1.0\n",
    "# alpha = 0.01\n",
    "# alpha = 0.001"
   ]
  },
  {
   "cell_type": "code",
   "execution_count": 63,
   "id": "cb202ed2",
   "metadata": {},
   "outputs": [
    {
     "name": "stdout",
     "output_type": "stream",
     "text": [
      "X.shape = (None, 1)\n",
      "gauss_grid.shape = (None, 5)\n"
     ]
    }
   ],
   "source": [
    "model = keras.models.Sequential([\n",
    "    num2grid(5,x_min=-10, x_max=10, sigma=3.0, input_shape=X_train.shape[1:]),\n",
    "#     keras.layers.Dense(30, activation=\"relu\"),\n",
    "    keras.layers.Dense(60, activation=\"relu\"),\n",
    "#     keras.layers.Dense(30, activation=keras.layers.LeakyReLU(alpha=0.2) ),\n",
    "#     keras.layers.Dense(30, activation=\"selu\"),\n",
    "    keras.layers.Dense(2) # (mu, z)\n",
    "])"
   ]
  },
  {
   "cell_type": "code",
   "execution_count": 64,
   "id": "925f0a22",
   "metadata": {},
   "outputs": [
    {
     "name": "stdout",
     "output_type": "stream",
     "text": [
      "alpha = 1.000000\n"
     ]
    }
   ],
   "source": [
    "# Customized loss function\n",
    "print(\"alpha = %f\" % alpha)\n",
    "\n",
    "def GaussianLoss_fn(y_true, y_pred):\n",
    "    # y_true: label \n",
    "    # y_pred: (mu, z), z=log(sigma)\n",
    "    mu = y_pred[:, 0:1]\n",
    "    z  = y_pred[:, 1:2]\n",
    "    #\n",
    "    en2z = tf.math.exp((-2.0*alpha)*z)\n",
    "    ymu2 = (y_true - mu)**2\n",
    "    return (0.5*en2z*ymu2 + alpha*z)"
   ]
  },
  {
   "cell_type": "code",
   "execution_count": 65,
   "id": "1b388b4b",
   "metadata": {},
   "outputs": [],
   "source": [
    "# Learning rate scheduler\n",
    "learning_rate_switch_epoch_list = [30, 45]\n",
    "learning_rate_list = [0.001, 0.01, 0.1]\n",
    "# learning_rate_switch_epoch_list = [30, 80]\n",
    "# learning_rate_list = [0.01, 0.1, 0.01]\n",
    "#\n",
    "def piecewise_constant_fn(epoch):\n",
    "    for _i, epoch_s in enumerate(learning_rate_switch_epoch_list):\n",
    "        if epoch < epoch_s:\n",
    "            return learning_rate_list[_i]\n",
    "    return learning_rate_list[-1]\n",
    "\n",
    "lr_scheduler = keras.callbacks.LearningRateScheduler(piecewise_constant_fn)"
   ]
  },
  {
   "cell_type": "markdown",
   "id": "6ec2e05e",
   "metadata": {},
   "source": [
    "Third training with even greater speed"
   ]
  },
  {
   "cell_type": "code",
   "execution_count": 66,
   "id": "7a7e245b",
   "metadata": {},
   "outputs": [
    {
     "name": "stderr",
     "output_type": "stream",
     "text": [
      "C:\\Users\\benso\\anaconda3\\envs\\ml\\lib\\site-packages\\keras\\optimizer_v2\\adam.py:105: UserWarning: The `lr` argument is deprecated, use `learning_rate` instead.\n",
      "  super(Adam, self).__init__(name, **kwargs)\n"
     ]
    }
   ],
   "source": [
    "# optimizer = keras.optimizers.SGD(lr=0.1, momentum=0.9)\n",
    "optimizer = keras.optimizers.Adam(lr=0.1) # 0.1\n",
    "model.compile(loss=GaussianLoss_fn, optimizer=optimizer)"
   ]
  },
  {
   "cell_type": "code",
   "execution_count": 67,
   "id": "6d7b74a9",
   "metadata": {
    "scrolled": true
   },
   "outputs": [
    {
     "name": "stdout",
     "output_type": "stream",
     "text": [
      "Epoch 1/200\n",
      "X.shape = (None, 1)\n",
      "gauss_grid.shape = (None, 5)\n",
      "X.shape = (None, 1)\n",
      "gauss_grid.shape = (None, 5)\n",
      "1/3 [=========>....................] - ETA: 0s - loss: 1264.6409X.shape = (None, 1)\n",
      "gauss_grid.shape = (None, 5)\n",
      "3/3 [==============================] - 1s 77ms/step - loss: 515.4332 - val_loss: 7.3500\n",
      "Epoch 2/200\n",
      "3/3 [==============================] - 0s 16ms/step - loss: 8.9885 - val_loss: 13.7403\n",
      "Epoch 3/200\n",
      "3/3 [==============================] - 0s 31ms/step - loss: 14.9119 - val_loss: 18.4398\n",
      "Epoch 4/200\n",
      "3/3 [==============================] - 0s 37ms/step - loss: 19.1562 - val_loss: 21.5180\n",
      "Epoch 5/200\n",
      "3/3 [==============================] - 0s 33ms/step - loss: 21.8363 - val_loss: 23.2093\n",
      "Epoch 6/200\n",
      "3/3 [==============================] - 0s 35ms/step - loss: 23.2394 - val_loss: 23.7777\n",
      "Epoch 7/200\n",
      "3/3 [==============================] - 0s 30ms/step - loss: 23.6012 - val_loss: 23.4619\n",
      "Epoch 8/200\n",
      "3/3 [==============================] - 0s 36ms/step - loss: 23.1637 - val_loss: 22.4736\n",
      "Epoch 9/200\n",
      "3/3 [==============================] - 0s 36ms/step - loss: 22.1199 - val_loss: 21.0005\n",
      "Epoch 10/200\n",
      "3/3 [==============================] - 0s 28ms/step - loss: 20.6925 - val_loss: 19.2172\n",
      "Epoch 11/200\n",
      "3/3 [==============================] - 0s 20ms/step - loss: 18.9583 - val_loss: 17.2268\n",
      "Epoch 12/200\n",
      "3/3 [==============================] - 0s 13ms/step - loss: 17.0427 - val_loss: 15.0680\n",
      "Epoch 13/200\n",
      "3/3 [==============================] - 0s 21ms/step - loss: 14.9568 - val_loss: 12.7781\n",
      "Epoch 14/200\n",
      "3/3 [==============================] - 0s 13ms/step - loss: 12.7244 - val_loss: 10.3471\n",
      "Epoch 15/200\n",
      "3/3 [==============================] - 0s 21ms/step - loss: 10.3301 - val_loss: 7.7342\n",
      "Epoch 16/200\n",
      "3/3 [==============================] - 0s 18ms/step - loss: 7.7091 - val_loss: 5.0411\n",
      "Epoch 17/200\n",
      "3/3 [==============================] - 0s 16ms/step - loss: 6.5309 - val_loss: 4.5786\n",
      "Epoch 18/200\n",
      "3/3 [==============================] - 0s 23ms/step - loss: 4.8177 - val_loss: 5.0160\n",
      "Epoch 19/200\n",
      "3/3 [==============================] - 0s 14ms/step - loss: 5.2276 - val_loss: 5.3747\n",
      "Epoch 20/200\n",
      "3/3 [==============================] - 0s 22ms/step - loss: 5.2593 - val_loss: 5.4129\n",
      "Epoch 21/200\n",
      "3/3 [==============================] - 0s 13ms/step - loss: 5.4461 - val_loss: 5.4750\n",
      "Epoch 22/200\n",
      "3/3 [==============================] - 0s 21ms/step - loss: 5.2891 - val_loss: 5.4203\n",
      "Epoch 23/200\n",
      "3/3 [==============================] - 0s 16ms/step - loss: 5.1604 - val_loss: 5.0865\n",
      "Epoch 24/200\n",
      "3/3 [==============================] - 0s 16ms/step - loss: 4.8662 - val_loss: 4.5029\n",
      "Epoch 25/200\n",
      "3/3 [==============================] - 0s 21ms/step - loss: 4.4469 - val_loss: 3.9991\n",
      "Epoch 26/200\n",
      "3/3 [==============================] - 0s 18ms/step - loss: 4.1456 - val_loss: 3.6931\n",
      "Epoch 27/200\n",
      "3/3 [==============================] - 0s 18ms/step - loss: 3.9491 - val_loss: 3.8755\n",
      "Epoch 28/200\n",
      "3/3 [==============================] - 0s 23ms/step - loss: 4.1373 - val_loss: 3.9001\n",
      "Epoch 29/200\n",
      "3/3 [==============================] - 0s 19ms/step - loss: 4.1320 - val_loss: 3.8023\n",
      "Epoch 30/200\n",
      "3/3 [==============================] - 0s 18ms/step - loss: 4.1302 - val_loss: 3.6942\n",
      "Epoch 31/200\n",
      "3/3 [==============================] - 0s 16ms/step - loss: 3.9540 - val_loss: 3.6705\n",
      "Epoch 32/200\n",
      "3/3 [==============================] - 0s 21ms/step - loss: 3.9934 - val_loss: 3.6395\n",
      "Epoch 33/200\n",
      "3/3 [==============================] - 0s 16ms/step - loss: 3.9228 - val_loss: 3.6748\n",
      "Epoch 34/200\n",
      "3/3 [==============================] - 0s 20ms/step - loss: 3.9418 - val_loss: 3.6330\n",
      "Epoch 35/200\n",
      "3/3 [==============================] - 0s 19ms/step - loss: 3.8781 - val_loss: 3.6618\n",
      "Epoch 36/200\n",
      "3/3 [==============================] - 0s 16ms/step - loss: 3.8927 - val_loss: 3.6491\n",
      "Epoch 37/200\n",
      "3/3 [==============================] - 0s 21ms/step - loss: 3.8554 - val_loss: 3.6243\n",
      "Epoch 38/200\n",
      "3/3 [==============================] - 0s 16ms/step - loss: 3.8625 - val_loss: 3.6110\n",
      "Epoch 39/200\n",
      "3/3 [==============================] - 0s 16ms/step - loss: 3.8241 - val_loss: 3.6296\n",
      "Epoch 40/200\n",
      "3/3 [==============================] - 0s 20ms/step - loss: 3.8247 - val_loss: 3.6160\n",
      "Epoch 41/200\n",
      "3/3 [==============================] - 0s 16ms/step - loss: 3.8029 - val_loss: 3.5986\n",
      "Epoch 42/200\n",
      "3/3 [==============================] - 0s 20ms/step - loss: 3.7896 - val_loss: 3.5967\n",
      "Epoch 43/200\n",
      "3/3 [==============================] - 0s 20ms/step - loss: 3.7741 - val_loss: 3.6077\n",
      "Epoch 44/200\n",
      "3/3 [==============================] - 0s 18ms/step - loss: 3.7659 - val_loss: 3.5938\n",
      "Epoch 45/200\n",
      "3/3 [==============================] - 0s 20ms/step - loss: 3.7467 - val_loss: 3.5793\n",
      "Epoch 46/200\n",
      "3/3 [==============================] - 0s 19ms/step - loss: 3.7299 - val_loss: 3.5776\n",
      "Epoch 47/200\n",
      "3/3 [==============================] - 0s 17ms/step - loss: 3.7147 - val_loss: 3.5691\n",
      "Epoch 48/200\n",
      "3/3 [==============================] - 0s 17ms/step - loss: 3.6977 - val_loss: 3.5479\n",
      "Epoch 49/200\n",
      "3/3 [==============================] - 0s 21ms/step - loss: 3.6777 - val_loss: 3.5351\n",
      "Epoch 50/200\n",
      "3/3 [==============================] - 0s 18ms/step - loss: 3.6567 - val_loss: 3.5284\n",
      "Epoch 51/200\n",
      "3/3 [==============================] - 0s 26ms/step - loss: 3.6367 - val_loss: 3.5337\n",
      "Epoch 52/200\n",
      "3/3 [==============================] - 0s 20ms/step - loss: 3.6145 - val_loss: 3.5017\n",
      "Epoch 53/200\n",
      "3/3 [==============================] - 0s 18ms/step - loss: 3.5910 - val_loss: 3.4873\n",
      "Epoch 54/200\n",
      "3/3 [==============================] - 0s 16ms/step - loss: 3.5655 - val_loss: 3.4787\n",
      "Epoch 55/200\n",
      "3/3 [==============================] - 0s 22ms/step - loss: 3.5393 - val_loss: 3.4739\n",
      "Epoch 56/200\n",
      "3/3 [==============================] - 0s 20ms/step - loss: 3.5088 - val_loss: 3.4406\n",
      "Epoch 57/200\n",
      "3/3 [==============================] - 0s 17ms/step - loss: 3.4830 - val_loss: 3.4279\n",
      "Epoch 58/200\n",
      "3/3 [==============================] - 0s 17ms/step - loss: 3.4499 - val_loss: 3.4126\n",
      "Epoch 59/200\n",
      "3/3 [==============================] - 0s 23ms/step - loss: 3.4261 - val_loss: 3.3923\n",
      "Epoch 60/200\n",
      "3/3 [==============================] - 0s 16ms/step - loss: 3.3914 - val_loss: 3.3511\n",
      "Epoch 61/200\n",
      "3/3 [==============================] - 0s 16ms/step - loss: 3.3797 - val_loss: 3.3237\n",
      "Epoch 62/200\n",
      "3/3 [==============================] - 0s 21ms/step - loss: 3.3437 - val_loss: 3.3174\n",
      "Epoch 63/200\n",
      "3/3 [==============================] - 0s 16ms/step - loss: 3.3594 - val_loss: 3.2771\n",
      "Epoch 64/200\n",
      "3/3 [==============================] - 0s 21ms/step - loss: 3.3524 - val_loss: 3.3104\n",
      "Epoch 65/200\n",
      "3/3 [==============================] - 0s 16ms/step - loss: 3.3496 - val_loss: 3.2823\n",
      "Epoch 66/200\n",
      "3/3 [==============================] - 0s 20ms/step - loss: 3.3124 - val_loss: 3.2841\n",
      "Epoch 67/200\n",
      "3/3 [==============================] - 0s 16ms/step - loss: 3.2824 - val_loss: 3.2622\n",
      "Epoch 68/200\n",
      "3/3 [==============================] - 0s 19ms/step - loss: 3.3093 - val_loss: 3.2457\n",
      "Epoch 69/200\n",
      "3/3 [==============================] - 0s 17ms/step - loss: 3.2679 - val_loss: 3.2579\n",
      "Epoch 70/200\n",
      "3/3 [==============================] - 0s 20ms/step - loss: 3.2988 - val_loss: 3.2060\n",
      "Epoch 71/200\n",
      "3/3 [==============================] - 0s 17ms/step - loss: 3.2758 - val_loss: 3.2247\n",
      "Epoch 72/200\n",
      "3/3 [==============================] - 0s 20ms/step - loss: 3.2970 - val_loss: 3.1914\n",
      "Epoch 73/200\n",
      "3/3 [==============================] - 0s 24ms/step - loss: 3.2597 - val_loss: 3.2007\n",
      "Epoch 74/200\n",
      "3/3 [==============================] - 0s 18ms/step - loss: 3.2601 - val_loss: 3.2097\n",
      "Epoch 75/200\n",
      "3/3 [==============================] - 0s 16ms/step - loss: 3.2570 - val_loss: 3.2251\n",
      "Epoch 76/200\n",
      "3/3 [==============================] - 0s 18ms/step - loss: 3.2604 - val_loss: 3.2270\n",
      "Epoch 77/200\n",
      "3/3 [==============================] - 0s 16ms/step - loss: 3.2580 - val_loss: 3.2066\n",
      "Epoch 78/200\n",
      "3/3 [==============================] - 0s 17ms/step - loss: 3.2493 - val_loss: 3.1971\n",
      "Epoch 79/200\n",
      "3/3 [==============================] - 0s 19ms/step - loss: 3.2574 - val_loss: 3.1891\n",
      "Epoch 80/200\n",
      "3/3 [==============================] - 0s 17ms/step - loss: 3.2713 - val_loss: 3.2113\n",
      "Epoch 81/200\n"
     ]
    },
    {
     "name": "stdout",
     "output_type": "stream",
     "text": [
      "3/3 [==============================] - 0s 19ms/step - loss: 3.2533 - val_loss: 3.1856\n",
      "Epoch 82/200\n",
      "3/3 [==============================] - 0s 18ms/step - loss: 3.2857 - val_loss: 3.1764\n",
      "Epoch 83/200\n",
      "3/3 [==============================] - 0s 20ms/step - loss: 3.2832 - val_loss: 3.2033\n",
      "Epoch 84/200\n",
      "3/3 [==============================] - 0s 16ms/step - loss: 3.2465 - val_loss: 3.1967\n",
      "Epoch 85/200\n",
      "3/3 [==============================] - 0s 21ms/step - loss: 3.2589 - val_loss: 3.1821\n",
      "Epoch 86/200\n",
      "3/3 [==============================] - 0s 16ms/step - loss: 3.2545 - val_loss: 3.1975\n",
      "Epoch 87/200\n",
      "3/3 [==============================] - 0s 19ms/step - loss: 3.2488 - val_loss: 3.1724\n",
      "Epoch 88/200\n",
      "3/3 [==============================] - 0s 15ms/step - loss: 3.2386 - val_loss: 3.1733\n",
      "Epoch 89/200\n",
      "3/3 [==============================] - 0s 20ms/step - loss: 3.2332 - val_loss: 3.1747\n",
      "Epoch 90/200\n",
      "3/3 [==============================] - 0s 17ms/step - loss: 3.2299 - val_loss: 3.1729\n",
      "Epoch 91/200\n",
      "3/3 [==============================] - 0s 21ms/step - loss: 3.2318 - val_loss: 3.1733\n",
      "Epoch 92/200\n",
      "3/3 [==============================] - 0s 13ms/step - loss: 3.2359 - val_loss: 3.1669\n",
      "Epoch 93/200\n",
      "3/3 [==============================] - 0s 16ms/step - loss: 3.2352 - val_loss: 3.1708\n",
      "Epoch 94/200\n",
      "3/3 [==============================] - 0s 20ms/step - loss: 3.2174 - val_loss: 3.1988\n",
      "Epoch 95/200\n",
      "3/3 [==============================] - 0s 16ms/step - loss: 3.2626 - val_loss: 3.1612\n",
      "Epoch 96/200\n",
      "3/3 [==============================] - 0s 20ms/step - loss: 3.2757 - val_loss: 3.1967\n",
      "Epoch 97/200\n",
      "3/3 [==============================] - 0s 20ms/step - loss: 3.2369 - val_loss: 3.1636\n",
      "Epoch 98/200\n",
      "3/3 [==============================] - 0s 14ms/step - loss: 3.2637 - val_loss: 3.1464\n",
      "Epoch 99/200\n",
      "3/3 [==============================] - 0s 21ms/step - loss: 3.2210 - val_loss: 3.1447\n",
      "Epoch 100/200\n",
      "3/3 [==============================] - 0s 14ms/step - loss: 3.2221 - val_loss: 3.1281\n",
      "Epoch 101/200\n",
      "3/3 [==============================] - 0s 21ms/step - loss: 3.2257 - val_loss: 3.1341\n",
      "Epoch 102/200\n",
      "3/3 [==============================] - 0s 13ms/step - loss: 3.2086 - val_loss: 3.1168\n",
      "Epoch 103/200\n",
      "3/3 [==============================] - 0s 19ms/step - loss: 3.2459 - val_loss: 3.1285\n",
      "Epoch 104/200\n",
      "3/3 [==============================] - 0s 16ms/step - loss: 3.2163 - val_loss: 3.1439\n",
      "Epoch 105/200\n",
      "3/3 [==============================] - 0s 21ms/step - loss: 3.2075 - val_loss: 3.1044\n",
      "Epoch 106/200\n",
      "3/3 [==============================] - 0s 20ms/step - loss: 3.2068 - val_loss: 3.0959\n",
      "Epoch 107/200\n",
      "3/3 [==============================] - 0s 16ms/step - loss: 3.1854 - val_loss: 3.1275\n",
      "Epoch 108/200\n",
      "3/3 [==============================] - 0s 20ms/step - loss: 3.1964 - val_loss: 3.0889\n",
      "Epoch 109/200\n",
      "3/3 [==============================] - 0s 14ms/step - loss: 3.1971 - val_loss: 3.0794\n",
      "Epoch 110/200\n",
      "3/3 [==============================] - 0s 19ms/step - loss: 3.1817 - val_loss: 3.0820\n",
      "Epoch 111/200\n",
      "3/3 [==============================] - 0s 19ms/step - loss: 3.1842 - val_loss: 3.0739\n",
      "Epoch 112/200\n",
      "3/3 [==============================] - 0s 18ms/step - loss: 3.1644 - val_loss: 3.0796\n",
      "Epoch 113/200\n",
      "3/3 [==============================] - 0s 21ms/step - loss: 3.1627 - val_loss: 3.0661\n",
      "Epoch 114/200\n",
      "3/3 [==============================] - 0s 17ms/step - loss: 3.1568 - val_loss: 3.0748\n",
      "Epoch 115/200\n",
      "3/3 [==============================] - 0s 16ms/step - loss: 3.1543 - val_loss: 3.0758\n",
      "Epoch 116/200\n",
      "3/3 [==============================] - 0s 22ms/step - loss: 3.1534 - val_loss: 3.0659\n",
      "Epoch 117/200\n",
      "3/3 [==============================] - 0s 17ms/step - loss: 3.1468 - val_loss: 3.0712\n",
      "Epoch 118/200\n",
      "3/3 [==============================] - 0s 17ms/step - loss: 3.1592 - val_loss: 3.0476\n",
      "Epoch 119/200\n",
      "3/3 [==============================] - 0s 20ms/step - loss: 3.1738 - val_loss: 3.0465\n",
      "Epoch 120/200\n",
      "3/3 [==============================] - 0s 22ms/step - loss: 3.1467 - val_loss: 3.0550\n",
      "Epoch 121/200\n",
      "3/3 [==============================] - 0s 16ms/step - loss: 3.1362 - val_loss: 3.0566\n",
      "Epoch 122/200\n",
      "3/3 [==============================] - 0s 17ms/step - loss: 3.1423 - val_loss: 3.0803\n",
      "Epoch 123/200\n",
      "3/3 [==============================] - 0s 20ms/step - loss: 3.1783 - val_loss: 3.1134\n",
      "Epoch 124/200\n",
      "3/3 [==============================] - 0s 17ms/step - loss: 3.1619 - val_loss: 3.1320\n",
      "Epoch 125/200\n",
      "3/3 [==============================] - 0s 17ms/step - loss: 3.1492 - val_loss: 3.0896\n",
      "Epoch 126/200\n",
      "3/3 [==============================] - 0s 20ms/step - loss: 3.1458 - val_loss: 3.0553\n",
      "Epoch 127/200\n",
      "3/3 [==============================] - 0s 16ms/step - loss: 3.1378 - val_loss: 3.0320\n",
      "Epoch 128/200\n",
      "3/3 [==============================] - 0s 21ms/step - loss: 3.1356 - val_loss: 3.0605\n",
      "Epoch 129/200\n",
      "3/3 [==============================] - 0s 16ms/step - loss: 3.1302 - val_loss: 3.0220\n",
      "Epoch 130/200\n",
      "3/3 [==============================] - 0s 17ms/step - loss: 3.1491 - val_loss: 3.0474\n",
      "Epoch 131/200\n",
      "3/3 [==============================] - 0s 17ms/step - loss: 3.1372 - val_loss: 3.0760\n",
      "Epoch 132/200\n",
      "3/3 [==============================] - 0s 20ms/step - loss: 3.1085 - val_loss: 3.1259\n",
      "Epoch 133/200\n",
      "3/3 [==============================] - 0s 17ms/step - loss: 3.1385 - val_loss: 3.0866\n",
      "Epoch 134/200\n",
      "3/3 [==============================] - 0s 22ms/step - loss: 3.1542 - val_loss: 3.0691\n",
      "Epoch 135/200\n",
      "3/3 [==============================] - 0s 17ms/step - loss: 3.0910 - val_loss: 3.0760\n",
      "Epoch 136/200\n",
      "3/3 [==============================] - 0s 16ms/step - loss: 3.2033 - val_loss: 3.1318\n",
      "Epoch 137/200\n",
      "3/3 [==============================] - 0s 20ms/step - loss: 3.1966 - val_loss: 3.0449\n",
      "Epoch 138/200\n",
      "3/3 [==============================] - 0s 17ms/step - loss: 3.0965 - val_loss: 3.0919\n",
      "Epoch 139/200\n",
      "3/3 [==============================] - 0s 19ms/step - loss: 3.1216 - val_loss: 3.1198\n",
      "Epoch 140/200\n",
      "3/3 [==============================] - 0s 17ms/step - loss: 3.1480 - val_loss: 3.0402\n",
      "Epoch 141/200\n",
      "3/3 [==============================] - 0s 21ms/step - loss: 3.0943 - val_loss: 3.0304\n",
      "Epoch 142/200\n",
      "3/3 [==============================] - 0s 23ms/step - loss: 3.0960 - val_loss: 3.0521\n",
      "Epoch 143/200\n",
      "3/3 [==============================] - 0s 17ms/step - loss: 3.0972 - val_loss: 3.0061\n",
      "Epoch 144/200\n",
      "3/3 [==============================] - 0s 16ms/step - loss: 3.0706 - val_loss: 3.0327\n",
      "Epoch 145/200\n",
      "3/3 [==============================] - 0s 20ms/step - loss: 3.0715 - val_loss: 3.0004\n",
      "Epoch 146/200\n",
      "3/3 [==============================] - 0s 16ms/step - loss: 3.0794 - val_loss: 2.9925\n",
      "Epoch 147/200\n",
      "3/3 [==============================] - 0s 22ms/step - loss: 3.0518 - val_loss: 3.0167\n",
      "Epoch 148/200\n",
      "3/3 [==============================] - 0s 21ms/step - loss: 3.0533 - val_loss: 3.0398\n",
      "Epoch 149/200\n",
      "3/3 [==============================] - 0s 13ms/step - loss: 3.0665 - val_loss: 3.0252\n",
      "Epoch 150/200\n",
      "3/3 [==============================] - 0s 20ms/step - loss: 3.0491 - val_loss: 3.0023\n",
      "Epoch 151/200\n",
      "3/3 [==============================] - 0s 16ms/step - loss: 3.0565 - val_loss: 3.0212\n",
      "Epoch 152/200\n",
      "3/3 [==============================] - 0s 17ms/step - loss: 3.0392 - val_loss: 2.9886\n",
      "Epoch 153/200\n",
      "3/3 [==============================] - 0s 17ms/step - loss: 3.0510 - val_loss: 3.0108\n",
      "Epoch 154/200\n",
      "3/3 [==============================] - 0s 20ms/step - loss: 3.0528 - val_loss: 2.9905\n",
      "Epoch 155/200\n",
      "3/3 [==============================] - 0s 16ms/step - loss: 3.0325 - val_loss: 2.9727\n",
      "Epoch 156/200\n",
      "3/3 [==============================] - 0s 17ms/step - loss: 3.0307 - val_loss: 2.9838\n",
      "Epoch 157/200\n",
      "3/3 [==============================] - 0s 17ms/step - loss: 3.0063 - val_loss: 2.9609\n",
      "Epoch 158/200\n",
      "3/3 [==============================] - 0s 17ms/step - loss: 3.0184 - val_loss: 2.9960\n",
      "Epoch 159/200\n",
      "3/3 [==============================] - 0s 20ms/step - loss: 3.0329 - val_loss: 2.9948\n",
      "Epoch 160/200\n",
      "3/3 [==============================] - 0s 17ms/step - loss: 2.9957 - val_loss: 2.9781\n",
      "Epoch 161/200\n",
      "3/3 [==============================] - 0s 18ms/step - loss: 2.9954 - val_loss: 2.9721\n",
      "Epoch 162/200\n",
      "3/3 [==============================] - 0s 21ms/step - loss: 2.9782 - val_loss: 2.9482\n",
      "Epoch 163/200\n"
     ]
    },
    {
     "name": "stdout",
     "output_type": "stream",
     "text": [
      "3/3 [==============================] - 0s 20ms/step - loss: 3.1112 - val_loss: 3.1112\n",
      "Epoch 164/200\n",
      "3/3 [==============================] - 0s 18ms/step - loss: 3.1121 - val_loss: 3.0122\n",
      "Epoch 165/200\n",
      "3/3 [==============================] - 0s 15ms/step - loss: 3.0003 - val_loss: 3.0630\n",
      "Epoch 166/200\n",
      "3/3 [==============================] - 0s 19ms/step - loss: 3.0541 - val_loss: 3.0471\n",
      "Epoch 167/200\n",
      "3/3 [==============================] - 0s 20ms/step - loss: 3.0249 - val_loss: 2.9273\n",
      "Epoch 168/200\n",
      "3/3 [==============================] - 0s 16ms/step - loss: 2.9529 - val_loss: 2.9678\n",
      "Epoch 169/200\n",
      "3/3 [==============================] - 0s 16ms/step - loss: 2.9620 - val_loss: 2.9746\n",
      "Epoch 170/200\n",
      "3/3 [==============================] - 0s 22ms/step - loss: 2.9511 - val_loss: 2.9360\n",
      "Epoch 171/200\n",
      "3/3 [==============================] - 0s 18ms/step - loss: 2.9388 - val_loss: 2.9876\n",
      "Epoch 172/200\n",
      "3/3 [==============================] - 0s 16ms/step - loss: 3.0047 - val_loss: 2.9729\n",
      "Epoch 173/200\n",
      "3/3 [==============================] - 0s 21ms/step - loss: 3.0328 - val_loss: 3.0362\n",
      "Epoch 174/200\n",
      "3/3 [==============================] - 0s 19ms/step - loss: 3.1925 - val_loss: 3.3021\n",
      "Epoch 175/200\n",
      "3/3 [==============================] - 0s 21ms/step - loss: 3.1424 - val_loss: 3.5783\n",
      "Epoch 176/200\n",
      "3/3 [==============================] - 0s 17ms/step - loss: 3.1802 - val_loss: 3.1876\n",
      "Epoch 177/200\n",
      "3/3 [==============================] - 0s 18ms/step - loss: 3.1935 - val_loss: 3.0709\n",
      "Epoch 178/200\n",
      "3/3 [==============================] - 0s 18ms/step - loss: 3.1285 - val_loss: 2.9795\n",
      "Epoch 179/200\n",
      "3/3 [==============================] - 0s 23ms/step - loss: 2.9680 - val_loss: 2.9998\n",
      "Epoch 180/200\n",
      "3/3 [==============================] - 0s 23ms/step - loss: 3.0435 - val_loss: 3.0187\n",
      "Epoch 181/200\n",
      "3/3 [==============================] - 0s 17ms/step - loss: 3.0401 - val_loss: 3.0232\n",
      "Epoch 182/200\n",
      "3/3 [==============================] - 0s 23ms/step - loss: 2.9563 - val_loss: 3.1405\n",
      "Epoch 183/200\n",
      "3/3 [==============================] - 0s 20ms/step - loss: 2.9822 - val_loss: 3.1713\n",
      "Epoch 184/200\n",
      "3/3 [==============================] - 0s 17ms/step - loss: 3.1361 - val_loss: 2.9834\n",
      "Epoch 185/200\n",
      "3/3 [==============================] - 0s 17ms/step - loss: 3.0078 - val_loss: 2.9596\n",
      "Epoch 186/200\n",
      "3/3 [==============================] - 0s 17ms/step - loss: 2.9398 - val_loss: 3.0374\n",
      "Epoch 187/200\n",
      "3/3 [==============================] - 0s 27ms/step - loss: 2.8985 - val_loss: 3.1526\n",
      "Epoch 188/200\n",
      "3/3 [==============================] - 0s 19ms/step - loss: 3.0800 - val_loss: 3.0674\n",
      "Epoch 189/200\n",
      "3/3 [==============================] - 0s 17ms/step - loss: 2.9921 - val_loss: 3.2324\n",
      "Epoch 190/200\n",
      "3/3 [==============================] - 0s 17ms/step - loss: 3.0350 - val_loss: 2.9313\n",
      "Epoch 191/200\n",
      "3/3 [==============================] - 0s 19ms/step - loss: 2.8471 - val_loss: 2.9505\n",
      "Epoch 192/200\n",
      "3/3 [==============================] - 0s 20ms/step - loss: 2.9078 - val_loss: 2.9569\n",
      "Epoch 193/200\n",
      "3/3 [==============================] - 0s 21ms/step - loss: 2.8946 - val_loss: 2.9644\n",
      "Epoch 194/200\n",
      "3/3 [==============================] - 0s 19ms/step - loss: 2.9127 - val_loss: 2.9376\n",
      "Epoch 195/200\n",
      "3/3 [==============================] - 0s 19ms/step - loss: 2.9513 - val_loss: 3.0653\n",
      "Epoch 196/200\n",
      "3/3 [==============================] - 0s 19ms/step - loss: 2.9431 - val_loss: 2.9898\n",
      "Epoch 197/200\n",
      "3/3 [==============================] - 0s 21ms/step - loss: 2.8368 - val_loss: 3.0302\n",
      "Epoch 198/200\n",
      "3/3 [==============================] - 0s 14ms/step - loss: 2.8698 - val_loss: 3.0856\n",
      "Epoch 199/200\n",
      "3/3 [==============================] - 0s 17ms/step - loss: 2.8450 - val_loss: 2.8726\n",
      "Epoch 200/200\n",
      "3/3 [==============================] - 0s 20ms/step - loss: 2.7995 - val_loss: 2.8978\n"
     ]
    }
   ],
   "source": [
    "history = model.fit(X_train, y_train, epochs=200,\n",
    "                    validation_data=(X_valid, y_valid))"
   ]
  },
  {
   "cell_type": "code",
   "execution_count": 68,
   "id": "0b29d35c",
   "metadata": {
    "scrolled": true
   },
   "outputs": [],
   "source": [
    "# history = model.fit(X_train, y_train, epochs=145,\n",
    "#                     validation_data=(X_valid, y_valid), callbacks=[lr_scheduler])"
   ]
  },
  {
   "cell_type": "code",
   "execution_count": 69,
   "id": "28215732",
   "metadata": {},
   "outputs": [
    {
     "name": "stdout",
     "output_type": "stream",
     "text": [
      "Saving figure grid_Gaussian_training_curve\n"
     ]
    },
    {
     "data": {
      "image/png": "[encoded data removed]",
      "text/plain": [
       "<Figure size 576x360 with 1 Axes>"
      ]
     },
     "metadata": {
      "needs_background": "light"
     },
     "output_type": "display_data"
    }
   ],
   "source": [
    "import pandas as pd\n",
    "\n",
    "# print(history.history)\n",
    "try:\n",
    "    lr_list = history.history[\"lr\"]\n",
    "    del(history.history[\"lr\"])\n",
    "except:\n",
    "    pass\n",
    "\n",
    "pd.DataFrame(history.history)[50:].plot(figsize=(8, 5))\n",
    "plt.grid(True)\n",
    "# plt.gca().set_ylim(0, 1)\n",
    "save_fig(\"grid_Gaussian_training_curve\")\n",
    "plt.show()"
   ]
  },
  {
   "cell_type": "code",
   "execution_count": 70,
   "id": "47d362c9",
   "metadata": {
    "scrolled": true
   },
   "outputs": [
    {
     "name": "stdout",
     "output_type": "stream",
     "text": [
      "X.shape = (None, 1)\n",
      "gauss_grid.shape = (None, 5)\n",
      "Saving figure grid_Gaussian_prediction\n"
     ]
    },
    {
     "data": {
      "image/png": "[encoded data removed]",
      "text/plain": [
       "<Figure size 432x288 with 1 Axes>"
      ]
     },
     "metadata": {
      "needs_background": "light"
     },
     "output_type": "display_data"
    }
   ],
   "source": [
    "# plt.plot(X_train, y_train, \"b.\")\n",
    "draw_points(X_train, y_train, sid_train)\n",
    "draw_func((lambda X: model.predict(X)[:,0] ), mark='r-', linewidth=2, label=\"Predictions\")\n",
    "draw_normal_func(func_dict)\n",
    "plt.xlabel(\"$x_1$\", fontsize=18)\n",
    "plt.ylabel(\"$y$\", rotation=0, fontsize=18)\n",
    "plt.legend(loc=\"upper left\", fontsize=14)\n",
    "# plt.axis([-3, 3, 0, 10])\n",
    "save_fig(\"grid_Gaussian_prediction\")\n",
    "plt.show()"
   ]
  },
  {
   "cell_type": "code",
   "execution_count": 71,
   "id": "a85a5159",
   "metadata": {},
   "outputs": [
    {
     "name": "stdout",
     "output_type": "stream",
     "text": [
      "y_func.shape = (100, 1)\n",
      "y_gt.shape = (100, 1)\n"
     ]
    },
    {
     "data": {
      "text/plain": [
       "6.219162965816185"
      ]
     },
     "execution_count": 71,
     "metadata": {},
     "output_type": "execute_result"
    }
   ],
   "source": [
    "get_prediction_error((lambda X: model.predict(X)[:,0] ), func_dict, name=\"grid-oneGaussian\")"
   ]
  },
  {
   "cell_type": "markdown",
   "id": "9ca1e36d",
   "metadata": {},
   "source": [
    "### Draw the 1-sigma boundary line"
   ]
  },
  {
   "cell_type": "code",
   "execution_count": 72,
   "id": "a04a47fa",
   "metadata": {},
   "outputs": [
    {
     "name": "stdout",
     "output_type": "stream",
     "text": [
      "Saving figure grid_Gaussian_1sigma\n"
     ]
    },
    {
     "data": {
      "image/png": "[encoded data removed]",
      "text/plain": [
       "<Figure size 432x288 with 1 Axes>"
      ]
     },
     "metadata": {
      "needs_background": "light"
     },
     "output_type": "display_data"
    }
   ],
   "source": [
    "def n_sigma_boundary_line(X, n):\n",
    "    _y = model.predict(X)\n",
    "    _mean, _z = _y[:,0:1], _y[:,1:2]\n",
    "    _sigma = np.exp(alpha*_z)\n",
    "    return( _mean + n*_sigma)\n",
    "\n",
    "# plt.plot(X_train, y_train, \"b.\")\n",
    "draw_points(X_train, y_train, sid_train)\n",
    "#\n",
    "draw_func((lambda X: model.predict(X)[:,0] ), mark='r-', linewidth=2, label=\"Predictions\")\n",
    "draw_func((lambda X: n_sigma_boundary_line(X, +1.0) ), mark='k--', linewidth=1, label=\"$\\mu+\\sigma$\")\n",
    "draw_func((lambda X: n_sigma_boundary_line(X, -1.0) ), mark='k--', linewidth=1, label=\"$\\mu-\\sigma$\")\n",
    "#\n",
    "draw_normal_func(func_dict)\n",
    "plt.xlabel(\"$x_1$\", fontsize=18)\n",
    "plt.ylabel(\"$y$\", rotation=0, fontsize=18)\n",
    "plt.legend(loc=\"upper left\", fontsize=14)\n",
    "# plt.axis([-3, 3, 0, 10])\n",
    "save_fig(\"grid_Gaussian_1sigma\")\n",
    "plt.show()"
   ]
  },
  {
   "cell_type": "markdown",
   "id": "1cdb8a83",
   "metadata": {},
   "source": [
    "# Per-subject Bias/Property Learning"
   ]
  },
  {
   "cell_type": "code",
   "execution_count": 73,
   "id": "0a429b42",
   "metadata": {},
   "outputs": [],
   "source": [
    "# Create a custom layer for estimating bais for each subject\n",
    "class SubjectBias(keras.layers.Layer):\n",
    "    def __init__(self, num_subject, bias_scale=1.0, mean_reg_rate=1.0, activation=None, **kwargs):\n",
    "        super().__init__(**kwargs)\n",
    "        self.num_subject = num_subject\n",
    "        self.bias_scale = bias_scale\n",
    "        self.mean_reg_rate = mean_reg_rate if mean_reg_rate >= 0.0 else 0.0\n",
    "        #\n",
    "        self.X_shape = None\n",
    "        self.activation = keras.activations.get(activation)\n",
    "        \n",
    "    def build(self, batch_input_shape):\n",
    "        self.X_shape = batch_input_shape[0]\n",
    "        # Initiate a trainable vector as the bias for X\n",
    "        \"\"\"\n",
    "        bias: (num_subject, X_shape[1], X_shape[2], ...)\n",
    "        \"\"\"\n",
    "        self.bias = self.add_weight(name=\"bias\", \n",
    "                                    shape=([self.num_subject] + self.X_shape[1:]), \n",
    "                                    initializer=\"zeros\")\n",
    "        super().build(batch_input_shape) # must be at the end\n",
    "        \n",
    "    def get_bias(self, sid):\n",
    "        '''\n",
    "        A helper function for retriving the bias according to the given sid.\n",
    "        Note: sid starts from 1.\n",
    "        Note2: this is the bias added to X, which are scaled by self.bias_scale\n",
    "        '''\n",
    "        if sid > self.num_subject or sid <= 0: # Out of bound, index not in range\n",
    "            return tf.zeros(self.X_shape[1:])\n",
    "        else:\n",
    "            return self.bias_scale * self.bias[tf.cast(sid-1, tf.int32),:]\n",
    "        \n",
    "    def get_scaled_biases_np(self):\n",
    "        return self.bias_scale * self.bias.numpy()\n",
    "        \n",
    "    def call(self, X_sid, training=None):\n",
    "        '''\n",
    "        X_sid = [X, sid]\n",
    "        Input shape:  X: (batch, ...), sid: (batch, 1)\n",
    "        Output shape: (batch, ...)\n",
    "        '''\n",
    "        X, SID = X_sid\n",
    "        X_shape = X.shape\n",
    "        print(\"X.shape = %s\" % X.shape)\n",
    "        print(\"SID.shape = %s\" % SID.shape)\n",
    "        \n",
    "        # Add bias\n",
    "        y = X + self.bias_scale * tf.gather(self.bias, SID[:,0]-1, axis=0)\n",
    "        \n",
    "        # Add a loss on the means in order to force them to become zeros\n",
    "        if self.mean_reg_rate > 0.0:\n",
    "            # Calculate the mean of all biases (on each dimension)\n",
    "            bias_means = tf.reduce_mean(self.bias, axis=0)\n",
    "            # MAE of means on all dimensions\n",
    "            self.add_loss( self.mean_reg_rate * tf.reduce_sum(tf.abs(bias_means)) )\n",
    "        \n",
    "        return self.activation(y)\n",
    "        \n",
    "#         if training:    \n",
    "#             # Add biases according to the sid of each instance\n",
    "#             # Note: a corner case is not handeled that if there exist out-of-range sid.\n",
    "#             # y = X + self.bias[tf.cast(SID[:,0]-1, tf.int32),:]\n",
    "#             # y = X + self.bias[ SID[:,0]-1,:]\n",
    "#             y = X + tf.gather(self.bias, SID[:,0]-1, axis=0)\n",
    "#             return self.activation(y)\n",
    "#         else: # If it's not trainig, just output the original X without adding bias\n",
    "#             return self.activation(X_sid[0])\n",
    "    \n",
    "    def compute_output_shape(self, batch_input_shape):\n",
    "        # Note: the same shape as the first input\n",
    "        return batch_input_shape[0]\n",
    "    \n",
    "    def get_config(self):\n",
    "        base_config = super().get_config()\n",
    "        return {**base_config, \n",
    "                \"num_subject\": self.num_subject,\n",
    "                \"bias_scale\": self.bias_scale,\n",
    "                \"mean_reg_rate\": self.mean_reg_rate,\n",
    "                \"activation\": keras.activations.serialize(self.activation)}"
   ]
  },
  {
   "cell_type": "code",
   "execution_count": 74,
   "id": "7ca22d55",
   "metadata": {},
   "outputs": [],
   "source": [
    "# Create a custom layer for estimating linear transform for each subject\n",
    "# We only assume 1D lear transform on each input dimension separately. (assume value on each dimension are independent to others.)\n",
    "# 1D linear transform: yi = wi * xi + bi\n",
    "class SubjectLinearTransform1D(keras.layers.Layer):\n",
    "    def __init__(self, num_subject, bias_scale=1.0, weight_mean_reg_rate=1.0, bias_mean_reg_rate=1.0, activation=None, **kwargs):\n",
    "        super().__init__(**kwargs)\n",
    "        self.num_subject = num_subject\n",
    "        self.bias_scale = bias_scale\n",
    "        self.weight_mean_reg_rate = weight_mean_reg_rate if weight_mean_reg_rate >= 0.0 else 0.0\n",
    "        self.bias_mean_reg_rate = bias_mean_reg_rate if bias_mean_reg_rate >= 0.0 else 0.0\n",
    "        #\n",
    "        self.X_shape = None\n",
    "        self.activation = keras.activations.get(activation)\n",
    "        \n",
    "    def build(self, batch_input_shape):\n",
    "        self.X_shape = batch_input_shape[0]\n",
    "        # Initiate a trainable vector as the bias for X\n",
    "        \"\"\"\n",
    "        bias: (num_subject, X_shape[1], X_shape[2], ...)\n",
    "        \"\"\"\n",
    "        self.weight = self.add_weight(name=\"weight\", \n",
    "                                    shape=([self.num_subject] + self.X_shape[1:]), \n",
    "                                    initializer=\"ones\")\n",
    "        self.bias = self.add_weight(name=\"bias\", \n",
    "                                    shape=([self.num_subject] + self.X_shape[1:]), \n",
    "                                    initializer=\"zeros\")\n",
    "        super().build(batch_input_shape) # must be at the end\n",
    "        \n",
    "    def get_bias(self, sid):\n",
    "        '''\n",
    "        A helper function for retriving the bias according to the given sid.\n",
    "        Note: sid starts from 1.\n",
    "        Note2: this is the bias added to X, which are scaled by self.bias_scale\n",
    "        '''\n",
    "        if sid > self.num_subject or sid <= 0: # Out of bound, index not in range\n",
    "            return tf.zeros(self.X_shape[1:])\n",
    "        else:\n",
    "            return self.bias_scale * self.bias[tf.cast(sid-1, tf.int32),:]\n",
    "        \n",
    "    def get_scaled_biases_np(self):\n",
    "        return self.bias_scale * self.bias.numpy()\n",
    "    \n",
    "    def get_weights_np(self):\n",
    "        return self.weight.numpy()\n",
    "        \n",
    "    def call(self, X_sid, training=None):\n",
    "        '''\n",
    "        X_sid = [X, sid]\n",
    "        Input shape:  X: (batch, ...), sid: (batch, 1)\n",
    "        Output shape: (batch, ...)\n",
    "        '''\n",
    "        X, SID = X_sid\n",
    "        X_shape = X.shape\n",
    "        print(\"X.shape = %s\" % X.shape)\n",
    "        print(\"SID.shape = %s\" % SID.shape)\n",
    "        \n",
    "        # Element-wise multiplication of weights and addition of biases\n",
    "        y = tf.gather(self.weight, SID[:,0]-1, axis=0) * X + self.bias_scale * tf.gather(self.bias, SID[:,0]-1, axis=0)\n",
    "        \n",
    "        # Add a loss on the means in order to force them to become zeros\n",
    "        if self.weight_mean_reg_rate > 0.0 or self.bias_mean_reg_rate > 0.0:\n",
    "            # Calculate the mean of all weights and biases (on each dimension separately)\n",
    "            weight_means = tf.reduce_mean(self.weight, axis=0)\n",
    "            bias_means = tf.reduce_mean(self.bias, axis=0)\n",
    "            # MAE of means on all dimensions\n",
    "            self.add_loss( self.weight_mean_reg_rate * tf.reduce_sum(tf.abs(weight_means - 1.0)) ) # Should close to 1.0\n",
    "            self.add_loss( self.bias_mean_reg_rate * tf.reduce_sum(tf.abs(bias_means)) )\n",
    "        \n",
    "        return self.activation(y)\n",
    "    \n",
    "    def compute_output_shape(self, batch_input_shape):\n",
    "        # Note: the same shape as the first input\n",
    "        return batch_input_shape[0]\n",
    "    \n",
    "    def get_config(self):\n",
    "        base_config = super().get_config()\n",
    "        return {**base_config, \n",
    "                \"num_subject\": self.num_subject,\n",
    "                \"bias_scale\": self.bias_scale,\n",
    "                \"weight_mean_reg_rate\": self.weight_mean_reg_rate,\n",
    "                \"bias_mean_reg_rate\": self.bias_mean_reg_rate,\n",
    "                \"activation\": keras.activations.serialize(self.activation)}"
   ]
  },
  {
   "cell_type": "markdown",
   "id": "00220bd0",
   "metadata": {},
   "source": [
    "Number of subjects"
   ]
  },
  {
   "cell_type": "code",
   "execution_count": 75,
   "id": "fa925d83",
   "metadata": {},
   "outputs": [],
   "source": [
    "# Number of subjects\n",
    "num_subject = multiout_type"
   ]
  },
  {
   "cell_type": "markdown",
   "id": "37e02154",
   "metadata": {},
   "source": [
    "Build two models"
   ]
  },
  {
   "cell_type": "code",
   "execution_count": 129,
   "id": "05766d44",
   "metadata": {},
   "outputs": [
    {
     "name": "stdout",
     "output_type": "stream",
     "text": [
      "X.shape = (None, 1)\n",
      "gauss_grid.shape = (None, 5)\n",
      "X.shape = (None, 1)\n",
      "SID.shape = (None, 1)\n"
     ]
    }
   ],
   "source": [
    "inputs = keras.layers.Input(shape=X_train.shape[1:])\n",
    "inputs_sid = keras.layers.Input(shape=(1,), dtype=tf.int32)\n",
    "#\n",
    "z = num2grid(5,x_min=-10, x_max=10, sigma=3.0)(inputs)\n",
    "z = keras.layers.Dense(30, activation=\"relu\")(z)\n",
    "output = keras.layers.Dense(1)(z)\n",
    "# output_biased = SubjectBias(num_subject, bias_scale=10.0, mean_reg_rate=1.0, name=\"bias_est\")([output, inputs_sid])\n",
    "output_biased = SubjectLinearTransform1D(num_subject, bias_scale=10.0, weight_mean_reg_rate=5.0, bias_mean_reg_rate=1.0, name=\"bias_est\")([output, inputs_sid])\n",
    "# Setup models\n",
    "model = keras.Model(inputs=[inputs], outputs=[output]) # pure\n",
    "model_biased = keras.Model(inputs=[inputs, inputs_sid], outputs=[output_biased]) # biased, for training"
   ]
  },
  {
   "cell_type": "code",
   "execution_count": 130,
   "id": "6da7e9b1",
   "metadata": {},
   "outputs": [
    {
     "name": "stderr",
     "output_type": "stream",
     "text": [
      "C:\\Users\\benso\\anaconda3\\envs\\ml\\lib\\site-packages\\keras\\optimizer_v2\\adam.py:105: UserWarning: The `lr` argument is deprecated, use `learning_rate` instead.\n",
      "  super(Adam, self).__init__(name, **kwargs)\n"
     ]
    }
   ],
   "source": [
    "# optimizer = keras.optimizers.SGD(lr=0.001, momentum=0.9)\n",
    "# model.compile(loss=\"mean_squared_error\", optimizer=optimizer)\n",
    "optimizer = keras.optimizers.Adam(lr=0.1)\n",
    "model_biased.compile(loss=\"mean_absolute_error\", optimizer=optimizer)\n",
    "#\n",
    "# model.compile(loss=\"mean_absolute_error\", optimizer=optimizer) # No need to compile this if it's not going to be trained."
   ]
  },
  {
   "cell_type": "code",
   "execution_count": 131,
   "id": "700a6e39",
   "metadata": {
    "scrolled": true
   },
   "outputs": [
    {
     "name": "stdout",
     "output_type": "stream",
     "text": [
      "Epoch 1/100\n",
      "X.shape = (None, 1)\n",
      "gauss_grid.shape = (None, 5)\n",
      "X.shape = (None, 1)\n",
      "SID.shape = (None, 1)\n",
      "X.shape = (None, 1)\n",
      "gauss_grid.shape = (None, 5)\n",
      "X.shape = (None, 1)\n",
      "SID.shape = (None, 1)\n",
      "1/3 [=========>....................] - ETA: 1s - loss: 43.1288X.shape = (None, 1)\n",
      "gauss_grid.shape = (None, 5)\n",
      "X.shape = (None, 1)\n",
      "SID.shape = (None, 1)\n",
      "3/3 [==============================] - 1s 110ms/step - loss: 41.4061 - val_loss: 31.7363\n",
      "Epoch 2/100\n",
      "3/3 [==============================] - 0s 29ms/step - loss: 37.8262 - val_loss: 28.0387\n",
      "Epoch 3/100\n",
      "3/3 [==============================] - 0s 28ms/step - loss: 30.3250 - val_loss: 20.2682\n",
      "Epoch 4/100\n",
      "3/3 [==============================] - 0s 28ms/step - loss: 20.0506 - val_loss: 9.5640\n",
      "Epoch 5/100\n",
      "3/3 [==============================] - 0s 30ms/step - loss: 14.9267 - val_loss: 14.6026\n",
      "Epoch 6/100\n",
      "3/3 [==============================] - 0s 19ms/step - loss: 16.4441 - val_loss: 12.3592\n",
      "Epoch 7/100\n",
      "3/3 [==============================] - 0s 26ms/step - loss: 13.0095 - val_loss: 7.1371\n",
      "Epoch 8/100\n",
      "3/3 [==============================] - 0s 53ms/step - loss: 11.8259 - val_loss: 7.8579\n",
      "Epoch 9/100\n",
      "3/3 [==============================] - 0s 21ms/step - loss: 11.8901 - val_loss: 8.0831\n",
      "Epoch 10/100\n",
      "3/3 [==============================] - 0s 20ms/step - loss: 10.3716 - val_loss: 6.1629\n",
      "Epoch 11/100\n",
      "3/3 [==============================] - 0s 25ms/step - loss: 9.4954 - val_loss: 6.4620\n",
      "Epoch 12/100\n",
      "3/3 [==============================] - 0s 15ms/step - loss: 9.5283 - val_loss: 5.8244\n",
      "Epoch 13/100\n",
      "3/3 [==============================] - 0s 27ms/step - loss: 8.6855 - val_loss: 5.8135\n",
      "Epoch 14/100\n",
      "3/3 [==============================] - 0s 27ms/step - loss: 8.5406 - val_loss: 5.5564\n",
      "Epoch 15/100\n",
      "3/3 [==============================] - 0s 21ms/step - loss: 8.5428 - val_loss: 6.6365\n",
      "Epoch 16/100\n",
      "3/3 [==============================] - 0s 19ms/step - loss: 8.5510 - val_loss: 5.2727\n",
      "Epoch 17/100\n",
      "3/3 [==============================] - 0s 22ms/step - loss: 7.6653 - val_loss: 5.0646\n",
      "Epoch 18/100\n",
      "3/3 [==============================] - 0s 20ms/step - loss: 7.3230 - val_loss: 5.2217\n",
      "Epoch 19/100\n",
      "3/3 [==============================] - 0s 20ms/step - loss: 6.6888 - val_loss: 4.9264\n",
      "Epoch 20/100\n",
      "3/3 [==============================] - 0s 16ms/step - loss: 6.5235 - val_loss: 4.5873\n",
      "Epoch 21/100\n",
      "3/3 [==============================] - 0s 28ms/step - loss: 6.3174 - val_loss: 4.9115\n",
      "Epoch 22/100\n",
      "3/3 [==============================] - 0s 18ms/step - loss: 6.2242 - val_loss: 4.8115\n",
      "Epoch 23/100\n",
      "3/3 [==============================] - 0s 18ms/step - loss: 5.3718 - val_loss: 5.1026\n",
      "Epoch 24/100\n",
      "3/3 [==============================] - 0s 22ms/step - loss: 6.0230 - val_loss: 4.3525\n",
      "Epoch 25/100\n",
      "3/3 [==============================] - 0s 19ms/step - loss: 4.8273 - val_loss: 4.5471\n",
      "Epoch 26/100\n",
      "3/3 [==============================] - 0s 17ms/step - loss: 4.5843 - val_loss: 4.2216\n",
      "Epoch 27/100\n",
      "3/3 [==============================] - 0s 26ms/step - loss: 4.1802 - val_loss: 4.7959\n",
      "Epoch 28/100\n",
      "3/3 [==============================] - 0s 21ms/step - loss: 4.9403 - val_loss: 4.3576\n",
      "Epoch 29/100\n",
      "3/3 [==============================] - 0s 24ms/step - loss: 3.9015 - val_loss: 3.6512\n",
      "Epoch 30/100\n",
      "3/3 [==============================] - 0s 18ms/step - loss: 3.7175 - val_loss: 3.7973\n",
      "Epoch 31/100\n",
      "3/3 [==============================] - 0s 17ms/step - loss: 3.5057 - val_loss: 3.3750\n",
      "Epoch 32/100\n",
      "3/3 [==============================] - 0s 21ms/step - loss: 3.3046 - val_loss: 2.8729\n",
      "Epoch 33/100\n",
      "3/3 [==============================] - 0s 23ms/step - loss: 3.5020 - val_loss: 3.5528\n",
      "Epoch 34/100\n",
      "3/3 [==============================] - 0s 28ms/step - loss: 3.1856 - val_loss: 3.1077\n",
      "Epoch 35/100\n",
      "3/3 [==============================] - 0s 22ms/step - loss: 4.0684 - val_loss: 3.0588\n",
      "Epoch 36/100\n",
      "3/3 [==============================] - 0s 21ms/step - loss: 4.2912 - val_loss: 4.9023\n",
      "Epoch 37/100\n",
      "3/3 [==============================] - 0s 18ms/step - loss: 5.9667 - val_loss: 4.3322\n",
      "Epoch 38/100\n",
      "3/3 [==============================] - 0s 23ms/step - loss: 3.9475 - val_loss: 4.1736\n",
      "Epoch 39/100\n",
      "3/3 [==============================] - 0s 23ms/step - loss: 4.5459 - val_loss: 4.4501\n",
      "Epoch 40/100\n",
      "3/3 [==============================] - 0s 18ms/step - loss: 4.4212 - val_loss: 3.9892\n",
      "Epoch 41/100\n",
      "3/3 [==============================] - 0s 21ms/step - loss: 3.9896 - val_loss: 2.6246\n",
      "Epoch 42/100\n",
      "3/3 [==============================] - 0s 17ms/step - loss: 3.1052 - val_loss: 2.9742\n",
      "Epoch 43/100\n",
      "3/3 [==============================] - 0s 22ms/step - loss: 2.9142 - val_loss: 3.7258\n",
      "Epoch 44/100\n",
      "3/3 [==============================] - 0s 25ms/step - loss: 3.4456 - val_loss: 2.4460\n",
      "Epoch 45/100\n",
      "3/3 [==============================] - 0s 20ms/step - loss: 3.2265 - val_loss: 3.1700\n",
      "Epoch 46/100\n",
      "3/3 [==============================] - 0s 25ms/step - loss: 3.4390 - val_loss: 3.4924\n",
      "Epoch 47/100\n",
      "3/3 [==============================] - 0s 18ms/step - loss: 3.5694 - val_loss: 3.5664\n",
      "Epoch 48/100\n",
      "3/3 [==============================] - 0s 18ms/step - loss: 5.0480 - val_loss: 2.5885\n",
      "Epoch 49/100\n",
      "3/3 [==============================] - 0s 23ms/step - loss: 4.8118 - val_loss: 2.9683\n",
      "Epoch 50/100\n",
      "3/3 [==============================] - 0s 22ms/step - loss: 4.3599 - val_loss: 4.4641\n",
      "Epoch 51/100\n",
      "3/3 [==============================] - 0s 21ms/step - loss: 3.9756 - val_loss: 6.5260\n",
      "Epoch 52/100\n",
      "3/3 [==============================] - 0s 31ms/step - loss: 4.5059 - val_loss: 4.2423\n",
      "Epoch 53/100\n",
      "3/3 [==============================] - 0s 38ms/step - loss: 5.2987 - val_loss: 2.8991\n",
      "Epoch 54/100\n",
      "3/3 [==============================] - 0s 25ms/step - loss: 4.5760 - val_loss: 3.7563\n",
      "Epoch 55/100\n",
      "3/3 [==============================] - 0s 20ms/step - loss: 3.9813 - val_loss: 4.0767\n",
      "Epoch 56/100\n",
      "3/3 [==============================] - 0s 17ms/step - loss: 3.8153 - val_loss: 4.1506\n",
      "Epoch 57/100\n",
      "3/3 [==============================] - 0s 25ms/step - loss: 4.5104 - val_loss: 3.4530\n",
      "Epoch 58/100\n",
      "3/3 [==============================] - 0s 25ms/step - loss: 3.5529 - val_loss: 3.6282\n",
      "Epoch 59/100\n",
      "3/3 [==============================] - 0s 25ms/step - loss: 3.4122 - val_loss: 2.6828\n",
      "Epoch 60/100\n",
      "3/3 [==============================] - 0s 24ms/step - loss: 3.0113 - val_loss: 2.6425\n",
      "Epoch 61/100\n",
      "3/3 [==============================] - 0s 28ms/step - loss: 3.0303 - val_loss: 2.4934\n",
      "Epoch 62/100\n",
      "3/3 [==============================] - 0s 23ms/step - loss: 2.6581 - val_loss: 2.5798\n",
      "Epoch 63/100\n",
      "3/3 [==============================] - 0s 30ms/step - loss: 2.8690 - val_loss: 2.2847\n",
      "Epoch 64/100\n",
      "3/3 [==============================] - 0s 55ms/step - loss: 2.6631 - val_loss: 2.5869\n",
      "Epoch 65/100\n",
      "3/3 [==============================] - 0s 68ms/step - loss: 2.9092 - val_loss: 2.5425\n",
      "Epoch 66/100\n",
      "3/3 [==============================] - 0s 88ms/step - loss: 2.7363 - val_loss: 2.3640\n",
      "Epoch 67/100\n",
      "3/3 [==============================] - 0s 107ms/step - loss: 2.8931 - val_loss: 2.1870\n",
      "Epoch 68/100\n",
      "3/3 [==============================] - 0s 93ms/step - loss: 2.5806 - val_loss: 2.5225\n",
      "Epoch 69/100\n",
      "3/3 [==============================] - 0s 60ms/step - loss: 2.6818 - val_loss: 2.0846\n",
      "Epoch 70/100\n",
      "3/3 [==============================] - 0s 67ms/step - loss: 2.6257 - val_loss: 2.1091\n",
      "Epoch 71/100\n",
      "3/3 [==============================] - 0s 118ms/step - loss: 2.5605 - val_loss: 2.6818\n",
      "Epoch 72/100\n",
      "3/3 [==============================] - 0s 41ms/step - loss: 3.1426 - val_loss: 2.4745\n",
      "Epoch 73/100\n",
      "3/3 [==============================] - 0s 42ms/step - loss: 2.7639 - val_loss: 2.3533\n",
      "Epoch 74/100\n",
      "3/3 [==============================] - 0s 34ms/step - loss: 2.6297 - val_loss: 3.3913\n",
      "Epoch 75/100\n",
      "3/3 [==============================] - 0s 19ms/step - loss: 3.8760 - val_loss: 2.8021\n",
      "Epoch 76/100\n",
      "3/3 [==============================] - 0s 92ms/step - loss: 3.0681 - val_loss: 2.8442\n",
      "Epoch 77/100\n",
      "3/3 [==============================] - 0s 69ms/step - loss: 3.6952 - val_loss: 2.8638\n",
      "Epoch 78/100\n",
      "3/3 [==============================] - 0s 113ms/step - loss: 4.2392 - val_loss: 3.7255\n",
      "Epoch 79/100\n",
      "3/3 [==============================] - 0s 74ms/step - loss: 3.3423 - val_loss: 3.7064\n",
      "Epoch 80/100\n"
     ]
    },
    {
     "name": "stdout",
     "output_type": "stream",
     "text": [
      "3/3 [==============================] - 0s 34ms/step - loss: 3.6653 - val_loss: 3.1202\n",
      "Epoch 81/100\n",
      "3/3 [==============================] - 0s 32ms/step - loss: 4.0371 - val_loss: 3.8451\n",
      "Epoch 82/100\n",
      "3/3 [==============================] - 0s 22ms/step - loss: 3.9675 - val_loss: 2.7601\n",
      "Epoch 83/100\n",
      "3/3 [==============================] - 0s 24ms/step - loss: 3.5069 - val_loss: 3.3094\n",
      "Epoch 84/100\n",
      "3/3 [==============================] - 0s 21ms/step - loss: 2.9725 - val_loss: 3.1527\n",
      "Epoch 85/100\n",
      "3/3 [==============================] - 0s 25ms/step - loss: 3.5089 - val_loss: 5.0122\n",
      "Epoch 86/100\n",
      "3/3 [==============================] - 0s 28ms/step - loss: 3.5395 - val_loss: 3.9528\n",
      "Epoch 87/100\n",
      "3/3 [==============================] - 0s 23ms/step - loss: 3.8167 - val_loss: 3.3210\n",
      "Epoch 88/100\n",
      "3/3 [==============================] - 0s 19ms/step - loss: 3.8219 - val_loss: 2.7733\n",
      "Epoch 89/100\n",
      "3/3 [==============================] - 0s 25ms/step - loss: 3.2204 - val_loss: 2.5222\n",
      "Epoch 90/100\n",
      "3/3 [==============================] - 0s 30ms/step - loss: 3.4084 - val_loss: 2.3162\n",
      "Epoch 91/100\n",
      "3/3 [==============================] - 0s 23ms/step - loss: 2.8416 - val_loss: 2.5686\n",
      "Epoch 92/100\n",
      "3/3 [==============================] - 0s 29ms/step - loss: 3.2391 - val_loss: 2.4598\n",
      "Epoch 93/100\n",
      "3/3 [==============================] - 0s 20ms/step - loss: 3.2976 - val_loss: 3.0577\n",
      "Epoch 94/100\n",
      "3/3 [==============================] - 0s 20ms/step - loss: 2.9678 - val_loss: 3.2855\n",
      "Epoch 95/100\n",
      "3/3 [==============================] - 0s 31ms/step - loss: 3.4063 - val_loss: 2.8161\n",
      "Epoch 96/100\n",
      "3/3 [==============================] - 0s 22ms/step - loss: 2.9918 - val_loss: 2.4440\n",
      "Epoch 97/100\n",
      "3/3 [==============================] - 0s 19ms/step - loss: 2.7067 - val_loss: 2.0775\n",
      "Epoch 98/100\n",
      "3/3 [==============================] - 0s 19ms/step - loss: 2.6359 - val_loss: 2.2121\n",
      "Epoch 99/100\n",
      "3/3 [==============================] - 0s 31ms/step - loss: 2.5382 - val_loss: 2.4438\n",
      "Epoch 100/100\n",
      "3/3 [==============================] - 0s 40ms/step - loss: 2.8391 - val_loss: 2.8013\n"
     ]
    }
   ],
   "source": [
    "history = model_biased.fit([X_train, sid_train], y_train, epochs=100,\n",
    "                    validation_data=([X_valid, sid_valid], y_valid))"
   ]
  },
  {
   "cell_type": "code",
   "execution_count": 132,
   "id": "ca149f05",
   "metadata": {},
   "outputs": [
    {
     "name": "stdout",
     "output_type": "stream",
     "text": [
      "Saving figure grid_noBiaseNum_training_curve\n"
     ]
    },
    {
     "data": {
      "image/png": "[encoded data removed]",
      "text/plain": [
       "<Figure size 576x360 with 1 Axes>"
      ]
     },
     "metadata": {
      "needs_background": "light"
     },
     "output_type": "display_data"
    }
   ],
   "source": [
    "import pandas as pd\n",
    "\n",
    "pd.DataFrame(history.history).plot(figsize=(8, 5))\n",
    "plt.grid(True)\n",
    "# plt.gca().set_ylim(0, 1)\n",
    "save_fig(\"grid_noBiaseNum_training_curve\")\n",
    "plt.show()"
   ]
  },
  {
   "cell_type": "markdown",
   "id": "2433c7a5",
   "metadata": {},
   "source": [
    "The pure prediction"
   ]
  },
  {
   "cell_type": "code",
   "execution_count": 133,
   "id": "556ee2c4",
   "metadata": {},
   "outputs": [
    {
     "name": "stdout",
     "output_type": "stream",
     "text": [
      "X.shape = (None, 1)\n",
      "gauss_grid.shape = (None, 5)\n",
      "Saving figure grid_noBaisedNum_prediction\n"
     ]
    },
    {
     "data": {
      "image/png": "[encoded data removed]",
      "text/plain": [
       "<Figure size 432x288 with 1 Axes>"
      ]
     },
     "metadata": {
      "needs_background": "light"
     },
     "output_type": "display_data"
    }
   ],
   "source": [
    "draw_points(X_train, y_train, sid_train)\n",
    "draw_func(model.predict, mark='r-', linewidth=2, label=\"Predictions\")\n",
    "draw_normal_func(func_dict)\n",
    "plt.xlabel(\"$x_1$\", fontsize=18)\n",
    "plt.ylabel(\"$y$\", rotation=0, fontsize=18)\n",
    "plt.legend(loc=\"upper left\", fontsize=14)\n",
    "# plt.axis([-3, 3, 0, 10])\n",
    "save_fig(\"grid_noBaisedNum_prediction\")\n",
    "plt.show()"
   ]
  },
  {
   "cell_type": "code",
   "execution_count": 134,
   "id": "4d3d77cd",
   "metadata": {},
   "outputs": [
    {
     "name": "stdout",
     "output_type": "stream",
     "text": [
      "y_func.shape = (100, 1)\n",
      "y_gt.shape = (100, 1)\n"
     ]
    },
    {
     "data": {
      "text/plain": [
       "1.5760001631698213"
      ]
     },
     "execution_count": 134,
     "metadata": {},
     "output_type": "execute_result"
    }
   ],
   "source": [
    "get_prediction_error(model.predict, func_dict, name=\"grid-noBiaseNum\")"
   ]
  },
  {
   "cell_type": "markdown",
   "id": "b89b2413",
   "metadata": {},
   "source": [
    "### Biased Prediction (according to SID)"
   ]
  },
  {
   "cell_type": "code",
   "execution_count": 135,
   "id": "0893f75e",
   "metadata": {},
   "outputs": [
    {
     "name": "stdout",
     "output_type": "stream",
     "text": [
      "scaled_bias = \n",
      "[[-12.271743]\n",
      " [ 11.919928]]\n",
      "\n",
      "mean_scaled_bias = [-0.35181522]\n"
     ]
    }
   ],
   "source": [
    "scaled_bias = model_biased.get_layer(\"bias_est\").get_scaled_biases_np()\n",
    "mean_scaled_bias = np.sum(scaled_bias, axis=0)\n",
    "#\n",
    "print(\"scaled_bias = \\n%s\" % str(scaled_bias))\n",
    "print(\"\\nmean_scaled_bias = %s\" % str(mean_scaled_bias))"
   ]
  },
  {
   "cell_type": "code",
   "execution_count": 136,
   "id": "09a3b806",
   "metadata": {},
   "outputs": [
    {
     "name": "stdout",
     "output_type": "stream",
     "text": [
      "output_scales = \n",
      "[[1.112296  ]\n",
      " [0.86927074]]\n",
      "\n",
      "mean_scales = [0.99078333]\n"
     ]
    }
   ],
   "source": [
    "try:\n",
    "    output_scales = model_biased.get_layer(\"bias_est\").get_weights_np()\n",
    "    mean_scales = np.mean(output_scales, axis=0)\n",
    "    #\n",
    "    print(\"output_scales = \\n%s\" % str(output_scales))\n",
    "    print(\"\\nmean_scales = %s\" % str(mean_scales))\n",
    "except:\n",
    "    pass"
   ]
  },
  {
   "cell_type": "code",
   "execution_count": 137,
   "id": "16460e63",
   "metadata": {},
   "outputs": [
    {
     "name": "stdout",
     "output_type": "stream",
     "text": [
      "X.shape = (None, 1)\n",
      "gauss_grid.shape = (None, 5)\n",
      "X.shape = (None, 1)\n",
      "SID.shape = (None, 1)\n",
      "Saving figure grid_noBaisedNum_prediction\n"
     ]
    },
    {
     "data": {
      "image/png": "[encoded data removed]",
      "text/plain": [
       "<Figure size 432x288 with 1 Axes>"
      ]
     },
     "metadata": {
      "needs_background": "light"
     },
     "output_type": "display_data"
    }
   ],
   "source": [
    "def predict_with_biase_sid(X, sid=1):\n",
    "    return model_biased.predict([X, tf.fill( (X.shape[0],1), sid)])\n",
    "\n",
    "draw_points(X_train, y_train, sid_train)\n",
    "#\n",
    "draw_func(model.predict, mark='r-', linewidth=2, label=\"Predictions\")\n",
    "for _idx in range(num_subject):\n",
    "    _sid = _idx + 1\n",
    "    draw_func(lambda X: predict_with_biase_sid(X, _sid), mark='k--', linewidth=1, label=(\"sid=%d\" % _sid))\n",
    "#\n",
    "draw_normal_func(func_dict)\n",
    "plt.xlabel(\"$x_1$\", fontsize=18)\n",
    "plt.ylabel(\"$y$\", rotation=0, fontsize=18)\n",
    "plt.legend(loc=\"upper left\", fontsize=14)\n",
    "# plt.axis([-3, 3, 0, 10])\n",
    "save_fig(\"grid_noBaisedNum_prediction\")\n",
    "plt.show()"
   ]
  },
  {
   "cell_type": "code",
   "execution_count": null,
   "id": "098cd2a1",
   "metadata": {},
   "outputs": [],
   "source": []
  },
  {
   "cell_type": "markdown",
   "id": "82ec4fc4",
   "metadata": {},
   "source": [
    "# Summary"
   ]
  },
  {
   "cell_type": "code",
   "execution_count": 138,
   "id": "2d764d70",
   "metadata": {},
   "outputs": [
    {
     "name": "stdout",
     "output_type": "stream",
     "text": [
      "num-num: 6.018743\n",
      "grid-num: 4.175491\n",
      "grid-rbc: 3.578242\n",
      "grid-quantileR: 1.431084\n",
      "grid-oneGaussian: 6.219163\n",
      "grid-noBiaseNum: 1.576000\n",
      "\n"
     ]
    }
   ],
   "source": [
    "results = print_all_prediction_error()"
   ]
  },
  {
   "cell_type": "code",
   "execution_count": 139,
   "id": "9f01e530",
   "metadata": {},
   "outputs": [
    {
     "name": "stdout",
     "output_type": "stream",
     "text": [
      "Saving all prediction errors to [.\\images\\regression_test_2\\prediction_errors.txt].\n"
     ]
    },
    {
     "data": {
      "text/plain": [
       "True"
      ]
     },
     "execution_count": 139,
     "metadata": {},
     "output_type": "execute_result"
    }
   ],
   "source": [
    "save_prediction_errors()"
   ]
  },
  {
   "cell_type": "code",
   "execution_count": null,
   "id": "0c3bdf42",
   "metadata": {},
   "outputs": [],
   "source": []
  },
  {
   "cell_type": "code",
   "execution_count": null,
   "id": "a5e6a55a",
   "metadata": {},
   "outputs": [],
   "source": []
  },
  {
   "cell_type": "code",
   "execution_count": null,
   "id": "1838a588",
   "metadata": {},
   "outputs": [],
   "source": []
  }
 ],
 "metadata": {
  "kernelspec": {
   "display_name": "Python 3 (ipykernel)",
   "language": "python",
   "name": "python3"
  },
  "language_info": {
   "codemirror_mode": {
    "name": "ipython",
    "version": 3
   },
   "file_extension": ".py",
   "mimetype": "text/x-python",
   "name": "python",
   "nbconvert_exporter": "python",
   "pygments_lexer": "ipython3",
   "version": "3.9.7"
  }
 },
 "nbformat": 4,
 "nbformat_minor": 5
}
