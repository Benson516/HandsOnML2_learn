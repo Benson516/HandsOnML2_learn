{
 "cells": [
  {
   "cell_type": "markdown",
   "id": "899fa113",
   "metadata": {},
   "source": [
    "# Regression with Different Output Format under Various Data Conditions\n",
    "\n",
    "In this experience, we test the following output format for regression task under several different data coditions.\n",
    "- Numerical output\n",
    "- Regression as classification (grid-out)\n",
    "\n",
    "The data coditions include:\n",
    "- Sparse (few data)\n",
    "- Grouped\n",
    "  - Biased (parallel data)\n",
    "  - Completely different mode, uncorrelated data (cross)\n",
    "  - Partially diversed (split)"
   ]
  },
  {
   "cell_type": "code",
   "execution_count": 1,
   "id": "625ce7c3",
   "metadata": {},
   "outputs": [],
   "source": [
    "import numpy as np\n",
    "import tensorflow as tf\n",
    "from tensorflow import keras\n",
    "import os\n",
    "\n",
    "# To plot pretty figures\n",
    "%matplotlib inline\n",
    "import matplotlib as mpl\n",
    "import matplotlib.pyplot as plt\n",
    "mpl.rc('axes', labelsize=14)\n",
    "mpl.rc('xtick', labelsize=12)\n",
    "mpl.rc('ytick', labelsize=12)"
   ]
  },
  {
   "cell_type": "code",
   "execution_count": 2,
   "id": "7ad564ad",
   "metadata": {},
   "outputs": [],
   "source": [
    "# Where to save the figures\n",
    "PROJECT_ROOT_DIR = \".\"\n",
    "CHAPTER_ID = \"regression_test_2\"\n",
    "IMAGES_PATH = os.path.join(PROJECT_ROOT_DIR, \"images\", CHAPTER_ID)\n",
    "os.makedirs(IMAGES_PATH, exist_ok=True)\n",
    "\n",
    "def save_fig(fig_id, tight_layout=True, fig_extension=\"png\", resolution=300):\n",
    "    path = os.path.join(IMAGES_PATH, fig_id + \".\" + fig_extension)\n",
    "    print(\"Saving figure\", fig_id)\n",
    "    if tight_layout:\n",
    "        plt.tight_layout()\n",
    "    plt.savefig(path, format=fig_extension, dpi=resolution)"
   ]
  },
  {
   "cell_type": "code",
   "execution_count": 3,
   "id": "94e8a077",
   "metadata": {},
   "outputs": [],
   "source": [
    "def draw_func(func_in, x_min=-5, x_max=5, mark='r--', linewidth=1, label='func'):\n",
    "    n_sample = 100\n",
    "    X_func = np.linspace(x_min, x_max, n_sample).reshape(n_sample, 1)\n",
    "    y_func = func_in(X_func)\n",
    "    plt.plot(X_func, y_func, mark, linewidth=linewidth, label=label)"
   ]
  },
  {
   "cell_type": "markdown",
   "id": "c27ffe35",
   "metadata": {},
   "source": [
    "Generate polynomial data"
   ]
  },
  {
   "cell_type": "code",
   "execution_count": 4,
   "id": "ce670ce4",
   "metadata": {},
   "outputs": [],
   "source": [
    "poly_a1 = 5.0\n",
    "# poly_a1 = -10.0 # 5.0\n",
    "#\n",
    "sin_a = 0.0\n",
    "# sin_a = 10.0\n",
    "sin_f = 0.1 # 0.2\n",
    "#\n",
    "def func_0(X): # Reference\n",
    "    return 0.5 * X**3 + 0.5 * X**2 + (poly_a1)*X + 2 + sin_a*np.sin(2.0*np.pi*sin_f*X)\n",
    "def func_1(X): # Variation 1: parellel\n",
    "    return 0.5 * X**3 + 0.5 * X**2 + (poly_a1)*X + 30 + sin_a*np.sin(2.0*np.pi*sin_f*X)\n",
    "def func_2(X): # Variation 2: cross\n",
    "    return -0.5 * X**3 + 0.5 * X**2 + (poly_a1)*X + 30 + sin_a*np.sin(2.0*np.pi*sin_f*X)\n",
    "def func_3(X): # Variation 3: slightly split\n",
    "    return 0.3 * X**3 + 1.0 * X**2 + (poly_a1)*X + 15 + sin_a*np.sin(2.0*np.pi*sin_f*X)\n",
    "def func_4(X): # Sine wave~\n",
    "    return 0.5 * X**3 + 0.5 * X**2 + (poly_a1)*X + 2 + 20.0*np.sin(2.0*np.pi*sin_f*X) # 50.0"
   ]
  },
  {
   "cell_type": "code",
   "execution_count": 5,
   "id": "9463bfff",
   "metadata": {},
   "outputs": [],
   "source": [
    "func_dict = dict()\n",
    "#-----------------#\n",
    "func_dict[\"f1\"] = func_0\n",
    "#-----------------#\n",
    "# func_dict[\"f2\"] = func_1\n",
    "# func_dict[\"f2\"] = func_2\n",
    "func_dict[\"f2\"] = func_3\n",
    "# func_dict[\"f2\"] = func_4\n",
    "#-----------------#\n",
    "func_dict[\"f3\"] = func_4\n",
    "#-----------------#\n",
    "\n",
    "# Note: func_dict[\"f_avg\"] depends on multiout_type and is calculated in each section of multiout_type"
   ]
  },
  {
   "cell_type": "code",
   "execution_count": 6,
   "id": "63437d0c",
   "metadata": {},
   "outputs": [
    {
     "name": "stdout",
     "output_type": "stream",
     "text": [
      "(m, m_train) = (100, 80)\n",
      "y_data_pure.shape = (100, 1)\n",
      "y_data.shape = (100, 1)\n"
     ]
    }
   ],
   "source": [
    "np.random.seed(42)\n",
    "m = 100 # 50 # 100 # 200\n",
    "m_train = m // 5 * 4\n",
    "print(\"(m, m_train) = (%d, %d)\" % (m, m_train))\n",
    "\n",
    "# Input\n",
    "is_gapped = True\n",
    "# is_gapped = False\n",
    "#\n",
    "if not is_gapped:\n",
    "    X_data = 10 * np.random.rand(m, 1) - 5 # Note: X is randomly sampled, so we don't need to shuffle the data again\n",
    "else:\n",
    "    X_data = np.concatenate( (np.linspace(-5.0, -2.0, m//2), np.linspace(2.0, 5.0, m-m//2)) )\n",
    "    X_data = X_data.reshape((m,1))\n",
    "    np.random.shuffle(X_data)\n",
    "\n",
    "# Output, multiout_type in {1, 2, 3}\n",
    "# multiout_type = 1      \n",
    "multiout_type = 2 \n",
    "# multiout_type = 3 \n",
    "#\n",
    "sid_data = np.ones((m,1), dtype=int) # subject id, default: 1\n",
    "if multiout_type == 2:\n",
    "    m_h = m // 2\n",
    "    X_data_1 = X_data[:m_h]\n",
    "    X_data_2 = X_data[m_h:]\n",
    "    sid_data[:m_h] = 1 # id:1\n",
    "    sid_data[m_h:] = 2 # id:2\n",
    "    y_data_pure_1 = func_dict[\"f1\"](X_data_1) \n",
    "    y_data_pure_2 = func_dict[\"f2\"](X_data_2) \n",
    "    y_data_pure = np.vstack([y_data_pure_1, y_data_pure_2])\n",
    "    print(\"y_data_pure.shape = %s\" % str(y_data_pure.shape))\n",
    "    # Average line\n",
    "    func_dict[\"f_avg\"] = ( lambda X: 0.5*func_dict[\"f1\"](X) + 0.5*func_dict[\"f2\"](X) )\n",
    "    #\n",
    "elif multiout_type == 3: # with \"avg\" line\n",
    "    m_t = m // 3\n",
    "    X_data_1 = X_data[:m_t]\n",
    "    X_data_2 = X_data[m_t:(2*m_t)]\n",
    "    X_data_3 = X_data[(2*m_t):]\n",
    "    sid_data[:m_t]        = 1 # id:1\n",
    "    sid_data[m_t:(2*m_t)] = 2 # id:2\n",
    "    sid_data[(2*m_t):]    = 3 # id:3\n",
    "    y_data_pure_1 = func_dict[\"f1\"](X_data_1) \n",
    "    y_data_pure_2 = func_dict[\"f2\"](X_data_2) \n",
    "    y_data_pure_3 = func_dict[\"f3\"](X_data_3) \n",
    "    y_data_pure = np.vstack([y_data_pure_1, y_data_pure_2, y_data_pure_3])\n",
    "    print(\"y_data_pure.shape = %s\" % str(y_data_pure.shape))\n",
    "    # Average line\n",
    "    func_dict[\"f_avg\"] = ( lambda X: (func_dict[\"f1\"](X) + func_dict[\"f2\"](X) + func_dict[\"f3\"](X))/3.0 )\n",
    "    #\n",
    "else: # multiout_type == 1\n",
    "    # Average line\n",
    "    func_dict[\"f_avg\"] = ( lambda X: 0.5*func_dict[\"f1\"](X) + 0.5*func_dict[\"f2\"](X) )\n",
    "    y_data_pure = func_dict[\"f_avg\"](X_data)\n",
    "\n",
    "    \n",
    "# Label (+noise)\n",
    "n_stddev = 2.0\n",
    "# n_stddev = 10.0\n",
    "y_data = y_data_pure + np.random.randn(m, 1) * n_stddev\n",
    "print(\"y_data.shape = %s\" % str(y_data.shape))\n",
    "# print(\"sid_data = %s\" % str(sid_data))"
   ]
  },
  {
   "cell_type": "code",
   "execution_count": 7,
   "id": "ef588fae",
   "metadata": {},
   "outputs": [],
   "source": [
    "# Method 1: simply slice\n",
    "# X_train = X_data[:m_train]\n",
    "# y_train = y_data[:m_train]\n",
    "# X_valid = X_data[m_train:]\n",
    "# y_valid = y_data[m_train:]\n",
    "\n",
    "# Method 2: shuffle\n",
    "from sklearn.model_selection import train_test_split\n",
    "# X_train, X_valid, y_train, y_valid = train_test_split(X_data, y_data, test_size=0.2, random_state=42)\n",
    "X_train, X_valid, y_train, y_valid, sid_train, sid_valid = train_test_split(X_data, y_data, sid_data, test_size=0.2, random_state=42)"
   ]
  },
  {
   "cell_type": "code",
   "execution_count": 8,
   "id": "3b5d2cfe",
   "metadata": {},
   "outputs": [
    {
     "name": "stdout",
     "output_type": "stream",
     "text": [
      "(80, 1)\n"
     ]
    }
   ],
   "source": [
    "print(X_train.shape)\n",
    "# print(\"sid_train = %s\" % str(sid_train))"
   ]
  },
  {
   "cell_type": "code",
   "execution_count": 9,
   "id": "9bd2136c",
   "metadata": {},
   "outputs": [],
   "source": [
    "def draw_normal_func(func_dict):\n",
    "    if multiout_type != 1:\n",
    "        draw_func(func_dict[\"f1\"], mark='c:', label=\"f1\")\n",
    "        draw_func(func_dict[\"f2\"], mark='r:', label=\"f2\")\n",
    "    if multiout_type == 3:\n",
    "        draw_func(func_dict[\"f3\"], mark='y:', label=\"f3\")\n",
    "    draw_func(func_dict[\"f_avg\"], mark='m--', label=\"f_avg\")"
   ]
  },
  {
   "cell_type": "code",
   "execution_count": 10,
   "id": "3e4283c1",
   "metadata": {},
   "outputs": [],
   "source": [
    "def draw_points(X, y, sid=None):\n",
    "    if sid is None:\n",
    "        plt.plot(X, y, \"b.\")\n",
    "    else:\n",
    "        plt.plot(X[sid==1], y[sid==1], \"b.\")\n",
    "        plt.plot(X[sid==2], y[sid==2], \"r.\")\n",
    "        plt.plot(X[sid==3], y[sid==3], \"y.\")"
   ]
  },
  {
   "cell_type": "code",
   "execution_count": 11,
   "id": "693af3b7",
   "metadata": {},
   "outputs": [
    {
     "name": "stdout",
     "output_type": "stream",
     "text": [
      "Saving figure training_data\n"
     ]
    },
    {
     "data": {
      "image/png": "[encoded data removed]",
      "text/plain": [
       "<Figure size 432x288 with 1 Axes>"
      ]
     },
     "metadata": {
      "needs_background": "light"
     },
     "output_type": "display_data"
    }
   ],
   "source": [
    "# plt.plot(X_train, y_train, \"b.\")\n",
    "# plt.plot(X_train[sid_train==1], y_train[sid_train==1], \"b.\")\n",
    "# plt.plot(X_train[sid_train==2], y_train[sid_train==2], \"r.\")\n",
    "draw_points(X_train, y_train, sid_train)\n",
    "\n",
    "draw_normal_func(func_dict)\n",
    "plt.xlabel(\"$x_1$\", fontsize=18)\n",
    "plt.ylabel(\"$y$\", rotation=0, fontsize=18)\n",
    "plt.legend(loc=\"upper left\", fontsize=14)\n",
    "# plt.axis([-3, 3, 0, 10])\n",
    "save_fig(\"training_data\")\n",
    "plt.show()"
   ]
  },
  {
   "cell_type": "code",
   "execution_count": 12,
   "id": "a6853ff1",
   "metadata": {},
   "outputs": [],
   "source": [
    "prediction_error_dict = dict()\n",
    "\n",
    "def get_prediction_error(func_in, func_dict, name=\"\", x_min=-5, x_max=5, prediction_error_dict=prediction_error_dict):\n",
    "    n_sample = 100\n",
    "    X_func = np.linspace(x_min, x_max, n_sample).reshape(n_sample, 1)\n",
    "    y_func = func_in(X_func).reshape((n_sample,1))\n",
    "    y_gt = func_dict[\"f_avg\"](X_func).reshape((n_sample,1))\n",
    "    print(\"y_func.shape = %s\" % str(y_func.shape))\n",
    "    print(\"y_gt.shape = %s\" % str(y_gt.shape))\n",
    "#     total_error = np.sqrt(np.square(y_func - y_gt).mean())\n",
    "    total_error = np.abs(y_func - y_gt).mean()\n",
    "    prediction_error_dict[name] = total_error\n",
    "    return total_error\n",
    "\n",
    "def print_all_prediction_error(is_logging_to_screen=True, prediction_error_dict=prediction_error_dict):\n",
    "    _s = \"\"\n",
    "    for _n in prediction_error_dict:\n",
    "        _s += (\"%s: %f\" % (_n, prediction_error_dict[_n])) + \"\\n\"\n",
    "    if is_logging_to_screen:\n",
    "        print(_s)\n",
    "    return _s\n",
    "        \n",
    "def save_prediction_errors(is_logging_to_screen=False, prediction_error_dict=prediction_error_dict):\n",
    "    path = os.path.join(IMAGES_PATH, \"prediction_errors.txt\")\n",
    "    print(\"Saving all prediction errors to [%s].\" % path)\n",
    "    _s = print_all_prediction_error(is_logging_to_screen=is_logging_to_screen, prediction_error_dict=prediction_error_dict)\n",
    "    with open(path, \"w\") as _f:\n",
    "        _f.write(_s)\n",
    "    return True"
   ]
  },
  {
   "cell_type": "markdown",
   "id": "053ecc57",
   "metadata": {},
   "source": [
    "# Simple FCs (number --> number)"
   ]
  },
  {
   "cell_type": "markdown",
   "id": "c66eb67b",
   "metadata": {},
   "source": [
    "Build the regression model"
   ]
  },
  {
   "cell_type": "code",
   "execution_count": 13,
   "id": "9449fc0b",
   "metadata": {},
   "outputs": [
    {
     "name": "stderr",
     "output_type": "stream",
     "text": [
      "C:\\Users\\benso\\anaconda3\\envs\\ml\\lib\\site-packages\\keras\\optimizer_v2\\gradient_descent.py:102: UserWarning: The `lr` argument is deprecated, use `learning_rate` instead.\n",
      "  super(SGD, self).__init__(name, **kwargs)\n"
     ]
    }
   ],
   "source": [
    "model = keras.models.Sequential([\n",
    "    keras.layers.Dense(30, activation=\"relu\", input_shape=X_train.shape[1:]),\n",
    "    keras.layers.Dense(30, activation=\"relu\"),\n",
    "    keras.layers.Dense(1)\n",
    "])\n",
    "\n",
    "optimizer = keras.optimizers.SGD(lr=0.0001, momentum=0.9)\n",
    "model.compile(loss=\"mean_squared_error\", optimizer=optimizer)\n",
    "# optimizer = keras.optimizers.Adam(lr=0.01)\n",
    "# model.compile(loss=\"mean_absolute_error\", optimizer=optimizer)"
   ]
  },
  {
   "cell_type": "code",
   "execution_count": 14,
   "id": "92afd68a",
   "metadata": {
    "scrolled": true
   },
   "outputs": [
    {
     "name": "stdout",
     "output_type": "stream",
     "text": [
      "Epoch 1/100\n",
      "3/3 [==============================] - 1s 79ms/step - loss: 2475.0203 - val_loss: 1653.3118\n",
      "Epoch 2/100\n",
      "3/3 [==============================] - 0s 15ms/step - loss: 2378.7051 - val_loss: 1558.4978\n",
      "Epoch 3/100\n",
      "3/3 [==============================] - 0s 16ms/step - loss: 2215.4143 - val_loss: 1379.5759\n",
      "Epoch 4/100\n",
      "3/3 [==============================] - 0s 19ms/step - loss: 1881.3789 - val_loss: 989.7993\n",
      "Epoch 5/100\n",
      "3/3 [==============================] - 0s 20ms/step - loss: 1129.1122 - val_loss: 374.0832\n",
      "Epoch 6/100\n",
      "3/3 [==============================] - 0s 19ms/step - loss: 417.1821 - val_loss: 648.2035\n",
      "Epoch 7/100\n",
      "3/3 [==============================] - 0s 17ms/step - loss: 717.5984 - val_loss: 191.6797\n",
      "Epoch 8/100\n",
      "3/3 [==============================] - 0s 18ms/step - loss: 279.8897 - val_loss: 335.9543\n",
      "Epoch 9/100\n",
      "3/3 [==============================] - 0s 20ms/step - loss: 580.7290 - val_loss: 340.7610\n",
      "Epoch 10/100\n",
      "3/3 [==============================] - 0s 21ms/step - loss: 403.7171 - val_loss: 171.9283\n",
      "Epoch 11/100\n",
      "3/3 [==============================] - 0s 20ms/step - loss: 262.2924 - val_loss: 325.8203\n",
      "Epoch 12/100\n",
      "3/3 [==============================] - 0s 15ms/step - loss: 388.7705 - val_loss: 190.5510\n",
      "Epoch 13/100\n",
      "3/3 [==============================] - 0s 17ms/step - loss: 221.7023 - val_loss: 230.9093\n",
      "Epoch 14/100\n",
      "3/3 [==============================] - 0s 15ms/step - loss: 283.9689 - val_loss: 207.5083\n",
      "Epoch 15/100\n",
      "3/3 [==============================] - 0s 16ms/step - loss: 221.5246 - val_loss: 201.9046\n",
      "Epoch 16/100\n",
      "3/3 [==============================] - 0s 19ms/step - loss: 231.4384 - val_loss: 205.5575\n",
      "Epoch 17/100\n",
      "3/3 [==============================] - 0s 15ms/step - loss: 221.3628 - val_loss: 174.5742\n",
      "Epoch 18/100\n",
      "3/3 [==============================] - 0s 14ms/step - loss: 201.2477 - val_loss: 172.0541\n",
      "Epoch 19/100\n",
      "3/3 [==============================] - 0s 14ms/step - loss: 203.1340 - val_loss: 168.9035\n",
      "Epoch 20/100\n",
      "3/3 [==============================] - 0s 14ms/step - loss: 195.3793 - val_loss: 170.7595\n",
      "Epoch 21/100\n",
      "3/3 [==============================] - 0s 14ms/step - loss: 195.4198 - val_loss: 169.8410\n",
      "Epoch 22/100\n",
      "3/3 [==============================] - 0s 14ms/step - loss: 198.1307 - val_loss: 168.0703\n",
      "Epoch 23/100\n",
      "3/3 [==============================] - 0s 15ms/step - loss: 196.9095 - val_loss: 168.6533\n",
      "Epoch 24/100\n",
      "3/3 [==============================] - 0s 14ms/step - loss: 194.8882 - val_loss: 171.3910\n",
      "Epoch 25/100\n",
      "3/3 [==============================] - 0s 15ms/step - loss: 191.9146 - val_loss: 172.4337\n",
      "Epoch 26/100\n",
      "3/3 [==============================] - 0s 15ms/step - loss: 192.6557 - val_loss: 173.1992\n",
      "Epoch 27/100\n",
      "3/3 [==============================] - 0s 17ms/step - loss: 191.6900 - val_loss: 179.5771\n",
      "Epoch 28/100\n",
      "3/3 [==============================] - 0s 14ms/step - loss: 191.6319 - val_loss: 179.3914\n",
      "Epoch 29/100\n",
      "3/3 [==============================] - 0s 18ms/step - loss: 190.1842 - val_loss: 171.1429\n",
      "Epoch 30/100\n",
      "3/3 [==============================] - 0s 14ms/step - loss: 187.2591 - val_loss: 166.3049\n",
      "Epoch 31/100\n",
      "3/3 [==============================] - 0s 17ms/step - loss: 186.3736 - val_loss: 164.1980\n",
      "Epoch 32/100\n",
      "3/3 [==============================] - 0s 14ms/step - loss: 186.5138 - val_loss: 162.1720\n",
      "Epoch 33/100\n",
      "3/3 [==============================] - 0s 17ms/step - loss: 188.4673 - val_loss: 161.5177\n",
      "Epoch 34/100\n",
      "3/3 [==============================] - 0s 14ms/step - loss: 188.0565 - val_loss: 161.1369\n",
      "Epoch 35/100\n",
      "3/3 [==============================] - 0s 14ms/step - loss: 186.7500 - val_loss: 164.9036\n",
      "Epoch 36/100\n",
      "3/3 [==============================] - 0s 14ms/step - loss: 184.5670 - val_loss: 169.5647\n",
      "Epoch 37/100\n",
      "3/3 [==============================] - 0s 15ms/step - loss: 183.5892 - val_loss: 171.0370\n",
      "Epoch 38/100\n",
      "3/3 [==============================] - 0s 14ms/step - loss: 185.2133 - val_loss: 168.8841\n",
      "Epoch 39/100\n",
      "3/3 [==============================] - 0s 15ms/step - loss: 182.5675 - val_loss: 172.0956\n",
      "Epoch 40/100\n",
      "3/3 [==============================] - 0s 15ms/step - loss: 182.5809 - val_loss: 171.5530\n",
      "Epoch 41/100\n",
      "3/3 [==============================] - 0s 14ms/step - loss: 181.6556 - val_loss: 168.6072\n",
      "Epoch 42/100\n",
      "3/3 [==============================] - 0s 16ms/step - loss: 180.3259 - val_loss: 166.2969\n",
      "Epoch 43/100\n",
      "3/3 [==============================] - 0s 14ms/step - loss: 179.8250 - val_loss: 163.8923\n",
      "Epoch 44/100\n",
      "3/3 [==============================] - 0s 14ms/step - loss: 178.9229 - val_loss: 162.0821\n",
      "Epoch 45/100\n",
      "3/3 [==============================] - 0s 17ms/step - loss: 178.3549 - val_loss: 161.1297\n",
      "Epoch 46/100\n",
      "3/3 [==============================] - 0s 15ms/step - loss: 179.9654 - val_loss: 157.9357\n",
      "Epoch 47/100\n",
      "3/3 [==============================] - 0s 15ms/step - loss: 178.6077 - val_loss: 159.1801\n",
      "Epoch 48/100\n",
      "3/3 [==============================] - 0s 14ms/step - loss: 178.4454 - val_loss: 163.2870\n",
      "Epoch 49/100\n",
      "3/3 [==============================] - 0s 14ms/step - loss: 177.5219 - val_loss: 171.6750\n",
      "Epoch 50/100\n",
      "3/3 [==============================] - 0s 14ms/step - loss: 180.4178 - val_loss: 172.5596\n",
      "Epoch 51/100\n",
      "3/3 [==============================] - 0s 14ms/step - loss: 176.3948 - val_loss: 169.7120\n",
      "Epoch 52/100\n",
      "3/3 [==============================] - 0s 14ms/step - loss: 180.2712 - val_loss: 166.7889\n",
      "Epoch 53/100\n",
      "3/3 [==============================] - 0s 15ms/step - loss: 176.9520 - val_loss: 162.2111\n",
      "Epoch 54/100\n",
      "3/3 [==============================] - 0s 15ms/step - loss: 174.0588 - val_loss: 159.1888\n",
      "Epoch 55/100\n",
      "3/3 [==============================] - 0s 14ms/step - loss: 174.0418 - val_loss: 153.6687\n",
      "Epoch 56/100\n",
      "3/3 [==============================] - 0s 14ms/step - loss: 174.9958 - val_loss: 152.3463\n",
      "Epoch 57/100\n",
      "3/3 [==============================] - 0s 15ms/step - loss: 177.8736 - val_loss: 152.5537\n",
      "Epoch 58/100\n",
      "3/3 [==============================] - 0s 14ms/step - loss: 175.5759 - val_loss: 157.0855\n",
      "Epoch 59/100\n",
      "3/3 [==============================] - 0s 14ms/step - loss: 173.5891 - val_loss: 155.6895\n",
      "Epoch 60/100\n",
      "3/3 [==============================] - 0s 14ms/step - loss: 171.2764 - val_loss: 157.7320\n",
      "Epoch 61/100\n",
      "3/3 [==============================] - 0s 15ms/step - loss: 170.0117 - val_loss: 159.7072\n",
      "Epoch 62/100\n",
      "3/3 [==============================] - 0s 14ms/step - loss: 171.0895 - val_loss: 161.0605\n",
      "Epoch 63/100\n",
      "3/3 [==============================] - 0s 15ms/step - loss: 170.9157 - val_loss: 164.1705\n",
      "Epoch 64/100\n",
      "3/3 [==============================] - 0s 14ms/step - loss: 170.5551 - val_loss: 164.3814\n",
      "Epoch 65/100\n",
      "3/3 [==============================] - 0s 15ms/step - loss: 170.1272 - val_loss: 161.0982\n",
      "Epoch 66/100\n",
      "3/3 [==============================] - 0s 14ms/step - loss: 169.2466 - val_loss: 160.0948\n",
      "Epoch 67/100\n",
      "3/3 [==============================] - 0s 14ms/step - loss: 168.8887 - val_loss: 153.4231\n",
      "Epoch 68/100\n",
      "3/3 [==============================] - 0s 13ms/step - loss: 167.7695 - val_loss: 152.2282\n",
      "Epoch 69/100\n",
      "3/3 [==============================] - 0s 14ms/step - loss: 167.5281 - val_loss: 153.0700\n",
      "Epoch 70/100\n",
      "3/3 [==============================] - 0s 14ms/step - loss: 167.2250 - val_loss: 150.8903\n",
      "Epoch 71/100\n",
      "3/3 [==============================] - 0s 14ms/step - loss: 166.9808 - val_loss: 151.4546\n",
      "Epoch 72/100\n",
      "3/3 [==============================] - 0s 14ms/step - loss: 166.9477 - val_loss: 158.6464\n",
      "Epoch 73/100\n",
      "3/3 [==============================] - 0s 14ms/step - loss: 166.3253 - val_loss: 160.1752\n",
      "Epoch 74/100\n",
      "3/3 [==============================] - 0s 15ms/step - loss: 167.0478 - val_loss: 160.3842\n",
      "Epoch 75/100\n",
      "3/3 [==============================] - 0s 16ms/step - loss: 165.3632 - val_loss: 156.4918\n",
      "Epoch 76/100\n",
      "3/3 [==============================] - 0s 15ms/step - loss: 166.1744 - val_loss: 148.4009\n",
      "Epoch 77/100\n",
      "3/3 [==============================] - 0s 15ms/step - loss: 164.1007 - val_loss: 146.2695\n",
      "Epoch 78/100\n",
      "3/3 [==============================] - 0s 14ms/step - loss: 164.4520 - val_loss: 147.0128\n",
      "Epoch 79/100\n",
      "3/3 [==============================] - 0s 15ms/step - loss: 165.4713 - val_loss: 146.6941\n",
      "Epoch 80/100\n"
     ]
    },
    {
     "name": "stdout",
     "output_type": "stream",
     "text": [
      "3/3 [==============================] - 0s 14ms/step - loss: 163.3724 - val_loss: 149.9503\n",
      "Epoch 81/100\n",
      "3/3 [==============================] - 0s 14ms/step - loss: 162.9522 - val_loss: 153.9620\n",
      "Epoch 82/100\n",
      "3/3 [==============================] - ETA: 0s - loss: 215.182 - 0s 14ms/step - loss: 164.0430 - val_loss: 158.0623\n",
      "Epoch 83/100\n",
      "3/3 [==============================] - 0s 15ms/step - loss: 163.6722 - val_loss: 156.0992\n",
      "Epoch 84/100\n",
      "3/3 [==============================] - 0s 14ms/step - loss: 164.7876 - val_loss: 150.3002\n",
      "Epoch 85/100\n",
      "3/3 [==============================] - 0s 14ms/step - loss: 163.0742 - val_loss: 148.0117\n",
      "Epoch 86/100\n",
      "3/3 [==============================] - 0s 15ms/step - loss: 164.2481 - val_loss: 149.9760\n",
      "Epoch 87/100\n",
      "3/3 [==============================] - 0s 14ms/step - loss: 162.8313 - val_loss: 153.8708\n",
      "Epoch 88/100\n",
      "3/3 [==============================] - 0s 14ms/step - loss: 162.5631 - val_loss: 152.3211\n",
      "Epoch 89/100\n",
      "3/3 [==============================] - 0s 14ms/step - loss: 164.3540 - val_loss: 156.0424\n",
      "Epoch 90/100\n",
      "3/3 [==============================] - 0s 14ms/step - loss: 161.3181 - val_loss: 152.1513\n",
      "Epoch 91/100\n",
      "3/3 [==============================] - 0s 14ms/step - loss: 161.5079 - val_loss: 145.2451\n",
      "Epoch 92/100\n",
      "3/3 [==============================] - 0s 14ms/step - loss: 159.3726 - val_loss: 143.4304\n",
      "Epoch 93/100\n",
      "3/3 [==============================] - 0s 13ms/step - loss: 159.3203 - val_loss: 144.3999\n",
      "Epoch 94/100\n",
      "3/3 [==============================] - 0s 15ms/step - loss: 159.9665 - val_loss: 146.3758\n",
      "Epoch 95/100\n",
      "3/3 [==============================] - 0s 14ms/step - loss: 159.2100 - val_loss: 144.4113\n",
      "Epoch 96/100\n",
      "3/3 [==============================] - 0s 15ms/step - loss: 159.1374 - val_loss: 141.1941\n",
      "Epoch 97/100\n",
      "3/3 [==============================] - 0s 15ms/step - loss: 159.3266 - val_loss: 143.0560\n",
      "Epoch 98/100\n",
      "3/3 [==============================] - 0s 14ms/step - loss: 158.8390 - val_loss: 145.2299\n",
      "Epoch 99/100\n",
      "3/3 [==============================] - 0s 14ms/step - loss: 158.9207 - val_loss: 145.6214\n",
      "Epoch 100/100\n",
      "3/3 [==============================] - 0s 14ms/step - loss: 158.6587 - val_loss: 150.7537\n"
     ]
    }
   ],
   "source": [
    "history = model.fit(X_train, y_train, epochs=100,\n",
    "                    validation_data=(X_valid, y_valid))"
   ]
  },
  {
   "cell_type": "markdown",
   "id": "17d6e37a",
   "metadata": {},
   "source": [
    "Plot the result"
   ]
  },
  {
   "cell_type": "code",
   "execution_count": 15,
   "id": "3b066f5c",
   "metadata": {},
   "outputs": [
    {
     "name": "stdout",
     "output_type": "stream",
     "text": [
      "Saving figure num_num_training_curve\n"
     ]
    },
    {
     "data": {
      "image/png": "[encoded data removed]",
      "text/plain": [
       "<Figure size 576x360 with 1 Axes>"
      ]
     },
     "metadata": {
      "needs_background": "light"
     },
     "output_type": "display_data"
    }
   ],
   "source": [
    "import pandas as pd\n",
    "\n",
    "pd.DataFrame(history.history).plot(figsize=(8, 5))\n",
    "plt.grid(True)\n",
    "# plt.gca().set_ylim(0, 1)\n",
    "save_fig(\"num_num_training_curve\")\n",
    "plt.show()"
   ]
  },
  {
   "cell_type": "code",
   "execution_count": 16,
   "id": "03f9bb54",
   "metadata": {},
   "outputs": [
    {
     "name": "stdout",
     "output_type": "stream",
     "text": [
      "Saving figure num_num_prediction\n"
     ]
    },
    {
     "data": {
      "image/png": "[encoded data removed]",
      "text/plain": [
       "<Figure size 432x288 with 1 Axes>"
      ]
     },
     "metadata": {
      "needs_background": "light"
     },
     "output_type": "display_data"
    }
   ],
   "source": [
    "# X_new = np.linspace(-5, 5, 100).reshape(100, 1)\n",
    "# y_new = model.predict(X_new)\n",
    "#\n",
    "# plt.plot(X_train, y_train, \"b.\")\n",
    "draw_points(X_train, y_train, sid_train)\n",
    "# plt.plot(X_new, y_new, \"r-\", linewidth=2, label=\"Predictions\")\n",
    "draw_func(model.predict, mark='r-', linewidth=2, label=\"Predictions\")\n",
    "draw_normal_func(func_dict)\n",
    "plt.xlabel(\"$x_1$\", fontsize=18)\n",
    "plt.ylabel(\"$y$\", rotation=0, fontsize=18)\n",
    "plt.legend(loc=\"upper left\", fontsize=14)\n",
    "# plt.axis([-3, 3, 0, 10])\n",
    "save_fig(\"num_num_prediction\")\n",
    "plt.show()"
   ]
  },
  {
   "cell_type": "code",
   "execution_count": 17,
   "id": "bc06d931",
   "metadata": {},
   "outputs": [
    {
     "name": "stdout",
     "output_type": "stream",
     "text": [
      "y_func.shape = (100, 1)\n",
      "y_gt.shape = (100, 1)\n"
     ]
    },
    {
     "data": {
      "text/plain": [
       "5.903880849059199"
      ]
     },
     "execution_count": 17,
     "metadata": {},
     "output_type": "execute_result"
    }
   ],
   "source": [
    "get_prediction_error(model.predict, func_dict, name=\"num-num\")"
   ]
  },
  {
   "cell_type": "markdown",
   "id": "58da8768",
   "metadata": {},
   "source": [
    "# Simulated CNN Feature Map (1-D grids, grid --> number)"
   ]
  },
  {
   "cell_type": "code",
   "execution_count": 18,
   "id": "287b5e4c",
   "metadata": {},
   "outputs": [],
   "source": [
    "class num2grid(keras.layers.Layer):\n",
    "    def __init__(self, units, x_min=-10, x_max=10, sigma=1.0, activation=None, **kwargs):\n",
    "        super().__init__(**kwargs)\n",
    "        self.units = units\n",
    "        self.x_min = x_min\n",
    "        self.x_max = x_max\n",
    "        self.sigma = sigma\n",
    "        self.sigma2 = self.sigma**2\n",
    "        self.activation = keras.activations.get(activation)\n",
    "        \n",
    "    def build(self, batch_input_shape):\n",
    "        #\n",
    "        self.x_grid = np.linspace(self.x_min, self.x_max, self.units, endpoint=True)\n",
    "#         print(\"self.x_grid.shape = %s\" % str(self.x_grid.shape))\n",
    "        #\n",
    "        super().build(batch_input_shape) # must be at the end\n",
    "        \n",
    "    def call(self, X):\n",
    "        '''\n",
    "        Input shape:  (batch, X_chanel)\n",
    "        Output shape: (batch, grid_unit) \n",
    "        \n",
    "        self.x_grid shape: (grid_unit,)\n",
    "        '''\n",
    "        gauss_grid = tf.exp( -(self.x_grid - X)**2 / (2.0*self.sigma2) )\n",
    "        print(\"X.shape = %s\" % str(X.shape))\n",
    "        print(\"gauss_grid.shape = %s\" % str(gauss_grid.shape))\n",
    "        return self.activation(gauss_grid)\n",
    "    \n",
    "    def compute_output_shape(self, batch_input_shape):\n",
    "        return tf.TensorShape(batch_input_shape.as_list()[:-1] + [self.units])\n",
    "    \n",
    "    def get_config(self):\n",
    "        base_config = super().get_config()\n",
    "        return {**base_config, \n",
    "                \"units\": self.units,\n",
    "                \"x_min\": self.x_min,\n",
    "                \"x_max\": self.x_max,\n",
    "                \"sigma\": self.sigma,\n",
    "                \"activation\": keras.activations.serialize(self.activation)}"
   ]
  },
  {
   "cell_type": "code",
   "execution_count": 19,
   "id": "f463c12a",
   "metadata": {},
   "outputs": [
    {
     "name": "stdout",
     "output_type": "stream",
     "text": [
      "X.shape = (None, 1)\n",
      "gauss_grid.shape = (None, 5)\n"
     ]
    },
    {
     "name": "stderr",
     "output_type": "stream",
     "text": [
      "C:\\Users\\benso\\anaconda3\\envs\\ml\\lib\\site-packages\\keras\\optimizer_v2\\adam.py:105: UserWarning: The `lr` argument is deprecated, use `learning_rate` instead.\n",
      "  super(Adam, self).__init__(name, **kwargs)\n"
     ]
    }
   ],
   "source": [
    "model = keras.models.Sequential([\n",
    "    num2grid(5,x_min=-10, x_max=10, sigma=3.0, input_shape=X_train.shape[1:]),\n",
    "    keras.layers.Dense(30, activation=\"relu\"),\n",
    "#     keras.layers.Dense(100, activation=\"relu\", kernel_regularizer=tf.keras.regularizers.l1(0.01)),\n",
    "#     keras.layers.Dense(30, activation=keras.layers.LeakyReLU(alpha=0.2) ),\n",
    "#     keras.layers.Dense(30, activation=\"selu\"),\n",
    "#     keras.layers.Dense(30, activation=\"relu\"),\n",
    "    keras.layers.Dense(1)\n",
    "])\n",
    "\n",
    "# optimizer = keras.optimizers.SGD(lr=0.001, momentum=0.9)\n",
    "# model.compile(loss=\"mean_squared_error\", optimizer=optimizer)\n",
    "optimizer = keras.optimizers.Adam(lr=0.1)\n",
    "model.compile(loss=\"mean_absolute_error\", optimizer=optimizer)"
   ]
  },
  {
   "cell_type": "code",
   "execution_count": 20,
   "id": "c966ada4",
   "metadata": {
    "scrolled": true
   },
   "outputs": [
    {
     "name": "stdout",
     "output_type": "stream",
     "text": [
      "Epoch 1/100\n",
      "X.shape = (None, 1)\n",
      "gauss_grid.shape = (None, 5)\n",
      "X.shape = (None, 1)\n",
      "gauss_grid.shape = (None, 5)\n",
      "1/3 [=========>....................] - ETA: 0s - loss: 41.5617X.shape = (None, 1)\n",
      "gauss_grid.shape = (None, 5)\n",
      "3/3 [==============================] - 0s 63ms/step - loss: 41.5247 - val_loss: 33.1335\n",
      "Epoch 2/100\n",
      "3/3 [==============================] - 0s 14ms/step - loss: 38.9872 - val_loss: 30.7236\n",
      "Epoch 3/100\n",
      "3/3 [==============================] - 0s 20ms/step - loss: 34.3793 - val_loss: 26.8921\n",
      "Epoch 4/100\n",
      "3/3 [==============================] - 0s 20ms/step - loss: 27.9041 - val_loss: 21.1421\n",
      "Epoch 5/100\n",
      "3/3 [==============================] - 0s 18ms/step - loss: 20.2369 - val_loss: 14.9893\n",
      "Epoch 6/100\n",
      "3/3 [==============================] - 0s 22ms/step - loss: 17.1102 - val_loss: 11.8278\n",
      "Epoch 7/100\n",
      "3/3 [==============================] - 0s 21ms/step - loss: 15.9433 - val_loss: 8.5843\n",
      "Epoch 8/100\n",
      "3/3 [==============================] - 0s 22ms/step - loss: 15.5276 - val_loss: 13.7920\n",
      "Epoch 9/100\n",
      "3/3 [==============================] - 0s 15ms/step - loss: 16.3099 - val_loss: 10.6818\n",
      "Epoch 10/100\n",
      "3/3 [==============================] - 0s 19ms/step - loss: 14.1279 - val_loss: 9.5719\n",
      "Epoch 11/100\n",
      "3/3 [==============================] - 0s 17ms/step - loss: 13.6550 - val_loss: 10.6770\n",
      "Epoch 12/100\n",
      "3/3 [==============================] - 0s 16ms/step - loss: 13.1137 - val_loss: 10.8718\n",
      "Epoch 13/100\n",
      "3/3 [==============================] - 0s 15ms/step - loss: 12.7600 - val_loss: 11.1041\n",
      "Epoch 14/100\n",
      "3/3 [==============================] - 0s 15ms/step - loss: 11.9830 - val_loss: 11.0545\n",
      "Epoch 15/100\n",
      "3/3 [==============================] - 0s 16ms/step - loss: 11.8042 - val_loss: 10.7501\n",
      "Epoch 16/100\n",
      "3/3 [==============================] - 0s 16ms/step - loss: 10.9790 - val_loss: 10.5912\n",
      "Epoch 17/100\n",
      "3/3 [==============================] - 0s 17ms/step - loss: 11.3573 - val_loss: 10.9342\n",
      "Epoch 18/100\n",
      "3/3 [==============================] - 0s 16ms/step - loss: 10.6229 - val_loss: 12.2474\n",
      "Epoch 19/100\n",
      "3/3 [==============================] - 0s 16ms/step - loss: 10.6360 - val_loss: 11.6505\n",
      "Epoch 20/100\n",
      "3/3 [==============================] - 0s 18ms/step - loss: 10.4903 - val_loss: 11.8476\n",
      "Epoch 21/100\n",
      "3/3 [==============================] - 0s 16ms/step - loss: 9.9377 - val_loss: 12.9530\n",
      "Epoch 22/100\n",
      "3/3 [==============================] - 0s 16ms/step - loss: 10.3259 - val_loss: 12.7691\n",
      "Epoch 23/100\n",
      "3/3 [==============================] - 0s 16ms/step - loss: 10.0505 - val_loss: 12.8153\n",
      "Epoch 24/100\n",
      "3/3 [==============================] - 0s 15ms/step - loss: 9.8941 - val_loss: 12.8527\n",
      "Epoch 25/100\n",
      "3/3 [==============================] - 0s 15ms/step - loss: 9.8321 - val_loss: 13.0884\n",
      "Epoch 26/100\n",
      "3/3 [==============================] - 0s 15ms/step - loss: 9.7554 - val_loss: 12.5571\n",
      "Epoch 27/100\n",
      "3/3 [==============================] - 0s 15ms/step - loss: 9.7797 - val_loss: 12.4172\n",
      "Epoch 28/100\n",
      "3/3 [==============================] - 0s 14ms/step - loss: 9.7456 - val_loss: 12.3154\n",
      "Epoch 29/100\n",
      "3/3 [==============================] - 0s 20ms/step - loss: 9.6571 - val_loss: 12.0993\n",
      "Epoch 30/100\n",
      "3/3 [==============================] - 0s 18ms/step - loss: 9.5611 - val_loss: 12.5636\n",
      "Epoch 31/100\n",
      "3/3 [==============================] - 0s 16ms/step - loss: 9.8921 - val_loss: 12.2364\n",
      "Epoch 32/100\n",
      "3/3 [==============================] - 0s 16ms/step - loss: 9.5921 - val_loss: 12.2510\n",
      "Epoch 33/100\n",
      "3/3 [==============================] - 0s 17ms/step - loss: 9.6417 - val_loss: 11.8935\n",
      "Epoch 34/100\n",
      "3/3 [==============================] - 0s 18ms/step - loss: 9.5780 - val_loss: 11.9210\n",
      "Epoch 35/100\n",
      "3/3 [==============================] - 0s 16ms/step - loss: 9.4573 - val_loss: 11.2479\n",
      "Epoch 36/100\n",
      "3/3 [==============================] - 0s 15ms/step - loss: 9.7012 - val_loss: 11.4477\n",
      "Epoch 37/100\n",
      "3/3 [==============================] - 0s 13ms/step - loss: 9.8177 - val_loss: 12.2095\n",
      "Epoch 38/100\n",
      "3/3 [==============================] - 0s 14ms/step - loss: 9.7529 - val_loss: 11.7269\n",
      "Epoch 39/100\n",
      "3/3 [==============================] - 0s 15ms/step - loss: 9.9491 - val_loss: 12.5258\n",
      "Epoch 40/100\n",
      "3/3 [==============================] - 0s 15ms/step - loss: 9.6862 - val_loss: 11.4357\n",
      "Epoch 41/100\n",
      "3/3 [==============================] - 0s 16ms/step - loss: 9.3768 - val_loss: 11.3820\n",
      "Epoch 42/100\n",
      "3/3 [==============================] - 0s 15ms/step - loss: 9.6305 - val_loss: 11.4450\n",
      "Epoch 43/100\n",
      "3/3 [==============================] - 0s 15ms/step - loss: 9.3763 - val_loss: 11.9250\n",
      "Epoch 44/100\n",
      "3/3 [==============================] - 0s 14ms/step - loss: 9.6438 - val_loss: 11.8522\n",
      "Epoch 45/100\n",
      "3/3 [==============================] - 0s 14ms/step - loss: 9.5038 - val_loss: 12.0956\n",
      "Epoch 46/100\n",
      "3/3 [==============================] - 0s 17ms/step - loss: 9.4304 - val_loss: 11.3396\n",
      "Epoch 47/100\n",
      "3/3 [==============================] - 0s 16ms/step - loss: 9.2978 - val_loss: 10.8232\n",
      "Epoch 48/100\n",
      "3/3 [==============================] - 0s 14ms/step - loss: 9.3042 - val_loss: 10.3971\n",
      "Epoch 49/100\n",
      "3/3 [==============================] - 0s 15ms/step - loss: 9.5707 - val_loss: 10.1798\n",
      "Epoch 50/100\n",
      "3/3 [==============================] - 0s 14ms/step - loss: 9.3763 - val_loss: 10.4112\n",
      "Epoch 51/100\n",
      "3/3 [==============================] - 0s 15ms/step - loss: 9.4036 - val_loss: 10.7110\n",
      "Epoch 52/100\n",
      "3/3 [==============================] - 0s 15ms/step - loss: 9.5141 - val_loss: 10.4366\n",
      "Epoch 53/100\n",
      "3/3 [==============================] - 0s 14ms/step - loss: 9.3319 - val_loss: 10.1972\n",
      "Epoch 54/100\n",
      "3/3 [==============================] - 0s 14ms/step - loss: 9.2858 - val_loss: 10.2356\n",
      "Epoch 55/100\n",
      "3/3 [==============================] - 0s 14ms/step - loss: 9.2696 - val_loss: 9.8489\n",
      "Epoch 56/100\n",
      "3/3 [==============================] - 0s 13ms/step - loss: 9.1818 - val_loss: 9.6950\n",
      "Epoch 57/100\n",
      "3/3 [==============================] - 0s 15ms/step - loss: 9.2249 - val_loss: 9.7683\n",
      "Epoch 58/100\n",
      "3/3 [==============================] - 0s 14ms/step - loss: 9.2099 - val_loss: 9.5284\n",
      "Epoch 59/100\n",
      "3/3 [==============================] - 0s 14ms/step - loss: 9.5905 - val_loss: 9.7660\n",
      "Epoch 60/100\n",
      "3/3 [==============================] - 0s 14ms/step - loss: 9.0227 - val_loss: 9.5968\n",
      "Epoch 61/100\n",
      "3/3 [==============================] - 0s 14ms/step - loss: 9.5197 - val_loss: 9.7477\n",
      "Epoch 62/100\n",
      "3/3 [==============================] - 0s 13ms/step - loss: 9.3412 - val_loss: 9.7050\n",
      "Epoch 63/100\n",
      "3/3 [==============================] - 0s 14ms/step - loss: 9.3434 - val_loss: 10.1988\n",
      "Epoch 64/100\n",
      "3/3 [==============================] - 0s 13ms/step - loss: 9.2710 - val_loss: 10.0105\n",
      "Epoch 65/100\n",
      "3/3 [==============================] - 0s 14ms/step - loss: 9.1262 - val_loss: 9.2865\n",
      "Epoch 66/100\n",
      "3/3 [==============================] - 0s 15ms/step - loss: 9.3036 - val_loss: 8.7121\n",
      "Epoch 67/100\n",
      "3/3 [==============================] - 0s 15ms/step - loss: 9.3684 - val_loss: 8.7923\n",
      "Epoch 68/100\n",
      "3/3 [==============================] - 0s 14ms/step - loss: 9.1702 - val_loss: 8.9353\n",
      "Epoch 69/100\n",
      "3/3 [==============================] - 0s 14ms/step - loss: 9.1087 - val_loss: 9.6758\n",
      "Epoch 70/100\n",
      "3/3 [==============================] - 0s 14ms/step - loss: 9.2031 - val_loss: 9.7647\n",
      "Epoch 71/100\n",
      "3/3 [==============================] - 0s 14ms/step - loss: 9.1619 - val_loss: 9.4691\n",
      "Epoch 72/100\n",
      "3/3 [==============================] - 0s 14ms/step - loss: 9.2191 - val_loss: 8.6066\n",
      "Epoch 73/100\n",
      "3/3 [==============================] - 0s 13ms/step - loss: 9.1092 - val_loss: 9.1972\n",
      "Epoch 74/100\n",
      "3/3 [==============================] - 0s 14ms/step - loss: 9.3878 - val_loss: 8.7441\n",
      "Epoch 75/100\n",
      "3/3 [==============================] - 0s 14ms/step - loss: 9.0973 - val_loss: 9.2019\n",
      "Epoch 76/100\n",
      "3/3 [==============================] - 0s 16ms/step - loss: 9.4583 - val_loss: 9.6948\n",
      "Epoch 77/100\n",
      "3/3 [==============================] - 0s 15ms/step - loss: 9.0048 - val_loss: 9.2764\n",
      "Epoch 78/100\n",
      "3/3 [==============================] - 0s 14ms/step - loss: 9.6155 - val_loss: 8.8054\n",
      "Epoch 79/100\n",
      "3/3 [==============================] - 0s 14ms/step - loss: 9.5144 - val_loss: 9.2123\n",
      "Epoch 80/100\n",
      "3/3 [==============================] - 0s 14ms/step - loss: 9.3332 - val_loss: 9.1491\n"
     ]
    },
    {
     "name": "stdout",
     "output_type": "stream",
     "text": [
      "Epoch 81/100\n",
      "3/3 [==============================] - 0s 14ms/step - loss: 9.6606 - val_loss: 9.1367\n",
      "Epoch 82/100\n",
      "3/3 [==============================] - 0s 15ms/step - loss: 9.1318 - val_loss: 8.9109\n",
      "Epoch 83/100\n",
      "3/3 [==============================] - 0s 15ms/step - loss: 9.3676 - val_loss: 8.3020\n",
      "Epoch 84/100\n",
      "3/3 [==============================] - 0s 15ms/step - loss: 8.9665 - val_loss: 8.8323\n",
      "Epoch 85/100\n",
      "3/3 [==============================] - 0s 14ms/step - loss: 9.1413 - val_loss: 9.1660\n",
      "Epoch 86/100\n",
      "3/3 [==============================] - 0s 14ms/step - loss: 9.0395 - val_loss: 8.8870\n",
      "Epoch 87/100\n",
      "3/3 [==============================] - 0s 14ms/step - loss: 9.0326 - val_loss: 8.7269\n",
      "Epoch 88/100\n",
      "3/3 [==============================] - 0s 13ms/step - loss: 8.9381 - val_loss: 8.1915\n",
      "Epoch 89/100\n",
      "3/3 [==============================] - 0s 14ms/step - loss: 9.0847 - val_loss: 8.1286\n",
      "Epoch 90/100\n",
      "3/3 [==============================] - 0s 14ms/step - loss: 9.4096 - val_loss: 8.3094\n",
      "Epoch 91/100\n",
      "3/3 [==============================] - 0s 14ms/step - loss: 9.0985 - val_loss: 9.2820\n",
      "Epoch 92/100\n",
      "3/3 [==============================] - 0s 14ms/step - loss: 8.9498 - val_loss: 9.4598\n",
      "Epoch 93/100\n",
      "3/3 [==============================] - 0s 14ms/step - loss: 9.7693 - val_loss: 9.8998\n",
      "Epoch 94/100\n",
      "3/3 [==============================] - 0s 14ms/step - loss: 9.8616 - val_loss: 10.1583\n",
      "Epoch 95/100\n",
      "3/3 [==============================] - 0s 14ms/step - loss: 9.4297 - val_loss: 8.6605\n",
      "Epoch 96/100\n",
      "3/3 [==============================] - 0s 14ms/step - loss: 9.4532 - val_loss: 8.3076\n",
      "Epoch 97/100\n",
      "3/3 [==============================] - 0s 14ms/step - loss: 9.5560 - val_loss: 8.1772\n",
      "Epoch 98/100\n",
      "3/3 [==============================] - 0s 14ms/step - loss: 8.9680 - val_loss: 8.2275\n",
      "Epoch 99/100\n",
      "3/3 [==============================] - 0s 14ms/step - loss: 9.4494 - val_loss: 8.5520\n",
      "Epoch 100/100\n",
      "3/3 [==============================] - 0s 14ms/step - loss: 9.0164 - val_loss: 8.7330\n"
     ]
    }
   ],
   "source": [
    "history = model.fit(X_train, y_train, epochs=100,\n",
    "                    validation_data=(X_valid, y_valid))"
   ]
  },
  {
   "cell_type": "code",
   "execution_count": 21,
   "id": "4d550f88",
   "metadata": {},
   "outputs": [
    {
     "name": "stdout",
     "output_type": "stream",
     "text": [
      "Saving figure grid_num_training_curve\n"
     ]
    },
    {
     "data": {
      "image/png": "[encoded data removed]",
      "text/plain": [
       "<Figure size 576x360 with 1 Axes>"
      ]
     },
     "metadata": {
      "needs_background": "light"
     },
     "output_type": "display_data"
    }
   ],
   "source": [
    "import pandas as pd\n",
    "\n",
    "pd.DataFrame(history.history).plot(figsize=(8, 5))\n",
    "plt.grid(True)\n",
    "# plt.gca().set_ylim(0, 1)\n",
    "save_fig(\"grid_num_training_curve\")\n",
    "plt.show()"
   ]
  },
  {
   "cell_type": "code",
   "execution_count": 22,
   "id": "5487653c",
   "metadata": {},
   "outputs": [
    {
     "name": "stdout",
     "output_type": "stream",
     "text": [
      "X.shape = (None, 1)\n",
      "gauss_grid.shape = (None, 5)\n",
      "Saving figure grid_num_prediction\n"
     ]
    },
    {
     "data": {
      "image/png": "[encoded data removed]",
      "text/plain": [
       "<Figure size 432x288 with 1 Axes>"
      ]
     },
     "metadata": {
      "needs_background": "light"
     },
     "output_type": "display_data"
    }
   ],
   "source": [
    "# X_new = np.linspace(-5, 5, 100).reshape(100, 1)\n",
    "# y_new = model.predict(X_new)\n",
    "#\n",
    "# plt.plot(X_train, y_train, \"b.\")\n",
    "draw_points(X_train, y_train, sid_train)\n",
    "# plt.plot(X_new, y_new, \"r-\", linewidth=2, label=\"Predictions\")\n",
    "draw_func(model.predict, mark='r-', linewidth=2, label=\"Predictions\")\n",
    "draw_normal_func(func_dict)\n",
    "plt.xlabel(\"$x_1$\", fontsize=18)\n",
    "plt.ylabel(\"$y$\", rotation=0, fontsize=18)\n",
    "plt.legend(loc=\"upper left\", fontsize=14)\n",
    "# plt.axis([-3, 3, 0, 10])\n",
    "save_fig(\"grid_num_prediction\")\n",
    "plt.show()"
   ]
  },
  {
   "cell_type": "code",
   "execution_count": 23,
   "id": "f9c053a4",
   "metadata": {},
   "outputs": [
    {
     "name": "stdout",
     "output_type": "stream",
     "text": [
      "y_func.shape = (100, 1)\n",
      "y_gt.shape = (100, 1)\n"
     ]
    },
    {
     "data": {
      "text/plain": [
       "4.153633004835506"
      ]
     },
     "execution_count": 23,
     "metadata": {},
     "output_type": "execute_result"
    }
   ],
   "source": [
    "get_prediction_error(model.predict, func_dict, name=\"grid-num\")"
   ]
  },
  {
   "cell_type": "markdown",
   "id": "fe65d614",
   "metadata": {},
   "source": [
    "# Grid & Regression by Classification (grid --> grid)"
   ]
  },
  {
   "cell_type": "code",
   "execution_count": 24,
   "id": "3d35615e",
   "metadata": {},
   "outputs": [],
   "source": [
    "class num2grid_np():\n",
    "    def __init__(self, units, x_min=-10, x_max=10, sigma=1.0):\n",
    "        self.units = units\n",
    "        self.x_min = x_min\n",
    "        self.x_max = x_max\n",
    "        self.sigma = sigma\n",
    "        self.sigma2 = self.sigma**2\n",
    "        self.x_grid = np.linspace(self.x_min, self.x_max, self.units, endpoint=True)\n",
    "        print(\"self.x_grid = %s\" % str(self.x_grid))\n",
    "        \n",
    "    def convert(self, X):\n",
    "        gauss_grid = np.exp( -(self.x_grid - X)**2 / (2.0*self.sigma2) )\n",
    "#         if len(gauss_grid.shape) == 1:\n",
    "#             gauss_grid = gauss_grid.reshape([1,-1])\n",
    "#         grid_sum = np.sum(gauss_grid, axis=1, keepdims=True)\n",
    "        grid_sum = np.sum(gauss_grid, axis=-1, keepdims=True)\n",
    "        gauss_grid = gauss_grid / grid_sum\n",
    "        return gauss_grid\n",
    "    \n",
    "    def inv_convert(self, grid):\n",
    "#         if len(grid.shape) == 1:\n",
    "#             grid = grid.reshape([1,-1])\n",
    "#         grid_sum = np.sum(grid, axis=1)\n",
    "        grid_sum = np.sum(grid, axis=-1)\n",
    "#         print(grid_sum)\n",
    "        exp_num = np.sum((self.x_grid * grid), axis=-1) / grid_sum # element-wise\n",
    "        return exp_num\n",
    "    \n",
    "    def get_statistic(self, grid):\n",
    "        grid_sum = np.sum(grid, axis=-1)\n",
    "        _mean = np.sum((self.x_grid * grid), axis=-1) / grid_sum # element-wise\n",
    "        _var  = np.sum( ((self.x_grid.reshape((1,-1)) - _mean.reshape((-1,1)))**2 * grid), axis=-1) / grid_sum # element-wise\n",
    "        # print(\"(_mean, _var) = (%f, %f)\" % (_mean, _var))\n",
    "        _stddev = np.sqrt(_var)\n",
    "        return _mean, _stddev"
   ]
  },
  {
   "cell_type": "code",
   "execution_count": 25,
   "id": "4903180b",
   "metadata": {},
   "outputs": [
    {
     "name": "stdout",
     "output_type": "stream",
     "text": [
      "self.x_grid = [-100.          -95.91836735  -91.83673469  -87.75510204  -83.67346939\n",
      "  -79.59183673  -75.51020408  -71.42857143  -67.34693878  -63.26530612\n",
      "  -59.18367347  -55.10204082  -51.02040816  -46.93877551  -42.85714286\n",
      "  -38.7755102   -34.69387755  -30.6122449   -26.53061224  -22.44897959\n",
      "  -18.36734694  -14.28571429  -10.20408163   -6.12244898   -2.04081633\n",
      "    2.04081633    6.12244898   10.20408163   14.28571429   18.36734694\n",
      "   22.44897959   26.53061224   30.6122449    34.69387755   38.7755102\n",
      "   42.85714286   46.93877551   51.02040816   55.10204082   59.18367347\n",
      "   63.26530612   67.34693878   71.42857143   75.51020408   79.59183673\n",
      "   83.67346939   87.75510204   91.83673469   95.91836735  100.        ]\n"
     ]
    }
   ],
   "source": [
    "# class_num = 10 # 10\n",
    "# n2g = num2grid_np(class_num, x_min=-100.0, x_max=100.0, sigma=20.0) # 20.0\n",
    "# class_num = 20\n",
    "# n2g = num2grid_np(class_num, x_min=-100.0, x_max=100.0, sigma=15.0) # 20.0\n",
    "class_num = 50\n",
    "n2g = num2grid_np(class_num, x_min=-100.0, x_max=100.0, sigma=6.0) # 5.0 "
   ]
  },
  {
   "cell_type": "code",
   "execution_count": 26,
   "id": "dce05258",
   "metadata": {},
   "outputs": [
    {
     "name": "stdout",
     "output_type": "stream",
     "text": [
      "[[3.57995092e-60 2.08100846e-55 7.61538914e-51 1.75441300e-46\n",
      "  2.54444491e-42 2.32314196e-38 1.33530332e-34 4.83176258e-31\n",
      "  1.10065884e-27 1.57841554e-24 1.42498879e-21 8.09884396e-19\n",
      "  2.89771784e-16 6.52695532e-14 9.25521826e-12 8.26198061e-10\n",
      "  4.64304784e-08 1.64264466e-06 3.65852120e-05 5.12966502e-04\n",
      "  4.52786966e-03 2.51605603e-02 8.80173281e-02 1.93837381e-01\n",
      "  2.68737559e-01 2.34552834e-01 1.28876722e-01 4.45789421e-02\n",
      "  9.70748025e-03 1.33077537e-03 1.14848275e-04 6.23972825e-06\n",
      "  2.13416679e-07 4.59528573e-09 6.22899760e-11 5.31551427e-13\n",
      "  2.85557712e-15 9.65748361e-18 2.05615356e-20 2.75593262e-23\n",
      "  2.32542921e-26 1.23526215e-29 4.13082337e-33 8.69632169e-37\n",
      "  1.15254011e-40 9.61607812e-45 5.05081425e-49 1.67011468e-53\n",
      "  3.47658354e-58 4.55596654e-63]]\n"
     ]
    }
   ],
   "source": [
    "# grid_1 = n2g.convert(-1.2)\n",
    "grid_1 = n2g.convert([[-1.2]])\n",
    "print(grid_1)"
   ]
  },
  {
   "cell_type": "code",
   "execution_count": 27,
   "id": "48203fe2",
   "metadata": {},
   "outputs": [
    {
     "data": {
      "text/plain": [
       "array([-1.2])"
      ]
     },
     "execution_count": 27,
     "metadata": {},
     "output_type": "execute_result"
    }
   ],
   "source": [
    "n2g.inv_convert(grid_1)"
   ]
  },
  {
   "cell_type": "code",
   "execution_count": 28,
   "id": "a741b6d1",
   "metadata": {},
   "outputs": [
    {
     "data": {
      "text/plain": [
       "(array([-1.2]), array([6.]))"
      ]
     },
     "execution_count": 28,
     "metadata": {},
     "output_type": "execute_result"
    }
   ],
   "source": [
    "n2g.get_statistic(grid_1)"
   ]
  },
  {
   "cell_type": "markdown",
   "id": "bdc0b9a0",
   "metadata": {},
   "source": [
    "### Convert the labels to grid (pre-processing)"
   ]
  },
  {
   "cell_type": "code",
   "execution_count": 29,
   "id": "39c7fa96",
   "metadata": {},
   "outputs": [],
   "source": [
    "y_train_grid = n2g.convert(y_train)\n",
    "y_valid_grid = n2g.convert(y_valid)"
   ]
  },
  {
   "cell_type": "code",
   "execution_count": 30,
   "id": "f577a751",
   "metadata": {},
   "outputs": [
    {
     "name": "stdout",
     "output_type": "stream",
     "text": [
      "(80, 50)\n",
      "(20, 50)\n"
     ]
    }
   ],
   "source": [
    "print(y_train_grid.shape)\n",
    "print(y_valid_grid.shape)"
   ]
  },
  {
   "cell_type": "code",
   "execution_count": 31,
   "id": "71610af1",
   "metadata": {},
   "outputs": [
    {
     "name": "stdout",
     "output_type": "stream",
     "text": [
      "X.shape = (None, 1)\n",
      "gauss_grid.shape = (None, 5)\n"
     ]
    },
    {
     "name": "stderr",
     "output_type": "stream",
     "text": [
      "C:\\Users\\benso\\anaconda3\\envs\\ml\\lib\\site-packages\\keras\\optimizer_v2\\gradient_descent.py:102: UserWarning: The `lr` argument is deprecated, use `learning_rate` instead.\n",
      "  super(SGD, self).__init__(name, **kwargs)\n"
     ]
    }
   ],
   "source": [
    "model = keras.models.Sequential([\n",
    "#     keras.layers.Dense(30, activation=\"relu\", input_shape=X_train.shape[1:]),\n",
    "    num2grid(5,x_min=-10, x_max=10, sigma=3.0, input_shape=X_train.shape[1:]),\n",
    "    keras.layers.Dense(30, activation=\"relu\"),\n",
    "#     keras.layers.Dense(100, activation=\"relu\", kernel_regularizer=tf.keras.regularizers.l1(0.01)),\n",
    "    keras.layers.Dense(class_num, activation=\"softmax\"),\n",
    "])\n",
    "\n",
    "optimizer = keras.optimizers.SGD(lr=0.2, momentum=0.9)\n",
    "model.compile(loss=\"categorical_crossentropy\", optimizer=optimizer)"
   ]
  },
  {
   "cell_type": "code",
   "execution_count": 32,
   "id": "e2244aee",
   "metadata": {
    "scrolled": true
   },
   "outputs": [
    {
     "name": "stdout",
     "output_type": "stream",
     "text": [
      "Epoch 1/100\n",
      "X.shape = (None, 1)\n",
      "gauss_grid.shape = (None, 5)\n",
      "X.shape = (None, 1)\n",
      "gauss_grid.shape = (None, 5)\n",
      "1/3 [=========>....................] - ETA: 0s - loss: 3.9243X.shape = (None, 1)\n",
      "gauss_grid.shape = (None, 5)\n",
      "3/3 [==============================] - 1s 77ms/step - loss: 3.9201 - val_loss: 3.9083\n",
      "Epoch 2/100\n",
      "3/3 [==============================] - 0s 15ms/step - loss: 3.8870 - val_loss: 3.8755\n",
      "Epoch 3/100\n",
      "3/3 [==============================] - 0s 22ms/step - loss: 3.8352 - val_loss: 3.8388\n",
      "Epoch 4/100\n",
      "3/3 [==============================] - 0s 16ms/step - loss: 3.7747 - val_loss: 3.7956\n",
      "Epoch 5/100\n",
      "3/3 [==============================] - 0s 19ms/step - loss: 3.6981 - val_loss: 3.7466\n",
      "Epoch 6/100\n",
      "3/3 [==============================] - 0s 19ms/step - loss: 3.6136 - val_loss: 3.6988\n",
      "Epoch 7/100\n",
      "3/3 [==============================] - 0s 21ms/step - loss: 3.5097 - val_loss: 3.6479\n",
      "Epoch 8/100\n",
      "3/3 [==============================] - 0s 22ms/step - loss: 3.3965 - val_loss: 3.5772\n",
      "Epoch 9/100\n",
      "3/3 [==============================] - 0s 19ms/step - loss: 3.2954 - val_loss: 3.4815\n",
      "Epoch 10/100\n",
      "3/3 [==============================] - 0s 18ms/step - loss: 3.2098 - val_loss: 3.3698\n",
      "Epoch 11/100\n",
      "3/3 [==============================] - 0s 16ms/step - loss: 3.1352 - val_loss: 3.2713\n",
      "Epoch 12/100\n",
      "3/3 [==============================] - 0s 14ms/step - loss: 3.0753 - val_loss: 3.1718\n",
      "Epoch 13/100\n",
      "3/3 [==============================] - 0s 15ms/step - loss: 3.0370 - val_loss: 3.0945\n",
      "Epoch 14/100\n",
      "3/3 [==============================] - 0s 14ms/step - loss: 3.0038 - val_loss: 3.0551\n",
      "Epoch 15/100\n",
      "3/3 [==============================] - 0s 15ms/step - loss: 2.9610 - val_loss: 3.0797\n",
      "Epoch 16/100\n",
      "3/3 [==============================] - 0s 16ms/step - loss: 2.9514 - val_loss: 3.0692\n",
      "Epoch 17/100\n",
      "3/3 [==============================] - 0s 15ms/step - loss: 2.9232 - val_loss: 3.0432\n",
      "Epoch 18/100\n",
      "3/3 [==============================] - 0s 16ms/step - loss: 2.8877 - val_loss: 3.0369\n",
      "Epoch 19/100\n",
      "3/3 [==============================] - 0s 14ms/step - loss: 2.8546 - val_loss: 3.0186\n",
      "Epoch 20/100\n",
      "3/3 [==============================] - 0s 14ms/step - loss: 2.8315 - val_loss: 2.9860\n",
      "Epoch 21/100\n",
      "3/3 [==============================] - 0s 14ms/step - loss: 2.8094 - val_loss: 2.9531\n",
      "Epoch 22/100\n",
      "3/3 [==============================] - 0s 14ms/step - loss: 2.7863 - val_loss: 2.9437\n",
      "Epoch 23/100\n",
      "3/3 [==============================] - 0s 15ms/step - loss: 2.7582 - val_loss: 2.9414\n",
      "Epoch 24/100\n",
      "3/3 [==============================] - 0s 14ms/step - loss: 2.7418 - val_loss: 2.9307\n",
      "Epoch 25/100\n",
      "3/3 [==============================] - 0s 15ms/step - loss: 2.7223 - val_loss: 2.9554\n",
      "Epoch 26/100\n",
      "3/3 [==============================] - 0s 15ms/step - loss: 2.7025 - val_loss: 2.9142\n",
      "Epoch 27/100\n",
      "3/3 [==============================] - 0s 13ms/step - loss: 2.6853 - val_loss: 2.8669\n",
      "Epoch 28/100\n",
      "3/3 [==============================] - 0s 16ms/step - loss: 2.6731 - val_loss: 2.8400\n",
      "Epoch 29/100\n",
      "3/3 [==============================] - 0s 14ms/step - loss: 2.6465 - val_loss: 2.8861\n",
      "Epoch 30/100\n",
      "3/3 [==============================] - 0s 14ms/step - loss: 2.6479 - val_loss: 2.9157\n",
      "Epoch 31/100\n",
      "3/3 [==============================] - 0s 16ms/step - loss: 2.6420 - val_loss: 2.8423\n",
      "Epoch 32/100\n",
      "3/3 [==============================] - 0s 14ms/step - loss: 2.6178 - val_loss: 2.7888\n",
      "Epoch 33/100\n",
      "3/3 [==============================] - 0s 14ms/step - loss: 2.5991 - val_loss: 2.7787\n",
      "Epoch 34/100\n",
      "3/3 [==============================] - 0s 14ms/step - loss: 2.5950 - val_loss: 2.7473\n",
      "Epoch 35/100\n",
      "3/3 [==============================] - 0s 14ms/step - loss: 2.5851 - val_loss: 2.7456\n",
      "Epoch 36/100\n",
      "3/3 [==============================] - 0s 14ms/step - loss: 2.5845 - val_loss: 2.7685\n",
      "Epoch 37/100\n",
      "3/3 [==============================] - 0s 14ms/step - loss: 2.5621 - val_loss: 2.7324\n",
      "Epoch 38/100\n",
      "3/3 [==============================] - 0s 14ms/step - loss: 2.5600 - val_loss: 2.7368\n",
      "Epoch 39/100\n",
      "3/3 [==============================] - ETA: 0s - loss: 2.497 - 0s 16ms/step - loss: 2.5531 - val_loss: 2.7833\n",
      "Epoch 40/100\n",
      "3/3 [==============================] - 0s 14ms/step - loss: 2.5416 - val_loss: 2.8235\n",
      "Epoch 41/100\n",
      "3/3 [==============================] - 0s 14ms/step - loss: 2.5476 - val_loss: 2.7893\n",
      "Epoch 42/100\n",
      "3/3 [==============================] - 0s 14ms/step - loss: 2.5390 - val_loss: 2.7108\n",
      "Epoch 43/100\n",
      "3/3 [==============================] - 0s 14ms/step - loss: 2.5274 - val_loss: 2.6951\n",
      "Epoch 44/100\n",
      "3/3 [==============================] - 0s 15ms/step - loss: 2.5205 - val_loss: 2.7185\n",
      "Epoch 45/100\n",
      "3/3 [==============================] - 0s 15ms/step - loss: 2.5064 - val_loss: 2.7197\n",
      "Epoch 46/100\n",
      "3/3 [==============================] - 0s 16ms/step - loss: 2.5001 - val_loss: 2.6663\n",
      "Epoch 47/100\n",
      "3/3 [==============================] - 0s 13ms/step - loss: 2.5025 - val_loss: 2.6003\n",
      "Epoch 48/100\n",
      "3/3 [==============================] - ETA: 0s - loss: 2.491 - 0s 14ms/step - loss: 2.4977 - val_loss: 2.6796\n",
      "Epoch 49/100\n",
      "3/3 [==============================] - 0s 14ms/step - loss: 2.4968 - val_loss: 2.7794\n",
      "Epoch 50/100\n",
      "3/3 [==============================] - 0s 14ms/step - loss: 2.4919 - val_loss: 2.7044\n",
      "Epoch 51/100\n",
      "3/3 [==============================] - 0s 14ms/step - loss: 2.4812 - val_loss: 2.6800\n",
      "Epoch 52/100\n",
      "3/3 [==============================] - 0s 14ms/step - loss: 2.4895 - val_loss: 2.6562\n",
      "Epoch 53/100\n",
      "3/3 [==============================] - 0s 13ms/step - loss: 2.4764 - val_loss: 2.6147\n",
      "Epoch 54/100\n",
      "3/3 [==============================] - 0s 14ms/step - loss: 2.4795 - val_loss: 2.6431\n",
      "Epoch 55/100\n",
      "3/3 [==============================] - 0s 15ms/step - loss: 2.4753 - val_loss: 2.6191\n",
      "Epoch 56/100\n",
      "3/3 [==============================] - 0s 15ms/step - loss: 2.4696 - val_loss: 2.7117\n",
      "Epoch 57/100\n",
      "3/3 [==============================] - 0s 14ms/step - loss: 2.4764 - val_loss: 2.7386\n",
      "Epoch 58/100\n",
      "3/3 [==============================] - 0s 14ms/step - loss: 2.4648 - val_loss: 2.6993\n",
      "Epoch 59/100\n",
      "3/3 [==============================] - 0s 13ms/step - loss: 2.4899 - val_loss: 2.6959\n",
      "Epoch 60/100\n",
      "3/3 [==============================] - 0s 14ms/step - loss: 2.4595 - val_loss: 2.5955\n",
      "Epoch 61/100\n",
      "3/3 [==============================] - 0s 16ms/step - loss: 2.4737 - val_loss: 2.6115\n",
      "Epoch 62/100\n",
      "3/3 [==============================] - 0s 14ms/step - loss: 2.4858 - val_loss: 2.7104\n",
      "Epoch 63/100\n",
      "3/3 [==============================] - 0s 14ms/step - loss: 2.4504 - val_loss: 2.6097\n",
      "Epoch 64/100\n",
      "3/3 [==============================] - 0s 14ms/step - loss: 2.4728 - val_loss: 2.5701\n",
      "Epoch 65/100\n",
      "3/3 [==============================] - 0s 14ms/step - loss: 2.4592 - val_loss: 2.6823\n",
      "Epoch 66/100\n",
      "3/3 [==============================] - 0s 13ms/step - loss: 2.4593 - val_loss: 2.6712\n",
      "Epoch 67/100\n",
      "3/3 [==============================] - 0s 14ms/step - loss: 2.4410 - val_loss: 2.5970\n",
      "Epoch 68/100\n",
      "3/3 [==============================] - 0s 14ms/step - loss: 2.4452 - val_loss: 2.6362\n",
      "Epoch 69/100\n",
      "3/3 [==============================] - 0s 13ms/step - loss: 2.4285 - val_loss: 2.6823\n",
      "Epoch 70/100\n",
      "3/3 [==============================] - 0s 14ms/step - loss: 2.4263 - val_loss: 2.6989\n",
      "Epoch 71/100\n",
      "3/3 [==============================] - 0s 14ms/step - loss: 2.4427 - val_loss: 2.6339\n",
      "Epoch 72/100\n",
      "3/3 [==============================] - 0s 14ms/step - loss: 2.4224 - val_loss: 2.5931\n",
      "Epoch 73/100\n",
      "3/3 [==============================] - 0s 14ms/step - loss: 2.4464 - val_loss: 2.6158\n",
      "Epoch 74/100\n",
      "3/3 [==============================] - 0s 14ms/step - loss: 2.4273 - val_loss: 2.6651\n",
      "Epoch 75/100\n",
      "3/3 [==============================] - 0s 15ms/step - loss: 2.4434 - val_loss: 2.5808\n",
      "Epoch 76/100\n",
      "3/3 [==============================] - 0s 17ms/step - loss: 2.4375 - val_loss: 2.5904\n",
      "Epoch 77/100\n",
      "3/3 [==============================] - 0s 14ms/step - loss: 2.4615 - val_loss: 2.6159\n",
      "Epoch 78/100\n",
      "3/3 [==============================] - 0s 13ms/step - loss: 2.4353 - val_loss: 2.7105\n",
      "Epoch 79/100\n",
      "3/3 [==============================] - 0s 14ms/step - loss: 2.4257 - val_loss: 2.6468\n",
      "Epoch 80/100\n",
      "3/3 [==============================] - 0s 14ms/step - loss: 2.4193 - val_loss: 2.5854\n",
      "Epoch 81/100\n"
     ]
    },
    {
     "name": "stdout",
     "output_type": "stream",
     "text": [
      "3/3 [==============================] - 0s 14ms/step - loss: 2.4208 - val_loss: 2.5719\n",
      "Epoch 82/100\n",
      "3/3 [==============================] - 0s 14ms/step - loss: 2.4108 - val_loss: 2.6365\n",
      "Epoch 83/100\n",
      "3/3 [==============================] - 0s 15ms/step - loss: 2.4140 - val_loss: 2.5683\n",
      "Epoch 84/100\n",
      "3/3 [==============================] - 0s 14ms/step - loss: 2.4027 - val_loss: 2.5870\n",
      "Epoch 85/100\n",
      "3/3 [==============================] - 0s 15ms/step - loss: 2.4044 - val_loss: 2.6172\n",
      "Epoch 86/100\n",
      "3/3 [==============================] - 0s 15ms/step - loss: 2.4051 - val_loss: 2.5804\n",
      "Epoch 87/100\n",
      "3/3 [==============================] - 0s 15ms/step - loss: 2.4003 - val_loss: 2.5653\n",
      "Epoch 88/100\n",
      "3/3 [==============================] - 0s 14ms/step - loss: 2.3948 - val_loss: 2.5608\n",
      "Epoch 89/100\n",
      "3/3 [==============================] - 0s 14ms/step - loss: 2.3969 - val_loss: 2.5573\n",
      "Epoch 90/100\n",
      "3/3 [==============================] - 0s 14ms/step - loss: 2.4055 - val_loss: 2.5841\n",
      "Epoch 91/100\n",
      "3/3 [==============================] - 0s 14ms/step - loss: 2.4037 - val_loss: 2.5653\n",
      "Epoch 92/100\n",
      "3/3 [==============================] - 0s 15ms/step - loss: 2.3917 - val_loss: 2.5918\n",
      "Epoch 93/100\n",
      "3/3 [==============================] - 0s 14ms/step - loss: 2.3889 - val_loss: 2.5495\n",
      "Epoch 94/100\n",
      "3/3 [==============================] - 0s 14ms/step - loss: 2.3866 - val_loss: 2.5467\n",
      "Epoch 95/100\n",
      "3/3 [==============================] - 0s 14ms/step - loss: 2.3827 - val_loss: 2.5748\n",
      "Epoch 96/100\n",
      "3/3 [==============================] - 0s 14ms/step - loss: 2.3861 - val_loss: 2.6409\n",
      "Epoch 97/100\n",
      "3/3 [==============================] - 0s 14ms/step - loss: 2.3866 - val_loss: 2.6126\n",
      "Epoch 98/100\n",
      "3/3 [==============================] - 0s 14ms/step - loss: 2.3872 - val_loss: 2.5742\n",
      "Epoch 99/100\n",
      "3/3 [==============================] - 0s 14ms/step - loss: 2.3796 - val_loss: 2.6182\n",
      "Epoch 100/100\n",
      "3/3 [==============================] - 0s 14ms/step - loss: 2.3899 - val_loss: 2.6049\n"
     ]
    }
   ],
   "source": [
    "history = model.fit(X_train, y_train_grid, epochs=100,\n",
    "                    validation_data=(X_valid, y_valid_grid))"
   ]
  },
  {
   "cell_type": "code",
   "execution_count": 33,
   "id": "390834c9",
   "metadata": {},
   "outputs": [
    {
     "name": "stdout",
     "output_type": "stream",
     "text": [
      "Saving figure grid_rbc_training_curve\n"
     ]
    },
    {
     "data": {
      "image/png": "[encoded data removed]",
      "text/plain": [
       "<Figure size 576x360 with 1 Axes>"
      ]
     },
     "metadata": {
      "needs_background": "light"
     },
     "output_type": "display_data"
    }
   ],
   "source": [
    "import pandas as pd\n",
    "\n",
    "pd.DataFrame(history.history).plot(figsize=(8, 5))\n",
    "plt.grid(True)\n",
    "# plt.gca().set_ylim(0, 1)\n",
    "save_fig(\"grid_rbc_training_curve\")\n",
    "plt.show()"
   ]
  },
  {
   "cell_type": "code",
   "execution_count": 34,
   "id": "6fba3b6a",
   "metadata": {},
   "outputs": [
    {
     "name": "stdout",
     "output_type": "stream",
     "text": [
      "X.shape = (None, 1)\n",
      "gauss_grid.shape = (None, 5)\n",
      "Saving figure grid_rbc_prediction\n"
     ]
    },
    {
     "data": {
      "image/png": "[encoded data removed]",
      "text/plain": [
       "<Figure size 432x288 with 1 Axes>"
      ]
     },
     "metadata": {
      "needs_background": "light"
     },
     "output_type": "display_data"
    }
   ],
   "source": [
    "# X_new = np.linspace(-5, 5, 100).reshape(100, 1)\n",
    "# y_new_proba = model.predict(X_new)\n",
    "# y_new = n2g.inv_convert(y_new_proba)\n",
    "#\n",
    "# plt.plot(X_train, y_train, \"b.\")\n",
    "draw_points(X_train, y_train, sid_train)\n",
    "# plt.plot(X_new, y_new, \"r-\", linewidth=2, label=\"Predictions\")\n",
    "draw_func((lambda X: n2g.inv_convert(model.predict(X)) ), mark='r-', linewidth=2, label=\"Predictions\")\n",
    "draw_normal_func(func_dict)\n",
    "plt.xlabel(\"$x_1$\", fontsize=18)\n",
    "plt.ylabel(\"$y$\", rotation=0, fontsize=18)\n",
    "plt.legend(loc=\"upper left\", fontsize=14)\n",
    "# plt.axis([-3, 3, 0, 10])\n",
    "save_fig(\"grid_rbc_prediction\")\n",
    "plt.show()"
   ]
  },
  {
   "cell_type": "code",
   "execution_count": 35,
   "id": "fc059ba5",
   "metadata": {},
   "outputs": [
    {
     "name": "stdout",
     "output_type": "stream",
     "text": [
      "y_func.shape = (100, 1)\n",
      "y_gt.shape = (100, 1)\n"
     ]
    },
    {
     "data": {
      "text/plain": [
       "4.03737832423312"
      ]
     },
     "execution_count": 35,
     "metadata": {},
     "output_type": "execute_result"
    }
   ],
   "source": [
    "get_prediction_error((lambda X: n2g.inv_convert(model.predict(X)) ), func_dict, name=\"grid-rbc\")"
   ]
  },
  {
   "cell_type": "code",
   "execution_count": 36,
   "id": "edcf26db",
   "metadata": {},
   "outputs": [
    {
     "name": "stdout",
     "output_type": "stream",
     "text": [
      "Saving figure grid_rbc_proba\n"
     ]
    },
    {
     "data": {
      "image/png": "[encoded data removed]",
      "text/plain": [
       "<Figure size 432x288 with 1 Axes>"
      ]
     },
     "metadata": {
      "needs_background": "light"
     },
     "output_type": "display_data"
    }
   ],
   "source": [
    "X_new = np.linspace(-5, 5, 100).reshape(100, 1)\n",
    "y_new_proba = model.predict(X_new)\n",
    "# y_new = n2g.inv_convert(y_new_proba)\n",
    "#\n",
    "xv, yv = np.meshgrid(X_new, np.linspace(n2g.x_min, n2g.x_max, n2g.units))\n",
    "# print(xv)\n",
    "# print(yv)\n",
    "plt.pcolormesh(xv, yv, y_new_proba.T, shading=\"nearest\")\n",
    "save_fig(\"grid_rbc_proba\")"
   ]
  },
  {
   "cell_type": "markdown",
   "id": "4064d3b5",
   "metadata": {},
   "source": [
    "### Draw the 1-sigma boundary line"
   ]
  },
  {
   "cell_type": "code",
   "execution_count": 37,
   "id": "247e8712",
   "metadata": {},
   "outputs": [
    {
     "name": "stdout",
     "output_type": "stream",
     "text": [
      "Saving figure grid_rbc_prediction_1sigma\n"
     ]
    },
    {
     "data": {
      "image/png": "[encoded data removed]",
      "text/plain": [
       "<Figure size 432x288 with 1 Axes>"
      ]
     },
     "metadata": {
      "needs_background": "light"
     },
     "output_type": "display_data"
    }
   ],
   "source": [
    "def n_sigma_boundary_line(X, n):\n",
    "    _mean, _sigma = n2g.get_statistic(model.predict(X))\n",
    "    return( _mean + n*_sigma)\n",
    "\n",
    "# plt.plot(X_train, y_train, \"b.\")\n",
    "draw_points(X_train, y_train, sid_train)\n",
    "#\n",
    "draw_func((lambda X: n2g.inv_convert(model.predict(X)) ), mark='r-', linewidth=2, label=\"Predictions\")\n",
    "draw_func((lambda X: n_sigma_boundary_line(X, +1.0) ), mark='k--', linewidth=1, label=\"$\\mu+\\sigma$\")\n",
    "draw_func((lambda X: n_sigma_boundary_line(X, -1.0) ), mark='k--', linewidth=1, label=\"$\\mu-\\sigma$\")\n",
    "#\n",
    "draw_normal_func(func_dict)\n",
    "plt.xlabel(\"$x_1$\", fontsize=18)\n",
    "plt.ylabel(\"$y$\", rotation=0, fontsize=18)\n",
    "plt.legend(loc=\"upper left\", fontsize=14)\n",
    "# plt.axis([-3, 3, 0, 10])\n",
    "save_fig(\"grid_rbc_prediction_1sigma\")\n",
    "plt.show()"
   ]
  },
  {
   "cell_type": "code",
   "execution_count": null,
   "id": "e6266336",
   "metadata": {},
   "outputs": [],
   "source": []
  },
  {
   "cell_type": "markdown",
   "id": "99a85ab5",
   "metadata": {},
   "source": [
    "# Grid & Regression by Classification + Offset Estimation (grid --> grid,num)"
   ]
  },
  {
   "cell_type": "code",
   "execution_count": 38,
   "id": "26440167",
   "metadata": {},
   "outputs": [],
   "source": [
    "class num2gridOffset_np():\n",
    "    def __init__(self, units, x_min=-10, x_max=10):\n",
    "        self.units = units\n",
    "        self.x_min = x_min\n",
    "        self.x_max = x_max\n",
    "        self.x_grid = np.linspace(self.x_min, self.x_max, self.units, endpoint=True)\n",
    "        # bins\n",
    "        x_space = np.average(self.x_grid[1:] - self.x_grid[:-1])\n",
    "        print(\"x_space = %f\" % x_space)\n",
    "        x_0 = self.x_grid[0] - 0.5 * x_space\n",
    "        self.x_bins = [x_0 + _i*x_space for _i in range(len(self.x_grid)+1)]\n",
    "        print(\"self.x_grid = %s\" % str(self.x_grid))\n",
    "#         print(\"self.x_bins = %s\" % str(self.x_bins))\n",
    "        \n",
    "    def convert(self, X):\n",
    "        '''\n",
    "        Convert a batch of number to one-hot class and numerical offset to each grid's center\n",
    "        (m, 1) --> (m, n_units, 2)\n",
    "        '''\n",
    "        X = np.array(X)\n",
    "        if len(X.shape) <= 1:\n",
    "            X = X.reshape((-1,1))\n",
    "        idxs_bin = np.digitize(X, self.x_bins, right=False) \n",
    "        idxs_grid = (idxs_bin - 1) + 1*(idxs_bin<= 0) - 1*(idxs_bin>=self.units)\n",
    "        print(idxs_grid.shape)\n",
    "        #\n",
    "        batch_size = X.shape[0]\n",
    "        grid = np.zeros((batch_size, self.units, 2))\n",
    "        # Fill in the values\n",
    "        grid[np.arange(batch_size), idxs_grid.reshape((-1,)), 0] = 1.0\n",
    "        grid[np.arange(batch_size), :, 1] = X - self.x_grid.reshape((1,-1)) # Offset\n",
    "        return grid\n",
    "    \n",
    "    def inv_convert(self, grid):\n",
    "        idxs_grid = np.argmax(grid[...,0], axis=1)\n",
    "        print(idxs_grid.shape)\n",
    "        #\n",
    "        batch_size = grid.shape[0]\n",
    "        offset_est = grid[np.arange(batch_size),idxs_grid,1]\n",
    "        print(offset_est.shape)\n",
    "        num_est = self.x_grid[idxs_grid].reshape((1,-1)) + offset_est\n",
    "        return num_est.reshape((-1,))"
   ]
  },
  {
   "cell_type": "code",
   "execution_count": 39,
   "id": "8b15e9ff",
   "metadata": {},
   "outputs": [
    {
     "name": "stdout",
     "output_type": "stream",
     "text": [
      "x_space = 22.222222\n",
      "self.x_grid = [-100.          -77.77777778  -55.55555556  -33.33333333  -11.11111111\n",
      "   11.11111111   33.33333333   55.55555556   77.77777778  100.        ]\n"
     ]
    }
   ],
   "source": [
    "class_num = 10 # 10\n",
    "n2go = num2gridOffset_np(class_num, x_min=-100.0, x_max=100.0) "
   ]
  },
  {
   "cell_type": "code",
   "execution_count": 40,
   "id": "8f6e7955",
   "metadata": {},
   "outputs": [
    {
     "name": "stdout",
     "output_type": "stream",
     "text": [
      "(2, 1)\n",
      "[[[   0.           98.8       ]\n",
      "  [   0.           76.57777778]\n",
      "  [   0.           54.35555556]\n",
      "  [   0.           32.13333333]\n",
      "  [   1.            9.91111111]\n",
      "  [   0.          -12.31111111]\n",
      "  [   0.          -34.53333333]\n",
      "  [   0.          -56.75555556]\n",
      "  [   0.          -78.97777778]\n",
      "  [   0.         -101.2       ]]\n",
      "\n",
      " [[   0.          150.5       ]\n",
      "  [   0.          128.27777778]\n",
      "  [   0.          106.05555556]\n",
      "  [   0.           83.83333333]\n",
      "  [   0.           61.61111111]\n",
      "  [   0.           39.38888889]\n",
      "  [   0.           17.16666667]\n",
      "  [   1.           -5.05555556]\n",
      "  [   0.          -27.27777778]\n",
      "  [   0.          -49.5       ]]]\n"
     ]
    }
   ],
   "source": [
    "# grid_1 = n2g.convert(-1.2)\n",
    "grid_1 = n2go.convert([[-1.2], [50.5]])\n",
    "print(grid_1)"
   ]
  },
  {
   "cell_type": "code",
   "execution_count": 41,
   "id": "48840dc5",
   "metadata": {},
   "outputs": [
    {
     "name": "stdout",
     "output_type": "stream",
     "text": [
      "(2,)\n",
      "(2,)\n"
     ]
    },
    {
     "data": {
      "text/plain": [
       "array([-1.2, 50.5])"
      ]
     },
     "execution_count": 41,
     "metadata": {},
     "output_type": "execute_result"
    }
   ],
   "source": [
    "n2go.inv_convert(grid_1)"
   ]
  },
  {
   "cell_type": "markdown",
   "id": "11683cea",
   "metadata": {},
   "source": [
    "### Convert the labels to grid (pre-processing)"
   ]
  },
  {
   "cell_type": "code",
   "execution_count": 42,
   "id": "472997cf",
   "metadata": {},
   "outputs": [
    {
     "name": "stdout",
     "output_type": "stream",
     "text": [
      "(80, 1)\n",
      "(20, 1)\n"
     ]
    }
   ],
   "source": [
    "y_train_grid_offset = n2go.convert(y_train)\n",
    "y_valid_grid_offset = n2go.convert(y_valid)"
   ]
  },
  {
   "cell_type": "code",
   "execution_count": 43,
   "id": "71f08d76",
   "metadata": {},
   "outputs": [
    {
     "name": "stdout",
     "output_type": "stream",
     "text": [
      "(80, 10, 2)\n",
      "(20, 10, 2)\n"
     ]
    }
   ],
   "source": [
    "print(y_train_grid_offset.shape)\n",
    "print(y_valid_grid_offset.shape)"
   ]
  },
  {
   "cell_type": "code",
   "execution_count": 44,
   "id": "84b5b833",
   "metadata": {},
   "outputs": [
    {
     "name": "stdout",
     "output_type": "stream",
     "text": [
      "X.shape = (None, 1)\n",
      "gauss_grid.shape = (None, 5)\n"
     ]
    }
   ],
   "source": [
    "inputs = keras.layers.Input(shape=X_train.shape[1:])\n",
    "#\n",
    "z = num2grid(5,x_min=-10, x_max=10, sigma=3.0)(inputs)\n",
    "z = keras.layers.Dense(30, activation=\"selu\")(z)\n",
    "# Outputs\n",
    "z_proba = keras.layers.Dense(30, activation=\"relu\")(z)\n",
    "z_proba  = keras.layers.Dense(class_num, activation=\"softmax\")(z_proba)\n",
    "z_offset = keras.layers.Dense(class_num, activation=\"relu\")(z)\n",
    "z_offset = keras.layers.Dense(class_num)(z_offset)\n",
    "# Concatenate\n",
    "z_proba  = keras.layers.Reshape([class_num,1])(z_proba)\n",
    "z_offset = keras.layers.Reshape([class_num,1])(z_offset)\n",
    "out_cat = keras.layers.Concatenate(axis=-1)([z_proba, z_offset])\n",
    "#\n",
    "# Models for trainig and real usage\n",
    "model = keras.Model(inputs=[inputs], outputs=[out_cat])"
   ]
  },
  {
   "cell_type": "code",
   "execution_count": 45,
   "id": "e6482574",
   "metadata": {},
   "outputs": [],
   "source": [
    "# Customized loss function\n",
    "\n",
    "cce = keras.losses.CategoricalCrossentropy(reduction=keras.losses.Reduction.NONE)\n",
    "# cce(y_true, y_pred).numpy()\n",
    "\n",
    "def centerLoss_fn(y_true, y_pred):\n",
    "    #\n",
    "    y_true_proba = y_true[...,0]\n",
    "    y_true_value = y_true[...,1]\n",
    "    #\n",
    "    y_pred_proba = y_pred[...,0]\n",
    "    y_pred_value = y_pred[...,1]\n",
    "    \n",
    "    #\n",
    "    cce_loss = cce(y_true_proba, y_pred_proba) / class_num\n",
    "    #\n",
    "    y_true_value_est = tf.reduce_sum((y_true_proba * y_true_value), axis=-1)\n",
    "    y_pred_value_est = tf.reduce_sum((y_true_proba * y_pred_value), axis=-1)\n",
    "#     y_pred_value_est = tf.reduce_sum((y_pred_proba * y_pred_value), axis=-1)\n",
    "    value_loss = tf.abs(y_pred_value_est - y_true_value_est)\n",
    "    \n",
    "    # Total loss\n",
    "#     return (0.5*cce_loss + 0.5*value_loss )\n",
    "    return (0.2*cce_loss + 0.8*value_loss )\n",
    "#     return (cce_loss)\n",
    "#     return (value_loss )"
   ]
  },
  {
   "cell_type": "code",
   "execution_count": 46,
   "id": "60575755",
   "metadata": {},
   "outputs": [
    {
     "name": "stderr",
     "output_type": "stream",
     "text": [
      "C:\\Users\\benso\\anaconda3\\envs\\ml\\lib\\site-packages\\keras\\optimizer_v2\\adam.py:105: UserWarning: The `lr` argument is deprecated, use `learning_rate` instead.\n",
      "  super(Adam, self).__init__(name, **kwargs)\n"
     ]
    }
   ],
   "source": [
    "# optimizer = keras.optimizers.SGD(lr=0.1, momentum=0.9)\n",
    "optimizer = keras.optimizers.Adam(lr=0.05)\n",
    "model.compile(loss=centerLoss_fn, optimizer=optimizer)"
   ]
  },
  {
   "cell_type": "code",
   "execution_count": 47,
   "id": "09bc47a5",
   "metadata": {
    "scrolled": true
   },
   "outputs": [],
   "source": [
    "# history = model.fit(X_train, y_train_grid_offset, epochs=100,\n",
    "#                     validation_data=(X_valid, y_valid_grid_offset))"
   ]
  },
  {
   "cell_type": "code",
   "execution_count": 48,
   "id": "7ba1fe76",
   "metadata": {},
   "outputs": [],
   "source": [
    "# import pandas as pd\n",
    "\n",
    "# pd.DataFrame(history.history).plot(figsize=(8, 5))\n",
    "# plt.grid(True)\n",
    "# # plt.gca().set_ylim(0, 1)\n",
    "# save_fig(\"grid_rbcOffset_training_curve\")\n",
    "# plt.show()"
   ]
  },
  {
   "cell_type": "code",
   "execution_count": 49,
   "id": "47db8336",
   "metadata": {
    "scrolled": false
   },
   "outputs": [],
   "source": [
    "# # plt.plot(X_train, y_train, \"b.\")\n",
    "# draw_points(X_train, y_train, sid_train)\n",
    "# draw_func((lambda X: n2go.inv_convert(model.predict(X)) ), mark='r-', linewidth=2, label=\"Predictions\")\n",
    "# draw_normal_func(func_dict)\n",
    "# plt.xlabel(\"$x_1$\", fontsize=18)\n",
    "# plt.ylabel(\"$y$\", rotation=0, fontsize=18)\n",
    "# plt.legend(loc=\"upper left\", fontsize=14)\n",
    "# # plt.axis([-3, 3, 0, 10])\n",
    "# save_fig(\"grid_rbcOffset_prediction\")\n",
    "# plt.show()"
   ]
  },
  {
   "cell_type": "code",
   "execution_count": 50,
   "id": "46a1a384",
   "metadata": {},
   "outputs": [],
   "source": [
    "# get_prediction_error((lambda X: n2go.inv_convert(model.predict(X)) ), func_dict, name=\"grid-classOffset\")"
   ]
  },
  {
   "cell_type": "code",
   "execution_count": null,
   "id": "fff995a6",
   "metadata": {},
   "outputs": [],
   "source": []
  },
  {
   "cell_type": "markdown",
   "id": "a811f344",
   "metadata": {},
   "source": [
    "# Parametric Uncertainty/Distribution Estimation\n",
    "\n",
    "In this section, we try to estimate uncertainty (actually, fit the dataset distribution) with parametric reprecentation of a distribution instead of a discretized non-parametric representation.\n",
    "\n",
    "Possible solution includes\n",
    "- Quantile estimation with pinball loss (statistic)\n",
    "- Guassian distribution (fit a prabability distribution)"
   ]
  },
  {
   "cell_type": "markdown",
   "id": "175eb32d",
   "metadata": {},
   "source": [
    "## Quantile Estimation with Pinball Loss (grid --> parameters)\n",
    "\n",
    "Quantile estimation and pinball loss is based on the concept of statistic, which predict the value based on the rank of samples in the dataset.\n",
    "\n",
    "The outputs of the model are $(y_{10}, y_{90})$, 10% quantile prediction and 90% quantile prediction, respectively."
   ]
  },
  {
   "cell_type": "code",
   "execution_count": 51,
   "id": "1d1ef92d",
   "metadata": {},
   "outputs": [],
   "source": [
    "# quantile_list = [0.5]\n",
    "# quantile_list = [0.9]\n",
    "quantile_list = [0.1, 0.9] # Use hidden layer with 30 neurons\n",
    "# quantile_list = [0.05, 0.95]\n",
    "# quantile_list = [0.25, 0.75]\n",
    "# quantile_list = [0.1, 0.5, 0.9]\n",
    "# quantile_list = [0.1, 0.3, 0.7, 0.9]\n",
    "# quantile_list = [0.1, 0.2, 0.3, 0.4, 0.6, 0.7, 0.8, 0.9] # remove 0.5\n",
    "# quantile_list = [0.1, 0.2, 0.3, 0.4, 0.5, 0.6, 0.7, 0.8, 0.9] # Should use wider hidden layer (with many neurons) + L1 regularization\n",
    "num_quantile = len(quantile_list)"
   ]
  },
  {
   "cell_type": "code",
   "execution_count": 52,
   "id": "8e3fe57b",
   "metadata": {},
   "outputs": [
    {
     "name": "stdout",
     "output_type": "stream",
     "text": [
      "X.shape = (None, 1)\n",
      "gauss_grid.shape = (None, 5)\n"
     ]
    }
   ],
   "source": [
    "model = keras.models.Sequential([\n",
    "    num2grid(5,x_min=-10, x_max=10, sigma=3.0, input_shape=X_train.shape[1:]),\n",
    "#     num2grid(50,x_min=-10, x_max=10, sigma=0.5, input_shape=X_train.shape[1:]),\n",
    "    keras.layers.Dense(30, activation=\"relu\"),\n",
    "#     keras.layers.Dense(60, activation=\"relu\"),\n",
    "#     keras.layers.Dense(100, activation=\"relu\", kernel_regularizer=tf.keras.regularizers.l1(0.01)),\n",
    "#     keras.layers.Dense(30, activation=keras.layers.LeakyReLU(alpha=0.2) ),\n",
    "#     keras.layers.Dense(30, activation=\"selu\"),\n",
    "    keras.layers.Dense(num_quantile) # (y10, y90)\n",
    "])"
   ]
  },
  {
   "cell_type": "code",
   "execution_count": 53,
   "id": "bf131dc7",
   "metadata": {},
   "outputs": [],
   "source": [
    "# Customized loss function\n",
    "def pinballLoss_fn(y_true, y_pred, tau):\n",
    "    # tau: quantile, tau in [0.0, 1.0]\n",
    "    # y_true: label mean\n",
    "    # y_pred: predicted tau quantile\n",
    "    _q = y_true - y_pred\n",
    "    return tf.math.maximum( (tau*_q), ((tau-1.0)*_q))\n",
    "    \n",
    "def pinballLoss_10_90_fn(y_true, y_pred):\n",
    "    #\n",
    "    return pinballLoss_fn(y_true, y_pred[:,0:1], 0.1) + pinballLoss_fn(y_true, y_pred[:,1:2], 0.9)\n",
    "\n",
    "def pinballLoss_full_fn(y_true, y_pred):\n",
    "    #\n",
    "    pinball_losses = tf.stack( [pinballLoss_fn(y_true, y_pred[:, _i:(_i+1)], _tau) for _i, _tau in enumerate(quantile_list)], axis=1)\n",
    "    return tf.reduce_sum(pinball_losses, axis=1)"
   ]
  },
  {
   "cell_type": "code",
   "execution_count": 54,
   "id": "a71305d5",
   "metadata": {},
   "outputs": [],
   "source": [
    "# optimizer = keras.optimizers.SGD(lr=0.1, momentum=0.9)\n",
    "optimizer = keras.optimizers.Adam(lr=0.1)\n",
    "# model.compile(loss=pinballLoss_10_90_fn, optimizer=optimizer)\n",
    "model.compile(loss=pinballLoss_full_fn, optimizer=optimizer)"
   ]
  },
  {
   "cell_type": "code",
   "execution_count": 55,
   "id": "d935c409",
   "metadata": {
    "scrolled": true
   },
   "outputs": [
    {
     "name": "stdout",
     "output_type": "stream",
     "text": [
      "Epoch 1/100\n",
      "X.shape = (None, 1)\n",
      "gauss_grid.shape = (None, 5)\n",
      "X.shape = (None, 1)\n",
      "gauss_grid.shape = (None, 5)\n",
      "1/3 [=========>....................] - ETA: 0s - loss: 39.7658X.shape = (None, 1)\n",
      "gauss_grid.shape = (None, 5)\n",
      "3/3 [==============================] - 1s 80ms/step - loss: 41.0656 - val_loss: 31.1857\n",
      "Epoch 2/100\n",
      "3/3 [==============================] - 0s 21ms/step - loss: 36.8619 - val_loss: 25.9564\n",
      "Epoch 3/100\n",
      "3/3 [==============================] - 0s 23ms/step - loss: 30.3225 - val_loss: 19.2026\n",
      "Epoch 4/100\n",
      "3/3 [==============================] - 0s 24ms/step - loss: 22.3319 - val_loss: 13.3816\n",
      "Epoch 5/100\n",
      "3/3 [==============================] - 0s 20ms/step - loss: 17.3796 - val_loss: 13.0783\n",
      "Epoch 6/100\n",
      "3/3 [==============================] - 0s 19ms/step - loss: 15.1147 - val_loss: 14.6930\n",
      "Epoch 7/100\n",
      "3/3 [==============================] - 0s 23ms/step - loss: 15.2962 - val_loss: 15.0729\n",
      "Epoch 8/100\n",
      "3/3 [==============================] - 0s 20ms/step - loss: 15.4077 - val_loss: 13.9979\n",
      "Epoch 9/100\n",
      "3/3 [==============================] - 0s 21ms/step - loss: 14.4662 - val_loss: 12.5602\n",
      "Epoch 10/100\n",
      "3/3 [==============================] - 0s 17ms/step - loss: 13.1514 - val_loss: 11.8340\n",
      "Epoch 11/100\n",
      "3/3 [==============================] - 0s 15ms/step - loss: 11.7912 - val_loss: 11.0478\n",
      "Epoch 12/100\n",
      "3/3 [==============================] - 0s 16ms/step - loss: 10.8516 - val_loss: 10.0825\n",
      "Epoch 13/100\n",
      "3/3 [==============================] - 0s 19ms/step - loss: 10.1467 - val_loss: 8.6957\n",
      "Epoch 14/100\n",
      "3/3 [==============================] - 0s 16ms/step - loss: 9.0671 - val_loss: 7.0228\n",
      "Epoch 15/100\n",
      "3/3 [==============================] - 0s 15ms/step - loss: 7.8651 - val_loss: 5.1988\n",
      "Epoch 16/100\n",
      "3/3 [==============================] - 0s 15ms/step - loss: 6.7709 - val_loss: 4.9337\n",
      "Epoch 17/100\n",
      "3/3 [==============================] - 0s 15ms/step - loss: 5.8118 - val_loss: 5.0533\n",
      "Epoch 18/100\n",
      "3/3 [==============================] - 0s 15ms/step - loss: 5.4737 - val_loss: 5.2741\n",
      "Epoch 19/100\n",
      "3/3 [==============================] - 0s 15ms/step - loss: 5.5197 - val_loss: 5.0147\n",
      "Epoch 20/100\n",
      "3/3 [==============================] - 0s 16ms/step - loss: 5.3391 - val_loss: 4.5798\n",
      "Epoch 21/100\n",
      "3/3 [==============================] - 0s 16ms/step - loss: 5.1884 - val_loss: 4.1897\n",
      "Epoch 22/100\n",
      "3/3 [==============================] - 0s 14ms/step - loss: 4.9556 - val_loss: 4.0670\n",
      "Epoch 23/100\n",
      "3/3 [==============================] - ETA: 0s - loss: 4.725 - 0s 16ms/step - loss: 5.1502 - val_loss: 3.8497\n",
      "Epoch 24/100\n",
      "3/3 [==============================] - 0s 15ms/step - loss: 4.8322 - val_loss: 4.0185\n",
      "Epoch 25/100\n",
      "3/3 [==============================] - 0s 16ms/step - loss: 4.8131 - val_loss: 4.2214\n",
      "Epoch 26/100\n",
      "3/3 [==============================] - 0s 15ms/step - loss: 4.6296 - val_loss: 4.3578\n",
      "Epoch 27/100\n",
      "3/3 [==============================] - 0s 15ms/step - loss: 4.7343 - val_loss: 3.8636\n",
      "Epoch 28/100\n",
      "3/3 [==============================] - 0s 16ms/step - loss: 4.5245 - val_loss: 3.8282\n",
      "Epoch 29/100\n",
      "3/3 [==============================] - 0s 15ms/step - loss: 4.4409 - val_loss: 3.8048\n",
      "Epoch 30/100\n",
      "3/3 [==============================] - 0s 15ms/step - loss: 4.4616 - val_loss: 3.7672\n",
      "Epoch 31/100\n",
      "3/3 [==============================] - 0s 16ms/step - loss: 4.2834 - val_loss: 4.1427\n",
      "Epoch 32/100\n",
      "3/3 [==============================] - 0s 16ms/step - loss: 4.3568 - val_loss: 4.1505\n",
      "Epoch 33/100\n",
      "3/3 [==============================] - 0s 16ms/step - loss: 4.2435 - val_loss: 3.7091\n",
      "Epoch 34/100\n",
      "3/3 [==============================] - 0s 15ms/step - loss: 4.1464 - val_loss: 3.5373\n",
      "Epoch 35/100\n",
      "3/3 [==============================] - 0s 15ms/step - loss: 4.0824 - val_loss: 3.4053\n",
      "Epoch 36/100\n",
      "3/3 [==============================] - 0s 15ms/step - loss: 4.1588 - val_loss: 3.5610\n",
      "Epoch 37/100\n",
      "3/3 [==============================] - 0s 16ms/step - loss: 3.9789 - val_loss: 3.5175\n",
      "Epoch 38/100\n",
      "3/3 [==============================] - 0s 16ms/step - loss: 3.9179 - val_loss: 3.4778\n",
      "Epoch 39/100\n",
      "3/3 [==============================] - 0s 15ms/step - loss: 3.8182 - val_loss: 3.7954\n",
      "Epoch 40/100\n",
      "3/3 [==============================] - 0s 16ms/step - loss: 3.9208 - val_loss: 3.7893\n",
      "Epoch 41/100\n",
      "3/3 [==============================] - 0s 17ms/step - loss: 3.7722 - val_loss: 3.6261\n",
      "Epoch 42/100\n",
      "3/3 [==============================] - 0s 16ms/step - loss: 3.8962 - val_loss: 3.2468\n",
      "Epoch 43/100\n",
      "3/3 [==============================] - 0s 16ms/step - loss: 3.6736 - val_loss: 3.0285\n",
      "Epoch 44/100\n",
      "3/3 [==============================] - 0s 16ms/step - loss: 3.5696 - val_loss: 3.2928\n",
      "Epoch 45/100\n",
      "3/3 [==============================] - 0s 15ms/step - loss: 3.4674 - val_loss: 3.3369\n",
      "Epoch 46/100\n",
      "3/3 [==============================] - 0s 16ms/step - loss: 3.4624 - val_loss: 3.5461\n",
      "Epoch 47/100\n",
      "3/3 [==============================] - 0s 15ms/step - loss: 3.5049 - val_loss: 3.1797\n",
      "Epoch 48/100\n",
      "3/3 [==============================] - 0s 16ms/step - loss: 3.2932 - val_loss: 3.1475\n",
      "Epoch 49/100\n",
      "3/3 [==============================] - 0s 15ms/step - loss: 3.2221 - val_loss: 2.7990\n",
      "Epoch 50/100\n",
      "3/3 [==============================] - 0s 16ms/step - loss: 3.1459 - val_loss: 2.8702\n",
      "Epoch 51/100\n",
      "3/3 [==============================] - 0s 15ms/step - loss: 2.9707 - val_loss: 3.0903\n",
      "Epoch 52/100\n",
      "3/3 [==============================] - 0s 17ms/step - loss: 3.1752 - val_loss: 2.9469\n",
      "Epoch 53/100\n",
      "3/3 [==============================] - 0s 15ms/step - loss: 2.9680 - val_loss: 2.9564\n",
      "Epoch 54/100\n",
      "3/3 [==============================] - 0s 16ms/step - loss: 2.8894 - val_loss: 2.7502\n",
      "Epoch 55/100\n",
      "3/3 [==============================] - 0s 15ms/step - loss: 2.8248 - val_loss: 2.7612\n",
      "Epoch 56/100\n",
      "3/3 [==============================] - 0s 16ms/step - loss: 2.7504 - val_loss: 2.8883\n",
      "Epoch 57/100\n",
      "3/3 [==============================] - 0s 21ms/step - loss: 2.7429 - val_loss: 2.6042\n",
      "Epoch 58/100\n",
      "3/3 [==============================] - 0s 15ms/step - loss: 2.8331 - val_loss: 2.6514\n",
      "Epoch 59/100\n",
      "3/3 [==============================] - 0s 15ms/step - loss: 2.6641 - val_loss: 2.8055\n",
      "Epoch 60/100\n",
      "3/3 [==============================] - 0s 15ms/step - loss: 2.6704 - val_loss: 2.6780\n",
      "Epoch 61/100\n",
      "3/3 [==============================] - 0s 15ms/step - loss: 2.7337 - val_loss: 2.8155\n",
      "Epoch 62/100\n",
      "3/3 [==============================] - 0s 15ms/step - loss: 3.0018 - val_loss: 3.0592\n",
      "Epoch 63/100\n",
      "3/3 [==============================] - 0s 16ms/step - loss: 2.8831 - val_loss: 2.8280\n",
      "Epoch 64/100\n",
      "3/3 [==============================] - 0s 16ms/step - loss: 2.7769 - val_loss: 3.0255\n",
      "Epoch 65/100\n",
      "3/3 [==============================] - 0s 15ms/step - loss: 3.1689 - val_loss: 2.9470\n",
      "Epoch 66/100\n",
      "3/3 [==============================] - 0s 15ms/step - loss: 3.0017 - val_loss: 3.4258\n",
      "Epoch 67/100\n",
      "3/3 [==============================] - 0s 18ms/step - loss: 3.3411 - val_loss: 3.2507\n",
      "Epoch 68/100\n",
      "3/3 [==============================] - 0s 16ms/step - loss: 2.9180 - val_loss: 2.8108\n",
      "Epoch 69/100\n",
      "3/3 [==============================] - 0s 15ms/step - loss: 2.9659 - val_loss: 2.6998\n",
      "Epoch 70/100\n",
      "3/3 [==============================] - 0s 17ms/step - loss: 2.8563 - val_loss: 3.0745\n",
      "Epoch 71/100\n",
      "3/3 [==============================] - 0s 15ms/step - loss: 3.0296 - val_loss: 2.8042\n",
      "Epoch 72/100\n",
      "3/3 [==============================] - 0s 16ms/step - loss: 2.7937 - val_loss: 2.5466\n",
      "Epoch 73/100\n",
      "3/3 [==============================] - 0s 15ms/step - loss: 2.7239 - val_loss: 2.5441\n",
      "Epoch 74/100\n",
      "3/3 [==============================] - 0s 17ms/step - loss: 2.8561 - val_loss: 2.6832\n",
      "Epoch 75/100\n",
      "3/3 [==============================] - 0s 15ms/step - loss: 2.7635 - val_loss: 2.8600\n",
      "Epoch 76/100\n",
      "3/3 [==============================] - 0s 15ms/step - loss: 2.6965 - val_loss: 2.7109\n",
      "Epoch 77/100\n",
      "3/3 [==============================] - 0s 15ms/step - loss: 2.7017 - val_loss: 2.6137\n",
      "Epoch 78/100\n",
      "3/3 [==============================] - 0s 15ms/step - loss: 2.6128 - val_loss: 2.5671\n",
      "Epoch 79/100\n",
      "3/3 [==============================] - 0s 15ms/step - loss: 2.6298 - val_loss: 2.6067\n",
      "Epoch 80/100\n",
      "3/3 [==============================] - 0s 15ms/step - loss: 2.6667 - val_loss: 2.7624\n",
      "Epoch 81/100\n"
     ]
    },
    {
     "name": "stdout",
     "output_type": "stream",
     "text": [
      "3/3 [==============================] - 0s 15ms/step - loss: 2.6105 - val_loss: 2.5007\n",
      "Epoch 82/100\n",
      "3/3 [==============================] - 0s 15ms/step - loss: 2.5886 - val_loss: 2.5657\n",
      "Epoch 83/100\n",
      "3/3 [==============================] - 0s 14ms/step - loss: 2.6763 - val_loss: 2.7416\n",
      "Epoch 84/100\n",
      "3/3 [==============================] - 0s 16ms/step - loss: 2.5749 - val_loss: 2.5439\n",
      "Epoch 85/100\n",
      "3/3 [==============================] - 0s 15ms/step - loss: 2.5561 - val_loss: 2.5251\n",
      "Epoch 86/100\n",
      "3/3 [==============================] - 0s 15ms/step - loss: 2.5584 - val_loss: 2.6749\n",
      "Epoch 87/100\n",
      "3/3 [==============================] - 0s 15ms/step - loss: 2.6165 - val_loss: 2.6599\n",
      "Epoch 88/100\n",
      "3/3 [==============================] - 0s 15ms/step - loss: 2.5493 - val_loss: 2.4801\n",
      "Epoch 89/100\n",
      "3/3 [==============================] - 0s 15ms/step - loss: 2.5250 - val_loss: 2.5487\n",
      "Epoch 90/100\n",
      "3/3 [==============================] - 0s 15ms/step - loss: 2.5211 - val_loss: 2.5625\n",
      "Epoch 91/100\n",
      "3/3 [==============================] - 0s 15ms/step - loss: 2.5018 - val_loss: 2.5221\n",
      "Epoch 92/100\n",
      "3/3 [==============================] - 0s 15ms/step - loss: 2.5546 - val_loss: 2.6216\n",
      "Epoch 93/100\n",
      "3/3 [==============================] - 0s 15ms/step - loss: 2.6031 - val_loss: 2.6680\n",
      "Epoch 94/100\n",
      "3/3 [==============================] - 0s 15ms/step - loss: 2.5653 - val_loss: 2.5075\n",
      "Epoch 95/100\n",
      "3/3 [==============================] - 0s 19ms/step - loss: 2.6508 - val_loss: 2.6034\n",
      "Epoch 96/100\n",
      "3/3 [==============================] - 0s 16ms/step - loss: 2.6291 - val_loss: 2.8643\n",
      "Epoch 97/100\n",
      "3/3 [==============================] - 0s 15ms/step - loss: 2.6595 - val_loss: 2.6028\n",
      "Epoch 98/100\n",
      "3/3 [==============================] - 0s 16ms/step - loss: 2.6238 - val_loss: 2.4847\n",
      "Epoch 99/100\n",
      "3/3 [==============================] - 0s 15ms/step - loss: 2.5800 - val_loss: 2.7249\n",
      "Epoch 100/100\n",
      "3/3 [==============================] - 0s 15ms/step - loss: 2.5512 - val_loss: 2.6942\n"
     ]
    }
   ],
   "source": [
    "history = model.fit(X_train, y_train, epochs=100,\n",
    "                    validation_data=(X_valid, y_valid))"
   ]
  },
  {
   "cell_type": "code",
   "execution_count": 56,
   "id": "e7fa5656",
   "metadata": {
    "scrolled": false
   },
   "outputs": [
    {
     "name": "stdout",
     "output_type": "stream",
     "text": [
      "Saving figure grid_quantile_training_curve\n"
     ]
    },
    {
     "data": {
      "image/png": "[encoded data removed]",
      "text/plain": [
       "<Figure size 576x360 with 1 Axes>"
      ]
     },
     "metadata": {
      "needs_background": "light"
     },
     "output_type": "display_data"
    }
   ],
   "source": [
    "import pandas as pd\n",
    "\n",
    "pd.DataFrame(history.history).plot(figsize=(8, 5))\n",
    "plt.grid(True)\n",
    "# plt.gca().set_ylim(0, 1)\n",
    "save_fig(\"grid_quantile_training_curve\")\n",
    "plt.show()"
   ]
  },
  {
   "cell_type": "markdown",
   "id": "a4a59dd6",
   "metadata": {},
   "source": [
    "### Draw the mean prediction curve averaged from all quantile predictions."
   ]
  },
  {
   "cell_type": "code",
   "execution_count": 57,
   "id": "0e5d0058",
   "metadata": {},
   "outputs": [
    {
     "name": "stdout",
     "output_type": "stream",
     "text": [
      "X.shape = (None, 1)\n",
      "gauss_grid.shape = (None, 5)\n",
      "Saving figure grid_quantile_prediction\n"
     ]
    },
    {
     "data": {
      "image/png": "[encoded data removed]",
      "text/plain": [
       "<Figure size 432x288 with 1 Axes>"
      ]
     },
     "metadata": {
      "needs_background": "light"
     },
     "output_type": "display_data"
    }
   ],
   "source": [
    "# plt.plot(X_train, y_train, \"b.\")\n",
    "draw_points(X_train, y_train, sid_train)\n",
    "draw_func((lambda X: np.average(model.predict(X), axis=-1) ), mark='r-', linewidth=2, label=\"Predictions\")\n",
    "# draw_func((lambda X: model.predict(X)[:,0] ), mark='k--', linewidth=1, label=\"$y_{%d}$\" % (quantile_list[0]*100))\n",
    "# draw_func((lambda X: model.predict(X)[:,-1] ), mark='k--', linewidth=1, label=\"$y_{%d}$\" % (quantile_list[-1]*100))\n",
    "draw_normal_func(func_dict)\n",
    "plt.xlabel(\"$x_1$\", fontsize=18)\n",
    "plt.ylabel(\"$y$\", rotation=0, fontsize=18)\n",
    "plt.legend(loc=\"upper left\", fontsize=14)\n",
    "# plt.axis([-3, 3, 0, 10])\n",
    "save_fig(\"grid_quantile_prediction\")\n",
    "plt.show()"
   ]
  },
  {
   "cell_type": "code",
   "execution_count": 58,
   "id": "f98d3ae8",
   "metadata": {},
   "outputs": [
    {
     "name": "stdout",
     "output_type": "stream",
     "text": [
      "y_func.shape = (100, 1)\n",
      "y_gt.shape = (100, 1)\n"
     ]
    },
    {
     "data": {
      "text/plain": [
       "1.6957135403152643"
      ]
     },
     "execution_count": 58,
     "metadata": {},
     "output_type": "execute_result"
    }
   ],
   "source": [
    "get_prediction_error((lambda X: np.average(model.predict(X), axis=-1) ), func_dict, name=\"grid-quantileR\")"
   ]
  },
  {
   "cell_type": "markdown",
   "id": "f79ac920",
   "metadata": {},
   "source": [
    "### Draw first and last quantile curve."
   ]
  },
  {
   "cell_type": "code",
   "execution_count": 59,
   "id": "42eeb254",
   "metadata": {},
   "outputs": [
    {
     "name": "stdout",
     "output_type": "stream",
     "text": [
      "Saving figure grid_quantile_boundary_quantiles\n"
     ]
    },
    {
     "data": {
      "image/png": "[encoded data removed]",
      "text/plain": [
       "<Figure size 432x288 with 1 Axes>"
      ]
     },
     "metadata": {
      "needs_background": "light"
     },
     "output_type": "display_data"
    }
   ],
   "source": [
    "# plt.plot(X_train, y_train, \"b.\")\n",
    "draw_points(X_train, y_train, sid_train)\n",
    "draw_func((lambda X: np.average(model.predict(X), axis=-1) ), mark='r-', linewidth=2, label=\"Predictions\")\n",
    "draw_func((lambda X: model.predict(X)[:,0] ), mark='k--', linewidth=1, label=\"$y_{%d}$\" % (quantile_list[0]*100))\n",
    "draw_func((lambda X: model.predict(X)[:,-1] ), mark='k--', linewidth=1, label=\"$y_{%d}$\" % (quantile_list[-1]*100))\n",
    "draw_normal_func(func_dict)\n",
    "plt.xlabel(\"$x_1$\", fontsize=18)\n",
    "plt.ylabel(\"$y$\", rotation=0, fontsize=18)\n",
    "plt.legend(loc=\"upper left\", fontsize=14)\n",
    "# plt.axis([-3, 3, 0, 10])\n",
    "save_fig(\"grid_quantile_boundary_quantiles\")\n",
    "plt.show()"
   ]
  },
  {
   "cell_type": "markdown",
   "id": "2a1b1b44",
   "metadata": {},
   "source": [
    "### Draw all quantile predictions"
   ]
  },
  {
   "cell_type": "code",
   "execution_count": 60,
   "id": "5e875238",
   "metadata": {},
   "outputs": [
    {
     "name": "stdout",
     "output_type": "stream",
     "text": [
      "Saving figure grid_quantile_all_quantiles\n"
     ]
    },
    {
     "data": {
      "image/png": "[encoded data removed]",
      "text/plain": [
       "<Figure size 432x288 with 1 Axes>"
      ]
     },
     "metadata": {
      "needs_background": "light"
     },
     "output_type": "display_data"
    }
   ],
   "source": [
    "# plt.plot(X_train, y_train, \"b.\")\n",
    "draw_points(X_train, y_train, sid_train)\n",
    "draw_func((lambda X: np.average(model.predict(X), axis=-1) ), mark='r-', linewidth=2, label=\"Predictions\")\n",
    "for _idx, _tau in enumerate(quantile_list):\n",
    "    draw_func((lambda X: model.predict(X)[:,_idx] ), mark='k--', linewidth=1, label=\"$y_{%d}$\" % (_tau*100))\n",
    "draw_normal_func(func_dict)\n",
    "plt.xlabel(\"$x_1$\", fontsize=18)\n",
    "plt.ylabel(\"$y$\", rotation=0, fontsize=18)\n",
    "plt.legend(loc=\"upper left\", fontsize=14)\n",
    "# plt.axis([-3, 3, 0, 10])\n",
    "save_fig(\"grid_quantile_all_quantiles\")\n",
    "plt.show()"
   ]
  },
  {
   "cell_type": "markdown",
   "id": "0693a8eb",
   "metadata": {},
   "source": [
    "### Multi-Quantiles as a Gaussian Distribution "
   ]
  },
  {
   "cell_type": "code",
   "execution_count": 61,
   "id": "11262fbe",
   "metadata": {},
   "outputs": [],
   "source": [
    "# def n_sigma_boundary_line(X, n):\n",
    "#     _y = model.predict(X)\n",
    "#     _mean = np.mean(_y, axis=-1)\n",
    "#     _sigma = np.std(_y, axis=-1)\n",
    "#     return( _mean + n*_sigma)\n",
    "\n",
    "# # plt.plot(X_train, y_train, \"b.\")\n",
    "# draw_points(X_train, y_train, sid_train)\n",
    "# #\n",
    "# draw_func((lambda X: np.average(model.predict(X), axis=-1) ), mark='r-', linewidth=2, label=\"Predictions\")\n",
    "# draw_func((lambda X: n_sigma_boundary_line(X, +1.0) ), mark='k--', linewidth=1, label=\"$\\mu+\\sigma$\")\n",
    "# draw_func((lambda X: n_sigma_boundary_line(X, -1.0) ), mark='k--', linewidth=1, label=\"$\\mu-\\sigma$\")\n",
    "# #\n",
    "# draw_normal_func(func_dict)\n",
    "# plt.xlabel(\"$x_1$\", fontsize=18)\n",
    "# plt.ylabel(\"$y$\", rotation=0, fontsize=18)\n",
    "# plt.legend(loc=\"upper left\", fontsize=14)\n",
    "# # plt.axis([-3, 3, 0, 10])\n",
    "# save_fig(\"grid_quantile_1sigma\")\n",
    "# plt.show()"
   ]
  },
  {
   "cell_type": "markdown",
   "id": "9a01aa69",
   "metadata": {},
   "source": [
    "## Gaussian Estimation with Gaussian Loss (grid-->parameters)\n",
    "\n",
    "Gaussain estimation requires the model to predict the mean and variance of a Gaussian distribution of the random variable regarded. The training purpose is to fit a Gaussian distribution to the data distribution (which is not necessay distributed as Gaussian).\n",
    "\n",
    "One possible solution, derived by BensonHuang, is that the model estimates $(\\mu, z)$, where $z=\\alpha ^{-1}log(\\sigma)$.\n",
    "The associated loss function can be $L_G(y, (\\mu,z)) = 0.5e^{-2\\alpha z}(y-\\mu)^2 + \\alpha z$."
   ]
  },
  {
   "cell_type": "code",
   "execution_count": 62,
   "id": "1a20d5dd",
   "metadata": {},
   "outputs": [],
   "source": [
    "alpha = 1.0\n",
    "# alpha = 0.01\n",
    "# alpha = 0.001"
   ]
  },
  {
   "cell_type": "code",
   "execution_count": 63,
   "id": "cb202ed2",
   "metadata": {},
   "outputs": [
    {
     "name": "stdout",
     "output_type": "stream",
     "text": [
      "X.shape = (None, 1)\n",
      "gauss_grid.shape = (None, 5)\n"
     ]
    }
   ],
   "source": [
    "model = keras.models.Sequential([\n",
    "    num2grid(5,x_min=-10, x_max=10, sigma=3.0, input_shape=X_train.shape[1:]),\n",
    "#     keras.layers.Dense(30, activation=\"relu\"),\n",
    "    keras.layers.Dense(60, activation=\"relu\"),\n",
    "#     keras.layers.Dense(30, activation=keras.layers.LeakyReLU(alpha=0.2) ),\n",
    "#     keras.layers.Dense(30, activation=\"selu\"),\n",
    "    keras.layers.Dense(2) # (mu, z)\n",
    "])"
   ]
  },
  {
   "cell_type": "code",
   "execution_count": 64,
   "id": "925f0a22",
   "metadata": {},
   "outputs": [
    {
     "name": "stdout",
     "output_type": "stream",
     "text": [
      "alpha = 1.000000\n"
     ]
    }
   ],
   "source": [
    "# Customized loss function\n",
    "print(\"alpha = %f\" % alpha)\n",
    "\n",
    "def GaussianLoss_fn(y_true, y_pred):\n",
    "    # y_true: label \n",
    "    # y_pred: (mu, z), z=log(sigma)\n",
    "    mu = y_pred[:, 0:1]\n",
    "    z  = y_pred[:, 1:2]\n",
    "    #\n",
    "    en2z = tf.math.exp((-2.0*alpha)*z)\n",
    "    ymu2 = (y_true - mu)**2\n",
    "    return (0.5*en2z*ymu2 + alpha*z)"
   ]
  },
  {
   "cell_type": "code",
   "execution_count": 65,
   "id": "1b388b4b",
   "metadata": {},
   "outputs": [],
   "source": [
    "# Learning rate scheduler\n",
    "learning_rate_switch_epoch_list = [30, 45]\n",
    "learning_rate_list = [0.001, 0.01, 0.1]\n",
    "# learning_rate_switch_epoch_list = [30, 80]\n",
    "# learning_rate_list = [0.01, 0.1, 0.01]\n",
    "#\n",
    "def piecewise_constant_fn(epoch):\n",
    "    for _i, epoch_s in enumerate(learning_rate_switch_epoch_list):\n",
    "        if epoch < epoch_s:\n",
    "            return learning_rate_list[_i]\n",
    "    return learning_rate_list[-1]\n",
    "\n",
    "lr_scheduler = keras.callbacks.LearningRateScheduler(piecewise_constant_fn)"
   ]
  },
  {
   "cell_type": "markdown",
   "id": "6ec2e05e",
   "metadata": {},
   "source": [
    "Third training with even greater speed"
   ]
  },
  {
   "cell_type": "code",
   "execution_count": 66,
   "id": "7a7e245b",
   "metadata": {},
   "outputs": [
    {
     "name": "stderr",
     "output_type": "stream",
     "text": [
      "C:\\Users\\benso\\anaconda3\\envs\\ml\\lib\\site-packages\\keras\\optimizer_v2\\adam.py:105: UserWarning: The `lr` argument is deprecated, use `learning_rate` instead.\n",
      "  super(Adam, self).__init__(name, **kwargs)\n"
     ]
    }
   ],
   "source": [
    "# optimizer = keras.optimizers.SGD(lr=0.1, momentum=0.9)\n",
    "optimizer = keras.optimizers.Adam(lr=0.1) # 0.1\n",
    "model.compile(loss=GaussianLoss_fn, optimizer=optimizer)"
   ]
  },
  {
   "cell_type": "code",
   "execution_count": 67,
   "id": "6d7b74a9",
   "metadata": {
    "scrolled": true
   },
   "outputs": [
    {
     "name": "stdout",
     "output_type": "stream",
     "text": [
      "Epoch 1/200\n",
      "X.shape = (None, 1)\n",
      "gauss_grid.shape = (None, 5)\n",
      "X.shape = (None, 1)\n",
      "gauss_grid.shape = (None, 5)\n",
      "1/3 [=========>....................] - ETA: 0s - loss: 801.1981X.shape = (None, 1)\n",
      "gauss_grid.shape = (None, 5)\n",
      "3/3 [==============================] - 1s 144ms/step - loss: 328.9123 - val_loss: 6.8557\n",
      "Epoch 2/200\n",
      "3/3 [==============================] - 0s 18ms/step - loss: 8.5609 - val_loss: 12.8829\n",
      "Epoch 3/200\n",
      "3/3 [==============================] - 0s 29ms/step - loss: 14.1494 - val_loss: 17.2182\n",
      "Epoch 4/200\n",
      "3/3 [==============================] - 0s 19ms/step - loss: 18.0337 - val_loss: 19.8802\n",
      "Epoch 5/200\n",
      "3/3 [==============================] - 0s 18ms/step - loss: 20.2240 - val_loss: 20.8032\n",
      "Epoch 6/200\n",
      "3/3 [==============================] - 0s 19ms/step - loss: 20.7450 - val_loss: 20.1871\n",
      "Epoch 7/200\n",
      "3/3 [==============================] - 0s 24ms/step - loss: 19.7970 - val_loss: 18.1901\n",
      "Epoch 8/200\n",
      "3/3 [==============================] - 0s 17ms/step - loss: 17.5199 - val_loss: 14.9336\n",
      "Epoch 9/200\n",
      "3/3 [==============================] - 0s 20ms/step - loss: 14.0543 - val_loss: 10.5531\n",
      "Epoch 10/200\n",
      "3/3 [==============================] - 0s 18ms/step - loss: 9.4549 - val_loss: 5.1462\n",
      "Epoch 11/200\n",
      "3/3 [==============================] - 0s 15ms/step - loss: 7.7840 - val_loss: 4.1840\n",
      "Epoch 12/200\n",
      "3/3 [==============================] - 0s 15ms/step - loss: 5.3421 - val_loss: 8.3769\n",
      "Epoch 13/200\n",
      "3/3 [==============================] - 0s 15ms/step - loss: 9.0884 - val_loss: 11.1924\n",
      "Epoch 14/200\n",
      "3/3 [==============================] - 0s 16ms/step - loss: 11.3365 - val_loss: 12.7095\n",
      "Epoch 15/200\n",
      "3/3 [==============================] - 0s 15ms/step - loss: 12.4302 - val_loss: 13.2288\n",
      "Epoch 16/200\n",
      "3/3 [==============================] - 0s 15ms/step - loss: 12.5677 - val_loss: 12.9815\n",
      "Epoch 17/200\n",
      "3/3 [==============================] - 0s 14ms/step - loss: 12.0376 - val_loss: 12.1508\n",
      "Epoch 18/200\n",
      "3/3 [==============================] - 0s 14ms/step - loss: 10.9592 - val_loss: 10.8783\n",
      "Epoch 19/200\n",
      "3/3 [==============================] - 0s 15ms/step - loss: 9.4810 - val_loss: 9.2818\n",
      "Epoch 20/200\n",
      "3/3 [==============================] - 0s 15ms/step - loss: 7.7376 - val_loss: 7.6554\n",
      "Epoch 21/200\n",
      "3/3 [==============================] - 0s 15ms/step - loss: 7.2742 - val_loss: 7.0881\n",
      "Epoch 22/200\n",
      "3/3 [==============================] - 0s 15ms/step - loss: 6.2574 - val_loss: 6.8057\n",
      "Epoch 23/200\n",
      "3/3 [==============================] - 0s 14ms/step - loss: 6.1434 - val_loss: 6.3472\n",
      "Epoch 24/200\n",
      "3/3 [==============================] - 0s 14ms/step - loss: 5.7709 - val_loss: 5.3555\n",
      "Epoch 25/200\n",
      "3/3 [==============================] - 0s 14ms/step - loss: 4.8809 - val_loss: 4.2422\n",
      "Epoch 26/200\n",
      "3/3 [==============================] - 0s 14ms/step - loss: 4.3426 - val_loss: 4.2394\n",
      "Epoch 27/200\n",
      "3/3 [==============================] - 0s 14ms/step - loss: 4.2606 - val_loss: 4.0689\n",
      "Epoch 28/200\n",
      "3/3 [==============================] - 0s 15ms/step - loss: 4.1954 - val_loss: 4.1285\n",
      "Epoch 29/200\n",
      "3/3 [==============================] - 0s 18ms/step - loss: 4.3742 - val_loss: 4.1350\n",
      "Epoch 30/200\n",
      "3/3 [==============================] - 0s 15ms/step - loss: 4.3137 - val_loss: 4.1152\n",
      "Epoch 31/200\n",
      "3/3 [==============================] - 0s 15ms/step - loss: 4.1627 - val_loss: 4.0937\n",
      "Epoch 32/200\n",
      "3/3 [==============================] - 0s 16ms/step - loss: 4.0225 - val_loss: 3.8479\n",
      "Epoch 33/200\n",
      "3/3 [==============================] - 0s 15ms/step - loss: 3.9389 - val_loss: 3.8131\n",
      "Epoch 34/200\n",
      "3/3 [==============================] - 0s 15ms/step - loss: 3.9629 - val_loss: 3.8630\n",
      "Epoch 35/200\n",
      "3/3 [==============================] - 0s 14ms/step - loss: 3.9803 - val_loss: 3.8292\n",
      "Epoch 36/200\n",
      "3/3 [==============================] - 0s 16ms/step - loss: 3.9369 - val_loss: 3.7522\n",
      "Epoch 37/200\n",
      "3/3 [==============================] - 0s 14ms/step - loss: 3.8748 - val_loss: 3.7350\n",
      "Epoch 38/200\n",
      "3/3 [==============================] - 0s 16ms/step - loss: 3.8439 - val_loss: 3.7500\n",
      "Epoch 39/200\n",
      "3/3 [==============================] - 0s 14ms/step - loss: 3.8434 - val_loss: 3.7397\n",
      "Epoch 40/200\n",
      "3/3 [==============================] - 0s 16ms/step - loss: 3.8287 - val_loss: 3.7066\n",
      "Epoch 41/200\n",
      "3/3 [==============================] - 0s 15ms/step - loss: 3.8034 - val_loss: 3.6845\n",
      "Epoch 42/200\n",
      "3/3 [==============================] - 0s 14ms/step - loss: 3.7868 - val_loss: 3.6736\n",
      "Epoch 43/200\n",
      "3/3 [==============================] - 0s 14ms/step - loss: 3.7624 - val_loss: 3.6593\n",
      "Epoch 44/200\n",
      "3/3 [==============================] - 0s 14ms/step - loss: 3.7480 - val_loss: 3.6485\n",
      "Epoch 45/200\n",
      "3/3 [==============================] - 0s 14ms/step - loss: 3.7239 - val_loss: 3.6362\n",
      "Epoch 46/200\n",
      "3/3 [==============================] - 0s 14ms/step - loss: 3.7023 - val_loss: 3.6330\n",
      "Epoch 47/200\n",
      "3/3 [==============================] - 0s 14ms/step - loss: 3.6759 - val_loss: 3.6045\n",
      "Epoch 48/200\n",
      "3/3 [==============================] - 0s 14ms/step - loss: 3.6487 - val_loss: 3.5872\n",
      "Epoch 49/200\n",
      "3/3 [==============================] - 0s 13ms/step - loss: 3.6235 - val_loss: 3.5802\n",
      "Epoch 50/200\n",
      "3/3 [==============================] - 0s 14ms/step - loss: 3.5882 - val_loss: 3.5488\n",
      "Epoch 51/200\n",
      "3/3 [==============================] - 0s 14ms/step - loss: 3.5551 - val_loss: 3.5310\n",
      "Epoch 52/200\n",
      "3/3 [==============================] - 0s 15ms/step - loss: 3.5208 - val_loss: 3.5048\n",
      "Epoch 53/200\n",
      "3/3 [==============================] - 0s 15ms/step - loss: 3.4881 - val_loss: 3.4813\n",
      "Epoch 54/200\n",
      "3/3 [==============================] - 0s 16ms/step - loss: 3.4694 - val_loss: 3.4557\n",
      "Epoch 55/200\n",
      "3/3 [==============================] - 0s 15ms/step - loss: 3.4511 - val_loss: 3.4244\n",
      "Epoch 56/200\n",
      "3/3 [==============================] - 0s 15ms/step - loss: 3.4307 - val_loss: 3.3973\n",
      "Epoch 57/200\n",
      "3/3 [==============================] - 0s 18ms/step - loss: 3.4041 - val_loss: 3.3759\n",
      "Epoch 58/200\n",
      "3/3 [==============================] - 0s 14ms/step - loss: 3.3872 - val_loss: 3.3512\n",
      "Epoch 59/200\n",
      "3/3 [==============================] - 0s 15ms/step - loss: 3.3600 - val_loss: 3.3370\n",
      "Epoch 60/200\n",
      "3/3 [==============================] - 0s 15ms/step - loss: 3.3482 - val_loss: 3.3302\n",
      "Epoch 61/200\n",
      "3/3 [==============================] - 0s 15ms/step - loss: 3.3383 - val_loss: 3.3164\n",
      "Epoch 62/200\n",
      "3/3 [==============================] - 0s 15ms/step - loss: 3.3277 - val_loss: 3.2963\n",
      "Epoch 63/200\n",
      "3/3 [==============================] - 0s 14ms/step - loss: 3.3211 - val_loss: 3.2843\n",
      "Epoch 64/200\n",
      "3/3 [==============================] - 0s 14ms/step - loss: 3.3271 - val_loss: 3.2769\n",
      "Epoch 65/200\n",
      "3/3 [==============================] - 0s 14ms/step - loss: 3.3106 - val_loss: 3.2958\n",
      "Epoch 66/200\n",
      "3/3 [==============================] - 0s 14ms/step - loss: 3.3149 - val_loss: 3.3145\n",
      "Epoch 67/200\n",
      "3/3 [==============================] - 0s 14ms/step - loss: 3.3122 - val_loss: 3.3238\n",
      "Epoch 68/200\n",
      "3/3 [==============================] - 0s 14ms/step - loss: 3.3164 - val_loss: 3.3079\n",
      "Epoch 69/200\n",
      "3/3 [==============================] - 0s 14ms/step - loss: 3.3005 - val_loss: 3.2889\n",
      "Epoch 70/200\n",
      "3/3 [==============================] - 0s 15ms/step - loss: 3.3038 - val_loss: 3.2810\n",
      "Epoch 71/200\n",
      "3/3 [==============================] - 0s 14ms/step - loss: 3.2956 - val_loss: 3.2890\n",
      "Epoch 72/200\n",
      "3/3 [==============================] - 0s 15ms/step - loss: 3.3048 - val_loss: 3.2896\n",
      "Epoch 73/200\n",
      "3/3 [==============================] - 0s 14ms/step - loss: 3.2902 - val_loss: 3.2913\n",
      "Epoch 74/200\n",
      "3/3 [==============================] - 0s 14ms/step - loss: 3.2860 - val_loss: 3.2914\n",
      "Epoch 75/200\n",
      "3/3 [==============================] - 0s 15ms/step - loss: 3.2838 - val_loss: 3.3029\n",
      "Epoch 76/200\n",
      "3/3 [==============================] - 0s 15ms/step - loss: 3.2831 - val_loss: 3.2993\n",
      "Epoch 77/200\n",
      "3/3 [==============================] - 0s 15ms/step - loss: 3.3110 - val_loss: 3.2750\n",
      "Epoch 78/200\n",
      "3/3 [==============================] - 0s 15ms/step - loss: 3.2998 - val_loss: 3.3095\n",
      "Epoch 79/200\n",
      "3/3 [==============================] - 0s 14ms/step - loss: 3.3117 - val_loss: 3.2678\n",
      "Epoch 80/200\n",
      "3/3 [==============================] - 0s 15ms/step - loss: 3.2635 - val_loss: 3.2999\n",
      "Epoch 81/200\n"
     ]
    },
    {
     "name": "stdout",
     "output_type": "stream",
     "text": [
      "3/3 [==============================] - 0s 15ms/step - loss: 3.2893 - val_loss: 3.2554\n",
      "Epoch 82/200\n",
      "3/3 [==============================] - 0s 15ms/step - loss: 3.2910 - val_loss: 3.2782\n",
      "Epoch 83/200\n",
      "3/3 [==============================] - 0s 15ms/step - loss: 3.2819 - val_loss: 3.2308\n",
      "Epoch 84/200\n",
      "3/3 [==============================] - 0s 15ms/step - loss: 3.2821 - val_loss: 3.2602\n",
      "Epoch 85/200\n",
      "3/3 [==============================] - 0s 17ms/step - loss: 3.2702 - val_loss: 3.2722\n",
      "Epoch 86/200\n",
      "3/3 [==============================] - 0s 14ms/step - loss: 3.2610 - val_loss: 3.2608\n",
      "Epoch 87/200\n",
      "3/3 [==============================] - 0s 14ms/step - loss: 3.2504 - val_loss: 3.2438\n",
      "Epoch 88/200\n",
      "3/3 [==============================] - 0s 15ms/step - loss: 3.2464 - val_loss: 3.2326\n",
      "Epoch 89/200\n",
      "3/3 [==============================] - 0s 16ms/step - loss: 3.2581 - val_loss: 3.2211\n",
      "Epoch 90/200\n",
      "3/3 [==============================] - 0s 15ms/step - loss: 3.2449 - val_loss: 3.2264\n",
      "Epoch 91/200\n",
      "3/3 [==============================] - 0s 15ms/step - loss: 3.2623 - val_loss: 3.2287\n",
      "Epoch 92/200\n",
      "3/3 [==============================] - 0s 17ms/step - loss: 3.2424 - val_loss: 3.2484\n",
      "Epoch 93/200\n",
      "3/3 [==============================] - 0s 15ms/step - loss: 3.2331 - val_loss: 3.2522\n",
      "Epoch 94/200\n",
      "3/3 [==============================] - 0s 17ms/step - loss: 3.2438 - val_loss: 3.2341\n",
      "Epoch 95/200\n",
      "3/3 [==============================] - 0s 16ms/step - loss: 3.2170 - val_loss: 3.2226\n",
      "Epoch 96/200\n",
      "3/3 [==============================] - 0s 15ms/step - loss: 3.2212 - val_loss: 3.1900\n",
      "Epoch 97/200\n",
      "3/3 [==============================] - 0s 17ms/step - loss: 3.2154 - val_loss: 3.1736\n",
      "Epoch 98/200\n",
      "3/3 [==============================] - 0s 14ms/step - loss: 3.2219 - val_loss: 3.1854\n",
      "Epoch 99/200\n",
      "3/3 [==============================] - 0s 14ms/step - loss: 3.2137 - val_loss: 3.1819\n",
      "Epoch 100/200\n",
      "3/3 [==============================] - 0s 14ms/step - loss: 3.2055 - val_loss: 3.1812\n",
      "Epoch 101/200\n",
      "3/3 [==============================] - 0s 14ms/step - loss: 3.1989 - val_loss: 3.1955\n",
      "Epoch 102/200\n",
      "3/3 [==============================] - 0s 15ms/step - loss: 3.1928 - val_loss: 3.2002\n",
      "Epoch 103/200\n",
      "3/3 [==============================] - 0s 14ms/step - loss: 3.2011 - val_loss: 3.1851\n",
      "Epoch 104/200\n",
      "3/3 [==============================] - 0s 17ms/step - loss: 3.1747 - val_loss: 3.1839\n",
      "Epoch 105/200\n",
      "3/3 [==============================] - 0s 15ms/step - loss: 3.1882 - val_loss: 3.1607\n",
      "Epoch 106/200\n",
      "3/3 [==============================] - 0s 14ms/step - loss: 3.1796 - val_loss: 3.1832\n",
      "Epoch 107/200\n",
      "3/3 [==============================] - 0s 15ms/step - loss: 3.1870 - val_loss: 3.1514\n",
      "Epoch 108/200\n",
      "3/3 [==============================] - 0s 14ms/step - loss: 3.1667 - val_loss: 3.1964\n",
      "Epoch 109/200\n",
      "3/3 [==============================] - 0s 15ms/step - loss: 3.1784 - val_loss: 3.1826\n",
      "Epoch 110/200\n",
      "3/3 [==============================] - 0s 14ms/step - loss: 3.1557 - val_loss: 3.1565\n",
      "Epoch 111/200\n",
      "3/3 [==============================] - 0s 14ms/step - loss: 3.1491 - val_loss: 3.1420\n",
      "Epoch 112/200\n",
      "3/3 [==============================] - 0s 15ms/step - loss: 3.1445 - val_loss: 3.1444\n",
      "Epoch 113/200\n",
      "3/3 [==============================] - 0s 15ms/step - loss: 3.1520 - val_loss: 3.1698\n",
      "Epoch 114/200\n",
      "3/3 [==============================] - 0s 17ms/step - loss: 3.1407 - val_loss: 3.1528\n",
      "Epoch 115/200\n",
      "3/3 [==============================] - 0s 15ms/step - loss: 3.1568 - val_loss: 3.1263\n",
      "Epoch 116/200\n",
      "3/3 [==============================] - 0s 15ms/step - loss: 3.1428 - val_loss: 3.1289\n",
      "Epoch 117/200\n",
      "3/3 [==============================] - 0s 14ms/step - loss: 3.1100 - val_loss: 3.0997\n",
      "Epoch 118/200\n",
      "3/3 [==============================] - 0s 15ms/step - loss: 3.1154 - val_loss: 3.0896\n",
      "Epoch 119/200\n",
      "3/3 [==============================] - 0s 15ms/step - loss: 3.1029 - val_loss: 3.1189\n",
      "Epoch 120/200\n",
      "3/3 [==============================] - 0s 15ms/step - loss: 3.0956 - val_loss: 3.1110\n",
      "Epoch 121/200\n",
      "3/3 [==============================] - 0s 15ms/step - loss: 3.0826 - val_loss: 3.1065\n",
      "Epoch 122/200\n",
      "3/3 [==============================] - 0s 14ms/step - loss: 3.0722 - val_loss: 3.0758\n",
      "Epoch 123/200\n",
      "3/3 [==============================] - 0s 15ms/step - loss: 3.0665 - val_loss: 3.0571\n",
      "Epoch 124/200\n",
      "3/3 [==============================] - 0s 14ms/step - loss: 3.0656 - val_loss: 3.0559\n",
      "Epoch 125/200\n",
      "3/3 [==============================] - 0s 15ms/step - loss: 3.0541 - val_loss: 3.0763\n",
      "Epoch 126/200\n",
      "3/3 [==============================] - 0s 14ms/step - loss: 3.0518 - val_loss: 3.0670\n",
      "Epoch 127/200\n",
      "3/3 [==============================] - 0s 14ms/step - loss: 3.0414 - val_loss: 3.0894\n",
      "Epoch 128/200\n",
      "3/3 [==============================] - 0s 14ms/step - loss: 3.0502 - val_loss: 3.0883\n",
      "Epoch 129/200\n",
      "3/3 [==============================] - 0s 14ms/step - loss: 3.0250 - val_loss: 3.0501\n",
      "Epoch 130/200\n",
      "3/3 [==============================] - 0s 15ms/step - loss: 3.0186 - val_loss: 3.0081\n",
      "Epoch 131/200\n",
      "3/3 [==============================] - ETA: 0s - loss: 2.924 - 0s 14ms/step - loss: 3.0288 - val_loss: 3.0426\n",
      "Epoch 132/200\n",
      "3/3 [==============================] - 0s 14ms/step - loss: 3.0133 - val_loss: 3.0237\n",
      "Epoch 133/200\n",
      "3/3 [==============================] - 0s 14ms/step - loss: 3.0001 - val_loss: 3.0328\n",
      "Epoch 134/200\n",
      "3/3 [==============================] - 0s 15ms/step - loss: 2.9813 - val_loss: 3.0096\n",
      "Epoch 135/200\n",
      "3/3 [==============================] - 0s 15ms/step - loss: 2.9869 - val_loss: 2.9985\n",
      "Epoch 136/200\n",
      "3/3 [==============================] - 0s 15ms/step - loss: 2.9624 - val_loss: 3.0145\n",
      "Epoch 137/200\n",
      "3/3 [==============================] - 0s 15ms/step - loss: 2.9509 - val_loss: 3.0070\n",
      "Epoch 138/200\n",
      "3/3 [==============================] - 0s 17ms/step - loss: 2.9388 - val_loss: 2.9905\n",
      "Epoch 139/200\n",
      "3/3 [==============================] - 0s 14ms/step - loss: 2.9536 - val_loss: 2.9724\n",
      "Epoch 140/200\n",
      "3/3 [==============================] - 0s 14ms/step - loss: 2.9182 - val_loss: 2.9866\n",
      "Epoch 141/200\n",
      "3/3 [==============================] - 0s 15ms/step - loss: 2.9518 - val_loss: 2.9907\n",
      "Epoch 142/200\n",
      "3/3 [==============================] - 0s 16ms/step - loss: 2.9245 - val_loss: 2.9822\n",
      "Epoch 143/200\n",
      "3/3 [==============================] - 0s 15ms/step - loss: 2.9082 - val_loss: 2.9864\n",
      "Epoch 144/200\n",
      "3/3 [==============================] - 0s 14ms/step - loss: 2.9227 - val_loss: 2.9774\n",
      "Epoch 145/200\n",
      "3/3 [==============================] - 0s 14ms/step - loss: 2.8918 - val_loss: 2.9534\n",
      "Epoch 146/200\n",
      "3/3 [==============================] - 0s 14ms/step - loss: 2.8887 - val_loss: 2.9719\n",
      "Epoch 147/200\n",
      "3/3 [==============================] - 0s 14ms/step - loss: 2.8916 - val_loss: 2.9786\n",
      "Epoch 148/200\n",
      "3/3 [==============================] - 0s 14ms/step - loss: 2.8434 - val_loss: 2.9575\n",
      "Epoch 149/200\n",
      "3/3 [==============================] - 0s 14ms/step - loss: 2.8758 - val_loss: 2.9278\n",
      "Epoch 150/200\n",
      "3/3 [==============================] - 0s 16ms/step - loss: 2.8520 - val_loss: 2.9827\n",
      "Epoch 151/200\n",
      "3/3 [==============================] - 0s 14ms/step - loss: 2.8327 - val_loss: 2.9205\n",
      "Epoch 152/200\n",
      "3/3 [==============================] - 0s 15ms/step - loss: 2.8267 - val_loss: 2.9101\n",
      "Epoch 153/200\n",
      "3/3 [==============================] - 0s 15ms/step - loss: 2.7863 - val_loss: 2.9311\n",
      "Epoch 154/200\n",
      "3/3 [==============================] - 0s 15ms/step - loss: 2.7970 - val_loss: 2.9264\n",
      "Epoch 155/200\n",
      "3/3 [==============================] - 0s 15ms/step - loss: 2.7730 - val_loss: 2.9356\n",
      "Epoch 156/200\n",
      "3/3 [==============================] - 0s 15ms/step - loss: 2.8355 - val_loss: 2.9209\n",
      "Epoch 157/200\n",
      "3/3 [==============================] - 0s 18ms/step - loss: 2.7874 - val_loss: 2.9613\n",
      "Epoch 158/200\n",
      "3/3 [==============================] - 0s 15ms/step - loss: 2.7758 - val_loss: 2.8727\n",
      "Epoch 159/200\n",
      "3/3 [==============================] - 0s 15ms/step - loss: 2.7538 - val_loss: 2.8729\n",
      "Epoch 160/200\n",
      "3/3 [==============================] - 0s 15ms/step - loss: 2.7378 - val_loss: 2.8853\n",
      "Epoch 161/200\n",
      "3/3 [==============================] - 0s 15ms/step - loss: 2.7350 - val_loss: 2.8725\n",
      "Epoch 162/200\n",
      "3/3 [==============================] - 0s 15ms/step - loss: 2.7131 - val_loss: 2.8763\n",
      "Epoch 163/200\n"
     ]
    },
    {
     "name": "stdout",
     "output_type": "stream",
     "text": [
      "3/3 [==============================] - 0s 14ms/step - loss: 2.7171 - val_loss: 2.8546\n",
      "Epoch 164/200\n",
      "3/3 [==============================] - 0s 15ms/step - loss: 2.7063 - val_loss: 2.8411\n",
      "Epoch 165/200\n",
      "3/3 [==============================] - 0s 13ms/step - loss: 2.7285 - val_loss: 2.8730\n",
      "Epoch 166/200\n",
      "3/3 [==============================] - 0s 13ms/step - loss: 2.7264 - val_loss: 2.9213\n",
      "Epoch 167/200\n",
      "3/3 [==============================] - 0s 14ms/step - loss: 2.7161 - val_loss: 2.8433\n",
      "Epoch 168/200\n",
      "3/3 [==============================] - 0s 14ms/step - loss: 2.7620 - val_loss: 2.8775\n",
      "Epoch 169/200\n",
      "3/3 [==============================] - 0s 14ms/step - loss: 2.8349 - val_loss: 3.1049\n",
      "Epoch 170/200\n",
      "3/3 [==============================] - 0s 14ms/step - loss: 2.9459 - val_loss: 3.0125\n",
      "Epoch 171/200\n",
      "3/3 [==============================] - 0s 18ms/step - loss: 2.7988 - val_loss: 2.9384\n",
      "Epoch 172/200\n",
      "3/3 [==============================] - 0s 14ms/step - loss: 2.7836 - val_loss: 2.8693\n",
      "Epoch 173/200\n",
      "3/3 [==============================] - 0s 15ms/step - loss: 2.7304 - val_loss: 2.9166\n",
      "Epoch 174/200\n",
      "3/3 [==============================] - 0s 15ms/step - loss: 2.7130 - val_loss: 2.8147\n",
      "Epoch 175/200\n",
      "3/3 [==============================] - 0s 14ms/step - loss: 2.8309 - val_loss: 2.9911\n",
      "Epoch 176/200\n",
      "3/3 [==============================] - 0s 14ms/step - loss: 2.8681 - val_loss: 3.0340\n",
      "Epoch 177/200\n",
      "3/3 [==============================] - 0s 15ms/step - loss: 2.8650 - val_loss: 3.0263\n",
      "Epoch 178/200\n",
      "3/3 [==============================] - 0s 15ms/step - loss: 2.7518 - val_loss: 2.8497\n",
      "Epoch 179/200\n",
      "3/3 [==============================] - 0s 14ms/step - loss: 2.7246 - val_loss: 2.8587\n",
      "Epoch 180/200\n",
      "3/3 [==============================] - 0s 14ms/step - loss: 2.7084 - val_loss: 2.8584\n",
      "Epoch 181/200\n",
      "3/3 [==============================] - 0s 15ms/step - loss: 2.7400 - val_loss: 2.8317\n",
      "Epoch 182/200\n",
      "3/3 [==============================] - 0s 14ms/step - loss: 2.6962 - val_loss: 2.9384\n",
      "Epoch 183/200\n",
      "3/3 [==============================] - 0s 14ms/step - loss: 2.7470 - val_loss: 2.9332\n",
      "Epoch 184/200\n",
      "3/3 [==============================] - 0s 15ms/step - loss: 2.6962 - val_loss: 2.8289\n",
      "Epoch 185/200\n",
      "3/3 [==============================] - 0s 15ms/step - loss: 2.6649 - val_loss: 2.8849\n",
      "Epoch 186/200\n",
      "3/3 [==============================] - 0s 15ms/step - loss: 2.6978 - val_loss: 2.8254\n",
      "Epoch 187/200\n",
      "3/3 [==============================] - 0s 15ms/step - loss: 2.6622 - val_loss: 2.8455\n",
      "Epoch 188/200\n",
      "3/3 [==============================] - 0s 14ms/step - loss: 2.6776 - val_loss: 2.8847\n",
      "Epoch 189/200\n",
      "3/3 [==============================] - 0s 15ms/step - loss: 2.6658 - val_loss: 2.8455\n",
      "Epoch 190/200\n",
      "3/3 [==============================] - 0s 14ms/step - loss: 2.6923 - val_loss: 2.8093\n",
      "Epoch 191/200\n",
      "3/3 [==============================] - 0s 15ms/step - loss: 2.6595 - val_loss: 2.8870\n",
      "Epoch 192/200\n",
      "3/3 [==============================] - 0s 14ms/step - loss: 2.6971 - val_loss: 2.8346\n",
      "Epoch 193/200\n",
      "3/3 [==============================] - 0s 14ms/step - loss: 2.6566 - val_loss: 2.8242\n",
      "Epoch 194/200\n",
      "3/3 [==============================] - 0s 15ms/step - loss: 2.6483 - val_loss: 2.8514\n",
      "Epoch 195/200\n",
      "3/3 [==============================] - 0s 15ms/step - loss: 2.6855 - val_loss: 2.8136\n",
      "Epoch 196/200\n",
      "3/3 [==============================] - 0s 15ms/step - loss: 2.6224 - val_loss: 2.7647\n",
      "Epoch 197/200\n",
      "3/3 [==============================] - 0s 15ms/step - loss: 2.6597 - val_loss: 2.8502\n",
      "Epoch 198/200\n",
      "3/3 [==============================] - 0s 14ms/step - loss: 2.6848 - val_loss: 2.8379\n",
      "Epoch 199/200\n",
      "3/3 [==============================] - 0s 14ms/step - loss: 2.6266 - val_loss: 2.8060\n",
      "Epoch 200/200\n",
      "3/3 [==============================] - 0s 18ms/step - loss: 2.6853 - val_loss: 2.8853\n"
     ]
    }
   ],
   "source": [
    "history = model.fit(X_train, y_train, epochs=200,\n",
    "                    validation_data=(X_valid, y_valid))"
   ]
  },
  {
   "cell_type": "code",
   "execution_count": 68,
   "id": "0b29d35c",
   "metadata": {
    "scrolled": true
   },
   "outputs": [],
   "source": [
    "# history = model.fit(X_train, y_train, epochs=145,\n",
    "#                     validation_data=(X_valid, y_valid), callbacks=[lr_scheduler])"
   ]
  },
  {
   "cell_type": "code",
   "execution_count": 69,
   "id": "28215732",
   "metadata": {},
   "outputs": [
    {
     "name": "stdout",
     "output_type": "stream",
     "text": [
      "Saving figure grid_Gaussian_training_curve\n"
     ]
    },
    {
     "data": {
      "image/png": "[encoded data removed]",
      "text/plain": [
       "<Figure size 576x360 with 1 Axes>"
      ]
     },
     "metadata": {
      "needs_background": "light"
     },
     "output_type": "display_data"
    }
   ],
   "source": [
    "import pandas as pd\n",
    "\n",
    "# print(history.history)\n",
    "try:\n",
    "    lr_list = history.history[\"lr\"]\n",
    "    del(history.history[\"lr\"])\n",
    "except:\n",
    "    pass\n",
    "\n",
    "pd.DataFrame(history.history)[50:].plot(figsize=(8, 5))\n",
    "plt.grid(True)\n",
    "# plt.gca().set_ylim(0, 1)\n",
    "save_fig(\"grid_Gaussian_training_curve\")\n",
    "plt.show()"
   ]
  },
  {
   "cell_type": "code",
   "execution_count": 70,
   "id": "47d362c9",
   "metadata": {
    "scrolled": true
   },
   "outputs": [
    {
     "name": "stdout",
     "output_type": "stream",
     "text": [
      "X.shape = (None, 1)\n",
      "gauss_grid.shape = (None, 5)\n",
      "Saving figure grid_Gaussian_prediction\n"
     ]
    },
    {
     "data": {
      "image/png": "[encoded data removed]",
      "text/plain": [
       "<Figure size 432x288 with 1 Axes>"
      ]
     },
     "metadata": {
      "needs_background": "light"
     },
     "output_type": "display_data"
    }
   ],
   "source": [
    "# plt.plot(X_train, y_train, \"b.\")\n",
    "draw_points(X_train, y_train, sid_train)\n",
    "draw_func((lambda X: model.predict(X)[:,0] ), mark='r-', linewidth=2, label=\"Predictions\")\n",
    "draw_normal_func(func_dict)\n",
    "plt.xlabel(\"$x_1$\", fontsize=18)\n",
    "plt.ylabel(\"$y$\", rotation=0, fontsize=18)\n",
    "plt.legend(loc=\"upper left\", fontsize=14)\n",
    "# plt.axis([-3, 3, 0, 10])\n",
    "save_fig(\"grid_Gaussian_prediction\")\n",
    "plt.show()"
   ]
  },
  {
   "cell_type": "code",
   "execution_count": 71,
   "id": "a85a5159",
   "metadata": {},
   "outputs": [
    {
     "name": "stdout",
     "output_type": "stream",
     "text": [
      "y_func.shape = (100, 1)\n",
      "y_gt.shape = (100, 1)\n"
     ]
    },
    {
     "data": {
      "text/plain": [
       "4.480722294120007"
      ]
     },
     "execution_count": 71,
     "metadata": {},
     "output_type": "execute_result"
    }
   ],
   "source": [
    "get_prediction_error((lambda X: model.predict(X)[:,0] ), func_dict, name=\"grid-oneGaussian\")"
   ]
  },
  {
   "cell_type": "markdown",
   "id": "9ca1e36d",
   "metadata": {},
   "source": [
    "### Draw the 1-sigma boundary line"
   ]
  },
  {
   "cell_type": "code",
   "execution_count": 72,
   "id": "a04a47fa",
   "metadata": {},
   "outputs": [
    {
     "name": "stdout",
     "output_type": "stream",
     "text": [
      "Saving figure grid_Gaussian_1sigma\n"
     ]
    },
    {
     "data": {
      "image/png": "[encoded data removed]",
      "text/plain": [
       "<Figure size 432x288 with 1 Axes>"
      ]
     },
     "metadata": {
      "needs_background": "light"
     },
     "output_type": "display_data"
    }
   ],
   "source": [
    "def n_sigma_boundary_line(X, n):\n",
    "    _y = model.predict(X)\n",
    "    _mean, _z = _y[:,0:1], _y[:,1:2]\n",
    "    _sigma = np.exp(alpha*_z)\n",
    "    return( _mean + n*_sigma)\n",
    "\n",
    "# plt.plot(X_train, y_train, \"b.\")\n",
    "draw_points(X_train, y_train, sid_train)\n",
    "#\n",
    "draw_func((lambda X: model.predict(X)[:,0] ), mark='r-', linewidth=2, label=\"Predictions\")\n",
    "draw_func((lambda X: n_sigma_boundary_line(X, +1.0) ), mark='k--', linewidth=1, label=\"$\\mu+\\sigma$\")\n",
    "draw_func((lambda X: n_sigma_boundary_line(X, -1.0) ), mark='k--', linewidth=1, label=\"$\\mu-\\sigma$\")\n",
    "#\n",
    "draw_normal_func(func_dict)\n",
    "plt.xlabel(\"$x_1$\", fontsize=18)\n",
    "plt.ylabel(\"$y$\", rotation=0, fontsize=18)\n",
    "plt.legend(loc=\"upper left\", fontsize=14)\n",
    "# plt.axis([-3, 3, 0, 10])\n",
    "save_fig(\"grid_Gaussian_1sigma\")\n",
    "plt.show()"
   ]
  },
  {
   "cell_type": "markdown",
   "id": "1cdb8a83",
   "metadata": {},
   "source": [
    "# Per-subject Bias/Property Learning"
   ]
  },
  {
   "cell_type": "code",
   "execution_count": 73,
   "id": "0a429b42",
   "metadata": {},
   "outputs": [],
   "source": [
    "# Create a custom layer for estimating bais for each subject\n",
    "class SubjectBias(keras.layers.Layer):\n",
    "    def __init__(self, num_subject, bias_scale=1.0, mean_reg_rate=1.0, activation=None, **kwargs):\n",
    "        super().__init__(**kwargs)\n",
    "        self.num_subject = num_subject\n",
    "        self.bias_scale = bias_scale\n",
    "        self.mean_reg_rate = mean_reg_rate if mean_reg_rate >= 0.0 else 0.0\n",
    "        #\n",
    "        self.X_shape = None\n",
    "        self.activation = keras.activations.get(activation)\n",
    "        \n",
    "    def build(self, batch_input_shape):\n",
    "        self.X_shape = batch_input_shape[0]\n",
    "        # Initiate a trainable vector as the bias for X\n",
    "        \"\"\"\n",
    "        bias: (num_subject, X_shape[1], X_shape[2], ...)\n",
    "        \"\"\"\n",
    "        self.bias = self.add_weight(name=\"bias\", \n",
    "                                    shape=([self.num_subject] + self.X_shape[1:]), \n",
    "                                    initializer=\"zeros\")\n",
    "        super().build(batch_input_shape) # must be at the end\n",
    "        \n",
    "    def get_bias(self, sid):\n",
    "        '''\n",
    "        A helper function for retriving the bias according to the given sid.\n",
    "        Note: sid starts from 1.\n",
    "        Note2: this is the bias added to X, which are scaled by self.bias_scale\n",
    "        '''\n",
    "        if sid > self.num_subject or sid <= 0: # Out of bound, index not in range\n",
    "            return tf.zeros(self.X_shape[1:])\n",
    "        else:\n",
    "            return self.bias_scale * self.bias[tf.cast(sid-1, tf.int32),:]\n",
    "        \n",
    "    def get_scaled_biases_np(self):\n",
    "        return self.bias_scale * self.bias.numpy()\n",
    "        \n",
    "    def call(self, X_sid, training=None):\n",
    "        '''\n",
    "        X_sid = [X, sid]\n",
    "        Input shape:  X: (batch, ...), sid: (batch, 1)\n",
    "        Output shape: (batch, ...)\n",
    "        '''\n",
    "        X, SID = X_sid\n",
    "        X_shape = X.shape\n",
    "        print(\"X.shape = %s\" % X.shape)\n",
    "        print(\"SID.shape = %s\" % SID.shape)\n",
    "        \n",
    "        # Add bias\n",
    "        y = X + self.bias_scale * tf.gather(self.bias, SID[:,0]-1, axis=0)\n",
    "        \n",
    "        # Add a loss on the means in order to force them to become zeros\n",
    "        if self.mean_reg_rate > 0.0:\n",
    "            # Calculate the mean of all biases (on each dimension)\n",
    "            bias_means = tf.reduce_sum(self.bias, axis=0)\n",
    "            # MAE of means on all dimensions\n",
    "            self.add_loss( self.mean_reg_rate * tf.reduce_sum(tf.abs(bias_means)) )\n",
    "        \n",
    "        return self.activation(y)\n",
    "        \n",
    "#         if training:    \n",
    "#             # Add biases according to the sid of each instance\n",
    "#             # Note: a corner case is not handeled that if there exist out-of-range sid.\n",
    "#             # y = X + self.bias[tf.cast(SID[:,0]-1, tf.int32),:]\n",
    "#             # y = X + self.bias[ SID[:,0]-1,:]\n",
    "#             y = X + tf.gather(self.bias, SID[:,0]-1, axis=0)\n",
    "#             return self.activation(y)\n",
    "#         else: # If it's not trainig, just output the original X without adding bias\n",
    "#             return self.activation(X_sid[0])\n",
    "    \n",
    "    def compute_output_shape(self, batch_input_shape):\n",
    "        # Note: the same shape as the first input\n",
    "        return batch_input_shape[0]\n",
    "    \n",
    "    def get_config(self):\n",
    "        base_config = super().get_config()\n",
    "        return {**base_config, \n",
    "                \"num_subject\": self.num_subject,\n",
    "                \"bias_scale\": self.bias_scale,\n",
    "                \"mean_reg_rate\": self.mean_reg_rate,\n",
    "                \"activation\": keras.activations.serialize(self.activation)}"
   ]
  },
  {
   "cell_type": "markdown",
   "id": "00220bd0",
   "metadata": {},
   "source": [
    "Number of subjects"
   ]
  },
  {
   "cell_type": "code",
   "execution_count": 74,
   "id": "fa925d83",
   "metadata": {},
   "outputs": [],
   "source": [
    "# Number of subjects\n",
    "num_subject = multiout_type"
   ]
  },
  {
   "cell_type": "markdown",
   "id": "37e02154",
   "metadata": {},
   "source": [
    "Build two models"
   ]
  },
  {
   "cell_type": "code",
   "execution_count": 75,
   "id": "05766d44",
   "metadata": {},
   "outputs": [
    {
     "name": "stdout",
     "output_type": "stream",
     "text": [
      "X.shape = (None, 1)\n",
      "gauss_grid.shape = (None, 5)\n",
      "X.shape = (None, 1)\n",
      "SID.shape = (None, 1)\n"
     ]
    }
   ],
   "source": [
    "inputs = keras.layers.Input(shape=X_train.shape[1:])\n",
    "inputs_sid = keras.layers.Input(shape=(1,), dtype=tf.int32)\n",
    "#\n",
    "z = num2grid(5,x_min=-10, x_max=10, sigma=3.0)(inputs)\n",
    "z = keras.layers.Dense(30, activation=\"relu\")(z)\n",
    "output = keras.layers.Dense(1)(z)\n",
    "output_biased = SubjectBias(num_subject, bias_scale=10.0, mean_reg_rate=1.0, name=\"bias_est\")([output, inputs_sid])\n",
    "# Setup models\n",
    "model = keras.Model(inputs=[inputs], outputs=[output]) # pure\n",
    "model_biased = keras.Model(inputs=[inputs, inputs_sid], outputs=[output_biased]) # biased, for training"
   ]
  },
  {
   "cell_type": "code",
   "execution_count": 76,
   "id": "6da7e9b1",
   "metadata": {},
   "outputs": [
    {
     "name": "stderr",
     "output_type": "stream",
     "text": [
      "C:\\Users\\benso\\anaconda3\\envs\\ml\\lib\\site-packages\\keras\\optimizer_v2\\adam.py:105: UserWarning: The `lr` argument is deprecated, use `learning_rate` instead.\n",
      "  super(Adam, self).__init__(name, **kwargs)\n"
     ]
    }
   ],
   "source": [
    "# optimizer = keras.optimizers.SGD(lr=0.001, momentum=0.9)\n",
    "# model.compile(loss=\"mean_squared_error\", optimizer=optimizer)\n",
    "optimizer = keras.optimizers.Adam(lr=0.1)\n",
    "model_biased.compile(loss=\"mean_absolute_error\", optimizer=optimizer)\n",
    "#\n",
    "# model.compile(loss=\"mean_absolute_error\", optimizer=optimizer) # No need to compile this if it's not going to be trained."
   ]
  },
  {
   "cell_type": "code",
   "execution_count": 77,
   "id": "700a6e39",
   "metadata": {
    "scrolled": true
   },
   "outputs": [
    {
     "name": "stdout",
     "output_type": "stream",
     "text": [
      "Epoch 1/100\n",
      "X.shape = (None, 1)\n",
      "gauss_grid.shape = (None, 5)\n",
      "X.shape = (None, 1)\n",
      "SID.shape = (None, 1)\n",
      "X.shape = (None, 1)\n",
      "gauss_grid.shape = (None, 5)\n",
      "X.shape = (None, 1)\n",
      "SID.shape = (None, 1)\n",
      "1/3 [=========>....................] - ETA: 0s - loss: 39.9946X.shape = (None, 1)\n",
      "gauss_grid.shape = (None, 5)\n",
      "X.shape = (None, 1)\n",
      "SID.shape = (None, 1)\n",
      "3/3 [==============================] - 1s 78ms/step - loss: 41.3615 - val_loss: 31.4495\n",
      "Epoch 2/100\n",
      "3/3 [==============================] - 0s 17ms/step - loss: 38.2136 - val_loss: 27.3383\n",
      "Epoch 3/100\n",
      "3/3 [==============================] - 0s 25ms/step - loss: 33.0066 - val_loss: 21.5754\n",
      "Epoch 4/100\n",
      "3/3 [==============================] - 0s 21ms/step - loss: 25.2657 - val_loss: 13.8959\n",
      "Epoch 5/100\n",
      "3/3 [==============================] - 0s 19ms/step - loss: 16.8176 - val_loss: 7.6628\n",
      "Epoch 6/100\n",
      "3/3 [==============================] - 0s 19ms/step - loss: 12.8397 - val_loss: 6.7483\n",
      "Epoch 7/100\n",
      "3/3 [==============================] - 0s 15ms/step - loss: 13.6258 - val_loss: 7.0856\n",
      "Epoch 8/100\n",
      "3/3 [==============================] - 0s 15ms/step - loss: 13.1677 - val_loss: 8.4467\n",
      "Epoch 9/100\n",
      "3/3 [==============================] - 0s 16ms/step - loss: 13.2307 - val_loss: 6.6685\n",
      "Epoch 10/100\n",
      "3/3 [==============================] - 0s 15ms/step - loss: 11.4275 - val_loss: 6.5969\n",
      "Epoch 11/100\n",
      "3/3 [==============================] - 0s 16ms/step - loss: 11.3478 - val_loss: 6.5721\n",
      "Epoch 12/100\n",
      "3/3 [==============================] - 0s 15ms/step - loss: 10.7274 - val_loss: 6.4397\n",
      "Epoch 13/100\n",
      "3/3 [==============================] - 0s 15ms/step - loss: 10.4946 - val_loss: 6.4215\n",
      "Epoch 14/100\n",
      "3/3 [==============================] - 0s 16ms/step - loss: 10.1069 - val_loss: 7.0614\n",
      "Epoch 15/100\n",
      "3/3 [==============================] - 0s 16ms/step - loss: 10.1540 - val_loss: 6.7950\n",
      "Epoch 16/100\n",
      "3/3 [==============================] - 0s 16ms/step - loss: 9.2712 - val_loss: 8.4517\n",
      "Epoch 17/100\n",
      "3/3 [==============================] - 0s 17ms/step - loss: 9.8038 - val_loss: 7.6180\n",
      "Epoch 18/100\n",
      "3/3 [==============================] - 0s 15ms/step - loss: 10.8690 - val_loss: 10.3473\n",
      "Epoch 19/100\n",
      "3/3 [==============================] - 0s 15ms/step - loss: 10.4365 - val_loss: 7.5989\n",
      "Epoch 20/100\n",
      "3/3 [==============================] - 0s 16ms/step - loss: 9.2242 - val_loss: 8.5338\n",
      "Epoch 21/100\n",
      "3/3 [==============================] - 0s 16ms/step - loss: 8.5310 - val_loss: 8.0102\n",
      "Epoch 22/100\n",
      "3/3 [==============================] - 0s 19ms/step - loss: 8.6941 - val_loss: 8.0754\n",
      "Epoch 23/100\n",
      "3/3 [==============================] - 0s 16ms/step - loss: 7.8243 - val_loss: 8.3954\n",
      "Epoch 24/100\n",
      "3/3 [==============================] - 0s 16ms/step - loss: 8.0550 - val_loss: 8.0800\n",
      "Epoch 25/100\n",
      "3/3 [==============================] - 0s 16ms/step - loss: 7.3439 - val_loss: 8.3359\n",
      "Epoch 26/100\n",
      "3/3 [==============================] - 0s 16ms/step - loss: 7.9027 - val_loss: 8.1611\n",
      "Epoch 27/100\n",
      "3/3 [==============================] - 0s 16ms/step - loss: 7.5608 - val_loss: 7.7922\n",
      "Epoch 28/100\n",
      "3/3 [==============================] - 0s 17ms/step - loss: 6.9669 - val_loss: 7.9506\n",
      "Epoch 29/100\n",
      "3/3 [==============================] - 0s 16ms/step - loss: 6.9788 - val_loss: 8.6074\n",
      "Epoch 30/100\n",
      "3/3 [==============================] - 0s 17ms/step - loss: 6.7126 - val_loss: 8.2679\n",
      "Epoch 31/100\n",
      "3/3 [==============================] - 0s 17ms/step - loss: 6.7890 - val_loss: 8.8893\n",
      "Epoch 32/100\n",
      "3/3 [==============================] - 0s 17ms/step - loss: 7.3173 - val_loss: 8.0331\n",
      "Epoch 33/100\n",
      "3/3 [==============================] - 0s 18ms/step - loss: 6.4085 - val_loss: 7.5510\n",
      "Epoch 34/100\n",
      "3/3 [==============================] - 0s 17ms/step - loss: 6.3157 - val_loss: 8.8334\n",
      "Epoch 35/100\n",
      "3/3 [==============================] - 0s 18ms/step - loss: 6.8183 - val_loss: 8.1470\n",
      "Epoch 36/100\n",
      "3/3 [==============================] - 0s 19ms/step - loss: 6.0149 - val_loss: 7.5060\n",
      "Epoch 37/100\n",
      "3/3 [==============================] - 0s 19ms/step - loss: 6.0145 - val_loss: 7.5905\n",
      "Epoch 38/100\n",
      "3/3 [==============================] - 0s 17ms/step - loss: 5.8139 - val_loss: 7.4506\n",
      "Epoch 39/100\n",
      "3/3 [==============================] - 0s 19ms/step - loss: 5.6979 - val_loss: 7.2603\n",
      "Epoch 40/100\n",
      "3/3 [==============================] - 0s 18ms/step - loss: 5.5948 - val_loss: 7.0325\n",
      "Epoch 41/100\n",
      "3/3 [==============================] - 0s 20ms/step - loss: 5.5926 - val_loss: 7.1566\n",
      "Epoch 42/100\n",
      "3/3 [==============================] - 0s 19ms/step - loss: 5.5385 - val_loss: 7.1575\n",
      "Epoch 43/100\n",
      "3/3 [==============================] - 0s 18ms/step - loss: 5.5063 - val_loss: 7.2966\n",
      "Epoch 44/100\n",
      "3/3 [==============================] - 0s 20ms/step - loss: 5.6215 - val_loss: 6.9311\n",
      "Epoch 45/100\n",
      "3/3 [==============================] - 0s 19ms/step - loss: 5.5152 - val_loss: 6.9886\n",
      "Epoch 46/100\n",
      "3/3 [==============================] - 0s 22ms/step - loss: 5.3761 - val_loss: 6.9127\n",
      "Epoch 47/100\n",
      "3/3 [==============================] - 0s 19ms/step - loss: 5.3504 - val_loss: 6.5172\n",
      "Epoch 48/100\n",
      "3/3 [==============================] - 0s 15ms/step - loss: 5.6543 - val_loss: 6.8425\n",
      "Epoch 49/100\n",
      "3/3 [==============================] - 0s 19ms/step - loss: 5.8966 - val_loss: 6.3684\n",
      "Epoch 50/100\n",
      "3/3 [==============================] - 0s 18ms/step - loss: 5.4316 - val_loss: 6.0658\n",
      "Epoch 51/100\n",
      "3/3 [==============================] - 0s 21ms/step - loss: 5.4881 - val_loss: 6.4140\n",
      "Epoch 52/100\n",
      "3/3 [==============================] - 0s 21ms/step - loss: 5.4912 - val_loss: 6.3586\n",
      "Epoch 53/100\n",
      "3/3 [==============================] - 0s 15ms/step - loss: 5.5379 - val_loss: 6.1870\n",
      "Epoch 54/100\n",
      "3/3 [==============================] - 0s 21ms/step - loss: 5.5480 - val_loss: 6.2238\n",
      "Epoch 55/100\n",
      "3/3 [==============================] - 0s 18ms/step - loss: 5.6038 - val_loss: 6.0747\n",
      "Epoch 56/100\n",
      "3/3 [==============================] - 0s 20ms/step - loss: 5.7846 - val_loss: 6.0821\n",
      "Epoch 57/100\n",
      "3/3 [==============================] - 0s 22ms/step - loss: 5.4826 - val_loss: 5.9364\n",
      "Epoch 58/100\n",
      "3/3 [==============================] - 0s 22ms/step - loss: 5.3409 - val_loss: 5.7784\n",
      "Epoch 59/100\n",
      "3/3 [==============================] - 0s 22ms/step - loss: 5.4397 - val_loss: 6.1169\n",
      "Epoch 60/100\n",
      "3/3 [==============================] - 0s 17ms/step - loss: 5.3155 - val_loss: 5.9630\n",
      "Epoch 61/100\n",
      "3/3 [==============================] - 0s 15ms/step - loss: 5.3096 - val_loss: 6.2756\n",
      "Epoch 62/100\n",
      "3/3 [==============================] - 0s 18ms/step - loss: 5.4615 - val_loss: 5.9567\n",
      "Epoch 63/100\n",
      "3/3 [==============================] - 0s 22ms/step - loss: 5.2690 - val_loss: 5.6677\n",
      "Epoch 64/100\n",
      "3/3 [==============================] - 0s 22ms/step - loss: 5.4410 - val_loss: 6.6338\n",
      "Epoch 65/100\n",
      "3/3 [==============================] - 0s 22ms/step - loss: 5.6463 - val_loss: 5.8887\n",
      "Epoch 66/100\n",
      "3/3 [==============================] - 0s 21ms/step - loss: 5.2890 - val_loss: 5.7208\n",
      "Epoch 67/100\n",
      "3/3 [==============================] - 0s 20ms/step - loss: 5.2795 - val_loss: 6.0077\n",
      "Epoch 68/100\n",
      "3/3 [==============================] - 0s 16ms/step - loss: 5.6107 - val_loss: 5.6350\n",
      "Epoch 69/100\n",
      "3/3 [==============================] - 0s 25ms/step - loss: 5.3739 - val_loss: 6.0480\n",
      "Epoch 70/100\n",
      "3/3 [==============================] - 0s 20ms/step - loss: 5.5665 - val_loss: 5.4483\n",
      "Epoch 71/100\n",
      "3/3 [==============================] - 0s 19ms/step - loss: 5.7034 - val_loss: 7.4070\n",
      "Epoch 72/100\n",
      "3/3 [==============================] - 0s 23ms/step - loss: 5.8740 - val_loss: 5.2292\n",
      "Epoch 73/100\n",
      "3/3 [==============================] - 0s 20ms/step - loss: 5.7875 - val_loss: 5.7163\n",
      "Epoch 74/100\n",
      "3/3 [==============================] - 0s 20ms/step - loss: 5.7935 - val_loss: 5.6878\n",
      "Epoch 75/100\n",
      "3/3 [==============================] - 0s 16ms/step - loss: 5.5082 - val_loss: 5.1722\n",
      "Epoch 76/100\n",
      "3/3 [==============================] - 0s 23ms/step - loss: 5.9893 - val_loss: 6.1532\n",
      "Epoch 77/100\n",
      "3/3 [==============================] - 0s 17ms/step - loss: 5.5779 - val_loss: 5.3986\n",
      "Epoch 78/100\n",
      "3/3 [==============================] - 0s 19ms/step - loss: 5.8235 - val_loss: 6.1608\n",
      "Epoch 79/100\n",
      "3/3 [==============================] - 0s 23ms/step - loss: 5.5150 - val_loss: 5.4091\n",
      "Epoch 80/100\n"
     ]
    },
    {
     "name": "stdout",
     "output_type": "stream",
     "text": [
      "3/3 [==============================] - 0s 22ms/step - loss: 5.4193 - val_loss: 5.3710\n",
      "Epoch 81/100\n",
      "3/3 [==============================] - 0s 17ms/step - loss: 5.3341 - val_loss: 5.5216\n",
      "Epoch 82/100\n",
      "3/3 [==============================] - 0s 16ms/step - loss: 5.3465 - val_loss: 4.8112\n",
      "Epoch 83/100\n",
      "3/3 [==============================] - 0s 15ms/step - loss: 5.6348 - val_loss: 5.3839\n",
      "Epoch 84/100\n",
      "3/3 [==============================] - 0s 15ms/step - loss: 5.4615 - val_loss: 5.1562\n",
      "Epoch 85/100\n",
      "3/3 [==============================] - 0s 15ms/step - loss: 5.4241 - val_loss: 5.0084\n",
      "Epoch 86/100\n",
      "3/3 [==============================] - 0s 16ms/step - loss: 5.2554 - val_loss: 5.8001\n",
      "Epoch 87/100\n",
      "3/3 [==============================] - 0s 15ms/step - loss: 5.3281 - val_loss: 4.9807\n",
      "Epoch 88/100\n",
      "3/3 [==============================] - 0s 15ms/step - loss: 5.7457 - val_loss: 5.7465\n",
      "Epoch 89/100\n",
      "3/3 [==============================] - 0s 15ms/step - loss: 5.3280 - val_loss: 5.0956\n",
      "Epoch 90/100\n",
      "3/3 [==============================] - 0s 15ms/step - loss: 5.6715 - val_loss: 5.2986\n",
      "Epoch 91/100\n",
      "3/3 [==============================] - 0s 15ms/step - loss: 5.4473 - val_loss: 5.1834\n",
      "Epoch 92/100\n",
      "3/3 [==============================] - 0s 15ms/step - loss: 5.5615 - val_loss: 5.1562\n",
      "Epoch 93/100\n",
      "3/3 [==============================] - 0s 21ms/step - loss: 5.6586 - val_loss: 5.7653\n",
      "Epoch 94/100\n",
      "3/3 [==============================] - 0s 20ms/step - loss: 5.5333 - val_loss: 5.4160\n",
      "Epoch 95/100\n",
      "3/3 [==============================] - 0s 16ms/step - loss: 5.7074 - val_loss: 6.8380\n",
      "Epoch 96/100\n",
      "3/3 [==============================] - 0s 16ms/step - loss: 5.5395 - val_loss: 4.6583\n",
      "Epoch 97/100\n",
      "3/3 [==============================] - 0s 19ms/step - loss: 6.3256 - val_loss: 4.8223\n",
      "Epoch 98/100\n",
      "3/3 [==============================] - 0s 16ms/step - loss: 5.7164 - val_loss: 5.3011\n",
      "Epoch 99/100\n",
      "3/3 [==============================] - 0s 16ms/step - loss: 5.6962 - val_loss: 4.5055\n",
      "Epoch 100/100\n",
      "3/3 [==============================] - 0s 17ms/step - loss: 5.5829 - val_loss: 5.6934\n"
     ]
    }
   ],
   "source": [
    "history = model_biased.fit([X_train, sid_train], y_train, epochs=100,\n",
    "                    validation_data=([X_valid, sid_valid], y_valid))"
   ]
  },
  {
   "cell_type": "code",
   "execution_count": 78,
   "id": "ca149f05",
   "metadata": {},
   "outputs": [
    {
     "name": "stdout",
     "output_type": "stream",
     "text": [
      "Saving figure grid_noBiaseNum_training_curve\n"
     ]
    },
    {
     "data": {
      "image/png": "[encoded data removed]",
      "text/plain": [
       "<Figure size 576x360 with 1 Axes>"
      ]
     },
     "metadata": {
      "needs_background": "light"
     },
     "output_type": "display_data"
    }
   ],
   "source": [
    "import pandas as pd\n",
    "\n",
    "pd.DataFrame(history.history).plot(figsize=(8, 5))\n",
    "plt.grid(True)\n",
    "# plt.gca().set_ylim(0, 1)\n",
    "save_fig(\"grid_noBiaseNum_training_curve\")\n",
    "plt.show()"
   ]
  },
  {
   "cell_type": "markdown",
   "id": "2433c7a5",
   "metadata": {},
   "source": [
    "The pure prediction"
   ]
  },
  {
   "cell_type": "code",
   "execution_count": 79,
   "id": "556ee2c4",
   "metadata": {},
   "outputs": [
    {
     "name": "stdout",
     "output_type": "stream",
     "text": [
      "X.shape = (None, 1)\n",
      "gauss_grid.shape = (None, 5)\n",
      "Saving figure grid_noBaisedNum_prediction\n"
     ]
    },
    {
     "data": {
      "image/png": "[encoded data removed]",
      "text/plain": [
       "<Figure size 432x288 with 1 Axes>"
      ]
     },
     "metadata": {
      "needs_background": "light"
     },
     "output_type": "display_data"
    }
   ],
   "source": [
    "draw_points(X_train, y_train, sid_train)\n",
    "draw_func(model.predict, mark='r-', linewidth=2, label=\"Predictions\")\n",
    "draw_normal_func(func_dict)\n",
    "plt.xlabel(\"$x_1$\", fontsize=18)\n",
    "plt.ylabel(\"$y$\", rotation=0, fontsize=18)\n",
    "plt.legend(loc=\"upper left\", fontsize=14)\n",
    "# plt.axis([-3, 3, 0, 10])\n",
    "save_fig(\"grid_noBaisedNum_prediction\")\n",
    "plt.show()"
   ]
  },
  {
   "cell_type": "code",
   "execution_count": 80,
   "id": "4d3d77cd",
   "metadata": {},
   "outputs": [
    {
     "name": "stdout",
     "output_type": "stream",
     "text": [
      "y_func.shape = (100, 1)\n",
      "y_gt.shape = (100, 1)\n"
     ]
    },
    {
     "data": {
      "text/plain": [
       "1.4348217335572668"
      ]
     },
     "execution_count": 80,
     "metadata": {},
     "output_type": "execute_result"
    }
   ],
   "source": [
    "get_prediction_error(model.predict, func_dict, name=\"grid-noBiaseNum\")"
   ]
  },
  {
   "cell_type": "markdown",
   "id": "b89b2413",
   "metadata": {},
   "source": [
    "### Biased Prediction (according to SID)"
   ]
  },
  {
   "cell_type": "code",
   "execution_count": 81,
   "id": "0893f75e",
   "metadata": {},
   "outputs": [
    {
     "name": "stdout",
     "output_type": "stream",
     "text": [
      "scaled_bias = \n",
      "[[-9.232707 ]\n",
      " [ 9.3956175]]\n",
      "\n",
      "mean_scaled_bias = [0.16291046]\n"
     ]
    }
   ],
   "source": [
    "scaled_bias = model_biased.get_layer(\"bias_est\").get_scaled_biases_np()\n",
    "mean_scaled_bias = np.sum(scaled_bias, axis=0)\n",
    "#\n",
    "print(\"scaled_bias = \\n%s\" % str(scaled_bias))\n",
    "print(\"\\nmean_scaled_bias = %s\" % str(mean_scaled_bias))"
   ]
  },
  {
   "cell_type": "code",
   "execution_count": 82,
   "id": "16460e63",
   "metadata": {},
   "outputs": [
    {
     "name": "stdout",
     "output_type": "stream",
     "text": [
      "X.shape = (None, 1)\n",
      "gauss_grid.shape = (None, 5)\n",
      "X.shape = (None, 1)\n",
      "SID.shape = (None, 1)\n",
      "Saving figure grid_noBaisedNum_prediction\n"
     ]
    },
    {
     "data": {
      "image/png": "[encoded data removed]",
      "text/plain": [
       "<Figure size 432x288 with 1 Axes>"
      ]
     },
     "metadata": {
      "needs_background": "light"
     },
     "output_type": "display_data"
    }
   ],
   "source": [
    "def predict_with_biase_sid(X, sid=1):\n",
    "    return model_biased.predict([X, tf.fill( (X.shape[0],1), sid)])\n",
    "\n",
    "draw_points(X_train, y_train, sid_train)\n",
    "#\n",
    "draw_func(model.predict, mark='r-', linewidth=2, label=\"Predictions\")\n",
    "for _idx in range(num_subject):\n",
    "    _sid = _idx + 1\n",
    "    draw_func(lambda X: predict_with_biase_sid(X, _sid), mark='k--', linewidth=1, label=(\"sid=%d\" % _sid))\n",
    "#\n",
    "draw_normal_func(func_dict)\n",
    "plt.xlabel(\"$x_1$\", fontsize=18)\n",
    "plt.ylabel(\"$y$\", rotation=0, fontsize=18)\n",
    "plt.legend(loc=\"upper left\", fontsize=14)\n",
    "# plt.axis([-3, 3, 0, 10])\n",
    "save_fig(\"grid_noBaisedNum_prediction\")\n",
    "plt.show()"
   ]
  },
  {
   "cell_type": "markdown",
   "id": "82ec4fc4",
   "metadata": {},
   "source": [
    "# Summary"
   ]
  },
  {
   "cell_type": "code",
   "execution_count": 83,
   "id": "2d764d70",
   "metadata": {},
   "outputs": [
    {
     "name": "stdout",
     "output_type": "stream",
     "text": [
      "num-num: 5.903881\n",
      "grid-num: 4.153633\n",
      "grid-rbc: 4.037378\n",
      "grid-quantileR: 1.695714\n",
      "grid-oneGaussian: 4.480722\n",
      "grid-noBiaseNum: 1.434822\n",
      "\n"
     ]
    }
   ],
   "source": [
    "results = print_all_prediction_error()"
   ]
  },
  {
   "cell_type": "code",
   "execution_count": 84,
   "id": "9f01e530",
   "metadata": {},
   "outputs": [
    {
     "name": "stdout",
     "output_type": "stream",
     "text": [
      "Saving all prediction errors to [.\\images\\regression_test_2\\prediction_errors.txt].\n"
     ]
    },
    {
     "data": {
      "text/plain": [
       "True"
      ]
     },
     "execution_count": 84,
     "metadata": {},
     "output_type": "execute_result"
    }
   ],
   "source": [
    "save_prediction_errors()"
   ]
  },
  {
   "cell_type": "code",
   "execution_count": null,
   "id": "0c3bdf42",
   "metadata": {},
   "outputs": [],
   "source": []
  },
  {
   "cell_type": "code",
   "execution_count": null,
   "id": "a5e6a55a",
   "metadata": {},
   "outputs": [],
   "source": []
  },
  {
   "cell_type": "code",
   "execution_count": null,
   "id": "1838a588",
   "metadata": {},
   "outputs": [],
   "source": []
  }
 ],
 "metadata": {
  "kernelspec": {
   "display_name": "Python 3 (ipykernel)",
   "language": "python",
   "name": "python3"
  },
  "language_info": {
   "codemirror_mode": {
    "name": "ipython",
    "version": 3
   },
   "file_extension": ".py",
   "mimetype": "text/x-python",
   "name": "python",
   "nbconvert_exporter": "python",
   "pygments_lexer": "ipython3",
   "version": "3.9.7"
  }
 },
 "nbformat": 4,
 "nbformat_minor": 5
}
