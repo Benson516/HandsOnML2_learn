{
 "cells": [
  {
   "cell_type": "markdown",
   "id": "899fa113",
   "metadata": {},
   "source": [
    "# Regression with Different Output Format under Various Data Conditions\n",
    "\n",
    "In this experience, we test the following output format for regression task under several different data coditions.\n",
    "- Numerical output\n",
    "- Regression as classification (grid-out)\n",
    "\n",
    "The data coditions include:\n",
    "- Sparse (few data)\n",
    "- Grouped\n",
    "  - Biased (parallel data)\n",
    "  - Completely different mode, uncorrelated data (cross)\n",
    "  - Partially diversed (split)"
   ]
  },
  {
   "cell_type": "code",
   "execution_count": 1,
   "id": "625ce7c3",
   "metadata": {},
   "outputs": [],
   "source": [
    "import numpy as np\n",
    "import tensorflow as tf\n",
    "from tensorflow import keras\n",
    "import os\n",
    "from tqdm import tqdm\n",
    "\n",
    "# To plot pretty figures\n",
    "%matplotlib inline\n",
    "import matplotlib as mpl\n",
    "import matplotlib.pyplot as plt\n",
    "mpl.rc('axes', labelsize=14)\n",
    "mpl.rc('xtick', labelsize=12)\n",
    "mpl.rc('ytick', labelsize=12)"
   ]
  },
  {
   "cell_type": "code",
   "execution_count": 2,
   "id": "7ad564ad",
   "metadata": {},
   "outputs": [],
   "source": [
    "# Where to save the figures\n",
    "PROJECT_ROOT_DIR = \".\"\n",
    "CHAPTER_ID = \"regression_test_2\"\n",
    "IMAGES_PATH = os.path.join(PROJECT_ROOT_DIR, \"images\", CHAPTER_ID)\n",
    "os.makedirs(IMAGES_PATH, exist_ok=True)\n",
    "\n",
    "def save_fig(fig_id, tight_layout=True, fig_extension=\"png\", resolution=300):\n",
    "    path = os.path.join(IMAGES_PATH, fig_id + \".\" + fig_extension)\n",
    "    print(\"Saving figure\", fig_id)\n",
    "    if tight_layout:\n",
    "        plt.tight_layout()\n",
    "    plt.savefig(path, format=fig_extension, dpi=resolution)"
   ]
  },
  {
   "cell_type": "code",
   "execution_count": 3,
   "id": "94e8a077",
   "metadata": {},
   "outputs": [],
   "source": [
    "def draw_func(func_in, x_min=-5, x_max=5, mark='r--', linewidth=1, label='func'):\n",
    "    n_sample = 100\n",
    "    X_func = np.linspace(x_min, x_max, n_sample).reshape(n_sample, 1)\n",
    "    y_func = func_in(X_func)\n",
    "    plt.plot(X_func, y_func, mark, linewidth=linewidth, label=label)"
   ]
  },
  {
   "cell_type": "markdown",
   "id": "c27ffe35",
   "metadata": {},
   "source": [
    "Generate polynomial data"
   ]
  },
  {
   "cell_type": "code",
   "execution_count": 4,
   "id": "ce670ce4",
   "metadata": {},
   "outputs": [],
   "source": [
    "poly_a1 = 5.0\n",
    "# poly_a1 = -10.0 # 5.0\n",
    "#\n",
    "sin_a = 0.0\n",
    "# sin_a = 10.0\n",
    "sin_f = 0.1 # 0.2\n",
    "#\n",
    "def func_0(X): # Reference\n",
    "    return 0.5 * X**3 + 0.5 * X**2 + (poly_a1)*X + 2 + sin_a*np.sin(2.0*np.pi*sin_f*X)\n",
    "def func_1(X): # Variation 1: parellel\n",
    "    return 0.5 * X**3 + 0.5 * X**2 + (poly_a1)*X + 30 + sin_a*np.sin(2.0*np.pi*sin_f*X)\n",
    "def func_2(X): # Variation 2: cross\n",
    "    return -0.5 * X**3 + 0.5 * X**2 + (poly_a1)*X + 30 + sin_a*np.sin(2.0*np.pi*sin_f*X)\n",
    "def func_3(X): # Variation 3: slightly split\n",
    "    return 0.3 * X**3 + 1.0 * X**2 + (poly_a1)*X + 15 + sin_a*np.sin(2.0*np.pi*sin_f*X)\n",
    "def func_4(X): # Sine wave~\n",
    "    return 0.5 * X**3 + 0.5 * X**2 + (poly_a1)*X + 2 + 20.0*np.sin(2.0*np.pi*sin_f*X) # 50.0"
   ]
  },
  {
   "cell_type": "code",
   "execution_count": 5,
   "id": "9463bfff",
   "metadata": {},
   "outputs": [],
   "source": [
    "func_dict = dict()\n",
    "#-----------------#\n",
    "func_dict[\"f1\"] = func_0\n",
    "#-----------------#\n",
    "# func_dict[\"f2\"] = func_1\n",
    "# func_dict[\"f2\"] = func_2\n",
    "func_dict[\"f2\"] = func_3\n",
    "# func_dict[\"f2\"] = func_4\n",
    "#-----------------#\n",
    "func_dict[\"f3\"] = func_4\n",
    "#-----------------#\n",
    "\n",
    "# Note: func_dict[\"f_avg\"] depends on multiout_type and is calculated in each section of multiout_type"
   ]
  },
  {
   "cell_type": "code",
   "execution_count": 6,
   "id": "63437d0c",
   "metadata": {},
   "outputs": [
    {
     "name": "stdout",
     "output_type": "stream",
     "text": [
      "(m, m_train) = (100, 80)\n",
      "y_data_pure.shape = (100, 1)\n",
      "y_data.shape = (100, 1)\n"
     ]
    }
   ],
   "source": [
    "np.random.seed(42)\n",
    "m = 100 # 50 # 100 # 200\n",
    "m_train = m // 5 * 4\n",
    "print(\"(m, m_train) = (%d, %d)\" % (m, m_train))\n",
    "\n",
    "# Input\n",
    "is_gapped = True\n",
    "# is_gapped = False\n",
    "#\n",
    "if not is_gapped:\n",
    "    X_data = 10 * np.random.rand(m, 1) - 5 # Note: X is randomly sampled, so we don't need to shuffle the data again\n",
    "else:\n",
    "    X_data = np.concatenate( (np.linspace(-5.0, -2.0, m//2), np.linspace(2.0, 5.0, m-m//2)) )\n",
    "    X_data = X_data.reshape((m,1))\n",
    "    np.random.shuffle(X_data)\n",
    "\n",
    "# Output, multiout_type in {1, 2, 3}\n",
    "# multiout_type = 1      \n",
    "multiout_type = 2 \n",
    "# multiout_type = 3 \n",
    "#\n",
    "sid_data = np.ones((m,1), dtype=int) # subject id, default: 1\n",
    "if multiout_type == 2:\n",
    "    m_h = m // 2\n",
    "    X_data_1 = X_data[:m_h]\n",
    "    X_data_2 = X_data[m_h:]\n",
    "    sid_data[:m_h] = 1 # id:1\n",
    "    sid_data[m_h:] = 2 # id:2\n",
    "    y_data_pure_1 = func_dict[\"f1\"](X_data_1) \n",
    "    y_data_pure_2 = func_dict[\"f2\"](X_data_2) \n",
    "    y_data_pure = np.vstack([y_data_pure_1, y_data_pure_2])\n",
    "    print(\"y_data_pure.shape = %s\" % str(y_data_pure.shape))\n",
    "    # Average line\n",
    "    func_dict[\"f_avg\"] = ( lambda X: 0.5*func_dict[\"f1\"](X) + 0.5*func_dict[\"f2\"](X) )\n",
    "    #\n",
    "elif multiout_type == 3: # with \"avg\" line\n",
    "    m_t = m // 3\n",
    "    X_data_1 = X_data[:m_t]\n",
    "    X_data_2 = X_data[m_t:(2*m_t)]\n",
    "    X_data_3 = X_data[(2*m_t):]\n",
    "    sid_data[:m_t]        = 1 # id:1\n",
    "    sid_data[m_t:(2*m_t)] = 2 # id:2\n",
    "    sid_data[(2*m_t):]    = 3 # id:3\n",
    "    y_data_pure_1 = func_dict[\"f1\"](X_data_1) \n",
    "    y_data_pure_2 = func_dict[\"f2\"](X_data_2) \n",
    "    y_data_pure_3 = func_dict[\"f3\"](X_data_3) \n",
    "    y_data_pure = np.vstack([y_data_pure_1, y_data_pure_2, y_data_pure_3])\n",
    "    print(\"y_data_pure.shape = %s\" % str(y_data_pure.shape))\n",
    "    # Average line\n",
    "    func_dict[\"f_avg\"] = ( lambda X: (func_dict[\"f1\"](X) + func_dict[\"f2\"](X) + func_dict[\"f3\"](X))/3.0 )\n",
    "    #\n",
    "else: # multiout_type == 1\n",
    "    # Average line\n",
    "    func_dict[\"f_avg\"] = ( lambda X: 0.5*func_dict[\"f1\"](X) + 0.5*func_dict[\"f2\"](X) )\n",
    "    y_data_pure = func_dict[\"f_avg\"](X_data)\n",
    "\n",
    "    \n",
    "# Label (+noise)\n",
    "n_stddev = 2.0\n",
    "# n_stddev = 10.0\n",
    "y_data = y_data_pure + np.random.randn(m, 1) * n_stddev\n",
    "print(\"y_data.shape = %s\" % str(y_data.shape))\n",
    "# print(\"sid_data = %s\" % str(sid_data))"
   ]
  },
  {
   "cell_type": "code",
   "execution_count": 7,
   "id": "ef588fae",
   "metadata": {},
   "outputs": [],
   "source": [
    "# Method 1: simply slice\n",
    "# X_train = X_data[:m_train]\n",
    "# y_train = y_data[:m_train]\n",
    "# X_valid = X_data[m_train:]\n",
    "# y_valid = y_data[m_train:]\n",
    "\n",
    "# Method 2: shuffle\n",
    "from sklearn.model_selection import train_test_split\n",
    "# X_train, X_valid, y_train, y_valid = train_test_split(X_data, y_data, test_size=0.2, random_state=42)\n",
    "X_train, X_valid, y_train, y_valid, sid_train, sid_valid = train_test_split(X_data, y_data, sid_data, test_size=0.2, random_state=42)"
   ]
  },
  {
   "cell_type": "code",
   "execution_count": 8,
   "id": "3b5d2cfe",
   "metadata": {},
   "outputs": [
    {
     "name": "stdout",
     "output_type": "stream",
     "text": [
      "(80, 1)\n"
     ]
    }
   ],
   "source": [
    "print(X_train.shape)\n",
    "# print(\"sid_train = %s\" % str(sid_train))"
   ]
  },
  {
   "cell_type": "code",
   "execution_count": 9,
   "id": "9bd2136c",
   "metadata": {},
   "outputs": [],
   "source": [
    "def draw_normal_func(func_dict):\n",
    "    if multiout_type != 1:\n",
    "        draw_func(func_dict[\"f1\"], mark='c:', label=\"f1\")\n",
    "        draw_func(func_dict[\"f2\"], mark='r:', label=\"f2\")\n",
    "    if multiout_type == 3:\n",
    "        draw_func(func_dict[\"f3\"], mark='y:', label=\"f3\")\n",
    "    draw_func(func_dict[\"f_avg\"], mark='m--', label=\"f_avg\")"
   ]
  },
  {
   "cell_type": "code",
   "execution_count": 10,
   "id": "3e4283c1",
   "metadata": {},
   "outputs": [],
   "source": [
    "def draw_points(X, y, sid=None):\n",
    "    if sid is None:\n",
    "        plt.plot(X, y, \"b.\")\n",
    "    else:\n",
    "        plt.plot(X[sid==1], y[sid==1], \"b.\")\n",
    "        plt.plot(X[sid==2], y[sid==2], \"r.\")\n",
    "        plt.plot(X[sid==3], y[sid==3], \"y.\")"
   ]
  },
  {
   "cell_type": "code",
   "execution_count": 11,
   "id": "693af3b7",
   "metadata": {},
   "outputs": [
    {
     "name": "stdout",
     "output_type": "stream",
     "text": [
      "Saving figure training_data\n"
     ]
    },
    {
     "data": {
      "image/png": "[encoded data removed]",
      "text/plain": [
       "<Figure size 432x288 with 1 Axes>"
      ]
     },
     "metadata": {
      "needs_background": "light"
     },
     "output_type": "display_data"
    }
   ],
   "source": [
    "# plt.plot(X_train, y_train, \"b.\")\n",
    "# plt.plot(X_train[sid_train==1], y_train[sid_train==1], \"b.\")\n",
    "# plt.plot(X_train[sid_train==2], y_train[sid_train==2], \"r.\")\n",
    "draw_points(X_train, y_train, sid_train)\n",
    "\n",
    "draw_normal_func(func_dict)\n",
    "plt.xlabel(\"$x_1$\", fontsize=18)\n",
    "plt.ylabel(\"$y$\", rotation=0, fontsize=18)\n",
    "plt.legend(loc=\"upper left\", fontsize=14)\n",
    "# plt.axis([-3, 3, 0, 10])\n",
    "save_fig(\"training_data\")\n",
    "plt.show()"
   ]
  },
  {
   "cell_type": "code",
   "execution_count": 12,
   "id": "a6853ff1",
   "metadata": {},
   "outputs": [],
   "source": [
    "prediction_error_dict = dict()\n",
    "\n",
    "def get_prediction_error(func_in, func_dict, name=\"\", x_min=-5, x_max=5, prediction_error_dict=prediction_error_dict):\n",
    "    n_sample = 100\n",
    "    X_func = np.linspace(x_min, x_max, n_sample).reshape(n_sample, 1)\n",
    "    y_func = func_in(X_func).reshape((n_sample,1))\n",
    "    y_gt = func_dict[\"f_avg\"](X_func).reshape((n_sample,1))\n",
    "    print(\"y_func.shape = %s\" % str(y_func.shape))\n",
    "    print(\"y_gt.shape = %s\" % str(y_gt.shape))\n",
    "#     total_error = np.sqrt(np.square(y_func - y_gt).mean())\n",
    "    total_error = np.abs(y_func - y_gt).mean()\n",
    "    prediction_error_dict[name] = total_error\n",
    "    return total_error\n",
    "\n",
    "def print_all_prediction_error(is_logging_to_screen=True, prediction_error_dict=prediction_error_dict):\n",
    "    _s = \"\"\n",
    "    for _n in prediction_error_dict:\n",
    "        _s += (\"%s: %f\" % (_n, prediction_error_dict[_n])) + \"\\n\"\n",
    "    if is_logging_to_screen:\n",
    "        print(_s)\n",
    "    return _s\n",
    "        \n",
    "def save_prediction_errors(is_logging_to_screen=False, prediction_error_dict=prediction_error_dict):\n",
    "    path = os.path.join(IMAGES_PATH, \"prediction_errors.txt\")\n",
    "    print(\"Saving all prediction errors to [%s].\" % path)\n",
    "    _s = print_all_prediction_error(is_logging_to_screen=is_logging_to_screen, prediction_error_dict=prediction_error_dict)\n",
    "    with open(path, \"w\") as _f:\n",
    "        _f.write(_s)\n",
    "    return True"
   ]
  },
  {
   "cell_type": "markdown",
   "id": "053ecc57",
   "metadata": {},
   "source": [
    "# Simple FCs (number --> number)"
   ]
  },
  {
   "cell_type": "markdown",
   "id": "c66eb67b",
   "metadata": {},
   "source": [
    "Build the regression model"
   ]
  },
  {
   "cell_type": "code",
   "execution_count": 13,
   "id": "9449fc0b",
   "metadata": {},
   "outputs": [],
   "source": [
    "model = keras.models.Sequential([\n",
    "    keras.layers.Dense(30, activation=\"relu\", input_shape=X_train.shape[1:]),\n",
    "    keras.layers.Dense(30, activation=\"relu\"),\n",
    "    keras.layers.Dense(1)\n",
    "])"
   ]
  },
  {
   "cell_type": "code",
   "execution_count": 14,
   "id": "8ad59bf4",
   "metadata": {},
   "outputs": [],
   "source": [
    "# # Customized loss function\n",
    "# def asymptoticLoss_fn(y_true, y_pred, alpha=0.01):\n",
    "#     # tau: quantile, tau in [0.0, 1.0]\n",
    "#     # y_true: label mean\n",
    "#     # y_pred: predicted tau quantile\n",
    "#     y_target = alpha * y_true + (1.0 - alpha) * y_pred\n",
    "#     # return tf.abs(y_pred - y_target)\n",
    "#     return (y_pred - y_target)**2"
   ]
  },
  {
   "cell_type": "code",
   "execution_count": 15,
   "id": "4de396a0",
   "metadata": {},
   "outputs": [
    {
     "name": "stderr",
     "output_type": "stream",
     "text": [
      "C:\\Users\\benso\\anaconda3\\envs\\ml\\lib\\site-packages\\keras\\optimizer_v2\\gradient_descent.py:102: UserWarning: The `lr` argument is deprecated, use `learning_rate` instead.\n",
      "  super(SGD, self).__init__(name, **kwargs)\n"
     ]
    }
   ],
   "source": [
    "optimizer = keras.optimizers.SGD(lr=0.0001, momentum=0.9)\n",
    "model.compile(loss=\"mean_squared_error\", optimizer=optimizer)\n",
    "# optimizer = keras.optimizers.Adam(lr=0.01)\n",
    "# # model.compile(loss=\"mean_absolute_error\", optimizer=optimizer)\n",
    "# model.compile(loss=asymptoticLoss_fn, optimizer=optimizer)"
   ]
  },
  {
   "cell_type": "code",
   "execution_count": 16,
   "id": "92afd68a",
   "metadata": {
    "scrolled": true
   },
   "outputs": [
    {
     "name": "stdout",
     "output_type": "stream",
     "text": [
      "Epoch 1/100\n",
      "3/3 [==============================] - 1s 97ms/step - loss: 2516.8132 - val_loss: 1721.3531\n",
      "Epoch 2/100\n",
      "3/3 [==============================] - 0s 16ms/step - loss: 2441.4778 - val_loss: 1662.2581\n",
      "Epoch 3/100\n",
      "3/3 [==============================] - 0s 18ms/step - loss: 2330.9155 - val_loss: 1551.9222\n",
      "Epoch 4/100\n",
      "3/3 [==============================] - 0s 30ms/step - loss: 2087.7710 - val_loss: 1292.0758\n",
      "Epoch 5/100\n",
      "3/3 [==============================] - 0s 26ms/step - loss: 1517.6298 - val_loss: 735.5292\n",
      "Epoch 6/100\n",
      "3/3 [==============================] - 0s 17ms/step - loss: 605.4030 - val_loss: 822.9711\n",
      "Epoch 7/100\n",
      "3/3 [==============================] - 0s 15ms/step - loss: 1008.4835 - val_loss: 611.9415\n",
      "Epoch 8/100\n",
      "3/3 [==============================] - 0s 28ms/step - loss: 469.8402 - val_loss: 552.1517\n",
      "Epoch 9/100\n",
      "3/3 [==============================] - 0s 28ms/step - loss: 682.8778 - val_loss: 550.4386\n",
      "Epoch 10/100\n",
      "3/3 [==============================] - 0s 26ms/step - loss: 588.2095 - val_loss: 266.3754\n",
      "Epoch 11/100\n",
      "3/3 [==============================] - 0s 16ms/step - loss: 262.4978 - val_loss: 267.5961\n",
      "Epoch 12/100\n",
      "3/3 [==============================] - 0s 16ms/step - loss: 356.4452 - val_loss: 215.8957\n",
      "Epoch 13/100\n",
      "3/3 [==============================] - 0s 26ms/step - loss: 243.6313 - val_loss: 211.2397\n",
      "Epoch 14/100\n",
      "3/3 [==============================] - 0s 28ms/step - loss: 293.6523 - val_loss: 210.0875\n",
      "Epoch 15/100\n",
      "3/3 [==============================] - 0s 14ms/step - loss: 264.6130 - val_loss: 176.2831\n",
      "Epoch 16/100\n",
      "3/3 [==============================] - 0s 16ms/step - loss: 201.5199 - val_loss: 226.0687\n",
      "Epoch 17/100\n",
      "3/3 [==============================] - 0s 16ms/step - loss: 245.9180 - val_loss: 211.6016\n",
      "Epoch 18/100\n",
      "3/3 [==============================] - 0s 17ms/step - loss: 207.7380 - val_loss: 204.7216\n",
      "Epoch 19/100\n",
      "3/3 [==============================] - 0s 21ms/step - loss: 225.3795 - val_loss: 192.9795\n",
      "Epoch 20/100\n",
      "3/3 [==============================] - 0s 18ms/step - loss: 206.7700 - val_loss: 178.2089\n",
      "Epoch 21/100\n",
      "3/3 [==============================] - 0s 16ms/step - loss: 203.8086 - val_loss: 184.5030\n",
      "Epoch 22/100\n",
      "3/3 [==============================] - 0s 15ms/step - loss: 208.2361 - val_loss: 168.7522\n",
      "Epoch 23/100\n",
      "3/3 [==============================] - 0s 19ms/step - loss: 197.1407 - val_loss: 171.9092\n",
      "Epoch 24/100\n",
      "3/3 [==============================] - 0s 20ms/step - loss: 214.7057 - val_loss: 169.7719\n",
      "Epoch 25/100\n",
      "3/3 [==============================] - 0s 15ms/step - loss: 199.0745 - val_loss: 179.7690\n",
      "Epoch 26/100\n",
      "3/3 [==============================] - 0s 16ms/step - loss: 202.0567 - val_loss: 183.2808\n",
      "Epoch 27/100\n",
      "3/3 [==============================] - 0s 16ms/step - loss: 196.0666 - val_loss: 176.7436\n",
      "Epoch 28/100\n",
      "3/3 [==============================] - 0s 17ms/step - loss: 194.2741 - val_loss: 176.8584\n",
      "Epoch 29/100\n",
      "3/3 [==============================] - 0s 19ms/step - loss: 193.5319 - val_loss: 174.1015\n",
      "Epoch 30/100\n",
      "3/3 [==============================] - 0s 16ms/step - loss: 192.5623 - val_loss: 173.8878\n",
      "Epoch 31/100\n",
      "3/3 [==============================] - 0s 17ms/step - loss: 192.3143 - val_loss: 167.4763\n",
      "Epoch 32/100\n",
      "3/3 [==============================] - 0s 17ms/step - loss: 189.4696 - val_loss: 165.8828\n",
      "Epoch 33/100\n",
      "3/3 [==============================] - 0s 16ms/step - loss: 190.0692 - val_loss: 165.8919\n",
      "Epoch 34/100\n",
      "3/3 [==============================] - 0s 18ms/step - loss: 191.0876 - val_loss: 169.5256\n",
      "Epoch 35/100\n",
      "3/3 [==============================] - 0s 19ms/step - loss: 188.2383 - val_loss: 175.2990\n",
      "Epoch 36/100\n",
      "3/3 [==============================] - 0s 16ms/step - loss: 186.9371 - val_loss: 176.2447\n",
      "Epoch 37/100\n",
      "3/3 [==============================] - 0s 17ms/step - loss: 186.4212 - val_loss: 175.5730\n",
      "Epoch 38/100\n",
      "3/3 [==============================] - 0s 15ms/step - loss: 186.1723 - val_loss: 171.1387\n",
      "Epoch 39/100\n",
      "3/3 [==============================] - 0s 16ms/step - loss: 184.2757 - val_loss: 168.3540\n",
      "Epoch 40/100\n",
      "3/3 [==============================] - 0s 17ms/step - loss: 184.4231 - val_loss: 164.4333\n",
      "Epoch 41/100\n",
      "3/3 [==============================] - 0s 21ms/step - loss: 183.4415 - val_loss: 164.0082\n",
      "Epoch 42/100\n",
      "3/3 [==============================] - 0s 15ms/step - loss: 183.4322 - val_loss: 164.3657\n",
      "Epoch 43/100\n",
      "3/3 [==============================] - 0s 28ms/step - loss: 182.5226 - val_loss: 164.2840\n",
      "Epoch 44/100\n",
      "3/3 [==============================] - 0s 19ms/step - loss: 181.4510 - val_loss: 165.1694\n",
      "Epoch 45/100\n",
      "3/3 [==============================] - 0s 16ms/step - loss: 182.5728 - val_loss: 165.1071\n",
      "Epoch 46/100\n",
      "3/3 [==============================] - 0s 16ms/step - loss: 180.5732 - val_loss: 162.0671\n",
      "Epoch 47/100\n",
      "3/3 [==============================] - 0s 18ms/step - loss: 181.2081 - val_loss: 161.4657\n",
      "Epoch 48/100\n",
      "3/3 [==============================] - 0s 17ms/step - loss: 181.0941 - val_loss: 160.3521\n",
      "Epoch 49/100\n",
      "3/3 [==============================] - 0s 18ms/step - loss: 179.3882 - val_loss: 161.2018\n",
      "Epoch 50/100\n",
      "3/3 [==============================] - 0s 17ms/step - loss: 178.4315 - val_loss: 165.1142\n",
      "Epoch 51/100\n",
      "3/3 [==============================] - 0s 16ms/step - loss: 177.1979 - val_loss: 169.1277\n",
      "Epoch 52/100\n",
      "3/3 [==============================] - 0s 15ms/step - loss: 178.9615 - val_loss: 171.3168\n",
      "Epoch 53/100\n",
      "3/3 [==============================] - 0s 15ms/step - loss: 177.0390 - val_loss: 167.0343\n",
      "Epoch 54/100\n",
      "3/3 [==============================] - 0s 16ms/step - loss: 181.2060 - val_loss: 161.9978\n",
      "Epoch 55/100\n",
      "3/3 [==============================] - 0s 15ms/step - loss: 178.6089 - val_loss: 158.8670\n",
      "Epoch 56/100\n",
      "3/3 [==============================] - 0s 17ms/step - loss: 180.4631 - val_loss: 167.5896\n",
      "Epoch 57/100\n",
      "3/3 [==============================] - 0s 16ms/step - loss: 182.2325 - val_loss: 159.9611\n",
      "Epoch 58/100\n",
      "3/3 [==============================] - 0s 17ms/step - loss: 175.5870 - val_loss: 162.6781\n",
      "Epoch 59/100\n",
      "3/3 [==============================] - 0s 19ms/step - loss: 174.7050 - val_loss: 166.9004\n",
      "Epoch 60/100\n",
      "3/3 [==============================] - 0s 16ms/step - loss: 175.1628 - val_loss: 171.4443\n",
      "Epoch 61/100\n",
      "3/3 [==============================] - 0s 16ms/step - loss: 175.6062 - val_loss: 164.8108\n",
      "Epoch 62/100\n",
      "3/3 [==============================] - 0s 18ms/step - loss: 171.4845 - val_loss: 158.6864\n",
      "Epoch 63/100\n",
      "3/3 [==============================] - 0s 15ms/step - loss: 173.8787 - val_loss: 153.9870\n",
      "Epoch 64/100\n",
      "3/3 [==============================] - 0s 19ms/step - loss: 173.3159 - val_loss: 155.0471\n",
      "Epoch 65/100\n",
      "3/3 [==============================] - 0s 17ms/step - loss: 172.1266 - val_loss: 157.5418\n",
      "Epoch 66/100\n",
      "3/3 [==============================] - 0s 17ms/step - loss: 170.6095 - val_loss: 157.6958\n",
      "Epoch 67/100\n",
      "3/3 [==============================] - 0s 16ms/step - loss: 172.5946 - val_loss: 161.2582\n",
      "Epoch 68/100\n",
      "3/3 [==============================] - 0s 24ms/step - loss: 171.0468 - val_loss: 158.6159\n",
      "Epoch 69/100\n",
      "3/3 [==============================] - 0s 22ms/step - loss: 170.6500 - val_loss: 158.1572\n",
      "Epoch 70/100\n",
      "3/3 [==============================] - ETA: 0s - loss: 188.109 - 0s 16ms/step - loss: 172.4220 - val_loss: 164.3167\n",
      "Epoch 71/100\n",
      "3/3 [==============================] - 0s 27ms/step - loss: 169.8971 - val_loss: 157.3075\n",
      "Epoch 72/100\n",
      "3/3 [==============================] - 0s 14ms/step - loss: 168.5797 - val_loss: 155.5304\n",
      "Epoch 73/100\n",
      "3/3 [==============================] - 0s 21ms/step - loss: 168.8702 - val_loss: 154.0748\n",
      "Epoch 74/100\n",
      "3/3 [==============================] - 0s 17ms/step - loss: 166.9516 - val_loss: 153.2807\n",
      "Epoch 75/100\n",
      "3/3 [==============================] - 0s 16ms/step - loss: 166.9556 - val_loss: 153.1487\n",
      "Epoch 76/100\n",
      "3/3 [==============================] - 0s 16ms/step - loss: 166.6465 - val_loss: 152.8199\n",
      "Epoch 77/100\n",
      "3/3 [==============================] - 0s 16ms/step - loss: 166.4450 - val_loss: 153.7749\n",
      "Epoch 78/100\n",
      "3/3 [==============================] - 0s 15ms/step - loss: 165.0926 - val_loss: 158.8510\n",
      "Epoch 79/100\n",
      "3/3 [==============================] - 0s 15ms/step - loss: 167.3721 - val_loss: 164.9294\n",
      "Epoch 80/100\n"
     ]
    },
    {
     "name": "stdout",
     "output_type": "stream",
     "text": [
      "3/3 [==============================] - 0s 16ms/step - loss: 166.5238 - val_loss: 163.0850\n",
      "Epoch 81/100\n",
      "3/3 [==============================] - 0s 16ms/step - loss: 166.2170 - val_loss: 161.8625\n",
      "Epoch 82/100\n",
      "3/3 [==============================] - 0s 17ms/step - loss: 166.6240 - val_loss: 155.8627\n",
      "Epoch 83/100\n",
      "3/3 [==============================] - 0s 16ms/step - loss: 164.8347 - val_loss: 152.7464\n",
      "Epoch 84/100\n",
      "3/3 [==============================] - 0s 15ms/step - loss: 163.9684 - val_loss: 151.0981\n",
      "Epoch 85/100\n",
      "3/3 [==============================] - 0s 17ms/step - loss: 163.9217 - val_loss: 151.8102\n",
      "Epoch 86/100\n",
      "3/3 [==============================] - 0s 20ms/step - loss: 164.4921 - val_loss: 148.9193\n",
      "Epoch 87/100\n",
      "3/3 [==============================] - 0s 16ms/step - loss: 164.9606 - val_loss: 145.7348\n",
      "Epoch 88/100\n",
      "3/3 [==============================] - 0s 17ms/step - loss: 164.3979 - val_loss: 146.3897\n",
      "Epoch 89/100\n",
      "3/3 [==============================] - 0s 19ms/step - loss: 163.5381 - val_loss: 147.0079\n",
      "Epoch 90/100\n",
      "3/3 [==============================] - 0s 17ms/step - loss: 162.4348 - val_loss: 151.5447\n",
      "Epoch 91/100\n",
      "3/3 [==============================] - 0s 26ms/step - loss: 162.6726 - val_loss: 152.9695\n",
      "Epoch 92/100\n",
      "3/3 [==============================] - 0s 19ms/step - loss: 162.9911 - val_loss: 156.6010\n",
      "Epoch 93/100\n",
      "3/3 [==============================] - 0s 17ms/step - loss: 162.0316 - val_loss: 153.9446\n",
      "Epoch 94/100\n",
      "3/3 [==============================] - 0s 16ms/step - loss: 162.1777 - val_loss: 149.7425\n",
      "Epoch 95/100\n",
      "3/3 [==============================] - 0s 20ms/step - loss: 160.6574 - val_loss: 148.4488\n",
      "Epoch 96/100\n",
      "3/3 [==============================] - 0s 16ms/step - loss: 160.8651 - val_loss: 146.6124\n",
      "Epoch 97/100\n",
      "3/3 [==============================] - 0s 16ms/step - loss: 160.2480 - val_loss: 148.5000\n",
      "Epoch 98/100\n",
      "3/3 [==============================] - 0s 16ms/step - loss: 159.7438 - val_loss: 148.3351\n",
      "Epoch 99/100\n",
      "3/3 [==============================] - 0s 19ms/step - loss: 159.6103 - val_loss: 148.9499\n",
      "Epoch 100/100\n",
      "3/3 [==============================] - 0s 16ms/step - loss: 161.2625 - val_loss: 149.6256\n"
     ]
    }
   ],
   "source": [
    "history = model.fit(X_train, y_train, epochs=100,\n",
    "                    validation_data=(X_valid, y_valid))"
   ]
  },
  {
   "cell_type": "markdown",
   "id": "17d6e37a",
   "metadata": {},
   "source": [
    "Plot the result"
   ]
  },
  {
   "cell_type": "code",
   "execution_count": 17,
   "id": "3b066f5c",
   "metadata": {},
   "outputs": [
    {
     "name": "stdout",
     "output_type": "stream",
     "text": [
      "Saving figure num_num_training_curve\n"
     ]
    },
    {
     "data": {
      "image/png": "[encoded data removed]",
      "text/plain": [
       "<Figure size 576x360 with 1 Axes>"
      ]
     },
     "metadata": {
      "needs_background": "light"
     },
     "output_type": "display_data"
    }
   ],
   "source": [
    "import pandas as pd\n",
    "\n",
    "pd.DataFrame(history.history).plot(figsize=(8, 5))\n",
    "plt.grid(True)\n",
    "# plt.gca().set_ylim(0, 1)\n",
    "save_fig(\"num_num_training_curve\")\n",
    "plt.show()"
   ]
  },
  {
   "cell_type": "code",
   "execution_count": 18,
   "id": "03f9bb54",
   "metadata": {},
   "outputs": [
    {
     "name": "stdout",
     "output_type": "stream",
     "text": [
      "Saving figure num_num_prediction\n"
     ]
    },
    {
     "data": {
      "image/png": "[encoded data removed]",
      "text/plain": [
       "<Figure size 432x288 with 1 Axes>"
      ]
     },
     "metadata": {
      "needs_background": "light"
     },
     "output_type": "display_data"
    }
   ],
   "source": [
    "# X_new = np.linspace(-5, 5, 100).reshape(100, 1)\n",
    "# y_new = model.predict(X_new)\n",
    "#\n",
    "# plt.plot(X_train, y_train, \"b.\")\n",
    "draw_points(X_train, y_train, sid_train)\n",
    "# plt.plot(X_new, y_new, \"r-\", linewidth=2, label=\"Predictions\")\n",
    "draw_func(model.predict, mark='r-', linewidth=2, label=\"Predictions\")\n",
    "draw_normal_func(func_dict)\n",
    "plt.xlabel(\"$x_1$\", fontsize=18)\n",
    "plt.ylabel(\"$y$\", rotation=0, fontsize=18)\n",
    "plt.legend(loc=\"upper left\", fontsize=14)\n",
    "# plt.axis([-3, 3, 0, 10])\n",
    "save_fig(\"num_num_prediction\")\n",
    "plt.show()"
   ]
  },
  {
   "cell_type": "code",
   "execution_count": 19,
   "id": "bc06d931",
   "metadata": {},
   "outputs": [
    {
     "name": "stdout",
     "output_type": "stream",
     "text": [
      "y_func.shape = (100, 1)\n",
      "y_gt.shape = (100, 1)\n"
     ]
    },
    {
     "data": {
      "text/plain": [
       "5.970816138158946"
      ]
     },
     "execution_count": 19,
     "metadata": {},
     "output_type": "execute_result"
    }
   ],
   "source": [
    "get_prediction_error(model.predict, func_dict, name=\"num-num\")"
   ]
  },
  {
   "cell_type": "markdown",
   "id": "58da8768",
   "metadata": {},
   "source": [
    "# Simulated CNN Feature Map (1-D grids, grid --> number)"
   ]
  },
  {
   "cell_type": "code",
   "execution_count": 20,
   "id": "287b5e4c",
   "metadata": {},
   "outputs": [],
   "source": [
    "class num2grid(keras.layers.Layer):\n",
    "    def __init__(self, units, x_min=-10, x_max=10, sigma=1.0, activation=None, **kwargs):\n",
    "        super().__init__(**kwargs)\n",
    "        self.units = units\n",
    "        self.x_min = x_min\n",
    "        self.x_max = x_max\n",
    "        self.sigma = sigma\n",
    "        self.sigma2 = self.sigma**2\n",
    "        self.activation = keras.activations.get(activation)\n",
    "        \n",
    "    def build(self, batch_input_shape):\n",
    "        #\n",
    "        self.x_grid = np.linspace(self.x_min, self.x_max, self.units, endpoint=True)\n",
    "#         print(\"self.x_grid.shape = %s\" % str(self.x_grid.shape))\n",
    "        #\n",
    "        super().build(batch_input_shape) # must be at the end\n",
    "        \n",
    "    def call(self, X):\n",
    "        '''\n",
    "        Input shape:  (batch, X_chanel)\n",
    "        Output shape: (batch, grid_unit) \n",
    "        \n",
    "        self.x_grid shape: (grid_unit,)\n",
    "        '''\n",
    "        gauss_grid = tf.exp( -(self.x_grid - X)**2 / (2.0*self.sigma2) )\n",
    "        print(\"X.shape = %s\" % str(X.shape))\n",
    "        print(\"gauss_grid.shape = %s\" % str(gauss_grid.shape))\n",
    "        return self.activation(gauss_grid)\n",
    "    \n",
    "    def compute_output_shape(self, batch_input_shape):\n",
    "        return tf.TensorShape(batch_input_shape.as_list()[:-1] + [self.units])\n",
    "    \n",
    "    def get_config(self):\n",
    "        base_config = super().get_config()\n",
    "        return {**base_config, \n",
    "                \"units\": self.units,\n",
    "                \"x_min\": self.x_min,\n",
    "                \"x_max\": self.x_max,\n",
    "                \"sigma\": self.sigma,\n",
    "                \"activation\": keras.activations.serialize(self.activation)}"
   ]
  },
  {
   "cell_type": "code",
   "execution_count": 21,
   "id": "f463c12a",
   "metadata": {},
   "outputs": [
    {
     "name": "stdout",
     "output_type": "stream",
     "text": [
      "X.shape = (None, 1)\n",
      "gauss_grid.shape = (None, 5)\n"
     ]
    }
   ],
   "source": [
    "model = keras.models.Sequential([\n",
    "    num2grid(5,x_min=-10, x_max=10, sigma=3.0, input_shape=X_train.shape[1:]),\n",
    "    keras.layers.Dense(30, activation=\"relu\"),\n",
    "#     keras.layers.Dense(100, activation=\"relu\", kernel_regularizer=tf.keras.regularizers.l1(0.01)),\n",
    "#     keras.layers.Dense(30, activation=keras.layers.LeakyReLU(alpha=0.2) ),\n",
    "#     keras.layers.Dense(30, activation=\"selu\"),\n",
    "#     keras.layers.Dense(30, activation=\"relu\"),\n",
    "    keras.layers.Dense(1)\n",
    "])"
   ]
  },
  {
   "cell_type": "code",
   "execution_count": 22,
   "id": "73fbb610",
   "metadata": {},
   "outputs": [],
   "source": [
    "# # Customized loss function\n",
    "# def asymptoticLoss_fn(y_true, y_pred, alpha=0.01):\n",
    "#     # tau: quantile, tau in [0.0, 1.0]\n",
    "#     # y_true: label mean\n",
    "#     # y_pred: predicted tau quantile\n",
    "#     y_target = alpha * y_true + (1.0 - alpha) * y_pred\n",
    "#     # return tf.abs(y_pred - y_target)\n",
    "#     return (y_pred - y_target)**2"
   ]
  },
  {
   "cell_type": "code",
   "execution_count": 23,
   "id": "062ec84e",
   "metadata": {},
   "outputs": [
    {
     "name": "stderr",
     "output_type": "stream",
     "text": [
      "C:\\Users\\benso\\anaconda3\\envs\\ml\\lib\\site-packages\\keras\\optimizer_v2\\gradient_descent.py:102: UserWarning: The `lr` argument is deprecated, use `learning_rate` instead.\n",
      "  super(SGD, self).__init__(name, **kwargs)\n"
     ]
    }
   ],
   "source": [
    "optimizer = keras.optimizers.SGD(lr=0.001, momentum=0.9)\n",
    "model.compile(loss=\"mean_squared_error\", optimizer=optimizer)\n",
    "# optimizer = keras.optimizers.Adam(lr=0.1)\n",
    "# # model.compile(loss=\"mean_absolute_error\", optimizer=optimizer)\n",
    "# model.compile(loss=asymptoticLoss_fn, optimizer=optimizer)"
   ]
  },
  {
   "cell_type": "code",
   "execution_count": 24,
   "id": "c966ada4",
   "metadata": {
    "scrolled": true
   },
   "outputs": [
    {
     "name": "stdout",
     "output_type": "stream",
     "text": [
      "Epoch 1/100\n",
      "X.shape = (None, 1)\n",
      "gauss_grid.shape = (None, 5)\n",
      "X.shape = (None, 1)\n",
      "gauss_grid.shape = (None, 5)\n",
      "1/3 [=========>....................] - ETA: 0s - loss: 2743.0049X.shape = (None, 1)\n",
      "gauss_grid.shape = (None, 5)\n",
      "3/3 [==============================] - 0s 81ms/step - loss: 2462.6309 - val_loss: 1698.9320\n",
      "Epoch 2/100\n",
      "3/3 [==============================] - 0s 14ms/step - loss: 2370.0176 - val_loss: 1613.0038\n",
      "Epoch 3/100\n",
      "3/3 [==============================] - 0s 21ms/step - loss: 2081.5515 - val_loss: 1399.5012\n",
      "Epoch 4/100\n",
      "3/3 [==============================] - 0s 27ms/step - loss: 1432.6497 - val_loss: 1218.6204\n",
      "Epoch 5/100\n",
      "3/3 [==============================] - 0s 30ms/step - loss: 919.8683 - val_loss: 634.6874\n",
      "Epoch 6/100\n",
      "3/3 [==============================] - 0s 15ms/step - loss: 577.8466 - val_loss: 363.6481\n",
      "Epoch 7/100\n",
      "3/3 [==============================] - 0s 15ms/step - loss: 311.5171 - val_loss: 282.6823\n",
      "Epoch 8/100\n",
      "3/3 [==============================] - 0s 22ms/step - loss: 344.0750 - val_loss: 285.0861\n",
      "Epoch 9/100\n",
      "3/3 [==============================] - 0s 21ms/step - loss: 261.3439 - val_loss: 341.4196\n",
      "Epoch 10/100\n",
      "3/3 [==============================] - 0s 33ms/step - loss: 320.3804 - val_loss: 269.5380\n",
      "Epoch 11/100\n",
      "3/3 [==============================] - 0s 18ms/step - loss: 258.0046 - val_loss: 244.5276\n",
      "Epoch 12/100\n",
      "3/3 [==============================] - 0s 19ms/step - loss: 266.9287 - val_loss: 261.0334\n",
      "Epoch 13/100\n",
      "3/3 [==============================] - 0s 18ms/step - loss: 262.7466 - val_loss: 297.1646\n",
      "Epoch 14/100\n",
      "3/3 [==============================] - 0s 18ms/step - loss: 248.7741 - val_loss: 248.3766\n",
      "Epoch 15/100\n",
      "3/3 [==============================] - 0s 19ms/step - loss: 261.9396 - val_loss: 223.5302\n",
      "Epoch 16/100\n",
      "3/3 [==============================] - 0s 16ms/step - loss: 226.0239 - val_loss: 246.2531\n",
      "Epoch 17/100\n",
      "3/3 [==============================] - 0s 19ms/step - loss: 245.1500 - val_loss: 228.5405\n",
      "Epoch 18/100\n",
      "3/3 [==============================] - 0s 16ms/step - loss: 225.0861 - val_loss: 206.0357\n",
      "Epoch 19/100\n",
      "3/3 [==============================] - 0s 20ms/step - loss: 227.4297 - val_loss: 199.8411\n",
      "Epoch 20/100\n",
      "3/3 [==============================] - 0s 21ms/step - loss: 204.1849 - val_loss: 225.3156\n",
      "Epoch 21/100\n",
      "3/3 [==============================] - 0s 17ms/step - loss: 220.1667 - val_loss: 210.0832\n",
      "Epoch 22/100\n",
      "3/3 [==============================] - 0s 18ms/step - loss: 215.5452 - val_loss: 193.6560\n",
      "Epoch 23/100\n",
      "3/3 [==============================] - 0s 16ms/step - loss: 209.8436 - val_loss: 183.7812\n",
      "Epoch 24/100\n",
      "3/3 [==============================] - 0s 16ms/step - loss: 194.0898 - val_loss: 183.3629\n",
      "Epoch 25/100\n",
      "3/3 [==============================] - 0s 17ms/step - loss: 197.9266 - val_loss: 169.3949\n",
      "Epoch 26/100\n",
      "3/3 [==============================] - 0s 16ms/step - loss: 188.8732 - val_loss: 158.7551\n",
      "Epoch 27/100\n",
      "3/3 [==============================] - 0s 15ms/step - loss: 191.8612 - val_loss: 162.0317\n",
      "Epoch 28/100\n",
      "3/3 [==============================] - 0s 20ms/step - loss: 181.8992 - val_loss: 172.2162\n",
      "Epoch 29/100\n",
      "3/3 [==============================] - 0s 15ms/step - loss: 184.6780 - val_loss: 165.4498\n",
      "Epoch 30/100\n",
      "3/3 [==============================] - 0s 16ms/step - loss: 179.5966 - val_loss: 150.1136\n",
      "Epoch 31/100\n",
      "3/3 [==============================] - 0s 16ms/step - loss: 176.2596 - val_loss: 141.7030\n",
      "Epoch 32/100\n",
      "3/3 [==============================] - 0s 18ms/step - loss: 172.4122 - val_loss: 134.1800\n",
      "Epoch 33/100\n",
      "3/3 [==============================] - 0s 17ms/step - loss: 171.6566 - val_loss: 127.6395\n",
      "Epoch 34/100\n",
      "3/3 [==============================] - 0s 17ms/step - loss: 172.6284 - val_loss: 125.1957\n",
      "Epoch 35/100\n",
      "3/3 [==============================] - 0s 16ms/step - loss: 168.5659 - val_loss: 128.0254\n",
      "Epoch 36/100\n",
      "3/3 [==============================] - 0s 16ms/step - loss: 167.3206 - val_loss: 136.0085\n",
      "Epoch 37/100\n",
      "3/3 [==============================] - 0s 16ms/step - loss: 167.2939 - val_loss: 134.3379\n",
      "Epoch 38/100\n",
      "3/3 [==============================] - 0s 22ms/step - loss: 166.6534 - val_loss: 122.7134\n",
      "Epoch 39/100\n",
      "3/3 [==============================] - 0s 21ms/step - loss: 164.5940 - val_loss: 116.6922\n",
      "Epoch 40/100\n",
      "3/3 [==============================] - 0s 18ms/step - loss: 164.6060 - val_loss: 108.3877\n",
      "Epoch 41/100\n",
      "3/3 [==============================] - 0s 18ms/step - loss: 167.1223 - val_loss: 108.5860\n",
      "Epoch 42/100\n",
      "3/3 [==============================] - 0s 21ms/step - loss: 163.1521 - val_loss: 117.3192\n",
      "Epoch 43/100\n",
      "3/3 [==============================] - 0s 17ms/step - loss: 168.6417 - val_loss: 134.1971\n",
      "Epoch 44/100\n",
      "3/3 [==============================] - 0s 22ms/step - loss: 165.0915 - val_loss: 119.0029\n",
      "Epoch 45/100\n",
      "3/3 [==============================] - 0s 22ms/step - loss: 162.0611 - val_loss: 110.5368\n",
      "Epoch 46/100\n",
      "3/3 [==============================] - 0s 20ms/step - loss: 166.9097 - val_loss: 102.0197\n",
      "Epoch 47/100\n",
      "3/3 [==============================] - 0s 26ms/step - loss: 163.7632 - val_loss: 112.0763\n",
      "Epoch 48/100\n",
      "3/3 [==============================] - 0s 21ms/step - loss: 167.6632 - val_loss: 113.5598\n",
      "Epoch 49/100\n",
      "3/3 [==============================] - 0s 18ms/step - loss: 163.9464 - val_loss: 102.6804\n",
      "Epoch 50/100\n",
      "3/3 [==============================] - 0s 21ms/step - loss: 172.3078 - val_loss: 114.5821\n",
      "Epoch 51/100\n",
      "3/3 [==============================] - 0s 18ms/step - loss: 161.4271 - val_loss: 115.5418\n",
      "Epoch 52/100\n",
      "3/3 [==============================] - 0s 18ms/step - loss: 162.7723 - val_loss: 108.3928\n",
      "Epoch 53/100\n",
      "3/3 [==============================] - 0s 19ms/step - loss: 162.9471 - val_loss: 96.5742\n",
      "Epoch 54/100\n",
      "3/3 [==============================] - 0s 23ms/step - loss: 164.6632 - val_loss: 97.7568\n",
      "Epoch 55/100\n",
      "3/3 [==============================] - 0s 35ms/step - loss: 160.4840 - val_loss: 111.0187\n",
      "Epoch 56/100\n",
      "3/3 [==============================] - 0s 25ms/step - loss: 165.2996 - val_loss: 130.3382\n",
      "Epoch 57/100\n",
      "3/3 [==============================] - 0s 20ms/step - loss: 161.8067 - val_loss: 117.9384\n",
      "Epoch 58/100\n",
      "3/3 [==============================] - 0s 29ms/step - loss: 163.8437 - val_loss: 118.5002\n",
      "Epoch 59/100\n",
      "3/3 [==============================] - 0s 23ms/step - loss: 161.4895 - val_loss: 118.3967\n",
      "Epoch 60/100\n",
      "3/3 [==============================] - 0s 26ms/step - loss: 159.7735 - val_loss: 117.0813\n",
      "Epoch 61/100\n",
      "3/3 [==============================] - 0s 23ms/step - loss: 157.7432 - val_loss: 109.9049\n",
      "Epoch 62/100\n",
      "3/3 [==============================] - 0s 37ms/step - loss: 158.1153 - val_loss: 109.8480\n",
      "Epoch 63/100\n",
      "3/3 [==============================] - 0s 18ms/step - loss: 158.2002 - val_loss: 107.4183\n",
      "Epoch 64/100\n",
      "3/3 [==============================] - 0s 21ms/step - loss: 159.3205 - val_loss: 118.3951\n",
      "Epoch 65/100\n",
      "3/3 [==============================] - 0s 22ms/step - loss: 158.4527 - val_loss: 110.4850\n",
      "Epoch 66/100\n",
      "3/3 [==============================] - 0s 18ms/step - loss: 155.0134 - val_loss: 104.7414\n",
      "Epoch 67/100\n",
      "3/3 [==============================] - 0s 19ms/step - loss: 158.0624 - val_loss: 105.7518\n",
      "Epoch 68/100\n",
      "3/3 [==============================] - 0s 19ms/step - loss: 157.9793 - val_loss: 106.6627\n",
      "Epoch 69/100\n",
      "3/3 [==============================] - 0s 22ms/step - loss: 158.1911 - val_loss: 108.2796\n",
      "Epoch 70/100\n",
      "3/3 [==============================] - 0s 24ms/step - loss: 155.5709 - val_loss: 120.2554\n",
      "Epoch 71/100\n",
      "3/3 [==============================] - 0s 21ms/step - loss: 159.6587 - val_loss: 126.1013\n",
      "Epoch 72/100\n",
      "3/3 [==============================] - 0s 20ms/step - loss: 155.9508 - val_loss: 107.8938\n",
      "Epoch 73/100\n",
      "3/3 [==============================] - 0s 23ms/step - loss: 155.0730 - val_loss: 97.4733\n",
      "Epoch 74/100\n",
      "3/3 [==============================] - 0s 21ms/step - loss: 161.1432 - val_loss: 95.3945\n",
      "Epoch 75/100\n",
      "3/3 [==============================] - 0s 26ms/step - loss: 161.4160 - val_loss: 103.2665\n",
      "Epoch 76/100\n",
      "3/3 [==============================] - 0s 27ms/step - loss: 156.5014 - val_loss: 120.6819\n",
      "Epoch 77/100\n",
      "3/3 [==============================] - 0s 21ms/step - loss: 157.3612 - val_loss: 115.3996\n",
      "Epoch 78/100\n"
     ]
    },
    {
     "name": "stdout",
     "output_type": "stream",
     "text": [
      "3/3 [==============================] - 0s 24ms/step - loss: 154.8854 - val_loss: 115.2369\n",
      "Epoch 79/100\n",
      "3/3 [==============================] - 0s 18ms/step - loss: 155.3299 - val_loss: 109.6698\n",
      "Epoch 80/100\n",
      "3/3 [==============================] - 0s 23ms/step - loss: 156.5561 - val_loss: 95.5105\n",
      "Epoch 81/100\n",
      "3/3 [==============================] - 0s 26ms/step - loss: 157.4066 - val_loss: 100.7056\n",
      "Epoch 82/100\n",
      "3/3 [==============================] - 0s 22ms/step - loss: 159.0598 - val_loss: 97.7405\n",
      "Epoch 83/100\n",
      "3/3 [==============================] - 0s 22ms/step - loss: 155.7588 - val_loss: 104.1214\n",
      "Epoch 84/100\n",
      "3/3 [==============================] - 0s 22ms/step - loss: 153.7227 - val_loss: 111.6960\n",
      "Epoch 85/100\n",
      "3/3 [==============================] - 0s 22ms/step - loss: 155.4523 - val_loss: 114.4293\n",
      "Epoch 86/100\n",
      "3/3 [==============================] - 0s 21ms/step - loss: 156.2345 - val_loss: 108.5792\n",
      "Epoch 87/100\n",
      "3/3 [==============================] - 0s 26ms/step - loss: 154.6652 - val_loss: 114.7333\n",
      "Epoch 88/100\n",
      "3/3 [==============================] - 0s 21ms/step - loss: 153.0231 - val_loss: 107.1972\n",
      "Epoch 89/100\n",
      "3/3 [==============================] - 0s 13ms/step - loss: 153.5222 - val_loss: 104.6006\n",
      "Epoch 90/100\n",
      "3/3 [==============================] - 0s 20ms/step - loss: 152.0105 - val_loss: 104.3673\n",
      "Epoch 91/100\n",
      "3/3 [==============================] - 0s 20ms/step - loss: 154.2395 - val_loss: 97.5920\n",
      "Epoch 92/100\n",
      "3/3 [==============================] - 0s 20ms/step - loss: 152.9465 - val_loss: 107.3596\n",
      "Epoch 93/100\n",
      "3/3 [==============================] - 0s 23ms/step - loss: 151.2511 - val_loss: 115.6478\n",
      "Epoch 94/100\n",
      "3/3 [==============================] - 0s 21ms/step - loss: 152.2097 - val_loss: 115.8663\n",
      "Epoch 95/100\n",
      "3/3 [==============================] - 0s 18ms/step - loss: 152.6586 - val_loss: 106.2074\n",
      "Epoch 96/100\n",
      "3/3 [==============================] - 0s 23ms/step - loss: 150.8480 - val_loss: 108.2403\n",
      "Epoch 97/100\n",
      "3/3 [==============================] - ETA: 0s - loss: 160.182 - 0s 22ms/step - loss: 155.9784 - val_loss: 105.1960\n",
      "Epoch 98/100\n",
      "3/3 [==============================] - 0s 25ms/step - loss: 150.7760 - val_loss: 124.5535\n",
      "Epoch 99/100\n",
      "3/3 [==============================] - 0s 26ms/step - loss: 152.2706 - val_loss: 139.3845\n",
      "Epoch 100/100\n",
      "3/3 [==============================] - 0s 26ms/step - loss: 150.5304 - val_loss: 126.8338\n"
     ]
    }
   ],
   "source": [
    "history = model.fit(X_train, y_train, epochs=100,\n",
    "                    validation_data=(X_valid, y_valid))"
   ]
  },
  {
   "cell_type": "code",
   "execution_count": 25,
   "id": "4d550f88",
   "metadata": {},
   "outputs": [
    {
     "name": "stdout",
     "output_type": "stream",
     "text": [
      "Saving figure grid_num_training_curve\n"
     ]
    },
    {
     "data": {
      "image/png": "[encoded data removed]",
      "text/plain": [
       "<Figure size 576x360 with 1 Axes>"
      ]
     },
     "metadata": {
      "needs_background": "light"
     },
     "output_type": "display_data"
    }
   ],
   "source": [
    "import pandas as pd\n",
    "\n",
    "pd.DataFrame(history.history).plot(figsize=(8, 5))\n",
    "plt.grid(True)\n",
    "# plt.gca().set_ylim(0, 1)\n",
    "save_fig(\"grid_num_training_curve\")\n",
    "plt.show()"
   ]
  },
  {
   "cell_type": "code",
   "execution_count": 26,
   "id": "5487653c",
   "metadata": {},
   "outputs": [
    {
     "name": "stdout",
     "output_type": "stream",
     "text": [
      "X.shape = (None, 1)\n",
      "gauss_grid.shape = (None, 5)\n",
      "Saving figure grid_num_prediction\n"
     ]
    },
    {
     "data": {
      "image/png": "[encoded data removed]",
      "text/plain": [
       "<Figure size 432x288 with 1 Axes>"
      ]
     },
     "metadata": {
      "needs_background": "light"
     },
     "output_type": "display_data"
    }
   ],
   "source": [
    "# X_new = np.linspace(-5, 5, 100).reshape(100, 1)\n",
    "# y_new = model.predict(X_new)\n",
    "#\n",
    "# plt.plot(X_train, y_train, \"b.\")\n",
    "draw_points(X_train, y_train, sid_train)\n",
    "# plt.plot(X_new, y_new, \"r-\", linewidth=2, label=\"Predictions\")\n",
    "draw_func(model.predict, mark='r-', linewidth=2, label=\"Predictions\")\n",
    "draw_normal_func(func_dict)\n",
    "plt.xlabel(\"$x_1$\", fontsize=18)\n",
    "plt.ylabel(\"$y$\", rotation=0, fontsize=18)\n",
    "plt.legend(loc=\"upper left\", fontsize=14)\n",
    "# plt.axis([-3, 3, 0, 10])\n",
    "save_fig(\"grid_num_prediction\")\n",
    "plt.show()"
   ]
  },
  {
   "cell_type": "code",
   "execution_count": 27,
   "id": "f9c053a4",
   "metadata": {},
   "outputs": [
    {
     "name": "stdout",
     "output_type": "stream",
     "text": [
      "y_func.shape = (100, 1)\n",
      "y_gt.shape = (100, 1)\n"
     ]
    },
    {
     "data": {
      "text/plain": [
       "4.198203944797897"
      ]
     },
     "execution_count": 27,
     "metadata": {},
     "output_type": "execute_result"
    }
   ],
   "source": [
    "get_prediction_error(model.predict, func_dict, name=\"grid-num\")"
   ]
  },
  {
   "cell_type": "markdown",
   "id": "fe65d614",
   "metadata": {},
   "source": [
    "# Grid & Regression by Classification (grid --> grid)"
   ]
  },
  {
   "cell_type": "code",
   "execution_count": 28,
   "id": "3d35615e",
   "metadata": {},
   "outputs": [],
   "source": [
    "class num2grid_np():\n",
    "    def __init__(self, units, x_min=-10, x_max=10, sigma=1.0):\n",
    "        self.units = units\n",
    "        self.x_min = x_min\n",
    "        self.x_max = x_max\n",
    "        self.sigma = sigma\n",
    "        self.sigma2 = self.sigma**2\n",
    "        self.x_grid = np.linspace(self.x_min, self.x_max, self.units, endpoint=True)\n",
    "        print(\"self.x_grid = %s\" % str(self.x_grid))\n",
    "        \n",
    "    def convert(self, X):\n",
    "        gauss_grid = np.exp( -(self.x_grid - X)**2 / (2.0*self.sigma2) )\n",
    "#         if len(gauss_grid.shape) == 1:\n",
    "#             gauss_grid = gauss_grid.reshape([1,-1])\n",
    "#         grid_sum = np.sum(gauss_grid, axis=1, keepdims=True)\n",
    "        grid_sum = np.sum(gauss_grid, axis=-1, keepdims=True)\n",
    "        gauss_grid = gauss_grid / grid_sum\n",
    "        return gauss_grid\n",
    "    \n",
    "    def inv_convert(self, grid):\n",
    "#         if len(grid.shape) == 1:\n",
    "#             grid = grid.reshape([1,-1])\n",
    "#         grid_sum = np.sum(grid, axis=1)\n",
    "        grid_sum = np.sum(grid, axis=-1)\n",
    "#         print(grid_sum)\n",
    "        exp_num = np.sum((self.x_grid * grid), axis=-1) / grid_sum # element-wise\n",
    "        return exp_num\n",
    "    \n",
    "    def get_statistic(self, grid):\n",
    "        grid_sum = np.sum(grid, axis=-1)\n",
    "        _mean = np.sum((self.x_grid * grid), axis=-1) / grid_sum # element-wise\n",
    "        _var  = np.sum( ((self.x_grid.reshape((1,-1)) - _mean.reshape((-1,1)))**2 * grid), axis=-1) / grid_sum # element-wise\n",
    "        # print(\"(_mean, _var) = (%f, %f)\" % (_mean, _var))\n",
    "        _stddev = np.sqrt(_var)\n",
    "        return _mean, _stddev"
   ]
  },
  {
   "cell_type": "code",
   "execution_count": 29,
   "id": "4903180b",
   "metadata": {},
   "outputs": [
    {
     "name": "stdout",
     "output_type": "stream",
     "text": [
      "self.x_grid = [-100.          -95.91836735  -91.83673469  -87.75510204  -83.67346939\n",
      "  -79.59183673  -75.51020408  -71.42857143  -67.34693878  -63.26530612\n",
      "  -59.18367347  -55.10204082  -51.02040816  -46.93877551  -42.85714286\n",
      "  -38.7755102   -34.69387755  -30.6122449   -26.53061224  -22.44897959\n",
      "  -18.36734694  -14.28571429  -10.20408163   -6.12244898   -2.04081633\n",
      "    2.04081633    6.12244898   10.20408163   14.28571429   18.36734694\n",
      "   22.44897959   26.53061224   30.6122449    34.69387755   38.7755102\n",
      "   42.85714286   46.93877551   51.02040816   55.10204082   59.18367347\n",
      "   63.26530612   67.34693878   71.42857143   75.51020408   79.59183673\n",
      "   83.67346939   87.75510204   91.83673469   95.91836735  100.        ]\n"
     ]
    }
   ],
   "source": [
    "# class_num = 10 # 10\n",
    "# n2g = num2grid_np(class_num, x_min=-100.0, x_max=100.0, sigma=20.0) # 20.0\n",
    "# class_num = 20\n",
    "# n2g = num2grid_np(class_num, x_min=-100.0, x_max=100.0, sigma=15.0) # 20.0\n",
    "class_num = 50\n",
    "n2g = num2grid_np(class_num, x_min=-100.0, x_max=100.0, sigma=6.0) # 5.0 "
   ]
  },
  {
   "cell_type": "code",
   "execution_count": 30,
   "id": "dce05258",
   "metadata": {},
   "outputs": [
    {
     "name": "stdout",
     "output_type": "stream",
     "text": [
      "[[3.57995092e-60 2.08100846e-55 7.61538914e-51 1.75441300e-46\n",
      "  2.54444491e-42 2.32314196e-38 1.33530332e-34 4.83176258e-31\n",
      "  1.10065884e-27 1.57841554e-24 1.42498879e-21 8.09884396e-19\n",
      "  2.89771784e-16 6.52695532e-14 9.25521826e-12 8.26198061e-10\n",
      "  4.64304784e-08 1.64264466e-06 3.65852120e-05 5.12966502e-04\n",
      "  4.52786966e-03 2.51605603e-02 8.80173281e-02 1.93837381e-01\n",
      "  2.68737559e-01 2.34552834e-01 1.28876722e-01 4.45789421e-02\n",
      "  9.70748025e-03 1.33077537e-03 1.14848275e-04 6.23972825e-06\n",
      "  2.13416679e-07 4.59528573e-09 6.22899760e-11 5.31551427e-13\n",
      "  2.85557712e-15 9.65748361e-18 2.05615356e-20 2.75593262e-23\n",
      "  2.32542921e-26 1.23526215e-29 4.13082337e-33 8.69632169e-37\n",
      "  1.15254011e-40 9.61607812e-45 5.05081425e-49 1.67011468e-53\n",
      "  3.47658354e-58 4.55596654e-63]]\n"
     ]
    }
   ],
   "source": [
    "# grid_1 = n2g.convert(-1.2)\n",
    "grid_1 = n2g.convert([[-1.2]])\n",
    "print(grid_1)"
   ]
  },
  {
   "cell_type": "code",
   "execution_count": 31,
   "id": "48203fe2",
   "metadata": {},
   "outputs": [
    {
     "data": {
      "text/plain": [
       "array([-1.2])"
      ]
     },
     "execution_count": 31,
     "metadata": {},
     "output_type": "execute_result"
    }
   ],
   "source": [
    "n2g.inv_convert(grid_1)"
   ]
  },
  {
   "cell_type": "code",
   "execution_count": 32,
   "id": "a741b6d1",
   "metadata": {},
   "outputs": [
    {
     "data": {
      "text/plain": [
       "(array([-1.2]), array([6.]))"
      ]
     },
     "execution_count": 32,
     "metadata": {},
     "output_type": "execute_result"
    }
   ],
   "source": [
    "n2g.get_statistic(grid_1)"
   ]
  },
  {
   "cell_type": "markdown",
   "id": "bdc0b9a0",
   "metadata": {},
   "source": [
    "### Convert the labels to grid (pre-processing)"
   ]
  },
  {
   "cell_type": "code",
   "execution_count": 33,
   "id": "39c7fa96",
   "metadata": {},
   "outputs": [],
   "source": [
    "y_train_grid = n2g.convert(y_train)\n",
    "y_valid_grid = n2g.convert(y_valid)"
   ]
  },
  {
   "cell_type": "code",
   "execution_count": 34,
   "id": "f577a751",
   "metadata": {},
   "outputs": [
    {
     "name": "stdout",
     "output_type": "stream",
     "text": [
      "(80, 50)\n",
      "(20, 50)\n"
     ]
    }
   ],
   "source": [
    "print(y_train_grid.shape)\n",
    "print(y_valid_grid.shape)"
   ]
  },
  {
   "cell_type": "code",
   "execution_count": 35,
   "id": "71610af1",
   "metadata": {},
   "outputs": [
    {
     "name": "stdout",
     "output_type": "stream",
     "text": [
      "X.shape = (None, 1)\n",
      "gauss_grid.shape = (None, 5)\n"
     ]
    },
    {
     "name": "stderr",
     "output_type": "stream",
     "text": [
      "C:\\Users\\benso\\anaconda3\\envs\\ml\\lib\\site-packages\\keras\\optimizer_v2\\gradient_descent.py:102: UserWarning: The `lr` argument is deprecated, use `learning_rate` instead.\n",
      "  super(SGD, self).__init__(name, **kwargs)\n"
     ]
    }
   ],
   "source": [
    "model = keras.models.Sequential([\n",
    "#     keras.layers.Dense(30, activation=\"relu\", input_shape=X_train.shape[1:]),\n",
    "    num2grid(5,x_min=-10, x_max=10, sigma=3.0, input_shape=X_train.shape[1:]),\n",
    "    keras.layers.Dense(30, activation=\"relu\"),\n",
    "#     keras.layers.Dense(100, activation=\"relu\", kernel_regularizer=tf.keras.regularizers.l1(0.01)),\n",
    "    keras.layers.Dense(class_num, activation=\"softmax\"),\n",
    "])\n",
    "\n",
    "optimizer = keras.optimizers.SGD(lr=0.2, momentum=0.9)\n",
    "model.compile(loss=\"categorical_crossentropy\", optimizer=optimizer)"
   ]
  },
  {
   "cell_type": "code",
   "execution_count": 36,
   "id": "e2244aee",
   "metadata": {
    "scrolled": true
   },
   "outputs": [
    {
     "name": "stdout",
     "output_type": "stream",
     "text": [
      "Epoch 1/100\n",
      "X.shape = (None, 1)\n",
      "gauss_grid.shape = (None, 5)\n",
      "X.shape = (None, 1)\n",
      "gauss_grid.shape = (None, 5)\n",
      "1/3 [=========>....................] - ETA: 1s - loss: 3.9388X.shape = (None, 1)\n",
      "gauss_grid.shape = (None, 5)\n",
      "3/3 [==============================] - 1s 108ms/step - loss: 3.9407 - val_loss: 3.8874\n",
      "Epoch 2/100\n",
      "3/3 [==============================] - 0s 21ms/step - loss: 3.8885 - val_loss: 3.8472\n",
      "Epoch 3/100\n",
      "3/3 [==============================] - 0s 35ms/step - loss: 3.8164 - val_loss: 3.8067\n",
      "Epoch 4/100\n",
      "3/3 [==============================] - 0s 49ms/step - loss: 3.7384 - val_loss: 3.7659\n",
      "Epoch 5/100\n",
      "3/3 [==============================] - 0s 22ms/step - loss: 3.6496 - val_loss: 3.7272\n",
      "Epoch 6/100\n",
      "3/3 [==============================] - 0s 21ms/step - loss: 3.5725 - val_loss: 3.6920\n",
      "Epoch 7/100\n",
      "3/3 [==============================] - 0s 33ms/step - loss: 3.4900 - val_loss: 3.6392\n",
      "Epoch 8/100\n",
      "3/3 [==============================] - 0s 38ms/step - loss: 3.3847 - val_loss: 3.5437\n",
      "Epoch 9/100\n",
      "3/3 [==============================] - 0s 22ms/step - loss: 3.2829 - val_loss: 3.4268\n",
      "Epoch 10/100\n",
      "3/3 [==============================] - 0s 17ms/step - loss: 3.1888 - val_loss: 3.3186\n",
      "Epoch 11/100\n",
      "3/3 [==============================] - 0s 25ms/step - loss: 3.1189 - val_loss: 3.2152\n",
      "Epoch 12/100\n",
      "3/3 [==============================] - 0s 32ms/step - loss: 3.0753 - val_loss: 3.1393\n",
      "Epoch 13/100\n",
      "3/3 [==============================] - 0s 28ms/step - loss: 3.0307 - val_loss: 3.0895\n",
      "Epoch 14/100\n",
      "3/3 [==============================] - 0s 29ms/step - loss: 2.9945 - val_loss: 3.0576\n",
      "Epoch 15/100\n",
      "3/3 [==============================] - 0s 23ms/step - loss: 2.9661 - val_loss: 3.0254\n",
      "Epoch 16/100\n",
      "3/3 [==============================] - 0s 23ms/step - loss: 2.9392 - val_loss: 3.0172\n",
      "Epoch 17/100\n",
      "3/3 [==============================] - 0s 17ms/step - loss: 2.9215 - val_loss: 3.0163\n",
      "Epoch 18/100\n",
      "3/3 [==============================] - 0s 20ms/step - loss: 2.8857 - val_loss: 3.0470\n",
      "Epoch 19/100\n",
      "3/3 [==============================] - 0s 26ms/step - loss: 2.8608 - val_loss: 3.0988\n",
      "Epoch 20/100\n",
      "3/3 [==============================] - 0s 21ms/step - loss: 2.8475 - val_loss: 3.0656\n",
      "Epoch 21/100\n",
      "3/3 [==============================] - 0s 24ms/step - loss: 2.8130 - val_loss: 2.9568\n",
      "Epoch 22/100\n",
      "3/3 [==============================] - 0s 22ms/step - loss: 2.7889 - val_loss: 2.9075\n",
      "Epoch 23/100\n",
      "3/3 [==============================] - 0s 20ms/step - loss: 2.7776 - val_loss: 2.8879\n",
      "Epoch 24/100\n",
      "3/3 [==============================] - 0s 21ms/step - loss: 2.7514 - val_loss: 2.8904\n",
      "Epoch 25/100\n",
      "3/3 [==============================] - 0s 17ms/step - loss: 2.7310 - val_loss: 2.9035\n",
      "Epoch 26/100\n",
      "3/3 [==============================] - 0s 19ms/step - loss: 2.7090 - val_loss: 2.8789\n",
      "Epoch 27/100\n",
      "3/3 [==============================] - 0s 24ms/step - loss: 2.6890 - val_loss: 2.8728\n",
      "Epoch 28/100\n",
      "3/3 [==============================] - 0s 19ms/step - loss: 2.6734 - val_loss: 2.8765\n",
      "Epoch 29/100\n",
      "3/3 [==============================] - 0s 21ms/step - loss: 2.6539 - val_loss: 2.8354\n",
      "Epoch 30/100\n",
      "3/3 [==============================] - 0s 23ms/step - loss: 2.6405 - val_loss: 2.8139\n",
      "Epoch 31/100\n",
      "3/3 [==============================] - 0s 21ms/step - loss: 2.6310 - val_loss: 2.8133\n",
      "Epoch 32/100\n",
      "3/3 [==============================] - 0s 18ms/step - loss: 2.6142 - val_loss: 2.8269\n",
      "Epoch 33/100\n",
      "3/3 [==============================] - 0s 28ms/step - loss: 2.6030 - val_loss: 2.8229\n",
      "Epoch 34/100\n",
      "3/3 [==============================] - 0s 29ms/step - loss: 2.5941 - val_loss: 2.7838\n",
      "Epoch 35/100\n",
      "3/3 [==============================] - 0s 25ms/step - loss: 2.5927 - val_loss: 2.7123\n",
      "Epoch 36/100\n",
      "3/3 [==============================] - 0s 19ms/step - loss: 2.5877 - val_loss: 2.7256\n",
      "Epoch 37/100\n",
      "3/3 [==============================] - 0s 25ms/step - loss: 2.5679 - val_loss: 2.8170\n",
      "Epoch 38/100\n",
      "3/3 [==============================] - 0s 19ms/step - loss: 2.5704 - val_loss: 2.8429\n",
      "Epoch 39/100\n",
      "3/3 [==============================] - 0s 20ms/step - loss: 2.5704 - val_loss: 2.7820\n",
      "Epoch 40/100\n",
      "3/3 [==============================] - 0s 18ms/step - loss: 2.5471 - val_loss: 2.7432\n",
      "Epoch 41/100\n",
      "3/3 [==============================] - 0s 18ms/step - loss: 2.5418 - val_loss: 2.7152\n",
      "Epoch 42/100\n",
      "3/3 [==============================] - 0s 22ms/step - loss: 2.5446 - val_loss: 2.7046\n",
      "Epoch 43/100\n",
      "3/3 [==============================] - 0s 19ms/step - loss: 2.5359 - val_loss: 2.7129\n",
      "Epoch 44/100\n",
      "3/3 [==============================] - 0s 17ms/step - loss: 2.5326 - val_loss: 2.6797\n",
      "Epoch 45/100\n",
      "3/3 [==============================] - 0s 18ms/step - loss: 2.5233 - val_loss: 2.6460\n",
      "Epoch 46/100\n",
      "3/3 [==============================] - 0s 21ms/step - loss: 2.5188 - val_loss: 2.6859\n",
      "Epoch 47/100\n",
      "3/3 [==============================] - 0s 24ms/step - loss: 2.5065 - val_loss: 2.7346\n",
      "Epoch 48/100\n",
      "3/3 [==============================] - 0s 21ms/step - loss: 2.4965 - val_loss: 2.7584\n",
      "Epoch 49/100\n",
      "3/3 [==============================] - 0s 20ms/step - loss: 2.5059 - val_loss: 2.7219\n",
      "Epoch 50/100\n",
      "3/3 [==============================] - 0s 23ms/step - loss: 2.4925 - val_loss: 2.6034\n",
      "Epoch 51/100\n",
      "3/3 [==============================] - 0s 24ms/step - loss: 2.4941 - val_loss: 2.6108\n",
      "Epoch 52/100\n",
      "3/3 [==============================] - 0s 26ms/step - loss: 2.4863 - val_loss: 2.6841\n",
      "Epoch 53/100\n",
      "3/3 [==============================] - 0s 23ms/step - loss: 2.4916 - val_loss: 2.7220\n",
      "Epoch 54/100\n",
      "3/3 [==============================] - 0s 25ms/step - loss: 2.4839 - val_loss: 2.6820\n",
      "Epoch 55/100\n",
      "3/3 [==============================] - 0s 19ms/step - loss: 2.4766 - val_loss: 2.6168\n",
      "Epoch 56/100\n",
      "3/3 [==============================] - 0s 16ms/step - loss: 2.4936 - val_loss: 2.6237\n",
      "Epoch 57/100\n",
      "3/3 [==============================] - 0s 18ms/step - loss: 2.4775 - val_loss: 2.6433\n",
      "Epoch 58/100\n",
      "3/3 [==============================] - 0s 18ms/step - loss: 2.4568 - val_loss: 2.5786\n",
      "Epoch 59/100\n",
      "3/3 [==============================] - 0s 24ms/step - loss: 2.4707 - val_loss: 2.5805\n",
      "Epoch 60/100\n",
      "3/3 [==============================] - 0s 27ms/step - loss: 2.4527 - val_loss: 2.7073\n",
      "Epoch 61/100\n",
      "3/3 [==============================] - 0s 21ms/step - loss: 2.4712 - val_loss: 2.7435\n",
      "Epoch 62/100\n",
      "3/3 [==============================] - 0s 18ms/step - loss: 2.4697 - val_loss: 2.6726\n",
      "Epoch 63/100\n",
      "3/3 [==============================] - 0s 21ms/step - loss: 2.4516 - val_loss: 2.5950\n",
      "Epoch 64/100\n",
      "3/3 [==============================] - 0s 21ms/step - loss: 2.4490 - val_loss: 2.5699\n",
      "Epoch 65/100\n",
      "3/3 [==============================] - 0s 21ms/step - loss: 2.4381 - val_loss: 2.5860\n",
      "Epoch 66/100\n",
      "3/3 [==============================] - 0s 23ms/step - loss: 2.4404 - val_loss: 2.6316\n",
      "Epoch 67/100\n",
      "3/3 [==============================] - 0s 24ms/step - loss: 2.4405 - val_loss: 2.6818\n",
      "Epoch 68/100\n",
      "3/3 [==============================] - 0s 20ms/step - loss: 2.4322 - val_loss: 2.6155\n",
      "Epoch 69/100\n",
      "3/3 [==============================] - 0s 21ms/step - loss: 2.4454 - val_loss: 2.5877\n",
      "Epoch 70/100\n",
      "3/3 [==============================] - 0s 19ms/step - loss: 2.4479 - val_loss: 2.6322\n",
      "Epoch 71/100\n",
      "3/3 [==============================] - 0s 18ms/step - loss: 2.4365 - val_loss: 2.6220\n",
      "Epoch 72/100\n",
      "3/3 [==============================] - 0s 34ms/step - loss: 2.4294 - val_loss: 2.5746\n",
      "Epoch 73/100\n",
      "3/3 [==============================] - 0s 21ms/step - loss: 2.4486 - val_loss: 2.5615\n",
      "Epoch 74/100\n",
      "3/3 [==============================] - 0s 20ms/step - loss: 2.4232 - val_loss: 2.6776\n",
      "Epoch 75/100\n",
      "3/3 [==============================] - 0s 20ms/step - loss: 2.4435 - val_loss: 2.7003\n",
      "Epoch 76/100\n",
      "3/3 [==============================] - 0s 22ms/step - loss: 2.4336 - val_loss: 2.7135\n",
      "Epoch 77/100\n",
      "3/3 [==============================] - 0s 24ms/step - loss: 2.4283 - val_loss: 2.6061\n",
      "Epoch 78/100\n",
      "3/3 [==============================] - 0s 23ms/step - loss: 2.4494 - val_loss: 2.5370\n",
      "Epoch 79/100\n",
      "3/3 [==============================] - 0s 20ms/step - loss: 2.4351 - val_loss: 2.6393\n",
      "Epoch 80/100\n",
      "3/3 [==============================] - 0s 19ms/step - loss: 2.4255 - val_loss: 2.6987\n",
      "Epoch 81/100\n"
     ]
    },
    {
     "name": "stdout",
     "output_type": "stream",
     "text": [
      "3/3 [==============================] - 0s 21ms/step - loss: 2.4373 - val_loss: 2.6468\n",
      "Epoch 82/100\n",
      "3/3 [==============================] - 0s 18ms/step - loss: 2.4086 - val_loss: 2.6448\n",
      "Epoch 83/100\n",
      "3/3 [==============================] - 0s 20ms/step - loss: 2.4215 - val_loss: 2.6580\n",
      "Epoch 84/100\n",
      "3/3 [==============================] - 0s 19ms/step - loss: 2.4118 - val_loss: 2.5228\n",
      "Epoch 85/100\n",
      "3/3 [==============================] - 0s 21ms/step - loss: 2.4025 - val_loss: 2.5222\n",
      "Epoch 86/100\n",
      "3/3 [==============================] - 0s 24ms/step - loss: 2.4158 - val_loss: 2.5824\n",
      "Epoch 87/100\n",
      "3/3 [==============================] - 0s 15ms/step - loss: 2.4043 - val_loss: 2.6397\n",
      "Epoch 88/100\n",
      "3/3 [==============================] - 0s 20ms/step - loss: 2.3985 - val_loss: 2.6339\n",
      "Epoch 89/100\n",
      "3/3 [==============================] - 0s 24ms/step - loss: 2.4133 - val_loss: 2.5882\n",
      "Epoch 90/100\n",
      "3/3 [==============================] - 0s 27ms/step - loss: 2.4098 - val_loss: 2.5572\n",
      "Epoch 91/100\n",
      "3/3 [==============================] - 0s 24ms/step - loss: 2.4142 - val_loss: 2.5463\n",
      "Epoch 92/100\n",
      "3/3 [==============================] - 0s 28ms/step - loss: 2.3985 - val_loss: 2.5119\n",
      "Epoch 93/100\n",
      "3/3 [==============================] - 0s 29ms/step - loss: 2.4090 - val_loss: 2.5252\n",
      "Epoch 94/100\n",
      "3/3 [==============================] - 0s 26ms/step - loss: 2.3885 - val_loss: 2.6003\n",
      "Epoch 95/100\n",
      "3/3 [==============================] - 0s 21ms/step - loss: 2.3863 - val_loss: 2.6157\n",
      "Epoch 96/100\n",
      "3/3 [==============================] - 0s 20ms/step - loss: 2.3868 - val_loss: 2.5951\n",
      "Epoch 97/100\n",
      "3/3 [==============================] - 0s 23ms/step - loss: 2.3951 - val_loss: 2.5998\n",
      "Epoch 98/100\n",
      "3/3 [==============================] - 0s 22ms/step - loss: 2.3885 - val_loss: 2.5788\n",
      "Epoch 99/100\n",
      "3/3 [==============================] - 0s 15ms/step - loss: 2.3943 - val_loss: 2.5695\n",
      "Epoch 100/100\n",
      "3/3 [==============================] - 0s 18ms/step - loss: 2.3893 - val_loss: 2.5301\n"
     ]
    }
   ],
   "source": [
    "history = model.fit(X_train, y_train_grid, epochs=100,\n",
    "                    validation_data=(X_valid, y_valid_grid))"
   ]
  },
  {
   "cell_type": "code",
   "execution_count": 37,
   "id": "390834c9",
   "metadata": {},
   "outputs": [
    {
     "name": "stdout",
     "output_type": "stream",
     "text": [
      "Saving figure grid_rbc_training_curve\n"
     ]
    },
    {
     "data": {
      "image/png": "[encoded data removed]",
      "text/plain": [
       "<Figure size 576x360 with 1 Axes>"
      ]
     },
     "metadata": {
      "needs_background": "light"
     },
     "output_type": "display_data"
    }
   ],
   "source": [
    "import pandas as pd\n",
    "\n",
    "pd.DataFrame(history.history).plot(figsize=(8, 5))\n",
    "plt.grid(True)\n",
    "# plt.gca().set_ylim(0, 1)\n",
    "save_fig(\"grid_rbc_training_curve\")\n",
    "plt.show()"
   ]
  },
  {
   "cell_type": "code",
   "execution_count": 38,
   "id": "6fba3b6a",
   "metadata": {},
   "outputs": [
    {
     "name": "stdout",
     "output_type": "stream",
     "text": [
      "X.shape = (None, 1)\n",
      "gauss_grid.shape = (None, 5)\n",
      "Saving figure grid_rbc_prediction\n"
     ]
    },
    {
     "data": {
      "image/png": "[encoded data removed]",
      "text/plain": [
       "<Figure size 432x288 with 1 Axes>"
      ]
     },
     "metadata": {
      "needs_background": "light"
     },
     "output_type": "display_data"
    }
   ],
   "source": [
    "# X_new = np.linspace(-5, 5, 100).reshape(100, 1)\n",
    "# y_new_proba = model.predict(X_new)\n",
    "# y_new = n2g.inv_convert(y_new_proba)\n",
    "#\n",
    "# plt.plot(X_train, y_train, \"b.\")\n",
    "draw_points(X_train, y_train, sid_train)\n",
    "# plt.plot(X_new, y_new, \"r-\", linewidth=2, label=\"Predictions\")\n",
    "draw_func((lambda X: n2g.inv_convert(model.predict(X)) ), mark='r-', linewidth=2, label=\"Predictions\")\n",
    "draw_normal_func(func_dict)\n",
    "plt.xlabel(\"$x_1$\", fontsize=18)\n",
    "plt.ylabel(\"$y$\", rotation=0, fontsize=18)\n",
    "plt.legend(loc=\"upper left\", fontsize=14)\n",
    "# plt.axis([-3, 3, 0, 10])\n",
    "save_fig(\"grid_rbc_prediction\")\n",
    "plt.show()"
   ]
  },
  {
   "cell_type": "code",
   "execution_count": 39,
   "id": "fc059ba5",
   "metadata": {},
   "outputs": [
    {
     "name": "stdout",
     "output_type": "stream",
     "text": [
      "y_func.shape = (100, 1)\n",
      "y_gt.shape = (100, 1)\n"
     ]
    },
    {
     "data": {
      "text/plain": [
       "3.5885120184087214"
      ]
     },
     "execution_count": 39,
     "metadata": {},
     "output_type": "execute_result"
    }
   ],
   "source": [
    "get_prediction_error((lambda X: n2g.inv_convert(model.predict(X)) ), func_dict, name=\"grid-rbc\")"
   ]
  },
  {
   "cell_type": "code",
   "execution_count": 40,
   "id": "edcf26db",
   "metadata": {},
   "outputs": [
    {
     "name": "stdout",
     "output_type": "stream",
     "text": [
      "Saving figure grid_rbc_proba\n"
     ]
    },
    {
     "data": {
      "image/png": "[encoded data removed]",
      "text/plain": [
       "<Figure size 432x288 with 1 Axes>"
      ]
     },
     "metadata": {
      "needs_background": "light"
     },
     "output_type": "display_data"
    }
   ],
   "source": [
    "X_new = np.linspace(-5, 5, 100).reshape(100, 1)\n",
    "y_new_proba = model.predict(X_new)\n",
    "# y_new = n2g.inv_convert(y_new_proba)\n",
    "#\n",
    "xv, yv = np.meshgrid(X_new, np.linspace(n2g.x_min, n2g.x_max, n2g.units))\n",
    "# print(xv)\n",
    "# print(yv)\n",
    "plt.pcolormesh(xv, yv, y_new_proba.T, shading=\"nearest\")\n",
    "save_fig(\"grid_rbc_proba\")"
   ]
  },
  {
   "cell_type": "markdown",
   "id": "4064d3b5",
   "metadata": {},
   "source": [
    "### Draw the 1-sigma boundary line"
   ]
  },
  {
   "cell_type": "code",
   "execution_count": 41,
   "id": "247e8712",
   "metadata": {},
   "outputs": [
    {
     "name": "stdout",
     "output_type": "stream",
     "text": [
      "Saving figure grid_rbc_prediction_1sigma\n"
     ]
    },
    {
     "data": {
      "image/png": "[encoded data removed]",
      "text/plain": [
       "<Figure size 432x288 with 1 Axes>"
      ]
     },
     "metadata": {
      "needs_background": "light"
     },
     "output_type": "display_data"
    }
   ],
   "source": [
    "def n_sigma_boundary_line(X, n):\n",
    "    _mean, _sigma = n2g.get_statistic(model.predict(X))\n",
    "    return( _mean + n*_sigma)\n",
    "\n",
    "# plt.plot(X_train, y_train, \"b.\")\n",
    "draw_points(X_train, y_train, sid_train)\n",
    "#\n",
    "draw_func((lambda X: n2g.inv_convert(model.predict(X)) ), mark='r-', linewidth=2, label=\"Predictions\")\n",
    "draw_func((lambda X: n_sigma_boundary_line(X, +1.0) ), mark='k--', linewidth=1, label=\"$\\mu+\\sigma$\")\n",
    "draw_func((lambda X: n_sigma_boundary_line(X, -1.0) ), mark='k--', linewidth=1, label=\"$\\mu-\\sigma$\")\n",
    "#\n",
    "draw_normal_func(func_dict)\n",
    "plt.xlabel(\"$x_1$\", fontsize=18)\n",
    "plt.ylabel(\"$y$\", rotation=0, fontsize=18)\n",
    "plt.legend(loc=\"upper left\", fontsize=14)\n",
    "# plt.axis([-3, 3, 0, 10])\n",
    "save_fig(\"grid_rbc_prediction_1sigma\")\n",
    "plt.show()"
   ]
  },
  {
   "cell_type": "code",
   "execution_count": null,
   "id": "e6266336",
   "metadata": {},
   "outputs": [],
   "source": []
  },
  {
   "cell_type": "markdown",
   "id": "99a85ab5",
   "metadata": {},
   "source": [
    "# Grid & Regression by Classification + Offset Estimation (grid --> grid,num)"
   ]
  },
  {
   "cell_type": "code",
   "execution_count": 42,
   "id": "26440167",
   "metadata": {},
   "outputs": [],
   "source": [
    "class num2gridOffset_np():\n",
    "    def __init__(self, units, x_min=-10, x_max=10):\n",
    "        self.units = units\n",
    "        self.x_min = x_min\n",
    "        self.x_max = x_max\n",
    "        self.x_grid = np.linspace(self.x_min, self.x_max, self.units, endpoint=True)\n",
    "        # bins\n",
    "        x_space = np.average(self.x_grid[1:] - self.x_grid[:-1])\n",
    "        print(\"x_space = %f\" % x_space)\n",
    "        x_0 = self.x_grid[0] - 0.5 * x_space\n",
    "        self.x_bins = [x_0 + _i*x_space for _i in range(len(self.x_grid)+1)]\n",
    "        print(\"self.x_grid = %s\" % str(self.x_grid))\n",
    "#         print(\"self.x_bins = %s\" % str(self.x_bins))\n",
    "        \n",
    "    def convert(self, X):\n",
    "        '''\n",
    "        Convert a batch of number to one-hot class and numerical offset to each grid's center\n",
    "        (m, 1) --> (m, n_units, 2)\n",
    "        '''\n",
    "        X = np.array(X)\n",
    "        if len(X.shape) <= 1:\n",
    "            X = X.reshape((-1,1))\n",
    "        idxs_bin = np.digitize(X, self.x_bins, right=False) \n",
    "        idxs_grid = (idxs_bin - 1) + 1*(idxs_bin<= 0) - 1*(idxs_bin>=self.units)\n",
    "        print(idxs_grid.shape)\n",
    "        #\n",
    "        batch_size = X.shape[0]\n",
    "        grid = np.zeros((batch_size, self.units, 2))\n",
    "        # Fill in the values\n",
    "        grid[np.arange(batch_size), idxs_grid.reshape((-1,)), 0] = 1.0\n",
    "        grid[np.arange(batch_size), :, 1] = X - self.x_grid.reshape((1,-1)) # Offset\n",
    "        return grid\n",
    "    \n",
    "    def inv_convert(self, grid):\n",
    "        idxs_grid = np.argmax(grid[...,0], axis=1)\n",
    "        print(idxs_grid.shape)\n",
    "        #\n",
    "        batch_size = grid.shape[0]\n",
    "        offset_est = grid[np.arange(batch_size),idxs_grid,1]\n",
    "        print(offset_est.shape)\n",
    "        num_est = self.x_grid[idxs_grid].reshape((1,-1)) + offset_est\n",
    "        return num_est.reshape((-1,))"
   ]
  },
  {
   "cell_type": "code",
   "execution_count": 43,
   "id": "8b15e9ff",
   "metadata": {},
   "outputs": [
    {
     "name": "stdout",
     "output_type": "stream",
     "text": [
      "x_space = 22.222222\n",
      "self.x_grid = [-100.          -77.77777778  -55.55555556  -33.33333333  -11.11111111\n",
      "   11.11111111   33.33333333   55.55555556   77.77777778  100.        ]\n"
     ]
    }
   ],
   "source": [
    "class_num = 10 # 10\n",
    "n2go = num2gridOffset_np(class_num, x_min=-100.0, x_max=100.0) "
   ]
  },
  {
   "cell_type": "code",
   "execution_count": 44,
   "id": "8f6e7955",
   "metadata": {},
   "outputs": [
    {
     "name": "stdout",
     "output_type": "stream",
     "text": [
      "(2, 1)\n",
      "[[[   0.           98.8       ]\n",
      "  [   0.           76.57777778]\n",
      "  [   0.           54.35555556]\n",
      "  [   0.           32.13333333]\n",
      "  [   1.            9.91111111]\n",
      "  [   0.          -12.31111111]\n",
      "  [   0.          -34.53333333]\n",
      "  [   0.          -56.75555556]\n",
      "  [   0.          -78.97777778]\n",
      "  [   0.         -101.2       ]]\n",
      "\n",
      " [[   0.          150.5       ]\n",
      "  [   0.          128.27777778]\n",
      "  [   0.          106.05555556]\n",
      "  [   0.           83.83333333]\n",
      "  [   0.           61.61111111]\n",
      "  [   0.           39.38888889]\n",
      "  [   0.           17.16666667]\n",
      "  [   1.           -5.05555556]\n",
      "  [   0.          -27.27777778]\n",
      "  [   0.          -49.5       ]]]\n"
     ]
    }
   ],
   "source": [
    "# grid_1 = n2g.convert(-1.2)\n",
    "grid_1 = n2go.convert([[-1.2], [50.5]])\n",
    "print(grid_1)"
   ]
  },
  {
   "cell_type": "code",
   "execution_count": 45,
   "id": "48840dc5",
   "metadata": {},
   "outputs": [
    {
     "name": "stdout",
     "output_type": "stream",
     "text": [
      "(2,)\n",
      "(2,)\n"
     ]
    },
    {
     "data": {
      "text/plain": [
       "array([-1.2, 50.5])"
      ]
     },
     "execution_count": 45,
     "metadata": {},
     "output_type": "execute_result"
    }
   ],
   "source": [
    "n2go.inv_convert(grid_1)"
   ]
  },
  {
   "cell_type": "markdown",
   "id": "11683cea",
   "metadata": {},
   "source": [
    "### Convert the labels to grid (pre-processing)"
   ]
  },
  {
   "cell_type": "code",
   "execution_count": 46,
   "id": "472997cf",
   "metadata": {},
   "outputs": [
    {
     "name": "stdout",
     "output_type": "stream",
     "text": [
      "(80, 1)\n",
      "(20, 1)\n"
     ]
    }
   ],
   "source": [
    "y_train_grid_offset = n2go.convert(y_train)\n",
    "y_valid_grid_offset = n2go.convert(y_valid)"
   ]
  },
  {
   "cell_type": "code",
   "execution_count": 47,
   "id": "71f08d76",
   "metadata": {},
   "outputs": [
    {
     "name": "stdout",
     "output_type": "stream",
     "text": [
      "(80, 10, 2)\n",
      "(20, 10, 2)\n"
     ]
    }
   ],
   "source": [
    "print(y_train_grid_offset.shape)\n",
    "print(y_valid_grid_offset.shape)"
   ]
  },
  {
   "cell_type": "code",
   "execution_count": 48,
   "id": "84b5b833",
   "metadata": {},
   "outputs": [
    {
     "name": "stdout",
     "output_type": "stream",
     "text": [
      "X.shape = (None, 1)\n",
      "gauss_grid.shape = (None, 5)\n"
     ]
    }
   ],
   "source": [
    "inputs = keras.layers.Input(shape=X_train.shape[1:])\n",
    "#\n",
    "z = num2grid(5,x_min=-10, x_max=10, sigma=3.0)(inputs)\n",
    "z = keras.layers.Dense(30, activation=\"selu\")(z)\n",
    "# Outputs\n",
    "z_proba = keras.layers.Dense(30, activation=\"relu\")(z)\n",
    "z_proba  = keras.layers.Dense(class_num, activation=\"softmax\")(z_proba)\n",
    "z_offset = keras.layers.Dense(class_num, activation=\"relu\")(z)\n",
    "z_offset = keras.layers.Dense(class_num)(z_offset)\n",
    "# Concatenate\n",
    "z_proba  = keras.layers.Reshape([class_num,1])(z_proba)\n",
    "z_offset = keras.layers.Reshape([class_num,1])(z_offset)\n",
    "out_cat = keras.layers.Concatenate(axis=-1)([z_proba, z_offset])\n",
    "#\n",
    "# Models for trainig and real usage\n",
    "model = keras.Model(inputs=[inputs], outputs=[out_cat])"
   ]
  },
  {
   "cell_type": "code",
   "execution_count": 49,
   "id": "e6482574",
   "metadata": {},
   "outputs": [],
   "source": [
    "# Customized loss function\n",
    "\n",
    "cce = keras.losses.CategoricalCrossentropy(reduction=keras.losses.Reduction.NONE)\n",
    "# cce(y_true, y_pred).numpy()\n",
    "\n",
    "def centerLoss_fn(y_true, y_pred):\n",
    "    #\n",
    "    y_true_proba = y_true[...,0]\n",
    "    y_true_value = y_true[...,1]\n",
    "    #\n",
    "    y_pred_proba = y_pred[...,0]\n",
    "    y_pred_value = y_pred[...,1]\n",
    "    \n",
    "    #\n",
    "    cce_loss = cce(y_true_proba, y_pred_proba) / class_num\n",
    "    #\n",
    "    y_true_value_est = tf.reduce_sum((y_true_proba * y_true_value), axis=-1)\n",
    "    y_pred_value_est = tf.reduce_sum((y_true_proba * y_pred_value), axis=-1)\n",
    "#     y_pred_value_est = tf.reduce_sum((y_pred_proba * y_pred_value), axis=-1)\n",
    "    value_loss = tf.abs(y_pred_value_est - y_true_value_est)\n",
    "    \n",
    "    # Total loss\n",
    "#     return (0.5*cce_loss + 0.5*value_loss )\n",
    "    return (0.2*cce_loss + 0.8*value_loss )\n",
    "#     return (cce_loss)\n",
    "#     return (value_loss )"
   ]
  },
  {
   "cell_type": "code",
   "execution_count": 50,
   "id": "60575755",
   "metadata": {},
   "outputs": [
    {
     "name": "stderr",
     "output_type": "stream",
     "text": [
      "C:\\Users\\benso\\anaconda3\\envs\\ml\\lib\\site-packages\\keras\\optimizer_v2\\adam.py:105: UserWarning: The `lr` argument is deprecated, use `learning_rate` instead.\n",
      "  super(Adam, self).__init__(name, **kwargs)\n"
     ]
    }
   ],
   "source": [
    "# optimizer = keras.optimizers.SGD(lr=0.1, momentum=0.9)\n",
    "optimizer = keras.optimizers.Adam(lr=0.05)\n",
    "model.compile(loss=centerLoss_fn, optimizer=optimizer)"
   ]
  },
  {
   "cell_type": "code",
   "execution_count": 51,
   "id": "09bc47a5",
   "metadata": {
    "scrolled": true
   },
   "outputs": [],
   "source": [
    "# history = model.fit(X_train, y_train_grid_offset, epochs=100,\n",
    "#                     validation_data=(X_valid, y_valid_grid_offset))"
   ]
  },
  {
   "cell_type": "code",
   "execution_count": 52,
   "id": "7ba1fe76",
   "metadata": {},
   "outputs": [],
   "source": [
    "# import pandas as pd\n",
    "\n",
    "# pd.DataFrame(history.history).plot(figsize=(8, 5))\n",
    "# plt.grid(True)\n",
    "# # plt.gca().set_ylim(0, 1)\n",
    "# save_fig(\"grid_rbcOffset_training_curve\")\n",
    "# plt.show()"
   ]
  },
  {
   "cell_type": "code",
   "execution_count": 53,
   "id": "47db8336",
   "metadata": {
    "scrolled": false
   },
   "outputs": [],
   "source": [
    "# # plt.plot(X_train, y_train, \"b.\")\n",
    "# draw_points(X_train, y_train, sid_train)\n",
    "# draw_func((lambda X: n2go.inv_convert(model.predict(X)) ), mark='r-', linewidth=2, label=\"Predictions\")\n",
    "# draw_normal_func(func_dict)\n",
    "# plt.xlabel(\"$x_1$\", fontsize=18)\n",
    "# plt.ylabel(\"$y$\", rotation=0, fontsize=18)\n",
    "# plt.legend(loc=\"upper left\", fontsize=14)\n",
    "# # plt.axis([-3, 3, 0, 10])\n",
    "# save_fig(\"grid_rbcOffset_prediction\")\n",
    "# plt.show()"
   ]
  },
  {
   "cell_type": "code",
   "execution_count": 54,
   "id": "46a1a384",
   "metadata": {},
   "outputs": [],
   "source": [
    "# get_prediction_error((lambda X: n2go.inv_convert(model.predict(X)) ), func_dict, name=\"grid-classOffset\")"
   ]
  },
  {
   "cell_type": "code",
   "execution_count": null,
   "id": "fff995a6",
   "metadata": {},
   "outputs": [],
   "source": []
  },
  {
   "cell_type": "markdown",
   "id": "a811f344",
   "metadata": {},
   "source": [
    "# Parametric Uncertainty/Distribution Estimation\n",
    "\n",
    "In this section, we try to estimate uncertainty (actually, fit the dataset distribution) with parametric reprecentation of a distribution instead of a discretized non-parametric representation.\n",
    "\n",
    "Possible solution includes\n",
    "- Quantile estimation with pinball loss (statistic)\n",
    "- Guassian distribution (fit a prabability distribution)"
   ]
  },
  {
   "cell_type": "markdown",
   "id": "175eb32d",
   "metadata": {},
   "source": [
    "## Quantile Estimation with Pinball Loss (grid --> parameters)\n",
    "\n",
    "Quantile estimation and pinball loss is based on the concept of statistic, which predict the value based on the rank of samples in the dataset.\n",
    "\n",
    "The outputs of the model are $(y_{10}, y_{90})$, 10% quantile prediction and 90% quantile prediction, respectively."
   ]
  },
  {
   "cell_type": "code",
   "execution_count": 55,
   "id": "1d1ef92d",
   "metadata": {},
   "outputs": [],
   "source": [
    "# quantile_list = [0.5]\n",
    "# quantile_list = [0.9]\n",
    "quantile_list = [0.1, 0.9] # Use hidden layer with 30 neurons\n",
    "# quantile_list = [0.05, 0.95]\n",
    "# quantile_list = [0.25, 0.75]\n",
    "# quantile_list = [0.1, 0.5, 0.9]\n",
    "# quantile_list = [0.1, 0.3, 0.7, 0.9]\n",
    "# quantile_list = [0.1, 0.2, 0.3, 0.4, 0.6, 0.7, 0.8, 0.9] # remove 0.5\n",
    "# quantile_list = [0.1, 0.2, 0.3, 0.4, 0.5, 0.6, 0.7, 0.8, 0.9] # Should use wider hidden layer (with many neurons) + L1 regularization\n",
    "num_quantile = len(quantile_list)"
   ]
  },
  {
   "cell_type": "code",
   "execution_count": 56,
   "id": "8e3fe57b",
   "metadata": {},
   "outputs": [
    {
     "name": "stdout",
     "output_type": "stream",
     "text": [
      "X.shape = (None, 1)\n",
      "gauss_grid.shape = (None, 5)\n"
     ]
    }
   ],
   "source": [
    "model = keras.models.Sequential([\n",
    "    num2grid(5,x_min=-10, x_max=10, sigma=3.0, input_shape=X_train.shape[1:]), # Convert to grids\n",
    "#     num2grid(50,x_min=-10, x_max=10, sigma=0.5, input_shape=X_train.shape[1:]),\n",
    "    keras.layers.Dense(30, activation=\"relu\"),\n",
    "#     keras.layers.Dense(60, activation=\"relu\"),\n",
    "#     keras.layers.Dense(100, activation=\"selu\", kernel_regularizer=tf.keras.regularizers.l1(0.01)),\n",
    "#     keras.layers.Dense(100, activation=keras.layers.LeakyReLU(alpha=0.2), kernel_regularizer=tf.keras.regularizers.l1(0.01)),\n",
    "#     keras.layers.Dense(30, activation=keras.layers.LeakyReLU(alpha=0.2) ),\n",
    "#     keras.layers.Dense(30, activation=\"selu\"),\n",
    "    keras.layers.Dense(num_quantile) # (y10, y90)\n",
    "])"
   ]
  },
  {
   "cell_type": "code",
   "execution_count": 57,
   "id": "bf131dc7",
   "metadata": {},
   "outputs": [],
   "source": [
    "# Customized loss function\n",
    "def pinballLoss_fn(y_true, y_pred, tau):\n",
    "    # tau: quantile, tau in [0.0, 1.0]\n",
    "    # y_true: label mean\n",
    "    # y_pred: predicted tau quantile\n",
    "    _q = y_true - y_pred\n",
    "    return tf.math.maximum( (tau*_q), ((tau-1.0)*_q))\n",
    "    \n",
    "def pinballLoss_10_90_fn(y_true, y_pred):\n",
    "    #\n",
    "    return pinballLoss_fn(y_true, y_pred[:,0:1], 0.1) + pinballLoss_fn(y_true, y_pred[:,1:2], 0.9)\n",
    "\n",
    "def pinballLoss_full_fn(y_true, y_pred):\n",
    "    #\n",
    "    pinball_losses = tf.stack( [pinballLoss_fn(y_true, y_pred[:, _i:(_i+1)], _tau) for _i, _tau in enumerate(quantile_list)], axis=1)\n",
    "    return tf.reduce_sum(pinball_losses, axis=1)"
   ]
  },
  {
   "cell_type": "code",
   "execution_count": 58,
   "id": "a71305d5",
   "metadata": {},
   "outputs": [],
   "source": [
    "# optimizer = keras.optimizers.SGD(lr=0.1, momentum=0.9)\n",
    "optimizer = keras.optimizers.Adam(lr=0.1)\n",
    "# model.compile(loss=pinballLoss_10_90_fn, optimizer=optimizer)\n",
    "model.compile(loss=pinballLoss_full_fn, optimizer=optimizer)"
   ]
  },
  {
   "cell_type": "code",
   "execution_count": 59,
   "id": "d935c409",
   "metadata": {
    "scrolled": true
   },
   "outputs": [
    {
     "name": "stdout",
     "output_type": "stream",
     "text": [
      "Epoch 1/100\n",
      "X.shape = (None, 1)\n",
      "gauss_grid.shape = (None, 5)\n",
      "X.shape = (None, 1)\n",
      "gauss_grid.shape = (None, 5)\n",
      "1/3 [=========>....................] - ETA: 0s - loss: 38.6234X.shape = (None, 1)\n",
      "gauss_grid.shape = (None, 5)\n",
      "3/3 [==============================] - 1s 96ms/step - loss: 41.0019 - val_loss: 31.2343\n",
      "Epoch 2/100\n",
      "3/3 [==============================] - 0s 17ms/step - loss: 36.4684 - val_loss: 26.0798\n",
      "Epoch 3/100\n",
      "3/3 [==============================] - 0s 39ms/step - loss: 29.4090 - val_loss: 18.9432\n",
      "Epoch 4/100\n",
      "3/3 [==============================] - 0s 44ms/step - loss: 21.0109 - val_loss: 12.5473\n",
      "Epoch 5/100\n",
      "3/3 [==============================] - 0s 26ms/step - loss: 15.6081 - val_loss: 12.2133\n",
      "Epoch 6/100\n",
      "3/3 [==============================] - 0s 44ms/step - loss: 13.7186 - val_loss: 14.0692\n",
      "Epoch 7/100\n",
      "3/3 [==============================] - 0s 28ms/step - loss: 14.7694 - val_loss: 14.3610\n",
      "Epoch 8/100\n",
      "3/3 [==============================] - 0s 50ms/step - loss: 14.7531 - val_loss: 13.1727\n",
      "Epoch 9/100\n",
      "3/3 [==============================] - 0s 35ms/step - loss: 13.6331 - val_loss: 11.5931\n",
      "Epoch 10/100\n",
      "3/3 [==============================] - 0s 24ms/step - loss: 12.1529 - val_loss: 10.5989\n",
      "Epoch 11/100\n",
      "3/3 [==============================] - 0s 37ms/step - loss: 10.4970 - val_loss: 9.6441\n",
      "Epoch 12/100\n",
      "3/3 [==============================] - 0s 25ms/step - loss: 9.1118 - val_loss: 8.3994\n",
      "Epoch 13/100\n",
      "3/3 [==============================] - 0s 21ms/step - loss: 8.8101 - val_loss: 6.9308\n",
      "Epoch 14/100\n",
      "3/3 [==============================] - 0s 22ms/step - loss: 8.1300 - val_loss: 6.1788\n",
      "Epoch 15/100\n",
      "3/3 [==============================] - 0s 18ms/step - loss: 7.3362 - val_loss: 6.3378\n",
      "Epoch 16/100\n",
      "3/3 [==============================] - 0s 19ms/step - loss: 6.7681 - val_loss: 6.3749\n",
      "Epoch 17/100\n",
      "3/3 [==============================] - 0s 28ms/step - loss: 6.3435 - val_loss: 6.1007\n",
      "Epoch 18/100\n",
      "3/3 [==============================] - 0s 27ms/step - loss: 6.0515 - val_loss: 5.5154\n",
      "Epoch 19/100\n",
      "3/3 [==============================] - 0s 18ms/step - loss: 5.6337 - val_loss: 5.2880\n",
      "Epoch 20/100\n",
      "3/3 [==============================] - 0s 30ms/step - loss: 5.5041 - val_loss: 5.6781\n",
      "Epoch 21/100\n",
      "3/3 [==============================] - 0s 17ms/step - loss: 5.5699 - val_loss: 5.2070\n",
      "Epoch 22/100\n",
      "3/3 [==============================] - 0s 20ms/step - loss: 5.2382 - val_loss: 4.3324\n",
      "Epoch 23/100\n",
      "3/3 [==============================] - 0s 25ms/step - loss: 5.1268 - val_loss: 4.1839\n",
      "Epoch 24/100\n",
      "3/3 [==============================] - 0s 23ms/step - loss: 4.9271 - val_loss: 4.3582\n",
      "Epoch 25/100\n",
      "3/3 [==============================] - 0s 23ms/step - loss: 4.7819 - val_loss: 4.5794\n",
      "Epoch 26/100\n",
      "3/3 [==============================] - 0s 19ms/step - loss: 4.8985 - val_loss: 3.9912\n",
      "Epoch 27/100\n",
      "3/3 [==============================] - 0s 23ms/step - loss: 4.6654 - val_loss: 3.6871\n",
      "Epoch 28/100\n",
      "3/3 [==============================] - 0s 26ms/step - loss: 4.6285 - val_loss: 3.6175\n",
      "Epoch 29/100\n",
      "3/3 [==============================] - 0s 23ms/step - loss: 4.5505 - val_loss: 3.9346\n",
      "Epoch 30/100\n",
      "3/3 [==============================] - 0s 22ms/step - loss: 4.4093 - val_loss: 3.8122\n",
      "Epoch 31/100\n",
      "3/3 [==============================] - 0s 22ms/step - loss: 4.2797 - val_loss: 3.9468\n",
      "Epoch 32/100\n",
      "3/3 [==============================] - 0s 27ms/step - loss: 4.1434 - val_loss: 3.9624\n",
      "Epoch 33/100\n",
      "3/3 [==============================] - 0s 24ms/step - loss: 4.0727 - val_loss: 4.0529\n",
      "Epoch 34/100\n",
      "3/3 [==============================] - 0s 26ms/step - loss: 3.9667 - val_loss: 3.7063\n",
      "Epoch 35/100\n",
      "3/3 [==============================] - 0s 22ms/step - loss: 3.9025 - val_loss: 3.6374\n",
      "Epoch 36/100\n",
      "3/3 [==============================] - 0s 23ms/step - loss: 3.8913 - val_loss: 3.7511\n",
      "Epoch 37/100\n",
      "3/3 [==============================] - 0s 20ms/step - loss: 3.8133 - val_loss: 4.1712\n",
      "Epoch 38/100\n",
      "3/3 [==============================] - 0s 24ms/step - loss: 3.8671 - val_loss: 3.6144\n",
      "Epoch 39/100\n",
      "3/3 [==============================] - 0s 22ms/step - loss: 3.5099 - val_loss: 3.3980\n",
      "Epoch 40/100\n",
      "3/3 [==============================] - 0s 21ms/step - loss: 3.6587 - val_loss: 3.3719\n",
      "Epoch 41/100\n",
      "3/3 [==============================] - 0s 21ms/step - loss: 3.5511 - val_loss: 3.9199\n",
      "Epoch 42/100\n",
      "3/3 [==============================] - 0s 23ms/step - loss: 3.5965 - val_loss: 3.4259\n",
      "Epoch 43/100\n",
      "3/3 [==============================] - 0s 23ms/step - loss: 3.3026 - val_loss: 3.1818\n",
      "Epoch 44/100\n",
      "3/3 [==============================] - 0s 23ms/step - loss: 3.3387 - val_loss: 3.2979\n",
      "Epoch 45/100\n",
      "3/3 [==============================] - 0s 24ms/step - loss: 3.5194 - val_loss: 3.5475\n",
      "Epoch 46/100\n",
      "3/3 [==============================] - 0s 26ms/step - loss: 3.3248 - val_loss: 3.5215\n",
      "Epoch 47/100\n",
      "3/3 [==============================] - 0s 26ms/step - loss: 3.4964 - val_loss: 3.4366\n",
      "Epoch 48/100\n",
      "3/3 [==============================] - 0s 25ms/step - loss: 3.2396 - val_loss: 3.1937\n",
      "Epoch 49/100\n",
      "3/3 [==============================] - 0s 26ms/step - loss: 3.0400 - val_loss: 2.8320\n",
      "Epoch 50/100\n",
      "3/3 [==============================] - 0s 18ms/step - loss: 3.1342 - val_loss: 2.7562\n",
      "Epoch 51/100\n",
      "3/3 [==============================] - 0s 16ms/step - loss: 2.9554 - val_loss: 3.1978\n",
      "Epoch 52/100\n",
      "3/3 [==============================] - 0s 20ms/step - loss: 3.0570 - val_loss: 3.4430\n",
      "Epoch 53/100\n",
      "3/3 [==============================] - 0s 28ms/step - loss: 3.0908 - val_loss: 3.0387\n",
      "Epoch 54/100\n",
      "3/3 [==============================] - ETA: 0s - loss: 3.306 - 0s 23ms/step - loss: 2.8947 - val_loss: 2.7043\n",
      "Epoch 55/100\n",
      "3/3 [==============================] - 0s 23ms/step - loss: 3.1222 - val_loss: 2.6263\n",
      "Epoch 56/100\n",
      "3/3 [==============================] - 0s 23ms/step - loss: 3.0301 - val_loss: 2.9174\n",
      "Epoch 57/100\n",
      "3/3 [==============================] - 0s 18ms/step - loss: 3.0159 - val_loss: 3.4729\n",
      "Epoch 58/100\n",
      "3/3 [==============================] - 0s 18ms/step - loss: 3.3583 - val_loss: 3.1984\n",
      "Epoch 59/100\n",
      "3/3 [==============================] - 0s 19ms/step - loss: 2.8980 - val_loss: 2.8102\n",
      "Epoch 60/100\n",
      "3/3 [==============================] - 0s 24ms/step - loss: 2.8169 - val_loss: 2.7449\n",
      "Epoch 61/100\n",
      "3/3 [==============================] - 0s 21ms/step - loss: 2.8182 - val_loss: 2.8030\n",
      "Epoch 62/100\n",
      "3/3 [==============================] - 0s 25ms/step - loss: 2.8473 - val_loss: 3.1009\n",
      "Epoch 63/100\n",
      "3/3 [==============================] - 0s 19ms/step - loss: 2.8167 - val_loss: 2.9730\n",
      "Epoch 64/100\n",
      "3/3 [==============================] - 0s 26ms/step - loss: 2.7151 - val_loss: 2.5283\n",
      "Epoch 65/100\n",
      "3/3 [==============================] - 0s 16ms/step - loss: 2.7143 - val_loss: 2.5825\n",
      "Epoch 66/100\n",
      "3/3 [==============================] - 0s 22ms/step - loss: 2.5723 - val_loss: 2.7050\n",
      "Epoch 67/100\n",
      "3/3 [==============================] - 0s 24ms/step - loss: 2.6230 - val_loss: 2.7155\n",
      "Epoch 68/100\n",
      "3/3 [==============================] - 0s 20ms/step - loss: 2.6036 - val_loss: 2.6773\n",
      "Epoch 69/100\n",
      "3/3 [==============================] - 0s 23ms/step - loss: 2.6170 - val_loss: 2.4930\n",
      "Epoch 70/100\n",
      "3/3 [==============================] - 0s 22ms/step - loss: 2.5688 - val_loss: 2.8045\n",
      "Epoch 71/100\n",
      "3/3 [==============================] - 0s 24ms/step - loss: 2.7637 - val_loss: 2.8612\n",
      "Epoch 72/100\n",
      "3/3 [==============================] - 0s 20ms/step - loss: 2.6992 - val_loss: 2.6406\n",
      "Epoch 73/100\n",
      "3/3 [==============================] - 0s 29ms/step - loss: 2.7208 - val_loss: 2.8520\n",
      "Epoch 74/100\n",
      "3/3 [==============================] - 0s 19ms/step - loss: 2.6767 - val_loss: 2.6654\n",
      "Epoch 75/100\n",
      "3/3 [==============================] - 0s 24ms/step - loss: 2.5612 - val_loss: 2.5863\n",
      "Epoch 76/100\n",
      "3/3 [==============================] - 0s 23ms/step - loss: 2.6235 - val_loss: 2.5455\n",
      "Epoch 77/100\n",
      "3/3 [==============================] - 0s 21ms/step - loss: 2.6224 - val_loss: 2.7273\n",
      "Epoch 78/100\n",
      "3/3 [==============================] - 0s 15ms/step - loss: 2.7510 - val_loss: 3.0628\n",
      "Epoch 79/100\n",
      "3/3 [==============================] - 0s 23ms/step - loss: 2.7689 - val_loss: 2.6083\n",
      "Epoch 80/100\n",
      "3/3 [==============================] - 0s 20ms/step - loss: 2.7536 - val_loss: 2.5462\n",
      "Epoch 81/100\n"
     ]
    },
    {
     "name": "stdout",
     "output_type": "stream",
     "text": [
      "3/3 [==============================] - 0s 24ms/step - loss: 2.6679 - val_loss: 2.6390\n",
      "Epoch 82/100\n",
      "3/3 [==============================] - 0s 21ms/step - loss: 2.6201 - val_loss: 2.6039\n",
      "Epoch 83/100\n",
      "3/3 [==============================] - 0s 21ms/step - loss: 2.5608 - val_loss: 2.5053\n",
      "Epoch 84/100\n",
      "3/3 [==============================] - 0s 21ms/step - loss: 2.5728 - val_loss: 2.5367\n",
      "Epoch 85/100\n",
      "3/3 [==============================] - 0s 24ms/step - loss: 2.4935 - val_loss: 2.6534\n",
      "Epoch 86/100\n",
      "3/3 [==============================] - 0s 29ms/step - loss: 2.6046 - val_loss: 2.7620\n",
      "Epoch 87/100\n",
      "3/3 [==============================] - 0s 19ms/step - loss: 2.6716 - val_loss: 2.6517\n",
      "Epoch 88/100\n",
      "3/3 [==============================] - 0s 20ms/step - loss: 2.5704 - val_loss: 2.9069\n",
      "Epoch 89/100\n",
      "3/3 [==============================] - 0s 20ms/step - loss: 2.8226 - val_loss: 2.9844\n",
      "Epoch 90/100\n",
      "3/3 [==============================] - 0s 24ms/step - loss: 3.1199 - val_loss: 3.3218\n",
      "Epoch 91/100\n",
      "3/3 [==============================] - 0s 24ms/step - loss: 3.1033 - val_loss: 2.9060\n",
      "Epoch 92/100\n",
      "3/3 [==============================] - 0s 21ms/step - loss: 2.7947 - val_loss: 2.5869\n",
      "Epoch 93/100\n",
      "3/3 [==============================] - 0s 23ms/step - loss: 2.4607 - val_loss: 2.8491\n",
      "Epoch 94/100\n",
      "3/3 [==============================] - 0s 23ms/step - loss: 2.7444 - val_loss: 2.5356\n",
      "Epoch 95/100\n",
      "3/3 [==============================] - 0s 19ms/step - loss: 2.5356 - val_loss: 2.7004\n",
      "Epoch 96/100\n",
      "3/3 [==============================] - 0s 21ms/step - loss: 2.5631 - val_loss: 2.5698\n",
      "Epoch 97/100\n",
      "3/3 [==============================] - 0s 15ms/step - loss: 2.5066 - val_loss: 2.5013\n",
      "Epoch 98/100\n",
      "3/3 [==============================] - 0s 24ms/step - loss: 2.5039 - val_loss: 2.6527\n",
      "Epoch 99/100\n",
      "3/3 [==============================] - 0s 23ms/step - loss: 2.5210 - val_loss: 2.5706\n",
      "Epoch 100/100\n",
      "3/3 [==============================] - 0s 20ms/step - loss: 2.5361 - val_loss: 2.5329\n"
     ]
    }
   ],
   "source": [
    "history = model.fit(X_train, y_train, epochs=100,\n",
    "                    validation_data=(X_valid, y_valid))"
   ]
  },
  {
   "cell_type": "code",
   "execution_count": 60,
   "id": "e7fa5656",
   "metadata": {
    "scrolled": false
   },
   "outputs": [
    {
     "name": "stdout",
     "output_type": "stream",
     "text": [
      "Saving figure grid_quantile_training_curve\n"
     ]
    },
    {
     "data": {
      "image/png": "[encoded data removed]",
      "text/plain": [
       "<Figure size 576x360 with 1 Axes>"
      ]
     },
     "metadata": {
      "needs_background": "light"
     },
     "output_type": "display_data"
    }
   ],
   "source": [
    "import pandas as pd\n",
    "\n",
    "pd.DataFrame(history.history).plot(figsize=(8, 5))\n",
    "plt.grid(True)\n",
    "# plt.gca().set_ylim(0, 1)\n",
    "save_fig(\"grid_quantile_training_curve\")\n",
    "plt.show()"
   ]
  },
  {
   "cell_type": "markdown",
   "id": "a4a59dd6",
   "metadata": {},
   "source": [
    "### Draw the mean prediction curve averaged from all quantile predictions."
   ]
  },
  {
   "cell_type": "code",
   "execution_count": 61,
   "id": "0e5d0058",
   "metadata": {},
   "outputs": [
    {
     "name": "stdout",
     "output_type": "stream",
     "text": [
      "X.shape = (None, 1)\n",
      "gauss_grid.shape = (None, 5)\n",
      "Saving figure grid_quantile_prediction\n"
     ]
    },
    {
     "data": {
      "image/png": "[encoded data removed]",
      "text/plain": [
       "<Figure size 432x288 with 1 Axes>"
      ]
     },
     "metadata": {
      "needs_background": "light"
     },
     "output_type": "display_data"
    }
   ],
   "source": [
    "# plt.plot(X_train, y_train, \"b.\")\n",
    "draw_points(X_train, y_train, sid_train)\n",
    "draw_func((lambda X: np.average(model.predict(X), axis=-1) ), mark='r-', linewidth=2, label=\"Predictions\")\n",
    "# draw_func((lambda X: model.predict(X)[:,0] ), mark='k--', linewidth=1, label=\"$y_{%d}$\" % (quantile_list[0]*100))\n",
    "# draw_func((lambda X: model.predict(X)[:,-1] ), mark='k--', linewidth=1, label=\"$y_{%d}$\" % (quantile_list[-1]*100))\n",
    "draw_normal_func(func_dict)\n",
    "plt.xlabel(\"$x_1$\", fontsize=18)\n",
    "plt.ylabel(\"$y$\", rotation=0, fontsize=18)\n",
    "plt.legend(loc=\"upper left\", fontsize=14)\n",
    "# plt.axis([-3, 3, 0, 10])\n",
    "save_fig(\"grid_quantile_prediction\")\n",
    "plt.show()"
   ]
  },
  {
   "cell_type": "code",
   "execution_count": 62,
   "id": "f98d3ae8",
   "metadata": {},
   "outputs": [
    {
     "name": "stdout",
     "output_type": "stream",
     "text": [
      "y_func.shape = (100, 1)\n",
      "y_gt.shape = (100, 1)\n"
     ]
    },
    {
     "data": {
      "text/plain": [
       "1.497966006324428"
      ]
     },
     "execution_count": 62,
     "metadata": {},
     "output_type": "execute_result"
    }
   ],
   "source": [
    "get_prediction_error((lambda X: np.average(model.predict(X), axis=-1) ), func_dict, name=\"grid-quantileR\")"
   ]
  },
  {
   "cell_type": "markdown",
   "id": "f79ac920",
   "metadata": {},
   "source": [
    "### Draw first and last quantile curve."
   ]
  },
  {
   "cell_type": "code",
   "execution_count": 63,
   "id": "42eeb254",
   "metadata": {},
   "outputs": [
    {
     "name": "stdout",
     "output_type": "stream",
     "text": [
      "Saving figure grid_quantile_boundary_quantiles\n"
     ]
    },
    {
     "data": {
      "image/png": "[encoded data removed]",
      "text/plain": [
       "<Figure size 432x288 with 1 Axes>"
      ]
     },
     "metadata": {
      "needs_background": "light"
     },
     "output_type": "display_data"
    }
   ],
   "source": [
    "# plt.plot(X_train, y_train, \"b.\")\n",
    "draw_points(X_train, y_train, sid_train)\n",
    "draw_func((lambda X: np.average(model.predict(X), axis=-1) ), mark='r-', linewidth=2, label=\"Predictions\")\n",
    "draw_func((lambda X: model.predict(X)[:,0] ), mark='k--', linewidth=1, label=\"$y_{%d}$\" % (quantile_list[0]*100))\n",
    "draw_func((lambda X: model.predict(X)[:,-1] ), mark='k--', linewidth=1, label=\"$y_{%d}$\" % (quantile_list[-1]*100))\n",
    "draw_normal_func(func_dict)\n",
    "plt.xlabel(\"$x_1$\", fontsize=18)\n",
    "plt.ylabel(\"$y$\", rotation=0, fontsize=18)\n",
    "plt.legend(loc=\"upper left\", fontsize=14)\n",
    "# plt.axis([-3, 3, 0, 10])\n",
    "save_fig(\"grid_quantile_boundary_quantiles\")\n",
    "plt.show()"
   ]
  },
  {
   "cell_type": "markdown",
   "id": "2a1b1b44",
   "metadata": {},
   "source": [
    "### Draw all quantile predictions"
   ]
  },
  {
   "cell_type": "code",
   "execution_count": 64,
   "id": "5e875238",
   "metadata": {},
   "outputs": [
    {
     "name": "stdout",
     "output_type": "stream",
     "text": [
      "Saving figure grid_quantile_all_quantiles\n"
     ]
    },
    {
     "data": {
      "image/png": "[encoded data removed]",
      "text/plain": [
       "<Figure size 432x288 with 1 Axes>"
      ]
     },
     "metadata": {
      "needs_background": "light"
     },
     "output_type": "display_data"
    }
   ],
   "source": [
    "# plt.plot(X_train, y_train, \"b.\")\n",
    "draw_points(X_train, y_train, sid_train)\n",
    "draw_func((lambda X: np.average(model.predict(X), axis=-1) ), mark='r-', linewidth=2, label=\"Predictions\")\n",
    "for _idx, _tau in enumerate(quantile_list):\n",
    "    draw_func((lambda X: model.predict(X)[:,_idx] ), mark='k--', linewidth=1, label=\"$y_{%d}$\" % (_tau*100))\n",
    "draw_normal_func(func_dict)\n",
    "plt.xlabel(\"$x_1$\", fontsize=18)\n",
    "plt.ylabel(\"$y$\", rotation=0, fontsize=18)\n",
    "plt.legend(loc=\"upper left\", fontsize=14)\n",
    "# plt.axis([-3, 3, 0, 10])\n",
    "save_fig(\"grid_quantile_all_quantiles\")\n",
    "plt.show()"
   ]
  },
  {
   "cell_type": "markdown",
   "id": "0693a8eb",
   "metadata": {},
   "source": [
    "### Multi-Quantiles as a Gaussian Distribution "
   ]
  },
  {
   "cell_type": "code",
   "execution_count": 65,
   "id": "11262fbe",
   "metadata": {},
   "outputs": [],
   "source": [
    "# def n_sigma_boundary_line(X, n):\n",
    "#     _y = model.predict(X)\n",
    "#     _mean = np.mean(_y, axis=-1)\n",
    "#     _sigma = np.std(_y, axis=-1)\n",
    "#     return( _mean + n*_sigma)\n",
    "\n",
    "# # plt.plot(X_train, y_train, \"b.\")\n",
    "# draw_points(X_train, y_train, sid_train)\n",
    "# #\n",
    "# draw_func((lambda X: np.average(model.predict(X), axis=-1) ), mark='r-', linewidth=2, label=\"Predictions\")\n",
    "# draw_func((lambda X: n_sigma_boundary_line(X, +1.0) ), mark='k--', linewidth=1, label=\"$\\mu+\\sigma$\")\n",
    "# draw_func((lambda X: n_sigma_boundary_line(X, -1.0) ), mark='k--', linewidth=1, label=\"$\\mu-\\sigma$\")\n",
    "# #\n",
    "# draw_normal_func(func_dict)\n",
    "# plt.xlabel(\"$x_1$\", fontsize=18)\n",
    "# plt.ylabel(\"$y$\", rotation=0, fontsize=18)\n",
    "# plt.legend(loc=\"upper left\", fontsize=14)\n",
    "# # plt.axis([-3, 3, 0, 10])\n",
    "# save_fig(\"grid_quantile_1sigma\")\n",
    "# plt.show()"
   ]
  },
  {
   "cell_type": "markdown",
   "id": "9a01aa69",
   "metadata": {},
   "source": [
    "## Gaussian Estimation with Gaussian Loss (grid-->parameters)\n",
    "\n",
    "Gaussain estimation requires the model to predict the mean and variance of a Gaussian distribution of the random variable regarded. The training purpose is to fit a Gaussian distribution to the data distribution (which is not necessay distributed as Gaussian).\n",
    "\n",
    "One possible solution, derived by BensonHuang, is that the model estimates $(\\mu, z)$, where $z=\\alpha ^{-1}log(\\sigma)$.\n",
    "The associated loss function can be $L_G(y, (\\mu,z)) = 0.5e^{-2\\alpha z}(y-\\mu)^2 + \\alpha z$."
   ]
  },
  {
   "cell_type": "code",
   "execution_count": 66,
   "id": "1a20d5dd",
   "metadata": {},
   "outputs": [],
   "source": [
    "alpha = 1.0\n",
    "# alpha = 0.01\n",
    "# alpha = 0.001"
   ]
  },
  {
   "cell_type": "code",
   "execution_count": 67,
   "id": "cb202ed2",
   "metadata": {},
   "outputs": [
    {
     "name": "stdout",
     "output_type": "stream",
     "text": [
      "X.shape = (None, 1)\n",
      "gauss_grid.shape = (None, 5)\n"
     ]
    }
   ],
   "source": [
    "model = keras.models.Sequential([\n",
    "    num2grid(5,x_min=-10, x_max=10, sigma=3.0, input_shape=X_train.shape[1:]),\n",
    "#     keras.layers.Dense(30, activation=\"relu\"),\n",
    "    keras.layers.Dense(60, activation=\"relu\"),\n",
    "#     keras.layers.Dense(30, activation=keras.layers.LeakyReLU(alpha=0.2) ),\n",
    "#     keras.layers.Dense(30, activation=\"selu\"),\n",
    "    keras.layers.Dense(2) # (mu, z)\n",
    "])"
   ]
  },
  {
   "cell_type": "code",
   "execution_count": 68,
   "id": "925f0a22",
   "metadata": {},
   "outputs": [
    {
     "name": "stdout",
     "output_type": "stream",
     "text": [
      "alpha = 1.000000\n"
     ]
    }
   ],
   "source": [
    "# Customized loss function\n",
    "print(\"alpha = %f\" % alpha)\n",
    "\n",
    "def GaussianLoss_fn(y_true, y_pred):\n",
    "    # y_true: label \n",
    "    # y_pred: (mu, z), z=log(sigma)\n",
    "    mu = y_pred[:, 0:1]\n",
    "    z  = y_pred[:, 1:2]\n",
    "    #\n",
    "    en2z = tf.math.exp((-2.0*alpha)*z)\n",
    "    ymu2 = (y_true - mu)**2\n",
    "    return (0.5*en2z*ymu2 + alpha*z)"
   ]
  },
  {
   "cell_type": "code",
   "execution_count": 69,
   "id": "1b388b4b",
   "metadata": {},
   "outputs": [],
   "source": [
    "# Learning rate scheduler\n",
    "learning_rate_switch_epoch_list = [30, 45]\n",
    "learning_rate_list = [0.001, 0.01, 0.1]\n",
    "# learning_rate_switch_epoch_list = [30, 80]\n",
    "# learning_rate_list = [0.01, 0.1, 0.01]\n",
    "#\n",
    "def piecewise_constant_fn(epoch):\n",
    "    for _i, epoch_s in enumerate(learning_rate_switch_epoch_list):\n",
    "        if epoch < epoch_s:\n",
    "            return learning_rate_list[_i]\n",
    "    return learning_rate_list[-1]\n",
    "\n",
    "lr_scheduler = keras.callbacks.LearningRateScheduler(piecewise_constant_fn)"
   ]
  },
  {
   "cell_type": "markdown",
   "id": "6ec2e05e",
   "metadata": {},
   "source": [
    "Third training with even greater speed"
   ]
  },
  {
   "cell_type": "code",
   "execution_count": 70,
   "id": "7a7e245b",
   "metadata": {},
   "outputs": [
    {
     "name": "stderr",
     "output_type": "stream",
     "text": [
      "C:\\Users\\benso\\anaconda3\\envs\\ml\\lib\\site-packages\\keras\\optimizer_v2\\adam.py:105: UserWarning: The `lr` argument is deprecated, use `learning_rate` instead.\n",
      "  super(Adam, self).__init__(name, **kwargs)\n"
     ]
    }
   ],
   "source": [
    "# optimizer = keras.optimizers.SGD(lr=0.1, momentum=0.9)\n",
    "optimizer = keras.optimizers.Adam(lr=0.1) # 0.1\n",
    "model.compile(loss=GaussianLoss_fn, optimizer=optimizer)"
   ]
  },
  {
   "cell_type": "code",
   "execution_count": 71,
   "id": "6d7b74a9",
   "metadata": {
    "scrolled": true
   },
   "outputs": [
    {
     "name": "stdout",
     "output_type": "stream",
     "text": [
      "Epoch 1/200\n",
      "X.shape = (None, 1)\n",
      "gauss_grid.shape = (None, 5)\n",
      "X.shape = (None, 1)\n",
      "gauss_grid.shape = (None, 5)\n",
      "1/3 [=========>....................] - ETA: 1s - loss: 1160.8724X.shape = (None, 1)\n",
      "gauss_grid.shape = (None, 5)\n",
      "3/3 [==============================] - 1s 80ms/step - loss: 476.2330 - val_loss: 6.5081\n",
      "Epoch 2/200\n",
      "3/3 [==============================] - 0s 20ms/step - loss: 8.0996 - val_loss: 12.3151\n",
      "Epoch 3/200\n",
      "3/3 [==============================] - 0s 30ms/step - loss: 13.5891 - val_loss: 16.7813\n",
      "Epoch 4/200\n",
      "3/3 [==============================] - 0s 45ms/step - loss: 17.7308 - val_loss: 19.9309\n",
      "Epoch 5/200\n",
      "3/3 [==============================] - 0s 31ms/step - loss: 20.5952 - val_loss: 21.9174\n",
      "Epoch 6/200\n",
      "3/3 [==============================] - 0s 38ms/step - loss: 22.3587 - val_loss: 22.9308\n",
      "Epoch 7/200\n",
      "3/3 [==============================] - 0s 36ms/step - loss: 23.2157 - val_loss: 23.1809\n",
      "Epoch 8/200\n",
      "3/3 [==============================] - 0s 37ms/step - loss: 23.3585 - val_loss: 22.8525\n",
      "Epoch 9/200\n",
      "3/3 [==============================] - 0s 41ms/step - loss: 22.9495 - val_loss: 22.0928\n",
      "Epoch 10/200\n",
      "3/3 [==============================] - 0s 33ms/step - loss: 22.1478 - val_loss: 21.0134\n",
      "Epoch 11/200\n",
      "3/3 [==============================] - 0s 21ms/step - loss: 21.0721 - val_loss: 19.7988\n",
      "Epoch 12/200\n",
      "3/3 [==============================] - 0s 20ms/step - loss: 19.8441 - val_loss: 18.4311\n",
      "Epoch 13/200\n",
      "3/3 [==============================] - 0s 19ms/step - loss: 18.4814 - val_loss: 16.9458\n",
      "Epoch 14/200\n",
      "3/3 [==============================] - 0s 22ms/step - loss: 17.0613 - val_loss: 15.4069\n",
      "Epoch 15/200\n",
      "3/3 [==============================] - 0s 24ms/step - loss: 15.5939 - val_loss: 13.7873\n",
      "Epoch 16/200\n",
      "3/3 [==============================] - 0s 26ms/step - loss: 14.0445 - val_loss: 12.1045\n",
      "Epoch 17/200\n",
      "3/3 [==============================] - 0s 25ms/step - loss: 12.4039 - val_loss: 10.3022\n",
      "Epoch 18/200\n",
      "3/3 [==============================] - 0s 15ms/step - loss: 10.6138 - val_loss: 8.3283\n",
      "Epoch 19/200\n",
      "3/3 [==============================] - 0s 16ms/step - loss: 8.6186 - val_loss: 6.1591\n",
      "Epoch 20/200\n",
      "3/3 [==============================] - 0s 29ms/step - loss: 6.5568 - val_loss: 6.0631\n",
      "Epoch 21/200\n",
      "3/3 [==============================] - 0s 20ms/step - loss: 7.9644 - val_loss: 4.7567\n",
      "Epoch 22/200\n",
      "3/3 [==============================] - 0s 21ms/step - loss: 5.5958 - val_loss: 6.0070\n",
      "Epoch 23/200\n",
      "3/3 [==============================] - 0s 24ms/step - loss: 6.3750 - val_loss: 6.4284\n",
      "Epoch 24/200\n",
      "3/3 [==============================] - 0s 23ms/step - loss: 6.3315 - val_loss: 6.1779\n",
      "Epoch 25/200\n",
      "3/3 [==============================] - 0s 16ms/step - loss: 5.8211 - val_loss: 5.7667\n",
      "Epoch 26/200\n",
      "3/3 [==============================] - 0s 17ms/step - loss: 6.1729 - val_loss: 5.7010\n",
      "Epoch 27/200\n",
      "3/3 [==============================] - 0s 21ms/step - loss: 5.6083 - val_loss: 5.8511\n",
      "Epoch 28/200\n",
      "3/3 [==============================] - 0s 22ms/step - loss: 5.6759 - val_loss: 5.6506\n",
      "Epoch 29/200\n",
      "3/3 [==============================] - 0s 21ms/step - loss: 5.4340 - val_loss: 5.0283\n",
      "Epoch 30/200\n",
      "3/3 [==============================] - 0s 23ms/step - loss: 4.8722 - val_loss: 4.4055\n",
      "Epoch 31/200\n",
      "3/3 [==============================] - 0s 27ms/step - loss: 4.6715 - val_loss: 4.0666\n",
      "Epoch 32/200\n",
      "3/3 [==============================] - 0s 19ms/step - loss: 4.3107 - val_loss: 3.8286\n",
      "Epoch 33/200\n",
      "3/3 [==============================] - 0s 18ms/step - loss: 4.1171 - val_loss: 3.7701\n",
      "Epoch 34/200\n",
      "3/3 [==============================] - 0s 19ms/step - loss: 4.0945 - val_loss: 3.9618\n",
      "Epoch 35/200\n",
      "3/3 [==============================] - 0s 23ms/step - loss: 4.1649 - val_loss: 4.0317\n",
      "Epoch 36/200\n",
      "3/3 [==============================] - 0s 21ms/step - loss: 4.1599 - val_loss: 3.8501\n",
      "Epoch 37/200\n",
      "3/3 [==============================] - 0s 28ms/step - loss: 4.0899 - val_loss: 3.7640\n",
      "Epoch 38/200\n",
      "3/3 [==============================] - 0s 28ms/step - loss: 4.0722 - val_loss: 3.7301\n",
      "Epoch 39/200\n",
      "3/3 [==============================] - 0s 24ms/step - loss: 4.0245 - val_loss: 3.7462\n",
      "Epoch 40/200\n",
      "3/3 [==============================] - 0s 20ms/step - loss: 4.0458 - val_loss: 3.7366\n",
      "Epoch 41/200\n",
      "3/3 [==============================] - 0s 20ms/step - loss: 4.0281 - val_loss: 3.7276\n",
      "Epoch 42/200\n",
      "3/3 [==============================] - 0s 28ms/step - loss: 4.0206 - val_loss: 3.7248\n",
      "Epoch 43/200\n",
      "3/3 [==============================] - 0s 23ms/step - loss: 4.0083 - val_loss: 3.7228\n",
      "Epoch 44/200\n",
      "3/3 [==============================] - 0s 22ms/step - loss: 3.9928 - val_loss: 3.7421\n",
      "Epoch 45/200\n",
      "3/3 [==============================] - 0s 22ms/step - loss: 3.9907 - val_loss: 3.7364\n",
      "Epoch 46/200\n",
      "3/3 [==============================] - 0s 21ms/step - loss: 3.9878 - val_loss: 3.7288\n",
      "Epoch 47/200\n",
      "3/3 [==============================] - 0s 21ms/step - loss: 3.9852 - val_loss: 3.7324\n",
      "Epoch 48/200\n",
      "3/3 [==============================] - 0s 13ms/step - loss: 3.9796 - val_loss: 3.7314\n",
      "Epoch 49/200\n",
      "3/3 [==============================] - 0s 19ms/step - loss: 3.9761 - val_loss: 3.7212\n",
      "Epoch 50/200\n",
      "3/3 [==============================] - 0s 21ms/step - loss: 3.9731 - val_loss: 3.7178\n",
      "Epoch 51/200\n",
      "3/3 [==============================] - 0s 19ms/step - loss: 3.9692 - val_loss: 3.7193\n",
      "Epoch 52/200\n",
      "3/3 [==============================] - 0s 19ms/step - loss: 3.9661 - val_loss: 3.7211\n",
      "Epoch 53/200\n",
      "3/3 [==============================] - 0s 18ms/step - loss: 3.9618 - val_loss: 3.7156\n",
      "Epoch 54/200\n",
      "3/3 [==============================] - 0s 22ms/step - loss: 3.9579 - val_loss: 3.7103\n",
      "Epoch 55/200\n",
      "3/3 [==============================] - 0s 25ms/step - loss: 3.9546 - val_loss: 3.7063\n",
      "Epoch 56/200\n",
      "3/3 [==============================] - 0s 23ms/step - loss: 3.9506 - val_loss: 3.7030\n",
      "Epoch 57/200\n",
      "3/3 [==============================] - 0s 19ms/step - loss: 3.9468 - val_loss: 3.6976\n",
      "Epoch 58/200\n",
      "3/3 [==============================] - 0s 21ms/step - loss: 3.9421 - val_loss: 3.6960\n",
      "Epoch 59/200\n",
      "3/3 [==============================] - 0s 24ms/step - loss: 3.9382 - val_loss: 3.6948\n",
      "Epoch 60/200\n",
      "3/3 [==============================] - 0s 27ms/step - loss: 3.9350 - val_loss: 3.6887\n",
      "Epoch 61/200\n",
      "3/3 [==============================] - 0s 22ms/step - loss: 3.9297 - val_loss: 3.6909\n",
      "Epoch 62/200\n",
      "3/3 [==============================] - 0s 19ms/step - loss: 3.9264 - val_loss: 3.6868\n",
      "Epoch 63/200\n",
      "3/3 [==============================] - 0s 25ms/step - loss: 3.9187 - val_loss: 3.6758\n",
      "Epoch 64/200\n",
      "3/3 [==============================] - 0s 23ms/step - loss: 3.9168 - val_loss: 3.6719\n",
      "Epoch 65/200\n",
      "3/3 [==============================] - 0s 19ms/step - loss: 3.9106 - val_loss: 3.6742\n",
      "Epoch 66/200\n",
      "3/3 [==============================] - 0s 20ms/step - loss: 3.9066 - val_loss: 3.6699\n",
      "Epoch 67/200\n",
      "3/3 [==============================] - 0s 21ms/step - loss: 3.8990 - val_loss: 3.6722\n",
      "Epoch 68/200\n",
      "3/3 [==============================] - 0s 20ms/step - loss: 3.8944 - val_loss: 3.6671\n",
      "Epoch 69/200\n",
      "3/3 [==============================] - 0s 23ms/step - loss: 3.8897 - val_loss: 3.6610\n",
      "Epoch 70/200\n",
      "3/3 [==============================] - 0s 22ms/step - loss: 3.8824 - val_loss: 3.6631\n",
      "Epoch 71/200\n",
      "3/3 [==============================] - 0s 24ms/step - loss: 3.8771 - val_loss: 3.6530\n",
      "Epoch 72/200\n",
      "3/3 [==============================] - 0s 20ms/step - loss: 3.8722 - val_loss: 3.6437\n",
      "Epoch 73/200\n",
      "3/3 [==============================] - 0s 19ms/step - loss: 3.8640 - val_loss: 3.6465\n",
      "Epoch 74/200\n",
      "3/3 [==============================] - 0s 18ms/step - loss: 3.8583 - val_loss: 3.6381\n",
      "Epoch 75/200\n",
      "3/3 [==============================] - 0s 22ms/step - loss: 3.8499 - val_loss: 3.6303\n",
      "Epoch 76/200\n",
      "3/3 [==============================] - 0s 22ms/step - loss: 3.8434 - val_loss: 3.6279\n",
      "Epoch 77/200\n",
      "3/3 [==============================] - 0s 31ms/step - loss: 3.8361 - val_loss: 3.6214\n",
      "Epoch 78/200\n",
      "3/3 [==============================] - 0s 23ms/step - loss: 3.8284 - val_loss: 3.6195\n",
      "Epoch 79/200\n",
      "3/3 [==============================] - 0s 23ms/step - loss: 3.8209 - val_loss: 3.6131\n",
      "Epoch 80/200\n",
      "3/3 [==============================] - 0s 22ms/step - loss: 3.8131 - val_loss: 3.6174\n",
      "Epoch 81/200\n"
     ]
    },
    {
     "name": "stdout",
     "output_type": "stream",
     "text": [
      "3/3 [==============================] - 0s 18ms/step - loss: 3.7999 - val_loss: 3.6030\n",
      "Epoch 82/200\n",
      "3/3 [==============================] - 0s 17ms/step - loss: 3.7941 - val_loss: 3.5963\n",
      "Epoch 83/200\n",
      "3/3 [==============================] - 0s 19ms/step - loss: 3.7856 - val_loss: 3.6019\n",
      "Epoch 84/200\n",
      "3/3 [==============================] - 0s 19ms/step - loss: 3.7705 - val_loss: 3.5864\n",
      "Epoch 85/200\n",
      "3/3 [==============================] - 0s 22ms/step - loss: 3.7593 - val_loss: 3.5767\n",
      "Epoch 86/200\n",
      "3/3 [==============================] - 0s 18ms/step - loss: 3.7506 - val_loss: 3.5751\n",
      "Epoch 87/200\n",
      "3/3 [==============================] - 0s 17ms/step - loss: 3.7336 - val_loss: 3.5568\n",
      "Epoch 88/200\n",
      "3/3 [==============================] - 0s 21ms/step - loss: 3.7223 - val_loss: 3.5461\n",
      "Epoch 89/200\n",
      "3/3 [==============================] - 0s 22ms/step - loss: 3.7114 - val_loss: 3.5410\n",
      "Epoch 90/200\n",
      "3/3 [==============================] - 0s 21ms/step - loss: 3.6916 - val_loss: 3.5386\n",
      "Epoch 91/200\n",
      "3/3 [==============================] - 0s 27ms/step - loss: 3.6808 - val_loss: 3.5344\n",
      "Epoch 92/200\n",
      "3/3 [==============================] - 0s 22ms/step - loss: 3.6616 - val_loss: 3.5140\n",
      "Epoch 93/200\n",
      "3/3 [==============================] - 0s 19ms/step - loss: 3.6508 - val_loss: 3.5004\n",
      "Epoch 94/200\n",
      "3/3 [==============================] - 0s 25ms/step - loss: 3.6383 - val_loss: 3.5043\n",
      "Epoch 95/200\n",
      "3/3 [==============================] - 0s 23ms/step - loss: 3.6081 - val_loss: 3.4665\n",
      "Epoch 96/200\n",
      "3/3 [==============================] - 0s 29ms/step - loss: 3.5909 - val_loss: 3.4535\n",
      "Epoch 97/200\n",
      "3/3 [==============================] - 0s 22ms/step - loss: 3.5656 - val_loss: 3.4560\n",
      "Epoch 98/200\n",
      "3/3 [==============================] - 0s 25ms/step - loss: 3.5434 - val_loss: 3.4385\n",
      "Epoch 99/200\n",
      "3/3 [==============================] - 0s 24ms/step - loss: 3.5161 - val_loss: 3.4115\n",
      "Epoch 100/200\n",
      "3/3 [==============================] - 0s 14ms/step - loss: 3.4897 - val_loss: 3.3965\n",
      "Epoch 101/200\n",
      "3/3 [==============================] - 0s 20ms/step - loss: 3.4621 - val_loss: 3.3798\n",
      "Epoch 102/200\n",
      "3/3 [==============================] - 0s 23ms/step - loss: 3.4389 - val_loss: 3.3580\n",
      "Epoch 103/200\n",
      "3/3 [==============================] - 0s 19ms/step - loss: 3.4084 - val_loss: 3.3281\n",
      "Epoch 104/200\n",
      "3/3 [==============================] - 0s 22ms/step - loss: 3.3875 - val_loss: 3.3017\n",
      "Epoch 105/200\n",
      "3/3 [==============================] - 0s 25ms/step - loss: 3.3630 - val_loss: 3.2752\n",
      "Epoch 106/200\n",
      "3/3 [==============================] - 0s 24ms/step - loss: 3.3411 - val_loss: 3.2503\n",
      "Epoch 107/200\n",
      "3/3 [==============================] - 0s 21ms/step - loss: 3.3141 - val_loss: 3.2331\n",
      "Epoch 108/200\n",
      "3/3 [==============================] - 0s 26ms/step - loss: 3.2951 - val_loss: 3.2272\n",
      "Epoch 109/200\n",
      "3/3 [==============================] - 0s 19ms/step - loss: 3.2738 - val_loss: 3.2077\n",
      "Epoch 110/200\n",
      "3/3 [==============================] - 0s 20ms/step - loss: 3.2649 - val_loss: 3.1989\n",
      "Epoch 111/200\n",
      "3/3 [==============================] - 0s 21ms/step - loss: 3.2514 - val_loss: 3.1949\n",
      "Epoch 112/200\n",
      "3/3 [==============================] - 0s 22ms/step - loss: 3.2415 - val_loss: 3.1561\n",
      "Epoch 113/200\n",
      "3/3 [==============================] - 0s 14ms/step - loss: 3.2287 - val_loss: 3.1484\n",
      "Epoch 114/200\n",
      "3/3 [==============================] - 0s 22ms/step - loss: 3.2244 - val_loss: 3.1379\n",
      "Epoch 115/200\n",
      "3/3 [==============================] - 0s 22ms/step - loss: 3.2101 - val_loss: 3.1350\n",
      "Epoch 116/200\n",
      "3/3 [==============================] - 0s 20ms/step - loss: 3.2054 - val_loss: 3.1234\n",
      "Epoch 117/200\n",
      "3/3 [==============================] - 0s 14ms/step - loss: 3.2000 - val_loss: 3.1222\n",
      "Epoch 118/200\n",
      "3/3 [==============================] - 0s 20ms/step - loss: 3.2019 - val_loss: 3.1135\n",
      "Epoch 119/200\n",
      "3/3 [==============================] - 0s 22ms/step - loss: 3.1907 - val_loss: 3.1299\n",
      "Epoch 120/200\n",
      "3/3 [==============================] - 0s 23ms/step - loss: 3.1899 - val_loss: 3.1402\n",
      "Epoch 121/200\n",
      "3/3 [==============================] - 0s 21ms/step - loss: 3.1985 - val_loss: 3.1403\n",
      "Epoch 122/200\n",
      "3/3 [==============================] - 0s 22ms/step - loss: 3.2014 - val_loss: 3.1419\n",
      "Epoch 123/200\n",
      "3/3 [==============================] - 0s 23ms/step - loss: 3.1921 - val_loss: 3.1104\n",
      "Epoch 124/200\n",
      "3/3 [==============================] - 0s 23ms/step - loss: 3.1948 - val_loss: 3.1183\n",
      "Epoch 125/200\n",
      "3/3 [==============================] - 0s 22ms/step - loss: 3.1818 - val_loss: 3.1687\n",
      "Epoch 126/200\n",
      "3/3 [==============================] - 0s 23ms/step - loss: 3.2156 - val_loss: 3.1504\n",
      "Epoch 127/200\n",
      "3/3 [==============================] - 0s 19ms/step - loss: 3.1754 - val_loss: 3.1811\n",
      "Epoch 128/200\n",
      "3/3 [==============================] - 0s 19ms/step - loss: 3.2014 - val_loss: 3.1302\n",
      "Epoch 129/200\n",
      "3/3 [==============================] - 0s 19ms/step - loss: 3.1751 - val_loss: 3.1142\n",
      "Epoch 130/200\n",
      "3/3 [==============================] - 0s 20ms/step - loss: 3.1777 - val_loss: 3.0688\n",
      "Epoch 131/200\n",
      "3/3 [==============================] - 0s 20ms/step - loss: 3.1894 - val_loss: 3.0829\n",
      "Epoch 132/200\n",
      "3/3 [==============================] - ETA: 0s - loss: 3.259 - 0s 17ms/step - loss: 3.1729 - val_loss: 3.0914\n",
      "Epoch 133/200\n",
      "3/3 [==============================] - 0s 18ms/step - loss: 3.1787 - val_loss: 3.0928\n",
      "Epoch 134/200\n",
      "3/3 [==============================] - 0s 22ms/step - loss: 3.1601 - val_loss: 3.0987\n",
      "Epoch 135/200\n",
      "3/3 [==============================] - 0s 21ms/step - loss: 3.1563 - val_loss: 3.1166\n",
      "Epoch 136/200\n",
      "3/3 [==============================] - 0s 21ms/step - loss: 3.1547 - val_loss: 3.1091\n",
      "Epoch 137/200\n",
      "3/3 [==============================] - 0s 21ms/step - loss: 3.1842 - val_loss: 3.1024\n",
      "Epoch 138/200\n",
      "3/3 [==============================] - 0s 24ms/step - loss: 3.1681 - val_loss: 3.1485\n",
      "Epoch 139/200\n",
      "3/3 [==============================] - 0s 24ms/step - loss: 3.1668 - val_loss: 3.1115\n",
      "Epoch 140/200\n",
      "3/3 [==============================] - 0s 21ms/step - loss: 3.1666 - val_loss: 3.0836\n",
      "Epoch 141/200\n",
      "3/3 [==============================] - 0s 20ms/step - loss: 3.1621 - val_loss: 3.1226\n",
      "Epoch 142/200\n",
      "3/3 [==============================] - 0s 21ms/step - loss: 3.1531 - val_loss: 3.0792\n",
      "Epoch 143/200\n",
      "3/3 [==============================] - 0s 19ms/step - loss: 3.1760 - val_loss: 3.0972\n",
      "Epoch 144/200\n",
      "3/3 [==============================] - 0s 22ms/step - loss: 3.1619 - val_loss: 3.1805\n",
      "Epoch 145/200\n",
      "3/3 [==============================] - 0s 21ms/step - loss: 3.1827 - val_loss: 3.1625\n",
      "Epoch 146/200\n",
      "3/3 [==============================] - 0s 20ms/step - loss: 3.1737 - val_loss: 3.1057\n",
      "Epoch 147/200\n",
      "3/3 [==============================] - 0s 21ms/step - loss: 3.1369 - val_loss: 3.1365\n",
      "Epoch 148/200\n",
      "3/3 [==============================] - 0s 21ms/step - loss: 3.1633 - val_loss: 3.0756\n",
      "Epoch 149/200\n",
      "3/3 [==============================] - 0s 20ms/step - loss: 3.1317 - val_loss: 3.0846\n",
      "Epoch 150/200\n",
      "3/3 [==============================] - 0s 22ms/step - loss: 3.1429 - val_loss: 3.1098\n",
      "Epoch 151/200\n",
      "3/3 [==============================] - 0s 21ms/step - loss: 3.1732 - val_loss: 3.1642\n",
      "Epoch 152/200\n",
      "3/3 [==============================] - ETA: 0s - loss: 3.168 - 0s 20ms/step - loss: 3.1637 - val_loss: 3.1147\n",
      "Epoch 153/200\n",
      "3/3 [==============================] - 0s 21ms/step - loss: 3.1628 - val_loss: 3.0977\n",
      "Epoch 154/200\n",
      "3/3 [==============================] - 0s 24ms/step - loss: 3.1258 - val_loss: 3.1260\n",
      "Epoch 155/200\n",
      "3/3 [==============================] - 0s 21ms/step - loss: 3.1387 - val_loss: 3.0758\n",
      "Epoch 156/200\n",
      "3/3 [==============================] - 0s 23ms/step - loss: 3.1288 - val_loss: 3.0856\n",
      "Epoch 157/200\n",
      "3/3 [==============================] - 0s 24ms/step - loss: 3.1283 - val_loss: 3.1231\n",
      "Epoch 158/200\n",
      "3/3 [==============================] - 0s 23ms/step - loss: 3.1324 - val_loss: 3.0924\n",
      "Epoch 159/200\n",
      "3/3 [==============================] - 0s 22ms/step - loss: 3.1226 - val_loss: 3.0912\n",
      "Epoch 160/200\n",
      "3/3 [==============================] - 0s 22ms/step - loss: 3.1115 - val_loss: 3.0796\n",
      "Epoch 161/200\n",
      "3/3 [==============================] - 0s 25ms/step - loss: 3.1059 - val_loss: 3.0606\n",
      "Epoch 162/200\n",
      "3/3 [==============================] - 0s 18ms/step - loss: 3.0967 - val_loss: 3.0847\n"
     ]
    },
    {
     "name": "stdout",
     "output_type": "stream",
     "text": [
      "Epoch 163/200\n",
      "3/3 [==============================] - 0s 19ms/step - loss: 3.1060 - val_loss: 3.0933\n",
      "Epoch 164/200\n",
      "3/3 [==============================] - 0s 21ms/step - loss: 3.0958 - val_loss: 3.0898\n",
      "Epoch 165/200\n",
      "3/3 [==============================] - 0s 22ms/step - loss: 3.0989 - val_loss: 3.0747\n",
      "Epoch 166/200\n",
      "3/3 [==============================] - 0s 23ms/step - loss: 3.0988 - val_loss: 3.0824\n",
      "Epoch 167/200\n",
      "3/3 [==============================] - 0s 20ms/step - loss: 3.1078 - val_loss: 3.0876\n",
      "Epoch 168/200\n",
      "3/3 [==============================] - 0s 28ms/step - loss: 3.0976 - val_loss: 3.0421\n",
      "Epoch 169/200\n",
      "3/3 [==============================] - 0s 30ms/step - loss: 3.1114 - val_loss: 3.0632\n",
      "Epoch 170/200\n",
      "3/3 [==============================] - 0s 26ms/step - loss: 3.0742 - val_loss: 3.0604\n",
      "Epoch 171/200\n",
      "3/3 [==============================] - 0s 24ms/step - loss: 3.0802 - val_loss: 3.0561\n",
      "Epoch 172/200\n",
      "3/3 [==============================] - 0s 24ms/step - loss: 3.0745 - val_loss: 3.0595\n",
      "Epoch 173/200\n",
      "3/3 [==============================] - 0s 28ms/step - loss: 3.0696 - val_loss: 3.0350\n",
      "Epoch 174/200\n",
      "3/3 [==============================] - 0s 27ms/step - loss: 3.1006 - val_loss: 3.0600\n",
      "Epoch 175/200\n",
      "3/3 [==============================] - 0s 29ms/step - loss: 3.0904 - val_loss: 3.1364\n",
      "Epoch 176/200\n",
      "3/3 [==============================] - 0s 25ms/step - loss: 3.1008 - val_loss: 3.1112\n",
      "Epoch 177/200\n",
      "3/3 [==============================] - 0s 19ms/step - loss: 3.0656 - val_loss: 3.0552\n",
      "Epoch 178/200\n",
      "3/3 [==============================] - 0s 26ms/step - loss: 3.0618 - val_loss: 3.0549\n",
      "Epoch 179/200\n",
      "3/3 [==============================] - 0s 25ms/step - loss: 3.0669 - val_loss: 3.0331\n",
      "Epoch 180/200\n",
      "3/3 [==============================] - 0s 18ms/step - loss: 3.0713 - val_loss: 3.0388\n",
      "Epoch 181/200\n",
      "3/3 [==============================] - 0s 27ms/step - loss: 3.0577 - val_loss: 3.0918\n",
      "Epoch 182/200\n",
      "3/3 [==============================] - 0s 17ms/step - loss: 3.0570 - val_loss: 3.0945\n",
      "Epoch 183/200\n",
      "3/3 [==============================] - 0s 20ms/step - loss: 3.0563 - val_loss: 3.0558\n",
      "Epoch 184/200\n",
      "3/3 [==============================] - 0s 22ms/step - loss: 3.0371 - val_loss: 3.0503\n",
      "Epoch 185/200\n",
      "3/3 [==============================] - 0s 19ms/step - loss: 3.0406 - val_loss: 3.0353\n",
      "Epoch 186/200\n",
      "3/3 [==============================] - 0s 25ms/step - loss: 3.0603 - val_loss: 3.0291\n",
      "Epoch 187/200\n",
      "3/3 [==============================] - 0s 20ms/step - loss: 3.0618 - val_loss: 3.1171\n",
      "Epoch 188/200\n",
      "3/3 [==============================] - 0s 23ms/step - loss: 3.0906 - val_loss: 3.0192\n",
      "Epoch 189/200\n",
      "3/3 [==============================] - 0s 26ms/step - loss: 3.0175 - val_loss: 3.0507\n",
      "Epoch 190/200\n",
      "3/3 [==============================] - 0s 33ms/step - loss: 3.0167 - val_loss: 3.0668\n",
      "Epoch 191/200\n",
      "3/3 [==============================] - 0s 26ms/step - loss: 3.0163 - val_loss: 3.0530\n",
      "Epoch 192/200\n",
      "3/3 [==============================] - 0s 23ms/step - loss: 3.0028 - val_loss: 3.0198\n",
      "Epoch 193/200\n",
      "3/3 [==============================] - 0s 18ms/step - loss: 3.0067 - val_loss: 3.0127\n",
      "Epoch 194/200\n",
      "3/3 [==============================] - 0s 22ms/step - loss: 3.0040 - val_loss: 3.0377\n",
      "Epoch 195/200\n",
      "3/3 [==============================] - 0s 20ms/step - loss: 3.0004 - val_loss: 3.0209\n",
      "Epoch 196/200\n",
      "3/3 [==============================] - 0s 20ms/step - loss: 2.9827 - val_loss: 3.0345\n",
      "Epoch 197/200\n",
      "3/3 [==============================] - 0s 24ms/step - loss: 2.9835 - val_loss: 3.0254\n",
      "Epoch 198/200\n",
      "3/3 [==============================] - 0s 23ms/step - loss: 2.9820 - val_loss: 3.0181\n",
      "Epoch 199/200\n",
      "3/3 [==============================] - 0s 20ms/step - loss: 2.9753 - val_loss: 3.0324\n",
      "Epoch 200/200\n",
      "3/3 [==============================] - 0s 20ms/step - loss: 2.9736 - val_loss: 3.0182\n"
     ]
    }
   ],
   "source": [
    "history = model.fit(X_train, y_train, epochs=200,\n",
    "                    validation_data=(X_valid, y_valid))"
   ]
  },
  {
   "cell_type": "code",
   "execution_count": 72,
   "id": "0b29d35c",
   "metadata": {
    "scrolled": true
   },
   "outputs": [],
   "source": [
    "# history = model.fit(X_train, y_train, epochs=145,\n",
    "#                     validation_data=(X_valid, y_valid), callbacks=[lr_scheduler])"
   ]
  },
  {
   "cell_type": "code",
   "execution_count": 73,
   "id": "28215732",
   "metadata": {},
   "outputs": [
    {
     "name": "stdout",
     "output_type": "stream",
     "text": [
      "Saving figure grid_Gaussian_training_curve\n"
     ]
    },
    {
     "data": {
      "image/png": "[encoded data removed]",
      "text/plain": [
       "<Figure size 576x360 with 1 Axes>"
      ]
     },
     "metadata": {
      "needs_background": "light"
     },
     "output_type": "display_data"
    }
   ],
   "source": [
    "import pandas as pd\n",
    "\n",
    "# print(history.history)\n",
    "try:\n",
    "    lr_list = history.history[\"lr\"]\n",
    "    del(history.history[\"lr\"])\n",
    "except:\n",
    "    pass\n",
    "\n",
    "pd.DataFrame(history.history)[50:].plot(figsize=(8, 5))\n",
    "plt.grid(True)\n",
    "# plt.gca().set_ylim(0, 1)\n",
    "save_fig(\"grid_Gaussian_training_curve\")\n",
    "plt.show()"
   ]
  },
  {
   "cell_type": "code",
   "execution_count": 74,
   "id": "47d362c9",
   "metadata": {
    "scrolled": true
   },
   "outputs": [
    {
     "name": "stdout",
     "output_type": "stream",
     "text": [
      "X.shape = (None, 1)\n",
      "gauss_grid.shape = (None, 5)\n",
      "Saving figure grid_Gaussian_prediction\n"
     ]
    },
    {
     "data": {
      "image/png": "[encoded data removed]",
      "text/plain": [
       "<Figure size 432x288 with 1 Axes>"
      ]
     },
     "metadata": {
      "needs_background": "light"
     },
     "output_type": "display_data"
    }
   ],
   "source": [
    "# plt.plot(X_train, y_train, \"b.\")\n",
    "draw_points(X_train, y_train, sid_train)\n",
    "draw_func((lambda X: model.predict(X)[:,0] ), mark='r-', linewidth=2, label=\"Predictions\")\n",
    "draw_normal_func(func_dict)\n",
    "plt.xlabel(\"$x_1$\", fontsize=18)\n",
    "plt.ylabel(\"$y$\", rotation=0, fontsize=18)\n",
    "plt.legend(loc=\"upper left\", fontsize=14)\n",
    "# plt.axis([-3, 3, 0, 10])\n",
    "save_fig(\"grid_Gaussian_prediction\")\n",
    "plt.show()"
   ]
  },
  {
   "cell_type": "code",
   "execution_count": 75,
   "id": "a85a5159",
   "metadata": {},
   "outputs": [
    {
     "name": "stdout",
     "output_type": "stream",
     "text": [
      "y_func.shape = (100, 1)\n",
      "y_gt.shape = (100, 1)\n"
     ]
    },
    {
     "data": {
      "text/plain": [
       "7.457465746687026"
      ]
     },
     "execution_count": 75,
     "metadata": {},
     "output_type": "execute_result"
    }
   ],
   "source": [
    "get_prediction_error((lambda X: model.predict(X)[:,0] ), func_dict, name=\"grid-oneGaussian\")"
   ]
  },
  {
   "cell_type": "markdown",
   "id": "9ca1e36d",
   "metadata": {},
   "source": [
    "### Draw the 1-sigma boundary line"
   ]
  },
  {
   "cell_type": "code",
   "execution_count": 76,
   "id": "a04a47fa",
   "metadata": {},
   "outputs": [
    {
     "name": "stdout",
     "output_type": "stream",
     "text": [
      "Saving figure grid_Gaussian_1sigma\n"
     ]
    },
    {
     "data": {
      "image/png": "[encoded data removed]",
      "text/plain": [
       "<Figure size 432x288 with 1 Axes>"
      ]
     },
     "metadata": {
      "needs_background": "light"
     },
     "output_type": "display_data"
    }
   ],
   "source": [
    "def n_sigma_boundary_line(X, n):\n",
    "    _y = model.predict(X)\n",
    "    _mean, _z = _y[:,0:1], _y[:,1:2]\n",
    "    _sigma = np.exp(alpha*_z)\n",
    "    return( _mean + n*_sigma)\n",
    "\n",
    "# plt.plot(X_train, y_train, \"b.\")\n",
    "draw_points(X_train, y_train, sid_train)\n",
    "#\n",
    "draw_func((lambda X: model.predict(X)[:,0] ), mark='r-', linewidth=2, label=\"Predictions\")\n",
    "draw_func((lambda X: n_sigma_boundary_line(X, +1.0) ), mark='k--', linewidth=1, label=\"$\\mu+\\sigma$\")\n",
    "draw_func((lambda X: n_sigma_boundary_line(X, -1.0) ), mark='k--', linewidth=1, label=\"$\\mu-\\sigma$\")\n",
    "#\n",
    "draw_normal_func(func_dict)\n",
    "plt.xlabel(\"$x_1$\", fontsize=18)\n",
    "plt.ylabel(\"$y$\", rotation=0, fontsize=18)\n",
    "plt.legend(loc=\"upper left\", fontsize=14)\n",
    "# plt.axis([-3, 3, 0, 10])\n",
    "save_fig(\"grid_Gaussian_1sigma\")\n",
    "plt.show()"
   ]
  },
  {
   "cell_type": "markdown",
   "id": "1cdb8a83",
   "metadata": {},
   "source": [
    "# Per-subject Bias/Property Learning"
   ]
  },
  {
   "cell_type": "code",
   "execution_count": 77,
   "id": "0a429b42",
   "metadata": {},
   "outputs": [],
   "source": [
    "# Create a custom layer for estimating bais for each subject\n",
    "class SubjectBias(keras.layers.Layer):\n",
    "    def __init__(self, num_subject, bias_scale=1.0, mean_reg_rate=1.0, activation=None, **kwargs):\n",
    "        super().__init__(**kwargs)\n",
    "        self.num_subject = num_subject\n",
    "        self.bias_scale = bias_scale\n",
    "        self.mean_reg_rate = mean_reg_rate if mean_reg_rate >= 0.0 else 0.0\n",
    "        #\n",
    "        self.X_shape = None\n",
    "        self.activation = keras.activations.get(activation)\n",
    "        \n",
    "    def build(self, batch_input_shape):\n",
    "        self.X_shape = batch_input_shape[0]\n",
    "        # Initiate a trainable vector as the bias for X\n",
    "        \"\"\"\n",
    "        bias: (num_subject, X_shape[1], X_shape[2], ...)\n",
    "        \"\"\"\n",
    "        self.bias = self.add_weight(name=\"bias\", \n",
    "                                    shape=([self.num_subject] + self.X_shape[1:]), \n",
    "                                    initializer=\"zeros\")\n",
    "        super().build(batch_input_shape) # must be at the end\n",
    "        \n",
    "    def get_bias(self, sid):\n",
    "        '''\n",
    "        A helper function for retriving the bias according to the given sid.\n",
    "        Note: sid starts from 1.\n",
    "        Note2: this is the bias added to X, which are scaled by self.bias_scale\n",
    "        '''\n",
    "        if sid > self.num_subject or sid <= 0: # Out of bound, index not in range\n",
    "            return tf.zeros(self.X_shape[1:])\n",
    "        else:\n",
    "            return self.bias_scale * self.bias[tf.cast(sid-1, tf.int32),:]\n",
    "        \n",
    "    def get_scaled_biases_np(self):\n",
    "        return self.bias_scale * self.bias.numpy()\n",
    "        \n",
    "    def call(self, X_sid, training=None):\n",
    "        '''\n",
    "        X_sid = [X, sid]\n",
    "        Input shape:  X: (batch, ...), sid: (batch, 1)\n",
    "        Output shape: (batch, ...)\n",
    "        '''\n",
    "        X, SID = X_sid\n",
    "        X_shape = X.shape\n",
    "        print(\"X.shape = %s\" % X.shape)\n",
    "        print(\"SID.shape = %s\" % SID.shape)\n",
    "        \n",
    "        # Add bias\n",
    "        y = X + self.bias_scale * tf.gather(self.bias, SID[:,0]-1, axis=0)\n",
    "        \n",
    "        # Add a loss on the means in order to force them to become zeros\n",
    "        if self.mean_reg_rate > 0.0:\n",
    "            # Calculate the mean of all biases (on each dimension)\n",
    "            bias_means = tf.reduce_mean(self.bias, axis=0)\n",
    "            # MAE of means on all dimensions\n",
    "            self.add_loss( self.mean_reg_rate * tf.reduce_sum(tf.abs(bias_means)) )\n",
    "        \n",
    "        return self.activation(y)\n",
    "        \n",
    "#         if training:    \n",
    "#             # Add biases according to the sid of each instance\n",
    "#             # Note: a corner case is not handeled that if there exist out-of-range sid.\n",
    "#             # y = X + self.bias[tf.cast(SID[:,0]-1, tf.int32),:]\n",
    "#             # y = X + self.bias[ SID[:,0]-1,:]\n",
    "#             y = X + tf.gather(self.bias, SID[:,0]-1, axis=0)\n",
    "#             return self.activation(y)\n",
    "#         else: # If it's not trainig, just output the original X without adding bias\n",
    "#             return self.activation(X_sid[0])\n",
    "    \n",
    "    def compute_output_shape(self, batch_input_shape):\n",
    "        # Note: the same shape as the first input\n",
    "        return batch_input_shape[0]\n",
    "    \n",
    "    def get_config(self):\n",
    "        base_config = super().get_config()\n",
    "        return {**base_config, \n",
    "                \"num_subject\": self.num_subject,\n",
    "                \"bias_scale\": self.bias_scale,\n",
    "                \"mean_reg_rate\": self.mean_reg_rate,\n",
    "                \"activation\": keras.activations.serialize(self.activation)}"
   ]
  },
  {
   "cell_type": "code",
   "execution_count": 78,
   "id": "8d90e89f",
   "metadata": {},
   "outputs": [],
   "source": [
    "# Create a custom layer for estimating linear transform for each subject\n",
    "# We only assume 1D lear transform on each input dimension separately. (assume value on each dimension are independent to others.)\n",
    "# 1D linear transform: yi = wi * xi + bi\n",
    "class SubjectLinearTransform1D(keras.layers.Layer):\n",
    "    def __init__(self, num_subject, bias_scale=1.0, weight_mean_reg_rate=1.0, bias_mean_reg_rate=1.0, activation=None, **kwargs):\n",
    "        super().__init__(**kwargs)\n",
    "        self.num_subject = num_subject\n",
    "        self.bias_scale = bias_scale\n",
    "        self.weight_mean_reg_rate = weight_mean_reg_rate if weight_mean_reg_rate >= 0.0 else 0.0\n",
    "        self.bias_mean_reg_rate = bias_mean_reg_rate if bias_mean_reg_rate >= 0.0 else 0.0\n",
    "        #\n",
    "        self.X_shape = None\n",
    "        self.activation = keras.activations.get(activation)\n",
    "        \n",
    "    def build(self, batch_input_shape):\n",
    "        self.X_shape = batch_input_shape[0]\n",
    "        # Initiate a trainable vector as the bias for X\n",
    "        \"\"\"\n",
    "        bias: (num_subject, X_shape[1], X_shape[2], ...)\n",
    "        \"\"\"\n",
    "        self.weight = self.add_weight(name=\"weight\", \n",
    "                                    shape=([self.num_subject] + self.X_shape[1:]), \n",
    "                                    initializer=\"ones\")\n",
    "        self.bias = self.add_weight(name=\"bias\", \n",
    "                                    shape=([self.num_subject] + self.X_shape[1:]), \n",
    "                                    initializer=\"zeros\")\n",
    "        super().build(batch_input_shape) # must be at the end\n",
    "        \n",
    "    def get_bias(self, sid):\n",
    "        '''\n",
    "        A helper function for retriving the bias according to the given sid.\n",
    "        Note: sid starts from 1.\n",
    "        Note2: this is the bias added to X, which are scaled by self.bias_scale\n",
    "        '''\n",
    "        if sid > self.num_subject or sid <= 0: # Out of bound, index not in range\n",
    "            return tf.zeros(self.X_shape[1:])\n",
    "        else:\n",
    "            return self.bias_scale * self.bias[tf.cast(sid-1, tf.int32),:]\n",
    "        \n",
    "    def get_scaled_biases_np(self):\n",
    "        return self.bias_scale * self.bias.numpy()\n",
    "    \n",
    "    def get_weights_np(self):\n",
    "        return self.weight.numpy()\n",
    "        \n",
    "    def call(self, X_sid, training=None):\n",
    "        '''\n",
    "        X_sid = [X, sid]\n",
    "        Input shape:  X: (batch, ...), sid: (batch, 1)\n",
    "        Output shape: (batch, ...)\n",
    "        '''\n",
    "        X, SID = X_sid\n",
    "        X_shape = X.shape\n",
    "        print(\"X.shape = %s\" % X.shape)\n",
    "        print(\"SID.shape = %s\" % SID.shape)\n",
    "        \n",
    "        # Element-wise multiplication of weights and addition of biases\n",
    "        y = tf.gather(self.weight, SID[:,0]-1, axis=0) * X + self.bias_scale * tf.gather(self.bias, SID[:,0]-1, axis=0)\n",
    "        \n",
    "        # Add a loss on the means in order to force them to become zeros\n",
    "        if self.weight_mean_reg_rate > 0.0 or self.bias_mean_reg_rate > 0.0:\n",
    "            # Calculate the mean of all weights and biases (on each dimension separately)\n",
    "            weight_means = tf.reduce_mean(self.weight, axis=0)\n",
    "            bias_means = tf.reduce_mean(self.bias, axis=0)\n",
    "            # MAE of means on all dimensions\n",
    "            self.add_loss( self.weight_mean_reg_rate * tf.reduce_sum(tf.abs(weight_means - 1.0)) ) # Should close to 1.0\n",
    "            self.add_loss( self.bias_mean_reg_rate * tf.reduce_sum(tf.abs(bias_means)) )\n",
    "        \n",
    "        return self.activation(y)\n",
    "    \n",
    "    def compute_output_shape(self, batch_input_shape):\n",
    "        # Note: the same shape as the first input\n",
    "        return batch_input_shape[0]\n",
    "    \n",
    "    def get_config(self):\n",
    "        base_config = super().get_config()\n",
    "        return {**base_config, \n",
    "                \"num_subject\": self.num_subject,\n",
    "                \"bias_scale\": self.bias_scale,\n",
    "                \"weight_mean_reg_rate\": self.weight_mean_reg_rate,\n",
    "                \"bias_mean_reg_rate\": self.bias_mean_reg_rate,\n",
    "                \"activation\": keras.activations.serialize(self.activation)}"
   ]
  },
  {
   "cell_type": "markdown",
   "id": "00220bd0",
   "metadata": {},
   "source": [
    "Number of subjects"
   ]
  },
  {
   "cell_type": "code",
   "execution_count": 79,
   "id": "fa925d83",
   "metadata": {},
   "outputs": [],
   "source": [
    "# Number of subjects\n",
    "num_subject = multiout_type"
   ]
  },
  {
   "cell_type": "markdown",
   "id": "37e02154",
   "metadata": {},
   "source": [
    "Build two models"
   ]
  },
  {
   "cell_type": "code",
   "execution_count": 80,
   "id": "05766d44",
   "metadata": {},
   "outputs": [
    {
     "name": "stdout",
     "output_type": "stream",
     "text": [
      "X.shape = (None, 1)\n",
      "gauss_grid.shape = (None, 5)\n",
      "X.shape = (None, 1)\n",
      "SID.shape = (None, 1)\n"
     ]
    }
   ],
   "source": [
    "inputs = keras.layers.Input(shape=X_train.shape[1:])\n",
    "inputs_sid = keras.layers.Input(shape=(1,), dtype=tf.int32)\n",
    "#\n",
    "z = num2grid(5,x_min=-10, x_max=10, sigma=3.0)(inputs)\n",
    "z = keras.layers.Dense(30, activation=\"relu\")(z)\n",
    "output = keras.layers.Dense(1)(z)\n",
    "# output_biased = SubjectBias(num_subject, bias_scale=10.0, mean_reg_rate=1.0, name=\"bias_est\")([output, inputs_sid])\n",
    "output_biased = SubjectLinearTransform1D(num_subject, bias_scale=10.0, weight_mean_reg_rate=5.0, bias_mean_reg_rate=1.0, name=\"bias_est\")([output, inputs_sid])\n",
    "# Setup models\n",
    "model = keras.Model(inputs=[inputs], outputs=[output]) # pure\n",
    "model_biased = keras.Model(inputs=[inputs, inputs_sid], outputs=[output_biased]) # biased, for training"
   ]
  },
  {
   "cell_type": "code",
   "execution_count": 81,
   "id": "6da7e9b1",
   "metadata": {},
   "outputs": [
    {
     "name": "stderr",
     "output_type": "stream",
     "text": [
      "C:\\Users\\benso\\anaconda3\\envs\\ml\\lib\\site-packages\\keras\\optimizer_v2\\adam.py:105: UserWarning: The `lr` argument is deprecated, use `learning_rate` instead.\n",
      "  super(Adam, self).__init__(name, **kwargs)\n"
     ]
    }
   ],
   "source": [
    "# optimizer = keras.optimizers.SGD(lr=0.001, momentum=0.9)\n",
    "# model.compile(loss=\"mean_squared_error\", optimizer=optimizer)\n",
    "optimizer = keras.optimizers.Adam(lr=0.1)\n",
    "model_biased.compile(loss=\"mean_absolute_error\", optimizer=optimizer)\n",
    "#\n",
    "# model.compile(loss=\"mean_absolute_error\", optimizer=optimizer) # No need to compile this if it's not going to be trained."
   ]
  },
  {
   "cell_type": "code",
   "execution_count": 82,
   "id": "700a6e39",
   "metadata": {
    "scrolled": true
   },
   "outputs": [
    {
     "name": "stdout",
     "output_type": "stream",
     "text": [
      "Epoch 1/100\n",
      "X.shape = (None, 1)\n",
      "gauss_grid.shape = (None, 5)\n",
      "X.shape = (None, 1)\n",
      "SID.shape = (None, 1)\n",
      "X.shape = (None, 1)\n",
      "gauss_grid.shape = (None, 5)\n",
      "X.shape = (None, 1)\n",
      "SID.shape = (None, 1)\n",
      "1/3 [=========>....................] - ETA: 1s - loss: 38.9793X.shape = (None, 1)\n",
      "gauss_grid.shape = (None, 5)\n",
      "X.shape = (None, 1)\n",
      "SID.shape = (None, 1)\n",
      "3/3 [==============================] - 1s 92ms/step - loss: 41.2277 - val_loss: 31.9164\n",
      "Epoch 2/100\n",
      "3/3 [==============================] - 0s 21ms/step - loss: 37.3352 - val_loss: 28.0839\n",
      "Epoch 3/100\n",
      "3/3 [==============================] - 0s 39ms/step - loss: 30.5746 - val_loss: 20.4889\n",
      "Epoch 4/100\n",
      "3/3 [==============================] - 0s 46ms/step - loss: 19.4359 - val_loss: 10.6793\n",
      "Epoch 5/100\n",
      "3/3 [==============================] - 0s 41ms/step - loss: 16.3875 - val_loss: 12.4637\n",
      "Epoch 6/100\n",
      "3/3 [==============================] - 0s 42ms/step - loss: 16.2622 - val_loss: 8.6880\n",
      "Epoch 7/100\n",
      "3/3 [==============================] - 0s 37ms/step - loss: 11.7224 - val_loss: 6.9342\n",
      "Epoch 8/100\n",
      "3/3 [==============================] - 0s 21ms/step - loss: 11.5658 - val_loss: 8.4810\n",
      "Epoch 9/100\n",
      "3/3 [==============================] - 0s 22ms/step - loss: 12.4438 - val_loss: 7.4492\n",
      "Epoch 10/100\n",
      "3/3 [==============================] - 0s 21ms/step - loss: 10.8556 - val_loss: 7.2148\n",
      "Epoch 11/100\n",
      "3/3 [==============================] - 0s 24ms/step - loss: 9.6810 - val_loss: 8.4107\n",
      "Epoch 12/100\n",
      "3/3 [==============================] - 0s 20ms/step - loss: 9.6914 - val_loss: 6.2595\n",
      "Epoch 13/100\n",
      "3/3 [==============================] - 0s 17ms/step - loss: 8.9061 - val_loss: 6.4788\n",
      "Epoch 14/100\n",
      "3/3 [==============================] - 0s 17ms/step - loss: 9.2323 - val_loss: 7.1473\n",
      "Epoch 15/100\n",
      "3/3 [==============================] - 0s 28ms/step - loss: 9.0836 - val_loss: 6.3199\n",
      "Epoch 16/100\n",
      "3/3 [==============================] - 0s 20ms/step - loss: 7.7772 - val_loss: 6.8598\n",
      "Epoch 17/100\n",
      "3/3 [==============================] - 0s 25ms/step - loss: 8.7252 - val_loss: 5.9354\n",
      "Epoch 18/100\n",
      "3/3 [==============================] - 0s 23ms/step - loss: 7.2576 - val_loss: 7.0257\n",
      "Epoch 19/100\n",
      "3/3 [==============================] - 0s 19ms/step - loss: 6.8529 - val_loss: 6.3006\n",
      "Epoch 20/100\n",
      "3/3 [==============================] - 0s 24ms/step - loss: 8.6841 - val_loss: 6.2305\n",
      "Epoch 21/100\n",
      "3/3 [==============================] - 0s 20ms/step - loss: 6.5240 - val_loss: 7.0568\n",
      "Epoch 22/100\n",
      "3/3 [==============================] - 0s 19ms/step - loss: 6.8543 - val_loss: 4.9577\n",
      "Epoch 23/100\n",
      "3/3 [==============================] - 0s 26ms/step - loss: 6.2876 - val_loss: 4.7279\n",
      "Epoch 24/100\n",
      "3/3 [==============================] - 0s 20ms/step - loss: 5.6595 - val_loss: 5.1020\n",
      "Epoch 25/100\n",
      "3/3 [==============================] - 0s 19ms/step - loss: 5.7659 - val_loss: 4.8621\n",
      "Epoch 26/100\n",
      "3/3 [==============================] - 0s 22ms/step - loss: 5.0783 - val_loss: 5.2816\n",
      "Epoch 27/100\n",
      "3/3 [==============================] - 0s 19ms/step - loss: 5.2348 - val_loss: 4.8726\n",
      "Epoch 28/100\n",
      "3/3 [==============================] - 0s 26ms/step - loss: 5.0995 - val_loss: 5.0143\n",
      "Epoch 29/100\n",
      "3/3 [==============================] - 0s 18ms/step - loss: 4.8829 - val_loss: 4.4657\n",
      "Epoch 30/100\n",
      "3/3 [==============================] - 0s 25ms/step - loss: 4.5633 - val_loss: 4.6559\n",
      "Epoch 31/100\n",
      "3/3 [==============================] - 0s 16ms/step - loss: 4.6121 - val_loss: 5.4738\n",
      "Epoch 32/100\n",
      "3/3 [==============================] - 0s 14ms/step - loss: 5.4740 - val_loss: 3.8324\n",
      "Epoch 33/100\n",
      "3/3 [==============================] - 0s 22ms/step - loss: 5.3215 - val_loss: 3.6769\n",
      "Epoch 34/100\n",
      "3/3 [==============================] - 0s 19ms/step - loss: 5.0841 - val_loss: 3.6394\n",
      "Epoch 35/100\n",
      "3/3 [==============================] - 0s 26ms/step - loss: 4.6318 - val_loss: 5.1046\n",
      "Epoch 36/100\n",
      "3/3 [==============================] - 0s 23ms/step - loss: 4.8680 - val_loss: 6.2387\n",
      "Epoch 37/100\n",
      "3/3 [==============================] - 0s 19ms/step - loss: 5.0285 - val_loss: 4.7451\n",
      "Epoch 38/100\n",
      "3/3 [==============================] - 0s 26ms/step - loss: 4.6670 - val_loss: 3.4079\n",
      "Epoch 39/100\n",
      "3/3 [==============================] - 0s 26ms/step - loss: 3.9536 - val_loss: 3.2511\n",
      "Epoch 40/100\n",
      "3/3 [==============================] - 0s 23ms/step - loss: 3.4463 - val_loss: 3.0833\n",
      "Epoch 41/100\n",
      "3/3 [==============================] - 0s 22ms/step - loss: 3.3189 - val_loss: 3.5762\n",
      "Epoch 42/100\n",
      "3/3 [==============================] - 0s 16ms/step - loss: 3.6061 - val_loss: 3.2199\n",
      "Epoch 43/100\n",
      "3/3 [==============================] - 0s 19ms/step - loss: 3.2554 - val_loss: 2.9346\n",
      "Epoch 44/100\n",
      "3/3 [==============================] - 0s 19ms/step - loss: 3.5867 - val_loss: 3.5787\n",
      "Epoch 45/100\n",
      "3/3 [==============================] - 0s 21ms/step - loss: 4.8786 - val_loss: 3.1369\n",
      "Epoch 46/100\n",
      "3/3 [==============================] - 0s 20ms/step - loss: 3.6893 - val_loss: 2.9886\n",
      "Epoch 47/100\n",
      "3/3 [==============================] - 0s 23ms/step - loss: 3.0106 - val_loss: 3.6683\n",
      "Epoch 48/100\n",
      "3/3 [==============================] - 0s 28ms/step - loss: 3.5713 - val_loss: 2.6584\n",
      "Epoch 49/100\n",
      "3/3 [==============================] - 0s 21ms/step - loss: 3.0121 - val_loss: 2.6662\n",
      "Epoch 50/100\n",
      "3/3 [==============================] - 0s 22ms/step - loss: 2.8226 - val_loss: 2.3486\n",
      "Epoch 51/100\n",
      "3/3 [==============================] - 0s 18ms/step - loss: 3.1298 - val_loss: 2.2976\n",
      "Epoch 52/100\n",
      "3/3 [==============================] - 0s 20ms/step - loss: 2.7006 - val_loss: 2.2180\n",
      "Epoch 53/100\n",
      "3/3 [==============================] - 0s 18ms/step - loss: 2.4866 - val_loss: 2.2466\n",
      "Epoch 54/100\n",
      "3/3 [==============================] - 0s 25ms/step - loss: 2.8190 - val_loss: 2.2546\n",
      "Epoch 55/100\n",
      "3/3 [==============================] - 0s 23ms/step - loss: 2.9631 - val_loss: 2.2968\n",
      "Epoch 56/100\n",
      "3/3 [==============================] - 0s 25ms/step - loss: 2.6496 - val_loss: 2.1697\n",
      "Epoch 57/100\n",
      "3/3 [==============================] - 0s 20ms/step - loss: 2.5321 - val_loss: 2.3479\n",
      "Epoch 58/100\n",
      "3/3 [==============================] - 0s 21ms/step - loss: 2.6360 - val_loss: 2.4609\n",
      "Epoch 59/100\n",
      "3/3 [==============================] - 0s 25ms/step - loss: 2.8352 - val_loss: 2.5081\n",
      "Epoch 60/100\n",
      "3/3 [==============================] - 0s 23ms/step - loss: 2.6359 - val_loss: 2.2764\n",
      "Epoch 61/100\n",
      "3/3 [==============================] - 0s 19ms/step - loss: 2.6113 - val_loss: 2.5193\n",
      "Epoch 62/100\n",
      "3/3 [==============================] - 0s 19ms/step - loss: 2.8852 - val_loss: 2.3912\n",
      "Epoch 63/100\n",
      "3/3 [==============================] - 0s 21ms/step - loss: 2.7356 - val_loss: 2.5465\n",
      "Epoch 64/100\n",
      "3/3 [==============================] - 0s 19ms/step - loss: 2.9314 - val_loss: 2.7159\n",
      "Epoch 65/100\n",
      "3/3 [==============================] - 0s 21ms/step - loss: 2.7390 - val_loss: 3.0322\n",
      "Epoch 66/100\n",
      "3/3 [==============================] - 0s 26ms/step - loss: 3.0485 - val_loss: 3.3827\n",
      "Epoch 67/100\n",
      "3/3 [==============================] - 0s 25ms/step - loss: 4.1083 - val_loss: 2.9923\n",
      "Epoch 68/100\n",
      "3/3 [==============================] - 0s 29ms/step - loss: 3.5367 - val_loss: 3.0916\n",
      "Epoch 69/100\n",
      "3/3 [==============================] - 0s 17ms/step - loss: 3.7032 - val_loss: 2.8929\n",
      "Epoch 70/100\n",
      "3/3 [==============================] - 0s 22ms/step - loss: 4.0174 - val_loss: 2.4820\n",
      "Epoch 71/100\n",
      "3/3 [==============================] - 0s 20ms/step - loss: 3.4526 - val_loss: 2.5276\n",
      "Epoch 72/100\n",
      "3/3 [==============================] - 0s 20ms/step - loss: 3.1890 - val_loss: 2.5715\n",
      "Epoch 73/100\n",
      "3/3 [==============================] - 0s 24ms/step - loss: 2.8855 - val_loss: 2.3391\n",
      "Epoch 74/100\n",
      "3/3 [==============================] - 0s 20ms/step - loss: 2.8052 - val_loss: 2.6813\n",
      "Epoch 75/100\n",
      "3/3 [==============================] - 0s 21ms/step - loss: 2.7629 - val_loss: 2.5575\n",
      "Epoch 76/100\n",
      "3/3 [==============================] - 0s 22ms/step - loss: 2.7982 - val_loss: 3.1690\n",
      "Epoch 77/100\n",
      "3/3 [==============================] - 0s 23ms/step - loss: 3.0079 - val_loss: 2.0897\n",
      "Epoch 78/100\n",
      "3/3 [==============================] - 0s 18ms/step - loss: 2.7901 - val_loss: 2.4756\n",
      "Epoch 79/100\n",
      "3/3 [==============================] - 0s 20ms/step - loss: 2.7752 - val_loss: 3.6967\n",
      "Epoch 80/100\n"
     ]
    },
    {
     "name": "stdout",
     "output_type": "stream",
     "text": [
      "3/3 [==============================] - 0s 24ms/step - loss: 3.4575 - val_loss: 3.4056\n",
      "Epoch 81/100\n",
      "3/3 [==============================] - 0s 26ms/step - loss: 4.1856 - val_loss: 2.6993\n",
      "Epoch 82/100\n",
      "3/3 [==============================] - 0s 25ms/step - loss: 4.1640 - val_loss: 2.6988\n",
      "Epoch 83/100\n",
      "3/3 [==============================] - 0s 25ms/step - loss: 2.6854 - val_loss: 3.3172\n",
      "Epoch 84/100\n",
      "3/3 [==============================] - 0s 23ms/step - loss: 3.6524 - val_loss: 3.3675\n",
      "Epoch 85/100\n",
      "3/3 [==============================] - 0s 30ms/step - loss: 2.9256 - val_loss: 3.5760\n",
      "Epoch 86/100\n",
      "3/3 [==============================] - 0s 22ms/step - loss: 3.1129 - val_loss: 3.8016\n",
      "Epoch 87/100\n",
      "3/3 [==============================] - 0s 19ms/step - loss: 4.2335 - val_loss: 3.9228\n",
      "Epoch 88/100\n",
      "3/3 [==============================] - 0s 21ms/step - loss: 4.6018 - val_loss: 2.4796\n",
      "Epoch 89/100\n",
      "3/3 [==============================] - 0s 22ms/step - loss: 3.1132 - val_loss: 2.4518\n",
      "Epoch 90/100\n",
      "3/3 [==============================] - 0s 21ms/step - loss: 2.6676 - val_loss: 2.2322\n",
      "Epoch 91/100\n",
      "3/3 [==============================] - 0s 16ms/step - loss: 2.5995 - val_loss: 2.2885\n",
      "Epoch 92/100\n",
      "3/3 [==============================] - 0s 20ms/step - loss: 2.9902 - val_loss: 2.3343\n",
      "Epoch 93/100\n",
      "3/3 [==============================] - 0s 21ms/step - loss: 3.3881 - val_loss: 2.3751\n",
      "Epoch 94/100\n",
      "3/3 [==============================] - 0s 22ms/step - loss: 3.1967 - val_loss: 3.3039\n",
      "Epoch 95/100\n",
      "3/3 [==============================] - 0s 25ms/step - loss: 3.4053 - val_loss: 3.1631\n",
      "Epoch 96/100\n",
      "3/3 [==============================] - 0s 20ms/step - loss: 3.3320 - val_loss: 3.0214\n",
      "Epoch 97/100\n",
      "3/3 [==============================] - 0s 25ms/step - loss: 3.2779 - val_loss: 2.8084\n",
      "Epoch 98/100\n",
      "3/3 [==============================] - 0s 22ms/step - loss: 3.2946 - val_loss: 3.3556\n",
      "Epoch 99/100\n",
      "3/3 [==============================] - 0s 26ms/step - loss: 3.4632 - val_loss: 3.3079\n",
      "Epoch 100/100\n",
      "3/3 [==============================] - 0s 25ms/step - loss: 3.8025 - val_loss: 2.4591\n"
     ]
    }
   ],
   "source": [
    "history = model_biased.fit([X_train, sid_train], y_train, epochs=100,\n",
    "                    validation_data=([X_valid, sid_valid], y_valid))"
   ]
  },
  {
   "cell_type": "code",
   "execution_count": 83,
   "id": "ca149f05",
   "metadata": {
    "scrolled": false
   },
   "outputs": [
    {
     "name": "stdout",
     "output_type": "stream",
     "text": [
      "Saving figure grid_noBiaseNum_training_curve\n"
     ]
    },
    {
     "data": {
      "image/png": "[encoded data removed]",
      "text/plain": [
       "<Figure size 576x360 with 1 Axes>"
      ]
     },
     "metadata": {
      "needs_background": "light"
     },
     "output_type": "display_data"
    }
   ],
   "source": [
    "import pandas as pd\n",
    "\n",
    "pd.DataFrame(history.history).plot(figsize=(8, 5))\n",
    "plt.grid(True)\n",
    "# plt.gca().set_ylim(0, 1)\n",
    "save_fig(\"grid_noBiaseNum_training_curve\")\n",
    "plt.show()"
   ]
  },
  {
   "cell_type": "markdown",
   "id": "2433c7a5",
   "metadata": {},
   "source": [
    "The pure prediction"
   ]
  },
  {
   "cell_type": "code",
   "execution_count": 84,
   "id": "556ee2c4",
   "metadata": {},
   "outputs": [
    {
     "name": "stdout",
     "output_type": "stream",
     "text": [
      "X.shape = (None, 1)\n",
      "gauss_grid.shape = (None, 5)\n",
      "Saving figure grid_noBaisNum_prediction\n"
     ]
    },
    {
     "data": {
      "image/png": "[encoded data removed]",
      "text/plain": [
       "<Figure size 432x288 with 1 Axes>"
      ]
     },
     "metadata": {
      "needs_background": "light"
     },
     "output_type": "display_data"
    }
   ],
   "source": [
    "draw_points(X_train, y_train, sid_train)\n",
    "draw_func(model.predict, mark='r-', linewidth=2, label=\"Predictions\")\n",
    "draw_normal_func(func_dict)\n",
    "plt.xlabel(\"$x_1$\", fontsize=18)\n",
    "plt.ylabel(\"$y$\", rotation=0, fontsize=18)\n",
    "plt.legend(loc=\"upper left\", fontsize=14)\n",
    "# plt.axis([-3, 3, 0, 10])\n",
    "save_fig(\"grid_noBaisNum_prediction\")\n",
    "plt.show()"
   ]
  },
  {
   "cell_type": "code",
   "execution_count": 85,
   "id": "4d3d77cd",
   "metadata": {},
   "outputs": [
    {
     "name": "stdout",
     "output_type": "stream",
     "text": [
      "y_func.shape = (100, 1)\n",
      "y_gt.shape = (100, 1)\n"
     ]
    },
    {
     "data": {
      "text/plain": [
       "1.7390162702521883"
      ]
     },
     "execution_count": 85,
     "metadata": {},
     "output_type": "execute_result"
    }
   ],
   "source": [
    "get_prediction_error(model.predict, func_dict, name=\"grid-noBiasNum\")"
   ]
  },
  {
   "cell_type": "markdown",
   "id": "b89b2413",
   "metadata": {},
   "source": [
    "### Biased Prediction (according to SID)"
   ]
  },
  {
   "cell_type": "code",
   "execution_count": 86,
   "id": "0893f75e",
   "metadata": {},
   "outputs": [
    {
     "name": "stdout",
     "output_type": "stream",
     "text": [
      "scaled_bias = \n",
      "[[-12.339666]\n",
      " [ 12.437408]]\n",
      "\n",
      "mean_scaled_bias = \n",
      "[0.09774208]\n"
     ]
    }
   ],
   "source": [
    "scaled_bias = model_biased.get_layer(\"bias_est\").get_scaled_biases_np()\n",
    "mean_scaled_bias = np.sum(scaled_bias, axis=0)\n",
    "#\n",
    "print(\"scaled_bias = \\n%s\" % str(scaled_bias))\n",
    "print(\"\\nmean_scaled_bias = \\n%s\" % str(mean_scaled_bias))"
   ]
  },
  {
   "cell_type": "code",
   "execution_count": 87,
   "id": "01a675f7",
   "metadata": {},
   "outputs": [
    {
     "name": "stdout",
     "output_type": "stream",
     "text": [
      "output_scales = \n",
      "[[1.1321056 ]\n",
      " [0.87622607]]\n",
      "\n",
      "mean_scales = \n",
      "[1.0041659]\n"
     ]
    }
   ],
   "source": [
    "try:\n",
    "    output_scales = model_biased.get_layer(\"bias_est\").get_weights_np()\n",
    "    mean_scales = np.mean(output_scales, axis=0)\n",
    "    #\n",
    "    print(\"output_scales = \\n%s\" % str(output_scales))\n",
    "    print(\"\\nmean_scales = \\n%s\" % str(mean_scales))\n",
    "except:\n",
    "    pass"
   ]
  },
  {
   "cell_type": "code",
   "execution_count": 88,
   "id": "16460e63",
   "metadata": {},
   "outputs": [
    {
     "name": "stdout",
     "output_type": "stream",
     "text": [
      "X.shape = (None, 1)\n",
      "gauss_grid.shape = (None, 5)\n",
      "X.shape = (None, 1)\n",
      "SID.shape = (None, 1)\n",
      "Saving figure grid_noBaisNum_perSubjectCurve\n"
     ]
    },
    {
     "data": {
      "image/png": "[encoded data removed]",
      "text/plain": [
       "<Figure size 432x288 with 1 Axes>"
      ]
     },
     "metadata": {
      "needs_background": "light"
     },
     "output_type": "display_data"
    }
   ],
   "source": [
    "def predict_with_biase_sid(X, sid=1):\n",
    "    return model_biased.predict([X, tf.fill( (X.shape[0],1), sid)])\n",
    "\n",
    "draw_points(X_train, y_train, sid_train)\n",
    "#\n",
    "draw_func(model.predict, mark='r-', linewidth=2, label=\"Predictions\")\n",
    "for _idx in range(num_subject):\n",
    "    _sid = _idx + 1\n",
    "    draw_func(lambda X: predict_with_biase_sid(X, _sid), mark='k--', linewidth=1, label=(\"sid=%d\" % _sid))\n",
    "#\n",
    "draw_normal_func(func_dict)\n",
    "plt.xlabel(\"$x_1$\", fontsize=18)\n",
    "plt.ylabel(\"$y$\", rotation=0, fontsize=18)\n",
    "plt.legend(loc=\"upper left\", fontsize=14)\n",
    "# plt.axis([-3, 3, 0, 10])\n",
    "save_fig(\"grid_noBaisNum_perSubjectCurve\")\n",
    "plt.show()"
   ]
  },
  {
   "cell_type": "code",
   "execution_count": null,
   "id": "88fbe2df",
   "metadata": {},
   "outputs": [],
   "source": []
  },
  {
   "cell_type": "markdown",
   "id": "40092303",
   "metadata": {},
   "source": [
    "# Combine Multi-Quantile Redgression with Per-Subject Transform Estimation (grid --> multi-quantile)"
   ]
  },
  {
   "cell_type": "code",
   "execution_count": 89,
   "id": "ba230fb2",
   "metadata": {},
   "outputs": [],
   "source": [
    "# quantile_list = [0.5]\n",
    "# quantile_list = [0.9]\n",
    "# quantile_list = [0.1, 0.9] # Use hidden layer with 30 neurons\n",
    "# quantile_list = [0.05, 0.95]\n",
    "# quantile_list = [0.25, 0.75]\n",
    "# quantile_list = [0.1, 0.5, 0.9]\n",
    "# quantile_list = [0.1, 0.3, 0.7, 0.9]\n",
    "# quantile_list = [0.1, 0.2, 0.3, 0.4, 0.6, 0.7, 0.8, 0.9] # remove 0.5\n",
    "quantile_list = [0.1, 0.2, 0.3, 0.4, 0.5, 0.6, 0.7, 0.8, 0.9] # Should use wider hidden layer (with many neurons) + L1 regularization\n",
    "num_quantile = len(quantile_list)"
   ]
  },
  {
   "cell_type": "code",
   "execution_count": 90,
   "id": "26d0136c",
   "metadata": {},
   "outputs": [],
   "source": [
    "# Number of subjects\n",
    "num_subject = multiout_type"
   ]
  },
  {
   "cell_type": "code",
   "execution_count": 91,
   "id": "7d1cdc96",
   "metadata": {},
   "outputs": [
    {
     "name": "stdout",
     "output_type": "stream",
     "text": [
      "X.shape = (None, 1)\n",
      "gauss_grid.shape = (None, 5)\n",
      "X.shape = (None, 9)\n",
      "SID.shape = (None, 1)\n"
     ]
    }
   ],
   "source": [
    "inputs = keras.layers.Input(shape=X_train.shape[1:])\n",
    "inputs_sid = keras.layers.Input(shape=(1,), dtype=tf.int32)\n",
    "#\n",
    "# z = inputs\n",
    "z = num2grid(5,x_min=-10, x_max=10, sigma=3.0)(inputs) # Convert to grid\n",
    "z = keras.layers.Dense(30, activation=\"relu\")(z)\n",
    "# z = keras.layers.Dense(30, activation=\"relu\")(z)\n",
    "# z = keras.layers.Dense(100, activation=\"relu\", kernel_regularizer=tf.keras.regularizers.l1(0.01))(z)\n",
    "# z = keras.layers.Dense(100, activation=\"relu\", kernel_regularizer=tf.keras.regularizers.l1(1.0))(z)\n",
    "output = keras.layers.Dense(num_quantile)(z)\n",
    "# output_biased = SubjectBias(num_subject, bias_scale=10.0, mean_reg_rate=1.0, name=\"bias_est\")([output, inputs_sid])\n",
    "output_biased = SubjectLinearTransform1D(num_subject, bias_scale=10.0, weight_mean_reg_rate=5.0, bias_mean_reg_rate=1.0, name=\"bias_est\")([output, inputs_sid])\n",
    "# Setup models\n",
    "model = keras.Model(inputs=[inputs], outputs=[output]) # pure\n",
    "model_biased = keras.Model(inputs=[inputs, inputs_sid], outputs=[output_biased]) # biased, for training"
   ]
  },
  {
   "cell_type": "code",
   "execution_count": 92,
   "id": "0769d3b2",
   "metadata": {},
   "outputs": [
    {
     "name": "stderr",
     "output_type": "stream",
     "text": [
      "C:\\Users\\benso\\anaconda3\\envs\\ml\\lib\\site-packages\\keras\\optimizer_v2\\adam.py:105: UserWarning: The `lr` argument is deprecated, use `learning_rate` instead.\n",
      "  super(Adam, self).__init__(name, **kwargs)\n"
     ]
    }
   ],
   "source": [
    "# optimizer = keras.optimizers.SGD(lr=0.1, momentum=0.9)\n",
    "optimizer = keras.optimizers.Adam(lr=0.1)\n",
    "model_biased.compile(loss=pinballLoss_full_fn, optimizer=optimizer)\n",
    "# model.compile(loss=pinballLoss_full_fn, optimizer=optimizer) # No need to compile this if it's not going to be trained."
   ]
  },
  {
   "cell_type": "code",
   "execution_count": 93,
   "id": "9a37c998",
   "metadata": {
    "scrolled": true
   },
   "outputs": [
    {
     "name": "stdout",
     "output_type": "stream",
     "text": [
      "Epoch 1/100\n",
      "X.shape = (None, 1)\n",
      "gauss_grid.shape = (None, 5)\n",
      "X.shape = (None, 9)\n",
      "SID.shape = (None, 1)\n",
      "X.shape = (None, 1)\n",
      "gauss_grid.shape = (None, 5)\n",
      "X.shape = (None, 9)\n",
      "SID.shape = (None, 1)\n",
      "1/3 [=========>....................] - ETA: 2s - loss: 195.6096X.shape = (None, 1)\n",
      "gauss_grid.shape = (None, 5)\n",
      "X.shape = (None, 9)\n",
      "SID.shape = (None, 1)\n",
      "3/3 [==============================] - 2s 147ms/step - loss: 187.2782 - val_loss: 146.8004\n",
      "Epoch 2/100\n",
      "3/3 [==============================] - 0s 32ms/step - loss: 170.2953 - val_loss: 126.5733\n",
      "Epoch 3/100\n",
      "3/3 [==============================] - 0s 42ms/step - loss: 136.2832 - val_loss: 99.7641\n",
      "Epoch 4/100\n",
      "3/3 [==============================] - 0s 33ms/step - loss: 98.7936 - val_loss: 77.7635\n",
      "Epoch 5/100\n",
      "3/3 [==============================] - 0s 45ms/step - loss: 81.1007 - val_loss: 61.4350\n",
      "Epoch 6/100\n",
      "3/3 [==============================] - 0s 48ms/step - loss: 67.0634 - val_loss: 51.9787\n",
      "Epoch 7/100\n",
      "3/3 [==============================] - 0s 27ms/step - loss: 56.7135 - val_loss: 47.3445\n",
      "Epoch 8/100\n",
      "3/3 [==============================] - 0s 23ms/step - loss: 51.6225 - val_loss: 42.5241\n",
      "Epoch 9/100\n",
      "3/3 [==============================] - 0s 24ms/step - loss: 48.7016 - val_loss: 34.2887\n",
      "Epoch 10/100\n",
      "3/3 [==============================] - 0s 25ms/step - loss: 46.3887 - val_loss: 31.2153\n",
      "Epoch 11/100\n",
      "3/3 [==============================] - 0s 29ms/step - loss: 41.2796 - val_loss: 31.8811\n",
      "Epoch 12/100\n",
      "3/3 [==============================] - 0s 26ms/step - loss: 37.5696 - val_loss: 27.7917\n",
      "Epoch 13/100\n",
      "3/3 [==============================] - 0s 24ms/step - loss: 35.1116 - val_loss: 26.0816\n",
      "Epoch 14/100\n",
      "3/3 [==============================] - 0s 22ms/step - loss: 32.4225 - val_loss: 26.0208\n",
      "Epoch 15/100\n",
      "3/3 [==============================] - 0s 22ms/step - loss: 33.5197 - val_loss: 22.5531\n",
      "Epoch 16/100\n",
      "3/3 [==============================] - 0s 30ms/step - loss: 30.1409 - val_loss: 21.5763\n",
      "Epoch 17/100\n",
      "3/3 [==============================] - 0s 22ms/step - loss: 29.5333 - val_loss: 24.5433\n",
      "Epoch 18/100\n",
      "3/3 [==============================] - 0s 24ms/step - loss: 29.0311 - val_loss: 24.3731\n",
      "Epoch 19/100\n",
      "3/3 [==============================] - 0s 29ms/step - loss: 25.2707 - val_loss: 20.5367\n",
      "Epoch 20/100\n",
      "3/3 [==============================] - 0s 22ms/step - loss: 25.3454 - val_loss: 20.1622\n",
      "Epoch 21/100\n",
      "3/3 [==============================] - 0s 29ms/step - loss: 23.9166 - val_loss: 20.8140\n",
      "Epoch 22/100\n",
      "3/3 [==============================] - 0s 29ms/step - loss: 22.8070 - val_loss: 19.1596\n",
      "Epoch 23/100\n",
      "3/3 [==============================] - 0s 22ms/step - loss: 21.3533 - val_loss: 18.7098\n",
      "Epoch 24/100\n",
      "3/3 [==============================] - 0s 22ms/step - loss: 19.9720 - val_loss: 16.8311\n",
      "Epoch 25/100\n",
      "3/3 [==============================] - 0s 22ms/step - loss: 19.1263 - val_loss: 16.1010\n",
      "Epoch 26/100\n",
      "3/3 [==============================] - 0s 23ms/step - loss: 17.8538 - val_loss: 16.2351\n",
      "Epoch 27/100\n",
      "3/3 [==============================] - 0s 23ms/step - loss: 18.2158 - val_loss: 16.6537\n",
      "Epoch 28/100\n",
      "3/3 [==============================] - 0s 22ms/step - loss: 15.9430 - val_loss: 14.0505\n",
      "Epoch 29/100\n",
      "3/3 [==============================] - 0s 26ms/step - loss: 14.2952 - val_loss: 13.6056\n",
      "Epoch 30/100\n",
      "3/3 [==============================] - 0s 28ms/step - loss: 14.3272 - val_loss: 12.1807\n",
      "Epoch 31/100\n",
      "3/3 [==============================] - 0s 28ms/step - loss: 12.9570 - val_loss: 12.0880\n",
      "Epoch 32/100\n",
      "3/3 [==============================] - 0s 26ms/step - loss: 12.9275 - val_loss: 11.7124\n",
      "Epoch 33/100\n",
      "3/3 [==============================] - 0s 24ms/step - loss: 11.7125 - val_loss: 11.7111\n",
      "Epoch 34/100\n",
      "3/3 [==============================] - 0s 25ms/step - loss: 12.0660 - val_loss: 12.3325\n",
      "Epoch 35/100\n",
      "3/3 [==============================] - 0s 26ms/step - loss: 11.9187 - val_loss: 12.9032\n",
      "Epoch 36/100\n",
      "3/3 [==============================] - 0s 27ms/step - loss: 12.6143 - val_loss: 10.8273\n",
      "Epoch 37/100\n",
      "3/3 [==============================] - 0s 34ms/step - loss: 10.8995 - val_loss: 10.5470\n",
      "Epoch 38/100\n",
      "3/3 [==============================] - 0s 32ms/step - loss: 11.6323 - val_loss: 10.2691\n",
      "Epoch 39/100\n",
      "3/3 [==============================] - 0s 28ms/step - loss: 10.8380 - val_loss: 10.7950\n",
      "Epoch 40/100\n",
      "3/3 [==============================] - 0s 26ms/step - loss: 11.2027 - val_loss: 10.0722\n",
      "Epoch 41/100\n",
      "3/3 [==============================] - 0s 34ms/step - loss: 10.7500 - val_loss: 12.1193\n",
      "Epoch 42/100\n",
      "3/3 [==============================] - 0s 24ms/step - loss: 12.2385 - val_loss: 11.6031\n",
      "Epoch 43/100\n",
      "3/3 [==============================] - 0s 27ms/step - loss: 12.7357 - val_loss: 13.7030\n",
      "Epoch 44/100\n",
      "3/3 [==============================] - 0s 28ms/step - loss: 14.3139 - val_loss: 15.0350\n",
      "Epoch 45/100\n",
      "3/3 [==============================] - 0s 26ms/step - loss: 16.2730 - val_loss: 13.0970\n",
      "Epoch 46/100\n",
      "3/3 [==============================] - 0s 28ms/step - loss: 13.7804 - val_loss: 11.0730\n",
      "Epoch 47/100\n",
      "3/3 [==============================] - 0s 29ms/step - loss: 13.9631 - val_loss: 12.5847\n",
      "Epoch 48/100\n",
      "3/3 [==============================] - 0s 23ms/step - loss: 14.1420 - val_loss: 12.2317\n",
      "Epoch 49/100\n",
      "3/3 [==============================] - 0s 24ms/step - loss: 15.4787 - val_loss: 10.0951\n",
      "Epoch 50/100\n",
      "3/3 [==============================] - 0s 24ms/step - loss: 12.3910 - val_loss: 10.0834\n",
      "Epoch 51/100\n",
      "3/3 [==============================] - 0s 30ms/step - loss: 12.1513 - val_loss: 10.7014\n",
      "Epoch 52/100\n",
      "3/3 [==============================] - 0s 32ms/step - loss: 11.8440 - val_loss: 10.8898\n",
      "Epoch 53/100\n",
      "3/3 [==============================] - 0s 27ms/step - loss: 11.5120 - val_loss: 10.5124\n",
      "Epoch 54/100\n",
      "3/3 [==============================] - 0s 23ms/step - loss: 11.5296 - val_loss: 11.0061\n",
      "Epoch 55/100\n",
      "3/3 [==============================] - 0s 22ms/step - loss: 11.4201 - val_loss: 10.4398\n",
      "Epoch 56/100\n",
      "3/3 [==============================] - 0s 25ms/step - loss: 12.5917 - val_loss: 10.4471\n",
      "Epoch 57/100\n",
      "3/3 [==============================] - 0s 24ms/step - loss: 11.8670 - val_loss: 11.2410\n",
      "Epoch 58/100\n",
      "3/3 [==============================] - 0s 22ms/step - loss: 11.8364 - val_loss: 9.1661\n",
      "Epoch 59/100\n",
      "3/3 [==============================] - 0s 32ms/step - loss: 10.6388 - val_loss: 10.2043\n",
      "Epoch 60/100\n",
      "3/3 [==============================] - 0s 24ms/step - loss: 10.3701 - val_loss: 11.6483\n",
      "Epoch 61/100\n",
      "3/3 [==============================] - 0s 26ms/step - loss: 11.3204 - val_loss: 11.6701\n",
      "Epoch 62/100\n",
      "3/3 [==============================] - 0s 29ms/step - loss: 12.1029 - val_loss: 9.9671\n",
      "Epoch 63/100\n",
      "3/3 [==============================] - 0s 23ms/step - loss: 11.2192 - val_loss: 10.1135\n",
      "Epoch 64/100\n",
      "3/3 [==============================] - 0s 23ms/step - loss: 10.6670 - val_loss: 9.7576\n",
      "Epoch 65/100\n",
      "3/3 [==============================] - 0s 27ms/step - loss: 10.6934 - val_loss: 8.8845\n",
      "Epoch 66/100\n",
      "3/3 [==============================] - 0s 25ms/step - loss: 9.9935 - val_loss: 9.3588\n",
      "Epoch 67/100\n",
      "3/3 [==============================] - 0s 26ms/step - loss: 10.5618 - val_loss: 9.3034\n",
      "Epoch 68/100\n",
      "3/3 [==============================] - 0s 35ms/step - loss: 10.7380 - val_loss: 11.3065\n",
      "Epoch 69/100\n",
      "3/3 [==============================] - 0s 28ms/step - loss: 11.0725 - val_loss: 11.2575\n",
      "Epoch 70/100\n",
      "3/3 [==============================] - 0s 23ms/step - loss: 11.5734 - val_loss: 11.3404\n",
      "Epoch 71/100\n",
      "3/3 [==============================] - 0s 24ms/step - loss: 11.1868 - val_loss: 10.2252\n",
      "Epoch 72/100\n",
      "3/3 [==============================] - 0s 24ms/step - loss: 11.2663 - val_loss: 10.1011\n",
      "Epoch 73/100\n",
      "3/3 [==============================] - 0s 23ms/step - loss: 10.2557 - val_loss: 10.6629\n",
      "Epoch 74/100\n",
      "3/3 [==============================] - 0s 29ms/step - loss: 10.8699 - val_loss: 11.8482\n",
      "Epoch 75/100\n",
      "3/3 [==============================] - 0s 22ms/step - loss: 11.8303 - val_loss: 11.4398\n",
      "Epoch 76/100\n",
      "3/3 [==============================] - 0s 24ms/step - loss: 11.3139 - val_loss: 9.7541\n",
      "Epoch 77/100\n",
      "3/3 [==============================] - 0s 24ms/step - loss: 9.7908 - val_loss: 10.1167\n",
      "Epoch 78/100\n",
      "3/3 [==============================] - 0s 23ms/step - loss: 10.5180 - val_loss: 9.9823\n"
     ]
    },
    {
     "name": "stdout",
     "output_type": "stream",
     "text": [
      "Epoch 79/100\n",
      "3/3 [==============================] - 0s 24ms/step - loss: 10.4761 - val_loss: 9.5330\n",
      "Epoch 80/100\n",
      "3/3 [==============================] - 0s 23ms/step - loss: 10.2956 - val_loss: 9.3820\n",
      "Epoch 81/100\n",
      "3/3 [==============================] - 0s 26ms/step - loss: 9.8525 - val_loss: 9.7044\n",
      "Epoch 82/100\n",
      "3/3 [==============================] - 0s 27ms/step - loss: 10.7641 - val_loss: 9.0125\n",
      "Epoch 83/100\n",
      "3/3 [==============================] - 0s 28ms/step - loss: 9.7431 - val_loss: 8.8168\n",
      "Epoch 84/100\n",
      "3/3 [==============================] - 0s 23ms/step - loss: 9.5196 - val_loss: 8.7024\n",
      "Epoch 85/100\n",
      "3/3 [==============================] - 0s 26ms/step - loss: 9.5752 - val_loss: 8.4149\n",
      "Epoch 86/100\n",
      "3/3 [==============================] - 0s 23ms/step - loss: 9.7036 - val_loss: 9.0424\n",
      "Epoch 87/100\n",
      "3/3 [==============================] - 0s 23ms/step - loss: 9.6728 - val_loss: 8.6756\n",
      "Epoch 88/100\n",
      "3/3 [==============================] - 0s 23ms/step - loss: 9.4367 - val_loss: 8.9333\n",
      "Epoch 89/100\n",
      "3/3 [==============================] - 0s 23ms/step - loss: 10.5848 - val_loss: 9.2413\n",
      "Epoch 90/100\n",
      "3/3 [==============================] - 0s 23ms/step - loss: 9.8486 - val_loss: 8.8346\n",
      "Epoch 91/100\n",
      "3/3 [==============================] - 0s 27ms/step - loss: 9.6222 - val_loss: 9.7450\n",
      "Epoch 92/100\n",
      "3/3 [==============================] - 0s 21ms/step - loss: 10.1421 - val_loss: 9.9912\n",
      "Epoch 93/100\n",
      "3/3 [==============================] - 0s 23ms/step - loss: 10.7687 - val_loss: 10.2482\n",
      "Epoch 94/100\n",
      "3/3 [==============================] - 0s 24ms/step - loss: 10.4401 - val_loss: 9.1298\n",
      "Epoch 95/100\n",
      "3/3 [==============================] - 0s 25ms/step - loss: 10.6918 - val_loss: 8.6623\n",
      "Epoch 96/100\n",
      "3/3 [==============================] - 0s 22ms/step - loss: 9.2905 - val_loss: 8.8315\n",
      "Epoch 97/100\n",
      "3/3 [==============================] - 0s 26ms/step - loss: 9.3714 - val_loss: 12.2877\n",
      "Epoch 98/100\n",
      "3/3 [==============================] - 0s 28ms/step - loss: 11.5571 - val_loss: 10.6599\n",
      "Epoch 99/100\n",
      "3/3 [==============================] - 0s 28ms/step - loss: 11.5113 - val_loss: 11.5554\n",
      "Epoch 100/100\n",
      "3/3 [==============================] - 0s 27ms/step - loss: 12.2740 - val_loss: 10.4327\n"
     ]
    }
   ],
   "source": [
    "history = model_biased.fit([X_train, sid_train], y_train, epochs=100,\n",
    "                    validation_data=([X_valid, sid_valid], y_valid))"
   ]
  },
  {
   "cell_type": "code",
   "execution_count": 94,
   "id": "66d04b69",
   "metadata": {},
   "outputs": [
    {
     "name": "stdout",
     "output_type": "stream",
     "text": [
      "Saving figure grid_NoBiasQuantile_training_curve\n"
     ]
    },
    {
     "data": {
      "image/png": "[encoded data removed]",
      "text/plain": [
       "<Figure size 576x360 with 1 Axes>"
      ]
     },
     "metadata": {
      "needs_background": "light"
     },
     "output_type": "display_data"
    }
   ],
   "source": [
    "import pandas as pd\n",
    "\n",
    "pd.DataFrame(history.history).plot(figsize=(8, 5))\n",
    "plt.grid(True)\n",
    "# plt.gca().set_ylim(0, 1)\n",
    "save_fig(\"grid_NoBiasQuantile_training_curve\")\n",
    "plt.show()"
   ]
  },
  {
   "cell_type": "markdown",
   "id": "9e1f1c9b",
   "metadata": {},
   "source": [
    "### Draw the \"pure\" mean prediction curve averaged from all quantile predictions."
   ]
  },
  {
   "cell_type": "code",
   "execution_count": 95,
   "id": "2f62afb2",
   "metadata": {},
   "outputs": [
    {
     "name": "stdout",
     "output_type": "stream",
     "text": [
      "X.shape = (None, 1)\n",
      "gauss_grid.shape = (None, 5)\n",
      "Saving figure grid_noBiaseQuantile_prediction\n"
     ]
    },
    {
     "data": {
      "image/png": "[encoded data removed]",
      "text/plain": [
       "<Figure size 432x288 with 1 Axes>"
      ]
     },
     "metadata": {
      "needs_background": "light"
     },
     "output_type": "display_data"
    }
   ],
   "source": [
    "# plt.plot(X_train, y_train, \"b.\")\n",
    "draw_points(X_train, y_train, sid_train)\n",
    "draw_func((lambda X: np.average(model.predict(X), axis=-1) ), mark='r-', linewidth=2, label=\"Predictions\")\n",
    "draw_normal_func(func_dict)\n",
    "plt.xlabel(\"$x_1$\", fontsize=18)\n",
    "plt.ylabel(\"$y$\", rotation=0, fontsize=18)\n",
    "plt.legend(loc=\"upper left\", fontsize=14)\n",
    "# plt.axis([-3, 3, 0, 10])\n",
    "save_fig(\"grid_noBiaseQuantile_prediction\")\n",
    "plt.show()"
   ]
  },
  {
   "cell_type": "code",
   "execution_count": 96,
   "id": "4ffc0f23",
   "metadata": {},
   "outputs": [
    {
     "name": "stdout",
     "output_type": "stream",
     "text": [
      "y_func.shape = (100, 1)\n",
      "y_gt.shape = (100, 1)\n"
     ]
    },
    {
     "data": {
      "text/plain": [
       "1.2013031925878128"
      ]
     },
     "execution_count": 96,
     "metadata": {},
     "output_type": "execute_result"
    }
   ],
   "source": [
    "get_prediction_error((lambda X: np.average(model.predict(X), axis=-1) ), func_dict, name=\"grid-noBiaseQuantileR\")"
   ]
  },
  {
   "cell_type": "markdown",
   "id": "a213fbdb",
   "metadata": {},
   "source": [
    "### Draw all \"pure\" quantile prediction"
   ]
  },
  {
   "cell_type": "code",
   "execution_count": 97,
   "id": "ff824ca7",
   "metadata": {},
   "outputs": [
    {
     "name": "stdout",
     "output_type": "stream",
     "text": [
      "Saving figure grid_quantile_all_quantiles\n"
     ]
    },
    {
     "data": {
      "image/png": "[encoded data removed]",
      "text/plain": [
       "<Figure size 432x288 with 1 Axes>"
      ]
     },
     "metadata": {
      "needs_background": "light"
     },
     "output_type": "display_data"
    }
   ],
   "source": [
    "# plt.plot(X_train, y_train, \"b.\")\n",
    "draw_points(X_train, y_train, sid_train)\n",
    "draw_func((lambda X: np.average(model.predict(X), axis=-1) ), mark='r-', linewidth=2, label=\"Predictions\")\n",
    "for _idx, _tau in enumerate(quantile_list):\n",
    "    draw_func((lambda X: model.predict(X)[:,_idx] ), mark='k--', linewidth=1, label=\"$y_{%d}$\" % (_tau*100))\n",
    "draw_normal_func(func_dict)\n",
    "plt.xlabel(\"$x_1$\", fontsize=18)\n",
    "plt.ylabel(\"$y$\", rotation=0, fontsize=18)\n",
    "plt.legend(loc=\"upper left\", fontsize=14)\n",
    "# plt.axis([-3, 3, 0, 10])\n",
    "save_fig(\"grid_quantile_all_quantiles\")\n",
    "plt.show()"
   ]
  },
  {
   "cell_type": "markdown",
   "id": "11c7ec73",
   "metadata": {},
   "source": [
    "### Estimated Biases and Scales (according to SID)"
   ]
  },
  {
   "cell_type": "code",
   "execution_count": 98,
   "id": "9a79c04b",
   "metadata": {},
   "outputs": [
    {
     "name": "stdout",
     "output_type": "stream",
     "text": [
      "scaled_bias = \n",
      "[[-11.21098  -11.139974 -11.149121 -11.499714 -11.979455 -12.862183\n",
      "  -13.329056 -12.924604 -12.742152]\n",
      " [ 11.138841  11.366602  11.370883  11.950596  11.799455  12.444799\n",
      "   12.910713  12.474862  12.524692]]\n",
      "\n",
      "mean_scaled_bias = \n",
      "[-0.07213974  0.2266283   0.2217617   0.45088196 -0.1800003  -0.4173832\n",
      " -0.4183426  -0.44974232 -0.21746063]\n"
     ]
    }
   ],
   "source": [
    "scaled_bias = model_biased.get_layer(\"bias_est\").get_scaled_biases_np()\n",
    "mean_scaled_bias = np.sum(scaled_bias, axis=0)\n",
    "#\n",
    "print(\"scaled_bias = \\n%s\" % str(scaled_bias))\n",
    "print(\"\\nmean_scaled_bias = \\n%s\" % str(mean_scaled_bias))"
   ]
  },
  {
   "cell_type": "code",
   "execution_count": 99,
   "id": "ef5bb592",
   "metadata": {},
   "outputs": [
    {
     "name": "stdout",
     "output_type": "stream",
     "text": [
      "output_scales = \n",
      "[[1.1630927  1.0921855  1.0890601  1.121638   1.1293958  1.1512198\n",
      "  1.0865133  1.1010044  1.0881878 ]\n",
      " [0.82325405 0.85982555 0.8626931  0.8701725  0.8366277  0.8368305\n",
      "  0.8904737  0.9119264  0.86341745]]\n",
      "\n",
      "mean_scales = \n",
      "[0.99317336 0.97600555 0.97587657 0.9959052  0.9830118  0.9940252\n",
      " 0.9884935  1.0064654  0.97580266]\n"
     ]
    }
   ],
   "source": [
    "try:\n",
    "    output_scales = model_biased.get_layer(\"bias_est\").get_weights_np()\n",
    "    mean_scales = np.mean(output_scales, axis=0)\n",
    "    #\n",
    "    print(\"output_scales = \\n%s\" % str(output_scales))\n",
    "    print(\"\\nmean_scales = \\n%s\" % str(mean_scales))\n",
    "except:\n",
    "    pass"
   ]
  },
  {
   "cell_type": "markdown",
   "id": "c493d1c8",
   "metadata": {},
   "source": [
    "### Plotting of mean quantiles for each subject"
   ]
  },
  {
   "cell_type": "code",
   "execution_count": 100,
   "id": "3c2bd240",
   "metadata": {},
   "outputs": [
    {
     "name": "stdout",
     "output_type": "stream",
     "text": [
      "X.shape = (None, 1)\n",
      "gauss_grid.shape = (None, 5)\n",
      "X.shape = (None, 9)\n",
      "SID.shape = (None, 1)\n",
      "Saving figure grid_noBaisNum_perSubjectCurve\n"
     ]
    },
    {
     "data": {
      "image/png": "[encoded data removed]",
      "text/plain": [
       "<Figure size 432x288 with 1 Axes>"
      ]
     },
     "metadata": {
      "needs_background": "light"
     },
     "output_type": "display_data"
    }
   ],
   "source": [
    "def predict_with_biase_sid(X, sid=1):\n",
    "    return np.average( model_biased.predict([X, tf.fill( (X.shape[0],1), sid)]), axis=1)\n",
    "\n",
    "draw_points(X_train, y_train, sid_train)\n",
    "#\n",
    "draw_func((lambda X: np.average(model.predict(X), axis=-1) ), mark='r-', linewidth=2, label=\"Predictions\")\n",
    "for _idx in range(num_subject):\n",
    "    _sid = _idx + 1\n",
    "    draw_func(lambda X: predict_with_biase_sid(X, _sid), mark='k--', linewidth=1, label=(\"sid=%d\" % _sid))\n",
    "#\n",
    "draw_normal_func(func_dict)\n",
    "plt.xlabel(\"$x_1$\", fontsize=18)\n",
    "plt.ylabel(\"$y$\", rotation=0, fontsize=18)\n",
    "plt.legend(loc=\"upper left\", fontsize=14)\n",
    "# plt.axis([-3, 3, 0, 10])\n",
    "save_fig(\"grid_noBaisNum_perSubjectCurve\")\n",
    "plt.show()"
   ]
  },
  {
   "cell_type": "markdown",
   "id": "6f1b070e",
   "metadata": {},
   "source": [
    "# Train with GAN"
   ]
  },
  {
   "cell_type": "code",
   "execution_count": 101,
   "id": "00b87d5e",
   "metadata": {},
   "outputs": [],
   "source": [
    "# model = keras.models.Sequential([\n",
    "#     num2grid(5,x_min=-10, x_max=10, sigma=3.0, input_shape=X_train.shape[1:]),\n",
    "#     keras.layers.Dense(30, activation=\"relu\"),\n",
    "# #     keras.layers.Dense(100, activation=\"relu\", kernel_regularizer=tf.keras.regularizers.l1(0.01)),\n",
    "# #     keras.layers.Dense(30, activation=keras.layers.LeakyReLU(alpha=0.2) ),\n",
    "# #     keras.layers.Dense(30, activation=\"selu\"),\n",
    "# #     keras.layers.Dense(30, activation=\"relu\"),\n",
    "#     keras.layers.Dense(1)\n",
    "# ])"
   ]
  },
  {
   "cell_type": "code",
   "execution_count": 102,
   "id": "198862ab",
   "metadata": {},
   "outputs": [],
   "source": [
    "# '''\n",
    "#   x   ----generator----> (x,y) \n",
    "# (x,y) --discriminator--> Real/Fake\n",
    "# '''\n",
    "# x_size = 1\n",
    "# y_size = 1\n",
    "\n",
    "# # x --> (x,y)\n",
    "# inputs = keras.layers.Input(shape=(x_size,))\n",
    "# output = model(inputs)\n",
    "# output_cat = tf.concat([inputs, output], 1)\n",
    "# generator = keras.Model(inputs=[inputs], outputs=[output_cat])\n",
    "# # (x,y) --> Real/Fake\n",
    "# discriminator = keras.models.Sequential([\n",
    "#     keras.layers.Dense(30, activation=\"selu\", input_shape=((x_size+y_size),)),\n",
    "#     keras.layers.Dense(30, activation=\"selu\"),\n",
    "#     keras.layers.Dense(1, activation=\"sigmoid\")\n",
    "# ])\n",
    "# gan = keras.models.Sequential([generator, discriminator])"
   ]
  },
  {
   "cell_type": "code",
   "execution_count": 103,
   "id": "f9f64c02",
   "metadata": {},
   "outputs": [],
   "source": [
    "# # Compile the models\n",
    "# #---------------------------------#\n",
    "# optimizer = keras.optimizers.Adam(lr=0.1)\n",
    "# # Discriminator\n",
    "# # discriminator.compile(loss=\"binary_crossentropy\", optimizer=\"rmsprop\")\n",
    "# discriminator.compile(loss=\"binary_crossentropy\", optimizer=optimizer)\n",
    "# # GAN model\n",
    "# discriminator.trainable = False\n",
    "# # gan.compile(loss=\"binary_crossentropy\", optimizer=\"rmsprop\")\n",
    "# gan.compile(loss=\"binary_crossentropy\", optimizer=optimizer)"
   ]
  },
  {
   "cell_type": "code",
   "execution_count": 104,
   "id": "9bf9b4a2",
   "metadata": {},
   "outputs": [],
   "source": [
    "# # dataset\n",
    "# batch_size = 32\n",
    "# dataset = tf.data.Dataset.from_tensor_slices( tf.cast(tf.concat([X_train, y_train], axis=1), tf.float32) ).shuffle(1000)\n",
    "# dataset = dataset.batch(batch_size, drop_remainder=True).prefetch(1)"
   ]
  },
  {
   "cell_type": "code",
   "execution_count": 105,
   "id": "7b061d90",
   "metadata": {},
   "outputs": [],
   "source": [
    "# # Custom training loop\n",
    "# def train_gan(gan, dataset, batch_size, x_size, n_epochs=100):\n",
    "#     generator, discriminator = gan.layers\n",
    "#     for epoch in range(n_epochs):\n",
    "#         print(\"--- epoch #%d\" % epoch)\n",
    "#         for XY_batch in dataset:\n",
    "#             # phase 1 - training the discriminator\n",
    "#             noise = tf.random.normal(shape=[batch_size, x_size])\n",
    "#             generated_XY = generator(noise)\n",
    "#             X_fake_and_real = tf.concat([generated_XY, XY_batch], axis=0)\n",
    "#             y1 = tf.constant([[0.]] * batch_size + [[1.]] * batch_size)\n",
    "#             discriminator.trainable = True\n",
    "#             discriminator.train_on_batch(X_fake_and_real, y1)\n",
    "#             # phase 2 - training the generator\n",
    "#             noise = tf.random.normal(shape=[batch_size, x_size])\n",
    "#             y2 = tf.constant([[1.]] * batch_size)\n",
    "#             discriminator.trainable = False\n",
    "#             gan.train_on_batch(noise, y2)"
   ]
  },
  {
   "cell_type": "code",
   "execution_count": 106,
   "id": "79ac8ef1",
   "metadata": {},
   "outputs": [],
   "source": [
    "# train_gan(gan, dataset, batch_size, x_size, n_epochs=100)"
   ]
  },
  {
   "cell_type": "code",
   "execution_count": 107,
   "id": "7a4ef5e9",
   "metadata": {},
   "outputs": [],
   "source": [
    "# # plt.plot(X_train, y_train, \"b.\")\n",
    "# draw_points(X_train, y_train, sid_train)\n",
    "# draw_func((lambda X: np.average(model.predict(X), axis=-1) ), mark='r-', linewidth=2, label=\"Predictions\")\n",
    "# draw_normal_func(func_dict)\n",
    "# plt.xlabel(\"$x_1$\", fontsize=18)\n",
    "# plt.ylabel(\"$y$\", rotation=0, fontsize=18)\n",
    "# plt.legend(loc=\"upper left\", fontsize=14)\n",
    "# # plt.axis([-3, 3, 0, 10])\n",
    "# save_fig(\"GAN\")\n",
    "# plt.show()"
   ]
  },
  {
   "cell_type": "markdown",
   "id": "82ec4fc4",
   "metadata": {},
   "source": [
    "# Summary"
   ]
  },
  {
   "cell_type": "code",
   "execution_count": 108,
   "id": "2d764d70",
   "metadata": {},
   "outputs": [
    {
     "name": "stdout",
     "output_type": "stream",
     "text": [
      "num-num: 5.970816\n",
      "grid-num: 4.198204\n",
      "grid-rbc: 3.588512\n",
      "grid-quantileR: 1.497966\n",
      "grid-oneGaussian: 7.457466\n",
      "grid-noBiasNum: 1.739016\n",
      "grid-noBiaseQuantileR: 1.201303\n",
      "\n"
     ]
    }
   ],
   "source": [
    "results = print_all_prediction_error()"
   ]
  },
  {
   "cell_type": "code",
   "execution_count": 109,
   "id": "9f01e530",
   "metadata": {},
   "outputs": [
    {
     "name": "stdout",
     "output_type": "stream",
     "text": [
      "Saving all prediction errors to [.\\images\\regression_test_2\\prediction_errors.txt].\n"
     ]
    },
    {
     "data": {
      "text/plain": [
       "True"
      ]
     },
     "execution_count": 109,
     "metadata": {},
     "output_type": "execute_result"
    }
   ],
   "source": [
    "save_prediction_errors()"
   ]
  },
  {
   "cell_type": "code",
   "execution_count": null,
   "id": "0c3bdf42",
   "metadata": {},
   "outputs": [],
   "source": []
  },
  {
   "cell_type": "code",
   "execution_count": null,
   "id": "a5e6a55a",
   "metadata": {},
   "outputs": [],
   "source": []
  },
  {
   "cell_type": "code",
   "execution_count": null,
   "id": "1838a588",
   "metadata": {},
   "outputs": [],
   "source": []
  },
  {
   "cell_type": "code",
   "execution_count": null,
   "id": "2f94dffa",
   "metadata": {},
   "outputs": [],
   "source": []
  }
 ],
 "metadata": {
  "kernelspec": {
   "display_name": "Python 3 (ipykernel)",
   "language": "python",
   "name": "python3"
  },
  "language_info": {
   "codemirror_mode": {
    "name": "ipython",
    "version": 3
   },
   "file_extension": ".py",
   "mimetype": "text/x-python",
   "name": "python",
   "nbconvert_exporter": "python",
   "pygments_lexer": "ipython3",
   "version": "3.9.7"
  }
 },
 "nbformat": 4,
 "nbformat_minor": 5
}
