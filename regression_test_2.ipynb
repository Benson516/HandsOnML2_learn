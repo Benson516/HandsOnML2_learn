{
 "cells": [
  {
   "cell_type": "markdown",
   "id": "899fa113",
   "metadata": {},
   "source": [
    "# Regression with Different Output Format under Various Data Conditions\n",
    "\n",
    "In this experience, we test the following output format for regression task under several different data coditions.\n",
    "- Numerical output\n",
    "- Regression as classification (grid-out)\n",
    "\n",
    "The data coditions include:\n",
    "- Sparse (few data)\n",
    "- Grouped\n",
    "  - Biased (parallel data)\n",
    "  - Completely different mode, uncorrelated data (cross)\n",
    "  - Partially diversed (split)"
   ]
  },
  {
   "cell_type": "code",
   "execution_count": 1,
   "id": "625ce7c3",
   "metadata": {},
   "outputs": [
    {
     "name": "stderr",
     "output_type": "stream",
     "text": [
      "2022-04-07 12:29:26.166363: W tensorflow/stream_executor/platform/default/dso_loader.cc:64] Could not load dynamic library 'libcudart.so.11.0'; dlerror: libcudart.so.11.0: cannot open shared object file: No such file or directory; LD_LIBRARY_PATH: /home/benson516/agv_ws/devel/lib:/opt/ros/noetic/lib\n",
      "2022-04-07 12:29:26.166383: I tensorflow/stream_executor/cuda/cudart_stub.cc:29] Ignore above cudart dlerror if you do not have a GPU set up on your machine.\n"
     ]
    }
   ],
   "source": [
    "import numpy as np\n",
    "import tensorflow as tf\n",
    "from tensorflow import keras\n",
    "import os\n",
    "# from tqdm import tqdm\n",
    "\n",
    "# To plot pretty figures\n",
    "%matplotlib inline\n",
    "import matplotlib as mpl\n",
    "import matplotlib.pyplot as plt\n",
    "mpl.rc('axes', labelsize=14)\n",
    "mpl.rc('xtick', labelsize=12)\n",
    "mpl.rc('ytick', labelsize=12)"
   ]
  },
  {
   "cell_type": "code",
   "execution_count": 2,
   "id": "7ad564ad",
   "metadata": {},
   "outputs": [],
   "source": [
    "# Where to save the figures\n",
    "PROJECT_ROOT_DIR = \".\"\n",
    "CHAPTER_ID = \"regression_test_2\"\n",
    "IMAGES_PATH = os.path.join(PROJECT_ROOT_DIR, \"images\", CHAPTER_ID)\n",
    "os.makedirs(IMAGES_PATH, exist_ok=True)\n",
    "\n",
    "def save_fig(fig_id, tight_layout=True, fig_extension=\"png\", resolution=300):\n",
    "    path = os.path.join(IMAGES_PATH, fig_id + \".\" + fig_extension)\n",
    "    print(\"Saving figure\", fig_id)\n",
    "    if tight_layout:\n",
    "        plt.tight_layout()\n",
    "    plt.savefig(path, format=fig_extension, dpi=resolution)"
   ]
  },
  {
   "cell_type": "code",
   "execution_count": 3,
   "id": "94e8a077",
   "metadata": {},
   "outputs": [],
   "source": [
    "def draw_func(func_in, x_min=-5, x_max=5, mark='r--', linewidth=1, label='func'):\n",
    "    n_sample = 100\n",
    "    X_func = np.linspace(x_min, x_max, n_sample).reshape(n_sample, 1)\n",
    "    y_func = func_in(X_func)\n",
    "    plt.plot(X_func, y_func, mark, linewidth=linewidth, label=label)"
   ]
  },
  {
   "cell_type": "markdown",
   "id": "c27ffe35",
   "metadata": {},
   "source": [
    "Generate polynomial data"
   ]
  },
  {
   "cell_type": "code",
   "execution_count": 4,
   "id": "ce670ce4",
   "metadata": {},
   "outputs": [],
   "source": [
    "poly_a1 = 5.0\n",
    "# poly_a1 = -10.0 # 5.0\n",
    "#\n",
    "sin_a = 0.0\n",
    "# sin_a = 10.0\n",
    "sin_f = 0.1 # 0.2\n",
    "#\n",
    "def func_0(X): # Reference\n",
    "    return 0.5 * X**3 + 0.5 * X**2 + (poly_a1)*X + 2 + sin_a*np.sin(2.0*np.pi*sin_f*X)\n",
    "def func_1(X): # Variation 1: parellel\n",
    "    return 0.5 * X**3 + 0.5 * X**2 + (poly_a1)*X + 30 + sin_a*np.sin(2.0*np.pi*sin_f*X)\n",
    "def func_2(X): # Variation 2: cross\n",
    "    return -0.5 * X**3 + 0.5 * X**2 + (poly_a1)*X + 30 + sin_a*np.sin(2.0*np.pi*sin_f*X)\n",
    "def func_3(X): # Variation 3: slightly split\n",
    "    return 0.3 * X**3 + 1.0 * X**2 + (poly_a1)*X + 15 + sin_a*np.sin(2.0*np.pi*sin_f*X)\n",
    "def func_4(X): # Sine wave~\n",
    "    return 0.5 * X**3 + 0.5 * X**2 + (poly_a1)*X + 2 + 20.0*np.sin(2.0*np.pi*sin_f*X) # 50.0"
   ]
  },
  {
   "cell_type": "code",
   "execution_count": 5,
   "id": "9463bfff",
   "metadata": {},
   "outputs": [],
   "source": [
    "func_dict = dict()\n",
    "#-----------------#\n",
    "func_dict[\"f1\"] = func_0\n",
    "#-----------------#\n",
    "# func_dict[\"f2\"] = func_1\n",
    "# func_dict[\"f2\"] = func_2\n",
    "func_dict[\"f2\"] = func_3\n",
    "# func_dict[\"f2\"] = func_4\n",
    "#-----------------#\n",
    "func_dict[\"f3\"] = func_4\n",
    "#-----------------#\n",
    "\n",
    "# Note: func_dict[\"f_avg\"] depends on multiout_type and is calculated in each section of multiout_type"
   ]
  },
  {
   "cell_type": "code",
   "execution_count": 6,
   "id": "63437d0c",
   "metadata": {},
   "outputs": [
    {
     "name": "stdout",
     "output_type": "stream",
     "text": [
      "(m, m_train) = (100, 80)\n",
      "y_data_pure.shape = (100, 1)\n",
      "y_data.shape = (100, 1)\n"
     ]
    }
   ],
   "source": [
    "np.random.seed(42)\n",
    "m = 100 # 50 # 100 # 200\n",
    "m_train = m // 5 * 4\n",
    "print(\"(m, m_train) = (%d, %d)\" % (m, m_train))\n",
    "\n",
    "# Input\n",
    "is_gapped = True\n",
    "# is_gapped = False\n",
    "#\n",
    "if not is_gapped:\n",
    "    X_data = 10 * np.random.rand(m, 1) - 5 # Note: X is randomly sampled, so we don't need to shuffle the data again\n",
    "else:\n",
    "    X_data = np.concatenate( (np.linspace(-5.0, -2.0, m//2), np.linspace(2.0, 5.0, m-m//2)) )\n",
    "    X_data = X_data.reshape((m,1))\n",
    "    np.random.shuffle(X_data)\n",
    "\n",
    "# Output, multiout_type in {1, 2, 3}\n",
    "# multiout_type = 1      \n",
    "multiout_type = 2 \n",
    "# multiout_type = 3 \n",
    "#\n",
    "sid_data = np.ones((m,1), dtype=int) # subject id, default: 1\n",
    "if multiout_type == 2:\n",
    "    m_h = m // 2\n",
    "    X_data_1 = X_data[:m_h]\n",
    "    X_data_2 = X_data[m_h:]\n",
    "    sid_data[:m_h] = 1 # id:1\n",
    "    sid_data[m_h:] = 2 # id:2\n",
    "    y_data_pure_1 = func_dict[\"f1\"](X_data_1) \n",
    "    y_data_pure_2 = func_dict[\"f2\"](X_data_2) \n",
    "    y_data_pure = np.vstack([y_data_pure_1, y_data_pure_2])\n",
    "    print(\"y_data_pure.shape = %s\" % str(y_data_pure.shape))\n",
    "    # Average line\n",
    "    func_dict[\"f_avg\"] = ( lambda X: 0.5*func_dict[\"f1\"](X) + 0.5*func_dict[\"f2\"](X) )\n",
    "    #\n",
    "elif multiout_type == 3: # with \"avg\" line\n",
    "    m_t = m // 3\n",
    "    X_data_1 = X_data[:m_t]\n",
    "    X_data_2 = X_data[m_t:(2*m_t)]\n",
    "    X_data_3 = X_data[(2*m_t):]\n",
    "    sid_data[:m_t]        = 1 # id:1\n",
    "    sid_data[m_t:(2*m_t)] = 2 # id:2\n",
    "    sid_data[(2*m_t):]    = 3 # id:3\n",
    "    y_data_pure_1 = func_dict[\"f1\"](X_data_1) \n",
    "    y_data_pure_2 = func_dict[\"f2\"](X_data_2) \n",
    "    y_data_pure_3 = func_dict[\"f3\"](X_data_3) \n",
    "    y_data_pure = np.vstack([y_data_pure_1, y_data_pure_2, y_data_pure_3])\n",
    "    print(\"y_data_pure.shape = %s\" % str(y_data_pure.shape))\n",
    "    # Average line\n",
    "    func_dict[\"f_avg\"] = ( lambda X: (func_dict[\"f1\"](X) + func_dict[\"f2\"](X) + func_dict[\"f3\"](X))/3.0 )\n",
    "    #\n",
    "else: # multiout_type == 1\n",
    "    # Average line\n",
    "    func_dict[\"f_avg\"] = ( lambda X: 0.5*func_dict[\"f1\"](X) + 0.5*func_dict[\"f2\"](X) )\n",
    "    y_data_pure = func_dict[\"f_avg\"](X_data)\n",
    "\n",
    "    \n",
    "# Label (+noise)\n",
    "n_stddev = 2.0\n",
    "# n_stddev = 10.0\n",
    "y_data = y_data_pure + np.random.randn(m, 1) * n_stddev\n",
    "print(\"y_data.shape = %s\" % str(y_data.shape))\n",
    "# print(\"sid_data = %s\" % str(sid_data))"
   ]
  },
  {
   "cell_type": "code",
   "execution_count": 7,
   "id": "ef588fae",
   "metadata": {},
   "outputs": [],
   "source": [
    "# Method 1: simply slice\n",
    "# X_train = X_data[:m_train]\n",
    "# y_train = y_data[:m_train]\n",
    "# X_valid = X_data[m_train:]\n",
    "# y_valid = y_data[m_train:]\n",
    "\n",
    "# Method 2: shuffle\n",
    "from sklearn.model_selection import train_test_split\n",
    "# X_train, X_valid, y_train, y_valid = train_test_split(X_data, y_data, test_size=0.2, random_state=42)\n",
    "X_train, X_valid, y_train, y_valid, sid_train, sid_valid = train_test_split(X_data, y_data, sid_data, test_size=0.2, random_state=42)"
   ]
  },
  {
   "cell_type": "code",
   "execution_count": 8,
   "id": "3b5d2cfe",
   "metadata": {},
   "outputs": [
    {
     "name": "stdout",
     "output_type": "stream",
     "text": [
      "(80, 1)\n"
     ]
    }
   ],
   "source": [
    "print(X_train.shape)\n",
    "# print(\"sid_train = %s\" % str(sid_train))"
   ]
  },
  {
   "cell_type": "code",
   "execution_count": 9,
   "id": "9bd2136c",
   "metadata": {},
   "outputs": [],
   "source": [
    "def draw_normal_func(func_dict):\n",
    "    if multiout_type != 1:\n",
    "        draw_func(func_dict[\"f1\"], mark='c:', label=\"f1\")\n",
    "        draw_func(func_dict[\"f2\"], mark='r:', label=\"f2\")\n",
    "    if multiout_type == 3:\n",
    "        draw_func(func_dict[\"f3\"], mark='y:', label=\"f3\")\n",
    "    draw_func(func_dict[\"f_avg\"], mark='m--', label=\"f_avg\")"
   ]
  },
  {
   "cell_type": "code",
   "execution_count": 10,
   "id": "3e4283c1",
   "metadata": {},
   "outputs": [],
   "source": [
    "def draw_points(X, y, sid=None):\n",
    "    if sid is None:\n",
    "        plt.plot(X, y, \"b.\")\n",
    "    else:\n",
    "        plt.plot(X[sid==1], y[sid==1], \"b.\")\n",
    "        plt.plot(X[sid==2], y[sid==2], \"r.\")\n",
    "        plt.plot(X[sid==3], y[sid==3], \"y.\")"
   ]
  },
  {
   "cell_type": "code",
   "execution_count": 11,
   "id": "693af3b7",
   "metadata": {},
   "outputs": [
    {
     "name": "stdout",
     "output_type": "stream",
     "text": [
      "Saving figure training_data\n"
     ]
    },
    {
     "data": {
      "image/png": "[encoded data removed]",
      "text/plain": [
       "<Figure size 432x288 with 1 Axes>"
      ]
     },
     "metadata": {
      "needs_background": "light"
     },
     "output_type": "display_data"
    }
   ],
   "source": [
    "# plt.plot(X_train, y_train, \"b.\")\n",
    "# plt.plot(X_train[sid_train==1], y_train[sid_train==1], \"b.\")\n",
    "# plt.plot(X_train[sid_train==2], y_train[sid_train==2], \"r.\")\n",
    "draw_points(X_train, y_train, sid_train)\n",
    "\n",
    "draw_normal_func(func_dict)\n",
    "plt.xlabel(\"$x_1$\", fontsize=18)\n",
    "plt.ylabel(\"$y$\", rotation=0, fontsize=18)\n",
    "plt.legend(loc=\"upper left\", fontsize=14)\n",
    "# plt.axis([-3, 3, 0, 10])\n",
    "save_fig(\"training_data\")\n",
    "plt.show()"
   ]
  },
  {
   "cell_type": "code",
   "execution_count": 12,
   "id": "a6853ff1",
   "metadata": {},
   "outputs": [],
   "source": [
    "prediction_error_dict = dict()\n",
    "\n",
    "def get_prediction_error(func_in, func_dict, name=\"\", x_min=-5, x_max=5, prediction_error_dict=prediction_error_dict):\n",
    "    n_sample = 100\n",
    "    X_func = np.linspace(x_min, x_max, n_sample).reshape(n_sample, 1)\n",
    "    y_func = func_in(X_func).reshape((n_sample,1))\n",
    "    y_gt = func_dict[\"f_avg\"](X_func).reshape((n_sample,1))\n",
    "    print(\"y_func.shape = %s\" % str(y_func.shape))\n",
    "    print(\"y_gt.shape = %s\" % str(y_gt.shape))\n",
    "#     total_error = np.sqrt(np.square(y_func - y_gt).mean())\n",
    "    total_error = np.abs(y_func - y_gt).mean()\n",
    "    prediction_error_dict[name] = total_error\n",
    "    return total_error\n",
    "\n",
    "def print_all_prediction_error(is_logging_to_screen=True, prediction_error_dict=prediction_error_dict):\n",
    "    _s = \"\"\n",
    "    for _n in prediction_error_dict:\n",
    "        _s += (\"%s: %f\" % (_n, prediction_error_dict[_n])) + \"\\n\"\n",
    "    if is_logging_to_screen:\n",
    "        print(_s)\n",
    "    return _s\n",
    "        \n",
    "def save_prediction_errors(is_logging_to_screen=False, prediction_error_dict=prediction_error_dict):\n",
    "    path = os.path.join(IMAGES_PATH, \"prediction_errors.txt\")\n",
    "    print(\"Saving all prediction errors to [%s].\" % path)\n",
    "    _s = print_all_prediction_error(is_logging_to_screen=is_logging_to_screen, prediction_error_dict=prediction_error_dict)\n",
    "    with open(path, \"w\") as _f:\n",
    "        _f.write(_s)\n",
    "    return True"
   ]
  },
  {
   "cell_type": "markdown",
   "id": "053ecc57",
   "metadata": {},
   "source": [
    "# Simple FCs (number --> number)"
   ]
  },
  {
   "cell_type": "markdown",
   "id": "c66eb67b",
   "metadata": {},
   "source": [
    "Build the regression model"
   ]
  },
  {
   "cell_type": "code",
   "execution_count": 13,
   "id": "9449fc0b",
   "metadata": {},
   "outputs": [
    {
     "name": "stderr",
     "output_type": "stream",
     "text": [
      "2022-04-07 12:29:28.276437: I tensorflow/stream_executor/platform/default/dso_loader.cc:53] Successfully opened dynamic library libcuda.so.1\n",
      "2022-04-07 12:29:31.749548: E tensorflow/stream_executor/cuda/cuda_driver.cc:328] failed call to cuInit: CUDA_ERROR_NO_DEVICE: no CUDA-capable device is detected\n",
      "2022-04-07 12:29:31.749571: I tensorflow/stream_executor/cuda/cuda_diagnostics.cc:156] kernel driver does not appear to be running on this host (benson516-P1G2): /proc/driver/nvidia/version does not exist\n",
      "2022-04-07 12:29:31.750139: I tensorflow/core/platform/cpu_feature_guard.cc:142] This TensorFlow binary is optimized with oneAPI Deep Neural Network Library (oneDNN) to use the following CPU instructions in performance-critical operations:  AVX2 FMA\n",
      "To enable them in other operations, rebuild TensorFlow with the appropriate compiler flags.\n"
     ]
    }
   ],
   "source": [
    "model = keras.models.Sequential([\n",
    "    keras.layers.Dense(30, activation=\"relu\", input_shape=X_train.shape[1:]),\n",
    "    keras.layers.Dense(30, activation=\"relu\"),\n",
    "    keras.layers.Dense(1)\n",
    "])"
   ]
  },
  {
   "cell_type": "code",
   "execution_count": 14,
   "id": "8ad59bf4",
   "metadata": {},
   "outputs": [],
   "source": [
    "# # Customized loss function\n",
    "# def asymptoticLoss_fn(y_true, y_pred, alpha=0.01):\n",
    "#     # tau: quantile, tau in [0.0, 1.0]\n",
    "#     # y_true: label mean\n",
    "#     # y_pred: predicted tau quantile\n",
    "#     y_target = alpha * y_true + (1.0 - alpha) * y_pred\n",
    "#     # return tf.abs(y_pred - y_target)\n",
    "#     return (y_pred - y_target)**2"
   ]
  },
  {
   "cell_type": "code",
   "execution_count": 15,
   "id": "4de396a0",
   "metadata": {},
   "outputs": [
    {
     "name": "stderr",
     "output_type": "stream",
     "text": [
      "/home/benson516/GazeDemo/gaze_env/lib/python3.8/site-packages/tensorflow/python/keras/optimizer_v2/optimizer_v2.py:374: UserWarning: The `lr` argument is deprecated, use `learning_rate` instead.\n",
      "  warnings.warn(\n"
     ]
    }
   ],
   "source": [
    "optimizer = keras.optimizers.SGD(lr=0.0001, momentum=0.9)\n",
    "model.compile(loss=\"mean_squared_error\", optimizer=optimizer)\n",
    "# optimizer = keras.optimizers.Adam(lr=0.01)\n",
    "# # model.compile(loss=\"mean_absolute_error\", optimizer=optimizer)\n",
    "# model.compile(loss=asymptoticLoss_fn, optimizer=optimizer)"
   ]
  },
  {
   "cell_type": "code",
   "execution_count": 16,
   "id": "92afd68a",
   "metadata": {
    "scrolled": true
   },
   "outputs": [
    {
     "name": "stderr",
     "output_type": "stream",
     "text": [
      "2022-04-07 12:29:32.072431: I tensorflow/compiler/mlir/mlir_graph_optimization_pass.cc:176] None of the MLIR Optimization Passes are enabled (registered 2)\n",
      "2022-04-07 12:29:32.092270: I tensorflow/core/platform/profile_utils/cpu_utils.cc:114] CPU Frequency: 2599990000 Hz\n"
     ]
    },
    {
     "name": "stdout",
     "output_type": "stream",
     "text": [
      "Epoch 1/100\n",
      "3/3 [==============================] - 0s 49ms/step - loss: 2480.4329 - val_loss: 1653.4648\n",
      "Epoch 2/100\n",
      "3/3 [==============================] - 0s 9ms/step - loss: 2396.8696 - val_loss: 1561.5599\n",
      "Epoch 3/100\n",
      "3/3 [==============================] - 0s 8ms/step - loss: 2255.2681 - val_loss: 1406.7671\n",
      "Epoch 4/100\n",
      "3/3 [==============================] - 0s 12ms/step - loss: 1989.2562 - val_loss: 1088.0710\n",
      "Epoch 5/100\n",
      "3/3 [==============================] - 0s 12ms/step - loss: 1369.5913 - val_loss: 467.1330\n",
      "Epoch 6/100\n",
      "3/3 [==============================] - 0s 9ms/step - loss: 454.8737 - val_loss: 447.1122\n",
      "Epoch 7/100\n",
      "3/3 [==============================] - 0s 14ms/step - loss: 696.8895 - val_loss: 263.6193\n",
      "Epoch 8/100\n",
      "3/3 [==============================] - 0s 10ms/step - loss: 286.1596 - val_loss: 226.9946\n",
      "Epoch 9/100\n",
      "3/3 [==============================] - 0s 9ms/step - loss: 398.2126 - val_loss: 259.2378\n",
      "Epoch 10/100\n",
      "3/3 [==============================] - 0s 7ms/step - loss: 324.2396 - val_loss: 175.4688\n",
      "Epoch 11/100\n",
      "3/3 [==============================] - 0s 9ms/step - loss: 231.7392 - val_loss: 301.2617\n",
      "Epoch 12/100\n",
      "3/3 [==============================] - 0s 8ms/step - loss: 332.4436 - val_loss: 186.8415\n",
      "Epoch 13/100\n",
      "3/3 [==============================] - 0s 14ms/step - loss: 209.7731 - val_loss: 194.4964\n",
      "Epoch 14/100\n",
      "3/3 [==============================] - 0s 14ms/step - loss: 253.5967 - val_loss: 175.3623\n",
      "Epoch 15/100\n",
      "3/3 [==============================] - 0s 13ms/step - loss: 219.6332 - val_loss: 170.8440\n",
      "Epoch 16/100\n",
      "3/3 [==============================] - 0s 14ms/step - loss: 207.7647 - val_loss: 181.8632\n",
      "Epoch 17/100\n",
      "3/3 [==============================] - 0s 15ms/step - loss: 200.8867 - val_loss: 170.8581\n",
      "Epoch 18/100\n",
      "3/3 [==============================] - 0s 15ms/step - loss: 198.2159 - val_loss: 173.3073\n",
      "Epoch 19/100\n",
      "3/3 [==============================] - 0s 12ms/step - loss: 198.7448 - val_loss: 171.0453\n",
      "Epoch 20/100\n",
      "3/3 [==============================] - 0s 12ms/step - loss: 201.1169 - val_loss: 177.6721\n",
      "Epoch 21/100\n",
      "3/3 [==============================] - 0s 10ms/step - loss: 196.9453 - val_loss: 166.8139\n",
      "Epoch 22/100\n",
      "3/3 [==============================] - 0s 11ms/step - loss: 192.8105 - val_loss: 163.3831\n",
      "Epoch 23/100\n",
      "3/3 [==============================] - 0s 9ms/step - loss: 192.5403 - val_loss: 166.2657\n",
      "Epoch 24/100\n",
      "3/3 [==============================] - 0s 10ms/step - loss: 190.8994 - val_loss: 170.7930\n",
      "Epoch 25/100\n",
      "3/3 [==============================] - 0s 9ms/step - loss: 191.1734 - val_loss: 170.8730\n",
      "Epoch 26/100\n",
      "3/3 [==============================] - 0s 9ms/step - loss: 187.6361 - val_loss: 162.0645\n",
      "Epoch 27/100\n",
      "3/3 [==============================] - 0s 10ms/step - loss: 189.0802 - val_loss: 157.9917\n",
      "Epoch 28/100\n",
      "3/3 [==============================] - 0s 12ms/step - loss: 193.8437 - val_loss: 158.6560\n",
      "Epoch 29/100\n",
      "3/3 [==============================] - 0s 15ms/step - loss: 190.4772 - val_loss: 174.9849\n",
      "Epoch 30/100\n",
      "3/3 [==============================] - 0s 11ms/step - loss: 190.2089 - val_loss: 177.0812\n",
      "Epoch 31/100\n",
      "3/3 [==============================] - 0s 10ms/step - loss: 189.3189 - val_loss: 170.9485\n",
      "Epoch 32/100\n",
      "3/3 [==============================] - 0s 12ms/step - loss: 187.1884 - val_loss: 167.4794\n",
      "Epoch 33/100\n",
      "3/3 [==============================] - 0s 10ms/step - loss: 183.8321 - val_loss: 164.5762\n",
      "Epoch 34/100\n",
      "3/3 [==============================] - 0s 10ms/step - loss: 184.1151 - val_loss: 157.3568\n",
      "Epoch 35/100\n",
      "3/3 [==============================] - 0s 10ms/step - loss: 192.5336 - val_loss: 155.0925\n",
      "Epoch 36/100\n",
      "3/3 [==============================] - 0s 11ms/step - loss: 185.3476 - val_loss: 161.2434\n",
      "Epoch 37/100\n",
      "3/3 [==============================] - 0s 9ms/step - loss: 187.5109 - val_loss: 188.0528\n",
      "Epoch 38/100\n",
      "3/3 [==============================] - 0s 9ms/step - loss: 191.4781 - val_loss: 189.2729\n",
      "Epoch 39/100\n",
      "3/3 [==============================] - 0s 9ms/step - loss: 185.6043 - val_loss: 162.8141\n",
      "Epoch 40/100\n",
      "3/3 [==============================] - 0s 8ms/step - loss: 179.6261 - val_loss: 152.4404\n",
      "Epoch 41/100\n",
      "3/3 [==============================] - 0s 9ms/step - loss: 185.7205 - val_loss: 151.6368\n",
      "Epoch 42/100\n",
      "3/3 [==============================] - 0s 8ms/step - loss: 182.2218 - val_loss: 155.9306\n",
      "Epoch 43/100\n",
      "3/3 [==============================] - 0s 9ms/step - loss: 174.8300 - val_loss: 176.4801\n",
      "Epoch 44/100\n",
      "3/3 [==============================] - 0s 10ms/step - loss: 183.0938 - val_loss: 188.1582\n",
      "Epoch 45/100\n",
      "3/3 [==============================] - 0s 7ms/step - loss: 185.6914 - val_loss: 179.0855\n",
      "Epoch 46/100\n",
      "3/3 [==============================] - 0s 9ms/step - loss: 179.2263 - val_loss: 162.3037\n",
      "Epoch 47/100\n",
      "3/3 [==============================] - 0s 9ms/step - loss: 181.8107 - val_loss: 150.6557\n",
      "Epoch 48/100\n",
      "3/3 [==============================] - 0s 8ms/step - loss: 177.8978 - val_loss: 149.6999\n",
      "Epoch 49/100\n",
      "3/3 [==============================] - 0s 9ms/step - loss: 176.1775 - val_loss: 156.8055\n",
      "Epoch 50/100\n",
      "3/3 [==============================] - 0s 8ms/step - loss: 171.8708 - val_loss: 171.1962\n",
      "Epoch 51/100\n",
      "3/3 [==============================] - 0s 10ms/step - loss: 178.3481 - val_loss: 176.6245\n",
      "Epoch 52/100\n",
      "3/3 [==============================] - 0s 9ms/step - loss: 176.8847 - val_loss: 165.1791\n",
      "Epoch 53/100\n",
      "3/3 [==============================] - 0s 8ms/step - loss: 174.7973 - val_loss: 155.6373\n",
      "Epoch 54/100\n",
      "3/3 [==============================] - 0s 9ms/step - loss: 173.4576 - val_loss: 149.2154\n",
      "Epoch 55/100\n",
      "3/3 [==============================] - 0s 7ms/step - loss: 172.4827 - val_loss: 148.5809\n",
      "Epoch 56/100\n",
      "3/3 [==============================] - 0s 9ms/step - loss: 172.3574 - val_loss: 152.3236\n",
      "Epoch 57/100\n",
      "3/3 [==============================] - 0s 9ms/step - loss: 169.9890 - val_loss: 155.4934\n",
      "Epoch 58/100\n",
      "3/3 [==============================] - 0s 8ms/step - loss: 169.7643 - val_loss: 156.2601\n",
      "Epoch 59/100\n",
      "3/3 [==============================] - 0s 10ms/step - loss: 171.0126 - val_loss: 158.4738\n",
      "Epoch 60/100\n",
      "3/3 [==============================] - 0s 7ms/step - loss: 168.4450 - val_loss: 156.6984\n",
      "Epoch 61/100\n",
      "3/3 [==============================] - 0s 9ms/step - loss: 167.6568 - val_loss: 148.8156\n",
      "Epoch 62/100\n",
      "3/3 [==============================] - 0s 9ms/step - loss: 169.0502 - val_loss: 143.9292\n",
      "Epoch 63/100\n",
      "3/3 [==============================] - 0s 7ms/step - loss: 167.6403 - val_loss: 145.6858\n",
      "Epoch 64/100\n",
      "3/3 [==============================] - 0s 9ms/step - loss: 173.3012 - val_loss: 154.5665\n",
      "Epoch 65/100\n",
      "3/3 [==============================] - 0s 8ms/step - loss: 166.7757 - val_loss: 150.8434\n",
      "Epoch 66/100\n",
      "3/3 [==============================] - 0s 8ms/step - loss: 166.8863 - val_loss: 147.1894\n",
      "Epoch 67/100\n",
      "3/3 [==============================] - 0s 8ms/step - loss: 166.7363 - val_loss: 142.3545\n",
      "Epoch 68/100\n",
      "3/3 [==============================] - 0s 8ms/step - loss: 166.6460 - val_loss: 145.9050\n",
      "Epoch 69/100\n",
      "3/3 [==============================] - 0s 9ms/step - loss: 163.0920 - val_loss: 162.2537\n",
      "Epoch 70/100\n",
      "3/3 [==============================] - 0s 7ms/step - loss: 165.3180 - val_loss: 173.7400\n",
      "Epoch 71/100\n",
      "3/3 [==============================] - 0s 9ms/step - loss: 169.4485 - val_loss: 168.1136\n",
      "Epoch 72/100\n",
      "3/3 [==============================] - 0s 8ms/step - loss: 166.1478 - val_loss: 152.1881\n",
      "Epoch 73/100\n",
      "3/3 [==============================] - 0s 8ms/step - loss: 164.1755 - val_loss: 142.8636\n",
      "Epoch 74/100\n",
      "3/3 [==============================] - 0s 9ms/step - loss: 162.9635 - val_loss: 139.5339\n",
      "Epoch 75/100\n",
      "3/3 [==============================] - 0s 8ms/step - loss: 162.8910 - val_loss: 140.3154\n",
      "Epoch 76/100\n",
      "3/3 [==============================] - 0s 10ms/step - loss: 163.0843 - val_loss: 152.7850\n",
      "Epoch 77/100\n",
      "3/3 [==============================] - 0s 10ms/step - loss: 162.7286 - val_loss: 151.7353\n",
      "Epoch 78/100\n",
      "3/3 [==============================] - 0s 8ms/step - loss: 160.7754 - val_loss: 147.9712\n",
      "Epoch 79/100\n",
      "3/3 [==============================] - 0s 10ms/step - loss: 161.7216 - val_loss: 140.8376\n",
      "Epoch 80/100\n",
      "3/3 [==============================] - 0s 9ms/step - loss: 158.8929 - val_loss: 136.0573\n",
      "Epoch 81/100\n"
     ]
    },
    {
     "name": "stdout",
     "output_type": "stream",
     "text": [
      "3/3 [==============================] - 0s 9ms/step - loss: 162.6892 - val_loss: 135.1856\n",
      "Epoch 82/100\n",
      "3/3 [==============================] - 0s 9ms/step - loss: 164.5090 - val_loss: 139.0792\n",
      "Epoch 83/100\n",
      "3/3 [==============================] - 0s 7ms/step - loss: 159.3792 - val_loss: 137.0566\n",
      "Epoch 84/100\n",
      "3/3 [==============================] - 0s 9ms/step - loss: 161.3001 - val_loss: 133.3982\n",
      "Epoch 85/100\n",
      "3/3 [==============================] - 0s 9ms/step - loss: 160.8053 - val_loss: 140.9114\n",
      "Epoch 86/100\n",
      "3/3 [==============================] - 0s 9ms/step - loss: 157.1763 - val_loss: 146.3439\n",
      "Epoch 87/100\n",
      "3/3 [==============================] - 0s 14ms/step - loss: 159.5023 - val_loss: 149.1909\n",
      "Epoch 88/100\n",
      "3/3 [==============================] - 0s 13ms/step - loss: 162.6573 - val_loss: 161.9228\n",
      "Epoch 89/100\n",
      "3/3 [==============================] - 0s 12ms/step - loss: 159.9310 - val_loss: 145.3847\n",
      "Epoch 90/100\n",
      "3/3 [==============================] - 0s 8ms/step - loss: 155.2930 - val_loss: 132.8478\n",
      "Epoch 91/100\n",
      "3/3 [==============================] - 0s 12ms/step - loss: 157.0655 - val_loss: 127.7177\n",
      "Epoch 92/100\n",
      "3/3 [==============================] - 0s 10ms/step - loss: 158.3564 - val_loss: 128.7972\n",
      "Epoch 93/100\n",
      "3/3 [==============================] - 0s 11ms/step - loss: 157.3607 - val_loss: 136.5695\n",
      "Epoch 94/100\n",
      "3/3 [==============================] - 0s 9ms/step - loss: 153.9823 - val_loss: 139.1607\n",
      "Epoch 95/100\n",
      "3/3 [==============================] - 0s 10ms/step - loss: 154.1848 - val_loss: 139.2614\n",
      "Epoch 96/100\n",
      "3/3 [==============================] - 0s 11ms/step - loss: 154.3683 - val_loss: 135.2323\n",
      "Epoch 97/100\n",
      "3/3 [==============================] - 0s 9ms/step - loss: 154.3657 - val_loss: 126.5123\n",
      "Epoch 98/100\n",
      "3/3 [==============================] - 0s 8ms/step - loss: 155.3825 - val_loss: 129.0916\n",
      "Epoch 99/100\n",
      "3/3 [==============================] - 0s 8ms/step - loss: 154.6218 - val_loss: 127.3899\n",
      "Epoch 100/100\n",
      "3/3 [==============================] - 0s 8ms/step - loss: 153.8345 - val_loss: 140.7014\n"
     ]
    }
   ],
   "source": [
    "history = model.fit(X_train, y_train, epochs=100,\n",
    "                    validation_data=(X_valid, y_valid))"
   ]
  },
  {
   "cell_type": "markdown",
   "id": "17d6e37a",
   "metadata": {},
   "source": [
    "Plot the result"
   ]
  },
  {
   "cell_type": "code",
   "execution_count": 17,
   "id": "3b066f5c",
   "metadata": {},
   "outputs": [
    {
     "name": "stdout",
     "output_type": "stream",
     "text": [
      "Saving figure num_num_training_curve\n"
     ]
    },
    {
     "data": {
      "image/png": "[encoded data removed]",
      "text/plain": [
       "<Figure size 576x360 with 1 Axes>"
      ]
     },
     "metadata": {
      "needs_background": "light"
     },
     "output_type": "display_data"
    }
   ],
   "source": [
    "import pandas as pd\n",
    "\n",
    "pd.DataFrame(history.history).plot(figsize=(8, 5))\n",
    "plt.grid(True)\n",
    "# plt.gca().set_ylim(0, 1)\n",
    "save_fig(\"num_num_training_curve\")\n",
    "plt.show()"
   ]
  },
  {
   "cell_type": "code",
   "execution_count": 18,
   "id": "03f9bb54",
   "metadata": {},
   "outputs": [
    {
     "name": "stdout",
     "output_type": "stream",
     "text": [
      "Saving figure num_num_prediction\n"
     ]
    },
    {
     "data": {
      "image/png": "[encoded data removed]",
      "text/plain": [
       "<Figure size 432x288 with 1 Axes>"
      ]
     },
     "metadata": {
      "needs_background": "light"
     },
     "output_type": "display_data"
    }
   ],
   "source": [
    "# X_new = np.linspace(-5, 5, 100).reshape(100, 1)\n",
    "# y_new = model.predict(X_new)\n",
    "#\n",
    "# plt.plot(X_train, y_train, \"b.\")\n",
    "draw_points(X_train, y_train, sid_train)\n",
    "# plt.plot(X_new, y_new, \"r-\", linewidth=2, label=\"Predictions\")\n",
    "draw_func(model.predict, mark='r-', linewidth=2, label=\"Predictions\")\n",
    "draw_normal_func(func_dict)\n",
    "plt.xlabel(\"$x_1$\", fontsize=18)\n",
    "plt.ylabel(\"$y$\", rotation=0, fontsize=18)\n",
    "plt.legend(loc=\"upper left\", fontsize=14)\n",
    "# plt.axis([-3, 3, 0, 10])\n",
    "save_fig(\"num_num_prediction\")\n",
    "plt.show()"
   ]
  },
  {
   "cell_type": "code",
   "execution_count": 19,
   "id": "bc06d931",
   "metadata": {},
   "outputs": [
    {
     "name": "stdout",
     "output_type": "stream",
     "text": [
      "y_func.shape = (100, 1)\n",
      "y_gt.shape = (100, 1)\n"
     ]
    },
    {
     "data": {
      "text/plain": [
       "4.6690528613373825"
      ]
     },
     "execution_count": 19,
     "metadata": {},
     "output_type": "execute_result"
    }
   ],
   "source": [
    "get_prediction_error(model.predict, func_dict, name=\"num-num\")"
   ]
  },
  {
   "cell_type": "markdown",
   "id": "58da8768",
   "metadata": {},
   "source": [
    "# Simulated CNN Feature Map (1-D grids, grid --> number)"
   ]
  },
  {
   "cell_type": "code",
   "execution_count": 20,
   "id": "287b5e4c",
   "metadata": {},
   "outputs": [],
   "source": [
    "class num2grid(keras.layers.Layer):\n",
    "    def __init__(self, units, x_min=-10, x_max=10, sigma=1.0, activation=None, **kwargs):\n",
    "        super().__init__(**kwargs)\n",
    "        self.units = units\n",
    "        self.x_min = x_min\n",
    "        self.x_max = x_max\n",
    "        self.sigma = sigma\n",
    "        self.sigma2 = self.sigma**2\n",
    "        self.activation = keras.activations.get(activation)\n",
    "        \n",
    "    def build(self, batch_input_shape):\n",
    "        #\n",
    "        self.x_grid = np.linspace(self.x_min, self.x_max, self.units, endpoint=True)\n",
    "#         print(\"self.x_grid.shape = %s\" % str(self.x_grid.shape))\n",
    "        #\n",
    "        super().build(batch_input_shape) # must be at the end\n",
    "        \n",
    "    def call(self, X):\n",
    "        '''\n",
    "        Input shape:  (batch, X_chanel)\n",
    "        Output shape: (batch, grid_unit) \n",
    "        \n",
    "        self.x_grid shape: (grid_unit,)\n",
    "        '''\n",
    "        gauss_grid = tf.exp( -(self.x_grid - X)**2 / (2.0*self.sigma2) )\n",
    "        print(\"X.shape = %s\" % str(X.shape))\n",
    "        print(\"gauss_grid.shape = %s\" % str(gauss_grid.shape))\n",
    "        return self.activation(gauss_grid)\n",
    "    \n",
    "    def compute_output_shape(self, batch_input_shape):\n",
    "        return tf.TensorShape(batch_input_shape.as_list()[:-1] + [self.units])\n",
    "    \n",
    "    def get_config(self):\n",
    "        base_config = super().get_config()\n",
    "        return {**base_config, \n",
    "                \"units\": self.units,\n",
    "                \"x_min\": self.x_min,\n",
    "                \"x_max\": self.x_max,\n",
    "                \"sigma\": self.sigma,\n",
    "                \"activation\": keras.activations.serialize(self.activation)}"
   ]
  },
  {
   "cell_type": "code",
   "execution_count": 21,
   "id": "f463c12a",
   "metadata": {},
   "outputs": [
    {
     "name": "stdout",
     "output_type": "stream",
     "text": [
      "X.shape = (None, 1)\n",
      "gauss_grid.shape = (None, 5)\n"
     ]
    }
   ],
   "source": [
    "model = keras.models.Sequential([\n",
    "    num2grid(5,x_min=-10, x_max=10, sigma=3.0, input_shape=X_train.shape[1:]),\n",
    "    keras.layers.Dense(30, activation=\"relu\"),\n",
    "#     keras.layers.Dense(100, activation=\"relu\", kernel_regularizer=tf.keras.regularizers.l1(0.01)),\n",
    "#     keras.layers.Dense(30, activation=keras.layers.LeakyReLU(alpha=0.2) ),\n",
    "#     keras.layers.Dense(30, activation=\"selu\"),\n",
    "#     keras.layers.Dense(30, activation=\"relu\"),\n",
    "    keras.layers.Dense(1)\n",
    "])"
   ]
  },
  {
   "cell_type": "code",
   "execution_count": 22,
   "id": "73fbb610",
   "metadata": {},
   "outputs": [],
   "source": [
    "# # Customized loss function\n",
    "# def asymptoticLoss_fn(y_true, y_pred, alpha=0.01):\n",
    "#     # tau: quantile, tau in [0.0, 1.0]\n",
    "#     # y_true: label mean\n",
    "#     # y_pred: predicted tau quantile\n",
    "#     y_target = alpha * y_true + (1.0 - alpha) * y_pred\n",
    "#     # return tf.abs(y_pred - y_target)\n",
    "#     return (y_pred - y_target)**2"
   ]
  },
  {
   "cell_type": "code",
   "execution_count": 23,
   "id": "062ec84e",
   "metadata": {},
   "outputs": [
    {
     "name": "stderr",
     "output_type": "stream",
     "text": [
      "/home/benson516/GazeDemo/gaze_env/lib/python3.8/site-packages/tensorflow/python/keras/optimizer_v2/optimizer_v2.py:374: UserWarning: The `lr` argument is deprecated, use `learning_rate` instead.\n",
      "  warnings.warn(\n"
     ]
    }
   ],
   "source": [
    "optimizer = keras.optimizers.SGD(lr=0.001, momentum=0.9)\n",
    "model.compile(loss=\"mean_squared_error\", optimizer=optimizer)\n",
    "# optimizer = keras.optimizers.Adam(lr=0.1)\n",
    "# # model.compile(loss=\"mean_absolute_error\", optimizer=optimizer)\n",
    "# model.compile(loss=asymptoticLoss_fn, optimizer=optimizer)"
   ]
  },
  {
   "cell_type": "code",
   "execution_count": 24,
   "id": "c966ada4",
   "metadata": {
    "scrolled": true
   },
   "outputs": [
    {
     "name": "stdout",
     "output_type": "stream",
     "text": [
      "Epoch 1/100\n",
      "X.shape = (None, 1)\n",
      "gauss_grid.shape = (None, 5)\n",
      "X.shape = (None, 1)\n",
      "gauss_grid.shape = (None, 5)\n",
      "1/3 [=========>....................] - ETA: 0s - loss: 2284.9307X.shape = (None, 1)\n",
      "gauss_grid.shape = (None, 5)\n",
      "3/3 [==============================] - 0s 37ms/step - loss: 2494.2271 - val_loss: 1719.9802\n",
      "Epoch 2/100\n",
      "3/3 [==============================] - 0s 6ms/step - loss: 2416.8899 - val_loss: 1650.4395\n",
      "Epoch 3/100\n",
      "3/3 [==============================] - 0s 10ms/step - loss: 2199.1243 - val_loss: 1471.2843\n",
      "Epoch 4/100\n",
      "3/3 [==============================] - 0s 8ms/step - loss: 1657.1067 - val_loss: 1202.2897\n",
      "Epoch 5/100\n",
      "3/3 [==============================] - 0s 13ms/step - loss: 986.5931 - val_loss: 803.0783\n",
      "Epoch 6/100\n",
      "3/3 [==============================] - 0s 13ms/step - loss: 710.5287 - val_loss: 478.8957\n",
      "Epoch 7/100\n",
      "3/3 [==============================] - 0s 9ms/step - loss: 434.8730 - val_loss: 300.4289\n",
      "Epoch 8/100\n",
      "3/3 [==============================] - 0s 9ms/step - loss: 364.1392 - val_loss: 269.4495\n",
      "Epoch 9/100\n",
      "3/3 [==============================] - 0s 13ms/step - loss: 260.8280 - val_loss: 364.9017\n",
      "Epoch 10/100\n",
      "3/3 [==============================] - 0s 10ms/step - loss: 351.4125 - val_loss: 293.1534\n",
      "Epoch 11/100\n",
      "3/3 [==============================] - 0s 10ms/step - loss: 289.5538 - val_loss: 257.2162\n",
      "Epoch 12/100\n",
      "3/3 [==============================] - 0s 14ms/step - loss: 255.9350 - val_loss: 264.9326\n",
      "Epoch 13/100\n",
      "3/3 [==============================] - 0s 10ms/step - loss: 271.9378 - val_loss: 320.0885\n",
      "Epoch 14/100\n",
      "3/3 [==============================] - 0s 9ms/step - loss: 272.7654 - val_loss: 276.8638\n",
      "Epoch 15/100\n",
      "3/3 [==============================] - 0s 12ms/step - loss: 270.4363 - val_loss: 235.4738\n",
      "Epoch 16/100\n",
      "3/3 [==============================] - 0s 14ms/step - loss: 225.8610 - val_loss: 241.2858\n",
      "Epoch 17/100\n",
      "3/3 [==============================] - 0s 13ms/step - loss: 234.5906 - val_loss: 227.7026\n",
      "Epoch 18/100\n",
      "3/3 [==============================] - 0s 11ms/step - loss: 218.8995 - val_loss: 211.3267\n",
      "Epoch 19/100\n",
      "3/3 [==============================] - 0s 9ms/step - loss: 230.5469 - val_loss: 198.8915\n",
      "Epoch 20/100\n",
      "3/3 [==============================] - 0s 9ms/step - loss: 212.1237 - val_loss: 219.0432\n",
      "Epoch 21/100\n",
      "3/3 [==============================] - 0s 9ms/step - loss: 210.9853 - val_loss: 209.7159\n",
      "Epoch 22/100\n",
      "3/3 [==============================] - 0s 8ms/step - loss: 210.2997 - val_loss: 204.4479\n",
      "Epoch 23/100\n",
      "3/3 [==============================] - 0s 10ms/step - loss: 206.8091 - val_loss: 192.6183\n",
      "Epoch 24/100\n",
      "3/3 [==============================] - 0s 7ms/step - loss: 198.2632 - val_loss: 180.6317\n",
      "Epoch 25/100\n",
      "3/3 [==============================] - 0s 9ms/step - loss: 199.7833 - val_loss: 166.7722\n",
      "Epoch 26/100\n",
      "3/3 [==============================] - 0s 9ms/step - loss: 191.1244 - val_loss: 162.4839\n",
      "Epoch 27/100\n",
      "3/3 [==============================] - 0s 8ms/step - loss: 189.7401 - val_loss: 169.6694\n",
      "Epoch 28/100\n",
      "3/3 [==============================] - 0s 9ms/step - loss: 184.7671 - val_loss: 168.0172\n",
      "Epoch 29/100\n",
      "3/3 [==============================] - 0s 7ms/step - loss: 182.4159 - val_loss: 157.1986\n",
      "Epoch 30/100\n",
      "3/3 [==============================] - 0s 9ms/step - loss: 177.2766 - val_loss: 146.0928\n",
      "Epoch 31/100\n",
      "3/3 [==============================] - 0s 9ms/step - loss: 174.9673 - val_loss: 137.0474\n",
      "Epoch 32/100\n",
      "3/3 [==============================] - 0s 9ms/step - loss: 179.7725 - val_loss: 132.9865\n",
      "Epoch 33/100\n",
      "3/3 [==============================] - 0s 13ms/step - loss: 177.5359 - val_loss: 127.4222\n",
      "Epoch 34/100\n",
      "3/3 [==============================] - 0s 13ms/step - loss: 175.9939 - val_loss: 140.8095\n",
      "Epoch 35/100\n",
      "3/3 [==============================] - 0s 14ms/step - loss: 171.1233 - val_loss: 148.9576\n",
      "Epoch 36/100\n",
      "3/3 [==============================] - 0s 13ms/step - loss: 174.9020 - val_loss: 133.6892\n",
      "Epoch 37/100\n",
      "3/3 [==============================] - 0s 10ms/step - loss: 169.5260 - val_loss: 115.6752\n",
      "Epoch 38/100\n",
      "3/3 [==============================] - 0s 10ms/step - loss: 168.9764 - val_loss: 110.8785\n",
      "Epoch 39/100\n",
      "3/3 [==============================] - 0s 13ms/step - loss: 168.5657 - val_loss: 114.2151\n",
      "Epoch 40/100\n",
      "3/3 [==============================] - 0s 12ms/step - loss: 169.1549 - val_loss: 116.9973\n",
      "Epoch 41/100\n",
      "3/3 [==============================] - 0s 12ms/step - loss: 164.4233 - val_loss: 117.8453\n",
      "Epoch 42/100\n",
      "3/3 [==============================] - 0s 11ms/step - loss: 167.9589 - val_loss: 115.1433\n",
      "Epoch 43/100\n",
      "3/3 [==============================] - 0s 9ms/step - loss: 168.9159 - val_loss: 123.9812\n",
      "Epoch 44/100\n",
      "3/3 [==============================] - 0s 10ms/step - loss: 168.4534 - val_loss: 132.0439\n",
      "Epoch 45/100\n",
      "3/3 [==============================] - 0s 13ms/step - loss: 165.9223 - val_loss: 123.1167\n",
      "Epoch 46/100\n",
      "3/3 [==============================] - 0s 13ms/step - loss: 168.3445 - val_loss: 114.3505\n",
      "Epoch 47/100\n",
      "3/3 [==============================] - 0s 11ms/step - loss: 166.5889 - val_loss: 116.1323\n",
      "Epoch 48/100\n",
      "3/3 [==============================] - 0s 9ms/step - loss: 164.3611 - val_loss: 123.3120\n",
      "Epoch 49/100\n",
      "3/3 [==============================] - 0s 11ms/step - loss: 168.7965 - val_loss: 123.3976\n",
      "Epoch 50/100\n",
      "3/3 [==============================] - 0s 10ms/step - loss: 166.4859 - val_loss: 105.8783\n",
      "Epoch 51/100\n",
      "3/3 [==============================] - 0s 11ms/step - loss: 167.5494 - val_loss: 100.3632\n",
      "Epoch 52/100\n",
      "3/3 [==============================] - 0s 9ms/step - loss: 166.6295 - val_loss: 105.3234\n",
      "Epoch 53/100\n",
      "3/3 [==============================] - 0s 10ms/step - loss: 165.2325 - val_loss: 115.6600\n",
      "Epoch 54/100\n",
      "3/3 [==============================] - 0s 10ms/step - loss: 163.7153 - val_loss: 120.4489\n",
      "Epoch 55/100\n",
      "3/3 [==============================] - 0s 8ms/step - loss: 166.0509 - val_loss: 118.7855\n",
      "Epoch 56/100\n",
      "3/3 [==============================] - 0s 9ms/step - loss: 162.6538 - val_loss: 102.3787\n",
      "Epoch 57/100\n",
      "3/3 [==============================] - 0s 9ms/step - loss: 163.9217 - val_loss: 100.3000\n",
      "Epoch 58/100\n",
      "3/3 [==============================] - 0s 9ms/step - loss: 169.1290 - val_loss: 103.3364\n",
      "Epoch 59/100\n",
      "3/3 [==============================] - 0s 9ms/step - loss: 162.8859 - val_loss: 115.6832\n",
      "Epoch 60/100\n",
      "3/3 [==============================] - 0s 9ms/step - loss: 166.9161 - val_loss: 128.7157\n",
      "Epoch 61/100\n",
      "3/3 [==============================] - 0s 8ms/step - loss: 163.6178 - val_loss: 112.6326\n",
      "Epoch 62/100\n",
      "3/3 [==============================] - 0s 10ms/step - loss: 164.6310 - val_loss: 99.2172\n",
      "Epoch 63/100\n",
      "3/3 [==============================] - 0s 8ms/step - loss: 163.4953 - val_loss: 102.3097\n",
      "Epoch 64/100\n",
      "3/3 [==============================] - 0s 9ms/step - loss: 165.1907 - val_loss: 101.7004\n",
      "Epoch 65/100\n",
      "3/3 [==============================] - 0s 15ms/step - loss: 161.4125 - val_loss: 114.8431\n",
      "Epoch 66/100\n",
      "3/3 [==============================] - 0s 11ms/step - loss: 164.1273 - val_loss: 125.5219\n",
      "Epoch 67/100\n",
      "3/3 [==============================] - 0s 14ms/step - loss: 165.5107 - val_loss: 131.8962\n",
      "Epoch 68/100\n",
      "3/3 [==============================] - 0s 8ms/step - loss: 163.6527 - val_loss: 112.4754\n",
      "Epoch 69/100\n",
      "3/3 [==============================] - 0s 8ms/step - loss: 161.4782 - val_loss: 99.6989\n",
      "Epoch 70/100\n",
      "3/3 [==============================] - 0s 9ms/step - loss: 165.6293 - val_loss: 95.4577\n",
      "Epoch 71/100\n",
      "3/3 [==============================] - 0s 7ms/step - loss: 162.1969 - val_loss: 109.8960\n",
      "Epoch 72/100\n",
      "3/3 [==============================] - 0s 9ms/step - loss: 162.3393 - val_loss: 124.5842\n",
      "Epoch 73/100\n",
      "3/3 [==============================] - 0s 8ms/step - loss: 162.6738 - val_loss: 120.5696\n",
      "Epoch 74/100\n",
      "3/3 [==============================] - 0s 8ms/step - loss: 163.0729 - val_loss: 111.6676\n",
      "Epoch 75/100\n",
      "3/3 [==============================] - 0s 8ms/step - loss: 162.3461 - val_loss: 101.5991\n",
      "Epoch 76/100\n",
      "3/3 [==============================] - 0s 8ms/step - loss: 163.0342 - val_loss: 101.5960\n",
      "Epoch 77/100\n",
      "3/3 [==============================] - 0s 9ms/step - loss: 165.2665 - val_loss: 99.7869\n",
      "Epoch 78/100\n",
      "3/3 [==============================] - 0s 7ms/step - loss: 164.1312 - val_loss: 102.1721\n"
     ]
    },
    {
     "name": "stdout",
     "output_type": "stream",
     "text": [
      "Epoch 79/100\n",
      "3/3 [==============================] - 0s 9ms/step - loss: 164.5388 - val_loss: 104.6572\n",
      "Epoch 80/100\n",
      "3/3 [==============================] - 0s 8ms/step - loss: 162.0840 - val_loss: 119.9866\n",
      "Epoch 81/100\n",
      "3/3 [==============================] - 0s 8ms/step - loss: 161.6546 - val_loss: 115.2435\n",
      "Epoch 82/100\n",
      "3/3 [==============================] - 0s 9ms/step - loss: 159.3617 - val_loss: 115.1457\n",
      "Epoch 83/100\n",
      "3/3 [==============================] - 0s 8ms/step - loss: 166.8078 - val_loss: 110.4698\n",
      "Epoch 84/100\n",
      "3/3 [==============================] - 0s 10ms/step - loss: 160.7125 - val_loss: 104.4804\n",
      "Epoch 85/100\n",
      "3/3 [==============================] - 0s 10ms/step - loss: 162.7304 - val_loss: 102.8663\n",
      "Epoch 86/100\n",
      "3/3 [==============================] - 0s 9ms/step - loss: 165.1796 - val_loss: 98.4413\n",
      "Epoch 87/100\n",
      "3/3 [==============================] - 0s 11ms/step - loss: 168.5496 - val_loss: 106.8309\n",
      "Epoch 88/100\n",
      "3/3 [==============================] - 0s 12ms/step - loss: 164.3217 - val_loss: 112.8826\n",
      "Epoch 89/100\n",
      "3/3 [==============================] - 0s 10ms/step - loss: 159.1283 - val_loss: 126.1575\n",
      "Epoch 90/100\n",
      "3/3 [==============================] - 0s 9ms/step - loss: 164.0741 - val_loss: 119.6821\n",
      "Epoch 91/100\n",
      "3/3 [==============================] - 0s 9ms/step - loss: 161.6183 - val_loss: 111.2631\n",
      "Epoch 92/100\n",
      "3/3 [==============================] - 0s 7ms/step - loss: 160.2365 - val_loss: 112.3013\n",
      "Epoch 93/100\n",
      "3/3 [==============================] - 0s 9ms/step - loss: 162.3109 - val_loss: 109.0720\n",
      "Epoch 94/100\n",
      "3/3 [==============================] - 0s 11ms/step - loss: 161.7311 - val_loss: 102.2000\n",
      "Epoch 95/100\n",
      "3/3 [==============================] - 0s 7ms/step - loss: 159.4407 - val_loss: 111.5733\n",
      "Epoch 96/100\n",
      "3/3 [==============================] - 0s 9ms/step - loss: 159.9604 - val_loss: 123.1572\n",
      "Epoch 97/100\n",
      "3/3 [==============================] - 0s 9ms/step - loss: 162.1517 - val_loss: 128.2560\n",
      "Epoch 98/100\n",
      "3/3 [==============================] - 0s 8ms/step - loss: 163.0721 - val_loss: 106.6252\n",
      "Epoch 99/100\n",
      "3/3 [==============================] - 0s 9ms/step - loss: 158.6706 - val_loss: 99.1153\n",
      "Epoch 100/100\n",
      "3/3 [==============================] - 0s 8ms/step - loss: 160.3989 - val_loss: 99.4228\n"
     ]
    }
   ],
   "source": [
    "history = model.fit(X_train, y_train, epochs=100,\n",
    "                    validation_data=(X_valid, y_valid))"
   ]
  },
  {
   "cell_type": "code",
   "execution_count": 25,
   "id": "4d550f88",
   "metadata": {},
   "outputs": [
    {
     "name": "stdout",
     "output_type": "stream",
     "text": [
      "Saving figure grid_num_training_curve\n"
     ]
    },
    {
     "data": {
      "image/png": "[encoded data removed]",
      "text/plain": [
       "<Figure size 576x360 with 1 Axes>"
      ]
     },
     "metadata": {
      "needs_background": "light"
     },
     "output_type": "display_data"
    }
   ],
   "source": [
    "import pandas as pd\n",
    "\n",
    "pd.DataFrame(history.history).plot(figsize=(8, 5))\n",
    "plt.grid(True)\n",
    "# plt.gca().set_ylim(0, 1)\n",
    "save_fig(\"grid_num_training_curve\")\n",
    "plt.show()"
   ]
  },
  {
   "cell_type": "code",
   "execution_count": 26,
   "id": "5487653c",
   "metadata": {},
   "outputs": [
    {
     "name": "stdout",
     "output_type": "stream",
     "text": [
      "X.shape = (None, 1)\n",
      "gauss_grid.shape = (None, 5)\n",
      "Saving figure grid_num_prediction\n"
     ]
    },
    {
     "data": {
      "image/png": "[encoded data removed]",
      "text/plain": [
       "<Figure size 432x288 with 1 Axes>"
      ]
     },
     "metadata": {
      "needs_background": "light"
     },
     "output_type": "display_data"
    }
   ],
   "source": [
    "# X_new = np.linspace(-5, 5, 100).reshape(100, 1)\n",
    "# y_new = model.predict(X_new)\n",
    "#\n",
    "# plt.plot(X_train, y_train, \"b.\")\n",
    "draw_points(X_train, y_train, sid_train)\n",
    "# plt.plot(X_new, y_new, \"r-\", linewidth=2, label=\"Predictions\")\n",
    "draw_func(model.predict, mark='r-', linewidth=2, label=\"Predictions\")\n",
    "draw_normal_func(func_dict)\n",
    "plt.xlabel(\"$x_1$\", fontsize=18)\n",
    "plt.ylabel(\"$y$\", rotation=0, fontsize=18)\n",
    "plt.legend(loc=\"upper left\", fontsize=14)\n",
    "# plt.axis([-3, 3, 0, 10])\n",
    "save_fig(\"grid_num_prediction\")\n",
    "plt.show()"
   ]
  },
  {
   "cell_type": "code",
   "execution_count": 27,
   "id": "f9c053a4",
   "metadata": {},
   "outputs": [
    {
     "name": "stdout",
     "output_type": "stream",
     "text": [
      "y_func.shape = (100, 1)\n",
      "y_gt.shape = (100, 1)\n"
     ]
    },
    {
     "data": {
      "text/plain": [
       "5.188920062700454"
      ]
     },
     "execution_count": 27,
     "metadata": {},
     "output_type": "execute_result"
    }
   ],
   "source": [
    "get_prediction_error(model.predict, func_dict, name=\"grid-num\")"
   ]
  },
  {
   "cell_type": "markdown",
   "id": "fe65d614",
   "metadata": {},
   "source": [
    "# Grid & Regression by Classification (grid --> grid)"
   ]
  },
  {
   "cell_type": "code",
   "execution_count": 28,
   "id": "3d35615e",
   "metadata": {},
   "outputs": [],
   "source": [
    "class num2grid_np():\n",
    "    def __init__(self, units, x_min=-10, x_max=10, sigma=1.0):\n",
    "        self.units = units\n",
    "        self.x_min = x_min\n",
    "        self.x_max = x_max\n",
    "        self.sigma = sigma\n",
    "        self.sigma2 = self.sigma**2\n",
    "        self.x_grid = np.linspace(self.x_min, self.x_max, self.units, endpoint=True)\n",
    "        print(\"self.x_grid = %s\" % str(self.x_grid))\n",
    "        \n",
    "    def convert(self, X):\n",
    "        gauss_grid = np.exp( -(self.x_grid - X)**2 / (2.0*self.sigma2) )\n",
    "#         if len(gauss_grid.shape) == 1:\n",
    "#             gauss_grid = gauss_grid.reshape([1,-1])\n",
    "#         grid_sum = np.sum(gauss_grid, axis=1, keepdims=True)\n",
    "        grid_sum = np.sum(gauss_grid, axis=-1, keepdims=True)\n",
    "        gauss_grid = gauss_grid / grid_sum\n",
    "        return gauss_grid\n",
    "    \n",
    "    def inv_convert(self, grid):\n",
    "#         if len(grid.shape) == 1:\n",
    "#             grid = grid.reshape([1,-1])\n",
    "#         grid_sum = np.sum(grid, axis=1)\n",
    "        grid_sum = np.sum(grid, axis=-1)\n",
    "#         print(grid_sum)\n",
    "        exp_num = np.sum((self.x_grid * grid), axis=-1) / grid_sum # element-wise\n",
    "        return exp_num\n",
    "    \n",
    "    def get_statistic(self, grid):\n",
    "        grid_sum = np.sum(grid, axis=-1)\n",
    "        _mean = np.sum((self.x_grid * grid), axis=-1) / grid_sum # element-wise\n",
    "        _var  = np.sum( ((self.x_grid.reshape((1,-1)) - _mean.reshape((-1,1)))**2 * grid), axis=-1) / grid_sum # element-wise\n",
    "        # print(\"(_mean, _var) = (%f, %f)\" % (_mean, _var))\n",
    "        _stddev = np.sqrt(_var)\n",
    "        return _mean, _stddev"
   ]
  },
  {
   "cell_type": "code",
   "execution_count": 29,
   "id": "4903180b",
   "metadata": {},
   "outputs": [
    {
     "name": "stdout",
     "output_type": "stream",
     "text": [
      "self.x_grid = [-100.          -95.91836735  -91.83673469  -87.75510204  -83.67346939\n",
      "  -79.59183673  -75.51020408  -71.42857143  -67.34693878  -63.26530612\n",
      "  -59.18367347  -55.10204082  -51.02040816  -46.93877551  -42.85714286\n",
      "  -38.7755102   -34.69387755  -30.6122449   -26.53061224  -22.44897959\n",
      "  -18.36734694  -14.28571429  -10.20408163   -6.12244898   -2.04081633\n",
      "    2.04081633    6.12244898   10.20408163   14.28571429   18.36734694\n",
      "   22.44897959   26.53061224   30.6122449    34.69387755   38.7755102\n",
      "   42.85714286   46.93877551   51.02040816   55.10204082   59.18367347\n",
      "   63.26530612   67.34693878   71.42857143   75.51020408   79.59183673\n",
      "   83.67346939   87.75510204   91.83673469   95.91836735  100.        ]\n"
     ]
    }
   ],
   "source": [
    "# class_num = 10 # 10\n",
    "# n2g = num2grid_np(class_num, x_min=-100.0, x_max=100.0, sigma=20.0) # 20.0\n",
    "# class_num = 20\n",
    "# n2g = num2grid_np(class_num, x_min=-100.0, x_max=100.0, sigma=15.0) # 20.0\n",
    "class_num = 50\n",
    "n2g = num2grid_np(class_num, x_min=-100.0, x_max=100.0, sigma=6.0) # 5.0 "
   ]
  },
  {
   "cell_type": "code",
   "execution_count": 30,
   "id": "dce05258",
   "metadata": {},
   "outputs": [
    {
     "name": "stdout",
     "output_type": "stream",
     "text": [
      "[[3.57995092e-60 2.08100846e-55 7.61538914e-51 1.75441300e-46\n",
      "  2.54444491e-42 2.32314196e-38 1.33530332e-34 4.83176258e-31\n",
      "  1.10065884e-27 1.57841554e-24 1.42498879e-21 8.09884396e-19\n",
      "  2.89771784e-16 6.52695532e-14 9.25521826e-12 8.26198061e-10\n",
      "  4.64304784e-08 1.64264466e-06 3.65852120e-05 5.12966502e-04\n",
      "  4.52786966e-03 2.51605603e-02 8.80173281e-02 1.93837381e-01\n",
      "  2.68737559e-01 2.34552834e-01 1.28876722e-01 4.45789421e-02\n",
      "  9.70748025e-03 1.33077537e-03 1.14848275e-04 6.23972825e-06\n",
      "  2.13416679e-07 4.59528573e-09 6.22899760e-11 5.31551427e-13\n",
      "  2.85557712e-15 9.65748361e-18 2.05615356e-20 2.75593262e-23\n",
      "  2.32542921e-26 1.23526215e-29 4.13082337e-33 8.69632169e-37\n",
      "  1.15254011e-40 9.61607812e-45 5.05081425e-49 1.67011468e-53\n",
      "  3.47658354e-58 4.55596654e-63]]\n"
     ]
    }
   ],
   "source": [
    "# grid_1 = n2g.convert(-1.2)\n",
    "grid_1 = n2g.convert([[-1.2]])\n",
    "print(grid_1)"
   ]
  },
  {
   "cell_type": "code",
   "execution_count": 31,
   "id": "48203fe2",
   "metadata": {},
   "outputs": [
    {
     "data": {
      "text/plain": [
       "array([-1.2])"
      ]
     },
     "execution_count": 31,
     "metadata": {},
     "output_type": "execute_result"
    }
   ],
   "source": [
    "n2g.inv_convert(grid_1)"
   ]
  },
  {
   "cell_type": "code",
   "execution_count": 32,
   "id": "a741b6d1",
   "metadata": {},
   "outputs": [
    {
     "data": {
      "text/plain": [
       "(array([-1.2]), array([6.]))"
      ]
     },
     "execution_count": 32,
     "metadata": {},
     "output_type": "execute_result"
    }
   ],
   "source": [
    "n2g.get_statistic(grid_1)"
   ]
  },
  {
   "cell_type": "markdown",
   "id": "bdc0b9a0",
   "metadata": {},
   "source": [
    "### Convert the labels to grid (pre-processing)"
   ]
  },
  {
   "cell_type": "code",
   "execution_count": 33,
   "id": "39c7fa96",
   "metadata": {},
   "outputs": [],
   "source": [
    "y_train_grid = n2g.convert(y_train)\n",
    "y_valid_grid = n2g.convert(y_valid)"
   ]
  },
  {
   "cell_type": "code",
   "execution_count": 34,
   "id": "f577a751",
   "metadata": {},
   "outputs": [
    {
     "name": "stdout",
     "output_type": "stream",
     "text": [
      "(80, 50)\n",
      "(20, 50)\n"
     ]
    }
   ],
   "source": [
    "print(y_train_grid.shape)\n",
    "print(y_valid_grid.shape)"
   ]
  },
  {
   "cell_type": "code",
   "execution_count": 35,
   "id": "71610af1",
   "metadata": {},
   "outputs": [
    {
     "name": "stdout",
     "output_type": "stream",
     "text": [
      "X.shape = (None, 1)\n",
      "gauss_grid.shape = (None, 5)\n"
     ]
    },
    {
     "name": "stderr",
     "output_type": "stream",
     "text": [
      "/home/benson516/GazeDemo/gaze_env/lib/python3.8/site-packages/tensorflow/python/keras/optimizer_v2/optimizer_v2.py:374: UserWarning: The `lr` argument is deprecated, use `learning_rate` instead.\n",
      "  warnings.warn(\n"
     ]
    }
   ],
   "source": [
    "model = keras.models.Sequential([\n",
    "#     keras.layers.Dense(30, activation=\"relu\", input_shape=X_train.shape[1:]),\n",
    "    num2grid(5,x_min=-10, x_max=10, sigma=3.0, input_shape=X_train.shape[1:]),\n",
    "    keras.layers.Dense(30, activation=\"relu\"),\n",
    "#     keras.layers.Dense(100, activation=\"relu\", kernel_regularizer=tf.keras.regularizers.l1(0.01)),\n",
    "    keras.layers.Dense(class_num, activation=\"softmax\"),\n",
    "])\n",
    "\n",
    "optimizer = keras.optimizers.SGD(lr=0.2, momentum=0.9)\n",
    "model.compile(loss=\"categorical_crossentropy\", optimizer=optimizer)"
   ]
  },
  {
   "cell_type": "code",
   "execution_count": 36,
   "id": "e2244aee",
   "metadata": {
    "scrolled": true
   },
   "outputs": [
    {
     "name": "stdout",
     "output_type": "stream",
     "text": [
      "Epoch 1/100\n",
      "X.shape = (None, 1)\n",
      "gauss_grid.shape = (None, 5)\n",
      "X.shape = (None, 1)\n",
      "gauss_grid.shape = (None, 5)\n",
      "1/3 [=========>....................] - ETA: 0s - loss: 3.9416X.shape = (None, 1)\n",
      "gauss_grid.shape = (None, 5)\n",
      "3/3 [==============================] - 0s 40ms/step - loss: 3.9402 - val_loss: 3.8999\n",
      "Epoch 2/100\n",
      "3/3 [==============================] - 0s 6ms/step - loss: 3.8894 - val_loss: 3.8570\n",
      "Epoch 3/100\n",
      "3/3 [==============================] - 0s 7ms/step - loss: 3.8178 - val_loss: 3.8043\n",
      "Epoch 4/100\n",
      "3/3 [==============================] - 0s 9ms/step - loss: 3.7388 - val_loss: 3.7512\n",
      "Epoch 5/100\n",
      "3/3 [==============================] - 0s 9ms/step - loss: 3.6487 - val_loss: 3.6936\n",
      "Epoch 6/100\n",
      "3/3 [==============================] - 0s 13ms/step - loss: 3.5559 - val_loss: 3.6311\n",
      "Epoch 7/100\n",
      "3/3 [==============================] - 0s 13ms/step - loss: 3.4653 - val_loss: 3.5787\n",
      "Epoch 8/100\n",
      "3/3 [==============================] - 0s 13ms/step - loss: 3.3652 - val_loss: 3.4907\n",
      "Epoch 9/100\n",
      "3/3 [==============================] - 0s 9ms/step - loss: 3.2775 - val_loss: 3.3714\n",
      "Epoch 10/100\n",
      "3/3 [==============================] - 0s 11ms/step - loss: 3.2036 - val_loss: 3.2460\n",
      "Epoch 11/100\n",
      "3/3 [==============================] - 0s 12ms/step - loss: 3.1357 - val_loss: 3.1597\n",
      "Epoch 12/100\n",
      "3/3 [==============================] - 0s 10ms/step - loss: 3.0903 - val_loss: 3.1037\n",
      "Epoch 13/100\n",
      "3/3 [==============================] - 0s 15ms/step - loss: 3.0583 - val_loss: 3.0835\n",
      "Epoch 14/100\n",
      "3/3 [==============================] - 0s 9ms/step - loss: 3.0350 - val_loss: 3.0701\n",
      "Epoch 15/100\n",
      "3/3 [==============================] - 0s 11ms/step - loss: 3.0069 - val_loss: 3.0401\n",
      "Epoch 16/100\n",
      "3/3 [==============================] - 0s 10ms/step - loss: 2.9803 - val_loss: 3.0327\n",
      "Epoch 17/100\n",
      "3/3 [==============================] - 0s 11ms/step - loss: 2.9721 - val_loss: 3.0486\n",
      "Epoch 18/100\n",
      "3/3 [==============================] - 0s 7ms/step - loss: 2.9559 - val_loss: 3.1038\n",
      "Epoch 19/100\n",
      "3/3 [==============================] - 0s 10ms/step - loss: 2.9287 - val_loss: 3.0825\n",
      "Epoch 20/100\n",
      "3/3 [==============================] - 0s 10ms/step - loss: 2.9091 - val_loss: 3.0264\n",
      "Epoch 21/100\n",
      "3/3 [==============================] - 0s 10ms/step - loss: 2.8843 - val_loss: 3.0069\n",
      "Epoch 22/100\n",
      "3/3 [==============================] - 0s 13ms/step - loss: 2.8657 - val_loss: 3.0061\n",
      "Epoch 23/100\n",
      "3/3 [==============================] - 0s 14ms/step - loss: 2.8470 - val_loss: 3.0093\n",
      "Epoch 24/100\n",
      "3/3 [==============================] - 0s 14ms/step - loss: 2.8262 - val_loss: 3.0447\n",
      "Epoch 25/100\n",
      "3/3 [==============================] - 0s 12ms/step - loss: 2.8106 - val_loss: 2.9756\n",
      "Epoch 26/100\n",
      "3/3 [==============================] - 0s 9ms/step - loss: 2.7828 - val_loss: 2.8992\n",
      "Epoch 27/100\n",
      "3/3 [==============================] - 0s 11ms/step - loss: 2.7570 - val_loss: 2.8992\n",
      "Epoch 28/100\n",
      "3/3 [==============================] - 0s 10ms/step - loss: 2.7341 - val_loss: 2.9357\n",
      "Epoch 29/100\n",
      "3/3 [==============================] - 0s 11ms/step - loss: 2.7233 - val_loss: 2.9447\n",
      "Epoch 30/100\n",
      "3/3 [==============================] - 0s 8ms/step - loss: 2.7004 - val_loss: 2.8650\n",
      "Epoch 31/100\n",
      "3/3 [==============================] - 0s 11ms/step - loss: 2.6871 - val_loss: 2.8431\n",
      "Epoch 32/100\n",
      "3/3 [==============================] - 0s 10ms/step - loss: 2.6761 - val_loss: 2.8538\n",
      "Epoch 33/100\n",
      "3/3 [==============================] - 0s 8ms/step - loss: 2.6474 - val_loss: 2.7920\n",
      "Epoch 34/100\n",
      "3/3 [==============================] - 0s 9ms/step - loss: 2.6528 - val_loss: 2.7709\n",
      "Epoch 35/100\n",
      "3/3 [==============================] - 0s 10ms/step - loss: 2.6385 - val_loss: 2.8566\n",
      "Epoch 36/100\n",
      "3/3 [==============================] - 0s 14ms/step - loss: 2.6132 - val_loss: 2.8638\n",
      "Epoch 37/100\n",
      "3/3 [==============================] - 0s 14ms/step - loss: 2.6161 - val_loss: 2.8176\n",
      "Epoch 38/100\n",
      "3/3 [==============================] - 0s 13ms/step - loss: 2.5989 - val_loss: 2.7728\n",
      "Epoch 39/100\n",
      "3/3 [==============================] - 0s 12ms/step - loss: 2.6017 - val_loss: 2.7491\n",
      "Epoch 40/100\n",
      "3/3 [==============================] - 0s 15ms/step - loss: 2.5866 - val_loss: 2.7658\n",
      "Epoch 41/100\n",
      "3/3 [==============================] - 0s 14ms/step - loss: 2.5791 - val_loss: 2.7739\n",
      "Epoch 42/100\n",
      "3/3 [==============================] - 0s 13ms/step - loss: 2.5704 - val_loss: 2.7542\n",
      "Epoch 43/100\n",
      "3/3 [==============================] - 0s 10ms/step - loss: 2.5570 - val_loss: 2.7275\n",
      "Epoch 44/100\n",
      "3/3 [==============================] - 0s 12ms/step - loss: 2.5491 - val_loss: 2.7704\n",
      "Epoch 45/100\n",
      "3/3 [==============================] - 0s 10ms/step - loss: 2.5621 - val_loss: 2.8200\n",
      "Epoch 46/100\n",
      "3/3 [==============================] - 0s 11ms/step - loss: 2.5453 - val_loss: 2.7143\n",
      "Epoch 47/100\n",
      "3/3 [==============================] - 0s 9ms/step - loss: 2.5390 - val_loss: 2.7160\n",
      "Epoch 48/100\n",
      "3/3 [==============================] - 0s 12ms/step - loss: 2.5431 - val_loss: 2.7473\n",
      "Epoch 49/100\n",
      "3/3 [==============================] - 0s 10ms/step - loss: 2.5265 - val_loss: 2.6669\n",
      "Epoch 50/100\n",
      "3/3 [==============================] - 0s 11ms/step - loss: 2.5452 - val_loss: 2.7213\n",
      "Epoch 51/100\n",
      "3/3 [==============================] - 0s 9ms/step - loss: 2.5213 - val_loss: 2.7895\n",
      "Epoch 52/100\n",
      "3/3 [==============================] - 0s 10ms/step - loss: 2.5446 - val_loss: 2.7523\n",
      "Epoch 53/100\n",
      "3/3 [==============================] - 0s 10ms/step - loss: 2.5173 - val_loss: 2.6385\n",
      "Epoch 54/100\n",
      "3/3 [==============================] - 0s 8ms/step - loss: 2.5223 - val_loss: 2.6517\n",
      "Epoch 55/100\n",
      "3/3 [==============================] - 0s 10ms/step - loss: 2.5054 - val_loss: 2.6942\n",
      "Epoch 56/100\n",
      "3/3 [==============================] - 0s 9ms/step - loss: 2.5029 - val_loss: 2.7413\n",
      "Epoch 57/100\n",
      "3/3 [==============================] - 0s 9ms/step - loss: 2.4985 - val_loss: 2.6738\n",
      "Epoch 58/100\n",
      "3/3 [==============================] - 0s 9ms/step - loss: 2.5013 - val_loss: 2.6483\n",
      "Epoch 59/100\n",
      "3/3 [==============================] - 0s 7ms/step - loss: 2.5148 - val_loss: 2.7015\n",
      "Epoch 60/100\n",
      "3/3 [==============================] - 0s 10ms/step - loss: 2.4867 - val_loss: 2.7455\n",
      "Epoch 61/100\n",
      "3/3 [==============================] - 0s 9ms/step - loss: 2.4982 - val_loss: 2.6448\n",
      "Epoch 62/100\n",
      "3/3 [==============================] - 0s 9ms/step - loss: 2.4916 - val_loss: 2.5793\n",
      "Epoch 63/100\n",
      "3/3 [==============================] - 0s 10ms/step - loss: 2.4931 - val_loss: 2.6685\n",
      "Epoch 64/100\n",
      "3/3 [==============================] - 0s 8ms/step - loss: 2.5002 - val_loss: 2.6671\n",
      "Epoch 65/100\n",
      "3/3 [==============================] - 0s 8ms/step - loss: 2.4713 - val_loss: 2.6852\n",
      "Epoch 66/100\n",
      "3/3 [==============================] - 0s 9ms/step - loss: 2.4792 - val_loss: 2.6849\n",
      "Epoch 67/100\n",
      "3/3 [==============================] - 0s 9ms/step - loss: 2.4708 - val_loss: 2.6539\n",
      "Epoch 68/100\n",
      "3/3 [==============================] - 0s 9ms/step - loss: 2.4539 - val_loss: 2.6531\n",
      "Epoch 69/100\n",
      "3/3 [==============================] - 0s 14ms/step - loss: 2.4751 - val_loss: 2.6163\n",
      "Epoch 70/100\n",
      "3/3 [==============================] - 0s 13ms/step - loss: 2.4474 - val_loss: 2.6581\n",
      "Epoch 71/100\n",
      "3/3 [==============================] - 0s 12ms/step - loss: 2.4646 - val_loss: 2.6548\n",
      "Epoch 72/100\n",
      "3/3 [==============================] - 0s 10ms/step - loss: 2.4418 - val_loss: 2.6194\n",
      "Epoch 73/100\n",
      "3/3 [==============================] - 0s 11ms/step - loss: 2.4510 - val_loss: 2.5760\n",
      "Epoch 74/100\n",
      "3/3 [==============================] - 0s 11ms/step - loss: 2.4437 - val_loss: 2.5985\n",
      "Epoch 75/100\n",
      "3/3 [==============================] - 0s 10ms/step - loss: 2.4314 - val_loss: 2.6692\n",
      "Epoch 76/100\n",
      "3/3 [==============================] - 0s 10ms/step - loss: 2.4514 - val_loss: 2.6380\n",
      "Epoch 77/100\n",
      "3/3 [==============================] - 0s 10ms/step - loss: 2.4275 - val_loss: 2.6107\n",
      "Epoch 78/100\n",
      "3/3 [==============================] - 0s 10ms/step - loss: 2.4316 - val_loss: 2.5804\n",
      "Epoch 79/100\n",
      "3/3 [==============================] - 0s 12ms/step - loss: 2.4282 - val_loss: 2.5641\n",
      "Epoch 80/100\n",
      "3/3 [==============================] - 0s 10ms/step - loss: 2.4380 - val_loss: 2.6691\n",
      "Epoch 81/100\n",
      "3/3 [==============================] - 0s 11ms/step - loss: 2.4438 - val_loss: 2.6034\n"
     ]
    },
    {
     "name": "stdout",
     "output_type": "stream",
     "text": [
      "Epoch 82/100\n",
      "3/3 [==============================] - 0s 10ms/step - loss: 2.4516 - val_loss: 2.5478\n",
      "Epoch 83/100\n",
      "3/3 [==============================] - 0s 12ms/step - loss: 2.4665 - val_loss: 2.6044\n",
      "Epoch 84/100\n",
      "3/3 [==============================] - 0s 8ms/step - loss: 2.4227 - val_loss: 2.6431\n",
      "Epoch 85/100\n",
      "3/3 [==============================] - 0s 11ms/step - loss: 2.4272 - val_loss: 2.5975\n",
      "Epoch 86/100\n",
      "3/3 [==============================] - 0s 9ms/step - loss: 2.4152 - val_loss: 2.6444\n",
      "Epoch 87/100\n",
      "3/3 [==============================] - 0s 8ms/step - loss: 2.4086 - val_loss: 2.5512\n",
      "Epoch 88/100\n",
      "3/3 [==============================] - 0s 9ms/step - loss: 2.4132 - val_loss: 2.5227\n",
      "Epoch 89/100\n",
      "3/3 [==============================] - 0s 12ms/step - loss: 2.3959 - val_loss: 2.6304\n",
      "Epoch 90/100\n",
      "3/3 [==============================] - 0s 9ms/step - loss: 2.4084 - val_loss: 2.6065\n",
      "Epoch 91/100\n",
      "3/3 [==============================] - 0s 8ms/step - loss: 2.4052 - val_loss: 2.5477\n",
      "Epoch 92/100\n",
      "3/3 [==============================] - 0s 9ms/step - loss: 2.4056 - val_loss: 2.5245\n",
      "Epoch 93/100\n",
      "3/3 [==============================] - 0s 8ms/step - loss: 2.4002 - val_loss: 2.5685\n",
      "Epoch 94/100\n",
      "3/3 [==============================] - 0s 10ms/step - loss: 2.4082 - val_loss: 2.5800\n",
      "Epoch 95/100\n",
      "3/3 [==============================] - 0s 10ms/step - loss: 2.3956 - val_loss: 2.5587\n",
      "Epoch 96/100\n",
      "3/3 [==============================] - 0s 12ms/step - loss: 2.4037 - val_loss: 2.6285\n",
      "Epoch 97/100\n",
      "3/3 [==============================] - 0s 13ms/step - loss: 2.3963 - val_loss: 2.5229\n",
      "Epoch 98/100\n",
      "3/3 [==============================] - 0s 11ms/step - loss: 2.4037 - val_loss: 2.5386\n",
      "Epoch 99/100\n",
      "3/3 [==============================] - 0s 11ms/step - loss: 2.4079 - val_loss: 2.5700\n",
      "Epoch 100/100\n",
      "3/3 [==============================] - 0s 11ms/step - loss: 2.3947 - val_loss: 2.6039\n"
     ]
    }
   ],
   "source": [
    "history = model.fit(X_train, y_train_grid, epochs=100,\n",
    "                    validation_data=(X_valid, y_valid_grid))"
   ]
  },
  {
   "cell_type": "code",
   "execution_count": 37,
   "id": "390834c9",
   "metadata": {},
   "outputs": [
    {
     "name": "stdout",
     "output_type": "stream",
     "text": [
      "Saving figure grid_rbc_training_curve\n"
     ]
    },
    {
     "data": {
      "image/png": "[encoded data removed]",
      "text/plain": [
       "<Figure size 576x360 with 1 Axes>"
      ]
     },
     "metadata": {
      "needs_background": "light"
     },
     "output_type": "display_data"
    }
   ],
   "source": [
    "import pandas as pd\n",
    "\n",
    "pd.DataFrame(history.history).plot(figsize=(8, 5))\n",
    "plt.grid(True)\n",
    "# plt.gca().set_ylim(0, 1)\n",
    "save_fig(\"grid_rbc_training_curve\")\n",
    "plt.show()"
   ]
  },
  {
   "cell_type": "code",
   "execution_count": 38,
   "id": "6fba3b6a",
   "metadata": {},
   "outputs": [
    {
     "name": "stdout",
     "output_type": "stream",
     "text": [
      "X.shape = (None, 1)\n",
      "gauss_grid.shape = (None, 5)\n",
      "Saving figure grid_rbc_prediction\n"
     ]
    },
    {
     "data": {
      "image/png": "[encoded data removed]",
      "text/plain": [
       "<Figure size 432x288 with 1 Axes>"
      ]
     },
     "metadata": {
      "needs_background": "light"
     },
     "output_type": "display_data"
    }
   ],
   "source": [
    "# X_new = np.linspace(-5, 5, 100).reshape(100, 1)\n",
    "# y_new_proba = model.predict(X_new)\n",
    "# y_new = n2g.inv_convert(y_new_proba)\n",
    "#\n",
    "# plt.plot(X_train, y_train, \"b.\")\n",
    "draw_points(X_train, y_train, sid_train)\n",
    "# plt.plot(X_new, y_new, \"r-\", linewidth=2, label=\"Predictions\")\n",
    "draw_func((lambda X: n2g.inv_convert(model.predict(X)) ), mark='r-', linewidth=2, label=\"Predictions\")\n",
    "draw_normal_func(func_dict)\n",
    "plt.xlabel(\"$x_1$\", fontsize=18)\n",
    "plt.ylabel(\"$y$\", rotation=0, fontsize=18)\n",
    "plt.legend(loc=\"upper left\", fontsize=14)\n",
    "# plt.axis([-3, 3, 0, 10])\n",
    "save_fig(\"grid_rbc_prediction\")\n",
    "plt.show()"
   ]
  },
  {
   "cell_type": "code",
   "execution_count": 39,
   "id": "fc059ba5",
   "metadata": {},
   "outputs": [
    {
     "name": "stdout",
     "output_type": "stream",
     "text": [
      "y_func.shape = (100, 1)\n",
      "y_gt.shape = (100, 1)\n"
     ]
    },
    {
     "data": {
      "text/plain": [
       "4.268316695048762"
      ]
     },
     "execution_count": 39,
     "metadata": {},
     "output_type": "execute_result"
    }
   ],
   "source": [
    "get_prediction_error((lambda X: n2g.inv_convert(model.predict(X)) ), func_dict, name=\"grid-rbc\")"
   ]
  },
  {
   "cell_type": "code",
   "execution_count": 40,
   "id": "edcf26db",
   "metadata": {},
   "outputs": [
    {
     "name": "stdout",
     "output_type": "stream",
     "text": [
      "Saving figure grid_rbc_proba\n"
     ]
    },
    {
     "data": {
      "image/png": "[encoded data removed]",
      "text/plain": [
       "<Figure size 432x288 with 1 Axes>"
      ]
     },
     "metadata": {
      "needs_background": "light"
     },
     "output_type": "display_data"
    }
   ],
   "source": [
    "X_new = np.linspace(-5, 5, 100).reshape(100, 1)\n",
    "y_new_proba = model.predict(X_new)\n",
    "# y_new = n2g.inv_convert(y_new_proba)\n",
    "#\n",
    "xv, yv = np.meshgrid(X_new, np.linspace(n2g.x_min, n2g.x_max, n2g.units))\n",
    "# print(xv)\n",
    "# print(yv)\n",
    "plt.pcolormesh(xv, yv, y_new_proba.T, shading=\"nearest\")\n",
    "save_fig(\"grid_rbc_proba\")"
   ]
  },
  {
   "cell_type": "markdown",
   "id": "4064d3b5",
   "metadata": {},
   "source": [
    "### Draw the 1-sigma boundary line"
   ]
  },
  {
   "cell_type": "code",
   "execution_count": 41,
   "id": "247e8712",
   "metadata": {},
   "outputs": [
    {
     "name": "stdout",
     "output_type": "stream",
     "text": [
      "Saving figure grid_rbc_prediction_1sigma\n"
     ]
    },
    {
     "data": {
      "image/png": "[encoded data removed]",
      "text/plain": [
       "<Figure size 432x288 with 1 Axes>"
      ]
     },
     "metadata": {
      "needs_background": "light"
     },
     "output_type": "display_data"
    }
   ],
   "source": [
    "def n_sigma_boundary_line(X, n):\n",
    "    _mean, _sigma = n2g.get_statistic(model.predict(X))\n",
    "    return( _mean + n*_sigma)\n",
    "\n",
    "# plt.plot(X_train, y_train, \"b.\")\n",
    "draw_points(X_train, y_train, sid_train)\n",
    "#\n",
    "draw_func((lambda X: n2g.inv_convert(model.predict(X)) ), mark='r-', linewidth=2, label=\"Predictions\")\n",
    "draw_func((lambda X: n_sigma_boundary_line(X, +1.0) ), mark='k--', linewidth=1, label=\"$\\mu+\\sigma$\")\n",
    "draw_func((lambda X: n_sigma_boundary_line(X, -1.0) ), mark='k--', linewidth=1, label=\"$\\mu-\\sigma$\")\n",
    "#\n",
    "draw_normal_func(func_dict)\n",
    "plt.xlabel(\"$x_1$\", fontsize=18)\n",
    "plt.ylabel(\"$y$\", rotation=0, fontsize=18)\n",
    "plt.legend(loc=\"upper left\", fontsize=14)\n",
    "# plt.axis([-3, 3, 0, 10])\n",
    "save_fig(\"grid_rbc_prediction_1sigma\")\n",
    "plt.show()"
   ]
  },
  {
   "cell_type": "code",
   "execution_count": null,
   "id": "e6266336",
   "metadata": {},
   "outputs": [],
   "source": []
  },
  {
   "cell_type": "markdown",
   "id": "99a85ab5",
   "metadata": {},
   "source": [
    "# Grid & Regression by Classification + Offset Estimation (grid --> grid,num)"
   ]
  },
  {
   "cell_type": "code",
   "execution_count": 42,
   "id": "26440167",
   "metadata": {},
   "outputs": [],
   "source": [
    "class num2gridOffset_np():\n",
    "    def __init__(self, units, x_min=-10, x_max=10):\n",
    "        self.units = units\n",
    "        self.x_min = x_min\n",
    "        self.x_max = x_max\n",
    "        self.x_grid = np.linspace(self.x_min, self.x_max, self.units, endpoint=True)\n",
    "        # bins\n",
    "        x_space = np.average(self.x_grid[1:] - self.x_grid[:-1])\n",
    "        print(\"x_space = %f\" % x_space)\n",
    "        x_0 = self.x_grid[0] - 0.5 * x_space\n",
    "        self.x_bins = [x_0 + _i*x_space for _i in range(len(self.x_grid)+1)]\n",
    "        print(\"self.x_grid = %s\" % str(self.x_grid))\n",
    "#         print(\"self.x_bins = %s\" % str(self.x_bins))\n",
    "        \n",
    "    def convert(self, X):\n",
    "        '''\n",
    "        Convert a batch of number to one-hot class and numerical offset to each grid's center\n",
    "        (m, 1) --> (m, n_units, 2)\n",
    "        '''\n",
    "        X = np.array(X)\n",
    "        if len(X.shape) <= 1:\n",
    "            X = X.reshape((-1,1))\n",
    "        idxs_bin = np.digitize(X, self.x_bins, right=False) \n",
    "        idxs_grid = (idxs_bin - 1) + 1*(idxs_bin<= 0) - 1*(idxs_bin>=self.units)\n",
    "        print(idxs_grid.shape)\n",
    "        #\n",
    "        batch_size = X.shape[0]\n",
    "        grid = np.zeros((batch_size, self.units, 2))\n",
    "        # Fill in the values\n",
    "        grid[np.arange(batch_size), idxs_grid.reshape((-1,)), 0] = 1.0\n",
    "        grid[np.arange(batch_size), :, 1] = X - self.x_grid.reshape((1,-1)) # Offset\n",
    "        return grid\n",
    "    \n",
    "    def inv_convert(self, grid):\n",
    "        idxs_grid = np.argmax(grid[...,0], axis=1)\n",
    "        print(idxs_grid.shape)\n",
    "        #\n",
    "        batch_size = grid.shape[0]\n",
    "        offset_est = grid[np.arange(batch_size),idxs_grid,1]\n",
    "        print(offset_est.shape)\n",
    "        num_est = self.x_grid[idxs_grid].reshape((1,-1)) + offset_est\n",
    "        return num_est.reshape((-1,))"
   ]
  },
  {
   "cell_type": "code",
   "execution_count": 43,
   "id": "8b15e9ff",
   "metadata": {},
   "outputs": [
    {
     "name": "stdout",
     "output_type": "stream",
     "text": [
      "x_space = 22.222222\n",
      "self.x_grid = [-100.          -77.77777778  -55.55555556  -33.33333333  -11.11111111\n",
      "   11.11111111   33.33333333   55.55555556   77.77777778  100.        ]\n"
     ]
    }
   ],
   "source": [
    "class_num = 10 # 10\n",
    "n2go = num2gridOffset_np(class_num, x_min=-100.0, x_max=100.0) "
   ]
  },
  {
   "cell_type": "code",
   "execution_count": 44,
   "id": "8f6e7955",
   "metadata": {},
   "outputs": [
    {
     "name": "stdout",
     "output_type": "stream",
     "text": [
      "(2, 1)\n",
      "[[[   0.           98.8       ]\n",
      "  [   0.           76.57777778]\n",
      "  [   0.           54.35555556]\n",
      "  [   0.           32.13333333]\n",
      "  [   1.            9.91111111]\n",
      "  [   0.          -12.31111111]\n",
      "  [   0.          -34.53333333]\n",
      "  [   0.          -56.75555556]\n",
      "  [   0.          -78.97777778]\n",
      "  [   0.         -101.2       ]]\n",
      "\n",
      " [[   0.          150.5       ]\n",
      "  [   0.          128.27777778]\n",
      "  [   0.          106.05555556]\n",
      "  [   0.           83.83333333]\n",
      "  [   0.           61.61111111]\n",
      "  [   0.           39.38888889]\n",
      "  [   0.           17.16666667]\n",
      "  [   1.           -5.05555556]\n",
      "  [   0.          -27.27777778]\n",
      "  [   0.          -49.5       ]]]\n"
     ]
    }
   ],
   "source": [
    "# grid_1 = n2g.convert(-1.2)\n",
    "grid_1 = n2go.convert([[-1.2], [50.5]])\n",
    "print(grid_1)"
   ]
  },
  {
   "cell_type": "code",
   "execution_count": 45,
   "id": "48840dc5",
   "metadata": {},
   "outputs": [
    {
     "name": "stdout",
     "output_type": "stream",
     "text": [
      "(2,)\n",
      "(2,)\n"
     ]
    },
    {
     "data": {
      "text/plain": [
       "array([-1.2, 50.5])"
      ]
     },
     "execution_count": 45,
     "metadata": {},
     "output_type": "execute_result"
    }
   ],
   "source": [
    "n2go.inv_convert(grid_1)"
   ]
  },
  {
   "cell_type": "markdown",
   "id": "11683cea",
   "metadata": {},
   "source": [
    "### Convert the labels to grid (pre-processing)"
   ]
  },
  {
   "cell_type": "code",
   "execution_count": 46,
   "id": "472997cf",
   "metadata": {},
   "outputs": [
    {
     "name": "stdout",
     "output_type": "stream",
     "text": [
      "(80, 1)\n",
      "(20, 1)\n"
     ]
    }
   ],
   "source": [
    "y_train_grid_offset = n2go.convert(y_train)\n",
    "y_valid_grid_offset = n2go.convert(y_valid)"
   ]
  },
  {
   "cell_type": "code",
   "execution_count": 47,
   "id": "71f08d76",
   "metadata": {},
   "outputs": [
    {
     "name": "stdout",
     "output_type": "stream",
     "text": [
      "(80, 10, 2)\n",
      "(20, 10, 2)\n"
     ]
    }
   ],
   "source": [
    "print(y_train_grid_offset.shape)\n",
    "print(y_valid_grid_offset.shape)"
   ]
  },
  {
   "cell_type": "code",
   "execution_count": 48,
   "id": "84b5b833",
   "metadata": {},
   "outputs": [
    {
     "name": "stdout",
     "output_type": "stream",
     "text": [
      "X.shape = (None, 1)\n",
      "gauss_grid.shape = (None, 5)\n"
     ]
    }
   ],
   "source": [
    "inputs = keras.layers.Input(shape=X_train.shape[1:])\n",
    "#\n",
    "z = num2grid(5,x_min=-10, x_max=10, sigma=3.0)(inputs)\n",
    "z = keras.layers.Dense(30, activation=\"selu\")(z)\n",
    "# Outputs\n",
    "z_proba = keras.layers.Dense(30, activation=\"relu\")(z)\n",
    "z_proba  = keras.layers.Dense(class_num, activation=\"softmax\")(z_proba)\n",
    "z_offset = keras.layers.Dense(class_num, activation=\"relu\")(z)\n",
    "z_offset = keras.layers.Dense(class_num)(z_offset)\n",
    "# Concatenate\n",
    "z_proba  = keras.layers.Reshape([class_num,1])(z_proba)\n",
    "z_offset = keras.layers.Reshape([class_num,1])(z_offset)\n",
    "out_cat = keras.layers.Concatenate(axis=-1)([z_proba, z_offset])\n",
    "#\n",
    "# Models for trainig and real usage\n",
    "model = keras.Model(inputs=[inputs], outputs=[out_cat])"
   ]
  },
  {
   "cell_type": "code",
   "execution_count": 49,
   "id": "e6482574",
   "metadata": {},
   "outputs": [],
   "source": [
    "# Customized loss function\n",
    "\n",
    "cce = keras.losses.CategoricalCrossentropy(reduction=keras.losses.Reduction.NONE)\n",
    "# cce(y_true, y_pred).numpy()\n",
    "\n",
    "def centerLoss_fn(y_true, y_pred):\n",
    "    #\n",
    "    y_true_proba = y_true[...,0]\n",
    "    y_true_value = y_true[...,1]\n",
    "    #\n",
    "    y_pred_proba = y_pred[...,0]\n",
    "    y_pred_value = y_pred[...,1]\n",
    "    \n",
    "    #\n",
    "    cce_loss = cce(y_true_proba, y_pred_proba) / class_num\n",
    "    #\n",
    "    y_true_value_est = tf.reduce_sum((y_true_proba * y_true_value), axis=-1)\n",
    "    y_pred_value_est = tf.reduce_sum((y_true_proba * y_pred_value), axis=-1)\n",
    "#     y_pred_value_est = tf.reduce_sum((y_pred_proba * y_pred_value), axis=-1)\n",
    "    value_loss = tf.abs(y_pred_value_est - y_true_value_est)\n",
    "    \n",
    "    # Total loss\n",
    "#     return (0.5*cce_loss + 0.5*value_loss )\n",
    "    return (0.2*cce_loss + 0.8*value_loss )\n",
    "#     return (cce_loss)\n",
    "#     return (value_loss )"
   ]
  },
  {
   "cell_type": "code",
   "execution_count": 50,
   "id": "60575755",
   "metadata": {},
   "outputs": [
    {
     "name": "stderr",
     "output_type": "stream",
     "text": [
      "/home/benson516/GazeDemo/gaze_env/lib/python3.8/site-packages/tensorflow/python/keras/optimizer_v2/optimizer_v2.py:374: UserWarning: The `lr` argument is deprecated, use `learning_rate` instead.\n",
      "  warnings.warn(\n"
     ]
    }
   ],
   "source": [
    "# optimizer = keras.optimizers.SGD(lr=0.1, momentum=0.9)\n",
    "optimizer = keras.optimizers.Adam(lr=0.05)\n",
    "model.compile(loss=centerLoss_fn, optimizer=optimizer)"
   ]
  },
  {
   "cell_type": "code",
   "execution_count": 51,
   "id": "09bc47a5",
   "metadata": {
    "scrolled": true
   },
   "outputs": [],
   "source": [
    "# history = model.fit(X_train, y_train_grid_offset, epochs=100,\n",
    "#                     validation_data=(X_valid, y_valid_grid_offset))"
   ]
  },
  {
   "cell_type": "code",
   "execution_count": 52,
   "id": "7ba1fe76",
   "metadata": {},
   "outputs": [],
   "source": [
    "# import pandas as pd\n",
    "\n",
    "# pd.DataFrame(history.history).plot(figsize=(8, 5))\n",
    "# plt.grid(True)\n",
    "# # plt.gca().set_ylim(0, 1)\n",
    "# save_fig(\"grid_rbcOffset_training_curve\")\n",
    "# plt.show()"
   ]
  },
  {
   "cell_type": "code",
   "execution_count": 53,
   "id": "47db8336",
   "metadata": {
    "scrolled": false
   },
   "outputs": [],
   "source": [
    "# # plt.plot(X_train, y_train, \"b.\")\n",
    "# draw_points(X_train, y_train, sid_train)\n",
    "# draw_func((lambda X: n2go.inv_convert(model.predict(X)) ), mark='r-', linewidth=2, label=\"Predictions\")\n",
    "# draw_normal_func(func_dict)\n",
    "# plt.xlabel(\"$x_1$\", fontsize=18)\n",
    "# plt.ylabel(\"$y$\", rotation=0, fontsize=18)\n",
    "# plt.legend(loc=\"upper left\", fontsize=14)\n",
    "# # plt.axis([-3, 3, 0, 10])\n",
    "# save_fig(\"grid_rbcOffset_prediction\")\n",
    "# plt.show()"
   ]
  },
  {
   "cell_type": "code",
   "execution_count": 54,
   "id": "46a1a384",
   "metadata": {},
   "outputs": [],
   "source": [
    "# get_prediction_error((lambda X: n2go.inv_convert(model.predict(X)) ), func_dict, name=\"grid-classOffset\")"
   ]
  },
  {
   "cell_type": "code",
   "execution_count": null,
   "id": "fff995a6",
   "metadata": {},
   "outputs": [],
   "source": []
  },
  {
   "cell_type": "markdown",
   "id": "a811f344",
   "metadata": {},
   "source": [
    "# Parametric Uncertainty/Distribution Estimation\n",
    "\n",
    "In this section, we try to estimate uncertainty (actually, fit the dataset distribution) with parametric reprecentation of a distribution instead of a discretized non-parametric representation.\n",
    "\n",
    "Possible solution includes\n",
    "- Quantile estimation with pinball loss (statistic)\n",
    "- Guassian distribution (fit a prabability distribution)"
   ]
  },
  {
   "cell_type": "markdown",
   "id": "175eb32d",
   "metadata": {},
   "source": [
    "## Quantile Estimation with Pinball Loss (grid --> parameters)\n",
    "\n",
    "Quantile estimation and pinball loss is based on the concept of statistic, which predict the value based on the rank of samples in the dataset.\n",
    "\n",
    "The outputs of the model are $(y_{10}, y_{90})$, 10% quantile prediction and 90% quantile prediction, respectively."
   ]
  },
  {
   "cell_type": "code",
   "execution_count": 55,
   "id": "1d1ef92d",
   "metadata": {},
   "outputs": [],
   "source": [
    "# quantile_list = [0.5]\n",
    "# quantile_list = [0.9]\n",
    "# quantile_list = [0.1, 0.9] # Use hidden layer with 30 neurons\n",
    "# quantile_list = [0.05, 0.95]\n",
    "# quantile_list = [0.25, 0.75]\n",
    "# quantile_list = [0.1, 0.5, 0.9]\n",
    "# quantile_list = [0.1, 0.3, 0.7, 0.9]\n",
    "# quantile_list = [0.1, 0.2, 0.3, 0.4, 0.6, 0.7, 0.8, 0.9] # remove 0.5\n",
    "quantile_list = [0.1, 0.2, 0.3, 0.4, 0.5, 0.6, 0.7, 0.8, 0.9] # Should use wider hidden layer (with many neurons) + L1 regularization\n",
    "num_quantile = len(quantile_list)"
   ]
  },
  {
   "cell_type": "code",
   "execution_count": 56,
   "id": "8e3fe57b",
   "metadata": {},
   "outputs": [
    {
     "name": "stdout",
     "output_type": "stream",
     "text": [
      "X.shape = (None, 1)\n",
      "gauss_grid.shape = (None, 5)\n"
     ]
    }
   ],
   "source": [
    "model = keras.models.Sequential([\n",
    "    num2grid(5,x_min=-10, x_max=10, sigma=3.0, input_shape=X_train.shape[1:]), # Convert to grids\n",
    "#     num2grid(50,x_min=-10, x_max=10, sigma=0.5, input_shape=X_train.shape[1:]),\n",
    "#     keras.layers.Dense(30, activation=\"relu\"),\n",
    "#     keras.layers.Dense(60, activation=\"relu\"),\n",
    "#     keras.layers.Dense(100, activation=\"relu\"),\n",
    "#     keras.layers.Dropout(0.5),\n",
    "    keras.layers.Dense(100, activation=\"relu\", kernel_regularizer=tf.keras.regularizers.l1(0.01)),\n",
    "#     keras.layers.Dense(100, activation=keras.layers.LeakyReLU(alpha=0.2), kernel_regularizer=tf.keras.regularizers.l1(0.01)),\n",
    "#     keras.layers.Dense(30, activation=keras.layers.LeakyReLU(alpha=0.2) ),\n",
    "#     keras.layers.Dense(30, activation=\"selu\"),\n",
    "    keras.layers.Dense(num_quantile) # (y10, y90)\n",
    "])"
   ]
  },
  {
   "cell_type": "code",
   "execution_count": 57,
   "id": "bf131dc7",
   "metadata": {},
   "outputs": [],
   "source": [
    "# Customized loss function\n",
    "def pinballLoss_fn(y_true, y_pred, tau):\n",
    "    # tau: quantile, tau in [0.0, 1.0]\n",
    "    # y_true: label mean\n",
    "    # y_pred: predicted tau quantile\n",
    "    _q = y_true - y_pred\n",
    "    return tf.math.maximum( (tau*_q), ((tau-1.0)*_q))\n",
    "    \n",
    "def pinballLoss_10_90_fn(y_true, y_pred):\n",
    "    #\n",
    "    return pinballLoss_fn(y_true, y_pred[:,0:1], 0.1) + pinballLoss_fn(y_true, y_pred[:,1:2], 0.9)\n",
    "\n",
    "def pinballLoss_full_fn(y_true, y_pred):\n",
    "    #\n",
    "    pinball_losses = tf.stack( [pinballLoss_fn(y_true, y_pred[:, _i:(_i+1)], _tau) for _i, _tau in enumerate(quantile_list)], axis=1)\n",
    "    return tf.reduce_sum(pinball_losses, axis=1)"
   ]
  },
  {
   "cell_type": "code",
   "execution_count": 58,
   "id": "a71305d5",
   "metadata": {},
   "outputs": [],
   "source": [
    "# optimizer = keras.optimizers.SGD(lr=0.1, momentum=0.9)\n",
    "optimizer = keras.optimizers.Adam(lr=0.1)\n",
    "# model.compile(loss=pinballLoss_10_90_fn, optimizer=optimizer)\n",
    "model.compile(loss=pinballLoss_full_fn, optimizer=optimizer)"
   ]
  },
  {
   "cell_type": "code",
   "execution_count": 59,
   "id": "d935c409",
   "metadata": {
    "scrolled": true
   },
   "outputs": [
    {
     "name": "stdout",
     "output_type": "stream",
     "text": [
      "Epoch 1/100\n",
      "X.shape = (None, 1)\n",
      "gauss_grid.shape = (None, 5)\n",
      "X.shape = (None, 1)\n",
      "gauss_grid.shape = (None, 5)\n",
      "1/3 [=========>....................] - ETA: 1s - loss: 200.5452X.shape = (None, 1)\n",
      "gauss_grid.shape = (None, 5)\n",
      "3/3 [==============================] - 1s 56ms/step - loss: 185.8353 - val_loss: 140.4870\n",
      "Epoch 2/100\n",
      "3/3 [==============================] - 0s 6ms/step - loss: 156.6139 - val_loss: 106.1158\n",
      "Epoch 3/100\n",
      "3/3 [==============================] - 0s 8ms/step - loss: 106.2042 - val_loss: 72.0565\n",
      "Epoch 4/100\n",
      "3/3 [==============================] - 0s 17ms/step - loss: 73.8381 - val_loss: 50.2499\n",
      "Epoch 5/100\n",
      "3/3 [==============================] - 0s 12ms/step - loss: 63.9049 - val_loss: 60.5953\n",
      "Epoch 6/100\n",
      "3/3 [==============================] - 0s 13ms/step - loss: 66.0756 - val_loss: 51.2378\n",
      "Epoch 7/100\n",
      "3/3 [==============================] - 0s 14ms/step - loss: 56.8034 - val_loss: 40.1390\n",
      "Epoch 8/100\n",
      "3/3 [==============================] - 0s 12ms/step - loss: 50.4839 - val_loss: 46.4165\n",
      "Epoch 9/100\n",
      "3/3 [==============================] - 0s 13ms/step - loss: 50.3598 - val_loss: 50.3796\n",
      "Epoch 10/100\n",
      "3/3 [==============================] - 0s 7ms/step - loss: 48.8925 - val_loss: 48.8877\n",
      "Epoch 11/100\n",
      "3/3 [==============================] - 0s 16ms/step - loss: 46.9814 - val_loss: 45.6647\n",
      "Epoch 12/100\n",
      "3/3 [==============================] - 0s 13ms/step - loss: 40.9946 - val_loss: 46.2412\n",
      "Epoch 13/100\n",
      "3/3 [==============================] - 0s 16ms/step - loss: 42.6632 - val_loss: 45.3936\n",
      "Epoch 14/100\n",
      "3/3 [==============================] - 0s 13ms/step - loss: 42.3624 - val_loss: 43.5020\n",
      "Epoch 15/100\n",
      "3/3 [==============================] - 0s 10ms/step - loss: 38.5008 - val_loss: 44.8270\n",
      "Epoch 16/100\n",
      "3/3 [==============================] - 0s 10ms/step - loss: 39.6168 - val_loss: 46.4425\n",
      "Epoch 17/100\n",
      "3/3 [==============================] - 0s 13ms/step - loss: 39.1184 - val_loss: 42.6320\n",
      "Epoch 18/100\n",
      "3/3 [==============================] - 0s 10ms/step - loss: 38.6564 - val_loss: 42.5025\n",
      "Epoch 19/100\n",
      "3/3 [==============================] - 0s 13ms/step - loss: 39.8067 - val_loss: 42.0322\n",
      "Epoch 20/100\n",
      "3/3 [==============================] - 0s 11ms/step - loss: 40.3629 - val_loss: 42.5516\n",
      "Epoch 21/100\n",
      "3/3 [==============================] - 0s 13ms/step - loss: 36.4627 - val_loss: 44.8606\n",
      "Epoch 22/100\n",
      "3/3 [==============================] - 0s 22ms/step - loss: 38.7917 - val_loss: 39.9212\n",
      "Epoch 23/100\n",
      "3/3 [==============================] - 0s 15ms/step - loss: 36.9927 - val_loss: 38.1775\n",
      "Epoch 24/100\n",
      "3/3 [==============================] - 0s 15ms/step - loss: 35.0470 - val_loss: 39.4796\n",
      "Epoch 25/100\n",
      "3/3 [==============================] - 0s 12ms/step - loss: 36.7032 - val_loss: 38.2090\n",
      "Epoch 26/100\n",
      "3/3 [==============================] - 0s 10ms/step - loss: 34.1462 - val_loss: 38.4057\n",
      "Epoch 27/100\n",
      "3/3 [==============================] - 0s 12ms/step - loss: 34.9102 - val_loss: 37.2397\n",
      "Epoch 28/100\n",
      "3/3 [==============================] - 0s 14ms/step - loss: 34.0905 - val_loss: 35.7114\n",
      "Epoch 29/100\n",
      "3/3 [==============================] - 0s 12ms/step - loss: 33.9090 - val_loss: 35.5463\n",
      "Epoch 30/100\n",
      "3/3 [==============================] - 0s 11ms/step - loss: 33.4222 - val_loss: 35.0537\n",
      "Epoch 31/100\n",
      "3/3 [==============================] - 0s 12ms/step - loss: 34.2581 - val_loss: 34.9129\n",
      "Epoch 32/100\n",
      "3/3 [==============================] - 0s 12ms/step - loss: 33.1412 - val_loss: 34.0285\n",
      "Epoch 33/100\n",
      "3/3 [==============================] - 0s 9ms/step - loss: 32.4507 - val_loss: 34.1981\n",
      "Epoch 34/100\n",
      "3/3 [==============================] - 0s 12ms/step - loss: 32.8469 - val_loss: 35.0344\n",
      "Epoch 35/100\n",
      "3/3 [==============================] - 0s 10ms/step - loss: 33.2756 - val_loss: 34.3337\n",
      "Epoch 36/100\n",
      "3/3 [==============================] - 0s 11ms/step - loss: 31.9141 - val_loss: 33.3427\n",
      "Epoch 37/100\n",
      "3/3 [==============================] - 0s 8ms/step - loss: 31.9204 - val_loss: 33.6566\n",
      "Epoch 38/100\n",
      "3/3 [==============================] - 0s 12ms/step - loss: 33.1138 - val_loss: 32.6316\n",
      "Epoch 39/100\n",
      "3/3 [==============================] - 0s 10ms/step - loss: 31.6917 - val_loss: 31.5149\n",
      "Epoch 40/100\n",
      "3/3 [==============================] - 0s 10ms/step - loss: 31.6457 - val_loss: 30.8728\n",
      "Epoch 41/100\n",
      "3/3 [==============================] - 0s 8ms/step - loss: 31.2013 - val_loss: 31.7262\n",
      "Epoch 42/100\n",
      "3/3 [==============================] - 0s 10ms/step - loss: 31.6165 - val_loss: 31.2766\n",
      "Epoch 43/100\n",
      "3/3 [==============================] - 0s 10ms/step - loss: 31.2349 - val_loss: 30.7367\n",
      "Epoch 44/100\n",
      "3/3 [==============================] - 0s 8ms/step - loss: 30.9900 - val_loss: 31.9893\n",
      "Epoch 45/100\n",
      "3/3 [==============================] - 0s 18ms/step - loss: 33.3733 - val_loss: 32.7684\n",
      "Epoch 46/100\n",
      "3/3 [==============================] - 0s 10ms/step - loss: 32.6236 - val_loss: 31.2341\n",
      "Epoch 47/100\n",
      "3/3 [==============================] - 0s 11ms/step - loss: 31.5533 - val_loss: 31.3663\n",
      "Epoch 48/100\n",
      "3/3 [==============================] - 0s 11ms/step - loss: 33.5214 - val_loss: 32.5215\n",
      "Epoch 49/100\n",
      "3/3 [==============================] - 0s 13ms/step - loss: 32.2816 - val_loss: 31.5415\n",
      "Epoch 50/100\n",
      "3/3 [==============================] - 0s 12ms/step - loss: 34.8912 - val_loss: 33.9815\n",
      "Epoch 51/100\n",
      "3/3 [==============================] - 0s 9ms/step - loss: 36.7152 - val_loss: 32.4540\n",
      "Epoch 52/100\n",
      "3/3 [==============================] - 0s 12ms/step - loss: 32.7030 - val_loss: 34.4009\n",
      "Epoch 53/100\n",
      "3/3 [==============================] - 0s 10ms/step - loss: 34.3991 - val_loss: 33.2556\n",
      "Epoch 54/100\n",
      "3/3 [==============================] - 0s 8ms/step - loss: 32.6564 - val_loss: 32.8019\n",
      "Epoch 55/100\n",
      "3/3 [==============================] - 0s 9ms/step - loss: 33.6471 - val_loss: 35.6117\n",
      "Epoch 56/100\n",
      "3/3 [==============================] - 0s 9ms/step - loss: 35.7887 - val_loss: 34.9175\n",
      "Epoch 57/100\n",
      "3/3 [==============================] - 0s 9ms/step - loss: 33.8921 - val_loss: 33.1112\n",
      "Epoch 58/100\n",
      "3/3 [==============================] - 0s 12ms/step - loss: 31.4599 - val_loss: 32.2499\n",
      "Epoch 59/100\n",
      "3/3 [==============================] - 0s 12ms/step - loss: 33.5129 - val_loss: 29.7580\n",
      "Epoch 60/100\n",
      "3/3 [==============================] - 0s 12ms/step - loss: 30.9291 - val_loss: 31.8630\n",
      "Epoch 61/100\n",
      "3/3 [==============================] - 0s 13ms/step - loss: 32.3576 - val_loss: 31.5056\n",
      "Epoch 62/100\n",
      "3/3 [==============================] - 0s 9ms/step - loss: 31.4517 - val_loss: 30.2683\n",
      "Epoch 63/100\n",
      "3/3 [==============================] - 0s 11ms/step - loss: 31.5927 - val_loss: 30.2615\n",
      "Epoch 64/100\n",
      "3/3 [==============================] - 0s 11ms/step - loss: 31.0888 - val_loss: 30.5610\n",
      "Epoch 65/100\n",
      "3/3 [==============================] - 0s 12ms/step - loss: 30.1306 - val_loss: 30.6583\n",
      "Epoch 66/100\n",
      "3/3 [==============================] - 0s 9ms/step - loss: 31.0401 - val_loss: 29.8680\n",
      "Epoch 67/100\n",
      "3/3 [==============================] - 0s 9ms/step - loss: 30.5143 - val_loss: 32.8609\n",
      "Epoch 68/100\n",
      "3/3 [==============================] - 0s 11ms/step - loss: 30.9592 - val_loss: 30.3196\n",
      "Epoch 69/100\n",
      "3/3 [==============================] - 0s 12ms/step - loss: 30.8608 - val_loss: 31.4851\n",
      "Epoch 70/100\n",
      "3/3 [==============================] - 0s 8ms/step - loss: 31.8272 - val_loss: 32.2487\n",
      "Epoch 71/100\n",
      "3/3 [==============================] - 0s 10ms/step - loss: 31.7408 - val_loss: 31.6142\n",
      "Epoch 72/100\n",
      "3/3 [==============================] - 0s 9ms/step - loss: 31.4397 - val_loss: 30.0641\n",
      "Epoch 73/100\n",
      "3/3 [==============================] - 0s 8ms/step - loss: 32.5713 - val_loss: 29.8142\n",
      "Epoch 74/100\n",
      "3/3 [==============================] - 0s 10ms/step - loss: 31.8475 - val_loss: 30.0480\n",
      "Epoch 75/100\n",
      "3/3 [==============================] - 0s 10ms/step - loss: 32.7263 - val_loss: 30.2704\n",
      "Epoch 76/100\n",
      "3/3 [==============================] - 0s 8ms/step - loss: 31.6900 - val_loss: 30.2054\n",
      "Epoch 77/100\n",
      "3/3 [==============================] - 0s 10ms/step - loss: 31.1091 - val_loss: 30.7747\n",
      "Epoch 78/100\n",
      "3/3 [==============================] - 0s 9ms/step - loss: 30.8788 - val_loss: 29.5204\n",
      "Epoch 79/100\n",
      "3/3 [==============================] - 0s 8ms/step - loss: 30.2671 - val_loss: 29.9699\n",
      "Epoch 80/100\n"
     ]
    },
    {
     "name": "stdout",
     "output_type": "stream",
     "text": [
      "3/3 [==============================] - 0s 10ms/step - loss: 31.7792 - val_loss: 30.3835\n",
      "Epoch 81/100\n",
      "3/3 [==============================] - 0s 7ms/step - loss: 30.9932 - val_loss: 29.8463\n",
      "Epoch 82/100\n",
      "3/3 [==============================] - 0s 9ms/step - loss: 30.1795 - val_loss: 29.7074\n",
      "Epoch 83/100\n",
      "3/3 [==============================] - 0s 9ms/step - loss: 30.1455 - val_loss: 29.6629\n",
      "Epoch 84/100\n",
      "3/3 [==============================] - 0s 8ms/step - loss: 30.3715 - val_loss: 29.4808\n",
      "Epoch 85/100\n",
      "3/3 [==============================] - 0s 10ms/step - loss: 29.6206 - val_loss: 30.6303\n",
      "Epoch 86/100\n",
      "3/3 [==============================] - 0s 10ms/step - loss: 30.2589 - val_loss: 30.6079\n",
      "Epoch 87/100\n",
      "3/3 [==============================] - 0s 10ms/step - loss: 30.2019 - val_loss: 29.7947\n",
      "Epoch 88/100\n",
      "3/3 [==============================] - 0s 14ms/step - loss: 29.8555 - val_loss: 29.8818\n",
      "Epoch 89/100\n",
      "3/3 [==============================] - 0s 14ms/step - loss: 30.1356 - val_loss: 30.5348\n",
      "Epoch 90/100\n",
      "3/3 [==============================] - 0s 11ms/step - loss: 30.2179 - val_loss: 29.4640\n",
      "Epoch 91/100\n",
      "3/3 [==============================] - 0s 13ms/step - loss: 29.2248 - val_loss: 29.6403\n",
      "Epoch 92/100\n",
      "3/3 [==============================] - 0s 13ms/step - loss: 30.2276 - val_loss: 29.4547\n",
      "Epoch 93/100\n",
      "3/3 [==============================] - 0s 10ms/step - loss: 29.8800 - val_loss: 29.2336\n",
      "Epoch 94/100\n",
      "3/3 [==============================] - 0s 13ms/step - loss: 30.3491 - val_loss: 29.9067\n",
      "Epoch 95/100\n",
      "3/3 [==============================] - 0s 9ms/step - loss: 30.1028 - val_loss: 31.6640\n",
      "Epoch 96/100\n",
      "3/3 [==============================] - 0s 11ms/step - loss: 30.6267 - val_loss: 28.9571\n",
      "Epoch 97/100\n",
      "3/3 [==============================] - 0s 13ms/step - loss: 31.2372 - val_loss: 29.5423\n",
      "Epoch 98/100\n",
      "3/3 [==============================] - 0s 13ms/step - loss: 30.0101 - val_loss: 32.1362\n",
      "Epoch 99/100\n",
      "3/3 [==============================] - 0s 14ms/step - loss: 30.5963 - val_loss: 30.0742\n",
      "Epoch 100/100\n",
      "3/3 [==============================] - 0s 12ms/step - loss: 29.6872 - val_loss: 29.8062\n"
     ]
    }
   ],
   "source": [
    "history = model.fit(X_train, y_train, epochs=100,\n",
    "                    validation_data=(X_valid, y_valid))"
   ]
  },
  {
   "cell_type": "code",
   "execution_count": 60,
   "id": "e7fa5656",
   "metadata": {
    "scrolled": false
   },
   "outputs": [
    {
     "name": "stdout",
     "output_type": "stream",
     "text": [
      "Saving figure grid_quantile_training_curve\n"
     ]
    },
    {
     "data": {
      "image/png": "[encoded data removed]",
      "text/plain": [
       "<Figure size 576x360 with 1 Axes>"
      ]
     },
     "metadata": {
      "needs_background": "light"
     },
     "output_type": "display_data"
    }
   ],
   "source": [
    "import pandas as pd\n",
    "\n",
    "pd.DataFrame(history.history).plot(figsize=(8, 5))\n",
    "plt.grid(True)\n",
    "# plt.gca().set_ylim(0, 1)\n",
    "save_fig(\"grid_quantile_training_curve\")\n",
    "plt.show()"
   ]
  },
  {
   "cell_type": "markdown",
   "id": "a4a59dd6",
   "metadata": {},
   "source": [
    "### Draw the mean prediction curve averaged from all quantile predictions."
   ]
  },
  {
   "cell_type": "code",
   "execution_count": 61,
   "id": "0e5d0058",
   "metadata": {},
   "outputs": [
    {
     "name": "stdout",
     "output_type": "stream",
     "text": [
      "X.shape = (None, 1)\n",
      "gauss_grid.shape = (None, 5)\n",
      "Saving figure grid_quantile_prediction\n"
     ]
    },
    {
     "data": {
      "image/png": "[encoded data removed]",
      "text/plain": [
       "<Figure size 432x288 with 1 Axes>"
      ]
     },
     "metadata": {
      "needs_background": "light"
     },
     "output_type": "display_data"
    }
   ],
   "source": [
    "# plt.plot(X_train, y_train, \"b.\")\n",
    "draw_points(X_train, y_train, sid_train)\n",
    "draw_func((lambda X: np.average(model.predict(X), axis=-1) ), mark='r-', linewidth=2, label=\"Predictions\")\n",
    "# draw_func((lambda X: model.predict(X)[:,0] ), mark='k--', linewidth=1, label=\"$y_{%d}$\" % (quantile_list[0]*100))\n",
    "# draw_func((lambda X: model.predict(X)[:,-1] ), mark='k--', linewidth=1, label=\"$y_{%d}$\" % (quantile_list[-1]*100))\n",
    "draw_normal_func(func_dict)\n",
    "plt.xlabel(\"$x_1$\", fontsize=18)\n",
    "plt.ylabel(\"$y$\", rotation=0, fontsize=18)\n",
    "plt.legend(loc=\"upper left\", fontsize=14)\n",
    "# plt.axis([-3, 3, 0, 10])\n",
    "save_fig(\"grid_quantile_prediction\")\n",
    "plt.show()"
   ]
  },
  {
   "cell_type": "code",
   "execution_count": 62,
   "id": "f98d3ae8",
   "metadata": {},
   "outputs": [
    {
     "name": "stdout",
     "output_type": "stream",
     "text": [
      "y_func.shape = (100, 1)\n",
      "y_gt.shape = (100, 1)\n"
     ]
    },
    {
     "data": {
      "text/plain": [
       "3.168421333923033"
      ]
     },
     "execution_count": 62,
     "metadata": {},
     "output_type": "execute_result"
    }
   ],
   "source": [
    "get_prediction_error((lambda X: np.average(model.predict(X), axis=-1) ), func_dict, name=\"grid-quantileR\")"
   ]
  },
  {
   "cell_type": "markdown",
   "id": "f79ac920",
   "metadata": {},
   "source": [
    "### Draw first and last quantile curve."
   ]
  },
  {
   "cell_type": "code",
   "execution_count": 63,
   "id": "42eeb254",
   "metadata": {},
   "outputs": [
    {
     "name": "stdout",
     "output_type": "stream",
     "text": [
      "Saving figure grid_quantile_boundary_quantiles\n"
     ]
    },
    {
     "data": {
      "image/png": "[encoded data removed]",
      "text/plain": [
       "<Figure size 432x288 with 1 Axes>"
      ]
     },
     "metadata": {
      "needs_background": "light"
     },
     "output_type": "display_data"
    }
   ],
   "source": [
    "# plt.plot(X_train, y_train, \"b.\")\n",
    "draw_points(X_train, y_train, sid_train)\n",
    "draw_func((lambda X: np.average(model.predict(X), axis=-1) ), mark='r-', linewidth=2, label=\"Predictions\")\n",
    "draw_func((lambda X: model.predict(X)[:,0] ), mark='k--', linewidth=1, label=\"$y_{%d}$\" % (quantile_list[0]*100))\n",
    "draw_func((lambda X: model.predict(X)[:,-1] ), mark='k--', linewidth=1, label=\"$y_{%d}$\" % (quantile_list[-1]*100))\n",
    "draw_normal_func(func_dict)\n",
    "plt.xlabel(\"$x_1$\", fontsize=18)\n",
    "plt.ylabel(\"$y$\", rotation=0, fontsize=18)\n",
    "plt.legend(loc=\"upper left\", fontsize=14)\n",
    "# plt.axis([-3, 3, 0, 10])\n",
    "save_fig(\"grid_quantile_boundary_quantiles\")\n",
    "plt.show()"
   ]
  },
  {
   "cell_type": "markdown",
   "id": "2a1b1b44",
   "metadata": {},
   "source": [
    "### Draw all quantile predictions"
   ]
  },
  {
   "cell_type": "code",
   "execution_count": 64,
   "id": "5e875238",
   "metadata": {},
   "outputs": [
    {
     "name": "stdout",
     "output_type": "stream",
     "text": [
      "Saving figure grid_quantile_all_quantiles\n"
     ]
    },
    {
     "data": {
      "image/png": "[encoded data removed]",
      "text/plain": [
       "<Figure size 432x288 with 1 Axes>"
      ]
     },
     "metadata": {
      "needs_background": "light"
     },
     "output_type": "display_data"
    }
   ],
   "source": [
    "# plt.plot(X_train, y_train, \"b.\")\n",
    "draw_points(X_train, y_train, sid_train)\n",
    "draw_func((lambda X: np.average(model.predict(X), axis=-1) ), mark='r-', linewidth=2, label=\"Predictions\")\n",
    "for _idx, _tau in enumerate(quantile_list):\n",
    "    draw_func((lambda X: model.predict(X)[:,_idx] ), mark='k--', linewidth=1, label=\"$y_{%d}$\" % (_tau*100))\n",
    "draw_normal_func(func_dict)\n",
    "plt.xlabel(\"$x_1$\", fontsize=18)\n",
    "plt.ylabel(\"$y$\", rotation=0, fontsize=18)\n",
    "plt.legend(loc=\"upper left\", fontsize=14)\n",
    "# plt.axis([-3, 3, 0, 10])\n",
    "save_fig(\"grid_quantile_all_quantiles\")\n",
    "plt.show()"
   ]
  },
  {
   "cell_type": "markdown",
   "id": "0693a8eb",
   "metadata": {},
   "source": [
    "### Multi-Quantiles as a Gaussian Distribution "
   ]
  },
  {
   "cell_type": "code",
   "execution_count": 65,
   "id": "11262fbe",
   "metadata": {},
   "outputs": [],
   "source": [
    "# def n_sigma_boundary_line(X, n):\n",
    "#     _y = model.predict(X)\n",
    "#     _mean = np.mean(_y, axis=-1)\n",
    "#     _sigma = np.std(_y, axis=-1)\n",
    "#     return( _mean + n*_sigma)\n",
    "\n",
    "# # plt.plot(X_train, y_train, \"b.\")\n",
    "# draw_points(X_train, y_train, sid_train)\n",
    "# #\n",
    "# draw_func((lambda X: np.average(model.predict(X), axis=-1) ), mark='r-', linewidth=2, label=\"Predictions\")\n",
    "# draw_func((lambda X: n_sigma_boundary_line(X, +1.0) ), mark='k--', linewidth=1, label=\"$\\mu+\\sigma$\")\n",
    "# draw_func((lambda X: n_sigma_boundary_line(X, -1.0) ), mark='k--', linewidth=1, label=\"$\\mu-\\sigma$\")\n",
    "# #\n",
    "# draw_normal_func(func_dict)\n",
    "# plt.xlabel(\"$x_1$\", fontsize=18)\n",
    "# plt.ylabel(\"$y$\", rotation=0, fontsize=18)\n",
    "# plt.legend(loc=\"upper left\", fontsize=14)\n",
    "# # plt.axis([-3, 3, 0, 10])\n",
    "# save_fig(\"grid_quantile_1sigma\")\n",
    "# plt.show()"
   ]
  },
  {
   "cell_type": "markdown",
   "id": "9a01aa69",
   "metadata": {},
   "source": [
    "## Gaussian Estimation with Gaussian Loss (grid-->parameters)\n",
    "\n",
    "Gaussain estimation requires the model to predict the mean and variance of a Gaussian distribution of the random variable regarded. The training purpose is to fit a Gaussian distribution to the data distribution (which is not necessay distributed as Gaussian).\n",
    "\n",
    "One possible solution, derived by BensonHuang, is that the model estimates $(\\mu, z)$, where $z=\\alpha ^{-1}log(\\sigma)$.\n",
    "The associated loss function can be $L_G(y, (\\mu,z)) = 0.5e^{-2\\alpha z}(y-\\mu)^2 + \\alpha z$."
   ]
  },
  {
   "cell_type": "code",
   "execution_count": 66,
   "id": "1a20d5dd",
   "metadata": {},
   "outputs": [],
   "source": [
    "alpha = 1.0\n",
    "# alpha = 0.01\n",
    "# alpha = 0.001"
   ]
  },
  {
   "cell_type": "code",
   "execution_count": 67,
   "id": "cb202ed2",
   "metadata": {},
   "outputs": [
    {
     "name": "stdout",
     "output_type": "stream",
     "text": [
      "X.shape = (None, 1)\n",
      "gauss_grid.shape = (None, 5)\n"
     ]
    }
   ],
   "source": [
    "model = keras.models.Sequential([\n",
    "    num2grid(5,x_min=-10, x_max=10, sigma=3.0, input_shape=X_train.shape[1:]),\n",
    "#     keras.layers.Dense(30, activation=\"relu\"),\n",
    "    keras.layers.Dense(60, activation=\"relu\"),\n",
    "#     keras.layers.Dense(30, activation=keras.layers.LeakyReLU(alpha=0.2) ),\n",
    "#     keras.layers.Dense(30, activation=\"selu\"),\n",
    "    keras.layers.Dense(2) # (mu, z)\n",
    "])"
   ]
  },
  {
   "cell_type": "code",
   "execution_count": 68,
   "id": "925f0a22",
   "metadata": {},
   "outputs": [
    {
     "name": "stdout",
     "output_type": "stream",
     "text": [
      "alpha = 1.000000\n"
     ]
    }
   ],
   "source": [
    "# Customized loss function\n",
    "print(\"alpha = %f\" % alpha)\n",
    "\n",
    "def GaussianLoss_fn(y_true, y_pred):\n",
    "    # y_true: label \n",
    "    # y_pred: (mu, z), z=log(sigma)\n",
    "    mu = y_pred[:, 0:1]\n",
    "    z  = y_pred[:, 1:2]\n",
    "    #\n",
    "    en2z = tf.math.exp((-2.0*alpha)*z)\n",
    "    ymu2 = (y_true - mu)**2\n",
    "    return (0.5*en2z*ymu2 + alpha*z)"
   ]
  },
  {
   "cell_type": "code",
   "execution_count": 69,
   "id": "1b388b4b",
   "metadata": {},
   "outputs": [],
   "source": [
    "# Learning rate scheduler\n",
    "learning_rate_switch_epoch_list = [30, 45]\n",
    "learning_rate_list = [0.001, 0.01, 0.1]\n",
    "# learning_rate_switch_epoch_list = [30, 80]\n",
    "# learning_rate_list = [0.01, 0.1, 0.01]\n",
    "#\n",
    "def piecewise_constant_fn(epoch):\n",
    "    for _i, epoch_s in enumerate(learning_rate_switch_epoch_list):\n",
    "        if epoch < epoch_s:\n",
    "            return learning_rate_list[_i]\n",
    "    return learning_rate_list[-1]\n",
    "\n",
    "lr_scheduler = keras.callbacks.LearningRateScheduler(piecewise_constant_fn)"
   ]
  },
  {
   "cell_type": "markdown",
   "id": "6ec2e05e",
   "metadata": {},
   "source": [
    "Third training with even greater speed"
   ]
  },
  {
   "cell_type": "code",
   "execution_count": 70,
   "id": "7a7e245b",
   "metadata": {},
   "outputs": [
    {
     "name": "stderr",
     "output_type": "stream",
     "text": [
      "/home/benson516/GazeDemo/gaze_env/lib/python3.8/site-packages/tensorflow/python/keras/optimizer_v2/optimizer_v2.py:374: UserWarning: The `lr` argument is deprecated, use `learning_rate` instead.\n",
      "  warnings.warn(\n"
     ]
    }
   ],
   "source": [
    "# optimizer = keras.optimizers.SGD(lr=0.1, momentum=0.9)\n",
    "optimizer = keras.optimizers.Adam(lr=0.1) # 0.1\n",
    "model.compile(loss=GaussianLoss_fn, optimizer=optimizer)"
   ]
  },
  {
   "cell_type": "code",
   "execution_count": 71,
   "id": "6d7b74a9",
   "metadata": {
    "scrolled": true
   },
   "outputs": [
    {
     "name": "stdout",
     "output_type": "stream",
     "text": [
      "Epoch 1/200\n",
      "X.shape = (None, 1)\n",
      "gauss_grid.shape = (None, 5)\n",
      "X.shape = (None, 1)\n",
      "gauss_grid.shape = (None, 5)\n",
      "1/3 [=========>....................] - ETA: 0s - loss: 848.3296X.shape = (None, 1)\n",
      "gauss_grid.shape = (None, 5)\n",
      "3/3 [==============================] - 0s 38ms/step - loss: 352.9326 - val_loss: 5.8355\n",
      "Epoch 2/200\n",
      "3/3 [==============================] - 0s 6ms/step - loss: 7.5415 - val_loss: 11.4331\n",
      "Epoch 3/200\n",
      "3/3 [==============================] - 0s 10ms/step - loss: 12.8439 - val_loss: 15.7391\n",
      "Epoch 4/200\n",
      "3/3 [==============================] - 0s 8ms/step - loss: 16.8325 - val_loss: 18.7523\n",
      "Epoch 5/200\n",
      "3/3 [==============================] - 0s 20ms/step - loss: 19.5805 - val_loss: 20.6231\n",
      "Epoch 6/200\n",
      "3/3 [==============================] - 0s 11ms/step - loss: 21.2561 - val_loss: 21.5656\n",
      "Epoch 7/200\n",
      "3/3 [==============================] - 0s 12ms/step - loss: 22.0634 - val_loss: 21.7848\n",
      "Epoch 8/200\n",
      "3/3 [==============================] - 0s 12ms/step - loss: 22.1984 - val_loss: 21.5017\n",
      "Epoch 9/200\n",
      "3/3 [==============================] - 0s 13ms/step - loss: 21.8999 - val_loss: 20.9352\n",
      "Epoch 10/200\n",
      "3/3 [==============================] - 0s 13ms/step - loss: 21.3009 - val_loss: 20.1267\n",
      "Epoch 11/200\n",
      "3/3 [==============================] - 0s 9ms/step - loss: 20.4808 - val_loss: 19.1309\n",
      "Epoch 12/200\n",
      "3/3 [==============================] - 0s 17ms/step - loss: 19.4993 - val_loss: 18.0230\n",
      "Epoch 13/200\n",
      "3/3 [==============================] - 0s 15ms/step - loss: 18.4435 - val_loss: 16.8473\n",
      "Epoch 14/200\n",
      "3/3 [==============================] - 0s 13ms/step - loss: 17.3129 - val_loss: 15.6022\n",
      "Epoch 15/200\n",
      "3/3 [==============================] - 0s 11ms/step - loss: 16.0809 - val_loss: 14.2443\n",
      "Epoch 16/200\n",
      "3/3 [==============================] - 0s 9ms/step - loss: 14.7468 - val_loss: 12.7318\n",
      "Epoch 17/200\n",
      "3/3 [==============================] - 0s 12ms/step - loss: 13.2786 - val_loss: 11.0384\n",
      "Epoch 18/200\n",
      "3/3 [==============================] - 0s 10ms/step - loss: 11.6235 - val_loss: 9.1312\n",
      "Epoch 19/200\n",
      "3/3 [==============================] - 0s 13ms/step - loss: 9.7772 - val_loss: 6.9416\n",
      "Epoch 20/200\n",
      "3/3 [==============================] - 0s 9ms/step - loss: 7.7128 - val_loss: 9.0025\n",
      "Epoch 21/200\n",
      "3/3 [==============================] - 0s 12ms/step - loss: 9.3991 - val_loss: 5.5387\n",
      "Epoch 22/200\n",
      "3/3 [==============================] - 0s 11ms/step - loss: 6.9981 - val_loss: 6.8033\n",
      "Epoch 23/200\n",
      "3/3 [==============================] - 0s 12ms/step - loss: 7.8387 - val_loss: 7.4187\n",
      "Epoch 24/200\n",
      "3/3 [==============================] - 0s 11ms/step - loss: 8.0610 - val_loss: 7.4334\n",
      "Epoch 25/200\n",
      "3/3 [==============================] - 0s 12ms/step - loss: 7.7877 - val_loss: 7.0011\n",
      "Epoch 26/200\n",
      "3/3 [==============================] - 0s 9ms/step - loss: 7.1381 - val_loss: 6.2215\n",
      "Epoch 27/200\n",
      "3/3 [==============================] - 0s 10ms/step - loss: 6.1128 - val_loss: 5.1713\n",
      "Epoch 28/200\n",
      "3/3 [==============================] - 0s 9ms/step - loss: 4.9761 - val_loss: 4.3434\n",
      "Epoch 29/200\n",
      "3/3 [==============================] - 0s 8ms/step - loss: 5.0263 - val_loss: 4.1889\n",
      "Epoch 30/200\n",
      "3/3 [==============================] - 0s 9ms/step - loss: 4.4114 - val_loss: 4.0432\n",
      "Epoch 31/200\n",
      "3/3 [==============================] - 0s 7ms/step - loss: 4.3529 - val_loss: 4.0447\n",
      "Epoch 32/200\n",
      "3/3 [==============================] - 0s 9ms/step - loss: 4.3722 - val_loss: 3.8175\n",
      "Epoch 33/200\n",
      "3/3 [==============================] - 0s 10ms/step - loss: 4.1674 - val_loss: 3.9579\n",
      "Epoch 34/200\n",
      "3/3 [==============================] - 0s 12ms/step - loss: 4.1276 - val_loss: 4.3088\n",
      "Epoch 35/200\n",
      "3/3 [==============================] - 0s 18ms/step - loss: 4.2372 - val_loss: 3.8545\n",
      "Epoch 36/200\n",
      "3/3 [==============================] - 0s 12ms/step - loss: 3.9920 - val_loss: 3.7111\n",
      "Epoch 37/200\n",
      "3/3 [==============================] - 0s 14ms/step - loss: 4.0384 - val_loss: 3.7352\n",
      "Epoch 38/200\n",
      "3/3 [==============================] - 0s 12ms/step - loss: 4.0107 - val_loss: 3.6787\n",
      "Epoch 39/200\n",
      "3/3 [==============================] - 0s 14ms/step - loss: 3.9718 - val_loss: 3.6921\n",
      "Epoch 40/200\n",
      "3/3 [==============================] - 0s 11ms/step - loss: 3.9979 - val_loss: 3.6634\n",
      "Epoch 41/200\n",
      "3/3 [==============================] - 0s 11ms/step - loss: 3.9411 - val_loss: 3.6581\n",
      "Epoch 42/200\n",
      "3/3 [==============================] - 0s 11ms/step - loss: 3.9250 - val_loss: 3.6582\n",
      "Epoch 43/200\n",
      "3/3 [==============================] - 0s 9ms/step - loss: 3.9155 - val_loss: 3.6768\n",
      "Epoch 44/200\n",
      "3/3 [==============================] - 0s 12ms/step - loss: 3.8996 - val_loss: 3.6970\n",
      "Epoch 45/200\n",
      "3/3 [==============================] - 0s 10ms/step - loss: 3.9034 - val_loss: 3.6875\n",
      "Epoch 46/200\n",
      "3/3 [==============================] - 0s 12ms/step - loss: 3.8878 - val_loss: 3.6562\n",
      "Epoch 47/200\n",
      "3/3 [==============================] - 0s 9ms/step - loss: 3.8780 - val_loss: 3.6425\n",
      "Epoch 48/200\n",
      "3/3 [==============================] - 0s 10ms/step - loss: 3.8713 - val_loss: 3.6347\n",
      "Epoch 49/200\n",
      "3/3 [==============================] - 0s 10ms/step - loss: 3.8612 - val_loss: 3.6308\n",
      "Epoch 50/200\n",
      "3/3 [==============================] - 0s 7ms/step - loss: 3.8566 - val_loss: 3.6271\n",
      "Epoch 51/200\n",
      "3/3 [==============================] - 0s 10ms/step - loss: 3.8479 - val_loss: 3.6218\n",
      "Epoch 52/200\n",
      "3/3 [==============================] - 0s 9ms/step - loss: 3.8357 - val_loss: 3.6183\n",
      "Epoch 53/200\n",
      "3/3 [==============================] - 0s 8ms/step - loss: 3.8274 - val_loss: 3.6171\n",
      "Epoch 54/200\n",
      "3/3 [==============================] - 0s 9ms/step - loss: 3.8173 - val_loss: 3.6165\n",
      "Epoch 55/200\n",
      "3/3 [==============================] - 0s 9ms/step - loss: 3.8075 - val_loss: 3.6120\n",
      "Epoch 56/200\n",
      "3/3 [==============================] - 0s 8ms/step - loss: 3.7975 - val_loss: 3.6044\n",
      "Epoch 57/200\n",
      "3/3 [==============================] - 0s 10ms/step - loss: 3.7877 - val_loss: 3.5929\n",
      "Epoch 58/200\n",
      "3/3 [==============================] - 0s 9ms/step - loss: 3.7780 - val_loss: 3.5831\n",
      "Epoch 59/200\n",
      "3/3 [==============================] - 0s 8ms/step - loss: 3.7685 - val_loss: 3.5791\n",
      "Epoch 60/200\n",
      "3/3 [==============================] - 0s 9ms/step - loss: 3.7552 - val_loss: 3.5731\n",
      "Epoch 61/200\n",
      "3/3 [==============================] - 0s 7ms/step - loss: 3.7417 - val_loss: 3.5686\n",
      "Epoch 62/200\n",
      "3/3 [==============================] - 0s 9ms/step - loss: 3.7307 - val_loss: 3.5673\n",
      "Epoch 63/200\n",
      "3/3 [==============================] - 0s 10ms/step - loss: 3.7154 - val_loss: 3.5542\n",
      "Epoch 64/200\n",
      "3/3 [==============================] - 0s 23ms/step - loss: 3.7006 - val_loss: 3.5495\n",
      "Epoch 65/200\n",
      "3/3 [==============================] - 0s 15ms/step - loss: 3.6848 - val_loss: 3.5431\n",
      "Epoch 66/200\n",
      "3/3 [==============================] - 0s 14ms/step - loss: 3.6717 - val_loss: 3.5425\n",
      "Epoch 67/200\n",
      "3/3 [==============================] - 0s 15ms/step - loss: 3.6517 - val_loss: 3.5258\n",
      "Epoch 68/200\n",
      "3/3 [==============================] - 0s 15ms/step - loss: 3.6334 - val_loss: 3.5139\n",
      "Epoch 69/200\n",
      "3/3 [==============================] - 0s 14ms/step - loss: 3.6152 - val_loss: 3.5054\n",
      "Epoch 70/200\n",
      "3/3 [==============================] - 0s 14ms/step - loss: 3.5967 - val_loss: 3.5027\n",
      "Epoch 71/200\n",
      "3/3 [==============================] - 0s 17ms/step - loss: 3.5790 - val_loss: 3.4948\n",
      "Epoch 72/200\n",
      "3/3 [==============================] - 0s 16ms/step - loss: 3.5560 - val_loss: 3.4774\n",
      "Epoch 73/200\n",
      "3/3 [==============================] - 0s 16ms/step - loss: 3.5352 - val_loss: 3.4641\n",
      "Epoch 74/200\n",
      "3/3 [==============================] - 0s 14ms/step - loss: 3.5150 - val_loss: 3.4529\n",
      "Epoch 75/200\n",
      "3/3 [==============================] - 0s 13ms/step - loss: 3.4952 - val_loss: 3.4470\n",
      "Epoch 76/200\n",
      "3/3 [==============================] - 0s 11ms/step - loss: 3.4731 - val_loss: 3.4185\n",
      "Epoch 77/200\n",
      "3/3 [==============================] - 0s 9ms/step - loss: 3.4512 - val_loss: 3.3982\n",
      "Epoch 78/200\n",
      "3/3 [==============================] - 0s 11ms/step - loss: 3.4338 - val_loss: 3.3798\n",
      "Epoch 79/200\n",
      "3/3 [==============================] - 0s 10ms/step - loss: 3.4119 - val_loss: 3.3637\n",
      "Epoch 80/200\n",
      "3/3 [==============================] - 0s 7ms/step - loss: 3.3976 - val_loss: 3.3513\n",
      "Epoch 81/200\n"
     ]
    },
    {
     "name": "stdout",
     "output_type": "stream",
     "text": [
      "3/3 [==============================] - 0s 9ms/step - loss: 3.3812 - val_loss: 3.3433\n",
      "Epoch 82/200\n",
      "3/3 [==============================] - 0s 9ms/step - loss: 3.3716 - val_loss: 3.3246\n",
      "Epoch 83/200\n",
      "3/3 [==============================] - 0s 8ms/step - loss: 3.3565 - val_loss: 3.3082\n",
      "Epoch 84/200\n",
      "3/3 [==============================] - 0s 10ms/step - loss: 3.3473 - val_loss: 3.2988\n",
      "Epoch 85/200\n",
      "3/3 [==============================] - 0s 8ms/step - loss: 3.3345 - val_loss: 3.2934\n",
      "Epoch 86/200\n",
      "3/3 [==============================] - 0s 8ms/step - loss: 3.3260 - val_loss: 3.2942\n",
      "Epoch 87/200\n",
      "3/3 [==============================] - 0s 9ms/step - loss: 3.3170 - val_loss: 3.2979\n",
      "Epoch 88/200\n",
      "3/3 [==============================] - 0s 8ms/step - loss: 3.3231 - val_loss: 3.2879\n",
      "Epoch 89/200\n",
      "3/3 [==============================] - 0s 9ms/step - loss: 3.3088 - val_loss: 3.2844\n",
      "Epoch 90/200\n",
      "3/3 [==============================] - 0s 9ms/step - loss: 3.3195 - val_loss: 3.2698\n",
      "Epoch 91/200\n",
      "3/3 [==============================] - 0s 13ms/step - loss: 3.3156 - val_loss: 3.3002\n",
      "Epoch 92/200\n",
      "3/3 [==============================] - 0s 16ms/step - loss: 3.3051 - val_loss: 3.2603\n",
      "Epoch 93/200\n",
      "3/3 [==============================] - 0s 11ms/step - loss: 3.2931 - val_loss: 3.2558\n",
      "Epoch 94/200\n",
      "3/3 [==============================] - 0s 11ms/step - loss: 3.2942 - val_loss: 3.2569\n",
      "Epoch 95/200\n",
      "3/3 [==============================] - 0s 10ms/step - loss: 3.2862 - val_loss: 3.2482\n",
      "Epoch 96/200\n",
      "3/3 [==============================] - 0s 11ms/step - loss: 3.2762 - val_loss: 3.2520\n",
      "Epoch 97/200\n",
      "3/3 [==============================] - 0s 9ms/step - loss: 3.2733 - val_loss: 3.2534\n",
      "Epoch 98/200\n",
      "3/3 [==============================] - 0s 10ms/step - loss: 3.2795 - val_loss: 3.2266\n",
      "Epoch 99/200\n",
      "3/3 [==============================] - 0s 10ms/step - loss: 3.2676 - val_loss: 3.2441\n",
      "Epoch 100/200\n",
      "3/3 [==============================] - 0s 11ms/step - loss: 3.2848 - val_loss: 3.2289\n",
      "Epoch 101/200\n",
      "3/3 [==============================] - 0s 11ms/step - loss: 3.2618 - val_loss: 3.2488\n",
      "Epoch 102/200\n",
      "3/3 [==============================] - 0s 12ms/step - loss: 3.2654 - val_loss: 3.2415\n",
      "Epoch 103/200\n",
      "3/3 [==============================] - 0s 12ms/step - loss: 3.2894 - val_loss: 3.2419\n",
      "Epoch 104/200\n",
      "3/3 [==============================] - 0s 12ms/step - loss: 3.2645 - val_loss: 3.2336\n",
      "Epoch 105/200\n",
      "3/3 [==============================] - 0s 12ms/step - loss: 3.2564 - val_loss: 3.2406\n",
      "Epoch 106/200\n",
      "3/3 [==============================] - 0s 8ms/step - loss: 3.2619 - val_loss: 3.2213\n",
      "Epoch 107/200\n",
      "3/3 [==============================] - 0s 11ms/step - loss: 3.2492 - val_loss: 3.2152\n",
      "Epoch 108/200\n",
      "3/3 [==============================] - 0s 10ms/step - loss: 3.2524 - val_loss: 3.2111\n",
      "Epoch 109/200\n",
      "3/3 [==============================] - 0s 8ms/step - loss: 3.2439 - val_loss: 3.2167\n",
      "Epoch 110/200\n",
      "3/3 [==============================] - 0s 11ms/step - loss: 3.2479 - val_loss: 3.2144\n",
      "Epoch 111/200\n",
      "3/3 [==============================] - 0s 11ms/step - loss: 3.2457 - val_loss: 3.2095\n",
      "Epoch 112/200\n",
      "3/3 [==============================] - 0s 10ms/step - loss: 3.2465 - val_loss: 3.2035\n",
      "Epoch 113/200\n",
      "3/3 [==============================] - 0s 8ms/step - loss: 3.2437 - val_loss: 3.2038\n",
      "Epoch 114/200\n",
      "3/3 [==============================] - 0s 9ms/step - loss: 3.2484 - val_loss: 3.2109\n",
      "Epoch 115/200\n",
      "3/3 [==============================] - 0s 8ms/step - loss: 3.2640 - val_loss: 3.2511\n",
      "Epoch 116/200\n",
      "3/3 [==============================] - 0s 10ms/step - loss: 3.2693 - val_loss: 3.2200\n",
      "Epoch 117/200\n",
      "3/3 [==============================] - 0s 9ms/step - loss: 3.2549 - val_loss: 3.2659\n",
      "Epoch 118/200\n",
      "3/3 [==============================] - 0s 9ms/step - loss: 3.2624 - val_loss: 3.2121\n",
      "Epoch 119/200\n",
      "3/3 [==============================] - 0s 10ms/step - loss: 3.2489 - val_loss: 3.2208\n",
      "Epoch 120/200\n",
      "3/3 [==============================] - 0s 10ms/step - loss: 3.2474 - val_loss: 3.1986\n",
      "Epoch 121/200\n",
      "3/3 [==============================] - 0s 8ms/step - loss: 3.2599 - val_loss: 3.2040\n",
      "Epoch 122/200\n",
      "3/3 [==============================] - 0s 9ms/step - loss: 3.2452 - val_loss: 3.2437\n",
      "Epoch 123/200\n",
      "3/3 [==============================] - 0s 9ms/step - loss: 3.2612 - val_loss: 3.2040\n",
      "Epoch 124/200\n",
      "3/3 [==============================] - 0s 8ms/step - loss: 3.2098 - val_loss: 3.2782\n",
      "Epoch 125/200\n",
      "3/3 [==============================] - 0s 9ms/step - loss: 3.2847 - val_loss: 3.1914\n",
      "Epoch 126/200\n",
      "3/3 [==============================] - 0s 8ms/step - loss: 3.2158 - val_loss: 3.2002\n",
      "Epoch 127/200\n",
      "3/3 [==============================] - 0s 10ms/step - loss: 3.2395 - val_loss: 3.1946\n",
      "Epoch 128/200\n",
      "3/3 [==============================] - 0s 11ms/step - loss: 3.2266 - val_loss: 3.2003\n",
      "Epoch 129/200\n",
      "3/3 [==============================] - 0s 15ms/step - loss: 3.2186 - val_loss: 3.1808\n",
      "Epoch 130/200\n",
      "3/3 [==============================] - 0s 14ms/step - loss: 3.2107 - val_loss: 3.1736\n",
      "Epoch 131/200\n",
      "3/3 [==============================] - 0s 13ms/step - loss: 3.2128 - val_loss: 3.1728\n",
      "Epoch 132/200\n",
      "3/3 [==============================] - 0s 9ms/step - loss: 3.2092 - val_loss: 3.1833\n",
      "Epoch 133/200\n",
      "3/3 [==============================] - 0s 12ms/step - loss: 3.2250 - val_loss: 3.1921\n",
      "Epoch 134/200\n",
      "3/3 [==============================] - 0s 10ms/step - loss: 3.2120 - val_loss: 3.2097\n",
      "Epoch 135/200\n",
      "3/3 [==============================] - 0s 13ms/step - loss: 3.2202 - val_loss: 3.1927\n",
      "Epoch 136/200\n",
      "3/3 [==============================] - 0s 11ms/step - loss: 3.2038 - val_loss: 3.2040\n",
      "Epoch 137/200\n",
      "3/3 [==============================] - 0s 10ms/step - loss: 3.2174 - val_loss: 3.1777\n",
      "Epoch 138/200\n",
      "3/3 [==============================] - 0s 10ms/step - loss: 3.1837 - val_loss: 3.2187\n",
      "Epoch 139/200\n",
      "3/3 [==============================] - 0s 10ms/step - loss: 3.2442 - val_loss: 3.1670\n",
      "Epoch 140/200\n",
      "3/3 [==============================] - 0s 8ms/step - loss: 3.1961 - val_loss: 3.1689\n",
      "Epoch 141/200\n",
      "3/3 [==============================] - 0s 10ms/step - loss: 3.1924 - val_loss: 3.1614\n",
      "Epoch 142/200\n",
      "3/3 [==============================] - 0s 9ms/step - loss: 3.1927 - val_loss: 3.1605\n",
      "Epoch 143/200\n",
      "3/3 [==============================] - 0s 8ms/step - loss: 3.1900 - val_loss: 3.1563\n",
      "Epoch 144/200\n",
      "3/3 [==============================] - 0s 10ms/step - loss: 3.1910 - val_loss: 3.1581\n",
      "Epoch 145/200\n",
      "3/3 [==============================] - 0s 10ms/step - loss: 3.1789 - val_loss: 3.1738\n",
      "Epoch 146/200\n",
      "3/3 [==============================] - 0s 10ms/step - loss: 3.1898 - val_loss: 3.1618\n",
      "Epoch 147/200\n",
      "3/3 [==============================] - 0s 12ms/step - loss: 3.1719 - val_loss: 3.1573\n",
      "Epoch 148/200\n",
      "3/3 [==============================] - 0s 14ms/step - loss: 3.1759 - val_loss: 3.1488\n",
      "Epoch 149/200\n",
      "3/3 [==============================] - 0s 13ms/step - loss: 3.1741 - val_loss: 3.1521\n",
      "Epoch 150/200\n",
      "3/3 [==============================] - 0s 10ms/step - loss: 3.1868 - val_loss: 3.1561\n",
      "Epoch 151/200\n",
      "3/3 [==============================] - 0s 11ms/step - loss: 3.1662 - val_loss: 3.1553\n",
      "Epoch 152/200\n",
      "3/3 [==============================] - 0s 9ms/step - loss: 3.2000 - val_loss: 3.1423\n",
      "Epoch 153/200\n",
      "3/3 [==============================] - 0s 11ms/step - loss: 3.1897 - val_loss: 3.1879\n",
      "Epoch 154/200\n",
      "3/3 [==============================] - 0s 10ms/step - loss: 3.1878 - val_loss: 3.1536\n",
      "Epoch 155/200\n",
      "3/3 [==============================] - 0s 9ms/step - loss: 3.1649 - val_loss: 3.1685\n",
      "Epoch 156/200\n",
      "3/3 [==============================] - 0s 8ms/step - loss: 3.1624 - val_loss: 3.1413\n",
      "Epoch 157/200\n",
      "3/3 [==============================] - 0s 10ms/step - loss: 3.2141 - val_loss: 3.2001\n",
      "Epoch 158/200\n",
      "3/3 [==============================] - 0s 7ms/step - loss: 3.1803 - val_loss: 3.1515\n",
      "Epoch 159/200\n",
      "3/3 [==============================] - 0s 10ms/step - loss: 3.1697 - val_loss: 3.1524\n",
      "Epoch 160/200\n",
      "3/3 [==============================] - 0s 9ms/step - loss: 3.1543 - val_loss: 3.1446\n",
      "Epoch 161/200\n",
      "3/3 [==============================] - 0s 8ms/step - loss: 3.1480 - val_loss: 3.1341\n",
      "Epoch 162/200\n",
      "3/3 [==============================] - 0s 10ms/step - loss: 3.1435 - val_loss: 3.1249\n",
      "Epoch 163/200\n"
     ]
    },
    {
     "name": "stdout",
     "output_type": "stream",
     "text": [
      "3/3 [==============================] - 0s 8ms/step - loss: 3.1525 - val_loss: 3.1168\n",
      "Epoch 164/200\n",
      "3/3 [==============================] - 0s 8ms/step - loss: 3.1413 - val_loss: 3.0928\n",
      "Epoch 165/200\n",
      "3/3 [==============================] - 0s 9ms/step - loss: 3.1376 - val_loss: 3.1098\n",
      "Epoch 166/200\n",
      "3/3 [==============================] - 0s 8ms/step - loss: 3.1428 - val_loss: 3.1109\n",
      "Epoch 167/200\n",
      "3/3 [==============================] - 0s 9ms/step - loss: 3.1469 - val_loss: 3.1390\n",
      "Epoch 168/200\n",
      "3/3 [==============================] - 0s 10ms/step - loss: 3.1213 - val_loss: 3.1615\n",
      "Epoch 169/200\n",
      "3/3 [==============================] - 0s 8ms/step - loss: 3.1364 - val_loss: 3.1163\n",
      "Epoch 170/200\n",
      "3/3 [==============================] - 0s 13ms/step - loss: 3.1024 - val_loss: 3.1148\n",
      "Epoch 171/200\n",
      "3/3 [==============================] - 0s 13ms/step - loss: 3.1197 - val_loss: 3.0853\n",
      "Epoch 172/200\n",
      "3/3 [==============================] - 0s 13ms/step - loss: 3.1247 - val_loss: 3.0679\n",
      "Epoch 173/200\n",
      "3/3 [==============================] - 0s 9ms/step - loss: 3.1070 - val_loss: 3.0938\n",
      "Epoch 174/200\n",
      "3/3 [==============================] - 0s 11ms/step - loss: 3.1219 - val_loss: 3.1198\n",
      "Epoch 175/200\n",
      "3/3 [==============================] - 0s 11ms/step - loss: 3.1084 - val_loss: 3.1486\n",
      "Epoch 176/200\n",
      "3/3 [==============================] - 0s 11ms/step - loss: 3.1084 - val_loss: 3.0977\n",
      "Epoch 177/200\n",
      "3/3 [==============================] - 0s 11ms/step - loss: 3.0967 - val_loss: 3.0929\n",
      "Epoch 178/200\n",
      "3/3 [==============================] - 0s 10ms/step - loss: 3.0929 - val_loss: 3.0776\n",
      "Epoch 179/200\n",
      "3/3 [==============================] - 0s 11ms/step - loss: 3.0865 - val_loss: 3.0776\n",
      "Epoch 180/200\n",
      "3/3 [==============================] - 0s 10ms/step - loss: 3.0777 - val_loss: 3.0750\n",
      "Epoch 181/200\n",
      "3/3 [==============================] - 0s 11ms/step - loss: 3.0659 - val_loss: 3.0960\n",
      "Epoch 182/200\n",
      "3/3 [==============================] - 0s 9ms/step - loss: 3.0787 - val_loss: 3.1003\n",
      "Epoch 183/200\n",
      "3/3 [==============================] - 0s 10ms/step - loss: 3.0627 - val_loss: 3.0749\n",
      "Epoch 184/200\n",
      "3/3 [==============================] - 0s 10ms/step - loss: 3.1056 - val_loss: 3.0507\n",
      "Epoch 185/200\n",
      "3/3 [==============================] - 0s 8ms/step - loss: 3.0593 - val_loss: 3.0571\n",
      "Epoch 186/200\n",
      "3/3 [==============================] - 0s 10ms/step - loss: 3.0488 - val_loss: 3.0678\n",
      "Epoch 187/200\n",
      "3/3 [==============================] - 0s 11ms/step - loss: 3.1048 - val_loss: 3.0679\n",
      "Epoch 188/200\n",
      "3/3 [==============================] - 0s 9ms/step - loss: 3.1629 - val_loss: 3.2762\n",
      "Epoch 189/200\n",
      "3/3 [==============================] - 0s 10ms/step - loss: 3.1805 - val_loss: 3.0608\n",
      "Epoch 190/200\n",
      "3/3 [==============================] - 0s 10ms/step - loss: 3.0826 - val_loss: 3.0982\n",
      "Epoch 191/200\n",
      "3/3 [==============================] - 0s 14ms/step - loss: 3.0528 - val_loss: 3.0904\n",
      "Epoch 192/200\n",
      "3/3 [==============================] - 0s 9ms/step - loss: 3.0822 - val_loss: 3.0798\n",
      "Epoch 193/200\n",
      "3/3 [==============================] - 0s 10ms/step - loss: 3.0347 - val_loss: 3.0886\n",
      "Epoch 194/200\n",
      "3/3 [==============================] - 0s 10ms/step - loss: 3.0537 - val_loss: 3.0392\n",
      "Epoch 195/200\n",
      "3/3 [==============================] - 0s 9ms/step - loss: 3.0182 - val_loss: 3.0645\n",
      "Epoch 196/200\n",
      "3/3 [==============================] - 0s 9ms/step - loss: 3.0344 - val_loss: 3.0301\n",
      "Epoch 197/200\n",
      "3/3 [==============================] - 0s 10ms/step - loss: 3.0218 - val_loss: 3.0343\n",
      "Epoch 198/200\n",
      "3/3 [==============================] - 0s 10ms/step - loss: 3.0260 - val_loss: 3.0632\n",
      "Epoch 199/200\n",
      "3/3 [==============================] - 0s 10ms/step - loss: 3.0199 - val_loss: 3.0479\n",
      "Epoch 200/200\n",
      "3/3 [==============================] - 0s 13ms/step - loss: 3.0071 - val_loss: 3.0360\n"
     ]
    }
   ],
   "source": [
    "history = model.fit(X_train, y_train, epochs=200,\n",
    "                    validation_data=(X_valid, y_valid))"
   ]
  },
  {
   "cell_type": "code",
   "execution_count": 72,
   "id": "0b29d35c",
   "metadata": {
    "scrolled": true
   },
   "outputs": [],
   "source": [
    "# history = model.fit(X_train, y_train, epochs=145,\n",
    "#                     validation_data=(X_valid, y_valid), callbacks=[lr_scheduler])"
   ]
  },
  {
   "cell_type": "code",
   "execution_count": 73,
   "id": "28215732",
   "metadata": {},
   "outputs": [
    {
     "name": "stdout",
     "output_type": "stream",
     "text": [
      "Saving figure grid_Gaussian_training_curve\n"
     ]
    },
    {
     "data": {
      "image/png": "[encoded data removed]",
      "text/plain": [
       "<Figure size 576x360 with 1 Axes>"
      ]
     },
     "metadata": {
      "needs_background": "light"
     },
     "output_type": "display_data"
    }
   ],
   "source": [
    "import pandas as pd\n",
    "\n",
    "# print(history.history)\n",
    "try:\n",
    "    lr_list = history.history[\"lr\"]\n",
    "    del(history.history[\"lr\"])\n",
    "except:\n",
    "    pass\n",
    "\n",
    "pd.DataFrame(history.history)[50:].plot(figsize=(8, 5))\n",
    "plt.grid(True)\n",
    "# plt.gca().set_ylim(0, 1)\n",
    "save_fig(\"grid_Gaussian_training_curve\")\n",
    "plt.show()"
   ]
  },
  {
   "cell_type": "code",
   "execution_count": 74,
   "id": "47d362c9",
   "metadata": {
    "scrolled": true
   },
   "outputs": [
    {
     "name": "stdout",
     "output_type": "stream",
     "text": [
      "X.shape = (None, 1)\n",
      "gauss_grid.shape = (None, 5)\n",
      "Saving figure grid_Gaussian_prediction\n"
     ]
    },
    {
     "data": {
      "image/png": "[encoded data removed]",
      "text/plain": [
       "<Figure size 432x288 with 1 Axes>"
      ]
     },
     "metadata": {
      "needs_background": "light"
     },
     "output_type": "display_data"
    }
   ],
   "source": [
    "# plt.plot(X_train, y_train, \"b.\")\n",
    "draw_points(X_train, y_train, sid_train)\n",
    "draw_func((lambda X: model.predict(X)[:,0] ), mark='r-', linewidth=2, label=\"Predictions\")\n",
    "draw_normal_func(func_dict)\n",
    "plt.xlabel(\"$x_1$\", fontsize=18)\n",
    "plt.ylabel(\"$y$\", rotation=0, fontsize=18)\n",
    "plt.legend(loc=\"upper left\", fontsize=14)\n",
    "# plt.axis([-3, 3, 0, 10])\n",
    "save_fig(\"grid_Gaussian_prediction\")\n",
    "plt.show()"
   ]
  },
  {
   "cell_type": "code",
   "execution_count": 75,
   "id": "a85a5159",
   "metadata": {},
   "outputs": [
    {
     "name": "stdout",
     "output_type": "stream",
     "text": [
      "y_func.shape = (100, 1)\n",
      "y_gt.shape = (100, 1)\n"
     ]
    },
    {
     "data": {
      "text/plain": [
       "6.884503103775448"
      ]
     },
     "execution_count": 75,
     "metadata": {},
     "output_type": "execute_result"
    }
   ],
   "source": [
    "get_prediction_error((lambda X: model.predict(X)[:,0] ), func_dict, name=\"grid-oneGaussian\")"
   ]
  },
  {
   "cell_type": "markdown",
   "id": "9ca1e36d",
   "metadata": {},
   "source": [
    "### Draw the 1-sigma boundary line"
   ]
  },
  {
   "cell_type": "code",
   "execution_count": 76,
   "id": "a04a47fa",
   "metadata": {},
   "outputs": [
    {
     "name": "stdout",
     "output_type": "stream",
     "text": [
      "Saving figure grid_Gaussian_1sigma\n"
     ]
    },
    {
     "data": {
      "image/png": "[encoded data removed]",
      "text/plain": [
       "<Figure size 432x288 with 1 Axes>"
      ]
     },
     "metadata": {
      "needs_background": "light"
     },
     "output_type": "display_data"
    }
   ],
   "source": [
    "def n_sigma_boundary_line(X, n):\n",
    "    _y = model.predict(X)\n",
    "    _mean, _z = _y[:,0:1], _y[:,1:2]\n",
    "    _sigma = np.exp(alpha*_z)\n",
    "    return( _mean + n*_sigma)\n",
    "\n",
    "# plt.plot(X_train, y_train, \"b.\")\n",
    "draw_points(X_train, y_train, sid_train)\n",
    "#\n",
    "draw_func((lambda X: model.predict(X)[:,0] ), mark='r-', linewidth=2, label=\"Predictions\")\n",
    "draw_func((lambda X: n_sigma_boundary_line(X, +1.0) ), mark='k--', linewidth=1, label=\"$\\mu+\\sigma$\")\n",
    "draw_func((lambda X: n_sigma_boundary_line(X, -1.0) ), mark='k--', linewidth=1, label=\"$\\mu-\\sigma$\")\n",
    "#\n",
    "draw_normal_func(func_dict)\n",
    "plt.xlabel(\"$x_1$\", fontsize=18)\n",
    "plt.ylabel(\"$y$\", rotation=0, fontsize=18)\n",
    "plt.legend(loc=\"upper left\", fontsize=14)\n",
    "# plt.axis([-3, 3, 0, 10])\n",
    "save_fig(\"grid_Gaussian_1sigma\")\n",
    "plt.show()"
   ]
  },
  {
   "cell_type": "markdown",
   "id": "1cdb8a83",
   "metadata": {},
   "source": [
    "# Per-subject Bias/Property Learning"
   ]
  },
  {
   "cell_type": "code",
   "execution_count": 77,
   "id": "0a429b42",
   "metadata": {},
   "outputs": [],
   "source": [
    "# Create a custom layer for estimating bais for each subject\n",
    "class SubjectBias(keras.layers.Layer):\n",
    "    def __init__(self, num_subject, bias_scale=1.0, mean_reg_rate=1.0, activation=None, **kwargs):\n",
    "        super().__init__(**kwargs)\n",
    "        self.num_subject = num_subject\n",
    "        self.bias_scale = bias_scale\n",
    "        self.mean_reg_rate = mean_reg_rate if mean_reg_rate >= 0.0 else 0.0\n",
    "        #\n",
    "        self.X_shape = None\n",
    "        self.activation = keras.activations.get(activation)\n",
    "        \n",
    "    def build(self, batch_input_shape):\n",
    "        self.X_shape = batch_input_shape[0]\n",
    "        # Initiate a trainable vector as the bias for X\n",
    "        \"\"\"\n",
    "        bias: (num_subject, X_shape[1], X_shape[2], ...)\n",
    "        \"\"\"\n",
    "        self.bias = self.add_weight(name=\"bias\", \n",
    "                                    shape=([self.num_subject] + self.X_shape[1:]), \n",
    "                                    initializer=\"zeros\")\n",
    "        super().build(batch_input_shape) # must be at the end\n",
    "        \n",
    "    def get_bias(self, sid):\n",
    "        '''\n",
    "        A helper function for retriving the bias according to the given sid.\n",
    "        Note: sid starts from 1.\n",
    "        Note2: this is the bias added to X, which are scaled by self.bias_scale\n",
    "        '''\n",
    "        if sid > self.num_subject or sid <= 0: # Out of bound, index not in range\n",
    "            return tf.zeros(self.X_shape[1:])\n",
    "        else:\n",
    "            return self.bias_scale * self.bias[tf.cast(sid-1, tf.int32),:]\n",
    "        \n",
    "    def get_scaled_biases_np(self):\n",
    "        return self.bias_scale * self.bias.numpy()\n",
    "        \n",
    "    def call(self, X_sid, training=None):\n",
    "        '''\n",
    "        X_sid = [X, sid]\n",
    "        Input shape:  X: (batch, ...), sid: (batch, 1)\n",
    "        Output shape: (batch, ...)\n",
    "        '''\n",
    "        X, SID = X_sid\n",
    "        X_shape = X.shape\n",
    "        print(\"X.shape = %s\" % X.shape)\n",
    "        print(\"SID.shape = %s\" % SID.shape)\n",
    "        \n",
    "        # Add bias\n",
    "        y = X + self.bias_scale * tf.gather(self.bias, SID[:,0]-1, axis=0)\n",
    "        \n",
    "        # Add a loss on the means in order to force them to become zeros\n",
    "        if self.mean_reg_rate > 0.0:\n",
    "            # Calculate the mean of all biases (on each dimension)\n",
    "            bias_means = tf.reduce_mean(self.bias, axis=0)\n",
    "            # MAE of means on all dimensions\n",
    "            self.add_loss( self.mean_reg_rate * tf.reduce_sum(tf.abs(bias_means)) )\n",
    "        \n",
    "        return self.activation(y)\n",
    "        \n",
    "#         if training:    \n",
    "#             # Add biases according to the sid of each instance\n",
    "#             # Note: a corner case is not handeled that if there exist out-of-range sid.\n",
    "#             # y = X + self.bias[tf.cast(SID[:,0]-1, tf.int32),:]\n",
    "#             # y = X + self.bias[ SID[:,0]-1,:]\n",
    "#             y = X + tf.gather(self.bias, SID[:,0]-1, axis=0)\n",
    "#             return self.activation(y)\n",
    "#         else: # If it's not trainig, just output the original X without adding bias\n",
    "#             return self.activation(X_sid[0])\n",
    "    \n",
    "    def compute_output_shape(self, batch_input_shape):\n",
    "        # Note: the same shape as the first input\n",
    "        return batch_input_shape[0]\n",
    "    \n",
    "    def get_config(self):\n",
    "        base_config = super().get_config()\n",
    "        return {**base_config, \n",
    "                \"num_subject\": self.num_subject,\n",
    "                \"bias_scale\": self.bias_scale,\n",
    "                \"mean_reg_rate\": self.mean_reg_rate,\n",
    "                \"activation\": keras.activations.serialize(self.activation)}"
   ]
  },
  {
   "cell_type": "code",
   "execution_count": 78,
   "id": "8d90e89f",
   "metadata": {},
   "outputs": [],
   "source": [
    "# Create a custom layer for estimating linear transform for each subject\n",
    "# We only assume 1D lear transform on each input dimension separately. (assume value on each dimension are independent to others.)\n",
    "# 1D linear transform: yi = wi * xi + bi\n",
    "class SubjectLinearTransform1D(keras.layers.Layer):\n",
    "    def __init__(self, num_subject, bias_scale=1.0, weight_mean_reg_rate=1.0, bias_mean_reg_rate=1.0, activation=None, **kwargs):\n",
    "        super().__init__(**kwargs)\n",
    "        self.num_subject = num_subject\n",
    "        self.bias_scale = bias_scale\n",
    "        self.weight_mean_reg_rate = weight_mean_reg_rate if weight_mean_reg_rate >= 0.0 else 0.0\n",
    "        self.bias_mean_reg_rate = bias_mean_reg_rate if bias_mean_reg_rate >= 0.0 else 0.0\n",
    "        #\n",
    "        self.X_shape = None\n",
    "        self.activation = keras.activations.get(activation)\n",
    "        \n",
    "    def build(self, batch_input_shape):\n",
    "        print(\"batch_input_shape = %s\" % str(batch_input_shape))\n",
    "        self.X_shape = batch_input_shape[0] # Because this layer has two source of input. Here we get the property of the first input\n",
    "        # Initiate a trainable vector as the bias for X\n",
    "        \"\"\"\n",
    "        bias: (num_subject, X_shape[1], X_shape[2], ...)\n",
    "        \"\"\"\n",
    "        self.weight = self.add_weight(name=\"weight\", \n",
    "                                    shape=([self.num_subject] + self.X_shape[1:]), \n",
    "                                    initializer=\"ones\")\n",
    "        self.bias = self.add_weight(name=\"bias\", \n",
    "                                    shape=([self.num_subject] + self.X_shape[1:]), \n",
    "                                    initializer=\"zeros\")\n",
    "        super().build(batch_input_shape) # must be at the end\n",
    "        \n",
    "    def get_bias(self, sid):\n",
    "        '''\n",
    "        A helper function for retriving the bias according to the given sid.\n",
    "        Note: sid starts from 1.\n",
    "        Note2: this is the bias added to X, which are scaled by self.bias_scale\n",
    "        '''\n",
    "        if sid > self.num_subject or sid <= 0: # Out of bound, index not in range\n",
    "            return tf.zeros(self.X_shape[1:])\n",
    "        else:\n",
    "            return self.bias_scale * self.bias[tf.cast(sid-1, tf.int32),:]\n",
    "        \n",
    "    def get_scaled_biases_np(self):\n",
    "        return self.bias_scale * self.bias.numpy()\n",
    "    \n",
    "    def get_weights_np(self):\n",
    "        return self.weight.numpy()\n",
    "        \n",
    "    def call(self, X_sid, training=None):\n",
    "        '''\n",
    "        X_sid = [X, sid]\n",
    "        Input shape:  X: (batch, ...), sid: (batch, 1)\n",
    "        Output shape: (batch, ...)\n",
    "        '''\n",
    "        X, SID = X_sid\n",
    "        X_shape = X.shape\n",
    "        print(\"X.shape = %s\" % X.shape)\n",
    "        print(\"SID.shape = %s\" % SID.shape)\n",
    "        \n",
    "        # Element-wise multiplication of weights and addition of biases\n",
    "        y = tf.gather(self.weight, SID[:,0]-1, axis=0) * X + self.bias_scale * tf.gather(self.bias, SID[:,0]-1, axis=0)\n",
    "        \n",
    "        # Add a loss on the means in order to force them to become zeros\n",
    "        if self.weight_mean_reg_rate > 0.0 or self.bias_mean_reg_rate > 0.0:\n",
    "            # Calculate the mean of all weights and biases (on each dimension separately)\n",
    "            weight_means = tf.reduce_mean(self.weight, axis=0)\n",
    "            bias_means = tf.reduce_mean(self.bias, axis=0)\n",
    "            # MAE of means on all dimensions\n",
    "            self.add_loss( self.weight_mean_reg_rate * tf.reduce_sum(tf.abs(weight_means - 1.0)) ) # Should close to 1.0\n",
    "            self.add_loss( self.bias_mean_reg_rate * tf.reduce_sum(tf.abs(bias_means)) )\n",
    "        \n",
    "        return self.activation(y)\n",
    "    \n",
    "    def compute_output_shape(self, batch_input_shape):\n",
    "        # Note: the same shape as the first input\n",
    "        return batch_input_shape[0]\n",
    "    \n",
    "    def get_config(self):\n",
    "        base_config = super().get_config()\n",
    "        return {**base_config, \n",
    "                \"num_subject\": self.num_subject,\n",
    "                \"bias_scale\": self.bias_scale,\n",
    "                \"weight_mean_reg_rate\": self.weight_mean_reg_rate,\n",
    "                \"bias_mean_reg_rate\": self.bias_mean_reg_rate,\n",
    "                \"activation\": keras.activations.serialize(self.activation)}"
   ]
  },
  {
   "cell_type": "markdown",
   "id": "00220bd0",
   "metadata": {},
   "source": [
    "Number of subjects"
   ]
  },
  {
   "cell_type": "code",
   "execution_count": 79,
   "id": "fa925d83",
   "metadata": {},
   "outputs": [],
   "source": [
    "# Number of subjects\n",
    "num_subject = multiout_type"
   ]
  },
  {
   "cell_type": "markdown",
   "id": "37e02154",
   "metadata": {},
   "source": [
    "Build two models"
   ]
  },
  {
   "cell_type": "code",
   "execution_count": 80,
   "id": "05766d44",
   "metadata": {},
   "outputs": [
    {
     "name": "stdout",
     "output_type": "stream",
     "text": [
      "X.shape = (None, 1)\n",
      "gauss_grid.shape = (None, 5)\n",
      "batch_input_shape = [TensorShape([None, 1]), TensorShape([None, 1])]\n",
      "X.shape = (None, 1)\n",
      "SID.shape = (None, 1)\n",
      "WARNING:tensorflow:From /home/benson516/GazeDemo/gaze_env/lib/python3.8/site-packages/tensorflow/python/ops/array_ops.py:5043: calling gather (from tensorflow.python.ops.array_ops) with validate_indices is deprecated and will be removed in a future version.\n",
      "Instructions for updating:\n",
      "The `validate_indices` argument has no effect. Indices are always validated on CPU and never validated on GPU.\n"
     ]
    }
   ],
   "source": [
    "inputs = keras.layers.Input(shape=X_train.shape[1:])\n",
    "inputs_sid = keras.layers.Input(shape=(1,), dtype=tf.int32)\n",
    "#\n",
    "z = num2grid(5,x_min=-10, x_max=10, sigma=3.0)(inputs)\n",
    "z = keras.layers.Dense(30, activation=\"relu\")(z)\n",
    "output = keras.layers.Dense(1)(z)\n",
    "# output_biased = SubjectBias(num_subject, bias_scale=10.0, mean_reg_rate=1.0, name=\"bias_est\")([output, inputs_sid])\n",
    "output_biased = SubjectLinearTransform1D(num_subject, bias_scale=10.0, weight_mean_reg_rate=5.0, bias_mean_reg_rate=1.0, name=\"bias_est\")([output, inputs_sid])\n",
    "# Setup models\n",
    "model = keras.Model(inputs=[inputs], outputs=[output]) # pure\n",
    "model_biased = keras.Model(inputs=[inputs, inputs_sid], outputs=[output_biased]) # biased, for training"
   ]
  },
  {
   "cell_type": "code",
   "execution_count": 81,
   "id": "6da7e9b1",
   "metadata": {},
   "outputs": [
    {
     "name": "stderr",
     "output_type": "stream",
     "text": [
      "/home/benson516/GazeDemo/gaze_env/lib/python3.8/site-packages/tensorflow/python/keras/optimizer_v2/optimizer_v2.py:374: UserWarning: The `lr` argument is deprecated, use `learning_rate` instead.\n",
      "  warnings.warn(\n"
     ]
    }
   ],
   "source": [
    "# optimizer = keras.optimizers.SGD(lr=0.001, momentum=0.9)\n",
    "# model.compile(loss=\"mean_squared_error\", optimizer=optimizer)\n",
    "optimizer = keras.optimizers.Adam(lr=0.1)\n",
    "model_biased.compile(loss=\"mean_absolute_error\", optimizer=optimizer)\n",
    "#\n",
    "# model.compile(loss=\"mean_absolute_error\", optimizer=optimizer) # No need to compile this if it's not going to be trained."
   ]
  },
  {
   "cell_type": "code",
   "execution_count": 82,
   "id": "700a6e39",
   "metadata": {
    "scrolled": true
   },
   "outputs": [
    {
     "name": "stdout",
     "output_type": "stream",
     "text": [
      "Epoch 1/100\n",
      "X.shape = (None, 1)\n",
      "gauss_grid.shape = (None, 5)\n",
      "X.shape = (None, 1)\n",
      "SID.shape = (None, 1)\n",
      "X.shape = (None, 1)\n",
      "gauss_grid.shape = (None, 5)\n",
      "X.shape = (None, 1)\n",
      "SID.shape = (None, 1)\n",
      "1/3 [=========>....................] - ETA: 0s - loss: 36.7649X.shape = (None, 1)\n",
      "gauss_grid.shape = (None, 5)\n",
      "X.shape = (None, 1)\n",
      "SID.shape = (None, 1)\n",
      "3/3 [==============================] - 0s 46ms/step - loss: 41.4935 - val_loss: 32.0483\n",
      "Epoch 2/100\n",
      "3/3 [==============================] - 0s 7ms/step - loss: 38.2533 - val_loss: 28.7298\n",
      "Epoch 3/100\n",
      "3/3 [==============================] - 0s 13ms/step - loss: 31.8496 - val_loss: 21.3135\n",
      "Epoch 4/100\n",
      "3/3 [==============================] - 0s 20ms/step - loss: 21.6334 - val_loss: 10.4549\n",
      "Epoch 5/100\n",
      "3/3 [==============================] - 0s 10ms/step - loss: 15.0030 - val_loss: 9.6533\n",
      "Epoch 6/100\n",
      "3/3 [==============================] - 0s 17ms/step - loss: 15.3920 - val_loss: 8.1119\n",
      "Epoch 7/100\n",
      "3/3 [==============================] - 0s 8ms/step - loss: 12.4378 - val_loss: 7.8205\n",
      "Epoch 8/100\n",
      "3/3 [==============================] - 0s 16ms/step - loss: 12.0988 - val_loss: 7.8275\n",
      "Epoch 9/100\n",
      "3/3 [==============================] - 0s 9ms/step - loss: 11.5878 - val_loss: 6.3640\n",
      "Epoch 10/100\n",
      "3/3 [==============================] - 0s 12ms/step - loss: 10.5678 - val_loss: 5.6228\n",
      "Epoch 11/100\n",
      "3/3 [==============================] - 0s 11ms/step - loss: 9.7228 - val_loss: 6.5747\n",
      "Epoch 12/100\n",
      "3/3 [==============================] - 0s 11ms/step - loss: 9.0363 - val_loss: 5.5713\n",
      "Epoch 13/100\n",
      "3/3 [==============================] - 0s 10ms/step - loss: 9.4296 - val_loss: 5.3637\n",
      "Epoch 14/100\n",
      "3/3 [==============================] - 0s 10ms/step - loss: 9.1490 - val_loss: 5.9080\n",
      "Epoch 15/100\n",
      "3/3 [==============================] - 0s 11ms/step - loss: 9.6177 - val_loss: 7.1259\n",
      "Epoch 16/100\n",
      "3/3 [==============================] - 0s 11ms/step - loss: 8.4594 - val_loss: 5.3140\n",
      "Epoch 17/100\n",
      "3/3 [==============================] - 0s 11ms/step - loss: 7.7245 - val_loss: 5.2351\n",
      "Epoch 18/100\n",
      "3/3 [==============================] - 0s 10ms/step - loss: 7.6733 - val_loss: 5.5501\n",
      "Epoch 19/100\n",
      "3/3 [==============================] - 0s 12ms/step - loss: 7.3653 - val_loss: 5.4209\n",
      "Epoch 20/100\n",
      "3/3 [==============================] - 0s 10ms/step - loss: 6.5338 - val_loss: 4.9320\n",
      "Epoch 21/100\n",
      "3/3 [==============================] - 0s 11ms/step - loss: 7.0773 - val_loss: 5.2187\n",
      "Epoch 22/100\n",
      "3/3 [==============================] - 0s 9ms/step - loss: 6.1854 - val_loss: 5.0161\n",
      "Epoch 23/100\n",
      "3/3 [==============================] - 0s 12ms/step - loss: 5.8979 - val_loss: 5.1463\n",
      "Epoch 24/100\n",
      "3/3 [==============================] - 0s 12ms/step - loss: 5.2590 - val_loss: 4.4269\n",
      "Epoch 25/100\n",
      "3/3 [==============================] - 0s 14ms/step - loss: 5.5115 - val_loss: 4.3821\n",
      "Epoch 26/100\n",
      "3/3 [==============================] - 0s 11ms/step - loss: 4.9057 - val_loss: 5.6322\n",
      "Epoch 27/100\n",
      "3/3 [==============================] - 0s 9ms/step - loss: 5.3911 - val_loss: 4.7791\n",
      "Epoch 28/100\n",
      "3/3 [==============================] - 0s 9ms/step - loss: 4.6828 - val_loss: 6.0797\n",
      "Epoch 29/100\n",
      "3/3 [==============================] - 0s 9ms/step - loss: 5.4514 - val_loss: 4.3462\n",
      "Epoch 30/100\n",
      "3/3 [==============================] - 0s 8ms/step - loss: 4.3055 - val_loss: 4.2584\n",
      "Epoch 31/100\n",
      "3/3 [==============================] - 0s 8ms/step - loss: 4.0096 - val_loss: 2.9080\n",
      "Epoch 32/100\n",
      "3/3 [==============================] - 0s 9ms/step - loss: 3.0402 - val_loss: 3.1917\n",
      "Epoch 33/100\n",
      "3/3 [==============================] - 0s 8ms/step - loss: 3.0307 - val_loss: 2.8857\n",
      "Epoch 34/100\n",
      "3/3 [==============================] - 0s 11ms/step - loss: 3.0750 - val_loss: 2.6887\n",
      "Epoch 35/100\n",
      "3/3 [==============================] - 0s 11ms/step - loss: 3.1249 - val_loss: 3.1058\n",
      "Epoch 36/100\n",
      "3/3 [==============================] - 0s 16ms/step - loss: 3.1748 - val_loss: 4.0587\n",
      "Epoch 37/100\n",
      "3/3 [==============================] - 0s 14ms/step - loss: 4.4503 - val_loss: 3.6918\n",
      "Epoch 38/100\n",
      "3/3 [==============================] - 0s 12ms/step - loss: 3.2452 - val_loss: 3.3145\n",
      "Epoch 39/100\n",
      "3/3 [==============================] - 0s 10ms/step - loss: 3.4182 - val_loss: 3.8963\n",
      "Epoch 40/100\n",
      "3/3 [==============================] - 0s 11ms/step - loss: 4.1575 - val_loss: 3.4229\n",
      "Epoch 41/100\n",
      "3/3 [==============================] - 0s 10ms/step - loss: 3.7844 - val_loss: 3.1160\n",
      "Epoch 42/100\n",
      "3/3 [==============================] - 0s 10ms/step - loss: 3.3802 - val_loss: 4.1758\n",
      "Epoch 43/100\n",
      "3/3 [==============================] - 0s 9ms/step - loss: 3.0796 - val_loss: 2.5641\n",
      "Epoch 44/100\n",
      "3/3 [==============================] - 0s 9ms/step - loss: 3.0344 - val_loss: 2.0601\n",
      "Epoch 45/100\n",
      "3/3 [==============================] - 0s 10ms/step - loss: 2.7025 - val_loss: 3.4213\n",
      "Epoch 46/100\n",
      "3/3 [==============================] - 0s 11ms/step - loss: 3.4193 - val_loss: 2.3816\n",
      "Epoch 47/100\n",
      "3/3 [==============================] - 0s 13ms/step - loss: 2.9526 - val_loss: 2.4695\n",
      "Epoch 48/100\n",
      "3/3 [==============================] - 0s 11ms/step - loss: 2.8508 - val_loss: 3.0292\n",
      "Epoch 49/100\n",
      "3/3 [==============================] - 0s 12ms/step - loss: 3.5437 - val_loss: 2.3122\n",
      "Epoch 50/100\n",
      "3/3 [==============================] - 0s 10ms/step - loss: 2.5844 - val_loss: 2.6150\n",
      "Epoch 51/100\n",
      "3/3 [==============================] - 0s 11ms/step - loss: 3.2900 - val_loss: 2.6771\n",
      "Epoch 52/100\n",
      "3/3 [==============================] - 0s 9ms/step - loss: 2.9272 - val_loss: 2.8774\n",
      "Epoch 53/100\n",
      "3/3 [==============================] - 0s 12ms/step - loss: 3.3988 - val_loss: 2.9760\n",
      "Epoch 54/100\n",
      "3/3 [==============================] - 0s 12ms/step - loss: 3.0025 - val_loss: 3.5401\n",
      "Epoch 55/100\n",
      "3/3 [==============================] - 0s 11ms/step - loss: 3.3609 - val_loss: 2.8429\n",
      "Epoch 56/100\n",
      "3/3 [==============================] - 0s 8ms/step - loss: 3.1173 - val_loss: 3.0350\n",
      "Epoch 57/100\n",
      "3/3 [==============================] - 0s 10ms/step - loss: 3.4237 - val_loss: 3.0397\n",
      "Epoch 58/100\n",
      "3/3 [==============================] - 0s 10ms/step - loss: 2.8785 - val_loss: 3.5792\n",
      "Epoch 59/100\n",
      "3/3 [==============================] - 0s 9ms/step - loss: 3.1466 - val_loss: 3.6318\n",
      "Epoch 60/100\n",
      "3/3 [==============================] - 0s 10ms/step - loss: 3.5214 - val_loss: 3.7171\n",
      "Epoch 61/100\n",
      "3/3 [==============================] - 0s 10ms/step - loss: 4.3184 - val_loss: 3.3705\n",
      "Epoch 62/100\n",
      "3/3 [==============================] - 0s 8ms/step - loss: 3.4574 - val_loss: 2.4227\n",
      "Epoch 63/100\n",
      "3/3 [==============================] - 0s 11ms/step - loss: 3.1450 - val_loss: 3.1896\n",
      "Epoch 64/100\n",
      "3/3 [==============================] - 0s 12ms/step - loss: 3.0632 - val_loss: 2.6127\n",
      "Epoch 65/100\n",
      "3/3 [==============================] - 0s 9ms/step - loss: 3.8533 - val_loss: 3.1065\n",
      "Epoch 66/100\n",
      "3/3 [==============================] - 0s 10ms/step - loss: 3.4499 - val_loss: 2.4494\n",
      "Epoch 67/100\n",
      "3/3 [==============================] - 0s 11ms/step - loss: 2.8260 - val_loss: 3.2084\n",
      "Epoch 68/100\n",
      "3/3 [==============================] - 0s 13ms/step - loss: 3.5521 - val_loss: 2.3560\n",
      "Epoch 69/100\n",
      "3/3 [==============================] - 0s 11ms/step - loss: 3.0878 - val_loss: 3.5691\n",
      "Epoch 70/100\n",
      "3/3 [==============================] - 0s 10ms/step - loss: 3.3792 - val_loss: 3.1233\n",
      "Epoch 71/100\n",
      "3/3 [==============================] - 0s 10ms/step - loss: 3.6400 - val_loss: 3.2214\n",
      "Epoch 72/100\n",
      "3/3 [==============================] - 0s 10ms/step - loss: 3.6449 - val_loss: 2.8629\n",
      "Epoch 73/100\n",
      "3/3 [==============================] - 0s 11ms/step - loss: 3.1367 - val_loss: 4.1463\n",
      "Epoch 74/100\n",
      "3/3 [==============================] - 0s 9ms/step - loss: 3.9300 - val_loss: 4.0305\n",
      "Epoch 75/100\n",
      "3/3 [==============================] - 0s 9ms/step - loss: 3.4787 - val_loss: 2.6200\n",
      "Epoch 76/100\n",
      "3/3 [==============================] - 0s 12ms/step - loss: 3.1270 - val_loss: 2.9208\n",
      "Epoch 77/100\n",
      "3/3 [==============================] - 0s 10ms/step - loss: 2.6804 - val_loss: 2.2988\n",
      "Epoch 78/100\n",
      "3/3 [==============================] - 0s 8ms/step - loss: 3.1210 - val_loss: 2.4004\n",
      "Epoch 79/100\n",
      "3/3 [==============================] - 0s 10ms/step - loss: 3.1211 - val_loss: 2.6083\n",
      "Epoch 80/100\n"
     ]
    },
    {
     "name": "stdout",
     "output_type": "stream",
     "text": [
      "3/3 [==============================] - 0s 9ms/step - loss: 3.0451 - val_loss: 2.1684\n",
      "Epoch 81/100\n",
      "3/3 [==============================] - 0s 9ms/step - loss: 2.5882 - val_loss: 2.4357\n",
      "Epoch 82/100\n",
      "3/3 [==============================] - 0s 9ms/step - loss: 2.7302 - val_loss: 2.2424\n",
      "Epoch 83/100\n",
      "3/3 [==============================] - 0s 8ms/step - loss: 2.6924 - val_loss: 2.5899\n",
      "Epoch 84/100\n",
      "3/3 [==============================] - 0s 9ms/step - loss: 3.1812 - val_loss: 2.4802\n",
      "Epoch 85/100\n",
      "3/3 [==============================] - 0s 9ms/step - loss: 3.5261 - val_loss: 2.1768\n",
      "Epoch 86/100\n",
      "3/3 [==============================] - 0s 8ms/step - loss: 3.1541 - val_loss: 2.3682\n",
      "Epoch 87/100\n",
      "3/3 [==============================] - 0s 10ms/step - loss: 3.1278 - val_loss: 3.0972\n",
      "Epoch 88/100\n",
      "3/3 [==============================] - 0s 11ms/step - loss: 3.2017 - val_loss: 2.5574\n",
      "Epoch 89/100\n",
      "3/3 [==============================] - 0s 8ms/step - loss: 3.4255 - val_loss: 2.6496\n",
      "Epoch 90/100\n",
      "3/3 [==============================] - 0s 9ms/step - loss: 3.0058 - val_loss: 4.0993\n",
      "Epoch 91/100\n",
      "3/3 [==============================] - 0s 8ms/step - loss: 3.2446 - val_loss: 2.6625\n",
      "Epoch 92/100\n",
      "3/3 [==============================] - 0s 8ms/step - loss: 3.8056 - val_loss: 2.4989\n",
      "Epoch 93/100\n",
      "3/3 [==============================] - 0s 10ms/step - loss: 3.6243 - val_loss: 3.9473\n",
      "Epoch 94/100\n",
      "3/3 [==============================] - 0s 10ms/step - loss: 4.0918 - val_loss: 2.7958\n",
      "Epoch 95/100\n",
      "3/3 [==============================] - 0s 12ms/step - loss: 3.4494 - val_loss: 3.8912\n",
      "Epoch 96/100\n",
      "3/3 [==============================] - 0s 15ms/step - loss: 4.1753 - val_loss: 2.4456\n",
      "Epoch 97/100\n",
      "3/3 [==============================] - 0s 12ms/step - loss: 2.8097 - val_loss: 3.6170\n",
      "Epoch 98/100\n",
      "3/3 [==============================] - 0s 10ms/step - loss: 3.2641 - val_loss: 2.6440\n",
      "Epoch 99/100\n",
      "3/3 [==============================] - 0s 13ms/step - loss: 3.3137 - val_loss: 2.8969\n",
      "Epoch 100/100\n",
      "3/3 [==============================] - 0s 11ms/step - loss: 3.1539 - val_loss: 4.5498\n"
     ]
    }
   ],
   "source": [
    "history = model_biased.fit([X_train, sid_train], y_train, epochs=100,\n",
    "                    validation_data=([X_valid, sid_valid], y_valid))"
   ]
  },
  {
   "cell_type": "code",
   "execution_count": 83,
   "id": "ca149f05",
   "metadata": {
    "scrolled": false
   },
   "outputs": [
    {
     "name": "stdout",
     "output_type": "stream",
     "text": [
      "Saving figure grid_noBiaseNum_training_curve\n"
     ]
    },
    {
     "data": {
      "image/png": "[encoded data removed]",
      "text/plain": [
       "<Figure size 576x360 with 1 Axes>"
      ]
     },
     "metadata": {
      "needs_background": "light"
     },
     "output_type": "display_data"
    }
   ],
   "source": [
    "import pandas as pd\n",
    "\n",
    "pd.DataFrame(history.history).plot(figsize=(8, 5))\n",
    "plt.grid(True)\n",
    "# plt.gca().set_ylim(0, 1)\n",
    "save_fig(\"grid_noBiaseNum_training_curve\")\n",
    "plt.show()"
   ]
  },
  {
   "cell_type": "markdown",
   "id": "2433c7a5",
   "metadata": {},
   "source": [
    "The pure prediction"
   ]
  },
  {
   "cell_type": "code",
   "execution_count": 84,
   "id": "556ee2c4",
   "metadata": {},
   "outputs": [
    {
     "name": "stdout",
     "output_type": "stream",
     "text": [
      "X.shape = (None, 1)\n",
      "gauss_grid.shape = (None, 5)\n",
      "Saving figure grid_noBaisNum_prediction\n"
     ]
    },
    {
     "data": {
      "image/png": "[encoded data removed]",
      "text/plain": [
       "<Figure size 432x288 with 1 Axes>"
      ]
     },
     "metadata": {
      "needs_background": "light"
     },
     "output_type": "display_data"
    }
   ],
   "source": [
    "draw_points(X_train, y_train, sid_train)\n",
    "draw_func(model.predict, mark='r-', linewidth=2, label=\"Predictions\")\n",
    "draw_normal_func(func_dict)\n",
    "plt.xlabel(\"$x_1$\", fontsize=18)\n",
    "plt.ylabel(\"$y$\", rotation=0, fontsize=18)\n",
    "plt.legend(loc=\"upper left\", fontsize=14)\n",
    "# plt.axis([-3, 3, 0, 10])\n",
    "save_fig(\"grid_noBaisNum_prediction\")\n",
    "plt.show()"
   ]
  },
  {
   "cell_type": "code",
   "execution_count": 85,
   "id": "4d3d77cd",
   "metadata": {},
   "outputs": [
    {
     "name": "stdout",
     "output_type": "stream",
     "text": [
      "y_func.shape = (100, 1)\n",
      "y_gt.shape = (100, 1)\n"
     ]
    },
    {
     "data": {
      "text/plain": [
       "2.5310451766618005"
      ]
     },
     "execution_count": 85,
     "metadata": {},
     "output_type": "execute_result"
    }
   ],
   "source": [
    "get_prediction_error(model.predict, func_dict, name=\"grid-noBiasNum\")"
   ]
  },
  {
   "cell_type": "markdown",
   "id": "b89b2413",
   "metadata": {},
   "source": [
    "### Biased Prediction (according to SID)"
   ]
  },
  {
   "cell_type": "code",
   "execution_count": 86,
   "id": "0893f75e",
   "metadata": {},
   "outputs": [
    {
     "name": "stdout",
     "output_type": "stream",
     "text": [
      "scaled_bias = \n",
      "[[-11.7594185]\n",
      " [ 12.2647295]]\n",
      "\n",
      "mean_scaled_bias = \n",
      "[0.2526555]\n"
     ]
    }
   ],
   "source": [
    "scaled_bias = model_biased.get_layer(\"bias_est\").get_scaled_biases_np()\n",
    "mean_scaled_bias = np.mean(scaled_bias, axis=0)\n",
    "#\n",
    "print(\"scaled_bias = \\n%s\" % str(scaled_bias))\n",
    "print(\"\\nmean_scaled_bias = \\n%s\" % str(mean_scaled_bias))"
   ]
  },
  {
   "cell_type": "code",
   "execution_count": 87,
   "id": "01a675f7",
   "metadata": {},
   "outputs": [
    {
     "name": "stdout",
     "output_type": "stream",
     "text": [
      "output_scales = \n",
      "[[1.1083957 ]\n",
      " [0.85409147]]\n",
      "\n",
      "mean_scales = \n",
      "[0.9812436]\n"
     ]
    }
   ],
   "source": [
    "try:\n",
    "    output_scales = model_biased.get_layer(\"bias_est\").get_weights_np()\n",
    "    mean_scales = np.mean(output_scales, axis=0)\n",
    "    #\n",
    "    print(\"output_scales = \\n%s\" % str(output_scales))\n",
    "    print(\"\\nmean_scales = \\n%s\" % str(mean_scales))\n",
    "except:\n",
    "    pass"
   ]
  },
  {
   "cell_type": "code",
   "execution_count": 88,
   "id": "16460e63",
   "metadata": {},
   "outputs": [
    {
     "name": "stdout",
     "output_type": "stream",
     "text": [
      "X.shape = (None, 1)\n",
      "gauss_grid.shape = (None, 5)\n",
      "X.shape = (None, 1)\n",
      "SID.shape = (None, 1)\n",
      "Saving figure grid_noBaisNum_perSubjectCurve\n"
     ]
    },
    {
     "data": {
      "image/png": "[encoded data removed]",
      "text/plain": [
       "<Figure size 432x288 with 1 Axes>"
      ]
     },
     "metadata": {
      "needs_background": "light"
     },
     "output_type": "display_data"
    }
   ],
   "source": [
    "def predict_with_biase_sid(X, sid=1):\n",
    "    return model_biased.predict([X, tf.fill( (X.shape[0],1), sid)])\n",
    "\n",
    "draw_points(X_train, y_train, sid_train)\n",
    "#\n",
    "draw_func(model.predict, mark='r-', linewidth=2, label=\"Predictions\")\n",
    "for _idx in range(num_subject):\n",
    "    _sid = _idx + 1\n",
    "    draw_func(lambda X: predict_with_biase_sid(X, _sid), mark='k--', linewidth=1, label=(\"sid=%d\" % _sid))\n",
    "#\n",
    "draw_normal_func(func_dict)\n",
    "plt.xlabel(\"$x_1$\", fontsize=18)\n",
    "plt.ylabel(\"$y$\", rotation=0, fontsize=18)\n",
    "plt.legend(loc=\"upper left\", fontsize=14)\n",
    "# plt.axis([-3, 3, 0, 10])\n",
    "save_fig(\"grid_noBaisNum_perSubjectCurve\")\n",
    "plt.show()"
   ]
  },
  {
   "cell_type": "code",
   "execution_count": null,
   "id": "88fbe2df",
   "metadata": {},
   "outputs": [],
   "source": []
  },
  {
   "cell_type": "markdown",
   "id": "40092303",
   "metadata": {},
   "source": [
    "# Combine Multi-Quantile Redgression with Per-Subject Transform Estimation (grid --> multi-quantile)"
   ]
  },
  {
   "cell_type": "code",
   "execution_count": 89,
   "id": "ba230fb2",
   "metadata": {},
   "outputs": [],
   "source": [
    "# # quantile_list = [0.5]\n",
    "# # quantile_list = [0.9]\n",
    "# # quantile_list = [0.1, 0.9] # Use hidden layer with 30 neurons\n",
    "# # quantile_list = [0.05, 0.95]\n",
    "# # quantile_list = [0.25, 0.75]\n",
    "# # quantile_list = [0.1, 0.5, 0.9]\n",
    "# # quantile_list = [0.1, 0.3, 0.7, 0.9]\n",
    "# # quantile_list = [0.1, 0.2, 0.3, 0.4, 0.6, 0.7, 0.8, 0.9] # remove 0.5\n",
    "# quantile_list = [0.1, 0.2, 0.3, 0.4, 0.5, 0.6, 0.7, 0.8, 0.9] # Should use wider hidden layer (with many neurons) + L1 regularization\n",
    "# num_quantile = len(quantile_list)"
   ]
  },
  {
   "cell_type": "code",
   "execution_count": 90,
   "id": "26d0136c",
   "metadata": {},
   "outputs": [],
   "source": [
    "# Number of subjects\n",
    "num_subject = multiout_type"
   ]
  },
  {
   "cell_type": "code",
   "execution_count": 91,
   "id": "7d1cdc96",
   "metadata": {},
   "outputs": [
    {
     "name": "stdout",
     "output_type": "stream",
     "text": [
      "X.shape = (None, 1)\n",
      "gauss_grid.shape = (None, 5)\n",
      "batch_input_shape = [TensorShape([None, 9]), TensorShape([None, 1])]\n",
      "X.shape = (None, 9)\n",
      "SID.shape = (None, 1)\n"
     ]
    }
   ],
   "source": [
    "inputs = keras.layers.Input(shape=X_train.shape[1:])\n",
    "inputs_sid = keras.layers.Input(shape=(1,), dtype=tf.int32)\n",
    "#\n",
    "# z = inputs\n",
    "z = num2grid(5,x_min=-10, x_max=10, sigma=3.0)(inputs) # Convert to grid\n",
    "# z = keras.layers.Dense(30, activation=\"relu\")(z)\n",
    "# z = keras.layers.Dense(100, activation=\"relu\")(z)\n",
    "# z = keras.layers.Dropout(0.5)(z)\n",
    "z = keras.layers.Dense(100, activation=\"relu\", kernel_regularizer=tf.keras.regularizers.l1(0.01))(z)\n",
    "# z = keras.layers.Dense(100, activation=\"relu\", kernel_regularizer=tf.keras.regularizers.l1(1.0))(z)\n",
    "output = keras.layers.Dense(num_quantile)(z)\n",
    "# output_biased = SubjectBias(num_subject, bias_scale=10.0, mean_reg_rate=1.0, name=\"bias_est\")([output, inputs_sid])\n",
    "output_biased = SubjectLinearTransform1D(num_subject, bias_scale=10.0, weight_mean_reg_rate=5.0, bias_mean_reg_rate=1.0, name=\"bias_est\")([output, inputs_sid])\n",
    "# Setup models\n",
    "model = keras.Model(inputs=[inputs], outputs=[output]) # pure\n",
    "model_biased = keras.Model(inputs=[inputs, inputs_sid], outputs=[output_biased]) # biased, for training"
   ]
  },
  {
   "cell_type": "code",
   "execution_count": 92,
   "id": "0769d3b2",
   "metadata": {},
   "outputs": [
    {
     "name": "stderr",
     "output_type": "stream",
     "text": [
      "/home/benson516/GazeDemo/gaze_env/lib/python3.8/site-packages/tensorflow/python/keras/optimizer_v2/optimizer_v2.py:374: UserWarning: The `lr` argument is deprecated, use `learning_rate` instead.\n",
      "  warnings.warn(\n"
     ]
    }
   ],
   "source": [
    "# optimizer = keras.optimizers.SGD(lr=0.1, momentum=0.9)\n",
    "optimizer = keras.optimizers.Adam(lr=0.1)\n",
    "model_biased.compile(loss=pinballLoss_full_fn, optimizer=optimizer)\n",
    "# model.compile(loss=pinballLoss_full_fn, optimizer=optimizer) # No need to compile this if it's not going to be trained."
   ]
  },
  {
   "cell_type": "code",
   "execution_count": 93,
   "id": "9a37c998",
   "metadata": {
    "scrolled": true
   },
   "outputs": [
    {
     "name": "stdout",
     "output_type": "stream",
     "text": [
      "Epoch 1/100\n",
      "X.shape = (None, 1)\n",
      "gauss_grid.shape = (None, 5)\n",
      "X.shape = (None, 9)\n",
      "SID.shape = (None, 1)\n",
      "X.shape = (None, 1)\n",
      "gauss_grid.shape = (None, 5)\n",
      "X.shape = (None, 9)\n",
      "SID.shape = (None, 1)\n",
      "1/3 [=========>....................] - ETA: 1s - loss: 192.7985X.shape = (None, 1)\n",
      "gauss_grid.shape = (None, 5)\n",
      "X.shape = (None, 9)\n",
      "SID.shape = (None, 1)\n",
      "3/3 [==============================] - 1s 69ms/step - loss: 186.6803 - val_loss: 139.6673\n",
      "Epoch 2/100\n",
      "3/3 [==============================] - 0s 9ms/step - loss: 152.6778 - val_loss: 98.8349\n",
      "Epoch 3/100\n",
      "3/3 [==============================] - 0s 11ms/step - loss: 97.1993 - val_loss: 73.9656\n",
      "Epoch 4/100\n",
      "3/3 [==============================] - 0s 16ms/step - loss: 74.7017 - val_loss: 54.0502\n",
      "Epoch 5/100\n",
      "3/3 [==============================] - 0s 15ms/step - loss: 60.3320 - val_loss: 54.8583\n",
      "Epoch 6/100\n",
      "3/3 [==============================] - 0s 15ms/step - loss: 58.3473 - val_loss: 45.5521\n",
      "Epoch 7/100\n",
      "3/3 [==============================] - 0s 11ms/step - loss: 50.0776 - val_loss: 40.4970\n",
      "Epoch 8/100\n",
      "3/3 [==============================] - 0s 18ms/step - loss: 48.0192 - val_loss: 38.7201\n",
      "Epoch 9/100\n",
      "3/3 [==============================] - 0s 13ms/step - loss: 41.9855 - val_loss: 35.9354\n",
      "Epoch 10/100\n",
      "3/3 [==============================] - 0s 17ms/step - loss: 35.2668 - val_loss: 33.8336\n",
      "Epoch 11/100\n",
      "3/3 [==============================] - 0s 14ms/step - loss: 31.8280 - val_loss: 29.4023\n",
      "Epoch 12/100\n",
      "3/3 [==============================] - 0s 12ms/step - loss: 28.8611 - val_loss: 26.3412\n",
      "Epoch 13/100\n",
      "3/3 [==============================] - 0s 12ms/step - loss: 27.0386 - val_loss: 21.5890\n",
      "Epoch 14/100\n",
      "3/3 [==============================] - 0s 14ms/step - loss: 22.1416 - val_loss: 22.6017\n",
      "Epoch 15/100\n",
      "3/3 [==============================] - 0s 14ms/step - loss: 21.3856 - val_loss: 20.6521\n",
      "Epoch 16/100\n",
      "3/3 [==============================] - 0s 12ms/step - loss: 20.3093 - val_loss: 17.7971\n",
      "Epoch 17/100\n",
      "3/3 [==============================] - 0s 11ms/step - loss: 17.8249 - val_loss: 17.1748\n",
      "Epoch 18/100\n",
      "3/3 [==============================] - 0s 12ms/step - loss: 17.3371 - val_loss: 16.6396\n",
      "Epoch 19/100\n",
      "3/3 [==============================] - 0s 11ms/step - loss: 17.9072 - val_loss: 14.7642\n",
      "Epoch 20/100\n",
      "3/3 [==============================] - 0s 11ms/step - loss: 15.9369 - val_loss: 20.2723\n",
      "Epoch 21/100\n",
      "3/3 [==============================] - 0s 10ms/step - loss: 18.8443 - val_loss: 16.0928\n",
      "Epoch 22/100\n",
      "3/3 [==============================] - 0s 13ms/step - loss: 17.3233 - val_loss: 16.5056\n",
      "Epoch 23/100\n",
      "3/3 [==============================] - 0s 9ms/step - loss: 17.2981 - val_loss: 13.9252\n",
      "Epoch 24/100\n",
      "3/3 [==============================] - 0s 11ms/step - loss: 16.2218 - val_loss: 14.3930\n",
      "Epoch 25/100\n",
      "3/3 [==============================] - 0s 12ms/step - loss: 16.0300 - val_loss: 14.2950\n",
      "Epoch 26/100\n",
      "3/3 [==============================] - 0s 13ms/step - loss: 15.2132 - val_loss: 13.6022\n",
      "Epoch 27/100\n",
      "3/3 [==============================] - 0s 11ms/step - loss: 14.3715 - val_loss: 13.8291\n",
      "Epoch 28/100\n",
      "3/3 [==============================] - 0s 10ms/step - loss: 15.2066 - val_loss: 13.0860\n",
      "Epoch 29/100\n",
      "3/3 [==============================] - 0s 8ms/step - loss: 14.1247 - val_loss: 14.4548\n",
      "Epoch 30/100\n",
      "3/3 [==============================] - 0s 10ms/step - loss: 14.8253 - val_loss: 13.0548\n",
      "Epoch 31/100\n",
      "3/3 [==============================] - 0s 10ms/step - loss: 14.5906 - val_loss: 13.9929\n",
      "Epoch 32/100\n",
      "3/3 [==============================] - 0s 11ms/step - loss: 15.4272 - val_loss: 14.2952\n",
      "Epoch 33/100\n",
      "3/3 [==============================] - 0s 12ms/step - loss: 15.7167 - val_loss: 13.5424\n",
      "Epoch 34/100\n",
      "3/3 [==============================] - 0s 13ms/step - loss: 15.5181 - val_loss: 13.6767\n",
      "Epoch 35/100\n",
      "3/3 [==============================] - 0s 13ms/step - loss: 15.9415 - val_loss: 15.3239\n",
      "Epoch 36/100\n",
      "3/3 [==============================] - 0s 14ms/step - loss: 16.0715 - val_loss: 13.8711\n",
      "Epoch 37/100\n",
      "3/3 [==============================] - 0s 13ms/step - loss: 16.2432 - val_loss: 13.2601\n",
      "Epoch 38/100\n",
      "3/3 [==============================] - 0s 11ms/step - loss: 15.6701 - val_loss: 13.7417\n",
      "Epoch 39/100\n",
      "3/3 [==============================] - 0s 12ms/step - loss: 14.9367 - val_loss: 14.9046\n",
      "Epoch 40/100\n",
      "3/3 [==============================] - 0s 12ms/step - loss: 15.1655 - val_loss: 14.6073\n",
      "Epoch 41/100\n",
      "3/3 [==============================] - 0s 10ms/step - loss: 15.1362 - val_loss: 13.8477\n",
      "Epoch 42/100\n",
      "3/3 [==============================] - 0s 11ms/step - loss: 15.2626 - val_loss: 15.2833\n",
      "Epoch 43/100\n",
      "3/3 [==============================] - 0s 9ms/step - loss: 15.8356 - val_loss: 16.3048\n",
      "Epoch 44/100\n",
      "3/3 [==============================] - 0s 10ms/step - loss: 16.5323 - val_loss: 16.3897\n",
      "Epoch 45/100\n",
      "3/3 [==============================] - 0s 10ms/step - loss: 18.1323 - val_loss: 15.0935\n",
      "Epoch 46/100\n",
      "3/3 [==============================] - 0s 8ms/step - loss: 15.6471 - val_loss: 15.9041\n",
      "Epoch 47/100\n",
      "3/3 [==============================] - 0s 9ms/step - loss: 15.6404 - val_loss: 14.5939\n",
      "Epoch 48/100\n",
      "3/3 [==============================] - 0s 10ms/step - loss: 15.2527 - val_loss: 13.0346\n",
      "Epoch 49/100\n",
      "3/3 [==============================] - 0s 8ms/step - loss: 14.1281 - val_loss: 12.4800\n",
      "Epoch 50/100\n",
      "3/3 [==============================] - 0s 10ms/step - loss: 13.8468 - val_loss: 12.4316\n",
      "Epoch 51/100\n",
      "3/3 [==============================] - 0s 9ms/step - loss: 13.3755 - val_loss: 12.0781\n",
      "Epoch 52/100\n",
      "3/3 [==============================] - 0s 8ms/step - loss: 13.2791 - val_loss: 11.8293\n",
      "Epoch 53/100\n",
      "3/3 [==============================] - 0s 11ms/step - loss: 12.7533 - val_loss: 13.3887\n",
      "Epoch 54/100\n",
      "3/3 [==============================] - 0s 9ms/step - loss: 13.9783 - val_loss: 13.7780\n",
      "Epoch 55/100\n",
      "3/3 [==============================] - 0s 8ms/step - loss: 14.7720 - val_loss: 12.7571\n",
      "Epoch 56/100\n",
      "3/3 [==============================] - 0s 10ms/step - loss: 13.4521 - val_loss: 12.7270\n",
      "Epoch 57/100\n",
      "3/3 [==============================] - 0s 10ms/step - loss: 13.9917 - val_loss: 13.1802\n",
      "Epoch 58/100\n",
      "3/3 [==============================] - 0s 11ms/step - loss: 13.6423 - val_loss: 12.3879\n",
      "Epoch 59/100\n",
      "3/3 [==============================] - 0s 12ms/step - loss: 13.1329 - val_loss: 12.1922\n",
      "Epoch 60/100\n",
      "3/3 [==============================] - 0s 11ms/step - loss: 12.8640 - val_loss: 11.5120\n",
      "Epoch 61/100\n",
      "3/3 [==============================] - 0s 12ms/step - loss: 12.9349 - val_loss: 14.7822\n",
      "Epoch 62/100\n",
      "3/3 [==============================] - 0s 13ms/step - loss: 15.9203 - val_loss: 18.0809\n",
      "Epoch 63/100\n",
      "3/3 [==============================] - 0s 13ms/step - loss: 17.6812 - val_loss: 15.1535\n",
      "Epoch 64/100\n",
      "3/3 [==============================] - 0s 10ms/step - loss: 17.7396 - val_loss: 14.3853\n",
      "Epoch 65/100\n",
      "3/3 [==============================] - 0s 10ms/step - loss: 17.2861 - val_loss: 14.0652\n",
      "Epoch 66/100\n",
      "3/3 [==============================] - 0s 10ms/step - loss: 15.8668 - val_loss: 14.9416\n",
      "Epoch 67/100\n",
      "3/3 [==============================] - 0s 10ms/step - loss: 15.9251 - val_loss: 13.9951\n",
      "Epoch 68/100\n",
      "3/3 [==============================] - 0s 8ms/step - loss: 15.5374 - val_loss: 14.3134\n",
      "Epoch 69/100\n",
      "3/3 [==============================] - 0s 10ms/step - loss: 15.3730 - val_loss: 15.0148\n",
      "Epoch 70/100\n",
      "3/3 [==============================] - 0s 10ms/step - loss: 15.1900 - val_loss: 19.8922\n",
      "Epoch 71/100\n",
      "3/3 [==============================] - 0s 8ms/step - loss: 18.6716 - val_loss: 15.9773\n",
      "Epoch 72/100\n",
      "3/3 [==============================] - 0s 10ms/step - loss: 15.4776 - val_loss: 13.8256\n",
      "Epoch 73/100\n",
      "3/3 [==============================] - 0s 9ms/step - loss: 14.6738 - val_loss: 13.2338\n",
      "Epoch 74/100\n",
      "3/3 [==============================] - 0s 8ms/step - loss: 13.8559 - val_loss: 12.7292\n",
      "Epoch 75/100\n",
      "3/3 [==============================] - 0s 10ms/step - loss: 14.0917 - val_loss: 12.0155\n",
      "Epoch 76/100\n",
      "3/3 [==============================] - 0s 13ms/step - loss: 13.0886 - val_loss: 11.9167\n",
      "Epoch 77/100\n",
      "3/3 [==============================] - 0s 11ms/step - loss: 13.7082 - val_loss: 12.6039\n",
      "Epoch 78/100\n",
      "3/3 [==============================] - 0s 10ms/step - loss: 13.9162 - val_loss: 12.1337\n"
     ]
    },
    {
     "name": "stdout",
     "output_type": "stream",
     "text": [
      "Epoch 79/100\n",
      "3/3 [==============================] - 0s 11ms/step - loss: 13.3072 - val_loss: 12.4247\n",
      "Epoch 80/100\n",
      "3/3 [==============================] - 0s 12ms/step - loss: 13.2120 - val_loss: 12.6224\n",
      "Epoch 81/100\n",
      "3/3 [==============================] - 0s 14ms/step - loss: 13.7081 - val_loss: 13.6989\n",
      "Epoch 82/100\n",
      "3/3 [==============================] - 0s 13ms/step - loss: 14.7725 - val_loss: 14.3503\n",
      "Epoch 83/100\n",
      "3/3 [==============================] - 0s 13ms/step - loss: 15.2493 - val_loss: 16.8853\n",
      "Epoch 84/100\n",
      "3/3 [==============================] - 0s 12ms/step - loss: 18.7589 - val_loss: 15.3923\n",
      "Epoch 85/100\n",
      "3/3 [==============================] - 0s 10ms/step - loss: 17.3953 - val_loss: 14.4470\n",
      "Epoch 86/100\n",
      "3/3 [==============================] - 0s 9ms/step - loss: 16.7101 - val_loss: 14.5466\n",
      "Epoch 87/100\n",
      "3/3 [==============================] - 0s 10ms/step - loss: 15.9082 - val_loss: 13.1435\n",
      "Epoch 88/100\n",
      "3/3 [==============================] - 0s 10ms/step - loss: 14.6360 - val_loss: 12.3768\n",
      "Epoch 89/100\n",
      "3/3 [==============================] - 0s 8ms/step - loss: 13.2314 - val_loss: 13.0680\n",
      "Epoch 90/100\n",
      "3/3 [==============================] - 0s 10ms/step - loss: 14.3978 - val_loss: 12.1442\n",
      "Epoch 91/100\n",
      "3/3 [==============================] - 0s 9ms/step - loss: 13.3898 - val_loss: 11.8386\n",
      "Epoch 92/100\n",
      "3/3 [==============================] - 0s 8ms/step - loss: 13.5938 - val_loss: 12.2706\n",
      "Epoch 93/100\n",
      "3/3 [==============================] - 0s 10ms/step - loss: 13.5863 - val_loss: 11.2566\n",
      "Epoch 94/100\n",
      "3/3 [==============================] - 0s 10ms/step - loss: 12.2260 - val_loss: 13.3523\n",
      "Epoch 95/100\n",
      "3/3 [==============================] - 0s 11ms/step - loss: 14.0717 - val_loss: 12.0423\n",
      "Epoch 96/100\n",
      "3/3 [==============================] - 0s 11ms/step - loss: 12.7748 - val_loss: 12.3815\n",
      "Epoch 97/100\n",
      "3/3 [==============================] - 0s 13ms/step - loss: 14.0292 - val_loss: 14.2464\n",
      "Epoch 98/100\n",
      "3/3 [==============================] - 0s 14ms/step - loss: 14.2423 - val_loss: 15.7207\n",
      "Epoch 99/100\n",
      "3/3 [==============================] - 0s 12ms/step - loss: 15.9433 - val_loss: 16.7852\n",
      "Epoch 100/100\n",
      "3/3 [==============================] - 0s 11ms/step - loss: 18.0206 - val_loss: 16.8929\n"
     ]
    }
   ],
   "source": [
    "history = model_biased.fit([X_train, sid_train], y_train, epochs=100,\n",
    "                    validation_data=([X_valid, sid_valid], y_valid))"
   ]
  },
  {
   "cell_type": "code",
   "execution_count": 94,
   "id": "66d04b69",
   "metadata": {},
   "outputs": [
    {
     "name": "stdout",
     "output_type": "stream",
     "text": [
      "Saving figure grid_noBiasQuantile_training_curve\n"
     ]
    },
    {
     "data": {
      "image/png": "[encoded data removed]",
      "text/plain": [
       "<Figure size 576x360 with 1 Axes>"
      ]
     },
     "metadata": {
      "needs_background": "light"
     },
     "output_type": "display_data"
    }
   ],
   "source": [
    "import pandas as pd\n",
    "\n",
    "pd.DataFrame(history.history).plot(figsize=(8, 5))\n",
    "plt.grid(True)\n",
    "# plt.gca().set_ylim(0, 1)\n",
    "save_fig(\"grid_noBiasQuantile_training_curve\")\n",
    "plt.show()"
   ]
  },
  {
   "cell_type": "markdown",
   "id": "9e1f1c9b",
   "metadata": {},
   "source": [
    "### Draw the \"pure\" mean prediction curve averaged from all quantile predictions."
   ]
  },
  {
   "cell_type": "code",
   "execution_count": 95,
   "id": "2f62afb2",
   "metadata": {},
   "outputs": [
    {
     "name": "stdout",
     "output_type": "stream",
     "text": [
      "X.shape = (None, 1)\n",
      "gauss_grid.shape = (None, 5)\n",
      "Saving figure grid_noBiaseQuantile_prediction\n"
     ]
    },
    {
     "data": {
      "image/png": "[encoded data removed]",
      "text/plain": [
       "<Figure size 432x288 with 1 Axes>"
      ]
     },
     "metadata": {
      "needs_background": "light"
     },
     "output_type": "display_data"
    }
   ],
   "source": [
    "# plt.plot(X_train, y_train, \"b.\")\n",
    "draw_points(X_train, y_train, sid_train)\n",
    "draw_func((lambda X: np.average(model.predict(X), axis=-1) ), mark='r-', linewidth=2, label=\"Predictions\")\n",
    "draw_normal_func(func_dict)\n",
    "plt.xlabel(\"$x_1$\", fontsize=18)\n",
    "plt.ylabel(\"$y$\", rotation=0, fontsize=18)\n",
    "plt.legend(loc=\"upper left\", fontsize=14)\n",
    "# plt.axis([-3, 3, 0, 10])\n",
    "save_fig(\"grid_noBiaseQuantile_prediction\")\n",
    "plt.show()"
   ]
  },
  {
   "cell_type": "code",
   "execution_count": 96,
   "id": "4ffc0f23",
   "metadata": {},
   "outputs": [
    {
     "name": "stdout",
     "output_type": "stream",
     "text": [
      "y_func.shape = (100, 1)\n",
      "y_gt.shape = (100, 1)\n"
     ]
    },
    {
     "data": {
      "text/plain": [
       "2.5409041657273552"
      ]
     },
     "execution_count": 96,
     "metadata": {},
     "output_type": "execute_result"
    }
   ],
   "source": [
    "get_prediction_error((lambda X: np.average(model.predict(X), axis=-1) ), func_dict, name=\"grid-noBiaseQuantileR\")"
   ]
  },
  {
   "cell_type": "markdown",
   "id": "a213fbdb",
   "metadata": {},
   "source": [
    "### Draw all \"pure\" quantile prediction"
   ]
  },
  {
   "cell_type": "code",
   "execution_count": 97,
   "id": "ff824ca7",
   "metadata": {},
   "outputs": [
    {
     "name": "stdout",
     "output_type": "stream",
     "text": [
      "Saving figure grid_noBiaseQuantile_all_pure_quantiles\n"
     ]
    },
    {
     "data": {
      "image/png": "[encoded data removed]",
      "text/plain": [
       "<Figure size 432x288 with 1 Axes>"
      ]
     },
     "metadata": {
      "needs_background": "light"
     },
     "output_type": "display_data"
    }
   ],
   "source": [
    "# plt.plot(X_train, y_train, \"b.\")\n",
    "draw_points(X_train, y_train, sid_train)\n",
    "draw_func((lambda X: np.average(model.predict(X), axis=-1) ), mark='r-', linewidth=2, label=\"Predictions\")\n",
    "for _idx, _tau in enumerate(quantile_list):\n",
    "    draw_func((lambda X: model.predict(X)[:,_idx] ), mark='k--', linewidth=1, label=\"$y_{%d}$\" % (_tau*100))\n",
    "draw_normal_func(func_dict)\n",
    "plt.xlabel(\"$x_1$\", fontsize=18)\n",
    "plt.ylabel(\"$y$\", rotation=0, fontsize=18)\n",
    "plt.legend(loc=\"upper left\", fontsize=14)\n",
    "# plt.axis([-3, 3, 0, 10])\n",
    "save_fig(\"grid_noBiaseQuantile_all_pure_quantiles\")\n",
    "plt.show()"
   ]
  },
  {
   "cell_type": "markdown",
   "id": "11c7ec73",
   "metadata": {},
   "source": [
    "### Estimated Biases and Scales (according to SID)"
   ]
  },
  {
   "cell_type": "code",
   "execution_count": 98,
   "id": "9a79c04b",
   "metadata": {},
   "outputs": [
    {
     "name": "stdout",
     "output_type": "stream",
     "text": [
      "scaled_bias = \n",
      "[[-10.656209 -11.082598 -11.891967 -11.784631 -12.66503  -12.326939\n",
      "  -13.085478 -12.907722 -12.623769]\n",
      " [ 10.411162  10.691676  12.011177  11.953167  12.05059   12.630085\n",
      "   12.25663   12.677347  12.483923]]\n",
      "\n",
      "mean_scaled_bias = \n",
      "[-0.24504662 -0.3909216   0.11921024  0.16853619 -0.61443996  0.30314636\n",
      " -0.8288479  -0.23037529 -0.13984585]\n"
     ]
    }
   ],
   "source": [
    "scaled_bias = model_biased.get_layer(\"bias_est\").get_scaled_biases_np()\n",
    "mean_scaled_bias = np.sum(scaled_bias, axis=0)\n",
    "#\n",
    "print(\"scaled_bias = \\n%s\" % str(scaled_bias))\n",
    "print(\"\\nmean_scaled_bias = \\n%s\" % str(mean_scaled_bias))"
   ]
  },
  {
   "cell_type": "code",
   "execution_count": 99,
   "id": "ef5bb592",
   "metadata": {},
   "outputs": [
    {
     "name": "stdout",
     "output_type": "stream",
     "text": [
      "output_scales = \n",
      "[[1.1288626  1.1509472  1.1518645  1.208698   1.1850746  1.2000026\n",
      "  1.1288545  1.1005307  1.0794154 ]\n",
      " [0.8146131  0.82792234 0.861271   0.82744926 0.8308382  0.84333926\n",
      "  0.83139944 0.8491072  0.8936177 ]]\n",
      "\n",
      "mean_scales = \n",
      "[0.97173786 0.9894348  1.0065677  1.0180737  1.0079564  1.0216709\n",
      " 0.980127   0.97481894 0.9865166 ]\n"
     ]
    }
   ],
   "source": [
    "try:\n",
    "    output_scales = model_biased.get_layer(\"bias_est\").get_weights_np()\n",
    "    mean_scales = np.mean(output_scales, axis=0)\n",
    "    #\n",
    "    print(\"output_scales = \\n%s\" % str(output_scales))\n",
    "    print(\"\\nmean_scales = \\n%s\" % str(mean_scales))\n",
    "except:\n",
    "    pass"
   ]
  },
  {
   "cell_type": "markdown",
   "id": "c493d1c8",
   "metadata": {},
   "source": [
    "### Plotting of mean quantiles for each subject"
   ]
  },
  {
   "cell_type": "code",
   "execution_count": 100,
   "id": "3c2bd240",
   "metadata": {},
   "outputs": [
    {
     "name": "stdout",
     "output_type": "stream",
     "text": [
      "X.shape = (None, 1)\n",
      "gauss_grid.shape = (None, 5)\n",
      "X.shape = (None, 9)\n",
      "SID.shape = (None, 1)\n",
      "Saving figure grid_noBiaseQuantile_perSubjectCurve\n"
     ]
    },
    {
     "data": {
      "image/png": "[encoded data removed]",
      "text/plain": [
       "<Figure size 432x288 with 1 Axes>"
      ]
     },
     "metadata": {
      "needs_background": "light"
     },
     "output_type": "display_data"
    }
   ],
   "source": [
    "def predict_with_biase_sid(X, sid=1):\n",
    "    return np.average( model_biased.predict([X, tf.fill( (X.shape[0],1), sid)]), axis=1)\n",
    "\n",
    "draw_points(X_train, y_train, sid_train)\n",
    "#\n",
    "draw_func((lambda X: np.average(model.predict(X), axis=-1) ), mark='r-', linewidth=2, label=\"Predictions\")\n",
    "for _idx in range(num_subject):\n",
    "    _sid = _idx + 1\n",
    "    draw_func(lambda X: predict_with_biase_sid(X, _sid), mark='k--', linewidth=1, label=(\"sid=%d\" % _sid))\n",
    "#\n",
    "draw_normal_func(func_dict)\n",
    "plt.xlabel(\"$x_1$\", fontsize=18)\n",
    "plt.ylabel(\"$y$\", rotation=0, fontsize=18)\n",
    "plt.legend(loc=\"upper left\", fontsize=14)\n",
    "# plt.axis([-3, 3, 0, 10])\n",
    "save_fig(\"grid_noBiaseQuantile_perSubjectCurve\")\n",
    "plt.show()"
   ]
  },
  {
   "cell_type": "markdown",
   "id": "6f1b070e",
   "metadata": {},
   "source": [
    "# Train with GAN"
   ]
  },
  {
   "cell_type": "code",
   "execution_count": 101,
   "id": "00b87d5e",
   "metadata": {},
   "outputs": [],
   "source": [
    "# model = keras.models.Sequential([\n",
    "#     num2grid(5,x_min=-10, x_max=10, sigma=3.0, input_shape=X_train.shape[1:]),\n",
    "#     keras.layers.Dense(30, activation=\"relu\"),\n",
    "# #     keras.layers.Dense(100, activation=\"relu\", kernel_regularizer=tf.keras.regularizers.l1(0.01)),\n",
    "# #     keras.layers.Dense(30, activation=keras.layers.LeakyReLU(alpha=0.2) ),\n",
    "# #     keras.layers.Dense(30, activation=\"selu\"),\n",
    "# #     keras.layers.Dense(30, activation=\"relu\"),\n",
    "#     keras.layers.Dense(1)\n",
    "# ])"
   ]
  },
  {
   "cell_type": "code",
   "execution_count": 102,
   "id": "198862ab",
   "metadata": {},
   "outputs": [],
   "source": [
    "# '''\n",
    "#   x   ----generator----> (x,y) \n",
    "# (x,y) --discriminator--> Real/Fake\n",
    "# '''\n",
    "# x_size = 1\n",
    "# y_size = 1\n",
    "\n",
    "# # x --> (x,y)\n",
    "# inputs = keras.layers.Input(shape=(x_size,))\n",
    "# output = model(inputs)\n",
    "# output_cat = tf.concat([inputs, output], 1)\n",
    "# generator = keras.Model(inputs=[inputs], outputs=[output_cat])\n",
    "# # (x,y) --> Real/Fake\n",
    "# discriminator = keras.models.Sequential([\n",
    "#     keras.layers.Dense(30, activation=\"selu\", input_shape=((x_size+y_size),)),\n",
    "#     keras.layers.Dense(30, activation=\"selu\"),\n",
    "#     keras.layers.Dense(1, activation=\"sigmoid\")\n",
    "# ])\n",
    "# gan = keras.models.Sequential([generator, discriminator])"
   ]
  },
  {
   "cell_type": "code",
   "execution_count": 103,
   "id": "f9f64c02",
   "metadata": {},
   "outputs": [],
   "source": [
    "# # Compile the models\n",
    "# #---------------------------------#\n",
    "# optimizer = keras.optimizers.Adam(lr=0.1)\n",
    "# # Discriminator\n",
    "# # discriminator.compile(loss=\"binary_crossentropy\", optimizer=\"rmsprop\")\n",
    "# discriminator.compile(loss=\"binary_crossentropy\", optimizer=optimizer)\n",
    "# # GAN model\n",
    "# discriminator.trainable = False\n",
    "# # gan.compile(loss=\"binary_crossentropy\", optimizer=\"rmsprop\")\n",
    "# gan.compile(loss=\"binary_crossentropy\", optimizer=optimizer)"
   ]
  },
  {
   "cell_type": "code",
   "execution_count": 104,
   "id": "9bf9b4a2",
   "metadata": {},
   "outputs": [],
   "source": [
    "# # dataset\n",
    "# batch_size = 32\n",
    "# dataset = tf.data.Dataset.from_tensor_slices( tf.cast(tf.concat([X_train, y_train], axis=1), tf.float32) ).shuffle(1000)\n",
    "# dataset = dataset.batch(batch_size, drop_remainder=True).prefetch(1)"
   ]
  },
  {
   "cell_type": "code",
   "execution_count": 105,
   "id": "7b061d90",
   "metadata": {},
   "outputs": [],
   "source": [
    "# # Custom training loop\n",
    "# def train_gan(gan, dataset, batch_size, x_size, n_epochs=100):\n",
    "#     generator, discriminator = gan.layers\n",
    "#     for epoch in range(n_epochs):\n",
    "#         print(\"--- epoch #%d\" % epoch)\n",
    "#         for XY_batch in dataset:\n",
    "#             # phase 1 - training the discriminator\n",
    "#             noise = tf.random.normal(shape=[batch_size, x_size])\n",
    "#             generated_XY = generator(noise)\n",
    "#             X_fake_and_real = tf.concat([generated_XY, XY_batch], axis=0)\n",
    "#             y1 = tf.constant([[0.]] * batch_size + [[1.]] * batch_size)\n",
    "#             discriminator.trainable = True\n",
    "#             discriminator.train_on_batch(X_fake_and_real, y1)\n",
    "#             # phase 2 - training the generator\n",
    "#             noise = tf.random.normal(shape=[batch_size, x_size])\n",
    "#             y2 = tf.constant([[1.]] * batch_size)\n",
    "#             discriminator.trainable = False\n",
    "#             gan.train_on_batch(noise, y2)"
   ]
  },
  {
   "cell_type": "code",
   "execution_count": 106,
   "id": "79ac8ef1",
   "metadata": {},
   "outputs": [],
   "source": [
    "# train_gan(gan, dataset, batch_size, x_size, n_epochs=100)"
   ]
  },
  {
   "cell_type": "code",
   "execution_count": 107,
   "id": "7a4ef5e9",
   "metadata": {},
   "outputs": [],
   "source": [
    "# # plt.plot(X_train, y_train, \"b.\")\n",
    "# draw_points(X_train, y_train, sid_train)\n",
    "# draw_func((lambda X: np.average(model.predict(X), axis=-1) ), mark='r-', linewidth=2, label=\"Predictions\")\n",
    "# draw_normal_func(func_dict)\n",
    "# plt.xlabel(\"$x_1$\", fontsize=18)\n",
    "# plt.ylabel(\"$y$\", rotation=0, fontsize=18)\n",
    "# plt.legend(loc=\"upper left\", fontsize=14)\n",
    "# # plt.axis([-3, 3, 0, 10])\n",
    "# save_fig(\"GAN\")\n",
    "# plt.show()"
   ]
  },
  {
   "cell_type": "markdown",
   "id": "82ec4fc4",
   "metadata": {},
   "source": [
    "# Summary"
   ]
  },
  {
   "cell_type": "code",
   "execution_count": 108,
   "id": "2d764d70",
   "metadata": {},
   "outputs": [
    {
     "name": "stdout",
     "output_type": "stream",
     "text": [
      "num-num: 4.669053\n",
      "grid-num: 5.188920\n",
      "grid-rbc: 4.268317\n",
      "grid-quantileR: 3.168421\n",
      "grid-oneGaussian: 6.884503\n",
      "grid-noBiasNum: 2.531045\n",
      "grid-noBiaseQuantileR: 2.540904\n",
      "\n"
     ]
    }
   ],
   "source": [
    "results = print_all_prediction_error()"
   ]
  },
  {
   "cell_type": "code",
   "execution_count": 109,
   "id": "9f01e530",
   "metadata": {},
   "outputs": [
    {
     "name": "stdout",
     "output_type": "stream",
     "text": [
      "Saving all prediction errors to [./images/regression_test_2/prediction_errors.txt].\n"
     ]
    },
    {
     "data": {
      "text/plain": [
       "True"
      ]
     },
     "execution_count": 109,
     "metadata": {},
     "output_type": "execute_result"
    }
   ],
   "source": [
    "save_prediction_errors()"
   ]
  },
  {
   "cell_type": "code",
   "execution_count": null,
   "id": "0c3bdf42",
   "metadata": {},
   "outputs": [],
   "source": []
  },
  {
   "cell_type": "code",
   "execution_count": null,
   "id": "a5e6a55a",
   "metadata": {},
   "outputs": [],
   "source": []
  },
  {
   "cell_type": "code",
   "execution_count": null,
   "id": "1838a588",
   "metadata": {},
   "outputs": [],
   "source": []
  },
  {
   "cell_type": "code",
   "execution_count": null,
   "id": "2f94dffa",
   "metadata": {},
   "outputs": [],
   "source": []
  }
 ],
 "metadata": {
  "kernelspec": {
   "display_name": "Python 3 (ipykernel)",
   "language": "python",
   "name": "python3"
  },
  "language_info": {
   "codemirror_mode": {
    "name": "ipython",
    "version": 3
   },
   "file_extension": ".py",
   "mimetype": "text/x-python",
   "name": "python",
   "nbconvert_exporter": "python",
   "pygments_lexer": "ipython3",
   "version": "3.8.10"
  }
 },
 "nbformat": 4,
 "nbformat_minor": 5
}
