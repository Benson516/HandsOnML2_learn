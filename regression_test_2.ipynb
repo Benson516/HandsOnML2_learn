{
 "cells": [
  {
   "cell_type": "markdown",
   "id": "899fa113",
   "metadata": {},
   "source": [
    "# Regression with Different Output Format under Various Data Conditions\n",
    "\n",
    "In this experience, we test the following output format for regression task under several different data coditions.\n",
    "- Numerical output\n",
    "- Regression as classification (grid-out)\n",
    "\n",
    "The data coditions include:\n",
    "- Sparse (few data)\n",
    "- Grouped\n",
    "  - Biased (parallel data)\n",
    "  - Completely different mode, uncorrelated data (cross)\n",
    "  - Partially diversed (split)"
   ]
  },
  {
   "cell_type": "code",
   "execution_count": 1,
   "id": "625ce7c3",
   "metadata": {},
   "outputs": [],
   "source": [
    "import numpy as np\n",
    "import tensorflow as tf\n",
    "from tensorflow import keras\n",
    "import os\n",
    "\n",
    "# To plot pretty figures\n",
    "%matplotlib inline\n",
    "import matplotlib as mpl\n",
    "import matplotlib.pyplot as plt\n",
    "mpl.rc('axes', labelsize=14)\n",
    "mpl.rc('xtick', labelsize=12)\n",
    "mpl.rc('ytick', labelsize=12)"
   ]
  },
  {
   "cell_type": "code",
   "execution_count": 2,
   "id": "7ad564ad",
   "metadata": {},
   "outputs": [],
   "source": [
    "# Where to save the figures\n",
    "PROJECT_ROOT_DIR = \".\"\n",
    "CHAPTER_ID = \"regression_test_2\"\n",
    "IMAGES_PATH = os.path.join(PROJECT_ROOT_DIR, \"images\", CHAPTER_ID)\n",
    "os.makedirs(IMAGES_PATH, exist_ok=True)\n",
    "\n",
    "def save_fig(fig_id, tight_layout=True, fig_extension=\"png\", resolution=300):\n",
    "    path = os.path.join(IMAGES_PATH, fig_id + \".\" + fig_extension)\n",
    "    print(\"Saving figure\", fig_id)\n",
    "    if tight_layout:\n",
    "        plt.tight_layout()\n",
    "    plt.savefig(path, format=fig_extension, dpi=resolution)"
   ]
  },
  {
   "cell_type": "code",
   "execution_count": 3,
   "id": "94e8a077",
   "metadata": {},
   "outputs": [],
   "source": [
    "def draw_func(func_in, x_min=-5, x_max=5, mark='r--', linewidth=1, label='func'):\n",
    "    n_sample = 100\n",
    "    X_func = np.linspace(x_min, x_max, n_sample).reshape(n_sample, 1)\n",
    "    y_func = func_in(X_func)\n",
    "    plt.plot(X_func, y_func, mark, linewidth=linewidth, label=label)"
   ]
  },
  {
   "cell_type": "markdown",
   "id": "c27ffe35",
   "metadata": {},
   "source": [
    "Generate polynomial data"
   ]
  },
  {
   "cell_type": "code",
   "execution_count": 4,
   "id": "ce670ce4",
   "metadata": {},
   "outputs": [],
   "source": [
    "poly_a1 = 5.0\n",
    "# poly_a1 = -10.0 # 5.0\n",
    "#\n",
    "sin_a = 0.0\n",
    "# sin_a = 10.0\n",
    "sin_f = 0.1 # 0.2\n",
    "#\n",
    "def func_0(X): # Reference\n",
    "    return 0.5 * X**3 + 0.5 * X**2 + (poly_a1)*X + 2 + sin_a*np.sin(2.0*np.pi*sin_f*X)\n",
    "def func_1(X): # Variation 1: parellel\n",
    "    return 0.5 * X**3 + 0.5 * X**2 + (poly_a1)*X + 30 + sin_a*np.sin(2.0*np.pi*sin_f*X)\n",
    "def func_2(X): # Variation 2: cross\n",
    "    return -0.5 * X**3 + 0.5 * X**2 + (poly_a1)*X + 30 + sin_a*np.sin(2.0*np.pi*sin_f*X)\n",
    "def func_3(X): # Variation 3: slightly split\n",
    "    return 0.3 * X**3 + 1.0 * X**2 + (poly_a1)*X + 15 + sin_a*np.sin(2.0*np.pi*sin_f*X)\n",
    "def func_4(X): # Sine wave~\n",
    "    return 0.5 * X**3 + 0.5 * X**2 + (poly_a1)*X + 2 + 20.0*np.sin(2.0*np.pi*sin_f*X) # 50.0"
   ]
  },
  {
   "cell_type": "code",
   "execution_count": 5,
   "id": "9463bfff",
   "metadata": {},
   "outputs": [],
   "source": [
    "func_dict = dict()\n",
    "#-----------------#\n",
    "func_dict[\"f1\"] = func_0\n",
    "#-----------------#\n",
    "# func_dict[\"f2\"] = func_1\n",
    "# func_dict[\"f2\"] = func_2\n",
    "func_dict[\"f2\"] = func_3\n",
    "# func_dict[\"f2\"] = func_4\n",
    "#-----------------#\n",
    "func_dict[\"f3\"] = func_4\n",
    "#-----------------#\n",
    "\n",
    "# Note: func_dict[\"f_avg\"] depends on multiout_type and is calculated in each section of multiout_type"
   ]
  },
  {
   "cell_type": "code",
   "execution_count": 6,
   "id": "63437d0c",
   "metadata": {},
   "outputs": [
    {
     "name": "stdout",
     "output_type": "stream",
     "text": [
      "(m, m_train) = (100, 80)\n",
      "y_data_pure.shape = (100, 1)\n",
      "y_data.shape = (100, 1)\n"
     ]
    }
   ],
   "source": [
    "np.random.seed(42)\n",
    "m = 100 # 50 # 100 # 200\n",
    "m_train = m // 5 * 4\n",
    "print(\"(m, m_train) = (%d, %d)\" % (m, m_train))\n",
    "\n",
    "# Input\n",
    "is_gapped = True\n",
    "# is_gapped = False\n",
    "#\n",
    "if not is_gapped:\n",
    "    X_data = 10 * np.random.rand(m, 1) - 5 # Note: X is randomly sampled, so we don't need to shuffle the data again\n",
    "else:\n",
    "    X_data = np.concatenate( (np.linspace(-5.0, -2.0, m//2), np.linspace(2.0, 5.0, m-m//2)) )\n",
    "    X_data = X_data.reshape((m,1))\n",
    "    np.random.shuffle(X_data)\n",
    "\n",
    "# Output, multiout_type in {1, 2, 3}\n",
    "# multiout_type = 1      \n",
    "multiout_type = 2 \n",
    "# multiout_type = 3 \n",
    "#\n",
    "sid_data = np.ones((m,1), dtype=int) # subject id, default: 1\n",
    "if multiout_type == 2:\n",
    "    m_h = m // 2\n",
    "    X_data_1 = X_data[:m_h]\n",
    "    X_data_2 = X_data[m_h:]\n",
    "    sid_data[:m_h] = 1 # id:1\n",
    "    sid_data[m_h:] = 2 # id:2\n",
    "    y_data_pure_1 = func_dict[\"f1\"](X_data_1) \n",
    "    y_data_pure_2 = func_dict[\"f2\"](X_data_2) \n",
    "    y_data_pure = np.vstack([y_data_pure_1, y_data_pure_2])\n",
    "    print(\"y_data_pure.shape = %s\" % str(y_data_pure.shape))\n",
    "    # Average line\n",
    "    func_dict[\"f_avg\"] = ( lambda X: 0.5*func_dict[\"f1\"](X) + 0.5*func_dict[\"f2\"](X) )\n",
    "    #\n",
    "elif multiout_type == 3: # with \"avg\" line\n",
    "    m_t = m // 3\n",
    "    X_data_1 = X_data[:m_t]\n",
    "    X_data_2 = X_data[m_t:(2*m_t)]\n",
    "    X_data_3 = X_data[(2*m_t):]\n",
    "    sid_data[:m_t]        = 1 # id:1\n",
    "    sid_data[m_t:(2*m_t)] = 2 # id:2\n",
    "    sid_data[(2*m_t):]    = 3 # id:3\n",
    "    y_data_pure_1 = func_dict[\"f1\"](X_data_1) \n",
    "    y_data_pure_2 = func_dict[\"f2\"](X_data_2) \n",
    "    y_data_pure_3 = func_dict[\"f3\"](X_data_3) \n",
    "    y_data_pure = np.vstack([y_data_pure_1, y_data_pure_2, y_data_pure_3])\n",
    "    print(\"y_data_pure.shape = %s\" % str(y_data_pure.shape))\n",
    "    # Average line\n",
    "    func_dict[\"f_avg\"] = ( lambda X: (func_dict[\"f1\"](X) + func_dict[\"f2\"](X) + func_dict[\"f3\"](X))/3.0 )\n",
    "    #\n",
    "else: # multiout_type == 1\n",
    "    # Average line\n",
    "    func_dict[\"f_avg\"] = ( lambda X: 0.5*func_dict[\"f1\"](X) + 0.5*func_dict[\"f2\"](X) )\n",
    "    y_data_pure = func_dict[\"f_avg\"](X_data)\n",
    "\n",
    "    \n",
    "# Label (+noise)\n",
    "n_stddev = 2.0\n",
    "# n_stddev = 10.0\n",
    "y_data = y_data_pure + np.random.randn(m, 1) * n_stddev\n",
    "print(\"y_data.shape = %s\" % str(y_data.shape))\n",
    "# print(\"sid_data = %s\" % str(sid_data))"
   ]
  },
  {
   "cell_type": "code",
   "execution_count": 7,
   "id": "ef588fae",
   "metadata": {},
   "outputs": [],
   "source": [
    "# Method 1: simply slice\n",
    "# X_train = X_data[:m_train]\n",
    "# y_train = y_data[:m_train]\n",
    "# X_valid = X_data[m_train:]\n",
    "# y_valid = y_data[m_train:]\n",
    "\n",
    "# Method 2: shuffle\n",
    "from sklearn.model_selection import train_test_split\n",
    "# X_train, X_valid, y_train, y_valid = train_test_split(X_data, y_data, test_size=0.2, random_state=42)\n",
    "X_train, X_valid, y_train, y_valid, sid_train, sid_valid = train_test_split(X_data, y_data, sid_data, test_size=0.2, random_state=42)"
   ]
  },
  {
   "cell_type": "code",
   "execution_count": 8,
   "id": "3b5d2cfe",
   "metadata": {},
   "outputs": [
    {
     "name": "stdout",
     "output_type": "stream",
     "text": [
      "(80, 1)\n"
     ]
    }
   ],
   "source": [
    "print(X_train.shape)\n",
    "# print(\"sid_train = %s\" % str(sid_train))"
   ]
  },
  {
   "cell_type": "code",
   "execution_count": 9,
   "id": "9bd2136c",
   "metadata": {},
   "outputs": [],
   "source": [
    "def draw_normal_func(func_dict):\n",
    "    if multiout_type != 1:\n",
    "        draw_func(func_dict[\"f1\"], mark='c:', label=\"f1\")\n",
    "        draw_func(func_dict[\"f2\"], mark='r:', label=\"f2\")\n",
    "    if multiout_type == 3:\n",
    "        draw_func(func_dict[\"f3\"], mark='y:', label=\"f3\")\n",
    "    draw_func(func_dict[\"f_avg\"], mark='m--', label=\"f_avg\")"
   ]
  },
  {
   "cell_type": "code",
   "execution_count": 10,
   "id": "201f042e",
   "metadata": {},
   "outputs": [],
   "source": [
    "def draw_points(X, y, sid=None):\n",
    "    if sid is None:\n",
    "        plt.plot(X, y, \"b.\")\n",
    "    else:\n",
    "        plt.plot(X[sid==1], y[sid==1], \"b.\")\n",
    "        plt.plot(X[sid==2], y[sid==2], \"r.\")\n",
    "        plt.plot(X[sid==3], y[sid==3], \"y.\")"
   ]
  },
  {
   "cell_type": "code",
   "execution_count": 11,
   "id": "693af3b7",
   "metadata": {},
   "outputs": [
    {
     "name": "stdout",
     "output_type": "stream",
     "text": [
      "Saving figure training_data\n"
     ]
    },
    {
     "data": {
      "image/png": "[encoded data removed]",
      "text/plain": [
       "<Figure size 432x288 with 1 Axes>"
      ]
     },
     "metadata": {
      "needs_background": "light"
     },
     "output_type": "display_data"
    }
   ],
   "source": [
    "# plt.plot(X_train, y_train, \"b.\")\n",
    "# plt.plot(X_train[sid_train==1], y_train[sid_train==1], \"b.\")\n",
    "# plt.plot(X_train[sid_train==2], y_train[sid_train==2], \"r.\")\n",
    "draw_points(X_train, y_train, sid_train)\n",
    "\n",
    "draw_normal_func(func_dict)\n",
    "plt.xlabel(\"$x_1$\", fontsize=18)\n",
    "plt.ylabel(\"$y$\", rotation=0, fontsize=18)\n",
    "plt.legend(loc=\"upper left\", fontsize=14)\n",
    "# plt.axis([-3, 3, 0, 10])\n",
    "save_fig(\"training_data\")\n",
    "plt.show()"
   ]
  },
  {
   "cell_type": "code",
   "execution_count": 12,
   "id": "a6853ff1",
   "metadata": {},
   "outputs": [],
   "source": [
    "prediction_error_dict = dict()\n",
    "\n",
    "def get_prediction_error(func_in, func_dict, name=\"\", x_min=-5, x_max=5, prediction_error_dict=prediction_error_dict):\n",
    "    n_sample = 100\n",
    "    X_func = np.linspace(x_min, x_max, n_sample).reshape(n_sample, 1)\n",
    "    y_func = func_in(X_func).reshape((n_sample,1))\n",
    "    y_gt = func_dict[\"f_avg\"](X_func).reshape((n_sample,1))\n",
    "    print(\"y_func.shape = %s\" % str(y_func.shape))\n",
    "    print(\"y_gt.shape = %s\" % str(y_gt.shape))\n",
    "#     total_error = np.sqrt(np.square(y_func - y_gt).mean())\n",
    "    total_error = np.abs(y_func - y_gt).mean()\n",
    "    prediction_error_dict[name] = total_error\n",
    "    return total_error\n",
    "\n",
    "def print_all_prediction_error(is_logging_to_screen=True, prediction_error_dict=prediction_error_dict):\n",
    "    _s = \"\"\n",
    "    for _n in prediction_error_dict:\n",
    "        _s += (\"%s: %f\" % (_n, prediction_error_dict[_n])) + \"\\n\"\n",
    "    if is_logging_to_screen:\n",
    "        print(_s)\n",
    "    return _s\n",
    "        \n",
    "def save_prediction_errors(is_logging_to_screen=False, prediction_error_dict=prediction_error_dict):\n",
    "    path = os.path.join(IMAGES_PATH, \"prediction_errors.txt\")\n",
    "    print(\"Saving all prediction errors to [%s].\" % path)\n",
    "    _s = print_all_prediction_error(is_logging_to_screen=is_logging_to_screen, prediction_error_dict=prediction_error_dict)\n",
    "    with open(path, \"w\") as _f:\n",
    "        _f.write(_s)\n",
    "    return True"
   ]
  },
  {
   "cell_type": "markdown",
   "id": "053ecc57",
   "metadata": {},
   "source": [
    "# Simple FCs (number --> number)"
   ]
  },
  {
   "cell_type": "markdown",
   "id": "c66eb67b",
   "metadata": {},
   "source": [
    "Build the regression model"
   ]
  },
  {
   "cell_type": "code",
   "execution_count": 13,
   "id": "9449fc0b",
   "metadata": {},
   "outputs": [
    {
     "name": "stderr",
     "output_type": "stream",
     "text": [
      "C:\\Users\\benso\\anaconda3\\envs\\ml\\lib\\site-packages\\keras\\optimizer_v2\\gradient_descent.py:102: UserWarning: The `lr` argument is deprecated, use `learning_rate` instead.\n",
      "  super(SGD, self).__init__(name, **kwargs)\n"
     ]
    }
   ],
   "source": [
    "model = keras.models.Sequential([\n",
    "    keras.layers.Dense(30, activation=\"relu\", input_shape=X_train.shape[1:]),\n",
    "    keras.layers.Dense(30, activation=\"relu\"),\n",
    "    keras.layers.Dense(1)\n",
    "])\n",
    "\n",
    "optimizer = keras.optimizers.SGD(lr=0.0001, momentum=0.9)\n",
    "model.compile(loss=\"mean_squared_error\", optimizer=optimizer)\n",
    "# optimizer = keras.optimizers.Adam(lr=0.01)\n",
    "# model.compile(loss=\"mean_absolute_error\", optimizer=optimizer)"
   ]
  },
  {
   "cell_type": "code",
   "execution_count": 14,
   "id": "92afd68a",
   "metadata": {
    "scrolled": true
   },
   "outputs": [
    {
     "name": "stdout",
     "output_type": "stream",
     "text": [
      "Epoch 1/100\n",
      "3/3 [==============================] - 1s 84ms/step - loss: 2495.6360 - val_loss: 1716.0648\n",
      "Epoch 2/100\n",
      "3/3 [==============================] - 0s 22ms/step - loss: 2452.9751 - val_loss: 1667.4899\n",
      "Epoch 3/100\n",
      "3/3 [==============================] - 0s 22ms/step - loss: 2375.7185 - val_loss: 1595.0396\n",
      "Epoch 4/100\n",
      "3/3 [==============================] - 0s 22ms/step - loss: 2241.1594 - val_loss: 1440.5729\n",
      "Epoch 5/100\n",
      "3/3 [==============================] - 0s 30ms/step - loss: 1926.3035 - val_loss: 1072.6134\n",
      "Epoch 6/100\n",
      "3/3 [==============================] - 0s 25ms/step - loss: 1148.5139 - val_loss: 489.6846\n",
      "Epoch 7/100\n",
      "3/3 [==============================] - 0s 31ms/step - loss: 454.1812 - val_loss: 798.6165\n",
      "Epoch 8/100\n",
      "3/3 [==============================] - 0s 19ms/step - loss: 819.3635 - val_loss: 298.1615\n",
      "Epoch 9/100\n",
      "3/3 [==============================] - 0s 26ms/step - loss: 294.1676 - val_loss: 300.9859\n",
      "Epoch 10/100\n",
      "3/3 [==============================] - 0s 31ms/step - loss: 446.7089 - val_loss: 260.6189\n",
      "Epoch 11/100\n",
      "3/3 [==============================] - 0s 35ms/step - loss: 322.8166 - val_loss: 187.9129\n",
      "Epoch 12/100\n",
      "3/3 [==============================] - 0s 23ms/step - loss: 275.2305 - val_loss: 262.6246\n",
      "Epoch 13/100\n",
      "3/3 [==============================] - 0s 19ms/step - loss: 304.5819 - val_loss: 174.7402\n",
      "Epoch 14/100\n",
      "3/3 [==============================] - 0s 35ms/step - loss: 215.5602 - val_loss: 192.2890\n",
      "Epoch 15/100\n",
      "3/3 [==============================] - 0s 21ms/step - loss: 253.8660 - val_loss: 194.8760\n",
      "Epoch 16/100\n",
      "3/3 [==============================] - 0s 21ms/step - loss: 222.4477 - val_loss: 220.1637\n",
      "Epoch 17/100\n",
      "3/3 [==============================] - 0s 18ms/step - loss: 237.4701 - val_loss: 216.6170\n",
      "Epoch 18/100\n",
      "3/3 [==============================] - 0s 21ms/step - loss: 220.6496 - val_loss: 191.3124\n",
      "Epoch 19/100\n",
      "3/3 [==============================] - 0s 13ms/step - loss: 202.4755 - val_loss: 178.6610\n",
      "Epoch 20/100\n",
      "3/3 [==============================] - 0s 19ms/step - loss: 210.9515 - val_loss: 167.7986\n",
      "Epoch 21/100\n",
      "3/3 [==============================] - 0s 22ms/step - loss: 199.7990 - val_loss: 170.8527\n",
      "Epoch 22/100\n",
      "3/3 [==============================] - 0s 13ms/step - loss: 199.7205 - val_loss: 170.8015\n",
      "Epoch 23/100\n",
      "3/3 [==============================] - 0s 20ms/step - loss: 194.9596 - val_loss: 171.2304\n",
      "Epoch 24/100\n",
      "3/3 [==============================] - 0s 19ms/step - loss: 196.6031 - val_loss: 174.7310\n",
      "Epoch 25/100\n",
      "3/3 [==============================] - 0s 22ms/step - loss: 196.6834 - val_loss: 173.7493\n",
      "Epoch 26/100\n",
      "3/3 [==============================] - 0s 17ms/step - loss: 191.7026 - val_loss: 174.1342\n",
      "Epoch 27/100\n",
      "3/3 [==============================] - 0s 20ms/step - loss: 195.4660 - val_loss: 173.0765\n",
      "Epoch 28/100\n",
      "3/3 [==============================] - 0s 22ms/step - loss: 192.6710 - val_loss: 170.0025\n",
      "Epoch 29/100\n",
      "3/3 [==============================] - 0s 13ms/step - loss: 191.8488 - val_loss: 170.0266\n",
      "Epoch 30/100\n",
      "3/3 [==============================] - 0s 23ms/step - loss: 192.7350 - val_loss: 167.9405\n",
      "Epoch 31/100\n",
      "3/3 [==============================] - 0s 15ms/step - loss: 188.9862 - val_loss: 171.2871\n",
      "Epoch 32/100\n",
      "3/3 [==============================] - 0s 17ms/step - loss: 188.6594 - val_loss: 173.1476\n",
      "Epoch 33/100\n",
      "3/3 [==============================] - 0s 27ms/step - loss: 189.0229 - val_loss: 171.3200\n",
      "Epoch 34/100\n",
      "3/3 [==============================] - 0s 23ms/step - loss: 187.7116 - val_loss: 168.9372\n",
      "Epoch 35/100\n",
      "3/3 [==============================] - 0s 17ms/step - loss: 186.4205 - val_loss: 170.3587\n",
      "Epoch 36/100\n",
      "3/3 [==============================] - 0s 17ms/step - loss: 186.9706 - val_loss: 172.3686\n",
      "Epoch 37/100\n",
      "3/3 [==============================] - 0s 22ms/step - loss: 186.0682 - val_loss: 175.0204\n",
      "Epoch 38/100\n",
      "3/3 [==============================] - 0s 18ms/step - loss: 187.4177 - val_loss: 172.0574\n",
      "Epoch 39/100\n",
      "3/3 [==============================] - 0s 17ms/step - loss: 185.4305 - val_loss: 173.6404\n",
      "Epoch 40/100\n",
      "3/3 [==============================] - 0s 22ms/step - loss: 186.7973 - val_loss: 168.6858\n",
      "Epoch 41/100\n",
      "3/3 [==============================] - 0s 13ms/step - loss: 182.1371 - val_loss: 162.9410\n",
      "Epoch 42/100\n",
      "3/3 [==============================] - 0s 21ms/step - loss: 183.4061 - val_loss: 160.8383\n",
      "Epoch 43/100\n",
      "3/3 [==============================] - 0s 20ms/step - loss: 184.3655 - val_loss: 161.4926\n",
      "Epoch 44/100\n",
      "3/3 [==============================] - 0s 17ms/step - loss: 182.2944 - val_loss: 162.6824\n",
      "Epoch 45/100\n",
      "3/3 [==============================] - 0s 19ms/step - loss: 181.2832 - val_loss: 162.9434\n",
      "Epoch 46/100\n",
      "3/3 [==============================] - 0s 19ms/step - loss: 180.3415 - val_loss: 163.6361\n",
      "Epoch 47/100\n",
      "3/3 [==============================] - 0s 22ms/step - loss: 178.9987 - val_loss: 164.7838\n",
      "Epoch 48/100\n",
      "3/3 [==============================] - 0s 13ms/step - loss: 180.0470 - val_loss: 168.3098\n",
      "Epoch 49/100\n",
      "3/3 [==============================] - 0s 20ms/step - loss: 179.8821 - val_loss: 169.5112\n",
      "Epoch 50/100\n",
      "3/3 [==============================] - 0s 21ms/step - loss: 179.8876 - val_loss: 170.0297\n",
      "Epoch 51/100\n",
      "3/3 [==============================] - 0s 17ms/step - loss: 178.3020 - val_loss: 161.4195\n",
      "Epoch 52/100\n",
      "3/3 [==============================] - 0s 21ms/step - loss: 178.0686 - val_loss: 156.8896\n",
      "Epoch 53/100\n",
      "3/3 [==============================] - 0s 17ms/step - loss: 178.7863 - val_loss: 156.8892\n",
      "Epoch 54/100\n",
      "3/3 [==============================] - 0s 18ms/step - loss: 176.8903 - val_loss: 160.9178\n",
      "Epoch 55/100\n",
      "3/3 [==============================] - 0s 19ms/step - loss: 176.4046 - val_loss: 163.4176\n",
      "Epoch 56/100\n",
      "3/3 [==============================] - 0s 17ms/step - loss: 175.6155 - val_loss: 161.3638\n",
      "Epoch 57/100\n",
      "3/3 [==============================] - 0s 17ms/step - loss: 174.0443 - val_loss: 159.0457\n",
      "Epoch 58/100\n",
      "3/3 [==============================] - 0s 18ms/step - loss: 176.2947 - val_loss: 159.5155\n",
      "Epoch 59/100\n",
      "3/3 [==============================] - 0s 23ms/step - loss: 175.8195 - val_loss: 161.6937\n",
      "Epoch 60/100\n",
      "3/3 [==============================] - 0s 13ms/step - loss: 172.9891 - val_loss: 164.6090\n",
      "Epoch 61/100\n",
      "3/3 [==============================] - 0s 23ms/step - loss: 173.2495 - val_loss: 164.5175\n",
      "Epoch 62/100\n",
      "3/3 [==============================] - 0s 14ms/step - loss: 173.4657 - val_loss: 159.2219\n",
      "Epoch 63/100\n",
      "3/3 [==============================] - 0s 22ms/step - loss: 173.5722 - val_loss: 157.3486\n",
      "Epoch 64/100\n",
      "3/3 [==============================] - 0s 13ms/step - loss: 171.1117 - val_loss: 156.7401\n",
      "Epoch 65/100\n",
      "3/3 [==============================] - 0s 22ms/step - loss: 171.3763 - val_loss: 160.0523\n",
      "Epoch 66/100\n",
      "3/3 [==============================] - 0s 21ms/step - loss: 171.3927 - val_loss: 161.9889\n",
      "Epoch 67/100\n",
      "3/3 [==============================] - 0s 20ms/step - loss: 169.6666 - val_loss: 162.0887\n",
      "Epoch 68/100\n",
      "3/3 [==============================] - 0s 19ms/step - loss: 169.6999 - val_loss: 161.5055\n",
      "Epoch 69/100\n",
      "3/3 [==============================] - 0s 19ms/step - loss: 169.3639 - val_loss: 158.1849\n",
      "Epoch 70/100\n",
      "3/3 [==============================] - 0s 18ms/step - loss: 169.5708 - val_loss: 152.3775\n",
      "Epoch 71/100\n",
      "3/3 [==============================] - 0s 20ms/step - loss: 170.0053 - val_loss: 150.9896\n",
      "Epoch 72/100\n",
      "3/3 [==============================] - 0s 23ms/step - loss: 169.0683 - val_loss: 155.7493\n",
      "Epoch 73/100\n",
      "3/3 [==============================] - 0s 18ms/step - loss: 167.6598 - val_loss: 156.2503\n",
      "Epoch 74/100\n",
      "3/3 [==============================] - 0s 17ms/step - loss: 169.3303 - val_loss: 155.3891\n",
      "Epoch 75/100\n",
      "3/3 [==============================] - 0s 18ms/step - loss: 166.1929 - val_loss: 158.2329\n",
      "Epoch 76/100\n",
      "3/3 [==============================] - 0s 22ms/step - loss: 166.2646 - val_loss: 161.1799\n",
      "Epoch 77/100\n",
      "3/3 [==============================] - 0s 18ms/step - loss: 167.8979 - val_loss: 160.0332\n",
      "Epoch 78/100\n",
      "3/3 [==============================] - 0s 17ms/step - loss: 165.5278 - val_loss: 159.4388\n",
      "Epoch 79/100\n",
      "3/3 [==============================] - 0s 22ms/step - loss: 166.4854 - val_loss: 158.7545\n",
      "Epoch 80/100\n"
     ]
    },
    {
     "name": "stdout",
     "output_type": "stream",
     "text": [
      "3/3 [==============================] - 0s 18ms/step - loss: 167.7381 - val_loss: 154.9271\n",
      "Epoch 81/100\n",
      "3/3 [==============================] - 0s 18ms/step - loss: 164.5495 - val_loss: 154.9572\n",
      "Epoch 82/100\n",
      "3/3 [==============================] - 0s 21ms/step - loss: 164.5293 - val_loss: 151.6355\n",
      "Epoch 83/100\n",
      "3/3 [==============================] - 0s 18ms/step - loss: 166.5475 - val_loss: 153.7830\n",
      "Epoch 84/100\n",
      "3/3 [==============================] - 0s 16ms/step - loss: 163.8148 - val_loss: 147.2021\n",
      "Epoch 85/100\n",
      "3/3 [==============================] - 0s 21ms/step - loss: 163.1193 - val_loss: 144.1978\n",
      "Epoch 86/100\n",
      "3/3 [==============================] - 0s 17ms/step - loss: 168.0382 - val_loss: 144.1334\n",
      "Epoch 87/100\n",
      "3/3 [==============================] - 0s 19ms/step - loss: 165.6844 - val_loss: 151.0397\n",
      "Epoch 88/100\n",
      "3/3 [==============================] - 0s 23ms/step - loss: 163.3436 - val_loss: 153.0219\n",
      "Epoch 89/100\n",
      "3/3 [==============================] - 0s 18ms/step - loss: 163.4817 - val_loss: 147.7600\n",
      "Epoch 90/100\n",
      "3/3 [==============================] - 0s 17ms/step - loss: 162.3106 - val_loss: 144.0873\n",
      "Epoch 91/100\n",
      "3/3 [==============================] - 0s 21ms/step - loss: 162.0098 - val_loss: 144.4229\n",
      "Epoch 92/100\n",
      "3/3 [==============================] - 0s 21ms/step - loss: 161.2108 - val_loss: 147.4508\n",
      "Epoch 93/100\n",
      "3/3 [==============================] - 0s 16ms/step - loss: 161.2499 - val_loss: 151.6353\n",
      "Epoch 94/100\n",
      "3/3 [==============================] - 0s 17ms/step - loss: 160.4140 - val_loss: 150.2744\n",
      "Epoch 95/100\n",
      "3/3 [==============================] - 0s 23ms/step - loss: 161.2303 - val_loss: 147.0915\n",
      "Epoch 96/100\n",
      "3/3 [==============================] - 0s 20ms/step - loss: 159.1502 - val_loss: 141.8825\n",
      "Epoch 97/100\n",
      "3/3 [==============================] - 0s 14ms/step - loss: 163.7081 - val_loss: 137.8923\n",
      "Epoch 98/100\n",
      "3/3 [==============================] - 0s 17ms/step - loss: 162.4288 - val_loss: 141.4393\n",
      "Epoch 99/100\n",
      "3/3 [==============================] - 0s 19ms/step - loss: 159.9332 - val_loss: 143.7899\n",
      "Epoch 100/100\n",
      "3/3 [==============================] - 0s 22ms/step - loss: 158.5929 - val_loss: 144.5126\n"
     ]
    }
   ],
   "source": [
    "history = model.fit(X_train, y_train, epochs=100,\n",
    "                    validation_data=(X_valid, y_valid))"
   ]
  },
  {
   "cell_type": "markdown",
   "id": "17d6e37a",
   "metadata": {},
   "source": [
    "Plot the result"
   ]
  },
  {
   "cell_type": "code",
   "execution_count": 15,
   "id": "3b066f5c",
   "metadata": {},
   "outputs": [
    {
     "name": "stdout",
     "output_type": "stream",
     "text": [
      "Saving figure num_num_training_curve\n"
     ]
    },
    {
     "data": {
      "image/png": "[encoded data removed]",
      "text/plain": [
       "<Figure size 576x360 with 1 Axes>"
      ]
     },
     "metadata": {
      "needs_background": "light"
     },
     "output_type": "display_data"
    }
   ],
   "source": [
    "import pandas as pd\n",
    "\n",
    "pd.DataFrame(history.history).plot(figsize=(8, 5))\n",
    "plt.grid(True)\n",
    "# plt.gca().set_ylim(0, 1)\n",
    "save_fig(\"num_num_training_curve\")\n",
    "plt.show()"
   ]
  },
  {
   "cell_type": "code",
   "execution_count": 16,
   "id": "03f9bb54",
   "metadata": {},
   "outputs": [
    {
     "name": "stdout",
     "output_type": "stream",
     "text": [
      "Saving figure num_num_prediction\n"
     ]
    },
    {
     "data": {
      "image/png": "[encoded data removed]",
      "text/plain": [
       "<Figure size 432x288 with 1 Axes>"
      ]
     },
     "metadata": {
      "needs_background": "light"
     },
     "output_type": "display_data"
    }
   ],
   "source": [
    "# X_new = np.linspace(-5, 5, 100).reshape(100, 1)\n",
    "# y_new = model.predict(X_new)\n",
    "#\n",
    "# plt.plot(X_train, y_train, \"b.\")\n",
    "draw_points(X_train, y_train, sid_train)\n",
    "# plt.plot(X_new, y_new, \"r-\", linewidth=2, label=\"Predictions\")\n",
    "draw_func(model.predict, mark='r-', linewidth=2, label=\"Predictions\")\n",
    "draw_normal_func(func_dict)\n",
    "plt.xlabel(\"$x_1$\", fontsize=18)\n",
    "plt.ylabel(\"$y$\", rotation=0, fontsize=18)\n",
    "plt.legend(loc=\"upper left\", fontsize=14)\n",
    "# plt.axis([-3, 3, 0, 10])\n",
    "save_fig(\"num_num_prediction\")\n",
    "plt.show()"
   ]
  },
  {
   "cell_type": "code",
   "execution_count": 17,
   "id": "bc06d931",
   "metadata": {},
   "outputs": [
    {
     "name": "stdout",
     "output_type": "stream",
     "text": [
      "y_func.shape = (100, 1)\n",
      "y_gt.shape = (100, 1)\n"
     ]
    },
    {
     "data": {
      "text/plain": [
       "6.0103826830352975"
      ]
     },
     "execution_count": 17,
     "metadata": {},
     "output_type": "execute_result"
    }
   ],
   "source": [
    "get_prediction_error(model.predict, func_dict, name=\"num-num\")"
   ]
  },
  {
   "cell_type": "markdown",
   "id": "58da8768",
   "metadata": {},
   "source": [
    "# Simulated CNN Feature Map (1-D grids, grid --> number)"
   ]
  },
  {
   "cell_type": "code",
   "execution_count": 18,
   "id": "287b5e4c",
   "metadata": {},
   "outputs": [],
   "source": [
    "class num2grid(keras.layers.Layer):\n",
    "    def __init__(self, units, x_min=-10, x_max=10, sigma=1.0, activation=None, **kwargs):\n",
    "        super().__init__(**kwargs)\n",
    "        self.units = units\n",
    "        self.x_min = x_min\n",
    "        self.x_max = x_max\n",
    "        self.sigma = sigma\n",
    "        self.sigma2 = self.sigma**2\n",
    "        self.activation = keras.activations.get(activation)\n",
    "        \n",
    "    def build(self, batch_input_shape):\n",
    "        #\n",
    "        self.x_grid = np.linspace(self.x_min, self.x_max, self.units, endpoint=True)\n",
    "#         print(\"self.x_grid.shape = %s\" % str(self.x_grid.shape))\n",
    "        #\n",
    "        super().build(batch_input_shape) # must be at the end\n",
    "        \n",
    "    def call(self, X):\n",
    "        '''\n",
    "        Input shape:  (batch, X_chanel)\n",
    "        Output shape: (batch, grid_unit) \n",
    "        \n",
    "        self.x_grid shape: (grid_unit,)\n",
    "        '''\n",
    "        gauss_grid = tf.exp( -(self.x_grid - X)**2 / (2.0*self.sigma2) )\n",
    "        print(\"X.shape = %s\" % str(X.shape))\n",
    "        print(\"gauss_grid.shape = %s\" % str(gauss_grid.shape))\n",
    "        return self.activation(gauss_grid)\n",
    "    \n",
    "    def compute_output_shape(self, batch_input_shape):\n",
    "        return tf.TensorShape(batch_input_shape.as_list()[:-1] + [self.units])\n",
    "    \n",
    "    def get_config(self):\n",
    "        base_config = super().get_config()\n",
    "        return {**base_config, \n",
    "                \"units\": self.units,\n",
    "                \"x_min\": self.x_min,\n",
    "                \"x_max\": self.x_max,\n",
    "                \"sigma\": self.sigma,\n",
    "                \"activation\": keras.activations.serialize(self.activation)}"
   ]
  },
  {
   "cell_type": "code",
   "execution_count": 19,
   "id": "f463c12a",
   "metadata": {},
   "outputs": [
    {
     "name": "stdout",
     "output_type": "stream",
     "text": [
      "X.shape = (None, 1)\n",
      "gauss_grid.shape = (None, 5)\n"
     ]
    },
    {
     "name": "stderr",
     "output_type": "stream",
     "text": [
      "C:\\Users\\benso\\anaconda3\\envs\\ml\\lib\\site-packages\\keras\\optimizer_v2\\adam.py:105: UserWarning: The `lr` argument is deprecated, use `learning_rate` instead.\n",
      "  super(Adam, self).__init__(name, **kwargs)\n"
     ]
    }
   ],
   "source": [
    "model = keras.models.Sequential([\n",
    "    num2grid(5,x_min=-10, x_max=10, sigma=3.0, input_shape=X_train.shape[1:]),\n",
    "    keras.layers.Dense(30, activation=\"relu\"),\n",
    "#     keras.layers.Dense(100, activation=\"relu\", kernel_regularizer=tf.keras.regularizers.l1(0.01)),\n",
    "#     keras.layers.Dense(30, activation=keras.layers.LeakyReLU(alpha=0.2) ),\n",
    "#     keras.layers.Dense(30, activation=\"selu\"),\n",
    "#     keras.layers.Dense(30, activation=\"relu\"),\n",
    "    keras.layers.Dense(1)\n",
    "])\n",
    "\n",
    "# optimizer = keras.optimizers.SGD(lr=0.001, momentum=0.9)\n",
    "# model.compile(loss=\"mean_squared_error\", optimizer=optimizer)\n",
    "optimizer = keras.optimizers.Adam(lr=0.1)\n",
    "model.compile(loss=\"mean_absolute_error\", optimizer=optimizer)"
   ]
  },
  {
   "cell_type": "code",
   "execution_count": 20,
   "id": "c966ada4",
   "metadata": {
    "scrolled": true
   },
   "outputs": [
    {
     "name": "stdout",
     "output_type": "stream",
     "text": [
      "Epoch 1/100\n",
      "X.shape = (None, 1)\n",
      "gauss_grid.shape = (None, 5)\n",
      "X.shape = (None, 1)\n",
      "gauss_grid.shape = (None, 5)\n",
      "1/3 [=========>....................] - ETA: 2s - loss: 43.3575X.shape = (None, 1)\n",
      "gauss_grid.shape = (None, 5)\n",
      "3/3 [==============================] - 1s 84ms/step - loss: 41.5910 - val_loss: 33.3269\n",
      "Epoch 2/100\n",
      "3/3 [==============================] - 0s 26ms/step - loss: 39.2408 - val_loss: 31.2501\n",
      "Epoch 3/100\n",
      "3/3 [==============================] - 0s 17ms/step - loss: 35.1481 - val_loss: 27.5114\n",
      "Epoch 4/100\n",
      "3/3 [==============================] - 0s 21ms/step - loss: 28.2804 - val_loss: 21.8672\n",
      "Epoch 5/100\n",
      "3/3 [==============================] - 0s 36ms/step - loss: 20.3577 - val_loss: 15.5078\n",
      "Epoch 6/100\n",
      "3/3 [==============================] - 0s 18ms/step - loss: 15.8332 - val_loss: 10.6999\n",
      "Epoch 7/100\n",
      "3/3 [==============================] - 0s 36ms/step - loss: 14.8916 - val_loss: 10.2265\n",
      "Epoch 8/100\n",
      "3/3 [==============================] - 0s 32ms/step - loss: 15.9188 - val_loss: 11.4982\n",
      "Epoch 9/100\n",
      "3/3 [==============================] - 0s 29ms/step - loss: 14.8792 - val_loss: 8.4632\n",
      "Epoch 10/100\n",
      "3/3 [==============================] - 0s 29ms/step - loss: 14.2806 - val_loss: 9.8891\n",
      "Epoch 11/100\n",
      "3/3 [==============================] - 0s 26ms/step - loss: 13.2831 - val_loss: 9.7441\n",
      "Epoch 12/100\n",
      "3/3 [==============================] - 0s 22ms/step - loss: 12.5392 - val_loss: 9.9846\n",
      "Epoch 13/100\n",
      "3/3 [==============================] - 0s 25ms/step - loss: 12.1858 - val_loss: 10.2309\n",
      "Epoch 14/100\n",
      "3/3 [==============================] - 0s 23ms/step - loss: 11.5900 - val_loss: 10.2742\n",
      "Epoch 15/100\n",
      "3/3 [==============================] - 0s 21ms/step - loss: 11.1511 - val_loss: 10.6952\n",
      "Epoch 16/100\n",
      "3/3 [==============================] - 0s 18ms/step - loss: 10.9319 - val_loss: 11.0067\n",
      "Epoch 17/100\n",
      "3/3 [==============================] - 0s 14ms/step - loss: 10.4683 - val_loss: 10.9700\n",
      "Epoch 18/100\n",
      "3/3 [==============================] - 0s 24ms/step - loss: 10.7791 - val_loss: 11.7273\n",
      "Epoch 19/100\n",
      "3/3 [==============================] - 0s 18ms/step - loss: 9.9589 - val_loss: 12.6752\n",
      "Epoch 20/100\n",
      "3/3 [==============================] - 0s 19ms/step - loss: 10.0059 - val_loss: 12.3457\n",
      "Epoch 21/100\n",
      "3/3 [==============================] - 0s 22ms/step - loss: 10.0524 - val_loss: 12.4543\n",
      "Epoch 22/100\n",
      "3/3 [==============================] - 0s 22ms/step - loss: 9.8703 - val_loss: 12.8680\n",
      "Epoch 23/100\n",
      "3/3 [==============================] - 0s 22ms/step - loss: 9.8593 - val_loss: 12.3121\n",
      "Epoch 24/100\n",
      "3/3 [==============================] - 0s 23ms/step - loss: 10.1055 - val_loss: 12.7151\n",
      "Epoch 25/100\n",
      "3/3 [==============================] - 0s 23ms/step - loss: 9.7460 - val_loss: 12.5898\n",
      "Epoch 26/100\n",
      "3/3 [==============================] - 0s 22ms/step - loss: 9.7923 - val_loss: 12.9948\n",
      "Epoch 27/100\n",
      "3/3 [==============================] - 0s 22ms/step - loss: 9.8227 - val_loss: 12.3336\n",
      "Epoch 28/100\n",
      "3/3 [==============================] - 0s 14ms/step - loss: 9.5646 - val_loss: 12.2627\n",
      "Epoch 29/100\n",
      "3/3 [==============================] - 0s 20ms/step - loss: 9.5599 - val_loss: 12.6707\n",
      "Epoch 30/100\n",
      "3/3 [==============================] - 0s 19ms/step - loss: 9.7060 - val_loss: 12.3392\n",
      "Epoch 31/100\n",
      "3/3 [==============================] - 0s 18ms/step - loss: 9.6319 - val_loss: 12.0002\n",
      "Epoch 32/100\n",
      "3/3 [==============================] - 0s 16ms/step - loss: 9.5869 - val_loss: 11.7667\n",
      "Epoch 33/100\n",
      "3/3 [==============================] - 0s 26ms/step - loss: 9.4388 - val_loss: 11.6132\n",
      "Epoch 34/100\n",
      "3/3 [==============================] - 0s 20ms/step - loss: 9.6347 - val_loss: 11.4698\n",
      "Epoch 35/100\n",
      "3/3 [==============================] - 0s 26ms/step - loss: 9.5514 - val_loss: 11.3628\n",
      "Epoch 36/100\n",
      "3/3 [==============================] - 0s 20ms/step - loss: 9.3373 - val_loss: 12.9984\n",
      "Epoch 37/100\n",
      "3/3 [==============================] - 0s 20ms/step - loss: 10.0907 - val_loss: 11.8352\n",
      "Epoch 38/100\n",
      "3/3 [==============================] - 0s 22ms/step - loss: 9.7711 - val_loss: 11.9733\n",
      "Epoch 39/100\n",
      "3/3 [==============================] - 0s 24ms/step - loss: 9.9938 - val_loss: 12.7403\n",
      "Epoch 40/100\n",
      "3/3 [==============================] - 0s 16ms/step - loss: 10.0782 - val_loss: 12.3007\n",
      "Epoch 41/100\n",
      "3/3 [==============================] - 0s 24ms/step - loss: 9.6125 - val_loss: 11.6154\n",
      "Epoch 42/100\n",
      "3/3 [==============================] - 0s 27ms/step - loss: 9.5991 - val_loss: 11.5419\n",
      "Epoch 43/100\n",
      "3/3 [==============================] - 0s 17ms/step - loss: 10.0856 - val_loss: 11.4522\n",
      "Epoch 44/100\n",
      "3/3 [==============================] - 0s 23ms/step - loss: 9.7202 - val_loss: 11.4179\n",
      "Epoch 45/100\n",
      "3/3 [==============================] - 0s 20ms/step - loss: 9.5831 - val_loss: 11.7549\n",
      "Epoch 46/100\n",
      "3/3 [==============================] - 0s 14ms/step - loss: 9.3387 - val_loss: 11.8552\n",
      "Epoch 47/100\n",
      "3/3 [==============================] - 0s 20ms/step - loss: 9.3349 - val_loss: 11.9959\n",
      "Epoch 48/100\n",
      "3/3 [==============================] - 0s 23ms/step - loss: 9.3889 - val_loss: 11.8660\n",
      "Epoch 49/100\n",
      "3/3 [==============================] - 0s 24ms/step - loss: 9.3591 - val_loss: 11.3396\n",
      "Epoch 50/100\n",
      "3/3 [==============================] - 0s 19ms/step - loss: 9.3062 - val_loss: 10.8673\n",
      "Epoch 51/100\n",
      "3/3 [==============================] - 0s 31ms/step - loss: 9.3660 - val_loss: 10.5368\n",
      "Epoch 52/100\n",
      "3/3 [==============================] - 0s 58ms/step - loss: 9.2779 - val_loss: 10.4847\n",
      "Epoch 53/100\n",
      "3/3 [==============================] - 0s 63ms/step - loss: 9.2411 - val_loss: 10.6371\n",
      "Epoch 54/100\n",
      "3/3 [==============================] - 0s 43ms/step - loss: 9.2848 - val_loss: 10.5834\n",
      "Epoch 55/100\n",
      "3/3 [==============================] - 0s 55ms/step - loss: 9.3754 - val_loss: 10.2879\n",
      "Epoch 56/100\n",
      "3/3 [==============================] - 0s 21ms/step - loss: 9.4585 - val_loss: 10.0444\n",
      "Epoch 57/100\n",
      "3/3 [==============================] - 0s 25ms/step - loss: 9.2410 - val_loss: 10.1790\n",
      "Epoch 58/100\n",
      "3/3 [==============================] - 0s 42ms/step - loss: 9.4908 - val_loss: 10.7118\n",
      "Epoch 59/100\n",
      "3/3 [==============================] - 0s 21ms/step - loss: 9.2649 - val_loss: 10.6396\n",
      "Epoch 60/100\n",
      "3/3 [==============================] - 0s 49ms/step - loss: 9.2069 - val_loss: 11.0652\n",
      "Epoch 61/100\n",
      "3/3 [==============================] - 0s 29ms/step - loss: 9.2447 - val_loss: 10.4367\n",
      "Epoch 62/100\n",
      "3/3 [==============================] - 0s 30ms/step - loss: 9.2668 - val_loss: 10.0206\n",
      "Epoch 63/100\n",
      "3/3 [==============================] - 0s 32ms/step - loss: 9.1995 - val_loss: 10.0016\n",
      "Epoch 64/100\n",
      "3/3 [==============================] - 0s 31ms/step - loss: 9.3430 - val_loss: 9.9430\n",
      "Epoch 65/100\n",
      "3/3 [==============================] - 0s 34ms/step - loss: 9.3217 - val_loss: 10.1100\n",
      "Epoch 66/100\n",
      "3/3 [==============================] - 0s 48ms/step - loss: 9.5561 - val_loss: 10.2715\n",
      "Epoch 67/100\n",
      "3/3 [==============================] - 0s 41ms/step - loss: 9.2955 - val_loss: 10.3707\n",
      "Epoch 68/100\n",
      "3/3 [==============================] - 0s 31ms/step - loss: 9.2629 - val_loss: 10.1509\n",
      "Epoch 69/100\n",
      "3/3 [==============================] - 0s 49ms/step - loss: 9.2836 - val_loss: 9.5674\n",
      "Epoch 70/100\n",
      "3/3 [==============================] - 0s 32ms/step - loss: 9.2434 - val_loss: 9.2210\n",
      "Epoch 71/100\n",
      "3/3 [==============================] - 0s 32ms/step - loss: 9.3670 - val_loss: 9.1715\n",
      "Epoch 72/100\n",
      "3/3 [==============================] - 0s 25ms/step - loss: 9.2017 - val_loss: 10.7062\n",
      "Epoch 73/100\n",
      "3/3 [==============================] - 0s 18ms/step - loss: 9.1839 - val_loss: 10.3369\n",
      "Epoch 74/100\n",
      "3/3 [==============================] - 0s 22ms/step - loss: 9.6208 - val_loss: 10.2655\n",
      "Epoch 75/100\n",
      "3/3 [==============================] - 0s 23ms/step - loss: 9.5884 - val_loss: 9.9498\n",
      "Epoch 76/100\n",
      "3/3 [==============================] - 0s 14ms/step - loss: 9.1025 - val_loss: 9.1414\n",
      "Epoch 77/100\n",
      "3/3 [==============================] - 0s 26ms/step - loss: 9.3194 - val_loss: 8.8777\n",
      "Epoch 78/100\n",
      "3/3 [==============================] - 0s 58ms/step - loss: 9.1347 - val_loss: 9.0961\n",
      "Epoch 79/100\n",
      "3/3 [==============================] - 0s 25ms/step - loss: 9.0307 - val_loss: 10.0851\n",
      "Epoch 80/100\n",
      "3/3 [==============================] - 0s 24ms/step - loss: 9.2024 - val_loss: 10.3462\n"
     ]
    },
    {
     "name": "stdout",
     "output_type": "stream",
     "text": [
      "Epoch 81/100\n",
      "3/3 [==============================] - 0s 22ms/step - loss: 9.3085 - val_loss: 10.3255\n",
      "Epoch 82/100\n",
      "3/3 [==============================] - 0s 20ms/step - loss: 9.2427 - val_loss: 9.7535\n",
      "Epoch 83/100\n",
      "3/3 [==============================] - 0s 22ms/step - loss: 9.3616 - val_loss: 9.4769\n",
      "Epoch 84/100\n",
      "3/3 [==============================] - 0s 25ms/step - loss: 9.0933 - val_loss: 9.3047\n",
      "Epoch 85/100\n",
      "3/3 [==============================] - 0s 20ms/step - loss: 8.9327 - val_loss: 9.0746\n",
      "Epoch 86/100\n",
      "3/3 [==============================] - 0s 35ms/step - loss: 9.1545 - val_loss: 8.8511\n",
      "Epoch 87/100\n",
      "3/3 [==============================] - 0s 17ms/step - loss: 9.0148 - val_loss: 9.0162\n",
      "Epoch 88/100\n",
      "3/3 [==============================] - 0s 15ms/step - loss: 9.2923 - val_loss: 9.1744\n",
      "Epoch 89/100\n",
      "3/3 [==============================] - 0s 26ms/step - loss: 9.0727 - val_loss: 10.1739\n",
      "Epoch 90/100\n",
      "3/3 [==============================] - 0s 21ms/step - loss: 9.2858 - val_loss: 9.4199\n",
      "Epoch 91/100\n",
      "3/3 [==============================] - 0s 23ms/step - loss: 8.9690 - val_loss: 8.9684\n",
      "Epoch 92/100\n",
      "3/3 [==============================] - 0s 19ms/step - loss: 9.5117 - val_loss: 8.1446\n",
      "Epoch 93/100\n",
      "3/3 [==============================] - 0s 24ms/step - loss: 9.3803 - val_loss: 8.8113\n",
      "Epoch 94/100\n",
      "3/3 [==============================] - 0s 25ms/step - loss: 9.6484 - val_loss: 9.7434\n",
      "Epoch 95/100\n",
      "3/3 [==============================] - 0s 18ms/step - loss: 9.5494 - val_loss: 8.4509\n",
      "Epoch 96/100\n",
      "3/3 [==============================] - 0s 22ms/step - loss: 8.9735 - val_loss: 8.5147\n",
      "Epoch 97/100\n",
      "3/3 [==============================] - 0s 23ms/step - loss: 8.9965 - val_loss: 8.4386\n",
      "Epoch 98/100\n",
      "3/3 [==============================] - 0s 21ms/step - loss: 9.0147 - val_loss: 7.9193\n",
      "Epoch 99/100\n",
      "3/3 [==============================] - 0s 21ms/step - loss: 9.1547 - val_loss: 7.8445\n",
      "Epoch 100/100\n",
      "3/3 [==============================] - 0s 22ms/step - loss: 9.1941 - val_loss: 8.4720\n"
     ]
    }
   ],
   "source": [
    "history = model.fit(X_train, y_train, epochs=100,\n",
    "                    validation_data=(X_valid, y_valid))"
   ]
  },
  {
   "cell_type": "code",
   "execution_count": 21,
   "id": "4d550f88",
   "metadata": {},
   "outputs": [
    {
     "name": "stdout",
     "output_type": "stream",
     "text": [
      "Saving figure grid_num_training_curve\n"
     ]
    },
    {
     "data": {
      "image/png": "[encoded data removed]",
      "text/plain": [
       "<Figure size 576x360 with 1 Axes>"
      ]
     },
     "metadata": {
      "needs_background": "light"
     },
     "output_type": "display_data"
    }
   ],
   "source": [
    "import pandas as pd\n",
    "\n",
    "pd.DataFrame(history.history).plot(figsize=(8, 5))\n",
    "plt.grid(True)\n",
    "# plt.gca().set_ylim(0, 1)\n",
    "save_fig(\"grid_num_training_curve\")\n",
    "plt.show()"
   ]
  },
  {
   "cell_type": "code",
   "execution_count": 22,
   "id": "5487653c",
   "metadata": {},
   "outputs": [
    {
     "name": "stdout",
     "output_type": "stream",
     "text": [
      "X.shape = (None, 1)\n",
      "gauss_grid.shape = (None, 5)\n",
      "Saving figure grid_num_prediction\n"
     ]
    },
    {
     "data": {
      "image/png": "[encoded data removed]",
      "text/plain": [
       "<Figure size 432x288 with 1 Axes>"
      ]
     },
     "metadata": {
      "needs_background": "light"
     },
     "output_type": "display_data"
    }
   ],
   "source": [
    "# X_new = np.linspace(-5, 5, 100).reshape(100, 1)\n",
    "# y_new = model.predict(X_new)\n",
    "#\n",
    "# plt.plot(X_train, y_train, \"b.\")\n",
    "draw_points(X_train, y_train, sid_train)\n",
    "# plt.plot(X_new, y_new, \"r-\", linewidth=2, label=\"Predictions\")\n",
    "draw_func(model.predict, mark='r-', linewidth=2, label=\"Predictions\")\n",
    "draw_normal_func(func_dict)\n",
    "plt.xlabel(\"$x_1$\", fontsize=18)\n",
    "plt.ylabel(\"$y$\", rotation=0, fontsize=18)\n",
    "plt.legend(loc=\"upper left\", fontsize=14)\n",
    "# plt.axis([-3, 3, 0, 10])\n",
    "save_fig(\"grid_num_prediction\")\n",
    "plt.show()"
   ]
  },
  {
   "cell_type": "code",
   "execution_count": 23,
   "id": "f9c053a4",
   "metadata": {},
   "outputs": [
    {
     "name": "stdout",
     "output_type": "stream",
     "text": [
      "y_func.shape = (100, 1)\n",
      "y_gt.shape = (100, 1)\n"
     ]
    },
    {
     "data": {
      "text/plain": [
       "4.1873444021283595"
      ]
     },
     "execution_count": 23,
     "metadata": {},
     "output_type": "execute_result"
    }
   ],
   "source": [
    "get_prediction_error(model.predict, func_dict, name=\"grid-num\")"
   ]
  },
  {
   "cell_type": "markdown",
   "id": "fe65d614",
   "metadata": {},
   "source": [
    "# Grid & Regression by Classification (grid --> grid)"
   ]
  },
  {
   "cell_type": "code",
   "execution_count": 24,
   "id": "3d35615e",
   "metadata": {},
   "outputs": [],
   "source": [
    "class num2grid_np():\n",
    "    def __init__(self, units, x_min=-10, x_max=10, sigma=1.0):\n",
    "        self.units = units\n",
    "        self.x_min = x_min\n",
    "        self.x_max = x_max\n",
    "        self.sigma = sigma\n",
    "        self.sigma2 = self.sigma**2\n",
    "        self.x_grid = np.linspace(self.x_min, self.x_max, self.units, endpoint=True)\n",
    "        print(\"self.x_grid = %s\" % str(self.x_grid))\n",
    "        \n",
    "    def convert(self, X):\n",
    "        gauss_grid = np.exp( -(self.x_grid - X)**2 / (2.0*self.sigma2) )\n",
    "#         if len(gauss_grid.shape) == 1:\n",
    "#             gauss_grid = gauss_grid.reshape([1,-1])\n",
    "#         grid_sum = np.sum(gauss_grid, axis=1, keepdims=True)\n",
    "        grid_sum = np.sum(gauss_grid, axis=-1, keepdims=True)\n",
    "        gauss_grid = gauss_grid / grid_sum\n",
    "        return gauss_grid\n",
    "    \n",
    "    def inv_convert(self, grid):\n",
    "#         if len(grid.shape) == 1:\n",
    "#             grid = grid.reshape([1,-1])\n",
    "#         grid_sum = np.sum(grid, axis=1)\n",
    "        grid_sum = np.sum(grid, axis=-1)\n",
    "#         print(grid_sum)\n",
    "        exp_num = np.sum((self.x_grid * grid), axis=-1) / grid_sum # element-wise\n",
    "        return exp_num\n",
    "    \n",
    "    def get_statistic(self, grid):\n",
    "        grid_sum = np.sum(grid, axis=-1)\n",
    "        _mean = np.sum((self.x_grid * grid), axis=-1) / grid_sum # element-wise\n",
    "        _var  = np.sum( ((self.x_grid.reshape((1,-1)) - _mean.reshape((-1,1)))**2 * grid), axis=-1) / grid_sum # element-wise\n",
    "        # print(\"(_mean, _var) = (%f, %f)\" % (_mean, _var))\n",
    "        _stddev = np.sqrt(_var)\n",
    "        return _mean, _stddev"
   ]
  },
  {
   "cell_type": "code",
   "execution_count": 25,
   "id": "4903180b",
   "metadata": {},
   "outputs": [
    {
     "name": "stdout",
     "output_type": "stream",
     "text": [
      "self.x_grid = [-100.          -95.91836735  -91.83673469  -87.75510204  -83.67346939\n",
      "  -79.59183673  -75.51020408  -71.42857143  -67.34693878  -63.26530612\n",
      "  -59.18367347  -55.10204082  -51.02040816  -46.93877551  -42.85714286\n",
      "  -38.7755102   -34.69387755  -30.6122449   -26.53061224  -22.44897959\n",
      "  -18.36734694  -14.28571429  -10.20408163   -6.12244898   -2.04081633\n",
      "    2.04081633    6.12244898   10.20408163   14.28571429   18.36734694\n",
      "   22.44897959   26.53061224   30.6122449    34.69387755   38.7755102\n",
      "   42.85714286   46.93877551   51.02040816   55.10204082   59.18367347\n",
      "   63.26530612   67.34693878   71.42857143   75.51020408   79.59183673\n",
      "   83.67346939   87.75510204   91.83673469   95.91836735  100.        ]\n"
     ]
    }
   ],
   "source": [
    "# class_num = 10 # 10\n",
    "# n2g = num2grid_np(class_num, x_min=-100.0, x_max=100.0, sigma=20.0) # 20.0\n",
    "# class_num = 20\n",
    "# n2g = num2grid_np(class_num, x_min=-100.0, x_max=100.0, sigma=15.0) # 20.0\n",
    "class_num = 50\n",
    "n2g = num2grid_np(class_num, x_min=-100.0, x_max=100.0, sigma=6.0) # 5.0 "
   ]
  },
  {
   "cell_type": "code",
   "execution_count": 26,
   "id": "dce05258",
   "metadata": {},
   "outputs": [
    {
     "name": "stdout",
     "output_type": "stream",
     "text": [
      "[[3.57995092e-60 2.08100846e-55 7.61538914e-51 1.75441300e-46\n",
      "  2.54444491e-42 2.32314196e-38 1.33530332e-34 4.83176258e-31\n",
      "  1.10065884e-27 1.57841554e-24 1.42498879e-21 8.09884396e-19\n",
      "  2.89771784e-16 6.52695532e-14 9.25521826e-12 8.26198061e-10\n",
      "  4.64304784e-08 1.64264466e-06 3.65852120e-05 5.12966502e-04\n",
      "  4.52786966e-03 2.51605603e-02 8.80173281e-02 1.93837381e-01\n",
      "  2.68737559e-01 2.34552834e-01 1.28876722e-01 4.45789421e-02\n",
      "  9.70748025e-03 1.33077537e-03 1.14848275e-04 6.23972825e-06\n",
      "  2.13416679e-07 4.59528573e-09 6.22899760e-11 5.31551427e-13\n",
      "  2.85557712e-15 9.65748361e-18 2.05615356e-20 2.75593262e-23\n",
      "  2.32542921e-26 1.23526215e-29 4.13082337e-33 8.69632169e-37\n",
      "  1.15254011e-40 9.61607812e-45 5.05081425e-49 1.67011468e-53\n",
      "  3.47658354e-58 4.55596654e-63]]\n"
     ]
    }
   ],
   "source": [
    "# grid_1 = n2g.convert(-1.2)\n",
    "grid_1 = n2g.convert([[-1.2]])\n",
    "print(grid_1)"
   ]
  },
  {
   "cell_type": "code",
   "execution_count": 27,
   "id": "48203fe2",
   "metadata": {},
   "outputs": [
    {
     "data": {
      "text/plain": [
       "array([-1.2])"
      ]
     },
     "execution_count": 27,
     "metadata": {},
     "output_type": "execute_result"
    }
   ],
   "source": [
    "n2g.inv_convert(grid_1)"
   ]
  },
  {
   "cell_type": "code",
   "execution_count": 28,
   "id": "a741b6d1",
   "metadata": {},
   "outputs": [
    {
     "data": {
      "text/plain": [
       "(array([-1.2]), array([6.]))"
      ]
     },
     "execution_count": 28,
     "metadata": {},
     "output_type": "execute_result"
    }
   ],
   "source": [
    "n2g.get_statistic(grid_1)"
   ]
  },
  {
   "cell_type": "markdown",
   "id": "bdc0b9a0",
   "metadata": {},
   "source": [
    "### Convert the labels to grid (pre-processing)"
   ]
  },
  {
   "cell_type": "code",
   "execution_count": 29,
   "id": "39c7fa96",
   "metadata": {},
   "outputs": [],
   "source": [
    "y_train_grid = n2g.convert(y_train)\n",
    "y_valid_grid = n2g.convert(y_valid)"
   ]
  },
  {
   "cell_type": "code",
   "execution_count": 30,
   "id": "f577a751",
   "metadata": {},
   "outputs": [
    {
     "name": "stdout",
     "output_type": "stream",
     "text": [
      "(80, 50)\n",
      "(20, 50)\n"
     ]
    }
   ],
   "source": [
    "print(y_train_grid.shape)\n",
    "print(y_valid_grid.shape)"
   ]
  },
  {
   "cell_type": "code",
   "execution_count": 31,
   "id": "71610af1",
   "metadata": {},
   "outputs": [
    {
     "name": "stdout",
     "output_type": "stream",
     "text": [
      "X.shape = (None, 1)\n",
      "gauss_grid.shape = (None, 5)\n"
     ]
    },
    {
     "name": "stderr",
     "output_type": "stream",
     "text": [
      "C:\\Users\\benso\\anaconda3\\envs\\ml\\lib\\site-packages\\keras\\optimizer_v2\\gradient_descent.py:102: UserWarning: The `lr` argument is deprecated, use `learning_rate` instead.\n",
      "  super(SGD, self).__init__(name, **kwargs)\n"
     ]
    }
   ],
   "source": [
    "model = keras.models.Sequential([\n",
    "#     keras.layers.Dense(30, activation=\"relu\", input_shape=X_train.shape[1:]),\n",
    "    num2grid(5,x_min=-10, x_max=10, sigma=3.0, input_shape=X_train.shape[1:]),\n",
    "    keras.layers.Dense(30, activation=\"relu\"),\n",
    "#     keras.layers.Dense(100, activation=\"relu\", kernel_regularizer=tf.keras.regularizers.l1(0.01)),\n",
    "    keras.layers.Dense(class_num, activation=\"softmax\"),\n",
    "])\n",
    "\n",
    "optimizer = keras.optimizers.SGD(lr=0.2, momentum=0.9)\n",
    "model.compile(loss=\"categorical_crossentropy\", optimizer=optimizer)"
   ]
  },
  {
   "cell_type": "code",
   "execution_count": 32,
   "id": "e2244aee",
   "metadata": {
    "scrolled": true
   },
   "outputs": [
    {
     "name": "stdout",
     "output_type": "stream",
     "text": [
      "Epoch 1/100\n",
      "X.shape = (None, 1)\n",
      "gauss_grid.shape = (None, 5)\n",
      "X.shape = (None, 1)\n",
      "gauss_grid.shape = (None, 5)\n",
      "1/3 [=========>....................] - ETA: 1s - loss: 3.9167X.shape = (None, 1)\n",
      "gauss_grid.shape = (None, 5)\n",
      "3/3 [==============================] - 1s 83ms/step - loss: 3.9078 - val_loss: 3.8817\n",
      "Epoch 2/100\n",
      "3/3 [==============================] - 0s 30ms/step - loss: 3.8650 - val_loss: 3.8331\n",
      "Epoch 3/100\n",
      "3/3 [==============================] - 0s 20ms/step - loss: 3.7993 - val_loss: 3.7806\n",
      "Epoch 4/100\n",
      "3/3 [==============================] - 0s 51ms/step - loss: 3.7154 - val_loss: 3.7155\n",
      "Epoch 5/100\n",
      "3/3 [==============================] - 0s 20ms/step - loss: 3.6173 - val_loss: 3.6494\n",
      "Epoch 6/100\n",
      "3/3 [==============================] - 0s 32ms/step - loss: 3.5085 - val_loss: 3.5887\n",
      "Epoch 7/100\n",
      "3/3 [==============================] - 0s 34ms/step - loss: 3.3951 - val_loss: 3.5347\n",
      "Epoch 8/100\n",
      "3/3 [==============================] - 0s 23ms/step - loss: 3.2844 - val_loss: 3.4516\n",
      "Epoch 9/100\n",
      "3/3 [==============================] - 0s 25ms/step - loss: 3.1909 - val_loss: 3.3325\n",
      "Epoch 10/100\n",
      "3/3 [==============================] - 0s 32ms/step - loss: 3.1201 - val_loss: 3.2163\n",
      "Epoch 11/100\n",
      "3/3 [==============================] - 0s 25ms/step - loss: 3.0595 - val_loss: 3.1164\n",
      "Epoch 12/100\n",
      "3/3 [==============================] - 0s 18ms/step - loss: 3.0152 - val_loss: 3.0569\n",
      "Epoch 13/100\n",
      "3/3 [==============================] - 0s 24ms/step - loss: 2.9770 - val_loss: 3.0296\n",
      "Epoch 14/100\n",
      "3/3 [==============================] - 0s 24ms/step - loss: 2.9434 - val_loss: 3.0143\n",
      "Epoch 15/100\n",
      "3/3 [==============================] - 0s 13ms/step - loss: 2.9200 - val_loss: 3.0122\n",
      "Epoch 16/100\n",
      "3/3 [==============================] - 0s 22ms/step - loss: 2.8944 - val_loss: 3.0106\n",
      "Epoch 17/100\n",
      "3/3 [==============================] - 0s 17ms/step - loss: 2.8662 - val_loss: 2.9729\n",
      "Epoch 18/100\n",
      "3/3 [==============================] - 0s 17ms/step - loss: 2.8258 - val_loss: 2.9598\n",
      "Epoch 19/100\n",
      "3/3 [==============================] - 0s 17ms/step - loss: 2.8094 - val_loss: 2.9489\n",
      "Epoch 20/100\n",
      "3/3 [==============================] - 0s 18ms/step - loss: 2.7885 - val_loss: 2.9563\n",
      "Epoch 21/100\n",
      "3/3 [==============================] - 0s 18ms/step - loss: 2.7590 - val_loss: 2.8997\n",
      "Epoch 22/100\n",
      "3/3 [==============================] - 0s 18ms/step - loss: 2.7409 - val_loss: 2.8545\n",
      "Epoch 23/100\n",
      "3/3 [==============================] - 0s 23ms/step - loss: 2.7162 - val_loss: 2.8617\n",
      "Epoch 24/100\n",
      "3/3 [==============================] - 0s 13ms/step - loss: 2.6989 - val_loss: 2.9196\n",
      "Epoch 25/100\n",
      "3/3 [==============================] - 0s 22ms/step - loss: 2.6849 - val_loss: 2.9154\n",
      "Epoch 26/100\n",
      "3/3 [==============================] - 0s 13ms/step - loss: 2.6700 - val_loss: 2.8890\n",
      "Epoch 27/100\n",
      "3/3 [==============================] - 0s 22ms/step - loss: 2.6489 - val_loss: 2.8370\n",
      "Epoch 28/100\n",
      "3/3 [==============================] - 0s 17ms/step - loss: 2.6438 - val_loss: 2.7967\n",
      "Epoch 29/100\n",
      "3/3 [==============================] - 0s 16ms/step - loss: 2.6188 - val_loss: 2.8030\n",
      "Epoch 30/100\n",
      "3/3 [==============================] - 0s 24ms/step - loss: 2.6121 - val_loss: 2.7799\n",
      "Epoch 31/100\n",
      "3/3 [==============================] - 0s 13ms/step - loss: 2.6116 - val_loss: 2.7735\n",
      "Epoch 32/100\n",
      "3/3 [==============================] - 0s 25ms/step - loss: 2.5990 - val_loss: 2.7546\n",
      "Epoch 33/100\n",
      "3/3 [==============================] - 0s 18ms/step - loss: 2.5833 - val_loss: 2.7761\n",
      "Epoch 34/100\n",
      "3/3 [==============================] - 0s 14ms/step - loss: 2.5736 - val_loss: 2.7547\n",
      "Epoch 35/100\n",
      "3/3 [==============================] - 0s 21ms/step - loss: 2.5678 - val_loss: 2.7167\n",
      "Epoch 36/100\n",
      "3/3 [==============================] - 0s 17ms/step - loss: 2.5554 - val_loss: 2.7543\n",
      "Epoch 37/100\n",
      "3/3 [==============================] - 0s 25ms/step - loss: 2.5565 - val_loss: 2.7529\n",
      "Epoch 38/100\n",
      "3/3 [==============================] - 0s 13ms/step - loss: 2.5440 - val_loss: 2.6801\n",
      "Epoch 39/100\n",
      "3/3 [==============================] - 0s 21ms/step - loss: 2.5352 - val_loss: 2.6591\n",
      "Epoch 40/100\n",
      "3/3 [==============================] - 0s 17ms/step - loss: 2.5438 - val_loss: 2.6809\n",
      "Epoch 41/100\n",
      "3/3 [==============================] - 0s 17ms/step - loss: 2.5129 - val_loss: 2.7605\n",
      "Epoch 42/100\n",
      "3/3 [==============================] - 0s 22ms/step - loss: 2.5293 - val_loss: 2.7570\n",
      "Epoch 43/100\n",
      "3/3 [==============================] - 0s 17ms/step - loss: 2.5100 - val_loss: 2.7140\n",
      "Epoch 44/100\n",
      "3/3 [==============================] - 0s 18ms/step - loss: 2.5082 - val_loss: 2.6851\n",
      "Epoch 45/100\n",
      "3/3 [==============================] - 0s 23ms/step - loss: 2.5043 - val_loss: 2.6132\n",
      "Epoch 46/100\n",
      "3/3 [==============================] - 0s 22ms/step - loss: 2.5000 - val_loss: 2.6457\n",
      "Epoch 47/100\n",
      "3/3 [==============================] - 0s 13ms/step - loss: 2.4894 - val_loss: 2.7399\n",
      "Epoch 48/100\n",
      "3/3 [==============================] - 0s 22ms/step - loss: 2.4888 - val_loss: 2.6691\n",
      "Epoch 49/100\n",
      "3/3 [==============================] - 0s 17ms/step - loss: 2.4733 - val_loss: 2.6655\n",
      "Epoch 50/100\n",
      "3/3 [==============================] - 0s 18ms/step - loss: 2.4844 - val_loss: 2.6872\n",
      "Epoch 51/100\n",
      "3/3 [==============================] - 0s 24ms/step - loss: 2.4809 - val_loss: 2.7321\n",
      "Epoch 52/100\n",
      "3/3 [==============================] - 0s 13ms/step - loss: 2.4741 - val_loss: 2.6288\n",
      "Epoch 53/100\n",
      "3/3 [==============================] - 0s 19ms/step - loss: 2.4673 - val_loss: 2.5977\n",
      "Epoch 54/100\n",
      "3/3 [==============================] - 0s 23ms/step - loss: 2.4657 - val_loss: 2.6663\n",
      "Epoch 55/100\n",
      "3/3 [==============================] - 0s 17ms/step - loss: 2.4733 - val_loss: 2.7099\n",
      "Epoch 56/100\n",
      "3/3 [==============================] - 0s 16ms/step - loss: 2.4500 - val_loss: 2.6330\n",
      "Epoch 57/100\n",
      "3/3 [==============================] - 0s 22ms/step - loss: 2.4719 - val_loss: 2.6005\n",
      "Epoch 58/100\n",
      "3/3 [==============================] - 0s 17ms/step - loss: 2.4752 - val_loss: 2.6626\n",
      "Epoch 59/100\n",
      "3/3 [==============================] - 0s 17ms/step - loss: 2.4509 - val_loss: 2.6160\n",
      "Epoch 60/100\n",
      "3/3 [==============================] - 0s 21ms/step - loss: 2.4503 - val_loss: 2.5967\n",
      "Epoch 61/100\n",
      "3/3 [==============================] - 0s 22ms/step - loss: 2.4470 - val_loss: 2.6401\n",
      "Epoch 62/100\n",
      "3/3 [==============================] - 0s 22ms/step - loss: 2.4463 - val_loss: 2.7268\n",
      "Epoch 63/100\n",
      "3/3 [==============================] - 0s 17ms/step - loss: 2.4533 - val_loss: 2.6151\n",
      "Epoch 64/100\n",
      "3/3 [==============================] - 0s 17ms/step - loss: 2.4322 - val_loss: 2.5456\n",
      "Epoch 65/100\n",
      "3/3 [==============================] - 0s 22ms/step - loss: 2.4529 - val_loss: 2.5615\n",
      "Epoch 66/100\n",
      "3/3 [==============================] - 0s 17ms/step - loss: 2.4343 - val_loss: 2.6520\n",
      "Epoch 67/100\n",
      "3/3 [==============================] - 0s 24ms/step - loss: 2.4363 - val_loss: 2.7087\n",
      "Epoch 68/100\n",
      "3/3 [==============================] - 0s 24ms/step - loss: 2.4349 - val_loss: 2.6457\n",
      "Epoch 69/100\n",
      "3/3 [==============================] - 0s 18ms/step - loss: 2.4225 - val_loss: 2.6075\n",
      "Epoch 70/100\n",
      "3/3 [==============================] - 0s 23ms/step - loss: 2.4312 - val_loss: 2.6327\n",
      "Epoch 71/100\n",
      "3/3 [==============================] - 0s 16ms/step - loss: 2.4200 - val_loss: 2.5717\n",
      "Epoch 72/100\n",
      "3/3 [==============================] - 0s 21ms/step - loss: 2.4261 - val_loss: 2.5791\n",
      "Epoch 73/100\n",
      "3/3 [==============================] - 0s 22ms/step - loss: 2.4296 - val_loss: 2.6337\n",
      "Epoch 74/100\n",
      "3/3 [==============================] - 0s 13ms/step - loss: 2.4299 - val_loss: 2.6127\n",
      "Epoch 75/100\n",
      "3/3 [==============================] - 0s 27ms/step - loss: 2.4264 - val_loss: 2.6460\n",
      "Epoch 76/100\n",
      "3/3 [==============================] - 0s 15ms/step - loss: 2.4165 - val_loss: 2.6160\n",
      "Epoch 77/100\n",
      "3/3 [==============================] - 0s 17ms/step - loss: 2.4070 - val_loss: 2.6427\n",
      "Epoch 78/100\n",
      "3/3 [==============================] - 0s 18ms/step - loss: 2.4117 - val_loss: 2.6000\n",
      "Epoch 79/100\n",
      "3/3 [==============================] - 0s 21ms/step - loss: 2.4012 - val_loss: 2.5543\n",
      "Epoch 80/100\n",
      "3/3 [==============================] - 0s 17ms/step - loss: 2.4161 - val_loss: 2.5662\n",
      "Epoch 81/100\n"
     ]
    },
    {
     "name": "stdout",
     "output_type": "stream",
     "text": [
      "3/3 [==============================] - 0s 17ms/step - loss: 2.4049 - val_loss: 2.6391\n",
      "Epoch 82/100\n",
      "3/3 [==============================] - 0s 21ms/step - loss: 2.3996 - val_loss: 2.5585\n",
      "Epoch 83/100\n",
      "3/3 [==============================] - 0s 17ms/step - loss: 2.4023 - val_loss: 2.5099\n",
      "Epoch 84/100\n",
      "3/3 [==============================] - 0s 22ms/step - loss: 2.4082 - val_loss: 2.5697\n",
      "Epoch 85/100\n",
      "3/3 [==============================] - 0s 16ms/step - loss: 2.3946 - val_loss: 2.5388\n",
      "Epoch 86/100\n",
      "3/3 [==============================] - 0s 17ms/step - loss: 2.3981 - val_loss: 2.5328\n",
      "Epoch 87/100\n",
      "3/3 [==============================] - 0s 22ms/step - loss: 2.3986 - val_loss: 2.5788\n",
      "Epoch 88/100\n",
      "3/3 [==============================] - 0s 17ms/step - loss: 2.4156 - val_loss: 2.6327\n",
      "Epoch 89/100\n",
      "3/3 [==============================] - 0s 18ms/step - loss: 2.3888 - val_loss: 2.5178\n",
      "Epoch 90/100\n",
      "3/3 [==============================] - 0s 17ms/step - loss: 2.4075 - val_loss: 2.4870\n",
      "Epoch 91/100\n",
      "3/3 [==============================] - 0s 17ms/step - loss: 2.4135 - val_loss: 2.5582\n",
      "Epoch 92/100\n",
      "3/3 [==============================] - 0s 16ms/step - loss: 2.4073 - val_loss: 2.6484\n",
      "Epoch 93/100\n",
      "3/3 [==============================] - 0s 22ms/step - loss: 2.3969 - val_loss: 2.6151\n",
      "Epoch 94/100\n",
      "3/3 [==============================] - 0s 17ms/step - loss: 2.3932 - val_loss: 2.5300\n",
      "Epoch 95/100\n",
      "3/3 [==============================] - 0s 17ms/step - loss: 2.3974 - val_loss: 2.5426\n",
      "Epoch 96/100\n",
      "3/3 [==============================] - 0s 18ms/step - loss: 2.3919 - val_loss: 2.5471\n",
      "Epoch 97/100\n",
      "3/3 [==============================] - 0s 19ms/step - loss: 2.3892 - val_loss: 2.5596\n",
      "Epoch 98/100\n",
      "3/3 [==============================] - 0s 21ms/step - loss: 2.3855 - val_loss: 2.5838\n",
      "Epoch 99/100\n",
      "3/3 [==============================] - 0s 17ms/step - loss: 2.3705 - val_loss: 2.5634\n",
      "Epoch 100/100\n",
      "3/3 [==============================] - 0s 18ms/step - loss: 2.3698 - val_loss: 2.5441\n"
     ]
    }
   ],
   "source": [
    "history = model.fit(X_train, y_train_grid, epochs=100,\n",
    "                    validation_data=(X_valid, y_valid_grid))"
   ]
  },
  {
   "cell_type": "code",
   "execution_count": 33,
   "id": "390834c9",
   "metadata": {},
   "outputs": [
    {
     "name": "stdout",
     "output_type": "stream",
     "text": [
      "Saving figure grid_rbc_training_curve\n"
     ]
    },
    {
     "data": {
      "image/png": "[encoded data removed]",
      "text/plain": [
       "<Figure size 576x360 with 1 Axes>"
      ]
     },
     "metadata": {
      "needs_background": "light"
     },
     "output_type": "display_data"
    }
   ],
   "source": [
    "import pandas as pd\n",
    "\n",
    "pd.DataFrame(history.history).plot(figsize=(8, 5))\n",
    "plt.grid(True)\n",
    "# plt.gca().set_ylim(0, 1)\n",
    "save_fig(\"grid_rbc_training_curve\")\n",
    "plt.show()"
   ]
  },
  {
   "cell_type": "code",
   "execution_count": 34,
   "id": "6fba3b6a",
   "metadata": {},
   "outputs": [
    {
     "name": "stdout",
     "output_type": "stream",
     "text": [
      "X.shape = (None, 1)\n",
      "gauss_grid.shape = (None, 5)\n",
      "Saving figure grid_rbc_prediction\n"
     ]
    },
    {
     "data": {
      "image/png": "[encoded data removed]",
      "text/plain": [
       "<Figure size 432x288 with 1 Axes>"
      ]
     },
     "metadata": {
      "needs_background": "light"
     },
     "output_type": "display_data"
    }
   ],
   "source": [
    "# X_new = np.linspace(-5, 5, 100).reshape(100, 1)\n",
    "# y_new_proba = model.predict(X_new)\n",
    "# y_new = n2g.inv_convert(y_new_proba)\n",
    "#\n",
    "# plt.plot(X_train, y_train, \"b.\")\n",
    "draw_points(X_train, y_train, sid_train)\n",
    "# plt.plot(X_new, y_new, \"r-\", linewidth=2, label=\"Predictions\")\n",
    "draw_func((lambda X: n2g.inv_convert(model.predict(X)) ), mark='r-', linewidth=2, label=\"Predictions\")\n",
    "draw_normal_func(func_dict)\n",
    "plt.xlabel(\"$x_1$\", fontsize=18)\n",
    "plt.ylabel(\"$y$\", rotation=0, fontsize=18)\n",
    "plt.legend(loc=\"upper left\", fontsize=14)\n",
    "# plt.axis([-3, 3, 0, 10])\n",
    "save_fig(\"grid_rbc_prediction\")\n",
    "plt.show()"
   ]
  },
  {
   "cell_type": "code",
   "execution_count": 35,
   "id": "fc059ba5",
   "metadata": {},
   "outputs": [
    {
     "name": "stdout",
     "output_type": "stream",
     "text": [
      "y_func.shape = (100, 1)\n",
      "y_gt.shape = (100, 1)\n"
     ]
    },
    {
     "data": {
      "text/plain": [
       "4.096461495033954"
      ]
     },
     "execution_count": 35,
     "metadata": {},
     "output_type": "execute_result"
    }
   ],
   "source": [
    "get_prediction_error((lambda X: n2g.inv_convert(model.predict(X)) ), func_dict, name=\"grid-rbc\")"
   ]
  },
  {
   "cell_type": "code",
   "execution_count": 36,
   "id": "edcf26db",
   "metadata": {},
   "outputs": [
    {
     "name": "stdout",
     "output_type": "stream",
     "text": [
      "Saving figure grid_rbc_proba\n"
     ]
    },
    {
     "data": {
      "image/png": "[encoded data removed]",
      "text/plain": [
       "<Figure size 432x288 with 1 Axes>"
      ]
     },
     "metadata": {
      "needs_background": "light"
     },
     "output_type": "display_data"
    }
   ],
   "source": [
    "X_new = np.linspace(-5, 5, 100).reshape(100, 1)\n",
    "y_new_proba = model.predict(X_new)\n",
    "# y_new = n2g.inv_convert(y_new_proba)\n",
    "#\n",
    "xv, yv = np.meshgrid(X_new, np.linspace(n2g.x_min, n2g.x_max, n2g.units))\n",
    "# print(xv)\n",
    "# print(yv)\n",
    "plt.pcolormesh(xv, yv, y_new_proba.T, shading=\"nearest\")\n",
    "save_fig(\"grid_rbc_proba\")"
   ]
  },
  {
   "cell_type": "markdown",
   "id": "4064d3b5",
   "metadata": {},
   "source": [
    "### Draw the 1-sigma boundary line"
   ]
  },
  {
   "cell_type": "code",
   "execution_count": 37,
   "id": "247e8712",
   "metadata": {},
   "outputs": [
    {
     "name": "stdout",
     "output_type": "stream",
     "text": [
      "Saving figure grid_rbc_prediction_1sigma\n"
     ]
    },
    {
     "data": {
      "image/png": "[encoded data removed]",
      "text/plain": [
       "<Figure size 432x288 with 1 Axes>"
      ]
     },
     "metadata": {
      "needs_background": "light"
     },
     "output_type": "display_data"
    }
   ],
   "source": [
    "def n_sigma_boundary_line(X, n):\n",
    "    _mean, _sigma = n2g.get_statistic(model.predict(X))\n",
    "    return( _mean + n*_sigma)\n",
    "\n",
    "# plt.plot(X_train, y_train, \"b.\")\n",
    "draw_points(X_train, y_train, sid_train)\n",
    "#\n",
    "draw_func((lambda X: n2g.inv_convert(model.predict(X)) ), mark='r-', linewidth=2, label=\"Predictions\")\n",
    "draw_func((lambda X: n_sigma_boundary_line(X, +1.0) ), mark='k--', linewidth=1, label=\"$\\mu+\\sigma$\")\n",
    "draw_func((lambda X: n_sigma_boundary_line(X, -1.0) ), mark='k--', linewidth=1, label=\"$\\mu-\\sigma$\")\n",
    "#\n",
    "draw_normal_func(func_dict)\n",
    "plt.xlabel(\"$x_1$\", fontsize=18)\n",
    "plt.ylabel(\"$y$\", rotation=0, fontsize=18)\n",
    "plt.legend(loc=\"upper left\", fontsize=14)\n",
    "# plt.axis([-3, 3, 0, 10])\n",
    "save_fig(\"grid_rbc_prediction_1sigma\")\n",
    "plt.show()"
   ]
  },
  {
   "cell_type": "code",
   "execution_count": null,
   "id": "e6266336",
   "metadata": {},
   "outputs": [],
   "source": []
  },
  {
   "cell_type": "markdown",
   "id": "99a85ab5",
   "metadata": {},
   "source": [
    "# Grid & Regression by Classification + Offset Estimation (grid --> grid,num)"
   ]
  },
  {
   "cell_type": "code",
   "execution_count": 38,
   "id": "26440167",
   "metadata": {},
   "outputs": [],
   "source": [
    "class num2gridOffset_np():\n",
    "    def __init__(self, units, x_min=-10, x_max=10):\n",
    "        self.units = units\n",
    "        self.x_min = x_min\n",
    "        self.x_max = x_max\n",
    "        self.x_grid = np.linspace(self.x_min, self.x_max, self.units, endpoint=True)\n",
    "        # bins\n",
    "        x_space = np.average(self.x_grid[1:] - self.x_grid[:-1])\n",
    "        print(\"x_space = %f\" % x_space)\n",
    "        x_0 = self.x_grid[0] - 0.5 * x_space\n",
    "        self.x_bins = [x_0 + _i*x_space for _i in range(len(self.x_grid)+1)]\n",
    "        print(\"self.x_grid = %s\" % str(self.x_grid))\n",
    "#         print(\"self.x_bins = %s\" % str(self.x_bins))\n",
    "        \n",
    "    def convert(self, X):\n",
    "        '''\n",
    "        Convert a batch of number to one-hot class and numerical offset to each grid's center\n",
    "        (m, 1) --> (m, n_units, 2)\n",
    "        '''\n",
    "        X = np.array(X)\n",
    "        if len(X.shape) <= 1:\n",
    "            X = X.reshape((-1,1))\n",
    "        idxs_bin = np.digitize(X, self.x_bins, right=False) \n",
    "        idxs_grid = (idxs_bin - 1) + 1*(idxs_bin<= 0) - 1*(idxs_bin>=self.units)\n",
    "        print(idxs_grid.shape)\n",
    "        #\n",
    "        batch_size = X.shape[0]\n",
    "        grid = np.zeros((batch_size, self.units, 2))\n",
    "        # Fill in the values\n",
    "        grid[np.arange(batch_size), idxs_grid.reshape((-1,)), 0] = 1.0\n",
    "        grid[np.arange(batch_size), :, 1] = X - self.x_grid.reshape((1,-1)) # Offset\n",
    "        return grid\n",
    "    \n",
    "    def inv_convert(self, grid):\n",
    "        idxs_grid = np.argmax(grid[...,0], axis=1)\n",
    "        print(idxs_grid.shape)\n",
    "        #\n",
    "        batch_size = grid.shape[0]\n",
    "        offset_est = grid[np.arange(batch_size),idxs_grid,1]\n",
    "        print(offset_est.shape)\n",
    "        num_est = self.x_grid[idxs_grid].reshape((1,-1)) + offset_est\n",
    "        return num_est.reshape((-1,))"
   ]
  },
  {
   "cell_type": "code",
   "execution_count": 39,
   "id": "8b15e9ff",
   "metadata": {},
   "outputs": [
    {
     "name": "stdout",
     "output_type": "stream",
     "text": [
      "x_space = 22.222222\n",
      "self.x_grid = [-100.          -77.77777778  -55.55555556  -33.33333333  -11.11111111\n",
      "   11.11111111   33.33333333   55.55555556   77.77777778  100.        ]\n"
     ]
    }
   ],
   "source": [
    "class_num = 10 # 10\n",
    "n2go = num2gridOffset_np(class_num, x_min=-100.0, x_max=100.0) "
   ]
  },
  {
   "cell_type": "code",
   "execution_count": 40,
   "id": "8f6e7955",
   "metadata": {},
   "outputs": [
    {
     "name": "stdout",
     "output_type": "stream",
     "text": [
      "(2, 1)\n",
      "[[[   0.           98.8       ]\n",
      "  [   0.           76.57777778]\n",
      "  [   0.           54.35555556]\n",
      "  [   0.           32.13333333]\n",
      "  [   1.            9.91111111]\n",
      "  [   0.          -12.31111111]\n",
      "  [   0.          -34.53333333]\n",
      "  [   0.          -56.75555556]\n",
      "  [   0.          -78.97777778]\n",
      "  [   0.         -101.2       ]]\n",
      "\n",
      " [[   0.          150.5       ]\n",
      "  [   0.          128.27777778]\n",
      "  [   0.          106.05555556]\n",
      "  [   0.           83.83333333]\n",
      "  [   0.           61.61111111]\n",
      "  [   0.           39.38888889]\n",
      "  [   0.           17.16666667]\n",
      "  [   1.           -5.05555556]\n",
      "  [   0.          -27.27777778]\n",
      "  [   0.          -49.5       ]]]\n"
     ]
    }
   ],
   "source": [
    "# grid_1 = n2g.convert(-1.2)\n",
    "grid_1 = n2go.convert([[-1.2], [50.5]])\n",
    "print(grid_1)"
   ]
  },
  {
   "cell_type": "code",
   "execution_count": 41,
   "id": "48840dc5",
   "metadata": {},
   "outputs": [
    {
     "name": "stdout",
     "output_type": "stream",
     "text": [
      "(2,)\n",
      "(2,)\n"
     ]
    },
    {
     "data": {
      "text/plain": [
       "array([-1.2, 50.5])"
      ]
     },
     "execution_count": 41,
     "metadata": {},
     "output_type": "execute_result"
    }
   ],
   "source": [
    "n2go.inv_convert(grid_1)"
   ]
  },
  {
   "cell_type": "markdown",
   "id": "11683cea",
   "metadata": {},
   "source": [
    "### Convert the labels to grid (pre-processing)"
   ]
  },
  {
   "cell_type": "code",
   "execution_count": 42,
   "id": "472997cf",
   "metadata": {},
   "outputs": [
    {
     "name": "stdout",
     "output_type": "stream",
     "text": [
      "(80, 1)\n",
      "(20, 1)\n"
     ]
    }
   ],
   "source": [
    "y_train_grid_offset = n2go.convert(y_train)\n",
    "y_valid_grid_offset = n2go.convert(y_valid)"
   ]
  },
  {
   "cell_type": "code",
   "execution_count": 43,
   "id": "71f08d76",
   "metadata": {},
   "outputs": [
    {
     "name": "stdout",
     "output_type": "stream",
     "text": [
      "(80, 10, 2)\n",
      "(20, 10, 2)\n"
     ]
    }
   ],
   "source": [
    "print(y_train_grid_offset.shape)\n",
    "print(y_valid_grid_offset.shape)"
   ]
  },
  {
   "cell_type": "code",
   "execution_count": 44,
   "id": "84b5b833",
   "metadata": {},
   "outputs": [
    {
     "name": "stdout",
     "output_type": "stream",
     "text": [
      "X.shape = (None, 1)\n",
      "gauss_grid.shape = (None, 5)\n"
     ]
    }
   ],
   "source": [
    "inputs = keras.layers.Input(shape=X_train.shape[1:])\n",
    "#\n",
    "z = num2grid(5,x_min=-10, x_max=10, sigma=3.0)(inputs)\n",
    "z = keras.layers.Dense(30, activation=\"selu\")(z)\n",
    "# Outputs\n",
    "z_proba = keras.layers.Dense(30, activation=\"relu\")(z)\n",
    "z_proba  = keras.layers.Dense(class_num, activation=\"softmax\")(z_proba)\n",
    "z_offset = keras.layers.Dense(class_num, activation=\"relu\")(z)\n",
    "z_offset = keras.layers.Dense(class_num)(z_offset)\n",
    "# Concatenate\n",
    "z_proba  = keras.layers.Reshape([class_num,1])(z_proba)\n",
    "z_offset = keras.layers.Reshape([class_num,1])(z_offset)\n",
    "out_cat = keras.layers.Concatenate(axis=-1)([z_proba, z_offset])\n",
    "#\n",
    "# Models for trainig and real usage\n",
    "model = keras.Model(inputs=[inputs], outputs=[out_cat])"
   ]
  },
  {
   "cell_type": "code",
   "execution_count": 45,
   "id": "e6482574",
   "metadata": {},
   "outputs": [],
   "source": [
    "# Customized loss function\n",
    "\n",
    "cce = keras.losses.CategoricalCrossentropy(reduction=keras.losses.Reduction.NONE)\n",
    "# cce(y_true, y_pred).numpy()\n",
    "\n",
    "def centerLoss_fn(y_true, y_pred):\n",
    "    #\n",
    "    y_true_proba = y_true[...,0]\n",
    "    y_true_value = y_true[...,1]\n",
    "    #\n",
    "    y_pred_proba = y_pred[...,0]\n",
    "    y_pred_value = y_pred[...,1]\n",
    "    \n",
    "    #\n",
    "    cce_loss = cce(y_true_proba, y_pred_proba) / class_num\n",
    "    #\n",
    "    y_true_value_est = tf.reduce_sum((y_true_proba * y_true_value), axis=-1)\n",
    "    y_pred_value_est = tf.reduce_sum((y_true_proba * y_pred_value), axis=-1)\n",
    "#     y_pred_value_est = tf.reduce_sum((y_pred_proba * y_pred_value), axis=-1)\n",
    "    value_loss = tf.abs(y_pred_value_est - y_true_value_est)\n",
    "    \n",
    "    # Total loss\n",
    "#     return (0.5*cce_loss + 0.5*value_loss )\n",
    "    return (0.2*cce_loss + 0.8*value_loss )\n",
    "#     return (cce_loss)\n",
    "#     return (value_loss )"
   ]
  },
  {
   "cell_type": "code",
   "execution_count": 46,
   "id": "60575755",
   "metadata": {},
   "outputs": [
    {
     "name": "stderr",
     "output_type": "stream",
     "text": [
      "C:\\Users\\benso\\anaconda3\\envs\\ml\\lib\\site-packages\\keras\\optimizer_v2\\adam.py:105: UserWarning: The `lr` argument is deprecated, use `learning_rate` instead.\n",
      "  super(Adam, self).__init__(name, **kwargs)\n"
     ]
    }
   ],
   "source": [
    "# optimizer = keras.optimizers.SGD(lr=0.1, momentum=0.9)\n",
    "optimizer = keras.optimizers.Adam(lr=0.05)\n",
    "model.compile(loss=centerLoss_fn, optimizer=optimizer)"
   ]
  },
  {
   "cell_type": "code",
   "execution_count": 47,
   "id": "09bc47a5",
   "metadata": {
    "scrolled": true
   },
   "outputs": [],
   "source": [
    "# history = model.fit(X_train, y_train_grid_offset, epochs=100,\n",
    "#                     validation_data=(X_valid, y_valid_grid_offset))"
   ]
  },
  {
   "cell_type": "code",
   "execution_count": 48,
   "id": "7ba1fe76",
   "metadata": {},
   "outputs": [],
   "source": [
    "# import pandas as pd\n",
    "\n",
    "# pd.DataFrame(history.history).plot(figsize=(8, 5))\n",
    "# plt.grid(True)\n",
    "# # plt.gca().set_ylim(0, 1)\n",
    "# save_fig(\"grid_rbcOffset_training_curve\")\n",
    "# plt.show()"
   ]
  },
  {
   "cell_type": "code",
   "execution_count": 49,
   "id": "47db8336",
   "metadata": {
    "scrolled": false
   },
   "outputs": [],
   "source": [
    "# # plt.plot(X_train, y_train, \"b.\")\n",
    "# draw_points(X_train, y_train, sid_train)\n",
    "# draw_func((lambda X: n2go.inv_convert(model.predict(X)) ), mark='r-', linewidth=2, label=\"Predictions\")\n",
    "# draw_normal_func(func_dict)\n",
    "# plt.xlabel(\"$x_1$\", fontsize=18)\n",
    "# plt.ylabel(\"$y$\", rotation=0, fontsize=18)\n",
    "# plt.legend(loc=\"upper left\", fontsize=14)\n",
    "# # plt.axis([-3, 3, 0, 10])\n",
    "# save_fig(\"grid_rbcOffset_prediction\")\n",
    "# plt.show()"
   ]
  },
  {
   "cell_type": "code",
   "execution_count": 50,
   "id": "46a1a384",
   "metadata": {},
   "outputs": [],
   "source": [
    "# get_prediction_error((lambda X: n2go.inv_convert(model.predict(X)) ), func_dict, name=\"grid-classOffset\")"
   ]
  },
  {
   "cell_type": "code",
   "execution_count": null,
   "id": "fff995a6",
   "metadata": {},
   "outputs": [],
   "source": []
  },
  {
   "cell_type": "markdown",
   "id": "a811f344",
   "metadata": {},
   "source": [
    "# Parametric Uncertainty/Distribution Estimation\n",
    "\n",
    "In this section, we try to estimate uncertainty (actually, fit the dataset distribution) with parametric reprecentation of a distribution instead of a discretized non-parametric representation.\n",
    "\n",
    "Possible solution includes\n",
    "- Quantile estimation with pinball loss (statistic)\n",
    "- Guassian distribution (fit a prabability distribution)"
   ]
  },
  {
   "cell_type": "markdown",
   "id": "175eb32d",
   "metadata": {},
   "source": [
    "## Quantile Estimation with Pinball Loss (grid --> parameters)\n",
    "\n",
    "Quantile estimation and pinball loss is based on the concept of statistic, which predict the value based on the rank of samples in the dataset.\n",
    "\n",
    "The outputs of the model are $(y_{10}, y_{90})$, 10% quantile prediction and 90% quantile prediction, respectively."
   ]
  },
  {
   "cell_type": "code",
   "execution_count": 51,
   "id": "1d1ef92d",
   "metadata": {},
   "outputs": [],
   "source": [
    "# quantile_list = [0.5]\n",
    "# quantile_list = [0.9]\n",
    "quantile_list = [0.1, 0.9] # Use hidden layer with 30 neurons\n",
    "# quantile_list = [0.05, 0.95]\n",
    "# quantile_list = [0.25, 0.75]\n",
    "# quantile_list = [0.1, 0.5, 0.9]\n",
    "# quantile_list = [0.1, 0.3, 0.7, 0.9]\n",
    "# quantile_list = [0.1, 0.2, 0.3, 0.4, 0.6, 0.7, 0.8, 0.9] # remove 0.5\n",
    "# quantile_list = [0.1, 0.2, 0.3, 0.4, 0.5, 0.6, 0.7, 0.8, 0.9] # Should use wider hidden layer (with many neurons) + L1 regularization\n",
    "num_quantile = len(quantile_list)"
   ]
  },
  {
   "cell_type": "code",
   "execution_count": 52,
   "id": "8e3fe57b",
   "metadata": {},
   "outputs": [
    {
     "name": "stdout",
     "output_type": "stream",
     "text": [
      "X.shape = (None, 1)\n",
      "gauss_grid.shape = (None, 5)\n"
     ]
    }
   ],
   "source": [
    "model = keras.models.Sequential([\n",
    "    num2grid(5,x_min=-10, x_max=10, sigma=3.0, input_shape=X_train.shape[1:]),\n",
    "#     num2grid(50,x_min=-10, x_max=10, sigma=0.5, input_shape=X_train.shape[1:]),\n",
    "    keras.layers.Dense(30, activation=\"relu\"),\n",
    "#     keras.layers.Dense(60, activation=\"relu\"),\n",
    "#     keras.layers.Dense(100, activation=\"relu\", kernel_regularizer=tf.keras.regularizers.l1(0.01)),\n",
    "#     keras.layers.Dense(30, activation=keras.layers.LeakyReLU(alpha=0.2) ),\n",
    "#     keras.layers.Dense(30, activation=\"selu\"),\n",
    "    keras.layers.Dense(num_quantile) # (y10, y90)\n",
    "])"
   ]
  },
  {
   "cell_type": "code",
   "execution_count": 53,
   "id": "bf131dc7",
   "metadata": {},
   "outputs": [],
   "source": [
    "# Customized loss function\n",
    "def pinballLoss_fn(y_true, y_pred, tau):\n",
    "    # tau: quantile, tau in [0.0, 1.0]\n",
    "    # y_true: label mean\n",
    "    # y_pred: predicted tau quantile\n",
    "    _q = y_true - y_pred\n",
    "    return tf.math.maximum( (tau*_q), ((tau-1.0)*_q))\n",
    "    \n",
    "def pinballLoss_10_90_fn(y_true, y_pred):\n",
    "    #\n",
    "    return pinballLoss_fn(y_true, y_pred[:,0:1], 0.1) + pinballLoss_fn(y_true, y_pred[:,1:2], 0.9)\n",
    "\n",
    "def pinballLoss_full_fn(y_true, y_pred):\n",
    "    #\n",
    "    pinball_losses = tf.stack( [pinballLoss_fn(y_true, y_pred[:, _i:(_i+1)], _tau) for _i, _tau in enumerate(quantile_list)], axis=1)\n",
    "    return tf.reduce_sum(pinball_losses, axis=1)"
   ]
  },
  {
   "cell_type": "code",
   "execution_count": 54,
   "id": "a71305d5",
   "metadata": {},
   "outputs": [],
   "source": [
    "# optimizer = keras.optimizers.SGD(lr=0.1, momentum=0.9)\n",
    "optimizer = keras.optimizers.Adam(lr=0.1)\n",
    "# model.compile(loss=pinballLoss_10_90_fn, optimizer=optimizer)\n",
    "model.compile(loss=pinballLoss_full_fn, optimizer=optimizer)"
   ]
  },
  {
   "cell_type": "code",
   "execution_count": 55,
   "id": "d935c409",
   "metadata": {
    "scrolled": true
   },
   "outputs": [
    {
     "name": "stdout",
     "output_type": "stream",
     "text": [
      "Epoch 1/100\n",
      "X.shape = (None, 1)\n",
      "gauss_grid.shape = (None, 5)\n",
      "X.shape = (None, 1)\n",
      "gauss_grid.shape = (None, 5)\n",
      "1/3 [=========>....................] - ETA: 1s - loss: 50.4498X.shape = (None, 1)\n",
      "gauss_grid.shape = (None, 5)\n",
      "3/3 [==============================] - 1s 94ms/step - loss: 40.8842 - val_loss: 30.8939\n",
      "Epoch 2/100\n",
      "3/3 [==============================] - 0s 17ms/step - loss: 36.6310 - val_loss: 25.4497\n",
      "Epoch 3/100\n",
      "3/3 [==============================] - 0s 33ms/step - loss: 29.8936 - val_loss: 18.4639\n",
      "Epoch 4/100\n",
      "3/3 [==============================] - 0s 42ms/step - loss: 22.3985 - val_loss: 12.8856\n",
      "Epoch 5/100\n",
      "3/3 [==============================] - 0s 29ms/step - loss: 16.2215 - val_loss: 12.5576\n",
      "Epoch 6/100\n",
      "3/3 [==============================] - 0s 30ms/step - loss: 14.5210 - val_loss: 14.1884\n",
      "Epoch 7/100\n",
      "3/3 [==============================] - 0s 39ms/step - loss: 14.7827 - val_loss: 14.3629\n",
      "Epoch 8/100\n",
      "3/3 [==============================] - 0s 37ms/step - loss: 14.7586 - val_loss: 13.0600\n",
      "Epoch 9/100\n",
      "3/3 [==============================] - 0s 31ms/step - loss: 13.6354 - val_loss: 12.0410\n",
      "Epoch 10/100\n",
      "3/3 [==============================] - 0s 17ms/step - loss: 12.2693 - val_loss: 11.0629\n",
      "Epoch 11/100\n",
      "3/3 [==============================] - 0s 14ms/step - loss: 10.6231 - val_loss: 9.4259\n",
      "Epoch 12/100\n",
      "3/3 [==============================] - 0s 18ms/step - loss: 9.4601 - val_loss: 7.9438\n",
      "Epoch 13/100\n",
      "3/3 [==============================] - 0s 24ms/step - loss: 8.6420 - val_loss: 6.3144\n",
      "Epoch 14/100\n",
      "3/3 [==============================] - 0s 15ms/step - loss: 7.5700 - val_loss: 5.0974\n",
      "Epoch 15/100\n",
      "3/3 [==============================] - 0s 19ms/step - loss: 6.6855 - val_loss: 4.5467\n",
      "Epoch 16/100\n",
      "3/3 [==============================] - 0s 18ms/step - loss: 6.0028 - val_loss: 4.8673\n",
      "Epoch 17/100\n",
      "3/3 [==============================] - 0s 18ms/step - loss: 5.5773 - val_loss: 6.0324\n",
      "Epoch 18/100\n",
      "3/3 [==============================] - 0s 15ms/step - loss: 5.8721 - val_loss: 6.1881\n",
      "Epoch 19/100\n",
      "3/3 [==============================] - 0s 18ms/step - loss: 5.8705 - val_loss: 5.5491\n",
      "Epoch 20/100\n",
      "3/3 [==============================] - 0s 18ms/step - loss: 5.4440 - val_loss: 4.8409\n",
      "Epoch 21/100\n",
      "3/3 [==============================] - 0s 14ms/step - loss: 5.2994 - val_loss: 4.4077\n",
      "Epoch 22/100\n",
      "3/3 [==============================] - 0s 23ms/step - loss: 5.0443 - val_loss: 3.9659\n",
      "Epoch 23/100\n",
      "3/3 [==============================] - 0s 16ms/step - loss: 5.0591 - val_loss: 4.2451\n",
      "Epoch 24/100\n",
      "3/3 [==============================] - 0s 20ms/step - loss: 5.1030 - val_loss: 3.9496\n",
      "Epoch 25/100\n",
      "3/3 [==============================] - 0s 18ms/step - loss: 4.9037 - val_loss: 4.1912\n",
      "Epoch 26/100\n",
      "3/3 [==============================] - 0s 18ms/step - loss: 4.8091 - val_loss: 4.3603\n",
      "Epoch 27/100\n",
      "3/3 [==============================] - 0s 17ms/step - loss: 4.6865 - val_loss: 4.6742\n",
      "Epoch 28/100\n",
      "3/3 [==============================] - 0s 18ms/step - loss: 4.7094 - val_loss: 4.6242\n",
      "Epoch 29/100\n",
      "3/3 [==============================] - 0s 20ms/step - loss: 4.5657 - val_loss: 4.1203\n",
      "Epoch 30/100\n",
      "3/3 [==============================] - 0s 18ms/step - loss: 4.4052 - val_loss: 3.8708\n",
      "Epoch 31/100\n",
      "3/3 [==============================] - 0s 26ms/step - loss: 4.3594 - val_loss: 3.7214\n",
      "Epoch 32/100\n",
      "3/3 [==============================] - 0s 17ms/step - loss: 4.2871 - val_loss: 3.6584\n",
      "Epoch 33/100\n",
      "3/3 [==============================] - 0s 21ms/step - loss: 4.1415 - val_loss: 3.6099\n",
      "Epoch 34/100\n",
      "3/3 [==============================] - 0s 21ms/step - loss: 4.0874 - val_loss: 3.6826\n",
      "Epoch 35/100\n",
      "3/3 [==============================] - 0s 24ms/step - loss: 3.9748 - val_loss: 3.7315\n",
      "Epoch 36/100\n",
      "3/3 [==============================] - 0s 22ms/step - loss: 3.8349 - val_loss: 3.8309\n",
      "Epoch 37/100\n",
      "3/3 [==============================] - 0s 19ms/step - loss: 3.7750 - val_loss: 3.7027\n",
      "Epoch 38/100\n",
      "3/3 [==============================] - 0s 18ms/step - loss: 3.6697 - val_loss: 3.4451\n",
      "Epoch 39/100\n",
      "3/3 [==============================] - 0s 23ms/step - loss: 3.6519 - val_loss: 3.2964\n",
      "Epoch 40/100\n",
      "3/3 [==============================] - 0s 18ms/step - loss: 3.4857 - val_loss: 3.5648\n",
      "Epoch 41/100\n",
      "3/3 [==============================] - 0s 18ms/step - loss: 3.4477 - val_loss: 3.6904\n",
      "Epoch 42/100\n",
      "3/3 [==============================] - 0s 18ms/step - loss: 3.3983 - val_loss: 3.3679\n",
      "Epoch 43/100\n",
      "3/3 [==============================] - 0s 20ms/step - loss: 3.3038 - val_loss: 3.3255\n",
      "Epoch 44/100\n",
      "3/3 [==============================] - 0s 18ms/step - loss: 3.2884 - val_loss: 3.3368\n",
      "Epoch 45/100\n",
      "3/3 [==============================] - 0s 18ms/step - loss: 3.3072 - val_loss: 3.4785\n",
      "Epoch 46/100\n",
      "3/3 [==============================] - 0s 19ms/step - loss: 3.2992 - val_loss: 3.4405\n",
      "Epoch 47/100\n",
      "3/3 [==============================] - 0s 22ms/step - loss: 3.1149 - val_loss: 3.0421\n",
      "Epoch 48/100\n",
      "3/3 [==============================] - 0s 17ms/step - loss: 3.1694 - val_loss: 2.9598\n",
      "Epoch 49/100\n",
      "3/3 [==============================] - 0s 18ms/step - loss: 3.0276 - val_loss: 3.1435\n",
      "Epoch 50/100\n",
      "3/3 [==============================] - 0s 18ms/step - loss: 3.0919 - val_loss: 3.1323\n",
      "Epoch 51/100\n",
      "3/3 [==============================] - 0s 18ms/step - loss: 3.1006 - val_loss: 2.8657\n",
      "Epoch 52/100\n",
      "3/3 [==============================] - 0s 21ms/step - loss: 3.1450 - val_loss: 3.0117\n",
      "Epoch 53/100\n",
      "3/3 [==============================] - 0s 15ms/step - loss: 3.1758 - val_loss: 3.4183\n",
      "Epoch 54/100\n",
      "3/3 [==============================] - 0s 23ms/step - loss: 3.3650 - val_loss: 3.6275\n",
      "Epoch 55/100\n",
      "3/3 [==============================] - 0s 20ms/step - loss: 3.3614 - val_loss: 3.2212\n",
      "Epoch 56/100\n",
      "3/3 [==============================] - 0s 32ms/step - loss: 3.3003 - val_loss: 2.9503\n",
      "Epoch 57/100\n",
      "3/3 [==============================] - 0s 18ms/step - loss: 3.0475 - val_loss: 2.7374\n",
      "Epoch 58/100\n",
      "3/3 [==============================] - 0s 17ms/step - loss: 2.8254 - val_loss: 3.0881\n",
      "Epoch 59/100\n",
      "3/3 [==============================] - 0s 21ms/step - loss: 2.8308 - val_loss: 2.9762\n",
      "Epoch 60/100\n",
      "3/3 [==============================] - 0s 25ms/step - loss: 2.8172 - val_loss: 2.7783\n",
      "Epoch 61/100\n",
      "3/3 [==============================] - 0s 17ms/step - loss: 2.8284 - val_loss: 2.6931\n",
      "Epoch 62/100\n",
      "3/3 [==============================] - 0s 19ms/step - loss: 2.8339 - val_loss: 2.8563\n",
      "Epoch 63/100\n",
      "3/3 [==============================] - 0s 17ms/step - loss: 2.8113 - val_loss: 2.9211\n",
      "Epoch 64/100\n",
      "3/3 [==============================] - 0s 23ms/step - loss: 2.7427 - val_loss: 2.7002\n",
      "Epoch 65/100\n",
      "3/3 [==============================] - 0s 19ms/step - loss: 2.8226 - val_loss: 2.6143\n",
      "Epoch 66/100\n",
      "3/3 [==============================] - 0s 18ms/step - loss: 2.8741 - val_loss: 3.0885\n",
      "Epoch 67/100\n",
      "3/3 [==============================] - 0s 18ms/step - loss: 3.0388 - val_loss: 3.1546\n",
      "Epoch 68/100\n",
      "3/3 [==============================] - 0s 18ms/step - loss: 2.9228 - val_loss: 2.5547\n",
      "Epoch 69/100\n",
      "3/3 [==============================] - 0s 18ms/step - loss: 2.9786 - val_loss: 2.6676\n",
      "Epoch 70/100\n",
      "3/3 [==============================] - 0s 18ms/step - loss: 2.8221 - val_loss: 2.8505\n",
      "Epoch 71/100\n",
      "3/3 [==============================] - 0s 18ms/step - loss: 2.7464 - val_loss: 2.7763\n",
      "Epoch 72/100\n",
      "3/3 [==============================] - 0s 21ms/step - loss: 2.7938 - val_loss: 2.5925\n",
      "Epoch 73/100\n",
      "3/3 [==============================] - 0s 19ms/step - loss: 2.5981 - val_loss: 2.6163\n",
      "Epoch 74/100\n",
      "3/3 [==============================] - 0s 17ms/step - loss: 2.6431 - val_loss: 2.6576\n",
      "Epoch 75/100\n",
      "3/3 [==============================] - 0s 18ms/step - loss: 2.7340 - val_loss: 2.7717\n",
      "Epoch 76/100\n",
      "3/3 [==============================] - 0s 26ms/step - loss: 2.6416 - val_loss: 2.6330\n",
      "Epoch 77/100\n",
      "3/3 [==============================] - 0s 22ms/step - loss: 2.6499 - val_loss: 2.6357\n",
      "Epoch 78/100\n",
      "3/3 [==============================] - 0s 23ms/step - loss: 2.6843 - val_loss: 2.6650\n",
      "Epoch 79/100\n",
      "3/3 [==============================] - 0s 15ms/step - loss: 2.7566 - val_loss: 2.8550\n",
      "Epoch 80/100\n",
      "3/3 [==============================] - 0s 19ms/step - loss: 2.6676 - val_loss: 2.6747\n",
      "Epoch 81/100\n"
     ]
    },
    {
     "name": "stdout",
     "output_type": "stream",
     "text": [
      "3/3 [==============================] - 0s 22ms/step - loss: 2.7016 - val_loss: 2.6067\n",
      "Epoch 82/100\n",
      "3/3 [==============================] - 0s 14ms/step - loss: 2.6004 - val_loss: 2.7625\n",
      "Epoch 83/100\n",
      "3/3 [==============================] - 0s 23ms/step - loss: 2.7270 - val_loss: 2.6811\n",
      "Epoch 84/100\n",
      "3/3 [==============================] - 0s 14ms/step - loss: 2.7109 - val_loss: 2.6690\n",
      "Epoch 85/100\n",
      "3/3 [==============================] - 0s 20ms/step - loss: 2.7709 - val_loss: 2.6400\n",
      "Epoch 86/100\n",
      "3/3 [==============================] - 0s 22ms/step - loss: 2.6387 - val_loss: 2.8887\n",
      "Epoch 87/100\n",
      "3/3 [==============================] - 0s 14ms/step - loss: 2.7306 - val_loss: 2.7871\n",
      "Epoch 88/100\n",
      "3/3 [==============================] - 0s 22ms/step - loss: 2.7413 - val_loss: 2.7192\n",
      "Epoch 89/100\n",
      "3/3 [==============================] - 0s 15ms/step - loss: 2.7397 - val_loss: 2.8991\n",
      "Epoch 90/100\n",
      "3/3 [==============================] - 0s 18ms/step - loss: 2.9028 - val_loss: 2.9020\n",
      "Epoch 91/100\n",
      "3/3 [==============================] - 0s 18ms/step - loss: 2.7617 - val_loss: 3.0004\n",
      "Epoch 92/100\n",
      "3/3 [==============================] - 0s 18ms/step - loss: 2.8213 - val_loss: 2.6340\n",
      "Epoch 93/100\n",
      "3/3 [==============================] - 0s 18ms/step - loss: 2.6174 - val_loss: 2.6920\n",
      "Epoch 94/100\n",
      "3/3 [==============================] - 0s 22ms/step - loss: 2.6924 - val_loss: 2.8039\n",
      "Epoch 95/100\n",
      "3/3 [==============================] - 0s 21ms/step - loss: 2.7422 - val_loss: 2.6137\n",
      "Epoch 96/100\n",
      "3/3 [==============================] - 0s 16ms/step - loss: 2.5877 - val_loss: 2.7139\n",
      "Epoch 97/100\n",
      "3/3 [==============================] - 0s 18ms/step - loss: 2.6288 - val_loss: 2.7196\n",
      "Epoch 98/100\n",
      "3/3 [==============================] - 0s 18ms/step - loss: 2.7153 - val_loss: 2.6536\n",
      "Epoch 99/100\n",
      "3/3 [==============================] - 0s 19ms/step - loss: 2.6845 - val_loss: 2.8654\n",
      "Epoch 100/100\n",
      "3/3 [==============================] - 0s 14ms/step - loss: 2.9088 - val_loss: 2.8898\n"
     ]
    }
   ],
   "source": [
    "history = model.fit(X_train, y_train, epochs=100,\n",
    "                    validation_data=(X_valid, y_valid))"
   ]
  },
  {
   "cell_type": "code",
   "execution_count": 56,
   "id": "e7fa5656",
   "metadata": {
    "scrolled": false
   },
   "outputs": [
    {
     "name": "stdout",
     "output_type": "stream",
     "text": [
      "Saving figure grid_quantile_training_curve\n"
     ]
    },
    {
     "data": {
      "image/png": "[encoded data removed]",
      "text/plain": [
       "<Figure size 576x360 with 1 Axes>"
      ]
     },
     "metadata": {
      "needs_background": "light"
     },
     "output_type": "display_data"
    }
   ],
   "source": [
    "import pandas as pd\n",
    "\n",
    "pd.DataFrame(history.history).plot(figsize=(8, 5))\n",
    "plt.grid(True)\n",
    "# plt.gca().set_ylim(0, 1)\n",
    "save_fig(\"grid_quantile_training_curve\")\n",
    "plt.show()"
   ]
  },
  {
   "cell_type": "markdown",
   "id": "a4a59dd6",
   "metadata": {},
   "source": [
    "### Draw the mean prediction curve averaged from all quantile predictions."
   ]
  },
  {
   "cell_type": "code",
   "execution_count": 57,
   "id": "0e5d0058",
   "metadata": {},
   "outputs": [
    {
     "name": "stdout",
     "output_type": "stream",
     "text": [
      "X.shape = (None, 1)\n",
      "gauss_grid.shape = (None, 5)\n",
      "Saving figure grid_quantile_prediction\n"
     ]
    },
    {
     "data": {
      "image/png": "[encoded data removed]",
      "text/plain": [
       "<Figure size 432x288 with 1 Axes>"
      ]
     },
     "metadata": {
      "needs_background": "light"
     },
     "output_type": "display_data"
    }
   ],
   "source": [
    "# plt.plot(X_train, y_train, \"b.\")\n",
    "draw_points(X_train, y_train, sid_train)\n",
    "draw_func((lambda X: np.average(model.predict(X), axis=-1) ), mark='r-', linewidth=2, label=\"Predictions\")\n",
    "# draw_func((lambda X: model.predict(X)[:,0] ), mark='k--', linewidth=1, label=\"$y_{%d}$\" % (quantile_list[0]*100))\n",
    "# draw_func((lambda X: model.predict(X)[:,-1] ), mark='k--', linewidth=1, label=\"$y_{%d}$\" % (quantile_list[-1]*100))\n",
    "draw_normal_func(func_dict)\n",
    "plt.xlabel(\"$x_1$\", fontsize=18)\n",
    "plt.ylabel(\"$y$\", rotation=0, fontsize=18)\n",
    "plt.legend(loc=\"upper left\", fontsize=14)\n",
    "# plt.axis([-3, 3, 0, 10])\n",
    "save_fig(\"grid_quantile_prediction\")\n",
    "plt.show()"
   ]
  },
  {
   "cell_type": "code",
   "execution_count": 58,
   "id": "f98d3ae8",
   "metadata": {},
   "outputs": [
    {
     "name": "stdout",
     "output_type": "stream",
     "text": [
      "y_func.shape = (100, 1)\n",
      "y_gt.shape = (100, 1)\n"
     ]
    },
    {
     "data": {
      "text/plain": [
       "2.9326726252378688"
      ]
     },
     "execution_count": 58,
     "metadata": {},
     "output_type": "execute_result"
    }
   ],
   "source": [
    "get_prediction_error((lambda X: np.average(model.predict(X), axis=-1) ), func_dict, name=\"grid-quantileR\")"
   ]
  },
  {
   "cell_type": "markdown",
   "id": "f79ac920",
   "metadata": {},
   "source": [
    "### Draw first and last quantile curve."
   ]
  },
  {
   "cell_type": "code",
   "execution_count": 59,
   "id": "42eeb254",
   "metadata": {},
   "outputs": [
    {
     "name": "stdout",
     "output_type": "stream",
     "text": [
      "Saving figure grid_quantile_boundary_quantiles\n"
     ]
    },
    {
     "data": {
      "image/png": "[encoded data removed]",
      "text/plain": [
       "<Figure size 432x288 with 1 Axes>"
      ]
     },
     "metadata": {
      "needs_background": "light"
     },
     "output_type": "display_data"
    }
   ],
   "source": [
    "# plt.plot(X_train, y_train, \"b.\")\n",
    "draw_points(X_train, y_train, sid_train)\n",
    "draw_func((lambda X: np.average(model.predict(X), axis=-1) ), mark='r-', linewidth=2, label=\"Predictions\")\n",
    "draw_func((lambda X: model.predict(X)[:,0] ), mark='k--', linewidth=1, label=\"$y_{%d}$\" % (quantile_list[0]*100))\n",
    "draw_func((lambda X: model.predict(X)[:,-1] ), mark='k--', linewidth=1, label=\"$y_{%d}$\" % (quantile_list[-1]*100))\n",
    "draw_normal_func(func_dict)\n",
    "plt.xlabel(\"$x_1$\", fontsize=18)\n",
    "plt.ylabel(\"$y$\", rotation=0, fontsize=18)\n",
    "plt.legend(loc=\"upper left\", fontsize=14)\n",
    "# plt.axis([-3, 3, 0, 10])\n",
    "save_fig(\"grid_quantile_boundary_quantiles\")\n",
    "plt.show()"
   ]
  },
  {
   "cell_type": "markdown",
   "id": "2a1b1b44",
   "metadata": {},
   "source": [
    "### Draw all quantile predictions"
   ]
  },
  {
   "cell_type": "code",
   "execution_count": 60,
   "id": "5e875238",
   "metadata": {},
   "outputs": [
    {
     "name": "stdout",
     "output_type": "stream",
     "text": [
      "Saving figure grid_quantile_all_quantiles\n"
     ]
    },
    {
     "data": {
      "image/png": "[encoded data removed]",
      "text/plain": [
       "<Figure size 432x288 with 1 Axes>"
      ]
     },
     "metadata": {
      "needs_background": "light"
     },
     "output_type": "display_data"
    }
   ],
   "source": [
    "# plt.plot(X_train, y_train, \"b.\")\n",
    "draw_points(X_train, y_train, sid_train)\n",
    "draw_func((lambda X: np.average(model.predict(X), axis=-1) ), mark='r-', linewidth=2, label=\"Predictions\")\n",
    "for _idx, _tau in enumerate(quantile_list):\n",
    "    draw_func((lambda X: model.predict(X)[:,_idx] ), mark='k--', linewidth=1, label=\"$y_{%d}$\" % (_tau*100))\n",
    "draw_normal_func(func_dict)\n",
    "plt.xlabel(\"$x_1$\", fontsize=18)\n",
    "plt.ylabel(\"$y$\", rotation=0, fontsize=18)\n",
    "plt.legend(loc=\"upper left\", fontsize=14)\n",
    "# plt.axis([-3, 3, 0, 10])\n",
    "save_fig(\"grid_quantile_all_quantiles\")\n",
    "plt.show()"
   ]
  },
  {
   "cell_type": "markdown",
   "id": "0693a8eb",
   "metadata": {},
   "source": [
    "### Multi-Quantiles as a Gaussian Distribution "
   ]
  },
  {
   "cell_type": "code",
   "execution_count": 61,
   "id": "11262fbe",
   "metadata": {},
   "outputs": [],
   "source": [
    "# def n_sigma_boundary_line(X, n):\n",
    "#     _y = model.predict(X)\n",
    "#     _mean = np.mean(_y, axis=-1)\n",
    "#     _sigma = np.std(_y, axis=-1)\n",
    "#     return( _mean + n*_sigma)\n",
    "\n",
    "# # plt.plot(X_train, y_train, \"b.\")\n",
    "# draw_points(X_train, y_train, sid_train)\n",
    "# #\n",
    "# draw_func((lambda X: np.average(model.predict(X), axis=-1) ), mark='r-', linewidth=2, label=\"Predictions\")\n",
    "# draw_func((lambda X: n_sigma_boundary_line(X, +1.0) ), mark='k--', linewidth=1, label=\"$\\mu+\\sigma$\")\n",
    "# draw_func((lambda X: n_sigma_boundary_line(X, -1.0) ), mark='k--', linewidth=1, label=\"$\\mu-\\sigma$\")\n",
    "# #\n",
    "# draw_normal_func(func_dict)\n",
    "# plt.xlabel(\"$x_1$\", fontsize=18)\n",
    "# plt.ylabel(\"$y$\", rotation=0, fontsize=18)\n",
    "# plt.legend(loc=\"upper left\", fontsize=14)\n",
    "# # plt.axis([-3, 3, 0, 10])\n",
    "# save_fig(\"grid_quantile_1sigma\")\n",
    "# plt.show()"
   ]
  },
  {
   "cell_type": "markdown",
   "id": "9a01aa69",
   "metadata": {},
   "source": [
    "## Gaussian Estimation with Gaussian Loss (grid-->parameters)\n",
    "\n",
    "Gaussain estimation requires the model to predict the mean and variance of a Gaussian distribution of the random variable regarded. The training purpose is to fit a Gaussian distribution to the data distribution (which is not necessay distributed as Gaussian).\n",
    "\n",
    "One possible solution, derived by BensonHuang, is that the model estimates $(\\mu, z)$, where $z=\\alpha ^{-1}log(\\sigma)$.\n",
    "The associated loss function can be $L_G(y, (\\mu,z)) = 0.5e^{-2\\alpha z}(y-\\mu)^2 + \\alpha z$."
   ]
  },
  {
   "cell_type": "code",
   "execution_count": 62,
   "id": "1a20d5dd",
   "metadata": {},
   "outputs": [],
   "source": [
    "alpha = 1.0\n",
    "# alpha = 0.01\n",
    "# alpha = 0.001"
   ]
  },
  {
   "cell_type": "code",
   "execution_count": 63,
   "id": "cb202ed2",
   "metadata": {},
   "outputs": [
    {
     "name": "stdout",
     "output_type": "stream",
     "text": [
      "X.shape = (None, 1)\n",
      "gauss_grid.shape = (None, 5)\n"
     ]
    }
   ],
   "source": [
    "model = keras.models.Sequential([\n",
    "    num2grid(5,x_min=-10, x_max=10, sigma=3.0, input_shape=X_train.shape[1:]),\n",
    "#     keras.layers.Dense(30, activation=\"relu\"),\n",
    "    keras.layers.Dense(60, activation=\"relu\"),\n",
    "#     keras.layers.Dense(30, activation=keras.layers.LeakyReLU(alpha=0.2) ),\n",
    "#     keras.layers.Dense(30, activation=\"selu\"),\n",
    "    keras.layers.Dense(2) # (mu, z)\n",
    "])"
   ]
  },
  {
   "cell_type": "code",
   "execution_count": 64,
   "id": "925f0a22",
   "metadata": {},
   "outputs": [
    {
     "name": "stdout",
     "output_type": "stream",
     "text": [
      "alpha = 1.000000\n"
     ]
    }
   ],
   "source": [
    "# Customized loss function\n",
    "print(\"alpha = %f\" % alpha)\n",
    "\n",
    "def GaussianLoss_fn(y_true, y_pred):\n",
    "    # y_true: label \n",
    "    # y_pred: (mu, z), z=log(sigma)\n",
    "    mu = y_pred[:, 0:1]\n",
    "    z  = y_pred[:, 1:2]\n",
    "    #\n",
    "    en2z = tf.math.exp((-2.0*alpha)*z)\n",
    "    ymu2 = (y_true - mu)**2\n",
    "    return (0.5*en2z*ymu2 + alpha*z)"
   ]
  },
  {
   "cell_type": "code",
   "execution_count": 65,
   "id": "1b388b4b",
   "metadata": {},
   "outputs": [],
   "source": [
    "# Learning rate scheduler\n",
    "learning_rate_switch_epoch_list = [30, 45]\n",
    "learning_rate_list = [0.001, 0.01, 0.1]\n",
    "# learning_rate_switch_epoch_list = [30, 80]\n",
    "# learning_rate_list = [0.01, 0.1, 0.01]\n",
    "#\n",
    "def piecewise_constant_fn(epoch):\n",
    "    for _i, epoch_s in enumerate(learning_rate_switch_epoch_list):\n",
    "        if epoch < epoch_s:\n",
    "            return learning_rate_list[_i]\n",
    "    return learning_rate_list[-1]\n",
    "\n",
    "lr_scheduler = keras.callbacks.LearningRateScheduler(piecewise_constant_fn)"
   ]
  },
  {
   "cell_type": "markdown",
   "id": "6ec2e05e",
   "metadata": {},
   "source": [
    "Third training with even greater speed"
   ]
  },
  {
   "cell_type": "code",
   "execution_count": 66,
   "id": "7a7e245b",
   "metadata": {},
   "outputs": [
    {
     "name": "stderr",
     "output_type": "stream",
     "text": [
      "C:\\Users\\benso\\anaconda3\\envs\\ml\\lib\\site-packages\\keras\\optimizer_v2\\adam.py:105: UserWarning: The `lr` argument is deprecated, use `learning_rate` instead.\n",
      "  super(Adam, self).__init__(name, **kwargs)\n"
     ]
    }
   ],
   "source": [
    "# optimizer = keras.optimizers.SGD(lr=0.1, momentum=0.9)\n",
    "optimizer = keras.optimizers.Adam(lr=0.1) # 0.1\n",
    "model.compile(loss=GaussianLoss_fn, optimizer=optimizer)"
   ]
  },
  {
   "cell_type": "code",
   "execution_count": 67,
   "id": "6d7b74a9",
   "metadata": {
    "scrolled": true
   },
   "outputs": [
    {
     "name": "stdout",
     "output_type": "stream",
     "text": [
      "Epoch 1/200\n",
      "X.shape = (None, 1)\n",
      "gauss_grid.shape = (None, 5)\n",
      "X.shape = (None, 1)\n",
      "gauss_grid.shape = (None, 5)\n",
      "1/3 [=========>....................] - ETA: 0s - loss: 895.8607X.shape = (None, 1)\n",
      "gauss_grid.shape = (None, 5)\n",
      "3/3 [==============================] - 1s 81ms/step - loss: 371.1442 - val_loss: 5.5742\n",
      "Epoch 2/200\n",
      "3/3 [==============================] - 0s 17ms/step - loss: 7.1041 - val_loss: 10.8357\n",
      "Epoch 3/200\n",
      "3/3 [==============================] - 0s 41ms/step - loss: 12.0127 - val_loss: 14.8847\n",
      "Epoch 4/200\n",
      "3/3 [==============================] - 0s 32ms/step - loss: 15.6825 - val_loss: 17.7507\n",
      "Epoch 5/200\n",
      "3/3 [==============================] - 0s 34ms/step - loss: 18.2379 - val_loss: 19.6382\n",
      "Epoch 6/200\n",
      "3/3 [==============================] - 0s 28ms/step - loss: 19.9129 - val_loss: 20.7371\n",
      "Epoch 7/200\n",
      "3/3 [==============================] - 0s 29ms/step - loss: 20.8810 - val_loss: 21.1774\n",
      "Epoch 8/200\n",
      "3/3 [==============================] - 0s 36ms/step - loss: 21.2708 - val_loss: 21.1180\n",
      "Epoch 9/200\n",
      "3/3 [==============================] - 0s 33ms/step - loss: 21.2103 - val_loss: 20.6726\n",
      "Epoch 10/200\n",
      "3/3 [==============================] - 0s 25ms/step - loss: 20.7804 - val_loss: 19.9421\n",
      "Epoch 11/200\n",
      "3/3 [==============================] - 0s 14ms/step - loss: 20.1146 - val_loss: 19.0274\n",
      "Epoch 12/200\n",
      "3/3 [==============================] - 0s 24ms/step - loss: 19.2626 - val_loss: 18.0028\n",
      "Epoch 13/200\n",
      "3/3 [==============================] - 0s 18ms/step - loss: 18.3018 - val_loss: 16.9091\n",
      "Epoch 14/200\n",
      "3/3 [==============================] - 0s 17ms/step - loss: 17.3296 - val_loss: 15.7757\n",
      "Epoch 15/200\n",
      "3/3 [==============================] - 0s 18ms/step - loss: 16.2962 - val_loss: 14.6293\n",
      "Epoch 16/200\n",
      "3/3 [==============================] - 0s 24ms/step - loss: 15.2775 - val_loss: 13.5234\n",
      "Epoch 17/200\n",
      "3/3 [==============================] - 0s 14ms/step - loss: 14.3057 - val_loss: 12.4906\n",
      "Epoch 18/200\n",
      "3/3 [==============================] - 0s 18ms/step - loss: 13.4109 - val_loss: 11.5221\n",
      "Epoch 19/200\n",
      "3/3 [==============================] - 0s 17ms/step - loss: 12.5649 - val_loss: 10.5954\n",
      "Epoch 20/200\n",
      "3/3 [==============================] - 0s 17ms/step - loss: 11.7453 - val_loss: 9.6875\n",
      "Epoch 21/200\n",
      "3/3 [==============================] - 0s 21ms/step - loss: 10.9188 - val_loss: 8.7968\n",
      "Epoch 22/200\n",
      "3/3 [==============================] - 0s 20ms/step - loss: 10.1206 - val_loss: 7.9109\n",
      "Epoch 23/200\n",
      "3/3 [==============================] - 0s 24ms/step - loss: 9.3210 - val_loss: 7.0688\n",
      "Epoch 24/200\n",
      "3/3 [==============================] - 0s 18ms/step - loss: 8.5829 - val_loss: 6.4234\n",
      "Epoch 25/200\n",
      "3/3 [==============================] - 0s 18ms/step - loss: 8.1388 - val_loss: 6.4818\n",
      "Epoch 26/200\n",
      "3/3 [==============================] - 0s 18ms/step - loss: 8.0005 - val_loss: 6.2869\n",
      "Epoch 27/200\n",
      "3/3 [==============================] - 0s 18ms/step - loss: 7.6362 - val_loss: 5.8729\n",
      "Epoch 28/200\n",
      "3/3 [==============================] - 0s 18ms/step - loss: 7.2525 - val_loss: 5.6962\n",
      "Epoch 29/200\n",
      "3/3 [==============================] - 0s 19ms/step - loss: 7.0009 - val_loss: 5.5547\n",
      "Epoch 30/200\n",
      "3/3 [==============================] - 0s 24ms/step - loss: 6.7505 - val_loss: 5.3642\n",
      "Epoch 31/200\n",
      "3/3 [==============================] - 0s 22ms/step - loss: 6.4708 - val_loss: 5.1445\n",
      "Epoch 32/200\n",
      "3/3 [==============================] - 0s 23ms/step - loss: 6.1757 - val_loss: 4.9600\n",
      "Epoch 33/200\n",
      "3/3 [==============================] - 0s 20ms/step - loss: 5.8659 - val_loss: 4.8062\n",
      "Epoch 34/200\n",
      "3/3 [==============================] - 0s 20ms/step - loss: 5.6274 - val_loss: 4.6519\n",
      "Epoch 35/200\n",
      "3/3 [==============================] - 0s 26ms/step - loss: 5.3354 - val_loss: 4.4400\n",
      "Epoch 36/200\n",
      "3/3 [==============================] - 0s 19ms/step - loss: 5.0475 - val_loss: 4.2563\n",
      "Epoch 37/200\n",
      "3/3 [==============================] - 0s 18ms/step - loss: 4.7893 - val_loss: 4.0891\n",
      "Epoch 38/200\n",
      "3/3 [==============================] - 0s 21ms/step - loss: 4.5271 - val_loss: 3.9501\n",
      "Epoch 39/200\n",
      "3/3 [==============================] - 0s 22ms/step - loss: 4.3000 - val_loss: 3.8573\n",
      "Epoch 40/200\n",
      "3/3 [==============================] - 0s 22ms/step - loss: 4.1256 - val_loss: 3.8235\n",
      "Epoch 41/200\n",
      "3/3 [==============================] - 0s 23ms/step - loss: 4.0588 - val_loss: 3.7957\n",
      "Epoch 42/200\n",
      "3/3 [==============================] - 0s 22ms/step - loss: 4.0664 - val_loss: 3.7787\n",
      "Epoch 43/200\n",
      "3/3 [==============================] - 0s 27ms/step - loss: 4.0825 - val_loss: 3.7659\n",
      "Epoch 44/200\n",
      "3/3 [==============================] - 0s 21ms/step - loss: 4.0718 - val_loss: 3.7693\n",
      "Epoch 45/200\n",
      "3/3 [==============================] - 0s 21ms/step - loss: 4.0582 - val_loss: 3.7671\n",
      "Epoch 46/200\n",
      "3/3 [==============================] - 0s 24ms/step - loss: 4.0435 - val_loss: 3.7405\n",
      "Epoch 47/200\n",
      "3/3 [==============================] - 0s 25ms/step - loss: 4.0159 - val_loss: 3.7140\n",
      "Epoch 48/200\n",
      "3/3 [==============================] - 0s 18ms/step - loss: 3.9830 - val_loss: 3.7216\n",
      "Epoch 49/200\n",
      "3/3 [==============================] - 0s 18ms/step - loss: 3.9757 - val_loss: 3.7486\n",
      "Epoch 50/200\n",
      "3/3 [==============================] - 0s 25ms/step - loss: 3.9743 - val_loss: 3.7499\n",
      "Epoch 51/200\n",
      "3/3 [==============================] - 0s 23ms/step - loss: 3.9668 - val_loss: 3.7310\n",
      "Epoch 52/200\n",
      "3/3 [==============================] - 0s 23ms/step - loss: 3.9536 - val_loss: 3.7079\n",
      "Epoch 53/200\n",
      "3/3 [==============================] - 0s 30ms/step - loss: 3.9445 - val_loss: 3.6930\n",
      "Epoch 54/200\n",
      "3/3 [==============================] - 0s 21ms/step - loss: 3.9386 - val_loss: 3.6850\n",
      "Epoch 55/200\n",
      "3/3 [==============================] - 0s 18ms/step - loss: 3.9302 - val_loss: 3.6790\n",
      "Epoch 56/200\n",
      "3/3 [==============================] - 0s 25ms/step - loss: 3.9199 - val_loss: 3.6790\n",
      "Epoch 57/200\n",
      "3/3 [==============================] - 0s 20ms/step - loss: 3.9134 - val_loss: 3.6798\n",
      "Epoch 58/200\n",
      "3/3 [==============================] - 0s 15ms/step - loss: 3.9077 - val_loss: 3.6709\n",
      "Epoch 59/200\n",
      "3/3 [==============================] - 0s 25ms/step - loss: 3.8972 - val_loss: 3.6631\n",
      "Epoch 60/200\n",
      "3/3 [==============================] - 0s 26ms/step - loss: 3.8875 - val_loss: 3.6567\n",
      "Epoch 61/200\n",
      "3/3 [==============================] - 0s 25ms/step - loss: 3.8775 - val_loss: 3.6539\n",
      "Epoch 62/200\n",
      "3/3 [==============================] - 0s 21ms/step - loss: 3.8703 - val_loss: 3.6457\n",
      "Epoch 63/200\n",
      "3/3 [==============================] - 0s 22ms/step - loss: 3.8595 - val_loss: 3.6439\n",
      "Epoch 64/200\n",
      "3/3 [==============================] - 0s 27ms/step - loss: 3.8501 - val_loss: 3.6418\n",
      "Epoch 65/200\n",
      "3/3 [==============================] - 0s 28ms/step - loss: 3.8390 - val_loss: 3.6317\n",
      "Epoch 66/200\n",
      "3/3 [==============================] - 0s 27ms/step - loss: 3.8281 - val_loss: 3.6200\n",
      "Epoch 67/200\n",
      "3/3 [==============================] - 0s 30ms/step - loss: 3.8179 - val_loss: 3.6074\n",
      "Epoch 68/200\n",
      "3/3 [==============================] - 0s 30ms/step - loss: 3.8067 - val_loss: 3.5986\n",
      "Epoch 69/200\n",
      "3/3 [==============================] - 0s 31ms/step - loss: 3.7948 - val_loss: 3.5917\n",
      "Epoch 70/200\n",
      "3/3 [==============================] - 0s 21ms/step - loss: 3.7832 - val_loss: 3.5866\n",
      "Epoch 71/200\n",
      "3/3 [==============================] - 0s 31ms/step - loss: 3.7693 - val_loss: 3.5797\n",
      "Epoch 72/200\n",
      "3/3 [==============================] - 0s 17ms/step - loss: 3.7553 - val_loss: 3.5675\n",
      "Epoch 73/200\n",
      "3/3 [==============================] - 0s 26ms/step - loss: 3.7422 - val_loss: 3.5590\n",
      "Epoch 74/200\n",
      "3/3 [==============================] - 0s 20ms/step - loss: 3.7273 - val_loss: 3.5555\n",
      "Epoch 75/200\n",
      "3/3 [==============================] - 0s 14ms/step - loss: 3.7108 - val_loss: 3.5521\n",
      "Epoch 76/200\n",
      "3/3 [==============================] - 0s 24ms/step - loss: 3.6938 - val_loss: 3.5391\n",
      "Epoch 77/200\n",
      "3/3 [==============================] - 0s 25ms/step - loss: 3.6754 - val_loss: 3.5281\n",
      "Epoch 78/200\n",
      "3/3 [==============================] - 0s 28ms/step - loss: 3.6571 - val_loss: 3.5123\n",
      "Epoch 79/200\n",
      "3/3 [==============================] - 0s 27ms/step - loss: 3.6377 - val_loss: 3.4972\n",
      "Epoch 80/200\n",
      "3/3 [==============================] - 0s 20ms/step - loss: 3.6183 - val_loss: 3.4860\n",
      "Epoch 81/200\n"
     ]
    },
    {
     "name": "stdout",
     "output_type": "stream",
     "text": [
      "3/3 [==============================] - 0s 19ms/step - loss: 3.5953 - val_loss: 3.4725\n",
      "Epoch 82/200\n",
      "3/3 [==============================] - 0s 13ms/step - loss: 3.5740 - val_loss: 3.4632\n",
      "Epoch 83/200\n",
      "3/3 [==============================] - 0s 22ms/step - loss: 3.5498 - val_loss: 3.4455\n",
      "Epoch 84/200\n",
      "3/3 [==============================] - 0s 18ms/step - loss: 3.5249 - val_loss: 3.4227\n",
      "Epoch 85/200\n",
      "3/3 [==============================] - 0s 18ms/step - loss: 3.5025 - val_loss: 3.4048\n",
      "Epoch 86/200\n",
      "3/3 [==============================] - 0s 17ms/step - loss: 3.4740 - val_loss: 3.3882\n",
      "Epoch 87/200\n",
      "3/3 [==============================] - 0s 22ms/step - loss: 3.4448 - val_loss: 3.3746\n",
      "Epoch 88/200\n",
      "3/3 [==============================] - 0s 18ms/step - loss: 3.4196 - val_loss: 3.3619\n",
      "Epoch 89/200\n",
      "3/3 [==============================] - 0s 16ms/step - loss: 3.3947 - val_loss: 3.3483\n",
      "Epoch 90/200\n",
      "3/3 [==============================] - 0s 17ms/step - loss: 3.3708 - val_loss: 3.3276\n",
      "Epoch 91/200\n",
      "3/3 [==============================] - 0s 23ms/step - loss: 3.3357 - val_loss: 3.2934\n",
      "Epoch 92/200\n",
      "3/3 [==============================] - 0s 13ms/step - loss: 3.3136 - val_loss: 3.2739\n",
      "Epoch 93/200\n",
      "3/3 [==============================] - 0s 22ms/step - loss: 3.2914 - val_loss: 3.2612\n",
      "Epoch 94/200\n",
      "3/3 [==============================] - 0s 18ms/step - loss: 3.2730 - val_loss: 3.2478\n",
      "Epoch 95/200\n",
      "3/3 [==============================] - 0s 17ms/step - loss: 3.2619 - val_loss: 3.2349\n",
      "Epoch 96/200\n",
      "3/3 [==============================] - 0s 23ms/step - loss: 3.2555 - val_loss: 3.2228\n",
      "Epoch 97/200\n",
      "3/3 [==============================] - 0s 19ms/step - loss: 3.2433 - val_loss: 3.2361\n",
      "Epoch 98/200\n",
      "3/3 [==============================] - 0s 19ms/step - loss: 3.2361 - val_loss: 3.2452\n",
      "Epoch 99/200\n",
      "3/3 [==============================] - 0s 17ms/step - loss: 3.2273 - val_loss: 3.2451\n",
      "Epoch 100/200\n",
      "3/3 [==============================] - 0s 20ms/step - loss: 3.2270 - val_loss: 3.2495\n",
      "Epoch 101/200\n",
      "3/3 [==============================] - 0s 16ms/step - loss: 3.2241 - val_loss: 3.2342\n",
      "Epoch 102/200\n",
      "3/3 [==============================] - 0s 18ms/step - loss: 3.2204 - val_loss: 3.2321\n",
      "Epoch 103/200\n",
      "3/3 [==============================] - 0s 23ms/step - loss: 3.2112 - val_loss: 3.1971\n",
      "Epoch 104/200\n",
      "3/3 [==============================] - 0s 14ms/step - loss: 3.2064 - val_loss: 3.1779\n",
      "Epoch 105/200\n",
      "3/3 [==============================] - 0s 18ms/step - loss: 3.2091 - val_loss: 3.1816\n",
      "Epoch 106/200\n",
      "3/3 [==============================] - 0s 23ms/step - loss: 3.1994 - val_loss: 3.2022\n",
      "Epoch 107/200\n",
      "3/3 [==============================] - 0s 14ms/step - loss: 3.1998 - val_loss: 3.2021\n",
      "Epoch 108/200\n",
      "3/3 [==============================] - 0s 22ms/step - loss: 3.1898 - val_loss: 3.1824\n",
      "Epoch 109/200\n",
      "3/3 [==============================] - 0s 13ms/step - loss: 3.1839 - val_loss: 3.1991\n",
      "Epoch 110/200\n",
      "3/3 [==============================] - 0s 22ms/step - loss: 3.1772 - val_loss: 3.1629\n",
      "Epoch 111/200\n",
      "3/3 [==============================] - 0s 17ms/step - loss: 3.1673 - val_loss: 3.1563\n",
      "Epoch 112/200\n",
      "3/3 [==============================] - 0s 17ms/step - loss: 3.1618 - val_loss: 3.1672\n",
      "Epoch 113/200\n",
      "3/3 [==============================] - 0s 19ms/step - loss: 3.1595 - val_loss: 3.1524\n",
      "Epoch 114/200\n",
      "3/3 [==============================] - 0s 25ms/step - loss: 3.1498 - val_loss: 3.1556\n",
      "Epoch 115/200\n",
      "3/3 [==============================] - 0s 13ms/step - loss: 3.1406 - val_loss: 3.1494\n",
      "Epoch 116/200\n",
      "3/3 [==============================] - 0s 22ms/step - loss: 3.1385 - val_loss: 3.1436\n",
      "Epoch 117/200\n",
      "3/3 [==============================] - 0s 13ms/step - loss: 3.1423 - val_loss: 3.1209\n",
      "Epoch 118/200\n",
      "3/3 [==============================] - 0s 21ms/step - loss: 3.1316 - val_loss: 3.1203\n",
      "Epoch 119/200\n",
      "3/3 [==============================] - 0s 26ms/step - loss: 3.1180 - val_loss: 3.1385\n",
      "Epoch 120/200\n",
      "3/3 [==============================] - 0s 18ms/step - loss: 3.1172 - val_loss: 3.1139\n",
      "Epoch 121/200\n",
      "3/3 [==============================] - 0s 18ms/step - loss: 3.1113 - val_loss: 3.0975\n",
      "Epoch 122/200\n",
      "3/3 [==============================] - 0s 24ms/step - loss: 3.0979 - val_loss: 3.1104\n",
      "Epoch 123/200\n",
      "3/3 [==============================] - 0s 18ms/step - loss: 3.0965 - val_loss: 3.0994\n",
      "Epoch 124/200\n",
      "3/3 [==============================] - 0s 18ms/step - loss: 3.0840 - val_loss: 3.1057\n",
      "Epoch 125/200\n",
      "3/3 [==============================] - 0s 22ms/step - loss: 3.0910 - val_loss: 3.1073\n",
      "Epoch 126/200\n",
      "3/3 [==============================] - 0s 16ms/step - loss: 3.0755 - val_loss: 3.0844\n",
      "Epoch 127/200\n",
      "3/3 [==============================] - 0s 20ms/step - loss: 3.0629 - val_loss: 3.0587\n",
      "Epoch 128/200\n",
      "3/3 [==============================] - 0s 21ms/step - loss: 3.0528 - val_loss: 3.0414\n",
      "Epoch 129/200\n",
      "3/3 [==============================] - 0s 22ms/step - loss: 3.0397 - val_loss: 3.0638\n",
      "Epoch 130/200\n",
      "3/3 [==============================] - 0s 17ms/step - loss: 3.0419 - val_loss: 3.0300\n",
      "Epoch 131/200\n",
      "3/3 [==============================] - 0s 19ms/step - loss: 3.0169 - val_loss: 3.0076\n",
      "Epoch 132/200\n",
      "3/3 [==============================] - 0s 17ms/step - loss: 3.0523 - val_loss: 2.9911\n",
      "Epoch 133/200\n",
      "3/3 [==============================] - 0s 17ms/step - loss: 3.0060 - val_loss: 3.0858\n",
      "Epoch 134/200\n",
      "3/3 [==============================] - 0s 18ms/step - loss: 3.0539 - val_loss: 3.0528\n",
      "Epoch 135/200\n",
      "3/3 [==============================] - 0s 18ms/step - loss: 3.0131 - val_loss: 2.9878\n",
      "Epoch 136/200\n",
      "3/3 [==============================] - 0s 20ms/step - loss: 2.9925 - val_loss: 2.9630\n",
      "Epoch 137/200\n",
      "3/3 [==============================] - 0s 22ms/step - loss: 2.9710 - val_loss: 2.9735\n",
      "Epoch 138/200\n",
      "3/3 [==============================] - 0s 16ms/step - loss: 2.9606 - val_loss: 2.9747\n",
      "Epoch 139/200\n",
      "3/3 [==============================] - 0s 19ms/step - loss: 2.9646 - val_loss: 2.9191\n",
      "Epoch 140/200\n",
      "3/3 [==============================] - 0s 23ms/step - loss: 2.9322 - val_loss: 2.9190\n",
      "Epoch 141/200\n",
      "3/3 [==============================] - 0s 13ms/step - loss: 2.9263 - val_loss: 2.9551\n",
      "Epoch 142/200\n",
      "3/3 [==============================] - 0s 20ms/step - loss: 2.9157 - val_loss: 2.9368\n",
      "Epoch 143/200\n",
      "3/3 [==============================] - 0s 18ms/step - loss: 2.9053 - val_loss: 2.9222\n",
      "Epoch 144/200\n",
      "3/3 [==============================] - 0s 17ms/step - loss: 2.9021 - val_loss: 2.9079\n",
      "Epoch 145/200\n",
      "3/3 [==============================] - 0s 18ms/step - loss: 2.8542 - val_loss: 2.8918\n",
      "Epoch 146/200\n",
      "3/3 [==============================] - 0s 25ms/step - loss: 2.8491 - val_loss: 2.8667\n",
      "Epoch 147/200\n",
      "3/3 [==============================] - 0s 13ms/step - loss: 2.8284 - val_loss: 2.8508\n",
      "Epoch 148/200\n",
      "3/3 [==============================] - 0s 22ms/step - loss: 2.8183 - val_loss: 2.8507\n",
      "Epoch 149/200\n",
      "3/3 [==============================] - 0s 13ms/step - loss: 2.7982 - val_loss: 2.8374\n",
      "Epoch 150/200\n",
      "3/3 [==============================] - 0s 23ms/step - loss: 2.7950 - val_loss: 2.8322\n",
      "Epoch 151/200\n",
      "3/3 [==============================] - 0s 14ms/step - loss: 2.7616 - val_loss: 2.8549\n",
      "Epoch 152/200\n",
      "3/3 [==============================] - 0s 18ms/step - loss: 2.7549 - val_loss: 2.8241\n",
      "Epoch 153/200\n",
      "3/3 [==============================] - 0s 20ms/step - loss: 2.7268 - val_loss: 2.7986\n",
      "Epoch 154/200\n",
      "3/3 [==============================] - 0s 18ms/step - loss: 2.7265 - val_loss: 2.8049\n",
      "Epoch 155/200\n",
      "3/3 [==============================] - 0s 18ms/step - loss: 2.6806 - val_loss: 2.7704\n",
      "Epoch 156/200\n",
      "3/3 [==============================] - 0s 21ms/step - loss: 2.6900 - val_loss: 2.7682\n",
      "Epoch 157/200\n",
      "3/3 [==============================] - 0s 18ms/step - loss: 2.6815 - val_loss: 2.7701\n",
      "Epoch 158/200\n",
      "3/3 [==============================] - 0s 18ms/step - loss: 2.6435 - val_loss: 2.7557\n",
      "Epoch 159/200\n",
      "3/3 [==============================] - 0s 18ms/step - loss: 2.6613 - val_loss: 2.7993\n",
      "Epoch 160/200\n",
      "3/3 [==============================] - 0s 22ms/step - loss: 2.6345 - val_loss: 2.7624\n",
      "Epoch 161/200\n",
      "3/3 [==============================] - 0s 23ms/step - loss: 2.7372 - val_loss: 2.8479\n",
      "Epoch 162/200\n",
      "3/3 [==============================] - 0s 13ms/step - loss: 2.7233 - val_loss: 2.8175\n",
      "Epoch 163/200\n"
     ]
    },
    {
     "name": "stdout",
     "output_type": "stream",
     "text": [
      "3/3 [==============================] - 0s 20ms/step - loss: 2.6543 - val_loss: 2.7363\n",
      "Epoch 164/200\n",
      "3/3 [==============================] - 0s 21ms/step - loss: 2.6517 - val_loss: 2.7952\n",
      "Epoch 165/200\n",
      "3/3 [==============================] - 0s 18ms/step - loss: 2.6085 - val_loss: 2.6950\n",
      "Epoch 166/200\n",
      "3/3 [==============================] - 0s 17ms/step - loss: 2.6294 - val_loss: 2.7484\n",
      "Epoch 167/200\n",
      "3/3 [==============================] - 0s 18ms/step - loss: 2.6184 - val_loss: 2.7327\n",
      "Epoch 168/200\n",
      "3/3 [==============================] - 0s 22ms/step - loss: 2.5826 - val_loss: 2.6959\n",
      "Epoch 169/200\n",
      "3/3 [==============================] - 0s 21ms/step - loss: 2.5786 - val_loss: 2.8060\n",
      "Epoch 170/200\n",
      "3/3 [==============================] - 0s 19ms/step - loss: 2.8002 - val_loss: 2.8452\n",
      "Epoch 171/200\n",
      "3/3 [==============================] - 0s 17ms/step - loss: 2.6626 - val_loss: 2.7680\n",
      "Epoch 172/200\n",
      "3/3 [==============================] - 0s 16ms/step - loss: 2.6893 - val_loss: 2.7634\n",
      "Epoch 173/200\n",
      "3/3 [==============================] - 0s 18ms/step - loss: 2.6335 - val_loss: 2.7236\n",
      "Epoch 174/200\n",
      "3/3 [==============================] - 0s 22ms/step - loss: 2.5988 - val_loss: 2.6830\n",
      "Epoch 175/200\n",
      "3/3 [==============================] - 0s 17ms/step - loss: 2.5945 - val_loss: 2.7489\n",
      "Epoch 176/200\n",
      "3/3 [==============================] - 0s 20ms/step - loss: 2.6241 - val_loss: 2.6755\n",
      "Epoch 177/200\n",
      "3/3 [==============================] - 0s 16ms/step - loss: 2.5805 - val_loss: 2.6999\n",
      "Epoch 178/200\n",
      "3/3 [==============================] - 0s 31ms/step - loss: 2.5755 - val_loss: 2.6930\n",
      "Epoch 179/200\n",
      "3/3 [==============================] - 0s 52ms/step - loss: 2.5722 - val_loss: 2.6921\n",
      "Epoch 180/200\n",
      "3/3 [==============================] - 0s 66ms/step - loss: 2.5673 - val_loss: 2.7213\n",
      "Epoch 181/200\n",
      "3/3 [==============================] - 0s 81ms/step - loss: 2.5848 - val_loss: 2.7106\n",
      "Epoch 182/200\n",
      "3/3 [==============================] - 0s 81ms/step - loss: 2.6468 - val_loss: 2.7033\n",
      "Epoch 183/200\n",
      "3/3 [==============================] - 0s 105ms/step - loss: 2.6901 - val_loss: 2.7771\n",
      "Epoch 184/200\n",
      "3/3 [==============================] - 0s 92ms/step - loss: 2.5962 - val_loss: 2.7002\n",
      "Epoch 185/200\n",
      "3/3 [==============================] - 0s 90ms/step - loss: 2.6456 - val_loss: 2.7146\n",
      "Epoch 186/200\n",
      "3/3 [==============================] - 0s 117ms/step - loss: 2.6377 - val_loss: 2.7780\n",
      "Epoch 187/200\n",
      "3/3 [==============================] - 0s 84ms/step - loss: 2.6146 - val_loss: 2.6531\n",
      "Epoch 188/200\n",
      "3/3 [==============================] - ETA: 0s - loss: 2.760 - 0s 78ms/step - loss: 2.6090 - val_loss: 2.6818\n",
      "Epoch 189/200\n",
      "3/3 [==============================] - 0s 114ms/step - loss: 2.5596 - val_loss: 2.6590\n",
      "Epoch 190/200\n",
      "3/3 [==============================] - 0s 26ms/step - loss: 2.5615 - val_loss: 2.6655\n",
      "Epoch 191/200\n",
      "3/3 [==============================] - 0s 22ms/step - loss: 2.5517 - val_loss: 2.6470\n",
      "Epoch 192/200\n",
      "3/3 [==============================] - 0s 23ms/step - loss: 2.5642 - val_loss: 2.6464\n",
      "Epoch 193/200\n",
      "3/3 [==============================] - 0s 23ms/step - loss: 2.5756 - val_loss: 2.6816\n",
      "Epoch 194/200\n",
      "3/3 [==============================] - 0s 23ms/step - loss: 2.5686 - val_loss: 2.7048\n",
      "Epoch 195/200\n",
      "3/3 [==============================] - 0s 17ms/step - loss: 2.5610 - val_loss: 2.6361\n",
      "Epoch 196/200\n",
      "3/3 [==============================] - 0s 24ms/step - loss: 2.5521 - val_loss: 2.7182\n",
      "Epoch 197/200\n",
      "3/3 [==============================] - 0s 23ms/step - loss: 2.6135 - val_loss: 2.6638\n",
      "Epoch 198/200\n",
      "3/3 [==============================] - 0s 22ms/step - loss: 2.6173 - val_loss: 2.6577\n",
      "Epoch 199/200\n",
      "3/3 [==============================] - 0s 15ms/step - loss: 2.5847 - val_loss: 2.7234\n",
      "Epoch 200/200\n",
      "3/3 [==============================] - ETA: 0s - loss: 2.646 - 0s 21ms/step - loss: 2.5847 - val_loss: 2.6422\n"
     ]
    }
   ],
   "source": [
    "history = model.fit(X_train, y_train, epochs=200,\n",
    "                    validation_data=(X_valid, y_valid))"
   ]
  },
  {
   "cell_type": "code",
   "execution_count": 68,
   "id": "0b29d35c",
   "metadata": {
    "scrolled": true
   },
   "outputs": [],
   "source": [
    "# history = model.fit(X_train, y_train, epochs=145,\n",
    "#                     validation_data=(X_valid, y_valid), callbacks=[lr_scheduler])"
   ]
  },
  {
   "cell_type": "code",
   "execution_count": 69,
   "id": "28215732",
   "metadata": {},
   "outputs": [
    {
     "name": "stdout",
     "output_type": "stream",
     "text": [
      "Saving figure grid_Gaussian_training_curve\n"
     ]
    },
    {
     "data": {
      "image/png": "[encoded data removed]",
      "text/plain": [
       "<Figure size 576x360 with 1 Axes>"
      ]
     },
     "metadata": {
      "needs_background": "light"
     },
     "output_type": "display_data"
    }
   ],
   "source": [
    "import pandas as pd\n",
    "\n",
    "# print(history.history)\n",
    "try:\n",
    "    lr_list = history.history[\"lr\"]\n",
    "    del(history.history[\"lr\"])\n",
    "except:\n",
    "    pass\n",
    "\n",
    "pd.DataFrame(history.history)[50:].plot(figsize=(8, 5))\n",
    "plt.grid(True)\n",
    "# plt.gca().set_ylim(0, 1)\n",
    "save_fig(\"grid_Gaussian_training_curve\")\n",
    "plt.show()"
   ]
  },
  {
   "cell_type": "code",
   "execution_count": 70,
   "id": "47d362c9",
   "metadata": {
    "scrolled": true
   },
   "outputs": [
    {
     "name": "stdout",
     "output_type": "stream",
     "text": [
      "X.shape = (None, 1)\n",
      "gauss_grid.shape = (None, 5)\n",
      "Saving figure grid_Gaussian_prediction\n"
     ]
    },
    {
     "data": {
      "image/png": "[encoded data removed]",
      "text/plain": [
       "<Figure size 432x288 with 1 Axes>"
      ]
     },
     "metadata": {
      "needs_background": "light"
     },
     "output_type": "display_data"
    }
   ],
   "source": [
    "# plt.plot(X_train, y_train, \"b.\")\n",
    "draw_points(X_train, y_train, sid_train)\n",
    "draw_func((lambda X: model.predict(X)[:,0] ), mark='r-', linewidth=2, label=\"Predictions\")\n",
    "draw_normal_func(func_dict)\n",
    "plt.xlabel(\"$x_1$\", fontsize=18)\n",
    "plt.ylabel(\"$y$\", rotation=0, fontsize=18)\n",
    "plt.legend(loc=\"upper left\", fontsize=14)\n",
    "# plt.axis([-3, 3, 0, 10])\n",
    "save_fig(\"grid_Gaussian_prediction\")\n",
    "plt.show()"
   ]
  },
  {
   "cell_type": "code",
   "execution_count": 71,
   "id": "a85a5159",
   "metadata": {},
   "outputs": [
    {
     "name": "stdout",
     "output_type": "stream",
     "text": [
      "y_func.shape = (100, 1)\n",
      "y_gt.shape = (100, 1)\n"
     ]
    },
    {
     "data": {
      "text/plain": [
       "2.8955588400404615"
      ]
     },
     "execution_count": 71,
     "metadata": {},
     "output_type": "execute_result"
    }
   ],
   "source": [
    "get_prediction_error((lambda X: model.predict(X)[:,0] ), func_dict, name=\"grid-oneGaussian\")"
   ]
  },
  {
   "cell_type": "markdown",
   "id": "9ca1e36d",
   "metadata": {},
   "source": [
    "### Draw the 1-sigma boundary line"
   ]
  },
  {
   "cell_type": "code",
   "execution_count": 72,
   "id": "a04a47fa",
   "metadata": {},
   "outputs": [
    {
     "name": "stdout",
     "output_type": "stream",
     "text": [
      "Saving figure grid_Gaussian_1sigma\n"
     ]
    },
    {
     "data": {
      "image/png": "[encoded data removed]",
      "text/plain": [
       "<Figure size 432x288 with 1 Axes>"
      ]
     },
     "metadata": {
      "needs_background": "light"
     },
     "output_type": "display_data"
    }
   ],
   "source": [
    "def n_sigma_boundary_line(X, n):\n",
    "    _y = model.predict(X)\n",
    "    _mean, _z = _y[:,0:1], _y[:,1:2]\n",
    "    _sigma = np.exp(alpha*_z)\n",
    "    return( _mean + n*_sigma)\n",
    "\n",
    "# plt.plot(X_train, y_train, \"b.\")\n",
    "draw_points(X_train, y_train, sid_train)\n",
    "#\n",
    "draw_func((lambda X: model.predict(X)[:,0] ), mark='r-', linewidth=2, label=\"Predictions\")\n",
    "draw_func((lambda X: n_sigma_boundary_line(X, +1.0) ), mark='k--', linewidth=1, label=\"$\\mu+\\sigma$\")\n",
    "draw_func((lambda X: n_sigma_boundary_line(X, -1.0) ), mark='k--', linewidth=1, label=\"$\\mu-\\sigma$\")\n",
    "#\n",
    "draw_normal_func(func_dict)\n",
    "plt.xlabel(\"$x_1$\", fontsize=18)\n",
    "plt.ylabel(\"$y$\", rotation=0, fontsize=18)\n",
    "plt.legend(loc=\"upper left\", fontsize=14)\n",
    "# plt.axis([-3, 3, 0, 10])\n",
    "save_fig(\"grid_Gaussian_1sigma\")\n",
    "plt.show()"
   ]
  },
  {
   "cell_type": "code",
   "execution_count": null,
   "id": "a820404f",
   "metadata": {},
   "outputs": [],
   "source": []
  },
  {
   "cell_type": "markdown",
   "id": "82ec4fc4",
   "metadata": {},
   "source": [
    "# Summary"
   ]
  },
  {
   "cell_type": "code",
   "execution_count": 73,
   "id": "2d764d70",
   "metadata": {},
   "outputs": [
    {
     "name": "stdout",
     "output_type": "stream",
     "text": [
      "num-num: 6.010383\n",
      "grid-num: 4.187344\n",
      "grid-rbc: 4.096461\n",
      "grid-quantileR: 2.932673\n",
      "grid-oneGaussian: 2.895559\n",
      "\n"
     ]
    }
   ],
   "source": [
    "results = print_all_prediction_error()"
   ]
  },
  {
   "cell_type": "code",
   "execution_count": 74,
   "id": "9f01e530",
   "metadata": {},
   "outputs": [
    {
     "name": "stdout",
     "output_type": "stream",
     "text": [
      "Saving all prediction errors to [.\\images\\regression_test_2\\prediction_errors.txt].\n"
     ]
    },
    {
     "data": {
      "text/plain": [
       "True"
      ]
     },
     "execution_count": 74,
     "metadata": {},
     "output_type": "execute_result"
    }
   ],
   "source": [
    "save_prediction_errors()"
   ]
  },
  {
   "cell_type": "code",
   "execution_count": null,
   "id": "0c3bdf42",
   "metadata": {},
   "outputs": [],
   "source": []
  },
  {
   "cell_type": "code",
   "execution_count": null,
   "id": "a5e6a55a",
   "metadata": {},
   "outputs": [],
   "source": []
  },
  {
   "cell_type": "code",
   "execution_count": null,
   "id": "3c41d09c",
   "metadata": {},
   "outputs": [],
   "source": []
  }
 ],
 "metadata": {
  "kernelspec": {
   "display_name": "Python 3 (ipykernel)",
   "language": "python",
   "name": "python3"
  },
  "language_info": {
   "codemirror_mode": {
    "name": "ipython",
    "version": 3
   },
   "file_extension": ".py",
   "mimetype": "text/x-python",
   "name": "python",
   "nbconvert_exporter": "python",
   "pygments_lexer": "ipython3",
   "version": "3.9.7"
  }
 },
 "nbformat": 4,
 "nbformat_minor": 5
}
