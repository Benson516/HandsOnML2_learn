{
 "cells": [
  {
   "cell_type": "markdown",
   "id": "899fa113",
   "metadata": {},
   "source": [
    "# Regression with Different Output Format under Various Data Conditions\n",
    "\n",
    "In this experience, we test the following output format for regression task under several different data coditions.\n",
    "- Numerical output\n",
    "- Regression as classification (grid-out)\n",
    "\n",
    "The data coditions include:\n",
    "- Sparse (few data)\n",
    "- Grouped\n",
    "  - Biased (parallel data)\n",
    "  - Completely different mode, uncorrelated data (cross)\n",
    "  - Partially diversed (split)"
   ]
  },
  {
   "cell_type": "code",
   "execution_count": 1,
   "id": "625ce7c3",
   "metadata": {},
   "outputs": [
    {
     "name": "stderr",
     "output_type": "stream",
     "text": [
      "2022-04-05 00:10:47.540493: W tensorflow/stream_executor/platform/default/dso_loader.cc:64] Could not load dynamic library 'libcudart.so.11.0'; dlerror: libcudart.so.11.0: cannot open shared object file: No such file or directory; LD_LIBRARY_PATH: /home/benson516/agv_ws/devel/lib:/opt/ros/noetic/lib\n",
      "2022-04-05 00:10:47.540513: I tensorflow/stream_executor/cuda/cudart_stub.cc:29] Ignore above cudart dlerror if you do not have a GPU set up on your machine.\n"
     ]
    }
   ],
   "source": [
    "import numpy as np\n",
    "import tensorflow as tf\n",
    "from tensorflow import keras\n",
    "import os\n",
    "# from tqdm import tqdm\n",
    "\n",
    "# To plot pretty figures\n",
    "%matplotlib inline\n",
    "import matplotlib as mpl\n",
    "import matplotlib.pyplot as plt\n",
    "mpl.rc('axes', labelsize=14)\n",
    "mpl.rc('xtick', labelsize=12)\n",
    "mpl.rc('ytick', labelsize=12)"
   ]
  },
  {
   "cell_type": "code",
   "execution_count": 2,
   "id": "7ad564ad",
   "metadata": {},
   "outputs": [],
   "source": [
    "# Where to save the figures\n",
    "PROJECT_ROOT_DIR = \".\"\n",
    "CHAPTER_ID = \"regression_test_2\"\n",
    "IMAGES_PATH = os.path.join(PROJECT_ROOT_DIR, \"images\", CHAPTER_ID)\n",
    "os.makedirs(IMAGES_PATH, exist_ok=True)\n",
    "\n",
    "def save_fig(fig_id, tight_layout=True, fig_extension=\"png\", resolution=300):\n",
    "    path = os.path.join(IMAGES_PATH, fig_id + \".\" + fig_extension)\n",
    "    print(\"Saving figure\", fig_id)\n",
    "    if tight_layout:\n",
    "        plt.tight_layout()\n",
    "    plt.savefig(path, format=fig_extension, dpi=resolution)"
   ]
  },
  {
   "cell_type": "code",
   "execution_count": 3,
   "id": "94e8a077",
   "metadata": {},
   "outputs": [],
   "source": [
    "def draw_func(func_in, x_min=-5, x_max=5, mark='r--', linewidth=1, label='func'):\n",
    "    n_sample = 100\n",
    "    X_func = np.linspace(x_min, x_max, n_sample).reshape(n_sample, 1)\n",
    "    y_func = func_in(X_func)\n",
    "    plt.plot(X_func, y_func, mark, linewidth=linewidth, label=label)"
   ]
  },
  {
   "cell_type": "markdown",
   "id": "c27ffe35",
   "metadata": {},
   "source": [
    "Generate polynomial data"
   ]
  },
  {
   "cell_type": "code",
   "execution_count": 4,
   "id": "ce670ce4",
   "metadata": {},
   "outputs": [],
   "source": [
    "poly_a1 = 5.0\n",
    "# poly_a1 = -10.0 # 5.0\n",
    "#\n",
    "sin_a = 0.0\n",
    "# sin_a = 10.0\n",
    "sin_f = 0.1 # 0.2\n",
    "#\n",
    "def func_0(X): # Reference\n",
    "    return 0.5 * X**3 + 0.5 * X**2 + (poly_a1)*X + 2 + sin_a*np.sin(2.0*np.pi*sin_f*X)\n",
    "def func_1(X): # Variation 1: parellel\n",
    "    return 0.5 * X**3 + 0.5 * X**2 + (poly_a1)*X + 30 + sin_a*np.sin(2.0*np.pi*sin_f*X)\n",
    "def func_2(X): # Variation 2: cross\n",
    "    return -0.5 * X**3 + 0.5 * X**2 + (poly_a1)*X + 30 + sin_a*np.sin(2.0*np.pi*sin_f*X)\n",
    "def func_3(X): # Variation 3: slightly split\n",
    "    return 0.3 * X**3 + 1.0 * X**2 + (poly_a1)*X + 15 + sin_a*np.sin(2.0*np.pi*sin_f*X)\n",
    "def func_4(X): # Sine wave~\n",
    "    return 0.5 * X**3 + 0.5 * X**2 + (poly_a1)*X + 2 + 20.0*np.sin(2.0*np.pi*sin_f*X) # 50.0"
   ]
  },
  {
   "cell_type": "code",
   "execution_count": 5,
   "id": "9463bfff",
   "metadata": {},
   "outputs": [],
   "source": [
    "func_dict = dict()\n",
    "#-----------------#\n",
    "func_dict[\"f1\"] = func_0\n",
    "#-----------------#\n",
    "# func_dict[\"f2\"] = func_1\n",
    "# func_dict[\"f2\"] = func_2\n",
    "func_dict[\"f2\"] = func_3\n",
    "# func_dict[\"f2\"] = func_4\n",
    "#-----------------#\n",
    "func_dict[\"f3\"] = func_4\n",
    "#-----------------#\n",
    "\n",
    "# Note: func_dict[\"f_avg\"] depends on multiout_type and is calculated in each section of multiout_type"
   ]
  },
  {
   "cell_type": "code",
   "execution_count": 6,
   "id": "63437d0c",
   "metadata": {},
   "outputs": [
    {
     "name": "stdout",
     "output_type": "stream",
     "text": [
      "(m, m_train) = (100, 80)\n",
      "y_data_pure.shape = (100, 1)\n",
      "y_data.shape = (100, 1)\n"
     ]
    }
   ],
   "source": [
    "np.random.seed(42)\n",
    "m = 100 # 50 # 100 # 200\n",
    "m_train = m // 5 * 4\n",
    "print(\"(m, m_train) = (%d, %d)\" % (m, m_train))\n",
    "\n",
    "# Input\n",
    "is_gapped = True\n",
    "# is_gapped = False\n",
    "#\n",
    "if not is_gapped:\n",
    "    X_data = 10 * np.random.rand(m, 1) - 5 # Note: X is randomly sampled, so we don't need to shuffle the data again\n",
    "else:\n",
    "    X_data = np.concatenate( (np.linspace(-5.0, -2.0, m//2), np.linspace(2.0, 5.0, m-m//2)) )\n",
    "    X_data = X_data.reshape((m,1))\n",
    "    np.random.shuffle(X_data)\n",
    "\n",
    "# Output, multiout_type in {1, 2, 3}\n",
    "# multiout_type = 1      \n",
    "multiout_type = 2 \n",
    "# multiout_type = 3 \n",
    "#\n",
    "sid_data = np.ones((m,1), dtype=int) # subject id, default: 1\n",
    "if multiout_type == 2:\n",
    "    m_h = m // 2\n",
    "    X_data_1 = X_data[:m_h]\n",
    "    X_data_2 = X_data[m_h:]\n",
    "    sid_data[:m_h] = 1 # id:1\n",
    "    sid_data[m_h:] = 2 # id:2\n",
    "    y_data_pure_1 = func_dict[\"f1\"](X_data_1) \n",
    "    y_data_pure_2 = func_dict[\"f2\"](X_data_2) \n",
    "    y_data_pure = np.vstack([y_data_pure_1, y_data_pure_2])\n",
    "    print(\"y_data_pure.shape = %s\" % str(y_data_pure.shape))\n",
    "    # Average line\n",
    "    func_dict[\"f_avg\"] = ( lambda X: 0.5*func_dict[\"f1\"](X) + 0.5*func_dict[\"f2\"](X) )\n",
    "    #\n",
    "elif multiout_type == 3: # with \"avg\" line\n",
    "    m_t = m // 3\n",
    "    X_data_1 = X_data[:m_t]\n",
    "    X_data_2 = X_data[m_t:(2*m_t)]\n",
    "    X_data_3 = X_data[(2*m_t):]\n",
    "    sid_data[:m_t]        = 1 # id:1\n",
    "    sid_data[m_t:(2*m_t)] = 2 # id:2\n",
    "    sid_data[(2*m_t):]    = 3 # id:3\n",
    "    y_data_pure_1 = func_dict[\"f1\"](X_data_1) \n",
    "    y_data_pure_2 = func_dict[\"f2\"](X_data_2) \n",
    "    y_data_pure_3 = func_dict[\"f3\"](X_data_3) \n",
    "    y_data_pure = np.vstack([y_data_pure_1, y_data_pure_2, y_data_pure_3])\n",
    "    print(\"y_data_pure.shape = %s\" % str(y_data_pure.shape))\n",
    "    # Average line\n",
    "    func_dict[\"f_avg\"] = ( lambda X: (func_dict[\"f1\"](X) + func_dict[\"f2\"](X) + func_dict[\"f3\"](X))/3.0 )\n",
    "    #\n",
    "else: # multiout_type == 1\n",
    "    # Average line\n",
    "    func_dict[\"f_avg\"] = ( lambda X: 0.5*func_dict[\"f1\"](X) + 0.5*func_dict[\"f2\"](X) )\n",
    "    y_data_pure = func_dict[\"f_avg\"](X_data)\n",
    "\n",
    "    \n",
    "# Label (+noise)\n",
    "n_stddev = 2.0\n",
    "# n_stddev = 10.0\n",
    "y_data = y_data_pure + np.random.randn(m, 1) * n_stddev\n",
    "print(\"y_data.shape = %s\" % str(y_data.shape))\n",
    "# print(\"sid_data = %s\" % str(sid_data))"
   ]
  },
  {
   "cell_type": "code",
   "execution_count": 7,
   "id": "ef588fae",
   "metadata": {},
   "outputs": [],
   "source": [
    "# Method 1: simply slice\n",
    "# X_train = X_data[:m_train]\n",
    "# y_train = y_data[:m_train]\n",
    "# X_valid = X_data[m_train:]\n",
    "# y_valid = y_data[m_train:]\n",
    "\n",
    "# Method 2: shuffle\n",
    "from sklearn.model_selection import train_test_split\n",
    "# X_train, X_valid, y_train, y_valid = train_test_split(X_data, y_data, test_size=0.2, random_state=42)\n",
    "X_train, X_valid, y_train, y_valid, sid_train, sid_valid = train_test_split(X_data, y_data, sid_data, test_size=0.2, random_state=42)"
   ]
  },
  {
   "cell_type": "code",
   "execution_count": 8,
   "id": "3b5d2cfe",
   "metadata": {},
   "outputs": [
    {
     "name": "stdout",
     "output_type": "stream",
     "text": [
      "(80, 1)\n"
     ]
    }
   ],
   "source": [
    "print(X_train.shape)\n",
    "# print(\"sid_train = %s\" % str(sid_train))"
   ]
  },
  {
   "cell_type": "code",
   "execution_count": 9,
   "id": "9bd2136c",
   "metadata": {},
   "outputs": [],
   "source": [
    "def draw_normal_func(func_dict):\n",
    "    if multiout_type != 1:\n",
    "        draw_func(func_dict[\"f1\"], mark='c:', label=\"f1\")\n",
    "        draw_func(func_dict[\"f2\"], mark='r:', label=\"f2\")\n",
    "    if multiout_type == 3:\n",
    "        draw_func(func_dict[\"f3\"], mark='y:', label=\"f3\")\n",
    "    draw_func(func_dict[\"f_avg\"], mark='m--', label=\"f_avg\")"
   ]
  },
  {
   "cell_type": "code",
   "execution_count": 10,
   "id": "3e4283c1",
   "metadata": {},
   "outputs": [],
   "source": [
    "def draw_points(X, y, sid=None):\n",
    "    if sid is None:\n",
    "        plt.plot(X, y, \"b.\")\n",
    "    else:\n",
    "        plt.plot(X[sid==1], y[sid==1], \"b.\")\n",
    "        plt.plot(X[sid==2], y[sid==2], \"r.\")\n",
    "        plt.plot(X[sid==3], y[sid==3], \"y.\")"
   ]
  },
  {
   "cell_type": "code",
   "execution_count": 11,
   "id": "693af3b7",
   "metadata": {},
   "outputs": [
    {
     "name": "stdout",
     "output_type": "stream",
     "text": [
      "Saving figure training_data\n"
     ]
    },
    {
     "data": {
      "image/png": "[encoded data removed]",
      "text/plain": [
       "<Figure size 432x288 with 1 Axes>"
      ]
     },
     "metadata": {
      "needs_background": "light"
     },
     "output_type": "display_data"
    }
   ],
   "source": [
    "# plt.plot(X_train, y_train, \"b.\")\n",
    "# plt.plot(X_train[sid_train==1], y_train[sid_train==1], \"b.\")\n",
    "# plt.plot(X_train[sid_train==2], y_train[sid_train==2], \"r.\")\n",
    "draw_points(X_train, y_train, sid_train)\n",
    "\n",
    "draw_normal_func(func_dict)\n",
    "plt.xlabel(\"$x_1$\", fontsize=18)\n",
    "plt.ylabel(\"$y$\", rotation=0, fontsize=18)\n",
    "plt.legend(loc=\"upper left\", fontsize=14)\n",
    "# plt.axis([-3, 3, 0, 10])\n",
    "save_fig(\"training_data\")\n",
    "plt.show()"
   ]
  },
  {
   "cell_type": "code",
   "execution_count": 12,
   "id": "a6853ff1",
   "metadata": {},
   "outputs": [],
   "source": [
    "prediction_error_dict = dict()\n",
    "\n",
    "def get_prediction_error(func_in, func_dict, name=\"\", x_min=-5, x_max=5, prediction_error_dict=prediction_error_dict):\n",
    "    n_sample = 100\n",
    "    X_func = np.linspace(x_min, x_max, n_sample).reshape(n_sample, 1)\n",
    "    y_func = func_in(X_func).reshape((n_sample,1))\n",
    "    y_gt = func_dict[\"f_avg\"](X_func).reshape((n_sample,1))\n",
    "    print(\"y_func.shape = %s\" % str(y_func.shape))\n",
    "    print(\"y_gt.shape = %s\" % str(y_gt.shape))\n",
    "#     total_error = np.sqrt(np.square(y_func - y_gt).mean())\n",
    "    total_error = np.abs(y_func - y_gt).mean()\n",
    "    prediction_error_dict[name] = total_error\n",
    "    return total_error\n",
    "\n",
    "def print_all_prediction_error(is_logging_to_screen=True, prediction_error_dict=prediction_error_dict):\n",
    "    _s = \"\"\n",
    "    for _n in prediction_error_dict:\n",
    "        _s += (\"%s: %f\" % (_n, prediction_error_dict[_n])) + \"\\n\"\n",
    "    if is_logging_to_screen:\n",
    "        print(_s)\n",
    "    return _s\n",
    "        \n",
    "def save_prediction_errors(is_logging_to_screen=False, prediction_error_dict=prediction_error_dict):\n",
    "    path = os.path.join(IMAGES_PATH, \"prediction_errors.txt\")\n",
    "    print(\"Saving all prediction errors to [%s].\" % path)\n",
    "    _s = print_all_prediction_error(is_logging_to_screen=is_logging_to_screen, prediction_error_dict=prediction_error_dict)\n",
    "    with open(path, \"w\") as _f:\n",
    "        _f.write(_s)\n",
    "    return True"
   ]
  },
  {
   "cell_type": "markdown",
   "id": "053ecc57",
   "metadata": {},
   "source": [
    "# Simple FCs (number --> number)"
   ]
  },
  {
   "cell_type": "markdown",
   "id": "c66eb67b",
   "metadata": {},
   "source": [
    "Build the regression model"
   ]
  },
  {
   "cell_type": "code",
   "execution_count": 13,
   "id": "9449fc0b",
   "metadata": {},
   "outputs": [
    {
     "name": "stderr",
     "output_type": "stream",
     "text": [
      "2022-04-05 00:10:49.661518: I tensorflow/stream_executor/platform/default/dso_loader.cc:53] Successfully opened dynamic library libcuda.so.1\n",
      "2022-04-05 00:10:52.873415: E tensorflow/stream_executor/cuda/cuda_driver.cc:328] failed call to cuInit: CUDA_ERROR_NO_DEVICE: no CUDA-capable device is detected\n",
      "2022-04-05 00:10:52.873442: I tensorflow/stream_executor/cuda/cuda_diagnostics.cc:156] kernel driver does not appear to be running on this host (benson516-P1G2): /proc/driver/nvidia/version does not exist\n",
      "2022-04-05 00:10:52.873723: I tensorflow/core/platform/cpu_feature_guard.cc:142] This TensorFlow binary is optimized with oneAPI Deep Neural Network Library (oneDNN) to use the following CPU instructions in performance-critical operations:  AVX2 FMA\n",
      "To enable them in other operations, rebuild TensorFlow with the appropriate compiler flags.\n"
     ]
    }
   ],
   "source": [
    "model = keras.models.Sequential([\n",
    "    keras.layers.Dense(30, activation=\"relu\", input_shape=X_train.shape[1:]),\n",
    "    keras.layers.Dense(30, activation=\"relu\"),\n",
    "    keras.layers.Dense(1)\n",
    "])"
   ]
  },
  {
   "cell_type": "code",
   "execution_count": 14,
   "id": "8ad59bf4",
   "metadata": {},
   "outputs": [],
   "source": [
    "# # Customized loss function\n",
    "# def asymptoticLoss_fn(y_true, y_pred, alpha=0.01):\n",
    "#     # tau: quantile, tau in [0.0, 1.0]\n",
    "#     # y_true: label mean\n",
    "#     # y_pred: predicted tau quantile\n",
    "#     y_target = alpha * y_true + (1.0 - alpha) * y_pred\n",
    "#     # return tf.abs(y_pred - y_target)\n",
    "#     return (y_pred - y_target)**2"
   ]
  },
  {
   "cell_type": "code",
   "execution_count": 15,
   "id": "4de396a0",
   "metadata": {},
   "outputs": [
    {
     "name": "stderr",
     "output_type": "stream",
     "text": [
      "/home/benson516/GazeDemo/gaze_env/lib/python3.8/site-packages/tensorflow/python/keras/optimizer_v2/optimizer_v2.py:374: UserWarning: The `lr` argument is deprecated, use `learning_rate` instead.\n",
      "  warnings.warn(\n"
     ]
    }
   ],
   "source": [
    "optimizer = keras.optimizers.SGD(lr=0.0001, momentum=0.9)\n",
    "model.compile(loss=\"mean_squared_error\", optimizer=optimizer)\n",
    "# optimizer = keras.optimizers.Adam(lr=0.01)\n",
    "# # model.compile(loss=\"mean_absolute_error\", optimizer=optimizer)\n",
    "# model.compile(loss=asymptoticLoss_fn, optimizer=optimizer)"
   ]
  },
  {
   "cell_type": "code",
   "execution_count": 16,
   "id": "92afd68a",
   "metadata": {
    "scrolled": true
   },
   "outputs": [
    {
     "name": "stderr",
     "output_type": "stream",
     "text": [
      "2022-04-05 00:10:53.203269: I tensorflow/compiler/mlir/mlir_graph_optimization_pass.cc:176] None of the MLIR Optimization Passes are enabled (registered 2)\n",
      "2022-04-05 00:10:53.222765: I tensorflow/core/platform/profile_utils/cpu_utils.cc:114] CPU Frequency: 2599990000 Hz\n"
     ]
    },
    {
     "name": "stdout",
     "output_type": "stream",
     "text": [
      "Epoch 1/100\n",
      "3/3 [==============================] - 0s 50ms/step - loss: 2462.6453 - val_loss: 1686.0416\n",
      "Epoch 2/100\n",
      "3/3 [==============================] - 0s 9ms/step - loss: 2338.9155 - val_loss: 1555.1283\n",
      "Epoch 3/100\n",
      "3/3 [==============================] - 0s 9ms/step - loss: 2049.7944 - val_loss: 1266.6078\n",
      "Epoch 4/100\n",
      "3/3 [==============================] - 0s 9ms/step - loss: 1404.7114 - val_loss: 703.3909\n",
      "Epoch 5/100\n",
      "3/3 [==============================] - 0s 16ms/step - loss: 542.2220 - val_loss: 961.5349\n",
      "Epoch 6/100\n",
      "3/3 [==============================] - 0s 10ms/step - loss: 1063.3127 - val_loss: 641.6978\n",
      "Epoch 7/100\n",
      "3/3 [==============================] - 0s 15ms/step - loss: 531.6883 - val_loss: 733.4185\n",
      "Epoch 8/100\n",
      "3/3 [==============================] - 0s 12ms/step - loss: 869.2664 - val_loss: 760.5968\n",
      "Epoch 9/100\n",
      "3/3 [==============================] - 0s 10ms/step - loss: 744.2482 - val_loss: 502.1069\n",
      "Epoch 10/100\n",
      "3/3 [==============================] - 0s 13ms/step - loss: 385.2029 - val_loss: 540.0363\n",
      "Epoch 11/100\n",
      "3/3 [==============================] - 0s 12ms/step - loss: 530.7855 - val_loss: 351.0257\n",
      "Epoch 12/100\n",
      "3/3 [==============================] - 0s 7ms/step - loss: 282.4654 - val_loss: 251.0048\n",
      "Epoch 13/100\n",
      "3/3 [==============================] - 0s 9ms/step - loss: 316.2064 - val_loss: 218.6307\n",
      "Epoch 14/100\n",
      "3/3 [==============================] - 0s 12ms/step - loss: 266.4729 - val_loss: 180.8308\n",
      "Epoch 15/100\n",
      "3/3 [==============================] - 0s 14ms/step - loss: 242.3729 - val_loss: 218.2792\n",
      "Epoch 16/100\n",
      "3/3 [==============================] - 0s 12ms/step - loss: 251.8860 - val_loss: 175.2478\n",
      "Epoch 17/100\n",
      "3/3 [==============================] - 0s 15ms/step - loss: 205.0580 - val_loss: 182.6971\n",
      "Epoch 18/100\n",
      "3/3 [==============================] - 0s 12ms/step - loss: 217.5202 - val_loss: 194.4110\n",
      "Epoch 19/100\n",
      "3/3 [==============================] - 0s 11ms/step - loss: 201.7371 - val_loss: 202.7944\n",
      "Epoch 20/100\n",
      "3/3 [==============================] - 0s 13ms/step - loss: 206.9174 - val_loss: 207.1546\n",
      "Epoch 21/100\n",
      "3/3 [==============================] - 0s 19ms/step - loss: 208.2476 - val_loss: 189.9064\n",
      "Epoch 22/100\n",
      "3/3 [==============================] - 0s 13ms/step - loss: 200.6039 - val_loss: 179.3167\n",
      "Epoch 23/100\n",
      "3/3 [==============================] - 0s 12ms/step - loss: 199.2628 - val_loss: 174.4707\n",
      "Epoch 24/100\n",
      "3/3 [==============================] - 0s 13ms/step - loss: 193.3604 - val_loss: 177.0782\n",
      "Epoch 25/100\n",
      "3/3 [==============================] - 0s 11ms/step - loss: 195.0436 - val_loss: 177.4350\n",
      "Epoch 26/100\n",
      "3/3 [==============================] - 0s 21ms/step - loss: 192.7872 - val_loss: 174.1029\n",
      "Epoch 27/100\n",
      "3/3 [==============================] - 0s 13ms/step - loss: 193.1781 - val_loss: 174.3490\n",
      "Epoch 28/100\n",
      "3/3 [==============================] - 0s 15ms/step - loss: 195.4470 - val_loss: 176.0177\n",
      "Epoch 29/100\n",
      "3/3 [==============================] - 0s 9ms/step - loss: 191.5429 - val_loss: 176.2347\n",
      "Epoch 30/100\n",
      "3/3 [==============================] - 0s 14ms/step - loss: 190.5698 - val_loss: 173.3902\n",
      "Epoch 31/100\n",
      "3/3 [==============================] - 0s 13ms/step - loss: 190.2523 - val_loss: 172.2536\n",
      "Epoch 32/100\n",
      "3/3 [==============================] - 0s 15ms/step - loss: 190.1986 - val_loss: 173.2051\n",
      "Epoch 33/100\n",
      "3/3 [==============================] - 0s 13ms/step - loss: 193.9359 - val_loss: 180.9736\n",
      "Epoch 34/100\n",
      "3/3 [==============================] - 0s 12ms/step - loss: 190.5448 - val_loss: 175.3010\n",
      "Epoch 35/100\n",
      "3/3 [==============================] - 0s 12ms/step - loss: 187.1754 - val_loss: 170.1690\n",
      "Epoch 36/100\n",
      "3/3 [==============================] - 0s 14ms/step - loss: 186.5717 - val_loss: 167.6845\n",
      "Epoch 37/100\n",
      "3/3 [==============================] - 0s 12ms/step - loss: 190.8159 - val_loss: 165.7013\n",
      "Epoch 38/100\n",
      "3/3 [==============================] - 0s 11ms/step - loss: 191.1736 - val_loss: 168.4739\n",
      "Epoch 39/100\n",
      "3/3 [==============================] - 0s 16ms/step - loss: 186.9512 - val_loss: 167.6119\n",
      "Epoch 40/100\n",
      "3/3 [==============================] - 0s 11ms/step - loss: 186.1933 - val_loss: 167.7744\n",
      "Epoch 41/100\n",
      "3/3 [==============================] - 0s 12ms/step - loss: 185.3385 - val_loss: 170.8616\n",
      "Epoch 42/100\n",
      "3/3 [==============================] - 0s 10ms/step - loss: 185.6025 - val_loss: 171.5986\n",
      "Epoch 43/100\n",
      "3/3 [==============================] - 0s 13ms/step - loss: 182.5742 - val_loss: 170.7999\n",
      "Epoch 44/100\n",
      "3/3 [==============================] - 0s 12ms/step - loss: 185.7566 - val_loss: 168.3252\n",
      "Epoch 45/100\n",
      "3/3 [==============================] - 0s 10ms/step - loss: 183.9514 - val_loss: 169.7365\n",
      "Epoch 46/100\n",
      "3/3 [==============================] - 0s 15ms/step - loss: 182.7745 - val_loss: 170.2032\n",
      "Epoch 47/100\n",
      "3/3 [==============================] - 0s 10ms/step - loss: 180.5749 - val_loss: 165.5512\n",
      "Epoch 48/100\n",
      "3/3 [==============================] - 0s 14ms/step - loss: 186.2225 - val_loss: 163.6584\n",
      "Epoch 49/100\n",
      "3/3 [==============================] - 0s 13ms/step - loss: 182.2327 - val_loss: 166.4903\n",
      "Epoch 50/100\n",
      "3/3 [==============================] - 0s 11ms/step - loss: 184.1393 - val_loss: 171.7334\n",
      "Epoch 51/100\n",
      "3/3 [==============================] - 0s 14ms/step - loss: 179.0799 - val_loss: 168.6903\n",
      "Epoch 52/100\n",
      "3/3 [==============================] - 0s 12ms/step - loss: 182.7810 - val_loss: 169.4947\n",
      "Epoch 53/100\n",
      "3/3 [==============================] - 0s 15ms/step - loss: 184.0791 - val_loss: 165.2397\n",
      "Epoch 54/100\n",
      "3/3 [==============================] - 0s 11ms/step - loss: 181.6033 - val_loss: 173.7207\n",
      "Epoch 55/100\n",
      "3/3 [==============================] - 0s 12ms/step - loss: 181.5952 - val_loss: 163.8488\n",
      "Epoch 56/100\n",
      "3/3 [==============================] - 0s 13ms/step - loss: 177.5978 - val_loss: 160.0247\n",
      "Epoch 57/100\n",
      "3/3 [==============================] - 0s 11ms/step - loss: 181.5484 - val_loss: 160.1698\n",
      "Epoch 58/100\n",
      "3/3 [==============================] - 0s 13ms/step - loss: 178.5496 - val_loss: 161.3575\n",
      "Epoch 59/100\n",
      "3/3 [==============================] - 0s 12ms/step - loss: 177.9537 - val_loss: 162.7478\n",
      "Epoch 60/100\n",
      "3/3 [==============================] - 0s 13ms/step - loss: 175.3673 - val_loss: 162.3652\n",
      "Epoch 61/100\n",
      "3/3 [==============================] - 0s 14ms/step - loss: 175.5479 - val_loss: 163.1909\n",
      "Epoch 62/100\n",
      "3/3 [==============================] - 0s 15ms/step - loss: 174.9496 - val_loss: 163.3842\n",
      "Epoch 63/100\n",
      "3/3 [==============================] - 0s 12ms/step - loss: 176.9979 - val_loss: 168.7182\n",
      "Epoch 64/100\n",
      "3/3 [==============================] - 0s 13ms/step - loss: 173.9162 - val_loss: 161.9005\n",
      "Epoch 65/100\n",
      "3/3 [==============================] - 0s 14ms/step - loss: 173.3932 - val_loss: 157.6774\n",
      "Epoch 66/100\n",
      "3/3 [==============================] - 0s 11ms/step - loss: 173.0814 - val_loss: 157.1970\n",
      "Epoch 67/100\n",
      "3/3 [==============================] - 0s 14ms/step - loss: 172.5952 - val_loss: 157.8343\n",
      "Epoch 68/100\n",
      "3/3 [==============================] - 0s 14ms/step - loss: 172.2268 - val_loss: 164.2404\n",
      "Epoch 69/100\n",
      "3/3 [==============================] - 0s 11ms/step - loss: 171.5206 - val_loss: 165.1208\n",
      "Epoch 70/100\n",
      "3/3 [==============================] - 0s 11ms/step - loss: 171.5304 - val_loss: 167.5588\n",
      "Epoch 71/100\n",
      "3/3 [==============================] - 0s 15ms/step - loss: 171.5147 - val_loss: 163.9144\n",
      "Epoch 72/100\n",
      "3/3 [==============================] - 0s 12ms/step - loss: 170.6793 - val_loss: 161.8805\n",
      "Epoch 73/100\n",
      "3/3 [==============================] - 0s 13ms/step - loss: 170.0261 - val_loss: 156.7691\n",
      "Epoch 74/100\n",
      "3/3 [==============================] - 0s 12ms/step - loss: 169.3923 - val_loss: 155.2670\n",
      "Epoch 75/100\n",
      "3/3 [==============================] - 0s 15ms/step - loss: 169.0598 - val_loss: 152.8991\n",
      "Epoch 76/100\n",
      "3/3 [==============================] - 0s 13ms/step - loss: 169.3544 - val_loss: 153.3121\n",
      "Epoch 77/100\n",
      "3/3 [==============================] - 0s 16ms/step - loss: 169.3972 - val_loss: 156.5783\n",
      "Epoch 78/100\n",
      "3/3 [==============================] - 0s 12ms/step - loss: 169.2505 - val_loss: 154.1158\n",
      "Epoch 79/100\n",
      "3/3 [==============================] - 0s 18ms/step - loss: 167.8650 - val_loss: 155.7171\n",
      "Epoch 80/100\n"
     ]
    },
    {
     "name": "stdout",
     "output_type": "stream",
     "text": [
      "3/3 [==============================] - 0s 13ms/step - loss: 168.7705 - val_loss: 156.8922\n",
      "Epoch 81/100\n",
      "3/3 [==============================] - 0s 16ms/step - loss: 166.5960 - val_loss: 162.5595\n",
      "Epoch 82/100\n",
      "3/3 [==============================] - 0s 11ms/step - loss: 167.5791 - val_loss: 167.1326\n",
      "Epoch 83/100\n",
      "3/3 [==============================] - 0s 19ms/step - loss: 168.5419 - val_loss: 166.2935\n",
      "Epoch 84/100\n",
      "3/3 [==============================] - 0s 13ms/step - loss: 168.2679 - val_loss: 159.2551\n",
      "Epoch 85/100\n",
      "3/3 [==============================] - 0s 12ms/step - loss: 167.4565 - val_loss: 156.4830\n",
      "Epoch 86/100\n",
      "3/3 [==============================] - 0s 12ms/step - loss: 165.1772 - val_loss: 158.1052\n",
      "Epoch 87/100\n",
      "3/3 [==============================] - 0s 11ms/step - loss: 164.5424 - val_loss: 157.2605\n",
      "Epoch 88/100\n",
      "3/3 [==============================] - 0s 13ms/step - loss: 164.6382 - val_loss: 155.9026\n",
      "Epoch 89/100\n",
      "3/3 [==============================] - 0s 10ms/step - loss: 164.3265 - val_loss: 155.5141\n",
      "Epoch 90/100\n",
      "3/3 [==============================] - 0s 14ms/step - loss: 164.2177 - val_loss: 157.1099\n",
      "Epoch 91/100\n",
      "3/3 [==============================] - 0s 12ms/step - loss: 165.8918 - val_loss: 159.3757\n",
      "Epoch 92/100\n",
      "3/3 [==============================] - 0s 14ms/step - loss: 165.0140 - val_loss: 149.8021\n",
      "Epoch 93/100\n",
      "3/3 [==============================] - 0s 12ms/step - loss: 163.5281 - val_loss: 148.0854\n",
      "Epoch 94/100\n",
      "3/3 [==============================] - 0s 15ms/step - loss: 165.2547 - val_loss: 146.8788\n",
      "Epoch 95/100\n",
      "3/3 [==============================] - 0s 12ms/step - loss: 164.4044 - val_loss: 147.5711\n",
      "Epoch 96/100\n",
      "3/3 [==============================] - 0s 12ms/step - loss: 161.9699 - val_loss: 147.8956\n",
      "Epoch 97/100\n",
      "3/3 [==============================] - 0s 11ms/step - loss: 164.3907 - val_loss: 151.7045\n",
      "Epoch 98/100\n",
      "3/3 [==============================] - 0s 17ms/step - loss: 162.7848 - val_loss: 149.1294\n",
      "Epoch 99/100\n",
      "3/3 [==============================] - 0s 15ms/step - loss: 162.4852 - val_loss: 149.9029\n",
      "Epoch 100/100\n",
      "3/3 [==============================] - 0s 15ms/step - loss: 162.2605 - val_loss: 146.6725\n"
     ]
    }
   ],
   "source": [
    "history = model.fit(X_train, y_train, epochs=100,\n",
    "                    validation_data=(X_valid, y_valid))"
   ]
  },
  {
   "cell_type": "markdown",
   "id": "17d6e37a",
   "metadata": {},
   "source": [
    "Plot the result"
   ]
  },
  {
   "cell_type": "code",
   "execution_count": 17,
   "id": "3b066f5c",
   "metadata": {},
   "outputs": [
    {
     "name": "stdout",
     "output_type": "stream",
     "text": [
      "Saving figure num_num_training_curve\n"
     ]
    },
    {
     "data": {
      "image/png": "[encoded data removed]",
      "text/plain": [
       "<Figure size 576x360 with 1 Axes>"
      ]
     },
     "metadata": {
      "needs_background": "light"
     },
     "output_type": "display_data"
    }
   ],
   "source": [
    "import pandas as pd\n",
    "\n",
    "pd.DataFrame(history.history).plot(figsize=(8, 5))\n",
    "plt.grid(True)\n",
    "# plt.gca().set_ylim(0, 1)\n",
    "save_fig(\"num_num_training_curve\")\n",
    "plt.show()"
   ]
  },
  {
   "cell_type": "code",
   "execution_count": 18,
   "id": "03f9bb54",
   "metadata": {},
   "outputs": [
    {
     "name": "stdout",
     "output_type": "stream",
     "text": [
      "Saving figure num_num_prediction\n"
     ]
    },
    {
     "data": {
      "image/png": "[encoded data removed]",
      "text/plain": [
       "<Figure size 432x288 with 1 Axes>"
      ]
     },
     "metadata": {
      "needs_background": "light"
     },
     "output_type": "display_data"
    }
   ],
   "source": [
    "# X_new = np.linspace(-5, 5, 100).reshape(100, 1)\n",
    "# y_new = model.predict(X_new)\n",
    "#\n",
    "# plt.plot(X_train, y_train, \"b.\")\n",
    "draw_points(X_train, y_train, sid_train)\n",
    "# plt.plot(X_new, y_new, \"r-\", linewidth=2, label=\"Predictions\")\n",
    "draw_func(model.predict, mark='r-', linewidth=2, label=\"Predictions\")\n",
    "draw_normal_func(func_dict)\n",
    "plt.xlabel(\"$x_1$\", fontsize=18)\n",
    "plt.ylabel(\"$y$\", rotation=0, fontsize=18)\n",
    "plt.legend(loc=\"upper left\", fontsize=14)\n",
    "# plt.axis([-3, 3, 0, 10])\n",
    "save_fig(\"num_num_prediction\")\n",
    "plt.show()"
   ]
  },
  {
   "cell_type": "code",
   "execution_count": 19,
   "id": "bc06d931",
   "metadata": {},
   "outputs": [
    {
     "name": "stdout",
     "output_type": "stream",
     "text": [
      "y_func.shape = (100, 1)\n",
      "y_gt.shape = (100, 1)\n"
     ]
    },
    {
     "data": {
      "text/plain": [
       "6.3500468507971"
      ]
     },
     "execution_count": 19,
     "metadata": {},
     "output_type": "execute_result"
    }
   ],
   "source": [
    "get_prediction_error(model.predict, func_dict, name=\"num-num\")"
   ]
  },
  {
   "cell_type": "markdown",
   "id": "58da8768",
   "metadata": {},
   "source": [
    "# Simulated CNN Feature Map (1-D grids, grid --> number)"
   ]
  },
  {
   "cell_type": "code",
   "execution_count": 20,
   "id": "287b5e4c",
   "metadata": {},
   "outputs": [],
   "source": [
    "class num2grid(keras.layers.Layer):\n",
    "    def __init__(self, units, x_min=-10, x_max=10, sigma=1.0, activation=None, **kwargs):\n",
    "        super().__init__(**kwargs)\n",
    "        self.units = units\n",
    "        self.x_min = x_min\n",
    "        self.x_max = x_max\n",
    "        self.sigma = sigma\n",
    "        self.sigma2 = self.sigma**2\n",
    "        self.activation = keras.activations.get(activation)\n",
    "        \n",
    "    def build(self, batch_input_shape):\n",
    "        #\n",
    "        self.x_grid = np.linspace(self.x_min, self.x_max, self.units, endpoint=True)\n",
    "#         print(\"self.x_grid.shape = %s\" % str(self.x_grid.shape))\n",
    "        #\n",
    "        super().build(batch_input_shape) # must be at the end\n",
    "        \n",
    "    def call(self, X):\n",
    "        '''\n",
    "        Input shape:  (batch, X_chanel)\n",
    "        Output shape: (batch, grid_unit) \n",
    "        \n",
    "        self.x_grid shape: (grid_unit,)\n",
    "        '''\n",
    "        gauss_grid = tf.exp( -(self.x_grid - X)**2 / (2.0*self.sigma2) )\n",
    "        print(\"X.shape = %s\" % str(X.shape))\n",
    "        print(\"gauss_grid.shape = %s\" % str(gauss_grid.shape))\n",
    "        return self.activation(gauss_grid)\n",
    "    \n",
    "    def compute_output_shape(self, batch_input_shape):\n",
    "        return tf.TensorShape(batch_input_shape.as_list()[:-1] + [self.units])\n",
    "    \n",
    "    def get_config(self):\n",
    "        base_config = super().get_config()\n",
    "        return {**base_config, \n",
    "                \"units\": self.units,\n",
    "                \"x_min\": self.x_min,\n",
    "                \"x_max\": self.x_max,\n",
    "                \"sigma\": self.sigma,\n",
    "                \"activation\": keras.activations.serialize(self.activation)}"
   ]
  },
  {
   "cell_type": "code",
   "execution_count": 21,
   "id": "f463c12a",
   "metadata": {},
   "outputs": [
    {
     "name": "stdout",
     "output_type": "stream",
     "text": [
      "X.shape = (None, 1)\n",
      "gauss_grid.shape = (None, 5)\n"
     ]
    }
   ],
   "source": [
    "model = keras.models.Sequential([\n",
    "    num2grid(5,x_min=-10, x_max=10, sigma=3.0, input_shape=X_train.shape[1:]),\n",
    "    keras.layers.Dense(30, activation=\"relu\"),\n",
    "#     keras.layers.Dense(100, activation=\"relu\", kernel_regularizer=tf.keras.regularizers.l1(0.01)),\n",
    "#     keras.layers.Dense(30, activation=keras.layers.LeakyReLU(alpha=0.2) ),\n",
    "#     keras.layers.Dense(30, activation=\"selu\"),\n",
    "#     keras.layers.Dense(30, activation=\"relu\"),\n",
    "    keras.layers.Dense(1)\n",
    "])"
   ]
  },
  {
   "cell_type": "code",
   "execution_count": 22,
   "id": "73fbb610",
   "metadata": {},
   "outputs": [],
   "source": [
    "# # Customized loss function\n",
    "# def asymptoticLoss_fn(y_true, y_pred, alpha=0.01):\n",
    "#     # tau: quantile, tau in [0.0, 1.0]\n",
    "#     # y_true: label mean\n",
    "#     # y_pred: predicted tau quantile\n",
    "#     y_target = alpha * y_true + (1.0 - alpha) * y_pred\n",
    "#     # return tf.abs(y_pred - y_target)\n",
    "#     return (y_pred - y_target)**2"
   ]
  },
  {
   "cell_type": "code",
   "execution_count": 23,
   "id": "062ec84e",
   "metadata": {},
   "outputs": [
    {
     "name": "stderr",
     "output_type": "stream",
     "text": [
      "/home/benson516/GazeDemo/gaze_env/lib/python3.8/site-packages/tensorflow/python/keras/optimizer_v2/optimizer_v2.py:374: UserWarning: The `lr` argument is deprecated, use `learning_rate` instead.\n",
      "  warnings.warn(\n"
     ]
    }
   ],
   "source": [
    "optimizer = keras.optimizers.SGD(lr=0.001, momentum=0.9)\n",
    "model.compile(loss=\"mean_squared_error\", optimizer=optimizer)\n",
    "# optimizer = keras.optimizers.Adam(lr=0.1)\n",
    "# # model.compile(loss=\"mean_absolute_error\", optimizer=optimizer)\n",
    "# model.compile(loss=asymptoticLoss_fn, optimizer=optimizer)"
   ]
  },
  {
   "cell_type": "code",
   "execution_count": 24,
   "id": "c966ada4",
   "metadata": {
    "scrolled": true
   },
   "outputs": [
    {
     "name": "stdout",
     "output_type": "stream",
     "text": [
      "Epoch 1/100\n",
      "X.shape = (None, 1)\n",
      "gauss_grid.shape = (None, 5)\n",
      "X.shape = (None, 1)\n",
      "gauss_grid.shape = (None, 5)\n",
      "1/3 [=========>....................] - ETA: 0s - loss: 2309.0854X.shape = (None, 1)\n",
      "gauss_grid.shape = (None, 5)\n",
      "3/3 [==============================] - 0s 39ms/step - loss: 2508.1465 - val_loss: 1725.3242\n",
      "Epoch 2/100\n",
      "3/3 [==============================] - 0s 6ms/step - loss: 2441.1714 - val_loss: 1681.1387\n",
      "Epoch 3/100\n",
      "3/3 [==============================] - 0s 8ms/step - loss: 2293.2329 - val_loss: 1565.6042\n",
      "Epoch 4/100\n",
      "3/3 [==============================] - 0s 9ms/step - loss: 1892.9424 - val_loss: 1331.8558\n",
      "Epoch 5/100\n",
      "3/3 [==============================] - 0s 8ms/step - loss: 1174.0255 - val_loss: 1058.1904\n",
      "Epoch 6/100\n",
      "3/3 [==============================] - 0s 12ms/step - loss: 811.5816 - val_loss: 580.1292\n",
      "Epoch 7/100\n",
      "3/3 [==============================] - 0s 8ms/step - loss: 516.4221 - val_loss: 330.0676\n",
      "Epoch 8/100\n",
      "3/3 [==============================] - 0s 17ms/step - loss: 350.5868 - val_loss: 290.1550\n",
      "Epoch 9/100\n",
      "3/3 [==============================] - 0s 8ms/step - loss: 342.4061 - val_loss: 298.6752\n",
      "Epoch 10/100\n",
      "3/3 [==============================] - 0s 10ms/step - loss: 297.5320 - val_loss: 318.2510\n",
      "Epoch 11/100\n",
      "3/3 [==============================] - 0s 16ms/step - loss: 275.9444 - val_loss: 257.7578\n",
      "Epoch 12/100\n",
      "3/3 [==============================] - 0s 14ms/step - loss: 266.5487 - val_loss: 237.1560\n",
      "Epoch 13/100\n",
      "3/3 [==============================] - 0s 14ms/step - loss: 233.7198 - val_loss: 294.6189\n",
      "Epoch 14/100\n",
      "3/3 [==============================] - 0s 9ms/step - loss: 264.3645 - val_loss: 262.0793\n",
      "Epoch 15/100\n",
      "3/3 [==============================] - 0s 12ms/step - loss: 238.3147 - val_loss: 231.2493\n",
      "Epoch 16/100\n",
      "3/3 [==============================] - 0s 10ms/step - loss: 237.9275 - val_loss: 217.2229\n",
      "Epoch 17/100\n",
      "3/3 [==============================] - 0s 13ms/step - loss: 217.4450 - val_loss: 231.5412\n",
      "Epoch 18/100\n",
      "3/3 [==============================] - 0s 13ms/step - loss: 226.5641 - val_loss: 214.7316\n",
      "Epoch 19/100\n",
      "3/3 [==============================] - 0s 13ms/step - loss: 221.7450 - val_loss: 200.3107\n",
      "Epoch 20/100\n",
      "3/3 [==============================] - 0s 12ms/step - loss: 212.3367 - val_loss: 197.3783\n",
      "Epoch 21/100\n",
      "3/3 [==============================] - 0s 13ms/step - loss: 206.9428 - val_loss: 205.1213\n",
      "Epoch 22/100\n",
      "3/3 [==============================] - 0s 12ms/step - loss: 206.8274 - val_loss: 206.0545\n",
      "Epoch 23/100\n",
      "3/3 [==============================] - 0s 14ms/step - loss: 202.7342 - val_loss: 189.9059\n",
      "Epoch 24/100\n",
      "3/3 [==============================] - 0s 13ms/step - loss: 197.2370 - val_loss: 174.1105\n",
      "Epoch 25/100\n",
      "3/3 [==============================] - 0s 12ms/step - loss: 190.7552 - val_loss: 170.1438\n",
      "Epoch 26/100\n",
      "3/3 [==============================] - 0s 13ms/step - loss: 192.4798 - val_loss: 164.0188\n",
      "Epoch 27/100\n",
      "3/3 [==============================] - 0s 11ms/step - loss: 189.2030 - val_loss: 157.6506\n",
      "Epoch 28/100\n",
      "3/3 [==============================] - 0s 15ms/step - loss: 185.1645 - val_loss: 159.0526\n",
      "Epoch 29/100\n",
      "3/3 [==============================] - 0s 11ms/step - loss: 181.0728 - val_loss: 153.8076\n",
      "Epoch 30/100\n",
      "3/3 [==============================] - 0s 11ms/step - loss: 183.7503 - val_loss: 146.0892\n",
      "Epoch 31/100\n",
      "3/3 [==============================] - 0s 12ms/step - loss: 179.6783 - val_loss: 144.6547\n",
      "Epoch 32/100\n",
      "3/3 [==============================] - 0s 15ms/step - loss: 176.6009 - val_loss: 143.1649\n",
      "Epoch 33/100\n",
      "3/3 [==============================] - 0s 14ms/step - loss: 176.6681 - val_loss: 141.1529\n",
      "Epoch 34/100\n",
      "3/3 [==============================] - 0s 16ms/step - loss: 173.2429 - val_loss: 128.7154\n",
      "Epoch 35/100\n",
      "3/3 [==============================] - 0s 19ms/step - loss: 172.7391 - val_loss: 127.7851\n",
      "Epoch 36/100\n",
      "3/3 [==============================] - 0s 11ms/step - loss: 170.5108 - val_loss: 126.4231\n",
      "Epoch 37/100\n",
      "3/3 [==============================] - 0s 11ms/step - loss: 169.2719 - val_loss: 127.9870\n",
      "Epoch 38/100\n",
      "3/3 [==============================] - 0s 11ms/step - loss: 167.5160 - val_loss: 123.9570\n",
      "Epoch 39/100\n",
      "3/3 [==============================] - 0s 14ms/step - loss: 168.9218 - val_loss: 119.5812\n",
      "Epoch 40/100\n",
      "3/3 [==============================] - 0s 12ms/step - loss: 167.9154 - val_loss: 125.7479\n",
      "Epoch 41/100\n",
      "3/3 [==============================] - 0s 14ms/step - loss: 168.9273 - val_loss: 115.5753\n",
      "Epoch 42/100\n",
      "3/3 [==============================] - 0s 15ms/step - loss: 166.0974 - val_loss: 114.3919\n",
      "Epoch 43/100\n",
      "3/3 [==============================] - 0s 13ms/step - loss: 169.2679 - val_loss: 118.4746\n",
      "Epoch 44/100\n",
      "3/3 [==============================] - 0s 13ms/step - loss: 166.2474 - val_loss: 109.5523\n",
      "Epoch 45/100\n",
      "3/3 [==============================] - 0s 14ms/step - loss: 166.2778 - val_loss: 105.3431\n",
      "Epoch 46/100\n",
      "3/3 [==============================] - 0s 13ms/step - loss: 170.5547 - val_loss: 110.5381\n",
      "Epoch 47/100\n",
      "3/3 [==============================] - 0s 14ms/step - loss: 164.9935 - val_loss: 137.7583\n",
      "Epoch 48/100\n",
      "3/3 [==============================] - 0s 14ms/step - loss: 169.8170 - val_loss: 138.6255\n",
      "Epoch 49/100\n",
      "3/3 [==============================] - 0s 13ms/step - loss: 167.1387 - val_loss: 119.9558\n",
      "Epoch 50/100\n",
      "3/3 [==============================] - 0s 12ms/step - loss: 166.1696 - val_loss: 105.7245\n",
      "Epoch 51/100\n",
      "3/3 [==============================] - 0s 14ms/step - loss: 170.5291 - val_loss: 105.7646\n",
      "Epoch 52/100\n",
      "3/3 [==============================] - 0s 21ms/step - loss: 168.2629 - val_loss: 105.1098\n",
      "Epoch 53/100\n",
      "3/3 [==============================] - 0s 11ms/step - loss: 167.3576 - val_loss: 113.5569\n",
      "Epoch 54/100\n",
      "3/3 [==============================] - 0s 17ms/step - loss: 166.9529 - val_loss: 115.1170\n",
      "Epoch 55/100\n",
      "3/3 [==============================] - 0s 14ms/step - loss: 163.5520 - val_loss: 120.1908\n",
      "Epoch 56/100\n",
      "3/3 [==============================] - 0s 11ms/step - loss: 166.1435 - val_loss: 118.3404\n",
      "Epoch 57/100\n",
      "3/3 [==============================] - 0s 18ms/step - loss: 165.1608 - val_loss: 121.5159\n",
      "Epoch 58/100\n",
      "3/3 [==============================] - 0s 10ms/step - loss: 168.0315 - val_loss: 121.1755\n",
      "Epoch 59/100\n",
      "3/3 [==============================] - 0s 11ms/step - loss: 170.2695 - val_loss: 114.4129\n",
      "Epoch 60/100\n",
      "3/3 [==============================] - 0s 19ms/step - loss: 163.9821 - val_loss: 123.5038\n",
      "Epoch 61/100\n",
      "3/3 [==============================] - 0s 14ms/step - loss: 165.4878 - val_loss: 118.1989\n",
      "Epoch 62/100\n",
      "3/3 [==============================] - 0s 13ms/step - loss: 164.2075 - val_loss: 123.3581\n",
      "Epoch 63/100\n",
      "3/3 [==============================] - 0s 12ms/step - loss: 166.9923 - val_loss: 121.3325\n",
      "Epoch 64/100\n",
      "3/3 [==============================] - 0s 14ms/step - loss: 166.1651 - val_loss: 110.0219\n",
      "Epoch 65/100\n",
      "3/3 [==============================] - 0s 11ms/step - loss: 166.1763 - val_loss: 107.0653\n",
      "Epoch 66/100\n",
      "3/3 [==============================] - 0s 17ms/step - loss: 164.3247 - val_loss: 99.2833\n",
      "Epoch 67/100\n",
      "3/3 [==============================] - 0s 16ms/step - loss: 165.8609 - val_loss: 102.3963\n",
      "Epoch 68/100\n",
      "3/3 [==============================] - 0s 12ms/step - loss: 163.6275 - val_loss: 118.6304\n",
      "Epoch 69/100\n",
      "3/3 [==============================] - 0s 13ms/step - loss: 167.4663 - val_loss: 129.4971\n",
      "Epoch 70/100\n",
      "3/3 [==============================] - 0s 18ms/step - loss: 164.4231 - val_loss: 110.3502\n",
      "Epoch 71/100\n",
      "3/3 [==============================] - 0s 21ms/step - loss: 161.9040 - val_loss: 103.3074\n",
      "Epoch 72/100\n",
      "3/3 [==============================] - 0s 16ms/step - loss: 163.8271 - val_loss: 102.9968\n",
      "Epoch 73/100\n",
      "3/3 [==============================] - 0s 10ms/step - loss: 165.3906 - val_loss: 105.2565\n",
      "Epoch 74/100\n",
      "3/3 [==============================] - 0s 17ms/step - loss: 164.8214 - val_loss: 130.1355\n",
      "Epoch 75/100\n",
      "3/3 [==============================] - 0s 13ms/step - loss: 165.5944 - val_loss: 141.1140\n",
      "Epoch 76/100\n",
      "3/3 [==============================] - 0s 11ms/step - loss: 170.6067 - val_loss: 134.4907\n",
      "Epoch 77/100\n",
      "3/3 [==============================] - 0s 15ms/step - loss: 166.9275 - val_loss: 119.7838\n",
      "Epoch 78/100\n"
     ]
    },
    {
     "name": "stdout",
     "output_type": "stream",
     "text": [
      "3/3 [==============================] - 0s 14ms/step - loss: 162.0734 - val_loss: 107.5279\n",
      "Epoch 79/100\n",
      "3/3 [==============================] - 0s 11ms/step - loss: 161.7457 - val_loss: 97.9122\n",
      "Epoch 80/100\n",
      "3/3 [==============================] - 0s 10ms/step - loss: 167.4938 - val_loss: 98.0393\n",
      "Epoch 81/100\n",
      "3/3 [==============================] - 0s 12ms/step - loss: 164.1154 - val_loss: 111.7938\n",
      "Epoch 82/100\n",
      "3/3 [==============================] - 0s 12ms/step - loss: 164.3739 - val_loss: 132.9562\n",
      "Epoch 83/100\n",
      "3/3 [==============================] - 0s 16ms/step - loss: 163.6700 - val_loss: 124.8151\n",
      "Epoch 84/100\n",
      "3/3 [==============================] - 0s 16ms/step - loss: 161.5708 - val_loss: 111.9372\n",
      "Epoch 85/100\n",
      "3/3 [==============================] - 0s 14ms/step - loss: 159.7951 - val_loss: 103.4790\n",
      "Epoch 86/100\n",
      "3/3 [==============================] - 0s 13ms/step - loss: 163.5686 - val_loss: 102.7174\n",
      "Epoch 87/100\n",
      "3/3 [==============================] - 0s 12ms/step - loss: 162.9664 - val_loss: 103.1824\n",
      "Epoch 88/100\n",
      "3/3 [==============================] - 0s 14ms/step - loss: 162.3369 - val_loss: 111.2856\n",
      "Epoch 89/100\n",
      "3/3 [==============================] - 0s 13ms/step - loss: 161.5882 - val_loss: 121.7805\n",
      "Epoch 90/100\n",
      "3/3 [==============================] - 0s 11ms/step - loss: 161.3911 - val_loss: 121.9509\n",
      "Epoch 91/100\n",
      "3/3 [==============================] - 0s 11ms/step - loss: 161.4588 - val_loss: 117.1100\n",
      "Epoch 92/100\n",
      "3/3 [==============================] - 0s 12ms/step - loss: 159.6092 - val_loss: 112.7020\n",
      "Epoch 93/100\n",
      "3/3 [==============================] - 0s 16ms/step - loss: 163.0851 - val_loss: 102.7315\n",
      "Epoch 94/100\n",
      "3/3 [==============================] - 0s 11ms/step - loss: 160.7979 - val_loss: 107.7879\n",
      "Epoch 95/100\n",
      "3/3 [==============================] - 0s 16ms/step - loss: 161.6360 - val_loss: 114.4834\n",
      "Epoch 96/100\n",
      "3/3 [==============================] - 0s 13ms/step - loss: 161.8147 - val_loss: 109.3049\n",
      "Epoch 97/100\n",
      "3/3 [==============================] - 0s 10ms/step - loss: 163.6325 - val_loss: 100.9768\n",
      "Epoch 98/100\n",
      "3/3 [==============================] - 0s 12ms/step - loss: 162.1680 - val_loss: 114.3315\n",
      "Epoch 99/100\n",
      "3/3 [==============================] - 0s 12ms/step - loss: 156.4745 - val_loss: 135.5704\n",
      "Epoch 100/100\n",
      "3/3 [==============================] - 0s 15ms/step - loss: 164.7954 - val_loss: 140.5385\n"
     ]
    }
   ],
   "source": [
    "history = model.fit(X_train, y_train, epochs=100,\n",
    "                    validation_data=(X_valid, y_valid))"
   ]
  },
  {
   "cell_type": "code",
   "execution_count": 25,
   "id": "4d550f88",
   "metadata": {},
   "outputs": [
    {
     "name": "stdout",
     "output_type": "stream",
     "text": [
      "Saving figure grid_num_training_curve\n"
     ]
    },
    {
     "data": {
      "image/png": "[encoded data removed]",
      "text/plain": [
       "<Figure size 576x360 with 1 Axes>"
      ]
     },
     "metadata": {
      "needs_background": "light"
     },
     "output_type": "display_data"
    }
   ],
   "source": [
    "import pandas as pd\n",
    "\n",
    "pd.DataFrame(history.history).plot(figsize=(8, 5))\n",
    "plt.grid(True)\n",
    "# plt.gca().set_ylim(0, 1)\n",
    "save_fig(\"grid_num_training_curve\")\n",
    "plt.show()"
   ]
  },
  {
   "cell_type": "code",
   "execution_count": 26,
   "id": "5487653c",
   "metadata": {},
   "outputs": [
    {
     "name": "stdout",
     "output_type": "stream",
     "text": [
      "X.shape = (None, 1)\n",
      "gauss_grid.shape = (None, 5)\n",
      "Saving figure grid_num_prediction\n"
     ]
    },
    {
     "data": {
      "image/png": "[encoded data removed]",
      "text/plain": [
       "<Figure size 432x288 with 1 Axes>"
      ]
     },
     "metadata": {
      "needs_background": "light"
     },
     "output_type": "display_data"
    }
   ],
   "source": [
    "# X_new = np.linspace(-5, 5, 100).reshape(100, 1)\n",
    "# y_new = model.predict(X_new)\n",
    "#\n",
    "# plt.plot(X_train, y_train, \"b.\")\n",
    "draw_points(X_train, y_train, sid_train)\n",
    "# plt.plot(X_new, y_new, \"r-\", linewidth=2, label=\"Predictions\")\n",
    "draw_func(model.predict, mark='r-', linewidth=2, label=\"Predictions\")\n",
    "draw_normal_func(func_dict)\n",
    "plt.xlabel(\"$x_1$\", fontsize=18)\n",
    "plt.ylabel(\"$y$\", rotation=0, fontsize=18)\n",
    "plt.legend(loc=\"upper left\", fontsize=14)\n",
    "# plt.axis([-3, 3, 0, 10])\n",
    "save_fig(\"grid_num_prediction\")\n",
    "plt.show()"
   ]
  },
  {
   "cell_type": "code",
   "execution_count": 27,
   "id": "f9c053a4",
   "metadata": {},
   "outputs": [
    {
     "name": "stdout",
     "output_type": "stream",
     "text": [
      "y_func.shape = (100, 1)\n",
      "y_gt.shape = (100, 1)\n"
     ]
    },
    {
     "data": {
      "text/plain": [
       "4.856376905381997"
      ]
     },
     "execution_count": 27,
     "metadata": {},
     "output_type": "execute_result"
    }
   ],
   "source": [
    "get_prediction_error(model.predict, func_dict, name=\"grid-num\")"
   ]
  },
  {
   "cell_type": "markdown",
   "id": "fe65d614",
   "metadata": {},
   "source": [
    "# Grid & Regression by Classification (grid --> grid)"
   ]
  },
  {
   "cell_type": "code",
   "execution_count": 28,
   "id": "3d35615e",
   "metadata": {},
   "outputs": [],
   "source": [
    "class num2grid_np():\n",
    "    def __init__(self, units, x_min=-10, x_max=10, sigma=1.0):\n",
    "        self.units = units\n",
    "        self.x_min = x_min\n",
    "        self.x_max = x_max\n",
    "        self.sigma = sigma\n",
    "        self.sigma2 = self.sigma**2\n",
    "        self.x_grid = np.linspace(self.x_min, self.x_max, self.units, endpoint=True)\n",
    "        print(\"self.x_grid = %s\" % str(self.x_grid))\n",
    "        \n",
    "    def convert(self, X):\n",
    "        gauss_grid = np.exp( -(self.x_grid - X)**2 / (2.0*self.sigma2) )\n",
    "#         if len(gauss_grid.shape) == 1:\n",
    "#             gauss_grid = gauss_grid.reshape([1,-1])\n",
    "#         grid_sum = np.sum(gauss_grid, axis=1, keepdims=True)\n",
    "        grid_sum = np.sum(gauss_grid, axis=-1, keepdims=True)\n",
    "        gauss_grid = gauss_grid / grid_sum\n",
    "        return gauss_grid\n",
    "    \n",
    "    def inv_convert(self, grid):\n",
    "#         if len(grid.shape) == 1:\n",
    "#             grid = grid.reshape([1,-1])\n",
    "#         grid_sum = np.sum(grid, axis=1)\n",
    "        grid_sum = np.sum(grid, axis=-1)\n",
    "#         print(grid_sum)\n",
    "        exp_num = np.sum((self.x_grid * grid), axis=-1) / grid_sum # element-wise\n",
    "        return exp_num\n",
    "    \n",
    "    def get_statistic(self, grid):\n",
    "        grid_sum = np.sum(grid, axis=-1)\n",
    "        _mean = np.sum((self.x_grid * grid), axis=-1) / grid_sum # element-wise\n",
    "        _var  = np.sum( ((self.x_grid.reshape((1,-1)) - _mean.reshape((-1,1)))**2 * grid), axis=-1) / grid_sum # element-wise\n",
    "        # print(\"(_mean, _var) = (%f, %f)\" % (_mean, _var))\n",
    "        _stddev = np.sqrt(_var)\n",
    "        return _mean, _stddev"
   ]
  },
  {
   "cell_type": "code",
   "execution_count": 29,
   "id": "4903180b",
   "metadata": {},
   "outputs": [
    {
     "name": "stdout",
     "output_type": "stream",
     "text": [
      "self.x_grid = [-100.          -95.91836735  -91.83673469  -87.75510204  -83.67346939\n",
      "  -79.59183673  -75.51020408  -71.42857143  -67.34693878  -63.26530612\n",
      "  -59.18367347  -55.10204082  -51.02040816  -46.93877551  -42.85714286\n",
      "  -38.7755102   -34.69387755  -30.6122449   -26.53061224  -22.44897959\n",
      "  -18.36734694  -14.28571429  -10.20408163   -6.12244898   -2.04081633\n",
      "    2.04081633    6.12244898   10.20408163   14.28571429   18.36734694\n",
      "   22.44897959   26.53061224   30.6122449    34.69387755   38.7755102\n",
      "   42.85714286   46.93877551   51.02040816   55.10204082   59.18367347\n",
      "   63.26530612   67.34693878   71.42857143   75.51020408   79.59183673\n",
      "   83.67346939   87.75510204   91.83673469   95.91836735  100.        ]\n"
     ]
    }
   ],
   "source": [
    "# class_num = 10 # 10\n",
    "# n2g = num2grid_np(class_num, x_min=-100.0, x_max=100.0, sigma=20.0) # 20.0\n",
    "# class_num = 20\n",
    "# n2g = num2grid_np(class_num, x_min=-100.0, x_max=100.0, sigma=15.0) # 20.0\n",
    "class_num = 50\n",
    "n2g = num2grid_np(class_num, x_min=-100.0, x_max=100.0, sigma=6.0) # 5.0 "
   ]
  },
  {
   "cell_type": "code",
   "execution_count": 30,
   "id": "dce05258",
   "metadata": {},
   "outputs": [
    {
     "name": "stdout",
     "output_type": "stream",
     "text": [
      "[[3.57995092e-60 2.08100846e-55 7.61538914e-51 1.75441300e-46\n",
      "  2.54444491e-42 2.32314196e-38 1.33530332e-34 4.83176258e-31\n",
      "  1.10065884e-27 1.57841554e-24 1.42498879e-21 8.09884396e-19\n",
      "  2.89771784e-16 6.52695532e-14 9.25521826e-12 8.26198061e-10\n",
      "  4.64304784e-08 1.64264466e-06 3.65852120e-05 5.12966502e-04\n",
      "  4.52786966e-03 2.51605603e-02 8.80173281e-02 1.93837381e-01\n",
      "  2.68737559e-01 2.34552834e-01 1.28876722e-01 4.45789421e-02\n",
      "  9.70748025e-03 1.33077537e-03 1.14848275e-04 6.23972825e-06\n",
      "  2.13416679e-07 4.59528573e-09 6.22899760e-11 5.31551427e-13\n",
      "  2.85557712e-15 9.65748361e-18 2.05615356e-20 2.75593262e-23\n",
      "  2.32542921e-26 1.23526215e-29 4.13082337e-33 8.69632169e-37\n",
      "  1.15254011e-40 9.61607812e-45 5.05081425e-49 1.67011468e-53\n",
      "  3.47658354e-58 4.55596654e-63]]\n"
     ]
    }
   ],
   "source": [
    "# grid_1 = n2g.convert(-1.2)\n",
    "grid_1 = n2g.convert([[-1.2]])\n",
    "print(grid_1)"
   ]
  },
  {
   "cell_type": "code",
   "execution_count": 31,
   "id": "48203fe2",
   "metadata": {},
   "outputs": [
    {
     "data": {
      "text/plain": [
       "array([-1.2])"
      ]
     },
     "execution_count": 31,
     "metadata": {},
     "output_type": "execute_result"
    }
   ],
   "source": [
    "n2g.inv_convert(grid_1)"
   ]
  },
  {
   "cell_type": "code",
   "execution_count": 32,
   "id": "a741b6d1",
   "metadata": {},
   "outputs": [
    {
     "data": {
      "text/plain": [
       "(array([-1.2]), array([6.]))"
      ]
     },
     "execution_count": 32,
     "metadata": {},
     "output_type": "execute_result"
    }
   ],
   "source": [
    "n2g.get_statistic(grid_1)"
   ]
  },
  {
   "cell_type": "markdown",
   "id": "bdc0b9a0",
   "metadata": {},
   "source": [
    "### Convert the labels to grid (pre-processing)"
   ]
  },
  {
   "cell_type": "code",
   "execution_count": 33,
   "id": "39c7fa96",
   "metadata": {},
   "outputs": [],
   "source": [
    "y_train_grid = n2g.convert(y_train)\n",
    "y_valid_grid = n2g.convert(y_valid)"
   ]
  },
  {
   "cell_type": "code",
   "execution_count": 34,
   "id": "f577a751",
   "metadata": {},
   "outputs": [
    {
     "name": "stdout",
     "output_type": "stream",
     "text": [
      "(80, 50)\n",
      "(20, 50)\n"
     ]
    }
   ],
   "source": [
    "print(y_train_grid.shape)\n",
    "print(y_valid_grid.shape)"
   ]
  },
  {
   "cell_type": "code",
   "execution_count": 35,
   "id": "71610af1",
   "metadata": {},
   "outputs": [
    {
     "name": "stdout",
     "output_type": "stream",
     "text": [
      "X.shape = (None, 1)\n",
      "gauss_grid.shape = (None, 5)\n"
     ]
    },
    {
     "name": "stderr",
     "output_type": "stream",
     "text": [
      "/home/benson516/GazeDemo/gaze_env/lib/python3.8/site-packages/tensorflow/python/keras/optimizer_v2/optimizer_v2.py:374: UserWarning: The `lr` argument is deprecated, use `learning_rate` instead.\n",
      "  warnings.warn(\n"
     ]
    }
   ],
   "source": [
    "model = keras.models.Sequential([\n",
    "#     keras.layers.Dense(30, activation=\"relu\", input_shape=X_train.shape[1:]),\n",
    "    num2grid(5,x_min=-10, x_max=10, sigma=3.0, input_shape=X_train.shape[1:]),\n",
    "    keras.layers.Dense(30, activation=\"relu\"),\n",
    "#     keras.layers.Dense(100, activation=\"relu\", kernel_regularizer=tf.keras.regularizers.l1(0.01)),\n",
    "    keras.layers.Dense(class_num, activation=\"softmax\"),\n",
    "])\n",
    "\n",
    "optimizer = keras.optimizers.SGD(lr=0.2, momentum=0.9)\n",
    "model.compile(loss=\"categorical_crossentropy\", optimizer=optimizer)"
   ]
  },
  {
   "cell_type": "code",
   "execution_count": 36,
   "id": "e2244aee",
   "metadata": {
    "scrolled": true
   },
   "outputs": [
    {
     "name": "stdout",
     "output_type": "stream",
     "text": [
      "Epoch 1/100\n",
      "X.shape = (None, 1)\n",
      "gauss_grid.shape = (None, 5)\n",
      "X.shape = (None, 1)\n",
      "gauss_grid.shape = (None, 5)\n",
      "1/3 [=========>....................] - ETA: 0s - loss: 3.9133X.shape = (None, 1)\n",
      "gauss_grid.shape = (None, 5)\n",
      "3/3 [==============================] - 0s 52ms/step - loss: 3.9160 - val_loss: 3.9281\n",
      "Epoch 2/100\n",
      "3/3 [==============================] - 0s 8ms/step - loss: 3.8721 - val_loss: 3.8833\n",
      "Epoch 3/100\n",
      "3/3 [==============================] - 0s 11ms/step - loss: 3.8010 - val_loss: 3.8378\n",
      "Epoch 4/100\n",
      "3/3 [==============================] - 0s 9ms/step - loss: 3.7275 - val_loss: 3.7983\n",
      "Epoch 5/100\n",
      "3/3 [==============================] - 0s 12ms/step - loss: 3.6511 - val_loss: 3.7681\n",
      "Epoch 6/100\n",
      "3/3 [==============================] - 0s 8ms/step - loss: 3.5591 - val_loss: 3.7267\n",
      "Epoch 7/100\n",
      "3/3 [==============================] - 0s 15ms/step - loss: 3.4641 - val_loss: 3.6449\n",
      "Epoch 8/100\n",
      "3/3 [==============================] - 0s 14ms/step - loss: 3.3646 - val_loss: 3.5507\n",
      "Epoch 9/100\n",
      "3/3 [==============================] - 0s 12ms/step - loss: 3.2669 - val_loss: 3.4364\n",
      "Epoch 10/100\n",
      "3/3 [==============================] - 0s 17ms/step - loss: 3.1778 - val_loss: 3.3318\n",
      "Epoch 11/100\n",
      "3/3 [==============================] - 0s 6ms/step - loss: 3.1100 - val_loss: 3.2378\n",
      "Epoch 12/100\n",
      "3/3 [==============================] - 0s 14ms/step - loss: 3.0610 - val_loss: 3.1549\n",
      "Epoch 13/100\n",
      "3/3 [==============================] - 0s 16ms/step - loss: 3.0113 - val_loss: 3.1183\n",
      "Epoch 14/100\n",
      "3/3 [==============================] - 0s 14ms/step - loss: 2.9696 - val_loss: 3.0920\n",
      "Epoch 15/100\n",
      "3/3 [==============================] - 0s 11ms/step - loss: 2.9441 - val_loss: 3.0520\n",
      "Epoch 16/100\n",
      "3/3 [==============================] - 0s 14ms/step - loss: 2.9212 - val_loss: 3.0287\n",
      "Epoch 17/100\n",
      "3/3 [==============================] - 0s 15ms/step - loss: 2.8873 - val_loss: 3.0461\n",
      "Epoch 18/100\n",
      "3/3 [==============================] - 0s 16ms/step - loss: 2.8593 - val_loss: 3.0539\n",
      "Epoch 19/100\n",
      "3/3 [==============================] - 0s 9ms/step - loss: 2.8304 - val_loss: 3.0407\n",
      "Epoch 20/100\n",
      "3/3 [==============================] - 0s 19ms/step - loss: 2.8098 - val_loss: 3.0025\n",
      "Epoch 21/100\n",
      "3/3 [==============================] - 0s 13ms/step - loss: 2.7758 - val_loss: 2.9675\n",
      "Epoch 22/100\n",
      "3/3 [==============================] - 0s 11ms/step - loss: 2.7703 - val_loss: 2.9558\n",
      "Epoch 23/100\n",
      "3/3 [==============================] - 0s 12ms/step - loss: 2.7446 - val_loss: 2.9626\n",
      "Epoch 24/100\n",
      "3/3 [==============================] - 0s 13ms/step - loss: 2.7246 - val_loss: 2.9560\n",
      "Epoch 25/100\n",
      "3/3 [==============================] - 0s 11ms/step - loss: 2.6938 - val_loss: 2.8996\n",
      "Epoch 26/100\n",
      "3/3 [==============================] - 0s 12ms/step - loss: 2.6785 - val_loss: 2.8821\n",
      "Epoch 27/100\n",
      "3/3 [==============================] - 0s 12ms/step - loss: 2.6695 - val_loss: 2.8854\n",
      "Epoch 28/100\n",
      "3/3 [==============================] - 0s 13ms/step - loss: 2.6563 - val_loss: 2.8960\n",
      "Epoch 29/100\n",
      "3/3 [==============================] - 0s 15ms/step - loss: 2.6402 - val_loss: 2.8551\n",
      "Epoch 30/100\n",
      "3/3 [==============================] - 0s 12ms/step - loss: 2.6170 - val_loss: 2.7614\n",
      "Epoch 31/100\n",
      "3/3 [==============================] - 0s 18ms/step - loss: 2.6071 - val_loss: 2.7392\n",
      "Epoch 32/100\n",
      "3/3 [==============================] - 0s 15ms/step - loss: 2.5969 - val_loss: 2.7826\n",
      "Epoch 33/100\n",
      "3/3 [==============================] - 0s 17ms/step - loss: 2.5838 - val_loss: 2.8234\n",
      "Epoch 34/100\n",
      "3/3 [==============================] - 0s 15ms/step - loss: 2.5764 - val_loss: 2.7747\n",
      "Epoch 35/100\n",
      "3/3 [==============================] - 0s 12ms/step - loss: 2.5620 - val_loss: 2.7180\n",
      "Epoch 36/100\n",
      "3/3 [==============================] - 0s 12ms/step - loss: 2.5590 - val_loss: 2.7470\n",
      "Epoch 37/100\n",
      "3/3 [==============================] - 0s 14ms/step - loss: 2.5615 - val_loss: 2.7354\n",
      "Epoch 38/100\n",
      "3/3 [==============================] - 0s 10ms/step - loss: 2.5413 - val_loss: 2.7233\n",
      "Epoch 39/100\n",
      "3/3 [==============================] - 0s 14ms/step - loss: 2.5372 - val_loss: 2.6823\n",
      "Epoch 40/100\n",
      "3/3 [==============================] - 0s 12ms/step - loss: 2.5271 - val_loss: 2.6937\n",
      "Epoch 41/100\n",
      "3/3 [==============================] - 0s 13ms/step - loss: 2.5284 - val_loss: 2.7051\n",
      "Epoch 42/100\n",
      "3/3 [==============================] - 0s 12ms/step - loss: 2.5146 - val_loss: 2.7305\n",
      "Epoch 43/100\n",
      "3/3 [==============================] - 0s 13ms/step - loss: 2.5171 - val_loss: 2.7374\n",
      "Epoch 44/100\n",
      "3/3 [==============================] - 0s 12ms/step - loss: 2.5340 - val_loss: 2.7593\n",
      "Epoch 45/100\n",
      "3/3 [==============================] - 0s 15ms/step - loss: 2.5042 - val_loss: 2.6462\n",
      "Epoch 46/100\n",
      "3/3 [==============================] - 0s 8ms/step - loss: 2.5215 - val_loss: 2.5650\n",
      "Epoch 47/100\n",
      "3/3 [==============================] - 0s 16ms/step - loss: 2.5095 - val_loss: 2.7157\n",
      "Epoch 48/100\n",
      "3/3 [==============================] - 0s 11ms/step - loss: 2.4958 - val_loss: 2.7827\n",
      "Epoch 49/100\n",
      "3/3 [==============================] - 0s 13ms/step - loss: 2.4982 - val_loss: 2.7841\n",
      "Epoch 50/100\n",
      "3/3 [==============================] - 0s 10ms/step - loss: 2.5078 - val_loss: 2.7217\n",
      "Epoch 51/100\n",
      "3/3 [==============================] - 0s 15ms/step - loss: 2.4687 - val_loss: 2.7021\n",
      "Epoch 52/100\n",
      "3/3 [==============================] - 0s 9ms/step - loss: 2.4815 - val_loss: 2.6665\n",
      "Epoch 53/100\n",
      "3/3 [==============================] - 0s 13ms/step - loss: 2.4668 - val_loss: 2.7261\n",
      "Epoch 54/100\n",
      "3/3 [==============================] - 0s 15ms/step - loss: 2.4662 - val_loss: 2.6264\n",
      "Epoch 55/100\n",
      "3/3 [==============================] - 0s 11ms/step - loss: 2.4719 - val_loss: 2.6227\n",
      "Epoch 56/100\n",
      "3/3 [==============================] - 0s 15ms/step - loss: 2.4584 - val_loss: 2.7290\n",
      "Epoch 57/100\n",
      "3/3 [==============================] - 0s 14ms/step - loss: 2.4734 - val_loss: 2.7267\n",
      "Epoch 58/100\n",
      "3/3 [==============================] - 0s 14ms/step - loss: 2.4458 - val_loss: 2.6314\n",
      "Epoch 59/100\n",
      "3/3 [==============================] - 0s 18ms/step - loss: 2.4544 - val_loss: 2.5909\n",
      "Epoch 60/100\n",
      "3/3 [==============================] - 0s 12ms/step - loss: 2.4529 - val_loss: 2.6135\n",
      "Epoch 61/100\n",
      "3/3 [==============================] - 0s 13ms/step - loss: 2.4565 - val_loss: 2.5736\n",
      "Epoch 62/100\n",
      "3/3 [==============================] - 0s 11ms/step - loss: 2.4556 - val_loss: 2.5756\n",
      "Epoch 63/100\n",
      "3/3 [==============================] - 0s 15ms/step - loss: 2.4486 - val_loss: 2.7026\n",
      "Epoch 64/100\n",
      "3/3 [==============================] - 0s 16ms/step - loss: 2.4495 - val_loss: 2.6559\n",
      "Epoch 65/100\n",
      "3/3 [==============================] - 0s 13ms/step - loss: 2.4451 - val_loss: 2.5893\n",
      "Epoch 66/100\n",
      "3/3 [==============================] - 0s 13ms/step - loss: 2.4409 - val_loss: 2.5492\n",
      "Epoch 67/100\n",
      "3/3 [==============================] - 0s 18ms/step - loss: 2.4611 - val_loss: 2.5685\n",
      "Epoch 68/100\n",
      "3/3 [==============================] - 0s 13ms/step - loss: 2.4325 - val_loss: 2.7315\n",
      "Epoch 69/100\n",
      "3/3 [==============================] - 0s 12ms/step - loss: 2.4489 - val_loss: 2.6890\n",
      "Epoch 70/100\n",
      "3/3 [==============================] - 0s 12ms/step - loss: 2.4511 - val_loss: 2.6073\n",
      "Epoch 71/100\n",
      "3/3 [==============================] - 0s 10ms/step - loss: 2.4340 - val_loss: 2.6298\n",
      "Epoch 72/100\n",
      "3/3 [==============================] - 0s 10ms/step - loss: 2.4238 - val_loss: 2.6296\n",
      "Epoch 73/100\n",
      "3/3 [==============================] - 0s 9ms/step - loss: 2.4274 - val_loss: 2.5820\n",
      "Epoch 74/100\n",
      "3/3 [==============================] - 0s 19ms/step - loss: 2.4334 - val_loss: 2.6098\n",
      "Epoch 75/100\n",
      "3/3 [==============================] - 0s 21ms/step - loss: 2.4336 - val_loss: 2.6362\n",
      "Epoch 76/100\n",
      "3/3 [==============================] - 0s 18ms/step - loss: 2.4278 - val_loss: 2.5734\n",
      "Epoch 77/100\n",
      "3/3 [==============================] - 0s 11ms/step - loss: 2.4212 - val_loss: 2.5861\n",
      "Epoch 78/100\n",
      "3/3 [==============================] - 0s 16ms/step - loss: 2.4151 - val_loss: 2.5528\n",
      "Epoch 79/100\n",
      "3/3 [==============================] - 0s 14ms/step - loss: 2.4194 - val_loss: 2.5932\n",
      "Epoch 80/100\n",
      "3/3 [==============================] - 0s 13ms/step - loss: 2.4125 - val_loss: 2.6381\n",
      "Epoch 81/100\n",
      "3/3 [==============================] - 0s 14ms/step - loss: 2.4154 - val_loss: 2.6354\n"
     ]
    },
    {
     "name": "stdout",
     "output_type": "stream",
     "text": [
      "Epoch 82/100\n",
      "3/3 [==============================] - 0s 14ms/step - loss: 2.4106 - val_loss: 2.5900\n",
      "Epoch 83/100\n",
      "3/3 [==============================] - 0s 14ms/step - loss: 2.3999 - val_loss: 2.6038\n",
      "Epoch 84/100\n",
      "3/3 [==============================] - 0s 13ms/step - loss: 2.4142 - val_loss: 2.6257\n",
      "Epoch 85/100\n",
      "3/3 [==============================] - 0s 17ms/step - loss: 2.3891 - val_loss: 2.5725\n",
      "Epoch 86/100\n",
      "3/3 [==============================] - 0s 15ms/step - loss: 2.4151 - val_loss: 2.5033\n",
      "Epoch 87/100\n",
      "3/3 [==============================] - 0s 13ms/step - loss: 2.4086 - val_loss: 2.5595\n",
      "Epoch 88/100\n",
      "3/3 [==============================] - 0s 15ms/step - loss: 2.4255 - val_loss: 2.6052\n",
      "Epoch 89/100\n",
      "3/3 [==============================] - 0s 15ms/step - loss: 2.3913 - val_loss: 2.5646\n",
      "Epoch 90/100\n",
      "3/3 [==============================] - 0s 13ms/step - loss: 2.4107 - val_loss: 2.5960\n",
      "Epoch 91/100\n",
      "3/3 [==============================] - 0s 17ms/step - loss: 2.4056 - val_loss: 2.6191\n",
      "Epoch 92/100\n",
      "3/3 [==============================] - 0s 14ms/step - loss: 2.3882 - val_loss: 2.6345\n",
      "Epoch 93/100\n",
      "3/3 [==============================] - 0s 12ms/step - loss: 2.3951 - val_loss: 2.5733\n",
      "Epoch 94/100\n",
      "3/3 [==============================] - 0s 14ms/step - loss: 2.4125 - val_loss: 2.4982\n",
      "Epoch 95/100\n",
      "3/3 [==============================] - 0s 15ms/step - loss: 2.3997 - val_loss: 2.5502\n",
      "Epoch 96/100\n",
      "3/3 [==============================] - 0s 11ms/step - loss: 2.3837 - val_loss: 2.5623\n",
      "Epoch 97/100\n",
      "3/3 [==============================] - 0s 12ms/step - loss: 2.3786 - val_loss: 2.5583\n",
      "Epoch 98/100\n",
      "3/3 [==============================] - 0s 15ms/step - loss: 2.3881 - val_loss: 2.5749\n",
      "Epoch 99/100\n",
      "3/3 [==============================] - 0s 11ms/step - loss: 2.3848 - val_loss: 2.5734\n",
      "Epoch 100/100\n",
      "3/3 [==============================] - 0s 16ms/step - loss: 2.3811 - val_loss: 2.5661\n"
     ]
    }
   ],
   "source": [
    "history = model.fit(X_train, y_train_grid, epochs=100,\n",
    "                    validation_data=(X_valid, y_valid_grid))"
   ]
  },
  {
   "cell_type": "code",
   "execution_count": 37,
   "id": "390834c9",
   "metadata": {},
   "outputs": [
    {
     "name": "stdout",
     "output_type": "stream",
     "text": [
      "Saving figure grid_rbc_training_curve\n"
     ]
    },
    {
     "data": {
      "image/png": "[encoded data removed]",
      "text/plain": [
       "<Figure size 576x360 with 1 Axes>"
      ]
     },
     "metadata": {
      "needs_background": "light"
     },
     "output_type": "display_data"
    }
   ],
   "source": [
    "import pandas as pd\n",
    "\n",
    "pd.DataFrame(history.history).plot(figsize=(8, 5))\n",
    "plt.grid(True)\n",
    "# plt.gca().set_ylim(0, 1)\n",
    "save_fig(\"grid_rbc_training_curve\")\n",
    "plt.show()"
   ]
  },
  {
   "cell_type": "code",
   "execution_count": 38,
   "id": "6fba3b6a",
   "metadata": {},
   "outputs": [
    {
     "name": "stdout",
     "output_type": "stream",
     "text": [
      "X.shape = (None, 1)\n",
      "gauss_grid.shape = (None, 5)\n",
      "Saving figure grid_rbc_prediction\n"
     ]
    },
    {
     "data": {
      "image/png": "[encoded data removed]",
      "text/plain": [
       "<Figure size 432x288 with 1 Axes>"
      ]
     },
     "metadata": {
      "needs_background": "light"
     },
     "output_type": "display_data"
    }
   ],
   "source": [
    "# X_new = np.linspace(-5, 5, 100).reshape(100, 1)\n",
    "# y_new_proba = model.predict(X_new)\n",
    "# y_new = n2g.inv_convert(y_new_proba)\n",
    "#\n",
    "# plt.plot(X_train, y_train, \"b.\")\n",
    "draw_points(X_train, y_train, sid_train)\n",
    "# plt.plot(X_new, y_new, \"r-\", linewidth=2, label=\"Predictions\")\n",
    "draw_func((lambda X: n2g.inv_convert(model.predict(X)) ), mark='r-', linewidth=2, label=\"Predictions\")\n",
    "draw_normal_func(func_dict)\n",
    "plt.xlabel(\"$x_1$\", fontsize=18)\n",
    "plt.ylabel(\"$y$\", rotation=0, fontsize=18)\n",
    "plt.legend(loc=\"upper left\", fontsize=14)\n",
    "# plt.axis([-3, 3, 0, 10])\n",
    "save_fig(\"grid_rbc_prediction\")\n",
    "plt.show()"
   ]
  },
  {
   "cell_type": "code",
   "execution_count": 39,
   "id": "fc059ba5",
   "metadata": {},
   "outputs": [
    {
     "name": "stdout",
     "output_type": "stream",
     "text": [
      "y_func.shape = (100, 1)\n",
      "y_gt.shape = (100, 1)\n"
     ]
    },
    {
     "data": {
      "text/plain": [
       "3.981704232041504"
      ]
     },
     "execution_count": 39,
     "metadata": {},
     "output_type": "execute_result"
    }
   ],
   "source": [
    "get_prediction_error((lambda X: n2g.inv_convert(model.predict(X)) ), func_dict, name=\"grid-rbc\")"
   ]
  },
  {
   "cell_type": "code",
   "execution_count": 40,
   "id": "edcf26db",
   "metadata": {},
   "outputs": [
    {
     "name": "stdout",
     "output_type": "stream",
     "text": [
      "Saving figure grid_rbc_proba\n"
     ]
    },
    {
     "data": {
      "image/png": "[encoded data removed]",
      "text/plain": [
       "<Figure size 432x288 with 1 Axes>"
      ]
     },
     "metadata": {
      "needs_background": "light"
     },
     "output_type": "display_data"
    }
   ],
   "source": [
    "X_new = np.linspace(-5, 5, 100).reshape(100, 1)\n",
    "y_new_proba = model.predict(X_new)\n",
    "# y_new = n2g.inv_convert(y_new_proba)\n",
    "#\n",
    "xv, yv = np.meshgrid(X_new, np.linspace(n2g.x_min, n2g.x_max, n2g.units))\n",
    "# print(xv)\n",
    "# print(yv)\n",
    "plt.pcolormesh(xv, yv, y_new_proba.T, shading=\"nearest\")\n",
    "save_fig(\"grid_rbc_proba\")"
   ]
  },
  {
   "cell_type": "markdown",
   "id": "4064d3b5",
   "metadata": {},
   "source": [
    "### Draw the 1-sigma boundary line"
   ]
  },
  {
   "cell_type": "code",
   "execution_count": 41,
   "id": "247e8712",
   "metadata": {},
   "outputs": [
    {
     "name": "stdout",
     "output_type": "stream",
     "text": [
      "Saving figure grid_rbc_prediction_1sigma\n"
     ]
    },
    {
     "data": {
      "image/png": "[encoded data removed]",
      "text/plain": [
       "<Figure size 432x288 with 1 Axes>"
      ]
     },
     "metadata": {
      "needs_background": "light"
     },
     "output_type": "display_data"
    }
   ],
   "source": [
    "def n_sigma_boundary_line(X, n):\n",
    "    _mean, _sigma = n2g.get_statistic(model.predict(X))\n",
    "    return( _mean + n*_sigma)\n",
    "\n",
    "# plt.plot(X_train, y_train, \"b.\")\n",
    "draw_points(X_train, y_train, sid_train)\n",
    "#\n",
    "draw_func((lambda X: n2g.inv_convert(model.predict(X)) ), mark='r-', linewidth=2, label=\"Predictions\")\n",
    "draw_func((lambda X: n_sigma_boundary_line(X, +1.0) ), mark='k--', linewidth=1, label=\"$\\mu+\\sigma$\")\n",
    "draw_func((lambda X: n_sigma_boundary_line(X, -1.0) ), mark='k--', linewidth=1, label=\"$\\mu-\\sigma$\")\n",
    "#\n",
    "draw_normal_func(func_dict)\n",
    "plt.xlabel(\"$x_1$\", fontsize=18)\n",
    "plt.ylabel(\"$y$\", rotation=0, fontsize=18)\n",
    "plt.legend(loc=\"upper left\", fontsize=14)\n",
    "# plt.axis([-3, 3, 0, 10])\n",
    "save_fig(\"grid_rbc_prediction_1sigma\")\n",
    "plt.show()"
   ]
  },
  {
   "cell_type": "code",
   "execution_count": null,
   "id": "e6266336",
   "metadata": {},
   "outputs": [],
   "source": []
  },
  {
   "cell_type": "markdown",
   "id": "99a85ab5",
   "metadata": {},
   "source": [
    "# Grid & Regression by Classification + Offset Estimation (grid --> grid,num)"
   ]
  },
  {
   "cell_type": "code",
   "execution_count": 42,
   "id": "26440167",
   "metadata": {},
   "outputs": [],
   "source": [
    "class num2gridOffset_np():\n",
    "    def __init__(self, units, x_min=-10, x_max=10):\n",
    "        self.units = units\n",
    "        self.x_min = x_min\n",
    "        self.x_max = x_max\n",
    "        self.x_grid = np.linspace(self.x_min, self.x_max, self.units, endpoint=True)\n",
    "        # bins\n",
    "        x_space = np.average(self.x_grid[1:] - self.x_grid[:-1])\n",
    "        print(\"x_space = %f\" % x_space)\n",
    "        x_0 = self.x_grid[0] - 0.5 * x_space\n",
    "        self.x_bins = [x_0 + _i*x_space for _i in range(len(self.x_grid)+1)]\n",
    "        print(\"self.x_grid = %s\" % str(self.x_grid))\n",
    "#         print(\"self.x_bins = %s\" % str(self.x_bins))\n",
    "        \n",
    "    def convert(self, X):\n",
    "        '''\n",
    "        Convert a batch of number to one-hot class and numerical offset to each grid's center\n",
    "        (m, 1) --> (m, n_units, 2)\n",
    "        '''\n",
    "        X = np.array(X)\n",
    "        if len(X.shape) <= 1:\n",
    "            X = X.reshape((-1,1))\n",
    "        idxs_bin = np.digitize(X, self.x_bins, right=False) \n",
    "        idxs_grid = (idxs_bin - 1) + 1*(idxs_bin<= 0) - 1*(idxs_bin>=self.units)\n",
    "        print(idxs_grid.shape)\n",
    "        #\n",
    "        batch_size = X.shape[0]\n",
    "        grid = np.zeros((batch_size, self.units, 2))\n",
    "        # Fill in the values\n",
    "        grid[np.arange(batch_size), idxs_grid.reshape((-1,)), 0] = 1.0\n",
    "        grid[np.arange(batch_size), :, 1] = X - self.x_grid.reshape((1,-1)) # Offset\n",
    "        return grid\n",
    "    \n",
    "    def inv_convert(self, grid):\n",
    "        idxs_grid = np.argmax(grid[...,0], axis=1)\n",
    "        print(idxs_grid.shape)\n",
    "        #\n",
    "        batch_size = grid.shape[0]\n",
    "        offset_est = grid[np.arange(batch_size),idxs_grid,1]\n",
    "        print(offset_est.shape)\n",
    "        num_est = self.x_grid[idxs_grid].reshape((1,-1)) + offset_est\n",
    "        return num_est.reshape((-1,))"
   ]
  },
  {
   "cell_type": "code",
   "execution_count": 43,
   "id": "8b15e9ff",
   "metadata": {},
   "outputs": [
    {
     "name": "stdout",
     "output_type": "stream",
     "text": [
      "x_space = 22.222222\n",
      "self.x_grid = [-100.          -77.77777778  -55.55555556  -33.33333333  -11.11111111\n",
      "   11.11111111   33.33333333   55.55555556   77.77777778  100.        ]\n"
     ]
    }
   ],
   "source": [
    "class_num = 10 # 10\n",
    "n2go = num2gridOffset_np(class_num, x_min=-100.0, x_max=100.0) "
   ]
  },
  {
   "cell_type": "code",
   "execution_count": 44,
   "id": "8f6e7955",
   "metadata": {},
   "outputs": [
    {
     "name": "stdout",
     "output_type": "stream",
     "text": [
      "(2, 1)\n",
      "[[[   0.           98.8       ]\n",
      "  [   0.           76.57777778]\n",
      "  [   0.           54.35555556]\n",
      "  [   0.           32.13333333]\n",
      "  [   1.            9.91111111]\n",
      "  [   0.          -12.31111111]\n",
      "  [   0.          -34.53333333]\n",
      "  [   0.          -56.75555556]\n",
      "  [   0.          -78.97777778]\n",
      "  [   0.         -101.2       ]]\n",
      "\n",
      " [[   0.          150.5       ]\n",
      "  [   0.          128.27777778]\n",
      "  [   0.          106.05555556]\n",
      "  [   0.           83.83333333]\n",
      "  [   0.           61.61111111]\n",
      "  [   0.           39.38888889]\n",
      "  [   0.           17.16666667]\n",
      "  [   1.           -5.05555556]\n",
      "  [   0.          -27.27777778]\n",
      "  [   0.          -49.5       ]]]\n"
     ]
    }
   ],
   "source": [
    "# grid_1 = n2g.convert(-1.2)\n",
    "grid_1 = n2go.convert([[-1.2], [50.5]])\n",
    "print(grid_1)"
   ]
  },
  {
   "cell_type": "code",
   "execution_count": 45,
   "id": "48840dc5",
   "metadata": {},
   "outputs": [
    {
     "name": "stdout",
     "output_type": "stream",
     "text": [
      "(2,)\n",
      "(2,)\n"
     ]
    },
    {
     "data": {
      "text/plain": [
       "array([-1.2, 50.5])"
      ]
     },
     "execution_count": 45,
     "metadata": {},
     "output_type": "execute_result"
    }
   ],
   "source": [
    "n2go.inv_convert(grid_1)"
   ]
  },
  {
   "cell_type": "markdown",
   "id": "11683cea",
   "metadata": {},
   "source": [
    "### Convert the labels to grid (pre-processing)"
   ]
  },
  {
   "cell_type": "code",
   "execution_count": 46,
   "id": "472997cf",
   "metadata": {},
   "outputs": [
    {
     "name": "stdout",
     "output_type": "stream",
     "text": [
      "(80, 1)\n",
      "(20, 1)\n"
     ]
    }
   ],
   "source": [
    "y_train_grid_offset = n2go.convert(y_train)\n",
    "y_valid_grid_offset = n2go.convert(y_valid)"
   ]
  },
  {
   "cell_type": "code",
   "execution_count": 47,
   "id": "71f08d76",
   "metadata": {},
   "outputs": [
    {
     "name": "stdout",
     "output_type": "stream",
     "text": [
      "(80, 10, 2)\n",
      "(20, 10, 2)\n"
     ]
    }
   ],
   "source": [
    "print(y_train_grid_offset.shape)\n",
    "print(y_valid_grid_offset.shape)"
   ]
  },
  {
   "cell_type": "code",
   "execution_count": 48,
   "id": "84b5b833",
   "metadata": {},
   "outputs": [
    {
     "name": "stdout",
     "output_type": "stream",
     "text": [
      "X.shape = (None, 1)\n",
      "gauss_grid.shape = (None, 5)\n"
     ]
    }
   ],
   "source": [
    "inputs = keras.layers.Input(shape=X_train.shape[1:])\n",
    "#\n",
    "z = num2grid(5,x_min=-10, x_max=10, sigma=3.0)(inputs)\n",
    "z = keras.layers.Dense(30, activation=\"selu\")(z)\n",
    "# Outputs\n",
    "z_proba = keras.layers.Dense(30, activation=\"relu\")(z)\n",
    "z_proba  = keras.layers.Dense(class_num, activation=\"softmax\")(z_proba)\n",
    "z_offset = keras.layers.Dense(class_num, activation=\"relu\")(z)\n",
    "z_offset = keras.layers.Dense(class_num)(z_offset)\n",
    "# Concatenate\n",
    "z_proba  = keras.layers.Reshape([class_num,1])(z_proba)\n",
    "z_offset = keras.layers.Reshape([class_num,1])(z_offset)\n",
    "out_cat = keras.layers.Concatenate(axis=-1)([z_proba, z_offset])\n",
    "#\n",
    "# Models for trainig and real usage\n",
    "model = keras.Model(inputs=[inputs], outputs=[out_cat])"
   ]
  },
  {
   "cell_type": "code",
   "execution_count": 49,
   "id": "e6482574",
   "metadata": {},
   "outputs": [],
   "source": [
    "# Customized loss function\n",
    "\n",
    "cce = keras.losses.CategoricalCrossentropy(reduction=keras.losses.Reduction.NONE)\n",
    "# cce(y_true, y_pred).numpy()\n",
    "\n",
    "def centerLoss_fn(y_true, y_pred):\n",
    "    #\n",
    "    y_true_proba = y_true[...,0]\n",
    "    y_true_value = y_true[...,1]\n",
    "    #\n",
    "    y_pred_proba = y_pred[...,0]\n",
    "    y_pred_value = y_pred[...,1]\n",
    "    \n",
    "    #\n",
    "    cce_loss = cce(y_true_proba, y_pred_proba) / class_num\n",
    "    #\n",
    "    y_true_value_est = tf.reduce_sum((y_true_proba * y_true_value), axis=-1)\n",
    "    y_pred_value_est = tf.reduce_sum((y_true_proba * y_pred_value), axis=-1)\n",
    "#     y_pred_value_est = tf.reduce_sum((y_pred_proba * y_pred_value), axis=-1)\n",
    "    value_loss = tf.abs(y_pred_value_est - y_true_value_est)\n",
    "    \n",
    "    # Total loss\n",
    "#     return (0.5*cce_loss + 0.5*value_loss )\n",
    "    return (0.2*cce_loss + 0.8*value_loss )\n",
    "#     return (cce_loss)\n",
    "#     return (value_loss )"
   ]
  },
  {
   "cell_type": "code",
   "execution_count": 50,
   "id": "60575755",
   "metadata": {},
   "outputs": [
    {
     "name": "stderr",
     "output_type": "stream",
     "text": [
      "/home/benson516/GazeDemo/gaze_env/lib/python3.8/site-packages/tensorflow/python/keras/optimizer_v2/optimizer_v2.py:374: UserWarning: The `lr` argument is deprecated, use `learning_rate` instead.\n",
      "  warnings.warn(\n"
     ]
    }
   ],
   "source": [
    "# optimizer = keras.optimizers.SGD(lr=0.1, momentum=0.9)\n",
    "optimizer = keras.optimizers.Adam(lr=0.05)\n",
    "model.compile(loss=centerLoss_fn, optimizer=optimizer)"
   ]
  },
  {
   "cell_type": "code",
   "execution_count": 51,
   "id": "09bc47a5",
   "metadata": {
    "scrolled": true
   },
   "outputs": [],
   "source": [
    "# history = model.fit(X_train, y_train_grid_offset, epochs=100,\n",
    "#                     validation_data=(X_valid, y_valid_grid_offset))"
   ]
  },
  {
   "cell_type": "code",
   "execution_count": 52,
   "id": "7ba1fe76",
   "metadata": {},
   "outputs": [],
   "source": [
    "# import pandas as pd\n",
    "\n",
    "# pd.DataFrame(history.history).plot(figsize=(8, 5))\n",
    "# plt.grid(True)\n",
    "# # plt.gca().set_ylim(0, 1)\n",
    "# save_fig(\"grid_rbcOffset_training_curve\")\n",
    "# plt.show()"
   ]
  },
  {
   "cell_type": "code",
   "execution_count": 53,
   "id": "47db8336",
   "metadata": {
    "scrolled": false
   },
   "outputs": [],
   "source": [
    "# # plt.plot(X_train, y_train, \"b.\")\n",
    "# draw_points(X_train, y_train, sid_train)\n",
    "# draw_func((lambda X: n2go.inv_convert(model.predict(X)) ), mark='r-', linewidth=2, label=\"Predictions\")\n",
    "# draw_normal_func(func_dict)\n",
    "# plt.xlabel(\"$x_1$\", fontsize=18)\n",
    "# plt.ylabel(\"$y$\", rotation=0, fontsize=18)\n",
    "# plt.legend(loc=\"upper left\", fontsize=14)\n",
    "# # plt.axis([-3, 3, 0, 10])\n",
    "# save_fig(\"grid_rbcOffset_prediction\")\n",
    "# plt.show()"
   ]
  },
  {
   "cell_type": "code",
   "execution_count": 54,
   "id": "46a1a384",
   "metadata": {},
   "outputs": [],
   "source": [
    "# get_prediction_error((lambda X: n2go.inv_convert(model.predict(X)) ), func_dict, name=\"grid-classOffset\")"
   ]
  },
  {
   "cell_type": "code",
   "execution_count": null,
   "id": "fff995a6",
   "metadata": {},
   "outputs": [],
   "source": []
  },
  {
   "cell_type": "markdown",
   "id": "a811f344",
   "metadata": {},
   "source": [
    "# Parametric Uncertainty/Distribution Estimation\n",
    "\n",
    "In this section, we try to estimate uncertainty (actually, fit the dataset distribution) with parametric reprecentation of a distribution instead of a discretized non-parametric representation.\n",
    "\n",
    "Possible solution includes\n",
    "- Quantile estimation with pinball loss (statistic)\n",
    "- Guassian distribution (fit a prabability distribution)"
   ]
  },
  {
   "cell_type": "markdown",
   "id": "175eb32d",
   "metadata": {},
   "source": [
    "## Quantile Estimation with Pinball Loss (grid --> parameters)\n",
    "\n",
    "Quantile estimation and pinball loss is based on the concept of statistic, which predict the value based on the rank of samples in the dataset.\n",
    "\n",
    "The outputs of the model are $(y_{10}, y_{90})$, 10% quantile prediction and 90% quantile prediction, respectively."
   ]
  },
  {
   "cell_type": "code",
   "execution_count": 55,
   "id": "1d1ef92d",
   "metadata": {},
   "outputs": [],
   "source": [
    "# quantile_list = [0.5]\n",
    "# quantile_list = [0.9]\n",
    "# quantile_list = [0.1, 0.9] # Use hidden layer with 30 neurons\n",
    "# quantile_list = [0.05, 0.95]\n",
    "# quantile_list = [0.25, 0.75]\n",
    "# quantile_list = [0.1, 0.5, 0.9]\n",
    "# quantile_list = [0.1, 0.3, 0.7, 0.9]\n",
    "# quantile_list = [0.1, 0.2, 0.3, 0.4, 0.6, 0.7, 0.8, 0.9] # remove 0.5\n",
    "quantile_list = [0.1, 0.2, 0.3, 0.4, 0.5, 0.6, 0.7, 0.8, 0.9] # Should use wider hidden layer (with many neurons) + L1 regularization\n",
    "num_quantile = len(quantile_list)"
   ]
  },
  {
   "cell_type": "code",
   "execution_count": 56,
   "id": "8e3fe57b",
   "metadata": {},
   "outputs": [
    {
     "name": "stdout",
     "output_type": "stream",
     "text": [
      "X.shape = (None, 1)\n",
      "gauss_grid.shape = (None, 5)\n"
     ]
    }
   ],
   "source": [
    "model = keras.models.Sequential([\n",
    "    num2grid(5,x_min=-10, x_max=10, sigma=3.0, input_shape=X_train.shape[1:]), # Convert to grids\n",
    "#     num2grid(50,x_min=-10, x_max=10, sigma=0.5, input_shape=X_train.shape[1:]),\n",
    "#     keras.layers.Dense(30, activation=\"relu\"),\n",
    "#     keras.layers.Dense(60, activation=\"relu\"),\n",
    "    keras.layers.Dense(100, activation=\"relu\"),\n",
    "    keras.layers.Dropout(0.5),\n",
    "#     keras.layers.Dense(100, activation=\"relu\", kernel_regularizer=tf.keras.regularizers.l1(0.01)),\n",
    "#     keras.layers.Dense(100, activation=keras.layers.LeakyReLU(alpha=0.2), kernel_regularizer=tf.keras.regularizers.l1(0.01)),\n",
    "#     keras.layers.Dense(30, activation=keras.layers.LeakyReLU(alpha=0.2) ),\n",
    "#     keras.layers.Dense(30, activation=\"selu\"),\n",
    "    keras.layers.Dense(num_quantile) # (y10, y90)\n",
    "])"
   ]
  },
  {
   "cell_type": "code",
   "execution_count": 57,
   "id": "bf131dc7",
   "metadata": {},
   "outputs": [],
   "source": [
    "# Customized loss function\n",
    "def pinballLoss_fn(y_true, y_pred, tau):\n",
    "    # tau: quantile, tau in [0.0, 1.0]\n",
    "    # y_true: label mean\n",
    "    # y_pred: predicted tau quantile\n",
    "    _q = y_true - y_pred\n",
    "    return tf.math.maximum( (tau*_q), ((tau-1.0)*_q))\n",
    "    \n",
    "def pinballLoss_10_90_fn(y_true, y_pred):\n",
    "    #\n",
    "    return pinballLoss_fn(y_true, y_pred[:,0:1], 0.1) + pinballLoss_fn(y_true, y_pred[:,1:2], 0.9)\n",
    "\n",
    "def pinballLoss_full_fn(y_true, y_pred):\n",
    "    #\n",
    "    pinball_losses = tf.stack( [pinballLoss_fn(y_true, y_pred[:, _i:(_i+1)], _tau) for _i, _tau in enumerate(quantile_list)], axis=1)\n",
    "    return tf.reduce_sum(pinball_losses, axis=1)"
   ]
  },
  {
   "cell_type": "code",
   "execution_count": 58,
   "id": "a71305d5",
   "metadata": {},
   "outputs": [],
   "source": [
    "# optimizer = keras.optimizers.SGD(lr=0.1, momentum=0.9)\n",
    "optimizer = keras.optimizers.Adam(lr=0.1)\n",
    "# model.compile(loss=pinballLoss_10_90_fn, optimizer=optimizer)\n",
    "model.compile(loss=pinballLoss_full_fn, optimizer=optimizer)"
   ]
  },
  {
   "cell_type": "code",
   "execution_count": 59,
   "id": "d935c409",
   "metadata": {
    "scrolled": true
   },
   "outputs": [
    {
     "name": "stdout",
     "output_type": "stream",
     "text": [
      "Epoch 1/100\n",
      "X.shape = (None, 1)\n",
      "gauss_grid.shape = (None, 5)\n",
      "X.shape = (None, 1)\n",
      "gauss_grid.shape = (None, 5)\n",
      "1/3 [=========>....................] - ETA: 1s - loss: 203.8177X.shape = (None, 1)\n",
      "gauss_grid.shape = (None, 5)\n",
      "3/3 [==============================] - 1s 61ms/step - loss: 184.9551 - val_loss: 139.6825\n",
      "Epoch 2/100\n",
      "3/3 [==============================] - 0s 6ms/step - loss: 156.6634 - val_loss: 108.5159\n",
      "Epoch 3/100\n",
      "3/3 [==============================] - 0s 13ms/step - loss: 110.4441 - val_loss: 76.9981\n",
      "Epoch 4/100\n",
      "3/3 [==============================] - 0s 23ms/step - loss: 81.4903 - val_loss: 60.6947\n",
      "Epoch 5/100\n",
      "3/3 [==============================] - 0s 7ms/step - loss: 76.1219 - val_loss: 47.2159\n",
      "Epoch 6/100\n",
      "3/3 [==============================] - 0s 13ms/step - loss: 65.6414 - val_loss: 48.8963\n",
      "Epoch 7/100\n",
      "3/3 [==============================] - 0s 11ms/step - loss: 67.9436 - val_loss: 42.6577\n",
      "Epoch 8/100\n",
      "3/3 [==============================] - 0s 14ms/step - loss: 69.1093 - val_loss: 40.2431\n",
      "Epoch 9/100\n",
      "3/3 [==============================] - 0s 15ms/step - loss: 57.5605 - val_loss: 46.1938\n",
      "Epoch 10/100\n",
      "3/3 [==============================] - 0s 15ms/step - loss: 55.8017 - val_loss: 48.8212\n",
      "Epoch 11/100\n",
      "3/3 [==============================] - 0s 16ms/step - loss: 56.7781 - val_loss: 48.2007\n",
      "Epoch 12/100\n",
      "3/3 [==============================] - 0s 15ms/step - loss: 56.5797 - val_loss: 46.8796\n",
      "Epoch 13/100\n",
      "3/3 [==============================] - 0s 13ms/step - loss: 56.3512 - val_loss: 44.2942\n",
      "Epoch 14/100\n",
      "3/3 [==============================] - 0s 15ms/step - loss: 54.3669 - val_loss: 44.1248\n",
      "Epoch 15/100\n",
      "3/3 [==============================] - 0s 11ms/step - loss: 52.9053 - val_loss: 44.0355\n",
      "Epoch 16/100\n",
      "3/3 [==============================] - 0s 16ms/step - loss: 52.6749 - val_loss: 42.6778\n",
      "Epoch 17/100\n",
      "3/3 [==============================] - 0s 19ms/step - loss: 53.5305 - val_loss: 44.1908\n",
      "Epoch 18/100\n",
      "3/3 [==============================] - 0s 14ms/step - loss: 49.4709 - val_loss: 42.7556\n",
      "Epoch 19/100\n",
      "3/3 [==============================] - 0s 14ms/step - loss: 46.7200 - val_loss: 43.2785\n",
      "Epoch 20/100\n",
      "3/3 [==============================] - 0s 24ms/step - loss: 46.2978 - val_loss: 42.0649\n",
      "Epoch 21/100\n",
      "3/3 [==============================] - 0s 16ms/step - loss: 51.9393 - val_loss: 38.9731\n",
      "Epoch 22/100\n",
      "3/3 [==============================] - 0s 14ms/step - loss: 49.1521 - val_loss: 39.1184\n",
      "Epoch 23/100\n",
      "3/3 [==============================] - 0s 15ms/step - loss: 41.7001 - val_loss: 37.9678\n",
      "Epoch 24/100\n",
      "3/3 [==============================] - 0s 15ms/step - loss: 49.4453 - val_loss: 37.7771\n",
      "Epoch 25/100\n",
      "3/3 [==============================] - 0s 13ms/step - loss: 42.4529 - val_loss: 37.1146\n",
      "Epoch 26/100\n",
      "3/3 [==============================] - 0s 13ms/step - loss: 42.9363 - val_loss: 38.4996\n",
      "Epoch 27/100\n",
      "3/3 [==============================] - 0s 16ms/step - loss: 48.5576 - val_loss: 36.8350\n",
      "Epoch 28/100\n",
      "3/3 [==============================] - 0s 14ms/step - loss: 42.5290 - val_loss: 35.5621\n",
      "Epoch 29/100\n",
      "3/3 [==============================] - 0s 12ms/step - loss: 41.0348 - val_loss: 35.4779\n",
      "Epoch 30/100\n",
      "3/3 [==============================] - 0s 14ms/step - loss: 43.9069 - val_loss: 33.8565\n",
      "Epoch 31/100\n",
      "3/3 [==============================] - 0s 9ms/step - loss: 41.4656 - val_loss: 32.9185\n",
      "Epoch 32/100\n",
      "3/3 [==============================] - 0s 17ms/step - loss: 46.5148 - val_loss: 32.2294\n",
      "Epoch 33/100\n",
      "3/3 [==============================] - 0s 13ms/step - loss: 44.5869 - val_loss: 31.2037\n",
      "Epoch 34/100\n",
      "3/3 [==============================] - 0s 13ms/step - loss: 42.4969 - val_loss: 30.2847\n",
      "Epoch 35/100\n",
      "3/3 [==============================] - 0s 17ms/step - loss: 40.1111 - val_loss: 29.6792\n",
      "Epoch 36/100\n",
      "3/3 [==============================] - 0s 15ms/step - loss: 39.9722 - val_loss: 29.9798\n",
      "Epoch 37/100\n",
      "3/3 [==============================] - 0s 14ms/step - loss: 42.6470 - val_loss: 29.7290\n",
      "Epoch 38/100\n",
      "3/3 [==============================] - 0s 13ms/step - loss: 39.3315 - val_loss: 30.9641\n",
      "Epoch 39/100\n",
      "3/3 [==============================] - 0s 15ms/step - loss: 43.9104 - val_loss: 31.0587\n",
      "Epoch 40/100\n",
      "3/3 [==============================] - 0s 18ms/step - loss: 43.9559 - val_loss: 30.8936\n",
      "Epoch 41/100\n",
      "3/3 [==============================] - 0s 13ms/step - loss: 46.6011 - val_loss: 30.8019\n",
      "Epoch 42/100\n",
      "3/3 [==============================] - 0s 16ms/step - loss: 46.5495 - val_loss: 31.4135\n",
      "Epoch 43/100\n",
      "3/3 [==============================] - 0s 14ms/step - loss: 43.5562 - val_loss: 30.9564\n",
      "Epoch 44/100\n",
      "3/3 [==============================] - 0s 13ms/step - loss: 39.1476 - val_loss: 30.8904\n",
      "Epoch 45/100\n",
      "3/3 [==============================] - 0s 16ms/step - loss: 42.9133 - val_loss: 31.4384\n",
      "Epoch 46/100\n",
      "3/3 [==============================] - 0s 17ms/step - loss: 44.0323 - val_loss: 32.2120\n",
      "Epoch 47/100\n",
      "3/3 [==============================] - 0s 14ms/step - loss: 43.9965 - val_loss: 32.1710\n",
      "Epoch 48/100\n",
      "3/3 [==============================] - 0s 12ms/step - loss: 38.6352 - val_loss: 33.2053\n",
      "Epoch 49/100\n",
      "3/3 [==============================] - 0s 14ms/step - loss: 42.7143 - val_loss: 32.8350\n",
      "Epoch 50/100\n",
      "3/3 [==============================] - 0s 20ms/step - loss: 45.7096 - val_loss: 31.1571\n",
      "Epoch 51/100\n",
      "3/3 [==============================] - 0s 15ms/step - loss: 45.5438 - val_loss: 31.5024\n",
      "Epoch 52/100\n",
      "3/3 [==============================] - 0s 14ms/step - loss: 41.9161 - val_loss: 32.2007\n",
      "Epoch 53/100\n",
      "3/3 [==============================] - 0s 18ms/step - loss: 39.4660 - val_loss: 33.4062\n",
      "Epoch 54/100\n",
      "3/3 [==============================] - 0s 17ms/step - loss: 39.4627 - val_loss: 32.9878\n",
      "Epoch 55/100\n",
      "3/3 [==============================] - 0s 17ms/step - loss: 36.7576 - val_loss: 32.5924\n",
      "Epoch 56/100\n",
      "3/3 [==============================] - 0s 16ms/step - loss: 42.9155 - val_loss: 30.6229\n",
      "Epoch 57/100\n",
      "3/3 [==============================] - 0s 12ms/step - loss: 45.3804 - val_loss: 29.7827\n",
      "Epoch 58/100\n",
      "3/3 [==============================] - 0s 18ms/step - loss: 39.1055 - val_loss: 30.1422\n",
      "Epoch 59/100\n",
      "3/3 [==============================] - 0s 15ms/step - loss: 48.3964 - val_loss: 31.6050\n",
      "Epoch 60/100\n",
      "3/3 [==============================] - 0s 11ms/step - loss: 42.1707 - val_loss: 32.9465\n",
      "Epoch 61/100\n",
      "3/3 [==============================] - 0s 16ms/step - loss: 43.4974 - val_loss: 33.5665\n",
      "Epoch 62/100\n",
      "3/3 [==============================] - 0s 12ms/step - loss: 44.0824 - val_loss: 33.7740\n",
      "Epoch 63/100\n",
      "3/3 [==============================] - 0s 15ms/step - loss: 43.3851 - val_loss: 34.3948\n",
      "Epoch 64/100\n",
      "3/3 [==============================] - 0s 13ms/step - loss: 43.8892 - val_loss: 31.4380\n",
      "Epoch 65/100\n",
      "3/3 [==============================] - 0s 17ms/step - loss: 42.1598 - val_loss: 30.7233\n",
      "Epoch 66/100\n",
      "3/3 [==============================] - 0s 12ms/step - loss: 38.9351 - val_loss: 29.7062\n",
      "Epoch 67/100\n",
      "3/3 [==============================] - 0s 12ms/step - loss: 41.1330 - val_loss: 30.3853\n",
      "Epoch 68/100\n",
      "3/3 [==============================] - 0s 16ms/step - loss: 41.1084 - val_loss: 31.3098\n",
      "Epoch 69/100\n",
      "3/3 [==============================] - 0s 14ms/step - loss: 41.1296 - val_loss: 31.3471\n",
      "Epoch 70/100\n",
      "3/3 [==============================] - 0s 13ms/step - loss: 46.3093 - val_loss: 30.9778\n",
      "Epoch 71/100\n",
      "3/3 [==============================] - 0s 9ms/step - loss: 42.5375 - val_loss: 29.8187\n",
      "Epoch 72/100\n",
      "3/3 [==============================] - 0s 15ms/step - loss: 47.6717 - val_loss: 32.5743\n",
      "Epoch 73/100\n",
      "3/3 [==============================] - 0s 14ms/step - loss: 44.1081 - val_loss: 32.1195\n",
      "Epoch 74/100\n",
      "3/3 [==============================] - 0s 12ms/step - loss: 35.4628 - val_loss: 31.9869\n",
      "Epoch 75/100\n",
      "3/3 [==============================] - 0s 15ms/step - loss: 40.2387 - val_loss: 31.8200\n",
      "Epoch 76/100\n",
      "3/3 [==============================] - 0s 14ms/step - loss: 44.2611 - val_loss: 31.2011\n",
      "Epoch 77/100\n",
      "3/3 [==============================] - 0s 13ms/step - loss: 37.9203 - val_loss: 31.4876\n",
      "Epoch 78/100\n",
      "3/3 [==============================] - 0s 15ms/step - loss: 44.0129 - val_loss: 30.5839\n",
      "Epoch 79/100\n",
      "3/3 [==============================] - 0s 13ms/step - loss: 40.6458 - val_loss: 30.1162\n",
      "Epoch 80/100\n"
     ]
    },
    {
     "name": "stdout",
     "output_type": "stream",
     "text": [
      "3/3 [==============================] - 0s 11ms/step - loss: 40.3499 - val_loss: 30.3360\n",
      "Epoch 81/100\n",
      "3/3 [==============================] - 0s 17ms/step - loss: 41.3189 - val_loss: 30.2763\n",
      "Epoch 82/100\n",
      "3/3 [==============================] - 0s 17ms/step - loss: 38.7869 - val_loss: 30.7998\n",
      "Epoch 83/100\n",
      "3/3 [==============================] - 0s 15ms/step - loss: 36.4992 - val_loss: 31.1987\n",
      "Epoch 84/100\n",
      "3/3 [==============================] - 0s 13ms/step - loss: 37.7995 - val_loss: 31.0570\n",
      "Epoch 85/100\n",
      "3/3 [==============================] - 0s 16ms/step - loss: 38.8117 - val_loss: 30.2313\n",
      "Epoch 86/100\n",
      "3/3 [==============================] - 0s 17ms/step - loss: 42.2863 - val_loss: 31.1698\n",
      "Epoch 87/100\n",
      "3/3 [==============================] - 0s 16ms/step - loss: 39.2930 - val_loss: 29.8119\n",
      "Epoch 88/100\n",
      "3/3 [==============================] - 0s 12ms/step - loss: 43.9871 - val_loss: 29.6202\n",
      "Epoch 89/100\n",
      "3/3 [==============================] - 0s 18ms/step - loss: 40.8254 - val_loss: 29.6057\n",
      "Epoch 90/100\n",
      "3/3 [==============================] - 0s 14ms/step - loss: 43.7811 - val_loss: 31.3124\n",
      "Epoch 91/100\n",
      "3/3 [==============================] - 0s 12ms/step - loss: 40.5889 - val_loss: 31.9251\n",
      "Epoch 92/100\n",
      "3/3 [==============================] - 0s 10ms/step - loss: 42.1867 - val_loss: 30.5961\n",
      "Epoch 93/100\n",
      "3/3 [==============================] - 0s 12ms/step - loss: 42.7590 - val_loss: 29.7167\n",
      "Epoch 94/100\n",
      "3/3 [==============================] - 0s 13ms/step - loss: 39.7718 - val_loss: 30.8121\n",
      "Epoch 95/100\n",
      "3/3 [==============================] - 0s 14ms/step - loss: 41.0615 - val_loss: 31.0040\n",
      "Epoch 96/100\n",
      "3/3 [==============================] - 0s 11ms/step - loss: 38.1959 - val_loss: 34.3612\n",
      "Epoch 97/100\n",
      "3/3 [==============================] - 0s 17ms/step - loss: 38.5259 - val_loss: 33.7553\n",
      "Epoch 98/100\n",
      "3/3 [==============================] - 0s 13ms/step - loss: 46.4857 - val_loss: 31.7438\n",
      "Epoch 99/100\n",
      "3/3 [==============================] - 0s 18ms/step - loss: 38.9067 - val_loss: 31.1105\n",
      "Epoch 100/100\n",
      "3/3 [==============================] - 0s 14ms/step - loss: 40.5773 - val_loss: 31.4616\n"
     ]
    }
   ],
   "source": [
    "history = model.fit(X_train, y_train, epochs=100,\n",
    "                    validation_data=(X_valid, y_valid))"
   ]
  },
  {
   "cell_type": "code",
   "execution_count": 60,
   "id": "e7fa5656",
   "metadata": {
    "scrolled": false
   },
   "outputs": [
    {
     "name": "stdout",
     "output_type": "stream",
     "text": [
      "Saving figure grid_quantile_training_curve\n"
     ]
    },
    {
     "data": {
      "image/png": "[encoded data removed]",
      "text/plain": [
       "<Figure size 576x360 with 1 Axes>"
      ]
     },
     "metadata": {
      "needs_background": "light"
     },
     "output_type": "display_data"
    }
   ],
   "source": [
    "import pandas as pd\n",
    "\n",
    "pd.DataFrame(history.history).plot(figsize=(8, 5))\n",
    "plt.grid(True)\n",
    "# plt.gca().set_ylim(0, 1)\n",
    "save_fig(\"grid_quantile_training_curve\")\n",
    "plt.show()"
   ]
  },
  {
   "cell_type": "markdown",
   "id": "a4a59dd6",
   "metadata": {},
   "source": [
    "### Draw the mean prediction curve averaged from all quantile predictions."
   ]
  },
  {
   "cell_type": "code",
   "execution_count": 61,
   "id": "0e5d0058",
   "metadata": {},
   "outputs": [
    {
     "name": "stdout",
     "output_type": "stream",
     "text": [
      "X.shape = (None, 1)\n",
      "gauss_grid.shape = (None, 5)\n",
      "Saving figure grid_quantile_prediction\n"
     ]
    },
    {
     "data": {
      "image/png": "[encoded data removed]",
      "text/plain": [
       "<Figure size 432x288 with 1 Axes>"
      ]
     },
     "metadata": {
      "needs_background": "light"
     },
     "output_type": "display_data"
    }
   ],
   "source": [
    "# plt.plot(X_train, y_train, \"b.\")\n",
    "draw_points(X_train, y_train, sid_train)\n",
    "draw_func((lambda X: np.average(model.predict(X), axis=-1) ), mark='r-', linewidth=2, label=\"Predictions\")\n",
    "# draw_func((lambda X: model.predict(X)[:,0] ), mark='k--', linewidth=1, label=\"$y_{%d}$\" % (quantile_list[0]*100))\n",
    "# draw_func((lambda X: model.predict(X)[:,-1] ), mark='k--', linewidth=1, label=\"$y_{%d}$\" % (quantile_list[-1]*100))\n",
    "draw_normal_func(func_dict)\n",
    "plt.xlabel(\"$x_1$\", fontsize=18)\n",
    "plt.ylabel(\"$y$\", rotation=0, fontsize=18)\n",
    "plt.legend(loc=\"upper left\", fontsize=14)\n",
    "# plt.axis([-3, 3, 0, 10])\n",
    "save_fig(\"grid_quantile_prediction\")\n",
    "plt.show()"
   ]
  },
  {
   "cell_type": "code",
   "execution_count": 62,
   "id": "f98d3ae8",
   "metadata": {},
   "outputs": [
    {
     "name": "stdout",
     "output_type": "stream",
     "text": [
      "y_func.shape = (100, 1)\n",
      "y_gt.shape = (100, 1)\n"
     ]
    },
    {
     "data": {
      "text/plain": [
       "2.134690758178315"
      ]
     },
     "execution_count": 62,
     "metadata": {},
     "output_type": "execute_result"
    }
   ],
   "source": [
    "get_prediction_error((lambda X: np.average(model.predict(X), axis=-1) ), func_dict, name=\"grid-quantileR\")"
   ]
  },
  {
   "cell_type": "markdown",
   "id": "f79ac920",
   "metadata": {},
   "source": [
    "### Draw first and last quantile curve."
   ]
  },
  {
   "cell_type": "code",
   "execution_count": 63,
   "id": "42eeb254",
   "metadata": {},
   "outputs": [
    {
     "name": "stdout",
     "output_type": "stream",
     "text": [
      "Saving figure grid_quantile_boundary_quantiles\n"
     ]
    },
    {
     "data": {
      "image/png": "[encoded data removed]",
      "text/plain": [
       "<Figure size 432x288 with 1 Axes>"
      ]
     },
     "metadata": {
      "needs_background": "light"
     },
     "output_type": "display_data"
    }
   ],
   "source": [
    "# plt.plot(X_train, y_train, \"b.\")\n",
    "draw_points(X_train, y_train, sid_train)\n",
    "draw_func((lambda X: np.average(model.predict(X), axis=-1) ), mark='r-', linewidth=2, label=\"Predictions\")\n",
    "draw_func((lambda X: model.predict(X)[:,0] ), mark='k--', linewidth=1, label=\"$y_{%d}$\" % (quantile_list[0]*100))\n",
    "draw_func((lambda X: model.predict(X)[:,-1] ), mark='k--', linewidth=1, label=\"$y_{%d}$\" % (quantile_list[-1]*100))\n",
    "draw_normal_func(func_dict)\n",
    "plt.xlabel(\"$x_1$\", fontsize=18)\n",
    "plt.ylabel(\"$y$\", rotation=0, fontsize=18)\n",
    "plt.legend(loc=\"upper left\", fontsize=14)\n",
    "# plt.axis([-3, 3, 0, 10])\n",
    "save_fig(\"grid_quantile_boundary_quantiles\")\n",
    "plt.show()"
   ]
  },
  {
   "cell_type": "markdown",
   "id": "2a1b1b44",
   "metadata": {},
   "source": [
    "### Draw all quantile predictions"
   ]
  },
  {
   "cell_type": "code",
   "execution_count": 64,
   "id": "5e875238",
   "metadata": {},
   "outputs": [
    {
     "name": "stdout",
     "output_type": "stream",
     "text": [
      "Saving figure grid_quantile_all_quantiles\n"
     ]
    },
    {
     "data": {
      "image/png": "[encoded data removed]",
      "text/plain": [
       "<Figure size 432x288 with 1 Axes>"
      ]
     },
     "metadata": {
      "needs_background": "light"
     },
     "output_type": "display_data"
    }
   ],
   "source": [
    "# plt.plot(X_train, y_train, \"b.\")\n",
    "draw_points(X_train, y_train, sid_train)\n",
    "draw_func((lambda X: np.average(model.predict(X), axis=-1) ), mark='r-', linewidth=2, label=\"Predictions\")\n",
    "for _idx, _tau in enumerate(quantile_list):\n",
    "    draw_func((lambda X: model.predict(X)[:,_idx] ), mark='k--', linewidth=1, label=\"$y_{%d}$\" % (_tau*100))\n",
    "draw_normal_func(func_dict)\n",
    "plt.xlabel(\"$x_1$\", fontsize=18)\n",
    "plt.ylabel(\"$y$\", rotation=0, fontsize=18)\n",
    "plt.legend(loc=\"upper left\", fontsize=14)\n",
    "# plt.axis([-3, 3, 0, 10])\n",
    "save_fig(\"grid_quantile_all_quantiles\")\n",
    "plt.show()"
   ]
  },
  {
   "cell_type": "markdown",
   "id": "0693a8eb",
   "metadata": {},
   "source": [
    "### Multi-Quantiles as a Gaussian Distribution "
   ]
  },
  {
   "cell_type": "code",
   "execution_count": 65,
   "id": "11262fbe",
   "metadata": {},
   "outputs": [],
   "source": [
    "# def n_sigma_boundary_line(X, n):\n",
    "#     _y = model.predict(X)\n",
    "#     _mean = np.mean(_y, axis=-1)\n",
    "#     _sigma = np.std(_y, axis=-1)\n",
    "#     return( _mean + n*_sigma)\n",
    "\n",
    "# # plt.plot(X_train, y_train, \"b.\")\n",
    "# draw_points(X_train, y_train, sid_train)\n",
    "# #\n",
    "# draw_func((lambda X: np.average(model.predict(X), axis=-1) ), mark='r-', linewidth=2, label=\"Predictions\")\n",
    "# draw_func((lambda X: n_sigma_boundary_line(X, +1.0) ), mark='k--', linewidth=1, label=\"$\\mu+\\sigma$\")\n",
    "# draw_func((lambda X: n_sigma_boundary_line(X, -1.0) ), mark='k--', linewidth=1, label=\"$\\mu-\\sigma$\")\n",
    "# #\n",
    "# draw_normal_func(func_dict)\n",
    "# plt.xlabel(\"$x_1$\", fontsize=18)\n",
    "# plt.ylabel(\"$y$\", rotation=0, fontsize=18)\n",
    "# plt.legend(loc=\"upper left\", fontsize=14)\n",
    "# # plt.axis([-3, 3, 0, 10])\n",
    "# save_fig(\"grid_quantile_1sigma\")\n",
    "# plt.show()"
   ]
  },
  {
   "cell_type": "markdown",
   "id": "9a01aa69",
   "metadata": {},
   "source": [
    "## Gaussian Estimation with Gaussian Loss (grid-->parameters)\n",
    "\n",
    "Gaussain estimation requires the model to predict the mean and variance of a Gaussian distribution of the random variable regarded. The training purpose is to fit a Gaussian distribution to the data distribution (which is not necessay distributed as Gaussian).\n",
    "\n",
    "One possible solution, derived by BensonHuang, is that the model estimates $(\\mu, z)$, where $z=\\alpha ^{-1}log(\\sigma)$.\n",
    "The associated loss function can be $L_G(y, (\\mu,z)) = 0.5e^{-2\\alpha z}(y-\\mu)^2 + \\alpha z$."
   ]
  },
  {
   "cell_type": "code",
   "execution_count": 66,
   "id": "1a20d5dd",
   "metadata": {},
   "outputs": [],
   "source": [
    "alpha = 1.0\n",
    "# alpha = 0.01\n",
    "# alpha = 0.001"
   ]
  },
  {
   "cell_type": "code",
   "execution_count": 67,
   "id": "cb202ed2",
   "metadata": {},
   "outputs": [
    {
     "name": "stdout",
     "output_type": "stream",
     "text": [
      "X.shape = (None, 1)\n",
      "gauss_grid.shape = (None, 5)\n"
     ]
    }
   ],
   "source": [
    "model = keras.models.Sequential([\n",
    "    num2grid(5,x_min=-10, x_max=10, sigma=3.0, input_shape=X_train.shape[1:]),\n",
    "#     keras.layers.Dense(30, activation=\"relu\"),\n",
    "    keras.layers.Dense(60, activation=\"relu\"),\n",
    "#     keras.layers.Dense(30, activation=keras.layers.LeakyReLU(alpha=0.2) ),\n",
    "#     keras.layers.Dense(30, activation=\"selu\"),\n",
    "    keras.layers.Dense(2) # (mu, z)\n",
    "])"
   ]
  },
  {
   "cell_type": "code",
   "execution_count": 68,
   "id": "925f0a22",
   "metadata": {},
   "outputs": [
    {
     "name": "stdout",
     "output_type": "stream",
     "text": [
      "alpha = 1.000000\n"
     ]
    }
   ],
   "source": [
    "# Customized loss function\n",
    "print(\"alpha = %f\" % alpha)\n",
    "\n",
    "def GaussianLoss_fn(y_true, y_pred):\n",
    "    # y_true: label \n",
    "    # y_pred: (mu, z), z=log(sigma)\n",
    "    mu = y_pred[:, 0:1]\n",
    "    z  = y_pred[:, 1:2]\n",
    "    #\n",
    "    en2z = tf.math.exp((-2.0*alpha)*z)\n",
    "    ymu2 = (y_true - mu)**2\n",
    "    return (0.5*en2z*ymu2 + alpha*z)"
   ]
  },
  {
   "cell_type": "code",
   "execution_count": 69,
   "id": "1b388b4b",
   "metadata": {},
   "outputs": [],
   "source": [
    "# Learning rate scheduler\n",
    "learning_rate_switch_epoch_list = [30, 45]\n",
    "learning_rate_list = [0.001, 0.01, 0.1]\n",
    "# learning_rate_switch_epoch_list = [30, 80]\n",
    "# learning_rate_list = [0.01, 0.1, 0.01]\n",
    "#\n",
    "def piecewise_constant_fn(epoch):\n",
    "    for _i, epoch_s in enumerate(learning_rate_switch_epoch_list):\n",
    "        if epoch < epoch_s:\n",
    "            return learning_rate_list[_i]\n",
    "    return learning_rate_list[-1]\n",
    "\n",
    "lr_scheduler = keras.callbacks.LearningRateScheduler(piecewise_constant_fn)"
   ]
  },
  {
   "cell_type": "markdown",
   "id": "6ec2e05e",
   "metadata": {},
   "source": [
    "Third training with even greater speed"
   ]
  },
  {
   "cell_type": "code",
   "execution_count": 70,
   "id": "7a7e245b",
   "metadata": {},
   "outputs": [
    {
     "name": "stderr",
     "output_type": "stream",
     "text": [
      "/home/benson516/GazeDemo/gaze_env/lib/python3.8/site-packages/tensorflow/python/keras/optimizer_v2/optimizer_v2.py:374: UserWarning: The `lr` argument is deprecated, use `learning_rate` instead.\n",
      "  warnings.warn(\n"
     ]
    }
   ],
   "source": [
    "# optimizer = keras.optimizers.SGD(lr=0.1, momentum=0.9)\n",
    "optimizer = keras.optimizers.Adam(lr=0.1) # 0.1\n",
    "model.compile(loss=GaussianLoss_fn, optimizer=optimizer)"
   ]
  },
  {
   "cell_type": "code",
   "execution_count": 71,
   "id": "6d7b74a9",
   "metadata": {
    "scrolled": true
   },
   "outputs": [
    {
     "name": "stdout",
     "output_type": "stream",
     "text": [
      "Epoch 1/200\n",
      "X.shape = (None, 1)\n",
      "gauss_grid.shape = (None, 5)\n",
      "X.shape = (None, 1)\n",
      "gauss_grid.shape = (None, 5)\n",
      "1/3 [=========>....................] - ETA: 0s - loss: 1060.2549X.shape = (None, 1)\n",
      "gauss_grid.shape = (None, 5)\n",
      "3/3 [==============================] - 0s 41ms/step - loss: 435.3629 - val_loss: 7.7506\n",
      "Epoch 2/200\n",
      "3/3 [==============================] - 0s 6ms/step - loss: 9.4759 - val_loss: 14.3747\n",
      "Epoch 3/200\n",
      "3/3 [==============================] - 0s 12ms/step - loss: 15.5088 - val_loss: 18.8020\n",
      "Epoch 4/200\n",
      "3/3 [==============================] - 0s 15ms/step - loss: 19.3708 - val_loss: 21.2079\n",
      "Epoch 5/200\n",
      "3/3 [==============================] - 0s 12ms/step - loss: 21.3570 - val_loss: 22.0063\n",
      "Epoch 6/200\n",
      "3/3 [==============================] - 0s 12ms/step - loss: 21.8788 - val_loss: 21.5711\n",
      "Epoch 7/200\n",
      "3/3 [==============================] - 0s 14ms/step - loss: 21.2823 - val_loss: 20.2263\n",
      "Epoch 8/200\n",
      "3/3 [==============================] - 0s 15ms/step - loss: 19.8613 - val_loss: 18.2382\n",
      "Epoch 9/200\n",
      "3/3 [==============================] - 0s 12ms/step - loss: 17.8429 - val_loss: 15.7574\n",
      "Epoch 10/200\n",
      "3/3 [==============================] - 0s 14ms/step - loss: 15.3650 - val_loss: 12.8580\n",
      "Epoch 11/200\n",
      "3/3 [==============================] - 0s 14ms/step - loss: 12.4634 - val_loss: 9.4981\n",
      "Epoch 12/200\n",
      "3/3 [==============================] - 0s 17ms/step - loss: 9.0200 - val_loss: 5.5705\n",
      "Epoch 13/200\n",
      "3/3 [==============================] - 0s 13ms/step - loss: 6.7816 - val_loss: 4.1819\n",
      "Epoch 14/200\n",
      "3/3 [==============================] - 0s 19ms/step - loss: 4.9285 - val_loss: 6.1139\n",
      "Epoch 15/200\n",
      "3/3 [==============================] - 0s 14ms/step - loss: 6.4158 - val_loss: 7.0765\n",
      "Epoch 16/200\n",
      "3/3 [==============================] - 0s 12ms/step - loss: 6.7407 - val_loss: 6.9891\n",
      "Epoch 17/200\n",
      "3/3 [==============================] - 0s 15ms/step - loss: 6.2174 - val_loss: 6.5597\n",
      "Epoch 18/200\n",
      "3/3 [==============================] - 0s 14ms/step - loss: 6.3326 - val_loss: 6.4333\n",
      "Epoch 19/200\n",
      "3/3 [==============================] - 0s 12ms/step - loss: 5.9064 - val_loss: 6.3484\n",
      "Epoch 20/200\n",
      "3/3 [==============================] - 0s 13ms/step - loss: 5.7230 - val_loss: 5.8333\n",
      "Epoch 21/200\n",
      "3/3 [==============================] - 0s 14ms/step - loss: 5.2607 - val_loss: 5.0020\n",
      "Epoch 22/200\n",
      "3/3 [==============================] - 0s 12ms/step - loss: 4.8608 - val_loss: 4.3575\n",
      "Epoch 23/200\n",
      "3/3 [==============================] - 0s 16ms/step - loss: 4.3905 - val_loss: 3.9186\n",
      "Epoch 24/200\n",
      "3/3 [==============================] - 0s 17ms/step - loss: 4.0698 - val_loss: 3.8109\n",
      "Epoch 25/200\n",
      "3/3 [==============================] - 0s 14ms/step - loss: 4.0801 - val_loss: 4.3186\n",
      "Epoch 26/200\n",
      "3/3 [==============================] - 0s 15ms/step - loss: 4.2737 - val_loss: 3.8903\n",
      "Epoch 27/200\n",
      "3/3 [==============================] - 0s 13ms/step - loss: 4.1466 - val_loss: 3.8178\n",
      "Epoch 28/200\n",
      "3/3 [==============================] - 0s 12ms/step - loss: 4.0209 - val_loss: 3.7028\n",
      "Epoch 29/200\n",
      "3/3 [==============================] - 0s 15ms/step - loss: 3.9613 - val_loss: 3.7289\n",
      "Epoch 30/200\n",
      "3/3 [==============================] - 0s 18ms/step - loss: 3.9626 - val_loss: 3.7278\n",
      "Epoch 31/200\n",
      "3/3 [==============================] - 0s 18ms/step - loss: 3.9425 - val_loss: 3.7507\n",
      "Epoch 32/200\n",
      "3/3 [==============================] - 0s 11ms/step - loss: 3.9080 - val_loss: 3.6909\n",
      "Epoch 33/200\n",
      "3/3 [==============================] - 0s 13ms/step - loss: 3.9045 - val_loss: 3.7219\n",
      "Epoch 34/200\n",
      "3/3 [==============================] - 0s 12ms/step - loss: 3.8423 - val_loss: 3.7099\n",
      "Epoch 35/200\n",
      "3/3 [==============================] - 0s 14ms/step - loss: 3.8798 - val_loss: 3.6925\n",
      "Epoch 36/200\n",
      "3/3 [==============================] - 0s 9ms/step - loss: 3.8256 - val_loss: 3.6923\n",
      "Epoch 37/200\n",
      "3/3 [==============================] - 0s 10ms/step - loss: 3.8162 - val_loss: 3.6590\n",
      "Epoch 38/200\n",
      "3/3 [==============================] - 0s 12ms/step - loss: 3.7884 - val_loss: 3.6689\n",
      "Epoch 39/200\n",
      "3/3 [==============================] - 0s 13ms/step - loss: 3.7813 - val_loss: 3.6401\n",
      "Epoch 40/200\n",
      "3/3 [==============================] - 0s 25ms/step - loss: 3.7384 - val_loss: 3.6668\n",
      "Epoch 41/200\n",
      "3/3 [==============================] - 0s 17ms/step - loss: 3.7410 - val_loss: 3.6307\n",
      "Epoch 42/200\n",
      "3/3 [==============================] - 0s 11ms/step - loss: 3.7131 - val_loss: 3.6141\n",
      "Epoch 43/200\n",
      "3/3 [==============================] - 0s 16ms/step - loss: 3.6786 - val_loss: 3.6277\n",
      "Epoch 44/200\n",
      "3/3 [==============================] - 0s 9ms/step - loss: 3.6719 - val_loss: 3.5934\n",
      "Epoch 45/200\n",
      "3/3 [==============================] - 0s 11ms/step - loss: 3.6337 - val_loss: 3.5773\n",
      "Epoch 46/200\n",
      "3/3 [==============================] - 0s 12ms/step - loss: 3.6181 - val_loss: 3.5515\n",
      "Epoch 47/200\n",
      "3/3 [==============================] - 0s 13ms/step - loss: 3.5747 - val_loss: 3.5656\n",
      "Epoch 48/200\n",
      "3/3 [==============================] - 0s 12ms/step - loss: 3.5613 - val_loss: 3.5131\n",
      "Epoch 49/200\n",
      "3/3 [==============================] - 0s 14ms/step - loss: 3.5205 - val_loss: 3.4913\n",
      "Epoch 50/200\n",
      "3/3 [==============================] - 0s 16ms/step - loss: 3.4935 - val_loss: 3.4743\n",
      "Epoch 51/200\n",
      "3/3 [==============================] - 0s 11ms/step - loss: 3.4797 - val_loss: 3.4365\n",
      "Epoch 52/200\n",
      "3/3 [==============================] - 0s 16ms/step - loss: 3.4556 - val_loss: 3.4215\n",
      "Epoch 53/200\n",
      "3/3 [==============================] - 0s 19ms/step - loss: 3.4337 - val_loss: 3.3927\n",
      "Epoch 54/200\n",
      "3/3 [==============================] - 0s 14ms/step - loss: 3.4382 - val_loss: 3.3655\n",
      "Epoch 55/200\n",
      "3/3 [==============================] - 0s 9ms/step - loss: 3.4032 - val_loss: 3.3546\n",
      "Epoch 56/200\n",
      "3/3 [==============================] - 0s 15ms/step - loss: 3.3830 - val_loss: 3.3404\n",
      "Epoch 57/200\n",
      "3/3 [==============================] - 0s 15ms/step - loss: 3.3965 - val_loss: 3.3285\n",
      "Epoch 58/200\n",
      "3/3 [==============================] - 0s 14ms/step - loss: 3.3687 - val_loss: 3.3415\n",
      "Epoch 59/200\n",
      "3/3 [==============================] - 0s 13ms/step - loss: 3.3646 - val_loss: 3.3256\n",
      "Epoch 60/200\n",
      "3/3 [==============================] - 0s 14ms/step - loss: 3.4093 - val_loss: 3.3084\n",
      "Epoch 61/200\n",
      "3/3 [==============================] - 0s 13ms/step - loss: 3.3707 - val_loss: 3.3717\n",
      "Epoch 62/200\n",
      "3/3 [==============================] - 0s 16ms/step - loss: 3.3689 - val_loss: 3.3714\n",
      "Epoch 63/200\n",
      "3/3 [==============================] - 0s 11ms/step - loss: 3.3753 - val_loss: 3.3327\n",
      "Epoch 64/200\n",
      "3/3 [==============================] - 0s 11ms/step - loss: 3.3373 - val_loss: 3.3222\n",
      "Epoch 65/200\n",
      "3/3 [==============================] - 0s 12ms/step - loss: 3.3411 - val_loss: 3.3009\n",
      "Epoch 66/200\n",
      "3/3 [==============================] - 0s 15ms/step - loss: 3.3227 - val_loss: 3.3202\n",
      "Epoch 67/200\n",
      "3/3 [==============================] - 0s 11ms/step - loss: 3.3480 - val_loss: 3.3128\n",
      "Epoch 68/200\n",
      "3/3 [==============================] - 0s 21ms/step - loss: 3.3743 - val_loss: 3.3463\n",
      "Epoch 69/200\n",
      "3/3 [==============================] - 0s 12ms/step - loss: 3.3541 - val_loss: 3.3657\n",
      "Epoch 70/200\n",
      "3/3 [==============================] - 0s 16ms/step - loss: 3.3657 - val_loss: 3.3086\n",
      "Epoch 71/200\n",
      "3/3 [==============================] - 0s 15ms/step - loss: 3.3208 - val_loss: 3.3162\n",
      "Epoch 72/200\n",
      "3/3 [==============================] - 0s 14ms/step - loss: 3.3154 - val_loss: 3.2943\n",
      "Epoch 73/200\n",
      "3/3 [==============================] - 0s 16ms/step - loss: 3.3237 - val_loss: 3.2828\n",
      "Epoch 74/200\n",
      "3/3 [==============================] - 0s 13ms/step - loss: 3.3046 - val_loss: 3.2811\n",
      "Epoch 75/200\n",
      "3/3 [==============================] - 0s 13ms/step - loss: 3.3283 - val_loss: 3.2691\n",
      "Epoch 76/200\n",
      "3/3 [==============================] - 0s 13ms/step - loss: 3.3187 - val_loss: 3.2771\n",
      "Epoch 77/200\n",
      "3/3 [==============================] - 0s 11ms/step - loss: 3.3143 - val_loss: 3.2740\n",
      "Epoch 78/200\n",
      "3/3 [==============================] - 0s 13ms/step - loss: 3.2990 - val_loss: 3.2822\n",
      "Epoch 79/200\n",
      "3/3 [==============================] - 0s 11ms/step - loss: 3.3090 - val_loss: 3.2854\n",
      "Epoch 80/200\n",
      "3/3 [==============================] - 0s 12ms/step - loss: 3.3018 - val_loss: 3.3264\n",
      "Epoch 81/200\n"
     ]
    },
    {
     "name": "stdout",
     "output_type": "stream",
     "text": [
      "3/3 [==============================] - 0s 17ms/step - loss: 3.3070 - val_loss: 3.2732\n",
      "Epoch 82/200\n",
      "3/3 [==============================] - 0s 19ms/step - loss: 3.3300 - val_loss: 3.2662\n",
      "Epoch 83/200\n",
      "3/3 [==============================] - 0s 19ms/step - loss: 3.3877 - val_loss: 3.2755\n",
      "Epoch 84/200\n",
      "3/3 [==============================] - 0s 15ms/step - loss: 3.4883 - val_loss: 3.5335\n",
      "Epoch 85/200\n",
      "3/3 [==============================] - 0s 16ms/step - loss: 3.5044 - val_loss: 3.3801\n",
      "Epoch 86/200\n",
      "3/3 [==============================] - 0s 10ms/step - loss: 3.3858 - val_loss: 3.2760\n",
      "Epoch 87/200\n",
      "3/3 [==============================] - 0s 14ms/step - loss: 3.3982 - val_loss: 3.4321\n",
      "Epoch 88/200\n",
      "3/3 [==============================] - 0s 14ms/step - loss: 3.4049 - val_loss: 3.4013\n",
      "Epoch 89/200\n",
      "3/3 [==============================] - 0s 12ms/step - loss: 3.3914 - val_loss: 3.2973\n",
      "Epoch 90/200\n",
      "3/3 [==============================] - 0s 17ms/step - loss: 3.3232 - val_loss: 3.2969\n",
      "Epoch 91/200\n",
      "3/3 [==============================] - 0s 14ms/step - loss: 3.3289 - val_loss: 3.3033\n",
      "Epoch 92/200\n",
      "3/3 [==============================] - 0s 12ms/step - loss: 3.2901 - val_loss: 3.2417\n",
      "Epoch 93/200\n",
      "3/3 [==============================] - 0s 15ms/step - loss: 3.2870 - val_loss: 3.2317\n",
      "Epoch 94/200\n",
      "3/3 [==============================] - 0s 13ms/step - loss: 3.2908 - val_loss: 3.2345\n",
      "Epoch 95/200\n",
      "3/3 [==============================] - 0s 14ms/step - loss: 3.2822 - val_loss: 3.2385\n",
      "Epoch 96/200\n",
      "3/3 [==============================] - 0s 12ms/step - loss: 3.2734 - val_loss: 3.2593\n",
      "Epoch 97/200\n",
      "3/3 [==============================] - 0s 14ms/step - loss: 3.3029 - val_loss: 3.2420\n",
      "Epoch 98/200\n",
      "3/3 [==============================] - 0s 12ms/step - loss: 3.2939 - val_loss: 3.2537\n",
      "Epoch 99/200\n",
      "3/3 [==============================] - 0s 10ms/step - loss: 3.2770 - val_loss: 3.2721\n",
      "Epoch 100/200\n",
      "3/3 [==============================] - 0s 13ms/step - loss: 3.3094 - val_loss: 3.2309\n",
      "Epoch 101/200\n",
      "3/3 [==============================] - 0s 12ms/step - loss: 3.3125 - val_loss: 3.2255\n",
      "Epoch 102/200\n",
      "3/3 [==============================] - 0s 14ms/step - loss: 3.2732 - val_loss: 3.2870\n",
      "Epoch 103/200\n",
      "3/3 [==============================] - 0s 13ms/step - loss: 3.2892 - val_loss: 3.2530\n",
      "Epoch 104/200\n",
      "3/3 [==============================] - 0s 12ms/step - loss: 3.3159 - val_loss: 3.2112\n",
      "Epoch 105/200\n",
      "3/3 [==============================] - 0s 15ms/step - loss: 3.3099 - val_loss: 3.2199\n",
      "Epoch 106/200\n",
      "3/3 [==============================] - 0s 9ms/step - loss: 3.2752 - val_loss: 3.2953\n",
      "Epoch 107/200\n",
      "3/3 [==============================] - 0s 18ms/step - loss: 3.3015 - val_loss: 3.2717\n",
      "Epoch 108/200\n",
      "3/3 [==============================] - 0s 9ms/step - loss: 3.3018 - val_loss: 3.2123\n",
      "Epoch 109/200\n",
      "3/3 [==============================] - 0s 12ms/step - loss: 3.2713 - val_loss: 3.2353\n",
      "Epoch 110/200\n",
      "3/3 [==============================] - 0s 11ms/step - loss: 3.2787 - val_loss: 3.2324\n",
      "Epoch 111/200\n",
      "3/3 [==============================] - 0s 13ms/step - loss: 3.2768 - val_loss: 3.2272\n",
      "Epoch 112/200\n",
      "3/3 [==============================] - 0s 15ms/step - loss: 3.2657 - val_loss: 3.2153\n",
      "Epoch 113/200\n",
      "3/3 [==============================] - 0s 15ms/step - loss: 3.2473 - val_loss: 3.2130\n",
      "Epoch 114/200\n",
      "3/3 [==============================] - 0s 15ms/step - loss: 3.2484 - val_loss: 3.1989\n",
      "Epoch 115/200\n",
      "3/3 [==============================] - 0s 16ms/step - loss: 3.2417 - val_loss: 3.1913\n",
      "Epoch 116/200\n",
      "3/3 [==============================] - 0s 12ms/step - loss: 3.2452 - val_loss: 3.1852\n",
      "Epoch 117/200\n",
      "3/3 [==============================] - 0s 14ms/step - loss: 3.2683 - val_loss: 3.1848\n",
      "Epoch 118/200\n",
      "3/3 [==============================] - 0s 18ms/step - loss: 3.3090 - val_loss: 3.1964\n",
      "Epoch 119/200\n",
      "3/3 [==============================] - 0s 11ms/step - loss: 3.2767 - val_loss: 3.3005\n",
      "Epoch 120/200\n",
      "3/3 [==============================] - 0s 15ms/step - loss: 3.3238 - val_loss: 3.2511\n",
      "Epoch 121/200\n",
      "3/3 [==============================] - 0s 13ms/step - loss: 3.2720 - val_loss: 3.2142\n",
      "Epoch 122/200\n",
      "3/3 [==============================] - 0s 17ms/step - loss: 3.2696 - val_loss: 3.1972\n",
      "Epoch 123/200\n",
      "3/3 [==============================] - 0s 13ms/step - loss: 3.2517 - val_loss: 3.1903\n",
      "Epoch 124/200\n",
      "3/3 [==============================] - 0s 12ms/step - loss: 3.2219 - val_loss: 3.2011\n",
      "Epoch 125/200\n",
      "3/3 [==============================] - 0s 14ms/step - loss: 3.2370 - val_loss: 3.2087\n",
      "Epoch 126/200\n",
      "3/3 [==============================] - 0s 15ms/step - loss: 3.2427 - val_loss: 3.1744\n",
      "Epoch 127/200\n",
      "3/3 [==============================] - 0s 18ms/step - loss: 3.2229 - val_loss: 3.1622\n",
      "Epoch 128/200\n",
      "3/3 [==============================] - 0s 12ms/step - loss: 3.2133 - val_loss: 3.1710\n",
      "Epoch 129/200\n",
      "3/3 [==============================] - 0s 12ms/step - loss: 3.2304 - val_loss: 3.1640\n",
      "Epoch 130/200\n",
      "3/3 [==============================] - 0s 11ms/step - loss: 3.2121 - val_loss: 3.1561\n",
      "Epoch 131/200\n",
      "3/3 [==============================] - 0s 16ms/step - loss: 3.2391 - val_loss: 3.2052\n",
      "Epoch 132/200\n",
      "3/3 [==============================] - 0s 16ms/step - loss: 3.3778 - val_loss: 3.2524\n",
      "Epoch 133/200\n",
      "3/3 [==============================] - 0s 16ms/step - loss: 3.3570 - val_loss: 3.2225\n",
      "Epoch 134/200\n",
      "3/3 [==============================] - 0s 12ms/step - loss: 3.2448 - val_loss: 3.2616\n",
      "Epoch 135/200\n",
      "3/3 [==============================] - 0s 15ms/step - loss: 3.2870 - val_loss: 3.3109\n",
      "Epoch 136/200\n",
      "3/3 [==============================] - 0s 12ms/step - loss: 3.2706 - val_loss: 3.2053\n",
      "Epoch 137/200\n",
      "3/3 [==============================] - 0s 15ms/step - loss: 3.2739 - val_loss: 3.1791\n",
      "Epoch 138/200\n",
      "3/3 [==============================] - 0s 12ms/step - loss: 3.2659 - val_loss: 3.1375\n",
      "Epoch 139/200\n",
      "3/3 [==============================] - 0s 14ms/step - loss: 3.2381 - val_loss: 3.2119\n",
      "Epoch 140/200\n",
      "3/3 [==============================] - 0s 8ms/step - loss: 3.2396 - val_loss: 3.2981\n",
      "Epoch 141/200\n",
      "3/3 [==============================] - 0s 18ms/step - loss: 3.2745 - val_loss: 3.1878\n",
      "Epoch 142/200\n",
      "3/3 [==============================] - 0s 13ms/step - loss: 3.2447 - val_loss: 3.1443\n",
      "Epoch 143/200\n",
      "3/3 [==============================] - 0s 11ms/step - loss: 3.2256 - val_loss: 3.1302\n",
      "Epoch 144/200\n",
      "3/3 [==============================] - 0s 16ms/step - loss: 3.2252 - val_loss: 3.1614\n",
      "Epoch 145/200\n",
      "3/3 [==============================] - 0s 11ms/step - loss: 3.1956 - val_loss: 3.2002\n",
      "Epoch 146/200\n",
      "3/3 [==============================] - 0s 12ms/step - loss: 3.1995 - val_loss: 3.1098\n",
      "Epoch 147/200\n",
      "3/3 [==============================] - 0s 15ms/step - loss: 3.1923 - val_loss: 3.0991\n",
      "Epoch 148/200\n",
      "3/3 [==============================] - 0s 12ms/step - loss: 3.1834 - val_loss: 3.1168\n",
      "Epoch 149/200\n",
      "3/3 [==============================] - 0s 12ms/step - loss: 3.1955 - val_loss: 3.1486\n",
      "Epoch 150/200\n",
      "3/3 [==============================] - 0s 14ms/step - loss: 3.1781 - val_loss: 3.1776\n",
      "Epoch 151/200\n",
      "3/3 [==============================] - 0s 10ms/step - loss: 3.1754 - val_loss: 3.1848\n",
      "Epoch 152/200\n",
      "3/3 [==============================] - 0s 14ms/step - loss: 3.2341 - val_loss: 3.1008\n",
      "Epoch 153/200\n",
      "3/3 [==============================] - 0s 14ms/step - loss: 3.1890 - val_loss: 3.0916\n",
      "Epoch 154/200\n",
      "3/3 [==============================] - 0s 12ms/step - loss: 3.1478 - val_loss: 3.1621\n",
      "Epoch 155/200\n",
      "3/3 [==============================] - 0s 14ms/step - loss: 3.1818 - val_loss: 3.2392\n",
      "Epoch 156/200\n",
      "3/3 [==============================] - 0s 11ms/step - loss: 3.1928 - val_loss: 3.1404\n",
      "Epoch 157/200\n",
      "3/3 [==============================] - 0s 9ms/step - loss: 3.1683 - val_loss: 3.1075\n",
      "Epoch 158/200\n",
      "3/3 [==============================] - 0s 17ms/step - loss: 3.1498 - val_loss: 3.0852\n",
      "Epoch 159/200\n",
      "3/3 [==============================] - 0s 11ms/step - loss: 3.1314 - val_loss: 3.0839\n",
      "Epoch 160/200\n",
      "3/3 [==============================] - 0s 13ms/step - loss: 3.1429 - val_loss: 3.1027\n",
      "Epoch 161/200\n",
      "3/3 [==============================] - 0s 12ms/step - loss: 3.1345 - val_loss: 3.0696\n",
      "Epoch 162/200\n",
      "3/3 [==============================] - 0s 14ms/step - loss: 3.1245 - val_loss: 3.0762\n",
      "Epoch 163/200\n"
     ]
    },
    {
     "name": "stdout",
     "output_type": "stream",
     "text": [
      "3/3 [==============================] - 0s 9ms/step - loss: 3.1265 - val_loss: 3.0684\n",
      "Epoch 164/200\n",
      "3/3 [==============================] - 0s 12ms/step - loss: 3.1126 - val_loss: 3.0875\n",
      "Epoch 165/200\n",
      "3/3 [==============================] - 0s 11ms/step - loss: 3.1206 - val_loss: 3.1116\n",
      "Epoch 166/200\n",
      "3/3 [==============================] - 0s 12ms/step - loss: 3.1404 - val_loss: 3.0909\n",
      "Epoch 167/200\n",
      "3/3 [==============================] - 0s 16ms/step - loss: 3.1050 - val_loss: 3.0949\n",
      "Epoch 168/200\n",
      "3/3 [==============================] - 0s 10ms/step - loss: 3.1338 - val_loss: 3.0970\n",
      "Epoch 169/200\n",
      "3/3 [==============================] - 0s 17ms/step - loss: 3.1389 - val_loss: 3.0326\n",
      "Epoch 170/200\n",
      "3/3 [==============================] - 0s 13ms/step - loss: 3.1011 - val_loss: 3.0318\n",
      "Epoch 171/200\n",
      "3/3 [==============================] - 0s 13ms/step - loss: 3.0898 - val_loss: 3.0559\n",
      "Epoch 172/200\n",
      "3/3 [==============================] - 0s 14ms/step - loss: 3.0968 - val_loss: 3.0360\n",
      "Epoch 173/200\n",
      "3/3 [==============================] - 0s 15ms/step - loss: 3.1261 - val_loss: 3.0476\n",
      "Epoch 174/200\n",
      "3/3 [==============================] - 0s 16ms/step - loss: 3.0954 - val_loss: 3.0463\n",
      "Epoch 175/200\n",
      "3/3 [==============================] - 0s 15ms/step - loss: 3.1076 - val_loss: 3.0445\n",
      "Epoch 176/200\n",
      "3/3 [==============================] - 0s 17ms/step - loss: 3.1491 - val_loss: 3.0827\n",
      "Epoch 177/200\n",
      "3/3 [==============================] - 0s 13ms/step - loss: 3.2397 - val_loss: 3.1477\n",
      "Epoch 178/200\n",
      "3/3 [==============================] - 0s 14ms/step - loss: 3.1700 - val_loss: 3.0017\n",
      "Epoch 179/200\n",
      "3/3 [==============================] - 0s 14ms/step - loss: 3.0701 - val_loss: 3.1652\n",
      "Epoch 180/200\n",
      "3/3 [==============================] - 0s 11ms/step - loss: 3.2019 - val_loss: 3.0136\n",
      "Epoch 181/200\n",
      "3/3 [==============================] - 0s 15ms/step - loss: 3.2256 - val_loss: 3.1467\n",
      "Epoch 182/200\n",
      "3/3 [==============================] - 0s 14ms/step - loss: 3.2949 - val_loss: 3.2140\n",
      "Epoch 183/200\n",
      "3/3 [==============================] - 0s 12ms/step - loss: 3.1299 - val_loss: 3.2232\n",
      "Epoch 184/200\n",
      "3/3 [==============================] - 0s 15ms/step - loss: 3.2567 - val_loss: 3.3236\n",
      "Epoch 185/200\n",
      "3/3 [==============================] - 0s 13ms/step - loss: 3.2339 - val_loss: 3.0683\n",
      "Epoch 186/200\n",
      "3/3 [==============================] - 0s 15ms/step - loss: 3.2088 - val_loss: 3.1068\n",
      "Epoch 187/200\n",
      "3/3 [==============================] - 0s 12ms/step - loss: 3.1349 - val_loss: 3.0617\n",
      "Epoch 188/200\n",
      "3/3 [==============================] - 0s 15ms/step - loss: 3.1187 - val_loss: 3.0790\n",
      "Epoch 189/200\n",
      "3/3 [==============================] - 0s 14ms/step - loss: 3.2420 - val_loss: 3.2298\n",
      "Epoch 190/200\n",
      "3/3 [==============================] - 0s 12ms/step - loss: 3.1174 - val_loss: 3.3063\n",
      "Epoch 191/200\n",
      "3/3 [==============================] - 0s 15ms/step - loss: 3.2904 - val_loss: 3.3928\n",
      "Epoch 192/200\n",
      "3/3 [==============================] - 0s 15ms/step - loss: 3.2531 - val_loss: 3.0011\n",
      "Epoch 193/200\n",
      "3/3 [==============================] - 0s 11ms/step - loss: 3.2962 - val_loss: 3.2194\n",
      "Epoch 194/200\n",
      "3/3 [==============================] - 0s 12ms/step - loss: 3.2587 - val_loss: 3.0647\n",
      "Epoch 195/200\n",
      "3/3 [==============================] - 0s 14ms/step - loss: 3.1567 - val_loss: 3.0269\n",
      "Epoch 196/200\n",
      "3/3 [==============================] - 0s 11ms/step - loss: 3.1705 - val_loss: 3.2310\n",
      "Epoch 197/200\n",
      "3/3 [==============================] - 0s 12ms/step - loss: 3.0713 - val_loss: 3.0337\n",
      "Epoch 198/200\n",
      "3/3 [==============================] - 0s 13ms/step - loss: 3.3220 - val_loss: 3.3193\n",
      "Epoch 199/200\n",
      "3/3 [==============================] - 0s 14ms/step - loss: 3.3646 - val_loss: 3.6306\n",
      "Epoch 200/200\n",
      "3/3 [==============================] - 0s 10ms/step - loss: 3.2564 - val_loss: 2.9875\n"
     ]
    }
   ],
   "source": [
    "history = model.fit(X_train, y_train, epochs=200,\n",
    "                    validation_data=(X_valid, y_valid))"
   ]
  },
  {
   "cell_type": "code",
   "execution_count": 72,
   "id": "0b29d35c",
   "metadata": {
    "scrolled": true
   },
   "outputs": [],
   "source": [
    "# history = model.fit(X_train, y_train, epochs=145,\n",
    "#                     validation_data=(X_valid, y_valid), callbacks=[lr_scheduler])"
   ]
  },
  {
   "cell_type": "code",
   "execution_count": 73,
   "id": "28215732",
   "metadata": {},
   "outputs": [
    {
     "name": "stdout",
     "output_type": "stream",
     "text": [
      "Saving figure grid_Gaussian_training_curve\n"
     ]
    },
    {
     "data": {
      "image/png": "[encoded data removed]",
      "text/plain": [
       "<Figure size 576x360 with 1 Axes>"
      ]
     },
     "metadata": {
      "needs_background": "light"
     },
     "output_type": "display_data"
    }
   ],
   "source": [
    "import pandas as pd\n",
    "\n",
    "# print(history.history)\n",
    "try:\n",
    "    lr_list = history.history[\"lr\"]\n",
    "    del(history.history[\"lr\"])\n",
    "except:\n",
    "    pass\n",
    "\n",
    "pd.DataFrame(history.history)[50:].plot(figsize=(8, 5))\n",
    "plt.grid(True)\n",
    "# plt.gca().set_ylim(0, 1)\n",
    "save_fig(\"grid_Gaussian_training_curve\")\n",
    "plt.show()"
   ]
  },
  {
   "cell_type": "code",
   "execution_count": 74,
   "id": "47d362c9",
   "metadata": {
    "scrolled": true
   },
   "outputs": [
    {
     "name": "stdout",
     "output_type": "stream",
     "text": [
      "X.shape = (None, 1)\n",
      "gauss_grid.shape = (None, 5)\n",
      "Saving figure grid_Gaussian_prediction\n"
     ]
    },
    {
     "data": {
      "image/png": "[encoded data removed]",
      "text/plain": [
       "<Figure size 432x288 with 1 Axes>"
      ]
     },
     "metadata": {
      "needs_background": "light"
     },
     "output_type": "display_data"
    }
   ],
   "source": [
    "# plt.plot(X_train, y_train, \"b.\")\n",
    "draw_points(X_train, y_train, sid_train)\n",
    "draw_func((lambda X: model.predict(X)[:,0] ), mark='r-', linewidth=2, label=\"Predictions\")\n",
    "draw_normal_func(func_dict)\n",
    "plt.xlabel(\"$x_1$\", fontsize=18)\n",
    "plt.ylabel(\"$y$\", rotation=0, fontsize=18)\n",
    "plt.legend(loc=\"upper left\", fontsize=14)\n",
    "# plt.axis([-3, 3, 0, 10])\n",
    "save_fig(\"grid_Gaussian_prediction\")\n",
    "plt.show()"
   ]
  },
  {
   "cell_type": "code",
   "execution_count": 75,
   "id": "a85a5159",
   "metadata": {},
   "outputs": [
    {
     "name": "stdout",
     "output_type": "stream",
     "text": [
      "y_func.shape = (100, 1)\n",
      "y_gt.shape = (100, 1)\n"
     ]
    },
    {
     "data": {
      "text/plain": [
       "6.6180215964614675"
      ]
     },
     "execution_count": 75,
     "metadata": {},
     "output_type": "execute_result"
    }
   ],
   "source": [
    "get_prediction_error((lambda X: model.predict(X)[:,0] ), func_dict, name=\"grid-oneGaussian\")"
   ]
  },
  {
   "cell_type": "markdown",
   "id": "9ca1e36d",
   "metadata": {},
   "source": [
    "### Draw the 1-sigma boundary line"
   ]
  },
  {
   "cell_type": "code",
   "execution_count": 76,
   "id": "a04a47fa",
   "metadata": {},
   "outputs": [
    {
     "name": "stdout",
     "output_type": "stream",
     "text": [
      "Saving figure grid_Gaussian_1sigma\n"
     ]
    },
    {
     "data": {
      "image/png": "[encoded data removed]",
      "text/plain": [
       "<Figure size 432x288 with 1 Axes>"
      ]
     },
     "metadata": {
      "needs_background": "light"
     },
     "output_type": "display_data"
    }
   ],
   "source": [
    "def n_sigma_boundary_line(X, n):\n",
    "    _y = model.predict(X)\n",
    "    _mean, _z = _y[:,0:1], _y[:,1:2]\n",
    "    _sigma = np.exp(alpha*_z)\n",
    "    return( _mean + n*_sigma)\n",
    "\n",
    "# plt.plot(X_train, y_train, \"b.\")\n",
    "draw_points(X_train, y_train, sid_train)\n",
    "#\n",
    "draw_func((lambda X: model.predict(X)[:,0] ), mark='r-', linewidth=2, label=\"Predictions\")\n",
    "draw_func((lambda X: n_sigma_boundary_line(X, +1.0) ), mark='k--', linewidth=1, label=\"$\\mu+\\sigma$\")\n",
    "draw_func((lambda X: n_sigma_boundary_line(X, -1.0) ), mark='k--', linewidth=1, label=\"$\\mu-\\sigma$\")\n",
    "#\n",
    "draw_normal_func(func_dict)\n",
    "plt.xlabel(\"$x_1$\", fontsize=18)\n",
    "plt.ylabel(\"$y$\", rotation=0, fontsize=18)\n",
    "plt.legend(loc=\"upper left\", fontsize=14)\n",
    "# plt.axis([-3, 3, 0, 10])\n",
    "save_fig(\"grid_Gaussian_1sigma\")\n",
    "plt.show()"
   ]
  },
  {
   "cell_type": "markdown",
   "id": "1cdb8a83",
   "metadata": {},
   "source": [
    "# Per-subject Bias/Property Learning"
   ]
  },
  {
   "cell_type": "code",
   "execution_count": 77,
   "id": "0a429b42",
   "metadata": {},
   "outputs": [],
   "source": [
    "# Create a custom layer for estimating bais for each subject\n",
    "class SubjectBias(keras.layers.Layer):\n",
    "    def __init__(self, num_subject, bias_scale=1.0, mean_reg_rate=1.0, activation=None, **kwargs):\n",
    "        super().__init__(**kwargs)\n",
    "        self.num_subject = num_subject\n",
    "        self.bias_scale = bias_scale\n",
    "        self.mean_reg_rate = mean_reg_rate if mean_reg_rate >= 0.0 else 0.0\n",
    "        #\n",
    "        self.X_shape = None\n",
    "        self.activation = keras.activations.get(activation)\n",
    "        \n",
    "    def build(self, batch_input_shape):\n",
    "        self.X_shape = batch_input_shape[0]\n",
    "        # Initiate a trainable vector as the bias for X\n",
    "        \"\"\"\n",
    "        bias: (num_subject, X_shape[1], X_shape[2], ...)\n",
    "        \"\"\"\n",
    "        self.bias = self.add_weight(name=\"bias\", \n",
    "                                    shape=([self.num_subject] + self.X_shape[1:]), \n",
    "                                    initializer=\"zeros\")\n",
    "        super().build(batch_input_shape) # must be at the end\n",
    "        \n",
    "    def get_bias(self, sid):\n",
    "        '''\n",
    "        A helper function for retriving the bias according to the given sid.\n",
    "        Note: sid starts from 1.\n",
    "        Note2: this is the bias added to X, which are scaled by self.bias_scale\n",
    "        '''\n",
    "        if sid > self.num_subject or sid <= 0: # Out of bound, index not in range\n",
    "            return tf.zeros(self.X_shape[1:])\n",
    "        else:\n",
    "            return self.bias_scale * self.bias[tf.cast(sid-1, tf.int32),:]\n",
    "        \n",
    "    def get_scaled_biases_np(self):\n",
    "        return self.bias_scale * self.bias.numpy()\n",
    "        \n",
    "    def call(self, X_sid, training=None):\n",
    "        '''\n",
    "        X_sid = [X, sid]\n",
    "        Input shape:  X: (batch, ...), sid: (batch, 1)\n",
    "        Output shape: (batch, ...)\n",
    "        '''\n",
    "        X, SID = X_sid\n",
    "        X_shape = X.shape\n",
    "        print(\"X.shape = %s\" % X.shape)\n",
    "        print(\"SID.shape = %s\" % SID.shape)\n",
    "        \n",
    "        # Add bias\n",
    "        y = X + self.bias_scale * tf.gather(self.bias, SID[:,0]-1, axis=0)\n",
    "        \n",
    "        # Add a loss on the means in order to force them to become zeros\n",
    "        if self.mean_reg_rate > 0.0:\n",
    "            # Calculate the mean of all biases (on each dimension)\n",
    "            bias_means = tf.reduce_mean(self.bias, axis=0)\n",
    "            # MAE of means on all dimensions\n",
    "            self.add_loss( self.mean_reg_rate * tf.reduce_sum(tf.abs(bias_means)) )\n",
    "        \n",
    "        return self.activation(y)\n",
    "        \n",
    "#         if training:    \n",
    "#             # Add biases according to the sid of each instance\n",
    "#             # Note: a corner case is not handeled that if there exist out-of-range sid.\n",
    "#             # y = X + self.bias[tf.cast(SID[:,0]-1, tf.int32),:]\n",
    "#             # y = X + self.bias[ SID[:,0]-1,:]\n",
    "#             y = X + tf.gather(self.bias, SID[:,0]-1, axis=0)\n",
    "#             return self.activation(y)\n",
    "#         else: # If it's not trainig, just output the original X without adding bias\n",
    "#             return self.activation(X_sid[0])\n",
    "    \n",
    "    def compute_output_shape(self, batch_input_shape):\n",
    "        # Note: the same shape as the first input\n",
    "        return batch_input_shape[0]\n",
    "    \n",
    "    def get_config(self):\n",
    "        base_config = super().get_config()\n",
    "        return {**base_config, \n",
    "                \"num_subject\": self.num_subject,\n",
    "                \"bias_scale\": self.bias_scale,\n",
    "                \"mean_reg_rate\": self.mean_reg_rate,\n",
    "                \"activation\": keras.activations.serialize(self.activation)}"
   ]
  },
  {
   "cell_type": "code",
   "execution_count": 78,
   "id": "8d90e89f",
   "metadata": {},
   "outputs": [],
   "source": [
    "# Create a custom layer for estimating linear transform for each subject\n",
    "# We only assume 1D lear transform on each input dimension separately. (assume value on each dimension are independent to others.)\n",
    "# 1D linear transform: yi = wi * xi + bi\n",
    "class SubjectLinearTransform1D(keras.layers.Layer):\n",
    "    def __init__(self, num_subject, bias_scale=1.0, weight_mean_reg_rate=1.0, bias_mean_reg_rate=1.0, activation=None, **kwargs):\n",
    "        super().__init__(**kwargs)\n",
    "        self.num_subject = num_subject\n",
    "        self.bias_scale = bias_scale\n",
    "        self.weight_mean_reg_rate = weight_mean_reg_rate if weight_mean_reg_rate >= 0.0 else 0.0\n",
    "        self.bias_mean_reg_rate = bias_mean_reg_rate if bias_mean_reg_rate >= 0.0 else 0.0\n",
    "        #\n",
    "        self.X_shape = None\n",
    "        self.activation = keras.activations.get(activation)\n",
    "        \n",
    "    def build(self, batch_input_shape):\n",
    "        self.X_shape = batch_input_shape[0]\n",
    "        # Initiate a trainable vector as the bias for X\n",
    "        \"\"\"\n",
    "        bias: (num_subject, X_shape[1], X_shape[2], ...)\n",
    "        \"\"\"\n",
    "        self.weight = self.add_weight(name=\"weight\", \n",
    "                                    shape=([self.num_subject] + self.X_shape[1:]), \n",
    "                                    initializer=\"ones\")\n",
    "        self.bias = self.add_weight(name=\"bias\", \n",
    "                                    shape=([self.num_subject] + self.X_shape[1:]), \n",
    "                                    initializer=\"zeros\")\n",
    "        super().build(batch_input_shape) # must be at the end\n",
    "        \n",
    "    def get_bias(self, sid):\n",
    "        '''\n",
    "        A helper function for retriving the bias according to the given sid.\n",
    "        Note: sid starts from 1.\n",
    "        Note2: this is the bias added to X, which are scaled by self.bias_scale\n",
    "        '''\n",
    "        if sid > self.num_subject or sid <= 0: # Out of bound, index not in range\n",
    "            return tf.zeros(self.X_shape[1:])\n",
    "        else:\n",
    "            return self.bias_scale * self.bias[tf.cast(sid-1, tf.int32),:]\n",
    "        \n",
    "    def get_scaled_biases_np(self):\n",
    "        return self.bias_scale * self.bias.numpy()\n",
    "    \n",
    "    def get_weights_np(self):\n",
    "        return self.weight.numpy()\n",
    "        \n",
    "    def call(self, X_sid, training=None):\n",
    "        '''\n",
    "        X_sid = [X, sid]\n",
    "        Input shape:  X: (batch, ...), sid: (batch, 1)\n",
    "        Output shape: (batch, ...)\n",
    "        '''\n",
    "        X, SID = X_sid\n",
    "        X_shape = X.shape\n",
    "        print(\"X.shape = %s\" % X.shape)\n",
    "        print(\"SID.shape = %s\" % SID.shape)\n",
    "        \n",
    "        # Element-wise multiplication of weights and addition of biases\n",
    "        y = tf.gather(self.weight, SID[:,0]-1, axis=0) * X + self.bias_scale * tf.gather(self.bias, SID[:,0]-1, axis=0)\n",
    "        \n",
    "        # Add a loss on the means in order to force them to become zeros\n",
    "        if self.weight_mean_reg_rate > 0.0 or self.bias_mean_reg_rate > 0.0:\n",
    "            # Calculate the mean of all weights and biases (on each dimension separately)\n",
    "            weight_means = tf.reduce_mean(self.weight, axis=0)\n",
    "            bias_means = tf.reduce_mean(self.bias, axis=0)\n",
    "            # MAE of means on all dimensions\n",
    "            self.add_loss( self.weight_mean_reg_rate * tf.reduce_sum(tf.abs(weight_means - 1.0)) ) # Should close to 1.0\n",
    "            self.add_loss( self.bias_mean_reg_rate * tf.reduce_sum(tf.abs(bias_means)) )\n",
    "        \n",
    "        return self.activation(y)\n",
    "    \n",
    "    def compute_output_shape(self, batch_input_shape):\n",
    "        # Note: the same shape as the first input\n",
    "        return batch_input_shape[0]\n",
    "    \n",
    "    def get_config(self):\n",
    "        base_config = super().get_config()\n",
    "        return {**base_config, \n",
    "                \"num_subject\": self.num_subject,\n",
    "                \"bias_scale\": self.bias_scale,\n",
    "                \"weight_mean_reg_rate\": self.weight_mean_reg_rate,\n",
    "                \"bias_mean_reg_rate\": self.bias_mean_reg_rate,\n",
    "                \"activation\": keras.activations.serialize(self.activation)}"
   ]
  },
  {
   "cell_type": "markdown",
   "id": "00220bd0",
   "metadata": {},
   "source": [
    "Number of subjects"
   ]
  },
  {
   "cell_type": "code",
   "execution_count": 79,
   "id": "fa925d83",
   "metadata": {},
   "outputs": [],
   "source": [
    "# Number of subjects\n",
    "num_subject = multiout_type"
   ]
  },
  {
   "cell_type": "markdown",
   "id": "37e02154",
   "metadata": {},
   "source": [
    "Build two models"
   ]
  },
  {
   "cell_type": "code",
   "execution_count": 80,
   "id": "05766d44",
   "metadata": {},
   "outputs": [
    {
     "name": "stdout",
     "output_type": "stream",
     "text": [
      "X.shape = (None, 1)\n",
      "gauss_grid.shape = (None, 5)\n",
      "X.shape = (None, 1)\n",
      "SID.shape = (None, 1)\n",
      "WARNING:tensorflow:From /home/benson516/GazeDemo/gaze_env/lib/python3.8/site-packages/tensorflow/python/ops/array_ops.py:5043: calling gather (from tensorflow.python.ops.array_ops) with validate_indices is deprecated and will be removed in a future version.\n",
      "Instructions for updating:\n",
      "The `validate_indices` argument has no effect. Indices are always validated on CPU and never validated on GPU.\n"
     ]
    }
   ],
   "source": [
    "inputs = keras.layers.Input(shape=X_train.shape[1:])\n",
    "inputs_sid = keras.layers.Input(shape=(1,), dtype=tf.int32)\n",
    "#\n",
    "z = num2grid(5,x_min=-10, x_max=10, sigma=3.0)(inputs)\n",
    "z = keras.layers.Dense(30, activation=\"relu\")(z)\n",
    "output = keras.layers.Dense(1)(z)\n",
    "# output_biased = SubjectBias(num_subject, bias_scale=10.0, mean_reg_rate=1.0, name=\"bias_est\")([output, inputs_sid])\n",
    "output_biased = SubjectLinearTransform1D(num_subject, bias_scale=10.0, weight_mean_reg_rate=5.0, bias_mean_reg_rate=1.0, name=\"bias_est\")([output, inputs_sid])\n",
    "# Setup models\n",
    "model = keras.Model(inputs=[inputs], outputs=[output]) # pure\n",
    "model_biased = keras.Model(inputs=[inputs, inputs_sid], outputs=[output_biased]) # biased, for training"
   ]
  },
  {
   "cell_type": "code",
   "execution_count": 81,
   "id": "6da7e9b1",
   "metadata": {},
   "outputs": [
    {
     "name": "stderr",
     "output_type": "stream",
     "text": [
      "/home/benson516/GazeDemo/gaze_env/lib/python3.8/site-packages/tensorflow/python/keras/optimizer_v2/optimizer_v2.py:374: UserWarning: The `lr` argument is deprecated, use `learning_rate` instead.\n",
      "  warnings.warn(\n"
     ]
    }
   ],
   "source": [
    "# optimizer = keras.optimizers.SGD(lr=0.001, momentum=0.9)\n",
    "# model.compile(loss=\"mean_squared_error\", optimizer=optimizer)\n",
    "optimizer = keras.optimizers.Adam(lr=0.1)\n",
    "model_biased.compile(loss=\"mean_absolute_error\", optimizer=optimizer)\n",
    "#\n",
    "# model.compile(loss=\"mean_absolute_error\", optimizer=optimizer) # No need to compile this if it's not going to be trained."
   ]
  },
  {
   "cell_type": "code",
   "execution_count": 82,
   "id": "700a6e39",
   "metadata": {
    "scrolled": true
   },
   "outputs": [
    {
     "name": "stdout",
     "output_type": "stream",
     "text": [
      "Epoch 1/100\n",
      "X.shape = (None, 1)\n",
      "gauss_grid.shape = (None, 5)\n",
      "X.shape = (None, 1)\n",
      "SID.shape = (None, 1)\n",
      "X.shape = (None, 1)\n",
      "gauss_grid.shape = (None, 5)\n",
      "X.shape = (None, 1)\n",
      "SID.shape = (None, 1)\n",
      "1/3 [=========>....................] - ETA: 0s - loss: 42.0667X.shape = (None, 1)\n",
      "gauss_grid.shape = (None, 5)\n",
      "X.shape = (None, 1)\n",
      "SID.shape = (None, 1)\n",
      "3/3 [==============================] - 0s 48ms/step - loss: 41.3419 - val_loss: 31.4953\n",
      "Epoch 2/100\n",
      "3/3 [==============================] - 0s 7ms/step - loss: 37.8173 - val_loss: 25.9023\n",
      "Epoch 3/100\n",
      "3/3 [==============================] - 0s 13ms/step - loss: 30.8193 - val_loss: 17.5536\n",
      "Epoch 4/100\n",
      "3/3 [==============================] - 0s 16ms/step - loss: 20.0792 - val_loss: 9.4727\n",
      "Epoch 5/100\n",
      "3/3 [==============================] - 0s 14ms/step - loss: 17.3351 - val_loss: 11.3434\n",
      "Epoch 6/100\n",
      "3/3 [==============================] - 0s 21ms/step - loss: 18.5455 - val_loss: 10.6318\n",
      "Epoch 7/100\n",
      "3/3 [==============================] - 0s 7ms/step - loss: 16.0337 - val_loss: 8.1943\n",
      "Epoch 8/100\n",
      "3/3 [==============================] - 0s 12ms/step - loss: 13.8772 - val_loss: 10.4411\n",
      "Epoch 9/100\n",
      "3/3 [==============================] - 0s 14ms/step - loss: 13.8740 - val_loss: 9.4543\n",
      "Epoch 10/100\n",
      "3/3 [==============================] - 0s 11ms/step - loss: 13.2073 - val_loss: 6.9807\n",
      "Epoch 11/100\n",
      "3/3 [==============================] - 0s 14ms/step - loss: 11.9534 - val_loss: 5.7863\n",
      "Epoch 12/100\n",
      "3/3 [==============================] - 0s 13ms/step - loss: 10.7043 - val_loss: 5.7178\n",
      "Epoch 13/100\n",
      "3/3 [==============================] - 0s 11ms/step - loss: 11.0491 - val_loss: 5.1304\n",
      "Epoch 14/100\n",
      "3/3 [==============================] - 0s 12ms/step - loss: 10.4546 - val_loss: 5.3107\n",
      "Epoch 15/100\n",
      "3/3 [==============================] - 0s 14ms/step - loss: 10.4750 - val_loss: 6.2941\n",
      "Epoch 16/100\n",
      "3/3 [==============================] - 0s 14ms/step - loss: 10.3449 - val_loss: 5.9315\n",
      "Epoch 17/100\n",
      "3/3 [==============================] - 0s 9ms/step - loss: 9.8618 - val_loss: 4.9596\n",
      "Epoch 18/100\n",
      "3/3 [==============================] - 0s 13ms/step - loss: 9.5465 - val_loss: 4.8915\n",
      "Epoch 19/100\n",
      "3/3 [==============================] - 0s 16ms/step - loss: 8.7846 - val_loss: 4.3918\n",
      "Epoch 20/100\n",
      "3/3 [==============================] - 0s 15ms/step - loss: 8.8582 - val_loss: 5.0622\n",
      "Epoch 21/100\n",
      "3/3 [==============================] - 0s 13ms/step - loss: 8.4599 - val_loss: 4.3966\n",
      "Epoch 22/100\n",
      "3/3 [==============================] - 0s 14ms/step - loss: 7.9380 - val_loss: 4.2913\n",
      "Epoch 23/100\n",
      "3/3 [==============================] - 0s 14ms/step - loss: 7.6942 - val_loss: 3.9353\n",
      "Epoch 24/100\n",
      "3/3 [==============================] - 0s 12ms/step - loss: 7.1646 - val_loss: 3.8715\n",
      "Epoch 25/100\n",
      "3/3 [==============================] - 0s 13ms/step - loss: 6.4759 - val_loss: 3.5122\n",
      "Epoch 26/100\n",
      "3/3 [==============================] - 0s 12ms/step - loss: 6.0973 - val_loss: 3.2726\n",
      "Epoch 27/100\n",
      "3/3 [==============================] - 0s 13ms/step - loss: 5.6747 - val_loss: 3.2205\n",
      "Epoch 28/100\n",
      "3/3 [==============================] - 0s 18ms/step - loss: 4.9603 - val_loss: 3.1332\n",
      "Epoch 29/100\n",
      "3/3 [==============================] - 0s 16ms/step - loss: 4.6347 - val_loss: 2.8875\n",
      "Epoch 30/100\n",
      "3/3 [==============================] - 0s 14ms/step - loss: 3.8233 - val_loss: 2.8776\n",
      "Epoch 31/100\n",
      "3/3 [==============================] - 0s 13ms/step - loss: 3.5152 - val_loss: 2.8804\n",
      "Epoch 32/100\n",
      "3/3 [==============================] - 0s 14ms/step - loss: 3.9459 - val_loss: 2.9886\n",
      "Epoch 33/100\n",
      "3/3 [==============================] - 0s 15ms/step - loss: 3.4602 - val_loss: 3.9641\n",
      "Epoch 34/100\n",
      "3/3 [==============================] - 0s 12ms/step - loss: 3.7476 - val_loss: 3.4169\n",
      "Epoch 35/100\n",
      "3/3 [==============================] - 0s 16ms/step - loss: 3.4063 - val_loss: 4.6871\n",
      "Epoch 36/100\n",
      "3/3 [==============================] - 0s 13ms/step - loss: 3.4315 - val_loss: 2.8154\n",
      "Epoch 37/100\n",
      "3/3 [==============================] - 0s 15ms/step - loss: 3.0413 - val_loss: 3.1556\n",
      "Epoch 38/100\n",
      "3/3 [==============================] - 0s 12ms/step - loss: 3.3131 - val_loss: 2.3000\n",
      "Epoch 39/100\n",
      "3/3 [==============================] - 0s 17ms/step - loss: 3.4657 - val_loss: 2.9632\n",
      "Epoch 40/100\n",
      "3/3 [==============================] - 0s 17ms/step - loss: 3.3125 - val_loss: 3.7401\n",
      "Epoch 41/100\n",
      "3/3 [==============================] - 0s 15ms/step - loss: 3.3688 - val_loss: 2.9006\n",
      "Epoch 42/100\n",
      "3/3 [==============================] - 0s 13ms/step - loss: 3.1147 - val_loss: 3.0591\n",
      "Epoch 43/100\n",
      "3/3 [==============================] - 0s 16ms/step - loss: 3.0009 - val_loss: 2.5413\n",
      "Epoch 44/100\n",
      "3/3 [==============================] - 0s 16ms/step - loss: 3.0526 - val_loss: 2.7785\n",
      "Epoch 45/100\n",
      "3/3 [==============================] - 0s 16ms/step - loss: 3.4420 - val_loss: 3.4338\n",
      "Epoch 46/100\n",
      "3/3 [==============================] - 0s 10ms/step - loss: 3.1673 - val_loss: 2.6832\n",
      "Epoch 47/100\n",
      "3/3 [==============================] - 0s 13ms/step - loss: 3.0343 - val_loss: 2.6059\n",
      "Epoch 48/100\n",
      "3/3 [==============================] - 0s 15ms/step - loss: 2.9421 - val_loss: 2.5931\n",
      "Epoch 49/100\n",
      "3/3 [==============================] - 0s 11ms/step - loss: 2.8794 - val_loss: 2.3275\n",
      "Epoch 50/100\n",
      "3/3 [==============================] - 0s 13ms/step - loss: 3.1157 - val_loss: 2.5043\n",
      "Epoch 51/100\n",
      "3/3 [==============================] - 0s 13ms/step - loss: 3.1965 - val_loss: 2.5586\n",
      "Epoch 52/100\n",
      "3/3 [==============================] - 0s 11ms/step - loss: 3.1876 - val_loss: 3.6762\n",
      "Epoch 53/100\n",
      "3/3 [==============================] - 0s 13ms/step - loss: 3.2705 - val_loss: 2.7106\n",
      "Epoch 54/100\n",
      "3/3 [==============================] - 0s 10ms/step - loss: 3.0946 - val_loss: 3.1182\n",
      "Epoch 55/100\n",
      "3/3 [==============================] - 0s 15ms/step - loss: 3.2274 - val_loss: 2.7300\n",
      "Epoch 56/100\n",
      "3/3 [==============================] - 0s 14ms/step - loss: 3.3694 - val_loss: 3.4171\n",
      "Epoch 57/100\n",
      "3/3 [==============================] - 0s 10ms/step - loss: 3.3760 - val_loss: 3.9151\n",
      "Epoch 58/100\n",
      "3/3 [==============================] - 0s 14ms/step - loss: 3.0885 - val_loss: 3.0489\n",
      "Epoch 59/100\n",
      "3/3 [==============================] - 0s 11ms/step - loss: 3.0592 - val_loss: 3.5656\n",
      "Epoch 60/100\n",
      "3/3 [==============================] - 0s 10ms/step - loss: 3.4119 - val_loss: 2.7215\n",
      "Epoch 61/100\n",
      "3/3 [==============================] - 0s 15ms/step - loss: 3.4958 - val_loss: 2.5251\n",
      "Epoch 62/100\n",
      "3/3 [==============================] - 0s 11ms/step - loss: 3.1282 - val_loss: 3.0838\n",
      "Epoch 63/100\n",
      "3/3 [==============================] - 0s 19ms/step - loss: 3.3942 - val_loss: 2.6917\n",
      "Epoch 64/100\n",
      "3/3 [==============================] - 0s 15ms/step - loss: 3.0133 - val_loss: 3.6787\n",
      "Epoch 65/100\n",
      "3/3 [==============================] - 0s 16ms/step - loss: 3.1153 - val_loss: 2.4736\n",
      "Epoch 66/100\n",
      "3/3 [==============================] - 0s 17ms/step - loss: 2.9908 - val_loss: 3.1803\n",
      "Epoch 67/100\n",
      "3/3 [==============================] - 0s 18ms/step - loss: 3.0883 - val_loss: 2.4236\n",
      "Epoch 68/100\n",
      "3/3 [==============================] - 0s 13ms/step - loss: 2.5604 - val_loss: 3.0273\n",
      "Epoch 69/100\n",
      "3/3 [==============================] - 0s 19ms/step - loss: 2.9162 - val_loss: 2.5775\n",
      "Epoch 70/100\n",
      "3/3 [==============================] - 0s 11ms/step - loss: 2.7123 - val_loss: 2.8909\n",
      "Epoch 71/100\n",
      "3/3 [==============================] - 0s 17ms/step - loss: 2.8133 - val_loss: 2.4276\n",
      "Epoch 72/100\n",
      "3/3 [==============================] - 0s 17ms/step - loss: 2.7497 - val_loss: 2.4148\n",
      "Epoch 73/100\n",
      "3/3 [==============================] - 0s 12ms/step - loss: 2.6089 - val_loss: 2.5999\n",
      "Epoch 74/100\n",
      "3/3 [==============================] - 0s 16ms/step - loss: 2.7191 - val_loss: 2.7927\n",
      "Epoch 75/100\n",
      "3/3 [==============================] - 0s 14ms/step - loss: 3.5586 - val_loss: 2.8896\n",
      "Epoch 76/100\n",
      "3/3 [==============================] - 0s 14ms/step - loss: 2.9757 - val_loss: 2.6646\n",
      "Epoch 77/100\n",
      "3/3 [==============================] - 0s 12ms/step - loss: 2.7496 - val_loss: 2.3925\n",
      "Epoch 78/100\n",
      "3/3 [==============================] - 0s 15ms/step - loss: 2.7657 - val_loss: 2.5685\n",
      "Epoch 79/100\n",
      "3/3 [==============================] - 0s 15ms/step - loss: 2.6879 - val_loss: 2.6076\n",
      "Epoch 80/100\n"
     ]
    },
    {
     "name": "stdout",
     "output_type": "stream",
     "text": [
      "3/3 [==============================] - 0s 12ms/step - loss: 2.8823 - val_loss: 3.1120\n",
      "Epoch 81/100\n",
      "3/3 [==============================] - 0s 11ms/step - loss: 2.8995 - val_loss: 2.8355\n",
      "Epoch 82/100\n",
      "3/3 [==============================] - 0s 15ms/step - loss: 2.8054 - val_loss: 2.7856\n",
      "Epoch 83/100\n",
      "3/3 [==============================] - 0s 14ms/step - loss: 2.7243 - val_loss: 2.3767\n",
      "Epoch 84/100\n",
      "3/3 [==============================] - 0s 12ms/step - loss: 2.5827 - val_loss: 2.9669\n",
      "Epoch 85/100\n",
      "3/3 [==============================] - 0s 15ms/step - loss: 2.9334 - val_loss: 2.2041\n",
      "Epoch 86/100\n",
      "3/3 [==============================] - 0s 14ms/step - loss: 2.8858 - val_loss: 2.3608\n",
      "Epoch 87/100\n",
      "3/3 [==============================] - 0s 12ms/step - loss: 2.8404 - val_loss: 2.7231\n",
      "Epoch 88/100\n",
      "3/3 [==============================] - 0s 17ms/step - loss: 3.1369 - val_loss: 2.7566\n",
      "Epoch 89/100\n",
      "3/3 [==============================] - 0s 13ms/step - loss: 2.9760 - val_loss: 3.1615\n",
      "Epoch 90/100\n",
      "3/3 [==============================] - 0s 13ms/step - loss: 3.4032 - val_loss: 2.6193\n",
      "Epoch 91/100\n",
      "3/3 [==============================] - 0s 12ms/step - loss: 3.4734 - val_loss: 2.6836\n",
      "Epoch 92/100\n",
      "3/3 [==============================] - 0s 16ms/step - loss: 3.1817 - val_loss: 3.3905\n",
      "Epoch 93/100\n",
      "3/3 [==============================] - 0s 16ms/step - loss: 3.6532 - val_loss: 3.5369\n",
      "Epoch 94/100\n",
      "3/3 [==============================] - 0s 16ms/step - loss: 3.3444 - val_loss: 3.4158\n",
      "Epoch 95/100\n",
      "3/3 [==============================] - 0s 13ms/step - loss: 3.4411 - val_loss: 2.6848\n",
      "Epoch 96/100\n",
      "3/3 [==============================] - 0s 15ms/step - loss: 2.7847 - val_loss: 2.9609\n",
      "Epoch 97/100\n",
      "3/3 [==============================] - 0s 14ms/step - loss: 3.0674 - val_loss: 2.7978\n",
      "Epoch 98/100\n",
      "3/3 [==============================] - 0s 12ms/step - loss: 2.9598 - val_loss: 2.7342\n",
      "Epoch 99/100\n",
      "3/3 [==============================] - 0s 15ms/step - loss: 3.2516 - val_loss: 2.7358\n",
      "Epoch 100/100\n",
      "3/3 [==============================] - 0s 12ms/step - loss: 2.8974 - val_loss: 2.5122\n"
     ]
    }
   ],
   "source": [
    "history = model_biased.fit([X_train, sid_train], y_train, epochs=100,\n",
    "                    validation_data=([X_valid, sid_valid], y_valid))"
   ]
  },
  {
   "cell_type": "code",
   "execution_count": 83,
   "id": "ca149f05",
   "metadata": {
    "scrolled": false
   },
   "outputs": [
    {
     "name": "stdout",
     "output_type": "stream",
     "text": [
      "Saving figure grid_noBiaseNum_training_curve\n"
     ]
    },
    {
     "data": {
      "image/png": "[encoded data removed]",
      "text/plain": [
       "<Figure size 576x360 with 1 Axes>"
      ]
     },
     "metadata": {
      "needs_background": "light"
     },
     "output_type": "display_data"
    }
   ],
   "source": [
    "import pandas as pd\n",
    "\n",
    "pd.DataFrame(history.history).plot(figsize=(8, 5))\n",
    "plt.grid(True)\n",
    "# plt.gca().set_ylim(0, 1)\n",
    "save_fig(\"grid_noBiaseNum_training_curve\")\n",
    "plt.show()"
   ]
  },
  {
   "cell_type": "markdown",
   "id": "2433c7a5",
   "metadata": {},
   "source": [
    "The pure prediction"
   ]
  },
  {
   "cell_type": "code",
   "execution_count": 84,
   "id": "556ee2c4",
   "metadata": {},
   "outputs": [
    {
     "name": "stdout",
     "output_type": "stream",
     "text": [
      "X.shape = (None, 1)\n",
      "gauss_grid.shape = (None, 5)\n",
      "Saving figure grid_noBaisNum_prediction\n"
     ]
    },
    {
     "data": {
      "image/png": "[encoded data removed]",
      "text/plain": [
       "<Figure size 432x288 with 1 Axes>"
      ]
     },
     "metadata": {
      "needs_background": "light"
     },
     "output_type": "display_data"
    }
   ],
   "source": [
    "draw_points(X_train, y_train, sid_train)\n",
    "draw_func(model.predict, mark='r-', linewidth=2, label=\"Predictions\")\n",
    "draw_normal_func(func_dict)\n",
    "plt.xlabel(\"$x_1$\", fontsize=18)\n",
    "plt.ylabel(\"$y$\", rotation=0, fontsize=18)\n",
    "plt.legend(loc=\"upper left\", fontsize=14)\n",
    "# plt.axis([-3, 3, 0, 10])\n",
    "save_fig(\"grid_noBaisNum_prediction\")\n",
    "plt.show()"
   ]
  },
  {
   "cell_type": "code",
   "execution_count": 85,
   "id": "4d3d77cd",
   "metadata": {},
   "outputs": [
    {
     "name": "stdout",
     "output_type": "stream",
     "text": [
      "y_func.shape = (100, 1)\n",
      "y_gt.shape = (100, 1)\n"
     ]
    },
    {
     "data": {
      "text/plain": [
       "2.6944425192864294"
      ]
     },
     "execution_count": 85,
     "metadata": {},
     "output_type": "execute_result"
    }
   ],
   "source": [
    "get_prediction_error(model.predict, func_dict, name=\"grid-noBiasNum\")"
   ]
  },
  {
   "cell_type": "markdown",
   "id": "b89b2413",
   "metadata": {},
   "source": [
    "### Biased Prediction (according to SID)"
   ]
  },
  {
   "cell_type": "code",
   "execution_count": 86,
   "id": "0893f75e",
   "metadata": {},
   "outputs": [
    {
     "name": "stdout",
     "output_type": "stream",
     "text": [
      "scaled_bias = \n",
      "[[-12.462063]\n",
      " [ 12.48584 ]]\n",
      "\n",
      "mean_scaled_bias = \n",
      "[0.02377701]\n"
     ]
    }
   ],
   "source": [
    "scaled_bias = model_biased.get_layer(\"bias_est\").get_scaled_biases_np()\n",
    "mean_scaled_bias = np.sum(scaled_bias, axis=0)\n",
    "#\n",
    "print(\"scaled_bias = \\n%s\" % str(scaled_bias))\n",
    "print(\"\\nmean_scaled_bias = \\n%s\" % str(mean_scaled_bias))"
   ]
  },
  {
   "cell_type": "code",
   "execution_count": 87,
   "id": "01a675f7",
   "metadata": {},
   "outputs": [
    {
     "name": "stdout",
     "output_type": "stream",
     "text": [
      "output_scales = \n",
      "[[1.106566 ]\n",
      " [0.8575649]]\n",
      "\n",
      "mean_scales = \n",
      "[0.98206544]\n"
     ]
    }
   ],
   "source": [
    "try:\n",
    "    output_scales = model_biased.get_layer(\"bias_est\").get_weights_np()\n",
    "    mean_scales = np.mean(output_scales, axis=0)\n",
    "    #\n",
    "    print(\"output_scales = \\n%s\" % str(output_scales))\n",
    "    print(\"\\nmean_scales = \\n%s\" % str(mean_scales))\n",
    "except:\n",
    "    pass"
   ]
  },
  {
   "cell_type": "code",
   "execution_count": 88,
   "id": "16460e63",
   "metadata": {},
   "outputs": [
    {
     "name": "stdout",
     "output_type": "stream",
     "text": [
      "X.shape = (None, 1)\n",
      "gauss_grid.shape = (None, 5)\n",
      "X.shape = (None, 1)\n",
      "SID.shape = (None, 1)\n",
      "Saving figure grid_noBaisNum_perSubjectCurve\n"
     ]
    },
    {
     "data": {
      "image/png": "[encoded data removed]",
      "text/plain": [
       "<Figure size 432x288 with 1 Axes>"
      ]
     },
     "metadata": {
      "needs_background": "light"
     },
     "output_type": "display_data"
    }
   ],
   "source": [
    "def predict_with_biase_sid(X, sid=1):\n",
    "    return model_biased.predict([X, tf.fill( (X.shape[0],1), sid)])\n",
    "\n",
    "draw_points(X_train, y_train, sid_train)\n",
    "#\n",
    "draw_func(model.predict, mark='r-', linewidth=2, label=\"Predictions\")\n",
    "for _idx in range(num_subject):\n",
    "    _sid = _idx + 1\n",
    "    draw_func(lambda X: predict_with_biase_sid(X, _sid), mark='k--', linewidth=1, label=(\"sid=%d\" % _sid))\n",
    "#\n",
    "draw_normal_func(func_dict)\n",
    "plt.xlabel(\"$x_1$\", fontsize=18)\n",
    "plt.ylabel(\"$y$\", rotation=0, fontsize=18)\n",
    "plt.legend(loc=\"upper left\", fontsize=14)\n",
    "# plt.axis([-3, 3, 0, 10])\n",
    "save_fig(\"grid_noBaisNum_perSubjectCurve\")\n",
    "plt.show()"
   ]
  },
  {
   "cell_type": "code",
   "execution_count": null,
   "id": "88fbe2df",
   "metadata": {},
   "outputs": [],
   "source": []
  },
  {
   "cell_type": "markdown",
   "id": "40092303",
   "metadata": {},
   "source": [
    "# Combine Multi-Quantile Redgression with Per-Subject Transform Estimation (grid --> multi-quantile)"
   ]
  },
  {
   "cell_type": "code",
   "execution_count": 89,
   "id": "ba230fb2",
   "metadata": {},
   "outputs": [],
   "source": [
    "# quantile_list = [0.5]\n",
    "# quantile_list = [0.9]\n",
    "# quantile_list = [0.1, 0.9] # Use hidden layer with 30 neurons\n",
    "# quantile_list = [0.05, 0.95]\n",
    "# quantile_list = [0.25, 0.75]\n",
    "# quantile_list = [0.1, 0.5, 0.9]\n",
    "# quantile_list = [0.1, 0.3, 0.7, 0.9]\n",
    "# quantile_list = [0.1, 0.2, 0.3, 0.4, 0.6, 0.7, 0.8, 0.9] # remove 0.5\n",
    "quantile_list = [0.1, 0.2, 0.3, 0.4, 0.5, 0.6, 0.7, 0.8, 0.9] # Should use wider hidden layer (with many neurons) + L1 regularization\n",
    "num_quantile = len(quantile_list)"
   ]
  },
  {
   "cell_type": "code",
   "execution_count": 90,
   "id": "26d0136c",
   "metadata": {},
   "outputs": [],
   "source": [
    "# Number of subjects\n",
    "num_subject = multiout_type"
   ]
  },
  {
   "cell_type": "code",
   "execution_count": 91,
   "id": "7d1cdc96",
   "metadata": {},
   "outputs": [
    {
     "name": "stdout",
     "output_type": "stream",
     "text": [
      "X.shape = (None, 1)\n",
      "gauss_grid.shape = (None, 5)\n",
      "X.shape = (None, 9)\n",
      "SID.shape = (None, 1)\n"
     ]
    }
   ],
   "source": [
    "inputs = keras.layers.Input(shape=X_train.shape[1:])\n",
    "inputs_sid = keras.layers.Input(shape=(1,), dtype=tf.int32)\n",
    "#\n",
    "# z = inputs\n",
    "z = num2grid(5,x_min=-10, x_max=10, sigma=3.0)(inputs) # Convert to grid\n",
    "z = keras.layers.Dense(30, activation=\"relu\")(z)\n",
    "# z = keras.layers.Dense(30, activation=\"relu\")(z)\n",
    "# z = keras.layers.Dense(100, activation=\"relu\", kernel_regularizer=tf.keras.regularizers.l1(0.01))(z)\n",
    "# z = keras.layers.Dense(100, activation=\"relu\", kernel_regularizer=tf.keras.regularizers.l1(1.0))(z)\n",
    "output = keras.layers.Dense(num_quantile)(z)\n",
    "# output_biased = SubjectBias(num_subject, bias_scale=10.0, mean_reg_rate=1.0, name=\"bias_est\")([output, inputs_sid])\n",
    "output_biased = SubjectLinearTransform1D(num_subject, bias_scale=10.0, weight_mean_reg_rate=5.0, bias_mean_reg_rate=1.0, name=\"bias_est\")([output, inputs_sid])\n",
    "# Setup models\n",
    "model = keras.Model(inputs=[inputs], outputs=[output]) # pure\n",
    "model_biased = keras.Model(inputs=[inputs, inputs_sid], outputs=[output_biased]) # biased, for training"
   ]
  },
  {
   "cell_type": "code",
   "execution_count": 92,
   "id": "0769d3b2",
   "metadata": {},
   "outputs": [
    {
     "name": "stderr",
     "output_type": "stream",
     "text": [
      "/home/benson516/GazeDemo/gaze_env/lib/python3.8/site-packages/tensorflow/python/keras/optimizer_v2/optimizer_v2.py:374: UserWarning: The `lr` argument is deprecated, use `learning_rate` instead.\n",
      "  warnings.warn(\n"
     ]
    }
   ],
   "source": [
    "# optimizer = keras.optimizers.SGD(lr=0.1, momentum=0.9)\n",
    "optimizer = keras.optimizers.Adam(lr=0.1)\n",
    "model_biased.compile(loss=pinballLoss_full_fn, optimizer=optimizer)\n",
    "# model.compile(loss=pinballLoss_full_fn, optimizer=optimizer) # No need to compile this if it's not going to be trained."
   ]
  },
  {
   "cell_type": "code",
   "execution_count": 93,
   "id": "9a37c998",
   "metadata": {
    "scrolled": true
   },
   "outputs": [
    {
     "name": "stdout",
     "output_type": "stream",
     "text": [
      "Epoch 1/100\n",
      "X.shape = (None, 1)\n",
      "gauss_grid.shape = (None, 5)\n",
      "X.shape = (None, 9)\n",
      "SID.shape = (None, 1)\n",
      "X.shape = (None, 1)\n",
      "gauss_grid.shape = (None, 5)\n",
      "X.shape = (None, 9)\n",
      "SID.shape = (None, 1)\n",
      "1/3 [=========>....................] - ETA: 1s - loss: 169.9191X.shape = (None, 1)\n",
      "gauss_grid.shape = (None, 5)\n",
      "X.shape = (None, 9)\n",
      "SID.shape = (None, 1)\n",
      "3/3 [==============================] - 1s 69ms/step - loss: 187.5765 - val_loss: 146.1951\n",
      "Epoch 2/100\n",
      "3/3 [==============================] - 0s 7ms/step - loss: 175.2193 - val_loss: 128.6243\n",
      "Epoch 3/100\n",
      "3/3 [==============================] - 0s 15ms/step - loss: 152.1805 - val_loss: 105.9361\n",
      "Epoch 4/100\n",
      "3/3 [==============================] - 0s 17ms/step - loss: 123.7736 - val_loss: 80.7414\n",
      "Epoch 5/100\n",
      "3/3 [==============================] - 0s 11ms/step - loss: 94.8189 - val_loss: 62.4637\n",
      "Epoch 6/100\n",
      "3/3 [==============================] - 0s 19ms/step - loss: 72.8397 - val_loss: 55.9957\n",
      "Epoch 7/100\n",
      "3/3 [==============================] - 0s 13ms/step - loss: 64.0288 - val_loss: 47.9611\n",
      "Epoch 8/100\n",
      "3/3 [==============================] - 0s 22ms/step - loss: 54.6101 - val_loss: 35.4389\n",
      "Epoch 9/100\n",
      "3/3 [==============================] - 0s 14ms/step - loss: 48.5550 - val_loss: 35.8030\n",
      "Epoch 10/100\n",
      "3/3 [==============================] - 0s 19ms/step - loss: 47.4511 - val_loss: 39.3078\n",
      "Epoch 11/100\n",
      "3/3 [==============================] - 0s 16ms/step - loss: 44.4949 - val_loss: 30.4986\n",
      "Epoch 12/100\n",
      "3/3 [==============================] - 0s 14ms/step - loss: 44.9320 - val_loss: 29.7726\n",
      "Epoch 13/100\n",
      "3/3 [==============================] - 0s 13ms/step - loss: 39.2355 - val_loss: 29.8060\n",
      "Epoch 14/100\n",
      "3/3 [==============================] - 0s 14ms/step - loss: 36.4667 - val_loss: 26.8196\n",
      "Epoch 15/100\n",
      "3/3 [==============================] - 0s 21ms/step - loss: 37.7921 - val_loss: 24.7149\n",
      "Epoch 16/100\n",
      "3/3 [==============================] - 0s 16ms/step - loss: 34.4411 - val_loss: 25.9097\n",
      "Epoch 17/100\n",
      "3/3 [==============================] - 0s 16ms/step - loss: 31.5831 - val_loss: 26.9915\n",
      "Epoch 18/100\n",
      "3/3 [==============================] - 0s 17ms/step - loss: 30.1692 - val_loss: 20.7894\n",
      "Epoch 19/100\n",
      "3/3 [==============================] - 0s 14ms/step - loss: 28.0850 - val_loss: 20.8965\n",
      "Epoch 20/100\n",
      "3/3 [==============================] - 0s 18ms/step - loss: 25.8422 - val_loss: 21.3274\n",
      "Epoch 21/100\n",
      "3/3 [==============================] - 0s 14ms/step - loss: 25.7697 - val_loss: 21.7732\n",
      "Epoch 22/100\n",
      "3/3 [==============================] - 0s 13ms/step - loss: 23.9994 - val_loss: 21.6433\n",
      "Epoch 23/100\n",
      "3/3 [==============================] - 0s 16ms/step - loss: 22.7038 - val_loss: 18.3087\n",
      "Epoch 24/100\n",
      "3/3 [==============================] - 0s 15ms/step - loss: 22.0887 - val_loss: 20.2644\n",
      "Epoch 25/100\n",
      "3/3 [==============================] - 0s 13ms/step - loss: 22.3188 - val_loss: 19.0462\n",
      "Epoch 26/100\n",
      "3/3 [==============================] - 0s 17ms/step - loss: 21.4282 - val_loss: 18.6490\n",
      "Epoch 27/100\n",
      "3/3 [==============================] - 0s 19ms/step - loss: 19.2978 - val_loss: 17.5141\n",
      "Epoch 28/100\n",
      "3/3 [==============================] - 0s 13ms/step - loss: 17.9732 - val_loss: 16.4517\n",
      "Epoch 29/100\n",
      "3/3 [==============================] - 0s 16ms/step - loss: 16.4738 - val_loss: 18.9064\n",
      "Epoch 30/100\n",
      "3/3 [==============================] - 0s 13ms/step - loss: 17.0629 - val_loss: 16.6207\n",
      "Epoch 31/100\n",
      "3/3 [==============================] - 0s 18ms/step - loss: 16.6557 - val_loss: 14.7762\n",
      "Epoch 32/100\n",
      "3/3 [==============================] - 0s 14ms/step - loss: 14.1478 - val_loss: 14.8132\n",
      "Epoch 33/100\n",
      "3/3 [==============================] - 0s 14ms/step - loss: 13.8901 - val_loss: 15.0651\n",
      "Epoch 34/100\n",
      "3/3 [==============================] - 0s 17ms/step - loss: 14.1835 - val_loss: 13.8688\n",
      "Epoch 35/100\n",
      "3/3 [==============================] - 0s 14ms/step - loss: 13.9811 - val_loss: 12.3710\n",
      "Epoch 36/100\n",
      "3/3 [==============================] - 0s 18ms/step - loss: 12.1594 - val_loss: 13.7623\n",
      "Epoch 37/100\n",
      "3/3 [==============================] - 0s 13ms/step - loss: 12.9460 - val_loss: 12.1821\n",
      "Epoch 38/100\n",
      "3/3 [==============================] - 0s 21ms/step - loss: 12.0611 - val_loss: 11.7725\n",
      "Epoch 39/100\n",
      "3/3 [==============================] - 0s 15ms/step - loss: 12.1473 - val_loss: 11.6138\n",
      "Epoch 40/100\n",
      "3/3 [==============================] - 0s 15ms/step - loss: 12.1603 - val_loss: 11.6239\n",
      "Epoch 41/100\n",
      "3/3 [==============================] - 0s 18ms/step - loss: 12.3978 - val_loss: 11.4414\n",
      "Epoch 42/100\n",
      "3/3 [==============================] - 0s 12ms/step - loss: 11.4986 - val_loss: 11.0072\n",
      "Epoch 43/100\n",
      "3/3 [==============================] - 0s 14ms/step - loss: 12.1266 - val_loss: 10.8229\n",
      "Epoch 44/100\n",
      "3/3 [==============================] - 0s 16ms/step - loss: 11.0491 - val_loss: 11.2476\n",
      "Epoch 45/100\n",
      "3/3 [==============================] - 0s 18ms/step - loss: 11.8407 - val_loss: 10.4031\n",
      "Epoch 46/100\n",
      "3/3 [==============================] - 0s 11ms/step - loss: 11.4983 - val_loss: 9.9726\n",
      "Epoch 47/100\n",
      "3/3 [==============================] - 0s 16ms/step - loss: 10.9762 - val_loss: 10.0489\n",
      "Epoch 48/100\n",
      "3/3 [==============================] - 0s 18ms/step - loss: 10.3935 - val_loss: 10.9341\n",
      "Epoch 49/100\n",
      "3/3 [==============================] - 0s 13ms/step - loss: 11.1661 - val_loss: 11.0903\n",
      "Epoch 50/100\n",
      "3/3 [==============================] - 0s 15ms/step - loss: 10.9190 - val_loss: 11.9785\n",
      "Epoch 51/100\n",
      "3/3 [==============================] - 0s 17ms/step - loss: 11.7670 - val_loss: 11.3609\n",
      "Epoch 52/100\n",
      "3/3 [==============================] - 0s 14ms/step - loss: 13.8069 - val_loss: 10.3616\n",
      "Epoch 53/100\n",
      "3/3 [==============================] - 0s 16ms/step - loss: 11.9331 - val_loss: 12.8828\n",
      "Epoch 54/100\n",
      "3/3 [==============================] - 0s 13ms/step - loss: 11.1565 - val_loss: 11.8090\n",
      "Epoch 55/100\n",
      "3/3 [==============================] - 0s 17ms/step - loss: 11.6361 - val_loss: 10.6343\n",
      "Epoch 56/100\n",
      "3/3 [==============================] - 0s 14ms/step - loss: 11.7150 - val_loss: 11.8139\n",
      "Epoch 57/100\n",
      "3/3 [==============================] - 0s 16ms/step - loss: 12.1403 - val_loss: 10.9972\n",
      "Epoch 58/100\n",
      "3/3 [==============================] - 0s 16ms/step - loss: 12.4977 - val_loss: 10.6308\n",
      "Epoch 59/100\n",
      "3/3 [==============================] - 0s 11ms/step - loss: 12.4069 - val_loss: 11.7197\n",
      "Epoch 60/100\n",
      "3/3 [==============================] - 0s 17ms/step - loss: 10.9372 - val_loss: 11.1978\n",
      "Epoch 61/100\n",
      "3/3 [==============================] - 0s 14ms/step - loss: 12.4707 - val_loss: 10.7100\n",
      "Epoch 62/100\n",
      "3/3 [==============================] - 0s 12ms/step - loss: 11.7985 - val_loss: 10.8027\n",
      "Epoch 63/100\n",
      "3/3 [==============================] - 0s 15ms/step - loss: 11.5456 - val_loss: 10.3042\n",
      "Epoch 64/100\n",
      "3/3 [==============================] - 0s 14ms/step - loss: 12.4332 - val_loss: 11.7153\n",
      "Epoch 65/100\n",
      "3/3 [==============================] - 0s 15ms/step - loss: 12.7399 - val_loss: 11.9589\n",
      "Epoch 66/100\n",
      "3/3 [==============================] - 0s 18ms/step - loss: 13.5498 - val_loss: 11.7668\n",
      "Epoch 67/100\n",
      "3/3 [==============================] - 0s 15ms/step - loss: 12.6753 - val_loss: 10.2642\n",
      "Epoch 68/100\n",
      "3/3 [==============================] - 0s 16ms/step - loss: 11.6573 - val_loss: 10.1848\n",
      "Epoch 69/100\n",
      "3/3 [==============================] - 0s 12ms/step - loss: 11.4533 - val_loss: 10.3726\n",
      "Epoch 70/100\n",
      "3/3 [==============================] - 0s 16ms/step - loss: 11.5244 - val_loss: 11.3034\n",
      "Epoch 71/100\n",
      "3/3 [==============================] - 0s 14ms/step - loss: 12.5544 - val_loss: 10.8535\n",
      "Epoch 72/100\n",
      "3/3 [==============================] - 0s 19ms/step - loss: 12.1989 - val_loss: 10.5427\n",
      "Epoch 73/100\n",
      "3/3 [==============================] - 0s 19ms/step - loss: 10.7771 - val_loss: 9.9409\n",
      "Epoch 74/100\n",
      "3/3 [==============================] - 0s 17ms/step - loss: 10.7943 - val_loss: 11.0169\n",
      "Epoch 75/100\n",
      "3/3 [==============================] - 0s 16ms/step - loss: 11.8983 - val_loss: 9.2530\n",
      "Epoch 76/100\n",
      "3/3 [==============================] - 0s 14ms/step - loss: 10.1542 - val_loss: 11.5070\n",
      "Epoch 77/100\n",
      "3/3 [==============================] - 0s 12ms/step - loss: 11.6537 - val_loss: 14.3268\n",
      "Epoch 78/100\n",
      "3/3 [==============================] - 0s 14ms/step - loss: 11.0091 - val_loss: 12.3766\n"
     ]
    },
    {
     "name": "stdout",
     "output_type": "stream",
     "text": [
      "Epoch 79/100\n",
      "3/3 [==============================] - 0s 16ms/step - loss: 11.6366 - val_loss: 14.1233\n",
      "Epoch 80/100\n",
      "3/3 [==============================] - 0s 12ms/step - loss: 13.5856 - val_loss: 11.7921\n",
      "Epoch 81/100\n",
      "3/3 [==============================] - 0s 12ms/step - loss: 12.7302 - val_loss: 9.9085\n",
      "Epoch 82/100\n",
      "3/3 [==============================] - 0s 19ms/step - loss: 10.1094 - val_loss: 9.5873\n",
      "Epoch 83/100\n",
      "3/3 [==============================] - 0s 14ms/step - loss: 10.4193 - val_loss: 10.9472\n",
      "Epoch 84/100\n",
      "3/3 [==============================] - 0s 14ms/step - loss: 10.1323 - val_loss: 9.7306\n",
      "Epoch 85/100\n",
      "3/3 [==============================] - 0s 15ms/step - loss: 10.0974 - val_loss: 11.2203\n",
      "Epoch 86/100\n",
      "3/3 [==============================] - 0s 16ms/step - loss: 12.7911 - val_loss: 10.8514\n",
      "Epoch 87/100\n",
      "3/3 [==============================] - 0s 12ms/step - loss: 12.4882 - val_loss: 13.6499\n",
      "Epoch 88/100\n",
      "3/3 [==============================] - 0s 15ms/step - loss: 13.0527 - val_loss: 12.5423\n",
      "Epoch 89/100\n",
      "3/3 [==============================] - 0s 16ms/step - loss: 11.5665 - val_loss: 14.9664\n",
      "Epoch 90/100\n",
      "3/3 [==============================] - 0s 15ms/step - loss: 13.7593 - val_loss: 13.8839\n",
      "Epoch 91/100\n",
      "3/3 [==============================] - 0s 18ms/step - loss: 14.3570 - val_loss: 12.3341\n",
      "Epoch 92/100\n",
      "3/3 [==============================] - 0s 14ms/step - loss: 13.6836 - val_loss: 11.1328\n",
      "Epoch 93/100\n",
      "3/3 [==============================] - 0s 13ms/step - loss: 11.8171 - val_loss: 11.5397\n",
      "Epoch 94/100\n",
      "3/3 [==============================] - 0s 14ms/step - loss: 11.3788 - val_loss: 9.4618\n",
      "Epoch 95/100\n",
      "3/3 [==============================] - 0s 17ms/step - loss: 10.9965 - val_loss: 10.0025\n",
      "Epoch 96/100\n",
      "3/3 [==============================] - 0s 12ms/step - loss: 10.8809 - val_loss: 10.3950\n",
      "Epoch 97/100\n",
      "3/3 [==============================] - 0s 16ms/step - loss: 10.5526 - val_loss: 9.3243\n",
      "Epoch 98/100\n",
      "3/3 [==============================] - 0s 13ms/step - loss: 9.7656 - val_loss: 9.6772\n",
      "Epoch 99/100\n",
      "3/3 [==============================] - 0s 19ms/step - loss: 10.2613 - val_loss: 9.3757\n",
      "Epoch 100/100\n",
      "3/3 [==============================] - 0s 18ms/step - loss: 10.1704 - val_loss: 9.5514\n"
     ]
    }
   ],
   "source": [
    "history = model_biased.fit([X_train, sid_train], y_train, epochs=100,\n",
    "                    validation_data=([X_valid, sid_valid], y_valid))"
   ]
  },
  {
   "cell_type": "code",
   "execution_count": 94,
   "id": "66d04b69",
   "metadata": {},
   "outputs": [
    {
     "name": "stdout",
     "output_type": "stream",
     "text": [
      "Saving figure grid_noBiasQuantile_training_curve\n"
     ]
    },
    {
     "data": {
      "image/png": "[encoded data removed]",
      "text/plain": [
       "<Figure size 576x360 with 1 Axes>"
      ]
     },
     "metadata": {
      "needs_background": "light"
     },
     "output_type": "display_data"
    }
   ],
   "source": [
    "import pandas as pd\n",
    "\n",
    "pd.DataFrame(history.history).plot(figsize=(8, 5))\n",
    "plt.grid(True)\n",
    "# plt.gca().set_ylim(0, 1)\n",
    "save_fig(\"grid_noBiasQuantile_training_curve\")\n",
    "plt.show()"
   ]
  },
  {
   "cell_type": "markdown",
   "id": "9e1f1c9b",
   "metadata": {},
   "source": [
    "### Draw the \"pure\" mean prediction curve averaged from all quantile predictions."
   ]
  },
  {
   "cell_type": "code",
   "execution_count": 95,
   "id": "2f62afb2",
   "metadata": {},
   "outputs": [
    {
     "name": "stdout",
     "output_type": "stream",
     "text": [
      "X.shape = (None, 1)\n",
      "gauss_grid.shape = (None, 5)\n",
      "Saving figure grid_noBiaseQuantile_prediction\n"
     ]
    },
    {
     "data": {
      "image/png": "[encoded data removed]",
      "text/plain": [
       "<Figure size 432x288 with 1 Axes>"
      ]
     },
     "metadata": {
      "needs_background": "light"
     },
     "output_type": "display_data"
    }
   ],
   "source": [
    "# plt.plot(X_train, y_train, \"b.\")\n",
    "draw_points(X_train, y_train, sid_train)\n",
    "draw_func((lambda X: np.average(model.predict(X), axis=-1) ), mark='r-', linewidth=2, label=\"Predictions\")\n",
    "draw_normal_func(func_dict)\n",
    "plt.xlabel(\"$x_1$\", fontsize=18)\n",
    "plt.ylabel(\"$y$\", rotation=0, fontsize=18)\n",
    "plt.legend(loc=\"upper left\", fontsize=14)\n",
    "# plt.axis([-3, 3, 0, 10])\n",
    "save_fig(\"grid_noBiaseQuantile_prediction\")\n",
    "plt.show()"
   ]
  },
  {
   "cell_type": "code",
   "execution_count": 96,
   "id": "4ffc0f23",
   "metadata": {},
   "outputs": [
    {
     "name": "stdout",
     "output_type": "stream",
     "text": [
      "y_func.shape = (100, 1)\n",
      "y_gt.shape = (100, 1)\n"
     ]
    },
    {
     "data": {
      "text/plain": [
       "0.6449558042288496"
      ]
     },
     "execution_count": 96,
     "metadata": {},
     "output_type": "execute_result"
    }
   ],
   "source": [
    "get_prediction_error((lambda X: np.average(model.predict(X), axis=-1) ), func_dict, name=\"grid-noBiaseQuantileR\")"
   ]
  },
  {
   "cell_type": "markdown",
   "id": "a213fbdb",
   "metadata": {},
   "source": [
    "### Draw all \"pure\" quantile prediction"
   ]
  },
  {
   "cell_type": "code",
   "execution_count": 97,
   "id": "ff824ca7",
   "metadata": {},
   "outputs": [
    {
     "name": "stdout",
     "output_type": "stream",
     "text": [
      "Saving figure grid_noBiaseQuantile_all_pure_quantiles\n"
     ]
    },
    {
     "data": {
      "image/png": "[encoded data removed]",
      "text/plain": [
       "<Figure size 432x288 with 1 Axes>"
      ]
     },
     "metadata": {
      "needs_background": "light"
     },
     "output_type": "display_data"
    }
   ],
   "source": [
    "# plt.plot(X_train, y_train, \"b.\")\n",
    "draw_points(X_train, y_train, sid_train)\n",
    "draw_func((lambda X: np.average(model.predict(X), axis=-1) ), mark='r-', linewidth=2, label=\"Predictions\")\n",
    "for _idx, _tau in enumerate(quantile_list):\n",
    "    draw_func((lambda X: model.predict(X)[:,_idx] ), mark='k--', linewidth=1, label=\"$y_{%d}$\" % (_tau*100))\n",
    "draw_normal_func(func_dict)\n",
    "plt.xlabel(\"$x_1$\", fontsize=18)\n",
    "plt.ylabel(\"$y$\", rotation=0, fontsize=18)\n",
    "plt.legend(loc=\"upper left\", fontsize=14)\n",
    "# plt.axis([-3, 3, 0, 10])\n",
    "save_fig(\"grid_noBiaseQuantile_all_pure_quantiles\")\n",
    "plt.show()"
   ]
  },
  {
   "cell_type": "markdown",
   "id": "11c7ec73",
   "metadata": {},
   "source": [
    "### Estimated Biases and Scales (according to SID)"
   ]
  },
  {
   "cell_type": "code",
   "execution_count": 98,
   "id": "9a79c04b",
   "metadata": {},
   "outputs": [
    {
     "name": "stdout",
     "output_type": "stream",
     "text": [
      "scaled_bias = \n",
      "[[-11.124531  -11.784268  -11.651283  -12.580744  -12.57897   -12.214512\n",
      "  -12.711918  -13.341463  -13.01196  ]\n",
      " [ 10.518955   10.827389   11.724377   12.129911   12.404632   12.307859\n",
      "   13.295687   13.472212   14.3955145]]\n",
      "\n",
      "mean_scaled_bias = \n",
      "[-0.60557556 -0.9568796   0.07309341 -0.45083237 -0.17433834  0.09334755\n",
      "  0.58376884  0.13074875  1.3835545 ]\n"
     ]
    }
   ],
   "source": [
    "scaled_bias = model_biased.get_layer(\"bias_est\").get_scaled_biases_np()\n",
    "mean_scaled_bias = np.sum(scaled_bias, axis=0)\n",
    "#\n",
    "print(\"scaled_bias = \\n%s\" % str(scaled_bias))\n",
    "print(\"\\nmean_scaled_bias = \\n%s\" % str(mean_scaled_bias))"
   ]
  },
  {
   "cell_type": "code",
   "execution_count": 99,
   "id": "ef5bb592",
   "metadata": {},
   "outputs": [
    {
     "name": "stdout",
     "output_type": "stream",
     "text": [
      "output_scales = \n",
      "[[1.1668067  1.1532251  1.1624737  1.1289722  1.130388   1.2005804\n",
      "  1.1307569  1.1395983  1.1345519 ]\n",
      " [0.85088414 0.80584574 0.8506764  0.87179524 0.85133946 0.8185642\n",
      "  0.8347745  0.84142303 0.85436904]]\n",
      "\n",
      "mean_scales = \n",
      "[1.0088454  0.9795354  1.0065751  1.0003837  0.99086374 1.0095723\n",
      " 0.9827657  0.99051064 0.99446046]\n"
     ]
    }
   ],
   "source": [
    "try:\n",
    "    output_scales = model_biased.get_layer(\"bias_est\").get_weights_np()\n",
    "    mean_scales = np.mean(output_scales, axis=0)\n",
    "    #\n",
    "    print(\"output_scales = \\n%s\" % str(output_scales))\n",
    "    print(\"\\nmean_scales = \\n%s\" % str(mean_scales))\n",
    "except:\n",
    "    pass"
   ]
  },
  {
   "cell_type": "markdown",
   "id": "c493d1c8",
   "metadata": {},
   "source": [
    "### Plotting of mean quantiles for each subject"
   ]
  },
  {
   "cell_type": "code",
   "execution_count": 100,
   "id": "3c2bd240",
   "metadata": {},
   "outputs": [
    {
     "name": "stdout",
     "output_type": "stream",
     "text": [
      "X.shape = (None, 1)\n",
      "gauss_grid.shape = (None, 5)\n",
      "X.shape = (None, 9)\n",
      "SID.shape = (None, 1)\n",
      "Saving figure grid_noBaisNum_perSubjectCurve\n"
     ]
    },
    {
     "data": {
      "image/png": "[encoded data removed]",
      "text/plain": [
       "<Figure size 432x288 with 1 Axes>"
      ]
     },
     "metadata": {
      "needs_background": "light"
     },
     "output_type": "display_data"
    }
   ],
   "source": [
    "def predict_with_biase_sid(X, sid=1):\n",
    "    return np.average( model_biased.predict([X, tf.fill( (X.shape[0],1), sid)]), axis=1)\n",
    "\n",
    "draw_points(X_train, y_train, sid_train)\n",
    "#\n",
    "draw_func((lambda X: np.average(model.predict(X), axis=-1) ), mark='r-', linewidth=2, label=\"Predictions\")\n",
    "for _idx in range(num_subject):\n",
    "    _sid = _idx + 1\n",
    "    draw_func(lambda X: predict_with_biase_sid(X, _sid), mark='k--', linewidth=1, label=(\"sid=%d\" % _sid))\n",
    "#\n",
    "draw_normal_func(func_dict)\n",
    "plt.xlabel(\"$x_1$\", fontsize=18)\n",
    "plt.ylabel(\"$y$\", rotation=0, fontsize=18)\n",
    "plt.legend(loc=\"upper left\", fontsize=14)\n",
    "# plt.axis([-3, 3, 0, 10])\n",
    "save_fig(\"grid_noBaisNum_perSubjectCurve\")\n",
    "plt.show()"
   ]
  },
  {
   "cell_type": "markdown",
   "id": "6f1b070e",
   "metadata": {},
   "source": [
    "# Train with GAN"
   ]
  },
  {
   "cell_type": "code",
   "execution_count": 101,
   "id": "00b87d5e",
   "metadata": {},
   "outputs": [],
   "source": [
    "# model = keras.models.Sequential([\n",
    "#     num2grid(5,x_min=-10, x_max=10, sigma=3.0, input_shape=X_train.shape[1:]),\n",
    "#     keras.layers.Dense(30, activation=\"relu\"),\n",
    "# #     keras.layers.Dense(100, activation=\"relu\", kernel_regularizer=tf.keras.regularizers.l1(0.01)),\n",
    "# #     keras.layers.Dense(30, activation=keras.layers.LeakyReLU(alpha=0.2) ),\n",
    "# #     keras.layers.Dense(30, activation=\"selu\"),\n",
    "# #     keras.layers.Dense(30, activation=\"relu\"),\n",
    "#     keras.layers.Dense(1)\n",
    "# ])"
   ]
  },
  {
   "cell_type": "code",
   "execution_count": 102,
   "id": "198862ab",
   "metadata": {},
   "outputs": [],
   "source": [
    "# '''\n",
    "#   x   ----generator----> (x,y) \n",
    "# (x,y) --discriminator--> Real/Fake\n",
    "# '''\n",
    "# x_size = 1\n",
    "# y_size = 1\n",
    "\n",
    "# # x --> (x,y)\n",
    "# inputs = keras.layers.Input(shape=(x_size,))\n",
    "# output = model(inputs)\n",
    "# output_cat = tf.concat([inputs, output], 1)\n",
    "# generator = keras.Model(inputs=[inputs], outputs=[output_cat])\n",
    "# # (x,y) --> Real/Fake\n",
    "# discriminator = keras.models.Sequential([\n",
    "#     keras.layers.Dense(30, activation=\"selu\", input_shape=((x_size+y_size),)),\n",
    "#     keras.layers.Dense(30, activation=\"selu\"),\n",
    "#     keras.layers.Dense(1, activation=\"sigmoid\")\n",
    "# ])\n",
    "# gan = keras.models.Sequential([generator, discriminator])"
   ]
  },
  {
   "cell_type": "code",
   "execution_count": 103,
   "id": "f9f64c02",
   "metadata": {},
   "outputs": [],
   "source": [
    "# # Compile the models\n",
    "# #---------------------------------#\n",
    "# optimizer = keras.optimizers.Adam(lr=0.1)\n",
    "# # Discriminator\n",
    "# # discriminator.compile(loss=\"binary_crossentropy\", optimizer=\"rmsprop\")\n",
    "# discriminator.compile(loss=\"binary_crossentropy\", optimizer=optimizer)\n",
    "# # GAN model\n",
    "# discriminator.trainable = False\n",
    "# # gan.compile(loss=\"binary_crossentropy\", optimizer=\"rmsprop\")\n",
    "# gan.compile(loss=\"binary_crossentropy\", optimizer=optimizer)"
   ]
  },
  {
   "cell_type": "code",
   "execution_count": 104,
   "id": "9bf9b4a2",
   "metadata": {},
   "outputs": [],
   "source": [
    "# # dataset\n",
    "# batch_size = 32\n",
    "# dataset = tf.data.Dataset.from_tensor_slices( tf.cast(tf.concat([X_train, y_train], axis=1), tf.float32) ).shuffle(1000)\n",
    "# dataset = dataset.batch(batch_size, drop_remainder=True).prefetch(1)"
   ]
  },
  {
   "cell_type": "code",
   "execution_count": 105,
   "id": "7b061d90",
   "metadata": {},
   "outputs": [],
   "source": [
    "# # Custom training loop\n",
    "# def train_gan(gan, dataset, batch_size, x_size, n_epochs=100):\n",
    "#     generator, discriminator = gan.layers\n",
    "#     for epoch in range(n_epochs):\n",
    "#         print(\"--- epoch #%d\" % epoch)\n",
    "#         for XY_batch in dataset:\n",
    "#             # phase 1 - training the discriminator\n",
    "#             noise = tf.random.normal(shape=[batch_size, x_size])\n",
    "#             generated_XY = generator(noise)\n",
    "#             X_fake_and_real = tf.concat([generated_XY, XY_batch], axis=0)\n",
    "#             y1 = tf.constant([[0.]] * batch_size + [[1.]] * batch_size)\n",
    "#             discriminator.trainable = True\n",
    "#             discriminator.train_on_batch(X_fake_and_real, y1)\n",
    "#             # phase 2 - training the generator\n",
    "#             noise = tf.random.normal(shape=[batch_size, x_size])\n",
    "#             y2 = tf.constant([[1.]] * batch_size)\n",
    "#             discriminator.trainable = False\n",
    "#             gan.train_on_batch(noise, y2)"
   ]
  },
  {
   "cell_type": "code",
   "execution_count": 106,
   "id": "79ac8ef1",
   "metadata": {},
   "outputs": [],
   "source": [
    "# train_gan(gan, dataset, batch_size, x_size, n_epochs=100)"
   ]
  },
  {
   "cell_type": "code",
   "execution_count": 107,
   "id": "7a4ef5e9",
   "metadata": {},
   "outputs": [],
   "source": [
    "# # plt.plot(X_train, y_train, \"b.\")\n",
    "# draw_points(X_train, y_train, sid_train)\n",
    "# draw_func((lambda X: np.average(model.predict(X), axis=-1) ), mark='r-', linewidth=2, label=\"Predictions\")\n",
    "# draw_normal_func(func_dict)\n",
    "# plt.xlabel(\"$x_1$\", fontsize=18)\n",
    "# plt.ylabel(\"$y$\", rotation=0, fontsize=18)\n",
    "# plt.legend(loc=\"upper left\", fontsize=14)\n",
    "# # plt.axis([-3, 3, 0, 10])\n",
    "# save_fig(\"GAN\")\n",
    "# plt.show()"
   ]
  },
  {
   "cell_type": "markdown",
   "id": "82ec4fc4",
   "metadata": {},
   "source": [
    "# Summary"
   ]
  },
  {
   "cell_type": "code",
   "execution_count": 108,
   "id": "2d764d70",
   "metadata": {},
   "outputs": [
    {
     "name": "stdout",
     "output_type": "stream",
     "text": [
      "num-num: 6.350047\n",
      "grid-num: 4.856377\n",
      "grid-rbc: 3.981704\n",
      "grid-quantileR: 2.134691\n",
      "grid-oneGaussian: 6.618022\n",
      "grid-noBiasNum: 2.694443\n",
      "grid-noBiaseQuantileR: 0.644956\n",
      "\n"
     ]
    }
   ],
   "source": [
    "results = print_all_prediction_error()"
   ]
  },
  {
   "cell_type": "code",
   "execution_count": 109,
   "id": "9f01e530",
   "metadata": {},
   "outputs": [
    {
     "name": "stdout",
     "output_type": "stream",
     "text": [
      "Saving all prediction errors to [./images/regression_test_2/prediction_errors.txt].\n"
     ]
    },
    {
     "data": {
      "text/plain": [
       "True"
      ]
     },
     "execution_count": 109,
     "metadata": {},
     "output_type": "execute_result"
    }
   ],
   "source": [
    "save_prediction_errors()"
   ]
  },
  {
   "cell_type": "code",
   "execution_count": null,
   "id": "0c3bdf42",
   "metadata": {},
   "outputs": [],
   "source": []
  },
  {
   "cell_type": "code",
   "execution_count": null,
   "id": "a5e6a55a",
   "metadata": {},
   "outputs": [],
   "source": []
  },
  {
   "cell_type": "code",
   "execution_count": null,
   "id": "1838a588",
   "metadata": {},
   "outputs": [],
   "source": []
  },
  {
   "cell_type": "code",
   "execution_count": null,
   "id": "2f94dffa",
   "metadata": {},
   "outputs": [],
   "source": []
  }
 ],
 "metadata": {
  "kernelspec": {
   "display_name": "Python 3 (ipykernel)",
   "language": "python",
   "name": "python3"
  },
  "language_info": {
   "codemirror_mode": {
    "name": "ipython",
    "version": 3
   },
   "file_extension": ".py",
   "mimetype": "text/x-python",
   "name": "python",
   "nbconvert_exporter": "python",
   "pygments_lexer": "ipython3",
   "version": "3.8.10"
  }
 },
 "nbformat": 4,
 "nbformat_minor": 5
}
