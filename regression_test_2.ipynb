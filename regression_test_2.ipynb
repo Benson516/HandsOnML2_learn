{
 "cells": [
  {
   "cell_type": "markdown",
   "id": "899fa113",
   "metadata": {},
   "source": [
    "# Regression with Different Output Format under Various Data Conditions\n",
    "\n",
    "In this experience, we test the following output format for regression task under several different data coditions.\n",
    "- Numerical output\n",
    "- Regression as classification (grid-out)\n",
    "\n",
    "The data coditions include:\n",
    "- Sparse (few data)\n",
    "- Grouped\n",
    "  - Biased (parallel data)\n",
    "  - Completely different mode, uncorrelated data (cross)\n",
    "  - Partially diversed (split)"
   ]
  },
  {
   "cell_type": "code",
   "execution_count": 1,
   "id": "625ce7c3",
   "metadata": {},
   "outputs": [],
   "source": [
    "import numpy as np\n",
    "import tensorflow as tf\n",
    "from tensorflow import keras\n",
    "import os\n",
    "\n",
    "# To plot pretty figures\n",
    "%matplotlib inline\n",
    "import matplotlib as mpl\n",
    "import matplotlib.pyplot as plt\n",
    "mpl.rc('axes', labelsize=14)\n",
    "mpl.rc('xtick', labelsize=12)\n",
    "mpl.rc('ytick', labelsize=12)"
   ]
  },
  {
   "cell_type": "code",
   "execution_count": 2,
   "id": "30fa36d1",
   "metadata": {},
   "outputs": [],
   "source": [
    "# Where to save the figures\n",
    "PROJECT_ROOT_DIR = \".\"\n",
    "CHAPTER_ID = \"regression_test_2\"\n",
    "IMAGES_PATH = os.path.join(PROJECT_ROOT_DIR, \"images\", CHAPTER_ID)\n",
    "os.makedirs(IMAGES_PATH, exist_ok=True)\n",
    "\n",
    "def save_fig(fig_id, tight_layout=True, fig_extension=\"png\", resolution=300):\n",
    "    path = os.path.join(IMAGES_PATH, fig_id + \".\" + fig_extension)\n",
    "    print(\"Saving figure\", fig_id)\n",
    "    if tight_layout:\n",
    "        plt.tight_layout()\n",
    "    plt.savefig(path, format=fig_extension, dpi=resolution)"
   ]
  },
  {
   "cell_type": "code",
   "execution_count": 3,
   "id": "94e8a077",
   "metadata": {},
   "outputs": [],
   "source": [
    "def draw_func(func_in, x_min=-5, x_max=5, mark='r--', linewidth=1, label='func'):\n",
    "    n_sample = 100\n",
    "    X_func = np.linspace(x_min, x_max, n_sample).reshape(n_sample, 1)\n",
    "    y_func = func_in(X_func)\n",
    "    plt.plot(X_func, y_func, mark, linewidth=linewidth, label=label)"
   ]
  },
  {
   "cell_type": "markdown",
   "id": "c27ffe35",
   "metadata": {},
   "source": [
    "Generate polynomial data"
   ]
  },
  {
   "cell_type": "code",
   "execution_count": 4,
   "id": "ce670ce4",
   "metadata": {},
   "outputs": [],
   "source": [
    "poly_a1 = 5.0\n",
    "# poly_a1 = -10.0 # 5.0\n",
    "#\n",
    "sin_a = 0.0\n",
    "# sin_a = 10.0\n",
    "sin_f = 0.1 # 0.2\n",
    "#\n",
    "def func_0(X): # Reference\n",
    "    return 0.5 * X**3 + 0.5 * X**2 + (poly_a1)*X + 2 + sin_a*np.sin(2.0*np.pi*sin_f*X)\n",
    "def func_1(X): # Variation 1: parellel\n",
    "    return 0.5 * X**3 + 0.5 * X**2 + (poly_a1)*X + 30 + sin_a*np.sin(2.0*np.pi*sin_f*X)\n",
    "def func_2(X): # Variation 2: cross\n",
    "    return -0.5 * X**3 + 0.5 * X**2 + (poly_a1)*X + 30 + sin_a*np.sin(2.0*np.pi*sin_f*X)\n",
    "def func_3(X): # Variation 3: slightly split\n",
    "    return 0.3 * X**3 + 1.0 * X**2 + (poly_a1)*X + 15 + sin_a*np.sin(2.0*np.pi*sin_f*X)\n",
    "def func_4(X): # Sine wave~\n",
    "    return 0.5 * X**3 + 0.5 * X**2 + (poly_a1)*X + 2 + 20.0*np.sin(2.0*np.pi*sin_f*X) # 50.0"
   ]
  },
  {
   "cell_type": "code",
   "execution_count": 5,
   "id": "9463bfff",
   "metadata": {},
   "outputs": [],
   "source": [
    "func_dict = dict()\n",
    "#-----------------#\n",
    "func_dict[\"f1\"] = func_0\n",
    "#-----------------#\n",
    "# func_dict[\"f2\"] = func_1\n",
    "# func_dict[\"f2\"] = func_2\n",
    "func_dict[\"f2\"] = func_3\n",
    "# func_dict[\"f2\"] = func_4\n",
    "#-----------------#\n",
    "func_dict[\"f3\"] = func_4\n",
    "#-----------------#\n",
    "\n",
    "# Note: func_dict[\"f_avg\"] depends on multiout_type and is calculated in each section of multiout_type"
   ]
  },
  {
   "cell_type": "code",
   "execution_count": 6,
   "id": "63437d0c",
   "metadata": {},
   "outputs": [
    {
     "name": "stdout",
     "output_type": "stream",
     "text": [
      "(m, m_train) = (100, 80)\n",
      "y_data_pure.shape = (100, 1)\n",
      "y_data.shape = (100, 1)\n"
     ]
    }
   ],
   "source": [
    "np.random.seed(42)\n",
    "m = 100 # 50 # 100 # 200\n",
    "m_train = m // 5 * 4\n",
    "print(\"(m, m_train) = (%d, %d)\" % (m, m_train))\n",
    "\n",
    "# Input\n",
    "is_gapped = True\n",
    "# is_gapped = False\n",
    "#\n",
    "if not is_gapped:\n",
    "    X_data = 10 * np.random.rand(m, 1) - 5 # Note: X is randomly sampled, so we don't need to shuffle the data again\n",
    "else:\n",
    "    X_data = np.concatenate( (np.linspace(-5.0, -2.0, m//2), np.linspace(2.0, 5.0, m-m//2)) )\n",
    "    X_data = X_data.reshape((m,1))\n",
    "    np.random.shuffle(X_data)\n",
    "\n",
    "# Output, multiout_type in {1, 2, 3}\n",
    "# multiout_type = 1      \n",
    "multiout_type = 2 \n",
    "# multiout_type = 3 \n",
    "if multiout_type == 2:\n",
    "    m_h = m // 2\n",
    "    X_data_1 = X_data[:m_h]\n",
    "    X_data_2 = X_data[m_h:]\n",
    "    y_data_pure_1 = func_dict[\"f1\"](X_data_1) \n",
    "    y_data_pure_2 = func_dict[\"f2\"](X_data_2) \n",
    "    y_data_pure = np.vstack([y_data_pure_1, y_data_pure_2])\n",
    "    print(\"y_data_pure.shape = %s\" % str(y_data_pure.shape))\n",
    "    # Average line\n",
    "    func_dict[\"f_avg\"] = ( lambda X: 0.5*func_dict[\"f1\"](X) + 0.5*func_dict[\"f2\"](X) )\n",
    "    #\n",
    "elif multiout_type == 3: # with \"avg\" line\n",
    "    m_t = m // 3\n",
    "    X_data_1 = X_data[:m_t]\n",
    "    X_data_2 = X_data[m_t:(2*m_t)]\n",
    "    X_data_3 = X_data[(2*m_t):]\n",
    "    y_data_pure_1 = func_dict[\"f1\"](X_data_1) \n",
    "    y_data_pure_2 = func_dict[\"f2\"](X_data_2) \n",
    "    y_data_pure_3 = func_dict[\"f3\"](X_data_3) \n",
    "    y_data_pure = np.vstack([y_data_pure_1, y_data_pure_2, y_data_pure_3])\n",
    "    print(\"y_data_pure.shape = %s\" % str(y_data_pure.shape))\n",
    "    # Average line\n",
    "    func_dict[\"f_avg\"] = ( lambda X: (func_dict[\"f1\"](X) + func_dict[\"f2\"](X) + func_dict[\"f3\"](X))/3.0 )\n",
    "    #\n",
    "else: # multiout_type == 1\n",
    "    # Average line\n",
    "    func_dict[\"f_avg\"] = ( lambda X: 0.5*func_dict[\"f1\"](X) + 0.5*func_dict[\"f2\"](X) )\n",
    "    y_data_pure = func_dict[\"f_avg\"](X_data)\n",
    "\n",
    "    \n",
    "# Label (+noise)\n",
    "n_stddev = 2.0\n",
    "# n_stddev = 10.0\n",
    "y_data = y_data_pure + np.random.randn(m, 1) * n_stddev\n",
    "print(\"y_data.shape = %s\" % str(y_data.shape))"
   ]
  },
  {
   "cell_type": "code",
   "execution_count": 7,
   "id": "ef588fae",
   "metadata": {},
   "outputs": [],
   "source": [
    "# Method 1: simply slice\n",
    "# X_train = X_data[:m_train]\n",
    "# y_train = y_data[:m_train]\n",
    "# X_valid = X_data[m_train:]\n",
    "# y_valid = y_data[m_train:]\n",
    "\n",
    "# Method 2: shuffle\n",
    "from sklearn.model_selection import train_test_split\n",
    "X_train, X_valid, y_train, y_valid = train_test_split(X_data, y_data, test_size=0.2, random_state=42)"
   ]
  },
  {
   "cell_type": "code",
   "execution_count": 8,
   "id": "3b5d2cfe",
   "metadata": {},
   "outputs": [
    {
     "name": "stdout",
     "output_type": "stream",
     "text": [
      "(80, 1)\n"
     ]
    }
   ],
   "source": [
    "print(X_train.shape)"
   ]
  },
  {
   "cell_type": "code",
   "execution_count": 9,
   "id": "9bd2136c",
   "metadata": {},
   "outputs": [],
   "source": [
    "def draw_normal_func(func_dict):\n",
    "    draw_func(func_dict[\"f1\"], mark='c:', label=\"f1\")\n",
    "    draw_func(func_dict[\"f2\"], mark='g:', label=\"f2\")\n",
    "    if multiout_type == 3:\n",
    "        draw_func(func_dict[\"f3\"], mark='y:', label=\"f3\")\n",
    "    draw_func(func_dict[\"f_avg\"], mark='m--', label=\"f_avg\")"
   ]
  },
  {
   "cell_type": "code",
   "execution_count": 10,
   "id": "693af3b7",
   "metadata": {},
   "outputs": [
    {
     "name": "stdout",
     "output_type": "stream",
     "text": [
      "Saving figure training_data\n"
     ]
    },
    {
     "data": {
      "image/png": "[encoded data removed]",
      "text/plain": [
       "<Figure size 432x288 with 1 Axes>"
      ]
     },
     "metadata": {
      "needs_background": "light"
     },
     "output_type": "display_data"
    }
   ],
   "source": [
    "plt.plot(X_train, y_train, \"b.\")\n",
    "draw_normal_func(func_dict)\n",
    "plt.xlabel(\"$x_1$\", fontsize=18)\n",
    "plt.ylabel(\"$y$\", rotation=0, fontsize=18)\n",
    "plt.legend(loc=\"upper left\", fontsize=14)\n",
    "# plt.axis([-3, 3, 0, 10])\n",
    "save_fig(\"training_data\")\n",
    "plt.show()"
   ]
  },
  {
   "cell_type": "code",
   "execution_count": 11,
   "id": "a6853ff1",
   "metadata": {},
   "outputs": [],
   "source": [
    "prediction_error_dict = dict()\n",
    "\n",
    "def get_prediction_error(func_in, func_dict, name=\"\", x_min=-5, x_max=5, prediction_error_dict=prediction_error_dict):\n",
    "    n_sample = 100\n",
    "    X_func = np.linspace(x_min, x_max, n_sample).reshape(n_sample, 1)\n",
    "    y_func = func_in(X_func).reshape((n_sample,1))\n",
    "    y_gt = func_dict[\"f_avg\"](X_func).reshape((n_sample,1))\n",
    "    print(\"y_func.shape = %s\" % str(y_func.shape))\n",
    "    print(\"y_gt.shape = %s\" % str(y_gt.shape))\n",
    "#     total_error = np.sqrt(np.square(y_func - y_gt).mean())\n",
    "    total_error = np.abs(y_func - y_gt).mean()\n",
    "    prediction_error_dict[name] = total_error\n",
    "    return total_error\n",
    "\n",
    "def print_all_prediction_error(prediction_error_dict=prediction_error_dict):\n",
    "    for _n in prediction_error_dict:\n",
    "        print(\"%s: %f\" % (_n, prediction_error_dict[_n]))"
   ]
  },
  {
   "cell_type": "markdown",
   "id": "053ecc57",
   "metadata": {},
   "source": [
    "# Simple FCs (number --> number)"
   ]
  },
  {
   "cell_type": "markdown",
   "id": "c66eb67b",
   "metadata": {},
   "source": [
    "Build the regression model"
   ]
  },
  {
   "cell_type": "code",
   "execution_count": 12,
   "id": "9449fc0b",
   "metadata": {},
   "outputs": [
    {
     "name": "stderr",
     "output_type": "stream",
     "text": [
      "C:\\Users\\benso\\anaconda3\\envs\\ml\\lib\\site-packages\\keras\\optimizer_v2\\gradient_descent.py:102: UserWarning: The `lr` argument is deprecated, use `learning_rate` instead.\n",
      "  super(SGD, self).__init__(name, **kwargs)\n"
     ]
    }
   ],
   "source": [
    "model = keras.models.Sequential([\n",
    "    keras.layers.Dense(30, activation=\"relu\", input_shape=X_train.shape[1:]),\n",
    "    keras.layers.Dense(30, activation=\"relu\"),\n",
    "    keras.layers.Dense(1)\n",
    "])\n",
    "\n",
    "optimizer = keras.optimizers.SGD(lr=0.0001, momentum=0.9)\n",
    "model.compile(loss=\"mean_squared_error\", optimizer=optimizer)\n",
    "# optimizer = keras.optimizers.Adam(lr=0.01)\n",
    "# model.compile(loss=\"mean_absolute_error\", optimizer=optimizer)"
   ]
  },
  {
   "cell_type": "code",
   "execution_count": 13,
   "id": "92afd68a",
   "metadata": {
    "scrolled": true
   },
   "outputs": [
    {
     "name": "stdout",
     "output_type": "stream",
     "text": [
      "Epoch 1/100\n",
      "3/3 [==============================] - 1s 92ms/step - loss: 2468.3726 - val_loss: 1701.1547\n",
      "Epoch 2/100\n",
      "3/3 [==============================] - 0s 21ms/step - loss: 2392.5522 - val_loss: 1617.9719\n",
      "Epoch 3/100\n",
      "3/3 [==============================] - 0s 26ms/step - loss: 2225.8237 - val_loss: 1443.4883\n",
      "Epoch 4/100\n",
      "3/3 [==============================] - 0s 18ms/step - loss: 1838.6472 - val_loss: 1025.7107\n",
      "Epoch 5/100\n",
      "3/3 [==============================] - 0s 34ms/step - loss: 979.9873 - val_loss: 555.7879\n",
      "Epoch 6/100\n",
      "3/3 [==============================] - 0s 30ms/step - loss: 593.1214 - val_loss: 990.3900\n",
      "Epoch 7/100\n",
      "3/3 [==============================] - 0s 28ms/step - loss: 893.1465 - val_loss: 420.5214\n",
      "Epoch 8/100\n",
      "3/3 [==============================] - 0s 24ms/step - loss: 405.8567 - val_loss: 512.9064\n",
      "Epoch 9/100\n",
      "3/3 [==============================] - 0s 24ms/step - loss: 655.4424 - val_loss: 374.3412\n",
      "Epoch 10/100\n",
      "3/3 [==============================] - 0s 14ms/step - loss: 431.2724 - val_loss: 175.3902\n",
      "Epoch 11/100\n",
      "3/3 [==============================] - 0s 27ms/step - loss: 250.9467 - val_loss: 289.2157\n",
      "Epoch 12/100\n",
      "3/3 [==============================] - 0s 26ms/step - loss: 337.6850 - val_loss: 183.3139\n",
      "Epoch 13/100\n",
      "3/3 [==============================] - 0s 35ms/step - loss: 217.8538 - val_loss: 198.6783\n",
      "Epoch 14/100\n",
      "3/3 [==============================] - 0s 17ms/step - loss: 263.7541 - val_loss: 187.8162\n",
      "Epoch 15/100\n",
      "3/3 [==============================] - 0s 29ms/step - loss: 223.2356 - val_loss: 194.4095\n",
      "Epoch 16/100\n",
      "3/3 [==============================] - 0s 30ms/step - loss: 222.6963 - val_loss: 214.7768\n",
      "Epoch 17/100\n",
      "3/3 [==============================] - 0s 26ms/step - loss: 218.6214 - val_loss: 187.9191\n",
      "Epoch 18/100\n",
      "3/3 [==============================] - 0s 23ms/step - loss: 201.2957 - val_loss: 182.3764\n",
      "Epoch 19/100\n",
      "3/3 [==============================] - 0s 20ms/step - loss: 204.9570 - val_loss: 172.0744\n",
      "Epoch 20/100\n",
      "3/3 [==============================] - 0s 20ms/step - loss: 196.4010 - val_loss: 173.5176\n",
      "Epoch 21/100\n",
      "3/3 [==============================] - 0s 21ms/step - loss: 200.6224 - val_loss: 174.7963\n",
      "Epoch 22/100\n",
      "3/3 [==============================] - 0s 19ms/step - loss: 197.3024 - val_loss: 170.7965\n",
      "Epoch 23/100\n",
      "3/3 [==============================] - 0s 18ms/step - loss: 197.0638 - val_loss: 172.9332\n",
      "Epoch 24/100\n",
      "3/3 [==============================] - 0s 20ms/step - loss: 195.8114 - val_loss: 174.2980\n",
      "Epoch 25/100\n",
      "3/3 [==============================] - 0s 19ms/step - loss: 193.8637 - val_loss: 176.4409\n",
      "Epoch 26/100\n",
      "3/3 [==============================] - 0s 19ms/step - loss: 193.3958 - val_loss: 174.6908\n",
      "Epoch 27/100\n",
      "3/3 [==============================] - 0s 26ms/step - loss: 191.3881 - val_loss: 174.9408\n",
      "Epoch 28/100\n",
      "3/3 [==============================] - 0s 22ms/step - loss: 191.6821 - val_loss: 176.0300\n",
      "Epoch 29/100\n",
      "3/3 [==============================] - 0s 20ms/step - loss: 191.9228 - val_loss: 172.6199\n",
      "Epoch 30/100\n",
      "3/3 [==============================] - 0s 20ms/step - loss: 189.7861 - val_loss: 173.6868\n",
      "Epoch 31/100\n",
      "3/3 [==============================] - 0s 20ms/step - loss: 189.4267 - val_loss: 174.2273\n",
      "Epoch 32/100\n",
      "3/3 [==============================] - 0s 18ms/step - loss: 188.9636 - val_loss: 175.1223\n",
      "Epoch 33/100\n",
      "3/3 [==============================] - 0s 17ms/step - loss: 187.6356 - val_loss: 171.8697\n",
      "Epoch 34/100\n",
      "3/3 [==============================] - 0s 22ms/step - loss: 186.5924 - val_loss: 167.3112\n",
      "Epoch 35/100\n",
      "3/3 [==============================] - 0s 20ms/step - loss: 188.0221 - val_loss: 163.5705\n",
      "Epoch 36/100\n",
      "3/3 [==============================] - 0s 21ms/step - loss: 193.4172 - val_loss: 164.1833\n",
      "Epoch 37/100\n",
      "3/3 [==============================] - 0s 24ms/step - loss: 188.4977 - val_loss: 165.5000\n",
      "Epoch 38/100\n",
      "3/3 [==============================] - 0s 22ms/step - loss: 186.2451 - val_loss: 171.7258\n",
      "Epoch 39/100\n",
      "3/3 [==============================] - 0s 13ms/step - loss: 186.6858 - val_loss: 177.0799\n",
      "Epoch 40/100\n",
      "3/3 [==============================] - 0s 20ms/step - loss: 185.0288 - val_loss: 172.9541\n",
      "Epoch 41/100\n",
      "3/3 [==============================] - 0s 16ms/step - loss: 183.6790 - val_loss: 170.4684\n",
      "Epoch 42/100\n",
      "3/3 [==============================] - 0s 17ms/step - loss: 184.9371 - val_loss: 168.0224\n",
      "Epoch 43/100\n",
      "3/3 [==============================] - 0s 21ms/step - loss: 182.5592 - val_loss: 163.1541\n",
      "Epoch 44/100\n",
      "3/3 [==============================] - 0s 16ms/step - loss: 183.5131 - val_loss: 163.3956\n",
      "Epoch 45/100\n",
      "3/3 [==============================] - 0s 21ms/step - loss: 182.5370 - val_loss: 166.1484\n",
      "Epoch 46/100\n",
      "3/3 [==============================] - 0s 13ms/step - loss: 181.3224 - val_loss: 166.2137\n",
      "Epoch 47/100\n",
      "3/3 [==============================] - 0s 21ms/step - loss: 179.6450 - val_loss: 164.6944\n",
      "Epoch 48/100\n",
      "3/3 [==============================] - 0s 19ms/step - loss: 179.5868 - val_loss: 165.2693\n",
      "Epoch 49/100\n",
      "3/3 [==============================] - 0s 29ms/step - loss: 179.9141 - val_loss: 169.2667\n",
      "Epoch 50/100\n",
      "3/3 [==============================] - 0s 20ms/step - loss: 179.9774 - val_loss: 170.2486\n",
      "Epoch 51/100\n",
      "3/3 [==============================] - 0s 19ms/step - loss: 180.7181 - val_loss: 173.5815\n",
      "Epoch 52/100\n",
      "3/3 [==============================] - 0s 20ms/step - loss: 177.9332 - val_loss: 167.1534\n",
      "Epoch 53/100\n",
      "3/3 [==============================] - 0s 24ms/step - loss: 176.1720 - val_loss: 163.6700\n",
      "Epoch 54/100\n",
      "3/3 [==============================] - 0s 22ms/step - loss: 178.7566 - val_loss: 158.3722\n",
      "Epoch 55/100\n",
      "3/3 [==============================] - 0s 17ms/step - loss: 177.9751 - val_loss: 156.3018\n",
      "Epoch 56/100\n",
      "3/3 [==============================] - 0s 18ms/step - loss: 178.6933 - val_loss: 156.7386\n",
      "Epoch 57/100\n",
      "3/3 [==============================] - 0s 23ms/step - loss: 176.4295 - val_loss: 161.1691\n",
      "Epoch 58/100\n",
      "3/3 [==============================] - 0s 14ms/step - loss: 175.7960 - val_loss: 159.3488\n",
      "Epoch 59/100\n",
      "3/3 [==============================] - 0s 22ms/step - loss: 172.4906 - val_loss: 159.3656\n",
      "Epoch 60/100\n",
      "3/3 [==============================] - 0s 15ms/step - loss: 176.0794 - val_loss: 164.9365\n",
      "Epoch 61/100\n",
      "3/3 [==============================] - 0s 20ms/step - loss: 175.8836 - val_loss: 170.5066\n",
      "Epoch 62/100\n",
      "3/3 [==============================] - 0s 18ms/step - loss: 174.5321 - val_loss: 166.0763\n",
      "Epoch 63/100\n",
      "3/3 [==============================] - 0s 17ms/step - loss: 172.3175 - val_loss: 158.3614\n",
      "Epoch 64/100\n",
      "3/3 [==============================] - 0s 21ms/step - loss: 171.9303 - val_loss: 155.2334\n",
      "Epoch 65/100\n",
      "3/3 [==============================] - 0s 19ms/step - loss: 171.2611 - val_loss: 153.0995\n",
      "Epoch 66/100\n",
      "3/3 [==============================] - 0s 21ms/step - loss: 173.7475 - val_loss: 155.9127\n",
      "Epoch 67/100\n",
      "3/3 [==============================] - 0s 17ms/step - loss: 174.9161 - val_loss: 158.4397\n",
      "Epoch 68/100\n",
      "3/3 [==============================] - 0s 20ms/step - loss: 168.9491 - val_loss: 161.5568\n",
      "Epoch 69/100\n",
      "3/3 [==============================] - 0s 18ms/step - loss: 174.9210 - val_loss: 158.4207\n",
      "Epoch 70/100\n",
      "3/3 [==============================] - 0s 19ms/step - loss: 168.0627 - val_loss: 160.9266\n",
      "Epoch 71/100\n",
      "3/3 [==============================] - 0s 21ms/step - loss: 169.5183 - val_loss: 165.7822\n",
      "Epoch 72/100\n",
      "3/3 [==============================] - 0s 17ms/step - loss: 170.9098 - val_loss: 159.4691\n",
      "Epoch 73/100\n",
      "3/3 [==============================] - 0s 22ms/step - loss: 168.0445 - val_loss: 152.8113\n",
      "Epoch 74/100\n",
      "3/3 [==============================] - 0s 17ms/step - loss: 166.8542 - val_loss: 151.2281\n",
      "Epoch 75/100\n",
      "3/3 [==============================] - 0s 22ms/step - loss: 167.7516 - val_loss: 148.9784\n",
      "Epoch 76/100\n",
      "3/3 [==============================] - 0s 18ms/step - loss: 168.5659 - val_loss: 149.0498\n",
      "Epoch 77/100\n",
      "3/3 [==============================] - 0s 18ms/step - loss: 167.2831 - val_loss: 152.2571\n",
      "Epoch 78/100\n",
      "3/3 [==============================] - 0s 19ms/step - loss: 165.9685 - val_loss: 153.1071\n",
      "Epoch 79/100\n",
      "3/3 [==============================] - 0s 22ms/step - loss: 164.8473 - val_loss: 152.3264\n",
      "Epoch 80/100\n"
     ]
    },
    {
     "name": "stdout",
     "output_type": "stream",
     "text": [
      "3/3 [==============================] - 0s 18ms/step - loss: 165.0258 - val_loss: 153.0507\n",
      "Epoch 81/100\n",
      "3/3 [==============================] - 0s 16ms/step - loss: 165.2577 - val_loss: 155.4910\n",
      "Epoch 82/100\n",
      "3/3 [==============================] - 0s 22ms/step - loss: 164.8831 - val_loss: 155.8824\n",
      "Epoch 83/100\n",
      "3/3 [==============================] - 0s 16ms/step - loss: 164.9379 - val_loss: 151.6681\n",
      "Epoch 84/100\n",
      "3/3 [==============================] - 0s 18ms/step - loss: 163.4826 - val_loss: 152.5988\n",
      "Epoch 85/100\n",
      "3/3 [==============================] - ETA: 0s - loss: 147.341 - 0s 22ms/step - loss: 163.6954 - val_loss: 154.1057\n",
      "Epoch 86/100\n",
      "3/3 [==============================] - 0s 17ms/step - loss: 163.1333 - val_loss: 152.3005\n",
      "Epoch 87/100\n",
      "3/3 [==============================] - 0s 16ms/step - loss: 162.7630 - val_loss: 150.4786\n",
      "Epoch 88/100\n",
      "3/3 [==============================] - 0s 16ms/step - loss: 161.5885 - val_loss: 152.4870\n",
      "Epoch 89/100\n",
      "3/3 [==============================] - 0s 16ms/step - loss: 163.2857 - val_loss: 148.5643\n",
      "Epoch 90/100\n",
      "3/3 [==============================] - 0s 22ms/step - loss: 162.4477 - val_loss: 145.3086\n",
      "Epoch 91/100\n",
      "3/3 [==============================] - 0s 18ms/step - loss: 163.0587 - val_loss: 148.2777\n",
      "Epoch 92/100\n",
      "3/3 [==============================] - 0s 22ms/step - loss: 160.6625 - val_loss: 154.0837\n",
      "Epoch 93/100\n",
      "3/3 [==============================] - 0s 23ms/step - loss: 164.1500 - val_loss: 157.7793\n",
      "Epoch 94/100\n",
      "3/3 [==============================] - 0s 13ms/step - loss: 161.9220 - val_loss: 155.7727\n",
      "Epoch 95/100\n",
      "3/3 [==============================] - 0s 22ms/step - loss: 162.1189 - val_loss: 148.7800\n",
      "Epoch 96/100\n",
      "3/3 [==============================] - 0s 16ms/step - loss: 164.8299 - val_loss: 145.4019\n",
      "Epoch 97/100\n",
      "3/3 [==============================] - 0s 18ms/step - loss: 160.5375 - val_loss: 149.3112\n",
      "Epoch 98/100\n",
      "3/3 [==============================] - 0s 22ms/step - loss: 159.5353 - val_loss: 147.5604\n",
      "Epoch 99/100\n",
      "3/3 [==============================] - 0s 16ms/step - loss: 159.6075 - val_loss: 143.2390\n",
      "Epoch 100/100\n",
      "3/3 [==============================] - 0s 17ms/step - loss: 159.7900 - val_loss: 140.5224\n"
     ]
    }
   ],
   "source": [
    "history = model.fit(X_train, y_train, epochs=100,\n",
    "                    validation_data=(X_valid, y_valid))"
   ]
  },
  {
   "cell_type": "markdown",
   "id": "17d6e37a",
   "metadata": {},
   "source": [
    "Plot the result"
   ]
  },
  {
   "cell_type": "code",
   "execution_count": 14,
   "id": "3b066f5c",
   "metadata": {},
   "outputs": [
    {
     "name": "stdout",
     "output_type": "stream",
     "text": [
      "Saving figure num_num_training_curve\n"
     ]
    },
    {
     "data": {
      "image/png": "[encoded data removed]",
      "text/plain": [
       "<Figure size 576x360 with 1 Axes>"
      ]
     },
     "metadata": {
      "needs_background": "light"
     },
     "output_type": "display_data"
    }
   ],
   "source": [
    "import pandas as pd\n",
    "\n",
    "pd.DataFrame(history.history).plot(figsize=(8, 5))\n",
    "plt.grid(True)\n",
    "# plt.gca().set_ylim(0, 1)\n",
    "save_fig(\"num_num_training_curve\")\n",
    "plt.show()"
   ]
  },
  {
   "cell_type": "code",
   "execution_count": 15,
   "id": "03f9bb54",
   "metadata": {},
   "outputs": [
    {
     "name": "stdout",
     "output_type": "stream",
     "text": [
      "Saving figure num_num_prediction\n"
     ]
    },
    {
     "data": {
      "image/png": "[encoded data removed]",
      "text/plain": [
       "<Figure size 432x288 with 1 Axes>"
      ]
     },
     "metadata": {
      "needs_background": "light"
     },
     "output_type": "display_data"
    }
   ],
   "source": [
    "# X_new = np.linspace(-5, 5, 100).reshape(100, 1)\n",
    "# y_new = model.predict(X_new)\n",
    "#\n",
    "plt.plot(X_train, y_train, \"b.\")\n",
    "# plt.plot(X_new, y_new, \"r-\", linewidth=2, label=\"Predictions\")\n",
    "draw_func(model.predict, mark='r-', linewidth=2, label=\"Predictions\")\n",
    "draw_normal_func(func_dict)\n",
    "plt.xlabel(\"$x_1$\", fontsize=18)\n",
    "plt.ylabel(\"$y$\", rotation=0, fontsize=18)\n",
    "plt.legend(loc=\"upper left\", fontsize=14)\n",
    "# plt.axis([-3, 3, 0, 10])\n",
    "save_fig(\"num_num_prediction\")\n",
    "plt.show()"
   ]
  },
  {
   "cell_type": "code",
   "execution_count": 16,
   "id": "bc06d931",
   "metadata": {},
   "outputs": [
    {
     "name": "stdout",
     "output_type": "stream",
     "text": [
      "y_func.shape = (100, 1)\n",
      "y_gt.shape = (100, 1)\n"
     ]
    },
    {
     "data": {
      "text/plain": [
       "6.158738546825457"
      ]
     },
     "execution_count": 16,
     "metadata": {},
     "output_type": "execute_result"
    }
   ],
   "source": [
    "get_prediction_error(model.predict, func_dict, name=\"num-num\")"
   ]
  },
  {
   "cell_type": "markdown",
   "id": "58da8768",
   "metadata": {},
   "source": [
    "# Simulated CNN Feature Map (1-D grids, grid --> number)"
   ]
  },
  {
   "cell_type": "code",
   "execution_count": 17,
   "id": "287b5e4c",
   "metadata": {},
   "outputs": [],
   "source": [
    "class num2grid(keras.layers.Layer):\n",
    "    def __init__(self, units, x_min=-10, x_max=10, sigma=1.0, activation=None, **kwargs):\n",
    "        super().__init__(**kwargs)\n",
    "        self.units = units\n",
    "        self.x_min = x_min\n",
    "        self.x_max = x_max\n",
    "        self.sigma = sigma\n",
    "        self.sigma2 = self.sigma**2\n",
    "        self.activation = keras.activations.get(activation)\n",
    "        \n",
    "    def build(self, batch_input_shape):\n",
    "        #\n",
    "        self.x_grid = np.linspace(self.x_min, self.x_max, self.units, endpoint=True)\n",
    "#         print(\"self.x_grid.shape = %s\" % str(self.x_grid.shape))\n",
    "        #\n",
    "        super().build(batch_input_shape) # must be at the end\n",
    "        \n",
    "    def call(self, X):\n",
    "        '''\n",
    "        Input shape:  (batch, X_chanel)\n",
    "        Output shape: (batch, grid_unit) \n",
    "        \n",
    "        self.x_grid shape: (grid_unit,)\n",
    "        '''\n",
    "        gauss_grid = tf.exp( -(self.x_grid - X)**2 / (2.0*self.sigma2) )\n",
    "        print(\"X.shape = %s\" % str(X.shape))\n",
    "        print(\"gauss_grid.shape = %s\" % str(gauss_grid.shape))\n",
    "        return self.activation(gauss_grid)\n",
    "    \n",
    "    def compute_output_shape(self, batch_input_shape):\n",
    "        return tf.TensorShape(batch_input_shape.as_list()[:-1] + [self.units])\n",
    "    \n",
    "    def get_config(self):\n",
    "        base_config = super().get_config()\n",
    "        return {**base_config, \n",
    "                \"units\": self.units,\n",
    "                \"x_min\": self.x_min,\n",
    "                \"x_max\": self.x_max,\n",
    "                \"sigma\": self.sigma,\n",
    "                \"activation\": keras.activations.serialize(self.activation)}"
   ]
  },
  {
   "cell_type": "code",
   "execution_count": 18,
   "id": "f463c12a",
   "metadata": {},
   "outputs": [
    {
     "name": "stdout",
     "output_type": "stream",
     "text": [
      "X.shape = (None, 1)\n",
      "gauss_grid.shape = (None, 5)\n"
     ]
    },
    {
     "name": "stderr",
     "output_type": "stream",
     "text": [
      "C:\\Users\\benso\\anaconda3\\envs\\ml\\lib\\site-packages\\keras\\optimizer_v2\\adam.py:105: UserWarning: The `lr` argument is deprecated, use `learning_rate` instead.\n",
      "  super(Adam, self).__init__(name, **kwargs)\n"
     ]
    }
   ],
   "source": [
    "model = keras.models.Sequential([\n",
    "    num2grid(5,x_min=-10, x_max=10, sigma=3.0, input_shape=X_train.shape[1:]),\n",
    "    keras.layers.Dense(30, activation=\"relu\"),\n",
    "#     keras.layers.Dense(100, activation=\"relu\", kernel_regularizer=tf.keras.regularizers.l1(0.01)),\n",
    "#     keras.layers.Dense(30, activation=keras.layers.LeakyReLU(alpha=0.2) ),\n",
    "#     keras.layers.Dense(30, activation=\"selu\"),\n",
    "#     keras.layers.Dense(30, activation=\"relu\"),\n",
    "    keras.layers.Dense(1)\n",
    "])\n",
    "\n",
    "# optimizer = keras.optimizers.SGD(lr=0.001, momentum=0.9)\n",
    "# model.compile(loss=\"mean_squared_error\", optimizer=optimizer)\n",
    "optimizer = keras.optimizers.Adam(lr=0.1)\n",
    "model.compile(loss=\"mean_absolute_error\", optimizer=optimizer)"
   ]
  },
  {
   "cell_type": "code",
   "execution_count": 19,
   "id": "c966ada4",
   "metadata": {
    "scrolled": true
   },
   "outputs": [
    {
     "name": "stdout",
     "output_type": "stream",
     "text": [
      "Epoch 1/100\n",
      "X.shape = (None, 1)\n",
      "gauss_grid.shape = (None, 5)\n",
      "X.shape = (None, 1)\n",
      "gauss_grid.shape = (None, 5)\n",
      "1/3 [=========>....................] - ETA: 0s - loss: 44.6009X.shape = (None, 1)\n",
      "gauss_grid.shape = (None, 5)\n",
      "3/3 [==============================] - 1s 76ms/step - loss: 41.5478 - val_loss: 33.0705\n",
      "Epoch 2/100\n",
      "3/3 [==============================] - 0s 23ms/step - loss: 38.9078 - val_loss: 30.2754\n",
      "Epoch 3/100\n",
      "3/3 [==============================] - 0s 24ms/step - loss: 33.9309 - val_loss: 25.8987\n",
      "Epoch 4/100\n",
      "3/3 [==============================] - 0s 21ms/step - loss: 27.1864 - val_loss: 19.7141\n",
      "Epoch 5/100\n",
      "3/3 [==============================] - 0s 26ms/step - loss: 19.6100 - val_loss: 13.0182\n",
      "Epoch 6/100\n",
      "3/3 [==============================] - 0s 28ms/step - loss: 15.7678 - val_loss: 8.3255\n",
      "Epoch 7/100\n",
      "3/3 [==============================] - 0s 24ms/step - loss: 16.1561 - val_loss: 13.8486\n",
      "Epoch 8/100\n",
      "3/3 [==============================] - 0s 24ms/step - loss: 16.7255 - val_loss: 9.6721\n",
      "Epoch 9/100\n",
      "3/3 [==============================] - 0s 32ms/step - loss: 15.2551 - val_loss: 11.2401\n",
      "Epoch 10/100\n",
      "3/3 [==============================] - 0s 31ms/step - loss: 14.6707 - val_loss: 10.4537\n",
      "Epoch 11/100\n",
      "3/3 [==============================] - 0s 24ms/step - loss: 12.8744 - val_loss: 11.4131\n",
      "Epoch 12/100\n",
      "3/3 [==============================] - 0s 25ms/step - loss: 13.6356 - val_loss: 11.3638\n",
      "Epoch 13/100\n",
      "3/3 [==============================] - 0s 13ms/step - loss: 12.0498 - val_loss: 12.6704\n",
      "Epoch 14/100\n",
      "3/3 [==============================] - 0s 22ms/step - loss: 12.7291 - val_loss: 11.8077\n",
      "Epoch 15/100\n",
      "3/3 [==============================] - 0s 17ms/step - loss: 11.8912 - val_loss: 10.7112\n",
      "Epoch 16/100\n",
      "3/3 [==============================] - 0s 21ms/step - loss: 10.8134 - val_loss: 12.0401\n",
      "Epoch 17/100\n",
      "3/3 [==============================] - 0s 17ms/step - loss: 10.8450 - val_loss: 12.1713\n",
      "Epoch 18/100\n",
      "3/3 [==============================] - 0s 22ms/step - loss: 10.1303 - val_loss: 11.8861\n",
      "Epoch 19/100\n",
      "3/3 [==============================] - 0s 17ms/step - loss: 10.5249 - val_loss: 12.4786\n",
      "Epoch 20/100\n",
      "3/3 [==============================] - 0s 18ms/step - loss: 10.2393 - val_loss: 13.6688\n",
      "Epoch 21/100\n",
      "3/3 [==============================] - 0s 21ms/step - loss: 10.0920 - val_loss: 13.0643\n",
      "Epoch 22/100\n",
      "3/3 [==============================] - 0s 17ms/step - loss: 10.0457 - val_loss: 12.6456\n",
      "Epoch 23/100\n",
      "3/3 [==============================] - 0s 22ms/step - loss: 9.9241 - val_loss: 12.9292\n",
      "Epoch 24/100\n",
      "3/3 [==============================] - 0s 13ms/step - loss: 10.0046 - val_loss: 12.0165\n",
      "Epoch 25/100\n",
      "3/3 [==============================] - 0s 21ms/step - loss: 10.0412 - val_loss: 12.1785\n",
      "Epoch 26/100\n",
      "3/3 [==============================] - 0s 13ms/step - loss: 9.8060 - val_loss: 12.6042\n",
      "Epoch 27/100\n",
      "3/3 [==============================] - 0s 21ms/step - loss: 10.5104 - val_loss: 12.5637\n",
      "Epoch 28/100\n",
      "3/3 [==============================] - 0s 17ms/step - loss: 9.9513 - val_loss: 12.6104\n",
      "Epoch 29/100\n",
      "3/3 [==============================] - 0s 20ms/step - loss: 11.6154 - val_loss: 11.8380\n",
      "Epoch 30/100\n",
      "3/3 [==============================] - 0s 18ms/step - loss: 10.1596 - val_loss: 14.3280\n",
      "Epoch 31/100\n",
      "3/3 [==============================] - 0s 17ms/step - loss: 10.8124 - val_loss: 11.8924\n",
      "Epoch 32/100\n",
      "3/3 [==============================] - 0s 17ms/step - loss: 10.3290 - val_loss: 11.9599\n",
      "Epoch 33/100\n",
      "3/3 [==============================] - 0s 21ms/step - loss: 9.8654 - val_loss: 14.0578\n",
      "Epoch 34/100\n",
      "3/3 [==============================] - 0s 23ms/step - loss: 10.6521 - val_loss: 12.4744\n",
      "Epoch 35/100\n",
      "3/3 [==============================] - 0s 17ms/step - loss: 9.9001 - val_loss: 12.3956\n",
      "Epoch 36/100\n",
      "3/3 [==============================] - 0s 18ms/step - loss: 9.9601 - val_loss: 12.4359\n",
      "Epoch 37/100\n",
      "3/3 [==============================] - 0s 22ms/step - loss: 9.6015 - val_loss: 11.7745\n",
      "Epoch 38/100\n",
      "3/3 [==============================] - 0s 20ms/step - loss: 9.4914 - val_loss: 11.3280\n",
      "Epoch 39/100\n",
      "3/3 [==============================] - 0s 21ms/step - loss: 9.5511 - val_loss: 11.6634\n",
      "Epoch 40/100\n",
      "3/3 [==============================] - 0s 19ms/step - loss: 9.8361 - val_loss: 11.4385\n",
      "Epoch 41/100\n",
      "3/3 [==============================] - 0s 18ms/step - loss: 9.6365 - val_loss: 11.4634\n",
      "Epoch 42/100\n",
      "3/3 [==============================] - 0s 17ms/step - loss: 9.3632 - val_loss: 12.4901\n",
      "Epoch 43/100\n",
      "3/3 [==============================] - 0s 21ms/step - loss: 9.6521 - val_loss: 12.1924\n",
      "Epoch 44/100\n",
      "3/3 [==============================] - 0s 13ms/step - loss: 9.4576 - val_loss: 11.9995\n",
      "Epoch 45/100\n",
      "3/3 [==============================] - 0s 21ms/step - loss: 9.5275 - val_loss: 11.8255\n",
      "Epoch 46/100\n",
      "3/3 [==============================] - 0s 17ms/step - loss: 9.5081 - val_loss: 11.8724\n",
      "Epoch 47/100\n",
      "3/3 [==============================] - 0s 17ms/step - loss: 9.4561 - val_loss: 11.4031\n",
      "Epoch 48/100\n",
      "3/3 [==============================] - 0s 22ms/step - loss: 9.4765 - val_loss: 11.6502\n",
      "Epoch 49/100\n",
      "3/3 [==============================] - 0s 16ms/step - loss: 9.3630 - val_loss: 11.1857\n",
      "Epoch 50/100\n",
      "3/3 [==============================] - 0s 17ms/step - loss: 10.0804 - val_loss: 11.1814\n",
      "Epoch 51/100\n",
      "3/3 [==============================] - ETA: 0s - loss: 10.49 - 0s 23ms/step - loss: 9.5147 - val_loss: 12.5981\n",
      "Epoch 52/100\n",
      "3/3 [==============================] - 0s 17ms/step - loss: 9.8382 - val_loss: 11.7328\n",
      "Epoch 53/100\n",
      "3/3 [==============================] - 0s 17ms/step - loss: 9.7068 - val_loss: 11.4921\n",
      "Epoch 54/100\n",
      "3/3 [==============================] - 0s 21ms/step - loss: 9.4018 - val_loss: 11.7357\n",
      "Epoch 55/100\n",
      "3/3 [==============================] - 0s 13ms/step - loss: 9.4253 - val_loss: 10.8209\n",
      "Epoch 56/100\n",
      "3/3 [==============================] - 0s 19ms/step - loss: 9.5199 - val_loss: 10.3454\n",
      "Epoch 57/100\n",
      "3/3 [==============================] - 0s 17ms/step - loss: 9.3701 - val_loss: 11.0350\n",
      "Epoch 58/100\n",
      "3/3 [==============================] - 0s 17ms/step - loss: 9.4238 - val_loss: 10.6331\n",
      "Epoch 59/100\n",
      "3/3 [==============================] - 0s 23ms/step - loss: 9.4181 - val_loss: 10.9560\n",
      "Epoch 60/100\n",
      "3/3 [==============================] - 0s 13ms/step - loss: 9.2317 - val_loss: 12.1368\n",
      "Epoch 61/100\n",
      "3/3 [==============================] - 0s 22ms/step - loss: 9.7662 - val_loss: 10.7252\n",
      "Epoch 62/100\n",
      "3/3 [==============================] - 0s 18ms/step - loss: 9.4596 - val_loss: 10.6060\n",
      "Epoch 63/100\n",
      "3/3 [==============================] - 0s 23ms/step - loss: 9.1789 - val_loss: 11.0195\n",
      "Epoch 64/100\n",
      "3/3 [==============================] - 0s 20ms/step - loss: 9.3788 - val_loss: 10.5788\n",
      "Epoch 65/100\n",
      "3/3 [==============================] - 0s 21ms/step - loss: 9.3538 - val_loss: 10.4604\n",
      "Epoch 66/100\n",
      "3/3 [==============================] - 0s 17ms/step - loss: 9.2717 - val_loss: 10.7900\n",
      "Epoch 67/100\n",
      "3/3 [==============================] - 0s 16ms/step - loss: 9.2577 - val_loss: 10.3881\n",
      "Epoch 68/100\n",
      "3/3 [==============================] - 0s 23ms/step - loss: 9.4110 - val_loss: 10.0791\n",
      "Epoch 69/100\n",
      "3/3 [==============================] - 0s 14ms/step - loss: 9.1266 - val_loss: 9.9359\n",
      "Epoch 70/100\n",
      "3/3 [==============================] - 0s 21ms/step - loss: 9.2764 - val_loss: 9.6651\n",
      "Epoch 71/100\n",
      "3/3 [==============================] - 0s 21ms/step - loss: 9.5618 - val_loss: 9.9217\n",
      "Epoch 72/100\n",
      "3/3 [==============================] - 0s 16ms/step - loss: 9.1296 - val_loss: 10.7859\n",
      "Epoch 73/100\n",
      "3/3 [==============================] - 0s 21ms/step - loss: 9.5470 - val_loss: 10.5977\n",
      "Epoch 74/100\n",
      "3/3 [==============================] - 0s 13ms/step - loss: 9.3508 - val_loss: 10.8067\n",
      "Epoch 75/100\n",
      "3/3 [==============================] - 0s 17ms/step - loss: 9.3997 - val_loss: 10.8629\n",
      "Epoch 76/100\n",
      "3/3 [==============================] - 0s 20ms/step - loss: 9.1614 - val_loss: 10.2403\n",
      "Epoch 77/100\n",
      "3/3 [==============================] - 0s 13ms/step - loss: 9.2629 - val_loss: 9.9629\n",
      "Epoch 78/100\n",
      "3/3 [==============================] - 0s 17ms/step - loss: 9.2319 - val_loss: 10.0479\n",
      "Epoch 79/100\n",
      "3/3 [==============================] - 0s 20ms/step - loss: 9.1103 - val_loss: 9.7464\n",
      "Epoch 80/100\n"
     ]
    },
    {
     "name": "stdout",
     "output_type": "stream",
     "text": [
      "3/3 [==============================] - 0s 17ms/step - loss: 9.2709 - val_loss: 9.6156\n",
      "Epoch 81/100\n",
      "3/3 [==============================] - 0s 18ms/step - loss: 9.1054 - val_loss: 9.3341\n",
      "Epoch 82/100\n",
      "3/3 [==============================] - 0s 20ms/step - loss: 9.1476 - val_loss: 9.5475\n",
      "Epoch 83/100\n",
      "3/3 [==============================] - 0s 15ms/step - loss: 9.1624 - val_loss: 9.4563\n",
      "Epoch 84/100\n",
      "3/3 [==============================] - 0s 17ms/step - loss: 9.1371 - val_loss: 9.4990\n",
      "Epoch 85/100\n",
      "3/3 [==============================] - 0s 20ms/step - loss: 9.3007 - val_loss: 10.0043\n",
      "Epoch 86/100\n",
      "3/3 [==============================] - 0s 20ms/step - loss: 9.0279 - val_loss: 9.3858\n",
      "Epoch 87/100\n",
      "3/3 [==============================] - 0s 14ms/step - loss: 9.9643 - val_loss: 9.1394\n",
      "Epoch 88/100\n",
      "3/3 [==============================] - 0s 20ms/step - loss: 9.0958 - val_loss: 9.6517\n",
      "Epoch 89/100\n",
      "3/3 [==============================] - 0s 13ms/step - loss: 9.5980 - val_loss: 8.6314\n",
      "Epoch 90/100\n",
      "3/3 [==============================] - 0s 21ms/step - loss: 9.3477 - val_loss: 8.9294\n",
      "Epoch 91/100\n",
      "3/3 [==============================] - 0s 13ms/step - loss: 9.0789 - val_loss: 8.7160\n",
      "Epoch 92/100\n",
      "3/3 [==============================] - 0s 20ms/step - loss: 9.4043 - val_loss: 8.3127\n",
      "Epoch 93/100\n",
      "3/3 [==============================] - 0s 14ms/step - loss: 9.2877 - val_loss: 8.2664\n",
      "Epoch 94/100\n",
      "3/3 [==============================] - 0s 21ms/step - loss: 9.0542 - val_loss: 8.3959\n",
      "Epoch 95/100\n",
      "3/3 [==============================] - 0s 17ms/step - loss: 9.2591 - val_loss: 8.9525\n",
      "Epoch 96/100\n",
      "3/3 [==============================] - 0s 17ms/step - loss: 9.6511 - val_loss: 8.6675\n",
      "Epoch 97/100\n",
      "3/3 [==============================] - 0s 22ms/step - loss: 9.1229 - val_loss: 8.3200\n",
      "Epoch 98/100\n",
      "3/3 [==============================] - 0s 16ms/step - loss: 9.0774 - val_loss: 8.6832\n",
      "Epoch 99/100\n",
      "3/3 [==============================] - ETA: 0s - loss: 9.916 - 0s 20ms/step - loss: 9.0077 - val_loss: 8.1640\n",
      "Epoch 100/100\n",
      "3/3 [==============================] - 0s 16ms/step - loss: 9.4925 - val_loss: 7.9420\n"
     ]
    }
   ],
   "source": [
    "history = model.fit(X_train, y_train, epochs=100,\n",
    "                    validation_data=(X_valid, y_valid))"
   ]
  },
  {
   "cell_type": "code",
   "execution_count": 20,
   "id": "4d550f88",
   "metadata": {},
   "outputs": [
    {
     "name": "stdout",
     "output_type": "stream",
     "text": [
      "Saving figure grid_num_training_curve\n"
     ]
    },
    {
     "data": {
      "image/png": "[encoded data removed]",
      "text/plain": [
       "<Figure size 576x360 with 1 Axes>"
      ]
     },
     "metadata": {
      "needs_background": "light"
     },
     "output_type": "display_data"
    }
   ],
   "source": [
    "import pandas as pd\n",
    "\n",
    "pd.DataFrame(history.history).plot(figsize=(8, 5))\n",
    "plt.grid(True)\n",
    "# plt.gca().set_ylim(0, 1)\n",
    "save_fig(\"grid_num_training_curve\")\n",
    "plt.show()"
   ]
  },
  {
   "cell_type": "code",
   "execution_count": 21,
   "id": "5487653c",
   "metadata": {},
   "outputs": [
    {
     "name": "stdout",
     "output_type": "stream",
     "text": [
      "X.shape = (None, 1)\n",
      "gauss_grid.shape = (None, 5)\n",
      "Saving figure grid_num_prediction\n"
     ]
    },
    {
     "data": {
      "image/png": "[encoded data removed]",
      "text/plain": [
       "<Figure size 432x288 with 1 Axes>"
      ]
     },
     "metadata": {
      "needs_background": "light"
     },
     "output_type": "display_data"
    }
   ],
   "source": [
    "# X_new = np.linspace(-5, 5, 100).reshape(100, 1)\n",
    "# y_new = model.predict(X_new)\n",
    "#\n",
    "plt.plot(X_train, y_train, \"b.\")\n",
    "# plt.plot(X_new, y_new, \"r-\", linewidth=2, label=\"Predictions\")\n",
    "draw_func(model.predict, mark='r-', linewidth=2, label=\"Predictions\")\n",
    "draw_normal_func(func_dict)\n",
    "plt.xlabel(\"$x_1$\", fontsize=18)\n",
    "plt.ylabel(\"$y$\", rotation=0, fontsize=18)\n",
    "plt.legend(loc=\"upper left\", fontsize=14)\n",
    "# plt.axis([-3, 3, 0, 10])\n",
    "save_fig(\"grid_num_prediction\")\n",
    "plt.show()"
   ]
  },
  {
   "cell_type": "code",
   "execution_count": 22,
   "id": "f9c053a4",
   "metadata": {},
   "outputs": [
    {
     "name": "stdout",
     "output_type": "stream",
     "text": [
      "y_func.shape = (100, 1)\n",
      "y_gt.shape = (100, 1)\n"
     ]
    },
    {
     "data": {
      "text/plain": [
       "4.456820918164514"
      ]
     },
     "execution_count": 22,
     "metadata": {},
     "output_type": "execute_result"
    }
   ],
   "source": [
    "get_prediction_error(model.predict, func_dict, name=\"grid-num\")"
   ]
  },
  {
   "cell_type": "markdown",
   "id": "fe65d614",
   "metadata": {},
   "source": [
    "# Grid & Regression by Classification (grid --> grid)"
   ]
  },
  {
   "cell_type": "code",
   "execution_count": 23,
   "id": "3d35615e",
   "metadata": {},
   "outputs": [],
   "source": [
    "class num2grid_np():\n",
    "    def __init__(self, units, x_min=-10, x_max=10, sigma=1.0):\n",
    "        self.units = units\n",
    "        self.x_min = x_min\n",
    "        self.x_max = x_max\n",
    "        self.sigma = sigma\n",
    "        self.sigma2 = self.sigma**2\n",
    "        self.x_grid = np.linspace(self.x_min, self.x_max, self.units, endpoint=True)\n",
    "        print(\"self.x_grid = %s\" % str(self.x_grid))\n",
    "        \n",
    "    def convert(self, X):\n",
    "        gauss_grid = np.exp( -(self.x_grid - X)**2 / (2.0*self.sigma2) )\n",
    "#         if len(gauss_grid.shape) == 1:\n",
    "#             gauss_grid = gauss_grid.reshape([1,-1])\n",
    "#         grid_sum = np.sum(gauss_grid, axis=1, keepdims=True)\n",
    "        grid_sum = np.sum(gauss_grid, axis=-1, keepdims=True)\n",
    "        gauss_grid = gauss_grid / grid_sum\n",
    "        return gauss_grid\n",
    "    \n",
    "    def inv_convert(self, grid):\n",
    "#         if len(grid.shape) == 1:\n",
    "#             grid = grid.reshape([1,-1])\n",
    "#         grid_sum = np.sum(grid, axis=1)\n",
    "        grid_sum = np.sum(grid, axis=-1)\n",
    "#         print(grid_sum)\n",
    "        exp_num = np.sum((self.x_grid * grid), axis=-1) / grid_sum # element-wise\n",
    "        return exp_num\n",
    "    \n",
    "    def get_statistic(self, grid):\n",
    "        grid_sum = np.sum(grid, axis=-1)\n",
    "        _mean = np.sum((self.x_grid * grid), axis=-1) / grid_sum # element-wise\n",
    "        _var  = np.sum( ((self.x_grid.reshape((1,-1)) - _mean.reshape((-1,1)))**2 * grid), axis=-1) / grid_sum # element-wise\n",
    "        # print(\"(_mean, _var) = (%f, %f)\" % (_mean, _var))\n",
    "        _stddev = np.sqrt(_var)\n",
    "        return _mean, _stddev"
   ]
  },
  {
   "cell_type": "code",
   "execution_count": 24,
   "id": "4903180b",
   "metadata": {},
   "outputs": [
    {
     "name": "stdout",
     "output_type": "stream",
     "text": [
      "self.x_grid = [-100.          -95.91836735  -91.83673469  -87.75510204  -83.67346939\n",
      "  -79.59183673  -75.51020408  -71.42857143  -67.34693878  -63.26530612\n",
      "  -59.18367347  -55.10204082  -51.02040816  -46.93877551  -42.85714286\n",
      "  -38.7755102   -34.69387755  -30.6122449   -26.53061224  -22.44897959\n",
      "  -18.36734694  -14.28571429  -10.20408163   -6.12244898   -2.04081633\n",
      "    2.04081633    6.12244898   10.20408163   14.28571429   18.36734694\n",
      "   22.44897959   26.53061224   30.6122449    34.69387755   38.7755102\n",
      "   42.85714286   46.93877551   51.02040816   55.10204082   59.18367347\n",
      "   63.26530612   67.34693878   71.42857143   75.51020408   79.59183673\n",
      "   83.67346939   87.75510204   91.83673469   95.91836735  100.        ]\n"
     ]
    }
   ],
   "source": [
    "# class_num = 10 # 10\n",
    "# n2g = num2grid_np(class_num, x_min=-100.0, x_max=100.0, sigma=20.0) # 20.0\n",
    "# class_num = 20\n",
    "# n2g = num2grid_np(class_num, x_min=-100.0, x_max=100.0, sigma=15.0) # 20.0\n",
    "class_num = 50\n",
    "n2g = num2grid_np(class_num, x_min=-100.0, x_max=100.0, sigma=6.0) # 5.0 "
   ]
  },
  {
   "cell_type": "code",
   "execution_count": 25,
   "id": "dce05258",
   "metadata": {},
   "outputs": [
    {
     "name": "stdout",
     "output_type": "stream",
     "text": [
      "[[3.57995092e-60 2.08100846e-55 7.61538914e-51 1.75441300e-46\n",
      "  2.54444491e-42 2.32314196e-38 1.33530332e-34 4.83176258e-31\n",
      "  1.10065884e-27 1.57841554e-24 1.42498879e-21 8.09884396e-19\n",
      "  2.89771784e-16 6.52695532e-14 9.25521826e-12 8.26198061e-10\n",
      "  4.64304784e-08 1.64264466e-06 3.65852120e-05 5.12966502e-04\n",
      "  4.52786966e-03 2.51605603e-02 8.80173281e-02 1.93837381e-01\n",
      "  2.68737559e-01 2.34552834e-01 1.28876722e-01 4.45789421e-02\n",
      "  9.70748025e-03 1.33077537e-03 1.14848275e-04 6.23972825e-06\n",
      "  2.13416679e-07 4.59528573e-09 6.22899760e-11 5.31551427e-13\n",
      "  2.85557712e-15 9.65748361e-18 2.05615356e-20 2.75593262e-23\n",
      "  2.32542921e-26 1.23526215e-29 4.13082337e-33 8.69632169e-37\n",
      "  1.15254011e-40 9.61607812e-45 5.05081425e-49 1.67011468e-53\n",
      "  3.47658354e-58 4.55596654e-63]]\n"
     ]
    }
   ],
   "source": [
    "# grid_1 = n2g.convert(-1.2)\n",
    "grid_1 = n2g.convert([[-1.2]])\n",
    "print(grid_1)"
   ]
  },
  {
   "cell_type": "code",
   "execution_count": 26,
   "id": "48203fe2",
   "metadata": {},
   "outputs": [
    {
     "data": {
      "text/plain": [
       "array([-1.2])"
      ]
     },
     "execution_count": 26,
     "metadata": {},
     "output_type": "execute_result"
    }
   ],
   "source": [
    "n2g.inv_convert(grid_1)"
   ]
  },
  {
   "cell_type": "code",
   "execution_count": 27,
   "id": "a741b6d1",
   "metadata": {},
   "outputs": [
    {
     "data": {
      "text/plain": [
       "(array([-1.2]), array([6.]))"
      ]
     },
     "execution_count": 27,
     "metadata": {},
     "output_type": "execute_result"
    }
   ],
   "source": [
    "n2g.get_statistic(grid_1)"
   ]
  },
  {
   "cell_type": "markdown",
   "id": "bdc0b9a0",
   "metadata": {},
   "source": [
    "### Convert the labels to grid (pre-processing)"
   ]
  },
  {
   "cell_type": "code",
   "execution_count": 28,
   "id": "39c7fa96",
   "metadata": {},
   "outputs": [],
   "source": [
    "y_train_grid = n2g.convert(y_train)\n",
    "y_valid_grid = n2g.convert(y_valid)"
   ]
  },
  {
   "cell_type": "code",
   "execution_count": 29,
   "id": "f577a751",
   "metadata": {},
   "outputs": [
    {
     "name": "stdout",
     "output_type": "stream",
     "text": [
      "(80, 50)\n",
      "(20, 50)\n"
     ]
    }
   ],
   "source": [
    "print(y_train_grid.shape)\n",
    "print(y_valid_grid.shape)"
   ]
  },
  {
   "cell_type": "code",
   "execution_count": 30,
   "id": "71610af1",
   "metadata": {},
   "outputs": [
    {
     "name": "stdout",
     "output_type": "stream",
     "text": [
      "X.shape = (None, 1)\n",
      "gauss_grid.shape = (None, 5)\n"
     ]
    },
    {
     "name": "stderr",
     "output_type": "stream",
     "text": [
      "C:\\Users\\benso\\anaconda3\\envs\\ml\\lib\\site-packages\\keras\\optimizer_v2\\gradient_descent.py:102: UserWarning: The `lr` argument is deprecated, use `learning_rate` instead.\n",
      "  super(SGD, self).__init__(name, **kwargs)\n"
     ]
    }
   ],
   "source": [
    "model = keras.models.Sequential([\n",
    "#     keras.layers.Dense(30, activation=\"relu\", input_shape=X_train.shape[1:]),\n",
    "    num2grid(5,x_min=-10, x_max=10, sigma=3.0, input_shape=X_train.shape[1:]),\n",
    "    keras.layers.Dense(30, activation=\"relu\"),\n",
    "#     keras.layers.Dense(100, activation=\"relu\", kernel_regularizer=tf.keras.regularizers.l1(0.01)),\n",
    "    keras.layers.Dense(class_num, activation=\"softmax\"),\n",
    "])\n",
    "\n",
    "optimizer = keras.optimizers.SGD(lr=0.2, momentum=0.9)\n",
    "model.compile(loss=\"categorical_crossentropy\", optimizer=optimizer)"
   ]
  },
  {
   "cell_type": "code",
   "execution_count": 31,
   "id": "e2244aee",
   "metadata": {
    "scrolled": true
   },
   "outputs": [
    {
     "name": "stdout",
     "output_type": "stream",
     "text": [
      "Epoch 1/100\n",
      "X.shape = (None, 1)\n",
      "gauss_grid.shape = (None, 5)\n",
      "X.shape = (None, 1)\n",
      "gauss_grid.shape = (None, 5)\n",
      "1/3 [=========>....................] - ETA: 0s - loss: 3.8975X.shape = (None, 1)\n",
      "gauss_grid.shape = (None, 5)\n",
      "3/3 [==============================] - 1s 105ms/step - loss: 3.9060 - val_loss: 3.8748\n",
      "Epoch 2/100\n",
      "3/3 [==============================] - 0s 17ms/step - loss: 3.8617 - val_loss: 3.8378\n",
      "Epoch 3/100\n",
      "3/3 [==============================] - 0s 28ms/step - loss: 3.7987 - val_loss: 3.7960\n",
      "Epoch 4/100\n",
      "3/3 [==============================] - 0s 31ms/step - loss: 3.7150 - val_loss: 3.7390\n",
      "Epoch 5/100\n",
      "3/3 [==============================] - 0s 38ms/step - loss: 3.6097 - val_loss: 3.6682\n",
      "Epoch 6/100\n",
      "3/3 [==============================] - 0s 37ms/step - loss: 3.4816 - val_loss: 3.6000\n",
      "Epoch 7/100\n",
      "3/3 [==============================] - 0s 28ms/step - loss: 3.3696 - val_loss: 3.5582\n",
      "Epoch 8/100\n",
      "3/3 [==============================] - 0s 42ms/step - loss: 3.2720 - val_loss: 3.4898\n",
      "Epoch 9/100\n",
      "3/3 [==============================] - 0s 24ms/step - loss: 3.1951 - val_loss: 3.3626\n",
      "Epoch 10/100\n",
      "3/3 [==============================] - 0s 21ms/step - loss: 3.1038 - val_loss: 3.2450\n",
      "Epoch 11/100\n",
      "3/3 [==============================] - 0s 27ms/step - loss: 3.0481 - val_loss: 3.1353\n",
      "Epoch 12/100\n",
      "3/3 [==============================] - 0s 21ms/step - loss: 3.0054 - val_loss: 3.0534\n",
      "Epoch 13/100\n",
      "3/3 [==============================] - 0s 21ms/step - loss: 2.9630 - val_loss: 3.0252\n",
      "Epoch 14/100\n",
      "3/3 [==============================] - 0s 18ms/step - loss: 2.9407 - val_loss: 3.0265\n",
      "Epoch 15/100\n",
      "3/3 [==============================] - 0s 17ms/step - loss: 2.9160 - val_loss: 3.0249\n",
      "Epoch 16/100\n",
      "3/3 [==============================] - 0s 18ms/step - loss: 2.8759 - val_loss: 3.0433\n",
      "Epoch 17/100\n",
      "3/3 [==============================] - 0s 23ms/step - loss: 2.8588 - val_loss: 3.0247\n",
      "Epoch 18/100\n",
      "3/3 [==============================] - 0s 16ms/step - loss: 2.8194 - val_loss: 2.9636\n",
      "Epoch 19/100\n",
      "3/3 [==============================] - 0s 17ms/step - loss: 2.8017 - val_loss: 2.8959\n",
      "Epoch 20/100\n",
      "3/3 [==============================] - 0s 23ms/step - loss: 2.7844 - val_loss: 2.9066\n",
      "Epoch 21/100\n",
      "3/3 [==============================] - 0s 16ms/step - loss: 2.7479 - val_loss: 2.9557\n",
      "Epoch 22/100\n",
      "3/3 [==============================] - 0s 18ms/step - loss: 2.7339 - val_loss: 2.9562\n",
      "Epoch 23/100\n",
      "3/3 [==============================] - 0s 22ms/step - loss: 2.7175 - val_loss: 2.9293\n",
      "Epoch 24/100\n",
      "3/3 [==============================] - 0s 18ms/step - loss: 2.6873 - val_loss: 2.8926\n",
      "Epoch 25/100\n",
      "3/3 [==============================] - 0s 19ms/step - loss: 2.6772 - val_loss: 2.8676\n",
      "Epoch 26/100\n",
      "3/3 [==============================] - 0s 13ms/step - loss: 2.6626 - val_loss: 2.8654\n",
      "Epoch 27/100\n",
      "3/3 [==============================] - 0s 18ms/step - loss: 2.6430 - val_loss: 2.8830\n",
      "Epoch 28/100\n",
      "3/3 [==============================] - 0s 20ms/step - loss: 2.6276 - val_loss: 2.8867\n",
      "Epoch 29/100\n",
      "3/3 [==============================] - 0s 14ms/step - loss: 2.6273 - val_loss: 2.8367\n",
      "Epoch 30/100\n",
      "3/3 [==============================] - 0s 21ms/step - loss: 2.6032 - val_loss: 2.7725\n",
      "Epoch 31/100\n",
      "3/3 [==============================] - 0s 13ms/step - loss: 2.5969 - val_loss: 2.7253\n",
      "Epoch 32/100\n",
      "3/3 [==============================] - 0s 21ms/step - loss: 2.5842 - val_loss: 2.7326\n",
      "Epoch 33/100\n",
      "3/3 [==============================] - 0s 17ms/step - loss: 2.5749 - val_loss: 2.7586\n",
      "Epoch 34/100\n",
      "3/3 [==============================] - 0s 17ms/step - loss: 2.5732 - val_loss: 2.7708\n",
      "Epoch 35/100\n",
      "3/3 [==============================] - 0s 23ms/step - loss: 2.5562 - val_loss: 2.7566\n",
      "Epoch 36/100\n",
      "3/3 [==============================] - 0s 16ms/step - loss: 2.5481 - val_loss: 2.7384\n",
      "Epoch 37/100\n",
      "3/3 [==============================] - 0s 17ms/step - loss: 2.5486 - val_loss: 2.7309\n",
      "Epoch 38/100\n",
      "3/3 [==============================] - 0s 22ms/step - loss: 2.5289 - val_loss: 2.7300\n",
      "Epoch 39/100\n",
      "3/3 [==============================] - 0s 17ms/step - loss: 2.5277 - val_loss: 2.6956\n",
      "Epoch 40/100\n",
      "3/3 [==============================] - 0s 16ms/step - loss: 2.5244 - val_loss: 2.7186\n",
      "Epoch 41/100\n",
      "3/3 [==============================] - 0s 22ms/step - loss: 2.5132 - val_loss: 2.7083\n",
      "Epoch 42/100\n",
      "3/3 [==============================] - 0s 22ms/step - loss: 2.5099 - val_loss: 2.7353\n",
      "Epoch 43/100\n",
      "3/3 [==============================] - 0s 12ms/step - loss: 2.5036 - val_loss: 2.6775\n",
      "Epoch 44/100\n",
      "3/3 [==============================] - 0s 21ms/step - loss: 2.4992 - val_loss: 2.6673\n",
      "Epoch 45/100\n",
      "3/3 [==============================] - 0s 18ms/step - loss: 2.5022 - val_loss: 2.6803\n",
      "Epoch 46/100\n",
      "3/3 [==============================] - 0s 16ms/step - loss: 2.5096 - val_loss: 2.6132\n",
      "Epoch 47/100\n",
      "3/3 [==============================] - 0s 21ms/step - loss: 2.4874 - val_loss: 2.6650\n",
      "Epoch 48/100\n",
      "3/3 [==============================] - 0s 17ms/step - loss: 2.4803 - val_loss: 2.6960\n",
      "Epoch 49/100\n",
      "3/3 [==============================] - 0s 17ms/step - loss: 2.4734 - val_loss: 2.7216\n",
      "Epoch 50/100\n",
      "3/3 [==============================] - 0s 20ms/step - loss: 2.4848 - val_loss: 2.6690\n",
      "Epoch 51/100\n",
      "3/3 [==============================] - 0s 22ms/step - loss: 2.4762 - val_loss: 2.6842\n",
      "Epoch 52/100\n",
      "3/3 [==============================] - 0s 22ms/step - loss: 2.4645 - val_loss: 2.6806\n",
      "Epoch 53/100\n",
      "3/3 [==============================] - 0s 14ms/step - loss: 2.4803 - val_loss: 2.6452\n",
      "Epoch 54/100\n",
      "3/3 [==============================] - 0s 16ms/step - loss: 2.4556 - val_loss: 2.6354\n",
      "Epoch 55/100\n",
      "3/3 [==============================] - 0s 21ms/step - loss: 2.4819 - val_loss: 2.6505\n",
      "Epoch 56/100\n",
      "3/3 [==============================] - 0s 16ms/step - loss: 2.4567 - val_loss: 2.6917\n",
      "Epoch 57/100\n",
      "3/3 [==============================] - 0s 21ms/step - loss: 2.4678 - val_loss: 2.7042\n",
      "Epoch 58/100\n",
      "3/3 [==============================] - 0s 13ms/step - loss: 2.4627 - val_loss: 2.7169\n",
      "Epoch 59/100\n",
      "3/3 [==============================] - 0s 21ms/step - loss: 2.4607 - val_loss: 2.6794\n",
      "Epoch 60/100\n",
      "3/3 [==============================] - 0s 21ms/step - loss: 2.4504 - val_loss: 2.5779\n",
      "Epoch 61/100\n",
      "3/3 [==============================] - 0s 17ms/step - loss: 2.4441 - val_loss: 2.5592\n",
      "Epoch 62/100\n",
      "3/3 [==============================] - 0s 20ms/step - loss: 2.4528 - val_loss: 2.6145\n",
      "Epoch 63/100\n",
      "3/3 [==============================] - 0s 17ms/step - loss: 2.4411 - val_loss: 2.6789\n",
      "Epoch 64/100\n",
      "3/3 [==============================] - 0s 16ms/step - loss: 2.4445 - val_loss: 2.7010\n",
      "Epoch 65/100\n",
      "3/3 [==============================] - 0s 22ms/step - loss: 2.4380 - val_loss: 2.6576\n",
      "Epoch 66/100\n",
      "3/3 [==============================] - 0s 17ms/step - loss: 2.4329 - val_loss: 2.5690\n",
      "Epoch 67/100\n",
      "3/3 [==============================] - 0s 17ms/step - loss: 2.4335 - val_loss: 2.5890\n",
      "Epoch 68/100\n",
      "3/3 [==============================] - 0s 21ms/step - loss: 2.4311 - val_loss: 2.6180\n",
      "Epoch 69/100\n",
      "3/3 [==============================] - 0s 23ms/step - loss: 2.4211 - val_loss: 2.6309\n",
      "Epoch 70/100\n",
      "3/3 [==============================] - 0s 17ms/step - loss: 2.4274 - val_loss: 2.6406\n",
      "Epoch 71/100\n",
      "3/3 [==============================] - ETA: 0s - loss: 2.393 - 0s 17ms/step - loss: 2.4283 - val_loss: 2.6394\n",
      "Epoch 72/100\n",
      "3/3 [==============================] - 0s 20ms/step - loss: 2.4428 - val_loss: 2.6686\n",
      "Epoch 73/100\n",
      "3/3 [==============================] - 0s 29ms/step - loss: 2.4297 - val_loss: 2.5616\n",
      "Epoch 74/100\n",
      "3/3 [==============================] - 0s 18ms/step - loss: 2.4239 - val_loss: 2.5490\n",
      "Epoch 75/100\n",
      "3/3 [==============================] - 0s 20ms/step - loss: 2.4244 - val_loss: 2.6404\n",
      "Epoch 76/100\n",
      "3/3 [==============================] - 0s 18ms/step - loss: 2.4270 - val_loss: 2.6671\n",
      "Epoch 77/100\n",
      "3/3 [==============================] - 0s 21ms/step - loss: 2.4145 - val_loss: 2.6785\n",
      "Epoch 78/100\n",
      "3/3 [==============================] - 0s 20ms/step - loss: 2.4103 - val_loss: 2.6153\n",
      "Epoch 79/100\n",
      "3/3 [==============================] - 0s 18ms/step - loss: 2.4140 - val_loss: 2.5830\n",
      "Epoch 80/100\n",
      "3/3 [==============================] - 0s 18ms/step - loss: 2.4055 - val_loss: 2.5600\n",
      "Epoch 81/100\n"
     ]
    },
    {
     "name": "stdout",
     "output_type": "stream",
     "text": [
      "3/3 [==============================] - 0s 21ms/step - loss: 2.4141 - val_loss: 2.6085\n",
      "Epoch 82/100\n",
      "3/3 [==============================] - 0s 19ms/step - loss: 2.4142 - val_loss: 2.6570\n",
      "Epoch 83/100\n",
      "3/3 [==============================] - 0s 25ms/step - loss: 2.4154 - val_loss: 2.5770\n",
      "Epoch 84/100\n",
      "3/3 [==============================] - 0s 16ms/step - loss: 2.4077 - val_loss: 2.5642\n",
      "Epoch 85/100\n",
      "3/3 [==============================] - 0s 18ms/step - loss: 2.4057 - val_loss: 2.5131\n",
      "Epoch 86/100\n",
      "3/3 [==============================] - 0s 23ms/step - loss: 2.4102 - val_loss: 2.5493\n",
      "Epoch 87/100\n",
      "3/3 [==============================] - 0s 19ms/step - loss: 2.3827 - val_loss: 2.6277\n",
      "Epoch 88/100\n",
      "3/3 [==============================] - 0s 18ms/step - loss: 2.4012 - val_loss: 2.6405\n",
      "Epoch 89/100\n",
      "3/3 [==============================] - 0s 18ms/step - loss: 2.4015 - val_loss: 2.5096\n",
      "Epoch 90/100\n",
      "3/3 [==============================] - 0s 22ms/step - loss: 2.3944 - val_loss: 2.5254\n",
      "Epoch 91/100\n",
      "3/3 [==============================] - 0s 17ms/step - loss: 2.3946 - val_loss: 2.6194\n",
      "Epoch 92/100\n",
      "3/3 [==============================] - 0s 19ms/step - loss: 2.3947 - val_loss: 2.6081\n",
      "Epoch 93/100\n",
      "3/3 [==============================] - 0s 18ms/step - loss: 2.3934 - val_loss: 2.5213\n",
      "Epoch 94/100\n",
      "3/3 [==============================] - 0s 32ms/step - loss: 2.4004 - val_loss: 2.5339\n",
      "Epoch 95/100\n",
      "3/3 [==============================] - 0s 17ms/step - loss: 2.3963 - val_loss: 2.5973\n",
      "Epoch 96/100\n",
      "3/3 [==============================] - 0s 14ms/step - loss: 2.3861 - val_loss: 2.5611\n",
      "Epoch 97/100\n",
      "3/3 [==============================] - 0s 20ms/step - loss: 2.3860 - val_loss: 2.5567\n",
      "Epoch 98/100\n",
      "3/3 [==============================] - 0s 28ms/step - loss: 2.3830 - val_loss: 2.5811\n",
      "Epoch 99/100\n",
      "3/3 [==============================] - 0s 21ms/step - loss: 2.3797 - val_loss: 2.6213\n",
      "Epoch 100/100\n",
      "3/3 [==============================] - 0s 16ms/step - loss: 2.3798 - val_loss: 2.5863\n"
     ]
    }
   ],
   "source": [
    "history = model.fit(X_train, y_train_grid, epochs=100,\n",
    "                    validation_data=(X_valid, y_valid_grid))"
   ]
  },
  {
   "cell_type": "code",
   "execution_count": 32,
   "id": "390834c9",
   "metadata": {},
   "outputs": [
    {
     "name": "stdout",
     "output_type": "stream",
     "text": [
      "Saving figure grid_rbc_training_curve\n"
     ]
    },
    {
     "data": {
      "image/png": "[encoded data removed]",
      "text/plain": [
       "<Figure size 576x360 with 1 Axes>"
      ]
     },
     "metadata": {
      "needs_background": "light"
     },
     "output_type": "display_data"
    }
   ],
   "source": [
    "import pandas as pd\n",
    "\n",
    "pd.DataFrame(history.history).plot(figsize=(8, 5))\n",
    "plt.grid(True)\n",
    "# plt.gca().set_ylim(0, 1)\n",
    "save_fig(\"grid_rbc_training_curve\")\n",
    "plt.show()"
   ]
  },
  {
   "cell_type": "code",
   "execution_count": 33,
   "id": "6fba3b6a",
   "metadata": {},
   "outputs": [
    {
     "name": "stdout",
     "output_type": "stream",
     "text": [
      "X.shape = (None, 1)\n",
      "gauss_grid.shape = (None, 5)\n",
      "Saving figure grid_rbc_prediction\n"
     ]
    },
    {
     "data": {
      "image/png": "[encoded data removed]",
      "text/plain": [
       "<Figure size 432x288 with 1 Axes>"
      ]
     },
     "metadata": {
      "needs_background": "light"
     },
     "output_type": "display_data"
    }
   ],
   "source": [
    "# X_new = np.linspace(-5, 5, 100).reshape(100, 1)\n",
    "# y_new_proba = model.predict(X_new)\n",
    "# y_new = n2g.inv_convert(y_new_proba)\n",
    "#\n",
    "plt.plot(X_train, y_train, \"b.\")\n",
    "# plt.plot(X_new, y_new, \"r-\", linewidth=2, label=\"Predictions\")\n",
    "draw_func((lambda X: n2g.inv_convert(model.predict(X)) ), mark='r-', linewidth=2, label=\"Predictions\")\n",
    "draw_normal_func(func_dict)\n",
    "plt.xlabel(\"$x_1$\", fontsize=18)\n",
    "plt.ylabel(\"$y$\", rotation=0, fontsize=18)\n",
    "plt.legend(loc=\"upper left\", fontsize=14)\n",
    "# plt.axis([-3, 3, 0, 10])\n",
    "save_fig(\"grid_rbc_prediction\")\n",
    "plt.show()"
   ]
  },
  {
   "cell_type": "code",
   "execution_count": 34,
   "id": "fc059ba5",
   "metadata": {},
   "outputs": [
    {
     "name": "stdout",
     "output_type": "stream",
     "text": [
      "y_func.shape = (100, 1)\n",
      "y_gt.shape = (100, 1)\n"
     ]
    },
    {
     "data": {
      "text/plain": [
       "4.7222186914094735"
      ]
     },
     "execution_count": 34,
     "metadata": {},
     "output_type": "execute_result"
    }
   ],
   "source": [
    "get_prediction_error((lambda X: n2g.inv_convert(model.predict(X)) ), func_dict, name=\"grid-rbc\")"
   ]
  },
  {
   "cell_type": "code",
   "execution_count": 35,
   "id": "edcf26db",
   "metadata": {},
   "outputs": [
    {
     "name": "stdout",
     "output_type": "stream",
     "text": [
      "Saving figure grid_rbc_proba\n"
     ]
    },
    {
     "data": {
      "image/png": "[encoded data removed]",
      "text/plain": [
       "<Figure size 432x288 with 1 Axes>"
      ]
     },
     "metadata": {
      "needs_background": "light"
     },
     "output_type": "display_data"
    }
   ],
   "source": [
    "X_new = np.linspace(-5, 5, 100).reshape(100, 1)\n",
    "y_new_proba = model.predict(X_new)\n",
    "# y_new = n2g.inv_convert(y_new_proba)\n",
    "#\n",
    "xv, yv = np.meshgrid(X_new, np.linspace(n2g.x_min, n2g.x_max, n2g.units))\n",
    "# print(xv)\n",
    "# print(yv)\n",
    "plt.pcolormesh(xv, yv, y_new_proba.T, shading=\"nearest\")\n",
    "save_fig(\"grid_rbc_proba\")"
   ]
  },
  {
   "cell_type": "markdown",
   "id": "4064d3b5",
   "metadata": {},
   "source": [
    "### Draw the 1-sigma boundary line"
   ]
  },
  {
   "cell_type": "code",
   "execution_count": 36,
   "id": "247e8712",
   "metadata": {},
   "outputs": [
    {
     "name": "stdout",
     "output_type": "stream",
     "text": [
      "Saving figure grid_rbc_prediction_1sigma\n"
     ]
    },
    {
     "data": {
      "image/png": "[encoded data removed]",
      "text/plain": [
       "<Figure size 432x288 with 1 Axes>"
      ]
     },
     "metadata": {
      "needs_background": "light"
     },
     "output_type": "display_data"
    }
   ],
   "source": [
    "def n_sigma_boundary_line(X, n):\n",
    "    _mean, _sigma = n2g.get_statistic(model.predict(X))\n",
    "    return( _mean + n*_sigma)\n",
    "\n",
    "plt.plot(X_train, y_train, \"b.\")\n",
    "#\n",
    "draw_func((lambda X: n2g.inv_convert(model.predict(X)) ), mark='r-', linewidth=2, label=\"Predictions\")\n",
    "draw_func((lambda X: n_sigma_boundary_line(X, +1.0) ), mark='k--', linewidth=1, label=\"$\\mu+\\sigma$\")\n",
    "draw_func((lambda X: n_sigma_boundary_line(X, -1.0) ), mark='k--', linewidth=1, label=\"$\\mu-\\sigma$\")\n",
    "#\n",
    "draw_normal_func(func_dict)\n",
    "plt.xlabel(\"$x_1$\", fontsize=18)\n",
    "plt.ylabel(\"$y$\", rotation=0, fontsize=18)\n",
    "plt.legend(loc=\"upper left\", fontsize=14)\n",
    "# plt.axis([-3, 3, 0, 10])\n",
    "save_fig(\"grid_rbc_prediction_1sigma\")\n",
    "plt.show()"
   ]
  },
  {
   "cell_type": "code",
   "execution_count": null,
   "id": "e6266336",
   "metadata": {},
   "outputs": [],
   "source": []
  },
  {
   "cell_type": "markdown",
   "id": "99a85ab5",
   "metadata": {},
   "source": [
    "# Grid & Regression by Classification + Offset Estimation (grid --> grid,num)"
   ]
  },
  {
   "cell_type": "code",
   "execution_count": 37,
   "id": "26440167",
   "metadata": {},
   "outputs": [],
   "source": [
    "class num2gridOffset_np():\n",
    "    def __init__(self, units, x_min=-10, x_max=10):\n",
    "        self.units = units\n",
    "        self.x_min = x_min\n",
    "        self.x_max = x_max\n",
    "        self.x_grid = np.linspace(self.x_min, self.x_max, self.units, endpoint=True)\n",
    "        # bins\n",
    "        x_space = np.average(self.x_grid[1:] - self.x_grid[:-1])\n",
    "        print(\"x_space = %f\" % x_space)\n",
    "        x_0 = self.x_grid[0] - 0.5 * x_space\n",
    "        self.x_bins = [x_0 + _i*x_space for _i in range(len(self.x_grid)+1)]\n",
    "        print(\"self.x_grid = %s\" % str(self.x_grid))\n",
    "#         print(\"self.x_bins = %s\" % str(self.x_bins))\n",
    "        \n",
    "    def convert(self, X):\n",
    "        '''\n",
    "        Convert a batch of number to one-hot class and numerical offset to each grid's center\n",
    "        (m, 1) --> (m, n_units, 2)\n",
    "        '''\n",
    "        X = np.array(X)\n",
    "        if len(X.shape) <= 1:\n",
    "            X = X.reshape((-1,1))\n",
    "        idxs_bin = np.digitize(X, self.x_bins, right=False) \n",
    "        idxs_grid = (idxs_bin - 1) + 1*(idxs_bin<= 0) - 1*(idxs_bin>=self.units)\n",
    "        print(idxs_grid.shape)\n",
    "        #\n",
    "        batch_size = X.shape[0]\n",
    "        grid = np.zeros((batch_size, self.units, 2))\n",
    "        # Fill in the values\n",
    "        grid[np.arange(batch_size), idxs_grid.reshape((-1,)), 0] = 1.0\n",
    "        grid[np.arange(batch_size), :, 1] = X - self.x_grid.reshape((1,-1)) # Offset\n",
    "        return grid\n",
    "    \n",
    "    def inv_convert(self, grid):\n",
    "        idxs_grid = np.argmax(grid[...,0], axis=1)\n",
    "        print(idxs_grid.shape)\n",
    "        #\n",
    "        batch_size = grid.shape[0]\n",
    "        offset_est = grid[np.arange(batch_size),idxs_grid,1]\n",
    "        print(offset_est.shape)\n",
    "        num_est = self.x_grid[idxs_grid].reshape((1,-1)) + offset_est\n",
    "        return num_est.reshape((-1,))"
   ]
  },
  {
   "cell_type": "code",
   "execution_count": 38,
   "id": "8b15e9ff",
   "metadata": {},
   "outputs": [
    {
     "name": "stdout",
     "output_type": "stream",
     "text": [
      "x_space = 22.222222\n",
      "self.x_grid = [-100.          -77.77777778  -55.55555556  -33.33333333  -11.11111111\n",
      "   11.11111111   33.33333333   55.55555556   77.77777778  100.        ]\n"
     ]
    }
   ],
   "source": [
    "class_num = 10 # 10\n",
    "n2go = num2gridOffset_np(class_num, x_min=-100.0, x_max=100.0) "
   ]
  },
  {
   "cell_type": "code",
   "execution_count": 39,
   "id": "8f6e7955",
   "metadata": {},
   "outputs": [
    {
     "name": "stdout",
     "output_type": "stream",
     "text": [
      "(2, 1)\n",
      "[[[   0.           98.8       ]\n",
      "  [   0.           76.57777778]\n",
      "  [   0.           54.35555556]\n",
      "  [   0.           32.13333333]\n",
      "  [   1.            9.91111111]\n",
      "  [   0.          -12.31111111]\n",
      "  [   0.          -34.53333333]\n",
      "  [   0.          -56.75555556]\n",
      "  [   0.          -78.97777778]\n",
      "  [   0.         -101.2       ]]\n",
      "\n",
      " [[   0.          150.5       ]\n",
      "  [   0.          128.27777778]\n",
      "  [   0.          106.05555556]\n",
      "  [   0.           83.83333333]\n",
      "  [   0.           61.61111111]\n",
      "  [   0.           39.38888889]\n",
      "  [   0.           17.16666667]\n",
      "  [   1.           -5.05555556]\n",
      "  [   0.          -27.27777778]\n",
      "  [   0.          -49.5       ]]]\n"
     ]
    }
   ],
   "source": [
    "# grid_1 = n2g.convert(-1.2)\n",
    "grid_1 = n2go.convert([[-1.2], [50.5]])\n",
    "print(grid_1)"
   ]
  },
  {
   "cell_type": "code",
   "execution_count": 40,
   "id": "48840dc5",
   "metadata": {},
   "outputs": [
    {
     "name": "stdout",
     "output_type": "stream",
     "text": [
      "(2,)\n",
      "(2,)\n"
     ]
    },
    {
     "data": {
      "text/plain": [
       "array([-1.2, 50.5])"
      ]
     },
     "execution_count": 40,
     "metadata": {},
     "output_type": "execute_result"
    }
   ],
   "source": [
    "n2go.inv_convert(grid_1)"
   ]
  },
  {
   "cell_type": "markdown",
   "id": "11683cea",
   "metadata": {},
   "source": [
    "### Convert the labels to grid (pre-processing)"
   ]
  },
  {
   "cell_type": "code",
   "execution_count": 41,
   "id": "472997cf",
   "metadata": {},
   "outputs": [
    {
     "name": "stdout",
     "output_type": "stream",
     "text": [
      "(80, 1)\n",
      "(20, 1)\n"
     ]
    }
   ],
   "source": [
    "y_train_grid_offset = n2go.convert(y_train)\n",
    "y_valid_grid_offset = n2go.convert(y_valid)"
   ]
  },
  {
   "cell_type": "code",
   "execution_count": 42,
   "id": "71f08d76",
   "metadata": {},
   "outputs": [
    {
     "name": "stdout",
     "output_type": "stream",
     "text": [
      "(80, 10, 2)\n",
      "(20, 10, 2)\n"
     ]
    }
   ],
   "source": [
    "print(y_train_grid_offset.shape)\n",
    "print(y_valid_grid_offset.shape)"
   ]
  },
  {
   "cell_type": "code",
   "execution_count": 43,
   "id": "84b5b833",
   "metadata": {},
   "outputs": [
    {
     "name": "stdout",
     "output_type": "stream",
     "text": [
      "X.shape = (None, 1)\n",
      "gauss_grid.shape = (None, 5)\n"
     ]
    }
   ],
   "source": [
    "inputs = keras.layers.Input(shape=X_train.shape[1:])\n",
    "#\n",
    "z = num2grid(5,x_min=-10, x_max=10, sigma=3.0)(inputs)\n",
    "z = keras.layers.Dense(30, activation=\"selu\")(z)\n",
    "# Outputs\n",
    "z_proba = keras.layers.Dense(30, activation=\"relu\")(z)\n",
    "z_proba  = keras.layers.Dense(class_num, activation=\"softmax\")(z_proba)\n",
    "z_offset = keras.layers.Dense(class_num, activation=\"relu\")(z)\n",
    "z_offset = keras.layers.Dense(class_num)(z_offset)\n",
    "# Concatenate\n",
    "z_proba  = keras.layers.Reshape([class_num,1])(z_proba)\n",
    "z_offset = keras.layers.Reshape([class_num,1])(z_offset)\n",
    "out_cat = keras.layers.Concatenate(axis=-1)([z_proba, z_offset])\n",
    "#\n",
    "# Models for trainig and real usage\n",
    "model = keras.Model(inputs=[inputs], outputs=[out_cat])"
   ]
  },
  {
   "cell_type": "code",
   "execution_count": 44,
   "id": "e6482574",
   "metadata": {},
   "outputs": [],
   "source": [
    "# Customized loss function\n",
    "\n",
    "cce = keras.losses.CategoricalCrossentropy(reduction=keras.losses.Reduction.NONE)\n",
    "# cce(y_true, y_pred).numpy()\n",
    "\n",
    "def centerLoss_fn(y_true, y_pred):\n",
    "    #\n",
    "    y_true_proba = y_true[...,0]\n",
    "    y_true_value = y_true[...,1]\n",
    "    #\n",
    "    y_pred_proba = y_pred[...,0]\n",
    "    y_pred_value = y_pred[...,1]\n",
    "    \n",
    "    #\n",
    "    cce_loss = cce(y_true_proba, y_pred_proba) / class_num\n",
    "    #\n",
    "    y_true_value_est = tf.reduce_sum((y_true_proba * y_true_value), axis=-1)\n",
    "    y_pred_value_est = tf.reduce_sum((y_true_proba * y_pred_value), axis=-1)\n",
    "#     y_pred_value_est = tf.reduce_sum((y_pred_proba * y_pred_value), axis=-1)\n",
    "    value_loss = tf.abs(y_pred_value_est - y_true_value_est)\n",
    "    \n",
    "    # Total loss\n",
    "#     return (0.5*cce_loss + 0.5*value_loss )\n",
    "    return (0.2*cce_loss + 0.8*value_loss )\n",
    "#     return (cce_loss)\n",
    "#     return (value_loss )"
   ]
  },
  {
   "cell_type": "code",
   "execution_count": 45,
   "id": "60575755",
   "metadata": {},
   "outputs": [
    {
     "name": "stderr",
     "output_type": "stream",
     "text": [
      "C:\\Users\\benso\\anaconda3\\envs\\ml\\lib\\site-packages\\keras\\optimizer_v2\\adam.py:105: UserWarning: The `lr` argument is deprecated, use `learning_rate` instead.\n",
      "  super(Adam, self).__init__(name, **kwargs)\n"
     ]
    }
   ],
   "source": [
    "# optimizer = keras.optimizers.SGD(lr=0.1, momentum=0.9)\n",
    "optimizer = keras.optimizers.Adam(lr=0.05)\n",
    "model.compile(loss=centerLoss_fn, optimizer=optimizer)"
   ]
  },
  {
   "cell_type": "code",
   "execution_count": 46,
   "id": "09bc47a5",
   "metadata": {
    "scrolled": true
   },
   "outputs": [],
   "source": [
    "# history = model.fit(X_train, y_train_grid_offset, epochs=100,\n",
    "#                     validation_data=(X_valid, y_valid_grid_offset))"
   ]
  },
  {
   "cell_type": "code",
   "execution_count": 47,
   "id": "7ba1fe76",
   "metadata": {},
   "outputs": [],
   "source": [
    "# import pandas as pd\n",
    "\n",
    "# pd.DataFrame(history.history).plot(figsize=(8, 5))\n",
    "# plt.grid(True)\n",
    "# # plt.gca().set_ylim(0, 1)\n",
    "# save_fig(\"grid_rbcOffset_training_curve\")\n",
    "# plt.show()"
   ]
  },
  {
   "cell_type": "code",
   "execution_count": 48,
   "id": "47db8336",
   "metadata": {
    "scrolled": false
   },
   "outputs": [],
   "source": [
    "# plt.plot(X_train, y_train, \"b.\")\n",
    "# draw_func((lambda X: n2go.inv_convert(model.predict(X)) ), mark='r-', linewidth=2, label=\"Predictions\")\n",
    "# draw_normal_func(func_dict)\n",
    "# plt.xlabel(\"$x_1$\", fontsize=18)\n",
    "# plt.ylabel(\"$y$\", rotation=0, fontsize=18)\n",
    "# plt.legend(loc=\"upper left\", fontsize=14)\n",
    "# # plt.axis([-3, 3, 0, 10])\n",
    "# save_fig(\"grid_rbcOffset_prediction\")\n",
    "# plt.show()"
   ]
  },
  {
   "cell_type": "code",
   "execution_count": 49,
   "id": "46a1a384",
   "metadata": {},
   "outputs": [],
   "source": [
    "# get_prediction_error((lambda X: n2go.inv_convert(model.predict(X)) ), func_dict, name=\"grid-classOffset\")"
   ]
  },
  {
   "cell_type": "code",
   "execution_count": null,
   "id": "fff995a6",
   "metadata": {},
   "outputs": [],
   "source": []
  },
  {
   "cell_type": "markdown",
   "id": "a811f344",
   "metadata": {},
   "source": [
    "# Parametric Uncertainty/Distribution Estimation\n",
    "\n",
    "In this section, we try to estimate uncertainty (actually, fit the dataset distribution) with parametric reprecentation of a distribution instead of a discretized non-parametric representation.\n",
    "\n",
    "Possible solution includes\n",
    "- Quantile estimation with pinball loss (statistic)\n",
    "- Guassian distribution (fit a prabability distribution)"
   ]
  },
  {
   "cell_type": "markdown",
   "id": "175eb32d",
   "metadata": {},
   "source": [
    "## Quantile Estimation with Pinball Loss (grid --> parameters)\n",
    "\n",
    "Quantile estimation and pinball loss is based on the concept of statistic, which predict the value based on the rank of samples in the dataset.\n",
    "\n",
    "The outputs of the model are $(y_{10}, y_{90})$, 10% quantile prediction and 90% quantile prediction, respectively."
   ]
  },
  {
   "cell_type": "code",
   "execution_count": 50,
   "id": "1d1ef92d",
   "metadata": {},
   "outputs": [],
   "source": [
    "# quantile_list = [0.5]\n",
    "# quantile_list = [0.9]\n",
    "quantile_list = [0.1, 0.9] # Use hidden layer with 30 neurons\n",
    "# quantile_list = [0.05, 0.95]\n",
    "# quantile_list = [0.25, 0.75]\n",
    "# quantile_list = [0.1, 0.5, 0.9]\n",
    "# quantile_list = [0.1, 0.3, 0.7, 0.9]\n",
    "# quantile_list = [0.1, 0.2, 0.3, 0.4, 0.6, 0.7, 0.8, 0.9] # remove 0.5\n",
    "# quantile_list = [0.1, 0.2, 0.3, 0.4, 0.5, 0.6, 0.7, 0.8, 0.9] # Should use wider hidden layer (with many neurons) + L1 regularization\n",
    "num_quantile = len(quantile_list)"
   ]
  },
  {
   "cell_type": "code",
   "execution_count": 51,
   "id": "8e3fe57b",
   "metadata": {},
   "outputs": [
    {
     "name": "stdout",
     "output_type": "stream",
     "text": [
      "X.shape = (None, 1)\n",
      "gauss_grid.shape = (None, 5)\n"
     ]
    }
   ],
   "source": [
    "model = keras.models.Sequential([\n",
    "    num2grid(5,x_min=-10, x_max=10, sigma=3.0, input_shape=X_train.shape[1:]),\n",
    "#     num2grid(50,x_min=-10, x_max=10, sigma=0.5, input_shape=X_train.shape[1:]),\n",
    "    keras.layers.Dense(30, activation=\"relu\"),\n",
    "#     keras.layers.Dense(60, activation=\"relu\"),\n",
    "#     keras.layers.Dense(100, activation=\"relu\", kernel_regularizer=tf.keras.regularizers.l1(0.01)),\n",
    "#     keras.layers.Dense(30, activation=keras.layers.LeakyReLU(alpha=0.2) ),\n",
    "#     keras.layers.Dense(30, activation=\"selu\"),\n",
    "    keras.layers.Dense(num_quantile) # (y10, y90)\n",
    "])"
   ]
  },
  {
   "cell_type": "code",
   "execution_count": 52,
   "id": "bf131dc7",
   "metadata": {},
   "outputs": [],
   "source": [
    "# Customized loss function\n",
    "def pinballLoss_fn(y_true, y_pred, tau):\n",
    "    # tau: quantile, tau in [0.0, 1.0]\n",
    "    # y_true: label mean\n",
    "    # y_pred: predicted tau quantile\n",
    "    _q = y_true - y_pred\n",
    "    return tf.math.maximum( (tau*_q), ((tau-1.0)*_q))\n",
    "    \n",
    "def pinballLoss_10_90_fn(y_true, y_pred):\n",
    "    #\n",
    "    return pinballLoss_fn(y_true, y_pred[:,0:1], 0.1) + pinballLoss_fn(y_true, y_pred[:,1:2], 0.9)\n",
    "\n",
    "def pinballLoss_full_fn(y_true, y_pred):\n",
    "    #\n",
    "    pinball_losses = tf.stack( [pinballLoss_fn(y_true, y_pred[:, _i:(_i+1)], _tau) for _i, _tau in enumerate(quantile_list)], axis=1)\n",
    "    return tf.reduce_sum(pinball_losses, axis=1)"
   ]
  },
  {
   "cell_type": "code",
   "execution_count": 53,
   "id": "a71305d5",
   "metadata": {},
   "outputs": [],
   "source": [
    "# optimizer = keras.optimizers.SGD(lr=0.1, momentum=0.9)\n",
    "optimizer = keras.optimizers.Adam(lr=0.1)\n",
    "# model.compile(loss=pinballLoss_10_90_fn, optimizer=optimizer)\n",
    "model.compile(loss=pinballLoss_full_fn, optimizer=optimizer)"
   ]
  },
  {
   "cell_type": "code",
   "execution_count": 54,
   "id": "d935c409",
   "metadata": {
    "scrolled": true
   },
   "outputs": [
    {
     "name": "stdout",
     "output_type": "stream",
     "text": [
      "Epoch 1/100\n",
      "X.shape = (None, 1)\n",
      "gauss_grid.shape = (None, 5)\n",
      "X.shape = (None, 1)\n",
      "gauss_grid.shape = (None, 5)\n",
      "1/3 [=========>....................] - ETA: 0s - loss: 41.9506X.shape = (None, 1)\n",
      "gauss_grid.shape = (None, 5)\n",
      "3/3 [==============================] - 1s 81ms/step - loss: 41.6298 - val_loss: 32.9679\n",
      "Epoch 2/100\n",
      "3/3 [==============================] - 0s 25ms/step - loss: 39.3250 - val_loss: 30.1228\n",
      "Epoch 3/100\n",
      "3/3 [==============================] - 0s 35ms/step - loss: 35.3595 - val_loss: 25.5878\n",
      "Epoch 4/100\n",
      "3/3 [==============================] - 0s 32ms/step - loss: 29.3943 - val_loss: 19.4489\n",
      "Epoch 5/100\n",
      "3/3 [==============================] - 0s 29ms/step - loss: 22.6478 - val_loss: 13.0618\n",
      "Epoch 6/100\n",
      "3/3 [==============================] - 0s 34ms/step - loss: 16.5840 - val_loss: 10.2165\n",
      "Epoch 7/100\n",
      "3/3 [==============================] - 0s 45ms/step - loss: 12.7768 - val_loss: 10.5169\n",
      "Epoch 8/100\n",
      "3/3 [==============================] - 0s 31ms/step - loss: 10.9733 - val_loss: 10.8108\n",
      "Epoch 9/100\n",
      "3/3 [==============================] - 0s 37ms/step - loss: 10.8831 - val_loss: 10.3059\n",
      "Epoch 10/100\n",
      "3/3 [==============================] - 0s 24ms/step - loss: 10.3992 - val_loss: 8.9715\n",
      "Epoch 11/100\n",
      "3/3 [==============================] - 0s 18ms/step - loss: 9.1621 - val_loss: 7.4357\n",
      "Epoch 12/100\n",
      "3/3 [==============================] - 0s 17ms/step - loss: 8.2996 - val_loss: 5.7790\n",
      "Epoch 13/100\n",
      "3/3 [==============================] - 0s 17ms/step - loss: 7.1458 - val_loss: 4.7013\n",
      "Epoch 14/100\n",
      "3/3 [==============================] - 0s 17ms/step - loss: 6.4219 - val_loss: 5.2853\n",
      "Epoch 15/100\n",
      "3/3 [==============================] - 0s 21ms/step - loss: 6.6176 - val_loss: 5.0117\n",
      "Epoch 16/100\n",
      "3/3 [==============================] - 0s 15ms/step - loss: 6.0125 - val_loss: 5.1279\n",
      "Epoch 17/100\n",
      "3/3 [==============================] - 0s 18ms/step - loss: 5.9791 - val_loss: 5.1332\n",
      "Epoch 18/100\n",
      "3/3 [==============================] - 0s 20ms/step - loss: 5.8917 - val_loss: 4.8885\n",
      "Epoch 19/100\n",
      "3/3 [==============================] - 0s 17ms/step - loss: 5.7294 - val_loss: 4.4176\n",
      "Epoch 20/100\n",
      "3/3 [==============================] - 0s 14ms/step - loss: 5.4170 - val_loss: 3.8817\n",
      "Epoch 21/100\n",
      "3/3 [==============================] - 0s 20ms/step - loss: 5.1625 - val_loss: 3.7893\n",
      "Epoch 22/100\n",
      "3/3 [==============================] - 0s 15ms/step - loss: 5.1831 - val_loss: 3.5096\n",
      "Epoch 23/100\n",
      "3/3 [==============================] - 0s 20ms/step - loss: 4.8994 - val_loss: 3.7037\n",
      "Epoch 24/100\n",
      "3/3 [==============================] - 0s 20ms/step - loss: 4.9393 - val_loss: 4.0303\n",
      "Epoch 25/100\n",
      "3/3 [==============================] - 0s 15ms/step - loss: 4.7224 - val_loss: 4.0995\n",
      "Epoch 26/100\n",
      "3/3 [==============================] - 0s 17ms/step - loss: 4.6321 - val_loss: 4.1527\n",
      "Epoch 27/100\n",
      "3/3 [==============================] - 0s 18ms/step - loss: 4.5117 - val_loss: 3.8556\n",
      "Epoch 28/100\n",
      "3/3 [==============================] - 0s 23ms/step - loss: 4.3954 - val_loss: 3.6385\n",
      "Epoch 29/100\n",
      "3/3 [==============================] - 0s 22ms/step - loss: 4.2897 - val_loss: 3.4702\n",
      "Epoch 30/100\n",
      "3/3 [==============================] - 0s 15ms/step - loss: 4.2066 - val_loss: 3.4236\n",
      "Epoch 31/100\n",
      "3/3 [==============================] - 0s 23ms/step - loss: 4.1510 - val_loss: 3.3008\n",
      "Epoch 32/100\n",
      "3/3 [==============================] - 0s 15ms/step - loss: 4.0036 - val_loss: 3.3049\n",
      "Epoch 33/100\n",
      "3/3 [==============================] - 0s 20ms/step - loss: 3.9244 - val_loss: 3.3042\n",
      "Epoch 34/100\n",
      "3/3 [==============================] - 0s 15ms/step - loss: 3.8257 - val_loss: 3.2553\n",
      "Epoch 35/100\n",
      "3/3 [==============================] - 0s 19ms/step - loss: 3.8092 - val_loss: 3.1380\n",
      "Epoch 36/100\n",
      "3/3 [==============================] - 0s 18ms/step - loss: 3.7380 - val_loss: 3.0109\n",
      "Epoch 37/100\n",
      "3/3 [==============================] - 0s 14ms/step - loss: 3.6439 - val_loss: 2.9300\n",
      "Epoch 38/100\n",
      "3/3 [==============================] - 0s 23ms/step - loss: 3.5902 - val_loss: 3.1125\n",
      "Epoch 39/100\n",
      "3/3 [==============================] - 0s 14ms/step - loss: 3.4598 - val_loss: 3.2251\n",
      "Epoch 40/100\n",
      "3/3 [==============================] - 0s 23ms/step - loss: 3.4247 - val_loss: 3.2394\n",
      "Epoch 41/100\n",
      "3/3 [==============================] - 0s 15ms/step - loss: 3.2998 - val_loss: 2.8987\n",
      "Epoch 42/100\n",
      "3/3 [==============================] - 0s 17ms/step - loss: 3.1698 - val_loss: 2.7930\n",
      "Epoch 43/100\n",
      "3/3 [==============================] - 0s 19ms/step - loss: 3.0786 - val_loss: 2.7178\n",
      "Epoch 44/100\n",
      "3/3 [==============================] - 0s 18ms/step - loss: 3.0003 - val_loss: 2.8020\n",
      "Epoch 45/100\n",
      "3/3 [==============================] - 0s 22ms/step - loss: 3.0635 - val_loss: 3.2218\n",
      "Epoch 46/100\n",
      "3/3 [==============================] - 0s 19ms/step - loss: 3.0184 - val_loss: 2.9554\n",
      "Epoch 47/100\n",
      "3/3 [==============================] - 0s 27ms/step - loss: 2.8655 - val_loss: 2.5510\n",
      "Epoch 48/100\n",
      "3/3 [==============================] - 0s 19ms/step - loss: 2.9107 - val_loss: 2.7060\n",
      "Epoch 49/100\n",
      "3/3 [==============================] - 0s 18ms/step - loss: 2.8066 - val_loss: 2.9416\n",
      "Epoch 50/100\n",
      "3/3 [==============================] - 0s 20ms/step - loss: 2.7901 - val_loss: 2.8823\n",
      "Epoch 51/100\n",
      "3/3 [==============================] - 0s 21ms/step - loss: 2.7779 - val_loss: 2.7819\n",
      "Epoch 52/100\n",
      "3/3 [==============================] - 0s 21ms/step - loss: 2.7438 - val_loss: 2.8342\n",
      "Epoch 53/100\n",
      "3/3 [==============================] - 0s 23ms/step - loss: 2.6727 - val_loss: 2.6015\n",
      "Epoch 54/100\n",
      "3/3 [==============================] - 0s 14ms/step - loss: 2.6094 - val_loss: 2.6044\n",
      "Epoch 55/100\n",
      "3/3 [==============================] - 0s 23ms/step - loss: 2.7248 - val_loss: 2.7834\n",
      "Epoch 56/100\n",
      "3/3 [==============================] - 0s 15ms/step - loss: 2.6808 - val_loss: 2.7006\n",
      "Epoch 57/100\n",
      "3/3 [==============================] - 0s 18ms/step - loss: 2.6571 - val_loss: 2.7934\n",
      "Epoch 58/100\n",
      "3/3 [==============================] - 0s 18ms/step - loss: 2.8217 - val_loss: 2.9561\n",
      "Epoch 59/100\n",
      "3/3 [==============================] - 0s 18ms/step - loss: 3.0519 - val_loss: 3.2158\n",
      "Epoch 60/100\n",
      "3/3 [==============================] - 0s 18ms/step - loss: 2.9761 - val_loss: 2.8020\n",
      "Epoch 61/100\n",
      "3/3 [==============================] - 0s 18ms/step - loss: 2.7965 - val_loss: 2.5810\n",
      "Epoch 62/100\n",
      "3/3 [==============================] - 0s 22ms/step - loss: 2.6955 - val_loss: 2.7391\n",
      "Epoch 63/100\n",
      "3/3 [==============================] - 0s 14ms/step - loss: 2.7322 - val_loss: 3.0218\n",
      "Epoch 64/100\n",
      "3/3 [==============================] - 0s 22ms/step - loss: 2.8159 - val_loss: 2.8116\n",
      "Epoch 65/100\n",
      "3/3 [==============================] - 0s 17ms/step - loss: 2.8250 - val_loss: 2.7745\n",
      "Epoch 66/100\n",
      "3/3 [==============================] - 0s 19ms/step - loss: 2.6477 - val_loss: 3.0023\n",
      "Epoch 67/100\n",
      "3/3 [==============================] - 0s 18ms/step - loss: 2.8974 - val_loss: 2.7864\n",
      "Epoch 68/100\n",
      "3/3 [==============================] - 0s 14ms/step - loss: 2.8964 - val_loss: 2.7711\n",
      "Epoch 69/100\n",
      "3/3 [==============================] - 0s 20ms/step - loss: 2.6939 - val_loss: 2.7367\n",
      "Epoch 70/100\n",
      "3/3 [==============================] - 0s 18ms/step - loss: 2.7415 - val_loss: 2.6946\n",
      "Epoch 71/100\n",
      "3/3 [==============================] - 0s 18ms/step - loss: 2.8097 - val_loss: 3.0101\n",
      "Epoch 72/100\n",
      "3/3 [==============================] - 0s 18ms/step - loss: 2.9450 - val_loss: 2.9630\n",
      "Epoch 73/100\n",
      "3/3 [==============================] - 0s 20ms/step - loss: 2.8108 - val_loss: 2.6408\n",
      "Epoch 74/100\n",
      "3/3 [==============================] - 0s 24ms/step - loss: 2.6859 - val_loss: 2.8133\n",
      "Epoch 75/100\n",
      "3/3 [==============================] - 0s 18ms/step - loss: 2.8754 - val_loss: 2.9319\n",
      "Epoch 76/100\n",
      "3/3 [==============================] - 0s 14ms/step - loss: 2.9378 - val_loss: 2.9392\n",
      "Epoch 77/100\n",
      "3/3 [==============================] - 0s 23ms/step - loss: 2.8036 - val_loss: 2.8873\n",
      "Epoch 78/100\n",
      "3/3 [==============================] - 0s 14ms/step - loss: 2.8466 - val_loss: 2.7376\n",
      "Epoch 79/100\n",
      "3/3 [==============================] - 0s 17ms/step - loss: 2.8881 - val_loss: 2.7209\n",
      "Epoch 80/100\n",
      "3/3 [==============================] - 0s 22ms/step - loss: 2.6989 - val_loss: 2.7602\n",
      "Epoch 81/100\n"
     ]
    },
    {
     "name": "stdout",
     "output_type": "stream",
     "text": [
      "3/3 [==============================] - 0s 15ms/step - loss: 2.7147 - val_loss: 2.7969\n",
      "Epoch 82/100\n",
      "3/3 [==============================] - 0s 23ms/step - loss: 2.6489 - val_loss: 2.7755\n",
      "Epoch 83/100\n",
      "3/3 [==============================] - 0s 17ms/step - loss: 2.6476 - val_loss: 2.5738\n",
      "Epoch 84/100\n",
      "3/3 [==============================] - 0s 19ms/step - loss: 2.7430 - val_loss: 2.9011\n",
      "Epoch 85/100\n",
      "3/3 [==============================] - 0s 17ms/step - loss: 2.8398 - val_loss: 2.8188\n",
      "Epoch 86/100\n",
      "3/3 [==============================] - 0s 18ms/step - loss: 2.6922 - val_loss: 2.5787\n",
      "Epoch 87/100\n",
      "3/3 [==============================] - 0s 18ms/step - loss: 2.5598 - val_loss: 2.5734\n",
      "Epoch 88/100\n",
      "3/3 [==============================] - 0s 18ms/step - loss: 2.6984 - val_loss: 2.6897\n",
      "Epoch 89/100\n",
      "3/3 [==============================] - 0s 22ms/step - loss: 2.6100 - val_loss: 2.8095\n",
      "Epoch 90/100\n",
      "3/3 [==============================] - 0s 18ms/step - loss: 2.6782 - val_loss: 2.7038\n",
      "Epoch 91/100\n",
      "3/3 [==============================] - 0s 19ms/step - loss: 2.6152 - val_loss: 2.6045\n",
      "Epoch 92/100\n",
      "3/3 [==============================] - 0s 17ms/step - loss: 2.6798 - val_loss: 2.7587\n",
      "Epoch 93/100\n",
      "3/3 [==============================] - 0s 15ms/step - loss: 2.6640 - val_loss: 2.6590\n",
      "Epoch 94/100\n",
      "3/3 [==============================] - 0s 22ms/step - loss: 2.5573 - val_loss: 2.6894\n",
      "Epoch 95/100\n",
      "3/3 [==============================] - 0s 20ms/step - loss: 2.6826 - val_loss: 2.6873\n",
      "Epoch 96/100\n",
      "3/3 [==============================] - 0s 21ms/step - loss: 2.5859 - val_loss: 2.6824\n",
      "Epoch 97/100\n",
      "3/3 [==============================] - 0s 22ms/step - loss: 2.6247 - val_loss: 2.5212\n",
      "Epoch 98/100\n",
      "3/3 [==============================] - 0s 15ms/step - loss: 2.7020 - val_loss: 2.8754\n",
      "Epoch 99/100\n",
      "3/3 [==============================] - 0s 18ms/step - loss: 2.7307 - val_loss: 2.8176\n",
      "Epoch 100/100\n",
      "3/3 [==============================] - 0s 18ms/step - loss: 2.6134 - val_loss: 2.6204\n"
     ]
    }
   ],
   "source": [
    "history = model.fit(X_train, y_train, epochs=100,\n",
    "                    validation_data=(X_valid, y_valid))"
   ]
  },
  {
   "cell_type": "code",
   "execution_count": 55,
   "id": "e7fa5656",
   "metadata": {
    "scrolled": false
   },
   "outputs": [
    {
     "name": "stdout",
     "output_type": "stream",
     "text": [
      "Saving figure grid_quantile_training_curve\n"
     ]
    },
    {
     "data": {
      "image/png": "[encoded data removed]",
      "text/plain": [
       "<Figure size 576x360 with 1 Axes>"
      ]
     },
     "metadata": {
      "needs_background": "light"
     },
     "output_type": "display_data"
    }
   ],
   "source": [
    "import pandas as pd\n",
    "\n",
    "pd.DataFrame(history.history).plot(figsize=(8, 5))\n",
    "plt.grid(True)\n",
    "# plt.gca().set_ylim(0, 1)\n",
    "save_fig(\"grid_quantile_training_curve\")\n",
    "plt.show()"
   ]
  },
  {
   "cell_type": "markdown",
   "id": "a4a59dd6",
   "metadata": {},
   "source": [
    "### Draw the mean prediction curve averaged from all quantile predictions."
   ]
  },
  {
   "cell_type": "code",
   "execution_count": 56,
   "id": "0e5d0058",
   "metadata": {},
   "outputs": [
    {
     "name": "stdout",
     "output_type": "stream",
     "text": [
      "X.shape = (None, 1)\n",
      "gauss_grid.shape = (None, 5)\n",
      "Saving figure grid_quantile_prediction\n"
     ]
    },
    {
     "data": {
      "image/png": "[encoded data removed]",
      "text/plain": [
       "<Figure size 432x288 with 1 Axes>"
      ]
     },
     "metadata": {
      "needs_background": "light"
     },
     "output_type": "display_data"
    }
   ],
   "source": [
    "plt.plot(X_train, y_train, \"b.\")\n",
    "draw_func((lambda X: np.average(model.predict(X), axis=-1) ), mark='r-', linewidth=2, label=\"Predictions\")\n",
    "# draw_func((lambda X: model.predict(X)[:,0] ), mark='k--', linewidth=1, label=\"$y_{%d}$\" % (quantile_list[0]*100))\n",
    "# draw_func((lambda X: model.predict(X)[:,-1] ), mark='k--', linewidth=1, label=\"$y_{%d}$\" % (quantile_list[-1]*100))\n",
    "draw_normal_func(func_dict)\n",
    "plt.xlabel(\"$x_1$\", fontsize=18)\n",
    "plt.ylabel(\"$y$\", rotation=0, fontsize=18)\n",
    "plt.legend(loc=\"upper left\", fontsize=14)\n",
    "# plt.axis([-3, 3, 0, 10])\n",
    "save_fig(\"grid_quantile_prediction\")\n",
    "plt.show()"
   ]
  },
  {
   "cell_type": "code",
   "execution_count": 57,
   "id": "f98d3ae8",
   "metadata": {},
   "outputs": [
    {
     "name": "stdout",
     "output_type": "stream",
     "text": [
      "y_func.shape = (100, 1)\n",
      "y_gt.shape = (100, 1)\n"
     ]
    },
    {
     "data": {
      "text/plain": [
       "1.5266508965658552"
      ]
     },
     "execution_count": 57,
     "metadata": {},
     "output_type": "execute_result"
    }
   ],
   "source": [
    "get_prediction_error((lambda X: np.average(model.predict(X), axis=-1) ), func_dict, name=\"grid-quantileR\")"
   ]
  },
  {
   "cell_type": "markdown",
   "id": "f79ac920",
   "metadata": {},
   "source": [
    "### Draw first and last quantile curve."
   ]
  },
  {
   "cell_type": "code",
   "execution_count": 58,
   "id": "42eeb254",
   "metadata": {},
   "outputs": [
    {
     "name": "stdout",
     "output_type": "stream",
     "text": [
      "Saving figure grid_quantile_boundary_quantiles\n"
     ]
    },
    {
     "data": {
      "image/png": "[encoded data removed]",
      "text/plain": [
       "<Figure size 432x288 with 1 Axes>"
      ]
     },
     "metadata": {
      "needs_background": "light"
     },
     "output_type": "display_data"
    }
   ],
   "source": [
    "plt.plot(X_train, y_train, \"b.\")\n",
    "draw_func((lambda X: np.average(model.predict(X), axis=-1) ), mark='r-', linewidth=2, label=\"Predictions\")\n",
    "draw_func((lambda X: model.predict(X)[:,0] ), mark='k--', linewidth=1, label=\"$y_{%d}$\" % (quantile_list[0]*100))\n",
    "draw_func((lambda X: model.predict(X)[:,-1] ), mark='k--', linewidth=1, label=\"$y_{%d}$\" % (quantile_list[-1]*100))\n",
    "draw_normal_func(func_dict)\n",
    "plt.xlabel(\"$x_1$\", fontsize=18)\n",
    "plt.ylabel(\"$y$\", rotation=0, fontsize=18)\n",
    "plt.legend(loc=\"upper left\", fontsize=14)\n",
    "# plt.axis([-3, 3, 0, 10])\n",
    "save_fig(\"grid_quantile_boundary_quantiles\")\n",
    "plt.show()"
   ]
  },
  {
   "cell_type": "markdown",
   "id": "2a1b1b44",
   "metadata": {},
   "source": [
    "### Draw all quantile predictions"
   ]
  },
  {
   "cell_type": "code",
   "execution_count": 59,
   "id": "5e875238",
   "metadata": {},
   "outputs": [
    {
     "name": "stdout",
     "output_type": "stream",
     "text": [
      "Saving figure grid_quantile_all_quantiles\n"
     ]
    },
    {
     "data": {
      "image/png": "[encoded data removed]",
      "text/plain": [
       "<Figure size 432x288 with 1 Axes>"
      ]
     },
     "metadata": {
      "needs_background": "light"
     },
     "output_type": "display_data"
    }
   ],
   "source": [
    "plt.plot(X_train, y_train, \"b.\")\n",
    "draw_func((lambda X: np.average(model.predict(X), axis=-1) ), mark='r-', linewidth=2, label=\"Predictions\")\n",
    "for _idx, _tau in enumerate(quantile_list):\n",
    "    draw_func((lambda X: model.predict(X)[:,_idx] ), mark='k--', linewidth=1, label=\"$y_{%d}$\" % (_tau*100))\n",
    "draw_normal_func(func_dict)\n",
    "plt.xlabel(\"$x_1$\", fontsize=18)\n",
    "plt.ylabel(\"$y$\", rotation=0, fontsize=18)\n",
    "plt.legend(loc=\"upper left\", fontsize=14)\n",
    "# plt.axis([-3, 3, 0, 10])\n",
    "save_fig(\"grid_quantile_all_quantiles\")\n",
    "plt.show()"
   ]
  },
  {
   "cell_type": "markdown",
   "id": "9a01aa69",
   "metadata": {},
   "source": [
    "## Gaussian Estimation with Gaussian Loss (grid-->parameters)\n",
    "\n",
    "Gaussain estimation requires the model to predict the mean and variance of a Gaussian distribution of the random variable regarded. The training purpose is to fit a Gaussian distribution to the data distribution (which is not necessay distributed as Gaussian).\n",
    "\n",
    "One possible solution, derived by BensonHuang, is that the model estimates $(\\mu, z)$, where $z=\\alpha ^{-1}log(\\sigma)$.\n",
    "The associated loss function can be $L_G(y, (\\mu,z)) = 0.5e^{-2\\alpha z}(y-\\mu)^2 + \\alpha z$."
   ]
  },
  {
   "cell_type": "code",
   "execution_count": 60,
   "id": "1a20d5dd",
   "metadata": {},
   "outputs": [],
   "source": [
    "alpha = 1.0\n",
    "# alpha = 0.01\n",
    "# alpha = 0.001"
   ]
  },
  {
   "cell_type": "code",
   "execution_count": 61,
   "id": "cb202ed2",
   "metadata": {},
   "outputs": [
    {
     "name": "stdout",
     "output_type": "stream",
     "text": [
      "X.shape = (None, 1)\n",
      "gauss_grid.shape = (None, 5)\n"
     ]
    }
   ],
   "source": [
    "model = keras.models.Sequential([\n",
    "    num2grid(5,x_min=-10, x_max=10, sigma=3.0, input_shape=X_train.shape[1:]),\n",
    "#     keras.layers.Dense(30, activation=\"relu\"),\n",
    "    keras.layers.Dense(60, activation=\"relu\"),\n",
    "#     keras.layers.Dense(30, activation=keras.layers.LeakyReLU(alpha=0.2) ),\n",
    "#     keras.layers.Dense(30, activation=\"selu\"),\n",
    "    keras.layers.Dense(2) # (mu, z)\n",
    "])"
   ]
  },
  {
   "cell_type": "code",
   "execution_count": 62,
   "id": "925f0a22",
   "metadata": {},
   "outputs": [
    {
     "name": "stdout",
     "output_type": "stream",
     "text": [
      "alpha = 1.000000\n"
     ]
    }
   ],
   "source": [
    "# Customized loss function\n",
    "print(\"alpha = %f\" % alpha)\n",
    "\n",
    "def GaussianLoss_fn(y_true, y_pred):\n",
    "    # y_true: label \n",
    "    # y_pred: (mu, z), z=log(sigma)\n",
    "    mu = y_pred[:, 0:1]\n",
    "    z  = y_pred[:, 1:2]\n",
    "    #\n",
    "    en2z = tf.math.exp((-2.0*alpha)*z)\n",
    "    ymu2 = (y_true - mu)**2\n",
    "    return (0.5*en2z*ymu2 + alpha*z)"
   ]
  },
  {
   "cell_type": "code",
   "execution_count": 63,
   "id": "1b388b4b",
   "metadata": {},
   "outputs": [],
   "source": [
    "# Learning rate scheduler\n",
    "learning_rate_switch_epoch_list = [30, 45]\n",
    "learning_rate_list = [0.001, 0.01, 0.1]\n",
    "# learning_rate_switch_epoch_list = [30, 80]\n",
    "# learning_rate_list = [0.01, 0.1, 0.01]\n",
    "#\n",
    "def piecewise_constant_fn(epoch):\n",
    "    for _i, epoch_s in enumerate(learning_rate_switch_epoch_list):\n",
    "        if epoch < epoch_s:\n",
    "            return learning_rate_list[_i]\n",
    "    return learning_rate_list[-1]\n",
    "\n",
    "lr_scheduler = keras.callbacks.LearningRateScheduler(piecewise_constant_fn)"
   ]
  },
  {
   "cell_type": "markdown",
   "id": "6ec2e05e",
   "metadata": {},
   "source": [
    "Third training with even greater speed"
   ]
  },
  {
   "cell_type": "code",
   "execution_count": 64,
   "id": "7a7e245b",
   "metadata": {},
   "outputs": [
    {
     "name": "stderr",
     "output_type": "stream",
     "text": [
      "C:\\Users\\benso\\anaconda3\\envs\\ml\\lib\\site-packages\\keras\\optimizer_v2\\adam.py:105: UserWarning: The `lr` argument is deprecated, use `learning_rate` instead.\n",
      "  super(Adam, self).__init__(name, **kwargs)\n"
     ]
    }
   ],
   "source": [
    "# optimizer = keras.optimizers.SGD(lr=0.1, momentum=0.9)\n",
    "optimizer = keras.optimizers.Adam(lr=0.1)\n",
    "model.compile(loss=GaussianLoss_fn, optimizer=optimizer)"
   ]
  },
  {
   "cell_type": "code",
   "execution_count": 65,
   "id": "6d7b74a9",
   "metadata": {
    "scrolled": true
   },
   "outputs": [
    {
     "name": "stdout",
     "output_type": "stream",
     "text": [
      "Epoch 1/200\n",
      "X.shape = (None, 1)\n",
      "gauss_grid.shape = (None, 5)\n",
      "X.shape = (None, 1)\n",
      "gauss_grid.shape = (None, 5)\n",
      "1/3 [=========>....................] - ETA: 0s - loss: 1027.5425X.shape = (None, 1)\n",
      "gauss_grid.shape = (None, 5)\n",
      "3/3 [==============================] - 1s 94ms/step - loss: 416.8192 - val_loss: 6.5769\n",
      "Epoch 2/200\n",
      "3/3 [==============================] - 0s 19ms/step - loss: 8.1379 - val_loss: 12.0419\n",
      "Epoch 3/200\n",
      "3/3 [==============================] - 0s 37ms/step - loss: 13.1581 - val_loss: 15.9639\n",
      "Epoch 4/200\n",
      "3/3 [==============================] - 0s 33ms/step - loss: 16.6455 - val_loss: 18.4878\n",
      "Epoch 5/200\n",
      "3/3 [==============================] - 0s 33ms/step - loss: 18.7443 - val_loss: 19.6475\n",
      "Epoch 6/200\n",
      "3/3 [==============================] - 0s 37ms/step - loss: 19.4570 - val_loss: 19.3759\n",
      "Epoch 7/200\n",
      "3/3 [==============================] - 0s 27ms/step - loss: 18.8162 - val_loss: 17.8363\n",
      "Epoch 8/200\n",
      "3/3 [==============================] - 0s 27ms/step - loss: 16.9568 - val_loss: 15.1128\n",
      "Epoch 9/200\n",
      "3/3 [==============================] - 0s 33ms/step - loss: 13.9502 - val_loss: 11.2634\n",
      "Epoch 10/200\n",
      "3/3 [==============================] - 0s 17ms/step - loss: 9.8466 - val_loss: 6.3467\n",
      "Epoch 11/200\n",
      "3/3 [==============================] - 0s 19ms/step - loss: 7.0192 - val_loss: 4.3695\n",
      "Epoch 12/200\n",
      "3/3 [==============================] - 0s 17ms/step - loss: 4.8105 - val_loss: 6.6331\n",
      "Epoch 13/200\n",
      "3/3 [==============================] - 0s 29ms/step - loss: 6.8450 - val_loss: 8.1972\n",
      "Epoch 14/200\n",
      "3/3 [==============================] - 0s 14ms/step - loss: 8.0613 - val_loss: 8.7392\n",
      "Epoch 15/200\n",
      "3/3 [==============================] - 0s 23ms/step - loss: 8.3302 - val_loss: 8.4970\n",
      "Epoch 16/200\n",
      "3/3 [==============================] - 0s 13ms/step - loss: 7.8971 - val_loss: 7.6537\n",
      "Epoch 17/200\n",
      "3/3 [==============================] - 0s 21ms/step - loss: 6.9223 - val_loss: 6.3544\n",
      "Epoch 18/200\n",
      "3/3 [==============================] - 0s 19ms/step - loss: 5.5665 - val_loss: 4.9161\n",
      "Epoch 19/200\n",
      "3/3 [==============================] - 0s 17ms/step - loss: 4.8686 - val_loss: 4.4793\n",
      "Epoch 20/200\n",
      "3/3 [==============================] - 0s 18ms/step - loss: 4.3854 - val_loss: 4.0442\n",
      "Epoch 21/200\n",
      "3/3 [==============================] - 0s 25ms/step - loss: 4.0478 - val_loss: 4.3930\n",
      "Epoch 22/200\n",
      "3/3 [==============================] - 0s 23ms/step - loss: 4.3473 - val_loss: 4.4087\n",
      "Epoch 23/200\n",
      "3/3 [==============================] - 0s 18ms/step - loss: 4.4234 - val_loss: 4.2991\n",
      "Epoch 24/200\n",
      "3/3 [==============================] - 0s 18ms/step - loss: 4.3511 - val_loss: 4.1732\n",
      "Epoch 25/200\n",
      "3/3 [==============================] - 0s 18ms/step - loss: 4.1155 - val_loss: 4.0686\n",
      "Epoch 26/200\n",
      "3/3 [==============================] - 0s 19ms/step - loss: 3.9033 - val_loss: 4.0557\n",
      "Epoch 27/200\n",
      "3/3 [==============================] - 0s 21ms/step - loss: 3.9129 - val_loss: 3.9735\n",
      "Epoch 28/200\n",
      "3/3 [==============================] - 0s 22ms/step - loss: 3.8796 - val_loss: 3.9883\n",
      "Epoch 29/200\n",
      "3/3 [==============================] - 0s 20ms/step - loss: 3.8763 - val_loss: 3.9579\n",
      "Epoch 30/200\n",
      "3/3 [==============================] - 0s 23ms/step - loss: 3.8194 - val_loss: 3.9029\n",
      "Epoch 31/200\n",
      "3/3 [==============================] - 0s 18ms/step - loss: 3.7519 - val_loss: 4.0331\n",
      "Epoch 32/200\n",
      "3/3 [==============================] - 0s 13ms/step - loss: 3.7998 - val_loss: 3.9205\n",
      "Epoch 33/200\n",
      "3/3 [==============================] - 0s 21ms/step - loss: 3.7274 - val_loss: 3.8552\n",
      "Epoch 34/200\n",
      "3/3 [==============================] - 0s 25ms/step - loss: 3.7136 - val_loss: 3.8310\n",
      "Epoch 35/200\n",
      "3/3 [==============================] - 0s 25ms/step - loss: 3.6866 - val_loss: 3.8247\n",
      "Epoch 36/200\n",
      "3/3 [==============================] - 0s 19ms/step - loss: 3.6646 - val_loss: 3.7975\n",
      "Epoch 37/200\n",
      "3/3 [==============================] - 0s 18ms/step - loss: 3.6476 - val_loss: 3.7728\n",
      "Epoch 38/200\n",
      "3/3 [==============================] - 0s 20ms/step - loss: 3.6276 - val_loss: 3.7547\n",
      "Epoch 39/200\n",
      "3/3 [==============================] - 0s 21ms/step - loss: 3.6059 - val_loss: 3.7634\n",
      "Epoch 40/200\n",
      "3/3 [==============================] - 0s 23ms/step - loss: 3.5894 - val_loss: 3.7095\n",
      "Epoch 41/200\n",
      "3/3 [==============================] - 0s 24ms/step - loss: 3.5726 - val_loss: 3.6794\n",
      "Epoch 42/200\n",
      "3/3 [==============================] - 0s 18ms/step - loss: 3.5493 - val_loss: 3.6517\n",
      "Epoch 43/200\n",
      "3/3 [==============================] - 0s 27ms/step - loss: 3.5281 - val_loss: 3.6353\n",
      "Epoch 44/200\n",
      "3/3 [==============================] - 0s 18ms/step - loss: 3.5180 - val_loss: 3.5968\n",
      "Epoch 45/200\n",
      "3/3 [==============================] - 0s 19ms/step - loss: 3.4869 - val_loss: 3.5634\n",
      "Epoch 46/200\n",
      "3/3 [==============================] - 0s 24ms/step - loss: 3.4625 - val_loss: 3.5310\n",
      "Epoch 47/200\n",
      "3/3 [==============================] - 0s 21ms/step - loss: 3.4390 - val_loss: 3.4883\n",
      "Epoch 48/200\n",
      "3/3 [==============================] - 0s 18ms/step - loss: 3.4304 - val_loss: 3.4543\n",
      "Epoch 49/200\n",
      "3/3 [==============================] - 0s 27ms/step - loss: 3.3904 - val_loss: 3.4267\n",
      "Epoch 50/200\n",
      "3/3 [==============================] - 0s 31ms/step - loss: 3.3946 - val_loss: 3.3855\n",
      "Epoch 51/200\n",
      "3/3 [==============================] - 0s 17ms/step - loss: 3.3552 - val_loss: 3.3680\n",
      "Epoch 52/200\n",
      "3/3 [==============================] - 0s 17ms/step - loss: 3.3541 - val_loss: 3.3144\n",
      "Epoch 53/200\n",
      "3/3 [==============================] - 0s 31ms/step - loss: 3.3399 - val_loss: 3.3094\n",
      "Epoch 54/200\n",
      "3/3 [==============================] - 0s 30ms/step - loss: 3.3048 - val_loss: 3.3046\n",
      "Epoch 55/200\n",
      "3/3 [==============================] - 0s 33ms/step - loss: 3.2991 - val_loss: 3.3022\n",
      "Epoch 56/200\n",
      "3/3 [==============================] - 0s 18ms/step - loss: 3.2912 - val_loss: 3.2927\n",
      "Epoch 57/200\n",
      "3/3 [==============================] - 0s 26ms/step - loss: 3.2859 - val_loss: 3.2662\n",
      "Epoch 58/200\n",
      "3/3 [==============================] - 0s 28ms/step - loss: 3.2746 - val_loss: 3.2486\n",
      "Epoch 59/200\n",
      "3/3 [==============================] - 0s 30ms/step - loss: 3.2713 - val_loss: 3.2333\n",
      "Epoch 60/200\n",
      "3/3 [==============================] - 0s 30ms/step - loss: 3.2656 - val_loss: 3.2489\n",
      "Epoch 61/200\n",
      "3/3 [==============================] - 0s 19ms/step - loss: 3.2592 - val_loss: 3.2452\n",
      "Epoch 62/200\n",
      "3/3 [==============================] - 0s 18ms/step - loss: 3.2616 - val_loss: 3.2588\n",
      "Epoch 63/200\n",
      "3/3 [==============================] - 0s 25ms/step - loss: 3.2525 - val_loss: 3.2426\n",
      "Epoch 64/200\n",
      "3/3 [==============================] - 0s 25ms/step - loss: 3.2482 - val_loss: 3.2214\n",
      "Epoch 65/200\n",
      "3/3 [==============================] - 0s 31ms/step - loss: 3.2431 - val_loss: 3.2123\n",
      "Epoch 66/200\n",
      "3/3 [==============================] - 0s 19ms/step - loss: 3.2472 - val_loss: 3.2182\n",
      "Epoch 67/200\n",
      "3/3 [==============================] - 0s 26ms/step - loss: 3.2332 - val_loss: 3.2219\n",
      "Epoch 68/200\n",
      "3/3 [==============================] - 0s 30ms/step - loss: 3.2340 - val_loss: 3.2093\n",
      "Epoch 69/200\n",
      "3/3 [==============================] - 0s 36ms/step - loss: 3.2407 - val_loss: 3.2007\n",
      "Epoch 70/200\n",
      "3/3 [==============================] - 0s 34ms/step - loss: 3.2147 - val_loss: 3.2300\n",
      "Epoch 71/200\n",
      "3/3 [==============================] - 0s 31ms/step - loss: 3.2320 - val_loss: 3.2543\n",
      "Epoch 72/200\n",
      "3/3 [==============================] - 0s 34ms/step - loss: 3.2231 - val_loss: 3.2811\n",
      "Epoch 73/200\n",
      "3/3 [==============================] - 0s 23ms/step - loss: 3.2299 - val_loss: 3.2005\n",
      "Epoch 74/200\n",
      "3/3 [==============================] - 0s 19ms/step - loss: 3.2088 - val_loss: 3.1743\n",
      "Epoch 75/200\n",
      "3/3 [==============================] - 0s 27ms/step - loss: 3.2142 - val_loss: 3.1860\n",
      "Epoch 76/200\n",
      "3/3 [==============================] - 0s 35ms/step - loss: 3.2245 - val_loss: 3.1975\n",
      "Epoch 77/200\n",
      "3/3 [==============================] - 0s 30ms/step - loss: 3.1977 - val_loss: 3.2371\n",
      "Epoch 78/200\n",
      "3/3 [==============================] - 0s 29ms/step - loss: 3.2048 - val_loss: 3.2151\n",
      "Epoch 79/200\n",
      "3/3 [==============================] - 0s 15ms/step - loss: 3.1971 - val_loss: 3.1897\n",
      "Epoch 80/200\n",
      "3/3 [==============================] - 0s 29ms/step - loss: 3.1895 - val_loss: 3.1751\n",
      "Epoch 81/200\n"
     ]
    },
    {
     "name": "stdout",
     "output_type": "stream",
     "text": [
      "3/3 [==============================] - 0s 37ms/step - loss: 3.1906 - val_loss: 3.1776\n",
      "Epoch 82/200\n",
      "3/3 [==============================] - 0s 23ms/step - loss: 3.1839 - val_loss: 3.1614\n",
      "Epoch 83/200\n",
      "3/3 [==============================] - 0s 27ms/step - loss: 3.1756 - val_loss: 3.1489\n",
      "Epoch 84/200\n",
      "3/3 [==============================] - 0s 19ms/step - loss: 3.1785 - val_loss: 3.1545\n",
      "Epoch 85/200\n",
      "3/3 [==============================] - 0s 20ms/step - loss: 3.1578 - val_loss: 3.1746\n",
      "Epoch 86/200\n",
      "3/3 [==============================] - 0s 15ms/step - loss: 3.1627 - val_loss: 3.1753\n",
      "Epoch 87/200\n",
      "3/3 [==============================] - 0s 18ms/step - loss: 3.1613 - val_loss: 3.1769\n",
      "Epoch 88/200\n",
      "3/3 [==============================] - 0s 19ms/step - loss: 3.1503 - val_loss: 3.1488\n",
      "Epoch 89/200\n",
      "3/3 [==============================] - 0s 18ms/step - loss: 3.1479 - val_loss: 3.1212\n",
      "Epoch 90/200\n",
      "3/3 [==============================] - 0s 15ms/step - loss: 3.1421 - val_loss: 3.1185\n",
      "Epoch 91/200\n",
      "3/3 [==============================] - 0s 21ms/step - loss: 3.1360 - val_loss: 3.1437\n",
      "Epoch 92/200\n",
      "3/3 [==============================] - 0s 19ms/step - loss: 3.1312 - val_loss: 3.1769\n",
      "Epoch 93/200\n",
      "3/3 [==============================] - 0s 23ms/step - loss: 3.1338 - val_loss: 3.1514\n",
      "Epoch 94/200\n",
      "3/3 [==============================] - 0s 13ms/step - loss: 3.1251 - val_loss: 3.1208\n",
      "Epoch 95/200\n",
      "3/3 [==============================] - 0s 22ms/step - loss: 3.1168 - val_loss: 3.1110\n",
      "Epoch 96/200\n",
      "3/3 [==============================] - 0s 13ms/step - loss: 3.1199 - val_loss: 3.1107\n",
      "Epoch 97/200\n",
      "3/3 [==============================] - 0s 22ms/step - loss: 3.1152 - val_loss: 3.1136\n",
      "Epoch 98/200\n",
      "3/3 [==============================] - 0s 14ms/step - loss: 3.1038 - val_loss: 3.1124\n",
      "Epoch 99/200\n",
      "3/3 [==============================] - 0s 22ms/step - loss: 3.1331 - val_loss: 3.1220\n",
      "Epoch 100/200\n",
      "3/3 [==============================] - 0s 14ms/step - loss: 3.0922 - val_loss: 3.1503\n",
      "Epoch 101/200\n",
      "3/3 [==============================] - 0s 22ms/step - loss: 3.1071 - val_loss: 3.0749\n",
      "Epoch 102/200\n",
      "3/3 [==============================] - 0s 17ms/step - loss: 3.0854 - val_loss: 3.0646\n",
      "Epoch 103/200\n",
      "3/3 [==============================] - 0s 17ms/step - loss: 3.0757 - val_loss: 3.0621\n",
      "Epoch 104/200\n",
      "3/3 [==============================] - 0s 17ms/step - loss: 3.0732 - val_loss: 3.0930\n",
      "Epoch 105/200\n",
      "3/3 [==============================] - 0s 18ms/step - loss: 3.0628 - val_loss: 3.0943\n",
      "Epoch 106/200\n",
      "3/3 [==============================] - 0s 22ms/step - loss: 3.0707 - val_loss: 3.0800\n",
      "Epoch 107/200\n",
      "3/3 [==============================] - 0s 23ms/step - loss: 3.0758 - val_loss: 3.0689\n",
      "Epoch 108/200\n",
      "3/3 [==============================] - 0s 23ms/step - loss: 3.0352 - val_loss: 3.0704\n",
      "Epoch 109/200\n",
      "3/3 [==============================] - 0s 13ms/step - loss: 3.0420 - val_loss: 3.0415\n",
      "Epoch 110/200\n",
      "3/3 [==============================] - 0s 22ms/step - loss: 3.0323 - val_loss: 3.0428\n",
      "Epoch 111/200\n",
      "3/3 [==============================] - 0s 17ms/step - loss: 3.0151 - val_loss: 3.0497\n",
      "Epoch 112/200\n",
      "3/3 [==============================] - 0s 17ms/step - loss: 3.0361 - val_loss: 3.0711\n",
      "Epoch 113/200\n",
      "3/3 [==============================] - 0s 23ms/step - loss: 3.0374 - val_loss: 3.0436\n",
      "Epoch 114/200\n",
      "3/3 [==============================] - 0s 13ms/step - loss: 2.9991 - val_loss: 3.0360\n",
      "Epoch 115/200\n",
      "3/3 [==============================] - 0s 21ms/step - loss: 3.0175 - val_loss: 2.9960\n",
      "Epoch 116/200\n",
      "3/3 [==============================] - 0s 14ms/step - loss: 2.9782 - val_loss: 3.0154\n",
      "Epoch 117/200\n",
      "3/3 [==============================] - 0s 18ms/step - loss: 2.9826 - val_loss: 3.0352\n",
      "Epoch 118/200\n",
      "3/3 [==============================] - 0s 22ms/step - loss: 2.9694 - val_loss: 3.0492\n",
      "Epoch 119/200\n",
      "3/3 [==============================] - 0s 13ms/step - loss: 2.9693 - val_loss: 2.9867\n",
      "Epoch 120/200\n",
      "3/3 [==============================] - 0s 22ms/step - loss: 2.9492 - val_loss: 2.9863\n",
      "Epoch 121/200\n",
      "3/3 [==============================] - 0s 17ms/step - loss: 2.9598 - val_loss: 3.0023\n",
      "Epoch 122/200\n",
      "3/3 [==============================] - 0s 18ms/step - loss: 2.9421 - val_loss: 3.0304\n",
      "Epoch 123/200\n",
      "3/3 [==============================] - 0s 17ms/step - loss: 2.9790 - val_loss: 2.9963\n",
      "Epoch 124/200\n",
      "3/3 [==============================] - 0s 21ms/step - loss: 2.9739 - val_loss: 2.9917\n",
      "Epoch 125/200\n",
      "3/3 [==============================] - 0s 20ms/step - loss: 2.9604 - val_loss: 2.9733\n",
      "Epoch 126/200\n",
      "3/3 [==============================] - 0s 17ms/step - loss: 2.9255 - val_loss: 2.9696\n",
      "Epoch 127/200\n",
      "3/3 [==============================] - 0s 17ms/step - loss: 2.9298 - val_loss: 2.9394\n",
      "Epoch 128/200\n",
      "3/3 [==============================] - ETA: 0s - loss: 2.829 - 0s 23ms/step - loss: 2.9114 - val_loss: 3.0162\n",
      "Epoch 129/200\n",
      "3/3 [==============================] - 0s 15ms/step - loss: 2.9228 - val_loss: 3.0266\n",
      "Epoch 130/200\n",
      "3/3 [==============================] - 0s 19ms/step - loss: 2.9051 - val_loss: 2.9582\n",
      "Epoch 131/200\n",
      "3/3 [==============================] - 0s 18ms/step - loss: 2.8734 - val_loss: 2.9260\n",
      "Epoch 132/200\n",
      "3/3 [==============================] - 0s 22ms/step - loss: 2.8767 - val_loss: 2.9149\n",
      "Epoch 133/200\n",
      "3/3 [==============================] - 0s 22ms/step - loss: 2.8469 - val_loss: 2.9239\n",
      "Epoch 134/200\n",
      "3/3 [==============================] - 0s 17ms/step - loss: 2.8878 - val_loss: 2.9536\n",
      "Epoch 135/200\n",
      "3/3 [==============================] - 0s 17ms/step - loss: 2.8550 - val_loss: 2.9566\n",
      "Epoch 136/200\n",
      "3/3 [==============================] - 0s 22ms/step - loss: 2.8237 - val_loss: 2.9839\n",
      "Epoch 137/200\n",
      "3/3 [==============================] - 0s 13ms/step - loss: 2.8130 - val_loss: 2.9043\n",
      "Epoch 138/200\n",
      "3/3 [==============================] - 0s 22ms/step - loss: 2.8444 - val_loss: 2.9229\n",
      "Epoch 139/200\n",
      "3/3 [==============================] - 0s 13ms/step - loss: 2.7876 - val_loss: 2.9747\n",
      "Epoch 140/200\n",
      "3/3 [==============================] - 0s 21ms/step - loss: 2.8998 - val_loss: 2.9489\n",
      "Epoch 141/200\n",
      "3/3 [==============================] - 0s 17ms/step - loss: 2.8606 - val_loss: 2.9359\n",
      "Epoch 142/200\n",
      "3/3 [==============================] - 0s 17ms/step - loss: 2.8021 - val_loss: 2.9859\n",
      "Epoch 143/200\n",
      "3/3 [==============================] - 0s 20ms/step - loss: 2.7848 - val_loss: 2.9324\n",
      "Epoch 144/200\n",
      "3/3 [==============================] - 0s 24ms/step - loss: 2.7924 - val_loss: 2.8594\n",
      "Epoch 145/200\n",
      "3/3 [==============================] - 0s 13ms/step - loss: 2.7501 - val_loss: 2.8791\n",
      "Epoch 146/200\n",
      "3/3 [==============================] - 0s 21ms/step - loss: 2.7779 - val_loss: 2.8995\n",
      "Epoch 147/200\n",
      "3/3 [==============================] - 0s 23ms/step - loss: 2.7320 - val_loss: 3.0331\n",
      "Epoch 148/200\n",
      "3/3 [==============================] - 0s 20ms/step - loss: 2.7727 - val_loss: 2.9296\n",
      "Epoch 149/200\n",
      "3/3 [==============================] - 0s 17ms/step - loss: 2.8755 - val_loss: 3.0021\n",
      "Epoch 150/200\n",
      "3/3 [==============================] - 0s 21ms/step - loss: 2.7719 - val_loss: 3.0144\n",
      "Epoch 151/200\n",
      "3/3 [==============================] - 0s 21ms/step - loss: 2.9332 - val_loss: 2.9849\n",
      "Epoch 152/200\n",
      "3/3 [==============================] - 0s 16ms/step - loss: 2.8649 - val_loss: 2.9652\n",
      "Epoch 153/200\n",
      "3/3 [==============================] - 0s 18ms/step - loss: 2.7372 - val_loss: 2.9730\n",
      "Epoch 154/200\n",
      "3/3 [==============================] - 0s 16ms/step - loss: 2.7811 - val_loss: 2.8791\n",
      "Epoch 155/200\n",
      "3/3 [==============================] - 0s 21ms/step - loss: 2.7627 - val_loss: 2.9462\n",
      "Epoch 156/200\n",
      "3/3 [==============================] - 0s 22ms/step - loss: 2.8419 - val_loss: 2.9644\n",
      "Epoch 157/200\n",
      "3/3 [==============================] - 0s 17ms/step - loss: 2.9633 - val_loss: 3.0957\n",
      "Epoch 158/200\n",
      "3/3 [==============================] - 0s 17ms/step - loss: 3.0503 - val_loss: 3.0959\n",
      "Epoch 159/200\n",
      "3/3 [==============================] - 0s 21ms/step - loss: 2.8558 - val_loss: 2.9775\n",
      "Epoch 160/200\n",
      "3/3 [==============================] - 0s 21ms/step - loss: 2.7884 - val_loss: 2.8232\n",
      "Epoch 161/200\n",
      "3/3 [==============================] - 0s 17ms/step - loss: 2.7628 - val_loss: 2.8822\n",
      "Epoch 162/200\n",
      "3/3 [==============================] - 0s 17ms/step - loss: 2.7887 - val_loss: 2.8586\n",
      "Epoch 163/200\n"
     ]
    },
    {
     "name": "stdout",
     "output_type": "stream",
     "text": [
      "3/3 [==============================] - 0s 20ms/step - loss: 2.7631 - val_loss: 2.8797\n",
      "Epoch 164/200\n",
      "3/3 [==============================] - 0s 22ms/step - loss: 2.7409 - val_loss: 3.0212\n",
      "Epoch 165/200\n",
      "3/3 [==============================] - 0s 18ms/step - loss: 2.7767 - val_loss: 2.8137\n",
      "Epoch 166/200\n",
      "3/3 [==============================] - 0s 17ms/step - loss: 2.7851 - val_loss: 3.0449\n",
      "Epoch 167/200\n",
      "3/3 [==============================] - 0s 16ms/step - loss: 2.8163 - val_loss: 2.8345\n",
      "Epoch 168/200\n",
      "3/3 [==============================] - 0s 17ms/step - loss: 2.9022 - val_loss: 2.9330\n",
      "Epoch 169/200\n",
      "3/3 [==============================] - 0s 21ms/step - loss: 2.9373 - val_loss: 3.1545\n",
      "Epoch 170/200\n",
      "3/3 [==============================] - 0s 17ms/step - loss: 3.0939 - val_loss: 3.2330\n",
      "Epoch 171/200\n",
      "3/3 [==============================] - 0s 22ms/step - loss: 2.9837 - val_loss: 2.9066\n",
      "Epoch 172/200\n",
      "3/3 [==============================] - 0s 14ms/step - loss: 2.7360 - val_loss: 2.9011\n",
      "Epoch 173/200\n",
      "3/3 [==============================] - 0s 23ms/step - loss: 2.9048 - val_loss: 3.0420\n",
      "Epoch 174/200\n",
      "3/3 [==============================] - 0s 18ms/step - loss: 3.0513 - val_loss: 3.0562\n",
      "Epoch 175/200\n",
      "3/3 [==============================] - 0s 17ms/step - loss: 2.8293 - val_loss: 3.4889\n",
      "Epoch 176/200\n",
      "3/3 [==============================] - ETA: 0s - loss: 3.082 - 0s 22ms/step - loss: 2.8722 - val_loss: 2.9972\n",
      "Epoch 177/200\n",
      "3/3 [==============================] - 0s 14ms/step - loss: 2.8736 - val_loss: 2.7988\n",
      "Epoch 178/200\n",
      "3/3 [==============================] - 0s 20ms/step - loss: 2.7247 - val_loss: 2.7909\n",
      "Epoch 179/200\n",
      "3/3 [==============================] - 0s 14ms/step - loss: 2.7131 - val_loss: 2.9165\n",
      "Epoch 180/200\n",
      "3/3 [==============================] - 0s 20ms/step - loss: 2.8296 - val_loss: 2.9882\n",
      "Epoch 181/200\n",
      "3/3 [==============================] - 0s 14ms/step - loss: 2.7455 - val_loss: 2.7908\n",
      "Epoch 182/200\n",
      "3/3 [==============================] - 0s 18ms/step - loss: 2.6588 - val_loss: 2.8008\n",
      "Epoch 183/200\n",
      "3/3 [==============================] - 0s 17ms/step - loss: 2.7313 - val_loss: 2.8106\n",
      "Epoch 184/200\n",
      "3/3 [==============================] - 0s 18ms/step - loss: 2.6780 - val_loss: 2.7957\n",
      "Epoch 185/200\n",
      "3/3 [==============================] - ETA: 0s - loss: 2.790 - 0s 17ms/step - loss: 2.6351 - val_loss: 2.8057\n",
      "Epoch 186/200\n",
      "3/3 [==============================] - 0s 21ms/step - loss: 2.6669 - val_loss: 2.8149\n",
      "Epoch 187/200\n",
      "3/3 [==============================] - 0s 23ms/step - loss: 2.6149 - val_loss: 2.7330\n",
      "Epoch 188/200\n",
      "3/3 [==============================] - 0s 19ms/step - loss: 2.6887 - val_loss: 2.8098\n",
      "Epoch 189/200\n",
      "3/3 [==============================] - 0s 13ms/step - loss: 2.7827 - val_loss: 2.8527\n",
      "Epoch 190/200\n",
      "3/3 [==============================] - 0s 23ms/step - loss: 2.7318 - val_loss: 3.1731\n",
      "Epoch 191/200\n",
      "3/3 [==============================] - 0s 14ms/step - loss: 2.8233 - val_loss: 2.7765\n",
      "Epoch 192/200\n",
      "3/3 [==============================] - 0s 27ms/step - loss: 2.6671 - val_loss: 2.7490\n",
      "Epoch 193/200\n",
      "3/3 [==============================] - 0s 20ms/step - loss: 2.6811 - val_loss: 2.7415\n",
      "Epoch 194/200\n",
      "3/3 [==============================] - 0s 14ms/step - loss: 2.6061 - val_loss: 2.7479\n",
      "Epoch 195/200\n",
      "3/3 [==============================] - 0s 18ms/step - loss: 2.6553 - val_loss: 2.7859\n",
      "Epoch 196/200\n",
      "3/3 [==============================] - 0s 24ms/step - loss: 2.6669 - val_loss: 2.7699\n",
      "Epoch 197/200\n",
      "3/3 [==============================] - 0s 23ms/step - loss: 2.6274 - val_loss: 2.7021\n",
      "Epoch 198/200\n",
      "3/3 [==============================] - 0s 18ms/step - loss: 2.6077 - val_loss: 2.7885\n",
      "Epoch 199/200\n",
      "3/3 [==============================] - 0s 17ms/step - loss: 2.6459 - val_loss: 2.7023\n",
      "Epoch 200/200\n",
      "3/3 [==============================] - 0s 25ms/step - loss: 2.6547 - val_loss: 2.7541\n"
     ]
    }
   ],
   "source": [
    "history = model.fit(X_train, y_train, epochs=200,\n",
    "                    validation_data=(X_valid, y_valid))"
   ]
  },
  {
   "cell_type": "code",
   "execution_count": 66,
   "id": "0b29d35c",
   "metadata": {
    "scrolled": true
   },
   "outputs": [],
   "source": [
    "# history = model.fit(X_train, y_train, epochs=145,\n",
    "#                     validation_data=(X_valid, y_valid), callbacks=[lr_scheduler])"
   ]
  },
  {
   "cell_type": "code",
   "execution_count": 67,
   "id": "28215732",
   "metadata": {},
   "outputs": [
    {
     "name": "stdout",
     "output_type": "stream",
     "text": [
      "Saving figure grid_Gaussian_training_curve\n"
     ]
    },
    {
     "data": {
      "image/png": "[encoded data removed]",
      "text/plain": [
       "<Figure size 576x360 with 1 Axes>"
      ]
     },
     "metadata": {
      "needs_background": "light"
     },
     "output_type": "display_data"
    }
   ],
   "source": [
    "import pandas as pd\n",
    "\n",
    "# print(history.history)\n",
    "try:\n",
    "    lr_list = history.history[\"lr\"]\n",
    "    del(history.history[\"lr\"])\n",
    "except:\n",
    "    pass\n",
    "\n",
    "pd.DataFrame(history.history)[50:].plot(figsize=(8, 5))\n",
    "plt.grid(True)\n",
    "# plt.gca().set_ylim(0, 1)\n",
    "save_fig(\"grid_Gaussian_training_curve\")\n",
    "plt.show()"
   ]
  },
  {
   "cell_type": "code",
   "execution_count": 68,
   "id": "47d362c9",
   "metadata": {
    "scrolled": true
   },
   "outputs": [
    {
     "name": "stdout",
     "output_type": "stream",
     "text": [
      "X.shape = (None, 1)\n",
      "gauss_grid.shape = (None, 5)\n",
      "Saving figure grid_Gaussian_prediction\n"
     ]
    },
    {
     "data": {
      "image/png": "[encoded data removed]",
      "text/plain": [
       "<Figure size 432x288 with 1 Axes>"
      ]
     },
     "metadata": {
      "needs_background": "light"
     },
     "output_type": "display_data"
    }
   ],
   "source": [
    "plt.plot(X_train, y_train, \"b.\")\n",
    "draw_func((lambda X: model.predict(X)[:,0] ), mark='r-', linewidth=2, label=\"Predictions\")\n",
    "draw_normal_func(func_dict)\n",
    "plt.xlabel(\"$x_1$\", fontsize=18)\n",
    "plt.ylabel(\"$y$\", rotation=0, fontsize=18)\n",
    "plt.legend(loc=\"upper left\", fontsize=14)\n",
    "# plt.axis([-3, 3, 0, 10])\n",
    "save_fig(\"grid_Gaussian_prediction\")\n",
    "plt.show()"
   ]
  },
  {
   "cell_type": "code",
   "execution_count": 69,
   "id": "a85a5159",
   "metadata": {},
   "outputs": [
    {
     "name": "stdout",
     "output_type": "stream",
     "text": [
      "y_func.shape = (100, 1)\n",
      "y_gt.shape = (100, 1)\n"
     ]
    },
    {
     "data": {
      "text/plain": [
       "1.9778742661868096"
      ]
     },
     "execution_count": 69,
     "metadata": {},
     "output_type": "execute_result"
    }
   ],
   "source": [
    "get_prediction_error((lambda X: model.predict(X)[:,0] ), func_dict, name=\"grid-oneGaussian\")"
   ]
  },
  {
   "cell_type": "markdown",
   "id": "9ca1e36d",
   "metadata": {},
   "source": [
    "### Draw the 1-sigma boundary line"
   ]
  },
  {
   "cell_type": "code",
   "execution_count": 70,
   "id": "a04a47fa",
   "metadata": {},
   "outputs": [
    {
     "name": "stdout",
     "output_type": "stream",
     "text": [
      "Saving figure grid_Gaussian_1sigma\n"
     ]
    },
    {
     "data": {
      "image/png": "[encoded data removed]",
      "text/plain": [
       "<Figure size 432x288 with 1 Axes>"
      ]
     },
     "metadata": {
      "needs_background": "light"
     },
     "output_type": "display_data"
    }
   ],
   "source": [
    "def n_sigma_boundary_line(X, n):\n",
    "    _y = model.predict(X)\n",
    "    _mean, _z = _y[:,0:1], _y[:,1:2]\n",
    "    _sigma = np.exp(alpha*_z)\n",
    "    return( _mean + n*_sigma)\n",
    "\n",
    "plt.plot(X_train, y_train, \"b.\")\n",
    "#\n",
    "draw_func((lambda X: model.predict(X)[:,0] ), mark='r-', linewidth=2, label=\"Predictions\")\n",
    "draw_func((lambda X: n_sigma_boundary_line(X, +1.0) ), mark='k--', linewidth=1, label=\"$\\mu+\\sigma$\")\n",
    "draw_func((lambda X: n_sigma_boundary_line(X, -1.0) ), mark='k--', linewidth=1, label=\"$\\mu-\\sigma$\")\n",
    "#\n",
    "draw_normal_func(func_dict)\n",
    "plt.xlabel(\"$x_1$\", fontsize=18)\n",
    "plt.ylabel(\"$y$\", rotation=0, fontsize=18)\n",
    "plt.legend(loc=\"upper left\", fontsize=14)\n",
    "# plt.axis([-3, 3, 0, 10])\n",
    "save_fig(\"grid_Gaussian_1sigma\")\n",
    "plt.show()"
   ]
  },
  {
   "cell_type": "code",
   "execution_count": null,
   "id": "a820404f",
   "metadata": {},
   "outputs": [],
   "source": []
  },
  {
   "cell_type": "markdown",
   "id": "82ec4fc4",
   "metadata": {},
   "source": [
    "# Summary"
   ]
  },
  {
   "cell_type": "code",
   "execution_count": 71,
   "id": "2d764d70",
   "metadata": {},
   "outputs": [
    {
     "name": "stdout",
     "output_type": "stream",
     "text": [
      "num-num: 6.158739\n",
      "grid-num: 4.456821\n",
      "grid-rbc: 4.722219\n",
      "grid-quantileR: 1.526651\n",
      "grid-oneGaussian: 1.977874\n"
     ]
    }
   ],
   "source": [
    "print_all_prediction_error()"
   ]
  },
  {
   "cell_type": "code",
   "execution_count": null,
   "id": "9f01e530",
   "metadata": {},
   "outputs": [],
   "source": []
  },
  {
   "cell_type": "code",
   "execution_count": null,
   "id": "0c3bdf42",
   "metadata": {},
   "outputs": [],
   "source": []
  }
 ],
 "metadata": {
  "kernelspec": {
   "display_name": "Python 3 (ipykernel)",
   "language": "python",
   "name": "python3"
  },
  "language_info": {
   "codemirror_mode": {
    "name": "ipython",
    "version": 3
   },
   "file_extension": ".py",
   "mimetype": "text/x-python",
   "name": "python",
   "nbconvert_exporter": "python",
   "pygments_lexer": "ipython3",
   "version": "3.9.7"
  }
 },
 "nbformat": 4,
 "nbformat_minor": 5
}
