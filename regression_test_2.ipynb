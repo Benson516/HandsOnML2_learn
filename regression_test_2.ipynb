{
 "cells": [
  {
   "cell_type": "markdown",
   "id": "899fa113",
   "metadata": {},
   "source": [
    "# Regression with Different Output Format under Various Data Conditions\n",
    "\n",
    "In this experience, we test the following output format for regression task under several different data coditions.\n",
    "- Numerical output\n",
    "- Regression as classification (grid-out)\n",
    "\n",
    "The data coditions include:\n",
    "- Sparse (few data)\n",
    "- Grouped\n",
    "  - Biased (parallel data)\n",
    "  - Completely different mode, uncorrelated data (cross)\n",
    "  - Partially diversed (split)"
   ]
  },
  {
   "cell_type": "code",
   "execution_count": 1,
   "id": "625ce7c3",
   "metadata": {},
   "outputs": [],
   "source": [
    "import numpy as np\n",
    "import tensorflow as tf\n",
    "from tensorflow import keras\n",
    "import os\n",
    "\n",
    "# To plot pretty figures\n",
    "%matplotlib inline\n",
    "import matplotlib as mpl\n",
    "import matplotlib.pyplot as plt\n",
    "mpl.rc('axes', labelsize=14)\n",
    "mpl.rc('xtick', labelsize=12)\n",
    "mpl.rc('ytick', labelsize=12)"
   ]
  },
  {
   "cell_type": "code",
   "execution_count": 2,
   "id": "7ad564ad",
   "metadata": {},
   "outputs": [],
   "source": [
    "# Where to save the figures\n",
    "PROJECT_ROOT_DIR = \".\"\n",
    "CHAPTER_ID = \"regression_test_2\"\n",
    "IMAGES_PATH = os.path.join(PROJECT_ROOT_DIR, \"images\", CHAPTER_ID)\n",
    "os.makedirs(IMAGES_PATH, exist_ok=True)\n",
    "\n",
    "def save_fig(fig_id, tight_layout=True, fig_extension=\"png\", resolution=300):\n",
    "    path = os.path.join(IMAGES_PATH, fig_id + \".\" + fig_extension)\n",
    "    print(\"Saving figure\", fig_id)\n",
    "    if tight_layout:\n",
    "        plt.tight_layout()\n",
    "    plt.savefig(path, format=fig_extension, dpi=resolution)"
   ]
  },
  {
   "cell_type": "code",
   "execution_count": 3,
   "id": "94e8a077",
   "metadata": {},
   "outputs": [],
   "source": [
    "def draw_func(func_in, x_min=-5, x_max=5, mark='r--', linewidth=1, label='func'):\n",
    "    n_sample = 100\n",
    "    X_func = np.linspace(x_min, x_max, n_sample).reshape(n_sample, 1)\n",
    "    y_func = func_in(X_func)\n",
    "    plt.plot(X_func, y_func, mark, linewidth=linewidth, label=label)"
   ]
  },
  {
   "cell_type": "markdown",
   "id": "c27ffe35",
   "metadata": {},
   "source": [
    "Generate polynomial data"
   ]
  },
  {
   "cell_type": "code",
   "execution_count": 4,
   "id": "ce670ce4",
   "metadata": {},
   "outputs": [],
   "source": [
    "poly_a1 = 5.0\n",
    "# poly_a1 = -10.0 # 5.0\n",
    "#\n",
    "sin_a = 0.0\n",
    "# sin_a = 10.0\n",
    "sin_f = 0.1 # 0.2\n",
    "#\n",
    "def func_0(X): # Reference\n",
    "    return 0.5 * X**3 + 0.5 * X**2 + (poly_a1)*X + 2 + sin_a*np.sin(2.0*np.pi*sin_f*X)\n",
    "def func_1(X): # Variation 1: parellel\n",
    "    return 0.5 * X**3 + 0.5 * X**2 + (poly_a1)*X + 30 + sin_a*np.sin(2.0*np.pi*sin_f*X)\n",
    "def func_2(X): # Variation 2: cross\n",
    "    return -0.5 * X**3 + 0.5 * X**2 + (poly_a1)*X + 30 + sin_a*np.sin(2.0*np.pi*sin_f*X)\n",
    "def func_3(X): # Variation 3: slightly split\n",
    "    return 0.3 * X**3 + 1.0 * X**2 + (poly_a1)*X + 15 + sin_a*np.sin(2.0*np.pi*sin_f*X)\n",
    "def func_4(X): # Sine wave~\n",
    "    return 0.5 * X**3 + 0.5 * X**2 + (poly_a1)*X + 2 + 20.0*np.sin(2.0*np.pi*sin_f*X) # 50.0"
   ]
  },
  {
   "cell_type": "code",
   "execution_count": 5,
   "id": "9463bfff",
   "metadata": {},
   "outputs": [],
   "source": [
    "func_dict = dict()\n",
    "#-----------------#\n",
    "func_dict[\"f1\"] = func_0\n",
    "#-----------------#\n",
    "# func_dict[\"f2\"] = func_1\n",
    "# func_dict[\"f2\"] = func_2\n",
    "func_dict[\"f2\"] = func_3\n",
    "# func_dict[\"f2\"] = func_4\n",
    "#-----------------#\n",
    "func_dict[\"f3\"] = func_4\n",
    "#-----------------#\n",
    "\n",
    "# Note: func_dict[\"f_avg\"] depends on multiout_type and is calculated in each section of multiout_type"
   ]
  },
  {
   "cell_type": "code",
   "execution_count": 6,
   "id": "63437d0c",
   "metadata": {},
   "outputs": [
    {
     "name": "stdout",
     "output_type": "stream",
     "text": [
      "(m, m_train) = (100, 80)\n",
      "y_data_pure.shape = (100, 1)\n",
      "y_data.shape = (100, 1)\n"
     ]
    }
   ],
   "source": [
    "np.random.seed(42)\n",
    "m = 100 # 50 # 100 # 200\n",
    "m_train = m // 5 * 4\n",
    "print(\"(m, m_train) = (%d, %d)\" % (m, m_train))\n",
    "\n",
    "# Input\n",
    "is_gapped = True\n",
    "# is_gapped = False\n",
    "#\n",
    "if not is_gapped:\n",
    "    X_data = 10 * np.random.rand(m, 1) - 5 # Note: X is randomly sampled, so we don't need to shuffle the data again\n",
    "else:\n",
    "    X_data = np.concatenate( (np.linspace(-5.0, -2.0, m//2), np.linspace(2.0, 5.0, m-m//2)) )\n",
    "    X_data = X_data.reshape((m,1))\n",
    "    np.random.shuffle(X_data)\n",
    "\n",
    "# Output, multiout_type in {1, 2, 3}\n",
    "# multiout_type = 1      \n",
    "multiout_type = 2 \n",
    "# multiout_type = 3 \n",
    "#\n",
    "sid_data = np.ones((m,1), dtype=int) # subject id, default: 1\n",
    "if multiout_type == 2:\n",
    "    m_h = m // 2\n",
    "    X_data_1 = X_data[:m_h]\n",
    "    X_data_2 = X_data[m_h:]\n",
    "    sid_data[:m_h] = 1 # id:1\n",
    "    sid_data[m_h:] = 2 # id:2\n",
    "    y_data_pure_1 = func_dict[\"f1\"](X_data_1) \n",
    "    y_data_pure_2 = func_dict[\"f2\"](X_data_2) \n",
    "    y_data_pure = np.vstack([y_data_pure_1, y_data_pure_2])\n",
    "    print(\"y_data_pure.shape = %s\" % str(y_data_pure.shape))\n",
    "    # Average line\n",
    "    func_dict[\"f_avg\"] = ( lambda X: 0.5*func_dict[\"f1\"](X) + 0.5*func_dict[\"f2\"](X) )\n",
    "    #\n",
    "elif multiout_type == 3: # with \"avg\" line\n",
    "    m_t = m // 3\n",
    "    X_data_1 = X_data[:m_t]\n",
    "    X_data_2 = X_data[m_t:(2*m_t)]\n",
    "    X_data_3 = X_data[(2*m_t):]\n",
    "    sid_data[:m_t]        = 1 # id:1\n",
    "    sid_data[m_t:(2*m_t)] = 2 # id:2\n",
    "    sid_data[(2*m_t):]    = 3 # id:3\n",
    "    y_data_pure_1 = func_dict[\"f1\"](X_data_1) \n",
    "    y_data_pure_2 = func_dict[\"f2\"](X_data_2) \n",
    "    y_data_pure_3 = func_dict[\"f3\"](X_data_3) \n",
    "    y_data_pure = np.vstack([y_data_pure_1, y_data_pure_2, y_data_pure_3])\n",
    "    print(\"y_data_pure.shape = %s\" % str(y_data_pure.shape))\n",
    "    # Average line\n",
    "    func_dict[\"f_avg\"] = ( lambda X: (func_dict[\"f1\"](X) + func_dict[\"f2\"](X) + func_dict[\"f3\"](X))/3.0 )\n",
    "    #\n",
    "else: # multiout_type == 1\n",
    "    # Average line\n",
    "    func_dict[\"f_avg\"] = ( lambda X: 0.5*func_dict[\"f1\"](X) + 0.5*func_dict[\"f2\"](X) )\n",
    "    y_data_pure = func_dict[\"f_avg\"](X_data)\n",
    "\n",
    "    \n",
    "# Label (+noise)\n",
    "n_stddev = 2.0\n",
    "# n_stddev = 10.0\n",
    "y_data = y_data_pure + np.random.randn(m, 1) * n_stddev\n",
    "print(\"y_data.shape = %s\" % str(y_data.shape))\n",
    "# print(\"sid_data = %s\" % str(sid_data))"
   ]
  },
  {
   "cell_type": "code",
   "execution_count": 7,
   "id": "ef588fae",
   "metadata": {},
   "outputs": [],
   "source": [
    "# Method 1: simply slice\n",
    "# X_train = X_data[:m_train]\n",
    "# y_train = y_data[:m_train]\n",
    "# X_valid = X_data[m_train:]\n",
    "# y_valid = y_data[m_train:]\n",
    "\n",
    "# Method 2: shuffle\n",
    "from sklearn.model_selection import train_test_split\n",
    "# X_train, X_valid, y_train, y_valid = train_test_split(X_data, y_data, test_size=0.2, random_state=42)\n",
    "X_train, X_valid, y_train, y_valid, sid_train, sid_valid = train_test_split(X_data, y_data, sid_data, test_size=0.2, random_state=42)"
   ]
  },
  {
   "cell_type": "code",
   "execution_count": 8,
   "id": "3b5d2cfe",
   "metadata": {},
   "outputs": [
    {
     "name": "stdout",
     "output_type": "stream",
     "text": [
      "(80, 1)\n"
     ]
    }
   ],
   "source": [
    "print(X_train.shape)\n",
    "# print(\"sid_train = %s\" % str(sid_train))"
   ]
  },
  {
   "cell_type": "code",
   "execution_count": 9,
   "id": "9bd2136c",
   "metadata": {},
   "outputs": [],
   "source": [
    "def draw_normal_func(func_dict):\n",
    "    if multiout_type != 1:\n",
    "        draw_func(func_dict[\"f1\"], mark='c:', label=\"f1\")\n",
    "        draw_func(func_dict[\"f2\"], mark='r:', label=\"f2\")\n",
    "    if multiout_type == 3:\n",
    "        draw_func(func_dict[\"f3\"], mark='y:', label=\"f3\")\n",
    "    draw_func(func_dict[\"f_avg\"], mark='m--', label=\"f_avg\")"
   ]
  },
  {
   "cell_type": "code",
   "execution_count": 10,
   "id": "35136fe5",
   "metadata": {},
   "outputs": [],
   "source": [
    "def draw_points(X, y, sid=None):\n",
    "    if sid is None:\n",
    "        plt.plot(X, y, \"b.\")\n",
    "    else:\n",
    "        plt.plot(X[sid==1], y[sid==1], \"b.\")\n",
    "        plt.plot(X[sid==2], y[sid==2], \"r.\")\n",
    "        plt.plot(X[sid==3], y[sid==3], \"y.\")"
   ]
  },
  {
   "cell_type": "code",
   "execution_count": 11,
   "id": "693af3b7",
   "metadata": {},
   "outputs": [
    {
     "name": "stdout",
     "output_type": "stream",
     "text": [
      "Saving figure training_data\n"
     ]
    },
    {
     "data": {
      "image/png": "[encoded data removed]",
      "text/plain": [
       "<Figure size 432x288 with 1 Axes>"
      ]
     },
     "metadata": {
      "needs_background": "light"
     },
     "output_type": "display_data"
    }
   ],
   "source": [
    "# plt.plot(X_train, y_train, \"b.\")\n",
    "# plt.plot(X_train[sid_train==1], y_train[sid_train==1], \"b.\")\n",
    "# plt.plot(X_train[sid_train==2], y_train[sid_train==2], \"r.\")\n",
    "draw_points(X_train, y_train, sid_train)\n",
    "\n",
    "draw_normal_func(func_dict)\n",
    "plt.xlabel(\"$x_1$\", fontsize=18)\n",
    "plt.ylabel(\"$y$\", rotation=0, fontsize=18)\n",
    "plt.legend(loc=\"upper left\", fontsize=14)\n",
    "# plt.axis([-3, 3, 0, 10])\n",
    "save_fig(\"training_data\")\n",
    "plt.show()"
   ]
  },
  {
   "cell_type": "code",
   "execution_count": 12,
   "id": "a6853ff1",
   "metadata": {},
   "outputs": [],
   "source": [
    "prediction_error_dict = dict()\n",
    "\n",
    "def get_prediction_error(func_in, func_dict, name=\"\", x_min=-5, x_max=5, prediction_error_dict=prediction_error_dict):\n",
    "    n_sample = 100\n",
    "    X_func = np.linspace(x_min, x_max, n_sample).reshape(n_sample, 1)\n",
    "    y_func = func_in(X_func).reshape((n_sample,1))\n",
    "    y_gt = func_dict[\"f_avg\"](X_func).reshape((n_sample,1))\n",
    "    print(\"y_func.shape = %s\" % str(y_func.shape))\n",
    "    print(\"y_gt.shape = %s\" % str(y_gt.shape))\n",
    "#     total_error = np.sqrt(np.square(y_func - y_gt).mean())\n",
    "    total_error = np.abs(y_func - y_gt).mean()\n",
    "    prediction_error_dict[name] = total_error\n",
    "    return total_error\n",
    "\n",
    "def print_all_prediction_error(is_logging_to_screen=True, prediction_error_dict=prediction_error_dict):\n",
    "    _s = \"\"\n",
    "    for _n in prediction_error_dict:\n",
    "        _s += (\"%s: %f\" % (_n, prediction_error_dict[_n])) + \"\\n\"\n",
    "    if is_logging_to_screen:\n",
    "        print(_s)\n",
    "    return _s\n",
    "        \n",
    "def save_prediction_errors(is_logging_to_screen=False, prediction_error_dict=prediction_error_dict):\n",
    "    path = os.path.join(IMAGES_PATH, \"prediction_errors.txt\")\n",
    "    print(\"Saving all prediction errors to [%s].\" % path)\n",
    "    _s = print_all_prediction_error(is_logging_to_screen=is_logging_to_screen, prediction_error_dict=prediction_error_dict)\n",
    "    with open(path, \"w\") as _f:\n",
    "        _f.write(_s)\n",
    "    return True"
   ]
  },
  {
   "cell_type": "markdown",
   "id": "053ecc57",
   "metadata": {},
   "source": [
    "# Simple FCs (number --> number)"
   ]
  },
  {
   "cell_type": "markdown",
   "id": "c66eb67b",
   "metadata": {},
   "source": [
    "Build the regression model"
   ]
  },
  {
   "cell_type": "code",
   "execution_count": 13,
   "id": "9449fc0b",
   "metadata": {},
   "outputs": [
    {
     "name": "stderr",
     "output_type": "stream",
     "text": [
      "C:\\Users\\benso\\anaconda3\\envs\\ml\\lib\\site-packages\\keras\\optimizer_v2\\gradient_descent.py:102: UserWarning: The `lr` argument is deprecated, use `learning_rate` instead.\n",
      "  super(SGD, self).__init__(name, **kwargs)\n"
     ]
    }
   ],
   "source": [
    "model = keras.models.Sequential([\n",
    "    keras.layers.Dense(30, activation=\"relu\", input_shape=X_train.shape[1:]),\n",
    "    keras.layers.Dense(30, activation=\"relu\"),\n",
    "    keras.layers.Dense(1)\n",
    "])\n",
    "\n",
    "optimizer = keras.optimizers.SGD(lr=0.0001, momentum=0.9)\n",
    "model.compile(loss=\"mean_squared_error\", optimizer=optimizer)\n",
    "# optimizer = keras.optimizers.Adam(lr=0.01)\n",
    "# model.compile(loss=\"mean_absolute_error\", optimizer=optimizer)"
   ]
  },
  {
   "cell_type": "code",
   "execution_count": 14,
   "id": "92afd68a",
   "metadata": {
    "scrolled": true
   },
   "outputs": [
    {
     "name": "stdout",
     "output_type": "stream",
     "text": [
      "Epoch 1/100\n",
      "3/3 [==============================] - 1s 97ms/step - loss: 2541.3088 - val_loss: 1747.6426\n",
      "Epoch 2/100\n",
      "3/3 [==============================] - 0s 23ms/step - loss: 2488.3054 - val_loss: 1693.3431\n",
      "Epoch 3/100\n",
      "3/3 [==============================] - 0s 33ms/step - loss: 2417.0786 - val_loss: 1627.4436\n",
      "Epoch 4/100\n",
      "3/3 [==============================] - 0s 30ms/step - loss: 2315.2583 - val_loss: 1524.4753\n",
      "Epoch 5/100\n",
      "3/3 [==============================] - 0s 24ms/step - loss: 2117.3569 - val_loss: 1292.8530\n",
      "Epoch 6/100\n",
      "3/3 [==============================] - 0s 33ms/step - loss: 1629.4502 - val_loss: 770.2621\n",
      "Epoch 7/100\n",
      "3/3 [==============================] - 0s 28ms/step - loss: 788.6931 - val_loss: 481.2485\n",
      "Epoch 8/100\n",
      "3/3 [==============================] - 0s 29ms/step - loss: 737.6833 - val_loss: 496.5787\n",
      "Epoch 9/100\n",
      "3/3 [==============================] - 0s 23ms/step - loss: 380.0924 - val_loss: 228.9034\n",
      "Epoch 10/100\n",
      "3/3 [==============================] - 0s 35ms/step - loss: 384.7145 - val_loss: 355.2132\n",
      "Epoch 11/100\n",
      "3/3 [==============================] - 0s 37ms/step - loss: 548.7887 - val_loss: 256.3509\n",
      "Epoch 12/100\n",
      "3/3 [==============================] - 0s 21ms/step - loss: 285.9948 - val_loss: 203.4410\n",
      "Epoch 13/100\n",
      "3/3 [==============================] - 0s 26ms/step - loss: 319.5760 - val_loss: 275.2122\n",
      "Epoch 14/100\n",
      "3/3 [==============================] - 0s 20ms/step - loss: 292.0572 - val_loss: 192.9229\n",
      "Epoch 15/100\n",
      "3/3 [==============================] - 0s 16ms/step - loss: 250.1543 - val_loss: 240.8294\n",
      "Epoch 16/100\n",
      "3/3 [==============================] - 0s 22ms/step - loss: 278.0404 - val_loss: 202.0350\n",
      "Epoch 17/100\n",
      "3/3 [==============================] - 0s 14ms/step - loss: 213.0263 - val_loss: 202.2207\n",
      "Epoch 18/100\n",
      "3/3 [==============================] - 0s 21ms/step - loss: 233.5269 - val_loss: 189.5950\n",
      "Epoch 19/100\n",
      "3/3 [==============================] - 0s 23ms/step - loss: 209.1325 - val_loss: 168.8797\n",
      "Epoch 20/100\n",
      "3/3 [==============================] - 0s 14ms/step - loss: 213.2387 - val_loss: 170.5102\n",
      "Epoch 21/100\n",
      "3/3 [==============================] - 0s 22ms/step - loss: 210.5954 - val_loss: 168.3468\n",
      "Epoch 22/100\n",
      "3/3 [==============================] - 0s 14ms/step - loss: 197.5560 - val_loss: 178.2672\n",
      "Epoch 23/100\n",
      "3/3 [==============================] - 0s 18ms/step - loss: 201.4501 - val_loss: 177.0643\n",
      "Epoch 24/100\n",
      "3/3 [==============================] - 0s 22ms/step - loss: 193.8735 - val_loss: 175.5675\n",
      "Epoch 25/100\n",
      "3/3 [==============================] - 0s 18ms/step - loss: 198.4972 - val_loss: 174.4468\n",
      "Epoch 26/100\n",
      "3/3 [==============================] - 0s 17ms/step - loss: 198.0301 - val_loss: 172.1507\n",
      "Epoch 27/100\n",
      "3/3 [==============================] - 0s 22ms/step - loss: 193.3667 - val_loss: 171.3564\n",
      "Epoch 28/100\n",
      "3/3 [==============================] - 0s 18ms/step - loss: 193.0322 - val_loss: 169.2472\n",
      "Epoch 29/100\n",
      "3/3 [==============================] - 0s 18ms/step - loss: 193.1364 - val_loss: 166.3787\n",
      "Epoch 30/100\n",
      "3/3 [==============================] - 0s 17ms/step - loss: 192.9863 - val_loss: 166.2604\n",
      "Epoch 31/100\n",
      "3/3 [==============================] - 0s 23ms/step - loss: 191.3859 - val_loss: 168.9921\n",
      "Epoch 32/100\n",
      "3/3 [==============================] - 0s 18ms/step - loss: 190.3054 - val_loss: 171.3026\n",
      "Epoch 33/100\n",
      "3/3 [==============================] - 0s 23ms/step - loss: 189.5451 - val_loss: 171.0609\n",
      "Epoch 34/100\n",
      "3/3 [==============================] - 0s 15ms/step - loss: 190.4885 - val_loss: 169.9342\n",
      "Epoch 35/100\n",
      "3/3 [==============================] - 0s 15ms/step - loss: 188.7053 - val_loss: 166.3590\n",
      "Epoch 36/100\n",
      "3/3 [==============================] - 0s 21ms/step - loss: 187.4552 - val_loss: 166.2941\n",
      "Epoch 37/100\n",
      "3/3 [==============================] - 0s 23ms/step - loss: 188.3961 - val_loss: 165.5941\n",
      "Epoch 38/100\n",
      "3/3 [==============================] - 0s 18ms/step - loss: 188.6423 - val_loss: 169.4621\n",
      "Epoch 39/100\n",
      "3/3 [==============================] - 0s 18ms/step - loss: 186.4291 - val_loss: 170.2282\n",
      "Epoch 40/100\n",
      "3/3 [==============================] - 0s 17ms/step - loss: 187.2523 - val_loss: 169.7389\n",
      "Epoch 41/100\n",
      "3/3 [==============================] - ETA: 0s - loss: 210.719 - 0s 23ms/step - loss: 185.6466 - val_loss: 166.8242\n",
      "Epoch 42/100\n",
      "3/3 [==============================] - 0s 18ms/step - loss: 186.2648 - val_loss: 166.5495\n",
      "Epoch 43/100\n",
      "3/3 [==============================] - 0s 19ms/step - loss: 185.1906 - val_loss: 161.0340\n",
      "Epoch 44/100\n",
      "3/3 [==============================] - 0s 17ms/step - loss: 184.1479 - val_loss: 161.1772\n",
      "Epoch 45/100\n",
      "3/3 [==============================] - 0s 22ms/step - loss: 183.3855 - val_loss: 161.5195\n",
      "Epoch 46/100\n",
      "3/3 [==============================] - 0s 21ms/step - loss: 183.5959 - val_loss: 163.3852\n",
      "Epoch 47/100\n",
      "3/3 [==============================] - 0s 18ms/step - loss: 180.7245 - val_loss: 163.2835\n",
      "Epoch 48/100\n",
      "3/3 [==============================] - 0s 24ms/step - loss: 180.6399 - val_loss: 160.4580\n",
      "Epoch 49/100\n",
      "3/3 [==============================] - 0s 15ms/step - loss: 179.9077 - val_loss: 160.7897\n",
      "Epoch 50/100\n",
      "3/3 [==============================] - 0s 18ms/step - loss: 180.8199 - val_loss: 164.8828\n",
      "Epoch 51/100\n",
      "3/3 [==============================] - 0s 24ms/step - loss: 178.0856 - val_loss: 162.9276\n",
      "Epoch 52/100\n",
      "3/3 [==============================] - 0s 13ms/step - loss: 177.7518 - val_loss: 158.8872\n",
      "Epoch 53/100\n",
      "3/3 [==============================] - 0s 22ms/step - loss: 178.0423 - val_loss: 156.9295\n",
      "Epoch 54/100\n",
      "3/3 [==============================] - 0s 29ms/step - loss: 178.8183 - val_loss: 153.5762\n",
      "Epoch 55/100\n",
      "3/3 [==============================] - 0s 20ms/step - loss: 180.9371 - val_loss: 154.4784\n",
      "Epoch 56/100\n",
      "3/3 [==============================] - 0s 22ms/step - loss: 180.1726 - val_loss: 161.4821\n",
      "Epoch 57/100\n",
      "3/3 [==============================] - 0s 18ms/step - loss: 178.8429 - val_loss: 159.9452\n",
      "Epoch 58/100\n",
      "3/3 [==============================] - 0s 22ms/step - loss: 177.0443 - val_loss: 158.3459\n",
      "Epoch 59/100\n",
      "3/3 [==============================] - 0s 17ms/step - loss: 176.0764 - val_loss: 163.5083\n",
      "Epoch 60/100\n",
      "3/3 [==============================] - 0s 18ms/step - loss: 174.4725 - val_loss: 166.3833\n",
      "Epoch 61/100\n",
      "3/3 [==============================] - 0s 24ms/step - loss: 175.4402 - val_loss: 165.2272\n",
      "Epoch 62/100\n",
      "3/3 [==============================] - 0s 17ms/step - loss: 173.7990 - val_loss: 160.8982\n",
      "Epoch 63/100\n",
      "3/3 [==============================] - 0s 18ms/step - loss: 172.5658 - val_loss: 155.5521\n",
      "Epoch 64/100\n",
      "3/3 [==============================] - 0s 16ms/step - loss: 172.7741 - val_loss: 151.3400\n",
      "Epoch 65/100\n",
      "3/3 [==============================] - 0s 21ms/step - loss: 173.2461 - val_loss: 154.9999\n",
      "Epoch 66/100\n",
      "3/3 [==============================] - 0s 23ms/step - loss: 177.7694 - val_loss: 154.9370\n",
      "Epoch 67/100\n",
      "3/3 [==============================] - 0s 18ms/step - loss: 176.6848 - val_loss: 154.9664\n",
      "Epoch 68/100\n",
      "3/3 [==============================] - 0s 17ms/step - loss: 171.9335 - val_loss: 153.3064\n",
      "Epoch 69/100\n",
      "3/3 [==============================] - 0s 19ms/step - loss: 171.0997 - val_loss: 155.2848\n",
      "Epoch 70/100\n",
      "3/3 [==============================] - 0s 22ms/step - loss: 169.0324 - val_loss: 150.9678\n",
      "Epoch 71/100\n",
      "3/3 [==============================] - 0s 23ms/step - loss: 169.9041 - val_loss: 148.0715\n",
      "Epoch 72/100\n",
      "3/3 [==============================] - 0s 19ms/step - loss: 171.2574 - val_loss: 147.6285\n",
      "Epoch 73/100\n",
      "3/3 [==============================] - 0s 17ms/step - loss: 170.7733 - val_loss: 150.6333\n",
      "Epoch 74/100\n",
      "3/3 [==============================] - 0s 17ms/step - loss: 167.0795 - val_loss: 155.7182\n",
      "Epoch 75/100\n",
      "3/3 [==============================] - 0s 23ms/step - loss: 166.6649 - val_loss: 155.3451\n",
      "Epoch 76/100\n",
      "3/3 [==============================] - 0s 23ms/step - loss: 167.5370 - val_loss: 153.9703\n",
      "Epoch 77/100\n",
      "3/3 [==============================] - 0s 18ms/step - loss: 165.5868 - val_loss: 152.0382\n",
      "Epoch 78/100\n",
      "3/3 [==============================] - 0s 22ms/step - loss: 164.5538 - val_loss: 147.9132\n",
      "Epoch 79/100\n",
      "3/3 [==============================] - 0s 19ms/step - loss: 164.8188 - val_loss: 145.1967\n",
      "Epoch 80/100\n"
     ]
    },
    {
     "name": "stdout",
     "output_type": "stream",
     "text": [
      "3/3 [==============================] - 0s 16ms/step - loss: 165.6007 - val_loss: 145.6208\n",
      "Epoch 81/100\n",
      "3/3 [==============================] - 0s 18ms/step - loss: 165.7981 - val_loss: 146.1290\n",
      "Epoch 82/100\n",
      "3/3 [==============================] - 0s 22ms/step - loss: 165.1553 - val_loss: 152.7708\n",
      "Epoch 83/100\n",
      "3/3 [==============================] - 0s 17ms/step - loss: 163.5197 - val_loss: 157.3289\n",
      "Epoch 84/100\n",
      "3/3 [==============================] - 0s 22ms/step - loss: 164.2941 - val_loss: 155.2557\n",
      "Epoch 85/100\n",
      "3/3 [==============================] - 0s 17ms/step - loss: 162.8294 - val_loss: 152.2951\n",
      "Epoch 86/100\n",
      "3/3 [==============================] - 0s 19ms/step - loss: 162.8457 - val_loss: 148.0905\n",
      "Epoch 87/100\n",
      "3/3 [==============================] - 0s 23ms/step - loss: 162.4459 - val_loss: 147.2320\n",
      "Epoch 88/100\n",
      "3/3 [==============================] - 0s 16ms/step - loss: 163.1174 - val_loss: 142.7993\n",
      "Epoch 89/100\n",
      "3/3 [==============================] - 0s 19ms/step - loss: 161.1643 - val_loss: 142.0605\n",
      "Epoch 90/100\n",
      "3/3 [==============================] - 0s 18ms/step - loss: 161.7531 - val_loss: 142.3478\n",
      "Epoch 91/100\n",
      "3/3 [==============================] - 0s 18ms/step - loss: 160.3966 - val_loss: 148.0591\n",
      "Epoch 92/100\n",
      "3/3 [==============================] - 0s 18ms/step - loss: 159.9704 - val_loss: 151.3178\n",
      "Epoch 93/100\n",
      "3/3 [==============================] - 0s 18ms/step - loss: 159.5167 - val_loss: 151.8420\n",
      "Epoch 94/100\n",
      "3/3 [==============================] - 0s 23ms/step - loss: 161.0629 - val_loss: 153.5033\n",
      "Epoch 95/100\n",
      "3/3 [==============================] - 0s 13ms/step - loss: 160.4633 - val_loss: 150.0489\n",
      "Epoch 96/100\n",
      "3/3 [==============================] - 0s 22ms/step - loss: 159.4903 - val_loss: 146.4311\n",
      "Epoch 97/100\n",
      "3/3 [==============================] - 0s 22ms/step - loss: 158.6087 - val_loss: 143.4306\n",
      "Epoch 98/100\n",
      "3/3 [==============================] - 0s 17ms/step - loss: 158.7344 - val_loss: 140.6828\n",
      "Epoch 99/100\n",
      "3/3 [==============================] - 0s 18ms/step - loss: 158.3363 - val_loss: 136.3615\n",
      "Epoch 100/100\n",
      "3/3 [==============================] - 0s 20ms/step - loss: 159.6190 - val_loss: 134.9913\n"
     ]
    }
   ],
   "source": [
    "history = model.fit(X_train, y_train, epochs=100,\n",
    "                    validation_data=(X_valid, y_valid))"
   ]
  },
  {
   "cell_type": "markdown",
   "id": "17d6e37a",
   "metadata": {},
   "source": [
    "Plot the result"
   ]
  },
  {
   "cell_type": "code",
   "execution_count": 15,
   "id": "3b066f5c",
   "metadata": {},
   "outputs": [
    {
     "name": "stdout",
     "output_type": "stream",
     "text": [
      "Saving figure num_num_training_curve\n"
     ]
    },
    {
     "data": {
      "image/png": "[encoded data removed]",
      "text/plain": [
       "<Figure size 576x360 with 1 Axes>"
      ]
     },
     "metadata": {
      "needs_background": "light"
     },
     "output_type": "display_data"
    }
   ],
   "source": [
    "import pandas as pd\n",
    "\n",
    "pd.DataFrame(history.history).plot(figsize=(8, 5))\n",
    "plt.grid(True)\n",
    "# plt.gca().set_ylim(0, 1)\n",
    "save_fig(\"num_num_training_curve\")\n",
    "plt.show()"
   ]
  },
  {
   "cell_type": "code",
   "execution_count": 16,
   "id": "03f9bb54",
   "metadata": {},
   "outputs": [
    {
     "name": "stdout",
     "output_type": "stream",
     "text": [
      "Saving figure num_num_prediction\n"
     ]
    },
    {
     "data": {
      "image/png": "[encoded data removed]",
      "text/plain": [
       "<Figure size 432x288 with 1 Axes>"
      ]
     },
     "metadata": {
      "needs_background": "light"
     },
     "output_type": "display_data"
    }
   ],
   "source": [
    "# X_new = np.linspace(-5, 5, 100).reshape(100, 1)\n",
    "# y_new = model.predict(X_new)\n",
    "#\n",
    "# plt.plot(X_train, y_train, \"b.\")\n",
    "draw_points(X_train, y_train, sid_train)\n",
    "# plt.plot(X_new, y_new, \"r-\", linewidth=2, label=\"Predictions\")\n",
    "draw_func(model.predict, mark='r-', linewidth=2, label=\"Predictions\")\n",
    "draw_normal_func(func_dict)\n",
    "plt.xlabel(\"$x_1$\", fontsize=18)\n",
    "plt.ylabel(\"$y$\", rotation=0, fontsize=18)\n",
    "plt.legend(loc=\"upper left\", fontsize=14)\n",
    "# plt.axis([-3, 3, 0, 10])\n",
    "save_fig(\"num_num_prediction\")\n",
    "plt.show()"
   ]
  },
  {
   "cell_type": "code",
   "execution_count": 17,
   "id": "bc06d931",
   "metadata": {},
   "outputs": [
    {
     "name": "stdout",
     "output_type": "stream",
     "text": [
      "y_func.shape = (100, 1)\n",
      "y_gt.shape = (100, 1)\n"
     ]
    },
    {
     "data": {
      "text/plain": [
       "6.17634505653321"
      ]
     },
     "execution_count": 17,
     "metadata": {},
     "output_type": "execute_result"
    }
   ],
   "source": [
    "get_prediction_error(model.predict, func_dict, name=\"num-num\")"
   ]
  },
  {
   "cell_type": "markdown",
   "id": "58da8768",
   "metadata": {},
   "source": [
    "# Simulated CNN Feature Map (1-D grids, grid --> number)"
   ]
  },
  {
   "cell_type": "code",
   "execution_count": 18,
   "id": "287b5e4c",
   "metadata": {},
   "outputs": [],
   "source": [
    "class num2grid(keras.layers.Layer):\n",
    "    def __init__(self, units, x_min=-10, x_max=10, sigma=1.0, activation=None, **kwargs):\n",
    "        super().__init__(**kwargs)\n",
    "        self.units = units\n",
    "        self.x_min = x_min\n",
    "        self.x_max = x_max\n",
    "        self.sigma = sigma\n",
    "        self.sigma2 = self.sigma**2\n",
    "        self.activation = keras.activations.get(activation)\n",
    "        \n",
    "    def build(self, batch_input_shape):\n",
    "        #\n",
    "        self.x_grid = np.linspace(self.x_min, self.x_max, self.units, endpoint=True)\n",
    "#         print(\"self.x_grid.shape = %s\" % str(self.x_grid.shape))\n",
    "        #\n",
    "        super().build(batch_input_shape) # must be at the end\n",
    "        \n",
    "    def call(self, X):\n",
    "        '''\n",
    "        Input shape:  (batch, X_chanel)\n",
    "        Output shape: (batch, grid_unit) \n",
    "        \n",
    "        self.x_grid shape: (grid_unit,)\n",
    "        '''\n",
    "        gauss_grid = tf.exp( -(self.x_grid - X)**2 / (2.0*self.sigma2) )\n",
    "        print(\"X.shape = %s\" % str(X.shape))\n",
    "        print(\"gauss_grid.shape = %s\" % str(gauss_grid.shape))\n",
    "        return self.activation(gauss_grid)\n",
    "    \n",
    "    def compute_output_shape(self, batch_input_shape):\n",
    "        return tf.TensorShape(batch_input_shape.as_list()[:-1] + [self.units])\n",
    "    \n",
    "    def get_config(self):\n",
    "        base_config = super().get_config()\n",
    "        return {**base_config, \n",
    "                \"units\": self.units,\n",
    "                \"x_min\": self.x_min,\n",
    "                \"x_max\": self.x_max,\n",
    "                \"sigma\": self.sigma,\n",
    "                \"activation\": keras.activations.serialize(self.activation)}"
   ]
  },
  {
   "cell_type": "code",
   "execution_count": 19,
   "id": "f463c12a",
   "metadata": {},
   "outputs": [
    {
     "name": "stdout",
     "output_type": "stream",
     "text": [
      "X.shape = (None, 1)\n",
      "gauss_grid.shape = (None, 5)\n"
     ]
    },
    {
     "name": "stderr",
     "output_type": "stream",
     "text": [
      "C:\\Users\\benso\\anaconda3\\envs\\ml\\lib\\site-packages\\keras\\optimizer_v2\\adam.py:105: UserWarning: The `lr` argument is deprecated, use `learning_rate` instead.\n",
      "  super(Adam, self).__init__(name, **kwargs)\n"
     ]
    }
   ],
   "source": [
    "model = keras.models.Sequential([\n",
    "    num2grid(5,x_min=-10, x_max=10, sigma=3.0, input_shape=X_train.shape[1:]),\n",
    "    keras.layers.Dense(30, activation=\"relu\"),\n",
    "#     keras.layers.Dense(100, activation=\"relu\", kernel_regularizer=tf.keras.regularizers.l1(0.01)),\n",
    "#     keras.layers.Dense(30, activation=keras.layers.LeakyReLU(alpha=0.2) ),\n",
    "#     keras.layers.Dense(30, activation=\"selu\"),\n",
    "#     keras.layers.Dense(30, activation=\"relu\"),\n",
    "    keras.layers.Dense(1)\n",
    "])\n",
    "\n",
    "# optimizer = keras.optimizers.SGD(lr=0.001, momentum=0.9)\n",
    "# model.compile(loss=\"mean_squared_error\", optimizer=optimizer)\n",
    "optimizer = keras.optimizers.Adam(lr=0.1)\n",
    "model.compile(loss=\"mean_absolute_error\", optimizer=optimizer)"
   ]
  },
  {
   "cell_type": "code",
   "execution_count": 20,
   "id": "c966ada4",
   "metadata": {
    "scrolled": true
   },
   "outputs": [
    {
     "name": "stdout",
     "output_type": "stream",
     "text": [
      "Epoch 1/100\n",
      "X.shape = (None, 1)\n",
      "gauss_grid.shape = (None, 5)\n",
      "X.shape = (None, 1)\n",
      "gauss_grid.shape = (None, 5)\n",
      "1/3 [=========>....................] - ETA: 0s - loss: 50.3592X.shape = (None, 1)\n",
      "gauss_grid.shape = (None, 5)\n",
      "3/3 [==============================] - 0s 69ms/step - loss: 41.5793 - val_loss: 33.2278\n",
      "Epoch 2/100\n",
      "3/3 [==============================] - 0s 20ms/step - loss: 38.6423 - val_loss: 30.7153\n",
      "Epoch 3/100\n",
      "3/3 [==============================] - 0s 30ms/step - loss: 33.8956 - val_loss: 26.2655\n",
      "Epoch 4/100\n",
      "3/3 [==============================] - 0s 32ms/step - loss: 25.6406 - val_loss: 19.6931\n",
      "Epoch 5/100\n",
      "3/3 [==============================] - 0s 38ms/step - loss: 17.8018 - val_loss: 14.0874\n",
      "Epoch 6/100\n",
      "3/3 [==============================] - 0s 29ms/step - loss: 17.3104 - val_loss: 10.2854\n",
      "Epoch 7/100\n",
      "3/3 [==============================] - 0s 22ms/step - loss: 15.9703 - val_loss: 11.6176\n",
      "Epoch 8/100\n",
      "3/3 [==============================] - 0s 32ms/step - loss: 15.9646 - val_loss: 10.6463\n",
      "Epoch 9/100\n",
      "3/3 [==============================] - 0s 35ms/step - loss: 14.3585 - val_loss: 9.2248\n",
      "Epoch 10/100\n",
      "3/3 [==============================] - 0s 19ms/step - loss: 13.9975 - val_loss: 11.1844\n",
      "Epoch 11/100\n",
      "3/3 [==============================] - 0s 22ms/step - loss: 13.5760 - val_loss: 11.3480\n",
      "Epoch 12/100\n",
      "3/3 [==============================] - 0s 26ms/step - loss: 13.1561 - val_loss: 11.7361\n",
      "Epoch 13/100\n",
      "3/3 [==============================] - 0s 15ms/step - loss: 12.9655 - val_loss: 10.9661\n",
      "Epoch 14/100\n",
      "3/3 [==============================] - 0s 24ms/step - loss: 12.6235 - val_loss: 11.5541\n",
      "Epoch 15/100\n",
      "3/3 [==============================] - 0s 19ms/step - loss: 11.6216 - val_loss: 10.2591\n",
      "Epoch 16/100\n",
      "3/3 [==============================] - 0s 23ms/step - loss: 11.9357 - val_loss: 10.4015\n",
      "Epoch 17/100\n",
      "3/3 [==============================] - 0s 17ms/step - loss: 11.1958 - val_loss: 11.6655\n",
      "Epoch 18/100\n",
      "3/3 [==============================] - 0s 18ms/step - loss: 11.1998 - val_loss: 11.3514\n",
      "Epoch 19/100\n",
      "3/3 [==============================] - 0s 15ms/step - loss: 10.2800 - val_loss: 11.8509\n",
      "Epoch 20/100\n",
      "3/3 [==============================] - 0s 23ms/step - loss: 10.4607 - val_loss: 12.5402\n",
      "Epoch 21/100\n",
      "3/3 [==============================] - 0s 17ms/step - loss: 10.4808 - val_loss: 13.4134\n",
      "Epoch 22/100\n",
      "3/3 [==============================] - 0s 21ms/step - loss: 10.0324 - val_loss: 12.4136\n",
      "Epoch 23/100\n",
      "3/3 [==============================] - 0s 22ms/step - loss: 9.9201 - val_loss: 12.2960\n",
      "Epoch 24/100\n",
      "3/3 [==============================] - 0s 13ms/step - loss: 9.9948 - val_loss: 12.2153\n",
      "Epoch 25/100\n",
      "3/3 [==============================] - 0s 19ms/step - loss: 10.1223 - val_loss: 12.0726\n",
      "Epoch 26/100\n",
      "3/3 [==============================] - 0s 16ms/step - loss: 10.0338 - val_loss: 13.2937\n",
      "Epoch 27/100\n",
      "3/3 [==============================] - 0s 23ms/step - loss: 9.9608 - val_loss: 13.0370\n",
      "Epoch 28/100\n",
      "3/3 [==============================] - 0s 13ms/step - loss: 10.0412 - val_loss: 12.8713\n",
      "Epoch 29/100\n",
      "3/3 [==============================] - 0s 22ms/step - loss: 9.8071 - val_loss: 12.9574\n",
      "Epoch 30/100\n",
      "3/3 [==============================] - 0s 13ms/step - loss: 9.6388 - val_loss: 12.1518\n",
      "Epoch 31/100\n",
      "3/3 [==============================] - 0s 21ms/step - loss: 9.7715 - val_loss: 12.4922\n",
      "Epoch 32/100\n",
      "3/3 [==============================] - 0s 16ms/step - loss: 9.5719 - val_loss: 12.2581\n",
      "Epoch 33/100\n",
      "3/3 [==============================] - 0s 17ms/step - loss: 9.7697 - val_loss: 12.4798\n",
      "Epoch 34/100\n",
      "3/3 [==============================] - 0s 22ms/step - loss: 9.5533 - val_loss: 13.1206\n",
      "Epoch 35/100\n",
      "3/3 [==============================] - 0s 17ms/step - loss: 9.7291 - val_loss: 12.1357\n",
      "Epoch 36/100\n",
      "3/3 [==============================] - 0s 17ms/step - loss: 9.4901 - val_loss: 12.3482\n",
      "Epoch 37/100\n",
      "3/3 [==============================] - 0s 23ms/step - loss: 9.6819 - val_loss: 11.7294\n",
      "Epoch 38/100\n",
      "3/3 [==============================] - 0s 17ms/step - loss: 9.5487 - val_loss: 11.8867\n",
      "Epoch 39/100\n",
      "3/3 [==============================] - 0s 13ms/step - loss: 9.6687 - val_loss: 12.2036\n",
      "Epoch 40/100\n",
      "3/3 [==============================] - 0s 20ms/step - loss: 9.5227 - val_loss: 11.7900\n",
      "Epoch 41/100\n",
      "3/3 [==============================] - 0s 17ms/step - loss: 9.4961 - val_loss: 11.5331\n",
      "Epoch 42/100\n",
      "3/3 [==============================] - 0s 19ms/step - loss: 9.3601 - val_loss: 11.1818\n",
      "Epoch 43/100\n",
      "3/3 [==============================] - 0s 22ms/step - loss: 9.4367 - val_loss: 11.0758\n",
      "Epoch 44/100\n",
      "3/3 [==============================] - 0s 19ms/step - loss: 9.4250 - val_loss: 11.3035\n",
      "Epoch 45/100\n",
      "3/3 [==============================] - 0s 22ms/step - loss: 9.3162 - val_loss: 12.0146\n",
      "Epoch 46/100\n",
      "3/3 [==============================] - 0s 17ms/step - loss: 9.6517 - val_loss: 11.1030\n",
      "Epoch 47/100\n",
      "3/3 [==============================] - 0s 16ms/step - loss: 9.3444 - val_loss: 10.5524\n",
      "Epoch 48/100\n",
      "3/3 [==============================] - 0s 17ms/step - loss: 9.2737 - val_loss: 10.1061\n",
      "Epoch 49/100\n",
      "3/3 [==============================] - 0s 22ms/step - loss: 9.7445 - val_loss: 10.0417\n",
      "Epoch 50/100\n",
      "3/3 [==============================] - 0s 18ms/step - loss: 9.4145 - val_loss: 10.3028\n",
      "Epoch 51/100\n",
      "3/3 [==============================] - 0s 19ms/step - loss: 9.4080 - val_loss: 11.3938\n",
      "Epoch 52/100\n",
      "3/3 [==============================] - 0s 17ms/step - loss: 9.7683 - val_loss: 10.8446\n",
      "Epoch 53/100\n",
      "3/3 [==============================] - 0s 19ms/step - loss: 9.5279 - val_loss: 10.5798\n",
      "Epoch 54/100\n",
      "3/3 [==============================] - 0s 20ms/step - loss: 9.5413 - val_loss: 10.8014\n",
      "Epoch 55/100\n",
      "3/3 [==============================] - 0s 17ms/step - loss: 9.5014 - val_loss: 10.0768\n",
      "Epoch 56/100\n",
      "3/3 [==============================] - 0s 19ms/step - loss: 9.2073 - val_loss: 10.1597\n",
      "Epoch 57/100\n",
      "3/3 [==============================] - 0s 18ms/step - loss: 9.2275 - val_loss: 10.1398\n",
      "Epoch 58/100\n",
      "3/3 [==============================] - 0s 21ms/step - loss: 9.2476 - val_loss: 10.3097\n",
      "Epoch 59/100\n",
      "3/3 [==============================] - 0s 21ms/step - loss: 9.3816 - val_loss: 10.7256\n",
      "Epoch 60/100\n",
      "3/3 [==============================] - 0s 17ms/step - loss: 9.3573 - val_loss: 10.1804\n",
      "Epoch 61/100\n",
      "3/3 [==============================] - 0s 16ms/step - loss: 9.2412 - val_loss: 10.1796\n",
      "Epoch 62/100\n",
      "3/3 [==============================] - 0s 18ms/step - loss: 9.2291 - val_loss: 10.2340\n",
      "Epoch 63/100\n",
      "3/3 [==============================] - 0s 17ms/step - loss: 9.2112 - val_loss: 9.9657\n",
      "Epoch 64/100\n",
      "3/3 [==============================] - 0s 21ms/step - loss: 9.1990 - val_loss: 10.2246\n",
      "Epoch 65/100\n",
      "3/3 [==============================] - 0s 16ms/step - loss: 9.2419 - val_loss: 9.3677\n",
      "Epoch 66/100\n",
      "3/3 [==============================] - 0s 21ms/step - loss: 9.1612 - val_loss: 9.3771\n",
      "Epoch 67/100\n",
      "3/3 [==============================] - 0s 20ms/step - loss: 9.2671 - val_loss: 9.0685\n",
      "Epoch 68/100\n",
      "3/3 [==============================] - 0s 26ms/step - loss: 9.0421 - val_loss: 8.8681\n",
      "Epoch 69/100\n",
      "3/3 [==============================] - 0s 23ms/step - loss: 9.0784 - val_loss: 8.7830\n",
      "Epoch 70/100\n",
      "3/3 [==============================] - 0s 22ms/step - loss: 9.0993 - val_loss: 8.8090\n",
      "Epoch 71/100\n",
      "3/3 [==============================] - 0s 17ms/step - loss: 9.0293 - val_loss: 9.0327\n",
      "Epoch 72/100\n",
      "3/3 [==============================] - 0s 21ms/step - loss: 9.1758 - val_loss: 9.0625\n",
      "Epoch 73/100\n",
      "3/3 [==============================] - 0s 20ms/step - loss: 9.1157 - val_loss: 8.9891\n",
      "Epoch 74/100\n",
      "3/3 [==============================] - 0s 17ms/step - loss: 9.1388 - val_loss: 9.1139\n",
      "Epoch 75/100\n",
      "3/3 [==============================] - 0s 17ms/step - loss: 9.1177 - val_loss: 9.6119\n",
      "Epoch 76/100\n",
      "3/3 [==============================] - 0s 21ms/step - loss: 9.3454 - val_loss: 9.3444\n",
      "Epoch 77/100\n",
      "3/3 [==============================] - 0s 16ms/step - loss: 8.9646 - val_loss: 9.5935\n",
      "Epoch 78/100\n",
      "3/3 [==============================] - 0s 17ms/step - loss: 9.4551 - val_loss: 9.1105\n",
      "Epoch 79/100\n",
      "3/3 [==============================] - 0s 16ms/step - loss: 9.1297 - val_loss: 9.7276\n",
      "Epoch 80/100\n",
      "3/3 [==============================] - 0s 20ms/step - loss: 9.4626 - val_loss: 9.8544\n"
     ]
    },
    {
     "name": "stdout",
     "output_type": "stream",
     "text": [
      "Epoch 81/100\n",
      "3/3 [==============================] - 0s 24ms/step - loss: 9.8352 - val_loss: 10.3174\n",
      "Epoch 82/100\n",
      "3/3 [==============================] - 0s 20ms/step - loss: 10.0321 - val_loss: 10.8285\n",
      "Epoch 83/100\n",
      "3/3 [==============================] - 0s 22ms/step - loss: 9.4978 - val_loss: 9.9838\n",
      "Epoch 84/100\n",
      "3/3 [==============================] - 0s 14ms/step - loss: 9.2236 - val_loss: 9.2867\n",
      "Epoch 85/100\n",
      "3/3 [==============================] - 0s 22ms/step - loss: 9.1764 - val_loss: 8.4954\n",
      "Epoch 86/100\n",
      "3/3 [==============================] - 0s 14ms/step - loss: 9.4184 - val_loss: 8.1863\n",
      "Epoch 87/100\n",
      "3/3 [==============================] - 0s 22ms/step - loss: 9.2074 - val_loss: 9.7475\n",
      "Epoch 88/100\n",
      "3/3 [==============================] - 0s 17ms/step - loss: 9.4320 - val_loss: 9.8139\n",
      "Epoch 89/100\n",
      "3/3 [==============================] - 0s 17ms/step - loss: 9.6614 - val_loss: 9.7160\n",
      "Epoch 90/100\n",
      "3/3 [==============================] - 0s 22ms/step - loss: 9.3121 - val_loss: 9.5677\n",
      "Epoch 91/100\n",
      "3/3 [==============================] - 0s 14ms/step - loss: 9.0492 - val_loss: 8.4682\n",
      "Epoch 92/100\n",
      "3/3 [==============================] - 0s 22ms/step - loss: 9.1228 - val_loss: 8.3188\n",
      "Epoch 93/100\n",
      "3/3 [==============================] - 0s 14ms/step - loss: 9.2249 - val_loss: 8.2670\n",
      "Epoch 94/100\n",
      "3/3 [==============================] - 0s 22ms/step - loss: 9.1659 - val_loss: 8.7376\n",
      "Epoch 95/100\n",
      "3/3 [==============================] - 0s 23ms/step - loss: 8.9915 - val_loss: 9.4349\n",
      "Epoch 96/100\n",
      "3/3 [==============================] - 0s 14ms/step - loss: 9.0662 - val_loss: 9.6223\n",
      "Epoch 97/100\n",
      "3/3 [==============================] - 0s 22ms/step - loss: 9.0353 - val_loss: 9.4867\n",
      "Epoch 98/100\n",
      "3/3 [==============================] - 0s 13ms/step - loss: 9.0281 - val_loss: 8.7974\n",
      "Epoch 99/100\n",
      "3/3 [==============================] - 0s 20ms/step - loss: 9.0934 - val_loss: 8.3561\n",
      "Epoch 100/100\n",
      "3/3 [==============================] - 0s 21ms/step - loss: 9.1765 - val_loss: 8.1627\n"
     ]
    }
   ],
   "source": [
    "history = model.fit(X_train, y_train, epochs=100,\n",
    "                    validation_data=(X_valid, y_valid))"
   ]
  },
  {
   "cell_type": "code",
   "execution_count": 21,
   "id": "4d550f88",
   "metadata": {},
   "outputs": [
    {
     "name": "stdout",
     "output_type": "stream",
     "text": [
      "Saving figure grid_num_training_curve\n"
     ]
    },
    {
     "data": {
      "image/png": "[encoded data removed]",
      "text/plain": [
       "<Figure size 576x360 with 1 Axes>"
      ]
     },
     "metadata": {
      "needs_background": "light"
     },
     "output_type": "display_data"
    }
   ],
   "source": [
    "import pandas as pd\n",
    "\n",
    "pd.DataFrame(history.history).plot(figsize=(8, 5))\n",
    "plt.grid(True)\n",
    "# plt.gca().set_ylim(0, 1)\n",
    "save_fig(\"grid_num_training_curve\")\n",
    "plt.show()"
   ]
  },
  {
   "cell_type": "code",
   "execution_count": 22,
   "id": "5487653c",
   "metadata": {},
   "outputs": [
    {
     "name": "stdout",
     "output_type": "stream",
     "text": [
      "X.shape = (None, 1)\n",
      "gauss_grid.shape = (None, 5)\n",
      "Saving figure grid_num_prediction\n"
     ]
    },
    {
     "data": {
      "image/png": "[encoded data removed]",
      "text/plain": [
       "<Figure size 432x288 with 1 Axes>"
      ]
     },
     "metadata": {
      "needs_background": "light"
     },
     "output_type": "display_data"
    }
   ],
   "source": [
    "# X_new = np.linspace(-5, 5, 100).reshape(100, 1)\n",
    "# y_new = model.predict(X_new)\n",
    "#\n",
    "# plt.plot(X_train, y_train, \"b.\")\n",
    "draw_points(X_train, y_train, sid_train)\n",
    "# plt.plot(X_new, y_new, \"r-\", linewidth=2, label=\"Predictions\")\n",
    "draw_func(model.predict, mark='r-', linewidth=2, label=\"Predictions\")\n",
    "draw_normal_func(func_dict)\n",
    "plt.xlabel(\"$x_1$\", fontsize=18)\n",
    "plt.ylabel(\"$y$\", rotation=0, fontsize=18)\n",
    "plt.legend(loc=\"upper left\", fontsize=14)\n",
    "# plt.axis([-3, 3, 0, 10])\n",
    "save_fig(\"grid_num_prediction\")\n",
    "plt.show()"
   ]
  },
  {
   "cell_type": "code",
   "execution_count": 23,
   "id": "f9c053a4",
   "metadata": {},
   "outputs": [
    {
     "name": "stdout",
     "output_type": "stream",
     "text": [
      "y_func.shape = (100, 1)\n",
      "y_gt.shape = (100, 1)\n"
     ]
    },
    {
     "data": {
      "text/plain": [
       "4.66653170933201"
      ]
     },
     "execution_count": 23,
     "metadata": {},
     "output_type": "execute_result"
    }
   ],
   "source": [
    "get_prediction_error(model.predict, func_dict, name=\"grid-num\")"
   ]
  },
  {
   "cell_type": "markdown",
   "id": "fe65d614",
   "metadata": {},
   "source": [
    "# Grid & Regression by Classification (grid --> grid)"
   ]
  },
  {
   "cell_type": "code",
   "execution_count": 24,
   "id": "3d35615e",
   "metadata": {},
   "outputs": [],
   "source": [
    "class num2grid_np():\n",
    "    def __init__(self, units, x_min=-10, x_max=10, sigma=1.0):\n",
    "        self.units = units\n",
    "        self.x_min = x_min\n",
    "        self.x_max = x_max\n",
    "        self.sigma = sigma\n",
    "        self.sigma2 = self.sigma**2\n",
    "        self.x_grid = np.linspace(self.x_min, self.x_max, self.units, endpoint=True)\n",
    "        print(\"self.x_grid = %s\" % str(self.x_grid))\n",
    "        \n",
    "    def convert(self, X):\n",
    "        gauss_grid = np.exp( -(self.x_grid - X)**2 / (2.0*self.sigma2) )\n",
    "#         if len(gauss_grid.shape) == 1:\n",
    "#             gauss_grid = gauss_grid.reshape([1,-1])\n",
    "#         grid_sum = np.sum(gauss_grid, axis=1, keepdims=True)\n",
    "        grid_sum = np.sum(gauss_grid, axis=-1, keepdims=True)\n",
    "        gauss_grid = gauss_grid / grid_sum\n",
    "        return gauss_grid\n",
    "    \n",
    "    def inv_convert(self, grid):\n",
    "#         if len(grid.shape) == 1:\n",
    "#             grid = grid.reshape([1,-1])\n",
    "#         grid_sum = np.sum(grid, axis=1)\n",
    "        grid_sum = np.sum(grid, axis=-1)\n",
    "#         print(grid_sum)\n",
    "        exp_num = np.sum((self.x_grid * grid), axis=-1) / grid_sum # element-wise\n",
    "        return exp_num\n",
    "    \n",
    "    def get_statistic(self, grid):\n",
    "        grid_sum = np.sum(grid, axis=-1)\n",
    "        _mean = np.sum((self.x_grid * grid), axis=-1) / grid_sum # element-wise\n",
    "        _var  = np.sum( ((self.x_grid.reshape((1,-1)) - _mean.reshape((-1,1)))**2 * grid), axis=-1) / grid_sum # element-wise\n",
    "        # print(\"(_mean, _var) = (%f, %f)\" % (_mean, _var))\n",
    "        _stddev = np.sqrt(_var)\n",
    "        return _mean, _stddev"
   ]
  },
  {
   "cell_type": "code",
   "execution_count": 25,
   "id": "4903180b",
   "metadata": {},
   "outputs": [
    {
     "name": "stdout",
     "output_type": "stream",
     "text": [
      "self.x_grid = [-100.          -95.91836735  -91.83673469  -87.75510204  -83.67346939\n",
      "  -79.59183673  -75.51020408  -71.42857143  -67.34693878  -63.26530612\n",
      "  -59.18367347  -55.10204082  -51.02040816  -46.93877551  -42.85714286\n",
      "  -38.7755102   -34.69387755  -30.6122449   -26.53061224  -22.44897959\n",
      "  -18.36734694  -14.28571429  -10.20408163   -6.12244898   -2.04081633\n",
      "    2.04081633    6.12244898   10.20408163   14.28571429   18.36734694\n",
      "   22.44897959   26.53061224   30.6122449    34.69387755   38.7755102\n",
      "   42.85714286   46.93877551   51.02040816   55.10204082   59.18367347\n",
      "   63.26530612   67.34693878   71.42857143   75.51020408   79.59183673\n",
      "   83.67346939   87.75510204   91.83673469   95.91836735  100.        ]\n"
     ]
    }
   ],
   "source": [
    "# class_num = 10 # 10\n",
    "# n2g = num2grid_np(class_num, x_min=-100.0, x_max=100.0, sigma=20.0) # 20.0\n",
    "# class_num = 20\n",
    "# n2g = num2grid_np(class_num, x_min=-100.0, x_max=100.0, sigma=15.0) # 20.0\n",
    "class_num = 50\n",
    "n2g = num2grid_np(class_num, x_min=-100.0, x_max=100.0, sigma=6.0) # 5.0 "
   ]
  },
  {
   "cell_type": "code",
   "execution_count": 26,
   "id": "dce05258",
   "metadata": {},
   "outputs": [
    {
     "name": "stdout",
     "output_type": "stream",
     "text": [
      "[[3.57995092e-60 2.08100846e-55 7.61538914e-51 1.75441300e-46\n",
      "  2.54444491e-42 2.32314196e-38 1.33530332e-34 4.83176258e-31\n",
      "  1.10065884e-27 1.57841554e-24 1.42498879e-21 8.09884396e-19\n",
      "  2.89771784e-16 6.52695532e-14 9.25521826e-12 8.26198061e-10\n",
      "  4.64304784e-08 1.64264466e-06 3.65852120e-05 5.12966502e-04\n",
      "  4.52786966e-03 2.51605603e-02 8.80173281e-02 1.93837381e-01\n",
      "  2.68737559e-01 2.34552834e-01 1.28876722e-01 4.45789421e-02\n",
      "  9.70748025e-03 1.33077537e-03 1.14848275e-04 6.23972825e-06\n",
      "  2.13416679e-07 4.59528573e-09 6.22899760e-11 5.31551427e-13\n",
      "  2.85557712e-15 9.65748361e-18 2.05615356e-20 2.75593262e-23\n",
      "  2.32542921e-26 1.23526215e-29 4.13082337e-33 8.69632169e-37\n",
      "  1.15254011e-40 9.61607812e-45 5.05081425e-49 1.67011468e-53\n",
      "  3.47658354e-58 4.55596654e-63]]\n"
     ]
    }
   ],
   "source": [
    "# grid_1 = n2g.convert(-1.2)\n",
    "grid_1 = n2g.convert([[-1.2]])\n",
    "print(grid_1)"
   ]
  },
  {
   "cell_type": "code",
   "execution_count": 27,
   "id": "48203fe2",
   "metadata": {},
   "outputs": [
    {
     "data": {
      "text/plain": [
       "array([-1.2])"
      ]
     },
     "execution_count": 27,
     "metadata": {},
     "output_type": "execute_result"
    }
   ],
   "source": [
    "n2g.inv_convert(grid_1)"
   ]
  },
  {
   "cell_type": "code",
   "execution_count": 28,
   "id": "a741b6d1",
   "metadata": {},
   "outputs": [
    {
     "data": {
      "text/plain": [
       "(array([-1.2]), array([6.]))"
      ]
     },
     "execution_count": 28,
     "metadata": {},
     "output_type": "execute_result"
    }
   ],
   "source": [
    "n2g.get_statistic(grid_1)"
   ]
  },
  {
   "cell_type": "markdown",
   "id": "bdc0b9a0",
   "metadata": {},
   "source": [
    "### Convert the labels to grid (pre-processing)"
   ]
  },
  {
   "cell_type": "code",
   "execution_count": 29,
   "id": "39c7fa96",
   "metadata": {},
   "outputs": [],
   "source": [
    "y_train_grid = n2g.convert(y_train)\n",
    "y_valid_grid = n2g.convert(y_valid)"
   ]
  },
  {
   "cell_type": "code",
   "execution_count": 30,
   "id": "f577a751",
   "metadata": {},
   "outputs": [
    {
     "name": "stdout",
     "output_type": "stream",
     "text": [
      "(80, 50)\n",
      "(20, 50)\n"
     ]
    }
   ],
   "source": [
    "print(y_train_grid.shape)\n",
    "print(y_valid_grid.shape)"
   ]
  },
  {
   "cell_type": "code",
   "execution_count": 31,
   "id": "71610af1",
   "metadata": {},
   "outputs": [
    {
     "name": "stdout",
     "output_type": "stream",
     "text": [
      "X.shape = (None, 1)\n",
      "gauss_grid.shape = (None, 5)\n"
     ]
    },
    {
     "name": "stderr",
     "output_type": "stream",
     "text": [
      "C:\\Users\\benso\\anaconda3\\envs\\ml\\lib\\site-packages\\keras\\optimizer_v2\\gradient_descent.py:102: UserWarning: The `lr` argument is deprecated, use `learning_rate` instead.\n",
      "  super(SGD, self).__init__(name, **kwargs)\n"
     ]
    }
   ],
   "source": [
    "model = keras.models.Sequential([\n",
    "#     keras.layers.Dense(30, activation=\"relu\", input_shape=X_train.shape[1:]),\n",
    "    num2grid(5,x_min=-10, x_max=10, sigma=3.0, input_shape=X_train.shape[1:]),\n",
    "    keras.layers.Dense(30, activation=\"relu\"),\n",
    "#     keras.layers.Dense(100, activation=\"relu\", kernel_regularizer=tf.keras.regularizers.l1(0.01)),\n",
    "    keras.layers.Dense(class_num, activation=\"softmax\"),\n",
    "])\n",
    "\n",
    "optimizer = keras.optimizers.SGD(lr=0.2, momentum=0.9)\n",
    "model.compile(loss=\"categorical_crossentropy\", optimizer=optimizer)"
   ]
  },
  {
   "cell_type": "code",
   "execution_count": 32,
   "id": "e2244aee",
   "metadata": {
    "scrolled": true
   },
   "outputs": [
    {
     "name": "stdout",
     "output_type": "stream",
     "text": [
      "Epoch 1/100\n",
      "X.shape = (None, 1)\n",
      "gauss_grid.shape = (None, 5)\n",
      "X.shape = (None, 1)\n",
      "gauss_grid.shape = (None, 5)\n",
      "1/3 [=========>....................] - ETA: 1s - loss: 3.8912X.shape = (None, 1)\n",
      "gauss_grid.shape = (None, 5)\n",
      "3/3 [==============================] - 1s 85ms/step - loss: 3.8939 - val_loss: 3.8862\n",
      "Epoch 2/100\n",
      "3/3 [==============================] - 0s 14ms/step - loss: 3.8508 - val_loss: 3.8495\n",
      "Epoch 3/100\n",
      "3/3 [==============================] - 0s 33ms/step - loss: 3.7845 - val_loss: 3.8119\n",
      "Epoch 4/100\n",
      "3/3 [==============================] - 0s 49ms/step - loss: 3.6938 - val_loss: 3.7698\n",
      "Epoch 5/100\n",
      "3/3 [==============================] - 0s 36ms/step - loss: 3.5973 - val_loss: 3.7288\n",
      "Epoch 6/100\n",
      "3/3 [==============================] - 0s 32ms/step - loss: 3.4877 - val_loss: 3.6812\n",
      "Epoch 7/100\n",
      "3/3 [==============================] - 0s 31ms/step - loss: 3.3822 - val_loss: 3.6034\n",
      "Epoch 8/100\n",
      "3/3 [==============================] - 0s 30ms/step - loss: 3.2974 - val_loss: 3.5084\n",
      "Epoch 9/100\n",
      "3/3 [==============================] - 0s 38ms/step - loss: 3.2086 - val_loss: 3.3897\n",
      "Epoch 10/100\n",
      "3/3 [==============================] - 0s 28ms/step - loss: 3.1299 - val_loss: 3.2990\n",
      "Epoch 11/100\n",
      "3/3 [==============================] - 0s 19ms/step - loss: 3.0728 - val_loss: 3.1829\n",
      "Epoch 12/100\n",
      "3/3 [==============================] - 0s 19ms/step - loss: 3.0148 - val_loss: 3.1031\n",
      "Epoch 13/100\n",
      "3/3 [==============================] - 0s 14ms/step - loss: 2.9841 - val_loss: 3.0350\n",
      "Epoch 14/100\n",
      "3/3 [==============================] - 0s 16ms/step - loss: 2.9571 - val_loss: 2.9989\n",
      "Epoch 15/100\n",
      "3/3 [==============================] - 0s 22ms/step - loss: 2.9276 - val_loss: 2.9781\n",
      "Epoch 16/100\n",
      "3/3 [==============================] - 0s 17ms/step - loss: 2.9041 - val_loss: 3.0007\n",
      "Epoch 17/100\n",
      "3/3 [==============================] - 0s 21ms/step - loss: 2.8802 - val_loss: 3.0513\n",
      "Epoch 18/100\n",
      "3/3 [==============================] - 0s 16ms/step - loss: 2.8503 - val_loss: 3.0485\n",
      "Epoch 19/100\n",
      "3/3 [==============================] - 0s 18ms/step - loss: 2.8316 - val_loss: 3.0167\n",
      "Epoch 20/100\n",
      "3/3 [==============================] - 0s 18ms/step - loss: 2.8062 - val_loss: 2.9839\n",
      "Epoch 21/100\n",
      "3/3 [==============================] - 0s 17ms/step - loss: 2.7787 - val_loss: 2.9891\n",
      "Epoch 22/100\n",
      "3/3 [==============================] - 0s 23ms/step - loss: 2.7600 - val_loss: 2.9457\n",
      "Epoch 23/100\n",
      "3/3 [==============================] - 0s 20ms/step - loss: 2.7386 - val_loss: 2.8340\n",
      "Epoch 24/100\n",
      "3/3 [==============================] - 0s 21ms/step - loss: 2.7205 - val_loss: 2.8101\n",
      "Epoch 25/100\n",
      "3/3 [==============================] - 0s 23ms/step - loss: 2.7034 - val_loss: 2.8459\n",
      "Epoch 26/100\n",
      "3/3 [==============================] - 0s 19ms/step - loss: 2.6782 - val_loss: 2.9214\n",
      "Epoch 27/100\n",
      "3/3 [==============================] - 0s 27ms/step - loss: 2.6750 - val_loss: 2.9168\n",
      "Epoch 28/100\n",
      "3/3 [==============================] - 0s 20ms/step - loss: 2.6507 - val_loss: 2.8637\n",
      "Epoch 29/100\n",
      "3/3 [==============================] - 0s 20ms/step - loss: 2.6403 - val_loss: 2.7935\n",
      "Epoch 30/100\n",
      "3/3 [==============================] - 0s 19ms/step - loss: 2.6360 - val_loss: 2.7458\n",
      "Epoch 31/100\n",
      "3/3 [==============================] - 0s 26ms/step - loss: 2.6099 - val_loss: 2.7959\n",
      "Epoch 32/100\n",
      "3/3 [==============================] - 0s 21ms/step - loss: 2.6122 - val_loss: 2.8061\n",
      "Epoch 33/100\n",
      "3/3 [==============================] - 0s 23ms/step - loss: 2.5971 - val_loss: 2.7212\n",
      "Epoch 34/100\n",
      "3/3 [==============================] - 0s 19ms/step - loss: 2.6103 - val_loss: 2.7382\n",
      "Epoch 35/100\n",
      "3/3 [==============================] - 0s 19ms/step - loss: 2.5870 - val_loss: 2.8686\n",
      "Epoch 36/100\n",
      "3/3 [==============================] - 0s 24ms/step - loss: 2.5984 - val_loss: 2.8382\n",
      "Epoch 37/100\n",
      "3/3 [==============================] - 0s 28ms/step - loss: 2.5710 - val_loss: 2.7817\n",
      "Epoch 38/100\n",
      "3/3 [==============================] - 0s 19ms/step - loss: 2.5588 - val_loss: 2.7019\n",
      "Epoch 39/100\n",
      "3/3 [==============================] - 0s 19ms/step - loss: 2.5637 - val_loss: 2.6622\n",
      "Epoch 40/100\n",
      "3/3 [==============================] - 0s 17ms/step - loss: 2.5495 - val_loss: 2.7205\n",
      "Epoch 41/100\n",
      "3/3 [==============================] - 0s 19ms/step - loss: 2.5422 - val_loss: 2.7643\n",
      "Epoch 42/100\n",
      "3/3 [==============================] - 0s 22ms/step - loss: 2.5250 - val_loss: 2.6925\n",
      "Epoch 43/100\n",
      "3/3 [==============================] - 0s 20ms/step - loss: 2.5279 - val_loss: 2.6734\n",
      "Epoch 44/100\n",
      "3/3 [==============================] - 0s 22ms/step - loss: 2.5237 - val_loss: 2.7038\n",
      "Epoch 45/100\n",
      "3/3 [==============================] - 0s 20ms/step - loss: 2.5251 - val_loss: 2.7106\n",
      "Epoch 46/100\n",
      "3/3 [==============================] - 0s 23ms/step - loss: 2.5044 - val_loss: 2.6650\n",
      "Epoch 47/100\n",
      "3/3 [==============================] - 0s 23ms/step - loss: 2.5155 - val_loss: 2.6573\n",
      "Epoch 48/100\n",
      "3/3 [==============================] - 0s 17ms/step - loss: 2.5076 - val_loss: 2.6916\n",
      "Epoch 49/100\n",
      "3/3 [==============================] - 0s 22ms/step - loss: 2.5028 - val_loss: 2.6673\n",
      "Epoch 50/100\n",
      "3/3 [==============================] - 0s 14ms/step - loss: 2.4876 - val_loss: 2.6621\n",
      "Epoch 51/100\n",
      "3/3 [==============================] - 0s 22ms/step - loss: 2.5005 - val_loss: 2.6615\n",
      "Epoch 52/100\n",
      "3/3 [==============================] - 0s 18ms/step - loss: 2.4877 - val_loss: 2.6639\n",
      "Epoch 53/100\n",
      "3/3 [==============================] - 0s 19ms/step - loss: 2.4930 - val_loss: 2.7238\n",
      "Epoch 54/100\n",
      "3/3 [==============================] - 0s 20ms/step - loss: 2.4791 - val_loss: 2.7706\n",
      "Epoch 55/100\n",
      "3/3 [==============================] - 0s 19ms/step - loss: 2.4953 - val_loss: 2.6754\n",
      "Epoch 56/100\n",
      "3/3 [==============================] - 0s 21ms/step - loss: 2.4869 - val_loss: 2.6065\n",
      "Epoch 57/100\n",
      "3/3 [==============================] - 0s 16ms/step - loss: 2.4694 - val_loss: 2.6213\n",
      "Epoch 58/100\n",
      "3/3 [==============================] - 0s 18ms/step - loss: 2.4591 - val_loss: 2.6411\n",
      "Epoch 59/100\n",
      "3/3 [==============================] - 0s 17ms/step - loss: 2.4589 - val_loss: 2.6200\n",
      "Epoch 60/100\n",
      "3/3 [==============================] - 0s 21ms/step - loss: 2.4552 - val_loss: 2.6801\n",
      "Epoch 61/100\n",
      "3/3 [==============================] - 0s 16ms/step - loss: 2.4583 - val_loss: 2.6763\n",
      "Epoch 62/100\n",
      "3/3 [==============================] - 0s 17ms/step - loss: 2.4549 - val_loss: 2.6270\n",
      "Epoch 63/100\n",
      "3/3 [==============================] - 0s 21ms/step - loss: 2.4423 - val_loss: 2.6607\n",
      "Epoch 64/100\n",
      "3/3 [==============================] - 0s 18ms/step - loss: 2.4471 - val_loss: 2.7263\n",
      "Epoch 65/100\n",
      "3/3 [==============================] - 0s 23ms/step - loss: 2.4452 - val_loss: 2.6511\n",
      "Epoch 66/100\n",
      "3/3 [==============================] - 0s 14ms/step - loss: 2.4458 - val_loss: 2.5747\n",
      "Epoch 67/100\n",
      "3/3 [==============================] - 0s 18ms/step - loss: 2.4475 - val_loss: 2.6335\n",
      "Epoch 68/100\n",
      "3/3 [==============================] - 0s 25ms/step - loss: 2.4448 - val_loss: 2.6622\n",
      "Epoch 69/100\n",
      "3/3 [==============================] - 0s 20ms/step - loss: 2.4394 - val_loss: 2.6444\n",
      "Epoch 70/100\n",
      "3/3 [==============================] - 0s 18ms/step - loss: 2.4585 - val_loss: 2.6419\n",
      "Epoch 71/100\n",
      "3/3 [==============================] - 0s 21ms/step - loss: 2.4407 - val_loss: 2.6949\n",
      "Epoch 72/100\n",
      "3/3 [==============================] - 0s 22ms/step - loss: 2.4423 - val_loss: 2.6265\n",
      "Epoch 73/100\n",
      "3/3 [==============================] - 0s 17ms/step - loss: 2.4325 - val_loss: 2.6123\n",
      "Epoch 74/100\n",
      "3/3 [==============================] - 0s 17ms/step - loss: 2.4348 - val_loss: 2.6029\n",
      "Epoch 75/100\n",
      "3/3 [==============================] - 0s 18ms/step - loss: 2.4283 - val_loss: 2.6300\n",
      "Epoch 76/100\n",
      "3/3 [==============================] - 0s 23ms/step - loss: 2.4284 - val_loss: 2.6689\n",
      "Epoch 77/100\n",
      "3/3 [==============================] - 0s 18ms/step - loss: 2.4232 - val_loss: 2.6277\n",
      "Epoch 78/100\n",
      "3/3 [==============================] - 0s 19ms/step - loss: 2.4275 - val_loss: 2.5722\n",
      "Epoch 79/100\n",
      "3/3 [==============================] - 0s 17ms/step - loss: 2.4062 - val_loss: 2.5830\n",
      "Epoch 80/100\n",
      "3/3 [==============================] - 0s 28ms/step - loss: 2.4137 - val_loss: 2.5832\n",
      "Epoch 81/100\n"
     ]
    },
    {
     "name": "stdout",
     "output_type": "stream",
     "text": [
      "3/3 [==============================] - 0s 17ms/step - loss: 2.4180 - val_loss: 2.6606\n",
      "Epoch 82/100\n",
      "3/3 [==============================] - 0s 26ms/step - loss: 2.4132 - val_loss: 2.6105\n",
      "Epoch 83/100\n",
      "3/3 [==============================] - 0s 20ms/step - loss: 2.4073 - val_loss: 2.5863\n",
      "Epoch 84/100\n",
      "3/3 [==============================] - 0s 17ms/step - loss: 2.4165 - val_loss: 2.5518\n",
      "Epoch 85/100\n",
      "3/3 [==============================] - 0s 17ms/step - loss: 2.4162 - val_loss: 2.5244\n",
      "Epoch 86/100\n",
      "3/3 [==============================] - 0s 19ms/step - loss: 2.4108 - val_loss: 2.5371\n",
      "Epoch 87/100\n",
      "3/3 [==============================] - 0s 21ms/step - loss: 2.4014 - val_loss: 2.5228\n",
      "Epoch 88/100\n",
      "3/3 [==============================] - 0s 18ms/step - loss: 2.4022 - val_loss: 2.5757\n",
      "Epoch 89/100\n",
      "3/3 [==============================] - 0s 18ms/step - loss: 2.4030 - val_loss: 2.6668\n",
      "Epoch 90/100\n",
      "3/3 [==============================] - 0s 22ms/step - loss: 2.4121 - val_loss: 2.6188\n",
      "Epoch 91/100\n",
      "3/3 [==============================] - 0s 17ms/step - loss: 2.4195 - val_loss: 2.5548\n",
      "Epoch 92/100\n",
      "3/3 [==============================] - 0s 17ms/step - loss: 2.4197 - val_loss: 2.5755\n",
      "Epoch 93/100\n",
      "3/3 [==============================] - 0s 22ms/step - loss: 2.4010 - val_loss: 2.6559\n",
      "Epoch 94/100\n",
      "3/3 [==============================] - 0s 22ms/step - loss: 2.4061 - val_loss: 2.6320\n",
      "Epoch 95/100\n",
      "3/3 [==============================] - 0s 17ms/step - loss: 2.3950 - val_loss: 2.5946\n",
      "Epoch 96/100\n",
      "3/3 [==============================] - 0s 17ms/step - loss: 2.3982 - val_loss: 2.5856\n",
      "Epoch 97/100\n",
      "3/3 [==============================] - 0s 21ms/step - loss: 2.4172 - val_loss: 2.5565\n",
      "Epoch 98/100\n",
      "3/3 [==============================] - 0s 17ms/step - loss: 2.3941 - val_loss: 2.4723\n",
      "Epoch 99/100\n",
      "3/3 [==============================] - 0s 17ms/step - loss: 2.4062 - val_loss: 2.5396\n",
      "Epoch 100/100\n",
      "3/3 [==============================] - 0s 22ms/step - loss: 2.4047 - val_loss: 2.6352\n"
     ]
    }
   ],
   "source": [
    "history = model.fit(X_train, y_train_grid, epochs=100,\n",
    "                    validation_data=(X_valid, y_valid_grid))"
   ]
  },
  {
   "cell_type": "code",
   "execution_count": 33,
   "id": "390834c9",
   "metadata": {},
   "outputs": [
    {
     "name": "stdout",
     "output_type": "stream",
     "text": [
      "Saving figure grid_rbc_training_curve\n"
     ]
    },
    {
     "data": {
      "image/png": "[encoded data removed]",
      "text/plain": [
       "<Figure size 576x360 with 1 Axes>"
      ]
     },
     "metadata": {
      "needs_background": "light"
     },
     "output_type": "display_data"
    }
   ],
   "source": [
    "import pandas as pd\n",
    "\n",
    "pd.DataFrame(history.history).plot(figsize=(8, 5))\n",
    "plt.grid(True)\n",
    "# plt.gca().set_ylim(0, 1)\n",
    "save_fig(\"grid_rbc_training_curve\")\n",
    "plt.show()"
   ]
  },
  {
   "cell_type": "code",
   "execution_count": 34,
   "id": "6fba3b6a",
   "metadata": {},
   "outputs": [
    {
     "name": "stdout",
     "output_type": "stream",
     "text": [
      "X.shape = (None, 1)\n",
      "gauss_grid.shape = (None, 5)\n",
      "Saving figure grid_rbc_prediction\n"
     ]
    },
    {
     "data": {
      "image/png": "[encoded data removed]",
      "text/plain": [
       "<Figure size 432x288 with 1 Axes>"
      ]
     },
     "metadata": {
      "needs_background": "light"
     },
     "output_type": "display_data"
    }
   ],
   "source": [
    "# X_new = np.linspace(-5, 5, 100).reshape(100, 1)\n",
    "# y_new_proba = model.predict(X_new)\n",
    "# y_new = n2g.inv_convert(y_new_proba)\n",
    "#\n",
    "# plt.plot(X_train, y_train, \"b.\")\n",
    "draw_points(X_train, y_train, sid_train)\n",
    "# plt.plot(X_new, y_new, \"r-\", linewidth=2, label=\"Predictions\")\n",
    "draw_func((lambda X: n2g.inv_convert(model.predict(X)) ), mark='r-', linewidth=2, label=\"Predictions\")\n",
    "draw_normal_func(func_dict)\n",
    "plt.xlabel(\"$x_1$\", fontsize=18)\n",
    "plt.ylabel(\"$y$\", rotation=0, fontsize=18)\n",
    "plt.legend(loc=\"upper left\", fontsize=14)\n",
    "# plt.axis([-3, 3, 0, 10])\n",
    "save_fig(\"grid_rbc_prediction\")\n",
    "plt.show()"
   ]
  },
  {
   "cell_type": "code",
   "execution_count": 35,
   "id": "fc059ba5",
   "metadata": {},
   "outputs": [
    {
     "name": "stdout",
     "output_type": "stream",
     "text": [
      "y_func.shape = (100, 1)\n",
      "y_gt.shape = (100, 1)\n"
     ]
    },
    {
     "data": {
      "text/plain": [
       "4.6717966851422865"
      ]
     },
     "execution_count": 35,
     "metadata": {},
     "output_type": "execute_result"
    }
   ],
   "source": [
    "get_prediction_error((lambda X: n2g.inv_convert(model.predict(X)) ), func_dict, name=\"grid-rbc\")"
   ]
  },
  {
   "cell_type": "code",
   "execution_count": 36,
   "id": "edcf26db",
   "metadata": {},
   "outputs": [
    {
     "name": "stdout",
     "output_type": "stream",
     "text": [
      "Saving figure grid_rbc_proba\n"
     ]
    },
    {
     "data": {
      "image/png": "[encoded data removed]",
      "text/plain": [
       "<Figure size 432x288 with 1 Axes>"
      ]
     },
     "metadata": {
      "needs_background": "light"
     },
     "output_type": "display_data"
    }
   ],
   "source": [
    "X_new = np.linspace(-5, 5, 100).reshape(100, 1)\n",
    "y_new_proba = model.predict(X_new)\n",
    "# y_new = n2g.inv_convert(y_new_proba)\n",
    "#\n",
    "xv, yv = np.meshgrid(X_new, np.linspace(n2g.x_min, n2g.x_max, n2g.units))\n",
    "# print(xv)\n",
    "# print(yv)\n",
    "plt.pcolormesh(xv, yv, y_new_proba.T, shading=\"nearest\")\n",
    "save_fig(\"grid_rbc_proba\")"
   ]
  },
  {
   "cell_type": "markdown",
   "id": "4064d3b5",
   "metadata": {},
   "source": [
    "### Draw the 1-sigma boundary line"
   ]
  },
  {
   "cell_type": "code",
   "execution_count": 37,
   "id": "247e8712",
   "metadata": {},
   "outputs": [
    {
     "name": "stdout",
     "output_type": "stream",
     "text": [
      "Saving figure grid_rbc_prediction_1sigma\n"
     ]
    },
    {
     "data": {
      "image/png": "[encoded data removed]",
      "text/plain": [
       "<Figure size 432x288 with 1 Axes>"
      ]
     },
     "metadata": {
      "needs_background": "light"
     },
     "output_type": "display_data"
    }
   ],
   "source": [
    "def n_sigma_boundary_line(X, n):\n",
    "    _mean, _sigma = n2g.get_statistic(model.predict(X))\n",
    "    return( _mean + n*_sigma)\n",
    "\n",
    "# plt.plot(X_train, y_train, \"b.\")\n",
    "draw_points(X_train, y_train, sid_train)\n",
    "#\n",
    "draw_func((lambda X: n2g.inv_convert(model.predict(X)) ), mark='r-', linewidth=2, label=\"Predictions\")\n",
    "draw_func((lambda X: n_sigma_boundary_line(X, +1.0) ), mark='k--', linewidth=1, label=\"$\\mu+\\sigma$\")\n",
    "draw_func((lambda X: n_sigma_boundary_line(X, -1.0) ), mark='k--', linewidth=1, label=\"$\\mu-\\sigma$\")\n",
    "#\n",
    "draw_normal_func(func_dict)\n",
    "plt.xlabel(\"$x_1$\", fontsize=18)\n",
    "plt.ylabel(\"$y$\", rotation=0, fontsize=18)\n",
    "plt.legend(loc=\"upper left\", fontsize=14)\n",
    "# plt.axis([-3, 3, 0, 10])\n",
    "save_fig(\"grid_rbc_prediction_1sigma\")\n",
    "plt.show()"
   ]
  },
  {
   "cell_type": "code",
   "execution_count": null,
   "id": "e6266336",
   "metadata": {},
   "outputs": [],
   "source": []
  },
  {
   "cell_type": "markdown",
   "id": "99a85ab5",
   "metadata": {},
   "source": [
    "# Grid & Regression by Classification + Offset Estimation (grid --> grid,num)"
   ]
  },
  {
   "cell_type": "code",
   "execution_count": 38,
   "id": "26440167",
   "metadata": {},
   "outputs": [],
   "source": [
    "class num2gridOffset_np():\n",
    "    def __init__(self, units, x_min=-10, x_max=10):\n",
    "        self.units = units\n",
    "        self.x_min = x_min\n",
    "        self.x_max = x_max\n",
    "        self.x_grid = np.linspace(self.x_min, self.x_max, self.units, endpoint=True)\n",
    "        # bins\n",
    "        x_space = np.average(self.x_grid[1:] - self.x_grid[:-1])\n",
    "        print(\"x_space = %f\" % x_space)\n",
    "        x_0 = self.x_grid[0] - 0.5 * x_space\n",
    "        self.x_bins = [x_0 + _i*x_space for _i in range(len(self.x_grid)+1)]\n",
    "        print(\"self.x_grid = %s\" % str(self.x_grid))\n",
    "#         print(\"self.x_bins = %s\" % str(self.x_bins))\n",
    "        \n",
    "    def convert(self, X):\n",
    "        '''\n",
    "        Convert a batch of number to one-hot class and numerical offset to each grid's center\n",
    "        (m, 1) --> (m, n_units, 2)\n",
    "        '''\n",
    "        X = np.array(X)\n",
    "        if len(X.shape) <= 1:\n",
    "            X = X.reshape((-1,1))\n",
    "        idxs_bin = np.digitize(X, self.x_bins, right=False) \n",
    "        idxs_grid = (idxs_bin - 1) + 1*(idxs_bin<= 0) - 1*(idxs_bin>=self.units)\n",
    "        print(idxs_grid.shape)\n",
    "        #\n",
    "        batch_size = X.shape[0]\n",
    "        grid = np.zeros((batch_size, self.units, 2))\n",
    "        # Fill in the values\n",
    "        grid[np.arange(batch_size), idxs_grid.reshape((-1,)), 0] = 1.0\n",
    "        grid[np.arange(batch_size), :, 1] = X - self.x_grid.reshape((1,-1)) # Offset\n",
    "        return grid\n",
    "    \n",
    "    def inv_convert(self, grid):\n",
    "        idxs_grid = np.argmax(grid[...,0], axis=1)\n",
    "        print(idxs_grid.shape)\n",
    "        #\n",
    "        batch_size = grid.shape[0]\n",
    "        offset_est = grid[np.arange(batch_size),idxs_grid,1]\n",
    "        print(offset_est.shape)\n",
    "        num_est = self.x_grid[idxs_grid].reshape((1,-1)) + offset_est\n",
    "        return num_est.reshape((-1,))"
   ]
  },
  {
   "cell_type": "code",
   "execution_count": 39,
   "id": "8b15e9ff",
   "metadata": {},
   "outputs": [
    {
     "name": "stdout",
     "output_type": "stream",
     "text": [
      "x_space = 22.222222\n",
      "self.x_grid = [-100.          -77.77777778  -55.55555556  -33.33333333  -11.11111111\n",
      "   11.11111111   33.33333333   55.55555556   77.77777778  100.        ]\n"
     ]
    }
   ],
   "source": [
    "class_num = 10 # 10\n",
    "n2go = num2gridOffset_np(class_num, x_min=-100.0, x_max=100.0) "
   ]
  },
  {
   "cell_type": "code",
   "execution_count": 40,
   "id": "8f6e7955",
   "metadata": {},
   "outputs": [
    {
     "name": "stdout",
     "output_type": "stream",
     "text": [
      "(2, 1)\n",
      "[[[   0.           98.8       ]\n",
      "  [   0.           76.57777778]\n",
      "  [   0.           54.35555556]\n",
      "  [   0.           32.13333333]\n",
      "  [   1.            9.91111111]\n",
      "  [   0.          -12.31111111]\n",
      "  [   0.          -34.53333333]\n",
      "  [   0.          -56.75555556]\n",
      "  [   0.          -78.97777778]\n",
      "  [   0.         -101.2       ]]\n",
      "\n",
      " [[   0.          150.5       ]\n",
      "  [   0.          128.27777778]\n",
      "  [   0.          106.05555556]\n",
      "  [   0.           83.83333333]\n",
      "  [   0.           61.61111111]\n",
      "  [   0.           39.38888889]\n",
      "  [   0.           17.16666667]\n",
      "  [   1.           -5.05555556]\n",
      "  [   0.          -27.27777778]\n",
      "  [   0.          -49.5       ]]]\n"
     ]
    }
   ],
   "source": [
    "# grid_1 = n2g.convert(-1.2)\n",
    "grid_1 = n2go.convert([[-1.2], [50.5]])\n",
    "print(grid_1)"
   ]
  },
  {
   "cell_type": "code",
   "execution_count": 41,
   "id": "48840dc5",
   "metadata": {},
   "outputs": [
    {
     "name": "stdout",
     "output_type": "stream",
     "text": [
      "(2,)\n",
      "(2,)\n"
     ]
    },
    {
     "data": {
      "text/plain": [
       "array([-1.2, 50.5])"
      ]
     },
     "execution_count": 41,
     "metadata": {},
     "output_type": "execute_result"
    }
   ],
   "source": [
    "n2go.inv_convert(grid_1)"
   ]
  },
  {
   "cell_type": "markdown",
   "id": "11683cea",
   "metadata": {},
   "source": [
    "### Convert the labels to grid (pre-processing)"
   ]
  },
  {
   "cell_type": "code",
   "execution_count": 42,
   "id": "472997cf",
   "metadata": {},
   "outputs": [
    {
     "name": "stdout",
     "output_type": "stream",
     "text": [
      "(80, 1)\n",
      "(20, 1)\n"
     ]
    }
   ],
   "source": [
    "y_train_grid_offset = n2go.convert(y_train)\n",
    "y_valid_grid_offset = n2go.convert(y_valid)"
   ]
  },
  {
   "cell_type": "code",
   "execution_count": 43,
   "id": "71f08d76",
   "metadata": {},
   "outputs": [
    {
     "name": "stdout",
     "output_type": "stream",
     "text": [
      "(80, 10, 2)\n",
      "(20, 10, 2)\n"
     ]
    }
   ],
   "source": [
    "print(y_train_grid_offset.shape)\n",
    "print(y_valid_grid_offset.shape)"
   ]
  },
  {
   "cell_type": "code",
   "execution_count": 44,
   "id": "84b5b833",
   "metadata": {},
   "outputs": [
    {
     "name": "stdout",
     "output_type": "stream",
     "text": [
      "X.shape = (None, 1)\n",
      "gauss_grid.shape = (None, 5)\n"
     ]
    }
   ],
   "source": [
    "inputs = keras.layers.Input(shape=X_train.shape[1:])\n",
    "#\n",
    "z = num2grid(5,x_min=-10, x_max=10, sigma=3.0)(inputs)\n",
    "z = keras.layers.Dense(30, activation=\"selu\")(z)\n",
    "# Outputs\n",
    "z_proba = keras.layers.Dense(30, activation=\"relu\")(z)\n",
    "z_proba  = keras.layers.Dense(class_num, activation=\"softmax\")(z_proba)\n",
    "z_offset = keras.layers.Dense(class_num, activation=\"relu\")(z)\n",
    "z_offset = keras.layers.Dense(class_num)(z_offset)\n",
    "# Concatenate\n",
    "z_proba  = keras.layers.Reshape([class_num,1])(z_proba)\n",
    "z_offset = keras.layers.Reshape([class_num,1])(z_offset)\n",
    "out_cat = keras.layers.Concatenate(axis=-1)([z_proba, z_offset])\n",
    "#\n",
    "# Models for trainig and real usage\n",
    "model = keras.Model(inputs=[inputs], outputs=[out_cat])"
   ]
  },
  {
   "cell_type": "code",
   "execution_count": 45,
   "id": "e6482574",
   "metadata": {},
   "outputs": [],
   "source": [
    "# Customized loss function\n",
    "\n",
    "cce = keras.losses.CategoricalCrossentropy(reduction=keras.losses.Reduction.NONE)\n",
    "# cce(y_true, y_pred).numpy()\n",
    "\n",
    "def centerLoss_fn(y_true, y_pred):\n",
    "    #\n",
    "    y_true_proba = y_true[...,0]\n",
    "    y_true_value = y_true[...,1]\n",
    "    #\n",
    "    y_pred_proba = y_pred[...,0]\n",
    "    y_pred_value = y_pred[...,1]\n",
    "    \n",
    "    #\n",
    "    cce_loss = cce(y_true_proba, y_pred_proba) / class_num\n",
    "    #\n",
    "    y_true_value_est = tf.reduce_sum((y_true_proba * y_true_value), axis=-1)\n",
    "    y_pred_value_est = tf.reduce_sum((y_true_proba * y_pred_value), axis=-1)\n",
    "#     y_pred_value_est = tf.reduce_sum((y_pred_proba * y_pred_value), axis=-1)\n",
    "    value_loss = tf.abs(y_pred_value_est - y_true_value_est)\n",
    "    \n",
    "    # Total loss\n",
    "#     return (0.5*cce_loss + 0.5*value_loss )\n",
    "    return (0.2*cce_loss + 0.8*value_loss )\n",
    "#     return (cce_loss)\n",
    "#     return (value_loss )"
   ]
  },
  {
   "cell_type": "code",
   "execution_count": 46,
   "id": "60575755",
   "metadata": {},
   "outputs": [
    {
     "name": "stderr",
     "output_type": "stream",
     "text": [
      "C:\\Users\\benso\\anaconda3\\envs\\ml\\lib\\site-packages\\keras\\optimizer_v2\\adam.py:105: UserWarning: The `lr` argument is deprecated, use `learning_rate` instead.\n",
      "  super(Adam, self).__init__(name, **kwargs)\n"
     ]
    }
   ],
   "source": [
    "# optimizer = keras.optimizers.SGD(lr=0.1, momentum=0.9)\n",
    "optimizer = keras.optimizers.Adam(lr=0.05)\n",
    "model.compile(loss=centerLoss_fn, optimizer=optimizer)"
   ]
  },
  {
   "cell_type": "code",
   "execution_count": 47,
   "id": "09bc47a5",
   "metadata": {
    "scrolled": true
   },
   "outputs": [],
   "source": [
    "# history = model.fit(X_train, y_train_grid_offset, epochs=100,\n",
    "#                     validation_data=(X_valid, y_valid_grid_offset))"
   ]
  },
  {
   "cell_type": "code",
   "execution_count": 48,
   "id": "7ba1fe76",
   "metadata": {},
   "outputs": [],
   "source": [
    "# import pandas as pd\n",
    "\n",
    "# pd.DataFrame(history.history).plot(figsize=(8, 5))\n",
    "# plt.grid(True)\n",
    "# # plt.gca().set_ylim(0, 1)\n",
    "# save_fig(\"grid_rbcOffset_training_curve\")\n",
    "# plt.show()"
   ]
  },
  {
   "cell_type": "code",
   "execution_count": 49,
   "id": "47db8336",
   "metadata": {
    "scrolled": false
   },
   "outputs": [],
   "source": [
    "# # plt.plot(X_train, y_train, \"b.\")\n",
    "# draw_points(X_train, y_train, sid_train)\n",
    "# draw_func((lambda X: n2go.inv_convert(model.predict(X)) ), mark='r-', linewidth=2, label=\"Predictions\")\n",
    "# draw_normal_func(func_dict)\n",
    "# plt.xlabel(\"$x_1$\", fontsize=18)\n",
    "# plt.ylabel(\"$y$\", rotation=0, fontsize=18)\n",
    "# plt.legend(loc=\"upper left\", fontsize=14)\n",
    "# # plt.axis([-3, 3, 0, 10])\n",
    "# save_fig(\"grid_rbcOffset_prediction\")\n",
    "# plt.show()"
   ]
  },
  {
   "cell_type": "code",
   "execution_count": 50,
   "id": "46a1a384",
   "metadata": {},
   "outputs": [],
   "source": [
    "# get_prediction_error((lambda X: n2go.inv_convert(model.predict(X)) ), func_dict, name=\"grid-classOffset\")"
   ]
  },
  {
   "cell_type": "code",
   "execution_count": null,
   "id": "fff995a6",
   "metadata": {},
   "outputs": [],
   "source": []
  },
  {
   "cell_type": "markdown",
   "id": "a811f344",
   "metadata": {},
   "source": [
    "# Parametric Uncertainty/Distribution Estimation\n",
    "\n",
    "In this section, we try to estimate uncertainty (actually, fit the dataset distribution) with parametric reprecentation of a distribution instead of a discretized non-parametric representation.\n",
    "\n",
    "Possible solution includes\n",
    "- Quantile estimation with pinball loss (statistic)\n",
    "- Guassian distribution (fit a prabability distribution)"
   ]
  },
  {
   "cell_type": "markdown",
   "id": "175eb32d",
   "metadata": {},
   "source": [
    "## Quantile Estimation with Pinball Loss (grid --> parameters)\n",
    "\n",
    "Quantile estimation and pinball loss is based on the concept of statistic, which predict the value based on the rank of samples in the dataset.\n",
    "\n",
    "The outputs of the model are $(y_{10}, y_{90})$, 10% quantile prediction and 90% quantile prediction, respectively."
   ]
  },
  {
   "cell_type": "code",
   "execution_count": 51,
   "id": "1d1ef92d",
   "metadata": {},
   "outputs": [],
   "source": [
    "# quantile_list = [0.5]\n",
    "# quantile_list = [0.9]\n",
    "quantile_list = [0.1, 0.9] # Use hidden layer with 30 neurons\n",
    "# quantile_list = [0.05, 0.95]\n",
    "# quantile_list = [0.25, 0.75]\n",
    "# quantile_list = [0.1, 0.5, 0.9]\n",
    "# quantile_list = [0.1, 0.3, 0.7, 0.9]\n",
    "# quantile_list = [0.1, 0.2, 0.3, 0.4, 0.6, 0.7, 0.8, 0.9] # remove 0.5\n",
    "# quantile_list = [0.1, 0.2, 0.3, 0.4, 0.5, 0.6, 0.7, 0.8, 0.9] # Should use wider hidden layer (with many neurons) + L1 regularization\n",
    "num_quantile = len(quantile_list)"
   ]
  },
  {
   "cell_type": "code",
   "execution_count": 52,
   "id": "8e3fe57b",
   "metadata": {},
   "outputs": [
    {
     "name": "stdout",
     "output_type": "stream",
     "text": [
      "X.shape = (None, 1)\n",
      "gauss_grid.shape = (None, 5)\n"
     ]
    }
   ],
   "source": [
    "model = keras.models.Sequential([\n",
    "    num2grid(5,x_min=-10, x_max=10, sigma=3.0, input_shape=X_train.shape[1:]),\n",
    "#     num2grid(50,x_min=-10, x_max=10, sigma=0.5, input_shape=X_train.shape[1:]),\n",
    "    keras.layers.Dense(30, activation=\"relu\"),\n",
    "#     keras.layers.Dense(60, activation=\"relu\"),\n",
    "#     keras.layers.Dense(100, activation=\"relu\", kernel_regularizer=tf.keras.regularizers.l1(0.01)),\n",
    "#     keras.layers.Dense(30, activation=keras.layers.LeakyReLU(alpha=0.2) ),\n",
    "#     keras.layers.Dense(30, activation=\"selu\"),\n",
    "    keras.layers.Dense(num_quantile) # (y10, y90)\n",
    "])"
   ]
  },
  {
   "cell_type": "code",
   "execution_count": 53,
   "id": "bf131dc7",
   "metadata": {},
   "outputs": [],
   "source": [
    "# Customized loss function\n",
    "def pinballLoss_fn(y_true, y_pred, tau):\n",
    "    # tau: quantile, tau in [0.0, 1.0]\n",
    "    # y_true: label mean\n",
    "    # y_pred: predicted tau quantile\n",
    "    _q = y_true - y_pred\n",
    "    return tf.math.maximum( (tau*_q), ((tau-1.0)*_q))\n",
    "    \n",
    "def pinballLoss_10_90_fn(y_true, y_pred):\n",
    "    #\n",
    "    return pinballLoss_fn(y_true, y_pred[:,0:1], 0.1) + pinballLoss_fn(y_true, y_pred[:,1:2], 0.9)\n",
    "\n",
    "def pinballLoss_full_fn(y_true, y_pred):\n",
    "    #\n",
    "    pinball_losses = tf.stack( [pinballLoss_fn(y_true, y_pred[:, _i:(_i+1)], _tau) for _i, _tau in enumerate(quantile_list)], axis=1)\n",
    "    return tf.reduce_sum(pinball_losses, axis=1)"
   ]
  },
  {
   "cell_type": "code",
   "execution_count": 54,
   "id": "a71305d5",
   "metadata": {},
   "outputs": [],
   "source": [
    "# optimizer = keras.optimizers.SGD(lr=0.1, momentum=0.9)\n",
    "optimizer = keras.optimizers.Adam(lr=0.1)\n",
    "# model.compile(loss=pinballLoss_10_90_fn, optimizer=optimizer)\n",
    "model.compile(loss=pinballLoss_full_fn, optimizer=optimizer)"
   ]
  },
  {
   "cell_type": "code",
   "execution_count": 55,
   "id": "d935c409",
   "metadata": {
    "scrolled": true
   },
   "outputs": [
    {
     "name": "stdout",
     "output_type": "stream",
     "text": [
      "Epoch 1/100\n",
      "X.shape = (None, 1)\n",
      "gauss_grid.shape = (None, 5)\n",
      "X.shape = (None, 1)\n",
      "gauss_grid.shape = (None, 5)\n",
      "1/3 [=========>....................] - ETA: 1s - loss: 49.9708X.shape = (None, 1)\n",
      "gauss_grid.shape = (None, 5)\n",
      "3/3 [==============================] - 1s 102ms/step - loss: 41.3266 - val_loss: 31.5125\n",
      "Epoch 2/100\n",
      "3/3 [==============================] - 0s 20ms/step - loss: 37.7338 - val_loss: 26.3902\n",
      "Epoch 3/100\n",
      "3/3 [==============================] - 0s 50ms/step - loss: 32.3870 - val_loss: 20.0498\n",
      "Epoch 4/100\n",
      "3/3 [==============================] - 0s 31ms/step - loss: 25.7522 - val_loss: 14.9852\n",
      "Epoch 5/100\n",
      "3/3 [==============================] - 0s 36ms/step - loss: 18.8493 - val_loss: 12.8400\n",
      "Epoch 6/100\n",
      "3/3 [==============================] - 0s 36ms/step - loss: 15.4272 - val_loss: 13.2894\n",
      "Epoch 7/100\n",
      "3/3 [==============================] - 0s 26ms/step - loss: 14.3889 - val_loss: 13.9056\n",
      "Epoch 8/100\n",
      "3/3 [==============================] - 0s 41ms/step - loss: 14.2601 - val_loss: 13.0468\n",
      "Epoch 9/100\n",
      "3/3 [==============================] - 0s 40ms/step - loss: 13.7455 - val_loss: 11.8640\n",
      "Epoch 10/100\n",
      "3/3 [==============================] - 0s 20ms/step - loss: 12.6138 - val_loss: 10.6276\n",
      "Epoch 11/100\n",
      "3/3 [==============================] - 0s 16ms/step - loss: 10.8437 - val_loss: 8.4747\n",
      "Epoch 12/100\n",
      "3/3 [==============================] - 0s 24ms/step - loss: 9.0517 - val_loss: 6.0374\n",
      "Epoch 13/100\n",
      "3/3 [==============================] - 0s 23ms/step - loss: 7.3856 - val_loss: 5.2749\n",
      "Epoch 14/100\n",
      "3/3 [==============================] - 0s 17ms/step - loss: 6.9974 - val_loss: 4.7061\n",
      "Epoch 15/100\n",
      "3/3 [==============================] - 0s 19ms/step - loss: 5.7483 - val_loss: 4.1476\n",
      "Epoch 16/100\n",
      "3/3 [==============================] - 0s 22ms/step - loss: 5.5233 - val_loss: 4.3156\n",
      "Epoch 17/100\n",
      "3/3 [==============================] - 0s 16ms/step - loss: 5.4924 - val_loss: 4.5794\n",
      "Epoch 18/100\n",
      "3/3 [==============================] - 0s 19ms/step - loss: 5.2360 - val_loss: 4.7859\n",
      "Epoch 19/100\n",
      "3/3 [==============================] - 0s 24ms/step - loss: 4.9913 - val_loss: 4.3756\n",
      "Epoch 20/100\n",
      "3/3 [==============================] - 0s 23ms/step - loss: 4.9476 - val_loss: 4.0627\n",
      "Epoch 21/100\n",
      "3/3 [==============================] - 0s 14ms/step - loss: 4.9976 - val_loss: 3.8852\n",
      "Epoch 22/100\n",
      "3/3 [==============================] - 0s 18ms/step - loss: 4.7929 - val_loss: 4.4793\n",
      "Epoch 23/100\n",
      "3/3 [==============================] - 0s 27ms/step - loss: 4.7843 - val_loss: 4.2457\n",
      "Epoch 24/100\n",
      "3/3 [==============================] - 0s 20ms/step - loss: 4.7618 - val_loss: 4.2910\n",
      "Epoch 25/100\n",
      "3/3 [==============================] - 0s 23ms/step - loss: 4.8091 - val_loss: 4.2902\n",
      "Epoch 26/100\n",
      "3/3 [==============================] - 0s 14ms/step - loss: 4.5439 - val_loss: 5.1114\n",
      "Epoch 27/100\n",
      "3/3 [==============================] - 0s 22ms/step - loss: 4.8905 - val_loss: 4.6945\n",
      "Epoch 28/100\n",
      "3/3 [==============================] - 0s 17ms/step - loss: 4.6314 - val_loss: 4.3658\n",
      "Epoch 29/100\n",
      "3/3 [==============================] - 0s 18ms/step - loss: 4.7559 - val_loss: 4.2196\n",
      "Epoch 30/100\n",
      "3/3 [==============================] - 0s 18ms/step - loss: 4.4382 - val_loss: 4.6135\n",
      "Epoch 31/100\n",
      "3/3 [==============================] - 0s 19ms/step - loss: 4.5833 - val_loss: 4.9174\n",
      "Epoch 32/100\n",
      "3/3 [==============================] - 0s 18ms/step - loss: 4.4485 - val_loss: 4.1544\n",
      "Epoch 33/100\n",
      "3/3 [==============================] - 0s 19ms/step - loss: 4.3563 - val_loss: 3.9324\n",
      "Epoch 34/100\n",
      "3/3 [==============================] - 0s 22ms/step - loss: 4.1998 - val_loss: 4.2816\n",
      "Epoch 35/100\n",
      "3/3 [==============================] - 0s 14ms/step - loss: 4.2658 - val_loss: 4.9647\n",
      "Epoch 36/100\n",
      "3/3 [==============================] - 0s 19ms/step - loss: 4.2450 - val_loss: 4.1644\n",
      "Epoch 37/100\n",
      "3/3 [==============================] - 0s 18ms/step - loss: 3.9994 - val_loss: 3.6744\n",
      "Epoch 38/100\n",
      "3/3 [==============================] - 0s 17ms/step - loss: 4.1226 - val_loss: 3.5213\n",
      "Epoch 39/100\n",
      "3/3 [==============================] - 0s 24ms/step - loss: 3.9908 - val_loss: 3.8015\n",
      "Epoch 40/100\n",
      "3/3 [==============================] - 0s 18ms/step - loss: 3.9241 - val_loss: 4.2175\n",
      "Epoch 41/100\n",
      "3/3 [==============================] - 0s 18ms/step - loss: 3.8263 - val_loss: 4.1581\n",
      "Epoch 42/100\n",
      "3/3 [==============================] - 0s 18ms/step - loss: 3.8427 - val_loss: 3.8899\n",
      "Epoch 43/100\n",
      "3/3 [==============================] - 0s 23ms/step - loss: 3.7432 - val_loss: 4.1464\n",
      "Epoch 44/100\n",
      "3/3 [==============================] - 0s 21ms/step - loss: 3.6537 - val_loss: 3.7451\n",
      "Epoch 45/100\n",
      "3/3 [==============================] - 0s 19ms/step - loss: 3.6138 - val_loss: 3.5793\n",
      "Epoch 46/100\n",
      "3/3 [==============================] - 0s 17ms/step - loss: 3.7296 - val_loss: 3.4796\n",
      "Epoch 47/100\n",
      "3/3 [==============================] - 0s 17ms/step - loss: 3.5872 - val_loss: 3.7391\n",
      "Epoch 48/100\n",
      "3/3 [==============================] - 0s 19ms/step - loss: 3.6221 - val_loss: 3.7593\n",
      "Epoch 49/100\n",
      "3/3 [==============================] - 0s 22ms/step - loss: 3.5303 - val_loss: 3.8236\n",
      "Epoch 50/100\n",
      "3/3 [==============================] - 0s 19ms/step - loss: 3.4396 - val_loss: 3.4031\n",
      "Epoch 51/100\n",
      "3/3 [==============================] - 0s 18ms/step - loss: 3.4995 - val_loss: 3.4037\n",
      "Epoch 52/100\n",
      "3/3 [==============================] - 0s 17ms/step - loss: 3.4955 - val_loss: 3.4727\n",
      "Epoch 53/100\n",
      "3/3 [==============================] - 0s 17ms/step - loss: 3.4773 - val_loss: 3.8471\n",
      "Epoch 54/100\n",
      "3/3 [==============================] - 0s 22ms/step - loss: 3.7680 - val_loss: 3.5850\n",
      "Epoch 55/100\n",
      "3/3 [==============================] - 0s 17ms/step - loss: 3.1628 - val_loss: 4.1615\n",
      "Epoch 56/100\n",
      "3/3 [==============================] - 0s 18ms/step - loss: 3.9088 - val_loss: 3.3113\n",
      "Epoch 57/100\n",
      "3/3 [==============================] - 0s 23ms/step - loss: 3.7982 - val_loss: 3.5513\n",
      "Epoch 58/100\n",
      "3/3 [==============================] - 0s 18ms/step - loss: 3.4640 - val_loss: 4.0385\n",
      "Epoch 59/100\n",
      "3/3 [==============================] - 0s 18ms/step - loss: 4.1807 - val_loss: 3.9379\n",
      "Epoch 60/100\n",
      "3/3 [==============================] - 0s 18ms/step - loss: 3.5137 - val_loss: 3.5720\n",
      "Epoch 61/100\n",
      "3/3 [==============================] - 0s 24ms/step - loss: 3.6601 - val_loss: 3.0505\n",
      "Epoch 62/100\n",
      "3/3 [==============================] - 0s 20ms/step - loss: 3.1982 - val_loss: 2.9856\n",
      "Epoch 63/100\n",
      "3/3 [==============================] - 0s 18ms/step - loss: 3.0638 - val_loss: 3.4016\n",
      "Epoch 64/100\n",
      "3/3 [==============================] - 0s 19ms/step - loss: 3.3048 - val_loss: 3.3685\n",
      "Epoch 65/100\n",
      "3/3 [==============================] - 0s 27ms/step - loss: 3.0056 - val_loss: 3.1307\n",
      "Epoch 66/100\n",
      "3/3 [==============================] - 0s 18ms/step - loss: 2.9126 - val_loss: 3.1059\n",
      "Epoch 67/100\n",
      "3/3 [==============================] - 0s 18ms/step - loss: 3.0871 - val_loss: 2.9505\n",
      "Epoch 68/100\n",
      "3/3 [==============================] - 0s 17ms/step - loss: 3.0038 - val_loss: 2.9724\n",
      "Epoch 69/100\n",
      "3/3 [==============================] - 0s 20ms/step - loss: 2.7984 - val_loss: 3.1920\n",
      "Epoch 70/100\n",
      "3/3 [==============================] - 0s 20ms/step - loss: 2.9550 - val_loss: 3.1440\n",
      "Epoch 71/100\n",
      "3/3 [==============================] - 0s 21ms/step - loss: 2.8286 - val_loss: 2.9944\n",
      "Epoch 72/100\n",
      "3/3 [==============================] - 0s 21ms/step - loss: 2.8783 - val_loss: 2.8133\n",
      "Epoch 73/100\n",
      "3/3 [==============================] - 0s 17ms/step - loss: 2.9893 - val_loss: 2.8316\n",
      "Epoch 74/100\n",
      "3/3 [==============================] - 0s 17ms/step - loss: 2.9496 - val_loss: 3.2751\n",
      "Epoch 75/100\n",
      "3/3 [==============================] - 0s 23ms/step - loss: 3.0270 - val_loss: 3.2814\n",
      "Epoch 76/100\n",
      "3/3 [==============================] - 0s 14ms/step - loss: 2.9150 - val_loss: 2.9093\n",
      "Epoch 77/100\n",
      "3/3 [==============================] - 0s 19ms/step - loss: 2.8709 - val_loss: 3.3643\n",
      "Epoch 78/100\n",
      "3/3 [==============================] - 0s 25ms/step - loss: 3.0940 - val_loss: 2.9267\n",
      "Epoch 79/100\n",
      "3/3 [==============================] - 0s 17ms/step - loss: 2.8411 - val_loss: 3.0851\n",
      "Epoch 80/100\n",
      "3/3 [==============================] - 0s 18ms/step - loss: 2.8912 - val_loss: 3.0029\n",
      "Epoch 81/100\n"
     ]
    },
    {
     "name": "stdout",
     "output_type": "stream",
     "text": [
      "3/3 [==============================] - 0s 18ms/step - loss: 2.8481 - val_loss: 2.9798\n",
      "Epoch 82/100\n",
      "3/3 [==============================] - 0s 25ms/step - loss: 2.8301 - val_loss: 3.3277\n",
      "Epoch 83/100\n",
      "3/3 [==============================] - 0s 17ms/step - loss: 2.9313 - val_loss: 3.1064\n",
      "Epoch 84/100\n",
      "3/3 [==============================] - 0s 15ms/step - loss: 2.8349 - val_loss: 2.8620\n",
      "Epoch 85/100\n",
      "3/3 [==============================] - 0s 19ms/step - loss: 2.8298 - val_loss: 2.9047\n",
      "Epoch 86/100\n",
      "3/3 [==============================] - 0s 24ms/step - loss: 2.7463 - val_loss: 2.9971\n",
      "Epoch 87/100\n",
      "3/3 [==============================] - 0s 19ms/step - loss: 2.7432 - val_loss: 3.1032\n",
      "Epoch 88/100\n",
      "3/3 [==============================] - 0s 19ms/step - loss: 2.8171 - val_loss: 2.6964\n",
      "Epoch 89/100\n",
      "3/3 [==============================] - 0s 18ms/step - loss: 2.6386 - val_loss: 2.8247\n",
      "Epoch 90/100\n",
      "3/3 [==============================] - 0s 23ms/step - loss: 2.7794 - val_loss: 2.8163\n",
      "Epoch 91/100\n",
      "3/3 [==============================] - 0s 18ms/step - loss: 2.6225 - val_loss: 2.7048\n",
      "Epoch 92/100\n",
      "3/3 [==============================] - 0s 14ms/step - loss: 2.6487 - val_loss: 2.8108\n",
      "Epoch 93/100\n",
      "3/3 [==============================] - 0s 18ms/step - loss: 2.7492 - val_loss: 2.9060\n",
      "Epoch 94/100\n",
      "3/3 [==============================] - 0s 23ms/step - loss: 2.7452 - val_loss: 2.9790\n",
      "Epoch 95/100\n",
      "3/3 [==============================] - 0s 19ms/step - loss: 2.6839 - val_loss: 2.8591\n",
      "Epoch 96/100\n",
      "3/3 [==============================] - 0s 15ms/step - loss: 2.5932 - val_loss: 2.6998\n",
      "Epoch 97/100\n",
      "3/3 [==============================] - 0s 21ms/step - loss: 2.6660 - val_loss: 3.0994\n",
      "Epoch 98/100\n",
      "3/3 [==============================] - 0s 15ms/step - loss: 2.8497 - val_loss: 3.0475\n",
      "Epoch 99/100\n",
      "3/3 [==============================] - 0s 19ms/step - loss: 3.0865 - val_loss: 3.2127\n",
      "Epoch 100/100\n",
      "3/3 [==============================] - 0s 18ms/step - loss: 2.8870 - val_loss: 3.1786\n"
     ]
    }
   ],
   "source": [
    "history = model.fit(X_train, y_train, epochs=100,\n",
    "                    validation_data=(X_valid, y_valid))"
   ]
  },
  {
   "cell_type": "code",
   "execution_count": 56,
   "id": "e7fa5656",
   "metadata": {
    "scrolled": false
   },
   "outputs": [
    {
     "name": "stdout",
     "output_type": "stream",
     "text": [
      "Saving figure grid_quantile_training_curve\n"
     ]
    },
    {
     "data": {
      "image/png": "[encoded data removed]",
      "text/plain": [
       "<Figure size 576x360 with 1 Axes>"
      ]
     },
     "metadata": {
      "needs_background": "light"
     },
     "output_type": "display_data"
    }
   ],
   "source": [
    "import pandas as pd\n",
    "\n",
    "pd.DataFrame(history.history).plot(figsize=(8, 5))\n",
    "plt.grid(True)\n",
    "# plt.gca().set_ylim(0, 1)\n",
    "save_fig(\"grid_quantile_training_curve\")\n",
    "plt.show()"
   ]
  },
  {
   "cell_type": "markdown",
   "id": "a4a59dd6",
   "metadata": {},
   "source": [
    "### Draw the mean prediction curve averaged from all quantile predictions."
   ]
  },
  {
   "cell_type": "code",
   "execution_count": 57,
   "id": "0e5d0058",
   "metadata": {},
   "outputs": [
    {
     "name": "stdout",
     "output_type": "stream",
     "text": [
      "X.shape = (None, 1)\n",
      "gauss_grid.shape = (None, 5)\n",
      "Saving figure grid_quantile_prediction\n"
     ]
    },
    {
     "data": {
      "image/png": "[encoded data removed]",
      "text/plain": [
       "<Figure size 432x288 with 1 Axes>"
      ]
     },
     "metadata": {
      "needs_background": "light"
     },
     "output_type": "display_data"
    }
   ],
   "source": [
    "# plt.plot(X_train, y_train, \"b.\")\n",
    "draw_points(X_train, y_train, sid_train)\n",
    "draw_func((lambda X: np.average(model.predict(X), axis=-1) ), mark='r-', linewidth=2, label=\"Predictions\")\n",
    "# draw_func((lambda X: model.predict(X)[:,0] ), mark='k--', linewidth=1, label=\"$y_{%d}$\" % (quantile_list[0]*100))\n",
    "# draw_func((lambda X: model.predict(X)[:,-1] ), mark='k--', linewidth=1, label=\"$y_{%d}$\" % (quantile_list[-1]*100))\n",
    "draw_normal_func(func_dict)\n",
    "plt.xlabel(\"$x_1$\", fontsize=18)\n",
    "plt.ylabel(\"$y$\", rotation=0, fontsize=18)\n",
    "plt.legend(loc=\"upper left\", fontsize=14)\n",
    "# plt.axis([-3, 3, 0, 10])\n",
    "save_fig(\"grid_quantile_prediction\")\n",
    "plt.show()"
   ]
  },
  {
   "cell_type": "code",
   "execution_count": 58,
   "id": "f98d3ae8",
   "metadata": {},
   "outputs": [
    {
     "name": "stdout",
     "output_type": "stream",
     "text": [
      "y_func.shape = (100, 1)\n",
      "y_gt.shape = (100, 1)\n"
     ]
    },
    {
     "data": {
      "text/plain": [
       "1.8380203123602399"
      ]
     },
     "execution_count": 58,
     "metadata": {},
     "output_type": "execute_result"
    }
   ],
   "source": [
    "get_prediction_error((lambda X: np.average(model.predict(X), axis=-1) ), func_dict, name=\"grid-quantileR\")"
   ]
  },
  {
   "cell_type": "markdown",
   "id": "f79ac920",
   "metadata": {},
   "source": [
    "### Draw first and last quantile curve."
   ]
  },
  {
   "cell_type": "code",
   "execution_count": 59,
   "id": "42eeb254",
   "metadata": {},
   "outputs": [
    {
     "name": "stdout",
     "output_type": "stream",
     "text": [
      "Saving figure grid_quantile_boundary_quantiles\n"
     ]
    },
    {
     "data": {
      "image/png": "[encoded data removed]",
      "text/plain": [
       "<Figure size 432x288 with 1 Axes>"
      ]
     },
     "metadata": {
      "needs_background": "light"
     },
     "output_type": "display_data"
    }
   ],
   "source": [
    "# plt.plot(X_train, y_train, \"b.\")\n",
    "draw_points(X_train, y_train, sid_train)\n",
    "draw_func((lambda X: np.average(model.predict(X), axis=-1) ), mark='r-', linewidth=2, label=\"Predictions\")\n",
    "draw_func((lambda X: model.predict(X)[:,0] ), mark='k--', linewidth=1, label=\"$y_{%d}$\" % (quantile_list[0]*100))\n",
    "draw_func((lambda X: model.predict(X)[:,-1] ), mark='k--', linewidth=1, label=\"$y_{%d}$\" % (quantile_list[-1]*100))\n",
    "draw_normal_func(func_dict)\n",
    "plt.xlabel(\"$x_1$\", fontsize=18)\n",
    "plt.ylabel(\"$y$\", rotation=0, fontsize=18)\n",
    "plt.legend(loc=\"upper left\", fontsize=14)\n",
    "# plt.axis([-3, 3, 0, 10])\n",
    "save_fig(\"grid_quantile_boundary_quantiles\")\n",
    "plt.show()"
   ]
  },
  {
   "cell_type": "markdown",
   "id": "2a1b1b44",
   "metadata": {},
   "source": [
    "### Draw all quantile predictions"
   ]
  },
  {
   "cell_type": "code",
   "execution_count": 60,
   "id": "5e875238",
   "metadata": {},
   "outputs": [
    {
     "name": "stdout",
     "output_type": "stream",
     "text": [
      "Saving figure grid_quantile_all_quantiles\n"
     ]
    },
    {
     "data": {
      "image/png": "[encoded data removed]",
      "text/plain": [
       "<Figure size 432x288 with 1 Axes>"
      ]
     },
     "metadata": {
      "needs_background": "light"
     },
     "output_type": "display_data"
    }
   ],
   "source": [
    "# plt.plot(X_train, y_train, \"b.\")\n",
    "draw_points(X_train, y_train, sid_train)\n",
    "draw_func((lambda X: np.average(model.predict(X), axis=-1) ), mark='r-', linewidth=2, label=\"Predictions\")\n",
    "for _idx, _tau in enumerate(quantile_list):\n",
    "    draw_func((lambda X: model.predict(X)[:,_idx] ), mark='k--', linewidth=1, label=\"$y_{%d}$\" % (_tau*100))\n",
    "draw_normal_func(func_dict)\n",
    "plt.xlabel(\"$x_1$\", fontsize=18)\n",
    "plt.ylabel(\"$y$\", rotation=0, fontsize=18)\n",
    "plt.legend(loc=\"upper left\", fontsize=14)\n",
    "# plt.axis([-3, 3, 0, 10])\n",
    "save_fig(\"grid_quantile_all_quantiles\")\n",
    "plt.show()"
   ]
  },
  {
   "cell_type": "markdown",
   "id": "0693a8eb",
   "metadata": {},
   "source": [
    "### Multi-Quantiles as a Gaussian Distribution "
   ]
  },
  {
   "cell_type": "code",
   "execution_count": 61,
   "id": "11262fbe",
   "metadata": {},
   "outputs": [],
   "source": [
    "# def n_sigma_boundary_line(X, n):\n",
    "#     _y = model.predict(X)\n",
    "#     _mean = np.mean(_y, axis=-1)\n",
    "#     _sigma = np.std(_y, axis=-1)\n",
    "#     return( _mean + n*_sigma)\n",
    "\n",
    "# # plt.plot(X_train, y_train, \"b.\")\n",
    "# draw_points(X_train, y_train, sid_train)\n",
    "# #\n",
    "# draw_func((lambda X: np.average(model.predict(X), axis=-1) ), mark='r-', linewidth=2, label=\"Predictions\")\n",
    "# draw_func((lambda X: n_sigma_boundary_line(X, +1.0) ), mark='k--', linewidth=1, label=\"$\\mu+\\sigma$\")\n",
    "# draw_func((lambda X: n_sigma_boundary_line(X, -1.0) ), mark='k--', linewidth=1, label=\"$\\mu-\\sigma$\")\n",
    "# #\n",
    "# draw_normal_func(func_dict)\n",
    "# plt.xlabel(\"$x_1$\", fontsize=18)\n",
    "# plt.ylabel(\"$y$\", rotation=0, fontsize=18)\n",
    "# plt.legend(loc=\"upper left\", fontsize=14)\n",
    "# # plt.axis([-3, 3, 0, 10])\n",
    "# save_fig(\"grid_quantile_1sigma\")\n",
    "# plt.show()"
   ]
  },
  {
   "cell_type": "markdown",
   "id": "9a01aa69",
   "metadata": {},
   "source": [
    "## Gaussian Estimation with Gaussian Loss (grid-->parameters)\n",
    "\n",
    "Gaussain estimation requires the model to predict the mean and variance of a Gaussian distribution of the random variable regarded. The training purpose is to fit a Gaussian distribution to the data distribution (which is not necessay distributed as Gaussian).\n",
    "\n",
    "One possible solution, derived by BensonHuang, is that the model estimates $(\\mu, z)$, where $z=\\alpha ^{-1}log(\\sigma)$.\n",
    "The associated loss function can be $L_G(y, (\\mu,z)) = 0.5e^{-2\\alpha z}(y-\\mu)^2 + \\alpha z$."
   ]
  },
  {
   "cell_type": "code",
   "execution_count": 62,
   "id": "1a20d5dd",
   "metadata": {},
   "outputs": [],
   "source": [
    "alpha = 1.0\n",
    "# alpha = 0.01\n",
    "# alpha = 0.001"
   ]
  },
  {
   "cell_type": "code",
   "execution_count": 63,
   "id": "cb202ed2",
   "metadata": {},
   "outputs": [
    {
     "name": "stdout",
     "output_type": "stream",
     "text": [
      "X.shape = (None, 1)\n",
      "gauss_grid.shape = (None, 5)\n"
     ]
    }
   ],
   "source": [
    "model = keras.models.Sequential([\n",
    "    num2grid(5,x_min=-10, x_max=10, sigma=3.0, input_shape=X_train.shape[1:]),\n",
    "#     keras.layers.Dense(30, activation=\"relu\"),\n",
    "    keras.layers.Dense(60, activation=\"relu\"),\n",
    "#     keras.layers.Dense(30, activation=keras.layers.LeakyReLU(alpha=0.2) ),\n",
    "#     keras.layers.Dense(30, activation=\"selu\"),\n",
    "    keras.layers.Dense(2) # (mu, z)\n",
    "])"
   ]
  },
  {
   "cell_type": "code",
   "execution_count": 64,
   "id": "925f0a22",
   "metadata": {},
   "outputs": [
    {
     "name": "stdout",
     "output_type": "stream",
     "text": [
      "alpha = 1.000000\n"
     ]
    }
   ],
   "source": [
    "# Customized loss function\n",
    "print(\"alpha = %f\" % alpha)\n",
    "\n",
    "def GaussianLoss_fn(y_true, y_pred):\n",
    "    # y_true: label \n",
    "    # y_pred: (mu, z), z=log(sigma)\n",
    "    mu = y_pred[:, 0:1]\n",
    "    z  = y_pred[:, 1:2]\n",
    "    #\n",
    "    en2z = tf.math.exp((-2.0*alpha)*z)\n",
    "    ymu2 = (y_true - mu)**2\n",
    "    return (0.5*en2z*ymu2 + alpha*z)"
   ]
  },
  {
   "cell_type": "code",
   "execution_count": 65,
   "id": "1b388b4b",
   "metadata": {},
   "outputs": [],
   "source": [
    "# Learning rate scheduler\n",
    "learning_rate_switch_epoch_list = [30, 45]\n",
    "learning_rate_list = [0.001, 0.01, 0.1]\n",
    "# learning_rate_switch_epoch_list = [30, 80]\n",
    "# learning_rate_list = [0.01, 0.1, 0.01]\n",
    "#\n",
    "def piecewise_constant_fn(epoch):\n",
    "    for _i, epoch_s in enumerate(learning_rate_switch_epoch_list):\n",
    "        if epoch < epoch_s:\n",
    "            return learning_rate_list[_i]\n",
    "    return learning_rate_list[-1]\n",
    "\n",
    "lr_scheduler = keras.callbacks.LearningRateScheduler(piecewise_constant_fn)"
   ]
  },
  {
   "cell_type": "markdown",
   "id": "6ec2e05e",
   "metadata": {},
   "source": [
    "Third training with even greater speed"
   ]
  },
  {
   "cell_type": "code",
   "execution_count": 66,
   "id": "7a7e245b",
   "metadata": {},
   "outputs": [
    {
     "name": "stderr",
     "output_type": "stream",
     "text": [
      "C:\\Users\\benso\\anaconda3\\envs\\ml\\lib\\site-packages\\keras\\optimizer_v2\\adam.py:105: UserWarning: The `lr` argument is deprecated, use `learning_rate` instead.\n",
      "  super(Adam, self).__init__(name, **kwargs)\n"
     ]
    }
   ],
   "source": [
    "# optimizer = keras.optimizers.SGD(lr=0.1, momentum=0.9)\n",
    "optimizer = keras.optimizers.Adam(lr=0.1) # 0.1\n",
    "model.compile(loss=GaussianLoss_fn, optimizer=optimizer)"
   ]
  },
  {
   "cell_type": "code",
   "execution_count": 67,
   "id": "6d7b74a9",
   "metadata": {
    "scrolled": true
   },
   "outputs": [
    {
     "name": "stdout",
     "output_type": "stream",
     "text": [
      "Epoch 1/200\n",
      "X.shape = (None, 1)\n",
      "gauss_grid.shape = (None, 5)\n",
      "X.shape = (None, 1)\n",
      "gauss_grid.shape = (None, 5)\n",
      "1/3 [=========>....................] - ETA: 0s - loss: 1615.1808X.shape = (None, 1)\n",
      "gauss_grid.shape = (None, 5)\n",
      "3/3 [==============================] - 1s 160ms/step - loss: 661.4603 - val_loss: 5.7136\n",
      "Epoch 2/200\n",
      "3/3 [==============================] - 0s 23ms/step - loss: 6.9900 - val_loss: 10.8498\n",
      "Epoch 3/200\n",
      "3/3 [==============================] - 0s 38ms/step - loss: 11.7507 - val_loss: 14.7760\n",
      "Epoch 4/200\n",
      "3/3 [==============================] - 0s 44ms/step - loss: 15.3023 - val_loss: 17.4976\n",
      "Epoch 5/200\n",
      "3/3 [==============================] - 0s 29ms/step - loss: 17.6924 - val_loss: 19.1625\n",
      "Epoch 6/200\n",
      "3/3 [==============================] - 0s 37ms/step - loss: 19.1003 - val_loss: 19.9894\n",
      "Epoch 7/200\n",
      "3/3 [==============================] - 0s 42ms/step - loss: 19.7612 - val_loss: 20.1711\n",
      "Epoch 8/200\n",
      "3/3 [==============================] - 0s 27ms/step - loss: 19.8462 - val_loss: 19.8410\n",
      "Epoch 9/200\n",
      "3/3 [==============================] - 0s 39ms/step - loss: 19.4666 - val_loss: 19.1354\n",
      "Epoch 10/200\n",
      "3/3 [==============================] - 0s 18ms/step - loss: 18.7491 - val_loss: 18.1569\n",
      "Epoch 11/200\n",
      "3/3 [==============================] - 0s 18ms/step - loss: 17.7880 - val_loss: 16.9834\n",
      "Epoch 12/200\n",
      "3/3 [==============================] - 0s 21ms/step - loss: 16.6562 - val_loss: 15.6918\n",
      "Epoch 13/200\n",
      "3/3 [==============================] - 0s 22ms/step - loss: 15.4538 - val_loss: 14.2658\n",
      "Epoch 14/200\n",
      "3/3 [==============================] - 0s 22ms/step - loss: 14.1014 - val_loss: 12.7221\n",
      "Epoch 15/200\n",
      "3/3 [==============================] - 0s 22ms/step - loss: 12.6458 - val_loss: 11.0295\n",
      "Epoch 16/200\n",
      "3/3 [==============================] - 0s 22ms/step - loss: 11.0294 - val_loss: 9.1582\n",
      "Epoch 17/200\n",
      "3/3 [==============================] - 0s 22ms/step - loss: 9.2281 - val_loss: 7.0488\n",
      "Epoch 18/200\n",
      "3/3 [==============================] - 0s 23ms/step - loss: 7.2599 - val_loss: 5.8396\n",
      "Epoch 19/200\n",
      "3/3 [==============================] - 0s 22ms/step - loss: 7.3888 - val_loss: 5.2150\n",
      "Epoch 20/200\n",
      "3/3 [==============================] - 0s 19ms/step - loss: 5.8756 - val_loss: 5.6395\n",
      "Epoch 21/200\n",
      "3/3 [==============================] - 0s 21ms/step - loss: 5.9478 - val_loss: 5.4780\n",
      "Epoch 22/200\n",
      "3/3 [==============================] - 0s 20ms/step - loss: 5.4862 - val_loss: 4.6832\n",
      "Epoch 23/200\n",
      "3/3 [==============================] - 0s 21ms/step - loss: 4.6045 - val_loss: 4.3630\n",
      "Epoch 24/200\n",
      "3/3 [==============================] - 0s 25ms/step - loss: 4.8037 - val_loss: 4.1145\n",
      "Epoch 25/200\n",
      "3/3 [==============================] - 0s 19ms/step - loss: 4.2493 - val_loss: 4.1291\n",
      "Epoch 26/200\n",
      "3/3 [==============================] - 0s 18ms/step - loss: 4.2680 - val_loss: 4.0901\n",
      "Epoch 27/200\n",
      "3/3 [==============================] - 0s 19ms/step - loss: 4.2197 - val_loss: 4.2143\n",
      "Epoch 28/200\n",
      "3/3 [==============================] - 0s 20ms/step - loss: 4.2122 - val_loss: 4.1222\n",
      "Epoch 29/200\n",
      "3/3 [==============================] - 0s 19ms/step - loss: 4.1587 - val_loss: 4.0114\n",
      "Epoch 30/200\n",
      "3/3 [==============================] - 0s 22ms/step - loss: 4.1188 - val_loss: 3.9739\n",
      "Epoch 31/200\n",
      "3/3 [==============================] - 0s 22ms/step - loss: 4.1106 - val_loss: 3.9619\n",
      "Epoch 32/200\n",
      "3/3 [==============================] - 0s 14ms/step - loss: 4.1054 - val_loss: 3.9467\n",
      "Epoch 33/200\n",
      "3/3 [==============================] - 0s 20ms/step - loss: 4.0989 - val_loss: 3.9387\n",
      "Epoch 34/200\n",
      "3/3 [==============================] - 0s 24ms/step - loss: 4.0834 - val_loss: 3.9584\n",
      "Epoch 35/200\n",
      "3/3 [==============================] - 0s 23ms/step - loss: 4.0890 - val_loss: 3.9699\n",
      "Epoch 36/200\n",
      "3/3 [==============================] - 0s 22ms/step - loss: 4.0842 - val_loss: 3.9381\n",
      "Epoch 37/200\n",
      "3/3 [==============================] - 0s 17ms/step - loss: 4.0806 - val_loss: 3.9286\n",
      "Epoch 38/200\n",
      "3/3 [==============================] - 0s 18ms/step - loss: 4.0787 - val_loss: 3.9247\n",
      "Epoch 39/200\n",
      "3/3 [==============================] - 0s 23ms/step - loss: 4.0697 - val_loss: 3.8952\n",
      "Epoch 40/200\n",
      "3/3 [==============================] - 0s 18ms/step - loss: 4.0669 - val_loss: 3.8789\n",
      "Epoch 41/200\n",
      "3/3 [==============================] - 0s 23ms/step - loss: 4.0663 - val_loss: 3.8716\n",
      "Epoch 42/200\n",
      "3/3 [==============================] - 0s 18ms/step - loss: 4.0626 - val_loss: 3.8766\n",
      "Epoch 43/200\n",
      "3/3 [==============================] - 0s 17ms/step - loss: 4.0592 - val_loss: 3.8775\n",
      "Epoch 44/200\n",
      "3/3 [==============================] - 0s 19ms/step - loss: 4.0544 - val_loss: 3.8877\n",
      "Epoch 45/200\n",
      "3/3 [==============================] - 0s 18ms/step - loss: 4.0539 - val_loss: 3.8753\n",
      "Epoch 46/200\n",
      "3/3 [==============================] - 0s 21ms/step - loss: 4.0489 - val_loss: 3.8621\n",
      "Epoch 47/200\n",
      "3/3 [==============================] - 0s 16ms/step - loss: 4.0490 - val_loss: 3.8442\n",
      "Epoch 48/200\n",
      "3/3 [==============================] - 0s 18ms/step - loss: 4.0396 - val_loss: 3.8497\n",
      "Epoch 49/200\n",
      "3/3 [==============================] - 0s 21ms/step - loss: 4.0427 - val_loss: 3.8352\n",
      "Epoch 50/200\n",
      "3/3 [==============================] - 0s 20ms/step - loss: 4.0336 - val_loss: 3.8251\n",
      "Epoch 51/200\n",
      "3/3 [==============================] - 0s 20ms/step - loss: 4.0377 - val_loss: 3.8198\n",
      "Epoch 52/200\n",
      "3/3 [==============================] - 0s 24ms/step - loss: 4.0261 - val_loss: 3.8356\n",
      "Epoch 53/200\n",
      "3/3 [==============================] - 0s 14ms/step - loss: 4.0252 - val_loss: 3.8152\n",
      "Epoch 54/200\n",
      "3/3 [==============================] - 0s 25ms/step - loss: 4.0179 - val_loss: 3.8104\n",
      "Epoch 55/200\n",
      "3/3 [==============================] - 0s 17ms/step - loss: 4.0167 - val_loss: 3.8026\n",
      "Epoch 56/200\n",
      "3/3 [==============================] - 0s 19ms/step - loss: 4.0092 - val_loss: 3.7920\n",
      "Epoch 57/200\n",
      "3/3 [==============================] - 0s 21ms/step - loss: 4.0034 - val_loss: 3.7876\n",
      "Epoch 58/200\n",
      "3/3 [==============================] - 0s 17ms/step - loss: 4.0020 - val_loss: 3.7723\n",
      "Epoch 59/200\n",
      "3/3 [==============================] - 0s 18ms/step - loss: 3.9934 - val_loss: 3.7751\n",
      "Epoch 60/200\n",
      "3/3 [==============================] - 0s 24ms/step - loss: 3.9884 - val_loss: 3.7799\n",
      "Epoch 61/200\n",
      "3/3 [==============================] - 0s 19ms/step - loss: 3.9832 - val_loss: 3.7703\n",
      "Epoch 62/200\n",
      "3/3 [==============================] - 0s 23ms/step - loss: 3.9779 - val_loss: 3.7714\n",
      "Epoch 63/200\n",
      "3/3 [==============================] - 0s 17ms/step - loss: 3.9717 - val_loss: 3.7622\n",
      "Epoch 64/200\n",
      "3/3 [==============================] - 0s 17ms/step - loss: 3.9641 - val_loss: 3.7461\n",
      "Epoch 65/200\n",
      "3/3 [==============================] - 0s 17ms/step - loss: 3.9568 - val_loss: 3.7438\n",
      "Epoch 66/200\n",
      "3/3 [==============================] - 0s 22ms/step - loss: 3.9515 - val_loss: 3.7365\n",
      "Epoch 67/200\n",
      "3/3 [==============================] - 0s 23ms/step - loss: 3.9435 - val_loss: 3.7326\n",
      "Epoch 68/200\n",
      "3/3 [==============================] - 0s 13ms/step - loss: 3.9353 - val_loss: 3.7277\n",
      "Epoch 69/200\n",
      "3/3 [==============================] - 0s 21ms/step - loss: 3.9274 - val_loss: 3.7089\n",
      "Epoch 70/200\n",
      "3/3 [==============================] - 0s 21ms/step - loss: 3.9176 - val_loss: 3.7126\n",
      "Epoch 71/200\n",
      "3/3 [==============================] - 0s 17ms/step - loss: 3.9081 - val_loss: 3.6979\n",
      "Epoch 72/200\n",
      "3/3 [==============================] - 0s 17ms/step - loss: 3.8997 - val_loss: 3.6763\n",
      "Epoch 73/200\n",
      "3/3 [==============================] - 0s 21ms/step - loss: 3.8877 - val_loss: 3.6785\n",
      "Epoch 74/200\n",
      "3/3 [==============================] - 0s 17ms/step - loss: 3.8767 - val_loss: 3.6766\n",
      "Epoch 75/200\n",
      "3/3 [==============================] - 0s 18ms/step - loss: 3.8665 - val_loss: 3.6642\n",
      "Epoch 76/200\n",
      "3/3 [==============================] - 0s 17ms/step - loss: 3.8502 - val_loss: 3.6377\n",
      "Epoch 77/200\n",
      "3/3 [==============================] - 0s 21ms/step - loss: 3.8406 - val_loss: 3.6296\n",
      "Epoch 78/200\n",
      "3/3 [==============================] - 0s 17ms/step - loss: 3.8267 - val_loss: 3.6345\n",
      "Epoch 79/200\n",
      "3/3 [==============================] - 0s 17ms/step - loss: 3.8095 - val_loss: 3.6191\n",
      "Epoch 80/200\n",
      "3/3 [==============================] - 0s 18ms/step - loss: 3.7901 - val_loss: 3.6009\n",
      "Epoch 81/200\n"
     ]
    },
    {
     "name": "stdout",
     "output_type": "stream",
     "text": [
      "3/3 [==============================] - 0s 24ms/step - loss: 3.7771 - val_loss: 3.5933\n",
      "Epoch 82/200\n",
      "3/3 [==============================] - 0s 22ms/step - loss: 3.7595 - val_loss: 3.5933\n",
      "Epoch 83/200\n",
      "3/3 [==============================] - 0s 21ms/step - loss: 3.7312 - val_loss: 3.5534\n",
      "Epoch 84/200\n",
      "3/3 [==============================] - 0s 22ms/step - loss: 3.7225 - val_loss: 3.5368\n",
      "Epoch 85/200\n",
      "3/3 [==============================] - 0s 17ms/step - loss: 3.6912 - val_loss: 3.5478\n",
      "Epoch 86/200\n",
      "3/3 [==============================] - 0s 15ms/step - loss: 3.6626 - val_loss: 3.5160\n",
      "Epoch 87/200\n",
      "3/3 [==============================] - 0s 22ms/step - loss: 3.6377 - val_loss: 3.5032\n",
      "Epoch 88/200\n",
      "3/3 [==============================] - 0s 16ms/step - loss: 3.6014 - val_loss: 3.4938\n",
      "Epoch 89/200\n",
      "3/3 [==============================] - 0s 20ms/step - loss: 3.5689 - val_loss: 3.4672\n",
      "Epoch 90/200\n",
      "3/3 [==============================] - 0s 16ms/step - loss: 3.5288 - val_loss: 3.4246\n",
      "Epoch 91/200\n",
      "3/3 [==============================] - 0s 21ms/step - loss: 3.4829 - val_loss: 3.4230\n",
      "Epoch 92/200\n",
      "3/3 [==============================] - 0s 28ms/step - loss: 3.4423 - val_loss: 3.3760\n",
      "Epoch 93/200\n",
      "3/3 [==============================] - 0s 20ms/step - loss: 3.4022 - val_loss: 3.3184\n",
      "Epoch 94/200\n",
      "3/3 [==============================] - 0s 22ms/step - loss: 3.3655 - val_loss: 3.2783\n",
      "Epoch 95/200\n",
      "3/3 [==============================] - 0s 23ms/step - loss: 3.3326 - val_loss: 3.2558\n",
      "Epoch 96/200\n",
      "3/3 [==============================] - 0s 20ms/step - loss: 3.2980 - val_loss: 3.2151\n",
      "Epoch 97/200\n",
      "3/3 [==============================] - 0s 26ms/step - loss: 3.2781 - val_loss: 3.2066\n",
      "Epoch 98/200\n",
      "3/3 [==============================] - 0s 17ms/step - loss: 3.2634 - val_loss: 3.1976\n",
      "Epoch 99/200\n",
      "3/3 [==============================] - 0s 21ms/step - loss: 3.2420 - val_loss: 3.1659\n",
      "Epoch 100/200\n",
      "3/3 [==============================] - 0s 17ms/step - loss: 3.2442 - val_loss: 3.1499\n",
      "Epoch 101/200\n",
      "3/3 [==============================] - 0s 23ms/step - loss: 3.2443 - val_loss: 3.1456\n",
      "Epoch 102/200\n",
      "3/3 [==============================] - 0s 23ms/step - loss: 3.2166 - val_loss: 3.1649\n",
      "Epoch 103/200\n",
      "3/3 [==============================] - 0s 15ms/step - loss: 3.2317 - val_loss: 3.1660\n",
      "Epoch 104/200\n",
      "3/3 [==============================] - 0s 17ms/step - loss: 3.2168 - val_loss: 3.1350\n",
      "Epoch 105/200\n",
      "3/3 [==============================] - 0s 23ms/step - loss: 3.2065 - val_loss: 3.1086\n",
      "Epoch 106/200\n",
      "3/3 [==============================] - 0s 13ms/step - loss: 3.2116 - val_loss: 3.0869\n",
      "Epoch 107/200\n",
      "3/3 [==============================] - 0s 24ms/step - loss: 3.2317 - val_loss: 3.1276\n",
      "Epoch 108/200\n",
      "3/3 [==============================] - 0s 16ms/step - loss: 3.1993 - val_loss: 3.1417\n",
      "Epoch 109/200\n",
      "3/3 [==============================] - 0s 20ms/step - loss: 3.2504 - val_loss: 3.1338\n",
      "Epoch 110/200\n",
      "3/3 [==============================] - 0s 23ms/step - loss: 3.2422 - val_loss: 3.1439\n",
      "Epoch 111/200\n",
      "3/3 [==============================] - 0s 16ms/step - loss: 3.1896 - val_loss: 3.2531\n",
      "Epoch 112/200\n",
      "3/3 [==============================] - 0s 20ms/step - loss: 3.2436 - val_loss: 3.1296\n",
      "Epoch 113/200\n",
      "3/3 [==============================] - 0s 16ms/step - loss: 3.2553 - val_loss: 3.1010\n",
      "Epoch 114/200\n",
      "3/3 [==============================] - 0s 22ms/step - loss: 3.2220 - val_loss: 3.0669\n",
      "Epoch 115/200\n",
      "3/3 [==============================] - 0s 18ms/step - loss: 3.2010 - val_loss: 3.1172\n",
      "Epoch 116/200\n",
      "3/3 [==============================] - 0s 18ms/step - loss: 3.1761 - val_loss: 3.1124\n",
      "Epoch 117/200\n",
      "3/3 [==============================] - 0s 17ms/step - loss: 3.1878 - val_loss: 3.1071\n",
      "Epoch 118/200\n",
      "3/3 [==============================] - 0s 23ms/step - loss: 3.1988 - val_loss: 3.1505\n",
      "Epoch 119/200\n",
      "3/3 [==============================] - 0s 16ms/step - loss: 3.1497 - val_loss: 3.2035\n",
      "Epoch 120/200\n",
      "3/3 [==============================] - 0s 18ms/step - loss: 3.3449 - val_loss: 3.2657\n",
      "Epoch 121/200\n",
      "3/3 [==============================] - 0s 17ms/step - loss: 3.4032 - val_loss: 3.2820\n",
      "Epoch 122/200\n",
      "3/3 [==============================] - 0s 22ms/step - loss: 3.2634 - val_loss: 3.1562\n",
      "Epoch 123/200\n",
      "3/3 [==============================] - 0s 22ms/step - loss: 3.2206 - val_loss: 3.2058\n",
      "Epoch 124/200\n",
      "3/3 [==============================] - 0s 15ms/step - loss: 3.2437 - val_loss: 3.0910\n",
      "Epoch 125/200\n",
      "3/3 [==============================] - 0s 17ms/step - loss: 3.1658 - val_loss: 3.0855\n",
      "Epoch 126/200\n",
      "3/3 [==============================] - 0s 19ms/step - loss: 3.1593 - val_loss: 3.1424\n",
      "Epoch 127/200\n",
      "3/3 [==============================] - 0s 24ms/step - loss: 3.1583 - val_loss: 3.0751\n",
      "Epoch 128/200\n",
      "3/3 [==============================] - 0s 14ms/step - loss: 3.1977 - val_loss: 3.0493\n",
      "Epoch 129/200\n",
      "3/3 [==============================] - 0s 18ms/step - loss: 3.1260 - val_loss: 3.0451\n",
      "Epoch 130/200\n",
      "3/3 [==============================] - 0s 22ms/step - loss: 3.1111 - val_loss: 3.0296\n",
      "Epoch 131/200\n",
      "3/3 [==============================] - 0s 18ms/step - loss: 3.1610 - val_loss: 3.0574\n",
      "Epoch 132/200\n",
      "3/3 [==============================] - 0s 22ms/step - loss: 3.1228 - val_loss: 3.0471\n",
      "Epoch 133/200\n",
      "3/3 [==============================] - 0s 17ms/step - loss: 3.0915 - val_loss: 3.0286\n",
      "Epoch 134/200\n",
      "3/3 [==============================] - 0s 17ms/step - loss: 3.0994 - val_loss: 3.0084\n",
      "Epoch 135/200\n",
      "3/3 [==============================] - 0s 22ms/step - loss: 3.0945 - val_loss: 3.0325\n",
      "Epoch 136/200\n",
      "3/3 [==============================] - 0s 17ms/step - loss: 3.0795 - val_loss: 3.0595\n",
      "Epoch 137/200\n",
      "3/3 [==============================] - 0s 17ms/step - loss: 3.0929 - val_loss: 3.0537\n",
      "Epoch 138/200\n",
      "3/3 [==============================] - 0s 17ms/step - loss: 3.0740 - val_loss: 3.0598\n",
      "Epoch 139/200\n",
      "3/3 [==============================] - 0s 21ms/step - loss: 3.0749 - val_loss: 3.0168\n",
      "Epoch 140/200\n",
      "3/3 [==============================] - 0s 21ms/step - loss: 3.0682 - val_loss: 2.9854\n",
      "Epoch 141/200\n",
      "3/3 [==============================] - 0s 21ms/step - loss: 3.0633 - val_loss: 3.0048\n",
      "Epoch 142/200\n",
      "3/3 [==============================] - 0s 25ms/step - loss: 3.0573 - val_loss: 3.0242\n",
      "Epoch 143/200\n",
      "3/3 [==============================] - 0s 21ms/step - loss: 3.0531 - val_loss: 3.0218\n",
      "Epoch 144/200\n",
      "3/3 [==============================] - 0s 20ms/step - loss: 3.0485 - val_loss: 3.0091\n",
      "Epoch 145/200\n",
      "3/3 [==============================] - 0s 35ms/step - loss: 3.0389 - val_loss: 3.0089\n",
      "Epoch 146/200\n",
      "3/3 [==============================] - 0s 39ms/step - loss: 3.0549 - val_loss: 3.0138\n",
      "Epoch 147/200\n",
      "3/3 [==============================] - 0s 29ms/step - loss: 3.0367 - val_loss: 3.0270\n",
      "Epoch 148/200\n",
      "3/3 [==============================] - 0s 22ms/step - loss: 3.0381 - val_loss: 2.9850\n",
      "Epoch 149/200\n",
      "3/3 [==============================] - 0s 26ms/step - loss: 3.0169 - val_loss: 2.9735\n",
      "Epoch 150/200\n",
      "3/3 [==============================] - 0s 23ms/step - loss: 3.0197 - val_loss: 2.9947\n",
      "Epoch 151/200\n",
      "3/3 [==============================] - 0s 20ms/step - loss: 3.0055 - val_loss: 3.0130\n",
      "Epoch 152/200\n",
      "3/3 [==============================] - 0s 34ms/step - loss: 3.0151 - val_loss: 3.0139\n",
      "Epoch 153/200\n",
      "3/3 [==============================] - 0s 38ms/step - loss: 3.0119 - val_loss: 3.0086\n",
      "Epoch 154/200\n",
      "3/3 [==============================] - 0s 33ms/step - loss: 3.0476 - val_loss: 3.0207\n",
      "Epoch 155/200\n",
      "3/3 [==============================] - 0s 33ms/step - loss: 3.0469 - val_loss: 3.0729\n",
      "Epoch 156/200\n",
      "3/3 [==============================] - 0s 30ms/step - loss: 3.0103 - val_loss: 3.2297\n",
      "Epoch 157/200\n",
      "3/3 [==============================] - 0s 29ms/step - loss: 3.0806 - val_loss: 3.1083\n",
      "Epoch 158/200\n",
      "3/3 [==============================] - 0s 21ms/step - loss: 3.0669 - val_loss: 2.9667\n",
      "Epoch 159/200\n",
      "3/3 [==============================] - 0s 29ms/step - loss: 2.9562 - val_loss: 3.0267\n",
      "Epoch 160/200\n",
      "3/3 [==============================] - 0s 23ms/step - loss: 3.0465 - val_loss: 3.1266\n",
      "Epoch 161/200\n",
      "3/3 [==============================] - 0s 23ms/step - loss: 3.0614 - val_loss: 3.0458\n",
      "Epoch 162/200\n",
      "3/3 [==============================] - 0s 21ms/step - loss: 2.9597 - val_loss: 2.9659\n",
      "Epoch 163/200\n"
     ]
    },
    {
     "name": "stdout",
     "output_type": "stream",
     "text": [
      "3/3 [==============================] - 0s 19ms/step - loss: 2.9545 - val_loss: 2.9444\n",
      "Epoch 164/200\n",
      "3/3 [==============================] - 0s 20ms/step - loss: 2.9460 - val_loss: 2.9644\n",
      "Epoch 165/200\n",
      "3/3 [==============================] - 0s 27ms/step - loss: 2.9264 - val_loss: 2.9910\n",
      "Epoch 166/200\n",
      "3/3 [==============================] - 0s 21ms/step - loss: 2.9122 - val_loss: 2.9919\n",
      "Epoch 167/200\n",
      "3/3 [==============================] - 0s 18ms/step - loss: 2.9140 - val_loss: 2.9753\n",
      "Epoch 168/200\n",
      "3/3 [==============================] - 0s 21ms/step - loss: 2.9104 - val_loss: 2.9569\n",
      "Epoch 169/200\n",
      "3/3 [==============================] - 0s 18ms/step - loss: 2.9606 - val_loss: 2.9902\n",
      "Epoch 170/200\n",
      "3/3 [==============================] - 0s 20ms/step - loss: 2.9745 - val_loss: 2.9838\n",
      "Epoch 171/200\n",
      "3/3 [==============================] - 0s 19ms/step - loss: 2.9312 - val_loss: 2.9942\n",
      "Epoch 172/200\n",
      "3/3 [==============================] - 0s 23ms/step - loss: 2.9511 - val_loss: 2.9575\n",
      "Epoch 173/200\n",
      "3/3 [==============================] - 0s 18ms/step - loss: 2.8709 - val_loss: 2.9949\n",
      "Epoch 174/200\n",
      "3/3 [==============================] - 0s 21ms/step - loss: 2.8836 - val_loss: 3.0266\n",
      "Epoch 175/200\n",
      "3/3 [==============================] - 0s 25ms/step - loss: 2.9736 - val_loss: 3.2373\n",
      "Epoch 176/200\n",
      "3/3 [==============================] - 0s 19ms/step - loss: 3.3668 - val_loss: 3.4734\n",
      "Epoch 177/200\n",
      "3/3 [==============================] - 0s 21ms/step - loss: 3.1109 - val_loss: 4.2843\n",
      "Epoch 178/200\n",
      "3/3 [==============================] - 0s 24ms/step - loss: 3.1984 - val_loss: 3.4242\n",
      "Epoch 179/200\n",
      "3/3 [==============================] - 0s 24ms/step - loss: 3.2361 - val_loss: 3.0708\n",
      "Epoch 180/200\n",
      "3/3 [==============================] - 0s 18ms/step - loss: 2.9814 - val_loss: 2.9549\n",
      "Epoch 181/200\n",
      "3/3 [==============================] - 0s 17ms/step - loss: 2.9323 - val_loss: 3.1980\n",
      "Epoch 182/200\n",
      "3/3 [==============================] - 0s 18ms/step - loss: 3.1582 - val_loss: 3.2337\n",
      "Epoch 183/200\n",
      "3/3 [==============================] - 0s 18ms/step - loss: 3.0431 - val_loss: 3.0216\n",
      "Epoch 184/200\n",
      "3/3 [==============================] - 0s 20ms/step - loss: 2.8364 - val_loss: 3.0815\n",
      "Epoch 185/200\n",
      "3/3 [==============================] - 0s 17ms/step - loss: 3.0314 - val_loss: 3.0900\n",
      "Epoch 186/200\n",
      "3/3 [==============================] - 0s 18ms/step - loss: 2.8690 - val_loss: 3.0182\n",
      "Epoch 187/200\n",
      "3/3 [==============================] - 0s 19ms/step - loss: 2.8490 - val_loss: 2.9848\n",
      "Epoch 188/200\n",
      "3/3 [==============================] - 0s 18ms/step - loss: 2.8561 - val_loss: 3.0333\n",
      "Epoch 189/200\n",
      "3/3 [==============================] - 0s 19ms/step - loss: 2.8335 - val_loss: 2.9283\n",
      "Epoch 190/200\n",
      "3/3 [==============================] - 0s 14ms/step - loss: 2.7373 - val_loss: 2.9490\n",
      "Epoch 191/200\n",
      "3/3 [==============================] - 0s 19ms/step - loss: 2.8494 - val_loss: 2.8986\n",
      "Epoch 192/200\n",
      "3/3 [==============================] - 0s 21ms/step - loss: 2.7584 - val_loss: 2.9260\n",
      "Epoch 193/200\n",
      "3/3 [==============================] - 0s 20ms/step - loss: 2.7858 - val_loss: 2.9204\n",
      "Epoch 194/200\n",
      "3/3 [==============================] - 0s 18ms/step - loss: 2.7546 - val_loss: 2.9829\n",
      "Epoch 195/200\n",
      "3/3 [==============================] - 0s 17ms/step - loss: 2.8018 - val_loss: 2.8925\n",
      "Epoch 196/200\n",
      "3/3 [==============================] - 0s 19ms/step - loss: 2.6770 - val_loss: 3.0209\n",
      "Epoch 197/200\n",
      "3/3 [==============================] - 0s 19ms/step - loss: 2.8487 - val_loss: 3.1249\n",
      "Epoch 198/200\n",
      "3/3 [==============================] - 0s 18ms/step - loss: 2.9346 - val_loss: 2.9802\n",
      "Epoch 199/200\n",
      "3/3 [==============================] - 0s 24ms/step - loss: 2.8782 - val_loss: 2.9739\n",
      "Epoch 200/200\n",
      "3/3 [==============================] - 0s 21ms/step - loss: 2.9096 - val_loss: 3.1302\n"
     ]
    }
   ],
   "source": [
    "history = model.fit(X_train, y_train, epochs=200,\n",
    "                    validation_data=(X_valid, y_valid))"
   ]
  },
  {
   "cell_type": "code",
   "execution_count": 68,
   "id": "0b29d35c",
   "metadata": {
    "scrolled": true
   },
   "outputs": [],
   "source": [
    "# history = model.fit(X_train, y_train, epochs=145,\n",
    "#                     validation_data=(X_valid, y_valid), callbacks=[lr_scheduler])"
   ]
  },
  {
   "cell_type": "code",
   "execution_count": 69,
   "id": "28215732",
   "metadata": {},
   "outputs": [
    {
     "name": "stdout",
     "output_type": "stream",
     "text": [
      "Saving figure grid_Gaussian_training_curve\n"
     ]
    },
    {
     "data": {
      "image/png": "[encoded data removed]",
      "text/plain": [
       "<Figure size 576x360 with 1 Axes>"
      ]
     },
     "metadata": {
      "needs_background": "light"
     },
     "output_type": "display_data"
    }
   ],
   "source": [
    "import pandas as pd\n",
    "\n",
    "# print(history.history)\n",
    "try:\n",
    "    lr_list = history.history[\"lr\"]\n",
    "    del(history.history[\"lr\"])\n",
    "except:\n",
    "    pass\n",
    "\n",
    "pd.DataFrame(history.history)[50:].plot(figsize=(8, 5))\n",
    "plt.grid(True)\n",
    "# plt.gca().set_ylim(0, 1)\n",
    "save_fig(\"grid_Gaussian_training_curve\")\n",
    "plt.show()"
   ]
  },
  {
   "cell_type": "code",
   "execution_count": 70,
   "id": "47d362c9",
   "metadata": {
    "scrolled": true
   },
   "outputs": [
    {
     "name": "stdout",
     "output_type": "stream",
     "text": [
      "X.shape = (None, 1)\n",
      "gauss_grid.shape = (None, 5)\n",
      "Saving figure grid_Gaussian_prediction\n"
     ]
    },
    {
     "data": {
      "image/png": "[encoded data removed]",
      "text/plain": [
       "<Figure size 432x288 with 1 Axes>"
      ]
     },
     "metadata": {
      "needs_background": "light"
     },
     "output_type": "display_data"
    }
   ],
   "source": [
    "# plt.plot(X_train, y_train, \"b.\")\n",
    "draw_points(X_train, y_train, sid_train)\n",
    "draw_func((lambda X: model.predict(X)[:,0] ), mark='r-', linewidth=2, label=\"Predictions\")\n",
    "draw_normal_func(func_dict)\n",
    "plt.xlabel(\"$x_1$\", fontsize=18)\n",
    "plt.ylabel(\"$y$\", rotation=0, fontsize=18)\n",
    "plt.legend(loc=\"upper left\", fontsize=14)\n",
    "# plt.axis([-3, 3, 0, 10])\n",
    "save_fig(\"grid_Gaussian_prediction\")\n",
    "plt.show()"
   ]
  },
  {
   "cell_type": "code",
   "execution_count": 71,
   "id": "a85a5159",
   "metadata": {},
   "outputs": [
    {
     "name": "stdout",
     "output_type": "stream",
     "text": [
      "y_func.shape = (100, 1)\n",
      "y_gt.shape = (100, 1)\n"
     ]
    },
    {
     "data": {
      "text/plain": [
       "6.077038091319446"
      ]
     },
     "execution_count": 71,
     "metadata": {},
     "output_type": "execute_result"
    }
   ],
   "source": [
    "get_prediction_error((lambda X: model.predict(X)[:,0] ), func_dict, name=\"grid-oneGaussian\")"
   ]
  },
  {
   "cell_type": "markdown",
   "id": "9ca1e36d",
   "metadata": {},
   "source": [
    "### Draw the 1-sigma boundary line"
   ]
  },
  {
   "cell_type": "code",
   "execution_count": 72,
   "id": "a04a47fa",
   "metadata": {},
   "outputs": [
    {
     "name": "stdout",
     "output_type": "stream",
     "text": [
      "Saving figure grid_Gaussian_1sigma\n"
     ]
    },
    {
     "data": {
      "image/png": "[encoded data removed]",
      "text/plain": [
       "<Figure size 432x288 with 1 Axes>"
      ]
     },
     "metadata": {
      "needs_background": "light"
     },
     "output_type": "display_data"
    }
   ],
   "source": [
    "def n_sigma_boundary_line(X, n):\n",
    "    _y = model.predict(X)\n",
    "    _mean, _z = _y[:,0:1], _y[:,1:2]\n",
    "    _sigma = np.exp(alpha*_z)\n",
    "    return( _mean + n*_sigma)\n",
    "\n",
    "# plt.plot(X_train, y_train, \"b.\")\n",
    "draw_points(X_train, y_train, sid_train)\n",
    "#\n",
    "draw_func((lambda X: model.predict(X)[:,0] ), mark='r-', linewidth=2, label=\"Predictions\")\n",
    "draw_func((lambda X: n_sigma_boundary_line(X, +1.0) ), mark='k--', linewidth=1, label=\"$\\mu+\\sigma$\")\n",
    "draw_func((lambda X: n_sigma_boundary_line(X, -1.0) ), mark='k--', linewidth=1, label=\"$\\mu-\\sigma$\")\n",
    "#\n",
    "draw_normal_func(func_dict)\n",
    "plt.xlabel(\"$x_1$\", fontsize=18)\n",
    "plt.ylabel(\"$y$\", rotation=0, fontsize=18)\n",
    "plt.legend(loc=\"upper left\", fontsize=14)\n",
    "# plt.axis([-3, 3, 0, 10])\n",
    "save_fig(\"grid_Gaussian_1sigma\")\n",
    "plt.show()"
   ]
  },
  {
   "cell_type": "markdown",
   "id": "67951fa8",
   "metadata": {},
   "source": [
    "# Per-subject Bias/Property Learning"
   ]
  },
  {
   "cell_type": "code",
   "execution_count": 73,
   "id": "62d56199",
   "metadata": {},
   "outputs": [],
   "source": [
    "# Create a custom layer for estimating bais for each subject\n",
    "class SubjectBias(keras.layers.Layer):\n",
    "    def __init__(self, num_subject, activation=None, **kwargs):\n",
    "        super().__init__(**kwargs)\n",
    "        self.num_subject = num_subject\n",
    "        self.X_shape = None\n",
    "        self.activation = keras.activations.get(activation)\n",
    "        \n",
    "    def build(self, batch_input_shape):\n",
    "        self.X_shape = batch_input_shape[0]\n",
    "        # Initiate a trainable vector as the bias for X\n",
    "        \"\"\"\n",
    "        bias: (num_subject, X_shape[1], X_shape[2], ...)\n",
    "        \"\"\"\n",
    "        self.bias = self.add_weight(name=\"bias\", \n",
    "                                    shape=([self.num_subject] + self.X_shape[1:]), \n",
    "                                    initializer=\"zeros\")\n",
    "        super().build(batch_input_shape) # must be at the end\n",
    "        \n",
    "    def get_bias(self, sid):\n",
    "        '''\n",
    "        A helper function for retriving the bias according to the given sid.\n",
    "        Note: sid start from 1\n",
    "        '''\n",
    "        if sid > self.num_subject or sid <= 0: # Out of bound, index not in range\n",
    "            return tf.zeros(self.X_shape[1:])\n",
    "        else:\n",
    "            return self.bias[tf.cast(sid-1, tf.int32),:]\n",
    "        \n",
    "    def call(self, X_sid, training=None):\n",
    "        '''\n",
    "        X_sid = [X, sid]\n",
    "        Input shape:  X: (batch, ...), sid: (batch, 1)\n",
    "        Output shape: (batch, ...)\n",
    "        '''\n",
    "        X, SID = X_sid\n",
    "        X_shape = X.shape\n",
    "        print(\"X.shape = %s\" % X.shape)\n",
    "        print(\"SID.shape = %s\" % SID.shape)\n",
    "        \n",
    "        # Add bias\n",
    "        y = X + tf.gather(self.bias, SID[:,0]-1, axis=0)\n",
    "        return self.activation(y)\n",
    "        \n",
    "#         if training:    \n",
    "#             # Add biases according to the sid of each instance\n",
    "#             # Note: a corner case is not handeled that if there exist out-of-range sid.\n",
    "#             # y = X + self.bias[tf.cast(SID[:,0]-1, tf.int32),:]\n",
    "#             # y = X + self.bias[ SID[:,0]-1,:]\n",
    "#             y = X + tf.gather(self.bias, SID[:,0]-1, axis=0)\n",
    "#             return self.activation(y)\n",
    "#         else: # If it's not trainig, just output the original X without adding bias\n",
    "#             return self.activation(X_sid[0])\n",
    "    \n",
    "    def compute_output_shape(self, batch_input_shape):\n",
    "        # Note: the same shape as the first input\n",
    "        return batch_input_shape[0]\n",
    "    \n",
    "    def get_config(self):\n",
    "        base_config = super().get_config()\n",
    "        return {**base_config, \n",
    "                \"num_subject\": self.num_subject,\n",
    "                \"activation\": keras.activations.serialize(self.activation)}"
   ]
  },
  {
   "cell_type": "markdown",
   "id": "c84ab901",
   "metadata": {},
   "source": [
    "Number of subjects"
   ]
  },
  {
   "cell_type": "code",
   "execution_count": 74,
   "id": "a90a998b",
   "metadata": {},
   "outputs": [],
   "source": [
    "# Number of subjects\n",
    "num_subject = multiout_type"
   ]
  },
  {
   "cell_type": "markdown",
   "id": "99014f07",
   "metadata": {},
   "source": [
    "Build two models"
   ]
  },
  {
   "cell_type": "code",
   "execution_count": 75,
   "id": "3973baee",
   "metadata": {},
   "outputs": [
    {
     "name": "stdout",
     "output_type": "stream",
     "text": [
      "X.shape = (None, 1)\n",
      "gauss_grid.shape = (None, 5)\n",
      "X.shape = (None, 1)\n",
      "SID.shape = (None, 1)\n"
     ]
    }
   ],
   "source": [
    "inputs = keras.layers.Input(shape=X_train.shape[1:])\n",
    "inputs_sid = keras.layers.Input(shape=(1,), dtype=tf.int32)\n",
    "#\n",
    "z = num2grid(5,x_min=-10, x_max=10, sigma=3.0)(inputs)\n",
    "z = keras.layers.Dense(30, activation=\"relu\")(z)\n",
    "output = keras.layers.Dense(1)(z)\n",
    "output_biased = SubjectBias(num_subject)([output, inputs_sid])\n",
    "# Setup models\n",
    "model = keras.Model(inputs=[inputs], outputs=[output]) # pure\n",
    "model_biased = keras.Model(inputs=[inputs, inputs_sid], outputs=[output_biased]) # biased, for training"
   ]
  },
  {
   "cell_type": "code",
   "execution_count": 76,
   "id": "ecc83d2e",
   "metadata": {},
   "outputs": [
    {
     "name": "stderr",
     "output_type": "stream",
     "text": [
      "C:\\Users\\benso\\anaconda3\\envs\\ml\\lib\\site-packages\\keras\\optimizer_v2\\adam.py:105: UserWarning: The `lr` argument is deprecated, use `learning_rate` instead.\n",
      "  super(Adam, self).__init__(name, **kwargs)\n"
     ]
    }
   ],
   "source": [
    "# optimizer = keras.optimizers.SGD(lr=0.001, momentum=0.9)\n",
    "# model.compile(loss=\"mean_squared_error\", optimizer=optimizer)\n",
    "optimizer = keras.optimizers.Adam(lr=0.1)\n",
    "model_biased.compile(loss=\"mean_absolute_error\", optimizer=optimizer)\n",
    "#\n",
    "# model.compile(loss=\"mean_absolute_error\", optimizer=optimizer) # No need to compile this if it's not going to be trained."
   ]
  },
  {
   "cell_type": "code",
   "execution_count": 77,
   "id": "905b5473",
   "metadata": {
    "scrolled": true
   },
   "outputs": [
    {
     "name": "stdout",
     "output_type": "stream",
     "text": [
      "Epoch 1/100\n",
      "X.shape = (None, 1)\n",
      "gauss_grid.shape = (None, 5)\n",
      "X.shape = (None, 1)\n",
      "SID.shape = (None, 1)\n",
      "X.shape = (None, 1)\n",
      "gauss_grid.shape = (None, 5)\n",
      "X.shape = (None, 1)\n",
      "SID.shape = (None, 1)\n",
      "1/3 [=========>....................] - ETA: 0s - loss: 36.7998X.shape = (None, 1)\n",
      "gauss_grid.shape = (None, 5)\n",
      "X.shape = (None, 1)\n",
      "SID.shape = (None, 1)\n",
      "3/3 [==============================] - 1s 102ms/step - loss: 41.2434 - val_loss: 32.4249\n",
      "Epoch 2/100\n",
      "3/3 [==============================] - 0s 20ms/step - loss: 37.7996 - val_loss: 28.7393\n",
      "Epoch 3/100\n",
      "3/3 [==============================] - 0s 43ms/step - loss: 31.8447 - val_loss: 23.2207\n",
      "Epoch 4/100\n",
      "3/3 [==============================] - 0s 45ms/step - loss: 24.7305 - val_loss: 15.8493\n",
      "Epoch 5/100\n",
      "3/3 [==============================] - 0s 33ms/step - loss: 17.4934 - val_loss: 9.2968\n",
      "Epoch 6/100\n",
      "3/3 [==============================] - 0s 48ms/step - loss: 15.7460 - val_loss: 8.9922\n",
      "Epoch 7/100\n",
      "3/3 [==============================] - 0s 23ms/step - loss: 15.9609 - val_loss: 8.9737\n",
      "Epoch 8/100\n",
      "3/3 [==============================] - 0s 19ms/step - loss: 15.0392 - val_loss: 9.3164\n",
      "Epoch 9/100\n",
      "3/3 [==============================] - 0s 19ms/step - loss: 14.1172 - val_loss: 8.6947\n",
      "Epoch 10/100\n",
      "3/3 [==============================] - 0s 18ms/step - loss: 12.4963 - val_loss: 10.8229\n",
      "Epoch 11/100\n",
      "3/3 [==============================] - 0s 23ms/step - loss: 12.5247 - val_loss: 10.8540\n",
      "Epoch 12/100\n",
      "3/3 [==============================] - 0s 34ms/step - loss: 11.5820 - val_loss: 10.8755\n",
      "Epoch 13/100\n",
      "3/3 [==============================] - 0s 50ms/step - loss: 10.7651 - val_loss: 10.6495\n",
      "Epoch 14/100\n",
      "3/3 [==============================] - 0s 51ms/step - loss: 10.2186 - val_loss: 9.8925\n",
      "Epoch 15/100\n",
      "3/3 [==============================] - 0s 54ms/step - loss: 9.1131 - val_loss: 10.7152\n",
      "Epoch 16/100\n",
      "3/3 [==============================] - 0s 26ms/step - loss: 10.3776 - val_loss: 10.7235\n",
      "Epoch 17/100\n",
      "3/3 [==============================] - 0s 37ms/step - loss: 10.0621 - val_loss: 12.1984\n",
      "Epoch 18/100\n",
      "3/3 [==============================] - 0s 46ms/step - loss: 9.0256 - val_loss: 11.3640\n",
      "Epoch 19/100\n",
      "3/3 [==============================] - 0s 32ms/step - loss: 9.5244 - val_loss: 11.1642\n",
      "Epoch 20/100\n",
      "3/3 [==============================] - 0s 25ms/step - loss: 8.5418 - val_loss: 10.7154\n",
      "Epoch 21/100\n",
      "3/3 [==============================] - 0s 26ms/step - loss: 8.1515 - val_loss: 9.4425\n",
      "Epoch 22/100\n",
      "3/3 [==============================] - 0s 34ms/step - loss: 7.5894 - val_loss: 10.9914\n",
      "Epoch 23/100\n",
      "3/3 [==============================] - 0s 24ms/step - loss: 9.3434 - val_loss: 9.5351\n",
      "Epoch 24/100\n",
      "3/3 [==============================] - 0s 27ms/step - loss: 8.7323 - val_loss: 9.0646\n",
      "Epoch 25/100\n",
      "3/3 [==============================] - 0s 26ms/step - loss: 7.8015 - val_loss: 10.1194\n",
      "Epoch 26/100\n",
      "3/3 [==============================] - 0s 27ms/step - loss: 7.3658 - val_loss: 8.8358\n",
      "Epoch 27/100\n",
      "3/3 [==============================] - 0s 20ms/step - loss: 6.9122 - val_loss: 9.4106\n",
      "Epoch 28/100\n",
      "3/3 [==============================] - 0s 20ms/step - loss: 7.1273 - val_loss: 8.9363\n",
      "Epoch 29/100\n",
      "3/3 [==============================] - 0s 29ms/step - loss: 7.0999 - val_loss: 8.7379\n",
      "Epoch 30/100\n",
      "3/3 [==============================] - 0s 16ms/step - loss: 6.8995 - val_loss: 9.6309\n",
      "Epoch 31/100\n",
      "3/3 [==============================] - 0s 24ms/step - loss: 6.9556 - val_loss: 8.5138\n",
      "Epoch 32/100\n",
      "3/3 [==============================] - 0s 23ms/step - loss: 6.5889 - val_loss: 8.8676\n",
      "Epoch 33/100\n",
      "3/3 [==============================] - 0s 19ms/step - loss: 6.4055 - val_loss: 7.9314\n",
      "Epoch 34/100\n",
      "3/3 [==============================] - 0s 33ms/step - loss: 6.7326 - val_loss: 7.9497\n",
      "Epoch 35/100\n",
      "3/3 [==============================] - 0s 27ms/step - loss: 5.9856 - val_loss: 8.8547\n",
      "Epoch 36/100\n",
      "3/3 [==============================] - 0s 31ms/step - loss: 6.3680 - val_loss: 7.5757\n",
      "Epoch 37/100\n",
      "3/3 [==============================] - 0s 32ms/step - loss: 6.1163 - val_loss: 7.7848\n",
      "Epoch 38/100\n",
      "3/3 [==============================] - 0s 21ms/step - loss: 6.0566 - val_loss: 8.0153\n",
      "Epoch 39/100\n",
      "3/3 [==============================] - 0s 23ms/step - loss: 5.8458 - val_loss: 7.6603\n",
      "Epoch 40/100\n",
      "3/3 [==============================] - 0s 18ms/step - loss: 5.7987 - val_loss: 7.6345\n",
      "Epoch 41/100\n",
      "3/3 [==============================] - 0s 17ms/step - loss: 5.5740 - val_loss: 7.6938\n",
      "Epoch 42/100\n",
      "3/3 [==============================] - 0s 31ms/step - loss: 5.9253 - val_loss: 7.4210\n",
      "Epoch 43/100\n",
      "3/3 [==============================] - 0s 29ms/step - loss: 5.6474 - val_loss: 7.4079\n",
      "Epoch 44/100\n",
      "3/3 [==============================] - 0s 33ms/step - loss: 5.5761 - val_loss: 7.7429\n",
      "Epoch 45/100\n",
      "3/3 [==============================] - 0s 21ms/step - loss: 5.5515 - val_loss: 7.2707\n",
      "Epoch 46/100\n",
      "3/3 [==============================] - 0s 25ms/step - loss: 5.5321 - val_loss: 7.6988\n",
      "Epoch 47/100\n",
      "3/3 [==============================] - 0s 18ms/step - loss: 5.7023 - val_loss: 7.4601\n",
      "Epoch 48/100\n",
      "3/3 [==============================] - 0s 21ms/step - loss: 5.4963 - val_loss: 7.5524\n",
      "Epoch 49/100\n",
      "3/3 [==============================] - 0s 16ms/step - loss: 5.5636 - val_loss: 7.3282\n",
      "Epoch 50/100\n",
      "3/3 [==============================] - 0s 31ms/step - loss: 5.5033 - val_loss: 7.5012\n",
      "Epoch 51/100\n",
      "3/3 [==============================] - 0s 25ms/step - loss: 5.6085 - val_loss: 7.2371\n",
      "Epoch 52/100\n",
      "3/3 [==============================] - 0s 35ms/step - loss: 5.4395 - val_loss: 6.9711\n",
      "Epoch 53/100\n",
      "3/3 [==============================] - 0s 31ms/step - loss: 5.5457 - val_loss: 6.7718\n",
      "Epoch 54/100\n",
      "3/3 [==============================] - 0s 19ms/step - loss: 5.2905 - val_loss: 7.3003\n",
      "Epoch 55/100\n",
      "3/3 [==============================] - 0s 31ms/step - loss: 5.5432 - val_loss: 6.4676\n",
      "Epoch 56/100\n",
      "3/3 [==============================] - 0s 20ms/step - loss: 6.0190 - val_loss: 6.7560\n",
      "Epoch 57/100\n",
      "3/3 [==============================] - 0s 33ms/step - loss: 5.5876 - val_loss: 6.6592\n",
      "Epoch 58/100\n",
      "3/3 [==============================] - 0s 27ms/step - loss: 5.3894 - val_loss: 6.3759\n",
      "Epoch 59/100\n",
      "3/3 [==============================] - 0s 32ms/step - loss: 5.4831 - val_loss: 6.2442\n",
      "Epoch 60/100\n",
      "3/3 [==============================] - 0s 19ms/step - loss: 5.4687 - val_loss: 6.1990\n",
      "Epoch 61/100\n",
      "3/3 [==============================] - 0s 18ms/step - loss: 5.5387 - val_loss: 6.0053\n",
      "Epoch 62/100\n",
      "3/3 [==============================] - 0s 28ms/step - loss: 5.6239 - val_loss: 5.7708\n",
      "Epoch 63/100\n",
      "3/3 [==============================] - 0s 34ms/step - loss: 5.4061 - val_loss: 6.1850\n",
      "Epoch 64/100\n",
      "3/3 [==============================] - 0s 35ms/step - loss: 5.3835 - val_loss: 6.0228\n",
      "Epoch 65/100\n",
      "3/3 [==============================] - 0s 29ms/step - loss: 5.4150 - val_loss: 6.7264\n",
      "Epoch 66/100\n",
      "3/3 [==============================] - 0s 37ms/step - loss: 5.4489 - val_loss: 5.9610\n",
      "Epoch 67/100\n",
      "3/3 [==============================] - 0s 26ms/step - loss: 5.3080 - val_loss: 6.0844\n",
      "Epoch 68/100\n",
      "3/3 [==============================] - 0s 32ms/step - loss: 5.4999 - val_loss: 5.6831\n",
      "Epoch 69/100\n",
      "3/3 [==============================] - 0s 28ms/step - loss: 5.8823 - val_loss: 6.0849\n",
      "Epoch 70/100\n",
      "3/3 [==============================] - 0s 43ms/step - loss: 6.3240 - val_loss: 7.2981\n",
      "Epoch 71/100\n",
      "3/3 [==============================] - 0s 39ms/step - loss: 6.5411 - val_loss: 6.1916\n",
      "Epoch 72/100\n",
      "3/3 [==============================] - 0s 32ms/step - loss: 6.1625 - val_loss: 9.6085\n",
      "Epoch 73/100\n",
      "3/3 [==============================] - 0s 19ms/step - loss: 7.0142 - val_loss: 5.7082\n",
      "Epoch 74/100\n",
      "3/3 [==============================] - 0s 22ms/step - loss: 6.2730 - val_loss: 6.3164\n",
      "Epoch 75/100\n",
      "3/3 [==============================] - 0s 19ms/step - loss: 6.2179 - val_loss: 6.7376\n",
      "Epoch 76/100\n",
      "3/3 [==============================] - 0s 24ms/step - loss: 6.2749 - val_loss: 5.5439\n",
      "Epoch 77/100\n",
      "3/3 [==============================] - 0s 37ms/step - loss: 6.2963 - val_loss: 6.1948\n",
      "Epoch 78/100\n",
      "3/3 [==============================] - 0s 30ms/step - loss: 5.8596 - val_loss: 5.6204\n",
      "Epoch 79/100\n",
      "3/3 [==============================] - 0s 31ms/step - loss: 5.2871 - val_loss: 6.2881\n",
      "Epoch 80/100\n"
     ]
    },
    {
     "name": "stdout",
     "output_type": "stream",
     "text": [
      "3/3 [==============================] - 0s 28ms/step - loss: 5.3905 - val_loss: 5.8417\n",
      "Epoch 81/100\n",
      "3/3 [==============================] - 0s 18ms/step - loss: 5.4292 - val_loss: 5.5036\n",
      "Epoch 82/100\n",
      "3/3 [==============================] - 0s 28ms/step - loss: 5.3662 - val_loss: 5.3777\n",
      "Epoch 83/100\n",
      "3/3 [==============================] - 0s 15ms/step - loss: 5.4182 - val_loss: 5.4630\n",
      "Epoch 84/100\n",
      "3/3 [==============================] - 0s 18ms/step - loss: 5.3371 - val_loss: 5.5496\n",
      "Epoch 85/100\n",
      "3/3 [==============================] - 0s 22ms/step - loss: 5.3351 - val_loss: 5.8399\n",
      "Epoch 86/100\n",
      "3/3 [==============================] - 0s 17ms/step - loss: 5.5975 - val_loss: 6.5323\n",
      "Epoch 87/100\n",
      "3/3 [==============================] - 0s 23ms/step - loss: 5.7381 - val_loss: 5.4469\n",
      "Epoch 88/100\n",
      "3/3 [==============================] - 0s 15ms/step - loss: 5.4263 - val_loss: 5.4711\n",
      "Epoch 89/100\n",
      "3/3 [==============================] - 0s 17ms/step - loss: 5.3341 - val_loss: 5.3288\n",
      "Epoch 90/100\n",
      "3/3 [==============================] - 0s 22ms/step - loss: 5.4355 - val_loss: 5.7973\n",
      "Epoch 91/100\n",
      "3/3 [==============================] - 0s 19ms/step - loss: 5.2708 - val_loss: 5.8540\n",
      "Epoch 92/100\n",
      "3/3 [==============================] - 0s 19ms/step - loss: 5.4564 - val_loss: 5.9021\n",
      "Epoch 93/100\n",
      "3/3 [==============================] - 0s 18ms/step - loss: 5.4750 - val_loss: 5.3017\n",
      "Epoch 94/100\n",
      "3/3 [==============================] - 0s 19ms/step - loss: 5.5221 - val_loss: 5.5913\n",
      "Epoch 95/100\n",
      "3/3 [==============================] - 0s 18ms/step - loss: 5.4148 - val_loss: 5.5281\n",
      "Epoch 96/100\n",
      "3/3 [==============================] - 0s 17ms/step - loss: 5.9217 - val_loss: 6.3013\n",
      "Epoch 97/100\n",
      "3/3 [==============================] - 0s 22ms/step - loss: 5.6959 - val_loss: 5.1116\n",
      "Epoch 98/100\n",
      "3/3 [==============================] - 0s 15ms/step - loss: 5.6441 - val_loss: 6.2159\n",
      "Epoch 99/100\n",
      "3/3 [==============================] - 0s 19ms/step - loss: 5.4505 - val_loss: 5.2949\n",
      "Epoch 100/100\n",
      "3/3 [==============================] - 0s 18ms/step - loss: 5.3866 - val_loss: 5.6144\n"
     ]
    }
   ],
   "source": [
    "history = model_biased.fit([X_train, sid_train], y_train, epochs=100,\n",
    "                    validation_data=([X_valid, sid_valid], y_valid))"
   ]
  },
  {
   "cell_type": "code",
   "execution_count": 78,
   "id": "d180001d",
   "metadata": {},
   "outputs": [
    {
     "name": "stdout",
     "output_type": "stream",
     "text": [
      "Saving figure grid_noBiaseNum_training_curve\n"
     ]
    },
    {
     "data": {
      "image/png": "[encoded data removed]",
      "text/plain": [
       "<Figure size 576x360 with 1 Axes>"
      ]
     },
     "metadata": {
      "needs_background": "light"
     },
     "output_type": "display_data"
    }
   ],
   "source": [
    "import pandas as pd\n",
    "\n",
    "pd.DataFrame(history.history).plot(figsize=(8, 5))\n",
    "plt.grid(True)\n",
    "# plt.gca().set_ylim(0, 1)\n",
    "save_fig(\"grid_noBiaseNum_training_curve\")\n",
    "plt.show()"
   ]
  },
  {
   "cell_type": "markdown",
   "id": "747b06d9",
   "metadata": {},
   "source": [
    "The pure prediction"
   ]
  },
  {
   "cell_type": "code",
   "execution_count": 79,
   "id": "524a38e6",
   "metadata": {},
   "outputs": [
    {
     "name": "stdout",
     "output_type": "stream",
     "text": [
      "X.shape = (None, 1)\n",
      "gauss_grid.shape = (None, 5)\n",
      "Saving figure grid_noBaisedNum_prediction\n"
     ]
    },
    {
     "data": {
      "image/png": "[encoded data removed]",
      "text/plain": [
       "<Figure size 432x288 with 1 Axes>"
      ]
     },
     "metadata": {
      "needs_background": "light"
     },
     "output_type": "display_data"
    }
   ],
   "source": [
    "draw_points(X_train, y_train, sid_train)\n",
    "draw_func(model.predict, mark='r-', linewidth=2, label=\"Predictions\")\n",
    "draw_normal_func(func_dict)\n",
    "plt.xlabel(\"$x_1$\", fontsize=18)\n",
    "plt.ylabel(\"$y$\", rotation=0, fontsize=18)\n",
    "plt.legend(loc=\"upper left\", fontsize=14)\n",
    "# plt.axis([-3, 3, 0, 10])\n",
    "save_fig(\"grid_noBaisedNum_prediction\")\n",
    "plt.show()"
   ]
  },
  {
   "cell_type": "code",
   "execution_count": 80,
   "id": "f9b7a8eb",
   "metadata": {},
   "outputs": [
    {
     "name": "stdout",
     "output_type": "stream",
     "text": [
      "y_func.shape = (100, 1)\n",
      "y_gt.shape = (100, 1)\n"
     ]
    },
    {
     "data": {
      "text/plain": [
       "1.8254348406422503"
      ]
     },
     "execution_count": 80,
     "metadata": {},
     "output_type": "execute_result"
    }
   ],
   "source": [
    "get_prediction_error(model.predict, func_dict, name=\"grid-noBiaseNum\")"
   ]
  },
  {
   "cell_type": "markdown",
   "id": "271cb862",
   "metadata": {},
   "source": [
    "### Biased Prediction (according to SID)"
   ]
  },
  {
   "cell_type": "code",
   "execution_count": 81,
   "id": "aca08405",
   "metadata": {},
   "outputs": [
    {
     "name": "stdout",
     "output_type": "stream",
     "text": [
      "X.shape = (None, 1)\n",
      "gauss_grid.shape = (None, 5)\n",
      "X.shape = (None, 1)\n",
      "SID.shape = (None, 1)\n",
      "Saving figure grid_noBaisedNum_prediction\n"
     ]
    },
    {
     "data": {
      "image/png": "[encoded data removed]",
      "text/plain": [
       "<Figure size 432x288 with 1 Axes>"
      ]
     },
     "metadata": {
      "needs_background": "light"
     },
     "output_type": "display_data"
    }
   ],
   "source": [
    "def predict_with_biase_sid(X, sid=1):\n",
    "    return model_biased.predict([X, tf.fill( (X.shape[0],1), sid)])\n",
    "\n",
    "draw_points(X_train, y_train, sid_train)\n",
    "#\n",
    "draw_func(model.predict, mark='r-', linewidth=2, label=\"Predictions\")\n",
    "for _idx in range(num_subject):\n",
    "    _sid = _idx + 1\n",
    "    draw_func(lambda X: predict_with_biase_sid(X, _sid), mark='k--', linewidth=1, label=(\"sid=%d\" % _sid))\n",
    "#\n",
    "draw_normal_func(func_dict)\n",
    "plt.xlabel(\"$x_1$\", fontsize=18)\n",
    "plt.ylabel(\"$y$\", rotation=0, fontsize=18)\n",
    "plt.legend(loc=\"upper left\", fontsize=14)\n",
    "# plt.axis([-3, 3, 0, 10])\n",
    "save_fig(\"grid_noBaisedNum_prediction\")\n",
    "plt.show()"
   ]
  },
  {
   "cell_type": "markdown",
   "id": "82ec4fc4",
   "metadata": {},
   "source": [
    "# Summary"
   ]
  },
  {
   "cell_type": "code",
   "execution_count": 82,
   "id": "2d764d70",
   "metadata": {},
   "outputs": [
    {
     "name": "stdout",
     "output_type": "stream",
     "text": [
      "num-num: 6.176345\n",
      "grid-num: 4.666532\n",
      "grid-rbc: 4.671797\n",
      "grid-quantileR: 1.838020\n",
      "grid-oneGaussian: 6.077038\n",
      "grid-noBiaseNum: 1.825435\n",
      "\n"
     ]
    }
   ],
   "source": [
    "results = print_all_prediction_error()"
   ]
  },
  {
   "cell_type": "code",
   "execution_count": 83,
   "id": "9f01e530",
   "metadata": {},
   "outputs": [
    {
     "name": "stdout",
     "output_type": "stream",
     "text": [
      "Saving all prediction errors to [.\\images\\regression_test_2\\prediction_errors.txt].\n"
     ]
    },
    {
     "data": {
      "text/plain": [
       "True"
      ]
     },
     "execution_count": 83,
     "metadata": {},
     "output_type": "execute_result"
    }
   ],
   "source": [
    "save_prediction_errors()"
   ]
  },
  {
   "cell_type": "code",
   "execution_count": null,
   "id": "0c3bdf42",
   "metadata": {},
   "outputs": [],
   "source": []
  },
  {
   "cell_type": "code",
   "execution_count": null,
   "id": "a5e6a55a",
   "metadata": {},
   "outputs": [],
   "source": []
  },
  {
   "cell_type": "code",
   "execution_count": null,
   "id": "73a40611",
   "metadata": {},
   "outputs": [],
   "source": []
  }
 ],
 "metadata": {
  "kernelspec": {
   "display_name": "Python 3 (ipykernel)",
   "language": "python",
   "name": "python3"
  },
  "language_info": {
   "codemirror_mode": {
    "name": "ipython",
    "version": 3
   },
   "file_extension": ".py",
   "mimetype": "text/x-python",
   "name": "python",
   "nbconvert_exporter": "python",
   "pygments_lexer": "ipython3",
   "version": "3.9.7"
  }
 },
 "nbformat": 4,
 "nbformat_minor": 5
}
