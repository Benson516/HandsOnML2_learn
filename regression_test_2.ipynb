{
 "cells": [
  {
   "cell_type": "markdown",
   "id": "899fa113",
   "metadata": {},
   "source": [
    "# Regression with Different Output Format under Various Data Conditions\n",
    "\n",
    "In this experience, we test the following output format for regression task under several different data coditions.\n",
    "- Numerical output\n",
    "- Regression as classification (grid-out)\n",
    "\n",
    "The data coditions include:\n",
    "- Sparse (few data)\n",
    "- Grouped\n",
    "  - Biased (parallel data)\n",
    "  - Completely different mode, uncorrelated data (cross)\n",
    "  - Partially diversed (split)"
   ]
  },
  {
   "cell_type": "code",
   "execution_count": 1,
   "id": "625ce7c3",
   "metadata": {},
   "outputs": [],
   "source": [
    "import numpy as np\n",
    "import tensorflow as tf\n",
    "from tensorflow import keras\n",
    "import os\n",
    "\n",
    "# To plot pretty figures\n",
    "%matplotlib inline\n",
    "import matplotlib as mpl\n",
    "import matplotlib.pyplot as plt\n",
    "mpl.rc('axes', labelsize=14)\n",
    "mpl.rc('xtick', labelsize=12)\n",
    "mpl.rc('ytick', labelsize=12)"
   ]
  },
  {
   "cell_type": "code",
   "execution_count": 2,
   "id": "0b186466",
   "metadata": {},
   "outputs": [],
   "source": [
    "# Where to save the figures\n",
    "PROJECT_ROOT_DIR = \".\"\n",
    "CHAPTER_ID = \"regression_test_2\"\n",
    "IMAGES_PATH = os.path.join(PROJECT_ROOT_DIR, \"images\", CHAPTER_ID)\n",
    "os.makedirs(IMAGES_PATH, exist_ok=True)\n",
    "\n",
    "def save_fig(fig_id, tight_layout=True, fig_extension=\"png\", resolution=300):\n",
    "    path = os.path.join(IMAGES_PATH, fig_id + \".\" + fig_extension)\n",
    "    print(\"Saving figure\", fig_id)\n",
    "    if tight_layout:\n",
    "        plt.tight_layout()\n",
    "    plt.savefig(path, format=fig_extension, dpi=resolution)"
   ]
  },
  {
   "cell_type": "code",
   "execution_count": 3,
   "id": "94e8a077",
   "metadata": {},
   "outputs": [],
   "source": [
    "def draw_func(func_in, x_min=-5, x_max=5, mark='r--', linewidth=1, label='func'):\n",
    "    n_sample = 100\n",
    "    X_func = np.linspace(x_min, x_max, n_sample).reshape(n_sample, 1)\n",
    "    y_func = func_in(X_func)\n",
    "    plt.plot(X_func, y_func, mark, linewidth=linewidth, label=label)"
   ]
  },
  {
   "cell_type": "markdown",
   "id": "c27ffe35",
   "metadata": {},
   "source": [
    "Generate polynomial data"
   ]
  },
  {
   "cell_type": "code",
   "execution_count": 4,
   "id": "ce670ce4",
   "metadata": {},
   "outputs": [],
   "source": [
    "poly_a1 = 5.0\n",
    "# poly_a1 = -10.0 # 5.0\n",
    "#\n",
    "sin_a = 0.0\n",
    "# sin_a = 10.0\n",
    "sin_f = 0.1 # 0.2\n",
    "#\n",
    "def func_0(X): # Reference\n",
    "    return 0.5 * X**3 + 0.5 * X**2 + (poly_a1)*X + 2 + sin_a*np.sin(2.0*np.pi*sin_f*X)\n",
    "def func_1(X): # Variation 1: parellel\n",
    "    return 0.5 * X**3 + 0.5 * X**2 + (poly_a1)*X + 30 + sin_a*np.sin(2.0*np.pi*sin_f*X)\n",
    "def func_2(X): # Variation 2: cross\n",
    "    return -0.5 * X**3 + 0.5 * X**2 + (poly_a1)*X + 30 + sin_a*np.sin(2.0*np.pi*sin_f*X)\n",
    "def func_3(X): # Variation 3: slightly split\n",
    "    return 0.3 * X**3 + 1.0 * X**2 + (poly_a1)*X + 15 + sin_a*np.sin(2.0*np.pi*sin_f*X)\n",
    "def func_4(X): # Sine wave~\n",
    "    return 0.5 * X**3 + 0.5 * X**2 + (poly_a1)*X + 2 + 20.0*np.sin(2.0*np.pi*sin_f*X) # 50.0"
   ]
  },
  {
   "cell_type": "code",
   "execution_count": 5,
   "id": "9463bfff",
   "metadata": {},
   "outputs": [],
   "source": [
    "func_dict = dict()\n",
    "#-----------------#\n",
    "func_dict[\"f1\"] = func_0\n",
    "#-----------------#\n",
    "# func_dict[\"f2\"] = func_1\n",
    "# func_dict[\"f2\"] = func_2\n",
    "func_dict[\"f2\"] = func_3\n",
    "# func_dict[\"f2\"] = func_4\n",
    "#-----------------#\n",
    "func_dict[\"f3\"] = func_4\n",
    "#-----------------#\n",
    "\n",
    "# Note: func_dict[\"f_avg\"] depends on multiout_type and is calculated in each section of multiout_type"
   ]
  },
  {
   "cell_type": "code",
   "execution_count": 6,
   "id": "63437d0c",
   "metadata": {},
   "outputs": [
    {
     "name": "stdout",
     "output_type": "stream",
     "text": [
      "(m, m_train) = (100, 80)\n",
      "y_data_pure.shape = (100, 1)\n",
      "y_data.shape = (100, 1)\n"
     ]
    }
   ],
   "source": [
    "np.random.seed(42)\n",
    "m = 100 # 50 # 100 # 200\n",
    "m_train = m // 5 * 4\n",
    "print(\"(m, m_train) = (%d, %d)\" % (m, m_train))\n",
    "\n",
    "# Input\n",
    "is_gapped = True\n",
    "# is_gapped = False\n",
    "#\n",
    "if not is_gapped:\n",
    "    X_data = 10 * np.random.rand(m, 1) - 5 # Note: X is randomly sampled, so we don't need to shuffle the data again\n",
    "else:\n",
    "    X_data = np.concatenate( (np.linspace(-5.0, -2.0, m//2), np.linspace(2.0, 5.0, m-m//2)) )\n",
    "    X_data = X_data.reshape((m,1))\n",
    "    np.random.shuffle(X_data)\n",
    "\n",
    "# Output, multiout_type in {1, 2, 3}\n",
    "# multiout_type = 1      \n",
    "multiout_type = 2 \n",
    "# multiout_type = 3 \n",
    "if multiout_type == 2:\n",
    "    m_h = m // 2\n",
    "    X_data_1 = X_data[:m_h]\n",
    "    X_data_2 = X_data[m_h:]\n",
    "    y_data_pure_1 = func_dict[\"f1\"](X_data_1) \n",
    "    y_data_pure_2 = func_dict[\"f2\"](X_data_2) \n",
    "    y_data_pure = np.vstack([y_data_pure_1, y_data_pure_2])\n",
    "    print(\"y_data_pure.shape = %s\" % str(y_data_pure.shape))\n",
    "    # Average line\n",
    "    func_dict[\"f_avg\"] = ( lambda X: 0.5*func_dict[\"f1\"](X) + 0.5*func_dict[\"f2\"](X) )\n",
    "    #\n",
    "elif multiout_type == 3: # with \"avg\" line\n",
    "    m_t = m // 3\n",
    "    X_data_1 = X_data[:m_t]\n",
    "    X_data_2 = X_data[m_t:(2*m_t)]\n",
    "    X_data_3 = X_data[(2*m_t):]\n",
    "    y_data_pure_1 = func_dict[\"f1\"](X_data_1) \n",
    "    y_data_pure_2 = func_dict[\"f2\"](X_data_2) \n",
    "    y_data_pure_3 = func_dict[\"f3\"](X_data_3) \n",
    "    y_data_pure = np.vstack([y_data_pure_1, y_data_pure_2, y_data_pure_3])\n",
    "    print(\"y_data_pure.shape = %s\" % str(y_data_pure.shape))\n",
    "    # Average line\n",
    "    func_dict[\"f_avg\"] = ( lambda X: (func_dict[\"f1\"](X) + func_dict[\"f2\"](X) + func_dict[\"f3\"](X))/3.0 )\n",
    "    #\n",
    "else: # multiout_type == 1\n",
    "    # Average line\n",
    "    func_dict[\"f_avg\"] = ( lambda X: 0.5*func_dict[\"f1\"](X) + 0.5*func_dict[\"f2\"](X) )\n",
    "    y_data_pure = func_dict[\"f_avg\"](X_data)\n",
    "\n",
    "    \n",
    "# Label (+noise)\n",
    "n_stddev = 2.0\n",
    "# n_stddev = 10.0\n",
    "y_data = y_data_pure + np.random.randn(m, 1) * n_stddev\n",
    "print(\"y_data.shape = %s\" % str(y_data.shape))"
   ]
  },
  {
   "cell_type": "code",
   "execution_count": 7,
   "id": "ef588fae",
   "metadata": {},
   "outputs": [],
   "source": [
    "# Method 1: simply slice\n",
    "# X_train = X_data[:m_train]\n",
    "# y_train = y_data[:m_train]\n",
    "# X_valid = X_data[m_train:]\n",
    "# y_valid = y_data[m_train:]\n",
    "\n",
    "# Method 2: shuffle\n",
    "from sklearn.model_selection import train_test_split\n",
    "X_train, X_valid, y_train, y_valid = train_test_split(X_data, y_data, test_size=0.2, random_state=42)"
   ]
  },
  {
   "cell_type": "code",
   "execution_count": 8,
   "id": "3b5d2cfe",
   "metadata": {},
   "outputs": [
    {
     "name": "stdout",
     "output_type": "stream",
     "text": [
      "(80, 1)\n"
     ]
    }
   ],
   "source": [
    "print(X_train.shape)"
   ]
  },
  {
   "cell_type": "code",
   "execution_count": 9,
   "id": "9bd2136c",
   "metadata": {},
   "outputs": [],
   "source": [
    "def draw_normal_func(func_dict):\n",
    "    draw_func(func_dict[\"f1\"], mark='c:', label=\"f1\")\n",
    "    draw_func(func_dict[\"f2\"], mark='g:', label=\"f2\")\n",
    "    if multiout_type == 3:\n",
    "        draw_func(func_dict[\"f3\"], mark='y:', label=\"f3\")\n",
    "    draw_func(func_dict[\"f_avg\"], mark='m--', label=\"f_avg\")"
   ]
  },
  {
   "cell_type": "code",
   "execution_count": 10,
   "id": "693af3b7",
   "metadata": {},
   "outputs": [
    {
     "name": "stdout",
     "output_type": "stream",
     "text": [
      "Saving figure training_data\n"
     ]
    },
    {
     "data": {
      "image/png": "[encoded data removed]",
      "text/plain": [
       "<Figure size 432x288 with 1 Axes>"
      ]
     },
     "metadata": {
      "needs_background": "light"
     },
     "output_type": "display_data"
    }
   ],
   "source": [
    "plt.plot(X_train, y_train, \"b.\")\n",
    "draw_normal_func(func_dict)\n",
    "plt.xlabel(\"$x_1$\", fontsize=18)\n",
    "plt.ylabel(\"$y$\", rotation=0, fontsize=18)\n",
    "plt.legend(loc=\"upper left\", fontsize=14)\n",
    "# plt.axis([-3, 3, 0, 10])\n",
    "save_fig(\"training_data\")\n",
    "plt.show()"
   ]
  },
  {
   "cell_type": "code",
   "execution_count": 11,
   "id": "a6853ff1",
   "metadata": {},
   "outputs": [],
   "source": [
    "prediction_error_dict = dict()\n",
    "\n",
    "def get_prediction_error(func_in, func_dict, name=\"\", x_min=-5, x_max=5, prediction_error_dict=prediction_error_dict):\n",
    "    n_sample = 100\n",
    "    X_func = np.linspace(x_min, x_max, n_sample).reshape(n_sample, 1)\n",
    "    y_func = func_in(X_func).reshape((n_sample,1))\n",
    "    y_gt = func_dict[\"f_avg\"](X_func).reshape((n_sample,1))\n",
    "    print(\"y_func.shape = %s\" % str(y_func.shape))\n",
    "    print(\"y_gt.shape = %s\" % str(y_gt.shape))\n",
    "#     total_error = np.sqrt(np.square(y_func - y_gt).mean())\n",
    "    total_error = np.abs(y_func - y_gt).mean()\n",
    "    prediction_error_dict[name] = total_error\n",
    "    return total_error\n",
    "\n",
    "def print_all_prediction_error(is_logging_to_screen=True, prediction_error_dict=prediction_error_dict):\n",
    "    _s = \"\"\n",
    "    for _n in prediction_error_dict:\n",
    "        _s += (\"%s: %f\" % (_n, prediction_error_dict[_n])) + \"\\n\"\n",
    "    if is_logging_to_screen:\n",
    "        print(_s)\n",
    "    return _s\n",
    "        \n",
    "def save_prediction_errors(is_logging_to_screen=False, prediction_error_dict=prediction_error_dict):\n",
    "    path = os.path.join(IMAGES_PATH, \"prediction_errors.txt\")\n",
    "    print(\"Saving all prediction errors to [%s].\" % path)\n",
    "    _s = print_all_prediction_error(is_logging_to_screen=is_logging_to_screen, prediction_error_dict=prediction_error_dict)\n",
    "    with open(path, \"w\") as _f:\n",
    "        _f.write(_s)\n",
    "    return True"
   ]
  },
  {
   "cell_type": "markdown",
   "id": "053ecc57",
   "metadata": {},
   "source": [
    "# Simple FCs (number --> number)"
   ]
  },
  {
   "cell_type": "markdown",
   "id": "c66eb67b",
   "metadata": {},
   "source": [
    "Build the regression model"
   ]
  },
  {
   "cell_type": "code",
   "execution_count": 12,
   "id": "9449fc0b",
   "metadata": {},
   "outputs": [
    {
     "name": "stderr",
     "output_type": "stream",
     "text": [
      "C:\\Users\\benso\\anaconda3\\envs\\ml\\lib\\site-packages\\keras\\optimizer_v2\\gradient_descent.py:102: UserWarning: The `lr` argument is deprecated, use `learning_rate` instead.\n",
      "  super(SGD, self).__init__(name, **kwargs)\n"
     ]
    }
   ],
   "source": [
    "model = keras.models.Sequential([\n",
    "    keras.layers.Dense(30, activation=\"relu\", input_shape=X_train.shape[1:]),\n",
    "    keras.layers.Dense(30, activation=\"relu\"),\n",
    "    keras.layers.Dense(1)\n",
    "])\n",
    "\n",
    "optimizer = keras.optimizers.SGD(lr=0.0001, momentum=0.9)\n",
    "model.compile(loss=\"mean_squared_error\", optimizer=optimizer)\n",
    "# optimizer = keras.optimizers.Adam(lr=0.01)\n",
    "# model.compile(loss=\"mean_absolute_error\", optimizer=optimizer)"
   ]
  },
  {
   "cell_type": "code",
   "execution_count": 13,
   "id": "92afd68a",
   "metadata": {
    "scrolled": true
   },
   "outputs": [
    {
     "name": "stdout",
     "output_type": "stream",
     "text": [
      "Epoch 1/100\n",
      "3/3 [==============================] - 2s 199ms/step - loss: 2486.2095 - val_loss: 1700.2893\n",
      "Epoch 2/100\n",
      "3/3 [==============================] - 0s 25ms/step - loss: 2412.0601 - val_loss: 1614.0808\n",
      "Epoch 3/100\n",
      "3/3 [==============================] - 0s 34ms/step - loss: 2273.8071 - val_loss: 1464.8929\n",
      "Epoch 4/100\n",
      "3/3 [==============================] - 0s 44ms/step - loss: 1986.9274 - val_loss: 1135.2097\n",
      "Epoch 5/100\n",
      "3/3 [==============================] - 0s 38ms/step - loss: 1279.2480 - val_loss: 526.0164\n",
      "Epoch 6/100\n",
      "3/3 [==============================] - 0s 28ms/step - loss: 426.7084 - val_loss: 698.9808\n",
      "Epoch 7/100\n",
      "3/3 [==============================] - 0s 38ms/step - loss: 808.2516 - val_loss: 277.8563\n",
      "Epoch 8/100\n",
      "3/3 [==============================] - 0s 50ms/step - loss: 279.4762 - val_loss: 278.7026\n",
      "Epoch 9/100\n",
      "3/3 [==============================] - 0s 36ms/step - loss: 500.4638 - val_loss: 314.6178\n",
      "Epoch 10/100\n",
      "3/3 [==============================] - 0s 48ms/step - loss: 389.2735 - val_loss: 196.8842\n",
      "Epoch 11/100\n",
      "3/3 [==============================] - 0s 44ms/step - loss: 292.5433 - val_loss: 276.5972\n",
      "Epoch 12/100\n",
      "3/3 [==============================] - 0s 26ms/step - loss: 308.4734 - val_loss: 175.1801\n",
      "Epoch 13/100\n",
      "3/3 [==============================] - 0s 27ms/step - loss: 205.0387 - val_loss: 228.0493\n",
      "Epoch 14/100\n",
      "3/3 [==============================] - 0s 27ms/step - loss: 279.9686 - val_loss: 215.2467\n",
      "Epoch 15/100\n",
      "3/3 [==============================] - 0s 17ms/step - loss: 220.0009 - val_loss: 198.1869\n",
      "Epoch 16/100\n",
      "3/3 [==============================] - 0s 15ms/step - loss: 231.2411 - val_loss: 212.1902\n",
      "Epoch 17/100\n",
      "3/3 [==============================] - 0s 18ms/step - loss: 219.9102 - val_loss: 172.0667\n",
      "Epoch 18/100\n",
      "3/3 [==============================] - 0s 15ms/step - loss: 213.0122 - val_loss: 177.8772\n",
      "Epoch 19/100\n",
      "3/3 [==============================] - 0s 18ms/step - loss: 218.9532 - val_loss: 167.4033\n",
      "Epoch 20/100\n",
      "3/3 [==============================] - 0s 17ms/step - loss: 192.8081 - val_loss: 175.2589\n",
      "Epoch 21/100\n",
      "3/3 [==============================] - 0s 16ms/step - loss: 201.6156 - val_loss: 176.3942\n",
      "Epoch 22/100\n",
      "3/3 [==============================] - 0s 16ms/step - loss: 196.9383 - val_loss: 178.7614\n",
      "Epoch 23/100\n",
      "3/3 [==============================] - 0s 16ms/step - loss: 201.3228 - val_loss: 179.1006\n",
      "Epoch 24/100\n",
      "3/3 [==============================] - 0s 20ms/step - loss: 195.1796 - val_loss: 174.6957\n",
      "Epoch 25/100\n",
      "3/3 [==============================] - 0s 15ms/step - loss: 191.1156 - val_loss: 172.8905\n",
      "Epoch 26/100\n",
      "3/3 [==============================] - 0s 15ms/step - loss: 191.3567 - val_loss: 169.3641\n",
      "Epoch 27/100\n",
      "3/3 [==============================] - ETA: 0s - loss: 184.604 - 0s 15ms/step - loss: 188.9644 - val_loss: 167.1135\n",
      "Epoch 28/100\n",
      "3/3 [==============================] - 0s 16ms/step - loss: 191.4236 - val_loss: 167.0553\n",
      "Epoch 29/100\n",
      "3/3 [==============================] - 0s 18ms/step - loss: 189.5993 - val_loss: 169.2949\n",
      "Epoch 30/100\n",
      "3/3 [==============================] - 0s 16ms/step - loss: 188.9739 - val_loss: 166.1920\n",
      "Epoch 31/100\n",
      "3/3 [==============================] - 0s 18ms/step - loss: 187.4279 - val_loss: 164.3228\n",
      "Epoch 32/100\n",
      "3/3 [==============================] - 0s 16ms/step - loss: 188.0788 - val_loss: 164.8013\n",
      "Epoch 33/100\n",
      "3/3 [==============================] - 0s 17ms/step - loss: 185.1189 - val_loss: 168.7453\n",
      "Epoch 34/100\n",
      "3/3 [==============================] - 0s 18ms/step - loss: 185.3401 - val_loss: 173.2969\n",
      "Epoch 35/100\n",
      "3/3 [==============================] - 0s 16ms/step - loss: 186.0719 - val_loss: 171.1097\n",
      "Epoch 36/100\n",
      "3/3 [==============================] - 0s 16ms/step - loss: 184.1812 - val_loss: 170.8877\n",
      "Epoch 37/100\n",
      "3/3 [==============================] - 0s 23ms/step - loss: 183.9564 - val_loss: 167.2207\n",
      "Epoch 38/100\n",
      "3/3 [==============================] - 0s 23ms/step - loss: 182.1718 - val_loss: 164.7896\n",
      "Epoch 39/100\n",
      "3/3 [==============================] - 0s 15ms/step - loss: 182.1693 - val_loss: 164.4956\n",
      "Epoch 40/100\n",
      "3/3 [==============================] - 0s 16ms/step - loss: 185.7222 - val_loss: 163.0617\n",
      "Epoch 41/100\n",
      "3/3 [==============================] - 0s 15ms/step - loss: 181.3743 - val_loss: 162.1513\n",
      "Epoch 42/100\n",
      "3/3 [==============================] - 0s 16ms/step - loss: 180.9591 - val_loss: 160.2086\n",
      "Epoch 43/100\n",
      "3/3 [==============================] - 0s 27ms/step - loss: 180.9681 - val_loss: 162.1077\n",
      "Epoch 44/100\n",
      "3/3 [==============================] - 0s 29ms/step - loss: 180.1351 - val_loss: 165.2000\n",
      "Epoch 45/100\n",
      "3/3 [==============================] - 0s 48ms/step - loss: 178.3617 - val_loss: 166.6610\n",
      "Epoch 46/100\n",
      "3/3 [==============================] - 0s 25ms/step - loss: 178.8676 - val_loss: 170.2122\n",
      "Epoch 47/100\n",
      "3/3 [==============================] - 0s 17ms/step - loss: 179.4467 - val_loss: 174.5035\n",
      "Epoch 48/100\n",
      "3/3 [==============================] - 0s 17ms/step - loss: 180.0233 - val_loss: 168.5308\n",
      "Epoch 49/100\n",
      "3/3 [==============================] - 0s 38ms/step - loss: 177.8656 - val_loss: 165.2822\n",
      "Epoch 50/100\n",
      "3/3 [==============================] - 0s 65ms/step - loss: 176.6357 - val_loss: 163.3418\n",
      "Epoch 51/100\n",
      "3/3 [==============================] - 0s 70ms/step - loss: 175.1616 - val_loss: 161.6300\n",
      "Epoch 52/100\n",
      "3/3 [==============================] - 0s 71ms/step - loss: 175.1945 - val_loss: 160.8770\n",
      "Epoch 53/100\n",
      "3/3 [==============================] - 0s 32ms/step - loss: 174.6236 - val_loss: 158.3381\n",
      "Epoch 54/100\n",
      "3/3 [==============================] - 0s 32ms/step - loss: 173.4297 - val_loss: 158.3579\n",
      "Epoch 55/100\n",
      "3/3 [==============================] - 0s 19ms/step - loss: 175.3838 - val_loss: 161.6954\n",
      "Epoch 56/100\n",
      "3/3 [==============================] - 0s 18ms/step - loss: 172.5816 - val_loss: 161.9568\n",
      "Epoch 57/100\n",
      "3/3 [==============================] - 0s 17ms/step - loss: 177.7828 - val_loss: 158.1681\n",
      "Epoch 58/100\n",
      "3/3 [==============================] - 0s 20ms/step - loss: 172.2679 - val_loss: 158.7375\n",
      "Epoch 59/100\n",
      "3/3 [==============================] - 0s 24ms/step - loss: 174.4988 - val_loss: 157.4968\n",
      "Epoch 60/100\n",
      "3/3 [==============================] - 0s 16ms/step - loss: 172.3731 - val_loss: 161.3839\n",
      "Epoch 61/100\n",
      "3/3 [==============================] - 0s 33ms/step - loss: 170.3636 - val_loss: 170.3429\n",
      "Epoch 62/100\n",
      "3/3 [==============================] - 0s 17ms/step - loss: 173.2387 - val_loss: 168.1227\n",
      "Epoch 63/100\n",
      "3/3 [==============================] - 0s 16ms/step - loss: 170.5408 - val_loss: 163.5197\n",
      "Epoch 64/100\n",
      "3/3 [==============================] - 0s 16ms/step - loss: 172.7839 - val_loss: 158.8409\n",
      "Epoch 65/100\n",
      "3/3 [==============================] - 0s 21ms/step - loss: 171.8665 - val_loss: 154.7620\n",
      "Epoch 66/100\n",
      "3/3 [==============================] - 0s 30ms/step - loss: 169.0097 - val_loss: 153.2031\n",
      "Epoch 67/100\n",
      "3/3 [==============================] - 0s 17ms/step - loss: 168.2467 - val_loss: 149.9790\n",
      "Epoch 68/100\n",
      "3/3 [==============================] - 0s 17ms/step - loss: 169.8168 - val_loss: 150.0045\n",
      "Epoch 69/100\n",
      "3/3 [==============================] - 0s 23ms/step - loss: 167.5129 - val_loss: 151.9631\n",
      "Epoch 70/100\n",
      "3/3 [==============================] - 0s 18ms/step - loss: 166.9414 - val_loss: 158.0088\n",
      "Epoch 71/100\n",
      "3/3 [==============================] - 0s 41ms/step - loss: 170.0691 - val_loss: 164.7918\n",
      "Epoch 72/100\n",
      "3/3 [==============================] - 0s 37ms/step - loss: 167.8978 - val_loss: 161.8050\n",
      "Epoch 73/100\n",
      "3/3 [==============================] - 0s 21ms/step - loss: 165.5316 - val_loss: 155.4815\n",
      "Epoch 74/100\n",
      "3/3 [==============================] - 0s 16ms/step - loss: 165.1433 - val_loss: 148.7262\n",
      "Epoch 75/100\n",
      "3/3 [==============================] - 0s 32ms/step - loss: 164.9667 - val_loss: 146.7431\n",
      "Epoch 76/100\n",
      "3/3 [==============================] - 0s 37ms/step - loss: 166.7359 - val_loss: 145.0065\n",
      "Epoch 77/100\n",
      "3/3 [==============================] - 0s 19ms/step - loss: 166.0238 - val_loss: 148.0453\n",
      "Epoch 78/100\n",
      "3/3 [==============================] - 0s 23ms/step - loss: 162.3111 - val_loss: 155.0442\n",
      "Epoch 79/100\n",
      "3/3 [==============================] - 0s 24ms/step - loss: 163.7146 - val_loss: 165.6118\n",
      "Epoch 80/100\n"
     ]
    },
    {
     "name": "stdout",
     "output_type": "stream",
     "text": [
      "3/3 [==============================] - 0s 41ms/step - loss: 169.2985 - val_loss: 169.0123\n",
      "Epoch 81/100\n",
      "3/3 [==============================] - 0s 38ms/step - loss: 165.9401 - val_loss: 159.5504\n",
      "Epoch 82/100\n",
      "3/3 [==============================] - 0s 21ms/step - loss: 168.4180 - val_loss: 148.7802\n",
      "Epoch 83/100\n",
      "3/3 [==============================] - 0s 18ms/step - loss: 162.4712 - val_loss: 148.1302\n",
      "Epoch 84/100\n",
      "3/3 [==============================] - 0s 20ms/step - loss: 165.5875 - val_loss: 144.5685\n",
      "Epoch 85/100\n",
      "3/3 [==============================] - 0s 18ms/step - loss: 162.6201 - val_loss: 145.6052\n",
      "Epoch 86/100\n",
      "3/3 [==============================] - 0s 22ms/step - loss: 164.1824 - val_loss: 150.8035\n",
      "Epoch 87/100\n",
      "3/3 [==============================] - 0s 16ms/step - loss: 161.6333 - val_loss: 149.0819\n",
      "Epoch 88/100\n",
      "3/3 [==============================] - 0s 16ms/step - loss: 162.0277 - val_loss: 145.1060\n",
      "Epoch 89/100\n",
      "3/3 [==============================] - 0s 43ms/step - loss: 160.0345 - val_loss: 138.4181\n",
      "Epoch 90/100\n",
      "3/3 [==============================] - 0s 20ms/step - loss: 164.5030 - val_loss: 137.4232\n",
      "Epoch 91/100\n",
      "3/3 [==============================] - 0s 16ms/step - loss: 163.9541 - val_loss: 141.4762\n",
      "Epoch 92/100\n",
      "3/3 [==============================] - 0s 21ms/step - loss: 162.0112 - val_loss: 146.9677\n",
      "Epoch 93/100\n",
      "3/3 [==============================] - 0s 15ms/step - loss: 161.4669 - val_loss: 156.8158\n",
      "Epoch 94/100\n",
      "3/3 [==============================] - 0s 16ms/step - loss: 163.9582 - val_loss: 162.1514\n",
      "Epoch 95/100\n",
      "3/3 [==============================] - 0s 16ms/step - loss: 162.1119 - val_loss: 152.8012\n",
      "Epoch 96/100\n",
      "3/3 [==============================] - 0s 16ms/step - loss: 160.1558 - val_loss: 141.0630\n",
      "Epoch 97/100\n",
      "3/3 [==============================] - 0s 20ms/step - loss: 161.4013 - val_loss: 135.7133\n",
      "Epoch 98/100\n",
      "3/3 [==============================] - 0s 16ms/step - loss: 162.4397 - val_loss: 134.3959\n",
      "Epoch 99/100\n",
      "3/3 [==============================] - 0s 16ms/step - loss: 160.5908 - val_loss: 138.2442\n",
      "Epoch 100/100\n",
      "3/3 [==============================] - 0s 21ms/step - loss: 158.1525 - val_loss: 146.2670\n"
     ]
    }
   ],
   "source": [
    "history = model.fit(X_train, y_train, epochs=100,\n",
    "                    validation_data=(X_valid, y_valid))"
   ]
  },
  {
   "cell_type": "markdown",
   "id": "17d6e37a",
   "metadata": {},
   "source": [
    "Plot the result"
   ]
  },
  {
   "cell_type": "code",
   "execution_count": 14,
   "id": "3b066f5c",
   "metadata": {},
   "outputs": [
    {
     "name": "stdout",
     "output_type": "stream",
     "text": [
      "Saving figure num_num_training_curve\n"
     ]
    },
    {
     "data": {
      "image/png": "[encoded data removed]",
      "text/plain": [
       "<Figure size 576x360 with 1 Axes>"
      ]
     },
     "metadata": {
      "needs_background": "light"
     },
     "output_type": "display_data"
    }
   ],
   "source": [
    "import pandas as pd\n",
    "\n",
    "pd.DataFrame(history.history).plot(figsize=(8, 5))\n",
    "plt.grid(True)\n",
    "# plt.gca().set_ylim(0, 1)\n",
    "save_fig(\"num_num_training_curve\")\n",
    "plt.show()"
   ]
  },
  {
   "cell_type": "code",
   "execution_count": 15,
   "id": "03f9bb54",
   "metadata": {},
   "outputs": [
    {
     "name": "stdout",
     "output_type": "stream",
     "text": [
      "Saving figure num_num_prediction\n"
     ]
    },
    {
     "data": {
      "image/png": "[encoded data removed]",
      "text/plain": [
       "<Figure size 432x288 with 1 Axes>"
      ]
     },
     "metadata": {
      "needs_background": "light"
     },
     "output_type": "display_data"
    }
   ],
   "source": [
    "# X_new = np.linspace(-5, 5, 100).reshape(100, 1)\n",
    "# y_new = model.predict(X_new)\n",
    "#\n",
    "plt.plot(X_train, y_train, \"b.\")\n",
    "# plt.plot(X_new, y_new, \"r-\", linewidth=2, label=\"Predictions\")\n",
    "draw_func(model.predict, mark='r-', linewidth=2, label=\"Predictions\")\n",
    "draw_normal_func(func_dict)\n",
    "plt.xlabel(\"$x_1$\", fontsize=18)\n",
    "plt.ylabel(\"$y$\", rotation=0, fontsize=18)\n",
    "plt.legend(loc=\"upper left\", fontsize=14)\n",
    "# plt.axis([-3, 3, 0, 10])\n",
    "save_fig(\"num_num_prediction\")\n",
    "plt.show()"
   ]
  },
  {
   "cell_type": "code",
   "execution_count": 16,
   "id": "bc06d931",
   "metadata": {},
   "outputs": [
    {
     "name": "stdout",
     "output_type": "stream",
     "text": [
      "y_func.shape = (100, 1)\n",
      "y_gt.shape = (100, 1)\n"
     ]
    },
    {
     "data": {
      "text/plain": [
       "5.9476737115053835"
      ]
     },
     "execution_count": 16,
     "metadata": {},
     "output_type": "execute_result"
    }
   ],
   "source": [
    "get_prediction_error(model.predict, func_dict, name=\"num-num\")"
   ]
  },
  {
   "cell_type": "markdown",
   "id": "58da8768",
   "metadata": {},
   "source": [
    "# Simulated CNN Feature Map (1-D grids, grid --> number)"
   ]
  },
  {
   "cell_type": "code",
   "execution_count": 17,
   "id": "287b5e4c",
   "metadata": {},
   "outputs": [],
   "source": [
    "class num2grid(keras.layers.Layer):\n",
    "    def __init__(self, units, x_min=-10, x_max=10, sigma=1.0, activation=None, **kwargs):\n",
    "        super().__init__(**kwargs)\n",
    "        self.units = units\n",
    "        self.x_min = x_min\n",
    "        self.x_max = x_max\n",
    "        self.sigma = sigma\n",
    "        self.sigma2 = self.sigma**2\n",
    "        self.activation = keras.activations.get(activation)\n",
    "        \n",
    "    def build(self, batch_input_shape):\n",
    "        #\n",
    "        self.x_grid = np.linspace(self.x_min, self.x_max, self.units, endpoint=True)\n",
    "#         print(\"self.x_grid.shape = %s\" % str(self.x_grid.shape))\n",
    "        #\n",
    "        super().build(batch_input_shape) # must be at the end\n",
    "        \n",
    "    def call(self, X):\n",
    "        '''\n",
    "        Input shape:  (batch, X_chanel)\n",
    "        Output shape: (batch, grid_unit) \n",
    "        \n",
    "        self.x_grid shape: (grid_unit,)\n",
    "        '''\n",
    "        gauss_grid = tf.exp( -(self.x_grid - X)**2 / (2.0*self.sigma2) )\n",
    "        print(\"X.shape = %s\" % str(X.shape))\n",
    "        print(\"gauss_grid.shape = %s\" % str(gauss_grid.shape))\n",
    "        return self.activation(gauss_grid)\n",
    "    \n",
    "    def compute_output_shape(self, batch_input_shape):\n",
    "        return tf.TensorShape(batch_input_shape.as_list()[:-1] + [self.units])\n",
    "    \n",
    "    def get_config(self):\n",
    "        base_config = super().get_config()\n",
    "        return {**base_config, \n",
    "                \"units\": self.units,\n",
    "                \"x_min\": self.x_min,\n",
    "                \"x_max\": self.x_max,\n",
    "                \"sigma\": self.sigma,\n",
    "                \"activation\": keras.activations.serialize(self.activation)}"
   ]
  },
  {
   "cell_type": "code",
   "execution_count": 18,
   "id": "f463c12a",
   "metadata": {},
   "outputs": [
    {
     "name": "stdout",
     "output_type": "stream",
     "text": [
      "X.shape = (None, 1)\n",
      "gauss_grid.shape = (None, 5)\n"
     ]
    },
    {
     "name": "stderr",
     "output_type": "stream",
     "text": [
      "C:\\Users\\benso\\anaconda3\\envs\\ml\\lib\\site-packages\\keras\\optimizer_v2\\adam.py:105: UserWarning: The `lr` argument is deprecated, use `learning_rate` instead.\n",
      "  super(Adam, self).__init__(name, **kwargs)\n"
     ]
    }
   ],
   "source": [
    "model = keras.models.Sequential([\n",
    "    num2grid(5,x_min=-10, x_max=10, sigma=3.0, input_shape=X_train.shape[1:]),\n",
    "    keras.layers.Dense(30, activation=\"relu\"),\n",
    "#     keras.layers.Dense(100, activation=\"relu\", kernel_regularizer=tf.keras.regularizers.l1(0.01)),\n",
    "#     keras.layers.Dense(30, activation=keras.layers.LeakyReLU(alpha=0.2) ),\n",
    "#     keras.layers.Dense(30, activation=\"selu\"),\n",
    "#     keras.layers.Dense(30, activation=\"relu\"),\n",
    "    keras.layers.Dense(1)\n",
    "])\n",
    "\n",
    "# optimizer = keras.optimizers.SGD(lr=0.001, momentum=0.9)\n",
    "# model.compile(loss=\"mean_squared_error\", optimizer=optimizer)\n",
    "optimizer = keras.optimizers.Adam(lr=0.1)\n",
    "model.compile(loss=\"mean_absolute_error\", optimizer=optimizer)"
   ]
  },
  {
   "cell_type": "code",
   "execution_count": 19,
   "id": "c966ada4",
   "metadata": {
    "scrolled": true
   },
   "outputs": [
    {
     "name": "stdout",
     "output_type": "stream",
     "text": [
      "Epoch 1/100\n",
      "X.shape = (None, 1)\n",
      "gauss_grid.shape = (None, 5)\n",
      "X.shape = (None, 1)\n",
      "gauss_grid.shape = (None, 5)\n",
      "1/3 [=========>....................] - ETA: 1s - loss: 40.5436X.shape = (None, 1)\n",
      "gauss_grid.shape = (None, 5)\n",
      "3/3 [==============================] - 1s 89ms/step - loss: 41.7018 - val_loss: 33.5852\n",
      "Epoch 2/100\n",
      "3/3 [==============================] - 0s 20ms/step - loss: 39.6083 - val_loss: 31.9350\n",
      "Epoch 3/100\n",
      "3/3 [==============================] - 0s 44ms/step - loss: 35.4809 - val_loss: 29.3465\n",
      "Epoch 4/100\n",
      "3/3 [==============================] - 0s 47ms/step - loss: 29.3229 - val_loss: 25.3343\n",
      "Epoch 5/100\n",
      "3/3 [==============================] - 0s 37ms/step - loss: 22.3824 - val_loss: 19.2421\n",
      "Epoch 6/100\n",
      "3/3 [==============================] - 0s 46ms/step - loss: 17.7692 - val_loss: 15.0577\n",
      "Epoch 7/100\n",
      "3/3 [==============================] - 0s 41ms/step - loss: 15.6666 - val_loss: 13.3839\n",
      "Epoch 8/100\n",
      "3/3 [==============================] - 0s 45ms/step - loss: 13.9679 - val_loss: 13.6259\n",
      "Epoch 9/100\n",
      "3/3 [==============================] - 0s 40ms/step - loss: 13.1020 - val_loss: 12.7806\n",
      "Epoch 10/100\n",
      "3/3 [==============================] - 0s 39ms/step - loss: 12.6344 - val_loss: 12.7867\n",
      "Epoch 11/100\n",
      "3/3 [==============================] - 0s 34ms/step - loss: 12.0047 - val_loss: 12.5963\n",
      "Epoch 12/100\n",
      "3/3 [==============================] - 0s 47ms/step - loss: 11.5941 - val_loss: 13.0714\n",
      "Epoch 13/100\n",
      "3/3 [==============================] - 0s 21ms/step - loss: 10.8376 - val_loss: 13.6944\n",
      "Epoch 14/100\n",
      "3/3 [==============================] - 0s 17ms/step - loss: 10.7128 - val_loss: 13.7514\n",
      "Epoch 15/100\n",
      "3/3 [==============================] - 0s 30ms/step - loss: 10.3247 - val_loss: 13.3554\n",
      "Epoch 16/100\n",
      "3/3 [==============================] - 0s 27ms/step - loss: 10.6467 - val_loss: 13.2536\n",
      "Epoch 17/100\n",
      "3/3 [==============================] - 0s 33ms/step - loss: 10.3011 - val_loss: 13.7917\n",
      "Epoch 18/100\n",
      "3/3 [==============================] - 0s 24ms/step - loss: 10.7567 - val_loss: 13.2337\n",
      "Epoch 19/100\n",
      "3/3 [==============================] - 0s 24ms/step - loss: 10.0240 - val_loss: 12.9895\n",
      "Epoch 20/100\n",
      "3/3 [==============================] - 0s 29ms/step - loss: 11.0477 - val_loss: 12.6084\n",
      "Epoch 21/100\n",
      "3/3 [==============================] - 0s 28ms/step - loss: 10.2239 - val_loss: 13.4048\n",
      "Epoch 22/100\n",
      "3/3 [==============================] - 0s 23ms/step - loss: 10.5629 - val_loss: 12.6628\n",
      "Epoch 23/100\n",
      "3/3 [==============================] - 0s 18ms/step - loss: 9.9497 - val_loss: 12.4256\n",
      "Epoch 24/100\n",
      "3/3 [==============================] - 0s 23ms/step - loss: 10.0107 - val_loss: 12.6741\n",
      "Epoch 25/100\n",
      "3/3 [==============================] - 0s 19ms/step - loss: 10.0545 - val_loss: 13.1421\n",
      "Epoch 26/100\n",
      "3/3 [==============================] - 0s 26ms/step - loss: 10.0198 - val_loss: 12.5497\n",
      "Epoch 27/100\n",
      "3/3 [==============================] - 0s 14ms/step - loss: 10.2187 - val_loss: 12.4058\n",
      "Epoch 28/100\n",
      "3/3 [==============================] - 0s 18ms/step - loss: 10.0747 - val_loss: 12.3954\n",
      "Epoch 29/100\n",
      "3/3 [==============================] - 0s 26ms/step - loss: 9.9016 - val_loss: 12.1093\n",
      "Epoch 30/100\n",
      "3/3 [==============================] - 0s 28ms/step - loss: 9.7476 - val_loss: 11.9736\n",
      "Epoch 31/100\n",
      "3/3 [==============================] - 0s 20ms/step - loss: 9.8181 - val_loss: 11.8042\n",
      "Epoch 32/100\n",
      "3/3 [==============================] - 0s 39ms/step - loss: 9.6387 - val_loss: 12.1170\n",
      "Epoch 33/100\n",
      "3/3 [==============================] - 0s 36ms/step - loss: 9.8785 - val_loss: 11.9320\n",
      "Epoch 34/100\n",
      "3/3 [==============================] - 0s 30ms/step - loss: 9.6960 - val_loss: 11.7318\n",
      "Epoch 35/100\n",
      "3/3 [==============================] - 0s 57ms/step - loss: 9.6497 - val_loss: 12.0212\n",
      "Epoch 36/100\n",
      "3/3 [==============================] - 0s 39ms/step - loss: 9.7794 - val_loss: 11.9491\n",
      "Epoch 37/100\n",
      "3/3 [==============================] - 0s 62ms/step - loss: 9.6370 - val_loss: 11.7893\n",
      "Epoch 38/100\n",
      "3/3 [==============================] - 0s 44ms/step - loss: 9.7679 - val_loss: 11.6237\n",
      "Epoch 39/100\n",
      "3/3 [==============================] - 0s 20ms/step - loss: 9.5239 - val_loss: 11.7275\n",
      "Epoch 40/100\n",
      "3/3 [==============================] - 0s 45ms/step - loss: 9.4505 - val_loss: 11.5224\n",
      "Epoch 41/100\n",
      "3/3 [==============================] - 0s 35ms/step - loss: 9.5373 - val_loss: 11.4383\n",
      "Epoch 42/100\n",
      "3/3 [==============================] - 0s 29ms/step - loss: 9.5753 - val_loss: 11.2701\n",
      "Epoch 43/100\n",
      "3/3 [==============================] - 0s 21ms/step - loss: 9.5812 - val_loss: 11.7008\n",
      "Epoch 44/100\n",
      "3/3 [==============================] - 0s 17ms/step - loss: 9.4960 - val_loss: 11.4903\n",
      "Epoch 45/100\n",
      "3/3 [==============================] - 0s 13ms/step - loss: 9.7806 - val_loss: 11.6400\n",
      "Epoch 46/100\n",
      "3/3 [==============================] - 0s 19ms/step - loss: 9.8025 - val_loss: 11.6032\n",
      "Epoch 47/100\n",
      "3/3 [==============================] - 0s 22ms/step - loss: 9.3780 - val_loss: 11.1203\n",
      "Epoch 48/100\n",
      "3/3 [==============================] - 0s 35ms/step - loss: 9.3087 - val_loss: 11.0113\n",
      "Epoch 49/100\n",
      "3/3 [==============================] - 0s 19ms/step - loss: 9.2804 - val_loss: 11.0251\n",
      "Epoch 50/100\n",
      "3/3 [==============================] - 0s 17ms/step - loss: 9.2578 - val_loss: 11.1169\n",
      "Epoch 51/100\n",
      "3/3 [==============================] - 0s 20ms/step - loss: 9.2554 - val_loss: 11.2321\n",
      "Epoch 52/100\n",
      "3/3 [==============================] - 0s 13ms/step - loss: 9.2778 - val_loss: 11.4884\n",
      "Epoch 53/100\n",
      "3/3 [==============================] - 0s 28ms/step - loss: 9.5662 - val_loss: 11.2760\n",
      "Epoch 54/100\n",
      "3/3 [==============================] - 0s 66ms/step - loss: 9.3660 - val_loss: 11.0144\n",
      "Epoch 55/100\n",
      "3/3 [==============================] - 0s 32ms/step - loss: 9.1905 - val_loss: 11.3912\n",
      "Epoch 56/100\n",
      "3/3 [==============================] - 0s 26ms/step - loss: 9.5873 - val_loss: 10.9291\n",
      "Epoch 57/100\n",
      "3/3 [==============================] - 0s 23ms/step - loss: 9.1936 - val_loss: 11.0493\n",
      "Epoch 58/100\n",
      "3/3 [==============================] - 0s 21ms/step - loss: 9.2770 - val_loss: 10.7597\n",
      "Epoch 59/100\n",
      "3/3 [==============================] - 0s 20ms/step - loss: 9.2212 - val_loss: 10.6983\n",
      "Epoch 60/100\n",
      "3/3 [==============================] - 0s 18ms/step - loss: 9.1422 - val_loss: 10.7266\n",
      "Epoch 61/100\n",
      "3/3 [==============================] - 0s 18ms/step - loss: 9.3202 - val_loss: 10.7896\n",
      "Epoch 62/100\n",
      "3/3 [==============================] - 0s 14ms/step - loss: 9.2344 - val_loss: 10.7666\n",
      "Epoch 63/100\n",
      "3/3 [==============================] - 0s 17ms/step - loss: 9.0568 - val_loss: 10.6404\n",
      "Epoch 64/100\n",
      "3/3 [==============================] - 0s 20ms/step - loss: 9.0682 - val_loss: 10.7742\n",
      "Epoch 65/100\n",
      "3/3 [==============================] - 0s 19ms/step - loss: 9.2970 - val_loss: 10.9822\n",
      "Epoch 66/100\n",
      "3/3 [==============================] - 0s 21ms/step - loss: 9.1576 - val_loss: 11.1316\n",
      "Epoch 67/100\n",
      "3/3 [==============================] - 0s 20ms/step - loss: 9.0567 - val_loss: 11.0328\n",
      "Epoch 68/100\n",
      "3/3 [==============================] - 0s 21ms/step - loss: 9.2541 - val_loss: 10.9049\n",
      "Epoch 69/100\n",
      "3/3 [==============================] - 0s 25ms/step - loss: 9.2306 - val_loss: 10.9157\n",
      "Epoch 70/100\n",
      "3/3 [==============================] - 0s 14ms/step - loss: 9.0906 - val_loss: 10.5590\n",
      "Epoch 71/100\n",
      "3/3 [==============================] - 0s 20ms/step - loss: 9.7761 - val_loss: 10.7645\n",
      "Epoch 72/100\n",
      "3/3 [==============================] - 0s 17ms/step - loss: 9.5668 - val_loss: 10.8863\n",
      "Epoch 73/100\n",
      "3/3 [==============================] - 0s 18ms/step - loss: 9.3135 - val_loss: 10.4242\n",
      "Epoch 74/100\n",
      "3/3 [==============================] - 0s 17ms/step - loss: 9.2200 - val_loss: 10.3561\n",
      "Epoch 75/100\n",
      "3/3 [==============================] - 0s 18ms/step - loss: 8.9143 - val_loss: 10.6468\n",
      "Epoch 76/100\n",
      "3/3 [==============================] - 0s 24ms/step - loss: 9.2444 - val_loss: 10.3301\n",
      "Epoch 77/100\n",
      "3/3 [==============================] - 0s 13ms/step - loss: 9.4138 - val_loss: 10.3022\n",
      "Epoch 78/100\n",
      "3/3 [==============================] - 0s 19ms/step - loss: 9.1216 - val_loss: 10.8364\n",
      "Epoch 79/100\n",
      "3/3 [==============================] - 0s 18ms/step - loss: 9.9434 - val_loss: 10.2508\n",
      "Epoch 80/100\n"
     ]
    },
    {
     "name": "stdout",
     "output_type": "stream",
     "text": [
      "3/3 [==============================] - 0s 14ms/step - loss: 8.9732 - val_loss: 10.5677\n",
      "Epoch 81/100\n",
      "3/3 [==============================] - 0s 26ms/step - loss: 9.1217 - val_loss: 10.7619\n",
      "Epoch 82/100\n",
      "3/3 [==============================] - 0s 57ms/step - loss: 9.2006 - val_loss: 10.8953\n",
      "Epoch 83/100\n",
      "3/3 [==============================] - 0s 56ms/step - loss: 9.1784 - val_loss: 10.6740\n",
      "Epoch 84/100\n",
      "3/3 [==============================] - 0s 58ms/step - loss: 9.0015 - val_loss: 10.7109\n",
      "Epoch 85/100\n",
      "3/3 [==============================] - 0s 38ms/step - loss: 9.0255 - val_loss: 10.4251\n",
      "Epoch 86/100\n",
      "3/3 [==============================] - 0s 33ms/step - loss: 8.9083 - val_loss: 10.1717\n",
      "Epoch 87/100\n",
      "3/3 [==============================] - 0s 32ms/step - loss: 9.0059 - val_loss: 10.3437\n",
      "Epoch 88/100\n",
      "3/3 [==============================] - 0s 26ms/step - loss: 8.9103 - val_loss: 10.2743\n",
      "Epoch 89/100\n",
      "3/3 [==============================] - 0s 24ms/step - loss: 9.1221 - val_loss: 10.3636\n",
      "Epoch 90/100\n",
      "3/3 [==============================] - 0s 19ms/step - loss: 8.9932 - val_loss: 10.4671\n",
      "Epoch 91/100\n",
      "3/3 [==============================] - 0s 20ms/step - loss: 9.0186 - val_loss: 9.9450\n",
      "Epoch 92/100\n",
      "3/3 [==============================] - 0s 26ms/step - loss: 8.9831 - val_loss: 9.9913\n",
      "Epoch 93/100\n",
      "3/3 [==============================] - 0s 22ms/step - loss: 9.3194 - val_loss: 10.3704\n",
      "Epoch 94/100\n",
      "3/3 [==============================] - 0s 36ms/step - loss: 9.2347 - val_loss: 10.1767\n",
      "Epoch 95/100\n",
      "3/3 [==============================] - 0s 22ms/step - loss: 9.0005 - val_loss: 10.6153\n",
      "Epoch 96/100\n",
      "3/3 [==============================] - 0s 24ms/step - loss: 9.3025 - val_loss: 10.9029\n",
      "Epoch 97/100\n",
      "3/3 [==============================] - 0s 23ms/step - loss: 9.2461 - val_loss: 10.3476\n",
      "Epoch 98/100\n",
      "3/3 [==============================] - 0s 36ms/step - loss: 8.9899 - val_loss: 10.5057\n",
      "Epoch 99/100\n",
      "3/3 [==============================] - 0s 24ms/step - loss: 8.9053 - val_loss: 10.4130\n",
      "Epoch 100/100\n",
      "3/3 [==============================] - 0s 20ms/step - loss: 8.8942 - val_loss: 10.3343\n"
     ]
    }
   ],
   "source": [
    "history = model.fit(X_train, y_train, epochs=100,\n",
    "                    validation_data=(X_valid, y_valid))"
   ]
  },
  {
   "cell_type": "code",
   "execution_count": 20,
   "id": "4d550f88",
   "metadata": {},
   "outputs": [
    {
     "name": "stdout",
     "output_type": "stream",
     "text": [
      "Saving figure grid_num_training_curve\n"
     ]
    },
    {
     "data": {
      "image/png": "[encoded data removed]",
      "text/plain": [
       "<Figure size 576x360 with 1 Axes>"
      ]
     },
     "metadata": {
      "needs_background": "light"
     },
     "output_type": "display_data"
    }
   ],
   "source": [
    "import pandas as pd\n",
    "\n",
    "pd.DataFrame(history.history).plot(figsize=(8, 5))\n",
    "plt.grid(True)\n",
    "# plt.gca().set_ylim(0, 1)\n",
    "save_fig(\"grid_num_training_curve\")\n",
    "plt.show()"
   ]
  },
  {
   "cell_type": "code",
   "execution_count": 21,
   "id": "5487653c",
   "metadata": {},
   "outputs": [
    {
     "name": "stdout",
     "output_type": "stream",
     "text": [
      "X.shape = (None, 1)\n",
      "gauss_grid.shape = (None, 5)\n",
      "Saving figure grid_num_prediction\n"
     ]
    },
    {
     "data": {
      "image/png": "[encoded data removed]",
      "text/plain": [
       "<Figure size 432x288 with 1 Axes>"
      ]
     },
     "metadata": {
      "needs_background": "light"
     },
     "output_type": "display_data"
    }
   ],
   "source": [
    "# X_new = np.linspace(-5, 5, 100).reshape(100, 1)\n",
    "# y_new = model.predict(X_new)\n",
    "#\n",
    "plt.plot(X_train, y_train, \"b.\")\n",
    "# plt.plot(X_new, y_new, \"r-\", linewidth=2, label=\"Predictions\")\n",
    "draw_func(model.predict, mark='r-', linewidth=2, label=\"Predictions\")\n",
    "draw_normal_func(func_dict)\n",
    "plt.xlabel(\"$x_1$\", fontsize=18)\n",
    "plt.ylabel(\"$y$\", rotation=0, fontsize=18)\n",
    "plt.legend(loc=\"upper left\", fontsize=14)\n",
    "# plt.axis([-3, 3, 0, 10])\n",
    "save_fig(\"grid_num_prediction\")\n",
    "plt.show()"
   ]
  },
  {
   "cell_type": "code",
   "execution_count": 22,
   "id": "f9c053a4",
   "metadata": {},
   "outputs": [
    {
     "name": "stdout",
     "output_type": "stream",
     "text": [
      "y_func.shape = (100, 1)\n",
      "y_gt.shape = (100, 1)\n"
     ]
    },
    {
     "data": {
      "text/plain": [
       "4.70210664667548"
      ]
     },
     "execution_count": 22,
     "metadata": {},
     "output_type": "execute_result"
    }
   ],
   "source": [
    "get_prediction_error(model.predict, func_dict, name=\"grid-num\")"
   ]
  },
  {
   "cell_type": "markdown",
   "id": "fe65d614",
   "metadata": {},
   "source": [
    "# Grid & Regression by Classification (grid --> grid)"
   ]
  },
  {
   "cell_type": "code",
   "execution_count": 23,
   "id": "3d35615e",
   "metadata": {},
   "outputs": [],
   "source": [
    "class num2grid_np():\n",
    "    def __init__(self, units, x_min=-10, x_max=10, sigma=1.0):\n",
    "        self.units = units\n",
    "        self.x_min = x_min\n",
    "        self.x_max = x_max\n",
    "        self.sigma = sigma\n",
    "        self.sigma2 = self.sigma**2\n",
    "        self.x_grid = np.linspace(self.x_min, self.x_max, self.units, endpoint=True)\n",
    "        print(\"self.x_grid = %s\" % str(self.x_grid))\n",
    "        \n",
    "    def convert(self, X):\n",
    "        gauss_grid = np.exp( -(self.x_grid - X)**2 / (2.0*self.sigma2) )\n",
    "#         if len(gauss_grid.shape) == 1:\n",
    "#             gauss_grid = gauss_grid.reshape([1,-1])\n",
    "#         grid_sum = np.sum(gauss_grid, axis=1, keepdims=True)\n",
    "        grid_sum = np.sum(gauss_grid, axis=-1, keepdims=True)\n",
    "        gauss_grid = gauss_grid / grid_sum\n",
    "        return gauss_grid\n",
    "    \n",
    "    def inv_convert(self, grid):\n",
    "#         if len(grid.shape) == 1:\n",
    "#             grid = grid.reshape([1,-1])\n",
    "#         grid_sum = np.sum(grid, axis=1)\n",
    "        grid_sum = np.sum(grid, axis=-1)\n",
    "#         print(grid_sum)\n",
    "        exp_num = np.sum((self.x_grid * grid), axis=-1) / grid_sum # element-wise\n",
    "        return exp_num\n",
    "    \n",
    "    def get_statistic(self, grid):\n",
    "        grid_sum = np.sum(grid, axis=-1)\n",
    "        _mean = np.sum((self.x_grid * grid), axis=-1) / grid_sum # element-wise\n",
    "        _var  = np.sum( ((self.x_grid.reshape((1,-1)) - _mean.reshape((-1,1)))**2 * grid), axis=-1) / grid_sum # element-wise\n",
    "        # print(\"(_mean, _var) = (%f, %f)\" % (_mean, _var))\n",
    "        _stddev = np.sqrt(_var)\n",
    "        return _mean, _stddev"
   ]
  },
  {
   "cell_type": "code",
   "execution_count": 24,
   "id": "4903180b",
   "metadata": {},
   "outputs": [
    {
     "name": "stdout",
     "output_type": "stream",
     "text": [
      "self.x_grid = [-100.          -95.91836735  -91.83673469  -87.75510204  -83.67346939\n",
      "  -79.59183673  -75.51020408  -71.42857143  -67.34693878  -63.26530612\n",
      "  -59.18367347  -55.10204082  -51.02040816  -46.93877551  -42.85714286\n",
      "  -38.7755102   -34.69387755  -30.6122449   -26.53061224  -22.44897959\n",
      "  -18.36734694  -14.28571429  -10.20408163   -6.12244898   -2.04081633\n",
      "    2.04081633    6.12244898   10.20408163   14.28571429   18.36734694\n",
      "   22.44897959   26.53061224   30.6122449    34.69387755   38.7755102\n",
      "   42.85714286   46.93877551   51.02040816   55.10204082   59.18367347\n",
      "   63.26530612   67.34693878   71.42857143   75.51020408   79.59183673\n",
      "   83.67346939   87.75510204   91.83673469   95.91836735  100.        ]\n"
     ]
    }
   ],
   "source": [
    "# class_num = 10 # 10\n",
    "# n2g = num2grid_np(class_num, x_min=-100.0, x_max=100.0, sigma=20.0) # 20.0\n",
    "# class_num = 20\n",
    "# n2g = num2grid_np(class_num, x_min=-100.0, x_max=100.0, sigma=15.0) # 20.0\n",
    "class_num = 50\n",
    "n2g = num2grid_np(class_num, x_min=-100.0, x_max=100.0, sigma=6.0) # 5.0 "
   ]
  },
  {
   "cell_type": "code",
   "execution_count": 25,
   "id": "dce05258",
   "metadata": {},
   "outputs": [
    {
     "name": "stdout",
     "output_type": "stream",
     "text": [
      "[[3.57995092e-60 2.08100846e-55 7.61538914e-51 1.75441300e-46\n",
      "  2.54444491e-42 2.32314196e-38 1.33530332e-34 4.83176258e-31\n",
      "  1.10065884e-27 1.57841554e-24 1.42498879e-21 8.09884396e-19\n",
      "  2.89771784e-16 6.52695532e-14 9.25521826e-12 8.26198061e-10\n",
      "  4.64304784e-08 1.64264466e-06 3.65852120e-05 5.12966502e-04\n",
      "  4.52786966e-03 2.51605603e-02 8.80173281e-02 1.93837381e-01\n",
      "  2.68737559e-01 2.34552834e-01 1.28876722e-01 4.45789421e-02\n",
      "  9.70748025e-03 1.33077537e-03 1.14848275e-04 6.23972825e-06\n",
      "  2.13416679e-07 4.59528573e-09 6.22899760e-11 5.31551427e-13\n",
      "  2.85557712e-15 9.65748361e-18 2.05615356e-20 2.75593262e-23\n",
      "  2.32542921e-26 1.23526215e-29 4.13082337e-33 8.69632169e-37\n",
      "  1.15254011e-40 9.61607812e-45 5.05081425e-49 1.67011468e-53\n",
      "  3.47658354e-58 4.55596654e-63]]\n"
     ]
    }
   ],
   "source": [
    "# grid_1 = n2g.convert(-1.2)\n",
    "grid_1 = n2g.convert([[-1.2]])\n",
    "print(grid_1)"
   ]
  },
  {
   "cell_type": "code",
   "execution_count": 26,
   "id": "48203fe2",
   "metadata": {},
   "outputs": [
    {
     "data": {
      "text/plain": [
       "array([-1.2])"
      ]
     },
     "execution_count": 26,
     "metadata": {},
     "output_type": "execute_result"
    }
   ],
   "source": [
    "n2g.inv_convert(grid_1)"
   ]
  },
  {
   "cell_type": "code",
   "execution_count": 27,
   "id": "a741b6d1",
   "metadata": {},
   "outputs": [
    {
     "data": {
      "text/plain": [
       "(array([-1.2]), array([6.]))"
      ]
     },
     "execution_count": 27,
     "metadata": {},
     "output_type": "execute_result"
    }
   ],
   "source": [
    "n2g.get_statistic(grid_1)"
   ]
  },
  {
   "cell_type": "markdown",
   "id": "bdc0b9a0",
   "metadata": {},
   "source": [
    "### Convert the labels to grid (pre-processing)"
   ]
  },
  {
   "cell_type": "code",
   "execution_count": 28,
   "id": "39c7fa96",
   "metadata": {},
   "outputs": [],
   "source": [
    "y_train_grid = n2g.convert(y_train)\n",
    "y_valid_grid = n2g.convert(y_valid)"
   ]
  },
  {
   "cell_type": "code",
   "execution_count": 29,
   "id": "f577a751",
   "metadata": {},
   "outputs": [
    {
     "name": "stdout",
     "output_type": "stream",
     "text": [
      "(80, 50)\n",
      "(20, 50)\n"
     ]
    }
   ],
   "source": [
    "print(y_train_grid.shape)\n",
    "print(y_valid_grid.shape)"
   ]
  },
  {
   "cell_type": "code",
   "execution_count": 30,
   "id": "71610af1",
   "metadata": {},
   "outputs": [
    {
     "name": "stdout",
     "output_type": "stream",
     "text": [
      "X.shape = (None, 1)\n",
      "gauss_grid.shape = (None, 5)\n"
     ]
    },
    {
     "name": "stderr",
     "output_type": "stream",
     "text": [
      "C:\\Users\\benso\\anaconda3\\envs\\ml\\lib\\site-packages\\keras\\optimizer_v2\\gradient_descent.py:102: UserWarning: The `lr` argument is deprecated, use `learning_rate` instead.\n",
      "  super(SGD, self).__init__(name, **kwargs)\n"
     ]
    }
   ],
   "source": [
    "model = keras.models.Sequential([\n",
    "#     keras.layers.Dense(30, activation=\"relu\", input_shape=X_train.shape[1:]),\n",
    "    num2grid(5,x_min=-10, x_max=10, sigma=3.0, input_shape=X_train.shape[1:]),\n",
    "    keras.layers.Dense(30, activation=\"relu\"),\n",
    "#     keras.layers.Dense(100, activation=\"relu\", kernel_regularizer=tf.keras.regularizers.l1(0.01)),\n",
    "    keras.layers.Dense(class_num, activation=\"softmax\"),\n",
    "])\n",
    "\n",
    "optimizer = keras.optimizers.SGD(lr=0.2, momentum=0.9)\n",
    "model.compile(loss=\"categorical_crossentropy\", optimizer=optimizer)"
   ]
  },
  {
   "cell_type": "code",
   "execution_count": 31,
   "id": "e2244aee",
   "metadata": {
    "scrolled": true
   },
   "outputs": [
    {
     "name": "stdout",
     "output_type": "stream",
     "text": [
      "Epoch 1/100\n",
      "X.shape = (None, 1)\n",
      "gauss_grid.shape = (None, 5)\n",
      "X.shape = (None, 1)\n",
      "gauss_grid.shape = (None, 5)\n",
      "1/3 [=========>....................] - ETA: 6s - loss: 3.9300X.shape = (None, 1)\n",
      "gauss_grid.shape = (None, 5)\n",
      "3/3 [==============================] - 4s 82ms/step - loss: 3.9258 - val_loss: 3.9251\n",
      "Epoch 2/100\n",
      "3/3 [==============================] - 0s 21ms/step - loss: 3.8808 - val_loss: 3.8785\n",
      "Epoch 3/100\n",
      "3/3 [==============================] - 0s 32ms/step - loss: 3.8127 - val_loss: 3.8291\n",
      "Epoch 4/100\n",
      "3/3 [==============================] - 0s 42ms/step - loss: 3.7328 - val_loss: 3.7822\n",
      "Epoch 5/100\n",
      "3/3 [==============================] - 0s 22ms/step - loss: 3.6446 - val_loss: 3.7352\n",
      "Epoch 6/100\n",
      "3/3 [==============================] - 0s 45ms/step - loss: 3.5330 - val_loss: 3.6882\n",
      "Epoch 7/100\n",
      "3/3 [==============================] - 0s 112ms/step - loss: 3.4243 - val_loss: 3.6098\n",
      "Epoch 8/100\n",
      "3/3 [==============================] - 0s 140ms/step - loss: 3.3264 - val_loss: 3.5277\n",
      "Epoch 9/100\n",
      "3/3 [==============================] - 0s 102ms/step - loss: 3.2372 - val_loss: 3.4295\n",
      "Epoch 10/100\n",
      "3/3 [==============================] - 0s 142ms/step - loss: 3.1652 - val_loss: 3.3096\n",
      "Epoch 11/100\n",
      "3/3 [==============================] - 0s 132ms/step - loss: 3.0970 - val_loss: 3.2036\n",
      "Epoch 12/100\n",
      "3/3 [==============================] - 0s 107ms/step - loss: 3.0422 - val_loss: 3.1370\n",
      "Epoch 13/100\n",
      "3/3 [==============================] - ETA: 0s - loss: 3.007 - 0s 136ms/step - loss: 3.0072 - val_loss: 3.1156\n",
      "Epoch 14/100\n",
      "3/3 [==============================] - 0s 124ms/step - loss: 2.9705 - val_loss: 3.0968\n",
      "Epoch 15/100\n",
      "3/3 [==============================] - 0s 114ms/step - loss: 2.9369 - val_loss: 3.0742\n",
      "Epoch 16/100\n",
      "3/3 [==============================] - 0s 60ms/step - loss: 2.9068 - val_loss: 3.0433\n",
      "Epoch 17/100\n",
      "3/3 [==============================] - 0s 103ms/step - loss: 2.8840 - val_loss: 3.0303\n",
      "Epoch 18/100\n",
      "3/3 [==============================] - 0s 54ms/step - loss: 2.8527 - val_loss: 3.0121\n",
      "Epoch 19/100\n",
      "3/3 [==============================] - 0s 45ms/step - loss: 2.8378 - val_loss: 3.0042\n",
      "Epoch 20/100\n",
      "3/3 [==============================] - 0s 53ms/step - loss: 2.8027 - val_loss: 2.9963\n",
      "Epoch 21/100\n",
      "3/3 [==============================] - 0s 31ms/step - loss: 2.7852 - val_loss: 2.9908\n",
      "Epoch 22/100\n",
      "3/3 [==============================] - 0s 45ms/step - loss: 2.7604 - val_loss: 2.9457\n",
      "Epoch 23/100\n",
      "3/3 [==============================] - 0s 51ms/step - loss: 2.7519 - val_loss: 2.9291\n",
      "Epoch 24/100\n",
      "3/3 [==============================] - 0s 57ms/step - loss: 2.7285 - val_loss: 2.8571\n",
      "Epoch 25/100\n",
      "3/3 [==============================] - 0s 57ms/step - loss: 2.7107 - val_loss: 2.8205\n",
      "Epoch 26/100\n",
      "3/3 [==============================] - 0s 62ms/step - loss: 2.6946 - val_loss: 2.8572\n",
      "Epoch 27/100\n",
      "3/3 [==============================] - 0s 44ms/step - loss: 2.6884 - val_loss: 2.8880\n",
      "Epoch 28/100\n",
      "3/3 [==============================] - 0s 54ms/step - loss: 2.6630 - val_loss: 2.9139\n",
      "Epoch 29/100\n",
      "3/3 [==============================] - 0s 26ms/step - loss: 2.6539 - val_loss: 2.8750\n",
      "Epoch 30/100\n",
      "3/3 [==============================] - 0s 43ms/step - loss: 2.6364 - val_loss: 2.8232\n",
      "Epoch 31/100\n",
      "3/3 [==============================] - 0s 37ms/step - loss: 2.6187 - val_loss: 2.8010\n",
      "Epoch 32/100\n",
      "3/3 [==============================] - 0s 46ms/step - loss: 2.6102 - val_loss: 2.7621\n",
      "Epoch 33/100\n",
      "3/3 [==============================] - 0s 32ms/step - loss: 2.6000 - val_loss: 2.7936\n",
      "Epoch 34/100\n",
      "3/3 [==============================] - 0s 44ms/step - loss: 2.5810 - val_loss: 2.7733\n",
      "Epoch 35/100\n",
      "3/3 [==============================] - 0s 25ms/step - loss: 2.5817 - val_loss: 2.7386\n",
      "Epoch 36/100\n",
      "3/3 [==============================] - 0s 26ms/step - loss: 2.5747 - val_loss: 2.7519\n",
      "Epoch 37/100\n",
      "3/3 [==============================] - 0s 97ms/step - loss: 2.5673 - val_loss: 2.8163\n",
      "Epoch 38/100\n",
      "3/3 [==============================] - ETA: 0s - loss: 2.563 - 0s 149ms/step - loss: 2.5632 - val_loss: 2.7591\n",
      "Epoch 39/100\n",
      "3/3 [==============================] - 0s 109ms/step - loss: 2.5542 - val_loss: 2.7173\n",
      "Epoch 40/100\n",
      "3/3 [==============================] - 0s 87ms/step - loss: 2.5364 - val_loss: 2.7056\n",
      "Epoch 41/100\n",
      "3/3 [==============================] - 0s 120ms/step - loss: 2.5378 - val_loss: 2.7294\n",
      "Epoch 42/100\n",
      "3/3 [==============================] - 0s 81ms/step - loss: 2.5378 - val_loss: 2.6969\n",
      "Epoch 43/100\n",
      "3/3 [==============================] - 0s 106ms/step - loss: 2.5284 - val_loss: 2.7476\n",
      "Epoch 44/100\n",
      "3/3 [==============================] - 0s 102ms/step - loss: 2.5277 - val_loss: 2.6923\n",
      "Epoch 45/100\n",
      "3/3 [==============================] - 0s 73ms/step - loss: 2.5263 - val_loss: 2.6477\n",
      "Epoch 46/100\n",
      "3/3 [==============================] - 0s 23ms/step - loss: 2.5137 - val_loss: 2.6735\n",
      "Epoch 47/100\n",
      "3/3 [==============================] - 0s 18ms/step - loss: 2.5055 - val_loss: 2.7256\n",
      "Epoch 48/100\n",
      "3/3 [==============================] - 0s 22ms/step - loss: 2.5054 - val_loss: 2.6980\n",
      "Epoch 49/100\n",
      "3/3 [==============================] - 0s 23ms/step - loss: 2.5205 - val_loss: 2.6115\n",
      "Epoch 50/100\n",
      "3/3 [==============================] - 0s 16ms/step - loss: 2.4934 - val_loss: 2.7016\n",
      "Epoch 51/100\n",
      "3/3 [==============================] - 0s 19ms/step - loss: 2.4932 - val_loss: 2.7751\n",
      "Epoch 52/100\n",
      "3/3 [==============================] - 0s 18ms/step - loss: 2.4946 - val_loss: 2.7379\n",
      "Epoch 53/100\n",
      "3/3 [==============================] - 0s 19ms/step - loss: 2.4883 - val_loss: 2.6462\n",
      "Epoch 54/100\n",
      "3/3 [==============================] - 0s 21ms/step - loss: 2.4900 - val_loss: 2.6302\n",
      "Epoch 55/100\n",
      "3/3 [==============================] - 0s 22ms/step - loss: 2.4791 - val_loss: 2.6882\n",
      "Epoch 56/100\n",
      "3/3 [==============================] - ETA: 0s - loss: 2.407 - 0s 17ms/step - loss: 2.4743 - val_loss: 2.6578\n",
      "Epoch 57/100\n",
      "3/3 [==============================] - 0s 20ms/step - loss: 2.4752 - val_loss: 2.6536\n",
      "Epoch 58/100\n",
      "3/3 [==============================] - 0s 16ms/step - loss: 2.4578 - val_loss: 2.6711\n",
      "Epoch 59/100\n",
      "3/3 [==============================] - 0s 18ms/step - loss: 2.4597 - val_loss: 2.6560\n",
      "Epoch 60/100\n",
      "3/3 [==============================] - 0s 21ms/step - loss: 2.4604 - val_loss: 2.6454\n",
      "Epoch 61/100\n",
      "3/3 [==============================] - 0s 16ms/step - loss: 2.4488 - val_loss: 2.6624\n",
      "Epoch 62/100\n",
      "3/3 [==============================] - 0s 21ms/step - loss: 2.4486 - val_loss: 2.5918\n",
      "Epoch 63/100\n",
      "3/3 [==============================] - 0s 23ms/step - loss: 2.4439 - val_loss: 2.6007\n",
      "Epoch 64/100\n",
      "3/3 [==============================] - 0s 36ms/step - loss: 2.4421 - val_loss: 2.6390\n",
      "Epoch 65/100\n",
      "3/3 [==============================] - 0s 26ms/step - loss: 2.4441 - val_loss: 2.6812\n",
      "Epoch 66/100\n",
      "3/3 [==============================] - 0s 20ms/step - loss: 2.4409 - val_loss: 2.6224\n",
      "Epoch 67/100\n",
      "3/3 [==============================] - 0s 22ms/step - loss: 2.4386 - val_loss: 2.5846\n",
      "Epoch 68/100\n",
      "3/3 [==============================] - 0s 24ms/step - loss: 2.4457 - val_loss: 2.5714\n",
      "Epoch 69/100\n",
      "3/3 [==============================] - 0s 25ms/step - loss: 2.4352 - val_loss: 2.6050\n",
      "Epoch 70/100\n",
      "3/3 [==============================] - 0s 20ms/step - loss: 2.4456 - val_loss: 2.6472\n",
      "Epoch 71/100\n",
      "3/3 [==============================] - 0s 17ms/step - loss: 2.4536 - val_loss: 2.6651\n",
      "Epoch 72/100\n",
      "3/3 [==============================] - 0s 21ms/step - loss: 2.4510 - val_loss: 2.6637\n",
      "Epoch 73/100\n",
      "3/3 [==============================] - 0s 24ms/step - loss: 2.4263 - val_loss: 2.5877\n",
      "Epoch 74/100\n",
      "3/3 [==============================] - 0s 24ms/step - loss: 2.4398 - val_loss: 2.5592\n",
      "Epoch 75/100\n",
      "3/3 [==============================] - 0s 20ms/step - loss: 2.4400 - val_loss: 2.5563\n",
      "Epoch 76/100\n",
      "3/3 [==============================] - 0s 22ms/step - loss: 2.4223 - val_loss: 2.6607\n",
      "Epoch 77/100\n",
      "3/3 [==============================] - 0s 19ms/step - loss: 2.4460 - val_loss: 2.6440\n",
      "Epoch 78/100\n",
      "3/3 [==============================] - 0s 26ms/step - loss: 2.4214 - val_loss: 2.5673\n",
      "Epoch 79/100\n",
      "3/3 [==============================] - 0s 19ms/step - loss: 2.4239 - val_loss: 2.5781\n",
      "Epoch 80/100\n",
      "3/3 [==============================] - 0s 28ms/step - loss: 2.4138 - val_loss: 2.6549\n"
     ]
    },
    {
     "name": "stdout",
     "output_type": "stream",
     "text": [
      "Epoch 81/100\n",
      "3/3 [==============================] - 0s 22ms/step - loss: 2.4200 - val_loss: 2.6157\n",
      "Epoch 82/100\n",
      "3/3 [==============================] - 0s 21ms/step - loss: 2.4042 - val_loss: 2.5449\n",
      "Epoch 83/100\n",
      "3/3 [==============================] - 0s 22ms/step - loss: 2.4157 - val_loss: 2.5383\n",
      "Epoch 84/100\n",
      "3/3 [==============================] - 0s 22ms/step - loss: 2.4041 - val_loss: 2.5876\n",
      "Epoch 85/100\n",
      "3/3 [==============================] - 0s 21ms/step - loss: 2.4121 - val_loss: 2.6089\n",
      "Epoch 86/100\n",
      "3/3 [==============================] - 0s 19ms/step - loss: 2.4052 - val_loss: 2.6291\n",
      "Epoch 87/100\n",
      "3/3 [==============================] - 0s 22ms/step - loss: 2.4012 - val_loss: 2.5740\n",
      "Epoch 88/100\n",
      "3/3 [==============================] - 0s 18ms/step - loss: 2.3957 - val_loss: 2.5287\n",
      "Epoch 89/100\n",
      "3/3 [==============================] - 0s 14ms/step - loss: 2.3936 - val_loss: 2.6008\n",
      "Epoch 90/100\n",
      "3/3 [==============================] - 0s 19ms/step - loss: 2.3935 - val_loss: 2.6185\n",
      "Epoch 91/100\n",
      "3/3 [==============================] - 0s 18ms/step - loss: 2.3924 - val_loss: 2.5604\n",
      "Epoch 92/100\n",
      "3/3 [==============================] - 0s 41ms/step - loss: 2.3972 - val_loss: 2.5330\n",
      "Epoch 93/100\n",
      "3/3 [==============================] - 0s 36ms/step - loss: 2.3969 - val_loss: 2.5625\n",
      "Epoch 94/100\n",
      "3/3 [==============================] - 0s 45ms/step - loss: 2.3878 - val_loss: 2.6573\n",
      "Epoch 95/100\n",
      "3/3 [==============================] - 0s 99ms/step - loss: 2.4151 - val_loss: 2.6603\n",
      "Epoch 96/100\n",
      "3/3 [==============================] - 0s 42ms/step - loss: 2.3941 - val_loss: 2.5798\n",
      "Epoch 97/100\n",
      "3/3 [==============================] - 0s 35ms/step - loss: 2.4004 - val_loss: 2.5374\n",
      "Epoch 98/100\n",
      "3/3 [==============================] - 0s 38ms/step - loss: 2.4001 - val_loss: 2.5479\n",
      "Epoch 99/100\n",
      "3/3 [==============================] - 0s 32ms/step - loss: 2.3753 - val_loss: 2.6404\n",
      "Epoch 100/100\n",
      "3/3 [==============================] - 0s 20ms/step - loss: 2.3900 - val_loss: 2.6178\n"
     ]
    }
   ],
   "source": [
    "history = model.fit(X_train, y_train_grid, epochs=100,\n",
    "                    validation_data=(X_valid, y_valid_grid))"
   ]
  },
  {
   "cell_type": "code",
   "execution_count": 32,
   "id": "390834c9",
   "metadata": {},
   "outputs": [
    {
     "name": "stdout",
     "output_type": "stream",
     "text": [
      "Saving figure grid_rbc_training_curve\n"
     ]
    },
    {
     "data": {
      "image/png": "[encoded data removed]",
      "text/plain": [
       "<Figure size 576x360 with 1 Axes>"
      ]
     },
     "metadata": {
      "needs_background": "light"
     },
     "output_type": "display_data"
    }
   ],
   "source": [
    "import pandas as pd\n",
    "\n",
    "pd.DataFrame(history.history).plot(figsize=(8, 5))\n",
    "plt.grid(True)\n",
    "# plt.gca().set_ylim(0, 1)\n",
    "save_fig(\"grid_rbc_training_curve\")\n",
    "plt.show()"
   ]
  },
  {
   "cell_type": "code",
   "execution_count": 33,
   "id": "6fba3b6a",
   "metadata": {},
   "outputs": [
    {
     "name": "stdout",
     "output_type": "stream",
     "text": [
      "X.shape = (None, 1)\n",
      "gauss_grid.shape = (None, 5)\n",
      "Saving figure grid_rbc_prediction\n"
     ]
    },
    {
     "data": {
      "image/png": "[encoded data removed]",
      "text/plain": [
       "<Figure size 432x288 with 1 Axes>"
      ]
     },
     "metadata": {
      "needs_background": "light"
     },
     "output_type": "display_data"
    }
   ],
   "source": [
    "# X_new = np.linspace(-5, 5, 100).reshape(100, 1)\n",
    "# y_new_proba = model.predict(X_new)\n",
    "# y_new = n2g.inv_convert(y_new_proba)\n",
    "#\n",
    "plt.plot(X_train, y_train, \"b.\")\n",
    "# plt.plot(X_new, y_new, \"r-\", linewidth=2, label=\"Predictions\")\n",
    "draw_func((lambda X: n2g.inv_convert(model.predict(X)) ), mark='r-', linewidth=2, label=\"Predictions\")\n",
    "draw_normal_func(func_dict)\n",
    "plt.xlabel(\"$x_1$\", fontsize=18)\n",
    "plt.ylabel(\"$y$\", rotation=0, fontsize=18)\n",
    "plt.legend(loc=\"upper left\", fontsize=14)\n",
    "# plt.axis([-3, 3, 0, 10])\n",
    "save_fig(\"grid_rbc_prediction\")\n",
    "plt.show()"
   ]
  },
  {
   "cell_type": "code",
   "execution_count": 34,
   "id": "fc059ba5",
   "metadata": {},
   "outputs": [
    {
     "name": "stdout",
     "output_type": "stream",
     "text": [
      "y_func.shape = (100, 1)\n",
      "y_gt.shape = (100, 1)\n"
     ]
    },
    {
     "data": {
      "text/plain": [
       "3.1676530204609357"
      ]
     },
     "execution_count": 34,
     "metadata": {},
     "output_type": "execute_result"
    }
   ],
   "source": [
    "get_prediction_error((lambda X: n2g.inv_convert(model.predict(X)) ), func_dict, name=\"grid-rbc\")"
   ]
  },
  {
   "cell_type": "code",
   "execution_count": 35,
   "id": "edcf26db",
   "metadata": {},
   "outputs": [
    {
     "name": "stdout",
     "output_type": "stream",
     "text": [
      "Saving figure grid_rbc_proba\n"
     ]
    },
    {
     "data": {
      "image/png": "[encoded data removed]",
      "text/plain": [
       "<Figure size 432x288 with 1 Axes>"
      ]
     },
     "metadata": {
      "needs_background": "light"
     },
     "output_type": "display_data"
    }
   ],
   "source": [
    "X_new = np.linspace(-5, 5, 100).reshape(100, 1)\n",
    "y_new_proba = model.predict(X_new)\n",
    "# y_new = n2g.inv_convert(y_new_proba)\n",
    "#\n",
    "xv, yv = np.meshgrid(X_new, np.linspace(n2g.x_min, n2g.x_max, n2g.units))\n",
    "# print(xv)\n",
    "# print(yv)\n",
    "plt.pcolormesh(xv, yv, y_new_proba.T, shading=\"nearest\")\n",
    "save_fig(\"grid_rbc_proba\")"
   ]
  },
  {
   "cell_type": "markdown",
   "id": "4064d3b5",
   "metadata": {},
   "source": [
    "### Draw the 1-sigma boundary line"
   ]
  },
  {
   "cell_type": "code",
   "execution_count": 36,
   "id": "247e8712",
   "metadata": {},
   "outputs": [
    {
     "name": "stdout",
     "output_type": "stream",
     "text": [
      "Saving figure grid_rbc_prediction_1sigma\n"
     ]
    },
    {
     "data": {
      "image/png": "[encoded data removed]",
      "text/plain": [
       "<Figure size 432x288 with 1 Axes>"
      ]
     },
     "metadata": {
      "needs_background": "light"
     },
     "output_type": "display_data"
    }
   ],
   "source": [
    "def n_sigma_boundary_line(X, n):\n",
    "    _mean, _sigma = n2g.get_statistic(model.predict(X))\n",
    "    return( _mean + n*_sigma)\n",
    "\n",
    "plt.plot(X_train, y_train, \"b.\")\n",
    "#\n",
    "draw_func((lambda X: n2g.inv_convert(model.predict(X)) ), mark='r-', linewidth=2, label=\"Predictions\")\n",
    "draw_func((lambda X: n_sigma_boundary_line(X, +1.0) ), mark='k--', linewidth=1, label=\"$\\mu+\\sigma$\")\n",
    "draw_func((lambda X: n_sigma_boundary_line(X, -1.0) ), mark='k--', linewidth=1, label=\"$\\mu-\\sigma$\")\n",
    "#\n",
    "draw_normal_func(func_dict)\n",
    "plt.xlabel(\"$x_1$\", fontsize=18)\n",
    "plt.ylabel(\"$y$\", rotation=0, fontsize=18)\n",
    "plt.legend(loc=\"upper left\", fontsize=14)\n",
    "# plt.axis([-3, 3, 0, 10])\n",
    "save_fig(\"grid_rbc_prediction_1sigma\")\n",
    "plt.show()"
   ]
  },
  {
   "cell_type": "code",
   "execution_count": null,
   "id": "e6266336",
   "metadata": {},
   "outputs": [],
   "source": []
  },
  {
   "cell_type": "markdown",
   "id": "99a85ab5",
   "metadata": {},
   "source": [
    "# Grid & Regression by Classification + Offset Estimation (grid --> grid,num)"
   ]
  },
  {
   "cell_type": "code",
   "execution_count": 37,
   "id": "26440167",
   "metadata": {},
   "outputs": [],
   "source": [
    "class num2gridOffset_np():\n",
    "    def __init__(self, units, x_min=-10, x_max=10):\n",
    "        self.units = units\n",
    "        self.x_min = x_min\n",
    "        self.x_max = x_max\n",
    "        self.x_grid = np.linspace(self.x_min, self.x_max, self.units, endpoint=True)\n",
    "        # bins\n",
    "        x_space = np.average(self.x_grid[1:] - self.x_grid[:-1])\n",
    "        print(\"x_space = %f\" % x_space)\n",
    "        x_0 = self.x_grid[0] - 0.5 * x_space\n",
    "        self.x_bins = [x_0 + _i*x_space for _i in range(len(self.x_grid)+1)]\n",
    "        print(\"self.x_grid = %s\" % str(self.x_grid))\n",
    "#         print(\"self.x_bins = %s\" % str(self.x_bins))\n",
    "        \n",
    "    def convert(self, X):\n",
    "        '''\n",
    "        Convert a batch of number to one-hot class and numerical offset to each grid's center\n",
    "        (m, 1) --> (m, n_units, 2)\n",
    "        '''\n",
    "        X = np.array(X)\n",
    "        if len(X.shape) <= 1:\n",
    "            X = X.reshape((-1,1))\n",
    "        idxs_bin = np.digitize(X, self.x_bins, right=False) \n",
    "        idxs_grid = (idxs_bin - 1) + 1*(idxs_bin<= 0) - 1*(idxs_bin>=self.units)\n",
    "        print(idxs_grid.shape)\n",
    "        #\n",
    "        batch_size = X.shape[0]\n",
    "        grid = np.zeros((batch_size, self.units, 2))\n",
    "        # Fill in the values\n",
    "        grid[np.arange(batch_size), idxs_grid.reshape((-1,)), 0] = 1.0\n",
    "        grid[np.arange(batch_size), :, 1] = X - self.x_grid.reshape((1,-1)) # Offset\n",
    "        return grid\n",
    "    \n",
    "    def inv_convert(self, grid):\n",
    "        idxs_grid = np.argmax(grid[...,0], axis=1)\n",
    "        print(idxs_grid.shape)\n",
    "        #\n",
    "        batch_size = grid.shape[0]\n",
    "        offset_est = grid[np.arange(batch_size),idxs_grid,1]\n",
    "        print(offset_est.shape)\n",
    "        num_est = self.x_grid[idxs_grid].reshape((1,-1)) + offset_est\n",
    "        return num_est.reshape((-1,))"
   ]
  },
  {
   "cell_type": "code",
   "execution_count": 38,
   "id": "8b15e9ff",
   "metadata": {},
   "outputs": [
    {
     "name": "stdout",
     "output_type": "stream",
     "text": [
      "x_space = 22.222222\n",
      "self.x_grid = [-100.          -77.77777778  -55.55555556  -33.33333333  -11.11111111\n",
      "   11.11111111   33.33333333   55.55555556   77.77777778  100.        ]\n"
     ]
    }
   ],
   "source": [
    "class_num = 10 # 10\n",
    "n2go = num2gridOffset_np(class_num, x_min=-100.0, x_max=100.0) "
   ]
  },
  {
   "cell_type": "code",
   "execution_count": 39,
   "id": "8f6e7955",
   "metadata": {},
   "outputs": [
    {
     "name": "stdout",
     "output_type": "stream",
     "text": [
      "(2, 1)\n",
      "[[[   0.           98.8       ]\n",
      "  [   0.           76.57777778]\n",
      "  [   0.           54.35555556]\n",
      "  [   0.           32.13333333]\n",
      "  [   1.            9.91111111]\n",
      "  [   0.          -12.31111111]\n",
      "  [   0.          -34.53333333]\n",
      "  [   0.          -56.75555556]\n",
      "  [   0.          -78.97777778]\n",
      "  [   0.         -101.2       ]]\n",
      "\n",
      " [[   0.          150.5       ]\n",
      "  [   0.          128.27777778]\n",
      "  [   0.          106.05555556]\n",
      "  [   0.           83.83333333]\n",
      "  [   0.           61.61111111]\n",
      "  [   0.           39.38888889]\n",
      "  [   0.           17.16666667]\n",
      "  [   1.           -5.05555556]\n",
      "  [   0.          -27.27777778]\n",
      "  [   0.          -49.5       ]]]\n"
     ]
    }
   ],
   "source": [
    "# grid_1 = n2g.convert(-1.2)\n",
    "grid_1 = n2go.convert([[-1.2], [50.5]])\n",
    "print(grid_1)"
   ]
  },
  {
   "cell_type": "code",
   "execution_count": 40,
   "id": "48840dc5",
   "metadata": {},
   "outputs": [
    {
     "name": "stdout",
     "output_type": "stream",
     "text": [
      "(2,)\n",
      "(2,)\n"
     ]
    },
    {
     "data": {
      "text/plain": [
       "array([-1.2, 50.5])"
      ]
     },
     "execution_count": 40,
     "metadata": {},
     "output_type": "execute_result"
    }
   ],
   "source": [
    "n2go.inv_convert(grid_1)"
   ]
  },
  {
   "cell_type": "markdown",
   "id": "11683cea",
   "metadata": {},
   "source": [
    "### Convert the labels to grid (pre-processing)"
   ]
  },
  {
   "cell_type": "code",
   "execution_count": 41,
   "id": "472997cf",
   "metadata": {},
   "outputs": [
    {
     "name": "stdout",
     "output_type": "stream",
     "text": [
      "(80, 1)\n",
      "(20, 1)\n"
     ]
    }
   ],
   "source": [
    "y_train_grid_offset = n2go.convert(y_train)\n",
    "y_valid_grid_offset = n2go.convert(y_valid)"
   ]
  },
  {
   "cell_type": "code",
   "execution_count": 42,
   "id": "71f08d76",
   "metadata": {},
   "outputs": [
    {
     "name": "stdout",
     "output_type": "stream",
     "text": [
      "(80, 10, 2)\n",
      "(20, 10, 2)\n"
     ]
    }
   ],
   "source": [
    "print(y_train_grid_offset.shape)\n",
    "print(y_valid_grid_offset.shape)"
   ]
  },
  {
   "cell_type": "code",
   "execution_count": 43,
   "id": "84b5b833",
   "metadata": {},
   "outputs": [
    {
     "name": "stdout",
     "output_type": "stream",
     "text": [
      "X.shape = (None, 1)\n",
      "gauss_grid.shape = (None, 5)\n"
     ]
    }
   ],
   "source": [
    "inputs = keras.layers.Input(shape=X_train.shape[1:])\n",
    "#\n",
    "z = num2grid(5,x_min=-10, x_max=10, sigma=3.0)(inputs)\n",
    "z = keras.layers.Dense(30, activation=\"selu\")(z)\n",
    "# Outputs\n",
    "z_proba = keras.layers.Dense(30, activation=\"relu\")(z)\n",
    "z_proba  = keras.layers.Dense(class_num, activation=\"softmax\")(z_proba)\n",
    "z_offset = keras.layers.Dense(class_num, activation=\"relu\")(z)\n",
    "z_offset = keras.layers.Dense(class_num)(z_offset)\n",
    "# Concatenate\n",
    "z_proba  = keras.layers.Reshape([class_num,1])(z_proba)\n",
    "z_offset = keras.layers.Reshape([class_num,1])(z_offset)\n",
    "out_cat = keras.layers.Concatenate(axis=-1)([z_proba, z_offset])\n",
    "#\n",
    "# Models for trainig and real usage\n",
    "model = keras.Model(inputs=[inputs], outputs=[out_cat])"
   ]
  },
  {
   "cell_type": "code",
   "execution_count": 44,
   "id": "e6482574",
   "metadata": {},
   "outputs": [],
   "source": [
    "# Customized loss function\n",
    "\n",
    "cce = keras.losses.CategoricalCrossentropy(reduction=keras.losses.Reduction.NONE)\n",
    "# cce(y_true, y_pred).numpy()\n",
    "\n",
    "def centerLoss_fn(y_true, y_pred):\n",
    "    #\n",
    "    y_true_proba = y_true[...,0]\n",
    "    y_true_value = y_true[...,1]\n",
    "    #\n",
    "    y_pred_proba = y_pred[...,0]\n",
    "    y_pred_value = y_pred[...,1]\n",
    "    \n",
    "    #\n",
    "    cce_loss = cce(y_true_proba, y_pred_proba) / class_num\n",
    "    #\n",
    "    y_true_value_est = tf.reduce_sum((y_true_proba * y_true_value), axis=-1)\n",
    "    y_pred_value_est = tf.reduce_sum((y_true_proba * y_pred_value), axis=-1)\n",
    "#     y_pred_value_est = tf.reduce_sum((y_pred_proba * y_pred_value), axis=-1)\n",
    "    value_loss = tf.abs(y_pred_value_est - y_true_value_est)\n",
    "    \n",
    "    # Total loss\n",
    "#     return (0.5*cce_loss + 0.5*value_loss )\n",
    "    return (0.2*cce_loss + 0.8*value_loss )\n",
    "#     return (cce_loss)\n",
    "#     return (value_loss )"
   ]
  },
  {
   "cell_type": "code",
   "execution_count": 45,
   "id": "60575755",
   "metadata": {},
   "outputs": [
    {
     "name": "stderr",
     "output_type": "stream",
     "text": [
      "C:\\Users\\benso\\anaconda3\\envs\\ml\\lib\\site-packages\\keras\\optimizer_v2\\adam.py:105: UserWarning: The `lr` argument is deprecated, use `learning_rate` instead.\n",
      "  super(Adam, self).__init__(name, **kwargs)\n"
     ]
    }
   ],
   "source": [
    "# optimizer = keras.optimizers.SGD(lr=0.1, momentum=0.9)\n",
    "optimizer = keras.optimizers.Adam(lr=0.05)\n",
    "model.compile(loss=centerLoss_fn, optimizer=optimizer)"
   ]
  },
  {
   "cell_type": "code",
   "execution_count": 46,
   "id": "09bc47a5",
   "metadata": {
    "scrolled": true
   },
   "outputs": [],
   "source": [
    "# history = model.fit(X_train, y_train_grid_offset, epochs=100,\n",
    "#                     validation_data=(X_valid, y_valid_grid_offset))"
   ]
  },
  {
   "cell_type": "code",
   "execution_count": 47,
   "id": "7ba1fe76",
   "metadata": {},
   "outputs": [],
   "source": [
    "# import pandas as pd\n",
    "\n",
    "# pd.DataFrame(history.history).plot(figsize=(8, 5))\n",
    "# plt.grid(True)\n",
    "# # plt.gca().set_ylim(0, 1)\n",
    "# save_fig(\"grid_rbcOffset_training_curve\")\n",
    "# plt.show()"
   ]
  },
  {
   "cell_type": "code",
   "execution_count": 48,
   "id": "47db8336",
   "metadata": {
    "scrolled": false
   },
   "outputs": [],
   "source": [
    "# plt.plot(X_train, y_train, \"b.\")\n",
    "# draw_func((lambda X: n2go.inv_convert(model.predict(X)) ), mark='r-', linewidth=2, label=\"Predictions\")\n",
    "# draw_normal_func(func_dict)\n",
    "# plt.xlabel(\"$x_1$\", fontsize=18)\n",
    "# plt.ylabel(\"$y$\", rotation=0, fontsize=18)\n",
    "# plt.legend(loc=\"upper left\", fontsize=14)\n",
    "# # plt.axis([-3, 3, 0, 10])\n",
    "# save_fig(\"grid_rbcOffset_prediction\")\n",
    "# plt.show()"
   ]
  },
  {
   "cell_type": "code",
   "execution_count": 49,
   "id": "46a1a384",
   "metadata": {},
   "outputs": [],
   "source": [
    "# get_prediction_error((lambda X: n2go.inv_convert(model.predict(X)) ), func_dict, name=\"grid-classOffset\")"
   ]
  },
  {
   "cell_type": "code",
   "execution_count": null,
   "id": "fff995a6",
   "metadata": {},
   "outputs": [],
   "source": []
  },
  {
   "cell_type": "markdown",
   "id": "a811f344",
   "metadata": {},
   "source": [
    "# Parametric Uncertainty/Distribution Estimation\n",
    "\n",
    "In this section, we try to estimate uncertainty (actually, fit the dataset distribution) with parametric reprecentation of a distribution instead of a discretized non-parametric representation.\n",
    "\n",
    "Possible solution includes\n",
    "- Quantile estimation with pinball loss (statistic)\n",
    "- Guassian distribution (fit a prabability distribution)"
   ]
  },
  {
   "cell_type": "markdown",
   "id": "175eb32d",
   "metadata": {},
   "source": [
    "## Quantile Estimation with Pinball Loss (grid --> parameters)\n",
    "\n",
    "Quantile estimation and pinball loss is based on the concept of statistic, which predict the value based on the rank of samples in the dataset.\n",
    "\n",
    "The outputs of the model are $(y_{10}, y_{90})$, 10% quantile prediction and 90% quantile prediction, respectively."
   ]
  },
  {
   "cell_type": "code",
   "execution_count": 50,
   "id": "1d1ef92d",
   "metadata": {},
   "outputs": [],
   "source": [
    "# quantile_list = [0.5]\n",
    "# quantile_list = [0.9]\n",
    "quantile_list = [0.1, 0.9] # Use hidden layer with 30 neurons\n",
    "# quantile_list = [0.05, 0.95]\n",
    "# quantile_list = [0.25, 0.75]\n",
    "# quantile_list = [0.1, 0.5, 0.9]\n",
    "# quantile_list = [0.1, 0.3, 0.7, 0.9]\n",
    "# quantile_list = [0.1, 0.2, 0.3, 0.4, 0.6, 0.7, 0.8, 0.9] # remove 0.5\n",
    "# quantile_list = [0.1, 0.2, 0.3, 0.4, 0.5, 0.6, 0.7, 0.8, 0.9] # Should use wider hidden layer (with many neurons) + L1 regularization\n",
    "num_quantile = len(quantile_list)"
   ]
  },
  {
   "cell_type": "code",
   "execution_count": 51,
   "id": "8e3fe57b",
   "metadata": {},
   "outputs": [
    {
     "name": "stdout",
     "output_type": "stream",
     "text": [
      "X.shape = (None, 1)\n",
      "gauss_grid.shape = (None, 5)\n"
     ]
    }
   ],
   "source": [
    "model = keras.models.Sequential([\n",
    "    num2grid(5,x_min=-10, x_max=10, sigma=3.0, input_shape=X_train.shape[1:]),\n",
    "#     num2grid(50,x_min=-10, x_max=10, sigma=0.5, input_shape=X_train.shape[1:]),\n",
    "    keras.layers.Dense(30, activation=\"relu\"),\n",
    "#     keras.layers.Dense(60, activation=\"relu\"),\n",
    "#     keras.layers.Dense(100, activation=\"relu\", kernel_regularizer=tf.keras.regularizers.l1(0.01)),\n",
    "#     keras.layers.Dense(30, activation=keras.layers.LeakyReLU(alpha=0.2) ),\n",
    "#     keras.layers.Dense(30, activation=\"selu\"),\n",
    "    keras.layers.Dense(num_quantile) # (y10, y90)\n",
    "])"
   ]
  },
  {
   "cell_type": "code",
   "execution_count": 52,
   "id": "bf131dc7",
   "metadata": {},
   "outputs": [],
   "source": [
    "# Customized loss function\n",
    "def pinballLoss_fn(y_true, y_pred, tau):\n",
    "    # tau: quantile, tau in [0.0, 1.0]\n",
    "    # y_true: label mean\n",
    "    # y_pred: predicted tau quantile\n",
    "    _q = y_true - y_pred\n",
    "    return tf.math.maximum( (tau*_q), ((tau-1.0)*_q))\n",
    "    \n",
    "def pinballLoss_10_90_fn(y_true, y_pred):\n",
    "    #\n",
    "    return pinballLoss_fn(y_true, y_pred[:,0:1], 0.1) + pinballLoss_fn(y_true, y_pred[:,1:2], 0.9)\n",
    "\n",
    "def pinballLoss_full_fn(y_true, y_pred):\n",
    "    #\n",
    "    pinball_losses = tf.stack( [pinballLoss_fn(y_true, y_pred[:, _i:(_i+1)], _tau) for _i, _tau in enumerate(quantile_list)], axis=1)\n",
    "    return tf.reduce_sum(pinball_losses, axis=1)"
   ]
  },
  {
   "cell_type": "code",
   "execution_count": 53,
   "id": "a71305d5",
   "metadata": {},
   "outputs": [],
   "source": [
    "# optimizer = keras.optimizers.SGD(lr=0.1, momentum=0.9)\n",
    "optimizer = keras.optimizers.Adam(lr=0.1)\n",
    "# model.compile(loss=pinballLoss_10_90_fn, optimizer=optimizer)\n",
    "model.compile(loss=pinballLoss_full_fn, optimizer=optimizer)"
   ]
  },
  {
   "cell_type": "code",
   "execution_count": 54,
   "id": "d935c409",
   "metadata": {
    "scrolled": true
   },
   "outputs": [
    {
     "name": "stdout",
     "output_type": "stream",
     "text": [
      "Epoch 1/100\n",
      "X.shape = (None, 1)\n",
      "gauss_grid.shape = (None, 5)\n",
      "X.shape = (None, 1)\n",
      "gauss_grid.shape = (None, 5)\n",
      "1/3 [=========>....................] - ETA: 1s - loss: 39.3872X.shape = (None, 1)\n",
      "gauss_grid.shape = (None, 5)\n",
      "3/3 [==============================] - 1s 103ms/step - loss: 40.9570 - val_loss: 31.2852\n",
      "Epoch 2/100\n",
      "3/3 [==============================] - 0s 29ms/step - loss: 35.9927 - val_loss: 25.6933\n",
      "Epoch 3/100\n",
      "3/3 [==============================] - 0s 33ms/step - loss: 27.2368 - val_loss: 17.6776\n",
      "Epoch 4/100\n",
      "3/3 [==============================] - 0s 41ms/step - loss: 18.4011 - val_loss: 11.6025\n",
      "Epoch 5/100\n",
      "3/3 [==============================] - 0s 25ms/step - loss: 13.3939 - val_loss: 11.7568\n",
      "Epoch 6/100\n",
      "3/3 [==============================] - 0s 37ms/step - loss: 13.3178 - val_loss: 12.8045\n",
      "Epoch 7/100\n",
      "3/3 [==============================] - 0s 32ms/step - loss: 13.9524 - val_loss: 12.5255\n",
      "Epoch 8/100\n",
      "3/3 [==============================] - 0s 29ms/step - loss: 13.2670 - val_loss: 11.2360\n",
      "Epoch 9/100\n",
      "3/3 [==============================] - 0s 41ms/step - loss: 11.7531 - val_loss: 9.6545\n",
      "Epoch 10/100\n",
      "3/3 [==============================] - 0s 24ms/step - loss: 9.8368 - val_loss: 8.0975\n",
      "Epoch 11/100\n",
      "3/3 [==============================] - 0s 22ms/step - loss: 8.5340 - val_loss: 6.8019\n",
      "Epoch 12/100\n",
      "3/3 [==============================] - 0s 22ms/step - loss: 8.2498 - val_loss: 6.3038\n",
      "Epoch 13/100\n",
      "3/3 [==============================] - 0s 22ms/step - loss: 7.8819 - val_loss: 6.5008\n",
      "Epoch 14/100\n",
      "3/3 [==============================] - 0s 21ms/step - loss: 7.7009 - val_loss: 6.4820\n",
      "Epoch 15/100\n",
      "3/3 [==============================] - 0s 22ms/step - loss: 7.0214 - val_loss: 6.1942\n",
      "Epoch 16/100\n",
      "3/3 [==============================] - 0s 23ms/step - loss: 6.4753 - val_loss: 6.3135\n",
      "Epoch 17/100\n",
      "3/3 [==============================] - 0s 20ms/step - loss: 6.4860 - val_loss: 5.9673\n",
      "Epoch 18/100\n",
      "3/3 [==============================] - 0s 16ms/step - loss: 6.1355 - val_loss: 5.4661\n",
      "Epoch 19/100\n",
      "3/3 [==============================] - 0s 22ms/step - loss: 5.5026 - val_loss: 4.8628\n",
      "Epoch 20/100\n",
      "3/3 [==============================] - 0s 19ms/step - loss: 5.2988 - val_loss: 5.2518\n",
      "Epoch 21/100\n",
      "3/3 [==============================] - 0s 25ms/step - loss: 5.5788 - val_loss: 4.9047\n",
      "Epoch 22/100\n",
      "3/3 [==============================] - 0s 14ms/step - loss: 5.0985 - val_loss: 4.3098\n",
      "Epoch 23/100\n",
      "3/3 [==============================] - 0s 22ms/step - loss: 5.1982 - val_loss: 4.0808\n",
      "Epoch 24/100\n",
      "3/3 [==============================] - 0s 17ms/step - loss: 4.8718 - val_loss: 4.4484\n",
      "Epoch 25/100\n",
      "3/3 [==============================] - 0s 22ms/step - loss: 4.7065 - val_loss: 4.6173\n",
      "Epoch 26/100\n",
      "3/3 [==============================] - 0s 21ms/step - loss: 4.6629 - val_loss: 4.1623\n",
      "Epoch 27/100\n",
      "3/3 [==============================] - 0s 21ms/step - loss: 4.4009 - val_loss: 3.8860\n",
      "Epoch 28/100\n",
      "3/3 [==============================] - 0s 18ms/step - loss: 4.3137 - val_loss: 3.9472\n",
      "Epoch 29/100\n",
      "3/3 [==============================] - 0s 18ms/step - loss: 4.1892 - val_loss: 3.7368\n",
      "Epoch 30/100\n",
      "3/3 [==============================] - 0s 18ms/step - loss: 3.9534 - val_loss: 4.0007\n",
      "Epoch 31/100\n",
      "3/3 [==============================] - 0s 17ms/step - loss: 4.0096 - val_loss: 4.0914\n",
      "Epoch 32/100\n",
      "3/3 [==============================] - 0s 19ms/step - loss: 3.8563 - val_loss: 3.5950\n",
      "Epoch 33/100\n",
      "3/3 [==============================] - 0s 17ms/step - loss: 3.6265 - val_loss: 3.3017\n",
      "Epoch 34/100\n",
      "3/3 [==============================] - 0s 19ms/step - loss: 3.5369 - val_loss: 3.4386\n",
      "Epoch 35/100\n",
      "3/3 [==============================] - 0s 18ms/step - loss: 3.4239 - val_loss: 3.1604\n",
      "Epoch 36/100\n",
      "3/3 [==============================] - 0s 22ms/step - loss: 3.5005 - val_loss: 3.2879\n",
      "Epoch 37/100\n",
      "3/3 [==============================] - 0s 24ms/step - loss: 3.2959 - val_loss: 3.6026\n",
      "Epoch 38/100\n",
      "3/3 [==============================] - 0s 20ms/step - loss: 3.3405 - val_loss: 3.2763\n",
      "Epoch 39/100\n",
      "3/3 [==============================] - 0s 20ms/step - loss: 3.2071 - val_loss: 3.1243\n",
      "Epoch 40/100\n",
      "3/3 [==============================] - 0s 19ms/step - loss: 3.0797 - val_loss: 2.9703\n",
      "Epoch 41/100\n",
      "3/3 [==============================] - 0s 22ms/step - loss: 2.9928 - val_loss: 2.9149\n",
      "Epoch 42/100\n",
      "3/3 [==============================] - 0s 22ms/step - loss: 2.9871 - val_loss: 2.9460\n",
      "Epoch 43/100\n",
      "3/3 [==============================] - 0s 22ms/step - loss: 2.8858 - val_loss: 3.0412\n",
      "Epoch 44/100\n",
      "3/3 [==============================] - 0s 21ms/step - loss: 2.8189 - val_loss: 2.8305\n",
      "Epoch 45/100\n",
      "3/3 [==============================] - 0s 23ms/step - loss: 2.8039 - val_loss: 2.7638\n",
      "Epoch 46/100\n",
      "3/3 [==============================] - 0s 20ms/step - loss: 2.8754 - val_loss: 2.6999\n",
      "Epoch 47/100\n",
      "3/3 [==============================] - 0s 21ms/step - loss: 2.7170 - val_loss: 2.7551\n",
      "Epoch 48/100\n",
      "3/3 [==============================] - 0s 14ms/step - loss: 2.7802 - val_loss: 2.8587\n",
      "Epoch 49/100\n",
      "3/3 [==============================] - 0s 19ms/step - loss: 2.7684 - val_loss: 2.8695\n",
      "Epoch 50/100\n",
      "3/3 [==============================] - 0s 21ms/step - loss: 2.8860 - val_loss: 2.8571\n",
      "Epoch 51/100\n",
      "3/3 [==============================] - 0s 17ms/step - loss: 3.0311 - val_loss: 2.9156\n",
      "Epoch 52/100\n",
      "3/3 [==============================] - 0s 14ms/step - loss: 2.8208 - val_loss: 2.9499\n",
      "Epoch 53/100\n",
      "3/3 [==============================] - 0s 20ms/step - loss: 2.8939 - val_loss: 2.9665\n",
      "Epoch 54/100\n",
      "3/3 [==============================] - 0s 22ms/step - loss: 2.9360 - val_loss: 2.6914\n",
      "Epoch 55/100\n",
      "3/3 [==============================] - 0s 21ms/step - loss: 2.8701 - val_loss: 2.5995\n",
      "Epoch 56/100\n",
      "3/3 [==============================] - 0s 20ms/step - loss: 2.8125 - val_loss: 3.0556\n",
      "Epoch 57/100\n",
      "3/3 [==============================] - 0s 22ms/step - loss: 2.9329 - val_loss: 3.0397\n",
      "Epoch 58/100\n",
      "3/3 [==============================] - 0s 27ms/step - loss: 3.0141 - val_loss: 2.9406\n",
      "Epoch 59/100\n",
      "3/3 [==============================] - 0s 20ms/step - loss: 2.7820 - val_loss: 2.8290\n",
      "Epoch 60/100\n",
      "3/3 [==============================] - 0s 20ms/step - loss: 2.6784 - val_loss: 2.6744\n",
      "Epoch 61/100\n",
      "3/3 [==============================] - 0s 21ms/step - loss: 2.6726 - val_loss: 2.5711\n",
      "Epoch 62/100\n",
      "3/3 [==============================] - 0s 20ms/step - loss: 2.5842 - val_loss: 2.5997\n",
      "Epoch 63/100\n",
      "3/3 [==============================] - 0s 16ms/step - loss: 2.6273 - val_loss: 2.6140\n",
      "Epoch 64/100\n",
      "3/3 [==============================] - 0s 18ms/step - loss: 2.5734 - val_loss: 2.5491\n",
      "Epoch 65/100\n",
      "3/3 [==============================] - 0s 18ms/step - loss: 2.5415 - val_loss: 2.4608\n",
      "Epoch 66/100\n",
      "3/3 [==============================] - 0s 17ms/step - loss: 2.5517 - val_loss: 2.5619\n",
      "Epoch 67/100\n",
      "3/3 [==============================] - ETA: 0s - loss: 2.589 - 0s 18ms/step - loss: 2.5635 - val_loss: 2.6115\n",
      "Epoch 68/100\n",
      "3/3 [==============================] - 0s 22ms/step - loss: 2.4964 - val_loss: 2.6055\n",
      "Epoch 69/100\n",
      "3/3 [==============================] - 0s 21ms/step - loss: 2.6817 - val_loss: 2.7962\n",
      "Epoch 70/100\n",
      "3/3 [==============================] - 0s 26ms/step - loss: 2.6477 - val_loss: 2.6448\n",
      "Epoch 71/100\n",
      "3/3 [==============================] - 0s 17ms/step - loss: 2.5918 - val_loss: 2.5377\n",
      "Epoch 72/100\n",
      "3/3 [==============================] - 0s 19ms/step - loss: 2.5559 - val_loss: 2.5167\n",
      "Epoch 73/100\n",
      "3/3 [==============================] - 0s 20ms/step - loss: 2.5543 - val_loss: 2.4743\n",
      "Epoch 74/100\n",
      "3/3 [==============================] - 0s 20ms/step - loss: 2.5189 - val_loss: 2.7744\n",
      "Epoch 75/100\n",
      "3/3 [==============================] - 0s 20ms/step - loss: 2.6714 - val_loss: 2.7723\n",
      "Epoch 76/100\n",
      "3/3 [==============================] - 0s 17ms/step - loss: 2.6175 - val_loss: 2.4571\n",
      "Epoch 77/100\n",
      "3/3 [==============================] - 0s 18ms/step - loss: 2.7942 - val_loss: 2.5771\n",
      "Epoch 78/100\n",
      "3/3 [==============================] - 0s 19ms/step - loss: 2.7130 - val_loss: 2.7466\n",
      "Epoch 79/100\n",
      "3/3 [==============================] - 0s 24ms/step - loss: 2.7924 - val_loss: 2.7498\n",
      "Epoch 80/100\n",
      "3/3 [==============================] - 0s 21ms/step - loss: 2.6517 - val_loss: 2.8072\n",
      "Epoch 81/100\n"
     ]
    },
    {
     "name": "stdout",
     "output_type": "stream",
     "text": [
      "3/3 [==============================] - 0s 19ms/step - loss: 2.7314 - val_loss: 2.7658\n",
      "Epoch 82/100\n",
      "3/3 [==============================] - 0s 22ms/step - loss: 2.8521 - val_loss: 2.6983\n",
      "Epoch 83/100\n",
      "3/3 [==============================] - 0s 22ms/step - loss: 2.7152 - val_loss: 2.7411\n",
      "Epoch 84/100\n",
      "3/3 [==============================] - 0s 17ms/step - loss: 2.6300 - val_loss: 2.7634\n",
      "Epoch 85/100\n",
      "3/3 [==============================] - 0s 18ms/step - loss: 2.6536 - val_loss: 2.7873\n",
      "Epoch 86/100\n",
      "3/3 [==============================] - 0s 18ms/step - loss: 2.6727 - val_loss: 2.7032\n",
      "Epoch 87/100\n",
      "3/3 [==============================] - 0s 22ms/step - loss: 2.7109 - val_loss: 2.5862\n",
      "Epoch 88/100\n",
      "3/3 [==============================] - 0s 14ms/step - loss: 2.5605 - val_loss: 2.5427\n",
      "Epoch 89/100\n",
      "3/3 [==============================] - 0s 18ms/step - loss: 2.6327 - val_loss: 2.6316\n",
      "Epoch 90/100\n",
      "3/3 [==============================] - 0s 22ms/step - loss: 2.6076 - val_loss: 2.6260\n",
      "Epoch 91/100\n",
      "3/3 [==============================] - 0s 22ms/step - loss: 2.5668 - val_loss: 2.5958\n",
      "Epoch 92/100\n",
      "3/3 [==============================] - 0s 20ms/step - loss: 2.5775 - val_loss: 2.5542\n",
      "Epoch 93/100\n",
      "3/3 [==============================] - 0s 18ms/step - loss: 2.6661 - val_loss: 2.7357\n",
      "Epoch 94/100\n",
      "3/3 [==============================] - 0s 18ms/step - loss: 2.6307 - val_loss: 2.6454\n",
      "Epoch 95/100\n",
      "3/3 [==============================] - 0s 17ms/step - loss: 2.6378 - val_loss: 2.7129\n",
      "Epoch 96/100\n",
      "3/3 [==============================] - 0s 22ms/step - loss: 2.7766 - val_loss: 2.6736\n",
      "Epoch 97/100\n",
      "3/3 [==============================] - 0s 20ms/step - loss: 2.7143 - val_loss: 2.6116\n",
      "Epoch 98/100\n",
      "3/3 [==============================] - 0s 17ms/step - loss: 2.5373 - val_loss: 2.6875\n",
      "Epoch 99/100\n",
      "3/3 [==============================] - 0s 23ms/step - loss: 2.6053 - val_loss: 2.3934\n",
      "Epoch 100/100\n",
      "3/3 [==============================] - 0s 25ms/step - loss: 2.6492 - val_loss: 2.6506\n"
     ]
    }
   ],
   "source": [
    "history = model.fit(X_train, y_train, epochs=100,\n",
    "                    validation_data=(X_valid, y_valid))"
   ]
  },
  {
   "cell_type": "code",
   "execution_count": 55,
   "id": "e7fa5656",
   "metadata": {
    "scrolled": false
   },
   "outputs": [
    {
     "name": "stdout",
     "output_type": "stream",
     "text": [
      "Saving figure grid_quantile_training_curve\n"
     ]
    },
    {
     "data": {
      "image/png": "[encoded data removed]",
      "text/plain": [
       "<Figure size 576x360 with 1 Axes>"
      ]
     },
     "metadata": {
      "needs_background": "light"
     },
     "output_type": "display_data"
    }
   ],
   "source": [
    "import pandas as pd\n",
    "\n",
    "pd.DataFrame(history.history).plot(figsize=(8, 5))\n",
    "plt.grid(True)\n",
    "# plt.gca().set_ylim(0, 1)\n",
    "save_fig(\"grid_quantile_training_curve\")\n",
    "plt.show()"
   ]
  },
  {
   "cell_type": "markdown",
   "id": "a4a59dd6",
   "metadata": {},
   "source": [
    "### Draw the mean prediction curve averaged from all quantile predictions."
   ]
  },
  {
   "cell_type": "code",
   "execution_count": 56,
   "id": "0e5d0058",
   "metadata": {},
   "outputs": [
    {
     "name": "stdout",
     "output_type": "stream",
     "text": [
      "X.shape = (None, 1)\n",
      "gauss_grid.shape = (None, 5)\n",
      "Saving figure grid_quantile_prediction\n"
     ]
    },
    {
     "data": {
      "image/png": "[encoded data removed]",
      "text/plain": [
       "<Figure size 432x288 with 1 Axes>"
      ]
     },
     "metadata": {
      "needs_background": "light"
     },
     "output_type": "display_data"
    }
   ],
   "source": [
    "plt.plot(X_train, y_train, \"b.\")\n",
    "draw_func((lambda X: np.average(model.predict(X), axis=-1) ), mark='r-', linewidth=2, label=\"Predictions\")\n",
    "# draw_func((lambda X: model.predict(X)[:,0] ), mark='k--', linewidth=1, label=\"$y_{%d}$\" % (quantile_list[0]*100))\n",
    "# draw_func((lambda X: model.predict(X)[:,-1] ), mark='k--', linewidth=1, label=\"$y_{%d}$\" % (quantile_list[-1]*100))\n",
    "draw_normal_func(func_dict)\n",
    "plt.xlabel(\"$x_1$\", fontsize=18)\n",
    "plt.ylabel(\"$y$\", rotation=0, fontsize=18)\n",
    "plt.legend(loc=\"upper left\", fontsize=14)\n",
    "# plt.axis([-3, 3, 0, 10])\n",
    "save_fig(\"grid_quantile_prediction\")\n",
    "plt.show()"
   ]
  },
  {
   "cell_type": "code",
   "execution_count": 57,
   "id": "f98d3ae8",
   "metadata": {},
   "outputs": [
    {
     "name": "stdout",
     "output_type": "stream",
     "text": [
      "y_func.shape = (100, 1)\n",
      "y_gt.shape = (100, 1)\n"
     ]
    },
    {
     "data": {
      "text/plain": [
       "1.4898803600585546"
      ]
     },
     "execution_count": 57,
     "metadata": {},
     "output_type": "execute_result"
    }
   ],
   "source": [
    "get_prediction_error((lambda X: np.average(model.predict(X), axis=-1) ), func_dict, name=\"grid-quantileR\")"
   ]
  },
  {
   "cell_type": "markdown",
   "id": "f79ac920",
   "metadata": {},
   "source": [
    "### Draw first and last quantile curve."
   ]
  },
  {
   "cell_type": "code",
   "execution_count": 58,
   "id": "42eeb254",
   "metadata": {},
   "outputs": [
    {
     "name": "stdout",
     "output_type": "stream",
     "text": [
      "Saving figure grid_quantile_boundary_quantiles\n"
     ]
    },
    {
     "data": {
      "image/png": "[encoded data removed]",
      "text/plain": [
       "<Figure size 432x288 with 1 Axes>"
      ]
     },
     "metadata": {
      "needs_background": "light"
     },
     "output_type": "display_data"
    }
   ],
   "source": [
    "plt.plot(X_train, y_train, \"b.\")\n",
    "draw_func((lambda X: np.average(model.predict(X), axis=-1) ), mark='r-', linewidth=2, label=\"Predictions\")\n",
    "draw_func((lambda X: model.predict(X)[:,0] ), mark='k--', linewidth=1, label=\"$y_{%d}$\" % (quantile_list[0]*100))\n",
    "draw_func((lambda X: model.predict(X)[:,-1] ), mark='k--', linewidth=1, label=\"$y_{%d}$\" % (quantile_list[-1]*100))\n",
    "draw_normal_func(func_dict)\n",
    "plt.xlabel(\"$x_1$\", fontsize=18)\n",
    "plt.ylabel(\"$y$\", rotation=0, fontsize=18)\n",
    "plt.legend(loc=\"upper left\", fontsize=14)\n",
    "# plt.axis([-3, 3, 0, 10])\n",
    "save_fig(\"grid_quantile_boundary_quantiles\")\n",
    "plt.show()"
   ]
  },
  {
   "cell_type": "markdown",
   "id": "2a1b1b44",
   "metadata": {},
   "source": [
    "### Draw all quantile predictions"
   ]
  },
  {
   "cell_type": "code",
   "execution_count": 59,
   "id": "5e875238",
   "metadata": {},
   "outputs": [
    {
     "name": "stdout",
     "output_type": "stream",
     "text": [
      "Saving figure grid_quantile_all_quantiles\n"
     ]
    },
    {
     "data": {
      "image/png": "[encoded data removed]",
      "text/plain": [
       "<Figure size 432x288 with 1 Axes>"
      ]
     },
     "metadata": {
      "needs_background": "light"
     },
     "output_type": "display_data"
    }
   ],
   "source": [
    "plt.plot(X_train, y_train, \"b.\")\n",
    "draw_func((lambda X: np.average(model.predict(X), axis=-1) ), mark='r-', linewidth=2, label=\"Predictions\")\n",
    "for _idx, _tau in enumerate(quantile_list):\n",
    "    draw_func((lambda X: model.predict(X)[:,_idx] ), mark='k--', linewidth=1, label=\"$y_{%d}$\" % (_tau*100))\n",
    "draw_normal_func(func_dict)\n",
    "plt.xlabel(\"$x_1$\", fontsize=18)\n",
    "plt.ylabel(\"$y$\", rotation=0, fontsize=18)\n",
    "plt.legend(loc=\"upper left\", fontsize=14)\n",
    "# plt.axis([-3, 3, 0, 10])\n",
    "save_fig(\"grid_quantile_all_quantiles\")\n",
    "plt.show()"
   ]
  },
  {
   "cell_type": "markdown",
   "id": "9a01aa69",
   "metadata": {},
   "source": [
    "## Gaussian Estimation with Gaussian Loss (grid-->parameters)\n",
    "\n",
    "Gaussain estimation requires the model to predict the mean and variance of a Gaussian distribution of the random variable regarded. The training purpose is to fit a Gaussian distribution to the data distribution (which is not necessay distributed as Gaussian).\n",
    "\n",
    "One possible solution, derived by BensonHuang, is that the model estimates $(\\mu, z)$, where $z=\\alpha ^{-1}log(\\sigma)$.\n",
    "The associated loss function can be $L_G(y, (\\mu,z)) = 0.5e^{-2\\alpha z}(y-\\mu)^2 + \\alpha z$."
   ]
  },
  {
   "cell_type": "code",
   "execution_count": 60,
   "id": "1a20d5dd",
   "metadata": {},
   "outputs": [],
   "source": [
    "alpha = 1.0\n",
    "# alpha = 0.01\n",
    "# alpha = 0.001"
   ]
  },
  {
   "cell_type": "code",
   "execution_count": 61,
   "id": "cb202ed2",
   "metadata": {},
   "outputs": [
    {
     "name": "stdout",
     "output_type": "stream",
     "text": [
      "X.shape = (None, 1)\n",
      "gauss_grid.shape = (None, 5)\n"
     ]
    }
   ],
   "source": [
    "model = keras.models.Sequential([\n",
    "    num2grid(5,x_min=-10, x_max=10, sigma=3.0, input_shape=X_train.shape[1:]),\n",
    "#     keras.layers.Dense(30, activation=\"relu\"),\n",
    "    keras.layers.Dense(60, activation=\"relu\"),\n",
    "#     keras.layers.Dense(30, activation=keras.layers.LeakyReLU(alpha=0.2) ),\n",
    "#     keras.layers.Dense(30, activation=\"selu\"),\n",
    "    keras.layers.Dense(2) # (mu, z)\n",
    "])"
   ]
  },
  {
   "cell_type": "code",
   "execution_count": 62,
   "id": "925f0a22",
   "metadata": {},
   "outputs": [
    {
     "name": "stdout",
     "output_type": "stream",
     "text": [
      "alpha = 1.000000\n"
     ]
    }
   ],
   "source": [
    "# Customized loss function\n",
    "print(\"alpha = %f\" % alpha)\n",
    "\n",
    "def GaussianLoss_fn(y_true, y_pred):\n",
    "    # y_true: label \n",
    "    # y_pred: (mu, z), z=log(sigma)\n",
    "    mu = y_pred[:, 0:1]\n",
    "    z  = y_pred[:, 1:2]\n",
    "    #\n",
    "    en2z = tf.math.exp((-2.0*alpha)*z)\n",
    "    ymu2 = (y_true - mu)**2\n",
    "    return (0.5*en2z*ymu2 + alpha*z)"
   ]
  },
  {
   "cell_type": "code",
   "execution_count": 63,
   "id": "1b388b4b",
   "metadata": {},
   "outputs": [],
   "source": [
    "# Learning rate scheduler\n",
    "learning_rate_switch_epoch_list = [30, 45]\n",
    "learning_rate_list = [0.001, 0.01, 0.1]\n",
    "# learning_rate_switch_epoch_list = [30, 80]\n",
    "# learning_rate_list = [0.01, 0.1, 0.01]\n",
    "#\n",
    "def piecewise_constant_fn(epoch):\n",
    "    for _i, epoch_s in enumerate(learning_rate_switch_epoch_list):\n",
    "        if epoch < epoch_s:\n",
    "            return learning_rate_list[_i]\n",
    "    return learning_rate_list[-1]\n",
    "\n",
    "lr_scheduler = keras.callbacks.LearningRateScheduler(piecewise_constant_fn)"
   ]
  },
  {
   "cell_type": "markdown",
   "id": "6ec2e05e",
   "metadata": {},
   "source": [
    "Third training with even greater speed"
   ]
  },
  {
   "cell_type": "code",
   "execution_count": 64,
   "id": "7a7e245b",
   "metadata": {},
   "outputs": [
    {
     "name": "stderr",
     "output_type": "stream",
     "text": [
      "C:\\Users\\benso\\anaconda3\\envs\\ml\\lib\\site-packages\\keras\\optimizer_v2\\adam.py:105: UserWarning: The `lr` argument is deprecated, use `learning_rate` instead.\n",
      "  super(Adam, self).__init__(name, **kwargs)\n"
     ]
    }
   ],
   "source": [
    "# optimizer = keras.optimizers.SGD(lr=0.1, momentum=0.9)\n",
    "optimizer = keras.optimizers.Adam(lr=0.1)\n",
    "model.compile(loss=GaussianLoss_fn, optimizer=optimizer)"
   ]
  },
  {
   "cell_type": "code",
   "execution_count": 65,
   "id": "6d7b74a9",
   "metadata": {
    "scrolled": true
   },
   "outputs": [
    {
     "name": "stdout",
     "output_type": "stream",
     "text": [
      "Epoch 1/200\n",
      "X.shape = (None, 1)\n",
      "gauss_grid.shape = (None, 5)\n",
      "X.shape = (None, 1)\n",
      "gauss_grid.shape = (None, 5)\n",
      "1/3 [=========>....................] - ETA: 0s - loss: 1496.4066X.shape = (None, 1)\n",
      "gauss_grid.shape = (None, 5)\n",
      "3/3 [==============================] - 1s 84ms/step - loss: 614.7086 - val_loss: 5.9583\n",
      "Epoch 2/200\n",
      "3/3 [==============================] - 0s 18ms/step - loss: 7.5139 - val_loss: 11.6554\n",
      "Epoch 3/200\n",
      "3/3 [==============================] - 0s 26ms/step - loss: 12.8294 - val_loss: 16.0579\n",
      "Epoch 4/200\n",
      "3/3 [==============================] - 0s 39ms/step - loss: 16.8518 - val_loss: 19.1724\n",
      "Epoch 5/200\n",
      "3/3 [==============================] - 0s 36ms/step - loss: 19.6519 - val_loss: 21.1690\n",
      "Epoch 6/200\n",
      "3/3 [==============================] - 0s 31ms/step - loss: 21.4302 - val_loss: 22.2388\n",
      "Epoch 7/200\n",
      "3/3 [==============================] - 0s 37ms/step - loss: 22.3787 - val_loss: 22.5375\n",
      "Epoch 8/200\n",
      "3/3 [==============================] - 0s 28ms/step - loss: 22.6149 - val_loss: 22.2561\n",
      "Epoch 9/200\n",
      "3/3 [==============================] - 0s 41ms/step - loss: 22.3182 - val_loss: 21.5320\n",
      "Epoch 10/200\n",
      "3/3 [==============================] - 0s 19ms/step - loss: 21.6473 - val_loss: 20.4738\n",
      "Epoch 11/200\n",
      "3/3 [==============================] - 0s 21ms/step - loss: 20.6788 - val_loss: 19.2118\n",
      "Epoch 12/200\n",
      "3/3 [==============================] - 0s 23ms/step - loss: 19.5447 - val_loss: 17.8967\n",
      "Epoch 13/200\n",
      "3/3 [==============================] - 0s 17ms/step - loss: 18.3347 - val_loss: 16.5594\n",
      "Epoch 14/200\n",
      "3/3 [==============================] - 0s 21ms/step - loss: 17.1361 - val_loss: 15.2552\n",
      "Epoch 15/200\n",
      "3/3 [==============================] - 0s 18ms/step - loss: 15.9311 - val_loss: 13.9782\n",
      "Epoch 16/200\n",
      "3/3 [==============================] - 0s 20ms/step - loss: 14.7348 - val_loss: 12.7364\n",
      "Epoch 17/200\n",
      "3/3 [==============================] - 0s 22ms/step - loss: 13.5723 - val_loss: 11.5285\n",
      "Epoch 18/200\n",
      "3/3 [==============================] - 0s 21ms/step - loss: 12.4151 - val_loss: 10.3517\n",
      "Epoch 19/200\n",
      "3/3 [==============================] - 0s 17ms/step - loss: 11.2943 - val_loss: 9.1903\n",
      "Epoch 20/200\n",
      "3/3 [==============================] - 0s 20ms/step - loss: 10.1832 - val_loss: 8.0553\n",
      "Epoch 21/200\n",
      "3/3 [==============================] - 0s 22ms/step - loss: 9.1047 - val_loss: 6.9776\n",
      "Epoch 22/200\n",
      "3/3 [==============================] - 0s 18ms/step - loss: 8.1109 - val_loss: 6.2372\n",
      "Epoch 23/200\n",
      "3/3 [==============================] - 0s 17ms/step - loss: 7.7505 - val_loss: 6.4066\n",
      "Epoch 24/200\n",
      "3/3 [==============================] - 0s 18ms/step - loss: 7.7852 - val_loss: 5.7509\n",
      "Epoch 25/200\n",
      "3/3 [==============================] - 0s 19ms/step - loss: 6.9065 - val_loss: 5.6405\n",
      "Epoch 26/200\n",
      "3/3 [==============================] - 0s 21ms/step - loss: 6.5843 - val_loss: 5.5192\n",
      "Epoch 27/200\n",
      "3/3 [==============================] - 0s 17ms/step - loss: 6.2865 - val_loss: 5.2084\n",
      "Epoch 28/200\n",
      "3/3 [==============================] - 0s 18ms/step - loss: 5.7986 - val_loss: 4.7616\n",
      "Epoch 29/200\n",
      "3/3 [==============================] - 0s 21ms/step - loss: 5.2405 - val_loss: 4.3836\n",
      "Epoch 30/200\n",
      "3/3 [==============================] - 0s 17ms/step - loss: 4.7186 - val_loss: 4.2520\n",
      "Epoch 31/200\n",
      "3/3 [==============================] - 0s 17ms/step - loss: 4.4514 - val_loss: 4.1370\n",
      "Epoch 32/200\n",
      "3/3 [==============================] - 0s 22ms/step - loss: 4.3313 - val_loss: 3.9513\n",
      "Epoch 33/200\n",
      "3/3 [==============================] - 0s 17ms/step - loss: 4.2316 - val_loss: 3.9736\n",
      "Epoch 34/200\n",
      "3/3 [==============================] - 0s 24ms/step - loss: 4.2261 - val_loss: 4.0802\n",
      "Epoch 35/200\n",
      "3/3 [==============================] - 0s 23ms/step - loss: 4.2726 - val_loss: 4.0687\n",
      "Epoch 36/200\n",
      "3/3 [==============================] - 0s 17ms/step - loss: 4.2390 - val_loss: 3.9610\n",
      "Epoch 37/200\n",
      "3/3 [==============================] - 0s 25ms/step - loss: 4.1547 - val_loss: 3.8582\n",
      "Epoch 38/200\n",
      "3/3 [==============================] - 0s 25ms/step - loss: 4.1049 - val_loss: 3.8207\n",
      "Epoch 39/200\n",
      "3/3 [==============================] - 0s 26ms/step - loss: 4.0587 - val_loss: 3.8111\n",
      "Epoch 40/200\n",
      "3/3 [==============================] - 0s 17ms/step - loss: 4.0265 - val_loss: 3.8083\n",
      "Epoch 41/200\n",
      "3/3 [==============================] - 0s 19ms/step - loss: 4.0284 - val_loss: 3.8076\n",
      "Epoch 42/200\n",
      "3/3 [==============================] - 0s 22ms/step - loss: 4.0188 - val_loss: 3.8077\n",
      "Epoch 43/200\n",
      "3/3 [==============================] - 0s 22ms/step - loss: 3.9991 - val_loss: 3.7896\n",
      "Epoch 44/200\n",
      "3/3 [==============================] - 0s 23ms/step - loss: 3.9747 - val_loss: 3.7682\n",
      "Epoch 45/200\n",
      "3/3 [==============================] - 0s 21ms/step - loss: 3.9582 - val_loss: 3.7355\n",
      "Epoch 46/200\n",
      "3/3 [==============================] - 0s 19ms/step - loss: 3.9358 - val_loss: 3.7158\n",
      "Epoch 47/200\n",
      "3/3 [==============================] - 0s 26ms/step - loss: 3.9209 - val_loss: 3.7035\n",
      "Epoch 48/200\n",
      "3/3 [==============================] - 0s 19ms/step - loss: 3.9029 - val_loss: 3.6938\n",
      "Epoch 49/200\n",
      "3/3 [==============================] - 0s 18ms/step - loss: 3.8837 - val_loss: 3.6855\n",
      "Epoch 50/200\n",
      "3/3 [==============================] - 0s 14ms/step - loss: 3.8631 - val_loss: 3.6686\n",
      "Epoch 51/200\n",
      "3/3 [==============================] - 0s 29ms/step - loss: 3.8429 - val_loss: 3.6557\n",
      "Epoch 52/200\n",
      "3/3 [==============================] - 0s 28ms/step - loss: 3.8210 - val_loss: 3.6517\n",
      "Epoch 53/200\n",
      "3/3 [==============================] - 0s 29ms/step - loss: 3.8021 - val_loss: 3.6366\n",
      "Epoch 54/200\n",
      "3/3 [==============================] - 0s 30ms/step - loss: 3.7807 - val_loss: 3.6122\n",
      "Epoch 55/200\n",
      "3/3 [==============================] - 0s 16ms/step - loss: 3.7612 - val_loss: 3.5891\n",
      "Epoch 56/200\n",
      "3/3 [==============================] - 0s 27ms/step - loss: 3.7396 - val_loss: 3.5717\n",
      "Epoch 57/200\n",
      "3/3 [==============================] - 0s 42ms/step - loss: 3.7147 - val_loss: 3.5615\n",
      "Epoch 58/200\n",
      "3/3 [==============================] - 0s 38ms/step - loss: 3.6896 - val_loss: 3.5511\n",
      "Epoch 59/200\n",
      "3/3 [==============================] - 0s 29ms/step - loss: 3.6632 - val_loss: 3.5333\n",
      "Epoch 60/200\n",
      "3/3 [==============================] - 0s 34ms/step - loss: 3.6350 - val_loss: 3.5236\n",
      "Epoch 61/200\n",
      "3/3 [==============================] - 0s 29ms/step - loss: 3.6003 - val_loss: 3.5130\n",
      "Epoch 62/200\n",
      "3/3 [==============================] - 0s 26ms/step - loss: 3.5655 - val_loss: 3.4949\n",
      "Epoch 63/200\n",
      "3/3 [==============================] - 0s 37ms/step - loss: 3.5273 - val_loss: 3.4810\n",
      "Epoch 64/200\n",
      "3/3 [==============================] - 0s 29ms/step - loss: 3.4938 - val_loss: 3.4596\n",
      "Epoch 65/200\n",
      "3/3 [==============================] - 0s 25ms/step - loss: 3.4537 - val_loss: 3.4396\n",
      "Epoch 66/200\n",
      "3/3 [==============================] - 0s 32ms/step - loss: 3.4238 - val_loss: 3.4147\n",
      "Epoch 67/200\n",
      "3/3 [==============================] - 0s 34ms/step - loss: 3.3958 - val_loss: 3.3678\n",
      "Epoch 68/200\n",
      "3/3 [==============================] - 0s 34ms/step - loss: 3.3647 - val_loss: 3.3414\n",
      "Epoch 69/200\n",
      "3/3 [==============================] - 0s 20ms/step - loss: 3.3529 - val_loss: 3.3166\n",
      "Epoch 70/200\n",
      "3/3 [==============================] - 0s 16ms/step - loss: 3.3464 - val_loss: 3.2930\n",
      "Epoch 71/200\n",
      "3/3 [==============================] - 0s 27ms/step - loss: 3.3307 - val_loss: 3.2859\n",
      "Epoch 72/200\n",
      "3/3 [==============================] - 0s 30ms/step - loss: 3.3233 - val_loss: 3.2865\n",
      "Epoch 73/200\n",
      "3/3 [==============================] - 0s 32ms/step - loss: 3.3198 - val_loss: 3.2996\n",
      "Epoch 74/200\n",
      "3/3 [==============================] - 0s 31ms/step - loss: 3.3163 - val_loss: 3.2997\n",
      "Epoch 75/200\n",
      "3/3 [==============================] - 0s 32ms/step - loss: 3.3206 - val_loss: 3.3035\n",
      "Epoch 76/200\n",
      "3/3 [==============================] - 0s 26ms/step - loss: 3.3073 - val_loss: 3.2903\n",
      "Epoch 77/200\n",
      "3/3 [==============================] - 0s 29ms/step - loss: 3.3122 - val_loss: 3.2872\n",
      "Epoch 78/200\n",
      "3/3 [==============================] - 0s 29ms/step - loss: 3.3073 - val_loss: 3.2849\n",
      "Epoch 79/200\n",
      "3/3 [==============================] - 0s 27ms/step - loss: 3.3124 - val_loss: 3.2782\n",
      "Epoch 80/200\n",
      "3/3 [==============================] - ETA: 0s - loss: 3.303 - 0s 33ms/step - loss: 3.3001 - val_loss: 3.2678\n",
      "Epoch 81/200\n"
     ]
    },
    {
     "name": "stdout",
     "output_type": "stream",
     "text": [
      "3/3 [==============================] - 0s 30ms/step - loss: 3.3021 - val_loss: 3.2635\n",
      "Epoch 82/200\n",
      "3/3 [==============================] - 0s 21ms/step - loss: 3.3027 - val_loss: 3.2585\n",
      "Epoch 83/200\n",
      "3/3 [==============================] - 0s 22ms/step - loss: 3.3004 - val_loss: 3.2565\n",
      "Epoch 84/200\n",
      "3/3 [==============================] - 0s 17ms/step - loss: 3.2910 - val_loss: 3.2615\n",
      "Epoch 85/200\n",
      "3/3 [==============================] - 0s 26ms/step - loss: 3.2927 - val_loss: 3.2646\n",
      "Epoch 86/200\n",
      "3/3 [==============================] - 0s 21ms/step - loss: 3.2861 - val_loss: 3.2624\n",
      "Epoch 87/200\n",
      "3/3 [==============================] - ETA: 0s - loss: 3.569 - 0s 21ms/step - loss: 3.2845 - val_loss: 3.2567\n",
      "Epoch 88/200\n",
      "3/3 [==============================] - 0s 17ms/step - loss: 3.2792 - val_loss: 3.2587\n",
      "Epoch 89/200\n",
      "3/3 [==============================] - 0s 17ms/step - loss: 3.2785 - val_loss: 3.2665\n",
      "Epoch 90/200\n",
      "3/3 [==============================] - 0s 17ms/step - loss: 3.2735 - val_loss: 3.2809\n",
      "Epoch 91/200\n",
      "3/3 [==============================] - 0s 17ms/step - loss: 3.2786 - val_loss: 3.2703\n",
      "Epoch 92/200\n",
      "3/3 [==============================] - 0s 22ms/step - loss: 3.2711 - val_loss: 3.2553\n",
      "Epoch 93/200\n",
      "3/3 [==============================] - 0s 18ms/step - loss: 3.2734 - val_loss: 3.2412\n",
      "Epoch 94/200\n",
      "3/3 [==============================] - 0s 21ms/step - loss: 3.2662 - val_loss: 3.2494\n",
      "Epoch 95/200\n",
      "3/3 [==============================] - 0s 18ms/step - loss: 3.2807 - val_loss: 3.2423\n",
      "Epoch 96/200\n",
      "3/3 [==============================] - 0s 16ms/step - loss: 3.2620 - val_loss: 3.2587\n",
      "Epoch 97/200\n",
      "3/3 [==============================] - 0s 20ms/step - loss: 3.2668 - val_loss: 3.2493\n",
      "Epoch 98/200\n",
      "3/3 [==============================] - 0s 21ms/step - loss: 3.2572 - val_loss: 3.2239\n",
      "Epoch 99/200\n",
      "3/3 [==============================] - 0s 18ms/step - loss: 3.2623 - val_loss: 3.2324\n",
      "Epoch 100/200\n",
      "3/3 [==============================] - 0s 19ms/step - loss: 3.2625 - val_loss: 3.2333\n",
      "Epoch 101/200\n",
      "3/3 [==============================] - 0s 20ms/step - loss: 3.2536 - val_loss: 3.2734\n",
      "Epoch 102/200\n",
      "3/3 [==============================] - 0s 22ms/step - loss: 3.2672 - val_loss: 3.2151\n",
      "Epoch 103/200\n",
      "3/3 [==============================] - 0s 18ms/step - loss: 3.2384 - val_loss: 3.2018\n",
      "Epoch 104/200\n",
      "3/3 [==============================] - 0s 17ms/step - loss: 3.2407 - val_loss: 3.1980\n",
      "Epoch 105/200\n",
      "3/3 [==============================] - 0s 24ms/step - loss: 3.2392 - val_loss: 3.2028\n",
      "Epoch 106/200\n",
      "3/3 [==============================] - 0s 22ms/step - loss: 3.2298 - val_loss: 3.2081\n",
      "Epoch 107/200\n",
      "3/3 [==============================] - 0s 20ms/step - loss: 3.2290 - val_loss: 3.2084\n",
      "Epoch 108/200\n",
      "3/3 [==============================] - 0s 19ms/step - loss: 3.2203 - val_loss: 3.1992\n",
      "Epoch 109/200\n",
      "3/3 [==============================] - 0s 20ms/step - loss: 3.2432 - val_loss: 3.2067\n",
      "Epoch 110/200\n",
      "3/3 [==============================] - 0s 17ms/step - loss: 3.2256 - val_loss: 3.1991\n",
      "Epoch 111/200\n",
      "3/3 [==============================] - 0s 17ms/step - loss: 3.2265 - val_loss: 3.1943\n",
      "Epoch 112/200\n",
      "3/3 [==============================] - 0s 18ms/step - loss: 3.2095 - val_loss: 3.1828\n",
      "Epoch 113/200\n",
      "3/3 [==============================] - 0s 19ms/step - loss: 3.2213 - val_loss: 3.1993\n",
      "Epoch 114/200\n",
      "3/3 [==============================] - 0s 21ms/step - loss: 3.2133 - val_loss: 3.2109\n",
      "Epoch 115/200\n",
      "3/3 [==============================] - 0s 17ms/step - loss: 3.2174 - val_loss: 3.2132\n",
      "Epoch 116/200\n",
      "3/3 [==============================] - 0s 17ms/step - loss: 3.2068 - val_loss: 3.1724\n",
      "Epoch 117/200\n",
      "3/3 [==============================] - 0s 20ms/step - loss: 3.2023 - val_loss: 3.1464\n",
      "Epoch 118/200\n",
      "3/3 [==============================] - 0s 18ms/step - loss: 3.1951 - val_loss: 3.1471\n",
      "Epoch 119/200\n",
      "3/3 [==============================] - 0s 17ms/step - loss: 3.2017 - val_loss: 3.1412\n",
      "Epoch 120/200\n",
      "3/3 [==============================] - 0s 21ms/step - loss: 3.1787 - val_loss: 3.1709\n",
      "Epoch 121/200\n",
      "3/3 [==============================] - 0s 18ms/step - loss: 3.2091 - val_loss: 3.1748\n",
      "Epoch 122/200\n",
      "3/3 [==============================] - 0s 17ms/step - loss: 3.1815 - val_loss: 3.1965\n",
      "Epoch 123/200\n",
      "3/3 [==============================] - 0s 20ms/step - loss: 3.1820 - val_loss: 3.1504\n",
      "Epoch 124/200\n",
      "3/3 [==============================] - 0s 20ms/step - loss: 3.1715 - val_loss: 3.1431\n",
      "Epoch 125/200\n",
      "3/3 [==============================] - 0s 20ms/step - loss: 3.1645 - val_loss: 3.1321\n",
      "Epoch 126/200\n",
      "3/3 [==============================] - 0s 19ms/step - loss: 3.1735 - val_loss: 3.1229\n",
      "Epoch 127/200\n",
      "3/3 [==============================] - 0s 18ms/step - loss: 3.1508 - val_loss: 3.1352\n",
      "Epoch 128/200\n",
      "3/3 [==============================] - 0s 25ms/step - loss: 3.1660 - val_loss: 3.1394\n",
      "Epoch 129/200\n",
      "3/3 [==============================] - ETA: 0s - loss: 3.073 - 0s 17ms/step - loss: 3.1506 - val_loss: 3.1612\n",
      "Epoch 130/200\n",
      "3/3 [==============================] - 0s 17ms/step - loss: 3.1560 - val_loss: 3.1251\n",
      "Epoch 131/200\n",
      "3/3 [==============================] - 0s 21ms/step - loss: 3.1485 - val_loss: 3.1081\n",
      "Epoch 132/200\n",
      "3/3 [==============================] - 0s 20ms/step - loss: 3.1442 - val_loss: 3.0892\n",
      "Epoch 133/200\n",
      "3/3 [==============================] - 0s 17ms/step - loss: 3.1592 - val_loss: 3.0988\n",
      "Epoch 134/200\n",
      "3/3 [==============================] - 0s 19ms/step - loss: 3.1388 - val_loss: 3.0924\n",
      "Epoch 135/200\n",
      "3/3 [==============================] - 0s 21ms/step - loss: 3.1409 - val_loss: 3.1101\n",
      "Epoch 136/200\n",
      "3/3 [==============================] - 0s 20ms/step - loss: 3.1345 - val_loss: 3.1177\n",
      "Epoch 137/200\n",
      "3/3 [==============================] - 0s 21ms/step - loss: 3.1163 - val_loss: 3.1493\n",
      "Epoch 138/200\n",
      "3/3 [==============================] - 0s 17ms/step - loss: 3.1476 - val_loss: 3.0853\n",
      "Epoch 139/200\n",
      "3/3 [==============================] - 0s 18ms/step - loss: 3.1229 - val_loss: 3.0942\n",
      "Epoch 140/200\n",
      "3/3 [==============================] - 0s 20ms/step - loss: 3.1303 - val_loss: 3.0571\n",
      "Epoch 141/200\n",
      "3/3 [==============================] - 0s 21ms/step - loss: 3.1045 - val_loss: 3.0665\n",
      "Epoch 142/200\n",
      "3/3 [==============================] - 0s 19ms/step - loss: 3.0971 - val_loss: 3.0848\n",
      "Epoch 143/200\n",
      "3/3 [==============================] - 0s 17ms/step - loss: 3.0996 - val_loss: 3.1024\n",
      "Epoch 144/200\n",
      "3/3 [==============================] - 0s 18ms/step - loss: 3.0950 - val_loss: 3.0950\n",
      "Epoch 145/200\n",
      "3/3 [==============================] - 0s 23ms/step - loss: 3.0850 - val_loss: 3.0472\n",
      "Epoch 146/200\n",
      "3/3 [==============================] - 0s 18ms/step - loss: 3.0813 - val_loss: 3.0191\n",
      "Epoch 147/200\n",
      "3/3 [==============================] - 0s 17ms/step - loss: 3.0742 - val_loss: 3.0183\n",
      "Epoch 148/200\n",
      "3/3 [==============================] - 0s 21ms/step - loss: 3.0743 - val_loss: 3.0196\n",
      "Epoch 149/200\n",
      "3/3 [==============================] - 0s 22ms/step - loss: 3.0728 - val_loss: 3.0248\n",
      "Epoch 150/200\n",
      "3/3 [==============================] - 0s 19ms/step - loss: 3.0641 - val_loss: 3.0172\n",
      "Epoch 151/200\n",
      "3/3 [==============================] - 0s 17ms/step - loss: 3.0643 - val_loss: 3.0540\n",
      "Epoch 152/200\n",
      "3/3 [==============================] - 0s 19ms/step - loss: 3.0656 - val_loss: 3.0560\n",
      "Epoch 153/200\n",
      "3/3 [==============================] - 0s 17ms/step - loss: 3.0512 - val_loss: 3.0442\n",
      "Epoch 154/200\n",
      "3/3 [==============================] - 0s 21ms/step - loss: 3.0375 - val_loss: 3.0154\n",
      "Epoch 155/200\n",
      "3/3 [==============================] - 0s 20ms/step - loss: 3.0294 - val_loss: 2.9863\n",
      "Epoch 156/200\n",
      "3/3 [==============================] - 0s 18ms/step - loss: 3.0287 - val_loss: 2.9812\n",
      "Epoch 157/200\n",
      "3/3 [==============================] - 0s 18ms/step - loss: 3.0280 - val_loss: 2.9963\n",
      "Epoch 158/200\n",
      "3/3 [==============================] - 0s 21ms/step - loss: 3.0093 - val_loss: 2.9969\n",
      "Epoch 159/200\n",
      "3/3 [==============================] - 0s 20ms/step - loss: 3.0065 - val_loss: 3.0068\n",
      "Epoch 160/200\n",
      "3/3 [==============================] - 0s 18ms/step - loss: 3.0091 - val_loss: 2.9825\n",
      "Epoch 161/200\n",
      "3/3 [==============================] - 0s 22ms/step - loss: 2.9865 - val_loss: 2.9779\n",
      "Epoch 162/200\n",
      "3/3 [==============================] - 0s 18ms/step - loss: 2.9868 - val_loss: 2.9450\n"
     ]
    },
    {
     "name": "stdout",
     "output_type": "stream",
     "text": [
      "Epoch 163/200\n",
      "3/3 [==============================] - 0s 20ms/step - loss: 2.9741 - val_loss: 2.9323\n",
      "Epoch 164/200\n",
      "3/3 [==============================] - 0s 16ms/step - loss: 2.9702 - val_loss: 2.9390\n",
      "Epoch 165/200\n",
      "3/3 [==============================] - 0s 21ms/step - loss: 2.9625 - val_loss: 2.9522\n",
      "Epoch 166/200\n",
      "3/3 [==============================] - 0s 17ms/step - loss: 2.9552 - val_loss: 2.9588\n",
      "Epoch 167/200\n",
      "3/3 [==============================] - 0s 17ms/step - loss: 2.9491 - val_loss: 2.9393\n",
      "Epoch 168/200\n",
      "3/3 [==============================] - 0s 18ms/step - loss: 2.9448 - val_loss: 2.9206\n",
      "Epoch 169/200\n",
      "3/3 [==============================] - 0s 21ms/step - loss: 2.9331 - val_loss: 2.9167\n",
      "Epoch 170/200\n",
      "3/3 [==============================] - 0s 22ms/step - loss: 2.9303 - val_loss: 2.9051\n",
      "Epoch 171/200\n",
      "3/3 [==============================] - 0s 19ms/step - loss: 2.9246 - val_loss: 2.9125\n",
      "Epoch 172/200\n",
      "3/3 [==============================] - 0s 18ms/step - loss: 2.9161 - val_loss: 2.9147\n",
      "Epoch 173/200\n",
      "3/3 [==============================] - 0s 20ms/step - loss: 2.9109 - val_loss: 2.8970\n",
      "Epoch 174/200\n",
      "3/3 [==============================] - 0s 20ms/step - loss: 2.8963 - val_loss: 2.8893\n",
      "Epoch 175/200\n",
      "3/3 [==============================] - 0s 21ms/step - loss: 2.8978 - val_loss: 2.8830\n",
      "Epoch 176/200\n",
      "3/3 [==============================] - 0s 16ms/step - loss: 2.8866 - val_loss: 2.8855\n",
      "Epoch 177/200\n",
      "3/3 [==============================] - 0s 16ms/step - loss: 2.8868 - val_loss: 2.8780\n",
      "Epoch 178/200\n",
      "3/3 [==============================] - 0s 18ms/step - loss: 2.8729 - val_loss: 2.8837\n",
      "Epoch 179/200\n",
      "3/3 [==============================] - 0s 21ms/step - loss: 2.8708 - val_loss: 2.8771\n",
      "Epoch 180/200\n",
      "3/3 [==============================] - 0s 17ms/step - loss: 2.8677 - val_loss: 2.8606\n",
      "Epoch 181/200\n",
      "3/3 [==============================] - 0s 18ms/step - loss: 2.8549 - val_loss: 2.8653\n",
      "Epoch 182/200\n",
      "3/3 [==============================] - 0s 17ms/step - loss: 2.8610 - val_loss: 2.8610\n",
      "Epoch 183/200\n",
      "3/3 [==============================] - 0s 22ms/step - loss: 2.8426 - val_loss: 2.8625\n",
      "Epoch 184/200\n",
      "3/3 [==============================] - 0s 18ms/step - loss: 2.8665 - val_loss: 2.8487\n",
      "Epoch 185/200\n",
      "3/3 [==============================] - 0s 17ms/step - loss: 2.8450 - val_loss: 2.8733\n",
      "Epoch 186/200\n",
      "3/3 [==============================] - 0s 18ms/step - loss: 2.8508 - val_loss: 2.8535\n",
      "Epoch 187/200\n",
      "3/3 [==============================] - 0s 21ms/step - loss: 2.8338 - val_loss: 2.8371\n",
      "Epoch 188/200\n",
      "3/3 [==============================] - 0s 21ms/step - loss: 2.8291 - val_loss: 2.8625\n",
      "Epoch 189/200\n",
      "3/3 [==============================] - 0s 17ms/step - loss: 2.8325 - val_loss: 2.8407\n",
      "Epoch 190/200\n",
      "3/3 [==============================] - 0s 17ms/step - loss: 2.8216 - val_loss: 2.8383\n",
      "Epoch 191/200\n",
      "3/3 [==============================] - 0s 17ms/step - loss: 2.8155 - val_loss: 2.8336\n",
      "Epoch 192/200\n",
      "3/3 [==============================] - 0s 20ms/step - loss: 2.8061 - val_loss: 2.8262\n",
      "Epoch 193/200\n",
      "3/3 [==============================] - 0s 17ms/step - loss: 2.7859 - val_loss: 2.8260\n",
      "Epoch 194/200\n",
      "3/3 [==============================] - 0s 20ms/step - loss: 2.8058 - val_loss: 2.8254\n",
      "Epoch 195/200\n",
      "3/3 [==============================] - 0s 19ms/step - loss: 2.7874 - val_loss: 2.8292\n",
      "Epoch 196/200\n",
      "3/3 [==============================] - 0s 13ms/step - loss: 2.7797 - val_loss: 2.8008\n",
      "Epoch 197/200\n",
      "3/3 [==============================] - 0s 22ms/step - loss: 2.7907 - val_loss: 2.7909\n",
      "Epoch 198/200\n",
      "3/3 [==============================] - 0s 17ms/step - loss: 2.7495 - val_loss: 2.8366\n",
      "Epoch 199/200\n",
      "3/3 [==============================] - 0s 18ms/step - loss: 2.7838 - val_loss: 2.8310\n",
      "Epoch 200/200\n",
      "3/3 [==============================] - 0s 22ms/step - loss: 2.7549 - val_loss: 2.8050\n"
     ]
    }
   ],
   "source": [
    "history = model.fit(X_train, y_train, epochs=200,\n",
    "                    validation_data=(X_valid, y_valid))"
   ]
  },
  {
   "cell_type": "code",
   "execution_count": 66,
   "id": "0b29d35c",
   "metadata": {
    "scrolled": true
   },
   "outputs": [],
   "source": [
    "# history = model.fit(X_train, y_train, epochs=145,\n",
    "#                     validation_data=(X_valid, y_valid), callbacks=[lr_scheduler])"
   ]
  },
  {
   "cell_type": "code",
   "execution_count": 67,
   "id": "28215732",
   "metadata": {},
   "outputs": [
    {
     "name": "stdout",
     "output_type": "stream",
     "text": [
      "Saving figure grid_Gaussian_training_curve\n"
     ]
    },
    {
     "data": {
      "image/png": "[encoded data removed]",
      "text/plain": [
       "<Figure size 576x360 with 1 Axes>"
      ]
     },
     "metadata": {
      "needs_background": "light"
     },
     "output_type": "display_data"
    }
   ],
   "source": [
    "import pandas as pd\n",
    "\n",
    "# print(history.history)\n",
    "try:\n",
    "    lr_list = history.history[\"lr\"]\n",
    "    del(history.history[\"lr\"])\n",
    "except:\n",
    "    pass\n",
    "\n",
    "pd.DataFrame(history.history)[50:].plot(figsize=(8, 5))\n",
    "plt.grid(True)\n",
    "# plt.gca().set_ylim(0, 1)\n",
    "save_fig(\"grid_Gaussian_training_curve\")\n",
    "plt.show()"
   ]
  },
  {
   "cell_type": "code",
   "execution_count": 68,
   "id": "47d362c9",
   "metadata": {
    "scrolled": true
   },
   "outputs": [
    {
     "name": "stdout",
     "output_type": "stream",
     "text": [
      "X.shape = (None, 1)\n",
      "gauss_grid.shape = (None, 5)\n",
      "Saving figure grid_Gaussian_prediction\n"
     ]
    },
    {
     "data": {
      "image/png": "[encoded data removed]",
      "text/plain": [
       "<Figure size 432x288 with 1 Axes>"
      ]
     },
     "metadata": {
      "needs_background": "light"
     },
     "output_type": "display_data"
    }
   ],
   "source": [
    "plt.plot(X_train, y_train, \"b.\")\n",
    "draw_func((lambda X: model.predict(X)[:,0] ), mark='r-', linewidth=2, label=\"Predictions\")\n",
    "draw_normal_func(func_dict)\n",
    "plt.xlabel(\"$x_1$\", fontsize=18)\n",
    "plt.ylabel(\"$y$\", rotation=0, fontsize=18)\n",
    "plt.legend(loc=\"upper left\", fontsize=14)\n",
    "# plt.axis([-3, 3, 0, 10])\n",
    "save_fig(\"grid_Gaussian_prediction\")\n",
    "plt.show()"
   ]
  },
  {
   "cell_type": "code",
   "execution_count": 69,
   "id": "a85a5159",
   "metadata": {},
   "outputs": [
    {
     "name": "stdout",
     "output_type": "stream",
     "text": [
      "y_func.shape = (100, 1)\n",
      "y_gt.shape = (100, 1)\n"
     ]
    },
    {
     "data": {
      "text/plain": [
       "3.273035360377881"
      ]
     },
     "execution_count": 69,
     "metadata": {},
     "output_type": "execute_result"
    }
   ],
   "source": [
    "get_prediction_error((lambda X: model.predict(X)[:,0] ), func_dict, name=\"grid-oneGaussian\")"
   ]
  },
  {
   "cell_type": "markdown",
   "id": "9ca1e36d",
   "metadata": {},
   "source": [
    "### Draw the 1-sigma boundary line"
   ]
  },
  {
   "cell_type": "code",
   "execution_count": 70,
   "id": "a04a47fa",
   "metadata": {},
   "outputs": [
    {
     "name": "stdout",
     "output_type": "stream",
     "text": [
      "Saving figure grid_Gaussian_1sigma\n"
     ]
    },
    {
     "data": {
      "image/png": "[encoded data removed]",
      "text/plain": [
       "<Figure size 432x288 with 1 Axes>"
      ]
     },
     "metadata": {
      "needs_background": "light"
     },
     "output_type": "display_data"
    }
   ],
   "source": [
    "def n_sigma_boundary_line(X, n):\n",
    "    _y = model.predict(X)\n",
    "    _mean, _z = _y[:,0:1], _y[:,1:2]\n",
    "    _sigma = np.exp(alpha*_z)\n",
    "    return( _mean + n*_sigma)\n",
    "\n",
    "plt.plot(X_train, y_train, \"b.\")\n",
    "#\n",
    "draw_func((lambda X: model.predict(X)[:,0] ), mark='r-', linewidth=2, label=\"Predictions\")\n",
    "draw_func((lambda X: n_sigma_boundary_line(X, +1.0) ), mark='k--', linewidth=1, label=\"$\\mu+\\sigma$\")\n",
    "draw_func((lambda X: n_sigma_boundary_line(X, -1.0) ), mark='k--', linewidth=1, label=\"$\\mu-\\sigma$\")\n",
    "#\n",
    "draw_normal_func(func_dict)\n",
    "plt.xlabel(\"$x_1$\", fontsize=18)\n",
    "plt.ylabel(\"$y$\", rotation=0, fontsize=18)\n",
    "plt.legend(loc=\"upper left\", fontsize=14)\n",
    "# plt.axis([-3, 3, 0, 10])\n",
    "save_fig(\"grid_Gaussian_1sigma\")\n",
    "plt.show()"
   ]
  },
  {
   "cell_type": "code",
   "execution_count": null,
   "id": "a820404f",
   "metadata": {},
   "outputs": [],
   "source": []
  },
  {
   "cell_type": "markdown",
   "id": "82ec4fc4",
   "metadata": {},
   "source": [
    "# Summary"
   ]
  },
  {
   "cell_type": "code",
   "execution_count": 71,
   "id": "2d764d70",
   "metadata": {},
   "outputs": [
    {
     "name": "stdout",
     "output_type": "stream",
     "text": [
      "num-num: 5.947674\n",
      "grid-num: 4.702107\n",
      "grid-rbc: 3.167653\n",
      "grid-quantileR: 1.489880\n",
      "grid-oneGaussian: 3.273035\n",
      "\n"
     ]
    }
   ],
   "source": [
    "results = print_all_prediction_error()"
   ]
  },
  {
   "cell_type": "code",
   "execution_count": 72,
   "id": "9f01e530",
   "metadata": {},
   "outputs": [
    {
     "name": "stdout",
     "output_type": "stream",
     "text": [
      "Saving all prediction errors to [.\\images\\regression_test_2\\prediction_errors.txt].\n"
     ]
    },
    {
     "data": {
      "text/plain": [
       "True"
      ]
     },
     "execution_count": 72,
     "metadata": {},
     "output_type": "execute_result"
    }
   ],
   "source": [
    "save_prediction_errors()"
   ]
  },
  {
   "cell_type": "code",
   "execution_count": null,
   "id": "0c3bdf42",
   "metadata": {},
   "outputs": [],
   "source": []
  }
 ],
 "metadata": {
  "kernelspec": {
   "display_name": "Python 3 (ipykernel)",
   "language": "python",
   "name": "python3"
  },
  "language_info": {
   "codemirror_mode": {
    "name": "ipython",
    "version": 3
   },
   "file_extension": ".py",
   "mimetype": "text/x-python",
   "name": "python",
   "nbconvert_exporter": "python",
   "pygments_lexer": "ipython3",
   "version": "3.9.7"
  }
 },
 "nbformat": 4,
 "nbformat_minor": 5
}
