{
 "cells": [
  {
   "cell_type": "markdown",
   "id": "899fa113",
   "metadata": {},
   "source": [
    "# Regression with Different Output Format under Various Data Conditions\n",
    "\n",
    "In this experience, we test the following output format for regression task under several different data coditions.\n",
    "- Numerical output\n",
    "- Regression as classification (grid-out)\n",
    "\n",
    "The data coditions include:\n",
    "- Sparse (few data)\n",
    "- Grouped\n",
    "  - Biased (parallel data)\n",
    "  - Completely different mode, uncorrelated data (cross)\n",
    "  - Partially diversed (split)"
   ]
  },
  {
   "cell_type": "code",
   "execution_count": 1,
   "id": "625ce7c3",
   "metadata": {},
   "outputs": [],
   "source": [
    "import numpy as np\n",
    "import tensorflow as tf\n",
    "from tensorflow import keras\n",
    "\n",
    "# To plot pretty figures\n",
    "%matplotlib inline\n",
    "import matplotlib as mpl\n",
    "import matplotlib.pyplot as plt\n",
    "mpl.rc('axes', labelsize=14)\n",
    "mpl.rc('xtick', labelsize=12)\n",
    "mpl.rc('ytick', labelsize=12)"
   ]
  },
  {
   "cell_type": "code",
   "execution_count": 2,
   "id": "94e8a077",
   "metadata": {},
   "outputs": [],
   "source": [
    "def draw_func(func_in, x_min=-5, x_max=5, mark='r--', linewidth=1, label='func'):\n",
    "    n_sample = 100\n",
    "    X_func = np.linspace(x_min, x_max, n_sample).reshape(n_sample, 1)\n",
    "    y_func = func_in(X_func)\n",
    "    plt.plot(X_func, y_func, mark, linewidth=linewidth, label=label)"
   ]
  },
  {
   "cell_type": "markdown",
   "id": "c27ffe35",
   "metadata": {},
   "source": [
    "Generate polynomial data"
   ]
  },
  {
   "cell_type": "code",
   "execution_count": 3,
   "id": "ce670ce4",
   "metadata": {},
   "outputs": [],
   "source": [
    "poly_a1 = 5.0\n",
    "# poly_a1 = -10.0 # 5.0\n",
    "#\n",
    "sin_a = 0.0\n",
    "# sin_a = 10.0\n",
    "sin_f = 0.1 # 0.2\n",
    "#\n",
    "def func_0(X): # Reference\n",
    "    return 0.5 * X**3 + 0.5 * X**2 + (poly_a1)*X + 2 + sin_a*np.sin(2.0*np.pi*sin_f*X)\n",
    "def func_1(X): # Variation 1: parellel\n",
    "    return 0.5 * X**3 + 0.5 * X**2 + (poly_a1)*X + 30 + sin_a*np.sin(2.0*np.pi*sin_f*X)\n",
    "def func_2(X): # Variation 2: cross\n",
    "    return -0.5 * X**3 + 0.5 * X**2 + (poly_a1)*X + 30 + sin_a*np.sin(2.0*np.pi*sin_f*X)\n",
    "def func_3(X): # Variation 3: slightly split\n",
    "    return 0.3 * X**3 + 1.0 * X**2 + (poly_a1)*X + 15 + sin_a*np.sin(2.0*np.pi*sin_f*X)\n",
    "def func_4(X): # Sine wave~\n",
    "    return 0.5 * X**3 + 0.5 * X**2 + (poly_a1)*X + 2 + 20.0*np.sin(2.0*np.pi*sin_f*X) # 50.0"
   ]
  },
  {
   "cell_type": "code",
   "execution_count": 4,
   "id": "9463bfff",
   "metadata": {},
   "outputs": [],
   "source": [
    "func_dict = dict()\n",
    "#-----------------#\n",
    "func_dict[\"f1\"] = func_0\n",
    "#-----------------#\n",
    "# func_dict[\"f2\"] = func_1\n",
    "# func_dict[\"f2\"] = func_2\n",
    "func_dict[\"f2\"] = func_3\n",
    "# func_dict[\"f2\"] = func_4\n",
    "#-----------------#\n",
    "func_dict[\"f3\"] = func_4\n",
    "#-----------------#\n",
    "\n",
    "# Note: func_dict[\"f_avg\"] depends on multiout_type and is calculated in each section of multiout_type"
   ]
  },
  {
   "cell_type": "code",
   "execution_count": 5,
   "id": "63437d0c",
   "metadata": {},
   "outputs": [
    {
     "name": "stdout",
     "output_type": "stream",
     "text": [
      "(m, m_train) = (100, 80)\n",
      "y_data_pure.shape = (100, 1)\n",
      "y_data.shape = (100, 1)\n"
     ]
    }
   ],
   "source": [
    "np.random.seed(42)\n",
    "m = 100 # 50 # 100 # 200\n",
    "m_train = m // 5 * 4\n",
    "print(\"(m, m_train) = (%d, %d)\" % (m, m_train))\n",
    "\n",
    "# Input\n",
    "is_gapped = True\n",
    "# is_gapped = False\n",
    "#\n",
    "if not is_gapped:\n",
    "    X_data = 10 * np.random.rand(m, 1) - 5 # Note: X is randomly sampled, so we don't need to shuffle the data again\n",
    "else:\n",
    "    X_data = np.concatenate( (np.linspace(-5.0, -2.0, m//2), np.linspace(2.0, 5.0, m-m//2)) )\n",
    "    X_data = X_data.reshape((m,1))\n",
    "    np.random.shuffle(X_data)\n",
    "\n",
    "# Output, multiout_type in {1, 2, 3}\n",
    "# multiout_type = 1      \n",
    "multiout_type = 2 \n",
    "# multiout_type = 3 \n",
    "if multiout_type == 2:\n",
    "    m_h = m // 2\n",
    "    X_data_1 = X_data[:m_h]\n",
    "    X_data_2 = X_data[m_h:]\n",
    "    y_data_pure_1 = func_dict[\"f1\"](X_data_1) \n",
    "    y_data_pure_2 = func_dict[\"f2\"](X_data_2) \n",
    "    y_data_pure = np.vstack([y_data_pure_1, y_data_pure_2])\n",
    "    print(\"y_data_pure.shape = %s\" % str(y_data_pure.shape))\n",
    "    # Average line\n",
    "    func_dict[\"f_avg\"] = ( lambda X: 0.5*func_dict[\"f1\"](X) + 0.5*func_dict[\"f2\"](X) )\n",
    "    #\n",
    "elif multiout_type == 3: # with \"avg\" line\n",
    "    m_t = m // 3\n",
    "    X_data_1 = X_data[:m_t]\n",
    "    X_data_2 = X_data[m_t:(2*m_t)]\n",
    "    X_data_3 = X_data[(2*m_t):]\n",
    "    y_data_pure_1 = func_dict[\"f1\"](X_data_1) \n",
    "    y_data_pure_2 = func_dict[\"f2\"](X_data_2) \n",
    "    y_data_pure_3 = func_dict[\"f3\"](X_data_3) \n",
    "    y_data_pure = np.vstack([y_data_pure_1, y_data_pure_2, y_data_pure_3])\n",
    "    print(\"y_data_pure.shape = %s\" % str(y_data_pure.shape))\n",
    "    # Average line\n",
    "    func_dict[\"f_avg\"] = ( lambda X: (func_dict[\"f1\"](X) + func_dict[\"f2\"](X) + func_dict[\"f3\"](X))/3.0 )\n",
    "    #\n",
    "else: # multiout_type == 1\n",
    "    # Average line\n",
    "    func_dict[\"f_avg\"] = ( lambda X: 0.5*func_dict[\"f1\"](X) + 0.5*func_dict[\"f2\"](X) )\n",
    "    y_data_pure = func_dict[\"f_avg\"](X_data)\n",
    "\n",
    "    \n",
    "# Label (+noise)\n",
    "n_stddev = 2.0\n",
    "# n_stddev = 10.0\n",
    "y_data = y_data_pure + np.random.randn(m, 1) * n_stddev\n",
    "print(\"y_data.shape = %s\" % str(y_data.shape))"
   ]
  },
  {
   "cell_type": "code",
   "execution_count": 6,
   "id": "ef588fae",
   "metadata": {},
   "outputs": [],
   "source": [
    "# Method 1: simply slice\n",
    "# X_train = X_data[:m_train]\n",
    "# y_train = y_data[:m_train]\n",
    "# X_valid = X_data[m_train:]\n",
    "# y_valid = y_data[m_train:]\n",
    "\n",
    "# Method 2: shuffle\n",
    "from sklearn.model_selection import train_test_split\n",
    "X_train, X_valid, y_train, y_valid = train_test_split(X_data, y_data, test_size=0.2, random_state=42)"
   ]
  },
  {
   "cell_type": "code",
   "execution_count": 7,
   "id": "3b5d2cfe",
   "metadata": {},
   "outputs": [
    {
     "name": "stdout",
     "output_type": "stream",
     "text": [
      "(80, 1)\n"
     ]
    }
   ],
   "source": [
    "print(X_train.shape)"
   ]
  },
  {
   "cell_type": "code",
   "execution_count": 8,
   "id": "9bd2136c",
   "metadata": {},
   "outputs": [],
   "source": [
    "def draw_normal_func(func_dict):\n",
    "    draw_func(func_dict[\"f1\"], mark='c:', label=\"f1\")\n",
    "    draw_func(func_dict[\"f2\"], mark='g:', label=\"f2\")\n",
    "    if multiout_type == 3:\n",
    "        draw_func(func_dict[\"f3\"], mark='y:', label=\"f3\")\n",
    "    draw_func(func_dict[\"f_avg\"], mark='m--', label=\"f_avg\")"
   ]
  },
  {
   "cell_type": "code",
   "execution_count": 9,
   "id": "693af3b7",
   "metadata": {},
   "outputs": [
    {
     "data": {
      "image/png": "[encoded data removed]",
      "text/plain": [
       "<Figure size 432x288 with 1 Axes>"
      ]
     },
     "metadata": {
      "needs_background": "light"
     },
     "output_type": "display_data"
    }
   ],
   "source": [
    "plt.plot(X_train, y_train, \"b.\")\n",
    "draw_normal_func(func_dict)\n",
    "plt.xlabel(\"$x_1$\", fontsize=18)\n",
    "plt.ylabel(\"$y$\", rotation=0, fontsize=18)\n",
    "plt.legend(loc=\"upper left\", fontsize=14)\n",
    "# plt.axis([-3, 3, 0, 10])\n",
    "plt.show()"
   ]
  },
  {
   "cell_type": "code",
   "execution_count": 10,
   "id": "a6853ff1",
   "metadata": {},
   "outputs": [],
   "source": [
    "prediction_error_dict = dict()\n",
    "\n",
    "def get_prediction_error(func_in, func_dict, name=\"\", x_min=-5, x_max=5, prediction_error_dict=prediction_error_dict):\n",
    "    n_sample = 100\n",
    "    X_func = np.linspace(x_min, x_max, n_sample).reshape(n_sample, 1)\n",
    "    y_func = func_in(X_func).reshape((n_sample,1))\n",
    "    y_gt = func_dict[\"f_avg\"](X_func).reshape((n_sample,1))\n",
    "    print(\"y_func.shape = %s\" % str(y_func.shape))\n",
    "    print(\"y_gt.shape = %s\" % str(y_gt.shape))\n",
    "#     total_error = np.sqrt(np.square(y_func - y_gt).mean())\n",
    "    total_error = np.abs(y_func - y_gt).mean()\n",
    "    prediction_error_dict[name] = total_error\n",
    "    return total_error\n",
    "\n",
    "def print_all_prediction_error(prediction_error_dict=prediction_error_dict):\n",
    "    for _n in prediction_error_dict:\n",
    "        print(\"%s: %f\" % (_n, prediction_error_dict[_n]))"
   ]
  },
  {
   "cell_type": "markdown",
   "id": "053ecc57",
   "metadata": {},
   "source": [
    "# Simple FCs (number --> number)"
   ]
  },
  {
   "cell_type": "markdown",
   "id": "c66eb67b",
   "metadata": {},
   "source": [
    "Build the regression model"
   ]
  },
  {
   "cell_type": "code",
   "execution_count": 11,
   "id": "9449fc0b",
   "metadata": {},
   "outputs": [
    {
     "name": "stderr",
     "output_type": "stream",
     "text": [
      "C:\\Users\\benso\\anaconda3\\envs\\ml\\lib\\site-packages\\keras\\optimizer_v2\\gradient_descent.py:102: UserWarning: The `lr` argument is deprecated, use `learning_rate` instead.\n",
      "  super(SGD, self).__init__(name, **kwargs)\n"
     ]
    }
   ],
   "source": [
    "model = keras.models.Sequential([\n",
    "    keras.layers.Dense(30, activation=\"relu\", input_shape=X_train.shape[1:]),\n",
    "    keras.layers.Dense(30, activation=\"relu\"),\n",
    "    keras.layers.Dense(1)\n",
    "])\n",
    "\n",
    "optimizer = keras.optimizers.SGD(lr=0.0001, momentum=0.9)\n",
    "model.compile(loss=\"mean_squared_error\", optimizer=optimizer)\n",
    "# optimizer = keras.optimizers.Adam(lr=0.01)\n",
    "# model.compile(loss=\"mean_absolute_error\", optimizer=optimizer)"
   ]
  },
  {
   "cell_type": "code",
   "execution_count": 12,
   "id": "92afd68a",
   "metadata": {
    "scrolled": true
   },
   "outputs": [
    {
     "name": "stdout",
     "output_type": "stream",
     "text": [
      "Epoch 1/100\n",
      "3/3 [==============================] - 1s 83ms/step - loss: 2441.7493 - val_loss: 1659.1682\n",
      "Epoch 2/100\n",
      "3/3 [==============================] - 0s 15ms/step - loss: 2296.0034 - val_loss: 1506.3052\n",
      "Epoch 3/100\n",
      "3/3 [==============================] - 0s 29ms/step - loss: 1989.2947 - val_loss: 1156.9196\n",
      "Epoch 4/100\n",
      "3/3 [==============================] - 0s 28ms/step - loss: 1219.8744 - val_loss: 617.0216\n",
      "Epoch 5/100\n",
      "3/3 [==============================] - 0s 32ms/step - loss: 527.8402 - val_loss: 945.6875\n",
      "Epoch 6/100\n",
      "3/3 [==============================] - 0s 18ms/step - loss: 911.1365 - val_loss: 509.4354\n",
      "Epoch 7/100\n",
      "3/3 [==============================] - 0s 24ms/step - loss: 428.1376 - val_loss: 545.1680\n",
      "Epoch 8/100\n",
      "3/3 [==============================] - 0s 33ms/step - loss: 602.7722 - val_loss: 440.8771\n",
      "Epoch 9/100\n",
      "3/3 [==============================] - 0s 36ms/step - loss: 393.2274 - val_loss: 248.3131\n",
      "Epoch 10/100\n",
      "3/3 [==============================] - 0s 27ms/step - loss: 265.8626 - val_loss: 267.9207\n",
      "Epoch 11/100\n",
      "3/3 [==============================] - 0s 41ms/step - loss: 281.5190 - val_loss: 181.2177\n",
      "Epoch 12/100\n",
      "3/3 [==============================] - 0s 39ms/step - loss: 243.7404 - val_loss: 223.9712\n",
      "Epoch 13/100\n",
      "3/3 [==============================] - 0s 26ms/step - loss: 292.4481 - val_loss: 184.9336\n",
      "Epoch 14/100\n",
      "3/3 [==============================] - 0s 20ms/step - loss: 228.3003 - val_loss: 188.1948\n",
      "Epoch 15/100\n",
      "3/3 [==============================] - 0s 17ms/step - loss: 214.9436 - val_loss: 201.6701\n",
      "Epoch 16/100\n",
      "3/3 [==============================] - 0s 17ms/step - loss: 207.2653 - val_loss: 205.5494\n",
      "Epoch 17/100\n",
      "3/3 [==============================] - 0s 20ms/step - loss: 214.3068 - val_loss: 204.5636\n",
      "Epoch 18/100\n",
      "3/3 [==============================] - 0s 13ms/step - loss: 207.2623 - val_loss: 193.4184\n",
      "Epoch 19/100\n",
      "3/3 [==============================] - 0s 24ms/step - loss: 197.7684 - val_loss: 184.3151\n",
      "Epoch 20/100\n",
      "3/3 [==============================] - 0s 17ms/step - loss: 198.3706 - val_loss: 171.4795\n",
      "Epoch 21/100\n",
      "3/3 [==============================] - 0s 18ms/step - loss: 196.0337 - val_loss: 168.0389\n",
      "Epoch 22/100\n",
      "3/3 [==============================] - 0s 18ms/step - loss: 199.7963 - val_loss: 167.6756\n",
      "Epoch 23/100\n",
      "3/3 [==============================] - 0s 17ms/step - loss: 195.2725 - val_loss: 170.3797\n",
      "Epoch 24/100\n",
      "3/3 [==============================] - 0s 21ms/step - loss: 193.2180 - val_loss: 175.3835\n",
      "Epoch 25/100\n",
      "3/3 [==============================] - 0s 18ms/step - loss: 190.7264 - val_loss: 177.3821\n",
      "Epoch 26/100\n",
      "3/3 [==============================] - 0s 17ms/step - loss: 191.5167 - val_loss: 180.1738\n",
      "Epoch 27/100\n",
      "3/3 [==============================] - 0s 21ms/step - loss: 191.4068 - val_loss: 178.4633\n",
      "Epoch 28/100\n",
      "3/3 [==============================] - 0s 14ms/step - loss: 191.3499 - val_loss: 177.6257\n",
      "Epoch 29/100\n",
      "3/3 [==============================] - 0s 21ms/step - loss: 188.3356 - val_loss: 172.3732\n",
      "Epoch 30/100\n",
      "3/3 [==============================] - 0s 16ms/step - loss: 186.3654 - val_loss: 165.6109\n",
      "Epoch 31/100\n",
      "3/3 [==============================] - 0s 17ms/step - loss: 194.6676 - val_loss: 164.5707\n",
      "Epoch 32/100\n",
      "3/3 [==============================] - 0s 25ms/step - loss: 190.4339 - val_loss: 165.4980\n",
      "Epoch 33/100\n",
      "3/3 [==============================] - 0s 23ms/step - loss: 186.8512 - val_loss: 169.5815\n",
      "Epoch 34/100\n",
      "3/3 [==============================] - ETA: 0s - loss: 171.540 - 0s 18ms/step - loss: 186.5083 - val_loss: 175.2946\n",
      "Epoch 35/100\n",
      "3/3 [==============================] - 0s 16ms/step - loss: 185.3780 - val_loss: 179.9956\n",
      "Epoch 36/100\n",
      "3/3 [==============================] - 0s 21ms/step - loss: 188.7679 - val_loss: 180.7403\n",
      "Epoch 37/100\n",
      "3/3 [==============================] - 0s 17ms/step - loss: 185.9099 - val_loss: 178.1391\n",
      "Epoch 38/100\n",
      "3/3 [==============================] - 0s 16ms/step - loss: 185.5135 - val_loss: 177.7198\n",
      "Epoch 39/100\n",
      "3/3 [==============================] - 0s 21ms/step - loss: 186.8511 - val_loss: 170.1669\n",
      "Epoch 40/100\n",
      "3/3 [==============================] - 0s 13ms/step - loss: 184.3767 - val_loss: 164.7591\n",
      "Epoch 41/100\n",
      "3/3 [==============================] - 0s 18ms/step - loss: 182.8637 - val_loss: 165.1245\n",
      "Epoch 42/100\n",
      "3/3 [==============================] - 0s 19ms/step - loss: 180.7314 - val_loss: 165.7035\n",
      "Epoch 43/100\n",
      "3/3 [==============================] - 0s 16ms/step - loss: 182.7383 - val_loss: 161.5928\n",
      "Epoch 44/100\n",
      "3/3 [==============================] - 0s 21ms/step - loss: 180.6487 - val_loss: 161.7049\n",
      "Epoch 45/100\n",
      "3/3 [==============================] - 0s 18ms/step - loss: 183.8299 - val_loss: 166.2959\n",
      "Epoch 46/100\n",
      "3/3 [==============================] - 0s 16ms/step - loss: 180.1092 - val_loss: 170.6391\n",
      "Epoch 47/100\n",
      "3/3 [==============================] - 0s 22ms/step - loss: 180.2259 - val_loss: 163.5455\n",
      "Epoch 48/100\n",
      "3/3 [==============================] - 0s 16ms/step - loss: 176.7113 - val_loss: 160.3129\n",
      "Epoch 49/100\n",
      "3/3 [==============================] - 0s 16ms/step - loss: 179.4984 - val_loss: 162.3333\n",
      "Epoch 50/100\n",
      "3/3 [==============================] - 0s 21ms/step - loss: 177.7951 - val_loss: 163.6529\n",
      "Epoch 51/100\n",
      "3/3 [==============================] - 0s 22ms/step - loss: 176.5944 - val_loss: 165.6371\n",
      "Epoch 52/100\n",
      "3/3 [==============================] - 0s 17ms/step - loss: 175.8835 - val_loss: 165.2482\n",
      "Epoch 53/100\n",
      "3/3 [==============================] - 0s 16ms/step - loss: 174.9868 - val_loss: 164.3981\n",
      "Epoch 54/100\n",
      "3/3 [==============================] - 0s 20ms/step - loss: 175.6848 - val_loss: 165.8768\n",
      "Epoch 55/100\n",
      "3/3 [==============================] - 0s 25ms/step - loss: 173.7843 - val_loss: 161.8915\n",
      "Epoch 56/100\n",
      "3/3 [==============================] - 0s 16ms/step - loss: 173.6787 - val_loss: 156.4190\n",
      "Epoch 57/100\n",
      "3/3 [==============================] - 0s 18ms/step - loss: 174.0592 - val_loss: 155.9150\n",
      "Epoch 58/100\n",
      "3/3 [==============================] - 0s 21ms/step - loss: 172.9946 - val_loss: 158.1921\n",
      "Epoch 59/100\n",
      "3/3 [==============================] - 0s 14ms/step - loss: 172.4047 - val_loss: 161.5093\n",
      "Epoch 60/100\n",
      "3/3 [==============================] - 0s 20ms/step - loss: 175.1634 - val_loss: 160.9201\n",
      "Epoch 61/100\n",
      "3/3 [==============================] - 0s 17ms/step - loss: 171.7322 - val_loss: 162.1675\n",
      "Epoch 62/100\n",
      "3/3 [==============================] - 0s 18ms/step - loss: 173.7382 - val_loss: 165.9447\n",
      "Epoch 63/100\n",
      "3/3 [==============================] - 0s 21ms/step - loss: 173.8489 - val_loss: 172.2910\n",
      "Epoch 64/100\n",
      "3/3 [==============================] - 0s 14ms/step - loss: 173.1208 - val_loss: 162.1866\n",
      "Epoch 65/100\n",
      "3/3 [==============================] - 0s 22ms/step - loss: 169.4535 - val_loss: 155.4573\n",
      "Epoch 66/100\n",
      "3/3 [==============================] - 0s 19ms/step - loss: 168.9369 - val_loss: 152.4423\n",
      "Epoch 67/100\n",
      "3/3 [==============================] - 0s 17ms/step - loss: 171.4164 - val_loss: 151.1871\n",
      "Epoch 68/100\n",
      "3/3 [==============================] - 0s 18ms/step - loss: 169.1053 - val_loss: 155.2134\n",
      "Epoch 69/100\n",
      "3/3 [==============================] - 0s 22ms/step - loss: 168.0643 - val_loss: 157.6418\n",
      "Epoch 70/100\n",
      "3/3 [==============================] - 0s 17ms/step - loss: 167.1421 - val_loss: 160.7219\n",
      "Epoch 71/100\n",
      "3/3 [==============================] - 0s 18ms/step - loss: 168.0313 - val_loss: 158.9606\n",
      "Epoch 72/100\n",
      "3/3 [==============================] - 0s 22ms/step - loss: 167.7527 - val_loss: 160.6848\n",
      "Epoch 73/100\n",
      "3/3 [==============================] - 0s 17ms/step - loss: 167.4643 - val_loss: 160.5277\n",
      "Epoch 74/100\n",
      "3/3 [==============================] - 0s 22ms/step - loss: 167.9724 - val_loss: 156.3433\n",
      "Epoch 75/100\n",
      "3/3 [==============================] - 0s 17ms/step - loss: 165.4090 - val_loss: 149.6902\n",
      "Epoch 76/100\n",
      "3/3 [==============================] - 0s 18ms/step - loss: 167.2843 - val_loss: 148.5455\n",
      "Epoch 77/100\n",
      "3/3 [==============================] - 0s 24ms/step - loss: 166.0072 - val_loss: 148.9090\n",
      "Epoch 78/100\n",
      "3/3 [==============================] - 0s 23ms/step - loss: 164.8583 - val_loss: 150.3383\n",
      "Epoch 79/100\n",
      "3/3 [==============================] - 0s 18ms/step - loss: 165.8020 - val_loss: 150.3073\n",
      "Epoch 80/100\n"
     ]
    },
    {
     "name": "stdout",
     "output_type": "stream",
     "text": [
      "3/3 [==============================] - 0s 21ms/step - loss: 164.7900 - val_loss: 148.9276\n",
      "Epoch 81/100\n",
      "3/3 [==============================] - 0s 17ms/step - loss: 165.2211 - val_loss: 153.9752\n",
      "Epoch 82/100\n",
      "3/3 [==============================] - 0s 21ms/step - loss: 165.1404 - val_loss: 154.2038\n",
      "Epoch 83/100\n",
      "3/3 [==============================] - 0s 13ms/step - loss: 166.4126 - val_loss: 147.9896\n",
      "Epoch 84/100\n",
      "3/3 [==============================] - 0s 22ms/step - loss: 164.7784 - val_loss: 148.6326\n",
      "Epoch 85/100\n",
      "3/3 [==============================] - 0s 14ms/step - loss: 162.5166 - val_loss: 151.7630\n",
      "Epoch 86/100\n",
      "3/3 [==============================] - 0s 21ms/step - loss: 167.5772 - val_loss: 149.0221\n",
      "Epoch 87/100\n",
      "3/3 [==============================] - 0s 13ms/step - loss: 166.6118 - val_loss: 144.8147\n",
      "Epoch 88/100\n",
      "3/3 [==============================] - 0s 22ms/step - loss: 162.5802 - val_loss: 149.9107\n",
      "Epoch 89/100\n",
      "3/3 [==============================] - 0s 13ms/step - loss: 164.2497 - val_loss: 156.8241\n",
      "Epoch 90/100\n",
      "3/3 [==============================] - 0s 22ms/step - loss: 164.8822 - val_loss: 150.5121\n",
      "Epoch 91/100\n",
      "3/3 [==============================] - 0s 18ms/step - loss: 161.8922 - val_loss: 146.9201\n",
      "Epoch 92/100\n",
      "3/3 [==============================] - 0s 21ms/step - loss: 161.0590 - val_loss: 146.0153\n",
      "Epoch 93/100\n",
      "3/3 [==============================] - 0s 19ms/step - loss: 162.3831 - val_loss: 145.8523\n",
      "Epoch 94/100\n",
      "3/3 [==============================] - 0s 17ms/step - loss: 162.4354 - val_loss: 139.6421\n",
      "Epoch 95/100\n",
      "3/3 [==============================] - 0s 17ms/step - loss: 163.8889 - val_loss: 140.4295\n",
      "Epoch 96/100\n",
      "3/3 [==============================] - 0s 22ms/step - loss: 161.5415 - val_loss: 145.3713\n",
      "Epoch 97/100\n",
      "3/3 [==============================] - 0s 14ms/step - loss: 161.1991 - val_loss: 143.8843\n",
      "Epoch 98/100\n",
      "3/3 [==============================] - 0s 22ms/step - loss: 158.9547 - val_loss: 142.8225\n",
      "Epoch 99/100\n",
      "3/3 [==============================] - 0s 20ms/step - loss: 160.0083 - val_loss: 148.0325\n",
      "Epoch 100/100\n",
      "3/3 [==============================] - 0s 21ms/step - loss: 159.4939 - val_loss: 148.7370\n"
     ]
    }
   ],
   "source": [
    "history = model.fit(X_train, y_train, epochs=100,\n",
    "                    validation_data=(X_valid, y_valid))"
   ]
  },
  {
   "cell_type": "markdown",
   "id": "17d6e37a",
   "metadata": {},
   "source": [
    "Plot the result"
   ]
  },
  {
   "cell_type": "code",
   "execution_count": 13,
   "id": "3b066f5c",
   "metadata": {},
   "outputs": [
    {
     "data": {
      "image/png": "[encoded data removed]",
      "text/plain": [
       "<Figure size 576x360 with 1 Axes>"
      ]
     },
     "metadata": {
      "needs_background": "light"
     },
     "output_type": "display_data"
    }
   ],
   "source": [
    "import pandas as pd\n",
    "\n",
    "pd.DataFrame(history.history).plot(figsize=(8, 5))\n",
    "plt.grid(True)\n",
    "# plt.gca().set_ylim(0, 1)\n",
    "plt.show()"
   ]
  },
  {
   "cell_type": "code",
   "execution_count": 14,
   "id": "03f9bb54",
   "metadata": {},
   "outputs": [
    {
     "data": {
      "image/png": "[encoded data removed]",
      "text/plain": [
       "<Figure size 432x288 with 1 Axes>"
      ]
     },
     "metadata": {
      "needs_background": "light"
     },
     "output_type": "display_data"
    }
   ],
   "source": [
    "# X_new = np.linspace(-5, 5, 100).reshape(100, 1)\n",
    "# y_new = model.predict(X_new)\n",
    "#\n",
    "plt.plot(X_train, y_train, \"b.\")\n",
    "# plt.plot(X_new, y_new, \"r-\", linewidth=2, label=\"Predictions\")\n",
    "draw_func(model.predict, mark='r-', linewidth=2, label=\"Predictions\")\n",
    "draw_normal_func(func_dict)\n",
    "plt.xlabel(\"$x_1$\", fontsize=18)\n",
    "plt.ylabel(\"$y$\", rotation=0, fontsize=18)\n",
    "plt.legend(loc=\"upper left\", fontsize=14)\n",
    "# plt.axis([-3, 3, 0, 10])\n",
    "plt.show()"
   ]
  },
  {
   "cell_type": "code",
   "execution_count": 15,
   "id": "bc06d931",
   "metadata": {},
   "outputs": [
    {
     "name": "stdout",
     "output_type": "stream",
     "text": [
      "y_func.shape = (100, 1)\n",
      "y_gt.shape = (100, 1)\n"
     ]
    },
    {
     "data": {
      "text/plain": [
       "5.959351907698322"
      ]
     },
     "execution_count": 15,
     "metadata": {},
     "output_type": "execute_result"
    }
   ],
   "source": [
    "get_prediction_error(model.predict, func_dict, name=\"num-num\")"
   ]
  },
  {
   "cell_type": "markdown",
   "id": "58da8768",
   "metadata": {},
   "source": [
    "# Simulated CNN Feature Map (1-D grids, grid --> number)"
   ]
  },
  {
   "cell_type": "code",
   "execution_count": 16,
   "id": "287b5e4c",
   "metadata": {},
   "outputs": [],
   "source": [
    "class num2grid(keras.layers.Layer):\n",
    "    def __init__(self, units, x_min=-10, x_max=10, sigma=1.0, activation=None, **kwargs):\n",
    "        super().__init__(**kwargs)\n",
    "        self.units = units\n",
    "        self.x_min = x_min\n",
    "        self.x_max = x_max\n",
    "        self.sigma = sigma\n",
    "        self.sigma2 = self.sigma**2\n",
    "        self.activation = keras.activations.get(activation)\n",
    "        \n",
    "    def build(self, batch_input_shape):\n",
    "        #\n",
    "        self.x_grid = np.linspace(self.x_min, self.x_max, self.units, endpoint=True)\n",
    "#         print(\"self.x_grid.shape = %s\" % str(self.x_grid.shape))\n",
    "        #\n",
    "        super().build(batch_input_shape) # must be at the end\n",
    "        \n",
    "    def call(self, X):\n",
    "        '''\n",
    "        Input shape:  (batch, X_chanel)\n",
    "        Output shape: (batch, grid_unit) \n",
    "        \n",
    "        self.x_grid shape: (grid_unit,)\n",
    "        '''\n",
    "        gauss_grid = tf.exp( -(self.x_grid - X)**2 / (2.0*self.sigma2) )\n",
    "        print(\"X.shape = %s\" % str(X.shape))\n",
    "        print(\"gauss_grid.shape = %s\" % str(gauss_grid.shape))\n",
    "        return self.activation(gauss_grid)\n",
    "    \n",
    "    def compute_output_shape(self, batch_input_shape):\n",
    "        return tf.TensorShape(batch_input_shape.as_list()[:-1] + [self.units])\n",
    "    \n",
    "    def get_config(self):\n",
    "        base_config = super().get_config()\n",
    "        return {**base_config, \n",
    "                \"units\": self.units,\n",
    "                \"x_min\": self.x_min,\n",
    "                \"x_max\": self.x_max,\n",
    "                \"sigma\": self.sigma,\n",
    "                \"activation\": keras.activations.serialize(self.activation)}"
   ]
  },
  {
   "cell_type": "code",
   "execution_count": 17,
   "id": "f463c12a",
   "metadata": {},
   "outputs": [
    {
     "name": "stdout",
     "output_type": "stream",
     "text": [
      "X.shape = (None, 1)\n",
      "gauss_grid.shape = (None, 5)\n"
     ]
    },
    {
     "name": "stderr",
     "output_type": "stream",
     "text": [
      "C:\\Users\\benso\\anaconda3\\envs\\ml\\lib\\site-packages\\keras\\optimizer_v2\\adam.py:105: UserWarning: The `lr` argument is deprecated, use `learning_rate` instead.\n",
      "  super(Adam, self).__init__(name, **kwargs)\n"
     ]
    }
   ],
   "source": [
    "model = keras.models.Sequential([\n",
    "    num2grid(5,x_min=-10, x_max=10, sigma=3.0, input_shape=X_train.shape[1:]),\n",
    "    keras.layers.Dense(30, activation=\"relu\"),\n",
    "#     keras.layers.Dense(100, activation=\"relu\", kernel_regularizer=tf.keras.regularizers.l1(0.01)),\n",
    "#     keras.layers.Dense(30, activation=keras.layers.LeakyReLU(alpha=0.2) ),\n",
    "#     keras.layers.Dense(30, activation=\"selu\"),\n",
    "#     keras.layers.Dense(30, activation=\"relu\"),\n",
    "    keras.layers.Dense(1)\n",
    "])\n",
    "\n",
    "# optimizer = keras.optimizers.SGD(lr=0.001, momentum=0.9)\n",
    "# model.compile(loss=\"mean_squared_error\", optimizer=optimizer)\n",
    "optimizer = keras.optimizers.Adam(lr=0.1)\n",
    "model.compile(loss=\"mean_absolute_error\", optimizer=optimizer)"
   ]
  },
  {
   "cell_type": "code",
   "execution_count": 18,
   "id": "c966ada4",
   "metadata": {
    "scrolled": true
   },
   "outputs": [
    {
     "name": "stdout",
     "output_type": "stream",
     "text": [
      "Epoch 1/100\n",
      "X.shape = (None, 1)\n",
      "gauss_grid.shape = (None, 5)\n",
      "X.shape = (None, 1)\n",
      "gauss_grid.shape = (None, 5)\n",
      "1/3 [=========>....................] - ETA: 0s - loss: 49.6191X.shape = (None, 1)\n",
      "gauss_grid.shape = (None, 5)\n",
      "3/3 [==============================] - 1s 73ms/step - loss: 41.4378 - val_loss: 33.1338\n",
      "Epoch 2/100\n",
      "3/3 [==============================] - 0s 13ms/step - loss: 38.9529 - val_loss: 30.5218\n",
      "Epoch 3/100\n",
      "3/3 [==============================] - 0s 14ms/step - loss: 34.3355 - val_loss: 26.3742\n",
      "Epoch 4/100\n",
      "3/3 [==============================] - 0s 25ms/step - loss: 27.5060 - val_loss: 20.7647\n",
      "Epoch 5/100\n",
      "3/3 [==============================] - 0s 37ms/step - loss: 20.2210 - val_loss: 14.7814\n",
      "Epoch 6/100\n",
      "3/3 [==============================] - 0s 31ms/step - loss: 16.7722 - val_loss: 11.0227\n",
      "Epoch 7/100\n",
      "3/3 [==============================] - 0s 33ms/step - loss: 17.0893 - val_loss: 10.8772\n",
      "Epoch 8/100\n",
      "3/3 [==============================] - 0s 32ms/step - loss: 18.0310 - val_loss: 11.9280\n",
      "Epoch 9/100\n",
      "3/3 [==============================] - 0s 35ms/step - loss: 16.3740 - val_loss: 8.6546\n",
      "Epoch 10/100\n",
      "3/3 [==============================] - 0s 22ms/step - loss: 14.7277 - val_loss: 9.5996\n",
      "Epoch 11/100\n",
      "3/3 [==============================] - ETA: 0s - loss: 13.30 - 0s 23ms/step - loss: 13.7009 - val_loss: 10.3558\n",
      "Epoch 12/100\n",
      "3/3 [==============================] - 0s 16ms/step - loss: 13.4336 - val_loss: 10.4137\n",
      "Epoch 13/100\n",
      "3/3 [==============================] - 0s 20ms/step - loss: 12.6002 - val_loss: 9.8975\n",
      "Epoch 14/100\n",
      "3/3 [==============================] - 0s 22ms/step - loss: 12.0170 - val_loss: 9.6240\n",
      "Epoch 15/100\n",
      "3/3 [==============================] - 0s 22ms/step - loss: 11.6658 - val_loss: 10.2980\n",
      "Epoch 16/100\n",
      "3/3 [==============================] - 0s 16ms/step - loss: 11.2432 - val_loss: 10.4625\n",
      "Epoch 17/100\n",
      "3/3 [==============================] - 0s 16ms/step - loss: 10.9375 - val_loss: 11.3458\n",
      "Epoch 18/100\n",
      "3/3 [==============================] - 0s 22ms/step - loss: 10.3009 - val_loss: 13.0421\n",
      "Epoch 19/100\n",
      "3/3 [==============================] - 0s 16ms/step - loss: 10.6388 - val_loss: 12.6412\n",
      "Epoch 20/100\n",
      "3/3 [==============================] - 0s 17ms/step - loss: 10.3877 - val_loss: 12.6362\n",
      "Epoch 21/100\n",
      "3/3 [==============================] - 0s 22ms/step - loss: 10.0294 - val_loss: 13.3714\n",
      "Epoch 22/100\n",
      "3/3 [==============================] - 0s 16ms/step - loss: 10.0636 - val_loss: 12.6675\n",
      "Epoch 23/100\n",
      "3/3 [==============================] - 0s 20ms/step - loss: 10.0093 - val_loss: 12.4474\n",
      "Epoch 24/100\n",
      "3/3 [==============================] - 0s 16ms/step - loss: 10.4062 - val_loss: 13.0823\n",
      "Epoch 25/100\n",
      "3/3 [==============================] - 0s 16ms/step - loss: 10.0330 - val_loss: 12.9253\n",
      "Epoch 26/100\n",
      "3/3 [==============================] - 0s 16ms/step - loss: 10.1478 - val_loss: 12.8156\n",
      "Epoch 27/100\n",
      "3/3 [==============================] - 0s 20ms/step - loss: 10.0735 - val_loss: 12.8681\n",
      "Epoch 28/100\n",
      "3/3 [==============================] - 0s 16ms/step - loss: 9.9159 - val_loss: 12.4333\n",
      "Epoch 29/100\n",
      "3/3 [==============================] - 0s 22ms/step - loss: 9.6112 - val_loss: 11.9790\n",
      "Epoch 30/100\n",
      "3/3 [==============================] - 0s 16ms/step - loss: 10.4318 - val_loss: 11.8777\n",
      "Epoch 31/100\n",
      "3/3 [==============================] - 0s 19ms/step - loss: 10.9856 - val_loss: 13.7578\n",
      "Epoch 32/100\n",
      "3/3 [==============================] - 0s 13ms/step - loss: 10.2138 - val_loss: 11.6566\n",
      "Epoch 33/100\n",
      "3/3 [==============================] - 0s 20ms/step - loss: 10.1841 - val_loss: 11.6327\n",
      "Epoch 34/100\n",
      "3/3 [==============================] - 0s 16ms/step - loss: 9.6403 - val_loss: 12.9173\n",
      "Epoch 35/100\n",
      "3/3 [==============================] - 0s 23ms/step - loss: 10.0551 - val_loss: 11.6583\n",
      "Epoch 36/100\n",
      "3/3 [==============================] - 0s 18ms/step - loss: 10.0323 - val_loss: 11.9251\n",
      "Epoch 37/100\n",
      "3/3 [==============================] - 0s 29ms/step - loss: 9.6435 - val_loss: 13.0509\n",
      "Epoch 38/100\n",
      "3/3 [==============================] - 0s 18ms/step - loss: 10.2003 - val_loss: 12.6871\n",
      "Epoch 39/100\n",
      "3/3 [==============================] - 0s 17ms/step - loss: 9.8837 - val_loss: 11.8844\n",
      "Epoch 40/100\n",
      "3/3 [==============================] - 0s 17ms/step - loss: 9.7587 - val_loss: 11.7327\n",
      "Epoch 41/100\n",
      "3/3 [==============================] - 0s 24ms/step - loss: 9.8324 - val_loss: 11.3212\n",
      "Epoch 42/100\n",
      "3/3 [==============================] - 0s 16ms/step - loss: 9.5706 - val_loss: 11.1125\n",
      "Epoch 43/100\n",
      "3/3 [==============================] - 0s 16ms/step - loss: 9.9266 - val_loss: 11.9893\n",
      "Epoch 44/100\n",
      "3/3 [==============================] - 0s 19ms/step - loss: 9.5314 - val_loss: 11.5980\n",
      "Epoch 45/100\n",
      "3/3 [==============================] - 0s 16ms/step - loss: 9.4935 - val_loss: 11.5419\n",
      "Epoch 46/100\n",
      "3/3 [==============================] - 0s 22ms/step - loss: 9.4470 - val_loss: 11.4442\n",
      "Epoch 47/100\n",
      "3/3 [==============================] - 0s 16ms/step - loss: 9.6020 - val_loss: 10.8029\n",
      "Epoch 48/100\n",
      "3/3 [==============================] - 0s 17ms/step - loss: 9.5948 - val_loss: 10.8438\n",
      "Epoch 49/100\n",
      "3/3 [==============================] - 0s 20ms/step - loss: 9.5369 - val_loss: 11.0004\n",
      "Epoch 50/100\n",
      "3/3 [==============================] - 0s 16ms/step - loss: 9.3896 - val_loss: 11.3492\n",
      "Epoch 51/100\n",
      "3/3 [==============================] - 0s 21ms/step - loss: 9.4310 - val_loss: 11.4499\n",
      "Epoch 52/100\n",
      "3/3 [==============================] - 0s 14ms/step - loss: 9.4598 - val_loss: 11.4996\n",
      "Epoch 53/100\n",
      "3/3 [==============================] - 0s 21ms/step - loss: 9.3408 - val_loss: 11.1249\n",
      "Epoch 54/100\n",
      "3/3 [==============================] - 0s 16ms/step - loss: 9.3422 - val_loss: 11.0489\n",
      "Epoch 55/100\n",
      "3/3 [==============================] - 0s 17ms/step - loss: 9.3722 - val_loss: 10.8615\n",
      "Epoch 56/100\n",
      "3/3 [==============================] - 0s 21ms/step - loss: 9.2463 - val_loss: 10.7898\n",
      "Epoch 57/100\n",
      "3/3 [==============================] - 0s 16ms/step - loss: 9.4213 - val_loss: 10.5641\n",
      "Epoch 58/100\n",
      "3/3 [==============================] - 0s 21ms/step - loss: 9.6237 - val_loss: 10.4875\n",
      "Epoch 59/100\n",
      "3/3 [==============================] - 0s 21ms/step - loss: 9.3365 - val_loss: 11.7534\n",
      "Epoch 60/100\n",
      "3/3 [==============================] - 0s 21ms/step - loss: 9.6894 - val_loss: 10.8055\n",
      "Epoch 61/100\n",
      "3/3 [==============================] - 0s 13ms/step - loss: 9.6014 - val_loss: 10.8312\n",
      "Epoch 62/100\n",
      "3/3 [==============================] - 0s 21ms/step - loss: 10.0822 - val_loss: 10.5804\n",
      "Epoch 63/100\n",
      "3/3 [==============================] - 0s 17ms/step - loss: 9.3231 - val_loss: 9.9384\n",
      "Epoch 64/100\n",
      "3/3 [==============================] - 0s 17ms/step - loss: 9.3061 - val_loss: 9.5412\n",
      "Epoch 65/100\n",
      "3/3 [==============================] - 0s 21ms/step - loss: 9.3626 - val_loss: 9.4901\n",
      "Epoch 66/100\n",
      "3/3 [==============================] - 0s 17ms/step - loss: 9.3491 - val_loss: 10.3567\n",
      "Epoch 67/100\n",
      "3/3 [==============================] - 0s 16ms/step - loss: 9.2214 - val_loss: 10.0922\n",
      "Epoch 68/100\n",
      "3/3 [==============================] - 0s 21ms/step - loss: 9.5019 - val_loss: 10.0994\n",
      "Epoch 69/100\n",
      "3/3 [==============================] - 0s 17ms/step - loss: 9.3507 - val_loss: 9.3707\n",
      "Epoch 70/100\n",
      "3/3 [==============================] - 0s 16ms/step - loss: 9.2138 - val_loss: 8.9298\n",
      "Epoch 71/100\n",
      "3/3 [==============================] - 0s 22ms/step - loss: 9.2782 - val_loss: 9.0063\n",
      "Epoch 72/100\n",
      "3/3 [==============================] - 0s 17ms/step - loss: 9.9090 - val_loss: 9.5430\n",
      "Epoch 73/100\n",
      "3/3 [==============================] - 0s 16ms/step - loss: 9.6617 - val_loss: 11.3383\n",
      "Epoch 74/100\n",
      "3/3 [==============================] - 0s 22ms/step - loss: 9.5298 - val_loss: 9.8390\n",
      "Epoch 75/100\n",
      "3/3 [==============================] - 0s 16ms/step - loss: 9.6322 - val_loss: 9.7857\n",
      "Epoch 76/100\n",
      "3/3 [==============================] - 0s 17ms/step - loss: 9.2855 - val_loss: 9.9022\n",
      "Epoch 77/100\n",
      "3/3 [==============================] - 0s 20ms/step - loss: 9.1478 - val_loss: 9.5786\n",
      "Epoch 78/100\n",
      "3/3 [==============================] - 0s 16ms/step - loss: 9.2211 - val_loss: 9.3225\n",
      "Epoch 79/100\n",
      "3/3 [==============================] - 0s 17ms/step - loss: 9.2133 - val_loss: 9.1318\n",
      "Epoch 80/100\n"
     ]
    },
    {
     "name": "stdout",
     "output_type": "stream",
     "text": [
      "3/3 [==============================] - 0s 21ms/step - loss: 9.2191 - val_loss: 9.0154\n",
      "Epoch 81/100\n",
      "3/3 [==============================] - 0s 25ms/step - loss: 9.0708 - val_loss: 9.5928\n",
      "Epoch 82/100\n",
      "3/3 [==============================] - 0s 15ms/step - loss: 9.0814 - val_loss: 9.2037\n",
      "Epoch 83/100\n",
      "3/3 [==============================] - 0s 19ms/step - loss: 9.6490 - val_loss: 9.1276\n",
      "Epoch 84/100\n",
      "3/3 [==============================] - 0s 16ms/step - loss: 9.1942 - val_loss: 9.6220\n",
      "Epoch 85/100\n",
      "3/3 [==============================] - 0s 17ms/step - loss: 9.5839 - val_loss: 8.4951\n",
      "Epoch 86/100\n",
      "3/3 [==============================] - 0s 19ms/step - loss: 9.1081 - val_loss: 8.9769\n",
      "Epoch 87/100\n",
      "3/3 [==============================] - 0s 17ms/step - loss: 9.3266 - val_loss: 9.2232\n",
      "Epoch 88/100\n",
      "3/3 [==============================] - 0s 16ms/step - loss: 9.0832 - val_loss: 8.7827\n",
      "Epoch 89/100\n",
      "3/3 [==============================] - 0s 17ms/step - loss: 9.1564 - val_loss: 8.2901\n",
      "Epoch 90/100\n",
      "3/3 [==============================] - 0s 17ms/step - loss: 9.0858 - val_loss: 8.4773\n",
      "Epoch 91/100\n",
      "3/3 [==============================] - 0s 21ms/step - loss: 9.3213 - val_loss: 9.1020\n",
      "Epoch 92/100\n",
      "3/3 [==============================] - 0s 14ms/step - loss: 8.9398 - val_loss: 8.5688\n",
      "Epoch 93/100\n",
      "3/3 [==============================] - 0s 21ms/step - loss: 9.2099 - val_loss: 8.0428\n",
      "Epoch 94/100\n",
      "3/3 [==============================] - 0s 13ms/step - loss: 9.1283 - val_loss: 7.7426\n",
      "Epoch 95/100\n",
      "3/3 [==============================] - 0s 20ms/step - loss: 9.2367 - val_loss: 7.7622\n",
      "Epoch 96/100\n",
      "3/3 [==============================] - 0s 13ms/step - loss: 9.1469 - val_loss: 8.9408\n",
      "Epoch 97/100\n",
      "3/3 [==============================] - 0s 21ms/step - loss: 9.2251 - val_loss: 9.8926\n",
      "Epoch 98/100\n",
      "3/3 [==============================] - 0s 13ms/step - loss: 9.3034 - val_loss: 9.2394\n",
      "Epoch 99/100\n",
      "3/3 [==============================] - 0s 21ms/step - loss: 9.1085 - val_loss: 8.5607\n",
      "Epoch 100/100\n",
      "3/3 [==============================] - 0s 13ms/step - loss: 9.0568 - val_loss: 7.8022\n"
     ]
    }
   ],
   "source": [
    "history = model.fit(X_train, y_train, epochs=100,\n",
    "                    validation_data=(X_valid, y_valid))"
   ]
  },
  {
   "cell_type": "code",
   "execution_count": 19,
   "id": "4d550f88",
   "metadata": {},
   "outputs": [
    {
     "data": {
      "image/png": "[encoded data removed]",
      "text/plain": [
       "<Figure size 576x360 with 1 Axes>"
      ]
     },
     "metadata": {
      "needs_background": "light"
     },
     "output_type": "display_data"
    }
   ],
   "source": [
    "import pandas as pd\n",
    "\n",
    "pd.DataFrame(history.history).plot(figsize=(8, 5))\n",
    "plt.grid(True)\n",
    "# plt.gca().set_ylim(0, 1)\n",
    "plt.show()"
   ]
  },
  {
   "cell_type": "code",
   "execution_count": 20,
   "id": "5487653c",
   "metadata": {},
   "outputs": [
    {
     "name": "stdout",
     "output_type": "stream",
     "text": [
      "X.shape = (None, 1)\n",
      "gauss_grid.shape = (None, 5)\n"
     ]
    },
    {
     "data": {
      "image/png": "[encoded data removed]",
      "text/plain": [
       "<Figure size 432x288 with 1 Axes>"
      ]
     },
     "metadata": {
      "needs_background": "light"
     },
     "output_type": "display_data"
    }
   ],
   "source": [
    "# X_new = np.linspace(-5, 5, 100).reshape(100, 1)\n",
    "# y_new = model.predict(X_new)\n",
    "#\n",
    "plt.plot(X_train, y_train, \"b.\")\n",
    "# plt.plot(X_new, y_new, \"r-\", linewidth=2, label=\"Predictions\")\n",
    "draw_func(model.predict, mark='r-', linewidth=2, label=\"Predictions\")\n",
    "draw_normal_func(func_dict)\n",
    "plt.xlabel(\"$x_1$\", fontsize=18)\n",
    "plt.ylabel(\"$y$\", rotation=0, fontsize=18)\n",
    "plt.legend(loc=\"upper left\", fontsize=14)\n",
    "# plt.axis([-3, 3, 0, 10])\n",
    "plt.show()"
   ]
  },
  {
   "cell_type": "code",
   "execution_count": 21,
   "id": "f9c053a4",
   "metadata": {},
   "outputs": [
    {
     "name": "stdout",
     "output_type": "stream",
     "text": [
      "y_func.shape = (100, 1)\n",
      "y_gt.shape = (100, 1)\n"
     ]
    },
    {
     "data": {
      "text/plain": [
       "4.571833128929338"
      ]
     },
     "execution_count": 21,
     "metadata": {},
     "output_type": "execute_result"
    }
   ],
   "source": [
    "get_prediction_error(model.predict, func_dict, name=\"grid-num\")"
   ]
  },
  {
   "cell_type": "markdown",
   "id": "fe65d614",
   "metadata": {},
   "source": [
    "# Grid & Regression by Classification (grid --> grid)"
   ]
  },
  {
   "cell_type": "code",
   "execution_count": 22,
   "id": "3d35615e",
   "metadata": {},
   "outputs": [],
   "source": [
    "class num2grid_np():\n",
    "    def __init__(self, units, x_min=-10, x_max=10, sigma=1.0):\n",
    "        self.units = units\n",
    "        self.x_min = x_min\n",
    "        self.x_max = x_max\n",
    "        self.sigma = sigma\n",
    "        self.sigma2 = self.sigma**2\n",
    "        self.x_grid = np.linspace(self.x_min, self.x_max, self.units, endpoint=True)\n",
    "        print(\"self.x_grid = %s\" % str(self.x_grid))\n",
    "        \n",
    "    def convert(self, X):\n",
    "        gauss_grid = np.exp( -(self.x_grid - X)**2 / (2.0*self.sigma2) )\n",
    "#         if len(gauss_grid.shape) == 1:\n",
    "#             gauss_grid = gauss_grid.reshape([1,-1])\n",
    "#         grid_sum = np.sum(gauss_grid, axis=1, keepdims=True)\n",
    "        grid_sum = np.sum(gauss_grid, axis=-1, keepdims=True)\n",
    "        gauss_grid = gauss_grid / grid_sum\n",
    "        return gauss_grid\n",
    "    \n",
    "    def inv_convert(self, grid):\n",
    "#         if len(grid.shape) == 1:\n",
    "#             grid = grid.reshape([1,-1])\n",
    "#         grid_sum = np.sum(grid, axis=1)\n",
    "        grid_sum = np.sum(grid, axis=-1)\n",
    "#         print(grid_sum)\n",
    "        exp_num = np.sum((self.x_grid * grid), axis=-1) / grid_sum # element-wise\n",
    "        return exp_num\n",
    "    \n",
    "    def get_statistic(self, grid):\n",
    "        grid_sum = np.sum(grid, axis=-1)\n",
    "        _mean = np.sum((self.x_grid * grid), axis=-1) / grid_sum # element-wise\n",
    "        _var  = np.sum( ((self.x_grid.reshape((1,-1)) - _mean.reshape((-1,1)))**2 * grid), axis=-1) / grid_sum # element-wise\n",
    "        # print(\"(_mean, _var) = (%f, %f)\" % (_mean, _var))\n",
    "        _stddev = np.sqrt(_var)\n",
    "        return _mean, _stddev"
   ]
  },
  {
   "cell_type": "code",
   "execution_count": 23,
   "id": "4903180b",
   "metadata": {},
   "outputs": [
    {
     "name": "stdout",
     "output_type": "stream",
     "text": [
      "self.x_grid = [-100.          -95.91836735  -91.83673469  -87.75510204  -83.67346939\n",
      "  -79.59183673  -75.51020408  -71.42857143  -67.34693878  -63.26530612\n",
      "  -59.18367347  -55.10204082  -51.02040816  -46.93877551  -42.85714286\n",
      "  -38.7755102   -34.69387755  -30.6122449   -26.53061224  -22.44897959\n",
      "  -18.36734694  -14.28571429  -10.20408163   -6.12244898   -2.04081633\n",
      "    2.04081633    6.12244898   10.20408163   14.28571429   18.36734694\n",
      "   22.44897959   26.53061224   30.6122449    34.69387755   38.7755102\n",
      "   42.85714286   46.93877551   51.02040816   55.10204082   59.18367347\n",
      "   63.26530612   67.34693878   71.42857143   75.51020408   79.59183673\n",
      "   83.67346939   87.75510204   91.83673469   95.91836735  100.        ]\n"
     ]
    }
   ],
   "source": [
    "# class_num = 10 # 10\n",
    "# n2g = num2grid_np(class_num, x_min=-100.0, x_max=100.0, sigma=20.0) # 20.0\n",
    "# class_num = 20\n",
    "# n2g = num2grid_np(class_num, x_min=-100.0, x_max=100.0, sigma=15.0) # 20.0\n",
    "class_num = 50\n",
    "n2g = num2grid_np(class_num, x_min=-100.0, x_max=100.0, sigma=6.0) # 5.0 "
   ]
  },
  {
   "cell_type": "code",
   "execution_count": 24,
   "id": "dce05258",
   "metadata": {},
   "outputs": [
    {
     "name": "stdout",
     "output_type": "stream",
     "text": [
      "[[3.57995092e-60 2.08100846e-55 7.61538914e-51 1.75441300e-46\n",
      "  2.54444491e-42 2.32314196e-38 1.33530332e-34 4.83176258e-31\n",
      "  1.10065884e-27 1.57841554e-24 1.42498879e-21 8.09884396e-19\n",
      "  2.89771784e-16 6.52695532e-14 9.25521826e-12 8.26198061e-10\n",
      "  4.64304784e-08 1.64264466e-06 3.65852120e-05 5.12966502e-04\n",
      "  4.52786966e-03 2.51605603e-02 8.80173281e-02 1.93837381e-01\n",
      "  2.68737559e-01 2.34552834e-01 1.28876722e-01 4.45789421e-02\n",
      "  9.70748025e-03 1.33077537e-03 1.14848275e-04 6.23972825e-06\n",
      "  2.13416679e-07 4.59528573e-09 6.22899760e-11 5.31551427e-13\n",
      "  2.85557712e-15 9.65748361e-18 2.05615356e-20 2.75593262e-23\n",
      "  2.32542921e-26 1.23526215e-29 4.13082337e-33 8.69632169e-37\n",
      "  1.15254011e-40 9.61607812e-45 5.05081425e-49 1.67011468e-53\n",
      "  3.47658354e-58 4.55596654e-63]]\n"
     ]
    }
   ],
   "source": [
    "# grid_1 = n2g.convert(-1.2)\n",
    "grid_1 = n2g.convert([[-1.2]])\n",
    "print(grid_1)"
   ]
  },
  {
   "cell_type": "code",
   "execution_count": 25,
   "id": "48203fe2",
   "metadata": {},
   "outputs": [
    {
     "data": {
      "text/plain": [
       "array([-1.2])"
      ]
     },
     "execution_count": 25,
     "metadata": {},
     "output_type": "execute_result"
    }
   ],
   "source": [
    "n2g.inv_convert(grid_1)"
   ]
  },
  {
   "cell_type": "code",
   "execution_count": 26,
   "id": "a741b6d1",
   "metadata": {},
   "outputs": [
    {
     "data": {
      "text/plain": [
       "(array([-1.2]), array([6.]))"
      ]
     },
     "execution_count": 26,
     "metadata": {},
     "output_type": "execute_result"
    }
   ],
   "source": [
    "n2g.get_statistic(grid_1)"
   ]
  },
  {
   "cell_type": "markdown",
   "id": "bdc0b9a0",
   "metadata": {},
   "source": [
    "### Convert the labels to grid (pre-processing)"
   ]
  },
  {
   "cell_type": "code",
   "execution_count": 27,
   "id": "39c7fa96",
   "metadata": {},
   "outputs": [],
   "source": [
    "y_train_grid = n2g.convert(y_train)\n",
    "y_valid_grid = n2g.convert(y_valid)"
   ]
  },
  {
   "cell_type": "code",
   "execution_count": 28,
   "id": "f577a751",
   "metadata": {},
   "outputs": [
    {
     "name": "stdout",
     "output_type": "stream",
     "text": [
      "(80, 50)\n",
      "(20, 50)\n"
     ]
    }
   ],
   "source": [
    "print(y_train_grid.shape)\n",
    "print(y_valid_grid.shape)"
   ]
  },
  {
   "cell_type": "code",
   "execution_count": 29,
   "id": "71610af1",
   "metadata": {},
   "outputs": [
    {
     "name": "stdout",
     "output_type": "stream",
     "text": [
      "X.shape = (None, 1)\n",
      "gauss_grid.shape = (None, 5)\n"
     ]
    },
    {
     "name": "stderr",
     "output_type": "stream",
     "text": [
      "C:\\Users\\benso\\anaconda3\\envs\\ml\\lib\\site-packages\\keras\\optimizer_v2\\gradient_descent.py:102: UserWarning: The `lr` argument is deprecated, use `learning_rate` instead.\n",
      "  super(SGD, self).__init__(name, **kwargs)\n"
     ]
    }
   ],
   "source": [
    "model = keras.models.Sequential([\n",
    "#     keras.layers.Dense(30, activation=\"relu\", input_shape=X_train.shape[1:]),\n",
    "    num2grid(5,x_min=-10, x_max=10, sigma=3.0, input_shape=X_train.shape[1:]),\n",
    "    keras.layers.Dense(30, activation=\"relu\"),\n",
    "#     keras.layers.Dense(100, activation=\"relu\", kernel_regularizer=tf.keras.regularizers.l1(0.01)),\n",
    "    keras.layers.Dense(class_num, activation=\"softmax\"),\n",
    "])\n",
    "\n",
    "optimizer = keras.optimizers.SGD(lr=0.2, momentum=0.9)\n",
    "model.compile(loss=\"categorical_crossentropy\", optimizer=optimizer)"
   ]
  },
  {
   "cell_type": "code",
   "execution_count": 30,
   "id": "e2244aee",
   "metadata": {
    "scrolled": true
   },
   "outputs": [
    {
     "name": "stdout",
     "output_type": "stream",
     "text": [
      "Epoch 1/100\n",
      "X.shape = (None, 1)\n",
      "gauss_grid.shape = (None, 5)\n",
      "X.shape = (None, 1)\n",
      "gauss_grid.shape = (None, 5)\n",
      "1/3 [=========>....................] - ETA: 0s - loss: 3.9782X.shape = (None, 1)\n",
      "gauss_grid.shape = (None, 5)\n",
      "3/3 [==============================] - 1s 84ms/step - loss: 3.9780 - val_loss: 3.9273\n",
      "Epoch 2/100\n",
      "3/3 [==============================] - 0s 17ms/step - loss: 3.9274 - val_loss: 3.8685\n",
      "Epoch 3/100\n",
      "3/3 [==============================] - 0s 51ms/step - loss: 3.8537 - val_loss: 3.8203\n",
      "Epoch 4/100\n",
      "3/3 [==============================] - 0s 18ms/step - loss: 3.7930 - val_loss: 3.7700\n",
      "Epoch 5/100\n",
      "3/3 [==============================] - 0s 51ms/step - loss: 3.7225 - val_loss: 3.7142\n",
      "Epoch 6/100\n",
      "3/3 [==============================] - 0s 31ms/step - loss: 3.6493 - val_loss: 3.6521\n",
      "Epoch 7/100\n",
      "3/3 [==============================] - 0s 35ms/step - loss: 3.5504 - val_loss: 3.5959\n",
      "Epoch 8/100\n",
      "3/3 [==============================] - 0s 38ms/step - loss: 3.4517 - val_loss: 3.5461\n",
      "Epoch 9/100\n",
      "3/3 [==============================] - 0s 35ms/step - loss: 3.3549 - val_loss: 3.4769\n",
      "Epoch 10/100\n",
      "3/3 [==============================] - 0s 33ms/step - loss: 3.2574 - val_loss: 3.3941\n",
      "Epoch 11/100\n",
      "3/3 [==============================] - 0s 20ms/step - loss: 3.1813 - val_loss: 3.2956\n",
      "Epoch 12/100\n",
      "3/3 [==============================] - 0s 18ms/step - loss: 3.1141 - val_loss: 3.1933\n",
      "Epoch 13/100\n",
      "3/3 [==============================] - 0s 19ms/step - loss: 3.0555 - val_loss: 3.1123\n",
      "Epoch 14/100\n",
      "3/3 [==============================] - 0s 18ms/step - loss: 3.0118 - val_loss: 3.0538\n",
      "Epoch 15/100\n",
      "3/3 [==============================] - 0s 21ms/step - loss: 2.9854 - val_loss: 3.0347\n",
      "Epoch 16/100\n",
      "3/3 [==============================] - 0s 23ms/step - loss: 2.9661 - val_loss: 3.0555\n",
      "Epoch 17/100\n",
      "3/3 [==============================] - 0s 17ms/step - loss: 2.9350 - val_loss: 3.0915\n",
      "Epoch 18/100\n",
      "3/3 [==============================] - 0s 24ms/step - loss: 2.9040 - val_loss: 3.0663\n",
      "Epoch 19/100\n",
      "3/3 [==============================] - 0s 17ms/step - loss: 2.8745 - val_loss: 2.9995\n",
      "Epoch 20/100\n",
      "3/3 [==============================] - 0s 18ms/step - loss: 2.8458 - val_loss: 2.9845\n",
      "Epoch 21/100\n",
      "3/3 [==============================] - 0s 19ms/step - loss: 2.8284 - val_loss: 2.9587\n",
      "Epoch 22/100\n",
      "3/3 [==============================] - 0s 23ms/step - loss: 2.7926 - val_loss: 2.9409\n",
      "Epoch 23/100\n",
      "3/3 [==============================] - 0s 15ms/step - loss: 2.7736 - val_loss: 2.9542\n",
      "Epoch 24/100\n",
      "3/3 [==============================] - 0s 18ms/step - loss: 2.7518 - val_loss: 2.9366\n",
      "Epoch 25/100\n",
      "3/3 [==============================] - 0s 19ms/step - loss: 2.7297 - val_loss: 2.9016\n",
      "Epoch 26/100\n",
      "3/3 [==============================] - 0s 20ms/step - loss: 2.7100 - val_loss: 2.8536\n",
      "Epoch 27/100\n",
      "3/3 [==============================] - 0s 16ms/step - loss: 2.7016 - val_loss: 2.8693\n",
      "Epoch 28/100\n",
      "3/3 [==============================] - 0s 17ms/step - loss: 2.6781 - val_loss: 2.8733\n",
      "Epoch 29/100\n",
      "3/3 [==============================] - 0s 22ms/step - loss: 2.6650 - val_loss: 2.8718\n",
      "Epoch 30/100\n",
      "3/3 [==============================] - 0s 20ms/step - loss: 2.6505 - val_loss: 2.8572\n",
      "Epoch 31/100\n",
      "3/3 [==============================] - 0s 24ms/step - loss: 2.6282 - val_loss: 2.8321\n",
      "Epoch 32/100\n",
      "3/3 [==============================] - 0s 20ms/step - loss: 2.6291 - val_loss: 2.7726\n",
      "Epoch 33/100\n",
      "3/3 [==============================] - 0s 15ms/step - loss: 2.6154 - val_loss: 2.7604\n",
      "Epoch 34/100\n",
      "3/3 [==============================] - 0s 22ms/step - loss: 2.6021 - val_loss: 2.8151\n",
      "Epoch 35/100\n",
      "3/3 [==============================] - 0s 16ms/step - loss: 2.5886 - val_loss: 2.8347\n",
      "Epoch 36/100\n",
      "3/3 [==============================] - 0s 20ms/step - loss: 2.5902 - val_loss: 2.7845\n",
      "Epoch 37/100\n",
      "3/3 [==============================] - 0s 21ms/step - loss: 2.5726 - val_loss: 2.8113\n",
      "Epoch 38/100\n",
      "3/3 [==============================] - 0s 14ms/step - loss: 2.5770 - val_loss: 2.7780\n",
      "Epoch 39/100\n",
      "3/3 [==============================] - 0s 21ms/step - loss: 2.5603 - val_loss: 2.7310\n",
      "Epoch 40/100\n",
      "3/3 [==============================] - 0s 23ms/step - loss: 2.5468 - val_loss: 2.7622\n",
      "Epoch 41/100\n",
      "3/3 [==============================] - 0s 14ms/step - loss: 2.5472 - val_loss: 2.7703\n",
      "Epoch 42/100\n",
      "3/3 [==============================] - 0s 21ms/step - loss: 2.5391 - val_loss: 2.6767\n",
      "Epoch 43/100\n",
      "3/3 [==============================] - 0s 24ms/step - loss: 2.5358 - val_loss: 2.7116\n",
      "Epoch 44/100\n",
      "3/3 [==============================] - 0s 16ms/step - loss: 2.5182 - val_loss: 2.8214\n",
      "Epoch 45/100\n",
      "3/3 [==============================] - 0s 17ms/step - loss: 2.5365 - val_loss: 2.7427\n",
      "Epoch 46/100\n",
      "3/3 [==============================] - 0s 18ms/step - loss: 2.5109 - val_loss: 2.6557\n",
      "Epoch 47/100\n",
      "3/3 [==============================] - 0s 22ms/step - loss: 2.5134 - val_loss: 2.6521\n",
      "Epoch 48/100\n",
      "3/3 [==============================] - 0s 16ms/step - loss: 2.5141 - val_loss: 2.6855\n",
      "Epoch 49/100\n",
      "3/3 [==============================] - 0s 19ms/step - loss: 2.5051 - val_loss: 2.6429\n",
      "Epoch 50/100\n",
      "3/3 [==============================] - 0s 21ms/step - loss: 2.4936 - val_loss: 2.6442\n",
      "Epoch 51/100\n",
      "3/3 [==============================] - 0s 16ms/step - loss: 2.4957 - val_loss: 2.7051\n",
      "Epoch 52/100\n",
      "3/3 [==============================] - 0s 21ms/step - loss: 2.4830 - val_loss: 2.6992\n",
      "Epoch 53/100\n",
      "3/3 [==============================] - 0s 21ms/step - loss: 2.4854 - val_loss: 2.6848\n",
      "Epoch 54/100\n",
      "3/3 [==============================] - 0s 15ms/step - loss: 2.4876 - val_loss: 2.6953\n",
      "Epoch 55/100\n",
      "3/3 [==============================] - 0s 17ms/step - loss: 2.4846 - val_loss: 2.6475\n",
      "Epoch 56/100\n",
      "3/3 [==============================] - 0s 22ms/step - loss: 2.4765 - val_loss: 2.6654\n",
      "Epoch 57/100\n",
      "3/3 [==============================] - 0s 14ms/step - loss: 2.4656 - val_loss: 2.7468\n",
      "Epoch 58/100\n",
      "3/3 [==============================] - 0s 22ms/step - loss: 2.4750 - val_loss: 2.6802\n",
      "Epoch 59/100\n",
      "3/3 [==============================] - 0s 14ms/step - loss: 2.4722 - val_loss: 2.6011\n",
      "Epoch 60/100\n",
      "3/3 [==============================] - 0s 21ms/step - loss: 2.4954 - val_loss: 2.5995\n",
      "Epoch 61/100\n",
      "3/3 [==============================] - 0s 17ms/step - loss: 2.4692 - val_loss: 2.6123\n",
      "Epoch 62/100\n",
      "3/3 [==============================] - 0s 17ms/step - loss: 2.4580 - val_loss: 2.6914\n",
      "Epoch 63/100\n",
      "3/3 [==============================] - 0s 22ms/step - loss: 2.4589 - val_loss: 2.6552\n",
      "Epoch 64/100\n",
      "3/3 [==============================] - 0s 17ms/step - loss: 2.4457 - val_loss: 2.6405\n",
      "Epoch 65/100\n",
      "3/3 [==============================] - 0s 16ms/step - loss: 2.4680 - val_loss: 2.6299\n",
      "Epoch 66/100\n",
      "3/3 [==============================] - 0s 20ms/step - loss: 2.4443 - val_loss: 2.5820\n",
      "Epoch 67/100\n",
      "3/3 [==============================] - 0s 17ms/step - loss: 2.4461 - val_loss: 2.5769\n",
      "Epoch 68/100\n",
      "3/3 [==============================] - 0s 17ms/step - loss: 2.4432 - val_loss: 2.6375\n",
      "Epoch 69/100\n",
      "3/3 [==============================] - 0s 21ms/step - loss: 2.4294 - val_loss: 2.6558\n",
      "Epoch 70/100\n",
      "3/3 [==============================] - 0s 17ms/step - loss: 2.4381 - val_loss: 2.6370\n",
      "Epoch 71/100\n",
      "3/3 [==============================] - 0s 22ms/step - loss: 2.4404 - val_loss: 2.6342\n",
      "Epoch 72/100\n",
      "3/3 [==============================] - 0s 17ms/step - loss: 2.4295 - val_loss: 2.7008\n",
      "Epoch 73/100\n",
      "3/3 [==============================] - 0s 17ms/step - loss: 2.4571 - val_loss: 2.7267\n",
      "Epoch 74/100\n",
      "3/3 [==============================] - 0s 17ms/step - loss: 2.4317 - val_loss: 2.6261\n",
      "Epoch 75/100\n",
      "3/3 [==============================] - 0s 22ms/step - loss: 2.4514 - val_loss: 2.5828\n",
      "Epoch 76/100\n",
      "3/3 [==============================] - 0s 21ms/step - loss: 2.4390 - val_loss: 2.5941\n",
      "Epoch 77/100\n",
      "3/3 [==============================] - 0s 22ms/step - loss: 2.4274 - val_loss: 2.5914\n",
      "Epoch 78/100\n",
      "3/3 [==============================] - 0s 16ms/step - loss: 2.4254 - val_loss: 2.6118\n",
      "Epoch 79/100\n",
      "3/3 [==============================] - 0s 17ms/step - loss: 2.4148 - val_loss: 2.6453\n",
      "Epoch 80/100\n",
      "3/3 [==============================] - 0s 21ms/step - loss: 2.4152 - val_loss: 2.6701\n",
      "Epoch 81/100\n"
     ]
    },
    {
     "name": "stdout",
     "output_type": "stream",
     "text": [
      "3/3 [==============================] - 0s 20ms/step - loss: 2.4243 - val_loss: 2.6183\n",
      "Epoch 82/100\n",
      "3/3 [==============================] - 0s 17ms/step - loss: 2.4259 - val_loss: 2.5740\n",
      "Epoch 83/100\n",
      "3/3 [==============================] - 0s 21ms/step - loss: 2.4083 - val_loss: 2.6508\n",
      "Epoch 84/100\n",
      "3/3 [==============================] - 0s 16ms/step - loss: 2.4161 - val_loss: 2.5872\n",
      "Epoch 85/100\n",
      "3/3 [==============================] - 0s 18ms/step - loss: 2.4080 - val_loss: 2.5485\n",
      "Epoch 86/100\n",
      "3/3 [==============================] - 0s 21ms/step - loss: 2.4132 - val_loss: 2.5681\n",
      "Epoch 87/100\n",
      "3/3 [==============================] - 0s 22ms/step - loss: 2.4187 - val_loss: 2.6147\n",
      "Epoch 88/100\n",
      "3/3 [==============================] - 0s 16ms/step - loss: 2.4058 - val_loss: 2.6349\n",
      "Epoch 89/100\n",
      "3/3 [==============================] - ETA: 0s - loss: 2.291 - 0s 16ms/step - loss: 2.4049 - val_loss: 2.6180\n",
      "Epoch 90/100\n",
      "3/3 [==============================] - 0s 21ms/step - loss: 2.3989 - val_loss: 2.5727\n",
      "Epoch 91/100\n",
      "3/3 [==============================] - 0s 16ms/step - loss: 2.4034 - val_loss: 2.5789\n",
      "Epoch 92/100\n",
      "3/3 [==============================] - 0s 18ms/step - loss: 2.4078 - val_loss: 2.6416\n",
      "Epoch 93/100\n",
      "3/3 [==============================] - 0s 21ms/step - loss: 2.3988 - val_loss: 2.6083\n",
      "Epoch 94/100\n",
      "3/3 [==============================] - 0s 17ms/step - loss: 2.4049 - val_loss: 2.6369\n",
      "Epoch 95/100\n",
      "3/3 [==============================] - 0s 17ms/step - loss: 2.3929 - val_loss: 2.6027\n",
      "Epoch 96/100\n",
      "3/3 [==============================] - 0s 23ms/step - loss: 2.3963 - val_loss: 2.5882\n",
      "Epoch 97/100\n",
      "3/3 [==============================] - 0s 13ms/step - loss: 2.4094 - val_loss: 2.5676\n",
      "Epoch 98/100\n",
      "3/3 [==============================] - 0s 21ms/step - loss: 2.3928 - val_loss: 2.5048\n",
      "Epoch 99/100\n",
      "3/3 [==============================] - 0s 22ms/step - loss: 2.3900 - val_loss: 2.5974\n",
      "Epoch 100/100\n",
      "3/3 [==============================] - 0s 15ms/step - loss: 2.4058 - val_loss: 2.6974\n"
     ]
    }
   ],
   "source": [
    "history = model.fit(X_train, y_train_grid, epochs=100,\n",
    "                    validation_data=(X_valid, y_valid_grid))"
   ]
  },
  {
   "cell_type": "code",
   "execution_count": 31,
   "id": "390834c9",
   "metadata": {},
   "outputs": [
    {
     "data": {
      "image/png": "[encoded data removed]",
      "text/plain": [
       "<Figure size 576x360 with 1 Axes>"
      ]
     },
     "metadata": {
      "needs_background": "light"
     },
     "output_type": "display_data"
    }
   ],
   "source": [
    "import pandas as pd\n",
    "\n",
    "pd.DataFrame(history.history).plot(figsize=(8, 5))\n",
    "plt.grid(True)\n",
    "# plt.gca().set_ylim(0, 1)\n",
    "plt.show()"
   ]
  },
  {
   "cell_type": "code",
   "execution_count": 32,
   "id": "6fba3b6a",
   "metadata": {},
   "outputs": [
    {
     "name": "stdout",
     "output_type": "stream",
     "text": [
      "X.shape = (None, 1)\n",
      "gauss_grid.shape = (None, 5)\n"
     ]
    },
    {
     "data": {
      "image/png": "[encoded data removed]",
      "text/plain": [
       "<Figure size 432x288 with 1 Axes>"
      ]
     },
     "metadata": {
      "needs_background": "light"
     },
     "output_type": "display_data"
    }
   ],
   "source": [
    "# X_new = np.linspace(-5, 5, 100).reshape(100, 1)\n",
    "# y_new_proba = model.predict(X_new)\n",
    "# y_new = n2g.inv_convert(y_new_proba)\n",
    "#\n",
    "plt.plot(X_train, y_train, \"b.\")\n",
    "# plt.plot(X_new, y_new, \"r-\", linewidth=2, label=\"Predictions\")\n",
    "draw_func((lambda X: n2g.inv_convert(model.predict(X)) ), mark='r-', linewidth=2, label=\"Predictions\")\n",
    "draw_normal_func(func_dict)\n",
    "plt.xlabel(\"$x_1$\", fontsize=18)\n",
    "plt.ylabel(\"$y$\", rotation=0, fontsize=18)\n",
    "plt.legend(loc=\"upper left\", fontsize=14)\n",
    "# plt.axis([-3, 3, 0, 10])\n",
    "plt.show()"
   ]
  },
  {
   "cell_type": "code",
   "execution_count": 33,
   "id": "fc059ba5",
   "metadata": {},
   "outputs": [
    {
     "name": "stdout",
     "output_type": "stream",
     "text": [
      "y_func.shape = (100, 1)\n",
      "y_gt.shape = (100, 1)\n"
     ]
    },
    {
     "data": {
      "text/plain": [
       "4.368596578342602"
      ]
     },
     "execution_count": 33,
     "metadata": {},
     "output_type": "execute_result"
    }
   ],
   "source": [
    "get_prediction_error((lambda X: n2g.inv_convert(model.predict(X)) ), func_dict, name=\"grid-rbc\")"
   ]
  },
  {
   "cell_type": "code",
   "execution_count": 34,
   "id": "edcf26db",
   "metadata": {},
   "outputs": [
    {
     "data": {
      "text/plain": [
       "<matplotlib.collections.QuadMesh at 0x2168f732070>"
      ]
     },
     "execution_count": 34,
     "metadata": {},
     "output_type": "execute_result"
    },
    {
     "data": {
      "image/png": "[encoded data removed]",
      "text/plain": [
       "<Figure size 432x288 with 1 Axes>"
      ]
     },
     "metadata": {
      "needs_background": "light"
     },
     "output_type": "display_data"
    }
   ],
   "source": [
    "X_new = np.linspace(-5, 5, 100).reshape(100, 1)\n",
    "y_new_proba = model.predict(X_new)\n",
    "# y_new = n2g.inv_convert(y_new_proba)\n",
    "#\n",
    "xv, yv = np.meshgrid(X_new, np.linspace(n2g.x_min, n2g.x_max, n2g.units))\n",
    "# print(xv)\n",
    "# print(yv)\n",
    "plt.pcolormesh(xv, yv, y_new_proba.T, shading=\"nearest\")"
   ]
  },
  {
   "cell_type": "markdown",
   "id": "4064d3b5",
   "metadata": {},
   "source": [
    "### Draw the 1-sigma boundary line"
   ]
  },
  {
   "cell_type": "code",
   "execution_count": 35,
   "id": "247e8712",
   "metadata": {},
   "outputs": [
    {
     "data": {
      "image/png": "[encoded data removed]",
      "text/plain": [
       "<Figure size 432x288 with 1 Axes>"
      ]
     },
     "metadata": {
      "needs_background": "light"
     },
     "output_type": "display_data"
    }
   ],
   "source": [
    "def n_sigma_boundary_line(X, n):\n",
    "    _mean, _sigma = n2g.get_statistic(model.predict(X))\n",
    "    return( _mean + n*_sigma)\n",
    "\n",
    "plt.plot(X_train, y_train, \"b.\")\n",
    "#\n",
    "draw_func((lambda X: n2g.inv_convert(model.predict(X)) ), mark='r-', linewidth=2, label=\"Predictions\")\n",
    "draw_func((lambda X: n_sigma_boundary_line(X, +1.0) ), mark='k--', linewidth=1, label=\"$\\mu+\\sigma$\")\n",
    "draw_func((lambda X: n_sigma_boundary_line(X, -1.0) ), mark='k--', linewidth=1, label=\"$\\mu-\\sigma$\")\n",
    "#\n",
    "draw_normal_func(func_dict)\n",
    "plt.xlabel(\"$x_1$\", fontsize=18)\n",
    "plt.ylabel(\"$y$\", rotation=0, fontsize=18)\n",
    "plt.legend(loc=\"upper left\", fontsize=14)\n",
    "# plt.axis([-3, 3, 0, 10])\n",
    "plt.show()"
   ]
  },
  {
   "cell_type": "code",
   "execution_count": null,
   "id": "e6266336",
   "metadata": {},
   "outputs": [],
   "source": []
  },
  {
   "cell_type": "markdown",
   "id": "99a85ab5",
   "metadata": {},
   "source": [
    "# Grid & Regression by Classification + Offset Estimation (grid --> grid,num)"
   ]
  },
  {
   "cell_type": "code",
   "execution_count": 36,
   "id": "26440167",
   "metadata": {},
   "outputs": [],
   "source": [
    "class num2gridOffset_np():\n",
    "    def __init__(self, units, x_min=-10, x_max=10):\n",
    "        self.units = units\n",
    "        self.x_min = x_min\n",
    "        self.x_max = x_max\n",
    "        self.x_grid = np.linspace(self.x_min, self.x_max, self.units, endpoint=True)\n",
    "        # bins\n",
    "        x_space = np.average(self.x_grid[1:] - self.x_grid[:-1])\n",
    "        print(\"x_space = %f\" % x_space)\n",
    "        x_0 = self.x_grid[0] - 0.5 * x_space\n",
    "        self.x_bins = [x_0 + _i*x_space for _i in range(len(self.x_grid)+1)]\n",
    "        print(\"self.x_grid = %s\" % str(self.x_grid))\n",
    "#         print(\"self.x_bins = %s\" % str(self.x_bins))\n",
    "        \n",
    "    def convert(self, X):\n",
    "        '''\n",
    "        Convert a batch of number to one-hot class and numerical offset to each grid's center\n",
    "        (m, 1) --> (m, n_units, 2)\n",
    "        '''\n",
    "        X = np.array(X)\n",
    "        if len(X.shape) <= 1:\n",
    "            X = X.reshape((-1,1))\n",
    "        idxs_bin = np.digitize(X, self.x_bins, right=False) \n",
    "        idxs_grid = (idxs_bin - 1) + 1*(idxs_bin<= 0) - 1*(idxs_bin>=self.units)\n",
    "        print(idxs_grid.shape)\n",
    "        #\n",
    "        batch_size = X.shape[0]\n",
    "        grid = np.zeros((batch_size, self.units, 2))\n",
    "        # Fill in the values\n",
    "        grid[np.arange(batch_size), idxs_grid.reshape((-1,)), 0] = 1.0\n",
    "        grid[np.arange(batch_size), :, 1] = X - self.x_grid.reshape((1,-1)) # Offset\n",
    "        return grid\n",
    "    \n",
    "    def inv_convert(self, grid):\n",
    "        idxs_grid = np.argmax(grid[...,0], axis=1)\n",
    "        print(idxs_grid.shape)\n",
    "        #\n",
    "        batch_size = grid.shape[0]\n",
    "        offset_est = grid[np.arange(batch_size),idxs_grid,1]\n",
    "        print(offset_est.shape)\n",
    "        num_est = self.x_grid[idxs_grid].reshape((1,-1)) + offset_est\n",
    "        return num_est.reshape((-1,))"
   ]
  },
  {
   "cell_type": "code",
   "execution_count": 37,
   "id": "8b15e9ff",
   "metadata": {},
   "outputs": [
    {
     "name": "stdout",
     "output_type": "stream",
     "text": [
      "x_space = 22.222222\n",
      "self.x_grid = [-100.          -77.77777778  -55.55555556  -33.33333333  -11.11111111\n",
      "   11.11111111   33.33333333   55.55555556   77.77777778  100.        ]\n"
     ]
    }
   ],
   "source": [
    "class_num = 10 # 10\n",
    "n2go = num2gridOffset_np(class_num, x_min=-100.0, x_max=100.0) "
   ]
  },
  {
   "cell_type": "code",
   "execution_count": 38,
   "id": "8f6e7955",
   "metadata": {},
   "outputs": [
    {
     "name": "stdout",
     "output_type": "stream",
     "text": [
      "(2, 1)\n",
      "[[[   0.           98.8       ]\n",
      "  [   0.           76.57777778]\n",
      "  [   0.           54.35555556]\n",
      "  [   0.           32.13333333]\n",
      "  [   1.            9.91111111]\n",
      "  [   0.          -12.31111111]\n",
      "  [   0.          -34.53333333]\n",
      "  [   0.          -56.75555556]\n",
      "  [   0.          -78.97777778]\n",
      "  [   0.         -101.2       ]]\n",
      "\n",
      " [[   0.          150.5       ]\n",
      "  [   0.          128.27777778]\n",
      "  [   0.          106.05555556]\n",
      "  [   0.           83.83333333]\n",
      "  [   0.           61.61111111]\n",
      "  [   0.           39.38888889]\n",
      "  [   0.           17.16666667]\n",
      "  [   1.           -5.05555556]\n",
      "  [   0.          -27.27777778]\n",
      "  [   0.          -49.5       ]]]\n"
     ]
    }
   ],
   "source": [
    "# grid_1 = n2g.convert(-1.2)\n",
    "grid_1 = n2go.convert([[-1.2], [50.5]])\n",
    "print(grid_1)"
   ]
  },
  {
   "cell_type": "code",
   "execution_count": 39,
   "id": "48840dc5",
   "metadata": {},
   "outputs": [
    {
     "name": "stdout",
     "output_type": "stream",
     "text": [
      "(2,)\n",
      "(2,)\n"
     ]
    },
    {
     "data": {
      "text/plain": [
       "array([-1.2, 50.5])"
      ]
     },
     "execution_count": 39,
     "metadata": {},
     "output_type": "execute_result"
    }
   ],
   "source": [
    "n2go.inv_convert(grid_1)"
   ]
  },
  {
   "cell_type": "markdown",
   "id": "11683cea",
   "metadata": {},
   "source": [
    "### Convert the labels to grid (pre-processing)"
   ]
  },
  {
   "cell_type": "code",
   "execution_count": 40,
   "id": "472997cf",
   "metadata": {},
   "outputs": [
    {
     "name": "stdout",
     "output_type": "stream",
     "text": [
      "(80, 1)\n",
      "(20, 1)\n"
     ]
    }
   ],
   "source": [
    "y_train_grid_offset = n2go.convert(y_train)\n",
    "y_valid_grid_offset = n2go.convert(y_valid)"
   ]
  },
  {
   "cell_type": "code",
   "execution_count": 41,
   "id": "71f08d76",
   "metadata": {},
   "outputs": [
    {
     "name": "stdout",
     "output_type": "stream",
     "text": [
      "(80, 10, 2)\n",
      "(20, 10, 2)\n"
     ]
    }
   ],
   "source": [
    "print(y_train_grid_offset.shape)\n",
    "print(y_valid_grid_offset.shape)"
   ]
  },
  {
   "cell_type": "code",
   "execution_count": 42,
   "id": "84b5b833",
   "metadata": {},
   "outputs": [
    {
     "name": "stdout",
     "output_type": "stream",
     "text": [
      "X.shape = (None, 1)\n",
      "gauss_grid.shape = (None, 5)\n"
     ]
    }
   ],
   "source": [
    "inputs = keras.layers.Input(shape=X_train.shape[1:])\n",
    "#\n",
    "z = num2grid(5,x_min=-10, x_max=10, sigma=3.0)(inputs)\n",
    "z = keras.layers.Dense(30, activation=\"selu\")(z)\n",
    "# Outputs\n",
    "z_proba = keras.layers.Dense(30, activation=\"relu\")(z)\n",
    "z_proba  = keras.layers.Dense(class_num, activation=\"softmax\")(z_proba)\n",
    "z_offset = keras.layers.Dense(class_num, activation=\"relu\")(z)\n",
    "z_offset = keras.layers.Dense(class_num)(z_offset)\n",
    "# Concatenate\n",
    "z_proba  = keras.layers.Reshape([class_num,1])(z_proba)\n",
    "z_offset = keras.layers.Reshape([class_num,1])(z_offset)\n",
    "out_cat = keras.layers.Concatenate(axis=-1)([z_proba, z_offset])\n",
    "#\n",
    "# Models for trainig and real usage\n",
    "model = keras.Model(inputs=[inputs], outputs=[out_cat])"
   ]
  },
  {
   "cell_type": "code",
   "execution_count": 43,
   "id": "e6482574",
   "metadata": {},
   "outputs": [],
   "source": [
    "# Customized loss function\n",
    "\n",
    "cce = keras.losses.CategoricalCrossentropy(reduction=keras.losses.Reduction.NONE)\n",
    "# cce(y_true, y_pred).numpy()\n",
    "\n",
    "def centerLoss_fn(y_true, y_pred):\n",
    "    #\n",
    "    y_true_proba = y_true[...,0]\n",
    "    y_true_value = y_true[...,1]\n",
    "    #\n",
    "    y_pred_proba = y_pred[...,0]\n",
    "    y_pred_value = y_pred[...,1]\n",
    "    \n",
    "    #\n",
    "    cce_loss = cce(y_true_proba, y_pred_proba) / class_num\n",
    "    #\n",
    "    y_true_value_est = tf.reduce_sum((y_true_proba * y_true_value), axis=-1)\n",
    "    y_pred_value_est = tf.reduce_sum((y_true_proba * y_pred_value), axis=-1)\n",
    "#     y_pred_value_est = tf.reduce_sum((y_pred_proba * y_pred_value), axis=-1)\n",
    "    value_loss = tf.abs(y_pred_value_est - y_true_value_est)\n",
    "    \n",
    "    # Total loss\n",
    "#     return (0.5*cce_loss + 0.5*value_loss )\n",
    "    return (0.2*cce_loss + 0.8*value_loss )\n",
    "#     return (cce_loss)\n",
    "#     return (value_loss )"
   ]
  },
  {
   "cell_type": "code",
   "execution_count": 44,
   "id": "60575755",
   "metadata": {},
   "outputs": [
    {
     "name": "stderr",
     "output_type": "stream",
     "text": [
      "C:\\Users\\benso\\anaconda3\\envs\\ml\\lib\\site-packages\\keras\\optimizer_v2\\adam.py:105: UserWarning: The `lr` argument is deprecated, use `learning_rate` instead.\n",
      "  super(Adam, self).__init__(name, **kwargs)\n"
     ]
    }
   ],
   "source": [
    "# optimizer = keras.optimizers.SGD(lr=0.1, momentum=0.9)\n",
    "optimizer = keras.optimizers.Adam(lr=0.05)\n",
    "model.compile(loss=centerLoss_fn, optimizer=optimizer)"
   ]
  },
  {
   "cell_type": "code",
   "execution_count": 45,
   "id": "09bc47a5",
   "metadata": {
    "scrolled": true
   },
   "outputs": [],
   "source": [
    "# history = model.fit(X_train, y_train_grid_offset, epochs=100,\n",
    "#                     validation_data=(X_valid, y_valid_grid_offset))"
   ]
  },
  {
   "cell_type": "code",
   "execution_count": 46,
   "id": "7ba1fe76",
   "metadata": {},
   "outputs": [],
   "source": [
    "# import pandas as pd\n",
    "\n",
    "# pd.DataFrame(history.history).plot(figsize=(8, 5))\n",
    "# plt.grid(True)\n",
    "# # plt.gca().set_ylim(0, 1)\n",
    "# plt.show()"
   ]
  },
  {
   "cell_type": "code",
   "execution_count": 47,
   "id": "47db8336",
   "metadata": {
    "scrolled": false
   },
   "outputs": [],
   "source": [
    "# plt.plot(X_train, y_train, \"b.\")\n",
    "# draw_func((lambda X: n2go.inv_convert(model.predict(X)) ), mark='r-', linewidth=2, label=\"Predictions\")\n",
    "# draw_normal_func(func_dict)\n",
    "# plt.xlabel(\"$x_1$\", fontsize=18)\n",
    "# plt.ylabel(\"$y$\", rotation=0, fontsize=18)\n",
    "# plt.legend(loc=\"upper left\", fontsize=14)\n",
    "# # plt.axis([-3, 3, 0, 10])\n",
    "# plt.show()"
   ]
  },
  {
   "cell_type": "code",
   "execution_count": 48,
   "id": "46a1a384",
   "metadata": {},
   "outputs": [],
   "source": [
    "# get_prediction_error((lambda X: n2go.inv_convert(model.predict(X)) ), func_dict, name=\"grid-classOffset\")"
   ]
  },
  {
   "cell_type": "code",
   "execution_count": null,
   "id": "fff995a6",
   "metadata": {},
   "outputs": [],
   "source": []
  },
  {
   "cell_type": "markdown",
   "id": "a811f344",
   "metadata": {},
   "source": [
    "# Parametric Uncertainty/Distribution Estimation\n",
    "\n",
    "In this section, we try to estimate uncertainty (actually, fit the dataset distribution) with parametric reprecentation of a distribution instead of a discretized non-parametric representation.\n",
    "\n",
    "Possible solution includes\n",
    "- Quantile estimation with pinball loss (statistic)\n",
    "- Guassian distribution (fit a prabability distribution)"
   ]
  },
  {
   "cell_type": "markdown",
   "id": "175eb32d",
   "metadata": {},
   "source": [
    "## Quantile Estimation with Pinball Loss (grid --> parameters)\n",
    "\n",
    "Quantile estimation and pinball loss is based on the concept of statistic, which predict the value based on the rank of samples in the dataset.\n",
    "\n",
    "The outputs of the model are $(y_{10}, y_{90})$, 10% quantile prediction and 90% quantile prediction, respectively."
   ]
  },
  {
   "cell_type": "code",
   "execution_count": 49,
   "id": "1d1ef92d",
   "metadata": {},
   "outputs": [],
   "source": [
    "# quantile_list = [0.5]\n",
    "# quantile_list = [0.9]\n",
    "quantile_list = [0.1, 0.9] # Use hidden layer with 30 neurons\n",
    "# quantile_list = [0.05, 0.95]\n",
    "# quantile_list = [0.25, 0.75]\n",
    "# quantile_list = [0.1, 0.5, 0.9]\n",
    "# quantile_list = [0.1, 0.3, 0.7, 0.9]\n",
    "# quantile_list = [0.1, 0.2, 0.3, 0.4, 0.6, 0.7, 0.8, 0.9] # remove 0.5\n",
    "# quantile_list = [0.1, 0.2, 0.3, 0.4, 0.5, 0.6, 0.7, 0.8, 0.9] # Should use wider hidden layer (with many neurons) + L1 regularization\n",
    "num_quantile = len(quantile_list)"
   ]
  },
  {
   "cell_type": "code",
   "execution_count": 50,
   "id": "8e3fe57b",
   "metadata": {},
   "outputs": [
    {
     "name": "stdout",
     "output_type": "stream",
     "text": [
      "X.shape = (None, 1)\n",
      "gauss_grid.shape = (None, 5)\n"
     ]
    }
   ],
   "source": [
    "model = keras.models.Sequential([\n",
    "    num2grid(5,x_min=-10, x_max=10, sigma=3.0, input_shape=X_train.shape[1:]),\n",
    "#     num2grid(50,x_min=-10, x_max=10, sigma=0.5, input_shape=X_train.shape[1:]),\n",
    "    keras.layers.Dense(30, activation=\"relu\"),\n",
    "#     keras.layers.Dense(60, activation=\"relu\"),\n",
    "#     keras.layers.Dense(100, activation=\"relu\", kernel_regularizer=tf.keras.regularizers.l1(0.01)),\n",
    "#     keras.layers.Dense(30, activation=keras.layers.LeakyReLU(alpha=0.2) ),\n",
    "#     keras.layers.Dense(30, activation=\"selu\"),\n",
    "    keras.layers.Dense(num_quantile) # (y10, y90)\n",
    "])"
   ]
  },
  {
   "cell_type": "code",
   "execution_count": 51,
   "id": "bf131dc7",
   "metadata": {},
   "outputs": [],
   "source": [
    "# Customized loss function\n",
    "def pinballLoss_fn(y_true, y_pred, tau):\n",
    "    # tau: quantile, tau in [0.0, 1.0]\n",
    "    # y_true: label mean\n",
    "    # y_pred: predicted tau quantile\n",
    "    _q = y_true - y_pred\n",
    "    return tf.math.maximum( (tau*_q), ((tau-1.0)*_q))\n",
    "    \n",
    "def pinballLoss_10_90_fn(y_true, y_pred):\n",
    "    #\n",
    "    return pinballLoss_fn(y_true, y_pred[:,0:1], 0.1) + pinballLoss_fn(y_true, y_pred[:,1:2], 0.9)\n",
    "\n",
    "def pinballLoss_full_fn(y_true, y_pred):\n",
    "    #\n",
    "    pinball_losses = tf.stack( [pinballLoss_fn(y_true, y_pred[:, _i:(_i+1)], _tau) for _i, _tau in enumerate(quantile_list)], axis=1)\n",
    "    return tf.reduce_sum(pinball_losses, axis=1)"
   ]
  },
  {
   "cell_type": "code",
   "execution_count": 52,
   "id": "a71305d5",
   "metadata": {},
   "outputs": [],
   "source": [
    "# optimizer = keras.optimizers.SGD(lr=0.1, momentum=0.9)\n",
    "optimizer = keras.optimizers.Adam(lr=0.1)\n",
    "# model.compile(loss=pinballLoss_10_90_fn, optimizer=optimizer)\n",
    "model.compile(loss=pinballLoss_full_fn, optimizer=optimizer)"
   ]
  },
  {
   "cell_type": "code",
   "execution_count": 53,
   "id": "d935c409",
   "metadata": {
    "scrolled": true
   },
   "outputs": [
    {
     "name": "stdout",
     "output_type": "stream",
     "text": [
      "Epoch 1/100\n",
      "X.shape = (None, 1)\n",
      "gauss_grid.shape = (None, 5)\n",
      "X.shape = (None, 1)\n",
      "gauss_grid.shape = (None, 5)\n",
      "1/3 [=========>....................] - ETA: 0s - loss: 41.9911X.shape = (None, 1)\n",
      "gauss_grid.shape = (None, 5)\n",
      "3/3 [==============================] - 1s 77ms/step - loss: 41.6770 - val_loss: 32.7653\n",
      "Epoch 2/100\n",
      "3/3 [==============================] - 0s 24ms/step - loss: 39.3189 - val_loss: 29.2806\n",
      "Epoch 3/100\n",
      "3/3 [==============================] - 0s 40ms/step - loss: 34.8642 - val_loss: 24.1949\n",
      "Epoch 4/100\n",
      "3/3 [==============================] - 0s 33ms/step - loss: 28.5754 - val_loss: 17.8976\n",
      "Epoch 5/100\n",
      "3/3 [==============================] - 0s 33ms/step - loss: 21.9140 - val_loss: 12.6252\n",
      "Epoch 6/100\n",
      "3/3 [==============================] - 0s 25ms/step - loss: 16.1442 - val_loss: 11.8645\n",
      "Epoch 7/100\n",
      "3/3 [==============================] - 0s 31ms/step - loss: 13.9065 - val_loss: 13.0684\n",
      "Epoch 8/100\n",
      "3/3 [==============================] - 0s 40ms/step - loss: 13.5767 - val_loss: 13.3334\n",
      "Epoch 9/100\n",
      "3/3 [==============================] - 0s 35ms/step - loss: 13.4928 - val_loss: 12.1068\n",
      "Epoch 10/100\n",
      "3/3 [==============================] - 0s 18ms/step - loss: 12.3393 - val_loss: 10.4952\n",
      "Epoch 11/100\n",
      "3/3 [==============================] - 0s 17ms/step - loss: 10.8567 - val_loss: 9.1680\n",
      "Epoch 12/100\n",
      "3/3 [==============================] - 0s 22ms/step - loss: 9.1798 - val_loss: 7.8029\n",
      "Epoch 13/100\n",
      "3/3 [==============================] - 0s 16ms/step - loss: 8.2018 - val_loss: 6.2504\n",
      "Epoch 14/100\n",
      "3/3 [==============================] - 0s 24ms/step - loss: 7.5936 - val_loss: 5.0577\n",
      "Epoch 15/100\n",
      "3/3 [==============================] - 0s 15ms/step - loss: 6.7707 - val_loss: 4.7936\n",
      "Epoch 16/100\n",
      "3/3 [==============================] - 0s 19ms/step - loss: 5.9996 - val_loss: 4.9247\n",
      "Epoch 17/100\n",
      "3/3 [==============================] - 0s 17ms/step - loss: 5.9563 - val_loss: 5.0155\n",
      "Epoch 18/100\n",
      "3/3 [==============================] - 0s 21ms/step - loss: 5.5306 - val_loss: 4.9396\n",
      "Epoch 19/100\n",
      "3/3 [==============================] - 0s 17ms/step - loss: 5.5219 - val_loss: 5.0596\n",
      "Epoch 20/100\n",
      "3/3 [==============================] - 0s 20ms/step - loss: 5.4822 - val_loss: 4.8907\n",
      "Epoch 21/100\n",
      "3/3 [==============================] - 0s 16ms/step - loss: 5.2740 - val_loss: 4.6560\n",
      "Epoch 22/100\n",
      "3/3 [==============================] - 0s 17ms/step - loss: 5.0419 - val_loss: 4.8945\n",
      "Epoch 23/100\n",
      "3/3 [==============================] - 0s 20ms/step - loss: 5.2578 - val_loss: 4.6807\n",
      "Epoch 24/100\n",
      "3/3 [==============================] - 0s 17ms/step - loss: 5.0098 - val_loss: 4.4730\n",
      "Epoch 25/100\n",
      "3/3 [==============================] - 0s 17ms/step - loss: 4.9154 - val_loss: 4.4543\n",
      "Epoch 26/100\n",
      "3/3 [==============================] - 0s 20ms/step - loss: 4.8844 - val_loss: 4.0409\n",
      "Epoch 27/100\n",
      "3/3 [==============================] - 0s 20ms/step - loss: 4.6925 - val_loss: 3.9343\n",
      "Epoch 28/100\n",
      "3/3 [==============================] - 0s 15ms/step - loss: 4.6367 - val_loss: 3.6864\n",
      "Epoch 29/100\n",
      "3/3 [==============================] - 0s 19ms/step - loss: 4.5175 - val_loss: 3.9178\n",
      "Epoch 30/100\n",
      "3/3 [==============================] - 0s 20ms/step - loss: 4.5127 - val_loss: 4.3689\n",
      "Epoch 31/100\n",
      "3/3 [==============================] - 0s 22ms/step - loss: 4.4577 - val_loss: 4.3035\n",
      "Epoch 32/100\n",
      "3/3 [==============================] - 0s 17ms/step - loss: 4.3115 - val_loss: 4.0307\n",
      "Epoch 33/100\n",
      "3/3 [==============================] - 0s 17ms/step - loss: 4.3185 - val_loss: 3.7624\n",
      "Epoch 34/100\n",
      "3/3 [==============================] - 0s 24ms/step - loss: 4.2633 - val_loss: 3.6472\n",
      "Epoch 35/100\n",
      "3/3 [==============================] - 0s 14ms/step - loss: 4.3103 - val_loss: 3.6770\n",
      "Epoch 36/100\n",
      "3/3 [==============================] - 0s 24ms/step - loss: 4.2083 - val_loss: 3.6269\n",
      "Epoch 37/100\n",
      "3/3 [==============================] - ETA: 0s - loss: 4.073 - 0s 15ms/step - loss: 4.1618 - val_loss: 3.7264\n",
      "Epoch 38/100\n",
      "3/3 [==============================] - 0s 24ms/step - loss: 4.1030 - val_loss: 3.9336\n",
      "Epoch 39/100\n",
      "3/3 [==============================] - 0s 18ms/step - loss: 3.9937 - val_loss: 3.8119\n",
      "Epoch 40/100\n",
      "3/3 [==============================] - ETA: 0s - loss: 3.542 - 0s 17ms/step - loss: 4.0301 - val_loss: 3.6578\n",
      "Epoch 41/100\n",
      "3/3 [==============================] - 0s 17ms/step - loss: 3.9697 - val_loss: 4.1144\n",
      "Epoch 42/100\n",
      "3/3 [==============================] - 0s 18ms/step - loss: 3.9766 - val_loss: 3.8283\n",
      "Epoch 43/100\n",
      "3/3 [==============================] - 0s 23ms/step - loss: 3.8335 - val_loss: 3.6988\n",
      "Epoch 44/100\n",
      "3/3 [==============================] - 0s 17ms/step - loss: 3.8275 - val_loss: 3.4773\n",
      "Epoch 45/100\n",
      "3/3 [==============================] - 0s 19ms/step - loss: 3.8095 - val_loss: 3.4973\n",
      "Epoch 46/100\n",
      "3/3 [==============================] - 0s 17ms/step - loss: 3.6830 - val_loss: 3.6491\n",
      "Epoch 47/100\n",
      "3/3 [==============================] - 0s 17ms/step - loss: 3.7778 - val_loss: 3.7497\n",
      "Epoch 48/100\n",
      "3/3 [==============================] - 0s 18ms/step - loss: 3.5931 - val_loss: 3.8017\n",
      "Epoch 49/100\n",
      "3/3 [==============================] - 0s 20ms/step - loss: 3.7686 - val_loss: 3.7709\n",
      "Epoch 50/100\n",
      "3/3 [==============================] - 0s 18ms/step - loss: 3.5729 - val_loss: 4.1244\n",
      "Epoch 51/100\n",
      "3/3 [==============================] - 0s 21ms/step - loss: 3.6066 - val_loss: 3.2766\n",
      "Epoch 52/100\n",
      "3/3 [==============================] - 0s 22ms/step - loss: 3.6203 - val_loss: 3.2909\n",
      "Epoch 53/100\n",
      "3/3 [==============================] - 0s 23ms/step - loss: 3.3677 - val_loss: 3.8275\n",
      "Epoch 54/100\n",
      "3/3 [==============================] - 0s 14ms/step - loss: 3.5276 - val_loss: 3.2290\n",
      "Epoch 55/100\n",
      "3/3 [==============================] - 0s 20ms/step - loss: 3.1585 - val_loss: 3.0907\n",
      "Epoch 56/100\n",
      "3/3 [==============================] - ETA: 0s - loss: 3.318 - 0s 21ms/step - loss: 3.2133 - val_loss: 3.0725\n",
      "Epoch 57/100\n",
      "3/3 [==============================] - 0s 19ms/step - loss: 3.0909 - val_loss: 3.1812\n",
      "Epoch 58/100\n",
      "3/3 [==============================] - 0s 17ms/step - loss: 3.1558 - val_loss: 2.9507\n",
      "Epoch 59/100\n",
      "3/3 [==============================] - 0s 21ms/step - loss: 2.9775 - val_loss: 2.8888\n",
      "Epoch 60/100\n",
      "3/3 [==============================] - 0s 14ms/step - loss: 2.9166 - val_loss: 3.0914\n",
      "Epoch 61/100\n",
      "3/3 [==============================] - 0s 17ms/step - loss: 2.8659 - val_loss: 2.8387\n",
      "Epoch 62/100\n",
      "3/3 [==============================] - 0s 22ms/step - loss: 2.8343 - val_loss: 2.8433\n",
      "Epoch 63/100\n",
      "3/3 [==============================] - 0s 14ms/step - loss: 2.7684 - val_loss: 2.8758\n",
      "Epoch 64/100\n",
      "3/3 [==============================] - 0s 22ms/step - loss: 2.7032 - val_loss: 2.7306\n",
      "Epoch 65/100\n",
      "3/3 [==============================] - 0s 14ms/step - loss: 2.7509 - val_loss: 2.9635\n",
      "Epoch 66/100\n",
      "3/3 [==============================] - 0s 17ms/step - loss: 2.8316 - val_loss: 3.1115\n",
      "Epoch 67/100\n",
      "3/3 [==============================] - 0s 22ms/step - loss: 3.0285 - val_loss: 3.4009\n",
      "Epoch 68/100\n",
      "3/3 [==============================] - 0s 18ms/step - loss: 3.1653 - val_loss: 3.2659\n",
      "Epoch 69/100\n",
      "3/3 [==============================] - 0s 17ms/step - loss: 2.9184 - val_loss: 2.9046\n",
      "Epoch 70/100\n",
      "3/3 [==============================] - 0s 18ms/step - loss: 2.6417 - val_loss: 3.1142\n",
      "Epoch 71/100\n",
      "3/3 [==============================] - 0s 22ms/step - loss: 2.8453 - val_loss: 2.7509\n",
      "Epoch 72/100\n",
      "3/3 [==============================] - 0s 21ms/step - loss: 2.7923 - val_loss: 2.9412\n",
      "Epoch 73/100\n",
      "3/3 [==============================] - 0s 24ms/step - loss: 2.8495 - val_loss: 2.9285\n",
      "Epoch 74/100\n",
      "3/3 [==============================] - 0s 16ms/step - loss: 2.8277 - val_loss: 2.6882\n",
      "Epoch 75/100\n",
      "3/3 [==============================] - 0s 17ms/step - loss: 2.7328 - val_loss: 3.2756\n",
      "Epoch 76/100\n",
      "3/3 [==============================] - 0s 18ms/step - loss: 2.7927 - val_loss: 2.8143\n",
      "Epoch 77/100\n",
      "3/3 [==============================] - 0s 23ms/step - loss: 2.6196 - val_loss: 2.6393\n",
      "Epoch 78/100\n",
      "3/3 [==============================] - 0s 15ms/step - loss: 2.6069 - val_loss: 2.6688\n",
      "Epoch 79/100\n",
      "3/3 [==============================] - 0s 18ms/step - loss: 2.5478 - val_loss: 2.9243\n",
      "Epoch 80/100\n",
      "3/3 [==============================] - 0s 22ms/step - loss: 2.6185 - val_loss: 2.7752\n"
     ]
    },
    {
     "name": "stdout",
     "output_type": "stream",
     "text": [
      "Epoch 81/100\n",
      "3/3 [==============================] - 0s 14ms/step - loss: 2.5456 - val_loss: 2.5466\n",
      "Epoch 82/100\n",
      "3/3 [==============================] - 0s 22ms/step - loss: 2.6432 - val_loss: 2.7892\n",
      "Epoch 83/100\n",
      "3/3 [==============================] - 0s 15ms/step - loss: 2.7642 - val_loss: 3.1369\n",
      "Epoch 84/100\n",
      "3/3 [==============================] - 0s 22ms/step - loss: 2.9021 - val_loss: 3.1308\n",
      "Epoch 85/100\n",
      "3/3 [==============================] - 0s 16ms/step - loss: 2.8305 - val_loss: 2.5420\n",
      "Epoch 86/100\n",
      "3/3 [==============================] - 0s 17ms/step - loss: 2.5707 - val_loss: 2.6141\n",
      "Epoch 87/100\n",
      "3/3 [==============================] - 0s 17ms/step - loss: 2.5484 - val_loss: 2.7123\n",
      "Epoch 88/100\n",
      "3/3 [==============================] - 0s 19ms/step - loss: 2.5121 - val_loss: 2.7616\n",
      "Epoch 89/100\n",
      "3/3 [==============================] - 0s 18ms/step - loss: 2.5276 - val_loss: 2.6340\n",
      "Epoch 90/100\n",
      "3/3 [==============================] - 0s 17ms/step - loss: 2.6250 - val_loss: 2.8368\n",
      "Epoch 91/100\n",
      "3/3 [==============================] - 0s 17ms/step - loss: 2.6305 - val_loss: 2.6310\n",
      "Epoch 92/100\n",
      "3/3 [==============================] - 0s 23ms/step - loss: 2.5130 - val_loss: 3.3473\n",
      "Epoch 93/100\n",
      "3/3 [==============================] - 0s 14ms/step - loss: 2.9430 - val_loss: 2.7745\n",
      "Epoch 94/100\n",
      "3/3 [==============================] - 0s 23ms/step - loss: 2.5721 - val_loss: 2.7470\n",
      "Epoch 95/100\n",
      "3/3 [==============================] - 0s 20ms/step - loss: 2.5913 - val_loss: 2.5298\n",
      "Epoch 96/100\n",
      "3/3 [==============================] - 0s 17ms/step - loss: 2.5274 - val_loss: 2.7776\n",
      "Epoch 97/100\n",
      "3/3 [==============================] - 0s 17ms/step - loss: 2.4832 - val_loss: 2.7701\n",
      "Epoch 98/100\n",
      "3/3 [==============================] - 0s 23ms/step - loss: 2.6781 - val_loss: 2.7401\n",
      "Epoch 99/100\n",
      "3/3 [==============================] - 0s 17ms/step - loss: 2.6127 - val_loss: 2.6549\n",
      "Epoch 100/100\n",
      "3/3 [==============================] - 0s 18ms/step - loss: 2.6234 - val_loss: 2.6749\n"
     ]
    }
   ],
   "source": [
    "history = model.fit(X_train, y_train, epochs=100,\n",
    "                    validation_data=(X_valid, y_valid))"
   ]
  },
  {
   "cell_type": "code",
   "execution_count": 54,
   "id": "e7fa5656",
   "metadata": {
    "scrolled": false
   },
   "outputs": [
    {
     "data": {
      "image/png": "[encoded data removed]",
      "text/plain": [
       "<Figure size 576x360 with 1 Axes>"
      ]
     },
     "metadata": {
      "needs_background": "light"
     },
     "output_type": "display_data"
    }
   ],
   "source": [
    "import pandas as pd\n",
    "\n",
    "pd.DataFrame(history.history).plot(figsize=(8, 5))\n",
    "plt.grid(True)\n",
    "# plt.gca().set_ylim(0, 1)\n",
    "plt.show()"
   ]
  },
  {
   "cell_type": "markdown",
   "id": "a4a59dd6",
   "metadata": {},
   "source": [
    "### Draw the mean prediction curve averaged from all quantile predictions."
   ]
  },
  {
   "cell_type": "code",
   "execution_count": 55,
   "id": "0e5d0058",
   "metadata": {},
   "outputs": [
    {
     "name": "stdout",
     "output_type": "stream",
     "text": [
      "X.shape = (None, 1)\n",
      "gauss_grid.shape = (None, 5)\n"
     ]
    },
    {
     "data": {
      "image/png": "[encoded data removed]",
      "text/plain": [
       "<Figure size 432x288 with 1 Axes>"
      ]
     },
     "metadata": {
      "needs_background": "light"
     },
     "output_type": "display_data"
    }
   ],
   "source": [
    "plt.plot(X_train, y_train, \"b.\")\n",
    "draw_func((lambda X: np.average(model.predict(X), axis=-1) ), mark='r-', linewidth=2, label=\"Predictions\")\n",
    "# draw_func((lambda X: model.predict(X)[:,0] ), mark='k--', linewidth=1, label=\"$y_{%d}$\" % (quantile_list[0]*100))\n",
    "# draw_func((lambda X: model.predict(X)[:,-1] ), mark='k--', linewidth=1, label=\"$y_{%d}$\" % (quantile_list[-1]*100))\n",
    "draw_normal_func(func_dict)\n",
    "plt.xlabel(\"$x_1$\", fontsize=18)\n",
    "plt.ylabel(\"$y$\", rotation=0, fontsize=18)\n",
    "plt.legend(loc=\"upper left\", fontsize=14)\n",
    "# plt.axis([-3, 3, 0, 10])\n",
    "plt.show()"
   ]
  },
  {
   "cell_type": "code",
   "execution_count": 56,
   "id": "f98d3ae8",
   "metadata": {},
   "outputs": [
    {
     "name": "stdout",
     "output_type": "stream",
     "text": [
      "y_func.shape = (100, 1)\n",
      "y_gt.shape = (100, 1)\n"
     ]
    },
    {
     "data": {
      "text/plain": [
       "1.2991346172273432"
      ]
     },
     "execution_count": 56,
     "metadata": {},
     "output_type": "execute_result"
    }
   ],
   "source": [
    "get_prediction_error((lambda X: np.average(model.predict(X), axis=-1) ), func_dict, name=\"grid-quantileR\")"
   ]
  },
  {
   "cell_type": "markdown",
   "id": "f79ac920",
   "metadata": {},
   "source": [
    "### Draw first and last quantile curve."
   ]
  },
  {
   "cell_type": "code",
   "execution_count": 57,
   "id": "42eeb254",
   "metadata": {},
   "outputs": [
    {
     "data": {
      "image/png": "[encoded data removed]",
      "text/plain": [
       "<Figure size 432x288 with 1 Axes>"
      ]
     },
     "metadata": {
      "needs_background": "light"
     },
     "output_type": "display_data"
    }
   ],
   "source": [
    "plt.plot(X_train, y_train, \"b.\")\n",
    "draw_func((lambda X: np.average(model.predict(X), axis=-1) ), mark='r-', linewidth=2, label=\"Predictions\")\n",
    "draw_func((lambda X: model.predict(X)[:,0] ), mark='k--', linewidth=1, label=\"$y_{%d}$\" % (quantile_list[0]*100))\n",
    "draw_func((lambda X: model.predict(X)[:,-1] ), mark='k--', linewidth=1, label=\"$y_{%d}$\" % (quantile_list[-1]*100))\n",
    "draw_normal_func(func_dict)\n",
    "plt.xlabel(\"$x_1$\", fontsize=18)\n",
    "plt.ylabel(\"$y$\", rotation=0, fontsize=18)\n",
    "plt.legend(loc=\"upper left\", fontsize=14)\n",
    "# plt.axis([-3, 3, 0, 10])\n",
    "plt.show()"
   ]
  },
  {
   "cell_type": "markdown",
   "id": "2a1b1b44",
   "metadata": {},
   "source": [
    "### Draw all quantile predictions"
   ]
  },
  {
   "cell_type": "code",
   "execution_count": 58,
   "id": "5e875238",
   "metadata": {},
   "outputs": [
    {
     "data": {
      "image/png": "[encoded data removed]",
      "text/plain": [
       "<Figure size 432x288 with 1 Axes>"
      ]
     },
     "metadata": {
      "needs_background": "light"
     },
     "output_type": "display_data"
    }
   ],
   "source": [
    "plt.plot(X_train, y_train, \"b.\")\n",
    "draw_func((lambda X: np.average(model.predict(X), axis=-1) ), mark='r-', linewidth=2, label=\"Predictions\")\n",
    "for _idx, _tau in enumerate(quantile_list):\n",
    "    draw_func((lambda X: model.predict(X)[:,_idx] ), mark='k--', linewidth=1, label=\"$y_{%d}$\" % (_tau*100))\n",
    "draw_normal_func(func_dict)\n",
    "plt.xlabel(\"$x_1$\", fontsize=18)\n",
    "plt.ylabel(\"$y$\", rotation=0, fontsize=18)\n",
    "plt.legend(loc=\"upper left\", fontsize=14)\n",
    "# plt.axis([-3, 3, 0, 10])\n",
    "plt.show()"
   ]
  },
  {
   "cell_type": "markdown",
   "id": "9a01aa69",
   "metadata": {},
   "source": [
    "## Gaussian Estimation with Gaussian Loss (grid-->parameters)\n",
    "\n",
    "Gaussain estimation requires the model to predict the mean and variance of a Gaussian distribution of the random variable regarded. The training purpose is to fit a Gaussian distribution to the data distribution (which is not necessay distributed as Gaussian).\n",
    "\n",
    "One possible solution, derived by BensonHuang, is that the model estimates $(\\mu, z)$, where $z=\\alpha ^{-1}log(\\sigma)$.\n",
    "The associated loss function can be $L_G(y, (\\mu,z)) = 0.5e^{-2\\alpha z}(y-\\mu)^2 + \\alpha z$."
   ]
  },
  {
   "cell_type": "code",
   "execution_count": 59,
   "id": "1a20d5dd",
   "metadata": {},
   "outputs": [],
   "source": [
    "alpha = 1.0\n",
    "# alpha = 0.01\n",
    "# alpha = 0.001"
   ]
  },
  {
   "cell_type": "code",
   "execution_count": 60,
   "id": "cb202ed2",
   "metadata": {},
   "outputs": [
    {
     "name": "stdout",
     "output_type": "stream",
     "text": [
      "X.shape = (None, 1)\n",
      "gauss_grid.shape = (None, 5)\n"
     ]
    }
   ],
   "source": [
    "model = keras.models.Sequential([\n",
    "    num2grid(5,x_min=-10, x_max=10, sigma=3.0, input_shape=X_train.shape[1:]),\n",
    "#     keras.layers.Dense(30, activation=\"relu\"),\n",
    "    keras.layers.Dense(60, activation=\"relu\"),\n",
    "#     keras.layers.Dense(30, activation=keras.layers.LeakyReLU(alpha=0.2) ),\n",
    "#     keras.layers.Dense(30, activation=\"selu\"),\n",
    "    keras.layers.Dense(2) # (mu, z)\n",
    "])"
   ]
  },
  {
   "cell_type": "code",
   "execution_count": 61,
   "id": "925f0a22",
   "metadata": {},
   "outputs": [
    {
     "name": "stdout",
     "output_type": "stream",
     "text": [
      "alpha = 1.000000\n"
     ]
    }
   ],
   "source": [
    "# Customized loss function\n",
    "print(\"alpha = %f\" % alpha)\n",
    "\n",
    "def GaussianLoss_fn(y_true, y_pred):\n",
    "    # y_true: label \n",
    "    # y_pred: (mu, z), z=log(sigma)\n",
    "    mu = y_pred[:, 0:1]\n",
    "    z  = y_pred[:, 1:2]\n",
    "    #\n",
    "    en2z = tf.math.exp((-2.0*alpha)*z)\n",
    "    ymu2 = (y_true - mu)**2\n",
    "    return (0.5*en2z*ymu2 + alpha*z)"
   ]
  },
  {
   "cell_type": "code",
   "execution_count": 62,
   "id": "1b388b4b",
   "metadata": {},
   "outputs": [],
   "source": [
    "# Learning rate scheduler\n",
    "learning_rate_switch_epoch_list = [30, 45]\n",
    "learning_rate_list = [0.001, 0.01, 0.1]\n",
    "# learning_rate_switch_epoch_list = [30, 80]\n",
    "# learning_rate_list = [0.01, 0.1, 0.01]\n",
    "#\n",
    "def piecewise_constant_fn(epoch):\n",
    "    for _i, epoch_s in enumerate(learning_rate_switch_epoch_list):\n",
    "        if epoch < epoch_s:\n",
    "            return learning_rate_list[_i]\n",
    "    return learning_rate_list[-1]\n",
    "\n",
    "lr_scheduler = keras.callbacks.LearningRateScheduler(piecewise_constant_fn)"
   ]
  },
  {
   "cell_type": "markdown",
   "id": "6ec2e05e",
   "metadata": {},
   "source": [
    "Third training with even greater speed"
   ]
  },
  {
   "cell_type": "code",
   "execution_count": 63,
   "id": "7a7e245b",
   "metadata": {},
   "outputs": [
    {
     "name": "stderr",
     "output_type": "stream",
     "text": [
      "C:\\Users\\benso\\anaconda3\\envs\\ml\\lib\\site-packages\\keras\\optimizer_v2\\adam.py:105: UserWarning: The `lr` argument is deprecated, use `learning_rate` instead.\n",
      "  super(Adam, self).__init__(name, **kwargs)\n"
     ]
    }
   ],
   "source": [
    "# optimizer = keras.optimizers.SGD(lr=0.1, momentum=0.9)\n",
    "optimizer = keras.optimizers.Adam(lr=0.1)\n",
    "model.compile(loss=GaussianLoss_fn, optimizer=optimizer)"
   ]
  },
  {
   "cell_type": "code",
   "execution_count": 64,
   "id": "6d7b74a9",
   "metadata": {
    "scrolled": true
   },
   "outputs": [
    {
     "name": "stdout",
     "output_type": "stream",
     "text": [
      "Epoch 1/200\n",
      "X.shape = (None, 1)\n",
      "gauss_grid.shape = (None, 5)\n",
      "X.shape = (None, 1)\n",
      "gauss_grid.shape = (None, 5)\n",
      "1/3 [=========>....................] - ETA: 0s - loss: 1933.5593X.shape = (None, 1)\n",
      "gauss_grid.shape = (None, 5)\n",
      "3/3 [==============================] - 1s 81ms/step - loss: 787.7917 - val_loss: 6.2492\n",
      "Epoch 2/200\n",
      "3/3 [==============================] - 0s 20ms/step - loss: 7.7162 - val_loss: 11.9389\n",
      "Epoch 3/200\n",
      "3/3 [==============================] - 0s 43ms/step - loss: 12.9460 - val_loss: 16.1025\n",
      "Epoch 4/200\n",
      "3/3 [==============================] - 0s 22ms/step - loss: 16.6452 - val_loss: 18.8105\n",
      "Epoch 5/200\n",
      "3/3 [==============================] - 0s 35ms/step - loss: 18.9928 - val_loss: 20.3623\n",
      "Epoch 6/200\n",
      "3/3 [==============================] - 0s 35ms/step - loss: 20.3132 - val_loss: 21.0077\n",
      "Epoch 7/200\n",
      "3/3 [==============================] - 0s 34ms/step - loss: 20.8168 - val_loss: 20.9911\n",
      "Epoch 8/200\n",
      "3/3 [==============================] - 0s 29ms/step - loss: 20.7550 - val_loss: 20.4492\n",
      "Epoch 9/200\n",
      "3/3 [==============================] - 0s 30ms/step - loss: 20.2286 - val_loss: 19.4956\n",
      "Epoch 10/200\n",
      "3/3 [==============================] - 0s 29ms/step - loss: 19.3387 - val_loss: 18.2476\n",
      "Epoch 11/200\n",
      "3/3 [==============================] - 0s 20ms/step - loss: 18.1563 - val_loss: 16.7259\n",
      "Epoch 12/200\n",
      "3/3 [==============================] - 0s 23ms/step - loss: 16.7170 - val_loss: 14.8595\n",
      "Epoch 13/200\n",
      "3/3 [==============================] - 0s 18ms/step - loss: 14.9225 - val_loss: 12.5759\n",
      "Epoch 14/200\n",
      "3/3 [==============================] - 0s 18ms/step - loss: 12.7442 - val_loss: 9.7752\n",
      "Epoch 15/200\n",
      "3/3 [==============================] - 0s 16ms/step - loss: 10.0423 - val_loss: 6.6327\n",
      "Epoch 16/200\n",
      "3/3 [==============================] - 0s 19ms/step - loss: 8.5857 - val_loss: 6.2710\n",
      "Epoch 17/200\n",
      "3/3 [==============================] - 0s 17ms/step - loss: 7.0645 - val_loss: 5.8398\n",
      "Epoch 18/200\n",
      "3/3 [==============================] - 0s 22ms/step - loss: 6.6403 - val_loss: 5.3264\n",
      "Epoch 19/200\n",
      "3/3 [==============================] - 0s 19ms/step - loss: 5.6409 - val_loss: 4.2194\n",
      "Epoch 20/200\n",
      "3/3 [==============================] - 0s 18ms/step - loss: 4.3987 - val_loss: 5.0547\n",
      "Epoch 21/200\n",
      "3/3 [==============================] - 0s 17ms/step - loss: 4.5741 - val_loss: 3.9391\n",
      "Epoch 22/200\n",
      "3/3 [==============================] - 0s 17ms/step - loss: 4.3375 - val_loss: 4.5324\n",
      "Epoch 23/200\n",
      "3/3 [==============================] - 0s 25ms/step - loss: 4.6262 - val_loss: 4.3024\n",
      "Epoch 24/200\n",
      "3/3 [==============================] - 0s 13ms/step - loss: 4.3581 - val_loss: 3.9606\n",
      "Epoch 25/200\n",
      "3/3 [==============================] - 0s 18ms/step - loss: 4.3072 - val_loss: 3.7583\n",
      "Epoch 26/200\n",
      "3/3 [==============================] - 0s 19ms/step - loss: 4.0286 - val_loss: 3.7793\n",
      "Epoch 27/200\n",
      "3/3 [==============================] - 0s 19ms/step - loss: 4.0567 - val_loss: 3.9828\n",
      "Epoch 28/200\n",
      "3/3 [==============================] - 0s 24ms/step - loss: 4.0903 - val_loss: 3.8147\n",
      "Epoch 29/200\n",
      "3/3 [==============================] - 0s 19ms/step - loss: 3.9949 - val_loss: 3.7106\n",
      "Epoch 30/200\n",
      "3/3 [==============================] - 0s 22ms/step - loss: 3.9326 - val_loss: 3.6603\n",
      "Epoch 31/200\n",
      "3/3 [==============================] - 0s 22ms/step - loss: 3.9243 - val_loss: 3.6589\n",
      "Epoch 32/200\n",
      "3/3 [==============================] - 0s 33ms/step - loss: 3.9188 - val_loss: 3.6539\n",
      "Epoch 33/200\n",
      "3/3 [==============================] - 0s 18ms/step - loss: 3.8945 - val_loss: 3.6415\n",
      "Epoch 34/200\n",
      "3/3 [==============================] - 0s 14ms/step - loss: 3.8676 - val_loss: 3.6600\n",
      "Epoch 35/200\n",
      "3/3 [==============================] - 0s 22ms/step - loss: 3.8530 - val_loss: 3.6530\n",
      "Epoch 36/200\n",
      "3/3 [==============================] - 0s 19ms/step - loss: 3.8416 - val_loss: 3.6355\n",
      "Epoch 37/200\n",
      "3/3 [==============================] - 0s 26ms/step - loss: 3.8199 - val_loss: 3.6089\n",
      "Epoch 38/200\n",
      "3/3 [==============================] - 0s 20ms/step - loss: 3.8000 - val_loss: 3.5962\n",
      "Epoch 39/200\n",
      "3/3 [==============================] - 0s 17ms/step - loss: 3.7851 - val_loss: 3.5849\n",
      "Epoch 40/200\n",
      "3/3 [==============================] - 0s 28ms/step - loss: 3.7592 - val_loss: 3.5794\n",
      "Epoch 41/200\n",
      "3/3 [==============================] - 0s 24ms/step - loss: 3.7335 - val_loss: 3.5725\n",
      "Epoch 42/200\n",
      "3/3 [==============================] - 0s 29ms/step - loss: 3.7091 - val_loss: 3.5584\n",
      "Epoch 43/200\n",
      "3/3 [==============================] - 0s 31ms/step - loss: 3.6834 - val_loss: 3.5359\n",
      "Epoch 44/200\n",
      "3/3 [==============================] - 0s 19ms/step - loss: 3.6495 - val_loss: 3.5158\n",
      "Epoch 45/200\n",
      "3/3 [==============================] - 0s 18ms/step - loss: 3.6178 - val_loss: 3.5026\n",
      "Epoch 46/200\n",
      "3/3 [==============================] - 0s 31ms/step - loss: 3.5922 - val_loss: 3.4846\n",
      "Epoch 47/200\n",
      "3/3 [==============================] - 0s 31ms/step - loss: 3.5449 - val_loss: 3.4642\n",
      "Epoch 48/200\n",
      "3/3 [==============================] - 0s 19ms/step - loss: 3.5110 - val_loss: 3.4423\n",
      "Epoch 49/200\n",
      "3/3 [==============================] - 0s 37ms/step - loss: 3.4778 - val_loss: 3.4170\n",
      "Epoch 50/200\n",
      "3/3 [==============================] - 0s 37ms/step - loss: 3.4306 - val_loss: 3.3726\n",
      "Epoch 51/200\n",
      "3/3 [==============================] - 0s 33ms/step - loss: 3.4108 - val_loss: 3.3376\n",
      "Epoch 52/200\n",
      "3/3 [==============================] - 0s 19ms/step - loss: 3.3845 - val_loss: 3.3064\n",
      "Epoch 53/200\n",
      "3/3 [==============================] - 0s 33ms/step - loss: 3.3495 - val_loss: 3.2841\n",
      "Epoch 54/200\n",
      "3/3 [==============================] - 0s 40ms/step - loss: 3.3683 - val_loss: 3.2644\n",
      "Epoch 55/200\n",
      "3/3 [==============================] - 0s 24ms/step - loss: 3.3299 - val_loss: 3.2679\n",
      "Epoch 56/200\n",
      "3/3 [==============================] - 0s 20ms/step - loss: 3.3351 - val_loss: 3.2476\n",
      "Epoch 57/200\n",
      "3/3 [==============================] - 0s 22ms/step - loss: 3.3179 - val_loss: 3.2384\n",
      "Epoch 58/200\n",
      "3/3 [==============================] - 0s 16ms/step - loss: 3.3134 - val_loss: 3.2288\n",
      "Epoch 59/200\n",
      "3/3 [==============================] - 0s 30ms/step - loss: 3.3158 - val_loss: 3.2182\n",
      "Epoch 60/200\n",
      "3/3 [==============================] - 0s 30ms/step - loss: 3.3195 - val_loss: 3.2152\n",
      "Epoch 61/200\n",
      "3/3 [==============================] - 0s 31ms/step - loss: 3.3151 - val_loss: 3.2353\n",
      "Epoch 62/200\n",
      "3/3 [==============================] - 0s 18ms/step - loss: 3.3292 - val_loss: 3.2473\n",
      "Epoch 63/200\n",
      "3/3 [==============================] - 0s 18ms/step - loss: 3.3144 - val_loss: 3.2608\n",
      "Epoch 64/200\n",
      "3/3 [==============================] - 0s 28ms/step - loss: 3.3232 - val_loss: 3.2472\n",
      "Epoch 65/200\n",
      "3/3 [==============================] - 0s 24ms/step - loss: 3.3083 - val_loss: 3.2258\n",
      "Epoch 66/200\n",
      "3/3 [==============================] - 0s 38ms/step - loss: 3.3088 - val_loss: 3.2219\n",
      "Epoch 67/200\n",
      "3/3 [==============================] - 0s 30ms/step - loss: 3.2961 - val_loss: 3.2138\n",
      "Epoch 68/200\n",
      "3/3 [==============================] - 0s 18ms/step - loss: 3.3056 - val_loss: 3.2028\n",
      "Epoch 69/200\n",
      "3/3 [==============================] - 0s 32ms/step - loss: 3.3424 - val_loss: 3.2111\n",
      "Epoch 70/200\n",
      "3/3 [==============================] - 0s 18ms/step - loss: 3.2972 - val_loss: 3.2244\n",
      "Epoch 71/200\n",
      "3/3 [==============================] - 0s 19ms/step - loss: 3.2918 - val_loss: 3.2586\n",
      "Epoch 72/200\n",
      "3/3 [==============================] - 0s 25ms/step - loss: 3.2933 - val_loss: 3.2317\n",
      "Epoch 73/200\n",
      "3/3 [==============================] - 0s 20ms/step - loss: 3.3046 - val_loss: 3.2217\n",
      "Epoch 74/200\n",
      "3/3 [==============================] - 0s 15ms/step - loss: 3.2880 - val_loss: 3.2445\n",
      "Epoch 75/200\n",
      "3/3 [==============================] - 0s 24ms/step - loss: 3.3111 - val_loss: 3.2179\n",
      "Epoch 76/200\n",
      "3/3 [==============================] - 0s 29ms/step - loss: 3.2883 - val_loss: 3.2046\n",
      "Epoch 77/200\n",
      "3/3 [==============================] - 0s 27ms/step - loss: 3.2865 - val_loss: 3.2087\n",
      "Epoch 78/200\n",
      "3/3 [==============================] - ETA: 0s - loss: 3.360 - 0s 26ms/step - loss: 3.2862 - val_loss: 3.1979\n",
      "Epoch 79/200\n",
      "3/3 [==============================] - 0s 28ms/step - loss: 3.2831 - val_loss: 3.1985\n",
      "Epoch 80/200\n",
      "3/3 [==============================] - 0s 30ms/step - loss: 3.2793 - val_loss: 3.2027\n",
      "Epoch 81/200\n"
     ]
    },
    {
     "name": "stdout",
     "output_type": "stream",
     "text": [
      "3/3 [==============================] - 0s 21ms/step - loss: 3.2856 - val_loss: 3.2163\n",
      "Epoch 82/200\n",
      "3/3 [==============================] - 0s 19ms/step - loss: 3.2869 - val_loss: 3.2152\n",
      "Epoch 83/200\n",
      "3/3 [==============================] - 0s 21ms/step - loss: 3.2877 - val_loss: 3.2285\n",
      "Epoch 84/200\n",
      "3/3 [==============================] - 0s 16ms/step - loss: 3.2817 - val_loss: 3.2400\n",
      "Epoch 85/200\n",
      "3/3 [==============================] - 0s 16ms/step - loss: 3.3098 - val_loss: 3.1913\n",
      "Epoch 86/200\n",
      "3/3 [==============================] - 0s 22ms/step - loss: 3.2756 - val_loss: 3.2058\n",
      "Epoch 87/200\n",
      "3/3 [==============================] - 0s 16ms/step - loss: 3.2749 - val_loss: 3.2256\n",
      "Epoch 88/200\n",
      "3/3 [==============================] - 0s 21ms/step - loss: 3.2738 - val_loss: 3.2365\n",
      "Epoch 89/200\n",
      "3/3 [==============================] - 0s 16ms/step - loss: 3.2750 - val_loss: 3.1848\n",
      "Epoch 90/200\n",
      "3/3 [==============================] - 0s 19ms/step - loss: 3.2476 - val_loss: 3.1758\n",
      "Epoch 91/200\n",
      "3/3 [==============================] - 0s 22ms/step - loss: 3.3034 - val_loss: 3.1966\n",
      "Epoch 92/200\n",
      "3/3 [==============================] - 0s 17ms/step - loss: 3.3239 - val_loss: 3.2214\n",
      "Epoch 93/200\n",
      "3/3 [==============================] - 0s 17ms/step - loss: 3.2580 - val_loss: 3.3637\n",
      "Epoch 94/200\n",
      "3/3 [==============================] - 0s 16ms/step - loss: 3.3253 - val_loss: 3.2293\n",
      "Epoch 95/200\n",
      "3/3 [==============================] - 0s 17ms/step - loss: 3.2967 - val_loss: 3.1718\n",
      "Epoch 96/200\n",
      "3/3 [==============================] - 0s 18ms/step - loss: 3.2388 - val_loss: 3.1870\n",
      "Epoch 97/200\n",
      "3/3 [==============================] - 0s 22ms/step - loss: 3.2739 - val_loss: 3.1801\n",
      "Epoch 98/200\n",
      "3/3 [==============================] - 0s 17ms/step - loss: 3.2427 - val_loss: 3.1739\n",
      "Epoch 99/200\n",
      "3/3 [==============================] - 0s 18ms/step - loss: 3.2441 - val_loss: 3.1421\n",
      "Epoch 100/200\n",
      "3/3 [==============================] - 0s 22ms/step - loss: 3.2316 - val_loss: 3.1416\n",
      "Epoch 101/200\n",
      "3/3 [==============================] - 0s 18ms/step - loss: 3.2240 - val_loss: 3.1405\n",
      "Epoch 102/200\n",
      "3/3 [==============================] - 0s 17ms/step - loss: 3.2156 - val_loss: 3.1536\n",
      "Epoch 103/200\n",
      "3/3 [==============================] - 0s 17ms/step - loss: 3.2244 - val_loss: 3.1519\n",
      "Epoch 104/200\n",
      "3/3 [==============================] - 0s 22ms/step - loss: 3.2122 - val_loss: 3.1458\n",
      "Epoch 105/200\n",
      "3/3 [==============================] - 0s 16ms/step - loss: 3.2225 - val_loss: 3.1317\n",
      "Epoch 106/200\n",
      "3/3 [==============================] - 0s 21ms/step - loss: 3.2146 - val_loss: 3.1568\n",
      "Epoch 107/200\n",
      "3/3 [==============================] - 0s 16ms/step - loss: 3.2163 - val_loss: 3.1555\n",
      "Epoch 108/200\n",
      "3/3 [==============================] - 0s 21ms/step - loss: 3.2151 - val_loss: 3.1638\n",
      "Epoch 109/200\n",
      "3/3 [==============================] - 0s 13ms/step - loss: 3.2101 - val_loss: 3.1503\n",
      "Epoch 110/200\n",
      "3/3 [==============================] - 0s 22ms/step - loss: 3.1959 - val_loss: 3.1356\n",
      "Epoch 111/200\n",
      "3/3 [==============================] - 0s 14ms/step - loss: 3.1963 - val_loss: 3.1185\n",
      "Epoch 112/200\n",
      "3/3 [==============================] - 0s 17ms/step - loss: 3.1790 - val_loss: 3.1188\n",
      "Epoch 113/200\n",
      "3/3 [==============================] - 0s 22ms/step - loss: 3.1820 - val_loss: 3.0959\n",
      "Epoch 114/200\n",
      "3/3 [==============================] - 0s 16ms/step - loss: 3.1746 - val_loss: 3.0961\n",
      "Epoch 115/200\n",
      "3/3 [==============================] - 0s 23ms/step - loss: 3.2068 - val_loss: 3.1173\n",
      "Epoch 116/200\n",
      "3/3 [==============================] - 0s 17ms/step - loss: 3.1750 - val_loss: 3.1246\n",
      "Epoch 117/200\n",
      "3/3 [==============================] - 0s 19ms/step - loss: 3.1746 - val_loss: 3.1335\n",
      "Epoch 118/200\n",
      "3/3 [==============================] - 0s 17ms/step - loss: 3.1782 - val_loss: 3.0937\n",
      "Epoch 119/200\n",
      "3/3 [==============================] - 0s 17ms/step - loss: 3.1423 - val_loss: 3.0702\n",
      "Epoch 120/200\n",
      "3/3 [==============================] - 0s 17ms/step - loss: 3.1651 - val_loss: 3.0585\n",
      "Epoch 121/200\n",
      "3/3 [==============================] - 0s 17ms/step - loss: 3.1465 - val_loss: 3.0614\n",
      "Epoch 122/200\n",
      "3/3 [==============================] - 0s 18ms/step - loss: 3.1229 - val_loss: 3.0986\n",
      "Epoch 123/200\n",
      "3/3 [==============================] - 0s 17ms/step - loss: 3.1739 - val_loss: 3.1368\n",
      "Epoch 124/200\n",
      "3/3 [==============================] - 0s 17ms/step - loss: 3.2913 - val_loss: 3.2151\n",
      "Epoch 125/200\n",
      "3/3 [==============================] - 0s 23ms/step - loss: 3.1979 - val_loss: 3.4161\n",
      "Epoch 126/200\n",
      "3/3 [==============================] - 0s 18ms/step - loss: 3.2552 - val_loss: 3.2007\n",
      "Epoch 127/200\n",
      "3/3 [==============================] - 0s 20ms/step - loss: 3.2333 - val_loss: 3.0215\n",
      "Epoch 128/200\n",
      "3/3 [==============================] - 0s 18ms/step - loss: 3.0802 - val_loss: 3.0469\n",
      "Epoch 129/200\n",
      "3/3 [==============================] - 0s 17ms/step - loss: 3.1062 - val_loss: 3.0566\n",
      "Epoch 130/200\n",
      "3/3 [==============================] - 0s 18ms/step - loss: 3.1020 - val_loss: 3.0202\n",
      "Epoch 131/200\n",
      "3/3 [==============================] - 0s 23ms/step - loss: 3.0512 - val_loss: 3.0523\n",
      "Epoch 132/200\n",
      "3/3 [==============================] - 0s 14ms/step - loss: 3.2404 - val_loss: 3.2723\n",
      "Epoch 133/200\n",
      "3/3 [==============================] - 0s 22ms/step - loss: 3.3518 - val_loss: 3.1286\n",
      "Epoch 134/200\n",
      "3/3 [==============================] - 0s 18ms/step - loss: 3.1949 - val_loss: 3.0453\n",
      "Epoch 135/200\n",
      "3/3 [==============================] - 0s 17ms/step - loss: 3.0634 - val_loss: 3.1431\n",
      "Epoch 136/200\n",
      "3/3 [==============================] - 0s 18ms/step - loss: 3.1054 - val_loss: 3.0891\n",
      "Epoch 137/200\n",
      "3/3 [==============================] - 0s 27ms/step - loss: 3.0873 - val_loss: 2.9914\n",
      "Epoch 138/200\n",
      "3/3 [==============================] - 0s 16ms/step - loss: 3.0485 - val_loss: 2.9746\n",
      "Epoch 139/200\n",
      "3/3 [==============================] - 0s 17ms/step - loss: 3.0148 - val_loss: 2.9402\n",
      "Epoch 140/200\n",
      "3/3 [==============================] - 0s 17ms/step - loss: 2.9696 - val_loss: 2.9817\n",
      "Epoch 141/200\n",
      "3/3 [==============================] - 0s 23ms/step - loss: 3.0013 - val_loss: 2.9483\n",
      "Epoch 142/200\n",
      "3/3 [==============================] - 0s 21ms/step - loss: 3.0001 - val_loss: 2.9205\n",
      "Epoch 143/200\n",
      "3/3 [==============================] - 0s 13ms/step - loss: 2.9321 - val_loss: 2.9164\n",
      "Epoch 144/200\n",
      "3/3 [==============================] - 0s 21ms/step - loss: 2.9195 - val_loss: 2.9062\n",
      "Epoch 145/200\n",
      "3/3 [==============================] - 0s 13ms/step - loss: 2.9180 - val_loss: 2.9020\n",
      "Epoch 146/200\n",
      "3/3 [==============================] - 0s 20ms/step - loss: 2.9051 - val_loss: 2.8954\n",
      "Epoch 147/200\n",
      "3/3 [==============================] - 0s 22ms/step - loss: 2.9057 - val_loss: 2.9095\n",
      "Epoch 148/200\n",
      "3/3 [==============================] - 0s 20ms/step - loss: 2.9027 - val_loss: 2.9234\n",
      "Epoch 149/200\n",
      "3/3 [==============================] - 0s 25ms/step - loss: 2.8920 - val_loss: 2.9041\n",
      "Epoch 150/200\n",
      "3/3 [==============================] - 0s 23ms/step - loss: 2.8704 - val_loss: 2.9405\n",
      "Epoch 151/200\n",
      "3/3 [==============================] - 0s 18ms/step - loss: 2.9185 - val_loss: 2.9236\n",
      "Epoch 152/200\n",
      "3/3 [==============================] - 0s 17ms/step - loss: 2.8698 - val_loss: 2.9295\n",
      "Epoch 153/200\n",
      "3/3 [==============================] - 0s 17ms/step - loss: 2.8724 - val_loss: 2.9135\n",
      "Epoch 154/200\n",
      "3/3 [==============================] - 0s 22ms/step - loss: 2.8985 - val_loss: 2.8806\n",
      "Epoch 155/200\n",
      "3/3 [==============================] - 0s 14ms/step - loss: 2.8455 - val_loss: 2.8490\n",
      "Epoch 156/200\n",
      "3/3 [==============================] - 0s 18ms/step - loss: 2.8696 - val_loss: 2.9630\n",
      "Epoch 157/200\n",
      "3/3 [==============================] - 0s 21ms/step - loss: 2.8374 - val_loss: 3.1251\n",
      "Epoch 158/200\n",
      "3/3 [==============================] - 0s 20ms/step - loss: 2.9201 - val_loss: 3.0158\n",
      "Epoch 159/200\n",
      "3/3 [==============================] - 0s 19ms/step - loss: 2.9512 - val_loss: 2.9283\n",
      "Epoch 160/200\n",
      "3/3 [==============================] - 0s 20ms/step - loss: 2.9188 - val_loss: 2.9227\n",
      "Epoch 161/200\n",
      "3/3 [==============================] - 0s 20ms/step - loss: 3.0446 - val_loss: 3.2668\n",
      "Epoch 162/200\n",
      "3/3 [==============================] - 0s 17ms/step - loss: 3.3274 - val_loss: 3.4050\n",
      "Epoch 163/200\n"
     ]
    },
    {
     "name": "stdout",
     "output_type": "stream",
     "text": [
      "3/3 [==============================] - 0s 18ms/step - loss: 3.3087 - val_loss: 3.2021\n",
      "Epoch 164/200\n",
      "3/3 [==============================] - 0s 23ms/step - loss: 3.2019 - val_loss: 3.0675\n",
      "Epoch 165/200\n",
      "3/3 [==============================] - 0s 17ms/step - loss: 2.9591 - val_loss: 2.9135\n",
      "Epoch 166/200\n",
      "3/3 [==============================] - 0s 17ms/step - loss: 2.8174 - val_loss: 2.9451\n",
      "Epoch 167/200\n",
      "3/3 [==============================] - 0s 16ms/step - loss: 2.9004 - val_loss: 2.9057\n",
      "Epoch 168/200\n",
      "3/3 [==============================] - 0s 17ms/step - loss: 2.8331 - val_loss: 2.8227\n",
      "Epoch 169/200\n",
      "3/3 [==============================] - 0s 21ms/step - loss: 2.7705 - val_loss: 2.9745\n",
      "Epoch 170/200\n",
      "3/3 [==============================] - 0s 21ms/step - loss: 2.9034 - val_loss: 2.9420\n",
      "Epoch 171/200\n",
      "3/3 [==============================] - 0s 18ms/step - loss: 2.7450 - val_loss: 2.8348\n",
      "Epoch 172/200\n",
      "3/3 [==============================] - 0s 17ms/step - loss: 2.7273 - val_loss: 2.8553\n",
      "Epoch 173/200\n",
      "3/3 [==============================] - 0s 16ms/step - loss: 2.7113 - val_loss: 2.7633\n",
      "Epoch 174/200\n",
      "3/3 [==============================] - 0s 23ms/step - loss: 2.6969 - val_loss: 2.8305\n",
      "Epoch 175/200\n",
      "3/3 [==============================] - 0s 17ms/step - loss: 2.6988 - val_loss: 2.8641\n",
      "Epoch 176/200\n",
      "3/3 [==============================] - 0s 17ms/step - loss: 2.6964 - val_loss: 2.8046\n",
      "Epoch 177/200\n",
      "3/3 [==============================] - 0s 22ms/step - loss: 2.6639 - val_loss: 2.7743\n",
      "Epoch 178/200\n",
      "3/3 [==============================] - 0s 17ms/step - loss: 2.7208 - val_loss: 2.7596\n",
      "Epoch 179/200\n",
      "3/3 [==============================] - 0s 16ms/step - loss: 2.6997 - val_loss: 2.7614\n",
      "Epoch 180/200\n",
      "3/3 [==============================] - 0s 22ms/step - loss: 2.6975 - val_loss: 2.8124\n",
      "Epoch 181/200\n",
      "3/3 [==============================] - 0s 14ms/step - loss: 2.7234 - val_loss: 2.7563\n",
      "Epoch 182/200\n",
      "3/3 [==============================] - 0s 21ms/step - loss: 2.6723 - val_loss: 2.8413\n",
      "Epoch 183/200\n",
      "3/3 [==============================] - 0s 17ms/step - loss: 2.7018 - val_loss: 2.7329\n",
      "Epoch 184/200\n",
      "3/3 [==============================] - 0s 18ms/step - loss: 2.7272 - val_loss: 2.7912\n",
      "Epoch 185/200\n",
      "3/3 [==============================] - 0s 17ms/step - loss: 2.6973 - val_loss: 2.8295\n",
      "Epoch 186/200\n",
      "3/3 [==============================] - 0s 22ms/step - loss: 2.7150 - val_loss: 2.7338\n",
      "Epoch 187/200\n",
      "3/3 [==============================] - 0s 14ms/step - loss: 2.6327 - val_loss: 2.7938\n",
      "Epoch 188/200\n",
      "3/3 [==============================] - 0s 22ms/step - loss: 2.6756 - val_loss: 2.7192\n",
      "Epoch 189/200\n",
      "3/3 [==============================] - 0s 14ms/step - loss: 2.6532 - val_loss: 2.7460\n",
      "Epoch 190/200\n",
      "3/3 [==============================] - 0s 22ms/step - loss: 2.6613 - val_loss: 2.7515\n",
      "Epoch 191/200\n",
      "3/3 [==============================] - 0s 14ms/step - loss: 2.6964 - val_loss: 2.7641\n",
      "Epoch 192/200\n",
      "3/3 [==============================] - 0s 17ms/step - loss: 2.7254 - val_loss: 2.8901\n",
      "Epoch 193/200\n",
      "3/3 [==============================] - 0s 25ms/step - loss: 2.7328 - val_loss: 2.9892\n",
      "Epoch 194/200\n",
      "3/3 [==============================] - 0s 21ms/step - loss: 2.6804 - val_loss: 2.8472\n",
      "Epoch 195/200\n",
      "3/3 [==============================] - 0s 21ms/step - loss: 2.7828 - val_loss: 2.8872\n",
      "Epoch 196/200\n",
      "3/3 [==============================] - 0s 16ms/step - loss: 2.6990 - val_loss: 2.7827\n",
      "Epoch 197/200\n",
      "3/3 [==============================] - 0s 16ms/step - loss: 2.6899 - val_loss: 2.7899\n",
      "Epoch 198/200\n",
      "3/3 [==============================] - 0s 17ms/step - loss: 2.6732 - val_loss: 2.8410\n",
      "Epoch 199/200\n",
      "3/3 [==============================] - 0s 22ms/step - loss: 2.6477 - val_loss: 2.7534\n",
      "Epoch 200/200\n",
      "3/3 [==============================] - 0s 18ms/step - loss: 2.6795 - val_loss: 2.8581\n"
     ]
    }
   ],
   "source": [
    "history = model.fit(X_train, y_train, epochs=200,\n",
    "                    validation_data=(X_valid, y_valid))"
   ]
  },
  {
   "cell_type": "code",
   "execution_count": 65,
   "id": "0b29d35c",
   "metadata": {
    "scrolled": true
   },
   "outputs": [],
   "source": [
    "# history = model.fit(X_train, y_train, epochs=145,\n",
    "#                     validation_data=(X_valid, y_valid), callbacks=[lr_scheduler])"
   ]
  },
  {
   "cell_type": "code",
   "execution_count": 66,
   "id": "28215732",
   "metadata": {},
   "outputs": [
    {
     "data": {
      "image/png": "[encoded data removed]",
      "text/plain": [
       "<Figure size 576x360 with 1 Axes>"
      ]
     },
     "metadata": {
      "needs_background": "light"
     },
     "output_type": "display_data"
    }
   ],
   "source": [
    "import pandas as pd\n",
    "\n",
    "# print(history.history)\n",
    "try:\n",
    "    lr_list = history.history[\"lr\"]\n",
    "    del(history.history[\"lr\"])\n",
    "except:\n",
    "    pass\n",
    "\n",
    "pd.DataFrame(history.history)[50:].plot(figsize=(8, 5))\n",
    "plt.grid(True)\n",
    "# plt.gca().set_ylim(0, 1)\n",
    "plt.show()"
   ]
  },
  {
   "cell_type": "code",
   "execution_count": 67,
   "id": "47d362c9",
   "metadata": {
    "scrolled": true
   },
   "outputs": [
    {
     "name": "stdout",
     "output_type": "stream",
     "text": [
      "X.shape = (None, 1)\n",
      "gauss_grid.shape = (None, 5)\n"
     ]
    },
    {
     "data": {
      "image/png": "[encoded data removed]",
      "text/plain": [
       "<Figure size 432x288 with 1 Axes>"
      ]
     },
     "metadata": {
      "needs_background": "light"
     },
     "output_type": "display_data"
    }
   ],
   "source": [
    "plt.plot(X_train, y_train, \"b.\")\n",
    "draw_func((lambda X: model.predict(X)[:,0] ), mark='r-', linewidth=2, label=\"Predictions\")\n",
    "draw_normal_func(func_dict)\n",
    "plt.xlabel(\"$x_1$\", fontsize=18)\n",
    "plt.ylabel(\"$y$\", rotation=0, fontsize=18)\n",
    "plt.legend(loc=\"upper left\", fontsize=14)\n",
    "# plt.axis([-3, 3, 0, 10])\n",
    "plt.show()"
   ]
  },
  {
   "cell_type": "code",
   "execution_count": 68,
   "id": "a85a5159",
   "metadata": {},
   "outputs": [
    {
     "name": "stdout",
     "output_type": "stream",
     "text": [
      "y_func.shape = (100, 1)\n",
      "y_gt.shape = (100, 1)\n"
     ]
    },
    {
     "data": {
      "text/plain": [
       "4.561171634796555"
      ]
     },
     "execution_count": 68,
     "metadata": {},
     "output_type": "execute_result"
    }
   ],
   "source": [
    "get_prediction_error((lambda X: model.predict(X)[:,0] ), func_dict, name=\"grid-oneGaussian\")"
   ]
  },
  {
   "cell_type": "markdown",
   "id": "9ca1e36d",
   "metadata": {},
   "source": [
    "### Draw the 1-sigma boundary line"
   ]
  },
  {
   "cell_type": "code",
   "execution_count": 69,
   "id": "a04a47fa",
   "metadata": {},
   "outputs": [
    {
     "data": {
      "image/png": "[encoded data removed]",
      "text/plain": [
       "<Figure size 432x288 with 1 Axes>"
      ]
     },
     "metadata": {
      "needs_background": "light"
     },
     "output_type": "display_data"
    }
   ],
   "source": [
    "def n_sigma_boundary_line(X, n):\n",
    "    _y = model.predict(X)\n",
    "    _mean, _z = _y[:,0:1], _y[:,1:2]\n",
    "    _sigma = np.exp(alpha*_z)\n",
    "    return( _mean + n*_sigma)\n",
    "\n",
    "plt.plot(X_train, y_train, \"b.\")\n",
    "#\n",
    "draw_func((lambda X: model.predict(X)[:,0] ), mark='r-', linewidth=2, label=\"Predictions\")\n",
    "draw_func((lambda X: n_sigma_boundary_line(X, +1.0) ), mark='k--', linewidth=1, label=\"$\\mu+\\sigma$\")\n",
    "draw_func((lambda X: n_sigma_boundary_line(X, -1.0) ), mark='k--', linewidth=1, label=\"$\\mu-\\sigma$\")\n",
    "#\n",
    "draw_normal_func(func_dict)\n",
    "plt.xlabel(\"$x_1$\", fontsize=18)\n",
    "plt.ylabel(\"$y$\", rotation=0, fontsize=18)\n",
    "plt.legend(loc=\"upper left\", fontsize=14)\n",
    "# plt.axis([-3, 3, 0, 10])\n",
    "plt.show()"
   ]
  },
  {
   "cell_type": "code",
   "execution_count": null,
   "id": "a820404f",
   "metadata": {},
   "outputs": [],
   "source": []
  },
  {
   "cell_type": "markdown",
   "id": "82ec4fc4",
   "metadata": {},
   "source": [
    "# Summary"
   ]
  },
  {
   "cell_type": "code",
   "execution_count": 70,
   "id": "2d764d70",
   "metadata": {},
   "outputs": [
    {
     "name": "stdout",
     "output_type": "stream",
     "text": [
      "num-num: 5.959352\n",
      "grid-num: 4.571833\n",
      "grid-rbc: 4.368597\n",
      "grid-quantileR: 1.299135\n",
      "grid-oneGaussian: 4.561172\n"
     ]
    }
   ],
   "source": [
    "print_all_prediction_error()"
   ]
  },
  {
   "cell_type": "code",
   "execution_count": null,
   "id": "9f01e530",
   "metadata": {},
   "outputs": [],
   "source": []
  },
  {
   "cell_type": "code",
   "execution_count": null,
   "id": "0c3bdf42",
   "metadata": {},
   "outputs": [],
   "source": []
  }
 ],
 "metadata": {
  "kernelspec": {
   "display_name": "Python 3 (ipykernel)",
   "language": "python",
   "name": "python3"
  },
  "language_info": {
   "codemirror_mode": {
    "name": "ipython",
    "version": 3
   },
   "file_extension": ".py",
   "mimetype": "text/x-python",
   "name": "python",
   "nbconvert_exporter": "python",
   "pygments_lexer": "ipython3",
   "version": "3.9.7"
  }
 },
 "nbformat": 4,
 "nbformat_minor": 5
}
