{
 "cells": [
  {
   "cell_type": "markdown",
   "id": "899fa113",
   "metadata": {},
   "source": [
    "# Regression with Different Output Format under Various Data Conditions\n",
    "\n",
    "In this experience, we test the following output format for regression task under several different data coditions.\n",
    "- Numerical output\n",
    "- Regression as classification (grid-out)\n",
    "\n",
    "The data coditions include:\n",
    "- Sparse (few data)\n",
    "- Grouped\n",
    "  - Biased (parallel data)\n",
    "  - Completely different mode, uncorrelated data (cross)\n",
    "  - Partially diversed (split)"
   ]
  },
  {
   "cell_type": "code",
   "execution_count": 1,
   "id": "625ce7c3",
   "metadata": {},
   "outputs": [
    {
     "name": "stderr",
     "output_type": "stream",
     "text": [
      "2022-04-06 10:03:08.005783: W tensorflow/stream_executor/platform/default/dso_loader.cc:64] Could not load dynamic library 'libcudart.so.11.0'; dlerror: libcudart.so.11.0: cannot open shared object file: No such file or directory; LD_LIBRARY_PATH: /home/benson516/agv_ws/devel/lib:/opt/ros/noetic/lib\n",
      "2022-04-06 10:03:08.005805: I tensorflow/stream_executor/cuda/cudart_stub.cc:29] Ignore above cudart dlerror if you do not have a GPU set up on your machine.\n"
     ]
    }
   ],
   "source": [
    "import numpy as np\n",
    "import tensorflow as tf\n",
    "from tensorflow import keras\n",
    "import os\n",
    "# from tqdm import tqdm\n",
    "\n",
    "# To plot pretty figures\n",
    "%matplotlib inline\n",
    "import matplotlib as mpl\n",
    "import matplotlib.pyplot as plt\n",
    "mpl.rc('axes', labelsize=14)\n",
    "mpl.rc('xtick', labelsize=12)\n",
    "mpl.rc('ytick', labelsize=12)"
   ]
  },
  {
   "cell_type": "code",
   "execution_count": 2,
   "id": "7ad564ad",
   "metadata": {},
   "outputs": [],
   "source": [
    "# Where to save the figures\n",
    "PROJECT_ROOT_DIR = \".\"\n",
    "CHAPTER_ID = \"regression_test_2\"\n",
    "IMAGES_PATH = os.path.join(PROJECT_ROOT_DIR, \"images\", CHAPTER_ID)\n",
    "os.makedirs(IMAGES_PATH, exist_ok=True)\n",
    "\n",
    "def save_fig(fig_id, tight_layout=True, fig_extension=\"png\", resolution=300):\n",
    "    path = os.path.join(IMAGES_PATH, fig_id + \".\" + fig_extension)\n",
    "    print(\"Saving figure\", fig_id)\n",
    "    if tight_layout:\n",
    "        plt.tight_layout()\n",
    "    plt.savefig(path, format=fig_extension, dpi=resolution)"
   ]
  },
  {
   "cell_type": "code",
   "execution_count": 3,
   "id": "94e8a077",
   "metadata": {},
   "outputs": [],
   "source": [
    "def draw_func(func_in, x_min=-5, x_max=5, mark='r--', linewidth=1, label='func'):\n",
    "    n_sample = 100\n",
    "    X_func = np.linspace(x_min, x_max, n_sample).reshape(n_sample, 1)\n",
    "    y_func = func_in(X_func)\n",
    "    plt.plot(X_func, y_func, mark, linewidth=linewidth, label=label)"
   ]
  },
  {
   "cell_type": "markdown",
   "id": "c27ffe35",
   "metadata": {},
   "source": [
    "Generate polynomial data"
   ]
  },
  {
   "cell_type": "code",
   "execution_count": 4,
   "id": "ce670ce4",
   "metadata": {},
   "outputs": [],
   "source": [
    "poly_a1 = 5.0\n",
    "# poly_a1 = -10.0 # 5.0\n",
    "#\n",
    "sin_a = 0.0\n",
    "# sin_a = 10.0\n",
    "sin_f = 0.1 # 0.2\n",
    "#\n",
    "def func_0(X): # Reference\n",
    "    return 0.5 * X**3 + 0.5 * X**2 + (poly_a1)*X + 2 + sin_a*np.sin(2.0*np.pi*sin_f*X)\n",
    "def func_1(X): # Variation 1: parellel\n",
    "    return 0.5 * X**3 + 0.5 * X**2 + (poly_a1)*X + 30 + sin_a*np.sin(2.0*np.pi*sin_f*X)\n",
    "def func_2(X): # Variation 2: cross\n",
    "    return -0.5 * X**3 + 0.5 * X**2 + (poly_a1)*X + 30 + sin_a*np.sin(2.0*np.pi*sin_f*X)\n",
    "def func_3(X): # Variation 3: slightly split\n",
    "    return 0.3 * X**3 + 1.0 * X**2 + (poly_a1)*X + 15 + sin_a*np.sin(2.0*np.pi*sin_f*X)\n",
    "def func_4(X): # Sine wave~\n",
    "    return 0.5 * X**3 + 0.5 * X**2 + (poly_a1)*X + 2 + 20.0*np.sin(2.0*np.pi*sin_f*X) # 50.0"
   ]
  },
  {
   "cell_type": "code",
   "execution_count": 5,
   "id": "9463bfff",
   "metadata": {},
   "outputs": [],
   "source": [
    "func_dict = dict()\n",
    "#-----------------#\n",
    "func_dict[\"f1\"] = func_0\n",
    "#-----------------#\n",
    "# func_dict[\"f2\"] = func_1\n",
    "# func_dict[\"f2\"] = func_2\n",
    "func_dict[\"f2\"] = func_3\n",
    "# func_dict[\"f2\"] = func_4\n",
    "#-----------------#\n",
    "func_dict[\"f3\"] = func_4\n",
    "#-----------------#\n",
    "\n",
    "# Note: func_dict[\"f_avg\"] depends on multiout_type and is calculated in each section of multiout_type"
   ]
  },
  {
   "cell_type": "code",
   "execution_count": 6,
   "id": "63437d0c",
   "metadata": {},
   "outputs": [
    {
     "name": "stdout",
     "output_type": "stream",
     "text": [
      "(m, m_train) = (100, 80)\n",
      "y_data_pure.shape = (100, 1)\n",
      "y_data.shape = (100, 1)\n"
     ]
    }
   ],
   "source": [
    "np.random.seed(42)\n",
    "m = 100 # 50 # 100 # 200\n",
    "m_train = m // 5 * 4\n",
    "print(\"(m, m_train) = (%d, %d)\" % (m, m_train))\n",
    "\n",
    "# Input\n",
    "is_gapped = True\n",
    "# is_gapped = False\n",
    "#\n",
    "if not is_gapped:\n",
    "    X_data = 10 * np.random.rand(m, 1) - 5 # Note: X is randomly sampled, so we don't need to shuffle the data again\n",
    "else:\n",
    "    X_data = np.concatenate( (np.linspace(-5.0, -2.0, m//2), np.linspace(2.0, 5.0, m-m//2)) )\n",
    "    X_data = X_data.reshape((m,1))\n",
    "    np.random.shuffle(X_data)\n",
    "\n",
    "# Output, multiout_type in {1, 2, 3}\n",
    "# multiout_type = 1      \n",
    "multiout_type = 2 \n",
    "# multiout_type = 3 \n",
    "#\n",
    "sid_data = np.ones((m,1), dtype=int) # subject id, default: 1\n",
    "if multiout_type == 2:\n",
    "    m_h = m // 2\n",
    "    X_data_1 = X_data[:m_h]\n",
    "    X_data_2 = X_data[m_h:]\n",
    "    sid_data[:m_h] = 1 # id:1\n",
    "    sid_data[m_h:] = 2 # id:2\n",
    "    y_data_pure_1 = func_dict[\"f1\"](X_data_1) \n",
    "    y_data_pure_2 = func_dict[\"f2\"](X_data_2) \n",
    "    y_data_pure = np.vstack([y_data_pure_1, y_data_pure_2])\n",
    "    print(\"y_data_pure.shape = %s\" % str(y_data_pure.shape))\n",
    "    # Average line\n",
    "    func_dict[\"f_avg\"] = ( lambda X: 0.5*func_dict[\"f1\"](X) + 0.5*func_dict[\"f2\"](X) )\n",
    "    #\n",
    "elif multiout_type == 3: # with \"avg\" line\n",
    "    m_t = m // 3\n",
    "    X_data_1 = X_data[:m_t]\n",
    "    X_data_2 = X_data[m_t:(2*m_t)]\n",
    "    X_data_3 = X_data[(2*m_t):]\n",
    "    sid_data[:m_t]        = 1 # id:1\n",
    "    sid_data[m_t:(2*m_t)] = 2 # id:2\n",
    "    sid_data[(2*m_t):]    = 3 # id:3\n",
    "    y_data_pure_1 = func_dict[\"f1\"](X_data_1) \n",
    "    y_data_pure_2 = func_dict[\"f2\"](X_data_2) \n",
    "    y_data_pure_3 = func_dict[\"f3\"](X_data_3) \n",
    "    y_data_pure = np.vstack([y_data_pure_1, y_data_pure_2, y_data_pure_3])\n",
    "    print(\"y_data_pure.shape = %s\" % str(y_data_pure.shape))\n",
    "    # Average line\n",
    "    func_dict[\"f_avg\"] = ( lambda X: (func_dict[\"f1\"](X) + func_dict[\"f2\"](X) + func_dict[\"f3\"](X))/3.0 )\n",
    "    #\n",
    "else: # multiout_type == 1\n",
    "    # Average line\n",
    "    func_dict[\"f_avg\"] = ( lambda X: 0.5*func_dict[\"f1\"](X) + 0.5*func_dict[\"f2\"](X) )\n",
    "    y_data_pure = func_dict[\"f_avg\"](X_data)\n",
    "\n",
    "    \n",
    "# Label (+noise)\n",
    "n_stddev = 2.0\n",
    "# n_stddev = 10.0\n",
    "y_data = y_data_pure + np.random.randn(m, 1) * n_stddev\n",
    "print(\"y_data.shape = %s\" % str(y_data.shape))\n",
    "# print(\"sid_data = %s\" % str(sid_data))"
   ]
  },
  {
   "cell_type": "code",
   "execution_count": 7,
   "id": "ef588fae",
   "metadata": {},
   "outputs": [],
   "source": [
    "# Method 1: simply slice\n",
    "# X_train = X_data[:m_train]\n",
    "# y_train = y_data[:m_train]\n",
    "# X_valid = X_data[m_train:]\n",
    "# y_valid = y_data[m_train:]\n",
    "\n",
    "# Method 2: shuffle\n",
    "from sklearn.model_selection import train_test_split\n",
    "# X_train, X_valid, y_train, y_valid = train_test_split(X_data, y_data, test_size=0.2, random_state=42)\n",
    "X_train, X_valid, y_train, y_valid, sid_train, sid_valid = train_test_split(X_data, y_data, sid_data, test_size=0.2, random_state=42)"
   ]
  },
  {
   "cell_type": "code",
   "execution_count": 8,
   "id": "3b5d2cfe",
   "metadata": {},
   "outputs": [
    {
     "name": "stdout",
     "output_type": "stream",
     "text": [
      "(80, 1)\n"
     ]
    }
   ],
   "source": [
    "print(X_train.shape)\n",
    "# print(\"sid_train = %s\" % str(sid_train))"
   ]
  },
  {
   "cell_type": "code",
   "execution_count": 9,
   "id": "9bd2136c",
   "metadata": {},
   "outputs": [],
   "source": [
    "def draw_normal_func(func_dict):\n",
    "    if multiout_type != 1:\n",
    "        draw_func(func_dict[\"f1\"], mark='c:', label=\"f1\")\n",
    "        draw_func(func_dict[\"f2\"], mark='r:', label=\"f2\")\n",
    "    if multiout_type == 3:\n",
    "        draw_func(func_dict[\"f3\"], mark='y:', label=\"f3\")\n",
    "    draw_func(func_dict[\"f_avg\"], mark='m--', label=\"f_avg\")"
   ]
  },
  {
   "cell_type": "code",
   "execution_count": 10,
   "id": "3e4283c1",
   "metadata": {},
   "outputs": [],
   "source": [
    "def draw_points(X, y, sid=None):\n",
    "    if sid is None:\n",
    "        plt.plot(X, y, \"b.\")\n",
    "    else:\n",
    "        plt.plot(X[sid==1], y[sid==1], \"b.\")\n",
    "        plt.plot(X[sid==2], y[sid==2], \"r.\")\n",
    "        plt.plot(X[sid==3], y[sid==3], \"y.\")"
   ]
  },
  {
   "cell_type": "code",
   "execution_count": 11,
   "id": "693af3b7",
   "metadata": {},
   "outputs": [
    {
     "name": "stdout",
     "output_type": "stream",
     "text": [
      "Saving figure training_data\n"
     ]
    },
    {
     "data": {
      "image/png": "[encoded data removed]",
      "text/plain": [
       "<Figure size 432x288 with 1 Axes>"
      ]
     },
     "metadata": {
      "needs_background": "light"
     },
     "output_type": "display_data"
    }
   ],
   "source": [
    "# plt.plot(X_train, y_train, \"b.\")\n",
    "# plt.plot(X_train[sid_train==1], y_train[sid_train==1], \"b.\")\n",
    "# plt.plot(X_train[sid_train==2], y_train[sid_train==2], \"r.\")\n",
    "draw_points(X_train, y_train, sid_train)\n",
    "\n",
    "draw_normal_func(func_dict)\n",
    "plt.xlabel(\"$x_1$\", fontsize=18)\n",
    "plt.ylabel(\"$y$\", rotation=0, fontsize=18)\n",
    "plt.legend(loc=\"upper left\", fontsize=14)\n",
    "# plt.axis([-3, 3, 0, 10])\n",
    "save_fig(\"training_data\")\n",
    "plt.show()"
   ]
  },
  {
   "cell_type": "code",
   "execution_count": 12,
   "id": "a6853ff1",
   "metadata": {},
   "outputs": [],
   "source": [
    "prediction_error_dict = dict()\n",
    "\n",
    "def get_prediction_error(func_in, func_dict, name=\"\", x_min=-5, x_max=5, prediction_error_dict=prediction_error_dict):\n",
    "    n_sample = 100\n",
    "    X_func = np.linspace(x_min, x_max, n_sample).reshape(n_sample, 1)\n",
    "    y_func = func_in(X_func).reshape((n_sample,1))\n",
    "    y_gt = func_dict[\"f_avg\"](X_func).reshape((n_sample,1))\n",
    "    print(\"y_func.shape = %s\" % str(y_func.shape))\n",
    "    print(\"y_gt.shape = %s\" % str(y_gt.shape))\n",
    "#     total_error = np.sqrt(np.square(y_func - y_gt).mean())\n",
    "    total_error = np.abs(y_func - y_gt).mean()\n",
    "    prediction_error_dict[name] = total_error\n",
    "    return total_error\n",
    "\n",
    "def print_all_prediction_error(is_logging_to_screen=True, prediction_error_dict=prediction_error_dict):\n",
    "    _s = \"\"\n",
    "    for _n in prediction_error_dict:\n",
    "        _s += (\"%s: %f\" % (_n, prediction_error_dict[_n])) + \"\\n\"\n",
    "    if is_logging_to_screen:\n",
    "        print(_s)\n",
    "    return _s\n",
    "        \n",
    "def save_prediction_errors(is_logging_to_screen=False, prediction_error_dict=prediction_error_dict):\n",
    "    path = os.path.join(IMAGES_PATH, \"prediction_errors.txt\")\n",
    "    print(\"Saving all prediction errors to [%s].\" % path)\n",
    "    _s = print_all_prediction_error(is_logging_to_screen=is_logging_to_screen, prediction_error_dict=prediction_error_dict)\n",
    "    with open(path, \"w\") as _f:\n",
    "        _f.write(_s)\n",
    "    return True"
   ]
  },
  {
   "cell_type": "markdown",
   "id": "053ecc57",
   "metadata": {},
   "source": [
    "# Simple FCs (number --> number)"
   ]
  },
  {
   "cell_type": "markdown",
   "id": "c66eb67b",
   "metadata": {},
   "source": [
    "Build the regression model"
   ]
  },
  {
   "cell_type": "code",
   "execution_count": 13,
   "id": "9449fc0b",
   "metadata": {},
   "outputs": [
    {
     "name": "stderr",
     "output_type": "stream",
     "text": [
      "2022-04-06 10:03:10.097343: I tensorflow/stream_executor/platform/default/dso_loader.cc:53] Successfully opened dynamic library libcuda.so.1\n",
      "2022-04-06 10:03:13.515769: E tensorflow/stream_executor/cuda/cuda_driver.cc:328] failed call to cuInit: CUDA_ERROR_NO_DEVICE: no CUDA-capable device is detected\n",
      "2022-04-06 10:03:13.515788: I tensorflow/stream_executor/cuda/cuda_diagnostics.cc:156] kernel driver does not appear to be running on this host (benson516-P1G2): /proc/driver/nvidia/version does not exist\n",
      "2022-04-06 10:03:13.516175: I tensorflow/core/platform/cpu_feature_guard.cc:142] This TensorFlow binary is optimized with oneAPI Deep Neural Network Library (oneDNN) to use the following CPU instructions in performance-critical operations:  AVX2 FMA\n",
      "To enable them in other operations, rebuild TensorFlow with the appropriate compiler flags.\n"
     ]
    }
   ],
   "source": [
    "model = keras.models.Sequential([\n",
    "    keras.layers.Dense(30, activation=\"relu\", input_shape=X_train.shape[1:]),\n",
    "    keras.layers.Dense(30, activation=\"relu\"),\n",
    "    keras.layers.Dense(1)\n",
    "])"
   ]
  },
  {
   "cell_type": "code",
   "execution_count": 14,
   "id": "8ad59bf4",
   "metadata": {},
   "outputs": [],
   "source": [
    "# # Customized loss function\n",
    "# def asymptoticLoss_fn(y_true, y_pred, alpha=0.01):\n",
    "#     # tau: quantile, tau in [0.0, 1.0]\n",
    "#     # y_true: label mean\n",
    "#     # y_pred: predicted tau quantile\n",
    "#     y_target = alpha * y_true + (1.0 - alpha) * y_pred\n",
    "#     # return tf.abs(y_pred - y_target)\n",
    "#     return (y_pred - y_target)**2"
   ]
  },
  {
   "cell_type": "code",
   "execution_count": 15,
   "id": "4de396a0",
   "metadata": {},
   "outputs": [
    {
     "name": "stderr",
     "output_type": "stream",
     "text": [
      "/home/benson516/GazeDemo/gaze_env/lib/python3.8/site-packages/tensorflow/python/keras/optimizer_v2/optimizer_v2.py:374: UserWarning: The `lr` argument is deprecated, use `learning_rate` instead.\n",
      "  warnings.warn(\n"
     ]
    }
   ],
   "source": [
    "optimizer = keras.optimizers.SGD(lr=0.0001, momentum=0.9)\n",
    "model.compile(loss=\"mean_squared_error\", optimizer=optimizer)\n",
    "# optimizer = keras.optimizers.Adam(lr=0.01)\n",
    "# # model.compile(loss=\"mean_absolute_error\", optimizer=optimizer)\n",
    "# model.compile(loss=asymptoticLoss_fn, optimizer=optimizer)"
   ]
  },
  {
   "cell_type": "code",
   "execution_count": 16,
   "id": "92afd68a",
   "metadata": {
    "scrolled": true
   },
   "outputs": [
    {
     "name": "stderr",
     "output_type": "stream",
     "text": [
      "2022-04-06 10:03:13.869860: I tensorflow/compiler/mlir/mlir_graph_optimization_pass.cc:176] None of the MLIR Optimization Passes are enabled (registered 2)\n",
      "2022-04-06 10:03:13.888366: I tensorflow/core/platform/profile_utils/cpu_utils.cc:114] CPU Frequency: 2599990000 Hz\n"
     ]
    },
    {
     "name": "stdout",
     "output_type": "stream",
     "text": [
      "Epoch 1/100\n",
      "3/3 [==============================] - 0s 54ms/step - loss: 2518.1831 - val_loss: 1728.8147\n",
      "Epoch 2/100\n",
      "3/3 [==============================] - 0s 6ms/step - loss: 2413.7798 - val_loss: 1617.7430\n",
      "Epoch 3/100\n",
      "3/3 [==============================] - 0s 6ms/step - loss: 2223.9341 - val_loss: 1419.0060\n",
      "Epoch 4/100\n",
      "3/3 [==============================] - 0s 14ms/step - loss: 1811.1390 - val_loss: 969.3486\n",
      "Epoch 5/100\n",
      "3/3 [==============================] - 0s 11ms/step - loss: 983.1019 - val_loss: 504.9802\n",
      "Epoch 6/100\n",
      "3/3 [==============================] - 0s 12ms/step - loss: 631.7274 - val_loss: 732.0575\n",
      "Epoch 7/100\n",
      "3/3 [==============================] - 0s 11ms/step - loss: 593.2420 - val_loss: 338.3631\n",
      "Epoch 8/100\n",
      "3/3 [==============================] - 0s 14ms/step - loss: 394.6115 - val_loss: 371.9792\n",
      "Epoch 9/100\n",
      "3/3 [==============================] - 0s 20ms/step - loss: 444.9842 - val_loss: 213.6508\n",
      "Epoch 10/100\n",
      "3/3 [==============================] - 0s 21ms/step - loss: 249.3778 - val_loss: 223.4934\n",
      "Epoch 11/100\n",
      "3/3 [==============================] - 0s 20ms/step - loss: 316.0633 - val_loss: 248.1619\n",
      "Epoch 12/100\n",
      "3/3 [==============================] - 0s 25ms/step - loss: 269.6037 - val_loss: 170.9036\n",
      "Epoch 13/100\n",
      "3/3 [==============================] - 0s 21ms/step - loss: 225.4978 - val_loss: 204.2131\n",
      "Epoch 14/100\n",
      "3/3 [==============================] - 0s 8ms/step - loss: 242.2169 - val_loss: 209.5208\n",
      "Epoch 15/100\n",
      "3/3 [==============================] - 0s 21ms/step - loss: 211.6711 - val_loss: 229.2975\n",
      "Epoch 16/100\n",
      "3/3 [==============================] - 0s 22ms/step - loss: 232.6872 - val_loss: 205.7861\n",
      "Epoch 17/100\n",
      "3/3 [==============================] - 0s 19ms/step - loss: 205.2644 - val_loss: 180.0583\n",
      "Epoch 18/100\n",
      "3/3 [==============================] - 0s 19ms/step - loss: 203.8143 - val_loss: 170.5033\n",
      "Epoch 19/100\n",
      "3/3 [==============================] - 0s 17ms/step - loss: 204.6910 - val_loss: 168.5793\n",
      "Epoch 20/100\n",
      "3/3 [==============================] - 0s 21ms/step - loss: 202.8484 - val_loss: 171.3257\n",
      "Epoch 21/100\n",
      "3/3 [==============================] - 0s 20ms/step - loss: 198.3984 - val_loss: 167.7776\n",
      "Epoch 22/100\n",
      "3/3 [==============================] - 0s 14ms/step - loss: 194.3858 - val_loss: 174.4975\n",
      "Epoch 23/100\n",
      "3/3 [==============================] - 0s 12ms/step - loss: 197.8465 - val_loss: 178.6460\n",
      "Epoch 24/100\n",
      "3/3 [==============================] - 0s 15ms/step - loss: 193.5624 - val_loss: 176.1284\n",
      "Epoch 25/100\n",
      "3/3 [==============================] - 0s 14ms/step - loss: 191.7321 - val_loss: 173.9577\n",
      "Epoch 26/100\n",
      "3/3 [==============================] - 0s 11ms/step - loss: 193.3817 - val_loss: 167.5781\n",
      "Epoch 27/100\n",
      "3/3 [==============================] - 0s 10ms/step - loss: 192.4785 - val_loss: 164.8986\n",
      "Epoch 28/100\n",
      "3/3 [==============================] - 0s 11ms/step - loss: 191.2837 - val_loss: 166.2203\n",
      "Epoch 29/100\n",
      "3/3 [==============================] - 0s 15ms/step - loss: 190.6601 - val_loss: 169.6018\n",
      "Epoch 30/100\n",
      "3/3 [==============================] - 0s 16ms/step - loss: 191.3503 - val_loss: 169.9152\n",
      "Epoch 31/100\n",
      "3/3 [==============================] - 0s 20ms/step - loss: 191.4479 - val_loss: 168.7643\n",
      "Epoch 32/100\n",
      "3/3 [==============================] - 0s 18ms/step - loss: 192.9579 - val_loss: 174.7955\n",
      "Epoch 33/100\n",
      "3/3 [==============================] - 0s 32ms/step - loss: 185.9506 - val_loss: 186.3107\n",
      "Epoch 34/100\n",
      "3/3 [==============================] - 0s 15ms/step - loss: 196.9585 - val_loss: 183.4131\n",
      "Epoch 35/100\n",
      "3/3 [==============================] - 0s 12ms/step - loss: 191.1899 - val_loss: 171.5162\n",
      "Epoch 36/100\n",
      "3/3 [==============================] - 0s 13ms/step - loss: 186.1004 - val_loss: 168.0396\n",
      "Epoch 37/100\n",
      "3/3 [==============================] - 0s 18ms/step - loss: 192.0736 - val_loss: 162.6025\n",
      "Epoch 38/100\n",
      "3/3 [==============================] - 0s 20ms/step - loss: 186.9964 - val_loss: 164.7604\n",
      "Epoch 39/100\n",
      "3/3 [==============================] - 0s 20ms/step - loss: 186.5241 - val_loss: 162.2965\n",
      "Epoch 40/100\n",
      "3/3 [==============================] - 0s 20ms/step - loss: 184.4107 - val_loss: 164.1362\n",
      "Epoch 41/100\n",
      "3/3 [==============================] - 0s 21ms/step - loss: 186.7475 - val_loss: 169.2709\n",
      "Epoch 42/100\n",
      "3/3 [==============================] - 0s 20ms/step - loss: 184.1264 - val_loss: 168.4856\n",
      "Epoch 43/100\n",
      "3/3 [==============================] - 0s 15ms/step - loss: 182.1966 - val_loss: 167.2236\n",
      "Epoch 44/100\n",
      "3/3 [==============================] - 0s 12ms/step - loss: 182.7091 - val_loss: 164.4789\n",
      "Epoch 45/100\n",
      "3/3 [==============================] - 0s 10ms/step - loss: 179.9506 - val_loss: 165.6038\n",
      "Epoch 46/100\n",
      "3/3 [==============================] - 0s 11ms/step - loss: 179.0487 - val_loss: 166.2176\n",
      "Epoch 47/100\n",
      "3/3 [==============================] - 0s 11ms/step - loss: 180.8219 - val_loss: 167.5938\n",
      "Epoch 48/100\n",
      "3/3 [==============================] - 0s 8ms/step - loss: 178.0612 - val_loss: 163.8401\n",
      "Epoch 49/100\n",
      "3/3 [==============================] - 0s 9ms/step - loss: 178.2677 - val_loss: 161.3723\n",
      "Epoch 50/100\n",
      "3/3 [==============================] - 0s 10ms/step - loss: 177.4532 - val_loss: 160.8078\n",
      "Epoch 51/100\n",
      "3/3 [==============================] - 0s 9ms/step - loss: 175.6151 - val_loss: 158.4536\n",
      "Epoch 52/100\n",
      "3/3 [==============================] - 0s 10ms/step - loss: 180.4681 - val_loss: 157.1959\n",
      "Epoch 53/100\n",
      "3/3 [==============================] - 0s 10ms/step - loss: 176.4539 - val_loss: 159.3349\n",
      "Epoch 54/100\n",
      "3/3 [==============================] - 0s 14ms/step - loss: 176.0776 - val_loss: 163.3724\n",
      "Epoch 55/100\n",
      "3/3 [==============================] - 0s 17ms/step - loss: 175.3784 - val_loss: 166.6047\n",
      "Epoch 56/100\n",
      "3/3 [==============================] - 0s 18ms/step - loss: 175.9695 - val_loss: 166.9327\n",
      "Epoch 57/100\n",
      "3/3 [==============================] - 0s 19ms/step - loss: 174.8958 - val_loss: 162.1803\n",
      "Epoch 58/100\n",
      "3/3 [==============================] - 0s 21ms/step - loss: 172.6445 - val_loss: 161.8527\n",
      "Epoch 59/100\n",
      "3/3 [==============================] - 0s 19ms/step - loss: 173.8748 - val_loss: 160.7355\n",
      "Epoch 60/100\n",
      "3/3 [==============================] - 0s 24ms/step - loss: 172.4699 - val_loss: 163.3903\n",
      "Epoch 61/100\n",
      "3/3 [==============================] - 0s 19ms/step - loss: 172.4826 - val_loss: 164.7751\n",
      "Epoch 62/100\n",
      "3/3 [==============================] - 0s 19ms/step - loss: 173.0980 - val_loss: 163.9979\n",
      "Epoch 63/100\n",
      "3/3 [==============================] - 0s 19ms/step - loss: 170.2499 - val_loss: 159.2851\n",
      "Epoch 64/100\n",
      "3/3 [==============================] - 0s 22ms/step - loss: 170.8178 - val_loss: 153.2376\n",
      "Epoch 65/100\n",
      "3/3 [==============================] - 0s 19ms/step - loss: 169.3848 - val_loss: 153.2620\n",
      "Epoch 66/100\n",
      "3/3 [==============================] - 0s 21ms/step - loss: 171.1665 - val_loss: 154.7611\n",
      "Epoch 67/100\n",
      "3/3 [==============================] - 0s 18ms/step - loss: 170.0105 - val_loss: 153.7726\n",
      "Epoch 68/100\n",
      "3/3 [==============================] - 0s 21ms/step - loss: 169.8405 - val_loss: 153.6141\n",
      "Epoch 69/100\n",
      "3/3 [==============================] - 0s 19ms/step - loss: 170.0738 - val_loss: 151.7774\n",
      "Epoch 70/100\n",
      "3/3 [==============================] - 0s 18ms/step - loss: 167.6129 - val_loss: 153.2399\n",
      "Epoch 71/100\n",
      "3/3 [==============================] - 0s 16ms/step - loss: 166.1422 - val_loss: 155.1686\n",
      "Epoch 72/100\n",
      "3/3 [==============================] - 0s 22ms/step - loss: 169.7303 - val_loss: 159.8207\n",
      "Epoch 73/100\n",
      "3/3 [==============================] - 0s 17ms/step - loss: 165.9648 - val_loss: 156.9838\n",
      "Epoch 74/100\n",
      "3/3 [==============================] - 0s 20ms/step - loss: 166.5726 - val_loss: 154.1023\n",
      "Epoch 75/100\n",
      "3/3 [==============================] - 0s 19ms/step - loss: 166.8150 - val_loss: 147.2600\n",
      "Epoch 76/100\n",
      "3/3 [==============================] - 0s 18ms/step - loss: 165.7379 - val_loss: 146.1069\n",
      "Epoch 77/100\n",
      "3/3 [==============================] - 0s 15ms/step - loss: 169.8778 - val_loss: 152.3299\n",
      "Epoch 78/100\n",
      "3/3 [==============================] - 0s 11ms/step - loss: 165.0582 - val_loss: 153.0056\n",
      "Epoch 79/100\n",
      "3/3 [==============================] - 0s 12ms/step - loss: 163.9991 - val_loss: 150.5934\n",
      "Epoch 80/100\n"
     ]
    },
    {
     "name": "stdout",
     "output_type": "stream",
     "text": [
      "3/3 [==============================] - 0s 11ms/step - loss: 164.4934 - val_loss: 150.1750\n",
      "Epoch 81/100\n",
      "3/3 [==============================] - 0s 11ms/step - loss: 162.7762 - val_loss: 145.5235\n",
      "Epoch 82/100\n",
      "3/3 [==============================] - 0s 9ms/step - loss: 164.8195 - val_loss: 143.2965\n",
      "Epoch 83/100\n",
      "3/3 [==============================] - 0s 10ms/step - loss: 161.9517 - val_loss: 146.9950\n",
      "Epoch 84/100\n",
      "3/3 [==============================] - 0s 10ms/step - loss: 162.1644 - val_loss: 153.1330\n",
      "Epoch 85/100\n",
      "3/3 [==============================] - 0s 7ms/step - loss: 162.1787 - val_loss: 154.1350\n",
      "Epoch 86/100\n",
      "3/3 [==============================] - 0s 9ms/step - loss: 163.3305 - val_loss: 149.6747\n",
      "Epoch 87/100\n",
      "3/3 [==============================] - 0s 10ms/step - loss: 161.8119 - val_loss: 148.1141\n",
      "Epoch 88/100\n",
      "3/3 [==============================] - 0s 8ms/step - loss: 162.0907 - val_loss: 153.5493\n",
      "Epoch 89/100\n",
      "3/3 [==============================] - 0s 9ms/step - loss: 162.0331 - val_loss: 152.1564\n",
      "Epoch 90/100\n",
      "3/3 [==============================] - 0s 11ms/step - loss: 160.7203 - val_loss: 140.0925\n",
      "Epoch 91/100\n",
      "3/3 [==============================] - 0s 12ms/step - loss: 163.4081 - val_loss: 136.2270\n",
      "Epoch 92/100\n",
      "3/3 [==============================] - 0s 12ms/step - loss: 161.8311 - val_loss: 137.2370\n",
      "Epoch 93/100\n",
      "3/3 [==============================] - 0s 16ms/step - loss: 162.9546 - val_loss: 146.2028\n",
      "Epoch 94/100\n",
      "3/3 [==============================] - 0s 20ms/step - loss: 160.5535 - val_loss: 150.8527\n",
      "Epoch 95/100\n",
      "3/3 [==============================] - 0s 17ms/step - loss: 158.6349 - val_loss: 144.2403\n",
      "Epoch 96/100\n",
      "3/3 [==============================] - 0s 22ms/step - loss: 161.2209 - val_loss: 139.5419\n",
      "Epoch 97/100\n",
      "3/3 [==============================] - 0s 18ms/step - loss: 157.0208 - val_loss: 143.4372\n",
      "Epoch 98/100\n",
      "3/3 [==============================] - 0s 14ms/step - loss: 156.8300 - val_loss: 148.2157\n",
      "Epoch 99/100\n",
      "3/3 [==============================] - 0s 13ms/step - loss: 156.9276 - val_loss: 151.7029\n",
      "Epoch 100/100\n",
      "3/3 [==============================] - 0s 10ms/step - loss: 159.4415 - val_loss: 151.6336\n"
     ]
    }
   ],
   "source": [
    "history = model.fit(X_train, y_train, epochs=100,\n",
    "                    validation_data=(X_valid, y_valid))"
   ]
  },
  {
   "cell_type": "markdown",
   "id": "17d6e37a",
   "metadata": {},
   "source": [
    "Plot the result"
   ]
  },
  {
   "cell_type": "code",
   "execution_count": 17,
   "id": "3b066f5c",
   "metadata": {},
   "outputs": [
    {
     "name": "stdout",
     "output_type": "stream",
     "text": [
      "Saving figure num_num_training_curve\n"
     ]
    },
    {
     "data": {
      "image/png": "[encoded data removed]",
      "text/plain": [
       "<Figure size 576x360 with 1 Axes>"
      ]
     },
     "metadata": {
      "needs_background": "light"
     },
     "output_type": "display_data"
    }
   ],
   "source": [
    "import pandas as pd\n",
    "\n",
    "pd.DataFrame(history.history).plot(figsize=(8, 5))\n",
    "plt.grid(True)\n",
    "# plt.gca().set_ylim(0, 1)\n",
    "save_fig(\"num_num_training_curve\")\n",
    "plt.show()"
   ]
  },
  {
   "cell_type": "code",
   "execution_count": 18,
   "id": "03f9bb54",
   "metadata": {},
   "outputs": [
    {
     "name": "stdout",
     "output_type": "stream",
     "text": [
      "Saving figure num_num_prediction\n"
     ]
    },
    {
     "data": {
      "image/png": "[encoded data removed]",
      "text/plain": [
       "<Figure size 432x288 with 1 Axes>"
      ]
     },
     "metadata": {
      "needs_background": "light"
     },
     "output_type": "display_data"
    }
   ],
   "source": [
    "# X_new = np.linspace(-5, 5, 100).reshape(100, 1)\n",
    "# y_new = model.predict(X_new)\n",
    "#\n",
    "# plt.plot(X_train, y_train, \"b.\")\n",
    "draw_points(X_train, y_train, sid_train)\n",
    "# plt.plot(X_new, y_new, \"r-\", linewidth=2, label=\"Predictions\")\n",
    "draw_func(model.predict, mark='r-', linewidth=2, label=\"Predictions\")\n",
    "draw_normal_func(func_dict)\n",
    "plt.xlabel(\"$x_1$\", fontsize=18)\n",
    "plt.ylabel(\"$y$\", rotation=0, fontsize=18)\n",
    "plt.legend(loc=\"upper left\", fontsize=14)\n",
    "# plt.axis([-3, 3, 0, 10])\n",
    "save_fig(\"num_num_prediction\")\n",
    "plt.show()"
   ]
  },
  {
   "cell_type": "code",
   "execution_count": 19,
   "id": "bc06d931",
   "metadata": {},
   "outputs": [
    {
     "name": "stdout",
     "output_type": "stream",
     "text": [
      "y_func.shape = (100, 1)\n",
      "y_gt.shape = (100, 1)\n"
     ]
    },
    {
     "data": {
      "text/plain": [
       "5.452481637378687"
      ]
     },
     "execution_count": 19,
     "metadata": {},
     "output_type": "execute_result"
    }
   ],
   "source": [
    "get_prediction_error(model.predict, func_dict, name=\"num-num\")"
   ]
  },
  {
   "cell_type": "markdown",
   "id": "58da8768",
   "metadata": {},
   "source": [
    "# Simulated CNN Feature Map (1-D grids, grid --> number)"
   ]
  },
  {
   "cell_type": "code",
   "execution_count": 20,
   "id": "287b5e4c",
   "metadata": {},
   "outputs": [],
   "source": [
    "class num2grid(keras.layers.Layer):\n",
    "    def __init__(self, units, x_min=-10, x_max=10, sigma=1.0, activation=None, **kwargs):\n",
    "        super().__init__(**kwargs)\n",
    "        self.units = units\n",
    "        self.x_min = x_min\n",
    "        self.x_max = x_max\n",
    "        self.sigma = sigma\n",
    "        self.sigma2 = self.sigma**2\n",
    "        self.activation = keras.activations.get(activation)\n",
    "        \n",
    "    def build(self, batch_input_shape):\n",
    "        #\n",
    "        self.x_grid = np.linspace(self.x_min, self.x_max, self.units, endpoint=True)\n",
    "#         print(\"self.x_grid.shape = %s\" % str(self.x_grid.shape))\n",
    "        #\n",
    "        super().build(batch_input_shape) # must be at the end\n",
    "        \n",
    "    def call(self, X):\n",
    "        '''\n",
    "        Input shape:  (batch, X_chanel)\n",
    "        Output shape: (batch, grid_unit) \n",
    "        \n",
    "        self.x_grid shape: (grid_unit,)\n",
    "        '''\n",
    "        gauss_grid = tf.exp( -(self.x_grid - X)**2 / (2.0*self.sigma2) )\n",
    "        print(\"X.shape = %s\" % str(X.shape))\n",
    "        print(\"gauss_grid.shape = %s\" % str(gauss_grid.shape))\n",
    "        return self.activation(gauss_grid)\n",
    "    \n",
    "    def compute_output_shape(self, batch_input_shape):\n",
    "        return tf.TensorShape(batch_input_shape.as_list()[:-1] + [self.units])\n",
    "    \n",
    "    def get_config(self):\n",
    "        base_config = super().get_config()\n",
    "        return {**base_config, \n",
    "                \"units\": self.units,\n",
    "                \"x_min\": self.x_min,\n",
    "                \"x_max\": self.x_max,\n",
    "                \"sigma\": self.sigma,\n",
    "                \"activation\": keras.activations.serialize(self.activation)}"
   ]
  },
  {
   "cell_type": "code",
   "execution_count": 21,
   "id": "f463c12a",
   "metadata": {},
   "outputs": [
    {
     "name": "stdout",
     "output_type": "stream",
     "text": [
      "X.shape = (None, 1)\n",
      "gauss_grid.shape = (None, 5)\n"
     ]
    }
   ],
   "source": [
    "model = keras.models.Sequential([\n",
    "    num2grid(5,x_min=-10, x_max=10, sigma=3.0, input_shape=X_train.shape[1:]),\n",
    "    keras.layers.Dense(30, activation=\"relu\"),\n",
    "#     keras.layers.Dense(100, activation=\"relu\", kernel_regularizer=tf.keras.regularizers.l1(0.01)),\n",
    "#     keras.layers.Dense(30, activation=keras.layers.LeakyReLU(alpha=0.2) ),\n",
    "#     keras.layers.Dense(30, activation=\"selu\"),\n",
    "#     keras.layers.Dense(30, activation=\"relu\"),\n",
    "    keras.layers.Dense(1)\n",
    "])"
   ]
  },
  {
   "cell_type": "code",
   "execution_count": 22,
   "id": "73fbb610",
   "metadata": {},
   "outputs": [],
   "source": [
    "# # Customized loss function\n",
    "# def asymptoticLoss_fn(y_true, y_pred, alpha=0.01):\n",
    "#     # tau: quantile, tau in [0.0, 1.0]\n",
    "#     # y_true: label mean\n",
    "#     # y_pred: predicted tau quantile\n",
    "#     y_target = alpha * y_true + (1.0 - alpha) * y_pred\n",
    "#     # return tf.abs(y_pred - y_target)\n",
    "#     return (y_pred - y_target)**2"
   ]
  },
  {
   "cell_type": "code",
   "execution_count": 23,
   "id": "062ec84e",
   "metadata": {},
   "outputs": [
    {
     "name": "stderr",
     "output_type": "stream",
     "text": [
      "/home/benson516/GazeDemo/gaze_env/lib/python3.8/site-packages/tensorflow/python/keras/optimizer_v2/optimizer_v2.py:374: UserWarning: The `lr` argument is deprecated, use `learning_rate` instead.\n",
      "  warnings.warn(\n"
     ]
    }
   ],
   "source": [
    "optimizer = keras.optimizers.SGD(lr=0.001, momentum=0.9)\n",
    "model.compile(loss=\"mean_squared_error\", optimizer=optimizer)\n",
    "# optimizer = keras.optimizers.Adam(lr=0.1)\n",
    "# # model.compile(loss=\"mean_absolute_error\", optimizer=optimizer)\n",
    "# model.compile(loss=asymptoticLoss_fn, optimizer=optimizer)"
   ]
  },
  {
   "cell_type": "code",
   "execution_count": 24,
   "id": "c966ada4",
   "metadata": {
    "scrolled": true
   },
   "outputs": [
    {
     "name": "stdout",
     "output_type": "stream",
     "text": [
      "Epoch 1/100\n",
      "X.shape = (None, 1)\n",
      "gauss_grid.shape = (None, 5)\n",
      "X.shape = (None, 1)\n",
      "gauss_grid.shape = (None, 5)\n",
      "1/3 [=========>....................] - ETA: 0s - loss: 2242.9561X.shape = (None, 1)\n",
      "gauss_grid.shape = (None, 5)\n",
      "3/3 [==============================] - 0s 34ms/step - loss: 2513.9675 - val_loss: 1731.2107\n",
      "Epoch 2/100\n",
      "3/3 [==============================] - 0s 6ms/step - loss: 2469.2480 - val_loss: 1711.5309\n",
      "Epoch 3/100\n",
      "3/3 [==============================] - 0s 6ms/step - loss: 2401.4299 - val_loss: 1657.2552\n",
      "Epoch 4/100\n",
      "3/3 [==============================] - 0s 6ms/step - loss: 2200.4324 - val_loss: 1506.4833\n",
      "Epoch 5/100\n",
      "3/3 [==============================] - 0s 9ms/step - loss: 1763.5212 - val_loss: 1244.8264\n",
      "Epoch 6/100\n",
      "3/3 [==============================] - 0s 11ms/step - loss: 1065.6443 - val_loss: 758.2056\n",
      "Epoch 7/100\n",
      "3/3 [==============================] - 0s 17ms/step - loss: 597.6285 - val_loss: 332.6414\n",
      "Epoch 8/100\n",
      "3/3 [==============================] - 0s 12ms/step - loss: 332.8805 - val_loss: 298.6436\n",
      "Epoch 9/100\n",
      "3/3 [==============================] - 0s 8ms/step - loss: 366.6458 - val_loss: 334.8003\n",
      "Epoch 10/100\n",
      "3/3 [==============================] - 0s 12ms/step - loss: 299.1252 - val_loss: 316.8844\n",
      "Epoch 11/100\n",
      "3/3 [==============================] - 0s 13ms/step - loss: 286.2794 - val_loss: 234.3704\n",
      "Epoch 12/100\n",
      "3/3 [==============================] - 0s 11ms/step - loss: 260.1732 - val_loss: 248.8647\n",
      "Epoch 13/100\n",
      "3/3 [==============================] - 0s 8ms/step - loss: 270.4733 - val_loss: 268.4684\n",
      "Epoch 14/100\n",
      "3/3 [==============================] - 0s 15ms/step - loss: 255.3509 - val_loss: 262.2507\n",
      "Epoch 15/100\n",
      "3/3 [==============================] - 0s 12ms/step - loss: 233.0114 - val_loss: 212.4115\n",
      "Epoch 16/100\n",
      "3/3 [==============================] - 0s 9ms/step - loss: 230.6355 - val_loss: 210.6011\n",
      "Epoch 17/100\n",
      "3/3 [==============================] - 0s 10ms/step - loss: 223.6747 - val_loss: 219.4033\n",
      "Epoch 18/100\n",
      "3/3 [==============================] - 0s 10ms/step - loss: 225.9360 - val_loss: 211.3862\n",
      "Epoch 19/100\n",
      "3/3 [==============================] - 0s 8ms/step - loss: 212.2606 - val_loss: 194.9012\n",
      "Epoch 20/100\n",
      "3/3 [==============================] - 0s 10ms/step - loss: 217.1754 - val_loss: 198.5117\n",
      "Epoch 21/100\n",
      "3/3 [==============================] - 0s 13ms/step - loss: 204.1132 - val_loss: 193.5428\n",
      "Epoch 22/100\n",
      "3/3 [==============================] - 0s 13ms/step - loss: 202.6491 - val_loss: 176.4767\n",
      "Epoch 23/100\n",
      "3/3 [==============================] - 0s 13ms/step - loss: 195.3313 - val_loss: 169.1085\n",
      "Epoch 24/100\n",
      "3/3 [==============================] - 0s 9ms/step - loss: 194.7085 - val_loss: 163.1258\n",
      "Epoch 25/100\n",
      "3/3 [==============================] - 0s 11ms/step - loss: 188.3460 - val_loss: 159.5853\n",
      "Epoch 26/100\n",
      "3/3 [==============================] - 0s 11ms/step - loss: 184.7639 - val_loss: 163.4138\n",
      "Epoch 27/100\n",
      "3/3 [==============================] - 0s 11ms/step - loss: 183.5228 - val_loss: 158.6932\n",
      "Epoch 28/100\n",
      "3/3 [==============================] - 0s 9ms/step - loss: 180.2016 - val_loss: 148.5010\n",
      "Epoch 29/100\n",
      "3/3 [==============================] - 0s 10ms/step - loss: 177.8976 - val_loss: 141.1390\n",
      "Epoch 30/100\n",
      "3/3 [==============================] - 0s 11ms/step - loss: 176.3128 - val_loss: 138.2560\n",
      "Epoch 31/100\n",
      "3/3 [==============================] - 0s 11ms/step - loss: 176.9388 - val_loss: 137.7911\n",
      "Epoch 32/100\n",
      "3/3 [==============================] - 0s 8ms/step - loss: 179.0307 - val_loss: 143.4215\n",
      "Epoch 33/100\n",
      "3/3 [==============================] - 0s 12ms/step - loss: 177.0512 - val_loss: 131.7946\n",
      "Epoch 34/100\n",
      "3/3 [==============================] - 0s 11ms/step - loss: 174.1235 - val_loss: 142.1354\n",
      "Epoch 35/100\n",
      "3/3 [==============================] - 0s 12ms/step - loss: 171.2526 - val_loss: 134.2059\n",
      "Epoch 36/100\n",
      "3/3 [==============================] - 0s 12ms/step - loss: 177.7966 - val_loss: 123.5727\n",
      "Epoch 37/100\n",
      "3/3 [==============================] - 0s 17ms/step - loss: 171.6613 - val_loss: 107.1490\n",
      "Epoch 38/100\n",
      "3/3 [==============================] - 0s 11ms/step - loss: 181.6003 - val_loss: 108.9382\n",
      "Epoch 39/100\n",
      "3/3 [==============================] - 0s 15ms/step - loss: 168.8976 - val_loss: 140.3085\n",
      "Epoch 40/100\n",
      "3/3 [==============================] - 0s 21ms/step - loss: 177.0504 - val_loss: 139.3128\n",
      "Epoch 41/100\n",
      "3/3 [==============================] - 0s 15ms/step - loss: 169.6653 - val_loss: 137.5406\n",
      "Epoch 42/100\n",
      "3/3 [==============================] - 0s 15ms/step - loss: 179.5432 - val_loss: 126.3554\n",
      "Epoch 43/100\n",
      "3/3 [==============================] - 0s 17ms/step - loss: 166.7787 - val_loss: 118.5369\n",
      "Epoch 44/100\n",
      "3/3 [==============================] - 0s 14ms/step - loss: 177.5937 - val_loss: 109.3019\n",
      "Epoch 45/100\n",
      "3/3 [==============================] - 0s 13ms/step - loss: 171.8441 - val_loss: 107.3919\n",
      "Epoch 46/100\n",
      "3/3 [==============================] - 0s 16ms/step - loss: 169.5100 - val_loss: 126.3022\n",
      "Epoch 47/100\n",
      "3/3 [==============================] - 0s 18ms/step - loss: 168.9784 - val_loss: 128.9015\n",
      "Epoch 48/100\n",
      "3/3 [==============================] - 0s 13ms/step - loss: 166.8062 - val_loss: 110.5258\n",
      "Epoch 49/100\n",
      "3/3 [==============================] - 0s 13ms/step - loss: 167.8557 - val_loss: 105.0533\n",
      "Epoch 50/100\n",
      "3/3 [==============================] - 0s 14ms/step - loss: 166.2259 - val_loss: 113.1831\n",
      "Epoch 51/100\n",
      "3/3 [==============================] - 0s 14ms/step - loss: 163.4635 - val_loss: 132.4050\n",
      "Epoch 52/100\n",
      "3/3 [==============================] - 0s 14ms/step - loss: 170.1181 - val_loss: 141.4844\n",
      "Epoch 53/100\n",
      "3/3 [==============================] - 0s 13ms/step - loss: 169.8431 - val_loss: 119.5333\n",
      "Epoch 54/100\n",
      "3/3 [==============================] - 0s 29ms/step - loss: 168.4998 - val_loss: 100.8861\n",
      "Epoch 55/100\n",
      "3/3 [==============================] - 0s 27ms/step - loss: 168.7596 - val_loss: 106.2035\n",
      "Epoch 56/100\n",
      "3/3 [==============================] - 0s 22ms/step - loss: 167.2006 - val_loss: 126.2162\n",
      "Epoch 57/100\n",
      "3/3 [==============================] - 0s 25ms/step - loss: 167.2498 - val_loss: 137.2797\n",
      "Epoch 58/100\n",
      "3/3 [==============================] - 0s 25ms/step - loss: 168.4803 - val_loss: 133.5627\n",
      "Epoch 59/100\n",
      "3/3 [==============================] - 0s 40ms/step - loss: 173.3111 - val_loss: 128.9949\n",
      "Epoch 60/100\n",
      "3/3 [==============================] - 0s 27ms/step - loss: 166.0028 - val_loss: 104.7991\n",
      "Epoch 61/100\n",
      "3/3 [==============================] - 0s 30ms/step - loss: 172.4404 - val_loss: 104.6437\n",
      "Epoch 62/100\n",
      "3/3 [==============================] - 0s 32ms/step - loss: 176.2892 - val_loss: 101.3971\n",
      "Epoch 63/100\n",
      "3/3 [==============================] - 0s 16ms/step - loss: 171.6596 - val_loss: 121.6759\n",
      "Epoch 64/100\n",
      "3/3 [==============================] - 0s 21ms/step - loss: 168.6556 - val_loss: 134.1946\n",
      "Epoch 65/100\n",
      "3/3 [==============================] - 0s 10ms/step - loss: 169.8825 - val_loss: 118.1022\n",
      "Epoch 66/100\n",
      "3/3 [==============================] - 0s 12ms/step - loss: 165.7332 - val_loss: 124.0840\n",
      "Epoch 67/100\n",
      "3/3 [==============================] - 0s 16ms/step - loss: 166.4398 - val_loss: 108.7280\n",
      "Epoch 68/100\n",
      "3/3 [==============================] - 0s 16ms/step - loss: 167.2218 - val_loss: 115.2722\n",
      "Epoch 69/100\n",
      "3/3 [==============================] - 0s 12ms/step - loss: 165.6073 - val_loss: 116.6761\n",
      "Epoch 70/100\n",
      "3/3 [==============================] - 0s 12ms/step - loss: 163.0104 - val_loss: 122.4570\n",
      "Epoch 71/100\n",
      "3/3 [==============================] - 0s 12ms/step - loss: 162.8712 - val_loss: 117.3545\n",
      "Epoch 72/100\n",
      "3/3 [==============================] - 0s 11ms/step - loss: 162.3890 - val_loss: 113.8484\n",
      "Epoch 73/100\n",
      "3/3 [==============================] - 0s 11ms/step - loss: 162.8976 - val_loss: 112.0906\n",
      "Epoch 74/100\n",
      "3/3 [==============================] - 0s 11ms/step - loss: 162.1461 - val_loss: 118.8563\n",
      "Epoch 75/100\n",
      "3/3 [==============================] - 0s 8ms/step - loss: 163.7228 - val_loss: 120.0037\n",
      "Epoch 76/100\n",
      "3/3 [==============================] - 0s 10ms/step - loss: 161.7635 - val_loss: 114.6940\n",
      "Epoch 77/100\n",
      "3/3 [==============================] - 0s 10ms/step - loss: 162.3110 - val_loss: 115.6286\n",
      "Epoch 78/100\n"
     ]
    },
    {
     "name": "stdout",
     "output_type": "stream",
     "text": [
      "3/3 [==============================] - 0s 10ms/step - loss: 161.3837 - val_loss: 116.1923\n",
      "Epoch 79/100\n",
      "3/3 [==============================] - 0s 11ms/step - loss: 162.9589 - val_loss: 121.2194\n",
      "Epoch 80/100\n",
      "3/3 [==============================] - 0s 13ms/step - loss: 164.9806 - val_loss: 123.3861\n",
      "Epoch 81/100\n",
      "3/3 [==============================] - 0s 15ms/step - loss: 164.4223 - val_loss: 111.4656\n",
      "Epoch 82/100\n",
      "3/3 [==============================] - 0s 13ms/step - loss: 166.9191 - val_loss: 101.6198\n",
      "Epoch 83/100\n",
      "3/3 [==============================] - 0s 11ms/step - loss: 162.4914 - val_loss: 109.7398\n",
      "Epoch 84/100\n",
      "3/3 [==============================] - 0s 8ms/step - loss: 163.3005 - val_loss: 123.4492\n",
      "Epoch 85/100\n",
      "3/3 [==============================] - 0s 10ms/step - loss: 161.1382 - val_loss: 123.3536\n",
      "Epoch 86/100\n",
      "3/3 [==============================] - 0s 10ms/step - loss: 162.5869 - val_loss: 124.9771\n",
      "Epoch 87/100\n",
      "3/3 [==============================] - 0s 7ms/step - loss: 162.9252 - val_loss: 120.7631\n",
      "Epoch 88/100\n",
      "3/3 [==============================] - 0s 10ms/step - loss: 163.0123 - val_loss: 113.7065\n",
      "Epoch 89/100\n",
      "3/3 [==============================] - 0s 11ms/step - loss: 160.5565 - val_loss: 108.6673\n",
      "Epoch 90/100\n",
      "3/3 [==============================] - 0s 15ms/step - loss: 163.7336 - val_loss: 100.6343\n",
      "Epoch 91/100\n",
      "3/3 [==============================] - 0s 11ms/step - loss: 162.0963 - val_loss: 108.9570\n",
      "Epoch 92/100\n",
      "3/3 [==============================] - 0s 12ms/step - loss: 161.8343 - val_loss: 117.6054\n",
      "Epoch 93/100\n",
      "3/3 [==============================] - 0s 10ms/step - loss: 161.5313 - val_loss: 130.3819\n",
      "Epoch 94/100\n",
      "3/3 [==============================] - 0s 11ms/step - loss: 162.0818 - val_loss: 128.5365\n",
      "Epoch 95/100\n",
      "3/3 [==============================] - 0s 10ms/step - loss: 162.5633 - val_loss: 127.8126\n",
      "Epoch 96/100\n",
      "3/3 [==============================] - 0s 12ms/step - loss: 161.6978 - val_loss: 118.7257\n",
      "Epoch 97/100\n",
      "3/3 [==============================] - 0s 9ms/step - loss: 164.3062 - val_loss: 112.6903\n",
      "Epoch 98/100\n",
      "3/3 [==============================] - 0s 9ms/step - loss: 159.9848 - val_loss: 130.0938\n",
      "Epoch 99/100\n",
      "3/3 [==============================] - 0s 10ms/step - loss: 161.5030 - val_loss: 128.4200\n",
      "Epoch 100/100\n",
      "3/3 [==============================] - 0s 7ms/step - loss: 162.3651 - val_loss: 108.2001\n"
     ]
    }
   ],
   "source": [
    "history = model.fit(X_train, y_train, epochs=100,\n",
    "                    validation_data=(X_valid, y_valid))"
   ]
  },
  {
   "cell_type": "code",
   "execution_count": 25,
   "id": "4d550f88",
   "metadata": {},
   "outputs": [
    {
     "name": "stdout",
     "output_type": "stream",
     "text": [
      "Saving figure grid_num_training_curve\n"
     ]
    },
    {
     "data": {
      "image/png": "[encoded data removed]",
      "text/plain": [
       "<Figure size 576x360 with 1 Axes>"
      ]
     },
     "metadata": {
      "needs_background": "light"
     },
     "output_type": "display_data"
    }
   ],
   "source": [
    "import pandas as pd\n",
    "\n",
    "pd.DataFrame(history.history).plot(figsize=(8, 5))\n",
    "plt.grid(True)\n",
    "# plt.gca().set_ylim(0, 1)\n",
    "save_fig(\"grid_num_training_curve\")\n",
    "plt.show()"
   ]
  },
  {
   "cell_type": "code",
   "execution_count": 26,
   "id": "5487653c",
   "metadata": {},
   "outputs": [
    {
     "name": "stdout",
     "output_type": "stream",
     "text": [
      "X.shape = (None, 1)\n",
      "gauss_grid.shape = (None, 5)\n",
      "Saving figure grid_num_prediction\n"
     ]
    },
    {
     "data": {
      "image/png": "[encoded data removed]",
      "text/plain": [
       "<Figure size 432x288 with 1 Axes>"
      ]
     },
     "metadata": {
      "needs_background": "light"
     },
     "output_type": "display_data"
    }
   ],
   "source": [
    "# X_new = np.linspace(-5, 5, 100).reshape(100, 1)\n",
    "# y_new = model.predict(X_new)\n",
    "#\n",
    "# plt.plot(X_train, y_train, \"b.\")\n",
    "draw_points(X_train, y_train, sid_train)\n",
    "# plt.plot(X_new, y_new, \"r-\", linewidth=2, label=\"Predictions\")\n",
    "draw_func(model.predict, mark='r-', linewidth=2, label=\"Predictions\")\n",
    "draw_normal_func(func_dict)\n",
    "plt.xlabel(\"$x_1$\", fontsize=18)\n",
    "plt.ylabel(\"$y$\", rotation=0, fontsize=18)\n",
    "plt.legend(loc=\"upper left\", fontsize=14)\n",
    "# plt.axis([-3, 3, 0, 10])\n",
    "save_fig(\"grid_num_prediction\")\n",
    "plt.show()"
   ]
  },
  {
   "cell_type": "code",
   "execution_count": 27,
   "id": "f9c053a4",
   "metadata": {},
   "outputs": [
    {
     "name": "stdout",
     "output_type": "stream",
     "text": [
      "y_func.shape = (100, 1)\n",
      "y_gt.shape = (100, 1)\n"
     ]
    },
    {
     "data": {
      "text/plain": [
       "4.030775940685492"
      ]
     },
     "execution_count": 27,
     "metadata": {},
     "output_type": "execute_result"
    }
   ],
   "source": [
    "get_prediction_error(model.predict, func_dict, name=\"grid-num\")"
   ]
  },
  {
   "cell_type": "markdown",
   "id": "fe65d614",
   "metadata": {},
   "source": [
    "# Grid & Regression by Classification (grid --> grid)"
   ]
  },
  {
   "cell_type": "code",
   "execution_count": 28,
   "id": "3d35615e",
   "metadata": {},
   "outputs": [],
   "source": [
    "class num2grid_np():\n",
    "    def __init__(self, units, x_min=-10, x_max=10, sigma=1.0):\n",
    "        self.units = units\n",
    "        self.x_min = x_min\n",
    "        self.x_max = x_max\n",
    "        self.sigma = sigma\n",
    "        self.sigma2 = self.sigma**2\n",
    "        self.x_grid = np.linspace(self.x_min, self.x_max, self.units, endpoint=True)\n",
    "        print(\"self.x_grid = %s\" % str(self.x_grid))\n",
    "        \n",
    "    def convert(self, X):\n",
    "        gauss_grid = np.exp( -(self.x_grid - X)**2 / (2.0*self.sigma2) )\n",
    "#         if len(gauss_grid.shape) == 1:\n",
    "#             gauss_grid = gauss_grid.reshape([1,-1])\n",
    "#         grid_sum = np.sum(gauss_grid, axis=1, keepdims=True)\n",
    "        grid_sum = np.sum(gauss_grid, axis=-1, keepdims=True)\n",
    "        gauss_grid = gauss_grid / grid_sum\n",
    "        return gauss_grid\n",
    "    \n",
    "    def inv_convert(self, grid):\n",
    "#         if len(grid.shape) == 1:\n",
    "#             grid = grid.reshape([1,-1])\n",
    "#         grid_sum = np.sum(grid, axis=1)\n",
    "        grid_sum = np.sum(grid, axis=-1)\n",
    "#         print(grid_sum)\n",
    "        exp_num = np.sum((self.x_grid * grid), axis=-1) / grid_sum # element-wise\n",
    "        return exp_num\n",
    "    \n",
    "    def get_statistic(self, grid):\n",
    "        grid_sum = np.sum(grid, axis=-1)\n",
    "        _mean = np.sum((self.x_grid * grid), axis=-1) / grid_sum # element-wise\n",
    "        _var  = np.sum( ((self.x_grid.reshape((1,-1)) - _mean.reshape((-1,1)))**2 * grid), axis=-1) / grid_sum # element-wise\n",
    "        # print(\"(_mean, _var) = (%f, %f)\" % (_mean, _var))\n",
    "        _stddev = np.sqrt(_var)\n",
    "        return _mean, _stddev"
   ]
  },
  {
   "cell_type": "code",
   "execution_count": 29,
   "id": "4903180b",
   "metadata": {},
   "outputs": [
    {
     "name": "stdout",
     "output_type": "stream",
     "text": [
      "self.x_grid = [-100.          -95.91836735  -91.83673469  -87.75510204  -83.67346939\n",
      "  -79.59183673  -75.51020408  -71.42857143  -67.34693878  -63.26530612\n",
      "  -59.18367347  -55.10204082  -51.02040816  -46.93877551  -42.85714286\n",
      "  -38.7755102   -34.69387755  -30.6122449   -26.53061224  -22.44897959\n",
      "  -18.36734694  -14.28571429  -10.20408163   -6.12244898   -2.04081633\n",
      "    2.04081633    6.12244898   10.20408163   14.28571429   18.36734694\n",
      "   22.44897959   26.53061224   30.6122449    34.69387755   38.7755102\n",
      "   42.85714286   46.93877551   51.02040816   55.10204082   59.18367347\n",
      "   63.26530612   67.34693878   71.42857143   75.51020408   79.59183673\n",
      "   83.67346939   87.75510204   91.83673469   95.91836735  100.        ]\n"
     ]
    }
   ],
   "source": [
    "# class_num = 10 # 10\n",
    "# n2g = num2grid_np(class_num, x_min=-100.0, x_max=100.0, sigma=20.0) # 20.0\n",
    "# class_num = 20\n",
    "# n2g = num2grid_np(class_num, x_min=-100.0, x_max=100.0, sigma=15.0) # 20.0\n",
    "class_num = 50\n",
    "n2g = num2grid_np(class_num, x_min=-100.0, x_max=100.0, sigma=6.0) # 5.0 "
   ]
  },
  {
   "cell_type": "code",
   "execution_count": 30,
   "id": "dce05258",
   "metadata": {},
   "outputs": [
    {
     "name": "stdout",
     "output_type": "stream",
     "text": [
      "[[3.57995092e-60 2.08100846e-55 7.61538914e-51 1.75441300e-46\n",
      "  2.54444491e-42 2.32314196e-38 1.33530332e-34 4.83176258e-31\n",
      "  1.10065884e-27 1.57841554e-24 1.42498879e-21 8.09884396e-19\n",
      "  2.89771784e-16 6.52695532e-14 9.25521826e-12 8.26198061e-10\n",
      "  4.64304784e-08 1.64264466e-06 3.65852120e-05 5.12966502e-04\n",
      "  4.52786966e-03 2.51605603e-02 8.80173281e-02 1.93837381e-01\n",
      "  2.68737559e-01 2.34552834e-01 1.28876722e-01 4.45789421e-02\n",
      "  9.70748025e-03 1.33077537e-03 1.14848275e-04 6.23972825e-06\n",
      "  2.13416679e-07 4.59528573e-09 6.22899760e-11 5.31551427e-13\n",
      "  2.85557712e-15 9.65748361e-18 2.05615356e-20 2.75593262e-23\n",
      "  2.32542921e-26 1.23526215e-29 4.13082337e-33 8.69632169e-37\n",
      "  1.15254011e-40 9.61607812e-45 5.05081425e-49 1.67011468e-53\n",
      "  3.47658354e-58 4.55596654e-63]]\n"
     ]
    }
   ],
   "source": [
    "# grid_1 = n2g.convert(-1.2)\n",
    "grid_1 = n2g.convert([[-1.2]])\n",
    "print(grid_1)"
   ]
  },
  {
   "cell_type": "code",
   "execution_count": 31,
   "id": "48203fe2",
   "metadata": {},
   "outputs": [
    {
     "data": {
      "text/plain": [
       "array([-1.2])"
      ]
     },
     "execution_count": 31,
     "metadata": {},
     "output_type": "execute_result"
    }
   ],
   "source": [
    "n2g.inv_convert(grid_1)"
   ]
  },
  {
   "cell_type": "code",
   "execution_count": 32,
   "id": "a741b6d1",
   "metadata": {},
   "outputs": [
    {
     "data": {
      "text/plain": [
       "(array([-1.2]), array([6.]))"
      ]
     },
     "execution_count": 32,
     "metadata": {},
     "output_type": "execute_result"
    }
   ],
   "source": [
    "n2g.get_statistic(grid_1)"
   ]
  },
  {
   "cell_type": "markdown",
   "id": "bdc0b9a0",
   "metadata": {},
   "source": [
    "### Convert the labels to grid (pre-processing)"
   ]
  },
  {
   "cell_type": "code",
   "execution_count": 33,
   "id": "39c7fa96",
   "metadata": {},
   "outputs": [],
   "source": [
    "y_train_grid = n2g.convert(y_train)\n",
    "y_valid_grid = n2g.convert(y_valid)"
   ]
  },
  {
   "cell_type": "code",
   "execution_count": 34,
   "id": "f577a751",
   "metadata": {},
   "outputs": [
    {
     "name": "stdout",
     "output_type": "stream",
     "text": [
      "(80, 50)\n",
      "(20, 50)\n"
     ]
    }
   ],
   "source": [
    "print(y_train_grid.shape)\n",
    "print(y_valid_grid.shape)"
   ]
  },
  {
   "cell_type": "code",
   "execution_count": 35,
   "id": "71610af1",
   "metadata": {},
   "outputs": [
    {
     "name": "stdout",
     "output_type": "stream",
     "text": [
      "X.shape = (None, 1)\n",
      "gauss_grid.shape = (None, 5)\n"
     ]
    },
    {
     "name": "stderr",
     "output_type": "stream",
     "text": [
      "/home/benson516/GazeDemo/gaze_env/lib/python3.8/site-packages/tensorflow/python/keras/optimizer_v2/optimizer_v2.py:374: UserWarning: The `lr` argument is deprecated, use `learning_rate` instead.\n",
      "  warnings.warn(\n"
     ]
    }
   ],
   "source": [
    "model = keras.models.Sequential([\n",
    "#     keras.layers.Dense(30, activation=\"relu\", input_shape=X_train.shape[1:]),\n",
    "    num2grid(5,x_min=-10, x_max=10, sigma=3.0, input_shape=X_train.shape[1:]),\n",
    "    keras.layers.Dense(30, activation=\"relu\"),\n",
    "#     keras.layers.Dense(100, activation=\"relu\", kernel_regularizer=tf.keras.regularizers.l1(0.01)),\n",
    "    keras.layers.Dense(class_num, activation=\"softmax\"),\n",
    "])\n",
    "\n",
    "optimizer = keras.optimizers.SGD(lr=0.2, momentum=0.9)\n",
    "model.compile(loss=\"categorical_crossentropy\", optimizer=optimizer)"
   ]
  },
  {
   "cell_type": "code",
   "execution_count": 36,
   "id": "e2244aee",
   "metadata": {
    "scrolled": true
   },
   "outputs": [
    {
     "name": "stdout",
     "output_type": "stream",
     "text": [
      "Epoch 1/100\n",
      "X.shape = (None, 1)\n",
      "gauss_grid.shape = (None, 5)\n",
      "X.shape = (None, 1)\n",
      "gauss_grid.shape = (None, 5)\n",
      "1/3 [=========>....................] - ETA: 0s - loss: 3.9188X.shape = (None, 1)\n",
      "gauss_grid.shape = (None, 5)\n",
      "3/3 [==============================] - 0s 43ms/step - loss: 3.9213 - val_loss: 3.8922\n",
      "Epoch 2/100\n",
      "3/3 [==============================] - 0s 6ms/step - loss: 3.8723 - val_loss: 3.8313\n",
      "Epoch 3/100\n",
      "3/3 [==============================] - 0s 6ms/step - loss: 3.7886 - val_loss: 3.7700\n",
      "Epoch 4/100\n",
      "3/3 [==============================] - 0s 11ms/step - loss: 3.7007 - val_loss: 3.7110\n",
      "Epoch 5/100\n",
      "3/3 [==============================] - 0s 11ms/step - loss: 3.6099 - val_loss: 3.6565\n",
      "Epoch 6/100\n",
      "3/3 [==============================] - 0s 13ms/step - loss: 3.5019 - val_loss: 3.6067\n",
      "Epoch 7/100\n",
      "3/3 [==============================] - 0s 13ms/step - loss: 3.3949 - val_loss: 3.5398\n",
      "Epoch 8/100\n",
      "3/3 [==============================] - 0s 10ms/step - loss: 3.3013 - val_loss: 3.4587\n",
      "Epoch 9/100\n",
      "3/3 [==============================] - 0s 14ms/step - loss: 3.2134 - val_loss: 3.3488\n",
      "Epoch 10/100\n",
      "3/3 [==============================] - 0s 11ms/step - loss: 3.1367 - val_loss: 3.2253\n",
      "Epoch 11/100\n",
      "3/3 [==============================] - 0s 6ms/step - loss: 3.0777 - val_loss: 3.1159\n",
      "Epoch 12/100\n",
      "3/3 [==============================] - 0s 18ms/step - loss: 3.0391 - val_loss: 3.0560\n",
      "Epoch 13/100\n",
      "3/3 [==============================] - 0s 13ms/step - loss: 3.0012 - val_loss: 3.0514\n",
      "Epoch 14/100\n",
      "3/3 [==============================] - 0s 11ms/step - loss: 2.9710 - val_loss: 3.0798\n",
      "Epoch 15/100\n",
      "3/3 [==============================] - 0s 10ms/step - loss: 2.9491 - val_loss: 3.0634\n",
      "Epoch 16/100\n",
      "3/3 [==============================] - 0s 15ms/step - loss: 2.9322 - val_loss: 3.0553\n",
      "Epoch 17/100\n",
      "3/3 [==============================] - 0s 15ms/step - loss: 2.9031 - val_loss: 3.0340\n",
      "Epoch 18/100\n",
      "3/3 [==============================] - 0s 13ms/step - loss: 2.8743 - val_loss: 3.0654\n",
      "Epoch 19/100\n",
      "3/3 [==============================] - 0s 12ms/step - loss: 2.8581 - val_loss: 3.0038\n",
      "Epoch 20/100\n",
      "3/3 [==============================] - 0s 12ms/step - loss: 2.8226 - val_loss: 2.9262\n",
      "Epoch 21/100\n",
      "3/3 [==============================] - 0s 12ms/step - loss: 2.8102 - val_loss: 2.9160\n",
      "Epoch 22/100\n",
      "3/3 [==============================] - 0s 10ms/step - loss: 2.7747 - val_loss: 2.9071\n",
      "Epoch 23/100\n",
      "3/3 [==============================] - 0s 8ms/step - loss: 2.7550 - val_loss: 2.9287\n",
      "Epoch 24/100\n",
      "3/3 [==============================] - 0s 9ms/step - loss: 2.7339 - val_loss: 2.9331\n",
      "Epoch 25/100\n",
      "3/3 [==============================] - 0s 10ms/step - loss: 2.7176 - val_loss: 2.8990\n",
      "Epoch 26/100\n",
      "3/3 [==============================] - 0s 12ms/step - loss: 2.7010 - val_loss: 2.8733\n",
      "Epoch 27/100\n",
      "3/3 [==============================] - 0s 19ms/step - loss: 2.6857 - val_loss: 2.8539\n",
      "Epoch 28/100\n",
      "3/3 [==============================] - 0s 11ms/step - loss: 2.6726 - val_loss: 2.8500\n",
      "Epoch 29/100\n",
      "3/3 [==============================] - 0s 9ms/step - loss: 2.6561 - val_loss: 2.8770\n",
      "Epoch 30/100\n",
      "3/3 [==============================] - 0s 16ms/step - loss: 2.6452 - val_loss: 2.8155\n",
      "Epoch 31/100\n",
      "3/3 [==============================] - 0s 12ms/step - loss: 2.6337 - val_loss: 2.7734\n",
      "Epoch 32/100\n",
      "3/3 [==============================] - 0s 11ms/step - loss: 2.6132 - val_loss: 2.8017\n",
      "Epoch 33/100\n",
      "3/3 [==============================] - 0s 8ms/step - loss: 2.6008 - val_loss: 2.8752\n",
      "Epoch 34/100\n",
      "3/3 [==============================] - 0s 8ms/step - loss: 2.5948 - val_loss: 2.8164\n",
      "Epoch 35/100\n",
      "3/3 [==============================] - 0s 13ms/step - loss: 2.6060 - val_loss: 2.7234\n",
      "Epoch 36/100\n",
      "3/3 [==============================] - 0s 16ms/step - loss: 2.5806 - val_loss: 2.7939\n",
      "Epoch 37/100\n",
      "3/3 [==============================] - 0s 12ms/step - loss: 2.5715 - val_loss: 2.7483\n",
      "Epoch 38/100\n",
      "3/3 [==============================] - 0s 14ms/step - loss: 2.5561 - val_loss: 2.7368\n",
      "Epoch 39/100\n",
      "3/3 [==============================] - 0s 13ms/step - loss: 2.5609 - val_loss: 2.7744\n",
      "Epoch 40/100\n",
      "3/3 [==============================] - 0s 10ms/step - loss: 2.5512 - val_loss: 2.7137\n",
      "Epoch 41/100\n",
      "3/3 [==============================] - 0s 9ms/step - loss: 2.5459 - val_loss: 2.7015\n",
      "Epoch 42/100\n",
      "3/3 [==============================] - 0s 8ms/step - loss: 2.5447 - val_loss: 2.7494\n",
      "Epoch 43/100\n",
      "3/3 [==============================] - 0s 8ms/step - loss: 2.5364 - val_loss: 2.8122\n",
      "Epoch 44/100\n",
      "3/3 [==============================] - 0s 11ms/step - loss: 2.5253 - val_loss: 2.7586\n",
      "Epoch 45/100\n",
      "3/3 [==============================] - 0s 9ms/step - loss: 2.5460 - val_loss: 2.6503\n",
      "Epoch 46/100\n",
      "3/3 [==============================] - 0s 8ms/step - loss: 2.5482 - val_loss: 2.7671\n",
      "Epoch 47/100\n",
      "3/3 [==============================] - 0s 9ms/step - loss: 2.5188 - val_loss: 2.7743\n",
      "Epoch 48/100\n",
      "3/3 [==============================] - 0s 16ms/step - loss: 2.5219 - val_loss: 2.7706\n",
      "Epoch 49/100\n",
      "3/3 [==============================] - 0s 9ms/step - loss: 2.5024 - val_loss: 2.7199\n",
      "Epoch 50/100\n",
      "3/3 [==============================] - 0s 10ms/step - loss: 2.4979 - val_loss: 2.6261\n",
      "Epoch 51/100\n",
      "3/3 [==============================] - 0s 8ms/step - loss: 2.4965 - val_loss: 2.6093\n",
      "Epoch 52/100\n",
      "3/3 [==============================] - 0s 8ms/step - loss: 2.4949 - val_loss: 2.7083\n",
      "Epoch 53/100\n",
      "3/3 [==============================] - 0s 12ms/step - loss: 2.4918 - val_loss: 2.6980\n",
      "Epoch 54/100\n",
      "3/3 [==============================] - 0s 13ms/step - loss: 2.5030 - val_loss: 2.6637\n",
      "Epoch 55/100\n",
      "3/3 [==============================] - 0s 11ms/step - loss: 2.4917 - val_loss: 2.7589\n",
      "Epoch 56/100\n",
      "3/3 [==============================] - 0s 7ms/step - loss: 2.4805 - val_loss: 2.7408\n",
      "Epoch 57/100\n",
      "3/3 [==============================] - 0s 8ms/step - loss: 2.4917 - val_loss: 2.6208\n",
      "Epoch 58/100\n",
      "3/3 [==============================] - 0s 10ms/step - loss: 2.5020 - val_loss: 2.6303\n",
      "Epoch 59/100\n",
      "3/3 [==============================] - 0s 9ms/step - loss: 2.4703 - val_loss: 2.7808\n",
      "Epoch 60/100\n",
      "3/3 [==============================] - 0s 20ms/step - loss: 2.4968 - val_loss: 2.6571\n",
      "Epoch 61/100\n",
      "3/3 [==============================] - 0s 15ms/step - loss: 2.4780 - val_loss: 2.6312\n",
      "Epoch 62/100\n",
      "3/3 [==============================] - 0s 13ms/step - loss: 2.4740 - val_loss: 2.5962\n",
      "Epoch 63/100\n",
      "3/3 [==============================] - 0s 15ms/step - loss: 2.4575 - val_loss: 2.6714\n",
      "Epoch 64/100\n",
      "3/3 [==============================] - 0s 14ms/step - loss: 2.4812 - val_loss: 2.6190\n",
      "Epoch 65/100\n",
      "3/3 [==============================] - 0s 15ms/step - loss: 2.4473 - val_loss: 2.6126\n",
      "Epoch 66/100\n",
      "3/3 [==============================] - 0s 12ms/step - loss: 2.4860 - val_loss: 2.6777\n",
      "Epoch 67/100\n",
      "3/3 [==============================] - 0s 10ms/step - loss: 2.4475 - val_loss: 2.7909\n",
      "Epoch 68/100\n",
      "3/3 [==============================] - 0s 12ms/step - loss: 2.4788 - val_loss: 2.6036\n",
      "Epoch 69/100\n",
      "3/3 [==============================] - 0s 11ms/step - loss: 2.4503 - val_loss: 2.5975\n",
      "Epoch 70/100\n",
      "3/3 [==============================] - 0s 22ms/step - loss: 2.4383 - val_loss: 2.6309\n",
      "Epoch 71/100\n",
      "3/3 [==============================] - 0s 14ms/step - loss: 2.4329 - val_loss: 2.6608\n",
      "Epoch 72/100\n",
      "3/3 [==============================] - 0s 13ms/step - loss: 2.4430 - val_loss: 2.6235\n",
      "Epoch 73/100\n",
      "3/3 [==============================] - 0s 11ms/step - loss: 2.4291 - val_loss: 2.5596\n",
      "Epoch 74/100\n",
      "3/3 [==============================] - 0s 10ms/step - loss: 2.4353 - val_loss: 2.5656\n",
      "Epoch 75/100\n",
      "3/3 [==============================] - 0s 13ms/step - loss: 2.4227 - val_loss: 2.6605\n",
      "Epoch 76/100\n",
      "3/3 [==============================] - 0s 12ms/step - loss: 2.4271 - val_loss: 2.6689\n",
      "Epoch 77/100\n",
      "3/3 [==============================] - 0s 16ms/step - loss: 2.4326 - val_loss: 2.6588\n",
      "Epoch 78/100\n",
      "3/3 [==============================] - 0s 17ms/step - loss: 2.4359 - val_loss: 2.6574\n",
      "Epoch 79/100\n",
      "3/3 [==============================] - 0s 13ms/step - loss: 2.4246 - val_loss: 2.5653\n",
      "Epoch 80/100\n",
      "3/3 [==============================] - 0s 10ms/step - loss: 2.4271 - val_loss: 2.5618\n",
      "Epoch 81/100\n",
      "3/3 [==============================] - 0s 10ms/step - loss: 2.4168 - val_loss: 2.6137\n"
     ]
    },
    {
     "name": "stdout",
     "output_type": "stream",
     "text": [
      "Epoch 82/100\n",
      "3/3 [==============================] - 0s 11ms/step - loss: 2.4233 - val_loss: 2.6359\n",
      "Epoch 83/100\n",
      "3/3 [==============================] - 0s 19ms/step - loss: 2.4266 - val_loss: 2.5843\n",
      "Epoch 84/100\n",
      "3/3 [==============================] - 0s 17ms/step - loss: 2.4214 - val_loss: 2.5740\n",
      "Epoch 85/100\n",
      "3/3 [==============================] - 0s 19ms/step - loss: 2.4380 - val_loss: 2.5808\n",
      "Epoch 86/100\n",
      "3/3 [==============================] - 0s 25ms/step - loss: 2.4123 - val_loss: 2.5715\n",
      "Epoch 87/100\n",
      "3/3 [==============================] - 0s 20ms/step - loss: 2.4076 - val_loss: 2.6013\n",
      "Epoch 88/100\n",
      "3/3 [==============================] - 0s 25ms/step - loss: 2.4189 - val_loss: 2.6113\n",
      "Epoch 89/100\n",
      "3/3 [==============================] - 0s 19ms/step - loss: 2.4053 - val_loss: 2.5787\n",
      "Epoch 90/100\n",
      "3/3 [==============================] - 0s 15ms/step - loss: 2.3995 - val_loss: 2.5760\n",
      "Epoch 91/100\n",
      "3/3 [==============================] - 0s 23ms/step - loss: 2.4015 - val_loss: 2.5882\n",
      "Epoch 92/100\n",
      "3/3 [==============================] - 0s 20ms/step - loss: 2.4037 - val_loss: 2.5158\n",
      "Epoch 93/100\n",
      "3/3 [==============================] - 0s 20ms/step - loss: 2.4034 - val_loss: 2.5560\n",
      "Epoch 94/100\n",
      "3/3 [==============================] - 0s 21ms/step - loss: 2.4063 - val_loss: 2.5683\n",
      "Epoch 95/100\n",
      "3/3 [==============================] - 0s 23ms/step - loss: 2.4126 - val_loss: 2.6246\n",
      "Epoch 96/100\n",
      "3/3 [==============================] - 0s 19ms/step - loss: 2.4001 - val_loss: 2.5836\n",
      "Epoch 97/100\n",
      "3/3 [==============================] - 0s 22ms/step - loss: 2.4014 - val_loss: 2.6351\n",
      "Epoch 98/100\n",
      "3/3 [==============================] - 0s 20ms/step - loss: 2.4069 - val_loss: 2.5680\n",
      "Epoch 99/100\n",
      "3/3 [==============================] - 0s 18ms/step - loss: 2.4060 - val_loss: 2.5217\n",
      "Epoch 100/100\n",
      "3/3 [==============================] - 0s 13ms/step - loss: 2.4106 - val_loss: 2.6042\n"
     ]
    }
   ],
   "source": [
    "history = model.fit(X_train, y_train_grid, epochs=100,\n",
    "                    validation_data=(X_valid, y_valid_grid))"
   ]
  },
  {
   "cell_type": "code",
   "execution_count": 37,
   "id": "390834c9",
   "metadata": {},
   "outputs": [
    {
     "name": "stdout",
     "output_type": "stream",
     "text": [
      "Saving figure grid_rbc_training_curve\n"
     ]
    },
    {
     "data": {
      "image/png": "[encoded data removed]",
      "text/plain": [
       "<Figure size 576x360 with 1 Axes>"
      ]
     },
     "metadata": {
      "needs_background": "light"
     },
     "output_type": "display_data"
    }
   ],
   "source": [
    "import pandas as pd\n",
    "\n",
    "pd.DataFrame(history.history).plot(figsize=(8, 5))\n",
    "plt.grid(True)\n",
    "# plt.gca().set_ylim(0, 1)\n",
    "save_fig(\"grid_rbc_training_curve\")\n",
    "plt.show()"
   ]
  },
  {
   "cell_type": "code",
   "execution_count": 38,
   "id": "6fba3b6a",
   "metadata": {},
   "outputs": [
    {
     "name": "stdout",
     "output_type": "stream",
     "text": [
      "X.shape = (None, 1)\n",
      "gauss_grid.shape = (None, 5)\n",
      "Saving figure grid_rbc_prediction\n"
     ]
    },
    {
     "data": {
      "image/png": "[encoded data removed]",
      "text/plain": [
       "<Figure size 432x288 with 1 Axes>"
      ]
     },
     "metadata": {
      "needs_background": "light"
     },
     "output_type": "display_data"
    }
   ],
   "source": [
    "# X_new = np.linspace(-5, 5, 100).reshape(100, 1)\n",
    "# y_new_proba = model.predict(X_new)\n",
    "# y_new = n2g.inv_convert(y_new_proba)\n",
    "#\n",
    "# plt.plot(X_train, y_train, \"b.\")\n",
    "draw_points(X_train, y_train, sid_train)\n",
    "# plt.plot(X_new, y_new, \"r-\", linewidth=2, label=\"Predictions\")\n",
    "draw_func((lambda X: n2g.inv_convert(model.predict(X)) ), mark='r-', linewidth=2, label=\"Predictions\")\n",
    "draw_normal_func(func_dict)\n",
    "plt.xlabel(\"$x_1$\", fontsize=18)\n",
    "plt.ylabel(\"$y$\", rotation=0, fontsize=18)\n",
    "plt.legend(loc=\"upper left\", fontsize=14)\n",
    "# plt.axis([-3, 3, 0, 10])\n",
    "save_fig(\"grid_rbc_prediction\")\n",
    "plt.show()"
   ]
  },
  {
   "cell_type": "code",
   "execution_count": 39,
   "id": "fc059ba5",
   "metadata": {},
   "outputs": [
    {
     "name": "stdout",
     "output_type": "stream",
     "text": [
      "y_func.shape = (100, 1)\n",
      "y_gt.shape = (100, 1)\n"
     ]
    },
    {
     "data": {
      "text/plain": [
       "3.4801528313391064"
      ]
     },
     "execution_count": 39,
     "metadata": {},
     "output_type": "execute_result"
    }
   ],
   "source": [
    "get_prediction_error((lambda X: n2g.inv_convert(model.predict(X)) ), func_dict, name=\"grid-rbc\")"
   ]
  },
  {
   "cell_type": "code",
   "execution_count": 40,
   "id": "edcf26db",
   "metadata": {},
   "outputs": [
    {
     "name": "stdout",
     "output_type": "stream",
     "text": [
      "Saving figure grid_rbc_proba\n"
     ]
    },
    {
     "data": {
      "image/png": "[encoded data removed]",
      "text/plain": [
       "<Figure size 432x288 with 1 Axes>"
      ]
     },
     "metadata": {
      "needs_background": "light"
     },
     "output_type": "display_data"
    }
   ],
   "source": [
    "X_new = np.linspace(-5, 5, 100).reshape(100, 1)\n",
    "y_new_proba = model.predict(X_new)\n",
    "# y_new = n2g.inv_convert(y_new_proba)\n",
    "#\n",
    "xv, yv = np.meshgrid(X_new, np.linspace(n2g.x_min, n2g.x_max, n2g.units))\n",
    "# print(xv)\n",
    "# print(yv)\n",
    "plt.pcolormesh(xv, yv, y_new_proba.T, shading=\"nearest\")\n",
    "save_fig(\"grid_rbc_proba\")"
   ]
  },
  {
   "cell_type": "markdown",
   "id": "4064d3b5",
   "metadata": {},
   "source": [
    "### Draw the 1-sigma boundary line"
   ]
  },
  {
   "cell_type": "code",
   "execution_count": 41,
   "id": "247e8712",
   "metadata": {},
   "outputs": [
    {
     "name": "stdout",
     "output_type": "stream",
     "text": [
      "Saving figure grid_rbc_prediction_1sigma\n"
     ]
    },
    {
     "data": {
      "image/png": "[encoded data removed]",
      "text/plain": [
       "<Figure size 432x288 with 1 Axes>"
      ]
     },
     "metadata": {
      "needs_background": "light"
     },
     "output_type": "display_data"
    }
   ],
   "source": [
    "def n_sigma_boundary_line(X, n):\n",
    "    _mean, _sigma = n2g.get_statistic(model.predict(X))\n",
    "    return( _mean + n*_sigma)\n",
    "\n",
    "# plt.plot(X_train, y_train, \"b.\")\n",
    "draw_points(X_train, y_train, sid_train)\n",
    "#\n",
    "draw_func((lambda X: n2g.inv_convert(model.predict(X)) ), mark='r-', linewidth=2, label=\"Predictions\")\n",
    "draw_func((lambda X: n_sigma_boundary_line(X, +1.0) ), mark='k--', linewidth=1, label=\"$\\mu+\\sigma$\")\n",
    "draw_func((lambda X: n_sigma_boundary_line(X, -1.0) ), mark='k--', linewidth=1, label=\"$\\mu-\\sigma$\")\n",
    "#\n",
    "draw_normal_func(func_dict)\n",
    "plt.xlabel(\"$x_1$\", fontsize=18)\n",
    "plt.ylabel(\"$y$\", rotation=0, fontsize=18)\n",
    "plt.legend(loc=\"upper left\", fontsize=14)\n",
    "# plt.axis([-3, 3, 0, 10])\n",
    "save_fig(\"grid_rbc_prediction_1sigma\")\n",
    "plt.show()"
   ]
  },
  {
   "cell_type": "code",
   "execution_count": null,
   "id": "e6266336",
   "metadata": {},
   "outputs": [],
   "source": []
  },
  {
   "cell_type": "markdown",
   "id": "99a85ab5",
   "metadata": {},
   "source": [
    "# Grid & Regression by Classification + Offset Estimation (grid --> grid,num)"
   ]
  },
  {
   "cell_type": "code",
   "execution_count": 42,
   "id": "26440167",
   "metadata": {},
   "outputs": [],
   "source": [
    "class num2gridOffset_np():\n",
    "    def __init__(self, units, x_min=-10, x_max=10):\n",
    "        self.units = units\n",
    "        self.x_min = x_min\n",
    "        self.x_max = x_max\n",
    "        self.x_grid = np.linspace(self.x_min, self.x_max, self.units, endpoint=True)\n",
    "        # bins\n",
    "        x_space = np.average(self.x_grid[1:] - self.x_grid[:-1])\n",
    "        print(\"x_space = %f\" % x_space)\n",
    "        x_0 = self.x_grid[0] - 0.5 * x_space\n",
    "        self.x_bins = [x_0 + _i*x_space for _i in range(len(self.x_grid)+1)]\n",
    "        print(\"self.x_grid = %s\" % str(self.x_grid))\n",
    "#         print(\"self.x_bins = %s\" % str(self.x_bins))\n",
    "        \n",
    "    def convert(self, X):\n",
    "        '''\n",
    "        Convert a batch of number to one-hot class and numerical offset to each grid's center\n",
    "        (m, 1) --> (m, n_units, 2)\n",
    "        '''\n",
    "        X = np.array(X)\n",
    "        if len(X.shape) <= 1:\n",
    "            X = X.reshape((-1,1))\n",
    "        idxs_bin = np.digitize(X, self.x_bins, right=False) \n",
    "        idxs_grid = (idxs_bin - 1) + 1*(idxs_bin<= 0) - 1*(idxs_bin>=self.units)\n",
    "        print(idxs_grid.shape)\n",
    "        #\n",
    "        batch_size = X.shape[0]\n",
    "        grid = np.zeros((batch_size, self.units, 2))\n",
    "        # Fill in the values\n",
    "        grid[np.arange(batch_size), idxs_grid.reshape((-1,)), 0] = 1.0\n",
    "        grid[np.arange(batch_size), :, 1] = X - self.x_grid.reshape((1,-1)) # Offset\n",
    "        return grid\n",
    "    \n",
    "    def inv_convert(self, grid):\n",
    "        idxs_grid = np.argmax(grid[...,0], axis=1)\n",
    "        print(idxs_grid.shape)\n",
    "        #\n",
    "        batch_size = grid.shape[0]\n",
    "        offset_est = grid[np.arange(batch_size),idxs_grid,1]\n",
    "        print(offset_est.shape)\n",
    "        num_est = self.x_grid[idxs_grid].reshape((1,-1)) + offset_est\n",
    "        return num_est.reshape((-1,))"
   ]
  },
  {
   "cell_type": "code",
   "execution_count": 43,
   "id": "8b15e9ff",
   "metadata": {},
   "outputs": [
    {
     "name": "stdout",
     "output_type": "stream",
     "text": [
      "x_space = 22.222222\n",
      "self.x_grid = [-100.          -77.77777778  -55.55555556  -33.33333333  -11.11111111\n",
      "   11.11111111   33.33333333   55.55555556   77.77777778  100.        ]\n"
     ]
    }
   ],
   "source": [
    "class_num = 10 # 10\n",
    "n2go = num2gridOffset_np(class_num, x_min=-100.0, x_max=100.0) "
   ]
  },
  {
   "cell_type": "code",
   "execution_count": 44,
   "id": "8f6e7955",
   "metadata": {},
   "outputs": [
    {
     "name": "stdout",
     "output_type": "stream",
     "text": [
      "(2, 1)\n",
      "[[[   0.           98.8       ]\n",
      "  [   0.           76.57777778]\n",
      "  [   0.           54.35555556]\n",
      "  [   0.           32.13333333]\n",
      "  [   1.            9.91111111]\n",
      "  [   0.          -12.31111111]\n",
      "  [   0.          -34.53333333]\n",
      "  [   0.          -56.75555556]\n",
      "  [   0.          -78.97777778]\n",
      "  [   0.         -101.2       ]]\n",
      "\n",
      " [[   0.          150.5       ]\n",
      "  [   0.          128.27777778]\n",
      "  [   0.          106.05555556]\n",
      "  [   0.           83.83333333]\n",
      "  [   0.           61.61111111]\n",
      "  [   0.           39.38888889]\n",
      "  [   0.           17.16666667]\n",
      "  [   1.           -5.05555556]\n",
      "  [   0.          -27.27777778]\n",
      "  [   0.          -49.5       ]]]\n"
     ]
    }
   ],
   "source": [
    "# grid_1 = n2g.convert(-1.2)\n",
    "grid_1 = n2go.convert([[-1.2], [50.5]])\n",
    "print(grid_1)"
   ]
  },
  {
   "cell_type": "code",
   "execution_count": 45,
   "id": "48840dc5",
   "metadata": {},
   "outputs": [
    {
     "name": "stdout",
     "output_type": "stream",
     "text": [
      "(2,)\n",
      "(2,)\n"
     ]
    },
    {
     "data": {
      "text/plain": [
       "array([-1.2, 50.5])"
      ]
     },
     "execution_count": 45,
     "metadata": {},
     "output_type": "execute_result"
    }
   ],
   "source": [
    "n2go.inv_convert(grid_1)"
   ]
  },
  {
   "cell_type": "markdown",
   "id": "11683cea",
   "metadata": {},
   "source": [
    "### Convert the labels to grid (pre-processing)"
   ]
  },
  {
   "cell_type": "code",
   "execution_count": 46,
   "id": "472997cf",
   "metadata": {},
   "outputs": [
    {
     "name": "stdout",
     "output_type": "stream",
     "text": [
      "(80, 1)\n",
      "(20, 1)\n"
     ]
    }
   ],
   "source": [
    "y_train_grid_offset = n2go.convert(y_train)\n",
    "y_valid_grid_offset = n2go.convert(y_valid)"
   ]
  },
  {
   "cell_type": "code",
   "execution_count": 47,
   "id": "71f08d76",
   "metadata": {},
   "outputs": [
    {
     "name": "stdout",
     "output_type": "stream",
     "text": [
      "(80, 10, 2)\n",
      "(20, 10, 2)\n"
     ]
    }
   ],
   "source": [
    "print(y_train_grid_offset.shape)\n",
    "print(y_valid_grid_offset.shape)"
   ]
  },
  {
   "cell_type": "code",
   "execution_count": 48,
   "id": "84b5b833",
   "metadata": {},
   "outputs": [
    {
     "name": "stdout",
     "output_type": "stream",
     "text": [
      "X.shape = (None, 1)\n",
      "gauss_grid.shape = (None, 5)\n"
     ]
    }
   ],
   "source": [
    "inputs = keras.layers.Input(shape=X_train.shape[1:])\n",
    "#\n",
    "z = num2grid(5,x_min=-10, x_max=10, sigma=3.0)(inputs)\n",
    "z = keras.layers.Dense(30, activation=\"selu\")(z)\n",
    "# Outputs\n",
    "z_proba = keras.layers.Dense(30, activation=\"relu\")(z)\n",
    "z_proba  = keras.layers.Dense(class_num, activation=\"softmax\")(z_proba)\n",
    "z_offset = keras.layers.Dense(class_num, activation=\"relu\")(z)\n",
    "z_offset = keras.layers.Dense(class_num)(z_offset)\n",
    "# Concatenate\n",
    "z_proba  = keras.layers.Reshape([class_num,1])(z_proba)\n",
    "z_offset = keras.layers.Reshape([class_num,1])(z_offset)\n",
    "out_cat = keras.layers.Concatenate(axis=-1)([z_proba, z_offset])\n",
    "#\n",
    "# Models for trainig and real usage\n",
    "model = keras.Model(inputs=[inputs], outputs=[out_cat])"
   ]
  },
  {
   "cell_type": "code",
   "execution_count": 49,
   "id": "e6482574",
   "metadata": {},
   "outputs": [],
   "source": [
    "# Customized loss function\n",
    "\n",
    "cce = keras.losses.CategoricalCrossentropy(reduction=keras.losses.Reduction.NONE)\n",
    "# cce(y_true, y_pred).numpy()\n",
    "\n",
    "def centerLoss_fn(y_true, y_pred):\n",
    "    #\n",
    "    y_true_proba = y_true[...,0]\n",
    "    y_true_value = y_true[...,1]\n",
    "    #\n",
    "    y_pred_proba = y_pred[...,0]\n",
    "    y_pred_value = y_pred[...,1]\n",
    "    \n",
    "    #\n",
    "    cce_loss = cce(y_true_proba, y_pred_proba) / class_num\n",
    "    #\n",
    "    y_true_value_est = tf.reduce_sum((y_true_proba * y_true_value), axis=-1)\n",
    "    y_pred_value_est = tf.reduce_sum((y_true_proba * y_pred_value), axis=-1)\n",
    "#     y_pred_value_est = tf.reduce_sum((y_pred_proba * y_pred_value), axis=-1)\n",
    "    value_loss = tf.abs(y_pred_value_est - y_true_value_est)\n",
    "    \n",
    "    # Total loss\n",
    "#     return (0.5*cce_loss + 0.5*value_loss )\n",
    "    return (0.2*cce_loss + 0.8*value_loss )\n",
    "#     return (cce_loss)\n",
    "#     return (value_loss )"
   ]
  },
  {
   "cell_type": "code",
   "execution_count": 50,
   "id": "60575755",
   "metadata": {},
   "outputs": [
    {
     "name": "stderr",
     "output_type": "stream",
     "text": [
      "/home/benson516/GazeDemo/gaze_env/lib/python3.8/site-packages/tensorflow/python/keras/optimizer_v2/optimizer_v2.py:374: UserWarning: The `lr` argument is deprecated, use `learning_rate` instead.\n",
      "  warnings.warn(\n"
     ]
    }
   ],
   "source": [
    "# optimizer = keras.optimizers.SGD(lr=0.1, momentum=0.9)\n",
    "optimizer = keras.optimizers.Adam(lr=0.05)\n",
    "model.compile(loss=centerLoss_fn, optimizer=optimizer)"
   ]
  },
  {
   "cell_type": "code",
   "execution_count": 51,
   "id": "09bc47a5",
   "metadata": {
    "scrolled": true
   },
   "outputs": [],
   "source": [
    "# history = model.fit(X_train, y_train_grid_offset, epochs=100,\n",
    "#                     validation_data=(X_valid, y_valid_grid_offset))"
   ]
  },
  {
   "cell_type": "code",
   "execution_count": 52,
   "id": "7ba1fe76",
   "metadata": {},
   "outputs": [],
   "source": [
    "# import pandas as pd\n",
    "\n",
    "# pd.DataFrame(history.history).plot(figsize=(8, 5))\n",
    "# plt.grid(True)\n",
    "# # plt.gca().set_ylim(0, 1)\n",
    "# save_fig(\"grid_rbcOffset_training_curve\")\n",
    "# plt.show()"
   ]
  },
  {
   "cell_type": "code",
   "execution_count": 53,
   "id": "47db8336",
   "metadata": {
    "scrolled": false
   },
   "outputs": [],
   "source": [
    "# # plt.plot(X_train, y_train, \"b.\")\n",
    "# draw_points(X_train, y_train, sid_train)\n",
    "# draw_func((lambda X: n2go.inv_convert(model.predict(X)) ), mark='r-', linewidth=2, label=\"Predictions\")\n",
    "# draw_normal_func(func_dict)\n",
    "# plt.xlabel(\"$x_1$\", fontsize=18)\n",
    "# plt.ylabel(\"$y$\", rotation=0, fontsize=18)\n",
    "# plt.legend(loc=\"upper left\", fontsize=14)\n",
    "# # plt.axis([-3, 3, 0, 10])\n",
    "# save_fig(\"grid_rbcOffset_prediction\")\n",
    "# plt.show()"
   ]
  },
  {
   "cell_type": "code",
   "execution_count": 54,
   "id": "46a1a384",
   "metadata": {},
   "outputs": [],
   "source": [
    "# get_prediction_error((lambda X: n2go.inv_convert(model.predict(X)) ), func_dict, name=\"grid-classOffset\")"
   ]
  },
  {
   "cell_type": "code",
   "execution_count": null,
   "id": "fff995a6",
   "metadata": {},
   "outputs": [],
   "source": []
  },
  {
   "cell_type": "markdown",
   "id": "a811f344",
   "metadata": {},
   "source": [
    "# Parametric Uncertainty/Distribution Estimation\n",
    "\n",
    "In this section, we try to estimate uncertainty (actually, fit the dataset distribution) with parametric reprecentation of a distribution instead of a discretized non-parametric representation.\n",
    "\n",
    "Possible solution includes\n",
    "- Quantile estimation with pinball loss (statistic)\n",
    "- Guassian distribution (fit a prabability distribution)"
   ]
  },
  {
   "cell_type": "markdown",
   "id": "175eb32d",
   "metadata": {},
   "source": [
    "## Quantile Estimation with Pinball Loss (grid --> parameters)\n",
    "\n",
    "Quantile estimation and pinball loss is based on the concept of statistic, which predict the value based on the rank of samples in the dataset.\n",
    "\n",
    "The outputs of the model are $(y_{10}, y_{90})$, 10% quantile prediction and 90% quantile prediction, respectively."
   ]
  },
  {
   "cell_type": "code",
   "execution_count": 55,
   "id": "1d1ef92d",
   "metadata": {},
   "outputs": [],
   "source": [
    "# quantile_list = [0.5]\n",
    "# quantile_list = [0.9]\n",
    "# quantile_list = [0.1, 0.9] # Use hidden layer with 30 neurons\n",
    "# quantile_list = [0.05, 0.95]\n",
    "# quantile_list = [0.25, 0.75]\n",
    "# quantile_list = [0.1, 0.5, 0.9]\n",
    "# quantile_list = [0.1, 0.3, 0.7, 0.9]\n",
    "# quantile_list = [0.1, 0.2, 0.3, 0.4, 0.6, 0.7, 0.8, 0.9] # remove 0.5\n",
    "quantile_list = [0.1, 0.2, 0.3, 0.4, 0.5, 0.6, 0.7, 0.8, 0.9] # Should use wider hidden layer (with many neurons) + L1 regularization\n",
    "num_quantile = len(quantile_list)"
   ]
  },
  {
   "cell_type": "code",
   "execution_count": 56,
   "id": "8e3fe57b",
   "metadata": {},
   "outputs": [
    {
     "name": "stdout",
     "output_type": "stream",
     "text": [
      "X.shape = (None, 1)\n",
      "gauss_grid.shape = (None, 5)\n"
     ]
    }
   ],
   "source": [
    "model = keras.models.Sequential([\n",
    "    num2grid(5,x_min=-10, x_max=10, sigma=3.0, input_shape=X_train.shape[1:]), # Convert to grids\n",
    "#     num2grid(50,x_min=-10, x_max=10, sigma=0.5, input_shape=X_train.shape[1:]),\n",
    "#     keras.layers.Dense(30, activation=\"relu\"),\n",
    "#     keras.layers.Dense(60, activation=\"relu\"),\n",
    "    keras.layers.Dense(100, activation=\"relu\"),\n",
    "    keras.layers.Dropout(0.5),\n",
    "#     keras.layers.Dense(100, activation=\"relu\", kernel_regularizer=tf.keras.regularizers.l1(0.01)),\n",
    "#     keras.layers.Dense(100, activation=keras.layers.LeakyReLU(alpha=0.2), kernel_regularizer=tf.keras.regularizers.l1(0.01)),\n",
    "#     keras.layers.Dense(30, activation=keras.layers.LeakyReLU(alpha=0.2) ),\n",
    "#     keras.layers.Dense(30, activation=\"selu\"),\n",
    "    keras.layers.Dense(num_quantile) # (y10, y90)\n",
    "])"
   ]
  },
  {
   "cell_type": "code",
   "execution_count": 57,
   "id": "bf131dc7",
   "metadata": {},
   "outputs": [],
   "source": [
    "# Customized loss function\n",
    "def pinballLoss_fn(y_true, y_pred, tau):\n",
    "    # tau: quantile, tau in [0.0, 1.0]\n",
    "    # y_true: label mean\n",
    "    # y_pred: predicted tau quantile\n",
    "    _q = y_true - y_pred\n",
    "    return tf.math.maximum( (tau*_q), ((tau-1.0)*_q))\n",
    "    \n",
    "def pinballLoss_10_90_fn(y_true, y_pred):\n",
    "    #\n",
    "    return pinballLoss_fn(y_true, y_pred[:,0:1], 0.1) + pinballLoss_fn(y_true, y_pred[:,1:2], 0.9)\n",
    "\n",
    "def pinballLoss_full_fn(y_true, y_pred):\n",
    "    #\n",
    "    pinball_losses = tf.stack( [pinballLoss_fn(y_true, y_pred[:, _i:(_i+1)], _tau) for _i, _tau in enumerate(quantile_list)], axis=1)\n",
    "    return tf.reduce_sum(pinball_losses, axis=1)"
   ]
  },
  {
   "cell_type": "code",
   "execution_count": 58,
   "id": "a71305d5",
   "metadata": {},
   "outputs": [],
   "source": [
    "# optimizer = keras.optimizers.SGD(lr=0.1, momentum=0.9)\n",
    "optimizer = keras.optimizers.Adam(lr=0.1)\n",
    "# model.compile(loss=pinballLoss_10_90_fn, optimizer=optimizer)\n",
    "model.compile(loss=pinballLoss_full_fn, optimizer=optimizer)"
   ]
  },
  {
   "cell_type": "code",
   "execution_count": 59,
   "id": "d935c409",
   "metadata": {
    "scrolled": true
   },
   "outputs": [
    {
     "name": "stdout",
     "output_type": "stream",
     "text": [
      "Epoch 1/100\n",
      "X.shape = (None, 1)\n",
      "gauss_grid.shape = (None, 5)\n",
      "X.shape = (None, 1)\n",
      "gauss_grid.shape = (None, 5)\n",
      "1/3 [=========>....................] - ETA: 2s - loss: 192.6090X.shape = (None, 1)\n",
      "gauss_grid.shape = (None, 5)\n",
      "3/3 [==============================] - 1s 62ms/step - loss: 185.8302 - val_loss: 144.5174\n",
      "Epoch 2/100\n",
      "3/3 [==============================] - 0s 6ms/step - loss: 164.3318 - val_loss: 119.7902\n",
      "Epoch 3/100\n",
      "3/3 [==============================] - 0s 11ms/step - loss: 117.9111 - val_loss: 81.0081\n",
      "Epoch 4/100\n",
      "3/3 [==============================] - 0s 14ms/step - loss: 83.6011 - val_loss: 55.1861\n",
      "Epoch 5/100\n",
      "3/3 [==============================] - 0s 18ms/step - loss: 68.9831 - val_loss: 49.4986\n",
      "Epoch 6/100\n",
      "3/3 [==============================] - 0s 10ms/step - loss: 70.9884 - val_loss: 52.8163\n",
      "Epoch 7/100\n",
      "3/3 [==============================] - 0s 14ms/step - loss: 65.0556 - val_loss: 48.6875\n",
      "Epoch 8/100\n",
      "3/3 [==============================] - 0s 14ms/step - loss: 62.5442 - val_loss: 41.1557\n",
      "Epoch 9/100\n",
      "3/3 [==============================] - 0s 10ms/step - loss: 66.0217 - val_loss: 44.6197\n",
      "Epoch 10/100\n",
      "3/3 [==============================] - 0s 15ms/step - loss: 53.8213 - val_loss: 49.2236\n",
      "Epoch 11/100\n",
      "3/3 [==============================] - 0s 13ms/step - loss: 59.6744 - val_loss: 51.4375\n",
      "Epoch 12/100\n",
      "3/3 [==============================] - 0s 7ms/step - loss: 58.1919 - val_loss: 48.5945\n",
      "Epoch 13/100\n",
      "3/3 [==============================] - 0s 17ms/step - loss: 49.0198 - val_loss: 44.8462\n",
      "Epoch 14/100\n",
      "3/3 [==============================] - 0s 23ms/step - loss: 54.5834 - val_loss: 42.2572\n",
      "Epoch 15/100\n",
      "3/3 [==============================] - 0s 20ms/step - loss: 51.4840 - val_loss: 42.1896\n",
      "Epoch 16/100\n",
      "3/3 [==============================] - 0s 24ms/step - loss: 53.0706 - val_loss: 43.2109\n",
      "Epoch 17/100\n",
      "3/3 [==============================] - 0s 14ms/step - loss: 47.2858 - val_loss: 41.3543\n",
      "Epoch 18/100\n",
      "3/3 [==============================] - 0s 15ms/step - loss: 49.3840 - val_loss: 41.1505\n",
      "Epoch 19/100\n",
      "3/3 [==============================] - 0s 16ms/step - loss: 50.6407 - val_loss: 40.5347\n",
      "Epoch 20/100\n",
      "3/3 [==============================] - 0s 19ms/step - loss: 51.5479 - val_loss: 41.3340\n",
      "Epoch 21/100\n",
      "3/3 [==============================] - 0s 28ms/step - loss: 49.2581 - val_loss: 41.4582\n",
      "Epoch 22/100\n",
      "3/3 [==============================] - 0s 23ms/step - loss: 45.3681 - val_loss: 41.8862\n",
      "Epoch 23/100\n",
      "3/3 [==============================] - 0s 22ms/step - loss: 46.0232 - val_loss: 40.3355\n",
      "Epoch 24/100\n",
      "3/3 [==============================] - 0s 21ms/step - loss: 42.9216 - val_loss: 38.3249\n",
      "Epoch 25/100\n",
      "3/3 [==============================] - 0s 24ms/step - loss: 44.1418 - val_loss: 37.0254\n",
      "Epoch 26/100\n",
      "3/3 [==============================] - 0s 19ms/step - loss: 41.6951 - val_loss: 36.7576\n",
      "Epoch 27/100\n",
      "3/3 [==============================] - 0s 22ms/step - loss: 48.6671 - val_loss: 35.7944\n",
      "Epoch 28/100\n",
      "3/3 [==============================] - 0s 20ms/step - loss: 46.5092 - val_loss: 35.9712\n",
      "Epoch 29/100\n",
      "3/3 [==============================] - 0s 19ms/step - loss: 45.5085 - val_loss: 37.2725\n",
      "Epoch 30/100\n",
      "3/3 [==============================] - 0s 15ms/step - loss: 40.5443 - val_loss: 37.4008\n",
      "Epoch 31/100\n",
      "3/3 [==============================] - 0s 14ms/step - loss: 40.0143 - val_loss: 36.4800\n",
      "Epoch 32/100\n",
      "3/3 [==============================] - 0s 18ms/step - loss: 40.3974 - val_loss: 30.6896\n",
      "Epoch 33/100\n",
      "3/3 [==============================] - 0s 20ms/step - loss: 44.4255 - val_loss: 32.3606\n",
      "Epoch 34/100\n",
      "3/3 [==============================] - 0s 22ms/step - loss: 41.1373 - val_loss: 29.6908\n",
      "Epoch 35/100\n",
      "3/3 [==============================] - 0s 21ms/step - loss: 42.6060 - val_loss: 30.1559\n",
      "Epoch 36/100\n",
      "3/3 [==============================] - 0s 23ms/step - loss: 42.0183 - val_loss: 31.2471\n",
      "Epoch 37/100\n",
      "3/3 [==============================] - 0s 27ms/step - loss: 41.7821 - val_loss: 31.8901\n",
      "Epoch 38/100\n",
      "3/3 [==============================] - 0s 25ms/step - loss: 41.0987 - val_loss: 32.4029\n",
      "Epoch 39/100\n",
      "3/3 [==============================] - 0s 23ms/step - loss: 45.4321 - val_loss: 32.0847\n",
      "Epoch 40/100\n",
      "3/3 [==============================] - 0s 21ms/step - loss: 46.0015 - val_loss: 31.7930\n",
      "Epoch 41/100\n",
      "3/3 [==============================] - 0s 23ms/step - loss: 43.3100 - val_loss: 32.9578\n",
      "Epoch 42/100\n",
      "3/3 [==============================] - 0s 19ms/step - loss: 39.5034 - val_loss: 35.3897\n",
      "Epoch 43/100\n",
      "3/3 [==============================] - 0s 20ms/step - loss: 37.1325 - val_loss: 33.6081\n",
      "Epoch 44/100\n",
      "3/3 [==============================] - 0s 18ms/step - loss: 43.2538 - val_loss: 30.2488\n",
      "Epoch 45/100\n",
      "3/3 [==============================] - 0s 24ms/step - loss: 45.2107 - val_loss: 30.1267\n",
      "Epoch 46/100\n",
      "3/3 [==============================] - 0s 22ms/step - loss: 46.6119 - val_loss: 30.7423\n",
      "Epoch 47/100\n",
      "3/3 [==============================] - 0s 24ms/step - loss: 44.0207 - val_loss: 32.6969\n",
      "Epoch 48/100\n",
      "3/3 [==============================] - 0s 21ms/step - loss: 46.4927 - val_loss: 33.6469\n",
      "Epoch 49/100\n",
      "3/3 [==============================] - 0s 20ms/step - loss: 45.4650 - val_loss: 32.8186\n",
      "Epoch 50/100\n",
      "3/3 [==============================] - 0s 25ms/step - loss: 38.2333 - val_loss: 32.7862\n",
      "Epoch 51/100\n",
      "3/3 [==============================] - 0s 21ms/step - loss: 42.8368 - val_loss: 32.0203\n",
      "Epoch 52/100\n",
      "3/3 [==============================] - 0s 20ms/step - loss: 45.0272 - val_loss: 34.7315\n",
      "Epoch 53/100\n",
      "3/3 [==============================] - 0s 19ms/step - loss: 42.1003 - val_loss: 31.7177\n",
      "Epoch 54/100\n",
      "3/3 [==============================] - 0s 18ms/step - loss: 43.9885 - val_loss: 31.3915\n",
      "Epoch 55/100\n",
      "3/3 [==============================] - 0s 26ms/step - loss: 49.0414 - val_loss: 31.6361\n",
      "Epoch 56/100\n",
      "3/3 [==============================] - 0s 21ms/step - loss: 41.8229 - val_loss: 34.5538\n",
      "Epoch 57/100\n",
      "3/3 [==============================] - 0s 20ms/step - loss: 41.9063 - val_loss: 36.2403\n",
      "Epoch 58/100\n",
      "3/3 [==============================] - 0s 23ms/step - loss: 44.7851 - val_loss: 32.0014\n",
      "Epoch 59/100\n",
      "3/3 [==============================] - 0s 22ms/step - loss: 41.9365 - val_loss: 29.6992\n",
      "Epoch 60/100\n",
      "3/3 [==============================] - 0s 10ms/step - loss: 41.9844 - val_loss: 29.7701\n",
      "Epoch 61/100\n",
      "3/3 [==============================] - 0s 17ms/step - loss: 43.9820 - val_loss: 31.4708\n",
      "Epoch 62/100\n",
      "3/3 [==============================] - 0s 17ms/step - loss: 41.5777 - val_loss: 32.9085\n",
      "Epoch 63/100\n",
      "3/3 [==============================] - 0s 14ms/step - loss: 41.9677 - val_loss: 32.7754\n",
      "Epoch 64/100\n",
      "3/3 [==============================] - 0s 13ms/step - loss: 41.1079 - val_loss: 31.4334\n",
      "Epoch 65/100\n",
      "3/3 [==============================] - 0s 11ms/step - loss: 42.9733 - val_loss: 32.5184\n",
      "Epoch 66/100\n",
      "3/3 [==============================] - 0s 10ms/step - loss: 44.7541 - val_loss: 34.9403\n",
      "Epoch 67/100\n",
      "3/3 [==============================] - 0s 11ms/step - loss: 42.6771 - val_loss: 32.4783\n",
      "Epoch 68/100\n",
      "3/3 [==============================] - 0s 12ms/step - loss: 42.4412 - val_loss: 31.3685\n",
      "Epoch 69/100\n",
      "3/3 [==============================] - 0s 11ms/step - loss: 41.0957 - val_loss: 31.3886\n",
      "Epoch 70/100\n",
      "3/3 [==============================] - 0s 12ms/step - loss: 39.9013 - val_loss: 32.0512\n",
      "Epoch 71/100\n",
      "3/3 [==============================] - 0s 12ms/step - loss: 43.5446 - val_loss: 31.8758\n",
      "Epoch 72/100\n",
      "3/3 [==============================] - 0s 12ms/step - loss: 41.7998 - val_loss: 31.1347\n",
      "Epoch 73/100\n",
      "3/3 [==============================] - 0s 13ms/step - loss: 45.7911 - val_loss: 30.1863\n",
      "Epoch 74/100\n",
      "3/3 [==============================] - 0s 14ms/step - loss: 39.5239 - val_loss: 30.0067\n",
      "Epoch 75/100\n",
      "3/3 [==============================] - 0s 13ms/step - loss: 41.1978 - val_loss: 29.6587\n",
      "Epoch 76/100\n",
      "3/3 [==============================] - 0s 13ms/step - loss: 39.1536 - val_loss: 31.2089\n",
      "Epoch 77/100\n",
      "3/3 [==============================] - 0s 14ms/step - loss: 46.5891 - val_loss: 33.4029\n",
      "Epoch 78/100\n",
      "3/3 [==============================] - 0s 12ms/step - loss: 43.8724 - val_loss: 32.6522\n",
      "Epoch 79/100\n",
      "3/3 [==============================] - 0s 14ms/step - loss: 39.7175 - val_loss: 30.5958\n",
      "Epoch 80/100\n"
     ]
    },
    {
     "name": "stdout",
     "output_type": "stream",
     "text": [
      "3/3 [==============================] - 0s 11ms/step - loss: 37.5815 - val_loss: 29.7594\n",
      "Epoch 81/100\n",
      "3/3 [==============================] - 0s 12ms/step - loss: 38.7672 - val_loss: 29.9100\n",
      "Epoch 82/100\n",
      "3/3 [==============================] - 0s 14ms/step - loss: 37.6716 - val_loss: 29.9940\n",
      "Epoch 83/100\n",
      "3/3 [==============================] - 0s 15ms/step - loss: 41.2561 - val_loss: 32.4386\n",
      "Epoch 84/100\n",
      "3/3 [==============================] - 0s 13ms/step - loss: 42.4202 - val_loss: 32.0538\n",
      "Epoch 85/100\n",
      "3/3 [==============================] - 0s 14ms/step - loss: 38.0228 - val_loss: 31.7395\n",
      "Epoch 86/100\n",
      "3/3 [==============================] - 0s 13ms/step - loss: 45.8803 - val_loss: 32.4079\n",
      "Epoch 87/100\n",
      "3/3 [==============================] - 0s 11ms/step - loss: 42.2840 - val_loss: 35.7209\n",
      "Epoch 88/100\n",
      "3/3 [==============================] - 0s 12ms/step - loss: 48.5392 - val_loss: 33.5577\n",
      "Epoch 89/100\n",
      "3/3 [==============================] - 0s 11ms/step - loss: 46.3348 - val_loss: 33.2855\n",
      "Epoch 90/100\n",
      "3/3 [==============================] - 0s 14ms/step - loss: 42.7571 - val_loss: 35.2303\n",
      "Epoch 91/100\n",
      "3/3 [==============================] - 0s 14ms/step - loss: 42.8338 - val_loss: 31.9703\n",
      "Epoch 92/100\n",
      "3/3 [==============================] - 0s 15ms/step - loss: 46.5208 - val_loss: 34.0344\n",
      "Epoch 93/100\n",
      "3/3 [==============================] - 0s 14ms/step - loss: 37.5029 - val_loss: 32.9792\n",
      "Epoch 94/100\n",
      "3/3 [==============================] - 0s 14ms/step - loss: 42.1430 - val_loss: 31.3944\n",
      "Epoch 95/100\n",
      "3/3 [==============================] - 0s 14ms/step - loss: 43.7071 - val_loss: 33.8531\n",
      "Epoch 96/100\n",
      "3/3 [==============================] - 0s 16ms/step - loss: 43.3061 - val_loss: 36.2362\n",
      "Epoch 97/100\n",
      "3/3 [==============================] - 0s 15ms/step - loss: 43.7010 - val_loss: 35.8767\n",
      "Epoch 98/100\n",
      "3/3 [==============================] - 0s 15ms/step - loss: 45.8038 - val_loss: 32.1806\n",
      "Epoch 99/100\n",
      "3/3 [==============================] - 0s 14ms/step - loss: 40.6766 - val_loss: 32.0396\n",
      "Epoch 100/100\n",
      "3/3 [==============================] - 0s 13ms/step - loss: 41.9648 - val_loss: 31.8916\n"
     ]
    }
   ],
   "source": [
    "history = model.fit(X_train, y_train, epochs=100,\n",
    "                    validation_data=(X_valid, y_valid))"
   ]
  },
  {
   "cell_type": "code",
   "execution_count": 60,
   "id": "e7fa5656",
   "metadata": {
    "scrolled": false
   },
   "outputs": [
    {
     "name": "stdout",
     "output_type": "stream",
     "text": [
      "Saving figure grid_quantile_training_curve\n"
     ]
    },
    {
     "data": {
      "image/png": "[encoded data removed]",
      "text/plain": [
       "<Figure size 576x360 with 1 Axes>"
      ]
     },
     "metadata": {
      "needs_background": "light"
     },
     "output_type": "display_data"
    }
   ],
   "source": [
    "import pandas as pd\n",
    "\n",
    "pd.DataFrame(history.history).plot(figsize=(8, 5))\n",
    "plt.grid(True)\n",
    "# plt.gca().set_ylim(0, 1)\n",
    "save_fig(\"grid_quantile_training_curve\")\n",
    "plt.show()"
   ]
  },
  {
   "cell_type": "markdown",
   "id": "a4a59dd6",
   "metadata": {},
   "source": [
    "### Draw the mean prediction curve averaged from all quantile predictions."
   ]
  },
  {
   "cell_type": "code",
   "execution_count": 61,
   "id": "0e5d0058",
   "metadata": {},
   "outputs": [
    {
     "name": "stdout",
     "output_type": "stream",
     "text": [
      "X.shape = (None, 1)\n",
      "gauss_grid.shape = (None, 5)\n",
      "Saving figure grid_quantile_prediction\n"
     ]
    },
    {
     "data": {
      "image/png": "[encoded data removed]",
      "text/plain": [
       "<Figure size 432x288 with 1 Axes>"
      ]
     },
     "metadata": {
      "needs_background": "light"
     },
     "output_type": "display_data"
    }
   ],
   "source": [
    "# plt.plot(X_train, y_train, \"b.\")\n",
    "draw_points(X_train, y_train, sid_train)\n",
    "draw_func((lambda X: np.average(model.predict(X), axis=-1) ), mark='r-', linewidth=2, label=\"Predictions\")\n",
    "# draw_func((lambda X: model.predict(X)[:,0] ), mark='k--', linewidth=1, label=\"$y_{%d}$\" % (quantile_list[0]*100))\n",
    "# draw_func((lambda X: model.predict(X)[:,-1] ), mark='k--', linewidth=1, label=\"$y_{%d}$\" % (quantile_list[-1]*100))\n",
    "draw_normal_func(func_dict)\n",
    "plt.xlabel(\"$x_1$\", fontsize=18)\n",
    "plt.ylabel(\"$y$\", rotation=0, fontsize=18)\n",
    "plt.legend(loc=\"upper left\", fontsize=14)\n",
    "# plt.axis([-3, 3, 0, 10])\n",
    "save_fig(\"grid_quantile_prediction\")\n",
    "plt.show()"
   ]
  },
  {
   "cell_type": "code",
   "execution_count": 62,
   "id": "f98d3ae8",
   "metadata": {},
   "outputs": [
    {
     "name": "stdout",
     "output_type": "stream",
     "text": [
      "y_func.shape = (100, 1)\n",
      "y_gt.shape = (100, 1)\n"
     ]
    },
    {
     "data": {
      "text/plain": [
       "2.5681193231287516"
      ]
     },
     "execution_count": 62,
     "metadata": {},
     "output_type": "execute_result"
    }
   ],
   "source": [
    "get_prediction_error((lambda X: np.average(model.predict(X), axis=-1) ), func_dict, name=\"grid-quantileR\")"
   ]
  },
  {
   "cell_type": "markdown",
   "id": "f79ac920",
   "metadata": {},
   "source": [
    "### Draw first and last quantile curve."
   ]
  },
  {
   "cell_type": "code",
   "execution_count": 63,
   "id": "42eeb254",
   "metadata": {},
   "outputs": [
    {
     "name": "stdout",
     "output_type": "stream",
     "text": [
      "Saving figure grid_quantile_boundary_quantiles\n"
     ]
    },
    {
     "data": {
      "image/png": "[encoded data removed]",
      "text/plain": [
       "<Figure size 432x288 with 1 Axes>"
      ]
     },
     "metadata": {
      "needs_background": "light"
     },
     "output_type": "display_data"
    }
   ],
   "source": [
    "# plt.plot(X_train, y_train, \"b.\")\n",
    "draw_points(X_train, y_train, sid_train)\n",
    "draw_func((lambda X: np.average(model.predict(X), axis=-1) ), mark='r-', linewidth=2, label=\"Predictions\")\n",
    "draw_func((lambda X: model.predict(X)[:,0] ), mark='k--', linewidth=1, label=\"$y_{%d}$\" % (quantile_list[0]*100))\n",
    "draw_func((lambda X: model.predict(X)[:,-1] ), mark='k--', linewidth=1, label=\"$y_{%d}$\" % (quantile_list[-1]*100))\n",
    "draw_normal_func(func_dict)\n",
    "plt.xlabel(\"$x_1$\", fontsize=18)\n",
    "plt.ylabel(\"$y$\", rotation=0, fontsize=18)\n",
    "plt.legend(loc=\"upper left\", fontsize=14)\n",
    "# plt.axis([-3, 3, 0, 10])\n",
    "save_fig(\"grid_quantile_boundary_quantiles\")\n",
    "plt.show()"
   ]
  },
  {
   "cell_type": "markdown",
   "id": "2a1b1b44",
   "metadata": {},
   "source": [
    "### Draw all quantile predictions"
   ]
  },
  {
   "cell_type": "code",
   "execution_count": 64,
   "id": "5e875238",
   "metadata": {},
   "outputs": [
    {
     "name": "stdout",
     "output_type": "stream",
     "text": [
      "Saving figure grid_quantile_all_quantiles\n"
     ]
    },
    {
     "data": {
      "image/png": "[encoded data removed]",
      "text/plain": [
       "<Figure size 432x288 with 1 Axes>"
      ]
     },
     "metadata": {
      "needs_background": "light"
     },
     "output_type": "display_data"
    }
   ],
   "source": [
    "# plt.plot(X_train, y_train, \"b.\")\n",
    "draw_points(X_train, y_train, sid_train)\n",
    "draw_func((lambda X: np.average(model.predict(X), axis=-1) ), mark='r-', linewidth=2, label=\"Predictions\")\n",
    "for _idx, _tau in enumerate(quantile_list):\n",
    "    draw_func((lambda X: model.predict(X)[:,_idx] ), mark='k--', linewidth=1, label=\"$y_{%d}$\" % (_tau*100))\n",
    "draw_normal_func(func_dict)\n",
    "plt.xlabel(\"$x_1$\", fontsize=18)\n",
    "plt.ylabel(\"$y$\", rotation=0, fontsize=18)\n",
    "plt.legend(loc=\"upper left\", fontsize=14)\n",
    "# plt.axis([-3, 3, 0, 10])\n",
    "save_fig(\"grid_quantile_all_quantiles\")\n",
    "plt.show()"
   ]
  },
  {
   "cell_type": "markdown",
   "id": "0693a8eb",
   "metadata": {},
   "source": [
    "### Multi-Quantiles as a Gaussian Distribution "
   ]
  },
  {
   "cell_type": "code",
   "execution_count": 65,
   "id": "11262fbe",
   "metadata": {},
   "outputs": [],
   "source": [
    "# def n_sigma_boundary_line(X, n):\n",
    "#     _y = model.predict(X)\n",
    "#     _mean = np.mean(_y, axis=-1)\n",
    "#     _sigma = np.std(_y, axis=-1)\n",
    "#     return( _mean + n*_sigma)\n",
    "\n",
    "# # plt.plot(X_train, y_train, \"b.\")\n",
    "# draw_points(X_train, y_train, sid_train)\n",
    "# #\n",
    "# draw_func((lambda X: np.average(model.predict(X), axis=-1) ), mark='r-', linewidth=2, label=\"Predictions\")\n",
    "# draw_func((lambda X: n_sigma_boundary_line(X, +1.0) ), mark='k--', linewidth=1, label=\"$\\mu+\\sigma$\")\n",
    "# draw_func((lambda X: n_sigma_boundary_line(X, -1.0) ), mark='k--', linewidth=1, label=\"$\\mu-\\sigma$\")\n",
    "# #\n",
    "# draw_normal_func(func_dict)\n",
    "# plt.xlabel(\"$x_1$\", fontsize=18)\n",
    "# plt.ylabel(\"$y$\", rotation=0, fontsize=18)\n",
    "# plt.legend(loc=\"upper left\", fontsize=14)\n",
    "# # plt.axis([-3, 3, 0, 10])\n",
    "# save_fig(\"grid_quantile_1sigma\")\n",
    "# plt.show()"
   ]
  },
  {
   "cell_type": "markdown",
   "id": "9a01aa69",
   "metadata": {},
   "source": [
    "## Gaussian Estimation with Gaussian Loss (grid-->parameters)\n",
    "\n",
    "Gaussain estimation requires the model to predict the mean and variance of a Gaussian distribution of the random variable regarded. The training purpose is to fit a Gaussian distribution to the data distribution (which is not necessay distributed as Gaussian).\n",
    "\n",
    "One possible solution, derived by BensonHuang, is that the model estimates $(\\mu, z)$, where $z=\\alpha ^{-1}log(\\sigma)$.\n",
    "The associated loss function can be $L_G(y, (\\mu,z)) = 0.5e^{-2\\alpha z}(y-\\mu)^2 + \\alpha z$."
   ]
  },
  {
   "cell_type": "code",
   "execution_count": 66,
   "id": "1a20d5dd",
   "metadata": {},
   "outputs": [],
   "source": [
    "alpha = 1.0\n",
    "# alpha = 0.01\n",
    "# alpha = 0.001"
   ]
  },
  {
   "cell_type": "code",
   "execution_count": 67,
   "id": "cb202ed2",
   "metadata": {},
   "outputs": [
    {
     "name": "stdout",
     "output_type": "stream",
     "text": [
      "X.shape = (None, 1)\n",
      "gauss_grid.shape = (None, 5)\n"
     ]
    }
   ],
   "source": [
    "model = keras.models.Sequential([\n",
    "    num2grid(5,x_min=-10, x_max=10, sigma=3.0, input_shape=X_train.shape[1:]),\n",
    "#     keras.layers.Dense(30, activation=\"relu\"),\n",
    "    keras.layers.Dense(60, activation=\"relu\"),\n",
    "#     keras.layers.Dense(30, activation=keras.layers.LeakyReLU(alpha=0.2) ),\n",
    "#     keras.layers.Dense(30, activation=\"selu\"),\n",
    "    keras.layers.Dense(2) # (mu, z)\n",
    "])"
   ]
  },
  {
   "cell_type": "code",
   "execution_count": 68,
   "id": "925f0a22",
   "metadata": {},
   "outputs": [
    {
     "name": "stdout",
     "output_type": "stream",
     "text": [
      "alpha = 1.000000\n"
     ]
    }
   ],
   "source": [
    "# Customized loss function\n",
    "print(\"alpha = %f\" % alpha)\n",
    "\n",
    "def GaussianLoss_fn(y_true, y_pred):\n",
    "    # y_true: label \n",
    "    # y_pred: (mu, z), z=log(sigma)\n",
    "    mu = y_pred[:, 0:1]\n",
    "    z  = y_pred[:, 1:2]\n",
    "    #\n",
    "    en2z = tf.math.exp((-2.0*alpha)*z)\n",
    "    ymu2 = (y_true - mu)**2\n",
    "    return (0.5*en2z*ymu2 + alpha*z)"
   ]
  },
  {
   "cell_type": "code",
   "execution_count": 69,
   "id": "1b388b4b",
   "metadata": {},
   "outputs": [],
   "source": [
    "# Learning rate scheduler\n",
    "learning_rate_switch_epoch_list = [30, 45]\n",
    "learning_rate_list = [0.001, 0.01, 0.1]\n",
    "# learning_rate_switch_epoch_list = [30, 80]\n",
    "# learning_rate_list = [0.01, 0.1, 0.01]\n",
    "#\n",
    "def piecewise_constant_fn(epoch):\n",
    "    for _i, epoch_s in enumerate(learning_rate_switch_epoch_list):\n",
    "        if epoch < epoch_s:\n",
    "            return learning_rate_list[_i]\n",
    "    return learning_rate_list[-1]\n",
    "\n",
    "lr_scheduler = keras.callbacks.LearningRateScheduler(piecewise_constant_fn)"
   ]
  },
  {
   "cell_type": "markdown",
   "id": "6ec2e05e",
   "metadata": {},
   "source": [
    "Third training with even greater speed"
   ]
  },
  {
   "cell_type": "code",
   "execution_count": 70,
   "id": "7a7e245b",
   "metadata": {},
   "outputs": [
    {
     "name": "stderr",
     "output_type": "stream",
     "text": [
      "/home/benson516/GazeDemo/gaze_env/lib/python3.8/site-packages/tensorflow/python/keras/optimizer_v2/optimizer_v2.py:374: UserWarning: The `lr` argument is deprecated, use `learning_rate` instead.\n",
      "  warnings.warn(\n"
     ]
    }
   ],
   "source": [
    "# optimizer = keras.optimizers.SGD(lr=0.1, momentum=0.9)\n",
    "optimizer = keras.optimizers.Adam(lr=0.1) # 0.1\n",
    "model.compile(loss=GaussianLoss_fn, optimizer=optimizer)"
   ]
  },
  {
   "cell_type": "code",
   "execution_count": 71,
   "id": "6d7b74a9",
   "metadata": {
    "scrolled": true
   },
   "outputs": [
    {
     "name": "stdout",
     "output_type": "stream",
     "text": [
      "Epoch 1/200\n",
      "X.shape = (None, 1)\n",
      "gauss_grid.shape = (None, 5)\n",
      "X.shape = (None, 1)\n",
      "gauss_grid.shape = (None, 5)\n",
      "1/3 [=========>....................] - ETA: 0s - loss: 1682.4980X.shape = (None, 1)\n",
      "gauss_grid.shape = (None, 5)\n",
      "3/3 [==============================] - 0s 39ms/step - loss: 707.9381 - val_loss: 5.2847\n",
      "Epoch 2/200\n",
      "3/3 [==============================] - 0s 6ms/step - loss: 6.5272 - val_loss: 10.1890\n",
      "Epoch 3/200\n",
      "3/3 [==============================] - 0s 18ms/step - loss: 11.1728 - val_loss: 14.1422\n",
      "Epoch 4/200\n",
      "3/3 [==============================] - 0s 15ms/step - loss: 14.8533 - val_loss: 17.1307\n",
      "Epoch 5/200\n",
      "3/3 [==============================] - 0s 12ms/step - loss: 17.5969 - val_loss: 19.2716\n",
      "Epoch 6/200\n",
      "3/3 [==============================] - 0s 17ms/step - loss: 19.5295 - val_loss: 20.6975\n",
      "Epoch 7/200\n",
      "3/3 [==============================] - 0s 11ms/step - loss: 20.7868 - val_loss: 21.5403\n",
      "Epoch 8/200\n",
      "3/3 [==============================] - 0s 10ms/step - loss: 21.5179 - val_loss: 21.9468\n",
      "Epoch 9/200\n",
      "3/3 [==============================] - 0s 13ms/step - loss: 21.8406 - val_loss: 21.9951\n",
      "Epoch 10/200\n",
      "3/3 [==============================] - 0s 7ms/step - loss: 21.8418 - val_loss: 21.7504\n",
      "Epoch 11/200\n",
      "3/3 [==============================] - 0s 10ms/step - loss: 21.5810 - val_loss: 21.2790\n",
      "Epoch 12/200\n",
      "3/3 [==============================] - 0s 14ms/step - loss: 21.1067 - val_loss: 20.6373\n",
      "Epoch 13/200\n",
      "3/3 [==============================] - 0s 13ms/step - loss: 20.4923 - val_loss: 19.8616\n",
      "Epoch 14/200\n",
      "3/3 [==============================] - 0s 10ms/step - loss: 19.7481 - val_loss: 18.9981\n",
      "Epoch 15/200\n",
      "3/3 [==============================] - 0s 12ms/step - loss: 18.9376 - val_loss: 18.1004\n",
      "Epoch 16/200\n",
      "3/3 [==============================] - 0s 13ms/step - loss: 18.0976 - val_loss: 17.1858\n",
      "Epoch 17/200\n",
      "3/3 [==============================] - 0s 11ms/step - loss: 17.2271 - val_loss: 16.2630\n",
      "Epoch 18/200\n",
      "3/3 [==============================] - 0s 12ms/step - loss: 16.3493 - val_loss: 15.3360\n",
      "Epoch 19/200\n",
      "3/3 [==============================] - 0s 12ms/step - loss: 15.4763 - val_loss: 14.4196\n",
      "Epoch 20/200\n",
      "3/3 [==============================] - 0s 11ms/step - loss: 14.6114 - val_loss: 13.5191\n",
      "Epoch 21/200\n",
      "3/3 [==============================] - 0s 10ms/step - loss: 13.7492 - val_loss: 12.6374\n",
      "Epoch 22/200\n",
      "3/3 [==============================] - 0s 11ms/step - loss: 12.9058 - val_loss: 11.7672\n",
      "Epoch 23/200\n",
      "3/3 [==============================] - 0s 12ms/step - loss: 12.0764 - val_loss: 10.9146\n",
      "Epoch 24/200\n",
      "3/3 [==============================] - 0s 12ms/step - loss: 11.2649 - val_loss: 10.0815\n",
      "Epoch 25/200\n",
      "3/3 [==============================] - 0s 9ms/step - loss: 10.4647 - val_loss: 9.2638\n",
      "Epoch 26/200\n",
      "3/3 [==============================] - 0s 11ms/step - loss: 9.6693 - val_loss: 8.4579\n",
      "Epoch 27/200\n",
      "3/3 [==============================] - 0s 12ms/step - loss: 8.8865 - val_loss: 7.6553\n",
      "Epoch 28/200\n",
      "3/3 [==============================] - 0s 11ms/step - loss: 8.1033 - val_loss: 6.8540\n",
      "Epoch 29/200\n",
      "3/3 [==============================] - 0s 10ms/step - loss: 7.3234 - val_loss: 6.0572\n",
      "Epoch 30/200\n",
      "3/3 [==============================] - 0s 8ms/step - loss: 6.5406 - val_loss: 5.2922\n",
      "Epoch 31/200\n",
      "3/3 [==============================] - 0s 10ms/step - loss: 5.7954 - val_loss: 4.7014\n",
      "Epoch 32/200\n",
      "3/3 [==============================] - 0s 10ms/step - loss: 5.2606 - val_loss: 4.7988\n",
      "Epoch 33/200\n",
      "3/3 [==============================] - 0s 8ms/step - loss: 5.2229 - val_loss: 5.2681\n",
      "Epoch 34/200\n",
      "3/3 [==============================] - 0s 10ms/step - loss: 5.3061 - val_loss: 4.6177\n",
      "Epoch 35/200\n",
      "3/3 [==============================] - 0s 7ms/step - loss: 4.7724 - val_loss: 4.2071\n",
      "Epoch 36/200\n",
      "3/3 [==============================] - 0s 9ms/step - loss: 4.6022 - val_loss: 4.1128\n",
      "Epoch 37/200\n",
      "3/3 [==============================] - 0s 11ms/step - loss: 4.5203 - val_loss: 4.0488\n",
      "Epoch 38/200\n",
      "3/3 [==============================] - 0s 12ms/step - loss: 4.3994 - val_loss: 3.9354\n",
      "Epoch 39/200\n",
      "3/3 [==============================] - 0s 13ms/step - loss: 4.2481 - val_loss: 3.8419\n",
      "Epoch 40/200\n",
      "3/3 [==============================] - 0s 12ms/step - loss: 4.1348 - val_loss: 3.8393\n",
      "Epoch 41/200\n",
      "3/3 [==============================] - 0s 11ms/step - loss: 4.1528 - val_loss: 3.8850\n",
      "Epoch 42/200\n",
      "3/3 [==============================] - 0s 12ms/step - loss: 4.1915 - val_loss: 3.8289\n",
      "Epoch 43/200\n",
      "3/3 [==============================] - 0s 13ms/step - loss: 4.1379 - val_loss: 3.8014\n",
      "Epoch 44/200\n",
      "3/3 [==============================] - 0s 14ms/step - loss: 4.1164 - val_loss: 3.8153\n",
      "Epoch 45/200\n",
      "3/3 [==============================] - 0s 10ms/step - loss: 4.1221 - val_loss: 3.8249\n",
      "Epoch 46/200\n",
      "3/3 [==============================] - 0s 9ms/step - loss: 4.1281 - val_loss: 3.8180\n",
      "Epoch 47/200\n",
      "3/3 [==============================] - 0s 13ms/step - loss: 4.1155 - val_loss: 3.7990\n",
      "Epoch 48/200\n",
      "3/3 [==============================] - 0s 11ms/step - loss: 4.0996 - val_loss: 3.7915\n",
      "Epoch 49/200\n",
      "3/3 [==============================] - 0s 13ms/step - loss: 4.0920 - val_loss: 3.7939\n",
      "Epoch 50/200\n",
      "3/3 [==============================] - 0s 12ms/step - loss: 4.0908 - val_loss: 3.7944\n",
      "Epoch 51/200\n",
      "3/3 [==============================] - 0s 13ms/step - loss: 4.0837 - val_loss: 3.7922\n",
      "Epoch 52/200\n",
      "3/3 [==============================] - 0s 9ms/step - loss: 4.0771 - val_loss: 3.7910\n",
      "Epoch 53/200\n",
      "3/3 [==============================] - 0s 11ms/step - loss: 4.0735 - val_loss: 3.7923\n",
      "Epoch 54/200\n",
      "3/3 [==============================] - 0s 10ms/step - loss: 4.0690 - val_loss: 3.7908\n",
      "Epoch 55/200\n",
      "3/3 [==============================] - 0s 12ms/step - loss: 4.0665 - val_loss: 3.7889\n",
      "Epoch 56/200\n",
      "3/3 [==============================] - 0s 13ms/step - loss: 4.0609 - val_loss: 3.7868\n",
      "Epoch 57/200\n",
      "3/3 [==============================] - 0s 10ms/step - loss: 4.0554 - val_loss: 3.7845\n",
      "Epoch 58/200\n",
      "3/3 [==============================] - 0s 9ms/step - loss: 4.0498 - val_loss: 3.7860\n",
      "Epoch 59/200\n",
      "3/3 [==============================] - 0s 13ms/step - loss: 4.0485 - val_loss: 3.7850\n",
      "Epoch 60/200\n",
      "3/3 [==============================] - 0s 11ms/step - loss: 4.0438 - val_loss: 3.7785\n",
      "Epoch 61/200\n",
      "3/3 [==============================] - 0s 10ms/step - loss: 4.0385 - val_loss: 3.7718\n",
      "Epoch 62/200\n",
      "3/3 [==============================] - 0s 9ms/step - loss: 4.0339 - val_loss: 3.7686\n",
      "Epoch 63/200\n",
      "3/3 [==============================] - 0s 11ms/step - loss: 4.0332 - val_loss: 3.7657\n",
      "Epoch 64/200\n",
      "3/3 [==============================] - 0s 12ms/step - loss: 4.0286 - val_loss: 3.7635\n",
      "Epoch 65/200\n",
      "3/3 [==============================] - 0s 12ms/step - loss: 4.0219 - val_loss: 3.7621\n",
      "Epoch 66/200\n",
      "3/3 [==============================] - 0s 13ms/step - loss: 4.0189 - val_loss: 3.7622\n",
      "Epoch 67/200\n",
      "3/3 [==============================] - 0s 8ms/step - loss: 4.0144 - val_loss: 3.7584\n",
      "Epoch 68/200\n",
      "3/3 [==============================] - 0s 10ms/step - loss: 4.0095 - val_loss: 3.7559\n",
      "Epoch 69/200\n",
      "3/3 [==============================] - 0s 11ms/step - loss: 4.0050 - val_loss: 3.7551\n",
      "Epoch 70/200\n",
      "3/3 [==============================] - 0s 8ms/step - loss: 4.0011 - val_loss: 3.7530\n",
      "Epoch 71/200\n",
      "3/3 [==============================] - 0s 9ms/step - loss: 3.9965 - val_loss: 3.7494\n",
      "Epoch 72/200\n",
      "3/3 [==============================] - 0s 12ms/step - loss: 3.9933 - val_loss: 3.7476\n",
      "Epoch 73/200\n",
      "3/3 [==============================] - 0s 8ms/step - loss: 3.9872 - val_loss: 3.7422\n",
      "Epoch 74/200\n",
      "3/3 [==============================] - 0s 9ms/step - loss: 3.9836 - val_loss: 3.7387\n",
      "Epoch 75/200\n",
      "3/3 [==============================] - 0s 10ms/step - loss: 3.9788 - val_loss: 3.7369\n",
      "Epoch 76/200\n",
      "3/3 [==============================] - 0s 8ms/step - loss: 3.9754 - val_loss: 3.7362\n",
      "Epoch 77/200\n",
      "3/3 [==============================] - 0s 9ms/step - loss: 3.9692 - val_loss: 3.7326\n",
      "Epoch 78/200\n",
      "3/3 [==============================] - 0s 11ms/step - loss: 3.9665 - val_loss: 3.7276\n",
      "Epoch 79/200\n",
      "3/3 [==============================] - 0s 8ms/step - loss: 3.9603 - val_loss: 3.7247\n",
      "Epoch 80/200\n",
      "3/3 [==============================] - 0s 10ms/step - loss: 3.9551 - val_loss: 3.7234\n",
      "Epoch 81/200\n"
     ]
    },
    {
     "name": "stdout",
     "output_type": "stream",
     "text": [
      "3/3 [==============================] - 0s 12ms/step - loss: 3.9496 - val_loss: 3.7229\n",
      "Epoch 82/200\n",
      "3/3 [==============================] - 0s 15ms/step - loss: 3.9441 - val_loss: 3.7255\n",
      "Epoch 83/200\n",
      "3/3 [==============================] - 0s 17ms/step - loss: 3.9416 - val_loss: 3.7261\n",
      "Epoch 84/200\n",
      "3/3 [==============================] - 0s 13ms/step - loss: 3.9358 - val_loss: 3.7176\n",
      "Epoch 85/200\n",
      "3/3 [==============================] - 0s 11ms/step - loss: 3.9291 - val_loss: 3.7136\n",
      "Epoch 86/200\n",
      "3/3 [==============================] - 0s 8ms/step - loss: 3.9238 - val_loss: 3.7118\n",
      "Epoch 87/200\n",
      "3/3 [==============================] - 0s 9ms/step - loss: 3.9180 - val_loss: 3.7077\n",
      "Epoch 88/200\n",
      "3/3 [==============================] - 0s 11ms/step - loss: 3.9117 - val_loss: 3.7022\n",
      "Epoch 89/200\n",
      "3/3 [==============================] - 0s 11ms/step - loss: 3.9078 - val_loss: 3.6999\n",
      "Epoch 90/200\n",
      "3/3 [==============================] - 0s 8ms/step - loss: 3.8999 - val_loss: 3.6934\n",
      "Epoch 91/200\n",
      "3/3 [==============================] - 0s 10ms/step - loss: 3.8938 - val_loss: 3.6868\n",
      "Epoch 92/200\n",
      "3/3 [==============================] - 0s 11ms/step - loss: 3.8882 - val_loss: 3.6823\n",
      "Epoch 93/200\n",
      "3/3 [==============================] - 0s 8ms/step - loss: 3.8816 - val_loss: 3.6787\n",
      "Epoch 94/200\n",
      "3/3 [==============================] - 0s 9ms/step - loss: 3.8752 - val_loss: 3.6768\n",
      "Epoch 95/200\n",
      "3/3 [==============================] - 0s 11ms/step - loss: 3.8681 - val_loss: 3.6723\n",
      "Epoch 96/200\n",
      "3/3 [==============================] - 0s 12ms/step - loss: 3.8615 - val_loss: 3.6667\n",
      "Epoch 97/200\n",
      "3/3 [==============================] - 0s 8ms/step - loss: 3.8550 - val_loss: 3.6623\n",
      "Epoch 98/200\n",
      "3/3 [==============================] - 0s 10ms/step - loss: 3.8474 - val_loss: 3.6573\n",
      "Epoch 99/200\n",
      "3/3 [==============================] - 0s 11ms/step - loss: 3.8401 - val_loss: 3.6552\n",
      "Epoch 100/200\n",
      "3/3 [==============================] - 0s 11ms/step - loss: 3.8323 - val_loss: 3.6449\n",
      "Epoch 101/200\n",
      "3/3 [==============================] - 0s 8ms/step - loss: 3.8238 - val_loss: 3.6360\n",
      "Epoch 102/200\n",
      "3/3 [==============================] - 0s 10ms/step - loss: 3.8152 - val_loss: 3.6248\n",
      "Epoch 103/200\n",
      "3/3 [==============================] - 0s 9ms/step - loss: 3.8086 - val_loss: 3.6171\n",
      "Epoch 104/200\n",
      "3/3 [==============================] - 0s 17ms/step - loss: 3.7989 - val_loss: 3.6159\n",
      "Epoch 105/200\n",
      "3/3 [==============================] - 0s 10ms/step - loss: 3.7886 - val_loss: 3.6150\n",
      "Epoch 106/200\n",
      "3/3 [==============================] - 0s 10ms/step - loss: 3.7795 - val_loss: 3.6103\n",
      "Epoch 107/200\n",
      "3/3 [==============================] - 0s 14ms/step - loss: 3.7704 - val_loss: 3.6018\n",
      "Epoch 108/200\n",
      "3/3 [==============================] - 0s 8ms/step - loss: 3.7596 - val_loss: 3.5974\n",
      "Epoch 109/200\n",
      "3/3 [==============================] - 0s 9ms/step - loss: 3.7480 - val_loss: 3.5901\n",
      "Epoch 110/200\n",
      "3/3 [==============================] - 0s 7ms/step - loss: 3.7377 - val_loss: 3.5806\n",
      "Epoch 111/200\n",
      "3/3 [==============================] - 0s 8ms/step - loss: 3.7250 - val_loss: 3.5730\n",
      "Epoch 112/200\n",
      "3/3 [==============================] - 0s 10ms/step - loss: 3.7128 - val_loss: 3.5644\n",
      "Epoch 113/200\n",
      "3/3 [==============================] - 0s 7ms/step - loss: 3.6994 - val_loss: 3.5525\n",
      "Epoch 114/200\n",
      "3/3 [==============================] - 0s 10ms/step - loss: 3.6867 - val_loss: 3.5447\n",
      "Epoch 115/200\n",
      "3/3 [==============================] - 0s 10ms/step - loss: 3.6727 - val_loss: 3.5414\n",
      "Epoch 116/200\n",
      "3/3 [==============================] - 0s 8ms/step - loss: 3.6638 - val_loss: 3.5397\n",
      "Epoch 117/200\n",
      "3/3 [==============================] - 0s 10ms/step - loss: 3.6426 - val_loss: 3.5114\n",
      "Epoch 118/200\n",
      "3/3 [==============================] - 0s 8ms/step - loss: 3.6295 - val_loss: 3.4966\n",
      "Epoch 119/200\n",
      "3/3 [==============================] - 0s 8ms/step - loss: 3.6191 - val_loss: 3.4863\n",
      "Epoch 120/200\n",
      "3/3 [==============================] - 0s 11ms/step - loss: 3.6008 - val_loss: 3.4828\n",
      "Epoch 121/200\n",
      "3/3 [==============================] - 0s 8ms/step - loss: 3.5820 - val_loss: 3.4853\n",
      "Epoch 122/200\n",
      "3/3 [==============================] - 0s 9ms/step - loss: 3.5677 - val_loss: 3.4709\n",
      "Epoch 123/200\n",
      "3/3 [==============================] - 0s 11ms/step - loss: 3.5477 - val_loss: 3.4488\n",
      "Epoch 124/200\n",
      "3/3 [==============================] - 0s 11ms/step - loss: 3.5311 - val_loss: 3.4321\n",
      "Epoch 125/200\n",
      "3/3 [==============================] - 0s 10ms/step - loss: 3.5165 - val_loss: 3.4202\n",
      "Epoch 126/200\n",
      "3/3 [==============================] - 0s 11ms/step - loss: 3.4986 - val_loss: 3.4102\n",
      "Epoch 127/200\n",
      "3/3 [==============================] - 0s 12ms/step - loss: 3.4841 - val_loss: 3.3958\n",
      "Epoch 128/200\n",
      "3/3 [==============================] - 0s 12ms/step - loss: 3.4689 - val_loss: 3.3850\n",
      "Epoch 129/200\n",
      "3/3 [==============================] - 0s 12ms/step - loss: 3.4550 - val_loss: 3.3644\n",
      "Epoch 130/200\n",
      "3/3 [==============================] - 0s 9ms/step - loss: 3.4437 - val_loss: 3.3489\n",
      "Epoch 131/200\n",
      "3/3 [==============================] - 0s 9ms/step - loss: 3.4323 - val_loss: 3.3360\n",
      "Epoch 132/200\n",
      "3/3 [==============================] - 0s 11ms/step - loss: 3.4166 - val_loss: 3.3308\n",
      "Epoch 133/200\n",
      "3/3 [==============================] - 0s 11ms/step - loss: 3.4105 - val_loss: 3.3199\n",
      "Epoch 134/200\n",
      "3/3 [==============================] - 0s 8ms/step - loss: 3.3899 - val_loss: 3.3010\n",
      "Epoch 135/200\n",
      "3/3 [==============================] - 0s 11ms/step - loss: 3.3817 - val_loss: 3.2936\n",
      "Epoch 136/200\n",
      "3/3 [==============================] - 0s 11ms/step - loss: 3.3720 - val_loss: 3.2899\n",
      "Epoch 137/200\n",
      "3/3 [==============================] - 0s 7ms/step - loss: 3.3611 - val_loss: 3.2820\n",
      "Epoch 138/200\n",
      "3/3 [==============================] - 0s 10ms/step - loss: 3.3478 - val_loss: 3.2781\n",
      "Epoch 139/200\n",
      "3/3 [==============================] - 0s 11ms/step - loss: 3.3337 - val_loss: 3.2596\n",
      "Epoch 140/200\n",
      "3/3 [==============================] - 0s 8ms/step - loss: 3.3224 - val_loss: 3.2425\n",
      "Epoch 141/200\n",
      "3/3 [==============================] - 0s 10ms/step - loss: 3.3138 - val_loss: 3.2270\n",
      "Epoch 142/200\n",
      "3/3 [==============================] - 0s 10ms/step - loss: 3.3001 - val_loss: 3.2183\n",
      "Epoch 143/200\n",
      "3/3 [==============================] - 0s 7ms/step - loss: 3.3060 - val_loss: 3.2118\n",
      "Epoch 144/200\n",
      "3/3 [==============================] - 0s 11ms/step - loss: 3.2882 - val_loss: 3.2116\n",
      "Epoch 145/200\n",
      "3/3 [==============================] - 0s 12ms/step - loss: 3.2893 - val_loss: 3.2229\n",
      "Epoch 146/200\n",
      "3/3 [==============================] - 0s 11ms/step - loss: 3.2824 - val_loss: 3.2150\n",
      "Epoch 147/200\n",
      "3/3 [==============================] - 0s 9ms/step - loss: 3.2686 - val_loss: 3.1870\n",
      "Epoch 148/200\n",
      "3/3 [==============================] - 0s 10ms/step - loss: 3.2590 - val_loss: 3.1745\n",
      "Epoch 149/200\n",
      "3/3 [==============================] - 0s 11ms/step - loss: 3.2475 - val_loss: 3.1827\n",
      "Epoch 150/200\n",
      "3/3 [==============================] - 0s 11ms/step - loss: 3.2460 - val_loss: 3.1895\n",
      "Epoch 151/200\n",
      "3/3 [==============================] - 0s 8ms/step - loss: 3.2510 - val_loss: 3.1791\n",
      "Epoch 152/200\n",
      "3/3 [==============================] - 0s 10ms/step - loss: 3.2323 - val_loss: 3.1739\n",
      "Epoch 153/200\n",
      "3/3 [==============================] - 0s 11ms/step - loss: 3.2250 - val_loss: 3.1571\n",
      "Epoch 154/200\n",
      "3/3 [==============================] - 0s 11ms/step - loss: 3.2125 - val_loss: 3.1324\n",
      "Epoch 155/200\n",
      "3/3 [==============================] - 0s 8ms/step - loss: 3.2129 - val_loss: 3.1262\n",
      "Epoch 156/200\n",
      "3/3 [==============================] - 0s 11ms/step - loss: 3.2038 - val_loss: 3.1360\n",
      "Epoch 157/200\n",
      "3/3 [==============================] - 0s 11ms/step - loss: 3.1985 - val_loss: 3.1286\n",
      "Epoch 158/200\n",
      "3/3 [==============================] - 0s 9ms/step - loss: 3.1852 - val_loss: 3.1070\n",
      "Epoch 159/200\n",
      "3/3 [==============================] - 0s 10ms/step - loss: 3.1806 - val_loss: 3.1070\n",
      "Epoch 160/200\n",
      "3/3 [==============================] - 0s 12ms/step - loss: 3.1746 - val_loss: 3.1230\n",
      "Epoch 161/200\n",
      "3/3 [==============================] - 0s 12ms/step - loss: 3.1724 - val_loss: 3.1268\n",
      "Epoch 162/200\n",
      "3/3 [==============================] - 0s 13ms/step - loss: 3.1790 - val_loss: 3.1051\n",
      "Epoch 163/200\n"
     ]
    },
    {
     "name": "stdout",
     "output_type": "stream",
     "text": [
      "3/3 [==============================] - 0s 11ms/step - loss: 3.1511 - val_loss: 3.0845\n",
      "Epoch 164/200\n",
      "3/3 [==============================] - 0s 10ms/step - loss: 3.1531 - val_loss: 3.0841\n",
      "Epoch 165/200\n",
      "3/3 [==============================] - 0s 10ms/step - loss: 3.1479 - val_loss: 3.0800\n",
      "Epoch 166/200\n",
      "3/3 [==============================] - 0s 12ms/step - loss: 3.1354 - val_loss: 3.0830\n",
      "Epoch 167/200\n",
      "3/3 [==============================] - 0s 12ms/step - loss: 3.1271 - val_loss: 3.1031\n",
      "Epoch 168/200\n",
      "3/3 [==============================] - 0s 8ms/step - loss: 3.1296 - val_loss: 3.0808\n",
      "Epoch 169/200\n",
      "3/3 [==============================] - 0s 10ms/step - loss: 3.1079 - val_loss: 3.0425\n",
      "Epoch 170/200\n",
      "3/3 [==============================] - 0s 11ms/step - loss: 3.1110 - val_loss: 3.0405\n",
      "Epoch 171/200\n",
      "3/3 [==============================] - 0s 11ms/step - loss: 3.0975 - val_loss: 3.0372\n",
      "Epoch 172/200\n",
      "3/3 [==============================] - 0s 11ms/step - loss: 3.0845 - val_loss: 3.0364\n",
      "Epoch 173/200\n",
      "3/3 [==============================] - 0s 9ms/step - loss: 3.0743 - val_loss: 3.0282\n",
      "Epoch 174/200\n",
      "3/3 [==============================] - 0s 11ms/step - loss: 3.0725 - val_loss: 3.0401\n",
      "Epoch 175/200\n",
      "3/3 [==============================] - 0s 11ms/step - loss: 3.0564 - val_loss: 3.0138\n",
      "Epoch 176/200\n",
      "3/3 [==============================] - 0s 9ms/step - loss: 3.0509 - val_loss: 3.0102\n",
      "Epoch 177/200\n",
      "3/3 [==============================] - 0s 8ms/step - loss: 3.0421 - val_loss: 3.0153\n",
      "Epoch 178/200\n",
      "3/3 [==============================] - 0s 11ms/step - loss: 3.0313 - val_loss: 3.0148\n",
      "Epoch 179/200\n",
      "3/3 [==============================] - 0s 10ms/step - loss: 3.0282 - val_loss: 2.9983\n",
      "Epoch 180/200\n",
      "3/3 [==============================] - 0s 9ms/step - loss: 3.0132 - val_loss: 2.9739\n",
      "Epoch 181/200\n",
      "3/3 [==============================] - 0s 10ms/step - loss: 3.0053 - val_loss: 2.9737\n",
      "Epoch 182/200\n",
      "3/3 [==============================] - 0s 13ms/step - loss: 2.9938 - val_loss: 2.9720\n",
      "Epoch 183/200\n",
      "3/3 [==============================] - 0s 13ms/step - loss: 2.9852 - val_loss: 2.9494\n",
      "Epoch 184/200\n",
      "3/3 [==============================] - 0s 14ms/step - loss: 2.9728 - val_loss: 2.9672\n",
      "Epoch 185/200\n",
      "3/3 [==============================] - 0s 13ms/step - loss: 2.9771 - val_loss: 3.0058\n",
      "Epoch 186/200\n",
      "3/3 [==============================] - 0s 13ms/step - loss: 2.9712 - val_loss: 2.9414\n",
      "Epoch 187/200\n",
      "3/3 [==============================] - 0s 14ms/step - loss: 2.9511 - val_loss: 2.9321\n",
      "Epoch 188/200\n",
      "3/3 [==============================] - 0s 12ms/step - loss: 2.9318 - val_loss: 2.9589\n",
      "Epoch 189/200\n",
      "3/3 [==============================] - 0s 14ms/step - loss: 2.9234 - val_loss: 2.9246\n",
      "Epoch 190/200\n",
      "3/3 [==============================] - 0s 13ms/step - loss: 2.9043 - val_loss: 2.9008\n",
      "Epoch 191/200\n",
      "3/3 [==============================] - 0s 11ms/step - loss: 2.8846 - val_loss: 2.9046\n",
      "Epoch 192/200\n",
      "3/3 [==============================] - 0s 9ms/step - loss: 2.8735 - val_loss: 2.9049\n",
      "Epoch 193/200\n",
      "3/3 [==============================] - 0s 11ms/step - loss: 2.8642 - val_loss: 2.8884\n",
      "Epoch 194/200\n",
      "3/3 [==============================] - 0s 11ms/step - loss: 2.8390 - val_loss: 2.8994\n",
      "Epoch 195/200\n",
      "3/3 [==============================] - 0s 10ms/step - loss: 2.8314 - val_loss: 2.8633\n",
      "Epoch 196/200\n",
      "3/3 [==============================] - 0s 9ms/step - loss: 2.8040 - val_loss: 2.8603\n",
      "Epoch 197/200\n",
      "3/3 [==============================] - 0s 11ms/step - loss: 2.8390 - val_loss: 2.8518\n",
      "Epoch 198/200\n",
      "3/3 [==============================] - 0s 11ms/step - loss: 2.8003 - val_loss: 2.8633\n",
      "Epoch 199/200\n",
      "3/3 [==============================] - 0s 7ms/step - loss: 2.7942 - val_loss: 2.8695\n",
      "Epoch 200/200\n",
      "3/3 [==============================] - 0s 9ms/step - loss: 2.8561 - val_loss: 2.9075\n"
     ]
    }
   ],
   "source": [
    "history = model.fit(X_train, y_train, epochs=200,\n",
    "                    validation_data=(X_valid, y_valid))"
   ]
  },
  {
   "cell_type": "code",
   "execution_count": 72,
   "id": "0b29d35c",
   "metadata": {
    "scrolled": true
   },
   "outputs": [],
   "source": [
    "# history = model.fit(X_train, y_train, epochs=145,\n",
    "#                     validation_data=(X_valid, y_valid), callbacks=[lr_scheduler])"
   ]
  },
  {
   "cell_type": "code",
   "execution_count": 73,
   "id": "28215732",
   "metadata": {},
   "outputs": [
    {
     "name": "stdout",
     "output_type": "stream",
     "text": [
      "Saving figure grid_Gaussian_training_curve\n"
     ]
    },
    {
     "data": {
      "image/png": "[encoded data removed]",
      "text/plain": [
       "<Figure size 576x360 with 1 Axes>"
      ]
     },
     "metadata": {
      "needs_background": "light"
     },
     "output_type": "display_data"
    }
   ],
   "source": [
    "import pandas as pd\n",
    "\n",
    "# print(history.history)\n",
    "try:\n",
    "    lr_list = history.history[\"lr\"]\n",
    "    del(history.history[\"lr\"])\n",
    "except:\n",
    "    pass\n",
    "\n",
    "pd.DataFrame(history.history)[50:].plot(figsize=(8, 5))\n",
    "plt.grid(True)\n",
    "# plt.gca().set_ylim(0, 1)\n",
    "save_fig(\"grid_Gaussian_training_curve\")\n",
    "plt.show()"
   ]
  },
  {
   "cell_type": "code",
   "execution_count": 74,
   "id": "47d362c9",
   "metadata": {
    "scrolled": true
   },
   "outputs": [
    {
     "name": "stdout",
     "output_type": "stream",
     "text": [
      "X.shape = (None, 1)\n",
      "gauss_grid.shape = (None, 5)\n",
      "Saving figure grid_Gaussian_prediction\n"
     ]
    },
    {
     "data": {
      "image/png": "[encoded data removed]",
      "text/plain": [
       "<Figure size 432x288 with 1 Axes>"
      ]
     },
     "metadata": {
      "needs_background": "light"
     },
     "output_type": "display_data"
    }
   ],
   "source": [
    "# plt.plot(X_train, y_train, \"b.\")\n",
    "draw_points(X_train, y_train, sid_train)\n",
    "draw_func((lambda X: model.predict(X)[:,0] ), mark='r-', linewidth=2, label=\"Predictions\")\n",
    "draw_normal_func(func_dict)\n",
    "plt.xlabel(\"$x_1$\", fontsize=18)\n",
    "plt.ylabel(\"$y$\", rotation=0, fontsize=18)\n",
    "plt.legend(loc=\"upper left\", fontsize=14)\n",
    "# plt.axis([-3, 3, 0, 10])\n",
    "save_fig(\"grid_Gaussian_prediction\")\n",
    "plt.show()"
   ]
  },
  {
   "cell_type": "code",
   "execution_count": 75,
   "id": "a85a5159",
   "metadata": {},
   "outputs": [
    {
     "name": "stdout",
     "output_type": "stream",
     "text": [
      "y_func.shape = (100, 1)\n",
      "y_gt.shape = (100, 1)\n"
     ]
    },
    {
     "data": {
      "text/plain": [
       "3.504557894338456"
      ]
     },
     "execution_count": 75,
     "metadata": {},
     "output_type": "execute_result"
    }
   ],
   "source": [
    "get_prediction_error((lambda X: model.predict(X)[:,0] ), func_dict, name=\"grid-oneGaussian\")"
   ]
  },
  {
   "cell_type": "markdown",
   "id": "9ca1e36d",
   "metadata": {},
   "source": [
    "### Draw the 1-sigma boundary line"
   ]
  },
  {
   "cell_type": "code",
   "execution_count": 76,
   "id": "a04a47fa",
   "metadata": {},
   "outputs": [
    {
     "name": "stdout",
     "output_type": "stream",
     "text": [
      "Saving figure grid_Gaussian_1sigma\n"
     ]
    },
    {
     "data": {
      "image/png": "[encoded data removed]",
      "text/plain": [
       "<Figure size 432x288 with 1 Axes>"
      ]
     },
     "metadata": {
      "needs_background": "light"
     },
     "output_type": "display_data"
    }
   ],
   "source": [
    "def n_sigma_boundary_line(X, n):\n",
    "    _y = model.predict(X)\n",
    "    _mean, _z = _y[:,0:1], _y[:,1:2]\n",
    "    _sigma = np.exp(alpha*_z)\n",
    "    return( _mean + n*_sigma)\n",
    "\n",
    "# plt.plot(X_train, y_train, \"b.\")\n",
    "draw_points(X_train, y_train, sid_train)\n",
    "#\n",
    "draw_func((lambda X: model.predict(X)[:,0] ), mark='r-', linewidth=2, label=\"Predictions\")\n",
    "draw_func((lambda X: n_sigma_boundary_line(X, +1.0) ), mark='k--', linewidth=1, label=\"$\\mu+\\sigma$\")\n",
    "draw_func((lambda X: n_sigma_boundary_line(X, -1.0) ), mark='k--', linewidth=1, label=\"$\\mu-\\sigma$\")\n",
    "#\n",
    "draw_normal_func(func_dict)\n",
    "plt.xlabel(\"$x_1$\", fontsize=18)\n",
    "plt.ylabel(\"$y$\", rotation=0, fontsize=18)\n",
    "plt.legend(loc=\"upper left\", fontsize=14)\n",
    "# plt.axis([-3, 3, 0, 10])\n",
    "save_fig(\"grid_Gaussian_1sigma\")\n",
    "plt.show()"
   ]
  },
  {
   "cell_type": "markdown",
   "id": "1cdb8a83",
   "metadata": {},
   "source": [
    "# Per-subject Bias/Property Learning"
   ]
  },
  {
   "cell_type": "code",
   "execution_count": 77,
   "id": "0a429b42",
   "metadata": {},
   "outputs": [],
   "source": [
    "# Create a custom layer for estimating bais for each subject\n",
    "class SubjectBias(keras.layers.Layer):\n",
    "    def __init__(self, num_subject, bias_scale=1.0, mean_reg_rate=1.0, activation=None, **kwargs):\n",
    "        super().__init__(**kwargs)\n",
    "        self.num_subject = num_subject\n",
    "        self.bias_scale = bias_scale\n",
    "        self.mean_reg_rate = mean_reg_rate if mean_reg_rate >= 0.0 else 0.0\n",
    "        #\n",
    "        self.X_shape = None\n",
    "        self.activation = keras.activations.get(activation)\n",
    "        \n",
    "    def build(self, batch_input_shape):\n",
    "        self.X_shape = batch_input_shape[0]\n",
    "        # Initiate a trainable vector as the bias for X\n",
    "        \"\"\"\n",
    "        bias: (num_subject, X_shape[1], X_shape[2], ...)\n",
    "        \"\"\"\n",
    "        self.bias = self.add_weight(name=\"bias\", \n",
    "                                    shape=([self.num_subject] + self.X_shape[1:]), \n",
    "                                    initializer=\"zeros\")\n",
    "        super().build(batch_input_shape) # must be at the end\n",
    "        \n",
    "    def get_bias(self, sid):\n",
    "        '''\n",
    "        A helper function for retriving the bias according to the given sid.\n",
    "        Note: sid starts from 1.\n",
    "        Note2: this is the bias added to X, which are scaled by self.bias_scale\n",
    "        '''\n",
    "        if sid > self.num_subject or sid <= 0: # Out of bound, index not in range\n",
    "            return tf.zeros(self.X_shape[1:])\n",
    "        else:\n",
    "            return self.bias_scale * self.bias[tf.cast(sid-1, tf.int32),:]\n",
    "        \n",
    "    def get_scaled_biases_np(self):\n",
    "        return self.bias_scale * self.bias.numpy()\n",
    "        \n",
    "    def call(self, X_sid, training=None):\n",
    "        '''\n",
    "        X_sid = [X, sid]\n",
    "        Input shape:  X: (batch, ...), sid: (batch, 1)\n",
    "        Output shape: (batch, ...)\n",
    "        '''\n",
    "        X, SID = X_sid\n",
    "        X_shape = X.shape\n",
    "        print(\"X.shape = %s\" % X.shape)\n",
    "        print(\"SID.shape = %s\" % SID.shape)\n",
    "        \n",
    "        # Add bias\n",
    "        y = X + self.bias_scale * tf.gather(self.bias, SID[:,0]-1, axis=0)\n",
    "        \n",
    "        # Add a loss on the means in order to force them to become zeros\n",
    "        if self.mean_reg_rate > 0.0:\n",
    "            # Calculate the mean of all biases (on each dimension)\n",
    "            bias_means = tf.reduce_mean(self.bias, axis=0)\n",
    "            # MAE of means on all dimensions\n",
    "            self.add_loss( self.mean_reg_rate * tf.reduce_sum(tf.abs(bias_means)) )\n",
    "        \n",
    "        return self.activation(y)\n",
    "        \n",
    "#         if training:    \n",
    "#             # Add biases according to the sid of each instance\n",
    "#             # Note: a corner case is not handeled that if there exist out-of-range sid.\n",
    "#             # y = X + self.bias[tf.cast(SID[:,0]-1, tf.int32),:]\n",
    "#             # y = X + self.bias[ SID[:,0]-1,:]\n",
    "#             y = X + tf.gather(self.bias, SID[:,0]-1, axis=0)\n",
    "#             return self.activation(y)\n",
    "#         else: # If it's not trainig, just output the original X without adding bias\n",
    "#             return self.activation(X_sid[0])\n",
    "    \n",
    "    def compute_output_shape(self, batch_input_shape):\n",
    "        # Note: the same shape as the first input\n",
    "        return batch_input_shape[0]\n",
    "    \n",
    "    def get_config(self):\n",
    "        base_config = super().get_config()\n",
    "        return {**base_config, \n",
    "                \"num_subject\": self.num_subject,\n",
    "                \"bias_scale\": self.bias_scale,\n",
    "                \"mean_reg_rate\": self.mean_reg_rate,\n",
    "                \"activation\": keras.activations.serialize(self.activation)}"
   ]
  },
  {
   "cell_type": "code",
   "execution_count": 78,
   "id": "8d90e89f",
   "metadata": {},
   "outputs": [],
   "source": [
    "# Create a custom layer for estimating linear transform for each subject\n",
    "# We only assume 1D lear transform on each input dimension separately. (assume value on each dimension are independent to others.)\n",
    "# 1D linear transform: yi = wi * xi + bi\n",
    "class SubjectLinearTransform1D(keras.layers.Layer):\n",
    "    def __init__(self, num_subject, bias_scale=1.0, weight_mean_reg_rate=1.0, bias_mean_reg_rate=1.0, activation=None, **kwargs):\n",
    "        super().__init__(**kwargs)\n",
    "        self.num_subject = num_subject\n",
    "        self.bias_scale = bias_scale\n",
    "        self.weight_mean_reg_rate = weight_mean_reg_rate if weight_mean_reg_rate >= 0.0 else 0.0\n",
    "        self.bias_mean_reg_rate = bias_mean_reg_rate if bias_mean_reg_rate >= 0.0 else 0.0\n",
    "        #\n",
    "        self.X_shape = None\n",
    "        self.activation = keras.activations.get(activation)\n",
    "        \n",
    "    def build(self, batch_input_shape):\n",
    "        self.X_shape = batch_input_shape[0]\n",
    "        # Initiate a trainable vector as the bias for X\n",
    "        \"\"\"\n",
    "        bias: (num_subject, X_shape[1], X_shape[2], ...)\n",
    "        \"\"\"\n",
    "        self.weight = self.add_weight(name=\"weight\", \n",
    "                                    shape=([self.num_subject] + self.X_shape[1:]), \n",
    "                                    initializer=\"ones\")\n",
    "        self.bias = self.add_weight(name=\"bias\", \n",
    "                                    shape=([self.num_subject] + self.X_shape[1:]), \n",
    "                                    initializer=\"zeros\")\n",
    "        super().build(batch_input_shape) # must be at the end\n",
    "        \n",
    "    def get_bias(self, sid):\n",
    "        '''\n",
    "        A helper function for retriving the bias according to the given sid.\n",
    "        Note: sid starts from 1.\n",
    "        Note2: this is the bias added to X, which are scaled by self.bias_scale\n",
    "        '''\n",
    "        if sid > self.num_subject or sid <= 0: # Out of bound, index not in range\n",
    "            return tf.zeros(self.X_shape[1:])\n",
    "        else:\n",
    "            return self.bias_scale * self.bias[tf.cast(sid-1, tf.int32),:]\n",
    "        \n",
    "    def get_scaled_biases_np(self):\n",
    "        return self.bias_scale * self.bias.numpy()\n",
    "    \n",
    "    def get_weights_np(self):\n",
    "        return self.weight.numpy()\n",
    "        \n",
    "    def call(self, X_sid, training=None):\n",
    "        '''\n",
    "        X_sid = [X, sid]\n",
    "        Input shape:  X: (batch, ...), sid: (batch, 1)\n",
    "        Output shape: (batch, ...)\n",
    "        '''\n",
    "        X, SID = X_sid\n",
    "        X_shape = X.shape\n",
    "        print(\"X.shape = %s\" % X.shape)\n",
    "        print(\"SID.shape = %s\" % SID.shape)\n",
    "        \n",
    "        # Element-wise multiplication of weights and addition of biases\n",
    "        y = tf.gather(self.weight, SID[:,0]-1, axis=0) * X + self.bias_scale * tf.gather(self.bias, SID[:,0]-1, axis=0)\n",
    "        \n",
    "        # Add a loss on the means in order to force them to become zeros\n",
    "        if self.weight_mean_reg_rate > 0.0 or self.bias_mean_reg_rate > 0.0:\n",
    "            # Calculate the mean of all weights and biases (on each dimension separately)\n",
    "            weight_means = tf.reduce_mean(self.weight, axis=0)\n",
    "            bias_means = tf.reduce_mean(self.bias, axis=0)\n",
    "            # MAE of means on all dimensions\n",
    "            self.add_loss( self.weight_mean_reg_rate * tf.reduce_sum(tf.abs(weight_means - 1.0)) ) # Should close to 1.0\n",
    "            self.add_loss( self.bias_mean_reg_rate * tf.reduce_sum(tf.abs(bias_means)) )\n",
    "        \n",
    "        return self.activation(y)\n",
    "    \n",
    "    def compute_output_shape(self, batch_input_shape):\n",
    "        # Note: the same shape as the first input\n",
    "        return batch_input_shape[0]\n",
    "    \n",
    "    def get_config(self):\n",
    "        base_config = super().get_config()\n",
    "        return {**base_config, \n",
    "                \"num_subject\": self.num_subject,\n",
    "                \"bias_scale\": self.bias_scale,\n",
    "                \"weight_mean_reg_rate\": self.weight_mean_reg_rate,\n",
    "                \"bias_mean_reg_rate\": self.bias_mean_reg_rate,\n",
    "                \"activation\": keras.activations.serialize(self.activation)}"
   ]
  },
  {
   "cell_type": "markdown",
   "id": "00220bd0",
   "metadata": {},
   "source": [
    "Number of subjects"
   ]
  },
  {
   "cell_type": "code",
   "execution_count": 79,
   "id": "fa925d83",
   "metadata": {},
   "outputs": [],
   "source": [
    "# Number of subjects\n",
    "num_subject = multiout_type"
   ]
  },
  {
   "cell_type": "markdown",
   "id": "37e02154",
   "metadata": {},
   "source": [
    "Build two models"
   ]
  },
  {
   "cell_type": "code",
   "execution_count": 80,
   "id": "05766d44",
   "metadata": {},
   "outputs": [
    {
     "name": "stdout",
     "output_type": "stream",
     "text": [
      "X.shape = (None, 1)\n",
      "gauss_grid.shape = (None, 5)\n",
      "X.shape = (None, 1)\n",
      "SID.shape = (None, 1)\n",
      "WARNING:tensorflow:From /home/benson516/GazeDemo/gaze_env/lib/python3.8/site-packages/tensorflow/python/ops/array_ops.py:5043: calling gather (from tensorflow.python.ops.array_ops) with validate_indices is deprecated and will be removed in a future version.\n",
      "Instructions for updating:\n",
      "The `validate_indices` argument has no effect. Indices are always validated on CPU and never validated on GPU.\n"
     ]
    }
   ],
   "source": [
    "inputs = keras.layers.Input(shape=X_train.shape[1:])\n",
    "inputs_sid = keras.layers.Input(shape=(1,), dtype=tf.int32)\n",
    "#\n",
    "z = num2grid(5,x_min=-10, x_max=10, sigma=3.0)(inputs)\n",
    "z = keras.layers.Dense(30, activation=\"relu\")(z)\n",
    "output = keras.layers.Dense(1)(z)\n",
    "# output_biased = SubjectBias(num_subject, bias_scale=10.0, mean_reg_rate=1.0, name=\"bias_est\")([output, inputs_sid])\n",
    "output_biased = SubjectLinearTransform1D(num_subject, bias_scale=10.0, weight_mean_reg_rate=5.0, bias_mean_reg_rate=1.0, name=\"bias_est\")([output, inputs_sid])\n",
    "# Setup models\n",
    "model = keras.Model(inputs=[inputs], outputs=[output]) # pure\n",
    "model_biased = keras.Model(inputs=[inputs, inputs_sid], outputs=[output_biased]) # biased, for training"
   ]
  },
  {
   "cell_type": "code",
   "execution_count": 81,
   "id": "6da7e9b1",
   "metadata": {},
   "outputs": [
    {
     "name": "stderr",
     "output_type": "stream",
     "text": [
      "/home/benson516/GazeDemo/gaze_env/lib/python3.8/site-packages/tensorflow/python/keras/optimizer_v2/optimizer_v2.py:374: UserWarning: The `lr` argument is deprecated, use `learning_rate` instead.\n",
      "  warnings.warn(\n"
     ]
    }
   ],
   "source": [
    "# optimizer = keras.optimizers.SGD(lr=0.001, momentum=0.9)\n",
    "# model.compile(loss=\"mean_squared_error\", optimizer=optimizer)\n",
    "optimizer = keras.optimizers.Adam(lr=0.1)\n",
    "model_biased.compile(loss=\"mean_absolute_error\", optimizer=optimizer)\n",
    "#\n",
    "# model.compile(loss=\"mean_absolute_error\", optimizer=optimizer) # No need to compile this if it's not going to be trained."
   ]
  },
  {
   "cell_type": "code",
   "execution_count": 82,
   "id": "700a6e39",
   "metadata": {
    "scrolled": true
   },
   "outputs": [
    {
     "name": "stdout",
     "output_type": "stream",
     "text": [
      "Epoch 1/100\n",
      "X.shape = (None, 1)\n",
      "gauss_grid.shape = (None, 5)\n",
      "X.shape = (None, 1)\n",
      "SID.shape = (None, 1)\n",
      "X.shape = (None, 1)\n",
      "gauss_grid.shape = (None, 5)\n",
      "X.shape = (None, 1)\n",
      "SID.shape = (None, 1)\n",
      "1/3 [=========>....................] - ETA: 0s - loss: 45.0667X.shape = (None, 1)\n",
      "gauss_grid.shape = (None, 5)\n",
      "X.shape = (None, 1)\n",
      "SID.shape = (None, 1)\n",
      "3/3 [==============================] - 1s 66ms/step - loss: 41.4778 - val_loss: 32.5899\n",
      "Epoch 2/100\n",
      "3/3 [==============================] - 0s 22ms/step - loss: 36.7823 - val_loss: 28.8234\n",
      "Epoch 3/100\n",
      "3/3 [==============================] - 0s 21ms/step - loss: 29.1544 - val_loss: 21.0389\n",
      "Epoch 4/100\n",
      "3/3 [==============================] - 0s 19ms/step - loss: 19.4004 - val_loss: 12.0127\n",
      "Epoch 5/100\n",
      "3/3 [==============================] - 0s 21ms/step - loss: 16.2447 - val_loss: 13.7297\n",
      "Epoch 6/100\n",
      "3/3 [==============================] - 0s 17ms/step - loss: 15.5410 - val_loss: 13.7444\n",
      "Epoch 7/100\n",
      "3/3 [==============================] - 0s 18ms/step - loss: 14.7065 - val_loss: 11.7874\n",
      "Epoch 8/100\n",
      "3/3 [==============================] - 0s 18ms/step - loss: 12.5972 - val_loss: 9.1682\n",
      "Epoch 9/100\n",
      "3/3 [==============================] - 0s 11ms/step - loss: 11.4526 - val_loss: 8.0114\n",
      "Epoch 10/100\n",
      "3/3 [==============================] - 0s 19ms/step - loss: 10.6453 - val_loss: 7.4342\n",
      "Epoch 11/100\n",
      "3/3 [==============================] - 0s 17ms/step - loss: 9.5808 - val_loss: 7.4701\n",
      "Epoch 12/100\n",
      "3/3 [==============================] - 0s 17ms/step - loss: 9.3713 - val_loss: 7.7500\n",
      "Epoch 13/100\n",
      "3/3 [==============================] - 0s 16ms/step - loss: 8.5524 - val_loss: 7.7778\n",
      "Epoch 14/100\n",
      "3/3 [==============================] - 0s 19ms/step - loss: 8.1899 - val_loss: 9.0259\n",
      "Epoch 15/100\n",
      "3/3 [==============================] - 0s 18ms/step - loss: 7.4017 - val_loss: 7.4387\n",
      "Epoch 16/100\n",
      "3/3 [==============================] - 0s 10ms/step - loss: 7.6234 - val_loss: 7.3738\n",
      "Epoch 17/100\n",
      "3/3 [==============================] - 0s 19ms/step - loss: 8.0905 - val_loss: 7.4166\n",
      "Epoch 18/100\n",
      "3/3 [==============================] - 0s 14ms/step - loss: 6.8163 - val_loss: 6.7675\n",
      "Epoch 19/100\n",
      "3/3 [==============================] - 0s 15ms/step - loss: 7.4937 - val_loss: 5.4010\n",
      "Epoch 20/100\n",
      "3/3 [==============================] - 0s 17ms/step - loss: 5.3824 - val_loss: 5.2709\n",
      "Epoch 21/100\n",
      "3/3 [==============================] - 0s 21ms/step - loss: 4.9555 - val_loss: 4.0637\n",
      "Epoch 22/100\n",
      "3/3 [==============================] - 0s 20ms/step - loss: 4.2841 - val_loss: 3.9783\n",
      "Epoch 23/100\n",
      "3/3 [==============================] - 0s 21ms/step - loss: 3.8922 - val_loss: 3.3885\n",
      "Epoch 24/100\n",
      "3/3 [==============================] - 0s 22ms/step - loss: 4.0703 - val_loss: 3.3581\n",
      "Epoch 25/100\n",
      "3/3 [==============================] - 0s 15ms/step - loss: 3.7260 - val_loss: 3.1980\n",
      "Epoch 26/100\n",
      "3/3 [==============================] - 0s 12ms/step - loss: 3.3156 - val_loss: 2.9243\n",
      "Epoch 27/100\n",
      "3/3 [==============================] - 0s 10ms/step - loss: 3.6386 - val_loss: 3.5316\n",
      "Epoch 28/100\n",
      "3/3 [==============================] - 0s 11ms/step - loss: 3.7335 - val_loss: 2.4534\n",
      "Epoch 29/100\n",
      "3/3 [==============================] - 0s 10ms/step - loss: 3.3945 - val_loss: 3.0141\n",
      "Epoch 30/100\n",
      "3/3 [==============================] - 0s 13ms/step - loss: 3.7636 - val_loss: 2.7053\n",
      "Epoch 31/100\n",
      "3/3 [==============================] - 0s 15ms/step - loss: 3.0585 - val_loss: 3.3946\n",
      "Epoch 32/100\n",
      "3/3 [==============================] - 0s 14ms/step - loss: 3.4166 - val_loss: 3.6661\n",
      "Epoch 33/100\n",
      "3/3 [==============================] - 0s 14ms/step - loss: 3.3611 - val_loss: 2.9783\n",
      "Epoch 34/100\n",
      "3/3 [==============================] - 0s 13ms/step - loss: 3.2072 - val_loss: 3.1944\n",
      "Epoch 35/100\n",
      "3/3 [==============================] - 0s 16ms/step - loss: 3.1566 - val_loss: 3.3325\n",
      "Epoch 36/100\n",
      "3/3 [==============================] - 0s 20ms/step - loss: 2.7915 - val_loss: 2.8451\n",
      "Epoch 37/100\n",
      "3/3 [==============================] - 0s 25ms/step - loss: 3.4309 - val_loss: 3.1187\n",
      "Epoch 38/100\n",
      "3/3 [==============================] - 0s 25ms/step - loss: 3.4612 - val_loss: 3.7109\n",
      "Epoch 39/100\n",
      "3/3 [==============================] - 0s 28ms/step - loss: 3.0605 - val_loss: 2.8672\n",
      "Epoch 40/100\n",
      "3/3 [==============================] - 0s 21ms/step - loss: 3.1846 - val_loss: 2.7962\n",
      "Epoch 41/100\n",
      "3/3 [==============================] - 0s 26ms/step - loss: 3.0602 - val_loss: 2.7805\n",
      "Epoch 42/100\n",
      "3/3 [==============================] - 0s 23ms/step - loss: 3.0759 - val_loss: 3.2371\n",
      "Epoch 43/100\n",
      "3/3 [==============================] - 0s 20ms/step - loss: 2.8223 - val_loss: 3.0430\n",
      "Epoch 44/100\n",
      "3/3 [==============================] - 0s 18ms/step - loss: 3.5467 - val_loss: 2.6785\n",
      "Epoch 45/100\n",
      "3/3 [==============================] - 0s 20ms/step - loss: 2.8628 - val_loss: 2.8970\n",
      "Epoch 46/100\n",
      "3/3 [==============================] - 0s 19ms/step - loss: 2.9256 - val_loss: 2.4417\n",
      "Epoch 47/100\n",
      "3/3 [==============================] - 0s 19ms/step - loss: 2.9987 - val_loss: 3.4104\n",
      "Epoch 48/100\n",
      "3/3 [==============================] - 0s 20ms/step - loss: 3.0292 - val_loss: 2.9298\n",
      "Epoch 49/100\n",
      "3/3 [==============================] - 0s 23ms/step - loss: 2.9476 - val_loss: 2.6950\n",
      "Epoch 50/100\n",
      "3/3 [==============================] - 0s 23ms/step - loss: 2.6893 - val_loss: 2.8893\n",
      "Epoch 51/100\n",
      "3/3 [==============================] - 0s 19ms/step - loss: 3.3390 - val_loss: 2.7223\n",
      "Epoch 52/100\n",
      "3/3 [==============================] - 0s 24ms/step - loss: 3.7071 - val_loss: 2.6150\n",
      "Epoch 53/100\n",
      "3/3 [==============================] - 0s 24ms/step - loss: 3.2589 - val_loss: 2.6876\n",
      "Epoch 54/100\n",
      "3/3 [==============================] - 0s 22ms/step - loss: 3.3016 - val_loss: 2.9585\n",
      "Epoch 55/100\n",
      "3/3 [==============================] - 0s 21ms/step - loss: 3.1374 - val_loss: 2.7416\n",
      "Epoch 56/100\n",
      "3/3 [==============================] - 0s 21ms/step - loss: 2.8375 - val_loss: 2.3739\n",
      "Epoch 57/100\n",
      "3/3 [==============================] - 0s 22ms/step - loss: 2.8442 - val_loss: 2.3018\n",
      "Epoch 58/100\n",
      "3/3 [==============================] - 0s 20ms/step - loss: 2.4785 - val_loss: 2.4160\n",
      "Epoch 59/100\n",
      "3/3 [==============================] - 0s 18ms/step - loss: 2.9572 - val_loss: 3.1260\n",
      "Epoch 60/100\n",
      "3/3 [==============================] - 0s 25ms/step - loss: 3.2111 - val_loss: 2.4590\n",
      "Epoch 61/100\n",
      "3/3 [==============================] - 0s 18ms/step - loss: 2.9938 - val_loss: 2.5034\n",
      "Epoch 62/100\n",
      "3/3 [==============================] - 0s 21ms/step - loss: 2.7779 - val_loss: 2.6890\n",
      "Epoch 63/100\n",
      "3/3 [==============================] - 0s 22ms/step - loss: 2.9193 - val_loss: 2.9899\n",
      "Epoch 64/100\n",
      "3/3 [==============================] - 0s 21ms/step - loss: 2.7788 - val_loss: 2.5761\n",
      "Epoch 65/100\n",
      "3/3 [==============================] - 0s 21ms/step - loss: 2.6595 - val_loss: 2.4319\n",
      "Epoch 66/100\n",
      "3/3 [==============================] - 0s 14ms/step - loss: 2.7234 - val_loss: 2.4956\n",
      "Epoch 67/100\n",
      "3/3 [==============================] - 0s 15ms/step - loss: 2.5904 - val_loss: 2.7021\n",
      "Epoch 68/100\n",
      "3/3 [==============================] - 0s 14ms/step - loss: 2.8358 - val_loss: 2.6661\n",
      "Epoch 69/100\n",
      "3/3 [==============================] - 0s 21ms/step - loss: 3.3512 - val_loss: 2.7084\n",
      "Epoch 70/100\n",
      "3/3 [==============================] - 0s 14ms/step - loss: 3.2994 - val_loss: 2.4827\n",
      "Epoch 71/100\n",
      "3/3 [==============================] - 0s 15ms/step - loss: 3.1722 - val_loss: 2.8645\n",
      "Epoch 72/100\n",
      "3/3 [==============================] - 0s 14ms/step - loss: 2.7951 - val_loss: 2.9583\n",
      "Epoch 73/100\n",
      "3/3 [==============================] - 0s 16ms/step - loss: 3.1484 - val_loss: 2.7067\n",
      "Epoch 74/100\n",
      "3/3 [==============================] - 0s 16ms/step - loss: 2.8347 - val_loss: 2.9461\n",
      "Epoch 75/100\n",
      "3/3 [==============================] - 0s 16ms/step - loss: 2.8708 - val_loss: 3.2002\n",
      "Epoch 76/100\n",
      "3/3 [==============================] - 0s 15ms/step - loss: 3.1816 - val_loss: 3.0368\n",
      "Epoch 77/100\n",
      "3/3 [==============================] - 0s 15ms/step - loss: 3.3054 - val_loss: 2.5330\n",
      "Epoch 78/100\n",
      "3/3 [==============================] - 0s 15ms/step - loss: 3.6316 - val_loss: 2.8723\n",
      "Epoch 79/100\n",
      "3/3 [==============================] - 0s 15ms/step - loss: 3.3078 - val_loss: 2.8840\n",
      "Epoch 80/100\n"
     ]
    },
    {
     "name": "stdout",
     "output_type": "stream",
     "text": [
      "3/3 [==============================] - 0s 15ms/step - loss: 3.4328 - val_loss: 3.4896\n",
      "Epoch 81/100\n",
      "3/3 [==============================] - 0s 15ms/step - loss: 3.4288 - val_loss: 3.3214\n",
      "Epoch 82/100\n",
      "3/3 [==============================] - 0s 16ms/step - loss: 3.1781 - val_loss: 2.4960\n",
      "Epoch 83/100\n",
      "3/3 [==============================] - 0s 15ms/step - loss: 2.7494 - val_loss: 2.8251\n",
      "Epoch 84/100\n",
      "3/3 [==============================] - 0s 14ms/step - loss: 3.1638 - val_loss: 2.6202\n",
      "Epoch 85/100\n",
      "3/3 [==============================] - 0s 14ms/step - loss: 3.0061 - val_loss: 2.4344\n",
      "Epoch 86/100\n",
      "3/3 [==============================] - 0s 15ms/step - loss: 2.6594 - val_loss: 2.7699\n",
      "Epoch 87/100\n",
      "3/3 [==============================] - 0s 14ms/step - loss: 3.1783 - val_loss: 2.8301\n",
      "Epoch 88/100\n",
      "3/3 [==============================] - 0s 14ms/step - loss: 3.5109 - val_loss: 2.2789\n",
      "Epoch 89/100\n",
      "3/3 [==============================] - 0s 14ms/step - loss: 2.7204 - val_loss: 2.5915\n",
      "Epoch 90/100\n",
      "3/3 [==============================] - 0s 14ms/step - loss: 2.8742 - val_loss: 2.7557\n",
      "Epoch 91/100\n",
      "3/3 [==============================] - 0s 18ms/step - loss: 2.7691 - val_loss: 3.0395\n",
      "Epoch 92/100\n",
      "3/3 [==============================] - 0s 17ms/step - loss: 2.8179 - val_loss: 2.6695\n",
      "Epoch 93/100\n",
      "3/3 [==============================] - 0s 15ms/step - loss: 2.7759 - val_loss: 2.8088\n",
      "Epoch 94/100\n",
      "3/3 [==============================] - 0s 15ms/step - loss: 3.2797 - val_loss: 2.4854\n",
      "Epoch 95/100\n",
      "3/3 [==============================] - 0s 15ms/step - loss: 2.8784 - val_loss: 2.2808\n",
      "Epoch 96/100\n",
      "3/3 [==============================] - 0s 15ms/step - loss: 2.6893 - val_loss: 2.5038\n",
      "Epoch 97/100\n",
      "3/3 [==============================] - 0s 15ms/step - loss: 2.9306 - val_loss: 2.2703\n",
      "Epoch 98/100\n",
      "3/3 [==============================] - 0s 16ms/step - loss: 3.1200 - val_loss: 3.0751\n",
      "Epoch 99/100\n",
      "3/3 [==============================] - 0s 14ms/step - loss: 3.2279 - val_loss: 2.7509\n",
      "Epoch 100/100\n",
      "3/3 [==============================] - 0s 14ms/step - loss: 3.1503 - val_loss: 2.8572\n"
     ]
    }
   ],
   "source": [
    "history = model_biased.fit([X_train, sid_train], y_train, epochs=100,\n",
    "                    validation_data=([X_valid, sid_valid], y_valid))"
   ]
  },
  {
   "cell_type": "code",
   "execution_count": 83,
   "id": "ca149f05",
   "metadata": {
    "scrolled": false
   },
   "outputs": [
    {
     "name": "stdout",
     "output_type": "stream",
     "text": [
      "Saving figure grid_noBiaseNum_training_curve\n"
     ]
    },
    {
     "data": {
      "image/png": "[encoded data removed]",
      "text/plain": [
       "<Figure size 576x360 with 1 Axes>"
      ]
     },
     "metadata": {
      "needs_background": "light"
     },
     "output_type": "display_data"
    }
   ],
   "source": [
    "import pandas as pd\n",
    "\n",
    "pd.DataFrame(history.history).plot(figsize=(8, 5))\n",
    "plt.grid(True)\n",
    "# plt.gca().set_ylim(0, 1)\n",
    "save_fig(\"grid_noBiaseNum_training_curve\")\n",
    "plt.show()"
   ]
  },
  {
   "cell_type": "markdown",
   "id": "2433c7a5",
   "metadata": {},
   "source": [
    "The pure prediction"
   ]
  },
  {
   "cell_type": "code",
   "execution_count": 84,
   "id": "556ee2c4",
   "metadata": {},
   "outputs": [
    {
     "name": "stdout",
     "output_type": "stream",
     "text": [
      "X.shape = (None, 1)\n",
      "gauss_grid.shape = (None, 5)\n",
      "Saving figure grid_noBaisNum_prediction\n"
     ]
    },
    {
     "data": {
      "image/png": "[encoded data removed]",
      "text/plain": [
       "<Figure size 432x288 with 1 Axes>"
      ]
     },
     "metadata": {
      "needs_background": "light"
     },
     "output_type": "display_data"
    }
   ],
   "source": [
    "draw_points(X_train, y_train, sid_train)\n",
    "draw_func(model.predict, mark='r-', linewidth=2, label=\"Predictions\")\n",
    "draw_normal_func(func_dict)\n",
    "plt.xlabel(\"$x_1$\", fontsize=18)\n",
    "plt.ylabel(\"$y$\", rotation=0, fontsize=18)\n",
    "plt.legend(loc=\"upper left\", fontsize=14)\n",
    "# plt.axis([-3, 3, 0, 10])\n",
    "save_fig(\"grid_noBaisNum_prediction\")\n",
    "plt.show()"
   ]
  },
  {
   "cell_type": "code",
   "execution_count": 85,
   "id": "4d3d77cd",
   "metadata": {},
   "outputs": [
    {
     "name": "stdout",
     "output_type": "stream",
     "text": [
      "y_func.shape = (100, 1)\n",
      "y_gt.shape = (100, 1)\n"
     ]
    },
    {
     "data": {
      "text/plain": [
       "1.5112857785134508"
      ]
     },
     "execution_count": 85,
     "metadata": {},
     "output_type": "execute_result"
    }
   ],
   "source": [
    "get_prediction_error(model.predict, func_dict, name=\"grid-noBiasNum\")"
   ]
  },
  {
   "cell_type": "markdown",
   "id": "b89b2413",
   "metadata": {},
   "source": [
    "### Biased Prediction (according to SID)"
   ]
  },
  {
   "cell_type": "code",
   "execution_count": 86,
   "id": "0893f75e",
   "metadata": {},
   "outputs": [
    {
     "name": "stdout",
     "output_type": "stream",
     "text": [
      "scaled_bias = \n",
      "[[-12.690302]\n",
      " [ 13.081518]]\n",
      "\n",
      "mean_scaled_bias = \n",
      "[0.19560814]\n"
     ]
    }
   ],
   "source": [
    "scaled_bias = model_biased.get_layer(\"bias_est\").get_scaled_biases_np()\n",
    "mean_scaled_bias = np.mean(scaled_bias, axis=0)\n",
    "#\n",
    "print(\"scaled_bias = \\n%s\" % str(scaled_bias))\n",
    "print(\"\\nmean_scaled_bias = \\n%s\" % str(mean_scaled_bias))"
   ]
  },
  {
   "cell_type": "code",
   "execution_count": 87,
   "id": "01a675f7",
   "metadata": {},
   "outputs": [
    {
     "name": "stdout",
     "output_type": "stream",
     "text": [
      "output_scales = \n",
      "[[1.1097918 ]\n",
      " [0.89161944]]\n",
      "\n",
      "mean_scales = \n",
      "[1.0007056]\n"
     ]
    }
   ],
   "source": [
    "try:\n",
    "    output_scales = model_biased.get_layer(\"bias_est\").get_weights_np()\n",
    "    mean_scales = np.mean(output_scales, axis=0)\n",
    "    #\n",
    "    print(\"output_scales = \\n%s\" % str(output_scales))\n",
    "    print(\"\\nmean_scales = \\n%s\" % str(mean_scales))\n",
    "except:\n",
    "    pass"
   ]
  },
  {
   "cell_type": "code",
   "execution_count": 88,
   "id": "16460e63",
   "metadata": {},
   "outputs": [
    {
     "name": "stdout",
     "output_type": "stream",
     "text": [
      "X.shape = (None, 1)\n",
      "gauss_grid.shape = (None, 5)\n",
      "X.shape = (None, 1)\n",
      "SID.shape = (None, 1)\n",
      "Saving figure grid_noBaisNum_perSubjectCurve\n"
     ]
    },
    {
     "data": {
      "image/png": "[encoded data removed]",
      "text/plain": [
       "<Figure size 432x288 with 1 Axes>"
      ]
     },
     "metadata": {
      "needs_background": "light"
     },
     "output_type": "display_data"
    }
   ],
   "source": [
    "def predict_with_biase_sid(X, sid=1):\n",
    "    return model_biased.predict([X, tf.fill( (X.shape[0],1), sid)])\n",
    "\n",
    "draw_points(X_train, y_train, sid_train)\n",
    "#\n",
    "draw_func(model.predict, mark='r-', linewidth=2, label=\"Predictions\")\n",
    "for _idx in range(num_subject):\n",
    "    _sid = _idx + 1\n",
    "    draw_func(lambda X: predict_with_biase_sid(X, _sid), mark='k--', linewidth=1, label=(\"sid=%d\" % _sid))\n",
    "#\n",
    "draw_normal_func(func_dict)\n",
    "plt.xlabel(\"$x_1$\", fontsize=18)\n",
    "plt.ylabel(\"$y$\", rotation=0, fontsize=18)\n",
    "plt.legend(loc=\"upper left\", fontsize=14)\n",
    "# plt.axis([-3, 3, 0, 10])\n",
    "save_fig(\"grid_noBaisNum_perSubjectCurve\")\n",
    "plt.show()"
   ]
  },
  {
   "cell_type": "code",
   "execution_count": null,
   "id": "88fbe2df",
   "metadata": {},
   "outputs": [],
   "source": []
  },
  {
   "cell_type": "markdown",
   "id": "40092303",
   "metadata": {},
   "source": [
    "# Combine Multi-Quantile Redgression with Per-Subject Transform Estimation (grid --> multi-quantile)"
   ]
  },
  {
   "cell_type": "code",
   "execution_count": 89,
   "id": "ba230fb2",
   "metadata": {},
   "outputs": [],
   "source": [
    "# quantile_list = [0.5]\n",
    "# quantile_list = [0.9]\n",
    "# quantile_list = [0.1, 0.9] # Use hidden layer with 30 neurons\n",
    "# quantile_list = [0.05, 0.95]\n",
    "# quantile_list = [0.25, 0.75]\n",
    "# quantile_list = [0.1, 0.5, 0.9]\n",
    "# quantile_list = [0.1, 0.3, 0.7, 0.9]\n",
    "# quantile_list = [0.1, 0.2, 0.3, 0.4, 0.6, 0.7, 0.8, 0.9] # remove 0.5\n",
    "quantile_list = [0.1, 0.2, 0.3, 0.4, 0.5, 0.6, 0.7, 0.8, 0.9] # Should use wider hidden layer (with many neurons) + L1 regularization\n",
    "num_quantile = len(quantile_list)"
   ]
  },
  {
   "cell_type": "code",
   "execution_count": 90,
   "id": "26d0136c",
   "metadata": {},
   "outputs": [],
   "source": [
    "# Number of subjects\n",
    "num_subject = multiout_type"
   ]
  },
  {
   "cell_type": "code",
   "execution_count": 91,
   "id": "7d1cdc96",
   "metadata": {},
   "outputs": [
    {
     "name": "stdout",
     "output_type": "stream",
     "text": [
      "X.shape = (None, 1)\n",
      "gauss_grid.shape = (None, 5)\n",
      "X.shape = (None, 9)\n",
      "SID.shape = (None, 1)\n"
     ]
    }
   ],
   "source": [
    "inputs = keras.layers.Input(shape=X_train.shape[1:])\n",
    "inputs_sid = keras.layers.Input(shape=(1,), dtype=tf.int32)\n",
    "#\n",
    "# z = inputs\n",
    "z = num2grid(5,x_min=-10, x_max=10, sigma=3.0)(inputs) # Convert to grid\n",
    "z = keras.layers.Dense(30, activation=\"relu\")(z)\n",
    "# z = keras.layers.Dense(30, activation=\"relu\")(z)\n",
    "# z = keras.layers.Dense(100, activation=\"relu\", kernel_regularizer=tf.keras.regularizers.l1(0.01))(z)\n",
    "# z = keras.layers.Dense(100, activation=\"relu\", kernel_regularizer=tf.keras.regularizers.l1(1.0))(z)\n",
    "output = keras.layers.Dense(num_quantile)(z)\n",
    "# output_biased = SubjectBias(num_subject, bias_scale=10.0, mean_reg_rate=1.0, name=\"bias_est\")([output, inputs_sid])\n",
    "output_biased = SubjectLinearTransform1D(num_subject, bias_scale=10.0, weight_mean_reg_rate=5.0, bias_mean_reg_rate=1.0, name=\"bias_est\")([output, inputs_sid])\n",
    "# Setup models\n",
    "model = keras.Model(inputs=[inputs], outputs=[output]) # pure\n",
    "model_biased = keras.Model(inputs=[inputs, inputs_sid], outputs=[output_biased]) # biased, for training"
   ]
  },
  {
   "cell_type": "code",
   "execution_count": 92,
   "id": "0769d3b2",
   "metadata": {},
   "outputs": [
    {
     "name": "stderr",
     "output_type": "stream",
     "text": [
      "/home/benson516/GazeDemo/gaze_env/lib/python3.8/site-packages/tensorflow/python/keras/optimizer_v2/optimizer_v2.py:374: UserWarning: The `lr` argument is deprecated, use `learning_rate` instead.\n",
      "  warnings.warn(\n"
     ]
    }
   ],
   "source": [
    "# optimizer = keras.optimizers.SGD(lr=0.1, momentum=0.9)\n",
    "optimizer = keras.optimizers.Adam(lr=0.1)\n",
    "model_biased.compile(loss=pinballLoss_full_fn, optimizer=optimizer)\n",
    "# model.compile(loss=pinballLoss_full_fn, optimizer=optimizer) # No need to compile this if it's not going to be trained."
   ]
  },
  {
   "cell_type": "code",
   "execution_count": 93,
   "id": "9a37c998",
   "metadata": {
    "scrolled": true
   },
   "outputs": [
    {
     "name": "stdout",
     "output_type": "stream",
     "text": [
      "Epoch 1/100\n",
      "X.shape = (None, 1)\n",
      "gauss_grid.shape = (None, 5)\n",
      "X.shape = (None, 9)\n",
      "SID.shape = (None, 1)\n",
      "X.shape = (None, 1)\n",
      "gauss_grid.shape = (None, 5)\n",
      "X.shape = (None, 9)\n",
      "SID.shape = (None, 1)\n",
      "1/3 [=========>....................] - ETA: 2s - loss: 184.2683X.shape = (None, 1)\n",
      "gauss_grid.shape = (None, 5)\n",
      "X.shape = (None, 9)\n",
      "SID.shape = (None, 1)\n",
      "3/3 [==============================] - 1s 72ms/step - loss: 188.0401 - val_loss: 146.3807\n",
      "Epoch 2/100\n",
      "3/3 [==============================] - 0s 13ms/step - loss: 175.3350 - val_loss: 128.1948\n",
      "Epoch 3/100\n",
      "3/3 [==============================] - 0s 15ms/step - loss: 150.8796 - val_loss: 104.9246\n",
      "Epoch 4/100\n",
      "3/3 [==============================] - 0s 16ms/step - loss: 120.6809 - val_loss: 82.1591\n",
      "Epoch 5/100\n",
      "3/3 [==============================] - 0s 14ms/step - loss: 95.6727 - val_loss: 72.5219\n",
      "Epoch 6/100\n",
      "3/3 [==============================] - 0s 20ms/step - loss: 77.1183 - val_loss: 57.0567\n",
      "Epoch 7/100\n",
      "3/3 [==============================] - 0s 26ms/step - loss: 65.9557 - val_loss: 48.6679\n",
      "Epoch 8/100\n",
      "3/3 [==============================] - 0s 22ms/step - loss: 55.3517 - val_loss: 33.3407\n",
      "Epoch 9/100\n",
      "3/3 [==============================] - 0s 22ms/step - loss: 47.7733 - val_loss: 31.4807\n",
      "Epoch 10/100\n",
      "3/3 [==============================] - 0s 24ms/step - loss: 45.7590 - val_loss: 33.8668\n",
      "Epoch 11/100\n",
      "3/3 [==============================] - 0s 19ms/step - loss: 42.9245 - val_loss: 32.0127\n",
      "Epoch 12/100\n",
      "3/3 [==============================] - 0s 14ms/step - loss: 39.7775 - val_loss: 29.5845\n",
      "Epoch 13/100\n",
      "3/3 [==============================] - 0s 15ms/step - loss: 36.2925 - val_loss: 25.0723\n",
      "Epoch 14/100\n",
      "3/3 [==============================] - 0s 18ms/step - loss: 32.9932 - val_loss: 22.5716\n",
      "Epoch 15/100\n",
      "3/3 [==============================] - 0s 33ms/step - loss: 32.1816 - val_loss: 22.7058\n",
      "Epoch 16/100\n",
      "3/3 [==============================] - 0s 25ms/step - loss: 30.6307 - val_loss: 23.3167\n",
      "Epoch 17/100\n",
      "3/3 [==============================] - 0s 31ms/step - loss: 28.7765 - val_loss: 21.8841\n",
      "Epoch 18/100\n",
      "3/3 [==============================] - 0s 30ms/step - loss: 27.5825 - val_loss: 23.1248\n",
      "Epoch 19/100\n",
      "3/3 [==============================] - 0s 25ms/step - loss: 25.6303 - val_loss: 21.0663\n",
      "Epoch 20/100\n",
      "3/3 [==============================] - 0s 19ms/step - loss: 25.8434 - val_loss: 21.1622\n",
      "Epoch 21/100\n",
      "3/3 [==============================] - 0s 21ms/step - loss: 24.5154 - val_loss: 21.8493\n",
      "Epoch 22/100\n",
      "3/3 [==============================] - 0s 32ms/step - loss: 22.0329 - val_loss: 19.4252\n",
      "Epoch 23/100\n",
      "3/3 [==============================] - 0s 16ms/step - loss: 22.4496 - val_loss: 19.0426\n",
      "Epoch 24/100\n",
      "3/3 [==============================] - 0s 19ms/step - loss: 21.0655 - val_loss: 21.0087\n",
      "Epoch 25/100\n",
      "3/3 [==============================] - 0s 21ms/step - loss: 19.4782 - val_loss: 19.1036\n",
      "Epoch 26/100\n",
      "3/3 [==============================] - 0s 22ms/step - loss: 17.5948 - val_loss: 16.8550\n",
      "Epoch 27/100\n",
      "3/3 [==============================] - 0s 24ms/step - loss: 16.8299 - val_loss: 16.2659\n",
      "Epoch 28/100\n",
      "3/3 [==============================] - 0s 29ms/step - loss: 15.1713 - val_loss: 15.6763\n",
      "Epoch 29/100\n",
      "3/3 [==============================] - 0s 26ms/step - loss: 14.3935 - val_loss: 14.0803\n",
      "Epoch 30/100\n",
      "3/3 [==============================] - 0s 16ms/step - loss: 13.9886 - val_loss: 13.9249\n",
      "Epoch 31/100\n",
      "3/3 [==============================] - 0s 8ms/step - loss: 12.8272 - val_loss: 14.2302\n",
      "Epoch 32/100\n",
      "3/3 [==============================] - 0s 15ms/step - loss: 12.9081 - val_loss: 12.6881\n",
      "Epoch 33/100\n",
      "3/3 [==============================] - 0s 11ms/step - loss: 12.0072 - val_loss: 12.7324\n",
      "Epoch 34/100\n",
      "3/3 [==============================] - 0s 15ms/step - loss: 13.3665 - val_loss: 12.5378\n",
      "Epoch 35/100\n",
      "3/3 [==============================] - 0s 12ms/step - loss: 12.3781 - val_loss: 14.0754\n",
      "Epoch 36/100\n",
      "3/3 [==============================] - 0s 13ms/step - loss: 14.8629 - val_loss: 16.1891\n",
      "Epoch 37/100\n",
      "3/3 [==============================] - 0s 22ms/step - loss: 16.2620 - val_loss: 15.6070\n",
      "Epoch 38/100\n",
      "3/3 [==============================] - 0s 17ms/step - loss: 15.0547 - val_loss: 12.7317\n",
      "Epoch 39/100\n",
      "3/3 [==============================] - 0s 24ms/step - loss: 14.6739 - val_loss: 16.0180\n",
      "Epoch 40/100\n",
      "3/3 [==============================] - 0s 23ms/step - loss: 15.6124 - val_loss: 11.1566\n",
      "Epoch 41/100\n",
      "3/3 [==============================] - 0s 19ms/step - loss: 13.4472 - val_loss: 11.4121\n",
      "Epoch 42/100\n",
      "3/3 [==============================] - 0s 14ms/step - loss: 12.2298 - val_loss: 11.4301\n",
      "Epoch 43/100\n",
      "3/3 [==============================] - 0s 12ms/step - loss: 13.4668 - val_loss: 10.2420\n",
      "Epoch 44/100\n",
      "3/3 [==============================] - 0s 14ms/step - loss: 11.3877 - val_loss: 10.1472\n",
      "Epoch 45/100\n",
      "3/3 [==============================] - 0s 13ms/step - loss: 10.8122 - val_loss: 10.6036\n",
      "Epoch 46/100\n",
      "3/3 [==============================] - 0s 15ms/step - loss: 11.4889 - val_loss: 10.6078\n",
      "Epoch 47/100\n",
      "3/3 [==============================] - 0s 15ms/step - loss: 11.4166 - val_loss: 10.2556\n",
      "Epoch 48/100\n",
      "3/3 [==============================] - 0s 17ms/step - loss: 10.9173 - val_loss: 9.9799\n",
      "Epoch 49/100\n",
      "3/3 [==============================] - 0s 18ms/step - loss: 10.2438 - val_loss: 9.7055\n",
      "Epoch 50/100\n",
      "3/3 [==============================] - 0s 15ms/step - loss: 11.1245 - val_loss: 9.7713\n",
      "Epoch 51/100\n",
      "3/3 [==============================] - 0s 18ms/step - loss: 10.3739 - val_loss: 10.8502\n",
      "Epoch 52/100\n",
      "3/3 [==============================] - 0s 17ms/step - loss: 10.1770 - val_loss: 8.9048\n",
      "Epoch 53/100\n",
      "3/3 [==============================] - 0s 16ms/step - loss: 10.3683 - val_loss: 10.0674\n",
      "Epoch 54/100\n",
      "3/3 [==============================] - 0s 15ms/step - loss: 11.9312 - val_loss: 11.8761\n",
      "Epoch 55/100\n",
      "3/3 [==============================] - 0s 16ms/step - loss: 12.3958 - val_loss: 10.2277\n",
      "Epoch 56/100\n",
      "3/3 [==============================] - 0s 18ms/step - loss: 10.9811 - val_loss: 9.7857\n",
      "Epoch 57/100\n",
      "3/3 [==============================] - 0s 15ms/step - loss: 11.4881 - val_loss: 11.4082\n",
      "Epoch 58/100\n",
      "3/3 [==============================] - 0s 16ms/step - loss: 10.7501 - val_loss: 11.3302\n",
      "Epoch 59/100\n",
      "3/3 [==============================] - 0s 15ms/step - loss: 11.8817 - val_loss: 10.1503\n",
      "Epoch 60/100\n",
      "3/3 [==============================] - 0s 16ms/step - loss: 10.5518 - val_loss: 9.2766\n",
      "Epoch 61/100\n",
      "3/3 [==============================] - 0s 14ms/step - loss: 9.7399 - val_loss: 8.8798\n",
      "Epoch 62/100\n",
      "3/3 [==============================] - 0s 15ms/step - loss: 10.0373 - val_loss: 9.0669\n",
      "Epoch 63/100\n",
      "3/3 [==============================] - 0s 13ms/step - loss: 9.5066 - val_loss: 8.3113\n",
      "Epoch 64/100\n",
      "3/3 [==============================] - 0s 13ms/step - loss: 9.4221 - val_loss: 8.6838\n",
      "Epoch 65/100\n",
      "3/3 [==============================] - 0s 13ms/step - loss: 9.6319 - val_loss: 8.9400\n",
      "Epoch 66/100\n",
      "3/3 [==============================] - 0s 16ms/step - loss: 10.5904 - val_loss: 8.9434\n",
      "Epoch 67/100\n",
      "3/3 [==============================] - 0s 15ms/step - loss: 9.4588 - val_loss: 9.2029\n",
      "Epoch 68/100\n",
      "3/3 [==============================] - 0s 14ms/step - loss: 9.8712 - val_loss: 9.8208\n",
      "Epoch 69/100\n",
      "3/3 [==============================] - 0s 14ms/step - loss: 10.3433 - val_loss: 9.1190\n",
      "Epoch 70/100\n",
      "3/3 [==============================] - 0s 12ms/step - loss: 10.5891 - val_loss: 9.7548\n",
      "Epoch 71/100\n",
      "3/3 [==============================] - 0s 14ms/step - loss: 10.1414 - val_loss: 9.2286\n",
      "Epoch 72/100\n",
      "3/3 [==============================] - 0s 15ms/step - loss: 10.0535 - val_loss: 10.1706\n",
      "Epoch 73/100\n",
      "3/3 [==============================] - 0s 18ms/step - loss: 11.2646 - val_loss: 10.6057\n",
      "Epoch 74/100\n",
      "3/3 [==============================] - 0s 15ms/step - loss: 11.4768 - val_loss: 9.3068\n",
      "Epoch 75/100\n",
      "3/3 [==============================] - 0s 14ms/step - loss: 10.2557 - val_loss: 9.4739\n",
      "Epoch 76/100\n",
      "3/3 [==============================] - 0s 13ms/step - loss: 9.9594 - val_loss: 9.0357\n",
      "Epoch 77/100\n",
      "3/3 [==============================] - 0s 14ms/step - loss: 10.5104 - val_loss: 9.7168\n",
      "Epoch 78/100\n",
      "3/3 [==============================] - 0s 13ms/step - loss: 10.7299 - val_loss: 11.9266\n",
      "Epoch 79/100\n"
     ]
    },
    {
     "name": "stdout",
     "output_type": "stream",
     "text": [
      "3/3 [==============================] - 0s 10ms/step - loss: 13.4029 - val_loss: 12.7257\n",
      "Epoch 80/100\n",
      "3/3 [==============================] - 0s 14ms/step - loss: 12.0765 - val_loss: 11.8130\n",
      "Epoch 81/100\n",
      "3/3 [==============================] - 0s 14ms/step - loss: 12.5786 - val_loss: 10.6142\n",
      "Epoch 82/100\n",
      "3/3 [==============================] - 0s 14ms/step - loss: 11.7747 - val_loss: 10.8713\n",
      "Epoch 83/100\n",
      "3/3 [==============================] - 0s 13ms/step - loss: 11.8523 - val_loss: 9.2064\n",
      "Epoch 84/100\n",
      "3/3 [==============================] - 0s 14ms/step - loss: 11.1611 - val_loss: 9.3587\n",
      "Epoch 85/100\n",
      "3/3 [==============================] - 0s 12ms/step - loss: 10.5335 - val_loss: 9.4707\n",
      "Epoch 86/100\n",
      "3/3 [==============================] - 0s 12ms/step - loss: 11.2042 - val_loss: 9.8957\n",
      "Epoch 87/100\n",
      "3/3 [==============================] - 0s 9ms/step - loss: 10.7976 - val_loss: 11.3627\n",
      "Epoch 88/100\n",
      "3/3 [==============================] - 0s 12ms/step - loss: 12.1537 - val_loss: 13.4241\n",
      "Epoch 89/100\n",
      "3/3 [==============================] - 0s 10ms/step - loss: 12.2295 - val_loss: 11.9932\n",
      "Epoch 90/100\n",
      "3/3 [==============================] - 0s 11ms/step - loss: 14.1936 - val_loss: 9.9119\n",
      "Epoch 91/100\n",
      "3/3 [==============================] - 0s 15ms/step - loss: 11.8601 - val_loss: 11.1052\n",
      "Epoch 92/100\n",
      "3/3 [==============================] - 0s 14ms/step - loss: 12.6730 - val_loss: 13.8968\n",
      "Epoch 93/100\n",
      "3/3 [==============================] - 0s 13ms/step - loss: 12.4535 - val_loss: 10.7335\n",
      "Epoch 94/100\n",
      "3/3 [==============================] - 0s 11ms/step - loss: 11.1376 - val_loss: 10.1445\n",
      "Epoch 95/100\n",
      "3/3 [==============================] - 0s 11ms/step - loss: 10.9560 - val_loss: 10.0896\n",
      "Epoch 96/100\n",
      "3/3 [==============================] - 0s 13ms/step - loss: 10.7310 - val_loss: 9.9648\n",
      "Epoch 97/100\n",
      "3/3 [==============================] - 0s 18ms/step - loss: 10.2112 - val_loss: 9.9202\n",
      "Epoch 98/100\n",
      "3/3 [==============================] - 0s 18ms/step - loss: 10.3703 - val_loss: 10.0028\n",
      "Epoch 99/100\n",
      "3/3 [==============================] - 0s 14ms/step - loss: 10.1182 - val_loss: 8.8366\n",
      "Epoch 100/100\n",
      "3/3 [==============================] - 0s 15ms/step - loss: 10.2068 - val_loss: 10.0794\n"
     ]
    }
   ],
   "source": [
    "history = model_biased.fit([X_train, sid_train], y_train, epochs=100,\n",
    "                    validation_data=([X_valid, sid_valid], y_valid))"
   ]
  },
  {
   "cell_type": "code",
   "execution_count": 94,
   "id": "66d04b69",
   "metadata": {},
   "outputs": [
    {
     "name": "stdout",
     "output_type": "stream",
     "text": [
      "Saving figure grid_noBiasQuantile_training_curve\n"
     ]
    },
    {
     "data": {
      "image/png": "[encoded data removed]",
      "text/plain": [
       "<Figure size 576x360 with 1 Axes>"
      ]
     },
     "metadata": {
      "needs_background": "light"
     },
     "output_type": "display_data"
    }
   ],
   "source": [
    "import pandas as pd\n",
    "\n",
    "pd.DataFrame(history.history).plot(figsize=(8, 5))\n",
    "plt.grid(True)\n",
    "# plt.gca().set_ylim(0, 1)\n",
    "save_fig(\"grid_noBiasQuantile_training_curve\")\n",
    "plt.show()"
   ]
  },
  {
   "cell_type": "markdown",
   "id": "9e1f1c9b",
   "metadata": {},
   "source": [
    "### Draw the \"pure\" mean prediction curve averaged from all quantile predictions."
   ]
  },
  {
   "cell_type": "code",
   "execution_count": 95,
   "id": "2f62afb2",
   "metadata": {},
   "outputs": [
    {
     "name": "stdout",
     "output_type": "stream",
     "text": [
      "X.shape = (None, 1)\n",
      "gauss_grid.shape = (None, 5)\n",
      "Saving figure grid_noBiaseQuantile_prediction\n"
     ]
    },
    {
     "data": {
      "image/png": "[encoded data removed]",
      "text/plain": [
       "<Figure size 432x288 with 1 Axes>"
      ]
     },
     "metadata": {
      "needs_background": "light"
     },
     "output_type": "display_data"
    }
   ],
   "source": [
    "# plt.plot(X_train, y_train, \"b.\")\n",
    "draw_points(X_train, y_train, sid_train)\n",
    "draw_func((lambda X: np.average(model.predict(X), axis=-1) ), mark='r-', linewidth=2, label=\"Predictions\")\n",
    "draw_normal_func(func_dict)\n",
    "plt.xlabel(\"$x_1$\", fontsize=18)\n",
    "plt.ylabel(\"$y$\", rotation=0, fontsize=18)\n",
    "plt.legend(loc=\"upper left\", fontsize=14)\n",
    "# plt.axis([-3, 3, 0, 10])\n",
    "save_fig(\"grid_noBiaseQuantile_prediction\")\n",
    "plt.show()"
   ]
  },
  {
   "cell_type": "code",
   "execution_count": 96,
   "id": "4ffc0f23",
   "metadata": {},
   "outputs": [
    {
     "name": "stdout",
     "output_type": "stream",
     "text": [
      "y_func.shape = (100, 1)\n",
      "y_gt.shape = (100, 1)\n"
     ]
    },
    {
     "data": {
      "text/plain": [
       "1.4155168063570323"
      ]
     },
     "execution_count": 96,
     "metadata": {},
     "output_type": "execute_result"
    }
   ],
   "source": [
    "get_prediction_error((lambda X: np.average(model.predict(X), axis=-1) ), func_dict, name=\"grid-noBiaseQuantileR\")"
   ]
  },
  {
   "cell_type": "markdown",
   "id": "a213fbdb",
   "metadata": {},
   "source": [
    "### Draw all \"pure\" quantile prediction"
   ]
  },
  {
   "cell_type": "code",
   "execution_count": 97,
   "id": "ff824ca7",
   "metadata": {},
   "outputs": [
    {
     "name": "stdout",
     "output_type": "stream",
     "text": [
      "Saving figure grid_noBiaseQuantile_all_pure_quantiles\n"
     ]
    },
    {
     "data": {
      "image/png": "[encoded data removed]",
      "text/plain": [
       "<Figure size 432x288 with 1 Axes>"
      ]
     },
     "metadata": {
      "needs_background": "light"
     },
     "output_type": "display_data"
    }
   ],
   "source": [
    "# plt.plot(X_train, y_train, \"b.\")\n",
    "draw_points(X_train, y_train, sid_train)\n",
    "draw_func((lambda X: np.average(model.predict(X), axis=-1) ), mark='r-', linewidth=2, label=\"Predictions\")\n",
    "for _idx, _tau in enumerate(quantile_list):\n",
    "    draw_func((lambda X: model.predict(X)[:,_idx] ), mark='k--', linewidth=1, label=\"$y_{%d}$\" % (_tau*100))\n",
    "draw_normal_func(func_dict)\n",
    "plt.xlabel(\"$x_1$\", fontsize=18)\n",
    "plt.ylabel(\"$y$\", rotation=0, fontsize=18)\n",
    "plt.legend(loc=\"upper left\", fontsize=14)\n",
    "# plt.axis([-3, 3, 0, 10])\n",
    "save_fig(\"grid_noBiaseQuantile_all_pure_quantiles\")\n",
    "plt.show()"
   ]
  },
  {
   "cell_type": "markdown",
   "id": "11c7ec73",
   "metadata": {},
   "source": [
    "### Estimated Biases and Scales (according to SID)"
   ]
  },
  {
   "cell_type": "code",
   "execution_count": 98,
   "id": "9a79c04b",
   "metadata": {},
   "outputs": [
    {
     "name": "stdout",
     "output_type": "stream",
     "text": [
      "scaled_bias = \n",
      "[[-11.187553 -11.508215 -10.989746 -11.682645 -12.082657 -12.570201\n",
      "  -12.70623  -13.149479 -13.595062]\n",
      " [ 11.251141  11.191023  11.800471  11.891731  12.445935  12.600413\n",
      "   12.798079  13.022298  13.177203]]\n",
      "\n",
      "mean_scaled_bias = \n",
      "[ 0.06358719 -0.31719208  0.8107252   0.20908642  0.3632784   0.0302124\n",
      "  0.09184837 -0.12718105 -0.41785908]\n"
     ]
    }
   ],
   "source": [
    "scaled_bias = model_biased.get_layer(\"bias_est\").get_scaled_biases_np()\n",
    "mean_scaled_bias = np.sum(scaled_bias, axis=0)\n",
    "#\n",
    "print(\"scaled_bias = \\n%s\" % str(scaled_bias))\n",
    "print(\"\\nmean_scaled_bias = \\n%s\" % str(mean_scaled_bias))"
   ]
  },
  {
   "cell_type": "code",
   "execution_count": 99,
   "id": "ef5bb592",
   "metadata": {},
   "outputs": [
    {
     "name": "stdout",
     "output_type": "stream",
     "text": [
      "output_scales = \n",
      "[[1.1138391  1.1167997  1.1451474  1.125489   1.1386727  1.148972\n",
      "  1.1445696  1.1491972  1.1564622 ]\n",
      " [0.867191   0.90146935 0.88402706 0.9080709  0.8757     0.86269903\n",
      "  0.8497702  0.8720646  0.82909524]]\n",
      "\n",
      "mean_scales = \n",
      "[0.9905151 1.0091345 1.0145873 1.0167799 1.0071864 1.0058355 0.9971699\n",
      " 1.0106308 0.9927787]\n"
     ]
    }
   ],
   "source": [
    "try:\n",
    "    output_scales = model_biased.get_layer(\"bias_est\").get_weights_np()\n",
    "    mean_scales = np.mean(output_scales, axis=0)\n",
    "    #\n",
    "    print(\"output_scales = \\n%s\" % str(output_scales))\n",
    "    print(\"\\nmean_scales = \\n%s\" % str(mean_scales))\n",
    "except:\n",
    "    pass"
   ]
  },
  {
   "cell_type": "markdown",
   "id": "c493d1c8",
   "metadata": {},
   "source": [
    "### Plotting of mean quantiles for each subject"
   ]
  },
  {
   "cell_type": "code",
   "execution_count": 100,
   "id": "3c2bd240",
   "metadata": {},
   "outputs": [
    {
     "name": "stdout",
     "output_type": "stream",
     "text": [
      "X.shape = (None, 1)\n",
      "gauss_grid.shape = (None, 5)\n",
      "X.shape = (None, 9)\n",
      "SID.shape = (None, 1)\n",
      "Saving figure grid_noBaisNum_perSubjectCurve\n"
     ]
    },
    {
     "data": {
      "image/png": "[encoded data removed]",
      "text/plain": [
       "<Figure size 432x288 with 1 Axes>"
      ]
     },
     "metadata": {
      "needs_background": "light"
     },
     "output_type": "display_data"
    }
   ],
   "source": [
    "def predict_with_biase_sid(X, sid=1):\n",
    "    return np.average( model_biased.predict([X, tf.fill( (X.shape[0],1), sid)]), axis=1)\n",
    "\n",
    "draw_points(X_train, y_train, sid_train)\n",
    "#\n",
    "draw_func((lambda X: np.average(model.predict(X), axis=-1) ), mark='r-', linewidth=2, label=\"Predictions\")\n",
    "for _idx in range(num_subject):\n",
    "    _sid = _idx + 1\n",
    "    draw_func(lambda X: predict_with_biase_sid(X, _sid), mark='k--', linewidth=1, label=(\"sid=%d\" % _sid))\n",
    "#\n",
    "draw_normal_func(func_dict)\n",
    "plt.xlabel(\"$x_1$\", fontsize=18)\n",
    "plt.ylabel(\"$y$\", rotation=0, fontsize=18)\n",
    "plt.legend(loc=\"upper left\", fontsize=14)\n",
    "# plt.axis([-3, 3, 0, 10])\n",
    "save_fig(\"grid_noBaisNum_perSubjectCurve\")\n",
    "plt.show()"
   ]
  },
  {
   "cell_type": "markdown",
   "id": "6f1b070e",
   "metadata": {},
   "source": [
    "# Train with GAN"
   ]
  },
  {
   "cell_type": "code",
   "execution_count": 101,
   "id": "00b87d5e",
   "metadata": {},
   "outputs": [],
   "source": [
    "# model = keras.models.Sequential([\n",
    "#     num2grid(5,x_min=-10, x_max=10, sigma=3.0, input_shape=X_train.shape[1:]),\n",
    "#     keras.layers.Dense(30, activation=\"relu\"),\n",
    "# #     keras.layers.Dense(100, activation=\"relu\", kernel_regularizer=tf.keras.regularizers.l1(0.01)),\n",
    "# #     keras.layers.Dense(30, activation=keras.layers.LeakyReLU(alpha=0.2) ),\n",
    "# #     keras.layers.Dense(30, activation=\"selu\"),\n",
    "# #     keras.layers.Dense(30, activation=\"relu\"),\n",
    "#     keras.layers.Dense(1)\n",
    "# ])"
   ]
  },
  {
   "cell_type": "code",
   "execution_count": 102,
   "id": "198862ab",
   "metadata": {},
   "outputs": [],
   "source": [
    "# '''\n",
    "#   x   ----generator----> (x,y) \n",
    "# (x,y) --discriminator--> Real/Fake\n",
    "# '''\n",
    "# x_size = 1\n",
    "# y_size = 1\n",
    "\n",
    "# # x --> (x,y)\n",
    "# inputs = keras.layers.Input(shape=(x_size,))\n",
    "# output = model(inputs)\n",
    "# output_cat = tf.concat([inputs, output], 1)\n",
    "# generator = keras.Model(inputs=[inputs], outputs=[output_cat])\n",
    "# # (x,y) --> Real/Fake\n",
    "# discriminator = keras.models.Sequential([\n",
    "#     keras.layers.Dense(30, activation=\"selu\", input_shape=((x_size+y_size),)),\n",
    "#     keras.layers.Dense(30, activation=\"selu\"),\n",
    "#     keras.layers.Dense(1, activation=\"sigmoid\")\n",
    "# ])\n",
    "# gan = keras.models.Sequential([generator, discriminator])"
   ]
  },
  {
   "cell_type": "code",
   "execution_count": 103,
   "id": "f9f64c02",
   "metadata": {},
   "outputs": [],
   "source": [
    "# # Compile the models\n",
    "# #---------------------------------#\n",
    "# optimizer = keras.optimizers.Adam(lr=0.1)\n",
    "# # Discriminator\n",
    "# # discriminator.compile(loss=\"binary_crossentropy\", optimizer=\"rmsprop\")\n",
    "# discriminator.compile(loss=\"binary_crossentropy\", optimizer=optimizer)\n",
    "# # GAN model\n",
    "# discriminator.trainable = False\n",
    "# # gan.compile(loss=\"binary_crossentropy\", optimizer=\"rmsprop\")\n",
    "# gan.compile(loss=\"binary_crossentropy\", optimizer=optimizer)"
   ]
  },
  {
   "cell_type": "code",
   "execution_count": 104,
   "id": "9bf9b4a2",
   "metadata": {},
   "outputs": [],
   "source": [
    "# # dataset\n",
    "# batch_size = 32\n",
    "# dataset = tf.data.Dataset.from_tensor_slices( tf.cast(tf.concat([X_train, y_train], axis=1), tf.float32) ).shuffle(1000)\n",
    "# dataset = dataset.batch(batch_size, drop_remainder=True).prefetch(1)"
   ]
  },
  {
   "cell_type": "code",
   "execution_count": 105,
   "id": "7b061d90",
   "metadata": {},
   "outputs": [],
   "source": [
    "# # Custom training loop\n",
    "# def train_gan(gan, dataset, batch_size, x_size, n_epochs=100):\n",
    "#     generator, discriminator = gan.layers\n",
    "#     for epoch in range(n_epochs):\n",
    "#         print(\"--- epoch #%d\" % epoch)\n",
    "#         for XY_batch in dataset:\n",
    "#             # phase 1 - training the discriminator\n",
    "#             noise = tf.random.normal(shape=[batch_size, x_size])\n",
    "#             generated_XY = generator(noise)\n",
    "#             X_fake_and_real = tf.concat([generated_XY, XY_batch], axis=0)\n",
    "#             y1 = tf.constant([[0.]] * batch_size + [[1.]] * batch_size)\n",
    "#             discriminator.trainable = True\n",
    "#             discriminator.train_on_batch(X_fake_and_real, y1)\n",
    "#             # phase 2 - training the generator\n",
    "#             noise = tf.random.normal(shape=[batch_size, x_size])\n",
    "#             y2 = tf.constant([[1.]] * batch_size)\n",
    "#             discriminator.trainable = False\n",
    "#             gan.train_on_batch(noise, y2)"
   ]
  },
  {
   "cell_type": "code",
   "execution_count": 106,
   "id": "79ac8ef1",
   "metadata": {},
   "outputs": [],
   "source": [
    "# train_gan(gan, dataset, batch_size, x_size, n_epochs=100)"
   ]
  },
  {
   "cell_type": "code",
   "execution_count": 107,
   "id": "7a4ef5e9",
   "metadata": {},
   "outputs": [],
   "source": [
    "# # plt.plot(X_train, y_train, \"b.\")\n",
    "# draw_points(X_train, y_train, sid_train)\n",
    "# draw_func((lambda X: np.average(model.predict(X), axis=-1) ), mark='r-', linewidth=2, label=\"Predictions\")\n",
    "# draw_normal_func(func_dict)\n",
    "# plt.xlabel(\"$x_1$\", fontsize=18)\n",
    "# plt.ylabel(\"$y$\", rotation=0, fontsize=18)\n",
    "# plt.legend(loc=\"upper left\", fontsize=14)\n",
    "# # plt.axis([-3, 3, 0, 10])\n",
    "# save_fig(\"GAN\")\n",
    "# plt.show()"
   ]
  },
  {
   "cell_type": "markdown",
   "id": "82ec4fc4",
   "metadata": {},
   "source": [
    "# Summary"
   ]
  },
  {
   "cell_type": "code",
   "execution_count": 108,
   "id": "2d764d70",
   "metadata": {},
   "outputs": [
    {
     "name": "stdout",
     "output_type": "stream",
     "text": [
      "num-num: 5.452482\n",
      "grid-num: 4.030776\n",
      "grid-rbc: 3.480153\n",
      "grid-quantileR: 2.568119\n",
      "grid-oneGaussian: 3.504558\n",
      "grid-noBiasNum: 1.511286\n",
      "grid-noBiaseQuantileR: 1.415517\n",
      "\n"
     ]
    }
   ],
   "source": [
    "results = print_all_prediction_error()"
   ]
  },
  {
   "cell_type": "code",
   "execution_count": 109,
   "id": "9f01e530",
   "metadata": {},
   "outputs": [
    {
     "name": "stdout",
     "output_type": "stream",
     "text": [
      "Saving all prediction errors to [./images/regression_test_2/prediction_errors.txt].\n"
     ]
    },
    {
     "data": {
      "text/plain": [
       "True"
      ]
     },
     "execution_count": 109,
     "metadata": {},
     "output_type": "execute_result"
    }
   ],
   "source": [
    "save_prediction_errors()"
   ]
  },
  {
   "cell_type": "code",
   "execution_count": null,
   "id": "0c3bdf42",
   "metadata": {},
   "outputs": [],
   "source": []
  },
  {
   "cell_type": "code",
   "execution_count": null,
   "id": "a5e6a55a",
   "metadata": {},
   "outputs": [],
   "source": []
  },
  {
   "cell_type": "code",
   "execution_count": null,
   "id": "1838a588",
   "metadata": {},
   "outputs": [],
   "source": []
  },
  {
   "cell_type": "code",
   "execution_count": null,
   "id": "2f94dffa",
   "metadata": {},
   "outputs": [],
   "source": []
  }
 ],
 "metadata": {
  "kernelspec": {
   "display_name": "Python 3 (ipykernel)",
   "language": "python",
   "name": "python3"
  },
  "language_info": {
   "codemirror_mode": {
    "name": "ipython",
    "version": 3
   },
   "file_extension": ".py",
   "mimetype": "text/x-python",
   "name": "python",
   "nbconvert_exporter": "python",
   "pygments_lexer": "ipython3",
   "version": "3.8.10"
  }
 },
 "nbformat": 4,
 "nbformat_minor": 5
}
