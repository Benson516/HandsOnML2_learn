{
 "cells": [
  {
   "cell_type": "markdown",
   "id": "899fa113",
   "metadata": {},
   "source": [
    "# Regression with Different Output Format under Various Data Conditions\n",
    "\n",
    "In this experience, we test the following output format for regression task under several different data coditions.\n",
    "- Numerical output\n",
    "- Regression as classification (grid-out)\n",
    "\n",
    "The data coditions include:\n",
    "- Sparse (few data)\n",
    "- Grouped\n",
    "  - Biased (parallel data)\n",
    "  - Completely different mode, uncorrelated data (cross)\n",
    "  - Partially diversed (split)"
   ]
  },
  {
   "cell_type": "code",
   "execution_count": 1,
   "id": "625ce7c3",
   "metadata": {},
   "outputs": [],
   "source": [
    "import numpy as np\n",
    "import tensorflow as tf\n",
    "from tensorflow import keras\n",
    "\n",
    "# To plot pretty figures\n",
    "%matplotlib inline\n",
    "import matplotlib as mpl\n",
    "import matplotlib.pyplot as plt\n",
    "mpl.rc('axes', labelsize=14)\n",
    "mpl.rc('xtick', labelsize=12)\n",
    "mpl.rc('ytick', labelsize=12)"
   ]
  },
  {
   "cell_type": "code",
   "execution_count": 2,
   "id": "94e8a077",
   "metadata": {},
   "outputs": [],
   "source": [
    "def draw_func(func_in, x_min=-5, x_max=5, mark='r--', linewidth=1, label='func'):\n",
    "    n_sample = 100\n",
    "    X_func = np.linspace(x_min, x_max, n_sample).reshape(n_sample, 1)\n",
    "    y_func = func_in(X_func)\n",
    "    plt.plot(X_func, y_func, mark, linewidth=linewidth, label=label)"
   ]
  },
  {
   "cell_type": "markdown",
   "id": "c27ffe35",
   "metadata": {},
   "source": [
    "Generate polynomial data"
   ]
  },
  {
   "cell_type": "code",
   "execution_count": 3,
   "id": "ce670ce4",
   "metadata": {},
   "outputs": [],
   "source": [
    "# poly_a1 = 5.0\n",
    "poly_a1 = -10.0 # 5.0\n",
    "def func_0(X): # Reference\n",
    "    return 0.5 * X**3 + 0.5 * X**2 + (poly_a1)*X + 2\n",
    "def func_1(X): # Variation 1: parellel\n",
    "    return 0.5 * X**3 + 0.5 * X**2 + (poly_a1)*X + 30\n",
    "def func_2(X): # Variation 2: cross\n",
    "    return -0.5 * X**3 + 0.5 * X**2 + (poly_a1)*X + 30\n",
    "def func_3(X): # Variation 3: slightly split\n",
    "    return 0.3 * X**3 + 1.0 * X**2 + (poly_a1)*X + 15 \n",
    "def func_4(X): # Sine wave~\n",
    "    return 0.5 * X**3 + 0.5 * X**2 + (poly_a1)*X + 2 + 50.0*np.sin(X)"
   ]
  },
  {
   "cell_type": "code",
   "execution_count": 4,
   "id": "9463bfff",
   "metadata": {},
   "outputs": [],
   "source": [
    "func_dict = dict()\n",
    "func_dict[\"f1\"] = func_0\n",
    "# func_dict[\"f2\"] = func_1\n",
    "# func_dict[\"f2\"] = func_2\n",
    "func_dict[\"f2\"] = func_3\n",
    "# func_dict[\"f2\"] = func_4\n",
    "\n",
    "# Average line\n",
    "func_dict[\"f_avg\"] = ( lambda X: 0.5*func_dict[\"f1\"](X) + 0.5*func_dict[\"f2\"](X) )"
   ]
  },
  {
   "cell_type": "code",
   "execution_count": 5,
   "id": "9bd2136c",
   "metadata": {},
   "outputs": [],
   "source": [
    "def draw_normal_func(func_dict):\n",
    "    draw_func(func_dict[\"f1\"], mark='c:', label=\"f1\")\n",
    "    draw_func(func_dict[\"f2\"], mark='g:', label=\"f2\")\n",
    "    draw_func(func_dict[\"f_avg\"], mark='m--', label=\"f_avg\")"
   ]
  },
  {
   "cell_type": "code",
   "execution_count": 6,
   "id": "63437d0c",
   "metadata": {},
   "outputs": [
    {
     "name": "stdout",
     "output_type": "stream",
     "text": [
      "(m, m_train) = (100, 80)\n",
      "y_data_pure.shape = (100, 1)\n",
      "y_data.shape = (100, 1)\n"
     ]
    }
   ],
   "source": [
    "np.random.seed(42)\n",
    "m = 100 # 50 # 100 # 200\n",
    "m_train = m // 5 * 4\n",
    "print(\"(m, m_train) = (%d, %d)\" % (m, m_train))\n",
    "\n",
    "# Input\n",
    "is_gapped = True\n",
    "# is_gapped = False\n",
    "#\n",
    "if not is_gapped:\n",
    "    X_data = 10 * np.random.rand(m, 1) - 5 # Note: X is randomly sampled, so we don't need to shuffle the data again\n",
    "else:\n",
    "    X_data = np.concatenate( (np.linspace(-5.0, -2.0, m//2), np.linspace(2.0, 5.0, m-m//2)) )\n",
    "    X_data = X_data.reshape((m,1))\n",
    "    np.random.shuffle(X_data)\n",
    "\n",
    "# Output\n",
    "is_multiout = True\n",
    "# is_multiout = False\n",
    "if is_multiout:\n",
    "    m_h = m // 2\n",
    "    X_data_1 = X_data[:m_h]\n",
    "    X_data_2 = X_data[m_h:]\n",
    "    y_data_pure_1 = func_dict[\"f1\"](X_data_1) \n",
    "    y_data_pure_2 = func_dict[\"f2\"](X_data_2) \n",
    "    y_data_pure = np.vstack([y_data_pure_1, y_data_pure_2])\n",
    "    print(\"y_data_pure.shape = %s\" % str(y_data_pure.shape))\n",
    "else:        \n",
    "    y_data_pure = func_dict[\"f_avg\"](X_data)\n",
    "\n",
    "# Label (+noise)\n",
    "n_stddev = 2.0\n",
    "# n_stddev = 10.0\n",
    "y_data = y_data_pure + np.random.randn(m, 1) * n_stddev\n",
    "print(\"y_data.shape = %s\" % str(y_data.shape))"
   ]
  },
  {
   "cell_type": "code",
   "execution_count": 7,
   "id": "ef588fae",
   "metadata": {},
   "outputs": [],
   "source": [
    "# Method 1: simply slice\n",
    "# X_train = X_data[:m_train]\n",
    "# y_train = y_data[:m_train]\n",
    "# X_valid = X_data[m_train:]\n",
    "# y_valid = y_data[m_train:]\n",
    "\n",
    "# Method 2: shuffle\n",
    "from sklearn.model_selection import train_test_split\n",
    "X_train, X_valid, y_train, y_valid = train_test_split(X_data, y_data, test_size=0.2, random_state=42)"
   ]
  },
  {
   "cell_type": "code",
   "execution_count": 8,
   "id": "3b5d2cfe",
   "metadata": {},
   "outputs": [
    {
     "name": "stdout",
     "output_type": "stream",
     "text": [
      "(80, 1)\n"
     ]
    }
   ],
   "source": [
    "print(X_train.shape)"
   ]
  },
  {
   "cell_type": "code",
   "execution_count": 9,
   "id": "693af3b7",
   "metadata": {},
   "outputs": [
    {
     "data": {
      "image/png": "[encoded data removed]",
      "text/plain": [
       "<Figure size 432x288 with 1 Axes>"
      ]
     },
     "metadata": {
      "needs_background": "light"
     },
     "output_type": "display_data"
    }
   ],
   "source": [
    "plt.plot(X_train, y_train, \"b.\")\n",
    "draw_normal_func(func_dict)\n",
    "plt.xlabel(\"$x_1$\", fontsize=18)\n",
    "plt.ylabel(\"$y$\", rotation=0, fontsize=18)\n",
    "# plt.axis([-3, 3, 0, 10])\n",
    "plt.show()"
   ]
  },
  {
   "cell_type": "code",
   "execution_count": 10,
   "id": "a6853ff1",
   "metadata": {},
   "outputs": [],
   "source": [
    "def get_prediction_error(func_in, func_dict, x_min=-5, x_max=5):\n",
    "    n_sample = 100\n",
    "    X_func = np.linspace(x_min, x_max, n_sample).reshape(n_sample, 1)\n",
    "    y_func = func_in(X_func).reshape((n_sample,1))\n",
    "    y_gt = func_dict[\"f_avg\"](X_func).reshape((n_sample,1))\n",
    "    print(\"y_func.shape = %s\" % str(y_func.shape))\n",
    "    print(\"y_gt.shape = %s\" % str(y_gt.shape))\n",
    "#     return np.sqrt(np.square(y_func - y_gt).mean())\n",
    "    return np.abs(y_func - y_gt).mean()"
   ]
  },
  {
   "cell_type": "markdown",
   "id": "053ecc57",
   "metadata": {},
   "source": [
    "# Simple FCs (number --> number)"
   ]
  },
  {
   "cell_type": "markdown",
   "id": "c66eb67b",
   "metadata": {},
   "source": [
    "Build the regression model"
   ]
  },
  {
   "cell_type": "code",
   "execution_count": 11,
   "id": "9449fc0b",
   "metadata": {},
   "outputs": [
    {
     "name": "stderr",
     "output_type": "stream",
     "text": [
      "/home/benson516/ml/my_env/lib/python3.6/site-packages/keras/optimizer_v2/optimizer_v2.py:356: UserWarning: The `lr` argument is deprecated, use `learning_rate` instead.\n",
      "  \"The `lr` argument is deprecated, use `learning_rate` instead.\")\n"
     ]
    }
   ],
   "source": [
    "model = keras.models.Sequential([\n",
    "    keras.layers.Dense(30, activation=\"relu\", input_shape=X_train.shape[1:]),\n",
    "    keras.layers.Dense(30, activation=\"relu\"),\n",
    "    keras.layers.Dense(1)\n",
    "])\n",
    "\n",
    "optimizer = keras.optimizers.SGD(lr=0.0001, momentum=0.9)\n",
    "model.compile(loss=\"mean_squared_error\", optimizer=optimizer)\n",
    "# optimizer = keras.optimizers.Adam(lr=0.01)\n",
    "# model.compile(loss=\"mean_absolute_error\", optimizer=optimizer)"
   ]
  },
  {
   "cell_type": "code",
   "execution_count": 12,
   "id": "92afd68a",
   "metadata": {
    "scrolled": true
   },
   "outputs": [
    {
     "name": "stdout",
     "output_type": "stream",
     "text": [
      "Epoch 1/100\n",
      "3/3 [==============================] - 1s 230ms/step - loss: 653.0835 - val_loss: 611.6810\n",
      "Epoch 2/100\n",
      "3/3 [==============================] - 0s 72ms/step - loss: 639.5630 - val_loss: 589.5618\n",
      "Epoch 3/100\n",
      "3/3 [==============================] - 0s 63ms/step - loss: 617.4680 - val_loss: 564.1621\n",
      "Epoch 4/100\n",
      "3/3 [==============================] - 0s 103ms/step - loss: 590.5587 - val_loss: 533.4492\n",
      "Epoch 5/100\n",
      "3/3 [==============================] - 0s 71ms/step - loss: 559.0667 - val_loss: 488.5923\n",
      "Epoch 6/100\n",
      "3/3 [==============================] - 0s 110ms/step - loss: 508.5451 - val_loss: 421.5282\n",
      "Epoch 7/100\n",
      "3/3 [==============================] - 0s 100ms/step - loss: 445.0641 - val_loss: 315.7982\n",
      "Epoch 8/100\n",
      "3/3 [==============================] - 0s 104ms/step - loss: 335.4608 - val_loss: 201.9510\n",
      "Epoch 9/100\n",
      "3/3 [==============================] - 0s 135ms/step - loss: 229.9134 - val_loss: 165.2583\n",
      "Epoch 10/100\n",
      "3/3 [==============================] - 0s 96ms/step - loss: 185.1767 - val_loss: 268.7941\n",
      "Epoch 11/100\n",
      "3/3 [==============================] - 0s 111ms/step - loss: 254.8051 - val_loss: 313.6613\n",
      "Epoch 12/100\n",
      "3/3 [==============================] - ETA: 0s - loss: 170.673 - 0s 93ms/step - loss: 256.2872 - val_loss: 218.7379\n",
      "Epoch 13/100\n",
      "3/3 [==============================] - 0s 89ms/step - loss: 201.8143 - val_loss: 162.5860\n",
      "Epoch 14/100\n",
      "3/3 [==============================] - 0s 79ms/step - loss: 199.6302 - val_loss: 163.4933\n",
      "Epoch 15/100\n",
      "3/3 [==============================] - 0s 80ms/step - loss: 207.4243 - val_loss: 164.7360\n",
      "Epoch 16/100\n",
      "3/3 [==============================] - 0s 103ms/step - loss: 206.9994 - val_loss: 160.0311\n",
      "Epoch 17/100\n",
      "3/3 [==============================] - 0s 77ms/step - loss: 199.1265 - val_loss: 161.0226\n",
      "Epoch 18/100\n",
      "3/3 [==============================] - 0s 67ms/step - loss: 188.2682 - val_loss: 170.2596\n",
      "Epoch 19/100\n",
      "3/3 [==============================] - 0s 76ms/step - loss: 191.6877 - val_loss: 184.3957\n",
      "Epoch 20/100\n",
      "3/3 [==============================] - 0s 62ms/step - loss: 195.2946 - val_loss: 183.2142\n",
      "Epoch 21/100\n",
      "3/3 [==============================] - 0s 47ms/step - loss: 193.3623 - val_loss: 170.9795\n",
      "Epoch 22/100\n",
      "3/3 [==============================] - 0s 48ms/step - loss: 190.9198 - val_loss: 160.5257\n",
      "Epoch 23/100\n",
      "3/3 [==============================] - 0s 50ms/step - loss: 190.2807 - val_loss: 157.7787\n",
      "Epoch 24/100\n",
      "3/3 [==============================] - 0s 77ms/step - loss: 191.7085 - val_loss: 158.1295\n",
      "Epoch 25/100\n",
      "3/3 [==============================] - 0s 91ms/step - loss: 190.8959 - val_loss: 157.5132\n",
      "Epoch 26/100\n",
      "3/3 [==============================] - 0s 114ms/step - loss: 190.8526 - val_loss: 158.1120\n",
      "Epoch 27/100\n",
      "3/3 [==============================] - 0s 88ms/step - loss: 192.4535 - val_loss: 165.2652\n",
      "Epoch 28/100\n",
      "3/3 [==============================] - 0s 113ms/step - loss: 188.7144 - val_loss: 168.1783\n",
      "Epoch 29/100\n",
      "3/3 [==============================] - 0s 89ms/step - loss: 190.9416 - val_loss: 172.0642\n",
      "Epoch 30/100\n",
      "3/3 [==============================] - 0s 112ms/step - loss: 189.4757 - val_loss: 164.4767\n",
      "Epoch 31/100\n",
      "3/3 [==============================] - ETA: 0s - loss: 248.878 - 0s 96ms/step - loss: 188.6421 - val_loss: 158.9415\n",
      "Epoch 32/100\n",
      "3/3 [==============================] - 0s 97ms/step - loss: 188.0585 - val_loss: 156.8771\n",
      "Epoch 33/100\n",
      "3/3 [==============================] - 0s 83ms/step - loss: 188.9739 - val_loss: 155.7779\n",
      "Epoch 34/100\n",
      "3/3 [==============================] - 0s 69ms/step - loss: 189.5297 - val_loss: 155.3971\n",
      "Epoch 35/100\n",
      "3/3 [==============================] - 0s 122ms/step - loss: 190.1846 - val_loss: 157.2242\n",
      "Epoch 36/100\n",
      "3/3 [==============================] - 0s 107ms/step - loss: 188.1001 - val_loss: 158.3549\n",
      "Epoch 37/100\n",
      "3/3 [==============================] - 0s 101ms/step - loss: 189.3087 - val_loss: 161.2896\n",
      "Epoch 38/100\n",
      "3/3 [==============================] - 0s 102ms/step - loss: 187.9214 - val_loss: 159.3893\n",
      "Epoch 39/100\n",
      "3/3 [==============================] - 0s 60ms/step - loss: 187.2219 - val_loss: 160.8601\n",
      "Epoch 40/100\n",
      "3/3 [==============================] - 0s 97ms/step - loss: 187.6349 - val_loss: 162.9623\n",
      "Epoch 41/100\n",
      "3/3 [==============================] - 0s 71ms/step - loss: 187.0524 - val_loss: 161.7613\n",
      "Epoch 42/100\n",
      "3/3 [==============================] - 0s 66ms/step - loss: 186.6884 - val_loss: 159.5644\n",
      "Epoch 43/100\n",
      "3/3 [==============================] - 0s 105ms/step - loss: 186.3455 - val_loss: 156.6133\n",
      "Epoch 44/100\n",
      "3/3 [==============================] - 0s 64ms/step - loss: 186.6984 - val_loss: 155.6900\n",
      "Epoch 45/100\n",
      "3/3 [==============================] - 0s 60ms/step - loss: 188.4265 - val_loss: 154.9567\n",
      "Epoch 46/100\n",
      "3/3 [==============================] - 0s 72ms/step - loss: 187.6360 - val_loss: 158.5560\n",
      "Epoch 47/100\n",
      "3/3 [==============================] - 0s 53ms/step - loss: 187.3148 - val_loss: 161.6754\n",
      "Epoch 48/100\n",
      "3/3 [==============================] - 0s 51ms/step - loss: 185.9219 - val_loss: 158.0042\n",
      "Epoch 49/100\n",
      "3/3 [==============================] - 0s 49ms/step - loss: 186.2348 - val_loss: 155.0655\n",
      "Epoch 50/100\n",
      "3/3 [==============================] - 0s 66ms/step - loss: 186.0401 - val_loss: 154.5736\n",
      "Epoch 51/100\n",
      "3/3 [==============================] - 0s 98ms/step - loss: 185.4920 - val_loss: 156.9229\n",
      "Epoch 52/100\n",
      "3/3 [==============================] - 0s 122ms/step - loss: 185.0758 - val_loss: 161.5098\n",
      "Epoch 53/100\n",
      "3/3 [==============================] - 0s 94ms/step - loss: 186.6095 - val_loss: 163.7749\n",
      "Epoch 54/100\n",
      "3/3 [==============================] - 0s 111ms/step - loss: 184.8533 - val_loss: 157.8763\n",
      "Epoch 55/100\n",
      "3/3 [==============================] - 0s 114ms/step - loss: 185.9260 - val_loss: 152.8067\n",
      "Epoch 56/100\n",
      "3/3 [==============================] - 0s 79ms/step - loss: 185.6538 - val_loss: 151.4601\n",
      "Epoch 57/100\n",
      "3/3 [==============================] - 0s 97ms/step - loss: 185.9308 - val_loss: 152.1581\n",
      "Epoch 58/100\n",
      "3/3 [==============================] - 0s 94ms/step - loss: 185.4396 - val_loss: 154.7856\n",
      "Epoch 59/100\n",
      "3/3 [==============================] - 0s 65ms/step - loss: 186.7141 - val_loss: 165.9070\n",
      "Epoch 60/100\n",
      "3/3 [==============================] - 0s 114ms/step - loss: 186.9535 - val_loss: 166.8846\n",
      "Epoch 61/100\n",
      "3/3 [==============================] - 0s 99ms/step - loss: 185.4547 - val_loss: 166.3216\n",
      "Epoch 62/100\n",
      "3/3 [==============================] - 0s 109ms/step - loss: 185.2050 - val_loss: 158.9754\n",
      "Epoch 63/100\n",
      "3/3 [==============================] - 0s 106ms/step - loss: 182.6243 - val_loss: 152.6690\n",
      "Epoch 64/100\n",
      "3/3 [==============================] - 0s 117ms/step - loss: 183.4308 - val_loss: 149.7217\n",
      "Epoch 65/100\n",
      "3/3 [==============================] - 0s 83ms/step - loss: 187.4405 - val_loss: 147.7919\n",
      "Epoch 66/100\n",
      "3/3 [==============================] - 0s 89ms/step - loss: 187.8994 - val_loss: 148.3775\n",
      "Epoch 67/100\n",
      "3/3 [==============================] - 0s 110ms/step - loss: 185.2562 - val_loss: 152.3805\n",
      "Epoch 68/100\n",
      "3/3 [==============================] - 0s 86ms/step - loss: 183.3925 - val_loss: 158.9811\n",
      "Epoch 69/100\n",
      "3/3 [==============================] - 0s 64ms/step - loss: 182.9809 - val_loss: 161.6342\n",
      "Epoch 70/100\n",
      "3/3 [==============================] - 0s 63ms/step - loss: 183.5230 - val_loss: 159.2361\n",
      "Epoch 71/100\n",
      "3/3 [==============================] - 0s 49ms/step - loss: 182.6571 - val_loss: 157.5830\n",
      "Epoch 72/100\n",
      "3/3 [==============================] - 0s 47ms/step - loss: 182.9099 - val_loss: 152.2893\n",
      "Epoch 73/100\n",
      "3/3 [==============================] - 0s 53ms/step - loss: 182.4789 - val_loss: 151.9937\n",
      "Epoch 74/100\n",
      "3/3 [==============================] - 0s 58ms/step - loss: 182.2524 - val_loss: 150.3098\n",
      "Epoch 75/100\n",
      "3/3 [==============================] - 0s 91ms/step - loss: 183.3115 - val_loss: 150.9037\n",
      "Epoch 76/100\n",
      "3/3 [==============================] - 0s 97ms/step - loss: 181.1987 - val_loss: 159.2705\n",
      "Epoch 77/100\n",
      "3/3 [==============================] - 0s 102ms/step - loss: 183.2932 - val_loss: 166.8783\n",
      "Epoch 78/100\n",
      "3/3 [==============================] - 0s 105ms/step - loss: 184.4389 - val_loss: 165.2422\n",
      "Epoch 79/100\n",
      "3/3 [==============================] - ETA: 0s - loss: 146.672 - 0s 90ms/step - loss: 183.7637 - val_loss: 159.7151\n"
     ]
    },
    {
     "name": "stdout",
     "output_type": "stream",
     "text": [
      "Epoch 80/100\n",
      "3/3 [==============================] - ETA: 0s - loss: 162.219 - 0s 84ms/step - loss: 180.7716 - val_loss: 147.5123\n",
      "Epoch 81/100\n",
      "3/3 [==============================] - 0s 83ms/step - loss: 185.8642 - val_loss: 144.5020\n",
      "Epoch 82/100\n",
      "3/3 [==============================] - 0s 104ms/step - loss: 184.3306 - val_loss: 145.6607\n",
      "Epoch 83/100\n",
      "3/3 [==============================] - 0s 97ms/step - loss: 181.7242 - val_loss: 150.6237\n",
      "Epoch 84/100\n",
      "3/3 [==============================] - 0s 76ms/step - loss: 182.5243 - val_loss: 158.5246\n",
      "Epoch 85/100\n",
      "3/3 [==============================] - 0s 81ms/step - loss: 180.6158 - val_loss: 157.0126\n",
      "Epoch 86/100\n",
      "3/3 [==============================] - 0s 107ms/step - loss: 180.0950 - val_loss: 154.4219\n",
      "Epoch 87/100\n",
      "3/3 [==============================] - 0s 65ms/step - loss: 179.9262 - val_loss: 151.3292\n",
      "Epoch 88/100\n",
      "3/3 [==============================] - 0s 93ms/step - loss: 179.2504 - val_loss: 151.8596\n",
      "Epoch 89/100\n",
      "3/3 [==============================] - 0s 111ms/step - loss: 179.5542 - val_loss: 150.0941\n",
      "Epoch 90/100\n",
      "3/3 [==============================] - 0s 102ms/step - loss: 179.9440 - val_loss: 146.9435\n",
      "Epoch 91/100\n",
      "3/3 [==============================] - 0s 73ms/step - loss: 179.6676 - val_loss: 147.2896\n",
      "Epoch 92/100\n",
      "3/3 [==============================] - 0s 87ms/step - loss: 178.7335 - val_loss: 147.9718\n",
      "Epoch 93/100\n",
      "3/3 [==============================] - 0s 110ms/step - loss: 177.8787 - val_loss: 152.0205\n",
      "Epoch 94/100\n",
      "3/3 [==============================] - 0s 85ms/step - loss: 178.8725 - val_loss: 158.6208\n",
      "Epoch 95/100\n",
      "3/3 [==============================] - 0s 64ms/step - loss: 180.4352 - val_loss: 162.7137\n",
      "Epoch 96/100\n",
      "3/3 [==============================] - 0s 68ms/step - loss: 179.9078 - val_loss: 156.0784\n",
      "Epoch 97/100\n",
      "3/3 [==============================] - 0s 53ms/step - loss: 178.0834 - val_loss: 150.5291\n",
      "Epoch 98/100\n",
      "3/3 [==============================] - 0s 51ms/step - loss: 177.3974 - val_loss: 147.0123\n",
      "Epoch 99/100\n",
      "3/3 [==============================] - 0s 53ms/step - loss: 177.2851 - val_loss: 146.7489\n",
      "Epoch 100/100\n",
      "3/3 [==============================] - 0s 42ms/step - loss: 176.9327 - val_loss: 145.2337\n"
     ]
    }
   ],
   "source": [
    "history = model.fit(X_train, y_train, epochs=100,\n",
    "                    validation_data=(X_valid, y_valid))"
   ]
  },
  {
   "cell_type": "markdown",
   "id": "17d6e37a",
   "metadata": {},
   "source": [
    "Plot the result"
   ]
  },
  {
   "cell_type": "code",
   "execution_count": 13,
   "id": "3b066f5c",
   "metadata": {},
   "outputs": [
    {
     "data": {
      "image/png": "[encoded data removed]",
      "text/plain": [
       "<Figure size 576x360 with 1 Axes>"
      ]
     },
     "metadata": {
      "needs_background": "light"
     },
     "output_type": "display_data"
    }
   ],
   "source": [
    "import pandas as pd\n",
    "\n",
    "pd.DataFrame(history.history).plot(figsize=(8, 5))\n",
    "plt.grid(True)\n",
    "# plt.gca().set_ylim(0, 1)\n",
    "plt.show()"
   ]
  },
  {
   "cell_type": "code",
   "execution_count": 14,
   "id": "03f9bb54",
   "metadata": {},
   "outputs": [
    {
     "data": {
      "image/png": "[encoded data removed]",
      "text/plain": [
       "<Figure size 432x288 with 1 Axes>"
      ]
     },
     "metadata": {
      "needs_background": "light"
     },
     "output_type": "display_data"
    }
   ],
   "source": [
    "# X_new = np.linspace(-5, 5, 100).reshape(100, 1)\n",
    "# y_new = model.predict(X_new)\n",
    "#\n",
    "plt.plot(X_train, y_train, \"b.\")\n",
    "# plt.plot(X_new, y_new, \"r-\", linewidth=2, label=\"Predictions\")\n",
    "draw_func(model.predict, mark='r-', linewidth=2, label=\"Predictions\")\n",
    "draw_normal_func(func_dict)\n",
    "plt.xlabel(\"$x_1$\", fontsize=18)\n",
    "plt.ylabel(\"$y$\", rotation=0, fontsize=18)\n",
    "plt.legend(loc=\"upper left\", fontsize=14)\n",
    "# plt.axis([-3, 3, 0, 10])\n",
    "plt.show()"
   ]
  },
  {
   "cell_type": "code",
   "execution_count": 15,
   "id": "bc06d931",
   "metadata": {},
   "outputs": [
    {
     "name": "stdout",
     "output_type": "stream",
     "text": [
      "y_func.shape = (100, 1)\n",
      "y_gt.shape = (100, 1)\n"
     ]
    },
    {
     "data": {
      "text/plain": [
       "5.727735050449952"
      ]
     },
     "execution_count": 15,
     "metadata": {},
     "output_type": "execute_result"
    }
   ],
   "source": [
    "get_prediction_error(model.predict, func_dict)"
   ]
  },
  {
   "cell_type": "markdown",
   "id": "58da8768",
   "metadata": {},
   "source": [
    "# Simulated CNN Feature Map (1-D grids, grid --> number)"
   ]
  },
  {
   "cell_type": "code",
   "execution_count": 16,
   "id": "287b5e4c",
   "metadata": {},
   "outputs": [],
   "source": [
    "class num2grid(keras.layers.Layer):\n",
    "    def __init__(self, units, x_min=-10, x_max=10, sigma=1.0, activation=None, **kwargs):\n",
    "        super().__init__(**kwargs)\n",
    "        self.units = units\n",
    "        self.x_min = x_min\n",
    "        self.x_max = x_max\n",
    "        self.sigma = sigma\n",
    "        self.sigma2 = self.sigma**2\n",
    "        self.activation = keras.activations.get(activation)\n",
    "        \n",
    "    def build(self, batch_input_shape):\n",
    "        #\n",
    "        self.x_grid = np.linspace(self.x_min, self.x_max, self.units, endpoint=True)\n",
    "#         print(\"self.x_grid.shape = %s\" % str(self.x_grid.shape))\n",
    "        #\n",
    "        super().build(batch_input_shape) # must be at the end\n",
    "        \n",
    "    def call(self, X):\n",
    "        '''\n",
    "        Input shape:  (batch, X_chanel)\n",
    "        Output shape: (batch, grid_unit) \n",
    "        \n",
    "        self.x_grid shape: (grid_unit,)\n",
    "        '''\n",
    "        gauss_grid = tf.exp( -(self.x_grid - X)**2 / (2.0*self.sigma2) )\n",
    "        print(\"X.shape = %s\" % str(X.shape))\n",
    "        print(\"gauss_grid.shape = %s\" % str(gauss_grid.shape))\n",
    "        return self.activation(gauss_grid)\n",
    "    \n",
    "    def compute_output_shape(self, batch_input_shape):\n",
    "        return tf.TensorShape(batch_input_shape.as_list()[:-1] + [self.units])\n",
    "    \n",
    "    def get_config(self):\n",
    "        base_config = super().get_config()\n",
    "        return {**base_config, \n",
    "                \"units\": self.units,\n",
    "                \"x_min\": self.x_min,\n",
    "                \"x_max\": self.x_max,\n",
    "                \"sigma\": self.sigma,\n",
    "                \"activation\": keras.activations.serialize(self.activation)}"
   ]
  },
  {
   "cell_type": "code",
   "execution_count": 17,
   "id": "f463c12a",
   "metadata": {},
   "outputs": [
    {
     "name": "stdout",
     "output_type": "stream",
     "text": [
      "X.shape = (None, 1)\n",
      "gauss_grid.shape = (None, 5)\n"
     ]
    },
    {
     "name": "stderr",
     "output_type": "stream",
     "text": [
      "/home/benson516/ml/my_env/lib/python3.6/site-packages/keras/optimizer_v2/optimizer_v2.py:356: UserWarning: The `lr` argument is deprecated, use `learning_rate` instead.\n",
      "  \"The `lr` argument is deprecated, use `learning_rate` instead.\")\n"
     ]
    }
   ],
   "source": [
    "model = keras.models.Sequential([\n",
    "    num2grid(5,x_min=-10, x_max=10, sigma=3.0, input_shape=X_train.shape[1:]),\n",
    "    keras.layers.Dense(30, activation=\"relu\"),\n",
    "#     keras.layers.Dense(30, activation=keras.layers.LeakyReLU(alpha=0.2) ),\n",
    "#     keras.layers.Dense(30, activation=\"selu\"),\n",
    "#     keras.layers.Dense(30, activation=\"relu\"),\n",
    "    keras.layers.Dense(1)\n",
    "])\n",
    "\n",
    "optimizer = keras.optimizers.SGD(lr=0.001, momentum=0.9)\n",
    "model.compile(loss=\"mean_squared_error\", optimizer=optimizer)\n",
    "# optimizer = keras.optimizers.Adam(lr=0.01)\n",
    "# model.compile(loss=\"mean_absolute_error\", optimizer=optimizer)"
   ]
  },
  {
   "cell_type": "code",
   "execution_count": 18,
   "id": "c966ada4",
   "metadata": {
    "scrolled": true
   },
   "outputs": [
    {
     "name": "stdout",
     "output_type": "stream",
     "text": [
      "Epoch 1/100\n",
      "X.shape = (None, 1)\n",
      "gauss_grid.shape = (None, 5)\n",
      "X.shape = (None, 1)\n",
      "gauss_grid.shape = (None, 5)\n",
      "1/3 [=========>....................] - ETA: 1s - loss: 726.3433X.shape = (None, 1)\n",
      "gauss_grid.shape = (None, 5)\n",
      "3/3 [==============================] - 1s 180ms/step - loss: 636.3270 - val_loss: 588.1984\n",
      "Epoch 2/100\n",
      "3/3 [==============================] - 0s 57ms/step - loss: 613.9390 - val_loss: 543.5574\n",
      "Epoch 3/100\n",
      "3/3 [==============================] - 0s 73ms/step - loss: 572.8030 - val_loss: 463.9392\n",
      "Epoch 4/100\n",
      "3/3 [==============================] - 0s 81ms/step - loss: 502.6393 - val_loss: 331.1198\n",
      "Epoch 5/100\n",
      "3/3 [==============================] - 0s 72ms/step - loss: 385.1934 - val_loss: 184.9483\n",
      "Epoch 6/100\n",
      "3/3 [==============================] - 0s 73ms/step - loss: 298.1509 - val_loss: 155.3176\n",
      "Epoch 7/100\n",
      "3/3 [==============================] - 0s 99ms/step - loss: 292.4133 - val_loss: 180.2946\n",
      "Epoch 8/100\n",
      "3/3 [==============================] - 0s 69ms/step - loss: 268.8968 - val_loss: 136.5581\n",
      "Epoch 9/100\n",
      "3/3 [==============================] - 0s 49ms/step - loss: 213.0436 - val_loss: 121.1527\n",
      "Epoch 10/100\n",
      "3/3 [==============================] - 0s 55ms/step - loss: 204.9555 - val_loss: 125.6090\n",
      "Epoch 11/100\n",
      "3/3 [==============================] - 0s 52ms/step - loss: 199.2511 - val_loss: 129.4629\n",
      "Epoch 12/100\n",
      "3/3 [==============================] - 0s 54ms/step - loss: 192.1270 - val_loss: 142.3517\n",
      "Epoch 13/100\n",
      "3/3 [==============================] - 0s 56ms/step - loss: 188.7364 - val_loss: 155.6696\n",
      "Epoch 14/100\n",
      "3/3 [==============================] - 0s 51ms/step - loss: 189.9371 - val_loss: 155.0641\n",
      "Epoch 15/100\n",
      "3/3 [==============================] - 0s 86ms/step - loss: 187.4873 - val_loss: 144.8109\n",
      "Epoch 16/100\n",
      "3/3 [==============================] - 0s 118ms/step - loss: 186.1058 - val_loss: 138.9043\n",
      "Epoch 17/100\n",
      "3/3 [==============================] - 0s 87ms/step - loss: 188.8825 - val_loss: 135.3570\n",
      "Epoch 18/100\n",
      "3/3 [==============================] - 0s 55ms/step - loss: 188.0599 - val_loss: 138.9375\n",
      "Epoch 19/100\n",
      "3/3 [==============================] - 0s 131ms/step - loss: 189.6118 - val_loss: 150.9043\n",
      "Epoch 20/100\n",
      "3/3 [==============================] - 0s 85ms/step - loss: 184.8282 - val_loss: 150.8954\n",
      "Epoch 21/100\n",
      "3/3 [==============================] - 0s 86ms/step - loss: 184.5622 - val_loss: 146.3035\n",
      "Epoch 22/100\n",
      "3/3 [==============================] - 0s 60ms/step - loss: 183.3202 - val_loss: 144.4758\n",
      "Epoch 23/100\n",
      "3/3 [==============================] - 0s 96ms/step - loss: 182.7852 - val_loss: 143.0037\n",
      "Epoch 24/100\n",
      "3/3 [==============================] - 0s 90ms/step - loss: 182.5658 - val_loss: 137.3572\n",
      "Epoch 25/100\n",
      "3/3 [==============================] - 0s 91ms/step - loss: 182.0505 - val_loss: 139.2341\n",
      "Epoch 26/100\n",
      "3/3 [==============================] - 0s 105ms/step - loss: 181.0793 - val_loss: 136.7537\n",
      "Epoch 27/100\n",
      "3/3 [==============================] - ETA: 0s - loss: 129.893 - 0s 88ms/step - loss: 180.6544 - val_loss: 140.3263\n",
      "Epoch 28/100\n",
      "3/3 [==============================] - 0s 114ms/step - loss: 179.1914 - val_loss: 137.2856\n",
      "Epoch 29/100\n",
      "3/3 [==============================] - 0s 110ms/step - loss: 179.5387 - val_loss: 133.9708\n",
      "Epoch 30/100\n",
      "3/3 [==============================] - 0s 95ms/step - loss: 178.1625 - val_loss: 138.0528\n",
      "Epoch 31/100\n",
      "3/3 [==============================] - 0s 97ms/step - loss: 180.5551 - val_loss: 144.4173\n",
      "Epoch 32/100\n",
      "3/3 [==============================] - 0s 112ms/step - loss: 179.2600 - val_loss: 132.8742\n",
      "Epoch 33/100\n",
      "3/3 [==============================] - 0s 91ms/step - loss: 176.3779 - val_loss: 131.9306\n",
      "Epoch 34/100\n",
      "3/3 [==============================] - 0s 89ms/step - loss: 175.7845 - val_loss: 131.7385\n",
      "Epoch 35/100\n",
      "3/3 [==============================] - 0s 52ms/step - loss: 175.1594 - val_loss: 131.2290\n",
      "Epoch 36/100\n",
      "3/3 [==============================] - 0s 63ms/step - loss: 175.4387 - val_loss: 134.1764\n",
      "Epoch 37/100\n",
      "3/3 [==============================] - 0s 58ms/step - loss: 175.1378 - val_loss: 132.6495\n",
      "Epoch 38/100\n",
      "3/3 [==============================] - 0s 48ms/step - loss: 173.1497 - val_loss: 125.1485\n",
      "Epoch 39/100\n",
      "3/3 [==============================] - ETA: 0s - loss: 143.766 - 0s 44ms/step - loss: 174.0980 - val_loss: 123.5120\n",
      "Epoch 40/100\n",
      "3/3 [==============================] - 0s 63ms/step - loss: 173.1611 - val_loss: 125.8812\n",
      "Epoch 41/100\n",
      "3/3 [==============================] - 0s 103ms/step - loss: 171.9109 - val_loss: 137.5012\n",
      "Epoch 42/100\n",
      "3/3 [==============================] - 0s 106ms/step - loss: 171.5531 - val_loss: 141.7415\n",
      "Epoch 43/100\n",
      "3/3 [==============================] - 0s 88ms/step - loss: 169.9826 - val_loss: 133.6936\n",
      "Epoch 44/100\n",
      "3/3 [==============================] - 0s 96ms/step - loss: 168.6594 - val_loss: 125.7030\n",
      "Epoch 45/100\n",
      "3/3 [==============================] - 0s 109ms/step - loss: 172.7749 - val_loss: 118.5511\n",
      "Epoch 46/100\n",
      "3/3 [==============================] - 0s 96ms/step - loss: 173.7147 - val_loss: 118.3676\n",
      "Epoch 47/100\n",
      "3/3 [==============================] - 0s 87ms/step - loss: 172.4205 - val_loss: 123.3423\n",
      "Epoch 48/100\n",
      "3/3 [==============================] - 0s 98ms/step - loss: 165.5231 - val_loss: 130.4707\n",
      "Epoch 49/100\n",
      "3/3 [==============================] - 0s 78ms/step - loss: 164.3348 - val_loss: 140.1562\n",
      "Epoch 50/100\n",
      "3/3 [==============================] - 0s 45ms/step - loss: 165.2711 - val_loss: 145.5012\n",
      "Epoch 51/100\n",
      "3/3 [==============================] - 0s 53ms/step - loss: 165.1212 - val_loss: 140.7714\n",
      "Epoch 52/100\n",
      "3/3 [==============================] - 0s 57ms/step - loss: 163.7520 - val_loss: 134.4046\n",
      "Epoch 53/100\n",
      "3/3 [==============================] - 0s 86ms/step - loss: 161.8561 - val_loss: 132.6907\n",
      "Epoch 54/100\n",
      "3/3 [==============================] - 0s 96ms/step - loss: 161.5295 - val_loss: 135.5848\n",
      "Epoch 55/100\n",
      "3/3 [==============================] - 0s 98ms/step - loss: 159.0609 - val_loss: 129.2913\n",
      "Epoch 56/100\n",
      "3/3 [==============================] - 0s 80ms/step - loss: 158.2048 - val_loss: 126.5186\n",
      "Epoch 57/100\n",
      "3/3 [==============================] - 0s 105ms/step - loss: 157.5127 - val_loss: 124.6885\n",
      "Epoch 58/100\n",
      "3/3 [==============================] - 0s 99ms/step - loss: 156.7788 - val_loss: 124.9055\n",
      "Epoch 59/100\n",
      "3/3 [==============================] - 0s 97ms/step - loss: 155.4413 - val_loss: 128.0793\n",
      "Epoch 60/100\n",
      "3/3 [==============================] - 0s 83ms/step - loss: 153.7305 - val_loss: 135.7509\n",
      "Epoch 61/100\n",
      "3/3 [==============================] - 0s 75ms/step - loss: 153.9986 - val_loss: 148.4126\n",
      "Epoch 62/100\n",
      "3/3 [==============================] - 0s 68ms/step - loss: 155.9347 - val_loss: 149.4516\n",
      "Epoch 63/100\n",
      "3/3 [==============================] - 0s 77ms/step - loss: 155.0942 - val_loss: 136.1966\n",
      "Epoch 64/100\n",
      "3/3 [==============================] - 0s 59ms/step - loss: 152.3358 - val_loss: 130.0912\n",
      "Epoch 65/100\n",
      "3/3 [==============================] - 0s 56ms/step - loss: 150.8790 - val_loss: 131.2964\n",
      "Epoch 66/100\n",
      "3/3 [==============================] - 0s 61ms/step - loss: 150.4055 - val_loss: 138.9721\n",
      "Epoch 67/100\n",
      "3/3 [==============================] - 0s 52ms/step - loss: 149.5965 - val_loss: 136.4886\n",
      "Epoch 68/100\n",
      "3/3 [==============================] - 0s 46ms/step - loss: 148.3102 - val_loss: 131.5123\n",
      "Epoch 69/100\n",
      "3/3 [==============================] - 0s 56ms/step - loss: 147.4389 - val_loss: 130.1683\n",
      "Epoch 70/100\n",
      "3/3 [==============================] - 0s 236ms/step - loss: 147.4201 - val_loss: 131.2464\n",
      "Epoch 71/100\n",
      "3/3 [==============================] - 0s 92ms/step - loss: 146.8352 - val_loss: 129.3983\n",
      "Epoch 72/100\n",
      "3/3 [==============================] - 0s 128ms/step - loss: 145.9828 - val_loss: 129.0330\n",
      "Epoch 73/100\n",
      "3/3 [==============================] - 0s 73ms/step - loss: 144.8751 - val_loss: 126.3181\n",
      "Epoch 74/100\n",
      "3/3 [==============================] - 0s 82ms/step - loss: 145.0435 - val_loss: 124.7731\n",
      "Epoch 75/100\n",
      "3/3 [==============================] - 0s 52ms/step - loss: 144.3281 - val_loss: 124.9723\n",
      "Epoch 76/100\n",
      "3/3 [==============================] - 0s 62ms/step - loss: 143.6823 - val_loss: 129.9725\n",
      "Epoch 77/100\n",
      "3/3 [==============================] - 0s 109ms/step - loss: 143.5453 - val_loss: 128.4630\n"
     ]
    },
    {
     "name": "stdout",
     "output_type": "stream",
     "text": [
      "Epoch 78/100\n",
      "3/3 [==============================] - 0s 98ms/step - loss: 143.6342 - val_loss: 124.0438\n",
      "Epoch 79/100\n",
      "3/3 [==============================] - 0s 97ms/step - loss: 142.9126 - val_loss: 122.1777\n",
      "Epoch 80/100\n",
      "3/3 [==============================] - 0s 85ms/step - loss: 141.9726 - val_loss: 122.5740\n",
      "Epoch 81/100\n",
      "3/3 [==============================] - 0s 101ms/step - loss: 142.1104 - val_loss: 122.9865\n",
      "Epoch 82/100\n",
      "3/3 [==============================] - 0s 92ms/step - loss: 141.7923 - val_loss: 123.3478\n",
      "Epoch 83/100\n",
      "3/3 [==============================] - 0s 101ms/step - loss: 141.3236 - val_loss: 123.7894\n",
      "Epoch 84/100\n",
      "3/3 [==============================] - 0s 78ms/step - loss: 140.8811 - val_loss: 128.3099\n",
      "Epoch 85/100\n",
      "3/3 [==============================] - 0s 96ms/step - loss: 141.1275 - val_loss: 128.6702\n",
      "Epoch 86/100\n",
      "3/3 [==============================] - 0s 87ms/step - loss: 141.0500 - val_loss: 127.8247\n",
      "Epoch 87/100\n",
      "3/3 [==============================] - 0s 95ms/step - loss: 139.3363 - val_loss: 121.4796\n",
      "Epoch 88/100\n",
      "3/3 [==============================] - 0s 123ms/step - loss: 139.6969 - val_loss: 118.0163\n",
      "Epoch 89/100\n",
      "3/3 [==============================] - 0s 84ms/step - loss: 141.5145 - val_loss: 117.1416\n",
      "Epoch 90/100\n",
      "3/3 [==============================] - 0s 87ms/step - loss: 139.9356 - val_loss: 125.2841\n",
      "Epoch 91/100\n",
      "3/3 [==============================] - 0s 63ms/step - loss: 140.4359 - val_loss: 133.7993\n",
      "Epoch 92/100\n",
      "3/3 [==============================] - 0s 70ms/step - loss: 140.3317 - val_loss: 129.2752\n",
      "Epoch 93/100\n",
      "3/3 [==============================] - 0s 56ms/step - loss: 140.2057 - val_loss: 125.1282\n",
      "Epoch 94/100\n",
      "3/3 [==============================] - 0s 76ms/step - loss: 139.0098 - val_loss: 126.4957\n",
      "Epoch 95/100\n",
      "3/3 [==============================] - 0s 55ms/step - loss: 138.0272 - val_loss: 132.7279\n",
      "Epoch 96/100\n",
      "3/3 [==============================] - 0s 68ms/step - loss: 138.7415 - val_loss: 134.6038\n",
      "Epoch 97/100\n",
      "3/3 [==============================] - 0s 104ms/step - loss: 138.7487 - val_loss: 130.8587\n",
      "Epoch 98/100\n",
      "3/3 [==============================] - 0s 96ms/step - loss: 138.5622 - val_loss: 128.3329\n",
      "Epoch 99/100\n",
      "3/3 [==============================] - 0s 82ms/step - loss: 138.5740 - val_loss: 127.0523\n",
      "Epoch 100/100\n",
      "3/3 [==============================] - 0s 94ms/step - loss: 139.0888 - val_loss: 120.8436\n"
     ]
    }
   ],
   "source": [
    "history = model.fit(X_train, y_train, epochs=100,\n",
    "                    validation_data=(X_valid, y_valid))"
   ]
  },
  {
   "cell_type": "code",
   "execution_count": 19,
   "id": "4d550f88",
   "metadata": {},
   "outputs": [
    {
     "data": {
      "image/png": "[encoded data removed]",
      "text/plain": [
       "<Figure size 576x360 with 1 Axes>"
      ]
     },
     "metadata": {
      "needs_background": "light"
     },
     "output_type": "display_data"
    }
   ],
   "source": [
    "import pandas as pd\n",
    "\n",
    "pd.DataFrame(history.history).plot(figsize=(8, 5))\n",
    "plt.grid(True)\n",
    "# plt.gca().set_ylim(0, 1)\n",
    "plt.show()"
   ]
  },
  {
   "cell_type": "code",
   "execution_count": 20,
   "id": "5487653c",
   "metadata": {},
   "outputs": [
    {
     "name": "stdout",
     "output_type": "stream",
     "text": [
      "X.shape = (None, 1)\n",
      "gauss_grid.shape = (None, 5)\n"
     ]
    },
    {
     "data": {
      "image/png": "[encoded data removed]",
      "text/plain": [
       "<Figure size 432x288 with 1 Axes>"
      ]
     },
     "metadata": {
      "needs_background": "light"
     },
     "output_type": "display_data"
    }
   ],
   "source": [
    "# X_new = np.linspace(-5, 5, 100).reshape(100, 1)\n",
    "# y_new = model.predict(X_new)\n",
    "#\n",
    "plt.plot(X_train, y_train, \"b.\")\n",
    "# plt.plot(X_new, y_new, \"r-\", linewidth=2, label=\"Predictions\")\n",
    "draw_func(model.predict, mark='r-', linewidth=2, label=\"Predictions\")\n",
    "draw_normal_func(func_dict)\n",
    "plt.xlabel(\"$x_1$\", fontsize=18)\n",
    "plt.ylabel(\"$y$\", rotation=0, fontsize=18)\n",
    "plt.legend(loc=\"upper left\", fontsize=14)\n",
    "# plt.axis([-3, 3, 0, 10])\n",
    "plt.show()"
   ]
  },
  {
   "cell_type": "code",
   "execution_count": 21,
   "id": "f9c053a4",
   "metadata": {},
   "outputs": [
    {
     "name": "stdout",
     "output_type": "stream",
     "text": [
      "y_func.shape = (100, 1)\n",
      "y_gt.shape = (100, 1)\n"
     ]
    },
    {
     "data": {
      "text/plain": [
       "3.2187757197214975"
      ]
     },
     "execution_count": 21,
     "metadata": {},
     "output_type": "execute_result"
    }
   ],
   "source": [
    "get_prediction_error(model.predict, func_dict)"
   ]
  },
  {
   "cell_type": "markdown",
   "id": "fe65d614",
   "metadata": {},
   "source": [
    "# Grid & Regression by Classification (grid --> grid)"
   ]
  },
  {
   "cell_type": "code",
   "execution_count": 22,
   "id": "3d35615e",
   "metadata": {},
   "outputs": [],
   "source": [
    "class num2grid_np():\n",
    "    def __init__(self, units, x_min=-10, x_max=10, sigma=1.0):\n",
    "        self.units = units\n",
    "        self.x_min = x_min\n",
    "        self.x_max = x_max\n",
    "        self.sigma = sigma\n",
    "        self.sigma2 = self.sigma**2\n",
    "        self.x_grid = np.linspace(self.x_min, self.x_max, self.units, endpoint=True)\n",
    "        print(\"self.x_grid = %s\" % str(self.x_grid))\n",
    "        \n",
    "    def convert(self, X):\n",
    "        gauss_grid = np.exp( -(self.x_grid - X)**2 / (2.0*self.sigma2) )\n",
    "#         if len(gauss_grid.shape) == 1:\n",
    "#             gauss_grid = gauss_grid.reshape([1,-1])\n",
    "#         grid_sum = np.sum(gauss_grid, axis=1, keepdims=True)\n",
    "        grid_sum = np.sum(gauss_grid, axis=-1, keepdims=True)\n",
    "        gauss_grid = gauss_grid / grid_sum\n",
    "        return gauss_grid\n",
    "    \n",
    "    def inv_convert(self, grid):\n",
    "#         if len(grid.shape) == 1:\n",
    "#             grid = grid.reshape([1,-1])\n",
    "#         grid_sum = np.sum(grid, axis=1)\n",
    "        grid_sum = np.sum(grid, axis=-1)\n",
    "#         print(grid_sum)\n",
    "        exp_num = np.sum((self.x_grid * grid), axis=-1) / grid_sum # element-wise\n",
    "        return exp_num\n",
    "    \n",
    "    def get_statistic(self, grid):\n",
    "        grid_sum = np.sum(grid, axis=-1)\n",
    "        _mean = np.sum((self.x_grid * grid), axis=-1) / grid_sum # element-wise\n",
    "        _var  = np.sum( ((self.x_grid.reshape((1,-1)) - _mean.reshape((-1,1)))**2 * grid), axis=-1) / grid_sum # element-wise\n",
    "        # print(\"(_mean, _var) = (%f, %f)\" % (_mean, _var))\n",
    "        _stddev = np.sqrt(_var)\n",
    "        return _mean, _stddev"
   ]
  },
  {
   "cell_type": "code",
   "execution_count": 23,
   "id": "4903180b",
   "metadata": {},
   "outputs": [
    {
     "name": "stdout",
     "output_type": "stream",
     "text": [
      "self.x_grid = [-100.          -95.91836735  -91.83673469  -87.75510204  -83.67346939\n",
      "  -79.59183673  -75.51020408  -71.42857143  -67.34693878  -63.26530612\n",
      "  -59.18367347  -55.10204082  -51.02040816  -46.93877551  -42.85714286\n",
      "  -38.7755102   -34.69387755  -30.6122449   -26.53061224  -22.44897959\n",
      "  -18.36734694  -14.28571429  -10.20408163   -6.12244898   -2.04081633\n",
      "    2.04081633    6.12244898   10.20408163   14.28571429   18.36734694\n",
      "   22.44897959   26.53061224   30.6122449    34.69387755   38.7755102\n",
      "   42.85714286   46.93877551   51.02040816   55.10204082   59.18367347\n",
      "   63.26530612   67.34693878   71.42857143   75.51020408   79.59183673\n",
      "   83.67346939   87.75510204   91.83673469   95.91836735  100.        ]\n"
     ]
    }
   ],
   "source": [
    "# class_num = 10 # 10\n",
    "# n2g = num2grid_np(class_num, x_min=-100.0, x_max=100.0, sigma=20.0) # 20.0\n",
    "# class_num = 20\n",
    "# n2g = num2grid_np(class_num, x_min=-100.0, x_max=100.0, sigma=15.0) # 20.0\n",
    "class_num = 50\n",
    "n2g = num2grid_np(class_num, x_min=-100.0, x_max=100.0, sigma=6.0) # 5.0 "
   ]
  },
  {
   "cell_type": "code",
   "execution_count": 24,
   "id": "dce05258",
   "metadata": {},
   "outputs": [
    {
     "name": "stdout",
     "output_type": "stream",
     "text": [
      "[[3.57995092e-60 2.08100846e-55 7.61538914e-51 1.75441300e-46\n",
      "  2.54444491e-42 2.32314196e-38 1.33530332e-34 4.83176258e-31\n",
      "  1.10065884e-27 1.57841554e-24 1.42498879e-21 8.09884396e-19\n",
      "  2.89771784e-16 6.52695532e-14 9.25521826e-12 8.26198061e-10\n",
      "  4.64304784e-08 1.64264466e-06 3.65852120e-05 5.12966502e-04\n",
      "  4.52786966e-03 2.51605603e-02 8.80173281e-02 1.93837381e-01\n",
      "  2.68737559e-01 2.34552834e-01 1.28876722e-01 4.45789421e-02\n",
      "  9.70748025e-03 1.33077537e-03 1.14848275e-04 6.23972825e-06\n",
      "  2.13416679e-07 4.59528573e-09 6.22899760e-11 5.31551427e-13\n",
      "  2.85557712e-15 9.65748361e-18 2.05615356e-20 2.75593262e-23\n",
      "  2.32542921e-26 1.23526215e-29 4.13082337e-33 8.69632169e-37\n",
      "  1.15254011e-40 9.61607812e-45 5.05081425e-49 1.67011468e-53\n",
      "  3.47658354e-58 4.55596654e-63]]\n"
     ]
    }
   ],
   "source": [
    "# grid_1 = n2g.convert(-1.2)\n",
    "grid_1 = n2g.convert([[-1.2]])\n",
    "print(grid_1)"
   ]
  },
  {
   "cell_type": "code",
   "execution_count": 25,
   "id": "48203fe2",
   "metadata": {},
   "outputs": [
    {
     "data": {
      "text/plain": [
       "array([-1.2])"
      ]
     },
     "execution_count": 25,
     "metadata": {},
     "output_type": "execute_result"
    }
   ],
   "source": [
    "n2g.inv_convert(grid_1)"
   ]
  },
  {
   "cell_type": "code",
   "execution_count": 26,
   "id": "a741b6d1",
   "metadata": {},
   "outputs": [
    {
     "data": {
      "text/plain": [
       "(array([-1.2]), array([6.]))"
      ]
     },
     "execution_count": 26,
     "metadata": {},
     "output_type": "execute_result"
    }
   ],
   "source": [
    "n2g.get_statistic(grid_1)"
   ]
  },
  {
   "cell_type": "markdown",
   "id": "bdc0b9a0",
   "metadata": {},
   "source": [
    "### Convert the labels to grid (pre-processing)"
   ]
  },
  {
   "cell_type": "code",
   "execution_count": 27,
   "id": "39c7fa96",
   "metadata": {},
   "outputs": [],
   "source": [
    "y_train_grid = n2g.convert(y_train)\n",
    "y_valid_grid = n2g.convert(y_valid)"
   ]
  },
  {
   "cell_type": "code",
   "execution_count": 28,
   "id": "f577a751",
   "metadata": {},
   "outputs": [
    {
     "name": "stdout",
     "output_type": "stream",
     "text": [
      "(80, 50)\n",
      "(20, 50)\n"
     ]
    }
   ],
   "source": [
    "print(y_train_grid.shape)\n",
    "print(y_valid_grid.shape)"
   ]
  },
  {
   "cell_type": "code",
   "execution_count": 29,
   "id": "71610af1",
   "metadata": {},
   "outputs": [
    {
     "name": "stdout",
     "output_type": "stream",
     "text": [
      "X.shape = (None, 1)\n",
      "gauss_grid.shape = (None, 5)\n"
     ]
    },
    {
     "name": "stderr",
     "output_type": "stream",
     "text": [
      "/home/benson516/ml/my_env/lib/python3.6/site-packages/keras/optimizer_v2/optimizer_v2.py:356: UserWarning: The `lr` argument is deprecated, use `learning_rate` instead.\n",
      "  \"The `lr` argument is deprecated, use `learning_rate` instead.\")\n"
     ]
    }
   ],
   "source": [
    "model = keras.models.Sequential([\n",
    "#     keras.layers.Dense(30, activation=\"relu\", input_shape=X_train.shape[1:]),\n",
    "    num2grid(5,x_min=-10, x_max=10, sigma=3.0, input_shape=X_train.shape[1:]),\n",
    "    keras.layers.Dense(30, activation=\"relu\"),\n",
    "    keras.layers.Dense(class_num, activation=\"softmax\"),\n",
    "])\n",
    "\n",
    "optimizer = keras.optimizers.SGD(lr=0.2, momentum=0.9)\n",
    "model.compile(loss=\"categorical_crossentropy\", optimizer=optimizer)"
   ]
  },
  {
   "cell_type": "code",
   "execution_count": 30,
   "id": "e2244aee",
   "metadata": {
    "scrolled": true
   },
   "outputs": [
    {
     "name": "stdout",
     "output_type": "stream",
     "text": [
      "Epoch 1/100\n",
      "X.shape = (None, 1)\n",
      "gauss_grid.shape = (None, 5)\n",
      "X.shape = (None, 1)\n",
      "gauss_grid.shape = (None, 5)\n",
      "1/3 [=========>....................] - ETA: 1s - loss: 3.9154X.shape = (None, 1)\n",
      "gauss_grid.shape = (None, 5)\n",
      "3/3 [==============================] - 1s 272ms/step - loss: 3.9031 - val_loss: 3.8059\n",
      "Epoch 2/100\n",
      "3/3 [==============================] - 0s 88ms/step - loss: 3.7413 - val_loss: 3.5561\n",
      "Epoch 3/100\n",
      "3/3 [==============================] - 0s 58ms/step - loss: 3.4704 - val_loss: 3.2214\n",
      "Epoch 4/100\n",
      "3/3 [==============================] - 0s 58ms/step - loss: 3.1654 - val_loss: 2.9542\n",
      "Epoch 5/100\n",
      "3/3 [==============================] - 0s 54ms/step - loss: 2.9961 - val_loss: 2.8262\n",
      "Epoch 6/100\n",
      "3/3 [==============================] - 0s 52ms/step - loss: 2.9594 - val_loss: 2.6781\n",
      "Epoch 7/100\n",
      "3/3 [==============================] - 0s 57ms/step - loss: 2.8228 - val_loss: 2.6360\n",
      "Epoch 8/100\n",
      "3/3 [==============================] - 0s 53ms/step - loss: 2.7666 - val_loss: 2.6856\n",
      "Epoch 9/100\n",
      "3/3 [==============================] - 0s 73ms/step - loss: 2.7520 - val_loss: 2.6089\n",
      "Epoch 10/100\n",
      "3/3 [==============================] - 0s 93ms/step - loss: 2.7144 - val_loss: 2.5469\n",
      "Epoch 11/100\n",
      "3/3 [==============================] - 0s 114ms/step - loss: 2.6939 - val_loss: 2.5387\n",
      "Epoch 12/100\n",
      "3/3 [==============================] - 0s 88ms/step - loss: 2.6723 - val_loss: 2.5679\n",
      "Epoch 13/100\n",
      "3/3 [==============================] - 0s 114ms/step - loss: 2.6715 - val_loss: 2.5686\n",
      "Epoch 14/100\n",
      "3/3 [==============================] - 0s 80ms/step - loss: 2.6391 - val_loss: 2.5389\n",
      "Epoch 15/100\n",
      "3/3 [==============================] - 0s 102ms/step - loss: 2.6328 - val_loss: 2.5184\n",
      "Epoch 16/100\n",
      "3/3 [==============================] - 0s 94ms/step - loss: 2.6206 - val_loss: 2.5358\n",
      "Epoch 17/100\n",
      "3/3 [==============================] - 0s 96ms/step - loss: 2.6124 - val_loss: 2.5551\n",
      "Epoch 18/100\n",
      "3/3 [==============================] - 0s 93ms/step - loss: 2.6125 - val_loss: 2.5449\n",
      "Epoch 19/100\n",
      "3/3 [==============================] - 0s 90ms/step - loss: 2.5993 - val_loss: 2.5644\n",
      "Epoch 20/100\n",
      "3/3 [==============================] - 0s 97ms/step - loss: 2.5909 - val_loss: 2.5343\n",
      "Epoch 21/100\n",
      "3/3 [==============================] - 0s 103ms/step - loss: 2.5748 - val_loss: 2.5281\n",
      "Epoch 22/100\n",
      "3/3 [==============================] - 0s 106ms/step - loss: 2.5686 - val_loss: 2.4981\n",
      "Epoch 23/100\n",
      "3/3 [==============================] - 0s 101ms/step - loss: 2.5561 - val_loss: 2.4918\n",
      "Epoch 24/100\n",
      "3/3 [==============================] - 0s 74ms/step - loss: 2.5495 - val_loss: 2.4883\n",
      "Epoch 25/100\n",
      "3/3 [==============================] - 0s 124ms/step - loss: 2.5417 - val_loss: 2.5013\n",
      "Epoch 26/100\n",
      "3/3 [==============================] - 0s 94ms/step - loss: 2.5337 - val_loss: 2.5313\n",
      "Epoch 27/100\n",
      "3/3 [==============================] - 0s 98ms/step - loss: 2.5260 - val_loss: 2.5159\n",
      "Epoch 28/100\n",
      "3/3 [==============================] - 0s 93ms/step - loss: 2.5221 - val_loss: 2.4673\n",
      "Epoch 29/100\n",
      "3/3 [==============================] - 0s 88ms/step - loss: 2.5093 - val_loss: 2.4593\n",
      "Epoch 30/100\n",
      "3/3 [==============================] - 0s 80ms/step - loss: 2.5040 - val_loss: 2.4778\n",
      "Epoch 31/100\n",
      "3/3 [==============================] - 0s 75ms/step - loss: 2.5004 - val_loss: 2.5100\n",
      "Epoch 32/100\n",
      "3/3 [==============================] - 0s 62ms/step - loss: 2.4860 - val_loss: 2.4774\n",
      "Epoch 33/100\n",
      "3/3 [==============================] - 0s 54ms/step - loss: 2.4805 - val_loss: 2.4345\n",
      "Epoch 34/100\n",
      "3/3 [==============================] - 0s 56ms/step - loss: 2.4670 - val_loss: 2.4202\n",
      "Epoch 35/100\n",
      "3/3 [==============================] - 0s 73ms/step - loss: 2.4707 - val_loss: 2.4374\n",
      "Epoch 36/100\n",
      "3/3 [==============================] - 0s 116ms/step - loss: 2.4592 - val_loss: 2.4297\n",
      "Epoch 37/100\n",
      "3/3 [==============================] - 0s 111ms/step - loss: 2.4468 - val_loss: 2.4445\n",
      "Epoch 38/100\n",
      "3/3 [==============================] - 0s 96ms/step - loss: 2.4473 - val_loss: 2.4727\n",
      "Epoch 39/100\n",
      "3/3 [==============================] - 0s 74ms/step - loss: 2.4406 - val_loss: 2.4622\n",
      "Epoch 40/100\n",
      "3/3 [==============================] - 0s 97ms/step - loss: 2.4353 - val_loss: 2.4147\n",
      "Epoch 41/100\n",
      "3/3 [==============================] - 0s 94ms/step - loss: 2.4256 - val_loss: 2.4143\n",
      "Epoch 42/100\n",
      "3/3 [==============================] - 0s 81ms/step - loss: 2.4324 - val_loss: 2.4151\n",
      "Epoch 43/100\n",
      "3/3 [==============================] - 0s 100ms/step - loss: 2.4137 - val_loss: 2.4363\n",
      "Epoch 44/100\n",
      "3/3 [==============================] - 0s 103ms/step - loss: 2.4191 - val_loss: 2.4673\n",
      "Epoch 45/100\n",
      "3/3 [==============================] - 0s 87ms/step - loss: 2.4050 - val_loss: 2.4645\n",
      "Epoch 46/100\n",
      "3/3 [==============================] - 0s 106ms/step - loss: 2.4055 - val_loss: 2.4381\n",
      "Epoch 47/100\n",
      "3/3 [==============================] - ETA: 0s - loss: 2.292 - 0s 96ms/step - loss: 2.4028 - val_loss: 2.4092\n",
      "Epoch 48/100\n",
      "3/3 [==============================] - ETA: 0s - loss: 2.296 - 0s 91ms/step - loss: 2.3908 - val_loss: 2.3968\n",
      "Epoch 49/100\n",
      "3/3 [==============================] - 0s 82ms/step - loss: 2.3962 - val_loss: 2.4111\n",
      "Epoch 50/100\n",
      "3/3 [==============================] - 0s 118ms/step - loss: 2.3902 - val_loss: 2.4358\n",
      "Epoch 51/100\n",
      "3/3 [==============================] - 0s 93ms/step - loss: 2.3857 - val_loss: 2.4142\n",
      "Epoch 52/100\n",
      "3/3 [==============================] - 0s 106ms/step - loss: 2.3894 - val_loss: 2.3892\n",
      "Epoch 53/100\n",
      "3/3 [==============================] - 0s 125ms/step - loss: 2.3847 - val_loss: 2.4519\n",
      "Epoch 54/100\n",
      "3/3 [==============================] - 0s 99ms/step - loss: 2.3789 - val_loss: 2.4856\n",
      "Epoch 55/100\n",
      "3/3 [==============================] - 0s 67ms/step - loss: 2.3864 - val_loss: 2.4512\n",
      "Epoch 56/100\n",
      "3/3 [==============================] - 0s 61ms/step - loss: 2.3740 - val_loss: 2.4215\n",
      "Epoch 57/100\n",
      "3/3 [==============================] - 0s 81ms/step - loss: 2.3692 - val_loss: 2.3936\n",
      "Epoch 58/100\n",
      "3/3 [==============================] - 0s 73ms/step - loss: 2.3629 - val_loss: 2.4025\n",
      "Epoch 59/100\n",
      "3/3 [==============================] - 0s 64ms/step - loss: 2.3596 - val_loss: 2.3923\n",
      "Epoch 60/100\n",
      "3/3 [==============================] - 0s 61ms/step - loss: 2.3574 - val_loss: 2.3867\n",
      "Epoch 61/100\n",
      "3/3 [==============================] - 0s 62ms/step - loss: 2.3630 - val_loss: 2.3715\n",
      "Epoch 62/100\n",
      "3/3 [==============================] - 0s 58ms/step - loss: 2.3640 - val_loss: 2.3872\n",
      "Epoch 63/100\n",
      "3/3 [==============================] - 0s 96ms/step - loss: 2.3555 - val_loss: 2.4305\n",
      "Epoch 64/100\n",
      "3/3 [==============================] - 0s 95ms/step - loss: 2.3553 - val_loss: 2.3934\n",
      "Epoch 65/100\n",
      "3/3 [==============================] - 0s 90ms/step - loss: 2.3471 - val_loss: 2.3566\n",
      "Epoch 66/100\n",
      "3/3 [==============================] - 0s 118ms/step - loss: 2.3509 - val_loss: 2.3606\n",
      "Epoch 67/100\n",
      "3/3 [==============================] - 0s 100ms/step - loss: 2.3536 - val_loss: 2.3560\n",
      "Epoch 68/100\n",
      "3/3 [==============================] - 0s 83ms/step - loss: 2.3555 - val_loss: 2.3523\n",
      "Epoch 69/100\n",
      "3/3 [==============================] - 0s 68ms/step - loss: 2.3400 - val_loss: 2.4159\n",
      "Epoch 70/100\n",
      "3/3 [==============================] - 0s 85ms/step - loss: 2.3470 - val_loss: 2.4261\n",
      "Epoch 71/100\n",
      "3/3 [==============================] - 0s 56ms/step - loss: 2.3401 - val_loss: 2.3701\n",
      "Epoch 72/100\n",
      "3/3 [==============================] - 0s 104ms/step - loss: 2.3333 - val_loss: 2.3452\n",
      "Epoch 73/100\n",
      "3/3 [==============================] - 0s 93ms/step - loss: 2.3389 - val_loss: 2.3495\n",
      "Epoch 74/100\n",
      "3/3 [==============================] - 0s 89ms/step - loss: 2.3333 - val_loss: 2.3891\n",
      "Epoch 75/100\n",
      "3/3 [==============================] - 0s 91ms/step - loss: 2.3392 - val_loss: 2.4464\n",
      "Epoch 76/100\n",
      "3/3 [==============================] - 0s 78ms/step - loss: 2.3344 - val_loss: 2.3827\n",
      "Epoch 77/100\n",
      "3/3 [==============================] - 0s 128ms/step - loss: 2.3332 - val_loss: 2.3321\n",
      "Epoch 78/100\n",
      "3/3 [==============================] - 0s 96ms/step - loss: 2.3426 - val_loss: 2.3592\n",
      "Epoch 79/100\n",
      "3/3 [==============================] - 0s 97ms/step - loss: 2.3309 - val_loss: 2.3636\n",
      "Epoch 80/100\n",
      "3/3 [==============================] - 0s 85ms/step - loss: 2.3309 - val_loss: 2.3989\n",
      "Epoch 81/100\n"
     ]
    },
    {
     "name": "stdout",
     "output_type": "stream",
     "text": [
      "3/3 [==============================] - 0s 87ms/step - loss: 2.3305 - val_loss: 2.4095\n",
      "Epoch 82/100\n",
      "3/3 [==============================] - 0s 82ms/step - loss: 2.3252 - val_loss: 2.3520\n",
      "Epoch 83/100\n",
      "3/3 [==============================] - 0s 68ms/step - loss: 2.3238 - val_loss: 2.3511\n",
      "Epoch 84/100\n",
      "3/3 [==============================] - 0s 62ms/step - loss: 2.3280 - val_loss: 2.3577\n",
      "Epoch 85/100\n",
      "3/3 [==============================] - 0s 56ms/step - loss: 2.3211 - val_loss: 2.3613\n",
      "Epoch 86/100\n",
      "3/3 [==============================] - 0s 54ms/step - loss: 2.3227 - val_loss: 2.3571\n",
      "Epoch 87/100\n",
      "3/3 [==============================] - 0s 54ms/step - loss: 2.3133 - val_loss: 2.4121\n",
      "Epoch 88/100\n",
      "3/3 [==============================] - 0s 59ms/step - loss: 2.3267 - val_loss: 2.4586\n",
      "Epoch 89/100\n",
      "3/3 [==============================] - 0s 63ms/step - loss: 2.3230 - val_loss: 2.3804\n",
      "Epoch 90/100\n",
      "3/3 [==============================] - 0s 55ms/step - loss: 2.3181 - val_loss: 2.3419\n",
      "Epoch 91/100\n",
      "3/3 [==============================] - 0s 90ms/step - loss: 2.3237 - val_loss: 2.3597\n",
      "Epoch 92/100\n",
      "3/3 [==============================] - 0s 82ms/step - loss: 2.3177 - val_loss: 2.3777\n",
      "Epoch 93/100\n",
      "3/3 [==============================] - 0s 106ms/step - loss: 2.3151 - val_loss: 2.3659\n",
      "Epoch 94/100\n",
      "3/3 [==============================] - 0s 73ms/step - loss: 2.3102 - val_loss: 2.3570\n",
      "Epoch 95/100\n",
      "3/3 [==============================] - 0s 97ms/step - loss: 2.3153 - val_loss: 2.3732\n",
      "Epoch 96/100\n",
      "3/3 [==============================] - 0s 119ms/step - loss: 2.3158 - val_loss: 2.3864\n",
      "Epoch 97/100\n",
      "3/3 [==============================] - 0s 97ms/step - loss: 2.3150 - val_loss: 2.4200\n",
      "Epoch 98/100\n",
      "3/3 [==============================] - 0s 117ms/step - loss: 2.3208 - val_loss: 2.4176\n",
      "Epoch 99/100\n",
      "3/3 [==============================] - 0s 98ms/step - loss: 2.3109 - val_loss: 2.3541\n",
      "Epoch 100/100\n",
      "3/3 [==============================] - 0s 101ms/step - loss: 2.3124 - val_loss: 2.3354\n"
     ]
    }
   ],
   "source": [
    "history = model.fit(X_train, y_train_grid, epochs=100,\n",
    "                    validation_data=(X_valid, y_valid_grid))"
   ]
  },
  {
   "cell_type": "code",
   "execution_count": 31,
   "id": "390834c9",
   "metadata": {},
   "outputs": [
    {
     "data": {
      "image/png": "[encoded data removed]",
      "text/plain": [
       "<Figure size 576x360 with 1 Axes>"
      ]
     },
     "metadata": {
      "needs_background": "light"
     },
     "output_type": "display_data"
    }
   ],
   "source": [
    "import pandas as pd\n",
    "\n",
    "pd.DataFrame(history.history).plot(figsize=(8, 5))\n",
    "plt.grid(True)\n",
    "# plt.gca().set_ylim(0, 1)\n",
    "plt.show()"
   ]
  },
  {
   "cell_type": "code",
   "execution_count": 32,
   "id": "6fba3b6a",
   "metadata": {},
   "outputs": [
    {
     "name": "stdout",
     "output_type": "stream",
     "text": [
      "X.shape = (None, 1)\n",
      "gauss_grid.shape = (None, 5)\n"
     ]
    },
    {
     "data": {
      "image/png": "[encoded data removed]",
      "text/plain": [
       "<Figure size 432x288 with 1 Axes>"
      ]
     },
     "metadata": {
      "needs_background": "light"
     },
     "output_type": "display_data"
    }
   ],
   "source": [
    "# X_new = np.linspace(-5, 5, 100).reshape(100, 1)\n",
    "# y_new_proba = model.predict(X_new)\n",
    "# y_new = n2g.inv_convert(y_new_proba)\n",
    "#\n",
    "plt.plot(X_train, y_train, \"b.\")\n",
    "# plt.plot(X_new, y_new, \"r-\", linewidth=2, label=\"Predictions\")\n",
    "draw_func((lambda X: n2g.inv_convert(model.predict(X)) ), mark='r-', linewidth=2, label=\"Predictions\")\n",
    "draw_normal_func(func_dict)\n",
    "plt.xlabel(\"$x_1$\", fontsize=18)\n",
    "plt.ylabel(\"$y$\", rotation=0, fontsize=18)\n",
    "plt.legend(loc=\"upper left\", fontsize=14)\n",
    "# plt.axis([-3, 3, 0, 10])\n",
    "plt.show()"
   ]
  },
  {
   "cell_type": "code",
   "execution_count": 33,
   "id": "fc059ba5",
   "metadata": {},
   "outputs": [
    {
     "name": "stdout",
     "output_type": "stream",
     "text": [
      "y_func.shape = (100, 1)\n",
      "y_gt.shape = (100, 1)\n"
     ]
    },
    {
     "data": {
      "text/plain": [
       "3.411526462156327"
      ]
     },
     "execution_count": 33,
     "metadata": {},
     "output_type": "execute_result"
    }
   ],
   "source": [
    "get_prediction_error((lambda X: n2g.inv_convert(model.predict(X)) ), func_dict)"
   ]
  },
  {
   "cell_type": "code",
   "execution_count": 34,
   "id": "edcf26db",
   "metadata": {},
   "outputs": [
    {
     "data": {
      "text/plain": [
       "<matplotlib.collections.QuadMesh at 0x7f7c0d45fa90>"
      ]
     },
     "execution_count": 34,
     "metadata": {},
     "output_type": "execute_result"
    },
    {
     "data": {
      "image/png": "[encoded data removed]",
      "text/plain": [
       "<Figure size 432x288 with 1 Axes>"
      ]
     },
     "metadata": {
      "needs_background": "light"
     },
     "output_type": "display_data"
    }
   ],
   "source": [
    "X_new = np.linspace(-5, 5, 100).reshape(100, 1)\n",
    "y_new_proba = model.predict(X_new)\n",
    "# y_new = n2g.inv_convert(y_new_proba)\n",
    "#\n",
    "xv, yv = np.meshgrid(X_new, np.linspace(n2g.x_min, n2g.x_max, n2g.units))\n",
    "# print(xv)\n",
    "# print(yv)\n",
    "plt.pcolormesh(xv, yv, y_new_proba.T, shading=\"nearest\")"
   ]
  },
  {
   "cell_type": "markdown",
   "id": "4064d3b5",
   "metadata": {},
   "source": [
    "### Draw the 1-sigma boundary line"
   ]
  },
  {
   "cell_type": "code",
   "execution_count": 35,
   "id": "247e8712",
   "metadata": {},
   "outputs": [
    {
     "data": {
      "image/png": "[encoded data removed]",
      "text/plain": [
       "<Figure size 432x288 with 1 Axes>"
      ]
     },
     "metadata": {
      "needs_background": "light"
     },
     "output_type": "display_data"
    }
   ],
   "source": [
    "def n_sigma_boundary_line(X, n):\n",
    "    _mean, _sigma = n2g.get_statistic(model.predict(X))\n",
    "    return( _mean + n*_sigma)\n",
    "\n",
    "plt.plot(X_train, y_train, \"b.\")\n",
    "#\n",
    "draw_func((lambda X: n2g.inv_convert(model.predict(X)) ), mark='r-', linewidth=2, label=\"Predictions\")\n",
    "draw_func((lambda X: n_sigma_boundary_line(X, +1.0) ), mark='k--', linewidth=1, label=\"$\\mu+\\sigma$\")\n",
    "draw_func((lambda X: n_sigma_boundary_line(X, -1.0) ), mark='k--', linewidth=1, label=\"$\\mu-\\sigma$\")\n",
    "#\n",
    "draw_normal_func(func_dict)\n",
    "plt.xlabel(\"$x_1$\", fontsize=18)\n",
    "plt.ylabel(\"$y$\", rotation=0, fontsize=18)\n",
    "plt.legend(loc=\"upper left\", fontsize=14)\n",
    "# plt.axis([-3, 3, 0, 10])\n",
    "plt.show()"
   ]
  },
  {
   "cell_type": "code",
   "execution_count": null,
   "id": "e6266336",
   "metadata": {},
   "outputs": [],
   "source": []
  },
  {
   "cell_type": "markdown",
   "id": "99a85ab5",
   "metadata": {},
   "source": [
    "# Grid & Regression by Classification + Offset Estimation (grid --> grid,num)"
   ]
  },
  {
   "cell_type": "code",
   "execution_count": 36,
   "id": "26440167",
   "metadata": {},
   "outputs": [],
   "source": [
    "class num2gridOffset_np():\n",
    "    def __init__(self, units, x_min=-10, x_max=10):\n",
    "        self.units = units\n",
    "        self.x_min = x_min\n",
    "        self.x_max = x_max\n",
    "        self.x_grid = np.linspace(self.x_min, self.x_max, self.units, endpoint=True)\n",
    "        # bins\n",
    "        x_space = np.average(self.x_grid[1:] - self.x_grid[:-1])\n",
    "        print(\"x_space = %f\" % x_space)\n",
    "        x_0 = self.x_grid[0] - 0.5 * x_space\n",
    "        self.x_bins = [x_0 + _i*x_space for _i in range(len(self.x_grid)+1)]\n",
    "        print(\"self.x_grid = %s\" % str(self.x_grid))\n",
    "#         print(\"self.x_bins = %s\" % str(self.x_bins))\n",
    "        \n",
    "    def convert(self, X):\n",
    "        '''\n",
    "        Convert a batch of number to one-hot class and numerical offset to each grid's center\n",
    "        (m, 1) --> (m, n_units, 2)\n",
    "        '''\n",
    "        X = np.array(X)\n",
    "        if len(X.shape) <= 1:\n",
    "            X = X.reshape((-1,1))\n",
    "        idxs_bin = np.digitize(X, self.x_bins, right=False) \n",
    "        idxs_grid = (idxs_bin - 1) + 1*(idxs_bin<= 0) - 1*(idxs_bin>=self.units)\n",
    "        print(idxs_grid.shape)\n",
    "        #\n",
    "        batch_size = X.shape[0]\n",
    "        grid = np.zeros((batch_size, self.units, 2))\n",
    "        # Fill in the values\n",
    "        grid[np.arange(batch_size), idxs_grid.reshape((-1,)), 0] = 1.0\n",
    "        grid[np.arange(batch_size), :, 1] = X - self.x_grid.reshape((1,-1)) # Offset\n",
    "        return grid\n",
    "    \n",
    "    def inv_convert(self, grid):\n",
    "        idxs_grid = np.argmax(grid[...,0], axis=1)\n",
    "        print(idxs_grid.shape)\n",
    "        #\n",
    "        batch_size = grid.shape[0]\n",
    "        offset_est = grid[np.arange(batch_size),idxs_grid,1]\n",
    "        print(offset_est.shape)\n",
    "        num_est = self.x_grid[idxs_grid].reshape((1,-1)) + offset_est\n",
    "        return num_est.reshape((-1,))"
   ]
  },
  {
   "cell_type": "code",
   "execution_count": 37,
   "id": "8b15e9ff",
   "metadata": {},
   "outputs": [
    {
     "name": "stdout",
     "output_type": "stream",
     "text": [
      "x_space = 22.222222\n",
      "self.x_grid = [-100.          -77.77777778  -55.55555556  -33.33333333  -11.11111111\n",
      "   11.11111111   33.33333333   55.55555556   77.77777778  100.        ]\n"
     ]
    }
   ],
   "source": [
    "class_num = 10 # 10\n",
    "n2go = num2gridOffset_np(class_num, x_min=-100.0, x_max=100.0) "
   ]
  },
  {
   "cell_type": "code",
   "execution_count": 38,
   "id": "8f6e7955",
   "metadata": {},
   "outputs": [
    {
     "name": "stdout",
     "output_type": "stream",
     "text": [
      "(2, 1)\n",
      "[[[   0.           98.8       ]\n",
      "  [   0.           76.57777778]\n",
      "  [   0.           54.35555556]\n",
      "  [   0.           32.13333333]\n",
      "  [   1.            9.91111111]\n",
      "  [   0.          -12.31111111]\n",
      "  [   0.          -34.53333333]\n",
      "  [   0.          -56.75555556]\n",
      "  [   0.          -78.97777778]\n",
      "  [   0.         -101.2       ]]\n",
      "\n",
      " [[   0.          150.5       ]\n",
      "  [   0.          128.27777778]\n",
      "  [   0.          106.05555556]\n",
      "  [   0.           83.83333333]\n",
      "  [   0.           61.61111111]\n",
      "  [   0.           39.38888889]\n",
      "  [   0.           17.16666667]\n",
      "  [   1.           -5.05555556]\n",
      "  [   0.          -27.27777778]\n",
      "  [   0.          -49.5       ]]]\n"
     ]
    }
   ],
   "source": [
    "# grid_1 = n2g.convert(-1.2)\n",
    "grid_1 = n2go.convert([[-1.2], [50.5]])\n",
    "print(grid_1)"
   ]
  },
  {
   "cell_type": "code",
   "execution_count": 39,
   "id": "48840dc5",
   "metadata": {},
   "outputs": [
    {
     "name": "stdout",
     "output_type": "stream",
     "text": [
      "(2,)\n",
      "(2,)\n"
     ]
    },
    {
     "data": {
      "text/plain": [
       "array([-1.2, 50.5])"
      ]
     },
     "execution_count": 39,
     "metadata": {},
     "output_type": "execute_result"
    }
   ],
   "source": [
    "n2go.inv_convert(grid_1)"
   ]
  },
  {
   "cell_type": "markdown",
   "id": "11683cea",
   "metadata": {},
   "source": [
    "### Convert the labels to grid (pre-processing)"
   ]
  },
  {
   "cell_type": "code",
   "execution_count": 40,
   "id": "472997cf",
   "metadata": {},
   "outputs": [
    {
     "name": "stdout",
     "output_type": "stream",
     "text": [
      "(80, 1)\n",
      "(20, 1)\n"
     ]
    }
   ],
   "source": [
    "y_train_grid_offset = n2go.convert(y_train)\n",
    "y_valid_grid_offset = n2go.convert(y_valid)"
   ]
  },
  {
   "cell_type": "code",
   "execution_count": 41,
   "id": "71f08d76",
   "metadata": {},
   "outputs": [
    {
     "name": "stdout",
     "output_type": "stream",
     "text": [
      "(80, 10, 2)\n",
      "(20, 10, 2)\n"
     ]
    }
   ],
   "source": [
    "print(y_train_grid_offset.shape)\n",
    "print(y_valid_grid_offset.shape)"
   ]
  },
  {
   "cell_type": "code",
   "execution_count": 42,
   "id": "84b5b833",
   "metadata": {},
   "outputs": [
    {
     "name": "stdout",
     "output_type": "stream",
     "text": [
      "X.shape = (None, 1)\n",
      "gauss_grid.shape = (None, 5)\n"
     ]
    }
   ],
   "source": [
    "inputs = keras.layers.Input(shape=X_train.shape[1:])\n",
    "#\n",
    "z = num2grid(5,x_min=-10, x_max=10, sigma=3.0)(inputs)\n",
    "z = keras.layers.Dense(30, activation=\"selu\")(z)\n",
    "# Outputs\n",
    "z_proba = keras.layers.Dense(30, activation=\"relu\")(z)\n",
    "z_proba  = keras.layers.Dense(class_num, activation=\"softmax\")(z_proba)\n",
    "z_offset = keras.layers.Dense(class_num, activation=\"relu\")(z)\n",
    "z_offset = keras.layers.Dense(class_num)(z_offset)\n",
    "# Concatenate\n",
    "z_proba  = keras.layers.Reshape([class_num,1])(z_proba)\n",
    "z_offset = keras.layers.Reshape([class_num,1])(z_offset)\n",
    "out_cat = keras.layers.Concatenate(axis=-1)([z_proba, z_offset])\n",
    "#\n",
    "# Models for trainig and real usage\n",
    "model = keras.Model(inputs=[inputs], outputs=[out_cat])"
   ]
  },
  {
   "cell_type": "code",
   "execution_count": 43,
   "id": "e6482574",
   "metadata": {},
   "outputs": [],
   "source": [
    "# Customized loss function\n",
    "\n",
    "cce = keras.losses.CategoricalCrossentropy(reduction=keras.losses.Reduction.NONE)\n",
    "# cce(y_true, y_pred).numpy()\n",
    "\n",
    "def centerLoss_fn(y_true, y_pred):\n",
    "    #\n",
    "    y_true_proba = y_true[...,0]\n",
    "    y_true_value = y_true[...,1]\n",
    "    #\n",
    "    y_pred_proba = y_pred[...,0]\n",
    "    y_pred_value = y_pred[...,1]\n",
    "    \n",
    "    #\n",
    "    cce_loss = cce(y_true_proba, y_pred_proba) / class_num\n",
    "    #\n",
    "    y_true_value_est = tf.reduce_sum((y_true_proba * y_true_value), axis=-1)\n",
    "    y_pred_value_est = tf.reduce_sum((y_true_proba * y_pred_value), axis=-1)\n",
    "#     y_pred_value_est = tf.reduce_sum((y_pred_proba * y_pred_value), axis=-1)\n",
    "    value_loss = tf.abs(y_pred_value_est - y_true_value_est)\n",
    "    \n",
    "    # Total loss\n",
    "#     return (0.5*cce_loss + 0.5*value_loss )\n",
    "    return (0.2*cce_loss + 0.8*value_loss )\n",
    "#     return (cce_loss)\n",
    "#     return (value_loss )"
   ]
  },
  {
   "cell_type": "code",
   "execution_count": 44,
   "id": "60575755",
   "metadata": {},
   "outputs": [
    {
     "name": "stderr",
     "output_type": "stream",
     "text": [
      "/home/benson516/ml/my_env/lib/python3.6/site-packages/keras/optimizer_v2/optimizer_v2.py:356: UserWarning: The `lr` argument is deprecated, use `learning_rate` instead.\n",
      "  \"The `lr` argument is deprecated, use `learning_rate` instead.\")\n"
     ]
    }
   ],
   "source": [
    "# optimizer = keras.optimizers.SGD(lr=0.1, momentum=0.9)\n",
    "optimizer = keras.optimizers.Adam(lr=0.05)\n",
    "model.compile(loss=centerLoss_fn, optimizer=optimizer)"
   ]
  },
  {
   "cell_type": "code",
   "execution_count": 45,
   "id": "09bc47a5",
   "metadata": {
    "scrolled": true
   },
   "outputs": [],
   "source": [
    "# history = model.fit(X_train, y_train_grid_offset, epochs=100,\n",
    "#                     validation_data=(X_valid, y_valid_grid_offset))"
   ]
  },
  {
   "cell_type": "code",
   "execution_count": 46,
   "id": "7ba1fe76",
   "metadata": {},
   "outputs": [],
   "source": [
    "# import pandas as pd\n",
    "\n",
    "# pd.DataFrame(history.history).plot(figsize=(8, 5))\n",
    "# plt.grid(True)\n",
    "# # plt.gca().set_ylim(0, 1)\n",
    "# plt.show()"
   ]
  },
  {
   "cell_type": "code",
   "execution_count": 47,
   "id": "47db8336",
   "metadata": {
    "scrolled": false
   },
   "outputs": [],
   "source": [
    "# plt.plot(X_train, y_train, \"b.\")\n",
    "# draw_func((lambda X: n2go.inv_convert(model.predict(X)) ), mark='r-', linewidth=2, label=\"Predictions\")\n",
    "# draw_normal_func(func_dict)\n",
    "# plt.xlabel(\"$x_1$\", fontsize=18)\n",
    "# plt.ylabel(\"$y$\", rotation=0, fontsize=18)\n",
    "# plt.legend(loc=\"upper left\", fontsize=14)\n",
    "# # plt.axis([-3, 3, 0, 10])\n",
    "# plt.show()"
   ]
  },
  {
   "cell_type": "code",
   "execution_count": 48,
   "id": "46a1a384",
   "metadata": {},
   "outputs": [],
   "source": [
    "# get_prediction_error((lambda X: n2go.inv_convert(model.predict(X)) ), func_dict)"
   ]
  },
  {
   "cell_type": "code",
   "execution_count": null,
   "id": "fff995a6",
   "metadata": {},
   "outputs": [],
   "source": []
  },
  {
   "cell_type": "markdown",
   "id": "a811f344",
   "metadata": {},
   "source": [
    "# Parametric Uncertainty/Distribution Estimation\n",
    "\n",
    "In this section, we try to estimate uncertainty (actually, fit the dataset distribution) with parametric reprecentation of a distribution instead of a discretized non-parametric representation.\n",
    "\n",
    "Possible solution includes\n",
    "- Quantile estimation with pinball loss (statistic)\n",
    "- Guassian distribution (fit a prabability distribution)"
   ]
  },
  {
   "cell_type": "markdown",
   "id": "175eb32d",
   "metadata": {},
   "source": [
    "## Quantile Estimation with Pinball Loss (grid --> parameters)\n",
    "\n",
    "Quantile estimation and pinball loss is based on the concept of statistic, which predict the value based on the rank of samples in the dataset.\n",
    "\n",
    "The outputs of the model are $(y_{10}, y_{90})$, 10% quantile prediction and 90% quantile prediction, respectively."
   ]
  },
  {
   "cell_type": "code",
   "execution_count": 49,
   "id": "1d1ef92d",
   "metadata": {},
   "outputs": [],
   "source": [
    "# quantile_list = [0.5]\n",
    "# quantile_list = [0.9]\n",
    "quantile_list = [0.1, 0.9]\n",
    "# quantile_list = [0.05, 0.95]\n",
    "# quantile_list = [0.25, 0.75]\n",
    "# quantile_list = [0.1, 0.5, 0.9]\n",
    "# quantile_list = [0.1, 0.3, 0.7, 0.9]\n",
    "# quantile_list = [0.1, 0.2, 0.3, 0.4, 0.6, 0.7, 0.8, 0.9] # remove 0.5\n",
    "# quantile_list = [0.1, 0.2, 0.3, 0.4, 0.5, 0.6, 0.7, 0.8, 0.9]\n",
    "num_quantile = len(quantile_list)"
   ]
  },
  {
   "cell_type": "code",
   "execution_count": 50,
   "id": "8e3fe57b",
   "metadata": {},
   "outputs": [
    {
     "name": "stdout",
     "output_type": "stream",
     "text": [
      "X.shape = (None, 1)\n",
      "gauss_grid.shape = (None, 5)\n"
     ]
    }
   ],
   "source": [
    "model = keras.models.Sequential([\n",
    "    num2grid(5,x_min=-10, x_max=10, sigma=3.0, input_shape=X_train.shape[1:]),\n",
    "    keras.layers.Dense(30, activation=\"relu\"),\n",
    "#     keras.layers.Dense(60, activation=\"relu\"),\n",
    "#     keras.layers.Dense(100, activation=\"relu\", kernel_regularizer=tf.keras.regularizers.l1(0.01)),\n",
    "#     keras.layers.Dense(30, activation=keras.layers.LeakyReLU(alpha=0.2) ),\n",
    "#     keras.layers.Dense(30, activation=\"selu\"),\n",
    "    keras.layers.Dense(num_quantile) # (y10, y90)\n",
    "])"
   ]
  },
  {
   "cell_type": "code",
   "execution_count": 51,
   "id": "bf131dc7",
   "metadata": {},
   "outputs": [],
   "source": [
    "# Customized loss function\n",
    "def pinballLoss_fn(y_true, y_pred, tau):\n",
    "    # tau: quantile, tau in [0.0, 1.0]\n",
    "    # y_true: label mean\n",
    "    # y_pred: predicted tau quantile\n",
    "    _q = y_true - y_pred\n",
    "    return tf.math.maximum( (tau*_q), ((tau-1.0)*_q))\n",
    "    \n",
    "def pinballLoss_10_90_fn(y_true, y_pred):\n",
    "    #\n",
    "    return pinballLoss_fn(y_true, y_pred[:,0:1], 0.1) + pinballLoss_fn(y_true, y_pred[:,1:2], 0.9)\n",
    "\n",
    "def pinballLoss_full_fn(y_true, y_pred):\n",
    "    #\n",
    "    pinball_losses = tf.stack( [pinballLoss_fn(y_true, y_pred[:, _i:(_i+1)], _tau) for _i, _tau in enumerate(quantile_list)], axis=1)\n",
    "    return tf.reduce_sum(pinball_losses, axis=1)"
   ]
  },
  {
   "cell_type": "code",
   "execution_count": 52,
   "id": "a71305d5",
   "metadata": {},
   "outputs": [],
   "source": [
    "# optimizer = keras.optimizers.SGD(lr=0.1, momentum=0.9)\n",
    "optimizer = keras.optimizers.Adam(lr=0.1)\n",
    "# model.compile(loss=pinballLoss_10_90_fn, optimizer=optimizer)\n",
    "model.compile(loss=pinballLoss_full_fn, optimizer=optimizer)"
   ]
  },
  {
   "cell_type": "code",
   "execution_count": 53,
   "id": "d935c409",
   "metadata": {
    "scrolled": true
   },
   "outputs": [
    {
     "name": "stdout",
     "output_type": "stream",
     "text": [
      "Epoch 1/100\n",
      "X.shape = (None, 1)\n",
      "gauss_grid.shape = (None, 5)\n",
      "X.shape = (None, 1)\n",
      "gauss_grid.shape = (None, 5)\n",
      "1/3 [=========>....................] - ETA: 2s - loss: 16.3056X.shape = (None, 1)\n",
      "gauss_grid.shape = (None, 5)\n",
      "3/3 [==============================] - 2s 194ms/step - loss: 17.8435 - val_loss: 16.0146\n",
      "Epoch 2/100\n",
      "3/3 [==============================] - 0s 119ms/step - loss: 13.8965 - val_loss: 9.0448\n",
      "Epoch 3/100\n",
      "3/3 [==============================] - 0s 116ms/step - loss: 9.1047 - val_loss: 5.5655\n",
      "Epoch 4/100\n",
      "3/3 [==============================] - 0s 128ms/step - loss: 6.4682 - val_loss: 5.4065\n",
      "Epoch 5/100\n",
      "3/3 [==============================] - 0s 89ms/step - loss: 6.5101 - val_loss: 6.9583\n",
      "Epoch 6/100\n",
      "3/3 [==============================] - 0s 67ms/step - loss: 7.5456 - val_loss: 7.3005\n",
      "Epoch 7/100\n",
      "3/3 [==============================] - 0s 77ms/step - loss: 7.5183 - val_loss: 6.6975\n",
      "Epoch 8/100\n",
      "3/3 [==============================] - 0s 61ms/step - loss: 6.7696 - val_loss: 5.7269\n",
      "Epoch 9/100\n",
      "3/3 [==============================] - 0s 54ms/step - loss: 5.6762 - val_loss: 4.6076\n",
      "Epoch 10/100\n",
      "3/3 [==============================] - 0s 55ms/step - loss: 4.7804 - val_loss: 4.2274\n",
      "Epoch 11/100\n",
      "3/3 [==============================] - 0s 60ms/step - loss: 5.4351 - val_loss: 4.0319\n",
      "Epoch 12/100\n",
      "3/3 [==============================] - 0s 91ms/step - loss: 5.0925 - val_loss: 3.6234\n",
      "Epoch 13/100\n",
      "3/3 [==============================] - 0s 111ms/step - loss: 4.6637 - val_loss: 3.9130\n",
      "Epoch 14/100\n",
      "3/3 [==============================] - 0s 113ms/step - loss: 4.7425 - val_loss: 4.1324\n",
      "Epoch 15/100\n",
      "3/3 [==============================] - 0s 82ms/step - loss: 4.6335 - val_loss: 4.1934\n",
      "Epoch 16/100\n",
      "3/3 [==============================] - 0s 129ms/step - loss: 4.4640 - val_loss: 4.0400\n",
      "Epoch 17/100\n",
      "3/3 [==============================] - ETA: 0s - loss: 4.325 - 0s 100ms/step - loss: 4.3258 - val_loss: 3.9235\n",
      "Epoch 18/100\n",
      "3/3 [==============================] - 0s 102ms/step - loss: 4.3463 - val_loss: 3.9615\n",
      "Epoch 19/100\n",
      "3/3 [==============================] - 0s 78ms/step - loss: 4.2707 - val_loss: 3.9215\n",
      "Epoch 20/100\n",
      "3/3 [==============================] - 0s 78ms/step - loss: 4.2468 - val_loss: 3.9236\n",
      "Epoch 21/100\n",
      "3/3 [==============================] - 0s 117ms/step - loss: 4.2402 - val_loss: 3.7867\n",
      "Epoch 22/100\n",
      "3/3 [==============================] - 0s 122ms/step - loss: 4.2034 - val_loss: 3.7159\n",
      "Epoch 23/100\n",
      "3/3 [==============================] - 0s 106ms/step - loss: 4.1701 - val_loss: 3.6074\n",
      "Epoch 24/100\n",
      "3/3 [==============================] - 0s 78ms/step - loss: 4.0802 - val_loss: 3.5592\n",
      "Epoch 25/100\n",
      "3/3 [==============================] - 0s 124ms/step - loss: 4.1062 - val_loss: 3.6771\n",
      "Epoch 26/100\n",
      "3/3 [==============================] - 0s 104ms/step - loss: 4.0369 - val_loss: 3.7315\n",
      "Epoch 27/100\n",
      "3/3 [==============================] - 0s 121ms/step - loss: 3.9781 - val_loss: 3.8685\n",
      "Epoch 28/100\n",
      "3/3 [==============================] - 0s 104ms/step - loss: 3.9599 - val_loss: 3.8385\n",
      "Epoch 29/100\n",
      "3/3 [==============================] - 0s 101ms/step - loss: 3.9139 - val_loss: 3.8453\n",
      "Epoch 30/100\n",
      "3/3 [==============================] - 0s 102ms/step - loss: 3.9109 - val_loss: 3.6374\n",
      "Epoch 31/100\n",
      "3/3 [==============================] - 0s 100ms/step - loss: 3.8102 - val_loss: 3.5607\n",
      "Epoch 32/100\n",
      "3/3 [==============================] - 0s 77ms/step - loss: 3.7887 - val_loss: 3.4560\n",
      "Epoch 33/100\n",
      "3/3 [==============================] - 0s 57ms/step - loss: 3.7108 - val_loss: 3.3230\n",
      "Epoch 34/100\n",
      "3/3 [==============================] - 0s 59ms/step - loss: 3.7133 - val_loss: 3.2187\n",
      "Epoch 35/100\n",
      "3/3 [==============================] - 0s 61ms/step - loss: 3.6412 - val_loss: 3.3020\n",
      "Epoch 36/100\n",
      "3/3 [==============================] - 0s 97ms/step - loss: 3.5757 - val_loss: 3.7097\n",
      "Epoch 37/100\n",
      "3/3 [==============================] - 0s 104ms/step - loss: 3.5388 - val_loss: 3.6405\n",
      "Epoch 38/100\n",
      "3/3 [==============================] - 0s 115ms/step - loss: 3.4918 - val_loss: 3.4368\n",
      "Epoch 39/100\n",
      "3/3 [==============================] - 0s 95ms/step - loss: 3.3494 - val_loss: 3.2832\n",
      "Epoch 40/100\n",
      "3/3 [==============================] - 0s 97ms/step - loss: 3.3358 - val_loss: 3.0924\n",
      "Epoch 41/100\n",
      "3/3 [==============================] - 0s 111ms/step - loss: 3.3471 - val_loss: 3.1568\n",
      "Epoch 42/100\n",
      "3/3 [==============================] - 0s 115ms/step - loss: 3.2220 - val_loss: 3.3565\n",
      "Epoch 43/100\n",
      "3/3 [==============================] - ETA: 0s - loss: 3.269 - 0s 104ms/step - loss: 3.2694 - val_loss: 3.1490\n",
      "Epoch 44/100\n",
      "3/3 [==============================] - 0s 119ms/step - loss: 3.2134 - val_loss: 3.1609\n",
      "Epoch 45/100\n",
      "3/3 [==============================] - 0s 125ms/step - loss: 3.0947 - val_loss: 3.1238\n",
      "Epoch 46/100\n",
      "3/3 [==============================] - 0s 103ms/step - loss: 3.1671 - val_loss: 2.9587\n",
      "Epoch 47/100\n",
      "3/3 [==============================] - 0s 88ms/step - loss: 3.0658 - val_loss: 2.9268\n",
      "Epoch 48/100\n",
      "3/3 [==============================] - 0s 111ms/step - loss: 3.0601 - val_loss: 3.0661\n",
      "Epoch 49/100\n",
      "3/3 [==============================] - 0s 121ms/step - loss: 2.9594 - val_loss: 3.1270\n",
      "Epoch 50/100\n",
      "3/3 [==============================] - 0s 117ms/step - loss: 3.0493 - val_loss: 3.0572\n",
      "Epoch 51/100\n",
      "3/3 [==============================] - 0s 106ms/step - loss: 3.0435 - val_loss: 2.9095\n",
      "Epoch 52/100\n",
      "3/3 [==============================] - 0s 115ms/step - loss: 2.9483 - val_loss: 3.1672\n",
      "Epoch 53/100\n",
      "3/3 [==============================] - 0s 75ms/step - loss: 3.0275 - val_loss: 3.1704\n",
      "Epoch 54/100\n",
      "3/3 [==============================] - 0s 60ms/step - loss: 3.0430 - val_loss: 3.0364\n",
      "Epoch 55/100\n",
      "3/3 [==============================] - 0s 67ms/step - loss: 2.7771 - val_loss: 2.7661\n",
      "Epoch 56/100\n",
      "3/3 [==============================] - 0s 78ms/step - loss: 2.8446 - val_loss: 2.6398\n",
      "Epoch 57/100\n",
      "3/3 [==============================] - 0s 58ms/step - loss: 2.7951 - val_loss: 2.5593\n",
      "Epoch 58/100\n",
      "3/3 [==============================] - 0s 60ms/step - loss: 2.6347 - val_loss: 2.8019\n",
      "Epoch 59/100\n",
      "3/3 [==============================] - 0s 61ms/step - loss: 2.7310 - val_loss: 2.6533\n",
      "Epoch 60/100\n",
      "3/3 [==============================] - 0s 84ms/step - loss: 2.6042 - val_loss: 2.6255\n",
      "Epoch 61/100\n",
      "3/3 [==============================] - 0s 121ms/step - loss: 2.6464 - val_loss: 2.5255\n",
      "Epoch 62/100\n",
      "3/3 [==============================] - 0s 90ms/step - loss: 2.6006 - val_loss: 2.7508\n",
      "Epoch 63/100\n",
      "3/3 [==============================] - 0s 80ms/step - loss: 2.6575 - val_loss: 2.7493\n",
      "Epoch 64/100\n",
      "3/3 [==============================] - 0s 103ms/step - loss: 2.6317 - val_loss: 2.7853\n",
      "Epoch 65/100\n",
      "3/3 [==============================] - 0s 117ms/step - loss: 2.6746 - val_loss: 2.5756\n",
      "Epoch 66/100\n",
      "3/3 [==============================] - 0s 102ms/step - loss: 2.6842 - val_loss: 2.6893\n",
      "Epoch 67/100\n",
      "3/3 [==============================] - 0s 101ms/step - loss: 2.6192 - val_loss: 2.7157\n",
      "Epoch 68/100\n",
      "3/3 [==============================] - 0s 73ms/step - loss: 2.6542 - val_loss: 2.4936\n",
      "Epoch 69/100\n",
      "3/3 [==============================] - 0s 92ms/step - loss: 2.5761 - val_loss: 2.7912\n",
      "Epoch 70/100\n",
      "3/3 [==============================] - 0s 82ms/step - loss: 2.7360 - val_loss: 3.0540\n",
      "Epoch 71/100\n",
      "3/3 [==============================] - 0s 106ms/step - loss: 2.7256 - val_loss: 2.8434\n",
      "Epoch 72/100\n",
      "3/3 [==============================] - 0s 55ms/step - loss: 2.7216 - val_loss: 2.5288\n",
      "Epoch 73/100\n",
      "3/3 [==============================] - ETA: 0s - loss: 2.508 - 0s 94ms/step - loss: 2.6844 - val_loss: 2.5619\n",
      "Epoch 74/100\n",
      "3/3 [==============================] - 0s 82ms/step - loss: 2.5543 - val_loss: 2.7180\n",
      "Epoch 75/100\n",
      "3/3 [==============================] - 0s 87ms/step - loss: 2.6352 - val_loss: 2.8353\n",
      "Epoch 76/100\n",
      "3/3 [==============================] - 0s 52ms/step - loss: 2.6167 - val_loss: 2.6469\n",
      "Epoch 77/100\n",
      "3/3 [==============================] - 0s 63ms/step - loss: 2.5867 - val_loss: 2.5022\n",
      "Epoch 78/100\n",
      "3/3 [==============================] - 0s 62ms/step - loss: 2.6819 - val_loss: 2.5918\n",
      "Epoch 79/100\n",
      "3/3 [==============================] - 0s 55ms/step - loss: 2.5170 - val_loss: 2.6272\n",
      "Epoch 80/100\n"
     ]
    },
    {
     "name": "stdout",
     "output_type": "stream",
     "text": [
      "3/3 [==============================] - 0s 103ms/step - loss: 2.6452 - val_loss: 2.6148\n",
      "Epoch 81/100\n",
      "3/3 [==============================] - 0s 84ms/step - loss: 2.5132 - val_loss: 2.5049\n",
      "Epoch 82/100\n",
      "3/3 [==============================] - 0s 75ms/step - loss: 2.5629 - val_loss: 2.4953\n",
      "Epoch 83/100\n",
      "3/3 [==============================] - 0s 83ms/step - loss: 2.5404 - val_loss: 2.7100\n",
      "Epoch 84/100\n",
      "3/3 [==============================] - 0s 87ms/step - loss: 2.6566 - val_loss: 2.7974\n",
      "Epoch 85/100\n",
      "3/3 [==============================] - 0s 75ms/step - loss: 2.6355 - val_loss: 2.5663\n",
      "Epoch 86/100\n",
      "3/3 [==============================] - 0s 54ms/step - loss: 2.5312 - val_loss: 2.5311\n",
      "Epoch 87/100\n",
      "3/3 [==============================] - 0s 58ms/step - loss: 2.5633 - val_loss: 2.7066\n",
      "Epoch 88/100\n",
      "3/3 [==============================] - 0s 88ms/step - loss: 2.5717 - val_loss: 2.5218\n",
      "Epoch 89/100\n",
      "3/3 [==============================] - 0s 119ms/step - loss: 2.5461 - val_loss: 2.5395\n",
      "Epoch 90/100\n",
      "3/3 [==============================] - 0s 125ms/step - loss: 2.5418 - val_loss: 2.6819\n",
      "Epoch 91/100\n",
      "3/3 [==============================] - 0s 108ms/step - loss: 2.5533 - val_loss: 2.5748\n",
      "Epoch 92/100\n",
      "3/3 [==============================] - 0s 130ms/step - loss: 2.5048 - val_loss: 2.4454\n",
      "Epoch 93/100\n",
      "3/3 [==============================] - 0s 101ms/step - loss: 2.5500 - val_loss: 2.6503\n",
      "Epoch 94/100\n",
      "3/3 [==============================] - 0s 104ms/step - loss: 2.5635 - val_loss: 2.7659\n",
      "Epoch 95/100\n",
      "3/3 [==============================] - 0s 87ms/step - loss: 2.5272 - val_loss: 2.6075\n",
      "Epoch 96/100\n",
      "3/3 [==============================] - 0s 85ms/step - loss: 2.7098 - val_loss: 2.7318\n",
      "Epoch 97/100\n",
      "3/3 [==============================] - 0s 113ms/step - loss: 2.6551 - val_loss: 2.7687\n",
      "Epoch 98/100\n",
      "3/3 [==============================] - 0s 126ms/step - loss: 2.5885 - val_loss: 2.5874\n",
      "Epoch 99/100\n",
      "3/3 [==============================] - 0s 104ms/step - loss: 2.4935 - val_loss: 2.5740\n",
      "Epoch 100/100\n",
      "3/3 [==============================] - 0s 108ms/step - loss: 2.6292 - val_loss: 2.4894\n"
     ]
    }
   ],
   "source": [
    "history = model.fit(X_train, y_train, epochs=100,\n",
    "                    validation_data=(X_valid, y_valid))"
   ]
  },
  {
   "cell_type": "code",
   "execution_count": 54,
   "id": "e7fa5656",
   "metadata": {
    "scrolled": false
   },
   "outputs": [
    {
     "data": {
      "image/png": "[encoded data removed]",
      "text/plain": [
       "<Figure size 576x360 with 1 Axes>"
      ]
     },
     "metadata": {
      "needs_background": "light"
     },
     "output_type": "display_data"
    }
   ],
   "source": [
    "import pandas as pd\n",
    "\n",
    "pd.DataFrame(history.history).plot(figsize=(8, 5))\n",
    "plt.grid(True)\n",
    "# plt.gca().set_ylim(0, 1)\n",
    "plt.show()"
   ]
  },
  {
   "cell_type": "markdown",
   "id": "a4a59dd6",
   "metadata": {},
   "source": [
    "### Draw the mean prediction curve averaged from all quantile predictions."
   ]
  },
  {
   "cell_type": "code",
   "execution_count": 55,
   "id": "0e5d0058",
   "metadata": {},
   "outputs": [
    {
     "name": "stdout",
     "output_type": "stream",
     "text": [
      "X.shape = (None, 1)\n",
      "gauss_grid.shape = (None, 5)\n"
     ]
    },
    {
     "data": {
      "image/png": "[encoded data removed]",
      "text/plain": [
       "<Figure size 432x288 with 1 Axes>"
      ]
     },
     "metadata": {
      "needs_background": "light"
     },
     "output_type": "display_data"
    }
   ],
   "source": [
    "plt.plot(X_train, y_train, \"b.\")\n",
    "draw_func((lambda X: np.average(model.predict(X), axis=-1) ), mark='r-', linewidth=2, label=\"Predictions\")\n",
    "# draw_func((lambda X: model.predict(X)[:,0] ), mark='k--', linewidth=1, label=\"$y_{%d}$\" % (quantile_list[0]*100))\n",
    "# draw_func((lambda X: model.predict(X)[:,-1] ), mark='k--', linewidth=1, label=\"$y_{%d}$\" % (quantile_list[-1]*100))\n",
    "draw_normal_func(func_dict)\n",
    "plt.xlabel(\"$x_1$\", fontsize=18)\n",
    "plt.ylabel(\"$y$\", rotation=0, fontsize=18)\n",
    "plt.legend(loc=\"upper left\", fontsize=14)\n",
    "# plt.axis([-3, 3, 0, 10])\n",
    "plt.show()"
   ]
  },
  {
   "cell_type": "code",
   "execution_count": 56,
   "id": "f98d3ae8",
   "metadata": {},
   "outputs": [
    {
     "name": "stdout",
     "output_type": "stream",
     "text": [
      "y_func.shape = (100, 1)\n",
      "y_gt.shape = (100, 1)\n"
     ]
    },
    {
     "data": {
      "text/plain": [
       "1.37280660919481"
      ]
     },
     "execution_count": 56,
     "metadata": {},
     "output_type": "execute_result"
    }
   ],
   "source": [
    "get_prediction_error((lambda X: np.average(model.predict(X), axis=-1) ), func_dict)"
   ]
  },
  {
   "cell_type": "markdown",
   "id": "f79ac920",
   "metadata": {},
   "source": [
    "### Draw first and last quantile curve."
   ]
  },
  {
   "cell_type": "code",
   "execution_count": 57,
   "id": "42eeb254",
   "metadata": {},
   "outputs": [
    {
     "data": {
      "image/png": "[encoded data removed]",
      "text/plain": [
       "<Figure size 432x288 with 1 Axes>"
      ]
     },
     "metadata": {
      "needs_background": "light"
     },
     "output_type": "display_data"
    }
   ],
   "source": [
    "plt.plot(X_train, y_train, \"b.\")\n",
    "draw_func((lambda X: np.average(model.predict(X), axis=-1) ), mark='r-', linewidth=2, label=\"Predictions\")\n",
    "draw_func((lambda X: model.predict(X)[:,0] ), mark='k--', linewidth=1, label=\"$y_{%d}$\" % (quantile_list[0]*100))\n",
    "draw_func((lambda X: model.predict(X)[:,-1] ), mark='k--', linewidth=1, label=\"$y_{%d}$\" % (quantile_list[-1]*100))\n",
    "draw_normal_func(func_dict)\n",
    "plt.xlabel(\"$x_1$\", fontsize=18)\n",
    "plt.ylabel(\"$y$\", rotation=0, fontsize=18)\n",
    "plt.legend(loc=\"upper left\", fontsize=14)\n",
    "# plt.axis([-3, 3, 0, 10])\n",
    "plt.show()"
   ]
  },
  {
   "cell_type": "markdown",
   "id": "2a1b1b44",
   "metadata": {},
   "source": [
    "### Draw all quantile predictions"
   ]
  },
  {
   "cell_type": "code",
   "execution_count": 58,
   "id": "5e875238",
   "metadata": {},
   "outputs": [
    {
     "data": {
      "image/png": "[encoded data removed]",
      "text/plain": [
       "<Figure size 432x288 with 1 Axes>"
      ]
     },
     "metadata": {
      "needs_background": "light"
     },
     "output_type": "display_data"
    }
   ],
   "source": [
    "plt.plot(X_train, y_train, \"b.\")\n",
    "draw_func((lambda X: np.average(model.predict(X), axis=-1) ), mark='r-', linewidth=2, label=\"Predictions\")\n",
    "for _idx, _tau in enumerate(quantile_list):\n",
    "    draw_func((lambda X: model.predict(X)[:,_idx] ), mark='k--', linewidth=1, label=\"$y_{%d}$\" % (_tau*100))\n",
    "draw_normal_func(func_dict)\n",
    "plt.xlabel(\"$x_1$\", fontsize=18)\n",
    "plt.ylabel(\"$y$\", rotation=0, fontsize=18)\n",
    "plt.legend(loc=\"upper left\", fontsize=14)\n",
    "# plt.axis([-3, 3, 0, 10])\n",
    "plt.show()"
   ]
  },
  {
   "cell_type": "markdown",
   "id": "9a01aa69",
   "metadata": {},
   "source": [
    "## Gaussian Estimation with Gaussian Loss (grid-->parameters)\n",
    "\n",
    "Gaussain estimation requires the model to predict the mean and variance of a Gaussian distribution of the random variable regarded. The training purpose is to fit a Gaussian distribution to the data distribution (which is not necessay distributed as Gaussian).\n",
    "\n",
    "One possible solution, derived by BensonHuang, is that the model estimates $(\\mu, z)$, where $z=\\alpha ^{-1}log(\\sigma)$.\n",
    "The associated loss function can be $L_G(y, (\\mu,z)) = 0.5e^{-2\\alpha z}(y-\\mu)^2 + \\alpha z$."
   ]
  },
  {
   "cell_type": "code",
   "execution_count": 59,
   "id": "1a20d5dd",
   "metadata": {},
   "outputs": [],
   "source": [
    "alpha = 1.0\n",
    "# alpha = 0.01\n",
    "# alpha = 0.001"
   ]
  },
  {
   "cell_type": "code",
   "execution_count": 60,
   "id": "cb202ed2",
   "metadata": {},
   "outputs": [
    {
     "name": "stdout",
     "output_type": "stream",
     "text": [
      "X.shape = (None, 1)\n",
      "gauss_grid.shape = (None, 5)\n"
     ]
    }
   ],
   "source": [
    "model = keras.models.Sequential([\n",
    "    num2grid(5,x_min=-10, x_max=10, sigma=3.0, input_shape=X_train.shape[1:]),\n",
    "#     keras.layers.Dense(30, activation=\"relu\"),\n",
    "    keras.layers.Dense(60, activation=\"relu\"),\n",
    "#     keras.layers.Dense(30, activation=keras.layers.LeakyReLU(alpha=0.2) ),\n",
    "#     keras.layers.Dense(30, activation=\"selu\"),\n",
    "    keras.layers.Dense(2) # (mu, z)\n",
    "])"
   ]
  },
  {
   "cell_type": "code",
   "execution_count": 61,
   "id": "925f0a22",
   "metadata": {},
   "outputs": [
    {
     "name": "stdout",
     "output_type": "stream",
     "text": [
      "alpha = 1.000000\n"
     ]
    }
   ],
   "source": [
    "# Customized loss function\n",
    "print(\"alpha = %f\" % alpha)\n",
    "\n",
    "def GaussianLoss_fn(y_true, y_pred):\n",
    "    # y_true: label \n",
    "    # y_pred: (mu, z), z=log(sigma)\n",
    "    mu = y_pred[:, 0:1]\n",
    "    z  = y_pred[:, 1:2]\n",
    "    #\n",
    "    en2z = tf.math.exp((-2.0*alpha)*z)\n",
    "    ymu2 = (y_true - mu)**2\n",
    "    return (0.5*en2z*ymu2 + alpha*z)"
   ]
  },
  {
   "cell_type": "code",
   "execution_count": 62,
   "id": "1b388b4b",
   "metadata": {},
   "outputs": [],
   "source": [
    "# Learning rate scheduler\n",
    "learning_rate_switch_epoch_list = [30, 45]\n",
    "learning_rate_list = [0.001, 0.01, 0.1]\n",
    "# learning_rate_switch_epoch_list = [30, 80]\n",
    "# learning_rate_list = [0.01, 0.1, 0.01]\n",
    "#\n",
    "def piecewise_constant_fn(epoch):\n",
    "    for _i, epoch_s in enumerate(learning_rate_switch_epoch_list):\n",
    "        if epoch < epoch_s:\n",
    "            return learning_rate_list[_i]\n",
    "    return learning_rate_list[-1]\n",
    "\n",
    "lr_scheduler = keras.callbacks.LearningRateScheduler(piecewise_constant_fn)"
   ]
  },
  {
   "cell_type": "markdown",
   "id": "6ec2e05e",
   "metadata": {},
   "source": [
    "Third training with even greater speed"
   ]
  },
  {
   "cell_type": "code",
   "execution_count": 63,
   "id": "7a7e245b",
   "metadata": {},
   "outputs": [
    {
     "name": "stderr",
     "output_type": "stream",
     "text": [
      "/home/benson516/ml/my_env/lib/python3.6/site-packages/keras/optimizer_v2/optimizer_v2.py:356: UserWarning: The `lr` argument is deprecated, use `learning_rate` instead.\n",
      "  \"The `lr` argument is deprecated, use `learning_rate` instead.\")\n"
     ]
    }
   ],
   "source": [
    "# optimizer = keras.optimizers.SGD(lr=0.1, momentum=0.9)\n",
    "optimizer = keras.optimizers.Adam(lr=0.1)\n",
    "model.compile(loss=GaussianLoss_fn, optimizer=optimizer)"
   ]
  },
  {
   "cell_type": "code",
   "execution_count": 64,
   "id": "6d7b74a9",
   "metadata": {
    "scrolled": true
   },
   "outputs": [
    {
     "name": "stdout",
     "output_type": "stream",
     "text": [
      "Epoch 1/200\n",
      "X.shape = (None, 1)\n",
      "gauss_grid.shape = (None, 5)\n",
      "X.shape = (None, 1)\n",
      "gauss_grid.shape = (None, 5)\n",
      "1/3 [=========>....................] - ETA: 3s - loss: 321.1810X.shape = (None, 1)\n",
      "gauss_grid.shape = (None, 5)\n",
      "3/3 [==============================] - 2s 296ms/step - loss: 134.0080 - val_loss: 6.1675\n",
      "Epoch 2/200\n",
      "3/3 [==============================] - 0s 57ms/step - loss: 7.6670 - val_loss: 11.2597\n",
      "Epoch 3/200\n",
      "3/3 [==============================] - 0s 60ms/step - loss: 11.9223 - val_loss: 14.0437\n",
      "Epoch 4/200\n",
      "3/3 [==============================] - 0s 66ms/step - loss: 13.9416 - val_loss: 14.9812\n",
      "Epoch 5/200\n",
      "3/3 [==============================] - 0s 56ms/step - loss: 14.2253 - val_loss: 14.5548\n",
      "Epoch 6/200\n",
      "3/3 [==============================] - 0s 60ms/step - loss: 13.3072 - val_loss: 13.2105\n",
      "Epoch 7/200\n",
      "3/3 [==============================] - 0s 56ms/step - loss: 11.6230 - val_loss: 11.2189\n",
      "Epoch 8/200\n",
      "3/3 [==============================] - 0s 74ms/step - loss: 9.3634 - val_loss: 8.7264\n",
      "Epoch 9/200\n",
      "3/3 [==============================] - 0s 72ms/step - loss: 6.7621 - val_loss: 6.3535\n",
      "Epoch 10/200\n",
      "3/3 [==============================] - 0s 83ms/step - loss: 6.8470 - val_loss: 5.4668\n",
      "Epoch 11/200\n",
      "3/3 [==============================] - 0s 109ms/step - loss: 4.9412 - val_loss: 5.8742\n",
      "Epoch 12/200\n",
      "3/3 [==============================] - 0s 118ms/step - loss: 5.6831 - val_loss: 5.2695\n",
      "Epoch 13/200\n",
      "3/3 [==============================] - 0s 143ms/step - loss: 5.4135 - val_loss: 4.0684\n",
      "Epoch 14/200\n",
      "3/3 [==============================] - 0s 81ms/step - loss: 5.8159 - val_loss: 4.4330\n",
      "Epoch 15/200\n",
      "3/3 [==============================] - 0s 75ms/step - loss: 5.2812 - val_loss: 4.6720\n",
      "Epoch 16/200\n",
      "3/3 [==============================] - 0s 114ms/step - loss: 5.1109 - val_loss: 4.0237\n",
      "Epoch 17/200\n",
      "3/3 [==============================] - 0s 102ms/step - loss: 4.2728 - val_loss: 3.3517\n",
      "Epoch 18/200\n",
      "3/3 [==============================] - 0s 133ms/step - loss: 3.8347 - val_loss: 3.1562\n",
      "Epoch 19/200\n",
      "3/3 [==============================] - 0s 102ms/step - loss: 3.5409 - val_loss: 3.6729\n",
      "Epoch 20/200\n",
      "3/3 [==============================] - 0s 94ms/step - loss: 3.7591 - val_loss: 3.9147\n",
      "Epoch 21/200\n",
      "3/3 [==============================] - 0s 104ms/step - loss: 3.8024 - val_loss: 3.6756\n",
      "Epoch 22/200\n",
      "3/3 [==============================] - 0s 105ms/step - loss: 3.5669 - val_loss: 3.1229\n",
      "Epoch 23/200\n",
      "3/3 [==============================] - 0s 96ms/step - loss: 3.3121 - val_loss: 3.0105\n",
      "Epoch 24/200\n",
      "3/3 [==============================] - 0s 63ms/step - loss: 3.3016 - val_loss: 3.0478\n",
      "Epoch 25/200\n",
      "3/3 [==============================] - 0s 96ms/step - loss: 3.2887 - val_loss: 3.1310\n",
      "Epoch 26/200\n",
      "3/3 [==============================] - 0s 111ms/step - loss: 3.2218 - val_loss: 2.9259\n",
      "Epoch 27/200\n",
      "3/3 [==============================] - 0s 97ms/step - loss: 3.1196 - val_loss: 2.8880\n",
      "Epoch 28/200\n",
      "3/3 [==============================] - 0s 94ms/step - loss: 3.1168 - val_loss: 2.9845\n",
      "Epoch 29/200\n",
      "3/3 [==============================] - 0s 64ms/step - loss: 3.1139 - val_loss: 3.0596\n",
      "Epoch 30/200\n",
      "3/3 [==============================] - 0s 60ms/step - loss: 3.0997 - val_loss: 2.8611\n",
      "Epoch 31/200\n",
      "3/3 [==============================] - 0s 57ms/step - loss: 3.0877 - val_loss: 2.8493\n",
      "Epoch 32/200\n",
      "3/3 [==============================] - 0s 80ms/step - loss: 3.0510 - val_loss: 2.9594\n",
      "Epoch 33/200\n",
      "3/3 [==============================] - 0s 64ms/step - loss: 3.0704 - val_loss: 2.8971\n",
      "Epoch 34/200\n",
      "3/3 [==============================] - 0s 87ms/step - loss: 3.0297 - val_loss: 2.8347\n",
      "Epoch 35/200\n",
      "3/3 [==============================] - 0s 113ms/step - loss: 3.0420 - val_loss: 2.8691\n",
      "Epoch 36/200\n",
      "3/3 [==============================] - 0s 119ms/step - loss: 3.0202 - val_loss: 2.8730\n",
      "Epoch 37/200\n",
      "3/3 [==============================] - 0s 87ms/step - loss: 2.9967 - val_loss: 2.8312\n",
      "Epoch 38/200\n",
      "3/3 [==============================] - 0s 64ms/step - loss: 3.0038 - val_loss: 2.8275\n",
      "Epoch 39/200\n",
      "3/3 [==============================] - 0s 71ms/step - loss: 2.9822 - val_loss: 2.8791\n",
      "Epoch 40/200\n",
      "3/3 [==============================] - 0s 67ms/step - loss: 2.9821 - val_loss: 2.8211\n",
      "Epoch 41/200\n",
      "3/3 [==============================] - 0s 60ms/step - loss: 2.9579 - val_loss: 2.8253\n",
      "Epoch 42/200\n",
      "3/3 [==============================] - 0s 66ms/step - loss: 2.9606 - val_loss: 2.8281\n",
      "Epoch 43/200\n",
      "3/3 [==============================] - 0s 55ms/step - loss: 2.9514 - val_loss: 2.8655\n",
      "Epoch 44/200\n",
      "3/3 [==============================] - 0s 70ms/step - loss: 2.9415 - val_loss: 2.8221\n",
      "Epoch 45/200\n",
      "3/3 [==============================] - 0s 72ms/step - loss: 2.9660 - val_loss: 2.8177\n",
      "Epoch 46/200\n",
      "3/3 [==============================] - 0s 64ms/step - loss: 2.9241 - val_loss: 2.8771\n",
      "Epoch 47/200\n",
      "3/3 [==============================] - 0s 64ms/step - loss: 2.9353 - val_loss: 2.8076\n",
      "Epoch 48/200\n",
      "3/3 [==============================] - 0s 58ms/step - loss: 2.9355 - val_loss: 2.8146\n",
      "Epoch 49/200\n",
      "3/3 [==============================] - 0s 100ms/step - loss: 2.9380 - val_loss: 2.9106\n",
      "Epoch 50/200\n",
      "3/3 [==============================] - 0s 97ms/step - loss: 2.9450 - val_loss: 2.8197\n",
      "Epoch 51/200\n",
      "3/3 [==============================] - 0s 99ms/step - loss: 2.9055 - val_loss: 2.8020\n",
      "Epoch 52/200\n",
      "3/3 [==============================] - 0s 85ms/step - loss: 2.8983 - val_loss: 2.8226\n",
      "Epoch 53/200\n",
      "3/3 [==============================] - 0s 105ms/step - loss: 2.9032 - val_loss: 2.8114\n",
      "Epoch 54/200\n",
      "3/3 [==============================] - 0s 78ms/step - loss: 2.8837 - val_loss: 2.8198\n",
      "Epoch 55/200\n",
      "3/3 [==============================] - 0s 76ms/step - loss: 2.8878 - val_loss: 2.8185\n",
      "Epoch 56/200\n",
      "3/3 [==============================] - 0s 77ms/step - loss: 2.8953 - val_loss: 2.8061\n",
      "Epoch 57/200\n",
      "3/3 [==============================] - 0s 77ms/step - loss: 2.8873 - val_loss: 2.8131\n",
      "Epoch 58/200\n",
      "3/3 [==============================] - 0s 65ms/step - loss: 2.8802 - val_loss: 2.7951\n",
      "Epoch 59/200\n",
      "3/3 [==============================] - 0s 67ms/step - loss: 2.8910 - val_loss: 2.8081\n",
      "Epoch 60/200\n",
      "3/3 [==============================] - 0s 64ms/step - loss: 2.8684 - val_loss: 2.8229\n",
      "Epoch 61/200\n",
      "3/3 [==============================] - 0s 50ms/step - loss: 2.8682 - val_loss: 2.8078\n",
      "Epoch 62/200\n",
      "3/3 [==============================] - 0s 52ms/step - loss: 2.8698 - val_loss: 2.8045\n",
      "Epoch 63/200\n",
      "3/3 [==============================] - 0s 60ms/step - loss: 2.8606 - val_loss: 2.8109\n",
      "Epoch 64/200\n",
      "3/3 [==============================] - 0s 54ms/step - loss: 2.8662 - val_loss: 2.8132\n",
      "Epoch 65/200\n",
      "3/3 [==============================] - 0s 77ms/step - loss: 2.8585 - val_loss: 2.8182\n",
      "Epoch 66/200\n",
      "3/3 [==============================] - 0s 86ms/step - loss: 2.8529 - val_loss: 2.7983\n",
      "Epoch 67/200\n",
      "3/3 [==============================] - 0s 98ms/step - loss: 2.8581 - val_loss: 2.7966\n",
      "Epoch 68/200\n",
      "3/3 [==============================] - 0s 120ms/step - loss: 2.8592 - val_loss: 2.8067\n",
      "Epoch 69/200\n",
      "3/3 [==============================] - 0s 109ms/step - loss: 2.8505 - val_loss: 2.8316\n",
      "Epoch 70/200\n",
      "3/3 [==============================] - 0s 92ms/step - loss: 2.8482 - val_loss: 2.8092\n",
      "Epoch 71/200\n",
      "3/3 [==============================] - 0s 109ms/step - loss: 2.8674 - val_loss: 2.8032\n",
      "Epoch 72/200\n",
      "3/3 [==============================] - 0s 125ms/step - loss: 2.8503 - val_loss: 2.8326\n",
      "Epoch 73/200\n",
      "3/3 [==============================] - 0s 77ms/step - loss: 2.8357 - val_loss: 2.7902\n",
      "Epoch 74/200\n",
      "3/3 [==============================] - ETA: 0s - loss: 2.870 - 0s 108ms/step - loss: 2.8704 - val_loss: 2.8048\n",
      "Epoch 75/200\n",
      "3/3 [==============================] - 0s 94ms/step - loss: 2.8505 - val_loss: 2.8299\n",
      "Epoch 76/200\n",
      "3/3 [==============================] - 0s 100ms/step - loss: 2.8428 - val_loss: 2.7780\n",
      "Epoch 77/200\n",
      "3/3 [==============================] - 0s 84ms/step - loss: 2.8402 - val_loss: 2.7834\n",
      "Epoch 78/200\n",
      "3/3 [==============================] - 0s 102ms/step - loss: 2.8213 - val_loss: 2.7800\n",
      "Epoch 79/200\n",
      "3/3 [==============================] - 0s 88ms/step - loss: 2.8255 - val_loss: 2.7885\n",
      "Epoch 80/200\n",
      "3/3 [==============================] - 0s 126ms/step - loss: 2.8210 - val_loss: 2.7877\n",
      "Epoch 81/200\n"
     ]
    },
    {
     "name": "stdout",
     "output_type": "stream",
     "text": [
      "3/3 [==============================] - 0s 97ms/step - loss: 2.8232 - val_loss: 2.7667\n",
      "Epoch 82/200\n",
      "3/3 [==============================] - 0s 97ms/step - loss: 2.8159 - val_loss: 2.7794\n",
      "Epoch 83/200\n",
      "3/3 [==============================] - 0s 102ms/step - loss: 2.8196 - val_loss: 2.7837\n",
      "Epoch 84/200\n",
      "3/3 [==============================] - 0s 68ms/step - loss: 2.8126 - val_loss: 2.7916\n",
      "Epoch 85/200\n",
      "3/3 [==============================] - 0s 60ms/step - loss: 2.8014 - val_loss: 2.7730\n",
      "Epoch 86/200\n",
      "3/3 [==============================] - 0s 83ms/step - loss: 2.8035 - val_loss: 2.7882\n",
      "Epoch 87/200\n",
      "3/3 [==============================] - 0s 78ms/step - loss: 2.8080 - val_loss: 2.7893\n",
      "Epoch 88/200\n",
      "3/3 [==============================] - 0s 46ms/step - loss: 2.8079 - val_loss: 2.7759\n",
      "Epoch 89/200\n",
      "3/3 [==============================] - 0s 55ms/step - loss: 2.7994 - val_loss: 2.7920\n",
      "Epoch 90/200\n",
      "3/3 [==============================] - 0s 67ms/step - loss: 2.7867 - val_loss: 2.7669\n",
      "Epoch 91/200\n",
      "3/3 [==============================] - 0s 70ms/step - loss: 2.7919 - val_loss: 2.7761\n",
      "Epoch 92/200\n",
      "3/3 [==============================] - 0s 64ms/step - loss: 2.7786 - val_loss: 2.7679\n",
      "Epoch 93/200\n",
      "3/3 [==============================] - 0s 80ms/step - loss: 2.7694 - val_loss: 2.7710\n",
      "Epoch 94/200\n",
      "3/3 [==============================] - 0s 84ms/step - loss: 2.7768 - val_loss: 2.7784\n",
      "Epoch 95/200\n",
      "3/3 [==============================] - 0s 126ms/step - loss: 2.7731 - val_loss: 2.7588\n",
      "Epoch 96/200\n",
      "3/3 [==============================] - 0s 89ms/step - loss: 2.8024 - val_loss: 2.7704\n",
      "Epoch 97/200\n",
      "3/3 [==============================] - 0s 106ms/step - loss: 2.7666 - val_loss: 2.7825\n",
      "Epoch 98/200\n",
      "3/3 [==============================] - 0s 101ms/step - loss: 2.7583 - val_loss: 2.7753\n",
      "Epoch 99/200\n",
      "3/3 [==============================] - 0s 111ms/step - loss: 2.7699 - val_loss: 2.8116\n",
      "Epoch 100/200\n",
      "3/3 [==============================] - 0s 84ms/step - loss: 2.7941 - val_loss: 2.7965\n",
      "Epoch 101/200\n",
      "3/3 [==============================] - 0s 86ms/step - loss: 2.7712 - val_loss: 2.7665\n",
      "Epoch 102/200\n",
      "3/3 [==============================] - 0s 117ms/step - loss: 2.7398 - val_loss: 2.8103\n",
      "Epoch 103/200\n",
      "3/3 [==============================] - 0s 103ms/step - loss: 2.7572 - val_loss: 2.7662\n",
      "Epoch 104/200\n",
      "3/3 [==============================] - 0s 105ms/step - loss: 2.7364 - val_loss: 2.7734\n",
      "Epoch 105/200\n",
      "3/3 [==============================] - 0s 87ms/step - loss: 2.7320 - val_loss: 2.7606\n",
      "Epoch 106/200\n",
      "3/3 [==============================] - 0s 121ms/step - loss: 2.7364 - val_loss: 2.7585\n",
      "Epoch 107/200\n",
      "3/3 [==============================] - 0s 68ms/step - loss: 2.7530 - val_loss: 2.7966\n",
      "Epoch 108/200\n",
      "3/3 [==============================] - 0s 67ms/step - loss: 2.7142 - val_loss: 2.8392\n",
      "Epoch 109/200\n",
      "3/3 [==============================] - 0s 74ms/step - loss: 2.7651 - val_loss: 2.8148\n",
      "Epoch 110/200\n",
      "3/3 [==============================] - 0s 127ms/step - loss: 2.7365 - val_loss: 2.7446\n",
      "Epoch 111/200\n",
      "3/3 [==============================] - 0s 75ms/step - loss: 2.7134 - val_loss: 2.7516\n",
      "Epoch 112/200\n",
      "3/3 [==============================] - 0s 73ms/step - loss: 2.7047 - val_loss: 2.7809\n",
      "Epoch 113/200\n",
      "3/3 [==============================] - 0s 61ms/step - loss: 2.7052 - val_loss: 2.7403\n",
      "Epoch 114/200\n",
      "3/3 [==============================] - 0s 53ms/step - loss: 2.6878 - val_loss: 2.7449\n",
      "Epoch 115/200\n",
      "3/3 [==============================] - 0s 78ms/step - loss: 2.6874 - val_loss: 2.7541\n",
      "Epoch 116/200\n",
      "3/3 [==============================] - 0s 61ms/step - loss: 2.6788 - val_loss: 2.7341\n",
      "Epoch 117/200\n",
      "3/3 [==============================] - 0s 52ms/step - loss: 2.6906 - val_loss: 2.7562\n",
      "Epoch 118/200\n",
      "3/3 [==============================] - 0s 64ms/step - loss: 2.6866 - val_loss: 2.7609\n",
      "Epoch 119/200\n",
      "3/3 [==============================] - 0s 65ms/step - loss: 2.6939 - val_loss: 2.7422\n",
      "Epoch 120/200\n",
      "3/3 [==============================] - 0s 80ms/step - loss: 2.6780 - val_loss: 2.7447\n",
      "Epoch 121/200\n",
      "3/3 [==============================] - 0s 82ms/step - loss: 2.6683 - val_loss: 2.7287\n",
      "Epoch 122/200\n",
      "3/3 [==============================] - 0s 110ms/step - loss: 2.6854 - val_loss: 2.7747\n",
      "Epoch 123/200\n",
      "3/3 [==============================] - 0s 89ms/step - loss: 2.6769 - val_loss: 2.7417\n",
      "Epoch 124/200\n",
      "3/3 [==============================] - 0s 66ms/step - loss: 2.6638 - val_loss: 2.7365\n",
      "Epoch 125/200\n",
      "3/3 [==============================] - 0s 77ms/step - loss: 2.6705 - val_loss: 2.7376\n",
      "Epoch 126/200\n",
      "3/3 [==============================] - 0s 78ms/step - loss: 2.6578 - val_loss: 2.7647\n",
      "Epoch 127/200\n",
      "3/3 [==============================] - 0s 89ms/step - loss: 2.6917 - val_loss: 2.7562\n",
      "Epoch 128/200\n",
      "3/3 [==============================] - 0s 78ms/step - loss: 2.6609 - val_loss: 2.7417\n",
      "Epoch 129/200\n",
      "3/3 [==============================] - 0s 117ms/step - loss: 2.7013 - val_loss: 2.7346\n",
      "Epoch 130/200\n",
      "3/3 [==============================] - 0s 100ms/step - loss: 2.6581 - val_loss: 2.7386\n",
      "Epoch 131/200\n",
      "3/3 [==============================] - 0s 86ms/step - loss: 2.6623 - val_loss: 2.7071\n",
      "Epoch 132/200\n",
      "3/3 [==============================] - 0s 71ms/step - loss: 2.6723 - val_loss: 2.7176\n",
      "Epoch 133/200\n",
      "3/3 [==============================] - 0s 66ms/step - loss: 2.6441 - val_loss: 2.7155\n",
      "Epoch 134/200\n",
      "3/3 [==============================] - 0s 70ms/step - loss: 2.6339 - val_loss: 2.6946\n",
      "Epoch 135/200\n",
      "3/3 [==============================] - 0s 68ms/step - loss: 2.6435 - val_loss: 2.7216\n",
      "Epoch 136/200\n",
      "3/3 [==============================] - 0s 59ms/step - loss: 2.6299 - val_loss: 2.6799\n",
      "Epoch 137/200\n",
      "3/3 [==============================] - 0s 102ms/step - loss: 2.6248 - val_loss: 2.7488\n",
      "Epoch 138/200\n",
      "3/3 [==============================] - 0s 123ms/step - loss: 2.6511 - val_loss: 2.6888\n",
      "Epoch 139/200\n",
      "3/3 [==============================] - 0s 109ms/step - loss: 2.6451 - val_loss: 2.7249\n",
      "Epoch 140/200\n",
      "3/3 [==============================] - 0s 75ms/step - loss: 2.6575 - val_loss: 2.7172\n",
      "Epoch 141/200\n",
      "3/3 [==============================] - 0s 82ms/step - loss: 2.6226 - val_loss: 2.6811\n",
      "Epoch 142/200\n",
      "3/3 [==============================] - 0s 64ms/step - loss: 2.6624 - val_loss: 2.7475\n",
      "Epoch 143/200\n",
      "3/3 [==============================] - 0s 60ms/step - loss: 2.6181 - val_loss: 2.7416\n",
      "Epoch 144/200\n",
      "3/3 [==============================] - 0s 69ms/step - loss: 2.6169 - val_loss: 2.7999\n",
      "Epoch 145/200\n",
      "3/3 [==============================] - 0s 66ms/step - loss: 2.6579 - val_loss: 2.6650\n",
      "Epoch 146/200\n",
      "3/3 [==============================] - 0s 56ms/step - loss: 2.6193 - val_loss: 2.7022\n",
      "Epoch 147/200\n",
      "3/3 [==============================] - 0s 54ms/step - loss: 2.6024 - val_loss: 2.6939\n",
      "Epoch 148/200\n",
      "3/3 [==============================] - 0s 66ms/step - loss: 2.6078 - val_loss: 2.6819\n",
      "Epoch 149/200\n",
      "3/3 [==============================] - 0s 75ms/step - loss: 2.5954 - val_loss: 2.7285\n",
      "Epoch 150/200\n",
      "3/3 [==============================] - 0s 89ms/step - loss: 2.6177 - val_loss: 2.6573\n",
      "Epoch 151/200\n",
      "3/3 [==============================] - 0s 92ms/step - loss: 2.5764 - val_loss: 2.6990\n",
      "Epoch 152/200\n",
      "3/3 [==============================] - 0s 75ms/step - loss: 2.5795 - val_loss: 2.6943\n",
      "Epoch 153/200\n",
      "3/3 [==============================] - 0s 94ms/step - loss: 2.5962 - val_loss: 2.6850\n",
      "Epoch 154/200\n",
      "3/3 [==============================] - 0s 104ms/step - loss: 2.5764 - val_loss: 2.6910\n",
      "Epoch 155/200\n",
      "3/3 [==============================] - 0s 135ms/step - loss: 2.5863 - val_loss: 2.6706\n",
      "Epoch 156/200\n",
      "3/3 [==============================] - 0s 130ms/step - loss: 2.6062 - val_loss: 2.6854\n",
      "Epoch 157/200\n",
      "3/3 [==============================] - 0s 112ms/step - loss: 2.6250 - val_loss: 2.6587\n",
      "Epoch 158/200\n",
      "3/3 [==============================] - 0s 103ms/step - loss: 2.5657 - val_loss: 2.7067\n",
      "Epoch 159/200\n",
      "3/3 [==============================] - 0s 97ms/step - loss: 2.6123 - val_loss: 2.7217\n",
      "Epoch 160/200\n",
      "3/3 [==============================] - 0s 95ms/step - loss: 2.6104 - val_loss: 2.6731\n",
      "Epoch 161/200\n",
      "3/3 [==============================] - 0s 79ms/step - loss: 2.5739 - val_loss: 2.6686\n",
      "Epoch 162/200\n",
      "3/3 [==============================] - 0s 105ms/step - loss: 2.5839 - val_loss: 2.6614\n",
      "Epoch 163/200\n"
     ]
    },
    {
     "name": "stdout",
     "output_type": "stream",
     "text": [
      "3/3 [==============================] - 0s 117ms/step - loss: 2.5526 - val_loss: 2.6827\n",
      "Epoch 164/200\n",
      "3/3 [==============================] - 0s 88ms/step - loss: 2.5715 - val_loss: 2.6547\n",
      "Epoch 165/200\n",
      "3/3 [==============================] - 0s 115ms/step - loss: 2.6015 - val_loss: 2.7939\n",
      "Epoch 166/200\n",
      "3/3 [==============================] - 0s 109ms/step - loss: 2.6517 - val_loss: 2.6632\n",
      "Epoch 167/200\n",
      "3/3 [==============================] - 0s 68ms/step - loss: 2.6521 - val_loss: 2.8011\n",
      "Epoch 168/200\n",
      "3/3 [==============================] - 0s 59ms/step - loss: 2.7011 - val_loss: 2.7549\n",
      "Epoch 169/200\n",
      "3/3 [==============================] - 0s 72ms/step - loss: 2.6529 - val_loss: 2.6449\n",
      "Epoch 170/200\n",
      "3/3 [==============================] - 0s 60ms/step - loss: 2.6634 - val_loss: 2.7882\n",
      "Epoch 171/200\n",
      "3/3 [==============================] - 0s 52ms/step - loss: 2.6046 - val_loss: 2.8616\n",
      "Epoch 172/200\n",
      "3/3 [==============================] - 0s 58ms/step - loss: 2.7051 - val_loss: 2.9861\n",
      "Epoch 173/200\n",
      "3/3 [==============================] - 0s 61ms/step - loss: 2.7141 - val_loss: 2.6310\n",
      "Epoch 174/200\n",
      "3/3 [==============================] - 0s 83ms/step - loss: 2.6680 - val_loss: 2.7813\n",
      "Epoch 175/200\n",
      "3/3 [==============================] - 0s 125ms/step - loss: 2.7050 - val_loss: 2.7521\n",
      "Epoch 176/200\n",
      "3/3 [==============================] - 0s 108ms/step - loss: 2.6990 - val_loss: 2.8034\n",
      "Epoch 177/200\n",
      "3/3 [==============================] - 0s 101ms/step - loss: 2.8780 - val_loss: 3.3781\n",
      "Epoch 178/200\n",
      "3/3 [==============================] - 0s 92ms/step - loss: 2.9833 - val_loss: 2.8837\n",
      "Epoch 179/200\n",
      "3/3 [==============================] - 0s 109ms/step - loss: 2.8229 - val_loss: 2.8565\n",
      "Epoch 180/200\n",
      "3/3 [==============================] - 0s 101ms/step - loss: 2.8460 - val_loss: 2.9803\n",
      "Epoch 181/200\n",
      "3/3 [==============================] - 0s 91ms/step - loss: 2.9345 - val_loss: 2.8186\n",
      "Epoch 182/200\n",
      "3/3 [==============================] - 0s 119ms/step - loss: 2.7275 - val_loss: 2.6761\n",
      "Epoch 183/200\n",
      "3/3 [==============================] - 0s 122ms/step - loss: 2.7538 - val_loss: 2.8236\n",
      "Epoch 184/200\n",
      "3/3 [==============================] - 0s 109ms/step - loss: 2.7031 - val_loss: 2.7140\n",
      "Epoch 185/200\n",
      "3/3 [==============================] - 0s 93ms/step - loss: 2.7055 - val_loss: 2.7435\n",
      "Epoch 186/200\n",
      "3/3 [==============================] - 0s 114ms/step - loss: 2.6601 - val_loss: 2.7848\n",
      "Epoch 187/200\n",
      "3/3 [==============================] - 0s 93ms/step - loss: 2.6268 - val_loss: 2.6941\n",
      "Epoch 188/200\n",
      "3/3 [==============================] - 0s 95ms/step - loss: 2.6786 - val_loss: 2.7719\n",
      "Epoch 189/200\n",
      "3/3 [==============================] - 0s 97ms/step - loss: 2.7160 - val_loss: 2.7304\n",
      "Epoch 190/200\n",
      "3/3 [==============================] - 0s 82ms/step - loss: 2.6529 - val_loss: 2.7008\n",
      "Epoch 191/200\n",
      "3/3 [==============================] - 0s 110ms/step - loss: 2.6178 - val_loss: 2.7945\n",
      "Epoch 192/200\n",
      "3/3 [==============================] - 0s 73ms/step - loss: 2.6078 - val_loss: 2.6136\n",
      "Epoch 193/200\n",
      "3/3 [==============================] - 0s 90ms/step - loss: 2.6232 - val_loss: 2.6937\n",
      "Epoch 194/200\n",
      "3/3 [==============================] - 0s 72ms/step - loss: 2.5853 - val_loss: 2.7009\n",
      "Epoch 195/200\n",
      "3/3 [==============================] - 0s 50ms/step - loss: 2.6124 - val_loss: 2.6797\n",
      "Epoch 196/200\n",
      "3/3 [==============================] - 0s 54ms/step - loss: 2.5805 - val_loss: 2.6304\n",
      "Epoch 197/200\n",
      "3/3 [==============================] - 0s 53ms/step - loss: 2.6152 - val_loss: 2.7193\n",
      "Epoch 198/200\n",
      "3/3 [==============================] - 0s 79ms/step - loss: 2.6480 - val_loss: 2.6959\n",
      "Epoch 199/200\n",
      "3/3 [==============================] - 0s 75ms/step - loss: 2.6938 - val_loss: 2.6901\n",
      "Epoch 200/200\n",
      "3/3 [==============================] - 0s 66ms/step - loss: 2.6414 - val_loss: 2.6961\n"
     ]
    }
   ],
   "source": [
    "history = model.fit(X_train, y_train, epochs=200,\n",
    "                    validation_data=(X_valid, y_valid))"
   ]
  },
  {
   "cell_type": "code",
   "execution_count": 65,
   "id": "0b29d35c",
   "metadata": {
    "scrolled": true
   },
   "outputs": [],
   "source": [
    "# history = model.fit(X_train, y_train, epochs=145,\n",
    "#                     validation_data=(X_valid, y_valid), callbacks=[lr_scheduler])"
   ]
  },
  {
   "cell_type": "code",
   "execution_count": 66,
   "id": "28215732",
   "metadata": {},
   "outputs": [
    {
     "data": {
      "image/png": "[encoded data removed]",
      "text/plain": [
       "<Figure size 576x360 with 1 Axes>"
      ]
     },
     "metadata": {
      "needs_background": "light"
     },
     "output_type": "display_data"
    }
   ],
   "source": [
    "import pandas as pd\n",
    "\n",
    "# print(history.history)\n",
    "try:\n",
    "    lr_list = history.history[\"lr\"]\n",
    "    del(history.history[\"lr\"])\n",
    "except:\n",
    "    pass\n",
    "\n",
    "pd.DataFrame(history.history)[50:].plot(figsize=(8, 5))\n",
    "plt.grid(True)\n",
    "# plt.gca().set_ylim(0, 1)\n",
    "plt.show()"
   ]
  },
  {
   "cell_type": "code",
   "execution_count": 67,
   "id": "47d362c9",
   "metadata": {
    "scrolled": true
   },
   "outputs": [
    {
     "name": "stdout",
     "output_type": "stream",
     "text": [
      "X.shape = (None, 1)\n",
      "gauss_grid.shape = (None, 5)\n"
     ]
    },
    {
     "data": {
      "image/png": "[encoded data removed]",
      "text/plain": [
       "<Figure size 432x288 with 1 Axes>"
      ]
     },
     "metadata": {
      "needs_background": "light"
     },
     "output_type": "display_data"
    }
   ],
   "source": [
    "plt.plot(X_train, y_train, \"b.\")\n",
    "draw_func((lambda X: model.predict(X)[:,0] ), mark='r-', linewidth=2, label=\"Predictions\")\n",
    "draw_normal_func(func_dict)\n",
    "plt.xlabel(\"$x_1$\", fontsize=18)\n",
    "plt.ylabel(\"$y$\", rotation=0, fontsize=18)\n",
    "plt.legend(loc=\"upper left\", fontsize=14)\n",
    "# plt.axis([-3, 3, 0, 10])\n",
    "plt.show()"
   ]
  },
  {
   "cell_type": "code",
   "execution_count": 68,
   "id": "a85a5159",
   "metadata": {},
   "outputs": [
    {
     "name": "stdout",
     "output_type": "stream",
     "text": [
      "y_func.shape = (100, 1)\n",
      "y_gt.shape = (100, 1)\n"
     ]
    },
    {
     "data": {
      "text/plain": [
       "2.4676583425014433"
      ]
     },
     "execution_count": 68,
     "metadata": {},
     "output_type": "execute_result"
    }
   ],
   "source": [
    "get_prediction_error((lambda X: model.predict(X)[:,0] ), func_dict)"
   ]
  },
  {
   "cell_type": "markdown",
   "id": "9ca1e36d",
   "metadata": {},
   "source": [
    "### Draw the 1-sigma boundary line"
   ]
  },
  {
   "cell_type": "code",
   "execution_count": 69,
   "id": "a04a47fa",
   "metadata": {},
   "outputs": [
    {
     "data": {
      "image/png": "[encoded data removed]",
      "text/plain": [
       "<Figure size 432x288 with 1 Axes>"
      ]
     },
     "metadata": {
      "needs_background": "light"
     },
     "output_type": "display_data"
    }
   ],
   "source": [
    "def n_sigma_boundary_line(X, n):\n",
    "    _y = model.predict(X)\n",
    "    _mean, _z = _y[:,0:1], _y[:,1:2]\n",
    "    _sigma = np.exp(alpha*_z)\n",
    "    return( _mean + n*_sigma)\n",
    "\n",
    "plt.plot(X_train, y_train, \"b.\")\n",
    "#\n",
    "draw_func((lambda X: model.predict(X)[:,0] ), mark='r-', linewidth=2, label=\"Predictions\")\n",
    "draw_func((lambda X: n_sigma_boundary_line(X, +1.0) ), mark='k--', linewidth=1, label=\"$\\mu+\\sigma$\")\n",
    "draw_func((lambda X: n_sigma_boundary_line(X, -1.0) ), mark='k--', linewidth=1, label=\"$\\mu-\\sigma$\")\n",
    "#\n",
    "draw_normal_func(func_dict)\n",
    "plt.xlabel(\"$x_1$\", fontsize=18)\n",
    "plt.ylabel(\"$y$\", rotation=0, fontsize=18)\n",
    "plt.legend(loc=\"upper left\", fontsize=14)\n",
    "# plt.axis([-3, 3, 0, 10])\n",
    "plt.show()"
   ]
  },
  {
   "cell_type": "code",
   "execution_count": null,
   "id": "a820404f",
   "metadata": {},
   "outputs": [],
   "source": []
  },
  {
   "cell_type": "code",
   "execution_count": null,
   "id": "a0839933",
   "metadata": {},
   "outputs": [],
   "source": []
  },
  {
   "cell_type": "code",
   "execution_count": null,
   "id": "2d764d70",
   "metadata": {},
   "outputs": [],
   "source": []
  },
  {
   "cell_type": "code",
   "execution_count": null,
   "id": "9f01e530",
   "metadata": {},
   "outputs": [],
   "source": []
  },
  {
   "cell_type": "code",
   "execution_count": null,
   "id": "0c3bdf42",
   "metadata": {},
   "outputs": [],
   "source": []
  }
 ],
 "metadata": {
  "kernelspec": {
   "display_name": "Python 3",
   "language": "python",
   "name": "python3"
  },
  "language_info": {
   "codemirror_mode": {
    "name": "ipython",
    "version": 3
   },
   "file_extension": ".py",
   "mimetype": "text/x-python",
   "name": "python",
   "nbconvert_exporter": "python",
   "pygments_lexer": "ipython3",
   "version": "3.6.9"
  }
 },
 "nbformat": 4,
 "nbformat_minor": 5
}
