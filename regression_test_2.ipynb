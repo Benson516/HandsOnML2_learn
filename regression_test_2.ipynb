{
 "cells": [
  {
   "cell_type": "markdown",
   "id": "899fa113",
   "metadata": {},
   "source": [
    "# Regression with Different Output Format under Various Data Conditions\n",
    "\n",
    "In this experience, we test the following output format for regression task under several different data coditions.\n",
    "- Numerical output\n",
    "- Regression as classification (grid-out)\n",
    "\n",
    "The data coditions include:\n",
    "- Sparse (few data)\n",
    "- Grouped\n",
    "  - Biased (parallel data)\n",
    "  - Completely different mode, uncorrelated data (cross)\n",
    "  - Partially diversed (split)"
   ]
  },
  {
   "cell_type": "code",
   "execution_count": 1,
   "id": "625ce7c3",
   "metadata": {},
   "outputs": [],
   "source": [
    "import numpy as np\n",
    "import tensorflow as tf\n",
    "from tensorflow import keras\n",
    "\n",
    "# To plot pretty figures\n",
    "%matplotlib inline\n",
    "import matplotlib as mpl\n",
    "import matplotlib.pyplot as plt\n",
    "mpl.rc('axes', labelsize=14)\n",
    "mpl.rc('xtick', labelsize=12)\n",
    "mpl.rc('ytick', labelsize=12)"
   ]
  },
  {
   "cell_type": "code",
   "execution_count": 2,
   "id": "94e8a077",
   "metadata": {},
   "outputs": [],
   "source": [
    "def draw_func(func_in, x_min=-5, x_max=5, mark='r--', linewidth=1, label='func'):\n",
    "    n_sample = 100\n",
    "    X_func = np.linspace(x_min, x_max, n_sample).reshape(n_sample, 1)\n",
    "    y_func = func_in(X_func)\n",
    "    plt.plot(X_func, y_func, mark, linewidth=linewidth, label=label)"
   ]
  },
  {
   "cell_type": "markdown",
   "id": "c27ffe35",
   "metadata": {},
   "source": [
    "Generate polynomial data"
   ]
  },
  {
   "cell_type": "code",
   "execution_count": 3,
   "id": "ce670ce4",
   "metadata": {},
   "outputs": [],
   "source": [
    "# poly_a1 = 5.0\n",
    "poly_a1 = -10.0 # 5.0\n",
    "def func_0(X): # Reference\n",
    "    return 0.5 * X**3 + 0.5 * X**2 + (poly_a1)*X + 2\n",
    "def func_1(X): # Variation 1: parellel\n",
    "    return 0.5 * X**3 + 0.5 * X**2 + (poly_a1)*X + 30\n",
    "def func_2(X): # Variation 2: cross\n",
    "    return -0.5 * X**3 + 0.5 * X**2 + (poly_a1)*X + 30\n",
    "def func_3(X): # Variation 3: slightly split\n",
    "    return 0.3 * X**3 + 1.0 * X**2 + (poly_a1)*X + 15 "
   ]
  },
  {
   "cell_type": "code",
   "execution_count": 4,
   "id": "9463bfff",
   "metadata": {},
   "outputs": [],
   "source": [
    "func_dict = dict()\n",
    "func_dict[\"f1\"] = func_0\n",
    "# func_dict[\"f2\"] = func_1\n",
    "# func_dict[\"f2\"] = func_2\n",
    "func_dict[\"f2\"] = func_3\n",
    "\n",
    "# Average line\n",
    "func_dict[\"f_avg\"] = ( lambda X: 0.5*func_dict[\"f1\"](X) + 0.5*func_dict[\"f2\"](X) )"
   ]
  },
  {
   "cell_type": "code",
   "execution_count": 5,
   "id": "9bd2136c",
   "metadata": {},
   "outputs": [],
   "source": [
    "def draw_normal_func(func_dict):\n",
    "    draw_func(func_dict[\"f1\"], mark='c:', label=\"f1\")\n",
    "    draw_func(func_dict[\"f2\"], mark='g:', label=\"f2\")\n",
    "    draw_func(func_dict[\"f_avg\"], mark='m--', label=\"f_avg\")"
   ]
  },
  {
   "cell_type": "code",
   "execution_count": 6,
   "id": "63437d0c",
   "metadata": {},
   "outputs": [
    {
     "name": "stdout",
     "output_type": "stream",
     "text": [
      "(m, m_train) = (100, 80)\n",
      "y_data_pure.shape = (100, 1)\n",
      "y_data.shape = (100, 1)\n"
     ]
    }
   ],
   "source": [
    "np.random.seed(42)\n",
    "m = 100 # 50 # 100 # 200\n",
    "m_train = m // 5 * 4\n",
    "print(\"(m, m_train) = (%d, %d)\" % (m, m_train))\n",
    "\n",
    "# Input\n",
    "is_gapped = True\n",
    "# is_gapped = False\n",
    "#\n",
    "if not is_gapped:\n",
    "    X_data = 10 * np.random.rand(m, 1) - 5 # Note: X is randomly sampled, so we don't need to shuffle the data again\n",
    "else:\n",
    "    X_data = np.concatenate( (np.linspace(-5.0, -2.0, m//2), np.linspace(2.0, 5.0, m-m//2)) )\n",
    "    X_data = X_data.reshape((m,1))\n",
    "    np.random.shuffle(X_data)\n",
    "\n",
    "# Output\n",
    "is_multiout = True\n",
    "# is_multiout = False\n",
    "if is_multiout:\n",
    "    m_h = m // 2\n",
    "    X_data_1 = X_data[:m_h]\n",
    "    X_data_2 = X_data[m_h:]\n",
    "    y_data_pure_1 = func_dict[\"f1\"](X_data_1) \n",
    "    y_data_pure_2 = func_dict[\"f2\"](X_data_2) \n",
    "    y_data_pure = np.vstack([y_data_pure_1, y_data_pure_2])\n",
    "    print(\"y_data_pure.shape = %s\" % str(y_data_pure.shape))\n",
    "else:        \n",
    "    y_data_pure = 0.5 * X_data**3 + 0.5 * X_data**2 + X_data + 2 \n",
    "\n",
    "# Label (+noise)\n",
    "n_stddev = 2.0\n",
    "# n_stddev = 10.0\n",
    "y_data = y_data_pure + np.random.randn(m, 1) * n_stddev\n",
    "print(\"y_data.shape = %s\" % str(y_data.shape))"
   ]
  },
  {
   "cell_type": "code",
   "execution_count": 7,
   "id": "ef588fae",
   "metadata": {},
   "outputs": [],
   "source": [
    "# Method 1: simply slice\n",
    "# X_train = X_data[:m_train]\n",
    "# y_train = y_data[:m_train]\n",
    "# X_valid = X_data[m_train:]\n",
    "# y_valid = y_data[m_train:]\n",
    "\n",
    "# Method 2: shuffle\n",
    "from sklearn.model_selection import train_test_split\n",
    "X_train, X_valid, y_train, y_valid = train_test_split(X_data, y_data, test_size=0.2, random_state=42)"
   ]
  },
  {
   "cell_type": "code",
   "execution_count": 8,
   "id": "3b5d2cfe",
   "metadata": {},
   "outputs": [
    {
     "name": "stdout",
     "output_type": "stream",
     "text": [
      "(80, 1)\n"
     ]
    }
   ],
   "source": [
    "print(X_train.shape)"
   ]
  },
  {
   "cell_type": "code",
   "execution_count": 9,
   "id": "693af3b7",
   "metadata": {},
   "outputs": [
    {
     "data": {
      "image/png": "[encoded data removed]",
      "text/plain": [
       "<Figure size 432x288 with 1 Axes>"
      ]
     },
     "metadata": {
      "needs_background": "light"
     },
     "output_type": "display_data"
    }
   ],
   "source": [
    "plt.plot(X_train, y_train, \"b.\")\n",
    "draw_normal_func(func_dict)\n",
    "plt.xlabel(\"$x_1$\", fontsize=18)\n",
    "plt.ylabel(\"$y$\", rotation=0, fontsize=18)\n",
    "# plt.axis([-3, 3, 0, 10])\n",
    "plt.show()"
   ]
  },
  {
   "cell_type": "markdown",
   "id": "053ecc57",
   "metadata": {},
   "source": [
    "# Simple FCs (number --> number)"
   ]
  },
  {
   "cell_type": "markdown",
   "id": "c66eb67b",
   "metadata": {},
   "source": [
    "Build the regression model"
   ]
  },
  {
   "cell_type": "code",
   "execution_count": 10,
   "id": "9449fc0b",
   "metadata": {},
   "outputs": [
    {
     "name": "stderr",
     "output_type": "stream",
     "text": [
      "/home/benson516/ml/my_env/lib/python3.6/site-packages/keras/optimizer_v2/optimizer_v2.py:356: UserWarning: The `lr` argument is deprecated, use `learning_rate` instead.\n",
      "  \"The `lr` argument is deprecated, use `learning_rate` instead.\")\n"
     ]
    }
   ],
   "source": [
    "model = keras.models.Sequential([\n",
    "    keras.layers.Dense(30, activation=\"relu\", input_shape=X_train.shape[1:]),\n",
    "    keras.layers.Dense(30, activation=\"relu\"),\n",
    "    keras.layers.Dense(1)\n",
    "])\n",
    "\n",
    "optimizer = keras.optimizers.SGD(lr=0.0001, momentum=0.9)\n",
    "model.compile(loss=\"mean_squared_error\", optimizer=optimizer)"
   ]
  },
  {
   "cell_type": "code",
   "execution_count": 11,
   "id": "92afd68a",
   "metadata": {
    "scrolled": true
   },
   "outputs": [
    {
     "name": "stdout",
     "output_type": "stream",
     "text": [
      "Epoch 1/100\n",
      "3/3 [==============================] - 1s 131ms/step - loss: 620.8506 - val_loss: 573.1642\n",
      "Epoch 2/100\n",
      "3/3 [==============================] - 0s 51ms/step - loss: 603.1949 - val_loss: 543.1129\n",
      "Epoch 3/100\n",
      "3/3 [==============================] - 0s 45ms/step - loss: 571.1919 - val_loss: 495.1889\n",
      "Epoch 4/100\n",
      "3/3 [==============================] - 0s 43ms/step - loss: 524.4857 - val_loss: 424.1109\n",
      "Epoch 5/100\n",
      "3/3 [==============================] - 0s 43ms/step - loss: 448.7130 - val_loss: 326.5947\n",
      "Epoch 6/100\n",
      "3/3 [==============================] - 0s 39ms/step - loss: 356.7073 - val_loss: 211.0814\n",
      "Epoch 7/100\n",
      "3/3 [==============================] - 0s 45ms/step - loss: 238.3899 - val_loss: 162.3384\n",
      "Epoch 8/100\n",
      "3/3 [==============================] - 0s 41ms/step - loss: 197.8201 - val_loss: 252.8213\n",
      "Epoch 9/100\n",
      "3/3 [==============================] - 0s 39ms/step - loss: 236.0160 - val_loss: 278.0558\n",
      "Epoch 10/100\n",
      "3/3 [==============================] - 0s 43ms/step - loss: 234.9678 - val_loss: 206.4974\n",
      "Epoch 11/100\n",
      "3/3 [==============================] - 0s 45ms/step - loss: 203.1258 - val_loss: 160.8582\n",
      "Epoch 12/100\n",
      "3/3 [==============================] - 0s 39ms/step - loss: 197.2774 - val_loss: 162.5882\n",
      "Epoch 13/100\n",
      "3/3 [==============================] - 0s 52ms/step - loss: 208.5076 - val_loss: 164.2776\n",
      "Epoch 14/100\n",
      "3/3 [==============================] - 0s 47ms/step - loss: 205.4035 - val_loss: 159.4691\n",
      "Epoch 15/100\n",
      "3/3 [==============================] - 0s 41ms/step - loss: 195.6978 - val_loss: 163.9657\n",
      "Epoch 16/100\n",
      "3/3 [==============================] - 0s 50ms/step - loss: 187.9504 - val_loss: 178.0653\n",
      "Epoch 17/100\n",
      "3/3 [==============================] - 0s 60ms/step - loss: 194.0704 - val_loss: 188.2390\n",
      "Epoch 18/100\n",
      "3/3 [==============================] - 0s 50ms/step - loss: 198.1020 - val_loss: 176.1291\n",
      "Epoch 19/100\n",
      "3/3 [==============================] - 0s 48ms/step - loss: 192.9962 - val_loss: 167.5001\n",
      "Epoch 20/100\n",
      "3/3 [==============================] - 0s 64ms/step - loss: 191.2236 - val_loss: 162.9219\n",
      "Epoch 21/100\n",
      "3/3 [==============================] - 0s 46ms/step - loss: 189.9937 - val_loss: 163.4358\n",
      "Epoch 22/100\n",
      "3/3 [==============================] - 0s 49ms/step - loss: 188.9437 - val_loss: 167.5245\n",
      "Epoch 23/100\n",
      "3/3 [==============================] - 0s 44ms/step - loss: 191.3856 - val_loss: 174.3945\n",
      "Epoch 24/100\n",
      "3/3 [==============================] - 0s 64ms/step - loss: 192.1807 - val_loss: 171.7159\n",
      "Epoch 25/100\n",
      "3/3 [==============================] - 0s 55ms/step - loss: 190.4069 - val_loss: 170.4269\n",
      "Epoch 26/100\n",
      "3/3 [==============================] - 0s 45ms/step - loss: 189.8779 - val_loss: 163.7526\n",
      "Epoch 27/100\n",
      "3/3 [==============================] - 0s 47ms/step - loss: 188.7375 - val_loss: 160.1322\n",
      "Epoch 28/100\n",
      "3/3 [==============================] - 0s 44ms/step - loss: 188.7271 - val_loss: 158.6615\n",
      "Epoch 29/100\n",
      "3/3 [==============================] - 0s 44ms/step - loss: 188.8772 - val_loss: 159.1168\n",
      "Epoch 30/100\n",
      "3/3 [==============================] - 0s 42ms/step - loss: 190.9958 - val_loss: 162.4279\n",
      "Epoch 31/100\n",
      "3/3 [==============================] - ETA: 0s - loss: 180.098 - 0s 49ms/step - loss: 188.0321 - val_loss: 159.4169\n",
      "Epoch 32/100\n",
      "3/3 [==============================] - 0s 42ms/step - loss: 190.4199 - val_loss: 156.9734\n",
      "Epoch 33/100\n",
      "3/3 [==============================] - 0s 40ms/step - loss: 188.0731 - val_loss: 159.5316\n",
      "Epoch 34/100\n",
      "3/3 [==============================] - 0s 40ms/step - loss: 187.0612 - val_loss: 166.1179\n",
      "Epoch 35/100\n",
      "3/3 [==============================] - 0s 40ms/step - loss: 188.2356 - val_loss: 170.3845\n",
      "Epoch 36/100\n",
      "3/3 [==============================] - 0s 44ms/step - loss: 189.6011 - val_loss: 165.7126\n",
      "Epoch 37/100\n",
      "3/3 [==============================] - 0s 45ms/step - loss: 187.9981 - val_loss: 163.8838\n",
      "Epoch 38/100\n",
      "3/3 [==============================] - 0s 47ms/step - loss: 186.6261 - val_loss: 158.2157\n",
      "Epoch 39/100\n",
      "3/3 [==============================] - 0s 44ms/step - loss: 186.6224 - val_loss: 156.2216\n",
      "Epoch 40/100\n",
      "3/3 [==============================] - 0s 57ms/step - loss: 187.5653 - val_loss: 154.3612\n",
      "Epoch 41/100\n",
      "3/3 [==============================] - 0s 44ms/step - loss: 188.7742 - val_loss: 155.6805\n",
      "Epoch 42/100\n",
      "3/3 [==============================] - 0s 52ms/step - loss: 185.5400 - val_loss: 162.2025\n",
      "Epoch 43/100\n",
      "3/3 [==============================] - 0s 45ms/step - loss: 187.9151 - val_loss: 170.1384\n",
      "Epoch 44/100\n",
      "3/3 [==============================] - 0s 53ms/step - loss: 188.5885 - val_loss: 166.4303\n",
      "Epoch 45/100\n",
      "3/3 [==============================] - 0s 56ms/step - loss: 185.7689 - val_loss: 156.0094\n",
      "Epoch 46/100\n",
      "3/3 [==============================] - 0s 41ms/step - loss: 187.8148 - val_loss: 152.3248\n",
      "Epoch 47/100\n",
      "3/3 [==============================] - 0s 38ms/step - loss: 190.9920 - val_loss: 151.6544\n",
      "Epoch 48/100\n",
      "3/3 [==============================] - 0s 53ms/step - loss: 187.8188 - val_loss: 154.7188\n",
      "Epoch 49/100\n",
      "3/3 [==============================] - 0s 50ms/step - loss: 183.4353 - val_loss: 164.0421\n",
      "Epoch 50/100\n",
      "3/3 [==============================] - 0s 48ms/step - loss: 185.6095 - val_loss: 176.7993\n",
      "Epoch 51/100\n",
      "3/3 [==============================] - 0s 70ms/step - loss: 191.5821 - val_loss: 177.9010\n",
      "Epoch 52/100\n",
      "3/3 [==============================] - 0s 67ms/step - loss: 187.9991 - val_loss: 163.7867\n",
      "Epoch 53/100\n",
      "3/3 [==============================] - 0s 64ms/step - loss: 186.9701 - val_loss: 153.2644\n",
      "Epoch 54/100\n",
      "3/3 [==============================] - 0s 54ms/step - loss: 184.6940 - val_loss: 151.2083\n",
      "Epoch 55/100\n",
      "3/3 [==============================] - 0s 49ms/step - loss: 186.8243 - val_loss: 150.6732\n",
      "Epoch 56/100\n",
      "3/3 [==============================] - 0s 48ms/step - loss: 186.6742 - val_loss: 152.3056\n",
      "Epoch 57/100\n",
      "3/3 [==============================] - 0s 44ms/step - loss: 184.1038 - val_loss: 155.4189\n",
      "Epoch 58/100\n",
      "3/3 [==============================] - 0s 43ms/step - loss: 184.8448 - val_loss: 163.3965\n",
      "Epoch 59/100\n",
      "3/3 [==============================] - 0s 48ms/step - loss: 185.4043 - val_loss: 163.2622\n",
      "Epoch 60/100\n",
      "3/3 [==============================] - 0s 50ms/step - loss: 182.8330 - val_loss: 155.0744\n",
      "Epoch 61/100\n",
      "3/3 [==============================] - 0s 40ms/step - loss: 183.8233 - val_loss: 151.2747\n",
      "Epoch 62/100\n",
      "3/3 [==============================] - 0s 47ms/step - loss: 184.6002 - val_loss: 151.2066\n",
      "Epoch 63/100\n",
      "3/3 [==============================] - 0s 49ms/step - loss: 182.8231 - val_loss: 155.9384\n",
      "Epoch 64/100\n",
      "3/3 [==============================] - 0s 42ms/step - loss: 181.8950 - val_loss: 163.0548\n",
      "Epoch 65/100\n",
      "3/3 [==============================] - 0s 47ms/step - loss: 184.6958 - val_loss: 166.9369\n",
      "Epoch 66/100\n",
      "3/3 [==============================] - 0s 46ms/step - loss: 183.5391 - val_loss: 158.3256\n",
      "Epoch 67/100\n",
      "3/3 [==============================] - ETA: 0s - loss: 156.818 - 0s 50ms/step - loss: 181.7445 - val_loss: 152.2883\n",
      "Epoch 68/100\n",
      "3/3 [==============================] - 0s 43ms/step - loss: 183.2433 - val_loss: 149.5642\n",
      "Epoch 69/100\n",
      "3/3 [==============================] - 0s 55ms/step - loss: 182.6639 - val_loss: 151.5242\n",
      "Epoch 70/100\n",
      "3/3 [==============================] - 0s 61ms/step - loss: 182.5898 - val_loss: 154.6457\n",
      "Epoch 71/100\n",
      "3/3 [==============================] - 0s 44ms/step - loss: 181.1634 - val_loss: 154.2292\n",
      "Epoch 72/100\n",
      "3/3 [==============================] - 0s 55ms/step - loss: 182.6438 - val_loss: 153.9961\n",
      "Epoch 73/100\n",
      "3/3 [==============================] - 0s 38ms/step - loss: 181.6191 - val_loss: 149.8072\n",
      "Epoch 74/100\n",
      "3/3 [==============================] - 0s 41ms/step - loss: 181.1099 - val_loss: 150.6911\n",
      "Epoch 75/100\n",
      "3/3 [==============================] - 0s 42ms/step - loss: 181.2746 - val_loss: 153.6031\n",
      "Epoch 76/100\n",
      "3/3 [==============================] - 0s 45ms/step - loss: 181.5552 - val_loss: 155.4006\n",
      "Epoch 77/100\n",
      "3/3 [==============================] - 0s 45ms/step - loss: 180.0604 - val_loss: 151.0434\n",
      "Epoch 78/100\n",
      "3/3 [==============================] - 0s 41ms/step - loss: 180.2014 - val_loss: 149.7985\n",
      "Epoch 79/100\n",
      "3/3 [==============================] - 0s 42ms/step - loss: 181.4058 - val_loss: 149.6207\n",
      "Epoch 80/100\n"
     ]
    },
    {
     "name": "stdout",
     "output_type": "stream",
     "text": [
      "3/3 [==============================] - 0s 42ms/step - loss: 180.6536 - val_loss: 157.3108\n",
      "Epoch 81/100\n",
      "3/3 [==============================] - 0s 38ms/step - loss: 179.7245 - val_loss: 162.8678\n",
      "Epoch 82/100\n",
      "3/3 [==============================] - 0s 40ms/step - loss: 181.5291 - val_loss: 165.0306\n",
      "Epoch 83/100\n",
      "3/3 [==============================] - 0s 41ms/step - loss: 180.2278 - val_loss: 157.5712\n",
      "Epoch 84/100\n",
      "3/3 [==============================] - 0s 40ms/step - loss: 181.0746 - val_loss: 149.4005\n",
      "Epoch 85/100\n",
      "3/3 [==============================] - 0s 40ms/step - loss: 179.4259 - val_loss: 148.6594\n",
      "Epoch 86/100\n",
      "3/3 [==============================] - 0s 49ms/step - loss: 177.5103 - val_loss: 152.9456\n",
      "Epoch 87/100\n",
      "3/3 [==============================] - 0s 63ms/step - loss: 178.6622 - val_loss: 161.7279\n",
      "Epoch 88/100\n",
      "3/3 [==============================] - 0s 47ms/step - loss: 181.0167 - val_loss: 166.3487\n",
      "Epoch 89/100\n",
      "3/3 [==============================] - 0s 52ms/step - loss: 180.1301 - val_loss: 159.1938\n",
      "Epoch 90/100\n",
      "3/3 [==============================] - 0s 49ms/step - loss: 176.7026 - val_loss: 150.5460\n",
      "Epoch 91/100\n",
      "3/3 [==============================] - 0s 46ms/step - loss: 181.0621 - val_loss: 142.9789\n",
      "Epoch 92/100\n",
      "3/3 [==============================] - 0s 52ms/step - loss: 179.2777 - val_loss: 143.2055\n",
      "Epoch 93/100\n",
      "3/3 [==============================] - 0s 49ms/step - loss: 178.8982 - val_loss: 144.0417\n",
      "Epoch 94/100\n",
      "3/3 [==============================] - 0s 42ms/step - loss: 177.5974 - val_loss: 146.4872\n",
      "Epoch 95/100\n",
      "3/3 [==============================] - 0s 53ms/step - loss: 177.1212 - val_loss: 150.3087\n",
      "Epoch 96/100\n",
      "3/3 [==============================] - 0s 44ms/step - loss: 177.3225 - val_loss: 148.6936\n",
      "Epoch 97/100\n",
      "3/3 [==============================] - 0s 43ms/step - loss: 175.0833 - val_loss: 153.3137\n",
      "Epoch 98/100\n",
      "3/3 [==============================] - 0s 43ms/step - loss: 174.9867 - val_loss: 154.3258\n",
      "Epoch 99/100\n",
      "3/3 [==============================] - 0s 46ms/step - loss: 175.2389 - val_loss: 154.5863\n",
      "Epoch 100/100\n",
      "3/3 [==============================] - 0s 51ms/step - loss: 174.6019 - val_loss: 155.9491\n"
     ]
    }
   ],
   "source": [
    "history = model.fit(X_train, y_train, epochs=100,\n",
    "                    validation_data=(X_valid, y_valid))"
   ]
  },
  {
   "cell_type": "markdown",
   "id": "17d6e37a",
   "metadata": {},
   "source": [
    "Plot the result"
   ]
  },
  {
   "cell_type": "code",
   "execution_count": 12,
   "id": "3b066f5c",
   "metadata": {},
   "outputs": [
    {
     "data": {
      "image/png": "[encoded data removed]",
      "text/plain": [
       "<Figure size 576x360 with 1 Axes>"
      ]
     },
     "metadata": {
      "needs_background": "light"
     },
     "output_type": "display_data"
    }
   ],
   "source": [
    "import pandas as pd\n",
    "\n",
    "pd.DataFrame(history.history).plot(figsize=(8, 5))\n",
    "plt.grid(True)\n",
    "# plt.gca().set_ylim(0, 1)\n",
    "plt.show()"
   ]
  },
  {
   "cell_type": "code",
   "execution_count": 13,
   "id": "03f9bb54",
   "metadata": {},
   "outputs": [
    {
     "data": {
      "image/png": "[encoded data removed]",
      "text/plain": [
       "<Figure size 432x288 with 1 Axes>"
      ]
     },
     "metadata": {
      "needs_background": "light"
     },
     "output_type": "display_data"
    }
   ],
   "source": [
    "# X_new = np.linspace(-5, 5, 100).reshape(100, 1)\n",
    "# y_new = model.predict(X_new)\n",
    "#\n",
    "plt.plot(X_train, y_train, \"b.\")\n",
    "# plt.plot(X_new, y_new, \"r-\", linewidth=2, label=\"Predictions\")\n",
    "draw_func(model.predict, mark='r-', linewidth=2, label=\"Predictions\")\n",
    "draw_normal_func(func_dict)\n",
    "plt.xlabel(\"$x_1$\", fontsize=18)\n",
    "plt.ylabel(\"$y$\", rotation=0, fontsize=18)\n",
    "plt.legend(loc=\"upper left\", fontsize=14)\n",
    "# plt.axis([-3, 3, 0, 10])\n",
    "plt.show()"
   ]
  },
  {
   "cell_type": "markdown",
   "id": "58da8768",
   "metadata": {},
   "source": [
    "# Simulated CNN Feature Map (1-D grids, grid --> number)"
   ]
  },
  {
   "cell_type": "code",
   "execution_count": 14,
   "id": "287b5e4c",
   "metadata": {},
   "outputs": [],
   "source": [
    "class num2grid(keras.layers.Layer):\n",
    "    def __init__(self, units, x_min=-10, x_max=10, sigma=1.0, activation=None, **kwargs):\n",
    "        super().__init__(**kwargs)\n",
    "        self.units = units\n",
    "        self.x_min = x_min\n",
    "        self.x_max = x_max\n",
    "        self.sigma = sigma\n",
    "        self.sigma2 = self.sigma**2\n",
    "        self.activation = keras.activations.get(activation)\n",
    "        \n",
    "    def build(self, batch_input_shape):\n",
    "        #\n",
    "        self.x_grid = np.linspace(self.x_min, self.x_max, self.units, endpoint=True)\n",
    "#         print(\"self.x_grid.shape = %s\" % str(self.x_grid.shape))\n",
    "        #\n",
    "        super().build(batch_input_shape) # must be at the end\n",
    "        \n",
    "    def call(self, X):\n",
    "        '''\n",
    "        Input shape:  (batch, X_chanel)\n",
    "        Output shape: (batch, grid_unit) \n",
    "        \n",
    "        self.x_grid shape: (grid_unit,)\n",
    "        '''\n",
    "        gauss_grid = tf.exp( -(self.x_grid - X)**2 / (2.0*self.sigma2) )\n",
    "        print(\"X.shape = %s\" % str(X.shape))\n",
    "        print(\"gauss_grid.shape = %s\" % str(gauss_grid.shape))\n",
    "        return self.activation(gauss_grid)\n",
    "    \n",
    "    def compute_output_shape(self, batch_input_shape):\n",
    "        return tf.TensorShape(batch_input_shape.as_list()[:-1] + [self.units])\n",
    "    \n",
    "    def get_config(self):\n",
    "        base_config = super().get_config()\n",
    "        return {**base_config, \n",
    "                \"units\": self.units,\n",
    "                \"x_min\": self.x_min,\n",
    "                \"x_max\": self.x_max,\n",
    "                \"sigma\": self.sigma,\n",
    "                \"activation\": keras.activations.serialize(self.activation)}"
   ]
  },
  {
   "cell_type": "code",
   "execution_count": 15,
   "id": "f463c12a",
   "metadata": {},
   "outputs": [
    {
     "name": "stdout",
     "output_type": "stream",
     "text": [
      "X.shape = (None, 1)\n",
      "gauss_grid.shape = (None, 5)\n"
     ]
    },
    {
     "name": "stderr",
     "output_type": "stream",
     "text": [
      "/home/benson516/ml/my_env/lib/python3.6/site-packages/keras/optimizer_v2/optimizer_v2.py:356: UserWarning: The `lr` argument is deprecated, use `learning_rate` instead.\n",
      "  \"The `lr` argument is deprecated, use `learning_rate` instead.\")\n"
     ]
    }
   ],
   "source": [
    "model = keras.models.Sequential([\n",
    "    num2grid(5,x_min=-10, x_max=10, sigma=3.0, input_shape=X_train.shape[1:]),\n",
    "    keras.layers.Dense(30, activation=\"relu\"),\n",
    "#     keras.layers.Dense(30, activation=\"relu\"),\n",
    "    keras.layers.Dense(1)\n",
    "])\n",
    "\n",
    "optimizer = keras.optimizers.SGD(lr=0.001, momentum=0.9)\n",
    "model.compile(loss=\"mean_squared_error\", optimizer=optimizer)"
   ]
  },
  {
   "cell_type": "code",
   "execution_count": 16,
   "id": "c966ada4",
   "metadata": {
    "scrolled": true
   },
   "outputs": [
    {
     "name": "stdout",
     "output_type": "stream",
     "text": [
      "Epoch 1/100\n",
      "X.shape = (None, 1)\n",
      "gauss_grid.shape = (None, 5)\n",
      "X.shape = (None, 1)\n",
      "gauss_grid.shape = (None, 5)\n",
      "1/3 [=========>....................] - ETA: 1s - loss: 488.9865X.shape = (None, 1)\n",
      "gauss_grid.shape = (None, 5)\n",
      "3/3 [==============================] - 1s 109ms/step - loss: 632.2036 - val_loss: 583.0123\n",
      "Epoch 2/100\n",
      "3/3 [==============================] - 0s 52ms/step - loss: 604.8812 - val_loss: 523.5204\n",
      "Epoch 3/100\n",
      "3/3 [==============================] - 0s 42ms/step - loss: 549.9340 - val_loss: 419.6813\n",
      "Epoch 4/100\n",
      "3/3 [==============================] - 0s 41ms/step - loss: 451.4962 - val_loss: 266.1962\n",
      "Epoch 5/100\n",
      "3/3 [==============================] - 0s 46ms/step - loss: 331.8081 - val_loss: 158.5166\n",
      "Epoch 6/100\n",
      "3/3 [==============================] - 0s 45ms/step - loss: 332.7354 - val_loss: 216.8973\n",
      "Epoch 7/100\n",
      "3/3 [==============================] - 0s 45ms/step - loss: 321.8790 - val_loss: 163.9162\n",
      "Epoch 8/100\n",
      "3/3 [==============================] - 0s 49ms/step - loss: 231.9252 - val_loss: 121.4107\n",
      "Epoch 9/100\n",
      "3/3 [==============================] - 0s 40ms/step - loss: 204.4681 - val_loss: 133.8336\n",
      "Epoch 10/100\n",
      "3/3 [==============================] - 0s 47ms/step - loss: 219.1134 - val_loss: 139.0571\n",
      "Epoch 11/100\n",
      "3/3 [==============================] - 0s 37ms/step - loss: 207.9499 - val_loss: 133.3628\n",
      "Epoch 12/100\n",
      "3/3 [==============================] - 0s 42ms/step - loss: 189.7698 - val_loss: 160.6561\n",
      "Epoch 13/100\n",
      "3/3 [==============================] - 0s 44ms/step - loss: 200.0008 - val_loss: 200.5579\n",
      "Epoch 14/100\n",
      "3/3 [==============================] - 0s 45ms/step - loss: 202.8605 - val_loss: 178.0538\n",
      "Epoch 15/100\n",
      "3/3 [==============================] - 0s 36ms/step - loss: 192.1828 - val_loss: 153.0985\n",
      "Epoch 16/100\n",
      "3/3 [==============================] - 0s 46ms/step - loss: 187.4170 - val_loss: 138.1090\n",
      "Epoch 17/100\n",
      "3/3 [==============================] - 0s 37ms/step - loss: 191.9663 - val_loss: 135.1843\n",
      "Epoch 18/100\n",
      "3/3 [==============================] - 0s 46ms/step - loss: 190.0186 - val_loss: 137.6905\n",
      "Epoch 19/100\n",
      "3/3 [==============================] - 0s 43ms/step - loss: 185.4099 - val_loss: 146.4286\n",
      "Epoch 20/100\n",
      "3/3 [==============================] - 0s 43ms/step - loss: 184.9589 - val_loss: 156.7063\n",
      "Epoch 21/100\n",
      "3/3 [==============================] - 0s 43ms/step - loss: 187.4964 - val_loss: 156.6154\n",
      "Epoch 22/100\n",
      "3/3 [==============================] - 0s 49ms/step - loss: 184.0985 - val_loss: 142.9562\n",
      "Epoch 23/100\n",
      "3/3 [==============================] - 0s 52ms/step - loss: 183.6194 - val_loss: 131.2385\n",
      "Epoch 24/100\n",
      "3/3 [==============================] - 0s 43ms/step - loss: 186.0046 - val_loss: 128.9377\n",
      "Epoch 25/100\n",
      "3/3 [==============================] - 0s 42ms/step - loss: 189.8603 - val_loss: 129.1065\n",
      "Epoch 26/100\n",
      "3/3 [==============================] - 0s 43ms/step - loss: 185.7874 - val_loss: 144.8562\n",
      "Epoch 27/100\n",
      "3/3 [==============================] - 0s 40ms/step - loss: 185.9378 - val_loss: 160.3376\n",
      "Epoch 28/100\n",
      "3/3 [==============================] - 0s 41ms/step - loss: 185.8642 - val_loss: 151.7035\n",
      "Epoch 29/100\n",
      "3/3 [==============================] - 0s 52ms/step - loss: 179.5299 - val_loss: 131.6311\n",
      "Epoch 30/100\n",
      "3/3 [==============================] - 0s 53ms/step - loss: 181.0867 - val_loss: 125.2677\n",
      "Epoch 31/100\n",
      "3/3 [==============================] - 0s 43ms/step - loss: 186.4573 - val_loss: 124.6058\n",
      "Epoch 32/100\n",
      "3/3 [==============================] - 0s 46ms/step - loss: 183.7107 - val_loss: 129.6119\n",
      "Epoch 33/100\n",
      "3/3 [==============================] - 0s 54ms/step - loss: 178.2902 - val_loss: 143.1887\n",
      "Epoch 34/100\n",
      "3/3 [==============================] - 0s 55ms/step - loss: 178.3468 - val_loss: 151.3724\n",
      "Epoch 35/100\n",
      "3/3 [==============================] - 0s 47ms/step - loss: 179.5704 - val_loss: 149.4897\n",
      "Epoch 36/100\n",
      "3/3 [==============================] - 0s 48ms/step - loss: 178.6026 - val_loss: 140.5793\n",
      "Epoch 37/100\n",
      "3/3 [==============================] - 0s 53ms/step - loss: 176.4972 - val_loss: 133.6206\n",
      "Epoch 38/100\n",
      "3/3 [==============================] - 0s 48ms/step - loss: 175.9752 - val_loss: 129.9717\n",
      "Epoch 39/100\n",
      "3/3 [==============================] - 0s 47ms/step - loss: 177.4142 - val_loss: 127.3633\n",
      "Epoch 40/100\n",
      "3/3 [==============================] - 0s 54ms/step - loss: 175.9746 - val_loss: 131.7307\n",
      "Epoch 41/100\n",
      "3/3 [==============================] - 0s 43ms/step - loss: 176.1069 - val_loss: 142.0633\n",
      "Epoch 42/100\n",
      "3/3 [==============================] - 0s 47ms/step - loss: 175.2820 - val_loss: 140.2188\n",
      "Epoch 43/100\n",
      "3/3 [==============================] - 0s 48ms/step - loss: 175.9932 - val_loss: 143.2121\n",
      "Epoch 44/100\n",
      "3/3 [==============================] - 0s 40ms/step - loss: 173.9064 - val_loss: 132.5758\n",
      "Epoch 45/100\n",
      "3/3 [==============================] - 0s 36ms/step - loss: 172.4298 - val_loss: 130.8527\n",
      "Epoch 46/100\n",
      "3/3 [==============================] - 0s 45ms/step - loss: 172.7307 - val_loss: 131.4877\n",
      "Epoch 47/100\n",
      "3/3 [==============================] - 0s 46ms/step - loss: 171.6758 - val_loss: 137.6544\n",
      "Epoch 48/100\n",
      "3/3 [==============================] - 0s 43ms/step - loss: 172.8556 - val_loss: 136.1990\n",
      "Epoch 49/100\n",
      "3/3 [==============================] - 0s 43ms/step - loss: 170.5595 - val_loss: 140.6590\n",
      "Epoch 50/100\n",
      "3/3 [==============================] - 0s 41ms/step - loss: 169.7585 - val_loss: 136.5934\n",
      "Epoch 51/100\n",
      "3/3 [==============================] - 0s 40ms/step - loss: 168.8148 - val_loss: 135.4023\n",
      "Epoch 52/100\n",
      "3/3 [==============================] - 0s 62ms/step - loss: 167.5315 - val_loss: 131.3196\n",
      "Epoch 53/100\n",
      "3/3 [==============================] - 0s 55ms/step - loss: 167.9433 - val_loss: 128.6745\n",
      "Epoch 54/100\n",
      "3/3 [==============================] - 0s 44ms/step - loss: 168.7529 - val_loss: 126.5355\n",
      "Epoch 55/100\n",
      "3/3 [==============================] - 0s 53ms/step - loss: 170.2244 - val_loss: 132.1680\n",
      "Epoch 56/100\n",
      "3/3 [==============================] - 0s 44ms/step - loss: 166.0681 - val_loss: 134.3979\n",
      "Epoch 57/100\n",
      "3/3 [==============================] - 0s 43ms/step - loss: 164.5470 - val_loss: 134.5538\n",
      "Epoch 58/100\n",
      "3/3 [==============================] - 0s 43ms/step - loss: 163.2519 - val_loss: 137.9087\n",
      "Epoch 59/100\n",
      "3/3 [==============================] - 0s 50ms/step - loss: 162.7917 - val_loss: 141.5192\n",
      "Epoch 60/100\n",
      "3/3 [==============================] - 0s 40ms/step - loss: 163.2044 - val_loss: 142.1435\n",
      "Epoch 61/100\n",
      "3/3 [==============================] - 0s 44ms/step - loss: 161.4500 - val_loss: 141.4476\n",
      "Epoch 62/100\n",
      "3/3 [==============================] - 0s 38ms/step - loss: 160.5283 - val_loss: 139.7338\n",
      "Epoch 63/100\n",
      "3/3 [==============================] - 0s 42ms/step - loss: 159.8270 - val_loss: 139.4788\n",
      "Epoch 64/100\n",
      "3/3 [==============================] - 0s 46ms/step - loss: 162.2501 - val_loss: 136.2066\n",
      "Epoch 65/100\n",
      "3/3 [==============================] - 0s 38ms/step - loss: 159.4383 - val_loss: 145.1442\n",
      "Epoch 66/100\n",
      "3/3 [==============================] - 0s 44ms/step - loss: 158.8423 - val_loss: 147.8201\n",
      "Epoch 67/100\n",
      "3/3 [==============================] - 0s 55ms/step - loss: 158.5121 - val_loss: 143.9185\n",
      "Epoch 68/100\n",
      "3/3 [==============================] - 0s 50ms/step - loss: 159.0827 - val_loss: 131.8405\n",
      "Epoch 69/100\n",
      "3/3 [==============================] - 0s 48ms/step - loss: 158.2312 - val_loss: 129.9246\n",
      "Epoch 70/100\n",
      "3/3 [==============================] - 0s 44ms/step - loss: 156.9561 - val_loss: 131.9254\n",
      "Epoch 71/100\n",
      "3/3 [==============================] - 0s 50ms/step - loss: 154.4856 - val_loss: 139.0073\n",
      "Epoch 72/100\n",
      "3/3 [==============================] - 0s 41ms/step - loss: 157.5027 - val_loss: 147.3346\n",
      "Epoch 73/100\n",
      "3/3 [==============================] - 0s 58ms/step - loss: 153.5779 - val_loss: 132.0540\n",
      "Epoch 74/100\n",
      "3/3 [==============================] - 0s 72ms/step - loss: 152.6844 - val_loss: 124.2905\n",
      "Epoch 75/100\n",
      "3/3 [==============================] - 0s 51ms/step - loss: 153.9610 - val_loss: 123.6069\n",
      "Epoch 76/100\n",
      "3/3 [==============================] - 0s 45ms/step - loss: 152.7676 - val_loss: 126.4757\n",
      "Epoch 77/100\n",
      "3/3 [==============================] - 0s 43ms/step - loss: 150.1578 - val_loss: 132.7463\n",
      "Epoch 78/100\n"
     ]
    },
    {
     "name": "stdout",
     "output_type": "stream",
     "text": [
      "3/3 [==============================] - 0s 48ms/step - loss: 150.9876 - val_loss: 140.8331\n",
      "Epoch 79/100\n",
      "3/3 [==============================] - 0s 44ms/step - loss: 152.1088 - val_loss: 135.9061\n",
      "Epoch 80/100\n",
      "3/3 [==============================] - 0s 48ms/step - loss: 147.4663 - val_loss: 118.1142\n",
      "Epoch 81/100\n",
      "3/3 [==============================] - 0s 49ms/step - loss: 159.1281 - val_loss: 108.2804\n",
      "Epoch 82/100\n",
      "3/3 [==============================] - 0s 45ms/step - loss: 153.6195 - val_loss: 110.4809\n",
      "Epoch 83/100\n",
      "3/3 [==============================] - 0s 55ms/step - loss: 145.8393 - val_loss: 119.0956\n",
      "Epoch 84/100\n",
      "3/3 [==============================] - 0s 62ms/step - loss: 147.2902 - val_loss: 138.6874\n",
      "Epoch 85/100\n",
      "3/3 [==============================] - 0s 49ms/step - loss: 147.2536 - val_loss: 131.7875\n",
      "Epoch 86/100\n",
      "3/3 [==============================] - 0s 43ms/step - loss: 145.7511 - val_loss: 116.6091\n",
      "Epoch 87/100\n",
      "3/3 [==============================] - 0s 43ms/step - loss: 144.1118 - val_loss: 115.4445\n",
      "Epoch 88/100\n",
      "3/3 [==============================] - 0s 48ms/step - loss: 144.8332 - val_loss: 112.5988\n",
      "Epoch 89/100\n",
      "3/3 [==============================] - 0s 43ms/step - loss: 142.5734 - val_loss: 121.2631\n",
      "Epoch 90/100\n",
      "3/3 [==============================] - 0s 54ms/step - loss: 141.9705 - val_loss: 140.2914\n",
      "Epoch 91/100\n",
      "3/3 [==============================] - 0s 44ms/step - loss: 145.3871 - val_loss: 138.1515\n",
      "Epoch 92/100\n",
      "3/3 [==============================] - 0s 41ms/step - loss: 143.5541 - val_loss: 125.9246\n",
      "Epoch 93/100\n",
      "3/3 [==============================] - 0s 45ms/step - loss: 141.4765 - val_loss: 110.4585\n",
      "Epoch 94/100\n",
      "3/3 [==============================] - 0s 43ms/step - loss: 143.2655 - val_loss: 108.9314\n",
      "Epoch 95/100\n",
      "3/3 [==============================] - 0s 50ms/step - loss: 142.7349 - val_loss: 114.4226\n",
      "Epoch 96/100\n",
      "3/3 [==============================] - 0s 60ms/step - loss: 142.0355 - val_loss: 129.3464\n",
      "Epoch 97/100\n",
      "3/3 [==============================] - 0s 42ms/step - loss: 141.0626 - val_loss: 129.8726\n",
      "Epoch 98/100\n",
      "3/3 [==============================] - 0s 41ms/step - loss: 140.7658 - val_loss: 122.8756\n",
      "Epoch 99/100\n",
      "3/3 [==============================] - 0s 43ms/step - loss: 139.6763 - val_loss: 116.1781\n",
      "Epoch 100/100\n",
      "3/3 [==============================] - 0s 42ms/step - loss: 141.1466 - val_loss: 109.6523\n"
     ]
    }
   ],
   "source": [
    "history = model.fit(X_train, y_train, epochs=100,\n",
    "                    validation_data=(X_valid, y_valid))"
   ]
  },
  {
   "cell_type": "code",
   "execution_count": 17,
   "id": "4d550f88",
   "metadata": {},
   "outputs": [
    {
     "data": {
      "image/png": "[encoded data removed]",
      "text/plain": [
       "<Figure size 576x360 with 1 Axes>"
      ]
     },
     "metadata": {
      "needs_background": "light"
     },
     "output_type": "display_data"
    }
   ],
   "source": [
    "import pandas as pd\n",
    "\n",
    "pd.DataFrame(history.history).plot(figsize=(8, 5))\n",
    "plt.grid(True)\n",
    "# plt.gca().set_ylim(0, 1)\n",
    "plt.show()"
   ]
  },
  {
   "cell_type": "code",
   "execution_count": 18,
   "id": "37466019",
   "metadata": {},
   "outputs": [
    {
     "name": "stdout",
     "output_type": "stream",
     "text": [
      "X.shape = (None, 1)\n",
      "gauss_grid.shape = (None, 5)\n"
     ]
    },
    {
     "data": {
      "image/png": "[encoded data removed]",
      "text/plain": [
       "<Figure size 432x288 with 1 Axes>"
      ]
     },
     "metadata": {
      "needs_background": "light"
     },
     "output_type": "display_data"
    }
   ],
   "source": [
    "# X_new = np.linspace(-5, 5, 100).reshape(100, 1)\n",
    "# y_new = model.predict(X_new)\n",
    "#\n",
    "plt.plot(X_train, y_train, \"b.\")\n",
    "# plt.plot(X_new, y_new, \"r-\", linewidth=2, label=\"Predictions\")\n",
    "draw_func(model.predict, mark='r-', linewidth=2, label=\"Predictions\")\n",
    "draw_normal_func(func_dict)\n",
    "plt.xlabel(\"$x_1$\", fontsize=18)\n",
    "plt.ylabel(\"$y$\", rotation=0, fontsize=18)\n",
    "plt.legend(loc=\"upper left\", fontsize=14)\n",
    "# plt.axis([-3, 3, 0, 10])\n",
    "plt.show()"
   ]
  },
  {
   "cell_type": "markdown",
   "id": "fe65d614",
   "metadata": {},
   "source": [
    "# Grid & Regression by Classification (grid --> grid)"
   ]
  },
  {
   "cell_type": "code",
   "execution_count": 19,
   "id": "3d35615e",
   "metadata": {},
   "outputs": [],
   "source": [
    "class num2grid_np():\n",
    "    def __init__(self, units, x_min=-10, x_max=10, sigma=1.0):\n",
    "        self.units = units\n",
    "        self.x_min = x_min\n",
    "        self.x_max = x_max\n",
    "        self.sigma = sigma\n",
    "        self.sigma2 = self.sigma**2\n",
    "        self.x_grid = np.linspace(self.x_min, self.x_max, self.units, endpoint=True)\n",
    "        print(\"self.x_grid = %s\" % str(self.x_grid))\n",
    "        \n",
    "    def convert(self, X):\n",
    "        gauss_grid = np.exp( -(self.x_grid - X)**2 / (2.0*self.sigma2) )\n",
    "#         if len(gauss_grid.shape) == 1:\n",
    "#             gauss_grid = gauss_grid.reshape([1,-1])\n",
    "#         grid_sum = np.sum(gauss_grid, axis=1, keepdims=True)\n",
    "        grid_sum = np.sum(gauss_grid, axis=-1, keepdims=True)\n",
    "        gauss_grid = gauss_grid / grid_sum\n",
    "        return gauss_grid\n",
    "    \n",
    "    def inv_convert(self, grid):\n",
    "#         if len(grid.shape) == 1:\n",
    "#             grid = grid.reshape([1,-1])\n",
    "#         grid_sum = np.sum(grid, axis=1)\n",
    "        grid_sum = np.sum(grid, axis=-1)\n",
    "#         print(grid_sum)\n",
    "        exp_num = np.sum((self.x_grid * grid), axis=-1) / grid_sum # element-wise\n",
    "        return exp_num\n",
    "    \n",
    "    def get_statistic(self, grid):\n",
    "        grid_sum = np.sum(grid, axis=-1)\n",
    "        _mean = np.sum((self.x_grid * grid), axis=-1) / grid_sum # element-wise\n",
    "        _var  = np.sum( ((self.x_grid.reshape((1,-1)) - _mean.reshape((-1,1)))**2 * grid), axis=-1) / grid_sum # element-wise\n",
    "        # print(\"(_mean, _var) = (%f, %f)\" % (_mean, _var))\n",
    "        _stddev = np.sqrt(_var)\n",
    "        return _mean, _stddev"
   ]
  },
  {
   "cell_type": "code",
   "execution_count": 20,
   "id": "4903180b",
   "metadata": {},
   "outputs": [
    {
     "name": "stdout",
     "output_type": "stream",
     "text": [
      "self.x_grid = [-100.          -95.91836735  -91.83673469  -87.75510204  -83.67346939\n",
      "  -79.59183673  -75.51020408  -71.42857143  -67.34693878  -63.26530612\n",
      "  -59.18367347  -55.10204082  -51.02040816  -46.93877551  -42.85714286\n",
      "  -38.7755102   -34.69387755  -30.6122449   -26.53061224  -22.44897959\n",
      "  -18.36734694  -14.28571429  -10.20408163   -6.12244898   -2.04081633\n",
      "    2.04081633    6.12244898   10.20408163   14.28571429   18.36734694\n",
      "   22.44897959   26.53061224   30.6122449    34.69387755   38.7755102\n",
      "   42.85714286   46.93877551   51.02040816   55.10204082   59.18367347\n",
      "   63.26530612   67.34693878   71.42857143   75.51020408   79.59183673\n",
      "   83.67346939   87.75510204   91.83673469   95.91836735  100.        ]\n"
     ]
    }
   ],
   "source": [
    "# class_num = 10 # 10\n",
    "# n2g = num2grid_np(class_num, x_min=-100.0, x_max=100.0, sigma=20.0) # 20.0\n",
    "# class_num = 20\n",
    "# n2g = num2grid_np(class_num, x_min=-100.0, x_max=100.0, sigma=10.0) # 20.0\n",
    "class_num = 50\n",
    "n2g = num2grid_np(class_num, x_min=-100.0, x_max=100.0, sigma=5.0) # 5.0 "
   ]
  },
  {
   "cell_type": "code",
   "execution_count": 21,
   "id": "dce05258",
   "metadata": {},
   "outputs": [
    {
     "name": "stdout",
     "output_type": "stream",
     "text": [
      "[[5.32087956e-86 3.86113319e-79 1.43892139e-72 2.75391345e-66\n",
      "  2.70678923e-60 1.36631087e-54 3.54189384e-49 4.71533431e-44\n",
      "  3.22389115e-39 1.13198112e-34 2.04121584e-30 1.89029511e-26\n",
      "  8.99003166e-23 2.19575442e-19 2.75421121e-16 1.77419623e-13\n",
      "  5.86944439e-11 9.97202289e-09 8.70082579e-07 3.89877895e-05\n",
      "  8.97196734e-04 1.06032179e-02 6.43544562e-02 2.00590561e-01\n",
      "  3.21094817e-01 2.63965415e-01 1.11442718e-01 2.41628020e-02\n",
      "  2.69050515e-03 1.53854886e-04 4.51834812e-06 6.81457879e-08\n",
      "  5.27824177e-10 2.09957055e-12 4.28906472e-15 4.49972175e-18\n",
      "  2.42437419e-21 6.70817796e-25 9.53235992e-29 6.95644285e-33\n",
      "  2.60714354e-37 5.01803398e-42 4.96013143e-47 2.51793030e-52\n",
      "  6.56425064e-58 8.78855631e-64 6.04283668e-70 2.13380686e-76\n",
      "  3.86954844e-83 3.60376450e-90]]\n"
     ]
    }
   ],
   "source": [
    "# grid_1 = n2g.convert(-1.2)\n",
    "grid_1 = n2g.convert([[-1.2]])\n",
    "print(grid_1)"
   ]
  },
  {
   "cell_type": "code",
   "execution_count": 22,
   "id": "48203fe2",
   "metadata": {},
   "outputs": [
    {
     "data": {
      "text/plain": [
       "array([-1.2])"
      ]
     },
     "execution_count": 22,
     "metadata": {},
     "output_type": "execute_result"
    }
   ],
   "source": [
    "n2g.inv_convert(grid_1)"
   ]
  },
  {
   "cell_type": "code",
   "execution_count": 23,
   "id": "a741b6d1",
   "metadata": {},
   "outputs": [
    {
     "data": {
      "text/plain": [
       "(array([-1.2]), array([5.]))"
      ]
     },
     "execution_count": 23,
     "metadata": {},
     "output_type": "execute_result"
    }
   ],
   "source": [
    "n2g.get_statistic(grid_1)"
   ]
  },
  {
   "cell_type": "markdown",
   "id": "bdc0b9a0",
   "metadata": {},
   "source": [
    "### Convert the labels to grid (pre-processing)"
   ]
  },
  {
   "cell_type": "code",
   "execution_count": 24,
   "id": "39c7fa96",
   "metadata": {},
   "outputs": [],
   "source": [
    "y_train_grid = n2g.convert(y_train)\n",
    "y_valid_grid = n2g.convert(y_valid)"
   ]
  },
  {
   "cell_type": "code",
   "execution_count": 25,
   "id": "f577a751",
   "metadata": {},
   "outputs": [
    {
     "name": "stdout",
     "output_type": "stream",
     "text": [
      "(80, 50)\n",
      "(20, 50)\n"
     ]
    }
   ],
   "source": [
    "print(y_train_grid.shape)\n",
    "print(y_valid_grid.shape)"
   ]
  },
  {
   "cell_type": "code",
   "execution_count": 26,
   "id": "71610af1",
   "metadata": {},
   "outputs": [
    {
     "name": "stdout",
     "output_type": "stream",
     "text": [
      "X.shape = (None, 1)\n",
      "gauss_grid.shape = (None, 5)\n"
     ]
    },
    {
     "name": "stderr",
     "output_type": "stream",
     "text": [
      "/home/benson516/ml/my_env/lib/python3.6/site-packages/keras/optimizer_v2/optimizer_v2.py:356: UserWarning: The `lr` argument is deprecated, use `learning_rate` instead.\n",
      "  \"The `lr` argument is deprecated, use `learning_rate` instead.\")\n"
     ]
    }
   ],
   "source": [
    "model = keras.models.Sequential([\n",
    "#     keras.layers.Dense(30, activation=\"relu\", input_shape=X_train.shape[1:]),\n",
    "    num2grid(5,x_min=-10, x_max=10, sigma=3.0, input_shape=X_train.shape[1:]),\n",
    "    keras.layers.Dense(30, activation=\"relu\"),\n",
    "    keras.layers.Dense(class_num, activation=\"softmax\"),\n",
    "])\n",
    "\n",
    "optimizer = keras.optimizers.SGD(lr=0.2, momentum=0.9)\n",
    "model.compile(loss=\"categorical_crossentropy\", optimizer=optimizer)"
   ]
  },
  {
   "cell_type": "code",
   "execution_count": 27,
   "id": "e2244aee",
   "metadata": {
    "scrolled": true
   },
   "outputs": [
    {
     "name": "stdout",
     "output_type": "stream",
     "text": [
      "Epoch 1/100\n",
      "X.shape = (None, 1)\n",
      "gauss_grid.shape = (None, 5)\n",
      "X.shape = (None, 1)\n",
      "gauss_grid.shape = (None, 5)\n",
      "1/3 [=========>....................] - ETA: 1s - loss: 3.9066X.shape = (None, 1)\n",
      "gauss_grid.shape = (None, 5)\n",
      "3/3 [==============================] - 1s 138ms/step - loss: 3.8960 - val_loss: 3.8485\n",
      "Epoch 2/100\n",
      "3/3 [==============================] - 0s 57ms/step - loss: 3.7718 - val_loss: 3.6445\n",
      "Epoch 3/100\n",
      "3/3 [==============================] - 0s 58ms/step - loss: 3.5416 - val_loss: 3.3460\n",
      "Epoch 4/100\n",
      "3/3 [==============================] - 0s 52ms/step - loss: 3.2273 - val_loss: 3.0491\n",
      "Epoch 5/100\n",
      "3/3 [==============================] - 0s 59ms/step - loss: 3.0411 - val_loss: 2.8944\n",
      "Epoch 6/100\n",
      "3/3 [==============================] - 0s 53ms/step - loss: 2.9164 - val_loss: 2.6998\n",
      "Epoch 7/100\n",
      "3/3 [==============================] - 0s 83ms/step - loss: 2.8124 - val_loss: 2.6855\n",
      "Epoch 8/100\n",
      "3/3 [==============================] - 0s 88ms/step - loss: 2.7572 - val_loss: 2.7067\n",
      "Epoch 9/100\n",
      "3/3 [==============================] - 0s 108ms/step - loss: 2.7360 - val_loss: 2.5710\n",
      "Epoch 10/100\n",
      "3/3 [==============================] - 0s 108ms/step - loss: 2.6619 - val_loss: 2.4855\n",
      "Epoch 11/100\n",
      "3/3 [==============================] - 0s 71ms/step - loss: 2.6670 - val_loss: 2.4769\n",
      "Epoch 12/100\n",
      "3/3 [==============================] - 0s 98ms/step - loss: 2.6318 - val_loss: 2.4926\n",
      "Epoch 13/100\n",
      "3/3 [==============================] - 0s 102ms/step - loss: 2.6113 - val_loss: 2.5585\n",
      "Epoch 14/100\n",
      "3/3 [==============================] - 0s 105ms/step - loss: 2.6057 - val_loss: 2.6020\n",
      "Epoch 15/100\n",
      "3/3 [==============================] - 0s 104ms/step - loss: 2.6054 - val_loss: 2.5750\n",
      "Epoch 16/100\n",
      "3/3 [==============================] - 0s 93ms/step - loss: 2.5896 - val_loss: 2.5310\n",
      "Epoch 17/100\n",
      "3/3 [==============================] - 0s 101ms/step - loss: 2.5799 - val_loss: 2.5207\n",
      "Epoch 18/100\n",
      "3/3 [==============================] - 0s 53ms/step - loss: 2.5624 - val_loss: 2.5381\n",
      "Epoch 19/100\n",
      "3/3 [==============================] - 0s 70ms/step - loss: 2.5585 - val_loss: 2.5216\n",
      "Epoch 20/100\n",
      "3/3 [==============================] - 0s 62ms/step - loss: 2.5487 - val_loss: 2.4754\n",
      "Epoch 21/100\n",
      "3/3 [==============================] - 0s 99ms/step - loss: 2.5398 - val_loss: 2.4655\n",
      "Epoch 22/100\n",
      "3/3 [==============================] - 0s 113ms/step - loss: 2.5326 - val_loss: 2.4925\n",
      "Epoch 23/100\n",
      "3/3 [==============================] - 0s 106ms/step - loss: 2.5135 - val_loss: 2.5044\n",
      "Epoch 24/100\n",
      "3/3 [==============================] - 0s 106ms/step - loss: 2.5101 - val_loss: 2.4826\n",
      "Epoch 25/100\n",
      "3/3 [==============================] - 0s 96ms/step - loss: 2.4982 - val_loss: 2.4448\n",
      "Epoch 26/100\n",
      "3/3 [==============================] - 0s 86ms/step - loss: 2.4937 - val_loss: 2.4457\n",
      "Epoch 27/100\n",
      "3/3 [==============================] - 0s 115ms/step - loss: 2.4830 - val_loss: 2.4666\n",
      "Epoch 28/100\n",
      "3/3 [==============================] - 0s 85ms/step - loss: 2.4683 - val_loss: 2.4985\n",
      "Epoch 29/100\n",
      "3/3 [==============================] - 0s 98ms/step - loss: 2.4646 - val_loss: 2.4906\n",
      "Epoch 30/100\n",
      "3/3 [==============================] - 0s 106ms/step - loss: 2.4479 - val_loss: 2.4227\n",
      "Epoch 31/100\n",
      "3/3 [==============================] - 0s 94ms/step - loss: 2.4376 - val_loss: 2.4014\n",
      "Epoch 32/100\n",
      "3/3 [==============================] - 0s 89ms/step - loss: 2.4282 - val_loss: 2.3941\n",
      "Epoch 33/100\n",
      "3/3 [==============================] - 0s 129ms/step - loss: 2.4188 - val_loss: 2.4079\n",
      "Epoch 34/100\n",
      "3/3 [==============================] - 0s 74ms/step - loss: 2.4064 - val_loss: 2.4330\n",
      "Epoch 35/100\n",
      "3/3 [==============================] - 0s 89ms/step - loss: 2.3987 - val_loss: 2.4048\n",
      "Epoch 36/100\n",
      "3/3 [==============================] - 0s 104ms/step - loss: 2.3911 - val_loss: 2.3659\n",
      "Epoch 37/100\n",
      "3/3 [==============================] - 0s 131ms/step - loss: 2.3770 - val_loss: 2.3676\n",
      "Epoch 38/100\n",
      "3/3 [==============================] - 0s 54ms/step - loss: 2.3654 - val_loss: 2.3725\n",
      "Epoch 39/100\n",
      "3/3 [==============================] - 0s 107ms/step - loss: 2.3557 - val_loss: 2.3858\n",
      "Epoch 40/100\n",
      "3/3 [==============================] - ETA: 0s - loss: 2.392 - 0s 88ms/step - loss: 2.3512 - val_loss: 2.3712\n",
      "Epoch 41/100\n",
      "3/3 [==============================] - 0s 108ms/step - loss: 2.3452 - val_loss: 2.3731\n",
      "Epoch 42/100\n",
      "3/3 [==============================] - 0s 62ms/step - loss: 2.3401 - val_loss: 2.3475\n",
      "Epoch 43/100\n",
      "3/3 [==============================] - 0s 60ms/step - loss: 2.3315 - val_loss: 2.3687\n",
      "Epoch 44/100\n",
      "3/3 [==============================] - 0s 55ms/step - loss: 2.3322 - val_loss: 2.3590\n",
      "Epoch 45/100\n",
      "3/3 [==============================] - 0s 64ms/step - loss: 2.3282 - val_loss: 2.3289\n",
      "Epoch 46/100\n",
      "3/3 [==============================] - 0s 55ms/step - loss: 2.3185 - val_loss: 2.3495\n",
      "Epoch 47/100\n",
      "3/3 [==============================] - 0s 57ms/step - loss: 2.3102 - val_loss: 2.3477\n",
      "Epoch 48/100\n",
      "3/3 [==============================] - 0s 67ms/step - loss: 2.3002 - val_loss: 2.3410\n",
      "Epoch 49/100\n",
      "3/3 [==============================] - 0s 68ms/step - loss: 2.3010 - val_loss: 2.3188\n",
      "Epoch 50/100\n",
      "3/3 [==============================] - 0s 70ms/step - loss: 2.2946 - val_loss: 2.3420\n",
      "Epoch 51/100\n",
      "3/3 [==============================] - 0s 56ms/step - loss: 2.2943 - val_loss: 2.3571\n",
      "Epoch 52/100\n",
      "3/3 [==============================] - 0s 63ms/step - loss: 2.2891 - val_loss: 2.3366\n",
      "Epoch 53/100\n",
      "3/3 [==============================] - 0s 56ms/step - loss: 2.2770 - val_loss: 2.3236\n",
      "Epoch 54/100\n",
      "3/3 [==============================] - 0s 78ms/step - loss: 2.2858 - val_loss: 2.3176\n",
      "Epoch 55/100\n",
      "3/3 [==============================] - 0s 66ms/step - loss: 2.2851 - val_loss: 2.3031\n",
      "Epoch 56/100\n",
      "3/3 [==============================] - 0s 60ms/step - loss: 2.2705 - val_loss: 2.3389\n",
      "Epoch 57/100\n",
      "3/3 [==============================] - 0s 51ms/step - loss: 2.2822 - val_loss: 2.3324\n",
      "Epoch 58/100\n",
      "3/3 [==============================] - 0s 58ms/step - loss: 2.2684 - val_loss: 2.2733\n",
      "Epoch 59/100\n",
      "3/3 [==============================] - 0s 60ms/step - loss: 2.2807 - val_loss: 2.2605\n",
      "Epoch 60/100\n",
      "3/3 [==============================] - 0s 65ms/step - loss: 2.2672 - val_loss: 2.3544\n",
      "Epoch 61/100\n",
      "3/3 [==============================] - 0s 52ms/step - loss: 2.2736 - val_loss: 2.3911\n",
      "Epoch 62/100\n",
      "3/3 [==============================] - 0s 77ms/step - loss: 2.2648 - val_loss: 2.3145\n",
      "Epoch 63/100\n",
      "3/3 [==============================] - 0s 63ms/step - loss: 2.2529 - val_loss: 2.2618\n",
      "Epoch 64/100\n",
      "3/3 [==============================] - 0s 53ms/step - loss: 2.2587 - val_loss: 2.2571\n",
      "Epoch 65/100\n",
      "3/3 [==============================] - 0s 61ms/step - loss: 2.2598 - val_loss: 2.3035\n",
      "Epoch 66/100\n",
      "3/3 [==============================] - 0s 65ms/step - loss: 2.2505 - val_loss: 2.3310\n",
      "Epoch 67/100\n",
      "3/3 [==============================] - 0s 62ms/step - loss: 2.2469 - val_loss: 2.3348\n",
      "Epoch 68/100\n",
      "3/3 [==============================] - 0s 89ms/step - loss: 2.2441 - val_loss: 2.3078\n",
      "Epoch 69/100\n",
      "3/3 [==============================] - 0s 103ms/step - loss: 2.2483 - val_loss: 2.2709\n",
      "Epoch 70/100\n",
      "3/3 [==============================] - 0s 95ms/step - loss: 2.2472 - val_loss: 2.2897\n",
      "Epoch 71/100\n",
      "3/3 [==============================] - 0s 60ms/step - loss: 2.2359 - val_loss: 2.3018\n",
      "Epoch 72/100\n",
      "3/3 [==============================] - 0s 52ms/step - loss: 2.2385 - val_loss: 2.3106\n",
      "Epoch 73/100\n",
      "3/3 [==============================] - 0s 53ms/step - loss: 2.2365 - val_loss: 2.2981\n",
      "Epoch 74/100\n",
      "3/3 [==============================] - 0s 46ms/step - loss: 2.2417 - val_loss: 2.3036\n",
      "Epoch 75/100\n",
      "3/3 [==============================] - 0s 53ms/step - loss: 2.2342 - val_loss: 2.2851\n",
      "Epoch 76/100\n",
      "3/3 [==============================] - 0s 58ms/step - loss: 2.2337 - val_loss: 2.2756\n",
      "Epoch 77/100\n",
      "3/3 [==============================] - 0s 65ms/step - loss: 2.2272 - val_loss: 2.3097\n",
      "Epoch 78/100\n",
      "3/3 [==============================] - 0s 96ms/step - loss: 2.2352 - val_loss: 2.3283\n",
      "Epoch 79/100\n",
      "3/3 [==============================] - 0s 97ms/step - loss: 2.2305 - val_loss: 2.2745\n",
      "Epoch 80/100\n",
      "3/3 [==============================] - 0s 99ms/step - loss: 2.2274 - val_loss: 2.2547\n",
      "Epoch 81/100\n"
     ]
    },
    {
     "name": "stdout",
     "output_type": "stream",
     "text": [
      "3/3 [==============================] - 0s 102ms/step - loss: 2.2201 - val_loss: 2.2592\n",
      "Epoch 82/100\n",
      "3/3 [==============================] - 0s 96ms/step - loss: 2.2250 - val_loss: 2.2810\n",
      "Epoch 83/100\n",
      "3/3 [==============================] - 0s 96ms/step - loss: 2.2216 - val_loss: 2.3073\n",
      "Epoch 84/100\n",
      "3/3 [==============================] - 0s 96ms/step - loss: 2.2296 - val_loss: 2.2997\n",
      "Epoch 85/100\n",
      "3/3 [==============================] - 0s 98ms/step - loss: 2.2175 - val_loss: 2.3048\n",
      "Epoch 86/100\n",
      "3/3 [==============================] - 0s 106ms/step - loss: 2.2322 - val_loss: 2.2798\n",
      "Epoch 87/100\n",
      "3/3 [==============================] - 0s 106ms/step - loss: 2.2093 - val_loss: 2.2408\n",
      "Epoch 88/100\n",
      "3/3 [==============================] - 0s 102ms/step - loss: 2.2256 - val_loss: 2.2393\n",
      "Epoch 89/100\n",
      "3/3 [==============================] - 0s 73ms/step - loss: 2.2130 - val_loss: 2.2971\n",
      "Epoch 90/100\n",
      "3/3 [==============================] - 0s 87ms/step - loss: 2.2227 - val_loss: 2.3193\n",
      "Epoch 91/100\n",
      "3/3 [==============================] - 0s 117ms/step - loss: 2.2185 - val_loss: 2.3046\n",
      "Epoch 92/100\n",
      "3/3 [==============================] - 0s 113ms/step - loss: 2.2240 - val_loss: 2.2687\n",
      "Epoch 93/100\n",
      "3/3 [==============================] - 0s 100ms/step - loss: 2.2074 - val_loss: 2.2717\n",
      "Epoch 94/100\n",
      "3/3 [==============================] - 0s 105ms/step - loss: 2.2066 - val_loss: 2.2833\n",
      "Epoch 95/100\n",
      "3/3 [==============================] - 0s 90ms/step - loss: 2.2159 - val_loss: 2.3028\n",
      "Epoch 96/100\n",
      "3/3 [==============================] - 0s 100ms/step - loss: 2.2116 - val_loss: 2.2512\n",
      "Epoch 97/100\n",
      "3/3 [==============================] - 0s 92ms/step - loss: 2.2225 - val_loss: 2.2257\n",
      "Epoch 98/100\n",
      "3/3 [==============================] - 0s 74ms/step - loss: 2.2129 - val_loss: 2.2810\n",
      "Epoch 99/100\n",
      "3/3 [==============================] - 0s 94ms/step - loss: 2.2138 - val_loss: 2.3297\n",
      "Epoch 100/100\n",
      "3/3 [==============================] - 0s 92ms/step - loss: 2.2100 - val_loss: 2.3236\n"
     ]
    }
   ],
   "source": [
    "history = model.fit(X_train, y_train_grid, epochs=100,\n",
    "                    validation_data=(X_valid, y_valid_grid))"
   ]
  },
  {
   "cell_type": "code",
   "execution_count": 28,
   "id": "390834c9",
   "metadata": {},
   "outputs": [
    {
     "data": {
      "image/png": "[encoded data removed]",
      "text/plain": [
       "<Figure size 576x360 with 1 Axes>"
      ]
     },
     "metadata": {
      "needs_background": "light"
     },
     "output_type": "display_data"
    }
   ],
   "source": [
    "import pandas as pd\n",
    "\n",
    "pd.DataFrame(history.history).plot(figsize=(8, 5))\n",
    "plt.grid(True)\n",
    "# plt.gca().set_ylim(0, 1)\n",
    "plt.show()"
   ]
  },
  {
   "cell_type": "code",
   "execution_count": 29,
   "id": "6fba3b6a",
   "metadata": {},
   "outputs": [
    {
     "name": "stdout",
     "output_type": "stream",
     "text": [
      "X.shape = (None, 1)\n",
      "gauss_grid.shape = (None, 5)\n"
     ]
    },
    {
     "data": {
      "image/png": "[encoded data removed]",
      "text/plain": [
       "<Figure size 432x288 with 1 Axes>"
      ]
     },
     "metadata": {
      "needs_background": "light"
     },
     "output_type": "display_data"
    }
   ],
   "source": [
    "# X_new = np.linspace(-5, 5, 100).reshape(100, 1)\n",
    "# y_new_proba = model.predict(X_new)\n",
    "# y_new = n2g.inv_convert(y_new_proba)\n",
    "#\n",
    "plt.plot(X_train, y_train, \"b.\")\n",
    "# plt.plot(X_new, y_new, \"r-\", linewidth=2, label=\"Predictions\")\n",
    "draw_func((lambda X: n2g.inv_convert(model.predict(X)) ), mark='r-', linewidth=2, label=\"Predictions\")\n",
    "draw_normal_func(func_dict)\n",
    "plt.xlabel(\"$x_1$\", fontsize=18)\n",
    "plt.ylabel(\"$y$\", rotation=0, fontsize=18)\n",
    "plt.legend(loc=\"upper left\", fontsize=14)\n",
    "# plt.axis([-3, 3, 0, 10])\n",
    "plt.show()"
   ]
  },
  {
   "cell_type": "code",
   "execution_count": 30,
   "id": "edcf26db",
   "metadata": {},
   "outputs": [
    {
     "data": {
      "text/plain": [
       "<matplotlib.collections.QuadMesh at 0x7f9a817ef9e8>"
      ]
     },
     "execution_count": 30,
     "metadata": {},
     "output_type": "execute_result"
    },
    {
     "data": {
      "image/png": "[encoded data removed]",
      "text/plain": [
       "<Figure size 432x288 with 1 Axes>"
      ]
     },
     "metadata": {
      "needs_background": "light"
     },
     "output_type": "display_data"
    }
   ],
   "source": [
    "X_new = np.linspace(-5, 5, 100).reshape(100, 1)\n",
    "y_new_proba = model.predict(X_new)\n",
    "# y_new = n2g.inv_convert(y_new_proba)\n",
    "#\n",
    "xv, yv = np.meshgrid(X_new, np.linspace(n2g.x_min, n2g.x_max, n2g.units))\n",
    "# print(xv)\n",
    "# print(yv)\n",
    "plt.pcolormesh(xv, yv, y_new_proba.T, shading=\"nearest\")"
   ]
  },
  {
   "cell_type": "markdown",
   "id": "4064d3b5",
   "metadata": {},
   "source": [
    "### Draw the 1-sigma boundary line"
   ]
  },
  {
   "cell_type": "code",
   "execution_count": 31,
   "id": "247e8712",
   "metadata": {},
   "outputs": [
    {
     "data": {
      "image/png": "[encoded data removed]",
      "text/plain": [
       "<Figure size 432x288 with 1 Axes>"
      ]
     },
     "metadata": {
      "needs_background": "light"
     },
     "output_type": "display_data"
    }
   ],
   "source": [
    "def n_sigma_boundary_line(X, n):\n",
    "    _mean, _sigma = n2g.get_statistic(model.predict(X))\n",
    "    return( _mean + n*_sigma)\n",
    "\n",
    "plt.plot(X_train, y_train, \"b.\")\n",
    "#\n",
    "draw_func((lambda X: n2g.inv_convert(model.predict(X)) ), mark='r-', linewidth=2, label=\"Predictions\")\n",
    "draw_func((lambda X: n_sigma_boundary_line(X, +1.0) ), mark='k--', linewidth=1, label=\"$\\mu+\\sigma$\")\n",
    "draw_func((lambda X: n_sigma_boundary_line(X, -1.0) ), mark='k--', linewidth=1, label=\"$\\mu-\\sigma$\")\n",
    "#\n",
    "draw_normal_func(func_dict)\n",
    "plt.xlabel(\"$x_1$\", fontsize=18)\n",
    "plt.ylabel(\"$y$\", rotation=0, fontsize=18)\n",
    "plt.legend(loc=\"upper left\", fontsize=14)\n",
    "# plt.axis([-3, 3, 0, 10])\n",
    "plt.show()"
   ]
  },
  {
   "cell_type": "code",
   "execution_count": null,
   "id": "e6266336",
   "metadata": {},
   "outputs": [],
   "source": []
  },
  {
   "cell_type": "markdown",
   "id": "99a85ab5",
   "metadata": {},
   "source": [
    "# Grid & Regression by Classification + Offset Estimation (grid --> grid,num)"
   ]
  },
  {
   "cell_type": "code",
   "execution_count": 32,
   "id": "26440167",
   "metadata": {},
   "outputs": [],
   "source": [
    "class num2gridOffset_np():\n",
    "    def __init__(self, units, x_min=-10, x_max=10):\n",
    "        self.units = units\n",
    "        self.x_min = x_min\n",
    "        self.x_max = x_max\n",
    "        self.x_grid = np.linspace(self.x_min, self.x_max, self.units, endpoint=True)\n",
    "        # bins\n",
    "        x_space = np.average(self.x_grid[1:] - self.x_grid[:-1])\n",
    "        print(\"x_space = %f\" % x_space)\n",
    "        x_0 = self.x_grid[0] - 0.5 * x_space\n",
    "        self.x_bins = [x_0 + _i*x_space for _i in range(len(self.x_grid)+1)]\n",
    "        print(\"self.x_grid = %s\" % str(self.x_grid))\n",
    "#         print(\"self.x_bins = %s\" % str(self.x_bins))\n",
    "        \n",
    "    def convert(self, X):\n",
    "        '''\n",
    "        Convert a batch of number to one-hot class and numerical offset to each grid's center\n",
    "        (m, 1) --> (m, n_units, 2)\n",
    "        '''\n",
    "        X = np.array(X)\n",
    "        if len(X.shape) <= 1:\n",
    "            X = X.reshape((-1,1))\n",
    "        idxs_bin = np.digitize(X, self.x_bins, right=False) \n",
    "        idxs_grid = (idxs_bin - 1) + 1*(idxs_bin<= 0)\n",
    "        print(idxs_grid.shape)\n",
    "        #\n",
    "        batch_size = X.shape[0]\n",
    "        grid = np.zeros((batch_size, self.units, 2))\n",
    "        # Fill in the values\n",
    "        grid[np.arange(batch_size), idxs_grid.reshape((-1,)), 0] = 1.0\n",
    "        grid[np.arange(batch_size), :, 1] = X - self.x_grid.reshape((1,-1)) # Offset\n",
    "        return grid\n",
    "    \n",
    "    def inv_convert(self, grid):\n",
    "        idxs_grid = np.argmax(grid[...,0], axis=1)\n",
    "        print(idxs_grid.shape)\n",
    "        #\n",
    "        batch_size = grid.shape[0]\n",
    "        offset_est = grid[np.arange(batch_size),idxs_grid,1]\n",
    "        print(offset_est.shape)\n",
    "        num_est = self.x_grid[idxs_grid].reshape((1,-1)) + offset_est\n",
    "        return num_est.reshape((-1,))"
   ]
  },
  {
   "cell_type": "code",
   "execution_count": 33,
   "id": "8b15e9ff",
   "metadata": {},
   "outputs": [
    {
     "name": "stdout",
     "output_type": "stream",
     "text": [
      "x_space = 22.222222\n",
      "self.x_grid = [-100.          -77.77777778  -55.55555556  -33.33333333  -11.11111111\n",
      "   11.11111111   33.33333333   55.55555556   77.77777778  100.        ]\n"
     ]
    }
   ],
   "source": [
    "class_num = 10 # 10\n",
    "n2go = num2gridOffset_np(class_num, x_min=-100.0, x_max=100.0) "
   ]
  },
  {
   "cell_type": "code",
   "execution_count": 34,
   "id": "8f6e7955",
   "metadata": {},
   "outputs": [
    {
     "name": "stdout",
     "output_type": "stream",
     "text": [
      "(2, 1)\n",
      "[[[   0.           98.8       ]\n",
      "  [   0.           76.57777778]\n",
      "  [   0.           54.35555556]\n",
      "  [   0.           32.13333333]\n",
      "  [   1.            9.91111111]\n",
      "  [   0.          -12.31111111]\n",
      "  [   0.          -34.53333333]\n",
      "  [   0.          -56.75555556]\n",
      "  [   0.          -78.97777778]\n",
      "  [   0.         -101.2       ]]\n",
      "\n",
      " [[   0.          150.5       ]\n",
      "  [   0.          128.27777778]\n",
      "  [   0.          106.05555556]\n",
      "  [   0.           83.83333333]\n",
      "  [   0.           61.61111111]\n",
      "  [   0.           39.38888889]\n",
      "  [   0.           17.16666667]\n",
      "  [   1.           -5.05555556]\n",
      "  [   0.          -27.27777778]\n",
      "  [   0.          -49.5       ]]]\n"
     ]
    }
   ],
   "source": [
    "# grid_1 = n2g.convert(-1.2)\n",
    "grid_1 = n2go.convert([[-1.2], [50.5]])\n",
    "print(grid_1)"
   ]
  },
  {
   "cell_type": "code",
   "execution_count": 35,
   "id": "48840dc5",
   "metadata": {},
   "outputs": [
    {
     "name": "stdout",
     "output_type": "stream",
     "text": [
      "(2,)\n",
      "(2,)\n"
     ]
    },
    {
     "data": {
      "text/plain": [
       "array([-1.2, 50.5])"
      ]
     },
     "execution_count": 35,
     "metadata": {},
     "output_type": "execute_result"
    }
   ],
   "source": [
    "n2go.inv_convert(grid_1)"
   ]
  },
  {
   "cell_type": "markdown",
   "id": "11683cea",
   "metadata": {},
   "source": [
    "### Convert the labels to grid (pre-processing)"
   ]
  },
  {
   "cell_type": "code",
   "execution_count": 36,
   "id": "472997cf",
   "metadata": {},
   "outputs": [
    {
     "name": "stdout",
     "output_type": "stream",
     "text": [
      "(80, 1)\n",
      "(20, 1)\n"
     ]
    }
   ],
   "source": [
    "y_train_grid_offset = n2go.convert(y_train)\n",
    "y_valid_grid_offset = n2go.convert(y_valid)"
   ]
  },
  {
   "cell_type": "code",
   "execution_count": 37,
   "id": "71f08d76",
   "metadata": {},
   "outputs": [
    {
     "name": "stdout",
     "output_type": "stream",
     "text": [
      "(80, 10, 2)\n",
      "(20, 10, 2)\n"
     ]
    }
   ],
   "source": [
    "print(y_train_grid_offset.shape)\n",
    "print(y_valid_grid_offset.shape)"
   ]
  },
  {
   "cell_type": "code",
   "execution_count": 38,
   "id": "84b5b833",
   "metadata": {},
   "outputs": [
    {
     "name": "stdout",
     "output_type": "stream",
     "text": [
      "X.shape = (None, 1)\n",
      "gauss_grid.shape = (None, 5)\n"
     ]
    }
   ],
   "source": [
    "inputs = keras.layers.Input(shape=X_train.shape[1:])\n",
    "#\n",
    "z = num2grid(5,x_min=-10, x_max=10, sigma=3.0)(inputs)\n",
    "z = keras.layers.Dense(30, activation=\"selu\")(z)\n",
    "# Outputs\n",
    "z_proba = keras.layers.Dense(30, activation=\"relu\")(z)\n",
    "z_proba  = keras.layers.Dense(class_num, activation=\"softmax\")(z_proba)\n",
    "z_offset = keras.layers.Dense(class_num, activation=\"relu\")(z)\n",
    "z_offset = keras.layers.Dense(class_num)(z_offset)\n",
    "# Concatenate\n",
    "z_proba  = keras.layers.Reshape([class_num,1])(z_proba)\n",
    "z_offset = keras.layers.Reshape([class_num,1])(z_offset)\n",
    "out_cat = keras.layers.Concatenate(axis=-1)([z_proba, z_offset])\n",
    "#\n",
    "# Models for trainig and real usage\n",
    "model = keras.Model(inputs=[inputs], outputs=[out_cat])"
   ]
  },
  {
   "cell_type": "code",
   "execution_count": 39,
   "id": "e6482574",
   "metadata": {},
   "outputs": [],
   "source": [
    "# Customized loss function\n",
    "\n",
    "cce = keras.losses.CategoricalCrossentropy(reduction=keras.losses.Reduction.NONE)\n",
    "# cce(y_true, y_pred).numpy()\n",
    "\n",
    "def centerLoss_fn(y_true, y_pred):\n",
    "    #\n",
    "    y_true_proba = y_true[...,0]\n",
    "    y_true_value = y_true[...,1]\n",
    "    #\n",
    "    y_pred_proba = y_pred[...,0]\n",
    "    y_pred_value = y_pred[...,1]\n",
    "    \n",
    "    #\n",
    "    cce_loss = cce(y_true_proba, y_pred_proba) / class_num\n",
    "    #\n",
    "    y_true_value_est = tf.reduce_sum((y_true_proba * y_true_value), axis=-1)\n",
    "    y_pred_value_est = tf.reduce_sum((y_true_proba * y_pred_value), axis=-1)\n",
    "#     y_pred_value_est = tf.reduce_sum((y_pred_proba * y_pred_value), axis=-1)\n",
    "    value_loss = tf.abs(y_pred_value_est - y_true_value_est)\n",
    "    \n",
    "    # Total loss\n",
    "#     return (0.5*cce_loss + 0.5*value_loss )\n",
    "    return (0.2*cce_loss + 0.8*value_loss )\n",
    "#     return (cce_loss)\n",
    "#     return (value_loss )"
   ]
  },
  {
   "cell_type": "code",
   "execution_count": 40,
   "id": "60575755",
   "metadata": {},
   "outputs": [
    {
     "name": "stderr",
     "output_type": "stream",
     "text": [
      "/home/benson516/ml/my_env/lib/python3.6/site-packages/keras/optimizer_v2/optimizer_v2.py:356: UserWarning: The `lr` argument is deprecated, use `learning_rate` instead.\n",
      "  \"The `lr` argument is deprecated, use `learning_rate` instead.\")\n"
     ]
    }
   ],
   "source": [
    "optimizer = keras.optimizers.SGD(lr=0.1, momentum=0.9)\n",
    "model.compile(loss=centerLoss_fn, optimizer=optimizer)"
   ]
  },
  {
   "cell_type": "code",
   "execution_count": 41,
   "id": "09bc47a5",
   "metadata": {
    "scrolled": true
   },
   "outputs": [
    {
     "name": "stdout",
     "output_type": "stream",
     "text": [
      "Epoch 1/100\n",
      "X.shape = (None, 1)\n",
      "gauss_grid.shape = (None, 5)\n",
      "X.shape = (None, 1)\n",
      "gauss_grid.shape = (None, 5)\n",
      "1/3 [=========>....................] - ETA: 4s - loss: 5.5518X.shape = (None, 1)\n",
      "gauss_grid.shape = (None, 5)\n",
      "3/3 [==============================] - 3s 275ms/step - loss: 5.1893 - val_loss: 5.8709\n",
      "Epoch 2/100\n",
      "3/3 [==============================] - 0s 89ms/step - loss: 5.1055 - val_loss: 5.6711\n",
      "Epoch 3/100\n",
      "3/3 [==============================] - 0s 101ms/step - loss: 4.9409 - val_loss: 5.3410\n",
      "Epoch 4/100\n",
      "3/3 [==============================] - 0s 121ms/step - loss: 4.7072 - val_loss: 4.7829\n",
      "Epoch 5/100\n",
      "3/3 [==============================] - 0s 109ms/step - loss: 4.4883 - val_loss: 4.1438\n",
      "Epoch 6/100\n",
      "3/3 [==============================] - 0s 94ms/step - loss: 4.2657 - val_loss: 4.2486\n",
      "Epoch 7/100\n",
      "3/3 [==============================] - 0s 104ms/step - loss: 4.0563 - val_loss: 4.4841\n",
      "Epoch 8/100\n",
      "3/3 [==============================] - 0s 110ms/step - loss: 4.4982 - val_loss: 4.1478\n",
      "Epoch 9/100\n",
      "3/3 [==============================] - ETA: 0s - loss: 4.125 - 0s 127ms/step - loss: 4.1253 - val_loss: 4.4221\n",
      "Epoch 10/100\n",
      "3/3 [==============================] - 0s 113ms/step - loss: 4.3422 - val_loss: 4.4501\n",
      "Epoch 11/100\n",
      "3/3 [==============================] - 0s 128ms/step - loss: 4.2422 - val_loss: 4.0643\n",
      "Epoch 12/100\n",
      "3/3 [==============================] - 0s 113ms/step - loss: 4.1415 - val_loss: 3.8026\n",
      "Epoch 13/100\n",
      "3/3 [==============================] - 0s 114ms/step - loss: 3.9764 - val_loss: 3.9348\n",
      "Epoch 14/100\n",
      "3/3 [==============================] - 0s 98ms/step - loss: 3.8925 - val_loss: 3.5043\n",
      "Epoch 15/100\n",
      "3/3 [==============================] - 0s 70ms/step - loss: 3.7938 - val_loss: 3.1326\n",
      "Epoch 16/100\n",
      "3/3 [==============================] - 0s 88ms/step - loss: 3.7460 - val_loss: 2.9498\n",
      "Epoch 17/100\n",
      "3/3 [==============================] - 0s 131ms/step - loss: 3.4981 - val_loss: 3.7140\n",
      "Epoch 18/100\n",
      "3/3 [==============================] - 0s 129ms/step - loss: 3.2728 - val_loss: 3.1219\n",
      "Epoch 19/100\n",
      "3/3 [==============================] - 0s 91ms/step - loss: 3.1641 - val_loss: 3.4970\n",
      "Epoch 20/100\n",
      "3/3 [==============================] - 0s 125ms/step - loss: 3.0904 - val_loss: 3.2971\n",
      "Epoch 21/100\n",
      "3/3 [==============================] - 0s 106ms/step - loss: 2.8502 - val_loss: 4.8160\n",
      "Epoch 22/100\n",
      "3/3 [==============================] - 0s 123ms/step - loss: 3.4654 - val_loss: 3.4588\n",
      "Epoch 23/100\n",
      "3/3 [==============================] - 0s 121ms/step - loss: 4.1635 - val_loss: 4.4730\n",
      "Epoch 24/100\n",
      "3/3 [==============================] - 0s 108ms/step - loss: 3.4709 - val_loss: 5.4271\n",
      "Epoch 25/100\n",
      "3/3 [==============================] - 0s 127ms/step - loss: 4.5362 - val_loss: 4.2747\n",
      "Epoch 26/100\n",
      "3/3 [==============================] - 0s 133ms/step - loss: 3.8654 - val_loss: 4.1167\n",
      "Epoch 27/100\n",
      "3/3 [==============================] - 0s 119ms/step - loss: 3.6909 - val_loss: 3.9680\n",
      "Epoch 28/100\n",
      "3/3 [==============================] - ETA: 0s - loss: 3.680 - 0s 134ms/step - loss: 3.6808 - val_loss: 3.9247\n",
      "Epoch 29/100\n",
      "3/3 [==============================] - 0s 141ms/step - loss: 3.4976 - val_loss: 3.9382\n",
      "Epoch 30/100\n",
      "3/3 [==============================] - 0s 128ms/step - loss: 3.5922 - val_loss: 3.0440\n",
      "Epoch 31/100\n",
      "3/3 [==============================] - 0s 118ms/step - loss: 3.4843 - val_loss: 4.5514\n",
      "Epoch 32/100\n",
      "3/3 [==============================] - 0s 108ms/step - loss: 3.9889 - val_loss: 5.7806\n",
      "Epoch 33/100\n",
      "3/3 [==============================] - 0s 109ms/step - loss: 3.9579 - val_loss: 3.2097\n",
      "Epoch 34/100\n",
      "3/3 [==============================] - 0s 129ms/step - loss: 3.4748 - val_loss: 3.9337\n",
      "Epoch 35/100\n",
      "3/3 [==============================] - 0s 110ms/step - loss: 3.3415 - val_loss: 4.2320\n",
      "Epoch 36/100\n",
      "3/3 [==============================] - 0s 131ms/step - loss: 3.2175 - val_loss: 4.2846\n",
      "Epoch 37/100\n",
      "3/3 [==============================] - 0s 84ms/step - loss: 3.1710 - val_loss: 4.4787\n",
      "Epoch 38/100\n",
      "3/3 [==============================] - 0s 95ms/step - loss: 2.9076 - val_loss: 3.9760\n",
      "Epoch 39/100\n",
      "3/3 [==============================] - 0s 73ms/step - loss: 2.7299 - val_loss: 3.8642\n",
      "Epoch 40/100\n",
      "3/3 [==============================] - 0s 64ms/step - loss: 3.1988 - val_loss: 4.3049\n",
      "Epoch 41/100\n",
      "3/3 [==============================] - 0s 61ms/step - loss: 3.2201 - val_loss: 4.5249\n",
      "Epoch 42/100\n",
      "3/3 [==============================] - 0s 80ms/step - loss: 3.0943 - val_loss: 3.7126\n",
      "Epoch 43/100\n",
      "3/3 [==============================] - 0s 121ms/step - loss: 2.8569 - val_loss: 3.6000\n",
      "Epoch 44/100\n",
      "3/3 [==============================] - 0s 103ms/step - loss: 2.9114 - val_loss: 3.4917\n",
      "Epoch 45/100\n",
      "3/3 [==============================] - 0s 115ms/step - loss: 2.6429 - val_loss: 3.9670\n",
      "Epoch 46/100\n",
      "3/3 [==============================] - 0s 104ms/step - loss: 2.8632 - val_loss: 3.1604\n",
      "Epoch 47/100\n",
      "3/3 [==============================] - 0s 112ms/step - loss: 2.6887 - val_loss: 3.9175\n",
      "Epoch 48/100\n",
      "3/3 [==============================] - 0s 104ms/step - loss: 3.6141 - val_loss: 2.9733\n",
      "Epoch 49/100\n",
      "3/3 [==============================] - 0s 136ms/step - loss: 3.4085 - val_loss: 2.9340\n",
      "Epoch 50/100\n",
      "3/3 [==============================] - 0s 103ms/step - loss: 3.1966 - val_loss: 3.8407\n",
      "Epoch 51/100\n",
      "3/3 [==============================] - 0s 113ms/step - loss: 3.3854 - val_loss: 3.5292\n",
      "Epoch 52/100\n",
      "3/3 [==============================] - 0s 118ms/step - loss: 3.2557 - val_loss: 3.3743\n",
      "Epoch 53/100\n",
      "3/3 [==============================] - 0s 102ms/step - loss: 2.7852 - val_loss: 3.4012\n",
      "Epoch 54/100\n",
      "3/3 [==============================] - 0s 103ms/step - loss: 3.1453 - val_loss: 3.0973\n",
      "Epoch 55/100\n",
      "3/3 [==============================] - 0s 114ms/step - loss: 3.1683 - val_loss: 3.0701\n",
      "Epoch 56/100\n",
      "3/3 [==============================] - 0s 104ms/step - loss: 3.0630 - val_loss: 2.8233\n",
      "Epoch 57/100\n",
      "3/3 [==============================] - 0s 132ms/step - loss: 3.1146 - val_loss: 3.7557\n",
      "Epoch 58/100\n",
      "3/3 [==============================] - 0s 109ms/step - loss: 3.1464 - val_loss: 3.1015\n",
      "Epoch 59/100\n",
      "3/3 [==============================] - 0s 86ms/step - loss: 3.0014 - val_loss: 2.8329\n",
      "Epoch 60/100\n",
      "3/3 [==============================] - 0s 88ms/step - loss: 2.8851 - val_loss: 3.3433\n",
      "Epoch 61/100\n",
      "3/3 [==============================] - 0s 81ms/step - loss: 2.8907 - val_loss: 3.0622\n",
      "Epoch 62/100\n",
      "3/3 [==============================] - 0s 68ms/step - loss: 2.8516 - val_loss: 2.8897\n",
      "Epoch 63/100\n",
      "3/3 [==============================] - 0s 68ms/step - loss: 2.7550 - val_loss: 3.6426\n",
      "Epoch 64/100\n",
      "3/3 [==============================] - 0s 93ms/step - loss: 2.8729 - val_loss: 3.2540\n",
      "Epoch 65/100\n",
      "3/3 [==============================] - 0s 73ms/step - loss: 2.7611 - val_loss: 2.9337\n",
      "Epoch 66/100\n",
      "3/3 [==============================] - 0s 98ms/step - loss: 2.7263 - val_loss: 3.0536\n",
      "Epoch 67/100\n",
      "3/3 [==============================] - 0s 78ms/step - loss: 2.6752 - val_loss: 3.8057\n",
      "Epoch 68/100\n",
      "3/3 [==============================] - 0s 86ms/step - loss: 3.2200 - val_loss: 2.9890\n",
      "Epoch 69/100\n",
      "3/3 [==============================] - 0s 105ms/step - loss: 2.8458 - val_loss: 2.8421\n",
      "Epoch 70/100\n",
      "3/3 [==============================] - 0s 119ms/step - loss: 2.5699 - val_loss: 2.9251\n",
      "Epoch 71/100\n",
      "3/3 [==============================] - 0s 115ms/step - loss: 2.7465 - val_loss: 2.8741\n",
      "Epoch 72/100\n",
      "3/3 [==============================] - 0s 103ms/step - loss: 2.5439 - val_loss: 2.3568\n",
      "Epoch 73/100\n",
      "3/3 [==============================] - 0s 114ms/step - loss: 2.4654 - val_loss: 2.9499\n",
      "Epoch 74/100\n",
      "3/3 [==============================] - 0s 90ms/step - loss: 2.5764 - val_loss: 2.8699\n",
      "Epoch 75/100\n",
      "3/3 [==============================] - 0s 119ms/step - loss: 2.6179 - val_loss: 2.8223\n",
      "Epoch 76/100\n",
      "3/3 [==============================] - 0s 59ms/step - loss: 2.4660 - val_loss: 2.2587\n",
      "Epoch 77/100\n",
      "3/3 [==============================] - 0s 102ms/step - loss: 2.5072 - val_loss: 2.8127\n",
      "Epoch 78/100\n",
      "3/3 [==============================] - 0s 101ms/step - loss: 2.6692 - val_loss: 3.3401\n",
      "Epoch 79/100\n",
      "3/3 [==============================] - 0s 123ms/step - loss: 2.8938 - val_loss: 3.0530\n",
      "Epoch 80/100\n"
     ]
    },
    {
     "name": "stdout",
     "output_type": "stream",
     "text": [
      "3/3 [==============================] - 0s 76ms/step - loss: 2.6425 - val_loss: 2.4185\n",
      "Epoch 81/100\n",
      "3/3 [==============================] - 0s 122ms/step - loss: 2.7249 - val_loss: 2.9488\n",
      "Epoch 82/100\n",
      "3/3 [==============================] - 0s 92ms/step - loss: 2.6003 - val_loss: 2.5893\n",
      "Epoch 83/100\n",
      "3/3 [==============================] - 0s 116ms/step - loss: 2.6891 - val_loss: 2.9029\n",
      "Epoch 84/100\n",
      "3/3 [==============================] - 0s 90ms/step - loss: 2.6875 - val_loss: 3.0086\n",
      "Epoch 85/100\n",
      "3/3 [==============================] - 0s 119ms/step - loss: 2.6351 - val_loss: 3.4087\n",
      "Epoch 86/100\n",
      "3/3 [==============================] - 0s 86ms/step - loss: 2.5627 - val_loss: 3.6815\n",
      "Epoch 87/100\n",
      "3/3 [==============================] - 0s 109ms/step - loss: 2.6971 - val_loss: 3.2078\n",
      "Epoch 88/100\n",
      "3/3 [==============================] - 0s 127ms/step - loss: 2.5072 - val_loss: 2.7686\n",
      "Epoch 89/100\n",
      "3/3 [==============================] - 0s 104ms/step - loss: 2.3283 - val_loss: 2.5161\n",
      "Epoch 90/100\n",
      "3/3 [==============================] - 0s 110ms/step - loss: 2.4866 - val_loss: 2.6271\n",
      "Epoch 91/100\n",
      "3/3 [==============================] - 0s 114ms/step - loss: 2.4142 - val_loss: 2.7605\n",
      "Epoch 92/100\n",
      "3/3 [==============================] - 0s 133ms/step - loss: 2.6172 - val_loss: 3.8720\n",
      "Epoch 93/100\n",
      "3/3 [==============================] - 0s 131ms/step - loss: 2.8732 - val_loss: 2.8464\n",
      "Epoch 94/100\n",
      "3/3 [==============================] - 0s 114ms/step - loss: 3.2654 - val_loss: 3.4017\n",
      "Epoch 95/100\n",
      "3/3 [==============================] - 0s 119ms/step - loss: 3.3966 - val_loss: 4.4387\n",
      "Epoch 96/100\n",
      "3/3 [==============================] - 0s 121ms/step - loss: 2.9829 - val_loss: 3.0321\n",
      "Epoch 97/100\n",
      "3/3 [==============================] - 0s 123ms/step - loss: 2.9891 - val_loss: 2.7834\n",
      "Epoch 98/100\n",
      "3/3 [==============================] - 0s 118ms/step - loss: 2.7741 - val_loss: 3.1958\n",
      "Epoch 99/100\n",
      "3/3 [==============================] - 0s 132ms/step - loss: 2.7891 - val_loss: 2.4522\n",
      "Epoch 100/100\n",
      "3/3 [==============================] - 0s 113ms/step - loss: 2.8760 - val_loss: 2.9959\n"
     ]
    }
   ],
   "source": [
    "history = model.fit(X_train, y_train_grid_offset, epochs=100,\n",
    "                    validation_data=(X_valid, y_valid_grid_offset))"
   ]
  },
  {
   "cell_type": "code",
   "execution_count": 42,
   "id": "7ba1fe76",
   "metadata": {},
   "outputs": [
    {
     "data": {
      "image/png": "[encoded data removed]",
      "text/plain": [
       "<Figure size 576x360 with 1 Axes>"
      ]
     },
     "metadata": {
      "needs_background": "light"
     },
     "output_type": "display_data"
    }
   ],
   "source": [
    "import pandas as pd\n",
    "\n",
    "pd.DataFrame(history.history).plot(figsize=(8, 5))\n",
    "plt.grid(True)\n",
    "# plt.gca().set_ylim(0, 1)\n",
    "plt.show()"
   ]
  },
  {
   "cell_type": "code",
   "execution_count": 43,
   "id": "47db8336",
   "metadata": {},
   "outputs": [
    {
     "name": "stdout",
     "output_type": "stream",
     "text": [
      "X.shape = (None, 1)\n",
      "gauss_grid.shape = (None, 5)\n",
      "(100,)\n",
      "(100,)\n"
     ]
    },
    {
     "data": {
      "image/png": "[encoded data removed]",
      "text/plain": [
       "<Figure size 432x288 with 1 Axes>"
      ]
     },
     "metadata": {
      "needs_background": "light"
     },
     "output_type": "display_data"
    }
   ],
   "source": [
    "plt.plot(X_train, y_train, \"b.\")\n",
    "draw_func((lambda X: n2go.inv_convert(model.predict(X)) ), mark='r-', linewidth=2, label=\"Predictions\")\n",
    "draw_normal_func(func_dict)\n",
    "plt.xlabel(\"$x_1$\", fontsize=18)\n",
    "plt.ylabel(\"$y$\", rotation=0, fontsize=18)\n",
    "plt.legend(loc=\"upper left\", fontsize=14)\n",
    "# plt.axis([-3, 3, 0, 10])\n",
    "plt.show()"
   ]
  },
  {
   "cell_type": "code",
   "execution_count": null,
   "id": "b5e29183",
   "metadata": {},
   "outputs": [],
   "source": []
  },
  {
   "cell_type": "markdown",
   "id": "caedd97c",
   "metadata": {},
   "source": [
    "# Parametric Uncertainty/Distribution Estimation\n",
    "\n",
    "In this section, we try to estimate uncertainty (actually, fit the dataset distribution) with parametric reprecentation of a distribution instead of a discretized non-parametric representation.\n",
    "\n",
    "Possible solution includes\n",
    "- Quantile estimation with pinball loss (statistic)\n",
    "- Guassian distribution (fit a prabability distribution)"
   ]
  },
  {
   "cell_type": "markdown",
   "id": "7088d328",
   "metadata": {},
   "source": [
    "## Quantile Estimation with Pinball Loss (grid --> parameters)\n",
    "\n",
    "Quantile estimation and pinball loss is based on the concept of statistic, which predict the value based on the rank of samples in the dataset.\n",
    "\n",
    "The outputs of the model are $(y_{10}, y_{90})$, 10% quantile prediction and 90% quantile prediction, respectively."
   ]
  },
  {
   "cell_type": "code",
   "execution_count": 57,
   "id": "5704185a",
   "metadata": {},
   "outputs": [],
   "source": [
    "# quantile_list = [0.5]\n",
    "quantile_list = [0.1, 0.9]\n",
    "# quantile_list = [0.25, 0.75]\n",
    "# quantile_list = [0.1, 0.5, 0.9]\n",
    "# quantile_list = [0.1, 0.3, 0.7, 0.9]\n",
    "# quantile_list = [0.1, 0.2, 0.3, 0.4, 0.5, 0.6, 0.7, 0.8, 0.9]\n",
    "num_quantile = len(quantile_list)"
   ]
  },
  {
   "cell_type": "code",
   "execution_count": 70,
   "id": "8e3fe57b",
   "metadata": {},
   "outputs": [
    {
     "name": "stdout",
     "output_type": "stream",
     "text": [
      "X.shape = (None, 1)\n",
      "gauss_grid.shape = (None, 5)\n"
     ]
    }
   ],
   "source": [
    "model = keras.models.Sequential([\n",
    "    num2grid(5,x_min=-10, x_max=10, sigma=3.0, input_shape=X_train.shape[1:]),\n",
    "#     keras.layers.Dense(30, activation=keras.layers.LeakyReLU(alpha=0.2) ),\n",
    "    keras.layers.Dense(30, activation=\"relu\"),\n",
    "#     keras.layers.Dense(30, activation=\"selu\"),\n",
    "    keras.layers.Dense(num_quantile) # (y10, y90)\n",
    "])"
   ]
  },
  {
   "cell_type": "code",
   "execution_count": 71,
   "id": "26529c0d",
   "metadata": {},
   "outputs": [],
   "source": [
    "# Customized loss function\n",
    "def pinballLoss_fn(y_true, y_pred, tau):\n",
    "    # tau: quantile, tau in [0.0, 1.0]\n",
    "    # y_true: label mean\n",
    "    # y_pred: predicted tau quantile\n",
    "    _q = y_true - y_pred\n",
    "    return tf.math.maximum( (tau*_q), ((tau-1.0)*_q))\n",
    "    \n",
    "def pinballLoss_10_90_fn(y_true, y_pred):\n",
    "    #\n",
    "    return pinballLoss_fn(y_true, y_pred[:,0:1], 0.1) + pinballLoss_fn(y_true, y_pred[:,1:2], 0.9)\n",
    "\n",
    "def pinballLoss_full_fn(y_true, y_pred):\n",
    "    #\n",
    "    pinball_losses = tf.stack( [pinballLoss_fn(y_true, y_pred[:, _i:(_i+1)], _tau) for _i, _tau in enumerate(quantile_list)], axis=1)\n",
    "    return tf.reduce_sum(pinball_losses, axis=1)"
   ]
  },
  {
   "cell_type": "code",
   "execution_count": 72,
   "id": "a71305d5",
   "metadata": {},
   "outputs": [
    {
     "name": "stderr",
     "output_type": "stream",
     "text": [
      "/home/benson516/ml/my_env/lib/python3.6/site-packages/keras/optimizer_v2/optimizer_v2.py:356: UserWarning: The `lr` argument is deprecated, use `learning_rate` instead.\n",
      "  \"The `lr` argument is deprecated, use `learning_rate` instead.\")\n"
     ]
    }
   ],
   "source": [
    "optimizer = keras.optimizers.SGD(lr=0.1, momentum=0.9)\n",
    "# model.compile(loss=pinballLoss_10_90_fn, optimizer=optimizer)\n",
    "model.compile(loss=pinballLoss_full_fn, optimizer=optimizer)"
   ]
  },
  {
   "cell_type": "code",
   "execution_count": 73,
   "id": "d935c409",
   "metadata": {
    "scrolled": true
   },
   "outputs": [
    {
     "name": "stdout",
     "output_type": "stream",
     "text": [
      "Epoch 1/100\n",
      "X.shape = (None, 1)\n",
      "gauss_grid.shape = (None, 5)\n",
      "X.shape = (None, 1)\n",
      "gauss_grid.shape = (None, 5)\n",
      "1/3 [=========>....................] - ETA: 2s - loss: 17.3808X.shape = (None, 1)\n",
      "gauss_grid.shape = (None, 5)\n",
      "3/3 [==============================] - 2s 357ms/step - loss: 18.8580 - val_loss: 19.7736\n",
      "Epoch 2/100\n",
      "3/3 [==============================] - 0s 103ms/step - loss: 17.8917 - val_loss: 17.3840\n",
      "Epoch 3/100\n",
      "3/3 [==============================] - 0s 122ms/step - loss: 15.3006 - val_loss: 10.8950\n",
      "Epoch 4/100\n",
      "3/3 [==============================] - 0s 79ms/step - loss: 9.4814 - val_loss: 5.0693\n",
      "Epoch 5/100\n",
      "3/3 [==============================] - 0s 83ms/step - loss: 6.5373 - val_loss: 8.1055\n",
      "Epoch 6/100\n",
      "3/3 [==============================] - 0s 93ms/step - loss: 8.8629 - val_loss: 9.7925\n",
      "Epoch 7/100\n",
      "3/3 [==============================] - 0s 69ms/step - loss: 9.8292 - val_loss: 9.1732\n",
      "Epoch 8/100\n",
      "3/3 [==============================] - 0s 64ms/step - loss: 8.9294 - val_loss: 7.4538\n",
      "Epoch 9/100\n",
      "3/3 [==============================] - 0s 55ms/step - loss: 6.8032 - val_loss: 5.0859\n",
      "Epoch 10/100\n",
      "3/3 [==============================] - 0s 78ms/step - loss: 4.8012 - val_loss: 5.1030\n",
      "Epoch 11/100\n",
      "3/3 [==============================] - ETA: 0s - loss: 7.070 - 0s 89ms/step - loss: 6.8752 - val_loss: 5.5555\n",
      "Epoch 12/100\n",
      "3/3 [==============================] - 0s 72ms/step - loss: 7.1035 - val_loss: 4.1865\n",
      "Epoch 13/100\n",
      "3/3 [==============================] - 0s 49ms/step - loss: 5.2502 - val_loss: 4.8234\n",
      "Epoch 14/100\n",
      "3/3 [==============================] - 0s 65ms/step - loss: 5.4145 - val_loss: 5.4764\n",
      "Epoch 15/100\n",
      "3/3 [==============================] - 0s 70ms/step - loss: 5.6469 - val_loss: 5.1084\n",
      "Epoch 16/100\n",
      "3/3 [==============================] - 0s 60ms/step - loss: 5.1799 - val_loss: 4.2605\n",
      "Epoch 17/100\n",
      "3/3 [==============================] - 0s 61ms/step - loss: 4.5463 - val_loss: 3.9690\n",
      "Epoch 18/100\n",
      "3/3 [==============================] - 0s 57ms/step - loss: 4.8320 - val_loss: 3.8823\n",
      "Epoch 19/100\n",
      "3/3 [==============================] - 0s 54ms/step - loss: 4.3905 - val_loss: 4.3971\n",
      "Epoch 20/100\n",
      "3/3 [==============================] - 0s 58ms/step - loss: 4.5709 - val_loss: 4.5139\n",
      "Epoch 21/100\n",
      "3/3 [==============================] - 0s 61ms/step - loss: 4.5413 - val_loss: 4.1043\n",
      "Epoch 22/100\n",
      "3/3 [==============================] - 0s 58ms/step - loss: 4.2972 - val_loss: 4.0351\n",
      "Epoch 23/100\n",
      "3/3 [==============================] - 0s 55ms/step - loss: 4.4526 - val_loss: 3.8336\n",
      "Epoch 24/100\n",
      "3/3 [==============================] - 0s 53ms/step - loss: 4.2155 - val_loss: 3.8582\n",
      "Epoch 25/100\n",
      "3/3 [==============================] - 0s 55ms/step - loss: 4.1800 - val_loss: 3.6430\n",
      "Epoch 26/100\n",
      "3/3 [==============================] - 0s 46ms/step - loss: 4.1238 - val_loss: 3.5733\n",
      "Epoch 27/100\n",
      "3/3 [==============================] - 0s 82ms/step - loss: 4.1274 - val_loss: 3.5807\n",
      "Epoch 28/100\n",
      "3/3 [==============================] - 0s 85ms/step - loss: 4.1142 - val_loss: 3.5659\n",
      "Epoch 29/100\n",
      "3/3 [==============================] - 0s 68ms/step - loss: 4.0690 - val_loss: 3.7727\n",
      "Epoch 30/100\n",
      "3/3 [==============================] - 0s 101ms/step - loss: 4.0788 - val_loss: 3.9236\n",
      "Epoch 31/100\n",
      "3/3 [==============================] - 0s 74ms/step - loss: 4.1167 - val_loss: 3.8066\n",
      "Epoch 32/100\n",
      "3/3 [==============================] - 0s 70ms/step - loss: 4.0440 - val_loss: 4.0195\n",
      "Epoch 33/100\n",
      "3/3 [==============================] - 0s 59ms/step - loss: 4.0832 - val_loss: 3.8722\n",
      "Epoch 34/100\n",
      "3/3 [==============================] - 0s 90ms/step - loss: 4.0424 - val_loss: 3.9267\n",
      "Epoch 35/100\n",
      "3/3 [==============================] - 0s 81ms/step - loss: 4.0400 - val_loss: 3.7014\n",
      "Epoch 36/100\n",
      "3/3 [==============================] - 0s 56ms/step - loss: 3.9711 - val_loss: 3.6361\n",
      "Epoch 37/100\n",
      "3/3 [==============================] - 0s 73ms/step - loss: 3.9679 - val_loss: 3.4124\n",
      "Epoch 38/100\n",
      "3/3 [==============================] - 0s 70ms/step - loss: 3.9641 - val_loss: 3.2598\n",
      "Epoch 39/100\n",
      "3/3 [==============================] - 0s 55ms/step - loss: 4.0197 - val_loss: 3.2413\n",
      "Epoch 40/100\n",
      "3/3 [==============================] - 0s 57ms/step - loss: 3.9983 - val_loss: 3.3190\n",
      "Epoch 41/100\n",
      "3/3 [==============================] - 0s 58ms/step - loss: 3.8939 - val_loss: 3.5481\n",
      "Epoch 42/100\n",
      "3/3 [==============================] - 0s 70ms/step - loss: 3.9313 - val_loss: 3.7333\n",
      "Epoch 43/100\n",
      "3/3 [==============================] - 0s 81ms/step - loss: 3.9075 - val_loss: 3.8593\n",
      "Epoch 44/100\n",
      "3/3 [==============================] - 0s 68ms/step - loss: 3.8987 - val_loss: 3.6243\n",
      "Epoch 45/100\n",
      "3/3 [==============================] - 0s 67ms/step - loss: 3.9336 - val_loss: 3.8001\n",
      "Epoch 46/100\n",
      "3/3 [==============================] - 0s 72ms/step - loss: 3.9244 - val_loss: 3.4982\n",
      "Epoch 47/100\n",
      "3/3 [==============================] - 0s 96ms/step - loss: 3.9289 - val_loss: 3.6674\n",
      "Epoch 48/100\n",
      "3/3 [==============================] - 0s 88ms/step - loss: 3.9078 - val_loss: 3.4274\n",
      "Epoch 49/100\n",
      "3/3 [==============================] - 0s 78ms/step - loss: 3.7840 - val_loss: 3.5501\n",
      "Epoch 50/100\n",
      "3/3 [==============================] - 0s 91ms/step - loss: 3.8104 - val_loss: 3.3234\n",
      "Epoch 51/100\n",
      "3/3 [==============================] - 0s 64ms/step - loss: 3.7584 - val_loss: 3.5861\n",
      "Epoch 52/100\n",
      "3/3 [==============================] - 0s 56ms/step - loss: 3.7573 - val_loss: 3.4336\n",
      "Epoch 53/100\n",
      "3/3 [==============================] - 0s 63ms/step - loss: 3.8050 - val_loss: 3.4982\n",
      "Epoch 54/100\n",
      "3/3 [==============================] - 0s 55ms/step - loss: 3.6771 - val_loss: 3.5328\n",
      "Epoch 55/100\n",
      "3/3 [==============================] - 0s 48ms/step - loss: 3.6613 - val_loss: 3.3625\n",
      "Epoch 56/100\n",
      "3/3 [==============================] - 0s 56ms/step - loss: 3.6281 - val_loss: 3.4891\n",
      "Epoch 57/100\n",
      "3/3 [==============================] - 0s 53ms/step - loss: 3.6576 - val_loss: 3.2753\n",
      "Epoch 58/100\n",
      "3/3 [==============================] - 0s 66ms/step - loss: 3.5825 - val_loss: 3.3864\n",
      "Epoch 59/100\n",
      "3/3 [==============================] - 0s 60ms/step - loss: 3.5516 - val_loss: 3.4264\n",
      "Epoch 60/100\n",
      "3/3 [==============================] - 0s 77ms/step - loss: 3.5708 - val_loss: 3.4293\n",
      "Epoch 61/100\n",
      "3/3 [==============================] - 0s 85ms/step - loss: 3.4865 - val_loss: 3.5305\n",
      "Epoch 62/100\n",
      "3/3 [==============================] - 0s 60ms/step - loss: 3.4656 - val_loss: 3.3864\n",
      "Epoch 63/100\n",
      "3/3 [==============================] - 0s 83ms/step - loss: 3.4466 - val_loss: 3.2845\n",
      "Epoch 64/100\n",
      "3/3 [==============================] - 0s 69ms/step - loss: 3.3971 - val_loss: 3.3164\n",
      "Epoch 65/100\n",
      "3/3 [==============================] - 0s 72ms/step - loss: 3.4728 - val_loss: 3.1939\n",
      "Epoch 66/100\n",
      "3/3 [==============================] - 0s 73ms/step - loss: 3.4029 - val_loss: 3.1195\n",
      "Epoch 67/100\n",
      "3/3 [==============================] - 0s 60ms/step - loss: 3.3329 - val_loss: 3.2163\n",
      "Epoch 68/100\n",
      "3/3 [==============================] - 0s 64ms/step - loss: 3.3665 - val_loss: 3.2745\n",
      "Epoch 69/100\n",
      "3/3 [==============================] - 0s 62ms/step - loss: 3.3665 - val_loss: 3.1936\n",
      "Epoch 70/100\n",
      "3/3 [==============================] - 0s 62ms/step - loss: 3.3952 - val_loss: 3.0485\n",
      "Epoch 71/100\n",
      "3/3 [==============================] - 0s 57ms/step - loss: 3.2584 - val_loss: 3.0835\n",
      "Epoch 72/100\n",
      "3/3 [==============================] - 0s 56ms/step - loss: 3.1875 - val_loss: 3.2800\n",
      "Epoch 73/100\n",
      "3/3 [==============================] - 0s 61ms/step - loss: 3.3670 - val_loss: 2.9646\n",
      "Epoch 74/100\n",
      "3/3 [==============================] - 0s 90ms/step - loss: 3.1604 - val_loss: 3.0522\n",
      "Epoch 75/100\n",
      "3/3 [==============================] - 0s 77ms/step - loss: 3.0784 - val_loss: 3.2069\n",
      "Epoch 76/100\n",
      "3/3 [==============================] - 0s 72ms/step - loss: 3.2794 - val_loss: 3.2374\n",
      "Epoch 77/100\n",
      "3/3 [==============================] - 0s 55ms/step - loss: 3.2710 - val_loss: 3.4489\n",
      "Epoch 78/100\n",
      "3/3 [==============================] - 0s 67ms/step - loss: 3.3711 - val_loss: 3.0854\n",
      "Epoch 79/100\n",
      "3/3 [==============================] - 0s 90ms/step - loss: 3.0174 - val_loss: 3.2086\n",
      "Epoch 80/100\n",
      "3/3 [==============================] - 0s 61ms/step - loss: 3.2802 - val_loss: 2.9723\n",
      "Epoch 81/100\n"
     ]
    },
    {
     "name": "stdout",
     "output_type": "stream",
     "text": [
      "3/3 [==============================] - 0s 59ms/step - loss: 3.0797 - val_loss: 3.0678\n",
      "Epoch 82/100\n",
      "3/3 [==============================] - 0s 67ms/step - loss: 3.0420 - val_loss: 2.9114\n",
      "Epoch 83/100\n",
      "3/3 [==============================] - ETA: 0s - loss: 2.979 - 0s 86ms/step - loss: 2.9797 - val_loss: 2.7185\n",
      "Epoch 84/100\n",
      "3/3 [==============================] - 0s 91ms/step - loss: 2.8956 - val_loss: 2.7026\n",
      "Epoch 85/100\n",
      "3/3 [==============================] - 0s 55ms/step - loss: 2.7774 - val_loss: 2.6988\n",
      "Epoch 86/100\n",
      "3/3 [==============================] - 0s 81ms/step - loss: 2.7930 - val_loss: 2.8580\n",
      "Epoch 87/100\n",
      "3/3 [==============================] - 0s 56ms/step - loss: 2.8644 - val_loss: 2.9906\n",
      "Epoch 88/100\n",
      "3/3 [==============================] - 0s 58ms/step - loss: 2.8322 - val_loss: 2.7613\n",
      "Epoch 89/100\n",
      "3/3 [==============================] - 0s 50ms/step - loss: 2.8206 - val_loss: 2.5723\n",
      "Epoch 90/100\n",
      "3/3 [==============================] - 0s 49ms/step - loss: 2.7492 - val_loss: 2.8595\n",
      "Epoch 91/100\n",
      "3/3 [==============================] - 0s 54ms/step - loss: 2.7455 - val_loss: 2.9145\n",
      "Epoch 92/100\n",
      "3/3 [==============================] - 0s 59ms/step - loss: 2.7870 - val_loss: 2.8145\n",
      "Epoch 93/100\n",
      "3/3 [==============================] - 0s 109ms/step - loss: 2.7185 - val_loss: 2.7019\n",
      "Epoch 94/100\n",
      "3/3 [==============================] - 0s 110ms/step - loss: 2.8262 - val_loss: 2.7920\n",
      "Epoch 95/100\n",
      "3/3 [==============================] - 0s 93ms/step - loss: 2.8788 - val_loss: 2.6788\n",
      "Epoch 96/100\n",
      "3/3 [==============================] - 0s 68ms/step - loss: 2.6974 - val_loss: 2.8301\n",
      "Epoch 97/100\n",
      "3/3 [==============================] - 0s 83ms/step - loss: 2.6716 - val_loss: 2.6826\n",
      "Epoch 98/100\n",
      "3/3 [==============================] - 0s 120ms/step - loss: 2.7674 - val_loss: 2.8628\n",
      "Epoch 99/100\n",
      "3/3 [==============================] - 0s 98ms/step - loss: 2.8469 - val_loss: 2.7360\n",
      "Epoch 100/100\n",
      "3/3 [==============================] - 0s 58ms/step - loss: 2.7384 - val_loss: 3.0925\n"
     ]
    }
   ],
   "source": [
    "history = model.fit(X_train, y_train, epochs=100,\n",
    "                    validation_data=(X_valid, y_valid))"
   ]
  },
  {
   "cell_type": "code",
   "execution_count": 74,
   "id": "e7fa5656",
   "metadata": {},
   "outputs": [
    {
     "data": {
      "image/png": "[encoded data removed]",
      "text/plain": [
       "<Figure size 576x360 with 1 Axes>"
      ]
     },
     "metadata": {
      "needs_background": "light"
     },
     "output_type": "display_data"
    }
   ],
   "source": [
    "import pandas as pd\n",
    "\n",
    "pd.DataFrame(history.history).plot(figsize=(8, 5))\n",
    "plt.grid(True)\n",
    "# plt.gca().set_ylim(0, 1)\n",
    "plt.show()"
   ]
  },
  {
   "cell_type": "code",
   "execution_count": 75,
   "id": "42eeb254",
   "metadata": {},
   "outputs": [
    {
     "name": "stdout",
     "output_type": "stream",
     "text": [
      "X.shape = (None, 1)\n",
      "gauss_grid.shape = (None, 5)\n"
     ]
    },
    {
     "data": {
      "image/png": "[encoded data removed]",
      "text/plain": [
       "<Figure size 432x288 with 1 Axes>"
      ]
     },
     "metadata": {
      "needs_background": "light"
     },
     "output_type": "display_data"
    }
   ],
   "source": [
    "plt.plot(X_train, y_train, \"b.\")\n",
    "draw_func((lambda X: np.average(model.predict(X), axis=-1) ), mark='r-', linewidth=2, label=\"Predictions\")\n",
    "draw_func((lambda X: model.predict(X)[:,0] ), mark='k--', linewidth=1, label=\"$y_{%d}$\" % (quantile_list[0]*100))\n",
    "draw_func((lambda X: model.predict(X)[:,-1] ), mark='k--', linewidth=1, label=\"$y_{%d}$\" % (quantile_list[-1]*100))\n",
    "draw_normal_func(func_dict)\n",
    "plt.xlabel(\"$x_1$\", fontsize=18)\n",
    "plt.ylabel(\"$y$\", rotation=0, fontsize=18)\n",
    "plt.legend(loc=\"upper left\", fontsize=14)\n",
    "# plt.axis([-3, 3, 0, 10])\n",
    "plt.show()"
   ]
  },
  {
   "cell_type": "code",
   "execution_count": null,
   "id": "f6b44ee6",
   "metadata": {},
   "outputs": [],
   "source": []
  },
  {
   "cell_type": "code",
   "execution_count": null,
   "id": "b216275d",
   "metadata": {},
   "outputs": [],
   "source": []
  },
  {
   "cell_type": "code",
   "execution_count": null,
   "id": "1d4be47e",
   "metadata": {},
   "outputs": [],
   "source": []
  },
  {
   "cell_type": "code",
   "execution_count": null,
   "id": "5f705ca9",
   "metadata": {},
   "outputs": [],
   "source": []
  },
  {
   "cell_type": "code",
   "execution_count": null,
   "id": "8b3759be",
   "metadata": {},
   "outputs": [],
   "source": []
  }
 ],
 "metadata": {
  "kernelspec": {
   "display_name": "Python 3",
   "language": "python",
   "name": "python3"
  },
  "language_info": {
   "codemirror_mode": {
    "name": "ipython",
    "version": 3
   },
   "file_extension": ".py",
   "mimetype": "text/x-python",
   "name": "python",
   "nbconvert_exporter": "python",
   "pygments_lexer": "ipython3",
   "version": "3.6.9"
  }
 },
 "nbformat": 4,
 "nbformat_minor": 5
}
