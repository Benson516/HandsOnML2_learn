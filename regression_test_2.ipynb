{
 "cells": [
  {
   "cell_type": "markdown",
   "id": "899fa113",
   "metadata": {},
   "source": [
    "# Regression with Different Output Format under Various Data Conditions\n",
    "\n",
    "In this experience, we test the following output format for regression task under several different data coditions.\n",
    "- Numerical output\n",
    "- Regression as classification (grid-out)\n",
    "\n",
    "The data coditions include:\n",
    "- Sparse (few data)\n",
    "- Grouped\n",
    "  - Biased (parallel data)\n",
    "  - Completely different mode, uncorrelated data (cross)\n",
    "  - Partially diversed (split)"
   ]
  },
  {
   "cell_type": "code",
   "execution_count": 1,
   "id": "625ce7c3",
   "metadata": {},
   "outputs": [],
   "source": [
    "import numpy as np\n",
    "import tensorflow as tf\n",
    "from tensorflow import keras\n",
    "\n",
    "# To plot pretty figures\n",
    "%matplotlib inline\n",
    "import matplotlib as mpl\n",
    "import matplotlib.pyplot as plt\n",
    "mpl.rc('axes', labelsize=14)\n",
    "mpl.rc('xtick', labelsize=12)\n",
    "mpl.rc('ytick', labelsize=12)"
   ]
  },
  {
   "cell_type": "code",
   "execution_count": 2,
   "id": "94e8a077",
   "metadata": {},
   "outputs": [],
   "source": [
    "def draw_func(func_in, x_min=-5, x_max=5, mark='r--', linewidth=1, label='func'):\n",
    "    n_sample = 100\n",
    "    X_func = np.linspace(x_min, x_max, n_sample).reshape(n_sample, 1)\n",
    "    y_func = func_in(X_func)\n",
    "    plt.plot(X_func, y_func, mark, linewidth=linewidth, label=label)"
   ]
  },
  {
   "cell_type": "markdown",
   "id": "c27ffe35",
   "metadata": {},
   "source": [
    "Generate polynomial data"
   ]
  },
  {
   "cell_type": "code",
   "execution_count": 3,
   "id": "ce670ce4",
   "metadata": {},
   "outputs": [],
   "source": [
    "poly_a1 = 5.0\n",
    "# poly_a1 = -10.0 # 5.0\n",
    "def func_0(X): # Reference\n",
    "    return 0.5 * X**3 + 0.5 * X**2 + (poly_a1)*X + 2\n",
    "def func_1(X): # Variation 1: parellel\n",
    "    return 0.5 * X**3 + 0.5 * X**2 + (poly_a1)*X + 30\n",
    "def func_2(X): # Variation 2: cross\n",
    "    return -0.5 * X**3 + 0.5 * X**2 + (poly_a1)*X + 30\n",
    "def func_3(X): # Variation 3: slightly split\n",
    "    return 0.3 * X**3 + 1.0 * X**2 + (poly_a1)*X + 15 "
   ]
  },
  {
   "cell_type": "code",
   "execution_count": 4,
   "id": "9463bfff",
   "metadata": {},
   "outputs": [],
   "source": [
    "func_dict = dict()\n",
    "func_dict[\"f1\"] = func_0\n",
    "# func_dict[\"f2\"] = func_1\n",
    "# func_dict[\"f2\"] = func_2\n",
    "func_dict[\"f2\"] = func_3\n",
    "\n",
    "# Average line\n",
    "func_dict[\"f_avg\"] = ( lambda X: 0.5*func_dict[\"f1\"](X) + 0.5*func_dict[\"f2\"](X) )"
   ]
  },
  {
   "cell_type": "code",
   "execution_count": 5,
   "id": "9bd2136c",
   "metadata": {},
   "outputs": [],
   "source": [
    "def draw_normal_func(func_dict):\n",
    "    draw_func(func_dict[\"f1\"], mark='c:', label=\"f1\")\n",
    "    draw_func(func_dict[\"f2\"], mark='g:', label=\"f2\")\n",
    "    draw_func(func_dict[\"f_avg\"], mark='m--', label=\"f_avg\")"
   ]
  },
  {
   "cell_type": "code",
   "execution_count": 6,
   "id": "63437d0c",
   "metadata": {},
   "outputs": [
    {
     "name": "stdout",
     "output_type": "stream",
     "text": [
      "(m, m_train) = (100, 80)\n",
      "y_data_pure.shape = (100, 1)\n",
      "y_data.shape = (100, 1)\n"
     ]
    }
   ],
   "source": [
    "np.random.seed(42)\n",
    "m = 100 # 50 # 100 # 200\n",
    "m_train = m // 5 * 4\n",
    "print(\"(m, m_train) = (%d, %d)\" % (m, m_train))\n",
    "\n",
    "# Input\n",
    "is_gapped = True\n",
    "# is_gapped = False\n",
    "#\n",
    "if not is_gapped:\n",
    "    X_data = 10 * np.random.rand(m, 1) - 5 # Note: X is randomly sampled, so we don't need to shuffle the data again\n",
    "else:\n",
    "    X_data = np.concatenate( (np.linspace(-5.0, -2.0, m//2), np.linspace(2.0, 5.0, m-m//2)) )\n",
    "    X_data = X_data.reshape((m,1))\n",
    "    np.random.shuffle(X_data)\n",
    "\n",
    "# Output\n",
    "is_multiout = True\n",
    "# is_multiout = False\n",
    "if is_multiout:\n",
    "    m_h = m // 2\n",
    "    X_data_1 = X_data[:m_h]\n",
    "    X_data_2 = X_data[m_h:]\n",
    "    y_data_pure_1 = func_dict[\"f1\"](X_data_1) \n",
    "    y_data_pure_2 = func_dict[\"f2\"](X_data_2) \n",
    "    y_data_pure = np.vstack([y_data_pure_1, y_data_pure_2])\n",
    "    print(\"y_data_pure.shape = %s\" % str(y_data_pure.shape))\n",
    "else:        \n",
    "    y_data_pure = func_dict[\"f_avg\"](X_data)\n",
    "\n",
    "# Label (+noise)\n",
    "n_stddev = 2.0\n",
    "# n_stddev = 10.0\n",
    "y_data = y_data_pure + np.random.randn(m, 1) * n_stddev\n",
    "print(\"y_data.shape = %s\" % str(y_data.shape))"
   ]
  },
  {
   "cell_type": "code",
   "execution_count": 7,
   "id": "ef588fae",
   "metadata": {},
   "outputs": [],
   "source": [
    "# Method 1: simply slice\n",
    "# X_train = X_data[:m_train]\n",
    "# y_train = y_data[:m_train]\n",
    "# X_valid = X_data[m_train:]\n",
    "# y_valid = y_data[m_train:]\n",
    "\n",
    "# Method 2: shuffle\n",
    "from sklearn.model_selection import train_test_split\n",
    "X_train, X_valid, y_train, y_valid = train_test_split(X_data, y_data, test_size=0.2, random_state=42)"
   ]
  },
  {
   "cell_type": "code",
   "execution_count": 8,
   "id": "3b5d2cfe",
   "metadata": {},
   "outputs": [
    {
     "name": "stdout",
     "output_type": "stream",
     "text": [
      "(80, 1)\n"
     ]
    }
   ],
   "source": [
    "print(X_train.shape)"
   ]
  },
  {
   "cell_type": "code",
   "execution_count": 9,
   "id": "693af3b7",
   "metadata": {},
   "outputs": [
    {
     "data": {
      "image/png": "[encoded data removed]",
      "text/plain": [
       "<Figure size 432x288 with 1 Axes>"
      ]
     },
     "metadata": {
      "needs_background": "light"
     },
     "output_type": "display_data"
    }
   ],
   "source": [
    "plt.plot(X_train, y_train, \"b.\")\n",
    "draw_normal_func(func_dict)\n",
    "plt.xlabel(\"$x_1$\", fontsize=18)\n",
    "plt.ylabel(\"$y$\", rotation=0, fontsize=18)\n",
    "# plt.axis([-3, 3, 0, 10])\n",
    "plt.show()"
   ]
  },
  {
   "cell_type": "code",
   "execution_count": 10,
   "id": "146b9f24",
   "metadata": {},
   "outputs": [],
   "source": [
    "def get_prediction_error(func_in, func_dict, x_min=-5, x_max=5):\n",
    "    n_sample = 100\n",
    "    X_func = np.linspace(x_min, x_max, n_sample).reshape(n_sample, 1)\n",
    "    y_func = func_in(X_func).reshape((n_sample,1))\n",
    "    y_gt = func_dict[\"f_avg\"](X_func).reshape((n_sample,1))\n",
    "    print(\"y_func.shape = %s\" % str(y_func.shape))\n",
    "    print(\"y_gt.shape = %s\" % str(y_gt.shape))\n",
    "#     return np.sqrt(np.square(y_func - y_gt).mean())\n",
    "    return np.abs(y_func - y_gt).mean()"
   ]
  },
  {
   "cell_type": "markdown",
   "id": "053ecc57",
   "metadata": {},
   "source": [
    "# Simple FCs (number --> number)"
   ]
  },
  {
   "cell_type": "markdown",
   "id": "c66eb67b",
   "metadata": {},
   "source": [
    "Build the regression model"
   ]
  },
  {
   "cell_type": "code",
   "execution_count": 11,
   "id": "9449fc0b",
   "metadata": {},
   "outputs": [
    {
     "name": "stderr",
     "output_type": "stream",
     "text": [
      "/home/benson516/ml/my_env/lib/python3.6/site-packages/keras/optimizer_v2/optimizer_v2.py:356: UserWarning: The `lr` argument is deprecated, use `learning_rate` instead.\n",
      "  \"The `lr` argument is deprecated, use `learning_rate` instead.\")\n"
     ]
    }
   ],
   "source": [
    "model = keras.models.Sequential([\n",
    "    keras.layers.Dense(30, activation=\"relu\", input_shape=X_train.shape[1:]),\n",
    "    keras.layers.Dense(30, activation=\"relu\"),\n",
    "    keras.layers.Dense(1)\n",
    "])\n",
    "\n",
    "optimizer = keras.optimizers.SGD(lr=0.0001, momentum=0.9)\n",
    "model.compile(loss=\"mean_squared_error\", optimizer=optimizer)\n",
    "# optimizer = keras.optimizers.Adam(lr=0.01)\n",
    "# model.compile(loss=\"mean_absolute_error\", optimizer=optimizer)"
   ]
  },
  {
   "cell_type": "code",
   "execution_count": 12,
   "id": "92afd68a",
   "metadata": {
    "scrolled": true
   },
   "outputs": [
    {
     "name": "stdout",
     "output_type": "stream",
     "text": [
      "Epoch 1/100\n",
      "3/3 [==============================] - 2s 331ms/step - loss: 2497.4243 - val_loss: 1683.6682\n",
      "Epoch 2/100\n",
      "3/3 [==============================] - 0s 93ms/step - loss: 2398.4587 - val_loss: 1589.5504\n",
      "Epoch 3/100\n",
      "3/3 [==============================] - 0s 106ms/step - loss: 2240.1980 - val_loss: 1417.9824\n",
      "Epoch 4/100\n",
      "3/3 [==============================] - 0s 154ms/step - loss: 1898.5742 - val_loss: 1032.4220\n",
      "Epoch 5/100\n",
      "3/3 [==============================] - 0s 149ms/step - loss: 1112.5286 - val_loss: 409.5425\n",
      "Epoch 6/100\n",
      "3/3 [==============================] - 0s 218ms/step - loss: 414.5599 - val_loss: 788.5177\n",
      "Epoch 7/100\n",
      "3/3 [==============================] - 0s 129ms/step - loss: 920.6876 - val_loss: 202.1076\n",
      "Epoch 8/100\n",
      "3/3 [==============================] - 1s 260ms/step - loss: 265.5617 - val_loss: 324.2780\n",
      "Epoch 9/100\n",
      "3/3 [==============================] - 0s 144ms/step - loss: 523.4937 - val_loss: 304.5903\n",
      "Epoch 10/100\n",
      "3/3 [==============================] - 0s 159ms/step - loss: 383.8461 - val_loss: 173.4619\n",
      "Epoch 11/100\n",
      "3/3 [==============================] - 0s 150ms/step - loss: 245.0865 - val_loss: 273.8302\n",
      "Epoch 12/100\n",
      "3/3 [==============================] - 0s 153ms/step - loss: 317.4676 - val_loss: 186.9979\n",
      "Epoch 13/100\n",
      "3/3 [==============================] - 0s 148ms/step - loss: 211.0105 - val_loss: 210.5777\n",
      "Epoch 14/100\n",
      "3/3 [==============================] - 0s 140ms/step - loss: 253.5536 - val_loss: 198.1366\n",
      "Epoch 15/100\n",
      "3/3 [==============================] - 0s 117ms/step - loss: 212.4124 - val_loss: 185.2454\n",
      "Epoch 16/100\n",
      "3/3 [==============================] - 0s 115ms/step - loss: 207.9599 - val_loss: 189.3889\n",
      "Epoch 17/100\n",
      "3/3 [==============================] - 0s 92ms/step - loss: 215.2017 - val_loss: 166.8044\n",
      "Epoch 18/100\n",
      "3/3 [==============================] - 0s 82ms/step - loss: 207.0746 - val_loss: 171.6750\n",
      "Epoch 19/100\n",
      "3/3 [==============================] - 0s 127ms/step - loss: 211.5156 - val_loss: 174.0547\n",
      "Epoch 20/100\n",
      "3/3 [==============================] - 0s 89ms/step - loss: 193.8358 - val_loss: 183.4211\n",
      "Epoch 21/100\n",
      "3/3 [==============================] - 0s 99ms/step - loss: 206.4122 - val_loss: 182.8889\n",
      "Epoch 22/100\n",
      "3/3 [==============================] - ETA: 0s - loss: 217.915 - 0s 92ms/step - loss: 194.2773 - val_loss: 170.4863\n",
      "Epoch 23/100\n",
      "3/3 [==============================] - 0s 96ms/step - loss: 194.3005 - val_loss: 168.6256\n",
      "Epoch 24/100\n",
      "3/3 [==============================] - 0s 78ms/step - loss: 201.5740 - val_loss: 165.0084\n",
      "Epoch 25/100\n",
      "3/3 [==============================] - 0s 92ms/step - loss: 198.8725 - val_loss: 177.1126\n",
      "Epoch 26/100\n",
      "3/3 [==============================] - 0s 104ms/step - loss: 198.1323 - val_loss: 168.2969\n",
      "Epoch 27/100\n",
      "3/3 [==============================] - ETA: 0s - loss: 160.589 - 0s 95ms/step - loss: 195.0814 - val_loss: 164.2762\n",
      "Epoch 28/100\n",
      "3/3 [==============================] - 0s 87ms/step - loss: 194.9961 - val_loss: 163.8038\n",
      "Epoch 29/100\n",
      "3/3 [==============================] - 0s 89ms/step - loss: 188.3254 - val_loss: 172.2159\n",
      "Epoch 30/100\n",
      "3/3 [==============================] - 0s 107ms/step - loss: 192.5631 - val_loss: 183.7857\n",
      "Epoch 31/100\n",
      "3/3 [==============================] - 0s 132ms/step - loss: 193.7734 - val_loss: 183.0355\n",
      "Epoch 32/100\n",
      "3/3 [==============================] - 0s 116ms/step - loss: 192.5604 - val_loss: 173.7965\n",
      "Epoch 33/100\n",
      "3/3 [==============================] - 0s 124ms/step - loss: 190.3339 - val_loss: 165.4072\n",
      "Epoch 34/100\n",
      "3/3 [==============================] - 1s 372ms/step - loss: 188.1984 - val_loss: 163.9213\n",
      "Epoch 35/100\n",
      "3/3 [==============================] - 1s 274ms/step - loss: 185.6593 - val_loss: 162.0263\n",
      "Epoch 36/100\n",
      "3/3 [==============================] - 1s 299ms/step - loss: 184.5944 - val_loss: 165.2721\n",
      "Epoch 37/100\n",
      "3/3 [==============================] - 1s 355ms/step - loss: 189.7782 - val_loss: 172.7482\n",
      "Epoch 38/100\n",
      "3/3 [==============================] - 0s 209ms/step - loss: 185.3908 - val_loss: 169.7950\n",
      "Epoch 39/100\n",
      "3/3 [==============================] - 1s 266ms/step - loss: 183.7231 - val_loss: 167.0469\n",
      "Epoch 40/100\n",
      "3/3 [==============================] - 0s 146ms/step - loss: 183.0187 - val_loss: 165.5456\n",
      "Epoch 41/100\n",
      "3/3 [==============================] - 0s 120ms/step - loss: 182.7561 - val_loss: 166.3067\n",
      "Epoch 42/100\n",
      "3/3 [==============================] - 0s 135ms/step - loss: 184.3533 - val_loss: 171.0618\n",
      "Epoch 43/100\n",
      "3/3 [==============================] - 0s 123ms/step - loss: 182.8479 - val_loss: 167.2124\n",
      "Epoch 44/100\n",
      "3/3 [==============================] - 0s 119ms/step - loss: 181.5040 - val_loss: 161.7371\n",
      "Epoch 45/100\n",
      "3/3 [==============================] - 0s 114ms/step - loss: 180.9715 - val_loss: 159.3691\n",
      "Epoch 46/100\n",
      "3/3 [==============================] - 0s 105ms/step - loss: 184.1446 - val_loss: 156.0415\n",
      "Epoch 47/100\n",
      "3/3 [==============================] - 0s 92ms/step - loss: 184.1588 - val_loss: 159.8622\n",
      "Epoch 48/100\n",
      "3/3 [==============================] - 0s 97ms/step - loss: 179.4626 - val_loss: 164.3533\n",
      "Epoch 49/100\n",
      "3/3 [==============================] - 0s 103ms/step - loss: 178.8123 - val_loss: 162.6365\n",
      "Epoch 50/100\n",
      "3/3 [==============================] - 0s 97ms/step - loss: 178.5718 - val_loss: 162.4531\n",
      "Epoch 51/100\n",
      "3/3 [==============================] - 0s 90ms/step - loss: 178.7958 - val_loss: 156.8955\n",
      "Epoch 52/100\n",
      "3/3 [==============================] - 0s 87ms/step - loss: 176.5213 - val_loss: 158.9922\n",
      "Epoch 53/100\n",
      "3/3 [==============================] - 0s 92ms/step - loss: 177.6404 - val_loss: 164.4781\n",
      "Epoch 54/100\n",
      "3/3 [==============================] - 0s 92ms/step - loss: 176.3909 - val_loss: 162.8727\n",
      "Epoch 55/100\n",
      "3/3 [==============================] - ETA: 0s - loss: 147.228 - 0s 96ms/step - loss: 174.8883 - val_loss: 162.0290\n",
      "Epoch 56/100\n",
      "3/3 [==============================] - 0s 102ms/step - loss: 175.8593 - val_loss: 162.7050\n",
      "Epoch 57/100\n",
      "3/3 [==============================] - 0s 88ms/step - loss: 173.0245 - val_loss: 161.7563\n",
      "Epoch 58/100\n",
      "3/3 [==============================] - 0s 93ms/step - loss: 173.9203 - val_loss: 156.2381\n",
      "Epoch 59/100\n",
      "3/3 [==============================] - 0s 108ms/step - loss: 179.8600 - val_loss: 149.5656\n",
      "Epoch 60/100\n",
      "3/3 [==============================] - 0s 90ms/step - loss: 176.8107 - val_loss: 152.2839\n",
      "Epoch 61/100\n",
      "3/3 [==============================] - 0s 108ms/step - loss: 172.0790 - val_loss: 157.3432\n",
      "Epoch 62/100\n",
      "3/3 [==============================] - 0s 95ms/step - loss: 171.9135 - val_loss: 158.1519\n",
      "Epoch 63/100\n",
      "3/3 [==============================] - ETA: 0s - loss: 188.907 - 0s 88ms/step - loss: 169.3565 - val_loss: 151.9012\n",
      "Epoch 64/100\n",
      "3/3 [==============================] - 0s 86ms/step - loss: 173.0638 - val_loss: 148.3947\n",
      "Epoch 65/100\n",
      "3/3 [==============================] - 0s 71ms/step - loss: 170.3289 - val_loss: 152.4903\n",
      "Epoch 66/100\n",
      "3/3 [==============================] - 0s 80ms/step - loss: 170.1014 - val_loss: 161.4783\n",
      "Epoch 67/100\n",
      "3/3 [==============================] - 0s 89ms/step - loss: 173.1187 - val_loss: 167.1245\n",
      "Epoch 68/100\n",
      "3/3 [==============================] - 0s 86ms/step - loss: 170.5716 - val_loss: 158.4504\n",
      "Epoch 69/100\n",
      "3/3 [==============================] - 0s 86ms/step - loss: 166.0043 - val_loss: 146.4009\n",
      "Epoch 70/100\n",
      "3/3 [==============================] - ETA: 0s - loss: 211.652 - 0s 90ms/step - loss: 175.3951 - val_loss: 143.4391\n",
      "Epoch 71/100\n",
      "3/3 [==============================] - 0s 106ms/step - loss: 176.5670 - val_loss: 143.9479\n",
      "Epoch 72/100\n",
      "3/3 [==============================] - 0s 98ms/step - loss: 164.9205 - val_loss: 155.5292\n",
      "Epoch 73/100\n",
      "3/3 [==============================] - 0s 96ms/step - loss: 178.2966 - val_loss: 180.0323\n",
      "Epoch 74/100\n",
      "3/3 [==============================] - 0s 89ms/step - loss: 173.8618 - val_loss: 169.7461\n",
      "Epoch 75/100\n",
      "3/3 [==============================] - 0s 91ms/step - loss: 169.7260 - val_loss: 162.0549\n",
      "Epoch 76/100\n",
      "3/3 [==============================] - 0s 96ms/step - loss: 168.4960 - val_loss: 147.6308\n",
      "Epoch 77/100\n",
      "3/3 [==============================] - 0s 97ms/step - loss: 164.7232 - val_loss: 143.8275\n",
      "Epoch 78/100\n",
      "3/3 [==============================] - 0s 89ms/step - loss: 165.3639 - val_loss: 141.8151\n"
     ]
    },
    {
     "name": "stdout",
     "output_type": "stream",
     "text": [
      "Epoch 79/100\n",
      "3/3 [==============================] - 0s 91ms/step - loss: 168.2722 - val_loss: 142.3949\n",
      "Epoch 80/100\n",
      "3/3 [==============================] - 0s 101ms/step - loss: 165.1313 - val_loss: 150.2493\n",
      "Epoch 81/100\n",
      "3/3 [==============================] - 0s 102ms/step - loss: 162.5053 - val_loss: 153.8238\n",
      "Epoch 82/100\n",
      "3/3 [==============================] - 0s 89ms/step - loss: 164.0701 - val_loss: 158.0687\n",
      "Epoch 83/100\n",
      "3/3 [==============================] - 0s 79ms/step - loss: 163.3800 - val_loss: 157.8404\n",
      "Epoch 84/100\n",
      "3/3 [==============================] - 0s 85ms/step - loss: 163.1369 - val_loss: 150.7645\n",
      "Epoch 85/100\n",
      "3/3 [==============================] - 0s 99ms/step - loss: 161.0797 - val_loss: 148.5089\n",
      "Epoch 86/100\n",
      "3/3 [==============================] - 0s 111ms/step - loss: 162.5079 - val_loss: 145.5912\n",
      "Epoch 87/100\n",
      "3/3 [==============================] - 0s 83ms/step - loss: 160.7588 - val_loss: 142.6169\n",
      "Epoch 88/100\n",
      "3/3 [==============================] - 0s 77ms/step - loss: 160.2900 - val_loss: 142.1708\n",
      "Epoch 89/100\n",
      "3/3 [==============================] - 0s 86ms/step - loss: 162.9327 - val_loss: 149.2522\n",
      "Epoch 90/100\n",
      "3/3 [==============================] - 0s 85ms/step - loss: 160.6105 - val_loss: 147.5181\n",
      "Epoch 91/100\n",
      "3/3 [==============================] - 0s 80ms/step - loss: 162.7056 - val_loss: 144.1479\n",
      "Epoch 92/100\n",
      "3/3 [==============================] - 0s 65ms/step - loss: 160.3014 - val_loss: 137.7223\n",
      "Epoch 93/100\n",
      "3/3 [==============================] - 0s 57ms/step - loss: 163.7133 - val_loss: 136.1530\n",
      "Epoch 94/100\n",
      "3/3 [==============================] - 0s 45ms/step - loss: 159.3645 - val_loss: 142.6652\n",
      "Epoch 95/100\n",
      "3/3 [==============================] - 0s 54ms/step - loss: 164.7167 - val_loss: 145.0743\n",
      "Epoch 96/100\n",
      "3/3 [==============================] - 0s 60ms/step - loss: 159.2431 - val_loss: 136.0708\n",
      "Epoch 97/100\n",
      "3/3 [==============================] - 0s 94ms/step - loss: 159.6183 - val_loss: 136.8055\n",
      "Epoch 98/100\n",
      "3/3 [==============================] - 0s 84ms/step - loss: 157.6179 - val_loss: 141.3667\n",
      "Epoch 99/100\n",
      "3/3 [==============================] - 0s 77ms/step - loss: 158.3915 - val_loss: 148.4821\n",
      "Epoch 100/100\n",
      "3/3 [==============================] - 0s 107ms/step - loss: 157.9466 - val_loss: 143.9338\n"
     ]
    }
   ],
   "source": [
    "history = model.fit(X_train, y_train, epochs=100,\n",
    "                    validation_data=(X_valid, y_valid))"
   ]
  },
  {
   "cell_type": "markdown",
   "id": "17d6e37a",
   "metadata": {},
   "source": [
    "Plot the result"
   ]
  },
  {
   "cell_type": "code",
   "execution_count": 13,
   "id": "3b066f5c",
   "metadata": {},
   "outputs": [
    {
     "data": {
      "image/png": "[encoded data removed]",
      "text/plain": [
       "<Figure size 576x360 with 1 Axes>"
      ]
     },
     "metadata": {
      "needs_background": "light"
     },
     "output_type": "display_data"
    }
   ],
   "source": [
    "import pandas as pd\n",
    "\n",
    "pd.DataFrame(history.history).plot(figsize=(8, 5))\n",
    "plt.grid(True)\n",
    "# plt.gca().set_ylim(0, 1)\n",
    "plt.show()"
   ]
  },
  {
   "cell_type": "code",
   "execution_count": 14,
   "id": "03f9bb54",
   "metadata": {},
   "outputs": [
    {
     "data": {
      "image/png": "[encoded data removed]",
      "text/plain": [
       "<Figure size 432x288 with 1 Axes>"
      ]
     },
     "metadata": {
      "needs_background": "light"
     },
     "output_type": "display_data"
    }
   ],
   "source": [
    "# X_new = np.linspace(-5, 5, 100).reshape(100, 1)\n",
    "# y_new = model.predict(X_new)\n",
    "#\n",
    "plt.plot(X_train, y_train, \"b.\")\n",
    "# plt.plot(X_new, y_new, \"r-\", linewidth=2, label=\"Predictions\")\n",
    "draw_func(model.predict, mark='r-', linewidth=2, label=\"Predictions\")\n",
    "draw_normal_func(func_dict)\n",
    "plt.xlabel(\"$x_1$\", fontsize=18)\n",
    "plt.ylabel(\"$y$\", rotation=0, fontsize=18)\n",
    "plt.legend(loc=\"upper left\", fontsize=14)\n",
    "# plt.axis([-3, 3, 0, 10])\n",
    "plt.show()"
   ]
  },
  {
   "cell_type": "code",
   "execution_count": 15,
   "id": "8bf65f01",
   "metadata": {},
   "outputs": [
    {
     "name": "stdout",
     "output_type": "stream",
     "text": [
      "y_func.shape = (100, 1)\n",
      "y_gt.shape = (100, 1)\n"
     ]
    },
    {
     "data": {
      "text/plain": [
       "5.455934812496808"
      ]
     },
     "execution_count": 15,
     "metadata": {},
     "output_type": "execute_result"
    }
   ],
   "source": [
    "get_prediction_error(model.predict, func_dict)"
   ]
  },
  {
   "cell_type": "markdown",
   "id": "58da8768",
   "metadata": {},
   "source": [
    "# Simulated CNN Feature Map (1-D grids, grid --> number)"
   ]
  },
  {
   "cell_type": "code",
   "execution_count": 16,
   "id": "287b5e4c",
   "metadata": {},
   "outputs": [],
   "source": [
    "class num2grid(keras.layers.Layer):\n",
    "    def __init__(self, units, x_min=-10, x_max=10, sigma=1.0, activation=None, **kwargs):\n",
    "        super().__init__(**kwargs)\n",
    "        self.units = units\n",
    "        self.x_min = x_min\n",
    "        self.x_max = x_max\n",
    "        self.sigma = sigma\n",
    "        self.sigma2 = self.sigma**2\n",
    "        self.activation = keras.activations.get(activation)\n",
    "        \n",
    "    def build(self, batch_input_shape):\n",
    "        #\n",
    "        self.x_grid = np.linspace(self.x_min, self.x_max, self.units, endpoint=True)\n",
    "#         print(\"self.x_grid.shape = %s\" % str(self.x_grid.shape))\n",
    "        #\n",
    "        super().build(batch_input_shape) # must be at the end\n",
    "        \n",
    "    def call(self, X):\n",
    "        '''\n",
    "        Input shape:  (batch, X_chanel)\n",
    "        Output shape: (batch, grid_unit) \n",
    "        \n",
    "        self.x_grid shape: (grid_unit,)\n",
    "        '''\n",
    "        gauss_grid = tf.exp( -(self.x_grid - X)**2 / (2.0*self.sigma2) )\n",
    "        print(\"X.shape = %s\" % str(X.shape))\n",
    "        print(\"gauss_grid.shape = %s\" % str(gauss_grid.shape))\n",
    "        return self.activation(gauss_grid)\n",
    "    \n",
    "    def compute_output_shape(self, batch_input_shape):\n",
    "        return tf.TensorShape(batch_input_shape.as_list()[:-1] + [self.units])\n",
    "    \n",
    "    def get_config(self):\n",
    "        base_config = super().get_config()\n",
    "        return {**base_config, \n",
    "                \"units\": self.units,\n",
    "                \"x_min\": self.x_min,\n",
    "                \"x_max\": self.x_max,\n",
    "                \"sigma\": self.sigma,\n",
    "                \"activation\": keras.activations.serialize(self.activation)}"
   ]
  },
  {
   "cell_type": "code",
   "execution_count": 17,
   "id": "f463c12a",
   "metadata": {},
   "outputs": [
    {
     "name": "stdout",
     "output_type": "stream",
     "text": [
      "X.shape = (None, 1)\n",
      "gauss_grid.shape = (None, 5)\n"
     ]
    },
    {
     "name": "stderr",
     "output_type": "stream",
     "text": [
      "/home/benson516/ml/my_env/lib/python3.6/site-packages/keras/optimizer_v2/optimizer_v2.py:356: UserWarning: The `lr` argument is deprecated, use `learning_rate` instead.\n",
      "  \"The `lr` argument is deprecated, use `learning_rate` instead.\")\n"
     ]
    }
   ],
   "source": [
    "model = keras.models.Sequential([\n",
    "    num2grid(5,x_min=-10, x_max=10, sigma=3.0, input_shape=X_train.shape[1:]),\n",
    "    keras.layers.Dense(30, activation=\"relu\"),\n",
    "#     keras.layers.Dense(30, activation=keras.layers.LeakyReLU(alpha=0.2) ),\n",
    "#     keras.layers.Dense(30, activation=\"selu\"),\n",
    "#     keras.layers.Dense(30, activation=\"relu\"),\n",
    "    keras.layers.Dense(1)\n",
    "])\n",
    "\n",
    "optimizer = keras.optimizers.SGD(lr=0.001, momentum=0.9)\n",
    "model.compile(loss=\"mean_squared_error\", optimizer=optimizer)\n",
    "# optimizer = keras.optimizers.Adam(lr=0.01)\n",
    "# model.compile(loss=\"mean_absolute_error\", optimizer=optimizer)"
   ]
  },
  {
   "cell_type": "code",
   "execution_count": 18,
   "id": "c966ada4",
   "metadata": {
    "scrolled": true
   },
   "outputs": [
    {
     "name": "stdout",
     "output_type": "stream",
     "text": [
      "Epoch 1/100\n",
      "X.shape = (None, 1)\n",
      "gauss_grid.shape = (None, 5)\n",
      "X.shape = (None, 1)\n",
      "gauss_grid.shape = (None, 5)\n",
      "1/3 [=========>....................] - ETA: 1s - loss: 2497.0115X.shape = (None, 1)\n",
      "gauss_grid.shape = (None, 5)\n",
      "3/3 [==============================] - 1s 211ms/step - loss: 2516.6909 - val_loss: 1731.2139\n",
      "Epoch 2/100\n",
      "3/3 [==============================] - 0s 89ms/step - loss: 2450.8276 - val_loss: 1693.2830\n",
      "Epoch 3/100\n",
      "3/3 [==============================] - 0s 87ms/step - loss: 2322.3030 - val_loss: 1590.4841\n",
      "Epoch 4/100\n",
      "3/3 [==============================] - 0s 64ms/step - loss: 2005.7679 - val_loss: 1359.5424\n",
      "Epoch 5/100\n",
      "3/3 [==============================] - 0s 76ms/step - loss: 1272.5833 - val_loss: 1093.6467\n",
      "Epoch 6/100\n",
      "3/3 [==============================] - 0s 81ms/step - loss: 856.2017 - val_loss: 471.3499\n",
      "Epoch 7/100\n",
      "3/3 [==============================] - 0s 86ms/step - loss: 451.3356 - val_loss: 255.7569\n",
      "Epoch 8/100\n",
      "3/3 [==============================] - 0s 98ms/step - loss: 320.0557 - val_loss: 367.3677\n",
      "Epoch 9/100\n",
      "3/3 [==============================] - 0s 106ms/step - loss: 345.8633 - val_loss: 353.8988\n",
      "Epoch 10/100\n",
      "3/3 [==============================] - 0s 115ms/step - loss: 324.3087 - val_loss: 272.9480\n",
      "Epoch 11/100\n",
      "3/3 [==============================] - 0s 91ms/step - loss: 232.2288 - val_loss: 244.6929\n",
      "Epoch 12/100\n",
      "3/3 [==============================] - 0s 68ms/step - loss: 276.0926 - val_loss: 272.8499\n",
      "Epoch 13/100\n",
      "3/3 [==============================] - 0s 109ms/step - loss: 274.3563 - val_loss: 332.8127\n",
      "Epoch 14/100\n",
      "3/3 [==============================] - 0s 69ms/step - loss: 283.4293 - val_loss: 270.9467\n",
      "Epoch 15/100\n",
      "3/3 [==============================] - 0s 72ms/step - loss: 228.6574 - val_loss: 215.2403\n",
      "Epoch 16/100\n",
      "3/3 [==============================] - 0s 101ms/step - loss: 232.8661 - val_loss: 216.5771\n",
      "Epoch 17/100\n",
      "3/3 [==============================] - 0s 112ms/step - loss: 226.3550 - val_loss: 225.3240\n",
      "Epoch 18/100\n",
      "3/3 [==============================] - 0s 112ms/step - loss: 225.2500 - val_loss: 203.7125\n",
      "Epoch 19/100\n",
      "3/3 [==============================] - 0s 101ms/step - loss: 210.0152 - val_loss: 189.4106\n",
      "Epoch 20/100\n",
      "3/3 [==============================] - 0s 123ms/step - loss: 203.6048 - val_loss: 197.9747\n",
      "Epoch 21/100\n",
      "3/3 [==============================] - 0s 58ms/step - loss: 202.6242 - val_loss: 206.6337\n",
      "Epoch 22/100\n",
      "3/3 [==============================] - 0s 91ms/step - loss: 206.3689 - val_loss: 198.3506\n",
      "Epoch 23/100\n",
      "3/3 [==============================] - 0s 116ms/step - loss: 194.3339 - val_loss: 168.3140\n",
      "Epoch 24/100\n",
      "3/3 [==============================] - 0s 94ms/step - loss: 190.9489 - val_loss: 167.1988\n",
      "Epoch 25/100\n",
      "3/3 [==============================] - ETA: 0s - loss: 216.218 - 0s 93ms/step - loss: 197.0848 - val_loss: 162.9795\n",
      "Epoch 26/100\n",
      "3/3 [==============================] - 0s 97ms/step - loss: 192.4408 - val_loss: 149.4708\n",
      "Epoch 27/100\n",
      "3/3 [==============================] - 0s 104ms/step - loss: 187.1696 - val_loss: 157.3834\n",
      "Epoch 28/100\n",
      "3/3 [==============================] - 0s 86ms/step - loss: 180.6868 - val_loss: 159.8492\n",
      "Epoch 29/100\n",
      "3/3 [==============================] - 0s 66ms/step - loss: 180.4709 - val_loss: 151.7447\n",
      "Epoch 30/100\n",
      "3/3 [==============================] - 0s 75ms/step - loss: 175.8146 - val_loss: 139.6440\n",
      "Epoch 31/100\n",
      "3/3 [==============================] - 0s 55ms/step - loss: 178.2703 - val_loss: 128.4637\n",
      "Epoch 32/100\n",
      "3/3 [==============================] - 0s 69ms/step - loss: 173.2819 - val_loss: 129.0054\n",
      "Epoch 33/100\n",
      "3/3 [==============================] - 0s 100ms/step - loss: 171.2426 - val_loss: 126.7916\n",
      "Epoch 34/100\n",
      "3/3 [==============================] - 0s 97ms/step - loss: 168.7416 - val_loss: 131.2336\n",
      "Epoch 35/100\n",
      "3/3 [==============================] - 0s 90ms/step - loss: 168.2541 - val_loss: 136.2782\n",
      "Epoch 36/100\n",
      "3/3 [==============================] - 0s 111ms/step - loss: 173.1451 - val_loss: 136.6232\n",
      "Epoch 37/100\n",
      "3/3 [==============================] - 0s 94ms/step - loss: 166.9858 - val_loss: 116.3068\n",
      "Epoch 38/100\n",
      "3/3 [==============================] - 0s 87ms/step - loss: 166.6628 - val_loss: 108.4171\n",
      "Epoch 39/100\n",
      "3/3 [==============================] - 0s 110ms/step - loss: 168.6977 - val_loss: 111.5063\n",
      "Epoch 40/100\n",
      "3/3 [==============================] - 0s 84ms/step - loss: 168.9762 - val_loss: 113.0668\n",
      "Epoch 41/100\n",
      "3/3 [==============================] - ETA: 0s - loss: 199.980 - 0s 92ms/step - loss: 168.6276 - val_loss: 120.4446\n",
      "Epoch 42/100\n",
      "3/3 [==============================] - 0s 107ms/step - loss: 165.9370 - val_loss: 128.3693\n",
      "Epoch 43/100\n",
      "3/3 [==============================] - 0s 101ms/step - loss: 168.2819 - val_loss: 140.1300\n",
      "Epoch 44/100\n",
      "3/3 [==============================] - 0s 95ms/step - loss: 169.7408 - val_loss: 130.9678\n",
      "Epoch 45/100\n",
      "3/3 [==============================] - 0s 124ms/step - loss: 166.6496 - val_loss: 108.9171\n",
      "Epoch 46/100\n",
      "3/3 [==============================] - 0s 114ms/step - loss: 167.0363 - val_loss: 103.7902\n",
      "Epoch 47/100\n",
      "3/3 [==============================] - 0s 115ms/step - loss: 167.8170 - val_loss: 107.3067\n",
      "Epoch 48/100\n",
      "3/3 [==============================] - 0s 110ms/step - loss: 166.3683 - val_loss: 110.1381\n",
      "Epoch 49/100\n",
      "3/3 [==============================] - 0s 121ms/step - loss: 164.6782 - val_loss: 115.7860\n",
      "Epoch 50/100\n",
      "3/3 [==============================] - 0s 96ms/step - loss: 165.4259 - val_loss: 114.6342\n",
      "Epoch 51/100\n",
      "3/3 [==============================] - 0s 76ms/step - loss: 165.4940 - val_loss: 106.6234\n",
      "Epoch 52/100\n",
      "3/3 [==============================] - 0s 54ms/step - loss: 169.5143 - val_loss: 114.0993\n",
      "Epoch 53/100\n",
      "3/3 [==============================] - 0s 56ms/step - loss: 165.2628 - val_loss: 101.4305\n",
      "Epoch 54/100\n",
      "3/3 [==============================] - 0s 52ms/step - loss: 168.2003 - val_loss: 102.1802\n",
      "Epoch 55/100\n",
      "3/3 [==============================] - 0s 54ms/step - loss: 166.7015 - val_loss: 109.3072\n",
      "Epoch 56/100\n",
      "3/3 [==============================] - 0s 50ms/step - loss: 164.8557 - val_loss: 123.7315\n",
      "Epoch 57/100\n",
      "3/3 [==============================] - 0s 84ms/step - loss: 164.8235 - val_loss: 117.5265\n",
      "Epoch 58/100\n",
      "3/3 [==============================] - 0s 104ms/step - loss: 163.8528 - val_loss: 112.2538\n",
      "Epoch 59/100\n",
      "3/3 [==============================] - ETA: 0s - loss: 127.060 - 0s 93ms/step - loss: 163.6281 - val_loss: 113.6034\n",
      "Epoch 60/100\n",
      "3/3 [==============================] - ETA: 0s - loss: 196.639 - 0s 95ms/step - loss: 163.6289 - val_loss: 109.6147\n",
      "Epoch 61/100\n",
      "3/3 [==============================] - 0s 103ms/step - loss: 164.4817 - val_loss: 107.5683\n",
      "Epoch 62/100\n",
      "3/3 [==============================] - 0s 116ms/step - loss: 165.5729 - val_loss: 121.9762\n",
      "Epoch 63/100\n",
      "3/3 [==============================] - 0s 104ms/step - loss: 163.4589 - val_loss: 118.0819\n",
      "Epoch 64/100\n",
      "3/3 [==============================] - 0s 77ms/step - loss: 164.9266 - val_loss: 106.4282\n",
      "Epoch 65/100\n",
      "3/3 [==============================] - 0s 84ms/step - loss: 162.7239 - val_loss: 107.2717\n",
      "Epoch 66/100\n",
      "3/3 [==============================] - 0s 107ms/step - loss: 162.8417 - val_loss: 108.1251\n",
      "Epoch 67/100\n",
      "3/3 [==============================] - 0s 81ms/step - loss: 162.0712 - val_loss: 112.5495\n",
      "Epoch 68/100\n",
      "3/3 [==============================] - 0s 101ms/step - loss: 166.9505 - val_loss: 122.3680\n",
      "Epoch 69/100\n",
      "3/3 [==============================] - ETA: 0s - loss: 138.050 - 0s 89ms/step - loss: 171.0045 - val_loss: 134.3321\n",
      "Epoch 70/100\n",
      "3/3 [==============================] - 0s 116ms/step - loss: 164.3304 - val_loss: 118.0170\n",
      "Epoch 71/100\n",
      "3/3 [==============================] - 0s 102ms/step - loss: 162.6534 - val_loss: 104.6228\n",
      "Epoch 72/100\n",
      "3/3 [==============================] - 0s 84ms/step - loss: 164.1129 - val_loss: 101.1719\n",
      "Epoch 73/100\n",
      "3/3 [==============================] - 0s 94ms/step - loss: 166.0760 - val_loss: 115.4512\n",
      "Epoch 74/100\n",
      "3/3 [==============================] - 0s 103ms/step - loss: 166.2469 - val_loss: 127.9395\n",
      "Epoch 75/100\n",
      "3/3 [==============================] - 0s 92ms/step - loss: 163.0916 - val_loss: 122.0021\n",
      "Epoch 76/100\n",
      "3/3 [==============================] - ETA: 0s - loss: 171.945 - 0s 88ms/step - loss: 162.1541 - val_loss: 111.9894\n"
     ]
    },
    {
     "name": "stdout",
     "output_type": "stream",
     "text": [
      "Epoch 77/100\n",
      "3/3 [==============================] - 0s 76ms/step - loss: 161.6087 - val_loss: 108.5987\n",
      "Epoch 78/100\n",
      "3/3 [==============================] - 0s 66ms/step - loss: 167.9919 - val_loss: 99.9926\n",
      "Epoch 79/100\n",
      "3/3 [==============================] - 0s 51ms/step - loss: 164.1440 - val_loss: 117.5532\n",
      "Epoch 80/100\n",
      "3/3 [==============================] - 0s 51ms/step - loss: 163.2098 - val_loss: 130.4074\n",
      "Epoch 81/100\n",
      "3/3 [==============================] - 0s 52ms/step - loss: 165.3326 - val_loss: 133.1218\n",
      "Epoch 82/100\n",
      "3/3 [==============================] - 0s 86ms/step - loss: 164.8553 - val_loss: 116.1173\n",
      "Epoch 83/100\n",
      "3/3 [==============================] - 0s 62ms/step - loss: 162.3432 - val_loss: 108.5627\n",
      "Epoch 84/100\n",
      "3/3 [==============================] - 0s 94ms/step - loss: 163.1890 - val_loss: 99.7426\n",
      "Epoch 85/100\n",
      "3/3 [==============================] - 0s 53ms/step - loss: 164.0768 - val_loss: 102.1351\n",
      "Epoch 86/100\n",
      "3/3 [==============================] - 0s 86ms/step - loss: 168.1447 - val_loss: 110.6214\n",
      "Epoch 87/100\n",
      "3/3 [==============================] - 0s 115ms/step - loss: 161.8198 - val_loss: 105.5413\n",
      "Epoch 88/100\n",
      "3/3 [==============================] - 0s 73ms/step - loss: 160.7364 - val_loss: 111.7510\n",
      "Epoch 89/100\n",
      "3/3 [==============================] - 0s 88ms/step - loss: 160.2395 - val_loss: 112.4777\n",
      "Epoch 90/100\n",
      "3/3 [==============================] - 0s 85ms/step - loss: 160.5457 - val_loss: 116.0251\n",
      "Epoch 91/100\n",
      "3/3 [==============================] - 0s 90ms/step - loss: 160.4747 - val_loss: 110.3014\n",
      "Epoch 92/100\n",
      "3/3 [==============================] - 0s 81ms/step - loss: 160.5920 - val_loss: 108.1169\n",
      "Epoch 93/100\n",
      "3/3 [==============================] - 0s 86ms/step - loss: 160.5349 - val_loss: 114.0880\n",
      "Epoch 94/100\n",
      "3/3 [==============================] - 0s 90ms/step - loss: 159.3986 - val_loss: 119.6397\n",
      "Epoch 95/100\n",
      "3/3 [==============================] - 0s 94ms/step - loss: 164.9687 - val_loss: 128.3386\n",
      "Epoch 96/100\n",
      "3/3 [==============================] - 0s 103ms/step - loss: 160.9754 - val_loss: 107.2747\n",
      "Epoch 97/100\n",
      "3/3 [==============================] - 0s 100ms/step - loss: 158.5266 - val_loss: 98.7085\n",
      "Epoch 98/100\n",
      "3/3 [==============================] - 0s 72ms/step - loss: 166.7225 - val_loss: 96.3954\n",
      "Epoch 99/100\n",
      "3/3 [==============================] - 0s 83ms/step - loss: 162.0145 - val_loss: 110.3077\n",
      "Epoch 100/100\n",
      "3/3 [==============================] - 0s 89ms/step - loss: 162.3948 - val_loss: 131.6329\n"
     ]
    }
   ],
   "source": [
    "history = model.fit(X_train, y_train, epochs=100,\n",
    "                    validation_data=(X_valid, y_valid))"
   ]
  },
  {
   "cell_type": "code",
   "execution_count": 19,
   "id": "4d550f88",
   "metadata": {},
   "outputs": [
    {
     "data": {
      "image/png": "[encoded data removed]",
      "text/plain": [
       "<Figure size 576x360 with 1 Axes>"
      ]
     },
     "metadata": {
      "needs_background": "light"
     },
     "output_type": "display_data"
    }
   ],
   "source": [
    "import pandas as pd\n",
    "\n",
    "pd.DataFrame(history.history).plot(figsize=(8, 5))\n",
    "plt.grid(True)\n",
    "# plt.gca().set_ylim(0, 1)\n",
    "plt.show()"
   ]
  },
  {
   "cell_type": "code",
   "execution_count": 20,
   "id": "397420ba",
   "metadata": {},
   "outputs": [
    {
     "name": "stdout",
     "output_type": "stream",
     "text": [
      "X.shape = (None, 1)\n",
      "gauss_grid.shape = (None, 5)\n"
     ]
    },
    {
     "data": {
      "image/png": "[encoded data removed]",
      "text/plain": [
       "<Figure size 432x288 with 1 Axes>"
      ]
     },
     "metadata": {
      "needs_background": "light"
     },
     "output_type": "display_data"
    }
   ],
   "source": [
    "# X_new = np.linspace(-5, 5, 100).reshape(100, 1)\n",
    "# y_new = model.predict(X_new)\n",
    "#\n",
    "plt.plot(X_train, y_train, \"b.\")\n",
    "# plt.plot(X_new, y_new, \"r-\", linewidth=2, label=\"Predictions\")\n",
    "draw_func(model.predict, mark='r-', linewidth=2, label=\"Predictions\")\n",
    "draw_normal_func(func_dict)\n",
    "plt.xlabel(\"$x_1$\", fontsize=18)\n",
    "plt.ylabel(\"$y$\", rotation=0, fontsize=18)\n",
    "plt.legend(loc=\"upper left\", fontsize=14)\n",
    "# plt.axis([-3, 3, 0, 10])\n",
    "plt.show()"
   ]
  },
  {
   "cell_type": "code",
   "execution_count": 21,
   "id": "76a1ef79",
   "metadata": {},
   "outputs": [
    {
     "name": "stdout",
     "output_type": "stream",
     "text": [
      "y_func.shape = (100, 1)\n",
      "y_gt.shape = (100, 1)\n"
     ]
    },
    {
     "data": {
      "text/plain": [
       "4.341356873043756"
      ]
     },
     "execution_count": 21,
     "metadata": {},
     "output_type": "execute_result"
    }
   ],
   "source": [
    "get_prediction_error(model.predict, func_dict)"
   ]
  },
  {
   "cell_type": "markdown",
   "id": "fe65d614",
   "metadata": {},
   "source": [
    "# Grid & Regression by Classification (grid --> grid)"
   ]
  },
  {
   "cell_type": "code",
   "execution_count": 22,
   "id": "3d35615e",
   "metadata": {},
   "outputs": [],
   "source": [
    "class num2grid_np():\n",
    "    def __init__(self, units, x_min=-10, x_max=10, sigma=1.0):\n",
    "        self.units = units\n",
    "        self.x_min = x_min\n",
    "        self.x_max = x_max\n",
    "        self.sigma = sigma\n",
    "        self.sigma2 = self.sigma**2\n",
    "        self.x_grid = np.linspace(self.x_min, self.x_max, self.units, endpoint=True)\n",
    "        print(\"self.x_grid = %s\" % str(self.x_grid))\n",
    "        \n",
    "    def convert(self, X):\n",
    "        gauss_grid = np.exp( -(self.x_grid - X)**2 / (2.0*self.sigma2) )\n",
    "#         if len(gauss_grid.shape) == 1:\n",
    "#             gauss_grid = gauss_grid.reshape([1,-1])\n",
    "#         grid_sum = np.sum(gauss_grid, axis=1, keepdims=True)\n",
    "        grid_sum = np.sum(gauss_grid, axis=-1, keepdims=True)\n",
    "        gauss_grid = gauss_grid / grid_sum\n",
    "        return gauss_grid\n",
    "    \n",
    "    def inv_convert(self, grid):\n",
    "#         if len(grid.shape) == 1:\n",
    "#             grid = grid.reshape([1,-1])\n",
    "#         grid_sum = np.sum(grid, axis=1)\n",
    "        grid_sum = np.sum(grid, axis=-1)\n",
    "#         print(grid_sum)\n",
    "        exp_num = np.sum((self.x_grid * grid), axis=-1) / grid_sum # element-wise\n",
    "        return exp_num\n",
    "    \n",
    "    def get_statistic(self, grid):\n",
    "        grid_sum = np.sum(grid, axis=-1)\n",
    "        _mean = np.sum((self.x_grid * grid), axis=-1) / grid_sum # element-wise\n",
    "        _var  = np.sum( ((self.x_grid.reshape((1,-1)) - _mean.reshape((-1,1)))**2 * grid), axis=-1) / grid_sum # element-wise\n",
    "        # print(\"(_mean, _var) = (%f, %f)\" % (_mean, _var))\n",
    "        _stddev = np.sqrt(_var)\n",
    "        return _mean, _stddev"
   ]
  },
  {
   "cell_type": "code",
   "execution_count": 23,
   "id": "4903180b",
   "metadata": {},
   "outputs": [
    {
     "name": "stdout",
     "output_type": "stream",
     "text": [
      "self.x_grid = [-100.          -95.91836735  -91.83673469  -87.75510204  -83.67346939\n",
      "  -79.59183673  -75.51020408  -71.42857143  -67.34693878  -63.26530612\n",
      "  -59.18367347  -55.10204082  -51.02040816  -46.93877551  -42.85714286\n",
      "  -38.7755102   -34.69387755  -30.6122449   -26.53061224  -22.44897959\n",
      "  -18.36734694  -14.28571429  -10.20408163   -6.12244898   -2.04081633\n",
      "    2.04081633    6.12244898   10.20408163   14.28571429   18.36734694\n",
      "   22.44897959   26.53061224   30.6122449    34.69387755   38.7755102\n",
      "   42.85714286   46.93877551   51.02040816   55.10204082   59.18367347\n",
      "   63.26530612   67.34693878   71.42857143   75.51020408   79.59183673\n",
      "   83.67346939   87.75510204   91.83673469   95.91836735  100.        ]\n"
     ]
    }
   ],
   "source": [
    "# class_num = 10 # 10\n",
    "# n2g = num2grid_np(class_num, x_min=-100.0, x_max=100.0, sigma=20.0) # 20.0\n",
    "# class_num = 20\n",
    "# n2g = num2grid_np(class_num, x_min=-100.0, x_max=100.0, sigma=15.0) # 20.0\n",
    "class_num = 50\n",
    "n2g = num2grid_np(class_num, x_min=-100.0, x_max=100.0, sigma=6.0) # 5.0 "
   ]
  },
  {
   "cell_type": "code",
   "execution_count": 24,
   "id": "dce05258",
   "metadata": {},
   "outputs": [
    {
     "name": "stdout",
     "output_type": "stream",
     "text": [
      "[[3.57995092e-60 2.08100846e-55 7.61538914e-51 1.75441300e-46\n",
      "  2.54444491e-42 2.32314196e-38 1.33530332e-34 4.83176258e-31\n",
      "  1.10065884e-27 1.57841554e-24 1.42498879e-21 8.09884396e-19\n",
      "  2.89771784e-16 6.52695532e-14 9.25521826e-12 8.26198061e-10\n",
      "  4.64304784e-08 1.64264466e-06 3.65852120e-05 5.12966502e-04\n",
      "  4.52786966e-03 2.51605603e-02 8.80173281e-02 1.93837381e-01\n",
      "  2.68737559e-01 2.34552834e-01 1.28876722e-01 4.45789421e-02\n",
      "  9.70748025e-03 1.33077537e-03 1.14848275e-04 6.23972825e-06\n",
      "  2.13416679e-07 4.59528573e-09 6.22899760e-11 5.31551427e-13\n",
      "  2.85557712e-15 9.65748361e-18 2.05615356e-20 2.75593262e-23\n",
      "  2.32542921e-26 1.23526215e-29 4.13082337e-33 8.69632169e-37\n",
      "  1.15254011e-40 9.61607812e-45 5.05081425e-49 1.67011468e-53\n",
      "  3.47658354e-58 4.55596654e-63]]\n"
     ]
    }
   ],
   "source": [
    "# grid_1 = n2g.convert(-1.2)\n",
    "grid_1 = n2g.convert([[-1.2]])\n",
    "print(grid_1)"
   ]
  },
  {
   "cell_type": "code",
   "execution_count": 25,
   "id": "48203fe2",
   "metadata": {},
   "outputs": [
    {
     "data": {
      "text/plain": [
       "array([-1.2])"
      ]
     },
     "execution_count": 25,
     "metadata": {},
     "output_type": "execute_result"
    }
   ],
   "source": [
    "n2g.inv_convert(grid_1)"
   ]
  },
  {
   "cell_type": "code",
   "execution_count": 26,
   "id": "a741b6d1",
   "metadata": {},
   "outputs": [
    {
     "data": {
      "text/plain": [
       "(array([-1.2]), array([6.]))"
      ]
     },
     "execution_count": 26,
     "metadata": {},
     "output_type": "execute_result"
    }
   ],
   "source": [
    "n2g.get_statistic(grid_1)"
   ]
  },
  {
   "cell_type": "markdown",
   "id": "bdc0b9a0",
   "metadata": {},
   "source": [
    "### Convert the labels to grid (pre-processing)"
   ]
  },
  {
   "cell_type": "code",
   "execution_count": 27,
   "id": "39c7fa96",
   "metadata": {},
   "outputs": [],
   "source": [
    "y_train_grid = n2g.convert(y_train)\n",
    "y_valid_grid = n2g.convert(y_valid)"
   ]
  },
  {
   "cell_type": "code",
   "execution_count": 28,
   "id": "f577a751",
   "metadata": {},
   "outputs": [
    {
     "name": "stdout",
     "output_type": "stream",
     "text": [
      "(80, 50)\n",
      "(20, 50)\n"
     ]
    }
   ],
   "source": [
    "print(y_train_grid.shape)\n",
    "print(y_valid_grid.shape)"
   ]
  },
  {
   "cell_type": "code",
   "execution_count": 29,
   "id": "71610af1",
   "metadata": {},
   "outputs": [
    {
     "name": "stdout",
     "output_type": "stream",
     "text": [
      "X.shape = (None, 1)\n",
      "gauss_grid.shape = (None, 5)\n"
     ]
    },
    {
     "name": "stderr",
     "output_type": "stream",
     "text": [
      "/home/benson516/ml/my_env/lib/python3.6/site-packages/keras/optimizer_v2/optimizer_v2.py:356: UserWarning: The `lr` argument is deprecated, use `learning_rate` instead.\n",
      "  \"The `lr` argument is deprecated, use `learning_rate` instead.\")\n"
     ]
    }
   ],
   "source": [
    "model = keras.models.Sequential([\n",
    "#     keras.layers.Dense(30, activation=\"relu\", input_shape=X_train.shape[1:]),\n",
    "    num2grid(5,x_min=-10, x_max=10, sigma=3.0, input_shape=X_train.shape[1:]),\n",
    "    keras.layers.Dense(30, activation=\"relu\"),\n",
    "    keras.layers.Dense(class_num, activation=\"softmax\"),\n",
    "])\n",
    "\n",
    "optimizer = keras.optimizers.SGD(lr=0.2, momentum=0.9)\n",
    "model.compile(loss=\"categorical_crossentropy\", optimizer=optimizer)"
   ]
  },
  {
   "cell_type": "code",
   "execution_count": 30,
   "id": "e2244aee",
   "metadata": {
    "scrolled": true
   },
   "outputs": [
    {
     "name": "stdout",
     "output_type": "stream",
     "text": [
      "Epoch 1/100\n",
      "X.shape = (None, 1)\n",
      "gauss_grid.shape = (None, 5)\n",
      "X.shape = (None, 1)\n",
      "gauss_grid.shape = (None, 5)\n",
      "1/3 [=========>....................] - ETA: 1s - loss: 3.9253X.shape = (None, 1)\n",
      "gauss_grid.shape = (None, 5)\n",
      "3/3 [==============================] - 1s 284ms/step - loss: 3.9175 - val_loss: 3.9198\n",
      "Epoch 2/100\n",
      "3/3 [==============================] - 0s 73ms/step - loss: 3.8819 - val_loss: 3.8854\n",
      "Epoch 3/100\n",
      "3/3 [==============================] - 0s 92ms/step - loss: 3.8213 - val_loss: 3.8454\n",
      "Epoch 4/100\n",
      "3/3 [==============================] - 0s 98ms/step - loss: 3.7510 - val_loss: 3.8029\n",
      "Epoch 5/100\n",
      "3/3 [==============================] - 0s 80ms/step - loss: 3.6668 - val_loss: 3.7590\n",
      "Epoch 6/100\n",
      "3/3 [==============================] - 0s 91ms/step - loss: 3.5769 - val_loss: 3.7093\n",
      "Epoch 7/100\n",
      "3/3 [==============================] - 0s 107ms/step - loss: 3.4766 - val_loss: 3.6541\n",
      "Epoch 8/100\n",
      "3/3 [==============================] - 0s 81ms/step - loss: 3.3734 - val_loss: 3.5690\n",
      "Epoch 9/100\n",
      "3/3 [==============================] - 0s 83ms/step - loss: 3.2734 - val_loss: 3.4626\n",
      "Epoch 10/100\n",
      "3/3 [==============================] - 0s 95ms/step - loss: 3.1842 - val_loss: 3.3443\n",
      "Epoch 11/100\n",
      "3/3 [==============================] - 0s 103ms/step - loss: 3.1107 - val_loss: 3.2454\n",
      "Epoch 12/100\n",
      "3/3 [==============================] - 0s 101ms/step - loss: 3.0653 - val_loss: 3.1888\n",
      "Epoch 13/100\n",
      "3/3 [==============================] - 0s 64ms/step - loss: 3.0238 - val_loss: 3.1545\n",
      "Epoch 14/100\n",
      "3/3 [==============================] - 0s 54ms/step - loss: 2.9872 - val_loss: 3.1231\n",
      "Epoch 15/100\n",
      "3/3 [==============================] - 0s 61ms/step - loss: 2.9691 - val_loss: 3.0908\n",
      "Epoch 16/100\n",
      "3/3 [==============================] - 0s 73ms/step - loss: 2.9433 - val_loss: 3.0257\n",
      "Epoch 17/100\n",
      "3/3 [==============================] - 0s 75ms/step - loss: 2.9081 - val_loss: 3.0049\n",
      "Epoch 18/100\n",
      "3/3 [==============================] - 0s 94ms/step - loss: 2.8809 - val_loss: 3.0525\n",
      "Epoch 19/100\n",
      "3/3 [==============================] - 0s 93ms/step - loss: 2.8643 - val_loss: 3.0765\n",
      "Epoch 20/100\n",
      "3/3 [==============================] - 0s 75ms/step - loss: 2.8463 - val_loss: 3.0750\n",
      "Epoch 21/100\n",
      "3/3 [==============================] - 0s 102ms/step - loss: 2.8120 - val_loss: 3.0164\n",
      "Epoch 22/100\n",
      "3/3 [==============================] - 0s 76ms/step - loss: 2.7919 - val_loss: 2.9684\n",
      "Epoch 23/100\n",
      "3/3 [==============================] - 0s 81ms/step - loss: 2.7792 - val_loss: 2.9682\n",
      "Epoch 24/100\n",
      "3/3 [==============================] - 0s 68ms/step - loss: 2.7511 - val_loss: 2.9676\n",
      "Epoch 25/100\n",
      "3/3 [==============================] - 0s 97ms/step - loss: 2.7364 - val_loss: 2.9811\n",
      "Epoch 26/100\n",
      "3/3 [==============================] - 0s 100ms/step - loss: 2.7131 - val_loss: 2.9420\n",
      "Epoch 27/100\n",
      "3/3 [==============================] - ETA: 0s - loss: 2.774 - 0s 95ms/step - loss: 2.6963 - val_loss: 2.9021\n",
      "Epoch 28/100\n",
      "3/3 [==============================] - 0s 98ms/step - loss: 2.6904 - val_loss: 2.8771\n",
      "Epoch 29/100\n",
      "3/3 [==============================] - 0s 128ms/step - loss: 2.6662 - val_loss: 2.8729\n",
      "Epoch 30/100\n",
      "3/3 [==============================] - 0s 112ms/step - loss: 2.6552 - val_loss: 2.8969\n",
      "Epoch 31/100\n",
      "3/3 [==============================] - 0s 81ms/step - loss: 2.6504 - val_loss: 2.9243\n",
      "Epoch 32/100\n",
      "3/3 [==============================] - 0s 93ms/step - loss: 2.6350 - val_loss: 2.9343\n",
      "Epoch 33/100\n",
      "3/3 [==============================] - 0s 89ms/step - loss: 2.6290 - val_loss: 2.8097\n",
      "Epoch 34/100\n",
      "3/3 [==============================] - 0s 102ms/step - loss: 2.6170 - val_loss: 2.7465\n",
      "Epoch 35/100\n",
      "3/3 [==============================] - 0s 99ms/step - loss: 2.6131 - val_loss: 2.7829\n",
      "Epoch 36/100\n",
      "3/3 [==============================] - 0s 98ms/step - loss: 2.5961 - val_loss: 2.8326\n",
      "Epoch 37/100\n",
      "3/3 [==============================] - 0s 96ms/step - loss: 2.5803 - val_loss: 2.8131\n",
      "Epoch 38/100\n",
      "3/3 [==============================] - 0s 69ms/step - loss: 2.5751 - val_loss: 2.7392\n",
      "Epoch 39/100\n",
      "3/3 [==============================] - 0s 66ms/step - loss: 2.5616 - val_loss: 2.7340\n",
      "Epoch 40/100\n",
      "3/3 [==============================] - 0s 57ms/step - loss: 2.5596 - val_loss: 2.6939\n",
      "Epoch 41/100\n",
      "3/3 [==============================] - 0s 58ms/step - loss: 2.5547 - val_loss: 2.7121\n",
      "Epoch 42/100\n",
      "3/3 [==============================] - 0s 50ms/step - loss: 2.5398 - val_loss: 2.7092\n",
      "Epoch 43/100\n",
      "3/3 [==============================] - 0s 92ms/step - loss: 2.5449 - val_loss: 2.7350\n",
      "Epoch 44/100\n",
      "3/3 [==============================] - 0s 90ms/step - loss: 2.5227 - val_loss: 2.7172\n",
      "Epoch 45/100\n",
      "3/3 [==============================] - 0s 76ms/step - loss: 2.5247 - val_loss: 2.7479\n",
      "Epoch 46/100\n",
      "3/3 [==============================] - 0s 85ms/step - loss: 2.5092 - val_loss: 2.7360\n",
      "Epoch 47/100\n",
      "3/3 [==============================] - 0s 107ms/step - loss: 2.5134 - val_loss: 2.7030\n",
      "Epoch 48/100\n",
      "3/3 [==============================] - 0s 128ms/step - loss: 2.5168 - val_loss: 2.6411\n",
      "Epoch 49/100\n",
      "3/3 [==============================] - 0s 92ms/step - loss: 2.5036 - val_loss: 2.6834\n",
      "Epoch 50/100\n",
      "3/3 [==============================] - 0s 104ms/step - loss: 2.5024 - val_loss: 2.6810\n",
      "Epoch 51/100\n",
      "3/3 [==============================] - 0s 117ms/step - loss: 2.4902 - val_loss: 2.6702\n",
      "Epoch 52/100\n",
      "3/3 [==============================] - 0s 94ms/step - loss: 2.4857 - val_loss: 2.7018\n",
      "Epoch 53/100\n",
      "3/3 [==============================] - 0s 113ms/step - loss: 2.4854 - val_loss: 2.7071\n",
      "Epoch 54/100\n",
      "3/3 [==============================] - 0s 78ms/step - loss: 2.4688 - val_loss: 2.6640\n",
      "Epoch 55/100\n",
      "3/3 [==============================] - ETA: 0s - loss: 2.465 - 0s 92ms/step - loss: 2.4743 - val_loss: 2.6664\n",
      "Epoch 56/100\n",
      "3/3 [==============================] - ETA: 0s - loss: 2.569 - 0s 81ms/step - loss: 2.4757 - val_loss: 2.6749\n",
      "Epoch 57/100\n",
      "3/3 [==============================] - 0s 123ms/step - loss: 2.4673 - val_loss: 2.7475\n",
      "Epoch 58/100\n",
      "3/3 [==============================] - 0s 120ms/step - loss: 2.4712 - val_loss: 2.6419\n",
      "Epoch 59/100\n",
      "3/3 [==============================] - 0s 127ms/step - loss: 2.4651 - val_loss: 2.6026\n",
      "Epoch 60/100\n",
      "3/3 [==============================] - 0s 97ms/step - loss: 2.4731 - val_loss: 2.5832\n",
      "Epoch 61/100\n",
      "3/3 [==============================] - 0s 108ms/step - loss: 2.4584 - val_loss: 2.6477\n",
      "Epoch 62/100\n",
      "3/3 [==============================] - 0s 108ms/step - loss: 2.4565 - val_loss: 2.7306\n",
      "Epoch 63/100\n",
      "3/3 [==============================] - 0s 63ms/step - loss: 2.4534 - val_loss: 2.6784\n",
      "Epoch 64/100\n",
      "3/3 [==============================] - 0s 55ms/step - loss: 2.4667 - val_loss: 2.6020\n",
      "Epoch 65/100\n",
      "3/3 [==============================] - 0s 50ms/step - loss: 2.4451 - val_loss: 2.6415\n",
      "Epoch 66/100\n",
      "3/3 [==============================] - 0s 50ms/step - loss: 2.4471 - val_loss: 2.6543\n",
      "Epoch 67/100\n",
      "3/3 [==============================] - 0s 86ms/step - loss: 2.4554 - val_loss: 2.6388\n",
      "Epoch 68/100\n",
      "3/3 [==============================] - 0s 96ms/step - loss: 2.4438 - val_loss: 2.6652\n",
      "Epoch 69/100\n",
      "3/3 [==============================] - 0s 113ms/step - loss: 2.4266 - val_loss: 2.6601\n",
      "Epoch 70/100\n",
      "3/3 [==============================] - 0s 96ms/step - loss: 2.4267 - val_loss: 2.6102\n",
      "Epoch 71/100\n",
      "3/3 [==============================] - 0s 90ms/step - loss: 2.4312 - val_loss: 2.6374\n",
      "Epoch 72/100\n",
      "3/3 [==============================] - 0s 104ms/step - loss: 2.4305 - val_loss: 2.6377\n",
      "Epoch 73/100\n",
      "3/3 [==============================] - 0s 102ms/step - loss: 2.4350 - val_loss: 2.6237\n",
      "Epoch 74/100\n",
      "3/3 [==============================] - 0s 87ms/step - loss: 2.4252 - val_loss: 2.6481\n",
      "Epoch 75/100\n",
      "3/3 [==============================] - 0s 84ms/step - loss: 2.4243 - val_loss: 2.6080\n",
      "Epoch 76/100\n",
      "3/3 [==============================] - 0s 77ms/step - loss: 2.4182 - val_loss: 2.5916\n",
      "Epoch 77/100\n",
      "3/3 [==============================] - 0s 81ms/step - loss: 2.4209 - val_loss: 2.5853\n",
      "Epoch 78/100\n",
      "3/3 [==============================] - 0s 99ms/step - loss: 2.4220 - val_loss: 2.6227\n",
      "Epoch 79/100\n",
      "3/3 [==============================] - 0s 88ms/step - loss: 2.4301 - val_loss: 2.6818\n",
      "Epoch 80/100\n",
      "3/3 [==============================] - 0s 91ms/step - loss: 2.4142 - val_loss: 2.6487\n"
     ]
    },
    {
     "name": "stdout",
     "output_type": "stream",
     "text": [
      "Epoch 81/100\n",
      "3/3 [==============================] - 0s 110ms/step - loss: 2.4274 - val_loss: 2.6098\n",
      "Epoch 82/100\n",
      "3/3 [==============================] - 0s 77ms/step - loss: 2.4115 - val_loss: 2.5883\n",
      "Epoch 83/100\n",
      "3/3 [==============================] - 0s 84ms/step - loss: 2.4211 - val_loss: 2.5969\n",
      "Epoch 84/100\n",
      "3/3 [==============================] - 0s 67ms/step - loss: 2.4214 - val_loss: 2.6209\n",
      "Epoch 85/100\n",
      "3/3 [==============================] - 0s 61ms/step - loss: 2.4078 - val_loss: 2.6301\n",
      "Epoch 86/100\n",
      "3/3 [==============================] - 0s 76ms/step - loss: 2.4100 - val_loss: 2.6234\n",
      "Epoch 87/100\n",
      "3/3 [==============================] - 0s 88ms/step - loss: 2.4237 - val_loss: 2.6324\n",
      "Epoch 88/100\n",
      "3/3 [==============================] - 0s 56ms/step - loss: 2.4026 - val_loss: 2.5456\n",
      "Epoch 89/100\n",
      "3/3 [==============================] - 0s 74ms/step - loss: 2.4128 - val_loss: 2.5506\n",
      "Epoch 90/100\n",
      "3/3 [==============================] - 0s 65ms/step - loss: 2.3991 - val_loss: 2.6257\n",
      "Epoch 91/100\n",
      "3/3 [==============================] - 0s 58ms/step - loss: 2.3986 - val_loss: 2.6217\n",
      "Epoch 92/100\n",
      "3/3 [==============================] - 0s 51ms/step - loss: 2.4028 - val_loss: 2.5679\n",
      "Epoch 93/100\n",
      "3/3 [==============================] - 0s 42ms/step - loss: 2.4033 - val_loss: 2.5775\n",
      "Epoch 94/100\n",
      "3/3 [==============================] - 0s 77ms/step - loss: 2.3993 - val_loss: 2.6027\n",
      "Epoch 95/100\n",
      "3/3 [==============================] - 0s 86ms/step - loss: 2.3944 - val_loss: 2.5622\n",
      "Epoch 96/100\n",
      "3/3 [==============================] - 0s 78ms/step - loss: 2.4107 - val_loss: 2.5534\n",
      "Epoch 97/100\n",
      "3/3 [==============================] - 0s 61ms/step - loss: 2.3891 - val_loss: 2.6037\n",
      "Epoch 98/100\n",
      "3/3 [==============================] - 0s 66ms/step - loss: 2.4086 - val_loss: 2.5788\n",
      "Epoch 99/100\n",
      "3/3 [==============================] - 0s 76ms/step - loss: 2.4029 - val_loss: 2.6017\n",
      "Epoch 100/100\n",
      "3/3 [==============================] - 0s 77ms/step - loss: 2.3912 - val_loss: 2.5622\n"
     ]
    }
   ],
   "source": [
    "history = model.fit(X_train, y_train_grid, epochs=100,\n",
    "                    validation_data=(X_valid, y_valid_grid))"
   ]
  },
  {
   "cell_type": "code",
   "execution_count": 31,
   "id": "390834c9",
   "metadata": {},
   "outputs": [
    {
     "data": {
      "image/png": "[encoded data removed]",
      "text/plain": [
       "<Figure size 576x360 with 1 Axes>"
      ]
     },
     "metadata": {
      "needs_background": "light"
     },
     "output_type": "display_data"
    }
   ],
   "source": [
    "import pandas as pd\n",
    "\n",
    "pd.DataFrame(history.history).plot(figsize=(8, 5))\n",
    "plt.grid(True)\n",
    "# plt.gca().set_ylim(0, 1)\n",
    "plt.show()"
   ]
  },
  {
   "cell_type": "code",
   "execution_count": 32,
   "id": "6fba3b6a",
   "metadata": {},
   "outputs": [
    {
     "name": "stdout",
     "output_type": "stream",
     "text": [
      "X.shape = (None, 1)\n",
      "gauss_grid.shape = (None, 5)\n"
     ]
    },
    {
     "data": {
      "image/png": "[encoded data removed]",
      "text/plain": [
       "<Figure size 432x288 with 1 Axes>"
      ]
     },
     "metadata": {
      "needs_background": "light"
     },
     "output_type": "display_data"
    }
   ],
   "source": [
    "# X_new = np.linspace(-5, 5, 100).reshape(100, 1)\n",
    "# y_new_proba = model.predict(X_new)\n",
    "# y_new = n2g.inv_convert(y_new_proba)\n",
    "#\n",
    "plt.plot(X_train, y_train, \"b.\")\n",
    "# plt.plot(X_new, y_new, \"r-\", linewidth=2, label=\"Predictions\")\n",
    "draw_func((lambda X: n2g.inv_convert(model.predict(X)) ), mark='r-', linewidth=2, label=\"Predictions\")\n",
    "draw_normal_func(func_dict)\n",
    "plt.xlabel(\"$x_1$\", fontsize=18)\n",
    "plt.ylabel(\"$y$\", rotation=0, fontsize=18)\n",
    "plt.legend(loc=\"upper left\", fontsize=14)\n",
    "# plt.axis([-3, 3, 0, 10])\n",
    "plt.show()"
   ]
  },
  {
   "cell_type": "code",
   "execution_count": 33,
   "id": "3d42763b",
   "metadata": {},
   "outputs": [
    {
     "name": "stdout",
     "output_type": "stream",
     "text": [
      "y_func.shape = (100, 1)\n",
      "y_gt.shape = (100, 1)\n"
     ]
    },
    {
     "data": {
      "text/plain": [
       "2.988800578086221"
      ]
     },
     "execution_count": 33,
     "metadata": {},
     "output_type": "execute_result"
    }
   ],
   "source": [
    "get_prediction_error((lambda X: n2g.inv_convert(model.predict(X)) ), func_dict)"
   ]
  },
  {
   "cell_type": "code",
   "execution_count": 34,
   "id": "edcf26db",
   "metadata": {},
   "outputs": [
    {
     "data": {
      "text/plain": [
       "<matplotlib.collections.QuadMesh at 0x7ffa07acf2b0>"
      ]
     },
     "execution_count": 34,
     "metadata": {},
     "output_type": "execute_result"
    },
    {
     "data": {
      "image/png": "[encoded data removed]",
      "text/plain": [
       "<Figure size 432x288 with 1 Axes>"
      ]
     },
     "metadata": {
      "needs_background": "light"
     },
     "output_type": "display_data"
    }
   ],
   "source": [
    "X_new = np.linspace(-5, 5, 100).reshape(100, 1)\n",
    "y_new_proba = model.predict(X_new)\n",
    "# y_new = n2g.inv_convert(y_new_proba)\n",
    "#\n",
    "xv, yv = np.meshgrid(X_new, np.linspace(n2g.x_min, n2g.x_max, n2g.units))\n",
    "# print(xv)\n",
    "# print(yv)\n",
    "plt.pcolormesh(xv, yv, y_new_proba.T, shading=\"nearest\")"
   ]
  },
  {
   "cell_type": "markdown",
   "id": "4064d3b5",
   "metadata": {},
   "source": [
    "### Draw the 1-sigma boundary line"
   ]
  },
  {
   "cell_type": "code",
   "execution_count": 35,
   "id": "247e8712",
   "metadata": {},
   "outputs": [
    {
     "data": {
      "image/png": "[encoded data removed]",
      "text/plain": [
       "<Figure size 432x288 with 1 Axes>"
      ]
     },
     "metadata": {
      "needs_background": "light"
     },
     "output_type": "display_data"
    }
   ],
   "source": [
    "def n_sigma_boundary_line(X, n):\n",
    "    _mean, _sigma = n2g.get_statistic(model.predict(X))\n",
    "    return( _mean + n*_sigma)\n",
    "\n",
    "plt.plot(X_train, y_train, \"b.\")\n",
    "#\n",
    "draw_func((lambda X: n2g.inv_convert(model.predict(X)) ), mark='r-', linewidth=2, label=\"Predictions\")\n",
    "draw_func((lambda X: n_sigma_boundary_line(X, +1.0) ), mark='k--', linewidth=1, label=\"$\\mu+\\sigma$\")\n",
    "draw_func((lambda X: n_sigma_boundary_line(X, -1.0) ), mark='k--', linewidth=1, label=\"$\\mu-\\sigma$\")\n",
    "#\n",
    "draw_normal_func(func_dict)\n",
    "plt.xlabel(\"$x_1$\", fontsize=18)\n",
    "plt.ylabel(\"$y$\", rotation=0, fontsize=18)\n",
    "plt.legend(loc=\"upper left\", fontsize=14)\n",
    "# plt.axis([-3, 3, 0, 10])\n",
    "plt.show()"
   ]
  },
  {
   "cell_type": "code",
   "execution_count": null,
   "id": "e6266336",
   "metadata": {},
   "outputs": [],
   "source": []
  },
  {
   "cell_type": "markdown",
   "id": "99a85ab5",
   "metadata": {},
   "source": [
    "# Grid & Regression by Classification + Offset Estimation (grid --> grid,num)"
   ]
  },
  {
   "cell_type": "code",
   "execution_count": 36,
   "id": "26440167",
   "metadata": {},
   "outputs": [],
   "source": [
    "class num2gridOffset_np():\n",
    "    def __init__(self, units, x_min=-10, x_max=10):\n",
    "        self.units = units\n",
    "        self.x_min = x_min\n",
    "        self.x_max = x_max\n",
    "        self.x_grid = np.linspace(self.x_min, self.x_max, self.units, endpoint=True)\n",
    "        # bins\n",
    "        x_space = np.average(self.x_grid[1:] - self.x_grid[:-1])\n",
    "        print(\"x_space = %f\" % x_space)\n",
    "        x_0 = self.x_grid[0] - 0.5 * x_space\n",
    "        self.x_bins = [x_0 + _i*x_space for _i in range(len(self.x_grid)+1)]\n",
    "        print(\"self.x_grid = %s\" % str(self.x_grid))\n",
    "#         print(\"self.x_bins = %s\" % str(self.x_bins))\n",
    "        \n",
    "    def convert(self, X):\n",
    "        '''\n",
    "        Convert a batch of number to one-hot class and numerical offset to each grid's center\n",
    "        (m, 1) --> (m, n_units, 2)\n",
    "        '''\n",
    "        X = np.array(X)\n",
    "        if len(X.shape) <= 1:\n",
    "            X = X.reshape((-1,1))\n",
    "        idxs_bin = np.digitize(X, self.x_bins, right=False) \n",
    "        idxs_grid = (idxs_bin - 1) + 1*(idxs_bin<= 0) - 1*(idxs_bin>=self.units)\n",
    "        print(idxs_grid.shape)\n",
    "        #\n",
    "        batch_size = X.shape[0]\n",
    "        grid = np.zeros((batch_size, self.units, 2))\n",
    "        # Fill in the values\n",
    "        grid[np.arange(batch_size), idxs_grid.reshape((-1,)), 0] = 1.0\n",
    "        grid[np.arange(batch_size), :, 1] = X - self.x_grid.reshape((1,-1)) # Offset\n",
    "        return grid\n",
    "    \n",
    "    def inv_convert(self, grid):\n",
    "        idxs_grid = np.argmax(grid[...,0], axis=1)\n",
    "        print(idxs_grid.shape)\n",
    "        #\n",
    "        batch_size = grid.shape[0]\n",
    "        offset_est = grid[np.arange(batch_size),idxs_grid,1]\n",
    "        print(offset_est.shape)\n",
    "        num_est = self.x_grid[idxs_grid].reshape((1,-1)) + offset_est\n",
    "        return num_est.reshape((-1,))"
   ]
  },
  {
   "cell_type": "code",
   "execution_count": 37,
   "id": "8b15e9ff",
   "metadata": {},
   "outputs": [
    {
     "name": "stdout",
     "output_type": "stream",
     "text": [
      "x_space = 22.222222\n",
      "self.x_grid = [-100.          -77.77777778  -55.55555556  -33.33333333  -11.11111111\n",
      "   11.11111111   33.33333333   55.55555556   77.77777778  100.        ]\n"
     ]
    }
   ],
   "source": [
    "class_num = 10 # 10\n",
    "n2go = num2gridOffset_np(class_num, x_min=-100.0, x_max=100.0) "
   ]
  },
  {
   "cell_type": "code",
   "execution_count": 38,
   "id": "8f6e7955",
   "metadata": {},
   "outputs": [
    {
     "name": "stdout",
     "output_type": "stream",
     "text": [
      "(2, 1)\n",
      "[[[   0.           98.8       ]\n",
      "  [   0.           76.57777778]\n",
      "  [   0.           54.35555556]\n",
      "  [   0.           32.13333333]\n",
      "  [   1.            9.91111111]\n",
      "  [   0.          -12.31111111]\n",
      "  [   0.          -34.53333333]\n",
      "  [   0.          -56.75555556]\n",
      "  [   0.          -78.97777778]\n",
      "  [   0.         -101.2       ]]\n",
      "\n",
      " [[   0.          150.5       ]\n",
      "  [   0.          128.27777778]\n",
      "  [   0.          106.05555556]\n",
      "  [   0.           83.83333333]\n",
      "  [   0.           61.61111111]\n",
      "  [   0.           39.38888889]\n",
      "  [   0.           17.16666667]\n",
      "  [   1.           -5.05555556]\n",
      "  [   0.          -27.27777778]\n",
      "  [   0.          -49.5       ]]]\n"
     ]
    }
   ],
   "source": [
    "# grid_1 = n2g.convert(-1.2)\n",
    "grid_1 = n2go.convert([[-1.2], [50.5]])\n",
    "print(grid_1)"
   ]
  },
  {
   "cell_type": "code",
   "execution_count": 39,
   "id": "48840dc5",
   "metadata": {},
   "outputs": [
    {
     "name": "stdout",
     "output_type": "stream",
     "text": [
      "(2,)\n",
      "(2,)\n"
     ]
    },
    {
     "data": {
      "text/plain": [
       "array([-1.2, 50.5])"
      ]
     },
     "execution_count": 39,
     "metadata": {},
     "output_type": "execute_result"
    }
   ],
   "source": [
    "n2go.inv_convert(grid_1)"
   ]
  },
  {
   "cell_type": "markdown",
   "id": "11683cea",
   "metadata": {},
   "source": [
    "### Convert the labels to grid (pre-processing)"
   ]
  },
  {
   "cell_type": "code",
   "execution_count": 40,
   "id": "472997cf",
   "metadata": {},
   "outputs": [
    {
     "name": "stdout",
     "output_type": "stream",
     "text": [
      "(80, 1)\n",
      "(20, 1)\n"
     ]
    }
   ],
   "source": [
    "y_train_grid_offset = n2go.convert(y_train)\n",
    "y_valid_grid_offset = n2go.convert(y_valid)"
   ]
  },
  {
   "cell_type": "code",
   "execution_count": 41,
   "id": "71f08d76",
   "metadata": {},
   "outputs": [
    {
     "name": "stdout",
     "output_type": "stream",
     "text": [
      "(80, 10, 2)\n",
      "(20, 10, 2)\n"
     ]
    }
   ],
   "source": [
    "print(y_train_grid_offset.shape)\n",
    "print(y_valid_grid_offset.shape)"
   ]
  },
  {
   "cell_type": "code",
   "execution_count": 42,
   "id": "84b5b833",
   "metadata": {},
   "outputs": [
    {
     "name": "stdout",
     "output_type": "stream",
     "text": [
      "X.shape = (None, 1)\n",
      "gauss_grid.shape = (None, 5)\n"
     ]
    }
   ],
   "source": [
    "inputs = keras.layers.Input(shape=X_train.shape[1:])\n",
    "#\n",
    "z = num2grid(5,x_min=-10, x_max=10, sigma=3.0)(inputs)\n",
    "z = keras.layers.Dense(30, activation=\"selu\")(z)\n",
    "# Outputs\n",
    "z_proba = keras.layers.Dense(30, activation=\"relu\")(z)\n",
    "z_proba  = keras.layers.Dense(class_num, activation=\"softmax\")(z_proba)\n",
    "z_offset = keras.layers.Dense(class_num, activation=\"relu\")(z)\n",
    "z_offset = keras.layers.Dense(class_num)(z_offset)\n",
    "# Concatenate\n",
    "z_proba  = keras.layers.Reshape([class_num,1])(z_proba)\n",
    "z_offset = keras.layers.Reshape([class_num,1])(z_offset)\n",
    "out_cat = keras.layers.Concatenate(axis=-1)([z_proba, z_offset])\n",
    "#\n",
    "# Models for trainig and real usage\n",
    "model = keras.Model(inputs=[inputs], outputs=[out_cat])"
   ]
  },
  {
   "cell_type": "code",
   "execution_count": 43,
   "id": "e6482574",
   "metadata": {},
   "outputs": [],
   "source": [
    "# Customized loss function\n",
    "\n",
    "cce = keras.losses.CategoricalCrossentropy(reduction=keras.losses.Reduction.NONE)\n",
    "# cce(y_true, y_pred).numpy()\n",
    "\n",
    "def centerLoss_fn(y_true, y_pred):\n",
    "    #\n",
    "    y_true_proba = y_true[...,0]\n",
    "    y_true_value = y_true[...,1]\n",
    "    #\n",
    "    y_pred_proba = y_pred[...,0]\n",
    "    y_pred_value = y_pred[...,1]\n",
    "    \n",
    "    #\n",
    "    cce_loss = cce(y_true_proba, y_pred_proba) / class_num\n",
    "    #\n",
    "    y_true_value_est = tf.reduce_sum((y_true_proba * y_true_value), axis=-1)\n",
    "    y_pred_value_est = tf.reduce_sum((y_true_proba * y_pred_value), axis=-1)\n",
    "#     y_pred_value_est = tf.reduce_sum((y_pred_proba * y_pred_value), axis=-1)\n",
    "    value_loss = tf.abs(y_pred_value_est - y_true_value_est)\n",
    "    \n",
    "    # Total loss\n",
    "#     return (0.5*cce_loss + 0.5*value_loss )\n",
    "    return (0.2*cce_loss + 0.8*value_loss )\n",
    "#     return (cce_loss)\n",
    "#     return (value_loss )"
   ]
  },
  {
   "cell_type": "code",
   "execution_count": 44,
   "id": "60575755",
   "metadata": {},
   "outputs": [
    {
     "name": "stderr",
     "output_type": "stream",
     "text": [
      "/home/benson516/ml/my_env/lib/python3.6/site-packages/keras/optimizer_v2/optimizer_v2.py:356: UserWarning: The `lr` argument is deprecated, use `learning_rate` instead.\n",
      "  \"The `lr` argument is deprecated, use `learning_rate` instead.\")\n"
     ]
    }
   ],
   "source": [
    "# optimizer = keras.optimizers.SGD(lr=0.1, momentum=0.9)\n",
    "optimizer = keras.optimizers.Adam(lr=0.05)\n",
    "model.compile(loss=centerLoss_fn, optimizer=optimizer)"
   ]
  },
  {
   "cell_type": "code",
   "execution_count": 45,
   "id": "09bc47a5",
   "metadata": {
    "scrolled": true
   },
   "outputs": [],
   "source": [
    "# history = model.fit(X_train, y_train_grid_offset, epochs=100,\n",
    "#                     validation_data=(X_valid, y_valid_grid_offset))"
   ]
  },
  {
   "cell_type": "code",
   "execution_count": 46,
   "id": "7ba1fe76",
   "metadata": {},
   "outputs": [],
   "source": [
    "# import pandas as pd\n",
    "\n",
    "# pd.DataFrame(history.history).plot(figsize=(8, 5))\n",
    "# plt.grid(True)\n",
    "# # plt.gca().set_ylim(0, 1)\n",
    "# plt.show()"
   ]
  },
  {
   "cell_type": "code",
   "execution_count": 47,
   "id": "47db8336",
   "metadata": {
    "scrolled": false
   },
   "outputs": [],
   "source": [
    "# plt.plot(X_train, y_train, \"b.\")\n",
    "# draw_func((lambda X: n2go.inv_convert(model.predict(X)) ), mark='r-', linewidth=2, label=\"Predictions\")\n",
    "# draw_normal_func(func_dict)\n",
    "# plt.xlabel(\"$x_1$\", fontsize=18)\n",
    "# plt.ylabel(\"$y$\", rotation=0, fontsize=18)\n",
    "# plt.legend(loc=\"upper left\", fontsize=14)\n",
    "# # plt.axis([-3, 3, 0, 10])\n",
    "# plt.show()"
   ]
  },
  {
   "cell_type": "code",
   "execution_count": 48,
   "id": "e0c12a29",
   "metadata": {},
   "outputs": [],
   "source": [
    "# get_prediction_error((lambda X: n2go.inv_convert(model.predict(X)) ), func_dict)"
   ]
  },
  {
   "cell_type": "code",
   "execution_count": null,
   "id": "e9326b25",
   "metadata": {},
   "outputs": [],
   "source": []
  },
  {
   "cell_type": "markdown",
   "id": "2975cdab",
   "metadata": {},
   "source": [
    "# Parametric Uncertainty/Distribution Estimation\n",
    "\n",
    "In this section, we try to estimate uncertainty (actually, fit the dataset distribution) with parametric reprecentation of a distribution instead of a discretized non-parametric representation.\n",
    "\n",
    "Possible solution includes\n",
    "- Quantile estimation with pinball loss (statistic)\n",
    "- Guassian distribution (fit a prabability distribution)"
   ]
  },
  {
   "cell_type": "markdown",
   "id": "443eb7d0",
   "metadata": {},
   "source": [
    "## Quantile Estimation with Pinball Loss (grid --> parameters)\n",
    "\n",
    "Quantile estimation and pinball loss is based on the concept of statistic, which predict the value based on the rank of samples in the dataset.\n",
    "\n",
    "The outputs of the model are $(y_{10}, y_{90})$, 10% quantile prediction and 90% quantile prediction, respectively."
   ]
  },
  {
   "cell_type": "code",
   "execution_count": 49,
   "id": "20dcb688",
   "metadata": {},
   "outputs": [],
   "source": [
    "# quantile_list = [0.5]\n",
    "quantile_list = [0.1, 0.9]\n",
    "# quantile_list = [0.25, 0.75]\n",
    "# quantile_list = [0.1, 0.5, 0.9]\n",
    "# quantile_list = [0.1, 0.3, 0.7, 0.9]\n",
    "# quantile_list = [0.1, 0.2, 0.3, 0.4, 0.6, 0.7, 0.8, 0.9] # remove 0.5\n",
    "# quantile_list = [0.1, 0.2, 0.3, 0.4, 0.5, 0.6, 0.7, 0.8, 0.9]\n",
    "num_quantile = len(quantile_list)"
   ]
  },
  {
   "cell_type": "code",
   "execution_count": 50,
   "id": "8e3fe57b",
   "metadata": {},
   "outputs": [
    {
     "name": "stdout",
     "output_type": "stream",
     "text": [
      "X.shape = (None, 1)\n",
      "gauss_grid.shape = (None, 5)\n"
     ]
    }
   ],
   "source": [
    "model = keras.models.Sequential([\n",
    "    num2grid(5,x_min=-10, x_max=10, sigma=3.0, input_shape=X_train.shape[1:]),\n",
    "    keras.layers.Dense(30, activation=\"relu\"),\n",
    "#     keras.layers.Dense(60, activation=\"relu\"),\n",
    "#     keras.layers.Dense(30, activation=keras.layers.LeakyReLU(alpha=0.2) ),\n",
    "#     keras.layers.Dense(30, activation=\"selu\"),\n",
    "    keras.layers.Dense(num_quantile) # (y10, y90)\n",
    "])"
   ]
  },
  {
   "cell_type": "code",
   "execution_count": 51,
   "id": "1e4d5aa1",
   "metadata": {},
   "outputs": [],
   "source": [
    "# Customized loss function\n",
    "def pinballLoss_fn(y_true, y_pred, tau):\n",
    "    # tau: quantile, tau in [0.0, 1.0]\n",
    "    # y_true: label mean\n",
    "    # y_pred: predicted tau quantile\n",
    "    _q = y_true - y_pred\n",
    "    return tf.math.maximum( (tau*_q), ((tau-1.0)*_q))\n",
    "    \n",
    "def pinballLoss_10_90_fn(y_true, y_pred):\n",
    "    #\n",
    "    return pinballLoss_fn(y_true, y_pred[:,0:1], 0.1) + pinballLoss_fn(y_true, y_pred[:,1:2], 0.9)\n",
    "\n",
    "def pinballLoss_full_fn(y_true, y_pred):\n",
    "    #\n",
    "    pinball_losses = tf.stack( [pinballLoss_fn(y_true, y_pred[:, _i:(_i+1)], _tau) for _i, _tau in enumerate(quantile_list)], axis=1)\n",
    "    return tf.reduce_sum(pinball_losses, axis=1)"
   ]
  },
  {
   "cell_type": "code",
   "execution_count": 52,
   "id": "a71305d5",
   "metadata": {},
   "outputs": [],
   "source": [
    "# optimizer = keras.optimizers.SGD(lr=0.1, momentum=0.9)\n",
    "optimizer = keras.optimizers.Adam(lr=0.1)\n",
    "# model.compile(loss=pinballLoss_10_90_fn, optimizer=optimizer)\n",
    "model.compile(loss=pinballLoss_full_fn, optimizer=optimizer)"
   ]
  },
  {
   "cell_type": "code",
   "execution_count": 53,
   "id": "d935c409",
   "metadata": {
    "scrolled": true
   },
   "outputs": [
    {
     "name": "stdout",
     "output_type": "stream",
     "text": [
      "Epoch 1/100\n",
      "X.shape = (None, 1)\n",
      "gauss_grid.shape = (None, 5)\n",
      "X.shape = (None, 1)\n",
      "gauss_grid.shape = (None, 5)\n",
      "1/3 [=========>....................] - ETA: 3s - loss: 36.4360X.shape = (None, 1)\n",
      "gauss_grid.shape = (None, 5)\n",
      "3/3 [==============================] - 2s 229ms/step - loss: 41.1929 - val_loss: 31.4419\n",
      "Epoch 2/100\n",
      "3/3 [==============================] - 0s 85ms/step - loss: 36.9872 - val_loss: 26.1718\n",
      "Epoch 3/100\n",
      "3/3 [==============================] - 0s 94ms/step - loss: 29.8341 - val_loss: 18.9375\n",
      "Epoch 4/100\n",
      "3/3 [==============================] - 0s 103ms/step - loss: 21.1913 - val_loss: 12.1124\n",
      "Epoch 5/100\n",
      "3/3 [==============================] - 0s 81ms/step - loss: 14.7611 - val_loss: 11.2233\n",
      "Epoch 6/100\n",
      "3/3 [==============================] - 0s 95ms/step - loss: 12.7701 - val_loss: 12.9929\n",
      "Epoch 7/100\n",
      "3/3 [==============================] - 0s 110ms/step - loss: 13.3611 - val_loss: 12.9955\n",
      "Epoch 8/100\n",
      "3/3 [==============================] - 0s 84ms/step - loss: 12.9785 - val_loss: 11.3826\n",
      "Epoch 9/100\n",
      "3/3 [==============================] - 0s 73ms/step - loss: 11.3835 - val_loss: 9.2708\n",
      "Epoch 10/100\n",
      "3/3 [==============================] - 0s 98ms/step - loss: 9.4011 - val_loss: 7.4467\n",
      "Epoch 11/100\n",
      "3/3 [==============================] - 0s 106ms/step - loss: 7.8795 - val_loss: 5.1181\n",
      "Epoch 12/100\n",
      "3/3 [==============================] - 0s 97ms/step - loss: 6.4279 - val_loss: 4.6293\n",
      "Epoch 13/100\n",
      "3/3 [==============================] - 0s 73ms/step - loss: 6.5092 - val_loss: 5.3156\n",
      "Epoch 14/100\n",
      "3/3 [==============================] - 0s 69ms/step - loss: 5.9220 - val_loss: 5.1020\n",
      "Epoch 15/100\n",
      "3/3 [==============================] - 0s 93ms/step - loss: 5.5800 - val_loss: 5.4626\n",
      "Epoch 16/100\n",
      "3/3 [==============================] - 0s 87ms/step - loss: 5.8028 - val_loss: 5.2621\n",
      "Epoch 17/100\n",
      "3/3 [==============================] - 0s 107ms/step - loss: 5.5714 - val_loss: 5.2179\n",
      "Epoch 18/100\n",
      "3/3 [==============================] - 0s 108ms/step - loss: 5.6082 - val_loss: 5.1358\n",
      "Epoch 19/100\n",
      "3/3 [==============================] - 0s 100ms/step - loss: 5.3172 - val_loss: 4.3314\n",
      "Epoch 20/100\n",
      "3/3 [==============================] - 0s 98ms/step - loss: 5.1430 - val_loss: 4.2343\n",
      "Epoch 21/100\n",
      "3/3 [==============================] - 0s 118ms/step - loss: 5.1087 - val_loss: 4.0633\n",
      "Epoch 22/100\n",
      "3/3 [==============================] - 0s 87ms/step - loss: 4.9918 - val_loss: 4.1415\n",
      "Epoch 23/100\n",
      "3/3 [==============================] - 0s 85ms/step - loss: 5.0539 - val_loss: 3.9690\n",
      "Epoch 24/100\n",
      "3/3 [==============================] - 0s 88ms/step - loss: 4.7145 - val_loss: 4.1619\n",
      "Epoch 25/100\n",
      "3/3 [==============================] - 0s 96ms/step - loss: 5.0390 - val_loss: 4.1163\n",
      "Epoch 26/100\n",
      "3/3 [==============================] - 0s 124ms/step - loss: 4.6038 - val_loss: 4.9459\n",
      "Epoch 27/100\n",
      "3/3 [==============================] - 0s 109ms/step - loss: 5.0044 - val_loss: 5.2457\n",
      "Epoch 28/100\n",
      "3/3 [==============================] - 0s 114ms/step - loss: 4.8797 - val_loss: 3.9644\n",
      "Epoch 29/100\n",
      "3/3 [==============================] - 0s 115ms/step - loss: 4.4308 - val_loss: 4.0084\n",
      "Epoch 30/100\n",
      "3/3 [==============================] - 0s 123ms/step - loss: 4.4667 - val_loss: 3.8786\n",
      "Epoch 31/100\n",
      "3/3 [==============================] - 0s 105ms/step - loss: 4.3861 - val_loss: 4.4303\n",
      "Epoch 32/100\n",
      "3/3 [==============================] - 0s 98ms/step - loss: 4.3713 - val_loss: 4.1972\n",
      "Epoch 33/100\n",
      "3/3 [==============================] - 0s 84ms/step - loss: 4.2238 - val_loss: 4.1627\n",
      "Epoch 34/100\n",
      "3/3 [==============================] - 0s 105ms/step - loss: 4.2069 - val_loss: 4.0643\n",
      "Epoch 35/100\n",
      "3/3 [==============================] - 0s 90ms/step - loss: 4.1463 - val_loss: 3.7754\n",
      "Epoch 36/100\n",
      "3/3 [==============================] - 0s 64ms/step - loss: 4.0295 - val_loss: 3.6811\n",
      "Epoch 37/100\n",
      "3/3 [==============================] - 0s 73ms/step - loss: 4.0659 - val_loss: 3.5884\n",
      "Epoch 38/100\n",
      "3/3 [==============================] - 0s 58ms/step - loss: 4.0498 - val_loss: 3.6073\n",
      "Epoch 39/100\n",
      "3/3 [==============================] - 0s 52ms/step - loss: 3.9318 - val_loss: 3.9243\n",
      "Epoch 40/100\n",
      "3/3 [==============================] - 0s 57ms/step - loss: 3.8737 - val_loss: 3.9672\n",
      "Epoch 41/100\n",
      "3/3 [==============================] - 0s 88ms/step - loss: 3.8492 - val_loss: 3.8905\n",
      "Epoch 42/100\n",
      "3/3 [==============================] - 0s 81ms/step - loss: 3.7785 - val_loss: 3.9352\n",
      "Epoch 43/100\n",
      "3/3 [==============================] - 0s 130ms/step - loss: 3.7407 - val_loss: 3.5838\n",
      "Epoch 44/100\n",
      "3/3 [==============================] - 0s 112ms/step - loss: 3.6176 - val_loss: 3.7215\n",
      "Epoch 45/100\n",
      "3/3 [==============================] - 0s 110ms/step - loss: 3.7304 - val_loss: 3.4294\n",
      "Epoch 46/100\n",
      "3/3 [==============================] - 0s 111ms/step - loss: 3.5954 - val_loss: 3.3202\n",
      "Epoch 47/100\n",
      "3/3 [==============================] - 0s 113ms/step - loss: 3.5677 - val_loss: 3.4789\n",
      "Epoch 48/100\n",
      "3/3 [==============================] - 0s 95ms/step - loss: 3.3975 - val_loss: 3.2501\n",
      "Epoch 49/100\n",
      "3/3 [==============================] - 0s 113ms/step - loss: 3.4815 - val_loss: 3.3457\n",
      "Epoch 50/100\n",
      "3/3 [==============================] - 0s 121ms/step - loss: 3.5719 - val_loss: 3.6268\n",
      "Epoch 51/100\n",
      "3/3 [==============================] - 0s 117ms/step - loss: 3.4716 - val_loss: 3.7113\n",
      "Epoch 52/100\n",
      "3/3 [==============================] - 0s 106ms/step - loss: 3.6454 - val_loss: 3.6564\n",
      "Epoch 53/100\n",
      "3/3 [==============================] - 0s 123ms/step - loss: 3.5953 - val_loss: 3.4830\n",
      "Epoch 54/100\n",
      "3/3 [==============================] - 0s 135ms/step - loss: 3.2252 - val_loss: 3.3157\n",
      "Epoch 55/100\n",
      "3/3 [==============================] - 0s 100ms/step - loss: 3.1692 - val_loss: 3.2728\n",
      "Epoch 56/100\n",
      "3/3 [==============================] - 0s 121ms/step - loss: 3.1485 - val_loss: 3.2051\n",
      "Epoch 57/100\n",
      "3/3 [==============================] - 0s 117ms/step - loss: 3.1863 - val_loss: 3.1916\n",
      "Epoch 58/100\n",
      "3/3 [==============================] - 0s 122ms/step - loss: 3.0736 - val_loss: 2.9785\n",
      "Epoch 59/100\n",
      "3/3 [==============================] - 0s 81ms/step - loss: 2.9478 - val_loss: 3.0992\n",
      "Epoch 60/100\n",
      "3/3 [==============================] - 0s 53ms/step - loss: 3.0388 - val_loss: 3.2325\n",
      "Epoch 61/100\n",
      "3/3 [==============================] - 0s 59ms/step - loss: 2.9653 - val_loss: 3.1876\n",
      "Epoch 62/100\n",
      "3/3 [==============================] - 0s 75ms/step - loss: 3.3242 - val_loss: 3.2181\n",
      "Epoch 63/100\n",
      "3/3 [==============================] - 0s 113ms/step - loss: 3.0326 - val_loss: 3.3715\n",
      "Epoch 64/100\n",
      "3/3 [==============================] - 0s 122ms/step - loss: 3.2037 - val_loss: 2.9413\n",
      "Epoch 65/100\n",
      "3/3 [==============================] - 0s 108ms/step - loss: 2.9122 - val_loss: 2.8072\n",
      "Epoch 66/100\n",
      "3/3 [==============================] - 0s 118ms/step - loss: 2.7347 - val_loss: 3.0679\n",
      "Epoch 67/100\n",
      "3/3 [==============================] - 0s 114ms/step - loss: 2.8675 - val_loss: 3.1762\n",
      "Epoch 68/100\n",
      "3/3 [==============================] - 0s 115ms/step - loss: 3.0916 - val_loss: 3.1864\n",
      "Epoch 69/100\n",
      "3/3 [==============================] - 0s 124ms/step - loss: 2.9537 - val_loss: 3.3982\n",
      "Epoch 70/100\n",
      "3/3 [==============================] - 0s 125ms/step - loss: 2.9301 - val_loss: 3.4019\n",
      "Epoch 71/100\n",
      "3/3 [==============================] - 0s 109ms/step - loss: 3.4721 - val_loss: 3.1194\n",
      "Epoch 72/100\n",
      "3/3 [==============================] - 0s 104ms/step - loss: 3.0451 - val_loss: 3.0564\n",
      "Epoch 73/100\n",
      "3/3 [==============================] - 0s 94ms/step - loss: 2.9163 - val_loss: 3.0087\n",
      "Epoch 74/100\n",
      "3/3 [==============================] - 0s 109ms/step - loss: 2.9607 - val_loss: 2.8032\n",
      "Epoch 75/100\n",
      "3/3 [==============================] - 0s 92ms/step - loss: 2.6456 - val_loss: 2.7007\n",
      "Epoch 76/100\n",
      "3/3 [==============================] - 0s 86ms/step - loss: 2.5240 - val_loss: 2.7590\n",
      "Epoch 77/100\n",
      "3/3 [==============================] - 0s 94ms/step - loss: 2.5792 - val_loss: 2.7490\n",
      "Epoch 78/100\n",
      "3/3 [==============================] - 0s 107ms/step - loss: 2.7488 - val_loss: 2.7417\n",
      "Epoch 79/100\n",
      "3/3 [==============================] - 0s 78ms/step - loss: 2.5945 - val_loss: 2.8674\n",
      "Epoch 80/100\n",
      "3/3 [==============================] - 0s 63ms/step - loss: 2.7668 - val_loss: 2.8513\n",
      "Epoch 81/100\n"
     ]
    },
    {
     "name": "stdout",
     "output_type": "stream",
     "text": [
      "3/3 [==============================] - 0s 65ms/step - loss: 2.5944 - val_loss: 2.6708\n",
      "Epoch 82/100\n",
      "3/3 [==============================] - 0s 46ms/step - loss: 2.5679 - val_loss: 2.6216\n",
      "Epoch 83/100\n",
      "3/3 [==============================] - 0s 54ms/step - loss: 2.4804 - val_loss: 2.8221\n",
      "Epoch 84/100\n",
      "3/3 [==============================] - 0s 56ms/step - loss: 2.6169 - val_loss: 2.8403\n",
      "Epoch 85/100\n",
      "3/3 [==============================] - 0s 109ms/step - loss: 2.5313 - val_loss: 2.5369\n",
      "Epoch 86/100\n",
      "3/3 [==============================] - 0s 131ms/step - loss: 2.7298 - val_loss: 2.8393\n",
      "Epoch 87/100\n",
      "3/3 [==============================] - 0s 118ms/step - loss: 2.7518 - val_loss: 3.2081\n",
      "Epoch 88/100\n",
      "3/3 [==============================] - 0s 124ms/step - loss: 2.8988 - val_loss: 2.6736\n",
      "Epoch 89/100\n",
      "3/3 [==============================] - 0s 107ms/step - loss: 2.7457 - val_loss: 2.7349\n",
      "Epoch 90/100\n",
      "3/3 [==============================] - 0s 118ms/step - loss: 2.5886 - val_loss: 2.7368\n",
      "Epoch 91/100\n",
      "3/3 [==============================] - 0s 78ms/step - loss: 2.5605 - val_loss: 2.5992\n",
      "Epoch 92/100\n",
      "3/3 [==============================] - 0s 123ms/step - loss: 2.5919 - val_loss: 2.8898\n",
      "Epoch 93/100\n",
      "3/3 [==============================] - 0s 127ms/step - loss: 2.5591 - val_loss: 2.5902\n",
      "Epoch 94/100\n",
      "3/3 [==============================] - 0s 112ms/step - loss: 2.5828 - val_loss: 2.5638\n",
      "Epoch 95/100\n",
      "3/3 [==============================] - 0s 70ms/step - loss: 2.7148 - val_loss: 2.9342\n",
      "Epoch 96/100\n",
      "3/3 [==============================] - 0s 120ms/step - loss: 2.7532 - val_loss: 2.9082\n",
      "Epoch 97/100\n",
      "3/3 [==============================] - 0s 121ms/step - loss: 2.7792 - val_loss: 2.5269\n",
      "Epoch 98/100\n",
      "3/3 [==============================] - 0s 109ms/step - loss: 2.6322 - val_loss: 2.6252\n",
      "Epoch 99/100\n",
      "3/3 [==============================] - 0s 87ms/step - loss: 2.5802 - val_loss: 2.6112\n",
      "Epoch 100/100\n",
      "3/3 [==============================] - 0s 113ms/step - loss: 2.5763 - val_loss: 2.5426\n"
     ]
    }
   ],
   "source": [
    "history = model.fit(X_train, y_train, epochs=100,\n",
    "                    validation_data=(X_valid, y_valid))"
   ]
  },
  {
   "cell_type": "code",
   "execution_count": 54,
   "id": "e7fa5656",
   "metadata": {
    "scrolled": false
   },
   "outputs": [
    {
     "data": {
      "image/png": "[encoded data removed]",
      "text/plain": [
       "<Figure size 576x360 with 1 Axes>"
      ]
     },
     "metadata": {
      "needs_background": "light"
     },
     "output_type": "display_data"
    }
   ],
   "source": [
    "import pandas as pd\n",
    "\n",
    "pd.DataFrame(history.history).plot(figsize=(8, 5))\n",
    "plt.grid(True)\n",
    "# plt.gca().set_ylim(0, 1)\n",
    "plt.show()"
   ]
  },
  {
   "cell_type": "markdown",
   "id": "64cdd8b4",
   "metadata": {},
   "source": [
    "### Draw the mean prediction curve averaged from all quantile predictions."
   ]
  },
  {
   "cell_type": "code",
   "execution_count": 55,
   "id": "ddf9a238",
   "metadata": {},
   "outputs": [
    {
     "name": "stdout",
     "output_type": "stream",
     "text": [
      "X.shape = (None, 1)\n",
      "gauss_grid.shape = (None, 5)\n"
     ]
    },
    {
     "data": {
      "image/png": "[encoded data removed]",
      "text/plain": [
       "<Figure size 432x288 with 1 Axes>"
      ]
     },
     "metadata": {
      "needs_background": "light"
     },
     "output_type": "display_data"
    }
   ],
   "source": [
    "plt.plot(X_train, y_train, \"b.\")\n",
    "draw_func((lambda X: np.average(model.predict(X), axis=-1) ), mark='r-', linewidth=2, label=\"Predictions\")\n",
    "# draw_func((lambda X: model.predict(X)[:,0] ), mark='k--', linewidth=1, label=\"$y_{%d}$\" % (quantile_list[0]*100))\n",
    "# draw_func((lambda X: model.predict(X)[:,-1] ), mark='k--', linewidth=1, label=\"$y_{%d}$\" % (quantile_list[-1]*100))\n",
    "draw_normal_func(func_dict)\n",
    "plt.xlabel(\"$x_1$\", fontsize=18)\n",
    "plt.ylabel(\"$y$\", rotation=0, fontsize=18)\n",
    "plt.legend(loc=\"upper left\", fontsize=14)\n",
    "# plt.axis([-3, 3, 0, 10])\n",
    "plt.show()"
   ]
  },
  {
   "cell_type": "code",
   "execution_count": 56,
   "id": "ccd38218",
   "metadata": {},
   "outputs": [
    {
     "name": "stdout",
     "output_type": "stream",
     "text": [
      "y_func.shape = (100, 1)\n",
      "y_gt.shape = (100, 1)\n"
     ]
    },
    {
     "data": {
      "text/plain": [
       "2.1408922501525485"
      ]
     },
     "execution_count": 56,
     "metadata": {},
     "output_type": "execute_result"
    }
   ],
   "source": [
    "get_prediction_error((lambda X: np.average(model.predict(X), axis=-1) ), func_dict)"
   ]
  },
  {
   "cell_type": "markdown",
   "id": "d18a4d35",
   "metadata": {},
   "source": [
    "### Draw first and last quantile curve."
   ]
  },
  {
   "cell_type": "code",
   "execution_count": 57,
   "id": "42eeb254",
   "metadata": {},
   "outputs": [
    {
     "data": {
      "image/png": "[encoded data removed]",
      "text/plain": [
       "<Figure size 432x288 with 1 Axes>"
      ]
     },
     "metadata": {
      "needs_background": "light"
     },
     "output_type": "display_data"
    }
   ],
   "source": [
    "plt.plot(X_train, y_train, \"b.\")\n",
    "draw_func((lambda X: np.average(model.predict(X), axis=-1) ), mark='r-', linewidth=2, label=\"Predictions\")\n",
    "draw_func((lambda X: model.predict(X)[:,0] ), mark='k--', linewidth=1, label=\"$y_{%d}$\" % (quantile_list[0]*100))\n",
    "draw_func((lambda X: model.predict(X)[:,-1] ), mark='k--', linewidth=1, label=\"$y_{%d}$\" % (quantile_list[-1]*100))\n",
    "draw_normal_func(func_dict)\n",
    "plt.xlabel(\"$x_1$\", fontsize=18)\n",
    "plt.ylabel(\"$y$\", rotation=0, fontsize=18)\n",
    "plt.legend(loc=\"upper left\", fontsize=14)\n",
    "# plt.axis([-3, 3, 0, 10])\n",
    "plt.show()"
   ]
  },
  {
   "cell_type": "markdown",
   "id": "f9739471",
   "metadata": {},
   "source": [
    "### Draw all quantile predictions"
   ]
  },
  {
   "cell_type": "code",
   "execution_count": 58,
   "id": "e36e0978",
   "metadata": {},
   "outputs": [
    {
     "data": {
      "image/png": "[encoded data removed]",
      "text/plain": [
       "<Figure size 432x288 with 1 Axes>"
      ]
     },
     "metadata": {
      "needs_background": "light"
     },
     "output_type": "display_data"
    }
   ],
   "source": [
    "plt.plot(X_train, y_train, \"b.\")\n",
    "draw_func((lambda X: np.average(model.predict(X), axis=-1) ), mark='r-', linewidth=2, label=\"Predictions\")\n",
    "for _idx, _tau in enumerate(quantile_list):\n",
    "    draw_func((lambda X: model.predict(X)[:,_idx] ), mark='k--', linewidth=1, label=\"$y_{%d}$\" % (_tau*100))\n",
    "draw_normal_func(func_dict)\n",
    "plt.xlabel(\"$x_1$\", fontsize=18)\n",
    "plt.ylabel(\"$y$\", rotation=0, fontsize=18)\n",
    "plt.legend(loc=\"upper left\", fontsize=14)\n",
    "# plt.axis([-3, 3, 0, 10])\n",
    "plt.show()"
   ]
  },
  {
   "cell_type": "markdown",
   "id": "a77d6e92",
   "metadata": {},
   "source": [
    "## Gaussian Estimation with Gaussian Loss (grid-->parameters)\n",
    "\n",
    "Gaussain estimation requires the model to predict the mean and variance of a Gaussian distribution of the random variable regarded. The training purpose is to fit a Gaussian distribution to the data distribution (which is not necessay distributed as Gaussian).\n",
    "\n",
    "One possible solution, derived by BensonHuang, is that the model estimates $(\\mu, z)$, where $z=\\alpha ^{-1}log(\\sigma)$.\n",
    "The associated loss function can be $L_G(y, (\\mu,z)) = 0.5e^{-2\\alpha z}(y-\\mu)^2 + \\alpha z$."
   ]
  },
  {
   "cell_type": "code",
   "execution_count": 59,
   "id": "1fe586af",
   "metadata": {},
   "outputs": [],
   "source": [
    "alpha = 1.0\n",
    "# alpha = 0.01\n",
    "# alpha = 0.001"
   ]
  },
  {
   "cell_type": "code",
   "execution_count": 60,
   "id": "f5a18706",
   "metadata": {},
   "outputs": [
    {
     "name": "stdout",
     "output_type": "stream",
     "text": [
      "X.shape = (None, 1)\n",
      "gauss_grid.shape = (None, 5)\n"
     ]
    }
   ],
   "source": [
    "model = keras.models.Sequential([\n",
    "    num2grid(5,x_min=-10, x_max=10, sigma=3.0, input_shape=X_train.shape[1:]),\n",
    "#     keras.layers.Dense(30, activation=\"relu\"),\n",
    "    keras.layers.Dense(60, activation=\"relu\"),\n",
    "#     keras.layers.Dense(30, activation=keras.layers.LeakyReLU(alpha=0.2) ),\n",
    "#     keras.layers.Dense(30, activation=\"selu\"),\n",
    "    keras.layers.Dense(2) # (mu, z)\n",
    "])"
   ]
  },
  {
   "cell_type": "code",
   "execution_count": 61,
   "id": "d6f438b0",
   "metadata": {},
   "outputs": [
    {
     "name": "stdout",
     "output_type": "stream",
     "text": [
      "alpha = 1.000000\n"
     ]
    }
   ],
   "source": [
    "# Customized loss function\n",
    "print(\"alpha = %f\" % alpha)\n",
    "\n",
    "def GaussianLoss_fn(y_true, y_pred):\n",
    "    # y_true: label \n",
    "    # y_pred: (mu, z), z=log(sigma)\n",
    "    mu = y_pred[:, 0:1]\n",
    "    z  = y_pred[:, 1:2]\n",
    "    #\n",
    "    en2z = tf.math.exp((-2.0*alpha)*z)\n",
    "    ymu2 = (y_true - mu)**2\n",
    "    return (0.5*en2z*ymu2 + alpha*z)"
   ]
  },
  {
   "cell_type": "code",
   "execution_count": 62,
   "id": "6a70cbcf",
   "metadata": {},
   "outputs": [],
   "source": [
    "# Learning rate scheduler\n",
    "learning_rate_switch_epoch_list = [30, 45]\n",
    "learning_rate_list = [0.001, 0.01, 0.1]\n",
    "# learning_rate_switch_epoch_list = [30, 80]\n",
    "# learning_rate_list = [0.01, 0.1, 0.01]\n",
    "#\n",
    "def piecewise_constant_fn(epoch):\n",
    "    for _i, epoch_s in enumerate(learning_rate_switch_epoch_list):\n",
    "        if epoch < epoch_s:\n",
    "            return learning_rate_list[_i]\n",
    "    return learning_rate_list[-1]\n",
    "\n",
    "lr_scheduler = keras.callbacks.LearningRateScheduler(piecewise_constant_fn)"
   ]
  },
  {
   "cell_type": "markdown",
   "id": "4e9dd3fc",
   "metadata": {},
   "source": [
    "Third training with even greater speed"
   ]
  },
  {
   "cell_type": "code",
   "execution_count": 63,
   "id": "28605412",
   "metadata": {},
   "outputs": [
    {
     "name": "stderr",
     "output_type": "stream",
     "text": [
      "/home/benson516/ml/my_env/lib/python3.6/site-packages/keras/optimizer_v2/optimizer_v2.py:356: UserWarning: The `lr` argument is deprecated, use `learning_rate` instead.\n",
      "  \"The `lr` argument is deprecated, use `learning_rate` instead.\")\n"
     ]
    }
   ],
   "source": [
    "# optimizer = keras.optimizers.SGD(lr=0.1, momentum=0.9)\n",
    "optimizer = keras.optimizers.Adam(lr=0.1)\n",
    "model.compile(loss=GaussianLoss_fn, optimizer=optimizer)"
   ]
  },
  {
   "cell_type": "code",
   "execution_count": 64,
   "id": "ce90c069",
   "metadata": {
    "scrolled": true
   },
   "outputs": [
    {
     "name": "stdout",
     "output_type": "stream",
     "text": [
      "Epoch 1/200\n",
      "X.shape = (None, 1)\n",
      "gauss_grid.shape = (None, 5)\n",
      "X.shape = (None, 1)\n",
      "gauss_grid.shape = (None, 5)\n",
      "1/3 [=========>....................] - ETA: 1s - loss: 2018.3757X.shape = (None, 1)\n",
      "gauss_grid.shape = (None, 5)\n",
      "3/3 [==============================] - 1s 220ms/step - loss: 826.8021 - val_loss: 5.6381\n",
      "Epoch 2/200\n",
      "3/3 [==============================] - 0s 73ms/step - loss: 7.1565 - val_loss: 11.1639\n",
      "Epoch 3/200\n",
      "3/3 [==============================] - 0s 54ms/step - loss: 12.3785 - val_loss: 15.5405\n",
      "Epoch 4/200\n",
      "3/3 [==============================] - 0s 59ms/step - loss: 16.4220 - val_loss: 18.7373\n",
      "Epoch 5/200\n",
      "3/3 [==============================] - 0s 77ms/step - loss: 19.3175 - val_loss: 20.8831\n",
      "Epoch 6/200\n",
      "3/3 [==============================] - 0s 74ms/step - loss: 21.2231 - val_loss: 22.1679\n",
      "Epoch 7/200\n",
      "3/3 [==============================] - 0s 91ms/step - loss: 22.3409 - val_loss: 22.7605\n",
      "Epoch 8/200\n",
      "3/3 [==============================] - ETA: 0s - loss: 22.72 - 0s 101ms/step - loss: 22.8250 - val_loss: 22.7850\n",
      "Epoch 9/200\n",
      "3/3 [==============================] - 0s 121ms/step - loss: 22.7940 - val_loss: 22.4025\n",
      "Epoch 10/200\n",
      "3/3 [==============================] - 0s 104ms/step - loss: 22.3913 - val_loss: 21.7074\n",
      "Epoch 11/200\n",
      "3/3 [==============================] - 0s 99ms/step - loss: 21.7377 - val_loss: 20.7883\n",
      "Epoch 12/200\n",
      "3/3 [==============================] - 0s 100ms/step - loss: 20.8879 - val_loss: 19.7136\n",
      "Epoch 13/200\n",
      "3/3 [==============================] - 0s 87ms/step - loss: 19.9006 - val_loss: 18.5424\n",
      "Epoch 14/200\n",
      "3/3 [==============================] - 0s 118ms/step - loss: 18.8467 - val_loss: 17.3246\n",
      "Epoch 15/200\n",
      "3/3 [==============================] - 0s 94ms/step - loss: 17.7611 - val_loss: 16.1010\n",
      "Epoch 16/200\n",
      "3/3 [==============================] - 0s 107ms/step - loss: 16.6626 - val_loss: 14.8987\n",
      "Epoch 17/200\n",
      "3/3 [==============================] - 0s 111ms/step - loss: 15.5696 - val_loss: 13.7043\n",
      "Epoch 18/200\n",
      "3/3 [==============================] - 0s 126ms/step - loss: 14.4691 - val_loss: 12.5427\n",
      "Epoch 19/200\n",
      "3/3 [==============================] - 0s 99ms/step - loss: 13.3847 - val_loss: 11.3974\n",
      "Epoch 20/200\n",
      "3/3 [==============================] - 0s 96ms/step - loss: 12.2941 - val_loss: 10.2351\n",
      "Epoch 21/200\n",
      "3/3 [==============================] - 0s 117ms/step - loss: 11.1788 - val_loss: 9.0423\n",
      "Epoch 22/200\n",
      "3/3 [==============================] - 0s 107ms/step - loss: 10.0359 - val_loss: 7.8125\n",
      "Epoch 23/200\n",
      "3/3 [==============================] - 0s 112ms/step - loss: 8.8390 - val_loss: 6.5790\n",
      "Epoch 24/200\n",
      "3/3 [==============================] - 0s 85ms/step - loss: 7.6654 - val_loss: 5.8946\n",
      "Epoch 25/200\n",
      "3/3 [==============================] - 0s 92ms/step - loss: 7.0710 - val_loss: 7.1879\n",
      "Epoch 26/200\n",
      "3/3 [==============================] - 0s 72ms/step - loss: 8.1979 - val_loss: 5.2941\n",
      "Epoch 27/200\n",
      "3/3 [==============================] - 0s 61ms/step - loss: 6.3575 - val_loss: 5.5880\n",
      "Epoch 28/200\n",
      "3/3 [==============================] - 0s 100ms/step - loss: 6.5189 - val_loss: 5.6962\n",
      "Epoch 29/200\n",
      "3/3 [==============================] - 0s 88ms/step - loss: 6.3585 - val_loss: 5.3753\n",
      "Epoch 30/200\n",
      "3/3 [==============================] - 0s 109ms/step - loss: 5.7814 - val_loss: 4.7042\n",
      "Epoch 31/200\n",
      "3/3 [==============================] - 0s 132ms/step - loss: 4.9154 - val_loss: 3.9047\n",
      "Epoch 32/200\n",
      "3/3 [==============================] - 0s 104ms/step - loss: 4.2071 - val_loss: 4.2719\n",
      "Epoch 33/200\n",
      "3/3 [==============================] - 0s 126ms/step - loss: 4.6360 - val_loss: 3.7797\n",
      "Epoch 34/200\n",
      "3/3 [==============================] - 0s 128ms/step - loss: 4.1238 - val_loss: 3.9780\n",
      "Epoch 35/200\n",
      "3/3 [==============================] - 0s 114ms/step - loss: 4.3498 - val_loss: 4.0073\n",
      "Epoch 36/200\n",
      "3/3 [==============================] - 0s 95ms/step - loss: 4.3149 - val_loss: 3.8330\n",
      "Epoch 37/200\n",
      "3/3 [==============================] - 0s 112ms/step - loss: 4.0947 - val_loss: 3.9033\n",
      "Epoch 38/200\n",
      "3/3 [==============================] - 0s 115ms/step - loss: 4.1525 - val_loss: 3.9732\n",
      "Epoch 39/200\n",
      "3/3 [==============================] - 0s 120ms/step - loss: 4.0788 - val_loss: 3.7577\n",
      "Epoch 40/200\n",
      "3/3 [==============================] - 0s 95ms/step - loss: 4.0385 - val_loss: 3.7983\n",
      "Epoch 41/200\n",
      "3/3 [==============================] - 0s 97ms/step - loss: 4.0858 - val_loss: 3.7694\n",
      "Epoch 42/200\n",
      "3/3 [==============================] - 0s 108ms/step - loss: 4.0344 - val_loss: 3.7404\n",
      "Epoch 43/200\n",
      "3/3 [==============================] - 0s 117ms/step - loss: 4.0351 - val_loss: 3.7550\n",
      "Epoch 44/200\n",
      "3/3 [==============================] - 0s 104ms/step - loss: 4.0207 - val_loss: 3.7317\n",
      "Epoch 45/200\n",
      "3/3 [==============================] - 0s 102ms/step - loss: 3.9936 - val_loss: 3.7410\n",
      "Epoch 46/200\n",
      "3/3 [==============================] - 0s 98ms/step - loss: 3.9998 - val_loss: 3.7424\n",
      "Epoch 47/200\n",
      "3/3 [==============================] - 0s 90ms/step - loss: 3.9840 - val_loss: 3.7644\n",
      "Epoch 48/200\n",
      "3/3 [==============================] - 0s 104ms/step - loss: 3.9900 - val_loss: 3.7650\n",
      "Epoch 49/200\n",
      "3/3 [==============================] - 0s 69ms/step - loss: 3.9750 - val_loss: 3.7255\n",
      "Epoch 50/200\n",
      "3/3 [==============================] - 0s 78ms/step - loss: 3.9719 - val_loss: 3.7219\n",
      "Epoch 51/200\n",
      "3/3 [==============================] - 0s 87ms/step - loss: 3.9661 - val_loss: 3.7149\n",
      "Epoch 52/200\n",
      "3/3 [==============================] - 0s 93ms/step - loss: 3.9549 - val_loss: 3.7156\n",
      "Epoch 53/200\n",
      "3/3 [==============================] - 0s 93ms/step - loss: 3.9514 - val_loss: 3.7138\n",
      "Epoch 54/200\n",
      "3/3 [==============================] - 0s 102ms/step - loss: 3.9434 - val_loss: 3.7109\n",
      "Epoch 55/200\n",
      "3/3 [==============================] - 0s 115ms/step - loss: 3.9384 - val_loss: 3.7121\n",
      "Epoch 56/200\n",
      "3/3 [==============================] - 0s 102ms/step - loss: 3.9295 - val_loss: 3.7191\n",
      "Epoch 57/200\n",
      "3/3 [==============================] - 0s 121ms/step - loss: 3.9251 - val_loss: 3.7197\n",
      "Epoch 58/200\n",
      "3/3 [==============================] - 0s 98ms/step - loss: 3.9194 - val_loss: 3.7093\n",
      "Epoch 59/200\n",
      "3/3 [==============================] - 0s 100ms/step - loss: 3.9109 - val_loss: 3.6991\n",
      "Epoch 60/200\n",
      "3/3 [==============================] - 0s 97ms/step - loss: 3.9060 - val_loss: 3.6887\n",
      "Epoch 61/200\n",
      "3/3 [==============================] - 0s 103ms/step - loss: 3.8979 - val_loss: 3.6849\n",
      "Epoch 62/200\n",
      "3/3 [==============================] - 0s 107ms/step - loss: 3.8908 - val_loss: 3.6845\n",
      "Epoch 63/200\n",
      "3/3 [==============================] - 0s 101ms/step - loss: 3.8854 - val_loss: 3.6758\n",
      "Epoch 64/200\n",
      "3/3 [==============================] - 0s 96ms/step - loss: 3.8739 - val_loss: 3.6739\n",
      "Epoch 65/200\n",
      "3/3 [==============================] - 0s 79ms/step - loss: 3.8646 - val_loss: 3.6749\n",
      "Epoch 66/200\n",
      "3/3 [==============================] - 0s 109ms/step - loss: 3.8570 - val_loss: 3.6762\n",
      "Epoch 67/200\n",
      "3/3 [==============================] - 0s 85ms/step - loss: 3.8489 - val_loss: 3.6735\n",
      "Epoch 68/200\n",
      "3/3 [==============================] - 0s 92ms/step - loss: 3.8389 - val_loss: 3.6645\n",
      "Epoch 69/200\n",
      "3/3 [==============================] - 0s 100ms/step - loss: 3.8282 - val_loss: 3.6486\n",
      "Epoch 70/200\n",
      "3/3 [==============================] - 0s 92ms/step - loss: 3.8167 - val_loss: 3.6414\n",
      "Epoch 71/200\n",
      "3/3 [==============================] - 0s 90ms/step - loss: 3.8065 - val_loss: 3.6363\n",
      "Epoch 72/200\n",
      "3/3 [==============================] - 0s 103ms/step - loss: 3.7940 - val_loss: 3.6277\n",
      "Epoch 73/200\n",
      "3/3 [==============================] - 0s 93ms/step - loss: 3.7846 - val_loss: 3.6248\n",
      "Epoch 74/200\n",
      "3/3 [==============================] - 0s 108ms/step - loss: 3.7670 - val_loss: 3.6332\n",
      "Epoch 75/200\n",
      "3/3 [==============================] - 0s 126ms/step - loss: 3.7569 - val_loss: 3.6461\n",
      "Epoch 76/200\n",
      "3/3 [==============================] - 0s 152ms/step - loss: 3.7444 - val_loss: 3.6150\n",
      "Epoch 77/200\n",
      "3/3 [==============================] - 0s 164ms/step - loss: 3.7243 - val_loss: 3.6031\n",
      "Epoch 78/200\n",
      "3/3 [==============================] - 1s 260ms/step - loss: 3.7071 - val_loss: 3.5956\n",
      "Epoch 79/200\n",
      "3/3 [==============================] - 0s 181ms/step - loss: 3.6905 - val_loss: 3.5950\n",
      "Epoch 80/200\n"
     ]
    },
    {
     "name": "stdout",
     "output_type": "stream",
     "text": [
      "3/3 [==============================] - 0s 135ms/step - loss: 3.6658 - val_loss: 3.5766\n",
      "Epoch 81/200\n",
      "3/3 [==============================] - 0s 123ms/step - loss: 3.6528 - val_loss: 3.5683\n",
      "Epoch 82/200\n",
      "3/3 [==============================] - 0s 105ms/step - loss: 3.6282 - val_loss: 3.5725\n",
      "Epoch 83/200\n",
      "3/3 [==============================] - 0s 134ms/step - loss: 3.6150 - val_loss: 3.5649\n",
      "Epoch 84/200\n",
      "3/3 [==============================] - 0s 105ms/step - loss: 3.5818 - val_loss: 3.5353\n",
      "Epoch 85/200\n",
      "3/3 [==============================] - 0s 103ms/step - loss: 3.5688 - val_loss: 3.5115\n",
      "Epoch 86/200\n",
      "3/3 [==============================] - 0s 97ms/step - loss: 3.5379 - val_loss: 3.5074\n",
      "Epoch 87/200\n",
      "3/3 [==============================] - 0s 114ms/step - loss: 3.5180 - val_loss: 3.4752\n",
      "Epoch 88/200\n",
      "3/3 [==============================] - 0s 98ms/step - loss: 3.4873 - val_loss: 3.4515\n",
      "Epoch 89/200\n",
      "3/3 [==============================] - 0s 117ms/step - loss: 3.4629 - val_loss: 3.4307\n",
      "Epoch 90/200\n",
      "3/3 [==============================] - 0s 86ms/step - loss: 3.4444 - val_loss: 3.4074\n",
      "Epoch 91/200\n",
      "3/3 [==============================] - 0s 135ms/step - loss: 3.4261 - val_loss: 3.3814\n",
      "Epoch 92/200\n",
      "3/3 [==============================] - 0s 124ms/step - loss: 3.4088 - val_loss: 3.3650\n",
      "Epoch 93/200\n",
      "3/3 [==============================] - 0s 111ms/step - loss: 3.3887 - val_loss: 3.3486\n",
      "Epoch 94/200\n",
      "3/3 [==============================] - 0s 103ms/step - loss: 3.3763 - val_loss: 3.3388\n",
      "Epoch 95/200\n",
      "3/3 [==============================] - 0s 149ms/step - loss: 3.3655 - val_loss: 3.3396\n",
      "Epoch 96/200\n",
      "3/3 [==============================] - 0s 137ms/step - loss: 3.3574 - val_loss: 3.3067\n",
      "Epoch 97/200\n",
      "3/3 [==============================] - 0s 225ms/step - loss: 3.3414 - val_loss: 3.2927\n",
      "Epoch 98/200\n",
      "3/3 [==============================] - 0s 168ms/step - loss: 3.3339 - val_loss: 3.2849\n",
      "Epoch 99/200\n",
      "3/3 [==============================] - 0s 164ms/step - loss: 3.3355 - val_loss: 3.2844\n",
      "Epoch 100/200\n",
      "3/3 [==============================] - 0s 150ms/step - loss: 3.3259 - val_loss: 3.2747\n",
      "Epoch 101/200\n",
      "3/3 [==============================] - 0s 159ms/step - loss: 3.3214 - val_loss: 3.2620\n",
      "Epoch 102/200\n",
      "3/3 [==============================] - 0s 97ms/step - loss: 3.3088 - val_loss: 3.2517\n",
      "Epoch 103/200\n",
      "3/3 [==============================] - 0s 109ms/step - loss: 3.3098 - val_loss: 3.2445\n",
      "Epoch 104/200\n",
      "3/3 [==============================] - 0s 129ms/step - loss: 3.3027 - val_loss: 3.2428\n",
      "Epoch 105/200\n",
      "3/3 [==============================] - 0s 127ms/step - loss: 3.3018 - val_loss: 3.2437\n",
      "Epoch 106/200\n",
      "3/3 [==============================] - 0s 134ms/step - loss: 3.2915 - val_loss: 3.2552\n",
      "Epoch 107/200\n",
      "3/3 [==============================] - 0s 155ms/step - loss: 3.2950 - val_loss: 3.2553\n",
      "Epoch 108/200\n",
      "3/3 [==============================] - 0s 136ms/step - loss: 3.2832 - val_loss: 3.2609\n",
      "Epoch 109/200\n",
      "3/3 [==============================] - 0s 104ms/step - loss: 3.2848 - val_loss: 3.2648\n",
      "Epoch 110/200\n",
      "3/3 [==============================] - 0s 143ms/step - loss: 3.2838 - val_loss: 3.2694\n",
      "Epoch 111/200\n",
      "3/3 [==============================] - 0s 104ms/step - loss: 3.2793 - val_loss: 3.2505\n",
      "Epoch 112/200\n",
      "3/3 [==============================] - 0s 100ms/step - loss: 3.2829 - val_loss: 3.2229\n",
      "Epoch 113/200\n",
      "3/3 [==============================] - 0s 119ms/step - loss: 3.2879 - val_loss: 3.2135\n",
      "Epoch 114/200\n",
      "3/3 [==============================] - 0s 122ms/step - loss: 3.3103 - val_loss: 3.2550\n",
      "Epoch 115/200\n",
      "3/3 [==============================] - 0s 141ms/step - loss: 3.2931 - val_loss: 3.2387\n",
      "Epoch 116/200\n",
      "3/3 [==============================] - 0s 119ms/step - loss: 3.2698 - val_loss: 3.2583\n",
      "Epoch 117/200\n",
      "3/3 [==============================] - 0s 111ms/step - loss: 3.2712 - val_loss: 3.2629\n",
      "Epoch 118/200\n",
      "3/3 [==============================] - 0s 123ms/step - loss: 3.2646 - val_loss: 3.2382\n",
      "Epoch 119/200\n",
      "3/3 [==============================] - 0s 111ms/step - loss: 3.2639 - val_loss: 3.2218\n",
      "Epoch 120/200\n",
      "3/3 [==============================] - 0s 178ms/step - loss: 3.2780 - val_loss: 3.2045\n",
      "Epoch 121/200\n",
      "3/3 [==============================] - 0s 137ms/step - loss: 3.2602 - val_loss: 3.2092\n",
      "Epoch 122/200\n",
      "3/3 [==============================] - 0s 113ms/step - loss: 3.2589 - val_loss: 3.2001\n",
      "Epoch 123/200\n",
      "3/3 [==============================] - 0s 102ms/step - loss: 3.2595 - val_loss: 3.2113\n",
      "Epoch 124/200\n",
      "3/3 [==============================] - 0s 112ms/step - loss: 3.2467 - val_loss: 3.2079\n",
      "Epoch 125/200\n",
      "3/3 [==============================] - 0s 123ms/step - loss: 3.2464 - val_loss: 3.1972\n",
      "Epoch 126/200\n",
      "3/3 [==============================] - 0s 102ms/step - loss: 3.2427 - val_loss: 3.1972\n",
      "Epoch 127/200\n",
      "3/3 [==============================] - 0s 120ms/step - loss: 3.2440 - val_loss: 3.1959\n",
      "Epoch 128/200\n",
      "3/3 [==============================] - 0s 117ms/step - loss: 3.2375 - val_loss: 3.1990\n",
      "Epoch 129/200\n",
      "3/3 [==============================] - 0s 127ms/step - loss: 3.2391 - val_loss: 3.1926\n",
      "Epoch 130/200\n",
      "3/3 [==============================] - 0s 98ms/step - loss: 3.2338 - val_loss: 3.2074\n",
      "Epoch 131/200\n",
      "3/3 [==============================] - 0s 87ms/step - loss: 3.2368 - val_loss: 3.2080\n",
      "Epoch 132/200\n",
      "3/3 [==============================] - 0s 78ms/step - loss: 3.2437 - val_loss: 3.2025\n",
      "Epoch 133/200\n",
      "3/3 [==============================] - 0s 98ms/step - loss: 3.2281 - val_loss: 3.2104\n",
      "Epoch 134/200\n",
      "3/3 [==============================] - 0s 79ms/step - loss: 3.2396 - val_loss: 3.1918\n",
      "Epoch 135/200\n",
      "3/3 [==============================] - 0s 110ms/step - loss: 3.2310 - val_loss: 3.1757\n",
      "Epoch 136/200\n",
      "3/3 [==============================] - 0s 95ms/step - loss: 3.2213 - val_loss: 3.1735\n",
      "Epoch 137/200\n",
      "3/3 [==============================] - 0s 91ms/step - loss: 3.2195 - val_loss: 3.1644\n",
      "Epoch 138/200\n",
      "3/3 [==============================] - 0s 118ms/step - loss: 3.2193 - val_loss: 3.1695\n",
      "Epoch 139/200\n",
      "3/3 [==============================] - 0s 99ms/step - loss: 3.2195 - val_loss: 3.1707\n",
      "Epoch 140/200\n",
      "3/3 [==============================] - 0s 96ms/step - loss: 3.2205 - val_loss: 3.1705\n",
      "Epoch 141/200\n",
      "3/3 [==============================] - 0s 79ms/step - loss: 3.2125 - val_loss: 3.1701\n",
      "Epoch 142/200\n",
      "3/3 [==============================] - 0s 85ms/step - loss: 3.2059 - val_loss: 3.1600\n",
      "Epoch 143/200\n",
      "3/3 [==============================] - 0s 105ms/step - loss: 3.2127 - val_loss: 3.1648\n",
      "Epoch 144/200\n",
      "3/3 [==============================] - 0s 88ms/step - loss: 3.2035 - val_loss: 3.1849\n",
      "Epoch 145/200\n",
      "3/3 [==============================] - 0s 122ms/step - loss: 3.2118 - val_loss: 3.1931\n",
      "Epoch 146/200\n",
      "3/3 [==============================] - 0s 116ms/step - loss: 3.2011 - val_loss: 3.2340\n",
      "Epoch 147/200\n",
      "3/3 [==============================] - 0s 111ms/step - loss: 3.2250 - val_loss: 3.1858\n",
      "Epoch 148/200\n",
      "3/3 [==============================] - 0s 95ms/step - loss: 3.1927 - val_loss: 3.1906\n",
      "Epoch 149/200\n",
      "3/3 [==============================] - 0s 124ms/step - loss: 3.2075 - val_loss: 3.1430\n",
      "Epoch 150/200\n",
      "3/3 [==============================] - 0s 124ms/step - loss: 3.1838 - val_loss: 3.1324\n",
      "Epoch 151/200\n",
      "3/3 [==============================] - 0s 105ms/step - loss: 3.2020 - val_loss: 3.1387\n",
      "Epoch 152/200\n",
      "3/3 [==============================] - 0s 97ms/step - loss: 3.1857 - val_loss: 3.1692\n",
      "Epoch 153/200\n",
      "3/3 [==============================] - 0s 87ms/step - loss: 3.1859 - val_loss: 3.1582\n",
      "Epoch 154/200\n",
      "3/3 [==============================] - 0s 105ms/step - loss: 3.1950 - val_loss: 3.1694\n",
      "Epoch 155/200\n",
      "3/3 [==============================] - 0s 104ms/step - loss: 3.2051 - val_loss: 3.1762\n",
      "Epoch 156/200\n",
      "3/3 [==============================] - 0s 105ms/step - loss: 3.2116 - val_loss: 3.1382\n",
      "Epoch 157/200\n",
      "3/3 [==============================] - 0s 79ms/step - loss: 3.1654 - val_loss: 3.1562\n",
      "Epoch 158/200\n",
      "3/3 [==============================] - 0s 87ms/step - loss: 3.1707 - val_loss: 3.1397\n",
      "Epoch 159/200\n",
      "3/3 [==============================] - 0s 97ms/step - loss: 3.1652 - val_loss: 3.1344\n",
      "Epoch 160/200\n",
      "3/3 [==============================] - 0s 105ms/step - loss: 3.1669 - val_loss: 3.1664\n",
      "Epoch 161/200\n"
     ]
    },
    {
     "name": "stdout",
     "output_type": "stream",
     "text": [
      "3/3 [==============================] - 0s 107ms/step - loss: 3.1663 - val_loss: 3.1173\n",
      "Epoch 162/200\n",
      "3/3 [==============================] - 0s 97ms/step - loss: 3.1683 - val_loss: 3.1315\n",
      "Epoch 163/200\n",
      "3/3 [==============================] - 0s 84ms/step - loss: 3.1507 - val_loss: 3.1400\n",
      "Epoch 164/200\n",
      "3/3 [==============================] - 0s 102ms/step - loss: 3.1569 - val_loss: 3.1264\n",
      "Epoch 165/200\n",
      "3/3 [==============================] - 0s 81ms/step - loss: 3.1328 - val_loss: 3.1113\n",
      "Epoch 166/200\n",
      "3/3 [==============================] - 0s 96ms/step - loss: 3.1552 - val_loss: 3.1198\n",
      "Epoch 167/200\n",
      "3/3 [==============================] - 0s 86ms/step - loss: 3.1692 - val_loss: 3.1731\n",
      "Epoch 168/200\n",
      "3/3 [==============================] - 0s 96ms/step - loss: 3.1498 - val_loss: 3.1397\n",
      "Epoch 169/200\n",
      "3/3 [==============================] - 0s 120ms/step - loss: 3.2048 - val_loss: 3.1282\n",
      "Epoch 170/200\n",
      "3/3 [==============================] - 0s 96ms/step - loss: 3.1701 - val_loss: 3.2615\n",
      "Epoch 171/200\n",
      "3/3 [==============================] - 0s 81ms/step - loss: 3.2132 - val_loss: 3.1175\n",
      "Epoch 172/200\n",
      "3/3 [==============================] - 0s 73ms/step - loss: 3.2070 - val_loss: 3.1119\n",
      "Epoch 173/200\n",
      "3/3 [==============================] - 0s 80ms/step - loss: 3.2576 - val_loss: 3.4631\n",
      "Epoch 174/200\n",
      "3/3 [==============================] - 0s 78ms/step - loss: 3.3678 - val_loss: 3.1218\n",
      "Epoch 175/200\n",
      "3/3 [==============================] - 0s 75ms/step - loss: 3.1780 - val_loss: 3.1074\n",
      "Epoch 176/200\n",
      "3/3 [==============================] - 0s 79ms/step - loss: 3.1191 - val_loss: 3.1986\n",
      "Epoch 177/200\n",
      "3/3 [==============================] - 0s 101ms/step - loss: 3.2311 - val_loss: 3.1446\n",
      "Epoch 178/200\n",
      "3/3 [==============================] - 0s 94ms/step - loss: 3.1548 - val_loss: 3.1766\n",
      "Epoch 179/200\n",
      "3/3 [==============================] - 0s 125ms/step - loss: 3.1505 - val_loss: 3.1310\n",
      "Epoch 180/200\n",
      "3/3 [==============================] - 0s 106ms/step - loss: 3.1398 - val_loss: 3.1777\n",
      "Epoch 181/200\n",
      "3/3 [==============================] - 0s 98ms/step - loss: 3.1347 - val_loss: 3.0910\n",
      "Epoch 182/200\n",
      "3/3 [==============================] - ETA: 0s - loss: 3.267 - 0s 92ms/step - loss: 3.1190 - val_loss: 3.0944\n",
      "Epoch 183/200\n",
      "3/3 [==============================] - 0s 90ms/step - loss: 3.0829 - val_loss: 3.1093\n",
      "Epoch 184/200\n",
      "3/3 [==============================] - 0s 101ms/step - loss: 3.0854 - val_loss: 3.1037\n",
      "Epoch 185/200\n",
      "3/3 [==============================] - 0s 89ms/step - loss: 3.0592 - val_loss: 3.0879\n",
      "Epoch 186/200\n",
      "3/3 [==============================] - 0s 123ms/step - loss: 3.0806 - val_loss: 3.0696\n",
      "Epoch 187/200\n",
      "3/3 [==============================] - 0s 95ms/step - loss: 3.0527 - val_loss: 3.0921\n",
      "Epoch 188/200\n",
      "3/3 [==============================] - 0s 90ms/step - loss: 3.0445 - val_loss: 3.0797\n",
      "Epoch 189/200\n",
      "3/3 [==============================] - 0s 108ms/step - loss: 3.1101 - val_loss: 3.0957\n",
      "Epoch 190/200\n",
      "3/3 [==============================] - 0s 111ms/step - loss: 3.0689 - val_loss: 3.1164\n",
      "Epoch 191/200\n",
      "3/3 [==============================] - 0s 120ms/step - loss: 3.0338 - val_loss: 3.0574\n",
      "Epoch 192/200\n",
      "3/3 [==============================] - 0s 114ms/step - loss: 3.0942 - val_loss: 3.0555\n",
      "Epoch 193/200\n",
      "3/3 [==============================] - 0s 110ms/step - loss: 3.0166 - val_loss: 3.0727\n",
      "Epoch 194/200\n",
      "3/3 [==============================] - 0s 68ms/step - loss: 3.0221 - val_loss: 3.0592\n",
      "Epoch 195/200\n",
      "3/3 [==============================] - 0s 71ms/step - loss: 3.0445 - val_loss: 3.0815\n",
      "Epoch 196/200\n",
      "3/3 [==============================] - 0s 88ms/step - loss: 3.0005 - val_loss: 3.0573\n",
      "Epoch 197/200\n",
      "3/3 [==============================] - 0s 97ms/step - loss: 3.0135 - val_loss: 3.0651\n",
      "Epoch 198/200\n",
      "3/3 [==============================] - 0s 72ms/step - loss: 3.0364 - val_loss: 3.1034\n",
      "Epoch 199/200\n",
      "3/3 [==============================] - 0s 67ms/step - loss: 3.0129 - val_loss: 3.0674\n",
      "Epoch 200/200\n",
      "3/3 [==============================] - 0s 65ms/step - loss: 3.0117 - val_loss: 3.0607\n"
     ]
    }
   ],
   "source": [
    "history = model.fit(X_train, y_train, epochs=200,\n",
    "                    validation_data=(X_valid, y_valid))"
   ]
  },
  {
   "cell_type": "code",
   "execution_count": 65,
   "id": "bc6384af",
   "metadata": {
    "scrolled": true
   },
   "outputs": [],
   "source": [
    "# history = model.fit(X_train, y_train, epochs=145,\n",
    "#                     validation_data=(X_valid, y_valid), callbacks=[lr_scheduler])"
   ]
  },
  {
   "cell_type": "code",
   "execution_count": 66,
   "id": "d489f2c6",
   "metadata": {},
   "outputs": [
    {
     "data": {
      "image/png": "[encoded data removed]",
      "text/plain": [
       "<Figure size 576x360 with 1 Axes>"
      ]
     },
     "metadata": {
      "needs_background": "light"
     },
     "output_type": "display_data"
    }
   ],
   "source": [
    "import pandas as pd\n",
    "\n",
    "# print(history.history)\n",
    "try:\n",
    "    lr_list = history.history[\"lr\"]\n",
    "    del(history.history[\"lr\"])\n",
    "except:\n",
    "    pass\n",
    "\n",
    "pd.DataFrame(history.history)[50:].plot(figsize=(8, 5))\n",
    "plt.grid(True)\n",
    "# plt.gca().set_ylim(0, 1)\n",
    "plt.show()"
   ]
  },
  {
   "cell_type": "code",
   "execution_count": 67,
   "id": "d840c375",
   "metadata": {
    "scrolled": true
   },
   "outputs": [
    {
     "name": "stdout",
     "output_type": "stream",
     "text": [
      "X.shape = (None, 1)\n",
      "gauss_grid.shape = (None, 5)\n"
     ]
    },
    {
     "data": {
      "image/png": "[encoded data removed]",
      "text/plain": [
       "<Figure size 432x288 with 1 Axes>"
      ]
     },
     "metadata": {
      "needs_background": "light"
     },
     "output_type": "display_data"
    }
   ],
   "source": [
    "plt.plot(X_train, y_train, \"b.\")\n",
    "draw_func((lambda X: model.predict(X)[:,0] ), mark='r-', linewidth=2, label=\"Predictions\")\n",
    "draw_normal_func(func_dict)\n",
    "plt.xlabel(\"$x_1$\", fontsize=18)\n",
    "plt.ylabel(\"$y$\", rotation=0, fontsize=18)\n",
    "plt.legend(loc=\"upper left\", fontsize=14)\n",
    "# plt.axis([-3, 3, 0, 10])\n",
    "plt.show()"
   ]
  },
  {
   "cell_type": "code",
   "execution_count": 68,
   "id": "b28afca9",
   "metadata": {},
   "outputs": [
    {
     "name": "stdout",
     "output_type": "stream",
     "text": [
      "y_func.shape = (100, 1)\n",
      "y_gt.shape = (100, 1)\n"
     ]
    },
    {
     "data": {
      "text/plain": [
       "7.5646216432604865"
      ]
     },
     "execution_count": 68,
     "metadata": {},
     "output_type": "execute_result"
    }
   ],
   "source": [
    "get_prediction_error((lambda X: model.predict(X)[:,0] ), func_dict)"
   ]
  },
  {
   "cell_type": "markdown",
   "id": "be7aacfb",
   "metadata": {},
   "source": [
    "### Draw the 1-sigma boundary line"
   ]
  },
  {
   "cell_type": "code",
   "execution_count": 69,
   "id": "25945d8b",
   "metadata": {},
   "outputs": [
    {
     "data": {
      "image/png": "[encoded data removed]",
      "text/plain": [
       "<Figure size 432x288 with 1 Axes>"
      ]
     },
     "metadata": {
      "needs_background": "light"
     },
     "output_type": "display_data"
    }
   ],
   "source": [
    "def n_sigma_boundary_line(X, n):\n",
    "    _y = model.predict(X)\n",
    "    _mean, _z = _y[:,0:1], _y[:,1:2]\n",
    "    _sigma = np.exp(alpha*_z)\n",
    "    return( _mean + n*_sigma)\n",
    "\n",
    "plt.plot(X_train, y_train, \"b.\")\n",
    "#\n",
    "draw_func((lambda X: model.predict(X)[:,0] ), mark='r-', linewidth=2, label=\"Predictions\")\n",
    "draw_func((lambda X: n_sigma_boundary_line(X, +1.0) ), mark='k--', linewidth=1, label=\"$\\mu+\\sigma$\")\n",
    "draw_func((lambda X: n_sigma_boundary_line(X, -1.0) ), mark='k--', linewidth=1, label=\"$\\mu-\\sigma$\")\n",
    "#\n",
    "draw_normal_func(func_dict)\n",
    "plt.xlabel(\"$x_1$\", fontsize=18)\n",
    "plt.ylabel(\"$y$\", rotation=0, fontsize=18)\n",
    "plt.legend(loc=\"upper left\", fontsize=14)\n",
    "# plt.axis([-3, 3, 0, 10])\n",
    "plt.show()"
   ]
  },
  {
   "cell_type": "code",
   "execution_count": null,
   "id": "278905c7",
   "metadata": {},
   "outputs": [],
   "source": []
  },
  {
   "cell_type": "code",
   "execution_count": null,
   "id": "dd6b1d16",
   "metadata": {},
   "outputs": [],
   "source": []
  },
  {
   "cell_type": "code",
   "execution_count": null,
   "id": "59fa6264",
   "metadata": {},
   "outputs": [],
   "source": []
  },
  {
   "cell_type": "code",
   "execution_count": null,
   "id": "9e0f610c",
   "metadata": {},
   "outputs": [],
   "source": []
  },
  {
   "cell_type": "code",
   "execution_count": null,
   "id": "159b89c6",
   "metadata": {},
   "outputs": [],
   "source": []
  }
 ],
 "metadata": {
  "kernelspec": {
   "display_name": "Python 3",
   "language": "python",
   "name": "python3"
  },
  "language_info": {
   "codemirror_mode": {
    "name": "ipython",
    "version": 3
   },
   "file_extension": ".py",
   "mimetype": "text/x-python",
   "name": "python",
   "nbconvert_exporter": "python",
   "pygments_lexer": "ipython3",
   "version": "3.6.9"
  }
 },
 "nbformat": 4,
 "nbformat_minor": 5
}
