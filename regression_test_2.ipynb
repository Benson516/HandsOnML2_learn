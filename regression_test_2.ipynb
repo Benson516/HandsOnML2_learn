{
 "cells": [
  {
   "cell_type": "markdown",
   "id": "899fa113",
   "metadata": {},
   "source": [
    "# Regression with Different Output Format under Various Data Conditions\n",
    "\n",
    "In this experience, we test the following output format for regression task under several different data coditions.\n",
    "- Numerical output\n",
    "- Regression as classification (grid-out)\n",
    "\n",
    "The data coditions include:\n",
    "- Sparse (few data)\n",
    "- Grouped\n",
    "  - Biased (parallel data)\n",
    "  - Completely different mode, uncorrelated data (cross)\n",
    "  - Partially diversed (split)"
   ]
  },
  {
   "cell_type": "code",
   "execution_count": 1,
   "id": "625ce7c3",
   "metadata": {},
   "outputs": [],
   "source": [
    "import numpy as np\n",
    "import tensorflow as tf\n",
    "from tensorflow import keras\n",
    "import os\n",
    "\n",
    "# To plot pretty figures\n",
    "%matplotlib inline\n",
    "import matplotlib as mpl\n",
    "import matplotlib.pyplot as plt\n",
    "mpl.rc('axes', labelsize=14)\n",
    "mpl.rc('xtick', labelsize=12)\n",
    "mpl.rc('ytick', labelsize=12)"
   ]
  },
  {
   "cell_type": "code",
   "execution_count": 2,
   "id": "7ad564ad",
   "metadata": {},
   "outputs": [],
   "source": [
    "# Where to save the figures\n",
    "PROJECT_ROOT_DIR = \".\"\n",
    "CHAPTER_ID = \"regression_test_2\"\n",
    "IMAGES_PATH = os.path.join(PROJECT_ROOT_DIR, \"images\", CHAPTER_ID)\n",
    "os.makedirs(IMAGES_PATH, exist_ok=True)\n",
    "\n",
    "def save_fig(fig_id, tight_layout=True, fig_extension=\"png\", resolution=300):\n",
    "    path = os.path.join(IMAGES_PATH, fig_id + \".\" + fig_extension)\n",
    "    print(\"Saving figure\", fig_id)\n",
    "    if tight_layout:\n",
    "        plt.tight_layout()\n",
    "    plt.savefig(path, format=fig_extension, dpi=resolution)"
   ]
  },
  {
   "cell_type": "code",
   "execution_count": 3,
   "id": "94e8a077",
   "metadata": {},
   "outputs": [],
   "source": [
    "def draw_func(func_in, x_min=-5, x_max=5, mark='r--', linewidth=1, label='func'):\n",
    "    n_sample = 100\n",
    "    X_func = np.linspace(x_min, x_max, n_sample).reshape(n_sample, 1)\n",
    "    y_func = func_in(X_func)\n",
    "    plt.plot(X_func, y_func, mark, linewidth=linewidth, label=label)"
   ]
  },
  {
   "cell_type": "markdown",
   "id": "c27ffe35",
   "metadata": {},
   "source": [
    "Generate polynomial data"
   ]
  },
  {
   "cell_type": "code",
   "execution_count": 4,
   "id": "ce670ce4",
   "metadata": {},
   "outputs": [],
   "source": [
    "poly_a1 = 5.0\n",
    "# poly_a1 = -10.0 # 5.0\n",
    "#\n",
    "sin_a = 0.0\n",
    "# sin_a = 10.0\n",
    "sin_f = 0.1 # 0.2\n",
    "#\n",
    "def func_0(X): # Reference\n",
    "    return 0.5 * X**3 + 0.5 * X**2 + (poly_a1)*X + 2 + sin_a*np.sin(2.0*np.pi*sin_f*X)\n",
    "def func_1(X): # Variation 1: parellel\n",
    "    return 0.5 * X**3 + 0.5 * X**2 + (poly_a1)*X + 30 + sin_a*np.sin(2.0*np.pi*sin_f*X)\n",
    "def func_2(X): # Variation 2: cross\n",
    "    return -0.5 * X**3 + 0.5 * X**2 + (poly_a1)*X + 30 + sin_a*np.sin(2.0*np.pi*sin_f*X)\n",
    "def func_3(X): # Variation 3: slightly split\n",
    "    return 0.3 * X**3 + 1.0 * X**2 + (poly_a1)*X + 15 + sin_a*np.sin(2.0*np.pi*sin_f*X)\n",
    "def func_4(X): # Sine wave~\n",
    "    return 0.5 * X**3 + 0.5 * X**2 + (poly_a1)*X + 2 + 20.0*np.sin(2.0*np.pi*sin_f*X) # 50.0"
   ]
  },
  {
   "cell_type": "code",
   "execution_count": 5,
   "id": "9463bfff",
   "metadata": {},
   "outputs": [],
   "source": [
    "func_dict = dict()\n",
    "#-----------------#\n",
    "func_dict[\"f1\"] = func_0\n",
    "#-----------------#\n",
    "# func_dict[\"f2\"] = func_1\n",
    "# func_dict[\"f2\"] = func_2\n",
    "func_dict[\"f2\"] = func_3\n",
    "# func_dict[\"f2\"] = func_4\n",
    "#-----------------#\n",
    "func_dict[\"f3\"] = func_4\n",
    "#-----------------#\n",
    "\n",
    "# Note: func_dict[\"f_avg\"] depends on multiout_type and is calculated in each section of multiout_type"
   ]
  },
  {
   "cell_type": "code",
   "execution_count": 6,
   "id": "63437d0c",
   "metadata": {},
   "outputs": [
    {
     "name": "stdout",
     "output_type": "stream",
     "text": [
      "(m, m_train) = (100, 80)\n",
      "y_data_pure.shape = (100, 1)\n",
      "y_data.shape = (100, 1)\n"
     ]
    }
   ],
   "source": [
    "np.random.seed(42)\n",
    "m = 100 # 50 # 100 # 200\n",
    "m_train = m // 5 * 4\n",
    "print(\"(m, m_train) = (%d, %d)\" % (m, m_train))\n",
    "\n",
    "# Input\n",
    "is_gapped = True\n",
    "# is_gapped = False\n",
    "#\n",
    "if not is_gapped:\n",
    "    X_data = 10 * np.random.rand(m, 1) - 5 # Note: X is randomly sampled, so we don't need to shuffle the data again\n",
    "else:\n",
    "    X_data = np.concatenate( (np.linspace(-5.0, -2.0, m//2), np.linspace(2.0, 5.0, m-m//2)) )\n",
    "    X_data = X_data.reshape((m,1))\n",
    "    np.random.shuffle(X_data)\n",
    "\n",
    "# Output, multiout_type in {1, 2, 3}\n",
    "# multiout_type = 1      \n",
    "multiout_type = 2 \n",
    "# multiout_type = 3 \n",
    "#\n",
    "sid_data = np.ones((m,1), dtype=int) # subject id, default: 1\n",
    "if multiout_type == 2:\n",
    "    m_h = m // 2\n",
    "    X_data_1 = X_data[:m_h]\n",
    "    X_data_2 = X_data[m_h:]\n",
    "    sid_data[:m_h] = 1 # id:1\n",
    "    sid_data[m_h:] = 2 # id:2\n",
    "    y_data_pure_1 = func_dict[\"f1\"](X_data_1) \n",
    "    y_data_pure_2 = func_dict[\"f2\"](X_data_2) \n",
    "    y_data_pure = np.vstack([y_data_pure_1, y_data_pure_2])\n",
    "    print(\"y_data_pure.shape = %s\" % str(y_data_pure.shape))\n",
    "    # Average line\n",
    "    func_dict[\"f_avg\"] = ( lambda X: 0.5*func_dict[\"f1\"](X) + 0.5*func_dict[\"f2\"](X) )\n",
    "    #\n",
    "elif multiout_type == 3: # with \"avg\" line\n",
    "    m_t = m // 3\n",
    "    X_data_1 = X_data[:m_t]\n",
    "    X_data_2 = X_data[m_t:(2*m_t)]\n",
    "    X_data_3 = X_data[(2*m_t):]\n",
    "    sid_data[:m_t]        = 1 # id:1\n",
    "    sid_data[m_t:(2*m_t)] = 2 # id:2\n",
    "    sid_data[(2*m_t):]    = 3 # id:3\n",
    "    y_data_pure_1 = func_dict[\"f1\"](X_data_1) \n",
    "    y_data_pure_2 = func_dict[\"f2\"](X_data_2) \n",
    "    y_data_pure_3 = func_dict[\"f3\"](X_data_3) \n",
    "    y_data_pure = np.vstack([y_data_pure_1, y_data_pure_2, y_data_pure_3])\n",
    "    print(\"y_data_pure.shape = %s\" % str(y_data_pure.shape))\n",
    "    # Average line\n",
    "    func_dict[\"f_avg\"] = ( lambda X: (func_dict[\"f1\"](X) + func_dict[\"f2\"](X) + func_dict[\"f3\"](X))/3.0 )\n",
    "    #\n",
    "else: # multiout_type == 1\n",
    "    # Average line\n",
    "    func_dict[\"f_avg\"] = ( lambda X: 0.5*func_dict[\"f1\"](X) + 0.5*func_dict[\"f2\"](X) )\n",
    "    y_data_pure = func_dict[\"f_avg\"](X_data)\n",
    "\n",
    "    \n",
    "# Label (+noise)\n",
    "n_stddev = 2.0\n",
    "# n_stddev = 10.0\n",
    "y_data = y_data_pure + np.random.randn(m, 1) * n_stddev\n",
    "print(\"y_data.shape = %s\" % str(y_data.shape))\n",
    "# print(\"sid_data = %s\" % str(sid_data))"
   ]
  },
  {
   "cell_type": "code",
   "execution_count": 7,
   "id": "ef588fae",
   "metadata": {},
   "outputs": [],
   "source": [
    "# Method 1: simply slice\n",
    "# X_train = X_data[:m_train]\n",
    "# y_train = y_data[:m_train]\n",
    "# X_valid = X_data[m_train:]\n",
    "# y_valid = y_data[m_train:]\n",
    "\n",
    "# Method 2: shuffle\n",
    "from sklearn.model_selection import train_test_split\n",
    "# X_train, X_valid, y_train, y_valid = train_test_split(X_data, y_data, test_size=0.2, random_state=42)\n",
    "X_train, X_valid, y_train, y_valid, sid_train, sid_valid = train_test_split(X_data, y_data, sid_data, test_size=0.2, random_state=42)"
   ]
  },
  {
   "cell_type": "code",
   "execution_count": 8,
   "id": "3b5d2cfe",
   "metadata": {},
   "outputs": [
    {
     "name": "stdout",
     "output_type": "stream",
     "text": [
      "(80, 1)\n"
     ]
    }
   ],
   "source": [
    "print(X_train.shape)\n",
    "# print(\"sid_train = %s\" % str(sid_train))"
   ]
  },
  {
   "cell_type": "code",
   "execution_count": 9,
   "id": "9bd2136c",
   "metadata": {},
   "outputs": [],
   "source": [
    "def draw_normal_func(func_dict):\n",
    "    if multiout_type != 1:\n",
    "        draw_func(func_dict[\"f1\"], mark='c:', label=\"f1\")\n",
    "        draw_func(func_dict[\"f2\"], mark='r:', label=\"f2\")\n",
    "    if multiout_type == 3:\n",
    "        draw_func(func_dict[\"f3\"], mark='y:', label=\"f3\")\n",
    "    draw_func(func_dict[\"f_avg\"], mark='m--', label=\"f_avg\")"
   ]
  },
  {
   "cell_type": "code",
   "execution_count": 10,
   "id": "3e4283c1",
   "metadata": {},
   "outputs": [],
   "source": [
    "def draw_points(X, y, sid=None):\n",
    "    if sid is None:\n",
    "        plt.plot(X, y, \"b.\")\n",
    "    else:\n",
    "        plt.plot(X[sid==1], y[sid==1], \"b.\")\n",
    "        plt.plot(X[sid==2], y[sid==2], \"r.\")\n",
    "        plt.plot(X[sid==3], y[sid==3], \"y.\")"
   ]
  },
  {
   "cell_type": "code",
   "execution_count": 11,
   "id": "693af3b7",
   "metadata": {},
   "outputs": [
    {
     "name": "stdout",
     "output_type": "stream",
     "text": [
      "Saving figure training_data\n"
     ]
    },
    {
     "data": {
      "image/png": "[encoded data removed]",
      "text/plain": [
       "<Figure size 432x288 with 1 Axes>"
      ]
     },
     "metadata": {
      "needs_background": "light"
     },
     "output_type": "display_data"
    }
   ],
   "source": [
    "# plt.plot(X_train, y_train, \"b.\")\n",
    "# plt.plot(X_train[sid_train==1], y_train[sid_train==1], \"b.\")\n",
    "# plt.plot(X_train[sid_train==2], y_train[sid_train==2], \"r.\")\n",
    "draw_points(X_train, y_train, sid_train)\n",
    "\n",
    "draw_normal_func(func_dict)\n",
    "plt.xlabel(\"$x_1$\", fontsize=18)\n",
    "plt.ylabel(\"$y$\", rotation=0, fontsize=18)\n",
    "plt.legend(loc=\"upper left\", fontsize=14)\n",
    "# plt.axis([-3, 3, 0, 10])\n",
    "save_fig(\"training_data\")\n",
    "plt.show()"
   ]
  },
  {
   "cell_type": "code",
   "execution_count": 12,
   "id": "a6853ff1",
   "metadata": {},
   "outputs": [],
   "source": [
    "prediction_error_dict = dict()\n",
    "\n",
    "def get_prediction_error(func_in, func_dict, name=\"\", x_min=-5, x_max=5, prediction_error_dict=prediction_error_dict):\n",
    "    n_sample = 100\n",
    "    X_func = np.linspace(x_min, x_max, n_sample).reshape(n_sample, 1)\n",
    "    y_func = func_in(X_func).reshape((n_sample,1))\n",
    "    y_gt = func_dict[\"f_avg\"](X_func).reshape((n_sample,1))\n",
    "    print(\"y_func.shape = %s\" % str(y_func.shape))\n",
    "    print(\"y_gt.shape = %s\" % str(y_gt.shape))\n",
    "#     total_error = np.sqrt(np.square(y_func - y_gt).mean())\n",
    "    total_error = np.abs(y_func - y_gt).mean()\n",
    "    prediction_error_dict[name] = total_error\n",
    "    return total_error\n",
    "\n",
    "def print_all_prediction_error(is_logging_to_screen=True, prediction_error_dict=prediction_error_dict):\n",
    "    _s = \"\"\n",
    "    for _n in prediction_error_dict:\n",
    "        _s += (\"%s: %f\" % (_n, prediction_error_dict[_n])) + \"\\n\"\n",
    "    if is_logging_to_screen:\n",
    "        print(_s)\n",
    "    return _s\n",
    "        \n",
    "def save_prediction_errors(is_logging_to_screen=False, prediction_error_dict=prediction_error_dict):\n",
    "    path = os.path.join(IMAGES_PATH, \"prediction_errors.txt\")\n",
    "    print(\"Saving all prediction errors to [%s].\" % path)\n",
    "    _s = print_all_prediction_error(is_logging_to_screen=is_logging_to_screen, prediction_error_dict=prediction_error_dict)\n",
    "    with open(path, \"w\") as _f:\n",
    "        _f.write(_s)\n",
    "    return True"
   ]
  },
  {
   "cell_type": "markdown",
   "id": "053ecc57",
   "metadata": {},
   "source": [
    "# Simple FCs (number --> number)"
   ]
  },
  {
   "cell_type": "markdown",
   "id": "c66eb67b",
   "metadata": {},
   "source": [
    "Build the regression model"
   ]
  },
  {
   "cell_type": "code",
   "execution_count": 13,
   "id": "9449fc0b",
   "metadata": {},
   "outputs": [],
   "source": [
    "model = keras.models.Sequential([\n",
    "    keras.layers.Dense(30, activation=\"relu\", input_shape=X_train.shape[1:]),\n",
    "    keras.layers.Dense(30, activation=\"relu\"),\n",
    "    keras.layers.Dense(1)\n",
    "])"
   ]
  },
  {
   "cell_type": "code",
   "execution_count": 14,
   "id": "8ad59bf4",
   "metadata": {},
   "outputs": [],
   "source": [
    "# # Customized loss function\n",
    "# def asymptoticLoss_fn(y_true, y_pred, alpha=0.01):\n",
    "#     # tau: quantile, tau in [0.0, 1.0]\n",
    "#     # y_true: label mean\n",
    "#     # y_pred: predicted tau quantile\n",
    "#     y_target = alpha * y_true + (1.0 - alpha) * y_pred\n",
    "#     # return tf.abs(y_pred - y_target)\n",
    "#     return (y_pred - y_target)**2"
   ]
  },
  {
   "cell_type": "code",
   "execution_count": 15,
   "id": "4de396a0",
   "metadata": {},
   "outputs": [
    {
     "name": "stderr",
     "output_type": "stream",
     "text": [
      "/home/benson516/ml/my_env/lib/python3.6/site-packages/keras/optimizer_v2/optimizer_v2.py:356: UserWarning: The `lr` argument is deprecated, use `learning_rate` instead.\n",
      "  \"The `lr` argument is deprecated, use `learning_rate` instead.\")\n"
     ]
    }
   ],
   "source": [
    "optimizer = keras.optimizers.SGD(lr=0.0001, momentum=0.9)\n",
    "model.compile(loss=\"mean_squared_error\", optimizer=optimizer)\n",
    "# optimizer = keras.optimizers.Adam(lr=0.01)\n",
    "# model.compile(loss=\"mean_absolute_error\", optimizer=optimizer)\n",
    "# # model.compile(loss=asymptoticLoss_fn, optimizer=optimizer)"
   ]
  },
  {
   "cell_type": "code",
   "execution_count": 16,
   "id": "92afd68a",
   "metadata": {
    "scrolled": true
   },
   "outputs": [
    {
     "name": "stdout",
     "output_type": "stream",
     "text": [
      "Epoch 1/100\n",
      "3/3 [==============================] - 1s 223ms/step - loss: 2506.2078 - val_loss: 1677.2809\n",
      "Epoch 2/100\n",
      "3/3 [==============================] - 0s 130ms/step - loss: 2404.3442 - val_loss: 1590.3239\n",
      "Epoch 3/100\n",
      "3/3 [==============================] - 0s 82ms/step - loss: 2232.3074 - val_loss: 1432.1711\n",
      "Epoch 4/100\n",
      "3/3 [==============================] - 0s 64ms/step - loss: 1909.5808 - val_loss: 1055.3290\n",
      "Epoch 5/100\n",
      "3/3 [==============================] - 0s 62ms/step - loss: 1096.7433 - val_loss: 474.7018\n",
      "Epoch 6/100\n",
      "3/3 [==============================] - 0s 56ms/step - loss: 477.4959 - val_loss: 876.3134\n",
      "Epoch 7/100\n",
      "3/3 [==============================] - 0s 109ms/step - loss: 920.1415 - val_loss: 263.2158\n",
      "Epoch 8/100\n",
      "3/3 [==============================] - 0s 82ms/step - loss: 292.4884 - val_loss: 377.7614\n",
      "Epoch 9/100\n",
      "3/3 [==============================] - 0s 73ms/step - loss: 634.3995 - val_loss: 380.7957\n",
      "Epoch 10/100\n",
      "3/3 [==============================] - 0s 83ms/step - loss: 526.7722 - val_loss: 200.4904\n",
      "Epoch 11/100\n",
      "3/3 [==============================] - 0s 75ms/step - loss: 266.6096 - val_loss: 295.7515\n",
      "Epoch 12/100\n",
      "3/3 [==============================] - 0s 59ms/step - loss: 364.3693 - val_loss: 188.8388\n",
      "Epoch 13/100\n",
      "3/3 [==============================] - 0s 55ms/step - loss: 204.3757 - val_loss: 219.6004\n",
      "Epoch 14/100\n",
      "3/3 [==============================] - 0s 50ms/step - loss: 283.9222 - val_loss: 238.4322\n",
      "Epoch 15/100\n",
      "3/3 [==============================] - 0s 53ms/step - loss: 253.3864 - val_loss: 225.1005\n",
      "Epoch 16/100\n",
      "3/3 [==============================] - 0s 49ms/step - loss: 231.0796 - val_loss: 230.9651\n",
      "Epoch 17/100\n",
      "3/3 [==============================] - 0s 49ms/step - loss: 230.8038 - val_loss: 185.5454\n",
      "Epoch 18/100\n",
      "3/3 [==============================] - 0s 54ms/step - loss: 201.8587 - val_loss: 174.1275\n",
      "Epoch 19/100\n",
      "3/3 [==============================] - 0s 57ms/step - loss: 205.7218 - val_loss: 165.5327\n",
      "Epoch 20/100\n",
      "3/3 [==============================] - 0s 59ms/step - loss: 197.8661 - val_loss: 171.9565\n",
      "Epoch 21/100\n",
      "3/3 [==============================] - 0s 47ms/step - loss: 199.7324 - val_loss: 172.0514\n",
      "Epoch 22/100\n",
      "3/3 [==============================] - 0s 50ms/step - loss: 195.1955 - val_loss: 171.5062\n",
      "Epoch 23/100\n",
      "3/3 [==============================] - 0s 50ms/step - loss: 192.4601 - val_loss: 174.6999\n",
      "Epoch 24/100\n",
      "3/3 [==============================] - 0s 53ms/step - loss: 196.2263 - val_loss: 179.8296\n",
      "Epoch 25/100\n",
      "3/3 [==============================] - 0s 51ms/step - loss: 192.7882 - val_loss: 176.7262\n",
      "Epoch 26/100\n",
      "3/3 [==============================] - 0s 50ms/step - loss: 191.8034 - val_loss: 171.4015\n",
      "Epoch 27/100\n",
      "3/3 [==============================] - 0s 57ms/step - loss: 194.4480 - val_loss: 163.5918\n",
      "Epoch 28/100\n",
      "3/3 [==============================] - 0s 61ms/step - loss: 191.3579 - val_loss: 164.6557\n",
      "Epoch 29/100\n",
      "3/3 [==============================] - 0s 59ms/step - loss: 191.2388 - val_loss: 171.2573\n",
      "Epoch 30/100\n",
      "3/3 [==============================] - 0s 62ms/step - loss: 191.4985 - val_loss: 175.3147\n",
      "Epoch 31/100\n",
      "3/3 [==============================] - 0s 71ms/step - loss: 188.1422 - val_loss: 174.2003\n",
      "Epoch 32/100\n",
      "3/3 [==============================] - 0s 81ms/step - loss: 187.5541 - val_loss: 172.0619\n",
      "Epoch 33/100\n",
      "3/3 [==============================] - 0s 74ms/step - loss: 186.9517 - val_loss: 169.4724\n",
      "Epoch 34/100\n",
      "3/3 [==============================] - ETA: 0s - loss: 207.126 - 0s 87ms/step - loss: 185.7374 - val_loss: 163.6534\n",
      "Epoch 35/100\n",
      "3/3 [==============================] - 0s 97ms/step - loss: 187.5585 - val_loss: 161.6851\n",
      "Epoch 36/100\n",
      "3/3 [==============================] - 0s 87ms/step - loss: 187.6168 - val_loss: 165.4178\n",
      "Epoch 37/100\n",
      "3/3 [==============================] - ETA: 0s - loss: 155.086 - 0s 89ms/step - loss: 189.0098 - val_loss: 164.8065\n",
      "Epoch 38/100\n",
      "3/3 [==============================] - 0s 106ms/step - loss: 183.0919 - val_loss: 159.3015\n",
      "Epoch 39/100\n",
      "3/3 [==============================] - 0s 88ms/step - loss: 185.0167 - val_loss: 157.3135\n",
      "Epoch 40/100\n",
      "3/3 [==============================] - 0s 84ms/step - loss: 184.5746 - val_loss: 159.1989\n",
      "Epoch 41/100\n",
      "3/3 [==============================] - 0s 82ms/step - loss: 181.7833 - val_loss: 166.3927\n",
      "Epoch 42/100\n",
      "3/3 [==============================] - 0s 105ms/step - loss: 183.6332 - val_loss: 175.2968\n",
      "Epoch 43/100\n",
      "3/3 [==============================] - 0s 121ms/step - loss: 185.3267 - val_loss: 175.5446\n",
      "Epoch 44/100\n",
      "3/3 [==============================] - 0s 117ms/step - loss: 181.6100 - val_loss: 163.2774\n",
      "Epoch 45/100\n",
      "3/3 [==============================] - 0s 98ms/step - loss: 182.0272 - val_loss: 157.0190\n",
      "Epoch 46/100\n",
      "3/3 [==============================] - 0s 100ms/step - loss: 181.5403 - val_loss: 154.7381\n",
      "Epoch 47/100\n",
      "3/3 [==============================] - 0s 87ms/step - loss: 178.9885 - val_loss: 156.7916\n",
      "Epoch 48/100\n",
      "3/3 [==============================] - 0s 86ms/step - loss: 176.7184 - val_loss: 166.0325\n",
      "Epoch 49/100\n",
      "3/3 [==============================] - 0s 109ms/step - loss: 175.2933 - val_loss: 180.7517\n",
      "Epoch 50/100\n",
      "3/3 [==============================] - 0s 103ms/step - loss: 185.9541 - val_loss: 182.5981\n",
      "Epoch 51/100\n",
      "3/3 [==============================] - 0s 101ms/step - loss: 182.3636 - val_loss: 169.5401\n",
      "Epoch 52/100\n",
      "3/3 [==============================] - 0s 101ms/step - loss: 179.3996 - val_loss: 160.3225\n",
      "Epoch 53/100\n",
      "3/3 [==============================] - 0s 113ms/step - loss: 177.2930 - val_loss: 157.4412\n",
      "Epoch 54/100\n",
      "3/3 [==============================] - 0s 84ms/step - loss: 177.9555 - val_loss: 157.9649\n",
      "Epoch 55/100\n",
      "3/3 [==============================] - 0s 82ms/step - loss: 172.4063 - val_loss: 165.5013\n",
      "Epoch 56/100\n",
      "3/3 [==============================] - 0s 98ms/step - loss: 178.0053 - val_loss: 177.2130\n",
      "Epoch 57/100\n",
      "3/3 [==============================] - 0s 107ms/step - loss: 178.7453 - val_loss: 175.2665\n",
      "Epoch 58/100\n",
      "3/3 [==============================] - 0s 98ms/step - loss: 175.5448 - val_loss: 162.1885\n",
      "Epoch 59/100\n",
      "3/3 [==============================] - 0s 86ms/step - loss: 171.9071 - val_loss: 154.8385\n",
      "Epoch 60/100\n",
      "3/3 [==============================] - 0s 93ms/step - loss: 170.5769 - val_loss: 148.0993\n",
      "Epoch 61/100\n",
      "3/3 [==============================] - 0s 97ms/step - loss: 173.6209 - val_loss: 147.7378\n",
      "Epoch 62/100\n",
      "3/3 [==============================] - 0s 116ms/step - loss: 176.2990 - val_loss: 148.3888\n",
      "Epoch 63/100\n",
      "3/3 [==============================] - 0s 97ms/step - loss: 173.0702 - val_loss: 148.7131\n",
      "Epoch 64/100\n",
      "3/3 [==============================] - 0s 92ms/step - loss: 173.0351 - val_loss: 159.1346\n",
      "Epoch 65/100\n",
      "3/3 [==============================] - 0s 88ms/step - loss: 170.2370 - val_loss: 163.3261\n",
      "Epoch 66/100\n",
      "3/3 [==============================] - 0s 85ms/step - loss: 169.7058 - val_loss: 158.7595\n",
      "Epoch 67/100\n",
      "3/3 [==============================] - 0s 97ms/step - loss: 167.4259 - val_loss: 154.6435\n",
      "Epoch 68/100\n",
      "3/3 [==============================] - 0s 79ms/step - loss: 166.9180 - val_loss: 149.4608\n",
      "Epoch 69/100\n",
      "3/3 [==============================] - 0s 99ms/step - loss: 166.8471 - val_loss: 149.5531\n",
      "Epoch 70/100\n",
      "3/3 [==============================] - 0s 80ms/step - loss: 165.9751 - val_loss: 154.7545\n",
      "Epoch 71/100\n",
      "3/3 [==============================] - 0s 86ms/step - loss: 167.3395 - val_loss: 158.3667\n",
      "Epoch 72/100\n",
      "3/3 [==============================] - 0s 79ms/step - loss: 164.8472 - val_loss: 151.6004\n",
      "Epoch 73/100\n",
      "3/3 [==============================] - 0s 81ms/step - loss: 163.6047 - val_loss: 146.1060\n",
      "Epoch 74/100\n",
      "3/3 [==============================] - 0s 81ms/step - loss: 166.6095 - val_loss: 141.3543\n",
      "Epoch 75/100\n",
      "3/3 [==============================] - 0s 94ms/step - loss: 168.0293 - val_loss: 141.9081\n",
      "Epoch 76/100\n",
      "3/3 [==============================] - 0s 62ms/step - loss: 164.6064 - val_loss: 148.1764\n",
      "Epoch 77/100\n",
      "3/3 [==============================] - 0s 64ms/step - loss: 161.4989 - val_loss: 158.5442\n",
      "Epoch 78/100\n",
      "3/3 [==============================] - 0s 74ms/step - loss: 163.6586 - val_loss: 162.2978\n",
      "Epoch 79/100\n",
      "3/3 [==============================] - 0s 83ms/step - loss: 168.0305 - val_loss: 168.2012\n"
     ]
    },
    {
     "name": "stdout",
     "output_type": "stream",
     "text": [
      "Epoch 80/100\n",
      "3/3 [==============================] - 0s 89ms/step - loss: 165.5339 - val_loss: 159.7265\n",
      "Epoch 81/100\n",
      "3/3 [==============================] - 0s 87ms/step - loss: 164.0198 - val_loss: 145.9491\n",
      "Epoch 82/100\n",
      "3/3 [==============================] - 0s 95ms/step - loss: 160.5680 - val_loss: 141.9285\n",
      "Epoch 83/100\n",
      "3/3 [==============================] - 0s 87ms/step - loss: 162.9365 - val_loss: 139.6523\n",
      "Epoch 84/100\n",
      "3/3 [==============================] - 0s 75ms/step - loss: 163.1006 - val_loss: 146.6846\n",
      "Epoch 85/100\n",
      "3/3 [==============================] - 0s 76ms/step - loss: 161.2753 - val_loss: 150.8261\n",
      "Epoch 86/100\n",
      "3/3 [==============================] - 0s 73ms/step - loss: 161.9195 - val_loss: 154.6029\n",
      "Epoch 87/100\n",
      "3/3 [==============================] - 0s 75ms/step - loss: 163.9104 - val_loss: 164.5464\n",
      "Epoch 88/100\n",
      "3/3 [==============================] - 0s 75ms/step - loss: 162.8731 - val_loss: 155.7563\n",
      "Epoch 89/100\n",
      "3/3 [==============================] - 0s 68ms/step - loss: 159.0000 - val_loss: 143.1506\n",
      "Epoch 90/100\n",
      "3/3 [==============================] - 0s 71ms/step - loss: 160.6448 - val_loss: 136.1178\n",
      "Epoch 91/100\n",
      "3/3 [==============================] - 0s 75ms/step - loss: 160.1679 - val_loss: 138.3914\n",
      "Epoch 92/100\n",
      "3/3 [==============================] - 0s 75ms/step - loss: 158.7161 - val_loss: 143.2962\n",
      "Epoch 93/100\n",
      "3/3 [==============================] - 0s 75ms/step - loss: 160.4809 - val_loss: 149.1844\n",
      "Epoch 94/100\n",
      "3/3 [==============================] - 0s 78ms/step - loss: 157.1565 - val_loss: 141.6893\n",
      "Epoch 95/100\n",
      "3/3 [==============================] - 0s 84ms/step - loss: 156.5620 - val_loss: 135.3201\n",
      "Epoch 96/100\n",
      "3/3 [==============================] - 0s 97ms/step - loss: 157.7365 - val_loss: 133.6881\n",
      "Epoch 97/100\n",
      "3/3 [==============================] - 0s 88ms/step - loss: 161.4690 - val_loss: 129.2090\n",
      "Epoch 98/100\n",
      "3/3 [==============================] - 0s 60ms/step - loss: 162.0574 - val_loss: 131.1351\n",
      "Epoch 99/100\n",
      "3/3 [==============================] - 0s 64ms/step - loss: 160.1365 - val_loss: 141.4791\n",
      "Epoch 100/100\n",
      "3/3 [==============================] - ETA: 0s - loss: 205.317 - 0s 97ms/step - loss: 156.1246 - val_loss: 142.3681\n"
     ]
    }
   ],
   "source": [
    "history = model.fit(X_train, y_train, epochs=100,\n",
    "                    validation_data=(X_valid, y_valid))"
   ]
  },
  {
   "cell_type": "markdown",
   "id": "17d6e37a",
   "metadata": {},
   "source": [
    "Plot the result"
   ]
  },
  {
   "cell_type": "code",
   "execution_count": 17,
   "id": "3b066f5c",
   "metadata": {},
   "outputs": [
    {
     "name": "stdout",
     "output_type": "stream",
     "text": [
      "Saving figure num_num_training_curve\n"
     ]
    },
    {
     "data": {
      "image/png": "[encoded data removed]",
      "text/plain": [
       "<Figure size 576x360 with 1 Axes>"
      ]
     },
     "metadata": {
      "needs_background": "light"
     },
     "output_type": "display_data"
    }
   ],
   "source": [
    "import pandas as pd\n",
    "\n",
    "pd.DataFrame(history.history).plot(figsize=(8, 5))\n",
    "plt.grid(True)\n",
    "# plt.gca().set_ylim(0, 1)\n",
    "save_fig(\"num_num_training_curve\")\n",
    "plt.show()"
   ]
  },
  {
   "cell_type": "code",
   "execution_count": 18,
   "id": "03f9bb54",
   "metadata": {},
   "outputs": [
    {
     "name": "stdout",
     "output_type": "stream",
     "text": [
      "Saving figure num_num_prediction\n"
     ]
    },
    {
     "data": {
      "image/png": "[encoded data removed]",
      "text/plain": [
       "<Figure size 432x288 with 1 Axes>"
      ]
     },
     "metadata": {
      "needs_background": "light"
     },
     "output_type": "display_data"
    }
   ],
   "source": [
    "# X_new = np.linspace(-5, 5, 100).reshape(100, 1)\n",
    "# y_new = model.predict(X_new)\n",
    "#\n",
    "# plt.plot(X_train, y_train, \"b.\")\n",
    "draw_points(X_train, y_train, sid_train)\n",
    "# plt.plot(X_new, y_new, \"r-\", linewidth=2, label=\"Predictions\")\n",
    "draw_func(model.predict, mark='r-', linewidth=2, label=\"Predictions\")\n",
    "draw_normal_func(func_dict)\n",
    "plt.xlabel(\"$x_1$\", fontsize=18)\n",
    "plt.ylabel(\"$y$\", rotation=0, fontsize=18)\n",
    "plt.legend(loc=\"upper left\", fontsize=14)\n",
    "# plt.axis([-3, 3, 0, 10])\n",
    "save_fig(\"num_num_prediction\")\n",
    "plt.show()"
   ]
  },
  {
   "cell_type": "code",
   "execution_count": 19,
   "id": "bc06d931",
   "metadata": {},
   "outputs": [
    {
     "name": "stdout",
     "output_type": "stream",
     "text": [
      "y_func.shape = (100, 1)\n",
      "y_gt.shape = (100, 1)\n"
     ]
    },
    {
     "data": {
      "text/plain": [
       "5.531279126163883"
      ]
     },
     "execution_count": 19,
     "metadata": {},
     "output_type": "execute_result"
    }
   ],
   "source": [
    "get_prediction_error(model.predict, func_dict, name=\"num-num\")"
   ]
  },
  {
   "cell_type": "markdown",
   "id": "58da8768",
   "metadata": {},
   "source": [
    "# Simulated CNN Feature Map (1-D grids, grid --> number)"
   ]
  },
  {
   "cell_type": "code",
   "execution_count": 20,
   "id": "287b5e4c",
   "metadata": {},
   "outputs": [],
   "source": [
    "class num2grid(keras.layers.Layer):\n",
    "    def __init__(self, units, x_min=-10, x_max=10, sigma=1.0, activation=None, **kwargs):\n",
    "        super().__init__(**kwargs)\n",
    "        self.units = units\n",
    "        self.x_min = x_min\n",
    "        self.x_max = x_max\n",
    "        self.sigma = sigma\n",
    "        self.sigma2 = self.sigma**2\n",
    "        self.activation = keras.activations.get(activation)\n",
    "        \n",
    "    def build(self, batch_input_shape):\n",
    "        #\n",
    "        self.x_grid = np.linspace(self.x_min, self.x_max, self.units, endpoint=True)\n",
    "#         print(\"self.x_grid.shape = %s\" % str(self.x_grid.shape))\n",
    "        #\n",
    "        super().build(batch_input_shape) # must be at the end\n",
    "        \n",
    "    def call(self, X):\n",
    "        '''\n",
    "        Input shape:  (batch, X_chanel)\n",
    "        Output shape: (batch, grid_unit) \n",
    "        \n",
    "        self.x_grid shape: (grid_unit,)\n",
    "        '''\n",
    "        gauss_grid = tf.exp( -(self.x_grid - X)**2 / (2.0*self.sigma2) )\n",
    "        print(\"X.shape = %s\" % str(X.shape))\n",
    "        print(\"gauss_grid.shape = %s\" % str(gauss_grid.shape))\n",
    "        return self.activation(gauss_grid)\n",
    "    \n",
    "    def compute_output_shape(self, batch_input_shape):\n",
    "        return tf.TensorShape(batch_input_shape.as_list()[:-1] + [self.units])\n",
    "    \n",
    "    def get_config(self):\n",
    "        base_config = super().get_config()\n",
    "        return {**base_config, \n",
    "                \"units\": self.units,\n",
    "                \"x_min\": self.x_min,\n",
    "                \"x_max\": self.x_max,\n",
    "                \"sigma\": self.sigma,\n",
    "                \"activation\": keras.activations.serialize(self.activation)}"
   ]
  },
  {
   "cell_type": "code",
   "execution_count": 21,
   "id": "f463c12a",
   "metadata": {},
   "outputs": [
    {
     "name": "stdout",
     "output_type": "stream",
     "text": [
      "X.shape = (None, 1)\n",
      "gauss_grid.shape = (None, 5)\n"
     ]
    }
   ],
   "source": [
    "model = keras.models.Sequential([\n",
    "    num2grid(5,x_min=-10, x_max=10, sigma=3.0, input_shape=X_train.shape[1:]),\n",
    "    keras.layers.Dense(30, activation=\"relu\"),\n",
    "#     keras.layers.Dense(100, activation=\"relu\", kernel_regularizer=tf.keras.regularizers.l1(0.01)),\n",
    "#     keras.layers.Dense(30, activation=keras.layers.LeakyReLU(alpha=0.2) ),\n",
    "#     keras.layers.Dense(30, activation=\"selu\"),\n",
    "#     keras.layers.Dense(30, activation=\"relu\"),\n",
    "    keras.layers.Dense(1)\n",
    "])"
   ]
  },
  {
   "cell_type": "code",
   "execution_count": 22,
   "id": "73fbb610",
   "metadata": {},
   "outputs": [],
   "source": [
    "# Customized loss function\n",
    "def asymptoticLoss_fn(y_true, y_pred, alpha=0.01):\n",
    "    # tau: quantile, tau in [0.0, 1.0]\n",
    "    # y_true: label mean\n",
    "    # y_pred: predicted tau quantile\n",
    "    y_target = alpha * y_true + (1.0 - alpha) * y_pred\n",
    "    # return tf.abs(y_pred - y_target)\n",
    "    return (y_pred - y_target)**2"
   ]
  },
  {
   "cell_type": "code",
   "execution_count": 23,
   "id": "062ec84e",
   "metadata": {},
   "outputs": [
    {
     "name": "stderr",
     "output_type": "stream",
     "text": [
      "/home/benson516/ml/my_env/lib/python3.6/site-packages/keras/optimizer_v2/optimizer_v2.py:356: UserWarning: The `lr` argument is deprecated, use `learning_rate` instead.\n",
      "  \"The `lr` argument is deprecated, use `learning_rate` instead.\")\n"
     ]
    }
   ],
   "source": [
    "# optimizer = keras.optimizers.SGD(lr=0.001, momentum=0.9)\n",
    "# model.compile(loss=\"mean_squared_error\", optimizer=optimizer)\n",
    "optimizer = keras.optimizers.Adam(lr=0.1)\n",
    "model.compile(loss=\"mean_absolute_error\", optimizer=optimizer)\n",
    "# model.compile(loss=asymptoticLoss_fn, optimizer=optimizer)"
   ]
  },
  {
   "cell_type": "code",
   "execution_count": 24,
   "id": "c966ada4",
   "metadata": {
    "scrolled": true
   },
   "outputs": [
    {
     "name": "stdout",
     "output_type": "stream",
     "text": [
      "Epoch 1/100\n",
      "X.shape = (None, 1)\n",
      "gauss_grid.shape = (None, 5)\n",
      "X.shape = (None, 1)\n",
      "gauss_grid.shape = (None, 5)\n",
      "1/3 [=========>....................] - ETA: 2s - loss: 49.8721X.shape = (None, 1)\n",
      "gauss_grid.shape = (None, 5)\n",
      "3/3 [==============================] - 2s 217ms/step - loss: 41.2451 - val_loss: 32.9525\n",
      "Epoch 2/100\n",
      "3/3 [==============================] - 0s 81ms/step - loss: 38.4639 - val_loss: 30.5372\n",
      "Epoch 3/100\n",
      "3/3 [==============================] - 0s 113ms/step - loss: 33.8414 - val_loss: 26.7107\n",
      "Epoch 4/100\n",
      "3/3 [==============================] - 0s 80ms/step - loss: 26.8150 - val_loss: 21.0802\n",
      "Epoch 5/100\n",
      "3/3 [==============================] - 0s 103ms/step - loss: 19.2471 - val_loss: 15.0462\n",
      "Epoch 6/100\n",
      "3/3 [==============================] - 0s 113ms/step - loss: 15.5608 - val_loss: 10.9741\n",
      "Epoch 7/100\n",
      "3/3 [==============================] - 0s 91ms/step - loss: 15.0169 - val_loss: 10.1593\n",
      "Epoch 8/100\n",
      "3/3 [==============================] - 0s 95ms/step - loss: 16.2007 - val_loss: 14.5868\n",
      "Epoch 9/100\n",
      "3/3 [==============================] - 0s 94ms/step - loss: 16.3140 - val_loss: 10.0630\n",
      "Epoch 10/100\n",
      "3/3 [==============================] - 0s 65ms/step - loss: 14.0286 - val_loss: 10.3817\n",
      "Epoch 11/100\n",
      "3/3 [==============================] - 0s 64ms/step - loss: 13.7722 - val_loss: 11.3007\n",
      "Epoch 12/100\n",
      "3/3 [==============================] - 0s 68ms/step - loss: 12.7469 - val_loss: 12.4695\n",
      "Epoch 13/100\n",
      "3/3 [==============================] - 0s 61ms/step - loss: 13.6875 - val_loss: 12.4714\n",
      "Epoch 14/100\n",
      "3/3 [==============================] - 0s 62ms/step - loss: 12.1987 - val_loss: 13.0209\n",
      "Epoch 15/100\n",
      "3/3 [==============================] - 0s 55ms/step - loss: 12.1090 - val_loss: 11.3062\n",
      "Epoch 16/100\n",
      "3/3 [==============================] - 0s 55ms/step - loss: 11.0300 - val_loss: 11.0431\n",
      "Epoch 17/100\n",
      "3/3 [==============================] - 0s 65ms/step - loss: 10.8123 - val_loss: 11.6324\n",
      "Epoch 18/100\n",
      "3/3 [==============================] - 0s 83ms/step - loss: 10.7300 - val_loss: 11.6326\n",
      "Epoch 19/100\n",
      "3/3 [==============================] - 0s 82ms/step - loss: 10.4778 - val_loss: 11.3335\n",
      "Epoch 20/100\n",
      "3/3 [==============================] - 0s 106ms/step - loss: 10.4515 - val_loss: 12.6547\n",
      "Epoch 21/100\n",
      "3/3 [==============================] - 0s 129ms/step - loss: 10.2340 - val_loss: 12.8106\n",
      "Epoch 22/100\n",
      "3/3 [==============================] - 0s 85ms/step - loss: 10.0363 - val_loss: 12.8244\n",
      "Epoch 23/100\n",
      "3/3 [==============================] - 0s 119ms/step - loss: 9.9711 - val_loss: 13.4408\n",
      "Epoch 24/100\n",
      "3/3 [==============================] - 0s 121ms/step - loss: 10.1411 - val_loss: 12.5715\n",
      "Epoch 25/100\n",
      "3/3 [==============================] - 0s 112ms/step - loss: 9.9794 - val_loss: 12.1891\n",
      "Epoch 26/100\n",
      "3/3 [==============================] - 0s 92ms/step - loss: 9.7641 - val_loss: 13.8390\n",
      "Epoch 27/100\n",
      "3/3 [==============================] - 0s 130ms/step - loss: 11.1591 - val_loss: 12.9193\n",
      "Epoch 28/100\n",
      "3/3 [==============================] - 0s 123ms/step - loss: 9.9418 - val_loss: 13.2775\n",
      "Epoch 29/100\n",
      "3/3 [==============================] - 0s 123ms/step - loss: 11.6990 - val_loss: 13.0344\n",
      "Epoch 30/100\n",
      "3/3 [==============================] - 0s 127ms/step - loss: 10.0818 - val_loss: 14.0314\n",
      "Epoch 31/100\n",
      "3/3 [==============================] - 0s 125ms/step - loss: 10.2660 - val_loss: 12.2533\n",
      "Epoch 32/100\n",
      "3/3 [==============================] - 0s 108ms/step - loss: 9.6600 - val_loss: 11.9060\n",
      "Epoch 33/100\n",
      "3/3 [==============================] - 0s 101ms/step - loss: 9.5755 - val_loss: 12.2704\n",
      "Epoch 34/100\n",
      "3/3 [==============================] - 0s 91ms/step - loss: 9.5959 - val_loss: 12.2642\n",
      "Epoch 35/100\n",
      "3/3 [==============================] - 0s 79ms/step - loss: 9.5460 - val_loss: 12.1125\n",
      "Epoch 36/100\n",
      "3/3 [==============================] - 0s 65ms/step - loss: 9.6770 - val_loss: 12.2662\n",
      "Epoch 37/100\n",
      "3/3 [==============================] - 0s 62ms/step - loss: 9.6235 - val_loss: 12.1230\n",
      "Epoch 38/100\n",
      "3/3 [==============================] - 0s 65ms/step - loss: 9.7219 - val_loss: 11.4872\n",
      "Epoch 39/100\n",
      "3/3 [==============================] - 0s 60ms/step - loss: 9.5907 - val_loss: 11.2992\n",
      "Epoch 40/100\n",
      "3/3 [==============================] - 0s 69ms/step - loss: 9.6401 - val_loss: 11.4903\n",
      "Epoch 41/100\n",
      "3/3 [==============================] - 0s 123ms/step - loss: 9.5802 - val_loss: 11.2348\n",
      "Epoch 42/100\n",
      "3/3 [==============================] - 0s 111ms/step - loss: 9.7182 - val_loss: 11.2775\n",
      "Epoch 43/100\n",
      "3/3 [==============================] - 0s 83ms/step - loss: 9.5879 - val_loss: 11.2090\n",
      "Epoch 44/100\n",
      "3/3 [==============================] - 0s 72ms/step - loss: 9.4994 - val_loss: 11.0120\n",
      "Epoch 45/100\n",
      "3/3 [==============================] - 0s 70ms/step - loss: 9.3609 - val_loss: 11.5899\n",
      "Epoch 46/100\n",
      "3/3 [==============================] - 0s 78ms/step - loss: 9.5559 - val_loss: 10.8904\n",
      "Epoch 47/100\n",
      "3/3 [==============================] - 0s 60ms/step - loss: 9.4526 - val_loss: 10.7099\n",
      "Epoch 48/100\n",
      "3/3 [==============================] - 0s 87ms/step - loss: 9.4434 - val_loss: 11.0045\n",
      "Epoch 49/100\n",
      "3/3 [==============================] - 0s 100ms/step - loss: 9.5010 - val_loss: 10.9158\n",
      "Epoch 50/100\n",
      "3/3 [==============================] - 0s 50ms/step - loss: 9.4338 - val_loss: 10.6845\n",
      "Epoch 51/100\n",
      "3/3 [==============================] - 0s 87ms/step - loss: 9.7087 - val_loss: 10.6028\n",
      "Epoch 52/100\n",
      "3/3 [==============================] - 0s 110ms/step - loss: 10.1403 - val_loss: 11.8769\n",
      "Epoch 53/100\n",
      "3/3 [==============================] - 0s 99ms/step - loss: 9.5216 - val_loss: 10.9917\n",
      "Epoch 54/100\n",
      "3/3 [==============================] - 0s 117ms/step - loss: 10.1669 - val_loss: 10.8582\n",
      "Epoch 55/100\n",
      "3/3 [==============================] - 0s 74ms/step - loss: 9.4121 - val_loss: 11.5794\n",
      "Epoch 56/100\n",
      "3/3 [==============================] - 0s 71ms/step - loss: 9.8346 - val_loss: 10.1485\n",
      "Epoch 57/100\n",
      "3/3 [==============================] - 0s 115ms/step - loss: 9.5524 - val_loss: 10.2954\n",
      "Epoch 58/100\n",
      "3/3 [==============================] - 0s 99ms/step - loss: 9.3230 - val_loss: 11.3296\n",
      "Epoch 59/100\n",
      "3/3 [==============================] - 0s 100ms/step - loss: 10.1349 - val_loss: 10.6747\n",
      "Epoch 60/100\n",
      "3/3 [==============================] - 0s 120ms/step - loss: 9.2218 - val_loss: 10.8602\n",
      "Epoch 61/100\n",
      "3/3 [==============================] - 0s 74ms/step - loss: 9.3984 - val_loss: 11.0057\n",
      "Epoch 62/100\n",
      "3/3 [==============================] - 0s 61ms/step - loss: 10.5435 - val_loss: 11.7212\n",
      "Epoch 63/100\n",
      "3/3 [==============================] - 0s 52ms/step - loss: 9.7733 - val_loss: 10.6227\n",
      "Epoch 64/100\n",
      "3/3 [==============================] - 0s 56ms/step - loss: 9.6361 - val_loss: 10.3100\n",
      "Epoch 65/100\n",
      "3/3 [==============================] - 0s 61ms/step - loss: 9.4567 - val_loss: 10.3133\n",
      "Epoch 66/100\n",
      "3/3 [==============================] - 0s 53ms/step - loss: 9.3301 - val_loss: 10.2227\n",
      "Epoch 67/100\n",
      "3/3 [==============================] - 0s 57ms/step - loss: 9.1633 - val_loss: 10.3606\n",
      "Epoch 68/100\n",
      "3/3 [==============================] - 0s 58ms/step - loss: 9.3158 - val_loss: 10.1468\n",
      "Epoch 69/100\n",
      "3/3 [==============================] - 0s 71ms/step - loss: 9.2251 - val_loss: 10.0606\n",
      "Epoch 70/100\n",
      "3/3 [==============================] - 0s 79ms/step - loss: 9.3767 - val_loss: 10.1911\n",
      "Epoch 71/100\n",
      "3/3 [==============================] - 0s 109ms/step - loss: 9.2817 - val_loss: 9.8929\n",
      "Epoch 72/100\n",
      "3/3 [==============================] - 0s 72ms/step - loss: 9.1847 - val_loss: 9.5472\n",
      "Epoch 73/100\n",
      "3/3 [==============================] - 0s 89ms/step - loss: 9.2148 - val_loss: 9.0994\n",
      "Epoch 74/100\n",
      "3/3 [==============================] - 0s 89ms/step - loss: 9.2860 - val_loss: 9.1241\n",
      "Epoch 75/100\n",
      "3/3 [==============================] - 0s 79ms/step - loss: 9.5106 - val_loss: 9.2191\n",
      "Epoch 76/100\n",
      "3/3 [==============================] - 0s 80ms/step - loss: 9.1059 - val_loss: 9.6381\n",
      "Epoch 77/100\n",
      "3/3 [==============================] - 0s 95ms/step - loss: 9.1388 - val_loss: 9.2047\n",
      "Epoch 78/100\n",
      "3/3 [==============================] - 0s 97ms/step - loss: 9.2623 - val_loss: 9.0177\n",
      "Epoch 79/100\n",
      "3/3 [==============================] - 0s 95ms/step - loss: 9.0966 - val_loss: 8.8237\n",
      "Epoch 80/100\n"
     ]
    },
    {
     "name": "stdout",
     "output_type": "stream",
     "text": [
      "3/3 [==============================] - 0s 83ms/step - loss: 9.1378 - val_loss: 8.8933\n",
      "Epoch 81/100\n",
      "3/3 [==============================] - 0s 85ms/step - loss: 9.2784 - val_loss: 8.8975\n",
      "Epoch 82/100\n",
      "3/3 [==============================] - 0s 90ms/step - loss: 9.1204 - val_loss: 9.2140\n",
      "Epoch 83/100\n",
      "3/3 [==============================] - 0s 88ms/step - loss: 9.1232 - val_loss: 8.9849\n",
      "Epoch 84/100\n",
      "3/3 [==============================] - 0s 61ms/step - loss: 9.2205 - val_loss: 8.5028\n",
      "Epoch 85/100\n",
      "3/3 [==============================] - 0s 65ms/step - loss: 9.1781 - val_loss: 8.3984\n",
      "Epoch 86/100\n",
      "3/3 [==============================] - 0s 88ms/step - loss: 9.2348 - val_loss: 8.5670\n",
      "Epoch 87/100\n",
      "3/3 [==============================] - 0s 85ms/step - loss: 8.9554 - val_loss: 9.2323\n",
      "Epoch 88/100\n",
      "3/3 [==============================] - 0s 105ms/step - loss: 9.2072 - val_loss: 8.9427\n",
      "Epoch 89/100\n",
      "3/3 [==============================] - 0s 84ms/step - loss: 9.5747 - val_loss: 9.0860\n",
      "Epoch 90/100\n",
      "3/3 [==============================] - 0s 66ms/step - loss: 9.2466 - val_loss: 9.5627\n",
      "Epoch 91/100\n",
      "3/3 [==============================] - 0s 50ms/step - loss: 9.6004 - val_loss: 8.5179\n",
      "Epoch 92/100\n",
      "3/3 [==============================] - 0s 60ms/step - loss: 9.1252 - val_loss: 8.7221\n",
      "Epoch 93/100\n",
      "3/3 [==============================] - 0s 52ms/step - loss: 10.0098 - val_loss: 8.7622\n",
      "Epoch 94/100\n",
      "3/3 [==============================] - 0s 52ms/step - loss: 9.5631 - val_loss: 10.6667\n",
      "Epoch 95/100\n",
      "3/3 [==============================] - 0s 53ms/step - loss: 9.6625 - val_loss: 9.6227\n",
      "Epoch 96/100\n",
      "3/3 [==============================] - 0s 92ms/step - loss: 10.3315 - val_loss: 9.7501\n",
      "Epoch 97/100\n",
      "3/3 [==============================] - 0s 90ms/step - loss: 9.2941 - val_loss: 11.6739\n",
      "Epoch 98/100\n",
      "3/3 [==============================] - 0s 88ms/step - loss: 10.2901 - val_loss: 9.7654\n",
      "Epoch 99/100\n",
      "3/3 [==============================] - 0s 82ms/step - loss: 9.0846 - val_loss: 9.3965\n",
      "Epoch 100/100\n",
      "3/3 [==============================] - 0s 71ms/step - loss: 10.0455 - val_loss: 8.8183\n"
     ]
    }
   ],
   "source": [
    "history = model.fit(X_train, y_train, epochs=100,\n",
    "                    validation_data=(X_valid, y_valid))"
   ]
  },
  {
   "cell_type": "code",
   "execution_count": 25,
   "id": "4d550f88",
   "metadata": {},
   "outputs": [
    {
     "name": "stdout",
     "output_type": "stream",
     "text": [
      "Saving figure grid_num_training_curve\n"
     ]
    },
    {
     "data": {
      "image/png": "[encoded data removed]",
      "text/plain": [
       "<Figure size 576x360 with 1 Axes>"
      ]
     },
     "metadata": {
      "needs_background": "light"
     },
     "output_type": "display_data"
    }
   ],
   "source": [
    "import pandas as pd\n",
    "\n",
    "pd.DataFrame(history.history).plot(figsize=(8, 5))\n",
    "plt.grid(True)\n",
    "# plt.gca().set_ylim(0, 1)\n",
    "save_fig(\"grid_num_training_curve\")\n",
    "plt.show()"
   ]
  },
  {
   "cell_type": "code",
   "execution_count": 26,
   "id": "5487653c",
   "metadata": {},
   "outputs": [
    {
     "name": "stdout",
     "output_type": "stream",
     "text": [
      "X.shape = (None, 1)\n",
      "gauss_grid.shape = (None, 5)\n",
      "Saving figure grid_num_prediction\n"
     ]
    },
    {
     "data": {
      "image/png": "[encoded data removed]",
      "text/plain": [
       "<Figure size 432x288 with 1 Axes>"
      ]
     },
     "metadata": {
      "needs_background": "light"
     },
     "output_type": "display_data"
    }
   ],
   "source": [
    "# X_new = np.linspace(-5, 5, 100).reshape(100, 1)\n",
    "# y_new = model.predict(X_new)\n",
    "#\n",
    "# plt.plot(X_train, y_train, \"b.\")\n",
    "draw_points(X_train, y_train, sid_train)\n",
    "# plt.plot(X_new, y_new, \"r-\", linewidth=2, label=\"Predictions\")\n",
    "draw_func(model.predict, mark='r-', linewidth=2, label=\"Predictions\")\n",
    "draw_normal_func(func_dict)\n",
    "plt.xlabel(\"$x_1$\", fontsize=18)\n",
    "plt.ylabel(\"$y$\", rotation=0, fontsize=18)\n",
    "plt.legend(loc=\"upper left\", fontsize=14)\n",
    "# plt.axis([-3, 3, 0, 10])\n",
    "save_fig(\"grid_num_prediction\")\n",
    "plt.show()"
   ]
  },
  {
   "cell_type": "code",
   "execution_count": 27,
   "id": "f9c053a4",
   "metadata": {},
   "outputs": [
    {
     "name": "stdout",
     "output_type": "stream",
     "text": [
      "y_func.shape = (100, 1)\n",
      "y_gt.shape = (100, 1)\n"
     ]
    },
    {
     "data": {
      "text/plain": [
       "3.7515419113717456"
      ]
     },
     "execution_count": 27,
     "metadata": {},
     "output_type": "execute_result"
    }
   ],
   "source": [
    "get_prediction_error(model.predict, func_dict, name=\"grid-num\")"
   ]
  },
  {
   "cell_type": "markdown",
   "id": "fe65d614",
   "metadata": {},
   "source": [
    "# Grid & Regression by Classification (grid --> grid)"
   ]
  },
  {
   "cell_type": "code",
   "execution_count": 28,
   "id": "3d35615e",
   "metadata": {},
   "outputs": [],
   "source": [
    "class num2grid_np():\n",
    "    def __init__(self, units, x_min=-10, x_max=10, sigma=1.0):\n",
    "        self.units = units\n",
    "        self.x_min = x_min\n",
    "        self.x_max = x_max\n",
    "        self.sigma = sigma\n",
    "        self.sigma2 = self.sigma**2\n",
    "        self.x_grid = np.linspace(self.x_min, self.x_max, self.units, endpoint=True)\n",
    "        print(\"self.x_grid = %s\" % str(self.x_grid))\n",
    "        \n",
    "    def convert(self, X):\n",
    "        gauss_grid = np.exp( -(self.x_grid - X)**2 / (2.0*self.sigma2) )\n",
    "#         if len(gauss_grid.shape) == 1:\n",
    "#             gauss_grid = gauss_grid.reshape([1,-1])\n",
    "#         grid_sum = np.sum(gauss_grid, axis=1, keepdims=True)\n",
    "        grid_sum = np.sum(gauss_grid, axis=-1, keepdims=True)\n",
    "        gauss_grid = gauss_grid / grid_sum\n",
    "        return gauss_grid\n",
    "    \n",
    "    def inv_convert(self, grid):\n",
    "#         if len(grid.shape) == 1:\n",
    "#             grid = grid.reshape([1,-1])\n",
    "#         grid_sum = np.sum(grid, axis=1)\n",
    "        grid_sum = np.sum(grid, axis=-1)\n",
    "#         print(grid_sum)\n",
    "        exp_num = np.sum((self.x_grid * grid), axis=-1) / grid_sum # element-wise\n",
    "        return exp_num\n",
    "    \n",
    "    def get_statistic(self, grid):\n",
    "        grid_sum = np.sum(grid, axis=-1)\n",
    "        _mean = np.sum((self.x_grid * grid), axis=-1) / grid_sum # element-wise\n",
    "        _var  = np.sum( ((self.x_grid.reshape((1,-1)) - _mean.reshape((-1,1)))**2 * grid), axis=-1) / grid_sum # element-wise\n",
    "        # print(\"(_mean, _var) = (%f, %f)\" % (_mean, _var))\n",
    "        _stddev = np.sqrt(_var)\n",
    "        return _mean, _stddev"
   ]
  },
  {
   "cell_type": "code",
   "execution_count": 29,
   "id": "4903180b",
   "metadata": {},
   "outputs": [
    {
     "name": "stdout",
     "output_type": "stream",
     "text": [
      "self.x_grid = [-100.          -95.91836735  -91.83673469  -87.75510204  -83.67346939\n",
      "  -79.59183673  -75.51020408  -71.42857143  -67.34693878  -63.26530612\n",
      "  -59.18367347  -55.10204082  -51.02040816  -46.93877551  -42.85714286\n",
      "  -38.7755102   -34.69387755  -30.6122449   -26.53061224  -22.44897959\n",
      "  -18.36734694  -14.28571429  -10.20408163   -6.12244898   -2.04081633\n",
      "    2.04081633    6.12244898   10.20408163   14.28571429   18.36734694\n",
      "   22.44897959   26.53061224   30.6122449    34.69387755   38.7755102\n",
      "   42.85714286   46.93877551   51.02040816   55.10204082   59.18367347\n",
      "   63.26530612   67.34693878   71.42857143   75.51020408   79.59183673\n",
      "   83.67346939   87.75510204   91.83673469   95.91836735  100.        ]\n"
     ]
    }
   ],
   "source": [
    "# class_num = 10 # 10\n",
    "# n2g = num2grid_np(class_num, x_min=-100.0, x_max=100.0, sigma=20.0) # 20.0\n",
    "# class_num = 20\n",
    "# n2g = num2grid_np(class_num, x_min=-100.0, x_max=100.0, sigma=15.0) # 20.0\n",
    "class_num = 50\n",
    "n2g = num2grid_np(class_num, x_min=-100.0, x_max=100.0, sigma=6.0) # 5.0 "
   ]
  },
  {
   "cell_type": "code",
   "execution_count": 30,
   "id": "dce05258",
   "metadata": {},
   "outputs": [
    {
     "name": "stdout",
     "output_type": "stream",
     "text": [
      "[[3.57995092e-60 2.08100846e-55 7.61538914e-51 1.75441300e-46\n",
      "  2.54444491e-42 2.32314196e-38 1.33530332e-34 4.83176258e-31\n",
      "  1.10065884e-27 1.57841554e-24 1.42498879e-21 8.09884396e-19\n",
      "  2.89771784e-16 6.52695532e-14 9.25521826e-12 8.26198061e-10\n",
      "  4.64304784e-08 1.64264466e-06 3.65852120e-05 5.12966502e-04\n",
      "  4.52786966e-03 2.51605603e-02 8.80173281e-02 1.93837381e-01\n",
      "  2.68737559e-01 2.34552834e-01 1.28876722e-01 4.45789421e-02\n",
      "  9.70748025e-03 1.33077537e-03 1.14848275e-04 6.23972825e-06\n",
      "  2.13416679e-07 4.59528573e-09 6.22899760e-11 5.31551427e-13\n",
      "  2.85557712e-15 9.65748361e-18 2.05615356e-20 2.75593262e-23\n",
      "  2.32542921e-26 1.23526215e-29 4.13082337e-33 8.69632169e-37\n",
      "  1.15254011e-40 9.61607812e-45 5.05081425e-49 1.67011468e-53\n",
      "  3.47658354e-58 4.55596654e-63]]\n"
     ]
    }
   ],
   "source": [
    "# grid_1 = n2g.convert(-1.2)\n",
    "grid_1 = n2g.convert([[-1.2]])\n",
    "print(grid_1)"
   ]
  },
  {
   "cell_type": "code",
   "execution_count": 31,
   "id": "48203fe2",
   "metadata": {},
   "outputs": [
    {
     "data": {
      "text/plain": [
       "array([-1.2])"
      ]
     },
     "execution_count": 31,
     "metadata": {},
     "output_type": "execute_result"
    }
   ],
   "source": [
    "n2g.inv_convert(grid_1)"
   ]
  },
  {
   "cell_type": "code",
   "execution_count": 32,
   "id": "a741b6d1",
   "metadata": {},
   "outputs": [
    {
     "data": {
      "text/plain": [
       "(array([-1.2]), array([6.]))"
      ]
     },
     "execution_count": 32,
     "metadata": {},
     "output_type": "execute_result"
    }
   ],
   "source": [
    "n2g.get_statistic(grid_1)"
   ]
  },
  {
   "cell_type": "markdown",
   "id": "bdc0b9a0",
   "metadata": {},
   "source": [
    "### Convert the labels to grid (pre-processing)"
   ]
  },
  {
   "cell_type": "code",
   "execution_count": 33,
   "id": "39c7fa96",
   "metadata": {},
   "outputs": [],
   "source": [
    "y_train_grid = n2g.convert(y_train)\n",
    "y_valid_grid = n2g.convert(y_valid)"
   ]
  },
  {
   "cell_type": "code",
   "execution_count": 34,
   "id": "f577a751",
   "metadata": {},
   "outputs": [
    {
     "name": "stdout",
     "output_type": "stream",
     "text": [
      "(80, 50)\n",
      "(20, 50)\n"
     ]
    }
   ],
   "source": [
    "print(y_train_grid.shape)\n",
    "print(y_valid_grid.shape)"
   ]
  },
  {
   "cell_type": "code",
   "execution_count": 35,
   "id": "71610af1",
   "metadata": {},
   "outputs": [
    {
     "name": "stdout",
     "output_type": "stream",
     "text": [
      "X.shape = (None, 1)\n",
      "gauss_grid.shape = (None, 5)\n"
     ]
    },
    {
     "name": "stderr",
     "output_type": "stream",
     "text": [
      "/home/benson516/ml/my_env/lib/python3.6/site-packages/keras/optimizer_v2/optimizer_v2.py:356: UserWarning: The `lr` argument is deprecated, use `learning_rate` instead.\n",
      "  \"The `lr` argument is deprecated, use `learning_rate` instead.\")\n"
     ]
    }
   ],
   "source": [
    "model = keras.models.Sequential([\n",
    "#     keras.layers.Dense(30, activation=\"relu\", input_shape=X_train.shape[1:]),\n",
    "    num2grid(5,x_min=-10, x_max=10, sigma=3.0, input_shape=X_train.shape[1:]),\n",
    "    keras.layers.Dense(30, activation=\"relu\"),\n",
    "#     keras.layers.Dense(100, activation=\"relu\", kernel_regularizer=tf.keras.regularizers.l1(0.01)),\n",
    "    keras.layers.Dense(class_num, activation=\"softmax\"),\n",
    "])\n",
    "\n",
    "optimizer = keras.optimizers.SGD(lr=0.2, momentum=0.9)\n",
    "model.compile(loss=\"categorical_crossentropy\", optimizer=optimizer)"
   ]
  },
  {
   "cell_type": "code",
   "execution_count": 36,
   "id": "e2244aee",
   "metadata": {
    "scrolled": true
   },
   "outputs": [
    {
     "name": "stdout",
     "output_type": "stream",
     "text": [
      "Epoch 1/100\n",
      "X.shape = (None, 1)\n",
      "gauss_grid.shape = (None, 5)\n",
      "X.shape = (None, 1)\n",
      "gauss_grid.shape = (None, 5)\n",
      "1/3 [=========>....................] - ETA: 2s - loss: 3.9644X.shape = (None, 1)\n",
      "gauss_grid.shape = (None, 5)\n",
      "3/3 [==============================] - 2s 239ms/step - loss: 3.9456 - val_loss: 3.8704\n",
      "Epoch 2/100\n",
      "3/3 [==============================] - 0s 123ms/step - loss: 3.8922 - val_loss: 3.8333\n",
      "Epoch 3/100\n",
      "3/3 [==============================] - 0s 114ms/step - loss: 3.8172 - val_loss: 3.7908\n",
      "Epoch 4/100\n",
      "3/3 [==============================] - 0s 104ms/step - loss: 3.7373 - val_loss: 3.7397\n",
      "Epoch 5/100\n",
      "3/3 [==============================] - 0s 97ms/step - loss: 3.6545 - val_loss: 3.6877\n",
      "Epoch 6/100\n",
      "3/3 [==============================] - 0s 85ms/step - loss: 3.5438 - val_loss: 3.6424\n",
      "Epoch 7/100\n",
      "3/3 [==============================] - 0s 76ms/step - loss: 3.4365 - val_loss: 3.5829\n",
      "Epoch 8/100\n",
      "3/3 [==============================] - 0s 109ms/step - loss: 3.3294 - val_loss: 3.5071\n",
      "Epoch 9/100\n",
      "3/3 [==============================] - 0s 90ms/step - loss: 3.2322 - val_loss: 3.4237\n",
      "Epoch 10/100\n",
      "3/3 [==============================] - ETA: 0s - loss: 3.096 - 0s 93ms/step - loss: 3.1462 - val_loss: 3.3178\n",
      "Epoch 11/100\n",
      "3/3 [==============================] - 0s 114ms/step - loss: 3.0821 - val_loss: 3.2055\n",
      "Epoch 12/100\n",
      "3/3 [==============================] - 0s 98ms/step - loss: 3.0318 - val_loss: 3.1357\n",
      "Epoch 13/100\n",
      "3/3 [==============================] - 0s 115ms/step - loss: 2.9898 - val_loss: 3.0868\n",
      "Epoch 14/100\n",
      "3/3 [==============================] - 0s 82ms/step - loss: 2.9560 - val_loss: 3.0663\n",
      "Epoch 15/100\n",
      "3/3 [==============================] - 0s 107ms/step - loss: 2.9257 - val_loss: 3.0472\n",
      "Epoch 16/100\n",
      "3/3 [==============================] - 0s 81ms/step - loss: 2.8983 - val_loss: 3.0189\n",
      "Epoch 17/100\n",
      "3/3 [==============================] - 0s 52ms/step - loss: 2.8668 - val_loss: 3.0076\n",
      "Epoch 18/100\n",
      "3/3 [==============================] - 0s 79ms/step - loss: 2.8380 - val_loss: 3.0003\n",
      "Epoch 19/100\n",
      "3/3 [==============================] - 0s 69ms/step - loss: 2.8106 - val_loss: 2.9589\n",
      "Epoch 20/100\n",
      "3/3 [==============================] - 0s 61ms/step - loss: 2.7908 - val_loss: 2.9525\n",
      "Epoch 21/100\n",
      "3/3 [==============================] - 0s 67ms/step - loss: 2.7682 - val_loss: 2.9714\n",
      "Epoch 22/100\n",
      "3/3 [==============================] - 0s 96ms/step - loss: 2.7383 - val_loss: 2.9179\n",
      "Epoch 23/100\n",
      "3/3 [==============================] - 0s 110ms/step - loss: 2.7235 - val_loss: 2.9007\n",
      "Epoch 24/100\n",
      "3/3 [==============================] - 0s 111ms/step - loss: 2.7001 - val_loss: 2.8778\n",
      "Epoch 25/100\n",
      "3/3 [==============================] - 0s 112ms/step - loss: 2.6816 - val_loss: 2.8562\n",
      "Epoch 26/100\n",
      "3/3 [==============================] - 0s 100ms/step - loss: 2.6645 - val_loss: 2.8404\n",
      "Epoch 27/100\n",
      "3/3 [==============================] - 0s 83ms/step - loss: 2.6575 - val_loss: 2.8152\n",
      "Epoch 28/100\n",
      "3/3 [==============================] - 0s 71ms/step - loss: 2.6342 - val_loss: 2.8302\n",
      "Epoch 29/100\n",
      "3/3 [==============================] - 0s 101ms/step - loss: 2.6228 - val_loss: 2.8245\n",
      "Epoch 30/100\n",
      "3/3 [==============================] - 0s 86ms/step - loss: 2.6230 - val_loss: 2.7988\n",
      "Epoch 31/100\n",
      "3/3 [==============================] - 0s 96ms/step - loss: 2.5947 - val_loss: 2.7741\n",
      "Epoch 32/100\n",
      "3/3 [==============================] - 0s 105ms/step - loss: 2.5941 - val_loss: 2.7559\n",
      "Epoch 33/100\n",
      "3/3 [==============================] - 0s 100ms/step - loss: 2.5793 - val_loss: 2.7965\n",
      "Epoch 34/100\n",
      "3/3 [==============================] - 0s 92ms/step - loss: 2.5827 - val_loss: 2.7911\n",
      "Epoch 35/100\n",
      "3/3 [==============================] - 0s 88ms/step - loss: 2.5673 - val_loss: 2.7468\n",
      "Epoch 36/100\n",
      "3/3 [==============================] - 0s 91ms/step - loss: 2.5534 - val_loss: 2.7627\n",
      "Epoch 37/100\n",
      "3/3 [==============================] - 0s 113ms/step - loss: 2.5481 - val_loss: 2.7938\n",
      "Epoch 38/100\n",
      "3/3 [==============================] - 0s 97ms/step - loss: 2.5390 - val_loss: 2.7270\n",
      "Epoch 39/100\n",
      "3/3 [==============================] - 0s 74ms/step - loss: 2.5325 - val_loss: 2.6818\n",
      "Epoch 40/100\n",
      "3/3 [==============================] - 0s 106ms/step - loss: 2.5258 - val_loss: 2.6829\n",
      "Epoch 41/100\n",
      "3/3 [==============================] - 0s 92ms/step - loss: 2.5238 - val_loss: 2.7004\n",
      "Epoch 42/100\n",
      "3/3 [==============================] - 0s 73ms/step - loss: 2.5132 - val_loss: 2.6868\n",
      "Epoch 43/100\n",
      "3/3 [==============================] - 0s 69ms/step - loss: 2.5043 - val_loss: 2.6418\n",
      "Epoch 44/100\n",
      "3/3 [==============================] - 0s 61ms/step - loss: 2.5107 - val_loss: 2.6226\n",
      "Epoch 45/100\n",
      "3/3 [==============================] - 0s 49ms/step - loss: 2.4963 - val_loss: 2.7264\n",
      "Epoch 46/100\n",
      "3/3 [==============================] - 0s 53ms/step - loss: 2.5163 - val_loss: 2.7638\n",
      "Epoch 47/100\n",
      "3/3 [==============================] - 0s 74ms/step - loss: 2.4950 - val_loss: 2.6877\n",
      "Epoch 48/100\n",
      "3/3 [==============================] - 0s 111ms/step - loss: 2.5049 - val_loss: 2.6176\n",
      "Epoch 49/100\n",
      "3/3 [==============================] - 0s 114ms/step - loss: 2.4933 - val_loss: 2.6974\n",
      "Epoch 50/100\n",
      "3/3 [==============================] - 0s 97ms/step - loss: 2.4777 - val_loss: 2.6741\n",
      "Epoch 51/100\n",
      "3/3 [==============================] - 0s 110ms/step - loss: 2.4756 - val_loss: 2.6376\n",
      "Epoch 52/100\n",
      "3/3 [==============================] - 0s 111ms/step - loss: 2.4737 - val_loss: 2.6668\n",
      "Epoch 53/100\n",
      "3/3 [==============================] - 0s 75ms/step - loss: 2.4730 - val_loss: 2.6807\n",
      "Epoch 54/100\n",
      "3/3 [==============================] - 0s 67ms/step - loss: 2.4692 - val_loss: 2.6210\n",
      "Epoch 55/100\n",
      "3/3 [==============================] - 0s 92ms/step - loss: 2.4644 - val_loss: 2.6406\n",
      "Epoch 56/100\n",
      "3/3 [==============================] - 0s 104ms/step - loss: 2.4567 - val_loss: 2.6739\n",
      "Epoch 57/100\n",
      "3/3 [==============================] - 0s 73ms/step - loss: 2.4633 - val_loss: 2.6593\n",
      "Epoch 58/100\n",
      "3/3 [==============================] - 0s 92ms/step - loss: 2.4497 - val_loss: 2.6199\n",
      "Epoch 59/100\n",
      "3/3 [==============================] - 0s 69ms/step - loss: 2.4492 - val_loss: 2.6155\n",
      "Epoch 60/100\n",
      "3/3 [==============================] - 0s 76ms/step - loss: 2.4421 - val_loss: 2.6015\n",
      "Epoch 61/100\n",
      "3/3 [==============================] - 0s 69ms/step - loss: 2.4456 - val_loss: 2.5856\n",
      "Epoch 62/100\n",
      "3/3 [==============================] - 0s 103ms/step - loss: 2.4443 - val_loss: 2.6201\n",
      "Epoch 63/100\n",
      "3/3 [==============================] - 0s 81ms/step - loss: 2.4347 - val_loss: 2.6021\n",
      "Epoch 64/100\n",
      "3/3 [==============================] - 0s 71ms/step - loss: 2.4298 - val_loss: 2.5690\n",
      "Epoch 65/100\n",
      "3/3 [==============================] - 0s 78ms/step - loss: 2.4227 - val_loss: 2.5848\n",
      "Epoch 66/100\n",
      "3/3 [==============================] - 0s 78ms/step - loss: 2.4241 - val_loss: 2.6132\n",
      "Epoch 67/100\n",
      "3/3 [==============================] - 0s 113ms/step - loss: 2.4189 - val_loss: 2.6703\n",
      "Epoch 68/100\n",
      "3/3 [==============================] - 0s 85ms/step - loss: 2.4221 - val_loss: 2.6151\n",
      "Epoch 69/100\n",
      "3/3 [==============================] - 0s 70ms/step - loss: 2.4138 - val_loss: 2.5626\n",
      "Epoch 70/100\n",
      "3/3 [==============================] - 0s 73ms/step - loss: 2.4262 - val_loss: 2.5474\n",
      "Epoch 71/100\n",
      "3/3 [==============================] - 0s 55ms/step - loss: 2.4255 - val_loss: 2.6040\n",
      "Epoch 72/100\n",
      "3/3 [==============================] - 0s 48ms/step - loss: 2.4141 - val_loss: 2.6274\n",
      "Epoch 73/100\n",
      "3/3 [==============================] - 0s 50ms/step - loss: 2.4076 - val_loss: 2.5779\n",
      "Epoch 74/100\n",
      "3/3 [==============================] - 0s 84ms/step - loss: 2.4096 - val_loss: 2.5838\n",
      "Epoch 75/100\n",
      "3/3 [==============================] - 0s 115ms/step - loss: 2.4085 - val_loss: 2.6222\n",
      "Epoch 76/100\n",
      "3/3 [==============================] - 0s 85ms/step - loss: 2.4077 - val_loss: 2.6004\n",
      "Epoch 77/100\n",
      "3/3 [==============================] - 0s 114ms/step - loss: 2.4024 - val_loss: 2.5673\n",
      "Epoch 78/100\n",
      "3/3 [==============================] - 0s 100ms/step - loss: 2.4066 - val_loss: 2.5793\n",
      "Epoch 79/100\n",
      "3/3 [==============================] - 0s 86ms/step - loss: 2.4081 - val_loss: 2.5515\n",
      "Epoch 80/100\n",
      "3/3 [==============================] - 0s 82ms/step - loss: 2.4052 - val_loss: 2.5549\n",
      "Epoch 81/100\n"
     ]
    },
    {
     "name": "stdout",
     "output_type": "stream",
     "text": [
      "3/3 [==============================] - 0s 110ms/step - loss: 2.3861 - val_loss: 2.6137\n",
      "Epoch 82/100\n",
      "3/3 [==============================] - 0s 93ms/step - loss: 2.4002 - val_loss: 2.5989\n",
      "Epoch 83/100\n",
      "3/3 [==============================] - 0s 97ms/step - loss: 2.4094 - val_loss: 2.5332\n",
      "Epoch 84/100\n",
      "3/3 [==============================] - 0s 88ms/step - loss: 2.4111 - val_loss: 2.5412\n",
      "Epoch 85/100\n",
      "3/3 [==============================] - 0s 109ms/step - loss: 2.3944 - val_loss: 2.5761\n",
      "Epoch 86/100\n",
      "3/3 [==============================] - 0s 108ms/step - loss: 2.3979 - val_loss: 2.6779\n",
      "Epoch 87/100\n",
      "3/3 [==============================] - 0s 94ms/step - loss: 2.3998 - val_loss: 2.6701\n",
      "Epoch 88/100\n",
      "3/3 [==============================] - 0s 97ms/step - loss: 2.4103 - val_loss: 2.5607\n",
      "Epoch 89/100\n",
      "3/3 [==============================] - ETA: 0s - loss: 2.315 - 0s 93ms/step - loss: 2.3838 - val_loss: 2.5176\n",
      "Epoch 90/100\n",
      "3/3 [==============================] - 0s 107ms/step - loss: 2.3877 - val_loss: 2.5157\n",
      "Epoch 91/100\n",
      "3/3 [==============================] - 0s 98ms/step - loss: 2.4023 - val_loss: 2.5580\n",
      "Epoch 92/100\n",
      "3/3 [==============================] - 0s 97ms/step - loss: 2.3873 - val_loss: 2.6005\n",
      "Epoch 93/100\n",
      "3/3 [==============================] - 0s 95ms/step - loss: 2.3961 - val_loss: 2.6146\n",
      "Epoch 94/100\n",
      "3/3 [==============================] - 0s 83ms/step - loss: 2.3778 - val_loss: 2.6444\n",
      "Epoch 95/100\n",
      "3/3 [==============================] - 0s 68ms/step - loss: 2.3859 - val_loss: 2.5188\n",
      "Epoch 96/100\n",
      "3/3 [==============================] - 0s 62ms/step - loss: 2.3821 - val_loss: 2.4557\n",
      "Epoch 97/100\n",
      "3/3 [==============================] - 0s 52ms/step - loss: 2.4000 - val_loss: 2.5014\n",
      "Epoch 98/100\n",
      "3/3 [==============================] - 0s 50ms/step - loss: 2.3863 - val_loss: 2.5936\n",
      "Epoch 99/100\n",
      "3/3 [==============================] - 0s 47ms/step - loss: 2.3830 - val_loss: 2.6095\n",
      "Epoch 100/100\n",
      "3/3 [==============================] - 0s 110ms/step - loss: 2.3775 - val_loss: 2.5827\n"
     ]
    }
   ],
   "source": [
    "history = model.fit(X_train, y_train_grid, epochs=100,\n",
    "                    validation_data=(X_valid, y_valid_grid))"
   ]
  },
  {
   "cell_type": "code",
   "execution_count": 37,
   "id": "390834c9",
   "metadata": {},
   "outputs": [
    {
     "name": "stdout",
     "output_type": "stream",
     "text": [
      "Saving figure grid_rbc_training_curve\n"
     ]
    },
    {
     "data": {
      "image/png": "[encoded data removed]",
      "text/plain": [
       "<Figure size 576x360 with 1 Axes>"
      ]
     },
     "metadata": {
      "needs_background": "light"
     },
     "output_type": "display_data"
    }
   ],
   "source": [
    "import pandas as pd\n",
    "\n",
    "pd.DataFrame(history.history).plot(figsize=(8, 5))\n",
    "plt.grid(True)\n",
    "# plt.gca().set_ylim(0, 1)\n",
    "save_fig(\"grid_rbc_training_curve\")\n",
    "plt.show()"
   ]
  },
  {
   "cell_type": "code",
   "execution_count": 38,
   "id": "6fba3b6a",
   "metadata": {},
   "outputs": [
    {
     "name": "stdout",
     "output_type": "stream",
     "text": [
      "X.shape = (None, 1)\n",
      "gauss_grid.shape = (None, 5)\n",
      "Saving figure grid_rbc_prediction\n"
     ]
    },
    {
     "data": {
      "image/png": "[encoded data removed]",
      "text/plain": [
       "<Figure size 432x288 with 1 Axes>"
      ]
     },
     "metadata": {
      "needs_background": "light"
     },
     "output_type": "display_data"
    }
   ],
   "source": [
    "# X_new = np.linspace(-5, 5, 100).reshape(100, 1)\n",
    "# y_new_proba = model.predict(X_new)\n",
    "# y_new = n2g.inv_convert(y_new_proba)\n",
    "#\n",
    "# plt.plot(X_train, y_train, \"b.\")\n",
    "draw_points(X_train, y_train, sid_train)\n",
    "# plt.plot(X_new, y_new, \"r-\", linewidth=2, label=\"Predictions\")\n",
    "draw_func((lambda X: n2g.inv_convert(model.predict(X)) ), mark='r-', linewidth=2, label=\"Predictions\")\n",
    "draw_normal_func(func_dict)\n",
    "plt.xlabel(\"$x_1$\", fontsize=18)\n",
    "plt.ylabel(\"$y$\", rotation=0, fontsize=18)\n",
    "plt.legend(loc=\"upper left\", fontsize=14)\n",
    "# plt.axis([-3, 3, 0, 10])\n",
    "save_fig(\"grid_rbc_prediction\")\n",
    "plt.show()"
   ]
  },
  {
   "cell_type": "code",
   "execution_count": 39,
   "id": "fc059ba5",
   "metadata": {},
   "outputs": [
    {
     "name": "stdout",
     "output_type": "stream",
     "text": [
      "y_func.shape = (100, 1)\n",
      "y_gt.shape = (100, 1)\n"
     ]
    },
    {
     "data": {
      "text/plain": [
       "3.792667696243873"
      ]
     },
     "execution_count": 39,
     "metadata": {},
     "output_type": "execute_result"
    }
   ],
   "source": [
    "get_prediction_error((lambda X: n2g.inv_convert(model.predict(X)) ), func_dict, name=\"grid-rbc\")"
   ]
  },
  {
   "cell_type": "code",
   "execution_count": 40,
   "id": "edcf26db",
   "metadata": {},
   "outputs": [
    {
     "name": "stdout",
     "output_type": "stream",
     "text": [
      "Saving figure grid_rbc_proba\n"
     ]
    },
    {
     "data": {
      "image/png": "[encoded data removed]",
      "text/plain": [
       "<Figure size 432x288 with 1 Axes>"
      ]
     },
     "metadata": {
      "needs_background": "light"
     },
     "output_type": "display_data"
    }
   ],
   "source": [
    "X_new = np.linspace(-5, 5, 100).reshape(100, 1)\n",
    "y_new_proba = model.predict(X_new)\n",
    "# y_new = n2g.inv_convert(y_new_proba)\n",
    "#\n",
    "xv, yv = np.meshgrid(X_new, np.linspace(n2g.x_min, n2g.x_max, n2g.units))\n",
    "# print(xv)\n",
    "# print(yv)\n",
    "plt.pcolormesh(xv, yv, y_new_proba.T, shading=\"nearest\")\n",
    "save_fig(\"grid_rbc_proba\")"
   ]
  },
  {
   "cell_type": "markdown",
   "id": "4064d3b5",
   "metadata": {},
   "source": [
    "### Draw the 1-sigma boundary line"
   ]
  },
  {
   "cell_type": "code",
   "execution_count": 41,
   "id": "247e8712",
   "metadata": {},
   "outputs": [
    {
     "name": "stdout",
     "output_type": "stream",
     "text": [
      "Saving figure grid_rbc_prediction_1sigma\n"
     ]
    },
    {
     "data": {
      "image/png": "[encoded data removed]",
      "text/plain": [
       "<Figure size 432x288 with 1 Axes>"
      ]
     },
     "metadata": {
      "needs_background": "light"
     },
     "output_type": "display_data"
    }
   ],
   "source": [
    "def n_sigma_boundary_line(X, n):\n",
    "    _mean, _sigma = n2g.get_statistic(model.predict(X))\n",
    "    return( _mean + n*_sigma)\n",
    "\n",
    "# plt.plot(X_train, y_train, \"b.\")\n",
    "draw_points(X_train, y_train, sid_train)\n",
    "#\n",
    "draw_func((lambda X: n2g.inv_convert(model.predict(X)) ), mark='r-', linewidth=2, label=\"Predictions\")\n",
    "draw_func((lambda X: n_sigma_boundary_line(X, +1.0) ), mark='k--', linewidth=1, label=\"$\\mu+\\sigma$\")\n",
    "draw_func((lambda X: n_sigma_boundary_line(X, -1.0) ), mark='k--', linewidth=1, label=\"$\\mu-\\sigma$\")\n",
    "#\n",
    "draw_normal_func(func_dict)\n",
    "plt.xlabel(\"$x_1$\", fontsize=18)\n",
    "plt.ylabel(\"$y$\", rotation=0, fontsize=18)\n",
    "plt.legend(loc=\"upper left\", fontsize=14)\n",
    "# plt.axis([-3, 3, 0, 10])\n",
    "save_fig(\"grid_rbc_prediction_1sigma\")\n",
    "plt.show()"
   ]
  },
  {
   "cell_type": "code",
   "execution_count": null,
   "id": "e6266336",
   "metadata": {},
   "outputs": [],
   "source": []
  },
  {
   "cell_type": "markdown",
   "id": "99a85ab5",
   "metadata": {},
   "source": [
    "# Grid & Regression by Classification + Offset Estimation (grid --> grid,num)"
   ]
  },
  {
   "cell_type": "code",
   "execution_count": 42,
   "id": "26440167",
   "metadata": {},
   "outputs": [],
   "source": [
    "class num2gridOffset_np():\n",
    "    def __init__(self, units, x_min=-10, x_max=10):\n",
    "        self.units = units\n",
    "        self.x_min = x_min\n",
    "        self.x_max = x_max\n",
    "        self.x_grid = np.linspace(self.x_min, self.x_max, self.units, endpoint=True)\n",
    "        # bins\n",
    "        x_space = np.average(self.x_grid[1:] - self.x_grid[:-1])\n",
    "        print(\"x_space = %f\" % x_space)\n",
    "        x_0 = self.x_grid[0] - 0.5 * x_space\n",
    "        self.x_bins = [x_0 + _i*x_space for _i in range(len(self.x_grid)+1)]\n",
    "        print(\"self.x_grid = %s\" % str(self.x_grid))\n",
    "#         print(\"self.x_bins = %s\" % str(self.x_bins))\n",
    "        \n",
    "    def convert(self, X):\n",
    "        '''\n",
    "        Convert a batch of number to one-hot class and numerical offset to each grid's center\n",
    "        (m, 1) --> (m, n_units, 2)\n",
    "        '''\n",
    "        X = np.array(X)\n",
    "        if len(X.shape) <= 1:\n",
    "            X = X.reshape((-1,1))\n",
    "        idxs_bin = np.digitize(X, self.x_bins, right=False) \n",
    "        idxs_grid = (idxs_bin - 1) + 1*(idxs_bin<= 0) - 1*(idxs_bin>=self.units)\n",
    "        print(idxs_grid.shape)\n",
    "        #\n",
    "        batch_size = X.shape[0]\n",
    "        grid = np.zeros((batch_size, self.units, 2))\n",
    "        # Fill in the values\n",
    "        grid[np.arange(batch_size), idxs_grid.reshape((-1,)), 0] = 1.0\n",
    "        grid[np.arange(batch_size), :, 1] = X - self.x_grid.reshape((1,-1)) # Offset\n",
    "        return grid\n",
    "    \n",
    "    def inv_convert(self, grid):\n",
    "        idxs_grid = np.argmax(grid[...,0], axis=1)\n",
    "        print(idxs_grid.shape)\n",
    "        #\n",
    "        batch_size = grid.shape[0]\n",
    "        offset_est = grid[np.arange(batch_size),idxs_grid,1]\n",
    "        print(offset_est.shape)\n",
    "        num_est = self.x_grid[idxs_grid].reshape((1,-1)) + offset_est\n",
    "        return num_est.reshape((-1,))"
   ]
  },
  {
   "cell_type": "code",
   "execution_count": 43,
   "id": "8b15e9ff",
   "metadata": {},
   "outputs": [
    {
     "name": "stdout",
     "output_type": "stream",
     "text": [
      "x_space = 22.222222\n",
      "self.x_grid = [-100.          -77.77777778  -55.55555556  -33.33333333  -11.11111111\n",
      "   11.11111111   33.33333333   55.55555556   77.77777778  100.        ]\n"
     ]
    }
   ],
   "source": [
    "class_num = 10 # 10\n",
    "n2go = num2gridOffset_np(class_num, x_min=-100.0, x_max=100.0) "
   ]
  },
  {
   "cell_type": "code",
   "execution_count": 44,
   "id": "8f6e7955",
   "metadata": {},
   "outputs": [
    {
     "name": "stdout",
     "output_type": "stream",
     "text": [
      "(2, 1)\n",
      "[[[   0.           98.8       ]\n",
      "  [   0.           76.57777778]\n",
      "  [   0.           54.35555556]\n",
      "  [   0.           32.13333333]\n",
      "  [   1.            9.91111111]\n",
      "  [   0.          -12.31111111]\n",
      "  [   0.          -34.53333333]\n",
      "  [   0.          -56.75555556]\n",
      "  [   0.          -78.97777778]\n",
      "  [   0.         -101.2       ]]\n",
      "\n",
      " [[   0.          150.5       ]\n",
      "  [   0.          128.27777778]\n",
      "  [   0.          106.05555556]\n",
      "  [   0.           83.83333333]\n",
      "  [   0.           61.61111111]\n",
      "  [   0.           39.38888889]\n",
      "  [   0.           17.16666667]\n",
      "  [   1.           -5.05555556]\n",
      "  [   0.          -27.27777778]\n",
      "  [   0.          -49.5       ]]]\n"
     ]
    }
   ],
   "source": [
    "# grid_1 = n2g.convert(-1.2)\n",
    "grid_1 = n2go.convert([[-1.2], [50.5]])\n",
    "print(grid_1)"
   ]
  },
  {
   "cell_type": "code",
   "execution_count": 45,
   "id": "48840dc5",
   "metadata": {},
   "outputs": [
    {
     "name": "stdout",
     "output_type": "stream",
     "text": [
      "(2,)\n",
      "(2,)\n"
     ]
    },
    {
     "data": {
      "text/plain": [
       "array([-1.2, 50.5])"
      ]
     },
     "execution_count": 45,
     "metadata": {},
     "output_type": "execute_result"
    }
   ],
   "source": [
    "n2go.inv_convert(grid_1)"
   ]
  },
  {
   "cell_type": "markdown",
   "id": "11683cea",
   "metadata": {},
   "source": [
    "### Convert the labels to grid (pre-processing)"
   ]
  },
  {
   "cell_type": "code",
   "execution_count": 46,
   "id": "472997cf",
   "metadata": {},
   "outputs": [
    {
     "name": "stdout",
     "output_type": "stream",
     "text": [
      "(80, 1)\n",
      "(20, 1)\n"
     ]
    }
   ],
   "source": [
    "y_train_grid_offset = n2go.convert(y_train)\n",
    "y_valid_grid_offset = n2go.convert(y_valid)"
   ]
  },
  {
   "cell_type": "code",
   "execution_count": 47,
   "id": "71f08d76",
   "metadata": {},
   "outputs": [
    {
     "name": "stdout",
     "output_type": "stream",
     "text": [
      "(80, 10, 2)\n",
      "(20, 10, 2)\n"
     ]
    }
   ],
   "source": [
    "print(y_train_grid_offset.shape)\n",
    "print(y_valid_grid_offset.shape)"
   ]
  },
  {
   "cell_type": "code",
   "execution_count": 48,
   "id": "84b5b833",
   "metadata": {},
   "outputs": [
    {
     "name": "stdout",
     "output_type": "stream",
     "text": [
      "X.shape = (None, 1)\n",
      "gauss_grid.shape = (None, 5)\n"
     ]
    }
   ],
   "source": [
    "inputs = keras.layers.Input(shape=X_train.shape[1:])\n",
    "#\n",
    "z = num2grid(5,x_min=-10, x_max=10, sigma=3.0)(inputs)\n",
    "z = keras.layers.Dense(30, activation=\"selu\")(z)\n",
    "# Outputs\n",
    "z_proba = keras.layers.Dense(30, activation=\"relu\")(z)\n",
    "z_proba  = keras.layers.Dense(class_num, activation=\"softmax\")(z_proba)\n",
    "z_offset = keras.layers.Dense(class_num, activation=\"relu\")(z)\n",
    "z_offset = keras.layers.Dense(class_num)(z_offset)\n",
    "# Concatenate\n",
    "z_proba  = keras.layers.Reshape([class_num,1])(z_proba)\n",
    "z_offset = keras.layers.Reshape([class_num,1])(z_offset)\n",
    "out_cat = keras.layers.Concatenate(axis=-1)([z_proba, z_offset])\n",
    "#\n",
    "# Models for trainig and real usage\n",
    "model = keras.Model(inputs=[inputs], outputs=[out_cat])"
   ]
  },
  {
   "cell_type": "code",
   "execution_count": 49,
   "id": "e6482574",
   "metadata": {},
   "outputs": [],
   "source": [
    "# Customized loss function\n",
    "\n",
    "cce = keras.losses.CategoricalCrossentropy(reduction=keras.losses.Reduction.NONE)\n",
    "# cce(y_true, y_pred).numpy()\n",
    "\n",
    "def centerLoss_fn(y_true, y_pred):\n",
    "    #\n",
    "    y_true_proba = y_true[...,0]\n",
    "    y_true_value = y_true[...,1]\n",
    "    #\n",
    "    y_pred_proba = y_pred[...,0]\n",
    "    y_pred_value = y_pred[...,1]\n",
    "    \n",
    "    #\n",
    "    cce_loss = cce(y_true_proba, y_pred_proba) / class_num\n",
    "    #\n",
    "    y_true_value_est = tf.reduce_sum((y_true_proba * y_true_value), axis=-1)\n",
    "    y_pred_value_est = tf.reduce_sum((y_true_proba * y_pred_value), axis=-1)\n",
    "#     y_pred_value_est = tf.reduce_sum((y_pred_proba * y_pred_value), axis=-1)\n",
    "    value_loss = tf.abs(y_pred_value_est - y_true_value_est)\n",
    "    \n",
    "    # Total loss\n",
    "#     return (0.5*cce_loss + 0.5*value_loss )\n",
    "    return (0.2*cce_loss + 0.8*value_loss )\n",
    "#     return (cce_loss)\n",
    "#     return (value_loss )"
   ]
  },
  {
   "cell_type": "code",
   "execution_count": 50,
   "id": "60575755",
   "metadata": {},
   "outputs": [
    {
     "name": "stderr",
     "output_type": "stream",
     "text": [
      "/home/benson516/ml/my_env/lib/python3.6/site-packages/keras/optimizer_v2/optimizer_v2.py:356: UserWarning: The `lr` argument is deprecated, use `learning_rate` instead.\n",
      "  \"The `lr` argument is deprecated, use `learning_rate` instead.\")\n"
     ]
    }
   ],
   "source": [
    "# optimizer = keras.optimizers.SGD(lr=0.1, momentum=0.9)\n",
    "optimizer = keras.optimizers.Adam(lr=0.05)\n",
    "model.compile(loss=centerLoss_fn, optimizer=optimizer)"
   ]
  },
  {
   "cell_type": "code",
   "execution_count": 51,
   "id": "09bc47a5",
   "metadata": {
    "scrolled": true
   },
   "outputs": [],
   "source": [
    "# history = model.fit(X_train, y_train_grid_offset, epochs=100,\n",
    "#                     validation_data=(X_valid, y_valid_grid_offset))"
   ]
  },
  {
   "cell_type": "code",
   "execution_count": 52,
   "id": "7ba1fe76",
   "metadata": {},
   "outputs": [],
   "source": [
    "# import pandas as pd\n",
    "\n",
    "# pd.DataFrame(history.history).plot(figsize=(8, 5))\n",
    "# plt.grid(True)\n",
    "# # plt.gca().set_ylim(0, 1)\n",
    "# save_fig(\"grid_rbcOffset_training_curve\")\n",
    "# plt.show()"
   ]
  },
  {
   "cell_type": "code",
   "execution_count": 53,
   "id": "47db8336",
   "metadata": {
    "scrolled": false
   },
   "outputs": [],
   "source": [
    "# # plt.plot(X_train, y_train, \"b.\")\n",
    "# draw_points(X_train, y_train, sid_train)\n",
    "# draw_func((lambda X: n2go.inv_convert(model.predict(X)) ), mark='r-', linewidth=2, label=\"Predictions\")\n",
    "# draw_normal_func(func_dict)\n",
    "# plt.xlabel(\"$x_1$\", fontsize=18)\n",
    "# plt.ylabel(\"$y$\", rotation=0, fontsize=18)\n",
    "# plt.legend(loc=\"upper left\", fontsize=14)\n",
    "# # plt.axis([-3, 3, 0, 10])\n",
    "# save_fig(\"grid_rbcOffset_prediction\")\n",
    "# plt.show()"
   ]
  },
  {
   "cell_type": "code",
   "execution_count": 54,
   "id": "46a1a384",
   "metadata": {},
   "outputs": [],
   "source": [
    "# get_prediction_error((lambda X: n2go.inv_convert(model.predict(X)) ), func_dict, name=\"grid-classOffset\")"
   ]
  },
  {
   "cell_type": "code",
   "execution_count": null,
   "id": "fff995a6",
   "metadata": {},
   "outputs": [],
   "source": []
  },
  {
   "cell_type": "markdown",
   "id": "a811f344",
   "metadata": {},
   "source": [
    "# Parametric Uncertainty/Distribution Estimation\n",
    "\n",
    "In this section, we try to estimate uncertainty (actually, fit the dataset distribution) with parametric reprecentation of a distribution instead of a discretized non-parametric representation.\n",
    "\n",
    "Possible solution includes\n",
    "- Quantile estimation with pinball loss (statistic)\n",
    "- Guassian distribution (fit a prabability distribution)"
   ]
  },
  {
   "cell_type": "markdown",
   "id": "175eb32d",
   "metadata": {},
   "source": [
    "## Quantile Estimation with Pinball Loss (grid --> parameters)\n",
    "\n",
    "Quantile estimation and pinball loss is based on the concept of statistic, which predict the value based on the rank of samples in the dataset.\n",
    "\n",
    "The outputs of the model are $(y_{10}, y_{90})$, 10% quantile prediction and 90% quantile prediction, respectively."
   ]
  },
  {
   "cell_type": "code",
   "execution_count": 55,
   "id": "1d1ef92d",
   "metadata": {},
   "outputs": [],
   "source": [
    "# quantile_list = [0.5]\n",
    "# quantile_list = [0.9]\n",
    "quantile_list = [0.1, 0.9] # Use hidden layer with 30 neurons\n",
    "# quantile_list = [0.05, 0.95]\n",
    "# quantile_list = [0.25, 0.75]\n",
    "# quantile_list = [0.1, 0.5, 0.9]\n",
    "# quantile_list = [0.1, 0.3, 0.7, 0.9]\n",
    "# quantile_list = [0.1, 0.2, 0.3, 0.4, 0.6, 0.7, 0.8, 0.9] # remove 0.5\n",
    "# quantile_list = [0.1, 0.2, 0.3, 0.4, 0.5, 0.6, 0.7, 0.8, 0.9] # Should use wider hidden layer (with many neurons) + L1 regularization\n",
    "num_quantile = len(quantile_list)"
   ]
  },
  {
   "cell_type": "code",
   "execution_count": 56,
   "id": "8e3fe57b",
   "metadata": {},
   "outputs": [
    {
     "name": "stdout",
     "output_type": "stream",
     "text": [
      "X.shape = (None, 1)\n",
      "gauss_grid.shape = (None, 5)\n"
     ]
    }
   ],
   "source": [
    "model = keras.models.Sequential([\n",
    "    num2grid(5,x_min=-10, x_max=10, sigma=3.0, input_shape=X_train.shape[1:]),\n",
    "#     num2grid(50,x_min=-10, x_max=10, sigma=0.5, input_shape=X_train.shape[1:]),\n",
    "    keras.layers.Dense(30, activation=\"relu\"),\n",
    "#     keras.layers.Dense(60, activation=\"relu\"),\n",
    "#     keras.layers.Dense(100, activation=\"relu\", kernel_regularizer=tf.keras.regularizers.l1(0.01)),\n",
    "#     keras.layers.Dense(30, activation=keras.layers.LeakyReLU(alpha=0.2) ),\n",
    "#     keras.layers.Dense(30, activation=\"selu\"),\n",
    "    keras.layers.Dense(num_quantile) # (y10, y90)\n",
    "])"
   ]
  },
  {
   "cell_type": "code",
   "execution_count": 57,
   "id": "bf131dc7",
   "metadata": {},
   "outputs": [],
   "source": [
    "# Customized loss function\n",
    "def pinballLoss_fn(y_true, y_pred, tau):\n",
    "    # tau: quantile, tau in [0.0, 1.0]\n",
    "    # y_true: label mean\n",
    "    # y_pred: predicted tau quantile\n",
    "    _q = y_true - y_pred\n",
    "    return tf.math.maximum( (tau*_q), ((tau-1.0)*_q))\n",
    "    \n",
    "def pinballLoss_10_90_fn(y_true, y_pred):\n",
    "    #\n",
    "    return pinballLoss_fn(y_true, y_pred[:,0:1], 0.1) + pinballLoss_fn(y_true, y_pred[:,1:2], 0.9)\n",
    "\n",
    "def pinballLoss_full_fn(y_true, y_pred):\n",
    "    #\n",
    "    pinball_losses = tf.stack( [pinballLoss_fn(y_true, y_pred[:, _i:(_i+1)], _tau) for _i, _tau in enumerate(quantile_list)], axis=1)\n",
    "    return tf.reduce_sum(pinball_losses, axis=1)"
   ]
  },
  {
   "cell_type": "code",
   "execution_count": 58,
   "id": "a71305d5",
   "metadata": {},
   "outputs": [],
   "source": [
    "# optimizer = keras.optimizers.SGD(lr=0.1, momentum=0.9)\n",
    "optimizer = keras.optimizers.Adam(lr=0.1)\n",
    "# model.compile(loss=pinballLoss_10_90_fn, optimizer=optimizer)\n",
    "model.compile(loss=pinballLoss_full_fn, optimizer=optimizer)"
   ]
  },
  {
   "cell_type": "code",
   "execution_count": 59,
   "id": "d935c409",
   "metadata": {
    "scrolled": true
   },
   "outputs": [
    {
     "name": "stdout",
     "output_type": "stream",
     "text": [
      "Epoch 1/100\n",
      "X.shape = (None, 1)\n",
      "gauss_grid.shape = (None, 5)\n",
      "X.shape = (None, 1)\n",
      "gauss_grid.shape = (None, 5)\n",
      "1/3 [=========>....................] - ETA: 2s - loss: 36.7591X.shape = (None, 1)\n",
      "gauss_grid.shape = (None, 5)\n",
      "3/3 [==============================] - 2s 266ms/step - loss: 41.3763 - val_loss: 32.0915\n",
      "Epoch 2/100\n",
      "3/3 [==============================] - 0s 107ms/step - loss: 37.6263 - val_loss: 27.5001\n",
      "Epoch 3/100\n",
      "3/3 [==============================] - 0s 77ms/step - loss: 31.4768 - val_loss: 20.8972\n",
      "Epoch 4/100\n",
      "3/3 [==============================] - 0s 73ms/step - loss: 23.0957 - val_loss: 13.5300\n",
      "Epoch 5/100\n",
      "3/3 [==============================] - 0s 78ms/step - loss: 16.2112 - val_loss: 10.9885\n",
      "Epoch 6/100\n",
      "3/3 [==============================] - 0s 88ms/step - loss: 13.6349 - val_loss: 12.8114\n",
      "Epoch 7/100\n",
      "3/3 [==============================] - 0s 83ms/step - loss: 13.3997 - val_loss: 13.1679\n",
      "Epoch 8/100\n",
      "3/3 [==============================] - 0s 58ms/step - loss: 13.3669 - val_loss: 11.8895\n",
      "Epoch 9/100\n",
      "3/3 [==============================] - 0s 58ms/step - loss: 12.1327 - val_loss: 9.9665\n",
      "Epoch 10/100\n",
      "3/3 [==============================] - 0s 56ms/step - loss: 10.3642 - val_loss: 8.2048\n",
      "Epoch 11/100\n",
      "3/3 [==============================] - 0s 60ms/step - loss: 8.5135 - val_loss: 6.4233\n",
      "Epoch 12/100\n",
      "3/3 [==============================] - 0s 130ms/step - loss: 7.4437 - val_loss: 4.8055\n",
      "Epoch 13/100\n",
      "3/3 [==============================] - 0s 133ms/step - loss: 6.5735 - val_loss: 4.5416\n",
      "Epoch 14/100\n",
      "3/3 [==============================] - 0s 67ms/step - loss: 6.2455 - val_loss: 5.3962\n",
      "Epoch 15/100\n",
      "3/3 [==============================] - 0s 102ms/step - loss: 6.4288 - val_loss: 5.1566\n",
      "Epoch 16/100\n",
      "3/3 [==============================] - 0s 132ms/step - loss: 5.8271 - val_loss: 4.7960\n",
      "Epoch 17/100\n",
      "3/3 [==============================] - ETA: 0s - loss: 5.224 - 0s 102ms/step - loss: 5.6712 - val_loss: 4.9187\n",
      "Epoch 18/100\n",
      "3/3 [==============================] - ETA: 0s - loss: 5.851 - 0s 85ms/step - loss: 5.7005 - val_loss: 4.9458\n",
      "Epoch 19/100\n",
      "3/3 [==============================] - 0s 74ms/step - loss: 5.4202 - val_loss: 5.1312\n",
      "Epoch 20/100\n",
      "3/3 [==============================] - 0s 86ms/step - loss: 5.1436 - val_loss: 4.6421\n",
      "Epoch 21/100\n",
      "3/3 [==============================] - 0s 107ms/step - loss: 5.0354 - val_loss: 4.1324\n",
      "Epoch 22/100\n",
      "3/3 [==============================] - 0s 67ms/step - loss: 5.0078 - val_loss: 3.9086\n",
      "Epoch 23/100\n",
      "3/3 [==============================] - 0s 87ms/step - loss: 4.9469 - val_loss: 4.0118\n",
      "Epoch 24/100\n",
      "3/3 [==============================] - 0s 64ms/step - loss: 4.8032 - val_loss: 4.2884\n",
      "Epoch 25/100\n",
      "3/3 [==============================] - 0s 124ms/step - loss: 4.6685 - val_loss: 4.4983\n",
      "Epoch 26/100\n",
      "3/3 [==============================] - 0s 57ms/step - loss: 4.6880 - val_loss: 4.6679\n",
      "Epoch 27/100\n",
      "3/3 [==============================] - 0s 52ms/step - loss: 4.6696 - val_loss: 4.6049\n",
      "Epoch 28/100\n",
      "3/3 [==============================] - 0s 64ms/step - loss: 4.5366 - val_loss: 4.1522\n",
      "Epoch 29/100\n",
      "3/3 [==============================] - 0s 59ms/step - loss: 4.3926 - val_loss: 3.8817\n",
      "Epoch 30/100\n",
      "3/3 [==============================] - 0s 108ms/step - loss: 4.3292 - val_loss: 3.8029\n",
      "Epoch 31/100\n",
      "3/3 [==============================] - 0s 87ms/step - loss: 4.3549 - val_loss: 4.0056\n",
      "Epoch 32/100\n",
      "3/3 [==============================] - 0s 61ms/step - loss: 4.2891 - val_loss: 3.9166\n",
      "Epoch 33/100\n",
      "3/3 [==============================] - 0s 68ms/step - loss: 4.1342 - val_loss: 4.1411\n",
      "Epoch 34/100\n",
      "3/3 [==============================] - 0s 51ms/step - loss: 4.1354 - val_loss: 4.0762\n",
      "Epoch 35/100\n",
      "3/3 [==============================] - 0s 68ms/step - loss: 4.0623 - val_loss: 3.7551\n",
      "Epoch 36/100\n",
      "3/3 [==============================] - 0s 77ms/step - loss: 4.0846 - val_loss: 3.8195\n",
      "Epoch 37/100\n",
      "3/3 [==============================] - 0s 88ms/step - loss: 4.0970 - val_loss: 4.8814\n",
      "Epoch 38/100\n",
      "3/3 [==============================] - 0s 75ms/step - loss: 4.2569 - val_loss: 4.0429\n",
      "Epoch 39/100\n",
      "3/3 [==============================] - 0s 56ms/step - loss: 4.1313 - val_loss: 3.7455\n",
      "Epoch 40/100\n",
      "3/3 [==============================] - 0s 53ms/step - loss: 3.7263 - val_loss: 4.3281\n",
      "Epoch 41/100\n",
      "3/3 [==============================] - 0s 62ms/step - loss: 4.0686 - val_loss: 4.1863\n",
      "Epoch 42/100\n",
      "3/3 [==============================] - 0s 73ms/step - loss: 3.7421 - val_loss: 3.5380\n",
      "Epoch 43/100\n",
      "3/3 [==============================] - 0s 83ms/step - loss: 3.7932 - val_loss: 3.4273\n",
      "Epoch 44/100\n",
      "3/3 [==============================] - 0s 122ms/step - loss: 3.5101 - val_loss: 4.0279\n",
      "Epoch 45/100\n",
      "3/3 [==============================] - 0s 89ms/step - loss: 3.4540 - val_loss: 3.1658\n",
      "Epoch 46/100\n",
      "3/3 [==============================] - 0s 92ms/step - loss: 3.5351 - val_loss: 3.4497\n",
      "Epoch 47/100\n",
      "3/3 [==============================] - 0s 156ms/step - loss: 3.6581 - val_loss: 3.2940\n",
      "Epoch 48/100\n",
      "3/3 [==============================] - 1s 247ms/step - loss: 3.5191 - val_loss: 4.1963\n",
      "Epoch 49/100\n",
      "3/3 [==============================] - 0s 115ms/step - loss: 3.5218 - val_loss: 3.6085\n",
      "Epoch 50/100\n",
      "3/3 [==============================] - 0s 109ms/step - loss: 3.5399 - val_loss: 3.5411\n",
      "Epoch 51/100\n",
      "3/3 [==============================] - 0s 87ms/step - loss: 3.4184 - val_loss: 3.5006\n",
      "Epoch 52/100\n",
      "3/3 [==============================] - 0s 84ms/step - loss: 3.3568 - val_loss: 3.0362\n",
      "Epoch 53/100\n",
      "3/3 [==============================] - 0s 91ms/step - loss: 3.1852 - val_loss: 3.2310\n",
      "Epoch 54/100\n",
      "3/3 [==============================] - 0s 90ms/step - loss: 3.2294 - val_loss: 3.4438\n",
      "Epoch 55/100\n",
      "3/3 [==============================] - 0s 97ms/step - loss: 3.2641 - val_loss: 3.2895\n",
      "Epoch 56/100\n",
      "3/3 [==============================] - 0s 112ms/step - loss: 2.9982 - val_loss: 2.9486\n",
      "Epoch 57/100\n",
      "3/3 [==============================] - 0s 103ms/step - loss: 2.9541 - val_loss: 2.8555\n",
      "Epoch 58/100\n",
      "3/3 [==============================] - 0s 127ms/step - loss: 2.9328 - val_loss: 2.9935\n",
      "Epoch 59/100\n",
      "3/3 [==============================] - 0s 83ms/step - loss: 2.8262 - val_loss: 3.1332\n",
      "Epoch 60/100\n",
      "3/3 [==============================] - 0s 128ms/step - loss: 2.8382 - val_loss: 3.0147\n",
      "Epoch 61/100\n",
      "3/3 [==============================] - 0s 106ms/step - loss: 2.8046 - val_loss: 2.9733\n",
      "Epoch 62/100\n",
      "3/3 [==============================] - 0s 89ms/step - loss: 2.8007 - val_loss: 2.6725\n",
      "Epoch 63/100\n",
      "3/3 [==============================] - 0s 95ms/step - loss: 2.7407 - val_loss: 2.6933\n",
      "Epoch 64/100\n",
      "3/3 [==============================] - 0s 59ms/step - loss: 2.7945 - val_loss: 3.0529\n",
      "Epoch 65/100\n",
      "3/3 [==============================] - 0s 75ms/step - loss: 2.8141 - val_loss: 2.9753\n",
      "Epoch 66/100\n",
      "3/3 [==============================] - 0s 164ms/step - loss: 2.7156 - val_loss: 2.6180\n",
      "Epoch 67/100\n",
      "3/3 [==============================] - 0s 98ms/step - loss: 2.7508 - val_loss: 2.7472\n",
      "Epoch 68/100\n",
      "3/3 [==============================] - 0s 84ms/step - loss: 2.6683 - val_loss: 2.7771\n",
      "Epoch 69/100\n",
      "3/3 [==============================] - 0s 79ms/step - loss: 2.6054 - val_loss: 2.6749\n",
      "Epoch 70/100\n",
      "3/3 [==============================] - 0s 115ms/step - loss: 2.5584 - val_loss: 2.7226\n",
      "Epoch 71/100\n",
      "3/3 [==============================] - 0s 125ms/step - loss: 2.5741 - val_loss: 2.7418\n",
      "Epoch 72/100\n",
      "3/3 [==============================] - 0s 61ms/step - loss: 2.6382 - val_loss: 2.8024\n",
      "Epoch 73/100\n",
      "3/3 [==============================] - 0s 101ms/step - loss: 2.6917 - val_loss: 2.8295\n",
      "Epoch 74/100\n",
      "3/3 [==============================] - 0s 108ms/step - loss: 2.7232 - val_loss: 2.9458\n",
      "Epoch 75/100\n",
      "3/3 [==============================] - 0s 95ms/step - loss: 2.7325 - val_loss: 2.7369\n",
      "Epoch 76/100\n",
      "3/3 [==============================] - 0s 94ms/step - loss: 2.6881 - val_loss: 2.8216\n",
      "Epoch 77/100\n",
      "3/3 [==============================] - 0s 96ms/step - loss: 2.6825 - val_loss: 2.7398\n",
      "Epoch 78/100\n",
      "3/3 [==============================] - 0s 106ms/step - loss: 2.5732 - val_loss: 2.8111\n",
      "Epoch 79/100\n",
      "3/3 [==============================] - 0s 97ms/step - loss: 2.6366 - val_loss: 2.8757\n",
      "Epoch 80/100\n",
      "3/3 [==============================] - 0s 105ms/step - loss: 2.6521 - val_loss: 2.5831\n"
     ]
    },
    {
     "name": "stdout",
     "output_type": "stream",
     "text": [
      "Epoch 81/100\n",
      "3/3 [==============================] - 0s 124ms/step - loss: 2.5598 - val_loss: 2.7519\n",
      "Epoch 82/100\n",
      "3/3 [==============================] - 0s 150ms/step - loss: 2.5222 - val_loss: 2.5785\n",
      "Epoch 83/100\n",
      "3/3 [==============================] - 1s 232ms/step - loss: 2.4770 - val_loss: 2.5370\n",
      "Epoch 84/100\n",
      "3/3 [==============================] - 0s 100ms/step - loss: 2.5426 - val_loss: 2.7708\n",
      "Epoch 85/100\n",
      "3/3 [==============================] - 0s 104ms/step - loss: 2.6448 - val_loss: 2.7954\n",
      "Epoch 86/100\n",
      "3/3 [==============================] - ETA: 0s - loss: 2.491 - 0s 90ms/step - loss: 2.5801 - val_loss: 2.5674\n",
      "Epoch 87/100\n",
      "3/3 [==============================] - 0s 95ms/step - loss: 2.6617 - val_loss: 2.6974\n",
      "Epoch 88/100\n",
      "3/3 [==============================] - 0s 87ms/step - loss: 2.6299 - val_loss: 3.0286\n",
      "Epoch 89/100\n",
      "3/3 [==============================] - 0s 85ms/step - loss: 2.6759 - val_loss: 2.5735\n",
      "Epoch 90/100\n",
      "3/3 [==============================] - 0s 93ms/step - loss: 2.5845 - val_loss: 2.4852\n",
      "Epoch 91/100\n",
      "3/3 [==============================] - 0s 95ms/step - loss: 2.5384 - val_loss: 2.8567\n",
      "Epoch 92/100\n",
      "3/3 [==============================] - 0s 101ms/step - loss: 2.6341 - val_loss: 2.6668\n",
      "Epoch 93/100\n",
      "3/3 [==============================] - 0s 108ms/step - loss: 2.5467 - val_loss: 2.5421\n",
      "Epoch 94/100\n",
      "3/3 [==============================] - 0s 90ms/step - loss: 2.7162 - val_loss: 2.7156\n",
      "Epoch 95/100\n",
      "3/3 [==============================] - 0s 83ms/step - loss: 2.5896 - val_loss: 2.8171\n",
      "Epoch 96/100\n",
      "3/3 [==============================] - 0s 91ms/step - loss: 2.5330 - val_loss: 2.5134\n",
      "Epoch 97/100\n",
      "3/3 [==============================] - 0s 83ms/step - loss: 2.5407 - val_loss: 2.5854\n",
      "Epoch 98/100\n",
      "3/3 [==============================] - 0s 90ms/step - loss: 2.4576 - val_loss: 2.5621\n",
      "Epoch 99/100\n",
      "3/3 [==============================] - 0s 84ms/step - loss: 2.4920 - val_loss: 2.5915\n",
      "Epoch 100/100\n",
      "3/3 [==============================] - 0s 113ms/step - loss: 2.5809 - val_loss: 2.7414\n"
     ]
    }
   ],
   "source": [
    "history = model.fit(X_train, y_train, epochs=100,\n",
    "                    validation_data=(X_valid, y_valid))"
   ]
  },
  {
   "cell_type": "code",
   "execution_count": 60,
   "id": "e7fa5656",
   "metadata": {
    "scrolled": false
   },
   "outputs": [
    {
     "name": "stdout",
     "output_type": "stream",
     "text": [
      "Saving figure grid_quantile_training_curve\n"
     ]
    },
    {
     "data": {
      "image/png": "[encoded data removed]",
      "text/plain": [
       "<Figure size 576x360 with 1 Axes>"
      ]
     },
     "metadata": {
      "needs_background": "light"
     },
     "output_type": "display_data"
    }
   ],
   "source": [
    "import pandas as pd\n",
    "\n",
    "pd.DataFrame(history.history).plot(figsize=(8, 5))\n",
    "plt.grid(True)\n",
    "# plt.gca().set_ylim(0, 1)\n",
    "save_fig(\"grid_quantile_training_curve\")\n",
    "plt.show()"
   ]
  },
  {
   "cell_type": "markdown",
   "id": "a4a59dd6",
   "metadata": {},
   "source": [
    "### Draw the mean prediction curve averaged from all quantile predictions."
   ]
  },
  {
   "cell_type": "code",
   "execution_count": 61,
   "id": "0e5d0058",
   "metadata": {},
   "outputs": [
    {
     "name": "stdout",
     "output_type": "stream",
     "text": [
      "X.shape = (None, 1)\n",
      "gauss_grid.shape = (None, 5)\n",
      "Saving figure grid_quantile_prediction\n"
     ]
    },
    {
     "data": {
      "image/png": "[encoded data removed]",
      "text/plain": [
       "<Figure size 432x288 with 1 Axes>"
      ]
     },
     "metadata": {
      "needs_background": "light"
     },
     "output_type": "display_data"
    }
   ],
   "source": [
    "# plt.plot(X_train, y_train, \"b.\")\n",
    "draw_points(X_train, y_train, sid_train)\n",
    "draw_func((lambda X: np.average(model.predict(X), axis=-1) ), mark='r-', linewidth=2, label=\"Predictions\")\n",
    "# draw_func((lambda X: model.predict(X)[:,0] ), mark='k--', linewidth=1, label=\"$y_{%d}$\" % (quantile_list[0]*100))\n",
    "# draw_func((lambda X: model.predict(X)[:,-1] ), mark='k--', linewidth=1, label=\"$y_{%d}$\" % (quantile_list[-1]*100))\n",
    "draw_normal_func(func_dict)\n",
    "plt.xlabel(\"$x_1$\", fontsize=18)\n",
    "plt.ylabel(\"$y$\", rotation=0, fontsize=18)\n",
    "plt.legend(loc=\"upper left\", fontsize=14)\n",
    "# plt.axis([-3, 3, 0, 10])\n",
    "save_fig(\"grid_quantile_prediction\")\n",
    "plt.show()"
   ]
  },
  {
   "cell_type": "code",
   "execution_count": 62,
   "id": "f98d3ae8",
   "metadata": {},
   "outputs": [
    {
     "name": "stdout",
     "output_type": "stream",
     "text": [
      "y_func.shape = (100, 1)\n",
      "y_gt.shape = (100, 1)\n"
     ]
    },
    {
     "data": {
      "text/plain": [
       "1.2058335465427996"
      ]
     },
     "execution_count": 62,
     "metadata": {},
     "output_type": "execute_result"
    }
   ],
   "source": [
    "get_prediction_error((lambda X: np.average(model.predict(X), axis=-1) ), func_dict, name=\"grid-quantileR\")"
   ]
  },
  {
   "cell_type": "markdown",
   "id": "f79ac920",
   "metadata": {},
   "source": [
    "### Draw first and last quantile curve."
   ]
  },
  {
   "cell_type": "code",
   "execution_count": 63,
   "id": "42eeb254",
   "metadata": {},
   "outputs": [
    {
     "name": "stdout",
     "output_type": "stream",
     "text": [
      "Saving figure grid_quantile_boundary_quantiles\n"
     ]
    },
    {
     "data": {
      "image/png": "[encoded data removed]",
      "text/plain": [
       "<Figure size 432x288 with 1 Axes>"
      ]
     },
     "metadata": {
      "needs_background": "light"
     },
     "output_type": "display_data"
    }
   ],
   "source": [
    "# plt.plot(X_train, y_train, \"b.\")\n",
    "draw_points(X_train, y_train, sid_train)\n",
    "draw_func((lambda X: np.average(model.predict(X), axis=-1) ), mark='r-', linewidth=2, label=\"Predictions\")\n",
    "draw_func((lambda X: model.predict(X)[:,0] ), mark='k--', linewidth=1, label=\"$y_{%d}$\" % (quantile_list[0]*100))\n",
    "draw_func((lambda X: model.predict(X)[:,-1] ), mark='k--', linewidth=1, label=\"$y_{%d}$\" % (quantile_list[-1]*100))\n",
    "draw_normal_func(func_dict)\n",
    "plt.xlabel(\"$x_1$\", fontsize=18)\n",
    "plt.ylabel(\"$y$\", rotation=0, fontsize=18)\n",
    "plt.legend(loc=\"upper left\", fontsize=14)\n",
    "# plt.axis([-3, 3, 0, 10])\n",
    "save_fig(\"grid_quantile_boundary_quantiles\")\n",
    "plt.show()"
   ]
  },
  {
   "cell_type": "markdown",
   "id": "2a1b1b44",
   "metadata": {},
   "source": [
    "### Draw all quantile predictions"
   ]
  },
  {
   "cell_type": "code",
   "execution_count": 64,
   "id": "5e875238",
   "metadata": {},
   "outputs": [
    {
     "name": "stdout",
     "output_type": "stream",
     "text": [
      "Saving figure grid_quantile_all_quantiles\n"
     ]
    },
    {
     "data": {
      "image/png": "[encoded data removed]",
      "text/plain": [
       "<Figure size 432x288 with 1 Axes>"
      ]
     },
     "metadata": {
      "needs_background": "light"
     },
     "output_type": "display_data"
    }
   ],
   "source": [
    "# plt.plot(X_train, y_train, \"b.\")\n",
    "draw_points(X_train, y_train, sid_train)\n",
    "draw_func((lambda X: np.average(model.predict(X), axis=-1) ), mark='r-', linewidth=2, label=\"Predictions\")\n",
    "for _idx, _tau in enumerate(quantile_list):\n",
    "    draw_func((lambda X: model.predict(X)[:,_idx] ), mark='k--', linewidth=1, label=\"$y_{%d}$\" % (_tau*100))\n",
    "draw_normal_func(func_dict)\n",
    "plt.xlabel(\"$x_1$\", fontsize=18)\n",
    "plt.ylabel(\"$y$\", rotation=0, fontsize=18)\n",
    "plt.legend(loc=\"upper left\", fontsize=14)\n",
    "# plt.axis([-3, 3, 0, 10])\n",
    "save_fig(\"grid_quantile_all_quantiles\")\n",
    "plt.show()"
   ]
  },
  {
   "cell_type": "markdown",
   "id": "0693a8eb",
   "metadata": {},
   "source": [
    "### Multi-Quantiles as a Gaussian Distribution "
   ]
  },
  {
   "cell_type": "code",
   "execution_count": 65,
   "id": "11262fbe",
   "metadata": {},
   "outputs": [],
   "source": [
    "# def n_sigma_boundary_line(X, n):\n",
    "#     _y = model.predict(X)\n",
    "#     _mean = np.mean(_y, axis=-1)\n",
    "#     _sigma = np.std(_y, axis=-1)\n",
    "#     return( _mean + n*_sigma)\n",
    "\n",
    "# # plt.plot(X_train, y_train, \"b.\")\n",
    "# draw_points(X_train, y_train, sid_train)\n",
    "# #\n",
    "# draw_func((lambda X: np.average(model.predict(X), axis=-1) ), mark='r-', linewidth=2, label=\"Predictions\")\n",
    "# draw_func((lambda X: n_sigma_boundary_line(X, +1.0) ), mark='k--', linewidth=1, label=\"$\\mu+\\sigma$\")\n",
    "# draw_func((lambda X: n_sigma_boundary_line(X, -1.0) ), mark='k--', linewidth=1, label=\"$\\mu-\\sigma$\")\n",
    "# #\n",
    "# draw_normal_func(func_dict)\n",
    "# plt.xlabel(\"$x_1$\", fontsize=18)\n",
    "# plt.ylabel(\"$y$\", rotation=0, fontsize=18)\n",
    "# plt.legend(loc=\"upper left\", fontsize=14)\n",
    "# # plt.axis([-3, 3, 0, 10])\n",
    "# save_fig(\"grid_quantile_1sigma\")\n",
    "# plt.show()"
   ]
  },
  {
   "cell_type": "markdown",
   "id": "9a01aa69",
   "metadata": {},
   "source": [
    "## Gaussian Estimation with Gaussian Loss (grid-->parameters)\n",
    "\n",
    "Gaussain estimation requires the model to predict the mean and variance of a Gaussian distribution of the random variable regarded. The training purpose is to fit a Gaussian distribution to the data distribution (which is not necessay distributed as Gaussian).\n",
    "\n",
    "One possible solution, derived by BensonHuang, is that the model estimates $(\\mu, z)$, where $z=\\alpha ^{-1}log(\\sigma)$.\n",
    "The associated loss function can be $L_G(y, (\\mu,z)) = 0.5e^{-2\\alpha z}(y-\\mu)^2 + \\alpha z$."
   ]
  },
  {
   "cell_type": "code",
   "execution_count": 66,
   "id": "1a20d5dd",
   "metadata": {},
   "outputs": [],
   "source": [
    "alpha = 1.0\n",
    "# alpha = 0.01\n",
    "# alpha = 0.001"
   ]
  },
  {
   "cell_type": "code",
   "execution_count": 67,
   "id": "cb202ed2",
   "metadata": {},
   "outputs": [
    {
     "name": "stdout",
     "output_type": "stream",
     "text": [
      "X.shape = (None, 1)\n",
      "gauss_grid.shape = (None, 5)\n"
     ]
    }
   ],
   "source": [
    "model = keras.models.Sequential([\n",
    "    num2grid(5,x_min=-10, x_max=10, sigma=3.0, input_shape=X_train.shape[1:]),\n",
    "#     keras.layers.Dense(30, activation=\"relu\"),\n",
    "    keras.layers.Dense(60, activation=\"relu\"),\n",
    "#     keras.layers.Dense(30, activation=keras.layers.LeakyReLU(alpha=0.2) ),\n",
    "#     keras.layers.Dense(30, activation=\"selu\"),\n",
    "    keras.layers.Dense(2) # (mu, z)\n",
    "])"
   ]
  },
  {
   "cell_type": "code",
   "execution_count": 68,
   "id": "925f0a22",
   "metadata": {},
   "outputs": [
    {
     "name": "stdout",
     "output_type": "stream",
     "text": [
      "alpha = 1.000000\n"
     ]
    }
   ],
   "source": [
    "# Customized loss function\n",
    "print(\"alpha = %f\" % alpha)\n",
    "\n",
    "def GaussianLoss_fn(y_true, y_pred):\n",
    "    # y_true: label \n",
    "    # y_pred: (mu, z), z=log(sigma)\n",
    "    mu = y_pred[:, 0:1]\n",
    "    z  = y_pred[:, 1:2]\n",
    "    #\n",
    "    en2z = tf.math.exp((-2.0*alpha)*z)\n",
    "    ymu2 = (y_true - mu)**2\n",
    "    return (0.5*en2z*ymu2 + alpha*z)"
   ]
  },
  {
   "cell_type": "code",
   "execution_count": 69,
   "id": "1b388b4b",
   "metadata": {},
   "outputs": [],
   "source": [
    "# Learning rate scheduler\n",
    "learning_rate_switch_epoch_list = [30, 45]\n",
    "learning_rate_list = [0.001, 0.01, 0.1]\n",
    "# learning_rate_switch_epoch_list = [30, 80]\n",
    "# learning_rate_list = [0.01, 0.1, 0.01]\n",
    "#\n",
    "def piecewise_constant_fn(epoch):\n",
    "    for _i, epoch_s in enumerate(learning_rate_switch_epoch_list):\n",
    "        if epoch < epoch_s:\n",
    "            return learning_rate_list[_i]\n",
    "    return learning_rate_list[-1]\n",
    "\n",
    "lr_scheduler = keras.callbacks.LearningRateScheduler(piecewise_constant_fn)"
   ]
  },
  {
   "cell_type": "markdown",
   "id": "6ec2e05e",
   "metadata": {},
   "source": [
    "Third training with even greater speed"
   ]
  },
  {
   "cell_type": "code",
   "execution_count": 70,
   "id": "7a7e245b",
   "metadata": {},
   "outputs": [
    {
     "name": "stderr",
     "output_type": "stream",
     "text": [
      "/home/benson516/ml/my_env/lib/python3.6/site-packages/keras/optimizer_v2/optimizer_v2.py:356: UserWarning: The `lr` argument is deprecated, use `learning_rate` instead.\n",
      "  \"The `lr` argument is deprecated, use `learning_rate` instead.\")\n"
     ]
    }
   ],
   "source": [
    "# optimizer = keras.optimizers.SGD(lr=0.1, momentum=0.9)\n",
    "optimizer = keras.optimizers.Adam(lr=0.1) # 0.1\n",
    "model.compile(loss=GaussianLoss_fn, optimizer=optimizer)"
   ]
  },
  {
   "cell_type": "code",
   "execution_count": 71,
   "id": "6d7b74a9",
   "metadata": {
    "scrolled": true
   },
   "outputs": [
    {
     "name": "stdout",
     "output_type": "stream",
     "text": [
      "Epoch 1/200\n",
      "X.shape = (None, 1)\n",
      "gauss_grid.shape = (None, 5)\n",
      "X.shape = (None, 1)\n",
      "gauss_grid.shape = (None, 5)\n",
      "3/3 [==============================] - ETA: 0s - loss: 500.9523 X.shape = (None, 1)\n",
      "gauss_grid.shape = (None, 5)\n",
      "3/3 [==============================] - 4s 654ms/step - loss: 500.9523 - val_loss: 6.6941\n",
      "Epoch 2/200\n",
      "3/3 [==============================] - 0s 168ms/step - loss: 8.3316 - val_loss: 12.4266\n",
      "Epoch 3/200\n",
      "3/3 [==============================] - 0s 133ms/step - loss: 13.7436 - val_loss: 16.7847\n",
      "Epoch 4/200\n",
      "3/3 [==============================] - 0s 107ms/step - loss: 17.8418 - val_loss: 19.8430\n",
      "Epoch 5/200\n",
      "3/3 [==============================] - 0s 102ms/step - loss: 20.6897 - val_loss: 21.7996\n",
      "Epoch 6/200\n",
      "3/3 [==============================] - 0s 100ms/step - loss: 22.5139 - val_loss: 22.8580\n",
      "Epoch 7/200\n",
      "3/3 [==============================] - 0s 93ms/step - loss: 23.5101 - val_loss: 23.3502\n",
      "Epoch 8/200\n",
      "3/3 [==============================] - 0s 95ms/step - loss: 23.9670 - val_loss: 23.4152\n",
      "Epoch 9/200\n",
      "3/3 [==============================] - 0s 94ms/step - loss: 23.9607 - val_loss: 23.1332\n",
      "Epoch 10/200\n",
      "3/3 [==============================] - 0s 82ms/step - loss: 23.6053 - val_loss: 22.6139\n",
      "Epoch 11/200\n",
      "3/3 [==============================] - 0s 92ms/step - loss: 23.0409 - val_loss: 21.9148\n",
      "Epoch 12/200\n",
      "3/3 [==============================] - 0s 99ms/step - loss: 22.3013 - val_loss: 21.0694\n",
      "Epoch 13/200\n",
      "3/3 [==============================] - 0s 190ms/step - loss: 21.4228 - val_loss: 20.1292\n",
      "Epoch 14/200\n",
      "3/3 [==============================] - 0s 115ms/step - loss: 20.4611 - val_loss: 19.1428\n",
      "Epoch 15/200\n",
      "3/3 [==============================] - 0s 108ms/step - loss: 19.4813 - val_loss: 18.1778\n",
      "Epoch 16/200\n",
      "3/3 [==============================] - 0s 96ms/step - loss: 18.5231 - val_loss: 17.2652\n",
      "Epoch 17/200\n",
      "3/3 [==============================] - 0s 98ms/step - loss: 17.6026 - val_loss: 16.3717\n",
      "Epoch 18/200\n",
      "3/3 [==============================] - 0s 94ms/step - loss: 16.7068 - val_loss: 15.5103\n",
      "Epoch 19/200\n",
      "3/3 [==============================] - 0s 94ms/step - loss: 15.8650 - val_loss: 14.6990\n",
      "Epoch 20/200\n",
      "3/3 [==============================] - 0s 92ms/step - loss: 15.0749 - val_loss: 13.9431\n",
      "Epoch 21/200\n",
      "3/3 [==============================] - ETA: 0s - loss: 14.65 - 0s 86ms/step - loss: 14.3206 - val_loss: 13.1949\n",
      "Epoch 22/200\n",
      "3/3 [==============================] - 0s 81ms/step - loss: 13.5913 - val_loss: 12.4411\n",
      "Epoch 23/200\n",
      "3/3 [==============================] - 0s 84ms/step - loss: 12.8537 - val_loss: 11.6793\n",
      "Epoch 24/200\n",
      "3/3 [==============================] - 0s 96ms/step - loss: 12.0979 - val_loss: 10.8843\n",
      "Epoch 25/200\n",
      "3/3 [==============================] - 0s 79ms/step - loss: 11.3038 - val_loss: 10.0429\n",
      "Epoch 26/200\n",
      "3/3 [==============================] - 0s 79ms/step - loss: 10.4637 - val_loss: 9.1338\n",
      "Epoch 27/200\n",
      "3/3 [==============================] - 0s 88ms/step - loss: 9.5526 - val_loss: 8.1377\n",
      "Epoch 28/200\n",
      "3/3 [==============================] - 0s 99ms/step - loss: 8.5495 - val_loss: 7.0301\n",
      "Epoch 29/200\n",
      "3/3 [==============================] - ETA: 0s - loss: 7.859 - 0s 88ms/step - loss: 7.4303 - val_loss: 5.7973\n",
      "Epoch 30/200\n",
      "3/3 [==============================] - 0s 93ms/step - loss: 6.1983 - val_loss: 4.6941\n",
      "Epoch 31/200\n",
      "3/3 [==============================] - 0s 92ms/step - loss: 5.3528 - val_loss: 6.0145\n",
      "Epoch 32/200\n",
      "3/3 [==============================] - 0s 98ms/step - loss: 5.6458 - val_loss: 4.2073\n",
      "Epoch 33/200\n",
      "3/3 [==============================] - 0s 111ms/step - loss: 4.4570 - val_loss: 4.0885\n",
      "Epoch 34/200\n",
      "3/3 [==============================] - 0s 107ms/step - loss: 4.3823 - val_loss: 4.0110\n",
      "Epoch 35/200\n",
      "3/3 [==============================] - 0s 108ms/step - loss: 4.2165 - val_loss: 3.9240\n",
      "Epoch 36/200\n",
      "3/3 [==============================] - 0s 80ms/step - loss: 4.3044 - val_loss: 3.9801\n",
      "Epoch 37/200\n",
      "3/3 [==============================] - 0s 143ms/step - loss: 4.3414 - val_loss: 3.9064\n",
      "Epoch 38/200\n",
      "3/3 [==============================] - 0s 73ms/step - loss: 4.1582 - val_loss: 3.9125\n",
      "Epoch 39/200\n",
      "3/3 [==============================] - 0s 69ms/step - loss: 4.1455 - val_loss: 3.8266\n",
      "Epoch 40/200\n",
      "3/3 [==============================] - 0s 92ms/step - loss: 4.0632 - val_loss: 3.7616\n",
      "Epoch 41/200\n",
      "3/3 [==============================] - 0s 114ms/step - loss: 4.0176 - val_loss: 3.9084\n",
      "Epoch 42/200\n",
      "3/3 [==============================] - 0s 121ms/step - loss: 4.0669 - val_loss: 3.8450\n",
      "Epoch 43/200\n",
      "3/3 [==============================] - 0s 105ms/step - loss: 4.0290 - val_loss: 3.7675\n",
      "Epoch 44/200\n",
      "3/3 [==============================] - 0s 110ms/step - loss: 4.0168 - val_loss: 3.7530\n",
      "Epoch 45/200\n",
      "3/3 [==============================] - 0s 86ms/step - loss: 4.0064 - val_loss: 3.7370\n",
      "Epoch 46/200\n",
      "3/3 [==============================] - 0s 105ms/step - loss: 3.9903 - val_loss: 3.7373\n",
      "Epoch 47/200\n",
      "3/3 [==============================] - 0s 124ms/step - loss: 3.9923 - val_loss: 3.7331\n",
      "Epoch 48/200\n",
      "3/3 [==============================] - 0s 126ms/step - loss: 3.9892 - val_loss: 3.7258\n",
      "Epoch 49/200\n",
      "3/3 [==============================] - 0s 121ms/step - loss: 3.9802 - val_loss: 3.7273\n",
      "Epoch 50/200\n",
      "3/3 [==============================] - 0s 119ms/step - loss: 3.9750 - val_loss: 3.7328\n",
      "Epoch 51/200\n",
      "3/3 [==============================] - ETA: 0s - loss: 3.940 - 0s 96ms/step - loss: 3.9715 - val_loss: 3.7369\n",
      "Epoch 52/200\n",
      "3/3 [==============================] - 0s 74ms/step - loss: 3.9659 - val_loss: 3.7301\n",
      "Epoch 53/200\n",
      "3/3 [==============================] - 0s 66ms/step - loss: 3.9625 - val_loss: 3.7258\n",
      "Epoch 54/200\n",
      "3/3 [==============================] - 0s 78ms/step - loss: 3.9571 - val_loss: 3.7265\n",
      "Epoch 55/200\n",
      "3/3 [==============================] - 0s 111ms/step - loss: 3.9525 - val_loss: 3.7230\n",
      "Epoch 56/200\n",
      "3/3 [==============================] - 0s 117ms/step - loss: 3.9478 - val_loss: 3.7165\n",
      "Epoch 57/200\n",
      "3/3 [==============================] - 0s 120ms/step - loss: 3.9411 - val_loss: 3.7110\n",
      "Epoch 58/200\n",
      "3/3 [==============================] - 0s 177ms/step - loss: 3.9416 - val_loss: 3.7080\n",
      "Epoch 59/200\n",
      "3/3 [==============================] - 0s 167ms/step - loss: 3.9327 - val_loss: 3.7102\n",
      "Epoch 60/200\n",
      "3/3 [==============================] - 0s 126ms/step - loss: 3.9283 - val_loss: 3.7130\n",
      "Epoch 61/200\n",
      "3/3 [==============================] - 0s 121ms/step - loss: 3.9236 - val_loss: 3.7027\n",
      "Epoch 62/200\n",
      "3/3 [==============================] - 0s 117ms/step - loss: 3.9155 - val_loss: 3.6978\n",
      "Epoch 63/200\n",
      "3/3 [==============================] - 1s 251ms/step - loss: 3.9129 - val_loss: 3.6955\n",
      "Epoch 64/200\n",
      "3/3 [==============================] - 0s 165ms/step - loss: 3.9061 - val_loss: 3.6916\n",
      "Epoch 65/200\n",
      "3/3 [==============================] - 0s 130ms/step - loss: 3.8989 - val_loss: 3.6848\n",
      "Epoch 66/200\n",
      "3/3 [==============================] - 0s 138ms/step - loss: 3.8918 - val_loss: 3.6847\n",
      "Epoch 67/200\n",
      "3/3 [==============================] - ETA: 0s - loss: 3.888 - 0s 129ms/step - loss: 3.8886 - val_loss: 3.6829\n",
      "Epoch 68/200\n",
      "3/3 [==============================] - 0s 149ms/step - loss: 3.8787 - val_loss: 3.6726\n",
      "Epoch 69/200\n",
      "3/3 [==============================] - 0s 100ms/step - loss: 3.8753 - val_loss: 3.6691\n",
      "Epoch 70/200\n",
      "3/3 [==============================] - 0s 119ms/step - loss: 3.8661 - val_loss: 3.6763\n",
      "Epoch 71/200\n",
      "3/3 [==============================] - 0s 109ms/step - loss: 3.8605 - val_loss: 3.6810\n",
      "Epoch 72/200\n",
      "3/3 [==============================] - 0s 94ms/step - loss: 3.8519 - val_loss: 3.6648\n",
      "Epoch 73/200\n",
      "3/3 [==============================] - 0s 90ms/step - loss: 3.8429 - val_loss: 3.6576\n",
      "Epoch 74/200\n",
      "3/3 [==============================] - 0s 106ms/step - loss: 3.8355 - val_loss: 3.6523\n",
      "Epoch 75/200\n",
      "3/3 [==============================] - 0s 96ms/step - loss: 3.8264 - val_loss: 3.6474\n",
      "Epoch 76/200\n",
      "3/3 [==============================] - 0s 86ms/step - loss: 3.8174 - val_loss: 3.6402\n",
      "Epoch 77/200\n",
      "3/3 [==============================] - 0s 97ms/step - loss: 3.8076 - val_loss: 3.6345\n",
      "Epoch 78/200\n",
      "3/3 [==============================] - 0s 110ms/step - loss: 3.7988 - val_loss: 3.6306\n",
      "Epoch 79/200\n",
      "3/3 [==============================] - 0s 98ms/step - loss: 3.7892 - val_loss: 3.6276\n"
     ]
    },
    {
     "name": "stdout",
     "output_type": "stream",
     "text": [
      "Epoch 80/200\n",
      "3/3 [==============================] - 0s 85ms/step - loss: 3.7773 - val_loss: 3.6227\n",
      "Epoch 81/200\n",
      "3/3 [==============================] - 0s 98ms/step - loss: 3.7701 - val_loss: 3.6242\n",
      "Epoch 82/200\n",
      "3/3 [==============================] - 0s 112ms/step - loss: 3.7544 - val_loss: 3.6118\n",
      "Epoch 83/200\n",
      "3/3 [==============================] - 0s 103ms/step - loss: 3.7419 - val_loss: 3.6072\n",
      "Epoch 84/200\n",
      "3/3 [==============================] - 0s 112ms/step - loss: 3.7290 - val_loss: 3.6030\n",
      "Epoch 85/200\n",
      "3/3 [==============================] - 0s 104ms/step - loss: 3.7150 - val_loss: 3.6051\n",
      "Epoch 86/200\n",
      "3/3 [==============================] - 0s 99ms/step - loss: 3.7025 - val_loss: 3.5965\n",
      "Epoch 87/200\n",
      "3/3 [==============================] - 0s 96ms/step - loss: 3.6910 - val_loss: 3.5876\n",
      "Epoch 88/200\n",
      "3/3 [==============================] - 0s 134ms/step - loss: 3.6774 - val_loss: 3.5912\n",
      "Epoch 89/200\n",
      "3/3 [==============================] - ETA: 0s - loss: 3.657 - 0s 133ms/step - loss: 3.6571 - val_loss: 3.5655\n",
      "Epoch 90/200\n",
      "3/3 [==============================] - 0s 105ms/step - loss: 3.6390 - val_loss: 3.5541\n",
      "Epoch 91/200\n",
      "3/3 [==============================] - 0s 123ms/step - loss: 3.6207 - val_loss: 3.5487\n",
      "Epoch 92/200\n",
      "3/3 [==============================] - 0s 56ms/step - loss: 3.6012 - val_loss: 3.5466\n",
      "Epoch 93/200\n",
      "3/3 [==============================] - 0s 111ms/step - loss: 3.5852 - val_loss: 3.5413\n",
      "Epoch 94/200\n",
      "3/3 [==============================] - 0s 87ms/step - loss: 3.5677 - val_loss: 3.5281\n",
      "Epoch 95/200\n",
      "3/3 [==============================] - 0s 101ms/step - loss: 3.5489 - val_loss: 3.5077\n",
      "Epoch 96/200\n",
      "3/3 [==============================] - 0s 79ms/step - loss: 3.5288 - val_loss: 3.4825\n",
      "Epoch 97/200\n",
      "3/3 [==============================] - 0s 80ms/step - loss: 3.5137 - val_loss: 3.4653\n",
      "Epoch 98/200\n",
      "3/3 [==============================] - 0s 85ms/step - loss: 3.4941 - val_loss: 3.4520\n",
      "Epoch 99/200\n",
      "3/3 [==============================] - 0s 114ms/step - loss: 3.4744 - val_loss: 3.4459\n",
      "Epoch 100/200\n",
      "3/3 [==============================] - 0s 121ms/step - loss: 3.4582 - val_loss: 3.4288\n",
      "Epoch 101/200\n",
      "3/3 [==============================] - 0s 112ms/step - loss: 3.4446 - val_loss: 3.4084\n",
      "Epoch 102/200\n",
      "3/3 [==============================] - 0s 140ms/step - loss: 3.4335 - val_loss: 3.3881\n",
      "Epoch 103/200\n",
      "3/3 [==============================] - 0s 143ms/step - loss: 3.4122 - val_loss: 3.3724\n",
      "Epoch 104/200\n",
      "3/3 [==============================] - 0s 105ms/step - loss: 3.3989 - val_loss: 3.3598\n",
      "Epoch 105/200\n",
      "3/3 [==============================] - 0s 107ms/step - loss: 3.3861 - val_loss: 3.3495\n",
      "Epoch 106/200\n",
      "3/3 [==============================] - 0s 98ms/step - loss: 3.3789 - val_loss: 3.3391\n",
      "Epoch 107/200\n",
      "3/3 [==============================] - 0s 122ms/step - loss: 3.3736 - val_loss: 3.3294\n",
      "Epoch 108/200\n",
      "3/3 [==============================] - 0s 127ms/step - loss: 3.3567 - val_loss: 3.3222\n",
      "Epoch 109/200\n",
      "3/3 [==============================] - 0s 144ms/step - loss: 3.3578 - val_loss: 3.3097\n",
      "Epoch 110/200\n",
      "3/3 [==============================] - 0s 151ms/step - loss: 3.3369 - val_loss: 3.3069\n",
      "Epoch 111/200\n",
      "3/3 [==============================] - 0s 145ms/step - loss: 3.3482 - val_loss: 3.2885\n",
      "Epoch 112/200\n",
      "3/3 [==============================] - 0s 141ms/step - loss: 3.3465 - val_loss: 3.3162\n",
      "Epoch 113/200\n",
      "3/3 [==============================] - 0s 124ms/step - loss: 3.3434 - val_loss: 3.2810\n",
      "Epoch 114/200\n",
      "3/3 [==============================] - 0s 207ms/step - loss: 3.3168 - val_loss: 3.2939\n",
      "Epoch 115/200\n",
      "3/3 [==============================] - 1s 309ms/step - loss: 3.3199 - val_loss: 3.2755\n",
      "Epoch 116/200\n",
      "3/3 [==============================] - 0s 151ms/step - loss: 3.3090 - val_loss: 3.2824\n",
      "Epoch 117/200\n",
      "3/3 [==============================] - 0s 136ms/step - loss: 3.3075 - val_loss: 3.2717\n",
      "Epoch 118/200\n",
      "3/3 [==============================] - 0s 133ms/step - loss: 3.3116 - val_loss: 3.2784\n",
      "Epoch 119/200\n",
      "3/3 [==============================] - 0s 123ms/step - loss: 3.3106 - val_loss: 3.2679\n",
      "Epoch 120/200\n",
      "3/3 [==============================] - 0s 123ms/step - loss: 3.2978 - val_loss: 3.2475\n",
      "Epoch 121/200\n",
      "3/3 [==============================] - 0s 98ms/step - loss: 3.2789 - val_loss: 3.2632\n",
      "Epoch 122/200\n",
      "3/3 [==============================] - 0s 106ms/step - loss: 3.2958 - val_loss: 3.2451\n",
      "Epoch 123/200\n",
      "3/3 [==============================] - 0s 131ms/step - loss: 3.2821 - val_loss: 3.2555\n",
      "Epoch 124/200\n",
      "3/3 [==============================] - 0s 106ms/step - loss: 3.2839 - val_loss: 3.2276\n",
      "Epoch 125/200\n",
      "3/3 [==============================] - 0s 106ms/step - loss: 3.2658 - val_loss: 3.2238\n",
      "Epoch 126/200\n",
      "3/3 [==============================] - 0s 116ms/step - loss: 3.2785 - val_loss: 3.2203\n",
      "Epoch 127/200\n",
      "3/3 [==============================] - 0s 118ms/step - loss: 3.2636 - val_loss: 3.2517\n",
      "Epoch 128/200\n",
      "3/3 [==============================] - 0s 100ms/step - loss: 3.2720 - val_loss: 3.2360\n",
      "Epoch 129/200\n",
      "3/3 [==============================] - 0s 122ms/step - loss: 3.2533 - val_loss: 3.2633\n",
      "Epoch 130/200\n",
      "3/3 [==============================] - 0s 124ms/step - loss: 3.2967 - val_loss: 3.2372\n",
      "Epoch 131/200\n",
      "3/3 [==============================] - 0s 105ms/step - loss: 3.2654 - val_loss: 3.2457\n",
      "Epoch 132/200\n",
      "3/3 [==============================] - 0s 111ms/step - loss: 3.2650 - val_loss: 3.2107\n",
      "Epoch 133/200\n",
      "3/3 [==============================] - 0s 103ms/step - loss: 3.2463 - val_loss: 3.2135\n",
      "Epoch 134/200\n",
      "3/3 [==============================] - 0s 104ms/step - loss: 3.2583 - val_loss: 3.2038\n",
      "Epoch 135/200\n",
      "3/3 [==============================] - 0s 104ms/step - loss: 3.2393 - val_loss: 3.1948\n",
      "Epoch 136/200\n",
      "3/3 [==============================] - 0s 112ms/step - loss: 3.2357 - val_loss: 3.1961\n",
      "Epoch 137/200\n",
      "3/3 [==============================] - 0s 121ms/step - loss: 3.2363 - val_loss: 3.2086\n",
      "Epoch 138/200\n",
      "3/3 [==============================] - 0s 122ms/step - loss: 3.2396 - val_loss: 3.2119\n",
      "Epoch 139/200\n",
      "3/3 [==============================] - 0s 103ms/step - loss: 3.2426 - val_loss: 3.2369\n",
      "Epoch 140/200\n",
      "3/3 [==============================] - ETA: 0s - loss: 3.374 - 0s 96ms/step - loss: 3.2454 - val_loss: 3.2358\n",
      "Epoch 141/200\n",
      "3/3 [==============================] - 0s 102ms/step - loss: 3.2416 - val_loss: 3.2238\n",
      "Epoch 142/200\n",
      "3/3 [==============================] - 0s 68ms/step - loss: 3.2373 - val_loss: 3.1928\n",
      "Epoch 143/200\n",
      "3/3 [==============================] - 0s 74ms/step - loss: 3.2419 - val_loss: 3.1996\n",
      "Epoch 144/200\n",
      "3/3 [==============================] - 0s 109ms/step - loss: 3.2232 - val_loss: 3.1965\n",
      "Epoch 145/200\n",
      "3/3 [==============================] - 0s 126ms/step - loss: 3.2686 - val_loss: 3.1900\n",
      "Epoch 146/200\n",
      "3/3 [==============================] - 0s 122ms/step - loss: 3.2511 - val_loss: 3.2710\n",
      "Epoch 147/200\n",
      "3/3 [==============================] - 0s 140ms/step - loss: 3.2778 - val_loss: 3.2046\n",
      "Epoch 148/200\n",
      "3/3 [==============================] - 0s 141ms/step - loss: 3.2153 - val_loss: 3.2673\n",
      "Epoch 149/200\n",
      "3/3 [==============================] - 0s 122ms/step - loss: 3.2919 - val_loss: 3.2023\n",
      "Epoch 150/200\n",
      "3/3 [==============================] - 0s 148ms/step - loss: 3.2559 - val_loss: 3.2709\n",
      "Epoch 151/200\n",
      "3/3 [==============================] - 1s 235ms/step - loss: 3.2674 - val_loss: 3.1863\n",
      "Epoch 152/200\n",
      "3/3 [==============================] - 1s 300ms/step - loss: 3.2516 - val_loss: 3.2060\n",
      "Epoch 153/200\n",
      "3/3 [==============================] - 0s 169ms/step - loss: 3.2276 - val_loss: 3.1920\n",
      "Epoch 154/200\n",
      "3/3 [==============================] - 0s 166ms/step - loss: 3.2286 - val_loss: 3.2440\n",
      "Epoch 155/200\n",
      "3/3 [==============================] - 0s 161ms/step - loss: 3.2554 - val_loss: 3.1969\n",
      "Epoch 156/200\n",
      "3/3 [==============================] - 0s 156ms/step - loss: 3.2150 - val_loss: 3.2248\n",
      "Epoch 157/200\n",
      "3/3 [==============================] - ETA: 0s - loss: 3.237 - 0s 139ms/step - loss: 3.2370 - val_loss: 3.2211\n",
      "Epoch 158/200\n",
      "3/3 [==============================] - 0s 106ms/step - loss: 3.2347 - val_loss: 3.2057\n",
      "Epoch 159/200\n",
      "3/3 [==============================] - 0s 101ms/step - loss: 3.2114 - val_loss: 3.1873\n",
      "Epoch 160/200\n"
     ]
    },
    {
     "name": "stdout",
     "output_type": "stream",
     "text": [
      "3/3 [==============================] - 0s 96ms/step - loss: 3.2095 - val_loss: 3.1837\n",
      "Epoch 161/200\n",
      "3/3 [==============================] - 0s 89ms/step - loss: 3.1974 - val_loss: 3.1636\n",
      "Epoch 162/200\n",
      "3/3 [==============================] - 0s 104ms/step - loss: 3.2039 - val_loss: 3.1637\n",
      "Epoch 163/200\n",
      "3/3 [==============================] - 0s 109ms/step - loss: 3.2099 - val_loss: 3.1538\n",
      "Epoch 164/200\n",
      "3/3 [==============================] - 0s 90ms/step - loss: 3.2006 - val_loss: 3.1560\n",
      "Epoch 165/200\n",
      "3/3 [==============================] - 0s 94ms/step - loss: 3.2142 - val_loss: 3.1544\n",
      "Epoch 166/200\n",
      "3/3 [==============================] - 0s 107ms/step - loss: 3.1886 - val_loss: 3.1676\n",
      "Epoch 167/200\n",
      "3/3 [==============================] - 0s 88ms/step - loss: 3.1933 - val_loss: 3.1823\n",
      "Epoch 168/200\n",
      "3/3 [==============================] - 0s 93ms/step - loss: 3.1934 - val_loss: 3.2083\n",
      "Epoch 169/200\n",
      "3/3 [==============================] - 0s 122ms/step - loss: 3.1955 - val_loss: 3.1686\n",
      "Epoch 170/200\n",
      "3/3 [==============================] - 0s 98ms/step - loss: 3.1847 - val_loss: 3.1438\n",
      "Epoch 171/200\n",
      "3/3 [==============================] - 0s 137ms/step - loss: 3.1872 - val_loss: 3.1318\n",
      "Epoch 172/200\n",
      "3/3 [==============================] - 0s 139ms/step - loss: 3.1842 - val_loss: 3.1322\n",
      "Epoch 173/200\n",
      "3/3 [==============================] - 0s 104ms/step - loss: 3.1815 - val_loss: 3.1410\n",
      "Epoch 174/200\n",
      "3/3 [==============================] - 0s 130ms/step - loss: 3.1852 - val_loss: 3.1620\n",
      "Epoch 175/200\n",
      "3/3 [==============================] - 0s 133ms/step - loss: 3.1785 - val_loss: 3.1604\n",
      "Epoch 176/200\n",
      "3/3 [==============================] - 0s 110ms/step - loss: 3.1726 - val_loss: 3.1602\n",
      "Epoch 177/200\n",
      "3/3 [==============================] - 0s 129ms/step - loss: 3.1703 - val_loss: 3.1533\n",
      "Epoch 178/200\n",
      "3/3 [==============================] - 0s 125ms/step - loss: 3.1653 - val_loss: 3.1489\n",
      "Epoch 179/200\n",
      "3/3 [==============================] - 0s 119ms/step - loss: 3.1690 - val_loss: 3.1446\n",
      "Epoch 180/200\n",
      "3/3 [==============================] - 0s 115ms/step - loss: 3.1940 - val_loss: 3.1439\n",
      "Epoch 181/200\n",
      "3/3 [==============================] - ETA: 0s - loss: 3.174 - 0s 129ms/step - loss: 3.1742 - val_loss: 3.2032\n",
      "Epoch 182/200\n",
      "3/3 [==============================] - 0s 132ms/step - loss: 3.2008 - val_loss: 3.1733\n",
      "Epoch 183/200\n",
      "3/3 [==============================] - 0s 84ms/step - loss: 3.2040 - val_loss: 3.1601\n",
      "Epoch 184/200\n",
      "3/3 [==============================] - 0s 77ms/step - loss: 3.1758 - val_loss: 3.2333\n",
      "Epoch 185/200\n",
      "3/3 [==============================] - 0s 141ms/step - loss: 3.2289 - val_loss: 3.1513\n",
      "Epoch 186/200\n",
      "3/3 [==============================] - 0s 128ms/step - loss: 3.1466 - val_loss: 3.2306\n",
      "Epoch 187/200\n",
      "3/3 [==============================] - 0s 88ms/step - loss: 3.2572 - val_loss: 3.1517\n",
      "Epoch 188/200\n",
      "3/3 [==============================] - 0s 58ms/step - loss: 3.2167 - val_loss: 3.2038\n",
      "Epoch 189/200\n",
      "3/3 [==============================] - 0s 53ms/step - loss: 3.1841 - val_loss: 3.1042\n",
      "Epoch 190/200\n",
      "3/3 [==============================] - 0s 97ms/step - loss: 3.1787 - val_loss: 3.1350\n",
      "Epoch 191/200\n",
      "3/3 [==============================] - 0s 114ms/step - loss: 3.1444 - val_loss: 3.1519\n",
      "Epoch 192/200\n",
      "3/3 [==============================] - 0s 91ms/step - loss: 3.1685 - val_loss: 3.1829\n",
      "Epoch 193/200\n",
      "3/3 [==============================] - 0s 119ms/step - loss: 3.1628 - val_loss: 3.1565\n",
      "Epoch 194/200\n",
      "3/3 [==============================] - 0s 83ms/step - loss: 3.1638 - val_loss: 3.1444\n",
      "Epoch 195/200\n",
      "3/3 [==============================] - 0s 95ms/step - loss: 3.1287 - val_loss: 3.1306\n",
      "Epoch 196/200\n",
      "3/3 [==============================] - 0s 68ms/step - loss: 3.1450 - val_loss: 3.1071\n",
      "Epoch 197/200\n",
      "3/3 [==============================] - 0s 69ms/step - loss: 3.1228 - val_loss: 3.0980\n",
      "Epoch 198/200\n",
      "3/3 [==============================] - 0s 139ms/step - loss: 3.1546 - val_loss: 3.1053\n",
      "Epoch 199/200\n",
      "3/3 [==============================] - 0s 135ms/step - loss: 3.1257 - val_loss: 3.1225\n",
      "Epoch 200/200\n",
      "3/3 [==============================] - 0s 227ms/step - loss: 3.1324 - val_loss: 3.1215\n"
     ]
    }
   ],
   "source": [
    "history = model.fit(X_train, y_train, epochs=200,\n",
    "                    validation_data=(X_valid, y_valid))"
   ]
  },
  {
   "cell_type": "code",
   "execution_count": 72,
   "id": "0b29d35c",
   "metadata": {
    "scrolled": true
   },
   "outputs": [],
   "source": [
    "# history = model.fit(X_train, y_train, epochs=145,\n",
    "#                     validation_data=(X_valid, y_valid), callbacks=[lr_scheduler])"
   ]
  },
  {
   "cell_type": "code",
   "execution_count": 73,
   "id": "28215732",
   "metadata": {},
   "outputs": [
    {
     "name": "stdout",
     "output_type": "stream",
     "text": [
      "Saving figure grid_Gaussian_training_curve\n"
     ]
    },
    {
     "data": {
      "image/png": "[encoded data removed]",
      "text/plain": [
       "<Figure size 576x360 with 1 Axes>"
      ]
     },
     "metadata": {
      "needs_background": "light"
     },
     "output_type": "display_data"
    }
   ],
   "source": [
    "import pandas as pd\n",
    "\n",
    "# print(history.history)\n",
    "try:\n",
    "    lr_list = history.history[\"lr\"]\n",
    "    del(history.history[\"lr\"])\n",
    "except:\n",
    "    pass\n",
    "\n",
    "pd.DataFrame(history.history)[50:].plot(figsize=(8, 5))\n",
    "plt.grid(True)\n",
    "# plt.gca().set_ylim(0, 1)\n",
    "save_fig(\"grid_Gaussian_training_curve\")\n",
    "plt.show()"
   ]
  },
  {
   "cell_type": "code",
   "execution_count": 74,
   "id": "47d362c9",
   "metadata": {
    "scrolled": true
   },
   "outputs": [
    {
     "name": "stdout",
     "output_type": "stream",
     "text": [
      "X.shape = (None, 1)\n",
      "gauss_grid.shape = (None, 5)\n",
      "Saving figure grid_Gaussian_prediction\n"
     ]
    },
    {
     "data": {
      "image/png": "[encoded data removed]",
      "text/plain": [
       "<Figure size 432x288 with 1 Axes>"
      ]
     },
     "metadata": {
      "needs_background": "light"
     },
     "output_type": "display_data"
    }
   ],
   "source": [
    "# plt.plot(X_train, y_train, \"b.\")\n",
    "draw_points(X_train, y_train, sid_train)\n",
    "draw_func((lambda X: model.predict(X)[:,0] ), mark='r-', linewidth=2, label=\"Predictions\")\n",
    "draw_normal_func(func_dict)\n",
    "plt.xlabel(\"$x_1$\", fontsize=18)\n",
    "plt.ylabel(\"$y$\", rotation=0, fontsize=18)\n",
    "plt.legend(loc=\"upper left\", fontsize=14)\n",
    "# plt.axis([-3, 3, 0, 10])\n",
    "save_fig(\"grid_Gaussian_prediction\")\n",
    "plt.show()"
   ]
  },
  {
   "cell_type": "code",
   "execution_count": 75,
   "id": "a85a5159",
   "metadata": {},
   "outputs": [
    {
     "name": "stdout",
     "output_type": "stream",
     "text": [
      "y_func.shape = (100, 1)\n",
      "y_gt.shape = (100, 1)\n"
     ]
    },
    {
     "data": {
      "text/plain": [
       "8.333623826701382"
      ]
     },
     "execution_count": 75,
     "metadata": {},
     "output_type": "execute_result"
    }
   ],
   "source": [
    "get_prediction_error((lambda X: model.predict(X)[:,0] ), func_dict, name=\"grid-oneGaussian\")"
   ]
  },
  {
   "cell_type": "markdown",
   "id": "9ca1e36d",
   "metadata": {},
   "source": [
    "### Draw the 1-sigma boundary line"
   ]
  },
  {
   "cell_type": "code",
   "execution_count": 76,
   "id": "a04a47fa",
   "metadata": {},
   "outputs": [
    {
     "name": "stdout",
     "output_type": "stream",
     "text": [
      "Saving figure grid_Gaussian_1sigma\n"
     ]
    },
    {
     "data": {
      "image/png": "[encoded data removed]",
      "text/plain": [
       "<Figure size 432x288 with 1 Axes>"
      ]
     },
     "metadata": {
      "needs_background": "light"
     },
     "output_type": "display_data"
    }
   ],
   "source": [
    "def n_sigma_boundary_line(X, n):\n",
    "    _y = model.predict(X)\n",
    "    _mean, _z = _y[:,0:1], _y[:,1:2]\n",
    "    _sigma = np.exp(alpha*_z)\n",
    "    return( _mean + n*_sigma)\n",
    "\n",
    "# plt.plot(X_train, y_train, \"b.\")\n",
    "draw_points(X_train, y_train, sid_train)\n",
    "#\n",
    "draw_func((lambda X: model.predict(X)[:,0] ), mark='r-', linewidth=2, label=\"Predictions\")\n",
    "draw_func((lambda X: n_sigma_boundary_line(X, +1.0) ), mark='k--', linewidth=1, label=\"$\\mu+\\sigma$\")\n",
    "draw_func((lambda X: n_sigma_boundary_line(X, -1.0) ), mark='k--', linewidth=1, label=\"$\\mu-\\sigma$\")\n",
    "#\n",
    "draw_normal_func(func_dict)\n",
    "plt.xlabel(\"$x_1$\", fontsize=18)\n",
    "plt.ylabel(\"$y$\", rotation=0, fontsize=18)\n",
    "plt.legend(loc=\"upper left\", fontsize=14)\n",
    "# plt.axis([-3, 3, 0, 10])\n",
    "save_fig(\"grid_Gaussian_1sigma\")\n",
    "plt.show()"
   ]
  },
  {
   "cell_type": "markdown",
   "id": "1cdb8a83",
   "metadata": {},
   "source": [
    "# Per-subject Bias/Property Learning"
   ]
  },
  {
   "cell_type": "code",
   "execution_count": 77,
   "id": "0a429b42",
   "metadata": {},
   "outputs": [],
   "source": [
    "# Create a custom layer for estimating bais for each subject\n",
    "class SubjectBias(keras.layers.Layer):\n",
    "    def __init__(self, num_subject, bias_scale=1.0, mean_reg_rate=1.0, activation=None, **kwargs):\n",
    "        super().__init__(**kwargs)\n",
    "        self.num_subject = num_subject\n",
    "        self.bias_scale = bias_scale\n",
    "        self.mean_reg_rate = mean_reg_rate if mean_reg_rate >= 0.0 else 0.0\n",
    "        #\n",
    "        self.X_shape = None\n",
    "        self.activation = keras.activations.get(activation)\n",
    "        \n",
    "    def build(self, batch_input_shape):\n",
    "        self.X_shape = batch_input_shape[0]\n",
    "        # Initiate a trainable vector as the bias for X\n",
    "        \"\"\"\n",
    "        bias: (num_subject, X_shape[1], X_shape[2], ...)\n",
    "        \"\"\"\n",
    "        self.bias = self.add_weight(name=\"bias\", \n",
    "                                    shape=([self.num_subject] + self.X_shape[1:]), \n",
    "                                    initializer=\"zeros\")\n",
    "        super().build(batch_input_shape) # must be at the end\n",
    "        \n",
    "    def get_bias(self, sid):\n",
    "        '''\n",
    "        A helper function for retriving the bias according to the given sid.\n",
    "        Note: sid starts from 1.\n",
    "        Note2: this is the bias added to X, which are scaled by self.bias_scale\n",
    "        '''\n",
    "        if sid > self.num_subject or sid <= 0: # Out of bound, index not in range\n",
    "            return tf.zeros(self.X_shape[1:])\n",
    "        else:\n",
    "            return self.bias_scale * self.bias[tf.cast(sid-1, tf.int32),:]\n",
    "        \n",
    "    def get_scaled_biases_np(self):\n",
    "        return self.bias_scale * self.bias.numpy()\n",
    "        \n",
    "    def call(self, X_sid, training=None):\n",
    "        '''\n",
    "        X_sid = [X, sid]\n",
    "        Input shape:  X: (batch, ...), sid: (batch, 1)\n",
    "        Output shape: (batch, ...)\n",
    "        '''\n",
    "        X, SID = X_sid\n",
    "        X_shape = X.shape\n",
    "        print(\"X.shape = %s\" % X.shape)\n",
    "        print(\"SID.shape = %s\" % SID.shape)\n",
    "        \n",
    "        # Add bias\n",
    "        y = X + self.bias_scale * tf.gather(self.bias, SID[:,0]-1, axis=0)\n",
    "        \n",
    "        # Add a loss on the means in order to force them to become zeros\n",
    "        if self.mean_reg_rate > 0.0:\n",
    "            # Calculate the mean of all biases (on each dimension)\n",
    "            bias_means = tf.reduce_mean(self.bias, axis=0)\n",
    "            # MAE of means on all dimensions\n",
    "            self.add_loss( self.mean_reg_rate * tf.reduce_sum(tf.abs(bias_means)) )\n",
    "        \n",
    "        return self.activation(y)\n",
    "        \n",
    "#         if training:    \n",
    "#             # Add biases according to the sid of each instance\n",
    "#             # Note: a corner case is not handeled that if there exist out-of-range sid.\n",
    "#             # y = X + self.bias[tf.cast(SID[:,0]-1, tf.int32),:]\n",
    "#             # y = X + self.bias[ SID[:,0]-1,:]\n",
    "#             y = X + tf.gather(self.bias, SID[:,0]-1, axis=0)\n",
    "#             return self.activation(y)\n",
    "#         else: # If it's not trainig, just output the original X without adding bias\n",
    "#             return self.activation(X_sid[0])\n",
    "    \n",
    "    def compute_output_shape(self, batch_input_shape):\n",
    "        # Note: the same shape as the first input\n",
    "        return batch_input_shape[0]\n",
    "    \n",
    "    def get_config(self):\n",
    "        base_config = super().get_config()\n",
    "        return {**base_config, \n",
    "                \"num_subject\": self.num_subject,\n",
    "                \"bias_scale\": self.bias_scale,\n",
    "                \"mean_reg_rate\": self.mean_reg_rate,\n",
    "                \"activation\": keras.activations.serialize(self.activation)}"
   ]
  },
  {
   "cell_type": "code",
   "execution_count": 78,
   "id": "8d90e89f",
   "metadata": {},
   "outputs": [],
   "source": [
    "# Create a custom layer for estimating linear transform for each subject\n",
    "# We only assume 1D lear transform on each input dimension separately. (assume value on each dimension are independent to others.)\n",
    "# 1D linear transform: yi = wi * xi + bi\n",
    "class SubjectLinearTransform1D(keras.layers.Layer):\n",
    "    def __init__(self, num_subject, bias_scale=1.0, weight_mean_reg_rate=1.0, bias_mean_reg_rate=1.0, activation=None, **kwargs):\n",
    "        super().__init__(**kwargs)\n",
    "        self.num_subject = num_subject\n",
    "        self.bias_scale = bias_scale\n",
    "        self.weight_mean_reg_rate = weight_mean_reg_rate if weight_mean_reg_rate >= 0.0 else 0.0\n",
    "        self.bias_mean_reg_rate = bias_mean_reg_rate if bias_mean_reg_rate >= 0.0 else 0.0\n",
    "        #\n",
    "        self.X_shape = None\n",
    "        self.activation = keras.activations.get(activation)\n",
    "        \n",
    "    def build(self, batch_input_shape):\n",
    "        self.X_shape = batch_input_shape[0]\n",
    "        # Initiate a trainable vector as the bias for X\n",
    "        \"\"\"\n",
    "        bias: (num_subject, X_shape[1], X_shape[2], ...)\n",
    "        \"\"\"\n",
    "        self.weight = self.add_weight(name=\"weight\", \n",
    "                                    shape=([self.num_subject] + self.X_shape[1:]), \n",
    "                                    initializer=\"ones\")\n",
    "        self.bias = self.add_weight(name=\"bias\", \n",
    "                                    shape=([self.num_subject] + self.X_shape[1:]), \n",
    "                                    initializer=\"zeros\")\n",
    "        super().build(batch_input_shape) # must be at the end\n",
    "        \n",
    "    def get_bias(self, sid):\n",
    "        '''\n",
    "        A helper function for retriving the bias according to the given sid.\n",
    "        Note: sid starts from 1.\n",
    "        Note2: this is the bias added to X, which are scaled by self.bias_scale\n",
    "        '''\n",
    "        if sid > self.num_subject or sid <= 0: # Out of bound, index not in range\n",
    "            return tf.zeros(self.X_shape[1:])\n",
    "        else:\n",
    "            return self.bias_scale * self.bias[tf.cast(sid-1, tf.int32),:]\n",
    "        \n",
    "    def get_scaled_biases_np(self):\n",
    "        return self.bias_scale * self.bias.numpy()\n",
    "    \n",
    "    def get_weights_np(self):\n",
    "        return self.weight.numpy()\n",
    "        \n",
    "    def call(self, X_sid, training=None):\n",
    "        '''\n",
    "        X_sid = [X, sid]\n",
    "        Input shape:  X: (batch, ...), sid: (batch, 1)\n",
    "        Output shape: (batch, ...)\n",
    "        '''\n",
    "        X, SID = X_sid\n",
    "        X_shape = X.shape\n",
    "        print(\"X.shape = %s\" % X.shape)\n",
    "        print(\"SID.shape = %s\" % SID.shape)\n",
    "        \n",
    "        # Element-wise multiplication of weights and addition of biases\n",
    "        y = tf.gather(self.weight, SID[:,0]-1, axis=0) * X + self.bias_scale * tf.gather(self.bias, SID[:,0]-1, axis=0)\n",
    "        \n",
    "        # Add a loss on the means in order to force them to become zeros\n",
    "        if self.weight_mean_reg_rate > 0.0 or self.bias_mean_reg_rate > 0.0:\n",
    "            # Calculate the mean of all weights and biases (on each dimension separately)\n",
    "            weight_means = tf.reduce_mean(self.weight, axis=0)\n",
    "            bias_means = tf.reduce_mean(self.bias, axis=0)\n",
    "            # MAE of means on all dimensions\n",
    "            self.add_loss( self.weight_mean_reg_rate * tf.reduce_sum(tf.abs(weight_means - 1.0)) ) # Should close to 1.0\n",
    "            self.add_loss( self.bias_mean_reg_rate * tf.reduce_sum(tf.abs(bias_means)) )\n",
    "        \n",
    "        return self.activation(y)\n",
    "    \n",
    "    def compute_output_shape(self, batch_input_shape):\n",
    "        # Note: the same shape as the first input\n",
    "        return batch_input_shape[0]\n",
    "    \n",
    "    def get_config(self):\n",
    "        base_config = super().get_config()\n",
    "        return {**base_config, \n",
    "                \"num_subject\": self.num_subject,\n",
    "                \"bias_scale\": self.bias_scale,\n",
    "                \"weight_mean_reg_rate\": self.weight_mean_reg_rate,\n",
    "                \"bias_mean_reg_rate\": self.bias_mean_reg_rate,\n",
    "                \"activation\": keras.activations.serialize(self.activation)}"
   ]
  },
  {
   "cell_type": "markdown",
   "id": "00220bd0",
   "metadata": {},
   "source": [
    "Number of subjects"
   ]
  },
  {
   "cell_type": "code",
   "execution_count": 79,
   "id": "fa925d83",
   "metadata": {},
   "outputs": [],
   "source": [
    "# Number of subjects\n",
    "num_subject = multiout_type"
   ]
  },
  {
   "cell_type": "markdown",
   "id": "37e02154",
   "metadata": {},
   "source": [
    "Build two models"
   ]
  },
  {
   "cell_type": "code",
   "execution_count": 80,
   "id": "05766d44",
   "metadata": {},
   "outputs": [
    {
     "name": "stdout",
     "output_type": "stream",
     "text": [
      "X.shape = (None, 1)\n",
      "gauss_grid.shape = (None, 5)\n",
      "X.shape = (None, 1)\n",
      "SID.shape = (None, 1)\n"
     ]
    }
   ],
   "source": [
    "inputs = keras.layers.Input(shape=X_train.shape[1:])\n",
    "inputs_sid = keras.layers.Input(shape=(1,), dtype=tf.int32)\n",
    "#\n",
    "z = num2grid(5,x_min=-10, x_max=10, sigma=3.0)(inputs)\n",
    "z = keras.layers.Dense(30, activation=\"relu\")(z)\n",
    "output = keras.layers.Dense(1)(z)\n",
    "# output_biased = SubjectBias(num_subject, bias_scale=10.0, mean_reg_rate=1.0, name=\"bias_est\")([output, inputs_sid])\n",
    "output_biased = SubjectLinearTransform1D(num_subject, bias_scale=10.0, weight_mean_reg_rate=5.0, bias_mean_reg_rate=1.0, name=\"bias_est\")([output, inputs_sid])\n",
    "# Setup models\n",
    "model = keras.Model(inputs=[inputs], outputs=[output]) # pure\n",
    "model_biased = keras.Model(inputs=[inputs, inputs_sid], outputs=[output_biased]) # biased, for training"
   ]
  },
  {
   "cell_type": "code",
   "execution_count": 81,
   "id": "6da7e9b1",
   "metadata": {},
   "outputs": [
    {
     "name": "stderr",
     "output_type": "stream",
     "text": [
      "/home/benson516/ml/my_env/lib/python3.6/site-packages/keras/optimizer_v2/optimizer_v2.py:356: UserWarning: The `lr` argument is deprecated, use `learning_rate` instead.\n",
      "  \"The `lr` argument is deprecated, use `learning_rate` instead.\")\n"
     ]
    }
   ],
   "source": [
    "# optimizer = keras.optimizers.SGD(lr=0.001, momentum=0.9)\n",
    "# model.compile(loss=\"mean_squared_error\", optimizer=optimizer)\n",
    "optimizer = keras.optimizers.Adam(lr=0.1)\n",
    "model_biased.compile(loss=\"mean_absolute_error\", optimizer=optimizer)\n",
    "#\n",
    "# model.compile(loss=\"mean_absolute_error\", optimizer=optimizer) # No need to compile this if it's not going to be trained."
   ]
  },
  {
   "cell_type": "code",
   "execution_count": 82,
   "id": "700a6e39",
   "metadata": {
    "scrolled": true
   },
   "outputs": [
    {
     "name": "stdout",
     "output_type": "stream",
     "text": [
      "Epoch 1/100\n",
      "X.shape = (None, 1)\n",
      "gauss_grid.shape = (None, 5)\n",
      "X.shape = (None, 1)\n",
      "SID.shape = (None, 1)\n",
      "X.shape = (None, 1)\n",
      "gauss_grid.shape = (None, 5)\n",
      "X.shape = (None, 1)\n",
      "SID.shape = (None, 1)\n",
      "3/3 [==============================] - ETA: 0s - loss: 41.5320X.shape = (None, 1)\n",
      "gauss_grid.shape = (None, 5)\n",
      "X.shape = (None, 1)\n",
      "SID.shape = (None, 1)\n",
      "3/3 [==============================] - 4s 775ms/step - loss: 41.5320 - val_loss: 32.3765\n",
      "Epoch 2/100\n",
      "3/3 [==============================] - 0s 133ms/step - loss: 38.6991 - val_loss: 30.2575\n",
      "Epoch 3/100\n",
      "3/3 [==============================] - 0s 159ms/step - loss: 33.3346 - val_loss: 24.1326\n",
      "Epoch 4/100\n",
      "3/3 [==============================] - 1s 231ms/step - loss: 23.9792 - val_loss: 14.0235\n",
      "Epoch 5/100\n",
      "3/3 [==============================] - 1s 231ms/step - loss: 16.6062 - val_loss: 12.0005\n",
      "Epoch 6/100\n",
      "3/3 [==============================] - 0s 210ms/step - loss: 18.8034 - val_loss: 12.2278\n",
      "Epoch 7/100\n",
      "3/3 [==============================] - 1s 289ms/step - loss: 15.8349 - val_loss: 7.4335\n",
      "Epoch 8/100\n",
      "3/3 [==============================] - 0s 174ms/step - loss: 12.6977 - val_loss: 8.6130\n",
      "Epoch 9/100\n",
      "3/3 [==============================] - 0s 186ms/step - loss: 12.4801 - val_loss: 9.3186\n",
      "Epoch 10/100\n",
      "3/3 [==============================] - 0s 134ms/step - loss: 12.2922 - val_loss: 6.9264\n",
      "Epoch 11/100\n",
      "3/3 [==============================] - 0s 108ms/step - loss: 10.8808 - val_loss: 6.8957\n",
      "Epoch 12/100\n",
      "3/3 [==============================] - 0s 101ms/step - loss: 11.0098 - val_loss: 6.8139\n",
      "Epoch 13/100\n",
      "3/3 [==============================] - 0s 122ms/step - loss: 9.8387 - val_loss: 9.2116\n",
      "Epoch 14/100\n",
      "3/3 [==============================] - 0s 107ms/step - loss: 10.7886 - val_loss: 7.7515\n",
      "Epoch 15/100\n",
      "3/3 [==============================] - 0s 111ms/step - loss: 9.4377 - val_loss: 5.3668\n",
      "Epoch 16/100\n",
      "3/3 [==============================] - 0s 118ms/step - loss: 9.5512 - val_loss: 6.5724\n",
      "Epoch 17/100\n",
      "3/3 [==============================] - 1s 274ms/step - loss: 9.5399 - val_loss: 5.9934\n",
      "Epoch 18/100\n",
      "3/3 [==============================] - 0s 210ms/step - loss: 9.5607 - val_loss: 8.8684\n",
      "Epoch 19/100\n",
      "3/3 [==============================] - 1s 237ms/step - loss: 9.5801 - val_loss: 5.5308\n",
      "Epoch 20/100\n",
      "3/3 [==============================] - 0s 172ms/step - loss: 8.7842 - val_loss: 6.2399\n",
      "Epoch 21/100\n",
      "3/3 [==============================] - 1s 234ms/step - loss: 8.6780 - val_loss: 5.5646\n",
      "Epoch 22/100\n",
      "3/3 [==============================] - 0s 166ms/step - loss: 7.5924 - val_loss: 6.3291\n",
      "Epoch 23/100\n",
      "3/3 [==============================] - 0s 126ms/step - loss: 7.5885 - val_loss: 5.1692\n",
      "Epoch 24/100\n",
      "3/3 [==============================] - 0s 148ms/step - loss: 7.6542 - val_loss: 4.8234\n",
      "Epoch 25/100\n",
      "3/3 [==============================] - 0s 114ms/step - loss: 7.0898 - val_loss: 5.5248\n",
      "Epoch 26/100\n",
      "3/3 [==============================] - 0s 112ms/step - loss: 6.8303 - val_loss: 5.6627\n",
      "Epoch 27/100\n",
      "3/3 [==============================] - 0s 93ms/step - loss: 6.6123 - val_loss: 5.1598\n",
      "Epoch 28/100\n",
      "3/3 [==============================] - 0s 115ms/step - loss: 6.1663 - val_loss: 5.2572\n",
      "Epoch 29/100\n",
      "3/3 [==============================] - ETA: 0s - loss: 6.549 - 0s 128ms/step - loss: 6.5496 - val_loss: 5.4292\n",
      "Epoch 30/100\n",
      "3/3 [==============================] - 0s 95ms/step - loss: 5.9190 - val_loss: 4.7725\n",
      "Epoch 31/100\n",
      "3/3 [==============================] - 0s 93ms/step - loss: 5.3400 - val_loss: 4.4374\n",
      "Epoch 32/100\n",
      "3/3 [==============================] - ETA: 0s - loss: 4.674 - 0s 94ms/step - loss: 5.1587 - val_loss: 4.4706\n",
      "Epoch 33/100\n",
      "3/3 [==============================] - 0s 95ms/step - loss: 5.1180 - val_loss: 4.8810\n",
      "Epoch 34/100\n",
      "3/3 [==============================] - 0s 100ms/step - loss: 4.9543 - val_loss: 4.3197\n",
      "Epoch 35/100\n",
      "3/3 [==============================] - 0s 126ms/step - loss: 4.6234 - val_loss: 4.0659\n",
      "Epoch 36/100\n",
      "3/3 [==============================] - 0s 140ms/step - loss: 4.1540 - val_loss: 3.9758\n",
      "Epoch 37/100\n",
      "3/3 [==============================] - 0s 113ms/step - loss: 3.7732 - val_loss: 3.7271\n",
      "Epoch 38/100\n",
      "3/3 [==============================] - 0s 130ms/step - loss: 3.6372 - val_loss: 3.6783\n",
      "Epoch 39/100\n",
      "3/3 [==============================] - 0s 125ms/step - loss: 3.5412 - val_loss: 3.4789\n",
      "Epoch 40/100\n",
      "3/3 [==============================] - 0s 68ms/step - loss: 3.3033 - val_loss: 3.7664\n",
      "Epoch 41/100\n",
      "3/3 [==============================] - 0s 61ms/step - loss: 3.5360 - val_loss: 3.1735\n",
      "Epoch 42/100\n",
      "3/3 [==============================] - 0s 82ms/step - loss: 3.2222 - val_loss: 3.9820\n",
      "Epoch 43/100\n",
      "3/3 [==============================] - 0s 112ms/step - loss: 3.7750 - val_loss: 2.8807\n",
      "Epoch 44/100\n",
      "3/3 [==============================] - 0s 136ms/step - loss: 2.7710 - val_loss: 3.0858\n",
      "Epoch 45/100\n",
      "3/3 [==============================] - 0s 93ms/step - loss: 3.4297 - val_loss: 2.8466\n",
      "Epoch 46/100\n",
      "3/3 [==============================] - 0s 101ms/step - loss: 3.2626 - val_loss: 2.9730\n",
      "Epoch 47/100\n",
      "3/3 [==============================] - 0s 104ms/step - loss: 3.4988 - val_loss: 2.5800\n",
      "Epoch 48/100\n",
      "3/3 [==============================] - 0s 157ms/step - loss: 3.3830 - val_loss: 2.8103\n",
      "Epoch 49/100\n",
      "3/3 [==============================] - 0s 118ms/step - loss: 3.2400 - val_loss: 3.6720\n",
      "Epoch 50/100\n",
      "3/3 [==============================] - 0s 94ms/step - loss: 4.1163 - val_loss: 3.1840\n",
      "Epoch 51/100\n",
      "3/3 [==============================] - 0s 108ms/step - loss: 3.4273 - val_loss: 3.2643\n",
      "Epoch 52/100\n",
      "3/3 [==============================] - 0s 96ms/step - loss: 3.2936 - val_loss: 2.5422\n",
      "Epoch 53/100\n",
      "3/3 [==============================] - 0s 115ms/step - loss: 2.7501 - val_loss: 2.6477\n",
      "Epoch 54/100\n",
      "3/3 [==============================] - 0s 82ms/step - loss: 2.8732 - val_loss: 2.3951\n",
      "Epoch 55/100\n",
      "3/3 [==============================] - 0s 114ms/step - loss: 2.9132 - val_loss: 3.0276\n",
      "Epoch 56/100\n",
      "3/3 [==============================] - 0s 70ms/step - loss: 3.3666 - val_loss: 2.9792\n",
      "Epoch 57/100\n",
      "3/3 [==============================] - 0s 77ms/step - loss: 3.0966 - val_loss: 3.1599\n",
      "Epoch 58/100\n",
      "3/3 [==============================] - 0s 89ms/step - loss: 3.3060 - val_loss: 2.9085\n",
      "Epoch 59/100\n",
      "3/3 [==============================] - 0s 95ms/step - loss: 2.7904 - val_loss: 3.2404\n",
      "Epoch 60/100\n",
      "3/3 [==============================] - 0s 97ms/step - loss: 2.8742 - val_loss: 2.4313\n",
      "Epoch 61/100\n",
      "3/3 [==============================] - 0s 79ms/step - loss: 2.8717 - val_loss: 3.9194\n",
      "Epoch 62/100\n",
      "3/3 [==============================] - 0s 87ms/step - loss: 3.3779 - val_loss: 4.2250\n",
      "Epoch 63/100\n",
      "3/3 [==============================] - 0s 106ms/step - loss: 3.5814 - val_loss: 3.1520\n",
      "Epoch 64/100\n",
      "3/3 [==============================] - 0s 102ms/step - loss: 3.7522 - val_loss: 3.8829\n",
      "Epoch 65/100\n",
      "3/3 [==============================] - 0s 122ms/step - loss: 4.6323 - val_loss: 2.2860\n",
      "Epoch 66/100\n",
      "3/3 [==============================] - 0s 107ms/step - loss: 3.1361 - val_loss: 3.3002\n",
      "Epoch 67/100\n",
      "3/3 [==============================] - 0s 138ms/step - loss: 3.1467 - val_loss: 2.7037\n",
      "Epoch 68/100\n",
      "3/3 [==============================] - 0s 135ms/step - loss: 3.0294 - val_loss: 2.8495\n",
      "Epoch 69/100\n",
      "3/3 [==============================] - 0s 142ms/step - loss: 3.0513 - val_loss: 4.6663\n",
      "Epoch 70/100\n",
      "3/3 [==============================] - 0s 206ms/step - loss: 3.4083 - val_loss: 2.4643\n",
      "Epoch 71/100\n",
      "3/3 [==============================] - 0s 150ms/step - loss: 3.2150 - val_loss: 2.9756\n",
      "Epoch 72/100\n",
      "3/3 [==============================] - 0s 155ms/step - loss: 3.1230 - val_loss: 3.6172\n",
      "Epoch 73/100\n",
      "3/3 [==============================] - 0s 132ms/step - loss: 3.1841 - val_loss: 2.3307\n",
      "Epoch 74/100\n",
      "3/3 [==============================] - 0s 145ms/step - loss: 2.7258 - val_loss: 2.8193\n",
      "Epoch 75/100\n",
      "3/3 [==============================] - 0s 138ms/step - loss: 3.4231 - val_loss: 2.5139\n",
      "Epoch 76/100\n",
      "3/3 [==============================] - 0s 148ms/step - loss: 3.1209 - val_loss: 2.7169\n",
      "Epoch 77/100\n",
      "3/3 [==============================] - 1s 356ms/step - loss: 3.1216 - val_loss: 2.2634\n",
      "Epoch 78/100\n",
      "3/3 [==============================] - 1s 327ms/step - loss: 2.4677 - val_loss: 3.3940\n",
      "Epoch 79/100\n"
     ]
    },
    {
     "name": "stdout",
     "output_type": "stream",
     "text": [
      "3/3 [==============================] - 1s 224ms/step - loss: 2.9555 - val_loss: 2.7040\n",
      "Epoch 80/100\n",
      "3/3 [==============================] - 0s 147ms/step - loss: 3.2235 - val_loss: 3.0880\n",
      "Epoch 81/100\n",
      "3/3 [==============================] - 1s 283ms/step - loss: 3.9839 - val_loss: 2.6539\n",
      "Epoch 82/100\n",
      "3/3 [==============================] - 1s 248ms/step - loss: 3.0490 - val_loss: 2.3181\n",
      "Epoch 83/100\n",
      "3/3 [==============================] - 1s 324ms/step - loss: 2.6922 - val_loss: 2.5839\n",
      "Epoch 84/100\n",
      "3/3 [==============================] - 1s 238ms/step - loss: 2.7340 - val_loss: 2.8588\n",
      "Epoch 85/100\n",
      "3/3 [==============================] - 0s 162ms/step - loss: 3.0958 - val_loss: 2.4506\n",
      "Epoch 86/100\n",
      "3/3 [==============================] - 0s 175ms/step - loss: 2.6844 - val_loss: 2.3491\n",
      "Epoch 87/100\n",
      "3/3 [==============================] - 0s 170ms/step - loss: 2.5669 - val_loss: 2.6087\n",
      "Epoch 88/100\n",
      "3/3 [==============================] - 0s 185ms/step - loss: 2.9709 - val_loss: 2.5342\n",
      "Epoch 89/100\n",
      "3/3 [==============================] - 0s 156ms/step - loss: 2.5899 - val_loss: 2.9401\n",
      "Epoch 90/100\n",
      "3/3 [==============================] - 0s 153ms/step - loss: 3.0461 - val_loss: 2.4371\n",
      "Epoch 91/100\n",
      "3/3 [==============================] - 0s 163ms/step - loss: 2.6662 - val_loss: 2.5253\n",
      "Epoch 92/100\n",
      "3/3 [==============================] - 0s 145ms/step - loss: 2.7935 - val_loss: 2.1002\n",
      "Epoch 93/100\n",
      "3/3 [==============================] - 0s 183ms/step - loss: 2.9955 - val_loss: 2.0725\n",
      "Epoch 94/100\n",
      "3/3 [==============================] - 1s 262ms/step - loss: 2.5514 - val_loss: 2.2640\n",
      "Epoch 95/100\n",
      "3/3 [==============================] - 1s 229ms/step - loss: 2.5677 - val_loss: 2.3669\n",
      "Epoch 96/100\n",
      "3/3 [==============================] - 0s 197ms/step - loss: 2.5563 - val_loss: 2.5347\n",
      "Epoch 97/100\n",
      "3/3 [==============================] - 0s 213ms/step - loss: 2.5190 - val_loss: 2.5479\n",
      "Epoch 98/100\n",
      "3/3 [==============================] - 0s 200ms/step - loss: 2.7609 - val_loss: 2.7235\n",
      "Epoch 99/100\n",
      "3/3 [==============================] - 0s 198ms/step - loss: 2.8907 - val_loss: 2.9017\n",
      "Epoch 100/100\n",
      "3/3 [==============================] - 0s 181ms/step - loss: 3.0448 - val_loss: 3.2464\n"
     ]
    }
   ],
   "source": [
    "history = model_biased.fit([X_train, sid_train], y_train, epochs=100,\n",
    "                    validation_data=([X_valid, sid_valid], y_valid))"
   ]
  },
  {
   "cell_type": "code",
   "execution_count": 83,
   "id": "ca149f05",
   "metadata": {},
   "outputs": [
    {
     "name": "stdout",
     "output_type": "stream",
     "text": [
      "Saving figure grid_noBiaseNum_training_curve\n"
     ]
    },
    {
     "data": {
      "image/png": "[encoded data removed]",
      "text/plain": [
       "<Figure size 576x360 with 1 Axes>"
      ]
     },
     "metadata": {
      "needs_background": "light"
     },
     "output_type": "display_data"
    }
   ],
   "source": [
    "import pandas as pd\n",
    "\n",
    "pd.DataFrame(history.history).plot(figsize=(8, 5))\n",
    "plt.grid(True)\n",
    "# plt.gca().set_ylim(0, 1)\n",
    "save_fig(\"grid_noBiaseNum_training_curve\")\n",
    "plt.show()"
   ]
  },
  {
   "cell_type": "markdown",
   "id": "2433c7a5",
   "metadata": {},
   "source": [
    "The pure prediction"
   ]
  },
  {
   "cell_type": "code",
   "execution_count": 84,
   "id": "556ee2c4",
   "metadata": {},
   "outputs": [
    {
     "name": "stdout",
     "output_type": "stream",
     "text": [
      "X.shape = (None, 1)\n",
      "gauss_grid.shape = (None, 5)\n",
      "Saving figure grid_noBaisNum_prediction\n"
     ]
    },
    {
     "data": {
      "image/png": "[encoded data removed]",
      "text/plain": [
       "<Figure size 432x288 with 1 Axes>"
      ]
     },
     "metadata": {
      "needs_background": "light"
     },
     "output_type": "display_data"
    }
   ],
   "source": [
    "draw_points(X_train, y_train, sid_train)\n",
    "draw_func(model.predict, mark='r-', linewidth=2, label=\"Predictions\")\n",
    "draw_normal_func(func_dict)\n",
    "plt.xlabel(\"$x_1$\", fontsize=18)\n",
    "plt.ylabel(\"$y$\", rotation=0, fontsize=18)\n",
    "plt.legend(loc=\"upper left\", fontsize=14)\n",
    "# plt.axis([-3, 3, 0, 10])\n",
    "save_fig(\"grid_noBaisNum_prediction\")\n",
    "plt.show()"
   ]
  },
  {
   "cell_type": "code",
   "execution_count": 85,
   "id": "4d3d77cd",
   "metadata": {},
   "outputs": [
    {
     "name": "stdout",
     "output_type": "stream",
     "text": [
      "y_func.shape = (100, 1)\n",
      "y_gt.shape = (100, 1)\n"
     ]
    },
    {
     "data": {
      "text/plain": [
       "2.213534555049857"
      ]
     },
     "execution_count": 85,
     "metadata": {},
     "output_type": "execute_result"
    }
   ],
   "source": [
    "get_prediction_error(model.predict, func_dict, name=\"grid-noBiasNum\")"
   ]
  },
  {
   "cell_type": "markdown",
   "id": "b89b2413",
   "metadata": {},
   "source": [
    "### Biased Prediction (according to SID)"
   ]
  },
  {
   "cell_type": "code",
   "execution_count": 86,
   "id": "0893f75e",
   "metadata": {},
   "outputs": [
    {
     "name": "stdout",
     "output_type": "stream",
     "text": [
      "scaled_bias = \n",
      "[[-12.540106]\n",
      " [ 12.131325]]\n",
      "\n",
      "mean_scaled_bias = \n",
      "[-0.40878105]\n"
     ]
    }
   ],
   "source": [
    "scaled_bias = model_biased.get_layer(\"bias_est\").get_scaled_biases_np()\n",
    "mean_scaled_bias = np.sum(scaled_bias, axis=0)\n",
    "#\n",
    "print(\"scaled_bias = \\n%s\" % str(scaled_bias))\n",
    "print(\"\\nmean_scaled_bias = \\n%s\" % str(mean_scaled_bias))"
   ]
  },
  {
   "cell_type": "code",
   "execution_count": 87,
   "id": "01a675f7",
   "metadata": {},
   "outputs": [
    {
     "name": "stdout",
     "output_type": "stream",
     "text": [
      "output_scales = \n",
      "[[1.1574538 ]\n",
      " [0.84806913]]\n",
      "\n",
      "mean_scales = \n",
      "[1.0027615]\n"
     ]
    }
   ],
   "source": [
    "try:\n",
    "    output_scales = model_biased.get_layer(\"bias_est\").get_weights_np()\n",
    "    mean_scales = np.mean(output_scales, axis=0)\n",
    "    #\n",
    "    print(\"output_scales = \\n%s\" % str(output_scales))\n",
    "    print(\"\\nmean_scales = \\n%s\" % str(mean_scales))\n",
    "except:\n",
    "    pass"
   ]
  },
  {
   "cell_type": "code",
   "execution_count": 88,
   "id": "16460e63",
   "metadata": {},
   "outputs": [
    {
     "name": "stdout",
     "output_type": "stream",
     "text": [
      "X.shape = (None, 1)\n",
      "gauss_grid.shape = (None, 5)\n",
      "X.shape = (None, 1)\n",
      "SID.shape = (None, 1)\n",
      "Saving figure grid_noBaisNum_perSubjectCurve\n"
     ]
    },
    {
     "data": {
      "image/png": "[encoded data removed]",
      "text/plain": [
       "<Figure size 432x288 with 1 Axes>"
      ]
     },
     "metadata": {
      "needs_background": "light"
     },
     "output_type": "display_data"
    }
   ],
   "source": [
    "def predict_with_biase_sid(X, sid=1):\n",
    "    return model_biased.predict([X, tf.fill( (X.shape[0],1), sid)])\n",
    "\n",
    "draw_points(X_train, y_train, sid_train)\n",
    "#\n",
    "draw_func(model.predict, mark='r-', linewidth=2, label=\"Predictions\")\n",
    "for _idx in range(num_subject):\n",
    "    _sid = _idx + 1\n",
    "    draw_func(lambda X: predict_with_biase_sid(X, _sid), mark='k--', linewidth=1, label=(\"sid=%d\" % _sid))\n",
    "#\n",
    "draw_normal_func(func_dict)\n",
    "plt.xlabel(\"$x_1$\", fontsize=18)\n",
    "plt.ylabel(\"$y$\", rotation=0, fontsize=18)\n",
    "plt.legend(loc=\"upper left\", fontsize=14)\n",
    "# plt.axis([-3, 3, 0, 10])\n",
    "save_fig(\"grid_noBaisNum_perSubjectCurve\")\n",
    "plt.show()"
   ]
  },
  {
   "cell_type": "code",
   "execution_count": null,
   "id": "88fbe2df",
   "metadata": {},
   "outputs": [],
   "source": []
  },
  {
   "cell_type": "markdown",
   "id": "40092303",
   "metadata": {},
   "source": [
    "# Combine Multi-Quantile Redgression with Per-Subject Transform Estimation (grid --> multi-quantile)"
   ]
  },
  {
   "cell_type": "code",
   "execution_count": 89,
   "id": "ba230fb2",
   "metadata": {},
   "outputs": [],
   "source": [
    "# quantile_list = [0.5]\n",
    "# quantile_list = [0.9]\n",
    "# quantile_list = [0.1, 0.9] # Use hidden layer with 30 neurons\n",
    "# quantile_list = [0.05, 0.95]\n",
    "# quantile_list = [0.25, 0.75]\n",
    "# quantile_list = [0.1, 0.5, 0.9]\n",
    "# quantile_list = [0.1, 0.3, 0.7, 0.9]\n",
    "# quantile_list = [0.1, 0.2, 0.3, 0.4, 0.6, 0.7, 0.8, 0.9] # remove 0.5\n",
    "quantile_list = [0.1, 0.2, 0.3, 0.4, 0.5, 0.6, 0.7, 0.8, 0.9] # Should use wider hidden layer (with many neurons) + L1 regularization\n",
    "num_quantile = len(quantile_list)"
   ]
  },
  {
   "cell_type": "code",
   "execution_count": 90,
   "id": "26d0136c",
   "metadata": {},
   "outputs": [],
   "source": [
    "# Number of subjects\n",
    "num_subject = multiout_type"
   ]
  },
  {
   "cell_type": "code",
   "execution_count": 91,
   "id": "7d1cdc96",
   "metadata": {},
   "outputs": [
    {
     "name": "stdout",
     "output_type": "stream",
     "text": [
      "X.shape = (None, 1)\n",
      "gauss_grid.shape = (None, 5)\n",
      "X.shape = (None, 9)\n",
      "SID.shape = (None, 1)\n"
     ]
    }
   ],
   "source": [
    "inputs = keras.layers.Input(shape=X_train.shape[1:])\n",
    "inputs_sid = keras.layers.Input(shape=(1,), dtype=tf.int32)\n",
    "#\n",
    "z = num2grid(5,x_min=-10, x_max=10, sigma=3.0)(inputs)\n",
    "z = keras.layers.Dense(30, activation=\"relu\")(z)\n",
    "output = keras.layers.Dense(num_quantile)(z)\n",
    "# output_biased = SubjectBias(num_subject, bias_scale=10.0, mean_reg_rate=1.0, name=\"bias_est\")([output, inputs_sid])\n",
    "output_biased = SubjectLinearTransform1D(num_subject, bias_scale=10.0, weight_mean_reg_rate=5.0, bias_mean_reg_rate=1.0, name=\"bias_est\")([output, inputs_sid])\n",
    "# Setup models\n",
    "model = keras.Model(inputs=[inputs], outputs=[output]) # pure\n",
    "model_biased = keras.Model(inputs=[inputs, inputs_sid], outputs=[output_biased]) # biased, for training"
   ]
  },
  {
   "cell_type": "code",
   "execution_count": 92,
   "id": "0769d3b2",
   "metadata": {},
   "outputs": [
    {
     "name": "stderr",
     "output_type": "stream",
     "text": [
      "/home/benson516/ml/my_env/lib/python3.6/site-packages/keras/optimizer_v2/optimizer_v2.py:356: UserWarning: The `lr` argument is deprecated, use `learning_rate` instead.\n",
      "  \"The `lr` argument is deprecated, use `learning_rate` instead.\")\n"
     ]
    }
   ],
   "source": [
    "# optimizer = keras.optimizers.SGD(lr=0.1, momentum=0.9)\n",
    "optimizer = keras.optimizers.Adam(lr=0.1)\n",
    "model_biased.compile(loss=pinballLoss_full_fn, optimizer=optimizer)\n",
    "# model.compile(loss=pinballLoss_full_fn, optimizer=optimizer) # No need to compile this if it's not going to be trained."
   ]
  },
  {
   "cell_type": "code",
   "execution_count": 93,
   "id": "9a37c998",
   "metadata": {
    "scrolled": true
   },
   "outputs": [
    {
     "name": "stdout",
     "output_type": "stream",
     "text": [
      "Epoch 1/100\n",
      "X.shape = (None, 1)\n",
      "gauss_grid.shape = (None, 5)\n",
      "X.shape = (None, 9)\n",
      "SID.shape = (None, 1)\n",
      "X.shape = (None, 1)\n",
      "gauss_grid.shape = (None, 5)\n",
      "X.shape = (None, 9)\n",
      "SID.shape = (None, 1)\n",
      "3/3 [==============================] - ETA: 0s - loss: 186.3885X.shape = (None, 1)\n",
      "gauss_grid.shape = (None, 5)\n",
      "X.shape = (None, 9)\n",
      "SID.shape = (None, 1)\n",
      "3/3 [==============================] - 9s 1s/step - loss: 186.3885 - val_loss: 144.2025\n",
      "Epoch 2/100\n",
      "3/3 [==============================] - 1s 299ms/step - loss: 170.7740 - val_loss: 121.5437\n",
      "Epoch 3/100\n",
      "3/3 [==============================] - 1s 256ms/step - loss: 141.9933 - val_loss: 95.1844\n",
      "Epoch 4/100\n",
      "3/3 [==============================] - 0s 188ms/step - loss: 110.1916 - val_loss: 75.3229\n",
      "Epoch 5/100\n",
      "3/3 [==============================] - 0s 156ms/step - loss: 85.7855 - val_loss: 64.6617\n",
      "Epoch 6/100\n",
      "3/3 [==============================] - 0s 143ms/step - loss: 71.8231 - val_loss: 52.3114\n",
      "Epoch 7/100\n",
      "3/3 [==============================] - 0s 163ms/step - loss: 61.9120 - val_loss: 40.2541\n",
      "Epoch 8/100\n",
      "3/3 [==============================] - 0s 182ms/step - loss: 54.8789 - val_loss: 36.0499\n",
      "Epoch 9/100\n",
      "3/3 [==============================] - 0s 147ms/step - loss: 52.6114 - val_loss: 33.5310\n",
      "Epoch 10/100\n",
      "3/3 [==============================] - 0s 147ms/step - loss: 49.1112 - val_loss: 30.3516\n",
      "Epoch 11/100\n",
      "3/3 [==============================] - 1s 242ms/step - loss: 43.0094 - val_loss: 35.2004\n",
      "Epoch 12/100\n",
      "3/3 [==============================] - 1s 437ms/step - loss: 40.2754 - val_loss: 26.3014\n",
      "Epoch 13/100\n",
      "3/3 [==============================] - 1s 276ms/step - loss: 36.4576 - val_loss: 22.0140\n",
      "Epoch 14/100\n",
      "3/3 [==============================] - 1s 288ms/step - loss: 34.4049 - val_loss: 26.4108\n",
      "Epoch 15/100\n",
      "3/3 [==============================] - 1s 349ms/step - loss: 34.3093 - val_loss: 22.3228\n",
      "Epoch 16/100\n",
      "3/3 [==============================] - 1s 304ms/step - loss: 31.8384 - val_loss: 23.3081\n",
      "Epoch 17/100\n",
      "3/3 [==============================] - 1s 343ms/step - loss: 30.1805 - val_loss: 24.6316\n",
      "Epoch 18/100\n",
      "3/3 [==============================] - 1s 235ms/step - loss: 28.8565 - val_loss: 21.6457\n",
      "Epoch 19/100\n",
      "3/3 [==============================] - 0s 185ms/step - loss: 28.6305 - val_loss: 22.6697\n",
      "Epoch 20/100\n",
      "3/3 [==============================] - 0s 165ms/step - loss: 24.8750 - val_loss: 24.7726\n",
      "Epoch 21/100\n",
      "3/3 [==============================] - 0s 229ms/step - loss: 24.8739 - val_loss: 18.9264\n",
      "Epoch 22/100\n",
      "3/3 [==============================] - 1s 254ms/step - loss: 24.6568 - val_loss: 19.3514\n",
      "Epoch 23/100\n",
      "3/3 [==============================] - 0s 159ms/step - loss: 21.6923 - val_loss: 22.4363\n",
      "Epoch 24/100\n",
      "3/3 [==============================] - 0s 168ms/step - loss: 20.8015 - val_loss: 16.5570\n",
      "Epoch 25/100\n",
      "3/3 [==============================] - 1s 286ms/step - loss: 19.4814 - val_loss: 19.5697\n",
      "Epoch 26/100\n",
      "3/3 [==============================] - 1s 269ms/step - loss: 17.7770 - val_loss: 16.3939\n",
      "Epoch 27/100\n",
      "3/3 [==============================] - 1s 290ms/step - loss: 17.8463 - val_loss: 17.6525\n",
      "Epoch 28/100\n",
      "3/3 [==============================] - 0s 162ms/step - loss: 17.6192 - val_loss: 16.2296\n",
      "Epoch 29/100\n",
      "3/3 [==============================] - 1s 358ms/step - loss: 15.0865 - val_loss: 14.5371\n",
      "Epoch 30/100\n",
      "3/3 [==============================] - 0s 230ms/step - loss: 14.0836 - val_loss: 13.1754\n",
      "Epoch 31/100\n",
      "3/3 [==============================] - 1s 229ms/step - loss: 12.7834 - val_loss: 13.0134\n",
      "Epoch 32/100\n",
      "3/3 [==============================] - 1s 234ms/step - loss: 12.4187 - val_loss: 11.5996\n",
      "Epoch 33/100\n",
      "3/3 [==============================] - 1s 243ms/step - loss: 11.2669 - val_loss: 11.9706\n",
      "Epoch 34/100\n",
      "3/3 [==============================] - 1s 286ms/step - loss: 11.9734 - val_loss: 11.6053\n",
      "Epoch 35/100\n",
      "3/3 [==============================] - 1s 247ms/step - loss: 11.7655 - val_loss: 12.8492\n",
      "Epoch 36/100\n",
      "3/3 [==============================] - 0s 195ms/step - loss: 12.5851 - val_loss: 10.5475\n",
      "Epoch 37/100\n",
      "3/3 [==============================] - 1s 264ms/step - loss: 12.4644 - val_loss: 10.2731\n",
      "Epoch 38/100\n",
      "3/3 [==============================] - 1s 332ms/step - loss: 11.0373 - val_loss: 11.0580\n",
      "Epoch 39/100\n",
      "3/3 [==============================] - 1s 498ms/step - loss: 10.4978 - val_loss: 12.3146\n",
      "Epoch 40/100\n",
      "3/3 [==============================] - 1s 385ms/step - loss: 12.9919 - val_loss: 13.4024\n",
      "Epoch 41/100\n",
      "3/3 [==============================] - 1s 353ms/step - loss: 12.8763 - val_loss: 12.4378\n",
      "Epoch 42/100\n",
      "3/3 [==============================] - 1s 271ms/step - loss: 12.2946 - val_loss: 10.9632\n",
      "Epoch 43/100\n",
      "3/3 [==============================] - 1s 359ms/step - loss: 11.7102 - val_loss: 10.4130\n",
      "Epoch 44/100\n",
      "3/3 [==============================] - 1s 559ms/step - loss: 11.3048 - val_loss: 10.6418\n",
      "Epoch 45/100\n",
      "3/3 [==============================] - 1s 354ms/step - loss: 10.6959 - val_loss: 9.5667\n",
      "Epoch 46/100\n",
      "3/3 [==============================] - 1s 253ms/step - loss: 10.5092 - val_loss: 10.1506\n",
      "Epoch 47/100\n",
      "3/3 [==============================] - 1s 330ms/step - loss: 10.7700 - val_loss: 10.0446\n",
      "Epoch 48/100\n",
      "3/3 [==============================] - 1s 216ms/step - loss: 11.4396 - val_loss: 9.5430\n",
      "Epoch 49/100\n",
      "3/3 [==============================] - 0s 169ms/step - loss: 11.0212 - val_loss: 10.4000\n",
      "Epoch 50/100\n",
      "3/3 [==============================] - 1s 345ms/step - loss: 11.1857 - val_loss: 9.5896\n",
      "Epoch 51/100\n",
      "3/3 [==============================] - 1s 328ms/step - loss: 10.2265 - val_loss: 11.0232\n",
      "Epoch 52/100\n",
      "3/3 [==============================] - 1s 313ms/step - loss: 10.4105 - val_loss: 17.1888\n",
      "Epoch 53/100\n",
      "3/3 [==============================] - 1s 394ms/step - loss: 16.0052 - val_loss: 17.8648\n",
      "Epoch 54/100\n",
      "3/3 [==============================] - 1s 331ms/step - loss: 17.4808 - val_loss: 14.2253\n",
      "Epoch 55/100\n",
      "3/3 [==============================] - 1s 240ms/step - loss: 16.2291 - val_loss: 11.7857\n",
      "Epoch 56/100\n",
      "3/3 [==============================] - 0s 195ms/step - loss: 13.6651 - val_loss: 12.3028\n",
      "Epoch 57/100\n",
      "3/3 [==============================] - 0s 213ms/step - loss: 14.7537 - val_loss: 13.4314\n",
      "Epoch 58/100\n",
      "3/3 [==============================] - 0s 230ms/step - loss: 13.6828 - val_loss: 12.9629\n",
      "Epoch 59/100\n",
      "3/3 [==============================] - 1s 322ms/step - loss: 14.0673 - val_loss: 11.1050\n",
      "Epoch 60/100\n",
      "3/3 [==============================] - 1s 402ms/step - loss: 11.9103 - val_loss: 13.2686\n",
      "Epoch 61/100\n",
      "3/3 [==============================] - 1s 514ms/step - loss: 12.6646 - val_loss: 11.4746\n",
      "Epoch 62/100\n",
      "3/3 [==============================] - 1s 565ms/step - loss: 11.4717 - val_loss: 12.2410\n",
      "Epoch 63/100\n",
      "3/3 [==============================] - 1s 375ms/step - loss: 12.2312 - val_loss: 12.9170\n",
      "Epoch 64/100\n",
      "3/3 [==============================] - 1s 317ms/step - loss: 13.0981 - val_loss: 11.9890\n",
      "Epoch 65/100\n",
      "3/3 [==============================] - 0s 199ms/step - loss: 13.8116 - val_loss: 10.2021\n",
      "Epoch 66/100\n",
      "3/3 [==============================] - 1s 313ms/step - loss: 11.7694 - val_loss: 11.1410\n",
      "Epoch 67/100\n",
      "3/3 [==============================] - 1s 340ms/step - loss: 10.7593 - val_loss: 11.1233\n",
      "Epoch 68/100\n",
      "3/3 [==============================] - 1s 325ms/step - loss: 11.3321 - val_loss: 10.1165\n",
      "Epoch 69/100\n",
      "3/3 [==============================] - 1s 273ms/step - loss: 10.8510 - val_loss: 11.8736\n",
      "Epoch 70/100\n",
      "3/3 [==============================] - 1s 286ms/step - loss: 12.6566 - val_loss: 11.3013\n",
      "Epoch 71/100\n",
      "3/3 [==============================] - 1s 431ms/step - loss: 11.2251 - val_loss: 11.7545\n",
      "Epoch 72/100\n",
      "3/3 [==============================] - 1s 334ms/step - loss: 10.9760 - val_loss: 12.5449\n",
      "Epoch 73/100\n",
      "3/3 [==============================] - 1s 320ms/step - loss: 12.1395 - val_loss: 11.8704\n",
      "Epoch 74/100\n",
      "3/3 [==============================] - 0s 196ms/step - loss: 12.4004 - val_loss: 11.2375\n",
      "Epoch 75/100\n",
      "3/3 [==============================] - 1s 305ms/step - loss: 9.7941 - val_loss: 10.6940\n",
      "Epoch 76/100\n",
      "3/3 [==============================] - 1s 361ms/step - loss: 10.1281 - val_loss: 11.4564\n",
      "Epoch 77/100\n",
      "3/3 [==============================] - 1s 234ms/step - loss: 11.8248 - val_loss: 10.0667\n",
      "Epoch 78/100\n"
     ]
    },
    {
     "name": "stdout",
     "output_type": "stream",
     "text": [
      "3/3 [==============================] - 0s 190ms/step - loss: 10.4322 - val_loss: 9.3942\n",
      "Epoch 79/100\n",
      "3/3 [==============================] - 0s 169ms/step - loss: 10.6880 - val_loss: 8.8610\n",
      "Epoch 80/100\n",
      "3/3 [==============================] - 1s 280ms/step - loss: 10.5854 - val_loss: 8.6121\n",
      "Epoch 81/100\n",
      "3/3 [==============================] - 1s 232ms/step - loss: 9.6365 - val_loss: 9.0224\n",
      "Epoch 82/100\n",
      "3/3 [==============================] - 1s 263ms/step - loss: 10.0005 - val_loss: 9.5863\n",
      "Epoch 83/100\n",
      "3/3 [==============================] - 0s 218ms/step - loss: 11.3495 - val_loss: 9.9548\n",
      "Epoch 84/100\n",
      "3/3 [==============================] - 1s 236ms/step - loss: 10.4344 - val_loss: 9.1459\n",
      "Epoch 85/100\n",
      "3/3 [==============================] - 1s 230ms/step - loss: 10.5472 - val_loss: 9.7847\n",
      "Epoch 86/100\n",
      "3/3 [==============================] - 0s 225ms/step - loss: 11.2834 - val_loss: 9.7347\n",
      "Epoch 87/100\n",
      "3/3 [==============================] - 1s 295ms/step - loss: 10.1854 - val_loss: 8.9309\n",
      "Epoch 88/100\n",
      "3/3 [==============================] - 0s 225ms/step - loss: 9.6950 - val_loss: 9.0204\n",
      "Epoch 89/100\n",
      "3/3 [==============================] - 1s 239ms/step - loss: 9.6592 - val_loss: 9.2179\n",
      "Epoch 90/100\n",
      "3/3 [==============================] - 1s 257ms/step - loss: 9.6956 - val_loss: 8.9917\n",
      "Epoch 91/100\n",
      "3/3 [==============================] - 0s 160ms/step - loss: 9.7080 - val_loss: 8.6896\n",
      "Epoch 92/100\n",
      "3/3 [==============================] - 0s 178ms/step - loss: 9.8600 - val_loss: 8.8409\n",
      "Epoch 93/100\n",
      "3/3 [==============================] - 0s 148ms/step - loss: 9.5910 - val_loss: 9.1033\n",
      "Epoch 94/100\n",
      "3/3 [==============================] - 0s 151ms/step - loss: 9.8100 - val_loss: 9.4274\n",
      "Epoch 95/100\n",
      "3/3 [==============================] - 0s 175ms/step - loss: 9.7993 - val_loss: 10.8476\n",
      "Epoch 96/100\n",
      "3/3 [==============================] - 0s 142ms/step - loss: 11.2246 - val_loss: 8.6918\n",
      "Epoch 97/100\n",
      "3/3 [==============================] - 0s 150ms/step - loss: 10.1783 - val_loss: 8.7157\n",
      "Epoch 98/100\n",
      "3/3 [==============================] - 0s 143ms/step - loss: 9.9275 - val_loss: 9.3019\n",
      "Epoch 99/100\n",
      "3/3 [==============================] - 0s 131ms/step - loss: 10.1456 - val_loss: 8.1189\n",
      "Epoch 100/100\n",
      "3/3 [==============================] - 0s 136ms/step - loss: 9.8979 - val_loss: 9.8604\n"
     ]
    }
   ],
   "source": [
    "history = model_biased.fit([X_train, sid_train], y_train, epochs=100,\n",
    "                    validation_data=([X_valid, sid_valid], y_valid))"
   ]
  },
  {
   "cell_type": "code",
   "execution_count": 94,
   "id": "66d04b69",
   "metadata": {},
   "outputs": [
    {
     "name": "stdout",
     "output_type": "stream",
     "text": [
      "Saving figure grid_NoBiasQuantile_training_curve\n"
     ]
    },
    {
     "data": {
      "image/png": "[encoded data removed]",
      "text/plain": [
       "<Figure size 576x360 with 1 Axes>"
      ]
     },
     "metadata": {
      "needs_background": "light"
     },
     "output_type": "display_data"
    }
   ],
   "source": [
    "import pandas as pd\n",
    "\n",
    "pd.DataFrame(history.history).plot(figsize=(8, 5))\n",
    "plt.grid(True)\n",
    "# plt.gca().set_ylim(0, 1)\n",
    "save_fig(\"grid_NoBiasQuantile_training_curve\")\n",
    "plt.show()"
   ]
  },
  {
   "cell_type": "markdown",
   "id": "9e1f1c9b",
   "metadata": {},
   "source": [
    "### Draw the \"pure\" mean prediction curve averaged from all quantile predictions."
   ]
  },
  {
   "cell_type": "code",
   "execution_count": 95,
   "id": "2f62afb2",
   "metadata": {},
   "outputs": [
    {
     "name": "stdout",
     "output_type": "stream",
     "text": [
      "X.shape = (None, 1)\n",
      "gauss_grid.shape = (None, 5)\n",
      "Saving figure grid_noBiaseQuantile_prediction\n"
     ]
    },
    {
     "data": {
      "image/png": "[encoded data removed]",
      "text/plain": [
       "<Figure size 432x288 with 1 Axes>"
      ]
     },
     "metadata": {
      "needs_background": "light"
     },
     "output_type": "display_data"
    }
   ],
   "source": [
    "# plt.plot(X_train, y_train, \"b.\")\n",
    "draw_points(X_train, y_train, sid_train)\n",
    "draw_func((lambda X: np.average(model.predict(X), axis=-1) ), mark='r-', linewidth=2, label=\"Predictions\")\n",
    "draw_normal_func(func_dict)\n",
    "plt.xlabel(\"$x_1$\", fontsize=18)\n",
    "plt.ylabel(\"$y$\", rotation=0, fontsize=18)\n",
    "plt.legend(loc=\"upper left\", fontsize=14)\n",
    "# plt.axis([-3, 3, 0, 10])\n",
    "save_fig(\"grid_noBiaseQuantile_prediction\")\n",
    "plt.show()"
   ]
  },
  {
   "cell_type": "code",
   "execution_count": 96,
   "id": "4ffc0f23",
   "metadata": {},
   "outputs": [
    {
     "name": "stdout",
     "output_type": "stream",
     "text": [
      "y_func.shape = (100, 1)\n",
      "y_gt.shape = (100, 1)\n"
     ]
    },
    {
     "data": {
      "text/plain": [
       "1.065590920619317"
      ]
     },
     "execution_count": 96,
     "metadata": {},
     "output_type": "execute_result"
    }
   ],
   "source": [
    "get_prediction_error((lambda X: np.average(model.predict(X), axis=-1) ), func_dict, name=\"grid-noBiaseQuantileR\")"
   ]
  },
  {
   "cell_type": "markdown",
   "id": "a213fbdb",
   "metadata": {},
   "source": [
    "### Draw all \"pure\" quantile prediction"
   ]
  },
  {
   "cell_type": "code",
   "execution_count": 97,
   "id": "ff824ca7",
   "metadata": {},
   "outputs": [
    {
     "name": "stdout",
     "output_type": "stream",
     "text": [
      "Saving figure grid_quantile_all_quantiles\n"
     ]
    },
    {
     "data": {
      "image/png": "[encoded data removed]",
      "text/plain": [
       "<Figure size 432x288 with 1 Axes>"
      ]
     },
     "metadata": {
      "needs_background": "light"
     },
     "output_type": "display_data"
    }
   ],
   "source": [
    "# plt.plot(X_train, y_train, \"b.\")\n",
    "draw_points(X_train, y_train, sid_train)\n",
    "draw_func((lambda X: np.average(model.predict(X), axis=-1) ), mark='r-', linewidth=2, label=\"Predictions\")\n",
    "for _idx, _tau in enumerate(quantile_list):\n",
    "    draw_func((lambda X: model.predict(X)[:,_idx] ), mark='k--', linewidth=1, label=\"$y_{%d}$\" % (_tau*100))\n",
    "draw_normal_func(func_dict)\n",
    "plt.xlabel(\"$x_1$\", fontsize=18)\n",
    "plt.ylabel(\"$y$\", rotation=0, fontsize=18)\n",
    "plt.legend(loc=\"upper left\", fontsize=14)\n",
    "# plt.axis([-3, 3, 0, 10])\n",
    "save_fig(\"grid_quantile_all_quantiles\")\n",
    "plt.show()"
   ]
  },
  {
   "cell_type": "markdown",
   "id": "11c7ec73",
   "metadata": {},
   "source": [
    "### Estimated Biases and Scales (according to SID)"
   ]
  },
  {
   "cell_type": "code",
   "execution_count": 98,
   "id": "9a79c04b",
   "metadata": {},
   "outputs": [
    {
     "name": "stdout",
     "output_type": "stream",
     "text": [
      "scaled_bias = \n",
      "[[-11.233116 -11.466387 -12.014311 -11.93948  -11.88537  -12.72364\n",
      "  -12.955279 -12.809612 -12.307244]\n",
      " [ 10.628979  11.191204  11.360392  11.779402  12.586055  12.615558\n",
      "   13.90935   12.929405  12.408955]]\n",
      "\n",
      "mean_scaled_bias = \n",
      "[-0.6041374  -0.27518272 -0.6539192  -0.16007805  0.70068455 -0.10808277\n",
      "  0.95407104  0.11979294  0.10171032]\n"
     ]
    }
   ],
   "source": [
    "scaled_bias = model_biased.get_layer(\"bias_est\").get_scaled_biases_np()\n",
    "mean_scaled_bias = np.sum(scaled_bias, axis=0)\n",
    "#\n",
    "print(\"scaled_bias = \\n%s\" % str(scaled_bias))\n",
    "print(\"\\nmean_scaled_bias = \\n%s\" % str(mean_scaled_bias))"
   ]
  },
  {
   "cell_type": "code",
   "execution_count": 99,
   "id": "ef5bb592",
   "metadata": {},
   "outputs": [
    {
     "name": "stdout",
     "output_type": "stream",
     "text": [
      "output_scales = \n",
      "[[1.1331356  1.129445   1.1199839  1.1307225  1.1097127  1.1414928\n",
      "  1.0694168  1.1302501  1.1264756 ]\n",
      " [0.88715965 0.84278345 0.8607138  0.8707749  0.8621805  0.8740304\n",
      "  0.93088925 0.90096277 0.8464871 ]]\n",
      "\n",
      "mean_scales = \n",
      "[1.0101476 0.9861142 0.9903488 1.0007488 0.9859466 1.0077616 1.0001531\n",
      " 1.0156064 0.9864813]\n"
     ]
    }
   ],
   "source": [
    "try:\n",
    "    output_scales = model_biased.get_layer(\"bias_est\").get_weights_np()\n",
    "    mean_scales = np.mean(output_scales, axis=0)\n",
    "    #\n",
    "    print(\"output_scales = \\n%s\" % str(output_scales))\n",
    "    print(\"\\nmean_scales = \\n%s\" % str(mean_scales))\n",
    "except:\n",
    "    pass"
   ]
  },
  {
   "cell_type": "markdown",
   "id": "c493d1c8",
   "metadata": {},
   "source": [
    "### Plotting of mean quantiles for each subject"
   ]
  },
  {
   "cell_type": "code",
   "execution_count": 100,
   "id": "3c2bd240",
   "metadata": {},
   "outputs": [
    {
     "name": "stdout",
     "output_type": "stream",
     "text": [
      "X.shape = (None, 1)\n",
      "gauss_grid.shape = (None, 5)\n",
      "X.shape = (None, 9)\n",
      "SID.shape = (None, 1)\n",
      "Saving figure grid_noBaisNum_perSubjectCurve\n"
     ]
    },
    {
     "data": {
      "image/png": "[encoded data removed]",
      "text/plain": [
       "<Figure size 432x288 with 1 Axes>"
      ]
     },
     "metadata": {
      "needs_background": "light"
     },
     "output_type": "display_data"
    }
   ],
   "source": [
    "def predict_with_biase_sid(X, sid=1):\n",
    "    return np.average( model_biased.predict([X, tf.fill( (X.shape[0],1), sid)]), axis=1)\n",
    "\n",
    "draw_points(X_train, y_train, sid_train)\n",
    "#\n",
    "draw_func((lambda X: np.average(model.predict(X), axis=-1) ), mark='r-', linewidth=2, label=\"Predictions\")\n",
    "for _idx in range(num_subject):\n",
    "    _sid = _idx + 1\n",
    "    draw_func(lambda X: predict_with_biase_sid(X, _sid), mark='k--', linewidth=1, label=(\"sid=%d\" % _sid))\n",
    "#\n",
    "draw_normal_func(func_dict)\n",
    "plt.xlabel(\"$x_1$\", fontsize=18)\n",
    "plt.ylabel(\"$y$\", rotation=0, fontsize=18)\n",
    "plt.legend(loc=\"upper left\", fontsize=14)\n",
    "# plt.axis([-3, 3, 0, 10])\n",
    "save_fig(\"grid_noBaisNum_perSubjectCurve\")\n",
    "plt.show()"
   ]
  },
  {
   "cell_type": "code",
   "execution_count": null,
   "id": "00b87d5e",
   "metadata": {},
   "outputs": [],
   "source": []
  },
  {
   "cell_type": "code",
   "execution_count": null,
   "id": "79ac8ef1",
   "metadata": {},
   "outputs": [],
   "source": []
  },
  {
   "cell_type": "markdown",
   "id": "82ec4fc4",
   "metadata": {},
   "source": [
    "# Summary"
   ]
  },
  {
   "cell_type": "code",
   "execution_count": 101,
   "id": "2d764d70",
   "metadata": {},
   "outputs": [
    {
     "name": "stdout",
     "output_type": "stream",
     "text": [
      "num-num: 5.531279\n",
      "grid-num: 3.751542\n",
      "grid-rbc: 3.792668\n",
      "grid-quantileR: 1.205834\n",
      "grid-oneGaussian: 8.333624\n",
      "grid-noBiasNum: 2.213535\n",
      "grid-noBiaseQuantileR: 1.065591\n",
      "\n"
     ]
    }
   ],
   "source": [
    "results = print_all_prediction_error()"
   ]
  },
  {
   "cell_type": "code",
   "execution_count": 102,
   "id": "9f01e530",
   "metadata": {},
   "outputs": [
    {
     "name": "stdout",
     "output_type": "stream",
     "text": [
      "Saving all prediction errors to [./images/regression_test_2/prediction_errors.txt].\n"
     ]
    },
    {
     "data": {
      "text/plain": [
       "True"
      ]
     },
     "execution_count": 102,
     "metadata": {},
     "output_type": "execute_result"
    }
   ],
   "source": [
    "save_prediction_errors()"
   ]
  },
  {
   "cell_type": "code",
   "execution_count": null,
   "id": "0c3bdf42",
   "metadata": {},
   "outputs": [],
   "source": []
  },
  {
   "cell_type": "code",
   "execution_count": null,
   "id": "a5e6a55a",
   "metadata": {},
   "outputs": [],
   "source": []
  },
  {
   "cell_type": "code",
   "execution_count": null,
   "id": "1838a588",
   "metadata": {},
   "outputs": [],
   "source": []
  },
  {
   "cell_type": "code",
   "execution_count": null,
   "id": "2f94dffa",
   "metadata": {},
   "outputs": [],
   "source": []
  }
 ],
 "metadata": {
  "kernelspec": {
   "display_name": "Python 3",
   "language": "python",
   "name": "python3"
  },
  "language_info": {
   "codemirror_mode": {
    "name": "ipython",
    "version": 3
   },
   "file_extension": ".py",
   "mimetype": "text/x-python",
   "name": "python",
   "nbconvert_exporter": "python",
   "pygments_lexer": "ipython3",
   "version": "3.6.9"
  }
 },
 "nbformat": 4,
 "nbformat_minor": 5
}
