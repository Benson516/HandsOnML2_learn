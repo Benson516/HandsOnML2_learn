{
 "cells": [
  {
   "cell_type": "markdown",
   "id": "899fa113",
   "metadata": {},
   "source": [
    "# Regression with Different Output Format under Various Data Conditions\n",
    "\n",
    "In this experience, we test the following output format for regression task under several different data coditions.\n",
    "- Numerical output\n",
    "- Regression as classification (grid-out)\n",
    "\n",
    "The data coditions include:\n",
    "- Sparse (few data)\n",
    "- Grouped\n",
    "  - Biased (parallel data)\n",
    "  - Completely different mode, uncorrelated data (cross)\n",
    "  - Partially diversed (split)"
   ]
  },
  {
   "cell_type": "code",
   "execution_count": 1,
   "id": "625ce7c3",
   "metadata": {},
   "outputs": [],
   "source": [
    "import numpy as np\n",
    "import tensorflow as tf\n",
    "from tensorflow import keras\n",
    "\n",
    "# To plot pretty figures\n",
    "%matplotlib inline\n",
    "import matplotlib as mpl\n",
    "import matplotlib.pyplot as plt\n",
    "mpl.rc('axes', labelsize=14)\n",
    "mpl.rc('xtick', labelsize=12)\n",
    "mpl.rc('ytick', labelsize=12)"
   ]
  },
  {
   "cell_type": "code",
   "execution_count": 2,
   "id": "94e8a077",
   "metadata": {},
   "outputs": [],
   "source": [
    "def draw_func(func_in, x_min=-5, x_max=5, mark='r--', linewidth=1, label='func'):\n",
    "    n_sample = 100\n",
    "    X_func = np.linspace(x_min, x_max, n_sample).reshape(n_sample, 1)\n",
    "    y_func = func_in(X_func)\n",
    "    plt.plot(X_func, y_func, mark, linewidth=linewidth, label=label)"
   ]
  },
  {
   "cell_type": "markdown",
   "id": "c27ffe35",
   "metadata": {},
   "source": [
    "Generate polynomial data"
   ]
  },
  {
   "cell_type": "code",
   "execution_count": 3,
   "id": "ce670ce4",
   "metadata": {},
   "outputs": [],
   "source": [
    "poly_a1 = 5.0\n",
    "# poly_a1 = -10.0 # 5.0\n",
    "def func_0(X): # Reference\n",
    "    return 0.5 * X**3 + 0.5 * X**2 + (poly_a1)*X + 2\n",
    "def func_1(X): # Variation 1: parellel\n",
    "    return 0.5 * X**3 + 0.5 * X**2 + (poly_a1)*X + 30\n",
    "def func_2(X): # Variation 2: cross\n",
    "    return -0.5 * X**3 + 0.5 * X**2 + (poly_a1)*X + 30\n",
    "def func_3(X): # Variation 3: slightly split\n",
    "    return 0.3 * X**3 + 1.0 * X**2 + (poly_a1)*X + 15 \n",
    "def func_4(X): # Sine wave~\n",
    "    return 0.5 * X**3 + 0.5 * X**2 + (poly_a1)*X + 2 + 50.0*np.sin(X)"
   ]
  },
  {
   "cell_type": "code",
   "execution_count": 4,
   "id": "9463bfff",
   "metadata": {},
   "outputs": [],
   "source": [
    "func_dict = dict()\n",
    "func_dict[\"f1\"] = func_0\n",
    "# func_dict[\"f2\"] = func_1\n",
    "# func_dict[\"f2\"] = func_2\n",
    "func_dict[\"f2\"] = func_3\n",
    "# func_dict[\"f2\"] = func_4\n",
    "\n",
    "# Average line\n",
    "func_dict[\"f_avg\"] = ( lambda X: 0.5*func_dict[\"f1\"](X) + 0.5*func_dict[\"f2\"](X) )"
   ]
  },
  {
   "cell_type": "code",
   "execution_count": 5,
   "id": "9bd2136c",
   "metadata": {},
   "outputs": [],
   "source": [
    "def draw_normal_func(func_dict):\n",
    "    draw_func(func_dict[\"f1\"], mark='c:', label=\"f1\")\n",
    "    draw_func(func_dict[\"f2\"], mark='g:', label=\"f2\")\n",
    "    draw_func(func_dict[\"f_avg\"], mark='m--', label=\"f_avg\")"
   ]
  },
  {
   "cell_type": "code",
   "execution_count": 6,
   "id": "63437d0c",
   "metadata": {},
   "outputs": [
    {
     "name": "stdout",
     "output_type": "stream",
     "text": [
      "(m, m_train) = (100, 80)\n",
      "y_data_pure.shape = (100, 1)\n",
      "y_data.shape = (100, 1)\n"
     ]
    }
   ],
   "source": [
    "np.random.seed(42)\n",
    "m = 100 # 50 # 100 # 200\n",
    "m_train = m // 5 * 4\n",
    "print(\"(m, m_train) = (%d, %d)\" % (m, m_train))\n",
    "\n",
    "# Input\n",
    "is_gapped = True\n",
    "# is_gapped = False\n",
    "#\n",
    "if not is_gapped:\n",
    "    X_data = 10 * np.random.rand(m, 1) - 5 # Note: X is randomly sampled, so we don't need to shuffle the data again\n",
    "else:\n",
    "    X_data = np.concatenate( (np.linspace(-5.0, -2.0, m//2), np.linspace(2.0, 5.0, m-m//2)) )\n",
    "    X_data = X_data.reshape((m,1))\n",
    "    np.random.shuffle(X_data)\n",
    "\n",
    "# Output\n",
    "is_multiout = True\n",
    "# is_multiout = False\n",
    "if is_multiout:\n",
    "    m_h = m // 2\n",
    "    X_data_1 = X_data[:m_h]\n",
    "    X_data_2 = X_data[m_h:]\n",
    "    y_data_pure_1 = func_dict[\"f1\"](X_data_1) \n",
    "    y_data_pure_2 = func_dict[\"f2\"](X_data_2) \n",
    "    y_data_pure = np.vstack([y_data_pure_1, y_data_pure_2])\n",
    "    print(\"y_data_pure.shape = %s\" % str(y_data_pure.shape))\n",
    "else:        \n",
    "    y_data_pure = func_dict[\"f_avg\"](X_data)\n",
    "\n",
    "# Label (+noise)\n",
    "n_stddev = 2.0\n",
    "# n_stddev = 10.0\n",
    "y_data = y_data_pure + np.random.randn(m, 1) * n_stddev\n",
    "print(\"y_data.shape = %s\" % str(y_data.shape))"
   ]
  },
  {
   "cell_type": "code",
   "execution_count": 7,
   "id": "ef588fae",
   "metadata": {},
   "outputs": [],
   "source": [
    "# Method 1: simply slice\n",
    "# X_train = X_data[:m_train]\n",
    "# y_train = y_data[:m_train]\n",
    "# X_valid = X_data[m_train:]\n",
    "# y_valid = y_data[m_train:]\n",
    "\n",
    "# Method 2: shuffle\n",
    "from sklearn.model_selection import train_test_split\n",
    "X_train, X_valid, y_train, y_valid = train_test_split(X_data, y_data, test_size=0.2, random_state=42)"
   ]
  },
  {
   "cell_type": "code",
   "execution_count": 8,
   "id": "3b5d2cfe",
   "metadata": {},
   "outputs": [
    {
     "name": "stdout",
     "output_type": "stream",
     "text": [
      "(80, 1)\n"
     ]
    }
   ],
   "source": [
    "print(X_train.shape)"
   ]
  },
  {
   "cell_type": "code",
   "execution_count": 9,
   "id": "693af3b7",
   "metadata": {},
   "outputs": [
    {
     "data": {
      "image/png": "[encoded data removed]",
      "text/plain": [
       "<Figure size 432x288 with 1 Axes>"
      ]
     },
     "metadata": {
      "needs_background": "light"
     },
     "output_type": "display_data"
    }
   ],
   "source": [
    "plt.plot(X_train, y_train, \"b.\")\n",
    "draw_normal_func(func_dict)\n",
    "plt.xlabel(\"$x_1$\", fontsize=18)\n",
    "plt.ylabel(\"$y$\", rotation=0, fontsize=18)\n",
    "# plt.axis([-3, 3, 0, 10])\n",
    "plt.show()"
   ]
  },
  {
   "cell_type": "code",
   "execution_count": 10,
   "id": "a6853ff1",
   "metadata": {},
   "outputs": [],
   "source": [
    "prediction_error_dict = dict()\n",
    "\n",
    "def get_prediction_error(func_in, func_dict, name=\"\", x_min=-5, x_max=5, prediction_error_dict=prediction_error_dict):\n",
    "    n_sample = 100\n",
    "    X_func = np.linspace(x_min, x_max, n_sample).reshape(n_sample, 1)\n",
    "    y_func = func_in(X_func).reshape((n_sample,1))\n",
    "    y_gt = func_dict[\"f_avg\"](X_func).reshape((n_sample,1))\n",
    "    print(\"y_func.shape = %s\" % str(y_func.shape))\n",
    "    print(\"y_gt.shape = %s\" % str(y_gt.shape))\n",
    "#     total_error = np.sqrt(np.square(y_func - y_gt).mean())\n",
    "    total_error = np.abs(y_func - y_gt).mean()\n",
    "    prediction_error_dict[name] = total_error\n",
    "    return total_error\n",
    "\n",
    "def print_all_prediction_error(prediction_error_dict=prediction_error_dict):\n",
    "    for _n in prediction_error_dict:\n",
    "        print(\"%s: %f\" % (_n, prediction_error_dict[_n]))"
   ]
  },
  {
   "cell_type": "markdown",
   "id": "053ecc57",
   "metadata": {},
   "source": [
    "# Simple FCs (number --> number)"
   ]
  },
  {
   "cell_type": "markdown",
   "id": "c66eb67b",
   "metadata": {},
   "source": [
    "Build the regression model"
   ]
  },
  {
   "cell_type": "code",
   "execution_count": 11,
   "id": "9449fc0b",
   "metadata": {},
   "outputs": [
    {
     "name": "stderr",
     "output_type": "stream",
     "text": [
      "/home/benson516/ml/my_env/lib/python3.6/site-packages/keras/optimizer_v2/optimizer_v2.py:356: UserWarning: The `lr` argument is deprecated, use `learning_rate` instead.\n",
      "  \"The `lr` argument is deprecated, use `learning_rate` instead.\")\n"
     ]
    }
   ],
   "source": [
    "model = keras.models.Sequential([\n",
    "    keras.layers.Dense(30, activation=\"relu\", input_shape=X_train.shape[1:]),\n",
    "    keras.layers.Dense(30, activation=\"relu\"),\n",
    "    keras.layers.Dense(1)\n",
    "])\n",
    "\n",
    "optimizer = keras.optimizers.SGD(lr=0.0001, momentum=0.9)\n",
    "model.compile(loss=\"mean_squared_error\", optimizer=optimizer)\n",
    "# optimizer = keras.optimizers.Adam(lr=0.01)\n",
    "# model.compile(loss=\"mean_absolute_error\", optimizer=optimizer)"
   ]
  },
  {
   "cell_type": "code",
   "execution_count": 12,
   "id": "92afd68a",
   "metadata": {
    "scrolled": true
   },
   "outputs": [
    {
     "name": "stdout",
     "output_type": "stream",
     "text": [
      "Epoch 1/100\n",
      "3/3 [==============================] - 2s 366ms/step - loss: 2501.0579 - val_loss: 1699.7252\n",
      "Epoch 2/100\n",
      "3/3 [==============================] - 0s 103ms/step - loss: 2392.7747 - val_loss: 1599.5090\n",
      "Epoch 3/100\n",
      "3/3 [==============================] - 0s 72ms/step - loss: 2195.6704 - val_loss: 1402.1895\n",
      "Epoch 4/100\n",
      "3/3 [==============================] - 0s 100ms/step - loss: 1752.8162 - val_loss: 961.3848\n",
      "Epoch 5/100\n",
      "3/3 [==============================] - 0s 73ms/step - loss: 861.1442 - val_loss: 624.3866\n",
      "Epoch 6/100\n",
      "3/3 [==============================] - 0s 65ms/step - loss: 728.7890 - val_loss: 997.2039\n",
      "Epoch 7/100\n",
      "3/3 [==============================] - 0s 64ms/step - loss: 848.1270 - val_loss: 545.8126\n",
      "Epoch 8/100\n",
      "3/3 [==============================] - 0s 109ms/step - loss: 578.0746 - val_loss: 664.8073\n",
      "Epoch 9/100\n",
      "3/3 [==============================] - 0s 81ms/step - loss: 699.0856 - val_loss: 474.8560\n",
      "Epoch 10/100\n",
      "3/3 [==============================] - 0s 111ms/step - loss: 382.8842 - val_loss: 356.0569\n",
      "Epoch 11/100\n",
      "3/3 [==============================] - 0s 79ms/step - loss: 385.3989 - val_loss: 297.5201\n",
      "Epoch 12/100\n",
      "3/3 [==============================] - 0s 111ms/step - loss: 271.5920 - val_loss: 180.7716\n",
      "Epoch 13/100\n",
      "3/3 [==============================] - 0s 107ms/step - loss: 255.5249 - val_loss: 222.9012\n",
      "Epoch 14/100\n",
      "3/3 [==============================] - 0s 79ms/step - loss: 298.7054 - val_loss: 186.6950\n",
      "Epoch 15/100\n",
      "3/3 [==============================] - 0s 103ms/step - loss: 235.0153 - val_loss: 205.1798\n",
      "Epoch 16/100\n",
      "3/3 [==============================] - 0s 78ms/step - loss: 244.0899 - val_loss: 182.3983\n",
      "Epoch 17/100\n",
      "3/3 [==============================] - 0s 123ms/step - loss: 210.1795 - val_loss: 196.8684\n",
      "Epoch 18/100\n",
      "3/3 [==============================] - 0s 93ms/step - loss: 222.0030 - val_loss: 199.5343\n",
      "Epoch 19/100\n",
      "3/3 [==============================] - 0s 84ms/step - loss: 207.6069 - val_loss: 196.8086\n",
      "Epoch 20/100\n",
      "3/3 [==============================] - 0s 82ms/step - loss: 204.8865 - val_loss: 203.1595\n",
      "Epoch 21/100\n",
      "3/3 [==============================] - 0s 103ms/step - loss: 210.4790 - val_loss: 176.2248\n",
      "Epoch 22/100\n",
      "3/3 [==============================] - 0s 110ms/step - loss: 196.6151 - val_loss: 171.3188\n",
      "Epoch 23/100\n",
      "3/3 [==============================] - ETA: 0s - loss: 213.137 - 0s 93ms/step - loss: 214.5988 - val_loss: 169.3434\n",
      "Epoch 24/100\n",
      "3/3 [==============================] - ETA: 0s - loss: 179.243 - 0s 88ms/step - loss: 194.9682 - val_loss: 173.5968\n",
      "Epoch 25/100\n",
      "3/3 [==============================] - 0s 98ms/step - loss: 195.5296 - val_loss: 184.5641\n",
      "Epoch 26/100\n",
      "3/3 [==============================] - 0s 102ms/step - loss: 200.2755 - val_loss: 179.1623\n",
      "Epoch 27/100\n",
      "3/3 [==============================] - 0s 86ms/step - loss: 193.8131 - val_loss: 176.6676\n",
      "Epoch 28/100\n",
      "3/3 [==============================] - 0s 95ms/step - loss: 199.0810 - val_loss: 169.2961\n",
      "Epoch 29/100\n",
      "3/3 [==============================] - 0s 98ms/step - loss: 196.8626 - val_loss: 174.3672\n",
      "Epoch 30/100\n",
      "3/3 [==============================] - 0s 86ms/step - loss: 197.9782 - val_loss: 170.7395\n",
      "Epoch 31/100\n",
      "3/3 [==============================] - 0s 106ms/step - loss: 192.3886 - val_loss: 167.1469\n",
      "Epoch 32/100\n",
      "3/3 [==============================] - 0s 92ms/step - loss: 191.1497 - val_loss: 168.2807\n",
      "Epoch 33/100\n",
      "3/3 [==============================] - ETA: 0s - loss: 268.558 - 0s 91ms/step - loss: 187.6989 - val_loss: 175.0199\n",
      "Epoch 34/100\n",
      "3/3 [==============================] - 0s 92ms/step - loss: 191.9745 - val_loss: 184.2201\n",
      "Epoch 35/100\n",
      "3/3 [==============================] - 0s 113ms/step - loss: 191.0350 - val_loss: 177.6299\n",
      "Epoch 36/100\n",
      "3/3 [==============================] - 0s 86ms/step - loss: 189.7540 - val_loss: 170.5080\n",
      "Epoch 37/100\n",
      "3/3 [==============================] - 0s 93ms/step - loss: 185.4973 - val_loss: 168.8584\n",
      "Epoch 38/100\n",
      "3/3 [==============================] - 0s 90ms/step - loss: 184.9587 - val_loss: 168.2045\n",
      "Epoch 39/100\n",
      "3/3 [==============================] - 0s 97ms/step - loss: 187.4951 - val_loss: 169.4112\n",
      "Epoch 40/100\n",
      "3/3 [==============================] - 0s 101ms/step - loss: 183.1646 - val_loss: 168.4645\n",
      "Epoch 41/100\n",
      "3/3 [==============================] - 0s 102ms/step - loss: 185.6244 - val_loss: 167.1562\n",
      "Epoch 42/100\n",
      "3/3 [==============================] - 0s 113ms/step - loss: 190.1341 - val_loss: 162.1277\n",
      "Epoch 43/100\n",
      "3/3 [==============================] - 0s 91ms/step - loss: 182.7388 - val_loss: 167.1294\n",
      "Epoch 44/100\n",
      "3/3 [==============================] - 0s 98ms/step - loss: 180.7428 - val_loss: 173.3371\n",
      "Epoch 45/100\n",
      "3/3 [==============================] - 0s 109ms/step - loss: 182.7655 - val_loss: 176.9256\n",
      "Epoch 46/100\n",
      "3/3 [==============================] - 0s 95ms/step - loss: 182.7608 - val_loss: 174.3966\n",
      "Epoch 47/100\n",
      "3/3 [==============================] - 0s 78ms/step - loss: 181.2572 - val_loss: 171.2430\n",
      "Epoch 48/100\n",
      "3/3 [==============================] - 0s 66ms/step - loss: 180.4757 - val_loss: 166.7712\n",
      "Epoch 49/100\n",
      "3/3 [==============================] - 0s 85ms/step - loss: 178.5561 - val_loss: 163.1505\n",
      "Epoch 50/100\n",
      "3/3 [==============================] - 0s 93ms/step - loss: 185.8704 - val_loss: 161.2931\n",
      "Epoch 51/100\n",
      "3/3 [==============================] - 0s 79ms/step - loss: 178.3579 - val_loss: 161.3268\n",
      "Epoch 52/100\n",
      "3/3 [==============================] - 0s 79ms/step - loss: 177.5677 - val_loss: 168.1493\n",
      "Epoch 53/100\n",
      "3/3 [==============================] - 0s 101ms/step - loss: 180.7459 - val_loss: 177.1818\n",
      "Epoch 54/100\n",
      "3/3 [==============================] - 0s 103ms/step - loss: 179.2265 - val_loss: 175.8568\n",
      "Epoch 55/100\n",
      "3/3 [==============================] - 0s 108ms/step - loss: 179.0048 - val_loss: 172.8343\n",
      "Epoch 56/100\n",
      "3/3 [==============================] - 0s 86ms/step - loss: 175.7891 - val_loss: 166.5362\n",
      "Epoch 57/100\n",
      "3/3 [==============================] - 0s 107ms/step - loss: 176.3980 - val_loss: 159.1158\n",
      "Epoch 58/100\n",
      "3/3 [==============================] - 0s 88ms/step - loss: 174.6483 - val_loss: 157.4605\n",
      "Epoch 59/100\n",
      "3/3 [==============================] - 0s 88ms/step - loss: 177.5143 - val_loss: 157.3941\n",
      "Epoch 60/100\n",
      "3/3 [==============================] - 0s 114ms/step - loss: 174.4535 - val_loss: 162.0833\n",
      "Epoch 61/100\n",
      "3/3 [==============================] - 0s 118ms/step - loss: 173.5488 - val_loss: 170.8288\n",
      "Epoch 62/100\n",
      "3/3 [==============================] - 0s 83ms/step - loss: 178.2215 - val_loss: 173.6751\n",
      "Epoch 63/100\n",
      "3/3 [==============================] - 0s 107ms/step - loss: 175.2561 - val_loss: 167.8637\n",
      "Epoch 64/100\n",
      "3/3 [==============================] - 0s 99ms/step - loss: 179.9996 - val_loss: 165.3183\n",
      "Epoch 65/100\n",
      "3/3 [==============================] - 0s 101ms/step - loss: 177.5125 - val_loss: 165.0456\n",
      "Epoch 66/100\n",
      "3/3 [==============================] - 0s 98ms/step - loss: 171.4286 - val_loss: 160.6494\n",
      "Epoch 67/100\n",
      "3/3 [==============================] - 0s 85ms/step - loss: 170.6822 - val_loss: 154.9742\n",
      "Epoch 68/100\n",
      "3/3 [==============================] - 0s 101ms/step - loss: 172.2694 - val_loss: 155.6803\n",
      "Epoch 69/100\n",
      "3/3 [==============================] - ETA: 0s - loss: 123.187 - 0s 94ms/step - loss: 170.9916 - val_loss: 158.0419\n",
      "Epoch 70/100\n",
      "3/3 [==============================] - 0s 122ms/step - loss: 170.0663 - val_loss: 157.0643\n",
      "Epoch 71/100\n",
      "3/3 [==============================] - 0s 92ms/step - loss: 169.3246 - val_loss: 153.6801\n",
      "Epoch 72/100\n",
      "3/3 [==============================] - 0s 69ms/step - loss: 168.9688 - val_loss: 154.4379\n",
      "Epoch 73/100\n",
      "3/3 [==============================] - 0s 99ms/step - loss: 167.9448 - val_loss: 161.0961\n",
      "Epoch 74/100\n",
      "3/3 [==============================] - 0s 113ms/step - loss: 167.6741 - val_loss: 165.6309\n",
      "Epoch 75/100\n",
      "3/3 [==============================] - 0s 119ms/step - loss: 168.2445 - val_loss: 166.7595\n",
      "Epoch 76/100\n",
      "3/3 [==============================] - 0s 99ms/step - loss: 168.4974 - val_loss: 166.7095\n",
      "Epoch 77/100\n",
      "3/3 [==============================] - 0s 101ms/step - loss: 167.9173 - val_loss: 161.5068\n",
      "Epoch 78/100\n",
      "3/3 [==============================] - 0s 71ms/step - loss: 166.2961 - val_loss: 155.6588\n",
      "Epoch 79/100\n"
     ]
    },
    {
     "name": "stdout",
     "output_type": "stream",
     "text": [
      "3/3 [==============================] - 0s 89ms/step - loss: 168.1313 - val_loss: 151.2780\n",
      "Epoch 80/100\n",
      "3/3 [==============================] - 0s 82ms/step - loss: 166.5618 - val_loss: 148.8405\n",
      "Epoch 81/100\n",
      "3/3 [==============================] - ETA: 0s - loss: 152.158 - 0s 87ms/step - loss: 167.4018 - val_loss: 150.1952\n",
      "Epoch 82/100\n",
      "3/3 [==============================] - 0s 99ms/step - loss: 167.7217 - val_loss: 156.4067\n",
      "Epoch 83/100\n",
      "3/3 [==============================] - 0s 91ms/step - loss: 163.8559 - val_loss: 159.0480\n",
      "Epoch 84/100\n",
      "3/3 [==============================] - 0s 110ms/step - loss: 167.9133 - val_loss: 154.8289\n",
      "Epoch 85/100\n",
      "3/3 [==============================] - ETA: 0s - loss: 157.052 - 0s 88ms/step - loss: 164.0181 - val_loss: 150.9023\n",
      "Epoch 86/100\n",
      "3/3 [==============================] - 0s 107ms/step - loss: 167.5747 - val_loss: 153.2783\n",
      "Epoch 87/100\n",
      "3/3 [==============================] - 0s 107ms/step - loss: 165.3836 - val_loss: 154.4326\n",
      "Epoch 88/100\n",
      "3/3 [==============================] - 0s 84ms/step - loss: 162.9186 - val_loss: 147.7541\n",
      "Epoch 89/100\n",
      "3/3 [==============================] - 0s 98ms/step - loss: 164.4055 - val_loss: 143.1576\n",
      "Epoch 90/100\n",
      "3/3 [==============================] - 0s 87ms/step - loss: 165.2805 - val_loss: 145.7984\n",
      "Epoch 91/100\n",
      "3/3 [==============================] - 0s 72ms/step - loss: 164.7341 - val_loss: 152.1556\n",
      "Epoch 92/100\n",
      "3/3 [==============================] - 0s 69ms/step - loss: 165.1013 - val_loss: 153.0193\n",
      "Epoch 93/100\n",
      "3/3 [==============================] - 0s 110ms/step - loss: 162.0144 - val_loss: 144.7888\n",
      "Epoch 94/100\n",
      "3/3 [==============================] - 0s 103ms/step - loss: 165.4326 - val_loss: 141.7367\n",
      "Epoch 95/100\n",
      "3/3 [==============================] - 0s 111ms/step - loss: 163.0275 - val_loss: 143.1919\n",
      "Epoch 96/100\n",
      "3/3 [==============================] - 0s 94ms/step - loss: 161.7401 - val_loss: 146.3409\n",
      "Epoch 97/100\n",
      "3/3 [==============================] - 0s 93ms/step - loss: 163.7742 - val_loss: 153.9845\n",
      "Epoch 98/100\n",
      "3/3 [==============================] - 0s 101ms/step - loss: 161.7250 - val_loss: 155.0466\n",
      "Epoch 99/100\n",
      "3/3 [==============================] - 0s 83ms/step - loss: 160.6771 - val_loss: 154.2640\n",
      "Epoch 100/100\n",
      "3/3 [==============================] - 0s 98ms/step - loss: 160.7663 - val_loss: 143.8888\n"
     ]
    }
   ],
   "source": [
    "history = model.fit(X_train, y_train, epochs=100,\n",
    "                    validation_data=(X_valid, y_valid))"
   ]
  },
  {
   "cell_type": "markdown",
   "id": "17d6e37a",
   "metadata": {},
   "source": [
    "Plot the result"
   ]
  },
  {
   "cell_type": "code",
   "execution_count": 13,
   "id": "3b066f5c",
   "metadata": {},
   "outputs": [
    {
     "data": {
      "image/png": "[encoded data removed]",
      "text/plain": [
       "<Figure size 576x360 with 1 Axes>"
      ]
     },
     "metadata": {
      "needs_background": "light"
     },
     "output_type": "display_data"
    }
   ],
   "source": [
    "import pandas as pd\n",
    "\n",
    "pd.DataFrame(history.history).plot(figsize=(8, 5))\n",
    "plt.grid(True)\n",
    "# plt.gca().set_ylim(0, 1)\n",
    "plt.show()"
   ]
  },
  {
   "cell_type": "code",
   "execution_count": 14,
   "id": "03f9bb54",
   "metadata": {},
   "outputs": [
    {
     "data": {
      "image/png": "[encoded data removed]",
      "text/plain": [
       "<Figure size 432x288 with 1 Axes>"
      ]
     },
     "metadata": {
      "needs_background": "light"
     },
     "output_type": "display_data"
    }
   ],
   "source": [
    "# X_new = np.linspace(-5, 5, 100).reshape(100, 1)\n",
    "# y_new = model.predict(X_new)\n",
    "#\n",
    "plt.plot(X_train, y_train, \"b.\")\n",
    "# plt.plot(X_new, y_new, \"r-\", linewidth=2, label=\"Predictions\")\n",
    "draw_func(model.predict, mark='r-', linewidth=2, label=\"Predictions\")\n",
    "draw_normal_func(func_dict)\n",
    "plt.xlabel(\"$x_1$\", fontsize=18)\n",
    "plt.ylabel(\"$y$\", rotation=0, fontsize=18)\n",
    "plt.legend(loc=\"upper left\", fontsize=14)\n",
    "# plt.axis([-3, 3, 0, 10])\n",
    "plt.show()"
   ]
  },
  {
   "cell_type": "code",
   "execution_count": 15,
   "id": "bc06d931",
   "metadata": {},
   "outputs": [
    {
     "name": "stdout",
     "output_type": "stream",
     "text": [
      "y_func.shape = (100, 1)\n",
      "y_gt.shape = (100, 1)\n"
     ]
    },
    {
     "data": {
      "text/plain": [
       "6.127837753502251"
      ]
     },
     "execution_count": 15,
     "metadata": {},
     "output_type": "execute_result"
    }
   ],
   "source": [
    "get_prediction_error(model.predict, func_dict, name=\"num-num\")"
   ]
  },
  {
   "cell_type": "markdown",
   "id": "58da8768",
   "metadata": {},
   "source": [
    "# Simulated CNN Feature Map (1-D grids, grid --> number)"
   ]
  },
  {
   "cell_type": "code",
   "execution_count": 16,
   "id": "287b5e4c",
   "metadata": {},
   "outputs": [],
   "source": [
    "class num2grid(keras.layers.Layer):\n",
    "    def __init__(self, units, x_min=-10, x_max=10, sigma=1.0, activation=None, **kwargs):\n",
    "        super().__init__(**kwargs)\n",
    "        self.units = units\n",
    "        self.x_min = x_min\n",
    "        self.x_max = x_max\n",
    "        self.sigma = sigma\n",
    "        self.sigma2 = self.sigma**2\n",
    "        self.activation = keras.activations.get(activation)\n",
    "        \n",
    "    def build(self, batch_input_shape):\n",
    "        #\n",
    "        self.x_grid = np.linspace(self.x_min, self.x_max, self.units, endpoint=True)\n",
    "#         print(\"self.x_grid.shape = %s\" % str(self.x_grid.shape))\n",
    "        #\n",
    "        super().build(batch_input_shape) # must be at the end\n",
    "        \n",
    "    def call(self, X):\n",
    "        '''\n",
    "        Input shape:  (batch, X_chanel)\n",
    "        Output shape: (batch, grid_unit) \n",
    "        \n",
    "        self.x_grid shape: (grid_unit,)\n",
    "        '''\n",
    "        gauss_grid = tf.exp( -(self.x_grid - X)**2 / (2.0*self.sigma2) )\n",
    "        print(\"X.shape = %s\" % str(X.shape))\n",
    "        print(\"gauss_grid.shape = %s\" % str(gauss_grid.shape))\n",
    "        return self.activation(gauss_grid)\n",
    "    \n",
    "    def compute_output_shape(self, batch_input_shape):\n",
    "        return tf.TensorShape(batch_input_shape.as_list()[:-1] + [self.units])\n",
    "    \n",
    "    def get_config(self):\n",
    "        base_config = super().get_config()\n",
    "        return {**base_config, \n",
    "                \"units\": self.units,\n",
    "                \"x_min\": self.x_min,\n",
    "                \"x_max\": self.x_max,\n",
    "                \"sigma\": self.sigma,\n",
    "                \"activation\": keras.activations.serialize(self.activation)}"
   ]
  },
  {
   "cell_type": "code",
   "execution_count": 17,
   "id": "f463c12a",
   "metadata": {},
   "outputs": [
    {
     "name": "stdout",
     "output_type": "stream",
     "text": [
      "X.shape = (None, 1)\n",
      "gauss_grid.shape = (None, 5)\n"
     ]
    },
    {
     "name": "stderr",
     "output_type": "stream",
     "text": [
      "/home/benson516/ml/my_env/lib/python3.6/site-packages/keras/optimizer_v2/optimizer_v2.py:356: UserWarning: The `lr` argument is deprecated, use `learning_rate` instead.\n",
      "  \"The `lr` argument is deprecated, use `learning_rate` instead.\")\n"
     ]
    }
   ],
   "source": [
    "model = keras.models.Sequential([\n",
    "    num2grid(5,x_min=-10, x_max=10, sigma=3.0, input_shape=X_train.shape[1:]),\n",
    "    keras.layers.Dense(30, activation=\"relu\"),\n",
    "#     keras.layers.Dense(100, activation=\"relu\", kernel_regularizer=tf.keras.regularizers.l1(0.01)),\n",
    "#     keras.layers.Dense(30, activation=keras.layers.LeakyReLU(alpha=0.2) ),\n",
    "#     keras.layers.Dense(30, activation=\"selu\"),\n",
    "#     keras.layers.Dense(30, activation=\"relu\"),\n",
    "    keras.layers.Dense(1)\n",
    "])\n",
    "\n",
    "optimizer = keras.optimizers.SGD(lr=0.001, momentum=0.9)\n",
    "model.compile(loss=\"mean_squared_error\", optimizer=optimizer)\n",
    "# optimizer = keras.optimizers.Adam(lr=0.01)\n",
    "# model.compile(loss=\"mean_absolute_error\", optimizer=optimizer)"
   ]
  },
  {
   "cell_type": "code",
   "execution_count": 18,
   "id": "c966ada4",
   "metadata": {
    "scrolled": true
   },
   "outputs": [
    {
     "name": "stdout",
     "output_type": "stream",
     "text": [
      "Epoch 1/100\n",
      "X.shape = (None, 1)\n",
      "gauss_grid.shape = (None, 5)\n",
      "X.shape = (None, 1)\n",
      "gauss_grid.shape = (None, 5)\n",
      "1/3 [=========>....................] - ETA: 1s - loss: 2769.3936X.shape = (None, 1)\n",
      "gauss_grid.shape = (None, 5)\n",
      "3/3 [==============================] - 1s 263ms/step - loss: 2465.9836 - val_loss: 1677.4486\n",
      "Epoch 2/100\n",
      "3/3 [==============================] - 0s 75ms/step - loss: 2337.4468 - val_loss: 1557.4973\n",
      "Epoch 3/100\n",
      "3/3 [==============================] - 0s 55ms/step - loss: 1990.9935 - val_loss: 1318.9270\n",
      "Epoch 4/100\n",
      "3/3 [==============================] - 0s 74ms/step - loss: 1308.8440 - val_loss: 1095.9314\n",
      "Epoch 5/100\n",
      "3/3 [==============================] - 0s 54ms/step - loss: 825.5835 - val_loss: 594.5280\n",
      "Epoch 6/100\n",
      "3/3 [==============================] - 0s 66ms/step - loss: 550.0242 - val_loss: 380.0797\n",
      "Epoch 7/100\n",
      "3/3 [==============================] - 0s 101ms/step - loss: 339.6585 - val_loss: 274.7464\n",
      "Epoch 8/100\n",
      "3/3 [==============================] - 0s 77ms/step - loss: 287.9517 - val_loss: 263.2246\n",
      "Epoch 9/100\n",
      "3/3 [==============================] - 0s 71ms/step - loss: 258.0518 - val_loss: 338.6252\n",
      "Epoch 10/100\n",
      "3/3 [==============================] - 0s 89ms/step - loss: 291.9572 - val_loss: 288.4199\n",
      "Epoch 11/100\n",
      "3/3 [==============================] - 0s 66ms/step - loss: 262.6129 - val_loss: 236.4686\n",
      "Epoch 12/100\n",
      "3/3 [==============================] - 0s 59ms/step - loss: 233.7524 - val_loss: 255.3088\n",
      "Epoch 13/100\n",
      "3/3 [==============================] - ETA: 0s - loss: 207.873 - 0s 94ms/step - loss: 238.9549 - val_loss: 255.3512\n",
      "Epoch 14/100\n",
      "3/3 [==============================] - 0s 84ms/step - loss: 241.8191 - val_loss: 246.9511\n",
      "Epoch 15/100\n",
      "3/3 [==============================] - 0s 73ms/step - loss: 233.3288 - val_loss: 227.2490\n",
      "Epoch 16/100\n",
      "3/3 [==============================] - 0s 77ms/step - loss: 223.7343 - val_loss: 220.3133\n",
      "Epoch 17/100\n",
      "3/3 [==============================] - 0s 95ms/step - loss: 215.0798 - val_loss: 219.1587\n",
      "Epoch 18/100\n",
      "3/3 [==============================] - 0s 84ms/step - loss: 210.5284 - val_loss: 200.4981\n",
      "Epoch 19/100\n",
      "3/3 [==============================] - 0s 85ms/step - loss: 209.8625 - val_loss: 194.1880\n",
      "Epoch 20/100\n",
      "3/3 [==============================] - 0s 84ms/step - loss: 206.0447 - val_loss: 195.4187\n",
      "Epoch 21/100\n",
      "3/3 [==============================] - 0s 62ms/step - loss: 202.5984 - val_loss: 186.5553\n",
      "Epoch 22/100\n",
      "3/3 [==============================] - 0s 46ms/step - loss: 198.0421 - val_loss: 178.7564\n",
      "Epoch 23/100\n",
      "3/3 [==============================] - 0s 50ms/step - loss: 194.1106 - val_loss: 173.0388\n",
      "Epoch 24/100\n",
      "3/3 [==============================] - 0s 58ms/step - loss: 191.0152 - val_loss: 172.2003\n",
      "Epoch 25/100\n",
      "3/3 [==============================] - 0s 53ms/step - loss: 185.9343 - val_loss: 173.3432\n",
      "Epoch 26/100\n",
      "3/3 [==============================] - 0s 60ms/step - loss: 187.2962 - val_loss: 165.3515\n",
      "Epoch 27/100\n",
      "3/3 [==============================] - 0s 56ms/step - loss: 185.4303 - val_loss: 163.9795\n",
      "Epoch 28/100\n",
      "3/3 [==============================] - 0s 178ms/step - loss: 181.8992 - val_loss: 154.4545\n",
      "Epoch 29/100\n",
      "3/3 [==============================] - 0s 77ms/step - loss: 181.1972 - val_loss: 148.9485\n",
      "Epoch 30/100\n",
      "3/3 [==============================] - 0s 66ms/step - loss: 176.6337 - val_loss: 135.2885\n",
      "Epoch 31/100\n",
      "3/3 [==============================] - 0s 66ms/step - loss: 176.7697 - val_loss: 127.2694\n",
      "Epoch 32/100\n",
      "3/3 [==============================] - 0s 54ms/step - loss: 172.7903 - val_loss: 132.4043\n",
      "Epoch 33/100\n",
      "3/3 [==============================] - 0s 60ms/step - loss: 171.2170 - val_loss: 154.0061\n",
      "Epoch 34/100\n",
      "3/3 [==============================] - 0s 73ms/step - loss: 173.2280 - val_loss: 155.3378\n",
      "Epoch 35/100\n",
      "3/3 [==============================] - 0s 66ms/step - loss: 172.1392 - val_loss: 135.2464\n",
      "Epoch 36/100\n",
      "3/3 [==============================] - 0s 66ms/step - loss: 177.5055 - val_loss: 117.3117\n",
      "Epoch 37/100\n",
      "3/3 [==============================] - 0s 84ms/step - loss: 165.4342 - val_loss: 117.6559\n",
      "Epoch 38/100\n",
      "3/3 [==============================] - 0s 74ms/step - loss: 171.2260 - val_loss: 125.9147\n",
      "Epoch 39/100\n",
      "3/3 [==============================] - 0s 68ms/step - loss: 167.2698 - val_loss: 111.1255\n",
      "Epoch 40/100\n",
      "3/3 [==============================] - 0s 61ms/step - loss: 163.5618 - val_loss: 112.5751\n",
      "Epoch 41/100\n",
      "3/3 [==============================] - 0s 65ms/step - loss: 164.1744 - val_loss: 107.2499\n",
      "Epoch 42/100\n",
      "3/3 [==============================] - 0s 66ms/step - loss: 164.3358 - val_loss: 110.0244\n",
      "Epoch 43/100\n",
      "3/3 [==============================] - 0s 75ms/step - loss: 163.4482 - val_loss: 136.3898\n",
      "Epoch 44/100\n",
      "3/3 [==============================] - 0s 85ms/step - loss: 167.8576 - val_loss: 152.6690\n",
      "Epoch 45/100\n",
      "3/3 [==============================] - 0s 94ms/step - loss: 167.3831 - val_loss: 124.2932\n",
      "Epoch 46/100\n",
      "3/3 [==============================] - 0s 82ms/step - loss: 161.7763 - val_loss: 100.5662\n",
      "Epoch 47/100\n",
      "3/3 [==============================] - 0s 105ms/step - loss: 163.9840 - val_loss: 100.2864\n",
      "Epoch 48/100\n",
      "3/3 [==============================] - 0s 116ms/step - loss: 167.5647 - val_loss: 103.9631\n",
      "Epoch 49/100\n",
      "3/3 [==============================] - 0s 80ms/step - loss: 161.8662 - val_loss: 115.2066\n",
      "Epoch 50/100\n",
      "3/3 [==============================] - 0s 69ms/step - loss: 161.0758 - val_loss: 144.7231\n",
      "Epoch 51/100\n",
      "3/3 [==============================] - 0s 79ms/step - loss: 171.2217 - val_loss: 153.8181\n",
      "Epoch 52/100\n",
      "3/3 [==============================] - 0s 76ms/step - loss: 168.7912 - val_loss: 123.6996\n",
      "Epoch 53/100\n",
      "3/3 [==============================] - 0s 75ms/step - loss: 162.3412 - val_loss: 106.4581\n",
      "Epoch 54/100\n",
      "3/3 [==============================] - 0s 57ms/step - loss: 161.7780 - val_loss: 98.2884\n",
      "Epoch 55/100\n",
      "3/3 [==============================] - 0s 56ms/step - loss: 160.0341 - val_loss: 104.8253\n",
      "Epoch 56/100\n",
      "3/3 [==============================] - 0s 58ms/step - loss: 164.0609 - val_loss: 120.6062\n",
      "Epoch 57/100\n",
      "3/3 [==============================] - 0s 102ms/step - loss: 162.5810 - val_loss: 124.0808\n",
      "Epoch 58/100\n",
      "3/3 [==============================] - 0s 106ms/step - loss: 165.8615 - val_loss: 104.0758\n",
      "Epoch 59/100\n",
      "3/3 [==============================] - 0s 83ms/step - loss: 158.7007 - val_loss: 106.8562\n",
      "Epoch 60/100\n",
      "3/3 [==============================] - 0s 86ms/step - loss: 159.6944 - val_loss: 108.3649\n",
      "Epoch 61/100\n",
      "3/3 [==============================] - 0s 82ms/step - loss: 159.2748 - val_loss: 107.9156\n",
      "Epoch 62/100\n",
      "3/3 [==============================] - ETA: 0s - loss: 191.981 - 0s 96ms/step - loss: 158.7875 - val_loss: 105.1989\n",
      "Epoch 63/100\n",
      "3/3 [==============================] - 0s 93ms/step - loss: 158.6518 - val_loss: 100.8575\n",
      "Epoch 64/100\n",
      "3/3 [==============================] - 0s 106ms/step - loss: 162.5492 - val_loss: 98.3803\n",
      "Epoch 65/100\n",
      "3/3 [==============================] - 0s 98ms/step - loss: 159.5562 - val_loss: 114.7097\n",
      "Epoch 66/100\n",
      "3/3 [==============================] - 0s 82ms/step - loss: 157.6302 - val_loss: 114.3835\n",
      "Epoch 67/100\n",
      "3/3 [==============================] - 0s 74ms/step - loss: 157.4444 - val_loss: 110.9695\n",
      "Epoch 68/100\n",
      "3/3 [==============================] - 0s 95ms/step - loss: 157.1929 - val_loss: 107.9054\n",
      "Epoch 69/100\n",
      "3/3 [==============================] - 0s 108ms/step - loss: 157.0351 - val_loss: 103.3257\n",
      "Epoch 70/100\n",
      "3/3 [==============================] - 0s 87ms/step - loss: 156.7769 - val_loss: 106.1492\n",
      "Epoch 71/100\n",
      "3/3 [==============================] - 0s 89ms/step - loss: 156.9340 - val_loss: 104.9919\n",
      "Epoch 72/100\n",
      "3/3 [==============================] - 0s 102ms/step - loss: 156.6349 - val_loss: 107.9612\n",
      "Epoch 73/100\n",
      "3/3 [==============================] - 0s 103ms/step - loss: 156.4840 - val_loss: 102.6454\n",
      "Epoch 74/100\n",
      "3/3 [==============================] - 0s 91ms/step - loss: 155.9487 - val_loss: 108.0200\n",
      "Epoch 75/100\n",
      "3/3 [==============================] - 0s 82ms/step - loss: 155.4597 - val_loss: 114.6780\n",
      "Epoch 76/100\n",
      "3/3 [==============================] - 0s 91ms/step - loss: 156.4266 - val_loss: 113.5384\n",
      "Epoch 77/100\n",
      "3/3 [==============================] - 0s 84ms/step - loss: 155.4037 - val_loss: 111.6100\n"
     ]
    },
    {
     "name": "stdout",
     "output_type": "stream",
     "text": [
      "Epoch 78/100\n",
      "3/3 [==============================] - 0s 69ms/step - loss: 155.7006 - val_loss: 111.8290\n",
      "Epoch 79/100\n",
      "3/3 [==============================] - 0s 65ms/step - loss: 155.3499 - val_loss: 114.6261\n",
      "Epoch 80/100\n",
      "3/3 [==============================] - 0s 68ms/step - loss: 155.6967 - val_loss: 117.3030\n",
      "Epoch 81/100\n",
      "3/3 [==============================] - 0s 60ms/step - loss: 154.2690 - val_loss: 108.0254\n",
      "Epoch 82/100\n",
      "3/3 [==============================] - 0s 55ms/step - loss: 155.8917 - val_loss: 102.9313\n",
      "Epoch 83/100\n",
      "3/3 [==============================] - 0s 60ms/step - loss: 154.2392 - val_loss: 107.0775\n",
      "Epoch 84/100\n",
      "3/3 [==============================] - 0s 109ms/step - loss: 154.2556 - val_loss: 120.2179\n",
      "Epoch 85/100\n",
      "3/3 [==============================] - 0s 83ms/step - loss: 156.9181 - val_loss: 121.6326\n",
      "Epoch 86/100\n",
      "3/3 [==============================] - 0s 105ms/step - loss: 153.3307 - val_loss: 107.9431\n",
      "Epoch 87/100\n",
      "3/3 [==============================] - 0s 94ms/step - loss: 154.8012 - val_loss: 98.1280\n",
      "Epoch 88/100\n",
      "3/3 [==============================] - 0s 98ms/step - loss: 156.8459 - val_loss: 98.1227\n",
      "Epoch 89/100\n",
      "3/3 [==============================] - 0s 101ms/step - loss: 153.1966 - val_loss: 103.0672\n",
      "Epoch 90/100\n",
      "3/3 [==============================] - 0s 87ms/step - loss: 152.6569 - val_loss: 121.2167\n",
      "Epoch 91/100\n",
      "3/3 [==============================] - 0s 108ms/step - loss: 162.4095 - val_loss: 145.2830\n",
      "Epoch 92/100\n",
      "3/3 [==============================] - 0s 98ms/step - loss: 158.5038 - val_loss: 119.7138\n",
      "Epoch 93/100\n",
      "3/3 [==============================] - 0s 97ms/step - loss: 152.4612 - val_loss: 107.5249\n",
      "Epoch 94/100\n",
      "3/3 [==============================] - 0s 92ms/step - loss: 152.0414 - val_loss: 96.9258\n",
      "Epoch 95/100\n",
      "3/3 [==============================] - 0s 96ms/step - loss: 154.8674 - val_loss: 98.7132\n",
      "Epoch 96/100\n",
      "3/3 [==============================] - 0s 52ms/step - loss: 153.2613 - val_loss: 109.1699\n",
      "Epoch 97/100\n",
      "3/3 [==============================] - 0s 84ms/step - loss: 154.2706 - val_loss: 116.1784\n",
      "Epoch 98/100\n",
      "3/3 [==============================] - 0s 88ms/step - loss: 153.8313 - val_loss: 101.9998\n",
      "Epoch 99/100\n",
      "3/3 [==============================] - ETA: 0s - loss: 114.585 - 0s 92ms/step - loss: 151.3790 - val_loss: 102.5171\n",
      "Epoch 100/100\n",
      "3/3 [==============================] - 0s 93ms/step - loss: 152.2985 - val_loss: 110.1247\n"
     ]
    }
   ],
   "source": [
    "history = model.fit(X_train, y_train, epochs=100,\n",
    "                    validation_data=(X_valid, y_valid))"
   ]
  },
  {
   "cell_type": "code",
   "execution_count": 19,
   "id": "4d550f88",
   "metadata": {},
   "outputs": [
    {
     "data": {
      "image/png": "[encoded data removed]",
      "text/plain": [
       "<Figure size 576x360 with 1 Axes>"
      ]
     },
     "metadata": {
      "needs_background": "light"
     },
     "output_type": "display_data"
    }
   ],
   "source": [
    "import pandas as pd\n",
    "\n",
    "pd.DataFrame(history.history).plot(figsize=(8, 5))\n",
    "plt.grid(True)\n",
    "# plt.gca().set_ylim(0, 1)\n",
    "plt.show()"
   ]
  },
  {
   "cell_type": "code",
   "execution_count": 20,
   "id": "5487653c",
   "metadata": {},
   "outputs": [
    {
     "name": "stdout",
     "output_type": "stream",
     "text": [
      "X.shape = (None, 1)\n",
      "gauss_grid.shape = (None, 5)\n"
     ]
    },
    {
     "data": {
      "image/png": "[encoded data removed]",
      "text/plain": [
       "<Figure size 432x288 with 1 Axes>"
      ]
     },
     "metadata": {
      "needs_background": "light"
     },
     "output_type": "display_data"
    }
   ],
   "source": [
    "# X_new = np.linspace(-5, 5, 100).reshape(100, 1)\n",
    "# y_new = model.predict(X_new)\n",
    "#\n",
    "plt.plot(X_train, y_train, \"b.\")\n",
    "# plt.plot(X_new, y_new, \"r-\", linewidth=2, label=\"Predictions\")\n",
    "draw_func(model.predict, mark='r-', linewidth=2, label=\"Predictions\")\n",
    "draw_normal_func(func_dict)\n",
    "plt.xlabel(\"$x_1$\", fontsize=18)\n",
    "plt.ylabel(\"$y$\", rotation=0, fontsize=18)\n",
    "plt.legend(loc=\"upper left\", fontsize=14)\n",
    "# plt.axis([-3, 3, 0, 10])\n",
    "plt.show()"
   ]
  },
  {
   "cell_type": "code",
   "execution_count": 21,
   "id": "f9c053a4",
   "metadata": {},
   "outputs": [
    {
     "name": "stdout",
     "output_type": "stream",
     "text": [
      "y_func.shape = (100, 1)\n",
      "y_gt.shape = (100, 1)\n"
     ]
    },
    {
     "data": {
      "text/plain": [
       "4.337163884602609"
      ]
     },
     "execution_count": 21,
     "metadata": {},
     "output_type": "execute_result"
    }
   ],
   "source": [
    "get_prediction_error(model.predict, func_dict, name=\"grid-num\")"
   ]
  },
  {
   "cell_type": "markdown",
   "id": "fe65d614",
   "metadata": {},
   "source": [
    "# Grid & Regression by Classification (grid --> grid)"
   ]
  },
  {
   "cell_type": "code",
   "execution_count": 22,
   "id": "3d35615e",
   "metadata": {},
   "outputs": [],
   "source": [
    "class num2grid_np():\n",
    "    def __init__(self, units, x_min=-10, x_max=10, sigma=1.0):\n",
    "        self.units = units\n",
    "        self.x_min = x_min\n",
    "        self.x_max = x_max\n",
    "        self.sigma = sigma\n",
    "        self.sigma2 = self.sigma**2\n",
    "        self.x_grid = np.linspace(self.x_min, self.x_max, self.units, endpoint=True)\n",
    "        print(\"self.x_grid = %s\" % str(self.x_grid))\n",
    "        \n",
    "    def convert(self, X):\n",
    "        gauss_grid = np.exp( -(self.x_grid - X)**2 / (2.0*self.sigma2) )\n",
    "#         if len(gauss_grid.shape) == 1:\n",
    "#             gauss_grid = gauss_grid.reshape([1,-1])\n",
    "#         grid_sum = np.sum(gauss_grid, axis=1, keepdims=True)\n",
    "        grid_sum = np.sum(gauss_grid, axis=-1, keepdims=True)\n",
    "        gauss_grid = gauss_grid / grid_sum\n",
    "        return gauss_grid\n",
    "    \n",
    "    def inv_convert(self, grid):\n",
    "#         if len(grid.shape) == 1:\n",
    "#             grid = grid.reshape([1,-1])\n",
    "#         grid_sum = np.sum(grid, axis=1)\n",
    "        grid_sum = np.sum(grid, axis=-1)\n",
    "#         print(grid_sum)\n",
    "        exp_num = np.sum((self.x_grid * grid), axis=-1) / grid_sum # element-wise\n",
    "        return exp_num\n",
    "    \n",
    "    def get_statistic(self, grid):\n",
    "        grid_sum = np.sum(grid, axis=-1)\n",
    "        _mean = np.sum((self.x_grid * grid), axis=-1) / grid_sum # element-wise\n",
    "        _var  = np.sum( ((self.x_grid.reshape((1,-1)) - _mean.reshape((-1,1)))**2 * grid), axis=-1) / grid_sum # element-wise\n",
    "        # print(\"(_mean, _var) = (%f, %f)\" % (_mean, _var))\n",
    "        _stddev = np.sqrt(_var)\n",
    "        return _mean, _stddev"
   ]
  },
  {
   "cell_type": "code",
   "execution_count": 23,
   "id": "4903180b",
   "metadata": {},
   "outputs": [
    {
     "name": "stdout",
     "output_type": "stream",
     "text": [
      "self.x_grid = [-100.          -95.91836735  -91.83673469  -87.75510204  -83.67346939\n",
      "  -79.59183673  -75.51020408  -71.42857143  -67.34693878  -63.26530612\n",
      "  -59.18367347  -55.10204082  -51.02040816  -46.93877551  -42.85714286\n",
      "  -38.7755102   -34.69387755  -30.6122449   -26.53061224  -22.44897959\n",
      "  -18.36734694  -14.28571429  -10.20408163   -6.12244898   -2.04081633\n",
      "    2.04081633    6.12244898   10.20408163   14.28571429   18.36734694\n",
      "   22.44897959   26.53061224   30.6122449    34.69387755   38.7755102\n",
      "   42.85714286   46.93877551   51.02040816   55.10204082   59.18367347\n",
      "   63.26530612   67.34693878   71.42857143   75.51020408   79.59183673\n",
      "   83.67346939   87.75510204   91.83673469   95.91836735  100.        ]\n"
     ]
    }
   ],
   "source": [
    "# class_num = 10 # 10\n",
    "# n2g = num2grid_np(class_num, x_min=-100.0, x_max=100.0, sigma=20.0) # 20.0\n",
    "# class_num = 20\n",
    "# n2g = num2grid_np(class_num, x_min=-100.0, x_max=100.0, sigma=15.0) # 20.0\n",
    "class_num = 50\n",
    "n2g = num2grid_np(class_num, x_min=-100.0, x_max=100.0, sigma=6.0) # 5.0 "
   ]
  },
  {
   "cell_type": "code",
   "execution_count": 24,
   "id": "dce05258",
   "metadata": {},
   "outputs": [
    {
     "name": "stdout",
     "output_type": "stream",
     "text": [
      "[[3.57995092e-60 2.08100846e-55 7.61538914e-51 1.75441300e-46\n",
      "  2.54444491e-42 2.32314196e-38 1.33530332e-34 4.83176258e-31\n",
      "  1.10065884e-27 1.57841554e-24 1.42498879e-21 8.09884396e-19\n",
      "  2.89771784e-16 6.52695532e-14 9.25521826e-12 8.26198061e-10\n",
      "  4.64304784e-08 1.64264466e-06 3.65852120e-05 5.12966502e-04\n",
      "  4.52786966e-03 2.51605603e-02 8.80173281e-02 1.93837381e-01\n",
      "  2.68737559e-01 2.34552834e-01 1.28876722e-01 4.45789421e-02\n",
      "  9.70748025e-03 1.33077537e-03 1.14848275e-04 6.23972825e-06\n",
      "  2.13416679e-07 4.59528573e-09 6.22899760e-11 5.31551427e-13\n",
      "  2.85557712e-15 9.65748361e-18 2.05615356e-20 2.75593262e-23\n",
      "  2.32542921e-26 1.23526215e-29 4.13082337e-33 8.69632169e-37\n",
      "  1.15254011e-40 9.61607812e-45 5.05081425e-49 1.67011468e-53\n",
      "  3.47658354e-58 4.55596654e-63]]\n"
     ]
    }
   ],
   "source": [
    "# grid_1 = n2g.convert(-1.2)\n",
    "grid_1 = n2g.convert([[-1.2]])\n",
    "print(grid_1)"
   ]
  },
  {
   "cell_type": "code",
   "execution_count": 25,
   "id": "48203fe2",
   "metadata": {},
   "outputs": [
    {
     "data": {
      "text/plain": [
       "array([-1.2])"
      ]
     },
     "execution_count": 25,
     "metadata": {},
     "output_type": "execute_result"
    }
   ],
   "source": [
    "n2g.inv_convert(grid_1)"
   ]
  },
  {
   "cell_type": "code",
   "execution_count": 26,
   "id": "a741b6d1",
   "metadata": {},
   "outputs": [
    {
     "data": {
      "text/plain": [
       "(array([-1.2]), array([6.]))"
      ]
     },
     "execution_count": 26,
     "metadata": {},
     "output_type": "execute_result"
    }
   ],
   "source": [
    "n2g.get_statistic(grid_1)"
   ]
  },
  {
   "cell_type": "markdown",
   "id": "bdc0b9a0",
   "metadata": {},
   "source": [
    "### Convert the labels to grid (pre-processing)"
   ]
  },
  {
   "cell_type": "code",
   "execution_count": 27,
   "id": "39c7fa96",
   "metadata": {},
   "outputs": [],
   "source": [
    "y_train_grid = n2g.convert(y_train)\n",
    "y_valid_grid = n2g.convert(y_valid)"
   ]
  },
  {
   "cell_type": "code",
   "execution_count": 28,
   "id": "f577a751",
   "metadata": {},
   "outputs": [
    {
     "name": "stdout",
     "output_type": "stream",
     "text": [
      "(80, 50)\n",
      "(20, 50)\n"
     ]
    }
   ],
   "source": [
    "print(y_train_grid.shape)\n",
    "print(y_valid_grid.shape)"
   ]
  },
  {
   "cell_type": "code",
   "execution_count": 29,
   "id": "71610af1",
   "metadata": {},
   "outputs": [
    {
     "name": "stdout",
     "output_type": "stream",
     "text": [
      "X.shape = (None, 1)\n",
      "gauss_grid.shape = (None, 5)\n"
     ]
    },
    {
     "name": "stderr",
     "output_type": "stream",
     "text": [
      "/home/benson516/ml/my_env/lib/python3.6/site-packages/keras/optimizer_v2/optimizer_v2.py:356: UserWarning: The `lr` argument is deprecated, use `learning_rate` instead.\n",
      "  \"The `lr` argument is deprecated, use `learning_rate` instead.\")\n"
     ]
    }
   ],
   "source": [
    "model = keras.models.Sequential([\n",
    "#     keras.layers.Dense(30, activation=\"relu\", input_shape=X_train.shape[1:]),\n",
    "    num2grid(5,x_min=-10, x_max=10, sigma=3.0, input_shape=X_train.shape[1:]),\n",
    "    keras.layers.Dense(30, activation=\"relu\"),\n",
    "#     keras.layers.Dense(100, activation=\"relu\", kernel_regularizer=tf.keras.regularizers.l1(0.01)),\n",
    "    keras.layers.Dense(class_num, activation=\"softmax\"),\n",
    "])\n",
    "\n",
    "optimizer = keras.optimizers.SGD(lr=0.2, momentum=0.9)\n",
    "model.compile(loss=\"categorical_crossentropy\", optimizer=optimizer)"
   ]
  },
  {
   "cell_type": "code",
   "execution_count": 30,
   "id": "e2244aee",
   "metadata": {
    "scrolled": true
   },
   "outputs": [
    {
     "name": "stdout",
     "output_type": "stream",
     "text": [
      "Epoch 1/100\n",
      "X.shape = (None, 1)\n",
      "gauss_grid.shape = (None, 5)\n",
      "X.shape = (None, 1)\n",
      "gauss_grid.shape = (None, 5)\n",
      "1/3 [=========>....................] - ETA: 1s - loss: 3.9474X.shape = (None, 1)\n",
      "gauss_grid.shape = (None, 5)\n",
      "3/3 [==============================] - 1s 228ms/step - loss: 3.9439 - val_loss: 3.9042\n",
      "Epoch 2/100\n",
      "3/3 [==============================] - 0s 89ms/step - loss: 3.9019 - val_loss: 3.8711\n",
      "Epoch 3/100\n",
      "3/3 [==============================] - 0s 43ms/step - loss: 3.8403 - val_loss: 3.8430\n",
      "Epoch 4/100\n",
      "3/3 [==============================] - 0s 113ms/step - loss: 3.7846 - val_loss: 3.8059\n",
      "Epoch 5/100\n",
      "3/3 [==============================] - 0s 76ms/step - loss: 3.7150 - val_loss: 3.7568\n",
      "Epoch 6/100\n",
      "3/3 [==============================] - 0s 103ms/step - loss: 3.6303 - val_loss: 3.7008\n",
      "Epoch 7/100\n",
      "3/3 [==============================] - 0s 97ms/step - loss: 3.5247 - val_loss: 3.6474\n",
      "Epoch 8/100\n",
      "3/3 [==============================] - 0s 89ms/step - loss: 3.4174 - val_loss: 3.5854\n",
      "Epoch 9/100\n",
      "3/3 [==============================] - 0s 73ms/step - loss: 3.3205 - val_loss: 3.5121\n",
      "Epoch 10/100\n",
      "3/3 [==============================] - 0s 83ms/step - loss: 3.2192 - val_loss: 3.3963\n",
      "Epoch 11/100\n",
      "3/3 [==============================] - 0s 76ms/step - loss: 3.1405 - val_loss: 3.2844\n",
      "Epoch 12/100\n",
      "3/3 [==============================] - 0s 91ms/step - loss: 3.0778 - val_loss: 3.2021\n",
      "Epoch 13/100\n",
      "3/3 [==============================] - 0s 79ms/step - loss: 3.0326 - val_loss: 3.1201\n",
      "Epoch 14/100\n",
      "3/3 [==============================] - 0s 57ms/step - loss: 2.9965 - val_loss: 3.0410\n",
      "Epoch 15/100\n",
      "3/3 [==============================] - 0s 61ms/step - loss: 2.9481 - val_loss: 3.0108\n",
      "Epoch 16/100\n",
      "3/3 [==============================] - 0s 50ms/step - loss: 2.9279 - val_loss: 3.0012\n",
      "Epoch 17/100\n",
      "3/3 [==============================] - 0s 59ms/step - loss: 2.9100 - val_loss: 2.9963\n",
      "Epoch 18/100\n",
      "3/3 [==============================] - 0s 48ms/step - loss: 2.8835 - val_loss: 3.0118\n",
      "Epoch 19/100\n",
      "3/3 [==============================] - 0s 92ms/step - loss: 2.8436 - val_loss: 3.0138\n",
      "Epoch 20/100\n",
      "3/3 [==============================] - 0s 103ms/step - loss: 2.8219 - val_loss: 3.0232\n",
      "Epoch 21/100\n",
      "3/3 [==============================] - 0s 91ms/step - loss: 2.7922 - val_loss: 2.9780\n",
      "Epoch 22/100\n",
      "3/3 [==============================] - 0s 100ms/step - loss: 2.7705 - val_loss: 2.9615\n",
      "Epoch 23/100\n",
      "3/3 [==============================] - 0s 85ms/step - loss: 2.7474 - val_loss: 2.9125\n",
      "Epoch 24/100\n",
      "3/3 [==============================] - 0s 100ms/step - loss: 2.7338 - val_loss: 2.8862\n",
      "Epoch 25/100\n",
      "3/3 [==============================] - 0s 87ms/step - loss: 2.7069 - val_loss: 2.8667\n",
      "Epoch 26/100\n",
      "3/3 [==============================] - 0s 97ms/step - loss: 2.6984 - val_loss: 2.8710\n",
      "Epoch 27/100\n",
      "3/3 [==============================] - 0s 94ms/step - loss: 2.6754 - val_loss: 2.8788\n",
      "Epoch 28/100\n",
      "3/3 [==============================] - 0s 86ms/step - loss: 2.6558 - val_loss: 2.8632\n",
      "Epoch 29/100\n",
      "3/3 [==============================] - 0s 105ms/step - loss: 2.6462 - val_loss: 2.8426\n",
      "Epoch 30/100\n",
      "3/3 [==============================] - 0s 72ms/step - loss: 2.6303 - val_loss: 2.8500\n",
      "Epoch 31/100\n",
      "3/3 [==============================] - 0s 102ms/step - loss: 2.6127 - val_loss: 2.8188\n",
      "Epoch 32/100\n",
      "3/3 [==============================] - 0s 94ms/step - loss: 2.6126 - val_loss: 2.8117\n",
      "Epoch 33/100\n",
      "3/3 [==============================] - 0s 109ms/step - loss: 2.5887 - val_loss: 2.7617\n",
      "Epoch 34/100\n",
      "3/3 [==============================] - 0s 94ms/step - loss: 2.5929 - val_loss: 2.7273\n",
      "Epoch 35/100\n",
      "3/3 [==============================] - 0s 84ms/step - loss: 2.5865 - val_loss: 2.7056\n",
      "Epoch 36/100\n",
      "3/3 [==============================] - 0s 119ms/step - loss: 2.5686 - val_loss: 2.8091\n",
      "Epoch 37/100\n",
      "3/3 [==============================] - 0s 93ms/step - loss: 2.5804 - val_loss: 2.8226\n",
      "Epoch 38/100\n",
      "3/3 [==============================] - 0s 81ms/step - loss: 2.5584 - val_loss: 2.7337\n",
      "Epoch 39/100\n",
      "3/3 [==============================] - 0s 88ms/step - loss: 2.5472 - val_loss: 2.6903\n",
      "Epoch 40/100\n",
      "3/3 [==============================] - 0s 73ms/step - loss: 2.5347 - val_loss: 2.6766\n",
      "Epoch 41/100\n",
      "3/3 [==============================] - 0s 59ms/step - loss: 2.5381 - val_loss: 2.6863\n",
      "Epoch 42/100\n",
      "3/3 [==============================] - 0s 63ms/step - loss: 2.5229 - val_loss: 2.7286\n",
      "Epoch 43/100\n",
      "3/3 [==============================] - 0s 50ms/step - loss: 2.5168 - val_loss: 2.8111\n",
      "Epoch 44/100\n",
      "3/3 [==============================] - 0s 45ms/step - loss: 2.5270 - val_loss: 2.7974\n",
      "Epoch 45/100\n",
      "3/3 [==============================] - 0s 90ms/step - loss: 2.5234 - val_loss: 2.6924\n",
      "Epoch 46/100\n",
      "3/3 [==============================] - ETA: 0s - loss: 2.601 - 0s 96ms/step - loss: 2.5047 - val_loss: 2.6975\n",
      "Epoch 47/100\n",
      "3/3 [==============================] - 0s 95ms/step - loss: 2.4947 - val_loss: 2.7274\n",
      "Epoch 48/100\n",
      "3/3 [==============================] - 0s 84ms/step - loss: 2.4979 - val_loss: 2.7096\n",
      "Epoch 49/100\n",
      "3/3 [==============================] - 0s 85ms/step - loss: 2.4874 - val_loss: 2.6382\n",
      "Epoch 50/100\n",
      "3/3 [==============================] - 0s 96ms/step - loss: 2.4923 - val_loss: 2.6035\n",
      "Epoch 51/100\n",
      "3/3 [==============================] - 0s 85ms/step - loss: 2.4871 - val_loss: 2.6421\n",
      "Epoch 52/100\n",
      "3/3 [==============================] - 0s 94ms/step - loss: 2.4824 - val_loss: 2.7525\n",
      "Epoch 53/100\n",
      "3/3 [==============================] - 0s 88ms/step - loss: 2.4814 - val_loss: 2.7400\n",
      "Epoch 54/100\n",
      "3/3 [==============================] - 0s 97ms/step - loss: 2.4672 - val_loss: 2.6368\n",
      "Epoch 55/100\n",
      "3/3 [==============================] - ETA: 0s - loss: 2.550 - 0s 97ms/step - loss: 2.4838 - val_loss: 2.6056\n",
      "Epoch 56/100\n",
      "3/3 [==============================] - 0s 95ms/step - loss: 2.4722 - val_loss: 2.6621\n",
      "Epoch 57/100\n",
      "3/3 [==============================] - 0s 92ms/step - loss: 2.4689 - val_loss: 2.7085\n",
      "Epoch 58/100\n",
      "3/3 [==============================] - 0s 94ms/step - loss: 2.4615 - val_loss: 2.6874\n",
      "Epoch 59/100\n",
      "3/3 [==============================] - 0s 108ms/step - loss: 2.4627 - val_loss: 2.6628\n",
      "Epoch 60/100\n",
      "3/3 [==============================] - 0s 99ms/step - loss: 2.4499 - val_loss: 2.6800\n",
      "Epoch 61/100\n",
      "3/3 [==============================] - 0s 76ms/step - loss: 2.4489 - val_loss: 2.6580\n",
      "Epoch 62/100\n",
      "3/3 [==============================] - 0s 94ms/step - loss: 2.4462 - val_loss: 2.5558\n",
      "Epoch 63/100\n",
      "3/3 [==============================] - 0s 97ms/step - loss: 2.4594 - val_loss: 2.5671\n",
      "Epoch 64/100\n",
      "3/3 [==============================] - 0s 113ms/step - loss: 2.4445 - val_loss: 2.6507\n",
      "Epoch 65/100\n",
      "3/3 [==============================] - 0s 80ms/step - loss: 2.4291 - val_loss: 2.7322\n",
      "Epoch 66/100\n",
      "3/3 [==============================] - 0s 82ms/step - loss: 2.4495 - val_loss: 2.7365\n",
      "Epoch 67/100\n",
      "3/3 [==============================] - 0s 74ms/step - loss: 2.4389 - val_loss: 2.6620\n",
      "Epoch 68/100\n",
      "3/3 [==============================] - 0s 64ms/step - loss: 2.4398 - val_loss: 2.6127\n",
      "Epoch 69/100\n",
      "3/3 [==============================] - 0s 48ms/step - loss: 2.4308 - val_loss: 2.5872\n",
      "Epoch 70/100\n",
      "3/3 [==============================] - 0s 53ms/step - loss: 2.4304 - val_loss: 2.6148\n",
      "Epoch 71/100\n",
      "3/3 [==============================] - 0s 66ms/step - loss: 2.4222 - val_loss: 2.6394\n",
      "Epoch 72/100\n",
      "3/3 [==============================] - 0s 105ms/step - loss: 2.4278 - val_loss: 2.6753\n",
      "Epoch 73/100\n",
      "3/3 [==============================] - 0s 88ms/step - loss: 2.4287 - val_loss: 2.6783\n",
      "Epoch 74/100\n",
      "3/3 [==============================] - 0s 86ms/step - loss: 2.4179 - val_loss: 2.6351\n",
      "Epoch 75/100\n",
      "3/3 [==============================] - 0s 79ms/step - loss: 2.4327 - val_loss: 2.5932\n",
      "Epoch 76/100\n",
      "3/3 [==============================] - 0s 56ms/step - loss: 2.4191 - val_loss: 2.5977\n",
      "Epoch 77/100\n",
      "3/3 [==============================] - 0s 55ms/step - loss: 2.4244 - val_loss: 2.6561\n",
      "Epoch 78/100\n",
      "3/3 [==============================] - 0s 97ms/step - loss: 2.4340 - val_loss: 2.6234\n",
      "Epoch 79/100\n",
      "3/3 [==============================] - 0s 86ms/step - loss: 2.4081 - val_loss: 2.6486\n",
      "Epoch 80/100\n",
      "3/3 [==============================] - 0s 110ms/step - loss: 2.4175 - val_loss: 2.6081\n",
      "Epoch 81/100\n"
     ]
    },
    {
     "name": "stdout",
     "output_type": "stream",
     "text": [
      "3/3 [==============================] - 0s 82ms/step - loss: 2.4101 - val_loss: 2.5910\n",
      "Epoch 82/100\n",
      "3/3 [==============================] - 0s 88ms/step - loss: 2.4098 - val_loss: 2.5724\n",
      "Epoch 83/100\n",
      "3/3 [==============================] - 0s 87ms/step - loss: 2.4070 - val_loss: 2.5549\n",
      "Epoch 84/100\n",
      "3/3 [==============================] - 0s 90ms/step - loss: 2.4257 - val_loss: 2.5271\n",
      "Epoch 85/100\n",
      "3/3 [==============================] - 0s 96ms/step - loss: 2.4166 - val_loss: 2.5341\n",
      "Epoch 86/100\n",
      "3/3 [==============================] - 0s 83ms/step - loss: 2.4087 - val_loss: 2.6002\n",
      "Epoch 87/100\n",
      "3/3 [==============================] - 0s 93ms/step - loss: 2.4069 - val_loss: 2.6400\n",
      "Epoch 88/100\n",
      "3/3 [==============================] - 0s 82ms/step - loss: 2.3968 - val_loss: 2.6066\n",
      "Epoch 89/100\n",
      "3/3 [==============================] - 0s 102ms/step - loss: 2.3945 - val_loss: 2.5457\n",
      "Epoch 90/100\n",
      "3/3 [==============================] - 0s 80ms/step - loss: 2.4132 - val_loss: 2.5176\n",
      "Epoch 91/100\n",
      "3/3 [==============================] - 0s 90ms/step - loss: 2.3958 - val_loss: 2.5857\n",
      "Epoch 92/100\n",
      "3/3 [==============================] - 0s 66ms/step - loss: 2.4000 - val_loss: 2.6387\n",
      "Epoch 93/100\n",
      "3/3 [==============================] - 0s 75ms/step - loss: 2.3888 - val_loss: 2.6288\n",
      "Epoch 94/100\n",
      "3/3 [==============================] - 0s 57ms/step - loss: 2.3967 - val_loss: 2.6252\n",
      "Epoch 95/100\n",
      "3/3 [==============================] - 0s 80ms/step - loss: 2.3930 - val_loss: 2.5378\n",
      "Epoch 96/100\n",
      "3/3 [==============================] - 0s 79ms/step - loss: 2.4021 - val_loss: 2.5102\n",
      "Epoch 97/100\n",
      "3/3 [==============================] - 0s 49ms/step - loss: 2.3962 - val_loss: 2.5486\n",
      "Epoch 98/100\n",
      "3/3 [==============================] - 0s 51ms/step - loss: 2.4104 - val_loss: 2.5888\n",
      "Epoch 99/100\n",
      "3/3 [==============================] - 0s 48ms/step - loss: 2.3962 - val_loss: 2.6300\n",
      "Epoch 100/100\n",
      "3/3 [==============================] - 0s 59ms/step - loss: 2.3941 - val_loss: 2.6273\n"
     ]
    }
   ],
   "source": [
    "history = model.fit(X_train, y_train_grid, epochs=100,\n",
    "                    validation_data=(X_valid, y_valid_grid))"
   ]
  },
  {
   "cell_type": "code",
   "execution_count": 31,
   "id": "390834c9",
   "metadata": {},
   "outputs": [
    {
     "data": {
      "image/png": "[encoded data removed]",
      "text/plain": [
       "<Figure size 576x360 with 1 Axes>"
      ]
     },
     "metadata": {
      "needs_background": "light"
     },
     "output_type": "display_data"
    }
   ],
   "source": [
    "import pandas as pd\n",
    "\n",
    "pd.DataFrame(history.history).plot(figsize=(8, 5))\n",
    "plt.grid(True)\n",
    "# plt.gca().set_ylim(0, 1)\n",
    "plt.show()"
   ]
  },
  {
   "cell_type": "code",
   "execution_count": 32,
   "id": "6fba3b6a",
   "metadata": {},
   "outputs": [
    {
     "name": "stdout",
     "output_type": "stream",
     "text": [
      "X.shape = (None, 1)\n",
      "gauss_grid.shape = (None, 5)\n"
     ]
    },
    {
     "data": {
      "image/png": "[encoded data removed]",
      "text/plain": [
       "<Figure size 432x288 with 1 Axes>"
      ]
     },
     "metadata": {
      "needs_background": "light"
     },
     "output_type": "display_data"
    }
   ],
   "source": [
    "# X_new = np.linspace(-5, 5, 100).reshape(100, 1)\n",
    "# y_new_proba = model.predict(X_new)\n",
    "# y_new = n2g.inv_convert(y_new_proba)\n",
    "#\n",
    "plt.plot(X_train, y_train, \"b.\")\n",
    "# plt.plot(X_new, y_new, \"r-\", linewidth=2, label=\"Predictions\")\n",
    "draw_func((lambda X: n2g.inv_convert(model.predict(X)) ), mark='r-', linewidth=2, label=\"Predictions\")\n",
    "draw_normal_func(func_dict)\n",
    "plt.xlabel(\"$x_1$\", fontsize=18)\n",
    "plt.ylabel(\"$y$\", rotation=0, fontsize=18)\n",
    "plt.legend(loc=\"upper left\", fontsize=14)\n",
    "# plt.axis([-3, 3, 0, 10])\n",
    "plt.show()"
   ]
  },
  {
   "cell_type": "code",
   "execution_count": 33,
   "id": "fc059ba5",
   "metadata": {},
   "outputs": [
    {
     "name": "stdout",
     "output_type": "stream",
     "text": [
      "y_func.shape = (100, 1)\n",
      "y_gt.shape = (100, 1)\n"
     ]
    },
    {
     "data": {
      "text/plain": [
       "3.8608903114497877"
      ]
     },
     "execution_count": 33,
     "metadata": {},
     "output_type": "execute_result"
    }
   ],
   "source": [
    "get_prediction_error((lambda X: n2g.inv_convert(model.predict(X)) ), func_dict, name=\"grid-rbc\")"
   ]
  },
  {
   "cell_type": "code",
   "execution_count": 34,
   "id": "edcf26db",
   "metadata": {},
   "outputs": [
    {
     "data": {
      "text/plain": [
       "<matplotlib.collections.QuadMesh at 0x7f24271bfa20>"
      ]
     },
     "execution_count": 34,
     "metadata": {},
     "output_type": "execute_result"
    },
    {
     "data": {
      "image/png": "[encoded data removed]",
      "text/plain": [
       "<Figure size 432x288 with 1 Axes>"
      ]
     },
     "metadata": {
      "needs_background": "light"
     },
     "output_type": "display_data"
    }
   ],
   "source": [
    "X_new = np.linspace(-5, 5, 100).reshape(100, 1)\n",
    "y_new_proba = model.predict(X_new)\n",
    "# y_new = n2g.inv_convert(y_new_proba)\n",
    "#\n",
    "xv, yv = np.meshgrid(X_new, np.linspace(n2g.x_min, n2g.x_max, n2g.units))\n",
    "# print(xv)\n",
    "# print(yv)\n",
    "plt.pcolormesh(xv, yv, y_new_proba.T, shading=\"nearest\")"
   ]
  },
  {
   "cell_type": "markdown",
   "id": "4064d3b5",
   "metadata": {},
   "source": [
    "### Draw the 1-sigma boundary line"
   ]
  },
  {
   "cell_type": "code",
   "execution_count": 35,
   "id": "247e8712",
   "metadata": {},
   "outputs": [
    {
     "data": {
      "image/png": "[encoded data removed]",
      "text/plain": [
       "<Figure size 432x288 with 1 Axes>"
      ]
     },
     "metadata": {
      "needs_background": "light"
     },
     "output_type": "display_data"
    }
   ],
   "source": [
    "def n_sigma_boundary_line(X, n):\n",
    "    _mean, _sigma = n2g.get_statistic(model.predict(X))\n",
    "    return( _mean + n*_sigma)\n",
    "\n",
    "plt.plot(X_train, y_train, \"b.\")\n",
    "#\n",
    "draw_func((lambda X: n2g.inv_convert(model.predict(X)) ), mark='r-', linewidth=2, label=\"Predictions\")\n",
    "draw_func((lambda X: n_sigma_boundary_line(X, +1.0) ), mark='k--', linewidth=1, label=\"$\\mu+\\sigma$\")\n",
    "draw_func((lambda X: n_sigma_boundary_line(X, -1.0) ), mark='k--', linewidth=1, label=\"$\\mu-\\sigma$\")\n",
    "#\n",
    "draw_normal_func(func_dict)\n",
    "plt.xlabel(\"$x_1$\", fontsize=18)\n",
    "plt.ylabel(\"$y$\", rotation=0, fontsize=18)\n",
    "plt.legend(loc=\"upper left\", fontsize=14)\n",
    "# plt.axis([-3, 3, 0, 10])\n",
    "plt.show()"
   ]
  },
  {
   "cell_type": "code",
   "execution_count": null,
   "id": "e6266336",
   "metadata": {},
   "outputs": [],
   "source": []
  },
  {
   "cell_type": "markdown",
   "id": "99a85ab5",
   "metadata": {},
   "source": [
    "# Grid & Regression by Classification + Offset Estimation (grid --> grid,num)"
   ]
  },
  {
   "cell_type": "code",
   "execution_count": 36,
   "id": "26440167",
   "metadata": {},
   "outputs": [],
   "source": [
    "class num2gridOffset_np():\n",
    "    def __init__(self, units, x_min=-10, x_max=10):\n",
    "        self.units = units\n",
    "        self.x_min = x_min\n",
    "        self.x_max = x_max\n",
    "        self.x_grid = np.linspace(self.x_min, self.x_max, self.units, endpoint=True)\n",
    "        # bins\n",
    "        x_space = np.average(self.x_grid[1:] - self.x_grid[:-1])\n",
    "        print(\"x_space = %f\" % x_space)\n",
    "        x_0 = self.x_grid[0] - 0.5 * x_space\n",
    "        self.x_bins = [x_0 + _i*x_space for _i in range(len(self.x_grid)+1)]\n",
    "        print(\"self.x_grid = %s\" % str(self.x_grid))\n",
    "#         print(\"self.x_bins = %s\" % str(self.x_bins))\n",
    "        \n",
    "    def convert(self, X):\n",
    "        '''\n",
    "        Convert a batch of number to one-hot class and numerical offset to each grid's center\n",
    "        (m, 1) --> (m, n_units, 2)\n",
    "        '''\n",
    "        X = np.array(X)\n",
    "        if len(X.shape) <= 1:\n",
    "            X = X.reshape((-1,1))\n",
    "        idxs_bin = np.digitize(X, self.x_bins, right=False) \n",
    "        idxs_grid = (idxs_bin - 1) + 1*(idxs_bin<= 0) - 1*(idxs_bin>=self.units)\n",
    "        print(idxs_grid.shape)\n",
    "        #\n",
    "        batch_size = X.shape[0]\n",
    "        grid = np.zeros((batch_size, self.units, 2))\n",
    "        # Fill in the values\n",
    "        grid[np.arange(batch_size), idxs_grid.reshape((-1,)), 0] = 1.0\n",
    "        grid[np.arange(batch_size), :, 1] = X - self.x_grid.reshape((1,-1)) # Offset\n",
    "        return grid\n",
    "    \n",
    "    def inv_convert(self, grid):\n",
    "        idxs_grid = np.argmax(grid[...,0], axis=1)\n",
    "        print(idxs_grid.shape)\n",
    "        #\n",
    "        batch_size = grid.shape[0]\n",
    "        offset_est = grid[np.arange(batch_size),idxs_grid,1]\n",
    "        print(offset_est.shape)\n",
    "        num_est = self.x_grid[idxs_grid].reshape((1,-1)) + offset_est\n",
    "        return num_est.reshape((-1,))"
   ]
  },
  {
   "cell_type": "code",
   "execution_count": 37,
   "id": "8b15e9ff",
   "metadata": {},
   "outputs": [
    {
     "name": "stdout",
     "output_type": "stream",
     "text": [
      "x_space = 22.222222\n",
      "self.x_grid = [-100.          -77.77777778  -55.55555556  -33.33333333  -11.11111111\n",
      "   11.11111111   33.33333333   55.55555556   77.77777778  100.        ]\n"
     ]
    }
   ],
   "source": [
    "class_num = 10 # 10\n",
    "n2go = num2gridOffset_np(class_num, x_min=-100.0, x_max=100.0) "
   ]
  },
  {
   "cell_type": "code",
   "execution_count": 38,
   "id": "8f6e7955",
   "metadata": {},
   "outputs": [
    {
     "name": "stdout",
     "output_type": "stream",
     "text": [
      "(2, 1)\n",
      "[[[   0.           98.8       ]\n",
      "  [   0.           76.57777778]\n",
      "  [   0.           54.35555556]\n",
      "  [   0.           32.13333333]\n",
      "  [   1.            9.91111111]\n",
      "  [   0.          -12.31111111]\n",
      "  [   0.          -34.53333333]\n",
      "  [   0.          -56.75555556]\n",
      "  [   0.          -78.97777778]\n",
      "  [   0.         -101.2       ]]\n",
      "\n",
      " [[   0.          150.5       ]\n",
      "  [   0.          128.27777778]\n",
      "  [   0.          106.05555556]\n",
      "  [   0.           83.83333333]\n",
      "  [   0.           61.61111111]\n",
      "  [   0.           39.38888889]\n",
      "  [   0.           17.16666667]\n",
      "  [   1.           -5.05555556]\n",
      "  [   0.          -27.27777778]\n",
      "  [   0.          -49.5       ]]]\n"
     ]
    }
   ],
   "source": [
    "# grid_1 = n2g.convert(-1.2)\n",
    "grid_1 = n2go.convert([[-1.2], [50.5]])\n",
    "print(grid_1)"
   ]
  },
  {
   "cell_type": "code",
   "execution_count": 39,
   "id": "48840dc5",
   "metadata": {},
   "outputs": [
    {
     "name": "stdout",
     "output_type": "stream",
     "text": [
      "(2,)\n",
      "(2,)\n"
     ]
    },
    {
     "data": {
      "text/plain": [
       "array([-1.2, 50.5])"
      ]
     },
     "execution_count": 39,
     "metadata": {},
     "output_type": "execute_result"
    }
   ],
   "source": [
    "n2go.inv_convert(grid_1)"
   ]
  },
  {
   "cell_type": "markdown",
   "id": "11683cea",
   "metadata": {},
   "source": [
    "### Convert the labels to grid (pre-processing)"
   ]
  },
  {
   "cell_type": "code",
   "execution_count": 40,
   "id": "472997cf",
   "metadata": {},
   "outputs": [
    {
     "name": "stdout",
     "output_type": "stream",
     "text": [
      "(80, 1)\n",
      "(20, 1)\n"
     ]
    }
   ],
   "source": [
    "y_train_grid_offset = n2go.convert(y_train)\n",
    "y_valid_grid_offset = n2go.convert(y_valid)"
   ]
  },
  {
   "cell_type": "code",
   "execution_count": 41,
   "id": "71f08d76",
   "metadata": {},
   "outputs": [
    {
     "name": "stdout",
     "output_type": "stream",
     "text": [
      "(80, 10, 2)\n",
      "(20, 10, 2)\n"
     ]
    }
   ],
   "source": [
    "print(y_train_grid_offset.shape)\n",
    "print(y_valid_grid_offset.shape)"
   ]
  },
  {
   "cell_type": "code",
   "execution_count": 42,
   "id": "84b5b833",
   "metadata": {},
   "outputs": [
    {
     "name": "stdout",
     "output_type": "stream",
     "text": [
      "X.shape = (None, 1)\n",
      "gauss_grid.shape = (None, 5)\n"
     ]
    }
   ],
   "source": [
    "inputs = keras.layers.Input(shape=X_train.shape[1:])\n",
    "#\n",
    "z = num2grid(5,x_min=-10, x_max=10, sigma=3.0)(inputs)\n",
    "z = keras.layers.Dense(30, activation=\"selu\")(z)\n",
    "# Outputs\n",
    "z_proba = keras.layers.Dense(30, activation=\"relu\")(z)\n",
    "z_proba  = keras.layers.Dense(class_num, activation=\"softmax\")(z_proba)\n",
    "z_offset = keras.layers.Dense(class_num, activation=\"relu\")(z)\n",
    "z_offset = keras.layers.Dense(class_num)(z_offset)\n",
    "# Concatenate\n",
    "z_proba  = keras.layers.Reshape([class_num,1])(z_proba)\n",
    "z_offset = keras.layers.Reshape([class_num,1])(z_offset)\n",
    "out_cat = keras.layers.Concatenate(axis=-1)([z_proba, z_offset])\n",
    "#\n",
    "# Models for trainig and real usage\n",
    "model = keras.Model(inputs=[inputs], outputs=[out_cat])"
   ]
  },
  {
   "cell_type": "code",
   "execution_count": 43,
   "id": "e6482574",
   "metadata": {},
   "outputs": [],
   "source": [
    "# Customized loss function\n",
    "\n",
    "cce = keras.losses.CategoricalCrossentropy(reduction=keras.losses.Reduction.NONE)\n",
    "# cce(y_true, y_pred).numpy()\n",
    "\n",
    "def centerLoss_fn(y_true, y_pred):\n",
    "    #\n",
    "    y_true_proba = y_true[...,0]\n",
    "    y_true_value = y_true[...,1]\n",
    "    #\n",
    "    y_pred_proba = y_pred[...,0]\n",
    "    y_pred_value = y_pred[...,1]\n",
    "    \n",
    "    #\n",
    "    cce_loss = cce(y_true_proba, y_pred_proba) / class_num\n",
    "    #\n",
    "    y_true_value_est = tf.reduce_sum((y_true_proba * y_true_value), axis=-1)\n",
    "    y_pred_value_est = tf.reduce_sum((y_true_proba * y_pred_value), axis=-1)\n",
    "#     y_pred_value_est = tf.reduce_sum((y_pred_proba * y_pred_value), axis=-1)\n",
    "    value_loss = tf.abs(y_pred_value_est - y_true_value_est)\n",
    "    \n",
    "    # Total loss\n",
    "#     return (0.5*cce_loss + 0.5*value_loss )\n",
    "    return (0.2*cce_loss + 0.8*value_loss )\n",
    "#     return (cce_loss)\n",
    "#     return (value_loss )"
   ]
  },
  {
   "cell_type": "code",
   "execution_count": 44,
   "id": "60575755",
   "metadata": {},
   "outputs": [
    {
     "name": "stderr",
     "output_type": "stream",
     "text": [
      "/home/benson516/ml/my_env/lib/python3.6/site-packages/keras/optimizer_v2/optimizer_v2.py:356: UserWarning: The `lr` argument is deprecated, use `learning_rate` instead.\n",
      "  \"The `lr` argument is deprecated, use `learning_rate` instead.\")\n"
     ]
    }
   ],
   "source": [
    "# optimizer = keras.optimizers.SGD(lr=0.1, momentum=0.9)\n",
    "optimizer = keras.optimizers.Adam(lr=0.05)\n",
    "model.compile(loss=centerLoss_fn, optimizer=optimizer)"
   ]
  },
  {
   "cell_type": "code",
   "execution_count": 45,
   "id": "09bc47a5",
   "metadata": {
    "scrolled": true
   },
   "outputs": [],
   "source": [
    "# history = model.fit(X_train, y_train_grid_offset, epochs=100,\n",
    "#                     validation_data=(X_valid, y_valid_grid_offset))"
   ]
  },
  {
   "cell_type": "code",
   "execution_count": 46,
   "id": "7ba1fe76",
   "metadata": {},
   "outputs": [],
   "source": [
    "# import pandas as pd\n",
    "\n",
    "# pd.DataFrame(history.history).plot(figsize=(8, 5))\n",
    "# plt.grid(True)\n",
    "# # plt.gca().set_ylim(0, 1)\n",
    "# plt.show()"
   ]
  },
  {
   "cell_type": "code",
   "execution_count": 47,
   "id": "47db8336",
   "metadata": {
    "scrolled": false
   },
   "outputs": [],
   "source": [
    "# plt.plot(X_train, y_train, \"b.\")\n",
    "# draw_func((lambda X: n2go.inv_convert(model.predict(X)) ), mark='r-', linewidth=2, label=\"Predictions\")\n",
    "# draw_normal_func(func_dict)\n",
    "# plt.xlabel(\"$x_1$\", fontsize=18)\n",
    "# plt.ylabel(\"$y$\", rotation=0, fontsize=18)\n",
    "# plt.legend(loc=\"upper left\", fontsize=14)\n",
    "# # plt.axis([-3, 3, 0, 10])\n",
    "# plt.show()"
   ]
  },
  {
   "cell_type": "code",
   "execution_count": 48,
   "id": "46a1a384",
   "metadata": {},
   "outputs": [],
   "source": [
    "# get_prediction_error((lambda X: n2go.inv_convert(model.predict(X)) ), func_dict, name=\"grid-classOffset\")"
   ]
  },
  {
   "cell_type": "code",
   "execution_count": null,
   "id": "fff995a6",
   "metadata": {},
   "outputs": [],
   "source": []
  },
  {
   "cell_type": "markdown",
   "id": "a811f344",
   "metadata": {},
   "source": [
    "# Parametric Uncertainty/Distribution Estimation\n",
    "\n",
    "In this section, we try to estimate uncertainty (actually, fit the dataset distribution) with parametric reprecentation of a distribution instead of a discretized non-parametric representation.\n",
    "\n",
    "Possible solution includes\n",
    "- Quantile estimation with pinball loss (statistic)\n",
    "- Guassian distribution (fit a prabability distribution)"
   ]
  },
  {
   "cell_type": "markdown",
   "id": "175eb32d",
   "metadata": {},
   "source": [
    "## Quantile Estimation with Pinball Loss (grid --> parameters)\n",
    "\n",
    "Quantile estimation and pinball loss is based on the concept of statistic, which predict the value based on the rank of samples in the dataset.\n",
    "\n",
    "The outputs of the model are $(y_{10}, y_{90})$, 10% quantile prediction and 90% quantile prediction, respectively."
   ]
  },
  {
   "cell_type": "code",
   "execution_count": 49,
   "id": "1d1ef92d",
   "metadata": {},
   "outputs": [],
   "source": [
    "# quantile_list = [0.5]\n",
    "# quantile_list = [0.9]\n",
    "quantile_list = [0.1, 0.9]\n",
    "# quantile_list = [0.05, 0.95]\n",
    "# quantile_list = [0.25, 0.75]\n",
    "# quantile_list = [0.1, 0.5, 0.9]\n",
    "# quantile_list = [0.1, 0.3, 0.7, 0.9]\n",
    "# quantile_list = [0.1, 0.2, 0.3, 0.4, 0.6, 0.7, 0.8, 0.9] # remove 0.5\n",
    "# quantile_list = [0.1, 0.2, 0.3, 0.4, 0.5, 0.6, 0.7, 0.8, 0.9]\n",
    "num_quantile = len(quantile_list)"
   ]
  },
  {
   "cell_type": "code",
   "execution_count": 50,
   "id": "8e3fe57b",
   "metadata": {},
   "outputs": [
    {
     "name": "stdout",
     "output_type": "stream",
     "text": [
      "X.shape = (None, 1)\n",
      "gauss_grid.shape = (None, 5)\n"
     ]
    }
   ],
   "source": [
    "model = keras.models.Sequential([\n",
    "    num2grid(5,x_min=-10, x_max=10, sigma=3.0, input_shape=X_train.shape[1:]),\n",
    "    keras.layers.Dense(30, activation=\"relu\"),\n",
    "#     keras.layers.Dense(60, activation=\"relu\"),\n",
    "#     keras.layers.Dense(100, activation=\"relu\", kernel_regularizer=tf.keras.regularizers.l1(0.01)),\n",
    "#     keras.layers.Dense(30, activation=keras.layers.LeakyReLU(alpha=0.2) ),\n",
    "#     keras.layers.Dense(30, activation=\"selu\"),\n",
    "    keras.layers.Dense(num_quantile) # (y10, y90)\n",
    "])"
   ]
  },
  {
   "cell_type": "code",
   "execution_count": 51,
   "id": "bf131dc7",
   "metadata": {},
   "outputs": [],
   "source": [
    "# Customized loss function\n",
    "def pinballLoss_fn(y_true, y_pred, tau):\n",
    "    # tau: quantile, tau in [0.0, 1.0]\n",
    "    # y_true: label mean\n",
    "    # y_pred: predicted tau quantile\n",
    "    _q = y_true - y_pred\n",
    "    return tf.math.maximum( (tau*_q), ((tau-1.0)*_q))\n",
    "    \n",
    "def pinballLoss_10_90_fn(y_true, y_pred):\n",
    "    #\n",
    "    return pinballLoss_fn(y_true, y_pred[:,0:1], 0.1) + pinballLoss_fn(y_true, y_pred[:,1:2], 0.9)\n",
    "\n",
    "def pinballLoss_full_fn(y_true, y_pred):\n",
    "    #\n",
    "    pinball_losses = tf.stack( [pinballLoss_fn(y_true, y_pred[:, _i:(_i+1)], _tau) for _i, _tau in enumerate(quantile_list)], axis=1)\n",
    "    return tf.reduce_sum(pinball_losses, axis=1)"
   ]
  },
  {
   "cell_type": "code",
   "execution_count": 52,
   "id": "a71305d5",
   "metadata": {},
   "outputs": [],
   "source": [
    "# optimizer = keras.optimizers.SGD(lr=0.1, momentum=0.9)\n",
    "optimizer = keras.optimizers.Adam(lr=0.1)\n",
    "# model.compile(loss=pinballLoss_10_90_fn, optimizer=optimizer)\n",
    "model.compile(loss=pinballLoss_full_fn, optimizer=optimizer)"
   ]
  },
  {
   "cell_type": "code",
   "execution_count": 53,
   "id": "d935c409",
   "metadata": {
    "scrolled": true
   },
   "outputs": [
    {
     "name": "stdout",
     "output_type": "stream",
     "text": [
      "Epoch 1/100\n",
      "X.shape = (None, 1)\n",
      "gauss_grid.shape = (None, 5)\n",
      "X.shape = (None, 1)\n",
      "gauss_grid.shape = (None, 5)\n",
      "1/3 [=========>....................] - ETA: 1s - loss: 42.3113X.shape = (None, 1)\n",
      "gauss_grid.shape = (None, 5)\n",
      "3/3 [==============================] - 1s 251ms/step - loss: 41.3773 - val_loss: 31.8420\n",
      "Epoch 2/100\n",
      "3/3 [==============================] - ETA: 0s - loss: 39.59 - 0s 86ms/step - loss: 37.9439 - val_loss: 27.2072\n",
      "Epoch 3/100\n",
      "3/3 [==============================] - 0s 90ms/step - loss: 32.0467 - val_loss: 20.9141\n",
      "Epoch 4/100\n",
      "3/3 [==============================] - 0s 62ms/step - loss: 25.4330 - val_loss: 14.9279\n",
      "Epoch 5/100\n",
      "3/3 [==============================] - 0s 127ms/step - loss: 18.7075 - val_loss: 12.1568\n",
      "Epoch 6/100\n",
      "3/3 [==============================] - 0s 109ms/step - loss: 15.4415 - val_loss: 13.3659\n",
      "Epoch 7/100\n",
      "3/3 [==============================] - 0s 93ms/step - loss: 14.6494 - val_loss: 14.4913\n",
      "Epoch 8/100\n",
      "3/3 [==============================] - 0s 93ms/step - loss: 15.2942 - val_loss: 14.2299\n",
      "Epoch 9/100\n",
      "3/3 [==============================] - 0s 65ms/step - loss: 15.2018 - val_loss: 13.5970\n",
      "Epoch 10/100\n",
      "3/3 [==============================] - 0s 57ms/step - loss: 14.2632 - val_loss: 12.9167\n",
      "Epoch 11/100\n",
      "3/3 [==============================] - 0s 62ms/step - loss: 12.8897 - val_loss: 11.6572\n",
      "Epoch 12/100\n",
      "3/3 [==============================] - 0s 59ms/step - loss: 11.3072 - val_loss: 9.9401\n",
      "Epoch 13/100\n",
      "3/3 [==============================] - 0s 58ms/step - loss: 10.2657 - val_loss: 8.1833\n",
      "Epoch 14/100\n",
      "3/3 [==============================] - 0s 51ms/step - loss: 9.2151 - val_loss: 6.5622\n",
      "Epoch 15/100\n",
      "3/3 [==============================] - 0s 95ms/step - loss: 7.9275 - val_loss: 5.2695\n",
      "Epoch 16/100\n",
      "3/3 [==============================] - 0s 113ms/step - loss: 6.5936 - val_loss: 4.4423\n",
      "Epoch 17/100\n",
      "3/3 [==============================] - 0s 86ms/step - loss: 5.4092 - val_loss: 4.7591\n",
      "Epoch 18/100\n",
      "3/3 [==============================] - 0s 102ms/step - loss: 5.3743 - val_loss: 4.9809\n",
      "Epoch 19/100\n",
      "3/3 [==============================] - 0s 96ms/step - loss: 5.5686 - val_loss: 4.8372\n",
      "Epoch 20/100\n",
      "3/3 [==============================] - 0s 119ms/step - loss: 5.2653 - val_loss: 4.9100\n",
      "Epoch 21/100\n",
      "3/3 [==============================] - ETA: 0s - loss: 5.033 - 0s 85ms/step - loss: 5.1572 - val_loss: 4.8007\n",
      "Epoch 22/100\n",
      "3/3 [==============================] - 0s 106ms/step - loss: 5.1225 - val_loss: 4.7602\n",
      "Epoch 23/100\n",
      "3/3 [==============================] - 0s 114ms/step - loss: 5.0943 - val_loss: 4.3347\n",
      "Epoch 24/100\n",
      "3/3 [==============================] - 0s 117ms/step - loss: 5.0022 - val_loss: 3.9843\n",
      "Epoch 25/100\n",
      "3/3 [==============================] - 0s 101ms/step - loss: 4.9952 - val_loss: 3.9306\n",
      "Epoch 26/100\n",
      "3/3 [==============================] - 0s 110ms/step - loss: 4.8401 - val_loss: 4.1697\n",
      "Epoch 27/100\n",
      "3/3 [==============================] - 0s 105ms/step - loss: 4.7100 - val_loss: 4.1971\n",
      "Epoch 28/100\n",
      "3/3 [==============================] - 0s 104ms/step - loss: 4.6582 - val_loss: 4.3870\n",
      "Epoch 29/100\n",
      "3/3 [==============================] - 0s 111ms/step - loss: 4.6254 - val_loss: 4.2881\n",
      "Epoch 30/100\n",
      "3/3 [==============================] - 0s 127ms/step - loss: 4.4796 - val_loss: 4.1210\n",
      "Epoch 31/100\n",
      "3/3 [==============================] - 0s 96ms/step - loss: 4.5063 - val_loss: 4.0688\n",
      "Epoch 32/100\n",
      "3/3 [==============================] - 0s 70ms/step - loss: 4.4403 - val_loss: 3.8131\n",
      "Epoch 33/100\n",
      "3/3 [==============================] - 0s 52ms/step - loss: 4.3610 - val_loss: 3.7292\n",
      "Epoch 34/100\n",
      "3/3 [==============================] - 0s 61ms/step - loss: 4.3367 - val_loss: 3.7888\n",
      "Epoch 35/100\n",
      "3/3 [==============================] - 0s 54ms/step - loss: 4.2532 - val_loss: 3.7943\n",
      "Epoch 36/100\n",
      "3/3 [==============================] - 0s 50ms/step - loss: 4.1635 - val_loss: 3.7898\n",
      "Epoch 37/100\n",
      "3/3 [==============================] - 0s 58ms/step - loss: 4.0975 - val_loss: 3.9860\n",
      "Epoch 38/100\n",
      "3/3 [==============================] - 0s 51ms/step - loss: 4.0222 - val_loss: 4.1671\n",
      "Epoch 39/100\n",
      "3/3 [==============================] - 0s 54ms/step - loss: 3.9865 - val_loss: 3.7423\n",
      "Epoch 40/100\n",
      "3/3 [==============================] - 0s 62ms/step - loss: 3.9313 - val_loss: 3.6515\n",
      "Epoch 41/100\n",
      "3/3 [==============================] - 0s 118ms/step - loss: 3.8696 - val_loss: 3.5905\n",
      "Epoch 42/100\n",
      "3/3 [==============================] - 0s 109ms/step - loss: 3.7804 - val_loss: 3.4571\n",
      "Epoch 43/100\n",
      "3/3 [==============================] - 0s 87ms/step - loss: 3.7082 - val_loss: 3.3672\n",
      "Epoch 44/100\n",
      "3/3 [==============================] - 0s 88ms/step - loss: 3.7201 - val_loss: 3.5493\n",
      "Epoch 45/100\n",
      "3/3 [==============================] - 0s 97ms/step - loss: 3.6032 - val_loss: 3.5589\n",
      "Epoch 46/100\n",
      "3/3 [==============================] - 0s 134ms/step - loss: 3.5209 - val_loss: 3.6291\n",
      "Epoch 47/100\n",
      "3/3 [==============================] - 0s 97ms/step - loss: 3.5024 - val_loss: 3.7214\n",
      "Epoch 48/100\n",
      "3/3 [==============================] - 0s 94ms/step - loss: 3.4086 - val_loss: 3.4717\n",
      "Epoch 49/100\n",
      "3/3 [==============================] - 0s 112ms/step - loss: 3.4456 - val_loss: 3.3424\n",
      "Epoch 50/100\n",
      "3/3 [==============================] - 0s 81ms/step - loss: 3.4209 - val_loss: 3.4799\n",
      "Epoch 51/100\n",
      "3/3 [==============================] - 0s 126ms/step - loss: 3.3853 - val_loss: 3.5661\n",
      "Epoch 52/100\n",
      "3/3 [==============================] - 0s 123ms/step - loss: 3.2572 - val_loss: 3.1445\n",
      "Epoch 53/100\n",
      "3/3 [==============================] - 0s 113ms/step - loss: 3.2111 - val_loss: 3.1906\n",
      "Epoch 54/100\n",
      "3/3 [==============================] - 0s 102ms/step - loss: 3.0739 - val_loss: 3.3723\n",
      "Epoch 55/100\n",
      "3/3 [==============================] - 0s 115ms/step - loss: 3.1862 - val_loss: 3.2540\n",
      "Epoch 56/100\n",
      "3/3 [==============================] - 0s 122ms/step - loss: 3.0378 - val_loss: 2.8817\n",
      "Epoch 57/100\n",
      "3/3 [==============================] - 0s 92ms/step - loss: 3.1294 - val_loss: 3.1424\n",
      "Epoch 58/100\n",
      "3/3 [==============================] - 0s 84ms/step - loss: 2.8936 - val_loss: 3.2135\n",
      "Epoch 59/100\n",
      "3/3 [==============================] - 0s 58ms/step - loss: 2.9098 - val_loss: 3.0238\n",
      "Epoch 60/100\n",
      "3/3 [==============================] - 0s 56ms/step - loss: 2.8267 - val_loss: 2.9469\n",
      "Epoch 61/100\n",
      "3/3 [==============================] - 0s 66ms/step - loss: 2.8675 - val_loss: 2.9379\n",
      "Epoch 62/100\n",
      "3/3 [==============================] - 0s 57ms/step - loss: 2.7494 - val_loss: 2.9918\n",
      "Epoch 63/100\n",
      "3/3 [==============================] - 0s 66ms/step - loss: 2.8159 - val_loss: 3.1218\n",
      "Epoch 64/100\n",
      "3/3 [==============================] - 0s 93ms/step - loss: 3.0972 - val_loss: 3.1705\n",
      "Epoch 65/100\n",
      "3/3 [==============================] - 0s 97ms/step - loss: 2.9059 - val_loss: 3.0144\n",
      "Epoch 66/100\n",
      "3/3 [==============================] - 0s 79ms/step - loss: 2.7193 - val_loss: 2.7424\n",
      "Epoch 67/100\n",
      "3/3 [==============================] - 0s 91ms/step - loss: 2.8948 - val_loss: 2.7602\n",
      "Epoch 68/100\n",
      "3/3 [==============================] - 0s 110ms/step - loss: 2.6767 - val_loss: 3.0851\n",
      "Epoch 69/100\n",
      "3/3 [==============================] - 0s 104ms/step - loss: 2.8828 - val_loss: 2.8571\n",
      "Epoch 70/100\n",
      "3/3 [==============================] - 0s 115ms/step - loss: 2.6871 - val_loss: 2.6682\n",
      "Epoch 71/100\n",
      "3/3 [==============================] - 0s 115ms/step - loss: 2.7087 - val_loss: 2.6473\n",
      "Epoch 72/100\n",
      "3/3 [==============================] - 0s 96ms/step - loss: 2.6928 - val_loss: 2.7998\n",
      "Epoch 73/100\n",
      "3/3 [==============================] - 0s 104ms/step - loss: 2.6088 - val_loss: 2.6855\n",
      "Epoch 74/100\n",
      "3/3 [==============================] - 0s 101ms/step - loss: 2.5758 - val_loss: 2.6583\n",
      "Epoch 75/100\n",
      "3/3 [==============================] - 0s 127ms/step - loss: 2.6417 - val_loss: 2.8486\n",
      "Epoch 76/100\n",
      "3/3 [==============================] - 0s 113ms/step - loss: 2.6426 - val_loss: 2.6892\n",
      "Epoch 77/100\n",
      "3/3 [==============================] - 0s 103ms/step - loss: 2.5372 - val_loss: 2.5137\n",
      "Epoch 78/100\n",
      "3/3 [==============================] - 0s 108ms/step - loss: 2.6188 - val_loss: 2.7156\n",
      "Epoch 79/100\n",
      "3/3 [==============================] - 0s 114ms/step - loss: 2.5730 - val_loss: 2.5832\n",
      "Epoch 80/100\n"
     ]
    },
    {
     "name": "stdout",
     "output_type": "stream",
     "text": [
      "3/3 [==============================] - 0s 113ms/step - loss: 2.6892 - val_loss: 2.7703\n",
      "Epoch 81/100\n",
      "3/3 [==============================] - 0s 110ms/step - loss: 2.9003 - val_loss: 3.1668\n",
      "Epoch 82/100\n",
      "3/3 [==============================] - 0s 77ms/step - loss: 2.9263 - val_loss: 2.9998\n",
      "Epoch 83/100\n",
      "3/3 [==============================] - 0s 71ms/step - loss: 2.7133 - val_loss: 2.5683\n",
      "Epoch 84/100\n",
      "3/3 [==============================] - 0s 63ms/step - loss: 2.7620 - val_loss: 2.4941\n",
      "Epoch 85/100\n",
      "3/3 [==============================] - 0s 57ms/step - loss: 2.5982 - val_loss: 2.9275\n",
      "Epoch 86/100\n",
      "3/3 [==============================] - 0s 58ms/step - loss: 2.7501 - val_loss: 2.7302\n",
      "Epoch 87/100\n",
      "3/3 [==============================] - 0s 49ms/step - loss: 2.5484 - val_loss: 2.4217\n",
      "Epoch 88/100\n",
      "3/3 [==============================] - 0s 94ms/step - loss: 2.6686 - val_loss: 2.7039\n",
      "Epoch 89/100\n",
      "3/3 [==============================] - 0s 88ms/step - loss: 2.6012 - val_loss: 2.7019\n",
      "Epoch 90/100\n",
      "3/3 [==============================] - 0s 106ms/step - loss: 2.5643 - val_loss: 2.5210\n",
      "Epoch 91/100\n",
      "3/3 [==============================] - 0s 92ms/step - loss: 2.5115 - val_loss: 2.5825\n",
      "Epoch 92/100\n",
      "3/3 [==============================] - 0s 118ms/step - loss: 2.5024 - val_loss: 2.6064\n",
      "Epoch 93/100\n",
      "3/3 [==============================] - 0s 83ms/step - loss: 2.4873 - val_loss: 2.5912\n",
      "Epoch 94/100\n",
      "3/3 [==============================] - 0s 114ms/step - loss: 2.5742 - val_loss: 2.7344\n",
      "Epoch 95/100\n",
      "3/3 [==============================] - 0s 119ms/step - loss: 2.8327 - val_loss: 2.9774\n",
      "Epoch 96/100\n",
      "3/3 [==============================] - 0s 130ms/step - loss: 2.7332 - val_loss: 2.5748\n",
      "Epoch 97/100\n",
      "3/3 [==============================] - 0s 95ms/step - loss: 2.5728 - val_loss: 2.6905\n",
      "Epoch 98/100\n",
      "3/3 [==============================] - 0s 122ms/step - loss: 2.6769 - val_loss: 2.8090\n",
      "Epoch 99/100\n",
      "3/3 [==============================] - 0s 94ms/step - loss: 2.7212 - val_loss: 2.6822\n",
      "Epoch 100/100\n",
      "3/3 [==============================] - 0s 76ms/step - loss: 2.5007 - val_loss: 2.6622\n"
     ]
    }
   ],
   "source": [
    "history = model.fit(X_train, y_train, epochs=100,\n",
    "                    validation_data=(X_valid, y_valid))"
   ]
  },
  {
   "cell_type": "code",
   "execution_count": 54,
   "id": "e7fa5656",
   "metadata": {
    "scrolled": false
   },
   "outputs": [
    {
     "data": {
      "image/png": "[encoded data removed]",
      "text/plain": [
       "<Figure size 576x360 with 1 Axes>"
      ]
     },
     "metadata": {
      "needs_background": "light"
     },
     "output_type": "display_data"
    }
   ],
   "source": [
    "import pandas as pd\n",
    "\n",
    "pd.DataFrame(history.history).plot(figsize=(8, 5))\n",
    "plt.grid(True)\n",
    "# plt.gca().set_ylim(0, 1)\n",
    "plt.show()"
   ]
  },
  {
   "cell_type": "markdown",
   "id": "a4a59dd6",
   "metadata": {},
   "source": [
    "### Draw the mean prediction curve averaged from all quantile predictions."
   ]
  },
  {
   "cell_type": "code",
   "execution_count": 55,
   "id": "0e5d0058",
   "metadata": {},
   "outputs": [
    {
     "name": "stdout",
     "output_type": "stream",
     "text": [
      "X.shape = (None, 1)\n",
      "gauss_grid.shape = (None, 5)\n"
     ]
    },
    {
     "data": {
      "image/png": "[encoded data removed]",
      "text/plain": [
       "<Figure size 432x288 with 1 Axes>"
      ]
     },
     "metadata": {
      "needs_background": "light"
     },
     "output_type": "display_data"
    }
   ],
   "source": [
    "plt.plot(X_train, y_train, \"b.\")\n",
    "draw_func((lambda X: np.average(model.predict(X), axis=-1) ), mark='r-', linewidth=2, label=\"Predictions\")\n",
    "# draw_func((lambda X: model.predict(X)[:,0] ), mark='k--', linewidth=1, label=\"$y_{%d}$\" % (quantile_list[0]*100))\n",
    "# draw_func((lambda X: model.predict(X)[:,-1] ), mark='k--', linewidth=1, label=\"$y_{%d}$\" % (quantile_list[-1]*100))\n",
    "draw_normal_func(func_dict)\n",
    "plt.xlabel(\"$x_1$\", fontsize=18)\n",
    "plt.ylabel(\"$y$\", rotation=0, fontsize=18)\n",
    "plt.legend(loc=\"upper left\", fontsize=14)\n",
    "# plt.axis([-3, 3, 0, 10])\n",
    "plt.show()"
   ]
  },
  {
   "cell_type": "code",
   "execution_count": 56,
   "id": "f98d3ae8",
   "metadata": {},
   "outputs": [
    {
     "name": "stdout",
     "output_type": "stream",
     "text": [
      "y_func.shape = (100, 1)\n",
      "y_gt.shape = (100, 1)\n"
     ]
    },
    {
     "data": {
      "text/plain": [
       "2.09224290171055"
      ]
     },
     "execution_count": 56,
     "metadata": {},
     "output_type": "execute_result"
    }
   ],
   "source": [
    "get_prediction_error((lambda X: np.average(model.predict(X), axis=-1) ), func_dict, name=\"grid-quantileR\")"
   ]
  },
  {
   "cell_type": "markdown",
   "id": "f79ac920",
   "metadata": {},
   "source": [
    "### Draw first and last quantile curve."
   ]
  },
  {
   "cell_type": "code",
   "execution_count": 57,
   "id": "42eeb254",
   "metadata": {},
   "outputs": [
    {
     "data": {
      "image/png": "[encoded data removed]",
      "text/plain": [
       "<Figure size 432x288 with 1 Axes>"
      ]
     },
     "metadata": {
      "needs_background": "light"
     },
     "output_type": "display_data"
    }
   ],
   "source": [
    "plt.plot(X_train, y_train, \"b.\")\n",
    "draw_func((lambda X: np.average(model.predict(X), axis=-1) ), mark='r-', linewidth=2, label=\"Predictions\")\n",
    "draw_func((lambda X: model.predict(X)[:,0] ), mark='k--', linewidth=1, label=\"$y_{%d}$\" % (quantile_list[0]*100))\n",
    "draw_func((lambda X: model.predict(X)[:,-1] ), mark='k--', linewidth=1, label=\"$y_{%d}$\" % (quantile_list[-1]*100))\n",
    "draw_normal_func(func_dict)\n",
    "plt.xlabel(\"$x_1$\", fontsize=18)\n",
    "plt.ylabel(\"$y$\", rotation=0, fontsize=18)\n",
    "plt.legend(loc=\"upper left\", fontsize=14)\n",
    "# plt.axis([-3, 3, 0, 10])\n",
    "plt.show()"
   ]
  },
  {
   "cell_type": "markdown",
   "id": "2a1b1b44",
   "metadata": {},
   "source": [
    "### Draw all quantile predictions"
   ]
  },
  {
   "cell_type": "code",
   "execution_count": 58,
   "id": "5e875238",
   "metadata": {},
   "outputs": [
    {
     "data": {
      "image/png": "[encoded data removed]",
      "text/plain": [
       "<Figure size 432x288 with 1 Axes>"
      ]
     },
     "metadata": {
      "needs_background": "light"
     },
     "output_type": "display_data"
    }
   ],
   "source": [
    "plt.plot(X_train, y_train, \"b.\")\n",
    "draw_func((lambda X: np.average(model.predict(X), axis=-1) ), mark='r-', linewidth=2, label=\"Predictions\")\n",
    "for _idx, _tau in enumerate(quantile_list):\n",
    "    draw_func((lambda X: model.predict(X)[:,_idx] ), mark='k--', linewidth=1, label=\"$y_{%d}$\" % (_tau*100))\n",
    "draw_normal_func(func_dict)\n",
    "plt.xlabel(\"$x_1$\", fontsize=18)\n",
    "plt.ylabel(\"$y$\", rotation=0, fontsize=18)\n",
    "plt.legend(loc=\"upper left\", fontsize=14)\n",
    "# plt.axis([-3, 3, 0, 10])\n",
    "plt.show()"
   ]
  },
  {
   "cell_type": "markdown",
   "id": "9a01aa69",
   "metadata": {},
   "source": [
    "## Gaussian Estimation with Gaussian Loss (grid-->parameters)\n",
    "\n",
    "Gaussain estimation requires the model to predict the mean and variance of a Gaussian distribution of the random variable regarded. The training purpose is to fit a Gaussian distribution to the data distribution (which is not necessay distributed as Gaussian).\n",
    "\n",
    "One possible solution, derived by BensonHuang, is that the model estimates $(\\mu, z)$, where $z=\\alpha ^{-1}log(\\sigma)$.\n",
    "The associated loss function can be $L_G(y, (\\mu,z)) = 0.5e^{-2\\alpha z}(y-\\mu)^2 + \\alpha z$."
   ]
  },
  {
   "cell_type": "code",
   "execution_count": 59,
   "id": "1a20d5dd",
   "metadata": {},
   "outputs": [],
   "source": [
    "alpha = 1.0\n",
    "# alpha = 0.01\n",
    "# alpha = 0.001"
   ]
  },
  {
   "cell_type": "code",
   "execution_count": 60,
   "id": "cb202ed2",
   "metadata": {},
   "outputs": [
    {
     "name": "stdout",
     "output_type": "stream",
     "text": [
      "X.shape = (None, 1)\n",
      "gauss_grid.shape = (None, 5)\n"
     ]
    }
   ],
   "source": [
    "model = keras.models.Sequential([\n",
    "    num2grid(5,x_min=-10, x_max=10, sigma=3.0, input_shape=X_train.shape[1:]),\n",
    "#     keras.layers.Dense(30, activation=\"relu\"),\n",
    "    keras.layers.Dense(60, activation=\"relu\"),\n",
    "#     keras.layers.Dense(30, activation=keras.layers.LeakyReLU(alpha=0.2) ),\n",
    "#     keras.layers.Dense(30, activation=\"selu\"),\n",
    "    keras.layers.Dense(2) # (mu, z)\n",
    "])"
   ]
  },
  {
   "cell_type": "code",
   "execution_count": 61,
   "id": "925f0a22",
   "metadata": {},
   "outputs": [
    {
     "name": "stdout",
     "output_type": "stream",
     "text": [
      "alpha = 1.000000\n"
     ]
    }
   ],
   "source": [
    "# Customized loss function\n",
    "print(\"alpha = %f\" % alpha)\n",
    "\n",
    "def GaussianLoss_fn(y_true, y_pred):\n",
    "    # y_true: label \n",
    "    # y_pred: (mu, z), z=log(sigma)\n",
    "    mu = y_pred[:, 0:1]\n",
    "    z  = y_pred[:, 1:2]\n",
    "    #\n",
    "    en2z = tf.math.exp((-2.0*alpha)*z)\n",
    "    ymu2 = (y_true - mu)**2\n",
    "    return (0.5*en2z*ymu2 + alpha*z)"
   ]
  },
  {
   "cell_type": "code",
   "execution_count": 62,
   "id": "1b388b4b",
   "metadata": {},
   "outputs": [],
   "source": [
    "# Learning rate scheduler\n",
    "learning_rate_switch_epoch_list = [30, 45]\n",
    "learning_rate_list = [0.001, 0.01, 0.1]\n",
    "# learning_rate_switch_epoch_list = [30, 80]\n",
    "# learning_rate_list = [0.01, 0.1, 0.01]\n",
    "#\n",
    "def piecewise_constant_fn(epoch):\n",
    "    for _i, epoch_s in enumerate(learning_rate_switch_epoch_list):\n",
    "        if epoch < epoch_s:\n",
    "            return learning_rate_list[_i]\n",
    "    return learning_rate_list[-1]\n",
    "\n",
    "lr_scheduler = keras.callbacks.LearningRateScheduler(piecewise_constant_fn)"
   ]
  },
  {
   "cell_type": "markdown",
   "id": "6ec2e05e",
   "metadata": {},
   "source": [
    "Third training with even greater speed"
   ]
  },
  {
   "cell_type": "code",
   "execution_count": 63,
   "id": "7a7e245b",
   "metadata": {},
   "outputs": [
    {
     "name": "stderr",
     "output_type": "stream",
     "text": [
      "/home/benson516/ml/my_env/lib/python3.6/site-packages/keras/optimizer_v2/optimizer_v2.py:356: UserWarning: The `lr` argument is deprecated, use `learning_rate` instead.\n",
      "  \"The `lr` argument is deprecated, use `learning_rate` instead.\")\n"
     ]
    }
   ],
   "source": [
    "# optimizer = keras.optimizers.SGD(lr=0.1, momentum=0.9)\n",
    "optimizer = keras.optimizers.Adam(lr=0.1)\n",
    "model.compile(loss=GaussianLoss_fn, optimizer=optimizer)"
   ]
  },
  {
   "cell_type": "code",
   "execution_count": 64,
   "id": "6d7b74a9",
   "metadata": {
    "scrolled": true
   },
   "outputs": [
    {
     "name": "stdout",
     "output_type": "stream",
     "text": [
      "Epoch 1/200\n",
      "X.shape = (None, 1)\n",
      "gauss_grid.shape = (None, 5)\n",
      "X.shape = (None, 1)\n",
      "gauss_grid.shape = (None, 5)\n",
      "1/3 [=========>....................] - ETA: 2s - loss: 710.1819X.shape = (None, 1)\n",
      "gauss_grid.shape = (None, 5)\n",
      "3/3 [==============================] - 1s 212ms/step - loss: 294.3063 - val_loss: 6.0177\n",
      "Epoch 2/200\n",
      "3/3 [==============================] - 0s 67ms/step - loss: 7.6424 - val_loss: 11.5282\n",
      "Epoch 3/200\n",
      "3/3 [==============================] - 0s 95ms/step - loss: 12.7737 - val_loss: 15.6825\n",
      "Epoch 4/200\n",
      "3/3 [==============================] - 0s 79ms/step - loss: 16.5455 - val_loss: 18.4986\n",
      "Epoch 5/200\n",
      "3/3 [==============================] - 0s 61ms/step - loss: 19.0463 - val_loss: 20.1579\n",
      "Epoch 6/200\n",
      "3/3 [==============================] - 0s 73ms/step - loss: 20.4708 - val_loss: 20.8783\n",
      "Epoch 7/200\n",
      "3/3 [==============================] - 0s 61ms/step - loss: 21.0357 - val_loss: 20.8755\n",
      "Epoch 8/200\n",
      "3/3 [==============================] - 0s 54ms/step - loss: 20.9790 - val_loss: 20.3443\n",
      "Epoch 9/200\n",
      "3/3 [==============================] - 0s 55ms/step - loss: 20.4541 - val_loss: 19.4811\n",
      "Epoch 10/200\n",
      "3/3 [==============================] - 0s 58ms/step - loss: 19.6552 - val_loss: 18.3881\n",
      "Epoch 11/200\n",
      "3/3 [==============================] - 0s 90ms/step - loss: 18.6536 - val_loss: 17.1658\n",
      "Epoch 12/200\n",
      "3/3 [==============================] - 0s 85ms/step - loss: 17.5504 - val_loss: 15.8473\n",
      "Epoch 13/200\n",
      "3/3 [==============================] - 0s 109ms/step - loss: 16.3587 - val_loss: 14.4609\n",
      "Epoch 14/200\n",
      "3/3 [==============================] - 0s 128ms/step - loss: 15.1186 - val_loss: 13.0026\n",
      "Epoch 15/200\n",
      "3/3 [==============================] - 0s 61ms/step - loss: 13.7892 - val_loss: 11.4550\n",
      "Epoch 16/200\n",
      "3/3 [==============================] - 0s 102ms/step - loss: 12.3568 - val_loss: 9.7793\n",
      "Epoch 17/200\n",
      "3/3 [==============================] - 0s 111ms/step - loss: 10.7549 - val_loss: 7.9413\n",
      "Epoch 18/200\n",
      "3/3 [==============================] - 0s 103ms/step - loss: 9.3010 - val_loss: 6.8599\n",
      "Epoch 19/200\n",
      "3/3 [==============================] - 0s 95ms/step - loss: 8.6719 - val_loss: 6.3788\n",
      "Epoch 20/200\n",
      "3/3 [==============================] - 0s 127ms/step - loss: 7.6276 - val_loss: 6.0002\n",
      "Epoch 21/200\n",
      "3/3 [==============================] - 0s 119ms/step - loss: 6.9329 - val_loss: 5.4371\n",
      "Epoch 22/200\n",
      "3/3 [==============================] - ETA: 0s - loss: 6.062 - 0s 101ms/step - loss: 6.0629 - val_loss: 4.7509\n",
      "Epoch 23/200\n",
      "3/3 [==============================] - 0s 85ms/step - loss: 5.0717 - val_loss: 4.3368\n",
      "Epoch 24/200\n",
      "3/3 [==============================] - 0s 81ms/step - loss: 4.4808 - val_loss: 4.2943\n",
      "Epoch 25/200\n",
      "3/3 [==============================] - 0s 74ms/step - loss: 4.7406 - val_loss: 4.5489\n",
      "Epoch 26/200\n",
      "3/3 [==============================] - 0s 74ms/step - loss: 4.7956 - val_loss: 4.7230\n",
      "Epoch 27/200\n",
      "3/3 [==============================] - 0s 69ms/step - loss: 4.7571 - val_loss: 4.1753\n",
      "Epoch 28/200\n",
      "3/3 [==============================] - 0s 77ms/step - loss: 4.3219 - val_loss: 4.0436\n",
      "Epoch 29/200\n",
      "3/3 [==============================] - 0s 109ms/step - loss: 4.2923 - val_loss: 3.8824\n",
      "Epoch 30/200\n",
      "3/3 [==============================] - 0s 88ms/step - loss: 4.1326 - val_loss: 3.9764\n",
      "Epoch 31/200\n",
      "3/3 [==============================] - 0s 60ms/step - loss: 4.2253 - val_loss: 4.0944\n",
      "Epoch 32/200\n",
      "3/3 [==============================] - 0s 60ms/step - loss: 4.2074 - val_loss: 3.9793\n",
      "Epoch 33/200\n",
      "3/3 [==============================] - 0s 61ms/step - loss: 4.0627 - val_loss: 3.7987\n",
      "Epoch 34/200\n",
      "3/3 [==============================] - 0s 51ms/step - loss: 4.0599 - val_loss: 3.8006\n",
      "Epoch 35/200\n",
      "3/3 [==============================] - 0s 60ms/step - loss: 4.1069 - val_loss: 3.7985\n",
      "Epoch 36/200\n",
      "3/3 [==============================] - 0s 64ms/step - loss: 4.0904 - val_loss: 3.7881\n",
      "Epoch 37/200\n",
      "3/3 [==============================] - 0s 58ms/step - loss: 4.0634 - val_loss: 3.7736\n",
      "Epoch 38/200\n",
      "3/3 [==============================] - 0s 64ms/step - loss: 4.0197 - val_loss: 3.8430\n",
      "Epoch 39/200\n",
      "3/3 [==============================] - 0s 69ms/step - loss: 4.0386 - val_loss: 3.8462\n",
      "Epoch 40/200\n",
      "3/3 [==============================] - 0s 73ms/step - loss: 4.0343 - val_loss: 3.7861\n",
      "Epoch 41/200\n",
      "3/3 [==============================] - 0s 71ms/step - loss: 4.0228 - val_loss: 3.7733\n",
      "Epoch 42/200\n",
      "3/3 [==============================] - ETA: 0s - loss: 4.007 - 0s 101ms/step - loss: 4.0076 - val_loss: 3.7781\n",
      "Epoch 43/200\n",
      "3/3 [==============================] - 0s 102ms/step - loss: 4.0056 - val_loss: 3.7562\n",
      "Epoch 44/200\n",
      "3/3 [==============================] - 0s 131ms/step - loss: 3.9921 - val_loss: 3.7590\n",
      "Epoch 45/200\n",
      "3/3 [==============================] - 0s 64ms/step - loss: 3.9827 - val_loss: 3.7794\n",
      "Epoch 46/200\n",
      "3/3 [==============================] - 0s 96ms/step - loss: 3.9778 - val_loss: 3.7580\n",
      "Epoch 47/200\n",
      "3/3 [==============================] - 0s 96ms/step - loss: 3.9723 - val_loss: 3.7438\n",
      "Epoch 48/200\n",
      "3/3 [==============================] - 0s 110ms/step - loss: 3.9605 - val_loss: 3.7510\n",
      "Epoch 49/200\n",
      "3/3 [==============================] - 0s 140ms/step - loss: 3.9560 - val_loss: 3.7354\n",
      "Epoch 50/200\n",
      "3/3 [==============================] - 0s 79ms/step - loss: 3.9443 - val_loss: 3.7240\n",
      "Epoch 51/200\n",
      "3/3 [==============================] - 0s 61ms/step - loss: 3.9420 - val_loss: 3.7180\n",
      "Epoch 52/200\n",
      "3/3 [==============================] - 0s 94ms/step - loss: 3.9301 - val_loss: 3.7189\n",
      "Epoch 53/200\n",
      "3/3 [==============================] - 0s 76ms/step - loss: 3.9208 - val_loss: 3.7139\n",
      "Epoch 54/200\n",
      "3/3 [==============================] - 0s 67ms/step - loss: 3.9130 - val_loss: 3.7063\n",
      "Epoch 55/200\n",
      "3/3 [==============================] - 0s 76ms/step - loss: 3.8995 - val_loss: 3.7203\n",
      "Epoch 56/200\n",
      "3/3 [==============================] - 0s 86ms/step - loss: 3.8904 - val_loss: 3.7091\n",
      "Epoch 57/200\n",
      "3/3 [==============================] - 0s 82ms/step - loss: 3.8842 - val_loss: 3.6910\n",
      "Epoch 58/200\n",
      "3/3 [==============================] - 0s 71ms/step - loss: 3.8604 - val_loss: 3.7052\n",
      "Epoch 59/200\n",
      "3/3 [==============================] - 0s 63ms/step - loss: 3.8496 - val_loss: 3.6961\n",
      "Epoch 60/200\n",
      "3/3 [==============================] - 0s 59ms/step - loss: 3.8288 - val_loss: 3.6891\n",
      "Epoch 61/200\n",
      "3/3 [==============================] - 0s 78ms/step - loss: 3.8162 - val_loss: 3.6865\n",
      "Epoch 62/200\n",
      "3/3 [==============================] - 0s 71ms/step - loss: 3.7970 - val_loss: 3.6777\n",
      "Epoch 63/200\n",
      "3/3 [==============================] - 0s 64ms/step - loss: 3.7740 - val_loss: 3.6458\n",
      "Epoch 64/200\n",
      "3/3 [==============================] - 0s 72ms/step - loss: 3.7619 - val_loss: 3.6336\n",
      "Epoch 65/200\n",
      "3/3 [==============================] - 0s 74ms/step - loss: 3.7426 - val_loss: 3.6349\n",
      "Epoch 66/200\n",
      "3/3 [==============================] - 0s 50ms/step - loss: 3.7091 - val_loss: 3.6163\n",
      "Epoch 67/200\n",
      "3/3 [==============================] - 0s 73ms/step - loss: 3.6821 - val_loss: 3.6415\n",
      "Epoch 68/200\n",
      "3/3 [==============================] - 0s 55ms/step - loss: 3.6580 - val_loss: 3.6065\n",
      "Epoch 69/200\n",
      "3/3 [==============================] - 0s 83ms/step - loss: 3.6261 - val_loss: 3.5623\n",
      "Epoch 70/200\n",
      "3/3 [==============================] - 0s 71ms/step - loss: 3.5879 - val_loss: 3.5659\n",
      "Epoch 71/200\n",
      "3/3 [==============================] - 0s 89ms/step - loss: 3.5538 - val_loss: 3.5276\n",
      "Epoch 72/200\n",
      "3/3 [==============================] - 0s 104ms/step - loss: 3.5131 - val_loss: 3.5069\n",
      "Epoch 73/200\n",
      "3/3 [==============================] - 0s 80ms/step - loss: 3.4785 - val_loss: 3.4736\n",
      "Epoch 74/200\n",
      "3/3 [==============================] - 0s 68ms/step - loss: 3.4398 - val_loss: 3.4300\n",
      "Epoch 75/200\n",
      "3/3 [==============================] - 0s 105ms/step - loss: 3.4037 - val_loss: 3.3870\n",
      "Epoch 76/200\n",
      "3/3 [==============================] - 0s 88ms/step - loss: 3.3792 - val_loss: 3.3420\n",
      "Epoch 77/200\n",
      "3/3 [==============================] - 0s 78ms/step - loss: 3.3492 - val_loss: 3.3203\n",
      "Epoch 78/200\n",
      "3/3 [==============================] - 0s 73ms/step - loss: 3.3239 - val_loss: 3.3196\n",
      "Epoch 79/200\n",
      "3/3 [==============================] - 0s 64ms/step - loss: 3.3068 - val_loss: 3.3366\n",
      "Epoch 80/200\n",
      "3/3 [==============================] - 0s 78ms/step - loss: 3.2992 - val_loss: 3.2828\n"
     ]
    },
    {
     "name": "stdout",
     "output_type": "stream",
     "text": [
      "Epoch 81/200\n",
      "3/3 [==============================] - 0s 67ms/step - loss: 3.2895 - val_loss: 3.2694\n",
      "Epoch 82/200\n",
      "3/3 [==============================] - 0s 70ms/step - loss: 3.2746 - val_loss: 3.2594\n",
      "Epoch 83/200\n",
      "3/3 [==============================] - ETA: 0s - loss: 3.362 - 0s 95ms/step - loss: 3.2692 - val_loss: 3.2424\n",
      "Epoch 84/200\n",
      "3/3 [==============================] - 0s 121ms/step - loss: 3.2655 - val_loss: 3.2343\n",
      "Epoch 85/200\n",
      "3/3 [==============================] - 0s 90ms/step - loss: 3.2565 - val_loss: 3.2239\n",
      "Epoch 86/200\n",
      "3/3 [==============================] - 0s 120ms/step - loss: 3.2533 - val_loss: 3.2222\n",
      "Epoch 87/200\n",
      "3/3 [==============================] - 0s 110ms/step - loss: 3.2742 - val_loss: 3.2518\n",
      "Epoch 88/200\n",
      "3/3 [==============================] - 0s 92ms/step - loss: 3.2450 - val_loss: 3.2652\n",
      "Epoch 89/200\n",
      "3/3 [==============================] - 0s 83ms/step - loss: 3.2423 - val_loss: 3.2773\n",
      "Epoch 90/200\n",
      "3/3 [==============================] - 0s 74ms/step - loss: 3.2458 - val_loss: 3.2452\n",
      "Epoch 91/200\n",
      "3/3 [==============================] - 0s 85ms/step - loss: 3.2307 - val_loss: 3.2464\n",
      "Epoch 92/200\n",
      "3/3 [==============================] - 0s 58ms/step - loss: 3.2233 - val_loss: 3.2288\n",
      "Epoch 93/200\n",
      "3/3 [==============================] - 0s 55ms/step - loss: 3.2454 - val_loss: 3.2161\n",
      "Epoch 94/200\n",
      "3/3 [==============================] - 0s 51ms/step - loss: 3.2616 - val_loss: 3.2646\n",
      "Epoch 95/200\n",
      "3/3 [==============================] - 0s 69ms/step - loss: 3.2678 - val_loss: 3.2741\n",
      "Epoch 96/200\n",
      "3/3 [==============================] - 0s 75ms/step - loss: 3.2200 - val_loss: 3.2416\n",
      "Epoch 97/200\n",
      "3/3 [==============================] - ETA: 0s - loss: 3.236 - 0s 91ms/step - loss: 3.2268 - val_loss: 3.1854\n",
      "Epoch 98/200\n",
      "3/3 [==============================] - 0s 94ms/step - loss: 3.2601 - val_loss: 3.2069\n",
      "Epoch 99/200\n",
      "3/3 [==============================] - 0s 111ms/step - loss: 3.2050 - val_loss: 3.2500\n",
      "Epoch 100/200\n",
      "3/3 [==============================] - 0s 101ms/step - loss: 3.2159 - val_loss: 3.2838\n",
      "Epoch 101/200\n",
      "3/3 [==============================] - 0s 87ms/step - loss: 3.2001 - val_loss: 3.2239\n",
      "Epoch 102/200\n",
      "3/3 [==============================] - 0s 90ms/step - loss: 3.1932 - val_loss: 3.1778\n",
      "Epoch 103/200\n",
      "3/3 [==============================] - 0s 112ms/step - loss: 3.2033 - val_loss: 3.1686\n",
      "Epoch 104/200\n",
      "3/3 [==============================] - 0s 89ms/step - loss: 3.1989 - val_loss: 3.2073\n",
      "Epoch 105/200\n",
      "3/3 [==============================] - 0s 104ms/step - loss: 3.1907 - val_loss: 3.2373\n",
      "Epoch 106/200\n",
      "3/3 [==============================] - 0s 97ms/step - loss: 3.1924 - val_loss: 3.1942\n",
      "Epoch 107/200\n",
      "3/3 [==============================] - 0s 104ms/step - loss: 3.1682 - val_loss: 3.1714\n",
      "Epoch 108/200\n",
      "3/3 [==============================] - 0s 91ms/step - loss: 3.1855 - val_loss: 3.1747\n",
      "Epoch 109/200\n",
      "3/3 [==============================] - 0s 87ms/step - loss: 3.1729 - val_loss: 3.1638\n",
      "Epoch 110/200\n",
      "3/3 [==============================] - 0s 101ms/step - loss: 3.1700 - val_loss: 3.1932\n",
      "Epoch 111/200\n",
      "3/3 [==============================] - 0s 102ms/step - loss: 3.1714 - val_loss: 3.1612\n",
      "Epoch 112/200\n",
      "3/3 [==============================] - 0s 71ms/step - loss: 3.1572 - val_loss: 3.1465\n",
      "Epoch 113/200\n",
      "3/3 [==============================] - 0s 113ms/step - loss: 3.1408 - val_loss: 3.1839\n",
      "Epoch 114/200\n",
      "3/3 [==============================] - 0s 83ms/step - loss: 3.1564 - val_loss: 3.1814\n",
      "Epoch 115/200\n",
      "3/3 [==============================] - 0s 64ms/step - loss: 3.1405 - val_loss: 3.1559\n",
      "Epoch 116/200\n",
      "3/3 [==============================] - 0s 84ms/step - loss: 3.1304 - val_loss: 3.1414\n",
      "Epoch 117/200\n",
      "3/3 [==============================] - 0s 90ms/step - loss: 3.1330 - val_loss: 3.1416\n",
      "Epoch 118/200\n",
      "3/3 [==============================] - 0s 80ms/step - loss: 3.1229 - val_loss: 3.1537\n",
      "Epoch 119/200\n",
      "3/3 [==============================] - 0s 51ms/step - loss: 3.1358 - val_loss: 3.1485\n",
      "Epoch 120/200\n",
      "3/3 [==============================] - 0s 50ms/step - loss: 3.1411 - val_loss: 3.1510\n",
      "Epoch 121/200\n",
      "3/3 [==============================] - 0s 83ms/step - loss: 3.1568 - val_loss: 3.1602\n",
      "Epoch 122/200\n",
      "3/3 [==============================] - 0s 110ms/step - loss: 3.1269 - val_loss: 3.1566\n",
      "Epoch 123/200\n",
      "3/3 [==============================] - 0s 80ms/step - loss: 3.1432 - val_loss: 3.1912\n",
      "Epoch 124/200\n",
      "3/3 [==============================] - 0s 80ms/step - loss: 3.1377 - val_loss: 3.1410\n",
      "Epoch 125/200\n",
      "3/3 [==============================] - 0s 96ms/step - loss: 3.1109 - val_loss: 3.1644\n",
      "Epoch 126/200\n",
      "3/3 [==============================] - ETA: 0s - loss: 3.153 - 0s 94ms/step - loss: 3.1055 - val_loss: 3.1784\n",
      "Epoch 127/200\n",
      "3/3 [==============================] - 0s 82ms/step - loss: 3.0992 - val_loss: 3.1390\n",
      "Epoch 128/200\n",
      "3/3 [==============================] - 0s 113ms/step - loss: 3.0915 - val_loss: 3.1201\n",
      "Epoch 129/200\n",
      "3/3 [==============================] - 0s 94ms/step - loss: 3.1211 - val_loss: 3.0915\n",
      "Epoch 130/200\n",
      "3/3 [==============================] - 0s 117ms/step - loss: 3.1227 - val_loss: 3.1117\n",
      "Epoch 131/200\n",
      "3/3 [==============================] - 0s 110ms/step - loss: 3.1266 - val_loss: 3.1690\n",
      "Epoch 132/200\n",
      "3/3 [==============================] - 0s 98ms/step - loss: 3.0901 - val_loss: 3.2758\n",
      "Epoch 133/200\n",
      "3/3 [==============================] - 0s 117ms/step - loss: 3.1161 - val_loss: 3.2252\n",
      "Epoch 134/200\n",
      "3/3 [==============================] - 0s 123ms/step - loss: 3.1939 - val_loss: 3.0820\n",
      "Epoch 135/200\n",
      "3/3 [==============================] - 0s 112ms/step - loss: 3.0460 - val_loss: 3.2184\n",
      "Epoch 136/200\n",
      "3/3 [==============================] - 0s 114ms/step - loss: 3.1830 - val_loss: 3.1996\n",
      "Epoch 137/200\n",
      "3/3 [==============================] - 0s 90ms/step - loss: 3.1301 - val_loss: 3.1444\n",
      "Epoch 138/200\n",
      "3/3 [==============================] - 0s 93ms/step - loss: 3.1001 - val_loss: 3.1200\n",
      "Epoch 139/200\n",
      "3/3 [==============================] - 0s 80ms/step - loss: 3.0884 - val_loss: 3.1064\n",
      "Epoch 140/200\n",
      "3/3 [==============================] - ETA: 0s - loss: 3.079 - 0s 79ms/step - loss: 3.0511 - val_loss: 3.0836\n",
      "Epoch 141/200\n",
      "3/3 [==============================] - 0s 76ms/step - loss: 3.0203 - val_loss: 3.0811\n",
      "Epoch 142/200\n",
      "3/3 [==============================] - 0s 61ms/step - loss: 3.0826 - val_loss: 3.0881\n",
      "Epoch 143/200\n",
      "3/3 [==============================] - 0s 54ms/step - loss: 3.0639 - val_loss: 3.1257\n",
      "Epoch 144/200\n",
      "3/3 [==============================] - 0s 55ms/step - loss: 3.0378 - val_loss: 3.2209\n",
      "Epoch 145/200\n",
      "3/3 [==============================] - 0s 50ms/step - loss: 3.0112 - val_loss: 3.1198\n",
      "Epoch 146/200\n",
      "3/3 [==============================] - 0s 49ms/step - loss: 3.0926 - val_loss: 3.0459\n",
      "Epoch 147/200\n",
      "3/3 [==============================] - 0s 87ms/step - loss: 3.1728 - val_loss: 3.1083\n",
      "Epoch 148/200\n",
      "3/3 [==============================] - 0s 103ms/step - loss: 3.0603 - val_loss: 3.2578\n",
      "Epoch 149/200\n",
      "3/3 [==============================] - 0s 94ms/step - loss: 3.0746 - val_loss: 3.0935\n",
      "Epoch 150/200\n",
      "3/3 [==============================] - 0s 83ms/step - loss: 3.0143 - val_loss: 3.0150\n",
      "Epoch 151/200\n",
      "3/3 [==============================] - 0s 83ms/step - loss: 2.9758 - val_loss: 3.0187\n",
      "Epoch 152/200\n",
      "3/3 [==============================] - 0s 100ms/step - loss: 2.9560 - val_loss: 3.0628\n",
      "Epoch 153/200\n",
      "3/3 [==============================] - 0s 68ms/step - loss: 2.9668 - val_loss: 3.0554\n",
      "Epoch 154/200\n",
      "3/3 [==============================] - 0s 83ms/step - loss: 2.9482 - val_loss: 3.0036\n",
      "Epoch 155/200\n",
      "3/3 [==============================] - 0s 85ms/step - loss: 2.9209 - val_loss: 3.0026\n",
      "Epoch 156/200\n",
      "3/3 [==============================] - 0s 90ms/step - loss: 2.9209 - val_loss: 3.0097\n",
      "Epoch 157/200\n",
      "3/3 [==============================] - 0s 101ms/step - loss: 2.9237 - val_loss: 3.0300\n",
      "Epoch 158/200\n",
      "3/3 [==============================] - 0s 114ms/step - loss: 2.9141 - val_loss: 3.0334\n",
      "Epoch 159/200\n",
      "3/3 [==============================] - 0s 97ms/step - loss: 2.8964 - val_loss: 2.9836\n",
      "Epoch 160/200\n",
      "3/3 [==============================] - 0s 97ms/step - loss: 2.9108 - val_loss: 3.0228\n",
      "Epoch 161/200\n",
      "3/3 [==============================] - 0s 67ms/step - loss: 2.9434 - val_loss: 3.0069\n"
     ]
    },
    {
     "name": "stdout",
     "output_type": "stream",
     "text": [
      "Epoch 162/200\n",
      "3/3 [==============================] - 0s 107ms/step - loss: 2.9422 - val_loss: 3.0060\n",
      "Epoch 163/200\n",
      "3/3 [==============================] - 0s 107ms/step - loss: 2.9304 - val_loss: 3.0212\n",
      "Epoch 164/200\n",
      "3/3 [==============================] - 0s 99ms/step - loss: 3.0166 - val_loss: 3.1228\n",
      "Epoch 165/200\n",
      "3/3 [==============================] - 0s 116ms/step - loss: 3.2718 - val_loss: 3.4533\n",
      "Epoch 166/200\n",
      "3/3 [==============================] - 0s 67ms/step - loss: 3.2481 - val_loss: 3.4472\n",
      "Epoch 167/200\n",
      "3/3 [==============================] - 0s 79ms/step - loss: 3.0946 - val_loss: 3.1567\n",
      "Epoch 168/200\n",
      "3/3 [==============================] - 0s 83ms/step - loss: 3.1100 - val_loss: 3.2567\n",
      "Epoch 169/200\n",
      "3/3 [==============================] - 0s 61ms/step - loss: 3.1401 - val_loss: 3.1458\n",
      "Epoch 170/200\n",
      "3/3 [==============================] - 0s 56ms/step - loss: 3.0123 - val_loss: 3.0882\n",
      "Epoch 171/200\n",
      "3/3 [==============================] - 0s 46ms/step - loss: 3.0480 - val_loss: 3.0791\n",
      "Epoch 172/200\n",
      "3/3 [==============================] - 0s 45ms/step - loss: 3.0060 - val_loss: 3.0780\n",
      "Epoch 173/200\n",
      "3/3 [==============================] - 0s 71ms/step - loss: 2.9785 - val_loss: 2.9379\n",
      "Epoch 174/200\n",
      "3/3 [==============================] - 0s 86ms/step - loss: 2.8675 - val_loss: 3.0597\n",
      "Epoch 175/200\n",
      "3/3 [==============================] - 0s 96ms/step - loss: 2.8939 - val_loss: 2.9923\n",
      "Epoch 176/200\n",
      "3/3 [==============================] - 0s 117ms/step - loss: 2.8876 - val_loss: 3.0000\n",
      "Epoch 177/200\n",
      "3/3 [==============================] - ETA: 0s - loss: 2.889 - 0s 90ms/step - loss: 2.9221 - val_loss: 2.9905\n",
      "Epoch 178/200\n",
      "3/3 [==============================] - 0s 93ms/step - loss: 2.9865 - val_loss: 3.1498\n",
      "Epoch 179/200\n",
      "3/3 [==============================] - 0s 94ms/step - loss: 3.1124 - val_loss: 3.1304\n",
      "Epoch 180/200\n",
      "3/3 [==============================] - 0s 88ms/step - loss: 3.0258 - val_loss: 2.9688\n",
      "Epoch 181/200\n",
      "3/3 [==============================] - 0s 102ms/step - loss: 2.9908 - val_loss: 3.1104\n",
      "Epoch 182/200\n",
      "3/3 [==============================] - 0s 63ms/step - loss: 3.3014 - val_loss: 3.5344\n",
      "Epoch 183/200\n",
      "3/3 [==============================] - 0s 115ms/step - loss: 3.4436 - val_loss: 3.7993\n",
      "Epoch 184/200\n",
      "3/3 [==============================] - 0s 97ms/step - loss: 3.4444 - val_loss: 3.3482\n",
      "Epoch 185/200\n",
      "3/3 [==============================] - 0s 103ms/step - loss: 3.2786 - val_loss: 3.1362\n",
      "Epoch 186/200\n",
      "3/3 [==============================] - 0s 82ms/step - loss: 2.9871 - val_loss: 3.0179\n",
      "Epoch 187/200\n",
      "3/3 [==============================] - ETA: 0s - loss: 2.910 - 0s 102ms/step - loss: 2.9953 - val_loss: 3.2879\n",
      "Epoch 188/200\n",
      "3/3 [==============================] - 0s 114ms/step - loss: 3.0950 - val_loss: 2.9613\n",
      "Epoch 189/200\n",
      "3/3 [==============================] - 0s 98ms/step - loss: 2.8826 - val_loss: 3.0797\n",
      "Epoch 190/200\n",
      "3/3 [==============================] - 0s 104ms/step - loss: 2.9757 - val_loss: 3.0369\n",
      "Epoch 191/200\n",
      "3/3 [==============================] - 0s 100ms/step - loss: 3.0383 - val_loss: 3.1346\n",
      "Epoch 192/200\n",
      "3/3 [==============================] - 0s 86ms/step - loss: 3.0179 - val_loss: 2.8994\n",
      "Epoch 193/200\n",
      "3/3 [==============================] - 0s 76ms/step - loss: 2.8034 - val_loss: 2.9773\n",
      "Epoch 194/200\n",
      "3/3 [==============================] - 0s 93ms/step - loss: 2.8930 - val_loss: 2.9879\n",
      "Epoch 195/200\n",
      "3/3 [==============================] - 0s 68ms/step - loss: 2.8529 - val_loss: 2.9722\n",
      "Epoch 196/200\n",
      "3/3 [==============================] - 0s 50ms/step - loss: 2.8162 - val_loss: 2.9259\n",
      "Epoch 197/200\n",
      "3/3 [==============================] - 0s 54ms/step - loss: 2.7877 - val_loss: 2.9081\n",
      "Epoch 198/200\n",
      "3/3 [==============================] - 0s 67ms/step - loss: 2.8255 - val_loss: 2.9584\n",
      "Epoch 199/200\n",
      "3/3 [==============================] - 0s 99ms/step - loss: 2.8457 - val_loss: 2.9339\n",
      "Epoch 200/200\n",
      "3/3 [==============================] - 0s 98ms/step - loss: 2.7822 - val_loss: 2.8864\n"
     ]
    }
   ],
   "source": [
    "history = model.fit(X_train, y_train, epochs=200,\n",
    "                    validation_data=(X_valid, y_valid))"
   ]
  },
  {
   "cell_type": "code",
   "execution_count": 65,
   "id": "0b29d35c",
   "metadata": {
    "scrolled": true
   },
   "outputs": [],
   "source": [
    "# history = model.fit(X_train, y_train, epochs=145,\n",
    "#                     validation_data=(X_valid, y_valid), callbacks=[lr_scheduler])"
   ]
  },
  {
   "cell_type": "code",
   "execution_count": 66,
   "id": "28215732",
   "metadata": {},
   "outputs": [
    {
     "data": {
      "image/png": "[encoded data removed]",
      "text/plain": [
       "<Figure size 576x360 with 1 Axes>"
      ]
     },
     "metadata": {
      "needs_background": "light"
     },
     "output_type": "display_data"
    }
   ],
   "source": [
    "import pandas as pd\n",
    "\n",
    "# print(history.history)\n",
    "try:\n",
    "    lr_list = history.history[\"lr\"]\n",
    "    del(history.history[\"lr\"])\n",
    "except:\n",
    "    pass\n",
    "\n",
    "pd.DataFrame(history.history)[50:].plot(figsize=(8, 5))\n",
    "plt.grid(True)\n",
    "# plt.gca().set_ylim(0, 1)\n",
    "plt.show()"
   ]
  },
  {
   "cell_type": "code",
   "execution_count": 67,
   "id": "47d362c9",
   "metadata": {
    "scrolled": true
   },
   "outputs": [
    {
     "name": "stdout",
     "output_type": "stream",
     "text": [
      "X.shape = (None, 1)\n",
      "gauss_grid.shape = (None, 5)\n"
     ]
    },
    {
     "data": {
      "image/png": "[encoded data removed]",
      "text/plain": [
       "<Figure size 432x288 with 1 Axes>"
      ]
     },
     "metadata": {
      "needs_background": "light"
     },
     "output_type": "display_data"
    }
   ],
   "source": [
    "plt.plot(X_train, y_train, \"b.\")\n",
    "draw_func((lambda X: model.predict(X)[:,0] ), mark='r-', linewidth=2, label=\"Predictions\")\n",
    "draw_normal_func(func_dict)\n",
    "plt.xlabel(\"$x_1$\", fontsize=18)\n",
    "plt.ylabel(\"$y$\", rotation=0, fontsize=18)\n",
    "plt.legend(loc=\"upper left\", fontsize=14)\n",
    "# plt.axis([-3, 3, 0, 10])\n",
    "plt.show()"
   ]
  },
  {
   "cell_type": "code",
   "execution_count": 68,
   "id": "a85a5159",
   "metadata": {},
   "outputs": [
    {
     "name": "stdout",
     "output_type": "stream",
     "text": [
      "y_func.shape = (100, 1)\n",
      "y_gt.shape = (100, 1)\n"
     ]
    },
    {
     "data": {
      "text/plain": [
       "5.794580414418331"
      ]
     },
     "execution_count": 68,
     "metadata": {},
     "output_type": "execute_result"
    }
   ],
   "source": [
    "get_prediction_error((lambda X: model.predict(X)[:,0] ), func_dict, name=\"grid-oneGaussian\")"
   ]
  },
  {
   "cell_type": "markdown",
   "id": "9ca1e36d",
   "metadata": {},
   "source": [
    "### Draw the 1-sigma boundary line"
   ]
  },
  {
   "cell_type": "code",
   "execution_count": 69,
   "id": "a04a47fa",
   "metadata": {},
   "outputs": [
    {
     "data": {
      "image/png": "[encoded data removed]",
      "text/plain": [
       "<Figure size 432x288 with 1 Axes>"
      ]
     },
     "metadata": {
      "needs_background": "light"
     },
     "output_type": "display_data"
    }
   ],
   "source": [
    "def n_sigma_boundary_line(X, n):\n",
    "    _y = model.predict(X)\n",
    "    _mean, _z = _y[:,0:1], _y[:,1:2]\n",
    "    _sigma = np.exp(alpha*_z)\n",
    "    return( _mean + n*_sigma)\n",
    "\n",
    "plt.plot(X_train, y_train, \"b.\")\n",
    "#\n",
    "draw_func((lambda X: model.predict(X)[:,0] ), mark='r-', linewidth=2, label=\"Predictions\")\n",
    "draw_func((lambda X: n_sigma_boundary_line(X, +1.0) ), mark='k--', linewidth=1, label=\"$\\mu+\\sigma$\")\n",
    "draw_func((lambda X: n_sigma_boundary_line(X, -1.0) ), mark='k--', linewidth=1, label=\"$\\mu-\\sigma$\")\n",
    "#\n",
    "draw_normal_func(func_dict)\n",
    "plt.xlabel(\"$x_1$\", fontsize=18)\n",
    "plt.ylabel(\"$y$\", rotation=0, fontsize=18)\n",
    "plt.legend(loc=\"upper left\", fontsize=14)\n",
    "# plt.axis([-3, 3, 0, 10])\n",
    "plt.show()"
   ]
  },
  {
   "cell_type": "code",
   "execution_count": null,
   "id": "a820404f",
   "metadata": {},
   "outputs": [],
   "source": []
  },
  {
   "cell_type": "markdown",
   "id": "82ec4fc4",
   "metadata": {},
   "source": [
    "# Summary"
   ]
  },
  {
   "cell_type": "code",
   "execution_count": 70,
   "id": "2d764d70",
   "metadata": {},
   "outputs": [
    {
     "name": "stdout",
     "output_type": "stream",
     "text": [
      "num-num: 6.127838\n",
      "grid-num: 4.337164\n",
      "grid-rbc: 3.860890\n",
      "grid-quantileR: 2.092243\n",
      "grid-oneGaussian: 5.794580\n"
     ]
    }
   ],
   "source": [
    "print_all_prediction_error()"
   ]
  },
  {
   "cell_type": "code",
   "execution_count": null,
   "id": "9f01e530",
   "metadata": {},
   "outputs": [],
   "source": []
  },
  {
   "cell_type": "code",
   "execution_count": null,
   "id": "0c3bdf42",
   "metadata": {},
   "outputs": [],
   "source": []
  }
 ],
 "metadata": {
  "kernelspec": {
   "display_name": "Python 3",
   "language": "python",
   "name": "python3"
  },
  "language_info": {
   "codemirror_mode": {
    "name": "ipython",
    "version": 3
   },
   "file_extension": ".py",
   "mimetype": "text/x-python",
   "name": "python",
   "nbconvert_exporter": "python",
   "pygments_lexer": "ipython3",
   "version": "3.6.9"
  }
 },
 "nbformat": 4,
 "nbformat_minor": 5
}
